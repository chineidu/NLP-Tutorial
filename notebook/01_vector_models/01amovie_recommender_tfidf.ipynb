{
 "cells": [
  {
   "attachments": {},
   "cell_type": "markdown",
   "metadata": {},
   "source": [
    "# Movie Recommender Using TF-IDF\n",
    "\n",
    "1. Vector Similarity\n",
    "2. TF-IDF"
   ]
  },
  {
   "cell_type": "code",
   "execution_count": 1,
   "metadata": {},
   "outputs": [],
   "source": [
    "# Standard imports\n",
    "import numpy as np\n",
    "from pprint import pprint\n",
    "import pandas as pd\n",
    "\n",
    "\n",
    "# Visualization\n",
    "import matplotlib.pyplot as plt\n",
    "import seaborn as sns\n",
    "\n",
    "# Sklearn\n",
    "from sklearn.model_selection import train_test_split\n",
    "\n",
    "# Built-in library\n",
    "import itertools\n",
    "import re\n",
    "import json\n",
    "from typing import Union, Optional, Any\n",
    "import warnings\n",
    "\n",
    "# pandas settings\n",
    "pd.options.display.max_rows = 1_000\n",
    "pd.options.display.max_columns = 1_000\n",
    "pd.options.display.max_colwidth = 600\n",
    "\n",
    "# Black code formatter (Optional)\n",
    "%load_ext lab_black\n",
    "# auto reload imports\n",
    "%load_ext autoreload\n",
    "%autoreload 2"
   ]
  },
  {
   "cell_type": "code",
   "execution_count": 2,
   "metadata": {},
   "outputs": [],
   "source": [
    "# Configure warnings and pther settings\n",
    "warnings.filterwarnings(\"ignore\")\n",
    "sns.set()\n",
    "\n",
    "\n",
    "def load_data(*, filename: str) -> pd.DataFrame:\n",
    "    \"\"\"This is used to load the data.\n",
    "\n",
    "    Params;\n",
    "        filename (str): The filepath.\n",
    "\n",
    "    Returns:\n",
    "        df (pd.DataFrame): The loaded dataframe.\n",
    "    \"\"\"\n",
    "    df = pd.read_csv(filename)\n",
    "    print(f\"Shape of df: {df.shape}\\n\")\n",
    "    return df"
   ]
  },
  {
   "cell_type": "code",
   "execution_count": null,
   "metadata": {},
   "outputs": [],
   "source": []
  },
  {
   "attachments": {},
   "cell_type": "markdown",
   "metadata": {},
   "source": [
    "<br>\n",
    "<hr>\n",
    "\n",
    "## Euclidean Distance [Wikipedia]([Wikipedia](https://en.wikipedia.org/wiki/Euclidean_distance))\n",
    "\n",
    "The `Euclidean distance` between two points in Euclidean space is the length of a line segment between the two points. It can be calculated from the Cartesian coordinates of the points using the Pythagorean theorem, therefore occasionally being called the Pythagorean distance.\n",
    "\n",
    "* The larger the distance, the more `dissimilar` the points/words are.\n",
    "\n",
    "$$\n",
    "|| x - y ||_2 = \\sqrt{(x_1 - x_2)^2 + (y_1 - y_2)^2 + ... + (x_d - x_d)^2 }\n",
    "$$\n",
    "\n",
    "## Cosine Similarity [Wikipedia](https://en.wikipedia.org/wiki/Cosine_similarity)\n",
    "\n",
    "`Cosine similarity` is a measure of similarity between two sequences of numbers. For defining it, the sequences are viewed as vectors in an inner product space, and the ***cosine similarity is defined as the cosine of the angle between them***, that is, the dot product of the vectors divided by the product of their lengths. \n",
    "\n",
    "$$\n",
    "x^T*y = ||x||_2 * ||y||_2 * cos\\theta\n",
    "$$\n",
    "\n",
    "$$\n",
    "cos\\theta = \\frac{A.B}{||A|| ||B||} = \\frac{\\sum_{i=1}^n{A_iB_i}}{\\sqrt{\\sum_{i=1}^n{A_i^2}}\\sqrt{\\sum_{i=1}^n{B_i^2}}}\n",
    "$$\n",
    "\n",
    "It follows that the cosine similarity does not depend on the magnitudes of the vectors, but only on their angle. The cosine similarity always belongs to the interval \n",
    "[-1,1]. i.e `-1` is the minimum value while `1` is the maximum value.\n",
    "\n",
    "For example, two proportional vectors have a cosine similarity of 1, two orthogonal vectors have a similarity of 0, and two opposite vectors have a similarity of -1. The cosine similarity is particularly used in positive space, where the outcome is neatly bounded in [0,1]\n",
    "\n",
    "<br>\n",
    "\n",
    "## Cosine Distance\n",
    "\n",
    "$$\n",
    "\\mathbf{Cosine Distance}  = 1 - \\mathbf{Cosine Similarity}\n",
    "$$\n",
    "\n",
    "* The minimum cosine distance is `0` while the maximum distance is `2`\n",
    "\n",
    "\n",
    "### Note:\n",
    "\n",
    "* The `Cosine distance` is not a proper distance metric because it does not have the triangle inequality property.\n",
    "* It's better to use `Cosine distance` instead od `Euclidean distance`.\n",
    "\n",
    "<br>\n",
    "\n",
    "\n",
    "## TF-IDF (Term Frequency Inverse Document Frequency)\n",
    "The term `Term Frequency Inverse Document Frequency` refers to a numerical statistic that indicates how important a word is to a document in a collection or corpus. It is often used as a weighting factor in searches of information retrieval, text mining, and user modeling. \n",
    "\n",
    "The `tf-idf ` value increases proportionally to the number of times a word appears in the document and is offset by the number of documents in the corpus that contain the word, which helps to account for the fact that some words appear more frequently in general.\n",
    "\n"
   ]
  },
  {
   "cell_type": "code",
   "execution_count": null,
   "metadata": {},
   "outputs": [],
   "source": []
  },
  {
   "attachments": {},
   "cell_type": "markdown",
   "metadata": {},
   "source": [
    "## Exercise\n",
    "\n",
    "* Build a movie recommender system that recommends the top 5 most similar movies based on a queried movie.\n",
    "* Hint:\n",
    "  * Calculate the tfidf value of the queried movie\n",
    "  * Compute the similarity between the queried movie and all other movies in the DB.\n",
    "  * Sort by the similarity.\n",
    "  * Select the top 5 mos similar movie."
   ]
  },
  {
   "cell_type": "code",
   "execution_count": 3,
   "metadata": {},
   "outputs": [
    {
     "name": "stdout",
     "output_type": "stream",
     "text": [
      "Shape of df: (4803, 20)\n",
      "\n"
     ]
    },
    {
     "data": {
      "text/html": [
       "<div>\n",
       "<style scoped>\n",
       "    .dataframe tbody tr th:only-of-type {\n",
       "        vertical-align: middle;\n",
       "    }\n",
       "\n",
       "    .dataframe tbody tr th {\n",
       "        vertical-align: top;\n",
       "    }\n",
       "\n",
       "    .dataframe thead th {\n",
       "        text-align: right;\n",
       "    }\n",
       "</style>\n",
       "<table border=\"1\" class=\"dataframe\">\n",
       "  <thead>\n",
       "    <tr style=\"text-align: right;\">\n",
       "      <th></th>\n",
       "      <th>budget</th>\n",
       "      <th>genres</th>\n",
       "      <th>homepage</th>\n",
       "      <th>id</th>\n",
       "      <th>keywords</th>\n",
       "      <th>original_language</th>\n",
       "      <th>original_title</th>\n",
       "      <th>overview</th>\n",
       "      <th>popularity</th>\n",
       "      <th>production_companies</th>\n",
       "      <th>production_countries</th>\n",
       "      <th>release_date</th>\n",
       "      <th>revenue</th>\n",
       "      <th>runtime</th>\n",
       "      <th>spoken_languages</th>\n",
       "      <th>status</th>\n",
       "      <th>tagline</th>\n",
       "      <th>title</th>\n",
       "      <th>vote_average</th>\n",
       "      <th>vote_count</th>\n",
       "    </tr>\n",
       "  </thead>\n",
       "  <tbody>\n",
       "    <tr>\n",
       "      <th>0</th>\n",
       "      <td>237000000</td>\n",
       "      <td>[{\"id\": 28, \"name\": \"Action\"}, {\"id\": 12, \"name\": \"Adventure\"}, {\"id\": 14, \"name\": \"Fantasy\"}, {\"id\": 878, \"name\": \"Science Fiction\"}]</td>\n",
       "      <td>http://www.avatarmovie.com/</td>\n",
       "      <td>19995</td>\n",
       "      <td>[{\"id\": 1463, \"name\": \"culture clash\"}, {\"id\": 2964, \"name\": \"future\"}, {\"id\": 3386, \"name\": \"space war\"}, {\"id\": 3388, \"name\": \"space colony\"}, {\"id\": 3679, \"name\": \"society\"}, {\"id\": 3801, \"name\": \"space travel\"}, {\"id\": 9685, \"name\": \"futuristic\"}, {\"id\": 9840, \"name\": \"romance\"}, {\"id\": 9882, \"name\": \"space\"}, {\"id\": 9951, \"name\": \"alien\"}, {\"id\": 10148, \"name\": \"tribe\"}, {\"id\": 10158, \"name\": \"alien planet\"}, {\"id\": 10987, \"name\": \"cgi\"}, {\"id\": 11399, \"name\": \"marine\"}, {\"id\": 13065, \"name\": \"soldier\"}, {\"id\": 14643, \"name\": \"battle\"}, {\"id\": 14720, \"name\": \"love affair\"}, {\"id\": 165...</td>\n",
       "      <td>en</td>\n",
       "      <td>Avatar</td>\n",
       "      <td>In the 22nd century, a paraplegic Marine is dispatched to the moon Pandora on a unique mission, but becomes torn between following orders and protecting an alien civilization.</td>\n",
       "      <td>150.437577</td>\n",
       "      <td>[{\"name\": \"Ingenious Film Partners\", \"id\": 289}, {\"name\": \"Twentieth Century Fox Film Corporation\", \"id\": 306}, {\"name\": \"Dune Entertainment\", \"id\": 444}, {\"name\": \"Lightstorm Entertainment\", \"id\": 574}]</td>\n",
       "      <td>[{\"iso_3166_1\": \"US\", \"name\": \"United States of America\"}, {\"iso_3166_1\": \"GB\", \"name\": \"United Kingdom\"}]</td>\n",
       "      <td>2009-12-10</td>\n",
       "      <td>2787965087</td>\n",
       "      <td>162.0</td>\n",
       "      <td>[{\"iso_639_1\": \"en\", \"name\": \"English\"}, {\"iso_639_1\": \"es\", \"name\": \"Espa\\u00f1ol\"}]</td>\n",
       "      <td>Released</td>\n",
       "      <td>Enter the World of Pandora.</td>\n",
       "      <td>Avatar</td>\n",
       "      <td>7.2</td>\n",
       "      <td>11800</td>\n",
       "    </tr>\n",
       "  </tbody>\n",
       "</table>\n",
       "</div>"
      ],
      "text/plain": [
       "      budget  \\\n",
       "0  237000000   \n",
       "\n",
       "                                                                                                                                   genres  \\\n",
       "0  [{\"id\": 28, \"name\": \"Action\"}, {\"id\": 12, \"name\": \"Adventure\"}, {\"id\": 14, \"name\": \"Fantasy\"}, {\"id\": 878, \"name\": \"Science Fiction\"}]   \n",
       "\n",
       "                      homepage     id  \\\n",
       "0  http://www.avatarmovie.com/  19995   \n",
       "\n",
       "                                                                                                                                                                                                                                                                                                                                                                                                                                                                                                                                                                                                                  keywords  \\\n",
       "0  [{\"id\": 1463, \"name\": \"culture clash\"}, {\"id\": 2964, \"name\": \"future\"}, {\"id\": 3386, \"name\": \"space war\"}, {\"id\": 3388, \"name\": \"space colony\"}, {\"id\": 3679, \"name\": \"society\"}, {\"id\": 3801, \"name\": \"space travel\"}, {\"id\": 9685, \"name\": \"futuristic\"}, {\"id\": 9840, \"name\": \"romance\"}, {\"id\": 9882, \"name\": \"space\"}, {\"id\": 9951, \"name\": \"alien\"}, {\"id\": 10148, \"name\": \"tribe\"}, {\"id\": 10158, \"name\": \"alien planet\"}, {\"id\": 10987, \"name\": \"cgi\"}, {\"id\": 11399, \"name\": \"marine\"}, {\"id\": 13065, \"name\": \"soldier\"}, {\"id\": 14643, \"name\": \"battle\"}, {\"id\": 14720, \"name\": \"love affair\"}, {\"id\": 165...   \n",
       "\n",
       "  original_language original_title  \\\n",
       "0                en         Avatar   \n",
       "\n",
       "                                                                                                                                                                          overview  \\\n",
       "0  In the 22nd century, a paraplegic Marine is dispatched to the moon Pandora on a unique mission, but becomes torn between following orders and protecting an alien civilization.   \n",
       "\n",
       "   popularity  \\\n",
       "0  150.437577   \n",
       "\n",
       "                                                                                                                                                                                          production_companies  \\\n",
       "0  [{\"name\": \"Ingenious Film Partners\", \"id\": 289}, {\"name\": \"Twentieth Century Fox Film Corporation\", \"id\": 306}, {\"name\": \"Dune Entertainment\", \"id\": 444}, {\"name\": \"Lightstorm Entertainment\", \"id\": 574}]   \n",
       "\n",
       "                                                                                         production_countries  \\\n",
       "0  [{\"iso_3166_1\": \"US\", \"name\": \"United States of America\"}, {\"iso_3166_1\": \"GB\", \"name\": \"United Kingdom\"}]   \n",
       "\n",
       "  release_date     revenue  runtime  \\\n",
       "0   2009-12-10  2787965087    162.0   \n",
       "\n",
       "                                                                        spoken_languages  \\\n",
       "0  [{\"iso_639_1\": \"en\", \"name\": \"English\"}, {\"iso_639_1\": \"es\", \"name\": \"Espa\\u00f1ol\"}]   \n",
       "\n",
       "     status                      tagline   title  vote_average  vote_count  \n",
       "0  Released  Enter the World of Pandora.  Avatar           7.2       11800  "
      ]
     },
     "execution_count": 3,
     "metadata": {},
     "output_type": "execute_result"
    }
   ],
   "source": [
    "from sklearn.feature_extraction.text import TfidfVectorizer\n",
    "from sklearn.metrics.pairwise import cosine_similarity, euclidean_distances\n",
    "\n",
    "\n",
    "movies_db = load_data(filename=\"../../data/tmdb_5000_movies.csv\")\n",
    "movies_db.head(1)"
   ]
  },
  {
   "cell_type": "code",
   "execution_count": 4,
   "metadata": {},
   "outputs": [],
   "source": [
    "def extract_values(input_: str) -> str:\n",
    "    \"\"\"This returns the extracted values as a string from a list of dict.\n",
    "\n",
    "    Params:\n",
    "        input_ (str): A string containing a list of key-value pairs.\n",
    "\n",
    "    Returns:\n",
    "        result (str): A string containing the extracted values.\n",
    "    \"\"\"\n",
    "    input_ = json.loads(input_)\n",
    "    extracted_values = []\n",
    "    for row in input_:\n",
    "        val = row.get(\"name\")\n",
    "        if len(val.split()) == 1:\n",
    "            extracted_values.append(val)\n",
    "            # if the val is a 2-word genre i.e \"Science Fiction\"\n",
    "        elif len(val.split()) > 1:\n",
    "            extracted_values.append(\"\".join(val.split()))\n",
    "    result = \" \".join(extracted_values)\n",
    "    return result\n",
    "\n",
    "\n",
    "def concat_columns(col_a: str, col_b: str) -> str:\n",
    "    \"\"\"This returns a concatenated string.\n",
    "\n",
    "    Params:\n",
    "        col_a (str): The 1st column.\n",
    "        col_b (str): The 2nd column.\n",
    "\n",
    "    Returns:\n",
    "        result (str): The concatenated string.\n",
    "    \"\"\"\n",
    "    result = f\"{col_a} {col_b}\"\n",
    "    return result"
   ]
  },
  {
   "cell_type": "code",
   "execution_count": 5,
   "metadata": {},
   "outputs": [
    {
     "data": {
      "text/plain": [
       "'[{\"id\": 28, \"name\": \"Action\"}, {\"id\": 12, \"name\": \"Adventure\"}, {\"id\": 14, \"name\": \"Fantasy\"}, {\"id\": 878, \"name\": \"Science Fiction\"}]'"
      ]
     },
     "execution_count": 5,
     "metadata": {},
     "output_type": "execute_result"
    }
   ],
   "source": [
    "genre = movies_db[\"genres\"].iat[0]\n",
    "genre"
   ]
  },
  {
   "cell_type": "code",
   "execution_count": 6,
   "metadata": {},
   "outputs": [
    {
     "data": {
      "text/plain": [
       "'Science Fiction'"
      ]
     },
     "execution_count": 6,
     "metadata": {},
     "output_type": "execute_result"
    }
   ],
   "source": [
    "\"\".join(\"Science Fiction\")"
   ]
  },
  {
   "cell_type": "code",
   "execution_count": 7,
   "metadata": {},
   "outputs": [
    {
     "data": {
      "text/plain": [
       "'Action Adventure Fantasy ScienceFiction'"
      ]
     },
     "execution_count": 7,
     "metadata": {},
     "output_type": "execute_result"
    }
   ],
   "source": [
    "extract_values(input_=genre)"
   ]
  },
  {
   "cell_type": "code",
   "execution_count": 8,
   "metadata": {},
   "outputs": [
    {
     "data": {
      "text/plain": [
       "'[{\"id\": 1463, \"name\": \"culture clash\"}, {\"id\": 2964, \"name\": \"future\"}, {\"id\": 3386, \"name\": \"space war\"}, {\"id\": 3388, \"name\": \"space colony\"}, {\"id\": 3679, \"name\": \"society\"}, {\"id\": 3801, \"name\": \"space travel\"}, {\"id\": 9685, \"name\": \"futuristic\"}, {\"id\": 9840, \"name\": \"romance\"}, {\"id\": 9882, \"name\": \"space\"}, {\"id\": 9951, \"name\": \"alien\"}, {\"id\": 10148, \"name\": \"tribe\"}, {\"id\": 10158, \"name\": \"alien planet\"}, {\"id\": 10987, \"name\": \"cgi\"}, {\"id\": 11399, \"name\": \"marine\"}, {\"id\": 13065, \"name\": \"soldier\"}, {\"id\": 14643, \"name\": \"battle\"}, {\"id\": 14720, \"name\": \"love affair\"}, {\"id\": 165431, \"name\": \"anti war\"}, {\"id\": 193554, \"name\": \"power relations\"}, {\"id\": 206690, \"name\": \"mind and soul\"}, {\"id\": 209714, \"name\": \"3d\"}]'"
      ]
     },
     "execution_count": 8,
     "metadata": {},
     "output_type": "execute_result"
    }
   ],
   "source": [
    "keywords = movies_db[\"keywords\"].iat[0]\n",
    "keywords"
   ]
  },
  {
   "cell_type": "code",
   "execution_count": 9,
   "metadata": {},
   "outputs": [
    {
     "data": {
      "text/plain": [
       "'cultureclash future spacewar spacecolony society spacetravel futuristic romance space alien tribe alienplanet cgi marine soldier battle loveaffair antiwar powerrelations mindandsoul 3d'"
      ]
     },
     "execution_count": 9,
     "metadata": {},
     "output_type": "execute_result"
    }
   ],
   "source": [
    "extract_values(input_=keywords)"
   ]
  },
  {
   "cell_type": "code",
   "execution_count": 10,
   "metadata": {},
   "outputs": [
    {
     "data": {
      "text/html": [
       "<div>\n",
       "<style scoped>\n",
       "    .dataframe tbody tr th:only-of-type {\n",
       "        vertical-align: middle;\n",
       "    }\n",
       "\n",
       "    .dataframe tbody tr th {\n",
       "        vertical-align: top;\n",
       "    }\n",
       "\n",
       "    .dataframe thead th {\n",
       "        text-align: right;\n",
       "    }\n",
       "</style>\n",
       "<table border=\"1\" class=\"dataframe\">\n",
       "  <thead>\n",
       "    <tr style=\"text-align: right;\">\n",
       "      <th></th>\n",
       "      <th>id</th>\n",
       "      <th>genres</th>\n",
       "      <th>keywords</th>\n",
       "      <th>title</th>\n",
       "      <th>feature</th>\n",
       "    </tr>\n",
       "  </thead>\n",
       "  <tbody>\n",
       "    <tr>\n",
       "      <th>0</th>\n",
       "      <td>19995</td>\n",
       "      <td>Action Adventure Fantasy ScienceFiction</td>\n",
       "      <td>cultureclash future spacewar spacecolony society spacetravel futuristic romance space alien tribe alienplanet cgi marine soldier battle loveaffair antiwar powerrelations mindandsoul 3d</td>\n",
       "      <td>Avatar</td>\n",
       "      <td>Action Adventure Fantasy ScienceFiction cultureclash future spacewar spacecolony society spacetravel futuristic romance space alien tribe alienplanet cgi marine soldier battle loveaffair antiwar powerrelations mindandsoul 3d</td>\n",
       "    </tr>\n",
       "  </tbody>\n",
       "</table>\n",
       "</div>"
      ],
      "text/plain": [
       "      id                                   genres  \\\n",
       "0  19995  Action Adventure Fantasy ScienceFiction   \n",
       "\n",
       "                                                                                                                                                                                   keywords  \\\n",
       "0  cultureclash future spacewar spacecolony society spacetravel futuristic romance space alien tribe alienplanet cgi marine soldier battle loveaffair antiwar powerrelations mindandsoul 3d   \n",
       "\n",
       "    title  \\\n",
       "0  Avatar   \n",
       "\n",
       "                                                                                                                                                                                                                            feature  \n",
       "0  Action Adventure Fantasy ScienceFiction cultureclash future spacewar spacecolony society spacetravel futuristic romance space alien tribe alienplanet cgi marine soldier battle loveaffair antiwar powerrelations mindandsoul 3d  "
      ]
     },
     "execution_count": 10,
     "metadata": {},
     "output_type": "execute_result"
    }
   ],
   "source": [
    "movies = movies_db[[\"id\", \"genres\", \"keywords\", \"title\"]]\n",
    "movies = movies.assign(\n",
    "    genres=lambda x: x[\"genres\"].apply(extract_values),\n",
    "    keywords=lambda x: x[\"keywords\"].apply(extract_values),\n",
    ")\n",
    "# Concat the columns\n",
    "movies[\"feature\"] = movies.apply(\n",
    "    lambda x: concat_columns(x[\"genres\"], x[\"keywords\"]), axis=\"columns\"\n",
    ")\n",
    "\n",
    "movies.head(1)"
   ]
  },
  {
   "cell_type": "code",
   "execution_count": 11,
   "metadata": {},
   "outputs": [
    {
     "data": {
      "text/plain": [
       "(4803, 5000)"
      ]
     },
     "execution_count": 11,
     "metadata": {},
     "output_type": "execute_result"
    }
   ],
   "source": [
    "X = movies[\"feature\"]\n",
    "tfidf = TfidfVectorizer(max_features=5_000)\n",
    "X_tr = tfidf.fit_transform(X)\n",
    "X_tr.shape"
   ]
  },
  {
   "cell_type": "code",
   "execution_count": 12,
   "metadata": {},
   "outputs": [
    {
     "data": {
      "text/plain": [
       "title\n",
       "Edmond                      3109\n",
       "Mulan                        352\n",
       "Beyond the Black Rainbow    4325\n",
       "Think Like a Man            2813\n",
       "Treading Water              3691\n",
       "Hoodwinked!                 2396\n",
       "The Horse Boy               4706\n",
       "Bad Grandpa                 2528\n",
       "Give Me Shelter             4660\n",
       "Predators                   1201\n",
       "dtype: int64"
      ]
     },
     "execution_count": 12,
     "metadata": {},
     "output_type": "execute_result"
    }
   ],
   "source": [
    "# Swap the indices with the titles.\n",
    "# i.e use the titles as indices.\n",
    "movie_2_idx = pd.Series(data=movies.index, index=movies[\"title\"])\n",
    "\n",
    "movie_2_idx.sample(n=10)"
   ]
  },
  {
   "cell_type": "code",
   "execution_count": 13,
   "metadata": {},
   "outputs": [
    {
     "data": {
      "text/plain": [
       "64"
      ]
     },
     "execution_count": 13,
     "metadata": {},
     "output_type": "execute_result"
    }
   ],
   "source": [
    "# movie title\n",
    "m_title = \"X-Men: Apocalypse\"\n",
    "# Get the index\n",
    "idx = movie_2_idx.loc[m_title]\n",
    "idx"
   ]
  },
  {
   "cell_type": "code",
   "execution_count": 14,
   "metadata": {},
   "outputs": [
    {
     "data": {
      "text/plain": [
       "<1x5000 sparse matrix of type '<class 'numpy.float64'>'\n",
       "\twith 11 stored elements in Compressed Sparse Row format>"
      ]
     },
     "execution_count": 14,
     "metadata": {},
     "output_type": "execute_result"
    }
   ],
   "source": [
    "query = X_tr[idx]\n",
    "query"
   ]
  },
  {
   "cell_type": "code",
   "execution_count": 15,
   "metadata": {},
   "outputs": [
    {
     "data": {
      "text/plain": [
       "array([[0., 0., 0., ..., 0., 0., 0.]])"
      ]
     },
     "execution_count": 15,
     "metadata": {},
     "output_type": "execute_result"
    }
   ],
   "source": [
    "query.toarray()"
   ]
  },
  {
   "cell_type": "code",
   "execution_count": 16,
   "metadata": {},
   "outputs": [
    {
     "data": {
      "text/plain": [
       "array([[0.01561882, 0.03213939, 0.        , ..., 0.        , 0.        ,\n",
       "        0.        ]])"
      ]
     },
     "execution_count": 16,
     "metadata": {},
     "output_type": "execute_result"
    }
   ],
   "source": [
    "# Compute Cosine similarity\n",
    "sim = cosine_similarity(query, X_tr)\n",
    "sim"
   ]
  },
  {
   "cell_type": "code",
   "execution_count": 17,
   "metadata": {},
   "outputs": [
    {
     "data": {
      "text/plain": [
       "array([0.01561882, 0.03213939, 0.        , ..., 0.        , 0.        ,\n",
       "       0.        ])"
      ]
     },
     "execution_count": 17,
     "metadata": {},
     "output_type": "execute_result"
    }
   ],
   "source": [
    "# Flatten to array to a 1-D array\n",
    "sim = sim.flatten()\n",
    "sim"
   ]
  },
  {
   "cell_type": "code",
   "execution_count": 18,
   "metadata": {},
   "outputs": [
    {
     "data": {
      "text/plain": [
       "[<matplotlib.lines.Line2D at 0x7f95815490c0>]"
      ]
     },
     "execution_count": 18,
     "metadata": {},
     "output_type": "execute_result"
    },
    {
     "data": {
      "image/png": "[encoded data removed]",
      "text/plain": [
       "<Figure size 640x480 with 1 Axes>"
      ]
     },
     "metadata": {},
     "output_type": "display_data"
    }
   ],
   "source": [
    "plt.plot(sim)"
   ]
  },
  {
   "cell_type": "code",
   "execution_count": 19,
   "metadata": {},
   "outputs": [
    {
     "data": {
      "text/plain": [
       "(array([2401, 3112, 3113, ...,  203,  511,   64]),\n",
       " array([  64,  511,  203, ..., 1870, 1855, 4802]))"
      ]
     },
     "execution_count": 19,
     "metadata": {},
     "output_type": "execute_result"
    }
   ],
   "source": [
    "# Sort the array using the indices. Reverse the sorted array\n",
    "sim.argsort(), (-sim).argsort()"
   ]
  },
  {
   "cell_type": "code",
   "execution_count": 20,
   "metadata": {},
   "outputs": [
    {
     "data": {
      "image/png": "[encoded data removed]",
      "text/plain": [
       "<Figure size 640x480 with 1 Axes>"
      ]
     },
     "metadata": {},
     "output_type": "display_data"
    }
   ],
   "source": [
    "plt.plot(sim[(-sim).argsort()[1:6]])\n",
    "plt.title(\"The Cosine Similarity of The Top 5 Most Similar Movies\", size=14)\n",
    "plt.show()"
   ]
  },
  {
   "cell_type": "code",
   "execution_count": 21,
   "metadata": {},
   "outputs": [
    {
     "data": {
      "text/plain": [
       "array([511, 203,  33, 232,  16])"
      ]
     },
     "execution_count": 21,
     "metadata": {},
     "output_type": "execute_result"
    }
   ],
   "source": [
    "# Get the indices of the top 5 most similar movies.\n",
    "# Slice from 1 to avoid selecting the actual queried movie.\n",
    "rec_idx = (-sim).argsort()[1:6]\n",
    "rec_idx"
   ]
  },
  {
   "cell_type": "code",
   "execution_count": 22,
   "metadata": {},
   "outputs": [
    {
     "data": {
      "text/plain": [
       "title\n",
       "X-Men                    511\n",
       "X2                       203\n",
       "X-Men: The Last Stand     33\n",
       "The Wolverine            232\n",
       "The Avengers              16\n",
       "dtype: int64"
      ]
     },
     "execution_count": 22,
     "metadata": {},
     "output_type": "execute_result"
    }
   ],
   "source": [
    "# Display the recommended movies\n",
    "movie_2_idx.iloc[rec_idx]"
   ]
  },
  {
   "cell_type": "code",
   "execution_count": null,
   "metadata": {},
   "outputs": [],
   "source": []
  },
  {
   "attachments": {},
   "cell_type": "markdown",
   "metadata": {},
   "source": [
    "### Putting It All Together"
   ]
  },
  {
   "cell_type": "code",
   "execution_count": 23,
   "metadata": {},
   "outputs": [],
   "source": [
    "def preprocess_data(*, db: pd.DataFrame) -> pd.DataFrame:\n",
    "    \"\"\"This is used to prepare the data.\"\"\"\n",
    "    db = db.copy()\n",
    "    columns = [\"genres\", \"keywords\", \"title\"]\n",
    "    db = db[columns]  # Select relevant columns\n",
    "    # Preprocess data\n",
    "    db = db.assign(\n",
    "        genres=lambda x: x[\"genres\"].apply(extract_values),\n",
    "        keywords=lambda x: x[\"keywords\"].apply(extract_values),\n",
    "    )\n",
    "\n",
    "    db = db.assign(\n",
    "        preprocessed_feature=db.apply(\n",
    "            lambda x: concat_columns(x[\"genres\"], x[\"keywords\"]), axis=\"columns\"\n",
    "        )\n",
    "    )\n",
    "\n",
    "    return db\n",
    "\n",
    "\n",
    "def get_tfidf(*, cleaned_data: pd.DataFrame, max_features: int) -> np.ndarray:\n",
    "    \"\"\"This calculates the tf-idf of the data.\"\"\"\n",
    "    feature = cleaned_data.columns[-1]\n",
    "    tfidf = TfidfVectorizer(stop_words=\"english\", max_features=max_features)\n",
    "    X_tr = tfidf.fit_transform(cleaned_data[feature])\n",
    "    return X_tr\n",
    "\n",
    "\n",
    "def get_movie_index_series(*, db: pd.DataFrame) -> pd.Series:\n",
    "    \"\"\"This resturns a Pandas Series containing the index of the movies\n",
    "    and the movie titles.\"\"\"\n",
    "    index_series = pd.Series(db.index, index=db[\"title\"])\n",
    "    return index_series\n",
    "\n",
    "\n",
    "def select_n_movies(\n",
    "    *, index_series: pd.Series, similarity: np.ndarray, n: int = 5\n",
    ") -> list:\n",
    "    \"\"\"This selects the `n` top movies.\"\"\"\n",
    "    # Select the movies and convert to a list\n",
    "    result = index_series.iloc[(-similarity).argsort()[1 : n + 1]].index\n",
    "    result = list(result)\n",
    "    return result"
   ]
  },
  {
   "cell_type": "code",
   "execution_count": 24,
   "metadata": {},
   "outputs": [],
   "source": [
    "def movie_recommender(*, db: pd.DataFrame, movie_title: str) -> list:\n",
    "    \"\"\"This returns a list of 5 most similar movies.\"\"\"\n",
    "    processed_data = preprocess_data(db=db)\n",
    "    X_tfidf = get_tfidf(cleaned_data=processed_data, max_features=5_000)\n",
    "    # Obtain Series containing movie index and movie titles\n",
    "    index_series = get_movie_index_series(db=processed_data)\n",
    "    query_idx = index_series.loc[movie_title]  # Index of the queried movie\n",
    "    # Calculate TFIDF of queried movie\n",
    "    query_tfidf = X_tfidf[query_idx]\n",
    "    # Calculate similarity\n",
    "    similarity = cosine_similarity(X=query_tfidf, Y=X_tfidf)\n",
    "    # Flatten the similarity (i.e convert to 1-D)\n",
    "    similarity = similarity.flatten()\n",
    "    rec_movies = select_n_movies(index_series=index_series, similarity=similarity, n=5)\n",
    "    return {\"recommended_movies\": rec_movies}"
   ]
  },
  {
   "cell_type": "code",
   "execution_count": 25,
   "metadata": {},
   "outputs": [
    {
     "data": {
      "text/plain": [
       "{'recommended_movies': ['Spaced Invaders',\n",
       "  'My Favorite Martian',\n",
       "  'The Last Days on Mars',\n",
       "  'Guiana 1838',\n",
       "  'Mission to Mars']}"
      ]
     },
     "execution_count": 25,
     "metadata": {},
     "output_type": "execute_result"
    }
   ],
   "source": [
    "movie_title = \"John Carter\"\n",
    "\n",
    "movie_recommender(db=movies_db, movie_title=movie_title)"
   ]
  },
  {
   "cell_type": "code",
   "execution_count": null,
   "metadata": {},
   "outputs": [],
   "source": []
  },
  {
   "cell_type": "code",
   "execution_count": null,
   "metadata": {},
   "outputs": [],
   "source": []
  },
  {
   "cell_type": "code",
   "execution_count": null,
   "metadata": {},
   "outputs": [],
   "source": []
  }
 ],
 "metadata": {
  "kernelspec": {
   "display_name": "nlp_p310",
   "language": "python",
   "name": "python3"
  },
  "language_info": {
   "codemirror_mode": {
    "name": "ipython",
    "version": 3
   },
   "file_extension": ".py",
   "mimetype": "text/x-python",
   "name": "python",
   "nbconvert_exporter": "python",
   "pygments_lexer": "ipython3",
   "version": "3.10.9"
  },
  "orig_nbformat": 4,
  "vscode": {
   "interpreter": {
    "hash": "5c160606400bd63443fe4361c23f8347e54b6f9986e7c6d27e878f1970943f47"
   }
  }
 },
 "nbformat": 4,
 "nbformat_minor": 2
}
