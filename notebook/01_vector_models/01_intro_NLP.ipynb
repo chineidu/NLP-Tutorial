{
 "cells": [
  {
   "attachments": {},
   "cell_type": "markdown",
   "metadata": {},
   "source": [
    "# INTRODUCTION TO NLP\n",
    "\n",
    "1. Bag of words.\n",
    "2. Count Vectorizer.\n",
    "3. Tokenization.\n",
    "4. Stopwords.\n",
    "5. Stemming and Lemmatization.\n",
    "6. Vector Similarity\n",
    "7. TF-IDF"
   ]
  },
  {
   "cell_type": "code",
   "execution_count": 1,
   "metadata": {},
   "outputs": [],
   "source": [
    "# Standard imports\n",
    "import numpy as np\n",
    "from pprint import pprint\n",
    "import pandas as pd\n",
    "\n",
    "\n",
    "# Visualization\n",
    "import matplotlib.pyplot as plt\n",
    "import seaborn as sns\n",
    "\n",
    "# Sklearn\n",
    "from sklearn.model_selection import train_test_split\n",
    "\n",
    "# Built-in library\n",
    "import itertools\n",
    "import re\n",
    "import json\n",
    "from typing import Union, Optional, Any\n",
    "import warnings\n",
    "\n",
    "# pandas settings\n",
    "pd.options.display.max_rows = 1_000\n",
    "pd.options.display.max_columns = 1_000\n",
    "pd.options.display.max_colwidth = 600\n",
    "\n",
    "# Black code formatter (Optional)\n",
    "%load_ext lab_black\n",
    "# auto reload imports\n",
    "%load_ext autoreload\n",
    "%autoreload 2"
   ]
  },
  {
   "cell_type": "code",
   "execution_count": 2,
   "metadata": {},
   "outputs": [],
   "source": [
    "# Configure warnings and pther settings\n",
    "warnings.filterwarnings(\"ignore\")\n",
    "sns.set()\n",
    "\n",
    "\n",
    "def load_data(*, filename: str) -> pd.DataFrame:\n",
    "    \"\"\"This is used to load the data.\n",
    "\n",
    "    Params;\n",
    "        filename (str): The filepath.\n",
    "\n",
    "    Returns:\n",
    "        df (pd.DataFrame): The loaded dataframe.\n",
    "    \"\"\"\n",
    "    df = pd.read_csv(filename)\n",
    "    print(f\"Shape of df: {df.shape}\\n\")\n",
    "    return df"
   ]
  },
  {
   "attachments": {},
   "cell_type": "markdown",
   "metadata": {},
   "source": [
    "### Implement Count Vectorizer"
   ]
  },
  {
   "cell_type": "code",
   "execution_count": 3,
   "metadata": {},
   "outputs": [
    {
     "name": "stdout",
     "output_type": "stream",
     "text": [
      "Shape of df: (2225, 2)\n",
      "\n"
     ]
    },
    {
     "data": {
      "text/html": [
       "<div>\n",
       "<style scoped>\n",
       "    .dataframe tbody tr th:only-of-type {\n",
       "        vertical-align: middle;\n",
       "    }\n",
       "\n",
       "    .dataframe tbody tr th {\n",
       "        vertical-align: top;\n",
       "    }\n",
       "\n",
       "    .dataframe thead th {\n",
       "        text-align: right;\n",
       "    }\n",
       "</style>\n",
       "<table border=\"1\" class=\"dataframe\">\n",
       "  <thead>\n",
       "    <tr style=\"text-align: right;\">\n",
       "      <th></th>\n",
       "      <th>text</th>\n",
       "      <th>labels</th>\n",
       "    </tr>\n",
       "  </thead>\n",
       "  <tbody>\n",
       "    <tr>\n",
       "      <th>0</th>\n",
       "      <td>Ad sales boost Time Warner profit\\n\\nQuarterly profits at US media giant TimeWarner jumped 76% to $1.13bn (£600m) for the three months to December, from $639m year-earlier.\\n\\nThe firm, which is now one of the biggest investors in Google, benefited from sales of high-speed internet connections and higher advert sales. TimeWarner said fourth quarter sales rose 2% to $11.1bn from $10.9bn. Its profits were buoyed by one-off gains which offset a profit dip at Warner Bros, and less users for AOL.\\n\\nTime Warner said on Friday that it now owns 8% of search-engine Google. But its own internet bus...</td>\n",
       "      <td>business</td>\n",
       "    </tr>\n",
       "    <tr>\n",
       "      <th>1</th>\n",
       "      <td>Dollar gains on Greenspan speech\\n\\nThe dollar has hit its highest level against the euro in almost three months after the Federal Reserve head said the US trade deficit is set to stabilise.\\n\\nAnd Alan Greenspan highlighted the US government's willingness to curb spending and rising household savings as factors which may help to reduce it. In late trading in New York, the dollar reached $1.2871 against the euro, from $1.2974 on Thursday. Market concerns about the deficit has hit the greenback in recent months. On Friday, Federal Reserve chairman Mr Greenspan's speech in London ahead of th...</td>\n",
       "      <td>business</td>\n",
       "    </tr>\n",
       "    <tr>\n",
       "      <th>2</th>\n",
       "      <td>Yukos unit buyer faces loan claim\\n\\nThe owners of embattled Russian oil giant Yukos are to ask the buyer of its former production unit to pay back a $900m (£479m) loan.\\n\\nState-owned Rosneft bought the Yugansk unit for $9.3bn in a sale forced by Russia to part settle a $27.5bn tax claim against Yukos. Yukos' owner Menatep Group says it will ask Rosneft to repay a loan that Yugansk had secured on its assets. Rosneft already faces a similar $540m repayment demand from foreign banks. Legal experts said Rosneft's purchase of Yugansk would include such obligations. \"The pledged assets are wit...</td>\n",
       "      <td>business</td>\n",
       "    </tr>\n",
       "    <tr>\n",
       "      <th>3</th>\n",
       "      <td>High fuel prices hit BA's profits\\n\\nBritish Airways has blamed high fuel prices for a 40% drop in profits.\\n\\nReporting its results for the three months to 31 December 2004, the airline made a pre-tax profit of £75m ($141m) compared with £125m a year earlier. Rod Eddington, BA's chief executive, said the results were \"respectable\" in a third quarter when fuel costs rose by £106m or 47.3%. BA's profits were still better than market expectation of £59m, and it expects a rise in full-year revenues.\\n\\nTo help offset the increased price of aviation fuel, BA last year introduced a fuel surchar...</td>\n",
       "      <td>business</td>\n",
       "    </tr>\n",
       "    <tr>\n",
       "      <th>4</th>\n",
       "      <td>Pernod takeover talk lifts Domecq\\n\\nShares in UK drinks and food firm Allied Domecq have risen on speculation that it could be the target of a takeover by France's Pernod Ricard.\\n\\nReports in the Wall Street Journal and the Financial Times suggested that the French spirits firm is considering a bid, but has yet to contact its target. Allied Domecq shares in London rose 4% by 1200 GMT, while Pernod shares in Paris slipped 1.2%. Pernod said it was seeking acquisitions but refused to comment on specifics.\\n\\nPernod's last major purchase was a third of US giant Seagram in 2000, the move whic...</td>\n",
       "      <td>business</td>\n",
       "    </tr>\n",
       "  </tbody>\n",
       "</table>\n",
       "</div>"
      ],
      "text/plain": [
       "                                                                                                                                                                                                                                                                                                                                                                                                                                                                                                                                                                                                                      text  \\\n",
       "0  Ad sales boost Time Warner profit\\n\\nQuarterly profits at US media giant TimeWarner jumped 76% to $1.13bn (£600m) for the three months to December, from $639m year-earlier.\\n\\nThe firm, which is now one of the biggest investors in Google, benefited from sales of high-speed internet connections and higher advert sales. TimeWarner said fourth quarter sales rose 2% to $11.1bn from $10.9bn. Its profits were buoyed by one-off gains which offset a profit dip at Warner Bros, and less users for AOL.\\n\\nTime Warner said on Friday that it now owns 8% of search-engine Google. But its own internet bus...   \n",
       "1  Dollar gains on Greenspan speech\\n\\nThe dollar has hit its highest level against the euro in almost three months after the Federal Reserve head said the US trade deficit is set to stabilise.\\n\\nAnd Alan Greenspan highlighted the US government's willingness to curb spending and rising household savings as factors which may help to reduce it. In late trading in New York, the dollar reached $1.2871 against the euro, from $1.2974 on Thursday. Market concerns about the deficit has hit the greenback in recent months. On Friday, Federal Reserve chairman Mr Greenspan's speech in London ahead of th...   \n",
       "2  Yukos unit buyer faces loan claim\\n\\nThe owners of embattled Russian oil giant Yukos are to ask the buyer of its former production unit to pay back a $900m (£479m) loan.\\n\\nState-owned Rosneft bought the Yugansk unit for $9.3bn in a sale forced by Russia to part settle a $27.5bn tax claim against Yukos. Yukos' owner Menatep Group says it will ask Rosneft to repay a loan that Yugansk had secured on its assets. Rosneft already faces a similar $540m repayment demand from foreign banks. Legal experts said Rosneft's purchase of Yugansk would include such obligations. \"The pledged assets are wit...   \n",
       "3  High fuel prices hit BA's profits\\n\\nBritish Airways has blamed high fuel prices for a 40% drop in profits.\\n\\nReporting its results for the three months to 31 December 2004, the airline made a pre-tax profit of £75m ($141m) compared with £125m a year earlier. Rod Eddington, BA's chief executive, said the results were \"respectable\" in a third quarter when fuel costs rose by £106m or 47.3%. BA's profits were still better than market expectation of £59m, and it expects a rise in full-year revenues.\\n\\nTo help offset the increased price of aviation fuel, BA last year introduced a fuel surchar...   \n",
       "4  Pernod takeover talk lifts Domecq\\n\\nShares in UK drinks and food firm Allied Domecq have risen on speculation that it could be the target of a takeover by France's Pernod Ricard.\\n\\nReports in the Wall Street Journal and the Financial Times suggested that the French spirits firm is considering a bid, but has yet to contact its target. Allied Domecq shares in London rose 4% by 1200 GMT, while Pernod shares in Paris slipped 1.2%. Pernod said it was seeking acquisitions but refused to comment on specifics.\\n\\nPernod's last major purchase was a third of US giant Seagram in 2000, the move whic...   \n",
       "\n",
       "     labels  \n",
       "0  business  \n",
       "1  business  \n",
       "2  business  \n",
       "3  business  \n",
       "4  business  "
      ]
     },
     "execution_count": 3,
     "metadata": {},
     "output_type": "execute_result"
    }
   ],
   "source": [
    "# Load data\n",
    "bbc_data = load_data(filename=\"../../data/bbc_text_cls.csv\")\n",
    "\n",
    "bbc_data.head()"
   ]
  },
  {
   "cell_type": "code",
   "execution_count": 4,
   "metadata": {},
   "outputs": [],
   "source": [
    "def count_vectorizer(*, text=list[str]) -> dict:\n",
    "    \"\"\"This is used to return the count of words in a list.\n",
    "\n",
    "    Params:\n",
    "        text (list[str]): List of text.\n",
    "\n",
    "    Returns:\n",
    "        count_dict (dict): A dict containing the counts of the unique words.\n",
    "    \"\"\"\n",
    "    from collections import Counter\n",
    "\n",
    "    # Select the text at index 0. Convert to a list of words.\n",
    "    count_dict = Counter(text)\n",
    "    return count_dict"
   ]
  },
  {
   "cell_type": "code",
   "execution_count": 5,
   "metadata": {},
   "outputs": [
    {
     "data": {
      "text/plain": [
       "['Ask', 'Jeeves', 'tips', 'online', 'ad']"
      ]
     },
     "execution_count": 5,
     "metadata": {},
     "output_type": "execute_result"
    }
   ],
   "source": [
    "# Simple tokenizer\n",
    "text = bbc_data[\"text\"].iat[10].split()\n",
    "text[:5]"
   ]
  },
  {
   "cell_type": "code",
   "execution_count": 6,
   "metadata": {},
   "outputs": [
    {
     "data": {
      "text/plain": [
       "Counter({'hello': 2,\n",
       "         'sad': 1,\n",
       "         'firm': 2,\n",
       "         'the': 2,\n",
       "         'become': 2,\n",
       "         'happy': 1,\n",
       "         'tips': 1})"
      ]
     },
     "execution_count": 6,
     "metadata": {},
     "output_type": "execute_result"
    }
   ],
   "source": [
    "# Count the occurrences of the words in the list\n",
    "my_list = [\n",
    "    \"hello\",\n",
    "    \"sad\",\n",
    "    \"firm\",\n",
    "    \"hello\",\n",
    "    \"the\",\n",
    "    \"become\",\n",
    "    \"happy\",\n",
    "    \"tips\",\n",
    "    \"firm\",\n",
    "    \"the\",\n",
    "    \"become\",\n",
    "]\n",
    "count_vectorizer(text=my_list)"
   ]
  },
  {
   "attachments": {},
   "cell_type": "markdown",
   "metadata": {},
   "source": [
    "## Tokenization\n",
    "\n",
    "During processing, `spaCy` first tokenizes the text, i.e. segments it into words, punctuation and so on. This is done by applying rules specific to each language."
   ]
  },
  {
   "cell_type": "code",
   "execution_count": 7,
   "metadata": {},
   "outputs": [
    {
     "name": "stdout",
     "output_type": "stream",
     "text": [
      "Good\n",
      "morning\n",
      ".\n",
      "Welcome\n",
      "to\n",
      "another\n",
      "great\n",
      "day\n",
      ".\n"
     ]
    }
   ],
   "source": [
    "# Tokenize\n",
    "import spacy\n",
    "\n",
    "# Load the spaCy model\n",
    "nlp = spacy.load(\"en_core_web_sm\")\n",
    "\n",
    "text = \"Good morning. Welcome to another great day.\"\n",
    "doc = nlp(text)\n",
    "\n",
    "\n",
    "for token in doc:\n",
    "    print(token.text)"
   ]
  },
  {
   "cell_type": "code",
   "execution_count": 8,
   "metadata": {},
   "outputs": [
    {
     "data": {
      "text/plain": [
       "text      0\n",
       "labels    0\n",
       "dtype: int64"
      ]
     },
     "execution_count": 8,
     "metadata": {},
     "output_type": "execute_result"
    }
   ],
   "source": [
    "# Check for missing values\n",
    "bbc_data.isna().sum()"
   ]
  },
  {
   "attachments": {},
   "cell_type": "markdown",
   "metadata": {},
   "source": [
    "#### Split The Data Into Training and Validation Data."
   ]
  },
  {
   "cell_type": "code",
   "execution_count": 9,
   "metadata": {},
   "outputs": [
    {
     "data": {
      "text/plain": [
       "((2002,), (223,))"
      ]
     },
     "execution_count": 9,
     "metadata": {},
     "output_type": "execute_result"
    }
   ],
   "source": [
    "# Target\n",
    "TARGET = \"labels\"\n",
    "TEST_SIZE = 0.1\n",
    "RANDOM_STATE = 123\n",
    "\n",
    "X = bbc_data[\"text\"]\n",
    "y = bbc_data[TARGET]\n",
    "\n",
    "# Split data\n",
    "X_train, x_validate, y_train, y_validate = train_test_split(\n",
    "    X, y, test_size=TEST_SIZE, random_state=RANDOM_STATE\n",
    ")\n",
    "\n",
    "X_train.shape, x_validate.shape"
   ]
  },
  {
   "attachments": {},
   "cell_type": "markdown",
   "metadata": {},
   "source": [
    "### Stopwords\n",
    "\n",
    "1. They are ineffective for NLP tasks because they appear in every document and make classification difficult. e.g when building a spam classifier.\n",
    "2. Stopword removal can potentially help in improving performance, as there are fewer and only significant tokens left. Thus, the classification accuracy could be improved.\n",
    "\n",
    "### Note\n",
    "\n",
    "Because stopwords can be application/domain specific, we must exercise caution when removing them."
   ]
  },
  {
   "cell_type": "code",
   "execution_count": 10,
   "metadata": {},
   "outputs": [],
   "source": [
    "# Load stopowrds (using spaCy)\n",
    "# stopwords = nlp.Defaults.stop_words"
   ]
  },
  {
   "cell_type": "code",
   "execution_count": 11,
   "metadata": {},
   "outputs": [
    {
     "data": {
      "text/plain": [
       "sport            0.229663\n",
       "business         0.229213\n",
       "politics         0.187416\n",
       "tech             0.180225\n",
       "entertainment    0.173483\n",
       "Name: labels, dtype: float64"
      ]
     },
     "execution_count": 11,
     "metadata": {},
     "output_type": "execute_result"
    }
   ],
   "source": [
    "bbc_data[TARGET].value_counts(normalize=True)"
   ]
  },
  {
   "attachments": {},
   "cell_type": "markdown",
   "metadata": {},
   "source": [
    "### Comment:\n",
    "\n",
    "1. Check the distribution of the target. This is done inorder to determine whether the labels are `imbalanced` or not.\n",
    "2. If the labels are imbalanced, e.g if a class has ~**98%** of the labels, it means that a model accuracy of 98% is NOT useful and another metric like roc_auc score should be used."
   ]
  },
  {
   "cell_type": "code",
   "execution_count": 12,
   "metadata": {},
   "outputs": [
    {
     "data": {
      "image/png": "[encoded data removed]",
      "text/plain": [
       "<Figure size 640x480 with 1 Axes>"
      ]
     },
     "metadata": {},
     "output_type": "display_data"
    }
   ],
   "source": [
    "df = pd.concat([X_train, y_train], axis=\"columns\")\n",
    "\n",
    "# Distribution of the target. It is fairly balanced.\n",
    "sns.countplot(x=TARGET, data=df, color=\"b\")\n",
    "plt.title(f\"Distribution of {TARGET!r}\", size=15)\n",
    "plt.tight_layout()\n",
    "plt.show()"
   ]
  },
  {
   "cell_type": "code",
   "execution_count": 13,
   "metadata": {},
   "outputs": [
    {
     "data": {
      "text/plain": [
       "<2002x28253 sparse matrix of type '<class 'numpy.int64'>'\n",
       "\twith 405239 stored elements in Compressed Sparse Row format>"
      ]
     },
     "execution_count": 13,
     "metadata": {},
     "output_type": "execute_result"
    }
   ],
   "source": [
    "from sklearn.feature_extraction.text import CountVectorizer\n",
    "from sklearn.naive_bayes import MultinomialNB\n",
    "\n",
    "\n",
    "vectorizer = CountVectorizer()\n",
    "# Count the words( vector of numbers!)\n",
    "X_tr = vectorizer.fit_transform(X_train)\n",
    "X_val = vectorizer.transform(x_validate)\n",
    "\n",
    "X_tr  # Sparse matric is used because most of the values in the vector are 0s"
   ]
  },
  {
   "cell_type": "code",
   "execution_count": 14,
   "metadata": {},
   "outputs": [
    {
     "data": {
      "text/plain": [
       "0.0071644456488543845"
      ]
     },
     "execution_count": 14,
     "metadata": {},
     "output_type": "execute_result"
    }
   ],
   "source": [
    "(X_tr != 0).sum()  # Sum of values that is NOT one.\n",
    "\n",
    "non_zeros = (X_tr != 0).sum()\n",
    "total_count = np.prod(X_tr.toarray().shape)\n",
    "\n",
    "# Percentage of non-zero values\n",
    "non_zeros / total_count"
   ]
  },
  {
   "attachments": {},
   "cell_type": "markdown",
   "metadata": {},
   "source": [
    "#### Multi-Nomial Naive Bayes\n",
    "\n",
    "> The `multinomial Naive Bayes` classifier is suitable for classification with **`discrete`** features (e.g., word counts for text classification). The multinomial distribution normally requires integer feature counts. However, in practice, fractional counts such as tf-idf may also work."
   ]
  },
  {
   "cell_type": "code",
   "execution_count": 15,
   "metadata": {},
   "outputs": [
    {
     "name": "stdout",
     "output_type": "stream",
     "text": [
      "Train accuracy: 0.993\n",
      "Test accuracy: 0.955\n"
     ]
    }
   ],
   "source": [
    "nb_model = MultinomialNB()\n",
    "\n",
    "nb_model.fit(X_tr, y_train)\n",
    "\n",
    "# Check the accuracy\n",
    "train_accuracy = nb_model.score(X_tr, y_train)\n",
    "val_accuracy = nb_model.score(X_val, y_validate)\n",
    "\n",
    "print(f\"Train accuracy: {train_accuracy:.3f}\")\n",
    "print(f\"Test accuracy: {val_accuracy:.3f}\")"
   ]
  },
  {
   "attachments": {},
   "cell_type": "markdown",
   "metadata": {},
   "source": [
    "#### Train A New Model\n",
    "\n",
    "* Remove Stopwords"
   ]
  },
  {
   "cell_type": "code",
   "execution_count": 16,
   "metadata": {},
   "outputs": [
    {
     "name": "stdout",
     "output_type": "stream",
     "text": [
      "Shape X_train: (2002, 27959)\n",
      "Train accuracy: 0.994\n",
      "Test accuracy: 0.955\n"
     ]
    }
   ],
   "source": [
    "# Train a new model by removing the stop words\n",
    "vectorizer = CountVectorizer(stop_words=\"english\")\n",
    "\n",
    "# Count the words (vector of numbers!)\n",
    "X_tr = vectorizer.fit_transform(X_train)\n",
    "X_val = vectorizer.transform(x_validate)\n",
    "print(f\"Shape X_train: {X_tr.shape}\")\n",
    "\n",
    "# Train the model\n",
    "nb_model = MultinomialNB()\n",
    "nb_model.fit(X_tr, y_train)\n",
    "\n",
    "# Check the accuracy\n",
    "train_accuracy = nb_model.score(X_tr, y_train)\n",
    "val_accuracy = nb_model.score(X_val, y_validate)\n",
    "\n",
    "print(f\"Train accuracy: {train_accuracy:.3f}\")\n",
    "print(f\"Test accuracy: {val_accuracy:.3f}\")"
   ]
  },
  {
   "cell_type": "code",
   "execution_count": 17,
   "metadata": {},
   "outputs": [
    {
     "name": "stdout",
     "output_type": "stream",
     "text": [
      "IAAF IAAF\n"
     ]
    }
   ],
   "source": [
    "text = X_train.iat[5]\n",
    "doc = nlp(text)\n",
    "\n",
    "for token in doc:\n",
    "    print(token.text, token.lemma_)\n",
    "    break"
   ]
  },
  {
   "cell_type": "code",
   "execution_count": 18,
   "metadata": {},
   "outputs": [],
   "source": [
    "class LemmaTokenizer:\n",
    "    \"\"\"This is used to tokenize and lemmatize\n",
    "    (i.e convert to its root form )a text.\"\"\"\n",
    "\n",
    "    def __init__(self) -> None:\n",
    "        self.nlp = nlp\n",
    "\n",
    "    def __call__(self, text: str, *args: Any, **kwargs: Any) -> Any:\n",
    "        doc = self.nlp(text)  # Tokenize the text\n",
    "        lemmatized_doc = [token.lemma_ for token in doc]\n",
    "        return lemmatized_doc\n",
    "\n",
    "\n",
    "class Tokenizer:\n",
    "    \"\"\"This is used to tokenize i.e break text\n",
    "    into individual linguistic units a text.\"\"\"\n",
    "\n",
    "    def __init__(self) -> None:\n",
    "        self.nlp = nlp\n",
    "\n",
    "    def __call__(self, text: str, *args: Any, **kwargs: Any) -> Any:\n",
    "        doc = self.nlp(text)  # Tokenize the text\n",
    "        tokenized_doc = [token.text for token in doc]\n",
    "        return tokenized_doc"
   ]
  },
  {
   "cell_type": "code",
   "execution_count": 19,
   "metadata": {},
   "outputs": [
    {
     "name": "stdout",
     "output_type": "stream",
     "text": [
      "IAAF awaits Greek pair's response\n",
      "\n",
      "Kostas Kenteris and Katerina Thanou are yet to respond to doping charges from the International Association of Athletics Federations (IAAF).\n",
      "\n",
      "The Greek pair were charged after missing a series of routine drugs tests in Tel Aviv, Chicago and Athens. They have until midnight on 16 December and an IAAF spokesman said: \"We're sure their responses are on their way.\" If they do not respond or their explanations are rejected, they will be provisionally banned from competition. They will then face a hearing in front of the Greek Federation, which will ultimately determine their fate. Their former coach Christos Tzekos has also been charged with distributing banned substances. Under IAAF rules, the athletes could receive a maximum one-year suspension. Kenteris and Thanou already face a criminal trial after being charged with avoiding a drug test on the eve of the Athens Olympics and then faking a motorcyle crash.\n",
      "\n",
      "No date for the trial has yet been set and again Tzekos is also facing charges. The IAAF issued an official warning to the trio last year after they were discovered training in Qatar rather than in Crete, where they had said they would be. All athletes must inform their national federations where they are at all times, so they can be available for out-of-competition drugs tests. But Kenteris and Thanou then went on to skip tests in Tel Aviv and Chicago, when they decided to fly back to Greece early. Then just before the Olympics, the pair dramatically missed another test in Athens and withdrew from the Games.\n"
     ]
    }
   ],
   "source": [
    "print(text)"
   ]
  },
  {
   "cell_type": "code",
   "execution_count": 20,
   "metadata": {},
   "outputs": [
    {
     "data": {
      "text/plain": [
       "['the', 'International']"
      ]
     },
     "execution_count": 20,
     "metadata": {},
     "output_type": "execute_result"
    }
   ],
   "source": [
    "l = LemmaTokenizer()\n",
    "l(text=text)[20:22]"
   ]
  },
  {
   "attachments": {},
   "cell_type": "markdown",
   "metadata": {},
   "source": [
    "#### Train Another Model\n",
    "\n",
    "* Using the Lemmatizer (convert the words to their root forms)."
   ]
  },
  {
   "cell_type": "code",
   "execution_count": 21,
   "metadata": {},
   "outputs": [
    {
     "name": "stdout",
     "output_type": "stream",
     "text": [
      "Shape X_train: (2002, 23923)\n",
      "Train accuracy: 0.992\n",
      "Test accuracy: 0.960\n"
     ]
    }
   ],
   "source": [
    "# Train a new model with lemmatization. (It takes a while to train)\n",
    "vectorizer = CountVectorizer(tokenizer=LemmaTokenizer())\n",
    "# Count the words (vector of numbers!)\n",
    "X_tr = vectorizer.fit_transform(X_train)\n",
    "X_val = vectorizer.transform(x_validate)\n",
    "print(f\"Shape X_train: {X_tr.shape}\")\n",
    "\n",
    "# Train the model\n",
    "nb_model = MultinomialNB()\n",
    "nb_model.fit(X_tr, y_train)\n",
    "\n",
    "# Check the accuracy\n",
    "train_accuracy = nb_model.score(X_tr, y_train)\n",
    "val_accuracy = nb_model.score(X_val, y_validate)\n",
    "\n",
    "print(f\"Train accuracy: {train_accuracy:.3f}\")\n",
    "print(f\"Test accuracy: {val_accuracy:.3f}\")"
   ]
  },
  {
   "attachments": {},
   "cell_type": "markdown",
   "metadata": {},
   "source": [
    "#### Train Another Model\n",
    "\n",
    "* Using the custom Tokenizer (convert the texts to its linguistic units)."
   ]
  },
  {
   "cell_type": "code",
   "execution_count": 22,
   "metadata": {},
   "outputs": [
    {
     "name": "stdout",
     "output_type": "stream",
     "text": [
      "Shape X_train: (2002, 29363)\n",
      "Train accuracy: 0.993\n",
      "Test accuracy: 0.964\n"
     ]
    }
   ],
   "source": [
    "# Train a new model with using tokenized documents. (Using spaCy)\n",
    "# It takes a while to train\n",
    "vectorizer = CountVectorizer(tokenizer=Tokenizer())\n",
    "\n",
    "# Count the words (vector of numbers!)\n",
    "X_tr = vectorizer.fit_transform(X_train)\n",
    "X_val = vectorizer.transform(x_validate)\n",
    "print(f\"Shape X_train: {X_tr.shape}\")\n",
    "\n",
    "# Train the model\n",
    "nb_model = MultinomialNB()\n",
    "nb_model.fit(X_tr, y_train)\n",
    "\n",
    "# Check the accuracy\n",
    "train_accuracy = nb_model.score(X_tr, y_train)\n",
    "val_accuracy = nb_model.score(X_val, y_validate)\n",
    "\n",
    "print(f\"Train accuracy: {train_accuracy:.3f}\")\n",
    "print(f\"Test accuracy: {val_accuracy:.3f}\")"
   ]
  },
  {
   "cell_type": "code",
   "execution_count": 23,
   "metadata": {},
   "outputs": [],
   "source": [
    "class SimpleTokenizer:\n",
    "    \"\"\"This is used to tokenize a text.\"\"\"\n",
    "\n",
    "    def __init__(self) -> None:\n",
    "        pass\n",
    "\n",
    "    def __call__(self, text: str, *args: Any, **kwargs: Any) -> Any:\n",
    "        tokenized_doc = text.split(\" \")  # Tokenize the text\n",
    "        return tokenized_doc"
   ]
  },
  {
   "attachments": {},
   "cell_type": "markdown",
   "metadata": {},
   "source": [
    "#### Train Another Model\n",
    "\n",
    "* Using the simple Tokenizer (convert the texts to its linguistic units)."
   ]
  },
  {
   "cell_type": "code",
   "execution_count": 24,
   "metadata": {},
   "outputs": [
    {
     "name": "stdout",
     "output_type": "stream",
     "text": [
      "Shape X_train: (2002, 63730)\n",
      "Train accuracy: 0.997\n",
      "Test accuracy: 0.955\n"
     ]
    }
   ],
   "source": [
    "# Train a new model with using tokenized documents.\n",
    "vectorizer = CountVectorizer(tokenizer=SimpleTokenizer())\n",
    "\n",
    "# Count the words (vector of numbers!)\n",
    "X_tr = vectorizer.fit_transform(X_train)\n",
    "X_val = vectorizer.transform(x_validate)\n",
    "print(f\"Shape X_train: {X_tr.shape}\")\n",
    "\n",
    "# Train the model\n",
    "nb_model = MultinomialNB()\n",
    "nb_model.fit(X_tr, y_train)\n",
    "\n",
    "# Check the accuracy\n",
    "train_accuracy = nb_model.score(X_tr, y_train)\n",
    "val_accuracy = nb_model.score(X_val, y_validate)\n",
    "\n",
    "print(f\"Train accuracy: {train_accuracy:.3f}\")\n",
    "print(f\"Test accuracy: {val_accuracy:.3f}\")"
   ]
  },
  {
   "cell_type": "code",
   "execution_count": null,
   "metadata": {},
   "outputs": [],
   "source": []
  },
  {
   "cell_type": "code",
   "execution_count": null,
   "metadata": {},
   "outputs": [],
   "source": []
  },
  {
   "cell_type": "code",
   "execution_count": null,
   "metadata": {},
   "outputs": [],
   "source": []
  }
 ],
 "metadata": {
  "kernelspec": {
   "display_name": "nlp_p310",
   "language": "python",
   "name": "python3"
  },
  "language_info": {
   "codemirror_mode": {
    "name": "ipython",
    "version": 3
   },
   "file_extension": ".py",
   "mimetype": "text/x-python",
   "name": "python",
   "nbconvert_exporter": "python",
   "pygments_lexer": "ipython3",
   "version": "3.10.9"
  },
  "orig_nbformat": 4,
  "vscode": {
   "interpreter": {
    "hash": "5c160606400bd63443fe4361c23f8347e54b6f9986e7c6d27e878f1970943f47"
   }
  }
 },
 "nbformat": 4,
 "nbformat_minor": 2
}
