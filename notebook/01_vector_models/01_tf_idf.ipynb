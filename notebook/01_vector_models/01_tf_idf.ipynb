{
 "cells": [
  {
   "attachments": {},
   "cell_type": "markdown",
   "metadata": {},
   "source": [
    "# INTRODUCTION TO NLP\n",
    "\n",
    "1. Bag of words.\n",
    "2. Count Vectorizer.\n",
    "3. Tokenization.\n",
    "4. Stopwords.\n",
    "5. Stemming and Lemmatization.\n",
    "6. Vector Similarity\n",
    "7. TF-IDF"
   ]
  },
  {
   "cell_type": "code",
   "execution_count": 1,
   "metadata": {},
   "outputs": [],
   "source": [
    "# Standard imports\n",
    "import numpy as np\n",
    "from pprint import pprint\n",
    "import pandas as pd\n",
    "\n",
    "\n",
    "# Visualization\n",
    "import matplotlib.pyplot as plt\n",
    "import seaborn as sns\n",
    "\n",
    "# Feature engine\n",
    "from feature_engine.encoding import (\n",
    "    RareLabelEncoder,\n",
    "    OrdinalEncoder,\n",
    "    OneHotEncoder,\n",
    ")\n",
    "\n",
    "# Sklearn\n",
    "from sklearn.pipeline import Pipeline\n",
    "from sklearn.model_selection import train_test_split\n",
    "from sklearn.preprocessing import StandardScaler, MinMaxScaler\n",
    "\n",
    "# Custom imports\n",
    "\n",
    "# Built-in library\n",
    "import itertools\n",
    "import re\n",
    "import json\n",
    "from typing import Union, Optional, Any\n",
    "import logging\n",
    "import warnings\n",
    "\n",
    "# pandas settings\n",
    "pd.options.display.max_rows = 1_000\n",
    "pd.options.display.max_columns = 1_000\n",
    "pd.options.display.max_colwidth = 600\n",
    "\n",
    "# Black code formatter (Optional)\n",
    "%load_ext lab_black\n",
    "# auto reload imports\n",
    "%load_ext autoreload\n",
    "%autoreload 2"
   ]
  },
  {
   "cell_type": "code",
   "execution_count": 2,
   "metadata": {},
   "outputs": [],
   "source": [
    "# Configure warnings and pther settings\n",
    "warnings.filterwarnings(\"ignore\")\n",
    "sns.set()\n",
    "\n",
    "\n",
    "def load_data(*, filename: str) -> pd.DataFrame:\n",
    "    \"\"\"This is used to load the data.\n",
    "\n",
    "    Params;\n",
    "        filename (str): The filepath.\n",
    "\n",
    "    Returns:\n",
    "        df (pd.DataFrame): The loaded dataframe.\n",
    "    \"\"\"\n",
    "    df = pd.read_csv(filename)\n",
    "    print(f\"Shape of df: {df.shape}\\n\")\n",
    "    return df"
   ]
  },
  {
   "attachments": {},
   "cell_type": "markdown",
   "metadata": {},
   "source": [
    "### Implement Count Vectorizer"
   ]
  },
  {
   "cell_type": "code",
   "execution_count": 3,
   "metadata": {},
   "outputs": [
    {
     "name": "stdout",
     "output_type": "stream",
     "text": [
      "Shape of df: (2225, 2)\n",
      "\n"
     ]
    },
    {
     "data": {
      "text/html": [
       "<div>\n",
       "<style scoped>\n",
       "    .dataframe tbody tr th:only-of-type {\n",
       "        vertical-align: middle;\n",
       "    }\n",
       "\n",
       "    .dataframe tbody tr th {\n",
       "        vertical-align: top;\n",
       "    }\n",
       "\n",
       "    .dataframe thead th {\n",
       "        text-align: right;\n",
       "    }\n",
       "</style>\n",
       "<table border=\"1\" class=\"dataframe\">\n",
       "  <thead>\n",
       "    <tr style=\"text-align: right;\">\n",
       "      <th></th>\n",
       "      <th>text</th>\n",
       "      <th>labels</th>\n",
       "    </tr>\n",
       "  </thead>\n",
       "  <tbody>\n",
       "    <tr>\n",
       "      <th>0</th>\n",
       "      <td>Ad sales boost Time Warner profit\\n\\nQuarterly profits at US media giant TimeWarner jumped 76% to $1.13bn (£600m) for the three months to December, from $639m year-earlier.\\n\\nThe firm, which is now one of the biggest investors in Google, benefited from sales of high-speed internet connections and higher advert sales. TimeWarner said fourth quarter sales rose 2% to $11.1bn from $10.9bn. Its profits were buoyed by one-off gains which offset a profit dip at Warner Bros, and less users for AOL.\\n\\nTime Warner said on Friday that it now owns 8% of search-engine Google. But its own internet bus...</td>\n",
       "      <td>business</td>\n",
       "    </tr>\n",
       "    <tr>\n",
       "      <th>1</th>\n",
       "      <td>Dollar gains on Greenspan speech\\n\\nThe dollar has hit its highest level against the euro in almost three months after the Federal Reserve head said the US trade deficit is set to stabilise.\\n\\nAnd Alan Greenspan highlighted the US government's willingness to curb spending and rising household savings as factors which may help to reduce it. In late trading in New York, the dollar reached $1.2871 against the euro, from $1.2974 on Thursday. Market concerns about the deficit has hit the greenback in recent months. On Friday, Federal Reserve chairman Mr Greenspan's speech in London ahead of th...</td>\n",
       "      <td>business</td>\n",
       "    </tr>\n",
       "    <tr>\n",
       "      <th>2</th>\n",
       "      <td>Yukos unit buyer faces loan claim\\n\\nThe owners of embattled Russian oil giant Yukos are to ask the buyer of its former production unit to pay back a $900m (£479m) loan.\\n\\nState-owned Rosneft bought the Yugansk unit for $9.3bn in a sale forced by Russia to part settle a $27.5bn tax claim against Yukos. Yukos' owner Menatep Group says it will ask Rosneft to repay a loan that Yugansk had secured on its assets. Rosneft already faces a similar $540m repayment demand from foreign banks. Legal experts said Rosneft's purchase of Yugansk would include such obligations. \"The pledged assets are wit...</td>\n",
       "      <td>business</td>\n",
       "    </tr>\n",
       "    <tr>\n",
       "      <th>3</th>\n",
       "      <td>High fuel prices hit BA's profits\\n\\nBritish Airways has blamed high fuel prices for a 40% drop in profits.\\n\\nReporting its results for the three months to 31 December 2004, the airline made a pre-tax profit of £75m ($141m) compared with £125m a year earlier. Rod Eddington, BA's chief executive, said the results were \"respectable\" in a third quarter when fuel costs rose by £106m or 47.3%. BA's profits were still better than market expectation of £59m, and it expects a rise in full-year revenues.\\n\\nTo help offset the increased price of aviation fuel, BA last year introduced a fuel surchar...</td>\n",
       "      <td>business</td>\n",
       "    </tr>\n",
       "    <tr>\n",
       "      <th>4</th>\n",
       "      <td>Pernod takeover talk lifts Domecq\\n\\nShares in UK drinks and food firm Allied Domecq have risen on speculation that it could be the target of a takeover by France's Pernod Ricard.\\n\\nReports in the Wall Street Journal and the Financial Times suggested that the French spirits firm is considering a bid, but has yet to contact its target. Allied Domecq shares in London rose 4% by 1200 GMT, while Pernod shares in Paris slipped 1.2%. Pernod said it was seeking acquisitions but refused to comment on specifics.\\n\\nPernod's last major purchase was a third of US giant Seagram in 2000, the move whic...</td>\n",
       "      <td>business</td>\n",
       "    </tr>\n",
       "  </tbody>\n",
       "</table>\n",
       "</div>"
      ],
      "text/plain": [
       "                                                                                                                                                                                                                                                                                                                                                                                                                                                                                                                                                                                                                      text  \\\n",
       "0  Ad sales boost Time Warner profit\\n\\nQuarterly profits at US media giant TimeWarner jumped 76% to $1.13bn (£600m) for the three months to December, from $639m year-earlier.\\n\\nThe firm, which is now one of the biggest investors in Google, benefited from sales of high-speed internet connections and higher advert sales. TimeWarner said fourth quarter sales rose 2% to $11.1bn from $10.9bn. Its profits were buoyed by one-off gains which offset a profit dip at Warner Bros, and less users for AOL.\\n\\nTime Warner said on Friday that it now owns 8% of search-engine Google. But its own internet bus...   \n",
       "1  Dollar gains on Greenspan speech\\n\\nThe dollar has hit its highest level against the euro in almost three months after the Federal Reserve head said the US trade deficit is set to stabilise.\\n\\nAnd Alan Greenspan highlighted the US government's willingness to curb spending and rising household savings as factors which may help to reduce it. In late trading in New York, the dollar reached $1.2871 against the euro, from $1.2974 on Thursday. Market concerns about the deficit has hit the greenback in recent months. On Friday, Federal Reserve chairman Mr Greenspan's speech in London ahead of th...   \n",
       "2  Yukos unit buyer faces loan claim\\n\\nThe owners of embattled Russian oil giant Yukos are to ask the buyer of its former production unit to pay back a $900m (£479m) loan.\\n\\nState-owned Rosneft bought the Yugansk unit for $9.3bn in a sale forced by Russia to part settle a $27.5bn tax claim against Yukos. Yukos' owner Menatep Group says it will ask Rosneft to repay a loan that Yugansk had secured on its assets. Rosneft already faces a similar $540m repayment demand from foreign banks. Legal experts said Rosneft's purchase of Yugansk would include such obligations. \"The pledged assets are wit...   \n",
       "3  High fuel prices hit BA's profits\\n\\nBritish Airways has blamed high fuel prices for a 40% drop in profits.\\n\\nReporting its results for the three months to 31 December 2004, the airline made a pre-tax profit of £75m ($141m) compared with £125m a year earlier. Rod Eddington, BA's chief executive, said the results were \"respectable\" in a third quarter when fuel costs rose by £106m or 47.3%. BA's profits were still better than market expectation of £59m, and it expects a rise in full-year revenues.\\n\\nTo help offset the increased price of aviation fuel, BA last year introduced a fuel surchar...   \n",
       "4  Pernod takeover talk lifts Domecq\\n\\nShares in UK drinks and food firm Allied Domecq have risen on speculation that it could be the target of a takeover by France's Pernod Ricard.\\n\\nReports in the Wall Street Journal and the Financial Times suggested that the French spirits firm is considering a bid, but has yet to contact its target. Allied Domecq shares in London rose 4% by 1200 GMT, while Pernod shares in Paris slipped 1.2%. Pernod said it was seeking acquisitions but refused to comment on specifics.\\n\\nPernod's last major purchase was a third of US giant Seagram in 2000, the move whic...   \n",
       "\n",
       "     labels  \n",
       "0  business  \n",
       "1  business  \n",
       "2  business  \n",
       "3  business  \n",
       "4  business  "
      ]
     },
     "execution_count": 3,
     "metadata": {},
     "output_type": "execute_result"
    }
   ],
   "source": [
    "# Load data\n",
    "bbc_data = load_data(filename=\"../../data/bbc_text_cls.csv\")\n",
    "\n",
    "bbc_data.head()"
   ]
  },
  {
   "cell_type": "code",
   "execution_count": 4,
   "metadata": {},
   "outputs": [],
   "source": [
    "def count_vectorizer(*, text=list[str]) -> dict:\n",
    "    \"\"\"This is used to return the count of words in a list.\n",
    "\n",
    "    Params:\n",
    "        text (list[str]): List of text.\n",
    "\n",
    "    Returns:\n",
    "        count_dict (dict): A dict containing the counts of the unique words.\n",
    "    \"\"\"\n",
    "    from collections import Counter\n",
    "\n",
    "    # Select the text at index 0. Convert to a list of words.\n",
    "    count_dict = Counter(text)\n",
    "    return count_dict"
   ]
  },
  {
   "cell_type": "code",
   "execution_count": 5,
   "metadata": {},
   "outputs": [
    {
     "data": {
      "text/plain": [
       "['Ask', 'Jeeves']"
      ]
     },
     "execution_count": 5,
     "metadata": {},
     "output_type": "execute_result"
    }
   ],
   "source": [
    "text = bbc_data[\"text\"].iat[10].split()\n",
    "text[:2]"
   ]
  },
  {
   "cell_type": "code",
   "execution_count": 6,
   "metadata": {},
   "outputs": [
    {
     "data": {
      "text/plain": [
       "Counter({'Ask': 4,\n",
       "         'Jeeves': 3,\n",
       "         'tips': 1,\n",
       "         'online': 4,\n",
       "         'ad': 1,\n",
       "         'revival': 2,\n",
       "         'has': 2,\n",
       "         'become': 1,\n",
       "         'the': 11,\n",
       "         'third': 1,\n",
       "         'leading': 2,\n",
       "         'search': 1,\n",
       "         'firm': 1,\n",
       "         'this': 1,\n",
       "         'week': 1,\n",
       "         'to': 3,\n",
       "         'thank': 1,\n",
       "         'a': 4,\n",
       "         'in': 6,\n",
       "         'internet': 1,\n",
       "         'advertising': 1,\n",
       "         'for': 3,\n",
       "         'improving': 1,\n",
       "         'fortunes.': 1,\n",
       "         'The': 2,\n",
       "         \"firm's\": 1,\n",
       "         'revenue': 1,\n",
       "         'nearly': 1,\n",
       "         'tripled': 1,\n",
       "         'fourth': 1,\n",
       "         'quarter': 2,\n",
       "         'of': 5,\n",
       "         '2004,': 1,\n",
       "         'exceeding': 1,\n",
       "         '$86m': 1,\n",
       "         '(£46m).': 1,\n",
       "         'Jeeves,': 1,\n",
       "         'once': 1,\n",
       "         'among': 1,\n",
       "         'best-known': 1,\n",
       "         'names': 1,\n",
       "         'on': 3,\n",
       "         'web,': 1,\n",
       "         'is': 1,\n",
       "         'now': 1,\n",
       "         'relatively': 2,\n",
       "         'modest': 1,\n",
       "         'player.': 1,\n",
       "         'Its': 1,\n",
       "         '$17m': 1,\n",
       "         'profit': 2,\n",
       "         'was': 1,\n",
       "         'dwarfed': 1,\n",
       "         'by': 4,\n",
       "         '$204m': 1,\n",
       "         'announced': 2,\n",
       "         'rival': 1,\n",
       "         'Google': 2,\n",
       "         'earlier': 1,\n",
       "         'week.': 1,\n",
       "         'During': 1,\n",
       "         'same': 1,\n",
       "         'quarter,': 1,\n",
       "         'Yahoo': 1,\n",
       "         'earned': 1,\n",
       "         '$187m,': 1,\n",
       "         'again': 1,\n",
       "         'tipping': 1,\n",
       "         'resurgence': 1,\n",
       "         'advertising.': 1,\n",
       "         'trend': 1,\n",
       "         'taken': 1,\n",
       "         'hold': 1,\n",
       "         'quickly.': 1,\n",
       "         'Late': 1,\n",
       "         'last': 1,\n",
       "         'year,': 1,\n",
       "         'marketing': 1,\n",
       "         'company': 1,\n",
       "         'Doubleclick,': 1,\n",
       "         'one': 1,\n",
       "         'providers': 1,\n",
       "         'advertising,': 1,\n",
       "         'warned': 1,\n",
       "         'that': 2,\n",
       "         'some': 3,\n",
       "         'or': 1,\n",
       "         'all': 1,\n",
       "         'its': 1,\n",
       "         'business': 1,\n",
       "         'would': 1,\n",
       "         'have': 1,\n",
       "         'be': 1,\n",
       "         'put': 1,\n",
       "         'up': 1,\n",
       "         'sale.': 1,\n",
       "         'But': 1,\n",
       "         'Thursday,': 1,\n",
       "         'it': 1,\n",
       "         'sharp': 1,\n",
       "         'turnaround': 1,\n",
       "         'had': 1,\n",
       "         'brought': 1,\n",
       "         'about': 1,\n",
       "         'an': 1,\n",
       "         'unexpected': 1,\n",
       "         'increase': 1,\n",
       "         'profits.': 1,\n",
       "         'Neither': 1,\n",
       "         'nor': 1,\n",
       "         'Doubleclick': 1,\n",
       "         'thrilled': 1,\n",
       "         'investors': 1,\n",
       "         'with': 1,\n",
       "         'their': 2,\n",
       "         'news,': 1,\n",
       "         'however.': 1,\n",
       "         'In': 1,\n",
       "         'both': 1,\n",
       "         'cases,': 1,\n",
       "         'shares': 1,\n",
       "         'fell': 1,\n",
       "         '4%.': 1,\n",
       "         'Analysts': 1,\n",
       "         'attributed': 1,\n",
       "         'falls': 1,\n",
       "         'excessive': 1,\n",
       "         'expectations': 1,\n",
       "         'quarters,': 1,\n",
       "         'fuelled': 1,\n",
       "         'dramatic': 1,\n",
       "         'outperformance': 1,\n",
       "         'Tuesday.': 1})"
      ]
     },
     "execution_count": 6,
     "metadata": {},
     "output_type": "execute_result"
    }
   ],
   "source": [
    "count_vectorizer(text=text)"
   ]
  },
  {
   "attachments": {},
   "cell_type": "markdown",
   "metadata": {},
   "source": [
    "## Tokenization\n",
    "\n",
    "During processing, `spaCy` first tokenizes the text, i.e. segments it into words, punctuation and so on. This is done by applying rules specific to each language."
   ]
  },
  {
   "cell_type": "code",
   "execution_count": 7,
   "metadata": {},
   "outputs": [
    {
     "name": "stdout",
     "output_type": "stream",
     "text": [
      "Good\n",
      "morning\n",
      ".\n",
      "Welcome\n",
      "to\n",
      "another\n",
      "great\n",
      "day\n",
      ".\n"
     ]
    }
   ],
   "source": [
    "# Tokenize\n",
    "import spacy\n",
    "\n",
    "nlp = spacy.load(\"en_core_web_sm\")\n",
    "\n",
    "text = \"Good morning. Welcome to another great day.\"\n",
    "doc = nlp(text)\n",
    "\n",
    "\n",
    "for token in doc:\n",
    "    print(token.text)"
   ]
  },
  {
   "cell_type": "code",
   "execution_count": 8,
   "metadata": {},
   "outputs": [
    {
     "data": {
      "text/plain": [
       "text      0\n",
       "labels    0\n",
       "dtype: int64"
      ]
     },
     "execution_count": 8,
     "metadata": {},
     "output_type": "execute_result"
    }
   ],
   "source": [
    "# Check for missing values\n",
    "bbc_data.isna().sum()"
   ]
  },
  {
   "cell_type": "code",
   "execution_count": 9,
   "metadata": {},
   "outputs": [
    {
     "data": {
      "text/plain": [
       "((2002,), (223,))"
      ]
     },
     "execution_count": 9,
     "metadata": {},
     "output_type": "execute_result"
    }
   ],
   "source": [
    "# Target\n",
    "TARGET = \"labels\"\n",
    "TEST_SIZE = 0.1\n",
    "RANDOM_STATE = 123\n",
    "\n",
    "X = bbc_data[\"text\"]\n",
    "y = bbc_data[TARGET]\n",
    "\n",
    "# Split data\n",
    "X_train, x_validate, y_train, y_validate = train_test_split(\n",
    "    X, y, test_size=TEST_SIZE, random_state=RANDOM_STATE\n",
    ")\n",
    "\n",
    "X_train.shape, x_validate.shape"
   ]
  },
  {
   "attachments": {},
   "cell_type": "markdown",
   "metadata": {},
   "source": [
    "### Stopwords\n",
    "\n",
    "1. They are ineffective for NLP tasks because they appear in every document and make classification difficult. e.g when building a spam classifier.\n",
    "2. Stopword removal can potentially help in improving performance, as there are fewer and only significant tokens left. Thus, the classification accuracy could be improved.\n",
    "\n",
    "### Note\n",
    "\n",
    "Because stopwords can be application/domain specific, we must exercise caution when removing them."
   ]
  },
  {
   "cell_type": "code",
   "execution_count": 10,
   "metadata": {},
   "outputs": [],
   "source": [
    "# Load stopowrds\n",
    "# stopwords = nlp.Defaults.stop_words"
   ]
  },
  {
   "cell_type": "code",
   "execution_count": 11,
   "metadata": {},
   "outputs": [
    {
     "data": {
      "text/plain": [
       "sport            0.229663\n",
       "business         0.229213\n",
       "politics         0.187416\n",
       "tech             0.180225\n",
       "entertainment    0.173483\n",
       "Name: labels, dtype: float64"
      ]
     },
     "execution_count": 11,
     "metadata": {},
     "output_type": "execute_result"
    }
   ],
   "source": [
    "bbc_data[TARGET].value_counts(normalize=True)"
   ]
  },
  {
   "attachments": {},
   "cell_type": "markdown",
   "metadata": {},
   "source": [
    "### Comment:\n",
    "\n",
    "1. Check the distribution of the target. This is done inorder to determine whether the labels are `imbalanced` or not.\n",
    "2. If the labels are imbalanced, e.g if a class has ~**98%** of the labels, it means that a model accuracy of 98% is NOT useful and another metric like roc_auc score should be used."
   ]
  },
  {
   "cell_type": "code",
   "execution_count": 12,
   "metadata": {},
   "outputs": [
    {
     "data": {
      "image/png": "[encoded data removed]",
      "text/plain": [
       "<Figure size 640x480 with 1 Axes>"
      ]
     },
     "metadata": {},
     "output_type": "display_data"
    }
   ],
   "source": [
    "df = pd.concat([X_train, y_train], axis=\"columns\")\n",
    "\n",
    "# Distribution of the target. It is fairly balanced.\n",
    "sns.countplot(x=TARGET, data=df, color=\"b\")\n",
    "plt.title(f\"Distribution of {TARGET!r}\", size=15)\n",
    "plt.tight_layout()\n",
    "plt.show()"
   ]
  },
  {
   "cell_type": "code",
   "execution_count": 13,
   "metadata": {},
   "outputs": [
    {
     "data": {
      "text/plain": [
       "<2002x28253 sparse matrix of type '<class 'numpy.int64'>'\n",
       "\twith 405239 stored elements in Compressed Sparse Row format>"
      ]
     },
     "execution_count": 13,
     "metadata": {},
     "output_type": "execute_result"
    }
   ],
   "source": [
    "from sklearn.feature_extraction.text import CountVectorizer\n",
    "from sklearn.naive_bayes import MultinomialNB\n",
    "\n",
    "vectorizer = CountVectorizer()\n",
    "# Count the words( vector of numbers!)\n",
    "X_tr = vectorizer.fit_transform(X_train)\n",
    "X_val = vectorizer.transform(x_validate)\n",
    "\n",
    "X_tr  # Sparse matric is used because most of the values in the vector are 0s"
   ]
  },
  {
   "cell_type": "code",
   "execution_count": 14,
   "metadata": {},
   "outputs": [
    {
     "data": {
      "text/plain": [
       "0.0071644456488543845"
      ]
     },
     "execution_count": 14,
     "metadata": {},
     "output_type": "execute_result"
    }
   ],
   "source": [
    "(X_tr != 0).sum()  # Sum of values thatis NOT one.\n",
    "\n",
    "non_zeros = (X_tr != 0).sum()\n",
    "total_count = np.prod(X_tr.toarray().shape)\n",
    "\n",
    "# Percentage of non-zero values\n",
    "non_zeros / total_count"
   ]
  },
  {
   "cell_type": "code",
   "execution_count": 15,
   "metadata": {},
   "outputs": [
    {
     "name": "stdout",
     "output_type": "stream",
     "text": [
      "Train accuracy: 0.993\n",
      "Test accuracy: 0.955\n"
     ]
    }
   ],
   "source": [
    "nb_model = MultinomialNB()\n",
    "\n",
    "nb_model.fit(X_tr, y_train)\n",
    "\n",
    "# Check the accuracy\n",
    "train_accuracy = nb_model.score(X_tr, y_train)\n",
    "val_accuracy = nb_model.score(X_val, y_validate)\n",
    "\n",
    "print(f\"Train accuracy: {train_accuracy:.3f}\")\n",
    "print(f\"Test accuracy: {val_accuracy:.3f}\")"
   ]
  },
  {
   "cell_type": "code",
   "execution_count": 16,
   "metadata": {},
   "outputs": [
    {
     "name": "stdout",
     "output_type": "stream",
     "text": [
      "Shape X_train: (2002, 27959)\n",
      "Train accuracy: 0.994\n",
      "Test accuracy: 0.955\n"
     ]
    }
   ],
   "source": [
    "# Train a new model by removing the stop words\n",
    "vectorizer = CountVectorizer(stop_words=\"english\")\n",
    "# Count the words (vector of numbers!)\n",
    "X_tr = vectorizer.fit_transform(X_train)\n",
    "X_val = vectorizer.transform(x_validate)\n",
    "print(f\"Shape X_train: {X_tr.shape}\")\n",
    "\n",
    "# Train the model\n",
    "nb_model = MultinomialNB()\n",
    "nb_model.fit(X_tr, y_train)\n",
    "\n",
    "# Check the accuracy\n",
    "train_accuracy = nb_model.score(X_tr, y_train)\n",
    "val_accuracy = nb_model.score(X_val, y_validate)\n",
    "\n",
    "print(f\"Train accuracy: {train_accuracy:.3f}\")\n",
    "print(f\"Test accuracy: {val_accuracy:.3f}\")"
   ]
  },
  {
   "cell_type": "code",
   "execution_count": 17,
   "metadata": {},
   "outputs": [
    {
     "name": "stdout",
     "output_type": "stream",
     "text": [
      "IAAF IAAF\n"
     ]
    }
   ],
   "source": [
    "text = X_train.iat[5]\n",
    "doc = nlp(text)\n",
    "\n",
    "for token in doc:\n",
    "    print(token.text, token.lemma_)\n",
    "    break"
   ]
  },
  {
   "cell_type": "code",
   "execution_count": 18,
   "metadata": {},
   "outputs": [],
   "source": [
    "class LemmaTokenizer:\n",
    "    \"\"\"This is used to tokenize and lemmatize a text.\"\"\"\n",
    "\n",
    "    def __init__(self) -> None:\n",
    "        self.nlp = nlp\n",
    "\n",
    "    def __call__(self, text: str, *args: Any, **kwargs: Any) -> Any:\n",
    "        doc = self.nlp(text)  # Tokenize the text\n",
    "        lemmatized_doc = [token.lemma_ for token in doc]\n",
    "        return lemmatized_doc\n",
    "\n",
    "\n",
    "class Tokenizer:\n",
    "    \"\"\"This is used to tokenize a text.\"\"\"\n",
    "\n",
    "    def __init__(self) -> None:\n",
    "        self.nlp = nlp\n",
    "\n",
    "    def __call__(self, text: str, *args: Any, **kwargs: Any) -> Any:\n",
    "        doc = self.nlp(text)  # Tokenize the text\n",
    "        tokenized_doc = [token.text for token in doc]\n",
    "        return tokenized_doc"
   ]
  },
  {
   "cell_type": "code",
   "execution_count": 19,
   "metadata": {},
   "outputs": [
    {
     "data": {
      "text/plain": [
       "['the', 'International']"
      ]
     },
     "execution_count": 19,
     "metadata": {},
     "output_type": "execute_result"
    }
   ],
   "source": [
    "l = LemmaTokenizer()\n",
    "l(text=text)[20:22]"
   ]
  },
  {
   "cell_type": "code",
   "execution_count": 20,
   "metadata": {},
   "outputs": [
    {
     "data": {
      "text/plain": [
       "['the', 'International']"
      ]
     },
     "execution_count": 20,
     "metadata": {},
     "output_type": "execute_result"
    }
   ],
   "source": [
    "t = Tokenizer()\n",
    "t(text=text)[20:22]"
   ]
  },
  {
   "cell_type": "code",
   "execution_count": 21,
   "metadata": {},
   "outputs": [
    {
     "name": "stdout",
     "output_type": "stream",
     "text": [
      "Shape X_train: (2002, 23923)\n",
      "Train accuracy: 0.992\n",
      "Test accuracy: 0.960\n"
     ]
    }
   ],
   "source": [
    "# Train a new model with lemmatization. (It takes a while to train)\n",
    "vectorizer = CountVectorizer(tokenizer=LemmaTokenizer())\n",
    "# Count the words (vector of numbers!)\n",
    "X_tr = vectorizer.fit_transform(X_train)\n",
    "X_val = vectorizer.transform(x_validate)\n",
    "print(f\"Shape X_train: {X_tr.shape}\")\n",
    "\n",
    "# Train the model\n",
    "nb_model = MultinomialNB()\n",
    "nb_model.fit(X_tr, y_train)\n",
    "\n",
    "# Check the accuracy\n",
    "train_accuracy = nb_model.score(X_tr, y_train)\n",
    "val_accuracy = nb_model.score(X_val, y_validate)\n",
    "\n",
    "print(f\"Train accuracy: {train_accuracy:.3f}\")\n",
    "print(f\"Test accuracy: {val_accuracy:.3f}\")"
   ]
  },
  {
   "cell_type": "code",
   "execution_count": 22,
   "metadata": {},
   "outputs": [
    {
     "name": "stdout",
     "output_type": "stream",
     "text": [
      "Shape X_train: (2002, 29363)\n",
      "Train accuracy: 0.993\n",
      "Test accuracy: 0.964\n"
     ]
    }
   ],
   "source": [
    "# Train a new model with using tokenized documents. (Using spaCy)\n",
    "# It takes a while to train\n",
    "vectorizer = CountVectorizer(tokenizer=Tokenizer())\n",
    "# Count the words (vector of numbers!)\n",
    "X_tr = vectorizer.fit_transform(X_train)\n",
    "X_val = vectorizer.transform(x_validate)\n",
    "print(f\"Shape X_train: {X_tr.shape}\")\n",
    "\n",
    "# Train the model\n",
    "nb_model = MultinomialNB()\n",
    "nb_model.fit(X_tr, y_train)\n",
    "\n",
    "# Check the accuracy\n",
    "train_accuracy = nb_model.score(X_tr, y_train)\n",
    "val_accuracy = nb_model.score(X_val, y_validate)\n",
    "\n",
    "print(f\"Train accuracy: {train_accuracy:.3f}\")\n",
    "print(f\"Test accuracy: {val_accuracy:.3f}\")"
   ]
  },
  {
   "cell_type": "code",
   "execution_count": 23,
   "metadata": {},
   "outputs": [],
   "source": [
    "class SimpleTokenizer:\n",
    "    \"\"\"This is used to tokenize a text.\"\"\"\n",
    "\n",
    "    def __init__(self) -> None:\n",
    "        pass\n",
    "\n",
    "    def __call__(self, text: str, *args: Any, **kwargs: Any) -> Any:\n",
    "        tokenized_doc = text.split(\" \")  # Tokenize the text\n",
    "        return tokenized_doc"
   ]
  },
  {
   "cell_type": "code",
   "execution_count": 24,
   "metadata": {},
   "outputs": [
    {
     "name": "stdout",
     "output_type": "stream",
     "text": [
      "Shape X_train: (2002, 63730)\n",
      "Train accuracy: 0.997\n",
      "Test accuracy: 0.955\n"
     ]
    }
   ],
   "source": [
    "# Train a new model with using tokenized documents.\n",
    "vectorizer = CountVectorizer(tokenizer=SimpleTokenizer())\n",
    "# Count the words (vector of numbers!)\n",
    "X_tr = vectorizer.fit_transform(X_train)\n",
    "X_val = vectorizer.transform(x_validate)\n",
    "print(f\"Shape X_train: {X_tr.shape}\")\n",
    "\n",
    "# Train the model\n",
    "nb_model = MultinomialNB()\n",
    "nb_model.fit(X_tr, y_train)\n",
    "\n",
    "# Check the accuracy\n",
    "train_accuracy = nb_model.score(X_tr, y_train)\n",
    "val_accuracy = nb_model.score(X_val, y_validate)\n",
    "\n",
    "print(f\"Train accuracy: {train_accuracy:.3f}\")\n",
    "print(f\"Test accuracy: {val_accuracy:.3f}\")"
   ]
  },
  {
   "attachments": {},
   "cell_type": "markdown",
   "metadata": {},
   "source": [
    "<br>\n",
    "<hr>\n",
    "\n",
    "## Euclidean Distance [Wikipedia]([Wikipedia](https://en.wikipedia.org/wiki/Euclidean_distance))\n",
    "\n",
    "The `Euclidean distance` between two points in Euclidean space is the length of a line segment between the two points. It can be calculated from the Cartesian coordinates of the points using the Pythagorean theorem, therefore occasionally being called the Pythagorean distance.\n",
    "\n",
    "* The larger the distance, the more `dissimilar` the points/words are.\n",
    "\n",
    "$$\n",
    "|| x - y ||_2 = \\sqrt{(x_1 - x_2)^2 + (y_1 - y_2)^2 + ... + (x_d - x_d)^2 }\n",
    "$$\n",
    "\n",
    "## Cosine Similarity [Wikipedia](https://en.wikipedia.org/wiki/Cosine_similarity)\n",
    "\n",
    "`Cosine similarity` is a measure of similarity between two sequences of numbers. For defining it, the sequences are viewed as vectors in an inner product space, and the ***cosine similarity is defined as the cosine of the angle between them***, that is, the dot product of the vectors divided by the product of their lengths. \n",
    "\n",
    "$$\n",
    "x^T*y = ||x||_2 * ||y||_2 * cos\\theta\n",
    "$$\n",
    "\n",
    "$$\n",
    "cos\\theta = \\frac{A.B}{||A|| ||B||} = \\frac{\\sum_{i=1}^n{A_iB_i}}{\\sqrt{\\sum_{i=1}^n{A_i^2}}\\sqrt{\\sum_{i=1}^n{B_i^2}}}\n",
    "$$\n",
    "\n",
    "It follows that the cosine similarity does not depend on the magnitudes of the vectors, but only on their angle. The cosine similarity always belongs to the interval \n",
    "[-1,1]. i.e `-1` is the minimum value while `1` is the maximum value.\n",
    "\n",
    "For example, two proportional vectors have a cosine similarity of 1, two orthogonal vectors have a similarity of 0, and two opposite vectors have a similarity of -1. The cosine similarity is particularly used in positive space, where the outcome is neatly bounded in [0,1]\n",
    "\n",
    "<br>\n",
    "\n",
    "## Cosine Distance\n",
    "\n",
    "$$\n",
    "\\mathbf{Cosine Distance}  = 1 - \\mathbf{Cosine Similarity}\n",
    "$$\n",
    "\n",
    "* The minimum cosine distance is `0` while the maximum distance is `2`\n",
    "\n",
    "\n",
    "### Note:\n",
    "\n",
    "* The `Cosine distance` is not a proper distance metric because it does not have the triangle inequality property.\n",
    "* It's better to use `Cosine distance` instead od `Euclidean distance`.\n",
    "\n",
    "<br>\n",
    "\n",
    "\n",
    "## TF-IDF (Term Frequency Inverse Document Frequency)\n",
    "The term `Term Frequency Inverse Document Frequency` refers to a numerical statistic that indicates how important a word is to a document in a collection or corpus. It is often used as a weighting factor in searches of information retrieval, text mining, and user modeling. \n",
    "\n",
    "The `tf-idf ` value increases proportionally to the number of times a word appears in the document and is offset by the number of documents in the corpus that contain the word, which helps to account for the fact that some words appear more frequently in general.\n",
    "\n",
    "### Term Frequency (TF)\n",
    "\n",
    "Term frequency, `tf(t,d)`, is the relative frequency of term ***`t`*** within document ***`d`***\n",
    "\n",
    "$$\n",
    "tf(t,d) = \\frac{count of t in d}{number of words in d}\n",
    "$$\n",
    "\n",
    "## Document Frequency\n",
    "\n",
    "`Document Frequency` is the number of documents, `d` in which the term, `t` is present.\n",
    "\n",
    "```code\n",
    "df = occurences of t in document\n",
    "```\n",
    "\n",
    "\n",
    "## Inverse Document Frequency\n",
    "\n",
    "Let `N(t)` be the number of documents term `t` appears in. There are a few other issues with the IDF; for example, if the corpus is large, say 100,000,000, the IDF value explodes; to avoid this effect, we take the log of idf.\n",
    "\n",
    "$$\n",
    "\\mathbf{idf}(t,d) = \\log\\frac{N}{N(t)}\n",
    "$$\n",
    "\n",
    "\n",
    "When a word that is not in the vocab occurs during the query, the ***`document frequency`*** is 0. Because we can't divide by zero, we smooth the value by adding 1 to the denominator.\n",
    "\n",
    "$$\n",
    "\\mathbf{idf}(t,d) = \\log\\frac{N}{N(t) + 1}\n",
    "$$\n",
    "\n",
    "\n",
    "$$\n",
    "\\mathbf{tfidf}(t,d) =tf(t,d) \\times idf(t)\n",
    "$$\n",
    "\n",
    "\n",
    "\n"
   ]
  },
  {
   "cell_type": "code",
   "execution_count": null,
   "metadata": {},
   "outputs": [],
   "source": []
  },
  {
   "attachments": {},
   "cell_type": "markdown",
   "metadata": {},
   "source": [
    "## Exercise\n",
    "\n",
    "* Build a movie recommender system that recommends the top 5 most similar movies based on a queried movie.\n",
    "* Hint:\n",
    "  * Calculate the tfidf value of the queried movie\n",
    "  * Compute the similarity between the queried movie and all other movies in the DB.\n",
    "  * Sort by the similarity.\n",
    "  * Select the top 5 mos similar movie."
   ]
  },
  {
   "cell_type": "code",
   "execution_count": 25,
   "metadata": {},
   "outputs": [
    {
     "name": "stdout",
     "output_type": "stream",
     "text": [
      "Shape of df: (4803, 20)\n",
      "\n"
     ]
    },
    {
     "data": {
      "text/html": [
       "<div>\n",
       "<style scoped>\n",
       "    .dataframe tbody tr th:only-of-type {\n",
       "        vertical-align: middle;\n",
       "    }\n",
       "\n",
       "    .dataframe tbody tr th {\n",
       "        vertical-align: top;\n",
       "    }\n",
       "\n",
       "    .dataframe thead th {\n",
       "        text-align: right;\n",
       "    }\n",
       "</style>\n",
       "<table border=\"1\" class=\"dataframe\">\n",
       "  <thead>\n",
       "    <tr style=\"text-align: right;\">\n",
       "      <th></th>\n",
       "      <th>budget</th>\n",
       "      <th>genres</th>\n",
       "      <th>homepage</th>\n",
       "      <th>id</th>\n",
       "      <th>keywords</th>\n",
       "      <th>original_language</th>\n",
       "      <th>original_title</th>\n",
       "      <th>overview</th>\n",
       "      <th>popularity</th>\n",
       "      <th>production_companies</th>\n",
       "      <th>production_countries</th>\n",
       "      <th>release_date</th>\n",
       "      <th>revenue</th>\n",
       "      <th>runtime</th>\n",
       "      <th>spoken_languages</th>\n",
       "      <th>status</th>\n",
       "      <th>tagline</th>\n",
       "      <th>title</th>\n",
       "      <th>vote_average</th>\n",
       "      <th>vote_count</th>\n",
       "    </tr>\n",
       "  </thead>\n",
       "  <tbody>\n",
       "    <tr>\n",
       "      <th>0</th>\n",
       "      <td>237000000</td>\n",
       "      <td>[{\"id\": 28, \"name\": \"Action\"}, {\"id\": 12, \"name\": \"Adventure\"}, {\"id\": 14, \"name\": \"Fantasy\"}, {\"id\": 878, \"name\": \"Science Fiction\"}]</td>\n",
       "      <td>http://www.avatarmovie.com/</td>\n",
       "      <td>19995</td>\n",
       "      <td>[{\"id\": 1463, \"name\": \"culture clash\"}, {\"id\": 2964, \"name\": \"future\"}, {\"id\": 3386, \"name\": \"space war\"}, {\"id\": 3388, \"name\": \"space colony\"}, {\"id\": 3679, \"name\": \"society\"}, {\"id\": 3801, \"name\": \"space travel\"}, {\"id\": 9685, \"name\": \"futuristic\"}, {\"id\": 9840, \"name\": \"romance\"}, {\"id\": 9882, \"name\": \"space\"}, {\"id\": 9951, \"name\": \"alien\"}, {\"id\": 10148, \"name\": \"tribe\"}, {\"id\": 10158, \"name\": \"alien planet\"}, {\"id\": 10987, \"name\": \"cgi\"}, {\"id\": 11399, \"name\": \"marine\"}, {\"id\": 13065, \"name\": \"soldier\"}, {\"id\": 14643, \"name\": \"battle\"}, {\"id\": 14720, \"name\": \"love affair\"}, {\"id\": 165...</td>\n",
       "      <td>en</td>\n",
       "      <td>Avatar</td>\n",
       "      <td>In the 22nd century, a paraplegic Marine is dispatched to the moon Pandora on a unique mission, but becomes torn between following orders and protecting an alien civilization.</td>\n",
       "      <td>150.437577</td>\n",
       "      <td>[{\"name\": \"Ingenious Film Partners\", \"id\": 289}, {\"name\": \"Twentieth Century Fox Film Corporation\", \"id\": 306}, {\"name\": \"Dune Entertainment\", \"id\": 444}, {\"name\": \"Lightstorm Entertainment\", \"id\": 574}]</td>\n",
       "      <td>[{\"iso_3166_1\": \"US\", \"name\": \"United States of America\"}, {\"iso_3166_1\": \"GB\", \"name\": \"United Kingdom\"}]</td>\n",
       "      <td>2009-12-10</td>\n",
       "      <td>2787965087</td>\n",
       "      <td>162.0</td>\n",
       "      <td>[{\"iso_639_1\": \"en\", \"name\": \"English\"}, {\"iso_639_1\": \"es\", \"name\": \"Espa\\u00f1ol\"}]</td>\n",
       "      <td>Released</td>\n",
       "      <td>Enter the World of Pandora.</td>\n",
       "      <td>Avatar</td>\n",
       "      <td>7.2</td>\n",
       "      <td>11800</td>\n",
       "    </tr>\n",
       "  </tbody>\n",
       "</table>\n",
       "</div>"
      ],
      "text/plain": [
       "      budget  \\\n",
       "0  237000000   \n",
       "\n",
       "                                                                                                                                   genres  \\\n",
       "0  [{\"id\": 28, \"name\": \"Action\"}, {\"id\": 12, \"name\": \"Adventure\"}, {\"id\": 14, \"name\": \"Fantasy\"}, {\"id\": 878, \"name\": \"Science Fiction\"}]   \n",
       "\n",
       "                      homepage     id  \\\n",
       "0  http://www.avatarmovie.com/  19995   \n",
       "\n",
       "                                                                                                                                                                                                                                                                                                                                                                                                                                                                                                                                                                                                                  keywords  \\\n",
       "0  [{\"id\": 1463, \"name\": \"culture clash\"}, {\"id\": 2964, \"name\": \"future\"}, {\"id\": 3386, \"name\": \"space war\"}, {\"id\": 3388, \"name\": \"space colony\"}, {\"id\": 3679, \"name\": \"society\"}, {\"id\": 3801, \"name\": \"space travel\"}, {\"id\": 9685, \"name\": \"futuristic\"}, {\"id\": 9840, \"name\": \"romance\"}, {\"id\": 9882, \"name\": \"space\"}, {\"id\": 9951, \"name\": \"alien\"}, {\"id\": 10148, \"name\": \"tribe\"}, {\"id\": 10158, \"name\": \"alien planet\"}, {\"id\": 10987, \"name\": \"cgi\"}, {\"id\": 11399, \"name\": \"marine\"}, {\"id\": 13065, \"name\": \"soldier\"}, {\"id\": 14643, \"name\": \"battle\"}, {\"id\": 14720, \"name\": \"love affair\"}, {\"id\": 165...   \n",
       "\n",
       "  original_language original_title  \\\n",
       "0                en         Avatar   \n",
       "\n",
       "                                                                                                                                                                          overview  \\\n",
       "0  In the 22nd century, a paraplegic Marine is dispatched to the moon Pandora on a unique mission, but becomes torn between following orders and protecting an alien civilization.   \n",
       "\n",
       "   popularity  \\\n",
       "0  150.437577   \n",
       "\n",
       "                                                                                                                                                                                          production_companies  \\\n",
       "0  [{\"name\": \"Ingenious Film Partners\", \"id\": 289}, {\"name\": \"Twentieth Century Fox Film Corporation\", \"id\": 306}, {\"name\": \"Dune Entertainment\", \"id\": 444}, {\"name\": \"Lightstorm Entertainment\", \"id\": 574}]   \n",
       "\n",
       "                                                                                         production_countries  \\\n",
       "0  [{\"iso_3166_1\": \"US\", \"name\": \"United States of America\"}, {\"iso_3166_1\": \"GB\", \"name\": \"United Kingdom\"}]   \n",
       "\n",
       "  release_date     revenue  runtime  \\\n",
       "0   2009-12-10  2787965087    162.0   \n",
       "\n",
       "                                                                        spoken_languages  \\\n",
       "0  [{\"iso_639_1\": \"en\", \"name\": \"English\"}, {\"iso_639_1\": \"es\", \"name\": \"Espa\\u00f1ol\"}]   \n",
       "\n",
       "     status                      tagline   title  vote_average  vote_count  \n",
       "0  Released  Enter the World of Pandora.  Avatar           7.2       11800  "
      ]
     },
     "execution_count": 25,
     "metadata": {},
     "output_type": "execute_result"
    }
   ],
   "source": [
    "from sklearn.feature_extraction.text import TfidfVectorizer\n",
    "from sklearn.metrics.pairwise import cosine_similarity, euclidean_distances\n",
    "\n",
    "\n",
    "movies_db = load_data(filename=\"../../data/tmdb_5000_movies.csv\")\n",
    "movies_db.head(1)"
   ]
  },
  {
   "cell_type": "code",
   "execution_count": 26,
   "metadata": {},
   "outputs": [],
   "source": [
    "def extract_values(input_: str) -> str:\n",
    "    \"\"\"This returns the extracted values as a string from a list of dict.\n",
    "\n",
    "    Params:\n",
    "        input_ (str): A string containing a list of key-value pairs.\n",
    "\n",
    "    Returns:\n",
    "        result (str): A string containing the extracted values.\n",
    "    \"\"\"\n",
    "    input_ = json.loads(input_)\n",
    "    extracted_values = []\n",
    "    for row in input_:\n",
    "        val = row.get(\"name\")\n",
    "        if len(val.split()) == 1:\n",
    "            extracted_values.append(val)\n",
    "            # if the val is a 2-word genre i.e \"Science Fiction\"\n",
    "        elif len(val.split()) > 1:\n",
    "            extracted_values.append(\"\".join(val.split()))\n",
    "    result = \" \".join(extracted_values)\n",
    "    return result\n",
    "\n",
    "\n",
    "def concat_columns(col_a: str, col_b: str) -> str:\n",
    "    \"\"\"This returns a concatenated string.\n",
    "\n",
    "    Params:\n",
    "        col_a (str): The 1st column.\n",
    "        col_b (str): The 2nd column.\n",
    "\n",
    "    Returns:\n",
    "        result (str): The concatenated string.\n",
    "    \"\"\"\n",
    "    result = f\"{col_a} {col_b}\"\n",
    "    return result"
   ]
  },
  {
   "cell_type": "code",
   "execution_count": 27,
   "metadata": {},
   "outputs": [
    {
     "data": {
      "text/plain": [
       "'[{\"id\": 28, \"name\": \"Action\"}, {\"id\": 12, \"name\": \"Adventure\"}, {\"id\": 14, \"name\": \"Fantasy\"}, {\"id\": 878, \"name\": \"Science Fiction\"}]'"
      ]
     },
     "execution_count": 27,
     "metadata": {},
     "output_type": "execute_result"
    }
   ],
   "source": [
    "genre = movies_db[\"genres\"].iat[0]\n",
    "genre"
   ]
  },
  {
   "cell_type": "code",
   "execution_count": 28,
   "metadata": {},
   "outputs": [
    {
     "data": {
      "text/plain": [
       "'Science Fiction'"
      ]
     },
     "execution_count": 28,
     "metadata": {},
     "output_type": "execute_result"
    }
   ],
   "source": [
    "\"\".join(\"Science Fiction\")"
   ]
  },
  {
   "cell_type": "code",
   "execution_count": 29,
   "metadata": {},
   "outputs": [
    {
     "data": {
      "text/plain": [
       "'Action Adventure Fantasy ScienceFiction'"
      ]
     },
     "execution_count": 29,
     "metadata": {},
     "output_type": "execute_result"
    }
   ],
   "source": [
    "extract_values(input_=genre)"
   ]
  },
  {
   "cell_type": "code",
   "execution_count": 30,
   "metadata": {},
   "outputs": [
    {
     "data": {
      "text/plain": [
       "'[{\"id\": 1463, \"name\": \"culture clash\"}, {\"id\": 2964, \"name\": \"future\"}, {\"id\": 3386, \"name\": \"space war\"}, {\"id\": 3388, \"name\": \"space colony\"}, {\"id\": 3679, \"name\": \"society\"}, {\"id\": 3801, \"name\": \"space travel\"}, {\"id\": 9685, \"name\": \"futuristic\"}, {\"id\": 9840, \"name\": \"romance\"}, {\"id\": 9882, \"name\": \"space\"}, {\"id\": 9951, \"name\": \"alien\"}, {\"id\": 10148, \"name\": \"tribe\"}, {\"id\": 10158, \"name\": \"alien planet\"}, {\"id\": 10987, \"name\": \"cgi\"}, {\"id\": 11399, \"name\": \"marine\"}, {\"id\": 13065, \"name\": \"soldier\"}, {\"id\": 14643, \"name\": \"battle\"}, {\"id\": 14720, \"name\": \"love affair\"}, {\"id\": 165431, \"name\": \"anti war\"}, {\"id\": 193554, \"name\": \"power relations\"}, {\"id\": 206690, \"name\": \"mind and soul\"}, {\"id\": 209714, \"name\": \"3d\"}]'"
      ]
     },
     "execution_count": 30,
     "metadata": {},
     "output_type": "execute_result"
    }
   ],
   "source": [
    "keywords = movies_db[\"keywords\"].iat[0]\n",
    "keywords"
   ]
  },
  {
   "cell_type": "code",
   "execution_count": 31,
   "metadata": {},
   "outputs": [
    {
     "data": {
      "text/plain": [
       "'cultureclash future spacewar spacecolony society spacetravel futuristic romance space alien tribe alienplanet cgi marine soldier battle loveaffair antiwar powerrelations mindandsoul 3d'"
      ]
     },
     "execution_count": 31,
     "metadata": {},
     "output_type": "execute_result"
    }
   ],
   "source": [
    "extract_values(input_=keywords)"
   ]
  },
  {
   "cell_type": "code",
   "execution_count": 32,
   "metadata": {},
   "outputs": [
    {
     "data": {
      "text/html": [
       "<div>\n",
       "<style scoped>\n",
       "    .dataframe tbody tr th:only-of-type {\n",
       "        vertical-align: middle;\n",
       "    }\n",
       "\n",
       "    .dataframe tbody tr th {\n",
       "        vertical-align: top;\n",
       "    }\n",
       "\n",
       "    .dataframe thead th {\n",
       "        text-align: right;\n",
       "    }\n",
       "</style>\n",
       "<table border=\"1\" class=\"dataframe\">\n",
       "  <thead>\n",
       "    <tr style=\"text-align: right;\">\n",
       "      <th></th>\n",
       "      <th>id</th>\n",
       "      <th>genres</th>\n",
       "      <th>keywords</th>\n",
       "      <th>title</th>\n",
       "      <th>feature</th>\n",
       "    </tr>\n",
       "  </thead>\n",
       "  <tbody>\n",
       "    <tr>\n",
       "      <th>0</th>\n",
       "      <td>19995</td>\n",
       "      <td>Action Adventure Fantasy ScienceFiction</td>\n",
       "      <td>cultureclash future spacewar spacecolony society spacetravel futuristic romance space alien tribe alienplanet cgi marine soldier battle loveaffair antiwar powerrelations mindandsoul 3d</td>\n",
       "      <td>Avatar</td>\n",
       "      <td>Action Adventure Fantasy ScienceFiction cultureclash future spacewar spacecolony society spacetravel futuristic romance space alien tribe alienplanet cgi marine soldier battle loveaffair antiwar powerrelations mindandsoul 3d</td>\n",
       "    </tr>\n",
       "  </tbody>\n",
       "</table>\n",
       "</div>"
      ],
      "text/plain": [
       "      id                                   genres  \\\n",
       "0  19995  Action Adventure Fantasy ScienceFiction   \n",
       "\n",
       "                                                                                                                                                                                   keywords  \\\n",
       "0  cultureclash future spacewar spacecolony society spacetravel futuristic romance space alien tribe alienplanet cgi marine soldier battle loveaffair antiwar powerrelations mindandsoul 3d   \n",
       "\n",
       "    title  \\\n",
       "0  Avatar   \n",
       "\n",
       "                                                                                                                                                                                                                            feature  \n",
       "0  Action Adventure Fantasy ScienceFiction cultureclash future spacewar spacecolony society spacetravel futuristic romance space alien tribe alienplanet cgi marine soldier battle loveaffair antiwar powerrelations mindandsoul 3d  "
      ]
     },
     "execution_count": 32,
     "metadata": {},
     "output_type": "execute_result"
    }
   ],
   "source": [
    "movies = movies_db[[\"id\", \"genres\", \"keywords\", \"title\"]]\n",
    "movies = movies.assign(\n",
    "    genres=lambda x: x[\"genres\"].apply(extract_values),\n",
    "    keywords=lambda x: x[\"keywords\"].apply(extract_values),\n",
    ")\n",
    "# Concat the columns\n",
    "movies[\"feature\"] = movies.apply(\n",
    "    lambda x: concat_columns(x[\"genres\"], x[\"keywords\"]), axis=\"columns\"\n",
    ")\n",
    "\n",
    "movies.head(1)"
   ]
  },
  {
   "cell_type": "code",
   "execution_count": 33,
   "metadata": {},
   "outputs": [
    {
     "data": {
      "text/plain": [
       "(4803, 5000)"
      ]
     },
     "execution_count": 33,
     "metadata": {},
     "output_type": "execute_result"
    }
   ],
   "source": [
    "X = movies[\"feature\"]\n",
    "tfidf = TfidfVectorizer(max_features=5_000)\n",
    "X_tr = tfidf.fit_transform(X)\n",
    "X_tr.shape"
   ]
  },
  {
   "cell_type": "code",
   "execution_count": 34,
   "metadata": {},
   "outputs": [
    {
     "data": {
      "text/plain": [
       "title\n",
       "Machete Kills                     2229\n",
       "The Cell                          1379\n",
       "The Lost Boys                     3210\n",
       "Hot Pursuit                       1432\n",
       "Saving Mr. Banks                  1386\n",
       "East Is East                      3924\n",
       "The Past Is a Grotesque Animal    4736\n",
       "Burnt                             2215\n",
       "Only the Strong                   3485\n",
       "Sky High                          1375\n",
       "dtype: int64"
      ]
     },
     "execution_count": 34,
     "metadata": {},
     "output_type": "execute_result"
    }
   ],
   "source": [
    "# Swap the indices with the titles.\n",
    "movie_2_idx = pd.Series(data=movies.index, index=movies[\"title\"])\n",
    "\n",
    "movie_2_idx.sample(n=10)"
   ]
  },
  {
   "cell_type": "code",
   "execution_count": 35,
   "metadata": {},
   "outputs": [
    {
     "data": {
      "text/plain": [
       "64"
      ]
     },
     "execution_count": 35,
     "metadata": {},
     "output_type": "execute_result"
    }
   ],
   "source": [
    "# movie title\n",
    "m_title = \"X-Men: Apocalypse\"\n",
    "# Get the index\n",
    "idx = movie_2_idx.loc[m_title]\n",
    "idx"
   ]
  },
  {
   "cell_type": "code",
   "execution_count": 36,
   "metadata": {},
   "outputs": [
    {
     "data": {
      "text/plain": [
       "<1x5000 sparse matrix of type '<class 'numpy.float64'>'\n",
       "\twith 11 stored elements in Compressed Sparse Row format>"
      ]
     },
     "execution_count": 36,
     "metadata": {},
     "output_type": "execute_result"
    }
   ],
   "source": [
    "query = X_tr[idx]\n",
    "query"
   ]
  },
  {
   "cell_type": "code",
   "execution_count": 37,
   "metadata": {},
   "outputs": [
    {
     "data": {
      "text/plain": [
       "array([[0., 0., 0., ..., 0., 0., 0.]])"
      ]
     },
     "execution_count": 37,
     "metadata": {},
     "output_type": "execute_result"
    }
   ],
   "source": [
    "query.toarray()"
   ]
  },
  {
   "cell_type": "code",
   "execution_count": 38,
   "metadata": {},
   "outputs": [
    {
     "data": {
      "text/plain": [
       "array([[0.01561882, 0.03213939, 0.        , ..., 0.        , 0.        ,\n",
       "        0.        ]])"
      ]
     },
     "execution_count": 38,
     "metadata": {},
     "output_type": "execute_result"
    }
   ],
   "source": [
    "# Compute Cosine similarity\n",
    "sim = cosine_similarity(query, X_tr)\n",
    "sim"
   ]
  },
  {
   "cell_type": "code",
   "execution_count": 39,
   "metadata": {},
   "outputs": [
    {
     "data": {
      "text/plain": [
       "array([0.01561882, 0.03213939, 0.        , ..., 0.        , 0.        ,\n",
       "       0.        ])"
      ]
     },
     "execution_count": 39,
     "metadata": {},
     "output_type": "execute_result"
    }
   ],
   "source": [
    "# Flatten to array to a 1-D array\n",
    "sim = sim.flatten()\n",
    "sim"
   ]
  },
  {
   "cell_type": "code",
   "execution_count": 40,
   "metadata": {},
   "outputs": [
    {
     "data": {
      "text/plain": [
       "[<matplotlib.lines.Line2D at 0x7fc5f519a770>]"
      ]
     },
     "execution_count": 40,
     "metadata": {},
     "output_type": "execute_result"
    },
    {
     "data": {
      "image/png": "[encoded data removed]",
      "text/plain": [
       "<Figure size 640x480 with 1 Axes>"
      ]
     },
     "metadata": {},
     "output_type": "display_data"
    }
   ],
   "source": [
    "plt.plot(sim)"
   ]
  },
  {
   "cell_type": "code",
   "execution_count": 41,
   "metadata": {},
   "outputs": [
    {
     "data": {
      "text/plain": [
       "(array([2401, 3112, 3113, ...,  203,  511,   64]),\n",
       " array([  64,  511,  203, ..., 1870, 1855, 4802]))"
      ]
     },
     "execution_count": 41,
     "metadata": {},
     "output_type": "execute_result"
    }
   ],
   "source": [
    "# Sort the array using the indices. Reverse the sorted array\n",
    "sim.argsort(), (-sim).argsort()"
   ]
  },
  {
   "cell_type": "code",
   "execution_count": 42,
   "metadata": {},
   "outputs": [
    {
     "data": {
      "image/png": "[encoded data removed]",
      "text/plain": [
       "<Figure size 640x480 with 1 Axes>"
      ]
     },
     "metadata": {},
     "output_type": "display_data"
    }
   ],
   "source": [
    "plt.plot(sim[(-sim).argsort()[1:6]])\n",
    "plt.title(\"The Cosine Similarity of The Top 5 Most Similar Movies\", size=14)\n",
    "plt.show()"
   ]
  },
  {
   "cell_type": "code",
   "execution_count": 43,
   "metadata": {},
   "outputs": [
    {
     "data": {
      "text/plain": [
       "array([511, 203,  33, 232,  16])"
      ]
     },
     "execution_count": 43,
     "metadata": {},
     "output_type": "execute_result"
    }
   ],
   "source": [
    "# Get the indices of the top 5 most similar movies.\n",
    "# Slice from 1 to avoid selecting the actual queried movie.\n",
    "rec_idx = (-sim).argsort()[1:6]\n",
    "rec_idx"
   ]
  },
  {
   "cell_type": "code",
   "execution_count": 44,
   "metadata": {},
   "outputs": [
    {
     "data": {
      "text/plain": [
       "title\n",
       "X-Men                    511\n",
       "X2                       203\n",
       "X-Men: The Last Stand     33\n",
       "The Wolverine            232\n",
       "The Avengers              16\n",
       "dtype: int64"
      ]
     },
     "execution_count": 44,
     "metadata": {},
     "output_type": "execute_result"
    }
   ],
   "source": [
    "# Display the recommended movies\n",
    "movie_2_idx.iloc[rec_idx]"
   ]
  },
  {
   "cell_type": "code",
   "execution_count": null,
   "metadata": {},
   "outputs": [],
   "source": []
  },
  {
   "cell_type": "code",
   "execution_count": 48,
   "metadata": {},
   "outputs": [],
   "source": [
    "def preprocess_data(*, db: pd.DataFrame) -> pd.DataFrame:\n",
    "    \"\"\"This is used to prepare the data.\"\"\"\n",
    "    db = db.copy()\n",
    "    columns = [\"genres\", \"keywords\", \"title\"]\n",
    "    db = db[columns]  # Select relevant columns\n",
    "    # Preprocess data\n",
    "    db = db.assign(\n",
    "        genres=lambda x: x[\"genres\"].apply(extract_values),\n",
    "        keywords=lambda x: x[\"keywords\"].apply(extract_values),\n",
    "    )\n",
    "\n",
    "    db = db.assign(\n",
    "        preprocessed_feature=db.apply(\n",
    "            lambda x: concat_columns(x[\"genres\"], x[\"keywords\"]), axis=\"columns\"\n",
    "        )\n",
    "    )\n",
    "\n",
    "    return db\n",
    "\n",
    "\n",
    "def get_tfidf(*, cleaned_data: pd.DataFrame, max_features: int) -> np.ndarray:\n",
    "    \"\"\"This calculates the tf-idf of the data.\"\"\"\n",
    "    feature = cleaned_data.columns[-1]\n",
    "    tfidf = TfidfVectorizer(stop_words=\"english\", max_features=max_features)\n",
    "    X_tr = tfidf.fit_transform(cleaned_data[feature])\n",
    "    return X_tr\n",
    "\n",
    "\n",
    "def get_movie_index_series(*, db: pd.DataFrame) -> pd.Series:\n",
    "    \"\"\"This resturns a Pandas Series containing the index of the movies\n",
    "    and the movie titles.\"\"\"\n",
    "    index_series = pd.Series(db.index, index=db[\"title\"])\n",
    "    return index_series\n",
    "\n",
    "\n",
    "def select_n_movies(\n",
    "    *, index_series: pd.Series, similarity: np.ndarray, n: int = 5\n",
    ") -> list:\n",
    "    \"\"\"This selects the `n` top movies.\"\"\"\n",
    "    # Select the movies and convert to a list\n",
    "    result = index_series.iloc[(-similarity).argsort()[1 : n + 1]].index\n",
    "    result = list(result)\n",
    "    return result"
   ]
  },
  {
   "cell_type": "code",
   "execution_count": 49,
   "metadata": {},
   "outputs": [],
   "source": [
    "def movie_recommender(*, db: pd.DataFrame, movie_title: str) -> list:\n",
    "    \"\"\"This returns a list of 5 most similar movies.\"\"\"\n",
    "    processed_data = preprocess_data(db=db)\n",
    "    X_tfidf = get_tfidf(cleaned_data=processed_data, max_features=5_000)\n",
    "    # Obtain Series containing movie index and movie titles\n",
    "    index_series = get_movie_index_series(db=processed_data)\n",
    "    query_idx = index_series.loc[movie_title]  # Index of the queried movie\n",
    "    # Calculate TFIDF of queried movie\n",
    "    query_tfidf = X_tfidf[query_idx]\n",
    "    # Calculate similarity\n",
    "    similarity = cosine_similarity(X=query_tfidf, Y=X_tfidf)\n",
    "    # Flatten the similarity (i.e convert to 1-D)\n",
    "    similarity = similarity.flatten()\n",
    "    rec_movies = select_n_movies(index_series=index_series, similarity=similarity, n=5)\n",
    "    return {\"recommended_movies\": rec_movies}"
   ]
  },
  {
   "cell_type": "code",
   "execution_count": 50,
   "metadata": {},
   "outputs": [
    {
     "data": {
      "text/plain": [
       "{'recommended_movies': ['Spaced Invaders',\n",
       "  'My Favorite Martian',\n",
       "  'The Last Days on Mars',\n",
       "  'Guiana 1838',\n",
       "  'Mission to Mars']}"
      ]
     },
     "execution_count": 50,
     "metadata": {},
     "output_type": "execute_result"
    }
   ],
   "source": [
    "movie_title = \"John Carter\"\n",
    "\n",
    "movie_recommender(db=movies_db, movie_title=movie_title)"
   ]
  },
  {
   "cell_type": "code",
   "execution_count": null,
   "metadata": {},
   "outputs": [],
   "source": []
  },
  {
   "cell_type": "code",
   "execution_count": null,
   "metadata": {},
   "outputs": [],
   "source": []
  },
  {
   "cell_type": "code",
   "execution_count": null,
   "metadata": {},
   "outputs": [],
   "source": []
  }
 ],
 "metadata": {
  "kernelspec": {
   "display_name": "nlp_p310",
   "language": "python",
   "name": "python3"
  },
  "language_info": {
   "codemirror_mode": {
    "name": "ipython",
    "version": 3
   },
   "file_extension": ".py",
   "mimetype": "text/x-python",
   "name": "python",
   "nbconvert_exporter": "python",
   "pygments_lexer": "ipython3",
   "version": "3.10.9"
  },
  "orig_nbformat": 4,
  "vscode": {
   "interpreter": {
    "hash": "5c160606400bd63443fe4361c23f8347e54b6f9986e7c6d27e878f1970943f47"
   }
  }
 },
 "nbformat": 4,
 "nbformat_minor": 2
}
