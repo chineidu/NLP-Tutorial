{
 "cells": [
  {
   "cell_type": "markdown",
   "metadata": {},
   "source": [
    "# Perceptron"
   ]
  },
  {
   "cell_type": "code",
   "execution_count": 1,
   "metadata": {},
   "outputs": [
    {
     "name": "stdout",
     "output_type": "stream",
     "text": [
      "Python implementation: CPython\n",
      "Python version       : 3.11.8\n",
      "IPython version      : 8.22.2\n",
      "\n",
      "numpy    : 1.26.4\n",
      "pandas   : 2.2.1\n",
      "polars   : 0.20.18\n",
      "omegaconf: 2.3.0\n",
      "\n",
      "conda environment: torch_p11\n",
      "\n"
     ]
    }
   ],
   "source": [
    "%load_ext watermark\n",
    "%watermark -v -p numpy,pandas,polars,omegaconf --conda"
   ]
  },
  {
   "cell_type": "code",
   "execution_count": 2,
   "metadata": {},
   "outputs": [],
   "source": [
    "# Built-in library\n",
    "from pathlib import Path\n",
    "import re\n",
    "import json\n",
    "from typing import Any, Optional, Union\n",
    "import logging\n",
    "import warnings\n",
    "\n",
    "# Standard imports\n",
    "import numpy as np\n",
    "import numpy.typing as npt\n",
    "from pprint import pprint\n",
    "import pandas as pd\n",
    "import polars as pl\n",
    "from rich.console import Console\n",
    "from rich.theme import Theme\n",
    "\n",
    "custom_theme = Theme(\n",
    "    {\n",
    "        \"info\": \"#76FF7B\",\n",
    "        \"warning\": \"#FBDDFE\",\n",
    "        \"error\": \"#FF0000\",\n",
    "    }\n",
    ")\n",
    "console = Console(theme=custom_theme)\n",
    "\n",
    "# Visualization\n",
    "import matplotlib.pyplot as plt\n",
    "\n",
    "\n",
    "# Pandas settings\n",
    "pd.options.display.max_rows = 1_000\n",
    "pd.options.display.max_columns = 1_000\n",
    "pd.options.display.max_colwidth = 600\n",
    "\n",
    "warnings.filterwarnings(\"ignore\")\n",
    "\n",
    "\n",
    "# Black code formatter (Optional)\n",
    "%load_ext lab_black\n",
    "\n",
    "# auto reload imports\n",
    "%load_ext autoreload\n",
    "%autoreload 2"
   ]
  },
  {
   "cell_type": "markdown",
   "metadata": {},
   "source": [
    "### Perceptron Learning Algorithm\n",
    "\n",
    "**Predict the output:**\n",
    "$$z = w^T x + b$$\n",
    "$$\\hat{y} = \\sigma(z)$$\n",
    "\n",
    "**Update the weights and bias (Fit):**\n",
    "$$\\Delta{w_{j}} = \\eta (y - \\hat{y}) x_{j}$$\n",
    "$$\\Delta{b} = \\eta (y - \\hat{y})$$\n",
    "\n",
    "$$w_{j} = w_{j} + \\Delta{w_{j}}$$\n",
    "$$b = b + \\Delta{b}$$\n",
    "\n",
    "\n",
    "<br>\n",
    "\n",
    "Where:\n",
    "\n",
    "$\\Delta{w_{j}}$ is the change in weight, $\\Delta{b}$ is the change in bias, $\\eta$ is the learning rate."
   ]
  },
  {
   "cell_type": "code",
   "execution_count": 3,
   "metadata": {},
   "outputs": [],
   "source": [
    "class Perceptron:\n",
    "    \"\"\"\n",
    "    Perceptron classifier.\n",
    "\n",
    "    Parameters\n",
    "    ----------\n",
    "    eta : float\n",
    "        Learning rate (between 0.0 and 1.0)\n",
    "    epochs : int\n",
    "        Number of passes over the training dataset\n",
    "    seed : int, optional (default=42)\n",
    "        Random number generator seed for random weight initialization\n",
    "    \"\"\"\n",
    "\n",
    "    def __init__(self, eta: float, epochs: int, seed: int = 42) -> None:\n",
    "        \"\"\"\n",
    "        Initialize the perceptron.\n",
    "\n",
    "        Parameters\n",
    "        ----------\n",
    "        eta : float\n",
    "            Learning rate (between 0.0 and 1.0)\n",
    "        epochs : int\n",
    "            Number of passes over the training dataset\n",
    "        seed : int, optional (default=42)\n",
    "            Random number generator seed for random weight initialization\n",
    "        \"\"\"\n",
    "        assert 0 <= eta <= 1, \"eta must be between 0 and 1\"\n",
    "        assert epochs >= 1, \"epochs must be greater than 0\"\n",
    "        assert seed >= 0, \"seed must be greater than or equal to 0\"\n",
    "        self.eta = eta\n",
    "        self.epochs = epochs\n",
    "        self.seed = seed\n",
    "\n",
    "    def __repr__(self) -> str:\n",
    "        \"\"\"\n",
    "        Return a string representation of the perceptron.\n",
    "\n",
    "        Returns\n",
    "        -------\n",
    "        str\n",
    "            String representation of the perceptron\n",
    "        \"\"\"\n",
    "        return (\n",
    "            f\"{self.__class__.__name__}(eta={self.eta}, \"\n",
    "            f\"epochs={self.epochs}, seed={self.seed})\"\n",
    "        )\n",
    "\n",
    "    def fit(self, X: np.ndarray, y: np.ndarray) -> \"Perceptron\":\n",
    "        \"\"\"\n",
    "        Fit the training data.\n",
    "\n",
    "        Parameters\n",
    "        ----------\n",
    "        X : np.ndarray, shape = [n_samples, n_features]\n",
    "            Training vectors, where n_samples is the number of samples and\n",
    "            n_features is the number of features.\n",
    "        y : np.ndarray, shape = [n_samples]\n",
    "            Target values.\n",
    "\n",
    "        Returns\n",
    "        -------\n",
    "        self : object\n",
    "        \"\"\"\n",
    "        rng = np.random.default_rng(self.seed)\n",
    "        n_features: int = X.shape[1]\n",
    "        self.w_: np.ndarray = rng.normal(loc=0, scale=0.01, size=n_features)\n",
    "        self.b_: np.ndarray = np.float_(0)\n",
    "        self.errors_: list[int] = []\n",
    "\n",
    "        for _ in range(self.epochs):\n",
    "            errors: int = 0\n",
    "            for x, target in zip(X, y):\n",
    "                update: np.ndarray = self.eta * (target - self.predict(x))\n",
    "                self.w_ += update * x\n",
    "                self.b_ += update\n",
    "                errors += int(update != 0.0)\n",
    "            self.errors_.append(errors)\n",
    "        return self\n",
    "\n",
    "    def _predict(self, X: np.ndarray) -> np.ndarray:\n",
    "        \"\"\"\n",
    "        Calculate the linear activation.\n",
    "\n",
    "        Parameters\n",
    "        ----------\n",
    "        X : np.ndarray, shape = [n_samples, n_features]\n",
    "            Input vectors.\n",
    "\n",
    "        Returns\n",
    "        -------\n",
    "        z : np.ndarray, shape = [n_samples]\n",
    "            Linear activation\n",
    "        \"\"\"\n",
    "        z: np.ndarray = X.dot(self.w_) + self.b_\n",
    "        return z\n",
    "\n",
    "    def predict(self, X: np.ndarray) -> np.ndarray:\n",
    "        \"\"\"\n",
    "        Return class label after unit step.\n",
    "\n",
    "        Parameters\n",
    "        ----------\n",
    "        X : np.ndarray, shape = [n_samples, n_features]\n",
    "            Input vectors.\n",
    "\n",
    "        Returns\n",
    "        -------\n",
    "        class_labels : np.ndarray, shape = [n_samples]\n",
    "            Predicted class labels.\n",
    "        \"\"\"\n",
    "        return np.where(self._predict(X) >= 0.0, 1, 0)"
   ]
  },
  {
   "cell_type": "code",
   "execution_count": 4,
   "metadata": {},
   "outputs": [
    {
     "data": {
      "text/plain": [
       "Perceptron(eta=0.1, epochs=10, seed=2)"
      ]
     },
     "execution_count": 4,
     "metadata": {},
     "output_type": "execute_result"
    }
   ],
   "source": [
    "ppn: Perceptron = Perceptron(eta=0.1, epochs=10, seed=2)\n",
    "\n",
    "X: np.ndarray = np.array([[1, 2, 3, 2.5, -5], [2.0, 5.0, -5.0, -2.0, 3.5]]).reshape(\n",
    "    -1, 2\n",
    ")\n",
    "y = np.array([1, 1, 0, 1, 0])\n",
    "\n",
    "ppn.fit(X, y)"
   ]
  },
  {
   "cell_type": "code",
   "execution_count": 5,
   "metadata": {},
   "outputs": [
    {
     "data": {
      "text/plain": [
       "array([1, 1, 0, 1, 0])"
      ]
     },
     "execution_count": 5,
     "metadata": {},
     "output_type": "execute_result"
    }
   ],
   "source": [
    "ppn.predict(X)"
   ]
  },
  {
   "cell_type": "code",
   "execution_count": 6,
   "metadata": {},
   "outputs": [
    {
     "data": {
      "text/plain": [
       "(array([ 0.19143556,  1.24260289, -3.41990764,  4.73559009, -2.07207726]),\n",
       " (5, 2))"
      ]
     },
     "execution_count": 6,
     "metadata": {},
     "output_type": "execute_result"
    }
   ],
   "source": [
    "# Raw values\n",
    "ppn._predict(X), X.shape"
   ]
  },
  {
   "cell_type": "code",
   "execution_count": 7,
   "metadata": {},
   "outputs": [
    {
     "data": {
      "text/plain": [
       "[2, 0, 0, 0, 0, 0, 0, 0, 0, 0]"
      ]
     },
     "execution_count": 7,
     "metadata": {},
     "output_type": "execute_result"
    }
   ],
   "source": [
    "ppn.errors_"
   ]
  },
  {
   "cell_type": "code",
   "execution_count": 8,
   "metadata": {},
   "outputs": [
    {
     "data": {
      "image/png": "[encoded data removed]",
      "text/plain": [
       "<Figure size 640x480 with 1 Axes>"
      ]
     },
     "metadata": {},
     "output_type": "display_data"
    }
   ],
   "source": [
    "# Visualize the errors\n",
    "ppn: Perceptron = Perceptron(eta=0.1, epochs=10, seed=2)\n",
    "ppn.fit(X, y)\n",
    "\n",
    "plt.plot(range(1, len(ppn.errors_) + 1), ppn.errors_, marker=\"o\")\n",
    "plt.xlabel(\"Epochs\")\n",
    "plt.ylabel(\"Number of errors\")\n",
    "plt.show()"
   ]
  },
  {
   "cell_type": "code",
   "execution_count": 9,
   "metadata": {},
   "outputs": [
    {
     "data": {
      "text/html": [
       "<div><style>\n",
       ".dataframe > thead > tr,\n",
       ".dataframe > tbody > tr {\n",
       "  text-align: right;\n",
       "  white-space: pre-wrap;\n",
       "}\n",
       "</style>\n",
       "<small>shape: (5, 5)</small><table border=\"1\" class=\"dataframe\"><thead><tr><th>sepal_length</th><th>sepal_width</th><th>petal_length</th><th>petal_width</th><th>class</th></tr><tr><td>f64</td><td>f64</td><td>f64</td><td>f64</td><td>str</td></tr></thead><tbody><tr><td>5.1</td><td>3.5</td><td>1.4</td><td>0.2</td><td>&quot;Iris-setosa&quot;</td></tr><tr><td>4.9</td><td>3.0</td><td>1.4</td><td>0.2</td><td>&quot;Iris-setosa&quot;</td></tr><tr><td>4.7</td><td>3.2</td><td>1.3</td><td>0.2</td><td>&quot;Iris-setosa&quot;</td></tr><tr><td>4.6</td><td>3.1</td><td>1.5</td><td>0.2</td><td>&quot;Iris-setosa&quot;</td></tr><tr><td>5.0</td><td>3.6</td><td>1.4</td><td>0.2</td><td>&quot;Iris-setosa&quot;</td></tr></tbody></table></div>"
      ],
      "text/plain": [
       "shape: (5, 5)\n",
       "┌──────────────┬─────────────┬──────────────┬─────────────┬─────────────┐\n",
       "│ sepal_length ┆ sepal_width ┆ petal_length ┆ petal_width ┆ class       │\n",
       "│ ---          ┆ ---         ┆ ---          ┆ ---         ┆ ---         │\n",
       "│ f64          ┆ f64         ┆ f64          ┆ f64         ┆ str         │\n",
       "╞══════════════╪═════════════╪══════════════╪═════════════╪═════════════╡\n",
       "│ 5.1          ┆ 3.5         ┆ 1.4          ┆ 0.2         ┆ Iris-setosa │\n",
       "│ 4.9          ┆ 3.0         ┆ 1.4          ┆ 0.2         ┆ Iris-setosa │\n",
       "│ 4.7          ┆ 3.2         ┆ 1.3          ┆ 0.2         ┆ Iris-setosa │\n",
       "│ 4.6          ┆ 3.1         ┆ 1.5          ┆ 0.2         ┆ Iris-setosa │\n",
       "│ 5.0          ┆ 3.6         ┆ 1.4          ┆ 0.2         ┆ Iris-setosa │\n",
       "└──────────────┴─────────────┴──────────────┴─────────────┴─────────────┘"
      ]
     },
     "execution_count": 9,
     "metadata": {},
     "output_type": "execute_result"
    }
   ],
   "source": [
    "fp: str = \"./data/iris_data.csv\"\n",
    "df: pl.DataFrame = pl.read_csv(fp)\n",
    "df = df.filter(pl.col(\"class\").ne(\"None\"))\n",
    "\n",
    "df.head()"
   ]
  },
  {
   "cell_type": "code",
   "execution_count": 10,
   "metadata": {},
   "outputs": [
    {
     "data": {
      "text/html": [
       "<div>\n",
       "<style scoped>\n",
       "    .dataframe tbody tr th:only-of-type {\n",
       "        vertical-align: middle;\n",
       "    }\n",
       "\n",
       "    .dataframe tbody tr th {\n",
       "        vertical-align: top;\n",
       "    }\n",
       "\n",
       "    .dataframe thead th {\n",
       "        text-align: right;\n",
       "    }\n",
       "</style>\n",
       "<table border=\"1\" class=\"dataframe\">\n",
       "  <thead>\n",
       "    <tr style=\"text-align: right;\">\n",
       "      <th></th>\n",
       "      <th>class</th>\n",
       "      <th>count</th>\n",
       "    </tr>\n",
       "  </thead>\n",
       "  <tbody>\n",
       "    <tr>\n",
       "      <th>0</th>\n",
       "      <td>Iris-versicolor</td>\n",
       "      <td>50</td>\n",
       "    </tr>\n",
       "    <tr>\n",
       "      <th>1</th>\n",
       "      <td>Iris-virginica</td>\n",
       "      <td>50</td>\n",
       "    </tr>\n",
       "    <tr>\n",
       "      <th>2</th>\n",
       "      <td>Iris-setosa</td>\n",
       "      <td>50</td>\n",
       "    </tr>\n",
       "  </tbody>\n",
       "</table>\n",
       "</div>"
      ],
      "text/plain": [
       "             class  count\n",
       "0  Iris-versicolor     50\n",
       "1   Iris-virginica     50\n",
       "2      Iris-setosa     50"
      ]
     },
     "execution_count": 10,
     "metadata": {},
     "output_type": "execute_result"
    }
   ],
   "source": [
    "df.select(\"class\").to_series().value_counts().to_pandas()"
   ]
  },
  {
   "cell_type": "code",
   "execution_count": 11,
   "metadata": {},
   "outputs": [
    {
     "data": {
      "text/plain": [
       "((150, 2), (150,))"
      ]
     },
     "execution_count": 11,
     "metadata": {},
     "output_type": "execute_result"
    }
   ],
   "source": [
    "X: np.ndarray = df.select(\n",
    "    # [\"sepal_length\", \"sepal_width\", \"petal_length\", \"petal_width\"]\n",
    "    [\"sepal_length\", \"petal_length\"]\n",
    ").to_numpy()\n",
    "\n",
    "y: np.ndarray = (\n",
    "    df.with_columns(\n",
    "        label=pl.when(pl.col(\"class\").eq(\"Iris-setosa\"))\n",
    "        .then(pl.lit(0))\n",
    "        .otherwise(pl.lit(1))\n",
    "    )\n",
    "    .select(\"label\")\n",
    "    .to_numpy()\n",
    "    .squeeze()\n",
    ")\n",
    "\n",
    "X.shape, y.shape"
   ]
  },
  {
   "cell_type": "code",
   "execution_count": 12,
   "metadata": {},
   "outputs": [
    {
     "data": {
      "image/png": "[encoded data removed]",
      "text/plain": [
       "<Figure size 640x480 with 1 Axes>"
      ]
     },
     "metadata": {},
     "output_type": "display_data"
    }
   ],
   "source": [
    "# plot data\n",
    "plt.scatter(X[:50, 0], X[:50, 1], color=\"red\", marker=\"o\", label=\"Setosa\")\n",
    "plt.scatter(X[50:100, 0], X[50:100, 1], color=\"blue\", marker=\"s\", label=\"Versicolor\")\n",
    "plt.xlabel(\"Sepal length [cm]\")\n",
    "plt.ylabel(\"Petal length [cm]\")\n",
    "plt.legend(loc=\"upper left\")\n",
    "plt.tight_layout()\n",
    "plt.show()"
   ]
  },
  {
   "cell_type": "code",
   "execution_count": 13,
   "metadata": {},
   "outputs": [
    {
     "data": {
      "image/png": "[encoded data removed]",
      "text/plain": [
       "<Figure size 640x480 with 1 Axes>"
      ]
     },
     "metadata": {},
     "output_type": "display_data"
    }
   ],
   "source": [
    "# Visualize the errors\n",
    "ppn: Perceptron = Perceptron(eta=0.1, epochs=10, seed=2)\n",
    "ppn.fit(X, y)\n",
    "\n",
    "plt.plot(range(1, len(ppn.errors_) + 1), ppn.errors_, marker=\"o\")\n",
    "plt.xlabel(\"Epochs\")\n",
    "plt.ylabel(\"Number of errors\")\n",
    "plt.show()"
   ]
  },
  {
   "cell_type": "code",
   "execution_count": 14,
   "metadata": {},
   "outputs": [],
   "source": [
    "from matplotlib.colors import ListedColormap\n",
    "\n",
    "\n",
    "def plot_decision_regions(\n",
    "    X: np.ndarray, y: np.ndarray, classifier: Any, resolution: float = 0.02\n",
    ") -> None:\n",
    "    \"\"\"\n",
    "    Plot decision regions for a classifier.\n",
    "\n",
    "    Parameters\n",
    "    ----------\n",
    "    X : np.ndarray of shape (n_samples, n_features)\n",
    "        Input features.\n",
    "    y : np.ndarray of shape (n_samples,)\n",
    "        Target labels.\n",
    "    classifier : Any\n",
    "        Trained classifier object with a predict method.\n",
    "    resolution : float, optional, default=0.02\n",
    "        Step size for the contours.\n",
    "\n",
    "    Returns\n",
    "    -------\n",
    "    None\n",
    "    \"\"\"\n",
    "    # Setup marker generator and color map\n",
    "    markers: tuple[str, ...] = (\"o\", \"s\", \"^\", \"v\", \"<\")\n",
    "    colors: tuple[str, ...] = (\"red\", \"blue\", \"lightgreen\", \"gray\", \"cyan\")\n",
    "    cmap: ListedColormap = ListedColormap(colors[: len(np.unique(y))])\n",
    "\n",
    "    x1_min: float = X[:, 0].min() - 1\n",
    "    x1_max: float = X[:, 0].max() + 1\n",
    "    x2_min: float = X[:, 1].min() - 1\n",
    "    x2_max: float = X[:, 1].max() + 1\n",
    "\n",
    "    xx1, xx2 = np.meshgrid(\n",
    "        np.arange(x1_min, x1_max, resolution), np.arange(x2_min, x2_max, resolution)\n",
    "    )\n",
    "\n",
    "    lab: np.ndarray = classifier.predict(np.array([xx1.ravel(), xx2.ravel()]).T)\n",
    "    lab = lab.reshape(xx1.shape)\n",
    "\n",
    "    plt.contourf(xx1, xx2, lab, alpha=0.3, cmap=cmap)\n",
    "    plt.xlim(xx1.min(), xx1.max())\n",
    "    plt.ylim(xx2.min(), xx2.max())\n",
    "\n",
    "    # Plot class examples\n",
    "    for idx, cl in enumerate(np.unique(y)):\n",
    "        plt.scatter(\n",
    "            x=X[y == cl, 0],\n",
    "            y=X[y == cl, 1],\n",
    "            alpha=0.8,\n",
    "            c=colors[idx],\n",
    "            marker=markers[idx],\n",
    "            label=f\"Class {cl}\",\n",
    "            edgecolor=\"black\",\n",
    "        )"
   ]
  },
  {
   "cell_type": "code",
   "execution_count": 15,
   "metadata": {},
   "outputs": [
    {
     "data": {
      "image/png": "[encoded data removed]",
      "text/plain": [
       "<Figure size 640x480 with 1 Axes>"
      ]
     },
     "metadata": {},
     "output_type": "display_data"
    }
   ],
   "source": [
    "plot_decision_regions(X, y, classifier=ppn)\n",
    "plt.xlabel(\"Sepal length [cm]\")\n",
    "plt.ylabel(\"Petal length [cm]\")\n",
    "plt.legend(loc=\"upper left\")\n",
    "plt.show()"
   ]
  },
  {
   "cell_type": "markdown",
   "metadata": {},
   "source": [
    "### Comment\n",
    "\n",
    "#### Perceptron convergence\n",
    "\n",
    "- The perceptron works well for linearly separable data but struggles with complex patterns.\n",
    "- It may never converge if data is not linearly separable, requiring a maximum epoch limit.\n"
   ]
  },
  {
   "cell_type": "code",
   "execution_count": null,
   "metadata": {},
   "outputs": [],
   "source": []
  },
  {
   "cell_type": "markdown",
   "metadata": {},
   "source": [
    "### ADALINE (ADAptive LInear NEuron)\n",
    "\n",
    "- ADALINE is a single-layer neural network using a linear activation function.\n",
    "- It minimizes error through the `Delta Rule`, adjusting weights based on the calculated error.\n",
    "- Unlike the perceptron, ADALINE uses a linear activation function and focuses on error minimization.\n",
    "\n",
    "\n",
    "<img src=\"./images/Adaline 2024-07-13 at 1.52.34 PM.png\" width=\"600\">\n",
    "\n",
    "[image source](https://subscription.packtpub.com/book/data/9781801819312/2/ch02lvl1sec11/adaptive-linear-neurons-and-the-convergence-of-learning)\n",
    "\n",
    "<br>\n",
    "\n",
    "### Minimizing loss functions with gradient descent\n",
    "\n",
    "- Adaline's learning process involves minimizing the mean squared error (MSE) between the predicted and actual outputs. This MSE serves as the objective function to optimize during training.\n",
    "\n",
    "$$ MSE = \\frac{1}{n}\\sum_{i=1}^{n}(y^{(i)} - \\hat{y}^{(i)})^2 $$\n",
    "$$ L(w, b) = MSE $$\n",
    "\n",
    "- Adaline's continuous linear activation function allows for differentiable loss function, unlike the unit step function. This enables the use of gradient descent optimization, which efficiently minimizes the loss function for accurate Iris dataset classification.\n",
    "\n",
    "- Gradient descent finds the lowest point on a surface by taking steps opposite to the slope, guided by learning rate and gradient steepness.\n",
    "\n",
    "<br>\n",
    "\n",
    "<img src=\"./images/Gradient descent 2024-07-13 at 2.11.44 PM.png\" width=\"600\">\n",
    "\n",
    "[image source](https://subscription.packtpub.com/book/data/9781801819312/2/ch02lvl1sec11/adaptive-linear-neurons-and-the-convergence-of-learning)\n",
    "\n",
    "\n",
    "**Compute the gradient of the loss function with respect to each weight.**\n",
    "$$ \\frac{\\delta_{L}}{\\delta_{w_{j}}} = -\\frac{2}{n} \\sum_{i=1}^{n}(y^{(i)} - \\hat{y}^{(i)})x_{j}^{(i)} $$\n",
    "$$ \\frac{\\delta_{L}}{\\delta_{b}} = -\\frac{2}{n} \\sum_{i=1}^{n}(y^{(i)} - \\hat{y}^{(i)}) $$\n",
    "\n",
    "- Update in weights and bias is obtained by multiply -ve gradient with learning rate.\n",
    "\n",
    "eq (1)\n",
    "$$ \\Delta{w} = -\\eta * (\\Delta_{w}  L(w,b)) $$\n",
    "$$ \\Delta{w} = -\\eta * (-\\frac{2}{n} \\sum_{i=1}^{n}(y^{(i)} - \\hat{y}^{(i)})x_{j}^{(i)}) $$  \n",
    "\n",
    "eq (2)\n",
    "$$ \\Delta{b} = -\\eta * (\\Delta_{b}  L(w,b)) $$\n",
    "$$ \\Delta{b} = -\\eta * (-\\frac{2}{n} \\sum_{i=1}^{n}(y^{(i)} - \\hat{y}^{(i)})) $$\n",
    "\n",
    "\n",
    "Where:\n",
    "\n",
    "$ \\Delta_{w}L(w,b) = \\frac{\\delta_{L}}{\\delta_{w_{j}}} $\n",
    "\n",
    "$ \\Delta_{b}L(w,b) = \\frac{\\delta_{L}}{\\delta_{w}} $\n",
    "\n",
    "\n",
    "eq (3)\n",
    "$$ w = w + \\Delta{w} $$\n",
    "$$ b = b + \\Delta{b} $$\n"
   ]
  },
  {
   "cell_type": "markdown",
   "metadata": {},
   "source": [
    "\n",
    "#### Training: Fit\n",
    "$$z = (X^Tw + b)$$\n",
    "$$\\hat{y} = \\sigma(z)$$\n",
    "\n",
    "#### Update weights and bias\n",
    "\n",
    "$$ w = w + \\Delta{w} $$\n",
    "$$ b = b + \\Delta{b} $$\n",
    "\n",
    "Where:\n",
    "\n",
    "$ \\sigma(z) $ is a `linear` activation function."
   ]
  },
  {
   "cell_type": "code",
   "execution_count": 16,
   "metadata": {},
   "outputs": [
    {
     "name": "stdout",
     "output_type": "stream",
     "text": [
      "A.shape = (3, 2)\n",
      "w.shape = (2,)\n",
      "result.shape = (3,)\n"
     ]
    }
   ],
   "source": [
    "A: np.ndarray = np.array([[1, 2, 3], [4, 5, 6]]).reshape(-1, 2)\n",
    "w: np.ndarray = np.random.normal(0, 0.01, (2,))\n",
    "\n",
    "# A -> (n_samples, n_features); w -> (1, n_features)\n",
    "# w @ A.T -> (1, n_features) @ (n_features, n_samples) -> (1, n_samples)\n",
    "result: np.ndarray = w @ A.T  # np.dot(w, A.T)\n",
    "\n",
    "print(f\"{A.shape = }\")\n",
    "print(f\"{w.shape = }\")\n",
    "print(f\"{result.shape = }\")"
   ]
  },
  {
   "cell_type": "code",
   "execution_count": 17,
   "metadata": {},
   "outputs": [
    {
     "data": {
      "text/plain": [
       "array([-0.02993104, -0.05901182, -0.0880926 ])"
      ]
     },
     "execution_count": 17,
     "metadata": {},
     "output_type": "execute_result"
    }
   ],
   "source": [
    "np.dot(w, A.T)"
   ]
  },
  {
   "cell_type": "code",
   "execution_count": 18,
   "metadata": {},
   "outputs": [],
   "source": [
    "class AdalineGD:\n",
    "    \"\"\"\n",
    "    Adaptive Linear Neuron Classifier.\n",
    "\n",
    "    This class implements the Adaptive Linear Neuron (ADALINE) algorithm for binary classification.\n",
    "\n",
    "    Attributes\n",
    "    ----------\n",
    "    eta : float\n",
    "        Learning rate (between 0.0 and 1.0).\n",
    "    epochs : int\n",
    "        Number of passes over the training dataset.\n",
    "    seed : int\n",
    "        Random state for reproducibility.\n",
    "    w_ : np.ndarray\n",
    "        Weights after fitting.\n",
    "    b_ : float\n",
    "        Bias unit after fitting.\n",
    "    losses_ : List[float]\n",
    "        Mean squared errors per epoch.\n",
    "\n",
    "    \"\"\"\n",
    "\n",
    "    def __init__(self, eta: float, epochs: int, seed: int = 42) -> None:\n",
    "        \"\"\"\n",
    "        Initialize AdalineGD.\n",
    "\n",
    "        Parameters\n",
    "        ----------\n",
    "        eta : float\n",
    "            Learning rate (between 0.0 and 1.0).\n",
    "        epochs : int\n",
    "            Number of passes over the training dataset.\n",
    "        seed : int, optional\n",
    "            Random state for reproducibility. Defaults to 42.\n",
    "\n",
    "        Raises\n",
    "        ------\n",
    "        AssertionError\n",
    "            If eta is not between 0 and 1, epochs is less than 1, or seed is negative.\n",
    "        \"\"\"\n",
    "        assert 0 <= eta <= 1, \"eta must be between 0 and 1\"\n",
    "        assert epochs >= 1, \"epochs must be greater than 0\"\n",
    "        assert seed >= 0, \"seed must be greater than or equal to 0\"\n",
    "        self.eta = eta\n",
    "        self.epochs = epochs\n",
    "        self.seed = seed\n",
    "\n",
    "    def __repr__(self) -> str:\n",
    "        \"\"\"\n",
    "        Return a string representation of the AdalineGD instance.\n",
    "\n",
    "        Returns\n",
    "        -------\n",
    "        str\n",
    "            String representation of the instance.\n",
    "        \"\"\"\n",
    "        return (\n",
    "            f\"{self.__class__.__name__}(eta={self.eta}, \"\n",
    "            f\"epochs={self.epochs}, seed={self.seed})\"\n",
    "        )\n",
    "\n",
    "    def fit(self, X: np.ndarray, y: np.ndarray) -> \"AdalineGD\":\n",
    "        \"\"\"\n",
    "        Fit training data.\n",
    "\n",
    "        Parameters\n",
    "        ----------\n",
    "        X : np.ndarray\n",
    "            Training vectors, shape: (n_samples, n_features).\n",
    "        y : np.ndarray\n",
    "            Target values, shape: (n_samples,).\n",
    "\n",
    "        Returns\n",
    "        -------\n",
    "        AdalineGD\n",
    "            Fitted estimator.\n",
    "        \"\"\"\n",
    "        rng: np.random.Generator = np.random.default_rng(self.seed)\n",
    "        n_samples: int\n",
    "        n_features: int\n",
    "        n_samples, n_features = X.shape\n",
    "        self.w_: np.ndarray = rng.normal(loc=0, scale=0.01, size=(n_features,))\n",
    "        self.b_: float = np.float_(0)\n",
    "        self.losses_: list[float] = []\n",
    "\n",
    "        for _ in range(self.epochs):\n",
    "            z: np.ndarray = self._predict(X)\n",
    "            output: np.ndarray = self._activation(z)\n",
    "            error: np.ndarray = y - output\n",
    "\n",
    "            dw: np.ndarray = -self.eta * ((-2 * np.dot(error, X)) / n_samples)\n",
    "            db: float = -self.eta * ((-2 * np.sum(error)) / n_samples)\n",
    "            self.w_ += dw\n",
    "            self.b_ += db\n",
    "\n",
    "            loss: float = np.mean(error**2)\n",
    "            self.losses_.append(loss)\n",
    "        return self\n",
    "\n",
    "    def _predict(self, X: np.ndarray) -> np.ndarray:\n",
    "        \"\"\"\n",
    "        Compute net input.\n",
    "\n",
    "        Parameters\n",
    "        ----------\n",
    "        X : np.ndarray\n",
    "            Input data, shape: (n_samples, n_features).\n",
    "\n",
    "        Returns\n",
    "        -------\n",
    "        np.ndarray\n",
    "            Net input, shape: (1, n_samples).\n",
    "        \"\"\"\n",
    "        z: np.ndarray = np.dot(self.w_, X.T) + self.b_\n",
    "        return z\n",
    "\n",
    "    def _activation(self, X: np.ndarray) -> np.ndarray:\n",
    "        \"\"\"\n",
    "        Compute linear activation.\n",
    "\n",
    "        Parameters\n",
    "        ----------\n",
    "        X : np.ndarray\n",
    "            Input data.\n",
    "\n",
    "        Returns\n",
    "        -------\n",
    "        np.ndarray\n",
    "            Activated input (same as input for linear activation).\n",
    "        \"\"\"\n",
    "        return X\n",
    "\n",
    "    def predict(self, X: np.ndarray) -> np.ndarray:\n",
    "        \"\"\"\n",
    "        Return class label after unit step.\n",
    "\n",
    "        Parameters\n",
    "        ----------\n",
    "        X : np.ndarray\n",
    "            Input data, shape: (n_samples, n_features).\n",
    "\n",
    "        Returns\n",
    "        -------\n",
    "        np.ndarray\n",
    "            Predicted class labels, shape: (n_samples,).\n",
    "        \"\"\"\n",
    "        return np.where(self._activation(self._predict(X)) >= 0.5, 1, 0)"
   ]
  },
  {
   "cell_type": "code",
   "execution_count": 19,
   "metadata": {},
   "outputs": [
    {
     "data": {
      "text/plain": [
       "AdalineGD(eta=0.1, epochs=15, seed=1)"
      ]
     },
     "execution_count": 19,
     "metadata": {},
     "output_type": "execute_result"
    }
   ],
   "source": [
    "ada: AdalineGD = AdalineGD(eta=0.1, epochs=15, seed=1)\n",
    "ada.fit(X, y)"
   ]
  },
  {
   "cell_type": "code",
   "execution_count": 20,
   "metadata": {},
   "outputs": [
    {
     "data": {
      "image/png": "[encoded data removed]",
      "text/plain": [
       "<Figure size 1000x400 with 2 Axes>"
      ]
     },
     "metadata": {},
     "output_type": "display_data"
    }
   ],
   "source": [
    "fig, ax = plt.subplots(nrows=1, ncols=2, figsize=(10, 4))\n",
    "\n",
    "ada1: AdalineGD = AdalineGD(eta=0.1, epochs=15).fit(X, y)\n",
    "ax[0].plot(range(1, len(ada1.losses_) + 1), np.log10(ada1.losses_), marker=\"o\")\n",
    "ax[0].set_xlabel(\"Epochs\")\n",
    "ax[0].set_ylabel(\"log(Mean squared error)\")\n",
    "ax[0].set_title(\"Adaline - Learning rate 0.1\")\n",
    "\n",
    "ada2: AdalineGD = AdalineGD(eta=0.0001, epochs=15).fit(X, y)\n",
    "ax[1].plot(range(1, len(ada2.losses_) + 1), ada2.losses_, marker=\"o\")\n",
    "ax[1].set_xlabel(\"Epochs\")\n",
    "ax[1].set_ylabel(\"Mean squared error\")\n",
    "ax[1].set_title(\"Adaline - Learning rate 0.0001\")\n",
    "\n",
    "\n",
    "plt.show()"
   ]
  },
  {
   "cell_type": "markdown",
   "metadata": {},
   "source": [
    "### Comment\n",
    "\n",
    "- The learning rate significantly impacts gradient descent. A rate too high can overshoot the minimum, while a rate too low slows convergence.\n",
    "\n",
    "<br>\n",
    "\n",
    "<img src=\"./images/learning rate 2024-07-13 at 5.11.40 PM.png\" width=\"700\">\n",
    "\n",
    "[image source](https://subscription.packtpub.com/book/data/9781801819312/2/ch02lvl1sec11/adaptive-linear-neurons-and-the-convergence-of-learning)"
   ]
  },
  {
   "cell_type": "code",
   "execution_count": 21,
   "metadata": {},
   "outputs": [
    {
     "name": "stdout",
     "output_type": "stream",
     "text": [
      "A.shape = (3, 2)\n",
      "A_ravel.shape = (6,)\n"
     ]
    }
   ],
   "source": [
    "print(f\"{A.shape = }\")\n",
    "\n",
    "# Flatten the array (1D)\n",
    "A_ravel: np.ndarray = A.ravel()\n",
    "print(f\"{A_ravel.shape = }\")"
   ]
  },
  {
   "cell_type": "markdown",
   "metadata": {},
   "source": [
    "### Mini-batch Gradient Descent\n",
    "\n",
    "- Mini-batch gradient descent is a middle ground between full batch and stochastic gradient descent.\n",
    "- It processes data in smaller groups (mini-batches) rather than the entire dataset or individual data points.\n",
    "- This method offers faster convergence than full batch while maintaining computational efficiency through vectorization, making it a popular choice in deep learning."
   ]
  },
  {
   "cell_type": "code",
   "execution_count": 22,
   "metadata": {},
   "outputs": [],
   "source": [
    "class AdalineSGD:\n",
    "    \"\"\"\n",
    "    AdalineSGD classifier.\n",
    "\n",
    "    Parameters\n",
    "    ----------\n",
    "    eta : float\n",
    "        Learning rate (between 0.0 and 1.0)\n",
    "    epochs : int\n",
    "        Passes over the training dataset.\n",
    "    seed : int, default=42\n",
    "        Random number generator seed for random weight initialization.\n",
    "    shuffle : bool, default=True\n",
    "        Shuffles training data every epoch if True to prevent cycles.\n",
    "\n",
    "    Attributes\n",
    "    ----------\n",
    "    w_ : np.ndarray\n",
    "        Weights after fitting.\n",
    "    b_ : float\n",
    "        Bias unit after fitting.\n",
    "    losses_ : list of float\n",
    "        Mean squared error loss function values in each epoch.\n",
    "    \"\"\"\n",
    "\n",
    "    def __init__(\n",
    "        self, eta: float, epochs: int, seed: int = 42, shuffle: bool = True\n",
    "    ) -> None:\n",
    "        \"\"\"\n",
    "        Initialize the AdalineSGD classifier.\n",
    "\n",
    "        Parameters\n",
    "        ----------\n",
    "        eta : float\n",
    "            Learning rate (between 0.0 and 1.0)\n",
    "        epochs : int\n",
    "            Passes over the training dataset.\n",
    "        seed : int, default=42\n",
    "            Random number generator seed for random weight initialization.\n",
    "        shuffle : bool, default=True\n",
    "            Shuffles training data every epoch if True to prevent cycles.\n",
    "        \"\"\"\n",
    "        assert 0 <= eta <= 1, \"eta must be between 0 and 1\"\n",
    "        assert epochs >= 1, \"epochs must be greater than 0\"\n",
    "        assert seed >= 0, \"seed must be greater than or equal to 0\"\n",
    "        self.eta = eta\n",
    "        self.epochs = epochs\n",
    "        self.seed = seed\n",
    "        self.shuffle = shuffle\n",
    "        self.w_initialized = False\n",
    "\n",
    "    def __repr__(self) -> str:\n",
    "        \"\"\"\n",
    "        Return a string representation of the AdalineSGD classifier.\n",
    "\n",
    "        Returns\n",
    "        -------\n",
    "        str\n",
    "            String representation of the classifier.\n",
    "        \"\"\"\n",
    "        return (\n",
    "            f\"{self.__class__.__name__}(eta={self.eta}, \"\n",
    "            f\"epochs={self.epochs}, seed={self.seed})\"\n",
    "        )\n",
    "\n",
    "    def fit(self, X: np.ndarray, y: np.ndarray) -> \"AdalineSGD\":\n",
    "        \"\"\"\n",
    "        Fit training data.\n",
    "\n",
    "        Parameters\n",
    "        ----------\n",
    "        X : np.ndarray, shape=[n_samples, n_features]\n",
    "            Training vectors, where n_samples is the number of samples and\n",
    "            n_features is the number of features.\n",
    "        y : np.ndarray, shape=[n_samples]\n",
    "            Target values.\n",
    "\n",
    "        Returns\n",
    "        -------\n",
    "        self : AdalineSGD\n",
    "            Fitted estimator.\n",
    "        \"\"\"\n",
    "        self._initialize_weights(X)\n",
    "        self.losses_: list[float] = []\n",
    "\n",
    "        for _ in range(self.epochs):\n",
    "            if self.shuffle:\n",
    "                X, y = self._shuffle(X, y)\n",
    "            losses: list[float] = []\n",
    "\n",
    "            for xi, target in zip(X, y):\n",
    "                # For a single sample\n",
    "                losses.append(self._update_weights_n_calculate_loss(xi, target))\n",
    "            avg_loss: float = np.mean(losses)\n",
    "            self.losses_.append(avg_loss)\n",
    "        return self\n",
    "\n",
    "    def partial_fit(self, X: np.ndarray, y: np.ndarray) -> \"AdalineSGD\":\n",
    "        \"\"\"\n",
    "        Fit training data without reinitializing the weights.\n",
    "\n",
    "        Parameters\n",
    "        ----------\n",
    "        X : np.ndarray, shape=[n_samples, n_features]\n",
    "            Training vectors, where n_samples is the number of samples and\n",
    "            n_features is the number of features.\n",
    "        y : np.ndarray, shape=[n_samples]\n",
    "            Target values.\n",
    "\n",
    "        Returns\n",
    "        -------\n",
    "        self : AdalineSGD\n",
    "            Fitted estimator.\n",
    "        \"\"\"\n",
    "        if not self.w_initialized:\n",
    "            self._initialize_weights(X)\n",
    "        if y.ravel().shape[0] > 1:\n",
    "            for xi, target in zip(X, y):\n",
    "                self._update_weights_n_calculate_loss(xi, target)\n",
    "        else:\n",
    "            self._update_weights_n_calculate_loss(X, y)\n",
    "        return self\n",
    "\n",
    "    def _predict(self, X: np.ndarray) -> np.ndarray:\n",
    "        \"\"\"\n",
    "        Calculate net input.\n",
    "\n",
    "        Parameters\n",
    "        ----------\n",
    "        X : np.ndarray, shape=[n_samples, n_features]\n",
    "            Input vectors, where n_samples is the number of samples and\n",
    "            n_features is the number of features.\n",
    "\n",
    "        Returns\n",
    "        -------\n",
    "        z : np.ndarray, shape=[n_samples]\n",
    "            Net input.\n",
    "        \"\"\"\n",
    "        z: np.ndarray = np.dot(self.w_, X.T) + self.b_\n",
    "        return z\n",
    "\n",
    "    def _activation(self, X: np.ndarray) -> np.ndarray:\n",
    "        \"\"\"\n",
    "        Compute linear activation.\n",
    "\n",
    "        Parameters\n",
    "        ----------\n",
    "        X : np.ndarray, shape=[n_samples]\n",
    "            Net input.\n",
    "\n",
    "        Returns\n",
    "        -------\n",
    "        X : np.ndarray, shape=[n_samples]\n",
    "            Linear activation.\n",
    "        \"\"\"\n",
    "        return X\n",
    "\n",
    "    def predict(self, X: np.ndarray) -> np.ndarray:\n",
    "        \"\"\"\n",
    "        Return class label after unit step.\n",
    "\n",
    "        Parameters\n",
    "        ----------\n",
    "        X : np.ndarray, shape=[n_samples, n_features]\n",
    "            Input vectors, where n_samples is the number of samples and\n",
    "            n_features is the number of features.\n",
    "\n",
    "        Returns\n",
    "        -------\n",
    "        y_pred : np.ndarray, shape=[n_samples]\n",
    "            Predicted class labels.\n",
    "        \"\"\"\n",
    "        return np.where(self._activation(self._predict(X)) >= 0.5, 1, 0)\n",
    "\n",
    "    def _initialize_weights(self, X: np.ndarray) -> None:\n",
    "        \"\"\"\n",
    "        Initialize weights to small random numbers.\n",
    "\n",
    "        Parameters\n",
    "        ----------\n",
    "        X : np.ndarray, shape=[n_samples, n_features]\n",
    "            Training vectors, where n_samples is the number of samples and\n",
    "            n_features is the number of features.\n",
    "        \"\"\"\n",
    "        self.rng: np.random.Generator = np.random.default_rng(self.seed)\n",
    "        n_features: int = X.shape[1]\n",
    "        self.w_: np.ndarray = self.rng.normal(loc=0, scale=0.01, size=(n_features,))\n",
    "        self.b_: float = np.float_(0.0)\n",
    "        self.w_initialized: bool = True\n",
    "\n",
    "    def _shuffle(self, X: np.ndarray, y: np.ndarray) -> tuple[np.ndarray, np.ndarray]:\n",
    "        \"\"\"\n",
    "        Shuffle training data.\n",
    "\n",
    "        Parameters\n",
    "        ----------\n",
    "        X : np.ndarray, shape=[n_samples, n_features]\n",
    "            Training vectors, where n_samples is the number of samples and\n",
    "            n_features is the number of features.\n",
    "        y : np.ndarray, shape=[n_samples]\n",
    "            Target values.\n",
    "\n",
    "        Returns\n",
    "        -------\n",
    "        X_shuffled : np.ndarray, shape=[n_samples, n_features]\n",
    "            Shuffled training vectors.\n",
    "        y_shuffled : np.ndarray, shape=[n_samples]\n",
    "            Shuffled target values.\n",
    "        \"\"\"\n",
    "        r: np.ndarray = self.rng.permutation(X.shape[0])\n",
    "        return X[r], y[r]\n",
    "\n",
    "    def _update_weights_n_calculate_loss(\n",
    "        self, xi: np.ndarray, target: np.ndarray\n",
    "    ) -> float:\n",
    "        \"\"\"\n",
    "        Update the weights and calculate the loss for a single example.\n",
    "\n",
    "        Parameters\n",
    "        ----------\n",
    "        xi : np.ndarray, shape=[n_features]\n",
    "            Training vector, where n_features is the number of features.\n",
    "        target : np.ndarray, shape=[1]\n",
    "            Target value.\n",
    "\n",
    "        Returns\n",
    "        -------\n",
    "        loss : float\n",
    "            Mean squared error loss.\n",
    "        \"\"\"\n",
    "        output: np.ndarray = self._activation(self._predict(xi))\n",
    "        error: np.ndarray = target - output\n",
    "\n",
    "        dw: np.ndarray = -self.eta * -2.0 * error * xi\n",
    "        db: float = -self.eta * -2.0 * error\n",
    "        self.w_ += dw\n",
    "        self.b_ += db\n",
    "\n",
    "        loss: float = error**2\n",
    "        return loss"
   ]
  },
  {
   "cell_type": "code",
   "execution_count": 23,
   "metadata": {},
   "outputs": [
    {
     "data": {
      "text/plain": [
       "(150, 2)"
      ]
     },
     "execution_count": 23,
     "metadata": {},
     "output_type": "execute_result"
    }
   ],
   "source": [
    "X_std: np.ndarray = (X - X.mean(axis=0, keepdims=True)) / X.std(axis=0, keepdims=True)\n",
    "X_std.shape"
   ]
  },
  {
   "cell_type": "code",
   "execution_count": 24,
   "metadata": {},
   "outputs": [
    {
     "data": {
      "image/png": "[encoded data removed]",
      "text/plain": [
       "<Figure size 640x480 with 1 Axes>"
      ]
     },
     "metadata": {},
     "output_type": "display_data"
    },
    {
     "data": {
      "image/png": "[encoded data removed]",
      "text/plain": [
       "<Figure size 640x480 with 1 Axes>"
      ]
     },
     "metadata": {},
     "output_type": "display_data"
    }
   ],
   "source": [
    "ada_sgd: AdalineSGD = AdalineSGD(eta=0.01, epochs=15, seed=1)\n",
    "ada_sgd.fit(X_std, y)\n",
    "\n",
    "plot_decision_regions(X_std, y, classifier=ada_sgd)\n",
    "plt.title(\"Adaline - Stochastic gradient descent\")\n",
    "plt.xlabel(\"Sepal length [standardized]\")\n",
    "plt.ylabel(\"Petal length [standardized]\")\n",
    "plt.legend(loc=\"upper left\")\n",
    "\n",
    "plt.tight_layout()\n",
    "plt.show()\n",
    "\n",
    "plt.plot(range(1, len(ada_sgd.losses_) + 1), ada_sgd.losses_, marker=\"o\")\n",
    "plt.xlabel(\"Epochs\")\n",
    "plt.ylabel(\"Average loss\")\n",
    "\n",
    "plt.show()"
   ]
  },
  {
   "cell_type": "code",
   "execution_count": 25,
   "metadata": {},
   "outputs": [
    {
     "data": {
      "text/plain": [
       "array([0, 0, 0, 0, 0, 0, 0, 0, 0, 0, 0, 0, 0, 0, 0, 0, 0, 0, 0, 0, 0, 0,\n",
       "       0, 0, 0, 0, 0, 0, 0, 0, 0, 0, 0, 0, 0, 0, 0, 0, 0, 0, 0, 0, 0, 0,\n",
       "       0, 0, 0, 0, 0, 0, 1, 1, 1, 1, 1, 1, 1, 1, 1, 1, 1, 1, 1, 1, 1, 1,\n",
       "       1, 1, 1, 1, 1, 1, 1, 1, 1, 1, 1, 1, 1, 1, 1, 1, 1, 1, 1, 1, 1, 1,\n",
       "       1, 1, 1, 1, 1, 1, 1, 1, 1, 1, 1, 1, 1, 1, 1, 1, 1, 1, 1, 1, 1, 1,\n",
       "       1, 1, 1, 1, 1, 1, 1, 1, 1, 1, 1, 1, 1, 1, 1, 1, 1, 1, 1, 1, 1, 1,\n",
       "       1, 1, 1, 1, 1, 1, 1, 1, 1, 1, 1, 1, 1, 1, 1, 1, 1, 1])"
      ]
     },
     "execution_count": 25,
     "metadata": {},
     "output_type": "execute_result"
    }
   ],
   "source": [
    "ada_sgd.predict(X_std)"
   ]
  },
  {
   "cell_type": "code",
   "execution_count": 26,
   "metadata": {},
   "outputs": [
    {
     "data": {
      "text/plain": [
       "[0.13912495410957101,\n",
       " 0.03933805659869092,\n",
       " 0.03277986543693456,\n",
       " 0.029904817471044124,\n",
       " 0.028307577828163843,\n",
       " 0.027685993537617103,\n",
       " 0.02757180187361387,\n",
       " 0.027370117922935908,\n",
       " 0.02724579612745349,\n",
       " 0.027027850906664846,\n",
       " 0.027156466962237027,\n",
       " 0.027256447292994004,\n",
       " 0.026113355015338114,\n",
       " 0.027231439144153533,\n",
       " 0.02719360863608521]"
      ]
     },
     "execution_count": 26,
     "metadata": {},
     "output_type": "execute_result"
    }
   ],
   "source": [
    "ada_sgd.losses_"
   ]
  },
  {
   "cell_type": "markdown",
   "metadata": {},
   "source": [
    "<hr>\n",
    "\n",
    "### Comment\n",
    "\n",
    "- `Perceptron`: Updates weights based on the binary error (correct or incorrect classification).\n",
    "- `Adaline`: Updates weights based on the continuous error (difference between the desired output and the actual output), making it more efficient.\n",
    "- `Perceptron` is simpler but limited to linearly separable data.\n",
    "- `Adaline` is more flexible and can handle a wider range of problems, but its convergence is not guaranteed.\n",
    "`Adaline` is often considered an improvement over the `Perceptron` due to its continuous error calculation, which allows for more efficient weight updates"
   ]
  },
  {
   "cell_type": "code",
   "execution_count": null,
   "metadata": {},
   "outputs": [],
   "source": []
  }
 ],
 "metadata": {
  "kernelspec": {
   "display_name": "torch p_311",
   "language": "python",
   "name": "torch_p11"
  },
  "language_info": {
   "codemirror_mode": {
    "name": "ipython",
    "version": 3
   },
   "file_extension": ".py",
   "mimetype": "text/x-python",
   "name": "python",
   "nbconvert_exporter": "python",
   "pygments_lexer": "ipython3",
   "version": "3.11.8"
  }
 },
 "nbformat": 4,
 "nbformat_minor": 2
}
