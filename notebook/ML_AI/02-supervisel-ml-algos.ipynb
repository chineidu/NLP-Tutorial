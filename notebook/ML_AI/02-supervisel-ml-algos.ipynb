{
 "cells": [
  {
   "cell_type": "markdown",
   "metadata": {},
   "source": [
    "# Supervised ML Algorithms"
   ]
  },
  {
   "cell_type": "code",
   "execution_count": 1,
   "metadata": {},
   "outputs": [
    {
     "name": "stdout",
     "output_type": "stream",
     "text": [
      "Python implementation: CPython\n",
      "Python version       : 3.11.8\n",
      "IPython version      : 8.22.2\n",
      "\n",
      "numpy    : 1.26.4\n",
      "pandas   : 2.2.1\n",
      "polars   : 0.20.18\n",
      "omegaconf: 2.3.0\n",
      "\n",
      "conda environment: torch_p11\n",
      "\n"
     ]
    }
   ],
   "source": [
    "%load_ext watermark\n",
    "%watermark -v -p numpy,pandas,polars,omegaconf --conda"
   ]
  },
  {
   "cell_type": "code",
   "execution_count": 2,
   "metadata": {},
   "outputs": [],
   "source": [
    "# Built-in library\n",
    "from pathlib import Path\n",
    "import re\n",
    "import json\n",
    "from typing import Any, Optional, Union\n",
    "import logging\n",
    "import warnings\n",
    "\n",
    "# Standard imports\n",
    "import numpy as np\n",
    "import numpy.typing as npt\n",
    "from pprint import pprint\n",
    "import pandas as pd\n",
    "import polars as pl\n",
    "from rich.console import Console\n",
    "from rich.theme import Theme\n",
    "\n",
    "custom_theme = Theme(\n",
    "    {\n",
    "        \"info\": \"#76FF7B\",\n",
    "        \"warning\": \"#FBDDFE\",\n",
    "        \"error\": \"#FF0000\",\n",
    "    }\n",
    ")\n",
    "console = Console(theme=custom_theme)\n",
    "\n",
    "# Visualization\n",
    "import matplotlib.pyplot as plt\n",
    "\n",
    "\n",
    "# Pandas settings\n",
    "pd.options.display.max_rows = 1_000\n",
    "pd.options.display.max_columns = 1_000\n",
    "pd.options.display.max_colwidth = 600\n",
    "\n",
    "warnings.filterwarnings(\"ignore\")\n",
    "\n",
    "\n",
    "# Black code formatter (Optional)\n",
    "%load_ext lab_black\n",
    "\n",
    "# auto reload imports\n",
    "%load_ext autoreload\n",
    "%autoreload 2"
   ]
  },
  {
   "cell_type": "code",
   "execution_count": 3,
   "metadata": {},
   "outputs": [],
   "source": [
    "from matplotlib.colors import ListedColormap\n",
    "\n",
    "\n",
    "def plot_decision_regions(\n",
    "    X: np.ndarray, y: np.ndarray, classifier: Any, resolution: float = 0.02\n",
    ") -> None:\n",
    "    \"\"\"\n",
    "    Plot decision regions for a classifier.\n",
    "\n",
    "    Parameters\n",
    "    ----------\n",
    "    X : np.ndarray of shape (n_samples, n_features)\n",
    "        Input features.\n",
    "    y : np.ndarray of shape (n_samples,)\n",
    "        Target labels.\n",
    "    classifier : Any\n",
    "        Trained classifier object with a predict method.\n",
    "    resolution : float, optional, default=0.02\n",
    "        Step size for the contours.\n",
    "\n",
    "    Returns\n",
    "    -------\n",
    "    None\n",
    "    \"\"\"\n",
    "    # Setup marker generator and color map\n",
    "    markers: tuple[str, ...] = (\"o\", \"s\", \"^\", \"v\", \"<\")\n",
    "    colors: tuple[str, ...] = (\"red\", \"blue\", \"lightgreen\", \"gray\", \"cyan\")\n",
    "    cmap: ListedColormap = ListedColormap(colors[: len(np.unique(y))])\n",
    "\n",
    "    x1_min: float = X[:, 0].min() - 1\n",
    "    x1_max: float = X[:, 0].max() + 1\n",
    "    x2_min: float = X[:, 1].min() - 1\n",
    "    x2_max: float = X[:, 1].max() + 1\n",
    "\n",
    "    xx1, xx2 = np.meshgrid(\n",
    "        np.arange(x1_min, x1_max, resolution), np.arange(x2_min, x2_max, resolution)\n",
    "    )\n",
    "\n",
    "    lab: np.ndarray = classifier.predict(np.array([xx1.ravel(), xx2.ravel()]).T)\n",
    "    lab = lab.reshape(xx1.shape)\n",
    "\n",
    "    plt.contourf(xx1, xx2, lab, alpha=0.3, cmap=cmap)\n",
    "    plt.xlim(xx1.min(), xx1.max())\n",
    "    plt.ylim(xx2.min(), xx2.max())\n",
    "\n",
    "    # Plot class examples\n",
    "    for idx, cl in enumerate(np.unique(y)):\n",
    "        plt.scatter(\n",
    "            x=X[y == cl, 0],\n",
    "            y=X[y == cl, 1],\n",
    "            alpha=0.8,\n",
    "            c=colors[idx],\n",
    "            marker=markers[idx],\n",
    "            label=f\"Class {cl}\",\n",
    "            edgecolor=\"black\",\n",
    "        )"
   ]
  },
  {
   "cell_type": "code",
   "execution_count": 4,
   "metadata": {},
   "outputs": [
    {
     "data": {
      "text/html": [
       "<div><style>\n",
       ".dataframe > thead > tr,\n",
       ".dataframe > tbody > tr {\n",
       "  text-align: right;\n",
       "  white-space: pre-wrap;\n",
       "}\n",
       "</style>\n",
       "<small>shape: (5, 5)</small><table border=\"1\" class=\"dataframe\"><thead><tr><th>sepal_length</th><th>sepal_width</th><th>petal_length</th><th>petal_width</th><th>class</th></tr><tr><td>f64</td><td>f64</td><td>f64</td><td>f64</td><td>str</td></tr></thead><tbody><tr><td>5.1</td><td>3.5</td><td>1.4</td><td>0.2</td><td>&quot;Iris-setosa&quot;</td></tr><tr><td>4.9</td><td>3.0</td><td>1.4</td><td>0.2</td><td>&quot;Iris-setosa&quot;</td></tr><tr><td>4.7</td><td>3.2</td><td>1.3</td><td>0.2</td><td>&quot;Iris-setosa&quot;</td></tr><tr><td>4.6</td><td>3.1</td><td>1.5</td><td>0.2</td><td>&quot;Iris-setosa&quot;</td></tr><tr><td>5.0</td><td>3.6</td><td>1.4</td><td>0.2</td><td>&quot;Iris-setosa&quot;</td></tr></tbody></table></div>"
      ],
      "text/plain": [
       "shape: (5, 5)\n",
       "┌──────────────┬─────────────┬──────────────┬─────────────┬─────────────┐\n",
       "│ sepal_length ┆ sepal_width ┆ petal_length ┆ petal_width ┆ class       │\n",
       "│ ---          ┆ ---         ┆ ---          ┆ ---         ┆ ---         │\n",
       "│ f64          ┆ f64         ┆ f64          ┆ f64         ┆ str         │\n",
       "╞══════════════╪═════════════╪══════════════╪═════════════╪═════════════╡\n",
       "│ 5.1          ┆ 3.5         ┆ 1.4          ┆ 0.2         ┆ Iris-setosa │\n",
       "│ 4.9          ┆ 3.0         ┆ 1.4          ┆ 0.2         ┆ Iris-setosa │\n",
       "│ 4.7          ┆ 3.2         ┆ 1.3          ┆ 0.2         ┆ Iris-setosa │\n",
       "│ 4.6          ┆ 3.1         ┆ 1.5          ┆ 0.2         ┆ Iris-setosa │\n",
       "│ 5.0          ┆ 3.6         ┆ 1.4          ┆ 0.2         ┆ Iris-setosa │\n",
       "└──────────────┴─────────────┴──────────────┴─────────────┴─────────────┘"
      ]
     },
     "execution_count": 4,
     "metadata": {},
     "output_type": "execute_result"
    }
   ],
   "source": [
    "fp: str = \"./data/iris_data.csv\"\n",
    "df: pl.DataFrame = pl.read_csv(fp)\n",
    "df = df.filter(pl.col(\"class\").ne(\"None\"))\n",
    "\n",
    "df.head()"
   ]
  },
  {
   "cell_type": "code",
   "execution_count": 5,
   "metadata": {},
   "outputs": [
    {
     "data": {
      "text/html": [
       "<div>\n",
       "<style scoped>\n",
       "    .dataframe tbody tr th:only-of-type {\n",
       "        vertical-align: middle;\n",
       "    }\n",
       "\n",
       "    .dataframe tbody tr th {\n",
       "        vertical-align: top;\n",
       "    }\n",
       "\n",
       "    .dataframe thead th {\n",
       "        text-align: right;\n",
       "    }\n",
       "</style>\n",
       "<table border=\"1\" class=\"dataframe\">\n",
       "  <thead>\n",
       "    <tr style=\"text-align: right;\">\n",
       "      <th></th>\n",
       "      <th>class</th>\n",
       "      <th>count</th>\n",
       "    </tr>\n",
       "  </thead>\n",
       "  <tbody>\n",
       "    <tr>\n",
       "      <th>0</th>\n",
       "      <td>Iris-versicolor</td>\n",
       "      <td>50</td>\n",
       "    </tr>\n",
       "    <tr>\n",
       "      <th>1</th>\n",
       "      <td>Iris-setosa</td>\n",
       "      <td>50</td>\n",
       "    </tr>\n",
       "    <tr>\n",
       "      <th>2</th>\n",
       "      <td>Iris-virginica</td>\n",
       "      <td>50</td>\n",
       "    </tr>\n",
       "  </tbody>\n",
       "</table>\n",
       "</div>"
      ],
      "text/plain": [
       "             class  count\n",
       "0  Iris-versicolor     50\n",
       "1      Iris-setosa     50\n",
       "2   Iris-virginica     50"
      ]
     },
     "execution_count": 5,
     "metadata": {},
     "output_type": "execute_result"
    }
   ],
   "source": [
    "df.select(\"class\").to_series().value_counts().to_pandas()"
   ]
  },
  {
   "cell_type": "code",
   "execution_count": 6,
   "metadata": {},
   "outputs": [
    {
     "data": {
      "text/plain": [
       "((150, 2), (150,))"
      ]
     },
     "execution_count": 6,
     "metadata": {},
     "output_type": "execute_result"
    }
   ],
   "source": [
    "X: np.ndarray = df.select(\n",
    "    # [\"sepal_length\", \"sepal_width\", \"petal_length\", \"petal_width\"]\n",
    "    [\"sepal_length\", \"petal_length\"]\n",
    ").to_numpy()\n",
    "\n",
    "y: np.ndarray = (\n",
    "    df.with_columns(\n",
    "        label=pl.when(pl.col(\"class\").eq(\"Iris-setosa\"))\n",
    "        .then(pl.lit(0))\n",
    "        .otherwise(pl.lit(1))\n",
    "    )\n",
    "    .select(\"label\")\n",
    "    .to_numpy()\n",
    "    .squeeze()\n",
    ")\n",
    "\n",
    "X.shape, y.shape"
   ]
  },
  {
   "cell_type": "code",
   "execution_count": 7,
   "metadata": {},
   "outputs": [
    {
     "data": {
      "image/png": "[encoded data removed]",
      "text/plain": [
       "<Figure size 640x480 with 1 Axes>"
      ]
     },
     "metadata": {},
     "output_type": "display_data"
    }
   ],
   "source": [
    "# plot data\n",
    "plt.scatter(X[:50, 0], X[:50, 1], color=\"red\", marker=\"o\", label=\"Setosa\")\n",
    "plt.scatter(X[50:100, 0], X[50:100, 1], color=\"blue\", marker=\"s\", label=\"Versicolor\")\n",
    "plt.xlabel(\"Sepal length [cm]\")\n",
    "plt.ylabel(\"Petal length [cm]\")\n",
    "plt.legend(loc=\"upper left\")\n",
    "plt.tight_layout()\n",
    "plt.show()"
   ]
  },
  {
   "cell_type": "code",
   "execution_count": 8,
   "metadata": {},
   "outputs": [
    {
     "data": {
      "text/plain": [
       "(150, 2)"
      ]
     },
     "execution_count": 8,
     "metadata": {},
     "output_type": "execute_result"
    }
   ],
   "source": [
    "X_std: np.ndarray = (X - X.mean(axis=0, keepdims=True)) / X.std(axis=0, keepdims=True)\n",
    "X_std.shape"
   ]
  },
  {
   "cell_type": "markdown",
   "metadata": {},
   "source": [
    "### Logistic Regression [Implementation]\n",
    "\n",
    "- Adaline and logistic regression differ primarily in their activation functions.\n",
    "- Adaline uses `identity` function, while logistic regression uses sigmoid function.\n",
    "\n",
    "<br>\n",
    "\n",
    "<img src=\"./images/logistic reg 2024-07-15 at 10.35.54 PM.png\" width=\"600\">\n",
    "\n",
    "[image source](https://subscription.packtpub.com/book/data/9781801819312/3/ch03lvl1sec16/modeling-class-probabilities-via-logistic-regression)\n",
    "\n",
    "\n",
    "#### Logistic Regression Loss Function\n",
    "\n",
    "$$ L(w,b) = \\frac{1}{n}\\sum_{i=1}^{n}[-y^{(i)}\\log(\\sigma(z^{(i)})) - (1-y^{(i)})\\log(1-\\sigma(z^{(i)}))] $$\n",
    "\n",
    "\n",
    "#### Training: Fit\n",
    "$$z = (X^Tw + b)$$\n",
    "$$\\hat{y} = \\sigma(z)$$\n",
    "\n",
    "- Update in weights and bias is obtained by multiply -ve gradient with learning rate.\n",
    "\n",
    "eq (1)\n",
    "$$ \\Delta{w} = -\\eta * (\\Delta_{w}  L(w,b)) $$\n",
    "$$ \\Delta{w} = -\\eta * (-\\frac{2}{n} \\sum_{i=1}^{n}(y^{(i)} - \\hat{y}^{(i)})x_{j}^{(i)}) $$  \n",
    "\n",
    "eq (2)\n",
    "$$ \\Delta{b} = -\\eta * (\\Delta_{b}  L(w,b)) $$\n",
    "$$ \\Delta{b} = -\\eta * (-\\frac{2}{n} \\sum_{i=1}^{n}(y^{(i)} - \\hat{y}^{(i)})) $$\n",
    "\n",
    "#### Update weights and bias\n",
    "\n",
    "$$ w = w + \\Delta{w} $$\n",
    "$$ b = b + \\Delta{b} $$\n",
    "\n",
    "Where:\n",
    "\n",
    "$ \\sigma(z) $ is a `sigma` activation function."
   ]
  },
  {
   "cell_type": "code",
   "execution_count": 9,
   "metadata": {},
   "outputs": [],
   "source": [
    "class LogisticRegressionGD:\n",
    "    \"\"\"\n",
    "    Logistic Regression Classifier using Gradient Descent.\n",
    "\n",
    "    Parameters\n",
    "    ----------\n",
    "    eta : float, default=0.05\n",
    "        Learning rate (between 0.0 and 1.0).\n",
    "    epochs : int, default=10\n",
    "        Number of passes over the training dataset.\n",
    "    seed : int, default=42\n",
    "        Random number generator seed for random weight initialization.\n",
    "    \"\"\"\n",
    "\n",
    "    def __init__(self, eta=0.05, epochs: int = 10, seed: int = 42):\n",
    "        \"\"\"\n",
    "        Initialize the LogisticRegressionGD instance.\n",
    "\n",
    "        Parameters\n",
    "        ----------\n",
    "        eta : float, optional\n",
    "            Learning rate (between 0.0 and 1.0).\n",
    "        epochs : int, optional\n",
    "            Number of passes over the training dataset.\n",
    "        seed : int, optional\n",
    "            Random number generator seed for random weight initialization.\n",
    "        \"\"\"\n",
    "        assert 0 <= eta <= 1, \"eta must be between 0 and 1\"\n",
    "        assert epochs >= 1, \"epochs must be greater than 0\"\n",
    "        assert seed >= 0, \"seed must be greater than or equal to 0\"\n",
    "        self.eta = eta\n",
    "        self.epochs = epochs\n",
    "        self.seed = seed\n",
    "\n",
    "    def __repr__(self) -> str:\n",
    "        \"\"\"\n",
    "        Return a string representation of the LogisticRegressionGD instance.\n",
    "\n",
    "        Returns\n",
    "        -------\n",
    "        str\n",
    "            String representation of the instance.\n",
    "        \"\"\"\n",
    "        return (\n",
    "            f\"{self.__class__.__name__}(eta={self.eta}, \"\n",
    "            f\"epochs={self.epochs}, seed={self.seed})\"\n",
    "        )\n",
    "\n",
    "    def fit(self, X: np.ndarray, y: np.ndarray) -> \"LogisticRegressionGD\":\n",
    "        \"\"\"\n",
    "        Fit the model to the training data.\n",
    "\n",
    "        Parameters\n",
    "        ----------\n",
    "        X : np.ndarray\n",
    "            Training data, shape: (n_samples, n_features).\n",
    "        y : np.ndarray\n",
    "            Target values, shape: (n_samples,).\n",
    "\n",
    "        Returns\n",
    "        -------\n",
    "        self : LogisticRegressionGD\n",
    "            Fitted estimator.\n",
    "        \"\"\"\n",
    "        n_samples: int\n",
    "        n_features: int\n",
    "        n_samples, n_features = X.shape\n",
    "        rng = np.random.default_rng(self.seed)\n",
    "        # Size: (n_features,)\n",
    "        self.w_: np.ndarray = rng.normal(loc=0.0, scale=0.01, size=(n_features,))\n",
    "        self.b_: float = 0.0  # Scaler\n",
    "        self.losses_: list[float] = []\n",
    "\n",
    "        for _ in range(self.epochs):\n",
    "            # Size: (1, n_samples)\n",
    "            output: np.ndarray = self._activation(self._predict(X))\n",
    "            # y: (1, n_samples); error: (1, n_samples)\n",
    "            error: np.ndarray = y - output\n",
    "\n",
    "            # error * X: (1, n_samples) * (n_samples, n_features) -> (1, n_features)\n",
    "            dw: np.ndarray = -self.eta * ((-2 * np.dot(error, X)) / n_samples)\n",
    "            db: float = -self.eta * ((-2 * np.sum(error)) / n_samples)\n",
    "            self.w_ += dw\n",
    "            self.b_ += db\n",
    "\n",
    "            loss: np.ndarray = (\n",
    "                (np.dot(-y, np.log(output))) - np.dot((1 - y), np.log(1 - output))\n",
    "            ) / n_samples\n",
    "            self.losses_.append(loss)\n",
    "\n",
    "        return self\n",
    "\n",
    "    def _predict(self, X: np.ndarray) -> np.ndarray:\n",
    "        \"\"\"\n",
    "        Compute net input.\n",
    "\n",
    "        Parameters\n",
    "        ----------\n",
    "        X : np.ndarray\n",
    "            Input data, shape: (n_samples, n_features).\n",
    "\n",
    "        Returns\n",
    "        -------\n",
    "        np.ndarray\n",
    "            Net input, shape: (1, n_samples).\n",
    "        \"\"\"\n",
    "        # w_: (n_features,); X: (n_samples, n_features)\n",
    "        # z: w_ * X.T -> (1, n_features) * (n_features, n_samples) -> (1, n_samples)\n",
    "        z: np.ndarray = np.dot(self.w_, X.T) + self.b_\n",
    "        return z\n",
    "\n",
    "    def _activation(self, z: np.ndarray) -> np.ndarray:\n",
    "        \"\"\"\n",
    "        Compute logistic sigmoid activation.\n",
    "\n",
    "        Parameters\n",
    "        ----------\n",
    "        z : np.ndarray\n",
    "            Net input, shape: (1, n_samples).\n",
    "\n",
    "        Returns\n",
    "        -------\n",
    "        np.ndarray\n",
    "            Output of the logistic sigmoid activation function, shape: (1, n_samples).\n",
    "        \"\"\"\n",
    "        return 1.0 / (1.0 + np.exp(-np.clip(z, -250, 250)))\n",
    "\n",
    "    def predict(self, X: np.ndarray) -> np.ndarray:\n",
    "        \"\"\"\n",
    "        Return class label after unit step.\n",
    "\n",
    "        Parameters\n",
    "        ----------\n",
    "        X : np.ndarray\n",
    "            Input data, shape: (n_samples, n_features).\n",
    "\n",
    "        Returns\n",
    "        -------\n",
    "        np.ndarray\n",
    "            Predicted class labels, shape: (n_samples,).\n",
    "        \"\"\"\n",
    "        return np.where(self._activation(self._predict(X)) >= 0.5, 1, 0)"
   ]
  },
  {
   "cell_type": "code",
   "execution_count": 10,
   "metadata": {},
   "outputs": [
    {
     "data": {
      "image/png": "[encoded data removed]",
      "text/plain": [
       "<Figure size 640x480 with 1 Axes>"
      ]
     },
     "metadata": {},
     "output_type": "display_data"
    },
    {
     "data": {
      "image/png": "[encoded data removed]",
      "text/plain": [
       "<Figure size 640x480 with 1 Axes>"
      ]
     },
     "metadata": {},
     "output_type": "display_data"
    }
   ],
   "source": [
    "log_gd: LogisticRegressionGD = LogisticRegressionGD(eta=3e-1, epochs=1_000, seed=1)\n",
    "log_gd.fit(X_std, y)\n",
    "\n",
    "plot_decision_regions(X_std, y, classifier=log_gd)\n",
    "plt.title(\"Adaline - Stochastic gradient descent\")\n",
    "plt.xlabel(\"Sepal length [standardized]\")\n",
    "plt.ylabel(\"Petal length [standardized]\")\n",
    "plt.legend(loc=\"upper left\")\n",
    "\n",
    "plt.tight_layout()\n",
    "plt.show()\n",
    "\n",
    "plt.plot(range(1, len(log_gd.losses_) + 1), log_gd.losses_, marker=\"o\")\n",
    "plt.xlabel(\"Epochs\")\n",
    "plt.ylabel(\"Average loss\")\n",
    "\n",
    "plt.show()"
   ]
  },
  {
   "cell_type": "code",
   "execution_count": null,
   "metadata": {},
   "outputs": [],
   "source": []
  }
 ],
 "metadata": {
  "kernelspec": {
   "display_name": "torch_p11",
   "language": "python",
   "name": "python3"
  },
  "language_info": {
   "codemirror_mode": {
    "name": "ipython",
    "version": 3
   },
   "file_extension": ".py",
   "mimetype": "text/x-python",
   "name": "python",
   "nbconvert_exporter": "python",
   "pygments_lexer": "ipython3",
   "version": "3.11.8"
  }
 },
 "nbformat": 4,
 "nbformat_minor": 2
}
