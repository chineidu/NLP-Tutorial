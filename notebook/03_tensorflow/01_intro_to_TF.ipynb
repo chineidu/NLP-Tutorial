{
  "cells": [
    {
      "cell_type": "markdown",
      "metadata": {
        "id": "view-in-github",
        "colab_type": "text"
      },
      "source": [
        "<a href=\"https://colab.research.google.com/github/chineidu/NLP-Tutorial/blob/main/notebook/03_tensorflow/01_intro_to_TF.ipynb\" target=\"_parent\"><img src=\"https://colab.research.google.com/assets/colab-badge.svg\" alt=\"Open In Colab\"/></a>"
      ]
    },
    {
      "cell_type": "markdown",
      "metadata": {
        "id": "RQGCV_mQVzcF"
      },
      "source": [
        "# TensorFlow Tutorial"
      ]
    },
    {
      "cell_type": "code",
      "execution_count": 1,
      "metadata": {
        "id": "LL5xn4nrVzcJ"
      },
      "outputs": [],
      "source": [
        "# Standard imports\n",
        "import numpy as np\n",
        "import tensorflow as tf\n"
      ]
    },
    {
      "cell_type": "markdown",
      "metadata": {
        "id": "2vh1mGeWVzcL"
      },
      "source": [
        "* Intro To Tensors\n",
        "* Getting info from tensors\n",
        "* Manipulating tensors\n",
        "* Tensors and NumPy\n",
        "* Using @tf.function\n",
        "* Using GPUs/TPUs with TensorFlow\n"
      ]
    },
    {
      "cell_type": "code",
      "execution_count": 2,
      "metadata": {
        "colab": {
          "base_uri": "https://localhost:8080/",
          "height": 35
        },
        "id": "P4r6y5NKVzcM",
        "outputId": "b1f47721-4e8a-4584-f35a-a92b0d7c94a6"
      },
      "outputs": [
        {
          "output_type": "execute_result",
          "data": {
            "text/plain": [
              "'2.11.0'"
            ],
            "application/vnd.google.colaboratory.intrinsic+json": {
              "type": "string"
            }
          },
          "metadata": {},
          "execution_count": 2
        }
      ],
      "source": [
        "tf.__version__"
      ]
    },
    {
      "cell_type": "code",
      "execution_count": 3,
      "metadata": {
        "colab": {
          "base_uri": "https://localhost:8080/"
        },
        "id": "dOvNk3p-VzcM",
        "outputId": "dc7df48b-40f8-44a0-c1ee-52784c4fec3a"
      },
      "outputs": [
        {
          "output_type": "stream",
          "name": "stdout",
          "text": [
            "Python 3.8.10\n"
          ]
        }
      ],
      "source": [
        "!python -V"
      ]
    },
    {
      "cell_type": "markdown",
      "metadata": {
        "id": "RE3i7F5maOsV"
      },
      "source": [
        "### Create Tensors"
      ]
    },
    {
      "cell_type": "code",
      "execution_count": 4,
      "metadata": {
        "colab": {
          "base_uri": "https://localhost:8080/"
        },
        "id": "fylDtVZPaOpQ",
        "outputId": "c019f4cb-a7dd-4370-dfe0-e62c2c552ac6"
      },
      "outputs": [
        {
          "output_type": "execute_result",
          "data": {
            "text/plain": [
              "<tf.Tensor: shape=(4,), dtype=int32, numpy=array([1, 2, 3, 4], dtype=int32)>"
            ]
          },
          "metadata": {},
          "execution_count": 4
        }
      ],
      "source": [
        "# tf.constant\n",
        "tensor_1 = tf.constant([1, 2, 3, 4]) # Vector\n",
        "tensor_1"
      ]
    },
    {
      "cell_type": "code",
      "execution_count": 5,
      "metadata": {
        "colab": {
          "base_uri": "https://localhost:8080/"
        },
        "id": "agDcFn70aOmX",
        "outputId": "80fee524-e57e-4ddf-a980-a114760bbf4e"
      },
      "outputs": [
        {
          "output_type": "execute_result",
          "data": {
            "text/plain": [
              "(TensorShape([4]), 1)"
            ]
          },
          "metadata": {},
          "execution_count": 5
        }
      ],
      "source": [
        "tensor_1.shape, tensor_1.ndim"
      ]
    },
    {
      "cell_type": "code",
      "execution_count": 6,
      "metadata": {
        "colab": {
          "base_uri": "https://localhost:8080/"
        },
        "id": "ZGHg6bSGaOjl",
        "outputId": "7993a0ca-1c1a-4f5c-bca9-71c727347d15"
      },
      "outputs": [
        {
          "output_type": "execute_result",
          "data": {
            "text/plain": [
              "(<tf.Tensor: shape=(2, 4), dtype=float16, numpy=\n",
              " array([[1., 2., 3., 4.],\n",
              "        [5., 6., 7., 8.]], dtype=float16)>, TensorShape([2, 4]), 2)"
            ]
          },
          "metadata": {},
          "execution_count": 6
        }
      ],
      "source": [
        "tensor_2 = tf.constant([[1, 2, 3, 4], [5, 6, 7, 8]], dtype=tf.float16) # Matrix\n",
        "tensor_2, tensor_2.shape, tensor_2.ndim"
      ]
    },
    {
      "cell_type": "code",
      "execution_count": 7,
      "metadata": {
        "colab": {
          "base_uri": "https://localhost:8080/"
        },
        "id": "RT7SzKwPaOgG",
        "outputId": "3b0b3e46-3182-4b9c-99da-d7de9e899eb0"
      },
      "outputs": [
        {
          "output_type": "execute_result",
          "data": {
            "text/plain": [
              "<tf.Tensor: shape=(1, 3, 3), dtype=float16, numpy=\n",
              "array([[[1., 2., 3.],\n",
              "        [4., 5., 6.],\n",
              "        [7., 8., 9.]]], dtype=float16)>"
            ]
          },
          "metadata": {},
          "execution_count": 7
        }
      ],
      "source": [
        "tensor_3 = tf.constant([[[1, 2, 3], [4, 5, 6], [7, 8, 9]]], dtype=tf.float16) # Tensor\n",
        "tensor_3"
      ]
    },
    {
      "cell_type": "code",
      "execution_count": 8,
      "metadata": {
        "colab": {
          "base_uri": "https://localhost:8080/"
        },
        "id": "CNKdTOuDaOc9",
        "outputId": "99f5629b-12a9-4011-9185-e6ad94827a4c"
      },
      "outputs": [
        {
          "output_type": "execute_result",
          "data": {
            "text/plain": [
              "(TensorShape([1, 3, 3]), 3)"
            ]
          },
          "metadata": {},
          "execution_count": 8
        }
      ],
      "source": [
        "tensor_3.shape, tensor_3.ndim"
      ]
    },
    {
      "cell_type": "code",
      "execution_count": 9,
      "metadata": {
        "colab": {
          "base_uri": "https://localhost:8080/"
        },
        "id": "hyXnjpRiaOXL",
        "outputId": "5e9073d3-dd20-43c1-a33b-0bb51575f8df"
      },
      "outputs": [
        {
          "output_type": "execute_result",
          "data": {
            "text/plain": [
              "<tf.Tensor: shape=(2, 3, 3), dtype=int32, numpy=\n",
              "array([[[ 1,  2,  3],\n",
              "        [ 4,  5,  6],\n",
              "        [ 7,  8,  9]],\n",
              "\n",
              "       [[10, 11, 12],\n",
              "        [13, 14, 15],\n",
              "        [16, 17, 18]]], dtype=int32)>"
            ]
          },
          "metadata": {},
          "execution_count": 9
        }
      ],
      "source": [
        "tensor_4 = tf.constant([[[1, 2, 3], [4, 5, 6], [7, 8, 9]], \n",
        "                        [[10, 11, 12], [13, 14, 15], [16, 17, 18]]])\n",
        "tensor_4"
      ]
    },
    {
      "cell_type": "markdown",
      "metadata": {
        "id": "RNwj794eaOUT"
      },
      "source": [
        "### Creating Tensors Using tf.Variable"
      ]
    },
    {
      "cell_type": "code",
      "execution_count": 10,
      "metadata": {
        "colab": {
          "base_uri": "https://localhost:8080/"
        },
        "id": "DySYwNDgvN-2",
        "outputId": "88fa744c-2e45-4c6e-a3d7-fc7cb5c22c4c"
      },
      "outputs": [
        {
          "output_type": "execute_result",
          "data": {
            "text/plain": [
              "<tf.Variable 'Variable:0' shape=(4,) dtype=int32, numpy=array([1, 2, 3, 4], dtype=int32)>"
            ]
          },
          "metadata": {},
          "execution_count": 10
        }
      ],
      "source": [
        "# tf.constant\n",
        "changeable_tensor_1 = tf.Variable([1, 2, 3, 4]) # Vector\n",
        "changeable_tensor_1"
      ]
    },
    {
      "cell_type": "code",
      "execution_count": 11,
      "metadata": {
        "colab": {
          "base_uri": "https://localhost:8080/"
        },
        "id": "6LfrApa9vN8P",
        "outputId": "2062f683-ebf6-4a6b-d6d1-b666e8509d0d"
      },
      "outputs": [
        {
          "output_type": "execute_result",
          "data": {
            "text/plain": [
              "<tf.Variable 'UnreadVariable' shape=(4,) dtype=int32, numpy=array([-2,  2,  3,  4], dtype=int32)>"
            ]
          },
          "metadata": {},
          "execution_count": 11
        }
      ],
      "source": [
        "# Change an element in the tensor (Only possible for tensors created using tf.Variable)\n",
        "changeable_tensor_1[0].assign(-2)"
      ]
    },
    {
      "cell_type": "code",
      "execution_count": 12,
      "metadata": {
        "colab": {
          "base_uri": "https://localhost:8080/"
        },
        "id": "KdV-5XShvRKw",
        "outputId": "00d0324f-6363-4058-9090-2c9dc08b114e"
      },
      "outputs": [
        {
          "output_type": "execute_result",
          "data": {
            "text/plain": [
              "<tf.Variable 'Variable:0' shape=(4,) dtype=int32, numpy=array([-2,  2,  3,  4], dtype=int32)>"
            ]
          },
          "metadata": {},
          "execution_count": 12
        }
      ],
      "source": [
        "changeable_tensor_1"
      ]
    },
    {
      "cell_type": "markdown",
      "metadata": {
        "id": "5ynTBDkPy6yX"
      },
      "source": [
        "### Creating Random Tensors"
      ]
    },
    {
      "cell_type": "code",
      "execution_count": 13,
      "metadata": {
        "colab": {
          "base_uri": "https://localhost:8080/"
        },
        "id": "qmqkPTwNvRG3",
        "outputId": "6ff73d67-549b-4b6b-bc4a-f48dcb7fe62a"
      },
      "outputs": [
        {
          "output_type": "execute_result",
          "data": {
            "text/plain": [
              "<tf.Tensor: shape=(2, 2), dtype=float16, numpy=\n",
              "array([[0.8076, 0.793 ],\n",
              "       [0.4648, 0.2275]], dtype=float16)>"
            ]
          },
          "metadata": {},
          "execution_count": 13
        }
      ],
      "source": [
        "RANDOM_STATE = 123\n",
        "rng = tf.random.Generator.from_seed(RANDOM_STATE)\n",
        "\n",
        "random_tensor_1 = rng.uniform(shape=(2, 2), dtype=tf.float16)\n",
        "random_tensor_1"
      ]
    },
    {
      "cell_type": "code",
      "execution_count": 14,
      "metadata": {
        "colab": {
          "base_uri": "https://localhost:8080/"
        },
        "id": "ytnk7JFqvREh",
        "outputId": "574c7f73-9220-4405-d5a0-9c70334d5292"
      },
      "outputs": [
        {
          "output_type": "execute_result",
          "data": {
            "text/plain": [
              "<tf.Tensor: shape=(2, 2), dtype=float32, numpy=\n",
              "array([[ 0.46618396, -0.03461919],\n",
              "       [ 0.6538919 , -0.8194663 ]], dtype=float32)>"
            ]
          },
          "metadata": {},
          "execution_count": 14
        }
      ],
      "source": [
        "random_tensor_2 = rng.normal(shape=(2,2))\n",
        "random_tensor_2"
      ]
    },
    {
      "cell_type": "markdown",
      "metadata": {
        "id": "PCkttEx_vRCH"
      },
      "source": [
        "### Shuffle Elements In A Tensor"
      ]
    },
    {
      "cell_type": "code",
      "execution_count": 15,
      "metadata": {
        "colab": {
          "base_uri": "https://localhost:8080/"
        },
        "id": "_mWVswOhvQ_u",
        "outputId": "7e77ffe4-70bf-47f8-846f-dfd2322747ad"
      },
      "outputs": [
        {
          "output_type": "execute_result",
          "data": {
            "text/plain": [
              "<tf.Tensor: shape=(3, 4), dtype=int32, numpy=\n",
              "array([[ 1,  2,  3,  4],\n",
              "       [ 8,  9, 10, 11],\n",
              "       [ 1,  3,  5,  7]], dtype=int32)>"
            ]
          },
          "metadata": {},
          "execution_count": 15
        }
      ],
      "source": [
        "tensor_1 = tf.constant([[1, 2, 3, 4], \n",
        "                        [8, 9, 10, 11], \n",
        "                        [1, 3, 5, 7]])\n",
        "\n",
        "tf.random.shuffle(tensor_1)"
      ]
    },
    {
      "cell_type": "code",
      "execution_count": 16,
      "metadata": {
        "colab": {
          "base_uri": "https://localhost:8080/"
        },
        "id": "zrnkizMdvN5Y",
        "outputId": "576f0f13-5d75-4953-bc81-1d2031046522"
      },
      "outputs": [
        {
          "output_type": "execute_result",
          "data": {
            "text/plain": [
              "<tf.Tensor: shape=(3, 4), dtype=int32, numpy=\n",
              "array([[ 8,  9, 10, 11],\n",
              "       [ 1,  3,  5,  7],\n",
              "       [ 1,  2,  3,  4]], dtype=int32)>"
            ]
          },
          "metadata": {},
          "execution_count": 16
        }
      ],
      "source": [
        "tf.random.shuffle(tensor_1)"
      ]
    },
    {
      "cell_type": "code",
      "execution_count": 17,
      "metadata": {
        "colab": {
          "base_uri": "https://localhost:8080/"
        },
        "id": "csZhCivNvN22",
        "outputId": "b0be664a-a3fc-446d-8d8b-713334dbaa8b"
      },
      "outputs": [
        {
          "output_type": "execute_result",
          "data": {
            "text/plain": [
              "<tf.Tensor: shape=(3, 4), dtype=int32, numpy=\n",
              "array([[ 1,  3,  5,  7],\n",
              "       [ 8,  9, 10, 11],\n",
              "       [ 1,  2,  3,  4]], dtype=int32)>"
            ]
          },
          "metadata": {},
          "execution_count": 17
        }
      ],
      "source": [
        "# To ensure reproducibility, set global and operational level seed\n",
        "tf.random.set_seed(RANDOM_STATE) # global level seed \n",
        "tf.random.shuffle(tensor_1, seed=RANDOM_STATE) # operational level seed"
      ]
    },
    {
      "cell_type": "code",
      "execution_count": 18,
      "metadata": {
        "colab": {
          "base_uri": "https://localhost:8080/"
        },
        "id": "RlwM6LpwvN0p",
        "outputId": "ed01c5e6-0ee8-43af-84b4-46853001c3f0"
      },
      "outputs": [
        {
          "output_type": "execute_result",
          "data": {
            "text/plain": [
              "<tf.Tensor: shape=(3, 4), dtype=int32, numpy=\n",
              "array([[ 8,  9, 10, 11],\n",
              "       [ 1,  3,  5,  7],\n",
              "       [ 1,  2,  3,  4]], dtype=int32)>"
            ]
          },
          "metadata": {},
          "execution_count": 18
        }
      ],
      "source": [
        "tf.random.shuffle(tensor_1, seed=RANDOM_STATE)"
      ]
    },
    {
      "cell_type": "markdown",
      "metadata": {
        "id": "pRDrdzsDvNxx"
      },
      "source": [
        "### Other Ways of Creating Tensors\n",
        "\n",
        "* tf.ones()\n",
        "* tf.zeros()"
      ]
    },
    {
      "cell_type": "code",
      "execution_count": 19,
      "metadata": {
        "colab": {
          "base_uri": "https://localhost:8080/"
        },
        "id": "YjCe89whvNvL",
        "outputId": "19781791-717e-4739-acec-4b42c09f7cb6"
      },
      "outputs": [
        {
          "output_type": "execute_result",
          "data": {
            "text/plain": [
              "<tf.Tensor: shape=(2, 3), dtype=float32, numpy=\n",
              "array([[0., 0., 0.],\n",
              "       [0., 0., 0.]], dtype=float32)>"
            ]
          },
          "metadata": {},
          "execution_count": 19
        }
      ],
      "source": [
        "# tf.zeros\n",
        "tf.zeros(shape=(2, 3))"
      ]
    },
    {
      "cell_type": "code",
      "execution_count": 20,
      "metadata": {
        "colab": {
          "base_uri": "https://localhost:8080/"
        },
        "id": "eiFN1OjVvNsN",
        "outputId": "7937a482-dee1-4669-d7dd-85c92482af42"
      },
      "outputs": [
        {
          "output_type": "execute_result",
          "data": {
            "text/plain": [
              "<tf.Tensor: shape=(2, 3), dtype=float32, numpy=\n",
              "array([[1., 1., 1.],\n",
              "       [1., 1., 1.]], dtype=float32)>"
            ]
          },
          "metadata": {},
          "execution_count": 20
        }
      ],
      "source": [
        "# tf.ones()\n",
        "tf.ones(shape=(2, 3))"
      ]
    },
    {
      "cell_type": "markdown",
      "metadata": {
        "id": "9qnrHqrRVzcM"
      },
      "source": [
        "### Create Tensors From NumPy Arrays"
      ]
    },
    {
      "cell_type": "code",
      "execution_count": 21,
      "metadata": {
        "colab": {
          "base_uri": "https://localhost:8080/"
        },
        "id": "9-CTbVZD52g_",
        "outputId": "66a8dbc4-c0a7-4601-9cbd-4a97b1a41c3f"
      },
      "outputs": [
        {
          "output_type": "execute_result",
          "data": {
            "text/plain": [
              "<tf.Tensor: shape=(2, 2, 4), dtype=float16, numpy=\n",
              "array([[[ 1.,  2.,  3.,  4.],\n",
              "        [ 5.,  6.,  7.,  8.]],\n",
              "\n",
              "       [[ 9., 10., 11., 12.],\n",
              "        [13., 14., 15., 16.]]], dtype=float16)>"
            ]
          },
          "metadata": {},
          "execution_count": 21
        }
      ],
      "source": [
        "arr_A = np.arange(1, 17).reshape(2, 2, 4)\n",
        "tf_arr = tf.constant(arr_A, dtype=tf.float16)\n",
        "tf_arr"
      ]
    },
    {
      "cell_type": "code",
      "execution_count": 22,
      "metadata": {
        "colab": {
          "base_uri": "https://localhost:8080/"
        },
        "id": "7IuXGDFS52eS",
        "outputId": "ab889b7b-03f4-4df4-a81d-3067417e4cb0"
      },
      "outputs": [
        {
          "output_type": "execute_result",
          "data": {
            "text/plain": [
              "array([[[ 1.,  2.,  3.,  4.],\n",
              "        [ 5.,  6.,  7.,  8.]],\n",
              "\n",
              "       [[ 9., 10., 11., 12.],\n",
              "        [13., 14., 15., 16.]]], dtype=float16)"
            ]
          },
          "metadata": {},
          "execution_count": 22
        }
      ],
      "source": [
        "# Convert a tensor to NumPy array\n",
        "tf_arr.numpy()"
      ]
    },
    {
      "cell_type": "markdown",
      "metadata": {
        "id": "qff-o8jG52br"
      },
      "source": [
        "### Extracting Info From A Tensor\n",
        "\n",
        "* array.dtype\n",
        "* array.shape\n",
        "* array.ndim\n",
        "* tf.size(array)\n",
        "* indexing a tensor"
      ]
    },
    {
      "cell_type": "code",
      "execution_count": 23,
      "metadata": {
        "colab": {
          "base_uri": "https://localhost:8080/"
        },
        "id": "ky7wLbg-52ZG",
        "outputId": "743abc53-f563-489b-9a97-9b9914b17839"
      },
      "outputs": [
        {
          "output_type": "execute_result",
          "data": {
            "text/plain": [
              "(TensorShape([2, 2, 4]), 3, <tf.Tensor: shape=(), dtype=int32, numpy=16>)"
            ]
          },
          "metadata": {},
          "execution_count": 23
        }
      ],
      "source": [
        "tf_arr.shape, tf_arr.ndim, tf.size(tf_arr)"
      ]
    },
    {
      "cell_type": "code",
      "execution_count": 24,
      "metadata": {
        "colab": {
          "base_uri": "https://localhost:8080/"
        },
        "id": "B-_XUNp052Wh",
        "outputId": "1921bd84-6fd1-49a2-9da4-bf90b9608013"
      },
      "outputs": [
        {
          "output_type": "stream",
          "name": "stdout",
          "text": [
            "tf.Tensor(\n",
            "[[[ 1.  2.  3.  4.]\n",
            "  [ 5.  6.  7.  8.]]\n",
            "\n",
            " [[ 9. 10. 11. 12.]\n",
            "  [13. 14. 15. 16.]]], shape=(2, 2, 4), dtype=float16)\n",
            " ====================================================================== \n",
            "\n",
            "dtype: <dtype: 'float16'>,\n",
            "shape: (2, 2, 4), \n",
            "number of dimensions: 3, \n",
            "size of tensor: 16\n"
          ]
        }
      ],
      "source": [
        "print(tf_arr)\n",
        "print(\" ====================================================================== \")\n",
        "print(f\"\\ndtype: {tf_arr.dtype},\\nshape: {tf_arr.shape}, \\nnumber of dimensions: {tf_arr.ndim}, \\nsize of tensor: {tf.size(tf_arr)}\")"
      ]
    },
    {
      "cell_type": "code",
      "execution_count": 25,
      "metadata": {
        "colab": {
          "base_uri": "https://localhost:8080/"
        },
        "id": "FPOMtSBz52SE",
        "outputId": "9dc5d638-4a38-4573-9de5-4c477f8fc5ff"
      },
      "outputs": [
        {
          "output_type": "execute_result",
          "data": {
            "text/plain": [
              "<tf.Tensor: shape=(2, 3, 4, 3), dtype=float16, numpy=\n",
              "array([[[[1., 1., 1.],\n",
              "         [1., 1., 1.],\n",
              "         [1., 1., 1.],\n",
              "         [1., 1., 1.]],\n",
              "\n",
              "        [[1., 1., 1.],\n",
              "         [1., 1., 1.],\n",
              "         [1., 1., 1.],\n",
              "         [1., 1., 1.]],\n",
              "\n",
              "        [[1., 1., 1.],\n",
              "         [1., 1., 1.],\n",
              "         [1., 1., 1.],\n",
              "         [1., 1., 1.]]],\n",
              "\n",
              "\n",
              "       [[[1., 1., 1.],\n",
              "         [1., 1., 1.],\n",
              "         [1., 1., 1.],\n",
              "         [1., 1., 1.]],\n",
              "\n",
              "        [[1., 1., 1.],\n",
              "         [1., 1., 1.],\n",
              "         [1., 1., 1.],\n",
              "         [1., 1., 1.]],\n",
              "\n",
              "        [[1., 1., 1.],\n",
              "         [1., 1., 1.],\n",
              "         [1., 1., 1.],\n",
              "         [1., 1., 1.]]]], dtype=float16)>"
            ]
          },
          "metadata": {},
          "execution_count": 25
        }
      ],
      "source": [
        "# Rank 4 Tensor\n",
        "rank_4_tensor = tf.ones((2, 3, 4, 3), dtype=tf.float16)\n",
        "rank_4_tensor\n",
        "\n",
        "# Within the Oth axis, we have 2 (smaller arrays)\n",
        "# Within the 1st axis (i.e the 2 from above), we have 3-D (3, 4, 3)\n",
        "# Within the 2nd axis (i.e the 3-D from above), we have 4 rows (4, 3)\n",
        "# Within the 3rd axis (i.e the 4 rows from above), we have 3 columns"
      ]
    },
    {
      "cell_type": "code",
      "execution_count": 26,
      "metadata": {
        "colab": {
          "base_uri": "https://localhost:8080/"
        },
        "id": "Hgm7iu6i52Pa",
        "outputId": "702bc009-2947-454b-b79f-b165286af55f"
      },
      "outputs": [
        {
          "output_type": "execute_result",
          "data": {
            "text/plain": [
              "<tf.Tensor: shape=(3, 4, 3), dtype=float16, numpy=\n",
              "array([[[1., 1., 1.],\n",
              "        [1., 1., 1.],\n",
              "        [1., 1., 1.],\n",
              "        [1., 1., 1.]],\n",
              "\n",
              "       [[1., 1., 1.],\n",
              "        [1., 1., 1.],\n",
              "        [1., 1., 1.],\n",
              "        [1., 1., 1.]],\n",
              "\n",
              "       [[1., 1., 1.],\n",
              "        [1., 1., 1.],\n",
              "        [1., 1., 1.],\n",
              "        [1., 1., 1.]]], dtype=float16)>"
            ]
          },
          "metadata": {},
          "execution_count": 26
        }
      ],
      "source": [
        "# Oth \n",
        "rank_4_tensor[0]"
      ]
    },
    {
      "cell_type": "code",
      "execution_count": 27,
      "metadata": {
        "colab": {
          "base_uri": "https://localhost:8080/"
        },
        "id": "4xkAxhpOAXzC",
        "outputId": "16adde78-3ff8-4ed0-c0be-e4dba1214065"
      },
      "outputs": [
        {
          "output_type": "execute_result",
          "data": {
            "text/plain": [
              "<tf.Tensor: shape=(2, 3, 4, 3), dtype=float16, numpy=\n",
              "array([[[[ 6.,  2.,  9.],\n",
              "         [ 3., 10.,  7.],\n",
              "         [ 5.,  6.,  8.],\n",
              "         [ 7.,  4.,  5.]],\n",
              "\n",
              "        [[ 8.,  6.,  7.],\n",
              "         [10., 11.,  3.],\n",
              "         [ 2.,  8.,  9.],\n",
              "         [10.,  9., 11.]],\n",
              "\n",
              "        [[ 4.,  7.,  4.],\n",
              "         [11.,  9.,  4.],\n",
              "         [ 6.,  2., 11.],\n",
              "         [ 5., 10.,  8.]]],\n",
              "\n",
              "\n",
              "       [[[ 9.,  7.,  9.],\n",
              "         [ 6.,  9., 11.],\n",
              "         [ 5.,  2.,  7.],\n",
              "         [10.,  2.,  7.]],\n",
              "\n",
              "        [[ 5.,  4.,  8.],\n",
              "         [ 4.,  3.,  5.],\n",
              "         [11.,  9.,  9.],\n",
              "         [10., 10.,  8.]],\n",
              "\n",
              "        [[11.,  4.,  5.],\n",
              "         [10., 10.,  6.],\n",
              "         [ 7.,  3.,  2.],\n",
              "         [ 8., 11.,  7.]]]], dtype=float16)>"
            ]
          },
          "metadata": {},
          "execution_count": 27
        }
      ],
      "source": [
        "arr = np.random.randint(2, 12, size=(2, 3, 4, 3))\n",
        "rank_4_tensor = tf.constant(arr, dtype=tf.float16)\n",
        "rank_4_tensor"
      ]
    },
    {
      "cell_type": "code",
      "execution_count": 28,
      "metadata": {
        "colab": {
          "base_uri": "https://localhost:8080/"
        },
        "id": "kHpPTmcT52NF",
        "outputId": "dbab07e5-a60c-467f-ce5c-8b7f4bddfd4b"
      },
      "outputs": [
        {
          "output_type": "execute_result",
          "data": {
            "text/plain": [
              "<tf.Tensor: shape=(3, 4, 3), dtype=float16, numpy=\n",
              "array([[[ 6.,  2.,  9.],\n",
              "        [ 3., 10.,  7.],\n",
              "        [ 5.,  6.,  8.],\n",
              "        [ 7.,  4.,  5.]],\n",
              "\n",
              "       [[ 8.,  6.,  7.],\n",
              "        [10., 11.,  3.],\n",
              "        [ 2.,  8.,  9.],\n",
              "        [10.,  9., 11.]],\n",
              "\n",
              "       [[ 4.,  7.,  4.],\n",
              "        [11.,  9.,  4.],\n",
              "        [ 6.,  2., 11.],\n",
              "        [ 5., 10.,  8.]]], dtype=float16)>"
            ]
          },
          "metadata": {},
          "execution_count": 28
        }
      ],
      "source": [
        "# 0th index of the 0th axis\n",
        "rank_4_tensor[0]"
      ]
    },
    {
      "cell_type": "code",
      "execution_count": 29,
      "metadata": {
        "colab": {
          "base_uri": "https://localhost:8080/"
        },
        "id": "QSTvcE_-52Kf",
        "outputId": "c14207ee-7ec8-43fb-f9c8-f684f545efbc"
      },
      "outputs": [
        {
          "output_type": "execute_result",
          "data": {
            "text/plain": [
              "<tf.Tensor: shape=(3, 4, 3), dtype=float16, numpy=\n",
              "array([[[ 9.,  7.,  9.],\n",
              "        [ 6.,  9., 11.],\n",
              "        [ 5.,  2.,  7.],\n",
              "        [10.,  2.,  7.]],\n",
              "\n",
              "       [[ 5.,  4.,  8.],\n",
              "        [ 4.,  3.,  5.],\n",
              "        [11.,  9.,  9.],\n",
              "        [10., 10.,  8.]],\n",
              "\n",
              "       [[11.,  4.,  5.],\n",
              "        [10., 10.,  6.],\n",
              "        [ 7.,  3.,  2.],\n",
              "        [ 8., 11.,  7.]]], dtype=float16)>"
            ]
          },
          "metadata": {},
          "execution_count": 29
        }
      ],
      "source": [
        "# 1st index of the 0th axis\n",
        "rank_4_tensor[1]"
      ]
    },
    {
      "cell_type": "code",
      "execution_count": 30,
      "metadata": {
        "colab": {
          "base_uri": "https://localhost:8080/"
        },
        "id": "dHAIWRaN52Gj",
        "outputId": "9fd252d0-a783-4054-b195-dbde3f7d9b09"
      },
      "outputs": [
        {
          "output_type": "execute_result",
          "data": {
            "text/plain": [
              "<tf.Tensor: shape=(4, 3), dtype=float16, numpy=\n",
              "array([[ 8.,  6.,  7.],\n",
              "       [10., 11.,  3.],\n",
              "       [ 2.,  8.,  9.],\n",
              "       [10.,  9., 11.]], dtype=float16)>"
            ]
          },
          "metadata": {},
          "execution_count": 30
        }
      ],
      "source": [
        "# 0th index of the 0th axis and 1st index of the 1st axis\n",
        "rank_4_tensor[0, 1]"
      ]
    },
    {
      "cell_type": "code",
      "execution_count": 31,
      "metadata": {
        "colab": {
          "base_uri": "https://localhost:8080/"
        },
        "id": "p0gaN0Sc52D8",
        "outputId": "cc0faf46-efca-4589-d315-5b886ab93ded"
      },
      "outputs": [
        {
          "output_type": "execute_result",
          "data": {
            "text/plain": [
              "<tf.Tensor: shape=(3,), dtype=float16, numpy=array([8., 6., 7.], dtype=float16)>"
            ]
          },
          "metadata": {},
          "execution_count": 31
        }
      ],
      "source": [
        "# 0th index of the 0th axis\n",
        "rank_4_tensor[0, 1, 0]"
      ]
    },
    {
      "cell_type": "code",
      "execution_count": 32,
      "metadata": {
        "colab": {
          "base_uri": "https://localhost:8080/"
        },
        "id": "I-8O3mxX52BX",
        "outputId": "dc764eb8-2b03-4ff2-bf18-97bdd02b13b4"
      },
      "outputs": [
        {
          "output_type": "execute_result",
          "data": {
            "text/plain": [
              "<tf.Tensor: shape=(2, 3, 3), dtype=float16, numpy=\n",
              "array([[[ 5.,  6.,  8.],\n",
              "        [ 2.,  8.,  9.],\n",
              "        [ 6.,  2., 11.]],\n",
              "\n",
              "       [[ 5.,  2.,  7.],\n",
              "        [11.,  9.,  9.],\n",
              "        [ 7.,  3.,  2.]]], dtype=float16)>"
            ]
          },
          "metadata": {},
          "execution_count": 32
        }
      ],
      "source": [
        "# Extract all the 2nd index from the tensor\n",
        "rank_4_tensor[:, :, 2]"
      ]
    },
    {
      "cell_type": "code",
      "execution_count": 33,
      "metadata": {
        "colab": {
          "base_uri": "https://localhost:8080/"
        },
        "id": "1enJGa3Q5186",
        "outputId": "70cfc8de-e93f-4d0a-977a-320dca86248a"
      },
      "outputs": [
        {
          "output_type": "execute_result",
          "data": {
            "text/plain": [
              "array([[[[ 6,  2,  9],\n",
              "         [ 3, 10,  7],\n",
              "         [ 5,  6,  8],\n",
              "         [ 7,  4,  5]],\n",
              "\n",
              "        [[ 8,  6,  7],\n",
              "         [10, 11,  3],\n",
              "         [ 2,  8,  9],\n",
              "         [10,  9, 11]],\n",
              "\n",
              "        [[ 4,  7,  4],\n",
              "         [11,  9,  4],\n",
              "         [ 6,  2, 11],\n",
              "         [ 5, 10,  8]]],\n",
              "\n",
              "\n",
              "       [[[ 9,  7,  9],\n",
              "         [ 6,  9, 11],\n",
              "         [ 5,  2,  7],\n",
              "         [10,  2,  7]],\n",
              "\n",
              "        [[ 5,  4,  8],\n",
              "         [ 4,  3,  5],\n",
              "         [11,  9,  9],\n",
              "         [10, 10,  8]],\n",
              "\n",
              "        [[11,  4,  5],\n",
              "         [10, 10,  6],\n",
              "         [ 7,  3,  2],\n",
              "         [ 8, 11,  7]]]])"
            ]
          },
          "metadata": {},
          "execution_count": 33
        }
      ],
      "source": [
        "arr"
      ]
    },
    {
      "cell_type": "code",
      "execution_count": 34,
      "metadata": {
        "colab": {
          "base_uri": "https://localhost:8080/"
        },
        "id": "XTHnXo9w516U",
        "outputId": "f7e2b244-e6ae-4d23-ebe0-6c889e480368"
      },
      "outputs": [
        {
          "output_type": "execute_result",
          "data": {
            "text/plain": [
              "array([[[ 4,  5,  6],\n",
              "        [ 7,  8,  9],\n",
              "        [10, 11, 12]],\n",
              "\n",
              "       [[13, 14, 15],\n",
              "        [16, 17, 18],\n",
              "        [19, 20, 21]]])"
            ]
          },
          "metadata": {},
          "execution_count": 34
        }
      ],
      "source": [
        "arr_1 = np.arange(4, 22).reshape(2, 3, 3)\n",
        "arr_1"
      ]
    },
    {
      "cell_type": "code",
      "execution_count": 35,
      "metadata": {
        "colab": {
          "base_uri": "https://localhost:8080/"
        },
        "id": "uMmwR49d513M",
        "outputId": "07a24ed2-eeff-40c9-9ec5-66eb81356d07"
      },
      "outputs": [
        {
          "output_type": "execute_result",
          "data": {
            "text/plain": [
              "array([ 4,  8, 12])"
            ]
          },
          "metadata": {},
          "execution_count": 35
        }
      ],
      "source": [
        "a = arr_1[0]\n",
        "a[[0,1,2], [0,1,2]]"
      ]
    },
    {
      "cell_type": "code",
      "execution_count": 36,
      "metadata": {
        "colab": {
          "base_uri": "https://localhost:8080/"
        },
        "id": "eb1i2X81510H",
        "outputId": "5406b763-e1c2-4e7d-bb16-4fd084221610"
      },
      "outputs": [
        {
          "output_type": "execute_result",
          "data": {
            "text/plain": [
              "<tf.Tensor: shape=(2, 3, 4, 3), dtype=float16, numpy=\n",
              "array([[[[ 6.,  2.,  9.],\n",
              "         [ 3., 10.,  7.],\n",
              "         [ 5.,  6.,  8.],\n",
              "         [ 7.,  4.,  5.]],\n",
              "\n",
              "        [[ 8.,  6.,  7.],\n",
              "         [10., 11.,  3.],\n",
              "         [ 2.,  8.,  9.],\n",
              "         [10.,  9., 11.]],\n",
              "\n",
              "        [[ 4.,  7.,  4.],\n",
              "         [11.,  9.,  4.],\n",
              "         [ 6.,  2., 11.],\n",
              "         [ 5., 10.,  8.]]],\n",
              "\n",
              "\n",
              "       [[[ 9.,  7.,  9.],\n",
              "         [ 6.,  9., 11.],\n",
              "         [ 5.,  2.,  7.],\n",
              "         [10.,  2.,  7.]],\n",
              "\n",
              "        [[ 5.,  4.,  8.],\n",
              "         [ 4.,  3.,  5.],\n",
              "         [11.,  9.,  9.],\n",
              "         [10., 10.,  8.]],\n",
              "\n",
              "        [[11.,  4.,  5.],\n",
              "         [10., 10.,  6.],\n",
              "         [ 7.,  3.,  2.],\n",
              "         [ 8., 11.,  7.]]]], dtype=float16)>"
            ]
          },
          "metadata": {},
          "execution_count": 36
        }
      ],
      "source": [
        "rank_4_tensor"
      ]
    },
    {
      "cell_type": "code",
      "execution_count": 37,
      "metadata": {
        "colab": {
          "base_uri": "https://localhost:8080/"
        },
        "id": "N6Uz3MWY51ua",
        "outputId": "2c84cd19-ec24-47db-e726-5988a4b60eb0"
      },
      "outputs": [
        {
          "output_type": "execute_result",
          "data": {
            "text/plain": [
              "<tf.Tensor: shape=(2, 2, 2, 2), dtype=float16, numpy=\n",
              "array([[[[ 6.,  2.],\n",
              "         [ 3., 10.]],\n",
              "\n",
              "        [[ 8.,  6.],\n",
              "         [10., 11.]]],\n",
              "\n",
              "\n",
              "       [[[ 9.,  7.],\n",
              "         [ 6.,  9.]],\n",
              "\n",
              "        [[ 5.,  4.],\n",
              "         [ 4.,  3.]]]], dtype=float16)>"
            ]
          },
          "metadata": {},
          "execution_count": 37
        }
      ],
      "source": [
        "# Get the first 2 elements in each dimension\n",
        "rank_4_tensor[:2, :2, :2, :2]"
      ]
    },
    {
      "cell_type": "markdown",
      "metadata": {
        "id": "4145zrwYs_8V"
      },
      "source": [
        "### Add Extra Dimension\n",
        "\n",
        "* tensor[.., tf.newaxis]\n",
        "* tf.expand_dims()\n",
        "\n",
        "```python\n",
        "tensor[.., tf.newaxis]\n",
        "tf.expand_dims()\n",
        "```"
      ]
    },
    {
      "cell_type": "code",
      "execution_count": 38,
      "metadata": {
        "colab": {
          "base_uri": "https://localhost:8080/"
        },
        "id": "Q64WMrrM51om",
        "outputId": "55ce721c-a14f-42af-a3e7-afeb560298ef"
      },
      "outputs": [
        {
          "output_type": "execute_result",
          "data": {
            "text/plain": [
              "<tf.Tensor: shape=(2, 2), dtype=int32, numpy=\n",
              "array([[ 2,  4],\n",
              "       [ 8, 10]], dtype=int32)>"
            ]
          },
          "metadata": {},
          "execution_count": 38
        }
      ],
      "source": [
        "tensor_1 = tf.constant([[2, 4], [8, 10]])\n",
        "tensor_1"
      ]
    },
    {
      "cell_type": "code",
      "execution_count": 39,
      "metadata": {
        "colab": {
          "base_uri": "https://localhost:8080/"
        },
        "id": "9ofrNphJ51ll",
        "outputId": "5a3c1b78-0831-4e1e-ec80-e793d4a3700c"
      },
      "outputs": [
        {
          "output_type": "execute_result",
          "data": {
            "text/plain": [
              "<tf.Tensor: shape=(2, 2, 1), dtype=int32, numpy=\n",
              "array([[[ 2],\n",
              "        [ 4]],\n",
              "\n",
              "       [[ 8],\n",
              "        [10]]], dtype=int32)>"
            ]
          },
          "metadata": {},
          "execution_count": 39
        }
      ],
      "source": [
        "tensor_1[..., tf.newaxis] # OR tensor_1[:, :, tf.newaxis]"
      ]
    },
    {
      "cell_type": "code",
      "execution_count": 40,
      "metadata": {
        "colab": {
          "base_uri": "https://localhost:8080/"
        },
        "id": "ygEBCO7m51i3",
        "outputId": "572d1ac1-531f-49bd-934c-a85e78918083"
      },
      "outputs": [
        {
          "output_type": "execute_result",
          "data": {
            "text/plain": [
              "<tf.Tensor: shape=(1, 2, 2), dtype=int32, numpy=\n",
              "array([[[ 2,  4],\n",
              "        [ 8, 10]]], dtype=int32)>"
            ]
          },
          "metadata": {},
          "execution_count": 40
        }
      ],
      "source": [
        "tensor_1[tf.newaxis, ...]"
      ]
    },
    {
      "cell_type": "code",
      "execution_count": 41,
      "metadata": {
        "colab": {
          "base_uri": "https://localhost:8080/"
        },
        "id": "x4gyLmOh51gQ",
        "outputId": "fe2d17db-ca47-4ed5-e7be-47b4a238c29c"
      },
      "outputs": [
        {
          "output_type": "execute_result",
          "data": {
            "text/plain": [
              "<tf.Tensor: shape=(1, 2, 2), dtype=int32, numpy=\n",
              "array([[[ 2,  4],\n",
              "        [ 8, 10]]], dtype=int32)>"
            ]
          },
          "metadata": {},
          "execution_count": 41
        }
      ],
      "source": [
        "tf.expand_dims(tensor_1, axis=0)"
      ]
    },
    {
      "cell_type": "markdown",
      "metadata": {
        "id": "hXeWEow5slac"
      },
      "source": [
        "# Adding New Dimensions\n",
        "\n",
        "* tf.expand_dims()\n"
      ]
    },
    {
      "cell_type": "code",
      "execution_count": 42,
      "metadata": {
        "colab": {
          "base_uri": "https://localhost:8080/"
        },
        "id": "aN44iFOc51dH",
        "outputId": "e0f07cfe-ea0a-4f63-8807-50ef3f75f48b"
      },
      "outputs": [
        {
          "output_type": "execute_result",
          "data": {
            "text/plain": [
              "<tf.Tensor: shape=(2, 1, 2), dtype=int32, numpy=\n",
              "array([[[ 2,  4]],\n",
              "\n",
              "       [[ 8, 10]]], dtype=int32)>"
            ]
          },
          "metadata": {},
          "execution_count": 42
        }
      ],
      "source": [
        "tf.expand_dims(tensor_1, axis=1)"
      ]
    },
    {
      "cell_type": "code",
      "execution_count": 43,
      "metadata": {
        "colab": {
          "base_uri": "https://localhost:8080/"
        },
        "id": "qfJ-ZyuX51aQ",
        "outputId": "9981277b-ac2d-4bdb-fc3c-6d9c81274ff7"
      },
      "outputs": [
        {
          "output_type": "execute_result",
          "data": {
            "text/plain": [
              "<tf.Tensor: shape=(2, 2, 1), dtype=int32, numpy=\n",
              "array([[[ 2],\n",
              "        [ 4]],\n",
              "\n",
              "       [[ 8],\n",
              "        [10]]], dtype=int32)>"
            ]
          },
          "metadata": {},
          "execution_count": 43
        }
      ],
      "source": [
        "tf.expand_dims(tensor_1, axis=2)"
      ]
    },
    {
      "cell_type": "markdown",
      "source": [
        "### Manipulating Tensors With Basic Operations\n",
        "\n",
        "> Element-wise operations.\n",
        "\n",
        "* Addition\n",
        "* Subtraction\n",
        "* Multiplication\n",
        "* Division"
      ],
      "metadata": {
        "id": "5-bwezYt7Uee"
      }
    },
    {
      "cell_type": "code",
      "execution_count": 44,
      "metadata": {
        "id": "ojtHQU_C51XX",
        "colab": {
          "base_uri": "https://localhost:8080/"
        },
        "outputId": "f7680885-56b6-44d8-9899-45c3eb185cc5"
      },
      "outputs": [
        {
          "output_type": "execute_result",
          "data": {
            "text/plain": [
              "<tf.Tensor: shape=(2, 2), dtype=int32, numpy=\n",
              "array([[ 2,  4],\n",
              "       [ 8, 10]], dtype=int32)>"
            ]
          },
          "metadata": {},
          "execution_count": 44
        }
      ],
      "source": [
        "tensor_1"
      ]
    },
    {
      "cell_type": "code",
      "execution_count": 45,
      "metadata": {
        "id": "ng4cGCDj51TB",
        "colab": {
          "base_uri": "https://localhost:8080/"
        },
        "outputId": "48e1201c-c478-4158-af63-631049c076ca"
      },
      "outputs": [
        {
          "output_type": "execute_result",
          "data": {
            "text/plain": [
              "<tf.Tensor: shape=(2, 2), dtype=int32, numpy=\n",
              "array([[12, 14],\n",
              "       [18, 20]], dtype=int32)>"
            ]
          },
          "metadata": {},
          "execution_count": 45
        }
      ],
      "source": [
        "# Addition (Broadcasting)\n",
        "tensor_1 + 10"
      ]
    },
    {
      "cell_type": "code",
      "execution_count": 46,
      "metadata": {
        "id": "WNpd5NU251QF",
        "colab": {
          "base_uri": "https://localhost:8080/"
        },
        "outputId": "b6c538d6-66f7-4adf-855d-cc9b0b9d90d5"
      },
      "outputs": [
        {
          "output_type": "execute_result",
          "data": {
            "text/plain": [
              "(<tf.Tensor: shape=(2, 2), dtype=int32, numpy=\n",
              " array([[-8, -6],\n",
              "        [-2,  0]], dtype=int32)>, <tf.Tensor: shape=(2, 2), dtype=int32, numpy=\n",
              " array([[ 20,  40],\n",
              "        [ 80, 100]], dtype=int32)>)"
            ]
          },
          "metadata": {},
          "execution_count": 46
        }
      ],
      "source": [
        "# Subtraction, Multiplcation (Broadcasting)\n",
        "tensor_1 - 10, tensor_1 * 10,"
      ]
    },
    {
      "cell_type": "code",
      "execution_count": 47,
      "metadata": {
        "id": "K_qUFAdp51NM",
        "colab": {
          "base_uri": "https://localhost:8080/"
        },
        "outputId": "e4da336b-7230-4eff-d421-881c12801e6f"
      },
      "outputs": [
        {
          "output_type": "execute_result",
          "data": {
            "text/plain": [
              "<tf.Tensor: shape=(2, 2), dtype=int32, numpy=\n",
              "array([[12, 14],\n",
              "       [18, 20]], dtype=int32)>"
            ]
          },
          "metadata": {},
          "execution_count": 47
        }
      ],
      "source": [
        "tf.add(tensor_1, 10)"
      ]
    },
    {
      "cell_type": "markdown",
      "source": [
        "### Matrix Multiplcation\n",
        "\n",
        "* Check this interactive matrix multiplication [website](https://matrixmultiplication.xyz)"
      ],
      "metadata": {
        "id": "CQFBHAch8FEl"
      }
    },
    {
      "cell_type": "code",
      "execution_count": 48,
      "metadata": {
        "id": "M9FFUzfoVzcM",
        "colab": {
          "base_uri": "https://localhost:8080/"
        },
        "outputId": "0e06bfaf-4cfd-4253-89fc-b7a06ea5ba44"
      },
      "outputs": [
        {
          "output_type": "execute_result",
          "data": {
            "text/plain": [
              "(TensorShape([2, 3]), TensorShape([2, 3]))"
            ]
          },
          "metadata": {},
          "execution_count": 48
        }
      ],
      "source": [
        "tensor_1 = tf.constant([[1, 2, 3], [5, 6, 7]])\n",
        "tensor_2 = tf.constant([[-3, 15, 1], [4, 9, 0]])\n",
        "tensor_1.shape, tensor_2.shape "
      ]
    },
    {
      "cell_type": "markdown",
      "source": [
        "* The tensors must have equal inner dimensions before dot product can be performed. \\\n",
        "e.g (a, b) . (b, c) \\\n",
        "The result has a shape of (a, b)\n"
      ],
      "metadata": {
        "id": "MWEcMK5M9X4X"
      }
    },
    {
      "cell_type": "code",
      "source": [
        "# Reshape one of the matrixes before you can perform matrix multiplcation\n",
        "tf.matmul(tensor_1, tf.transpose(tensor_2))"
      ],
      "metadata": {
        "colab": {
          "base_uri": "https://localhost:8080/"
        },
        "id": "QvIsM4jm9EmG",
        "outputId": "80ced49f-bac3-4793-b0ad-34b6597fb84b"
      },
      "execution_count": 49,
      "outputs": [
        {
          "output_type": "execute_result",
          "data": {
            "text/plain": [
              "<tf.Tensor: shape=(2, 2), dtype=int32, numpy=\n",
              "array([[30, 22],\n",
              "       [82, 74]], dtype=int32)>"
            ]
          },
          "metadata": {},
          "execution_count": 49
        }
      ]
    },
    {
      "cell_type": "markdown",
      "source": [
        "#### You can also reshape one of the tensors into an appropriate shape"
      ],
      "metadata": {
        "id": "yAwZ9Ok5EMCe"
      }
    },
    {
      "cell_type": "code",
      "source": [
        "# (3, 3) . (2, 3)\n",
        "tf.matmul(tf.reshape(tensor_1, shape=(3, 2)), tensor_2)"
      ],
      "metadata": {
        "colab": {
          "base_uri": "https://localhost:8080/"
        },
        "id": "VYGFL_oP9EjM",
        "outputId": "cad8fe8e-7360-4158-fd17-e73146cf4f2c"
      },
      "execution_count": 50,
      "outputs": [
        {
          "output_type": "execute_result",
          "data": {
            "text/plain": [
              "<tf.Tensor: shape=(3, 3), dtype=int32, numpy=\n",
              "array([[  5,  33,   1],\n",
              "       [ 11,  90,   3],\n",
              "       [ 10, 153,   6]], dtype=int32)>"
            ]
          },
          "metadata": {},
          "execution_count": 50
        }
      ]
    },
    {
      "cell_type": "code",
      "source": [
        "print(f\"Original tensor: \\n{tensor_1}, \\nTransposed tensor: \\n{tf.transpose(tensor_1)}, \\nReshaped tensor: \\n{tf.reshape(tensor_1, shape=(3, 2))}\")"
      ],
      "metadata": {
        "colab": {
          "base_uri": "https://localhost:8080/"
        },
        "id": "GStEP7Av9Ego",
        "outputId": "bd9b488c-e124-492d-c5b4-0988569c3dc1"
      },
      "execution_count": 51,
      "outputs": [
        {
          "output_type": "stream",
          "name": "stdout",
          "text": [
            "Original tensor: \n",
            "[[1 2 3]\n",
            " [5 6 7]], \n",
            "Transposed tensor: \n",
            "[[1 5]\n",
            " [2 6]\n",
            " [3 7]], \n",
            "Reshaped tensor: \n",
            "[[1 2]\n",
            " [3 5]\n",
            " [6 7]]\n"
          ]
        }
      ]
    },
    {
      "cell_type": "markdown",
      "source": [
        "### Changing Data Types\n",
        "\n",
        "* tf.cast(tensor, dtype=tf.datatype)"
      ],
      "metadata": {
        "id": "vWS0N_oIGIgx"
      }
    },
    {
      "cell_type": "code",
      "source": [
        "A = tf.constant([[1., 3.], [8., -9.]])\n",
        "B = tf.constant([[-4., 3.], [2., 9.]])\n",
        "\n",
        "A, B"
      ],
      "metadata": {
        "colab": {
          "base_uri": "https://localhost:8080/"
        },
        "id": "hctrNFuR9EdJ",
        "outputId": "3c79f8c6-7c45-4d49-ec32-5254f446732a"
      },
      "execution_count": 52,
      "outputs": [
        {
          "output_type": "execute_result",
          "data": {
            "text/plain": [
              "(<tf.Tensor: shape=(2, 2), dtype=float32, numpy=\n",
              " array([[ 1.,  3.],\n",
              "        [ 8., -9.]], dtype=float32)>,\n",
              " <tf.Tensor: shape=(2, 2), dtype=float32, numpy=\n",
              " array([[-4.,  3.],\n",
              "        [ 2.,  9.]], dtype=float32)>)"
            ]
          },
          "metadata": {},
          "execution_count": 52
        }
      ]
    },
    {
      "cell_type": "code",
      "source": [
        "tf.cast(A, dtype=tf.float16)"
      ],
      "metadata": {
        "colab": {
          "base_uri": "https://localhost:8080/"
        },
        "id": "3EBs74YA9Eak",
        "outputId": "ee9d95d7-e75d-49f8-fbe6-8cf6d092f93f"
      },
      "execution_count": 53,
      "outputs": [
        {
          "output_type": "execute_result",
          "data": {
            "text/plain": [
              "<tf.Tensor: shape=(2, 2), dtype=float16, numpy=\n",
              "array([[ 1.,  3.],\n",
              "       [ 8., -9.]], dtype=float16)>"
            ]
          },
          "metadata": {},
          "execution_count": 53
        }
      ]
    },
    {
      "cell_type": "markdown",
      "source": [
        "### Aggregating Tensors\n",
        "\n",
        "* Min\n",
        "* Max\n",
        "* Mean\n",
        "* Sum"
      ],
      "metadata": {
        "id": "vi-oAnmVYbeb"
      }
    },
    {
      "cell_type": "code",
      "source": [
        "A"
      ],
      "metadata": {
        "colab": {
          "base_uri": "https://localhost:8080/"
        },
        "id": "1oit8AneaZgg",
        "outputId": "4003e3c4-9cce-43ee-8ed8-74707cac3b6b"
      },
      "execution_count": 54,
      "outputs": [
        {
          "output_type": "execute_result",
          "data": {
            "text/plain": [
              "<tf.Tensor: shape=(2, 2), dtype=float32, numpy=\n",
              "array([[ 1.,  3.],\n",
              "       [ 8., -9.]], dtype=float32)>"
            ]
          },
          "metadata": {},
          "execution_count": 54
        }
      ]
    },
    {
      "cell_type": "code",
      "source": [
        "tf.math.reduce_min(A)"
      ],
      "metadata": {
        "colab": {
          "base_uri": "https://localhost:8080/"
        },
        "id": "bBluoyX_Z9EJ",
        "outputId": "e2a0da9f-6401-44e6-abae-bb943506e814"
      },
      "execution_count": 55,
      "outputs": [
        {
          "output_type": "execute_result",
          "data": {
            "text/plain": [
              "<tf.Tensor: shape=(), dtype=float32, numpy=-9.0>"
            ]
          },
          "metadata": {},
          "execution_count": 55
        }
      ]
    },
    {
      "cell_type": "code",
      "source": [
        "tf.math.reduce_min(A).numpy()"
      ],
      "metadata": {
        "colab": {
          "base_uri": "https://localhost:8080/"
        },
        "id": "i-ujk8e2Z9AL",
        "outputId": "f46f7ab4-242f-4aa6-e3f1-a37e5fc99150"
      },
      "execution_count": 56,
      "outputs": [
        {
          "output_type": "execute_result",
          "data": {
            "text/plain": [
              "-9.0"
            ]
          },
          "metadata": {},
          "execution_count": 56
        }
      ]
    },
    {
      "cell_type": "code",
      "source": [
        "tf.math.reduce_max(A), tf.math.reduce_sum(A)"
      ],
      "metadata": {
        "colab": {
          "base_uri": "https://localhost:8080/"
        },
        "id": "MsW-hDCRaG3X",
        "outputId": "17aa4df0-38d6-4a6e-9301-f0dc709dd23f"
      },
      "execution_count": 57,
      "outputs": [
        {
          "output_type": "execute_result",
          "data": {
            "text/plain": [
              "(<tf.Tensor: shape=(), dtype=float32, numpy=8.0>,\n",
              " <tf.Tensor: shape=(), dtype=float32, numpy=3.0>)"
            ]
          },
          "metadata": {},
          "execution_count": 57
        }
      ]
    },
    {
      "cell_type": "code",
      "source": [
        "tf.math.reduce_variance(A).numpy()"
      ],
      "metadata": {
        "colab": {
          "base_uri": "https://localhost:8080/"
        },
        "id": "mL8A5ykFaG0e",
        "outputId": "73083cbe-7613-4aca-82e0-0534cfa24c24"
      },
      "execution_count": 58,
      "outputs": [
        {
          "output_type": "execute_result",
          "data": {
            "text/plain": [
              "38.1875"
            ]
          },
          "metadata": {},
          "execution_count": 58
        }
      ]
    },
    {
      "cell_type": "code",
      "source": [
        "tf.math.reduce_std(A).numpy()"
      ],
      "metadata": {
        "colab": {
          "base_uri": "https://localhost:8080/"
        },
        "id": "A3_ozsGqaGyA",
        "outputId": "3d1e6476-3f02-48a1-a5f7-21fa2bb2af42"
      },
      "execution_count": 59,
      "outputs": [
        {
          "output_type": "execute_result",
          "data": {
            "text/plain": [
              "6.1796036"
            ]
          },
          "metadata": {},
          "execution_count": 59
        }
      ]
    },
    {
      "cell_type": "markdown",
      "source": [
        "### Positional Maximum\n",
        "\n",
        "* tf.argmax()"
      ],
      "metadata": {
        "id": "D3RZnqnVaGr4"
      }
    },
    {
      "cell_type": "code",
      "source": [
        "tensor_1 = tf.constant(value=np.random.uniform(low=0, high=1, size=(12,)))\n",
        "\n",
        "tensor_1"
      ],
      "metadata": {
        "colab": {
          "base_uri": "https://localhost:8080/"
        },
        "id": "i7PPDoDkaGoQ",
        "outputId": "005cf1bb-b84c-4073-c29b-9f392abb8f06"
      },
      "execution_count": 70,
      "outputs": [
        {
          "output_type": "execute_result",
          "data": {
            "text/plain": [
              "<tf.Tensor: shape=(12,), dtype=float64, numpy=\n",
              "array([0.33501033, 0.41245171, 0.95012224, 0.87292569, 0.35275916,\n",
              "       0.77855777, 0.93244287, 0.78251972, 0.90408311, 0.56282135,\n",
              "       0.92528514, 0.41755298])>"
            ]
          },
          "metadata": {},
          "execution_count": 70
        }
      ]
    },
    {
      "cell_type": "code",
      "source": [
        "# Find the argmax of tensor_1\n",
        "print(tf.argmax(tensor_1).numpy())\n",
        "\n",
        "tensor_1[tf.argmax(tensor_1)]"
      ],
      "metadata": {
        "colab": {
          "base_uri": "https://localhost:8080/"
        },
        "id": "sdVEz_KA9EOi",
        "outputId": "085a6fd7-23ef-482a-9e6a-2b9af9bd11d9"
      },
      "execution_count": 74,
      "outputs": [
        {
          "output_type": "stream",
          "name": "stdout",
          "text": [
            "2\n"
          ]
        },
        {
          "output_type": "execute_result",
          "data": {
            "text/plain": [
              "<tf.Tensor: shape=(), dtype=float64, numpy=0.95012224440764>"
            ]
          },
          "metadata": {},
          "execution_count": 74
        }
      ]
    },
    {
      "cell_type": "code",
      "source": [
        "# Verify!\n",
        "tf.math.reduce_max(tensor_1)"
      ],
      "metadata": {
        "colab": {
          "base_uri": "https://localhost:8080/"
        },
        "id": "p-u0EkA-9ELs",
        "outputId": "4593bd59-8fb8-4e1d-8bb7-f8c0224cf036"
      },
      "execution_count": 75,
      "outputs": [
        {
          "output_type": "execute_result",
          "data": {
            "text/plain": [
              "<tf.Tensor: shape=(), dtype=float64, numpy=0.95012224440764>"
            ]
          },
          "metadata": {},
          "execution_count": 75
        }
      ]
    },
    {
      "cell_type": "code",
      "source": [
        "# Positional Minimum (tf.argmin)\n",
        "tf.argmin(tensor_1).numpy()"
      ],
      "metadata": {
        "colab": {
          "base_uri": "https://localhost:8080/"
        },
        "id": "zCNw-Js69EG1",
        "outputId": "c55bea07-0f0d-4369-c4b3-1004d6e78beb"
      },
      "execution_count": 76,
      "outputs": [
        {
          "output_type": "execute_result",
          "data": {
            "text/plain": [
              "0"
            ]
          },
          "metadata": {},
          "execution_count": 76
        }
      ]
    },
    {
      "cell_type": "markdown",
      "source": [
        "### Removing All Dimensions (Squeezing)\n",
        "\n",
        "> This removes dimensions of size `1` from the shape of a tensor. e.g a tensor with shape: (1, 1, 5) becomes (5)\n",
        "\n",
        "* tf.squeeze()"
      ],
      "metadata": {
        "id": "wxfq39Os9EEM"
      }
    },
    {
      "cell_type": "code",
      "source": [
        "tensor_2 = tf.constant(value=np.random.uniform(low=0, high=1, size=(1, 1, 1, 12)))\n",
        "\n",
        "tensor_2"
      ],
      "metadata": {
        "colab": {
          "base_uri": "https://localhost:8080/"
        },
        "id": "ilkh4a9J9EBj",
        "outputId": "5f470831-44d5-474f-f81b-8a3add84e53f"
      },
      "execution_count": 82,
      "outputs": [
        {
          "output_type": "execute_result",
          "data": {
            "text/plain": [
              "<tf.Tensor: shape=(1, 1, 1, 12), dtype=float64, numpy=\n",
              "array([[[[0.46396118, 0.13279476, 0.95698347, 0.30438764, 0.22823179,\n",
              "          0.7082047 , 0.64853433, 0.03323592, 0.74301901, 0.96791309,\n",
              "          0.71115041, 0.83466779]]]])>"
            ]
          },
          "metadata": {},
          "execution_count": 82
        }
      ]
    },
    {
      "cell_type": "code",
      "source": [
        "tf.size(tensor_2), tensor_2.shape"
      ],
      "metadata": {
        "colab": {
          "base_uri": "https://localhost:8080/"
        },
        "id": "OPlLw0sO9D-3",
        "outputId": "a024c4f3-a5f3-4958-8a6d-a3f52b3f30a6"
      },
      "execution_count": 83,
      "outputs": [
        {
          "output_type": "execute_result",
          "data": {
            "text/plain": [
              "(<tf.Tensor: shape=(), dtype=int32, numpy=12>, TensorShape([1, 1, 1, 12]))"
            ]
          },
          "metadata": {},
          "execution_count": 83
        }
      ]
    },
    {
      "cell_type": "code",
      "source": [
        "squeezed_tensor = tf.squeeze(tensor_2)\n",
        "squeezed_tensor.shape"
      ],
      "metadata": {
        "colab": {
          "base_uri": "https://localhost:8080/"
        },
        "id": "ch6duIk49D8P",
        "outputId": "8aedaa4a-122d-4015-86dd-e8c746b07b16"
      },
      "execution_count": 84,
      "outputs": [
        {
          "output_type": "execute_result",
          "data": {
            "text/plain": [
              "TensorShape([12])"
            ]
          },
          "metadata": {},
          "execution_count": 84
        }
      ]
    },
    {
      "cell_type": "markdown",
      "source": [
        "### One Hot Encoding"
      ],
      "metadata": {
        "id": "eHJrRAGiM5ni"
      }
    },
    {
      "cell_type": "code",
      "source": [
        "#         \"Nigeria\",  \"Germany\",  \"USA\",  \"Canada\"\n",
        "my_list = [  0,           1,        2,       3]\n",
        "\n",
        "\n",
        "# One-hot encode the list\n",
        "tf.one_hot(my_list, depth=4)"
      ],
      "metadata": {
        "id": "IXL88Dz-M5k7",
        "outputId": "b35ee852-4f10-4066-c364-a91470c8943c",
        "colab": {
          "base_uri": "https://localhost:8080/"
        }
      },
      "execution_count": 90,
      "outputs": [
        {
          "output_type": "execute_result",
          "data": {
            "text/plain": [
              "<tf.Tensor: shape=(4, 4), dtype=float32, numpy=\n",
              "array([[1., 0., 0., 0.],\n",
              "       [0., 1., 0., 0.],\n",
              "       [0., 0., 1., 0.],\n",
              "       [0., 0., 0., 1.]], dtype=float32)>"
            ]
          },
          "metadata": {},
          "execution_count": 90
        }
      ]
    },
    {
      "cell_type": "code",
      "source": [],
      "metadata": {
        "id": "6Oku6GN_M5hr"
      },
      "execution_count": null,
      "outputs": []
    },
    {
      "cell_type": "code",
      "source": [],
      "metadata": {
        "id": "vVKmpZuAM5eX"
      },
      "execution_count": null,
      "outputs": []
    },
    {
      "cell_type": "code",
      "source": [],
      "metadata": {
        "id": "A2kxmNGOM5YW"
      },
      "execution_count": null,
      "outputs": []
    },
    {
      "cell_type": "code",
      "source": [],
      "metadata": {
        "id": "AwTT-pBGM5VC"
      },
      "execution_count": null,
      "outputs": []
    },
    {
      "cell_type": "code",
      "source": [],
      "metadata": {
        "id": "hMhIXnW9M5SX"
      },
      "execution_count": null,
      "outputs": []
    },
    {
      "cell_type": "code",
      "source": [],
      "metadata": {
        "id": "Epqj3iycM5Pa"
      },
      "execution_count": null,
      "outputs": []
    },
    {
      "cell_type": "code",
      "source": [],
      "metadata": {
        "id": "fIgAaeq-9D0L"
      },
      "execution_count": 59,
      "outputs": []
    },
    {
      "cell_type": "code",
      "source": [],
      "metadata": {
        "id": "XVHc7VQQ9Dxi"
      },
      "execution_count": 59,
      "outputs": []
    },
    {
      "cell_type": "code",
      "execution_count": 59,
      "metadata": {
        "id": "O-cM006lVzcN"
      },
      "outputs": [],
      "source": []
    },
    {
      "cell_type": "code",
      "execution_count": 59,
      "metadata": {
        "id": "uLVN5EZuVzcN"
      },
      "outputs": [],
      "source": []
    }
  ],
  "metadata": {
    "colab": {
      "provenance": [],
      "include_colab_link": true
    },
    "kernelspec": {
      "display_name": "nlp_p310",
      "language": "python",
      "name": "python3"
    },
    "language_info": {
      "codemirror_mode": {
        "name": "ipython",
        "version": 3
      },
      "file_extension": ".py",
      "mimetype": "text/x-python",
      "name": "python",
      "nbconvert_exporter": "python",
      "pygments_lexer": "ipython3",
      "version": "3.10.9"
    },
    "orig_nbformat": 4,
    "vscode": {
      "interpreter": {
        "hash": "5c160606400bd63443fe4361c23f8347e54b6f9986e7c6d27e878f1970943f47"
      }
    }
  },
  "nbformat": 4,
  "nbformat_minor": 0
}