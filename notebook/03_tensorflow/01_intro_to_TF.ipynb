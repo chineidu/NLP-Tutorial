{
  "cells": [
    {
      "cell_type": "markdown",
      "metadata": {
        "id": "RQGCV_mQVzcF"
      },
      "source": [
        "# TensorFlow Tutorial"
      ]
    },
    {
      "cell_type": "code",
      "execution_count": 1,
      "metadata": {
        "id": "LL5xn4nrVzcJ"
      },
      "outputs": [],
      "source": [
        "# Standard imports\n",
        "import numpy as np\n",
        "import tensorflow as tf\n"
      ]
    },
    {
      "cell_type": "markdown",
      "source": [
        "* Intro To Tensors\n",
        "* Getting info from tensors\n",
        "* Manipulating tensors\n",
        "* Tensors and NumPy\n",
        "* Using @tf.function\n",
        "* Using GPUs/TPUs with TensorFlow\n"
      ],
      "metadata": {
        "id": "2vh1mGeWVzcL"
      }
    },
    {
      "cell_type": "code",
      "execution_count": 2,
      "metadata": {
        "colab": {
          "base_uri": "https://localhost:8080/",
          "height": 35
        },
        "id": "P4r6y5NKVzcM",
        "outputId": "210f3780-823a-43b7-a028-6b9700782380"
      },
      "outputs": [
        {
          "output_type": "execute_result",
          "data": {
            "text/plain": [
              "'2.11.0'"
            ],
            "application/vnd.google.colaboratory.intrinsic+json": {
              "type": "string"
            }
          },
          "metadata": {},
          "execution_count": 2
        }
      ],
      "source": [
        "tf.__version__"
      ]
    },
    {
      "cell_type": "code",
      "execution_count": 3,
      "metadata": {
        "colab": {
          "base_uri": "https://localhost:8080/"
        },
        "id": "dOvNk3p-VzcM",
        "outputId": "a4508e46-8f39-4ca8-ec72-c7ac601dcd85"
      },
      "outputs": [
        {
          "output_type": "stream",
          "name": "stdout",
          "text": [
            "Python 3.8.10\n"
          ]
        }
      ],
      "source": [
        "!python -V"
      ]
    },
    {
      "cell_type": "markdown",
      "source": [
        "### Create Tensors"
      ],
      "metadata": {
        "id": "RE3i7F5maOsV"
      }
    },
    {
      "cell_type": "code",
      "source": [
        "# tf.constant\n",
        "tensor_1 = tf.constant([1,2,3,4]) # Vector\n",
        "tensor_1"
      ],
      "metadata": {
        "colab": {
          "base_uri": "https://localhost:8080/"
        },
        "id": "fylDtVZPaOpQ",
        "outputId": "5ee3e6ce-f400-4694-fb7b-6dc6c7660993"
      },
      "execution_count": 4,
      "outputs": [
        {
          "output_type": "execute_result",
          "data": {
            "text/plain": [
              "<tf.Tensor: shape=(4,), dtype=int32, numpy=array([1, 2, 3, 4], dtype=int32)>"
            ]
          },
          "metadata": {},
          "execution_count": 4
        }
      ]
    },
    {
      "cell_type": "code",
      "source": [
        "tensor_1.shape, tensor_1.ndim"
      ],
      "metadata": {
        "colab": {
          "base_uri": "https://localhost:8080/"
        },
        "id": "agDcFn70aOmX",
        "outputId": "3d2134ee-407f-4171-eabb-f7d0a54f5acb"
      },
      "execution_count": 5,
      "outputs": [
        {
          "output_type": "execute_result",
          "data": {
            "text/plain": [
              "(TensorShape([4]), 1)"
            ]
          },
          "metadata": {},
          "execution_count": 5
        }
      ]
    },
    {
      "cell_type": "code",
      "source": [
        "tensor_2 = tf.constant([[1,2,3,4], [5,6,7,8]], dtype=tf.float16) # Matrix\n",
        "tensor_2, tensor_2.shape, tensor_2.ndim"
      ],
      "metadata": {
        "colab": {
          "base_uri": "https://localhost:8080/"
        },
        "id": "ZGHg6bSGaOjl",
        "outputId": "f2a4c9fc-5e0e-4d6c-9472-53274cd2d0f6"
      },
      "execution_count": 6,
      "outputs": [
        {
          "output_type": "execute_result",
          "data": {
            "text/plain": [
              "(<tf.Tensor: shape=(2, 4), dtype=float16, numpy=\n",
              " array([[1., 2., 3., 4.],\n",
              "        [5., 6., 7., 8.]], dtype=float16)>, TensorShape([2, 4]), 2)"
            ]
          },
          "metadata": {},
          "execution_count": 6
        }
      ]
    },
    {
      "cell_type": "code",
      "source": [
        "tensor_3 = tf.constant([[[1,2,3], [4,5,6], [7, 8, 9]]], dtype=tf.float16) # Tensor\n",
        "tensor_3"
      ],
      "metadata": {
        "colab": {
          "base_uri": "https://localhost:8080/"
        },
        "id": "RT7SzKwPaOgG",
        "outputId": "b83aa1bc-aaab-454a-831a-3f5dcbe553b4"
      },
      "execution_count": 7,
      "outputs": [
        {
          "output_type": "execute_result",
          "data": {
            "text/plain": [
              "<tf.Tensor: shape=(1, 3, 3), dtype=float16, numpy=\n",
              "array([[[1., 2., 3.],\n",
              "        [4., 5., 6.],\n",
              "        [7., 8., 9.]]], dtype=float16)>"
            ]
          },
          "metadata": {},
          "execution_count": 7
        }
      ]
    },
    {
      "cell_type": "code",
      "source": [
        "tensor_3.shape, tensor_3.ndim"
      ],
      "metadata": {
        "colab": {
          "base_uri": "https://localhost:8080/"
        },
        "id": "CNKdTOuDaOc9",
        "outputId": "a89f88a6-6d2e-40a6-8165-cf86df8edb90"
      },
      "execution_count": 8,
      "outputs": [
        {
          "output_type": "execute_result",
          "data": {
            "text/plain": [
              "(TensorShape([1, 3, 3]), 3)"
            ]
          },
          "metadata": {},
          "execution_count": 8
        }
      ]
    },
    {
      "cell_type": "code",
      "source": [
        "tensor_4 = tf.constant([[[1,2,3], [4,5,6], [7,8,9]], [[10,11,12], [13,14,15], [16,17, 18]]])\n",
        "tensor_4"
      ],
      "metadata": {
        "colab": {
          "base_uri": "https://localhost:8080/"
        },
        "id": "hyXnjpRiaOXL",
        "outputId": "57127b76-ddf5-4220-8b19-4f6ffc1fafff"
      },
      "execution_count": 9,
      "outputs": [
        {
          "output_type": "execute_result",
          "data": {
            "text/plain": [
              "<tf.Tensor: shape=(2, 3, 3), dtype=int32, numpy=\n",
              "array([[[ 1,  2,  3],\n",
              "        [ 4,  5,  6],\n",
              "        [ 7,  8,  9]],\n",
              "\n",
              "       [[10, 11, 12],\n",
              "        [13, 14, 15],\n",
              "        [16, 17, 18]]], dtype=int32)>"
            ]
          },
          "metadata": {},
          "execution_count": 9
        }
      ]
    },
    {
      "cell_type": "markdown",
      "source": [
        "### Creating Tensors Using tf.Variable"
      ],
      "metadata": {
        "id": "RNwj794eaOUT"
      }
    },
    {
      "cell_type": "code",
      "source": [
        "# tf.constant\n",
        "changeable_tensor_1 = tf.Variable([1,2,3,4]) # Vector\n",
        "changeable_tensor_1"
      ],
      "metadata": {
        "colab": {
          "base_uri": "https://localhost:8080/"
        },
        "id": "DySYwNDgvN-2",
        "outputId": "2d3bf458-11b1-473e-e63c-7276fd21f60b"
      },
      "execution_count": 10,
      "outputs": [
        {
          "output_type": "execute_result",
          "data": {
            "text/plain": [
              "<tf.Variable 'Variable:0' shape=(4,) dtype=int32, numpy=array([1, 2, 3, 4], dtype=int32)>"
            ]
          },
          "metadata": {},
          "execution_count": 10
        }
      ]
    },
    {
      "cell_type": "code",
      "source": [
        "# Change an element in the tensor (Only possible for tensors created using tf.Variable)\n",
        "changeable_tensor_1[0].assign(-2)"
      ],
      "metadata": {
        "colab": {
          "base_uri": "https://localhost:8080/"
        },
        "id": "6LfrApa9vN8P",
        "outputId": "b297b9eb-969e-4d8c-bc97-9f60a31040f9"
      },
      "execution_count": 11,
      "outputs": [
        {
          "output_type": "execute_result",
          "data": {
            "text/plain": [
              "<tf.Variable 'UnreadVariable' shape=(4,) dtype=int32, numpy=array([-2,  2,  3,  4], dtype=int32)>"
            ]
          },
          "metadata": {},
          "execution_count": 11
        }
      ]
    },
    {
      "cell_type": "code",
      "source": [
        " changeable_tensor_1"
      ],
      "metadata": {
        "colab": {
          "base_uri": "https://localhost:8080/"
        },
        "id": "KdV-5XShvRKw",
        "outputId": "83de6a17-dabd-4925-ce14-1c2c9bab76b8"
      },
      "execution_count": 12,
      "outputs": [
        {
          "output_type": "execute_result",
          "data": {
            "text/plain": [
              "<tf.Variable 'Variable:0' shape=(4,) dtype=int32, numpy=array([-2,  2,  3,  4], dtype=int32)>"
            ]
          },
          "metadata": {},
          "execution_count": 12
        }
      ]
    },
    {
      "cell_type": "markdown",
      "source": [
        "### Creating Random Tensors"
      ],
      "metadata": {
        "id": "5ynTBDkPy6yX"
      }
    },
    {
      "cell_type": "code",
      "source": [
        "RANDOM_STATE = 123\n",
        "rng = tf.random.Generator.from_seed(RANDOM_STATE)\n",
        "\n",
        "random_tensor_1 = rng.uniform(shape=(2, 2), dtype=tf.float16)\n",
        "random_tensor_1"
      ],
      "metadata": {
        "colab": {
          "base_uri": "https://localhost:8080/"
        },
        "id": "qmqkPTwNvRG3",
        "outputId": "a96a7d0a-d26c-4a68-cda5-2ba5e25dcf3d"
      },
      "execution_count": 13,
      "outputs": [
        {
          "output_type": "execute_result",
          "data": {
            "text/plain": [
              "<tf.Tensor: shape=(2, 2), dtype=float16, numpy=\n",
              "array([[0.8076, 0.793 ],\n",
              "       [0.4648, 0.2275]], dtype=float16)>"
            ]
          },
          "metadata": {},
          "execution_count": 13
        }
      ]
    },
    {
      "cell_type": "code",
      "source": [
        "random_tensor_2 = rng.normal(shape=(2,2))\n",
        "random_tensor_2"
      ],
      "metadata": {
        "colab": {
          "base_uri": "https://localhost:8080/"
        },
        "id": "ytnk7JFqvREh",
        "outputId": "b84e4886-b921-4414-98a9-9ecf0f89875a"
      },
      "execution_count": 14,
      "outputs": [
        {
          "output_type": "execute_result",
          "data": {
            "text/plain": [
              "<tf.Tensor: shape=(2, 2), dtype=float32, numpy=\n",
              "array([[ 0.46618396, -0.03461919],\n",
              "       [ 0.6538919 , -0.8194663 ]], dtype=float32)>"
            ]
          },
          "metadata": {},
          "execution_count": 14
        }
      ]
    },
    {
      "cell_type": "markdown",
      "source": [
        "### Shuffle Elements In A Tensor"
      ],
      "metadata": {
        "id": "PCkttEx_vRCH"
      }
    },
    {
      "cell_type": "code",
      "source": [
        "tensor_1 = tf.constant([[1, 2, 3, 4], \n",
        "                        [8, 9, 10, 11], \n",
        "                        [1, 3, 5, 7]])\n",
        "\n",
        "tf.random.shuffle(tensor_1)"
      ],
      "metadata": {
        "colab": {
          "base_uri": "https://localhost:8080/"
        },
        "id": "_mWVswOhvQ_u",
        "outputId": "659718eb-7034-4763-c144-17dc64e2b48e"
      },
      "execution_count": 15,
      "outputs": [
        {
          "output_type": "execute_result",
          "data": {
            "text/plain": [
              "<tf.Tensor: shape=(3, 4), dtype=int32, numpy=\n",
              "array([[ 1,  3,  5,  7],\n",
              "       [ 1,  2,  3,  4],\n",
              "       [ 8,  9, 10, 11]], dtype=int32)>"
            ]
          },
          "metadata": {},
          "execution_count": 15
        }
      ]
    },
    {
      "cell_type": "code",
      "source": [
        "tf.random.shuffle(tensor_1)"
      ],
      "metadata": {
        "colab": {
          "base_uri": "https://localhost:8080/"
        },
        "id": "zrnkizMdvN5Y",
        "outputId": "5945f6d3-34ef-4360-f814-7dd3fc3b807b"
      },
      "execution_count": 16,
      "outputs": [
        {
          "output_type": "execute_result",
          "data": {
            "text/plain": [
              "<tf.Tensor: shape=(3, 4), dtype=int32, numpy=\n",
              "array([[ 1,  2,  3,  4],\n",
              "       [ 1,  3,  5,  7],\n",
              "       [ 8,  9, 10, 11]], dtype=int32)>"
            ]
          },
          "metadata": {},
          "execution_count": 16
        }
      ]
    },
    {
      "cell_type": "code",
      "source": [
        "# To ensure reproducibility, set global and operational level seed\n",
        "tf.random.set_seed(RANDOM_STATE) # global level seed \n",
        "tf.random.shuffle(tensor_1, seed=RANDOM_STATE) # operational level seed"
      ],
      "metadata": {
        "colab": {
          "base_uri": "https://localhost:8080/"
        },
        "id": "csZhCivNvN22",
        "outputId": "2e7245a0-ae0a-45e3-c7d1-2d5095d7b605"
      },
      "execution_count": 17,
      "outputs": [
        {
          "output_type": "execute_result",
          "data": {
            "text/plain": [
              "<tf.Tensor: shape=(3, 4), dtype=int32, numpy=\n",
              "array([[ 1,  3,  5,  7],\n",
              "       [ 8,  9, 10, 11],\n",
              "       [ 1,  2,  3,  4]], dtype=int32)>"
            ]
          },
          "metadata": {},
          "execution_count": 17
        }
      ]
    },
    {
      "cell_type": "code",
      "source": [
        "tf.random.shuffle(tensor_1, seed=RANDOM_STATE)"
      ],
      "metadata": {
        "colab": {
          "base_uri": "https://localhost:8080/"
        },
        "id": "RlwM6LpwvN0p",
        "outputId": "52181b3c-3879-4f7c-cce3-482108af3ced"
      },
      "execution_count": 18,
      "outputs": [
        {
          "output_type": "execute_result",
          "data": {
            "text/plain": [
              "<tf.Tensor: shape=(3, 4), dtype=int32, numpy=\n",
              "array([[ 8,  9, 10, 11],\n",
              "       [ 1,  3,  5,  7],\n",
              "       [ 1,  2,  3,  4]], dtype=int32)>"
            ]
          },
          "metadata": {},
          "execution_count": 18
        }
      ]
    },
    {
      "cell_type": "markdown",
      "source": [
        "### Other Ways of Creating Tensors\n",
        "\n",
        "* tf.ones()\n",
        "* tf.zeros()"
      ],
      "metadata": {
        "id": "pRDrdzsDvNxx"
      }
    },
    {
      "cell_type": "code",
      "source": [
        "# tf.zeros\n",
        "tf.zeros(shape=(2, 3))"
      ],
      "metadata": {
        "colab": {
          "base_uri": "https://localhost:8080/"
        },
        "id": "YjCe89whvNvL",
        "outputId": "1186c120-36ac-457a-d5ec-d45c981f7f15"
      },
      "execution_count": 19,
      "outputs": [
        {
          "output_type": "execute_result",
          "data": {
            "text/plain": [
              "<tf.Tensor: shape=(2, 3), dtype=float32, numpy=\n",
              "array([[0., 0., 0.],\n",
              "       [0., 0., 0.]], dtype=float32)>"
            ]
          },
          "metadata": {},
          "execution_count": 19
        }
      ]
    },
    {
      "cell_type": "code",
      "source": [
        "# tf.ones()\n",
        "tf.ones(shape=(2, 3))"
      ],
      "metadata": {
        "colab": {
          "base_uri": "https://localhost:8080/"
        },
        "id": "eiFN1OjVvNsN",
        "outputId": "0a4b1bb9-50db-4013-a8f5-5f61ff2497cc"
      },
      "execution_count": 20,
      "outputs": [
        {
          "output_type": "execute_result",
          "data": {
            "text/plain": [
              "<tf.Tensor: shape=(2, 3), dtype=float32, numpy=\n",
              "array([[1., 1., 1.],\n",
              "       [1., 1., 1.]], dtype=float32)>"
            ]
          },
          "metadata": {},
          "execution_count": 20
        }
      ]
    },
    {
      "cell_type": "markdown",
      "source": [
        "### Create Tensors From NumPy Arrays"
      ],
      "metadata": {
        "id": "9qnrHqrRVzcM"
      }
    },
    {
      "cell_type": "code",
      "source": [
        "arr_A = np.arange(1, 17).reshape(2, 2, 4)\n",
        "tf_arr = tf.constant(arr_A, dtype=tf.float16)\n",
        "tf_arr"
      ],
      "metadata": {
        "colab": {
          "base_uri": "https://localhost:8080/"
        },
        "id": "9-CTbVZD52g_",
        "outputId": "009f8b1f-4575-4391-e92f-e8f65871d46e"
      },
      "execution_count": 21,
      "outputs": [
        {
          "output_type": "execute_result",
          "data": {
            "text/plain": [
              "<tf.Tensor: shape=(2, 2, 4), dtype=float16, numpy=\n",
              "array([[[ 1.,  2.,  3.,  4.],\n",
              "        [ 5.,  6.,  7.,  8.]],\n",
              "\n",
              "       [[ 9., 10., 11., 12.],\n",
              "        [13., 14., 15., 16.]]], dtype=float16)>"
            ]
          },
          "metadata": {},
          "execution_count": 21
        }
      ]
    },
    {
      "cell_type": "code",
      "source": [
        "# Convert a tensor to NumPy array\n",
        "tf_arr.numpy()"
      ],
      "metadata": {
        "colab": {
          "base_uri": "https://localhost:8080/"
        },
        "id": "7IuXGDFS52eS",
        "outputId": "3c41669d-0e26-4cb1-fa40-08381c2bd746"
      },
      "execution_count": 22,
      "outputs": [
        {
          "output_type": "execute_result",
          "data": {
            "text/plain": [
              "array([[[ 1.,  2.,  3.,  4.],\n",
              "        [ 5.,  6.,  7.,  8.]],\n",
              "\n",
              "       [[ 9., 10., 11., 12.],\n",
              "        [13., 14., 15., 16.]]], dtype=float16)"
            ]
          },
          "metadata": {},
          "execution_count": 22
        }
      ]
    },
    {
      "cell_type": "markdown",
      "source": [
        "### Extracting Info From A Tensor\n",
        "\n",
        "* array.dtype\n",
        "* array.shape\n",
        "* array.ndim\n",
        "* tf.size(array)\n",
        "* indexing a tensor"
      ],
      "metadata": {
        "id": "qff-o8jG52br"
      }
    },
    {
      "cell_type": "code",
      "source": [
        "tf_arr.shape, tf_arr.ndim, tf.size(tf_arr)"
      ],
      "metadata": {
        "colab": {
          "base_uri": "https://localhost:8080/"
        },
        "id": "ky7wLbg-52ZG",
        "outputId": "1441b13b-5717-469d-c46c-03582a91c3f0"
      },
      "execution_count": 23,
      "outputs": [
        {
          "output_type": "execute_result",
          "data": {
            "text/plain": [
              "(TensorShape([2, 2, 4]), 3, <tf.Tensor: shape=(), dtype=int32, numpy=16>)"
            ]
          },
          "metadata": {},
          "execution_count": 23
        }
      ]
    },
    {
      "cell_type": "code",
      "source": [
        "print(tf_arr)\n",
        "print(\" ====================================================================== \")\n",
        "print(f\"\\ndtype: {tf_arr.dtype},\\nshape: {tf_arr.shape}, \\nnumber of dimensions: {tf_arr.ndim}, \\nsize of tensor: {tf.size(tf_arr)}\")"
      ],
      "metadata": {
        "colab": {
          "base_uri": "https://localhost:8080/"
        },
        "id": "B-_XUNp052Wh",
        "outputId": "669ee33a-c15b-4604-821a-3ef902993a34"
      },
      "execution_count": 24,
      "outputs": [
        {
          "output_type": "stream",
          "name": "stdout",
          "text": [
            "tf.Tensor(\n",
            "[[[ 1.  2.  3.  4.]\n",
            "  [ 5.  6.  7.  8.]]\n",
            "\n",
            " [[ 9. 10. 11. 12.]\n",
            "  [13. 14. 15. 16.]]], shape=(2, 2, 4), dtype=float16)\n",
            " ====================================================================== \n",
            "\n",
            "dtype: <dtype: 'float16'>,\n",
            "shape: (2, 2, 4), \n",
            "number of dimensions: 3, \n",
            "size of tensor: 16\n"
          ]
        }
      ]
    },
    {
      "cell_type": "code",
      "source": [
        "# Rank 4 Tensor\n",
        "rank_4_tensor = tf.ones((2, 3, 4, 3), dtype=tf.float16)\n",
        "rank_4_tensor\n",
        "\n",
        "# Within the Oth axis, we have 2 (smaller arrays)\n",
        "# Within the 1st axis (i.e the 2 from above), we have 3-D (3, 4, 3)\n",
        "# Within the 2nd axis (i.e the 3-D from above), we have 4 rows (4, 3)\n",
        "# Within the 3rd axis (i.e the 4 rows from above), we have 3 columns"
      ],
      "metadata": {
        "colab": {
          "base_uri": "https://localhost:8080/"
        },
        "id": "FPOMtSBz52SE",
        "outputId": "e7a49e7d-0171-4518-b3ef-d27abd6ee140"
      },
      "execution_count": 25,
      "outputs": [
        {
          "output_type": "execute_result",
          "data": {
            "text/plain": [
              "<tf.Tensor: shape=(2, 3, 4, 3), dtype=float16, numpy=\n",
              "array([[[[1., 1., 1.],\n",
              "         [1., 1., 1.],\n",
              "         [1., 1., 1.],\n",
              "         [1., 1., 1.]],\n",
              "\n",
              "        [[1., 1., 1.],\n",
              "         [1., 1., 1.],\n",
              "         [1., 1., 1.],\n",
              "         [1., 1., 1.]],\n",
              "\n",
              "        [[1., 1., 1.],\n",
              "         [1., 1., 1.],\n",
              "         [1., 1., 1.],\n",
              "         [1., 1., 1.]]],\n",
              "\n",
              "\n",
              "       [[[1., 1., 1.],\n",
              "         [1., 1., 1.],\n",
              "         [1., 1., 1.],\n",
              "         [1., 1., 1.]],\n",
              "\n",
              "        [[1., 1., 1.],\n",
              "         [1., 1., 1.],\n",
              "         [1., 1., 1.],\n",
              "         [1., 1., 1.]],\n",
              "\n",
              "        [[1., 1., 1.],\n",
              "         [1., 1., 1.],\n",
              "         [1., 1., 1.],\n",
              "         [1., 1., 1.]]]], dtype=float16)>"
            ]
          },
          "metadata": {},
          "execution_count": 25
        }
      ]
    },
    {
      "cell_type": "code",
      "source": [
        "# Oth \n",
        "rank_4_tensor[0]"
      ],
      "metadata": {
        "colab": {
          "base_uri": "https://localhost:8080/"
        },
        "id": "Hgm7iu6i52Pa",
        "outputId": "bf32fe28-ed9c-4b0a-f4c1-e0e455c49f88"
      },
      "execution_count": 26,
      "outputs": [
        {
          "output_type": "execute_result",
          "data": {
            "text/plain": [
              "<tf.Tensor: shape=(3, 4, 3), dtype=float16, numpy=\n",
              "array([[[1., 1., 1.],\n",
              "        [1., 1., 1.],\n",
              "        [1., 1., 1.],\n",
              "        [1., 1., 1.]],\n",
              "\n",
              "       [[1., 1., 1.],\n",
              "        [1., 1., 1.],\n",
              "        [1., 1., 1.],\n",
              "        [1., 1., 1.]],\n",
              "\n",
              "       [[1., 1., 1.],\n",
              "        [1., 1., 1.],\n",
              "        [1., 1., 1.],\n",
              "        [1., 1., 1.]]], dtype=float16)>"
            ]
          },
          "metadata": {},
          "execution_count": 26
        }
      ]
    },
    {
      "cell_type": "code",
      "source": [
        "arr = np.random.randint(2, 12, size=(2, 3, 4, 3))\n",
        "rank_4_tensor = tf.constant(arr, dtype=tf.float16)\n",
        "rank_4_tensor"
      ],
      "metadata": {
        "id": "4xkAxhpOAXzC",
        "outputId": "8cd75a44-c06d-4d8c-ebd4-ff31538d967e",
        "colab": {
          "base_uri": "https://localhost:8080/"
        }
      },
      "execution_count": 27,
      "outputs": [
        {
          "output_type": "execute_result",
          "data": {
            "text/plain": [
              "<tf.Tensor: shape=(2, 3, 4, 3), dtype=float16, numpy=\n",
              "array([[[[ 3.,  3.,  7.],\n",
              "         [ 2.,  7., 10.],\n",
              "         [ 4.,  7.,  6.],\n",
              "         [ 4.,  7.,  8.]],\n",
              "\n",
              "        [[ 3.,  8.,  3.],\n",
              "         [ 4.,  7.,  7.],\n",
              "         [ 3.,  7.,  4.],\n",
              "         [ 2.,  2.,  2.]],\n",
              "\n",
              "        [[ 4.,  3.,  9.],\n",
              "         [ 6.,  6.,  9.],\n",
              "         [ 9.,  6.,  7.],\n",
              "         [ 8.,  8.,  8.]]],\n",
              "\n",
              "\n",
              "       [[[ 9., 10.,  5.],\n",
              "         [ 9.,  6.,  7.],\n",
              "         [ 8.,  2.,  7.],\n",
              "         [ 7.,  7.,  2.]],\n",
              "\n",
              "        [[ 6.,  6.,  4.],\n",
              "         [ 2.,  6.,  2.],\n",
              "         [ 3., 11.,  8.],\n",
              "         [ 7.,  8.,  2.]],\n",
              "\n",
              "        [[ 5.,  9.,  6.],\n",
              "         [ 5.,  3., 11.],\n",
              "         [ 6., 11.,  5.],\n",
              "         [10.,  2., 11.]]]], dtype=float16)>"
            ]
          },
          "metadata": {},
          "execution_count": 27
        }
      ]
    },
    {
      "cell_type": "code",
      "source": [
        "# 0th index of the 0th axis\n",
        "rank_4_tensor[0]"
      ],
      "metadata": {
        "colab": {
          "base_uri": "https://localhost:8080/"
        },
        "id": "kHpPTmcT52NF",
        "outputId": "64b81ef8-2236-4f60-da65-1bcfc6039e16"
      },
      "execution_count": 28,
      "outputs": [
        {
          "output_type": "execute_result",
          "data": {
            "text/plain": [
              "<tf.Tensor: shape=(3, 4, 3), dtype=float16, numpy=\n",
              "array([[[ 3.,  3.,  7.],\n",
              "        [ 2.,  7., 10.],\n",
              "        [ 4.,  7.,  6.],\n",
              "        [ 4.,  7.,  8.]],\n",
              "\n",
              "       [[ 3.,  8.,  3.],\n",
              "        [ 4.,  7.,  7.],\n",
              "        [ 3.,  7.,  4.],\n",
              "        [ 2.,  2.,  2.]],\n",
              "\n",
              "       [[ 4.,  3.,  9.],\n",
              "        [ 6.,  6.,  9.],\n",
              "        [ 9.,  6.,  7.],\n",
              "        [ 8.,  8.,  8.]]], dtype=float16)>"
            ]
          },
          "metadata": {},
          "execution_count": 28
        }
      ]
    },
    {
      "cell_type": "code",
      "source": [
        "# 1st index of the 0th axis\n",
        "rank_4_tensor[1]"
      ],
      "metadata": {
        "colab": {
          "base_uri": "https://localhost:8080/"
        },
        "id": "QSTvcE_-52Kf",
        "outputId": "6ca1d6d9-e470-46fc-8ff4-b8f5f6c2d73e"
      },
      "execution_count": 29,
      "outputs": [
        {
          "output_type": "execute_result",
          "data": {
            "text/plain": [
              "<tf.Tensor: shape=(3, 4, 3), dtype=float16, numpy=\n",
              "array([[[ 9., 10.,  5.],\n",
              "        [ 9.,  6.,  7.],\n",
              "        [ 8.,  2.,  7.],\n",
              "        [ 7.,  7.,  2.]],\n",
              "\n",
              "       [[ 6.,  6.,  4.],\n",
              "        [ 2.,  6.,  2.],\n",
              "        [ 3., 11.,  8.],\n",
              "        [ 7.,  8.,  2.]],\n",
              "\n",
              "       [[ 5.,  9.,  6.],\n",
              "        [ 5.,  3., 11.],\n",
              "        [ 6., 11.,  5.],\n",
              "        [10.,  2., 11.]]], dtype=float16)>"
            ]
          },
          "metadata": {},
          "execution_count": 29
        }
      ]
    },
    {
      "cell_type": "code",
      "source": [
        "# 0th index of the 0th axis and 1st index of the 1st axis\n",
        "rank_4_tensor[0, 1]"
      ],
      "metadata": {
        "colab": {
          "base_uri": "https://localhost:8080/"
        },
        "id": "dHAIWRaN52Gj",
        "outputId": "cbc0b484-dee1-488f-b3e0-6a342690a5b8"
      },
      "execution_count": 30,
      "outputs": [
        {
          "output_type": "execute_result",
          "data": {
            "text/plain": [
              "<tf.Tensor: shape=(4, 3), dtype=float16, numpy=\n",
              "array([[3., 8., 3.],\n",
              "       [4., 7., 7.],\n",
              "       [3., 7., 4.],\n",
              "       [2., 2., 2.]], dtype=float16)>"
            ]
          },
          "metadata": {},
          "execution_count": 30
        }
      ]
    },
    {
      "cell_type": "code",
      "source": [
        "# 0th index of the 0th axis\n",
        "rank_4_tensor[0, 1, 0]"
      ],
      "metadata": {
        "colab": {
          "base_uri": "https://localhost:8080/"
        },
        "id": "p0gaN0Sc52D8",
        "outputId": "1cef3a8e-ac8d-4072-8f6e-f39739a418eb"
      },
      "execution_count": 31,
      "outputs": [
        {
          "output_type": "execute_result",
          "data": {
            "text/plain": [
              "<tf.Tensor: shape=(3,), dtype=float16, numpy=array([3., 8., 3.], dtype=float16)>"
            ]
          },
          "metadata": {},
          "execution_count": 31
        }
      ]
    },
    {
      "cell_type": "code",
      "source": [
        "# Extract all the 2nd index from the tensor\n",
        "rank_4_tensor[:, :, 2]"
      ],
      "metadata": {
        "colab": {
          "base_uri": "https://localhost:8080/"
        },
        "id": "I-8O3mxX52BX",
        "outputId": "79880c01-4edf-4f16-eb29-e4b3084ce1e5"
      },
      "execution_count": 32,
      "outputs": [
        {
          "output_type": "execute_result",
          "data": {
            "text/plain": [
              "<tf.Tensor: shape=(2, 3, 3), dtype=float16, numpy=\n",
              "array([[[ 4.,  7.,  6.],\n",
              "        [ 3.,  7.,  4.],\n",
              "        [ 9.,  6.,  7.]],\n",
              "\n",
              "       [[ 8.,  2.,  7.],\n",
              "        [ 3., 11.,  8.],\n",
              "        [ 6., 11.,  5.]]], dtype=float16)>"
            ]
          },
          "metadata": {},
          "execution_count": 32
        }
      ]
    },
    {
      "cell_type": "code",
      "source": [
        "arr"
      ],
      "metadata": {
        "colab": {
          "base_uri": "https://localhost:8080/"
        },
        "id": "1enJGa3Q5186",
        "outputId": "eed619a7-0b7f-4315-ad85-1239e36aa343"
      },
      "execution_count": 33,
      "outputs": [
        {
          "output_type": "execute_result",
          "data": {
            "text/plain": [
              "array([[[[ 3,  3,  7],\n",
              "         [ 2,  7, 10],\n",
              "         [ 4,  7,  6],\n",
              "         [ 4,  7,  8]],\n",
              "\n",
              "        [[ 3,  8,  3],\n",
              "         [ 4,  7,  7],\n",
              "         [ 3,  7,  4],\n",
              "         [ 2,  2,  2]],\n",
              "\n",
              "        [[ 4,  3,  9],\n",
              "         [ 6,  6,  9],\n",
              "         [ 9,  6,  7],\n",
              "         [ 8,  8,  8]]],\n",
              "\n",
              "\n",
              "       [[[ 9, 10,  5],\n",
              "         [ 9,  6,  7],\n",
              "         [ 8,  2,  7],\n",
              "         [ 7,  7,  2]],\n",
              "\n",
              "        [[ 6,  6,  4],\n",
              "         [ 2,  6,  2],\n",
              "         [ 3, 11,  8],\n",
              "         [ 7,  8,  2]],\n",
              "\n",
              "        [[ 5,  9,  6],\n",
              "         [ 5,  3, 11],\n",
              "         [ 6, 11,  5],\n",
              "         [10,  2, 11]]]])"
            ]
          },
          "metadata": {},
          "execution_count": 33
        }
      ]
    },
    {
      "cell_type": "code",
      "source": [
        "arr_1 = np.arange(4, 22).reshape(2, 3, 3)\n",
        "arr_1"
      ],
      "metadata": {
        "colab": {
          "base_uri": "https://localhost:8080/"
        },
        "id": "XTHnXo9w516U",
        "outputId": "34e86ac2-ad43-4c90-927a-73fce55f0703"
      },
      "execution_count": 34,
      "outputs": [
        {
          "output_type": "execute_result",
          "data": {
            "text/plain": [
              "array([[[ 4,  5,  6],\n",
              "        [ 7,  8,  9],\n",
              "        [10, 11, 12]],\n",
              "\n",
              "       [[13, 14, 15],\n",
              "        [16, 17, 18],\n",
              "        [19, 20, 21]]])"
            ]
          },
          "metadata": {},
          "execution_count": 34
        }
      ]
    },
    {
      "cell_type": "code",
      "source": [
        "a = arr_1[0]\n",
        "a[[0,1,2], [0,1,2]]"
      ],
      "metadata": {
        "colab": {
          "base_uri": "https://localhost:8080/"
        },
        "id": "uMmwR49d513M",
        "outputId": "f368b2c1-6fa6-4bc1-dd90-e25a378040db"
      },
      "execution_count": 35,
      "outputs": [
        {
          "output_type": "execute_result",
          "data": {
            "text/plain": [
              "array([ 4,  8, 12])"
            ]
          },
          "metadata": {},
          "execution_count": 35
        }
      ]
    },
    {
      "cell_type": "code",
      "source": [
        "rank_4_tensor"
      ],
      "metadata": {
        "colab": {
          "base_uri": "https://localhost:8080/"
        },
        "id": "eb1i2X81510H",
        "outputId": "5930f18e-dfaf-4687-f1ce-cc459f29425a"
      },
      "execution_count": 36,
      "outputs": [
        {
          "output_type": "execute_result",
          "data": {
            "text/plain": [
              "<tf.Tensor: shape=(2, 3, 4, 3), dtype=float16, numpy=\n",
              "array([[[[ 3.,  3.,  7.],\n",
              "         [ 2.,  7., 10.],\n",
              "         [ 4.,  7.,  6.],\n",
              "         [ 4.,  7.,  8.]],\n",
              "\n",
              "        [[ 3.,  8.,  3.],\n",
              "         [ 4.,  7.,  7.],\n",
              "         [ 3.,  7.,  4.],\n",
              "         [ 2.,  2.,  2.]],\n",
              "\n",
              "        [[ 4.,  3.,  9.],\n",
              "         [ 6.,  6.,  9.],\n",
              "         [ 9.,  6.,  7.],\n",
              "         [ 8.,  8.,  8.]]],\n",
              "\n",
              "\n",
              "       [[[ 9., 10.,  5.],\n",
              "         [ 9.,  6.,  7.],\n",
              "         [ 8.,  2.,  7.],\n",
              "         [ 7.,  7.,  2.]],\n",
              "\n",
              "        [[ 6.,  6.,  4.],\n",
              "         [ 2.,  6.,  2.],\n",
              "         [ 3., 11.,  8.],\n",
              "         [ 7.,  8.,  2.]],\n",
              "\n",
              "        [[ 5.,  9.,  6.],\n",
              "         [ 5.,  3., 11.],\n",
              "         [ 6., 11.,  5.],\n",
              "         [10.,  2., 11.]]]], dtype=float16)>"
            ]
          },
          "metadata": {},
          "execution_count": 36
        }
      ]
    },
    {
      "cell_type": "code",
      "source": [
        "# Get the first 2 elements in each dimension\n",
        "rank_4_tensor[:2, :2, :2, :2]"
      ],
      "metadata": {
        "colab": {
          "base_uri": "https://localhost:8080/"
        },
        "id": "N6Uz3MWY51ua",
        "outputId": "99067e8e-cd9f-4e8c-b080-6f24725117f9"
      },
      "execution_count": 37,
      "outputs": [
        {
          "output_type": "execute_result",
          "data": {
            "text/plain": [
              "<tf.Tensor: shape=(2, 2, 2, 2), dtype=float16, numpy=\n",
              "array([[[[ 3.,  3.],\n",
              "         [ 2.,  7.]],\n",
              "\n",
              "        [[ 3.,  8.],\n",
              "         [ 4.,  7.]]],\n",
              "\n",
              "\n",
              "       [[[ 9., 10.],\n",
              "         [ 9.,  6.]],\n",
              "\n",
              "        [[ 6.,  6.],\n",
              "         [ 2.,  6.]]]], dtype=float16)>"
            ]
          },
          "metadata": {},
          "execution_count": 37
        }
      ]
    },
    {
      "cell_type": "markdown",
      "source": [
        "### Add Extra Dimension\n",
        "\n",
        "```python\n",
        "tensor[.., tf.newaxis]\n",
        "tf.expand_dims()\n",
        "```"
      ],
      "metadata": {
        "id": "4145zrwYs_8V"
      }
    },
    {
      "cell_type": "code",
      "source": [],
      "metadata": {
        "id": "Qwc94jg8547s"
      },
      "execution_count": null,
      "outputs": []
    },
    {
      "cell_type": "code",
      "source": [
        "tensor_1 = tf.constant([[2, 4], [8, 10]])\n",
        "tensor_1"
      ],
      "metadata": {
        "colab": {
          "base_uri": "https://localhost:8080/"
        },
        "id": "Q64WMrrM51om",
        "outputId": "ddd3519c-63e0-452b-9dcf-4e5ceabf51ef"
      },
      "execution_count": 38,
      "outputs": [
        {
          "output_type": "execute_result",
          "data": {
            "text/plain": [
              "<tf.Tensor: shape=(2, 2), dtype=int32, numpy=\n",
              "array([[ 2,  4],\n",
              "       [ 8, 10]], dtype=int32)>"
            ]
          },
          "metadata": {},
          "execution_count": 38
        }
      ]
    },
    {
      "cell_type": "code",
      "source": [
        "tensor_1[..., tf.newaxis] # OR tensor_1[:, :, tf.newaxis]"
      ],
      "metadata": {
        "colab": {
          "base_uri": "https://localhost:8080/"
        },
        "id": "9ofrNphJ51ll",
        "outputId": "0ac2cfda-f023-46f6-a631-747c37924f69"
      },
      "execution_count": 39,
      "outputs": [
        {
          "output_type": "execute_result",
          "data": {
            "text/plain": [
              "<tf.Tensor: shape=(2, 2, 1), dtype=int32, numpy=\n",
              "array([[[ 2],\n",
              "        [ 4]],\n",
              "\n",
              "       [[ 8],\n",
              "        [10]]], dtype=int32)>"
            ]
          },
          "metadata": {},
          "execution_count": 39
        }
      ]
    },
    {
      "cell_type": "code",
      "source": [
        "tensor_1[tf.newaxis, ...]"
      ],
      "metadata": {
        "colab": {
          "base_uri": "https://localhost:8080/"
        },
        "id": "ygEBCO7m51i3",
        "outputId": "feb457f7-067a-4bf0-cbfd-d893f2cf8093"
      },
      "execution_count": 40,
      "outputs": [
        {
          "output_type": "execute_result",
          "data": {
            "text/plain": [
              "<tf.Tensor: shape=(1, 2, 2), dtype=int32, numpy=\n",
              "array([[[ 2,  4],\n",
              "        [ 8, 10]]], dtype=int32)>"
            ]
          },
          "metadata": {},
          "execution_count": 40
        }
      ]
    },
    {
      "cell_type": "code",
      "source": [
        "tf.expand_dims(tensor_1, axis=0)"
      ],
      "metadata": {
        "colab": {
          "base_uri": "https://localhost:8080/"
        },
        "id": "x4gyLmOh51gQ",
        "outputId": "224b533d-e90f-46ef-eb59-27b2c8688e20"
      },
      "execution_count": 41,
      "outputs": [
        {
          "output_type": "execute_result",
          "data": {
            "text/plain": [
              "<tf.Tensor: shape=(1, 2, 2), dtype=int32, numpy=\n",
              "array([[[ 2,  4],\n",
              "        [ 8, 10]]], dtype=int32)>"
            ]
          },
          "metadata": {},
          "execution_count": 41
        }
      ]
    },
    {
      "cell_type": "markdown",
      "source": [
        "\n",
        "\n",
        "```python\n",
        "tensor[.., tf.newaxis]\n",
        "\n",
        "tf.expand_dims()\n",
        "```"
      ],
      "metadata": {
        "id": "hXeWEow5slac"
      }
    },
    {
      "cell_type": "code",
      "source": [
        "tf.expand_dims(tensor_1, axis=1)"
      ],
      "metadata": {
        "colab": {
          "base_uri": "https://localhost:8080/"
        },
        "id": "aN44iFOc51dH",
        "outputId": "5ccfd595-75fa-4558-850c-2a5a3e9fab20"
      },
      "execution_count": 42,
      "outputs": [
        {
          "output_type": "execute_result",
          "data": {
            "text/plain": [
              "<tf.Tensor: shape=(2, 1, 2), dtype=int32, numpy=\n",
              "array([[[ 2,  4]],\n",
              "\n",
              "       [[ 8, 10]]], dtype=int32)>"
            ]
          },
          "metadata": {},
          "execution_count": 42
        }
      ]
    },
    {
      "cell_type": "code",
      "source": [
        "tf.expand_dims(tensor_1, axis=2)"
      ],
      "metadata": {
        "colab": {
          "base_uri": "https://localhost:8080/"
        },
        "id": "qfJ-ZyuX51aQ",
        "outputId": "7d85b8ce-a5da-43c2-a4cc-0b5a98bb7959"
      },
      "execution_count": 43,
      "outputs": [
        {
          "output_type": "execute_result",
          "data": {
            "text/plain": [
              "<tf.Tensor: shape=(2, 2, 1), dtype=int32, numpy=\n",
              "array([[[ 2],\n",
              "        [ 4]],\n",
              "\n",
              "       [[ 8],\n",
              "        [10]]], dtype=int32)>"
            ]
          },
          "metadata": {},
          "execution_count": 43
        }
      ]
    },
    {
      "cell_type": "code",
      "source": [],
      "metadata": {
        "id": "ojtHQU_C51XX"
      },
      "execution_count": 43,
      "outputs": []
    },
    {
      "cell_type": "code",
      "source": [],
      "metadata": {
        "id": "ng4cGCDj51TB"
      },
      "execution_count": 43,
      "outputs": []
    },
    {
      "cell_type": "code",
      "source": [],
      "metadata": {
        "id": "WNpd5NU251QF"
      },
      "execution_count": 43,
      "outputs": []
    },
    {
      "cell_type": "code",
      "source": [],
      "metadata": {
        "id": "K_qUFAdp51NM"
      },
      "execution_count": 43,
      "outputs": []
    },
    {
      "cell_type": "code",
      "execution_count": 43,
      "metadata": {
        "id": "M9FFUzfoVzcM"
      },
      "outputs": [],
      "source": []
    },
    {
      "cell_type": "code",
      "execution_count": 43,
      "metadata": {
        "id": "O-cM006lVzcN"
      },
      "outputs": [],
      "source": []
    },
    {
      "cell_type": "code",
      "execution_count": 43,
      "metadata": {
        "id": "uLVN5EZuVzcN"
      },
      "outputs": [],
      "source": []
    }
  ],
  "metadata": {
    "kernelspec": {
      "display_name": "nlp_p310",
      "language": "python",
      "name": "python3"
    },
    "language_info": {
      "codemirror_mode": {
        "name": "ipython",
        "version": 3
      },
      "file_extension": ".py",
      "mimetype": "text/x-python",
      "name": "python",
      "nbconvert_exporter": "python",
      "pygments_lexer": "ipython3",
      "version": "3.10.9"
    },
    "orig_nbformat": 4,
    "vscode": {
      "interpreter": {
        "hash": "5c160606400bd63443fe4361c23f8347e54b6f9986e7c6d27e878f1970943f47"
      }
    },
    "colab": {
      "provenance": []
    }
  },
  "nbformat": 4,
  "nbformat_minor": 0
}