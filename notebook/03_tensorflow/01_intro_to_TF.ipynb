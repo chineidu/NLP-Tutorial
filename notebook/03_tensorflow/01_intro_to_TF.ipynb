{
  "cells": [
    {
      "cell_type": "markdown",
      "metadata": {
        "id": "view-in-github",
        "colab_type": "text"
      },
      "source": [
        "<a href=\"https://colab.research.google.com/github/chineidu/NLP-Tutorial/blob/main/notebook/03_tensorflow/01_intro_to_TF.ipynb\" target=\"_parent\"><img src=\"https://colab.research.google.com/assets/colab-badge.svg\" alt=\"Open In Colab\"/></a>"
      ]
    },
    {
      "cell_type": "markdown",
      "metadata": {
        "id": "RQGCV_mQVzcF"
      },
      "source": [
        "# TensorFlow Tutorial"
      ]
    },
    {
      "cell_type": "code",
      "execution_count": 1,
      "metadata": {
        "id": "LL5xn4nrVzcJ"
      },
      "outputs": [],
      "source": [
        "# Standard imports\n",
        "import numpy as np\n",
        "import tensorflow as tf\n"
      ]
    },
    {
      "cell_type": "markdown",
      "metadata": {
        "id": "2vh1mGeWVzcL"
      },
      "source": [
        "* Intro To Tensors\n",
        "* Getting info from tensors\n",
        "* Manipulating tensors\n",
        "* Tensors and NumPy\n",
        "* Using @tf.function\n",
        "* Using GPUs/TPUs with TensorFlow\n"
      ]
    },
    {
      "cell_type": "code",
      "execution_count": 2,
      "metadata": {
        "colab": {
          "base_uri": "https://localhost:8080/",
          "height": 35
        },
        "id": "P4r6y5NKVzcM",
        "outputId": "c5def0b4-2b9a-4d67-8234-29fdc59390ab"
      },
      "outputs": [
        {
          "output_type": "execute_result",
          "data": {
            "text/plain": [
              "'2.11.0'"
            ],
            "application/vnd.google.colaboratory.intrinsic+json": {
              "type": "string"
            }
          },
          "metadata": {},
          "execution_count": 2
        }
      ],
      "source": [
        "tf.__version__"
      ]
    },
    {
      "cell_type": "code",
      "execution_count": 3,
      "metadata": {
        "colab": {
          "base_uri": "https://localhost:8080/"
        },
        "id": "dOvNk3p-VzcM",
        "outputId": "b6a5315a-20d1-4e2e-83c7-1e0932fe9726"
      },
      "outputs": [
        {
          "output_type": "stream",
          "name": "stdout",
          "text": [
            "Python 3.8.10\n"
          ]
        }
      ],
      "source": [
        "!python -V"
      ]
    },
    {
      "cell_type": "markdown",
      "metadata": {
        "id": "RE3i7F5maOsV"
      },
      "source": [
        "### Create Tensors"
      ]
    },
    {
      "cell_type": "code",
      "execution_count": 4,
      "metadata": {
        "colab": {
          "base_uri": "https://localhost:8080/"
        },
        "id": "fylDtVZPaOpQ",
        "outputId": "780491e6-1b33-4b2d-8140-03f20e73c845"
      },
      "outputs": [
        {
          "output_type": "execute_result",
          "data": {
            "text/plain": [
              "<tf.Tensor: shape=(4,), dtype=int32, numpy=array([1, 2, 3, 4], dtype=int32)>"
            ]
          },
          "metadata": {},
          "execution_count": 4
        }
      ],
      "source": [
        "# tf.constant\n",
        "tensor_1 = tf.constant([1, 2, 3, 4]) # Vector\n",
        "tensor_1"
      ]
    },
    {
      "cell_type": "code",
      "execution_count": 5,
      "metadata": {
        "colab": {
          "base_uri": "https://localhost:8080/"
        },
        "id": "agDcFn70aOmX",
        "outputId": "50eb16dc-ce1c-4de2-9cb0-e6585a98aa31"
      },
      "outputs": [
        {
          "output_type": "execute_result",
          "data": {
            "text/plain": [
              "(TensorShape([4]), 1)"
            ]
          },
          "metadata": {},
          "execution_count": 5
        }
      ],
      "source": [
        "tensor_1.shape, tensor_1.ndim"
      ]
    },
    {
      "cell_type": "code",
      "execution_count": 6,
      "metadata": {
        "colab": {
          "base_uri": "https://localhost:8080/"
        },
        "id": "ZGHg6bSGaOjl",
        "outputId": "f717f02d-91bc-4312-ca48-8dd948a4e586"
      },
      "outputs": [
        {
          "output_type": "execute_result",
          "data": {
            "text/plain": [
              "(<tf.Tensor: shape=(2, 4), dtype=float16, numpy=\n",
              " array([[1., 2., 3., 4.],\n",
              "        [5., 6., 7., 8.]], dtype=float16)>, TensorShape([2, 4]), 2)"
            ]
          },
          "metadata": {},
          "execution_count": 6
        }
      ],
      "source": [
        "tensor_2 = tf.constant([[1, 2, 3, 4], [5, 6, 7, 8]], dtype=tf.float16) # Matrix\n",
        "tensor_2, tensor_2.shape, tensor_2.ndim"
      ]
    },
    {
      "cell_type": "code",
      "execution_count": 7,
      "metadata": {
        "colab": {
          "base_uri": "https://localhost:8080/"
        },
        "id": "RT7SzKwPaOgG",
        "outputId": "118bb71c-7da2-4eb2-9cdf-3751f7541443"
      },
      "outputs": [
        {
          "output_type": "execute_result",
          "data": {
            "text/plain": [
              "<tf.Tensor: shape=(1, 3, 3), dtype=float16, numpy=\n",
              "array([[[1., 2., 3.],\n",
              "        [4., 5., 6.],\n",
              "        [7., 8., 9.]]], dtype=float16)>"
            ]
          },
          "metadata": {},
          "execution_count": 7
        }
      ],
      "source": [
        "tensor_3 = tf.constant([[[1, 2, 3], [4, 5, 6], [7, 8, 9]]], dtype=tf.float16) # Tensor\n",
        "tensor_3"
      ]
    },
    {
      "cell_type": "code",
      "execution_count": 8,
      "metadata": {
        "colab": {
          "base_uri": "https://localhost:8080/"
        },
        "id": "CNKdTOuDaOc9",
        "outputId": "ed6fda29-a241-4e52-a6b7-b5ecc4a0b322"
      },
      "outputs": [
        {
          "output_type": "execute_result",
          "data": {
            "text/plain": [
              "(TensorShape([1, 3, 3]), 3)"
            ]
          },
          "metadata": {},
          "execution_count": 8
        }
      ],
      "source": [
        "tensor_3.shape, tensor_3.ndim"
      ]
    },
    {
      "cell_type": "code",
      "execution_count": 9,
      "metadata": {
        "colab": {
          "base_uri": "https://localhost:8080/"
        },
        "id": "hyXnjpRiaOXL",
        "outputId": "87c97f6e-1807-4a55-b06c-bac60a63416b"
      },
      "outputs": [
        {
          "output_type": "execute_result",
          "data": {
            "text/plain": [
              "<tf.Tensor: shape=(2, 3, 3), dtype=int32, numpy=\n",
              "array([[[ 1,  2,  3],\n",
              "        [ 4,  5,  6],\n",
              "        [ 7,  8,  9]],\n",
              "\n",
              "       [[10, 11, 12],\n",
              "        [13, 14, 15],\n",
              "        [16, 17, 18]]], dtype=int32)>"
            ]
          },
          "metadata": {},
          "execution_count": 9
        }
      ],
      "source": [
        "tensor_4 = tf.constant([[[1, 2, 3], [4, 5, 6], [7, 8, 9]], \n",
        "                        [[10, 11, 12], [13, 14, 15], [16, 17, 18]]])\n",
        "tensor_4"
      ]
    },
    {
      "cell_type": "markdown",
      "metadata": {
        "id": "RNwj794eaOUT"
      },
      "source": [
        "### Creating Tensors Using tf.Variable"
      ]
    },
    {
      "cell_type": "code",
      "execution_count": 10,
      "metadata": {
        "colab": {
          "base_uri": "https://localhost:8080/"
        },
        "id": "DySYwNDgvN-2",
        "outputId": "0cc85daf-e67b-40ee-ba34-5ecd52e06415"
      },
      "outputs": [
        {
          "output_type": "execute_result",
          "data": {
            "text/plain": [
              "<tf.Variable 'Variable:0' shape=(4,) dtype=int32, numpy=array([1, 2, 3, 4], dtype=int32)>"
            ]
          },
          "metadata": {},
          "execution_count": 10
        }
      ],
      "source": [
        "# tf.constant\n",
        "changeable_tensor_1 = tf.Variable([1, 2, 3, 4]) # Vector\n",
        "changeable_tensor_1"
      ]
    },
    {
      "cell_type": "code",
      "execution_count": 11,
      "metadata": {
        "colab": {
          "base_uri": "https://localhost:8080/"
        },
        "id": "6LfrApa9vN8P",
        "outputId": "5e6601a5-78b3-4252-9e23-2cfd78edd899"
      },
      "outputs": [
        {
          "output_type": "execute_result",
          "data": {
            "text/plain": [
              "<tf.Variable 'UnreadVariable' shape=(4,) dtype=int32, numpy=array([-2,  2,  3,  4], dtype=int32)>"
            ]
          },
          "metadata": {},
          "execution_count": 11
        }
      ],
      "source": [
        "# Change an element in the tensor (Only possible for tensors created using tf.Variable)\n",
        "changeable_tensor_1[0].assign(-2)"
      ]
    },
    {
      "cell_type": "code",
      "execution_count": 12,
      "metadata": {
        "colab": {
          "base_uri": "https://localhost:8080/"
        },
        "id": "KdV-5XShvRKw",
        "outputId": "56d1acba-66a2-478c-a543-e7a71a6e4587"
      },
      "outputs": [
        {
          "output_type": "execute_result",
          "data": {
            "text/plain": [
              "<tf.Variable 'Variable:0' shape=(4,) dtype=int32, numpy=array([-2,  2,  3,  4], dtype=int32)>"
            ]
          },
          "metadata": {},
          "execution_count": 12
        }
      ],
      "source": [
        "changeable_tensor_1"
      ]
    },
    {
      "cell_type": "markdown",
      "metadata": {
        "id": "5ynTBDkPy6yX"
      },
      "source": [
        "### Creating Random Tensors"
      ]
    },
    {
      "cell_type": "code",
      "execution_count": 13,
      "metadata": {
        "colab": {
          "base_uri": "https://localhost:8080/"
        },
        "id": "qmqkPTwNvRG3",
        "outputId": "1229c85b-9a61-49d8-db9a-c59b5caf65be"
      },
      "outputs": [
        {
          "output_type": "execute_result",
          "data": {
            "text/plain": [
              "<tf.Tensor: shape=(2, 2), dtype=float16, numpy=\n",
              "array([[0.8076, 0.793 ],\n",
              "       [0.4648, 0.2275]], dtype=float16)>"
            ]
          },
          "metadata": {},
          "execution_count": 13
        }
      ],
      "source": [
        "RANDOM_STATE = 123\n",
        "rng = tf.random.Generator.from_seed(RANDOM_STATE)\n",
        "\n",
        "random_tensor_1 = rng.uniform(shape=(2, 2), dtype=tf.float16)\n",
        "random_tensor_1"
      ]
    },
    {
      "cell_type": "code",
      "execution_count": 14,
      "metadata": {
        "colab": {
          "base_uri": "https://localhost:8080/"
        },
        "id": "ytnk7JFqvREh",
        "outputId": "443a8ed4-4506-4100-cc82-c8154b3c054c"
      },
      "outputs": [
        {
          "output_type": "execute_result",
          "data": {
            "text/plain": [
              "<tf.Tensor: shape=(2, 2), dtype=float32, numpy=\n",
              "array([[ 0.46618396, -0.03461919],\n",
              "       [ 0.6538919 , -0.8194663 ]], dtype=float32)>"
            ]
          },
          "metadata": {},
          "execution_count": 14
        }
      ],
      "source": [
        "random_tensor_2 = rng.normal(shape=(2,2))\n",
        "random_tensor_2"
      ]
    },
    {
      "cell_type": "markdown",
      "metadata": {
        "id": "PCkttEx_vRCH"
      },
      "source": [
        "### Shuffle Elements In A Tensor"
      ]
    },
    {
      "cell_type": "code",
      "execution_count": 15,
      "metadata": {
        "colab": {
          "base_uri": "https://localhost:8080/"
        },
        "id": "_mWVswOhvQ_u",
        "outputId": "5f86e1a0-85fc-40d4-f295-63c2533e0d2f"
      },
      "outputs": [
        {
          "output_type": "execute_result",
          "data": {
            "text/plain": [
              "<tf.Tensor: shape=(3, 4), dtype=int32, numpy=\n",
              "array([[ 1,  2,  3,  4],\n",
              "       [ 8,  9, 10, 11],\n",
              "       [ 1,  3,  5,  7]], dtype=int32)>"
            ]
          },
          "metadata": {},
          "execution_count": 15
        }
      ],
      "source": [
        "tensor_1 = tf.constant([[1, 2, 3, 4], \n",
        "                        [8, 9, 10, 11], \n",
        "                        [1, 3, 5, 7]])\n",
        "\n",
        "tf.random.shuffle(tensor_1)"
      ]
    },
    {
      "cell_type": "code",
      "execution_count": 16,
      "metadata": {
        "colab": {
          "base_uri": "https://localhost:8080/"
        },
        "id": "zrnkizMdvN5Y",
        "outputId": "f1c0c6d4-dc3e-4a7c-ee09-4e575b48cba5"
      },
      "outputs": [
        {
          "output_type": "execute_result",
          "data": {
            "text/plain": [
              "<tf.Tensor: shape=(3, 4), dtype=int32, numpy=\n",
              "array([[ 1,  3,  5,  7],\n",
              "       [ 8,  9, 10, 11],\n",
              "       [ 1,  2,  3,  4]], dtype=int32)>"
            ]
          },
          "metadata": {},
          "execution_count": 16
        }
      ],
      "source": [
        "tf.random.shuffle(tensor_1)"
      ]
    },
    {
      "cell_type": "code",
      "execution_count": 17,
      "metadata": {
        "colab": {
          "base_uri": "https://localhost:8080/"
        },
        "id": "csZhCivNvN22",
        "outputId": "d559a973-8ac4-45cd-a61b-fd8ce277dba5"
      },
      "outputs": [
        {
          "output_type": "execute_result",
          "data": {
            "text/plain": [
              "<tf.Tensor: shape=(3, 4), dtype=int32, numpy=\n",
              "array([[ 1,  3,  5,  7],\n",
              "       [ 8,  9, 10, 11],\n",
              "       [ 1,  2,  3,  4]], dtype=int32)>"
            ]
          },
          "metadata": {},
          "execution_count": 17
        }
      ],
      "source": [
        "# To ensure reproducibility, set global and operational level seed\n",
        "tf.random.set_seed(RANDOM_STATE) # global level seed \n",
        "tf.random.shuffle(tensor_1, seed=RANDOM_STATE) # operational level seed"
      ]
    },
    {
      "cell_type": "code",
      "execution_count": 18,
      "metadata": {
        "colab": {
          "base_uri": "https://localhost:8080/"
        },
        "id": "RlwM6LpwvN0p",
        "outputId": "1d10b681-3273-4893-b0bd-1b9aa6853869"
      },
      "outputs": [
        {
          "output_type": "execute_result",
          "data": {
            "text/plain": [
              "<tf.Tensor: shape=(3, 4), dtype=int32, numpy=\n",
              "array([[ 8,  9, 10, 11],\n",
              "       [ 1,  3,  5,  7],\n",
              "       [ 1,  2,  3,  4]], dtype=int32)>"
            ]
          },
          "metadata": {},
          "execution_count": 18
        }
      ],
      "source": [
        "tf.random.shuffle(tensor_1, seed=RANDOM_STATE)"
      ]
    },
    {
      "cell_type": "markdown",
      "metadata": {
        "id": "pRDrdzsDvNxx"
      },
      "source": [
        "### Other Ways of Creating Tensors\n",
        "\n",
        "* tf.ones()\n",
        "* tf.zeros()"
      ]
    },
    {
      "cell_type": "code",
      "execution_count": 19,
      "metadata": {
        "colab": {
          "base_uri": "https://localhost:8080/"
        },
        "id": "YjCe89whvNvL",
        "outputId": "9079ee7c-2002-40ac-8032-60313cbe6faf"
      },
      "outputs": [
        {
          "output_type": "execute_result",
          "data": {
            "text/plain": [
              "<tf.Tensor: shape=(2, 3), dtype=float32, numpy=\n",
              "array([[0., 0., 0.],\n",
              "       [0., 0., 0.]], dtype=float32)>"
            ]
          },
          "metadata": {},
          "execution_count": 19
        }
      ],
      "source": [
        "# tf.zeros\n",
        "tf.zeros(shape=(2, 3))"
      ]
    },
    {
      "cell_type": "code",
      "execution_count": 20,
      "metadata": {
        "colab": {
          "base_uri": "https://localhost:8080/"
        },
        "id": "eiFN1OjVvNsN",
        "outputId": "71fbaa1f-33c3-47fa-aad1-197b4017e764"
      },
      "outputs": [
        {
          "output_type": "execute_result",
          "data": {
            "text/plain": [
              "<tf.Tensor: shape=(2, 3), dtype=float32, numpy=\n",
              "array([[1., 1., 1.],\n",
              "       [1., 1., 1.]], dtype=float32)>"
            ]
          },
          "metadata": {},
          "execution_count": 20
        }
      ],
      "source": [
        "# tf.ones()\n",
        "tf.ones(shape=(2, 3))"
      ]
    },
    {
      "cell_type": "markdown",
      "metadata": {
        "id": "9qnrHqrRVzcM"
      },
      "source": [
        "### Create Tensors From NumPy Arrays"
      ]
    },
    {
      "cell_type": "code",
      "execution_count": 21,
      "metadata": {
        "colab": {
          "base_uri": "https://localhost:8080/"
        },
        "id": "9-CTbVZD52g_",
        "outputId": "6d7df9f8-5de1-460c-8ced-8266d1a9350b"
      },
      "outputs": [
        {
          "output_type": "execute_result",
          "data": {
            "text/plain": [
              "<tf.Tensor: shape=(2, 2, 4), dtype=float16, numpy=\n",
              "array([[[ 1.,  2.,  3.,  4.],\n",
              "        [ 5.,  6.,  7.,  8.]],\n",
              "\n",
              "       [[ 9., 10., 11., 12.],\n",
              "        [13., 14., 15., 16.]]], dtype=float16)>"
            ]
          },
          "metadata": {},
          "execution_count": 21
        }
      ],
      "source": [
        "arr_A = np.arange(1, 17).reshape(2, 2, 4)\n",
        "tf_arr = tf.constant(arr_A, dtype=tf.float16)\n",
        "tf_arr"
      ]
    },
    {
      "cell_type": "code",
      "execution_count": 22,
      "metadata": {
        "colab": {
          "base_uri": "https://localhost:8080/"
        },
        "id": "7IuXGDFS52eS",
        "outputId": "e714eb2d-b5f3-4acd-fc2e-39ca738496d4"
      },
      "outputs": [
        {
          "output_type": "execute_result",
          "data": {
            "text/plain": [
              "array([[[ 1.,  2.,  3.,  4.],\n",
              "        [ 5.,  6.,  7.,  8.]],\n",
              "\n",
              "       [[ 9., 10., 11., 12.],\n",
              "        [13., 14., 15., 16.]]], dtype=float16)"
            ]
          },
          "metadata": {},
          "execution_count": 22
        }
      ],
      "source": [
        "# Convert a tensor to NumPy array\n",
        "tf_arr.numpy()"
      ]
    },
    {
      "cell_type": "markdown",
      "metadata": {
        "id": "qff-o8jG52br"
      },
      "source": [
        "### Extracting Info From A Tensor\n",
        "\n",
        "* array.dtype\n",
        "* array.shape\n",
        "* array.ndim\n",
        "* tf.size(array)\n",
        "* indexing a tensor"
      ]
    },
    {
      "cell_type": "code",
      "execution_count": 23,
      "metadata": {
        "colab": {
          "base_uri": "https://localhost:8080/"
        },
        "id": "ky7wLbg-52ZG",
        "outputId": "4570ca13-14b4-4266-d345-49158e43f0f9"
      },
      "outputs": [
        {
          "output_type": "execute_result",
          "data": {
            "text/plain": [
              "(TensorShape([2, 2, 4]), 3, <tf.Tensor: shape=(), dtype=int32, numpy=16>)"
            ]
          },
          "metadata": {},
          "execution_count": 23
        }
      ],
      "source": [
        "tf_arr.shape, tf_arr.ndim, tf.size(tf_arr)"
      ]
    },
    {
      "cell_type": "code",
      "execution_count": 24,
      "metadata": {
        "colab": {
          "base_uri": "https://localhost:8080/"
        },
        "id": "B-_XUNp052Wh",
        "outputId": "bbf8d7ec-e116-4fea-8e25-f84ca5fed19c"
      },
      "outputs": [
        {
          "output_type": "stream",
          "name": "stdout",
          "text": [
            "tf.Tensor(\n",
            "[[[ 1.  2.  3.  4.]\n",
            "  [ 5.  6.  7.  8.]]\n",
            "\n",
            " [[ 9. 10. 11. 12.]\n",
            "  [13. 14. 15. 16.]]], shape=(2, 2, 4), dtype=float16)\n",
            " ====================================================================== \n",
            "\n",
            "dtype: <dtype: 'float16'>,\n",
            "shape: (2, 2, 4), \n",
            "number of dimensions: 3, \n",
            "size of tensor: 16\n"
          ]
        }
      ],
      "source": [
        "print(tf_arr)\n",
        "print(\" ====================================================================== \")\n",
        "print(f\"\\ndtype: {tf_arr.dtype},\\nshape: {tf_arr.shape}, \\nnumber of dimensions: {tf_arr.ndim}, \\nsize of tensor: {tf.size(tf_arr)}\")"
      ]
    },
    {
      "cell_type": "code",
      "execution_count": 25,
      "metadata": {
        "colab": {
          "base_uri": "https://localhost:8080/"
        },
        "id": "FPOMtSBz52SE",
        "outputId": "0da0f942-eede-454d-ea24-1edc54590c14"
      },
      "outputs": [
        {
          "output_type": "execute_result",
          "data": {
            "text/plain": [
              "<tf.Tensor: shape=(2, 3, 4, 3), dtype=float16, numpy=\n",
              "array([[[[1., 1., 1.],\n",
              "         [1., 1., 1.],\n",
              "         [1., 1., 1.],\n",
              "         [1., 1., 1.]],\n",
              "\n",
              "        [[1., 1., 1.],\n",
              "         [1., 1., 1.],\n",
              "         [1., 1., 1.],\n",
              "         [1., 1., 1.]],\n",
              "\n",
              "        [[1., 1., 1.],\n",
              "         [1., 1., 1.],\n",
              "         [1., 1., 1.],\n",
              "         [1., 1., 1.]]],\n",
              "\n",
              "\n",
              "       [[[1., 1., 1.],\n",
              "         [1., 1., 1.],\n",
              "         [1., 1., 1.],\n",
              "         [1., 1., 1.]],\n",
              "\n",
              "        [[1., 1., 1.],\n",
              "         [1., 1., 1.],\n",
              "         [1., 1., 1.],\n",
              "         [1., 1., 1.]],\n",
              "\n",
              "        [[1., 1., 1.],\n",
              "         [1., 1., 1.],\n",
              "         [1., 1., 1.],\n",
              "         [1., 1., 1.]]]], dtype=float16)>"
            ]
          },
          "metadata": {},
          "execution_count": 25
        }
      ],
      "source": [
        "# Rank 4 Tensor\n",
        "rank_4_tensor = tf.ones((2, 3, 4, 3), dtype=tf.float16)\n",
        "rank_4_tensor\n",
        "\n",
        "# Within the Oth axis, we have 2 (smaller arrays)\n",
        "# Within the 1st axis (i.e the 2 from above), we have 3-D (3, 4, 3)\n",
        "# Within the 2nd axis (i.e the 3-D from above), we have 4 rows (4, 3)\n",
        "# Within the 3rd axis (i.e the 4 rows from above), we have 3 columns"
      ]
    },
    {
      "cell_type": "code",
      "execution_count": 26,
      "metadata": {
        "colab": {
          "base_uri": "https://localhost:8080/"
        },
        "id": "Hgm7iu6i52Pa",
        "outputId": "f902baba-d502-4d6c-9c1b-b3633aa2a33f"
      },
      "outputs": [
        {
          "output_type": "execute_result",
          "data": {
            "text/plain": [
              "<tf.Tensor: shape=(3, 4, 3), dtype=float16, numpy=\n",
              "array([[[1., 1., 1.],\n",
              "        [1., 1., 1.],\n",
              "        [1., 1., 1.],\n",
              "        [1., 1., 1.]],\n",
              "\n",
              "       [[1., 1., 1.],\n",
              "        [1., 1., 1.],\n",
              "        [1., 1., 1.],\n",
              "        [1., 1., 1.]],\n",
              "\n",
              "       [[1., 1., 1.],\n",
              "        [1., 1., 1.],\n",
              "        [1., 1., 1.],\n",
              "        [1., 1., 1.]]], dtype=float16)>"
            ]
          },
          "metadata": {},
          "execution_count": 26
        }
      ],
      "source": [
        "# Oth \n",
        "rank_4_tensor[0]"
      ]
    },
    {
      "cell_type": "code",
      "execution_count": 27,
      "metadata": {
        "colab": {
          "base_uri": "https://localhost:8080/"
        },
        "id": "4xkAxhpOAXzC",
        "outputId": "99babebb-3f6a-4700-f7c7-ec2739c86c38"
      },
      "outputs": [
        {
          "output_type": "execute_result",
          "data": {
            "text/plain": [
              "<tf.Tensor: shape=(2, 3, 4, 3), dtype=float16, numpy=\n",
              "array([[[[ 3.,  4.,  8.],\n",
              "         [ 5.,  3.,  2.],\n",
              "         [11.,  4.,  3.],\n",
              "         [ 7.,  2.,  2.]],\n",
              "\n",
              "        [[ 9.,  9., 11.],\n",
              "         [ 8., 11.,  4.],\n",
              "         [ 4.,  8., 11.],\n",
              "         [ 2.,  8.,  4.]],\n",
              "\n",
              "        [[ 5., 10.,  7.],\n",
              "         [ 8.,  7.,  7.],\n",
              "         [ 9.,  9., 11.],\n",
              "         [ 3.,  9.,  4.]]],\n",
              "\n",
              "\n",
              "       [[[11.,  6.,  5.],\n",
              "         [ 4.,  7.,  8.],\n",
              "         [ 3.,  4.,  4.],\n",
              "         [ 5.,  4., 11.]],\n",
              "\n",
              "        [[ 3.,  6.,  6.],\n",
              "         [11., 10.,  7.],\n",
              "         [ 3., 10.,  5.],\n",
              "         [ 3.,  6.,  4.]],\n",
              "\n",
              "        [[ 2.,  4.,  6.],\n",
              "         [ 7.,  8.,  8.],\n",
              "         [ 6., 11.,  7.],\n",
              "         [ 2.,  4.,  4.]]]], dtype=float16)>"
            ]
          },
          "metadata": {},
          "execution_count": 27
        }
      ],
      "source": [
        "arr = np.random.randint(2, 12, size=(2, 3, 4, 3))\n",
        "rank_4_tensor = tf.constant(arr, dtype=tf.float16)\n",
        "rank_4_tensor"
      ]
    },
    {
      "cell_type": "code",
      "execution_count": 28,
      "metadata": {
        "colab": {
          "base_uri": "https://localhost:8080/"
        },
        "id": "kHpPTmcT52NF",
        "outputId": "078e3086-1ad0-4b10-9830-6427126918a0"
      },
      "outputs": [
        {
          "output_type": "execute_result",
          "data": {
            "text/plain": [
              "<tf.Tensor: shape=(3, 4, 3), dtype=float16, numpy=\n",
              "array([[[ 3.,  4.,  8.],\n",
              "        [ 5.,  3.,  2.],\n",
              "        [11.,  4.,  3.],\n",
              "        [ 7.,  2.,  2.]],\n",
              "\n",
              "       [[ 9.,  9., 11.],\n",
              "        [ 8., 11.,  4.],\n",
              "        [ 4.,  8., 11.],\n",
              "        [ 2.,  8.,  4.]],\n",
              "\n",
              "       [[ 5., 10.,  7.],\n",
              "        [ 8.,  7.,  7.],\n",
              "        [ 9.,  9., 11.],\n",
              "        [ 3.,  9.,  4.]]], dtype=float16)>"
            ]
          },
          "metadata": {},
          "execution_count": 28
        }
      ],
      "source": [
        "# 0th index of the 0th axis\n",
        "rank_4_tensor[0]"
      ]
    },
    {
      "cell_type": "code",
      "execution_count": 29,
      "metadata": {
        "colab": {
          "base_uri": "https://localhost:8080/"
        },
        "id": "QSTvcE_-52Kf",
        "outputId": "acbd7ac5-f823-41d3-db68-033d7fbcf41c"
      },
      "outputs": [
        {
          "output_type": "execute_result",
          "data": {
            "text/plain": [
              "<tf.Tensor: shape=(3, 4, 3), dtype=float16, numpy=\n",
              "array([[[11.,  6.,  5.],\n",
              "        [ 4.,  7.,  8.],\n",
              "        [ 3.,  4.,  4.],\n",
              "        [ 5.,  4., 11.]],\n",
              "\n",
              "       [[ 3.,  6.,  6.],\n",
              "        [11., 10.,  7.],\n",
              "        [ 3., 10.,  5.],\n",
              "        [ 3.,  6.,  4.]],\n",
              "\n",
              "       [[ 2.,  4.,  6.],\n",
              "        [ 7.,  8.,  8.],\n",
              "        [ 6., 11.,  7.],\n",
              "        [ 2.,  4.,  4.]]], dtype=float16)>"
            ]
          },
          "metadata": {},
          "execution_count": 29
        }
      ],
      "source": [
        "# 1st index of the 0th axis\n",
        "rank_4_tensor[1]"
      ]
    },
    {
      "cell_type": "code",
      "execution_count": 30,
      "metadata": {
        "colab": {
          "base_uri": "https://localhost:8080/"
        },
        "id": "dHAIWRaN52Gj",
        "outputId": "59d8dfdb-884a-49c4-8ba6-82fca46d974c"
      },
      "outputs": [
        {
          "output_type": "execute_result",
          "data": {
            "text/plain": [
              "<tf.Tensor: shape=(4, 3), dtype=float16, numpy=\n",
              "array([[ 9.,  9., 11.],\n",
              "       [ 8., 11.,  4.],\n",
              "       [ 4.,  8., 11.],\n",
              "       [ 2.,  8.,  4.]], dtype=float16)>"
            ]
          },
          "metadata": {},
          "execution_count": 30
        }
      ],
      "source": [
        "# 0th index of the 0th axis and 1st index of the 1st axis\n",
        "rank_4_tensor[0, 1]"
      ]
    },
    {
      "cell_type": "code",
      "execution_count": 31,
      "metadata": {
        "colab": {
          "base_uri": "https://localhost:8080/"
        },
        "id": "p0gaN0Sc52D8",
        "outputId": "3a19db54-7bbe-47fe-bd64-7a345666c0ca"
      },
      "outputs": [
        {
          "output_type": "execute_result",
          "data": {
            "text/plain": [
              "<tf.Tensor: shape=(3,), dtype=float16, numpy=array([ 9.,  9., 11.], dtype=float16)>"
            ]
          },
          "metadata": {},
          "execution_count": 31
        }
      ],
      "source": [
        "# 0th index of the 0th axis\n",
        "rank_4_tensor[0, 1, 0]"
      ]
    },
    {
      "cell_type": "code",
      "execution_count": 32,
      "metadata": {
        "colab": {
          "base_uri": "https://localhost:8080/"
        },
        "id": "I-8O3mxX52BX",
        "outputId": "eee0554b-1bb2-412b-c094-a108b6b9744e"
      },
      "outputs": [
        {
          "output_type": "execute_result",
          "data": {
            "text/plain": [
              "<tf.Tensor: shape=(2, 3, 3), dtype=float16, numpy=\n",
              "array([[[11.,  4.,  3.],\n",
              "        [ 4.,  8., 11.],\n",
              "        [ 9.,  9., 11.]],\n",
              "\n",
              "       [[ 3.,  4.,  4.],\n",
              "        [ 3., 10.,  5.],\n",
              "        [ 6., 11.,  7.]]], dtype=float16)>"
            ]
          },
          "metadata": {},
          "execution_count": 32
        }
      ],
      "source": [
        "# Extract all the 2nd index from the tensor\n",
        "rank_4_tensor[:, :, 2]"
      ]
    },
    {
      "cell_type": "code",
      "execution_count": 33,
      "metadata": {
        "colab": {
          "base_uri": "https://localhost:8080/"
        },
        "id": "1enJGa3Q5186",
        "outputId": "f01acf45-8a27-46ec-8ddf-7e9dd469aca3"
      },
      "outputs": [
        {
          "output_type": "execute_result",
          "data": {
            "text/plain": [
              "array([[[[ 3,  4,  8],\n",
              "         [ 5,  3,  2],\n",
              "         [11,  4,  3],\n",
              "         [ 7,  2,  2]],\n",
              "\n",
              "        [[ 9,  9, 11],\n",
              "         [ 8, 11,  4],\n",
              "         [ 4,  8, 11],\n",
              "         [ 2,  8,  4]],\n",
              "\n",
              "        [[ 5, 10,  7],\n",
              "         [ 8,  7,  7],\n",
              "         [ 9,  9, 11],\n",
              "         [ 3,  9,  4]]],\n",
              "\n",
              "\n",
              "       [[[11,  6,  5],\n",
              "         [ 4,  7,  8],\n",
              "         [ 3,  4,  4],\n",
              "         [ 5,  4, 11]],\n",
              "\n",
              "        [[ 3,  6,  6],\n",
              "         [11, 10,  7],\n",
              "         [ 3, 10,  5],\n",
              "         [ 3,  6,  4]],\n",
              "\n",
              "        [[ 2,  4,  6],\n",
              "         [ 7,  8,  8],\n",
              "         [ 6, 11,  7],\n",
              "         [ 2,  4,  4]]]])"
            ]
          },
          "metadata": {},
          "execution_count": 33
        }
      ],
      "source": [
        "arr"
      ]
    },
    {
      "cell_type": "code",
      "execution_count": 34,
      "metadata": {
        "colab": {
          "base_uri": "https://localhost:8080/"
        },
        "id": "XTHnXo9w516U",
        "outputId": "763fd7f3-e247-4002-d741-f5054b4b27de"
      },
      "outputs": [
        {
          "output_type": "execute_result",
          "data": {
            "text/plain": [
              "array([[[ 4,  5,  6],\n",
              "        [ 7,  8,  9],\n",
              "        [10, 11, 12]],\n",
              "\n",
              "       [[13, 14, 15],\n",
              "        [16, 17, 18],\n",
              "        [19, 20, 21]]])"
            ]
          },
          "metadata": {},
          "execution_count": 34
        }
      ],
      "source": [
        "arr_1 = np.arange(4, 22).reshape(2, 3, 3)\n",
        "arr_1"
      ]
    },
    {
      "cell_type": "code",
      "execution_count": 35,
      "metadata": {
        "colab": {
          "base_uri": "https://localhost:8080/"
        },
        "id": "uMmwR49d513M",
        "outputId": "9c869725-887f-45b6-98ab-cb6c39ce399e"
      },
      "outputs": [
        {
          "output_type": "execute_result",
          "data": {
            "text/plain": [
              "array([ 4,  8, 12])"
            ]
          },
          "metadata": {},
          "execution_count": 35
        }
      ],
      "source": [
        "a = arr_1[0]\n",
        "a[[0,1,2], [0,1,2]]"
      ]
    },
    {
      "cell_type": "code",
      "execution_count": 36,
      "metadata": {
        "colab": {
          "base_uri": "https://localhost:8080/"
        },
        "id": "eb1i2X81510H",
        "outputId": "3e6006c2-a9e8-4afa-c17f-84ddf734217d"
      },
      "outputs": [
        {
          "output_type": "execute_result",
          "data": {
            "text/plain": [
              "<tf.Tensor: shape=(2, 3, 4, 3), dtype=float16, numpy=\n",
              "array([[[[ 3.,  4.,  8.],\n",
              "         [ 5.,  3.,  2.],\n",
              "         [11.,  4.,  3.],\n",
              "         [ 7.,  2.,  2.]],\n",
              "\n",
              "        [[ 9.,  9., 11.],\n",
              "         [ 8., 11.,  4.],\n",
              "         [ 4.,  8., 11.],\n",
              "         [ 2.,  8.,  4.]],\n",
              "\n",
              "        [[ 5., 10.,  7.],\n",
              "         [ 8.,  7.,  7.],\n",
              "         [ 9.,  9., 11.],\n",
              "         [ 3.,  9.,  4.]]],\n",
              "\n",
              "\n",
              "       [[[11.,  6.,  5.],\n",
              "         [ 4.,  7.,  8.],\n",
              "         [ 3.,  4.,  4.],\n",
              "         [ 5.,  4., 11.]],\n",
              "\n",
              "        [[ 3.,  6.,  6.],\n",
              "         [11., 10.,  7.],\n",
              "         [ 3., 10.,  5.],\n",
              "         [ 3.,  6.,  4.]],\n",
              "\n",
              "        [[ 2.,  4.,  6.],\n",
              "         [ 7.,  8.,  8.],\n",
              "         [ 6., 11.,  7.],\n",
              "         [ 2.,  4.,  4.]]]], dtype=float16)>"
            ]
          },
          "metadata": {},
          "execution_count": 36
        }
      ],
      "source": [
        "rank_4_tensor"
      ]
    },
    {
      "cell_type": "code",
      "execution_count": 37,
      "metadata": {
        "colab": {
          "base_uri": "https://localhost:8080/"
        },
        "id": "N6Uz3MWY51ua",
        "outputId": "38e7db94-23f6-4386-8d23-30cd48a8e610"
      },
      "outputs": [
        {
          "output_type": "execute_result",
          "data": {
            "text/plain": [
              "<tf.Tensor: shape=(2, 2, 2, 2), dtype=float16, numpy=\n",
              "array([[[[ 3.,  4.],\n",
              "         [ 5.,  3.]],\n",
              "\n",
              "        [[ 9.,  9.],\n",
              "         [ 8., 11.]]],\n",
              "\n",
              "\n",
              "       [[[11.,  6.],\n",
              "         [ 4.,  7.]],\n",
              "\n",
              "        [[ 3.,  6.],\n",
              "         [11., 10.]]]], dtype=float16)>"
            ]
          },
          "metadata": {},
          "execution_count": 37
        }
      ],
      "source": [
        "# Get the first 2 elements in each dimension\n",
        "rank_4_tensor[:2, :2, :2, :2]"
      ]
    },
    {
      "cell_type": "markdown",
      "metadata": {
        "id": "4145zrwYs_8V"
      },
      "source": [
        "### Add Extra Dimension\n",
        "\n",
        "* tensor[.., tf.newaxis]\n",
        "* tf.expand_dims()\n",
        "\n",
        "```python\n",
        "tensor[.., tf.newaxis]\n",
        "tf.expand_dims()\n",
        "```"
      ]
    },
    {
      "cell_type": "code",
      "execution_count": 38,
      "metadata": {
        "colab": {
          "base_uri": "https://localhost:8080/"
        },
        "id": "Q64WMrrM51om",
        "outputId": "b07f73c6-fb40-4981-b8d9-3c3b731e1c4a"
      },
      "outputs": [
        {
          "output_type": "execute_result",
          "data": {
            "text/plain": [
              "<tf.Tensor: shape=(2, 2), dtype=int32, numpy=\n",
              "array([[ 2,  4],\n",
              "       [ 8, 10]], dtype=int32)>"
            ]
          },
          "metadata": {},
          "execution_count": 38
        }
      ],
      "source": [
        "tensor_1 = tf.constant([[2, 4], [8, 10]])\n",
        "tensor_1"
      ]
    },
    {
      "cell_type": "code",
      "execution_count": 39,
      "metadata": {
        "colab": {
          "base_uri": "https://localhost:8080/"
        },
        "id": "9ofrNphJ51ll",
        "outputId": "4e62dea4-04a5-444d-807a-8d30b269469d"
      },
      "outputs": [
        {
          "output_type": "execute_result",
          "data": {
            "text/plain": [
              "<tf.Tensor: shape=(2, 2, 1), dtype=int32, numpy=\n",
              "array([[[ 2],\n",
              "        [ 4]],\n",
              "\n",
              "       [[ 8],\n",
              "        [10]]], dtype=int32)>"
            ]
          },
          "metadata": {},
          "execution_count": 39
        }
      ],
      "source": [
        "tensor_1[..., tf.newaxis] # OR tensor_1[:, :, tf.newaxis]"
      ]
    },
    {
      "cell_type": "code",
      "execution_count": 40,
      "metadata": {
        "colab": {
          "base_uri": "https://localhost:8080/"
        },
        "id": "ygEBCO7m51i3",
        "outputId": "a80472ec-671a-442a-96fc-065457ac78d3"
      },
      "outputs": [
        {
          "output_type": "execute_result",
          "data": {
            "text/plain": [
              "<tf.Tensor: shape=(1, 2, 2), dtype=int32, numpy=\n",
              "array([[[ 2,  4],\n",
              "        [ 8, 10]]], dtype=int32)>"
            ]
          },
          "metadata": {},
          "execution_count": 40
        }
      ],
      "source": [
        "tensor_1[tf.newaxis, ...]"
      ]
    },
    {
      "cell_type": "code",
      "execution_count": 41,
      "metadata": {
        "colab": {
          "base_uri": "https://localhost:8080/"
        },
        "id": "x4gyLmOh51gQ",
        "outputId": "8f7403e3-dcf0-4e24-a32f-e358757eb995"
      },
      "outputs": [
        {
          "output_type": "execute_result",
          "data": {
            "text/plain": [
              "<tf.Tensor: shape=(1, 2, 2), dtype=int32, numpy=\n",
              "array([[[ 2,  4],\n",
              "        [ 8, 10]]], dtype=int32)>"
            ]
          },
          "metadata": {},
          "execution_count": 41
        }
      ],
      "source": [
        "tf.expand_dims(tensor_1, axis=0)"
      ]
    },
    {
      "cell_type": "markdown",
      "metadata": {
        "id": "hXeWEow5slac"
      },
      "source": [
        "# Adding New Dimensions\n",
        "\n",
        "* tf.expand_dims()\n"
      ]
    },
    {
      "cell_type": "code",
      "execution_count": 42,
      "metadata": {
        "colab": {
          "base_uri": "https://localhost:8080/"
        },
        "id": "aN44iFOc51dH",
        "outputId": "eebb5219-7a46-43e5-9300-a06622503c68"
      },
      "outputs": [
        {
          "output_type": "execute_result",
          "data": {
            "text/plain": [
              "<tf.Tensor: shape=(2, 1, 2), dtype=int32, numpy=\n",
              "array([[[ 2,  4]],\n",
              "\n",
              "       [[ 8, 10]]], dtype=int32)>"
            ]
          },
          "metadata": {},
          "execution_count": 42
        }
      ],
      "source": [
        "tf.expand_dims(tensor_1, axis=1)"
      ]
    },
    {
      "cell_type": "code",
      "execution_count": 43,
      "metadata": {
        "colab": {
          "base_uri": "https://localhost:8080/"
        },
        "id": "qfJ-ZyuX51aQ",
        "outputId": "42a58fe0-4e53-4f12-b12d-33a166198c63"
      },
      "outputs": [
        {
          "output_type": "execute_result",
          "data": {
            "text/plain": [
              "<tf.Tensor: shape=(2, 2, 1), dtype=int32, numpy=\n",
              "array([[[ 2],\n",
              "        [ 4]],\n",
              "\n",
              "       [[ 8],\n",
              "        [10]]], dtype=int32)>"
            ]
          },
          "metadata": {},
          "execution_count": 43
        }
      ],
      "source": [
        "tf.expand_dims(tensor_1, axis=2)"
      ]
    },
    {
      "cell_type": "markdown",
      "source": [
        "### Manipulating Tensors With Basic Operations\n",
        "\n",
        "> Element-wise operations.\n",
        "\n",
        "* Addition\n",
        "* Subtraction\n",
        "* Multiplication\n",
        "* Division"
      ],
      "metadata": {
        "id": "5-bwezYt7Uee"
      }
    },
    {
      "cell_type": "code",
      "execution_count": 44,
      "metadata": {
        "id": "ojtHQU_C51XX",
        "colab": {
          "base_uri": "https://localhost:8080/"
        },
        "outputId": "deab6220-c7fe-4df1-de01-caf613ee5d4a"
      },
      "outputs": [
        {
          "output_type": "execute_result",
          "data": {
            "text/plain": [
              "<tf.Tensor: shape=(2, 2), dtype=int32, numpy=\n",
              "array([[ 2,  4],\n",
              "       [ 8, 10]], dtype=int32)>"
            ]
          },
          "metadata": {},
          "execution_count": 44
        }
      ],
      "source": [
        "tensor_1"
      ]
    },
    {
      "cell_type": "code",
      "execution_count": 45,
      "metadata": {
        "id": "ng4cGCDj51TB",
        "colab": {
          "base_uri": "https://localhost:8080/"
        },
        "outputId": "140c157c-ce9d-45a5-8f95-1a0de66cadf7"
      },
      "outputs": [
        {
          "output_type": "execute_result",
          "data": {
            "text/plain": [
              "<tf.Tensor: shape=(2, 2), dtype=int32, numpy=\n",
              "array([[12, 14],\n",
              "       [18, 20]], dtype=int32)>"
            ]
          },
          "metadata": {},
          "execution_count": 45
        }
      ],
      "source": [
        "# Addition (Broadcasting)\n",
        "tensor_1 + 10"
      ]
    },
    {
      "cell_type": "code",
      "execution_count": 46,
      "metadata": {
        "id": "WNpd5NU251QF",
        "colab": {
          "base_uri": "https://localhost:8080/"
        },
        "outputId": "4aa8260c-c9ef-49c0-e85d-aeba00f4e1ae"
      },
      "outputs": [
        {
          "output_type": "execute_result",
          "data": {
            "text/plain": [
              "(<tf.Tensor: shape=(2, 2), dtype=int32, numpy=\n",
              " array([[-8, -6],\n",
              "        [-2,  0]], dtype=int32)>, <tf.Tensor: shape=(2, 2), dtype=int32, numpy=\n",
              " array([[ 20,  40],\n",
              "        [ 80, 100]], dtype=int32)>)"
            ]
          },
          "metadata": {},
          "execution_count": 46
        }
      ],
      "source": [
        "# Subtraction, Multiplcation (Broadcasting)\n",
        "tensor_1 - 10, tensor_1 * 10,"
      ]
    },
    {
      "cell_type": "code",
      "execution_count": 47,
      "metadata": {
        "id": "K_qUFAdp51NM",
        "colab": {
          "base_uri": "https://localhost:8080/"
        },
        "outputId": "c73f521f-227c-4362-a100-1706369bf513"
      },
      "outputs": [
        {
          "output_type": "execute_result",
          "data": {
            "text/plain": [
              "<tf.Tensor: shape=(2, 2), dtype=int32, numpy=\n",
              "array([[12, 14],\n",
              "       [18, 20]], dtype=int32)>"
            ]
          },
          "metadata": {},
          "execution_count": 47
        }
      ],
      "source": [
        "tf.add(tensor_1, 10)"
      ]
    },
    {
      "cell_type": "markdown",
      "source": [
        "### Matrix Multiplcation\n",
        "\n",
        "* Check this interactive matrix multiplication [website](https://matrixmultiplication.xyz)"
      ],
      "metadata": {
        "id": "CQFBHAch8FEl"
      }
    },
    {
      "cell_type": "code",
      "execution_count": 48,
      "metadata": {
        "id": "M9FFUzfoVzcM",
        "colab": {
          "base_uri": "https://localhost:8080/"
        },
        "outputId": "e66b7e57-594e-479b-c65b-113dd68fb6d5"
      },
      "outputs": [
        {
          "output_type": "execute_result",
          "data": {
            "text/plain": [
              "(TensorShape([2, 3]), TensorShape([2, 3]))"
            ]
          },
          "metadata": {},
          "execution_count": 48
        }
      ],
      "source": [
        "tensor_1 = tf.constant([[1, 2, 3], [5, 6, 7]])\n",
        "tensor_2 = tf.constant([[-3, 15, 1], [4, 9, 0]])\n",
        "tensor_1.shape, tensor_2.shape "
      ]
    },
    {
      "cell_type": "markdown",
      "source": [
        "* The tensors must have equal inner dimensions before dot product can be performed. \\\n",
        "e.g (a, b) . (b, c) \\\n",
        "The result has a shape of (a, b)\n"
      ],
      "metadata": {
        "id": "MWEcMK5M9X4X"
      }
    },
    {
      "cell_type": "code",
      "source": [
        "# Reshape one of the matrixes before you can perform matrix multiplcation\n",
        "tf.matmul(tensor_1, tf.transpose(tensor_2))"
      ],
      "metadata": {
        "colab": {
          "base_uri": "https://localhost:8080/"
        },
        "id": "QvIsM4jm9EmG",
        "outputId": "2fd4b0e6-5288-43ef-911e-777b01c47e9a"
      },
      "execution_count": 49,
      "outputs": [
        {
          "output_type": "execute_result",
          "data": {
            "text/plain": [
              "<tf.Tensor: shape=(2, 2), dtype=int32, numpy=\n",
              "array([[30, 22],\n",
              "       [82, 74]], dtype=int32)>"
            ]
          },
          "metadata": {},
          "execution_count": 49
        }
      ]
    },
    {
      "cell_type": "markdown",
      "source": [
        "#### You can also reshape one of the tensors into an appropriate shape"
      ],
      "metadata": {
        "id": "yAwZ9Ok5EMCe"
      }
    },
    {
      "cell_type": "code",
      "source": [
        "# (3, 3) . (2, 3)\n",
        "tf.matmul(tf.reshape(tensor_1, shape=(3, 2)), tensor_2)"
      ],
      "metadata": {
        "colab": {
          "base_uri": "https://localhost:8080/"
        },
        "id": "VYGFL_oP9EjM",
        "outputId": "daf76edf-6bea-4365-a911-d4a94ec1e2ae"
      },
      "execution_count": 50,
      "outputs": [
        {
          "output_type": "execute_result",
          "data": {
            "text/plain": [
              "<tf.Tensor: shape=(3, 3), dtype=int32, numpy=\n",
              "array([[  5,  33,   1],\n",
              "       [ 11,  90,   3],\n",
              "       [ 10, 153,   6]], dtype=int32)>"
            ]
          },
          "metadata": {},
          "execution_count": 50
        }
      ]
    },
    {
      "cell_type": "code",
      "source": [
        "print(f\"Original tensor: \\n{tensor_1}, \\nTransposed tensor: \\n{tf.transpose(tensor_1)}, \\nReshaped tensor: \\n{tf.reshape(tensor_1, shape=(3, 2))}\")"
      ],
      "metadata": {
        "colab": {
          "base_uri": "https://localhost:8080/"
        },
        "id": "GStEP7Av9Ego",
        "outputId": "58857010-7dff-476c-e3d6-fd776f6e56cd"
      },
      "execution_count": 51,
      "outputs": [
        {
          "output_type": "stream",
          "name": "stdout",
          "text": [
            "Original tensor: \n",
            "[[1 2 3]\n",
            " [5 6 7]], \n",
            "Transposed tensor: \n",
            "[[1 5]\n",
            " [2 6]\n",
            " [3 7]], \n",
            "Reshaped tensor: \n",
            "[[1 2]\n",
            " [3 5]\n",
            " [6 7]]\n"
          ]
        }
      ]
    },
    {
      "cell_type": "markdown",
      "source": [
        "### Changing Data Types\n",
        "\n",
        "* tf.cast(tensor, dtype=tf.datatype)"
      ],
      "metadata": {
        "id": "vWS0N_oIGIgx"
      }
    },
    {
      "cell_type": "code",
      "source": [
        "A = tf.constant([[1., 3.], [8., -9.]])\n",
        "B = tf.constant([[-4., 3.], [2., 9.]])\n",
        "\n",
        "A, B"
      ],
      "metadata": {
        "colab": {
          "base_uri": "https://localhost:8080/"
        },
        "id": "hctrNFuR9EdJ",
        "outputId": "de3090b7-edfe-479b-e841-9df2c9f84811"
      },
      "execution_count": 52,
      "outputs": [
        {
          "output_type": "execute_result",
          "data": {
            "text/plain": [
              "(<tf.Tensor: shape=(2, 2), dtype=float32, numpy=\n",
              " array([[ 1.,  3.],\n",
              "        [ 8., -9.]], dtype=float32)>,\n",
              " <tf.Tensor: shape=(2, 2), dtype=float32, numpy=\n",
              " array([[-4.,  3.],\n",
              "        [ 2.,  9.]], dtype=float32)>)"
            ]
          },
          "metadata": {},
          "execution_count": 52
        }
      ]
    },
    {
      "cell_type": "code",
      "source": [
        "tf.cast(A, dtype=tf.float16)"
      ],
      "metadata": {
        "colab": {
          "base_uri": "https://localhost:8080/"
        },
        "id": "3EBs74YA9Eak",
        "outputId": "4a296e6b-e1f8-4336-bb68-390b944f5d5a"
      },
      "execution_count": 53,
      "outputs": [
        {
          "output_type": "execute_result",
          "data": {
            "text/plain": [
              "<tf.Tensor: shape=(2, 2), dtype=float16, numpy=\n",
              "array([[ 1.,  3.],\n",
              "       [ 8., -9.]], dtype=float16)>"
            ]
          },
          "metadata": {},
          "execution_count": 53
        }
      ]
    },
    {
      "cell_type": "markdown",
      "source": [
        "### Aggregating Tensors\n",
        "\n",
        "* Min\n",
        "* Max\n",
        "* Mean\n",
        "* Sum"
      ],
      "metadata": {
        "id": "vi-oAnmVYbeb"
      }
    },
    {
      "cell_type": "code",
      "source": [
        "A"
      ],
      "metadata": {
        "colab": {
          "base_uri": "https://localhost:8080/"
        },
        "id": "1oit8AneaZgg",
        "outputId": "3b17b5a0-430c-4f91-e1fb-2cb7589ac05e"
      },
      "execution_count": 54,
      "outputs": [
        {
          "output_type": "execute_result",
          "data": {
            "text/plain": [
              "<tf.Tensor: shape=(2, 2), dtype=float32, numpy=\n",
              "array([[ 1.,  3.],\n",
              "       [ 8., -9.]], dtype=float32)>"
            ]
          },
          "metadata": {},
          "execution_count": 54
        }
      ]
    },
    {
      "cell_type": "code",
      "source": [
        "tf.math.reduce_min(A)"
      ],
      "metadata": {
        "colab": {
          "base_uri": "https://localhost:8080/"
        },
        "id": "bBluoyX_Z9EJ",
        "outputId": "fa835e7e-a3d3-47e8-a121-8e4175347b80"
      },
      "execution_count": 55,
      "outputs": [
        {
          "output_type": "execute_result",
          "data": {
            "text/plain": [
              "<tf.Tensor: shape=(), dtype=float32, numpy=-9.0>"
            ]
          },
          "metadata": {},
          "execution_count": 55
        }
      ]
    },
    {
      "cell_type": "code",
      "source": [
        "tf.math.reduce_min(A).numpy()"
      ],
      "metadata": {
        "colab": {
          "base_uri": "https://localhost:8080/"
        },
        "id": "i-ujk8e2Z9AL",
        "outputId": "4d5827e4-31e9-4593-9828-590d42eca10e"
      },
      "execution_count": 56,
      "outputs": [
        {
          "output_type": "execute_result",
          "data": {
            "text/plain": [
              "-9.0"
            ]
          },
          "metadata": {},
          "execution_count": 56
        }
      ]
    },
    {
      "cell_type": "code",
      "source": [
        "tf.math.reduce_max(A), tf.math.reduce_sum(A)"
      ],
      "metadata": {
        "colab": {
          "base_uri": "https://localhost:8080/"
        },
        "id": "MsW-hDCRaG3X",
        "outputId": "5352d624-0f3d-4413-c245-93e67fe77798"
      },
      "execution_count": 57,
      "outputs": [
        {
          "output_type": "execute_result",
          "data": {
            "text/plain": [
              "(<tf.Tensor: shape=(), dtype=float32, numpy=8.0>,\n",
              " <tf.Tensor: shape=(), dtype=float32, numpy=3.0>)"
            ]
          },
          "metadata": {},
          "execution_count": 57
        }
      ]
    },
    {
      "cell_type": "code",
      "source": [
        "tf.math.reduce_variance(A).numpy()"
      ],
      "metadata": {
        "colab": {
          "base_uri": "https://localhost:8080/"
        },
        "id": "mL8A5ykFaG0e",
        "outputId": "7eae8790-74d8-4e06-8689-6d915161d685"
      },
      "execution_count": 58,
      "outputs": [
        {
          "output_type": "execute_result",
          "data": {
            "text/plain": [
              "38.1875"
            ]
          },
          "metadata": {},
          "execution_count": 58
        }
      ]
    },
    {
      "cell_type": "code",
      "source": [
        "tf.math.reduce_std(A).numpy()"
      ],
      "metadata": {
        "colab": {
          "base_uri": "https://localhost:8080/"
        },
        "id": "A3_ozsGqaGyA",
        "outputId": "4735c74f-35bf-45d7-c593-b259a317f798"
      },
      "execution_count": 59,
      "outputs": [
        {
          "output_type": "execute_result",
          "data": {
            "text/plain": [
              "6.1796036"
            ]
          },
          "metadata": {},
          "execution_count": 59
        }
      ]
    },
    {
      "cell_type": "markdown",
      "source": [
        "### Positional Maximum\n",
        "\n",
        "* tf.argmax()"
      ],
      "metadata": {
        "id": "D3RZnqnVaGr4"
      }
    },
    {
      "cell_type": "code",
      "source": [
        "tensor_1 = tf.constant(value=np.random.uniform(low=0, high=1, size=(12,)))\n",
        "\n",
        "tensor_1"
      ],
      "metadata": {
        "colab": {
          "base_uri": "https://localhost:8080/"
        },
        "id": "i7PPDoDkaGoQ",
        "outputId": "dc989c82-5f42-477e-ed25-8a88c6676c8d"
      },
      "execution_count": 60,
      "outputs": [
        {
          "output_type": "execute_result",
          "data": {
            "text/plain": [
              "<tf.Tensor: shape=(12,), dtype=float64, numpy=\n",
              "array([0.86301273, 0.10686599, 0.8738302 , 0.17494454, 0.52014866,\n",
              "       0.59783161, 0.32328521, 0.91693631, 0.28798661, 0.55552409,\n",
              "       0.73210831, 0.4879516 ])>"
            ]
          },
          "metadata": {},
          "execution_count": 60
        }
      ]
    },
    {
      "cell_type": "code",
      "source": [
        "# Find the argmax of tensor_1\n",
        "print(tf.argmax(tensor_1).numpy())\n",
        "\n",
        "tensor_1[tf.argmax(tensor_1)]"
      ],
      "metadata": {
        "colab": {
          "base_uri": "https://localhost:8080/"
        },
        "id": "sdVEz_KA9EOi",
        "outputId": "7775f80d-019a-48a0-fac7-9cd0f7a5bf1f"
      },
      "execution_count": 61,
      "outputs": [
        {
          "output_type": "stream",
          "name": "stdout",
          "text": [
            "7\n"
          ]
        },
        {
          "output_type": "execute_result",
          "data": {
            "text/plain": [
              "<tf.Tensor: shape=(), dtype=float64, numpy=0.9169363068144645>"
            ]
          },
          "metadata": {},
          "execution_count": 61
        }
      ]
    },
    {
      "cell_type": "code",
      "source": [
        "# Verify!\n",
        "tf.math.reduce_max(tensor_1)"
      ],
      "metadata": {
        "colab": {
          "base_uri": "https://localhost:8080/"
        },
        "id": "p-u0EkA-9ELs",
        "outputId": "e32aee53-8121-4317-dbcd-4184cf54891c"
      },
      "execution_count": 62,
      "outputs": [
        {
          "output_type": "execute_result",
          "data": {
            "text/plain": [
              "<tf.Tensor: shape=(), dtype=float64, numpy=0.9169363068144645>"
            ]
          },
          "metadata": {},
          "execution_count": 62
        }
      ]
    },
    {
      "cell_type": "code",
      "source": [
        "# Positional Minimum (tf.argmin)\n",
        "tf.argmin(tensor_1).numpy()"
      ],
      "metadata": {
        "colab": {
          "base_uri": "https://localhost:8080/"
        },
        "id": "zCNw-Js69EG1",
        "outputId": "e412d5bc-1480-45cb-e901-e7e113f70457"
      },
      "execution_count": 63,
      "outputs": [
        {
          "output_type": "execute_result",
          "data": {
            "text/plain": [
              "1"
            ]
          },
          "metadata": {},
          "execution_count": 63
        }
      ]
    },
    {
      "cell_type": "markdown",
      "source": [
        "### Removing All Dimensions (Squeezing)\n",
        "\n",
        "> This removes dimensions of size `1` from the shape of a tensor. e.g a tensor with shape: (1, 1, 5) becomes (5)\n",
        "\n",
        "* tf.squeeze()"
      ],
      "metadata": {
        "id": "wxfq39Os9EEM"
      }
    },
    {
      "cell_type": "code",
      "source": [
        "tensor_2 = tf.constant(value=np.random.uniform(low=0, high=1, size=(1, 1, 1, 12)))\n",
        "\n",
        "tensor_2"
      ],
      "metadata": {
        "colab": {
          "base_uri": "https://localhost:8080/"
        },
        "id": "ilkh4a9J9EBj",
        "outputId": "a42d3c2e-0ab0-4a16-e36d-5afb26a20f35"
      },
      "execution_count": 64,
      "outputs": [
        {
          "output_type": "execute_result",
          "data": {
            "text/plain": [
              "<tf.Tensor: shape=(1, 1, 1, 12), dtype=float64, numpy=\n",
              "array([[[[0.87222139, 0.57480614, 0.2980001 , 0.62320328, 0.4177584 ,\n",
              "          0.4140706 , 0.94134134, 0.46790381, 0.65423003, 0.83000001,\n",
              "          0.4641396 , 0.44168246]]]])>"
            ]
          },
          "metadata": {},
          "execution_count": 64
        }
      ]
    },
    {
      "cell_type": "code",
      "source": [
        "tf.size(tensor_2), tensor_2.shape"
      ],
      "metadata": {
        "colab": {
          "base_uri": "https://localhost:8080/"
        },
        "id": "OPlLw0sO9D-3",
        "outputId": "31e5fdb2-ea16-4b5c-d89c-6c1acdfc9a33"
      },
      "execution_count": 65,
      "outputs": [
        {
          "output_type": "execute_result",
          "data": {
            "text/plain": [
              "(<tf.Tensor: shape=(), dtype=int32, numpy=12>, TensorShape([1, 1, 1, 12]))"
            ]
          },
          "metadata": {},
          "execution_count": 65
        }
      ]
    },
    {
      "cell_type": "code",
      "source": [
        "squeezed_tensor = tf.squeeze(tensor_2)\n",
        "squeezed_tensor.shape"
      ],
      "metadata": {
        "colab": {
          "base_uri": "https://localhost:8080/"
        },
        "id": "ch6duIk49D8P",
        "outputId": "2e609abb-b942-4b30-8a9e-c817cc650005"
      },
      "execution_count": 66,
      "outputs": [
        {
          "output_type": "execute_result",
          "data": {
            "text/plain": [
              "TensorShape([12])"
            ]
          },
          "metadata": {},
          "execution_count": 66
        }
      ]
    },
    {
      "cell_type": "markdown",
      "source": [
        "### One Hot Encoding"
      ],
      "metadata": {
        "id": "eHJrRAGiM5ni"
      }
    },
    {
      "cell_type": "code",
      "source": [
        "#         \"Nigeria\",  \"Germany\",  \"USA\",  \"Canada\"\n",
        "my_list = [  0,           1,        2,       3]\n",
        "\n",
        "\n",
        "# One-hot encode the list\n",
        "tf.one_hot(my_list, depth=4)"
      ],
      "metadata": {
        "colab": {
          "base_uri": "https://localhost:8080/"
        },
        "id": "IXL88Dz-M5k7",
        "outputId": "fad97516-7476-42ae-cf05-250485bfcc4d"
      },
      "execution_count": 67,
      "outputs": [
        {
          "output_type": "execute_result",
          "data": {
            "text/plain": [
              "<tf.Tensor: shape=(4, 4), dtype=float32, numpy=\n",
              "array([[1., 0., 0., 0.],\n",
              "       [0., 1., 0., 0.],\n",
              "       [0., 0., 1., 0.],\n",
              "       [0., 0., 0., 1.]], dtype=float32)>"
            ]
          },
          "metadata": {},
          "execution_count": 67
        }
      ]
    },
    {
      "cell_type": "code",
      "source": [
        "## Square a tensor\n",
        "T = tf.range(1, 10)\n",
        "tf.square(T)"
      ],
      "metadata": {
        "colab": {
          "base_uri": "https://localhost:8080/"
        },
        "id": "6Oku6GN_M5hr",
        "outputId": "1dd509dd-5168-4b45-886c-0c0d7af3f6ba"
      },
      "execution_count": 68,
      "outputs": [
        {
          "output_type": "execute_result",
          "data": {
            "text/plain": [
              "<tf.Tensor: shape=(9,), dtype=int32, numpy=array([ 1,  4,  9, 16, 25, 36, 49, 64, 81], dtype=int32)>"
            ]
          },
          "metadata": {},
          "execution_count": 68
        }
      ]
    },
    {
      "cell_type": "code",
      "source": [
        "tf.math.square(T)"
      ],
      "metadata": {
        "colab": {
          "base_uri": "https://localhost:8080/"
        },
        "id": "vVKmpZuAM5eX",
        "outputId": "a8fc2094-b97c-402c-b0b3-df97f0e76cc9"
      },
      "execution_count": 69,
      "outputs": [
        {
          "output_type": "execute_result",
          "data": {
            "text/plain": [
              "<tf.Tensor: shape=(9,), dtype=int32, numpy=array([ 1,  4,  9, 16, 25, 36, 49, 64, 81], dtype=int32)>"
            ]
          },
          "metadata": {},
          "execution_count": 69
        }
      ]
    },
    {
      "cell_type": "code",
      "source": [
        "# Square root\n",
        "# Only floats are allowed\n",
        "T = tf.range(10)\n",
        "tf.cast(T, dtype=tf.float16)"
      ],
      "metadata": {
        "colab": {
          "base_uri": "https://localhost:8080/"
        },
        "id": "A2kxmNGOM5YW",
        "outputId": "061db7d8-dd73-47c7-b8be-abb9420b1369"
      },
      "execution_count": 75,
      "outputs": [
        {
          "output_type": "execute_result",
          "data": {
            "text/plain": [
              "<tf.Tensor: shape=(10,), dtype=float16, numpy=array([0., 1., 2., 3., 4., 5., 6., 7., 8., 9.], dtype=float16)>"
            ]
          },
          "metadata": {},
          "execution_count": 75
        }
      ]
    },
    {
      "cell_type": "code",
      "source": [
        "tf.math.sqrt(tf.cast(T, dtype=tf.float16))"
      ],
      "metadata": {
        "colab": {
          "base_uri": "https://localhost:8080/"
        },
        "id": "AwTT-pBGM5VC",
        "outputId": "2b866652-c470-44a6-bea6-4c0a008145b6"
      },
      "execution_count": 76,
      "outputs": [
        {
          "output_type": "execute_result",
          "data": {
            "text/plain": [
              "<tf.Tensor: shape=(10,), dtype=float16, numpy=\n",
              "array([0.   , 1.   , 1.414, 1.732, 2.   , 2.236, 2.45 , 2.646, 2.828,\n",
              "       3.   ], dtype=float16)>"
            ]
          },
          "metadata": {},
          "execution_count": 76
        }
      ]
    },
    {
      "cell_type": "code",
      "source": [
        "# Find the log\n",
        "tf.math.log(tf.cast(T, dtype=tf.float16))"
      ],
      "metadata": {
        "colab": {
          "base_uri": "https://localhost:8080/"
        },
        "id": "hMhIXnW9M5SX",
        "outputId": "35ad262b-427b-4400-8755-ced4ebab1d75"
      },
      "execution_count": 77,
      "outputs": [
        {
          "output_type": "execute_result",
          "data": {
            "text/plain": [
              "<tf.Tensor: shape=(10,), dtype=float16, numpy=\n",
              "array([  -inf, 0.    , 0.6934, 1.099 , 1.387 , 1.609 , 1.792 , 1.946 ,\n",
              "       2.08  , 2.197 ], dtype=float16)>"
            ]
          },
          "metadata": {},
          "execution_count": 77
        }
      ]
    },
    {
      "cell_type": "markdown",
      "source": [
        "### Working With NumPy"
      ],
      "metadata": {
        "id": "Epqj3iycM5Pa"
      }
    },
    {
      "cell_type": "code",
      "source": [
        "T = tf.constant(np.random.uniform(size=10))\n",
        "T"
      ],
      "metadata": {
        "colab": {
          "base_uri": "https://localhost:8080/"
        },
        "id": "fIgAaeq-9D0L",
        "outputId": "31ebe7c2-0582-40f1-8362-2a99f5174f36"
      },
      "execution_count": 79,
      "outputs": [
        {
          "output_type": "execute_result",
          "data": {
            "text/plain": [
              "<tf.Tensor: shape=(10,), dtype=float64, numpy=\n",
              "array([0.02054101, 0.11380502, 0.66934862, 0.09070071, 0.89104739,\n",
              "       0.82093658, 0.23945503, 0.65749534, 0.28501943, 0.14372494])>"
            ]
          },
          "metadata": {},
          "execution_count": 79
        }
      ]
    },
    {
      "cell_type": "code",
      "source": [
        "# Convert back to NumPy\n",
        "T.numpy()"
      ],
      "metadata": {
        "colab": {
          "base_uri": "https://localhost:8080/"
        },
        "id": "XVHc7VQQ9Dxi",
        "outputId": "1ca3ff88-2cb3-4dc2-a731-241aaf46dfa7"
      },
      "execution_count": 80,
      "outputs": [
        {
          "output_type": "execute_result",
          "data": {
            "text/plain": [
              "array([0.02054101, 0.11380502, 0.66934862, 0.09070071, 0.89104739,\n",
              "       0.82093658, 0.23945503, 0.65749534, 0.28501943, 0.14372494])"
            ]
          },
          "metadata": {},
          "execution_count": 80
        }
      ]
    },
    {
      "cell_type": "code",
      "source": [
        "# NumPy and TensorFlow have slightly different datatypes\n",
        "H = tf.range(10)\n",
        "T = tf.constant(np.arange(10))\n",
        "\n",
        "H.dtype, T.dtype"
      ],
      "metadata": {
        "colab": {
          "base_uri": "https://localhost:8080/"
        },
        "id": "FMDf7ELDq4TX",
        "outputId": "df41af71-823f-48cf-da88-34274f576c3a"
      },
      "execution_count": 82,
      "outputs": [
        {
          "output_type": "execute_result",
          "data": {
            "text/plain": [
              "(tf.int32, tf.int64)"
            ]
          },
          "metadata": {},
          "execution_count": 82
        }
      ]
    },
    {
      "cell_type": "code",
      "source": [
        "# Check The Physical Devices\n",
        "tf.config.list_physical_devices()"
      ],
      "metadata": {
        "colab": {
          "base_uri": "https://localhost:8080/"
        },
        "id": "nGUasfqMq4RW",
        "outputId": "1aab9177-8761-453f-842c-6e7ddc22e76f"
      },
      "execution_count": 84,
      "outputs": [
        {
          "output_type": "execute_result",
          "data": {
            "text/plain": [
              "[PhysicalDevice(name='/physical_device:CPU:0', device_type='CPU')]"
            ]
          },
          "metadata": {},
          "execution_count": 84
        }
      ]
    },
    {
      "cell_type": "code",
      "source": [],
      "metadata": {
        "id": "vzUxuhvRq4NU"
      },
      "execution_count": null,
      "outputs": []
    },
    {
      "cell_type": "code",
      "source": [],
      "metadata": {
        "id": "tnMb8D2Fq4Kl"
      },
      "execution_count": null,
      "outputs": []
    },
    {
      "cell_type": "code",
      "source": [],
      "metadata": {
        "id": "0PugQ8vaq4Ht"
      },
      "execution_count": null,
      "outputs": []
    },
    {
      "cell_type": "code",
      "source": [],
      "metadata": {
        "id": "0OvibBGfq4Bu"
      },
      "execution_count": null,
      "outputs": []
    },
    {
      "cell_type": "code",
      "source": [],
      "metadata": {
        "id": "i462c2XYq377"
      },
      "execution_count": null,
      "outputs": []
    },
    {
      "cell_type": "code",
      "source": [],
      "metadata": {
        "id": "5pUjATxvq335"
      },
      "execution_count": null,
      "outputs": []
    },
    {
      "cell_type": "code",
      "source": [],
      "metadata": {
        "id": "0KrHg6xdq3yL"
      },
      "execution_count": null,
      "outputs": []
    },
    {
      "cell_type": "code",
      "source": [],
      "metadata": {
        "id": "4giGRY0Xq3u6"
      },
      "execution_count": null,
      "outputs": []
    },
    {
      "cell_type": "code",
      "source": [],
      "metadata": {
        "id": "D10Ksomhq3rt"
      },
      "execution_count": null,
      "outputs": []
    },
    {
      "cell_type": "code",
      "execution_count": 68,
      "metadata": {
        "id": "O-cM006lVzcN"
      },
      "outputs": [],
      "source": []
    },
    {
      "cell_type": "code",
      "execution_count": 68,
      "metadata": {
        "id": "uLVN5EZuVzcN"
      },
      "outputs": [],
      "source": []
    }
  ],
  "metadata": {
    "colab": {
      "provenance": [],
      "include_colab_link": true
    },
    "kernelspec": {
      "display_name": "nlp_p310",
      "language": "python",
      "name": "python3"
    },
    "language_info": {
      "codemirror_mode": {
        "name": "ipython",
        "version": 3
      },
      "file_extension": ".py",
      "mimetype": "text/x-python",
      "name": "python",
      "nbconvert_exporter": "python",
      "pygments_lexer": "ipython3",
      "version": "3.10.9"
    },
    "orig_nbformat": 4,
    "vscode": {
      "interpreter": {
        "hash": "5c160606400bd63443fe4361c23f8347e54b6f9986e7c6d27e878f1970943f47"
      }
    }
  },
  "nbformat": 4,
  "nbformat_minor": 0
}