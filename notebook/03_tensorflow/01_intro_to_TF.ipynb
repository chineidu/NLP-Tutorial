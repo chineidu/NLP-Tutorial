{
  "cells": [
    {
      "cell_type": "markdown",
      "metadata": {
        "id": "view-in-github",
        "colab_type": "text"
      },
      "source": [
        "<a href=\"https://colab.research.google.com/github/chineidu/NLP-Tutorial/blob/main/notebook/03_tensorflow/01_intro_to_TF.ipynb\" target=\"_parent\"><img src=\"https://colab.research.google.com/assets/colab-badge.svg\" alt=\"Open In Colab\"/></a>"
      ]
    },
    {
      "cell_type": "markdown",
      "metadata": {
        "id": "RQGCV_mQVzcF"
      },
      "source": [
        "# TensorFlow Tutorial"
      ]
    },
    {
      "cell_type": "code",
      "execution_count": 1,
      "metadata": {
        "id": "LL5xn4nrVzcJ"
      },
      "outputs": [],
      "source": [
        "# Standard imports\n",
        "import numpy as np\n",
        "import tensorflow as tf\n"
      ]
    },
    {
      "cell_type": "markdown",
      "metadata": {
        "id": "2vh1mGeWVzcL"
      },
      "source": [
        "* Intro To Tensors\n",
        "* Getting info from tensors\n",
        "* Manipulating tensors\n",
        "* Tensors and NumPy\n",
        "* Using @tf.function\n",
        "* Using GPUs/TPUs with TensorFlow\n"
      ]
    },
    {
      "cell_type": "code",
      "execution_count": 2,
      "metadata": {
        "colab": {
          "base_uri": "https://localhost:8080/",
          "height": 35
        },
        "id": "P4r6y5NKVzcM",
        "outputId": "18cc6c4d-5afe-483b-91b4-a46925258077"
      },
      "outputs": [
        {
          "output_type": "execute_result",
          "data": {
            "text/plain": [
              "'2.11.0'"
            ],
            "application/vnd.google.colaboratory.intrinsic+json": {
              "type": "string"
            }
          },
          "metadata": {},
          "execution_count": 2
        }
      ],
      "source": [
        "tf.__version__"
      ]
    },
    {
      "cell_type": "code",
      "execution_count": 3,
      "metadata": {
        "colab": {
          "base_uri": "https://localhost:8080/"
        },
        "id": "dOvNk3p-VzcM",
        "outputId": "1a8454b9-9cb0-4fe0-8f78-8f349c6a8e1f"
      },
      "outputs": [
        {
          "output_type": "stream",
          "name": "stdout",
          "text": [
            "Python 3.8.10\n"
          ]
        }
      ],
      "source": [
        "!python -V"
      ]
    },
    {
      "cell_type": "markdown",
      "metadata": {
        "id": "RE3i7F5maOsV"
      },
      "source": [
        "### Create Tensors"
      ]
    },
    {
      "cell_type": "code",
      "execution_count": 4,
      "metadata": {
        "colab": {
          "base_uri": "https://localhost:8080/"
        },
        "id": "fylDtVZPaOpQ",
        "outputId": "87b72a6e-bf35-4196-a0da-1745bf62772b"
      },
      "outputs": [
        {
          "output_type": "execute_result",
          "data": {
            "text/plain": [
              "<tf.Tensor: shape=(4,), dtype=int32, numpy=array([1, 2, 3, 4], dtype=int32)>"
            ]
          },
          "metadata": {},
          "execution_count": 4
        }
      ],
      "source": [
        "# tf.constant\n",
        "tensor_1 = tf.constant([1, 2, 3, 4]) # Vector\n",
        "tensor_1"
      ]
    },
    {
      "cell_type": "code",
      "execution_count": 5,
      "metadata": {
        "colab": {
          "base_uri": "https://localhost:8080/"
        },
        "id": "agDcFn70aOmX",
        "outputId": "c161aa46-27a4-4332-ae23-816e080126f8"
      },
      "outputs": [
        {
          "output_type": "execute_result",
          "data": {
            "text/plain": [
              "(TensorShape([4]), 1)"
            ]
          },
          "metadata": {},
          "execution_count": 5
        }
      ],
      "source": [
        "tensor_1.shape, tensor_1.ndim"
      ]
    },
    {
      "cell_type": "code",
      "execution_count": 6,
      "metadata": {
        "colab": {
          "base_uri": "https://localhost:8080/"
        },
        "id": "ZGHg6bSGaOjl",
        "outputId": "28ddfc9a-c820-4800-d1cf-6607aac4d85f"
      },
      "outputs": [
        {
          "output_type": "execute_result",
          "data": {
            "text/plain": [
              "(<tf.Tensor: shape=(2, 4), dtype=float16, numpy=\n",
              " array([[1., 2., 3., 4.],\n",
              "        [5., 6., 7., 8.]], dtype=float16)>, TensorShape([2, 4]), 2)"
            ]
          },
          "metadata": {},
          "execution_count": 6
        }
      ],
      "source": [
        "tensor_2 = tf.constant([[1, 2, 3, 4], [5, 6, 7, 8]], dtype=tf.float16) # Matrix\n",
        "tensor_2, tensor_2.shape, tensor_2.ndim"
      ]
    },
    {
      "cell_type": "code",
      "execution_count": 7,
      "metadata": {
        "colab": {
          "base_uri": "https://localhost:8080/"
        },
        "id": "RT7SzKwPaOgG",
        "outputId": "b27c8731-307d-41c4-a9ea-2986ffe16cc7"
      },
      "outputs": [
        {
          "output_type": "execute_result",
          "data": {
            "text/plain": [
              "<tf.Tensor: shape=(1, 3, 3), dtype=float16, numpy=\n",
              "array([[[1., 2., 3.],\n",
              "        [4., 5., 6.],\n",
              "        [7., 8., 9.]]], dtype=float16)>"
            ]
          },
          "metadata": {},
          "execution_count": 7
        }
      ],
      "source": [
        "tensor_3 = tf.constant([[[1, 2, 3], [4, 5, 6], [7, 8, 9]]], dtype=tf.float16) # Tensor\n",
        "tensor_3"
      ]
    },
    {
      "cell_type": "code",
      "execution_count": 8,
      "metadata": {
        "colab": {
          "base_uri": "https://localhost:8080/"
        },
        "id": "CNKdTOuDaOc9",
        "outputId": "7ec2ab8b-c753-4e7b-8c2d-15719228c3ec"
      },
      "outputs": [
        {
          "output_type": "execute_result",
          "data": {
            "text/plain": [
              "(TensorShape([1, 3, 3]), 3)"
            ]
          },
          "metadata": {},
          "execution_count": 8
        }
      ],
      "source": [
        "tensor_3.shape, tensor_3.ndim"
      ]
    },
    {
      "cell_type": "code",
      "execution_count": 9,
      "metadata": {
        "colab": {
          "base_uri": "https://localhost:8080/"
        },
        "id": "hyXnjpRiaOXL",
        "outputId": "11f5341f-9ce7-4fa2-820b-3ba249f2946a"
      },
      "outputs": [
        {
          "output_type": "execute_result",
          "data": {
            "text/plain": [
              "<tf.Tensor: shape=(2, 3, 3), dtype=int32, numpy=\n",
              "array([[[ 1,  2,  3],\n",
              "        [ 4,  5,  6],\n",
              "        [ 7,  8,  9]],\n",
              "\n",
              "       [[10, 11, 12],\n",
              "        [13, 14, 15],\n",
              "        [16, 17, 18]]], dtype=int32)>"
            ]
          },
          "metadata": {},
          "execution_count": 9
        }
      ],
      "source": [
        "tensor_4 = tf.constant([[[1, 2, 3], [4, 5, 6], [7, 8, 9]], \n",
        "                        [[10, 11, 12], [13, 14, 15], [16, 17, 18]]])\n",
        "tensor_4"
      ]
    },
    {
      "cell_type": "markdown",
      "metadata": {
        "id": "RNwj794eaOUT"
      },
      "source": [
        "### Creating Tensors Using tf.Variable"
      ]
    },
    {
      "cell_type": "code",
      "execution_count": 10,
      "metadata": {
        "colab": {
          "base_uri": "https://localhost:8080/"
        },
        "id": "DySYwNDgvN-2",
        "outputId": "636dddf1-e997-41f3-936e-ae3ade569e4b"
      },
      "outputs": [
        {
          "output_type": "execute_result",
          "data": {
            "text/plain": [
              "<tf.Variable 'Variable:0' shape=(4,) dtype=int32, numpy=array([1, 2, 3, 4], dtype=int32)>"
            ]
          },
          "metadata": {},
          "execution_count": 10
        }
      ],
      "source": [
        "# tf.constant\n",
        "changeable_tensor_1 = tf.Variable([1, 2, 3, 4]) # Vector\n",
        "changeable_tensor_1"
      ]
    },
    {
      "cell_type": "code",
      "execution_count": 11,
      "metadata": {
        "colab": {
          "base_uri": "https://localhost:8080/"
        },
        "id": "6LfrApa9vN8P",
        "outputId": "156103af-116d-44c5-e440-b61e714c84c1"
      },
      "outputs": [
        {
          "output_type": "execute_result",
          "data": {
            "text/plain": [
              "<tf.Variable 'UnreadVariable' shape=(4,) dtype=int32, numpy=array([-2,  2,  3,  4], dtype=int32)>"
            ]
          },
          "metadata": {},
          "execution_count": 11
        }
      ],
      "source": [
        "# Change an element in the tensor (Only possible for tensors created using tf.Variable)\n",
        "changeable_tensor_1[0].assign(-2)"
      ]
    },
    {
      "cell_type": "code",
      "execution_count": 12,
      "metadata": {
        "colab": {
          "base_uri": "https://localhost:8080/"
        },
        "id": "KdV-5XShvRKw",
        "outputId": "5e5310a0-554e-4f44-820d-416930f79de6"
      },
      "outputs": [
        {
          "output_type": "execute_result",
          "data": {
            "text/plain": [
              "<tf.Variable 'Variable:0' shape=(4,) dtype=int32, numpy=array([-2,  2,  3,  4], dtype=int32)>"
            ]
          },
          "metadata": {},
          "execution_count": 12
        }
      ],
      "source": [
        "changeable_tensor_1"
      ]
    },
    {
      "cell_type": "markdown",
      "metadata": {
        "id": "5ynTBDkPy6yX"
      },
      "source": [
        "### Creating Random Tensors"
      ]
    },
    {
      "cell_type": "code",
      "execution_count": 13,
      "metadata": {
        "colab": {
          "base_uri": "https://localhost:8080/"
        },
        "id": "qmqkPTwNvRG3",
        "outputId": "55887243-5f6f-4bc2-b4ee-df73fb02f117"
      },
      "outputs": [
        {
          "output_type": "execute_result",
          "data": {
            "text/plain": [
              "<tf.Tensor: shape=(2, 2), dtype=float16, numpy=\n",
              "array([[0.8076, 0.793 ],\n",
              "       [0.4648, 0.2275]], dtype=float16)>"
            ]
          },
          "metadata": {},
          "execution_count": 13
        }
      ],
      "source": [
        "RANDOM_STATE = 123\n",
        "rng = tf.random.Generator.from_seed(RANDOM_STATE)\n",
        "\n",
        "random_tensor_1 = rng.uniform(shape=(2, 2), dtype=tf.float16)\n",
        "random_tensor_1"
      ]
    },
    {
      "cell_type": "code",
      "execution_count": 14,
      "metadata": {
        "colab": {
          "base_uri": "https://localhost:8080/"
        },
        "id": "ytnk7JFqvREh",
        "outputId": "a4929725-61a3-4d18-b8d4-95662bbe44d4"
      },
      "outputs": [
        {
          "output_type": "execute_result",
          "data": {
            "text/plain": [
              "<tf.Tensor: shape=(2, 2), dtype=float32, numpy=\n",
              "array([[ 0.46618396, -0.03461919],\n",
              "       [ 0.6538919 , -0.8194663 ]], dtype=float32)>"
            ]
          },
          "metadata": {},
          "execution_count": 14
        }
      ],
      "source": [
        "random_tensor_2 = rng.normal(shape=(2,2))\n",
        "random_tensor_2"
      ]
    },
    {
      "cell_type": "markdown",
      "metadata": {
        "id": "PCkttEx_vRCH"
      },
      "source": [
        "### Shuffle Elements In A Tensor"
      ]
    },
    {
      "cell_type": "code",
      "execution_count": 15,
      "metadata": {
        "colab": {
          "base_uri": "https://localhost:8080/"
        },
        "id": "_mWVswOhvQ_u",
        "outputId": "192162a7-1f93-4be1-b618-74690bf788b7"
      },
      "outputs": [
        {
          "output_type": "execute_result",
          "data": {
            "text/plain": [
              "<tf.Tensor: shape=(3, 4), dtype=int32, numpy=\n",
              "array([[ 1,  2,  3,  4],\n",
              "       [ 8,  9, 10, 11],\n",
              "       [ 1,  3,  5,  7]], dtype=int32)>"
            ]
          },
          "metadata": {},
          "execution_count": 15
        }
      ],
      "source": [
        "tensor_1 = tf.constant([[1, 2, 3, 4], \n",
        "                        [8, 9, 10, 11], \n",
        "                        [1, 3, 5, 7]])\n",
        "\n",
        "tf.random.shuffle(tensor_1)"
      ]
    },
    {
      "cell_type": "code",
      "execution_count": 16,
      "metadata": {
        "colab": {
          "base_uri": "https://localhost:8080/"
        },
        "id": "zrnkizMdvN5Y",
        "outputId": "89f06a73-ec96-44fb-b0db-7a864ca39277"
      },
      "outputs": [
        {
          "output_type": "execute_result",
          "data": {
            "text/plain": [
              "<tf.Tensor: shape=(3, 4), dtype=int32, numpy=\n",
              "array([[ 1,  3,  5,  7],\n",
              "       [ 8,  9, 10, 11],\n",
              "       [ 1,  2,  3,  4]], dtype=int32)>"
            ]
          },
          "metadata": {},
          "execution_count": 16
        }
      ],
      "source": [
        "tf.random.shuffle(tensor_1)"
      ]
    },
    {
      "cell_type": "code",
      "execution_count": 17,
      "metadata": {
        "colab": {
          "base_uri": "https://localhost:8080/"
        },
        "id": "csZhCivNvN22",
        "outputId": "59bef548-a9eb-4e67-8584-01e5838f085b"
      },
      "outputs": [
        {
          "output_type": "execute_result",
          "data": {
            "text/plain": [
              "<tf.Tensor: shape=(3, 4), dtype=int32, numpy=\n",
              "array([[ 1,  3,  5,  7],\n",
              "       [ 8,  9, 10, 11],\n",
              "       [ 1,  2,  3,  4]], dtype=int32)>"
            ]
          },
          "metadata": {},
          "execution_count": 17
        }
      ],
      "source": [
        "# To ensure reproducibility, set global and operational level seed\n",
        "tf.random.set_seed(RANDOM_STATE) # global level seed \n",
        "tf.random.shuffle(tensor_1, seed=RANDOM_STATE) # operational level seed"
      ]
    },
    {
      "cell_type": "code",
      "execution_count": 18,
      "metadata": {
        "colab": {
          "base_uri": "https://localhost:8080/"
        },
        "id": "RlwM6LpwvN0p",
        "outputId": "974f222c-2e1d-4a8d-ed30-34a501bff125"
      },
      "outputs": [
        {
          "output_type": "execute_result",
          "data": {
            "text/plain": [
              "<tf.Tensor: shape=(3, 4), dtype=int32, numpy=\n",
              "array([[ 8,  9, 10, 11],\n",
              "       [ 1,  3,  5,  7],\n",
              "       [ 1,  2,  3,  4]], dtype=int32)>"
            ]
          },
          "metadata": {},
          "execution_count": 18
        }
      ],
      "source": [
        "tf.random.shuffle(tensor_1, seed=RANDOM_STATE)"
      ]
    },
    {
      "cell_type": "markdown",
      "metadata": {
        "id": "pRDrdzsDvNxx"
      },
      "source": [
        "### Other Ways of Creating Tensors\n",
        "\n",
        "* tf.ones()\n",
        "* tf.zeros()"
      ]
    },
    {
      "cell_type": "code",
      "execution_count": 19,
      "metadata": {
        "colab": {
          "base_uri": "https://localhost:8080/"
        },
        "id": "YjCe89whvNvL",
        "outputId": "c7bce6b7-a8e6-49ef-eec9-5202e529b79e"
      },
      "outputs": [
        {
          "output_type": "execute_result",
          "data": {
            "text/plain": [
              "<tf.Tensor: shape=(2, 3), dtype=float32, numpy=\n",
              "array([[0., 0., 0.],\n",
              "       [0., 0., 0.]], dtype=float32)>"
            ]
          },
          "metadata": {},
          "execution_count": 19
        }
      ],
      "source": [
        "# tf.zeros\n",
        "tf.zeros(shape=(2, 3))"
      ]
    },
    {
      "cell_type": "code",
      "execution_count": 20,
      "metadata": {
        "colab": {
          "base_uri": "https://localhost:8080/"
        },
        "id": "eiFN1OjVvNsN",
        "outputId": "8acc931a-9d61-47b6-b370-96116fb7633f"
      },
      "outputs": [
        {
          "output_type": "execute_result",
          "data": {
            "text/plain": [
              "<tf.Tensor: shape=(2, 3), dtype=float32, numpy=\n",
              "array([[1., 1., 1.],\n",
              "       [1., 1., 1.]], dtype=float32)>"
            ]
          },
          "metadata": {},
          "execution_count": 20
        }
      ],
      "source": [
        "# tf.ones()\n",
        "tf.ones(shape=(2, 3))"
      ]
    },
    {
      "cell_type": "markdown",
      "metadata": {
        "id": "9qnrHqrRVzcM"
      },
      "source": [
        "### Create Tensors From NumPy Arrays"
      ]
    },
    {
      "cell_type": "code",
      "execution_count": 21,
      "metadata": {
        "colab": {
          "base_uri": "https://localhost:8080/"
        },
        "id": "9-CTbVZD52g_",
        "outputId": "b24cb4dc-6d81-4f95-8b08-d266ae91a2d3"
      },
      "outputs": [
        {
          "output_type": "execute_result",
          "data": {
            "text/plain": [
              "<tf.Tensor: shape=(2, 2, 4), dtype=float16, numpy=\n",
              "array([[[ 1.,  2.,  3.,  4.],\n",
              "        [ 5.,  6.,  7.,  8.]],\n",
              "\n",
              "       [[ 9., 10., 11., 12.],\n",
              "        [13., 14., 15., 16.]]], dtype=float16)>"
            ]
          },
          "metadata": {},
          "execution_count": 21
        }
      ],
      "source": [
        "arr_A = np.arange(1, 17).reshape(2, 2, 4)\n",
        "tf_arr = tf.constant(arr_A, dtype=tf.float16)\n",
        "tf_arr"
      ]
    },
    {
      "cell_type": "code",
      "execution_count": 22,
      "metadata": {
        "colab": {
          "base_uri": "https://localhost:8080/"
        },
        "id": "7IuXGDFS52eS",
        "outputId": "4626093c-9508-436d-ffb9-4977fe8e77d1"
      },
      "outputs": [
        {
          "output_type": "execute_result",
          "data": {
            "text/plain": [
              "array([[[ 1.,  2.,  3.,  4.],\n",
              "        [ 5.,  6.,  7.,  8.]],\n",
              "\n",
              "       [[ 9., 10., 11., 12.],\n",
              "        [13., 14., 15., 16.]]], dtype=float16)"
            ]
          },
          "metadata": {},
          "execution_count": 22
        }
      ],
      "source": [
        "# Convert a tensor to NumPy array\n",
        "tf_arr.numpy()"
      ]
    },
    {
      "cell_type": "markdown",
      "metadata": {
        "id": "qff-o8jG52br"
      },
      "source": [
        "### Extracting Info From A Tensor\n",
        "\n",
        "* array.dtype\n",
        "* array.shape\n",
        "* array.ndim\n",
        "* tf.size(array)\n",
        "* indexing a tensor"
      ]
    },
    {
      "cell_type": "code",
      "execution_count": 23,
      "metadata": {
        "colab": {
          "base_uri": "https://localhost:8080/"
        },
        "id": "ky7wLbg-52ZG",
        "outputId": "16e09def-a6e5-4b7b-90da-9f816abbb856"
      },
      "outputs": [
        {
          "output_type": "execute_result",
          "data": {
            "text/plain": [
              "(TensorShape([2, 2, 4]), 3, <tf.Tensor: shape=(), dtype=int32, numpy=16>)"
            ]
          },
          "metadata": {},
          "execution_count": 23
        }
      ],
      "source": [
        "tf_arr.shape, tf_arr.ndim, tf.size(tf_arr)"
      ]
    },
    {
      "cell_type": "code",
      "execution_count": 24,
      "metadata": {
        "colab": {
          "base_uri": "https://localhost:8080/"
        },
        "id": "B-_XUNp052Wh",
        "outputId": "70c546a6-b868-4743-955e-50c2689c56d2"
      },
      "outputs": [
        {
          "output_type": "stream",
          "name": "stdout",
          "text": [
            "tf.Tensor(\n",
            "[[[ 1.  2.  3.  4.]\n",
            "  [ 5.  6.  7.  8.]]\n",
            "\n",
            " [[ 9. 10. 11. 12.]\n",
            "  [13. 14. 15. 16.]]], shape=(2, 2, 4), dtype=float16)\n",
            " ====================================================================== \n",
            "\n",
            "dtype: <dtype: 'float16'>,\n",
            "shape: (2, 2, 4), \n",
            "number of dimensions: 3, \n",
            "size of tensor: 16\n"
          ]
        }
      ],
      "source": [
        "print(tf_arr)\n",
        "print(\" ====================================================================== \")\n",
        "print(f\"\\ndtype: {tf_arr.dtype},\\nshape: {tf_arr.shape}, \\nnumber of dimensions: {tf_arr.ndim}, \\nsize of tensor: {tf.size(tf_arr)}\")"
      ]
    },
    {
      "cell_type": "code",
      "execution_count": 25,
      "metadata": {
        "colab": {
          "base_uri": "https://localhost:8080/"
        },
        "id": "FPOMtSBz52SE",
        "outputId": "ab5bea9d-e03d-4dca-908f-3e899a2c3275"
      },
      "outputs": [
        {
          "output_type": "execute_result",
          "data": {
            "text/plain": [
              "<tf.Tensor: shape=(2, 3, 4, 3), dtype=float16, numpy=\n",
              "array([[[[1., 1., 1.],\n",
              "         [1., 1., 1.],\n",
              "         [1., 1., 1.],\n",
              "         [1., 1., 1.]],\n",
              "\n",
              "        [[1., 1., 1.],\n",
              "         [1., 1., 1.],\n",
              "         [1., 1., 1.],\n",
              "         [1., 1., 1.]],\n",
              "\n",
              "        [[1., 1., 1.],\n",
              "         [1., 1., 1.],\n",
              "         [1., 1., 1.],\n",
              "         [1., 1., 1.]]],\n",
              "\n",
              "\n",
              "       [[[1., 1., 1.],\n",
              "         [1., 1., 1.],\n",
              "         [1., 1., 1.],\n",
              "         [1., 1., 1.]],\n",
              "\n",
              "        [[1., 1., 1.],\n",
              "         [1., 1., 1.],\n",
              "         [1., 1., 1.],\n",
              "         [1., 1., 1.]],\n",
              "\n",
              "        [[1., 1., 1.],\n",
              "         [1., 1., 1.],\n",
              "         [1., 1., 1.],\n",
              "         [1., 1., 1.]]]], dtype=float16)>"
            ]
          },
          "metadata": {},
          "execution_count": 25
        }
      ],
      "source": [
        "# Rank 4 Tensor\n",
        "rank_4_tensor = tf.ones((2, 3, 4, 3), dtype=tf.float16)\n",
        "rank_4_tensor\n",
        "\n",
        "# Within the Oth axis, we have 2 (smaller arrays)\n",
        "# Within the 1st axis (i.e the 2 from above), we have 3-D (3, 4, 3)\n",
        "# Within the 2nd axis (i.e the 3-D from above), we have 4 rows (4, 3)\n",
        "# Within the 3rd axis (i.e the 4 rows from above), we have 3 columns"
      ]
    },
    {
      "cell_type": "code",
      "execution_count": 26,
      "metadata": {
        "colab": {
          "base_uri": "https://localhost:8080/"
        },
        "id": "Hgm7iu6i52Pa",
        "outputId": "5f53f9c1-ee45-4233-9f2d-c99fc8b4943f"
      },
      "outputs": [
        {
          "output_type": "execute_result",
          "data": {
            "text/plain": [
              "<tf.Tensor: shape=(3, 4, 3), dtype=float16, numpy=\n",
              "array([[[1., 1., 1.],\n",
              "        [1., 1., 1.],\n",
              "        [1., 1., 1.],\n",
              "        [1., 1., 1.]],\n",
              "\n",
              "       [[1., 1., 1.],\n",
              "        [1., 1., 1.],\n",
              "        [1., 1., 1.],\n",
              "        [1., 1., 1.]],\n",
              "\n",
              "       [[1., 1., 1.],\n",
              "        [1., 1., 1.],\n",
              "        [1., 1., 1.],\n",
              "        [1., 1., 1.]]], dtype=float16)>"
            ]
          },
          "metadata": {},
          "execution_count": 26
        }
      ],
      "source": [
        "# Oth \n",
        "rank_4_tensor[0]"
      ]
    },
    {
      "cell_type": "code",
      "execution_count": 27,
      "metadata": {
        "colab": {
          "base_uri": "https://localhost:8080/"
        },
        "id": "4xkAxhpOAXzC",
        "outputId": "5cec1a5a-2d60-4b0d-c9fa-f2f9b7fc193e"
      },
      "outputs": [
        {
          "output_type": "execute_result",
          "data": {
            "text/plain": [
              "<tf.Tensor: shape=(2, 3, 4, 3), dtype=float16, numpy=\n",
              "array([[[[ 7.,  6., 10.],\n",
              "         [ 3.,  9.,  8.],\n",
              "         [ 8.,  5.,  5.],\n",
              "         [ 4.,  5., 10.]],\n",
              "\n",
              "        [[11.,  8.,  3.],\n",
              "         [ 9.,  9.,  2.],\n",
              "         [ 6.,  4.,  9.],\n",
              "         [ 3.,  5.,  8.]],\n",
              "\n",
              "        [[ 5.,  8.,  8.],\n",
              "         [ 7.,  4.,  7.],\n",
              "         [ 6.,  2.,  6.],\n",
              "         [ 2.,  8.,  5.]]],\n",
              "\n",
              "\n",
              "       [[[ 5., 10.,  7.],\n",
              "         [ 5., 11., 10.],\n",
              "         [ 5.,  6.,  7.],\n",
              "         [ 5.,  9.,  3.]],\n",
              "\n",
              "        [[11.,  8., 10.],\n",
              "         [ 2.,  6.,  6.],\n",
              "         [10., 11.,  5.],\n",
              "         [ 4.,  6.,  5.]],\n",
              "\n",
              "        [[ 8.,  6.,  2.],\n",
              "         [11.,  9.,  5.],\n",
              "         [11.,  5.,  6.],\n",
              "         [ 6.,  8.,  2.]]]], dtype=float16)>"
            ]
          },
          "metadata": {},
          "execution_count": 27
        }
      ],
      "source": [
        "arr = np.random.randint(2, 12, size=(2, 3, 4, 3))\n",
        "rank_4_tensor = tf.constant(arr, dtype=tf.float16)\n",
        "rank_4_tensor"
      ]
    },
    {
      "cell_type": "code",
      "execution_count": 28,
      "metadata": {
        "colab": {
          "base_uri": "https://localhost:8080/"
        },
        "id": "kHpPTmcT52NF",
        "outputId": "0f3483f0-a8d9-4ebe-bcfa-1cfd23a57f53"
      },
      "outputs": [
        {
          "output_type": "execute_result",
          "data": {
            "text/plain": [
              "<tf.Tensor: shape=(3, 4, 3), dtype=float16, numpy=\n",
              "array([[[ 7.,  6., 10.],\n",
              "        [ 3.,  9.,  8.],\n",
              "        [ 8.,  5.,  5.],\n",
              "        [ 4.,  5., 10.]],\n",
              "\n",
              "       [[11.,  8.,  3.],\n",
              "        [ 9.,  9.,  2.],\n",
              "        [ 6.,  4.,  9.],\n",
              "        [ 3.,  5.,  8.]],\n",
              "\n",
              "       [[ 5.,  8.,  8.],\n",
              "        [ 7.,  4.,  7.],\n",
              "        [ 6.,  2.,  6.],\n",
              "        [ 2.,  8.,  5.]]], dtype=float16)>"
            ]
          },
          "metadata": {},
          "execution_count": 28
        }
      ],
      "source": [
        "# 0th index of the 0th axis\n",
        "rank_4_tensor[0]"
      ]
    },
    {
      "cell_type": "code",
      "execution_count": 29,
      "metadata": {
        "colab": {
          "base_uri": "https://localhost:8080/"
        },
        "id": "QSTvcE_-52Kf",
        "outputId": "cb9dc449-cade-452e-bf5f-b4b4a543c126"
      },
      "outputs": [
        {
          "output_type": "execute_result",
          "data": {
            "text/plain": [
              "<tf.Tensor: shape=(3, 4, 3), dtype=float16, numpy=\n",
              "array([[[ 5., 10.,  7.],\n",
              "        [ 5., 11., 10.],\n",
              "        [ 5.,  6.,  7.],\n",
              "        [ 5.,  9.,  3.]],\n",
              "\n",
              "       [[11.,  8., 10.],\n",
              "        [ 2.,  6.,  6.],\n",
              "        [10., 11.,  5.],\n",
              "        [ 4.,  6.,  5.]],\n",
              "\n",
              "       [[ 8.,  6.,  2.],\n",
              "        [11.,  9.,  5.],\n",
              "        [11.,  5.,  6.],\n",
              "        [ 6.,  8.,  2.]]], dtype=float16)>"
            ]
          },
          "metadata": {},
          "execution_count": 29
        }
      ],
      "source": [
        "# 1st index of the 0th axis\n",
        "rank_4_tensor[1]"
      ]
    },
    {
      "cell_type": "code",
      "execution_count": 30,
      "metadata": {
        "colab": {
          "base_uri": "https://localhost:8080/"
        },
        "id": "dHAIWRaN52Gj",
        "outputId": "6ef48342-89d4-4c5f-8b82-f8cecb12b205"
      },
      "outputs": [
        {
          "output_type": "execute_result",
          "data": {
            "text/plain": [
              "<tf.Tensor: shape=(4, 3), dtype=float16, numpy=\n",
              "array([[11.,  8.,  3.],\n",
              "       [ 9.,  9.,  2.],\n",
              "       [ 6.,  4.,  9.],\n",
              "       [ 3.,  5.,  8.]], dtype=float16)>"
            ]
          },
          "metadata": {},
          "execution_count": 30
        }
      ],
      "source": [
        "# 0th index of the 0th axis and 1st index of the 1st axis\n",
        "rank_4_tensor[0, 1]"
      ]
    },
    {
      "cell_type": "code",
      "execution_count": 31,
      "metadata": {
        "colab": {
          "base_uri": "https://localhost:8080/"
        },
        "id": "p0gaN0Sc52D8",
        "outputId": "e648dee1-30fe-4861-a944-acfeab12725b"
      },
      "outputs": [
        {
          "output_type": "execute_result",
          "data": {
            "text/plain": [
              "<tf.Tensor: shape=(3,), dtype=float16, numpy=array([11.,  8.,  3.], dtype=float16)>"
            ]
          },
          "metadata": {},
          "execution_count": 31
        }
      ],
      "source": [
        "# 0th index of the 0th axis\n",
        "rank_4_tensor[0, 1, 0]"
      ]
    },
    {
      "cell_type": "code",
      "execution_count": 32,
      "metadata": {
        "colab": {
          "base_uri": "https://localhost:8080/"
        },
        "id": "I-8O3mxX52BX",
        "outputId": "86ab5515-4489-46dd-ab75-a6c97864c116"
      },
      "outputs": [
        {
          "output_type": "execute_result",
          "data": {
            "text/plain": [
              "<tf.Tensor: shape=(2, 3, 3), dtype=float16, numpy=\n",
              "array([[[ 8.,  5.,  5.],\n",
              "        [ 6.,  4.,  9.],\n",
              "        [ 6.,  2.,  6.]],\n",
              "\n",
              "       [[ 5.,  6.,  7.],\n",
              "        [10., 11.,  5.],\n",
              "        [11.,  5.,  6.]]], dtype=float16)>"
            ]
          },
          "metadata": {},
          "execution_count": 32
        }
      ],
      "source": [
        "# Extract all the 2nd index from the tensor\n",
        "rank_4_tensor[:, :, 2]"
      ]
    },
    {
      "cell_type": "code",
      "execution_count": 33,
      "metadata": {
        "colab": {
          "base_uri": "https://localhost:8080/"
        },
        "id": "1enJGa3Q5186",
        "outputId": "2f525373-0151-41db-d7f6-5acbc6e663c8"
      },
      "outputs": [
        {
          "output_type": "execute_result",
          "data": {
            "text/plain": [
              "array([[[[ 7,  6, 10],\n",
              "         [ 3,  9,  8],\n",
              "         [ 8,  5,  5],\n",
              "         [ 4,  5, 10]],\n",
              "\n",
              "        [[11,  8,  3],\n",
              "         [ 9,  9,  2],\n",
              "         [ 6,  4,  9],\n",
              "         [ 3,  5,  8]],\n",
              "\n",
              "        [[ 5,  8,  8],\n",
              "         [ 7,  4,  7],\n",
              "         [ 6,  2,  6],\n",
              "         [ 2,  8,  5]]],\n",
              "\n",
              "\n",
              "       [[[ 5, 10,  7],\n",
              "         [ 5, 11, 10],\n",
              "         [ 5,  6,  7],\n",
              "         [ 5,  9,  3]],\n",
              "\n",
              "        [[11,  8, 10],\n",
              "         [ 2,  6,  6],\n",
              "         [10, 11,  5],\n",
              "         [ 4,  6,  5]],\n",
              "\n",
              "        [[ 8,  6,  2],\n",
              "         [11,  9,  5],\n",
              "         [11,  5,  6],\n",
              "         [ 6,  8,  2]]]])"
            ]
          },
          "metadata": {},
          "execution_count": 33
        }
      ],
      "source": [
        "arr"
      ]
    },
    {
      "cell_type": "code",
      "execution_count": 34,
      "metadata": {
        "colab": {
          "base_uri": "https://localhost:8080/"
        },
        "id": "XTHnXo9w516U",
        "outputId": "c3826afb-d0f2-49f7-db93-20aba125150f"
      },
      "outputs": [
        {
          "output_type": "execute_result",
          "data": {
            "text/plain": [
              "array([[[ 4,  5,  6],\n",
              "        [ 7,  8,  9],\n",
              "        [10, 11, 12]],\n",
              "\n",
              "       [[13, 14, 15],\n",
              "        [16, 17, 18],\n",
              "        [19, 20, 21]]])"
            ]
          },
          "metadata": {},
          "execution_count": 34
        }
      ],
      "source": [
        "arr_1 = np.arange(4, 22).reshape(2, 3, 3)\n",
        "arr_1"
      ]
    },
    {
      "cell_type": "code",
      "execution_count": 35,
      "metadata": {
        "colab": {
          "base_uri": "https://localhost:8080/"
        },
        "id": "uMmwR49d513M",
        "outputId": "46d75424-5850-4e2e-a4af-ea7c36596189"
      },
      "outputs": [
        {
          "output_type": "execute_result",
          "data": {
            "text/plain": [
              "array([ 4,  8, 12])"
            ]
          },
          "metadata": {},
          "execution_count": 35
        }
      ],
      "source": [
        "a = arr_1[0]\n",
        "a[[0,1,2], [0,1,2]]"
      ]
    },
    {
      "cell_type": "code",
      "execution_count": 36,
      "metadata": {
        "colab": {
          "base_uri": "https://localhost:8080/"
        },
        "id": "eb1i2X81510H",
        "outputId": "1127e3d0-ca9e-4898-8392-d20e503eca51"
      },
      "outputs": [
        {
          "output_type": "execute_result",
          "data": {
            "text/plain": [
              "<tf.Tensor: shape=(2, 3, 4, 3), dtype=float16, numpy=\n",
              "array([[[[ 7.,  6., 10.],\n",
              "         [ 3.,  9.,  8.],\n",
              "         [ 8.,  5.,  5.],\n",
              "         [ 4.,  5., 10.]],\n",
              "\n",
              "        [[11.,  8.,  3.],\n",
              "         [ 9.,  9.,  2.],\n",
              "         [ 6.,  4.,  9.],\n",
              "         [ 3.,  5.,  8.]],\n",
              "\n",
              "        [[ 5.,  8.,  8.],\n",
              "         [ 7.,  4.,  7.],\n",
              "         [ 6.,  2.,  6.],\n",
              "         [ 2.,  8.,  5.]]],\n",
              "\n",
              "\n",
              "       [[[ 5., 10.,  7.],\n",
              "         [ 5., 11., 10.],\n",
              "         [ 5.,  6.,  7.],\n",
              "         [ 5.,  9.,  3.]],\n",
              "\n",
              "        [[11.,  8., 10.],\n",
              "         [ 2.,  6.,  6.],\n",
              "         [10., 11.,  5.],\n",
              "         [ 4.,  6.,  5.]],\n",
              "\n",
              "        [[ 8.,  6.,  2.],\n",
              "         [11.,  9.,  5.],\n",
              "         [11.,  5.,  6.],\n",
              "         [ 6.,  8.,  2.]]]], dtype=float16)>"
            ]
          },
          "metadata": {},
          "execution_count": 36
        }
      ],
      "source": [
        "rank_4_tensor"
      ]
    },
    {
      "cell_type": "code",
      "execution_count": 37,
      "metadata": {
        "colab": {
          "base_uri": "https://localhost:8080/"
        },
        "id": "N6Uz3MWY51ua",
        "outputId": "03dfb7a0-d9d1-4698-c5a8-448683e6be58"
      },
      "outputs": [
        {
          "output_type": "execute_result",
          "data": {
            "text/plain": [
              "<tf.Tensor: shape=(2, 2, 2, 2), dtype=float16, numpy=\n",
              "array([[[[ 7.,  6.],\n",
              "         [ 3.,  9.]],\n",
              "\n",
              "        [[11.,  8.],\n",
              "         [ 9.,  9.]]],\n",
              "\n",
              "\n",
              "       [[[ 5., 10.],\n",
              "         [ 5., 11.]],\n",
              "\n",
              "        [[11.,  8.],\n",
              "         [ 2.,  6.]]]], dtype=float16)>"
            ]
          },
          "metadata": {},
          "execution_count": 37
        }
      ],
      "source": [
        "# Get the first 2 elements in each dimension\n",
        "rank_4_tensor[:2, :2, :2, :2]"
      ]
    },
    {
      "cell_type": "markdown",
      "metadata": {
        "id": "4145zrwYs_8V"
      },
      "source": [
        "### Add Extra Dimension\n",
        "\n",
        "* tensor[.., tf.newaxis]\n",
        "* tf.expand_dims()\n",
        "\n",
        "```python\n",
        "tensor[.., tf.newaxis]\n",
        "tf.expand_dims()\n",
        "```"
      ]
    },
    {
      "cell_type": "code",
      "execution_count": 38,
      "metadata": {
        "colab": {
          "base_uri": "https://localhost:8080/"
        },
        "id": "Q64WMrrM51om",
        "outputId": "dbacbfbe-7855-4a3b-d855-0740992ca2b6"
      },
      "outputs": [
        {
          "output_type": "execute_result",
          "data": {
            "text/plain": [
              "<tf.Tensor: shape=(2, 2), dtype=int32, numpy=\n",
              "array([[ 2,  4],\n",
              "       [ 8, 10]], dtype=int32)>"
            ]
          },
          "metadata": {},
          "execution_count": 38
        }
      ],
      "source": [
        "tensor_1 = tf.constant([[2, 4], [8, 10]])\n",
        "tensor_1"
      ]
    },
    {
      "cell_type": "code",
      "execution_count": 39,
      "metadata": {
        "colab": {
          "base_uri": "https://localhost:8080/"
        },
        "id": "9ofrNphJ51ll",
        "outputId": "95fc4d6d-7e13-411a-d5fa-8c117819e0af"
      },
      "outputs": [
        {
          "output_type": "execute_result",
          "data": {
            "text/plain": [
              "<tf.Tensor: shape=(2, 2, 1), dtype=int32, numpy=\n",
              "array([[[ 2],\n",
              "        [ 4]],\n",
              "\n",
              "       [[ 8],\n",
              "        [10]]], dtype=int32)>"
            ]
          },
          "metadata": {},
          "execution_count": 39
        }
      ],
      "source": [
        "tensor_1[..., tf.newaxis] # OR tensor_1[:, :, tf.newaxis]"
      ]
    },
    {
      "cell_type": "code",
      "execution_count": 40,
      "metadata": {
        "colab": {
          "base_uri": "https://localhost:8080/"
        },
        "id": "ygEBCO7m51i3",
        "outputId": "8504a3e9-7c14-40c0-a635-f569c1381d19"
      },
      "outputs": [
        {
          "output_type": "execute_result",
          "data": {
            "text/plain": [
              "<tf.Tensor: shape=(1, 2, 2), dtype=int32, numpy=\n",
              "array([[[ 2,  4],\n",
              "        [ 8, 10]]], dtype=int32)>"
            ]
          },
          "metadata": {},
          "execution_count": 40
        }
      ],
      "source": [
        "tensor_1[tf.newaxis, ...]"
      ]
    },
    {
      "cell_type": "code",
      "execution_count": 41,
      "metadata": {
        "colab": {
          "base_uri": "https://localhost:8080/"
        },
        "id": "x4gyLmOh51gQ",
        "outputId": "bda32de2-aa6f-4a16-aec6-58d03ac64c08"
      },
      "outputs": [
        {
          "output_type": "execute_result",
          "data": {
            "text/plain": [
              "<tf.Tensor: shape=(1, 2, 2), dtype=int32, numpy=\n",
              "array([[[ 2,  4],\n",
              "        [ 8, 10]]], dtype=int32)>"
            ]
          },
          "metadata": {},
          "execution_count": 41
        }
      ],
      "source": [
        "tf.expand_dims(tensor_1, axis=0)"
      ]
    },
    {
      "cell_type": "markdown",
      "metadata": {
        "id": "hXeWEow5slac"
      },
      "source": [
        "# Adding New Dimensions\n",
        "\n",
        "* tf.expand_dims()\n"
      ]
    },
    {
      "cell_type": "code",
      "execution_count": 42,
      "metadata": {
        "colab": {
          "base_uri": "https://localhost:8080/"
        },
        "id": "aN44iFOc51dH",
        "outputId": "c32741a8-c88a-4d46-f093-74012d426dd1"
      },
      "outputs": [
        {
          "output_type": "execute_result",
          "data": {
            "text/plain": [
              "<tf.Tensor: shape=(2, 1, 2), dtype=int32, numpy=\n",
              "array([[[ 2,  4]],\n",
              "\n",
              "       [[ 8, 10]]], dtype=int32)>"
            ]
          },
          "metadata": {},
          "execution_count": 42
        }
      ],
      "source": [
        "tf.expand_dims(tensor_1, axis=1)"
      ]
    },
    {
      "cell_type": "code",
      "execution_count": 43,
      "metadata": {
        "colab": {
          "base_uri": "https://localhost:8080/"
        },
        "id": "qfJ-ZyuX51aQ",
        "outputId": "7d92c701-100e-4faf-aebc-2523cb0ea47f"
      },
      "outputs": [
        {
          "output_type": "execute_result",
          "data": {
            "text/plain": [
              "<tf.Tensor: shape=(2, 2, 1), dtype=int32, numpy=\n",
              "array([[[ 2],\n",
              "        [ 4]],\n",
              "\n",
              "       [[ 8],\n",
              "        [10]]], dtype=int32)>"
            ]
          },
          "metadata": {},
          "execution_count": 43
        }
      ],
      "source": [
        "tf.expand_dims(tensor_1, axis=2)"
      ]
    },
    {
      "cell_type": "markdown",
      "source": [
        "### Manipulating Tensors With Basic Operations\n",
        "\n",
        "> Element-wise operations.\n",
        "\n",
        "* Addition\n",
        "* Subtraction\n",
        "* Multiplication\n",
        "* Division"
      ],
      "metadata": {
        "id": "5-bwezYt7Uee"
      }
    },
    {
      "cell_type": "code",
      "execution_count": 44,
      "metadata": {
        "id": "ojtHQU_C51XX",
        "colab": {
          "base_uri": "https://localhost:8080/"
        },
        "outputId": "d1ff2c19-07b1-4d72-dea3-4c8e6f675338"
      },
      "outputs": [
        {
          "output_type": "execute_result",
          "data": {
            "text/plain": [
              "<tf.Tensor: shape=(2, 2), dtype=int32, numpy=\n",
              "array([[ 2,  4],\n",
              "       [ 8, 10]], dtype=int32)>"
            ]
          },
          "metadata": {},
          "execution_count": 44
        }
      ],
      "source": [
        "tensor_1"
      ]
    },
    {
      "cell_type": "code",
      "execution_count": 45,
      "metadata": {
        "id": "ng4cGCDj51TB",
        "colab": {
          "base_uri": "https://localhost:8080/"
        },
        "outputId": "79132b17-9886-4d5a-fbaa-3baa162d05d8"
      },
      "outputs": [
        {
          "output_type": "execute_result",
          "data": {
            "text/plain": [
              "<tf.Tensor: shape=(2, 2), dtype=int32, numpy=\n",
              "array([[12, 14],\n",
              "       [18, 20]], dtype=int32)>"
            ]
          },
          "metadata": {},
          "execution_count": 45
        }
      ],
      "source": [
        "# Addition (Broadcasting)\n",
        "tensor_1 + 10"
      ]
    },
    {
      "cell_type": "code",
      "execution_count": 46,
      "metadata": {
        "id": "WNpd5NU251QF",
        "colab": {
          "base_uri": "https://localhost:8080/"
        },
        "outputId": "4c654be9-ef02-425f-b410-271f6b5ec979"
      },
      "outputs": [
        {
          "output_type": "execute_result",
          "data": {
            "text/plain": [
              "(<tf.Tensor: shape=(2, 2), dtype=int32, numpy=\n",
              " array([[-8, -6],\n",
              "        [-2,  0]], dtype=int32)>, <tf.Tensor: shape=(2, 2), dtype=int32, numpy=\n",
              " array([[ 20,  40],\n",
              "        [ 80, 100]], dtype=int32)>)"
            ]
          },
          "metadata": {},
          "execution_count": 46
        }
      ],
      "source": [
        "# Subtraction, Multiplcation (Broadcasting)\n",
        "tensor_1 - 10, tensor_1 * 10,"
      ]
    },
    {
      "cell_type": "code",
      "execution_count": 47,
      "metadata": {
        "id": "K_qUFAdp51NM",
        "colab": {
          "base_uri": "https://localhost:8080/"
        },
        "outputId": "2dc023c2-ab8a-4892-d0b9-8b90088aec06"
      },
      "outputs": [
        {
          "output_type": "execute_result",
          "data": {
            "text/plain": [
              "<tf.Tensor: shape=(2, 2), dtype=int32, numpy=\n",
              "array([[12, 14],\n",
              "       [18, 20]], dtype=int32)>"
            ]
          },
          "metadata": {},
          "execution_count": 47
        }
      ],
      "source": [
        "tf.add(tensor_1, 10)"
      ]
    },
    {
      "cell_type": "markdown",
      "source": [
        "### Matrix Multiplcation\n",
        "\n",
        "* Check this interactive matrix multiplication [website](https://matrixmultiplication.xyz)"
      ],
      "metadata": {
        "id": "CQFBHAch8FEl"
      }
    },
    {
      "cell_type": "code",
      "execution_count": 48,
      "metadata": {
        "id": "M9FFUzfoVzcM",
        "colab": {
          "base_uri": "https://localhost:8080/"
        },
        "outputId": "0a2ab4e2-3bc8-4047-a450-f85ec05deb78"
      },
      "outputs": [
        {
          "output_type": "execute_result",
          "data": {
            "text/plain": [
              "(TensorShape([2, 3]), TensorShape([2, 3]))"
            ]
          },
          "metadata": {},
          "execution_count": 48
        }
      ],
      "source": [
        "tensor_1 = tf.constant([[1, 2, 3], [5, 6, 7]])\n",
        "tensor_2 = tf.constant([[-3, 15, 1], [4, 9, 0]])\n",
        "tensor_1.shape, tensor_2.shape "
      ]
    },
    {
      "cell_type": "markdown",
      "source": [
        "* The tensors must have equal inner dimensions before dot product can be performed. \\\n",
        "e.g (a, b) . (b, c) \\\n",
        "The result has a shape of (a, b)\n"
      ],
      "metadata": {
        "id": "MWEcMK5M9X4X"
      }
    },
    {
      "cell_type": "code",
      "source": [
        "# Reshape one of the matrixes before you can perform matrix multiplcation\n",
        "tf.matmul(tensor_1, tf.transpose(tensor_2))"
      ],
      "metadata": {
        "colab": {
          "base_uri": "https://localhost:8080/"
        },
        "id": "QvIsM4jm9EmG",
        "outputId": "3958db2e-218c-499f-989b-98c15e48436e"
      },
      "execution_count": 49,
      "outputs": [
        {
          "output_type": "execute_result",
          "data": {
            "text/plain": [
              "<tf.Tensor: shape=(2, 2), dtype=int32, numpy=\n",
              "array([[30, 22],\n",
              "       [82, 74]], dtype=int32)>"
            ]
          },
          "metadata": {},
          "execution_count": 49
        }
      ]
    },
    {
      "cell_type": "markdown",
      "source": [
        "#### You can also reshape one of the tensors into an appropriate shape"
      ],
      "metadata": {
        "id": "yAwZ9Ok5EMCe"
      }
    },
    {
      "cell_type": "code",
      "source": [
        "# (3, 3) . (2, 3)\n",
        "tf.matmul(tf.reshape(tensor_1, shape=(3, 2)), tensor_2)"
      ],
      "metadata": {
        "colab": {
          "base_uri": "https://localhost:8080/"
        },
        "id": "VYGFL_oP9EjM",
        "outputId": "4b374237-5071-4067-a67b-f7a99a5d6bd2"
      },
      "execution_count": 50,
      "outputs": [
        {
          "output_type": "execute_result",
          "data": {
            "text/plain": [
              "<tf.Tensor: shape=(3, 3), dtype=int32, numpy=\n",
              "array([[  5,  33,   1],\n",
              "       [ 11,  90,   3],\n",
              "       [ 10, 153,   6]], dtype=int32)>"
            ]
          },
          "metadata": {},
          "execution_count": 50
        }
      ]
    },
    {
      "cell_type": "code",
      "source": [
        "print(f\"Original tensor: \\n{tensor_1}, \\nTransposed tensor: \\n{tf.transpose(tensor_1)}, \\nReshaped tensor: \\n{tf.reshape(tensor_1, shape=(3, 2))}\")"
      ],
      "metadata": {
        "colab": {
          "base_uri": "https://localhost:8080/"
        },
        "id": "GStEP7Av9Ego",
        "outputId": "532f8a67-8c95-4f34-ff84-8073b28f6190"
      },
      "execution_count": 51,
      "outputs": [
        {
          "output_type": "stream",
          "name": "stdout",
          "text": [
            "Original tensor: \n",
            "[[1 2 3]\n",
            " [5 6 7]], \n",
            "Transposed tensor: \n",
            "[[1 5]\n",
            " [2 6]\n",
            " [3 7]], \n",
            "Reshaped tensor: \n",
            "[[1 2]\n",
            " [3 5]\n",
            " [6 7]]\n"
          ]
        }
      ]
    },
    {
      "cell_type": "markdown",
      "source": [
        "### Changing Data Types\n",
        "\n",
        "* tf.cast(tensor, dtype=tf.datatype)"
      ],
      "metadata": {
        "id": "vWS0N_oIGIgx"
      }
    },
    {
      "cell_type": "code",
      "source": [
        "A = tf.constant([[1., 3.], [8., -9.]])\n",
        "B = tf.constant([[-4., 3.], [2., 9.]])\n",
        "\n",
        "A, B"
      ],
      "metadata": {
        "colab": {
          "base_uri": "https://localhost:8080/"
        },
        "id": "hctrNFuR9EdJ",
        "outputId": "b1deb864-89f0-48f9-b4ce-a53460b38b5a"
      },
      "execution_count": 52,
      "outputs": [
        {
          "output_type": "execute_result",
          "data": {
            "text/plain": [
              "(<tf.Tensor: shape=(2, 2), dtype=float32, numpy=\n",
              " array([[ 1.,  3.],\n",
              "        [ 8., -9.]], dtype=float32)>,\n",
              " <tf.Tensor: shape=(2, 2), dtype=float32, numpy=\n",
              " array([[-4.,  3.],\n",
              "        [ 2.,  9.]], dtype=float32)>)"
            ]
          },
          "metadata": {},
          "execution_count": 52
        }
      ]
    },
    {
      "cell_type": "code",
      "source": [
        "tf.cast(A, dtype=tf.float16)"
      ],
      "metadata": {
        "colab": {
          "base_uri": "https://localhost:8080/"
        },
        "id": "3EBs74YA9Eak",
        "outputId": "c0ad9b62-1fb5-4ac5-ed17-a221cff3cd3e"
      },
      "execution_count": 53,
      "outputs": [
        {
          "output_type": "execute_result",
          "data": {
            "text/plain": [
              "<tf.Tensor: shape=(2, 2), dtype=float16, numpy=\n",
              "array([[ 1.,  3.],\n",
              "       [ 8., -9.]], dtype=float16)>"
            ]
          },
          "metadata": {},
          "execution_count": 53
        }
      ]
    },
    {
      "cell_type": "markdown",
      "source": [
        "### Aggregating Tensors\n",
        "\n",
        "* Min\n",
        "* Max\n",
        "* Mean\n",
        "* Sum"
      ],
      "metadata": {
        "id": "vi-oAnmVYbeb"
      }
    },
    {
      "cell_type": "code",
      "source": [
        "A"
      ],
      "metadata": {
        "colab": {
          "base_uri": "https://localhost:8080/"
        },
        "id": "1oit8AneaZgg",
        "outputId": "92d36229-d5b0-4e1d-a456-dfd93454202d"
      },
      "execution_count": 54,
      "outputs": [
        {
          "output_type": "execute_result",
          "data": {
            "text/plain": [
              "<tf.Tensor: shape=(2, 2), dtype=float32, numpy=\n",
              "array([[ 1.,  3.],\n",
              "       [ 8., -9.]], dtype=float32)>"
            ]
          },
          "metadata": {},
          "execution_count": 54
        }
      ]
    },
    {
      "cell_type": "code",
      "source": [
        "tf.math.reduce_min(A)"
      ],
      "metadata": {
        "colab": {
          "base_uri": "https://localhost:8080/"
        },
        "id": "bBluoyX_Z9EJ",
        "outputId": "f1c86c46-4286-46c3-f091-701bb80c4917"
      },
      "execution_count": 55,
      "outputs": [
        {
          "output_type": "execute_result",
          "data": {
            "text/plain": [
              "<tf.Tensor: shape=(), dtype=float32, numpy=-9.0>"
            ]
          },
          "metadata": {},
          "execution_count": 55
        }
      ]
    },
    {
      "cell_type": "code",
      "source": [
        "tf.math.reduce_min(A).numpy()"
      ],
      "metadata": {
        "colab": {
          "base_uri": "https://localhost:8080/"
        },
        "id": "i-ujk8e2Z9AL",
        "outputId": "5324c317-9803-4077-a1fc-0f35ad5b8c60"
      },
      "execution_count": 56,
      "outputs": [
        {
          "output_type": "execute_result",
          "data": {
            "text/plain": [
              "-9.0"
            ]
          },
          "metadata": {},
          "execution_count": 56
        }
      ]
    },
    {
      "cell_type": "code",
      "source": [
        "tf.math.reduce_max(A), tf.math.reduce_sum(A)"
      ],
      "metadata": {
        "colab": {
          "base_uri": "https://localhost:8080/"
        },
        "id": "MsW-hDCRaG3X",
        "outputId": "f8b05359-3753-4c90-a881-8780be21ceaf"
      },
      "execution_count": 57,
      "outputs": [
        {
          "output_type": "execute_result",
          "data": {
            "text/plain": [
              "(<tf.Tensor: shape=(), dtype=float32, numpy=8.0>,\n",
              " <tf.Tensor: shape=(), dtype=float32, numpy=3.0>)"
            ]
          },
          "metadata": {},
          "execution_count": 57
        }
      ]
    },
    {
      "cell_type": "code",
      "source": [
        "tf.math.reduce_variance(A).numpy()"
      ],
      "metadata": {
        "colab": {
          "base_uri": "https://localhost:8080/"
        },
        "id": "mL8A5ykFaG0e",
        "outputId": "9a769967-cc63-45ba-8abd-ee24c537f39d"
      },
      "execution_count": 58,
      "outputs": [
        {
          "output_type": "execute_result",
          "data": {
            "text/plain": [
              "38.1875"
            ]
          },
          "metadata": {},
          "execution_count": 58
        }
      ]
    },
    {
      "cell_type": "code",
      "source": [
        "tf.math.reduce_std(A).numpy()"
      ],
      "metadata": {
        "colab": {
          "base_uri": "https://localhost:8080/"
        },
        "id": "A3_ozsGqaGyA",
        "outputId": "f2853409-740b-4cce-950e-83fe65aa9095"
      },
      "execution_count": 59,
      "outputs": [
        {
          "output_type": "execute_result",
          "data": {
            "text/plain": [
              "6.1796036"
            ]
          },
          "metadata": {},
          "execution_count": 59
        }
      ]
    },
    {
      "cell_type": "markdown",
      "source": [
        "### Positional Maximum\n",
        "\n",
        "* tf.argmax()"
      ],
      "metadata": {
        "id": "D3RZnqnVaGr4"
      }
    },
    {
      "cell_type": "code",
      "source": [
        "tensor_1 = tf.constant(value=np.random.uniform(low=0, high=1, size=(12,)))\n",
        "\n",
        "tensor_1"
      ],
      "metadata": {
        "colab": {
          "base_uri": "https://localhost:8080/"
        },
        "id": "i7PPDoDkaGoQ",
        "outputId": "773f88f0-3084-4dce-af2f-68194ee0944d"
      },
      "execution_count": 60,
      "outputs": [
        {
          "output_type": "execute_result",
          "data": {
            "text/plain": [
              "<tf.Tensor: shape=(12,), dtype=float64, numpy=\n",
              "array([0.02049341, 0.5037543 , 0.1337863 , 0.71391527, 0.95212091,\n",
              "       0.40744755, 0.3938284 , 0.34887765, 0.37470817, 0.67591657,\n",
              "       0.50229032, 0.63163712])>"
            ]
          },
          "metadata": {},
          "execution_count": 60
        }
      ]
    },
    {
      "cell_type": "code",
      "source": [
        "# Find the argmax of tensor_1\n",
        "print(tf.argmax(tensor_1).numpy())\n",
        "\n",
        "tensor_1[tf.argmax(tensor_1)]"
      ],
      "metadata": {
        "colab": {
          "base_uri": "https://localhost:8080/"
        },
        "id": "sdVEz_KA9EOi",
        "outputId": "8ce4e2bd-63c2-4658-f995-1919fb7bf97c"
      },
      "execution_count": 61,
      "outputs": [
        {
          "output_type": "stream",
          "name": "stdout",
          "text": [
            "4\n"
          ]
        },
        {
          "output_type": "execute_result",
          "data": {
            "text/plain": [
              "<tf.Tensor: shape=(), dtype=float64, numpy=0.9521209077507361>"
            ]
          },
          "metadata": {},
          "execution_count": 61
        }
      ]
    },
    {
      "cell_type": "code",
      "source": [
        "# Verify!\n",
        "tf.math.reduce_max(tensor_1)"
      ],
      "metadata": {
        "colab": {
          "base_uri": "https://localhost:8080/"
        },
        "id": "p-u0EkA-9ELs",
        "outputId": "52d375a6-51d8-4e0d-d64a-a826214406b5"
      },
      "execution_count": 62,
      "outputs": [
        {
          "output_type": "execute_result",
          "data": {
            "text/plain": [
              "<tf.Tensor: shape=(), dtype=float64, numpy=0.9521209077507361>"
            ]
          },
          "metadata": {},
          "execution_count": 62
        }
      ]
    },
    {
      "cell_type": "code",
      "source": [
        "# Positional Minimum (tf.argmin)\n",
        "tf.argmin(tensor_1).numpy()"
      ],
      "metadata": {
        "colab": {
          "base_uri": "https://localhost:8080/"
        },
        "id": "zCNw-Js69EG1",
        "outputId": "1905d2d1-cb87-4c10-d5ec-6f9942396870"
      },
      "execution_count": 63,
      "outputs": [
        {
          "output_type": "execute_result",
          "data": {
            "text/plain": [
              "0"
            ]
          },
          "metadata": {},
          "execution_count": 63
        }
      ]
    },
    {
      "cell_type": "markdown",
      "source": [
        "### Removing All Dimensions (Squeezing)\n",
        "\n",
        "> This removes dimensions of size `1` from the shape of a tensor. e.g a tensor with shape: (1, 1, 5) becomes (5)\n",
        "\n",
        "* tf.squeeze()"
      ],
      "metadata": {
        "id": "wxfq39Os9EEM"
      }
    },
    {
      "cell_type": "code",
      "source": [
        "tensor_2 = tf.constant(value=np.random.uniform(low=0, high=1, size=(1, 1, 1, 12)))\n",
        "\n",
        "tensor_2"
      ],
      "metadata": {
        "colab": {
          "base_uri": "https://localhost:8080/"
        },
        "id": "ilkh4a9J9EBj",
        "outputId": "d94cce61-5f8c-4709-d2f1-d45f3ffcc695"
      },
      "execution_count": 64,
      "outputs": [
        {
          "output_type": "execute_result",
          "data": {
            "text/plain": [
              "<tf.Tensor: shape=(1, 1, 1, 12), dtype=float64, numpy=\n",
              "array([[[[0.80439856, 0.4256437 , 0.9826591 , 0.50408363, 0.08583492,\n",
              "          0.22746205, 0.46155544, 0.7352592 , 0.83785513, 0.16663632,\n",
              "          0.3701493 , 0.47052257]]]])>"
            ]
          },
          "metadata": {},
          "execution_count": 64
        }
      ]
    },
    {
      "cell_type": "code",
      "source": [
        "tf.size(tensor_2), tensor_2.shape"
      ],
      "metadata": {
        "colab": {
          "base_uri": "https://localhost:8080/"
        },
        "id": "OPlLw0sO9D-3",
        "outputId": "c7b0e99c-d9c6-4c85-a743-c864ff511cd9"
      },
      "execution_count": 65,
      "outputs": [
        {
          "output_type": "execute_result",
          "data": {
            "text/plain": [
              "(<tf.Tensor: shape=(), dtype=int32, numpy=12>, TensorShape([1, 1, 1, 12]))"
            ]
          },
          "metadata": {},
          "execution_count": 65
        }
      ]
    },
    {
      "cell_type": "code",
      "source": [
        "squeezed_tensor = tf.squeeze(tensor_2)\n",
        "squeezed_tensor.shape"
      ],
      "metadata": {
        "colab": {
          "base_uri": "https://localhost:8080/"
        },
        "id": "ch6duIk49D8P",
        "outputId": "b4b06da7-32df-40ac-afc5-96a423e71e95"
      },
      "execution_count": 66,
      "outputs": [
        {
          "output_type": "execute_result",
          "data": {
            "text/plain": [
              "TensorShape([12])"
            ]
          },
          "metadata": {},
          "execution_count": 66
        }
      ]
    },
    {
      "cell_type": "markdown",
      "source": [
        "### One Hot Encoding"
      ],
      "metadata": {
        "id": "eHJrRAGiM5ni"
      }
    },
    {
      "cell_type": "code",
      "source": [
        "#         \"Nigeria\",  \"Germany\",  \"USA\",  \"Canada\"\n",
        "my_list = [  0,           1,        2,       3]\n",
        "\n",
        "\n",
        "# One-hot encode the list\n",
        "tf.one_hot(my_list, depth=4)"
      ],
      "metadata": {
        "colab": {
          "base_uri": "https://localhost:8080/"
        },
        "id": "IXL88Dz-M5k7",
        "outputId": "c4ec65f7-6e88-4b55-9b2c-24feb4c882bc"
      },
      "execution_count": 67,
      "outputs": [
        {
          "output_type": "execute_result",
          "data": {
            "text/plain": [
              "<tf.Tensor: shape=(4, 4), dtype=float32, numpy=\n",
              "array([[1., 0., 0., 0.],\n",
              "       [0., 1., 0., 0.],\n",
              "       [0., 0., 1., 0.],\n",
              "       [0., 0., 0., 1.]], dtype=float32)>"
            ]
          },
          "metadata": {},
          "execution_count": 67
        }
      ]
    },
    {
      "cell_type": "code",
      "source": [
        "## Square a tensor\n",
        "T = tf.range(1, 10)\n",
        "tf.square(T)"
      ],
      "metadata": {
        "colab": {
          "base_uri": "https://localhost:8080/"
        },
        "id": "6Oku6GN_M5hr",
        "outputId": "8bf2de32-1ff2-4f3a-b241-3157014b7447"
      },
      "execution_count": 68,
      "outputs": [
        {
          "output_type": "execute_result",
          "data": {
            "text/plain": [
              "<tf.Tensor: shape=(9,), dtype=int32, numpy=array([ 1,  4,  9, 16, 25, 36, 49, 64, 81], dtype=int32)>"
            ]
          },
          "metadata": {},
          "execution_count": 68
        }
      ]
    },
    {
      "cell_type": "code",
      "source": [
        "tf.math.square(T)"
      ],
      "metadata": {
        "colab": {
          "base_uri": "https://localhost:8080/"
        },
        "id": "vVKmpZuAM5eX",
        "outputId": "e08f9d0f-3a2d-48bb-bd09-2ab9f7205464"
      },
      "execution_count": 69,
      "outputs": [
        {
          "output_type": "execute_result",
          "data": {
            "text/plain": [
              "<tf.Tensor: shape=(9,), dtype=int32, numpy=array([ 1,  4,  9, 16, 25, 36, 49, 64, 81], dtype=int32)>"
            ]
          },
          "metadata": {},
          "execution_count": 69
        }
      ]
    },
    {
      "cell_type": "code",
      "source": [
        "# Square root\n",
        "# Only floats are allowed\n",
        "T = tf.range(10)\n",
        "tf.cast(T, dtype=tf.float16)"
      ],
      "metadata": {
        "colab": {
          "base_uri": "https://localhost:8080/"
        },
        "id": "A2kxmNGOM5YW",
        "outputId": "09cd7a65-2af4-426e-8f98-240024403f3c"
      },
      "execution_count": 70,
      "outputs": [
        {
          "output_type": "execute_result",
          "data": {
            "text/plain": [
              "<tf.Tensor: shape=(10,), dtype=float16, numpy=array([0., 1., 2., 3., 4., 5., 6., 7., 8., 9.], dtype=float16)>"
            ]
          },
          "metadata": {},
          "execution_count": 70
        }
      ]
    },
    {
      "cell_type": "code",
      "source": [
        "tf.math.sqrt(tf.cast(T, dtype=tf.float16))"
      ],
      "metadata": {
        "colab": {
          "base_uri": "https://localhost:8080/"
        },
        "id": "AwTT-pBGM5VC",
        "outputId": "143cb22f-c676-46ce-f44a-5a1ded24b5c5"
      },
      "execution_count": 71,
      "outputs": [
        {
          "output_type": "execute_result",
          "data": {
            "text/plain": [
              "<tf.Tensor: shape=(10,), dtype=float16, numpy=\n",
              "array([0.   , 1.   , 1.414, 1.732, 2.   , 2.236, 2.45 , 2.646, 2.828,\n",
              "       3.   ], dtype=float16)>"
            ]
          },
          "metadata": {},
          "execution_count": 71
        }
      ]
    },
    {
      "cell_type": "code",
      "source": [
        "# Find the log\n",
        "tf.math.log(tf.cast(T, dtype=tf.float16))"
      ],
      "metadata": {
        "colab": {
          "base_uri": "https://localhost:8080/"
        },
        "id": "hMhIXnW9M5SX",
        "outputId": "92ba415a-13fa-4f72-eea7-9a2dcef80c60"
      },
      "execution_count": 72,
      "outputs": [
        {
          "output_type": "execute_result",
          "data": {
            "text/plain": [
              "<tf.Tensor: shape=(10,), dtype=float16, numpy=\n",
              "array([  -inf, 0.    , 0.6934, 1.099 , 1.387 , 1.609 , 1.792 , 1.946 ,\n",
              "       2.08  , 2.197 ], dtype=float16)>"
            ]
          },
          "metadata": {},
          "execution_count": 72
        }
      ]
    },
    {
      "cell_type": "markdown",
      "source": [
        "### Working With NumPy"
      ],
      "metadata": {
        "id": "Epqj3iycM5Pa"
      }
    },
    {
      "cell_type": "code",
      "source": [
        "T = tf.constant(np.random.uniform(size=10))\n",
        "T"
      ],
      "metadata": {
        "colab": {
          "base_uri": "https://localhost:8080/"
        },
        "id": "fIgAaeq-9D0L",
        "outputId": "13aaf8ba-15c6-4cb9-e8c2-0e3ef1bb2495"
      },
      "execution_count": 73,
      "outputs": [
        {
          "output_type": "execute_result",
          "data": {
            "text/plain": [
              "<tf.Tensor: shape=(10,), dtype=float64, numpy=\n",
              "array([0.39399763, 0.02722808, 0.48163581, 0.94645505, 0.46077315,\n",
              "       0.89774822, 0.9616575 , 0.29930087, 0.6600206 , 0.61155561])>"
            ]
          },
          "metadata": {},
          "execution_count": 73
        }
      ]
    },
    {
      "cell_type": "code",
      "source": [
        "# Convert back to NumPy\n",
        "T.numpy()"
      ],
      "metadata": {
        "colab": {
          "base_uri": "https://localhost:8080/"
        },
        "id": "XVHc7VQQ9Dxi",
        "outputId": "6e1e9db0-a5f1-4ef5-ff6c-09c320462bd1"
      },
      "execution_count": 74,
      "outputs": [
        {
          "output_type": "execute_result",
          "data": {
            "text/plain": [
              "array([0.39399763, 0.02722808, 0.48163581, 0.94645505, 0.46077315,\n",
              "       0.89774822, 0.9616575 , 0.29930087, 0.6600206 , 0.61155561])"
            ]
          },
          "metadata": {},
          "execution_count": 74
        }
      ]
    },
    {
      "cell_type": "code",
      "source": [
        "# NumPy and TensorFlow have slightly different datatypes\n",
        "H = tf.range(10)\n",
        "T = tf.constant(np.arange(10))\n",
        "\n",
        "H.dtype, T.dtype"
      ],
      "metadata": {
        "colab": {
          "base_uri": "https://localhost:8080/"
        },
        "id": "FMDf7ELDq4TX",
        "outputId": "a2898d98-f685-41a0-d389-e3413c57f713"
      },
      "execution_count": 75,
      "outputs": [
        {
          "output_type": "execute_result",
          "data": {
            "text/plain": [
              "(tf.int32, tf.int64)"
            ]
          },
          "metadata": {},
          "execution_count": 75
        }
      ]
    },
    {
      "cell_type": "code",
      "source": [
        "# Check The Physical Devices\n",
        "tf.config.list_physical_devices()"
      ],
      "metadata": {
        "colab": {
          "base_uri": "https://localhost:8080/"
        },
        "id": "nGUasfqMq4RW",
        "outputId": "b1ca1761-324f-4c23-f7e1-3d8ad8e0a7af"
      },
      "execution_count": 76,
      "outputs": [
        {
          "output_type": "execute_result",
          "data": {
            "text/plain": [
              "[PhysicalDevice(name='/physical_device:CPU:0', device_type='CPU')]"
            ]
          },
          "metadata": {},
          "execution_count": 76
        }
      ]
    },
    {
      "cell_type": "code",
      "source": [],
      "metadata": {
        "id": "vzUxuhvRq4NU"
      },
      "execution_count": 76,
      "outputs": []
    },
    {
      "cell_type": "code",
      "source": [],
      "metadata": {
        "id": "tnMb8D2Fq4Kl"
      },
      "execution_count": 76,
      "outputs": []
    },
    {
      "cell_type": "code",
      "source": [],
      "metadata": {
        "id": "0PugQ8vaq4Ht"
      },
      "execution_count": 76,
      "outputs": []
    }
  ],
  "metadata": {
    "colab": {
      "provenance": [],
      "include_colab_link": true
    },
    "kernelspec": {
      "display_name": "nlp_p310",
      "language": "python",
      "name": "python3"
    },
    "language_info": {
      "codemirror_mode": {
        "name": "ipython",
        "version": 3
      },
      "file_extension": ".py",
      "mimetype": "text/x-python",
      "name": "python",
      "nbconvert_exporter": "python",
      "pygments_lexer": "ipython3",
      "version": "3.10.9"
    },
    "orig_nbformat": 4,
    "vscode": {
      "interpreter": {
        "hash": "5c160606400bd63443fe4361c23f8347e54b6f9986e7c6d27e878f1970943f47"
      }
    }
  },
  "nbformat": 4,
  "nbformat_minor": 0
}