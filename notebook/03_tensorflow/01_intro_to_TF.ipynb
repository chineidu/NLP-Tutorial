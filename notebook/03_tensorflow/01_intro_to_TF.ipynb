{
  "cells": [
    {
      "cell_type": "markdown",
      "metadata": {
        "id": "view-in-github",
        "colab_type": "text"
      },
      "source": [
        "<a href=\"https://colab.research.google.com/github/chineidu/NLP-Tutorial/blob/main/notebook/03_tensorflow/01_intro_to_TF.ipynb\" target=\"_parent\"><img src=\"https://colab.research.google.com/assets/colab-badge.svg\" alt=\"Open In Colab\"/></a>"
      ]
    },
    {
      "cell_type": "markdown",
      "metadata": {
        "id": "RQGCV_mQVzcF"
      },
      "source": [
        "# TensorFlow Tutorial"
      ]
    },
    {
      "cell_type": "code",
      "execution_count": 1,
      "metadata": {
        "id": "LL5xn4nrVzcJ"
      },
      "outputs": [],
      "source": [
        "# Standard imports\n",
        "import numpy as np\n",
        "import tensorflow as tf\n"
      ]
    },
    {
      "cell_type": "markdown",
      "metadata": {
        "id": "2vh1mGeWVzcL"
      },
      "source": [
        "* Intro To Tensors\n",
        "* Getting info from tensors\n",
        "* Manipulating tensors\n",
        "* Tensors and NumPy\n",
        "* Using @tf.function\n",
        "* Using GPUs/TPUs with TensorFlow\n"
      ]
    },
    {
      "cell_type": "code",
      "execution_count": 2,
      "metadata": {
        "colab": {
          "base_uri": "https://localhost:8080/",
          "height": 35
        },
        "id": "P4r6y5NKVzcM",
        "outputId": "3361b185-e614-4618-98de-f55a297d7070"
      },
      "outputs": [
        {
          "output_type": "execute_result",
          "data": {
            "text/plain": [
              "'2.11.0'"
            ],
            "application/vnd.google.colaboratory.intrinsic+json": {
              "type": "string"
            }
          },
          "metadata": {},
          "execution_count": 2
        }
      ],
      "source": [
        "tf.__version__"
      ]
    },
    {
      "cell_type": "code",
      "execution_count": 3,
      "metadata": {
        "colab": {
          "base_uri": "https://localhost:8080/"
        },
        "id": "dOvNk3p-VzcM",
        "outputId": "e8a9cfb9-78ae-4512-b264-366877594905"
      },
      "outputs": [
        {
          "output_type": "stream",
          "name": "stdout",
          "text": [
            "Python 3.8.10\n"
          ]
        }
      ],
      "source": [
        "!python -V"
      ]
    },
    {
      "cell_type": "markdown",
      "metadata": {
        "id": "RE3i7F5maOsV"
      },
      "source": [
        "### Create Tensors"
      ]
    },
    {
      "cell_type": "code",
      "execution_count": 4,
      "metadata": {
        "colab": {
          "base_uri": "https://localhost:8080/"
        },
        "id": "fylDtVZPaOpQ",
        "outputId": "24bc9e14-8e80-458d-b05c-95221f73cb4d"
      },
      "outputs": [
        {
          "output_type": "execute_result",
          "data": {
            "text/plain": [
              "<tf.Tensor: shape=(4,), dtype=int32, numpy=array([1, 2, 3, 4], dtype=int32)>"
            ]
          },
          "metadata": {},
          "execution_count": 4
        }
      ],
      "source": [
        "# tf.constant\n",
        "tensor_1 = tf.constant([1,2,3,4]) # Vector\n",
        "tensor_1"
      ]
    },
    {
      "cell_type": "code",
      "execution_count": 5,
      "metadata": {
        "colab": {
          "base_uri": "https://localhost:8080/"
        },
        "id": "agDcFn70aOmX",
        "outputId": "4080a754-9c01-45bb-b977-93da0d99cf88"
      },
      "outputs": [
        {
          "output_type": "execute_result",
          "data": {
            "text/plain": [
              "(TensorShape([4]), 1)"
            ]
          },
          "metadata": {},
          "execution_count": 5
        }
      ],
      "source": [
        "tensor_1.shape, tensor_1.ndim"
      ]
    },
    {
      "cell_type": "code",
      "execution_count": 6,
      "metadata": {
        "colab": {
          "base_uri": "https://localhost:8080/"
        },
        "id": "ZGHg6bSGaOjl",
        "outputId": "a782f8d5-5bbf-4a51-8288-37fd6b3d1cc3"
      },
      "outputs": [
        {
          "output_type": "execute_result",
          "data": {
            "text/plain": [
              "(<tf.Tensor: shape=(2, 4), dtype=float16, numpy=\n",
              " array([[1., 2., 3., 4.],\n",
              "        [5., 6., 7., 8.]], dtype=float16)>, TensorShape([2, 4]), 2)"
            ]
          },
          "metadata": {},
          "execution_count": 6
        }
      ],
      "source": [
        "tensor_2 = tf.constant([[1,2,3,4], [5,6,7,8]], dtype=tf.float16) # Matrix\n",
        "tensor_2, tensor_2.shape, tensor_2.ndim"
      ]
    },
    {
      "cell_type": "code",
      "execution_count": 7,
      "metadata": {
        "colab": {
          "base_uri": "https://localhost:8080/"
        },
        "id": "RT7SzKwPaOgG",
        "outputId": "99d759fe-ccc1-4cc3-c5c8-f51107769475"
      },
      "outputs": [
        {
          "output_type": "execute_result",
          "data": {
            "text/plain": [
              "<tf.Tensor: shape=(1, 3, 3), dtype=float16, numpy=\n",
              "array([[[1., 2., 3.],\n",
              "        [4., 5., 6.],\n",
              "        [7., 8., 9.]]], dtype=float16)>"
            ]
          },
          "metadata": {},
          "execution_count": 7
        }
      ],
      "source": [
        "tensor_3 = tf.constant([[[1,2,3], [4,5,6], [7, 8, 9]]], dtype=tf.float16) # Tensor\n",
        "tensor_3"
      ]
    },
    {
      "cell_type": "code",
      "execution_count": 8,
      "metadata": {
        "colab": {
          "base_uri": "https://localhost:8080/"
        },
        "id": "CNKdTOuDaOc9",
        "outputId": "709fb6a5-255f-4faa-ccb0-120aafeaa533"
      },
      "outputs": [
        {
          "output_type": "execute_result",
          "data": {
            "text/plain": [
              "(TensorShape([1, 3, 3]), 3)"
            ]
          },
          "metadata": {},
          "execution_count": 8
        }
      ],
      "source": [
        "tensor_3.shape, tensor_3.ndim"
      ]
    },
    {
      "cell_type": "code",
      "execution_count": 9,
      "metadata": {
        "colab": {
          "base_uri": "https://localhost:8080/"
        },
        "id": "hyXnjpRiaOXL",
        "outputId": "0eb8c577-04ad-4733-f1c7-d544ad0237d5"
      },
      "outputs": [
        {
          "output_type": "execute_result",
          "data": {
            "text/plain": [
              "<tf.Tensor: shape=(2, 3, 3), dtype=int32, numpy=\n",
              "array([[[ 1,  2,  3],\n",
              "        [ 4,  5,  6],\n",
              "        [ 7,  8,  9]],\n",
              "\n",
              "       [[10, 11, 12],\n",
              "        [13, 14, 15],\n",
              "        [16, 17, 18]]], dtype=int32)>"
            ]
          },
          "metadata": {},
          "execution_count": 9
        }
      ],
      "source": [
        "tensor_4 = tf.constant([[[1,2,3], [4,5,6], [7,8,9]], [[10,11,12], [13,14,15], [16,17, 18]]])\n",
        "tensor_4"
      ]
    },
    {
      "cell_type": "markdown",
      "metadata": {
        "id": "RNwj794eaOUT"
      },
      "source": [
        "### Creating Tensors Using tf.Variable"
      ]
    },
    {
      "cell_type": "code",
      "execution_count": 10,
      "metadata": {
        "colab": {
          "base_uri": "https://localhost:8080/"
        },
        "id": "DySYwNDgvN-2",
        "outputId": "a682b591-be19-476f-a686-f0c9a62704c5"
      },
      "outputs": [
        {
          "output_type": "execute_result",
          "data": {
            "text/plain": [
              "<tf.Variable 'Variable:0' shape=(4,) dtype=int32, numpy=array([1, 2, 3, 4], dtype=int32)>"
            ]
          },
          "metadata": {},
          "execution_count": 10
        }
      ],
      "source": [
        "# tf.constant\n",
        "changeable_tensor_1 = tf.Variable([1,2,3,4]) # Vector\n",
        "changeable_tensor_1"
      ]
    },
    {
      "cell_type": "code",
      "execution_count": 11,
      "metadata": {
        "colab": {
          "base_uri": "https://localhost:8080/"
        },
        "id": "6LfrApa9vN8P",
        "outputId": "8fe4cade-75b3-49af-c43d-072030d627dc"
      },
      "outputs": [
        {
          "output_type": "execute_result",
          "data": {
            "text/plain": [
              "<tf.Variable 'UnreadVariable' shape=(4,) dtype=int32, numpy=array([-2,  2,  3,  4], dtype=int32)>"
            ]
          },
          "metadata": {},
          "execution_count": 11
        }
      ],
      "source": [
        "# Change an element in the tensor (Only possible for tensors created using tf.Variable)\n",
        "changeable_tensor_1[0].assign(-2)"
      ]
    },
    {
      "cell_type": "code",
      "execution_count": 12,
      "metadata": {
        "colab": {
          "base_uri": "https://localhost:8080/"
        },
        "id": "KdV-5XShvRKw",
        "outputId": "8442bfe8-e51b-499c-cd8e-421f2d0a00c4"
      },
      "outputs": [
        {
          "output_type": "execute_result",
          "data": {
            "text/plain": [
              "<tf.Variable 'Variable:0' shape=(4,) dtype=int32, numpy=array([-2,  2,  3,  4], dtype=int32)>"
            ]
          },
          "metadata": {},
          "execution_count": 12
        }
      ],
      "source": [
        " changeable_tensor_1"
      ]
    },
    {
      "cell_type": "markdown",
      "metadata": {
        "id": "5ynTBDkPy6yX"
      },
      "source": [
        "### Creating Random Tensors"
      ]
    },
    {
      "cell_type": "code",
      "execution_count": 13,
      "metadata": {
        "colab": {
          "base_uri": "https://localhost:8080/"
        },
        "id": "qmqkPTwNvRG3",
        "outputId": "3032a4cd-ef66-4214-aa41-e5443c1735d6"
      },
      "outputs": [
        {
          "output_type": "execute_result",
          "data": {
            "text/plain": [
              "<tf.Tensor: shape=(2, 2), dtype=float16, numpy=\n",
              "array([[0.8076, 0.793 ],\n",
              "       [0.4648, 0.2275]], dtype=float16)>"
            ]
          },
          "metadata": {},
          "execution_count": 13
        }
      ],
      "source": [
        "RANDOM_STATE = 123\n",
        "rng = tf.random.Generator.from_seed(RANDOM_STATE)\n",
        "\n",
        "random_tensor_1 = rng.uniform(shape=(2, 2), dtype=tf.float16)\n",
        "random_tensor_1"
      ]
    },
    {
      "cell_type": "code",
      "execution_count": 14,
      "metadata": {
        "colab": {
          "base_uri": "https://localhost:8080/"
        },
        "id": "ytnk7JFqvREh",
        "outputId": "db0ff2f2-1d5e-4c7a-d90c-77362749143e"
      },
      "outputs": [
        {
          "output_type": "execute_result",
          "data": {
            "text/plain": [
              "<tf.Tensor: shape=(2, 2), dtype=float32, numpy=\n",
              "array([[ 0.46618396, -0.03461919],\n",
              "       [ 0.6538919 , -0.8194663 ]], dtype=float32)>"
            ]
          },
          "metadata": {},
          "execution_count": 14
        }
      ],
      "source": [
        "random_tensor_2 = rng.normal(shape=(2,2))\n",
        "random_tensor_2"
      ]
    },
    {
      "cell_type": "markdown",
      "metadata": {
        "id": "PCkttEx_vRCH"
      },
      "source": [
        "### Shuffle Elements In A Tensor"
      ]
    },
    {
      "cell_type": "code",
      "execution_count": 15,
      "metadata": {
        "colab": {
          "base_uri": "https://localhost:8080/"
        },
        "id": "_mWVswOhvQ_u",
        "outputId": "ff707f14-b3c2-4f1e-862a-2dbf88f14626"
      },
      "outputs": [
        {
          "output_type": "execute_result",
          "data": {
            "text/plain": [
              "<tf.Tensor: shape=(3, 4), dtype=int32, numpy=\n",
              "array([[ 1,  3,  5,  7],\n",
              "       [ 1,  2,  3,  4],\n",
              "       [ 8,  9, 10, 11]], dtype=int32)>"
            ]
          },
          "metadata": {},
          "execution_count": 15
        }
      ],
      "source": [
        "tensor_1 = tf.constant([[1, 2, 3, 4], \n",
        "                        [8, 9, 10, 11], \n",
        "                        [1, 3, 5, 7]])\n",
        "\n",
        "tf.random.shuffle(tensor_1)"
      ]
    },
    {
      "cell_type": "code",
      "execution_count": 16,
      "metadata": {
        "colab": {
          "base_uri": "https://localhost:8080/"
        },
        "id": "zrnkizMdvN5Y",
        "outputId": "40084986-df47-4d87-90e8-777cf104242c"
      },
      "outputs": [
        {
          "output_type": "execute_result",
          "data": {
            "text/plain": [
              "<tf.Tensor: shape=(3, 4), dtype=int32, numpy=\n",
              "array([[ 1,  2,  3,  4],\n",
              "       [ 8,  9, 10, 11],\n",
              "       [ 1,  3,  5,  7]], dtype=int32)>"
            ]
          },
          "metadata": {},
          "execution_count": 16
        }
      ],
      "source": [
        "tf.random.shuffle(tensor_1)"
      ]
    },
    {
      "cell_type": "code",
      "execution_count": 17,
      "metadata": {
        "colab": {
          "base_uri": "https://localhost:8080/"
        },
        "id": "csZhCivNvN22",
        "outputId": "a410ec04-3ac9-4426-a2a4-8c5c055a7633"
      },
      "outputs": [
        {
          "output_type": "execute_result",
          "data": {
            "text/plain": [
              "<tf.Tensor: shape=(3, 4), dtype=int32, numpy=\n",
              "array([[ 1,  3,  5,  7],\n",
              "       [ 8,  9, 10, 11],\n",
              "       [ 1,  2,  3,  4]], dtype=int32)>"
            ]
          },
          "metadata": {},
          "execution_count": 17
        }
      ],
      "source": [
        "# To ensure reproducibility, set global and operational level seed\n",
        "tf.random.set_seed(RANDOM_STATE) # global level seed \n",
        "tf.random.shuffle(tensor_1, seed=RANDOM_STATE) # operational level seed"
      ]
    },
    {
      "cell_type": "code",
      "execution_count": 18,
      "metadata": {
        "colab": {
          "base_uri": "https://localhost:8080/"
        },
        "id": "RlwM6LpwvN0p",
        "outputId": "791282a5-deab-487a-b5bf-83f26a8e50de"
      },
      "outputs": [
        {
          "output_type": "execute_result",
          "data": {
            "text/plain": [
              "<tf.Tensor: shape=(3, 4), dtype=int32, numpy=\n",
              "array([[ 8,  9, 10, 11],\n",
              "       [ 1,  3,  5,  7],\n",
              "       [ 1,  2,  3,  4]], dtype=int32)>"
            ]
          },
          "metadata": {},
          "execution_count": 18
        }
      ],
      "source": [
        "tf.random.shuffle(tensor_1, seed=RANDOM_STATE)"
      ]
    },
    {
      "cell_type": "markdown",
      "metadata": {
        "id": "pRDrdzsDvNxx"
      },
      "source": [
        "### Other Ways of Creating Tensors\n",
        "\n",
        "* tf.ones()\n",
        "* tf.zeros()"
      ]
    },
    {
      "cell_type": "code",
      "execution_count": 19,
      "metadata": {
        "colab": {
          "base_uri": "https://localhost:8080/"
        },
        "id": "YjCe89whvNvL",
        "outputId": "002aaae5-4a51-4af0-90e5-fc3c1ab7f054"
      },
      "outputs": [
        {
          "output_type": "execute_result",
          "data": {
            "text/plain": [
              "<tf.Tensor: shape=(2, 3), dtype=float32, numpy=\n",
              "array([[0., 0., 0.],\n",
              "       [0., 0., 0.]], dtype=float32)>"
            ]
          },
          "metadata": {},
          "execution_count": 19
        }
      ],
      "source": [
        "# tf.zeros\n",
        "tf.zeros(shape=(2, 3))"
      ]
    },
    {
      "cell_type": "code",
      "execution_count": 20,
      "metadata": {
        "colab": {
          "base_uri": "https://localhost:8080/"
        },
        "id": "eiFN1OjVvNsN",
        "outputId": "19d32d8c-abae-4806-d7a7-1d3fe72fd684"
      },
      "outputs": [
        {
          "output_type": "execute_result",
          "data": {
            "text/plain": [
              "<tf.Tensor: shape=(2, 3), dtype=float32, numpy=\n",
              "array([[1., 1., 1.],\n",
              "       [1., 1., 1.]], dtype=float32)>"
            ]
          },
          "metadata": {},
          "execution_count": 20
        }
      ],
      "source": [
        "# tf.ones()\n",
        "tf.ones(shape=(2, 3))"
      ]
    },
    {
      "cell_type": "markdown",
      "metadata": {
        "id": "9qnrHqrRVzcM"
      },
      "source": [
        "### Create Tensors From NumPy Arrays"
      ]
    },
    {
      "cell_type": "code",
      "execution_count": 21,
      "metadata": {
        "colab": {
          "base_uri": "https://localhost:8080/"
        },
        "id": "9-CTbVZD52g_",
        "outputId": "7f12b444-9874-46fd-8f51-a0a572262754"
      },
      "outputs": [
        {
          "output_type": "execute_result",
          "data": {
            "text/plain": [
              "<tf.Tensor: shape=(2, 2, 4), dtype=float16, numpy=\n",
              "array([[[ 1.,  2.,  3.,  4.],\n",
              "        [ 5.,  6.,  7.,  8.]],\n",
              "\n",
              "       [[ 9., 10., 11., 12.],\n",
              "        [13., 14., 15., 16.]]], dtype=float16)>"
            ]
          },
          "metadata": {},
          "execution_count": 21
        }
      ],
      "source": [
        "arr_A = np.arange(1, 17).reshape(2, 2, 4)\n",
        "tf_arr = tf.constant(arr_A, dtype=tf.float16)\n",
        "tf_arr"
      ]
    },
    {
      "cell_type": "code",
      "execution_count": 22,
      "metadata": {
        "colab": {
          "base_uri": "https://localhost:8080/"
        },
        "id": "7IuXGDFS52eS",
        "outputId": "3caa856d-6ce4-404b-d723-e0ca0e007e4c"
      },
      "outputs": [
        {
          "output_type": "execute_result",
          "data": {
            "text/plain": [
              "array([[[ 1.,  2.,  3.,  4.],\n",
              "        [ 5.,  6.,  7.,  8.]],\n",
              "\n",
              "       [[ 9., 10., 11., 12.],\n",
              "        [13., 14., 15., 16.]]], dtype=float16)"
            ]
          },
          "metadata": {},
          "execution_count": 22
        }
      ],
      "source": [
        "# Convert a tensor to NumPy array\n",
        "tf_arr.numpy()"
      ]
    },
    {
      "cell_type": "markdown",
      "metadata": {
        "id": "qff-o8jG52br"
      },
      "source": [
        "### Extracting Info From A Tensor\n",
        "\n",
        "* array.dtype\n",
        "* array.shape\n",
        "* array.ndim\n",
        "* tf.size(array)\n",
        "* indexing a tensor"
      ]
    },
    {
      "cell_type": "code",
      "execution_count": 23,
      "metadata": {
        "colab": {
          "base_uri": "https://localhost:8080/"
        },
        "id": "ky7wLbg-52ZG",
        "outputId": "3e998296-25e9-4749-86fd-7ed63b944ce5"
      },
      "outputs": [
        {
          "output_type": "execute_result",
          "data": {
            "text/plain": [
              "(TensorShape([2, 2, 4]), 3, <tf.Tensor: shape=(), dtype=int32, numpy=16>)"
            ]
          },
          "metadata": {},
          "execution_count": 23
        }
      ],
      "source": [
        "tf_arr.shape, tf_arr.ndim, tf.size(tf_arr)"
      ]
    },
    {
      "cell_type": "code",
      "execution_count": 24,
      "metadata": {
        "colab": {
          "base_uri": "https://localhost:8080/"
        },
        "id": "B-_XUNp052Wh",
        "outputId": "5d9f3d14-4674-400d-b940-bc03635ccf01"
      },
      "outputs": [
        {
          "output_type": "stream",
          "name": "stdout",
          "text": [
            "tf.Tensor(\n",
            "[[[ 1.  2.  3.  4.]\n",
            "  [ 5.  6.  7.  8.]]\n",
            "\n",
            " [[ 9. 10. 11. 12.]\n",
            "  [13. 14. 15. 16.]]], shape=(2, 2, 4), dtype=float16)\n",
            " ====================================================================== \n",
            "\n",
            "dtype: <dtype: 'float16'>,\n",
            "shape: (2, 2, 4), \n",
            "number of dimensions: 3, \n",
            "size of tensor: 16\n"
          ]
        }
      ],
      "source": [
        "print(tf_arr)\n",
        "print(\" ====================================================================== \")\n",
        "print(f\"\\ndtype: {tf_arr.dtype},\\nshape: {tf_arr.shape}, \\nnumber of dimensions: {tf_arr.ndim}, \\nsize of tensor: {tf.size(tf_arr)}\")"
      ]
    },
    {
      "cell_type": "code",
      "execution_count": 25,
      "metadata": {
        "colab": {
          "base_uri": "https://localhost:8080/"
        },
        "id": "FPOMtSBz52SE",
        "outputId": "d9ed5c59-84c1-418d-b259-08d13f9b58f4"
      },
      "outputs": [
        {
          "output_type": "execute_result",
          "data": {
            "text/plain": [
              "<tf.Tensor: shape=(2, 3, 4, 3), dtype=float16, numpy=\n",
              "array([[[[1., 1., 1.],\n",
              "         [1., 1., 1.],\n",
              "         [1., 1., 1.],\n",
              "         [1., 1., 1.]],\n",
              "\n",
              "        [[1., 1., 1.],\n",
              "         [1., 1., 1.],\n",
              "         [1., 1., 1.],\n",
              "         [1., 1., 1.]],\n",
              "\n",
              "        [[1., 1., 1.],\n",
              "         [1., 1., 1.],\n",
              "         [1., 1., 1.],\n",
              "         [1., 1., 1.]]],\n",
              "\n",
              "\n",
              "       [[[1., 1., 1.],\n",
              "         [1., 1., 1.],\n",
              "         [1., 1., 1.],\n",
              "         [1., 1., 1.]],\n",
              "\n",
              "        [[1., 1., 1.],\n",
              "         [1., 1., 1.],\n",
              "         [1., 1., 1.],\n",
              "         [1., 1., 1.]],\n",
              "\n",
              "        [[1., 1., 1.],\n",
              "         [1., 1., 1.],\n",
              "         [1., 1., 1.],\n",
              "         [1., 1., 1.]]]], dtype=float16)>"
            ]
          },
          "metadata": {},
          "execution_count": 25
        }
      ],
      "source": [
        "# Rank 4 Tensor\n",
        "rank_4_tensor = tf.ones((2, 3, 4, 3), dtype=tf.float16)\n",
        "rank_4_tensor\n",
        "\n",
        "# Within the Oth axis, we have 2 (smaller arrays)\n",
        "# Within the 1st axis (i.e the 2 from above), we have 3-D (3, 4, 3)\n",
        "# Within the 2nd axis (i.e the 3-D from above), we have 4 rows (4, 3)\n",
        "# Within the 3rd axis (i.e the 4 rows from above), we have 3 columns"
      ]
    },
    {
      "cell_type": "code",
      "execution_count": 26,
      "metadata": {
        "colab": {
          "base_uri": "https://localhost:8080/"
        },
        "id": "Hgm7iu6i52Pa",
        "outputId": "d8148ad2-7b68-48f7-d9b8-85a67e7611de"
      },
      "outputs": [
        {
          "output_type": "execute_result",
          "data": {
            "text/plain": [
              "<tf.Tensor: shape=(3, 4, 3), dtype=float16, numpy=\n",
              "array([[[1., 1., 1.],\n",
              "        [1., 1., 1.],\n",
              "        [1., 1., 1.],\n",
              "        [1., 1., 1.]],\n",
              "\n",
              "       [[1., 1., 1.],\n",
              "        [1., 1., 1.],\n",
              "        [1., 1., 1.],\n",
              "        [1., 1., 1.]],\n",
              "\n",
              "       [[1., 1., 1.],\n",
              "        [1., 1., 1.],\n",
              "        [1., 1., 1.],\n",
              "        [1., 1., 1.]]], dtype=float16)>"
            ]
          },
          "metadata": {},
          "execution_count": 26
        }
      ],
      "source": [
        "# Oth \n",
        "rank_4_tensor[0]"
      ]
    },
    {
      "cell_type": "code",
      "execution_count": 27,
      "metadata": {
        "colab": {
          "base_uri": "https://localhost:8080/"
        },
        "id": "4xkAxhpOAXzC",
        "outputId": "bae33421-c234-4e2f-a52f-d10cacd45e2f"
      },
      "outputs": [
        {
          "output_type": "execute_result",
          "data": {
            "text/plain": [
              "<tf.Tensor: shape=(2, 3, 4, 3), dtype=float16, numpy=\n",
              "array([[[[11.,  2.,  4.],\n",
              "         [ 2.,  7.,  4.],\n",
              "         [ 5.,  6., 10.],\n",
              "         [ 3.,  7.,  8.]],\n",
              "\n",
              "        [[ 6.,  5.,  8.],\n",
              "         [ 5.,  7.,  6.],\n",
              "         [10.,  6.,  6.],\n",
              "         [ 9.,  3.,  2.]],\n",
              "\n",
              "        [[ 7.,  2.,  4.],\n",
              "         [ 8.,  3., 11.],\n",
              "         [ 5., 10.,  6.],\n",
              "         [ 7.,  5.,  7.]]],\n",
              "\n",
              "\n",
              "       [[[11.,  9.,  3.],\n",
              "         [ 3., 10., 11.],\n",
              "         [ 8., 11.,  4.],\n",
              "         [ 7., 10.,  6.]],\n",
              "\n",
              "        [[ 4.,  7.,  8.],\n",
              "         [ 9.,  8.,  6.],\n",
              "         [ 3.,  3.,  6.],\n",
              "         [10.,  7.,  6.]],\n",
              "\n",
              "        [[ 4.,  7., 11.],\n",
              "         [ 2.,  9.,  2.],\n",
              "         [ 7.,  8.,  4.],\n",
              "         [ 4.,  4.,  9.]]]], dtype=float16)>"
            ]
          },
          "metadata": {},
          "execution_count": 27
        }
      ],
      "source": [
        "arr = np.random.randint(2, 12, size=(2, 3, 4, 3))\n",
        "rank_4_tensor = tf.constant(arr, dtype=tf.float16)\n",
        "rank_4_tensor"
      ]
    },
    {
      "cell_type": "code",
      "execution_count": 28,
      "metadata": {
        "colab": {
          "base_uri": "https://localhost:8080/"
        },
        "id": "kHpPTmcT52NF",
        "outputId": "7b3f1cec-f8b4-4630-a249-9c316e1d3732"
      },
      "outputs": [
        {
          "output_type": "execute_result",
          "data": {
            "text/plain": [
              "<tf.Tensor: shape=(3, 4, 3), dtype=float16, numpy=\n",
              "array([[[11.,  2.,  4.],\n",
              "        [ 2.,  7.,  4.],\n",
              "        [ 5.,  6., 10.],\n",
              "        [ 3.,  7.,  8.]],\n",
              "\n",
              "       [[ 6.,  5.,  8.],\n",
              "        [ 5.,  7.,  6.],\n",
              "        [10.,  6.,  6.],\n",
              "        [ 9.,  3.,  2.]],\n",
              "\n",
              "       [[ 7.,  2.,  4.],\n",
              "        [ 8.,  3., 11.],\n",
              "        [ 5., 10.,  6.],\n",
              "        [ 7.,  5.,  7.]]], dtype=float16)>"
            ]
          },
          "metadata": {},
          "execution_count": 28
        }
      ],
      "source": [
        "# 0th index of the 0th axis\n",
        "rank_4_tensor[0]"
      ]
    },
    {
      "cell_type": "code",
      "execution_count": 29,
      "metadata": {
        "colab": {
          "base_uri": "https://localhost:8080/"
        },
        "id": "QSTvcE_-52Kf",
        "outputId": "72c11cc4-e9a4-4360-bb92-4d4545e32d3d"
      },
      "outputs": [
        {
          "output_type": "execute_result",
          "data": {
            "text/plain": [
              "<tf.Tensor: shape=(3, 4, 3), dtype=float16, numpy=\n",
              "array([[[11.,  9.,  3.],\n",
              "        [ 3., 10., 11.],\n",
              "        [ 8., 11.,  4.],\n",
              "        [ 7., 10.,  6.]],\n",
              "\n",
              "       [[ 4.,  7.,  8.],\n",
              "        [ 9.,  8.,  6.],\n",
              "        [ 3.,  3.,  6.],\n",
              "        [10.,  7.,  6.]],\n",
              "\n",
              "       [[ 4.,  7., 11.],\n",
              "        [ 2.,  9.,  2.],\n",
              "        [ 7.,  8.,  4.],\n",
              "        [ 4.,  4.,  9.]]], dtype=float16)>"
            ]
          },
          "metadata": {},
          "execution_count": 29
        }
      ],
      "source": [
        "# 1st index of the 0th axis\n",
        "rank_4_tensor[1]"
      ]
    },
    {
      "cell_type": "code",
      "execution_count": 30,
      "metadata": {
        "colab": {
          "base_uri": "https://localhost:8080/"
        },
        "id": "dHAIWRaN52Gj",
        "outputId": "eabec35e-a159-4a96-96d0-de58cf1b4845"
      },
      "outputs": [
        {
          "output_type": "execute_result",
          "data": {
            "text/plain": [
              "<tf.Tensor: shape=(4, 3), dtype=float16, numpy=\n",
              "array([[ 6.,  5.,  8.],\n",
              "       [ 5.,  7.,  6.],\n",
              "       [10.,  6.,  6.],\n",
              "       [ 9.,  3.,  2.]], dtype=float16)>"
            ]
          },
          "metadata": {},
          "execution_count": 30
        }
      ],
      "source": [
        "# 0th index of the 0th axis and 1st index of the 1st axis\n",
        "rank_4_tensor[0, 1]"
      ]
    },
    {
      "cell_type": "code",
      "execution_count": 31,
      "metadata": {
        "colab": {
          "base_uri": "https://localhost:8080/"
        },
        "id": "p0gaN0Sc52D8",
        "outputId": "09b4bf69-e55a-48b6-e440-42496da95eb4"
      },
      "outputs": [
        {
          "output_type": "execute_result",
          "data": {
            "text/plain": [
              "<tf.Tensor: shape=(3,), dtype=float16, numpy=array([6., 5., 8.], dtype=float16)>"
            ]
          },
          "metadata": {},
          "execution_count": 31
        }
      ],
      "source": [
        "# 0th index of the 0th axis\n",
        "rank_4_tensor[0, 1, 0]"
      ]
    },
    {
      "cell_type": "code",
      "execution_count": 32,
      "metadata": {
        "colab": {
          "base_uri": "https://localhost:8080/"
        },
        "id": "I-8O3mxX52BX",
        "outputId": "5309bde8-a8b8-41ca-b7bf-feec11f4d3db"
      },
      "outputs": [
        {
          "output_type": "execute_result",
          "data": {
            "text/plain": [
              "<tf.Tensor: shape=(2, 3, 3), dtype=float16, numpy=\n",
              "array([[[ 5.,  6., 10.],\n",
              "        [10.,  6.,  6.],\n",
              "        [ 5., 10.,  6.]],\n",
              "\n",
              "       [[ 8., 11.,  4.],\n",
              "        [ 3.,  3.,  6.],\n",
              "        [ 7.,  8.,  4.]]], dtype=float16)>"
            ]
          },
          "metadata": {},
          "execution_count": 32
        }
      ],
      "source": [
        "# Extract all the 2nd index from the tensor\n",
        "rank_4_tensor[:, :, 2]"
      ]
    },
    {
      "cell_type": "code",
      "execution_count": 33,
      "metadata": {
        "colab": {
          "base_uri": "https://localhost:8080/"
        },
        "id": "1enJGa3Q5186",
        "outputId": "9e0f9658-ab34-4d0d-dabf-605f7553b6b0"
      },
      "outputs": [
        {
          "output_type": "execute_result",
          "data": {
            "text/plain": [
              "array([[[[11,  2,  4],\n",
              "         [ 2,  7,  4],\n",
              "         [ 5,  6, 10],\n",
              "         [ 3,  7,  8]],\n",
              "\n",
              "        [[ 6,  5,  8],\n",
              "         [ 5,  7,  6],\n",
              "         [10,  6,  6],\n",
              "         [ 9,  3,  2]],\n",
              "\n",
              "        [[ 7,  2,  4],\n",
              "         [ 8,  3, 11],\n",
              "         [ 5, 10,  6],\n",
              "         [ 7,  5,  7]]],\n",
              "\n",
              "\n",
              "       [[[11,  9,  3],\n",
              "         [ 3, 10, 11],\n",
              "         [ 8, 11,  4],\n",
              "         [ 7, 10,  6]],\n",
              "\n",
              "        [[ 4,  7,  8],\n",
              "         [ 9,  8,  6],\n",
              "         [ 3,  3,  6],\n",
              "         [10,  7,  6]],\n",
              "\n",
              "        [[ 4,  7, 11],\n",
              "         [ 2,  9,  2],\n",
              "         [ 7,  8,  4],\n",
              "         [ 4,  4,  9]]]])"
            ]
          },
          "metadata": {},
          "execution_count": 33
        }
      ],
      "source": [
        "arr"
      ]
    },
    {
      "cell_type": "code",
      "execution_count": 34,
      "metadata": {
        "colab": {
          "base_uri": "https://localhost:8080/"
        },
        "id": "XTHnXo9w516U",
        "outputId": "0dcd1380-1f06-4c48-ad98-969db09ff13a"
      },
      "outputs": [
        {
          "output_type": "execute_result",
          "data": {
            "text/plain": [
              "array([[[ 4,  5,  6],\n",
              "        [ 7,  8,  9],\n",
              "        [10, 11, 12]],\n",
              "\n",
              "       [[13, 14, 15],\n",
              "        [16, 17, 18],\n",
              "        [19, 20, 21]]])"
            ]
          },
          "metadata": {},
          "execution_count": 34
        }
      ],
      "source": [
        "arr_1 = np.arange(4, 22).reshape(2, 3, 3)\n",
        "arr_1"
      ]
    },
    {
      "cell_type": "code",
      "execution_count": 35,
      "metadata": {
        "colab": {
          "base_uri": "https://localhost:8080/"
        },
        "id": "uMmwR49d513M",
        "outputId": "21d814dc-d43f-498a-9bc1-43fcfa5e81b2"
      },
      "outputs": [
        {
          "output_type": "execute_result",
          "data": {
            "text/plain": [
              "array([ 4,  8, 12])"
            ]
          },
          "metadata": {},
          "execution_count": 35
        }
      ],
      "source": [
        "a = arr_1[0]\n",
        "a[[0,1,2], [0,1,2]]"
      ]
    },
    {
      "cell_type": "code",
      "execution_count": 36,
      "metadata": {
        "colab": {
          "base_uri": "https://localhost:8080/"
        },
        "id": "eb1i2X81510H",
        "outputId": "588fd458-9f51-4d96-85b0-80c7d9c69d31"
      },
      "outputs": [
        {
          "output_type": "execute_result",
          "data": {
            "text/plain": [
              "<tf.Tensor: shape=(2, 3, 4, 3), dtype=float16, numpy=\n",
              "array([[[[11.,  2.,  4.],\n",
              "         [ 2.,  7.,  4.],\n",
              "         [ 5.,  6., 10.],\n",
              "         [ 3.,  7.,  8.]],\n",
              "\n",
              "        [[ 6.,  5.,  8.],\n",
              "         [ 5.,  7.,  6.],\n",
              "         [10.,  6.,  6.],\n",
              "         [ 9.,  3.,  2.]],\n",
              "\n",
              "        [[ 7.,  2.,  4.],\n",
              "         [ 8.,  3., 11.],\n",
              "         [ 5., 10.,  6.],\n",
              "         [ 7.,  5.,  7.]]],\n",
              "\n",
              "\n",
              "       [[[11.,  9.,  3.],\n",
              "         [ 3., 10., 11.],\n",
              "         [ 8., 11.,  4.],\n",
              "         [ 7., 10.,  6.]],\n",
              "\n",
              "        [[ 4.,  7.,  8.],\n",
              "         [ 9.,  8.,  6.],\n",
              "         [ 3.,  3.,  6.],\n",
              "         [10.,  7.,  6.]],\n",
              "\n",
              "        [[ 4.,  7., 11.],\n",
              "         [ 2.,  9.,  2.],\n",
              "         [ 7.,  8.,  4.],\n",
              "         [ 4.,  4.,  9.]]]], dtype=float16)>"
            ]
          },
          "metadata": {},
          "execution_count": 36
        }
      ],
      "source": [
        "rank_4_tensor"
      ]
    },
    {
      "cell_type": "code",
      "execution_count": 37,
      "metadata": {
        "colab": {
          "base_uri": "https://localhost:8080/"
        },
        "id": "N6Uz3MWY51ua",
        "outputId": "84742b40-cdb9-4e9d-f9e3-b5e19e0a9d29"
      },
      "outputs": [
        {
          "output_type": "execute_result",
          "data": {
            "text/plain": [
              "<tf.Tensor: shape=(2, 2, 2, 2), dtype=float16, numpy=\n",
              "array([[[[11.,  2.],\n",
              "         [ 2.,  7.]],\n",
              "\n",
              "        [[ 6.,  5.],\n",
              "         [ 5.,  7.]]],\n",
              "\n",
              "\n",
              "       [[[11.,  9.],\n",
              "         [ 3., 10.]],\n",
              "\n",
              "        [[ 4.,  7.],\n",
              "         [ 9.,  8.]]]], dtype=float16)>"
            ]
          },
          "metadata": {},
          "execution_count": 37
        }
      ],
      "source": [
        "# Get the first 2 elements in each dimension\n",
        "rank_4_tensor[:2, :2, :2, :2]"
      ]
    },
    {
      "cell_type": "markdown",
      "metadata": {
        "id": "4145zrwYs_8V"
      },
      "source": [
        "### Add Extra Dimension\n",
        "\n",
        "```python\n",
        "tensor[.., tf.newaxis]\n",
        "tf.expand_dims()\n",
        "```"
      ]
    },
    {
      "cell_type": "code",
      "execution_count": 37,
      "metadata": {
        "id": "Qwc94jg8547s"
      },
      "outputs": [],
      "source": []
    },
    {
      "cell_type": "code",
      "execution_count": 38,
      "metadata": {
        "colab": {
          "base_uri": "https://localhost:8080/"
        },
        "id": "Q64WMrrM51om",
        "outputId": "8c37dca7-3fcd-4968-d7cc-ae24f6e61080"
      },
      "outputs": [
        {
          "output_type": "execute_result",
          "data": {
            "text/plain": [
              "<tf.Tensor: shape=(2, 2), dtype=int32, numpy=\n",
              "array([[ 2,  4],\n",
              "       [ 8, 10]], dtype=int32)>"
            ]
          },
          "metadata": {},
          "execution_count": 38
        }
      ],
      "source": [
        "tensor_1 = tf.constant([[2, 4], [8, 10]])\n",
        "tensor_1"
      ]
    },
    {
      "cell_type": "code",
      "execution_count": 39,
      "metadata": {
        "colab": {
          "base_uri": "https://localhost:8080/"
        },
        "id": "9ofrNphJ51ll",
        "outputId": "01537e87-6006-48f5-87e6-6cde0835a768"
      },
      "outputs": [
        {
          "output_type": "execute_result",
          "data": {
            "text/plain": [
              "<tf.Tensor: shape=(2, 2, 1), dtype=int32, numpy=\n",
              "array([[[ 2],\n",
              "        [ 4]],\n",
              "\n",
              "       [[ 8],\n",
              "        [10]]], dtype=int32)>"
            ]
          },
          "metadata": {},
          "execution_count": 39
        }
      ],
      "source": [
        "tensor_1[..., tf.newaxis] # OR tensor_1[:, :, tf.newaxis]"
      ]
    },
    {
      "cell_type": "code",
      "execution_count": 40,
      "metadata": {
        "colab": {
          "base_uri": "https://localhost:8080/"
        },
        "id": "ygEBCO7m51i3",
        "outputId": "a813efc1-5bfa-4a47-8940-3e832916b35f"
      },
      "outputs": [
        {
          "output_type": "execute_result",
          "data": {
            "text/plain": [
              "<tf.Tensor: shape=(1, 2, 2), dtype=int32, numpy=\n",
              "array([[[ 2,  4],\n",
              "        [ 8, 10]]], dtype=int32)>"
            ]
          },
          "metadata": {},
          "execution_count": 40
        }
      ],
      "source": [
        "tensor_1[tf.newaxis, ...]"
      ]
    },
    {
      "cell_type": "code",
      "execution_count": 41,
      "metadata": {
        "colab": {
          "base_uri": "https://localhost:8080/"
        },
        "id": "x4gyLmOh51gQ",
        "outputId": "f26e79fc-c4b2-4b6c-a706-349f916d3759"
      },
      "outputs": [
        {
          "output_type": "execute_result",
          "data": {
            "text/plain": [
              "<tf.Tensor: shape=(1, 2, 2), dtype=int32, numpy=\n",
              "array([[[ 2,  4],\n",
              "        [ 8, 10]]], dtype=int32)>"
            ]
          },
          "metadata": {},
          "execution_count": 41
        }
      ],
      "source": [
        "tf.expand_dims(tensor_1, axis=0)"
      ]
    },
    {
      "cell_type": "markdown",
      "metadata": {
        "id": "hXeWEow5slac"
      },
      "source": [
        "# Adding New Dimensions\n",
        "\n",
        "```python\n",
        "tensor[.., tf.newaxis]\n",
        "\n",
        "tf.expand_dims()\n",
        "```"
      ]
    },
    {
      "cell_type": "code",
      "execution_count": 42,
      "metadata": {
        "colab": {
          "base_uri": "https://localhost:8080/"
        },
        "id": "aN44iFOc51dH",
        "outputId": "c0aa4bd5-8075-4184-9e89-d1ee132e160e"
      },
      "outputs": [
        {
          "output_type": "execute_result",
          "data": {
            "text/plain": [
              "<tf.Tensor: shape=(2, 1, 2), dtype=int32, numpy=\n",
              "array([[[ 2,  4]],\n",
              "\n",
              "       [[ 8, 10]]], dtype=int32)>"
            ]
          },
          "metadata": {},
          "execution_count": 42
        }
      ],
      "source": [
        "tf.expand_dims(tensor_1, axis=1)"
      ]
    },
    {
      "cell_type": "code",
      "execution_count": 43,
      "metadata": {
        "colab": {
          "base_uri": "https://localhost:8080/"
        },
        "id": "qfJ-ZyuX51aQ",
        "outputId": "04b1ffb7-ae4f-45e7-ffa7-e4e990603848"
      },
      "outputs": [
        {
          "output_type": "execute_result",
          "data": {
            "text/plain": [
              "<tf.Tensor: shape=(2, 2, 1), dtype=int32, numpy=\n",
              "array([[[ 2],\n",
              "        [ 4]],\n",
              "\n",
              "       [[ 8],\n",
              "        [10]]], dtype=int32)>"
            ]
          },
          "metadata": {},
          "execution_count": 43
        }
      ],
      "source": [
        "tf.expand_dims(tensor_1, axis=2)"
      ]
    },
    {
      "cell_type": "markdown",
      "source": [
        "### Manipulating Tensors With Basic Operations\n",
        "\n",
        "> Element-wise operations.\n",
        "\n",
        "* Addition\n",
        "* Subtraction\n",
        "* Multiplication\n",
        "* Division"
      ],
      "metadata": {
        "id": "5-bwezYt7Uee"
      }
    },
    {
      "cell_type": "code",
      "execution_count": 44,
      "metadata": {
        "id": "ojtHQU_C51XX",
        "colab": {
          "base_uri": "https://localhost:8080/"
        },
        "outputId": "35de6797-bf69-4a52-af6d-50964cca7f9a"
      },
      "outputs": [
        {
          "output_type": "execute_result",
          "data": {
            "text/plain": [
              "<tf.Tensor: shape=(2, 2), dtype=int32, numpy=\n",
              "array([[ 2,  4],\n",
              "       [ 8, 10]], dtype=int32)>"
            ]
          },
          "metadata": {},
          "execution_count": 44
        }
      ],
      "source": [
        "tensor_1"
      ]
    },
    {
      "cell_type": "code",
      "execution_count": 45,
      "metadata": {
        "id": "ng4cGCDj51TB",
        "colab": {
          "base_uri": "https://localhost:8080/"
        },
        "outputId": "87011511-1ebf-46c7-fe5d-02983d760593"
      },
      "outputs": [
        {
          "output_type": "execute_result",
          "data": {
            "text/plain": [
              "<tf.Tensor: shape=(2, 2), dtype=int32, numpy=\n",
              "array([[12, 14],\n",
              "       [18, 20]], dtype=int32)>"
            ]
          },
          "metadata": {},
          "execution_count": 45
        }
      ],
      "source": [
        "# Addition (Broadcasting)\n",
        "tensor_1 + 10"
      ]
    },
    {
      "cell_type": "code",
      "execution_count": 46,
      "metadata": {
        "id": "WNpd5NU251QF",
        "colab": {
          "base_uri": "https://localhost:8080/"
        },
        "outputId": "29a2997f-b238-4de3-f84f-12cbed8c4b67"
      },
      "outputs": [
        {
          "output_type": "execute_result",
          "data": {
            "text/plain": [
              "(<tf.Tensor: shape=(2, 2), dtype=int32, numpy=\n",
              " array([[-8, -6],\n",
              "        [-2,  0]], dtype=int32)>, <tf.Tensor: shape=(2, 2), dtype=int32, numpy=\n",
              " array([[ 20,  40],\n",
              "        [ 80, 100]], dtype=int32)>)"
            ]
          },
          "metadata": {},
          "execution_count": 46
        }
      ],
      "source": [
        "# Subtraction, Multiplcation (Broadcasting)\n",
        "tensor_1 - 10, tensor_1 * 10,"
      ]
    },
    {
      "cell_type": "code",
      "execution_count": 47,
      "metadata": {
        "id": "K_qUFAdp51NM",
        "colab": {
          "base_uri": "https://localhost:8080/"
        },
        "outputId": "cc3b114c-5a65-4909-c920-5ec258932364"
      },
      "outputs": [
        {
          "output_type": "execute_result",
          "data": {
            "text/plain": [
              "<tf.Tensor: shape=(2, 2), dtype=int32, numpy=\n",
              "array([[12, 14],\n",
              "       [18, 20]], dtype=int32)>"
            ]
          },
          "metadata": {},
          "execution_count": 47
        }
      ],
      "source": [
        "tf.add(tensor_1, 10)"
      ]
    },
    {
      "cell_type": "markdown",
      "source": [
        "### Matrix Multiplcation\n",
        "\n",
        "* Check this interactive matrix multiplication [website](https://matrixmultiplication.xyz)"
      ],
      "metadata": {
        "id": "CQFBHAch8FEl"
      }
    },
    {
      "cell_type": "code",
      "execution_count": 48,
      "metadata": {
        "id": "M9FFUzfoVzcM",
        "colab": {
          "base_uri": "https://localhost:8080/"
        },
        "outputId": "28d8938e-8d15-4e21-ae3a-f8f0859036bc"
      },
      "outputs": [
        {
          "output_type": "execute_result",
          "data": {
            "text/plain": [
              "(TensorShape([2, 3]), TensorShape([2, 3]))"
            ]
          },
          "metadata": {},
          "execution_count": 48
        }
      ],
      "source": [
        "tensor_1 = tf.constant([[1, 2, 3], [5, 6, 7]])\n",
        "tensor_2 = tf.constant([[-3, 15, 1], [4, 9, 0]])\n",
        "tensor_1.shape, tensor_2.shape "
      ]
    },
    {
      "cell_type": "markdown",
      "source": [
        "* The tensors must have equal inner dimensions before dot product can be performed. \\\n",
        "e.g (a, b) . (b, c) \\\n",
        "The result has a shape of (a, b)\n"
      ],
      "metadata": {
        "id": "MWEcMK5M9X4X"
      }
    },
    {
      "cell_type": "code",
      "source": [
        "# Reshape one of the matrixes before you can perform matrix multiplcation\n",
        "tf.matmul(tensor_1, tf.transpose(tensor_2))"
      ],
      "metadata": {
        "colab": {
          "base_uri": "https://localhost:8080/"
        },
        "id": "QvIsM4jm9EmG",
        "outputId": "0c83b6b3-6da2-4805-e3f8-5f71235aee4f"
      },
      "execution_count": 49,
      "outputs": [
        {
          "output_type": "execute_result",
          "data": {
            "text/plain": [
              "<tf.Tensor: shape=(2, 2), dtype=int32, numpy=\n",
              "array([[30, 22],\n",
              "       [82, 74]], dtype=int32)>"
            ]
          },
          "metadata": {},
          "execution_count": 49
        }
      ]
    },
    {
      "cell_type": "markdown",
      "source": [
        "#### You can also reshape one of the tensors into an appropriate shape"
      ],
      "metadata": {
        "id": "yAwZ9Ok5EMCe"
      }
    },
    {
      "cell_type": "code",
      "source": [
        "# (3, 3) . (2, 3)\n",
        "tf.matmul(tf.reshape(tensor_1, shape=(3, 2)), tensor_2)"
      ],
      "metadata": {
        "colab": {
          "base_uri": "https://localhost:8080/"
        },
        "id": "VYGFL_oP9EjM",
        "outputId": "4067504a-e7fd-4868-bb6d-ccce8d27b733"
      },
      "execution_count": 50,
      "outputs": [
        {
          "output_type": "execute_result",
          "data": {
            "text/plain": [
              "<tf.Tensor: shape=(3, 3), dtype=int32, numpy=\n",
              "array([[  5,  33,   1],\n",
              "       [ 11,  90,   3],\n",
              "       [ 10, 153,   6]], dtype=int32)>"
            ]
          },
          "metadata": {},
          "execution_count": 50
        }
      ]
    },
    {
      "cell_type": "code",
      "source": [
        "print(f\"Original tensor: \\n{tensor_1}, \\nTransposed tensor: \\n{tf.transpose(tensor_1)}, \\nReshaped tensor: \\n{tf.reshape(tensor_1, shape=(3, 2))}\")"
      ],
      "metadata": {
        "colab": {
          "base_uri": "https://localhost:8080/"
        },
        "id": "GStEP7Av9Ego",
        "outputId": "11da7ee4-04d4-4bd5-9593-85897489f478"
      },
      "execution_count": 51,
      "outputs": [
        {
          "output_type": "stream",
          "name": "stdout",
          "text": [
            "Original tensor: \n",
            "[[1 2 3]\n",
            " [5 6 7]], \n",
            "Transposed tensor: \n",
            "[[1 5]\n",
            " [2 6]\n",
            " [3 7]], \n",
            "Reshaped tensor: \n",
            "[[1 2]\n",
            " [3 5]\n",
            " [6 7]]\n"
          ]
        }
      ]
    },
    {
      "cell_type": "markdown",
      "source": [
        "### Changing Data Types\n",
        "\n",
        "* tf.cast(tensor, dtype=tf.datatype)"
      ],
      "metadata": {
        "id": "vWS0N_oIGIgx"
      }
    },
    {
      "cell_type": "code",
      "source": [
        "A = tf.constant([[1., 3.], [8., -9.]])\n",
        "B = tf.constant([[-4., 3.], [2., 9.]])\n",
        "\n",
        "A, B"
      ],
      "metadata": {
        "colab": {
          "base_uri": "https://localhost:8080/"
        },
        "id": "hctrNFuR9EdJ",
        "outputId": "cf19f0cc-d703-4e0e-d127-72d52c1219ab"
      },
      "execution_count": 52,
      "outputs": [
        {
          "output_type": "execute_result",
          "data": {
            "text/plain": [
              "(<tf.Tensor: shape=(2, 2), dtype=float32, numpy=\n",
              " array([[ 1.,  3.],\n",
              "        [ 8., -9.]], dtype=float32)>,\n",
              " <tf.Tensor: shape=(2, 2), dtype=float32, numpy=\n",
              " array([[-4.,  3.],\n",
              "        [ 2.,  9.]], dtype=float32)>)"
            ]
          },
          "metadata": {},
          "execution_count": 52
        }
      ]
    },
    {
      "cell_type": "code",
      "source": [
        "tf.cast(A, dtype=tf.float16)"
      ],
      "metadata": {
        "colab": {
          "base_uri": "https://localhost:8080/"
        },
        "id": "3EBs74YA9Eak",
        "outputId": "ccce26f1-05c3-4e89-9420-8f86ba64b9b1"
      },
      "execution_count": 53,
      "outputs": [
        {
          "output_type": "execute_result",
          "data": {
            "text/plain": [
              "<tf.Tensor: shape=(2, 2), dtype=float16, numpy=\n",
              "array([[ 1.,  3.],\n",
              "       [ 8., -9.]], dtype=float16)>"
            ]
          },
          "metadata": {},
          "execution_count": 53
        }
      ]
    },
    {
      "cell_type": "markdown",
      "source": [
        "### Aggregating Tensors\n",
        "\n",
        "* Min\n",
        "* Max\n",
        "* Mean\n",
        "* Sum"
      ],
      "metadata": {
        "id": "vi-oAnmVYbeb"
      }
    },
    {
      "cell_type": "code",
      "source": [
        "A"
      ],
      "metadata": {
        "colab": {
          "base_uri": "https://localhost:8080/"
        },
        "id": "1oit8AneaZgg",
        "outputId": "59a42df9-0353-46b2-f5f3-768f9910a7f2"
      },
      "execution_count": 54,
      "outputs": [
        {
          "output_type": "execute_result",
          "data": {
            "text/plain": [
              "<tf.Tensor: shape=(2, 2), dtype=float32, numpy=\n",
              "array([[ 1.,  3.],\n",
              "       [ 8., -9.]], dtype=float32)>"
            ]
          },
          "metadata": {},
          "execution_count": 54
        }
      ]
    },
    {
      "cell_type": "code",
      "source": [
        "tf.math.reduce_min(A)"
      ],
      "metadata": {
        "colab": {
          "base_uri": "https://localhost:8080/"
        },
        "id": "bBluoyX_Z9EJ",
        "outputId": "09dbb7de-b938-44c8-a7fb-d2aa8336d985"
      },
      "execution_count": 55,
      "outputs": [
        {
          "output_type": "execute_result",
          "data": {
            "text/plain": [
              "<tf.Tensor: shape=(), dtype=float32, numpy=-9.0>"
            ]
          },
          "metadata": {},
          "execution_count": 55
        }
      ]
    },
    {
      "cell_type": "code",
      "source": [
        "tf.math.reduce_min(A).numpy()"
      ],
      "metadata": {
        "colab": {
          "base_uri": "https://localhost:8080/"
        },
        "id": "i-ujk8e2Z9AL",
        "outputId": "11794236-f16e-4cbd-9d79-6fb9f2f7e373"
      },
      "execution_count": 56,
      "outputs": [
        {
          "output_type": "execute_result",
          "data": {
            "text/plain": [
              "-9.0"
            ]
          },
          "metadata": {},
          "execution_count": 56
        }
      ]
    },
    {
      "cell_type": "code",
      "source": [
        "tf.math.reduce_max(A), tf.math.reduce_sum(A)"
      ],
      "metadata": {
        "colab": {
          "base_uri": "https://localhost:8080/"
        },
        "id": "MsW-hDCRaG3X",
        "outputId": "144f73d2-af4b-49aa-d1d5-453fdf4da00d"
      },
      "execution_count": 57,
      "outputs": [
        {
          "output_type": "execute_result",
          "data": {
            "text/plain": [
              "(<tf.Tensor: shape=(), dtype=float32, numpy=8.0>,\n",
              " <tf.Tensor: shape=(), dtype=float32, numpy=3.0>)"
            ]
          },
          "metadata": {},
          "execution_count": 57
        }
      ]
    },
    {
      "cell_type": "code",
      "source": [
        "tf.math.reduce_variance(A).numpy()"
      ],
      "metadata": {
        "colab": {
          "base_uri": "https://localhost:8080/"
        },
        "id": "mL8A5ykFaG0e",
        "outputId": "62072cac-edcc-45cc-c85c-20a3977d93b8"
      },
      "execution_count": 61,
      "outputs": [
        {
          "output_type": "execute_result",
          "data": {
            "text/plain": [
              "38.1875"
            ]
          },
          "metadata": {},
          "execution_count": 61
        }
      ]
    },
    {
      "cell_type": "code",
      "source": [
        "tf.math.reduce_std(A).numpy()"
      ],
      "metadata": {
        "colab": {
          "base_uri": "https://localhost:8080/"
        },
        "id": "A3_ozsGqaGyA",
        "outputId": "d4ae1bf9-735b-445b-e57e-fc586dd8273d"
      },
      "execution_count": 59,
      "outputs": [
        {
          "output_type": "execute_result",
          "data": {
            "text/plain": [
              "6.1796036"
            ]
          },
          "metadata": {},
          "execution_count": 59
        }
      ]
    },
    {
      "cell_type": "code",
      "source": [],
      "metadata": {
        "id": "D3RZnqnVaGr4"
      },
      "execution_count": 59,
      "outputs": []
    },
    {
      "cell_type": "code",
      "source": [],
      "metadata": {
        "id": "i7PPDoDkaGoQ"
      },
      "execution_count": 59,
      "outputs": []
    },
    {
      "cell_type": "code",
      "source": [],
      "metadata": {
        "id": "sdVEz_KA9EOi"
      },
      "execution_count": 60,
      "outputs": []
    },
    {
      "cell_type": "code",
      "source": [],
      "metadata": {
        "id": "p-u0EkA-9ELs"
      },
      "execution_count": 60,
      "outputs": []
    },
    {
      "cell_type": "code",
      "source": [],
      "metadata": {
        "id": "zCNw-Js69EG1"
      },
      "execution_count": 60,
      "outputs": []
    },
    {
      "cell_type": "code",
      "source": [],
      "metadata": {
        "id": "wxfq39Os9EEM"
      },
      "execution_count": 60,
      "outputs": []
    },
    {
      "cell_type": "code",
      "source": [],
      "metadata": {
        "id": "ilkh4a9J9EBj"
      },
      "execution_count": 60,
      "outputs": []
    },
    {
      "cell_type": "code",
      "source": [],
      "metadata": {
        "id": "OPlLw0sO9D-3"
      },
      "execution_count": 60,
      "outputs": []
    },
    {
      "cell_type": "code",
      "source": [],
      "metadata": {
        "id": "ch6duIk49D8P"
      },
      "execution_count": 60,
      "outputs": []
    },
    {
      "cell_type": "code",
      "source": [],
      "metadata": {
        "id": "fIgAaeq-9D0L"
      },
      "execution_count": 60,
      "outputs": []
    },
    {
      "cell_type": "code",
      "source": [],
      "metadata": {
        "id": "XVHc7VQQ9Dxi"
      },
      "execution_count": 60,
      "outputs": []
    },
    {
      "cell_type": "code",
      "execution_count": 60,
      "metadata": {
        "id": "O-cM006lVzcN"
      },
      "outputs": [],
      "source": []
    },
    {
      "cell_type": "code",
      "execution_count": 60,
      "metadata": {
        "id": "uLVN5EZuVzcN"
      },
      "outputs": [],
      "source": []
    }
  ],
  "metadata": {
    "colab": {
      "provenance": [],
      "include_colab_link": true
    },
    "kernelspec": {
      "display_name": "nlp_p310",
      "language": "python",
      "name": "python3"
    },
    "language_info": {
      "codemirror_mode": {
        "name": "ipython",
        "version": 3
      },
      "file_extension": ".py",
      "mimetype": "text/x-python",
      "name": "python",
      "nbconvert_exporter": "python",
      "pygments_lexer": "ipython3",
      "version": "3.10.9"
    },
    "orig_nbformat": 4,
    "vscode": {
      "interpreter": {
        "hash": "5c160606400bd63443fe4361c23f8347e54b6f9986e7c6d27e878f1970943f47"
      }
    }
  },
  "nbformat": 4,
  "nbformat_minor": 0
}