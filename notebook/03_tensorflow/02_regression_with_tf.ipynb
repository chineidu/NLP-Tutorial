{
  "cells": [
    {
      "cell_type": "markdown",
      "metadata": {
        "id": "view-in-github",
        "colab_type": "text"
      },
      "source": [
        "<a href=\"https://colab.research.google.com/github/chineidu/NLP-Tutorial/blob/main/notebook/03_tensorflow/02_regression_with_tf.ipynb\" target=\"_parent\"><img src=\"https://colab.research.google.com/assets/colab-badge.svg\" alt=\"Open In Colab\"/></a>"
      ]
    },
    {
      "cell_type": "markdown",
      "metadata": {
        "id": "YBL3ZU9ptEgt"
      },
      "source": [
        "# Regression With TensorFlow"
      ]
    },
    {
      "cell_type": "code",
      "execution_count": 1,
      "metadata": {
        "id": "L8l2Qmy4tEgv"
      },
      "outputs": [],
      "source": [
        "# Standard imports\n",
        "import numpy as np\n",
        "import pandas as pd\n",
        "import matplotlib.pyplot as plt\n",
        "import seaborn as sns\n",
        "\n",
        "import tensorflow as tf\n"
      ]
    },
    {
      "cell_type": "markdown",
      "source": [
        "### Create Data\n",
        "\n",
        "* This data will be used to train the neural network"
      ],
      "metadata": {
        "id": "8IcL3zlbtEgw"
      }
    },
    {
      "cell_type": "code",
      "execution_count": 2,
      "metadata": {
        "colab": {
          "base_uri": "https://localhost:8080/",
          "height": 409
        },
        "id": "oIO693j_tEgx",
        "outputId": "fd0647a3-242f-4035-f447-221571b60b5a"
      },
      "outputs": [
        {
          "output_type": "display_data",
          "data": {
            "text/plain": [
              "<Figure size 576x432 with 1 Axes>"
            ],
            "image/png": "[encoded data removed]"
          },
          "metadata": {
            "needs_background": "light"
          }
        }
      ],
      "source": [
        "X = np.array([[-12, -9, -6, -3, 0, 3, 6, 9, 12, 15]]) # Row Matrix\n",
        "y = np.array([-2, 1, 4, 7, 10, 13, 16, 19, 22, 25])\n",
        "\n",
        "\n",
        "# Visualize the data\n",
        "plt.figure(figsize=(8, 6))\n",
        "plt.scatter(X, y)\n",
        "plt.xlabel(\"X\", size=13)\n",
        "plt.ylabel(\"y\", size=13)\n",
        "plt.title(\"Scatter plot of X and y\", size=15)\n",
        "plt.show()"
      ]
    },
    {
      "cell_type": "code",
      "execution_count": 3,
      "metadata": {
        "colab": {
          "base_uri": "https://localhost:8080/"
        },
        "id": "QvqsN2k7tEgx",
        "outputId": "0b62b2e4-d832-4a1b-e00c-b159aacf5fec"
      },
      "outputs": [
        {
          "output_type": "execute_result",
          "data": {
            "text/plain": [
              "array([[ True,  True,  True,  True,  True,  True,  True,  True,  True,\n",
              "         True]])"
            ]
          },
          "metadata": {},
          "execution_count": 3
        }
      ],
      "source": [
        "y == X + 10"
      ]
    },
    {
      "cell_type": "code",
      "execution_count": 4,
      "metadata": {
        "colab": {
          "base_uri": "https://localhost:8080/"
        },
        "id": "k6yJtWMNtEgx",
        "outputId": "62861acb-2330-419c-deeb-2c31a2f051bd"
      },
      "outputs": [
        {
          "output_type": "execute_result",
          "data": {
            "text/plain": [
              "(TensorShape([10, 1]), TensorShape([10]))"
            ]
          },
          "metadata": {},
          "execution_count": 4
        }
      ],
      "source": [
        "# Convert the NumPy arrays to Tensors\n",
        "# Cast and reshape X\n",
        "X = tf.cast(tf.constant(X), dtype=tf.float16)\n",
        "X = tf.reshape(X, shape=(-1, 1))\n",
        "y = tf.cast(tf.constant(y), dtype=tf.float16)\n",
        "\n",
        "X.shape, y.shape"
      ]
    },
    {
      "cell_type": "markdown",
      "source": [
        "### Steps In Modelling With TensorFlow\n",
        "\n",
        "1. **Create a model**: define the `input`, `hidden` and `output` layers of the deep learning model.\n",
        "2. **Compile the model**: define the `loss function` (i.e the function that tells our model how wrong it is), the `optimizer` (it tells our model how to improve the patterns its learning) and the `evaluation metrics` (what we can use to interpret the performance of our model).\n",
        "3. **Fit the model**: the model `learns` the `patterns` between the input and the output"
      ],
      "metadata": {
        "id": "ot-0cVu_tEgx"
      }
    },
    {
      "cell_type": "markdown",
      "source": [
        "#### Create a baseline model\n",
        "\n",
        "\n",
        "### Some Key Terms\n",
        "\n",
        "* **Loss**: How wrong the model predictions are (you want to minimize this)\n",
        "* **Optimizer**: It tells the model how it should update it's parameters to improve its predictions.\n",
        "* **Metrics**: Human interpretable values for how well the model is performing.\n",
        "* **Epocs**: This represents the number of times the model will go thru all the training examples.\n",
        "* **Evaluation** (on unseen data): This tells us how reliable the our model predictions are on unseen data."
      ],
      "metadata": {
        "id": "X7ViYJ23tEgx"
      }
    },
    {
      "cell_type": "code",
      "execution_count": 5,
      "metadata": {
        "colab": {
          "base_uri": "https://localhost:8080/"
        },
        "id": "ZoF3b9VOtEgx",
        "outputId": "5d6f72c8-1dd2-48a8-cc2a-07a2dd6a9934"
      },
      "outputs": [
        {
          "output_type": "stream",
          "name": "stdout",
          "text": [
            "Epoch 1/5\n",
            "1/1 [==============================] - 2s 2s/step - loss: 9.2348 - mae: 9.2348\n",
            "Epoch 2/5\n",
            "1/1 [==============================] - 0s 16ms/step - loss: 9.2023 - mae: 9.2023\n",
            "Epoch 3/5\n",
            "1/1 [==============================] - 0s 14ms/step - loss: 9.1698 - mae: 9.1698\n",
            "Epoch 4/5\n",
            "1/1 [==============================] - 0s 20ms/step - loss: 9.1373 - mae: 9.1373\n",
            "Epoch 5/5\n",
            "1/1 [==============================] - 0s 23ms/step - loss: 9.1048 - mae: 9.1048\n"
          ]
        },
        {
          "output_type": "execute_result",
          "data": {
            "text/plain": [
              "<keras.callbacks.History at 0x7fa90c3162b0>"
            ]
          },
          "metadata": {},
          "execution_count": 5
        }
      ],
      "source": [
        "# Set seed for reproducibility\n",
        "SEED = 123\n",
        "tf.random.set_seed(SEED)\n",
        "\n",
        "# 1. Create a model using the Sequential API\n",
        "model = tf.keras.Sequential([\n",
        "    tf.keras.layers.Dense(1, activation=None) # The model has a single neuron\n",
        "\n",
        "])\n",
        "\n",
        "# 2. Compile the model\n",
        "model.compile(loss=tf.keras.losses.mae,  # MAE: Mean Absolute Error\n",
        "              optimizer=tf.keras.optimizers.SGD(), # OR 'sgd'\n",
        "              metrics = [\"mae\"] # OR tf.keras.losses.mae\n",
        "              )\n",
        "\n",
        "# 3. Fit the model\n",
        "model.fit(X, y, epochs=5)"
      ]
    },
    {
      "cell_type": "code",
      "source": [
        "X, y"
      ],
      "metadata": {
        "colab": {
          "base_uri": "https://localhost:8080/"
        },
        "id": "RkoBt_J4fbgl",
        "outputId": "d7cdd0bc-4257-4802-d889-99fe02860e23"
      },
      "execution_count": 6,
      "outputs": [
        {
          "output_type": "execute_result",
          "data": {
            "text/plain": [
              "(<tf.Tensor: shape=(10, 1), dtype=float16, numpy=\n",
              " array([[-12.],\n",
              "        [ -9.],\n",
              "        [ -6.],\n",
              "        [ -3.],\n",
              "        [  0.],\n",
              "        [  3.],\n",
              "        [  6.],\n",
              "        [  9.],\n",
              "        [ 12.],\n",
              "        [ 15.]], dtype=float16)>,\n",
              " <tf.Tensor: shape=(10,), dtype=float16, numpy=array([-2.,  1.,  4.,  7., 10., 13., 16., 19., 22., 25.], dtype=float16)>)"
            ]
          },
          "metadata": {},
          "execution_count": 6
        }
      ]
    },
    {
      "cell_type": "code",
      "execution_count": 7,
      "metadata": {
        "colab": {
          "base_uri": "https://localhost:8080/"
        },
        "id": "8iReHHMOtEgx",
        "outputId": "ce3b68e7-7a5b-4bfd-96ca-ffea3222e3ac"
      },
      "outputs": [
        {
          "output_type": "stream",
          "name": "stdout",
          "text": [
            "1/1 [==============================] - 0s 194ms/step\n"
          ]
        },
        {
          "output_type": "execute_result",
          "data": {
            "text/plain": [
              "array([[28.582344]], dtype=float32)"
            ]
          },
          "metadata": {},
          "execution_count": 7
        }
      ],
      "source": [
        "y_pred = model.predict([18])\n",
        "y_pred"
      ]
    },
    {
      "cell_type": "code",
      "execution_count": 8,
      "metadata": {
        "colab": {
          "base_uri": "https://localhost:8080/"
        },
        "id": "SLU9x65QtEgy",
        "outputId": "a44bf056-cc73-4745-c17f-dd68e0efe6e9"
      },
      "outputs": [
        {
          "output_type": "execute_result",
          "data": {
            "text/plain": [
              "array([[39.582344]], dtype=float32)"
            ]
          },
          "metadata": {},
          "execution_count": 8
        }
      ],
      "source": [
        "# Since the mae is ~11 on average, let's add 11 to the predicted value\n",
        "y_pred + 11"
      ]
    },
    {
      "cell_type": "markdown",
      "source": [
        "### Improve The Model\n",
        "\n",
        "> We can improve the model by altering the steps taken to create the model.\n",
        "\n",
        "1. **Create model**: We might:\n",
        "  * Add more layers\n",
        "  * increase the number of hidden units(neurons)\n",
        "  * change the activation function\n",
        "\n",
        "2. **Compile model**: We might:\n",
        "  * change the optimization function\n",
        "  * change the learning rate\n",
        "\n",
        "3. **Fit the model**: We might:\n",
        "  * increase the number of epochs\n",
        "  * increase the training data"
      ],
      "metadata": {
        "id": "DuPU_6-5tEgy"
      }
    },
    {
      "cell_type": "code",
      "execution_count": 9,
      "metadata": {
        "colab": {
          "base_uri": "https://localhost:8080/"
        },
        "id": "EllZHBuDtEgy",
        "outputId": "a2fc54f4-758c-4986-c80a-c6a5947773bd"
      },
      "outputs": [
        {
          "output_type": "stream",
          "name": "stdout",
          "text": [
            "Epoch 1/100\n",
            "1/1 [==============================] - 1s 895ms/step - loss: 17.2136 - mae: 17.2136\n",
            "Epoch 2/100\n",
            "1/1 [==============================] - 0s 15ms/step - loss: 16.7359 - mae: 16.7359\n",
            "Epoch 3/100\n",
            "1/1 [==============================] - 0s 10ms/step - loss: 16.2582 - mae: 16.2582\n",
            "Epoch 4/100\n",
            "1/1 [==============================] - 0s 10ms/step - loss: 15.7805 - mae: 15.7805\n",
            "Epoch 5/100\n",
            "1/1 [==============================] - 0s 9ms/step - loss: 15.3328 - mae: 15.3328\n",
            "Epoch 6/100\n",
            "1/1 [==============================] - 0s 20ms/step - loss: 15.0043 - mae: 15.0043\n",
            "Epoch 7/100\n",
            "1/1 [==============================] - 0s 24ms/step - loss: 14.6758 - mae: 14.6758\n",
            "Epoch 8/100\n",
            "1/1 [==============================] - 0s 14ms/step - loss: 14.3473 - mae: 14.3473\n",
            "Epoch 9/100\n",
            "1/1 [==============================] - 0s 35ms/step - loss: 14.0188 - mae: 14.0188\n",
            "Epoch 10/100\n",
            "1/1 [==============================] - 0s 14ms/step - loss: 13.6903 - mae: 13.6903\n",
            "Epoch 11/100\n",
            "1/1 [==============================] - 0s 14ms/step - loss: 13.3618 - mae: 13.3618\n",
            "Epoch 12/100\n",
            "1/1 [==============================] - 0s 17ms/step - loss: 13.0333 - mae: 13.0333\n",
            "Epoch 13/100\n",
            "1/1 [==============================] - 0s 15ms/step - loss: 12.7048 - mae: 12.7048\n",
            "Epoch 14/100\n",
            "1/1 [==============================] - 0s 35ms/step - loss: 12.3763 - mae: 12.3763\n",
            "Epoch 15/100\n",
            "1/1 [==============================] - 0s 21ms/step - loss: 12.1084 - mae: 12.1084\n",
            "Epoch 16/100\n",
            "1/1 [==============================] - 0s 17ms/step - loss: 11.9499 - mae: 11.9499\n",
            "Epoch 17/100\n",
            "1/1 [==============================] - 0s 17ms/step - loss: 11.7914 - mae: 11.7914\n",
            "Epoch 18/100\n",
            "1/1 [==============================] - 0s 15ms/step - loss: 11.6329 - mae: 11.6329\n",
            "Epoch 19/100\n",
            "1/1 [==============================] - 0s 19ms/step - loss: 11.4744 - mae: 11.4744\n",
            "Epoch 20/100\n",
            "1/1 [==============================] - 0s 23ms/step - loss: 11.3159 - mae: 11.3159\n",
            "Epoch 21/100\n",
            "1/1 [==============================] - 0s 22ms/step - loss: 11.1574 - mae: 11.1574\n",
            "Epoch 22/100\n",
            "1/1 [==============================] - 0s 19ms/step - loss: 11.0620 - mae: 11.0620\n",
            "Epoch 23/100\n",
            "1/1 [==============================] - 0s 16ms/step - loss: 11.0295 - mae: 11.0295\n",
            "Epoch 24/100\n",
            "1/1 [==============================] - 0s 16ms/step - loss: 10.9970 - mae: 10.9970\n",
            "Epoch 25/100\n",
            "1/1 [==============================] - 0s 16ms/step - loss: 10.9645 - mae: 10.9645\n",
            "Epoch 26/100\n",
            "1/1 [==============================] - 0s 15ms/step - loss: 10.9320 - mae: 10.9320\n",
            "Epoch 27/100\n",
            "1/1 [==============================] - 0s 17ms/step - loss: 10.8995 - mae: 10.8995\n",
            "Epoch 28/100\n",
            "1/1 [==============================] - 0s 13ms/step - loss: 10.8670 - mae: 10.8670\n",
            "Epoch 29/100\n",
            "1/1 [==============================] - 0s 11ms/step - loss: 10.8345 - mae: 10.8345\n",
            "Epoch 30/100\n",
            "1/1 [==============================] - 0s 11ms/step - loss: 10.8020 - mae: 10.8020\n",
            "Epoch 31/100\n",
            "1/1 [==============================] - 0s 12ms/step - loss: 10.7695 - mae: 10.7695\n",
            "Epoch 32/100\n",
            "1/1 [==============================] - 0s 13ms/step - loss: 10.7370 - mae: 10.7370\n",
            "Epoch 33/100\n",
            "1/1 [==============================] - 0s 13ms/step - loss: 10.7045 - mae: 10.7045\n",
            "Epoch 34/100\n",
            "1/1 [==============================] - 0s 13ms/step - loss: 10.6720 - mae: 10.6720\n",
            "Epoch 35/100\n",
            "1/1 [==============================] - 0s 15ms/step - loss: 10.6395 - mae: 10.6395\n",
            "Epoch 36/100\n",
            "1/1 [==============================] - 0s 13ms/step - loss: 10.6070 - mae: 10.6070\n",
            "Epoch 37/100\n",
            "1/1 [==============================] - 0s 13ms/step - loss: 10.5745 - mae: 10.5745\n",
            "Epoch 38/100\n",
            "1/1 [==============================] - 0s 13ms/step - loss: 10.5420 - mae: 10.5420\n",
            "Epoch 39/100\n",
            "1/1 [==============================] - 0s 31ms/step - loss: 10.5095 - mae: 10.5095\n",
            "Epoch 40/100\n",
            "1/1 [==============================] - 0s 18ms/step - loss: 10.4770 - mae: 10.4770\n",
            "Epoch 41/100\n",
            "1/1 [==============================] - 0s 20ms/step - loss: 10.4445 - mae: 10.4445\n",
            "Epoch 42/100\n",
            "1/1 [==============================] - 0s 15ms/step - loss: 10.4120 - mae: 10.4120\n",
            "Epoch 43/100\n",
            "1/1 [==============================] - 0s 17ms/step - loss: 10.3795 - mae: 10.3795\n",
            "Epoch 44/100\n",
            "1/1 [==============================] - 0s 14ms/step - loss: 10.3470 - mae: 10.3470\n",
            "Epoch 45/100\n",
            "1/1 [==============================] - 0s 16ms/step - loss: 10.3145 - mae: 10.3145\n",
            "Epoch 46/100\n",
            "1/1 [==============================] - 0s 26ms/step - loss: 10.2820 - mae: 10.2820\n",
            "Epoch 47/100\n",
            "1/1 [==============================] - 0s 16ms/step - loss: 10.2495 - mae: 10.2495\n",
            "Epoch 48/100\n",
            "1/1 [==============================] - 0s 38ms/step - loss: 10.2170 - mae: 10.2170\n",
            "Epoch 49/100\n",
            "1/1 [==============================] - 0s 20ms/step - loss: 10.1845 - mae: 10.1845\n",
            "Epoch 50/100\n",
            "1/1 [==============================] - 0s 23ms/step - loss: 10.1520 - mae: 10.1520\n",
            "Epoch 51/100\n",
            "1/1 [==============================] - 0s 13ms/step - loss: 10.1195 - mae: 10.1195\n",
            "Epoch 52/100\n",
            "1/1 [==============================] - 0s 13ms/step - loss: 10.0870 - mae: 10.0870\n",
            "Epoch 53/100\n",
            "1/1 [==============================] - 0s 16ms/step - loss: 10.0545 - mae: 10.0545\n",
            "Epoch 54/100\n",
            "1/1 [==============================] - 0s 13ms/step - loss: 10.0220 - mae: 10.0220\n",
            "Epoch 55/100\n",
            "1/1 [==============================] - 0s 20ms/step - loss: 9.9895 - mae: 9.9895\n",
            "Epoch 56/100\n",
            "1/1 [==============================] - 0s 13ms/step - loss: 9.9570 - mae: 9.9570\n",
            "Epoch 57/100\n",
            "1/1 [==============================] - 0s 12ms/step - loss: 9.9245 - mae: 9.9245\n",
            "Epoch 58/100\n",
            "1/1 [==============================] - 0s 19ms/step - loss: 9.8920 - mae: 9.8920\n",
            "Epoch 59/100\n",
            "1/1 [==============================] - 0s 13ms/step - loss: 9.8595 - mae: 9.8595\n",
            "Epoch 60/100\n",
            "1/1 [==============================] - 0s 21ms/step - loss: 9.8270 - mae: 9.8270\n",
            "Epoch 61/100\n",
            "1/1 [==============================] - 0s 9ms/step - loss: 9.7945 - mae: 9.7945\n",
            "Epoch 62/100\n",
            "1/1 [==============================] - 0s 11ms/step - loss: 9.7620 - mae: 9.7620\n",
            "Epoch 63/100\n",
            "1/1 [==============================] - 0s 15ms/step - loss: 9.7295 - mae: 9.7295\n",
            "Epoch 64/100\n",
            "1/1 [==============================] - 0s 10ms/step - loss: 9.6970 - mae: 9.6970\n",
            "Epoch 65/100\n",
            "1/1 [==============================] - 0s 19ms/step - loss: 9.6645 - mae: 9.6645\n",
            "Epoch 66/100\n",
            "1/1 [==============================] - 0s 17ms/step - loss: 9.6320 - mae: 9.6320\n",
            "Epoch 67/100\n",
            "1/1 [==============================] - 0s 11ms/step - loss: 9.5995 - mae: 9.5995\n",
            "Epoch 68/100\n",
            "1/1 [==============================] - 0s 27ms/step - loss: 9.5670 - mae: 9.5670\n",
            "Epoch 69/100\n",
            "1/1 [==============================] - 0s 13ms/step - loss: 9.5345 - mae: 9.5345\n",
            "Epoch 70/100\n",
            "1/1 [==============================] - 0s 12ms/step - loss: 9.5020 - mae: 9.5020\n",
            "Epoch 71/100\n",
            "1/1 [==============================] - 0s 17ms/step - loss: 9.4695 - mae: 9.4695\n",
            "Epoch 72/100\n",
            "1/1 [==============================] - 0s 12ms/step - loss: 9.4370 - mae: 9.4370\n",
            "Epoch 73/100\n",
            "1/1 [==============================] - 0s 15ms/step - loss: 9.4045 - mae: 9.4045\n",
            "Epoch 74/100\n",
            "1/1 [==============================] - 0s 17ms/step - loss: 9.3720 - mae: 9.3720\n",
            "Epoch 75/100\n",
            "1/1 [==============================] - 0s 15ms/step - loss: 9.3395 - mae: 9.3395\n",
            "Epoch 76/100\n",
            "1/1 [==============================] - 0s 15ms/step - loss: 9.3070 - mae: 9.3070\n",
            "Epoch 77/100\n",
            "1/1 [==============================] - 0s 15ms/step - loss: 9.2745 - mae: 9.2745\n",
            "Epoch 78/100\n",
            "1/1 [==============================] - 0s 18ms/step - loss: 9.2420 - mae: 9.2420\n",
            "Epoch 79/100\n",
            "1/1 [==============================] - 0s 31ms/step - loss: 9.2095 - mae: 9.2095\n",
            "Epoch 80/100\n",
            "1/1 [==============================] - 0s 43ms/step - loss: 9.1770 - mae: 9.1770\n",
            "Epoch 81/100\n",
            "1/1 [==============================] - 0s 9ms/step - loss: 9.1445 - mae: 9.1445\n",
            "Epoch 82/100\n",
            "1/1 [==============================] - 0s 11ms/step - loss: 9.1120 - mae: 9.1120\n",
            "Epoch 83/100\n",
            "1/1 [==============================] - 0s 23ms/step - loss: 9.0795 - mae: 9.0795\n",
            "Epoch 84/100\n",
            "1/1 [==============================] - 0s 38ms/step - loss: 9.0470 - mae: 9.0470\n",
            "Epoch 85/100\n",
            "1/1 [==============================] - 0s 52ms/step - loss: 9.0145 - mae: 9.0145\n",
            "Epoch 86/100\n",
            "1/1 [==============================] - 0s 17ms/step - loss: 8.9820 - mae: 8.9820\n",
            "Epoch 87/100\n",
            "1/1 [==============================] - 0s 28ms/step - loss: 8.9495 - mae: 8.9495\n",
            "Epoch 88/100\n",
            "1/1 [==============================] - 0s 20ms/step - loss: 8.9170 - mae: 8.9170\n",
            "Epoch 89/100\n",
            "1/1 [==============================] - 0s 18ms/step - loss: 8.8845 - mae: 8.8845\n",
            "Epoch 90/100\n",
            "1/1 [==============================] - 0s 13ms/step - loss: 8.8520 - mae: 8.8520\n",
            "Epoch 91/100\n",
            "1/1 [==============================] - 0s 18ms/step - loss: 8.8195 - mae: 8.8195\n",
            "Epoch 92/100\n",
            "1/1 [==============================] - 0s 47ms/step - loss: 8.7870 - mae: 8.7870\n",
            "Epoch 93/100\n",
            "1/1 [==============================] - 0s 14ms/step - loss: 8.7545 - mae: 8.7545\n",
            "Epoch 94/100\n",
            "1/1 [==============================] - 0s 17ms/step - loss: 8.7220 - mae: 8.7220\n",
            "Epoch 95/100\n",
            "1/1 [==============================] - 0s 33ms/step - loss: 8.6895 - mae: 8.6895\n",
            "Epoch 96/100\n",
            "1/1 [==============================] - 0s 18ms/step - loss: 8.6570 - mae: 8.6570\n",
            "Epoch 97/100\n",
            "1/1 [==============================] - 0s 15ms/step - loss: 8.6245 - mae: 8.6245\n",
            "Epoch 98/100\n",
            "1/1 [==============================] - 0s 60ms/step - loss: 8.5920 - mae: 8.5920\n",
            "Epoch 99/100\n",
            "1/1 [==============================] - 0s 18ms/step - loss: 8.5595 - mae: 8.5595\n",
            "Epoch 100/100\n",
            "1/1 [==============================] - 0s 23ms/step - loss: 8.5270 - mae: 8.5270\n"
          ]
        },
        {
          "output_type": "execute_result",
          "data": {
            "text/plain": [
              "<keras.callbacks.History at 0x7fa90c0b2850>"
            ]
          },
          "metadata": {},
          "execution_count": 9
        }
      ],
      "source": [
        "# Rebuild the model by increasing the number of epochs\n",
        "tf.random.set_seed(SEED)\n",
        "\n",
        "# Create the model\n",
        "model = tf.keras.Sequential([\n",
        "    tf.keras.layers.Dense(1, activation=None)\n",
        "])\n",
        "\n",
        "# Compile the model\n",
        "model.compile(loss=tf.keras.losses.mae,\n",
        "              optimizer=tf.keras.optimizers.SGD(),\n",
        "              metrics=[\"mae\"])\n",
        "\n",
        "# Fit the model (increase the epochs)\n",
        "model.fit(X, y, epochs=100)"
      ]
    },
    {
      "cell_type": "code",
      "execution_count": 10,
      "metadata": {
        "colab": {
          "base_uri": "https://localhost:8080/"
        },
        "id": "ZdwM1LE0tEgy",
        "outputId": "69d95999-6443-4514-d582-68fe8ccddb3c"
      },
      "outputs": [
        {
          "output_type": "stream",
          "name": "stdout",
          "text": [
            "1/1 [==============================] - 0s 229ms/step\n"
          ]
        },
        {
          "output_type": "execute_result",
          "data": {
            "text/plain": [
              "array([[25.923616]], dtype=float32)"
            ]
          },
          "metadata": {},
          "execution_count": 10
        }
      ],
      "source": [
        "# Make predictions\n",
        "y_pred = model.predict([18])\n",
        "y_pred"
      ]
    },
    {
      "cell_type": "markdown",
      "source": [
        "#### Tweak The Model\n",
        "\n",
        "* Experiment by changing the `hyperparameters`.\n",
        "* Add a new layer."
      ],
      "metadata": {
        "id": "j0odgU52tEgy"
      }
    },
    {
      "cell_type": "code",
      "execution_count": 11,
      "metadata": {
        "colab": {
          "base_uri": "https://localhost:8080/"
        },
        "id": "tQM1AE9StEgy",
        "outputId": "a8a54964-9063-4818-e823-122e1405b23e"
      },
      "outputs": [
        {
          "output_type": "stream",
          "name": "stdout",
          "text": [
            "Epoch 1/100\n",
            "1/1 [==============================] - 1s 739ms/step - loss: 11.8829 - mae: 11.8829\n",
            "Epoch 2/100\n",
            "1/1 [==============================] - 0s 20ms/step - loss: 11.5420 - mae: 11.5420\n",
            "Epoch 3/100\n",
            "1/1 [==============================] - 0s 19ms/step - loss: 11.1831 - mae: 11.1831\n",
            "Epoch 4/100\n",
            "1/1 [==============================] - 0s 15ms/step - loss: 10.8415 - mae: 10.8415\n",
            "Epoch 5/100\n",
            "1/1 [==============================] - 0s 21ms/step - loss: 10.5009 - mae: 10.5009\n",
            "Epoch 6/100\n",
            "1/1 [==============================] - 0s 29ms/step - loss: 10.1513 - mae: 10.1513\n",
            "Epoch 7/100\n",
            "1/1 [==============================] - 0s 22ms/step - loss: 9.8016 - mae: 9.8016\n",
            "Epoch 8/100\n",
            "1/1 [==============================] - 0s 33ms/step - loss: 9.4340 - mae: 9.4340\n",
            "Epoch 9/100\n",
            "1/1 [==============================] - 0s 25ms/step - loss: 9.0415 - mae: 9.0415\n",
            "Epoch 10/100\n",
            "1/1 [==============================] - 0s 20ms/step - loss: 8.6453 - mae: 8.6453\n",
            "Epoch 11/100\n",
            "1/1 [==============================] - 0s 30ms/step - loss: 8.2104 - mae: 8.2104\n",
            "Epoch 12/100\n",
            "1/1 [==============================] - 0s 25ms/step - loss: 7.7468 - mae: 7.7468\n",
            "Epoch 13/100\n",
            "1/1 [==============================] - 0s 27ms/step - loss: 7.2683 - mae: 7.2683\n",
            "Epoch 14/100\n",
            "1/1 [==============================] - 0s 28ms/step - loss: 6.7550 - mae: 6.7550\n",
            "Epoch 15/100\n",
            "1/1 [==============================] - 0s 14ms/step - loss: 6.2148 - mae: 6.2148\n",
            "Epoch 16/100\n",
            "1/1 [==============================] - 0s 15ms/step - loss: 5.6429 - mae: 5.6429\n",
            "Epoch 17/100\n",
            "1/1 [==============================] - 0s 12ms/step - loss: 5.0070 - mae: 5.0070\n",
            "Epoch 18/100\n",
            "1/1 [==============================] - 0s 11ms/step - loss: 4.3382 - mae: 4.3382\n",
            "Epoch 19/100\n",
            "1/1 [==============================] - 0s 14ms/step - loss: 4.0322 - mae: 4.0322\n",
            "Epoch 20/100\n",
            "1/1 [==============================] - 0s 11ms/step - loss: 4.0169 - mae: 4.0169\n",
            "Epoch 21/100\n",
            "1/1 [==============================] - 0s 11ms/step - loss: 3.9895 - mae: 3.9895\n",
            "Epoch 22/100\n",
            "1/1 [==============================] - 0s 13ms/step - loss: 4.0347 - mae: 4.0347\n",
            "Epoch 23/100\n",
            "1/1 [==============================] - 0s 11ms/step - loss: 3.9982 - mae: 3.9982\n",
            "Epoch 24/100\n",
            "1/1 [==============================] - 0s 41ms/step - loss: 3.9899 - mae: 3.9899\n",
            "Epoch 25/100\n",
            "1/1 [==============================] - 0s 20ms/step - loss: 4.0202 - mae: 4.0202\n",
            "Epoch 26/100\n",
            "1/1 [==============================] - 0s 32ms/step - loss: 3.9797 - mae: 3.9797\n",
            "Epoch 27/100\n",
            "1/1 [==============================] - 0s 22ms/step - loss: 3.9949 - mae: 3.9949\n",
            "Epoch 28/100\n",
            "1/1 [==============================] - 0s 30ms/step - loss: 4.0014 - mae: 4.0014\n",
            "Epoch 29/100\n",
            "1/1 [==============================] - 0s 26ms/step - loss: 3.9612 - mae: 3.9612\n",
            "Epoch 30/100\n",
            "1/1 [==============================] - 0s 32ms/step - loss: 3.9996 - mae: 3.9996\n",
            "Epoch 31/100\n",
            "1/1 [==============================] - 0s 30ms/step - loss: 3.9826 - mae: 3.9826\n",
            "Epoch 32/100\n",
            "1/1 [==============================] - 0s 20ms/step - loss: 3.9452 - mae: 3.9452\n",
            "Epoch 33/100\n",
            "1/1 [==============================] - 0s 20ms/step - loss: 4.0024 - mae: 4.0024\n",
            "Epoch 34/100\n",
            "1/1 [==============================] - 0s 18ms/step - loss: 3.9640 - mae: 3.9640\n",
            "Epoch 35/100\n",
            "1/1 [==============================] - 0s 15ms/step - loss: 3.9485 - mae: 3.9485\n",
            "Epoch 36/100\n",
            "1/1 [==============================] - 0s 14ms/step - loss: 3.9857 - mae: 3.9857\n",
            "Epoch 37/100\n",
            "1/1 [==============================] - 0s 20ms/step - loss: 3.9455 - mae: 3.9455\n",
            "Epoch 38/100\n",
            "1/1 [==============================] - 0s 16ms/step - loss: 3.9533 - mae: 3.9533\n",
            "Epoch 39/100\n",
            "1/1 [==============================] - 0s 26ms/step - loss: 3.9672 - mae: 3.9672\n",
            "Epoch 40/100\n",
            "1/1 [==============================] - 0s 17ms/step - loss: 3.9272 - mae: 3.9272\n",
            "Epoch 41/100\n",
            "1/1 [==============================] - 0s 19ms/step - loss: 3.9579 - mae: 3.9579\n",
            "Epoch 42/100\n",
            "1/1 [==============================] - 0s 19ms/step - loss: 3.9488 - mae: 3.9488\n",
            "Epoch 43/100\n",
            "1/1 [==============================] - 0s 21ms/step - loss: 3.9091 - mae: 3.9091\n",
            "Epoch 44/100\n",
            "1/1 [==============================] - 0s 17ms/step - loss: 3.9623 - mae: 3.9623\n",
            "Epoch 45/100\n",
            "1/1 [==============================] - 0s 18ms/step - loss: 3.9306 - mae: 3.9306\n",
            "Epoch 46/100\n",
            "1/1 [==============================] - 0s 21ms/step - loss: 3.9062 - mae: 3.9062\n",
            "Epoch 47/100\n",
            "1/1 [==============================] - 0s 13ms/step - loss: 3.9524 - mae: 3.9524\n",
            "Epoch 48/100\n",
            "1/1 [==============================] - 0s 13ms/step - loss: 3.9130 - mae: 3.9130\n",
            "Epoch 49/100\n",
            "1/1 [==============================] - 0s 15ms/step - loss: 3.9091 - mae: 3.9091\n",
            "Epoch 50/100\n",
            "1/1 [==============================] - 0s 22ms/step - loss: 3.9347 - mae: 3.9347\n",
            "Epoch 51/100\n",
            "1/1 [==============================] - 0s 12ms/step - loss: 3.8950 - mae: 3.8950\n",
            "Epoch 52/100\n",
            "1/1 [==============================] - 0s 12ms/step - loss: 3.9131 - mae: 3.9131\n",
            "Epoch 53/100\n",
            "1/1 [==============================] - 0s 12ms/step - loss: 3.9168 - mae: 3.9168\n",
            "Epoch 54/100\n",
            "1/1 [==============================] - 0s 12ms/step - loss: 3.8773 - mae: 3.8773\n",
            "Epoch 55/100\n",
            "1/1 [==============================] - 0s 12ms/step - loss: 3.9168 - mae: 3.9168\n",
            "Epoch 56/100\n",
            "1/1 [==============================] - 0s 13ms/step - loss: 3.8990 - mae: 3.8990\n",
            "Epoch 57/100\n",
            "1/1 [==============================] - 0s 13ms/step - loss: 3.8679 - mae: 3.8679\n",
            "Epoch 58/100\n",
            "1/1 [==============================] - 0s 14ms/step - loss: 3.9131 - mae: 3.9131\n",
            "Epoch 59/100\n",
            "1/1 [==============================] - 0s 18ms/step - loss: 3.8813 - mae: 3.8813\n",
            "Epoch 60/100\n",
            "1/1 [==============================] - 0s 12ms/step - loss: 3.8676 - mae: 3.8676\n",
            "Epoch 61/100\n",
            "1/1 [==============================] - 0s 13ms/step - loss: 3.8993 - mae: 3.8993\n",
            "Epoch 62/100\n",
            "1/1 [==============================] - 0s 12ms/step - loss: 3.8637 - mae: 3.8637\n",
            "Epoch 63/100\n",
            "1/1 [==============================] - 0s 12ms/step - loss: 3.8671 - mae: 3.8671\n",
            "Epoch 64/100\n",
            "1/1 [==============================] - 0s 12ms/step - loss: 3.8854 - mae: 3.8854\n",
            "Epoch 65/100\n",
            "1/1 [==============================] - 0s 14ms/step - loss: 3.8463 - mae: 3.8463\n",
            "Epoch 66/100\n",
            "1/1 [==============================] - 0s 21ms/step - loss: 3.8692 - mae: 3.8692\n",
            "Epoch 67/100\n",
            "1/1 [==============================] - 0s 17ms/step - loss: 3.8680 - mae: 3.8680\n",
            "Epoch 68/100\n",
            "1/1 [==============================] - 0s 16ms/step - loss: 3.8291 - mae: 3.8291\n",
            "Epoch 69/100\n",
            "1/1 [==============================] - 0s 12ms/step - loss: 3.8712 - mae: 3.8712\n",
            "Epoch 70/100\n",
            "1/1 [==============================] - 0s 15ms/step - loss: 3.8506 - mae: 3.8506\n",
            "Epoch 71/100\n",
            "1/1 [==============================] - 0s 18ms/step - loss: 3.8252 - mae: 3.8252\n",
            "Epoch 72/100\n",
            "1/1 [==============================] - 0s 14ms/step - loss: 3.8578 - mae: 3.8578\n",
            "Epoch 73/100\n",
            "1/1 [==============================] - 0s 13ms/step - loss: 3.8335 - mae: 3.8335\n",
            "Epoch 74/100\n",
            "1/1 [==============================] - 0s 13ms/step - loss: 3.8236 - mae: 3.8236\n",
            "Epoch 75/100\n",
            "1/1 [==============================] - 0s 12ms/step - loss: 3.8444 - mae: 3.8444\n",
            "Epoch 76/100\n",
            "1/1 [==============================] - 0s 12ms/step - loss: 3.8162 - mae: 3.8162\n",
            "Epoch 77/100\n",
            "1/1 [==============================] - 0s 13ms/step - loss: 3.8218 - mae: 3.8218\n",
            "Epoch 78/100\n",
            "1/1 [==============================] - 0s 9ms/step - loss: 3.8312 - mae: 3.8312\n",
            "Epoch 79/100\n",
            "1/1 [==============================] - 0s 16ms/step - loss: 3.7991 - mae: 3.7991\n",
            "Epoch 80/100\n",
            "1/1 [==============================] - 0s 23ms/step - loss: 3.8197 - mae: 3.8197\n",
            "Epoch 81/100\n",
            "1/1 [==============================] - 0s 9ms/step - loss: 3.8182 - mae: 3.8182\n",
            "Epoch 82/100\n",
            "1/1 [==============================] - 0s 29ms/step - loss: 3.7825 - mae: 3.7825\n",
            "Epoch 83/100\n",
            "1/1 [==============================] - 0s 15ms/step - loss: 3.8198 - mae: 3.8198\n",
            "Epoch 84/100\n",
            "1/1 [==============================] - 0s 15ms/step - loss: 3.8055 - mae: 3.8055\n",
            "Epoch 85/100\n",
            "1/1 [==============================] - 0s 9ms/step - loss: 3.7756 - mae: 3.7756\n",
            "Epoch 86/100\n",
            "1/1 [==============================] - 0s 22ms/step - loss: 3.8092 - mae: 3.8092\n",
            "Epoch 87/100\n",
            "1/1 [==============================] - 0s 14ms/step - loss: 3.7883 - mae: 3.7883\n",
            "Epoch 88/100\n",
            "1/1 [==============================] - 0s 19ms/step - loss: 3.7732 - mae: 3.7732\n",
            "Epoch 89/100\n",
            "1/1 [==============================] - 0s 18ms/step - loss: 3.7964 - mae: 3.7964\n",
            "Epoch 90/100\n",
            "1/1 [==============================] - 0s 18ms/step - loss: 3.7712 - mae: 3.7712\n",
            "Epoch 91/100\n",
            "1/1 [==============================] - 0s 18ms/step - loss: 3.7706 - mae: 3.7706\n",
            "Epoch 92/100\n",
            "1/1 [==============================] - 0s 23ms/step - loss: 3.7839 - mae: 3.7839\n",
            "Epoch 93/100\n",
            "1/1 [==============================] - 0s 21ms/step - loss: 3.7542 - mae: 3.7542\n",
            "Epoch 94/100\n",
            "1/1 [==============================] - 0s 15ms/step - loss: 3.7677 - mae: 3.7677\n",
            "Epoch 95/100\n",
            "1/1 [==============================] - 0s 17ms/step - loss: 3.7714 - mae: 3.7714\n",
            "Epoch 96/100\n",
            "1/1 [==============================] - 0s 16ms/step - loss: 3.7374 - mae: 3.7374\n",
            "Epoch 97/100\n",
            "1/1 [==============================] - 0s 13ms/step - loss: 3.7659 - mae: 3.7659\n",
            "Epoch 98/100\n",
            "1/1 [==============================] - 0s 20ms/step - loss: 3.7603 - mae: 3.7603\n",
            "Epoch 99/100\n",
            "1/1 [==============================] - 0s 26ms/step - loss: 3.7223 - mae: 3.7223\n",
            "Epoch 100/100\n",
            "1/1 [==============================] - 0s 22ms/step - loss: 3.7635 - mae: 3.7635\n"
          ]
        },
        {
          "output_type": "execute_result",
          "data": {
            "text/plain": [
              "<keras.callbacks.History at 0x7fa8ff7c3b50>"
            ]
          },
          "metadata": {},
          "execution_count": 11
        }
      ],
      "source": [
        "# Build model\n",
        "tf.random.set_seed(SEED)\n",
        "\n",
        "model = tf.keras.Sequential([\n",
        "    tf.keras.layers.Dense(units=50, activation=\"ReLU\"),\n",
        "    tf.keras.layers.Dense(units=1, activation=None)\n",
        "])\n",
        "\n",
        "# Compile model\n",
        "model.compile(loss=tf.keras.losses.mae,\n",
        "              optimizer=tf.keras.optimizers.SGD(learning_rate=0.01),\n",
        "              metrics=[\"mae\"])\n",
        "\n",
        "# Fit model\n",
        "model.fit(X, y, epochs=100)"
      ]
    },
    {
      "cell_type": "code",
      "execution_count": 12,
      "metadata": {
        "colab": {
          "base_uri": "https://localhost:8080/"
        },
        "id": "RXv-dT5wtEgy",
        "outputId": "e60781ea-2877-4b5e-fb5c-69bd976af1d4"
      },
      "outputs": [
        {
          "output_type": "stream",
          "name": "stdout",
          "text": [
            "1/1 [==============================] - 0s 347ms/step\n"
          ]
        },
        {
          "output_type": "execute_result",
          "data": {
            "text/plain": [
              "array([[32.96692]], dtype=float32)"
            ]
          },
          "metadata": {},
          "execution_count": 12
        }
      ],
      "source": [
        "y_pred = model.predict([18.0])\n",
        "y_pred"
      ]
    },
    {
      "cell_type": "markdown",
      "source": [
        "### Try Using A Different Optimizer\n",
        "\n",
        "* e.g. Adam"
      ],
      "metadata": {
        "id": "cezRNMlytEgy"
      }
    },
    {
      "cell_type": "code",
      "execution_count": 13,
      "metadata": {
        "colab": {
          "base_uri": "https://localhost:8080/"
        },
        "id": "kHoZNAJVtEgy",
        "outputId": "f42e8105-f36e-41c1-c0ea-c387dbf2cbee"
      },
      "outputs": [
        {
          "output_type": "stream",
          "name": "stdout",
          "text": [
            "Epoch 1/100\n",
            "1/1 [==============================] - 2s 2s/step - loss: 12.0244 - mae: 12.0244\n",
            "Epoch 2/100\n",
            "1/1 [==============================] - 0s 16ms/step - loss: 11.2983 - mae: 11.2983\n",
            "Epoch 3/100\n",
            "1/1 [==============================] - 0s 14ms/step - loss: 10.8685 - mae: 10.8685\n",
            "Epoch 4/100\n",
            "1/1 [==============================] - 0s 21ms/step - loss: 10.5470 - mae: 10.5470\n",
            "Epoch 5/100\n",
            "1/1 [==============================] - 0s 15ms/step - loss: 10.2304 - mae: 10.2304\n",
            "Epoch 6/100\n",
            "1/1 [==============================] - 0s 13ms/step - loss: 9.9121 - mae: 9.9121\n",
            "Epoch 7/100\n",
            "1/1 [==============================] - 0s 12ms/step - loss: 9.5884 - mae: 9.5884\n",
            "Epoch 8/100\n",
            "1/1 [==============================] - 0s 13ms/step - loss: 9.2567 - mae: 9.2567\n",
            "Epoch 9/100\n",
            "1/1 [==============================] - 0s 16ms/step - loss: 8.9152 - mae: 8.9152\n",
            "Epoch 10/100\n",
            "1/1 [==============================] - 0s 43ms/step - loss: 8.5622 - mae: 8.5622\n",
            "Epoch 11/100\n",
            "1/1 [==============================] - 0s 19ms/step - loss: 8.1963 - mae: 8.1963\n",
            "Epoch 12/100\n",
            "1/1 [==============================] - 0s 17ms/step - loss: 8.1796 - mae: 8.1796\n",
            "Epoch 13/100\n",
            "1/1 [==============================] - 0s 13ms/step - loss: 8.5446 - mae: 8.5446\n",
            "Epoch 14/100\n",
            "1/1 [==============================] - 0s 14ms/step - loss: 8.6559 - mae: 8.6559\n",
            "Epoch 15/100\n",
            "1/1 [==============================] - 0s 12ms/step - loss: 8.5584 - mae: 8.5584\n",
            "Epoch 16/100\n",
            "1/1 [==============================] - 0s 12ms/step - loss: 8.3141 - mae: 8.3141\n",
            "Epoch 17/100\n",
            "1/1 [==============================] - 0s 16ms/step - loss: 7.9634 - mae: 7.9634\n",
            "Epoch 18/100\n",
            "1/1 [==============================] - 0s 34ms/step - loss: 7.6078 - mae: 7.6078\n",
            "Epoch 19/100\n",
            "1/1 [==============================] - 0s 30ms/step - loss: 7.3951 - mae: 7.3951\n",
            "Epoch 20/100\n",
            "1/1 [==============================] - 0s 23ms/step - loss: 7.4106 - mae: 7.4106\n",
            "Epoch 21/100\n",
            "1/1 [==============================] - 0s 27ms/step - loss: 7.4255 - mae: 7.4255\n",
            "Epoch 22/100\n",
            "1/1 [==============================] - 0s 11ms/step - loss: 7.3984 - mae: 7.3984\n",
            "Epoch 23/100\n",
            "1/1 [==============================] - 0s 12ms/step - loss: 7.3333 - mae: 7.3333\n",
            "Epoch 24/100\n",
            "1/1 [==============================] - 0s 24ms/step - loss: 7.2333 - mae: 7.2333\n",
            "Epoch 25/100\n",
            "1/1 [==============================] - 0s 17ms/step - loss: 7.1006 - mae: 7.1006\n",
            "Epoch 26/100\n",
            "1/1 [==============================] - 0s 17ms/step - loss: 6.9367 - mae: 6.9367\n",
            "Epoch 27/100\n",
            "1/1 [==============================] - 0s 22ms/step - loss: 6.7427 - mae: 6.7427\n",
            "Epoch 28/100\n",
            "1/1 [==============================] - 0s 26ms/step - loss: 6.5193 - mae: 6.5193\n",
            "Epoch 29/100\n",
            "1/1 [==============================] - 0s 18ms/step - loss: 6.2667 - mae: 6.2667\n",
            "Epoch 30/100\n",
            "1/1 [==============================] - 0s 21ms/step - loss: 6.1048 - mae: 6.1048\n",
            "Epoch 31/100\n",
            "1/1 [==============================] - 0s 15ms/step - loss: 6.0212 - mae: 6.0212\n",
            "Epoch 32/100\n",
            "1/1 [==============================] - 0s 28ms/step - loss: 5.9982 - mae: 5.9982\n",
            "Epoch 33/100\n",
            "1/1 [==============================] - 0s 26ms/step - loss: 5.8570 - mae: 5.8570\n",
            "Epoch 34/100\n",
            "1/1 [==============================] - 0s 26ms/step - loss: 5.5922 - mae: 5.5922\n",
            "Epoch 35/100\n",
            "1/1 [==============================] - 0s 19ms/step - loss: 5.3178 - mae: 5.3178\n",
            "Epoch 36/100\n",
            "1/1 [==============================] - 0s 18ms/step - loss: 5.0912 - mae: 5.0912\n",
            "Epoch 37/100\n",
            "1/1 [==============================] - 0s 18ms/step - loss: 4.9812 - mae: 4.9812\n",
            "Epoch 38/100\n",
            "1/1 [==============================] - 0s 27ms/step - loss: 4.8212 - mae: 4.8212\n",
            "Epoch 39/100\n",
            "1/1 [==============================] - 0s 19ms/step - loss: 4.6138 - mae: 4.6138\n",
            "Epoch 40/100\n",
            "1/1 [==============================] - 0s 20ms/step - loss: 4.3609 - mae: 4.3609\n",
            "Epoch 41/100\n",
            "1/1 [==============================] - 0s 20ms/step - loss: 4.0637 - mae: 4.0637\n",
            "Epoch 42/100\n",
            "1/1 [==============================] - 0s 30ms/step - loss: 3.8717 - mae: 3.8717\n",
            "Epoch 43/100\n",
            "1/1 [==============================] - 0s 31ms/step - loss: 3.7266 - mae: 3.7266\n",
            "Epoch 44/100\n",
            "1/1 [==============================] - 0s 30ms/step - loss: 3.4692 - mae: 3.4692\n",
            "Epoch 45/100\n",
            "1/1 [==============================] - 0s 23ms/step - loss: 3.1014 - mae: 3.1014\n",
            "Epoch 46/100\n",
            "1/1 [==============================] - 0s 22ms/step - loss: 2.7971 - mae: 2.7971\n",
            "Epoch 47/100\n",
            "1/1 [==============================] - 0s 32ms/step - loss: 2.5600 - mae: 2.5600\n",
            "Epoch 48/100\n",
            "1/1 [==============================] - 0s 23ms/step - loss: 2.2645 - mae: 2.2645\n",
            "Epoch 49/100\n",
            "1/1 [==============================] - 0s 40ms/step - loss: 1.9128 - mae: 1.9128\n",
            "Epoch 50/100\n",
            "1/1 [==============================] - 0s 19ms/step - loss: 1.5886 - mae: 1.5886\n",
            "Epoch 51/100\n",
            "1/1 [==============================] - 0s 32ms/step - loss: 1.3501 - mae: 1.3501\n",
            "Epoch 52/100\n",
            "1/1 [==============================] - 0s 20ms/step - loss: 0.9283 - mae: 0.9283\n",
            "Epoch 53/100\n",
            "1/1 [==============================] - 0s 23ms/step - loss: 0.5804 - mae: 0.5804\n",
            "Epoch 54/100\n",
            "1/1 [==============================] - 0s 33ms/step - loss: 0.5303 - mae: 0.5303\n",
            "Epoch 55/100\n",
            "1/1 [==============================] - 0s 34ms/step - loss: 0.2473 - mae: 0.2473\n",
            "Epoch 56/100\n",
            "1/1 [==============================] - 0s 16ms/step - loss: 0.7315 - mae: 0.7315\n",
            "Epoch 57/100\n",
            "1/1 [==============================] - 0s 19ms/step - loss: 1.0042 - mae: 1.0042\n",
            "Epoch 58/100\n",
            "1/1 [==============================] - 0s 17ms/step - loss: 1.0808 - mae: 1.0808\n",
            "Epoch 59/100\n",
            "1/1 [==============================] - 0s 16ms/step - loss: 1.0964 - mae: 1.0964\n",
            "Epoch 60/100\n",
            "1/1 [==============================] - 0s 17ms/step - loss: 1.0118 - mae: 1.0118\n",
            "Epoch 61/100\n",
            "1/1 [==============================] - 0s 17ms/step - loss: 1.0038 - mae: 1.0038\n",
            "Epoch 62/100\n",
            "1/1 [==============================] - 0s 19ms/step - loss: 1.0662 - mae: 1.0662\n",
            "Epoch 63/100\n",
            "1/1 [==============================] - 0s 28ms/step - loss: 0.8052 - mae: 0.8052\n",
            "Epoch 64/100\n",
            "1/1 [==============================] - 0s 17ms/step - loss: 0.6663 - mae: 0.6663\n",
            "Epoch 65/100\n",
            "1/1 [==============================] - 0s 30ms/step - loss: 0.5689 - mae: 0.5689\n",
            "Epoch 66/100\n",
            "1/1 [==============================] - 0s 14ms/step - loss: 0.5705 - mae: 0.5705\n",
            "Epoch 67/100\n",
            "1/1 [==============================] - 0s 13ms/step - loss: 0.1917 - mae: 0.1917\n",
            "Epoch 68/100\n",
            "1/1 [==============================] - 0s 13ms/step - loss: 0.5721 - mae: 0.5721\n",
            "Epoch 69/100\n",
            "1/1 [==============================] - 0s 27ms/step - loss: 0.7746 - mae: 0.7746\n",
            "Epoch 70/100\n",
            "1/1 [==============================] - 0s 20ms/step - loss: 0.6056 - mae: 0.6056\n",
            "Epoch 71/100\n",
            "1/1 [==============================] - 0s 15ms/step - loss: 0.5271 - mae: 0.5271\n",
            "Epoch 72/100\n",
            "1/1 [==============================] - 0s 12ms/step - loss: 0.8095 - mae: 0.8095\n",
            "Epoch 73/100\n",
            "1/1 [==============================] - 0s 15ms/step - loss: 0.9546 - mae: 0.9546\n",
            "Epoch 74/100\n",
            "1/1 [==============================] - 0s 12ms/step - loss: 0.7562 - mae: 0.7562\n",
            "Epoch 75/100\n",
            "1/1 [==============================] - 0s 11ms/step - loss: 0.5734 - mae: 0.5734\n",
            "Epoch 76/100\n",
            "1/1 [==============================] - 0s 12ms/step - loss: 0.5963 - mae: 0.5963\n",
            "Epoch 77/100\n",
            "1/1 [==============================] - 0s 11ms/step - loss: 0.5983 - mae: 0.5983\n",
            "Epoch 78/100\n",
            "1/1 [==============================] - 0s 15ms/step - loss: 0.4482 - mae: 0.4482\n",
            "Epoch 79/100\n",
            "1/1 [==============================] - 0s 13ms/step - loss: 0.1634 - mae: 0.1634\n",
            "Epoch 80/100\n",
            "1/1 [==============================] - 0s 12ms/step - loss: 0.5227 - mae: 0.5227\n",
            "Epoch 81/100\n",
            "1/1 [==============================] - 0s 14ms/step - loss: 0.5534 - mae: 0.5534\n",
            "Epoch 82/100\n",
            "1/1 [==============================] - 0s 12ms/step - loss: 0.3148 - mae: 0.3148\n",
            "Epoch 83/100\n",
            "1/1 [==============================] - 0s 15ms/step - loss: 0.3846 - mae: 0.3846\n",
            "Epoch 84/100\n",
            "1/1 [==============================] - 0s 12ms/step - loss: 0.4781 - mae: 0.4781\n",
            "Epoch 85/100\n",
            "1/1 [==============================] - 0s 12ms/step - loss: 0.3523 - mae: 0.3523\n",
            "Epoch 86/100\n",
            "1/1 [==============================] - 0s 11ms/step - loss: 0.3874 - mae: 0.3874\n",
            "Epoch 87/100\n",
            "1/1 [==============================] - 0s 12ms/step - loss: 0.4586 - mae: 0.4586\n",
            "Epoch 88/100\n",
            "1/1 [==============================] - 0s 14ms/step - loss: 0.2917 - mae: 0.2917\n",
            "Epoch 89/100\n",
            "1/1 [==============================] - 0s 13ms/step - loss: 0.1824 - mae: 0.1824\n",
            "Epoch 90/100\n",
            "1/1 [==============================] - 0s 26ms/step - loss: 0.1914 - mae: 0.1914\n",
            "Epoch 91/100\n",
            "1/1 [==============================] - 0s 20ms/step - loss: 0.1800 - mae: 0.1800\n",
            "Epoch 92/100\n",
            "1/1 [==============================] - 0s 46ms/step - loss: 0.1969 - mae: 0.1969\n",
            "Epoch 93/100\n",
            "1/1 [==============================] - 0s 45ms/step - loss: 0.2402 - mae: 0.2402\n",
            "Epoch 94/100\n",
            "1/1 [==============================] - 0s 34ms/step - loss: 0.3160 - mae: 0.3160\n",
            "Epoch 95/100\n",
            "1/1 [==============================] - 0s 30ms/step - loss: 0.1913 - mae: 0.1913\n",
            "Epoch 96/100\n",
            "1/1 [==============================] - 0s 20ms/step - loss: 0.1789 - mae: 0.1789\n",
            "Epoch 97/100\n",
            "1/1 [==============================] - 0s 21ms/step - loss: 0.1078 - mae: 0.1078\n",
            "Epoch 98/100\n",
            "1/1 [==============================] - 0s 25ms/step - loss: 0.2983 - mae: 0.2983\n",
            "Epoch 99/100\n",
            "1/1 [==============================] - 0s 20ms/step - loss: 0.3244 - mae: 0.3244\n",
            "Epoch 100/100\n",
            "1/1 [==============================] - 0s 43ms/step - loss: 0.1499 - mae: 0.1499\n"
          ]
        },
        {
          "output_type": "execute_result",
          "data": {
            "text/plain": [
              "<keras.callbacks.History at 0x7fa8ff7757f0>"
            ]
          },
          "metadata": {},
          "execution_count": 13
        }
      ],
      "source": [
        "# Build model\n",
        "tf.random.set_seed(SEED)\n",
        "\n",
        "model = tf.keras.Sequential([\n",
        "    tf.keras.layers.Dense(units=50, activation=None),\n",
        "    tf.keras.layers.Dense(units=1),\n",
        "])\n",
        "# Compile\n",
        "model.compile(loss=tf.keras.losses.mae,\n",
        "              optimizer=tf.keras.optimizers.Adam(learning_rate=0.01),\n",
        "              metrics=[\"mae\"])\n",
        "\n",
        "# Fit\n",
        "model.fit(X, y, epochs=100)"
      ]
    },
    {
      "cell_type": "code",
      "execution_count": 14,
      "metadata": {
        "colab": {
          "base_uri": "https://localhost:8080/"
        },
        "id": "IvYv_XshtEgy",
        "outputId": "ffb10965-cb71-4b50-827f-1b0373b0ad79"
      },
      "outputs": [
        {
          "output_type": "stream",
          "name": "stdout",
          "text": [
            "1/1 [==============================] - 0s 212ms/step\n"
          ]
        },
        {
          "output_type": "execute_result",
          "data": {
            "text/plain": [
              "array([[28.59259]], dtype=float32)"
            ]
          },
          "metadata": {},
          "execution_count": 14
        }
      ],
      "source": [
        "# Make predictions\n",
        "y_pred = model.predict([18.0])\n",
        "y_pred"
      ]
    },
    {
      "cell_type": "markdown",
      "source": [
        "### Evaluate The Model Performance\n",
        "\n",
        "* It's a good idea to `visualize`.\n",
        "* We can visualize the following:\n",
        "\n",
        "  1. Data.\n",
        "  2. Model.\n",
        "  3. Model training.\n",
        "  4. The model predictions."
      ],
      "metadata": {
        "id": "uyx5ZRWxtEgy"
      }
    },
    {
      "cell_type": "code",
      "source": [
        "# Create a bigger data\n",
        "X = tf.cast(tf.range(-100, 100, 4), dtype=tf.float16)\n",
        "y = X + 10\n",
        "\n",
        "\n",
        "# Turn it into a matrix\n",
        "X = tf.expand_dims(X, axis=-1)\n",
        "\n",
        "\n",
        "tf.size(X).numpy()"
      ],
      "metadata": {
        "colab": {
          "base_uri": "https://localhost:8080/"
        },
        "id": "bua5r1dryGf_",
        "outputId": "a6c486f5-4ebf-498d-e904-a1e293d68765"
      },
      "execution_count": 15,
      "outputs": [
        {
          "output_type": "execute_result",
          "data": {
            "text/plain": [
              "50"
            ]
          },
          "metadata": {},
          "execution_count": 15
        }
      ]
    },
    {
      "cell_type": "code",
      "source": [
        "# Visualize the data\n",
        "plt.figure(figsize=(8, 6))\n",
        "\n",
        "plt.scatter(X, y)\n",
        "plt.xlabel(\"X\", size=13)\n",
        "plt.ylabel(\"y\", size=13)\n",
        "plt.title(\"Scatter Plot of X and Y\", size=15)\n",
        "\n",
        "plt.show()"
      ],
      "metadata": {
        "colab": {
          "base_uri": "https://localhost:8080/",
          "height": 409
        },
        "id": "-pzoCSsv1nGK",
        "outputId": "064860c4-be90-454e-f559-89db2bf7b6a6"
      },
      "execution_count": 16,
      "outputs": [
        {
          "output_type": "display_data",
          "data": {
            "text/plain": [
              "<Figure size 576x432 with 1 Axes>"
            ],
            "image/png": "[encoded data removed]"
          },
          "metadata": {
            "needs_background": "light"
          }
        }
      ]
    },
    {
      "cell_type": "code",
      "source": [
        "0.8 * X.shape[0]"
      ],
      "metadata": {
        "colab": {
          "base_uri": "https://localhost:8080/"
        },
        "id": "kglyYrzB4lxr",
        "outputId": "15cc7ec3-4571-4f18-fb16-f30c77f3e7a6"
      },
      "execution_count": 17,
      "outputs": [
        {
          "output_type": "execute_result",
          "data": {
            "text/plain": [
              "40.0"
            ]
          },
          "metadata": {},
          "execution_count": 17
        }
      ]
    },
    {
      "cell_type": "code",
      "source": [
        "# Split the data\n",
        "X_train, X_val = X[:40], X[40:]\n",
        "y_train, y_val = y[:40], y[40:]\n",
        "\n",
        "X_train.shape, X_val.shape"
      ],
      "metadata": {
        "colab": {
          "base_uri": "https://localhost:8080/"
        },
        "id": "xQTE-tdB4ZgL",
        "outputId": "17660b55-40ce-42f1-832c-19a3683fad9a"
      },
      "execution_count": 18,
      "outputs": [
        {
          "output_type": "execute_result",
          "data": {
            "text/plain": [
              "(TensorShape([40, 1]), TensorShape([10, 1]))"
            ]
          },
          "metadata": {},
          "execution_count": 18
        }
      ]
    },
    {
      "cell_type": "code",
      "source": [
        "# Visualize the data\n",
        "plt.figure(figsize=(8, 6))\n",
        "\n",
        "plt.scatter(X_train, y_train, color=\"red\", label=\"Training data\")\n",
        "plt.scatter(X_val, y_val, color=\"blue\", label=\"Validation data\")\n",
        "plt.xlabel(\"X\", size=13)\n",
        "plt.ylabel(\"y\", size=13)\n",
        "plt.title(\"Scatter Plot of X and Y\", size=15)\n",
        "plt.legend()\n",
        "\n",
        "plt.show()"
      ],
      "metadata": {
        "colab": {
          "base_uri": "https://localhost:8080/",
          "height": 409
        },
        "id": "qQe2DYcy6BQ0",
        "outputId": "bdf431ea-f060-46e2-a3e6-0921b213f3ae"
      },
      "execution_count": 19,
      "outputs": [
        {
          "output_type": "display_data",
          "data": {
            "text/plain": [
              "<Figure size 576x432 with 1 Axes>"
            ],
            "image/png": "[encoded data removed]"
          },
          "metadata": {
            "needs_background": "light"
          }
        }
      ]
    },
    {
      "cell_type": "markdown",
      "source": [
        "### Visualize The Data Split"
      ],
      "metadata": {
        "id": "cbCeorKj58C9"
      }
    },
    {
      "cell_type": "code",
      "source": [
        "# from sklearn.model_selection import train_test_split\n",
        "\n",
        "\n",
        "\n",
        "# RANDOM_STATE, TEST_SIZE = 123, 0.2\n",
        "\n",
        "# X_train, X_val, y_train, y_val = train_test_split(X, y, test_size=TEST_SIZE, random_state=RANDOM_STATE)\n",
        "# X_train.shape, X_val.shape"
      ],
      "metadata": {
        "id": "7W1G_gP90BxJ"
      },
      "execution_count": 20,
      "outputs": []
    },
    {
      "cell_type": "code",
      "source": [
        "# Build model (with input shape)\n",
        "tf.random.set_seed(SEED)\n",
        "\n",
        "model_2 = tf.keras.Sequential([\n",
        "    tf.keras.layers.Dense(units=10, activation=None, input_shape=[1], name=\"input_layer\"),\n",
        "    tf.keras.layers.Dense(units=1, name=\"output_layer\"),\n",
        "], name=\"neural_net_1\")\n",
        "\n",
        "# Compile \n",
        "model_2.compile(loss=tf.keras.losses.mae,\n",
        "              optimizer=tf.keras.optimizers.SGD(learning_rate=0.01),\n",
        "              metrics=[\"mae\"])\n",
        "\n"
      ],
      "metadata": {
        "id": "0MgCCzGkyGWh"
      },
      "execution_count": 21,
      "outputs": []
    },
    {
      "cell_type": "code",
      "source": [
        "# Model Summary\n",
        "model_2.summary()"
      ],
      "metadata": {
        "colab": {
          "base_uri": "https://localhost:8080/"
        },
        "id": "uXCVuoDQDPG-",
        "outputId": "f18d95f8-42c1-4899-a3f9-a6ae0f5eea52"
      },
      "execution_count": 22,
      "outputs": [
        {
          "output_type": "stream",
          "name": "stdout",
          "text": [
            "Model: \"neural_net_1\"\n",
            "_________________________________________________________________\n",
            " Layer (type)                Output Shape              Param #   \n",
            "=================================================================\n",
            " input_layer (Dense)         (None, 10)                20        \n",
            "                                                                 \n",
            " output_layer (Dense)        (None, 1)                 11        \n",
            "                                                                 \n",
            "=================================================================\n",
            "Total params: 31\n",
            "Trainable params: 31\n",
            "Non-trainable params: 0\n",
            "_________________________________________________________________\n"
          ]
        }
      ]
    },
    {
      "cell_type": "markdown",
      "source": [
        "### Some Key Terms\n",
        "* **Total params**: total number of parameters the model needs to learn.\n",
        "* **Trainable params**: these are the parameters (patterns) that the model can update as it trains.\n",
        "* **Non-trainable params**: these parameters are not updated during training. this is typical when you use already learned parameters from other models during training (i.e transfer learning)"
      ],
      "metadata": {
        "id": "fICF6wX2Dmxb"
      }
    },
    {
      "cell_type": "code",
      "source": [
        "# Fit \n",
        "model_2.fit(X_train, y_train, epochs=100)"
      ],
      "metadata": {
        "colab": {
          "base_uri": "https://localhost:8080/"
        },
        "id": "R7rGqq7XFhuq",
        "outputId": "e0ce5329-4ca4-4b0a-afd6-3e4b6fa15ba7"
      },
      "execution_count": 23,
      "outputs": [
        {
          "output_type": "stream",
          "name": "stdout",
          "text": [
            "Epoch 1/100\n",
            "2/2 [==============================] - 1s 18ms/step - loss: 53.8508 - mae: 53.8508\n",
            "Epoch 2/100\n",
            "2/2 [==============================] - 0s 12ms/step - loss: 8.8334 - mae: 8.8334\n",
            "Epoch 3/100\n",
            "2/2 [==============================] - 0s 10ms/step - loss: 41.8129 - mae: 41.8129\n",
            "Epoch 4/100\n",
            "2/2 [==============================] - 0s 10ms/step - loss: 28.2321 - mae: 28.2321\n",
            "Epoch 5/100\n",
            "2/2 [==============================] - 0s 11ms/step - loss: 12.5462 - mae: 12.5462\n",
            "Epoch 6/100\n",
            "2/2 [==============================] - 0s 11ms/step - loss: 17.3927 - mae: 17.3927\n",
            "Epoch 7/100\n",
            "2/2 [==============================] - 0s 11ms/step - loss: 12.2574 - mae: 12.2574\n",
            "Epoch 8/100\n",
            "2/2 [==============================] - 0s 16ms/step - loss: 17.9425 - mae: 17.9425\n",
            "Epoch 9/100\n",
            "2/2 [==============================] - 0s 17ms/step - loss: 10.4034 - mae: 10.4034\n",
            "Epoch 10/100\n",
            "2/2 [==============================] - 0s 16ms/step - loss: 16.9916 - mae: 16.9916\n",
            "Epoch 11/100\n",
            "2/2 [==============================] - 0s 10ms/step - loss: 11.0626 - mae: 11.0626\n",
            "Epoch 12/100\n",
            "2/2 [==============================] - 0s 12ms/step - loss: 23.9139 - mae: 23.9139\n",
            "Epoch 13/100\n",
            "2/2 [==============================] - 0s 9ms/step - loss: 15.6595 - mae: 15.6595\n",
            "Epoch 14/100\n",
            "2/2 [==============================] - 0s 18ms/step - loss: 8.1020 - mae: 8.1020\n",
            "Epoch 15/100\n",
            "2/2 [==============================] - 0s 9ms/step - loss: 12.6924 - mae: 12.6924\n",
            "Epoch 16/100\n",
            "2/2 [==============================] - 0s 11ms/step - loss: 13.7589 - mae: 13.7589\n",
            "Epoch 17/100\n",
            "2/2 [==============================] - 0s 11ms/step - loss: 15.9688 - mae: 15.9688\n",
            "Epoch 18/100\n",
            "2/2 [==============================] - 0s 14ms/step - loss: 15.6776 - mae: 15.6776\n",
            "Epoch 19/100\n",
            "2/2 [==============================] - 0s 15ms/step - loss: 13.0227 - mae: 13.0227\n",
            "Epoch 20/100\n",
            "2/2 [==============================] - 0s 11ms/step - loss: 25.3738 - mae: 25.3738\n",
            "Epoch 21/100\n",
            "2/2 [==============================] - 0s 15ms/step - loss: 9.0021 - mae: 9.0021\n",
            "Epoch 22/100\n",
            "2/2 [==============================] - 0s 12ms/step - loss: 13.6938 - mae: 13.6938\n",
            "Epoch 23/100\n",
            "2/2 [==============================] - 0s 12ms/step - loss: 17.8716 - mae: 17.8716\n",
            "Epoch 24/100\n",
            "2/2 [==============================] - 0s 12ms/step - loss: 10.9947 - mae: 10.9947\n",
            "Epoch 25/100\n",
            "2/2 [==============================] - 0s 11ms/step - loss: 11.5809 - mae: 11.5809\n",
            "Epoch 26/100\n",
            "2/2 [==============================] - 0s 6ms/step - loss: 22.4107 - mae: 22.4107\n",
            "Epoch 27/100\n",
            "2/2 [==============================] - 0s 19ms/step - loss: 15.1033 - mae: 15.1033\n",
            "Epoch 28/100\n",
            "2/2 [==============================] - 0s 15ms/step - loss: 14.0160 - mae: 14.0160\n",
            "Epoch 29/100\n",
            "2/2 [==============================] - 0s 19ms/step - loss: 16.6845 - mae: 16.6845\n",
            "Epoch 30/100\n",
            "2/2 [==============================] - 0s 7ms/step - loss: 11.4076 - mae: 11.4076\n",
            "Epoch 31/100\n",
            "2/2 [==============================] - 0s 20ms/step - loss: 17.2162 - mae: 17.2162\n",
            "Epoch 32/100\n",
            "2/2 [==============================] - 0s 19ms/step - loss: 8.2003 - mae: 8.2003\n",
            "Epoch 33/100\n",
            "2/2 [==============================] - 0s 15ms/step - loss: 11.6354 - mae: 11.6354\n",
            "Epoch 34/100\n",
            "2/2 [==============================] - 0s 13ms/step - loss: 15.0343 - mae: 15.0343\n",
            "Epoch 35/100\n",
            "2/2 [==============================] - 0s 22ms/step - loss: 11.9942 - mae: 11.9942\n",
            "Epoch 36/100\n",
            "2/2 [==============================] - 0s 12ms/step - loss: 18.3619 - mae: 18.3619\n",
            "Epoch 37/100\n",
            "2/2 [==============================] - 0s 25ms/step - loss: 11.6412 - mae: 11.6412\n",
            "Epoch 38/100\n",
            "2/2 [==============================] - 0s 37ms/step - loss: 11.8912 - mae: 11.8912\n",
            "Epoch 39/100\n",
            "2/2 [==============================] - 0s 12ms/step - loss: 21.9207 - mae: 21.9207\n",
            "Epoch 40/100\n",
            "2/2 [==============================] - 0s 17ms/step - loss: 12.2491 - mae: 12.2491\n",
            "Epoch 41/100\n",
            "2/2 [==============================] - 0s 14ms/step - loss: 12.8937 - mae: 12.8937\n",
            "Epoch 42/100\n",
            "2/2 [==============================] - 0s 42ms/step - loss: 17.5689 - mae: 17.5689\n",
            "Epoch 43/100\n",
            "2/2 [==============================] - 0s 24ms/step - loss: 8.9589 - mae: 8.9589\n",
            "Epoch 44/100\n",
            "2/2 [==============================] - 0s 17ms/step - loss: 11.4699 - mae: 11.4699\n",
            "Epoch 45/100\n",
            "2/2 [==============================] - 0s 11ms/step - loss: 20.7759 - mae: 20.7759\n",
            "Epoch 46/100\n",
            "2/2 [==============================] - 0s 15ms/step - loss: 19.8581 - mae: 19.8581\n",
            "Epoch 47/100\n",
            "2/2 [==============================] - 0s 10ms/step - loss: 12.0157 - mae: 12.0157\n",
            "Epoch 48/100\n",
            "2/2 [==============================] - 0s 11ms/step - loss: 16.1964 - mae: 16.1964\n",
            "Epoch 49/100\n",
            "2/2 [==============================] - 0s 12ms/step - loss: 11.2435 - mae: 11.2435\n",
            "Epoch 50/100\n",
            "2/2 [==============================] - 0s 18ms/step - loss: 14.2840 - mae: 14.2840\n",
            "Epoch 51/100\n",
            "2/2 [==============================] - 0s 12ms/step - loss: 22.2312 - mae: 22.2312\n",
            "Epoch 52/100\n",
            "2/2 [==============================] - 0s 14ms/step - loss: 13.4298 - mae: 13.4298\n",
            "Epoch 53/100\n",
            "2/2 [==============================] - 0s 14ms/step - loss: 17.1719 - mae: 17.1719\n",
            "Epoch 54/100\n",
            "2/2 [==============================] - 0s 10ms/step - loss: 12.3392 - mae: 12.3392\n",
            "Epoch 55/100\n",
            "2/2 [==============================] - 0s 11ms/step - loss: 12.8539 - mae: 12.8539\n",
            "Epoch 56/100\n",
            "2/2 [==============================] - 0s 8ms/step - loss: 10.5406 - mae: 10.5406\n",
            "Epoch 57/100\n",
            "2/2 [==============================] - 0s 15ms/step - loss: 13.8231 - mae: 13.8231\n",
            "Epoch 58/100\n",
            "2/2 [==============================] - 0s 11ms/step - loss: 11.5743 - mae: 11.5743\n",
            "Epoch 59/100\n",
            "2/2 [==============================] - 0s 11ms/step - loss: 9.3193 - mae: 9.3193\n",
            "Epoch 60/100\n",
            "2/2 [==============================] - 0s 11ms/step - loss: 9.9061 - mae: 9.9061\n",
            "Epoch 61/100\n",
            "2/2 [==============================] - 0s 10ms/step - loss: 13.6641 - mae: 13.6641\n",
            "Epoch 62/100\n",
            "2/2 [==============================] - 0s 18ms/step - loss: 20.9478 - mae: 20.9478\n",
            "Epoch 63/100\n",
            "2/2 [==============================] - 0s 15ms/step - loss: 7.7289 - mae: 7.7289\n",
            "Epoch 64/100\n",
            "2/2 [==============================] - 0s 16ms/step - loss: 12.2223 - mae: 12.2223\n",
            "Epoch 65/100\n",
            "2/2 [==============================] - 0s 11ms/step - loss: 13.5860 - mae: 13.5860\n",
            "Epoch 66/100\n",
            "2/2 [==============================] - 0s 21ms/step - loss: 17.8965 - mae: 17.8965\n",
            "Epoch 67/100\n",
            "2/2 [==============================] - 0s 32ms/step - loss: 14.4749 - mae: 14.4749\n",
            "Epoch 68/100\n",
            "2/2 [==============================] - 0s 8ms/step - loss: 10.8176 - mae: 10.8176\n",
            "Epoch 69/100\n",
            "2/2 [==============================] - 0s 8ms/step - loss: 13.2556 - mae: 13.2556\n",
            "Epoch 70/100\n",
            "2/2 [==============================] - 0s 7ms/step - loss: 12.6409 - mae: 12.6409\n",
            "Epoch 71/100\n",
            "2/2 [==============================] - 0s 7ms/step - loss: 17.3731 - mae: 17.3731\n",
            "Epoch 72/100\n",
            "2/2 [==============================] - 0s 14ms/step - loss: 13.4860 - mae: 13.4860\n",
            "Epoch 73/100\n",
            "2/2 [==============================] - 0s 10ms/step - loss: 9.1942 - mae: 9.1942\n",
            "Epoch 74/100\n",
            "2/2 [==============================] - 0s 12ms/step - loss: 23.0904 - mae: 23.0904\n",
            "Epoch 75/100\n",
            "2/2 [==============================] - 0s 24ms/step - loss: 10.6235 - mae: 10.6235\n",
            "Epoch 76/100\n",
            "2/2 [==============================] - 0s 27ms/step - loss: 14.3072 - mae: 14.3072\n",
            "Epoch 77/100\n",
            "2/2 [==============================] - 0s 19ms/step - loss: 7.4618 - mae: 7.4618\n",
            "Epoch 78/100\n",
            "2/2 [==============================] - 0s 11ms/step - loss: 9.8854 - mae: 9.8854\n",
            "Epoch 79/100\n",
            "2/2 [==============================] - 0s 13ms/step - loss: 17.9639 - mae: 17.9639\n",
            "Epoch 80/100\n",
            "2/2 [==============================] - 0s 10ms/step - loss: 17.6916 - mae: 17.6916\n",
            "Epoch 81/100\n",
            "2/2 [==============================] - 0s 23ms/step - loss: 17.0083 - mae: 17.0083\n",
            "Epoch 82/100\n",
            "2/2 [==============================] - 0s 10ms/step - loss: 10.1901 - mae: 10.1901\n",
            "Epoch 83/100\n",
            "2/2 [==============================] - 0s 18ms/step - loss: 14.7225 - mae: 14.7225\n",
            "Epoch 84/100\n",
            "2/2 [==============================] - 0s 10ms/step - loss: 18.1266 - mae: 18.1266\n",
            "Epoch 85/100\n",
            "2/2 [==============================] - 0s 8ms/step - loss: 14.8055 - mae: 14.8055\n",
            "Epoch 86/100\n",
            "2/2 [==============================] - 0s 8ms/step - loss: 9.3631 - mae: 9.3631\n",
            "Epoch 87/100\n",
            "2/2 [==============================] - 0s 7ms/step - loss: 17.1667 - mae: 17.1667\n",
            "Epoch 88/100\n",
            "2/2 [==============================] - 0s 12ms/step - loss: 25.3745 - mae: 25.3745\n",
            "Epoch 89/100\n",
            "2/2 [==============================] - 0s 12ms/step - loss: 17.0907 - mae: 17.0907\n",
            "Epoch 90/100\n",
            "2/2 [==============================] - 0s 22ms/step - loss: 11.4530 - mae: 11.4530\n",
            "Epoch 91/100\n",
            "2/2 [==============================] - 0s 15ms/step - loss: 23.1818 - mae: 23.1818\n",
            "Epoch 92/100\n",
            "2/2 [==============================] - 0s 12ms/step - loss: 20.9186 - mae: 20.9186\n",
            "Epoch 93/100\n",
            "2/2 [==============================] - 0s 17ms/step - loss: 7.0685 - mae: 7.0685\n",
            "Epoch 94/100\n",
            "2/2 [==============================] - 0s 12ms/step - loss: 22.1279 - mae: 22.1279\n",
            "Epoch 95/100\n",
            "2/2 [==============================] - 0s 9ms/step - loss: 16.4722 - mae: 16.4722\n",
            "Epoch 96/100\n",
            "2/2 [==============================] - 0s 12ms/step - loss: 11.2015 - mae: 11.2015\n",
            "Epoch 97/100\n",
            "2/2 [==============================] - 0s 10ms/step - loss: 15.6936 - mae: 15.6936\n",
            "Epoch 98/100\n",
            "2/2 [==============================] - 0s 9ms/step - loss: 20.9738 - mae: 20.9738\n",
            "Epoch 99/100\n",
            "2/2 [==============================] - 0s 9ms/step - loss: 17.7297 - mae: 17.7297\n",
            "Epoch 100/100\n",
            "2/2 [==============================] - 0s 10ms/step - loss: 19.2698 - mae: 19.2698\n"
          ]
        },
        {
          "output_type": "execute_result",
          "data": {
            "text/plain": [
              "<keras.callbacks.History at 0x7fa8ff00dfa0>"
            ]
          },
          "metadata": {},
          "execution_count": 23
        }
      ]
    },
    {
      "cell_type": "markdown",
      "source": [
        "### Visualize The Model\n",
        "\n",
        "[![image.png](https://i.postimg.cc/XJnBMPTk/image.png)](https://postimg.cc/Lq08Lx4J)"
      ],
      "metadata": {
        "id": "9yZyuAAZF9eZ"
      }
    },
    {
      "cell_type": "code",
      "source": [
        "from tensorflow.keras.utils import plot_model\n",
        "\n",
        "\n",
        "plot_model(model_2, show_shapes=True)"
      ],
      "metadata": {
        "colab": {
          "base_uri": "https://localhost:8080/",
          "height": 312
        },
        "id": "dqmkX400F9SZ",
        "outputId": "6be7659e-e1cf-40ac-fa90-5c561f4f3ea4"
      },
      "execution_count": 24,
      "outputs": [
        {
          "output_type": "execute_result",
          "data": {
            "image/png": "[encoded data removed]",
            "text/plain": [
              "<IPython.core.display.Image object>"
            ]
          },
          "metadata": {},
          "execution_count": 24
        }
      ]
    },
    {
      "cell_type": "code",
      "source": [],
      "metadata": {
        "id": "GxqhY96vGbPf"
      },
      "execution_count": 24,
      "outputs": []
    },
    {
      "cell_type": "code",
      "source": [
        "def plot_prediction(X_train=X_train, \n",
        "                    X_val=X_val, \n",
        "                    y_train=y_train, \n",
        "                    y_val=y_val, \n",
        "                    y_predictions=y_pred) -> \"Plot\":\n",
        "  \"\"\"This is used to visualize the model predictions.\n",
        "\n",
        "  Params:\n",
        "    X_train (tf.tensor): The training data.\n",
        "    X_val (tf.tensor): The validation data.\n",
        "    y_train (tf.tensor): The labels of the training data.\n",
        "    y_train (tf.tensor): The labels of the validation data.\n",
        "    y_pred (tf.tensor): The predicted data.\n",
        "\n",
        "  Returns:\n",
        "    None\n",
        "  \"\"\"\n",
        "  # Visualize the data\n",
        "  plt.figure(figsize=(8, 6))\n",
        "\n",
        "  plt.scatter(X_train, y_train, color=\"red\", label=\"Training data\")\n",
        "  plt.scatter(X_val, y_val, color=\"blue\", label=\"Validation data\")\n",
        "  plt.scatter(X_val, y_predictions, color=\"green\", label=\"Predicted data\")\n",
        "  plt.xlabel(\"X\", size=13)\n",
        "  plt.ylabel(\"y\", size=13)\n",
        "  plt.title(\"Scatter Plot of X and Y\", size=15)\n",
        "  plt.legend()\n",
        "\n",
        "  plt.show()"
      ],
      "metadata": {
        "id": "yiX8ZawtyGIk"
      },
      "execution_count": 25,
      "outputs": []
    },
    {
      "cell_type": "code",
      "source": [
        "# Make predictions\n",
        "y_pred_2 = model_2.predict(X_val)"
      ],
      "metadata": {
        "colab": {
          "base_uri": "https://localhost:8080/"
        },
        "id": "NPxM67uWRuQw",
        "outputId": "18f9d93b-3313-47ae-be38-f1c4303e4301"
      },
      "execution_count": 26,
      "outputs": [
        {
          "output_type": "stream",
          "name": "stderr",
          "text": [
            "WARNING:tensorflow:5 out of the last 5 calls to <function Model.make_predict_function.<locals>.predict_function at 0x7fa8fe6e2310> triggered tf.function retracing. Tracing is expensive and the excessive number of tracings could be due to (1) creating @tf.function repeatedly in a loop, (2) passing tensors with different shapes, (3) passing Python objects instead of tensors. For (1), please define your @tf.function outside of the loop. For (2), @tf.function has reduce_retracing=True option that can avoid unnecessary retracing. For (3), please refer to https://www.tensorflow.org/guide/function#controlling_retracing and https://www.tensorflow.org/api_docs/python/tf/function for  more details.\n"
          ]
        },
        {
          "output_type": "stream",
          "name": "stdout",
          "text": [
            "1/1 [==============================] - 0s 226ms/step\n"
          ]
        }
      ]
    },
    {
      "cell_type": "code",
      "source": [
        "plot_prediction(y_predictions=y_pred_2)"
      ],
      "metadata": {
        "colab": {
          "base_uri": "https://localhost:8080/",
          "height": 409
        },
        "id": "POWJ7A_gyGFb",
        "outputId": "639f50db-2c5d-4369-ac72-ba31bc3ef1b6"
      },
      "execution_count": 27,
      "outputs": [
        {
          "output_type": "display_data",
          "data": {
            "text/plain": [
              "<Figure size 576x432 with 1 Axes>"
            ],
            "image/png": "[encoded data removed]"
          },
          "metadata": {
            "needs_background": "light"
          }
        }
      ]
    },
    {
      "cell_type": "code",
      "source": [
        "# Evaluate\n",
        "model_2.evaluate(X_val, y_val)"
      ],
      "metadata": {
        "colab": {
          "base_uri": "https://localhost:8080/"
        },
        "id": "LouQdtgFyF_c",
        "outputId": "91a874ca-492c-4f44-82e1-6e01294326fd"
      },
      "execution_count": 28,
      "outputs": [
        {
          "output_type": "stream",
          "name": "stdout",
          "text": [
            "1/1 [==============================] - 0s 473ms/step - loss: 5.6431 - mae: 5.6431\n"
          ]
        },
        {
          "output_type": "execute_result",
          "data": {
            "text/plain": [
              "[5.64305305480957, 5.64305305480957]"
            ]
          },
          "metadata": {},
          "execution_count": 28
        }
      ]
    },
    {
      "cell_type": "markdown",
      "source": [
        "### Challenge\n",
        "\n",
        "> Implement the following:\n",
        "\n",
        "1. Mean Absolute Error\n",
        "\n",
        "```python\n",
        "tf.keras.losses.MAE()\n",
        "\n",
        "# OR\n",
        "tf.metrics.mean_absolute_error()\n",
        "```\n",
        "\n",
        "$$\n",
        "mae = \\frac{\\sum^n_{i=1}{|y_{i}} - \\hat{y}_{i}|}{n}\n",
        "$$\n",
        "\n",
        "2. Mean Squared Error\n",
        "\n",
        "```python\n",
        "tf.keras.losses.MSE()\n",
        "\n",
        "# OR\n",
        "tf.metrics.mean_squared_error()\n",
        "```\n",
        "\n",
        "$$\n",
        "mse = \\frac{\\sum^n_{i=1}{(y_{i}} - \\hat{y}_{i})^2}{n}\n",
        "$$"
      ],
      "metadata": {
        "id": "vwMGN8vkPH4c"
      }
    },
    {
      "cell_type": "code",
      "source": [
        "def mean_absolute_error(*, y_true:\"tf.tensor\", y_pred:\"tf.tensor\") -> float:\n",
        "  \"\"\"This returns the Mean Absolute Error.\"\"\"\n",
        "  mae = tf.math.reduce_mean(tf.math.abs(y_true - tf.squeeze(tf.cast(y_pred, dtype=tf.float16))))\n",
        "  return mae\n",
        "\n",
        "\n",
        "def mean_squared_error(*, y_true:\"tf.tensor\", y_pred:\"tf.tensor\") -> float:\n",
        "  \"\"\"This returns the Mean Squared Error.\"\"\"\n",
        "  mse = tf.math.reduce_mean(tf.math.square(y_true - tf.squeeze(tf.cast(y_pred, dtype=tf.float16))))\n",
        "  return mse\n",
        "\n"
      ],
      "metadata": {
        "id": "3OWyt2WwyF8-"
      },
      "execution_count": 29,
      "outputs": []
    },
    {
      "cell_type": "code",
      "source": [
        "mae_2 = mean_absolute_error(y_true=y_val, y_pred=y_pred_2)\n",
        "print(mae_2)\n",
        "\n",
        "mse_2 = mean_squared_error(y_true=y_val, y_pred=y_pred_2)\n",
        "\n",
        "mse_2"
      ],
      "metadata": {
        "colab": {
          "base_uri": "https://localhost:8080/"
        },
        "id": "pZYrSwTgyF6d",
        "outputId": "515e4d47-74c1-49d8-cbe4-682d75d69a9e"
      },
      "execution_count": 30,
      "outputs": [
        {
          "output_type": "stream",
          "name": "stdout",
          "text": [
            "tf.Tensor(5.65, shape=(), dtype=float16)\n"
          ]
        },
        {
          "output_type": "execute_result",
          "data": {
            "text/plain": [
              "<tf.Tensor: shape=(), dtype=float16, numpy=32.06>"
            ]
          },
          "metadata": {},
          "execution_count": 30
        }
      ]
    },
    {
      "cell_type": "code",
      "source": [
        "# OR\n",
        "tf.keras.losses.MAE(y_true=y_val, y_pred=tf.squeeze(y_pred_2))"
      ],
      "metadata": {
        "colab": {
          "base_uri": "https://localhost:8080/"
        },
        "id": "dPk3vbrkyFzs",
        "outputId": "50bc3f52-e3a2-4d16-ca6a-209ffa1afe3c"
      },
      "execution_count": 31,
      "outputs": [
        {
          "output_type": "execute_result",
          "data": {
            "text/plain": [
              "<tf.Tensor: shape=(), dtype=float32, numpy=5.6430507>"
            ]
          },
          "metadata": {},
          "execution_count": 31
        }
      ]
    },
    {
      "cell_type": "code",
      "execution_count": 32,
      "metadata": {
        "colab": {
          "base_uri": "https://localhost:8080/"
        },
        "id": "ycGR7g9WtEgz",
        "outputId": "9c4ccc9b-a616-422d-941f-a7d3b7e51284"
      },
      "outputs": [
        {
          "output_type": "execute_result",
          "data": {
            "text/plain": [
              "<tf.Tensor: shape=(), dtype=float32, numpy=32.002655>"
            ]
          },
          "metadata": {},
          "execution_count": 32
        }
      ],
      "source": [
        "# Mean Squared Error\n",
        "tf.keras.losses.MSE(y_true=y_val, y_pred=tf.squeeze(y_pred_2))"
      ]
    },
    {
      "cell_type": "markdown",
      "source": [
        "#### Build The 3rd Model\n",
        "\n",
        "* 2 layers \n",
        "* 500 epochs"
      ],
      "metadata": {
        "id": "K3JXVupRyZFA"
      }
    },
    {
      "cell_type": "code",
      "source": [
        "tf.random.set_seed(SEED)\n",
        "\n",
        "# Build model\n",
        "model_3 = tf.keras.Sequential([\n",
        "    tf.keras.layers.Dense(units=10, input_shape=[1], activation=None),\n",
        "    tf.keras.layers.Dense(units=1, activation=None)\n",
        "])\n",
        "\n",
        "# Compile\n",
        "model_3.compile(loss=tf.keras.losses.mae,\n",
        "                optimizer=tf.keras.optimizers.SGD(),\n",
        "                metrics=[\"mse\"])\n",
        "\n",
        "# Fit the model\n",
        "model_3.fit(X_train, y_train, epochs=500)"
      ],
      "metadata": {
        "id": "PPtcbKLBI9xy",
        "colab": {
          "base_uri": "https://localhost:8080/"
        },
        "outputId": "ea552aed-a72f-4315-fabe-1052a082f676"
      },
      "execution_count": 33,
      "outputs": [
        {
          "output_type": "stream",
          "name": "stdout",
          "text": [
            "Epoch 1/500\n",
            "2/2 [==============================] - 1s 25ms/step - loss: 38.3285 - mse: 2090.1040\n",
            "Epoch 2/500\n",
            "2/2 [==============================] - 0s 11ms/step - loss: 24.6869 - mse: 1102.8538\n",
            "Epoch 3/500\n",
            "2/2 [==============================] - 0s 9ms/step - loss: 30.0046 - mse: 1346.0330\n",
            "Epoch 4/500\n",
            "2/2 [==============================] - 0s 14ms/step - loss: 20.0481 - mse: 553.9827\n",
            "Epoch 5/500\n",
            "2/2 [==============================] - 0s 11ms/step - loss: 21.0431 - mse: 617.3826\n",
            "Epoch 6/500\n",
            "2/2 [==============================] - 0s 10ms/step - loss: 14.7523 - mse: 299.3471\n",
            "Epoch 7/500\n",
            "2/2 [==============================] - 0s 10ms/step - loss: 21.2278 - mse: 631.9027\n",
            "Epoch 8/500\n",
            "2/2 [==============================] - 0s 10ms/step - loss: 18.6908 - mse: 470.5292\n",
            "Epoch 9/500\n",
            "2/2 [==============================] - 0s 9ms/step - loss: 12.1461 - mse: 230.0499\n",
            "Epoch 10/500\n",
            "2/2 [==============================] - 0s 8ms/step - loss: 15.9122 - mse: 336.8097\n",
            "Epoch 11/500\n",
            "2/2 [==============================] - 0s 8ms/step - loss: 14.1010 - mse: 271.9777\n",
            "Epoch 12/500\n",
            "2/2 [==============================] - 0s 17ms/step - loss: 16.7183 - mse: 386.7803\n",
            "Epoch 13/500\n",
            "2/2 [==============================] - 0s 15ms/step - loss: 16.9940 - mse: 375.5420\n",
            "Epoch 14/500\n",
            "2/2 [==============================] - 0s 15ms/step - loss: 11.2102 - mse: 232.0802\n",
            "Epoch 15/500\n",
            "2/2 [==============================] - 0s 15ms/step - loss: 14.7326 - mse: 289.6874\n",
            "Epoch 16/500\n",
            "2/2 [==============================] - 0s 13ms/step - loss: 12.4349 - mse: 243.5863\n",
            "Epoch 17/500\n",
            "2/2 [==============================] - 0s 8ms/step - loss: 14.6469 - mse: 292.3673\n",
            "Epoch 18/500\n",
            "2/2 [==============================] - 0s 6ms/step - loss: 14.1484 - mse: 278.1700\n",
            "Epoch 19/500\n",
            "2/2 [==============================] - 0s 8ms/step - loss: 13.4085 - mse: 253.0343\n",
            "Epoch 20/500\n",
            "2/2 [==============================] - 0s 7ms/step - loss: 18.9458 - mse: 494.9278\n",
            "Epoch 21/500\n",
            "2/2 [==============================] - 0s 6ms/step - loss: 14.3392 - mse: 264.5797\n",
            "Epoch 22/500\n",
            "2/2 [==============================] - 0s 6ms/step - loss: 9.4477 - mse: 130.4602\n",
            "Epoch 23/500\n",
            "2/2 [==============================] - 0s 8ms/step - loss: 16.3107 - mse: 354.2391\n",
            "Epoch 24/500\n",
            "2/2 [==============================] - 0s 7ms/step - loss: 12.3669 - mse: 177.8125\n",
            "Epoch 25/500\n",
            "2/2 [==============================] - 0s 8ms/step - loss: 12.4060 - mse: 180.9001\n",
            "Epoch 26/500\n",
            "2/2 [==============================] - 0s 7ms/step - loss: 26.9166 - mse: 1085.8215\n",
            "Epoch 27/500\n",
            "2/2 [==============================] - 0s 6ms/step - loss: 14.3269 - mse: 282.1707\n",
            "Epoch 28/500\n",
            "2/2 [==============================] - 0s 6ms/step - loss: 13.8885 - mse: 270.6859\n",
            "Epoch 29/500\n",
            "2/2 [==============================] - 0s 6ms/step - loss: 16.5182 - mse: 365.1977\n",
            "Epoch 30/500\n",
            "2/2 [==============================] - 0s 7ms/step - loss: 11.2780 - mse: 213.5812\n",
            "Epoch 31/500\n",
            "2/2 [==============================] - 0s 6ms/step - loss: 17.0312 - mse: 386.9871\n",
            "Epoch 32/500\n",
            "2/2 [==============================] - 0s 6ms/step - loss: 7.8197 - mse: 83.0260\n",
            "Epoch 33/500\n",
            "2/2 [==============================] - 0s 6ms/step - loss: 12.4501 - mse: 224.8110\n",
            "Epoch 34/500\n",
            "2/2 [==============================] - 0s 7ms/step - loss: 12.9264 - mse: 226.0256\n",
            "Epoch 35/500\n",
            "2/2 [==============================] - 0s 7ms/step - loss: 9.0378 - mse: 128.6427\n",
            "Epoch 36/500\n",
            "2/2 [==============================] - 0s 7ms/step - loss: 13.9906 - mse: 275.6883\n",
            "Epoch 37/500\n",
            "2/2 [==============================] - 0s 7ms/step - loss: 11.6388 - mse: 230.0951\n",
            "Epoch 38/500\n",
            "2/2 [==============================] - 0s 5ms/step - loss: 14.2486 - mse: 281.7616\n",
            "Epoch 39/500\n",
            "2/2 [==============================] - 0s 7ms/step - loss: 16.7989 - mse: 354.6605\n",
            "Epoch 40/500\n",
            "2/2 [==============================] - 0s 7ms/step - loss: 25.4720 - mse: 893.2313\n",
            "Epoch 41/500\n",
            "2/2 [==============================] - 0s 6ms/step - loss: 10.4413 - mse: 130.6669\n",
            "Epoch 42/500\n",
            "2/2 [==============================] - 0s 6ms/step - loss: 15.0993 - mse: 331.7258\n",
            "Epoch 43/500\n",
            "2/2 [==============================] - 0s 6ms/step - loss: 10.1663 - mse: 125.4025\n",
            "Epoch 44/500\n",
            "2/2 [==============================] - 0s 6ms/step - loss: 9.3119 - mse: 108.3962\n",
            "Epoch 45/500\n",
            "2/2 [==============================] - 0s 6ms/step - loss: 15.9827 - mse: 343.1332\n",
            "Epoch 46/500\n",
            "2/2 [==============================] - 0s 6ms/step - loss: 12.4237 - mse: 257.7039\n",
            "Epoch 47/500\n",
            "2/2 [==============================] - 0s 9ms/step - loss: 18.4321 - mse: 509.7271\n",
            "Epoch 48/500\n",
            "2/2 [==============================] - 0s 6ms/step - loss: 15.6845 - mse: 331.5761\n",
            "Epoch 49/500\n",
            "2/2 [==============================] - 0s 6ms/step - loss: 13.9434 - mse: 266.9083\n",
            "Epoch 50/500\n",
            "2/2 [==============================] - 0s 6ms/step - loss: 17.2958 - mse: 449.3812\n",
            "Epoch 51/500\n",
            "2/2 [==============================] - 0s 6ms/step - loss: 17.9361 - mse: 444.7431\n",
            "Epoch 52/500\n",
            "2/2 [==============================] - 0s 10ms/step - loss: 20.8786 - mse: 620.2477\n",
            "Epoch 53/500\n",
            "2/2 [==============================] - 0s 7ms/step - loss: 21.5727 - mse: 693.2455\n",
            "Epoch 54/500\n",
            "2/2 [==============================] - 0s 7ms/step - loss: 12.2996 - mse: 189.2619\n",
            "Epoch 55/500\n",
            "2/2 [==============================] - 0s 7ms/step - loss: 12.8281 - mse: 215.4381\n",
            "Epoch 56/500\n",
            "2/2 [==============================] - 0s 6ms/step - loss: 10.5102 - mse: 148.2561\n",
            "Epoch 57/500\n",
            "2/2 [==============================] - 0s 7ms/step - loss: 13.8273 - mse: 250.9704\n",
            "Epoch 58/500\n",
            "2/2 [==============================] - 0s 7ms/step - loss: 11.5827 - mse: 159.6207\n",
            "Epoch 59/500\n",
            "2/2 [==============================] - 0s 7ms/step - loss: 9.3205 - mse: 136.6553\n",
            "Epoch 60/500\n",
            "2/2 [==============================] - 0s 7ms/step - loss: 9.8031 - mse: 170.7392\n",
            "Epoch 61/500\n",
            "2/2 [==============================] - 0s 7ms/step - loss: 13.6016 - mse: 257.2961\n",
            "Epoch 62/500\n",
            "2/2 [==============================] - 0s 8ms/step - loss: 26.3021 - mse: 978.5695\n",
            "Epoch 63/500\n",
            "2/2 [==============================] - 0s 8ms/step - loss: 9.8979 - mse: 155.7457\n",
            "Epoch 64/500\n",
            "2/2 [==============================] - 0s 7ms/step - loss: 12.5789 - mse: 199.5430\n",
            "Epoch 65/500\n",
            "2/2 [==============================] - 0s 7ms/step - loss: 9.3319 - mse: 98.4885\n",
            "Epoch 66/500\n",
            "2/2 [==============================] - 0s 6ms/step - loss: 22.8153 - mse: 809.2067\n",
            "Epoch 67/500\n",
            "2/2 [==============================] - 0s 6ms/step - loss: 15.1651 - mse: 350.4845\n",
            "Epoch 68/500\n",
            "2/2 [==============================] - 0s 6ms/step - loss: 13.9802 - mse: 283.8331\n",
            "Epoch 69/500\n",
            "2/2 [==============================] - 0s 7ms/step - loss: 13.9110 - mse: 270.7468\n",
            "Epoch 70/500\n",
            "2/2 [==============================] - 0s 7ms/step - loss: 12.7885 - mse: 251.5594\n",
            "Epoch 71/500\n",
            "2/2 [==============================] - 0s 8ms/step - loss: 17.5484 - mse: 477.3994\n",
            "Epoch 72/500\n",
            "2/2 [==============================] - 0s 8ms/step - loss: 13.7473 - mse: 272.2312\n",
            "Epoch 73/500\n",
            "2/2 [==============================] - 0s 7ms/step - loss: 9.0490 - mse: 101.9433\n",
            "Epoch 74/500\n",
            "2/2 [==============================] - 0s 7ms/step - loss: 22.3307 - mse: 762.0001\n",
            "Epoch 75/500\n",
            "2/2 [==============================] - 0s 8ms/step - loss: 10.3547 - mse: 125.3233\n",
            "Epoch 76/500\n",
            "2/2 [==============================] - 0s 8ms/step - loss: 13.5242 - mse: 284.4917\n",
            "Epoch 77/500\n",
            "2/2 [==============================] - 0s 6ms/step - loss: 6.5055 - mse: 60.2800\n",
            "Epoch 78/500\n",
            "2/2 [==============================] - 0s 7ms/step - loss: 12.3714 - mse: 193.5374\n",
            "Epoch 79/500\n",
            "2/2 [==============================] - 0s 7ms/step - loss: 7.7805 - mse: 76.7809\n",
            "Epoch 80/500\n",
            "2/2 [==============================] - 0s 7ms/step - loss: 9.6193 - mse: 124.3491\n",
            "Epoch 81/500\n",
            "2/2 [==============================] - 0s 8ms/step - loss: 16.2308 - mse: 385.3530\n",
            "Epoch 82/500\n",
            "2/2 [==============================] - 0s 8ms/step - loss: 6.4696 - mse: 58.5751\n",
            "Epoch 83/500\n",
            "2/2 [==============================] - 0s 7ms/step - loss: 10.1608 - mse: 129.7468\n",
            "Epoch 84/500\n",
            "2/2 [==============================] - 0s 7ms/step - loss: 20.0592 - mse: 554.1908\n",
            "Epoch 85/500\n",
            "2/2 [==============================] - 0s 7ms/step - loss: 15.8097 - mse: 332.1175\n",
            "Epoch 86/500\n",
            "2/2 [==============================] - 0s 8ms/step - loss: 16.8764 - mse: 374.4054\n",
            "Epoch 87/500\n",
            "2/2 [==============================] - 0s 8ms/step - loss: 16.8302 - mse: 451.6121\n",
            "Epoch 88/500\n",
            "2/2 [==============================] - 0s 11ms/step - loss: 29.3760 - mse: 1255.2052\n",
            "Epoch 89/500\n",
            "2/2 [==============================] - 0s 9ms/step - loss: 20.9440 - mse: 643.1951\n",
            "Epoch 90/500\n",
            "2/2 [==============================] - 0s 10ms/step - loss: 11.5168 - mse: 211.6514\n",
            "Epoch 91/500\n",
            "2/2 [==============================] - 0s 7ms/step - loss: 23.5945 - mse: 767.6857\n",
            "Epoch 92/500\n",
            "2/2 [==============================] - 0s 9ms/step - loss: 19.8102 - mse: 613.3558\n",
            "Epoch 93/500\n",
            "2/2 [==============================] - 0s 8ms/step - loss: 8.1720 - mse: 97.7711\n",
            "Epoch 94/500\n",
            "2/2 [==============================] - 0s 7ms/step - loss: 19.6193 - mse: 597.6418\n",
            "Epoch 95/500\n",
            "2/2 [==============================] - 0s 8ms/step - loss: 10.8061 - mse: 161.7574\n",
            "Epoch 96/500\n",
            "2/2 [==============================] - 0s 8ms/step - loss: 24.7049 - mse: 918.1948\n",
            "Epoch 97/500\n",
            "2/2 [==============================] - 0s 8ms/step - loss: 6.3309 - mse: 57.7976\n",
            "Epoch 98/500\n",
            "2/2 [==============================] - 0s 7ms/step - loss: 13.3159 - mse: 252.3267\n",
            "Epoch 99/500\n",
            "2/2 [==============================] - 0s 6ms/step - loss: 22.6605 - mse: 708.6965\n",
            "Epoch 100/500\n",
            "2/2 [==============================] - 0s 7ms/step - loss: 26.0940 - mse: 1096.6467\n",
            "Epoch 101/500\n",
            "2/2 [==============================] - 0s 7ms/step - loss: 11.3322 - mse: 182.0026\n",
            "Epoch 102/500\n",
            "2/2 [==============================] - 0s 7ms/step - loss: 11.2642 - mse: 162.5595\n",
            "Epoch 103/500\n",
            "2/2 [==============================] - 0s 7ms/step - loss: 6.7923 - mse: 63.9055\n",
            "Epoch 104/500\n",
            "2/2 [==============================] - 0s 8ms/step - loss: 23.3439 - mse: 847.0783\n",
            "Epoch 105/500\n",
            "2/2 [==============================] - 0s 7ms/step - loss: 11.8675 - mse: 236.4784\n",
            "Epoch 106/500\n",
            "2/2 [==============================] - 0s 7ms/step - loss: 16.8163 - mse: 389.7014\n",
            "Epoch 107/500\n",
            "2/2 [==============================] - 0s 7ms/step - loss: 9.7249 - mse: 170.9627\n",
            "Epoch 108/500\n",
            "2/2 [==============================] - 0s 7ms/step - loss: 8.1438 - mse: 104.9787\n",
            "Epoch 109/500\n",
            "2/2 [==============================] - 0s 9ms/step - loss: 11.6459 - mse: 179.6954\n",
            "Epoch 110/500\n",
            "2/2 [==============================] - 0s 6ms/step - loss: 8.9710 - mse: 105.1330\n",
            "Epoch 111/500\n",
            "2/2 [==============================] - 0s 6ms/step - loss: 18.4600 - mse: 517.6389\n",
            "Epoch 112/500\n",
            "2/2 [==============================] - 0s 6ms/step - loss: 10.2828 - mse: 141.8581\n",
            "Epoch 113/500\n",
            "2/2 [==============================] - 0s 7ms/step - loss: 26.6479 - mse: 1067.9919\n",
            "Epoch 114/500\n",
            "2/2 [==============================] - 0s 7ms/step - loss: 7.6777 - mse: 114.5867\n",
            "Epoch 115/500\n",
            "2/2 [==============================] - 0s 6ms/step - loss: 17.8384 - mse: 483.8744\n",
            "Epoch 116/500\n",
            "2/2 [==============================] - 0s 8ms/step - loss: 25.1169 - mse: 910.9665\n",
            "Epoch 117/500\n",
            "2/2 [==============================] - 0s 7ms/step - loss: 8.0785 - mse: 97.0202\n",
            "Epoch 118/500\n",
            "2/2 [==============================] - 0s 6ms/step - loss: 24.3225 - mse: 857.0145\n",
            "Epoch 119/500\n",
            "2/2 [==============================] - 0s 7ms/step - loss: 9.1045 - mse: 97.4369\n",
            "Epoch 120/500\n",
            "2/2 [==============================] - 0s 8ms/step - loss: 20.5501 - mse: 641.3873\n",
            "Epoch 121/500\n",
            "2/2 [==============================] - 0s 8ms/step - loss: 33.7188 - mse: 1874.5017\n",
            "Epoch 122/500\n",
            "2/2 [==============================] - 0s 8ms/step - loss: 13.6562 - mse: 257.7036\n",
            "Epoch 123/500\n",
            "2/2 [==============================] - 0s 9ms/step - loss: 7.3524 - mse: 71.6048\n",
            "Epoch 124/500\n",
            "2/2 [==============================] - 0s 8ms/step - loss: 13.5813 - mse: 259.0134\n",
            "Epoch 125/500\n",
            "2/2 [==============================] - 0s 7ms/step - loss: 23.8702 - mse: 835.4929\n",
            "Epoch 126/500\n",
            "2/2 [==============================] - 0s 11ms/step - loss: 15.1341 - mse: 340.8174\n",
            "Epoch 127/500\n",
            "2/2 [==============================] - 0s 7ms/step - loss: 8.5356 - mse: 91.3548\n",
            "Epoch 128/500\n",
            "2/2 [==============================] - 0s 7ms/step - loss: 7.1885 - mse: 75.8951\n",
            "Epoch 129/500\n",
            "2/2 [==============================] - 0s 7ms/step - loss: 27.6123 - mse: 1155.3241\n",
            "Epoch 130/500\n",
            "2/2 [==============================] - 0s 8ms/step - loss: 8.9138 - mse: 92.2269\n",
            "Epoch 131/500\n",
            "2/2 [==============================] - 0s 7ms/step - loss: 21.3020 - mse: 660.5853\n",
            "Epoch 132/500\n",
            "2/2 [==============================] - 0s 7ms/step - loss: 11.6652 - mse: 189.5818\n",
            "Epoch 133/500\n",
            "2/2 [==============================] - 0s 7ms/step - loss: 17.8711 - mse: 466.1780\n",
            "Epoch 134/500\n",
            "2/2 [==============================] - 0s 8ms/step - loss: 11.7977 - mse: 196.4416\n",
            "Epoch 135/500\n",
            "2/2 [==============================] - 0s 7ms/step - loss: 10.7643 - mse: 163.8721\n",
            "Epoch 136/500\n",
            "2/2 [==============================] - 0s 6ms/step - loss: 9.4090 - mse: 131.0311\n",
            "Epoch 137/500\n",
            "2/2 [==============================] - 0s 7ms/step - loss: 24.9453 - mse: 954.9655\n",
            "Epoch 138/500\n",
            "2/2 [==============================] - 0s 6ms/step - loss: 8.6993 - mse: 113.5258\n",
            "Epoch 139/500\n",
            "2/2 [==============================] - 0s 6ms/step - loss: 8.0662 - mse: 79.7949\n",
            "Epoch 140/500\n",
            "2/2 [==============================] - 0s 6ms/step - loss: 6.3790 - mse: 54.7039\n",
            "Epoch 141/500\n",
            "2/2 [==============================] - 0s 6ms/step - loss: 14.2250 - mse: 276.1992\n",
            "Epoch 142/500\n",
            "2/2 [==============================] - 0s 9ms/step - loss: 14.6532 - mse: 284.5809\n",
            "Epoch 143/500\n",
            "2/2 [==============================] - 0s 6ms/step - loss: 15.2483 - mse: 299.8185\n",
            "Epoch 144/500\n",
            "2/2 [==============================] - 0s 7ms/step - loss: 19.3549 - mse: 537.6461\n",
            "Epoch 145/500\n",
            "2/2 [==============================] - 0s 8ms/step - loss: 32.2295 - mse: 1596.2161\n",
            "Epoch 146/500\n",
            "2/2 [==============================] - 0s 6ms/step - loss: 17.8121 - mse: 463.7906\n",
            "Epoch 147/500\n",
            "2/2 [==============================] - 0s 6ms/step - loss: 18.5028 - mse: 498.6826\n",
            "Epoch 148/500\n",
            "2/2 [==============================] - 0s 6ms/step - loss: 9.9114 - mse: 174.4488\n",
            "Epoch 149/500\n",
            "2/2 [==============================] - 0s 6ms/step - loss: 19.6961 - mse: 571.4297\n",
            "Epoch 150/500\n",
            "2/2 [==============================] - 0s 6ms/step - loss: 34.1277 - mse: 1647.4600\n",
            "Epoch 151/500\n",
            "2/2 [==============================] - 0s 6ms/step - loss: 10.6149 - mse: 211.0404\n",
            "Epoch 152/500\n",
            "2/2 [==============================] - 0s 7ms/step - loss: 21.6567 - mse: 710.0028\n",
            "Epoch 153/500\n",
            "2/2 [==============================] - 0s 10ms/step - loss: 16.5836 - mse: 394.1102\n",
            "Epoch 154/500\n",
            "2/2 [==============================] - 0s 6ms/step - loss: 8.6989 - mse: 91.0330\n",
            "Epoch 155/500\n",
            "2/2 [==============================] - 0s 6ms/step - loss: 8.5371 - mse: 83.0990\n",
            "Epoch 156/500\n",
            "2/2 [==============================] - 0s 6ms/step - loss: 9.5990 - mse: 120.6161\n",
            "Epoch 157/500\n",
            "2/2 [==============================] - 0s 7ms/step - loss: 7.1483 - mse: 82.0585\n",
            "Epoch 158/500\n",
            "2/2 [==============================] - 0s 7ms/step - loss: 12.7677 - mse: 206.2084\n",
            "Epoch 159/500\n",
            "2/2 [==============================] - 0s 7ms/step - loss: 13.5526 - mse: 280.0230\n",
            "Epoch 160/500\n",
            "2/2 [==============================] - 0s 7ms/step - loss: 7.2496 - mse: 80.0042\n",
            "Epoch 161/500\n",
            "2/2 [==============================] - 0s 6ms/step - loss: 17.0149 - mse: 420.4641\n",
            "Epoch 162/500\n",
            "2/2 [==============================] - 0s 9ms/step - loss: 7.3282 - mse: 87.3491\n",
            "Epoch 163/500\n",
            "2/2 [==============================] - 0s 7ms/step - loss: 6.3568 - mse: 54.6149\n",
            "Epoch 164/500\n",
            "2/2 [==============================] - 0s 7ms/step - loss: 20.0102 - mse: 592.8666\n",
            "Epoch 165/500\n",
            "2/2 [==============================] - 0s 10ms/step - loss: 5.7530 - mse: 48.7980\n",
            "Epoch 166/500\n",
            "2/2 [==============================] - 0s 6ms/step - loss: 14.6489 - mse: 322.5995\n",
            "Epoch 167/500\n",
            "2/2 [==============================] - 0s 6ms/step - loss: 9.0209 - mse: 103.5904\n",
            "Epoch 168/500\n",
            "2/2 [==============================] - 0s 6ms/step - loss: 13.0084 - mse: 262.0444\n",
            "Epoch 169/500\n",
            "2/2 [==============================] - 0s 7ms/step - loss: 11.8961 - mse: 195.1644\n",
            "Epoch 170/500\n",
            "2/2 [==============================] - 0s 7ms/step - loss: 19.7667 - mse: 586.0734\n",
            "Epoch 171/500\n",
            "2/2 [==============================] - 0s 7ms/step - loss: 9.3828 - mse: 127.3144\n",
            "Epoch 172/500\n",
            "2/2 [==============================] - 0s 6ms/step - loss: 19.5454 - mse: 537.1210\n",
            "Epoch 173/500\n",
            "2/2 [==============================] - 0s 6ms/step - loss: 9.2339 - mse: 116.8613\n",
            "Epoch 174/500\n",
            "2/2 [==============================] - 0s 6ms/step - loss: 35.3253 - mse: 1972.7195\n",
            "Epoch 175/500\n",
            "2/2 [==============================] - 0s 6ms/step - loss: 19.6434 - mse: 545.6984\n",
            "Epoch 176/500\n",
            "2/2 [==============================] - 0s 7ms/step - loss: 8.4593 - mse: 90.9130\n",
            "Epoch 177/500\n",
            "2/2 [==============================] - 0s 7ms/step - loss: 32.9855 - mse: 1743.9639\n",
            "Epoch 178/500\n",
            "2/2 [==============================] - 0s 8ms/step - loss: 17.0225 - mse: 441.4000\n",
            "Epoch 179/500\n",
            "2/2 [==============================] - 0s 8ms/step - loss: 7.6984 - mse: 76.2383\n",
            "Epoch 180/500\n",
            "2/2 [==============================] - 0s 7ms/step - loss: 24.6950 - mse: 895.5720\n",
            "Epoch 181/500\n",
            "2/2 [==============================] - 0s 6ms/step - loss: 8.3836 - mse: 112.8256\n",
            "Epoch 182/500\n",
            "2/2 [==============================] - 0s 6ms/step - loss: 7.5431 - mse: 66.6357\n",
            "Epoch 183/500\n",
            "2/2 [==============================] - 0s 7ms/step - loss: 7.5410 - mse: 93.2151\n",
            "Epoch 184/500\n",
            "2/2 [==============================] - 0s 7ms/step - loss: 10.8568 - mse: 161.0296\n",
            "Epoch 185/500\n",
            "2/2 [==============================] - 0s 6ms/step - loss: 11.5126 - mse: 189.0834\n",
            "Epoch 186/500\n",
            "2/2 [==============================] - 0s 6ms/step - loss: 9.8309 - mse: 149.2585\n",
            "Epoch 187/500\n",
            "2/2 [==============================] - 0s 6ms/step - loss: 12.6622 - mse: 236.0269\n",
            "Epoch 188/500\n",
            "2/2 [==============================] - 0s 6ms/step - loss: 8.1595 - mse: 80.6477\n",
            "Epoch 189/500\n",
            "2/2 [==============================] - 0s 7ms/step - loss: 27.4964 - mse: 1171.3804\n",
            "Epoch 190/500\n",
            "2/2 [==============================] - 0s 6ms/step - loss: 22.5111 - mse: 762.6066\n",
            "Epoch 191/500\n",
            "2/2 [==============================] - 0s 7ms/step - loss: 9.8619 - mse: 122.1770\n",
            "Epoch 192/500\n",
            "2/2 [==============================] - 0s 6ms/step - loss: 15.3213 - mse: 354.9695\n",
            "Epoch 193/500\n",
            "2/2 [==============================] - 0s 6ms/step - loss: 12.9006 - mse: 243.1548\n",
            "Epoch 194/500\n",
            "2/2 [==============================] - 0s 6ms/step - loss: 14.3852 - mse: 279.6537\n",
            "Epoch 195/500\n",
            "2/2 [==============================] - 0s 6ms/step - loss: 17.9141 - mse: 489.3311\n",
            "Epoch 196/500\n",
            "2/2 [==============================] - 0s 6ms/step - loss: 7.5823 - mse: 100.1387\n",
            "Epoch 197/500\n",
            "2/2 [==============================] - 0s 7ms/step - loss: 18.8837 - mse: 539.8562\n",
            "Epoch 198/500\n",
            "2/2 [==============================] - 0s 6ms/step - loss: 9.6252 - mse: 122.1799\n",
            "Epoch 199/500\n",
            "2/2 [==============================] - 0s 6ms/step - loss: 14.3733 - mse: 327.9839\n",
            "Epoch 200/500\n",
            "2/2 [==============================] - 0s 7ms/step - loss: 7.7765 - mse: 108.4910\n",
            "Epoch 201/500\n",
            "2/2 [==============================] - 0s 7ms/step - loss: 12.8801 - mse: 248.8339\n",
            "Epoch 202/500\n",
            "2/2 [==============================] - 0s 6ms/step - loss: 8.7226 - mse: 92.4304\n",
            "Epoch 203/500\n",
            "2/2 [==============================] - 0s 6ms/step - loss: 11.3532 - mse: 191.3734\n",
            "Epoch 204/500\n",
            "2/2 [==============================] - 0s 7ms/step - loss: 8.8604 - mse: 102.2101\n",
            "Epoch 205/500\n",
            "2/2 [==============================] - 0s 6ms/step - loss: 24.0202 - mse: 826.4186\n",
            "Epoch 206/500\n",
            "2/2 [==============================] - 0s 6ms/step - loss: 7.5431 - mse: 119.4112\n",
            "Epoch 207/500\n",
            "2/2 [==============================] - 0s 6ms/step - loss: 8.3663 - mse: 99.6250\n",
            "Epoch 208/500\n",
            "2/2 [==============================] - 0s 6ms/step - loss: 16.9374 - mse: 425.7425\n",
            "Epoch 209/500\n",
            "2/2 [==============================] - 0s 6ms/step - loss: 7.4895 - mse: 65.6712\n",
            "Epoch 210/500\n",
            "2/2 [==============================] - 0s 7ms/step - loss: 24.7572 - mse: 882.3840\n",
            "Epoch 211/500\n",
            "2/2 [==============================] - 0s 7ms/step - loss: 11.0868 - mse: 183.0473\n",
            "Epoch 212/500\n",
            "2/2 [==============================] - 0s 8ms/step - loss: 5.9545 - mse: 52.9419\n",
            "Epoch 213/500\n",
            "2/2 [==============================] - 0s 7ms/step - loss: 11.8150 - mse: 223.7032\n",
            "Epoch 214/500\n",
            "2/2 [==============================] - 0s 7ms/step - loss: 22.0073 - mse: 730.9907\n",
            "Epoch 215/500\n",
            "2/2 [==============================] - 0s 7ms/step - loss: 21.7933 - mse: 678.2253\n",
            "Epoch 216/500\n",
            "2/2 [==============================] - 0s 6ms/step - loss: 8.7473 - mse: 89.6772\n",
            "Epoch 217/500\n",
            "2/2 [==============================] - 0s 7ms/step - loss: 8.4086 - mse: 151.4647\n",
            "Epoch 218/500\n",
            "2/2 [==============================] - 0s 7ms/step - loss: 9.7504 - mse: 232.3386\n",
            "Epoch 219/500\n",
            "2/2 [==============================] - 0s 7ms/step - loss: 20.8404 - mse: 630.0041\n",
            "Epoch 220/500\n",
            "2/2 [==============================] - 0s 9ms/step - loss: 27.6185 - mse: 1194.0599\n",
            "Epoch 221/500\n",
            "2/2 [==============================] - 0s 7ms/step - loss: 27.0128 - mse: 1107.7087\n",
            "Epoch 222/500\n",
            "2/2 [==============================] - 0s 7ms/step - loss: 14.2706 - mse: 315.7549\n",
            "Epoch 223/500\n",
            "2/2 [==============================] - 0s 9ms/step - loss: 8.9685 - mse: 154.9297\n",
            "Epoch 224/500\n",
            "2/2 [==============================] - 0s 7ms/step - loss: 25.3279 - mse: 909.7030\n",
            "Epoch 225/500\n",
            "2/2 [==============================] - 0s 7ms/step - loss: 16.3665 - mse: 396.9303\n",
            "Epoch 226/500\n",
            "2/2 [==============================] - 0s 7ms/step - loss: 6.4371 - mse: 69.4553\n",
            "Epoch 227/500\n",
            "2/2 [==============================] - 0s 7ms/step - loss: 20.3264 - mse: 591.0411\n",
            "Epoch 228/500\n",
            "2/2 [==============================] - 0s 7ms/step - loss: 11.1841 - mse: 221.8235\n",
            "Epoch 229/500\n",
            "2/2 [==============================] - 0s 7ms/step - loss: 18.6376 - mse: 549.2988\n",
            "Epoch 230/500\n",
            "2/2 [==============================] - 0s 7ms/step - loss: 33.4662 - mse: 1767.5784\n",
            "Epoch 231/500\n",
            "2/2 [==============================] - 0s 7ms/step - loss: 8.5657 - mse: 161.2196\n",
            "Epoch 232/500\n",
            "2/2 [==============================] - 0s 7ms/step - loss: 15.0666 - mse: 323.5783\n",
            "Epoch 233/500\n",
            "2/2 [==============================] - 0s 7ms/step - loss: 19.0435 - mse: 531.0218\n",
            "Epoch 234/500\n",
            "2/2 [==============================] - 0s 7ms/step - loss: 9.9373 - mse: 171.0583\n",
            "Epoch 235/500\n",
            "2/2 [==============================] - 0s 7ms/step - loss: 13.0837 - mse: 242.3824\n",
            "Epoch 236/500\n",
            "2/2 [==============================] - 0s 7ms/step - loss: 16.1628 - mse: 376.1915\n",
            "Epoch 237/500\n",
            "2/2 [==============================] - 0s 7ms/step - loss: 10.2652 - mse: 152.7473\n",
            "Epoch 238/500\n",
            "2/2 [==============================] - 0s 7ms/step - loss: 20.1607 - mse: 586.6810\n",
            "Epoch 239/500\n",
            "2/2 [==============================] - 0s 7ms/step - loss: 11.5425 - mse: 229.6276\n",
            "Epoch 240/500\n",
            "2/2 [==============================] - 0s 6ms/step - loss: 12.9029 - mse: 240.1873\n",
            "Epoch 241/500\n",
            "2/2 [==============================] - 0s 6ms/step - loss: 15.5247 - mse: 343.8869\n",
            "Epoch 242/500\n",
            "2/2 [==============================] - 0s 7ms/step - loss: 21.0331 - mse: 678.2672\n",
            "Epoch 243/500\n",
            "2/2 [==============================] - 0s 7ms/step - loss: 23.7051 - mse: 883.5723\n",
            "Epoch 244/500\n",
            "2/2 [==============================] - 0s 8ms/step - loss: 7.4425 - mse: 107.5815\n",
            "Epoch 245/500\n",
            "2/2 [==============================] - 0s 9ms/step - loss: 22.4136 - mse: 753.9852\n",
            "Epoch 246/500\n",
            "2/2 [==============================] - 0s 7ms/step - loss: 11.8085 - mse: 229.4152\n",
            "Epoch 247/500\n",
            "2/2 [==============================] - 0s 7ms/step - loss: 5.6375 - mse: 49.3342\n",
            "Epoch 248/500\n",
            "2/2 [==============================] - 0s 7ms/step - loss: 17.5034 - mse: 435.8477\n",
            "Epoch 249/500\n",
            "2/2 [==============================] - 0s 6ms/step - loss: 13.0881 - mse: 256.4811\n",
            "Epoch 250/500\n",
            "2/2 [==============================] - 0s 7ms/step - loss: 21.7520 - mse: 694.4176\n",
            "Epoch 251/500\n",
            "2/2 [==============================] - 0s 7ms/step - loss: 12.5677 - mse: 237.8070\n",
            "Epoch 252/500\n",
            "2/2 [==============================] - 0s 7ms/step - loss: 8.8805 - mse: 117.4898\n",
            "Epoch 253/500\n",
            "2/2 [==============================] - 0s 7ms/step - loss: 17.9080 - mse: 486.2077\n",
            "Epoch 254/500\n",
            "2/2 [==============================] - 0s 7ms/step - loss: 10.1142 - mse: 146.7497\n",
            "Epoch 255/500\n",
            "2/2 [==============================] - 0s 6ms/step - loss: 8.2059 - mse: 94.0245\n",
            "Epoch 256/500\n",
            "2/2 [==============================] - 0s 6ms/step - loss: 15.6882 - mse: 373.5735\n",
            "Epoch 257/500\n",
            "2/2 [==============================] - 0s 9ms/step - loss: 9.0707 - mse: 119.4222\n",
            "Epoch 258/500\n",
            "2/2 [==============================] - 0s 7ms/step - loss: 17.1859 - mse: 416.5954\n",
            "Epoch 259/500\n",
            "2/2 [==============================] - 0s 7ms/step - loss: 6.6076 - mse: 77.4779\n",
            "Epoch 260/500\n",
            "2/2 [==============================] - 0s 7ms/step - loss: 9.3441 - mse: 195.7655\n",
            "Epoch 261/500\n",
            "2/2 [==============================] - 0s 6ms/step - loss: 20.1135 - mse: 592.5773\n",
            "Epoch 262/500\n",
            "2/2 [==============================] - 0s 6ms/step - loss: 37.8238 - mse: 2099.6147\n",
            "Epoch 263/500\n",
            "2/2 [==============================] - 0s 6ms/step - loss: 9.7195 - mse: 126.7431\n",
            "Epoch 264/500\n",
            "2/2 [==============================] - 0s 7ms/step - loss: 11.8167 - mse: 221.0489\n",
            "Epoch 265/500\n",
            "2/2 [==============================] - 0s 7ms/step - loss: 23.8952 - mse: 808.5952\n",
            "Epoch 266/500\n",
            "2/2 [==============================] - 0s 6ms/step - loss: 20.7673 - mse: 617.6971\n",
            "Epoch 267/500\n",
            "2/2 [==============================] - 0s 7ms/step - loss: 6.8708 - mse: 81.4396\n",
            "Epoch 268/500\n",
            "2/2 [==============================] - 0s 7ms/step - loss: 7.2436 - mse: 61.3037\n",
            "Epoch 269/500\n",
            "2/2 [==============================] - 0s 6ms/step - loss: 38.3905 - mse: 2337.9985\n",
            "Epoch 270/500\n",
            "2/2 [==============================] - 0s 7ms/step - loss: 16.4590 - mse: 402.2750\n",
            "Epoch 271/500\n",
            "2/2 [==============================] - 0s 9ms/step - loss: 11.4064 - mse: 206.5423\n",
            "Epoch 272/500\n",
            "2/2 [==============================] - 0s 6ms/step - loss: 14.7484 - mse: 294.3472\n",
            "Epoch 273/500\n",
            "2/2 [==============================] - 0s 6ms/step - loss: 24.5854 - mse: 858.7049\n",
            "Epoch 274/500\n",
            "2/2 [==============================] - 0s 6ms/step - loss: 18.8678 - mse: 533.9711\n",
            "Epoch 275/500\n",
            "2/2 [==============================] - 0s 6ms/step - loss: 6.8396 - mse: 59.2624\n",
            "Epoch 276/500\n",
            "2/2 [==============================] - 0s 6ms/step - loss: 8.8748 - mse: 114.7365\n",
            "Epoch 277/500\n",
            "2/2 [==============================] - 0s 6ms/step - loss: 16.5071 - mse: 393.6776\n",
            "Epoch 278/500\n",
            "2/2 [==============================] - 0s 6ms/step - loss: 12.5022 - mse: 252.5070\n",
            "Epoch 279/500\n",
            "2/2 [==============================] - 0s 6ms/step - loss: 19.7873 - mse: 575.3283\n",
            "Epoch 280/500\n",
            "2/2 [==============================] - 0s 6ms/step - loss: 6.6936 - mse: 61.3147\n",
            "Epoch 281/500\n",
            "2/2 [==============================] - 0s 6ms/step - loss: 21.8010 - mse: 702.0193\n",
            "Epoch 282/500\n",
            "2/2 [==============================] - 0s 6ms/step - loss: 7.7745 - mse: 96.7724\n",
            "Epoch 283/500\n",
            "2/2 [==============================] - 0s 7ms/step - loss: 15.2772 - mse: 333.4965\n",
            "Epoch 284/500\n",
            "2/2 [==============================] - 0s 7ms/step - loss: 11.1018 - mse: 236.2288\n",
            "Epoch 285/500\n",
            "2/2 [==============================] - 0s 7ms/step - loss: 30.4752 - mse: 1243.4639\n",
            "Epoch 286/500\n",
            "2/2 [==============================] - 0s 7ms/step - loss: 5.1861 - mse: 46.4046\n",
            "Epoch 287/500\n",
            "2/2 [==============================] - 0s 7ms/step - loss: 8.1538 - mse: 90.8238\n",
            "Epoch 288/500\n",
            "2/2 [==============================] - 0s 6ms/step - loss: 8.2644 - mse: 93.8292\n",
            "Epoch 289/500\n",
            "2/2 [==============================] - 0s 6ms/step - loss: 18.0150 - mse: 479.4614\n",
            "Epoch 290/500\n",
            "2/2 [==============================] - 0s 7ms/step - loss: 7.3921 - mse: 69.1596\n",
            "Epoch 291/500\n",
            "2/2 [==============================] - 0s 7ms/step - loss: 28.4099 - mse: 1213.1550\n",
            "Epoch 292/500\n",
            "2/2 [==============================] - 0s 7ms/step - loss: 19.1196 - mse: 515.8008\n",
            "Epoch 293/500\n",
            "2/2 [==============================] - 0s 6ms/step - loss: 11.2039 - mse: 246.9625\n",
            "Epoch 294/500\n",
            "2/2 [==============================] - 0s 6ms/step - loss: 17.9564 - mse: 469.1431\n",
            "Epoch 295/500\n",
            "2/2 [==============================] - 0s 6ms/step - loss: 17.4714 - mse: 454.3513\n",
            "Epoch 296/500\n",
            "2/2 [==============================] - 0s 10ms/step - loss: 13.5704 - mse: 272.1759\n",
            "Epoch 297/500\n",
            "2/2 [==============================] - 0s 7ms/step - loss: 28.3268 - mse: 1114.5754\n",
            "Epoch 298/500\n",
            "2/2 [==============================] - 0s 8ms/step - loss: 6.7456 - mse: 63.2067\n",
            "Epoch 299/500\n",
            "2/2 [==============================] - 0s 7ms/step - loss: 16.7278 - mse: 406.5298\n",
            "Epoch 300/500\n",
            "2/2 [==============================] - 0s 7ms/step - loss: 13.7002 - mse: 271.6940\n",
            "Epoch 301/500\n",
            "2/2 [==============================] - 0s 7ms/step - loss: 18.5072 - mse: 539.0675\n",
            "Epoch 302/500\n",
            "2/2 [==============================] - 0s 7ms/step - loss: 15.4500 - mse: 343.9726\n",
            "Epoch 303/500\n",
            "2/2 [==============================] - 0s 7ms/step - loss: 13.0100 - mse: 266.4359\n",
            "Epoch 304/500\n",
            "2/2 [==============================] - 0s 7ms/step - loss: 17.8215 - mse: 492.7639\n",
            "Epoch 305/500\n",
            "2/2 [==============================] - 0s 7ms/step - loss: 15.7581 - mse: 341.0240\n",
            "Epoch 306/500\n",
            "2/2 [==============================] - 0s 7ms/step - loss: 17.5127 - mse: 445.3209\n",
            "Epoch 307/500\n",
            "2/2 [==============================] - 0s 7ms/step - loss: 18.6107 - mse: 519.5552\n",
            "Epoch 308/500\n",
            "2/2 [==============================] - 0s 7ms/step - loss: 7.6819 - mse: 80.5148\n",
            "Epoch 309/500\n",
            "2/2 [==============================] - 0s 7ms/step - loss: 12.8047 - mse: 262.1782\n",
            "Epoch 310/500\n",
            "2/2 [==============================] - 0s 7ms/step - loss: 7.1008 - mse: 102.3006\n",
            "Epoch 311/500\n",
            "2/2 [==============================] - 0s 9ms/step - loss: 11.0888 - mse: 199.3606\n",
            "Epoch 312/500\n",
            "2/2 [==============================] - 0s 7ms/step - loss: 14.2257 - mse: 272.5961\n",
            "Epoch 313/500\n",
            "2/2 [==============================] - 0s 6ms/step - loss: 22.3593 - mse: 739.9451\n",
            "Epoch 314/500\n",
            "2/2 [==============================] - 0s 8ms/step - loss: 20.6044 - mse: 626.5931\n",
            "Epoch 315/500\n",
            "2/2 [==============================] - 0s 7ms/step - loss: 7.6236 - mse: 87.1532\n",
            "Epoch 316/500\n",
            "2/2 [==============================] - 0s 7ms/step - loss: 7.5063 - mse: 88.4868\n",
            "Epoch 317/500\n",
            "2/2 [==============================] - 0s 6ms/step - loss: 26.0416 - mse: 977.1569\n",
            "Epoch 318/500\n",
            "2/2 [==============================] - 0s 6ms/step - loss: 6.7909 - mse: 61.6013\n",
            "Epoch 319/500\n",
            "2/2 [==============================] - 0s 6ms/step - loss: 7.4308 - mse: 126.0234\n",
            "Epoch 320/500\n",
            "2/2 [==============================] - 0s 6ms/step - loss: 13.8860 - mse: 306.7799\n",
            "Epoch 321/500\n",
            "2/2 [==============================] - 0s 6ms/step - loss: 12.2792 - mse: 295.6302\n",
            "Epoch 322/500\n",
            "2/2 [==============================] - 0s 6ms/step - loss: 25.5574 - mse: 948.4222\n",
            "Epoch 323/500\n",
            "2/2 [==============================] - 0s 6ms/step - loss: 9.7055 - mse: 141.4243\n",
            "Epoch 324/500\n",
            "2/2 [==============================] - 0s 6ms/step - loss: 9.4801 - mse: 135.0656\n",
            "Epoch 325/500\n",
            "2/2 [==============================] - 0s 6ms/step - loss: 15.6157 - mse: 382.0009\n",
            "Epoch 326/500\n",
            "2/2 [==============================] - 0s 6ms/step - loss: 12.2089 - mse: 249.5157\n",
            "Epoch 327/500\n",
            "2/2 [==============================] - 0s 6ms/step - loss: 7.4276 - mse: 82.6053\n",
            "Epoch 328/500\n",
            "2/2 [==============================] - 0s 7ms/step - loss: 17.6767 - mse: 426.5196\n",
            "Epoch 329/500\n",
            "2/2 [==============================] - 0s 6ms/step - loss: 13.9019 - mse: 294.1979\n",
            "Epoch 330/500\n",
            "2/2 [==============================] - 0s 7ms/step - loss: 14.6983 - mse: 286.1913\n",
            "Epoch 331/500\n",
            "2/2 [==============================] - 0s 7ms/step - loss: 20.4348 - mse: 630.6580\n",
            "Epoch 332/500\n",
            "2/2 [==============================] - 0s 9ms/step - loss: 27.9787 - mse: 1128.2109\n",
            "Epoch 333/500\n",
            "2/2 [==============================] - 0s 7ms/step - loss: 12.6724 - mse: 255.3103\n",
            "Epoch 334/500\n",
            "2/2 [==============================] - 0s 6ms/step - loss: 13.4323 - mse: 237.8018\n",
            "Epoch 335/500\n",
            "2/2 [==============================] - 0s 8ms/step - loss: 12.8648 - mse: 245.4608\n",
            "Epoch 336/500\n",
            "2/2 [==============================] - 0s 7ms/step - loss: 18.0920 - mse: 469.3409\n",
            "Epoch 337/500\n",
            "2/2 [==============================] - 0s 7ms/step - loss: 35.8068 - mse: 2067.4670\n",
            "Epoch 338/500\n",
            "2/2 [==============================] - 0s 8ms/step - loss: 12.7624 - mse: 264.4310\n",
            "Epoch 339/500\n",
            "2/2 [==============================] - 0s 6ms/step - loss: 8.2326 - mse: 131.9450\n",
            "Epoch 340/500\n",
            "2/2 [==============================] - 0s 6ms/step - loss: 15.4313 - mse: 307.8221\n",
            "Epoch 341/500\n",
            "2/2 [==============================] - 0s 7ms/step - loss: 15.4083 - mse: 336.3898\n",
            "Epoch 342/500\n",
            "2/2 [==============================] - 0s 7ms/step - loss: 25.3996 - mse: 925.3296\n",
            "Epoch 343/500\n",
            "2/2 [==============================] - 0s 6ms/step - loss: 11.4053 - mse: 219.8877\n",
            "Epoch 344/500\n",
            "2/2 [==============================] - 0s 6ms/step - loss: 6.6914 - mse: 63.0767\n",
            "Epoch 345/500\n",
            "2/2 [==============================] - 0s 7ms/step - loss: 15.7439 - mse: 380.8652\n",
            "Epoch 346/500\n",
            "2/2 [==============================] - 0s 6ms/step - loss: 6.0132 - mse: 79.0823\n",
            "Epoch 347/500\n",
            "2/2 [==============================] - 0s 6ms/step - loss: 31.2026 - mse: 1334.7498\n",
            "Epoch 348/500\n",
            "2/2 [==============================] - 0s 6ms/step - loss: 9.2639 - mse: 210.3570\n",
            "Epoch 349/500\n",
            "2/2 [==============================] - 0s 7ms/step - loss: 16.7289 - mse: 448.7824\n",
            "Epoch 350/500\n",
            "2/2 [==============================] - 0s 7ms/step - loss: 29.5644 - mse: 1323.5564\n",
            "Epoch 351/500\n",
            "2/2 [==============================] - 0s 7ms/step - loss: 16.0013 - mse: 372.0714\n",
            "Epoch 352/500\n",
            "2/2 [==============================] - 0s 6ms/step - loss: 12.1201 - mse: 242.1041\n",
            "Epoch 353/500\n",
            "2/2 [==============================] - 0s 6ms/step - loss: 16.7112 - mse: 372.1107\n",
            "Epoch 354/500\n",
            "2/2 [==============================] - 0s 6ms/step - loss: 14.5759 - mse: 282.4656\n",
            "Epoch 355/500\n",
            "2/2 [==============================] - 0s 6ms/step - loss: 13.9422 - mse: 268.4426\n",
            "Epoch 356/500\n",
            "2/2 [==============================] - 0s 6ms/step - loss: 25.5872 - mse: 962.3790\n",
            "Epoch 357/500\n",
            "2/2 [==============================] - 0s 6ms/step - loss: 8.1148 - mse: 110.8430\n",
            "Epoch 358/500\n",
            "2/2 [==============================] - 0s 6ms/step - loss: 19.8546 - mse: 581.2854\n",
            "Epoch 359/500\n",
            "2/2 [==============================] - 0s 8ms/step - loss: 14.3927 - mse: 308.0373\n",
            "Epoch 360/500\n",
            "2/2 [==============================] - 0s 6ms/step - loss: 14.0507 - mse: 274.2313\n",
            "Epoch 361/500\n",
            "2/2 [==============================] - 0s 6ms/step - loss: 16.4004 - mse: 415.1992\n",
            "Epoch 362/500\n",
            "2/2 [==============================] - 0s 6ms/step - loss: 11.6637 - mse: 251.9492\n",
            "Epoch 363/500\n",
            "2/2 [==============================] - 0s 7ms/step - loss: 23.2070 - mse: 773.4477\n",
            "Epoch 364/500\n",
            "2/2 [==============================] - 0s 6ms/step - loss: 24.3607 - mse: 829.5770\n",
            "Epoch 365/500\n",
            "2/2 [==============================] - 0s 6ms/step - loss: 9.9940 - mse: 228.6927\n",
            "Epoch 366/500\n",
            "2/2 [==============================] - 0s 7ms/step - loss: 19.0158 - mse: 580.7062\n",
            "Epoch 367/500\n",
            "2/2 [==============================] - 0s 6ms/step - loss: 14.5591 - mse: 320.5386\n",
            "Epoch 368/500\n",
            "2/2 [==============================] - 0s 6ms/step - loss: 6.9070 - mse: 96.8532\n",
            "Epoch 369/500\n",
            "2/2 [==============================] - 0s 6ms/step - loss: 8.7062 - mse: 123.2069\n",
            "Epoch 370/500\n",
            "2/2 [==============================] - 0s 7ms/step - loss: 9.9909 - mse: 267.8804\n",
            "Epoch 371/500\n",
            "2/2 [==============================] - 0s 6ms/step - loss: 28.2935 - mse: 1151.1462\n",
            "Epoch 372/500\n",
            "2/2 [==============================] - 0s 6ms/step - loss: 6.0575 - mse: 51.5996\n",
            "Epoch 373/500\n",
            "2/2 [==============================] - 0s 7ms/step - loss: 11.6756 - mse: 237.6298\n",
            "Epoch 374/500\n",
            "2/2 [==============================] - 0s 7ms/step - loss: 13.5919 - mse: 303.8856\n",
            "Epoch 375/500\n",
            "2/2 [==============================] - 0s 6ms/step - loss: 6.4248 - mse: 68.9370\n",
            "Epoch 376/500\n",
            "2/2 [==============================] - 0s 10ms/step - loss: 18.5561 - mse: 498.2321\n",
            "Epoch 377/500\n",
            "2/2 [==============================] - 0s 7ms/step - loss: 5.7661 - mse: 44.1369\n",
            "Epoch 378/500\n",
            "2/2 [==============================] - 0s 6ms/step - loss: 25.4498 - mse: 941.4457\n",
            "Epoch 379/500\n",
            "2/2 [==============================] - 0s 7ms/step - loss: 11.3692 - mse: 214.2924\n",
            "Epoch 380/500\n",
            "2/2 [==============================] - 0s 7ms/step - loss: 11.6115 - mse: 198.6838\n",
            "Epoch 381/500\n",
            "2/2 [==============================] - 0s 6ms/step - loss: 5.2790 - mse: 50.3884\n",
            "Epoch 382/500\n",
            "2/2 [==============================] - 0s 7ms/step - loss: 9.3563 - mse: 219.8503\n",
            "Epoch 383/500\n",
            "2/2 [==============================] - 0s 6ms/step - loss: 19.6911 - mse: 597.6274\n",
            "Epoch 384/500\n",
            "2/2 [==============================] - 0s 6ms/step - loss: 26.6749 - mse: 1123.2946\n",
            "Epoch 385/500\n",
            "2/2 [==============================] - 0s 7ms/step - loss: 16.2670 - mse: 399.3889\n",
            "Epoch 386/500\n",
            "2/2 [==============================] - 0s 6ms/step - loss: 11.3627 - mse: 212.7072\n",
            "Epoch 387/500\n",
            "2/2 [==============================] - 0s 6ms/step - loss: 7.1267 - mse: 80.1796\n",
            "Epoch 388/500\n",
            "2/2 [==============================] - 0s 6ms/step - loss: 6.2711 - mse: 53.6859\n",
            "Epoch 389/500\n",
            "2/2 [==============================] - 0s 6ms/step - loss: 18.4517 - mse: 479.3664\n",
            "Epoch 390/500\n",
            "2/2 [==============================] - 0s 6ms/step - loss: 6.8003 - mse: 62.1518\n",
            "Epoch 391/500\n",
            "2/2 [==============================] - 0s 7ms/step - loss: 8.3850 - mse: 132.4212\n",
            "Epoch 392/500\n",
            "2/2 [==============================] - 0s 8ms/step - loss: 12.5596 - mse: 250.1886\n",
            "Epoch 393/500\n",
            "2/2 [==============================] - 0s 7ms/step - loss: 13.3711 - mse: 247.4496\n",
            "Epoch 394/500\n",
            "2/2 [==============================] - 0s 9ms/step - loss: 29.9500 - mse: 1284.1882\n",
            "Epoch 395/500\n",
            "2/2 [==============================] - 0s 7ms/step - loss: 11.2823 - mse: 311.3295\n",
            "Epoch 396/500\n",
            "2/2 [==============================] - 0s 8ms/step - loss: 16.7870 - mse: 416.9536\n",
            "Epoch 397/500\n",
            "2/2 [==============================] - 0s 7ms/step - loss: 14.0178 - mse: 287.0129\n",
            "Epoch 398/500\n",
            "2/2 [==============================] - 0s 8ms/step - loss: 14.7673 - mse: 296.5324\n",
            "Epoch 399/500\n",
            "2/2 [==============================] - 0s 7ms/step - loss: 15.4721 - mse: 353.6042\n",
            "Epoch 400/500\n",
            "2/2 [==============================] - 0s 7ms/step - loss: 29.1348 - mse: 1165.9292\n",
            "Epoch 401/500\n",
            "2/2 [==============================] - 0s 7ms/step - loss: 6.4159 - mse: 58.6837\n",
            "Epoch 402/500\n",
            "2/2 [==============================] - 0s 8ms/step - loss: 6.8623 - mse: 76.7653\n",
            "Epoch 403/500\n",
            "2/2 [==============================] - 0s 7ms/step - loss: 19.1106 - mse: 515.5911\n",
            "Epoch 404/500\n",
            "2/2 [==============================] - 0s 7ms/step - loss: 12.0245 - mse: 283.7682\n",
            "Epoch 405/500\n",
            "2/2 [==============================] - 0s 7ms/step - loss: 19.1623 - mse: 566.3904\n",
            "Epoch 406/500\n",
            "2/2 [==============================] - 0s 7ms/step - loss: 22.2137 - mse: 758.0503\n",
            "Epoch 407/500\n",
            "2/2 [==============================] - 0s 7ms/step - loss: 18.4739 - mse: 493.6646\n",
            "Epoch 408/500\n",
            "2/2 [==============================] - 0s 7ms/step - loss: 5.8930 - mse: 84.7916\n",
            "Epoch 409/500\n",
            "2/2 [==============================] - 0s 7ms/step - loss: 5.3062 - mse: 54.6031\n",
            "Epoch 410/500\n",
            "2/2 [==============================] - 0s 8ms/step - loss: 16.2349 - mse: 412.1983\n",
            "Epoch 411/500\n",
            "2/2 [==============================] - 0s 7ms/step - loss: 6.8475 - mse: 106.0640\n",
            "Epoch 412/500\n",
            "2/2 [==============================] - 0s 8ms/step - loss: 6.9195 - mse: 88.3487\n",
            "Epoch 413/500\n",
            "2/2 [==============================] - 0s 8ms/step - loss: 7.1267 - mse: 91.0833\n",
            "Epoch 414/500\n",
            "2/2 [==============================] - 0s 8ms/step - loss: 21.3995 - mse: 652.4916\n",
            "Epoch 415/500\n",
            "2/2 [==============================] - 0s 11ms/step - loss: 13.1222 - mse: 292.1196\n",
            "Epoch 416/500\n",
            "2/2 [==============================] - 0s 7ms/step - loss: 5.2786 - mse: 48.1271\n",
            "Epoch 417/500\n",
            "2/2 [==============================] - 0s 7ms/step - loss: 12.0799 - mse: 285.1084\n",
            "Epoch 418/500\n",
            "2/2 [==============================] - 0s 7ms/step - loss: 7.1342 - mse: 88.9856\n",
            "Epoch 419/500\n",
            "2/2 [==============================] - 0s 8ms/step - loss: 24.7623 - mse: 837.1606\n",
            "Epoch 420/500\n",
            "2/2 [==============================] - 0s 8ms/step - loss: 10.7932 - mse: 201.1542\n",
            "Epoch 421/500\n",
            "2/2 [==============================] - 0s 7ms/step - loss: 12.4055 - mse: 276.8643\n",
            "Epoch 422/500\n",
            "2/2 [==============================] - 0s 7ms/step - loss: 20.5288 - mse: 619.0930\n",
            "Epoch 423/500\n",
            "2/2 [==============================] - 0s 8ms/step - loss: 20.9313 - mse: 629.2192\n",
            "Epoch 424/500\n",
            "2/2 [==============================] - 0s 7ms/step - loss: 13.9600 - mse: 312.4254\n",
            "Epoch 425/500\n",
            "2/2 [==============================] - 0s 7ms/step - loss: 6.8583 - mse: 125.4283\n",
            "Epoch 426/500\n",
            "2/2 [==============================] - 0s 8ms/step - loss: 23.9969 - mse: 816.5591\n",
            "Epoch 427/500\n",
            "2/2 [==============================] - 0s 6ms/step - loss: 21.0001 - mse: 613.3655\n",
            "Epoch 428/500\n",
            "2/2 [==============================] - 0s 6ms/step - loss: 9.4416 - mse: 166.3462\n",
            "Epoch 429/500\n",
            "2/2 [==============================] - 0s 6ms/step - loss: 11.8359 - mse: 246.7036\n",
            "Epoch 430/500\n",
            "2/2 [==============================] - 0s 6ms/step - loss: 10.9864 - mse: 234.6584\n",
            "Epoch 431/500\n",
            "2/2 [==============================] - 0s 6ms/step - loss: 18.4951 - mse: 522.0972\n",
            "Epoch 432/500\n",
            "2/2 [==============================] - 0s 6ms/step - loss: 39.2933 - mse: 2511.2166\n",
            "Epoch 433/500\n",
            "2/2 [==============================] - 0s 6ms/step - loss: 29.4839 - mse: 1281.5006\n",
            "Epoch 434/500\n",
            "2/2 [==============================] - 0s 6ms/step - loss: 11.6324 - mse: 249.0645\n",
            "Epoch 435/500\n",
            "2/2 [==============================] - 0s 6ms/step - loss: 7.6431 - mse: 155.5410\n",
            "Epoch 436/500\n",
            "2/2 [==============================] - 0s 6ms/step - loss: 11.9227 - mse: 258.3757\n",
            "Epoch 437/500\n",
            "2/2 [==============================] - 0s 6ms/step - loss: 15.8546 - mse: 396.4526\n",
            "Epoch 438/500\n",
            "2/2 [==============================] - 0s 6ms/step - loss: 10.9855 - mse: 211.3780\n",
            "Epoch 439/500\n",
            "2/2 [==============================] - 0s 6ms/step - loss: 11.3676 - mse: 219.6337\n",
            "Epoch 440/500\n",
            "2/2 [==============================] - 0s 7ms/step - loss: 14.9563 - mse: 300.8184\n",
            "Epoch 441/500\n",
            "2/2 [==============================] - 0s 6ms/step - loss: 15.4616 - mse: 343.4824\n",
            "Epoch 442/500\n",
            "2/2 [==============================] - 0s 7ms/step - loss: 19.1203 - mse: 542.5298\n",
            "Epoch 443/500\n",
            "2/2 [==============================] - 0s 7ms/step - loss: 14.2681 - mse: 300.4557\n",
            "Epoch 444/500\n",
            "2/2 [==============================] - 0s 7ms/step - loss: 21.2498 - mse: 652.2321\n",
            "Epoch 445/500\n",
            "2/2 [==============================] - 0s 7ms/step - loss: 30.1467 - mse: 1352.4314\n",
            "Epoch 446/500\n",
            "2/2 [==============================] - 0s 6ms/step - loss: 10.6775 - mse: 259.8932\n",
            "Epoch 447/500\n",
            "2/2 [==============================] - 0s 7ms/step - loss: 14.1803 - mse: 269.6911\n",
            "Epoch 448/500\n",
            "2/2 [==============================] - 0s 6ms/step - loss: 14.3414 - mse: 290.9355\n",
            "Epoch 449/500\n",
            "2/2 [==============================] - 0s 7ms/step - loss: 26.5335 - mse: 971.7626\n",
            "Epoch 450/500\n",
            "2/2 [==============================] - 0s 6ms/step - loss: 17.1500 - mse: 418.8659\n",
            "Epoch 451/500\n",
            "2/2 [==============================] - 0s 7ms/step - loss: 5.3997 - mse: 72.2850\n",
            "Epoch 452/500\n",
            "2/2 [==============================] - 0s 6ms/step - loss: 13.5675 - mse: 259.6443\n",
            "Epoch 453/500\n",
            "2/2 [==============================] - 0s 6ms/step - loss: 16.9101 - mse: 401.7662\n",
            "Epoch 454/500\n",
            "2/2 [==============================] - 0s 6ms/step - loss: 12.9367 - mse: 233.6736\n",
            "Epoch 455/500\n",
            "2/2 [==============================] - 0s 7ms/step - loss: 17.3721 - mse: 458.9182\n",
            "Epoch 456/500\n",
            "2/2 [==============================] - 0s 8ms/step - loss: 9.5159 - mse: 233.5708\n",
            "Epoch 457/500\n",
            "2/2 [==============================] - 0s 6ms/step - loss: 16.1761 - mse: 401.2696\n",
            "Epoch 458/500\n",
            "2/2 [==============================] - 0s 6ms/step - loss: 16.0983 - mse: 364.2150\n",
            "Epoch 459/500\n",
            "2/2 [==============================] - 0s 6ms/step - loss: 15.6238 - mse: 351.5286\n",
            "Epoch 460/500\n",
            "2/2 [==============================] - 0s 7ms/step - loss: 21.5984 - mse: 681.6113\n",
            "Epoch 461/500\n",
            "2/2 [==============================] - 0s 6ms/step - loss: 34.0299 - mse: 1770.1550\n",
            "Epoch 462/500\n",
            "2/2 [==============================] - 0s 6ms/step - loss: 9.3959 - mse: 263.3576\n",
            "Epoch 463/500\n",
            "2/2 [==============================] - 0s 6ms/step - loss: 12.4459 - mse: 242.9461\n",
            "Epoch 464/500\n",
            "2/2 [==============================] - 0s 6ms/step - loss: 18.0034 - mse: 518.1915\n",
            "Epoch 465/500\n",
            "2/2 [==============================] - 0s 6ms/step - loss: 7.8148 - mse: 176.6897\n",
            "Epoch 466/500\n",
            "2/2 [==============================] - 0s 6ms/step - loss: 17.5021 - mse: 503.3503\n",
            "Epoch 467/500\n",
            "2/2 [==============================] - 0s 6ms/step - loss: 6.3184 - mse: 76.9845\n",
            "Epoch 468/500\n",
            "2/2 [==============================] - 0s 6ms/step - loss: 24.2979 - mse: 865.3137\n",
            "Epoch 469/500\n",
            "2/2 [==============================] - 0s 6ms/step - loss: 6.8217 - mse: 84.4720\n",
            "Epoch 470/500\n",
            "2/2 [==============================] - 0s 6ms/step - loss: 14.3144 - mse: 324.5373\n",
            "Epoch 471/500\n",
            "2/2 [==============================] - 0s 6ms/step - loss: 6.2118 - mse: 65.7063\n",
            "Epoch 472/500\n",
            "2/2 [==============================] - 0s 7ms/step - loss: 9.9124 - mse: 185.3702\n",
            "Epoch 473/500\n",
            "2/2 [==============================] - 0s 6ms/step - loss: 9.9815 - mse: 326.7513\n",
            "Epoch 474/500\n",
            "2/2 [==============================] - 0s 7ms/step - loss: 18.2776 - mse: 530.8725\n",
            "Epoch 475/500\n",
            "2/2 [==============================] - 0s 6ms/step - loss: 6.9577 - mse: 92.0835\n",
            "Epoch 476/500\n",
            "2/2 [==============================] - 0s 6ms/step - loss: 26.7094 - mse: 1073.5930\n",
            "Epoch 477/500\n",
            "2/2 [==============================] - 0s 7ms/step - loss: 5.5338 - mse: 56.9391\n",
            "Epoch 478/500\n",
            "2/2 [==============================] - 0s 7ms/step - loss: 18.8421 - mse: 512.8983\n",
            "Epoch 479/500\n",
            "2/2 [==============================] - 0s 7ms/step - loss: 10.1430 - mse: 202.8497\n",
            "Epoch 480/500\n",
            "2/2 [==============================] - 0s 7ms/step - loss: 14.1275 - mse: 291.7465\n",
            "Epoch 481/500\n",
            "2/2 [==============================] - 0s 6ms/step - loss: 29.7059 - mse: 1273.9833\n",
            "Epoch 482/500\n",
            "2/2 [==============================] - 0s 6ms/step - loss: 9.1048 - mse: 222.7547\n",
            "Epoch 483/500\n",
            "2/2 [==============================] - 0s 6ms/step - loss: 17.6730 - mse: 481.7745\n",
            "Epoch 484/500\n",
            "2/2 [==============================] - 0s 6ms/step - loss: 25.1650 - mse: 926.3911\n",
            "Epoch 485/500\n",
            "2/2 [==============================] - 0s 6ms/step - loss: 8.7610 - mse: 197.8340\n",
            "Epoch 486/500\n",
            "2/2 [==============================] - 0s 6ms/step - loss: 3.1174 - mse: 20.3567\n",
            "Epoch 487/500\n",
            "2/2 [==============================] - 0s 6ms/step - loss: 17.0473 - mse: 446.5548\n",
            "Epoch 488/500\n",
            "2/2 [==============================] - 0s 7ms/step - loss: 16.0802 - mse: 376.0667\n",
            "Epoch 489/500\n",
            "2/2 [==============================] - 0s 6ms/step - loss: 20.9257 - mse: 668.2768\n",
            "Epoch 490/500\n",
            "2/2 [==============================] - 0s 6ms/step - loss: 12.5651 - mse: 269.2345\n",
            "Epoch 491/500\n",
            "2/2 [==============================] - 0s 7ms/step - loss: 14.3701 - mse: 293.9603\n",
            "Epoch 492/500\n",
            "2/2 [==============================] - 0s 7ms/step - loss: 12.7392 - mse: 257.7766\n",
            "Epoch 493/500\n",
            "2/2 [==============================] - 0s 6ms/step - loss: 23.3642 - mse: 824.9280\n",
            "Epoch 494/500\n",
            "2/2 [==============================] - 0s 6ms/step - loss: 13.7639 - mse: 302.7399\n",
            "Epoch 495/500\n",
            "2/2 [==============================] - 0s 8ms/step - loss: 8.9766 - mse: 239.5310\n",
            "Epoch 496/500\n",
            "2/2 [==============================] - 0s 6ms/step - loss: 15.1650 - mse: 315.3379\n",
            "Epoch 497/500\n",
            "2/2 [==============================] - 0s 6ms/step - loss: 15.6999 - mse: 341.4402\n",
            "Epoch 498/500\n",
            "2/2 [==============================] - 0s 6ms/step - loss: 16.3916 - mse: 425.5345\n",
            "Epoch 499/500\n",
            "2/2 [==============================] - 0s 6ms/step - loss: 13.9020 - mse: 267.5511\n",
            "Epoch 500/500\n",
            "2/2 [==============================] - 0s 6ms/step - loss: 19.7389 - mse: 591.5431\n"
          ]
        },
        {
          "output_type": "execute_result",
          "data": {
            "text/plain": [
              "<keras.callbacks.History at 0x7fa9129ac4f0>"
            ]
          },
          "metadata": {},
          "execution_count": 33
        }
      ]
    },
    {
      "cell_type": "code",
      "source": [
        "# Evaluate model performance\n",
        "model_3.evaluate(X_val, y_val)"
      ],
      "metadata": {
        "id": "wVqbLCFbI9vG",
        "colab": {
          "base_uri": "https://localhost:8080/"
        },
        "outputId": "a9f802b6-e8eb-42b0-e311-d573e2e555f7"
      },
      "execution_count": 34,
      "outputs": [
        {
          "output_type": "stream",
          "name": "stdout",
          "text": [
            "1/1 [==============================] - 0s 199ms/step - loss: 45.1378 - mse: 2086.8491\n"
          ]
        },
        {
          "output_type": "execute_result",
          "data": {
            "text/plain": [
              "[45.13776397705078, 2086.84912109375]"
            ]
          },
          "metadata": {},
          "execution_count": 34
        }
      ]
    },
    {
      "cell_type": "code",
      "source": [
        "# Make predictions\n",
        "y_pred_3 = model_3.predict(X_val)"
      ],
      "metadata": {
        "id": "ybH-iej1I9sE",
        "colab": {
          "base_uri": "https://localhost:8080/"
        },
        "outputId": "10c655c6-385b-42d4-ec3a-b5b0285da2f7"
      },
      "execution_count": 35,
      "outputs": [
        {
          "output_type": "stream",
          "name": "stderr",
          "text": [
            "WARNING:tensorflow:6 out of the last 6 calls to <function Model.make_predict_function.<locals>.predict_function at 0x7fa9128fa670> triggered tf.function retracing. Tracing is expensive and the excessive number of tracings could be due to (1) creating @tf.function repeatedly in a loop, (2) passing tensors with different shapes, (3) passing Python objects instead of tensors. For (1), please define your @tf.function outside of the loop. For (2), @tf.function has reduce_retracing=True option that can avoid unnecessary retracing. For (3), please refer to https://www.tensorflow.org/guide/function#controlling_retracing and https://www.tensorflow.org/api_docs/python/tf/function for  more details.\n"
          ]
        },
        {
          "output_type": "stream",
          "name": "stdout",
          "text": [
            "1/1 [==============================] - 0s 109ms/step\n"
          ]
        }
      ]
    },
    {
      "cell_type": "code",
      "source": [
        "mae_3 = mean_absolute_error(y_true=y_val, y_pred=y_pred_3)\n",
        "print(mae_3)\n",
        "\n",
        "mse_3 = mean_squared_error(y_true=y_val, y_pred=y_pred_3)\n",
        "mse_3"
      ],
      "metadata": {
        "id": "8jazhAyhI9pU",
        "colab": {
          "base_uri": "https://localhost:8080/"
        },
        "outputId": "19c7b25a-7c5b-4d18-c62c-f77a3bc763aa"
      },
      "execution_count": 36,
      "outputs": [
        {
          "output_type": "stream",
          "name": "stdout",
          "text": [
            "tf.Tensor(45.16, shape=(), dtype=float16)\n"
          ]
        },
        {
          "output_type": "execute_result",
          "data": {
            "text/plain": [
              "<tf.Tensor: shape=(), dtype=float16, numpy=2086.0>"
            ]
          },
          "metadata": {},
          "execution_count": 36
        }
      ]
    },
    {
      "cell_type": "code",
      "source": [
        "# Visualize the predictions\n",
        "plot_prediction(y_predictions=y_pred_3)"
      ],
      "metadata": {
        "id": "KizMihEDI9l1",
        "colab": {
          "base_uri": "https://localhost:8080/",
          "height": 409
        },
        "outputId": "60f1efd2-7ddc-4a71-a46b-305edcc32501"
      },
      "execution_count": 37,
      "outputs": [
        {
          "output_type": "display_data",
          "data": {
            "text/plain": [
              "<Figure size 576x432 with 1 Axes>"
            ],
            "image/png": "[encoded data removed]"
          },
          "metadata": {
            "needs_background": "light"
          }
        }
      ]
    },
    {
      "cell_type": "markdown",
      "source": [
        "### Saving TensorFlow Models\n",
        "\n",
        "1. Using the dafault format: `model.save('my_model')`\n",
        "\n",
        "2. Using HDF5 format: `model.save('my_model.h5)`"
      ],
      "metadata": {
        "id": "OFkGHeb73IVy"
      }
    },
    {
      "cell_type": "code",
      "source": [
        "# Save model\n",
        "model_2.save(\"model_2\")"
      ],
      "metadata": {
        "id": "XYlpFRZvI9ib",
        "colab": {
          "base_uri": "https://localhost:8080/"
        },
        "outputId": "96e137ec-77dd-46fe-e85a-e4b9e36795b8"
      },
      "execution_count": 38,
      "outputs": [
        {
          "output_type": "stream",
          "name": "stderr",
          "text": [
            "WARNING:absl:Found untraced functions such as _update_step_xla while saving (showing 1 of 1). These functions will not be directly callable after loading.\n"
          ]
        }
      ]
    },
    {
      "cell_type": "markdown",
      "source": [
        "### Load Model\n",
        "\n",
        "* `tf.keras.models.load_model('my_model')`"
      ],
      "metadata": {
        "id": "HSCeEdcsI9fR"
      }
    },
    {
      "cell_type": "code",
      "source": [
        "# Load the model\n",
        "loaded_model_2 = tf.keras.models.load_model(\"model_2\")"
      ],
      "metadata": {
        "id": "q42IQY_EI9cZ"
      },
      "execution_count": 39,
      "outputs": []
    },
    {
      "cell_type": "code",
      "source": [
        "# Verify that the models are the same!\n",
        "load_model_pred_2 = loaded_model_2.predict(X_val)\n",
        "\n",
        "y_pred_2 == load_model_pred_2"
      ],
      "metadata": {
        "id": "NiJLaRhGI9Wq",
        "colab": {
          "base_uri": "https://localhost:8080/"
        },
        "outputId": "b473925b-9835-4de1-e456-7bbacbe1d024"
      },
      "execution_count": 40,
      "outputs": [
        {
          "output_type": "stream",
          "name": "stdout",
          "text": [
            "1/1 [==============================] - 0s 59ms/step\n"
          ]
        },
        {
          "output_type": "execute_result",
          "data": {
            "text/plain": [
              "array([[ True],\n",
              "       [ True],\n",
              "       [ True],\n",
              "       [ True],\n",
              "       [ True],\n",
              "       [ True],\n",
              "       [ True],\n",
              "       [ True],\n",
              "       [ True],\n",
              "       [ True]])"
            ]
          },
          "metadata": {},
          "execution_count": 40
        }
      ]
    },
    {
      "cell_type": "code",
      "source": [],
      "metadata": {
        "id": "fW27AM-k2Zur"
      },
      "execution_count": 40,
      "outputs": []
    },
    {
      "cell_type": "markdown",
      "source": [
        "### How To Download Files From Colab\n",
        "\n",
        "```python\n",
        "from google.colab import files\n",
        "\n",
        "files.download('filepath')\n",
        "```"
      ],
      "metadata": {
        "id": "DBhqzyiC21a_"
      }
    },
    {
      "cell_type": "markdown",
      "source": [
        "## Working With More Data\n",
        "\n",
        "### The data can be found [here](https://gist.githubusercontent.com/meperezcuello/82a9f1c1c473d6585e750ad2e3c05a41/raw/d42d226d0dd64e7f5395a0eec1b9190a10edbc03/Medical_Cost.csv)."
      ],
      "metadata": {
        "id": "1loF8o223rFw"
      }
    },
    {
      "cell_type": "code",
      "source": [
        "import pandas as pd\n",
        "\n",
        "\n",
        "# Load data\n",
        "fp = \"https://gist.githubusercontent.com/meperezcuello/82a9f1c1c473d6585e750ad2e3c05a41/raw/d42d226d0dd64e7f5395a0eec1b9190a10edbc03/Medical_Cost.csv\"\n",
        "data = pd.read_csv(fp)\n",
        "print(f\"Shape of data: {data.shape}\\n\")\n",
        "\n",
        "data.head()"
      ],
      "metadata": {
        "id": "mrgnQxfv2Zrn",
        "outputId": "c4fb7bd5-8668-4399-d220-eff11698c0df",
        "colab": {
          "base_uri": "https://localhost:8080/",
          "height": 242
        }
      },
      "execution_count": 41,
      "outputs": [
        {
          "output_type": "stream",
          "name": "stdout",
          "text": [
            "Shape of data: (1338, 7)\n",
            "\n"
          ]
        },
        {
          "output_type": "execute_result",
          "data": {
            "text/plain": [
              "   age     sex     bmi  children smoker     region      charges\n",
              "0   19  female  27.900         0    yes  southwest  16884.92400\n",
              "1   18    male  33.770         1     no  southeast   1725.55230\n",
              "2   28    male  33.000         3     no  southeast   4449.46200\n",
              "3   33    male  22.705         0     no  northwest  21984.47061\n",
              "4   32    male  28.880         0     no  northwest   3866.85520"
            ],
            "text/html": [
              "\n",
              "  <div id=\"df-31156226-3f55-4888-8180-0f16c34769a5\">\n",
              "    <div class=\"colab-df-container\">\n",
              "      <div>\n",
              "<style scoped>\n",
              "    .dataframe tbody tr th:only-of-type {\n",
              "        vertical-align: middle;\n",
              "    }\n",
              "\n",
              "    .dataframe tbody tr th {\n",
              "        vertical-align: top;\n",
              "    }\n",
              "\n",
              "    .dataframe thead th {\n",
              "        text-align: right;\n",
              "    }\n",
              "</style>\n",
              "<table border=\"1\" class=\"dataframe\">\n",
              "  <thead>\n",
              "    <tr style=\"text-align: right;\">\n",
              "      <th></th>\n",
              "      <th>age</th>\n",
              "      <th>sex</th>\n",
              "      <th>bmi</th>\n",
              "      <th>children</th>\n",
              "      <th>smoker</th>\n",
              "      <th>region</th>\n",
              "      <th>charges</th>\n",
              "    </tr>\n",
              "  </thead>\n",
              "  <tbody>\n",
              "    <tr>\n",
              "      <th>0</th>\n",
              "      <td>19</td>\n",
              "      <td>female</td>\n",
              "      <td>27.900</td>\n",
              "      <td>0</td>\n",
              "      <td>yes</td>\n",
              "      <td>southwest</td>\n",
              "      <td>16884.92400</td>\n",
              "    </tr>\n",
              "    <tr>\n",
              "      <th>1</th>\n",
              "      <td>18</td>\n",
              "      <td>male</td>\n",
              "      <td>33.770</td>\n",
              "      <td>1</td>\n",
              "      <td>no</td>\n",
              "      <td>southeast</td>\n",
              "      <td>1725.55230</td>\n",
              "    </tr>\n",
              "    <tr>\n",
              "      <th>2</th>\n",
              "      <td>28</td>\n",
              "      <td>male</td>\n",
              "      <td>33.000</td>\n",
              "      <td>3</td>\n",
              "      <td>no</td>\n",
              "      <td>southeast</td>\n",
              "      <td>4449.46200</td>\n",
              "    </tr>\n",
              "    <tr>\n",
              "      <th>3</th>\n",
              "      <td>33</td>\n",
              "      <td>male</td>\n",
              "      <td>22.705</td>\n",
              "      <td>0</td>\n",
              "      <td>no</td>\n",
              "      <td>northwest</td>\n",
              "      <td>21984.47061</td>\n",
              "    </tr>\n",
              "    <tr>\n",
              "      <th>4</th>\n",
              "      <td>32</td>\n",
              "      <td>male</td>\n",
              "      <td>28.880</td>\n",
              "      <td>0</td>\n",
              "      <td>no</td>\n",
              "      <td>northwest</td>\n",
              "      <td>3866.85520</td>\n",
              "    </tr>\n",
              "  </tbody>\n",
              "</table>\n",
              "</div>\n",
              "      <button class=\"colab-df-convert\" onclick=\"convertToInteractive('df-31156226-3f55-4888-8180-0f16c34769a5')\"\n",
              "              title=\"Convert this dataframe to an interactive table.\"\n",
              "              style=\"display:none;\">\n",
              "        \n",
              "  <svg xmlns=\"http://www.w3.org/2000/svg\" height=\"24px\"viewBox=\"0 0 24 24\"\n",
              "       width=\"24px\">\n",
              "    <path d=\"M0 0h24v24H0V0z\" fill=\"none\"/>\n",
              "    <path d=\"M18.56 5.44l.94 2.06.94-2.06 2.06-.94-2.06-.94-.94-2.06-.94 2.06-2.06.94zm-11 1L8.5 8.5l.94-2.06 2.06-.94-2.06-.94L8.5 2.5l-.94 2.06-2.06.94zm10 10l.94 2.06.94-2.06 2.06-.94-2.06-.94-.94-2.06-.94 2.06-2.06.94z\"/><path d=\"M17.41 7.96l-1.37-1.37c-.4-.4-.92-.59-1.43-.59-.52 0-1.04.2-1.43.59L10.3 9.45l-7.72 7.72c-.78.78-.78 2.05 0 2.83L4 21.41c.39.39.9.59 1.41.59.51 0 1.02-.2 1.41-.59l7.78-7.78 2.81-2.81c.8-.78.8-2.07 0-2.86zM5.41 20L4 18.59l7.72-7.72 1.47 1.35L5.41 20z\"/>\n",
              "  </svg>\n",
              "      </button>\n",
              "      \n",
              "  <style>\n",
              "    .colab-df-container {\n",
              "      display:flex;\n",
              "      flex-wrap:wrap;\n",
              "      gap: 12px;\n",
              "    }\n",
              "\n",
              "    .colab-df-convert {\n",
              "      background-color: #E8F0FE;\n",
              "      border: none;\n",
              "      border-radius: 50%;\n",
              "      cursor: pointer;\n",
              "      display: none;\n",
              "      fill: #1967D2;\n",
              "      height: 32px;\n",
              "      padding: 0 0 0 0;\n",
              "      width: 32px;\n",
              "    }\n",
              "\n",
              "    .colab-df-convert:hover {\n",
              "      background-color: #E2EBFA;\n",
              "      box-shadow: 0px 1px 2px rgba(60, 64, 67, 0.3), 0px 1px 3px 1px rgba(60, 64, 67, 0.15);\n",
              "      fill: #174EA6;\n",
              "    }\n",
              "\n",
              "    [theme=dark] .colab-df-convert {\n",
              "      background-color: #3B4455;\n",
              "      fill: #D2E3FC;\n",
              "    }\n",
              "\n",
              "    [theme=dark] .colab-df-convert:hover {\n",
              "      background-color: #434B5C;\n",
              "      box-shadow: 0px 1px 3px 1px rgba(0, 0, 0, 0.15);\n",
              "      filter: drop-shadow(0px 1px 2px rgba(0, 0, 0, 0.3));\n",
              "      fill: #FFFFFF;\n",
              "    }\n",
              "  </style>\n",
              "\n",
              "      <script>\n",
              "        const buttonEl =\n",
              "          document.querySelector('#df-31156226-3f55-4888-8180-0f16c34769a5 button.colab-df-convert');\n",
              "        buttonEl.style.display =\n",
              "          google.colab.kernel.accessAllowed ? 'block' : 'none';\n",
              "\n",
              "        async function convertToInteractive(key) {\n",
              "          const element = document.querySelector('#df-31156226-3f55-4888-8180-0f16c34769a5');\n",
              "          const dataTable =\n",
              "            await google.colab.kernel.invokeFunction('convertToInteractive',\n",
              "                                                     [key], {});\n",
              "          if (!dataTable) return;\n",
              "\n",
              "          const docLinkHtml = 'Like what you see? Visit the ' +\n",
              "            '<a target=\"_blank\" href=https://colab.research.google.com/notebooks/data_table.ipynb>data table notebook</a>'\n",
              "            + ' to learn more about interactive tables.';\n",
              "          element.innerHTML = '';\n",
              "          dataTable['output_type'] = 'display_data';\n",
              "          await google.colab.output.renderOutput(dataTable, element);\n",
              "          const docLink = document.createElement('div');\n",
              "          docLink.innerHTML = docLinkHtml;\n",
              "          element.appendChild(docLink);\n",
              "        }\n",
              "      </script>\n",
              "    </div>\n",
              "  </div>\n",
              "  "
            ]
          },
          "metadata": {},
          "execution_count": 41
        }
      ]
    },
    {
      "cell_type": "code",
      "source": [
        "# Preprocess the data\n",
        "one_hot_enc_data = pd.get_dummies(data)\n",
        "\n",
        "one_hot_enc_data.head(2)"
      ],
      "metadata": {
        "id": "OXleaQiQ2Zom",
        "outputId": "754f4101-64e9-4d58-d8c4-bd4350859cdc",
        "colab": {
          "base_uri": "https://localhost:8080/",
          "height": 112
        }
      },
      "execution_count": 42,
      "outputs": [
        {
          "output_type": "execute_result",
          "data": {
            "text/plain": [
              "   age    bmi  children     charges  sex_female  sex_male  smoker_no  \\\n",
              "0   19  27.90         0  16884.9240           1         0          0   \n",
              "1   18  33.77         1   1725.5523           0         1          1   \n",
              "\n",
              "   smoker_yes  region_northeast  region_northwest  region_southeast  \\\n",
              "0           1                 0                 0                 0   \n",
              "1           0                 0                 0                 1   \n",
              "\n",
              "   region_southwest  \n",
              "0                 1  \n",
              "1                 0  "
            ],
            "text/html": [
              "\n",
              "  <div id=\"df-ada3b06f-a737-48f5-9319-38d54a4c601b\">\n",
              "    <div class=\"colab-df-container\">\n",
              "      <div>\n",
              "<style scoped>\n",
              "    .dataframe tbody tr th:only-of-type {\n",
              "        vertical-align: middle;\n",
              "    }\n",
              "\n",
              "    .dataframe tbody tr th {\n",
              "        vertical-align: top;\n",
              "    }\n",
              "\n",
              "    .dataframe thead th {\n",
              "        text-align: right;\n",
              "    }\n",
              "</style>\n",
              "<table border=\"1\" class=\"dataframe\">\n",
              "  <thead>\n",
              "    <tr style=\"text-align: right;\">\n",
              "      <th></th>\n",
              "      <th>age</th>\n",
              "      <th>bmi</th>\n",
              "      <th>children</th>\n",
              "      <th>charges</th>\n",
              "      <th>sex_female</th>\n",
              "      <th>sex_male</th>\n",
              "      <th>smoker_no</th>\n",
              "      <th>smoker_yes</th>\n",
              "      <th>region_northeast</th>\n",
              "      <th>region_northwest</th>\n",
              "      <th>region_southeast</th>\n",
              "      <th>region_southwest</th>\n",
              "    </tr>\n",
              "  </thead>\n",
              "  <tbody>\n",
              "    <tr>\n",
              "      <th>0</th>\n",
              "      <td>19</td>\n",
              "      <td>27.90</td>\n",
              "      <td>0</td>\n",
              "      <td>16884.9240</td>\n",
              "      <td>1</td>\n",
              "      <td>0</td>\n",
              "      <td>0</td>\n",
              "      <td>1</td>\n",
              "      <td>0</td>\n",
              "      <td>0</td>\n",
              "      <td>0</td>\n",
              "      <td>1</td>\n",
              "    </tr>\n",
              "    <tr>\n",
              "      <th>1</th>\n",
              "      <td>18</td>\n",
              "      <td>33.77</td>\n",
              "      <td>1</td>\n",
              "      <td>1725.5523</td>\n",
              "      <td>0</td>\n",
              "      <td>1</td>\n",
              "      <td>1</td>\n",
              "      <td>0</td>\n",
              "      <td>0</td>\n",
              "      <td>0</td>\n",
              "      <td>1</td>\n",
              "      <td>0</td>\n",
              "    </tr>\n",
              "  </tbody>\n",
              "</table>\n",
              "</div>\n",
              "      <button class=\"colab-df-convert\" onclick=\"convertToInteractive('df-ada3b06f-a737-48f5-9319-38d54a4c601b')\"\n",
              "              title=\"Convert this dataframe to an interactive table.\"\n",
              "              style=\"display:none;\">\n",
              "        \n",
              "  <svg xmlns=\"http://www.w3.org/2000/svg\" height=\"24px\"viewBox=\"0 0 24 24\"\n",
              "       width=\"24px\">\n",
              "    <path d=\"M0 0h24v24H0V0z\" fill=\"none\"/>\n",
              "    <path d=\"M18.56 5.44l.94 2.06.94-2.06 2.06-.94-2.06-.94-.94-2.06-.94 2.06-2.06.94zm-11 1L8.5 8.5l.94-2.06 2.06-.94-2.06-.94L8.5 2.5l-.94 2.06-2.06.94zm10 10l.94 2.06.94-2.06 2.06-.94-2.06-.94-.94-2.06-.94 2.06-2.06.94z\"/><path d=\"M17.41 7.96l-1.37-1.37c-.4-.4-.92-.59-1.43-.59-.52 0-1.04.2-1.43.59L10.3 9.45l-7.72 7.72c-.78.78-.78 2.05 0 2.83L4 21.41c.39.39.9.59 1.41.59.51 0 1.02-.2 1.41-.59l7.78-7.78 2.81-2.81c.8-.78.8-2.07 0-2.86zM5.41 20L4 18.59l7.72-7.72 1.47 1.35L5.41 20z\"/>\n",
              "  </svg>\n",
              "      </button>\n",
              "      \n",
              "  <style>\n",
              "    .colab-df-container {\n",
              "      display:flex;\n",
              "      flex-wrap:wrap;\n",
              "      gap: 12px;\n",
              "    }\n",
              "\n",
              "    .colab-df-convert {\n",
              "      background-color: #E8F0FE;\n",
              "      border: none;\n",
              "      border-radius: 50%;\n",
              "      cursor: pointer;\n",
              "      display: none;\n",
              "      fill: #1967D2;\n",
              "      height: 32px;\n",
              "      padding: 0 0 0 0;\n",
              "      width: 32px;\n",
              "    }\n",
              "\n",
              "    .colab-df-convert:hover {\n",
              "      background-color: #E2EBFA;\n",
              "      box-shadow: 0px 1px 2px rgba(60, 64, 67, 0.3), 0px 1px 3px 1px rgba(60, 64, 67, 0.15);\n",
              "      fill: #174EA6;\n",
              "    }\n",
              "\n",
              "    [theme=dark] .colab-df-convert {\n",
              "      background-color: #3B4455;\n",
              "      fill: #D2E3FC;\n",
              "    }\n",
              "\n",
              "    [theme=dark] .colab-df-convert:hover {\n",
              "      background-color: #434B5C;\n",
              "      box-shadow: 0px 1px 3px 1px rgba(0, 0, 0, 0.15);\n",
              "      filter: drop-shadow(0px 1px 2px rgba(0, 0, 0, 0.3));\n",
              "      fill: #FFFFFF;\n",
              "    }\n",
              "  </style>\n",
              "\n",
              "      <script>\n",
              "        const buttonEl =\n",
              "          document.querySelector('#df-ada3b06f-a737-48f5-9319-38d54a4c601b button.colab-df-convert');\n",
              "        buttonEl.style.display =\n",
              "          google.colab.kernel.accessAllowed ? 'block' : 'none';\n",
              "\n",
              "        async function convertToInteractive(key) {\n",
              "          const element = document.querySelector('#df-ada3b06f-a737-48f5-9319-38d54a4c601b');\n",
              "          const dataTable =\n",
              "            await google.colab.kernel.invokeFunction('convertToInteractive',\n",
              "                                                     [key], {});\n",
              "          if (!dataTable) return;\n",
              "\n",
              "          const docLinkHtml = 'Like what you see? Visit the ' +\n",
              "            '<a target=\"_blank\" href=https://colab.research.google.com/notebooks/data_table.ipynb>data table notebook</a>'\n",
              "            + ' to learn more about interactive tables.';\n",
              "          element.innerHTML = '';\n",
              "          dataTable['output_type'] = 'display_data';\n",
              "          await google.colab.output.renderOutput(dataTable, element);\n",
              "          const docLink = document.createElement('div');\n",
              "          docLink.innerHTML = docLinkHtml;\n",
              "          element.appendChild(docLink);\n",
              "        }\n",
              "      </script>\n",
              "    </div>\n",
              "  </div>\n",
              "  "
            ]
          },
          "metadata": {},
          "execution_count": 42
        }
      ]
    },
    {
      "cell_type": "code",
      "source": [
        "# Split the data into training and validation sets\n",
        "from sklearn.model_selection import train_test_split\n",
        "\n",
        "RANDOM_STATE = 123\n",
        "TEST_SIZE = 0.2\n",
        "TARGET = \"charges\"\n",
        "\n",
        "X = one_hot_enc_data.drop(columns=[TARGET])  # Matrix\n",
        "y = one_hot_enc_data[TARGET]  # Vector\n",
        "\n",
        "X_train, X_val, y_train, y_val = train_test_split(X, y, test_size=TEST_SIZE, random_state=RANDOM_STATE)\n",
        "\n",
        "X_train.shape, X_val.shape"
      ],
      "metadata": {
        "id": "qgXPvo352Zlu",
        "outputId": "76d276d1-fd61-4ce5-ebae-3ac462281623",
        "colab": {
          "base_uri": "https://localhost:8080/"
        }
      },
      "execution_count": 43,
      "outputs": [
        {
          "output_type": "execute_result",
          "data": {
            "text/plain": [
              "((1070, 11), (268, 11))"
            ]
          },
          "metadata": {},
          "execution_count": 43
        }
      ]
    },
    {
      "cell_type": "markdown",
      "source": [
        "#### Build 1st Model\n",
        "\n",
        "* Baseline model"
      ],
      "metadata": {
        "id": "C_89U4hT7sFc"
      }
    },
    {
      "cell_type": "code",
      "source": [
        "tf.random.set_seed(SEED)\n",
        "\n",
        "# Build model\n",
        "model_1 = tf.keras.Sequential([\n",
        "    tf.keras.layers.Dense(units=10, activation=None, input_shape=[X_train.shape[-1]], \n",
        "                          name=\"input_layer\"),\n",
        "    tf.keras.layers.Dense(units=1, activation=None, name=\"output_layer\")\n",
        "])\n",
        "\n",
        "# Compile\n",
        "model_1.compile(loss=tf.keras.losses.mae,\n",
        "                optimizer=tf.keras.optimizers.SGD(),\n",
        "                metrics=[\"mae\"])\n",
        "\n",
        "# Fit the model\n",
        "model_1.fit(X_train, y_train, epochs=100)"
      ],
      "metadata": {
        "id": "FShRGpwq7sBz",
        "outputId": "557f9ce2-fbe3-4f13-bc92-5ad0dd1df24d",
        "colab": {
          "base_uri": "https://localhost:8080/"
        }
      },
      "execution_count": 44,
      "outputs": [
        {
          "output_type": "stream",
          "name": "stdout",
          "text": [
            "Epoch 1/100\n",
            "34/34 [==============================] - 0s 2ms/step - loss: 8606.1729 - mae: 8606.1729\n",
            "Epoch 2/100\n",
            "34/34 [==============================] - 0s 3ms/step - loss: 7794.2104 - mae: 7794.2104\n",
            "Epoch 3/100\n",
            "34/34 [==============================] - 0s 2ms/step - loss: 7406.5225 - mae: 7406.5225\n",
            "Epoch 4/100\n",
            "34/34 [==============================] - 0s 2ms/step - loss: 7778.6890 - mae: 7778.6890\n",
            "Epoch 5/100\n",
            "34/34 [==============================] - 0s 2ms/step - loss: 7577.2383 - mae: 7577.2383\n",
            "Epoch 6/100\n",
            "34/34 [==============================] - 0s 2ms/step - loss: 7752.4507 - mae: 7752.4507\n",
            "Epoch 7/100\n",
            "34/34 [==============================] - 0s 2ms/step - loss: 7492.3955 - mae: 7492.3955\n",
            "Epoch 8/100\n",
            "34/34 [==============================] - 0s 2ms/step - loss: 7462.4771 - mae: 7462.4771\n",
            "Epoch 9/100\n",
            "34/34 [==============================] - 0s 2ms/step - loss: 7596.9619 - mae: 7596.9619\n",
            "Epoch 10/100\n",
            "34/34 [==============================] - 0s 2ms/step - loss: 7589.1577 - mae: 7589.1577\n",
            "Epoch 11/100\n",
            "34/34 [==============================] - 0s 2ms/step - loss: 7424.9116 - mae: 7424.9116\n",
            "Epoch 12/100\n",
            "34/34 [==============================] - 0s 1ms/step - loss: 7428.8511 - mae: 7428.8511\n",
            "Epoch 13/100\n",
            "34/34 [==============================] - 0s 2ms/step - loss: 7436.8374 - mae: 7436.8374\n",
            "Epoch 14/100\n",
            "34/34 [==============================] - 0s 2ms/step - loss: 7326.9214 - mae: 7326.9214\n",
            "Epoch 15/100\n",
            "34/34 [==============================] - 0s 1ms/step - loss: 7533.5151 - mae: 7533.5151\n",
            "Epoch 16/100\n",
            "34/34 [==============================] - 0s 2ms/step - loss: 7635.5591 - mae: 7635.5591\n",
            "Epoch 17/100\n",
            "34/34 [==============================] - 0s 2ms/step - loss: 7556.3975 - mae: 7556.3975\n",
            "Epoch 18/100\n",
            "34/34 [==============================] - 0s 2ms/step - loss: 7588.1694 - mae: 7588.1694\n",
            "Epoch 19/100\n",
            "34/34 [==============================] - 0s 2ms/step - loss: 7410.7217 - mae: 7410.7217\n",
            "Epoch 20/100\n",
            "34/34 [==============================] - 0s 2ms/step - loss: 7328.7983 - mae: 7328.7983\n",
            "Epoch 21/100\n",
            "34/34 [==============================] - 0s 2ms/step - loss: 7588.0381 - mae: 7588.0381\n",
            "Epoch 22/100\n",
            "34/34 [==============================] - 0s 1ms/step - loss: 7629.1475 - mae: 7629.1475\n",
            "Epoch 23/100\n",
            "34/34 [==============================] - 0s 2ms/step - loss: 7581.7925 - mae: 7581.7925\n",
            "Epoch 24/100\n",
            "34/34 [==============================] - 0s 2ms/step - loss: 7506.4175 - mae: 7506.4175\n",
            "Epoch 25/100\n",
            "34/34 [==============================] - 0s 2ms/step - loss: 7395.4434 - mae: 7395.4434\n",
            "Epoch 26/100\n",
            "34/34 [==============================] - 0s 2ms/step - loss: 7429.1191 - mae: 7429.1191\n",
            "Epoch 27/100\n",
            "34/34 [==============================] - 0s 2ms/step - loss: 7483.7300 - mae: 7483.7300\n",
            "Epoch 28/100\n",
            "34/34 [==============================] - 0s 2ms/step - loss: 7415.4316 - mae: 7415.4316\n",
            "Epoch 29/100\n",
            "34/34 [==============================] - 0s 2ms/step - loss: 7459.2612 - mae: 7459.2612\n",
            "Epoch 30/100\n",
            "34/34 [==============================] - 0s 2ms/step - loss: 7323.2544 - mae: 7323.2544\n",
            "Epoch 31/100\n",
            "34/34 [==============================] - 0s 2ms/step - loss: 7254.0049 - mae: 7254.0049\n",
            "Epoch 32/100\n",
            "34/34 [==============================] - 0s 2ms/step - loss: 7373.5884 - mae: 7373.5884\n",
            "Epoch 33/100\n",
            "34/34 [==============================] - 0s 2ms/step - loss: 7571.8540 - mae: 7571.8540\n",
            "Epoch 34/100\n",
            "34/34 [==============================] - 0s 2ms/step - loss: 7371.5054 - mae: 7371.5054\n",
            "Epoch 35/100\n",
            "34/34 [==============================] - 0s 2ms/step - loss: 7513.8643 - mae: 7513.8643\n",
            "Epoch 36/100\n",
            "34/34 [==============================] - 0s 2ms/step - loss: 7280.0557 - mae: 7280.0557\n",
            "Epoch 37/100\n",
            "34/34 [==============================] - 0s 2ms/step - loss: 7513.3574 - mae: 7513.3574\n",
            "Epoch 38/100\n",
            "34/34 [==============================] - 0s 2ms/step - loss: 7440.4414 - mae: 7440.4414\n",
            "Epoch 39/100\n",
            "34/34 [==============================] - 0s 2ms/step - loss: 7400.3311 - mae: 7400.3311\n",
            "Epoch 40/100\n",
            "34/34 [==============================] - 0s 2ms/step - loss: 7439.6865 - mae: 7439.6865\n",
            "Epoch 41/100\n",
            "34/34 [==============================] - 0s 2ms/step - loss: 7405.5503 - mae: 7405.5503\n",
            "Epoch 42/100\n",
            "34/34 [==============================] - 0s 2ms/step - loss: 7549.6084 - mae: 7549.6084\n",
            "Epoch 43/100\n",
            "34/34 [==============================] - 0s 2ms/step - loss: 7412.4287 - mae: 7412.4287\n",
            "Epoch 44/100\n",
            "34/34 [==============================] - 0s 2ms/step - loss: 7544.9302 - mae: 7544.9302\n",
            "Epoch 45/100\n",
            "34/34 [==============================] - 0s 2ms/step - loss: 7440.5234 - mae: 7440.5234\n",
            "Epoch 46/100\n",
            "34/34 [==============================] - 0s 2ms/step - loss: 7440.3735 - mae: 7440.3735\n",
            "Epoch 47/100\n",
            "34/34 [==============================] - 0s 2ms/step - loss: 7253.1646 - mae: 7253.1646\n",
            "Epoch 48/100\n",
            "34/34 [==============================] - 0s 2ms/step - loss: 7327.3154 - mae: 7327.3154\n",
            "Epoch 49/100\n",
            "34/34 [==============================] - 0s 2ms/step - loss: 7612.7368 - mae: 7612.7368\n",
            "Epoch 50/100\n",
            "34/34 [==============================] - 0s 2ms/step - loss: 7337.6934 - mae: 7337.6934\n",
            "Epoch 51/100\n",
            "34/34 [==============================] - 0s 2ms/step - loss: 7395.6128 - mae: 7395.6128\n",
            "Epoch 52/100\n",
            "34/34 [==============================] - 0s 2ms/step - loss: 7312.8794 - mae: 7312.8794\n",
            "Epoch 53/100\n",
            "34/34 [==============================] - 0s 2ms/step - loss: 7271.7471 - mae: 7271.7471\n",
            "Epoch 54/100\n",
            "34/34 [==============================] - 0s 2ms/step - loss: 7606.7192 - mae: 7606.7192\n",
            "Epoch 55/100\n",
            "34/34 [==============================] - 0s 2ms/step - loss: 7142.0391 - mae: 7142.0391\n",
            "Epoch 56/100\n",
            "34/34 [==============================] - 0s 2ms/step - loss: 7358.9185 - mae: 7358.9185\n",
            "Epoch 57/100\n",
            "34/34 [==============================] - 0s 2ms/step - loss: 7367.4253 - mae: 7367.4253\n",
            "Epoch 58/100\n",
            "34/34 [==============================] - 0s 2ms/step - loss: 7269.3887 - mae: 7269.3887\n",
            "Epoch 59/100\n",
            "34/34 [==============================] - 0s 2ms/step - loss: 7422.0063 - mae: 7422.0063\n",
            "Epoch 60/100\n",
            "34/34 [==============================] - 0s 2ms/step - loss: 7413.3794 - mae: 7413.3794\n",
            "Epoch 61/100\n",
            "34/34 [==============================] - 0s 2ms/step - loss: 7326.4214 - mae: 7326.4214\n",
            "Epoch 62/100\n",
            "34/34 [==============================] - 0s 2ms/step - loss: 7285.7666 - mae: 7285.7666\n",
            "Epoch 63/100\n",
            "34/34 [==============================] - 0s 2ms/step - loss: 7329.4829 - mae: 7329.4829\n",
            "Epoch 64/100\n",
            "34/34 [==============================] - 0s 2ms/step - loss: 7347.7642 - mae: 7347.7642\n",
            "Epoch 65/100\n",
            "34/34 [==============================] - 0s 2ms/step - loss: 7408.1055 - mae: 7408.1055\n",
            "Epoch 66/100\n",
            "34/34 [==============================] - 0s 1ms/step - loss: 7135.4805 - mae: 7135.4805\n",
            "Epoch 67/100\n",
            "34/34 [==============================] - 0s 2ms/step - loss: 7255.2007 - mae: 7255.2007\n",
            "Epoch 68/100\n",
            "34/34 [==============================] - 0s 2ms/step - loss: 7107.9028 - mae: 7107.9028\n",
            "Epoch 69/100\n",
            "34/34 [==============================] - 0s 2ms/step - loss: 7332.2471 - mae: 7332.2471\n",
            "Epoch 70/100\n",
            "34/34 [==============================] - 0s 2ms/step - loss: 7290.2012 - mae: 7290.2012\n",
            "Epoch 71/100\n",
            "34/34 [==============================] - 0s 1ms/step - loss: 7119.5698 - mae: 7119.5698\n",
            "Epoch 72/100\n",
            "34/34 [==============================] - 0s 2ms/step - loss: 7210.3438 - mae: 7210.3438\n",
            "Epoch 73/100\n",
            "34/34 [==============================] - 0s 2ms/step - loss: 7040.8682 - mae: 7040.8682\n",
            "Epoch 74/100\n",
            "34/34 [==============================] - 0s 2ms/step - loss: 7443.4692 - mae: 7443.4692\n",
            "Epoch 75/100\n",
            "34/34 [==============================] - 0s 2ms/step - loss: 7201.3486 - mae: 7201.3486\n",
            "Epoch 76/100\n",
            "34/34 [==============================] - 0s 2ms/step - loss: 7248.5493 - mae: 7248.5493\n",
            "Epoch 77/100\n",
            "34/34 [==============================] - 0s 2ms/step - loss: 7262.0815 - mae: 7262.0815\n",
            "Epoch 78/100\n",
            "34/34 [==============================] - 0s 2ms/step - loss: 7202.6426 - mae: 7202.6426\n",
            "Epoch 79/100\n",
            "34/34 [==============================] - 0s 2ms/step - loss: 7142.5181 - mae: 7142.5181\n",
            "Epoch 80/100\n",
            "34/34 [==============================] - 0s 2ms/step - loss: 7159.9307 - mae: 7159.9307\n",
            "Epoch 81/100\n",
            "34/34 [==============================] - 0s 2ms/step - loss: 7193.9053 - mae: 7193.9053\n",
            "Epoch 82/100\n",
            "34/34 [==============================] - 0s 2ms/step - loss: 7222.5200 - mae: 7222.5200\n",
            "Epoch 83/100\n",
            "34/34 [==============================] - 0s 1ms/step - loss: 6998.5488 - mae: 6998.5488\n",
            "Epoch 84/100\n",
            "34/34 [==============================] - 0s 2ms/step - loss: 6959.6743 - mae: 6959.6743\n",
            "Epoch 85/100\n",
            "34/34 [==============================] - 0s 2ms/step - loss: 7231.1587 - mae: 7231.1587\n",
            "Epoch 86/100\n",
            "34/34 [==============================] - 0s 2ms/step - loss: 7117.0830 - mae: 7117.0830\n",
            "Epoch 87/100\n",
            "34/34 [==============================] - 0s 2ms/step - loss: 7124.4702 - mae: 7124.4702\n",
            "Epoch 88/100\n",
            "34/34 [==============================] - 0s 2ms/step - loss: 7286.8555 - mae: 7286.8555\n",
            "Epoch 89/100\n",
            "34/34 [==============================] - 0s 2ms/step - loss: 7250.1709 - mae: 7250.1709\n",
            "Epoch 90/100\n",
            "34/34 [==============================] - 0s 2ms/step - loss: 7168.2671 - mae: 7168.2671\n",
            "Epoch 91/100\n",
            "34/34 [==============================] - 0s 2ms/step - loss: 7231.8564 - mae: 7231.8564\n",
            "Epoch 92/100\n",
            "34/34 [==============================] - 0s 2ms/step - loss: 7512.2935 - mae: 7512.2935\n",
            "Epoch 93/100\n",
            "34/34 [==============================] - 0s 1ms/step - loss: 7211.1304 - mae: 7211.1304\n",
            "Epoch 94/100\n",
            "34/34 [==============================] - 0s 2ms/step - loss: 7387.3198 - mae: 7387.3198\n",
            "Epoch 95/100\n",
            "34/34 [==============================] - 0s 2ms/step - loss: 7023.4722 - mae: 7023.4722\n",
            "Epoch 96/100\n",
            "34/34 [==============================] - 0s 2ms/step - loss: 7301.5244 - mae: 7301.5244\n",
            "Epoch 97/100\n",
            "34/34 [==============================] - 0s 2ms/step - loss: 7206.1875 - mae: 7206.1875\n",
            "Epoch 98/100\n",
            "34/34 [==============================] - 0s 2ms/step - loss: 7150.2119 - mae: 7150.2119\n",
            "Epoch 99/100\n",
            "34/34 [==============================] - 0s 2ms/step - loss: 7071.1963 - mae: 7071.1963\n",
            "Epoch 100/100\n",
            "34/34 [==============================] - 0s 2ms/step - loss: 7251.5693 - mae: 7251.5693\n"
          ]
        },
        {
          "output_type": "execute_result",
          "data": {
            "text/plain": [
              "<keras.callbacks.History at 0x7fa8feb3ed90>"
            ]
          },
          "metadata": {},
          "execution_count": 44
        }
      ]
    },
    {
      "cell_type": "code",
      "source": [
        "model_1.summary()"
      ],
      "metadata": {
        "id": "7wzUVqtm7r6O",
        "outputId": "6929615c-af20-4ba4-ad26-a97d3b3e5b5a",
        "colab": {
          "base_uri": "https://localhost:8080/"
        }
      },
      "execution_count": 45,
      "outputs": [
        {
          "output_type": "stream",
          "name": "stdout",
          "text": [
            "Model: \"sequential_5\"\n",
            "_________________________________________________________________\n",
            " Layer (type)                Output Shape              Param #   \n",
            "=================================================================\n",
            " input_layer (Dense)         (None, 10)                120       \n",
            "                                                                 \n",
            " output_layer (Dense)        (None, 1)                 11        \n",
            "                                                                 \n",
            "=================================================================\n",
            "Total params: 131\n",
            "Trainable params: 131\n",
            "Non-trainable params: 0\n",
            "_________________________________________________________________\n"
          ]
        }
      ]
    },
    {
      "cell_type": "code",
      "source": [
        "# Evaluate model\n",
        "model_1.evaluate(X_val, y_val)"
      ],
      "metadata": {
        "id": "UuaoXAD37r2a",
        "outputId": "83cdc680-8116-4348-882e-28ad9c2d89a5",
        "colab": {
          "base_uri": "https://localhost:8080/"
        }
      },
      "execution_count": 46,
      "outputs": [
        {
          "output_type": "stream",
          "name": "stdout",
          "text": [
            "9/9 [==============================] - 0s 3ms/step - loss: 7248.3984 - mae: 7248.3984\n"
          ]
        },
        {
          "output_type": "execute_result",
          "data": {
            "text/plain": [
              "[7248.3984375, 7248.3984375]"
            ]
          },
          "metadata": {},
          "execution_count": 46
        }
      ]
    },
    {
      "cell_type": "code",
      "source": [
        "y_train.describe()"
      ],
      "metadata": {
        "id": "j-aIw5tQGvd4",
        "outputId": "8ab9c9ef-2d0c-47b6-f61d-0a86c6be85ae",
        "colab": {
          "base_uri": "https://localhost:8080/"
        }
      },
      "execution_count": 48,
      "outputs": [
        {
          "output_type": "execute_result",
          "data": {
            "text/plain": [
              "count     1070.000000\n",
              "mean     13189.257683\n",
              "std      12043.848125\n",
              "min       1121.873900\n",
              "25%       4565.996850\n",
              "50%       9303.297725\n",
              "75%      16791.384968\n",
              "max      62592.873090\n",
              "Name: charges, dtype: float64"
            ]
          },
          "metadata": {},
          "execution_count": 48
        }
      ]
    },
    {
      "cell_type": "markdown",
      "source": [
        "#### Comment\n",
        "\n",
        "* The baseline model isn't performing too well.\n",
        "* The **mae** is ~7300 which means that it gets the predictions wrong on average by a value of 7300.\n",
        "* This isn't good since the median y_train value is **~9300** and this means that we could be charging someone about **2000** when we should actually charge them **9300** 😲"
      ],
      "metadata": {
        "id": "sAfeNiPWG5HB"
      }
    },
    {
      "cell_type": "code",
      "source": [
        "# Make predictions\n",
        "y_pred_1 = model_1.predict(X_val)"
      ],
      "metadata": {
        "id": "vFqLiGtL2Zif",
        "outputId": "391321e8-6c6e-4989-d428-ff8278757f62",
        "colab": {
          "base_uri": "https://localhost:8080/"
        }
      },
      "execution_count": 47,
      "outputs": [
        {
          "output_type": "stream",
          "name": "stdout",
          "text": [
            "9/9 [==============================] - 0s 2ms/step\n"
          ]
        }
      ]
    },
    {
      "cell_type": "code",
      "source": [],
      "metadata": {
        "id": "e5zrYye1G3kg"
      },
      "execution_count": null,
      "outputs": []
    },
    {
      "cell_type": "markdown",
      "source": [
        "### Improve The Model\n",
        "\n",
        "* Build an improved model by increasing the number of hidden layers / neurons."
      ],
      "metadata": {
        "id": "hnzqVjEjIAm3"
      }
    },
    {
      "cell_type": "code",
      "source": [
        "tf.random.set_seed(SEED)\n",
        "\n",
        "model_2 = tf.keras.Sequential([\n",
        "    tf.keras.layers.Dense(units=100, input_shape=[X_train.shape[-1]], \n",
        "                          name=\"input_layer\"),\n",
        "    tf.keras.layers.Dense(units=10),\n",
        "    tf.keras.layers.Dense(units=1, name=\"output_layer\")\n",
        "])\n",
        "\n",
        "# Compile\n",
        "model_2.compile(loss=tf.keras.losses.mae,\n",
        "                optimizer=tf.keras.optimizers.Adam(),\n",
        "                metrics=[\"mae\"])\n",
        "\n",
        "# Fit/Train\n",
        "model_2.fit(X_train, y_train, epochs=100)"
      ],
      "metadata": {
        "id": "wJ8VYpSJG3Vv",
        "outputId": "0844c6f5-d590-4cc2-d1a7-597a0da0f7ec",
        "colab": {
          "base_uri": "https://localhost:8080/"
        }
      },
      "execution_count": 55,
      "outputs": [
        {
          "output_type": "stream",
          "name": "stdout",
          "text": [
            "Epoch 1/100\n",
            "34/34 [==============================] - 2s 5ms/step - loss: 13136.5586 - mae: 13136.5586\n",
            "Epoch 2/100\n",
            "34/34 [==============================] - 0s 5ms/step - loss: 12928.8945 - mae: 12928.8945\n",
            "Epoch 3/100\n",
            "34/34 [==============================] - 0s 4ms/step - loss: 12537.6250 - mae: 12537.6250\n",
            "Epoch 4/100\n",
            "34/34 [==============================] - 0s 5ms/step - loss: 11804.9219 - mae: 11804.9219\n",
            "Epoch 5/100\n",
            "34/34 [==============================] - 0s 6ms/step - loss: 10613.5889 - mae: 10613.5889\n",
            "Epoch 6/100\n",
            "34/34 [==============================] - 0s 5ms/step - loss: 9149.8555 - mae: 9149.8555\n",
            "Epoch 7/100\n",
            "34/34 [==============================] - 0s 5ms/step - loss: 7941.9102 - mae: 7941.9102\n",
            "Epoch 8/100\n",
            "34/34 [==============================] - 0s 5ms/step - loss: 7451.5244 - mae: 7451.5244\n",
            "Epoch 9/100\n",
            "34/34 [==============================] - 0s 6ms/step - loss: 7384.3550 - mae: 7384.3550\n",
            "Epoch 10/100\n",
            "34/34 [==============================] - 0s 6ms/step - loss: 7358.5498 - mae: 7358.5498\n",
            "Epoch 11/100\n",
            "34/34 [==============================] - 0s 6ms/step - loss: 7336.3076 - mae: 7336.3076\n",
            "Epoch 12/100\n",
            "34/34 [==============================] - 0s 5ms/step - loss: 7313.7017 - mae: 7313.7017\n",
            "Epoch 13/100\n",
            "34/34 [==============================] - 0s 5ms/step - loss: 7282.8193 - mae: 7282.8193\n",
            "Epoch 14/100\n",
            "34/34 [==============================] - 0s 8ms/step - loss: 7259.5518 - mae: 7259.5518\n",
            "Epoch 15/100\n",
            "34/34 [==============================] - 0s 7ms/step - loss: 7230.0493 - mae: 7230.0493\n",
            "Epoch 16/100\n",
            "34/34 [==============================] - 0s 5ms/step - loss: 7203.3594 - mae: 7203.3594\n",
            "Epoch 17/100\n",
            "34/34 [==============================] - 0s 4ms/step - loss: 7175.6362 - mae: 7175.6362\n",
            "Epoch 18/100\n",
            "34/34 [==============================] - 0s 2ms/step - loss: 7144.6670 - mae: 7144.6670\n",
            "Epoch 19/100\n",
            "34/34 [==============================] - 0s 2ms/step - loss: 7117.0942 - mae: 7117.0942\n",
            "Epoch 20/100\n",
            "34/34 [==============================] - 0s 2ms/step - loss: 7085.9536 - mae: 7085.9536\n",
            "Epoch 21/100\n",
            "34/34 [==============================] - 0s 2ms/step - loss: 7054.4453 - mae: 7054.4453\n",
            "Epoch 22/100\n",
            "34/34 [==============================] - 0s 2ms/step - loss: 7021.5220 - mae: 7021.5220\n",
            "Epoch 23/100\n",
            "34/34 [==============================] - 0s 2ms/step - loss: 6991.0508 - mae: 6991.0508\n",
            "Epoch 24/100\n",
            "34/34 [==============================] - 0s 2ms/step - loss: 6959.6133 - mae: 6959.6133\n",
            "Epoch 25/100\n",
            "34/34 [==============================] - 0s 2ms/step - loss: 6918.9526 - mae: 6918.9526\n",
            "Epoch 26/100\n",
            "34/34 [==============================] - 0s 2ms/step - loss: 6883.8330 - mae: 6883.8330\n",
            "Epoch 27/100\n",
            "34/34 [==============================] - 0s 2ms/step - loss: 6846.1836 - mae: 6846.1836\n",
            "Epoch 28/100\n",
            "34/34 [==============================] - 0s 2ms/step - loss: 6808.5840 - mae: 6808.5840\n",
            "Epoch 29/100\n",
            "34/34 [==============================] - 0s 2ms/step - loss: 6769.5806 - mae: 6769.5806\n",
            "Epoch 30/100\n",
            "34/34 [==============================] - 0s 2ms/step - loss: 6728.4873 - mae: 6728.4873\n",
            "Epoch 31/100\n",
            "34/34 [==============================] - 0s 2ms/step - loss: 6687.6841 - mae: 6687.6841\n",
            "Epoch 32/100\n",
            "34/34 [==============================] - 0s 2ms/step - loss: 6644.1025 - mae: 6644.1025\n",
            "Epoch 33/100\n",
            "34/34 [==============================] - 0s 2ms/step - loss: 6603.4604 - mae: 6603.4604\n",
            "Epoch 34/100\n",
            "34/34 [==============================] - 0s 2ms/step - loss: 6564.4277 - mae: 6564.4277\n",
            "Epoch 35/100\n",
            "34/34 [==============================] - 0s 2ms/step - loss: 6528.9316 - mae: 6528.9316\n",
            "Epoch 36/100\n",
            "34/34 [==============================] - 0s 2ms/step - loss: 6492.9292 - mae: 6492.9292\n",
            "Epoch 37/100\n",
            "34/34 [==============================] - 0s 2ms/step - loss: 6465.1719 - mae: 6465.1719\n",
            "Epoch 38/100\n",
            "34/34 [==============================] - 0s 2ms/step - loss: 6443.6724 - mae: 6443.6724\n",
            "Epoch 39/100\n",
            "34/34 [==============================] - 0s 2ms/step - loss: 6426.8608 - mae: 6426.8608\n",
            "Epoch 40/100\n",
            "34/34 [==============================] - 0s 2ms/step - loss: 6413.5229 - mae: 6413.5229\n",
            "Epoch 41/100\n",
            "34/34 [==============================] - 0s 2ms/step - loss: 6405.7012 - mae: 6405.7012\n",
            "Epoch 42/100\n",
            "34/34 [==============================] - 0s 2ms/step - loss: 6390.5762 - mae: 6390.5762\n",
            "Epoch 43/100\n",
            "34/34 [==============================] - 0s 2ms/step - loss: 6373.6450 - mae: 6373.6450\n",
            "Epoch 44/100\n",
            "34/34 [==============================] - 0s 2ms/step - loss: 6356.8223 - mae: 6356.8223\n",
            "Epoch 45/100\n",
            "34/34 [==============================] - 0s 2ms/step - loss: 6343.6738 - mae: 6343.6738\n",
            "Epoch 46/100\n",
            "34/34 [==============================] - 0s 2ms/step - loss: 6331.9121 - mae: 6331.9121\n",
            "Epoch 47/100\n",
            "34/34 [==============================] - 0s 2ms/step - loss: 6318.5415 - mae: 6318.5415\n",
            "Epoch 48/100\n",
            "34/34 [==============================] - 0s 2ms/step - loss: 6307.8511 - mae: 6307.8511\n",
            "Epoch 49/100\n",
            "34/34 [==============================] - 0s 2ms/step - loss: 6290.0093 - mae: 6290.0093\n",
            "Epoch 50/100\n",
            "34/34 [==============================] - 0s 2ms/step - loss: 6275.6416 - mae: 6275.6416\n",
            "Epoch 51/100\n",
            "34/34 [==============================] - 0s 2ms/step - loss: 6265.2114 - mae: 6265.2114\n",
            "Epoch 52/100\n",
            "34/34 [==============================] - 0s 2ms/step - loss: 6247.0605 - mae: 6247.0605\n",
            "Epoch 53/100\n",
            "34/34 [==============================] - 0s 2ms/step - loss: 6234.2700 - mae: 6234.2700\n",
            "Epoch 54/100\n",
            "34/34 [==============================] - 0s 2ms/step - loss: 6223.1890 - mae: 6223.1890\n",
            "Epoch 55/100\n",
            "34/34 [==============================] - 0s 2ms/step - loss: 6208.5195 - mae: 6208.5195\n",
            "Epoch 56/100\n",
            "34/34 [==============================] - 0s 2ms/step - loss: 6190.3643 - mae: 6190.3643\n",
            "Epoch 57/100\n",
            "34/34 [==============================] - 0s 2ms/step - loss: 6175.9375 - mae: 6175.9375\n",
            "Epoch 58/100\n",
            "34/34 [==============================] - 0s 2ms/step - loss: 6163.9585 - mae: 6163.9585\n",
            "Epoch 59/100\n",
            "34/34 [==============================] - 0s 2ms/step - loss: 6145.9858 - mae: 6145.9858\n",
            "Epoch 60/100\n",
            "34/34 [==============================] - 0s 2ms/step - loss: 6130.0923 - mae: 6130.0923\n",
            "Epoch 61/100\n",
            "34/34 [==============================] - 0s 2ms/step - loss: 6110.3486 - mae: 6110.3486\n",
            "Epoch 62/100\n",
            "34/34 [==============================] - 0s 2ms/step - loss: 6093.7466 - mae: 6093.7466\n",
            "Epoch 63/100\n",
            "34/34 [==============================] - 0s 2ms/step - loss: 6077.3477 - mae: 6077.3477\n",
            "Epoch 64/100\n",
            "34/34 [==============================] - 0s 2ms/step - loss: 6059.6089 - mae: 6059.6089\n",
            "Epoch 65/100\n",
            "34/34 [==============================] - 0s 2ms/step - loss: 6047.5239 - mae: 6047.5239\n",
            "Epoch 66/100\n",
            "34/34 [==============================] - 0s 2ms/step - loss: 6023.6382 - mae: 6023.6382\n",
            "Epoch 67/100\n",
            "34/34 [==============================] - 0s 2ms/step - loss: 6003.7095 - mae: 6003.7095\n",
            "Epoch 68/100\n",
            "34/34 [==============================] - 0s 2ms/step - loss: 5984.2183 - mae: 5984.2183\n",
            "Epoch 69/100\n",
            "34/34 [==============================] - 0s 2ms/step - loss: 5962.8525 - mae: 5962.8525\n",
            "Epoch 70/100\n",
            "34/34 [==============================] - 0s 2ms/step - loss: 5942.8276 - mae: 5942.8276\n",
            "Epoch 71/100\n",
            "34/34 [==============================] - 0s 2ms/step - loss: 5918.7871 - mae: 5918.7871\n",
            "Epoch 72/100\n",
            "34/34 [==============================] - 0s 2ms/step - loss: 5901.5601 - mae: 5901.5601\n",
            "Epoch 73/100\n",
            "34/34 [==============================] - 0s 2ms/step - loss: 5873.8218 - mae: 5873.8218\n",
            "Epoch 74/100\n",
            "34/34 [==============================] - 0s 2ms/step - loss: 5848.4839 - mae: 5848.4839\n",
            "Epoch 75/100\n",
            "34/34 [==============================] - 0s 2ms/step - loss: 5831.2324 - mae: 5831.2324\n",
            "Epoch 76/100\n",
            "34/34 [==============================] - 0s 3ms/step - loss: 5799.9282 - mae: 5799.9282\n",
            "Epoch 77/100\n",
            "34/34 [==============================] - 0s 2ms/step - loss: 5775.6172 - mae: 5775.6172\n",
            "Epoch 78/100\n",
            "34/34 [==============================] - 0s 2ms/step - loss: 5749.8110 - mae: 5749.8110\n",
            "Epoch 79/100\n",
            "34/34 [==============================] - 0s 2ms/step - loss: 5714.2368 - mae: 5714.2368\n",
            "Epoch 80/100\n",
            "34/34 [==============================] - 0s 2ms/step - loss: 5692.5303 - mae: 5692.5303\n",
            "Epoch 81/100\n",
            "34/34 [==============================] - 0s 2ms/step - loss: 5664.9727 - mae: 5664.9727\n",
            "Epoch 82/100\n",
            "34/34 [==============================] - 0s 2ms/step - loss: 5623.1255 - mae: 5623.1255\n",
            "Epoch 83/100\n",
            "34/34 [==============================] - 0s 2ms/step - loss: 5595.9893 - mae: 5595.9893\n",
            "Epoch 84/100\n",
            "34/34 [==============================] - 0s 2ms/step - loss: 5560.1343 - mae: 5560.1343\n",
            "Epoch 85/100\n",
            "34/34 [==============================] - 0s 2ms/step - loss: 5520.0537 - mae: 5520.0537\n",
            "Epoch 86/100\n",
            "34/34 [==============================] - 0s 2ms/step - loss: 5482.6401 - mae: 5482.6401\n",
            "Epoch 87/100\n",
            "34/34 [==============================] - 0s 2ms/step - loss: 5443.0015 - mae: 5443.0015\n",
            "Epoch 88/100\n",
            "34/34 [==============================] - 0s 2ms/step - loss: 5406.3828 - mae: 5406.3828\n",
            "Epoch 89/100\n",
            "34/34 [==============================] - 0s 2ms/step - loss: 5368.1836 - mae: 5368.1836\n",
            "Epoch 90/100\n",
            "34/34 [==============================] - 0s 2ms/step - loss: 5315.0996 - mae: 5315.0996\n",
            "Epoch 91/100\n",
            "34/34 [==============================] - 0s 2ms/step - loss: 5271.5747 - mae: 5271.5747\n",
            "Epoch 92/100\n",
            "34/34 [==============================] - 0s 2ms/step - loss: 5218.3125 - mae: 5218.3125\n",
            "Epoch 93/100\n",
            "34/34 [==============================] - 0s 2ms/step - loss: 5166.6655 - mae: 5166.6655\n",
            "Epoch 94/100\n",
            "34/34 [==============================] - 0s 2ms/step - loss: 5113.3516 - mae: 5113.3516\n",
            "Epoch 95/100\n",
            "34/34 [==============================] - 0s 2ms/step - loss: 5057.5288 - mae: 5057.5288\n",
            "Epoch 96/100\n",
            "34/34 [==============================] - 0s 2ms/step - loss: 4995.3252 - mae: 4995.3252\n",
            "Epoch 97/100\n",
            "34/34 [==============================] - 0s 2ms/step - loss: 4931.3301 - mae: 4931.3301\n",
            "Epoch 98/100\n",
            "34/34 [==============================] - 0s 2ms/step - loss: 4872.8970 - mae: 4872.8970\n",
            "Epoch 99/100\n",
            "34/34 [==============================] - 0s 2ms/step - loss: 4801.0254 - mae: 4801.0254\n",
            "Epoch 100/100\n",
            "34/34 [==============================] - 0s 2ms/step - loss: 4734.7324 - mae: 4734.7324\n"
          ]
        },
        {
          "output_type": "execute_result",
          "data": {
            "text/plain": [
              "<keras.callbacks.History at 0x7fa8fde71c70>"
            ]
          },
          "metadata": {},
          "execution_count": 55
        }
      ]
    },
    {
      "cell_type": "code",
      "source": [
        "# Evaluate model\n",
        "model_2.evaluate(X_val, y_val)"
      ],
      "metadata": {
        "id": "kEP5wnXYG3Qw",
        "outputId": "41a3cf74-a176-4674-b301-52e7e61bbf0f",
        "colab": {
          "base_uri": "https://localhost:8080/"
        }
      },
      "execution_count": 56,
      "outputs": [
        {
          "output_type": "stream",
          "name": "stdout",
          "text": [
            "9/9 [==============================] - 0s 2ms/step - loss: 4790.7266 - mae: 4790.7266\n"
          ]
        },
        {
          "output_type": "execute_result",
          "data": {
            "text/plain": [
              "[4790.7265625, 4790.7265625]"
            ]
          },
          "metadata": {},
          "execution_count": 56
        }
      ]
    },
    {
      "cell_type": "markdown",
      "source": [
        "### Build Another Model\n",
        "\n",
        "* Train with more `epochs`."
      ],
      "metadata": {
        "id": "1y4gHNucKNND"
      }
    },
    {
      "cell_type": "code",
      "source": [
        "tf.random.set_seed(SEED)\n",
        "\n",
        "# build model\n",
        "model_3 = tf.keras.Sequential([\n",
        "    tf.keras.layers.Dense(units=100, input_shape=[X_train.shape[-1]], name=\"input_layer\"),\n",
        "    tf.keras.layers.Dense(units=10, name=\"hidden_layer\"),\n",
        "    tf.keras.layers.Dense(units=1)\n",
        "])\n",
        "\n",
        "# Compile model\n",
        "model_3.compile(loss=tf.keras.losses.mae,\n",
        "                optimizer=tf.keras.optimizers.Adam(),\n",
        "                metrics=[\"mae\"])\n",
        "\n",
        "# Model summary\n",
        "model_3.summary()"
      ],
      "metadata": {
        "id": "4bUE1rmhI9TQ",
        "colab": {
          "base_uri": "https://localhost:8080/"
        },
        "outputId": "a4230f53-b394-44f2-ee83-7e8af088e289"
      },
      "execution_count": 64,
      "outputs": [
        {
          "output_type": "stream",
          "name": "stdout",
          "text": [
            "Model: \"sequential_14\"\n",
            "_________________________________________________________________\n",
            " Layer (type)                Output Shape              Param #   \n",
            "=================================================================\n",
            " input_layer (Dense)         (None, 100)               1200      \n",
            "                                                                 \n",
            " hidden_layer (Dense)        (None, 10)                1010      \n",
            "                                                                 \n",
            " dense_15 (Dense)            (None, 1)                 11        \n",
            "                                                                 \n",
            "=================================================================\n",
            "Total params: 2,221\n",
            "Trainable params: 2,221\n",
            "Non-trainable params: 0\n",
            "_________________________________________________________________\n"
          ]
        }
      ]
    },
    {
      "cell_type": "code",
      "execution_count": 65,
      "metadata": {
        "id": "tXguO8jGtEgz",
        "colab": {
          "base_uri": "https://localhost:8080/"
        },
        "outputId": "76b427ac-c158-46f9-deea-f6154d687449"
      },
      "outputs": [
        {
          "output_type": "stream",
          "name": "stdout",
          "text": [
            "Epoch 1/200\n",
            "34/34 [==============================] - 1s 4ms/step - loss: 13108.2715 - mae: 13108.2715\n",
            "Epoch 2/200\n",
            "34/34 [==============================] - 0s 3ms/step - loss: 12916.8125 - mae: 12916.8125\n",
            "Epoch 3/200\n",
            "34/34 [==============================] - 0s 3ms/step - loss: 12527.0654 - mae: 12527.0654\n",
            "Epoch 4/200\n",
            "34/34 [==============================] - 0s 3ms/step - loss: 11790.0518 - mae: 11790.0518\n",
            "Epoch 5/200\n",
            "34/34 [==============================] - 0s 3ms/step - loss: 10609.0752 - mae: 10609.0752\n",
            "Epoch 6/200\n",
            "34/34 [==============================] - 0s 3ms/step - loss: 9189.4316 - mae: 9189.4316\n",
            "Epoch 7/200\n",
            "34/34 [==============================] - 0s 4ms/step - loss: 8010.0933 - mae: 8010.0933\n",
            "Epoch 8/200\n",
            "34/34 [==============================] - 0s 3ms/step - loss: 7498.6118 - mae: 7498.6118\n",
            "Epoch 9/200\n",
            "34/34 [==============================] - 0s 3ms/step - loss: 7416.0449 - mae: 7416.0449\n",
            "Epoch 10/200\n",
            "34/34 [==============================] - 0s 4ms/step - loss: 7390.1309 - mae: 7390.1309\n",
            "Epoch 11/200\n",
            "34/34 [==============================] - 0s 3ms/step - loss: 7368.6162 - mae: 7368.6162\n",
            "Epoch 12/200\n",
            "34/34 [==============================] - 0s 3ms/step - loss: 7347.4155 - mae: 7347.4155\n",
            "Epoch 13/200\n",
            "34/34 [==============================] - 0s 3ms/step - loss: 7317.3735 - mae: 7317.3735\n",
            "Epoch 14/200\n",
            "34/34 [==============================] - 0s 3ms/step - loss: 7295.1694 - mae: 7295.1694\n",
            "Epoch 15/200\n",
            "34/34 [==============================] - 0s 3ms/step - loss: 7267.2251 - mae: 7267.2251\n",
            "Epoch 16/200\n",
            "34/34 [==============================] - 0s 3ms/step - loss: 7241.7725 - mae: 7241.7725\n",
            "Epoch 17/200\n",
            "34/34 [==============================] - 0s 2ms/step - loss: 7216.1777 - mae: 7216.1777\n",
            "Epoch 18/200\n",
            "34/34 [==============================] - 0s 2ms/step - loss: 7186.9946 - mae: 7186.9946\n",
            "Epoch 19/200\n",
            "34/34 [==============================] - 0s 2ms/step - loss: 7161.7261 - mae: 7161.7261\n",
            "Epoch 20/200\n",
            "34/34 [==============================] - 0s 2ms/step - loss: 7132.9014 - mae: 7132.9014\n",
            "Epoch 21/200\n",
            "34/34 [==============================] - 0s 2ms/step - loss: 7104.4204 - mae: 7104.4204\n",
            "Epoch 22/200\n",
            "34/34 [==============================] - 0s 2ms/step - loss: 7073.7314 - mae: 7073.7314\n",
            "Epoch 23/200\n",
            "34/34 [==============================] - 0s 2ms/step - loss: 7045.2578 - mae: 7045.2578\n",
            "Epoch 24/200\n",
            "34/34 [==============================] - 0s 2ms/step - loss: 7018.0396 - mae: 7018.0396\n",
            "Epoch 25/200\n",
            "34/34 [==============================] - 0s 2ms/step - loss: 6978.6895 - mae: 6978.6895\n",
            "Epoch 26/200\n",
            "34/34 [==============================] - 0s 2ms/step - loss: 6946.2778 - mae: 6946.2778\n",
            "Epoch 27/200\n",
            "34/34 [==============================] - 0s 2ms/step - loss: 6912.3271 - mae: 6912.3271\n",
            "Epoch 28/200\n",
            "34/34 [==============================] - 0s 2ms/step - loss: 6877.1060 - mae: 6877.1060\n",
            "Epoch 29/200\n",
            "34/34 [==============================] - 0s 2ms/step - loss: 6842.1538 - mae: 6842.1538\n",
            "Epoch 30/200\n",
            "34/34 [==============================] - 0s 2ms/step - loss: 6806.0942 - mae: 6806.0942\n",
            "Epoch 31/200\n",
            "34/34 [==============================] - 0s 2ms/step - loss: 6769.6157 - mae: 6769.6157\n",
            "Epoch 32/200\n",
            "34/34 [==============================] - 0s 2ms/step - loss: 6726.6533 - mae: 6726.6533\n",
            "Epoch 33/200\n",
            "34/34 [==============================] - 0s 2ms/step - loss: 6686.0381 - mae: 6686.0381\n",
            "Epoch 34/200\n",
            "34/34 [==============================] - 0s 2ms/step - loss: 6644.3887 - mae: 6644.3887\n",
            "Epoch 35/200\n",
            "34/34 [==============================] - 0s 2ms/step - loss: 6605.8462 - mae: 6605.8462\n",
            "Epoch 36/200\n",
            "34/34 [==============================] - 0s 2ms/step - loss: 6564.1128 - mae: 6564.1128\n",
            "Epoch 37/200\n",
            "34/34 [==============================] - 0s 2ms/step - loss: 6525.2397 - mae: 6525.2397\n",
            "Epoch 38/200\n",
            "34/34 [==============================] - 0s 2ms/step - loss: 6493.6699 - mae: 6493.6699\n",
            "Epoch 39/200\n",
            "34/34 [==============================] - 0s 2ms/step - loss: 6463.1016 - mae: 6463.1016\n",
            "Epoch 40/200\n",
            "34/34 [==============================] - 0s 2ms/step - loss: 6438.2715 - mae: 6438.2715\n",
            "Epoch 41/200\n",
            "34/34 [==============================] - 0s 2ms/step - loss: 6427.8857 - mae: 6427.8857\n",
            "Epoch 42/200\n",
            "34/34 [==============================] - 0s 2ms/step - loss: 6410.1611 - mae: 6410.1611\n",
            "Epoch 43/200\n",
            "34/34 [==============================] - 0s 2ms/step - loss: 6391.9731 - mae: 6391.9731\n",
            "Epoch 44/200\n",
            "34/34 [==============================] - 0s 2ms/step - loss: 6376.2378 - mae: 6376.2378\n",
            "Epoch 45/200\n",
            "34/34 [==============================] - 0s 2ms/step - loss: 6362.2056 - mae: 6362.2056\n",
            "Epoch 46/200\n",
            "34/34 [==============================] - 0s 2ms/step - loss: 6350.9111 - mae: 6350.9111\n",
            "Epoch 47/200\n",
            "34/34 [==============================] - 0s 2ms/step - loss: 6337.2803 - mae: 6337.2803\n",
            "Epoch 48/200\n",
            "34/34 [==============================] - 0s 2ms/step - loss: 6327.0161 - mae: 6327.0161\n",
            "Epoch 49/200\n",
            "34/34 [==============================] - 0s 2ms/step - loss: 6308.9092 - mae: 6308.9092\n",
            "Epoch 50/200\n",
            "34/34 [==============================] - 0s 2ms/step - loss: 6295.6558 - mae: 6295.6558\n",
            "Epoch 51/200\n",
            "34/34 [==============================] - 0s 2ms/step - loss: 6286.1143 - mae: 6286.1143\n",
            "Epoch 52/200\n",
            "34/34 [==============================] - 0s 2ms/step - loss: 6267.3267 - mae: 6267.3267\n",
            "Epoch 53/200\n",
            "34/34 [==============================] - 0s 2ms/step - loss: 6255.2109 - mae: 6255.2109\n",
            "Epoch 54/200\n",
            "34/34 [==============================] - 0s 2ms/step - loss: 6245.6665 - mae: 6245.6665\n",
            "Epoch 55/200\n",
            "34/34 [==============================] - 0s 2ms/step - loss: 6229.0864 - mae: 6229.0864\n",
            "Epoch 56/200\n",
            "34/34 [==============================] - 0s 2ms/step - loss: 6213.1211 - mae: 6213.1211\n",
            "Epoch 57/200\n",
            "34/34 [==============================] - 0s 2ms/step - loss: 6199.5547 - mae: 6199.5547\n",
            "Epoch 58/200\n",
            "34/34 [==============================] - 0s 2ms/step - loss: 6187.2217 - mae: 6187.2217\n",
            "Epoch 59/200\n",
            "34/34 [==============================] - 0s 2ms/step - loss: 6170.6562 - mae: 6170.6558\n",
            "Epoch 60/200\n",
            "34/34 [==============================] - 0s 2ms/step - loss: 6155.6753 - mae: 6155.6753\n",
            "Epoch 61/200\n",
            "34/34 [==============================] - 0s 2ms/step - loss: 6138.0029 - mae: 6138.0029\n",
            "Epoch 62/200\n",
            "34/34 [==============================] - 0s 2ms/step - loss: 6122.4395 - mae: 6122.4395\n",
            "Epoch 63/200\n",
            "34/34 [==============================] - 0s 2ms/step - loss: 6106.7949 - mae: 6106.7949\n",
            "Epoch 64/200\n",
            "34/34 [==============================] - 0s 2ms/step - loss: 6091.6206 - mae: 6091.6206\n",
            "Epoch 65/200\n",
            "34/34 [==============================] - 0s 2ms/step - loss: 6077.7158 - mae: 6077.7158\n",
            "Epoch 66/200\n",
            "34/34 [==============================] - 0s 2ms/step - loss: 6056.7539 - mae: 6056.7539\n",
            "Epoch 67/200\n",
            "34/34 [==============================] - 0s 2ms/step - loss: 6039.3975 - mae: 6039.3975\n",
            "Epoch 68/200\n",
            "34/34 [==============================] - 0s 2ms/step - loss: 6021.0278 - mae: 6021.0278\n",
            "Epoch 69/200\n",
            "34/34 [==============================] - 0s 2ms/step - loss: 6002.0762 - mae: 6002.0762\n",
            "Epoch 70/200\n",
            "34/34 [==============================] - 0s 2ms/step - loss: 5983.7900 - mae: 5983.7900\n",
            "Epoch 71/200\n",
            "34/34 [==============================] - 0s 2ms/step - loss: 5961.1455 - mae: 5961.1455\n",
            "Epoch 72/200\n",
            "34/34 [==============================] - 0s 2ms/step - loss: 5946.0239 - mae: 5946.0239\n",
            "Epoch 73/200\n",
            "34/34 [==============================] - 0s 2ms/step - loss: 5920.4336 - mae: 5920.4336\n",
            "Epoch 74/200\n",
            "34/34 [==============================] - 0s 2ms/step - loss: 5898.6616 - mae: 5898.6616\n",
            "Epoch 75/200\n",
            "34/34 [==============================] - 0s 2ms/step - loss: 5883.0190 - mae: 5883.0190\n",
            "Epoch 76/200\n",
            "34/34 [==============================] - 0s 2ms/step - loss: 5854.5356 - mae: 5854.5356\n",
            "Epoch 77/200\n",
            "34/34 [==============================] - 0s 2ms/step - loss: 5833.1313 - mae: 5833.1313\n",
            "Epoch 78/200\n",
            "34/34 [==============================] - 0s 2ms/step - loss: 5809.2637 - mae: 5809.2637\n",
            "Epoch 79/200\n",
            "34/34 [==============================] - 0s 2ms/step - loss: 5778.0957 - mae: 5778.0957\n",
            "Epoch 80/200\n",
            "34/34 [==============================] - 0s 2ms/step - loss: 5756.9263 - mae: 5756.9263\n",
            "Epoch 81/200\n",
            "34/34 [==============================] - 0s 2ms/step - loss: 5735.3423 - mae: 5735.3423\n",
            "Epoch 82/200\n",
            "34/34 [==============================] - 0s 2ms/step - loss: 5697.3013 - mae: 5697.3013\n",
            "Epoch 83/200\n",
            "34/34 [==============================] - 0s 2ms/step - loss: 5673.2910 - mae: 5673.2910\n",
            "Epoch 84/200\n",
            "34/34 [==============================] - 0s 2ms/step - loss: 5643.3643 - mae: 5643.3643\n",
            "Epoch 85/200\n",
            "34/34 [==============================] - 0s 2ms/step - loss: 5606.7310 - mae: 5606.7310\n",
            "Epoch 86/200\n",
            "34/34 [==============================] - 0s 2ms/step - loss: 5574.8013 - mae: 5574.8013\n",
            "Epoch 87/200\n",
            "34/34 [==============================] - 0s 2ms/step - loss: 5540.0391 - mae: 5540.0391\n",
            "Epoch 88/200\n",
            "34/34 [==============================] - 0s 2ms/step - loss: 5508.8970 - mae: 5508.8970\n",
            "Epoch 89/200\n",
            "34/34 [==============================] - 0s 3ms/step - loss: 5473.3877 - mae: 5473.3877\n",
            "Epoch 90/200\n",
            "34/34 [==============================] - 0s 2ms/step - loss: 5428.7275 - mae: 5428.7275\n",
            "Epoch 91/200\n",
            "34/34 [==============================] - 0s 2ms/step - loss: 5391.0020 - mae: 5391.0020\n",
            "Epoch 92/200\n",
            "34/34 [==============================] - 0s 2ms/step - loss: 5344.2041 - mae: 5344.2041\n",
            "Epoch 93/200\n",
            "34/34 [==============================] - 0s 2ms/step - loss: 5300.2671 - mae: 5300.2671\n",
            "Epoch 94/200\n",
            "34/34 [==============================] - 0s 2ms/step - loss: 5252.5815 - mae: 5252.5815\n",
            "Epoch 95/200\n",
            "34/34 [==============================] - 0s 2ms/step - loss: 5207.2729 - mae: 5207.2729\n",
            "Epoch 96/200\n",
            "34/34 [==============================] - 0s 2ms/step - loss: 5150.5962 - mae: 5150.5962\n",
            "Epoch 97/200\n",
            "34/34 [==============================] - 0s 3ms/step - loss: 5094.7891 - mae: 5094.7891\n",
            "Epoch 98/200\n",
            "34/34 [==============================] - 0s 2ms/step - loss: 5041.6133 - mae: 5041.6133\n",
            "Epoch 99/200\n",
            "34/34 [==============================] - 0s 2ms/step - loss: 4980.2427 - mae: 4980.2427\n",
            "Epoch 100/200\n",
            "34/34 [==============================] - 0s 2ms/step - loss: 4921.1357 - mae: 4921.1357\n",
            "Epoch 101/200\n",
            "34/34 [==============================] - 0s 2ms/step - loss: 4854.9561 - mae: 4854.9561\n",
            "Epoch 102/200\n",
            "34/34 [==============================] - 0s 2ms/step - loss: 4796.6392 - mae: 4796.6392\n",
            "Epoch 103/200\n",
            "34/34 [==============================] - 0s 2ms/step - loss: 4726.7661 - mae: 4726.7661\n",
            "Epoch 104/200\n",
            "34/34 [==============================] - 0s 2ms/step - loss: 4642.1440 - mae: 4642.1440\n",
            "Epoch 105/200\n",
            "34/34 [==============================] - 0s 3ms/step - loss: 4562.7563 - mae: 4562.7563\n",
            "Epoch 106/200\n",
            "34/34 [==============================] - 0s 3ms/step - loss: 4483.3809 - mae: 4483.3809\n",
            "Epoch 107/200\n",
            "34/34 [==============================] - 0s 2ms/step - loss: 4409.1040 - mae: 4409.1040\n",
            "Epoch 108/200\n",
            "34/34 [==============================] - 0s 2ms/step - loss: 4330.6304 - mae: 4330.6304\n",
            "Epoch 109/200\n",
            "34/34 [==============================] - 0s 2ms/step - loss: 4255.3608 - mae: 4255.3608\n",
            "Epoch 110/200\n",
            "34/34 [==============================] - 0s 3ms/step - loss: 4184.4883 - mae: 4184.4883\n",
            "Epoch 111/200\n",
            "34/34 [==============================] - 0s 2ms/step - loss: 4120.0400 - mae: 4120.0400\n",
            "Epoch 112/200\n",
            "34/34 [==============================] - 0s 2ms/step - loss: 4036.3809 - mae: 4036.3809\n",
            "Epoch 113/200\n",
            "34/34 [==============================] - 0s 2ms/step - loss: 3978.7695 - mae: 3978.7695\n",
            "Epoch 114/200\n",
            "34/34 [==============================] - 0s 2ms/step - loss: 3933.7644 - mae: 3933.7644\n",
            "Epoch 115/200\n",
            "34/34 [==============================] - 0s 2ms/step - loss: 3896.9058 - mae: 3896.9058\n",
            "Epoch 116/200\n",
            "34/34 [==============================] - 0s 2ms/step - loss: 3876.4644 - mae: 3876.4644\n",
            "Epoch 117/200\n",
            "34/34 [==============================] - 0s 2ms/step - loss: 3853.9131 - mae: 3853.9131\n",
            "Epoch 118/200\n",
            "34/34 [==============================] - 0s 2ms/step - loss: 3826.5264 - mae: 3826.5264\n",
            "Epoch 119/200\n",
            "34/34 [==============================] - 0s 2ms/step - loss: 3823.4109 - mae: 3823.4109\n",
            "Epoch 120/200\n",
            "34/34 [==============================] - 0s 2ms/step - loss: 3804.5586 - mae: 3804.5586\n",
            "Epoch 121/200\n",
            "34/34 [==============================] - 0s 2ms/step - loss: 3801.2581 - mae: 3801.2581\n",
            "Epoch 122/200\n",
            "34/34 [==============================] - 0s 2ms/step - loss: 3792.8892 - mae: 3792.8892\n",
            "Epoch 123/200\n",
            "34/34 [==============================] - 0s 2ms/step - loss: 3781.3137 - mae: 3781.3137\n",
            "Epoch 124/200\n",
            "34/34 [==============================] - 0s 2ms/step - loss: 3773.6616 - mae: 3773.6616\n",
            "Epoch 125/200\n",
            "34/34 [==============================] - 0s 2ms/step - loss: 3778.0249 - mae: 3778.0249\n",
            "Epoch 126/200\n",
            "34/34 [==============================] - 0s 2ms/step - loss: 3770.7002 - mae: 3770.7002\n",
            "Epoch 127/200\n",
            "34/34 [==============================] - 0s 2ms/step - loss: 3766.6641 - mae: 3766.6641\n",
            "Epoch 128/200\n",
            "34/34 [==============================] - 0s 2ms/step - loss: 3761.0913 - mae: 3761.0913\n",
            "Epoch 129/200\n",
            "34/34 [==============================] - 0s 2ms/step - loss: 3761.3511 - mae: 3761.3511\n",
            "Epoch 130/200\n",
            "34/34 [==============================] - 0s 2ms/step - loss: 3755.1819 - mae: 3755.1819\n",
            "Epoch 131/200\n",
            "34/34 [==============================] - 0s 2ms/step - loss: 3755.9148 - mae: 3755.9148\n",
            "Epoch 132/200\n",
            "34/34 [==============================] - 0s 2ms/step - loss: 3757.1047 - mae: 3757.1047\n",
            "Epoch 133/200\n",
            "34/34 [==============================] - 0s 2ms/step - loss: 3747.1206 - mae: 3747.1206\n",
            "Epoch 134/200\n",
            "34/34 [==============================] - 0s 2ms/step - loss: 3747.1187 - mae: 3747.1187\n",
            "Epoch 135/200\n",
            "34/34 [==============================] - 0s 2ms/step - loss: 3746.4021 - mae: 3746.4021\n",
            "Epoch 136/200\n",
            "34/34 [==============================] - 0s 2ms/step - loss: 3748.4138 - mae: 3748.4138\n",
            "Epoch 137/200\n",
            "34/34 [==============================] - 0s 2ms/step - loss: 3760.0657 - mae: 3760.0657\n",
            "Epoch 138/200\n",
            "34/34 [==============================] - 0s 3ms/step - loss: 3763.0100 - mae: 3763.0100\n",
            "Epoch 139/200\n",
            "34/34 [==============================] - 0s 4ms/step - loss: 3741.0071 - mae: 3741.0071\n",
            "Epoch 140/200\n",
            "34/34 [==============================] - 0s 3ms/step - loss: 3738.7764 - mae: 3738.7764\n",
            "Epoch 141/200\n",
            "34/34 [==============================] - 0s 3ms/step - loss: 3736.8682 - mae: 3736.8682\n",
            "Epoch 142/200\n",
            "34/34 [==============================] - 0s 3ms/step - loss: 3747.4595 - mae: 3747.4595\n",
            "Epoch 143/200\n",
            "34/34 [==============================] - 0s 3ms/step - loss: 3737.1133 - mae: 3737.1133\n",
            "Epoch 144/200\n",
            "34/34 [==============================] - 0s 3ms/step - loss: 3738.2515 - mae: 3738.2515\n",
            "Epoch 145/200\n",
            "34/34 [==============================] - 0s 3ms/step - loss: 3732.2690 - mae: 3732.2690\n",
            "Epoch 146/200\n",
            "34/34 [==============================] - 0s 3ms/step - loss: 3731.0740 - mae: 3731.0740\n",
            "Epoch 147/200\n",
            "34/34 [==============================] - 0s 3ms/step - loss: 3736.8501 - mae: 3736.8501\n",
            "Epoch 148/200\n",
            "34/34 [==============================] - 0s 3ms/step - loss: 3726.3828 - mae: 3726.3828\n",
            "Epoch 149/200\n",
            "34/34 [==============================] - 0s 3ms/step - loss: 3729.7991 - mae: 3729.7991\n",
            "Epoch 150/200\n",
            "34/34 [==============================] - 0s 3ms/step - loss: 3731.6536 - mae: 3731.6536\n",
            "Epoch 151/200\n",
            "34/34 [==============================] - 0s 3ms/step - loss: 3733.4275 - mae: 3733.4275\n",
            "Epoch 152/200\n",
            "34/34 [==============================] - 0s 3ms/step - loss: 3725.9844 - mae: 3725.9844\n",
            "Epoch 153/200\n",
            "34/34 [==============================] - 0s 3ms/step - loss: 3725.8071 - mae: 3725.8071\n",
            "Epoch 154/200\n",
            "34/34 [==============================] - 0s 3ms/step - loss: 3730.9038 - mae: 3730.9038\n",
            "Epoch 155/200\n",
            "34/34 [==============================] - 0s 3ms/step - loss: 3733.2688 - mae: 3733.2688\n",
            "Epoch 156/200\n",
            "34/34 [==============================] - 0s 3ms/step - loss: 3727.5779 - mae: 3727.5779\n",
            "Epoch 157/200\n",
            "34/34 [==============================] - 0s 3ms/step - loss: 3721.5195 - mae: 3721.5195\n",
            "Epoch 158/200\n",
            "34/34 [==============================] - 0s 3ms/step - loss: 3726.6416 - mae: 3726.6416\n",
            "Epoch 159/200\n",
            "34/34 [==============================] - 0s 4ms/step - loss: 3725.4993 - mae: 3725.4993\n",
            "Epoch 160/200\n",
            "34/34 [==============================] - 0s 3ms/step - loss: 3722.2727 - mae: 3722.2727\n",
            "Epoch 161/200\n",
            "34/34 [==============================] - 0s 3ms/step - loss: 3720.4026 - mae: 3720.4026\n",
            "Epoch 162/200\n",
            "34/34 [==============================] - 0s 3ms/step - loss: 3725.5913 - mae: 3725.5913\n",
            "Epoch 163/200\n",
            "34/34 [==============================] - 0s 3ms/step - loss: 3715.1440 - mae: 3715.1440\n",
            "Epoch 164/200\n",
            "34/34 [==============================] - 0s 3ms/step - loss: 3712.8591 - mae: 3712.8591\n",
            "Epoch 165/200\n",
            "34/34 [==============================] - 0s 3ms/step - loss: 3718.2695 - mae: 3718.2695\n",
            "Epoch 166/200\n",
            "34/34 [==============================] - 0s 3ms/step - loss: 3726.1946 - mae: 3726.1946\n",
            "Epoch 167/200\n",
            "34/34 [==============================] - 0s 3ms/step - loss: 3716.0837 - mae: 3716.0837\n",
            "Epoch 168/200\n",
            "34/34 [==============================] - 0s 3ms/step - loss: 3717.4502 - mae: 3717.4502\n",
            "Epoch 169/200\n",
            "34/34 [==============================] - 0s 2ms/step - loss: 3715.7490 - mae: 3715.7490\n",
            "Epoch 170/200\n",
            "34/34 [==============================] - 0s 2ms/step - loss: 3714.5452 - mae: 3714.5452\n",
            "Epoch 171/200\n",
            "34/34 [==============================] - 0s 2ms/step - loss: 3711.7439 - mae: 3711.7439\n",
            "Epoch 172/200\n",
            "34/34 [==============================] - 0s 2ms/step - loss: 3706.7964 - mae: 3706.7964\n",
            "Epoch 173/200\n",
            "34/34 [==============================] - 0s 2ms/step - loss: 3706.5037 - mae: 3706.5037\n",
            "Epoch 174/200\n",
            "34/34 [==============================] - 0s 2ms/step - loss: 3714.5735 - mae: 3714.5735\n",
            "Epoch 175/200\n",
            "34/34 [==============================] - 0s 2ms/step - loss: 3704.1997 - mae: 3704.1997\n",
            "Epoch 176/200\n",
            "34/34 [==============================] - 0s 2ms/step - loss: 3702.0728 - mae: 3702.0728\n",
            "Epoch 177/200\n",
            "34/34 [==============================] - 0s 2ms/step - loss: 3707.0823 - mae: 3707.0823\n",
            "Epoch 178/200\n",
            "34/34 [==============================] - 0s 2ms/step - loss: 3698.9976 - mae: 3698.9976\n",
            "Epoch 179/200\n",
            "34/34 [==============================] - 0s 2ms/step - loss: 3701.2146 - mae: 3701.2146\n",
            "Epoch 180/200\n",
            "34/34 [==============================] - 0s 2ms/step - loss: 3713.6260 - mae: 3713.6260\n",
            "Epoch 181/200\n",
            "34/34 [==============================] - 0s 2ms/step - loss: 3703.1621 - mae: 3703.1621\n",
            "Epoch 182/200\n",
            "34/34 [==============================] - 0s 2ms/step - loss: 3709.8274 - mae: 3709.8274\n",
            "Epoch 183/200\n",
            "34/34 [==============================] - 0s 2ms/step - loss: 3695.9849 - mae: 3695.9849\n",
            "Epoch 184/200\n",
            "34/34 [==============================] - 0s 2ms/step - loss: 3699.6765 - mae: 3699.6765\n",
            "Epoch 185/200\n",
            "34/34 [==============================] - 0s 2ms/step - loss: 3713.2104 - mae: 3713.2104\n",
            "Epoch 186/200\n",
            "34/34 [==============================] - 0s 2ms/step - loss: 3701.5891 - mae: 3701.5891\n",
            "Epoch 187/200\n",
            "34/34 [==============================] - 0s 2ms/step - loss: 3695.6240 - mae: 3695.6240\n",
            "Epoch 188/200\n",
            "34/34 [==============================] - 0s 2ms/step - loss: 3700.5354 - mae: 3700.5354\n",
            "Epoch 189/200\n",
            "34/34 [==============================] - 0s 2ms/step - loss: 3693.4219 - mae: 3693.4219\n",
            "Epoch 190/200\n",
            "34/34 [==============================] - 0s 2ms/step - loss: 3692.6641 - mae: 3692.6641\n",
            "Epoch 191/200\n",
            "34/34 [==============================] - 0s 2ms/step - loss: 3693.2920 - mae: 3693.2920\n",
            "Epoch 192/200\n",
            "34/34 [==============================] - 0s 2ms/step - loss: 3711.1370 - mae: 3711.1370\n",
            "Epoch 193/200\n",
            "34/34 [==============================] - 0s 2ms/step - loss: 3694.1353 - mae: 3694.1353\n",
            "Epoch 194/200\n",
            "34/34 [==============================] - 0s 2ms/step - loss: 3693.9189 - mae: 3693.9189\n",
            "Epoch 195/200\n",
            "34/34 [==============================] - 0s 2ms/step - loss: 3689.5081 - mae: 3689.5081\n",
            "Epoch 196/200\n",
            "34/34 [==============================] - 0s 2ms/step - loss: 3695.4153 - mae: 3695.4153\n",
            "Epoch 197/200\n",
            "34/34 [==============================] - 0s 2ms/step - loss: 3685.5525 - mae: 3685.5525\n",
            "Epoch 198/200\n",
            "34/34 [==============================] - 0s 2ms/step - loss: 3684.6829 - mae: 3684.6829\n",
            "Epoch 199/200\n",
            "34/34 [==============================] - 0s 2ms/step - loss: 3686.1580 - mae: 3686.1580\n",
            "Epoch 200/200\n",
            "34/34 [==============================] - 0s 2ms/step - loss: 3684.5869 - mae: 3684.5869\n"
          ]
        }
      ],
      "source": [
        "# Fit\n",
        "history = model_3.fit(X_train, y_train, epochs=200)"
      ]
    },
    {
      "cell_type": "code",
      "execution_count": 66,
      "metadata": {
        "id": "4PDwJKuktEgz",
        "colab": {
          "base_uri": "https://localhost:8080/"
        },
        "outputId": "7730227b-8884-455f-85ba-b39a65acd79d"
      },
      "outputs": [
        {
          "output_type": "stream",
          "name": "stdout",
          "text": [
            "9/9 [==============================] - 0s 2ms/step - loss: 3560.2207 - mae: 3560.2207\n"
          ]
        },
        {
          "output_type": "execute_result",
          "data": {
            "text/plain": [
              "[3560.220703125, 3560.220703125]"
            ]
          },
          "metadata": {},
          "execution_count": 66
        }
      ],
      "source": [
        "# Evaluate\n",
        "model_3.evaluate(X_val, y_val)"
      ]
    },
    {
      "cell_type": "code",
      "source": [
        "# Plot History (AKA Training Curve)\n",
        "history_df = pd.DataFrame(history.history)\n",
        "\n",
        "history_df.plot()\n",
        "plt.title(\"Training Curve\", size=15)\n",
        "plt.xlabel(\"Epochs\")\n",
        "plt.ylabel(\"Loss\")\n",
        "plt.show()"
      ],
      "metadata": {
        "id": "iOJ25XeyMjrI",
        "outputId": "6a44a051-3b6a-4256-d0a0-ef39905a1f3b",
        "colab": {
          "base_uri": "https://localhost:8080/",
          "height": 297
        }
      },
      "execution_count": 70,
      "outputs": [
        {
          "output_type": "display_data",
          "data": {
            "text/plain": [
              "<Figure size 432x288 with 1 Axes>"
            ],
            "image/png": "[encoded data removed]"
          },
          "metadata": {
            "needs_background": "light"
          }
        }
      ]
    },
    {
      "cell_type": "markdown",
      "source": [
        "### How long should I train the model??\n",
        "\n",
        "* It depends. TensorFlow has a component, `EarlyStopping Callback` which can be added to the model once it stops improving a certain model metric."
      ],
      "metadata": {
        "id": "juz3DIujNXH0"
      }
    },
    {
      "cell_type": "code",
      "source": [],
      "metadata": {
        "id": "pGVwYbKuMjoL"
      },
      "execution_count": null,
      "outputs": []
    },
    {
      "cell_type": "markdown",
      "source": [
        "### Normalizing And Standardizing Data\n",
        "\n",
        "* Normalizing\n",
        "* Standardization"
      ],
      "metadata": {
        "id": "jAinVF4KN3sj"
      }
    },
    {
      "cell_type": "code",
      "source": [],
      "metadata": {
        "id": "EBSARXqbN3VN"
      },
      "execution_count": null,
      "outputs": []
    },
    {
      "cell_type": "code",
      "source": [],
      "metadata": {
        "id": "SU32Gol2N3PE"
      },
      "execution_count": null,
      "outputs": []
    },
    {
      "cell_type": "code",
      "source": [],
      "metadata": {
        "id": "g_FH9GdpN3MZ"
      },
      "execution_count": null,
      "outputs": []
    },
    {
      "cell_type": "code",
      "source": [],
      "metadata": {
        "id": "7cWEJXYJN3JU"
      },
      "execution_count": null,
      "outputs": []
    },
    {
      "cell_type": "code",
      "execution_count": 45,
      "metadata": {
        "id": "hgzKYEIRtEgz"
      },
      "outputs": [],
      "source": []
    },
    {
      "cell_type": "code",
      "execution_count": 45,
      "metadata": {
        "id": "6pjwEWDPtEgz"
      },
      "outputs": [],
      "source": []
    }
  ],
  "metadata": {
    "language_info": {
      "name": "python"
    },
    "orig_nbformat": 4,
    "colab": {
      "provenance": [],
      "include_colab_link": true
    },
    "kernelspec": {
      "name": "python3",
      "display_name": "Python 3"
    },
    "gpuClass": "standard"
  },
  "nbformat": 4,
  "nbformat_minor": 0
}