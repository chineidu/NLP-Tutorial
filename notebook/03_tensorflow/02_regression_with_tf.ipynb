{
  "cells": [
    {
      "cell_type": "markdown",
      "metadata": {
        "id": "view-in-github",
        "colab_type": "text"
      },
      "source": [
        "<a href=\"https://colab.research.google.com/github/chineidu/NLP-Tutorial/blob/main/notebook/03_tensorflow/02_regression_with_tf.ipynb\" target=\"_parent\"><img src=\"https://colab.research.google.com/assets/colab-badge.svg\" alt=\"Open In Colab\"/></a>"
      ]
    },
    {
      "cell_type": "markdown",
      "metadata": {
        "id": "YBL3ZU9ptEgt"
      },
      "source": [
        "# Regression With TensorFlow"
      ]
    },
    {
      "cell_type": "code",
      "execution_count": 1,
      "metadata": {
        "id": "L8l2Qmy4tEgv"
      },
      "outputs": [],
      "source": [
        "# Standard imports\n",
        "import numpy as np\n",
        "import pandas as pd\n",
        "import matplotlib.pyplot as plt\n",
        "import seaborn as sns\n",
        "\n",
        "import tensorflow as tf\n"
      ]
    },
    {
      "cell_type": "markdown",
      "source": [
        "### Create Data\n",
        "\n",
        "* This data will be used to train the neural network"
      ],
      "metadata": {
        "id": "8IcL3zlbtEgw"
      }
    },
    {
      "cell_type": "code",
      "execution_count": 2,
      "metadata": {
        "colab": {
          "base_uri": "https://localhost:8080/",
          "height": 409
        },
        "id": "oIO693j_tEgx",
        "outputId": "f898f1b6-ba53-49f7-e112-1f025ff48b01"
      },
      "outputs": [
        {
          "output_type": "display_data",
          "data": {
            "text/plain": [
              "<Figure size 576x432 with 1 Axes>"
            ],
            "image/png": "[encoded data removed]"
          },
          "metadata": {
            "needs_background": "light"
          }
        }
      ],
      "source": [
        "X = np.array([[-12, -9, -6, -3, 0, 3, 6, 9, 12, 15]]) # Row Matrix\n",
        "y = np.array([-2, 1, 4, 7, 10, 13, 16, 19, 22, 25])\n",
        "\n",
        "\n",
        "# Visualize the data\n",
        "plt.figure(figsize=(8, 6))\n",
        "plt.scatter(X, y)\n",
        "plt.xlabel(\"X\", size=13)\n",
        "plt.ylabel(\"y\", size=13)\n",
        "plt.title(\"Scatter plot of X and y\", size=15)\n",
        "plt.show()"
      ]
    },
    {
      "cell_type": "code",
      "execution_count": 3,
      "metadata": {
        "colab": {
          "base_uri": "https://localhost:8080/"
        },
        "id": "QvqsN2k7tEgx",
        "outputId": "125d5711-8881-4ec1-fe31-d70a6b8360d5"
      },
      "outputs": [
        {
          "output_type": "execute_result",
          "data": {
            "text/plain": [
              "array([[ True,  True,  True,  True,  True,  True,  True,  True,  True,\n",
              "         True]])"
            ]
          },
          "metadata": {},
          "execution_count": 3
        }
      ],
      "source": [
        "y == X + 10"
      ]
    },
    {
      "cell_type": "code",
      "execution_count": 4,
      "metadata": {
        "colab": {
          "base_uri": "https://localhost:8080/"
        },
        "id": "k6yJtWMNtEgx",
        "outputId": "895ce1e7-4bfb-4d06-f8f9-8d36c54a2ec3"
      },
      "outputs": [
        {
          "output_type": "execute_result",
          "data": {
            "text/plain": [
              "(TensorShape([10, 1]), TensorShape([10]))"
            ]
          },
          "metadata": {},
          "execution_count": 4
        }
      ],
      "source": [
        "# Convert the NumPy arrays to Tensors\n",
        "# Cast and reshape X\n",
        "X = tf.cast(tf.constant(X), dtype=tf.float16)\n",
        "X = tf.reshape(X, shape=(-1, 1))\n",
        "y = tf.cast(tf.constant(y), dtype=tf.float16)\n",
        "\n",
        "X.shape, y.shape"
      ]
    },
    {
      "cell_type": "markdown",
      "source": [
        "### Steps In Modelling With TensorFlow\n",
        "\n",
        "1. **Create a model**: define the `input`, `hidden` and `output` layers of the deep learning model.\n",
        "2. **Compile the model**: define the `loss function` (i.e the function that tells our model how wrong it is), the `optimizer` (it tells our model how to improve the patterns its learning) and the `evaluation metrics` (what we can use to interpret the performance of our model).\n",
        "3. **Fit the model**: the model `learns` the `patterns` between the input and the output"
      ],
      "metadata": {
        "id": "ot-0cVu_tEgx"
      }
    },
    {
      "cell_type": "markdown",
      "source": [
        "#### Create a baseline model\n",
        "\n",
        "\n",
        "### Some Key Terms\n",
        "\n",
        "* **Loss**: How wrong the model predictions are (you want to minimize this)\n",
        "* **Optimizer**: It tells the model how it should update it's parameters to improve its predictions.\n",
        "* **Metrics**: Human interpretable values for how well the model is performing.\n",
        "* **Epocs**: This represents the number of times the model will go thru all the training examples.\n",
        "* **Evaluation** (on unseen data): This tells us how reliable the our model predictions are on unseen data."
      ],
      "metadata": {
        "id": "X7ViYJ23tEgx"
      }
    },
    {
      "cell_type": "code",
      "execution_count": 5,
      "metadata": {
        "colab": {
          "base_uri": "https://localhost:8080/"
        },
        "id": "ZoF3b9VOtEgx",
        "outputId": "dbe07b78-e14f-4564-abc8-eba462ad6316"
      },
      "outputs": [
        {
          "output_type": "stream",
          "name": "stdout",
          "text": [
            "Epoch 1/5\n",
            "1/1 [==============================] - 0s 327ms/step - loss: 10.8300 - mae: 10.8300\n",
            "Epoch 2/5\n",
            "1/1 [==============================] - 0s 8ms/step - loss: 10.7975 - mae: 10.7975\n",
            "Epoch 3/5\n",
            "1/1 [==============================] - 0s 8ms/step - loss: 10.7650 - mae: 10.7650\n",
            "Epoch 4/5\n",
            "1/1 [==============================] - 0s 16ms/step - loss: 10.7325 - mae: 10.7325\n",
            "Epoch 5/5\n",
            "1/1 [==============================] - 0s 8ms/step - loss: 10.7000 - mae: 10.7000\n"
          ]
        },
        {
          "output_type": "execute_result",
          "data": {
            "text/plain": [
              "<keras.callbacks.History at 0x7f3e640d16d0>"
            ]
          },
          "metadata": {},
          "execution_count": 5
        }
      ],
      "source": [
        "# Set seed for reproducibility\n",
        "SEED = 123\n",
        "tf.random.set_seed(SEED)\n",
        "\n",
        "# 1. Create a model using the Sequential API\n",
        "model = tf.keras.Sequential([\n",
        "    tf.keras.layers.Dense(1, activation=None) # The model has a single neuron\n",
        "\n",
        "])\n",
        "\n",
        "# 2. Compile the model\n",
        "model.compile(loss=tf.keras.losses.mae,  # MAE: Mean Absolute Error\n",
        "              optimizer=tf.keras.optimizers.SGD(), # OR 'sgd'\n",
        "              metrics = [\"mae\"] # OR tf.keras.losses.mae\n",
        "              )\n",
        "\n",
        "# 3. Fit the model\n",
        "model.fit(X, y, epochs=5)"
      ]
    },
    {
      "cell_type": "code",
      "source": [
        "X, y"
      ],
      "metadata": {
        "colab": {
          "base_uri": "https://localhost:8080/"
        },
        "id": "RkoBt_J4fbgl",
        "outputId": "54ec0b8a-e0d5-4b95-bf3a-49bc4c6c9130"
      },
      "execution_count": 6,
      "outputs": [
        {
          "output_type": "execute_result",
          "data": {
            "text/plain": [
              "(<tf.Tensor: shape=(10, 1), dtype=float16, numpy=\n",
              " array([[-12.],\n",
              "        [ -9.],\n",
              "        [ -6.],\n",
              "        [ -3.],\n",
              "        [  0.],\n",
              "        [  3.],\n",
              "        [  6.],\n",
              "        [  9.],\n",
              "        [ 12.],\n",
              "        [ 15.]], dtype=float16)>,\n",
              " <tf.Tensor: shape=(10,), dtype=float16, numpy=array([-2.,  1.,  4.,  7., 10., 13., 16., 19., 22., 25.], dtype=float16)>)"
            ]
          },
          "metadata": {},
          "execution_count": 6
        }
      ]
    },
    {
      "cell_type": "code",
      "execution_count": 7,
      "metadata": {
        "colab": {
          "base_uri": "https://localhost:8080/"
        },
        "id": "8iReHHMOtEgx",
        "outputId": "784a35ae-b1ae-4091-9625-f54c9b504d1c"
      },
      "outputs": [
        {
          "output_type": "stream",
          "name": "stdout",
          "text": [
            "1/1 [==============================] - 0s 78ms/step\n"
          ]
        },
        {
          "output_type": "execute_result",
          "data": {
            "text/plain": [
              "array([[9.439685]], dtype=float32)"
            ]
          },
          "metadata": {},
          "execution_count": 7
        }
      ],
      "source": [
        "y_pred = model.predict([18])\n",
        "y_pred"
      ]
    },
    {
      "cell_type": "code",
      "execution_count": 8,
      "metadata": {
        "colab": {
          "base_uri": "https://localhost:8080/"
        },
        "id": "SLU9x65QtEgy",
        "outputId": "686c0756-3a79-4664-8b8b-c947b5ae6bdb"
      },
      "outputs": [
        {
          "output_type": "execute_result",
          "data": {
            "text/plain": [
              "array([[20.439686]], dtype=float32)"
            ]
          },
          "metadata": {},
          "execution_count": 8
        }
      ],
      "source": [
        "# Since the mae is ~11 on average, let's add 11 to the predicted value\n",
        "y_pred + 11"
      ]
    },
    {
      "cell_type": "markdown",
      "source": [
        "### Improve The Model\n",
        "\n",
        "> We can improve the model by altering the steps taken to create the model.\n",
        "\n",
        "1. **Create model**: We might:\n",
        "  * Add more layers\n",
        "  * increase the number of hidden units(neurons)\n",
        "  * change the activation function\n",
        "\n",
        "2. **Compile model**: We might:\n",
        "  * change the optimization function\n",
        "  * change the learning rate\n",
        "\n",
        "3. **Fit the model**: We might:\n",
        "  * increase the number of epochs\n",
        "  * increase the training data"
      ],
      "metadata": {
        "id": "DuPU_6-5tEgy"
      }
    },
    {
      "cell_type": "code",
      "execution_count": 9,
      "metadata": {
        "colab": {
          "base_uri": "https://localhost:8080/"
        },
        "id": "EllZHBuDtEgy",
        "outputId": "ac3e38db-9326-43fe-b585-f21be40b4c55"
      },
      "outputs": [
        {
          "output_type": "stream",
          "name": "stdout",
          "text": [
            "Epoch 1/100\n",
            "1/1 [==============================] - 1s 743ms/step - loss: 9.5507 - mae: 9.5507\n",
            "Epoch 2/100\n",
            "1/1 [==============================] - 0s 30ms/step - loss: 9.5182 - mae: 9.5182\n",
            "Epoch 3/100\n",
            "1/1 [==============================] - 0s 16ms/step - loss: 9.4857 - mae: 9.4857\n",
            "Epoch 4/100\n",
            "1/1 [==============================] - 0s 17ms/step - loss: 9.4532 - mae: 9.4532\n",
            "Epoch 5/100\n",
            "1/1 [==============================] - 0s 14ms/step - loss: 9.4207 - mae: 9.4207\n",
            "Epoch 6/100\n",
            "1/1 [==============================] - 0s 23ms/step - loss: 9.3882 - mae: 9.3882\n",
            "Epoch 7/100\n",
            "1/1 [==============================] - 0s 10ms/step - loss: 9.3557 - mae: 9.3557\n",
            "Epoch 8/100\n",
            "1/1 [==============================] - 0s 14ms/step - loss: 9.3232 - mae: 9.3232\n",
            "Epoch 9/100\n",
            "1/1 [==============================] - 0s 14ms/step - loss: 9.2907 - mae: 9.2907\n",
            "Epoch 10/100\n",
            "1/1 [==============================] - 0s 14ms/step - loss: 9.2582 - mae: 9.2582\n",
            "Epoch 11/100\n",
            "1/1 [==============================] - 0s 22ms/step - loss: 9.2257 - mae: 9.2257\n",
            "Epoch 12/100\n",
            "1/1 [==============================] - 0s 12ms/step - loss: 9.1932 - mae: 9.1932\n",
            "Epoch 13/100\n",
            "1/1 [==============================] - 0s 13ms/step - loss: 9.1607 - mae: 9.1607\n",
            "Epoch 14/100\n",
            "1/1 [==============================] - 0s 13ms/step - loss: 9.1282 - mae: 9.1282\n",
            "Epoch 15/100\n",
            "1/1 [==============================] - 0s 12ms/step - loss: 9.0957 - mae: 9.0957\n",
            "Epoch 16/100\n",
            "1/1 [==============================] - 0s 8ms/step - loss: 9.0632 - mae: 9.0632\n",
            "Epoch 17/100\n",
            "1/1 [==============================] - 0s 13ms/step - loss: 9.0307 - mae: 9.0307\n",
            "Epoch 18/100\n",
            "1/1 [==============================] - 0s 24ms/step - loss: 8.9982 - mae: 8.9982\n",
            "Epoch 19/100\n",
            "1/1 [==============================] - 0s 18ms/step - loss: 8.9657 - mae: 8.9657\n",
            "Epoch 20/100\n",
            "1/1 [==============================] - 0s 14ms/step - loss: 8.9332 - mae: 8.9332\n",
            "Epoch 21/100\n",
            "1/1 [==============================] - 0s 24ms/step - loss: 8.9007 - mae: 8.9007\n",
            "Epoch 22/100\n",
            "1/1 [==============================] - 0s 13ms/step - loss: 8.8682 - mae: 8.8682\n",
            "Epoch 23/100\n",
            "1/1 [==============================] - 0s 14ms/step - loss: 8.8357 - mae: 8.8357\n",
            "Epoch 24/100\n",
            "1/1 [==============================] - 0s 19ms/step - loss: 8.8032 - mae: 8.8032\n",
            "Epoch 25/100\n",
            "1/1 [==============================] - 0s 11ms/step - loss: 8.7973 - mae: 8.7973\n",
            "Epoch 26/100\n",
            "1/1 [==============================] - 0s 20ms/step - loss: 8.7852 - mae: 8.7852\n",
            "Epoch 27/100\n",
            "1/1 [==============================] - 0s 15ms/step - loss: 8.7829 - mae: 8.7829\n",
            "Epoch 28/100\n",
            "1/1 [==============================] - 0s 19ms/step - loss: 8.7672 - mae: 8.7672\n",
            "Epoch 29/100\n",
            "1/1 [==============================] - 0s 13ms/step - loss: 8.7685 - mae: 8.7685\n",
            "Epoch 30/100\n",
            "1/1 [==============================] - 0s 17ms/step - loss: 8.7492 - mae: 8.7492\n",
            "Epoch 31/100\n",
            "1/1 [==============================] - 0s 17ms/step - loss: 8.7541 - mae: 8.7541\n",
            "Epoch 32/100\n",
            "1/1 [==============================] - 0s 9ms/step - loss: 8.7312 - mae: 8.7312\n",
            "Epoch 33/100\n",
            "1/1 [==============================] - 0s 9ms/step - loss: 8.7397 - mae: 8.7397\n",
            "Epoch 34/100\n",
            "1/1 [==============================] - 0s 15ms/step - loss: 8.7132 - mae: 8.7132\n",
            "Epoch 35/100\n",
            "1/1 [==============================] - 0s 16ms/step - loss: 8.7253 - mae: 8.7253\n",
            "Epoch 36/100\n",
            "1/1 [==============================] - 0s 9ms/step - loss: 8.6964 - mae: 8.6964\n",
            "Epoch 37/100\n",
            "1/1 [==============================] - 0s 9ms/step - loss: 8.7097 - mae: 8.7097\n",
            "Epoch 38/100\n",
            "1/1 [==============================] - 0s 16ms/step - loss: 8.6820 - mae: 8.6820\n",
            "Epoch 39/100\n",
            "1/1 [==============================] - 0s 24ms/step - loss: 8.6917 - mae: 8.6917\n",
            "Epoch 40/100\n",
            "1/1 [==============================] - 0s 16ms/step - loss: 8.6676 - mae: 8.6676\n",
            "Epoch 41/100\n",
            "1/1 [==============================] - 0s 15ms/step - loss: 8.6737 - mae: 8.6737\n",
            "Epoch 42/100\n",
            "1/1 [==============================] - 0s 13ms/step - loss: 8.6532 - mae: 8.6532\n",
            "Epoch 43/100\n",
            "1/1 [==============================] - 0s 15ms/step - loss: 8.6557 - mae: 8.6557\n",
            "Epoch 44/100\n",
            "1/1 [==============================] - 0s 16ms/step - loss: 8.6388 - mae: 8.6388\n",
            "Epoch 45/100\n",
            "1/1 [==============================] - 0s 12ms/step - loss: 8.6377 - mae: 8.6377\n",
            "Epoch 46/100\n",
            "1/1 [==============================] - 0s 24ms/step - loss: 8.6244 - mae: 8.6244\n",
            "Epoch 47/100\n",
            "1/1 [==============================] - 0s 18ms/step - loss: 8.6197 - mae: 8.6197\n",
            "Epoch 48/100\n",
            "1/1 [==============================] - 0s 10ms/step - loss: 8.6100 - mae: 8.6100\n",
            "Epoch 49/100\n",
            "1/1 [==============================] - 0s 24ms/step - loss: 8.6017 - mae: 8.6017\n",
            "Epoch 50/100\n",
            "1/1 [==============================] - 0s 23ms/step - loss: 8.5956 - mae: 8.5956\n",
            "Epoch 51/100\n",
            "1/1 [==============================] - 0s 15ms/step - loss: 8.5837 - mae: 8.5837\n",
            "Epoch 52/100\n",
            "1/1 [==============================] - 0s 22ms/step - loss: 8.5812 - mae: 8.5812\n",
            "Epoch 53/100\n",
            "1/1 [==============================] - 0s 12ms/step - loss: 8.5657 - mae: 8.5657\n",
            "Epoch 54/100\n",
            "1/1 [==============================] - 0s 15ms/step - loss: 8.5668 - mae: 8.5668\n",
            "Epoch 55/100\n",
            "1/1 [==============================] - 0s 20ms/step - loss: 8.5477 - mae: 8.5477\n",
            "Epoch 56/100\n",
            "1/1 [==============================] - 0s 20ms/step - loss: 8.5524 - mae: 8.5524\n",
            "Epoch 57/100\n",
            "1/1 [==============================] - 0s 22ms/step - loss: 8.5297 - mae: 8.5297\n",
            "Epoch 58/100\n",
            "1/1 [==============================] - 0s 27ms/step - loss: 8.5380 - mae: 8.5380\n",
            "Epoch 59/100\n",
            "1/1 [==============================] - 0s 12ms/step - loss: 8.5117 - mae: 8.5117\n",
            "Epoch 60/100\n",
            "1/1 [==============================] - 0s 10ms/step - loss: 8.5236 - mae: 8.5236\n",
            "Epoch 61/100\n",
            "1/1 [==============================] - 0s 19ms/step - loss: 8.4947 - mae: 8.4947\n",
            "Epoch 62/100\n",
            "1/1 [==============================] - 0s 9ms/step - loss: 8.5082 - mae: 8.5082\n",
            "Epoch 63/100\n",
            "1/1 [==============================] - 0s 13ms/step - loss: 8.4803 - mae: 8.4803\n",
            "Epoch 64/100\n",
            "1/1 [==============================] - 0s 16ms/step - loss: 8.4902 - mae: 8.4902\n",
            "Epoch 65/100\n",
            "1/1 [==============================] - 0s 12ms/step - loss: 8.4659 - mae: 8.4659\n",
            "Epoch 66/100\n",
            "1/1 [==============================] - 0s 16ms/step - loss: 8.4722 - mae: 8.4722\n",
            "Epoch 67/100\n",
            "1/1 [==============================] - 0s 17ms/step - loss: 8.4515 - mae: 8.4515\n",
            "Epoch 68/100\n",
            "1/1 [==============================] - 0s 7ms/step - loss: 8.4542 - mae: 8.4542\n",
            "Epoch 69/100\n",
            "1/1 [==============================] - 0s 8ms/step - loss: 8.4371 - mae: 8.4371\n",
            "Epoch 70/100\n",
            "1/1 [==============================] - 0s 18ms/step - loss: 8.4362 - mae: 8.4362\n",
            "Epoch 71/100\n",
            "1/1 [==============================] - 0s 8ms/step - loss: 8.4227 - mae: 8.4227\n",
            "Epoch 72/100\n",
            "1/1 [==============================] - 0s 11ms/step - loss: 8.4182 - mae: 8.4182\n",
            "Epoch 73/100\n",
            "1/1 [==============================] - 0s 13ms/step - loss: 8.4083 - mae: 8.4083\n",
            "Epoch 74/100\n",
            "1/1 [==============================] - 0s 11ms/step - loss: 8.4002 - mae: 8.4002\n",
            "Epoch 75/100\n",
            "1/1 [==============================] - 0s 35ms/step - loss: 8.3939 - mae: 8.3939\n",
            "Epoch 76/100\n",
            "1/1 [==============================] - 0s 13ms/step - loss: 8.3822 - mae: 8.3822\n",
            "Epoch 77/100\n",
            "1/1 [==============================] - 0s 14ms/step - loss: 8.3795 - mae: 8.3795\n",
            "Epoch 78/100\n",
            "1/1 [==============================] - 0s 19ms/step - loss: 8.3642 - mae: 8.3642\n",
            "Epoch 79/100\n",
            "1/1 [==============================] - 0s 26ms/step - loss: 8.3651 - mae: 8.3651\n",
            "Epoch 80/100\n",
            "1/1 [==============================] - 0s 22ms/step - loss: 8.3462 - mae: 8.3462\n",
            "Epoch 81/100\n",
            "1/1 [==============================] - 0s 21ms/step - loss: 8.3507 - mae: 8.3507\n",
            "Epoch 82/100\n",
            "1/1 [==============================] - 0s 9ms/step - loss: 8.3282 - mae: 8.3282\n",
            "Epoch 83/100\n",
            "1/1 [==============================] - 0s 15ms/step - loss: 8.3363 - mae: 8.3363\n",
            "Epoch 84/100\n",
            "1/1 [==============================] - 0s 24ms/step - loss: 8.3102 - mae: 8.3102\n",
            "Epoch 85/100\n",
            "1/1 [==============================] - 0s 12ms/step - loss: 8.3219 - mae: 8.3219\n",
            "Epoch 86/100\n",
            "1/1 [==============================] - 0s 15ms/step - loss: 8.2930 - mae: 8.2930\n",
            "Epoch 87/100\n",
            "1/1 [==============================] - 0s 13ms/step - loss: 8.3067 - mae: 8.3067\n",
            "Epoch 88/100\n",
            "1/1 [==============================] - 0s 18ms/step - loss: 8.2786 - mae: 8.2786\n",
            "Epoch 89/100\n",
            "1/1 [==============================] - 0s 10ms/step - loss: 8.2887 - mae: 8.2887\n",
            "Epoch 90/100\n",
            "1/1 [==============================] - 0s 13ms/step - loss: 8.2642 - mae: 8.2642\n",
            "Epoch 91/100\n",
            "1/1 [==============================] - 0s 19ms/step - loss: 8.2707 - mae: 8.2707\n",
            "Epoch 92/100\n",
            "1/1 [==============================] - 0s 11ms/step - loss: 8.2498 - mae: 8.2498\n",
            "Epoch 93/100\n",
            "1/1 [==============================] - 0s 15ms/step - loss: 8.2527 - mae: 8.2527\n",
            "Epoch 94/100\n",
            "1/1 [==============================] - 0s 11ms/step - loss: 8.2354 - mae: 8.2354\n",
            "Epoch 95/100\n",
            "1/1 [==============================] - 0s 10ms/step - loss: 8.2347 - mae: 8.2347\n",
            "Epoch 96/100\n",
            "1/1 [==============================] - 0s 22ms/step - loss: 8.2210 - mae: 8.2210\n",
            "Epoch 97/100\n",
            "1/1 [==============================] - 0s 18ms/step - loss: 8.2167 - mae: 8.2167\n",
            "Epoch 98/100\n",
            "1/1 [==============================] - 0s 11ms/step - loss: 8.2066 - mae: 8.2066\n",
            "Epoch 99/100\n",
            "1/1 [==============================] - 0s 28ms/step - loss: 8.1987 - mae: 8.1987\n",
            "Epoch 100/100\n",
            "1/1 [==============================] - 0s 13ms/step - loss: 8.1922 - mae: 8.1922\n"
          ]
        },
        {
          "output_type": "execute_result",
          "data": {
            "text/plain": [
              "<keras.callbacks.History at 0x7f3e5efe3220>"
            ]
          },
          "metadata": {},
          "execution_count": 9
        }
      ],
      "source": [
        "# Rebuild the model by increasing the number of epochs\n",
        "tf.random.set_seed(SEED)\n",
        "\n",
        "# Create the model\n",
        "model = tf.keras.Sequential([\n",
        "    tf.keras.layers.Dense(1, activation=None)\n",
        "])\n",
        "\n",
        "# Compile the model\n",
        "model.compile(loss=tf.keras.losses.mae,\n",
        "              optimizer=tf.keras.optimizers.SGD(),\n",
        "              metrics=[\"mae\"])\n",
        "\n",
        "# Fit the model (increase the epochs)\n",
        "model.fit(X, y, epochs=100)"
      ]
    },
    {
      "cell_type": "code",
      "execution_count": 10,
      "metadata": {
        "colab": {
          "base_uri": "https://localhost:8080/"
        },
        "id": "ZdwM1LE0tEgy",
        "outputId": "71be3f10-3dc6-4e84-87e1-d0a436ce7ff8"
      },
      "outputs": [
        {
          "output_type": "stream",
          "name": "stdout",
          "text": [
            "1/1 [==============================] - 0s 94ms/step\n"
          ]
        },
        {
          "output_type": "execute_result",
          "data": {
            "text/plain": [
              "array([[29.712105]], dtype=float32)"
            ]
          },
          "metadata": {},
          "execution_count": 10
        }
      ],
      "source": [
        "# Make predictions\n",
        "y_pred = model.predict([18])\n",
        "y_pred"
      ]
    },
    {
      "cell_type": "markdown",
      "source": [
        "#### Tweak The Model\n",
        "\n",
        "* Experiment by changing the `hyperparameters`.\n",
        "* Add a new layer."
      ],
      "metadata": {
        "id": "j0odgU52tEgy"
      }
    },
    {
      "cell_type": "code",
      "execution_count": 11,
      "metadata": {
        "colab": {
          "base_uri": "https://localhost:8080/"
        },
        "id": "tQM1AE9StEgy",
        "outputId": "129b2a49-1755-401b-bd54-e1d1182db862"
      },
      "outputs": [
        {
          "output_type": "stream",
          "name": "stdout",
          "text": [
            "Epoch 1/100\n",
            "1/1 [==============================] - 1s 651ms/step - loss: 11.4500 - mae: 11.4500\n",
            "Epoch 2/100\n",
            "1/1 [==============================] - 0s 14ms/step - loss: 10.9662 - mae: 10.9662\n",
            "Epoch 3/100\n",
            "1/1 [==============================] - 0s 8ms/step - loss: 10.4763 - mae: 10.4763\n",
            "Epoch 4/100\n",
            "1/1 [==============================] - 0s 8ms/step - loss: 9.9769 - mae: 9.9769\n",
            "Epoch 5/100\n",
            "1/1 [==============================] - 0s 8ms/step - loss: 9.4924 - mae: 9.4924\n",
            "Epoch 6/100\n",
            "1/1 [==============================] - 0s 8ms/step - loss: 8.9848 - mae: 8.9848\n",
            "Epoch 7/100\n",
            "1/1 [==============================] - 0s 15ms/step - loss: 8.4821 - mae: 8.4821\n",
            "Epoch 8/100\n",
            "1/1 [==============================] - 0s 8ms/step - loss: 7.9344 - mae: 7.9344\n",
            "Epoch 9/100\n",
            "1/1 [==============================] - 0s 19ms/step - loss: 7.3586 - mae: 7.3586\n",
            "Epoch 10/100\n",
            "1/1 [==============================] - 0s 8ms/step - loss: 6.7649 - mae: 6.7649\n",
            "Epoch 11/100\n",
            "1/1 [==============================] - 0s 8ms/step - loss: 6.1123 - mae: 6.1123\n",
            "Epoch 12/100\n",
            "1/1 [==============================] - 0s 11ms/step - loss: 5.4244 - mae: 5.4244\n",
            "Epoch 13/100\n",
            "1/1 [==============================] - 0s 9ms/step - loss: 4.6927 - mae: 4.6927\n",
            "Epoch 14/100\n",
            "1/1 [==============================] - 0s 13ms/step - loss: 4.1392 - mae: 4.1392\n",
            "Epoch 15/100\n",
            "1/1 [==============================] - 0s 21ms/step - loss: 4.0459 - mae: 4.0459\n",
            "Epoch 16/100\n",
            "1/1 [==============================] - 0s 14ms/step - loss: 4.0538 - mae: 4.0538\n",
            "Epoch 17/100\n",
            "1/1 [==============================] - 0s 8ms/step - loss: 4.0098 - mae: 4.0098\n",
            "Epoch 18/100\n",
            "1/1 [==============================] - 0s 8ms/step - loss: 4.0529 - mae: 4.0529\n",
            "Epoch 19/100\n",
            "1/1 [==============================] - 0s 12ms/step - loss: 4.0335 - mae: 4.0335\n",
            "Epoch 20/100\n",
            "1/1 [==============================] - 0s 11ms/step - loss: 3.9953 - mae: 3.9953\n",
            "Epoch 21/100\n",
            "1/1 [==============================] - 0s 15ms/step - loss: 4.0552 - mae: 4.0552\n",
            "Epoch 22/100\n",
            "1/1 [==============================] - 0s 9ms/step - loss: 4.0133 - mae: 4.0133\n",
            "Epoch 23/100\n",
            "1/1 [==============================] - 0s 16ms/step - loss: 3.9998 - mae: 3.9998\n",
            "Epoch 24/100\n",
            "1/1 [==============================] - 0s 8ms/step - loss: 4.0371 - mae: 4.0371\n",
            "Epoch 25/100\n",
            "1/1 [==============================] - 0s 9ms/step - loss: 3.9933 - mae: 3.9933\n",
            "Epoch 26/100\n",
            "1/1 [==============================] - 0s 7ms/step - loss: 4.0066 - mae: 4.0066\n",
            "Epoch 27/100\n",
            "1/1 [==============================] - 0s 8ms/step - loss: 4.0171 - mae: 4.0171\n",
            "Epoch 28/100\n",
            "1/1 [==============================] - 0s 7ms/step - loss: 3.9734 - mae: 3.9734\n",
            "Epoch 29/100\n",
            "1/1 [==============================] - 0s 7ms/step - loss: 4.0132 - mae: 4.0132\n",
            "Epoch 30/100\n",
            "1/1 [==============================] - 0s 8ms/step - loss: 3.9972 - mae: 3.9972\n",
            "Epoch 31/100\n",
            "1/1 [==============================] - 0s 8ms/step - loss: 3.9640 - mae: 3.9640\n",
            "Epoch 32/100\n",
            "1/1 [==============================] - 0s 8ms/step - loss: 4.0102 - mae: 4.0102\n",
            "Epoch 33/100\n",
            "1/1 [==============================] - 0s 8ms/step - loss: 3.9774 - mae: 3.9774\n",
            "Epoch 34/100\n",
            "1/1 [==============================] - 0s 8ms/step - loss: 3.9669 - mae: 3.9669\n",
            "Epoch 35/100\n",
            "1/1 [==============================] - 0s 14ms/step - loss: 3.9939 - mae: 3.9939\n",
            "Epoch 36/100\n",
            "1/1 [==============================] - 0s 12ms/step - loss: 3.9578 - mae: 3.9578\n",
            "Epoch 37/100\n",
            "1/1 [==============================] - 0s 11ms/step - loss: 3.9695 - mae: 3.9695\n",
            "Epoch 38/100\n",
            "1/1 [==============================] - 0s 14ms/step - loss: 3.9779 - mae: 3.9779\n",
            "Epoch 39/100\n",
            "1/1 [==============================] - 0s 16ms/step - loss: 3.9384 - mae: 3.9384\n",
            "Epoch 40/100\n",
            "1/1 [==============================] - 0s 14ms/step - loss: 3.9719 - mae: 3.9719\n",
            "Epoch 41/100\n",
            "1/1 [==============================] - 0s 13ms/step - loss: 3.9620 - mae: 3.9620\n",
            "Epoch 42/100\n",
            "1/1 [==============================] - 0s 9ms/step - loss: 3.9301 - mae: 3.9301\n",
            "Epoch 43/100\n",
            "1/1 [==============================] - 0s 9ms/step - loss: 3.9669 - mae: 3.9669\n",
            "Epoch 44/100\n",
            "1/1 [==============================] - 0s 8ms/step - loss: 3.9429 - mae: 3.9429\n",
            "Epoch 45/100\n",
            "1/1 [==============================] - 0s 8ms/step - loss: 3.9322 - mae: 3.9322\n",
            "Epoch 46/100\n",
            "1/1 [==============================] - 0s 9ms/step - loss: 3.9512 - mae: 3.9512\n",
            "Epoch 47/100\n",
            "1/1 [==============================] - 0s 9ms/step - loss: 3.9237 - mae: 3.9237\n",
            "Epoch 48/100\n",
            "1/1 [==============================] - 0s 12ms/step - loss: 3.9342 - mae: 3.9342\n",
            "Epoch 49/100\n",
            "1/1 [==============================] - 0s 9ms/step - loss: 3.9356 - mae: 3.9356\n",
            "Epoch 50/100\n",
            "1/1 [==============================] - 0s 7ms/step - loss: 3.9047 - mae: 3.9047\n",
            "Epoch 51/100\n",
            "1/1 [==============================] - 0s 11ms/step - loss: 3.9359 - mae: 3.9359\n",
            "Epoch 52/100\n",
            "1/1 [==============================] - 0s 13ms/step - loss: 3.9202 - mae: 3.9202\n",
            "Epoch 53/100\n",
            "1/1 [==============================] - 0s 21ms/step - loss: 3.8934 - mae: 3.8934\n",
            "Epoch 54/100\n",
            "1/1 [==============================] - 0s 11ms/step - loss: 3.9303 - mae: 3.9303\n",
            "Epoch 55/100\n",
            "1/1 [==============================] - 0s 11ms/step - loss: 3.9049 - mae: 3.9049\n",
            "Epoch 56/100\n",
            "1/1 [==============================] - 0s 14ms/step - loss: 3.8949 - mae: 3.8949\n",
            "Epoch 57/100\n",
            "1/1 [==============================] - 0s 11ms/step - loss: 3.9113 - mae: 3.9113\n",
            "Epoch 58/100\n",
            "1/1 [==============================] - 0s 21ms/step - loss: 3.8899 - mae: 3.8899\n",
            "Epoch 59/100\n",
            "1/1 [==============================] - 0s 30ms/step - loss: 3.8961 - mae: 3.8961\n",
            "Epoch 60/100\n",
            "1/1 [==============================] - 0s 13ms/step - loss: 3.8950 - mae: 3.8950\n",
            "Epoch 61/100\n",
            "1/1 [==============================] - 0s 14ms/step - loss: 3.8723 - mae: 3.8723\n",
            "Epoch 62/100\n",
            "1/1 [==============================] - 0s 12ms/step - loss: 3.8970 - mae: 3.8970\n",
            "Epoch 63/100\n",
            "1/1 [==============================] - 0s 12ms/step - loss: 3.8801 - mae: 3.8801\n",
            "Epoch 64/100\n",
            "1/1 [==============================] - 0s 14ms/step - loss: 3.8540 - mae: 3.8540\n",
            "Epoch 65/100\n",
            "1/1 [==============================] - 0s 14ms/step - loss: 3.8982 - mae: 3.8982\n",
            "Epoch 66/100\n",
            "1/1 [==============================] - 0s 12ms/step - loss: 3.8652 - mae: 3.8652\n",
            "Epoch 67/100\n",
            "1/1 [==============================] - 0s 15ms/step - loss: 3.8549 - mae: 3.8549\n",
            "Epoch 68/100\n",
            "1/1 [==============================] - 0s 10ms/step - loss: 3.8794 - mae: 3.8794\n",
            "Epoch 69/100\n",
            "1/1 [==============================] - 0s 13ms/step - loss: 3.8505 - mae: 3.8505\n",
            "Epoch 70/100\n",
            "1/1 [==============================] - 0s 22ms/step - loss: 3.8554 - mae: 3.8554\n",
            "Epoch 71/100\n",
            "1/1 [==============================] - 0s 13ms/step - loss: 3.8610 - mae: 3.8610\n",
            "Epoch 72/100\n",
            "1/1 [==============================] - 0s 18ms/step - loss: 3.8354 - mae: 3.8354\n",
            "Epoch 73/100\n",
            "1/1 [==============================] - 0s 29ms/step - loss: 3.8557 - mae: 3.8557\n",
            "Epoch 74/100\n",
            "1/1 [==============================] - 0s 18ms/step - loss: 3.8427 - mae: 3.8427\n",
            "Epoch 75/100\n",
            "1/1 [==============================] - 0s 17ms/step - loss: 3.8202 - mae: 3.8202\n",
            "Epoch 76/100\n",
            "1/1 [==============================] - 0s 10ms/step - loss: 3.8558 - mae: 3.8558\n",
            "Epoch 77/100\n",
            "1/1 [==============================] - 0s 14ms/step - loss: 3.8246 - mae: 3.8246\n",
            "Epoch 78/100\n",
            "1/1 [==============================] - 0s 14ms/step - loss: 3.8114 - mae: 3.8114\n",
            "Epoch 79/100\n",
            "1/1 [==============================] - 0s 13ms/step - loss: 3.8488 - mae: 3.8488\n",
            "Epoch 80/100\n",
            "1/1 [==============================] - 0s 19ms/step - loss: 3.8073 - mae: 3.8073\n",
            "Epoch 81/100\n",
            "1/1 [==============================] - 0s 18ms/step - loss: 3.8088 - mae: 3.8088\n",
            "Epoch 82/100\n",
            "1/1 [==============================] - 0s 13ms/step - loss: 3.8325 - mae: 3.8325\n",
            "Epoch 83/100\n",
            "1/1 [==============================] - 0s 15ms/step - loss: 3.7909 - mae: 3.7909\n",
            "Epoch 84/100\n",
            "1/1 [==============================] - 0s 15ms/step - loss: 3.8081 - mae: 3.8081\n",
            "Epoch 85/100\n",
            "1/1 [==============================] - 0s 19ms/step - loss: 3.8138 - mae: 3.8138\n",
            "Epoch 86/100\n",
            "1/1 [==============================] - 0s 17ms/step - loss: 3.7769 - mae: 3.7769\n",
            "Epoch 87/100\n",
            "1/1 [==============================] - 0s 16ms/step - loss: 3.8072 - mae: 3.8072\n",
            "Epoch 88/100\n",
            "1/1 [==============================] - 0s 17ms/step - loss: 3.7953 - mae: 3.7953\n",
            "Epoch 89/100\n",
            "1/1 [==============================] - 0s 13ms/step - loss: 3.7631 - mae: 3.7631\n",
            "Epoch 90/100\n",
            "1/1 [==============================] - 0s 13ms/step - loss: 3.8060 - mae: 3.8060\n",
            "Epoch 91/100\n",
            "1/1 [==============================] - 0s 10ms/step - loss: 3.7768 - mae: 3.7768\n",
            "Epoch 92/100\n",
            "1/1 [==============================] - 0s 14ms/step - loss: 3.7554 - mae: 3.7554\n",
            "Epoch 93/100\n",
            "1/1 [==============================] - 0s 18ms/step - loss: 3.8027 - mae: 3.8027\n",
            "Epoch 94/100\n",
            "1/1 [==============================] - 0s 17ms/step - loss: 3.7583 - mae: 3.7583\n",
            "Epoch 95/100\n",
            "1/1 [==============================] - 0s 14ms/step - loss: 3.7590 - mae: 3.7590\n",
            "Epoch 96/100\n",
            "1/1 [==============================] - 0s 13ms/step - loss: 3.7868 - mae: 3.7868\n",
            "Epoch 97/100\n",
            "1/1 [==============================] - 0s 10ms/step - loss: 3.7411 - mae: 3.7411\n",
            "Epoch 98/100\n",
            "1/1 [==============================] - 0s 11ms/step - loss: 3.7566 - mae: 3.7566\n",
            "Epoch 99/100\n",
            "1/1 [==============================] - 0s 6ms/step - loss: 3.7662 - mae: 3.7662\n",
            "Epoch 100/100\n",
            "1/1 [==============================] - 0s 8ms/step - loss: 3.7276 - mae: 3.7276\n"
          ]
        },
        {
          "output_type": "execute_result",
          "data": {
            "text/plain": [
              "<keras.callbacks.History at 0x7f3e5e735910>"
            ]
          },
          "metadata": {},
          "execution_count": 11
        }
      ],
      "source": [
        "# Build model\n",
        "tf.random.set_seed(SEED)\n",
        "\n",
        "model = tf.keras.Sequential([\n",
        "    tf.keras.layers.Dense(units=50, activation=\"ReLU\"),\n",
        "    tf.keras.layers.Dense(units=1, activation=None)\n",
        "])\n",
        "\n",
        "# Compile model\n",
        "model.compile(loss=tf.keras.losses.mae,\n",
        "              optimizer=tf.keras.optimizers.SGD(learning_rate=0.01),\n",
        "              metrics=[\"mae\"])\n",
        "\n",
        "# Fit model\n",
        "model.fit(X, y, epochs=100)"
      ]
    },
    {
      "cell_type": "code",
      "execution_count": 12,
      "metadata": {
        "colab": {
          "base_uri": "https://localhost:8080/"
        },
        "id": "RXv-dT5wtEgy",
        "outputId": "16032674-a18b-48eb-801e-de8e1abcddd1"
      },
      "outputs": [
        {
          "output_type": "stream",
          "name": "stdout",
          "text": [
            "1/1 [==============================] - 0s 130ms/step\n"
          ]
        },
        {
          "output_type": "execute_result",
          "data": {
            "text/plain": [
              "array([[32.09102]], dtype=float32)"
            ]
          },
          "metadata": {},
          "execution_count": 12
        }
      ],
      "source": [
        "y_pred = model.predict([18.0])\n",
        "y_pred"
      ]
    },
    {
      "cell_type": "markdown",
      "source": [
        "### Try Using A Different Optimizer\n",
        "\n",
        "* e.g. Adam"
      ],
      "metadata": {
        "id": "cezRNMlytEgy"
      }
    },
    {
      "cell_type": "code",
      "execution_count": 13,
      "metadata": {
        "colab": {
          "base_uri": "https://localhost:8080/"
        },
        "id": "kHoZNAJVtEgy",
        "outputId": "d392d7ad-00ba-421d-cb0c-7de94427976c"
      },
      "outputs": [
        {
          "output_type": "stream",
          "name": "stdout",
          "text": [
            "Epoch 1/100\n",
            "1/1 [==============================] - 1s 892ms/step - loss: 12.0504 - mae: 12.0504\n",
            "Epoch 2/100\n",
            "1/1 [==============================] - 0s 15ms/step - loss: 11.2842 - mae: 11.2842\n",
            "Epoch 3/100\n",
            "1/1 [==============================] - 0s 8ms/step - loss: 10.8334 - mae: 10.8334\n",
            "Epoch 4/100\n",
            "1/1 [==============================] - 0s 25ms/step - loss: 10.4909 - mae: 10.4909\n",
            "Epoch 5/100\n",
            "1/1 [==============================] - 0s 10ms/step - loss: 10.1554 - mae: 10.1554\n",
            "Epoch 6/100\n",
            "1/1 [==============================] - 0s 9ms/step - loss: 9.8209 - mae: 9.8209\n",
            "Epoch 7/100\n",
            "1/1 [==============================] - 0s 10ms/step - loss: 9.4839 - mae: 9.4839\n",
            "Epoch 8/100\n",
            "1/1 [==============================] - 0s 16ms/step - loss: 9.1418 - mae: 9.1418\n",
            "Epoch 9/100\n",
            "1/1 [==============================] - 0s 11ms/step - loss: 8.7926 - mae: 8.7926\n",
            "Epoch 10/100\n",
            "1/1 [==============================] - 0s 9ms/step - loss: 8.4345 - mae: 8.4345\n",
            "Epoch 11/100\n",
            "1/1 [==============================] - 0s 9ms/step - loss: 8.0657 - mae: 8.0657\n",
            "Epoch 12/100\n",
            "1/1 [==============================] - 0s 11ms/step - loss: 8.2190 - mae: 8.2190\n",
            "Epoch 13/100\n",
            "1/1 [==============================] - 0s 9ms/step - loss: 8.4545 - mae: 8.4545\n",
            "Epoch 14/100\n",
            "1/1 [==============================] - 0s 9ms/step - loss: 8.4575 - mae: 8.4575\n",
            "Epoch 15/100\n",
            "1/1 [==============================] - 0s 9ms/step - loss: 8.2949 - mae: 8.2949\n",
            "Epoch 16/100\n",
            "1/1 [==============================] - 0s 11ms/step - loss: 8.0109 - mae: 8.0109\n",
            "Epoch 17/100\n",
            "1/1 [==============================] - 0s 10ms/step - loss: 7.6563 - mae: 7.6563\n",
            "Epoch 18/100\n",
            "1/1 [==============================] - 0s 10ms/step - loss: 7.4554 - mae: 7.4554\n",
            "Epoch 19/100\n",
            "1/1 [==============================] - 0s 15ms/step - loss: 7.3353 - mae: 7.3353\n",
            "Epoch 20/100\n",
            "1/1 [==============================] - 0s 25ms/step - loss: 7.3265 - mae: 7.3265\n",
            "Epoch 21/100\n",
            "1/1 [==============================] - 0s 28ms/step - loss: 7.2783 - mae: 7.2783\n",
            "Epoch 22/100\n",
            "1/1 [==============================] - 0s 12ms/step - loss: 7.1945 - mae: 7.1945\n",
            "Epoch 23/100\n",
            "1/1 [==============================] - 0s 21ms/step - loss: 7.0776 - mae: 7.0776\n",
            "Epoch 24/100\n",
            "1/1 [==============================] - 0s 14ms/step - loss: 6.9298 - mae: 6.9298\n",
            "Epoch 25/100\n",
            "1/1 [==============================] - 0s 29ms/step - loss: 6.7525 - mae: 6.7525\n",
            "Epoch 26/100\n",
            "1/1 [==============================] - 0s 27ms/step - loss: 6.5466 - mae: 6.5466\n",
            "Epoch 27/100\n",
            "1/1 [==============================] - 0s 52ms/step - loss: 6.3256 - mae: 6.3256\n",
            "Epoch 28/100\n",
            "1/1 [==============================] - 0s 16ms/step - loss: 6.2308 - mae: 6.2308\n",
            "Epoch 29/100\n",
            "1/1 [==============================] - 0s 17ms/step - loss: 6.1130 - mae: 6.1130\n",
            "Epoch 30/100\n",
            "1/1 [==============================] - 0s 14ms/step - loss: 5.9730 - mae: 5.9730\n",
            "Epoch 31/100\n",
            "1/1 [==============================] - 0s 12ms/step - loss: 5.8118 - mae: 5.8118\n",
            "Epoch 32/100\n",
            "1/1 [==============================] - 0s 10ms/step - loss: 5.6301 - mae: 5.6301\n",
            "Epoch 33/100\n",
            "1/1 [==============================] - 0s 9ms/step - loss: 5.4283 - mae: 5.4283\n",
            "Epoch 34/100\n",
            "1/1 [==============================] - 0s 11ms/step - loss: 5.2069 - mae: 5.2069\n",
            "Epoch 35/100\n",
            "1/1 [==============================] - 0s 10ms/step - loss: 5.0488 - mae: 5.0488\n",
            "Epoch 36/100\n",
            "1/1 [==============================] - 0s 8ms/step - loss: 4.8849 - mae: 4.8849\n",
            "Epoch 37/100\n",
            "1/1 [==============================] - 0s 13ms/step - loss: 4.6726 - mae: 4.6726\n",
            "Epoch 38/100\n",
            "1/1 [==============================] - 0s 10ms/step - loss: 4.4138 - mae: 4.4138\n",
            "Epoch 39/100\n",
            "1/1 [==============================] - 0s 11ms/step - loss: 4.1721 - mae: 4.1721\n",
            "Epoch 40/100\n",
            "1/1 [==============================] - 0s 10ms/step - loss: 3.9642 - mae: 3.9642\n",
            "Epoch 41/100\n",
            "1/1 [==============================] - 0s 19ms/step - loss: 3.7256 - mae: 3.7256\n",
            "Epoch 42/100\n",
            "1/1 [==============================] - 0s 11ms/step - loss: 3.4566 - mae: 3.4566\n",
            "Epoch 43/100\n",
            "1/1 [==============================] - 0s 11ms/step - loss: 3.1575 - mae: 3.1575\n",
            "Epoch 44/100\n",
            "1/1 [==============================] - 0s 10ms/step - loss: 2.8785 - mae: 2.8785\n",
            "Epoch 45/100\n",
            "1/1 [==============================] - 0s 10ms/step - loss: 2.6024 - mae: 2.6024\n",
            "Epoch 46/100\n",
            "1/1 [==============================] - 0s 10ms/step - loss: 2.2659 - mae: 2.2659\n",
            "Epoch 47/100\n",
            "1/1 [==============================] - 0s 10ms/step - loss: 1.9659 - mae: 1.9659\n",
            "Epoch 48/100\n",
            "1/1 [==============================] - 0s 10ms/step - loss: 1.7103 - mae: 1.7103\n",
            "Epoch 49/100\n",
            "1/1 [==============================] - 0s 10ms/step - loss: 1.2692 - mae: 1.2692\n",
            "Epoch 50/100\n",
            "1/1 [==============================] - 0s 10ms/step - loss: 0.9598 - mae: 0.9598\n",
            "Epoch 51/100\n",
            "1/1 [==============================] - 0s 10ms/step - loss: 0.6243 - mae: 0.6243\n",
            "Epoch 52/100\n",
            "1/1 [==============================] - 0s 10ms/step - loss: 0.3204 - mae: 0.3204\n",
            "Epoch 53/100\n",
            "1/1 [==============================] - 0s 10ms/step - loss: 0.4273 - mae: 0.4273\n",
            "Epoch 54/100\n",
            "1/1 [==============================] - 0s 11ms/step - loss: 0.6531 - mae: 0.6531\n",
            "Epoch 55/100\n",
            "1/1 [==============================] - 0s 10ms/step - loss: 0.8399 - mae: 0.8399\n",
            "Epoch 56/100\n",
            "1/1 [==============================] - 0s 11ms/step - loss: 0.9190 - mae: 0.9190\n",
            "Epoch 57/100\n",
            "1/1 [==============================] - 0s 23ms/step - loss: 1.0685 - mae: 1.0685\n",
            "Epoch 58/100\n",
            "1/1 [==============================] - 0s 9ms/step - loss: 1.0346 - mae: 1.0346\n",
            "Epoch 59/100\n",
            "1/1 [==============================] - 0s 11ms/step - loss: 1.0509 - mae: 1.0509\n",
            "Epoch 60/100\n",
            "1/1 [==============================] - 0s 13ms/step - loss: 0.9890 - mae: 0.9890\n",
            "Epoch 61/100\n",
            "1/1 [==============================] - 0s 12ms/step - loss: 0.8380 - mae: 0.8380\n",
            "Epoch 62/100\n",
            "1/1 [==============================] - 0s 12ms/step - loss: 0.6978 - mae: 0.6978\n",
            "Epoch 63/100\n",
            "1/1 [==============================] - 0s 16ms/step - loss: 0.4928 - mae: 0.4928\n",
            "Epoch 64/100\n",
            "1/1 [==============================] - 0s 13ms/step - loss: 0.3400 - mae: 0.3400\n",
            "Epoch 65/100\n",
            "1/1 [==============================] - 0s 17ms/step - loss: 0.4278 - mae: 0.4278\n",
            "Epoch 66/100\n",
            "1/1 [==============================] - 0s 11ms/step - loss: 0.1484 - mae: 0.1484\n",
            "Epoch 67/100\n",
            "1/1 [==============================] - 0s 13ms/step - loss: 0.3378 - mae: 0.3378\n",
            "Epoch 68/100\n",
            "1/1 [==============================] - 0s 11ms/step - loss: 0.4265 - mae: 0.4265\n",
            "Epoch 69/100\n",
            "1/1 [==============================] - 0s 11ms/step - loss: 0.4268 - mae: 0.4268\n",
            "Epoch 70/100\n",
            "1/1 [==============================] - 0s 15ms/step - loss: 0.3484 - mae: 0.3484\n",
            "Epoch 71/100\n",
            "1/1 [==============================] - 0s 23ms/step - loss: 0.4165 - mae: 0.4165\n",
            "Epoch 72/100\n",
            "1/1 [==============================] - 0s 25ms/step - loss: 0.1952 - mae: 0.1952\n",
            "Epoch 73/100\n",
            "1/1 [==============================] - 0s 17ms/step - loss: 0.3736 - mae: 0.3736\n",
            "Epoch 74/100\n",
            "1/1 [==============================] - 0s 20ms/step - loss: 0.2536 - mae: 0.2536\n",
            "Epoch 75/100\n",
            "1/1 [==============================] - 0s 16ms/step - loss: 0.3642 - mae: 0.3642\n",
            "Epoch 76/100\n",
            "1/1 [==============================] - 0s 25ms/step - loss: 0.4115 - mae: 0.4115\n",
            "Epoch 77/100\n",
            "1/1 [==============================] - 0s 21ms/step - loss: 0.2148 - mae: 0.2148\n",
            "Epoch 78/100\n",
            "1/1 [==============================] - 0s 20ms/step - loss: 0.5432 - mae: 0.5432\n",
            "Epoch 79/100\n",
            "1/1 [==============================] - 0s 13ms/step - loss: 0.5039 - mae: 0.5039\n",
            "Epoch 80/100\n",
            "1/1 [==============================] - 0s 10ms/step - loss: 0.1861 - mae: 0.1861\n",
            "Epoch 81/100\n",
            "1/1 [==============================] - 0s 12ms/step - loss: 0.3407 - mae: 0.3407\n",
            "Epoch 82/100\n",
            "1/1 [==============================] - 0s 14ms/step - loss: 0.2123 - mae: 0.2123\n",
            "Epoch 83/100\n",
            "1/1 [==============================] - 0s 13ms/step - loss: 0.3242 - mae: 0.3242\n",
            "Epoch 84/100\n",
            "1/1 [==============================] - 0s 12ms/step - loss: 0.3805 - mae: 0.3805\n",
            "Epoch 85/100\n",
            "1/1 [==============================] - 0s 13ms/step - loss: 0.1363 - mae: 0.1363\n",
            "Epoch 86/100\n",
            "1/1 [==============================] - 0s 13ms/step - loss: 0.4114 - mae: 0.4114\n",
            "Epoch 87/100\n",
            "1/1 [==============================] - 0s 11ms/step - loss: 0.3843 - mae: 0.3843\n",
            "Epoch 88/100\n",
            "1/1 [==============================] - 0s 11ms/step - loss: 0.1194 - mae: 0.1194\n",
            "Epoch 89/100\n",
            "1/1 [==============================] - 0s 12ms/step - loss: 0.3192 - mae: 0.3192\n",
            "Epoch 90/100\n",
            "1/1 [==============================] - 0s 21ms/step - loss: 0.1783 - mae: 0.1783\n",
            "Epoch 91/100\n",
            "1/1 [==============================] - 0s 14ms/step - loss: 0.3256 - mae: 0.3256\n",
            "Epoch 92/100\n",
            "1/1 [==============================] - 0s 18ms/step - loss: 0.3990 - mae: 0.3990\n",
            "Epoch 93/100\n",
            "1/1 [==============================] - 0s 24ms/step - loss: 0.1549 - mae: 0.1549\n",
            "Epoch 94/100\n",
            "1/1 [==============================] - 0s 9ms/step - loss: 0.2928 - mae: 0.2928\n",
            "Epoch 95/100\n",
            "1/1 [==============================] - 0s 11ms/step - loss: 0.2519 - mae: 0.2519\n",
            "Epoch 96/100\n",
            "1/1 [==============================] - 0s 16ms/step - loss: 0.1584 - mae: 0.1584\n",
            "Epoch 97/100\n",
            "1/1 [==============================] - 0s 9ms/step - loss: 0.1682 - mae: 0.1682\n",
            "Epoch 98/100\n",
            "1/1 [==============================] - 0s 8ms/step - loss: 0.1671 - mae: 0.1671\n",
            "Epoch 99/100\n",
            "1/1 [==============================] - 0s 11ms/step - loss: 0.1219 - mae: 0.1219\n",
            "Epoch 100/100\n",
            "1/1 [==============================] - 0s 13ms/step - loss: 0.2660 - mae: 0.2660\n"
          ]
        },
        {
          "output_type": "execute_result",
          "data": {
            "text/plain": [
              "<keras.callbacks.History at 0x7f3e5e108190>"
            ]
          },
          "metadata": {},
          "execution_count": 13
        }
      ],
      "source": [
        "# Build model\n",
        "tf.random.set_seed(SEED)\n",
        "\n",
        "model = tf.keras.Sequential([\n",
        "    tf.keras.layers.Dense(units=50, activation=None),\n",
        "    tf.keras.layers.Dense(units=1),\n",
        "])\n",
        "# Compile\n",
        "model.compile(loss=tf.keras.losses.mae,\n",
        "              optimizer=tf.keras.optimizers.Adam(learning_rate=0.01),\n",
        "              metrics=[\"mae\"])\n",
        "\n",
        "# Fit\n",
        "model.fit(X, y, epochs=100)"
      ]
    },
    {
      "cell_type": "code",
      "execution_count": 14,
      "metadata": {
        "colab": {
          "base_uri": "https://localhost:8080/"
        },
        "id": "IvYv_XshtEgy",
        "outputId": "23323bfa-e9bc-4d3d-85b3-d9c5076654dd"
      },
      "outputs": [
        {
          "output_type": "stream",
          "name": "stdout",
          "text": [
            "1/1 [==============================] - 0s 164ms/step\n"
          ]
        },
        {
          "output_type": "execute_result",
          "data": {
            "text/plain": [
              "array([[28.59477]], dtype=float32)"
            ]
          },
          "metadata": {},
          "execution_count": 14
        }
      ],
      "source": [
        "# Make predictions\n",
        "y_pred = model.predict([18.0])\n",
        "y_pred"
      ]
    },
    {
      "cell_type": "markdown",
      "source": [
        "### Evaluate The Model Performance\n",
        "\n",
        "* It's a good idea to `visualize`.\n",
        "* We can visualize the following:\n",
        "\n",
        "  1. Data.\n",
        "  2. Model.\n",
        "  3. Model training.\n",
        "  4. The model predictions."
      ],
      "metadata": {
        "id": "uyx5ZRWxtEgy"
      }
    },
    {
      "cell_type": "code",
      "source": [
        "# Create a bigger data\n",
        "X = tf.cast(tf.range(-100, 100, 4), dtype=tf.float16)\n",
        "y = X + 10\n",
        "\n",
        "\n",
        "# Turn it into a matrix\n",
        "X = tf.expand_dims(X, axis=-1)\n",
        "\n",
        "\n",
        "tf.size(X).numpy()"
      ],
      "metadata": {
        "colab": {
          "base_uri": "https://localhost:8080/"
        },
        "id": "bua5r1dryGf_",
        "outputId": "37ea0abf-a27d-4002-89c2-35c3d11c751c"
      },
      "execution_count": 15,
      "outputs": [
        {
          "output_type": "execute_result",
          "data": {
            "text/plain": [
              "50"
            ]
          },
          "metadata": {},
          "execution_count": 15
        }
      ]
    },
    {
      "cell_type": "code",
      "source": [
        "# Visualize the data\n",
        "plt.figure(figsize=(8, 6))\n",
        "\n",
        "plt.scatter(X, y)\n",
        "plt.xlabel(\"X\", size=13)\n",
        "plt.ylabel(\"y\", size=13)\n",
        "plt.title(\"Scatter Plot of X and Y\", size=15)\n",
        "\n",
        "plt.show()"
      ],
      "metadata": {
        "colab": {
          "base_uri": "https://localhost:8080/",
          "height": 409
        },
        "id": "-pzoCSsv1nGK",
        "outputId": "0f5010b2-02c4-4714-8dfd-12d34b49ffdf"
      },
      "execution_count": 16,
      "outputs": [
        {
          "output_type": "display_data",
          "data": {
            "text/plain": [
              "<Figure size 576x432 with 1 Axes>"
            ],
            "image/png": "[encoded data removed]"
          },
          "metadata": {
            "needs_background": "light"
          }
        }
      ]
    },
    {
      "cell_type": "code",
      "source": [
        "0.8 * X.shape[0]"
      ],
      "metadata": {
        "colab": {
          "base_uri": "https://localhost:8080/"
        },
        "id": "kglyYrzB4lxr",
        "outputId": "ccf7104d-3dbb-4789-df00-1aadee4e29e4"
      },
      "execution_count": 17,
      "outputs": [
        {
          "output_type": "execute_result",
          "data": {
            "text/plain": [
              "40.0"
            ]
          },
          "metadata": {},
          "execution_count": 17
        }
      ]
    },
    {
      "cell_type": "code",
      "source": [
        "# Split the data\n",
        "X_train, X_val = X[:40], X[40:]\n",
        "y_train, y_val = y[:40], y[40:]\n",
        "\n",
        "X_train.shape, X_val.shape"
      ],
      "metadata": {
        "colab": {
          "base_uri": "https://localhost:8080/"
        },
        "id": "xQTE-tdB4ZgL",
        "outputId": "c2ae3aeb-c772-4c0b-8660-c89643fd32c2"
      },
      "execution_count": 18,
      "outputs": [
        {
          "output_type": "execute_result",
          "data": {
            "text/plain": [
              "(TensorShape([40, 1]), TensorShape([10, 1]))"
            ]
          },
          "metadata": {},
          "execution_count": 18
        }
      ]
    },
    {
      "cell_type": "code",
      "source": [
        "# Visualize the data\n",
        "plt.figure(figsize=(8, 6))\n",
        "\n",
        "plt.scatter(X_train, y_train, color=\"red\", label=\"Training data\")\n",
        "plt.scatter(X_val, y_val, color=\"blue\", label=\"Validation data\")\n",
        "plt.xlabel(\"X\", size=13)\n",
        "plt.ylabel(\"y\", size=13)\n",
        "plt.title(\"Scatter Plot of X and Y\", size=15)\n",
        "plt.legend()\n",
        "\n",
        "plt.show()"
      ],
      "metadata": {
        "colab": {
          "base_uri": "https://localhost:8080/",
          "height": 409
        },
        "id": "qQe2DYcy6BQ0",
        "outputId": "fd7a0a6c-3b23-4dd7-bc36-bcc6e1a1d64f"
      },
      "execution_count": 19,
      "outputs": [
        {
          "output_type": "display_data",
          "data": {
            "text/plain": [
              "<Figure size 576x432 with 1 Axes>"
            ],
            "image/png": "[encoded data removed]"
          },
          "metadata": {
            "needs_background": "light"
          }
        }
      ]
    },
    {
      "cell_type": "markdown",
      "source": [
        "### Visualize The Data Split"
      ],
      "metadata": {
        "id": "cbCeorKj58C9"
      }
    },
    {
      "cell_type": "code",
      "source": [
        "# from sklearn.model_selection import train_test_split\n",
        "\n",
        "\n",
        "\n",
        "# RANDOM_STATE, TEST_SIZE = 123, 0.2\n",
        "\n",
        "# X_train, X_val, y_train, y_val = train_test_split(X, y, test_size=TEST_SIZE, random_state=RANDOM_STATE)\n",
        "# X_train.shape, X_val.shape"
      ],
      "metadata": {
        "id": "7W1G_gP90BxJ"
      },
      "execution_count": 20,
      "outputs": []
    },
    {
      "cell_type": "code",
      "source": [
        "# Build model (with input shape)\n",
        "tf.random.set_seed(SEED)\n",
        "\n",
        "model_2 = tf.keras.Sequential([\n",
        "    tf.keras.layers.Dense(units=10, activation=None, input_shape=[1], name=\"input_layer\"),\n",
        "    tf.keras.layers.Dense(units=1, name=\"output_layer\"),\n",
        "], name=\"neural_net_1\")\n",
        "\n",
        "# Compile \n",
        "model_2.compile(loss=tf.keras.losses.mae,\n",
        "              optimizer=tf.keras.optimizers.SGD(learning_rate=0.01),\n",
        "              metrics=[\"mae\"])\n",
        "\n"
      ],
      "metadata": {
        "id": "0MgCCzGkyGWh"
      },
      "execution_count": 21,
      "outputs": []
    },
    {
      "cell_type": "code",
      "source": [
        "# Model Summary\n",
        "model_2.summary()"
      ],
      "metadata": {
        "colab": {
          "base_uri": "https://localhost:8080/"
        },
        "id": "uXCVuoDQDPG-",
        "outputId": "e6f30517-97fe-4c84-c243-948021a711fa"
      },
      "execution_count": 22,
      "outputs": [
        {
          "output_type": "stream",
          "name": "stdout",
          "text": [
            "Model: \"neural_net_1\"\n",
            "_________________________________________________________________\n",
            " Layer (type)                Output Shape              Param #   \n",
            "=================================================================\n",
            " input_layer (Dense)         (None, 10)                20        \n",
            "                                                                 \n",
            " output_layer (Dense)        (None, 1)                 11        \n",
            "                                                                 \n",
            "=================================================================\n",
            "Total params: 31\n",
            "Trainable params: 31\n",
            "Non-trainable params: 0\n",
            "_________________________________________________________________\n"
          ]
        }
      ]
    },
    {
      "cell_type": "markdown",
      "source": [
        "### Some Key Terms\n",
        "* **Total params**: total number of parameters the model needs to learn.\n",
        "* **Trainable params**: these are the parameters (patterns) that the model can update as it trains.\n",
        "* **Non-trainable params**: these parameters are not updated during training. this is typical when you use already learned parameters from other models during training (i.e transfer learning)"
      ],
      "metadata": {
        "id": "fICF6wX2Dmxb"
      }
    },
    {
      "cell_type": "code",
      "source": [
        "# Fit \n",
        "model_2.fit(X_train, y_train, epochs=100)"
      ],
      "metadata": {
        "colab": {
          "base_uri": "https://localhost:8080/"
        },
        "id": "R7rGqq7XFhuq",
        "outputId": "0b173fb1-6cf5-4c92-8951-59f46b029b18"
      },
      "execution_count": 23,
      "outputs": [
        {
          "output_type": "stream",
          "name": "stdout",
          "text": [
            "Epoch 1/100\n",
            "2/2 [==============================] - 1s 13ms/step - loss: 45.8414 - mae: 45.8414\n",
            "Epoch 2/100\n",
            "2/2 [==============================] - 0s 10ms/step - loss: 28.5929 - mae: 28.5929\n",
            "Epoch 3/100\n",
            "2/2 [==============================] - 0s 8ms/step - loss: 32.4410 - mae: 32.4410\n",
            "Epoch 4/100\n",
            "2/2 [==============================] - 0s 19ms/step - loss: 21.8502 - mae: 21.8502\n",
            "Epoch 5/100\n",
            "2/2 [==============================] - 0s 8ms/step - loss: 22.0995 - mae: 22.0995\n",
            "Epoch 6/100\n",
            "2/2 [==============================] - 0s 9ms/step - loss: 15.7541 - mae: 15.7541\n",
            "Epoch 7/100\n",
            "2/2 [==============================] - 0s 8ms/step - loss: 21.5709 - mae: 21.5709\n",
            "Epoch 8/100\n",
            "2/2 [==============================] - 0s 10ms/step - loss: 19.1525 - mae: 19.1525\n",
            "Epoch 9/100\n",
            "2/2 [==============================] - 0s 8ms/step - loss: 13.3652 - mae: 13.3652\n",
            "Epoch 10/100\n",
            "2/2 [==============================] - 0s 8ms/step - loss: 17.7376 - mae: 17.7376\n",
            "Epoch 11/100\n",
            "2/2 [==============================] - 0s 12ms/step - loss: 15.4645 - mae: 15.4645\n",
            "Epoch 12/100\n",
            "2/2 [==============================] - 0s 8ms/step - loss: 17.7400 - mae: 17.7400\n",
            "Epoch 13/100\n",
            "2/2 [==============================] - 0s 8ms/step - loss: 18.1743 - mae: 18.1743\n",
            "Epoch 14/100\n",
            "2/2 [==============================] - 0s 8ms/step - loss: 7.1314 - mae: 7.1314\n",
            "Epoch 15/100\n",
            "2/2 [==============================] - 0s 7ms/step - loss: 25.7600 - mae: 25.7600\n",
            "Epoch 16/100\n",
            "2/2 [==============================] - 0s 14ms/step - loss: 11.0479 - mae: 11.0479\n",
            "Epoch 17/100\n",
            "2/2 [==============================] - 0s 7ms/step - loss: 15.2580 - mae: 15.2580\n",
            "Epoch 18/100\n",
            "2/2 [==============================] - 0s 8ms/step - loss: 14.4869 - mae: 14.4869\n",
            "Epoch 19/100\n",
            "2/2 [==============================] - 0s 6ms/step - loss: 13.8232 - mae: 13.8232\n",
            "Epoch 20/100\n",
            "2/2 [==============================] - 0s 10ms/step - loss: 28.8111 - mae: 28.8111\n",
            "Epoch 21/100\n",
            "2/2 [==============================] - 0s 8ms/step - loss: 9.4905 - mae: 9.4905\n",
            "Epoch 22/100\n",
            "2/2 [==============================] - 0s 8ms/step - loss: 13.3540 - mae: 13.3540\n",
            "Epoch 23/100\n",
            "2/2 [==============================] - 0s 12ms/step - loss: 17.3523 - mae: 17.3523\n",
            "Epoch 24/100\n",
            "2/2 [==============================] - 0s 13ms/step - loss: 11.4361 - mae: 11.4361\n",
            "Epoch 25/100\n",
            "2/2 [==============================] - 0s 14ms/step - loss: 11.8421 - mae: 11.8421\n",
            "Epoch 26/100\n",
            "2/2 [==============================] - 0s 7ms/step - loss: 23.9463 - mae: 23.9463\n",
            "Epoch 27/100\n",
            "2/2 [==============================] - 0s 8ms/step - loss: 15.3180 - mae: 15.3180\n",
            "Epoch 28/100\n",
            "2/2 [==============================] - 0s 6ms/step - loss: 14.2043 - mae: 14.2043\n",
            "Epoch 29/100\n",
            "2/2 [==============================] - 0s 6ms/step - loss: 16.9229 - mae: 16.9229\n",
            "Epoch 30/100\n",
            "2/2 [==============================] - 0s 6ms/step - loss: 11.5764 - mae: 11.5764\n",
            "Epoch 31/100\n",
            "2/2 [==============================] - 0s 6ms/step - loss: 17.4823 - mae: 17.4823\n",
            "Epoch 32/100\n",
            "2/2 [==============================] - 0s 8ms/step - loss: 8.7534 - mae: 8.7534\n",
            "Epoch 33/100\n",
            "2/2 [==============================] - 0s 7ms/step - loss: 22.1236 - mae: 22.1236\n",
            "Epoch 34/100\n",
            "2/2 [==============================] - 0s 8ms/step - loss: 9.8091 - mae: 9.8091\n",
            "Epoch 35/100\n",
            "2/2 [==============================] - 0s 7ms/step - loss: 12.6987 - mae: 12.6987\n",
            "Epoch 36/100\n",
            "2/2 [==============================] - 0s 13ms/step - loss: 15.6515 - mae: 15.6515\n",
            "Epoch 37/100\n",
            "2/2 [==============================] - 0s 8ms/step - loss: 13.3967 - mae: 13.3967\n",
            "Epoch 38/100\n",
            "2/2 [==============================] - 0s 8ms/step - loss: 14.7504 - mae: 14.7504\n",
            "Epoch 39/100\n",
            "2/2 [==============================] - 0s 26ms/step - loss: 16.8795 - mae: 16.8795\n",
            "Epoch 40/100\n",
            "2/2 [==============================] - 0s 11ms/step - loss: 25.6061 - mae: 25.6061\n",
            "Epoch 41/100\n",
            "2/2 [==============================] - 0s 7ms/step - loss: 10.3692 - mae: 10.3692\n",
            "Epoch 42/100\n",
            "2/2 [==============================] - 0s 7ms/step - loss: 14.8557 - mae: 14.8557\n",
            "Epoch 43/100\n",
            "2/2 [==============================] - 0s 10ms/step - loss: 10.0473 - mae: 10.0473\n",
            "Epoch 44/100\n",
            "2/2 [==============================] - 0s 9ms/step - loss: 9.2414 - mae: 9.2414\n",
            "Epoch 45/100\n",
            "2/2 [==============================] - 0s 14ms/step - loss: 15.4633 - mae: 15.4633\n",
            "Epoch 46/100\n",
            "2/2 [==============================] - 0s 15ms/step - loss: 8.7924 - mae: 8.7924\n",
            "Epoch 47/100\n",
            "2/2 [==============================] - 0s 8ms/step - loss: 22.5428 - mae: 22.5428\n",
            "Epoch 48/100\n",
            "2/2 [==============================] - 0s 9ms/step - loss: 19.2463 - mae: 19.2463\n",
            "Epoch 49/100\n",
            "2/2 [==============================] - 0s 9ms/step - loss: 11.4096 - mae: 11.4096\n",
            "Epoch 50/100\n",
            "2/2 [==============================] - 0s 11ms/step - loss: 15.0146 - mae: 15.0146\n",
            "Epoch 51/100\n",
            "2/2 [==============================] - 0s 7ms/step - loss: 19.7695 - mae: 19.7695\n",
            "Epoch 52/100\n",
            "2/2 [==============================] - 0s 7ms/step - loss: 13.1421 - mae: 13.1421\n",
            "Epoch 53/100\n",
            "2/2 [==============================] - 0s 15ms/step - loss: 16.4034 - mae: 16.4034\n",
            "Epoch 54/100\n",
            "2/2 [==============================] - 0s 15ms/step - loss: 13.5747 - mae: 13.5747\n",
            "Epoch 55/100\n",
            "2/2 [==============================] - 0s 12ms/step - loss: 11.9529 - mae: 11.9529\n",
            "Epoch 56/100\n",
            "2/2 [==============================] - 0s 12ms/step - loss: 9.9152 - mae: 9.9152\n",
            "Epoch 57/100\n",
            "2/2 [==============================] - 0s 14ms/step - loss: 17.0923 - mae: 17.0923\n",
            "Epoch 58/100\n",
            "2/2 [==============================] - 0s 8ms/step - loss: 7.0669 - mae: 7.0669\n",
            "Epoch 59/100\n",
            "2/2 [==============================] - 0s 7ms/step - loss: 13.0832 - mae: 13.0832\n",
            "Epoch 60/100\n",
            "2/2 [==============================] - 0s 13ms/step - loss: 10.1876 - mae: 10.1876\n",
            "Epoch 61/100\n",
            "2/2 [==============================] - 0s 11ms/step - loss: 11.7985 - mae: 11.7985\n",
            "Epoch 62/100\n",
            "2/2 [==============================] - 0s 4ms/step - loss: 30.1600 - mae: 30.1600\n",
            "Epoch 63/100\n",
            "2/2 [==============================] - 0s 12ms/step - loss: 10.3771 - mae: 10.3771\n",
            "Epoch 64/100\n",
            "2/2 [==============================] - 0s 6ms/step - loss: 19.8538 - mae: 19.8538\n",
            "Epoch 65/100\n",
            "2/2 [==============================] - 0s 6ms/step - loss: 13.3496 - mae: 13.3496\n",
            "Epoch 66/100\n",
            "2/2 [==============================] - 0s 6ms/step - loss: 17.5997 - mae: 17.5997\n",
            "Epoch 67/100\n",
            "2/2 [==============================] - 0s 6ms/step - loss: 13.9147 - mae: 13.9147\n",
            "Epoch 68/100\n",
            "2/2 [==============================] - 0s 6ms/step - loss: 10.8109 - mae: 10.8109\n",
            "Epoch 69/100\n",
            "2/2 [==============================] - 0s 6ms/step - loss: 13.2543 - mae: 13.2543\n",
            "Epoch 70/100\n",
            "2/2 [==============================] - 0s 6ms/step - loss: 12.6322 - mae: 12.6322\n",
            "Epoch 71/100\n",
            "2/2 [==============================] - 0s 9ms/step - loss: 17.3692 - mae: 17.3692\n",
            "Epoch 72/100\n",
            "2/2 [==============================] - 0s 7ms/step - loss: 13.4846 - mae: 13.4846\n",
            "Epoch 73/100\n",
            "2/2 [==============================] - 0s 6ms/step - loss: 9.1659 - mae: 9.1659\n",
            "Epoch 74/100\n",
            "2/2 [==============================] - 0s 8ms/step - loss: 23.0713 - mae: 23.0713\n",
            "Epoch 75/100\n",
            "2/2 [==============================] - 0s 14ms/step - loss: 10.5926 - mae: 10.5926\n",
            "Epoch 76/100\n",
            "2/2 [==============================] - 0s 6ms/step - loss: 14.2877 - mae: 14.2877\n",
            "Epoch 77/100\n",
            "2/2 [==============================] - 0s 7ms/step - loss: 7.4501 - mae: 7.4501\n",
            "Epoch 78/100\n",
            "2/2 [==============================] - 0s 7ms/step - loss: 9.8820 - mae: 9.8820\n",
            "Epoch 79/100\n",
            "2/2 [==============================] - 0s 13ms/step - loss: 17.9567 - mae: 17.9567\n",
            "Epoch 80/100\n",
            "2/2 [==============================] - 0s 7ms/step - loss: 17.6854 - mae: 17.6854\n",
            "Epoch 81/100\n",
            "2/2 [==============================] - 0s 7ms/step - loss: 17.0024 - mae: 17.0024\n",
            "Epoch 82/100\n",
            "2/2 [==============================] - 0s 13ms/step - loss: 10.1807 - mae: 10.1807\n",
            "Epoch 83/100\n",
            "2/2 [==============================] - 0s 6ms/step - loss: 14.7130 - mae: 14.7130\n",
            "Epoch 84/100\n",
            "2/2 [==============================] - 0s 16ms/step - loss: 18.1189 - mae: 18.1189\n",
            "Epoch 85/100\n",
            "2/2 [==============================] - 0s 17ms/step - loss: 14.8009 - mae: 14.8009\n",
            "Epoch 86/100\n",
            "2/2 [==============================] - 0s 9ms/step - loss: 9.3393 - mae: 9.3393\n",
            "Epoch 87/100\n",
            "2/2 [==============================] - 0s 11ms/step - loss: 17.1708 - mae: 17.1708\n",
            "Epoch 88/100\n",
            "2/2 [==============================] - 0s 25ms/step - loss: 25.3828 - mae: 25.3828\n",
            "Epoch 89/100\n",
            "2/2 [==============================] - 0s 7ms/step - loss: 17.0861 - mae: 17.0861\n",
            "Epoch 90/100\n",
            "2/2 [==============================] - 0s 21ms/step - loss: 11.4347 - mae: 11.4347\n",
            "Epoch 91/100\n",
            "2/2 [==============================] - 0s 8ms/step - loss: 23.1740 - mae: 23.1740\n",
            "Epoch 92/100\n",
            "2/2 [==============================] - 0s 14ms/step - loss: 20.9342 - mae: 20.9342\n",
            "Epoch 93/100\n",
            "2/2 [==============================] - 0s 9ms/step - loss: 7.0429 - mae: 7.0429\n",
            "Epoch 94/100\n",
            "2/2 [==============================] - 0s 13ms/step - loss: 22.1176 - mae: 22.1176\n",
            "Epoch 95/100\n",
            "2/2 [==============================] - 0s 13ms/step - loss: 16.7400 - mae: 16.7400\n",
            "Epoch 96/100\n",
            "2/2 [==============================] - 0s 7ms/step - loss: 10.3895 - mae: 10.3895\n",
            "Epoch 97/100\n",
            "2/2 [==============================] - 0s 12ms/step - loss: 13.0227 - mae: 13.0227\n",
            "Epoch 98/100\n",
            "2/2 [==============================] - 0s 23ms/step - loss: 26.8295 - mae: 26.8295\n",
            "Epoch 99/100\n",
            "2/2 [==============================] - 0s 12ms/step - loss: 21.9196 - mae: 21.9196\n",
            "Epoch 100/100\n",
            "2/2 [==============================] - 0s 20ms/step - loss: 19.5086 - mae: 19.5086\n"
          ]
        },
        {
          "output_type": "execute_result",
          "data": {
            "text/plain": [
              "<keras.callbacks.History at 0x7f3e5ed029a0>"
            ]
          },
          "metadata": {},
          "execution_count": 23
        }
      ]
    },
    {
      "cell_type": "markdown",
      "source": [
        "### Visualize The Model\n",
        "\n",
        "[![image.png](https://i.postimg.cc/XJnBMPTk/image.png)](https://postimg.cc/Lq08Lx4J)"
      ],
      "metadata": {
        "id": "9yZyuAAZF9eZ"
      }
    },
    {
      "cell_type": "code",
      "source": [
        "from tensorflow.keras.utils import plot_model\n",
        "\n",
        "\n",
        "plot_model(model_2, show_shapes=True)"
      ],
      "metadata": {
        "colab": {
          "base_uri": "https://localhost:8080/",
          "height": 312
        },
        "id": "dqmkX400F9SZ",
        "outputId": "ec0cd742-b6ad-4130-bbb7-198ab7207fce"
      },
      "execution_count": 24,
      "outputs": [
        {
          "output_type": "execute_result",
          "data": {
            "image/png": "[encoded data removed]",
            "text/plain": [
              "<IPython.core.display.Image object>"
            ]
          },
          "metadata": {},
          "execution_count": 24
        }
      ]
    },
    {
      "cell_type": "code",
      "source": [],
      "metadata": {
        "id": "GxqhY96vGbPf"
      },
      "execution_count": 24,
      "outputs": []
    },
    {
      "cell_type": "code",
      "source": [
        "def plot_prediction(X_train=X_train, \n",
        "                    X_val=X_val, \n",
        "                    y_train=y_train, \n",
        "                    y_val=y_val, \n",
        "                    y_predictions=y_pred) -> \"Plot\":\n",
        "  \"\"\"This is used to visualize the model predictions.\n",
        "\n",
        "  Params:\n",
        "    X_train (tf.tensor): The training data.\n",
        "    X_val (tf.tensor): The validation data.\n",
        "    y_train (tf.tensor): The labels of the training data.\n",
        "    y_train (tf.tensor): The labels of the validation data.\n",
        "    y_pred (tf.tensor): The predicted data.\n",
        "\n",
        "  Returns:\n",
        "    None\n",
        "  \"\"\"\n",
        "  # Visualize the data\n",
        "  plt.figure(figsize=(8, 6))\n",
        "\n",
        "  plt.scatter(X_train, y_train, color=\"red\", label=\"Training data\")\n",
        "  plt.scatter(X_val, y_val, color=\"blue\", label=\"Validation data\")\n",
        "  plt.scatter(X_val, y_predictions, color=\"green\", label=\"Predicted data\")\n",
        "  plt.xlabel(\"X\", size=13)\n",
        "  plt.ylabel(\"y\", size=13)\n",
        "  plt.title(\"Scatter Plot of X and Y\", size=15)\n",
        "  plt.legend()\n",
        "\n",
        "  plt.show()"
      ],
      "metadata": {
        "id": "yiX8ZawtyGIk"
      },
      "execution_count": 25,
      "outputs": []
    },
    {
      "cell_type": "code",
      "source": [
        "# Make predictions\n",
        "y_pred_2 = model_2.predict(X_val)"
      ],
      "metadata": {
        "colab": {
          "base_uri": "https://localhost:8080/"
        },
        "id": "NPxM67uWRuQw",
        "outputId": "722af366-690e-46e7-e73c-54a34399c302"
      },
      "execution_count": 26,
      "outputs": [
        {
          "output_type": "stream",
          "name": "stderr",
          "text": [
            "WARNING:tensorflow:5 out of the last 5 calls to <function Model.make_predict_function.<locals>.predict_function at 0x7f3ef162fd30> triggered tf.function retracing. Tracing is expensive and the excessive number of tracings could be due to (1) creating @tf.function repeatedly in a loop, (2) passing tensors with different shapes, (3) passing Python objects instead of tensors. For (1), please define your @tf.function outside of the loop. For (2), @tf.function has reduce_retracing=True option that can avoid unnecessary retracing. For (3), please refer to https://www.tensorflow.org/guide/function#controlling_retracing and https://www.tensorflow.org/api_docs/python/tf/function for  more details.\n"
          ]
        },
        {
          "output_type": "stream",
          "name": "stdout",
          "text": [
            "1/1 [==============================] - 0s 211ms/step\n"
          ]
        }
      ]
    },
    {
      "cell_type": "code",
      "source": [
        "plot_prediction(y_predictions=y_pred_2)"
      ],
      "metadata": {
        "colab": {
          "base_uri": "https://localhost:8080/",
          "height": 409
        },
        "id": "POWJ7A_gyGFb",
        "outputId": "73c0f414-0135-45bb-ddfd-b8545f6f070f"
      },
      "execution_count": 27,
      "outputs": [
        {
          "output_type": "display_data",
          "data": {
            "text/plain": [
              "<Figure size 576x432 with 1 Axes>"
            ],
            "image/png": "[encoded data removed]"
          },
          "metadata": {
            "needs_background": "light"
          }
        }
      ]
    },
    {
      "cell_type": "code",
      "source": [
        "# Evaluate\n",
        "model_2.evaluate(X_val, y_val)"
      ],
      "metadata": {
        "colab": {
          "base_uri": "https://localhost:8080/"
        },
        "id": "LouQdtgFyF_c",
        "outputId": "3d1281cd-bf77-4235-924b-03bb8c760887"
      },
      "execution_count": 28,
      "outputs": [
        {
          "output_type": "stream",
          "name": "stdout",
          "text": [
            "1/1 [==============================] - 0s 447ms/step - loss: 5.1236 - mae: 5.1236\n"
          ]
        },
        {
          "output_type": "execute_result",
          "data": {
            "text/plain": [
              "[5.123565673828125, 5.123565673828125]"
            ]
          },
          "metadata": {},
          "execution_count": 28
        }
      ]
    },
    {
      "cell_type": "markdown",
      "source": [
        "### Challenge\n",
        "\n",
        "> Implement the following:\n",
        "\n",
        "1. Mean Absolute Error\n",
        "\n",
        "```python\n",
        "tf.keras.losses.MAE()\n",
        "\n",
        "# OR\n",
        "tf.metrics.mean_absolute_error()\n",
        "```\n",
        "\n",
        "$$\n",
        "mae = \\frac{\\sum^n_{i=1}{|y_{i}} - \\hat{y}_{i}|}{n}\n",
        "$$\n",
        "\n",
        "2. Mean Squared Error\n",
        "\n",
        "```python\n",
        "tf.keras.losses.MSE()\n",
        "\n",
        "# OR\n",
        "tf.metrics.mean_squared_error()\n",
        "```\n",
        "\n",
        "$$\n",
        "mse = \\frac{\\sum^n_{i=1}{(y_{i}} - \\hat{y}_{i})^2}{n}\n",
        "$$"
      ],
      "metadata": {
        "id": "vwMGN8vkPH4c"
      }
    },
    {
      "cell_type": "code",
      "source": [
        "def mean_absolute_error(*, y_true:\"tf.tensor\", y_pred:\"tf.tensor\") -> float:\n",
        "  \"\"\"This returns the Mean Absolute Error.\"\"\"\n",
        "  mae = tf.math.reduce_mean(tf.math.abs(y_true - tf.squeeze(tf.cast(y_pred, dtype=tf.float16))))\n",
        "  return mae\n",
        "\n",
        "\n",
        "def mean_squared_error(*, y_true:\"tf.tensor\", y_pred:\"tf.tensor\") -> float:\n",
        "  \"\"\"This returns the Mean Squared Error.\"\"\"\n",
        "  mse = tf.math.reduce_mean(tf.math.square(y_true - tf.squeeze(tf.cast(y_pred, dtype=tf.float16))))\n",
        "  return mse\n",
        "\n"
      ],
      "metadata": {
        "id": "3OWyt2WwyF8-"
      },
      "execution_count": 29,
      "outputs": []
    },
    {
      "cell_type": "code",
      "source": [
        "mae_2 = mean_absolute_error(y_true=y_val, y_pred=y_pred_2)\n",
        "print(mae_2)\n",
        "\n",
        "mse_2 = mean_squared_error(y_true=y_val, y_pred=y_pred_2)\n",
        "\n",
        "mse_2"
      ],
      "metadata": {
        "colab": {
          "base_uri": "https://localhost:8080/"
        },
        "id": "pZYrSwTgyF6d",
        "outputId": "c56cb763-535b-4a03-eed2-c95fd03dc45d"
      },
      "execution_count": 30,
      "outputs": [
        {
          "output_type": "stream",
          "name": "stdout",
          "text": [
            "tf.Tensor(5.125, shape=(), dtype=float16)\n"
          ]
        },
        {
          "output_type": "execute_result",
          "data": {
            "text/plain": [
              "<tf.Tensor: shape=(), dtype=float16, numpy=26.5>"
            ]
          },
          "metadata": {},
          "execution_count": 30
        }
      ]
    },
    {
      "cell_type": "code",
      "source": [
        "# OR\n",
        "tf.keras.losses.MAE(y_true=y_val, y_pred=tf.squeeze(y_pred_2))"
      ],
      "metadata": {
        "colab": {
          "base_uri": "https://localhost:8080/"
        },
        "id": "dPk3vbrkyFzs",
        "outputId": "5b4bd596-98d5-4668-d8eb-4c658d0e59f7"
      },
      "execution_count": 31,
      "outputs": [
        {
          "output_type": "execute_result",
          "data": {
            "text/plain": [
              "<tf.Tensor: shape=(), dtype=float32, numpy=5.123567>"
            ]
          },
          "metadata": {},
          "execution_count": 31
        }
      ]
    },
    {
      "cell_type": "code",
      "execution_count": 32,
      "metadata": {
        "colab": {
          "base_uri": "https://localhost:8080/"
        },
        "id": "ycGR7g9WtEgz",
        "outputId": "21a99448-4652-49e4-af78-186b9e20a0b7"
      },
      "outputs": [
        {
          "output_type": "execute_result",
          "data": {
            "text/plain": [
              "<tf.Tensor: shape=(), dtype=float32, numpy=26.47128>"
            ]
          },
          "metadata": {},
          "execution_count": 32
        }
      ],
      "source": [
        "# Mean Squared Error\n",
        "tf.keras.losses.MSE(y_true=y_val, y_pred=tf.squeeze(y_pred_2))"
      ]
    },
    {
      "cell_type": "markdown",
      "source": [
        "#### Build The 3rd Model\n",
        "\n",
        "* 2 layers \n",
        "* 500 epochs"
      ],
      "metadata": {
        "id": "K3JXVupRyZFA"
      }
    },
    {
      "cell_type": "code",
      "source": [
        "tf.random.set_seed(SEED)\n",
        "\n",
        "# Build model\n",
        "model_3 = tf.keras.Sequential([\n",
        "    tf.keras.layers.Dense(units=10, input_shape=[1], activation=None),\n",
        "    tf.keras.layers.Dense(units=1, activation=None)\n",
        "])\n",
        "\n",
        "# Compile\n",
        "model_3.compile(loss=tf.keras.losses.mae,\n",
        "                optimizer=tf.keras.optimizers.SGD(),\n",
        "                metrics=[\"mse\"])\n",
        "\n",
        "# Fit the model\n",
        "model_3.fit(X_train, y_train, epochs=500)"
      ],
      "metadata": {
        "id": "PPtcbKLBI9xy",
        "colab": {
          "base_uri": "https://localhost:8080/"
        },
        "outputId": "c0ad8926-4b01-4653-c94f-f2ec5be56bda"
      },
      "execution_count": 33,
      "outputs": [
        {
          "output_type": "stream",
          "name": "stdout",
          "text": [
            "Epoch 1/500\n",
            "2/2 [==============================] - 1s 11ms/step - loss: 23.6276 - mse: 820.4025\n",
            "Epoch 2/500\n",
            "2/2 [==============================] - 0s 16ms/step - loss: 19.7690 - mse: 570.9535\n",
            "Epoch 3/500\n",
            "2/2 [==============================] - 0s 7ms/step - loss: 27.4470 - mse: 1122.7527\n",
            "Epoch 4/500\n",
            "2/2 [==============================] - 0s 7ms/step - loss: 23.8571 - mse: 835.1614\n",
            "Epoch 5/500\n",
            "2/2 [==============================] - 0s 12ms/step - loss: 11.2322 - mse: 141.4971\n",
            "Epoch 6/500\n",
            "2/2 [==============================] - 0s 9ms/step - loss: 13.3310 - mse: 232.0448\n",
            "Epoch 7/500\n",
            "2/2 [==============================] - 0s 8ms/step - loss: 17.9697 - mse: 488.9519\n",
            "Epoch 8/500\n",
            "2/2 [==============================] - 0s 22ms/step - loss: 8.7487 - mse: 119.0387\n",
            "Epoch 9/500\n",
            "2/2 [==============================] - 0s 7ms/step - loss: 11.6119 - mse: 186.0183\n",
            "Epoch 10/500\n",
            "2/2 [==============================] - 0s 10ms/step - loss: 15.5524 - mse: 350.7057\n",
            "Epoch 11/500\n",
            "2/2 [==============================] - 0s 6ms/step - loss: 12.2174 - mse: 196.7372\n",
            "Epoch 12/500\n",
            "2/2 [==============================] - 0s 7ms/step - loss: 23.4230 - mse: 826.7120\n",
            "Epoch 13/500\n",
            "2/2 [==============================] - 0s 14ms/step - loss: 15.0958 - mse: 337.7996\n",
            "Epoch 14/500\n",
            "2/2 [==============================] - 0s 6ms/step - loss: 8.2220 - mse: 97.4660\n",
            "Epoch 15/500\n",
            "2/2 [==============================] - 0s 6ms/step - loss: 7.7468 - mse: 84.2043\n",
            "Epoch 16/500\n",
            "2/2 [==============================] - 0s 7ms/step - loss: 13.7458 - mse: 251.8286\n",
            "Epoch 17/500\n",
            "2/2 [==============================] - 0s 7ms/step - loss: 15.9562 - mse: 358.0014\n",
            "Epoch 18/500\n",
            "2/2 [==============================] - 0s 6ms/step - loss: 15.6583 - mse: 333.1999\n",
            "Epoch 19/500\n",
            "2/2 [==============================] - 0s 6ms/step - loss: 13.0318 - mse: 201.8342\n",
            "Epoch 20/500\n",
            "2/2 [==============================] - 0s 8ms/step - loss: 25.4188 - mse: 1004.9594\n",
            "Epoch 21/500\n",
            "2/2 [==============================] - 0s 6ms/step - loss: 9.0134 - mse: 116.4362\n",
            "Epoch 22/500\n",
            "2/2 [==============================] - 0s 6ms/step - loss: 13.6829 - mse: 274.4366\n",
            "Epoch 23/500\n",
            "2/2 [==============================] - 0s 16ms/step - loss: 17.8582 - mse: 424.8120\n",
            "Epoch 24/500\n",
            "2/2 [==============================] - 0s 5ms/step - loss: 11.0003 - mse: 133.2476\n",
            "Epoch 25/500\n",
            "2/2 [==============================] - 0s 5ms/step - loss: 11.5819 - mse: 172.8949\n",
            "Epoch 26/500\n",
            "2/2 [==============================] - 0s 8ms/step - loss: 22.4300 - mse: 753.7665\n",
            "Epoch 27/500\n",
            "2/2 [==============================] - 0s 8ms/step - loss: 15.0966 - mse: 305.4362\n",
            "Epoch 28/500\n",
            "2/2 [==============================] - 0s 8ms/step - loss: 14.0120 - mse: 274.5106\n",
            "Epoch 29/500\n",
            "2/2 [==============================] - 0s 8ms/step - loss: 16.6803 - mse: 372.4997\n",
            "Epoch 30/500\n",
            "2/2 [==============================] - 0s 8ms/step - loss: 11.4046 - mse: 212.7337\n",
            "Epoch 31/500\n",
            "2/2 [==============================] - 0s 9ms/step - loss: 17.2148 - mse: 394.9051\n",
            "Epoch 32/500\n",
            "2/2 [==============================] - 0s 15ms/step - loss: 8.1962 - mse: 98.7336\n",
            "Epoch 33/500\n",
            "2/2 [==============================] - 0s 9ms/step - loss: 11.6348 - mse: 222.4313\n",
            "Epoch 34/500\n",
            "2/2 [==============================] - 0s 8ms/step - loss: 15.0378 - mse: 311.4510\n",
            "Epoch 35/500\n",
            "2/2 [==============================] - 0s 8ms/step - loss: 11.9868 - mse: 172.7302\n",
            "Epoch 36/500\n",
            "2/2 [==============================] - 0s 11ms/step - loss: 18.3482 - mse: 470.3875\n",
            "Epoch 37/500\n",
            "2/2 [==============================] - 0s 9ms/step - loss: 11.6300 - mse: 162.5923\n",
            "Epoch 38/500\n",
            "2/2 [==============================] - 0s 13ms/step - loss: 11.8815 - mse: 162.9725\n",
            "Epoch 39/500\n",
            "2/2 [==============================] - 0s 9ms/step - loss: 21.8949 - mse: 773.7963\n",
            "Epoch 40/500\n",
            "2/2 [==============================] - 0s 8ms/step - loss: 12.2355 - mse: 203.6279\n",
            "Epoch 41/500\n",
            "2/2 [==============================] - 0s 8ms/step - loss: 12.8771 - mse: 251.8327\n",
            "Epoch 42/500\n",
            "2/2 [==============================] - 0s 7ms/step - loss: 17.5378 - mse: 453.1332\n",
            "Epoch 43/500\n",
            "2/2 [==============================] - 0s 8ms/step - loss: 8.9653 - mse: 132.5470\n",
            "Epoch 44/500\n",
            "2/2 [==============================] - 0s 7ms/step - loss: 11.4735 - mse: 197.7161\n",
            "Epoch 45/500\n",
            "2/2 [==============================] - 0s 9ms/step - loss: 20.7957 - mse: 613.5820\n",
            "Epoch 46/500\n",
            "2/2 [==============================] - 0s 10ms/step - loss: 19.8175 - mse: 602.0546\n",
            "Epoch 47/500\n",
            "2/2 [==============================] - 0s 7ms/step - loss: 11.9964 - mse: 171.3136\n",
            "Epoch 48/500\n",
            "2/2 [==============================] - 0s 7ms/step - loss: 16.1605 - mse: 368.8230\n",
            "Epoch 49/500\n",
            "2/2 [==============================] - 0s 13ms/step - loss: 11.2221 - mse: 148.4262\n",
            "Epoch 50/500\n",
            "2/2 [==============================] - 0s 7ms/step - loss: 14.2563 - mse: 288.4939\n",
            "Epoch 51/500\n",
            "2/2 [==============================] - 0s 7ms/step - loss: 22.1732 - mse: 786.0493\n",
            "Epoch 52/500\n",
            "2/2 [==============================] - 0s 8ms/step - loss: 13.4022 - mse: 223.2390\n",
            "Epoch 53/500\n",
            "2/2 [==============================] - 0s 7ms/step - loss: 17.1224 - mse: 422.4417\n",
            "Epoch 54/500\n",
            "2/2 [==============================] - 0s 7ms/step - loss: 12.3087 - mse: 187.8192\n",
            "Epoch 55/500\n",
            "2/2 [==============================] - 0s 13ms/step - loss: 12.8193 - mse: 212.7262\n",
            "Epoch 56/500\n",
            "2/2 [==============================] - 0s 9ms/step - loss: 10.5130 - mse: 145.4073\n",
            "Epoch 57/500\n",
            "2/2 [==============================] - 0s 8ms/step - loss: 13.7798 - mse: 246.6076\n",
            "Epoch 58/500\n",
            "2/2 [==============================] - 0s 11ms/step - loss: 11.5320 - mse: 156.9697\n",
            "Epoch 59/500\n",
            "2/2 [==============================] - 0s 6ms/step - loss: 9.2799 - mse: 138.6297\n",
            "Epoch 60/500\n",
            "2/2 [==============================] - 0s 7ms/step - loss: 10.3046 - mse: 196.7394\n",
            "Epoch 61/500\n",
            "2/2 [==============================] - 0s 8ms/step - loss: 13.0570 - mse: 239.3134\n",
            "Epoch 62/500\n",
            "2/2 [==============================] - 0s 9ms/step - loss: 26.1446 - mse: 966.6712\n",
            "Epoch 63/500\n",
            "2/2 [==============================] - 0s 11ms/step - loss: 10.1070 - mse: 154.5955\n",
            "Epoch 64/500\n",
            "2/2 [==============================] - 0s 10ms/step - loss: 12.8580 - mse: 211.4851\n",
            "Epoch 65/500\n",
            "2/2 [==============================] - 0s 7ms/step - loss: 9.4758 - mse: 103.8320\n",
            "Epoch 66/500\n",
            "2/2 [==============================] - 0s 7ms/step - loss: 23.2213 - mse: 841.1932\n",
            "Epoch 67/500\n",
            "2/2 [==============================] - 0s 10ms/step - loss: 15.5539 - mse: 368.6394\n",
            "Epoch 68/500\n",
            "2/2 [==============================] - 0s 9ms/step - loss: 13.8849 - mse: 282.7455\n",
            "Epoch 69/500\n",
            "2/2 [==============================] - 0s 7ms/step - loss: 13.7083 - mse: 261.4755\n",
            "Epoch 70/500\n",
            "2/2 [==============================] - 0s 10ms/step - loss: 12.9517 - mse: 250.7388\n",
            "Epoch 71/500\n",
            "2/2 [==============================] - 0s 12ms/step - loss: 17.7639 - mse: 489.5495\n",
            "Epoch 72/500\n",
            "2/2 [==============================] - 0s 10ms/step - loss: 18.2525 - mse: 446.3412\n",
            "Epoch 73/500\n",
            "2/2 [==============================] - 0s 10ms/step - loss: 12.5832 - mse: 227.4527\n",
            "Epoch 74/500\n",
            "2/2 [==============================] - 0s 7ms/step - loss: 21.2714 - mse: 691.1600\n",
            "Epoch 75/500\n",
            "2/2 [==============================] - 0s 17ms/step - loss: 10.1157 - mse: 118.9589\n",
            "Epoch 76/500\n",
            "2/2 [==============================] - 0s 7ms/step - loss: 12.5803 - mse: 241.8384\n",
            "Epoch 77/500\n",
            "2/2 [==============================] - 0s 9ms/step - loss: 10.4548 - mse: 197.6728\n",
            "Epoch 78/500\n",
            "2/2 [==============================] - 0s 7ms/step - loss: 10.9272 - mse: 167.3037\n",
            "Epoch 79/500\n",
            "2/2 [==============================] - 0s 6ms/step - loss: 8.6022 - mse: 107.1266\n",
            "Epoch 80/500\n",
            "2/2 [==============================] - 0s 7ms/step - loss: 18.2201 - mse: 483.4533\n",
            "Epoch 81/500\n",
            "2/2 [==============================] - 0s 7ms/step - loss: 17.7380 - mse: 438.3949\n",
            "Epoch 82/500\n",
            "2/2 [==============================] - 0s 6ms/step - loss: 11.1567 - mse: 167.0645\n",
            "Epoch 83/500\n",
            "2/2 [==============================] - 0s 8ms/step - loss: 14.8591 - mse: 296.2859\n",
            "Epoch 84/500\n",
            "2/2 [==============================] - 0s 7ms/step - loss: 18.3827 - mse: 478.3799\n",
            "Epoch 85/500\n",
            "2/2 [==============================] - 0s 6ms/step - loss: 14.1072 - mse: 285.1013\n",
            "Epoch 86/500\n",
            "2/2 [==============================] - 0s 7ms/step - loss: 9.9236 - mse: 122.9490\n",
            "Epoch 87/500\n",
            "2/2 [==============================] - 0s 7ms/step - loss: 18.9569 - mse: 525.1467\n",
            "Epoch 88/500\n",
            "2/2 [==============================] - 0s 6ms/step - loss: 28.0500 - mse: 1135.4119\n",
            "Epoch 89/500\n",
            "2/2 [==============================] - 0s 7ms/step - loss: 19.7603 - mse: 575.7054\n",
            "Epoch 90/500\n",
            "2/2 [==============================] - 0s 9ms/step - loss: 12.2351 - mse: 233.7199\n",
            "Epoch 91/500\n",
            "2/2 [==============================] - 0s 8ms/step - loss: 23.4502 - mse: 758.4005\n",
            "Epoch 92/500\n",
            "2/2 [==============================] - 0s 10ms/step - loss: 20.2098 - mse: 638.7786\n",
            "Epoch 93/500\n",
            "2/2 [==============================] - 0s 11ms/step - loss: 7.6507 - mse: 79.6482\n",
            "Epoch 94/500\n",
            "2/2 [==============================] - 0s 10ms/step - loss: 20.9187 - mse: 664.6756\n",
            "Epoch 95/500\n",
            "2/2 [==============================] - 0s 8ms/step - loss: 19.3341 - mse: 555.2763\n",
            "Epoch 96/500\n",
            "2/2 [==============================] - 0s 12ms/step - loss: 10.6626 - mse: 140.2157\n",
            "Epoch 97/500\n",
            "2/2 [==============================] - 0s 6ms/step - loss: 13.9136 - mse: 278.4882\n",
            "Epoch 98/500\n",
            "2/2 [==============================] - 0s 8ms/step - loss: 24.5870 - mse: 907.0885\n",
            "Epoch 99/500\n",
            "2/2 [==============================] - 0s 6ms/step - loss: 20.1037 - mse: 553.1279\n",
            "Epoch 100/500\n",
            "2/2 [==============================] - 0s 6ms/step - loss: 17.2607 - mse: 475.3102\n",
            "Epoch 101/500\n",
            "2/2 [==============================] - 0s 6ms/step - loss: 9.1561 - mse: 90.0854\n",
            "Epoch 102/500\n",
            "2/2 [==============================] - 0s 6ms/step - loss: 12.6297 - mse: 207.7309\n",
            "Epoch 103/500\n",
            "2/2 [==============================] - 0s 8ms/step - loss: 9.1789 - mse: 103.3911\n",
            "Epoch 104/500\n",
            "2/2 [==============================] - 0s 10ms/step - loss: 18.9938 - mse: 562.8297\n",
            "Epoch 105/500\n",
            "2/2 [==============================] - 0s 8ms/step - loss: 11.9667 - mse: 237.3835\n",
            "Epoch 106/500\n",
            "2/2 [==============================] - 0s 7ms/step - loss: 16.9255 - mse: 394.1610\n",
            "Epoch 107/500\n",
            "2/2 [==============================] - 0s 13ms/step - loss: 9.8651 - mse: 172.8968\n",
            "Epoch 108/500\n",
            "2/2 [==============================] - 0s 13ms/step - loss: 8.1722 - mse: 107.9333\n",
            "Epoch 109/500\n",
            "2/2 [==============================] - 0s 5ms/step - loss: 11.6322 - mse: 180.3372\n",
            "Epoch 110/500\n",
            "2/2 [==============================] - 0s 6ms/step - loss: 9.0181 - mse: 108.2729\n",
            "Epoch 111/500\n",
            "2/2 [==============================] - 0s 8ms/step - loss: 18.1509 - mse: 501.1392\n",
            "Epoch 112/500\n",
            "2/2 [==============================] - 0s 6ms/step - loss: 10.3106 - mse: 138.4094\n",
            "Epoch 113/500\n",
            "2/2 [==============================] - 0s 9ms/step - loss: 26.1726 - mse: 1028.3999\n",
            "Epoch 114/500\n",
            "2/2 [==============================] - 0s 7ms/step - loss: 8.2774 - mse: 138.1532\n",
            "Epoch 115/500\n",
            "2/2 [==============================] - 0s 9ms/step - loss: 17.2877 - mse: 450.3972\n",
            "Epoch 116/500\n",
            "2/2 [==============================] - 0s 7ms/step - loss: 11.4228 - mse: 233.9453\n",
            "Epoch 117/500\n",
            "2/2 [==============================] - 0s 7ms/step - loss: 16.1177 - mse: 347.6970\n",
            "Epoch 118/500\n",
            "2/2 [==============================] - 0s 8ms/step - loss: 18.7241 - mse: 489.6706\n",
            "Epoch 119/500\n",
            "2/2 [==============================] - 0s 5ms/step - loss: 8.5550 - mse: 77.1660\n",
            "Epoch 120/500\n",
            "2/2 [==============================] - 0s 6ms/step - loss: 17.6888 - mse: 466.3311\n",
            "Epoch 121/500\n",
            "2/2 [==============================] - 0s 12ms/step - loss: 30.7922 - mse: 1542.6414\n",
            "Epoch 122/500\n",
            "2/2 [==============================] - 0s 8ms/step - loss: 11.8769 - mse: 177.3206\n",
            "Epoch 123/500\n",
            "2/2 [==============================] - 0s 5ms/step - loss: 10.0894 - mse: 120.9306\n",
            "Epoch 124/500\n",
            "2/2 [==============================] - 0s 5ms/step - loss: 11.5250 - mse: 213.8348\n",
            "Epoch 125/500\n",
            "2/2 [==============================] - 0s 6ms/step - loss: 23.1334 - mse: 791.0951\n",
            "Epoch 126/500\n",
            "2/2 [==============================] - 0s 7ms/step - loss: 17.2540 - mse: 441.7828\n",
            "Epoch 127/500\n",
            "2/2 [==============================] - 0s 10ms/step - loss: 6.6992 - mse: 65.8684\n",
            "Epoch 128/500\n",
            "2/2 [==============================] - 0s 12ms/step - loss: 12.2235 - mse: 199.3009\n",
            "Epoch 129/500\n",
            "2/2 [==============================] - 0s 14ms/step - loss: 20.7327 - mse: 619.9265\n",
            "Epoch 130/500\n",
            "2/2 [==============================] - 0s 11ms/step - loss: 8.4976 - mse: 88.4489\n",
            "Epoch 131/500\n",
            "2/2 [==============================] - 0s 7ms/step - loss: 22.5914 - mse: 743.6185\n",
            "Epoch 132/500\n",
            "2/2 [==============================] - 0s 8ms/step - loss: 11.6170 - mse: 184.9358\n",
            "Epoch 133/500\n",
            "2/2 [==============================] - 0s 8ms/step - loss: 17.6101 - mse: 452.0536\n",
            "Epoch 134/500\n",
            "2/2 [==============================] - 0s 8ms/step - loss: 10.8327 - mse: 158.3160\n",
            "Epoch 135/500\n",
            "2/2 [==============================] - 0s 8ms/step - loss: 18.4848 - mse: 509.4035\n",
            "Epoch 136/500\n",
            "2/2 [==============================] - 0s 6ms/step - loss: 12.4199 - mse: 247.9846\n",
            "Epoch 137/500\n",
            "2/2 [==============================] - 0s 7ms/step - loss: 24.3945 - mse: 854.4256\n",
            "Epoch 138/500\n",
            "2/2 [==============================] - 0s 7ms/step - loss: 14.1177 - mse: 288.6870\n",
            "Epoch 139/500\n",
            "2/2 [==============================] - 0s 8ms/step - loss: 6.9804 - mse: 79.7402\n",
            "Epoch 140/500\n",
            "2/2 [==============================] - 0s 7ms/step - loss: 9.5029 - mse: 155.5826\n",
            "Epoch 141/500\n",
            "2/2 [==============================] - 0s 7ms/step - loss: 16.1266 - mse: 357.8049\n",
            "Epoch 142/500\n",
            "2/2 [==============================] - 0s 7ms/step - loss: 12.6464 - mse: 249.7705\n",
            "Epoch 143/500\n",
            "2/2 [==============================] - 0s 10ms/step - loss: 15.4567 - mse: 306.8932\n",
            "Epoch 144/500\n",
            "2/2 [==============================] - 0s 16ms/step - loss: 19.7414 - mse: 554.9241\n",
            "Epoch 145/500\n",
            "2/2 [==============================] - 0s 11ms/step - loss: 31.2491 - mse: 1489.9562\n",
            "Epoch 146/500\n",
            "2/2 [==============================] - 0s 11ms/step - loss: 17.2589 - mse: 437.3730\n",
            "Epoch 147/500\n",
            "2/2 [==============================] - 0s 13ms/step - loss: 17.6299 - mse: 452.7337\n",
            "Epoch 148/500\n",
            "2/2 [==============================] - 0s 12ms/step - loss: 9.1070 - mse: 149.2562\n",
            "Epoch 149/500\n",
            "2/2 [==============================] - 0s 7ms/step - loss: 20.3037 - mse: 599.5394\n",
            "Epoch 150/500\n",
            "2/2 [==============================] - 0s 19ms/step - loss: 32.4335 - mse: 1473.3768\n",
            "Epoch 151/500\n",
            "2/2 [==============================] - 0s 12ms/step - loss: 11.2836 - mse: 229.7593\n",
            "Epoch 152/500\n",
            "2/2 [==============================] - 0s 12ms/step - loss: 21.5976 - mse: 706.4492\n",
            "Epoch 153/500\n",
            "2/2 [==============================] - 0s 13ms/step - loss: 16.7422 - mse: 401.1146\n",
            "Epoch 154/500\n",
            "2/2 [==============================] - 0s 12ms/step - loss: 8.8546 - mse: 93.6002\n",
            "Epoch 155/500\n",
            "2/2 [==============================] - 0s 27ms/step - loss: 8.6817 - mse: 85.9044\n",
            "Epoch 156/500\n",
            "2/2 [==============================] - 0s 12ms/step - loss: 9.7479 - mse: 123.1720\n",
            "Epoch 157/500\n",
            "2/2 [==============================] - 0s 26ms/step - loss: 7.2291 - mse: 83.9062\n",
            "Epoch 158/500\n",
            "2/2 [==============================] - 0s 14ms/step - loss: 12.7951 - mse: 207.1893\n",
            "Epoch 159/500\n",
            "2/2 [==============================] - 0s 17ms/step - loss: 13.5419 - mse: 280.0444\n",
            "Epoch 160/500\n",
            "2/2 [==============================] - 0s 14ms/step - loss: 7.3504 - mse: 81.6553\n",
            "Epoch 161/500\n",
            "2/2 [==============================] - 0s 6ms/step - loss: 17.0478 - mse: 420.9820\n",
            "Epoch 162/500\n",
            "2/2 [==============================] - 0s 11ms/step - loss: 5.8267 - mse: 49.5451\n",
            "Epoch 163/500\n",
            "2/2 [==============================] - 0s 12ms/step - loss: 11.1724 - mse: 180.7552\n",
            "Epoch 164/500\n",
            "2/2 [==============================] - 0s 9ms/step - loss: 9.6305 - mse: 127.8280\n",
            "Epoch 165/500\n",
            "2/2 [==============================] - 0s 9ms/step - loss: 16.8285 - mse: 413.8356\n",
            "Epoch 166/500\n",
            "2/2 [==============================] - 0s 9ms/step - loss: 12.3346 - mse: 242.2028\n",
            "Epoch 167/500\n",
            "2/2 [==============================] - 0s 26ms/step - loss: 18.8486 - mse: 530.4152\n",
            "Epoch 168/500\n",
            "2/2 [==============================] - 0s 10ms/step - loss: 19.1175 - mse: 550.6187\n",
            "Epoch 169/500\n",
            "2/2 [==============================] - 0s 12ms/step - loss: 9.2249 - mse: 104.0067\n",
            "Epoch 170/500\n",
            "2/2 [==============================] - 0s 11ms/step - loss: 21.8476 - mse: 714.0094\n",
            "Epoch 171/500\n",
            "2/2 [==============================] - 0s 11ms/step - loss: 9.6055 - mse: 128.9015\n",
            "Epoch 172/500\n",
            "2/2 [==============================] - 0s 11ms/step - loss: 19.8985 - mse: 555.7728\n",
            "Epoch 173/500\n",
            "2/2 [==============================] - 0s 12ms/step - loss: 10.0988 - mse: 140.4237\n",
            "Epoch 174/500\n",
            "2/2 [==============================] - 0s 16ms/step - loss: 31.2045 - mse: 1488.2664\n",
            "Epoch 175/500\n",
            "2/2 [==============================] - 0s 10ms/step - loss: 16.3982 - mse: 378.4972\n",
            "Epoch 176/500\n",
            "2/2 [==============================] - 0s 11ms/step - loss: 8.8562 - mse: 92.5156\n",
            "Epoch 177/500\n",
            "2/2 [==============================] - 0s 5ms/step - loss: 37.1951 - mse: 2285.0200\n",
            "Epoch 178/500\n",
            "2/2 [==============================] - 0s 17ms/step - loss: 20.0041 - mse: 603.9000\n",
            "Epoch 179/500\n",
            "2/2 [==============================] - 0s 10ms/step - loss: 8.0966 - mse: 99.6460\n",
            "Epoch 180/500\n",
            "2/2 [==============================] - 0s 6ms/step - loss: 20.3443 - mse: 601.5764\n",
            "Epoch 181/500\n",
            "2/2 [==============================] - 0s 9ms/step - loss: 6.5370 - mse: 71.6419\n",
            "Epoch 182/500\n",
            "2/2 [==============================] - 0s 17ms/step - loss: 14.6297 - mse: 311.4972\n",
            "Epoch 183/500\n",
            "2/2 [==============================] - 0s 7ms/step - loss: 14.2399 - mse: 280.7044\n",
            "Epoch 184/500\n",
            "2/2 [==============================] - 0s 13ms/step - loss: 16.6017 - mse: 403.8975\n",
            "Epoch 185/500\n",
            "2/2 [==============================] - 0s 9ms/step - loss: 9.4316 - mse: 110.8310\n",
            "Epoch 186/500\n",
            "2/2 [==============================] - 0s 13ms/step - loss: 11.4226 - mse: 176.8860\n",
            "Epoch 187/500\n",
            "2/2 [==============================] - 0s 11ms/step - loss: 16.0268 - mse: 368.7451\n",
            "Epoch 188/500\n",
            "2/2 [==============================] - 0s 8ms/step - loss: 8.1278 - mse: 83.7501\n",
            "Epoch 189/500\n",
            "2/2 [==============================] - 0s 10ms/step - loss: 25.8661 - mse: 1025.1846\n",
            "Epoch 190/500\n",
            "2/2 [==============================] - 0s 16ms/step - loss: 21.0317 - mse: 662.0023\n",
            "Epoch 191/500\n",
            "2/2 [==============================] - 0s 9ms/step - loss: 9.4742 - mse: 111.2033\n",
            "Epoch 192/500\n",
            "2/2 [==============================] - 0s 7ms/step - loss: 14.0220 - mse: 303.9736\n",
            "Epoch 193/500\n",
            "2/2 [==============================] - 0s 8ms/step - loss: 13.4204 - mse: 250.4887\n",
            "Epoch 194/500\n",
            "2/2 [==============================] - 0s 9ms/step - loss: 14.7937 - mse: 299.1840\n",
            "Epoch 195/500\n",
            "2/2 [==============================] - 0s 8ms/step - loss: 18.5152 - mse: 526.1092\n",
            "Epoch 196/500\n",
            "2/2 [==============================] - 0s 8ms/step - loss: 9.7203 - mse: 175.3348\n",
            "Epoch 197/500\n",
            "2/2 [==============================] - 0s 18ms/step - loss: 20.0526 - mse: 605.3580\n",
            "Epoch 198/500\n",
            "2/2 [==============================] - 0s 14ms/step - loss: 16.4864 - mse: 390.2873\n",
            "Epoch 199/500\n",
            "2/2 [==============================] - 0s 6ms/step - loss: 7.1140 - mse: 81.5672\n",
            "Epoch 200/500\n",
            "2/2 [==============================] - 0s 8ms/step - loss: 13.7653 - mse: 293.8433\n",
            "Epoch 201/500\n",
            "2/2 [==============================] - 0s 6ms/step - loss: 8.6870 - mse: 93.0634\n",
            "Epoch 202/500\n",
            "2/2 [==============================] - 0s 6ms/step - loss: 20.2806 - mse: 581.3619\n",
            "Epoch 203/500\n",
            "2/2 [==============================] - 0s 11ms/step - loss: 12.1144 - mse: 238.1591\n",
            "Epoch 204/500\n",
            "2/2 [==============================] - 0s 9ms/step - loss: 14.5154 - mse: 287.4746\n",
            "Epoch 205/500\n",
            "2/2 [==============================] - 0s 9ms/step - loss: 21.9888 - mse: 677.2389\n",
            "Epoch 206/500\n",
            "2/2 [==============================] - 0s 8ms/step - loss: 20.2707 - mse: 611.5322\n",
            "Epoch 207/500\n",
            "2/2 [==============================] - 0s 22ms/step - loss: 9.5134 - mse: 175.7477\n",
            "Epoch 208/500\n",
            "2/2 [==============================] - 0s 8ms/step - loss: 18.5300 - mse: 509.7406\n",
            "Epoch 209/500\n",
            "2/2 [==============================] - 0s 9ms/step - loss: 12.8794 - mse: 248.6337\n",
            "Epoch 210/500\n",
            "2/2 [==============================] - 0s 8ms/step - loss: 12.3679 - mse: 225.3226\n",
            "Epoch 211/500\n",
            "2/2 [==============================] - 0s 7ms/step - loss: 12.7349 - mse: 246.6628\n",
            "Epoch 212/500\n",
            "2/2 [==============================] - 0s 8ms/step - loss: 10.8922 - mse: 198.4698\n",
            "Epoch 213/500\n",
            "2/2 [==============================] - 0s 11ms/step - loss: 9.3089 - mse: 189.5453\n",
            "Epoch 214/500\n",
            "2/2 [==============================] - 0s 17ms/step - loss: 21.4325 - mse: 696.9618\n",
            "Epoch 215/500\n",
            "2/2 [==============================] - 0s 9ms/step - loss: 18.9843 - mse: 520.2171\n",
            "Epoch 216/500\n",
            "2/2 [==============================] - 0s 10ms/step - loss: 7.7344 - mse: 75.7324\n",
            "Epoch 217/500\n",
            "2/2 [==============================] - 0s 10ms/step - loss: 5.3126 - mse: 55.2874\n",
            "Epoch 218/500\n",
            "2/2 [==============================] - 0s 12ms/step - loss: 11.8696 - mse: 280.1157\n",
            "Epoch 219/500\n",
            "2/2 [==============================] - 0s 11ms/step - loss: 20.7133 - mse: 623.7035\n",
            "Epoch 220/500\n",
            "2/2 [==============================] - 0s 9ms/step - loss: 27.7048 - mse: 1212.9252\n",
            "Epoch 221/500\n",
            "2/2 [==============================] - 0s 10ms/step - loss: 28.1059 - mse: 1211.7167\n",
            "Epoch 222/500\n",
            "2/2 [==============================] - 0s 7ms/step - loss: 15.1142 - mse: 347.7973\n",
            "Epoch 223/500\n",
            "2/2 [==============================] - 0s 9ms/step - loss: 7.5610 - mse: 94.4011\n",
            "Epoch 224/500\n",
            "2/2 [==============================] - 0s 8ms/step - loss: 26.8300 - mse: 1010.0146\n",
            "Epoch 225/500\n",
            "2/2 [==============================] - 0s 9ms/step - loss: 12.2356 - mse: 233.0314\n",
            "Epoch 226/500\n",
            "2/2 [==============================] - 0s 9ms/step - loss: 9.5357 - mse: 130.3301\n",
            "Epoch 227/500\n",
            "2/2 [==============================] - 0s 9ms/step - loss: 11.2122 - mse: 172.7314\n",
            "Epoch 228/500\n",
            "2/2 [==============================] - 0s 9ms/step - loss: 9.4934 - mse: 117.1425\n",
            "Epoch 229/500\n",
            "2/2 [==============================] - 0s 11ms/step - loss: 17.3659 - mse: 445.5213\n",
            "Epoch 230/500\n",
            "2/2 [==============================] - 0s 11ms/step - loss: 8.5733 - mse: 103.6156\n",
            "Epoch 231/500\n",
            "2/2 [==============================] - 0s 9ms/step - loss: 8.3506 - mse: 110.2750\n",
            "Epoch 232/500\n",
            "2/2 [==============================] - 0s 13ms/step - loss: 9.0468 - mse: 101.1315\n",
            "Epoch 233/500\n",
            "2/2 [==============================] - 0s 11ms/step - loss: 19.1259 - mse: 572.8116\n",
            "Epoch 234/500\n",
            "2/2 [==============================] - 0s 9ms/step - loss: 7.1731 - mse: 105.0751\n",
            "Epoch 235/500\n",
            "2/2 [==============================] - 0s 12ms/step - loss: 5.0214 - mse: 37.3155\n",
            "Epoch 236/500\n",
            "2/2 [==============================] - 0s 16ms/step - loss: 12.7545 - mse: 239.6429\n",
            "Epoch 237/500\n",
            "2/2 [==============================] - 0s 8ms/step - loss: 12.7819 - mse: 244.9435\n",
            "Epoch 238/500\n",
            "2/2 [==============================] - 0s 9ms/step - loss: 20.9768 - mse: 645.5082\n",
            "Epoch 239/500\n",
            "2/2 [==============================] - 0s 8ms/step - loss: 17.3350 - mse: 444.2261\n",
            "Epoch 240/500\n",
            "2/2 [==============================] - 0s 8ms/step - loss: 11.3441 - mse: 221.5228\n",
            "Epoch 241/500\n",
            "2/2 [==============================] - 0s 8ms/step - loss: 14.7700 - mse: 296.4727\n",
            "Epoch 242/500\n",
            "2/2 [==============================] - 0s 8ms/step - loss: 28.5687 - mse: 1150.8290\n",
            "Epoch 243/500\n",
            "2/2 [==============================] - 0s 8ms/step - loss: 7.3655 - mse: 68.8492\n",
            "Epoch 244/500\n",
            "2/2 [==============================] - 0s 7ms/step - loss: 10.9822 - mse: 165.5006\n",
            "Epoch 245/500\n",
            "2/2 [==============================] - 0s 16ms/step - loss: 16.4824 - mse: 410.6262\n",
            "Epoch 246/500\n",
            "2/2 [==============================] - 0s 10ms/step - loss: 13.2443 - mse: 244.3748\n",
            "Epoch 247/500\n",
            "2/2 [==============================] - 0s 14ms/step - loss: 16.5401 - mse: 386.3341\n",
            "Epoch 248/500\n",
            "2/2 [==============================] - 0s 14ms/step - loss: 17.8463 - mse: 453.7066\n",
            "Epoch 249/500\n",
            "2/2 [==============================] - 0s 17ms/step - loss: 6.3467 - mse: 65.0719\n",
            "Epoch 250/500\n",
            "2/2 [==============================] - 0s 7ms/step - loss: 21.7120 - mse: 691.5522\n",
            "Epoch 251/500\n",
            "2/2 [==============================] - 0s 11ms/step - loss: 12.7412 - mse: 242.7828\n",
            "Epoch 252/500\n",
            "2/2 [==============================] - 0s 9ms/step - loss: 9.0283 - mse: 120.6673\n",
            "Epoch 253/500\n",
            "2/2 [==============================] - 0s 9ms/step - loss: 18.0453 - mse: 493.6269\n",
            "Epoch 254/500\n",
            "2/2 [==============================] - 0s 12ms/step - loss: 10.2898 - mse: 149.9387\n",
            "Epoch 255/500\n",
            "2/2 [==============================] - 0s 9ms/step - loss: 8.3366 - mse: 95.7371\n",
            "Epoch 256/500\n",
            "2/2 [==============================] - 0s 10ms/step - loss: 15.7554 - mse: 376.4420\n",
            "Epoch 257/500\n",
            "2/2 [==============================] - 0s 13ms/step - loss: 9.1890 - mse: 121.5220\n",
            "Epoch 258/500\n",
            "2/2 [==============================] - 0s 10ms/step - loss: 17.2538 - mse: 419.5486\n",
            "Epoch 259/500\n",
            "2/2 [==============================] - 0s 10ms/step - loss: 6.6402 - mse: 78.3528\n",
            "Epoch 260/500\n",
            "2/2 [==============================] - 0s 16ms/step - loss: 9.3807 - mse: 196.8559\n",
            "Epoch 261/500\n",
            "2/2 [==============================] - 0s 19ms/step - loss: 20.1134 - mse: 592.7101\n",
            "Epoch 262/500\n",
            "2/2 [==============================] - 0s 9ms/step - loss: 37.8354 - mse: 2101.0454\n",
            "Epoch 263/500\n",
            "2/2 [==============================] - 0s 11ms/step - loss: 9.8259 - mse: 128.6342\n",
            "Epoch 264/500\n",
            "2/2 [==============================] - 0s 9ms/step - loss: 11.8726 - mse: 221.9110\n",
            "Epoch 265/500\n",
            "2/2 [==============================] - 0s 10ms/step - loss: 23.9266 - mse: 809.9194\n",
            "Epoch 266/500\n",
            "2/2 [==============================] - 0s 9ms/step - loss: 20.6786 - mse: 613.3461\n",
            "Epoch 267/500\n",
            "2/2 [==============================] - 0s 8ms/step - loss: 6.9433 - mse: 83.0424\n",
            "Epoch 268/500\n",
            "2/2 [==============================] - 0s 8ms/step - loss: 7.3391 - mse: 62.3173\n",
            "Epoch 269/500\n",
            "2/2 [==============================] - 0s 20ms/step - loss: 38.1901 - mse: 2309.6890\n",
            "Epoch 270/500\n",
            "2/2 [==============================] - 0s 10ms/step - loss: 16.3146 - mse: 396.4354\n",
            "Epoch 271/500\n",
            "2/2 [==============================] - 0s 5ms/step - loss: 11.2579 - mse: 196.5179\n",
            "Epoch 272/500\n",
            "2/2 [==============================] - 0s 5ms/step - loss: 14.1744 - mse: 269.0770\n",
            "Epoch 273/500\n",
            "2/2 [==============================] - 0s 18ms/step - loss: 23.3563 - mse: 784.3618\n",
            "Epoch 274/500\n",
            "2/2 [==============================] - 0s 8ms/step - loss: 22.1186 - mse: 739.2037\n",
            "Epoch 275/500\n",
            "2/2 [==============================] - 0s 16ms/step - loss: 7.5689 - mse: 70.4409\n",
            "Epoch 276/500\n",
            "2/2 [==============================] - 0s 12ms/step - loss: 9.6033 - mse: 129.6833\n",
            "Epoch 277/500\n",
            "2/2 [==============================] - 0s 10ms/step - loss: 17.9703 - mse: 458.0736\n",
            "Epoch 278/500\n",
            "2/2 [==============================] - 0s 11ms/step - loss: 14.2674 - mse: 320.6734\n",
            "Epoch 279/500\n",
            "2/2 [==============================] - 0s 16ms/step - loss: 17.1753 - mse: 436.6625\n",
            "Epoch 280/500\n",
            "2/2 [==============================] - 0s 7ms/step - loss: 6.6624 - mse: 66.8824\n",
            "Epoch 281/500\n",
            "2/2 [==============================] - 0s 6ms/step - loss: 20.6500 - mse: 632.7357\n",
            "Epoch 282/500\n",
            "2/2 [==============================] - 0s 8ms/step - loss: 7.9170 - mse: 97.9927\n",
            "Epoch 283/500\n",
            "2/2 [==============================] - 0s 14ms/step - loss: 15.4337 - mse: 339.9669\n",
            "Epoch 284/500\n",
            "2/2 [==============================] - 0s 10ms/step - loss: 10.6844 - mse: 211.8465\n",
            "Epoch 285/500\n",
            "2/2 [==============================] - 0s 15ms/step - loss: 30.7165 - mse: 1262.9137\n",
            "Epoch 286/500\n",
            "2/2 [==============================] - 0s 13ms/step - loss: 4.9475 - mse: 41.2027\n",
            "Epoch 287/500\n",
            "2/2 [==============================] - 0s 13ms/step - loss: 11.0796 - mse: 208.9339\n",
            "Epoch 288/500\n",
            "2/2 [==============================] - 0s 8ms/step - loss: 12.0797 - mse: 237.2163\n",
            "Epoch 289/500\n",
            "2/2 [==============================] - 0s 16ms/step - loss: 17.7340 - mse: 486.7147\n",
            "Epoch 290/500\n",
            "2/2 [==============================] - 0s 14ms/step - loss: 24.2461 - mse: 877.4824\n",
            "Epoch 291/500\n",
            "2/2 [==============================] - 0s 7ms/step - loss: 19.7502 - mse: 559.3151\n",
            "Epoch 292/500\n",
            "2/2 [==============================] - 0s 13ms/step - loss: 13.1789 - mse: 254.5677\n",
            "Epoch 293/500\n",
            "2/2 [==============================] - 0s 7ms/step - loss: 9.8361 - mse: 221.7960\n",
            "Epoch 294/500\n",
            "2/2 [==============================] - 0s 11ms/step - loss: 18.0231 - mse: 471.6520\n",
            "Epoch 295/500\n",
            "2/2 [==============================] - 0s 17ms/step - loss: 17.5458 - mse: 457.1952\n",
            "Epoch 296/500\n",
            "2/2 [==============================] - 0s 6ms/step - loss: 13.6376 - mse: 272.6606\n",
            "Epoch 297/500\n",
            "2/2 [==============================] - 0s 5ms/step - loss: 28.3855 - mse: 1117.8273\n",
            "Epoch 298/500\n",
            "2/2 [==============================] - 0s 5ms/step - loss: 6.8038 - mse: 64.1339\n",
            "Epoch 299/500\n",
            "2/2 [==============================] - 0s 7ms/step - loss: 16.5510 - mse: 399.2621\n",
            "Epoch 300/500\n",
            "2/2 [==============================] - 0s 5ms/step - loss: 13.8118 - mse: 273.4315\n",
            "Epoch 301/500\n",
            "2/2 [==============================] - 0s 11ms/step - loss: 18.6056 - mse: 545.1442\n",
            "Epoch 302/500\n",
            "2/2 [==============================] - 0s 7ms/step - loss: 15.5805 - mse: 349.0698\n",
            "Epoch 303/500\n",
            "2/2 [==============================] - 0s 6ms/step - loss: 13.1212 - mse: 267.6500\n",
            "Epoch 304/500\n",
            "2/2 [==============================] - 0s 5ms/step - loss: 17.9409 - mse: 500.1238\n",
            "Epoch 305/500\n",
            "2/2 [==============================] - 0s 6ms/step - loss: 15.8888 - mse: 346.7919\n",
            "Epoch 306/500\n",
            "2/2 [==============================] - 0s 6ms/step - loss: 17.6490 - mse: 453.5473\n",
            "Epoch 307/500\n",
            "2/2 [==============================] - 0s 6ms/step - loss: 18.8004 - mse: 528.9760\n",
            "Epoch 308/500\n",
            "2/2 [==============================] - 0s 5ms/step - loss: 7.6549 - mse: 78.2565\n",
            "Epoch 309/500\n",
            "2/2 [==============================] - 0s 5ms/step - loss: 12.3059 - mse: 239.5430\n",
            "Epoch 310/500\n",
            "2/2 [==============================] - 0s 8ms/step - loss: 7.9091 - mse: 100.6657\n",
            "Epoch 311/500\n",
            "2/2 [==============================] - 0s 7ms/step - loss: 13.2865 - mse: 274.4326\n",
            "Epoch 312/500\n",
            "2/2 [==============================] - 0s 7ms/step - loss: 15.1533 - mse: 307.9780\n",
            "Epoch 313/500\n",
            "2/2 [==============================] - 0s 7ms/step - loss: 23.6265 - mse: 811.8387\n",
            "Epoch 314/500\n",
            "2/2 [==============================] - 0s 6ms/step - loss: 17.5449 - mse: 451.1452\n",
            "Epoch 315/500\n",
            "2/2 [==============================] - 0s 6ms/step - loss: 7.0877 - mse: 85.7620\n",
            "Epoch 316/500\n",
            "2/2 [==============================] - 0s 6ms/step - loss: 7.3161 - mse: 98.9376\n",
            "Epoch 317/500\n",
            "2/2 [==============================] - 0s 5ms/step - loss: 23.9175 - mse: 814.5521\n",
            "Epoch 318/500\n",
            "2/2 [==============================] - 0s 7ms/step - loss: 6.5367 - mse: 54.5921\n",
            "Epoch 319/500\n",
            "2/2 [==============================] - 0s 6ms/step - loss: 4.8924 - mse: 38.7163\n",
            "Epoch 320/500\n",
            "2/2 [==============================] - 0s 5ms/step - loss: 22.5086 - mse: 731.5954\n",
            "Epoch 321/500\n",
            "2/2 [==============================] - 0s 5ms/step - loss: 9.2452 - mse: 226.2426\n",
            "Epoch 322/500\n",
            "2/2 [==============================] - 0s 5ms/step - loss: 25.8886 - mse: 970.3594\n",
            "Epoch 323/500\n",
            "2/2 [==============================] - 0s 6ms/step - loss: 8.5480 - mse: 100.4768\n",
            "Epoch 324/500\n",
            "2/2 [==============================] - 0s 5ms/step - loss: 16.3610 - mse: 387.5126\n",
            "Epoch 325/500\n",
            "2/2 [==============================] - 0s 9ms/step - loss: 5.7419 - mse: 41.1871\n",
            "Epoch 326/500\n",
            "2/2 [==============================] - 0s 5ms/step - loss: 27.4612 - mse: 1096.4307\n",
            "Epoch 327/500\n",
            "2/2 [==============================] - 0s 6ms/step - loss: 15.6121 - mse: 376.3993\n",
            "Epoch 328/500\n",
            "2/2 [==============================] - 0s 5ms/step - loss: 7.0326 - mse: 104.9574\n",
            "Epoch 329/500\n",
            "2/2 [==============================] - 0s 6ms/step - loss: 12.5347 - mse: 293.4152\n",
            "Epoch 330/500\n",
            "2/2 [==============================] - 0s 6ms/step - loss: 14.1818 - mse: 274.6618\n",
            "Epoch 331/500\n",
            "2/2 [==============================] - 0s 5ms/step - loss: 22.3464 - mse: 729.2238\n",
            "Epoch 332/500\n",
            "2/2 [==============================] - 0s 5ms/step - loss: 23.3742 - mse: 761.1107\n",
            "Epoch 333/500\n",
            "2/2 [==============================] - 0s 8ms/step - loss: 9.2908 - mse: 140.1962\n",
            "Epoch 334/500\n",
            "2/2 [==============================] - 0s 5ms/step - loss: 8.6870 - mse: 154.4222\n",
            "Epoch 335/500\n",
            "2/2 [==============================] - 0s 6ms/step - loss: 12.2687 - mse: 233.7602\n",
            "Epoch 336/500\n",
            "2/2 [==============================] - 0s 5ms/step - loss: 17.6280 - mse: 451.0689\n",
            "Epoch 337/500\n",
            "2/2 [==============================] - 0s 5ms/step - loss: 37.1273 - mse: 2239.8860\n",
            "Epoch 338/500\n",
            "2/2 [==============================] - 0s 6ms/step - loss: 13.7252 - mse: 300.2942\n",
            "Epoch 339/500\n",
            "2/2 [==============================] - 0s 6ms/step - loss: 8.9613 - mse: 143.2292\n",
            "Epoch 340/500\n",
            "2/2 [==============================] - 0s 6ms/step - loss: 15.4855 - mse: 310.1138\n",
            "Epoch 341/500\n",
            "2/2 [==============================] - 0s 5ms/step - loss: 15.4661 - mse: 339.1401\n",
            "Epoch 342/500\n",
            "2/2 [==============================] - 0s 5ms/step - loss: 25.4706 - mse: 928.9268\n",
            "Epoch 343/500\n",
            "2/2 [==============================] - 0s 5ms/step - loss: 11.0350 - mse: 199.9780\n",
            "Epoch 344/500\n",
            "2/2 [==============================] - 0s 5ms/step - loss: 7.4857 - mse: 75.2764\n",
            "Epoch 345/500\n",
            "2/2 [==============================] - 0s 5ms/step - loss: 18.3084 - mse: 499.3708\n",
            "Epoch 346/500\n",
            "2/2 [==============================] - 0s 6ms/step - loss: 8.1250 - mse: 133.6275\n",
            "Epoch 347/500\n",
            "2/2 [==============================] - 0s 5ms/step - loss: 23.7830 - mse: 814.3245\n",
            "Epoch 348/500\n",
            "2/2 [==============================] - 0s 6ms/step - loss: 13.6704 - mse: 299.5737\n",
            "Epoch 349/500\n",
            "2/2 [==============================] - 0s 6ms/step - loss: 6.2238 - mse: 72.7659\n",
            "Epoch 350/500\n",
            "2/2 [==============================] - 0s 6ms/step - loss: 25.1871 - mse: 924.7231\n",
            "Epoch 351/500\n",
            "2/2 [==============================] - 0s 6ms/step - loss: 12.3132 - mse: 241.7516\n",
            "Epoch 352/500\n",
            "2/2 [==============================] - 0s 6ms/step - loss: 12.0864 - mse: 243.1094\n",
            "Epoch 353/500\n",
            "2/2 [==============================] - 0s 6ms/step - loss: 16.6914 - mse: 370.1413\n",
            "Epoch 354/500\n",
            "2/2 [==============================] - 0s 5ms/step - loss: 14.5464 - mse: 281.3967\n",
            "Epoch 355/500\n",
            "2/2 [==============================] - 0s 6ms/step - loss: 13.9339 - mse: 268.6311\n",
            "Epoch 356/500\n",
            "2/2 [==============================] - 0s 5ms/step - loss: 25.5549 - mse: 959.3216\n",
            "Epoch 357/500\n",
            "2/2 [==============================] - 0s 6ms/step - loss: 8.2323 - mse: 112.0382\n",
            "Epoch 358/500\n",
            "2/2 [==============================] - 0s 6ms/step - loss: 19.9406 - mse: 587.0469\n",
            "Epoch 359/500\n",
            "2/2 [==============================] - 0s 6ms/step - loss: 14.4041 - mse: 307.3161\n",
            "Epoch 360/500\n",
            "2/2 [==============================] - 0s 5ms/step - loss: 14.0522 - mse: 274.4073\n",
            "Epoch 361/500\n",
            "2/2 [==============================] - 0s 6ms/step - loss: 16.3647 - mse: 413.7768\n",
            "Epoch 362/500\n",
            "2/2 [==============================] - 0s 6ms/step - loss: 7.4557 - mse: 105.0000\n",
            "Epoch 363/500\n",
            "2/2 [==============================] - 0s 6ms/step - loss: 18.0348 - mse: 481.2929\n",
            "Epoch 364/500\n",
            "2/2 [==============================] - 0s 6ms/step - loss: 8.5074 - mse: 111.9970\n",
            "Epoch 365/500\n",
            "2/2 [==============================] - 0s 7ms/step - loss: 7.6557 - mse: 104.1454\n",
            "Epoch 366/500\n",
            "2/2 [==============================] - 0s 7ms/step - loss: 15.4524 - mse: 364.0114\n",
            "Epoch 367/500\n",
            "2/2 [==============================] - 0s 7ms/step - loss: 4.8598 - mse: 39.4910\n",
            "Epoch 368/500\n",
            "2/2 [==============================] - 0s 6ms/step - loss: 30.5961 - mse: 1420.9050\n",
            "Epoch 369/500\n",
            "2/2 [==============================] - 0s 6ms/step - loss: 7.3983 - mse: 79.6800\n",
            "Epoch 370/500\n",
            "2/2 [==============================] - 0s 6ms/step - loss: 6.9235 - mse: 62.7464\n",
            "Epoch 371/500\n",
            "2/2 [==============================] - 0s 5ms/step - loss: 36.5450 - mse: 2139.6953\n",
            "Epoch 372/500\n",
            "2/2 [==============================] - 0s 6ms/step - loss: 10.5817 - mse: 198.9253\n",
            "Epoch 373/500\n",
            "2/2 [==============================] - 0s 7ms/step - loss: 12.7029 - mse: 231.8728\n",
            "Epoch 374/500\n",
            "2/2 [==============================] - 0s 6ms/step - loss: 27.2201 - mse: 1030.5664\n",
            "Epoch 375/500\n",
            "2/2 [==============================] - 0s 7ms/step - loss: 10.3143 - mse: 190.7063\n",
            "Epoch 376/500\n",
            "2/2 [==============================] - 0s 6ms/step - loss: 7.1697 - mse: 73.6286\n",
            "Epoch 377/500\n",
            "2/2 [==============================] - 0s 7ms/step - loss: 20.7125 - mse: 630.6838\n",
            "Epoch 378/500\n",
            "2/2 [==============================] - 0s 5ms/step - loss: 11.5786 - mse: 239.5614\n",
            "Epoch 379/500\n",
            "2/2 [==============================] - 0s 6ms/step - loss: 5.9483 - mse: 63.4107\n",
            "Epoch 380/500\n",
            "2/2 [==============================] - 0s 6ms/step - loss: 8.4155 - mse: 111.8418\n",
            "Epoch 381/500\n",
            "2/2 [==============================] - 0s 8ms/step - loss: 12.5964 - mse: 224.9159\n",
            "Epoch 382/500\n",
            "2/2 [==============================] - 0s 6ms/step - loss: 10.1684 - mse: 227.3376\n",
            "Epoch 383/500\n",
            "2/2 [==============================] - 0s 5ms/step - loss: 19.8087 - mse: 603.2601\n",
            "Epoch 384/500\n",
            "2/2 [==============================] - 0s 6ms/step - loss: 26.4152 - mse: 1099.5519\n",
            "Epoch 385/500\n",
            "2/2 [==============================] - 0s 6ms/step - loss: 16.1001 - mse: 393.3727\n",
            "Epoch 386/500\n",
            "2/2 [==============================] - 0s 6ms/step - loss: 10.9459 - mse: 193.9639\n",
            "Epoch 387/500\n",
            "2/2 [==============================] - 0s 6ms/step - loss: 8.8548 - mse: 129.5384\n",
            "Epoch 388/500\n",
            "2/2 [==============================] - 0s 5ms/step - loss: 8.2940 - mse: 191.5903\n",
            "Epoch 389/500\n",
            "2/2 [==============================] - 0s 6ms/step - loss: 15.3889 - mse: 362.3624\n",
            "Epoch 390/500\n",
            "2/2 [==============================] - 0s 6ms/step - loss: 11.4796 - mse: 207.2949\n",
            "Epoch 391/500\n",
            "2/2 [==============================] - 0s 6ms/step - loss: 11.5306 - mse: 212.8779\n",
            "Epoch 392/500\n",
            "2/2 [==============================] - 0s 6ms/step - loss: 19.7106 - mse: 588.6329\n",
            "Epoch 393/500\n",
            "2/2 [==============================] - 0s 6ms/step - loss: 11.9158 - mse: 235.9845\n",
            "Epoch 394/500\n",
            "2/2 [==============================] - 0s 6ms/step - loss: 28.3162 - mse: 1158.4119\n",
            "Epoch 395/500\n",
            "2/2 [==============================] - 0s 6ms/step - loss: 5.3656 - mse: 55.9823\n",
            "Epoch 396/500\n",
            "2/2 [==============================] - 0s 7ms/step - loss: 15.6152 - mse: 358.1909\n",
            "Epoch 397/500\n",
            "2/2 [==============================] - 0s 7ms/step - loss: 11.0232 - mse: 266.3232\n",
            "Epoch 398/500\n",
            "2/2 [==============================] - 0s 7ms/step - loss: 12.6767 - mse: 250.7455\n",
            "Epoch 399/500\n",
            "2/2 [==============================] - 0s 6ms/step - loss: 14.5825 - mse: 284.4402\n",
            "Epoch 400/500\n",
            "2/2 [==============================] - 0s 7ms/step - loss: 27.5828 - mse: 1048.3876\n",
            "Epoch 401/500\n",
            "2/2 [==============================] - 0s 6ms/step - loss: 11.5468 - mse: 205.3914\n",
            "Epoch 402/500\n",
            "2/2 [==============================] - 0s 6ms/step - loss: 13.3241 - mse: 268.2623\n",
            "Epoch 403/500\n",
            "2/2 [==============================] - 0s 6ms/step - loss: 19.2546 - mse: 583.1434\n",
            "Epoch 404/500\n",
            "2/2 [==============================] - 0s 5ms/step - loss: 14.8588 - mse: 297.3403\n",
            "Epoch 405/500\n",
            "2/2 [==============================] - 0s 5ms/step - loss: 21.0224 - mse: 707.4860\n",
            "Epoch 406/500\n",
            "2/2 [==============================] - 0s 5ms/step - loss: 15.7028 - mse: 364.8921\n",
            "Epoch 407/500\n",
            "2/2 [==============================] - 0s 5ms/step - loss: 12.4212 - mse: 273.8784\n",
            "Epoch 408/500\n",
            "2/2 [==============================] - 0s 4ms/step - loss: 18.7311 - mse: 533.3852\n",
            "Epoch 409/500\n",
            "2/2 [==============================] - 0s 5ms/step - loss: 8.0848 - mse: 172.0293\n",
            "Epoch 410/500\n",
            "2/2 [==============================] - 0s 5ms/step - loss: 17.6389 - mse: 459.8750\n",
            "Epoch 411/500\n",
            "2/2 [==============================] - 0s 4ms/step - loss: 18.0089 - mse: 477.1913\n",
            "Epoch 412/500\n",
            "2/2 [==============================] - 0s 4ms/step - loss: 11.4472 - mse: 198.7128\n",
            "Epoch 413/500\n",
            "2/2 [==============================] - 0s 5ms/step - loss: 13.6556 - mse: 256.2937\n",
            "Epoch 414/500\n",
            "2/2 [==============================] - 0s 5ms/step - loss: 26.6679 - mse: 989.3247\n",
            "Epoch 415/500\n",
            "2/2 [==============================] - 0s 5ms/step - loss: 15.2064 - mse: 349.1228\n",
            "Epoch 416/500\n",
            "2/2 [==============================] - 0s 4ms/step - loss: 6.0497 - mse: 50.4752\n",
            "Epoch 417/500\n",
            "2/2 [==============================] - 0s 4ms/step - loss: 14.1764 - mse: 339.9761\n",
            "Epoch 418/500\n",
            "2/2 [==============================] - 0s 5ms/step - loss: 7.3845 - mse: 89.8502\n",
            "Epoch 419/500\n",
            "2/2 [==============================] - 0s 5ms/step - loss: 25.3856 - mse: 882.1286\n",
            "Epoch 420/500\n",
            "2/2 [==============================] - 0s 6ms/step - loss: 11.2353 - mse: 211.8863\n",
            "Epoch 421/500\n",
            "2/2 [==============================] - 0s 5ms/step - loss: 12.3188 - mse: 283.2322\n",
            "Epoch 422/500\n",
            "2/2 [==============================] - 0s 5ms/step - loss: 20.3313 - mse: 608.1555\n",
            "Epoch 423/500\n",
            "2/2 [==============================] - 0s 4ms/step - loss: 21.3528 - mse: 656.3021\n",
            "Epoch 424/500\n",
            "2/2 [==============================] - 0s 5ms/step - loss: 14.3688 - mse: 324.1167\n",
            "Epoch 425/500\n",
            "2/2 [==============================] - 0s 6ms/step - loss: 5.3817 - mse: 67.0589\n",
            "Epoch 426/500\n",
            "2/2 [==============================] - 0s 5ms/step - loss: 25.6183 - mse: 919.6608\n",
            "Epoch 427/500\n",
            "2/2 [==============================] - 0s 5ms/step - loss: 16.8311 - mse: 406.6122\n",
            "Epoch 428/500\n",
            "2/2 [==============================] - 0s 5ms/step - loss: 6.3777 - mse: 59.0004\n",
            "Epoch 429/500\n",
            "2/2 [==============================] - 0s 4ms/step - loss: 26.7271 - mse: 1075.3094\n",
            "Epoch 430/500\n",
            "2/2 [==============================] - 0s 5ms/step - loss: 6.9495 - mse: 70.5397\n",
            "Epoch 431/500\n",
            "2/2 [==============================] - 0s 6ms/step - loss: 20.4203 - mse: 595.9050\n",
            "Epoch 432/500\n",
            "2/2 [==============================] - 0s 5ms/step - loss: 20.1142 - mse: 564.9559\n",
            "Epoch 433/500\n",
            "2/2 [==============================] - 0s 4ms/step - loss: 13.8868 - mse: 305.5370\n",
            "Epoch 434/500\n",
            "2/2 [==============================] - 0s 6ms/step - loss: 9.7712 - mse: 262.3904\n",
            "Epoch 435/500\n",
            "2/2 [==============================] - 0s 6ms/step - loss: 16.8737 - mse: 424.6109\n",
            "Epoch 436/500\n",
            "2/2 [==============================] - 0s 5ms/step - loss: 13.3732 - mse: 261.1829\n",
            "Epoch 437/500\n",
            "2/2 [==============================] - 0s 9ms/step - loss: 17.3322 - mse: 471.4772\n",
            "Epoch 438/500\n",
            "2/2 [==============================] - 0s 9ms/step - loss: 7.4998 - mse: 96.9236\n",
            "Epoch 439/500\n",
            "2/2 [==============================] - 0s 8ms/step - loss: 8.7401 - mse: 138.2617\n",
            "Epoch 440/500\n",
            "2/2 [==============================] - 0s 5ms/step - loss: 5.2454 - mse: 75.2748\n",
            "Epoch 441/500\n",
            "2/2 [==============================] - 0s 6ms/step - loss: 6.3895 - mse: 63.0778\n",
            "Epoch 442/500\n",
            "2/2 [==============================] - 0s 6ms/step - loss: 13.8507 - mse: 308.6053\n",
            "Epoch 443/500\n",
            "2/2 [==============================] - 0s 5ms/step - loss: 12.5079 - mse: 207.7967\n",
            "Epoch 444/500\n",
            "2/2 [==============================] - 0s 6ms/step - loss: 18.0447 - mse: 499.3798\n",
            "Epoch 445/500\n",
            "2/2 [==============================] - 0s 6ms/step - loss: 28.2952 - mse: 1179.3982\n",
            "Epoch 446/500\n",
            "2/2 [==============================] - 0s 5ms/step - loss: 11.1689 - mse: 246.8321\n",
            "Epoch 447/500\n",
            "2/2 [==============================] - 0s 5ms/step - loss: 14.6192 - mse: 287.8876\n",
            "Epoch 448/500\n",
            "2/2 [==============================] - 0s 6ms/step - loss: 14.6162 - mse: 306.7736\n",
            "Epoch 449/500\n",
            "2/2 [==============================] - 0s 6ms/step - loss: 22.4820 - mse: 717.9265\n",
            "Epoch 450/500\n",
            "2/2 [==============================] - 0s 6ms/step - loss: 26.5900 - mse: 1001.3557\n",
            "Epoch 451/500\n",
            "2/2 [==============================] - 0s 5ms/step - loss: 9.5658 - mse: 156.1038\n",
            "Epoch 452/500\n",
            "2/2 [==============================] - 0s 5ms/step - loss: 13.6206 - mse: 261.1908\n",
            "Epoch 453/500\n",
            "2/2 [==============================] - 0s 4ms/step - loss: 16.9748 - mse: 404.7790\n",
            "Epoch 454/500\n",
            "2/2 [==============================] - 0s 5ms/step - loss: 12.9859 - mse: 234.7257\n",
            "Epoch 455/500\n",
            "2/2 [==============================] - 0s 5ms/step - loss: 17.4423 - mse: 462.1391\n",
            "Epoch 456/500\n",
            "2/2 [==============================] - 0s 6ms/step - loss: 9.5812 - mse: 231.6757\n",
            "Epoch 457/500\n",
            "2/2 [==============================] - 0s 5ms/step - loss: 16.2332 - mse: 404.4627\n",
            "Epoch 458/500\n",
            "2/2 [==============================] - 0s 5ms/step - loss: 12.5546 - mse: 220.9142\n",
            "Epoch 459/500\n",
            "2/2 [==============================] - 0s 5ms/step - loss: 12.9200 - mse: 235.8235\n",
            "Epoch 460/500\n",
            "2/2 [==============================] - 0s 5ms/step - loss: 16.8517 - mse: 463.1603\n",
            "Epoch 461/500\n",
            "2/2 [==============================] - 0s 6ms/step - loss: 49.4408 - mse: 3946.4507\n",
            "Epoch 462/500\n",
            "2/2 [==============================] - 0s 5ms/step - loss: 6.4858 - mse: 75.6835\n",
            "Epoch 463/500\n",
            "2/2 [==============================] - 0s 5ms/step - loss: 11.2976 - mse: 224.5507\n",
            "Epoch 464/500\n",
            "2/2 [==============================] - 0s 6ms/step - loss: 8.2402 - mse: 177.4299\n",
            "Epoch 465/500\n",
            "2/2 [==============================] - 0s 8ms/step - loss: 14.7471 - mse: 290.1136\n",
            "Epoch 466/500\n",
            "2/2 [==============================] - 0s 5ms/step - loss: 20.2498 - mse: 639.3826\n",
            "Epoch 467/500\n",
            "2/2 [==============================] - 0s 9ms/step - loss: 28.9641 - mse: 1259.3182\n",
            "Epoch 468/500\n",
            "2/2 [==============================] - 0s 8ms/step - loss: 22.0266 - mse: 701.3005\n",
            "Epoch 469/500\n",
            "2/2 [==============================] - 0s 5ms/step - loss: 6.3015 - mse: 85.7195\n",
            "Epoch 470/500\n",
            "2/2 [==============================] - 0s 5ms/step - loss: 12.5485 - mse: 271.5504\n",
            "Epoch 471/500\n",
            "2/2 [==============================] - 0s 5ms/step - loss: 6.0809 - mse: 63.6000\n",
            "Epoch 472/500\n",
            "2/2 [==============================] - 0s 5ms/step - loss: 10.1517 - mse: 185.2222\n",
            "Epoch 473/500\n",
            "2/2 [==============================] - 0s 6ms/step - loss: 10.1354 - mse: 313.7645\n",
            "Epoch 474/500\n",
            "2/2 [==============================] - 0s 5ms/step - loss: 18.4860 - mse: 541.7526\n",
            "Epoch 475/500\n",
            "2/2 [==============================] - 0s 4ms/step - loss: 6.2778 - mse: 65.5648\n",
            "Epoch 476/500\n",
            "2/2 [==============================] - 0s 7ms/step - loss: 30.9184 - mse: 1470.9535\n",
            "Epoch 477/500\n",
            "2/2 [==============================] - 0s 5ms/step - loss: 6.1755 - mse: 58.3976\n",
            "Epoch 478/500\n",
            "2/2 [==============================] - 0s 4ms/step - loss: 21.7010 - mse: 677.9534\n",
            "Epoch 479/500\n",
            "2/2 [==============================] - 0s 5ms/step - loss: 8.2855 - mse: 165.5552\n",
            "Epoch 480/500\n",
            "2/2 [==============================] - 0s 4ms/step - loss: 14.2755 - mse: 304.6708\n",
            "Epoch 481/500\n",
            "2/2 [==============================] - 0s 4ms/step - loss: 22.9811 - mse: 818.9440\n",
            "Epoch 482/500\n",
            "2/2 [==============================] - 0s 7ms/step - loss: 18.9159 - mse: 532.4137\n",
            "Epoch 483/500\n",
            "2/2 [==============================] - 0s 4ms/step - loss: 4.8194 - mse: 37.2437\n",
            "Epoch 484/500\n",
            "2/2 [==============================] - 0s 5ms/step - loss: 30.4526 - mse: 1388.8274\n",
            "Epoch 485/500\n",
            "2/2 [==============================] - 0s 9ms/step - loss: 4.1494 - mse: 38.5292\n",
            "Epoch 486/500\n",
            "2/2 [==============================] - 0s 6ms/step - loss: 13.1295 - mse: 243.4696\n",
            "Epoch 487/500\n",
            "2/2 [==============================] - 0s 7ms/step - loss: 14.7915 - mse: 305.3723\n",
            "Epoch 488/500\n",
            "2/2 [==============================] - 0s 7ms/step - loss: 19.8636 - mse: 599.3281\n",
            "Epoch 489/500\n",
            "2/2 [==============================] - 0s 7ms/step - loss: 23.3713 - mse: 804.4923\n",
            "Epoch 490/500\n",
            "2/2 [==============================] - 0s 5ms/step - loss: 12.9354 - mse: 242.2549\n",
            "Epoch 491/500\n",
            "2/2 [==============================] - 0s 6ms/step - loss: 29.7366 - mse: 1259.6316\n",
            "Epoch 492/500\n",
            "2/2 [==============================] - 0s 11ms/step - loss: 8.4981 - mse: 252.6886\n",
            "Epoch 493/500\n",
            "2/2 [==============================] - 0s 5ms/step - loss: 21.5098 - mse: 712.6293\n",
            "Epoch 494/500\n",
            "2/2 [==============================] - 0s 6ms/step - loss: 14.1282 - mse: 314.7635\n",
            "Epoch 495/500\n",
            "2/2 [==============================] - 0s 6ms/step - loss: 8.8536 - mse: 246.1420\n",
            "Epoch 496/500\n",
            "2/2 [==============================] - 0s 5ms/step - loss: 15.0360 - mse: 308.8058\n",
            "Epoch 497/500\n",
            "2/2 [==============================] - 0s 5ms/step - loss: 15.5959 - mse: 335.4555\n",
            "Epoch 498/500\n",
            "2/2 [==============================] - 0s 6ms/step - loss: 16.2973 - mse: 417.3420\n",
            "Epoch 499/500\n",
            "2/2 [==============================] - 0s 7ms/step - loss: 13.8164 - mse: 264.2340\n",
            "Epoch 500/500\n",
            "2/2 [==============================] - 0s 7ms/step - loss: 19.5689 - mse: 582.4102\n"
          ]
        },
        {
          "output_type": "execute_result",
          "data": {
            "text/plain": [
              "<keras.callbacks.History at 0x7f3e69f06f40>"
            ]
          },
          "metadata": {},
          "execution_count": 33
        }
      ]
    },
    {
      "cell_type": "code",
      "source": [
        "# Evaluate model performance\n",
        "model_3.evaluate(X_val, y_val)"
      ],
      "metadata": {
        "id": "wVqbLCFbI9vG",
        "colab": {
          "base_uri": "https://localhost:8080/"
        },
        "outputId": "2192567f-90b5-4cad-cb1f-93a225a2910f"
      },
      "execution_count": 34,
      "outputs": [
        {
          "output_type": "stream",
          "name": "stdout",
          "text": [
            "1/1 [==============================] - 0s 161ms/step - loss: 45.9542 - mse: 2163.1768\n"
          ]
        },
        {
          "output_type": "execute_result",
          "data": {
            "text/plain": [
              "[45.954200744628906, 2163.1767578125]"
            ]
          },
          "metadata": {},
          "execution_count": 34
        }
      ]
    },
    {
      "cell_type": "code",
      "source": [
        "# Make predictions\n",
        "y_pred_3 = model_3.predict(X_val)"
      ],
      "metadata": {
        "id": "ybH-iej1I9sE",
        "colab": {
          "base_uri": "https://localhost:8080/"
        },
        "outputId": "c6df87cb-635d-4104-a7d0-b974f470c24d"
      },
      "execution_count": 35,
      "outputs": [
        {
          "output_type": "stream",
          "name": "stderr",
          "text": [
            "WARNING:tensorflow:6 out of the last 6 calls to <function Model.make_predict_function.<locals>.predict_function at 0x7f3e5ec5bb80> triggered tf.function retracing. Tracing is expensive and the excessive number of tracings could be due to (1) creating @tf.function repeatedly in a loop, (2) passing tensors with different shapes, (3) passing Python objects instead of tensors. For (1), please define your @tf.function outside of the loop. For (2), @tf.function has reduce_retracing=True option that can avoid unnecessary retracing. For (3), please refer to https://www.tensorflow.org/guide/function#controlling_retracing and https://www.tensorflow.org/api_docs/python/tf/function for  more details.\n"
          ]
        },
        {
          "output_type": "stream",
          "name": "stdout",
          "text": [
            "1/1 [==============================] - 0s 59ms/step\n"
          ]
        }
      ]
    },
    {
      "cell_type": "code",
      "source": [
        "mae_3 = mean_absolute_error(y_true=y_val, y_pred=y_pred_3)\n",
        "print(mae_3)\n",
        "\n",
        "mse_3 = mean_squared_error(y_true=y_val, y_pred=y_pred_3)\n",
        "mse_3"
      ],
      "metadata": {
        "id": "8jazhAyhI9pU",
        "colab": {
          "base_uri": "https://localhost:8080/"
        },
        "outputId": "dc8fa52d-f637-45e7-d863-d7425a55a06a"
      },
      "execution_count": 36,
      "outputs": [
        {
          "output_type": "stream",
          "name": "stdout",
          "text": [
            "tf.Tensor(46.0, shape=(), dtype=float16)\n"
          ]
        },
        {
          "output_type": "execute_result",
          "data": {
            "text/plain": [
              "<tf.Tensor: shape=(), dtype=float16, numpy=2166.0>"
            ]
          },
          "metadata": {},
          "execution_count": 36
        }
      ]
    },
    {
      "cell_type": "code",
      "source": [
        "# Visualize the predictions\n",
        "plot_prediction(y_predictions=y_pred_3)"
      ],
      "metadata": {
        "id": "KizMihEDI9l1",
        "colab": {
          "base_uri": "https://localhost:8080/",
          "height": 409
        },
        "outputId": "5e7c9ba9-3092-4813-f0c2-0a440e4c779c"
      },
      "execution_count": 37,
      "outputs": [
        {
          "output_type": "display_data",
          "data": {
            "text/plain": [
              "<Figure size 576x432 with 1 Axes>"
            ],
            "image/png": "[encoded data removed]"
          },
          "metadata": {
            "needs_background": "light"
          }
        }
      ]
    },
    {
      "cell_type": "markdown",
      "source": [
        "### Saving TensorFlow Models\n",
        "\n",
        "1. Using the dafault format: `model.save('my_model')`\n",
        "\n",
        "2. Using HDF5 format: `model.save('my_model.h5)`"
      ],
      "metadata": {
        "id": "OFkGHeb73IVy"
      }
    },
    {
      "cell_type": "code",
      "source": [
        "# Save model\n",
        "model_2.save(\"model_2\")"
      ],
      "metadata": {
        "id": "XYlpFRZvI9ib",
        "colab": {
          "base_uri": "https://localhost:8080/"
        },
        "outputId": "a9437bca-7856-49e4-ed6f-88ca2a8b1a36"
      },
      "execution_count": 38,
      "outputs": [
        {
          "output_type": "stream",
          "name": "stderr",
          "text": [
            "WARNING:absl:Found untraced functions such as _update_step_xla while saving (showing 1 of 1). These functions will not be directly callable after loading.\n"
          ]
        }
      ]
    },
    {
      "cell_type": "markdown",
      "source": [
        "### Load Model\n",
        "\n",
        "* `tf.keras.models.load_model('my_model')`"
      ],
      "metadata": {
        "id": "HSCeEdcsI9fR"
      }
    },
    {
      "cell_type": "code",
      "source": [
        "# Load the model\n",
        "loaded_model_2 = tf.keras.models.load_model(\"model_2\")"
      ],
      "metadata": {
        "id": "q42IQY_EI9cZ"
      },
      "execution_count": 39,
      "outputs": []
    },
    {
      "cell_type": "code",
      "source": [
        "# Verify that the models are the same!\n",
        "load_model_pred_2 = loaded_model_2.predict(X_val)\n",
        "\n",
        "y_pred_2 == load_model_pred_2"
      ],
      "metadata": {
        "id": "NiJLaRhGI9Wq",
        "colab": {
          "base_uri": "https://localhost:8080/"
        },
        "outputId": "b68ab7f7-e9ac-42aa-988d-5baf7e35b525"
      },
      "execution_count": 40,
      "outputs": [
        {
          "output_type": "stream",
          "name": "stdout",
          "text": [
            "1/1 [==============================] - 0s 63ms/step\n"
          ]
        },
        {
          "output_type": "execute_result",
          "data": {
            "text/plain": [
              "array([[ True],\n",
              "       [ True],\n",
              "       [ True],\n",
              "       [ True],\n",
              "       [ True],\n",
              "       [ True],\n",
              "       [ True],\n",
              "       [ True],\n",
              "       [ True],\n",
              "       [ True]])"
            ]
          },
          "metadata": {},
          "execution_count": 40
        }
      ]
    },
    {
      "cell_type": "code",
      "source": [],
      "metadata": {
        "id": "4bUE1rmhI9TQ"
      },
      "execution_count": 40,
      "outputs": []
    },
    {
      "cell_type": "code",
      "execution_count": 40,
      "metadata": {
        "id": "tXguO8jGtEgz"
      },
      "outputs": [],
      "source": []
    },
    {
      "cell_type": "code",
      "execution_count": 40,
      "metadata": {
        "id": "4PDwJKuktEgz"
      },
      "outputs": [],
      "source": []
    },
    {
      "cell_type": "code",
      "execution_count": 40,
      "metadata": {
        "id": "hgzKYEIRtEgz"
      },
      "outputs": [],
      "source": []
    },
    {
      "cell_type": "code",
      "execution_count": 40,
      "metadata": {
        "id": "6pjwEWDPtEgz"
      },
      "outputs": [],
      "source": []
    }
  ],
  "metadata": {
    "language_info": {
      "name": "python"
    },
    "orig_nbformat": 4,
    "colab": {
      "provenance": [],
      "include_colab_link": true
    },
    "kernelspec": {
      "name": "python3",
      "display_name": "Python 3"
    },
    "gpuClass": "standard"
  },
  "nbformat": 4,
  "nbformat_minor": 0
}