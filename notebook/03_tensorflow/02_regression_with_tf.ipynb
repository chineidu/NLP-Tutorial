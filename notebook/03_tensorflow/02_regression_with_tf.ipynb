{
  "cells": [
    {
      "cell_type": "markdown",
      "metadata": {
        "id": "view-in-github",
        "colab_type": "text"
      },
      "source": [
        "<a href=\"https://colab.research.google.com/github/chineidu/NLP-Tutorial/blob/main/notebook/03_tensorflow/02_regression_with_tf.ipynb\" target=\"_parent\"><img src=\"https://colab.research.google.com/assets/colab-badge.svg\" alt=\"Open In Colab\"/></a>"
      ]
    },
    {
      "cell_type": "markdown",
      "metadata": {
        "id": "YBL3ZU9ptEgt"
      },
      "source": [
        "# Regression With TensorFlow"
      ]
    },
    {
      "cell_type": "code",
      "execution_count": 1,
      "metadata": {
        "id": "L8l2Qmy4tEgv"
      },
      "outputs": [],
      "source": [
        "# Standard imports\n",
        "import numpy as np\n",
        "import pandas as pd\n",
        "import matplotlib.pyplot as plt\n",
        "import seaborn as sns\n",
        "\n",
        "import tensorflow as tf\n"
      ]
    },
    {
      "cell_type": "markdown",
      "source": [
        "### Create Data\n",
        "\n",
        "* This data will be used to train the neural network"
      ],
      "metadata": {
        "id": "8IcL3zlbtEgw"
      }
    },
    {
      "cell_type": "code",
      "execution_count": 2,
      "metadata": {
        "colab": {
          "base_uri": "https://localhost:8080/",
          "height": 409
        },
        "id": "oIO693j_tEgx",
        "outputId": "b173f1e6-0f7a-4b89-b523-e1e9d2e7b456"
      },
      "outputs": [
        {
          "output_type": "display_data",
          "data": {
            "text/plain": [
              "<Figure size 576x432 with 1 Axes>"
            ],
            "image/png": "[encoded data removed]"
          },
          "metadata": {
            "needs_background": "light"
          }
        }
      ],
      "source": [
        "X = np.array([[-12, -9, -6, -3, 0, 3, 6, 9, 12, 15]]) # Row Matrix\n",
        "y = np.array([-2, 1, 4, 7, 10, 13, 16, 19, 22, 25])\n",
        "\n",
        "\n",
        "# Visualize the data\n",
        "plt.figure(figsize=(8, 6))\n",
        "plt.scatter(X, y)\n",
        "plt.xlabel(\"X\", size=13)\n",
        "plt.ylabel(\"y\", size=13)\n",
        "plt.title(\"Scatter plot of X and y\", size=15)\n",
        "plt.show()"
      ]
    },
    {
      "cell_type": "code",
      "execution_count": 3,
      "metadata": {
        "colab": {
          "base_uri": "https://localhost:8080/"
        },
        "id": "QvqsN2k7tEgx",
        "outputId": "df1cccc2-bb35-413a-c419-e81e917d2e9d"
      },
      "outputs": [
        {
          "output_type": "execute_result",
          "data": {
            "text/plain": [
              "array([[ True,  True,  True,  True,  True,  True,  True,  True,  True,\n",
              "         True]])"
            ]
          },
          "metadata": {},
          "execution_count": 3
        }
      ],
      "source": [
        "y == X + 10"
      ]
    },
    {
      "cell_type": "code",
      "execution_count": 4,
      "metadata": {
        "colab": {
          "base_uri": "https://localhost:8080/"
        },
        "id": "k6yJtWMNtEgx",
        "outputId": "a1c3bdd1-178c-4c19-f66c-2a38552abfc3"
      },
      "outputs": [
        {
          "output_type": "execute_result",
          "data": {
            "text/plain": [
              "(TensorShape([10, 1]), TensorShape([10]))"
            ]
          },
          "metadata": {},
          "execution_count": 4
        }
      ],
      "source": [
        "# Convert the NumPy arrays to Tensors\n",
        "# Cast and reshape X\n",
        "X = tf.cast(tf.constant(X), dtype=tf.float16)\n",
        "X = tf.reshape(X, shape=(-1, 1))\n",
        "y = tf.cast(tf.constant(y), dtype=tf.float16)\n",
        "\n",
        "X.shape, y.shape"
      ]
    },
    {
      "cell_type": "markdown",
      "source": [
        "### Steps In Modelling With TensorFlow\n",
        "\n",
        "1. **Create a model**: define the `input`, `hidden` and `output` layers of the deep learning model.\n",
        "2. **Compile the model**: define the `loss function` (i.e the function that tells our model how wrong it is), the `optimizer` (it tells our model how to improve the patterns its learning) and the `evaluation metrics` (what we can use to interpret the performance of our model).\n",
        "3. **Fit the model**: the model `learns` the `patterns` between the input and the output"
      ],
      "metadata": {
        "id": "ot-0cVu_tEgx"
      }
    },
    {
      "cell_type": "markdown",
      "source": [
        "#### Create a baseline model\n",
        "\n",
        "\n",
        "### Some Key Terms\n",
        "\n",
        "* **Loss**: How wrong the model predictions are (you want to minimize this)\n",
        "* **Optimizer**: It tells the model how it should update it's parameters to imporeve its predictions.\n",
        "* **Metrics**: Human interpretable values for how well the model is performing.\n",
        "* **Epocs**: This represents the number of times the model will go thru all the training examples.\n",
        "* **Evaluation** (on unseen data): This tells us how reliable the our model predictions are on unseen data."
      ],
      "metadata": {
        "id": "X7ViYJ23tEgx"
      }
    },
    {
      "cell_type": "code",
      "execution_count": 5,
      "metadata": {
        "colab": {
          "base_uri": "https://localhost:8080/"
        },
        "id": "ZoF3b9VOtEgx",
        "outputId": "ff9794b3-b8b5-4e03-89e6-4ff7ea413f58"
      },
      "outputs": [
        {
          "output_type": "stream",
          "name": "stdout",
          "text": [
            "Epoch 1/5\n",
            "1/1 [==============================] - 1s 646ms/step - loss: 10.6708 - mae: 10.6708\n",
            "Epoch 2/5\n",
            "1/1 [==============================] - 0s 17ms/step - loss: 10.6383 - mae: 10.6383\n",
            "Epoch 3/5\n",
            "1/1 [==============================] - 0s 20ms/step - loss: 10.6058 - mae: 10.6058\n",
            "Epoch 4/5\n",
            "1/1 [==============================] - 0s 17ms/step - loss: 10.5733 - mae: 10.5733\n",
            "Epoch 5/5\n",
            "1/1 [==============================] - 0s 18ms/step - loss: 10.5408 - mae: 10.5408\n"
          ]
        },
        {
          "output_type": "execute_result",
          "data": {
            "text/plain": [
              "<keras.callbacks.History at 0x7f6f18898340>"
            ]
          },
          "metadata": {},
          "execution_count": 5
        }
      ],
      "source": [
        "# Set seed for reproducibility\n",
        "SEED = 123\n",
        "tf.random.set_seed(SEED)\n",
        "\n",
        "# 1. Create a model using the Sequential API\n",
        "model = tf.keras.Sequential([\n",
        "    tf.keras.layers.Dense(1, activation=None) # The model has a single neuron\n",
        "\n",
        "])\n",
        "\n",
        "# 2. Compile the model\n",
        "model.compile(loss=tf.keras.losses.mae,  # MAE: Mean Absolute Error\n",
        "              optimizer=tf.keras.optimizers.SGD(), # OR 'sgd'\n",
        "              metrics = [\"mae\"] # OR tf.keras.losses.mae\n",
        "              )\n",
        "\n",
        "# 3. Fit the model\n",
        "model.fit(X, y, epochs=5)"
      ]
    },
    {
      "cell_type": "code",
      "source": [
        "X, y"
      ],
      "metadata": {
        "colab": {
          "base_uri": "https://localhost:8080/"
        },
        "id": "RkoBt_J4fbgl",
        "outputId": "1ed9bef2-1ca8-4c8d-f9a7-c43dd9407863"
      },
      "execution_count": 6,
      "outputs": [
        {
          "output_type": "execute_result",
          "data": {
            "text/plain": [
              "(<tf.Tensor: shape=(10, 1), dtype=float16, numpy=\n",
              " array([[-12.],\n",
              "        [ -9.],\n",
              "        [ -6.],\n",
              "        [ -3.],\n",
              "        [  0.],\n",
              "        [  3.],\n",
              "        [  6.],\n",
              "        [  9.],\n",
              "        [ 12.],\n",
              "        [ 15.]], dtype=float16)>,\n",
              " <tf.Tensor: shape=(10,), dtype=float16, numpy=array([-2.,  1.,  4.,  7., 10., 13., 16., 19., 22., 25.], dtype=float16)>)"
            ]
          },
          "metadata": {},
          "execution_count": 6
        }
      ]
    },
    {
      "cell_type": "code",
      "execution_count": 7,
      "metadata": {
        "colab": {
          "base_uri": "https://localhost:8080/"
        },
        "id": "8iReHHMOtEgx",
        "outputId": "d80b93f7-1011-499e-d7a2-d603d607b50a"
      },
      "outputs": [
        {
          "output_type": "stream",
          "name": "stdout",
          "text": [
            "1/1 [==============================] - 0s 174ms/step\n"
          ]
        },
        {
          "output_type": "execute_result",
          "data": {
            "text/plain": [
              "array([[11.350482]], dtype=float32)"
            ]
          },
          "metadata": {},
          "execution_count": 7
        }
      ],
      "source": [
        "y_pred = model.predict([18])\n",
        "y_pred"
      ]
    },
    {
      "cell_type": "code",
      "execution_count": 8,
      "metadata": {
        "colab": {
          "base_uri": "https://localhost:8080/"
        },
        "id": "SLU9x65QtEgy",
        "outputId": "a0b520c7-8d52-4ede-e44b-076177d08308"
      },
      "outputs": [
        {
          "output_type": "execute_result",
          "data": {
            "text/plain": [
              "array([[22.350483]], dtype=float32)"
            ]
          },
          "metadata": {},
          "execution_count": 8
        }
      ],
      "source": [
        "# Since the mae is ~11 on average, let's add 11 to the predicted value\n",
        "y_pred + 11"
      ]
    },
    {
      "cell_type": "markdown",
      "source": [
        "### Improve The Model\n",
        "\n",
        "> We can improve the model by altering the steps taken to create the model.\n",
        "\n",
        "1. **Create model**: We might:\n",
        "  * Add more layers\n",
        "  * increase the number of hidden units(neurons)\n",
        "  * change the activation function\n",
        "\n",
        "2. **Compile model**: We might:\n",
        "  * change the optimization function\n",
        "  * change the learning rate\n",
        "\n",
        "3. **Fit the model**: We might:\n",
        "  * increase the number of epochs\n",
        "  * increase the training data"
      ],
      "metadata": {
        "id": "DuPU_6-5tEgy"
      }
    },
    {
      "cell_type": "code",
      "execution_count": 9,
      "metadata": {
        "colab": {
          "base_uri": "https://localhost:8080/"
        },
        "id": "EllZHBuDtEgy",
        "outputId": "23341958-5cb0-4447-ea81-e4064f9b716b"
      },
      "outputs": [
        {
          "output_type": "stream",
          "name": "stdout",
          "text": [
            "Epoch 1/100\n",
            "1/1 [==============================] - 1s 556ms/step - loss: 11.6569 - mae: 11.6569\n",
            "Epoch 2/100\n",
            "1/1 [==============================] - 0s 46ms/step - loss: 11.4984 - mae: 11.4984\n",
            "Epoch 3/100\n",
            "1/1 [==============================] - 0s 30ms/step - loss: 11.3399 - mae: 11.3399\n",
            "Epoch 4/100\n",
            "1/1 [==============================] - 0s 32ms/step - loss: 11.2070 - mae: 11.2070\n",
            "Epoch 5/100\n",
            "1/1 [==============================] - 0s 25ms/step - loss: 11.1745 - mae: 11.1745\n",
            "Epoch 6/100\n",
            "1/1 [==============================] - 0s 28ms/step - loss: 11.1420 - mae: 11.1420\n",
            "Epoch 7/100\n",
            "1/1 [==============================] - 0s 36ms/step - loss: 11.1095 - mae: 11.1095\n",
            "Epoch 8/100\n",
            "1/1 [==============================] - 0s 58ms/step - loss: 11.0770 - mae: 11.0770\n",
            "Epoch 9/100\n",
            "1/1 [==============================] - 0s 25ms/step - loss: 11.0445 - mae: 11.0445\n",
            "Epoch 10/100\n",
            "1/1 [==============================] - 0s 50ms/step - loss: 11.0120 - mae: 11.0120\n",
            "Epoch 11/100\n",
            "1/1 [==============================] - 0s 20ms/step - loss: 10.9795 - mae: 10.9795\n",
            "Epoch 12/100\n",
            "1/1 [==============================] - 0s 21ms/step - loss: 10.9470 - mae: 10.9470\n",
            "Epoch 13/100\n",
            "1/1 [==============================] - 0s 24ms/step - loss: 10.9145 - mae: 10.9145\n",
            "Epoch 14/100\n",
            "1/1 [==============================] - 0s 28ms/step - loss: 10.8820 - mae: 10.8820\n",
            "Epoch 15/100\n",
            "1/1 [==============================] - 0s 16ms/step - loss: 10.8495 - mae: 10.8495\n",
            "Epoch 16/100\n",
            "1/1 [==============================] - 0s 18ms/step - loss: 10.8170 - mae: 10.8170\n",
            "Epoch 17/100\n",
            "1/1 [==============================] - 0s 21ms/step - loss: 10.7845 - mae: 10.7845\n",
            "Epoch 18/100\n",
            "1/1 [==============================] - 0s 18ms/step - loss: 10.7520 - mae: 10.7520\n",
            "Epoch 19/100\n",
            "1/1 [==============================] - 0s 15ms/step - loss: 10.7195 - mae: 10.7195\n",
            "Epoch 20/100\n",
            "1/1 [==============================] - 0s 15ms/step - loss: 10.6870 - mae: 10.6870\n",
            "Epoch 21/100\n",
            "1/1 [==============================] - 0s 20ms/step - loss: 10.6545 - mae: 10.6545\n",
            "Epoch 22/100\n",
            "1/1 [==============================] - 0s 15ms/step - loss: 10.6220 - mae: 10.6220\n",
            "Epoch 23/100\n",
            "1/1 [==============================] - 0s 47ms/step - loss: 10.5895 - mae: 10.5895\n",
            "Epoch 24/100\n",
            "1/1 [==============================] - 0s 21ms/step - loss: 10.5570 - mae: 10.5570\n",
            "Epoch 25/100\n",
            "1/1 [==============================] - 0s 27ms/step - loss: 10.5245 - mae: 10.5245\n",
            "Epoch 26/100\n",
            "1/1 [==============================] - 0s 41ms/step - loss: 10.4920 - mae: 10.4920\n",
            "Epoch 27/100\n",
            "1/1 [==============================] - 0s 22ms/step - loss: 10.4595 - mae: 10.4595\n",
            "Epoch 28/100\n",
            "1/1 [==============================] - 0s 33ms/step - loss: 10.4270 - mae: 10.4270\n",
            "Epoch 29/100\n",
            "1/1 [==============================] - 0s 30ms/step - loss: 10.3945 - mae: 10.3945\n",
            "Epoch 30/100\n",
            "1/1 [==============================] - 0s 18ms/step - loss: 10.3620 - mae: 10.3620\n",
            "Epoch 31/100\n",
            "1/1 [==============================] - 0s 23ms/step - loss: 10.3295 - mae: 10.3295\n",
            "Epoch 32/100\n",
            "1/1 [==============================] - 0s 32ms/step - loss: 10.2970 - mae: 10.2970\n",
            "Epoch 33/100\n",
            "1/1 [==============================] - 0s 23ms/step - loss: 10.2645 - mae: 10.2645\n",
            "Epoch 34/100\n",
            "1/1 [==============================] - 0s 16ms/step - loss: 10.2320 - mae: 10.2320\n",
            "Epoch 35/100\n",
            "1/1 [==============================] - 0s 18ms/step - loss: 10.1995 - mae: 10.1995\n",
            "Epoch 36/100\n",
            "1/1 [==============================] - 0s 17ms/step - loss: 10.1670 - mae: 10.1670\n",
            "Epoch 37/100\n",
            "1/1 [==============================] - 0s 16ms/step - loss: 10.1345 - mae: 10.1345\n",
            "Epoch 38/100\n",
            "1/1 [==============================] - 0s 16ms/step - loss: 10.1020 - mae: 10.1020\n",
            "Epoch 39/100\n",
            "1/1 [==============================] - 0s 23ms/step - loss: 10.0695 - mae: 10.0695\n",
            "Epoch 40/100\n",
            "1/1 [==============================] - 0s 22ms/step - loss: 10.0370 - mae: 10.0370\n",
            "Epoch 41/100\n",
            "1/1 [==============================] - 0s 20ms/step - loss: 10.0045 - mae: 10.0045\n",
            "Epoch 42/100\n",
            "1/1 [==============================] - 0s 16ms/step - loss: 9.9720 - mae: 9.9720\n",
            "Epoch 43/100\n",
            "1/1 [==============================] - 0s 21ms/step - loss: 9.9395 - mae: 9.9395\n",
            "Epoch 44/100\n",
            "1/1 [==============================] - 0s 16ms/step - loss: 9.9070 - mae: 9.9070\n",
            "Epoch 45/100\n",
            "1/1 [==============================] - 0s 16ms/step - loss: 9.8745 - mae: 9.8745\n",
            "Epoch 46/100\n",
            "1/1 [==============================] - 0s 16ms/step - loss: 9.8420 - mae: 9.8420\n",
            "Epoch 47/100\n",
            "1/1 [==============================] - 0s 15ms/step - loss: 9.8095 - mae: 9.8095\n",
            "Epoch 48/100\n",
            "1/1 [==============================] - 0s 21ms/step - loss: 9.7770 - mae: 9.7770\n",
            "Epoch 49/100\n",
            "1/1 [==============================] - 0s 18ms/step - loss: 9.7445 - mae: 9.7445\n",
            "Epoch 50/100\n",
            "1/1 [==============================] - 0s 15ms/step - loss: 9.7120 - mae: 9.7120\n",
            "Epoch 51/100\n",
            "1/1 [==============================] - 0s 17ms/step - loss: 9.6795 - mae: 9.6795\n",
            "Epoch 52/100\n",
            "1/1 [==============================] - 0s 16ms/step - loss: 9.6470 - mae: 9.6470\n",
            "Epoch 53/100\n",
            "1/1 [==============================] - 0s 18ms/step - loss: 9.6145 - mae: 9.6145\n",
            "Epoch 54/100\n",
            "1/1 [==============================] - 0s 26ms/step - loss: 9.5820 - mae: 9.5820\n",
            "Epoch 55/100\n",
            "1/1 [==============================] - 0s 25ms/step - loss: 9.5495 - mae: 9.5495\n",
            "Epoch 56/100\n",
            "1/1 [==============================] - 0s 19ms/step - loss: 9.5170 - mae: 9.5170\n",
            "Epoch 57/100\n",
            "1/1 [==============================] - 0s 33ms/step - loss: 9.4845 - mae: 9.4845\n",
            "Epoch 58/100\n",
            "1/1 [==============================] - 0s 21ms/step - loss: 9.4520 - mae: 9.4520\n",
            "Epoch 59/100\n",
            "1/1 [==============================] - 0s 14ms/step - loss: 9.4195 - mae: 9.4195\n",
            "Epoch 60/100\n",
            "1/1 [==============================] - 0s 26ms/step - loss: 9.3870 - mae: 9.3870\n",
            "Epoch 61/100\n",
            "1/1 [==============================] - 0s 20ms/step - loss: 9.3545 - mae: 9.3545\n",
            "Epoch 62/100\n",
            "1/1 [==============================] - 0s 18ms/step - loss: 9.3220 - mae: 9.3220\n",
            "Epoch 63/100\n",
            "1/1 [==============================] - 0s 45ms/step - loss: 9.2895 - mae: 9.2895\n",
            "Epoch 64/100\n",
            "1/1 [==============================] - 0s 28ms/step - loss: 9.2570 - mae: 9.2570\n",
            "Epoch 65/100\n",
            "1/1 [==============================] - 0s 24ms/step - loss: 9.2245 - mae: 9.2245\n",
            "Epoch 66/100\n",
            "1/1 [==============================] - 0s 14ms/step - loss: 9.1920 - mae: 9.1920\n",
            "Epoch 67/100\n",
            "1/1 [==============================] - 0s 20ms/step - loss: 9.1595 - mae: 9.1595\n",
            "Epoch 68/100\n",
            "1/1 [==============================] - 0s 36ms/step - loss: 9.1270 - mae: 9.1270\n",
            "Epoch 69/100\n",
            "1/1 [==============================] - 0s 28ms/step - loss: 9.0945 - mae: 9.0945\n",
            "Epoch 70/100\n",
            "1/1 [==============================] - 0s 38ms/step - loss: 9.0620 - mae: 9.0620\n",
            "Epoch 71/100\n",
            "1/1 [==============================] - 0s 34ms/step - loss: 9.0295 - mae: 9.0295\n",
            "Epoch 72/100\n",
            "1/1 [==============================] - 0s 41ms/step - loss: 8.9970 - mae: 8.9970\n",
            "Epoch 73/100\n",
            "1/1 [==============================] - 0s 21ms/step - loss: 8.9645 - mae: 8.9645\n",
            "Epoch 74/100\n",
            "1/1 [==============================] - 0s 26ms/step - loss: 8.9320 - mae: 8.9320\n",
            "Epoch 75/100\n",
            "1/1 [==============================] - 0s 23ms/step - loss: 8.8995 - mae: 8.8995\n",
            "Epoch 76/100\n",
            "1/1 [==============================] - 0s 22ms/step - loss: 8.8670 - mae: 8.8670\n",
            "Epoch 77/100\n",
            "1/1 [==============================] - 0s 15ms/step - loss: 8.8345 - mae: 8.8345\n",
            "Epoch 78/100\n",
            "1/1 [==============================] - 0s 15ms/step - loss: 8.8020 - mae: 8.8020\n",
            "Epoch 79/100\n",
            "1/1 [==============================] - 0s 26ms/step - loss: 8.7695 - mae: 8.7695\n",
            "Epoch 80/100\n",
            "1/1 [==============================] - 0s 14ms/step - loss: 8.7370 - mae: 8.7370\n",
            "Epoch 81/100\n",
            "1/1 [==============================] - 0s 30ms/step - loss: 8.7045 - mae: 8.7045\n",
            "Epoch 82/100\n",
            "1/1 [==============================] - 0s 26ms/step - loss: 8.6720 - mae: 8.6720\n",
            "Epoch 83/100\n",
            "1/1 [==============================] - 0s 29ms/step - loss: 8.6395 - mae: 8.6395\n",
            "Epoch 84/100\n",
            "1/1 [==============================] - 0s 47ms/step - loss: 8.6070 - mae: 8.6070\n",
            "Epoch 85/100\n",
            "1/1 [==============================] - 0s 36ms/step - loss: 8.5745 - mae: 8.5745\n",
            "Epoch 86/100\n",
            "1/1 [==============================] - 0s 25ms/step - loss: 8.5420 - mae: 8.5420\n",
            "Epoch 87/100\n",
            "1/1 [==============================] - 0s 25ms/step - loss: 8.5095 - mae: 8.5095\n",
            "Epoch 88/100\n",
            "1/1 [==============================] - 0s 27ms/step - loss: 8.4770 - mae: 8.4770\n",
            "Epoch 89/100\n",
            "1/1 [==============================] - 0s 25ms/step - loss: 8.4445 - mae: 8.4445\n",
            "Epoch 90/100\n",
            "1/1 [==============================] - 0s 32ms/step - loss: 8.4120 - mae: 8.4120\n",
            "Epoch 91/100\n",
            "1/1 [==============================] - 0s 31ms/step - loss: 8.3795 - mae: 8.3795\n",
            "Epoch 92/100\n",
            "1/1 [==============================] - 0s 29ms/step - loss: 8.3470 - mae: 8.3470\n",
            "Epoch 93/100\n",
            "1/1 [==============================] - 0s 27ms/step - loss: 8.3145 - mae: 8.3145\n",
            "Epoch 94/100\n",
            "1/1 [==============================] - 0s 18ms/step - loss: 8.2820 - mae: 8.2820\n",
            "Epoch 95/100\n",
            "1/1 [==============================] - 0s 27ms/step - loss: 8.2495 - mae: 8.2495\n",
            "Epoch 96/100\n",
            "1/1 [==============================] - 0s 25ms/step - loss: 8.2170 - mae: 8.2170\n",
            "Epoch 97/100\n",
            "1/1 [==============================] - 0s 22ms/step - loss: 8.1845 - mae: 8.1845\n",
            "Epoch 98/100\n",
            "1/1 [==============================] - 0s 28ms/step - loss: 8.1520 - mae: 8.1520\n",
            "Epoch 99/100\n",
            "1/1 [==============================] - 0s 25ms/step - loss: 8.1273 - mae: 8.1273\n",
            "Epoch 100/100\n",
            "1/1 [==============================] - 0s 24ms/step - loss: 8.1340 - mae: 8.1340\n"
          ]
        },
        {
          "output_type": "execute_result",
          "data": {
            "text/plain": [
              "<keras.callbacks.History at 0x7f6f191f2370>"
            ]
          },
          "metadata": {},
          "execution_count": 9
        }
      ],
      "source": [
        "# Rebuild the model by increasing the number of epochs\n",
        "\n",
        "# Create the model\n",
        "model = tf.keras.Sequential([\n",
        "    tf.keras.layers.Dense(1, activation=None)\n",
        "])\n",
        "\n",
        "# Compile the model\n",
        "model.compile(loss=tf.keras.losses.mae,\n",
        "              optimizer=tf.keras.optimizers.SGD(),\n",
        "              metrics=[\"mae\"])\n",
        "\n",
        "# Fit the model (increase the epochs)\n",
        "model.fit(X, y, epochs=100)"
      ]
    },
    {
      "cell_type": "code",
      "execution_count": 10,
      "metadata": {
        "colab": {
          "base_uri": "https://localhost:8080/"
        },
        "id": "ZdwM1LE0tEgy",
        "outputId": "2dfbcc6d-6088-4865-c39f-e4228f8697ce"
      },
      "outputs": [
        {
          "output_type": "stream",
          "name": "stdout",
          "text": [
            "1/1 [==============================] - 1s 561ms/step\n"
          ]
        },
        {
          "output_type": "execute_result",
          "data": {
            "text/plain": [
              "array([[29.87001]], dtype=float32)"
            ]
          },
          "metadata": {},
          "execution_count": 10
        }
      ],
      "source": [
        "# Make predictions\n",
        "y_pred = model.predict([18])\n",
        "y_pred"
      ]
    },
    {
      "cell_type": "markdown",
      "source": [
        "#### Tweak The Model\n",
        "\n",
        "* Experiment by changing the `hyperparameters`.\n",
        "* Add a new layer."
      ],
      "metadata": {
        "id": "j0odgU52tEgy"
      }
    },
    {
      "cell_type": "code",
      "execution_count": 11,
      "metadata": {
        "colab": {
          "base_uri": "https://localhost:8080/"
        },
        "id": "tQM1AE9StEgy",
        "outputId": "45ed342f-a7bb-42e8-b025-ecfe17a4134e"
      },
      "outputs": [
        {
          "output_type": "stream",
          "name": "stderr",
          "text": [
            "WARNING:absl:`lr` is deprecated, please use `learning_rate` instead, or use the legacy optimizer, e.g.,tf.keras.optimizers.legacy.SGD.\n"
          ]
        },
        {
          "output_type": "stream",
          "name": "stdout",
          "text": [
            "Epoch 1/100\n",
            "1/1 [==============================] - 2s 2s/step - loss: 12.2549 - mae: 12.2549\n",
            "Epoch 2/100\n",
            "1/1 [==============================] - 0s 18ms/step - loss: 11.9212 - mae: 11.9212\n",
            "Epoch 3/100\n",
            "1/1 [==============================] - 0s 17ms/step - loss: 11.5885 - mae: 11.5885\n",
            "Epoch 4/100\n",
            "1/1 [==============================] - 0s 18ms/step - loss: 11.2570 - mae: 11.2570\n",
            "Epoch 5/100\n",
            "1/1 [==============================] - 0s 16ms/step - loss: 10.9277 - mae: 10.9277\n",
            "Epoch 6/100\n",
            "1/1 [==============================] - 0s 20ms/step - loss: 10.5926 - mae: 10.5926\n",
            "Epoch 7/100\n",
            "1/1 [==============================] - 0s 29ms/step - loss: 10.2577 - mae: 10.2577\n",
            "Epoch 8/100\n",
            "1/1 [==============================] - 0s 16ms/step - loss: 9.9112 - mae: 9.9112\n",
            "Epoch 9/100\n",
            "1/1 [==============================] - 0s 21ms/step - loss: 9.5504 - mae: 9.5504\n",
            "Epoch 10/100\n",
            "1/1 [==============================] - 0s 18ms/step - loss: 9.1724 - mae: 9.1724\n",
            "Epoch 11/100\n",
            "1/1 [==============================] - 0s 22ms/step - loss: 8.7795 - mae: 8.7795\n",
            "Epoch 12/100\n",
            "1/1 [==============================] - 0s 18ms/step - loss: 8.3875 - mae: 8.3875\n",
            "Epoch 13/100\n",
            "1/1 [==============================] - 0s 18ms/step - loss: 7.9585 - mae: 7.9585\n",
            "Epoch 14/100\n",
            "1/1 [==============================] - 0s 21ms/step - loss: 7.4975 - mae: 7.4975\n",
            "Epoch 15/100\n",
            "1/1 [==============================] - 0s 32ms/step - loss: 7.0271 - mae: 7.0271\n",
            "Epoch 16/100\n",
            "1/1 [==============================] - 0s 20ms/step - loss: 6.4973 - mae: 6.4973\n",
            "Epoch 17/100\n",
            "1/1 [==============================] - 0s 28ms/step - loss: 5.9284 - mae: 5.9284\n",
            "Epoch 18/100\n",
            "1/1 [==============================] - 0s 34ms/step - loss: 5.3334 - mae: 5.3334\n",
            "Epoch 19/100\n",
            "1/1 [==============================] - 0s 26ms/step - loss: 4.6666 - mae: 4.6666\n",
            "Epoch 20/100\n",
            "1/1 [==============================] - 0s 23ms/step - loss: 4.1353 - mae: 4.1353\n",
            "Epoch 21/100\n",
            "1/1 [==============================] - 0s 20ms/step - loss: 4.0520 - mae: 4.0520\n",
            "Epoch 22/100\n",
            "1/1 [==============================] - 0s 27ms/step - loss: 3.9839 - mae: 3.9839\n",
            "Epoch 23/100\n",
            "1/1 [==============================] - 0s 35ms/step - loss: 4.0030 - mae: 4.0030\n",
            "Epoch 24/100\n",
            "1/1 [==============================] - 0s 22ms/step - loss: 4.0064 - mae: 4.0064\n",
            "Epoch 25/100\n",
            "1/1 [==============================] - 0s 36ms/step - loss: 3.9646 - mae: 3.9646\n",
            "Epoch 26/100\n",
            "1/1 [==============================] - 0s 19ms/step - loss: 4.0084 - mae: 4.0084\n",
            "Epoch 27/100\n",
            "1/1 [==============================] - 0s 25ms/step - loss: 3.9871 - mae: 3.9871\n",
            "Epoch 28/100\n",
            "1/1 [==============================] - 0s 27ms/step - loss: 3.9540 - mae: 3.9540\n",
            "Epoch 29/100\n",
            "1/1 [==============================] - 0s 35ms/step - loss: 4.0060 - mae: 4.0060\n",
            "Epoch 30/100\n",
            "1/1 [==============================] - 0s 23ms/step - loss: 3.9679 - mae: 3.9679\n",
            "Epoch 31/100\n",
            "1/1 [==============================] - 0s 28ms/step - loss: 3.9555 - mae: 3.9555\n",
            "Epoch 32/100\n",
            "1/1 [==============================] - 0s 24ms/step - loss: 3.9905 - mae: 3.9905\n",
            "Epoch 33/100\n",
            "1/1 [==============================] - 0s 37ms/step - loss: 3.9490 - mae: 3.9490\n",
            "Epoch 34/100\n",
            "1/1 [==============================] - 0s 31ms/step - loss: 3.9598 - mae: 3.9598\n",
            "Epoch 35/100\n",
            "1/1 [==============================] - 0s 25ms/step - loss: 3.9717 - mae: 3.9717\n",
            "Epoch 36/100\n",
            "1/1 [==============================] - 0s 20ms/step - loss: 3.9302 - mae: 3.9302\n",
            "Epoch 37/100\n",
            "1/1 [==============================] - 0s 29ms/step - loss: 3.9646 - mae: 3.9646\n",
            "Epoch 38/100\n",
            "1/1 [==============================] - 0s 67ms/step - loss: 3.9527 - mae: 3.9527\n",
            "Epoch 39/100\n",
            "1/1 [==============================] - 0s 36ms/step - loss: 3.9197 - mae: 3.9197\n",
            "Epoch 40/100\n",
            "1/1 [==============================] - 0s 34ms/step - loss: 3.9619 - mae: 3.9619\n",
            "Epoch 41/100\n",
            "1/1 [==============================] - 0s 24ms/step - loss: 3.9339 - mae: 3.9339\n",
            "Epoch 42/100\n",
            "1/1 [==============================] - 0s 16ms/step - loss: 3.9205 - mae: 3.9205\n",
            "Epoch 43/100\n",
            "1/1 [==============================] - 0s 53ms/step - loss: 3.9470 - mae: 3.9470\n",
            "Epoch 44/100\n",
            "1/1 [==============================] - 0s 35ms/step - loss: 3.9153 - mae: 3.9153\n",
            "Epoch 45/100\n",
            "1/1 [==============================] - 0s 27ms/step - loss: 3.9210 - mae: 3.9210\n",
            "Epoch 46/100\n",
            "1/1 [==============================] - 0s 30ms/step - loss: 3.9323 - mae: 3.9323\n",
            "Epoch 47/100\n",
            "1/1 [==============================] - 0s 19ms/step - loss: 3.8968 - mae: 3.8968\n",
            "Epoch 48/100\n",
            "1/1 [==============================] - 0s 42ms/step - loss: 3.9213 - mae: 3.9213\n",
            "Epoch 49/100\n",
            "1/1 [==============================] - 0s 34ms/step - loss: 3.9177 - mae: 3.9177\n",
            "Epoch 50/100\n",
            "1/1 [==============================] - 0s 33ms/step - loss: 3.8826 - mae: 3.8826\n",
            "Epoch 51/100\n",
            "1/1 [==============================] - 0s 28ms/step - loss: 3.9199 - mae: 3.9199\n",
            "Epoch 52/100\n",
            "1/1 [==============================] - 0s 18ms/step - loss: 3.9011 - mae: 3.9011\n",
            "Epoch 53/100\n",
            "1/1 [==============================] - 0s 16ms/step - loss: 3.8827 - mae: 3.8827\n",
            "Epoch 54/100\n",
            "1/1 [==============================] - 0s 18ms/step - loss: 3.9054 - mae: 3.9054\n",
            "Epoch 55/100\n",
            "1/1 [==============================] - 0s 24ms/step - loss: 3.8829 - mae: 3.8829\n",
            "Epoch 56/100\n",
            "1/1 [==============================] - 0s 24ms/step - loss: 3.8825 - mae: 3.8825\n",
            "Epoch 57/100\n",
            "1/1 [==============================] - 0s 19ms/step - loss: 3.8912 - mae: 3.8912\n",
            "Epoch 58/100\n",
            "1/1 [==============================] - 0s 16ms/step - loss: 3.8647 - mae: 3.8647\n",
            "Epoch 59/100\n",
            "1/1 [==============================] - 0s 22ms/step - loss: 3.8820 - mae: 3.8820\n",
            "Epoch 60/100\n",
            "1/1 [==============================] - 0s 16ms/step - loss: 3.8771 - mae: 3.8771\n",
            "Epoch 61/100\n",
            "1/1 [==============================] - 0s 16ms/step - loss: 3.8468 - mae: 3.8468\n",
            "Epoch 62/100\n",
            "1/1 [==============================] - 0s 16ms/step - loss: 3.8814 - mae: 3.8814\n",
            "Epoch 63/100\n",
            "1/1 [==============================] - 0s 16ms/step - loss: 3.8631 - mae: 3.8631\n",
            "Epoch 64/100\n",
            "1/1 [==============================] - 0s 16ms/step - loss: 3.8421 - mae: 3.8421\n",
            "Epoch 65/100\n",
            "1/1 [==============================] - 0s 18ms/step - loss: 3.8679 - mae: 3.8679\n",
            "Epoch 66/100\n",
            "1/1 [==============================] - 0s 22ms/step - loss: 3.8493 - mae: 3.8493\n",
            "Epoch 67/100\n",
            "1/1 [==============================] - 0s 21ms/step - loss: 3.8414 - mae: 3.8414\n",
            "Epoch 68/100\n",
            "1/1 [==============================] - 0s 16ms/step - loss: 3.8513 - mae: 3.8513\n",
            "Epoch 69/100\n",
            "1/1 [==============================] - 0s 17ms/step - loss: 3.8341 - mae: 3.8341\n",
            "Epoch 70/100\n",
            "1/1 [==============================] - 0s 16ms/step - loss: 3.8403 - mae: 3.8403\n",
            "Epoch 71/100\n",
            "1/1 [==============================] - 0s 18ms/step - loss: 3.8376 - mae: 3.8376\n",
            "Epoch 72/100\n",
            "1/1 [==============================] - 0s 18ms/step - loss: 3.8165 - mae: 3.8165\n",
            "Epoch 73/100\n",
            "1/1 [==============================] - 0s 30ms/step - loss: 3.8389 - mae: 3.8389\n",
            "Epoch 74/100\n",
            "1/1 [==============================] - 0s 15ms/step - loss: 3.8240 - mae: 3.8240\n",
            "Epoch 75/100\n",
            "1/1 [==============================] - 0s 16ms/step - loss: 3.7990 - mae: 3.7990\n",
            "Epoch 76/100\n",
            "1/1 [==============================] - 0s 26ms/step - loss: 3.8373 - mae: 3.8373\n",
            "Epoch 77/100\n",
            "1/1 [==============================] - 0s 17ms/step - loss: 3.8106 - mae: 3.8106\n",
            "Epoch 78/100\n",
            "1/1 [==============================] - 0s 24ms/step - loss: 3.7974 - mae: 3.7974\n",
            "Epoch 79/100\n",
            "1/1 [==============================] - 0s 19ms/step - loss: 3.8203 - mae: 3.8203\n",
            "Epoch 80/100\n",
            "1/1 [==============================] - 0s 16ms/step - loss: 3.7970 - mae: 3.7970\n",
            "Epoch 81/100\n",
            "1/1 [==============================] - 0s 19ms/step - loss: 3.7952 - mae: 3.7952\n",
            "Epoch 82/100\n",
            "1/1 [==============================] - 0s 21ms/step - loss: 3.8029 - mae: 3.8029\n",
            "Epoch 83/100\n",
            "1/1 [==============================] - 0s 19ms/step - loss: 3.7836 - mae: 3.7836\n",
            "Epoch 84/100\n",
            "1/1 [==============================] - 0s 17ms/step - loss: 3.7932 - mae: 3.7932\n",
            "Epoch 85/100\n",
            "1/1 [==============================] - 0s 18ms/step - loss: 3.7860 - mae: 3.7860\n",
            "Epoch 86/100\n",
            "1/1 [==============================] - 0s 17ms/step - loss: 3.7701 - mae: 3.7701\n",
            "Epoch 87/100\n",
            "1/1 [==============================] - 0s 24ms/step - loss: 3.7909 - mae: 3.7909\n",
            "Epoch 88/100\n",
            "1/1 [==============================] - 0s 26ms/step - loss: 3.7730 - mae: 3.7730\n",
            "Epoch 89/100\n",
            "1/1 [==============================] - 0s 16ms/step - loss: 3.7530 - mae: 3.7530\n",
            "Epoch 90/100\n",
            "1/1 [==============================] - 0s 17ms/step - loss: 3.7883 - mae: 3.7883\n",
            "Epoch 91/100\n",
            "1/1 [==============================] - 0s 17ms/step - loss: 3.7602 - mae: 3.7602\n",
            "Epoch 92/100\n",
            "1/1 [==============================] - 0s 23ms/step - loss: 3.7475 - mae: 3.7475\n",
            "Epoch 93/100\n",
            "1/1 [==============================] - 0s 21ms/step - loss: 3.7745 - mae: 3.7745\n",
            "Epoch 94/100\n",
            "1/1 [==============================] - 0s 27ms/step - loss: 3.7475 - mae: 3.7475\n",
            "Epoch 95/100\n",
            "1/1 [==============================] - 0s 35ms/step - loss: 3.7447 - mae: 3.7447\n",
            "Epoch 96/100\n",
            "1/1 [==============================] - 0s 32ms/step - loss: 3.7574 - mae: 3.7574\n",
            "Epoch 97/100\n",
            "1/1 [==============================] - 0s 16ms/step - loss: 3.7350 - mae: 3.7350\n",
            "Epoch 98/100\n",
            "1/1 [==============================] - 0s 21ms/step - loss: 3.7416 - mae: 3.7416\n",
            "Epoch 99/100\n",
            "1/1 [==============================] - 0s 20ms/step - loss: 3.7403 - mae: 3.7403\n",
            "Epoch 100/100\n",
            "1/1 [==============================] - 0s 13ms/step - loss: 3.7226 - mae: 3.7226\n"
          ]
        },
        {
          "output_type": "execute_result",
          "data": {
            "text/plain": [
              "<keras.callbacks.History at 0x7f6f190f4880>"
            ]
          },
          "metadata": {},
          "execution_count": 11
        }
      ],
      "source": [
        "# Build model\n",
        "model = tf.keras.Sequential([\n",
        "    tf.keras.layers.Dense(units=100, activation=\"ReLU\"),\n",
        "    tf.keras.layers.Dense(units=1, activation=None)\n",
        "])\n",
        "\n",
        "# Compile model\n",
        "model.compile(loss=tf.keras.losses.mae,\n",
        "              optimizer=tf.keras.optimizers.SGD(lr=0.01),\n",
        "              metrics=[\"mae\"])\n",
        "\n",
        "# Fit model\n",
        "model.fit(X, y, epochs=100)"
      ]
    },
    {
      "cell_type": "code",
      "execution_count": 14,
      "metadata": {
        "colab": {
          "base_uri": "https://localhost:8080/"
        },
        "id": "RXv-dT5wtEgy",
        "outputId": "b5db6d93-5c25-481e-c91c-c69565d18dd7"
      },
      "outputs": [
        {
          "output_type": "stream",
          "name": "stdout",
          "text": [
            "1/1 [==============================] - 0s 144ms/step\n"
          ]
        },
        {
          "output_type": "execute_result",
          "data": {
            "text/plain": [
              "array([[32.084877]], dtype=float32)"
            ]
          },
          "metadata": {},
          "execution_count": 14
        }
      ],
      "source": [
        "y_pred = model.predict([18.0])\n",
        "y_pred"
      ]
    },
    {
      "cell_type": "code",
      "execution_count": 12,
      "metadata": {
        "id": "cezRNMlytEgy"
      },
      "outputs": [],
      "source": []
    },
    {
      "cell_type": "code",
      "execution_count": 12,
      "metadata": {
        "id": "kHoZNAJVtEgy"
      },
      "outputs": [],
      "source": []
    },
    {
      "cell_type": "code",
      "execution_count": 12,
      "metadata": {
        "id": "IvYv_XshtEgy"
      },
      "outputs": [],
      "source": []
    },
    {
      "cell_type": "code",
      "execution_count": 12,
      "metadata": {
        "id": "uyx5ZRWxtEgy"
      },
      "outputs": [],
      "source": []
    },
    {
      "cell_type": "code",
      "execution_count": 12,
      "metadata": {
        "id": "kg8aU3AXtEgy"
      },
      "outputs": [],
      "source": []
    },
    {
      "cell_type": "code",
      "execution_count": 12,
      "metadata": {
        "id": "avzev_qatEgz"
      },
      "outputs": [],
      "source": []
    },
    {
      "cell_type": "code",
      "execution_count": 12,
      "metadata": {
        "id": "a20akyw8tEgz"
      },
      "outputs": [],
      "source": []
    },
    {
      "cell_type": "code",
      "execution_count": 12,
      "metadata": {
        "id": "dXtxCCGttEgz"
      },
      "outputs": [],
      "source": []
    },
    {
      "cell_type": "code",
      "execution_count": 12,
      "metadata": {
        "id": "mATrnM8dtEgz"
      },
      "outputs": [],
      "source": []
    },
    {
      "cell_type": "code",
      "execution_count": 12,
      "metadata": {
        "id": "ycGR7g9WtEgz"
      },
      "outputs": [],
      "source": []
    },
    {
      "cell_type": "code",
      "execution_count": 12,
      "metadata": {
        "id": "tXguO8jGtEgz"
      },
      "outputs": [],
      "source": []
    },
    {
      "cell_type": "code",
      "execution_count": 12,
      "metadata": {
        "id": "4PDwJKuktEgz"
      },
      "outputs": [],
      "source": []
    },
    {
      "cell_type": "code",
      "execution_count": 12,
      "metadata": {
        "id": "hgzKYEIRtEgz"
      },
      "outputs": [],
      "source": []
    },
    {
      "cell_type": "code",
      "execution_count": 12,
      "metadata": {
        "id": "6pjwEWDPtEgz"
      },
      "outputs": [],
      "source": []
    }
  ],
  "metadata": {
    "language_info": {
      "name": "python"
    },
    "orig_nbformat": 4,
    "colab": {
      "provenance": [],
      "include_colab_link": true
    },
    "kernelspec": {
      "name": "python3",
      "display_name": "Python 3"
    },
    "gpuClass": "standard"
  },
  "nbformat": 4,
  "nbformat_minor": 0
}