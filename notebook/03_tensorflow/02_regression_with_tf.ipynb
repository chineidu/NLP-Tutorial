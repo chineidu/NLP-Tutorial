{
  "cells": [
    {
      "cell_type": "markdown",
      "metadata": {
        "id": "view-in-github",
        "colab_type": "text"
      },
      "source": [
        "<a href=\"https://colab.research.google.com/github/chineidu/NLP-Tutorial/blob/main/notebook/03_tensorflow/02_regression_with_tf.ipynb\" target=\"_parent\"><img src=\"https://colab.research.google.com/assets/colab-badge.svg\" alt=\"Open In Colab\"/></a>"
      ]
    },
    {
      "cell_type": "markdown",
      "metadata": {
        "id": "YBL3ZU9ptEgt"
      },
      "source": [
        "# Regression With TensorFlow"
      ]
    },
    {
      "cell_type": "code",
      "execution_count": 1,
      "metadata": {
        "id": "L8l2Qmy4tEgv"
      },
      "outputs": [],
      "source": [
        "# Standard imports\n",
        "import numpy as np\n",
        "import pandas as pd\n",
        "import matplotlib.pyplot as plt\n",
        "import seaborn as sns\n",
        "\n",
        "import tensorflow as tf\n"
      ]
    },
    {
      "cell_type": "markdown",
      "source": [
        "### Create Data\n",
        "\n",
        "* This data will be used to train the neural network"
      ],
      "metadata": {
        "id": "8IcL3zlbtEgw"
      }
    },
    {
      "cell_type": "code",
      "execution_count": 2,
      "metadata": {
        "colab": {
          "base_uri": "https://localhost:8080/",
          "height": 409
        },
        "id": "oIO693j_tEgx",
        "outputId": "14b89ab4-786b-4fa9-c421-7b395c9345b7"
      },
      "outputs": [
        {
          "output_type": "display_data",
          "data": {
            "text/plain": [
              "<Figure size 576x432 with 1 Axes>"
            ],
            "image/png": "[encoded data removed]"
          },
          "metadata": {
            "needs_background": "light"
          }
        }
      ],
      "source": [
        "X = np.array([[-12, -9, -6, -3, 0, 3, 6, 9, 12, 15]]) # Row Matrix\n",
        "y = np.array([-2, 1, 4, 7, 10, 13, 16, 19, 22, 25])\n",
        "\n",
        "\n",
        "# Visualize the data\n",
        "plt.figure(figsize=(8, 6))\n",
        "plt.scatter(X, y)\n",
        "plt.xlabel(\"X\", size=13)\n",
        "plt.ylabel(\"y\", size=13)\n",
        "plt.title(\"Scatter plot of X and y\", size=15)\n",
        "plt.show()"
      ]
    },
    {
      "cell_type": "code",
      "execution_count": 3,
      "metadata": {
        "colab": {
          "base_uri": "https://localhost:8080/"
        },
        "id": "QvqsN2k7tEgx",
        "outputId": "05d78a27-74d6-4f7b-eaa8-c7aaa04db954"
      },
      "outputs": [
        {
          "output_type": "execute_result",
          "data": {
            "text/plain": [
              "array([[ True,  True,  True,  True,  True,  True,  True,  True,  True,\n",
              "         True]])"
            ]
          },
          "metadata": {},
          "execution_count": 3
        }
      ],
      "source": [
        "y == X + 10"
      ]
    },
    {
      "cell_type": "code",
      "execution_count": 4,
      "metadata": {
        "colab": {
          "base_uri": "https://localhost:8080/"
        },
        "id": "k6yJtWMNtEgx",
        "outputId": "72751e77-f7df-41fc-aa7e-be68848007f3"
      },
      "outputs": [
        {
          "output_type": "execute_result",
          "data": {
            "text/plain": [
              "(TensorShape([10, 1]), TensorShape([10]))"
            ]
          },
          "metadata": {},
          "execution_count": 4
        }
      ],
      "source": [
        "# Convert the NumPy arrays to Tensors\n",
        "# Cast and reshape X\n",
        "X = tf.cast(tf.constant(X), dtype=tf.float16)\n",
        "X = tf.reshape(X, shape=(-1, 1))\n",
        "y = tf.cast(tf.constant(y), dtype=tf.float16)\n",
        "\n",
        "X.shape, y.shape"
      ]
    },
    {
      "cell_type": "markdown",
      "source": [
        "### Steps In Modelling With TensorFlow\n",
        "\n",
        "1. **Create a model**: define the `input`, `hidden` and `output` layers of the deep learning model.\n",
        "2. **Compile the model**: define the `loss function` (i.e the function that tells our model how wrong it is), the `optimizer` (it tells our model how to improve the patterns its learning) and the `evaluation metrics` (what we can use to interpret the performance of our model).\n",
        "3. **Fit the model**: the model `learns` the `patterns` between the input and the output"
      ],
      "metadata": {
        "id": "ot-0cVu_tEgx"
      }
    },
    {
      "cell_type": "markdown",
      "source": [
        "#### Create a baseline model\n",
        "\n",
        "\n",
        "### Some Key Terms\n",
        "\n",
        "* **Loss**: How wrong the model predictions are (you want to minimize this)\n",
        "* **Optimizer**: It tells the model how it should update it's parameters to imporeve its predictions.\n",
        "* **Metrics**: Human interpretable values for how well the model is performing.\n",
        "* **Epocs**: This represents the number of times the model will go thru all the training examples.\n",
        "* **Evaluation** (on unseen data): This tells us how reliable the our model predictions are on unseen data."
      ],
      "metadata": {
        "id": "X7ViYJ23tEgx"
      }
    },
    {
      "cell_type": "code",
      "execution_count": 5,
      "metadata": {
        "colab": {
          "base_uri": "https://localhost:8080/"
        },
        "id": "ZoF3b9VOtEgx",
        "outputId": "3fa77ff7-b0ac-4bc9-b0a8-a4bf243cae19"
      },
      "outputs": [
        {
          "output_type": "stream",
          "name": "stdout",
          "text": [
            "Epoch 1/5\n",
            "1/1 [==============================] - 1s 812ms/step - loss: 13.1366 - mae: 13.1366\n",
            "Epoch 2/5\n",
            "1/1 [==============================] - 0s 21ms/step - loss: 12.8081 - mae: 12.8081\n",
            "Epoch 3/5\n",
            "1/1 [==============================] - 0s 23ms/step - loss: 12.4796 - mae: 12.4796\n",
            "Epoch 4/5\n",
            "1/1 [==============================] - 0s 13ms/step - loss: 12.2017 - mae: 12.2017\n",
            "Epoch 5/5\n",
            "1/1 [==============================] - 0s 24ms/step - loss: 12.0431 - mae: 12.0431\n"
          ]
        },
        {
          "output_type": "execute_result",
          "data": {
            "text/plain": [
              "<keras.callbacks.History at 0x7ff034f9b730>"
            ]
          },
          "metadata": {},
          "execution_count": 5
        }
      ],
      "source": [
        "# Set seed for reproducibility\n",
        "SEED = 123\n",
        "tf.random.set_seed(SEED)\n",
        "\n",
        "# 1. Create a model using the Sequential API\n",
        "model = tf.keras.Sequential([\n",
        "    tf.keras.layers.Dense(1, activation=None) # The model has a single neuron\n",
        "\n",
        "])\n",
        "\n",
        "# 2. Compile the model\n",
        "model.compile(loss=tf.keras.losses.mae,  # MAE: Mean Absolute Error\n",
        "              optimizer=tf.keras.optimizers.SGD(), # OR 'sgd'\n",
        "              metrics = [\"mae\"] # OR tf.keras.losses.mae\n",
        "              )\n",
        "\n",
        "# 3. Fit the model\n",
        "model.fit(X, y, epochs=5)"
      ]
    },
    {
      "cell_type": "code",
      "source": [
        "X, y"
      ],
      "metadata": {
        "colab": {
          "base_uri": "https://localhost:8080/"
        },
        "id": "RkoBt_J4fbgl",
        "outputId": "ff4b8dc0-c946-4add-8469-e42ad6f117eb"
      },
      "execution_count": 6,
      "outputs": [
        {
          "output_type": "execute_result",
          "data": {
            "text/plain": [
              "(<tf.Tensor: shape=(10, 1), dtype=float16, numpy=\n",
              " array([[-12.],\n",
              "        [ -9.],\n",
              "        [ -6.],\n",
              "        [ -3.],\n",
              "        [  0.],\n",
              "        [  3.],\n",
              "        [  6.],\n",
              "        [  9.],\n",
              "        [ 12.],\n",
              "        [ 15.]], dtype=float16)>,\n",
              " <tf.Tensor: shape=(10,), dtype=float16, numpy=array([-2.,  1.,  4.,  7., 10., 13., 16., 19., 22., 25.], dtype=float16)>)"
            ]
          },
          "metadata": {},
          "execution_count": 6
        }
      ]
    },
    {
      "cell_type": "code",
      "execution_count": 7,
      "metadata": {
        "colab": {
          "base_uri": "https://localhost:8080/"
        },
        "id": "8iReHHMOtEgx",
        "outputId": "f4c90c12-2f52-466b-aa74-dd4201d4be2f"
      },
      "outputs": [
        {
          "output_type": "stream",
          "name": "stdout",
          "text": [
            "1/1 [==============================] - 0s 283ms/step\n"
          ]
        },
        {
          "output_type": "execute_result",
          "data": {
            "text/plain": [
              "array([[-0.02069265]], dtype=float32)"
            ]
          },
          "metadata": {},
          "execution_count": 7
        }
      ],
      "source": [
        "y_pred = model.predict([18])\n",
        "y_pred"
      ]
    },
    {
      "cell_type": "code",
      "execution_count": 8,
      "metadata": {
        "colab": {
          "base_uri": "https://localhost:8080/"
        },
        "id": "SLU9x65QtEgy",
        "outputId": "3721f830-40cf-466c-a61e-228b153e2ef1"
      },
      "outputs": [
        {
          "output_type": "execute_result",
          "data": {
            "text/plain": [
              "array([[10.979307]], dtype=float32)"
            ]
          },
          "metadata": {},
          "execution_count": 8
        }
      ],
      "source": [
        "# Since the mae is ~11 on average, let's add 11 to the predicted value\n",
        "y_pred + 11"
      ]
    },
    {
      "cell_type": "markdown",
      "source": [
        "### Improve The Model\n",
        "\n",
        "> We can improve the model by altering the steps taken to create the model.\n",
        "\n",
        "1. **Create model**: We might:\n",
        "  * Add more layers\n",
        "  * increase the number of hidden units(neurons)\n",
        "  * change the activation function\n",
        "\n",
        "2. **Compile model**: We might:\n",
        "  * change the optimization function\n",
        "  * change the learning rate\n",
        "\n",
        "3. **Fit the model**: We might:\n",
        "  * increase the number of epochs\n",
        "  * increase the training data"
      ],
      "metadata": {
        "id": "DuPU_6-5tEgy"
      }
    },
    {
      "cell_type": "code",
      "execution_count": 9,
      "metadata": {
        "colab": {
          "base_uri": "https://localhost:8080/"
        },
        "id": "EllZHBuDtEgy",
        "outputId": "39b31a09-4781-45f5-f1c9-9111657a26dd"
      },
      "outputs": [
        {
          "output_type": "stream",
          "name": "stdout",
          "text": [
            "Epoch 1/100\n",
            "1/1 [==============================] - 1s 928ms/step - loss: 9.8512 - mae: 9.8512\n",
            "Epoch 2/100\n",
            "1/1 [==============================] - 0s 19ms/step - loss: 9.8187 - mae: 9.8187\n",
            "Epoch 3/100\n",
            "1/1 [==============================] - 0s 19ms/step - loss: 9.7862 - mae: 9.7862\n",
            "Epoch 4/100\n",
            "1/1 [==============================] - 0s 28ms/step - loss: 9.7537 - mae: 9.7537\n",
            "Epoch 5/100\n",
            "1/1 [==============================] - 0s 19ms/step - loss: 9.7212 - mae: 9.7212\n",
            "Epoch 6/100\n",
            "1/1 [==============================] - 0s 34ms/step - loss: 9.6887 - mae: 9.6887\n",
            "Epoch 7/100\n",
            "1/1 [==============================] - 0s 21ms/step - loss: 9.6562 - mae: 9.6562\n",
            "Epoch 8/100\n",
            "1/1 [==============================] - 0s 20ms/step - loss: 9.6237 - mae: 9.6237\n",
            "Epoch 9/100\n",
            "1/1 [==============================] - 0s 20ms/step - loss: 9.5912 - mae: 9.5912\n",
            "Epoch 10/100\n",
            "1/1 [==============================] - 0s 20ms/step - loss: 9.5587 - mae: 9.5587\n",
            "Epoch 11/100\n",
            "1/1 [==============================] - 0s 21ms/step - loss: 9.5262 - mae: 9.5262\n",
            "Epoch 12/100\n",
            "1/1 [==============================] - 0s 22ms/step - loss: 9.4937 - mae: 9.4937\n",
            "Epoch 13/100\n",
            "1/1 [==============================] - 0s 42ms/step - loss: 9.4612 - mae: 9.4612\n",
            "Epoch 14/100\n",
            "1/1 [==============================] - 0s 18ms/step - loss: 9.4287 - mae: 9.4287\n",
            "Epoch 15/100\n",
            "1/1 [==============================] - 0s 29ms/step - loss: 9.3962 - mae: 9.3962\n",
            "Epoch 16/100\n",
            "1/1 [==============================] - 0s 17ms/step - loss: 9.3637 - mae: 9.3637\n",
            "Epoch 17/100\n",
            "1/1 [==============================] - 0s 13ms/step - loss: 9.3312 - mae: 9.3312\n",
            "Epoch 18/100\n",
            "1/1 [==============================] - 0s 23ms/step - loss: 9.2987 - mae: 9.2987\n",
            "Epoch 19/100\n",
            "1/1 [==============================] - 0s 13ms/step - loss: 9.2662 - mae: 9.2662\n",
            "Epoch 20/100\n",
            "1/1 [==============================] - 0s 13ms/step - loss: 9.2337 - mae: 9.2337\n",
            "Epoch 21/100\n",
            "1/1 [==============================] - 0s 13ms/step - loss: 9.2012 - mae: 9.2012\n",
            "Epoch 22/100\n",
            "1/1 [==============================] - 0s 16ms/step - loss: 9.1687 - mae: 9.1687\n",
            "Epoch 23/100\n",
            "1/1 [==============================] - 0s 14ms/step - loss: 9.1362 - mae: 9.1362\n",
            "Epoch 24/100\n",
            "1/1 [==============================] - 0s 16ms/step - loss: 9.1037 - mae: 9.1037\n",
            "Epoch 25/100\n",
            "1/1 [==============================] - 0s 14ms/step - loss: 9.0712 - mae: 9.0712\n",
            "Epoch 26/100\n",
            "1/1 [==============================] - 0s 14ms/step - loss: 9.0387 - mae: 9.0387\n",
            "Epoch 27/100\n",
            "1/1 [==============================] - 0s 15ms/step - loss: 9.0062 - mae: 9.0062\n",
            "Epoch 28/100\n",
            "1/1 [==============================] - 0s 13ms/step - loss: 8.9737 - mae: 8.9737\n",
            "Epoch 29/100\n",
            "1/1 [==============================] - 0s 13ms/step - loss: 8.9412 - mae: 8.9412\n",
            "Epoch 30/100\n",
            "1/1 [==============================] - 0s 14ms/step - loss: 8.9087 - mae: 8.9087\n",
            "Epoch 31/100\n",
            "1/1 [==============================] - 0s 14ms/step - loss: 8.8762 - mae: 8.8762\n",
            "Epoch 32/100\n",
            "1/1 [==============================] - 0s 15ms/step - loss: 8.8437 - mae: 8.8437\n",
            "Epoch 33/100\n",
            "1/1 [==============================] - 0s 16ms/step - loss: 8.8112 - mae: 8.8112\n",
            "Epoch 34/100\n",
            "1/1 [==============================] - 0s 18ms/step - loss: 8.7787 - mae: 8.7787\n",
            "Epoch 35/100\n",
            "1/1 [==============================] - 0s 15ms/step - loss: 8.7462 - mae: 8.7462\n",
            "Epoch 36/100\n",
            "1/1 [==============================] - 0s 12ms/step - loss: 8.7137 - mae: 8.7137\n",
            "Epoch 37/100\n",
            "1/1 [==============================] - 0s 14ms/step - loss: 8.6812 - mae: 8.6812\n",
            "Epoch 38/100\n",
            "1/1 [==============================] - 0s 12ms/step - loss: 8.6853 - mae: 8.6853\n",
            "Epoch 39/100\n",
            "1/1 [==============================] - 0s 21ms/step - loss: 8.6632 - mae: 8.6632\n",
            "Epoch 40/100\n",
            "1/1 [==============================] - 0s 29ms/step - loss: 8.6709 - mae: 8.6709\n",
            "Epoch 41/100\n",
            "1/1 [==============================] - 0s 36ms/step - loss: 8.6452 - mae: 8.6452\n",
            "Epoch 42/100\n",
            "1/1 [==============================] - 0s 35ms/step - loss: 8.6565 - mae: 8.6565\n",
            "Epoch 43/100\n",
            "1/1 [==============================] - 0s 23ms/step - loss: 8.6276 - mae: 8.6276\n",
            "Epoch 44/100\n",
            "1/1 [==============================] - 0s 24ms/step - loss: 8.6417 - mae: 8.6417\n",
            "Epoch 45/100\n",
            "1/1 [==============================] - 0s 21ms/step - loss: 8.6132 - mae: 8.6132\n",
            "Epoch 46/100\n",
            "1/1 [==============================] - 0s 22ms/step - loss: 8.6237 - mae: 8.6237\n",
            "Epoch 47/100\n",
            "1/1 [==============================] - 0s 22ms/step - loss: 8.5988 - mae: 8.5988\n",
            "Epoch 48/100\n",
            "1/1 [==============================] - 0s 24ms/step - loss: 8.6057 - mae: 8.6057\n",
            "Epoch 49/100\n",
            "1/1 [==============================] - 0s 23ms/step - loss: 8.5844 - mae: 8.5844\n",
            "Epoch 50/100\n",
            "1/1 [==============================] - 0s 24ms/step - loss: 8.5877 - mae: 8.5877\n",
            "Epoch 51/100\n",
            "1/1 [==============================] - 0s 32ms/step - loss: 8.5700 - mae: 8.5700\n",
            "Epoch 52/100\n",
            "1/1 [==============================] - 0s 30ms/step - loss: 8.5697 - mae: 8.5697\n",
            "Epoch 53/100\n",
            "1/1 [==============================] - 0s 16ms/step - loss: 8.5556 - mae: 8.5556\n",
            "Epoch 54/100\n",
            "1/1 [==============================] - 0s 15ms/step - loss: 8.5517 - mae: 8.5517\n",
            "Epoch 55/100\n",
            "1/1 [==============================] - 0s 16ms/step - loss: 8.5412 - mae: 8.5412\n",
            "Epoch 56/100\n",
            "1/1 [==============================] - 0s 16ms/step - loss: 8.5337 - mae: 8.5337\n",
            "Epoch 57/100\n",
            "1/1 [==============================] - 0s 18ms/step - loss: 8.5268 - mae: 8.5268\n",
            "Epoch 58/100\n",
            "1/1 [==============================] - 0s 22ms/step - loss: 8.5157 - mae: 8.5157\n",
            "Epoch 59/100\n",
            "1/1 [==============================] - 0s 43ms/step - loss: 8.5124 - mae: 8.5124\n",
            "Epoch 60/100\n",
            "1/1 [==============================] - 0s 38ms/step - loss: 8.4977 - mae: 8.4977\n",
            "Epoch 61/100\n",
            "1/1 [==============================] - 0s 24ms/step - loss: 8.4980 - mae: 8.4980\n",
            "Epoch 62/100\n",
            "1/1 [==============================] - 0s 19ms/step - loss: 8.4797 - mae: 8.4797\n",
            "Epoch 63/100\n",
            "1/1 [==============================] - 0s 20ms/step - loss: 8.4836 - mae: 8.4836\n",
            "Epoch 64/100\n",
            "1/1 [==============================] - 0s 20ms/step - loss: 8.4617 - mae: 8.4617\n",
            "Epoch 65/100\n",
            "1/1 [==============================] - 0s 35ms/step - loss: 8.4692 - mae: 8.4692\n",
            "Epoch 66/100\n",
            "1/1 [==============================] - 0s 17ms/step - loss: 8.4437 - mae: 8.4437\n",
            "Epoch 67/100\n",
            "1/1 [==============================] - 0s 17ms/step - loss: 8.4548 - mae: 8.4548\n",
            "Epoch 68/100\n",
            "1/1 [==============================] - 0s 19ms/step - loss: 8.4259 - mae: 8.4259\n",
            "Epoch 69/100\n",
            "1/1 [==============================] - 0s 18ms/step - loss: 8.4402 - mae: 8.4402\n",
            "Epoch 70/100\n",
            "1/1 [==============================] - 0s 26ms/step - loss: 8.4115 - mae: 8.4115\n",
            "Epoch 71/100\n",
            "1/1 [==============================] - 0s 17ms/step - loss: 8.4222 - mae: 8.4222\n",
            "Epoch 72/100\n",
            "1/1 [==============================] - 0s 17ms/step - loss: 8.3971 - mae: 8.3971\n",
            "Epoch 73/100\n",
            "1/1 [==============================] - 0s 18ms/step - loss: 8.4042 - mae: 8.4042\n",
            "Epoch 74/100\n",
            "1/1 [==============================] - 0s 18ms/step - loss: 8.3827 - mae: 8.3827\n",
            "Epoch 75/100\n",
            "1/1 [==============================] - 0s 19ms/step - loss: 8.3862 - mae: 8.3862\n",
            "Epoch 76/100\n",
            "1/1 [==============================] - 0s 14ms/step - loss: 8.3683 - mae: 8.3683\n",
            "Epoch 77/100\n",
            "1/1 [==============================] - 0s 19ms/step - loss: 8.3682 - mae: 8.3682\n",
            "Epoch 78/100\n",
            "1/1 [==============================] - 0s 18ms/step - loss: 8.3539 - mae: 8.3539\n",
            "Epoch 79/100\n",
            "1/1 [==============================] - 0s 17ms/step - loss: 8.3502 - mae: 8.3502\n",
            "Epoch 80/100\n",
            "1/1 [==============================] - 0s 28ms/step - loss: 8.3395 - mae: 8.3395\n",
            "Epoch 81/100\n",
            "1/1 [==============================] - 0s 16ms/step - loss: 8.3322 - mae: 8.3322\n",
            "Epoch 82/100\n",
            "1/1 [==============================] - 0s 18ms/step - loss: 8.3251 - mae: 8.3251\n",
            "Epoch 83/100\n",
            "1/1 [==============================] - 0s 64ms/step - loss: 8.3142 - mae: 8.3142\n",
            "Epoch 84/100\n",
            "1/1 [==============================] - 0s 19ms/step - loss: 8.3107 - mae: 8.3107\n",
            "Epoch 85/100\n",
            "1/1 [==============================] - 0s 26ms/step - loss: 8.2962 - mae: 8.2962\n",
            "Epoch 86/100\n",
            "1/1 [==============================] - 0s 24ms/step - loss: 8.2963 - mae: 8.2963\n",
            "Epoch 87/100\n",
            "1/1 [==============================] - 0s 18ms/step - loss: 8.2782 - mae: 8.2782\n",
            "Epoch 88/100\n",
            "1/1 [==============================] - 0s 34ms/step - loss: 8.2819 - mae: 8.2819\n",
            "Epoch 89/100\n",
            "1/1 [==============================] - 0s 39ms/step - loss: 8.2602 - mae: 8.2602\n",
            "Epoch 90/100\n",
            "1/1 [==============================] - 0s 37ms/step - loss: 8.2675 - mae: 8.2675\n",
            "Epoch 91/100\n",
            "1/1 [==============================] - 0s 40ms/step - loss: 8.2422 - mae: 8.2422\n",
            "Epoch 92/100\n",
            "1/1 [==============================] - 0s 53ms/step - loss: 8.2531 - mae: 8.2531\n",
            "Epoch 93/100\n",
            "1/1 [==============================] - 0s 33ms/step - loss: 8.2242 - mae: 8.2242\n",
            "Epoch 94/100\n",
            "1/1 [==============================] - 0s 32ms/step - loss: 8.2387 - mae: 8.2387\n",
            "Epoch 95/100\n",
            "1/1 [==============================] - 0s 28ms/step - loss: 8.2098 - mae: 8.2098\n",
            "Epoch 96/100\n",
            "1/1 [==============================] - 0s 24ms/step - loss: 8.2207 - mae: 8.2207\n",
            "Epoch 97/100\n",
            "1/1 [==============================] - 0s 21ms/step - loss: 8.1954 - mae: 8.1954\n",
            "Epoch 98/100\n",
            "1/1 [==============================] - 0s 25ms/step - loss: 8.2027 - mae: 8.2027\n",
            "Epoch 99/100\n",
            "1/1 [==============================] - 0s 53ms/step - loss: 8.1810 - mae: 8.1810\n",
            "Epoch 100/100\n",
            "1/1 [==============================] - 0s 40ms/step - loss: 8.1847 - mae: 8.1847\n"
          ]
        },
        {
          "output_type": "execute_result",
          "data": {
            "text/plain": [
              "<keras.callbacks.History at 0x7ff0346c2220>"
            ]
          },
          "metadata": {},
          "execution_count": 9
        }
      ],
      "source": [
        "# Rebuild the model by increasing the number of epochs\n",
        "\n",
        "# Create the model\n",
        "model = tf.keras.Sequential([\n",
        "    tf.keras.layers.Dense(1, activation=None)\n",
        "])\n",
        "\n",
        "# Compile the model\n",
        "model.compile(loss=tf.keras.losses.mae,\n",
        "              optimizer=tf.keras.optimizers.SGD(),\n",
        "              metrics=[\"mae\"])\n",
        "\n",
        "# Fit the model (increase the epochs)\n",
        "model.fit(X, y, epochs=100)"
      ]
    },
    {
      "cell_type": "code",
      "execution_count": 10,
      "metadata": {
        "colab": {
          "base_uri": "https://localhost:8080/"
        },
        "id": "ZdwM1LE0tEgy",
        "outputId": "b9262142-8795-40de-a4e1-329c1e9cb6de"
      },
      "outputs": [
        {
          "output_type": "stream",
          "name": "stdout",
          "text": [
            "1/1 [==============================] - 0s 222ms/step\n"
          ]
        },
        {
          "output_type": "execute_result",
          "data": {
            "text/plain": [
              "array([[29.89923]], dtype=float32)"
            ]
          },
          "metadata": {},
          "execution_count": 10
        }
      ],
      "source": [
        "# Make predictions\n",
        "y_pred = model.predict([18])\n",
        "y_pred"
      ]
    },
    {
      "cell_type": "markdown",
      "source": [
        "#### Tweak The Model\n",
        "\n",
        "* Experiment by changing the `hyperparameters`.\n",
        "* Add a new layer."
      ],
      "metadata": {
        "id": "j0odgU52tEgy"
      }
    },
    {
      "cell_type": "code",
      "execution_count": 11,
      "metadata": {
        "colab": {
          "base_uri": "https://localhost:8080/"
        },
        "id": "tQM1AE9StEgy",
        "outputId": "50fc67b7-312d-4659-98e6-7379cf927123"
      },
      "outputs": [
        {
          "output_type": "stream",
          "name": "stderr",
          "text": [
            "WARNING:absl:`lr` is deprecated, please use `learning_rate` instead, or use the legacy optimizer, e.g.,tf.keras.optimizers.legacy.SGD.\n"
          ]
        },
        {
          "output_type": "stream",
          "name": "stdout",
          "text": [
            "Epoch 1/100\n",
            "1/1 [==============================] - 2s 2s/step - loss: 10.4770 - mae: 10.4770\n",
            "Epoch 2/100\n",
            "1/1 [==============================] - 0s 46ms/step - loss: 9.7721 - mae: 9.7721\n",
            "Epoch 3/100\n",
            "1/1 [==============================] - 0s 24ms/step - loss: 9.1759 - mae: 9.1759\n",
            "Epoch 4/100\n",
            "1/1 [==============================] - 0s 40ms/step - loss: 8.5599 - mae: 8.5599\n",
            "Epoch 5/100\n",
            "1/1 [==============================] - 0s 49ms/step - loss: 7.9182 - mae: 7.9182\n",
            "Epoch 6/100\n",
            "1/1 [==============================] - 0s 16ms/step - loss: 7.2458 - mae: 7.2458\n",
            "Epoch 7/100\n",
            "1/1 [==============================] - 0s 29ms/step - loss: 6.5374 - mae: 6.5374\n",
            "Epoch 8/100\n",
            "1/1 [==============================] - 0s 44ms/step - loss: 5.8046 - mae: 5.8046\n",
            "Epoch 9/100\n",
            "1/1 [==============================] - 0s 23ms/step - loss: 5.0285 - mae: 5.0285\n",
            "Epoch 10/100\n",
            "1/1 [==============================] - 0s 39ms/step - loss: 4.3269 - mae: 4.3269\n",
            "Epoch 11/100\n",
            "1/1 [==============================] - 0s 27ms/step - loss: 4.2185 - mae: 4.2185\n",
            "Epoch 12/100\n",
            "1/1 [==============================] - 0s 33ms/step - loss: 4.1330 - mae: 4.1330\n",
            "Epoch 13/100\n",
            "1/1 [==============================] - 0s 30ms/step - loss: 4.1580 - mae: 4.1580\n",
            "Epoch 14/100\n",
            "1/1 [==============================] - 0s 17ms/step - loss: 4.1399 - mae: 4.1399\n",
            "Epoch 15/100\n",
            "1/1 [==============================] - 0s 37ms/step - loss: 4.0972 - mae: 4.0972\n",
            "Epoch 16/100\n",
            "1/1 [==============================] - 0s 55ms/step - loss: 4.1467 - mae: 4.1467\n",
            "Epoch 17/100\n",
            "1/1 [==============================] - 0s 27ms/step - loss: 4.1035 - mae: 4.1035\n",
            "Epoch 18/100\n",
            "1/1 [==============================] - 0s 64ms/step - loss: 4.0858 - mae: 4.0858\n",
            "Epoch 19/100\n",
            "1/1 [==============================] - 0s 47ms/step - loss: 4.1108 - mae: 4.1108\n",
            "Epoch 20/100\n",
            "1/1 [==============================] - 0s 33ms/step - loss: 4.0674 - mae: 4.0674\n",
            "Epoch 21/100\n",
            "1/1 [==============================] - 0s 28ms/step - loss: 4.0739 - mae: 4.0739\n",
            "Epoch 22/100\n",
            "1/1 [==============================] - 0s 43ms/step - loss: 4.0745 - mae: 4.0745\n",
            "Epoch 23/100\n",
            "1/1 [==============================] - 0s 35ms/step - loss: 4.0317 - mae: 4.0317\n",
            "Epoch 24/100\n",
            "1/1 [==============================] - 0s 35ms/step - loss: 4.0620 - mae: 4.0620\n",
            "Epoch 25/100\n",
            "1/1 [==============================] - 0s 28ms/step - loss: 4.0387 - mae: 4.0387\n",
            "Epoch 26/100\n",
            "1/1 [==============================] - 0s 54ms/step - loss: 4.0005 - mae: 4.0005\n",
            "Epoch 27/100\n",
            "1/1 [==============================] - 0s 43ms/step - loss: 4.0460 - mae: 4.0460\n",
            "Epoch 28/100\n",
            "1/1 [==============================] - 0s 38ms/step - loss: 4.0029 - mae: 4.0029\n",
            "Epoch 29/100\n",
            "1/1 [==============================] - 0s 26ms/step - loss: 3.9884 - mae: 3.9884\n",
            "Epoch 30/100\n",
            "1/1 [==============================] - 0s 38ms/step - loss: 4.0101 - mae: 4.0101\n",
            "Epoch 31/100\n",
            "1/1 [==============================] - 0s 41ms/step - loss: 3.9673 - mae: 3.9673\n",
            "Epoch 32/100\n",
            "1/1 [==============================] - 0s 33ms/step - loss: 3.9759 - mae: 3.9759\n",
            "Epoch 33/100\n",
            "1/1 [==============================] - 0s 18ms/step - loss: 3.9744 - mae: 3.9744\n",
            "Epoch 34/100\n",
            "1/1 [==============================] - 0s 51ms/step - loss: 3.9317 - mae: 3.9317\n",
            "Epoch 35/100\n",
            "1/1 [==============================] - 0s 15ms/step - loss: 3.9655 - mae: 3.9655\n",
            "Epoch 36/100\n",
            "1/1 [==============================] - 0s 27ms/step - loss: 3.9543 - mae: 3.9543\n",
            "Epoch 37/100\n",
            "1/1 [==============================] - 0s 29ms/step - loss: 3.9164 - mae: 3.9164\n",
            "Epoch 38/100\n",
            "1/1 [==============================] - 0s 30ms/step - loss: 3.9665 - mae: 3.9665\n",
            "Epoch 39/100\n",
            "1/1 [==============================] - 0s 28ms/step - loss: 3.9338 - mae: 3.9338\n",
            "Epoch 40/100\n",
            "1/1 [==============================] - 0s 31ms/step - loss: 3.9188 - mae: 3.9188\n",
            "Epoch 41/100\n",
            "1/1 [==============================] - 0s 26ms/step - loss: 3.9489 - mae: 3.9489\n",
            "Epoch 42/100\n",
            "1/1 [==============================] - 0s 26ms/step - loss: 3.9135 - mae: 3.9135\n",
            "Epoch 43/100\n",
            "1/1 [==============================] - 0s 22ms/step - loss: 3.9209 - mae: 3.9209\n",
            "Epoch 44/100\n",
            "1/1 [==============================] - 0s 21ms/step - loss: 3.9315 - mae: 3.9315\n",
            "Epoch 45/100\n",
            "1/1 [==============================] - 0s 18ms/step - loss: 3.8933 - mae: 3.8933\n",
            "Epoch 46/100\n",
            "1/1 [==============================] - 0s 24ms/step - loss: 3.9227 - mae: 3.9227\n",
            "Epoch 47/100\n",
            "1/1 [==============================] - 0s 24ms/step - loss: 3.9144 - mae: 3.9144\n",
            "Epoch 48/100\n",
            "1/1 [==============================] - 0s 28ms/step - loss: 3.8756 - mae: 3.8756\n",
            "Epoch 49/100\n",
            "1/1 [==============================] - 0s 31ms/step - loss: 3.9245 - mae: 3.9245\n",
            "Epoch 50/100\n",
            "1/1 [==============================] - 0s 41ms/step - loss: 3.8953 - mae: 3.8953\n",
            "Epoch 51/100\n",
            "1/1 [==============================] - 0s 20ms/step - loss: 3.8770 - mae: 3.8770\n",
            "Epoch 52/100\n",
            "1/1 [==============================] - 0s 20ms/step - loss: 3.9078 - mae: 3.9078\n",
            "Epoch 53/100\n",
            "1/1 [==============================] - 0s 17ms/step - loss: 3.8751 - mae: 3.8751\n",
            "Epoch 54/100\n",
            "1/1 [==============================] - 0s 21ms/step - loss: 3.8781 - mae: 3.8781\n",
            "Epoch 55/100\n",
            "1/1 [==============================] - 0s 19ms/step - loss: 3.8913 - mae: 3.8913\n",
            "Epoch 56/100\n",
            "1/1 [==============================] - 0s 25ms/step - loss: 3.8551 - mae: 3.8551\n",
            "Epoch 57/100\n",
            "1/1 [==============================] - 0s 38ms/step - loss: 3.8790 - mae: 3.8790\n",
            "Epoch 58/100\n",
            "1/1 [==============================] - 0s 21ms/step - loss: 3.8749 - mae: 3.8749\n",
            "Epoch 59/100\n",
            "1/1 [==============================] - 0s 28ms/step - loss: 3.8352 - mae: 3.8352\n",
            "Epoch 60/100\n",
            "1/1 [==============================] - 0s 35ms/step - loss: 3.8803 - mae: 3.8803\n",
            "Epoch 61/100\n",
            "1/1 [==============================] - 0s 23ms/step - loss: 3.8577 - mae: 3.8577\n",
            "Epoch 62/100\n",
            "1/1 [==============================] - 0s 26ms/step - loss: 3.8320 - mae: 3.8320\n",
            "Epoch 63/100\n",
            "1/1 [==============================] - 0s 19ms/step - loss: 3.8691 - mae: 3.8691\n",
            "Epoch 64/100\n",
            "1/1 [==============================] - 0s 21ms/step - loss: 3.8379 - mae: 3.8379\n",
            "Epoch 65/100\n",
            "1/1 [==============================] - 0s 19ms/step - loss: 3.8324 - mae: 3.8324\n",
            "Epoch 66/100\n",
            "1/1 [==============================] - 0s 34ms/step - loss: 3.8530 - mae: 3.8530\n",
            "Epoch 67/100\n",
            "1/1 [==============================] - 0s 33ms/step - loss: 3.8182 - mae: 3.8182\n",
            "Epoch 68/100\n",
            "1/1 [==============================] - 0s 33ms/step - loss: 3.8326 - mae: 3.8326\n",
            "Epoch 69/100\n",
            "1/1 [==============================] - 0s 46ms/step - loss: 3.8370 - mae: 3.8370\n",
            "Epoch 70/100\n",
            "1/1 [==============================] - 0s 22ms/step - loss: 3.7987 - mae: 3.7987\n",
            "Epoch 71/100\n",
            "1/1 [==============================] - 0s 24ms/step - loss: 3.8326 - mae: 3.8326\n",
            "Epoch 72/100\n",
            "1/1 [==============================] - 0s 21ms/step - loss: 3.8213 - mae: 3.8213\n",
            "Epoch 73/100\n",
            "1/1 [==============================] - 0s 27ms/step - loss: 3.7841 - mae: 3.7841\n",
            "Epoch 74/100\n",
            "1/1 [==============================] - 0s 39ms/step - loss: 3.8318 - mae: 3.8318\n",
            "Epoch 75/100\n",
            "1/1 [==============================] - 0s 27ms/step - loss: 3.8019 - mae: 3.8019\n",
            "Epoch 76/100\n",
            "1/1 [==============================] - 0s 29ms/step - loss: 3.7838 - mae: 3.7838\n",
            "Epoch 77/100\n",
            "1/1 [==============================] - 0s 13ms/step - loss: 3.8161 - mae: 3.8161\n",
            "Epoch 78/100\n",
            "1/1 [==============================] - 0s 27ms/step - loss: 3.7825 - mae: 3.7825\n",
            "Epoch 79/100\n",
            "1/1 [==============================] - 0s 21ms/step - loss: 3.7833 - mae: 3.7833\n",
            "Epoch 80/100\n",
            "1/1 [==============================] - 0s 22ms/step - loss: 3.8005 - mae: 3.8005\n",
            "Epoch 81/100\n",
            "1/1 [==============================] - 0s 21ms/step - loss: 3.7633 - mae: 3.7633\n",
            "Epoch 82/100\n",
            "1/1 [==============================] - 0s 38ms/step - loss: 3.7825 - mae: 3.7825\n",
            "Epoch 83/100\n",
            "1/1 [==============================] - 0s 23ms/step - loss: 3.7851 - mae: 3.7851\n",
            "Epoch 84/100\n",
            "1/1 [==============================] - 0s 31ms/step - loss: 3.7441 - mae: 3.7441\n",
            "Epoch 85/100\n",
            "1/1 [==============================] - 0s 24ms/step - loss: 3.7841 - mae: 3.7841\n",
            "Epoch 86/100\n",
            "1/1 [==============================] - 0s 25ms/step - loss: 3.7670 - mae: 3.7670\n",
            "Epoch 87/100\n",
            "1/1 [==============================] - 0s 24ms/step - loss: 3.7323 - mae: 3.7323\n",
            "Epoch 88/100\n",
            "1/1 [==============================] - 0s 22ms/step - loss: 3.7805 - mae: 3.7805\n",
            "Epoch 89/100\n",
            "1/1 [==============================] - 0s 22ms/step - loss: 3.7479 - mae: 3.7479\n",
            "Epoch 90/100\n",
            "1/1 [==============================] - 0s 23ms/step - loss: 3.7311 - mae: 3.7311\n",
            "Epoch 91/100\n",
            "1/1 [==============================] - 0s 19ms/step - loss: 3.7653 - mae: 3.7653\n",
            "Epoch 92/100\n",
            "1/1 [==============================] - 0s 59ms/step - loss: 3.7289 - mae: 3.7289\n",
            "Epoch 93/100\n",
            "1/1 [==============================] - 0s 17ms/step - loss: 3.7296 - mae: 3.7296\n",
            "Epoch 94/100\n",
            "1/1 [==============================] - 0s 22ms/step - loss: 3.7503 - mae: 3.7503\n",
            "Epoch 95/100\n",
            "1/1 [==============================] - 0s 32ms/step - loss: 3.7101 - mae: 3.7101\n",
            "Epoch 96/100\n",
            "1/1 [==============================] - 0s 23ms/step - loss: 3.7297 - mae: 3.7297\n",
            "Epoch 97/100\n",
            "1/1 [==============================] - 0s 21ms/step - loss: 3.7331 - mae: 3.7331\n",
            "Epoch 98/100\n",
            "1/1 [==============================] - 0s 18ms/step - loss: 3.6914 - mae: 3.6914\n",
            "Epoch 99/100\n",
            "1/1 [==============================] - 0s 16ms/step - loss: 3.7318 - mae: 3.7318\n",
            "Epoch 100/100\n",
            "1/1 [==============================] - 0s 20ms/step - loss: 3.7144 - mae: 3.7144\n"
          ]
        },
        {
          "output_type": "execute_result",
          "data": {
            "text/plain": [
              "<keras.callbacks.History at 0x7ff0357db2e0>"
            ]
          },
          "metadata": {},
          "execution_count": 11
        }
      ],
      "source": [
        "# Build model\n",
        "model = tf.keras.Sequential([\n",
        "    tf.keras.layers.Dense(units=50, activation=\"ReLU\"),\n",
        "    tf.keras.layers.Dense(units=1, activation=None)\n",
        "])\n",
        "\n",
        "# Compile model\n",
        "model.compile(loss=tf.keras.losses.mae,\n",
        "              optimizer=tf.keras.optimizers.SGD(lr=0.01),\n",
        "              metrics=[\"mae\"])\n",
        "\n",
        "# Fit model\n",
        "model.fit(X, y, epochs=100)"
      ]
    },
    {
      "cell_type": "code",
      "execution_count": 12,
      "metadata": {
        "colab": {
          "base_uri": "https://localhost:8080/"
        },
        "id": "RXv-dT5wtEgy",
        "outputId": "1d8fe05b-8552-4b60-b67f-e3c6c5861694"
      },
      "outputs": [
        {
          "output_type": "stream",
          "name": "stdout",
          "text": [
            "1/1 [==============================] - 0s 191ms/step\n"
          ]
        },
        {
          "output_type": "execute_result",
          "data": {
            "text/plain": [
              "array([[32.402763]], dtype=float32)"
            ]
          },
          "metadata": {},
          "execution_count": 12
        }
      ],
      "source": [
        "y_pred = model.predict([18.0])\n",
        "y_pred"
      ]
    },
    {
      "cell_type": "markdown",
      "source": [
        "### Try Using A Different Optimizer\n",
        "\n",
        "* e.g. Adam"
      ],
      "metadata": {
        "id": "cezRNMlytEgy"
      }
    },
    {
      "cell_type": "code",
      "execution_count": 13,
      "metadata": {
        "colab": {
          "base_uri": "https://localhost:8080/"
        },
        "id": "kHoZNAJVtEgy",
        "outputId": "5ff3ebcb-5aea-4df7-c4fc-2c7a66174065"
      },
      "outputs": [
        {
          "output_type": "stream",
          "name": "stdout",
          "text": [
            "Epoch 1/100\n",
            "1/1 [==============================] - 2s 2s/step - loss: 12.0055 - mae: 12.0055\n",
            "Epoch 2/100\n",
            "1/1 [==============================] - 0s 12ms/step - loss: 11.2956 - mae: 11.2956\n",
            "Epoch 3/100\n",
            "1/1 [==============================] - 0s 21ms/step - loss: 10.8589 - mae: 10.8589\n",
            "Epoch 4/100\n",
            "1/1 [==============================] - 0s 25ms/step - loss: 10.5331 - mae: 10.5331\n",
            "Epoch 5/100\n",
            "1/1 [==============================] - 0s 23ms/step - loss: 10.2115 - mae: 10.2115\n",
            "Epoch 6/100\n",
            "1/1 [==============================] - 0s 25ms/step - loss: 9.8884 - mae: 9.8884\n",
            "Epoch 7/100\n",
            "1/1 [==============================] - 0s 15ms/step - loss: 9.5604 - mae: 9.5604\n",
            "Epoch 8/100\n",
            "1/1 [==============================] - 0s 16ms/step - loss: 9.2249 - mae: 9.2249\n",
            "Epoch 9/100\n",
            "1/1 [==============================] - 0s 15ms/step - loss: 8.8800 - mae: 8.8800\n",
            "Epoch 10/100\n",
            "1/1 [==============================] - 0s 19ms/step - loss: 8.5240 - mae: 8.5240\n",
            "Epoch 11/100\n",
            "1/1 [==============================] - 0s 28ms/step - loss: 8.1554 - mae: 8.1554\n",
            "Epoch 12/100\n",
            "1/1 [==============================] - 0s 19ms/step - loss: 8.0249 - mae: 8.0249\n",
            "Epoch 13/100\n",
            "1/1 [==============================] - 0s 19ms/step - loss: 8.2866 - mae: 8.2866\n",
            "Epoch 14/100\n",
            "1/1 [==============================] - 0s 18ms/step - loss: 8.3912 - mae: 8.3912\n",
            "Epoch 15/100\n",
            "1/1 [==============================] - 0s 18ms/step - loss: 8.2936 - mae: 8.2936\n",
            "Epoch 16/100\n",
            "1/1 [==============================] - 0s 25ms/step - loss: 8.0534 - mae: 8.0534\n",
            "Epoch 17/100\n",
            "1/1 [==============================] - 0s 16ms/step - loss: 7.7096 - mae: 7.7096\n",
            "Epoch 18/100\n",
            "1/1 [==============================] - 0s 18ms/step - loss: 7.4227 - mae: 7.4227\n",
            "Epoch 19/100\n",
            "1/1 [==============================] - 0s 16ms/step - loss: 7.2327 - mae: 7.2327\n",
            "Epoch 20/100\n",
            "1/1 [==============================] - 0s 21ms/step - loss: 7.2335 - mae: 7.2335\n",
            "Epoch 21/100\n",
            "1/1 [==============================] - 0s 19ms/step - loss: 7.1915 - mae: 7.1915\n",
            "Epoch 22/100\n",
            "1/1 [==============================] - 0s 21ms/step - loss: 7.1110 - mae: 7.1110\n",
            "Epoch 23/100\n",
            "1/1 [==============================] - 0s 21ms/step - loss: 6.9948 - mae: 6.9948\n",
            "Epoch 24/100\n",
            "1/1 [==============================] - 0s 22ms/step - loss: 6.8453 - mae: 6.8453\n",
            "Epoch 25/100\n",
            "1/1 [==============================] - 0s 22ms/step - loss: 6.6638 - mae: 6.6638\n",
            "Epoch 26/100\n",
            "1/1 [==============================] - 0s 23ms/step - loss: 6.4514 - mae: 6.4514\n",
            "Epoch 27/100\n",
            "1/1 [==============================] - 0s 22ms/step - loss: 6.2086 - mae: 6.2086\n",
            "Epoch 28/100\n",
            "1/1 [==============================] - 0s 41ms/step - loss: 6.1157 - mae: 6.1157\n",
            "Epoch 29/100\n",
            "1/1 [==============================] - 0s 25ms/step - loss: 6.0177 - mae: 6.0177\n",
            "Epoch 30/100\n",
            "1/1 [==============================] - 0s 22ms/step - loss: 5.9030 - mae: 5.9030\n",
            "Epoch 31/100\n",
            "1/1 [==============================] - 0s 25ms/step - loss: 5.6687 - mae: 5.6687\n",
            "Epoch 32/100\n",
            "1/1 [==============================] - 0s 17ms/step - loss: 5.4577 - mae: 5.4577\n",
            "Epoch 33/100\n",
            "1/1 [==============================] - 0s 14ms/step - loss: 5.2295 - mae: 5.2295\n",
            "Epoch 34/100\n",
            "1/1 [==============================] - 0s 14ms/step - loss: 5.0196 - mae: 5.0196\n",
            "Epoch 35/100\n",
            "1/1 [==============================] - 0s 19ms/step - loss: 4.8602 - mae: 4.8602\n",
            "Epoch 36/100\n",
            "1/1 [==============================] - 0s 15ms/step - loss: 4.6528 - mae: 4.6528\n",
            "Epoch 37/100\n",
            "1/1 [==============================] - 0s 22ms/step - loss: 4.3991 - mae: 4.3991\n",
            "Epoch 38/100\n",
            "1/1 [==============================] - 0s 16ms/step - loss: 4.1419 - mae: 4.1419\n",
            "Epoch 39/100\n",
            "1/1 [==============================] - 0s 16ms/step - loss: 3.9205 - mae: 3.9205\n",
            "Epoch 40/100\n",
            "1/1 [==============================] - 0s 18ms/step - loss: 3.6705 - mae: 3.6705\n",
            "Epoch 41/100\n",
            "1/1 [==============================] - 0s 16ms/step - loss: 3.3921 - mae: 3.3921\n",
            "Epoch 42/100\n",
            "1/1 [==============================] - 0s 18ms/step - loss: 3.0853 - mae: 3.0853\n",
            "Epoch 43/100\n",
            "1/1 [==============================] - 0s 29ms/step - loss: 2.8379 - mae: 2.8379\n",
            "Epoch 44/100\n",
            "1/1 [==============================] - 0s 27ms/step - loss: 2.5504 - mae: 2.5504\n",
            "Epoch 45/100\n",
            "1/1 [==============================] - 0s 21ms/step - loss: 2.2036 - mae: 2.2036\n",
            "Epoch 46/100\n",
            "1/1 [==============================] - 0s 27ms/step - loss: 1.8476 - mae: 1.8476\n",
            "Epoch 47/100\n",
            "1/1 [==============================] - 0s 16ms/step - loss: 1.5439 - mae: 1.5439\n",
            "Epoch 48/100\n",
            "1/1 [==============================] - 0s 17ms/step - loss: 1.1265 - mae: 1.1265\n",
            "Epoch 49/100\n",
            "1/1 [==============================] - 0s 14ms/step - loss: 0.8355 - mae: 0.8355\n",
            "Epoch 50/100\n",
            "1/1 [==============================] - 0s 14ms/step - loss: 0.4831 - mae: 0.4831\n",
            "Epoch 51/100\n",
            "1/1 [==============================] - 0s 17ms/step - loss: 0.1430 - mae: 0.1430\n",
            "Epoch 52/100\n",
            "1/1 [==============================] - 0s 23ms/step - loss: 0.7997 - mae: 0.7997\n",
            "Epoch 53/100\n",
            "1/1 [==============================] - 0s 18ms/step - loss: 1.0348 - mae: 1.0348\n",
            "Epoch 54/100\n",
            "1/1 [==============================] - 0s 20ms/step - loss: 1.0951 - mae: 1.0951\n",
            "Epoch 55/100\n",
            "1/1 [==============================] - 0s 20ms/step - loss: 1.1424 - mae: 1.1424\n",
            "Epoch 56/100\n",
            "1/1 [==============================] - 0s 19ms/step - loss: 1.1863 - mae: 1.1863\n",
            "Epoch 57/100\n",
            "1/1 [==============================] - 0s 30ms/step - loss: 1.3147 - mae: 1.3147\n",
            "Epoch 58/100\n",
            "1/1 [==============================] - 0s 25ms/step - loss: 1.1709 - mae: 1.1709\n",
            "Epoch 59/100\n",
            "1/1 [==============================] - 0s 20ms/step - loss: 1.1677 - mae: 1.1677\n",
            "Epoch 60/100\n",
            "1/1 [==============================] - 0s 24ms/step - loss: 1.1310 - mae: 1.1310\n",
            "Epoch 61/100\n",
            "1/1 [==============================] - 0s 20ms/step - loss: 1.0051 - mae: 1.0051\n",
            "Epoch 62/100\n",
            "1/1 [==============================] - 0s 28ms/step - loss: 0.8024 - mae: 0.8024\n",
            "Epoch 63/100\n",
            "1/1 [==============================] - 0s 23ms/step - loss: 0.5344 - mae: 0.5344\n",
            "Epoch 64/100\n",
            "1/1 [==============================] - 0s 38ms/step - loss: 0.2118 - mae: 0.2118\n",
            "Epoch 65/100\n",
            "1/1 [==============================] - 0s 25ms/step - loss: 0.2953 - mae: 0.2953\n",
            "Epoch 66/100\n",
            "1/1 [==============================] - 0s 22ms/step - loss: 0.3550 - mae: 0.3550\n",
            "Epoch 67/100\n",
            "1/1 [==============================] - 0s 22ms/step - loss: 0.4759 - mae: 0.4759\n",
            "Epoch 68/100\n",
            "1/1 [==============================] - 0s 23ms/step - loss: 0.6481 - mae: 0.6481\n",
            "Epoch 69/100\n",
            "1/1 [==============================] - 0s 20ms/step - loss: 0.6364 - mae: 0.6364\n",
            "Epoch 70/100\n",
            "1/1 [==============================] - 0s 19ms/step - loss: 0.6674 - mae: 0.6674\n",
            "Epoch 71/100\n",
            "1/1 [==============================] - 0s 18ms/step - loss: 0.6235 - mae: 0.6235\n",
            "Epoch 72/100\n",
            "1/1 [==============================] - 0s 20ms/step - loss: 0.5605 - mae: 0.5605\n",
            "Epoch 73/100\n",
            "1/1 [==============================] - 0s 17ms/step - loss: 0.4774 - mae: 0.4774\n",
            "Epoch 74/100\n",
            "1/1 [==============================] - 0s 19ms/step - loss: 0.3376 - mae: 0.3376\n",
            "Epoch 75/100\n",
            "1/1 [==============================] - 0s 17ms/step - loss: 0.1812 - mae: 0.1812\n",
            "Epoch 76/100\n",
            "1/1 [==============================] - 0s 21ms/step - loss: 0.0602 - mae: 0.0602\n",
            "Epoch 77/100\n",
            "1/1 [==============================] - 0s 17ms/step - loss: 0.3452 - mae: 0.3452\n",
            "Epoch 78/100\n",
            "1/1 [==============================] - 0s 19ms/step - loss: 0.3791 - mae: 0.3791\n",
            "Epoch 79/100\n",
            "1/1 [==============================] - 0s 18ms/step - loss: 0.4062 - mae: 0.4062\n",
            "Epoch 80/100\n",
            "1/1 [==============================] - 0s 18ms/step - loss: 0.5086 - mae: 0.5086\n",
            "Epoch 81/100\n",
            "1/1 [==============================] - 0s 15ms/step - loss: 0.4506 - mae: 0.4506\n",
            "Epoch 82/100\n",
            "1/1 [==============================] - 0s 20ms/step - loss: 0.4228 - mae: 0.4228\n",
            "Epoch 83/100\n",
            "1/1 [==============================] - 0s 17ms/step - loss: 0.4531 - mae: 0.4531\n",
            "Epoch 84/100\n",
            "1/1 [==============================] - 0s 18ms/step - loss: 0.2960 - mae: 0.2960\n",
            "Epoch 85/100\n",
            "1/1 [==============================] - 0s 16ms/step - loss: 0.2451 - mae: 0.2451\n",
            "Epoch 86/100\n",
            "1/1 [==============================] - 0s 17ms/step - loss: 0.2104 - mae: 0.2104\n",
            "Epoch 87/100\n",
            "1/1 [==============================] - 0s 28ms/step - loss: 0.2523 - mae: 0.2523\n",
            "Epoch 88/100\n",
            "1/1 [==============================] - 0s 21ms/step - loss: 0.2896 - mae: 0.2896\n",
            "Epoch 89/100\n",
            "1/1 [==============================] - 0s 16ms/step - loss: 0.2584 - mae: 0.2584\n",
            "Epoch 90/100\n",
            "1/1 [==============================] - 0s 22ms/step - loss: 0.3687 - mae: 0.3687\n",
            "Epoch 91/100\n",
            "1/1 [==============================] - 0s 30ms/step - loss: 0.2648 - mae: 0.2648\n",
            "Epoch 92/100\n",
            "1/1 [==============================] - 0s 23ms/step - loss: 0.2337 - mae: 0.2337\n",
            "Epoch 93/100\n",
            "1/1 [==============================] - 0s 26ms/step - loss: 0.2244 - mae: 0.2244\n",
            "Epoch 94/100\n",
            "1/1 [==============================] - 0s 31ms/step - loss: 0.1633 - mae: 0.1633\n",
            "Epoch 95/100\n",
            "1/1 [==============================] - 0s 27ms/step - loss: 0.1158 - mae: 0.1158\n",
            "Epoch 96/100\n",
            "1/1 [==============================] - 0s 17ms/step - loss: 0.3112 - mae: 0.3112\n",
            "Epoch 97/100\n",
            "1/1 [==============================] - 0s 30ms/step - loss: 0.3157 - mae: 0.3157\n",
            "Epoch 98/100\n",
            "1/1 [==============================] - 0s 29ms/step - loss: 0.1258 - mae: 0.1258\n",
            "Epoch 99/100\n",
            "1/1 [==============================] - 0s 19ms/step - loss: 0.4506 - mae: 0.4506\n",
            "Epoch 100/100\n",
            "1/1 [==============================] - 0s 20ms/step - loss: 0.4404 - mae: 0.4404\n"
          ]
        },
        {
          "output_type": "execute_result",
          "data": {
            "text/plain": [
              "<keras.callbacks.History at 0x7ff0351d4760>"
            ]
          },
          "metadata": {},
          "execution_count": 13
        }
      ],
      "source": [
        "# Build model\n",
        "model = tf.keras.Sequential([\n",
        "    tf.keras.layers.Dense(units=50, activation=None),\n",
        "    tf.keras.layers.Dense(units=1),\n",
        "])\n",
        "# Compile\n",
        "model.compile(loss=tf.keras.losses.mae,\n",
        "              optimizer=tf.keras.optimizers.Adam(learning_rate=0.01),\n",
        "              metrics=[\"mae\"])\n",
        "\n",
        "# Fit\n",
        "model.fit(X, y, epochs=100)"
      ]
    },
    {
      "cell_type": "code",
      "execution_count": 14,
      "metadata": {
        "colab": {
          "base_uri": "https://localhost:8080/"
        },
        "id": "IvYv_XshtEgy",
        "outputId": "d5605836-20ce-4155-a6f3-24007e0d8682"
      },
      "outputs": [
        {
          "output_type": "stream",
          "name": "stdout",
          "text": [
            "1/1 [==============================] - 0s 164ms/step\n"
          ]
        },
        {
          "output_type": "execute_result",
          "data": {
            "text/plain": [
              "array([[27.828154]], dtype=float32)"
            ]
          },
          "metadata": {},
          "execution_count": 14
        }
      ],
      "source": [
        "# Make predictions\n",
        "y_pred = model.predict([18.0])\n",
        "y_pred"
      ]
    },
    {
      "cell_type": "markdown",
      "source": [
        "### Evaluate The Model Performance\n",
        "\n",
        "* It's a good idea to `visualize`.\n",
        "* We can visualize the following:\n",
        "\n",
        "  1. Data.\n",
        "  2. Model.\n",
        "  3. Model training.\n",
        "  4. The model predictions."
      ],
      "metadata": {
        "id": "uyx5ZRWxtEgy"
      }
    },
    {
      "cell_type": "code",
      "source": [
        "# Create a bigger data\n",
        "X = tf.cast(tf.range(-100, 100, 4), dtype=tf.float16)\n",
        "y = X + 10\n",
        "\n",
        "\n",
        "# Turn it into a matrix\n",
        "X = tf.expand_dims(X, axis=-1)\n",
        "\n",
        "\n",
        "tf.size(X).numpy()"
      ],
      "metadata": {
        "colab": {
          "base_uri": "https://localhost:8080/"
        },
        "id": "bua5r1dryGf_",
        "outputId": "4b75bf7a-cd0f-4b75-9db6-a633b48d057a"
      },
      "execution_count": 15,
      "outputs": [
        {
          "output_type": "execute_result",
          "data": {
            "text/plain": [
              "50"
            ]
          },
          "metadata": {},
          "execution_count": 15
        }
      ]
    },
    {
      "cell_type": "code",
      "source": [
        "# Visualize the data\n",
        "plt.figure(figsize=(8, 6))\n",
        "\n",
        "plt.scatter(X, y)\n",
        "plt.xlabel(\"X\", size=13)\n",
        "plt.ylabel(\"y\", size=13)\n",
        "plt.title(\"Scatter Plot of X and Y\", size=15)\n",
        "\n",
        "plt.show()"
      ],
      "metadata": {
        "colab": {
          "base_uri": "https://localhost:8080/",
          "height": 409
        },
        "id": "-pzoCSsv1nGK",
        "outputId": "0b4656a2-bbdf-43bc-9137-1f5e8ba174b9"
      },
      "execution_count": 16,
      "outputs": [
        {
          "output_type": "display_data",
          "data": {
            "text/plain": [
              "<Figure size 576x432 with 1 Axes>"
            ],
            "image/png": "[encoded data removed]"
          },
          "metadata": {
            "needs_background": "light"
          }
        }
      ]
    },
    {
      "cell_type": "code",
      "source": [
        "0.8 * X.shape[0]"
      ],
      "metadata": {
        "colab": {
          "base_uri": "https://localhost:8080/"
        },
        "id": "kglyYrzB4lxr",
        "outputId": "d578da53-9bb6-49bc-a359-7991d57627fa"
      },
      "execution_count": 17,
      "outputs": [
        {
          "output_type": "execute_result",
          "data": {
            "text/plain": [
              "40.0"
            ]
          },
          "metadata": {},
          "execution_count": 17
        }
      ]
    },
    {
      "cell_type": "code",
      "source": [
        "# Split the data\n",
        "X_train, X_val = X[:40], X[40:]\n",
        "y_train, y_val = y[:40], y[40:]\n",
        "\n",
        "X_train.shape, X_val.shape"
      ],
      "metadata": {
        "colab": {
          "base_uri": "https://localhost:8080/"
        },
        "id": "xQTE-tdB4ZgL",
        "outputId": "846677fa-7c9e-42b4-cc05-996626e1c765"
      },
      "execution_count": 18,
      "outputs": [
        {
          "output_type": "execute_result",
          "data": {
            "text/plain": [
              "(TensorShape([40, 1]), TensorShape([10, 1]))"
            ]
          },
          "metadata": {},
          "execution_count": 18
        }
      ]
    },
    {
      "cell_type": "code",
      "source": [
        "# Visualize the data\n",
        "plt.figure(figsize=(8, 6))\n",
        "\n",
        "plt.scatter(X_train, y_train, color=\"red\", label=\"Training data\")\n",
        "plt.scatter(X_val, y_val, color=\"blue\", label=\"Validation data\")\n",
        "plt.xlabel(\"X\", size=13)\n",
        "plt.ylabel(\"y\", size=13)\n",
        "plt.title(\"Scatter Plot of X and Y\", size=15)\n",
        "plt.legend()\n",
        "\n",
        "plt.show()"
      ],
      "metadata": {
        "colab": {
          "base_uri": "https://localhost:8080/",
          "height": 409
        },
        "id": "qQe2DYcy6BQ0",
        "outputId": "d98db3bc-70b1-4e77-ed61-ba5e885e9ac6"
      },
      "execution_count": 19,
      "outputs": [
        {
          "output_type": "display_data",
          "data": {
            "text/plain": [
              "<Figure size 576x432 with 1 Axes>"
            ],
            "image/png": "[encoded data removed]"
          },
          "metadata": {
            "needs_background": "light"
          }
        }
      ]
    },
    {
      "cell_type": "markdown",
      "source": [
        "### Visualize The Data Split"
      ],
      "metadata": {
        "id": "cbCeorKj58C9"
      }
    },
    {
      "cell_type": "code",
      "source": [
        "# from sklearn.model_selection import train_test_split\n",
        "\n",
        "\n",
        "\n",
        "# RANDOM_STATE, TEST_SIZE = 123, 0.2\n",
        "\n",
        "# X_train, X_val, y_train, y_val = train_test_split(X, y, test_size=TEST_SIZE, random_state=RANDOM_STATE)\n",
        "# X_train.shape, X_val.shape"
      ],
      "metadata": {
        "id": "7W1G_gP90BxJ"
      },
      "execution_count": 20,
      "outputs": []
    },
    {
      "cell_type": "code",
      "source": [
        "# Build model (with input shape)\n",
        "RANDOM_STATE = 123\n",
        "\n",
        "tf.random.set_seed(RANDOM_STATE)\n",
        "\n",
        "model = tf.keras.Sequential([\n",
        "    tf.keras.layers.Dense(units=10, activation=None, input_shape=[1], name=\"input_layer\"),\n",
        "    tf.keras.layers.Dense(units=1, name=\"output_layer\"),\n",
        "], name=\"neural_net_1\")\n",
        "\n",
        "# Compile \n",
        "model.compile(loss=tf.keras.losses.mae,\n",
        "              optimizer=tf.keras.optimizers.SGD(learning_rate=0.01),\n",
        "              metrics=[\"mae\"])\n",
        "\n"
      ],
      "metadata": {
        "id": "0MgCCzGkyGWh"
      },
      "execution_count": 21,
      "outputs": []
    },
    {
      "cell_type": "code",
      "source": [
        "# model.build()\n",
        "model.summary()"
      ],
      "metadata": {
        "colab": {
          "base_uri": "https://localhost:8080/"
        },
        "id": "uXCVuoDQDPG-",
        "outputId": "0f851f84-9a3d-4b1f-a16f-845e6c1714df"
      },
      "execution_count": 22,
      "outputs": [
        {
          "output_type": "stream",
          "name": "stdout",
          "text": [
            "Model: \"neural_net_1\"\n",
            "_________________________________________________________________\n",
            " Layer (type)                Output Shape              Param #   \n",
            "=================================================================\n",
            " input_layer (Dense)         (None, 10)                20        \n",
            "                                                                 \n",
            " output_layer (Dense)        (None, 1)                 11        \n",
            "                                                                 \n",
            "=================================================================\n",
            "Total params: 31\n",
            "Trainable params: 31\n",
            "Non-trainable params: 0\n",
            "_________________________________________________________________\n"
          ]
        }
      ]
    },
    {
      "cell_type": "markdown",
      "source": [
        "### Some Key Terms\n",
        "* **Total params**: total number of parameters the model needs to learn.\n",
        "* **Trainable params**: these are the parameters (patterns) that the model can update as it trains.\n",
        "* **Non-trainable params**: these parameters are not updated during training. this is typical when you use an already learned parameters from other models during training (i.e transfer learning)"
      ],
      "metadata": {
        "id": "fICF6wX2Dmxb"
      }
    },
    {
      "cell_type": "code",
      "source": [
        "# Fit \n",
        "model.fit(X_train, y_train, epochs=100)"
      ],
      "metadata": {
        "colab": {
          "base_uri": "https://localhost:8080/"
        },
        "id": "R7rGqq7XFhuq",
        "outputId": "45b24336-de7e-46fe-cdfb-739c89663315"
      },
      "execution_count": 23,
      "outputs": [
        {
          "output_type": "stream",
          "name": "stdout",
          "text": [
            "Epoch 1/100\n",
            "2/2 [==============================] - 2s 26ms/step - loss: 34.5074 - mae: 34.5074\n",
            "Epoch 2/100\n",
            "2/2 [==============================] - 0s 15ms/step - loss: 20.0858 - mae: 20.0858\n",
            "Epoch 3/100\n",
            "2/2 [==============================] - 0s 21ms/step - loss: 34.5634 - mae: 34.5634\n",
            "Epoch 4/100\n",
            "2/2 [==============================] - 0s 20ms/step - loss: 21.4034 - mae: 21.4034\n",
            "Epoch 5/100\n",
            "2/2 [==============================] - 0s 13ms/step - loss: 21.5464 - mae: 21.5464\n",
            "Epoch 6/100\n",
            "2/2 [==============================] - 0s 12ms/step - loss: 14.1515 - mae: 14.1515\n",
            "Epoch 7/100\n",
            "2/2 [==============================] - 0s 13ms/step - loss: 21.4254 - mae: 21.4254\n",
            "Epoch 8/100\n",
            "2/2 [==============================] - 0s 10ms/step - loss: 18.2236 - mae: 18.2236\n",
            "Epoch 9/100\n",
            "2/2 [==============================] - 0s 15ms/step - loss: 11.1385 - mae: 11.1385\n",
            "Epoch 10/100\n",
            "2/2 [==============================] - 0s 12ms/step - loss: 16.1364 - mae: 16.1364\n",
            "Epoch 11/100\n",
            "2/2 [==============================] - 0s 13ms/step - loss: 13.8725 - mae: 13.8725\n",
            "Epoch 12/100\n",
            "2/2 [==============================] - 0s 12ms/step - loss: 16.4569 - mae: 16.4569\n",
            "Epoch 13/100\n",
            "2/2 [==============================] - 0s 12ms/step - loss: 16.5110 - mae: 16.5110\n",
            "Epoch 14/100\n",
            "2/2 [==============================] - 0s 13ms/step - loss: 11.8991 - mae: 11.8991\n",
            "Epoch 15/100\n",
            "2/2 [==============================] - 0s 11ms/step - loss: 14.2667 - mae: 14.2667\n",
            "Epoch 16/100\n",
            "2/2 [==============================] - 0s 11ms/step - loss: 14.7121 - mae: 14.7121\n",
            "Epoch 17/100\n",
            "2/2 [==============================] - 0s 10ms/step - loss: 16.2313 - mae: 16.2313\n",
            "Epoch 18/100\n",
            "2/2 [==============================] - 0s 11ms/step - loss: 16.1192 - mae: 16.1192\n",
            "Epoch 19/100\n",
            "2/2 [==============================] - 0s 12ms/step - loss: 12.6505 - mae: 12.6505\n",
            "Epoch 20/100\n",
            "2/2 [==============================] - 0s 13ms/step - loss: 24.1555 - mae: 24.1555\n",
            "Epoch 21/100\n",
            "2/2 [==============================] - 0s 10ms/step - loss: 8.5067 - mae: 8.5067\n",
            "Epoch 22/100\n",
            "2/2 [==============================] - 0s 10ms/step - loss: 13.9384 - mae: 13.9384\n",
            "Epoch 23/100\n",
            "2/2 [==============================] - 0s 10ms/step - loss: 18.2667 - mae: 18.2667\n",
            "Epoch 24/100\n",
            "2/2 [==============================] - 0s 11ms/step - loss: 10.5624 - mae: 10.5624\n",
            "Epoch 25/100\n",
            "2/2 [==============================] - 0s 11ms/step - loss: 11.2988 - mae: 11.2988\n",
            "Epoch 26/100\n",
            "2/2 [==============================] - 0s 11ms/step - loss: 21.3180 - mae: 21.3180\n",
            "Epoch 27/100\n",
            "2/2 [==============================] - 0s 12ms/step - loss: 15.3645 - mae: 15.3645\n",
            "Epoch 28/100\n",
            "2/2 [==============================] - 0s 12ms/step - loss: 14.2559 - mae: 14.2559\n",
            "Epoch 29/100\n",
            "2/2 [==============================] - 0s 11ms/step - loss: 10.4500 - mae: 10.4500\n",
            "Epoch 30/100\n",
            "2/2 [==============================] - 0s 12ms/step - loss: 15.1069 - mae: 15.1069\n",
            "Epoch 31/100\n",
            "2/2 [==============================] - 0s 19ms/step - loss: 15.3204 - mae: 15.3204\n",
            "Epoch 32/100\n",
            "2/2 [==============================] - 0s 20ms/step - loss: 12.1778 - mae: 12.1778\n",
            "Epoch 33/100\n",
            "2/2 [==============================] - 0s 20ms/step - loss: 20.7481 - mae: 20.7481\n",
            "Epoch 34/100\n",
            "2/2 [==============================] - 0s 10ms/step - loss: 11.3656 - mae: 11.3656\n",
            "Epoch 35/100\n",
            "2/2 [==============================] - 0s 10ms/step - loss: 11.1942 - mae: 11.1942\n",
            "Epoch 36/100\n",
            "2/2 [==============================] - 0s 11ms/step - loss: 15.5666 - mae: 15.5666\n",
            "Epoch 37/100\n",
            "2/2 [==============================] - 0s 10ms/step - loss: 13.3092 - mae: 13.3092\n",
            "Epoch 38/100\n",
            "2/2 [==============================] - 0s 10ms/step - loss: 14.5268 - mae: 14.5268\n",
            "Epoch 39/100\n",
            "2/2 [==============================] - 0s 10ms/step - loss: 16.9809 - mae: 16.9809\n",
            "Epoch 40/100\n",
            "2/2 [==============================] - 0s 11ms/step - loss: 25.8122 - mae: 25.8122\n",
            "Epoch 41/100\n",
            "2/2 [==============================] - 0s 11ms/step - loss: 10.1688 - mae: 10.1688\n",
            "Epoch 42/100\n",
            "2/2 [==============================] - 0s 10ms/step - loss: 14.1443 - mae: 14.1443\n",
            "Epoch 43/100\n",
            "2/2 [==============================] - 0s 10ms/step - loss: 11.1258 - mae: 11.1258\n",
            "Epoch 44/100\n",
            "2/2 [==============================] - 0s 11ms/step - loss: 9.9328 - mae: 9.9328\n",
            "Epoch 45/100\n",
            "2/2 [==============================] - 0s 10ms/step - loss: 18.6591 - mae: 18.6591\n",
            "Epoch 46/100\n",
            "2/2 [==============================] - 0s 13ms/step - loss: 14.8872 - mae: 14.8872\n",
            "Epoch 47/100\n",
            "2/2 [==============================] - 0s 12ms/step - loss: 20.3403 - mae: 20.3403\n",
            "Epoch 48/100\n",
            "2/2 [==============================] - 0s 13ms/step - loss: 24.2988 - mae: 24.2988\n",
            "Epoch 49/100\n",
            "2/2 [==============================] - 0s 12ms/step - loss: 11.8320 - mae: 11.8320\n",
            "Epoch 50/100\n",
            "2/2 [==============================] - 0s 11ms/step - loss: 16.1454 - mae: 16.1454\n",
            "Epoch 51/100\n",
            "2/2 [==============================] - 0s 11ms/step - loss: 18.4316 - mae: 18.4316\n",
            "Epoch 52/100\n",
            "2/2 [==============================] - 0s 11ms/step - loss: 12.5430 - mae: 12.5430\n",
            "Epoch 53/100\n",
            "2/2 [==============================] - 0s 10ms/step - loss: 15.3851 - mae: 15.3851\n",
            "Epoch 54/100\n",
            "2/2 [==============================] - 0s 11ms/step - loss: 12.5068 - mae: 12.5068\n",
            "Epoch 55/100\n",
            "2/2 [==============================] - 0s 21ms/step - loss: 13.0493 - mae: 13.0493\n",
            "Epoch 56/100\n",
            "2/2 [==============================] - 0s 17ms/step - loss: 10.6745 - mae: 10.6745\n",
            "Epoch 57/100\n",
            "2/2 [==============================] - 0s 23ms/step - loss: 14.4961 - mae: 14.4961\n",
            "Epoch 58/100\n",
            "2/2 [==============================] - 0s 21ms/step - loss: 9.8862 - mae: 9.8862\n",
            "Epoch 59/100\n",
            "2/2 [==============================] - 0s 30ms/step - loss: 7.3136 - mae: 7.3136\n",
            "Epoch 60/100\n",
            "2/2 [==============================] - 0s 13ms/step - loss: 13.1314 - mae: 13.1314\n",
            "Epoch 61/100\n",
            "2/2 [==============================] - 0s 14ms/step - loss: 13.6206 - mae: 13.6206\n",
            "Epoch 62/100\n",
            "2/2 [==============================] - 0s 11ms/step - loss: 26.3255 - mae: 26.3255\n",
            "Epoch 63/100\n",
            "2/2 [==============================] - 0s 10ms/step - loss: 9.9080 - mae: 9.9080\n",
            "Epoch 64/100\n",
            "2/2 [==============================] - 0s 13ms/step - loss: 12.5728 - mae: 12.5728\n",
            "Epoch 65/100\n",
            "2/2 [==============================] - 0s 14ms/step - loss: 9.3418 - mae: 9.3418\n",
            "Epoch 66/100\n",
            "2/2 [==============================] - 0s 15ms/step - loss: 22.7189 - mae: 22.7189\n",
            "Epoch 67/100\n",
            "2/2 [==============================] - 0s 27ms/step - loss: 15.0854 - mae: 15.0854\n",
            "Epoch 68/100\n",
            "2/2 [==============================] - 0s 14ms/step - loss: 14.0246 - mae: 14.0246\n",
            "Epoch 69/100\n",
            "2/2 [==============================] - 0s 13ms/step - loss: 13.9608 - mae: 13.9608\n",
            "Epoch 70/100\n",
            "2/2 [==============================] - 0s 14ms/step - loss: 12.8318 - mae: 12.8318\n",
            "Epoch 71/100\n",
            "2/2 [==============================] - 0s 14ms/step - loss: 17.5914 - mae: 17.5914\n",
            "Epoch 72/100\n",
            "2/2 [==============================] - 0s 13ms/step - loss: 13.8073 - mae: 13.8073\n",
            "Epoch 73/100\n",
            "2/2 [==============================] - 0s 12ms/step - loss: 9.0598 - mae: 9.0598\n",
            "Epoch 74/100\n",
            "2/2 [==============================] - 0s 14ms/step - loss: 22.1832 - mae: 22.1832\n",
            "Epoch 75/100\n",
            "2/2 [==============================] - 0s 15ms/step - loss: 10.3395 - mae: 10.3395\n",
            "Epoch 76/100\n",
            "2/2 [==============================] - 0s 14ms/step - loss: 13.4243 - mae: 13.4243\n",
            "Epoch 77/100\n",
            "2/2 [==============================] - 0s 14ms/step - loss: 6.5579 - mae: 6.5579\n",
            "Epoch 78/100\n",
            "2/2 [==============================] - 0s 24ms/step - loss: 12.3195 - mae: 12.3195\n",
            "Epoch 79/100\n",
            "2/2 [==============================] - 0s 15ms/step - loss: 7.7661 - mae: 7.7661\n",
            "Epoch 80/100\n",
            "2/2 [==============================] - 0s 16ms/step - loss: 9.6035 - mae: 9.6035\n",
            "Epoch 81/100\n",
            "2/2 [==============================] - 0s 15ms/step - loss: 16.0951 - mae: 16.0951\n",
            "Epoch 82/100\n",
            "2/2 [==============================] - 0s 16ms/step - loss: 6.5207 - mae: 6.5207\n",
            "Epoch 83/100\n",
            "2/2 [==============================] - 0s 16ms/step - loss: 10.1317 - mae: 10.1317\n",
            "Epoch 84/100\n",
            "2/2 [==============================] - 0s 35ms/step - loss: 19.8418 - mae: 19.8418\n",
            "Epoch 85/100\n",
            "2/2 [==============================] - 0s 33ms/step - loss: 15.8843 - mae: 15.8843\n",
            "Epoch 86/100\n",
            "2/2 [==============================] - 0s 17ms/step - loss: 16.9426 - mae: 16.9426\n",
            "Epoch 87/100\n",
            "2/2 [==============================] - 0s 21ms/step - loss: 16.9473 - mae: 16.9473\n",
            "Epoch 88/100\n",
            "2/2 [==============================] - 0s 15ms/step - loss: 29.1042 - mae: 29.1042\n",
            "Epoch 89/100\n",
            "2/2 [==============================] - 0s 14ms/step - loss: 20.7034 - mae: 20.7034\n",
            "Epoch 90/100\n",
            "2/2 [==============================] - 0s 37ms/step - loss: 11.5653 - mae: 11.5653\n",
            "Epoch 91/100\n",
            "2/2 [==============================] - 0s 14ms/step - loss: 23.6950 - mae: 23.6950\n",
            "Epoch 92/100\n",
            "2/2 [==============================] - 0s 21ms/step - loss: 19.5514 - mae: 19.5514\n",
            "Epoch 93/100\n",
            "2/2 [==============================] - 0s 16ms/step - loss: 8.8151 - mae: 8.8151\n",
            "Epoch 94/100\n",
            "2/2 [==============================] - 0s 14ms/step - loss: 18.8905 - mae: 18.8905\n",
            "Epoch 95/100\n",
            "2/2 [==============================] - 0s 14ms/step - loss: 15.6618 - mae: 15.6618\n",
            "Epoch 96/100\n",
            "2/2 [==============================] - 0s 15ms/step - loss: 16.6304 - mae: 16.6304\n",
            "Epoch 97/100\n",
            "2/2 [==============================] - 0s 15ms/step - loss: 13.2974 - mae: 13.2974\n",
            "Epoch 98/100\n",
            "2/2 [==============================] - 0s 17ms/step - loss: 26.4847 - mae: 26.4847\n",
            "Epoch 99/100\n",
            "2/2 [==============================] - 0s 36ms/step - loss: 15.8907 - mae: 15.8907\n",
            "Epoch 100/100\n",
            "2/2 [==============================] - 0s 18ms/step - loss: 19.6101 - mae: 19.6101\n"
          ]
        },
        {
          "output_type": "execute_result",
          "data": {
            "text/plain": [
              "<keras.callbacks.History at 0x7ff035704f70>"
            ]
          },
          "metadata": {},
          "execution_count": 23
        }
      ]
    },
    {
      "cell_type": "markdown",
      "source": [
        "### Visualize The Model\n",
        "\n",
        "[![image.png](https://i.postimg.cc/XJnBMPTk/image.png)](https://postimg.cc/Lq08Lx4J)"
      ],
      "metadata": {
        "id": "9yZyuAAZF9eZ"
      }
    },
    {
      "cell_type": "code",
      "source": [
        "from tensorflow.keras.utils import plot_model\n",
        "\n",
        "\n",
        "plot_model(model, show_shapes=True)"
      ],
      "metadata": {
        "colab": {
          "base_uri": "https://localhost:8080/",
          "height": 312
        },
        "id": "dqmkX400F9SZ",
        "outputId": "e2acd7df-c031-4ccf-f250-11533bae160e"
      },
      "execution_count": 24,
      "outputs": [
        {
          "output_type": "execute_result",
          "data": {
            "image/png": "[encoded data removed]",
            "text/plain": [
              "<IPython.core.display.Image object>"
            ]
          },
          "metadata": {},
          "execution_count": 24
        }
      ]
    },
    {
      "cell_type": "code",
      "source": [],
      "metadata": {
        "id": "GxqhY96vGbPf"
      },
      "execution_count": 24,
      "outputs": []
    },
    {
      "cell_type": "code",
      "source": [
        "def plot_prediction(X_train=X_train, \n",
        "                    X_val=X_val, \n",
        "                    y_train=y_train, \n",
        "                    y_val=y_val, \n",
        "                    y_predictions=y_pred) -> \"Plot\":\n",
        "  \"\"\"This is used to visualize the model predictions.\n",
        "\n",
        "  Params:\n",
        "    X_train (tf.tensor): The training data.\n",
        "    X_val (tf.tensor): The validation data.\n",
        "    y_train (tf.tensor): The labels of the training data.\n",
        "    y_train (tf.tensor): The labels of the validation data.\n",
        "    y_pred (tf.tensor): The predicted data.\n",
        "\n",
        "  Returns:\n",
        "    None\n",
        "  \"\"\"\n",
        "  # Visualize the data\n",
        "  plt.figure(figsize=(8, 6))\n",
        "\n",
        "  plt.scatter(X_train, y_train, color=\"red\", label=\"Training data\")\n",
        "  plt.scatter(X_val, y_val, color=\"blue\", label=\"Validation data\")\n",
        "  plt.scatter(X_val, y_predictions, color=\"green\", label=\"Predicted data\")\n",
        "  plt.xlabel(\"X\", size=13)\n",
        "  plt.ylabel(\"y\", size=13)\n",
        "  plt.title(\"Scatter Plot of X and Y\", size=15)\n",
        "  plt.legend()\n",
        "\n",
        "  plt.show()"
      ],
      "metadata": {
        "id": "yiX8ZawtyGIk"
      },
      "execution_count": 25,
      "outputs": []
    },
    {
      "cell_type": "code",
      "source": [
        "# Make predictions\n",
        "y_pred = model.predict(X_val)"
      ],
      "metadata": {
        "colab": {
          "base_uri": "https://localhost:8080/"
        },
        "id": "NPxM67uWRuQw",
        "outputId": "c435744f-f72f-4ca3-82e6-a7754c0aa352"
      },
      "execution_count": 26,
      "outputs": [
        {
          "output_type": "stream",
          "name": "stderr",
          "text": [
            "WARNING:tensorflow:5 out of the last 5 calls to <function Model.make_predict_function.<locals>.predict_function at 0x7ff034375e50> triggered tf.function retracing. Tracing is expensive and the excessive number of tracings could be due to (1) creating @tf.function repeatedly in a loop, (2) passing tensors with different shapes, (3) passing Python objects instead of tensors. For (1), please define your @tf.function outside of the loop. For (2), @tf.function has reduce_retracing=True option that can avoid unnecessary retracing. For (3), please refer to https://www.tensorflow.org/guide/function#controlling_retracing and https://www.tensorflow.org/api_docs/python/tf/function for  more details.\n"
          ]
        },
        {
          "output_type": "stream",
          "name": "stdout",
          "text": [
            "1/1 [==============================] - 0s 105ms/step\n"
          ]
        }
      ]
    },
    {
      "cell_type": "code",
      "source": [
        "plot_prediction(y_predictions=y_pred)"
      ],
      "metadata": {
        "colab": {
          "base_uri": "https://localhost:8080/",
          "height": 409
        },
        "id": "POWJ7A_gyGFb",
        "outputId": "f30b0164-0513-4263-c08a-8a480c6d0ac0"
      },
      "execution_count": 27,
      "outputs": [
        {
          "output_type": "display_data",
          "data": {
            "text/plain": [
              "<Figure size 576x432 with 1 Axes>"
            ],
            "image/png": "[encoded data removed]"
          },
          "metadata": {
            "needs_background": "light"
          }
        }
      ]
    },
    {
      "cell_type": "code",
      "source": [
        "# Evaluate\n",
        "model.evaluate(X_val, y_val)"
      ],
      "metadata": {
        "colab": {
          "base_uri": "https://localhost:8080/"
        },
        "id": "LouQdtgFyF_c",
        "outputId": "5234b5bc-430c-4a31-c023-70bad84ee9ec"
      },
      "execution_count": 28,
      "outputs": [
        {
          "output_type": "stream",
          "name": "stdout",
          "text": [
            "1/1 [==============================] - 0s 486ms/step - loss: 4.7614 - mae: 4.7614\n"
          ]
        },
        {
          "output_type": "execute_result",
          "data": {
            "text/plain": [
              "[4.761422634124756, 4.761422634124756]"
            ]
          },
          "metadata": {},
          "execution_count": 28
        }
      ]
    },
    {
      "cell_type": "markdown",
      "source": [
        "### Challenge\n",
        "\n",
        "> Implement the following:\n",
        "\n",
        "1. Mean Absolute Error\n",
        "\n",
        "```python\n",
        "tf.keras.losses.MAE()\n",
        "\n",
        "# OR\n",
        "tf.metrics.mean_absolute_error()\n",
        "```\n",
        "\n",
        "$$\n",
        "mae = \\frac{\\sum^n_{i=1}{|y_{i}} - \\hat{y}_{i}|}{n}\n",
        "$$\n",
        "\n",
        "2. Mean Squared Error\n",
        "\n",
        "```python\n",
        "tf.keras.losses.MSE()\n",
        "\n",
        "# OR\n",
        "tf.metrics.mean_square_error()\n",
        "```\n",
        "\n",
        "$$\n",
        "mse = \\frac{\\sum^n_{i=1}{(y_{i}} - \\hat{y}_{i})^2}{n}\n",
        "$$"
      ],
      "metadata": {
        "id": "vwMGN8vkPH4c"
      }
    },
    {
      "cell_type": "code",
      "source": [],
      "metadata": {
        "id": "3OWyt2WwyF8-"
      },
      "execution_count": 28,
      "outputs": []
    },
    {
      "cell_type": "code",
      "source": [],
      "metadata": {
        "id": "pZYrSwTgyF6d"
      },
      "execution_count": 28,
      "outputs": []
    },
    {
      "cell_type": "code",
      "source": [],
      "metadata": {
        "id": "UkrFvw7EyF3L"
      },
      "execution_count": 28,
      "outputs": []
    },
    {
      "cell_type": "code",
      "source": [],
      "metadata": {
        "id": "dPk3vbrkyFzs"
      },
      "execution_count": 28,
      "outputs": []
    },
    {
      "cell_type": "code",
      "execution_count": 28,
      "metadata": {
        "id": "kg8aU3AXtEgy"
      },
      "outputs": [],
      "source": []
    },
    {
      "cell_type": "code",
      "execution_count": 28,
      "metadata": {
        "id": "avzev_qatEgz"
      },
      "outputs": [],
      "source": []
    },
    {
      "cell_type": "code",
      "execution_count": 28,
      "metadata": {
        "id": "a20akyw8tEgz"
      },
      "outputs": [],
      "source": []
    },
    {
      "cell_type": "code",
      "execution_count": 28,
      "metadata": {
        "id": "dXtxCCGttEgz"
      },
      "outputs": [],
      "source": []
    },
    {
      "cell_type": "code",
      "execution_count": 28,
      "metadata": {
        "id": "mATrnM8dtEgz"
      },
      "outputs": [],
      "source": []
    },
    {
      "cell_type": "code",
      "execution_count": 28,
      "metadata": {
        "id": "ycGR7g9WtEgz"
      },
      "outputs": [],
      "source": []
    },
    {
      "cell_type": "code",
      "execution_count": 28,
      "metadata": {
        "id": "tXguO8jGtEgz"
      },
      "outputs": [],
      "source": []
    },
    {
      "cell_type": "code",
      "execution_count": 28,
      "metadata": {
        "id": "4PDwJKuktEgz"
      },
      "outputs": [],
      "source": []
    },
    {
      "cell_type": "code",
      "execution_count": 28,
      "metadata": {
        "id": "hgzKYEIRtEgz"
      },
      "outputs": [],
      "source": []
    },
    {
      "cell_type": "code",
      "execution_count": 28,
      "metadata": {
        "id": "6pjwEWDPtEgz"
      },
      "outputs": [],
      "source": []
    }
  ],
  "metadata": {
    "language_info": {
      "name": "python"
    },
    "orig_nbformat": 4,
    "colab": {
      "provenance": [],
      "include_colab_link": true
    },
    "kernelspec": {
      "name": "python3",
      "display_name": "Python 3"
    },
    "gpuClass": "standard"
  },
  "nbformat": 4,
  "nbformat_minor": 0
}