{
  "cells": [
    {
      "cell_type": "markdown",
      "metadata": {
        "id": "view-in-github",
        "colab_type": "text"
      },
      "source": [
        "<a href=\"https://colab.research.google.com/github/chineidu/NLP-Tutorial/blob/main/notebook/03_tensorflow/02_regression_with_tf.ipynb\" target=\"_parent\"><img src=\"https://colab.research.google.com/assets/colab-badge.svg\" alt=\"Open In Colab\"/></a>"
      ]
    },
    {
      "cell_type": "markdown",
      "metadata": {
        "id": "YBL3ZU9ptEgt"
      },
      "source": [
        "# Regression With TensorFlow"
      ]
    },
    {
      "cell_type": "code",
      "execution_count": 1,
      "metadata": {
        "id": "L8l2Qmy4tEgv"
      },
      "outputs": [],
      "source": [
        "# Standard imports\n",
        "import numpy as np\n",
        "import pandas as pd\n",
        "import matplotlib.pyplot as plt\n",
        "import seaborn as sns\n",
        "\n",
        "import tensorflow as tf\n"
      ]
    },
    {
      "cell_type": "markdown",
      "source": [
        "### Create Data\n",
        "\n",
        "* This data will be used to train the neural network"
      ],
      "metadata": {
        "id": "8IcL3zlbtEgw"
      }
    },
    {
      "cell_type": "code",
      "execution_count": 2,
      "metadata": {
        "colab": {
          "base_uri": "https://localhost:8080/",
          "height": 409
        },
        "id": "oIO693j_tEgx",
        "outputId": "f484cf5c-a7c6-49d8-d958-8ab1e52fc181"
      },
      "outputs": [
        {
          "output_type": "display_data",
          "data": {
            "text/plain": [
              "<Figure size 576x432 with 1 Axes>"
            ],
            "image/png": "[encoded data removed]"
          },
          "metadata": {
            "needs_background": "light"
          }
        }
      ],
      "source": [
        "X = np.array([[-12, -9, -6, -3, 0, 3, 6, 9, 12, 15]]) # Row Matrix\n",
        "y = np.array([-2, 1, 4, 7, 10, 13, 16, 19, 22, 25])\n",
        "\n",
        "\n",
        "# Visualize the data\n",
        "plt.figure(figsize=(8, 6))\n",
        "plt.scatter(X, y)\n",
        "plt.xlabel(\"X\", size=13)\n",
        "plt.ylabel(\"y\", size=13)\n",
        "plt.title(\"Scatter plot of X and y\", size=15)\n",
        "plt.show()"
      ]
    },
    {
      "cell_type": "code",
      "execution_count": 3,
      "metadata": {
        "colab": {
          "base_uri": "https://localhost:8080/"
        },
        "id": "QvqsN2k7tEgx",
        "outputId": "938f8612-a224-4122-e7d2-d6e98fdec173"
      },
      "outputs": [
        {
          "output_type": "execute_result",
          "data": {
            "text/plain": [
              "array([[ True,  True,  True,  True,  True,  True,  True,  True,  True,\n",
              "         True]])"
            ]
          },
          "metadata": {},
          "execution_count": 3
        }
      ],
      "source": [
        "y == X + 10"
      ]
    },
    {
      "cell_type": "code",
      "execution_count": 4,
      "metadata": {
        "colab": {
          "base_uri": "https://localhost:8080/"
        },
        "id": "k6yJtWMNtEgx",
        "outputId": "24e54591-3688-4df5-8d47-736dc8c7344e"
      },
      "outputs": [
        {
          "output_type": "execute_result",
          "data": {
            "text/plain": [
              "(TensorShape([10, 1]), TensorShape([10]))"
            ]
          },
          "metadata": {},
          "execution_count": 4
        }
      ],
      "source": [
        "# Convert the NumPy arrays to Tensors\n",
        "# Cast and reshape X\n",
        "X = tf.cast(tf.constant(X), dtype=tf.float16)\n",
        "X = tf.reshape(X, shape=(-1, 1))\n",
        "y = tf.cast(tf.constant(y), dtype=tf.float16)\n",
        "\n",
        "X.shape, y.shape"
      ]
    },
    {
      "cell_type": "markdown",
      "source": [
        "### Steps In Modelling With TensorFlow\n",
        "\n",
        "1. **Create a model**: define the `input`, `hidden` and `output` layers of the deep learning model.\n",
        "2. **Compile the model**: define the `loss function` (i.e the function that tells our model how wrong it is), the `optimizer` (it tells our model how to improve the patterns its learning) and the `evaluation metrics` (what we can use to interpret the performance of our model).\n",
        "3. **Fit the model**: the model `learns` the `patterns` between the input and the output"
      ],
      "metadata": {
        "id": "ot-0cVu_tEgx"
      }
    },
    {
      "cell_type": "markdown",
      "source": [
        "#### Create a baseline model\n",
        "\n",
        "\n",
        "### Some Key Terms\n",
        "\n",
        "* **Loss**: How wrong the model predictions are (you want to minimize this)\n",
        "* **Optimizer**: It tells the model how it should update it's parameters to imporeve its predictions.\n",
        "* **Metrics**: Human interpretable values for how well the model is performing.\n",
        "* **Epocs**: This represents the number of times the model will go thru all the training examples.\n",
        "* **Evaluation** (on unseen data): This tells us how reliable the our model predictions are on unseen data."
      ],
      "metadata": {
        "id": "X7ViYJ23tEgx"
      }
    },
    {
      "cell_type": "code",
      "execution_count": 5,
      "metadata": {
        "colab": {
          "base_uri": "https://localhost:8080/"
        },
        "id": "ZoF3b9VOtEgx",
        "outputId": "b845c519-b971-4c05-8475-6003ffb0c966"
      },
      "outputs": [
        {
          "output_type": "stream",
          "name": "stdout",
          "text": [
            "Epoch 1/5\n",
            "1/1 [==============================] - 1s 830ms/step - loss: 22.4785 - mae: 22.4785\n",
            "Epoch 2/5\n",
            "1/1 [==============================] - 0s 8ms/step - loss: 22.0008 - mae: 22.0008\n",
            "Epoch 3/5\n",
            "1/1 [==============================] - 0s 8ms/step - loss: 21.5231 - mae: 21.5231\n",
            "Epoch 4/5\n",
            "1/1 [==============================] - 0s 7ms/step - loss: 21.0454 - mae: 21.0454\n",
            "Epoch 5/5\n",
            "1/1 [==============================] - 0s 8ms/step - loss: 20.5677 - mae: 20.5677\n"
          ]
        },
        {
          "output_type": "execute_result",
          "data": {
            "text/plain": [
              "<keras.callbacks.History at 0x7f32300f9460>"
            ]
          },
          "metadata": {},
          "execution_count": 5
        }
      ],
      "source": [
        "# Set seed for reproducibility\n",
        "SEED = 123\n",
        "tf.random.set_seed(SEED)\n",
        "\n",
        "# 1. Create a model using the Sequential API\n",
        "model = tf.keras.Sequential([\n",
        "    tf.keras.layers.Dense(1, activation=None) # The model has a single neuron\n",
        "\n",
        "])\n",
        "\n",
        "# 2. Compile the model\n",
        "model.compile(loss=tf.keras.losses.mae,  # MAE: Mean Absolute Error\n",
        "              optimizer=tf.keras.optimizers.SGD(), # OR 'sgd'\n",
        "              metrics = [\"mae\"] # OR tf.keras.losses.mae\n",
        "              )\n",
        "\n",
        "# 3. Fit the model\n",
        "model.fit(X, y, epochs=5)"
      ]
    },
    {
      "cell_type": "code",
      "source": [
        "X, y"
      ],
      "metadata": {
        "colab": {
          "base_uri": "https://localhost:8080/"
        },
        "id": "RkoBt_J4fbgl",
        "outputId": "20e364b4-2d44-49d6-e900-c0be8760e74f"
      },
      "execution_count": 6,
      "outputs": [
        {
          "output_type": "execute_result",
          "data": {
            "text/plain": [
              "(<tf.Tensor: shape=(10, 1), dtype=float16, numpy=\n",
              " array([[-12.],\n",
              "        [ -9.],\n",
              "        [ -6.],\n",
              "        [ -3.],\n",
              "        [  0.],\n",
              "        [  3.],\n",
              "        [  6.],\n",
              "        [  9.],\n",
              "        [ 12.],\n",
              "        [ 15.]], dtype=float16)>,\n",
              " <tf.Tensor: shape=(10,), dtype=float16, numpy=array([-2.,  1.,  4.,  7., 10., 13., 16., 19., 22., 25.], dtype=float16)>)"
            ]
          },
          "metadata": {},
          "execution_count": 6
        }
      ]
    },
    {
      "cell_type": "code",
      "execution_count": 7,
      "metadata": {
        "colab": {
          "base_uri": "https://localhost:8080/"
        },
        "id": "8iReHHMOtEgx",
        "outputId": "f1b001d0-d4d0-494f-b9ee-c12125598cde"
      },
      "outputs": [
        {
          "output_type": "stream",
          "name": "stdout",
          "text": [
            "1/1 [==============================] - 0s 219ms/step\n"
          ]
        },
        {
          "output_type": "execute_result",
          "data": {
            "text/plain": [
              "array([[-23.974812]], dtype=float32)"
            ]
          },
          "metadata": {},
          "execution_count": 7
        }
      ],
      "source": [
        "y_pred = model.predict([18])\n",
        "y_pred"
      ]
    },
    {
      "cell_type": "code",
      "execution_count": 8,
      "metadata": {
        "colab": {
          "base_uri": "https://localhost:8080/"
        },
        "id": "SLU9x65QtEgy",
        "outputId": "2b3f847c-d371-4e18-de52-98d736ab4098"
      },
      "outputs": [
        {
          "output_type": "execute_result",
          "data": {
            "text/plain": [
              "array([[-12.974812]], dtype=float32)"
            ]
          },
          "metadata": {},
          "execution_count": 8
        }
      ],
      "source": [
        "# Since the mae is ~11 on average, let's add 11 to the predicted value\n",
        "y_pred + 11"
      ]
    },
    {
      "cell_type": "markdown",
      "source": [
        "### Improve The Model\n",
        "\n",
        "> We can improve the model by altering the steps taken to create the model.\n",
        "\n",
        "1. **Create model**: We might:\n",
        "  * Add more layers\n",
        "  * increase the number of hidden units(neurons)\n",
        "  * change the activation function\n",
        "\n",
        "2. **Compile model**: We might:\n",
        "  * change the optimization function\n",
        "  * change the learning rate\n",
        "\n",
        "3. **Fit the model**: We might:\n",
        "  * increase the number of epochs\n",
        "  * increase the training data"
      ],
      "metadata": {
        "id": "DuPU_6-5tEgy"
      }
    },
    {
      "cell_type": "code",
      "execution_count": 9,
      "metadata": {
        "colab": {
          "base_uri": "https://localhost:8080/"
        },
        "id": "EllZHBuDtEgy",
        "outputId": "2ae1b3ca-dce5-40fa-bc66-b12c92a07fbe"
      },
      "outputs": [
        {
          "output_type": "stream",
          "name": "stdout",
          "text": [
            "Epoch 1/100\n",
            "1/1 [==============================] - 1s 675ms/step - loss: 12.3435 - mae: 12.3435\n",
            "Epoch 2/100\n",
            "1/1 [==============================] - 0s 34ms/step - loss: 12.1132 - mae: 12.1132\n",
            "Epoch 3/100\n",
            "1/1 [==============================] - 0s 24ms/step - loss: 11.9547 - mae: 11.9547\n",
            "Epoch 4/100\n",
            "1/1 [==============================] - 0s 12ms/step - loss: 11.7962 - mae: 11.7962\n",
            "Epoch 5/100\n",
            "1/1 [==============================] - 0s 12ms/step - loss: 11.6377 - mae: 11.6377\n",
            "Epoch 6/100\n",
            "1/1 [==============================] - 0s 14ms/step - loss: 11.4792 - mae: 11.4792\n",
            "Epoch 7/100\n",
            "1/1 [==============================] - 0s 13ms/step - loss: 11.3207 - mae: 11.3207\n",
            "Epoch 8/100\n",
            "1/1 [==============================] - 0s 11ms/step - loss: 11.1789 - mae: 11.1789\n",
            "Epoch 9/100\n",
            "1/1 [==============================] - 0s 11ms/step - loss: 11.1464 - mae: 11.1464\n",
            "Epoch 10/100\n",
            "1/1 [==============================] - 0s 11ms/step - loss: 11.1139 - mae: 11.1139\n",
            "Epoch 11/100\n",
            "1/1 [==============================] - 0s 16ms/step - loss: 11.0814 - mae: 11.0814\n",
            "Epoch 12/100\n",
            "1/1 [==============================] - 0s 11ms/step - loss: 11.0489 - mae: 11.0489\n",
            "Epoch 13/100\n",
            "1/1 [==============================] - 0s 10ms/step - loss: 11.0164 - mae: 11.0164\n",
            "Epoch 14/100\n",
            "1/1 [==============================] - 0s 21ms/step - loss: 10.9839 - mae: 10.9839\n",
            "Epoch 15/100\n",
            "1/1 [==============================] - 0s 18ms/step - loss: 10.9514 - mae: 10.9514\n",
            "Epoch 16/100\n",
            "1/1 [==============================] - 0s 12ms/step - loss: 10.9189 - mae: 10.9189\n",
            "Epoch 17/100\n",
            "1/1 [==============================] - 0s 11ms/step - loss: 10.8864 - mae: 10.8864\n",
            "Epoch 18/100\n",
            "1/1 [==============================] - 0s 11ms/step - loss: 10.8539 - mae: 10.8539\n",
            "Epoch 19/100\n",
            "1/1 [==============================] - 0s 11ms/step - loss: 10.8214 - mae: 10.8214\n",
            "Epoch 20/100\n",
            "1/1 [==============================] - 0s 11ms/step - loss: 10.7889 - mae: 10.7889\n",
            "Epoch 21/100\n",
            "1/1 [==============================] - 0s 10ms/step - loss: 10.7564 - mae: 10.7564\n",
            "Epoch 22/100\n",
            "1/1 [==============================] - 0s 11ms/step - loss: 10.7239 - mae: 10.7239\n",
            "Epoch 23/100\n",
            "1/1 [==============================] - 0s 11ms/step - loss: 10.6914 - mae: 10.6914\n",
            "Epoch 24/100\n",
            "1/1 [==============================] - 0s 11ms/step - loss: 10.6589 - mae: 10.6589\n",
            "Epoch 25/100\n",
            "1/1 [==============================] - 0s 10ms/step - loss: 10.6264 - mae: 10.6264\n",
            "Epoch 26/100\n",
            "1/1 [==============================] - 0s 14ms/step - loss: 10.5939 - mae: 10.5939\n",
            "Epoch 27/100\n",
            "1/1 [==============================] - 0s 12ms/step - loss: 10.5614 - mae: 10.5614\n",
            "Epoch 28/100\n",
            "1/1 [==============================] - 0s 16ms/step - loss: 10.5289 - mae: 10.5289\n",
            "Epoch 29/100\n",
            "1/1 [==============================] - 0s 13ms/step - loss: 10.4964 - mae: 10.4964\n",
            "Epoch 30/100\n",
            "1/1 [==============================] - 0s 20ms/step - loss: 10.4639 - mae: 10.4639\n",
            "Epoch 31/100\n",
            "1/1 [==============================] - 0s 21ms/step - loss: 10.4314 - mae: 10.4314\n",
            "Epoch 32/100\n",
            "1/1 [==============================] - 0s 8ms/step - loss: 10.3989 - mae: 10.3989\n",
            "Epoch 33/100\n",
            "1/1 [==============================] - 0s 8ms/step - loss: 10.3664 - mae: 10.3664\n",
            "Epoch 34/100\n",
            "1/1 [==============================] - 0s 18ms/step - loss: 10.3339 - mae: 10.3339\n",
            "Epoch 35/100\n",
            "1/1 [==============================] - 0s 11ms/step - loss: 10.3014 - mae: 10.3014\n",
            "Epoch 36/100\n",
            "1/1 [==============================] - 0s 12ms/step - loss: 10.2689 - mae: 10.2689\n",
            "Epoch 37/100\n",
            "1/1 [==============================] - 0s 15ms/step - loss: 10.2364 - mae: 10.2364\n",
            "Epoch 38/100\n",
            "1/1 [==============================] - 0s 12ms/step - loss: 10.2039 - mae: 10.2039\n",
            "Epoch 39/100\n",
            "1/1 [==============================] - 0s 11ms/step - loss: 10.1714 - mae: 10.1714\n",
            "Epoch 40/100\n",
            "1/1 [==============================] - 0s 13ms/step - loss: 10.1389 - mae: 10.1389\n",
            "Epoch 41/100\n",
            "1/1 [==============================] - 0s 16ms/step - loss: 10.1064 - mae: 10.1064\n",
            "Epoch 42/100\n",
            "1/1 [==============================] - 0s 32ms/step - loss: 10.0739 - mae: 10.0739\n",
            "Epoch 43/100\n",
            "1/1 [==============================] - 0s 25ms/step - loss: 10.0414 - mae: 10.0414\n",
            "Epoch 44/100\n",
            "1/1 [==============================] - 0s 20ms/step - loss: 10.0089 - mae: 10.0089\n",
            "Epoch 45/100\n",
            "1/1 [==============================] - 0s 26ms/step - loss: 9.9764 - mae: 9.9764\n",
            "Epoch 46/100\n",
            "1/1 [==============================] - 0s 30ms/step - loss: 9.9439 - mae: 9.9439\n",
            "Epoch 47/100\n",
            "1/1 [==============================] - 0s 12ms/step - loss: 9.9114 - mae: 9.9114\n",
            "Epoch 48/100\n",
            "1/1 [==============================] - 0s 9ms/step - loss: 9.8789 - mae: 9.8789\n",
            "Epoch 49/100\n",
            "1/1 [==============================] - 0s 9ms/step - loss: 9.8464 - mae: 9.8464\n",
            "Epoch 50/100\n",
            "1/1 [==============================] - 0s 12ms/step - loss: 9.8139 - mae: 9.8139\n",
            "Epoch 51/100\n",
            "1/1 [==============================] - 0s 10ms/step - loss: 9.7814 - mae: 9.7814\n",
            "Epoch 52/100\n",
            "1/1 [==============================] - 0s 20ms/step - loss: 9.7489 - mae: 9.7489\n",
            "Epoch 53/100\n",
            "1/1 [==============================] - 0s 17ms/step - loss: 9.7164 - mae: 9.7164\n",
            "Epoch 54/100\n",
            "1/1 [==============================] - 0s 42ms/step - loss: 9.6839 - mae: 9.6839\n",
            "Epoch 55/100\n",
            "1/1 [==============================] - 0s 13ms/step - loss: 9.6514 - mae: 9.6514\n",
            "Epoch 56/100\n",
            "1/1 [==============================] - 0s 22ms/step - loss: 9.6189 - mae: 9.6189\n",
            "Epoch 57/100\n",
            "1/1 [==============================] - 0s 10ms/step - loss: 9.5864 - mae: 9.5864\n",
            "Epoch 58/100\n",
            "1/1 [==============================] - 0s 12ms/step - loss: 9.5539 - mae: 9.5539\n",
            "Epoch 59/100\n",
            "1/1 [==============================] - 0s 13ms/step - loss: 9.5214 - mae: 9.5214\n",
            "Epoch 60/100\n",
            "1/1 [==============================] - 0s 10ms/step - loss: 9.4889 - mae: 9.4889\n",
            "Epoch 61/100\n",
            "1/1 [==============================] - 0s 35ms/step - loss: 9.4564 - mae: 9.4564\n",
            "Epoch 62/100\n",
            "1/1 [==============================] - 0s 11ms/step - loss: 9.4239 - mae: 9.4239\n",
            "Epoch 63/100\n",
            "1/1 [==============================] - 0s 10ms/step - loss: 9.3914 - mae: 9.3914\n",
            "Epoch 64/100\n",
            "1/1 [==============================] - 0s 12ms/step - loss: 9.3589 - mae: 9.3589\n",
            "Epoch 65/100\n",
            "1/1 [==============================] - 0s 12ms/step - loss: 9.3264 - mae: 9.3264\n",
            "Epoch 66/100\n",
            "1/1 [==============================] - 0s 15ms/step - loss: 9.2939 - mae: 9.2939\n",
            "Epoch 67/100\n",
            "1/1 [==============================] - 0s 8ms/step - loss: 9.2614 - mae: 9.2614\n",
            "Epoch 68/100\n",
            "1/1 [==============================] - 0s 9ms/step - loss: 9.2289 - mae: 9.2289\n",
            "Epoch 69/100\n",
            "1/1 [==============================] - 0s 8ms/step - loss: 9.1964 - mae: 9.1964\n",
            "Epoch 70/100\n",
            "1/1 [==============================] - 0s 10ms/step - loss: 9.1639 - mae: 9.1639\n",
            "Epoch 71/100\n",
            "1/1 [==============================] - 0s 9ms/step - loss: 9.1314 - mae: 9.1314\n",
            "Epoch 72/100\n",
            "1/1 [==============================] - 0s 9ms/step - loss: 9.0989 - mae: 9.0989\n",
            "Epoch 73/100\n",
            "1/1 [==============================] - 0s 7ms/step - loss: 9.0664 - mae: 9.0664\n",
            "Epoch 74/100\n",
            "1/1 [==============================] - 0s 17ms/step - loss: 9.0339 - mae: 9.0339\n",
            "Epoch 75/100\n",
            "1/1 [==============================] - 0s 8ms/step - loss: 9.0014 - mae: 9.0014\n",
            "Epoch 76/100\n",
            "1/1 [==============================] - 0s 8ms/step - loss: 8.9689 - mae: 8.9689\n",
            "Epoch 77/100\n",
            "1/1 [==============================] - 0s 8ms/step - loss: 8.9364 - mae: 8.9364\n",
            "Epoch 78/100\n",
            "1/1 [==============================] - 0s 8ms/step - loss: 8.9039 - mae: 8.9039\n",
            "Epoch 79/100\n",
            "1/1 [==============================] - 0s 25ms/step - loss: 8.8714 - mae: 8.8714\n",
            "Epoch 80/100\n",
            "1/1 [==============================] - 0s 16ms/step - loss: 8.8389 - mae: 8.8389\n",
            "Epoch 81/100\n",
            "1/1 [==============================] - 0s 10ms/step - loss: 8.8064 - mae: 8.8064\n",
            "Epoch 82/100\n",
            "1/1 [==============================] - 0s 22ms/step - loss: 8.7739 - mae: 8.7739\n",
            "Epoch 83/100\n",
            "1/1 [==============================] - 0s 33ms/step - loss: 8.7414 - mae: 8.7414\n",
            "Epoch 84/100\n",
            "1/1 [==============================] - 0s 9ms/step - loss: 8.7089 - mae: 8.7089\n",
            "Epoch 85/100\n",
            "1/1 [==============================] - 0s 9ms/step - loss: 8.6764 - mae: 8.6764\n",
            "Epoch 86/100\n",
            "1/1 [==============================] - 0s 8ms/step - loss: 8.6439 - mae: 8.6439\n",
            "Epoch 87/100\n",
            "1/1 [==============================] - 0s 26ms/step - loss: 8.6114 - mae: 8.6114\n",
            "Epoch 88/100\n",
            "1/1 [==============================] - 0s 26ms/step - loss: 8.5789 - mae: 8.5789\n",
            "Epoch 89/100\n",
            "1/1 [==============================] - 0s 10ms/step - loss: 8.5464 - mae: 8.5464\n",
            "Epoch 90/100\n",
            "1/1 [==============================] - 0s 11ms/step - loss: 8.5139 - mae: 8.5139\n",
            "Epoch 91/100\n",
            "1/1 [==============================] - 0s 11ms/step - loss: 8.4814 - mae: 8.4814\n",
            "Epoch 92/100\n",
            "1/1 [==============================] - 0s 9ms/step - loss: 8.4489 - mae: 8.4489\n",
            "Epoch 93/100\n",
            "1/1 [==============================] - 0s 25ms/step - loss: 8.4164 - mae: 8.4164\n",
            "Epoch 94/100\n",
            "1/1 [==============================] - 0s 15ms/step - loss: 8.3839 - mae: 8.3839\n",
            "Epoch 95/100\n",
            "1/1 [==============================] - 0s 16ms/step - loss: 8.3514 - mae: 8.3514\n",
            "Epoch 96/100\n",
            "1/1 [==============================] - 0s 15ms/step - loss: 8.3189 - mae: 8.3189\n",
            "Epoch 97/100\n",
            "1/1 [==============================] - 0s 12ms/step - loss: 8.2864 - mae: 8.2864\n",
            "Epoch 98/100\n",
            "1/1 [==============================] - 0s 31ms/step - loss: 8.2539 - mae: 8.2539\n",
            "Epoch 99/100\n",
            "1/1 [==============================] - 0s 13ms/step - loss: 8.2214 - mae: 8.2214\n",
            "Epoch 100/100\n",
            "1/1 [==============================] - 0s 12ms/step - loss: 8.1889 - mae: 8.1889\n"
          ]
        },
        {
          "output_type": "execute_result",
          "data": {
            "text/plain": [
              "<keras.callbacks.History at 0x7f32300aae80>"
            ]
          },
          "metadata": {},
          "execution_count": 9
        }
      ],
      "source": [
        "# Rebuild the model by increasing the number of epochs\n",
        "tf.random.set_seed(SEED)\n",
        "\n",
        "# Create the model\n",
        "model = tf.keras.Sequential([\n",
        "    tf.keras.layers.Dense(1, activation=None)\n",
        "])\n",
        "\n",
        "# Compile the model\n",
        "model.compile(loss=tf.keras.losses.mae,\n",
        "              optimizer=tf.keras.optimizers.SGD(),\n",
        "              metrics=[\"mae\"])\n",
        "\n",
        "# Fit the model (increase the epochs)\n",
        "model.fit(X, y, epochs=100)"
      ]
    },
    {
      "cell_type": "code",
      "execution_count": 10,
      "metadata": {
        "colab": {
          "base_uri": "https://localhost:8080/"
        },
        "id": "ZdwM1LE0tEgy",
        "outputId": "b8f8b9a7-53bf-4628-b118-a3d1c4c6f134"
      },
      "outputs": [
        {
          "output_type": "stream",
          "name": "stdout",
          "text": [
            "1/1 [==============================] - 0s 98ms/step\n"
          ]
        },
        {
          "output_type": "execute_result",
          "data": {
            "text/plain": [
              "array([[29.299723]], dtype=float32)"
            ]
          },
          "metadata": {},
          "execution_count": 10
        }
      ],
      "source": [
        "# Make predictions\n",
        "y_pred = model.predict([18])\n",
        "y_pred"
      ]
    },
    {
      "cell_type": "markdown",
      "source": [
        "#### Tweak The Model\n",
        "\n",
        "* Experiment by changing the `hyperparameters`.\n",
        "* Add a new layer."
      ],
      "metadata": {
        "id": "j0odgU52tEgy"
      }
    },
    {
      "cell_type": "code",
      "execution_count": 11,
      "metadata": {
        "colab": {
          "base_uri": "https://localhost:8080/"
        },
        "id": "tQM1AE9StEgy",
        "outputId": "58090700-e324-4207-8f99-a1e88a13414a"
      },
      "outputs": [
        {
          "output_type": "stream",
          "name": "stderr",
          "text": [
            "WARNING:absl:`lr` is deprecated, please use `learning_rate` instead, or use the legacy optimizer, e.g.,tf.keras.optimizers.legacy.SGD.\n"
          ]
        },
        {
          "output_type": "stream",
          "name": "stdout",
          "text": [
            "Epoch 1/100\n",
            "1/1 [==============================] - 1s 882ms/step - loss: 11.5538 - mae: 11.5538\n",
            "Epoch 2/100\n",
            "1/1 [==============================] - 0s 8ms/step - loss: 11.2469 - mae: 11.2469\n",
            "Epoch 3/100\n",
            "1/1 [==============================] - 0s 26ms/step - loss: 10.9358 - mae: 10.9358\n",
            "Epoch 4/100\n",
            "1/1 [==============================] - 0s 8ms/step - loss: 10.6185 - mae: 10.6185\n",
            "Epoch 5/100\n",
            "1/1 [==============================] - 0s 17ms/step - loss: 10.3154 - mae: 10.3154\n",
            "Epoch 6/100\n",
            "1/1 [==============================] - 0s 25ms/step - loss: 9.9807 - mae: 9.9807\n",
            "Epoch 7/100\n",
            "1/1 [==============================] - 0s 14ms/step - loss: 9.6329 - mae: 9.6329\n",
            "Epoch 8/100\n",
            "1/1 [==============================] - 0s 15ms/step - loss: 9.2877 - mae: 9.2877\n",
            "Epoch 9/100\n",
            "1/1 [==============================] - 0s 16ms/step - loss: 8.9009 - mae: 8.9009\n",
            "Epoch 10/100\n",
            "1/1 [==============================] - 0s 8ms/step - loss: 8.5043 - mae: 8.5043\n",
            "Epoch 11/100\n",
            "1/1 [==============================] - 0s 10ms/step - loss: 8.0952 - mae: 8.0952\n",
            "Epoch 12/100\n",
            "1/1 [==============================] - 0s 17ms/step - loss: 7.6393 - mae: 7.6393\n",
            "Epoch 13/100\n",
            "1/1 [==============================] - 0s 17ms/step - loss: 7.1646 - mae: 7.1646\n",
            "Epoch 14/100\n",
            "1/1 [==============================] - 0s 12ms/step - loss: 6.6527 - mae: 6.6527\n",
            "Epoch 15/100\n",
            "1/1 [==============================] - 0s 14ms/step - loss: 6.0884 - mae: 6.0884\n",
            "Epoch 16/100\n",
            "1/1 [==============================] - 0s 18ms/step - loss: 5.4990 - mae: 5.4990\n",
            "Epoch 17/100\n",
            "1/1 [==============================] - 0s 15ms/step - loss: 4.8478 - mae: 4.8478\n",
            "Epoch 18/100\n",
            "1/1 [==============================] - 0s 24ms/step - loss: 4.2013 - mae: 4.2013\n",
            "Epoch 19/100\n",
            "1/1 [==============================] - 0s 18ms/step - loss: 4.1279 - mae: 4.1279\n",
            "Epoch 20/100\n",
            "1/1 [==============================] - 0s 22ms/step - loss: 4.0282 - mae: 4.0282\n",
            "Epoch 21/100\n",
            "1/1 [==============================] - 0s 16ms/step - loss: 4.0063 - mae: 4.0063\n",
            "Epoch 22/100\n",
            "1/1 [==============================] - 0s 13ms/step - loss: 3.9906 - mae: 3.9906\n",
            "Epoch 23/100\n",
            "1/1 [==============================] - 0s 11ms/step - loss: 4.0252 - mae: 4.0252\n",
            "Epoch 24/100\n",
            "1/1 [==============================] - 0s 26ms/step - loss: 3.9905 - mae: 3.9905\n",
            "Epoch 25/100\n",
            "1/1 [==============================] - 0s 9ms/step - loss: 3.9924 - mae: 3.9924\n",
            "Epoch 26/100\n",
            "1/1 [==============================] - 0s 15ms/step - loss: 4.0055 - mae: 4.0055\n",
            "Epoch 27/100\n",
            "1/1 [==============================] - 0s 30ms/step - loss: 3.9749 - mae: 3.9749\n",
            "Epoch 28/100\n",
            "1/1 [==============================] - 0s 20ms/step - loss: 3.9938 - mae: 3.9938\n",
            "Epoch 29/100\n",
            "1/1 [==============================] - 0s 13ms/step - loss: 3.9860 - mae: 3.9860\n",
            "Epoch 30/100\n",
            "1/1 [==============================] - 0s 18ms/step - loss: 3.9595 - mae: 3.9595\n",
            "Epoch 31/100\n",
            "1/1 [==============================] - 0s 28ms/step - loss: 3.9951 - mae: 3.9951\n",
            "Epoch 32/100\n",
            "1/1 [==============================] - 0s 11ms/step - loss: 3.9667 - mae: 3.9667\n",
            "Epoch 33/100\n",
            "1/1 [==============================] - 0s 26ms/step - loss: 3.9510 - mae: 3.9510\n",
            "Epoch 34/100\n",
            "1/1 [==============================] - 0s 18ms/step - loss: 3.9896 - mae: 3.9896\n",
            "Epoch 35/100\n",
            "1/1 [==============================] - 0s 10ms/step - loss: 3.9474 - mae: 3.9474\n",
            "Epoch 36/100\n",
            "1/1 [==============================] - 0s 13ms/step - loss: 3.9559 - mae: 3.9559\n",
            "Epoch 37/100\n",
            "1/1 [==============================] - 0s 17ms/step - loss: 3.9703 - mae: 3.9703\n",
            "Epoch 38/100\n",
            "1/1 [==============================] - 0s 23ms/step - loss: 3.9306 - mae: 3.9306\n",
            "Epoch 39/100\n",
            "1/1 [==============================] - 0s 21ms/step - loss: 3.9588 - mae: 3.9588\n",
            "Epoch 40/100\n",
            "1/1 [==============================] - 0s 42ms/step - loss: 3.9512 - mae: 3.9512\n",
            "Epoch 41/100\n",
            "1/1 [==============================] - 0s 16ms/step - loss: 3.9157 - mae: 3.9157\n",
            "Epoch 42/100\n",
            "1/1 [==============================] - 0s 17ms/step - loss: 3.9594 - mae: 3.9594\n",
            "Epoch 43/100\n",
            "1/1 [==============================] - 0s 38ms/step - loss: 3.9322 - mae: 3.9322\n",
            "Epoch 44/100\n",
            "1/1 [==============================] - 0s 14ms/step - loss: 3.9056 - mae: 3.9056\n",
            "Epoch 45/100\n",
            "1/1 [==============================] - 0s 23ms/step - loss: 3.9553 - mae: 3.9553\n",
            "Epoch 46/100\n",
            "1/1 [==============================] - 0s 16ms/step - loss: 3.9134 - mae: 3.9134\n",
            "Epoch 47/100\n",
            "1/1 [==============================] - 0s 22ms/step - loss: 3.9100 - mae: 3.9100\n",
            "Epoch 48/100\n",
            "1/1 [==============================] - 0s 15ms/step - loss: 3.9364 - mae: 3.9364\n",
            "Epoch 49/100\n",
            "1/1 [==============================] - 0s 18ms/step - loss: 3.8947 - mae: 3.8947\n",
            "Epoch 50/100\n",
            "1/1 [==============================] - 0s 18ms/step - loss: 3.9142 - mae: 3.9142\n",
            "Epoch 51/100\n",
            "1/1 [==============================] - 0s 17ms/step - loss: 3.9177 - mae: 3.9177\n",
            "Epoch 52/100\n",
            "1/1 [==============================] - 0s 19ms/step - loss: 3.8762 - mae: 3.8762\n",
            "Epoch 53/100\n",
            "1/1 [==============================] - 0s 29ms/step - loss: 3.9181 - mae: 3.9181\n",
            "Epoch 54/100\n",
            "1/1 [==============================] - 0s 20ms/step - loss: 3.8991 - mae: 3.8991\n",
            "Epoch 55/100\n",
            "1/1 [==============================] - 0s 24ms/step - loss: 3.8595 - mae: 3.8595\n",
            "Epoch 56/100\n",
            "1/1 [==============================] - 0s 15ms/step - loss: 3.9206 - mae: 3.9206\n",
            "Epoch 57/100\n",
            "1/1 [==============================] - 0s 14ms/step - loss: 3.8807 - mae: 3.8807\n",
            "Epoch 58/100\n",
            "1/1 [==============================] - 0s 13ms/step - loss: 3.8617 - mae: 3.8617\n",
            "Epoch 59/100\n",
            "1/1 [==============================] - 0s 14ms/step - loss: 3.9038 - mae: 3.9038\n",
            "Epoch 60/100\n",
            "1/1 [==============================] - 0s 15ms/step - loss: 3.8624 - mae: 3.8624\n",
            "Epoch 61/100\n",
            "1/1 [==============================] - 0s 15ms/step - loss: 3.8653 - mae: 3.8653\n",
            "Epoch 62/100\n",
            "1/1 [==============================] - 0s 14ms/step - loss: 3.8855 - mae: 3.8855\n",
            "Epoch 63/100\n",
            "1/1 [==============================] - 0s 19ms/step - loss: 3.8442 - mae: 3.8442\n",
            "Epoch 64/100\n",
            "1/1 [==============================] - 0s 16ms/step - loss: 3.8687 - mae: 3.8687\n",
            "Epoch 65/100\n",
            "1/1 [==============================] - 0s 21ms/step - loss: 3.8673 - mae: 3.8673\n",
            "Epoch 66/100\n",
            "1/1 [==============================] - 0s 16ms/step - loss: 3.8262 - mae: 3.8262\n",
            "Epoch 67/100\n",
            "1/1 [==============================] - 0s 13ms/step - loss: 3.8718 - mae: 3.8718\n",
            "Epoch 68/100\n",
            "1/1 [==============================] - 0s 18ms/step - loss: 3.8492 - mae: 3.8492\n",
            "Epoch 69/100\n",
            "1/1 [==============================] - 0s 21ms/step - loss: 3.8133 - mae: 3.8133\n",
            "Epoch 70/100\n",
            "1/1 [==============================] - 0s 19ms/step - loss: 3.8707 - mae: 3.8707\n",
            "Epoch 71/100\n",
            "1/1 [==============================] - 0s 18ms/step - loss: 3.8313 - mae: 3.8313\n",
            "Epoch 72/100\n",
            "1/1 [==============================] - 0s 24ms/step - loss: 3.8139 - mae: 3.8139\n",
            "Epoch 73/100\n",
            "1/1 [==============================] - 0s 11ms/step - loss: 3.8546 - mae: 3.8546\n",
            "Epoch 74/100\n",
            "1/1 [==============================] - 0s 17ms/step - loss: 3.8135 - mae: 3.8135\n",
            "Epoch 75/100\n",
            "1/1 [==============================] - 0s 13ms/step - loss: 3.8166 - mae: 3.8166\n",
            "Epoch 76/100\n",
            "1/1 [==============================] - 0s 13ms/step - loss: 3.8367 - mae: 3.8367\n",
            "Epoch 77/100\n",
            "1/1 [==============================] - 0s 12ms/step - loss: 3.7958 - mae: 3.7958\n",
            "Epoch 78/100\n",
            "1/1 [==============================] - 0s 24ms/step - loss: 3.8192 - mae: 3.8192\n",
            "Epoch 79/100\n",
            "1/1 [==============================] - 0s 28ms/step - loss: 3.8190 - mae: 3.8190\n",
            "Epoch 80/100\n",
            "1/1 [==============================] - 0s 19ms/step - loss: 3.7782 - mae: 3.7782\n",
            "Epoch 81/100\n",
            "1/1 [==============================] - 0s 21ms/step - loss: 3.8215 - mae: 3.8215\n",
            "Epoch 82/100\n",
            "1/1 [==============================] - 0s 16ms/step - loss: 3.8014 - mae: 3.8014\n",
            "Epoch 83/100\n",
            "1/1 [==============================] - 0s 15ms/step - loss: 3.7660 - mae: 3.7660\n",
            "Epoch 84/100\n",
            "1/1 [==============================] - 0s 19ms/step - loss: 3.8194 - mae: 3.8194\n",
            "Epoch 85/100\n",
            "1/1 [==============================] - 0s 16ms/step - loss: 3.7838 - mae: 3.7838\n",
            "Epoch 86/100\n",
            "1/1 [==============================] - 0s 20ms/step - loss: 3.7636 - mae: 3.7636\n",
            "Epoch 87/100\n",
            "1/1 [==============================] - 0s 14ms/step - loss: 3.8063 - mae: 3.8063\n",
            "Epoch 88/100\n",
            "1/1 [==============================] - 0s 15ms/step - loss: 3.7664 - mae: 3.7664\n",
            "Epoch 89/100\n",
            "1/1 [==============================] - 0s 16ms/step - loss: 3.7642 - mae: 3.7642\n",
            "Epoch 90/100\n",
            "1/1 [==============================] - 0s 11ms/step - loss: 3.7898 - mae: 3.7898\n",
            "Epoch 91/100\n",
            "1/1 [==============================] - 0s 11ms/step - loss: 3.7491 - mae: 3.7491\n",
            "Epoch 92/100\n",
            "1/1 [==============================] - 0s 19ms/step - loss: 3.7659 - mae: 3.7659\n",
            "Epoch 93/100\n",
            "1/1 [==============================] - 0s 22ms/step - loss: 3.7725 - mae: 3.7725\n",
            "Epoch 94/100\n",
            "1/1 [==============================] - 0s 16ms/step - loss: 3.7319 - mae: 3.7319\n",
            "Epoch 95/100\n",
            "1/1 [==============================] - 0s 15ms/step - loss: 3.7674 - mae: 3.7674\n",
            "Epoch 96/100\n",
            "1/1 [==============================] - 0s 16ms/step - loss: 3.7553 - mae: 3.7553\n",
            "Epoch 97/100\n",
            "1/1 [==============================] - 0s 15ms/step - loss: 3.7149 - mae: 3.7149\n",
            "Epoch 98/100\n",
            "1/1 [==============================] - 0s 16ms/step - loss: 3.7688 - mae: 3.7688\n",
            "Epoch 99/100\n",
            "1/1 [==============================] - 0s 14ms/step - loss: 3.7382 - mae: 3.7382\n",
            "Epoch 100/100\n",
            "1/1 [==============================] - 0s 16ms/step - loss: 3.7106 - mae: 3.7106\n"
          ]
        },
        {
          "output_type": "execute_result",
          "data": {
            "text/plain": [
              "<keras.callbacks.History at 0x7f322a72f6d0>"
            ]
          },
          "metadata": {},
          "execution_count": 11
        }
      ],
      "source": [
        "# Build model\n",
        "tf.random.set_seed(SEED)\n",
        "\n",
        "model = tf.keras.Sequential([\n",
        "    tf.keras.layers.Dense(units=50, activation=\"ReLU\"),\n",
        "    tf.keras.layers.Dense(units=1, activation=None)\n",
        "])\n",
        "\n",
        "# Compile model\n",
        "model.compile(loss=tf.keras.losses.mae,\n",
        "              optimizer=tf.keras.optimizers.SGD(lr=0.01),\n",
        "              metrics=[\"mae\"])\n",
        "\n",
        "# Fit model\n",
        "model.fit(X, y, epochs=100)"
      ]
    },
    {
      "cell_type": "code",
      "execution_count": 12,
      "metadata": {
        "colab": {
          "base_uri": "https://localhost:8080/"
        },
        "id": "RXv-dT5wtEgy",
        "outputId": "2c8d5e5f-5bba-4438-a781-8ea129d9bf26"
      },
      "outputs": [
        {
          "output_type": "stream",
          "name": "stdout",
          "text": [
            "1/1 [==============================] - 0s 165ms/step\n"
          ]
        },
        {
          "output_type": "execute_result",
          "data": {
            "text/plain": [
              "array([[33.47327]], dtype=float32)"
            ]
          },
          "metadata": {},
          "execution_count": 12
        }
      ],
      "source": [
        "y_pred = model.predict([18.0])\n",
        "y_pred"
      ]
    },
    {
      "cell_type": "markdown",
      "source": [
        "### Try Using A Different Optimizer\n",
        "\n",
        "* e.g. Adam"
      ],
      "metadata": {
        "id": "cezRNMlytEgy"
      }
    },
    {
      "cell_type": "code",
      "execution_count": 13,
      "metadata": {
        "colab": {
          "base_uri": "https://localhost:8080/"
        },
        "id": "kHoZNAJVtEgy",
        "outputId": "ffd9d43a-16d4-432c-d7d1-67081e0b55e9"
      },
      "outputs": [
        {
          "output_type": "stream",
          "name": "stdout",
          "text": [
            "Epoch 1/100\n",
            "1/1 [==============================] - 1s 1s/step - loss: 12.9443 - mae: 12.9443\n",
            "Epoch 2/100\n",
            "1/1 [==============================] - 0s 14ms/step - loss: 11.9648 - mae: 11.9648\n",
            "Epoch 3/100\n",
            "1/1 [==============================] - 0s 10ms/step - loss: 11.2028 - mae: 11.2028\n",
            "Epoch 4/100\n",
            "1/1 [==============================] - 0s 9ms/step - loss: 10.7400 - mae: 10.7400\n",
            "Epoch 5/100\n",
            "1/1 [==============================] - 0s 8ms/step - loss: 10.4043 - mae: 10.4043\n",
            "Epoch 6/100\n",
            "1/1 [==============================] - 0s 8ms/step - loss: 10.0802 - mae: 10.0802\n",
            "Epoch 7/100\n",
            "1/1 [==============================] - 0s 10ms/step - loss: 9.7617 - mae: 9.7617\n",
            "Epoch 8/100\n",
            "1/1 [==============================] - 0s 8ms/step - loss: 9.4448 - mae: 9.4448\n",
            "Epoch 9/100\n",
            "1/1 [==============================] - 0s 16ms/step - loss: 9.1264 - mae: 9.1264\n",
            "Epoch 10/100\n",
            "1/1 [==============================] - 0s 8ms/step - loss: 8.8041 - mae: 8.8041\n",
            "Epoch 11/100\n",
            "1/1 [==============================] - 0s 8ms/step - loss: 8.4759 - mae: 8.4759\n",
            "Epoch 12/100\n",
            "1/1 [==============================] - 0s 33ms/step - loss: 8.1400 - mae: 8.1400\n",
            "Epoch 13/100\n",
            "1/1 [==============================] - 0s 13ms/step - loss: 7.9521 - mae: 7.9521\n",
            "Epoch 14/100\n",
            "1/1 [==============================] - 0s 11ms/step - loss: 8.1101 - mae: 8.1101\n",
            "Epoch 15/100\n",
            "1/1 [==============================] - 0s 11ms/step - loss: 8.2456 - mae: 8.2456\n",
            "Epoch 16/100\n",
            "1/1 [==============================] - 0s 10ms/step - loss: 8.2006 - mae: 8.2006\n",
            "Epoch 17/100\n",
            "1/1 [==============================] - 0s 10ms/step - loss: 8.0196 - mae: 8.0196\n",
            "Epoch 18/100\n",
            "1/1 [==============================] - 0s 10ms/step - loss: 7.7346 - mae: 7.7346\n",
            "Epoch 19/100\n",
            "1/1 [==============================] - 0s 10ms/step - loss: 7.4536 - mae: 7.4536\n",
            "Epoch 20/100\n",
            "1/1 [==============================] - 0s 13ms/step - loss: 7.2576 - mae: 7.2576\n",
            "Epoch 21/100\n",
            "1/1 [==============================] - 0s 9ms/step - loss: 7.2119 - mae: 7.2119\n",
            "Epoch 22/100\n",
            "1/1 [==============================] - 0s 13ms/step - loss: 7.2000 - mae: 7.2000\n",
            "Epoch 23/100\n",
            "1/1 [==============================] - 0s 11ms/step - loss: 7.1508 - mae: 7.1508\n",
            "Epoch 24/100\n",
            "1/1 [==============================] - 0s 17ms/step - loss: 7.0678 - mae: 7.0678\n",
            "Epoch 25/100\n",
            "1/1 [==============================] - 0s 16ms/step - loss: 6.9535 - mae: 6.9535\n",
            "Epoch 26/100\n",
            "1/1 [==============================] - 0s 19ms/step - loss: 6.8100 - mae: 6.8100\n",
            "Epoch 27/100\n",
            "1/1 [==============================] - 0s 9ms/step - loss: 6.6387 - mae: 6.6387\n",
            "Epoch 28/100\n",
            "1/1 [==============================] - 0s 9ms/step - loss: 6.4405 - mae: 6.4405\n",
            "Epoch 29/100\n",
            "1/1 [==============================] - 0s 10ms/step - loss: 6.2162 - mae: 6.2162\n",
            "Epoch 30/100\n",
            "1/1 [==============================] - 0s 11ms/step - loss: 6.0303 - mae: 6.0303\n",
            "Epoch 31/100\n",
            "1/1 [==============================] - 0s 16ms/step - loss: 5.9347 - mae: 5.9347\n",
            "Epoch 32/100\n",
            "1/1 [==============================] - 0s 22ms/step - loss: 5.8157 - mae: 5.8157\n",
            "Epoch 33/100\n",
            "1/1 [==============================] - 0s 15ms/step - loss: 5.7077 - mae: 5.7077\n",
            "Epoch 34/100\n",
            "1/1 [==============================] - 0s 20ms/step - loss: 5.4913 - mae: 5.4913\n",
            "Epoch 35/100\n",
            "1/1 [==============================] - 0s 16ms/step - loss: 5.2619 - mae: 5.2619\n",
            "Epoch 36/100\n",
            "1/1 [==============================] - 0s 15ms/step - loss: 5.0208 - mae: 5.0208\n",
            "Epoch 37/100\n",
            "1/1 [==============================] - 0s 15ms/step - loss: 4.9283 - mae: 4.9283\n",
            "Epoch 38/100\n",
            "1/1 [==============================] - 0s 21ms/step - loss: 4.7980 - mae: 4.7980\n",
            "Epoch 39/100\n",
            "1/1 [==============================] - 0s 10ms/step - loss: 4.6223 - mae: 4.6223\n",
            "Epoch 40/100\n",
            "1/1 [==============================] - 0s 17ms/step - loss: 4.4032 - mae: 4.4032\n",
            "Epoch 41/100\n",
            "1/1 [==============================] - 0s 15ms/step - loss: 4.1423 - mae: 4.1423\n",
            "Epoch 42/100\n",
            "1/1 [==============================] - 0s 15ms/step - loss: 3.8407 - mae: 3.8407\n",
            "Epoch 43/100\n",
            "1/1 [==============================] - 0s 15ms/step - loss: 3.5217 - mae: 3.5217\n",
            "Epoch 44/100\n",
            "1/1 [==============================] - 0s 13ms/step - loss: 3.3113 - mae: 3.3113\n",
            "Epoch 45/100\n",
            "1/1 [==============================] - 0s 19ms/step - loss: 3.0944 - mae: 3.0944\n",
            "Epoch 46/100\n",
            "1/1 [==============================] - 0s 19ms/step - loss: 2.7671 - mae: 2.7671\n",
            "Epoch 47/100\n",
            "1/1 [==============================] - 0s 23ms/step - loss: 2.4371 - mae: 2.4371\n",
            "Epoch 48/100\n",
            "1/1 [==============================] - 0s 25ms/step - loss: 2.1979 - mae: 2.1979\n",
            "Epoch 49/100\n",
            "1/1 [==============================] - 0s 15ms/step - loss: 1.9237 - mae: 1.9237\n",
            "Epoch 50/100\n",
            "1/1 [==============================] - 0s 19ms/step - loss: 1.5925 - mae: 1.5925\n",
            "Epoch 51/100\n",
            "1/1 [==============================] - 0s 15ms/step - loss: 1.2063 - mae: 1.2063\n",
            "Epoch 52/100\n",
            "1/1 [==============================] - 0s 11ms/step - loss: 0.8274 - mae: 0.8274\n",
            "Epoch 53/100\n",
            "1/1 [==============================] - 0s 39ms/step - loss: 0.4588 - mae: 0.4588\n",
            "Epoch 54/100\n",
            "1/1 [==============================] - 0s 24ms/step - loss: 0.2897 - mae: 0.2897\n",
            "Epoch 55/100\n",
            "1/1 [==============================] - 0s 18ms/step - loss: 0.2913 - mae: 0.2913\n",
            "Epoch 56/100\n",
            "1/1 [==============================] - 0s 10ms/step - loss: 0.5780 - mae: 0.5780\n",
            "Epoch 57/100\n",
            "1/1 [==============================] - 0s 8ms/step - loss: 0.7389 - mae: 0.7389\n",
            "Epoch 58/100\n",
            "1/1 [==============================] - 0s 9ms/step - loss: 0.7865 - mae: 0.7865\n",
            "Epoch 59/100\n",
            "1/1 [==============================] - 0s 9ms/step - loss: 0.9659 - mae: 0.9659\n",
            "Epoch 60/100\n",
            "1/1 [==============================] - 0s 18ms/step - loss: 0.8528 - mae: 0.8528\n",
            "Epoch 61/100\n",
            "1/1 [==============================] - 0s 22ms/step - loss: 0.8329 - mae: 0.8329\n",
            "Epoch 62/100\n",
            "1/1 [==============================] - 0s 35ms/step - loss: 0.7997 - mae: 0.7997\n",
            "Epoch 63/100\n",
            "1/1 [==============================] - 0s 27ms/step - loss: 0.6820 - mae: 0.6820\n",
            "Epoch 64/100\n",
            "1/1 [==============================] - 0s 14ms/step - loss: 0.5165 - mae: 0.5165\n",
            "Epoch 65/100\n",
            "1/1 [==============================] - 0s 32ms/step - loss: 0.2085 - mae: 0.2085\n",
            "Epoch 66/100\n",
            "1/1 [==============================] - 0s 25ms/step - loss: 0.4117 - mae: 0.4117\n",
            "Epoch 67/100\n",
            "1/1 [==============================] - 0s 26ms/step - loss: 0.2975 - mae: 0.2975\n",
            "Epoch 68/100\n",
            "1/1 [==============================] - 0s 10ms/step - loss: 0.3685 - mae: 0.3685\n",
            "Epoch 69/100\n",
            "1/1 [==============================] - 0s 8ms/step - loss: 0.5004 - mae: 0.5004\n",
            "Epoch 70/100\n",
            "1/1 [==============================] - 0s 9ms/step - loss: 0.5123 - mae: 0.5123\n",
            "Epoch 71/100\n",
            "1/1 [==============================] - 0s 9ms/step - loss: 0.5470 - mae: 0.5470\n",
            "Epoch 72/100\n",
            "1/1 [==============================] - 0s 11ms/step - loss: 0.5057 - mae: 0.5057\n",
            "Epoch 73/100\n",
            "1/1 [==============================] - 0s 9ms/step - loss: 0.3961 - mae: 0.3961\n",
            "Epoch 74/100\n",
            "1/1 [==============================] - 0s 14ms/step - loss: 0.3535 - mae: 0.3535\n",
            "Epoch 75/100\n",
            "1/1 [==============================] - 0s 14ms/step - loss: 0.1473 - mae: 0.1473\n",
            "Epoch 76/100\n",
            "1/1 [==============================] - 0s 37ms/step - loss: 0.3402 - mae: 0.3402\n",
            "Epoch 77/100\n",
            "1/1 [==============================] - 0s 10ms/step - loss: 0.2453 - mae: 0.2453\n",
            "Epoch 78/100\n",
            "1/1 [==============================] - 0s 9ms/step - loss: 0.3976 - mae: 0.3976\n",
            "Epoch 79/100\n",
            "1/1 [==============================] - 0s 12ms/step - loss: 0.5301 - mae: 0.5301\n",
            "Epoch 80/100\n",
            "1/1 [==============================] - 0s 34ms/step - loss: 0.4281 - mae: 0.4281\n",
            "Epoch 81/100\n",
            "1/1 [==============================] - 0s 16ms/step - loss: 0.3390 - mae: 0.3390\n",
            "Epoch 82/100\n",
            "1/1 [==============================] - 0s 9ms/step - loss: 0.4329 - mae: 0.4329\n",
            "Epoch 83/100\n",
            "1/1 [==============================] - 0s 8ms/step - loss: 0.2404 - mae: 0.2404\n",
            "Epoch 84/100\n",
            "1/1 [==============================] - 0s 8ms/step - loss: 0.3155 - mae: 0.3155\n",
            "Epoch 85/100\n",
            "1/1 [==============================] - 0s 8ms/step - loss: 0.2604 - mae: 0.2604\n",
            "Epoch 86/100\n",
            "1/1 [==============================] - 0s 9ms/step - loss: 0.2033 - mae: 0.2033\n",
            "Epoch 87/100\n",
            "1/1 [==============================] - 0s 8ms/step - loss: 0.2053 - mae: 0.2053\n",
            "Epoch 88/100\n",
            "1/1 [==============================] - 0s 9ms/step - loss: 0.2325 - mae: 0.2325\n",
            "Epoch 89/100\n",
            "1/1 [==============================] - 0s 9ms/step - loss: 0.2342 - mae: 0.2342\n",
            "Epoch 90/100\n",
            "1/1 [==============================] - 0s 12ms/step - loss: 0.2407 - mae: 0.2407\n",
            "Epoch 91/100\n",
            "1/1 [==============================] - 0s 10ms/step - loss: 0.3460 - mae: 0.3460\n",
            "Epoch 92/100\n",
            "1/1 [==============================] - 0s 12ms/step - loss: 0.1647 - mae: 0.1647\n",
            "Epoch 93/100\n",
            "1/1 [==============================] - 0s 10ms/step - loss: 0.3409 - mae: 0.3409\n",
            "Epoch 94/100\n",
            "1/1 [==============================] - 0s 19ms/step - loss: 0.3735 - mae: 0.3735\n",
            "Epoch 95/100\n",
            "1/1 [==============================] - 0s 20ms/step - loss: 0.0743 - mae: 0.0743\n",
            "Epoch 96/100\n",
            "1/1 [==============================] - 0s 14ms/step - loss: 0.3696 - mae: 0.3696\n",
            "Epoch 97/100\n",
            "1/1 [==============================] - 0s 9ms/step - loss: 0.3509 - mae: 0.3509\n",
            "Epoch 98/100\n",
            "1/1 [==============================] - 0s 8ms/step - loss: 0.0617 - mae: 0.0617\n",
            "Epoch 99/100\n",
            "1/1 [==============================] - 0s 9ms/step - loss: 0.2888 - mae: 0.2888\n",
            "Epoch 100/100\n",
            "1/1 [==============================] - 0s 10ms/step - loss: 0.1651 - mae: 0.1651\n"
          ]
        },
        {
          "output_type": "execute_result",
          "data": {
            "text/plain": [
              "<keras.callbacks.History at 0x7f322aefe1f0>"
            ]
          },
          "metadata": {},
          "execution_count": 13
        }
      ],
      "source": [
        "# Build model\n",
        "tf.random.set_seed(SEED)\n",
        "\n",
        "model = tf.keras.Sequential([\n",
        "    tf.keras.layers.Dense(units=50, activation=None),\n",
        "    tf.keras.layers.Dense(units=1),\n",
        "])\n",
        "# Compile\n",
        "model.compile(loss=tf.keras.losses.mae,\n",
        "              optimizer=tf.keras.optimizers.Adam(learning_rate=0.01),\n",
        "              metrics=[\"mae\"])\n",
        "\n",
        "# Fit\n",
        "model.fit(X, y, epochs=100)"
      ]
    },
    {
      "cell_type": "code",
      "execution_count": 14,
      "metadata": {
        "colab": {
          "base_uri": "https://localhost:8080/"
        },
        "id": "IvYv_XshtEgy",
        "outputId": "df095a26-36bf-423c-c82f-2152beb19c3b"
      },
      "outputs": [
        {
          "output_type": "stream",
          "name": "stdout",
          "text": [
            "1/1 [==============================] - 0s 113ms/step\n"
          ]
        },
        {
          "output_type": "execute_result",
          "data": {
            "text/plain": [
              "array([[27.187956]], dtype=float32)"
            ]
          },
          "metadata": {},
          "execution_count": 14
        }
      ],
      "source": [
        "# Make predictions\n",
        "y_pred = model.predict([18.0])\n",
        "y_pred"
      ]
    },
    {
      "cell_type": "markdown",
      "source": [
        "### Evaluate The Model Performance\n",
        "\n",
        "* It's a good idea to `visualize`.\n",
        "* We can visualize the following:\n",
        "\n",
        "  1. Data.\n",
        "  2. Model.\n",
        "  3. Model training.\n",
        "  4. The model predictions."
      ],
      "metadata": {
        "id": "uyx5ZRWxtEgy"
      }
    },
    {
      "cell_type": "code",
      "source": [
        "# Create a bigger data\n",
        "X = tf.cast(tf.range(-100, 100, 4), dtype=tf.float16)\n",
        "y = X + 10\n",
        "\n",
        "\n",
        "# Turn it into a matrix\n",
        "X = tf.expand_dims(X, axis=-1)\n",
        "\n",
        "\n",
        "tf.size(X).numpy()"
      ],
      "metadata": {
        "colab": {
          "base_uri": "https://localhost:8080/"
        },
        "id": "bua5r1dryGf_",
        "outputId": "eb932fdb-5127-4615-eb61-1f38d74fc031"
      },
      "execution_count": 15,
      "outputs": [
        {
          "output_type": "execute_result",
          "data": {
            "text/plain": [
              "50"
            ]
          },
          "metadata": {},
          "execution_count": 15
        }
      ]
    },
    {
      "cell_type": "code",
      "source": [
        "# Visualize the data\n",
        "plt.figure(figsize=(8, 6))\n",
        "\n",
        "plt.scatter(X, y)\n",
        "plt.xlabel(\"X\", size=13)\n",
        "plt.ylabel(\"y\", size=13)\n",
        "plt.title(\"Scatter Plot of X and Y\", size=15)\n",
        "\n",
        "plt.show()"
      ],
      "metadata": {
        "colab": {
          "base_uri": "https://localhost:8080/",
          "height": 409
        },
        "id": "-pzoCSsv1nGK",
        "outputId": "078b21ba-5680-4df5-a19a-4dfac4a0b467"
      },
      "execution_count": 16,
      "outputs": [
        {
          "output_type": "display_data",
          "data": {
            "text/plain": [
              "<Figure size 576x432 with 1 Axes>"
            ],
            "image/png": "[encoded data removed]"
          },
          "metadata": {
            "needs_background": "light"
          }
        }
      ]
    },
    {
      "cell_type": "code",
      "source": [
        "0.8 * X.shape[0]"
      ],
      "metadata": {
        "colab": {
          "base_uri": "https://localhost:8080/"
        },
        "id": "kglyYrzB4lxr",
        "outputId": "e00f6337-fa93-4954-d00f-ab1d7876194e"
      },
      "execution_count": 17,
      "outputs": [
        {
          "output_type": "execute_result",
          "data": {
            "text/plain": [
              "40.0"
            ]
          },
          "metadata": {},
          "execution_count": 17
        }
      ]
    },
    {
      "cell_type": "code",
      "source": [
        "# Split the data\n",
        "X_train, X_val = X[:40], X[40:]\n",
        "y_train, y_val = y[:40], y[40:]\n",
        "\n",
        "X_train.shape, X_val.shape"
      ],
      "metadata": {
        "colab": {
          "base_uri": "https://localhost:8080/"
        },
        "id": "xQTE-tdB4ZgL",
        "outputId": "b7cd5ae8-b120-44cd-dff5-22b56d8a1ada"
      },
      "execution_count": 18,
      "outputs": [
        {
          "output_type": "execute_result",
          "data": {
            "text/plain": [
              "(TensorShape([40, 1]), TensorShape([10, 1]))"
            ]
          },
          "metadata": {},
          "execution_count": 18
        }
      ]
    },
    {
      "cell_type": "code",
      "source": [
        "# Visualize the data\n",
        "plt.figure(figsize=(8, 6))\n",
        "\n",
        "plt.scatter(X_train, y_train, color=\"red\", label=\"Training data\")\n",
        "plt.scatter(X_val, y_val, color=\"blue\", label=\"Validation data\")\n",
        "plt.xlabel(\"X\", size=13)\n",
        "plt.ylabel(\"y\", size=13)\n",
        "plt.title(\"Scatter Plot of X and Y\", size=15)\n",
        "plt.legend()\n",
        "\n",
        "plt.show()"
      ],
      "metadata": {
        "colab": {
          "base_uri": "https://localhost:8080/",
          "height": 409
        },
        "id": "qQe2DYcy6BQ0",
        "outputId": "00b12712-d8b4-4053-b1fe-3d0c1097e71e"
      },
      "execution_count": 19,
      "outputs": [
        {
          "output_type": "display_data",
          "data": {
            "text/plain": [
              "<Figure size 576x432 with 1 Axes>"
            ],
            "image/png": "[encoded data removed]"
          },
          "metadata": {
            "needs_background": "light"
          }
        }
      ]
    },
    {
      "cell_type": "markdown",
      "source": [
        "### Visualize The Data Split"
      ],
      "metadata": {
        "id": "cbCeorKj58C9"
      }
    },
    {
      "cell_type": "code",
      "source": [
        "# from sklearn.model_selection import train_test_split\n",
        "\n",
        "\n",
        "\n",
        "# RANDOM_STATE, TEST_SIZE = 123, 0.2\n",
        "\n",
        "# X_train, X_val, y_train, y_val = train_test_split(X, y, test_size=TEST_SIZE, random_state=RANDOM_STATE)\n",
        "# X_train.shape, X_val.shape"
      ],
      "metadata": {
        "id": "7W1G_gP90BxJ"
      },
      "execution_count": 20,
      "outputs": []
    },
    {
      "cell_type": "code",
      "source": [
        "# Build model (with input shape)\n",
        "tf.random.set_seed(SEED)\n",
        "\n",
        "model = tf.keras.Sequential([\n",
        "    tf.keras.layers.Dense(units=10, activation=None, input_shape=[1], name=\"input_layer\"),\n",
        "    tf.keras.layers.Dense(units=1, name=\"output_layer\"),\n",
        "], name=\"neural_net_1\")\n",
        "\n",
        "# Compile \n",
        "model.compile(loss=tf.keras.losses.mae,\n",
        "              optimizer=tf.keras.optimizers.SGD(learning_rate=0.01),\n",
        "              metrics=[\"mae\"])\n",
        "\n"
      ],
      "metadata": {
        "id": "0MgCCzGkyGWh"
      },
      "execution_count": 58,
      "outputs": []
    },
    {
      "cell_type": "code",
      "source": [
        "# Model Summary\n",
        "model.summary()"
      ],
      "metadata": {
        "colab": {
          "base_uri": "https://localhost:8080/"
        },
        "id": "uXCVuoDQDPG-",
        "outputId": "c3beafd1-fb57-46b4-cfe0-9e1bc94c4134"
      },
      "execution_count": 59,
      "outputs": [
        {
          "output_type": "stream",
          "name": "stdout",
          "text": [
            "Model: \"neural_net_1\"\n",
            "_________________________________________________________________\n",
            " Layer (type)                Output Shape              Param #   \n",
            "=================================================================\n",
            " input_layer (Dense)         (None, 10)                20        \n",
            "                                                                 \n",
            " output_layer (Dense)        (None, 1)                 11        \n",
            "                                                                 \n",
            "=================================================================\n",
            "Total params: 31\n",
            "Trainable params: 31\n",
            "Non-trainable params: 0\n",
            "_________________________________________________________________\n"
          ]
        }
      ]
    },
    {
      "cell_type": "markdown",
      "source": [
        "### Some Key Terms\n",
        "* **Total params**: total number of parameters the model needs to learn.\n",
        "* **Trainable params**: these are the parameters (patterns) that the model can update as it trains.\n",
        "* **Non-trainable params**: these parameters are not updated during training. this is typical when you use already learned parameters from other models during training (i.e transfer learning)"
      ],
      "metadata": {
        "id": "fICF6wX2Dmxb"
      }
    },
    {
      "cell_type": "code",
      "source": [
        "# Fit \n",
        "model.fit(X_train, y_train, epochs=100)"
      ],
      "metadata": {
        "colab": {
          "base_uri": "https://localhost:8080/"
        },
        "id": "R7rGqq7XFhuq",
        "outputId": "f83de076-0ed8-4970-95f6-809da68aa824"
      },
      "execution_count": 60,
      "outputs": [
        {
          "output_type": "stream",
          "name": "stdout",
          "text": [
            "Epoch 1/100\n",
            "2/2 [==============================] - 0s 10ms/step - loss: 23.8214 - mae: 23.8214\n",
            "Epoch 2/100\n",
            "2/2 [==============================] - 0s 6ms/step - loss: 19.0383 - mae: 19.0383\n",
            "Epoch 3/100\n",
            "2/2 [==============================] - 0s 6ms/step - loss: 27.0192 - mae: 27.0192\n",
            "Epoch 4/100\n",
            "2/2 [==============================] - 0s 6ms/step - loss: 19.6952 - mae: 19.6952\n",
            "Epoch 5/100\n",
            "2/2 [==============================] - 0s 6ms/step - loss: 21.3764 - mae: 21.3764\n",
            "Epoch 6/100\n",
            "2/2 [==============================] - 0s 7ms/step - loss: 15.8236 - mae: 15.8236\n",
            "Epoch 7/100\n",
            "2/2 [==============================] - 0s 5ms/step - loss: 18.1372 - mae: 18.1372\n",
            "Epoch 8/100\n",
            "2/2 [==============================] - 0s 6ms/step - loss: 15.6818 - mae: 15.6818\n",
            "Epoch 9/100\n",
            "2/2 [==============================] - 0s 6ms/step - loss: 15.2766 - mae: 15.2766\n",
            "Epoch 10/100\n",
            "2/2 [==============================] - 0s 7ms/step - loss: 16.5926 - mae: 16.5926\n",
            "Epoch 11/100\n",
            "2/2 [==============================] - 0s 6ms/step - loss: 14.5537 - mae: 14.5537\n",
            "Epoch 12/100\n",
            "2/2 [==============================] - 0s 6ms/step - loss: 16.7062 - mae: 16.7062\n",
            "Epoch 13/100\n",
            "2/2 [==============================] - 0s 5ms/step - loss: 17.0260 - mae: 17.0260\n",
            "Epoch 14/100\n",
            "2/2 [==============================] - 0s 10ms/step - loss: 11.1150 - mae: 11.1150\n",
            "Epoch 15/100\n",
            "2/2 [==============================] - 0s 5ms/step - loss: 14.7861 - mae: 14.7861\n",
            "Epoch 16/100\n",
            "2/2 [==============================] - 0s 6ms/step - loss: 12.4848 - mae: 12.4848\n",
            "Epoch 17/100\n",
            "2/2 [==============================] - 0s 5ms/step - loss: 14.6909 - mae: 14.6909\n",
            "Epoch 18/100\n",
            "2/2 [==============================] - 0s 5ms/step - loss: 14.2062 - mae: 14.2062\n",
            "Epoch 19/100\n",
            "2/2 [==============================] - 0s 5ms/step - loss: 7.8655 - mae: 7.8655\n",
            "Epoch 20/100\n",
            "2/2 [==============================] - 0s 6ms/step - loss: 35.5228 - mae: 35.5228\n",
            "Epoch 21/100\n",
            "2/2 [==============================] - 0s 5ms/step - loss: 10.2616 - mae: 10.2616\n",
            "Epoch 22/100\n",
            "2/2 [==============================] - 0s 4ms/step - loss: 12.0831 - mae: 12.0831\n",
            "Epoch 23/100\n",
            "2/2 [==============================] - 0s 6ms/step - loss: 17.9946 - mae: 17.9946\n",
            "Epoch 24/100\n",
            "2/2 [==============================] - 0s 6ms/step - loss: 10.8240 - mae: 10.8240\n",
            "Epoch 25/100\n",
            "2/2 [==============================] - 0s 5ms/step - loss: 11.4615 - mae: 11.4615\n",
            "Epoch 26/100\n",
            "2/2 [==============================] - 0s 5ms/step - loss: 22.0568 - mae: 22.0568\n",
            "Epoch 27/100\n",
            "2/2 [==============================] - 0s 7ms/step - loss: 15.1715 - mae: 15.1715\n",
            "Epoch 28/100\n",
            "2/2 [==============================] - 0s 5ms/step - loss: 14.0784 - mae: 14.0784\n",
            "Epoch 29/100\n",
            "2/2 [==============================] - 0s 6ms/step - loss: 16.7605 - mae: 16.7605\n",
            "Epoch 30/100\n",
            "2/2 [==============================] - 0s 8ms/step - loss: 11.4546 - mae: 11.4546\n",
            "Epoch 31/100\n",
            "2/2 [==============================] - 0s 10ms/step - loss: 17.3010 - mae: 17.3010\n",
            "Epoch 32/100\n",
            "2/2 [==============================] - 0s 6ms/step - loss: 8.7142 - mae: 8.7142\n",
            "Epoch 33/100\n",
            "2/2 [==============================] - 0s 7ms/step - loss: 21.9552 - mae: 21.9552\n",
            "Epoch 34/100\n",
            "2/2 [==============================] - 0s 6ms/step - loss: 10.0103 - mae: 10.0103\n",
            "Epoch 35/100\n",
            "2/2 [==============================] - 0s 6ms/step - loss: 12.5634 - mae: 12.5634\n",
            "Epoch 36/100\n",
            "2/2 [==============================] - 0s 6ms/step - loss: 15.4956 - mae: 15.4956\n",
            "Epoch 37/100\n",
            "2/2 [==============================] - 0s 5ms/step - loss: 13.2386 - mae: 13.2386\n",
            "Epoch 38/100\n",
            "2/2 [==============================] - 0s 5ms/step - loss: 14.4691 - mae: 14.4691\n",
            "Epoch 39/100\n",
            "2/2 [==============================] - 0s 5ms/step - loss: 16.9458 - mae: 16.9458\n",
            "Epoch 40/100\n",
            "2/2 [==============================] - 0s 5ms/step - loss: 25.7432 - mae: 25.7432\n",
            "Epoch 41/100\n",
            "2/2 [==============================] - 0s 6ms/step - loss: 10.2346 - mae: 10.2346\n",
            "Epoch 42/100\n",
            "2/2 [==============================] - 0s 6ms/step - loss: 14.2712 - mae: 14.2712\n",
            "Epoch 43/100\n",
            "2/2 [==============================] - 0s 6ms/step - loss: 11.2135 - mae: 11.2135\n",
            "Epoch 44/100\n",
            "2/2 [==============================] - 0s 6ms/step - loss: 9.9901 - mae: 9.9901\n",
            "Epoch 45/100\n",
            "2/2 [==============================] - 0s 6ms/step - loss: 18.8402 - mae: 18.8402\n",
            "Epoch 46/100\n",
            "2/2 [==============================] - 0s 6ms/step - loss: 14.8565 - mae: 14.8565\n",
            "Epoch 47/100\n",
            "2/2 [==============================] - 0s 5ms/step - loss: 20.2659 - mae: 20.2659\n",
            "Epoch 48/100\n",
            "2/2 [==============================] - 0s 5ms/step - loss: 24.4677 - mae: 24.4677\n",
            "Epoch 49/100\n",
            "2/2 [==============================] - 0s 5ms/step - loss: 11.8964 - mae: 11.8964\n",
            "Epoch 50/100\n",
            "2/2 [==============================] - 0s 9ms/step - loss: 16.2441 - mae: 16.2441\n",
            "Epoch 51/100\n",
            "2/2 [==============================] - 0s 10ms/step - loss: 18.5633 - mae: 18.5633\n",
            "Epoch 52/100\n",
            "2/2 [==============================] - 0s 6ms/step - loss: 12.6075 - mae: 12.6075\n",
            "Epoch 53/100\n",
            "2/2 [==============================] - 0s 6ms/step - loss: 15.4828 - mae: 15.4828\n",
            "Epoch 54/100\n",
            "2/2 [==============================] - 0s 5ms/step - loss: 12.5706 - mae: 12.5706\n",
            "Epoch 55/100\n",
            "2/2 [==============================] - 0s 5ms/step - loss: 13.5019 - mae: 13.5019\n",
            "Epoch 56/100\n",
            "2/2 [==============================] - 0s 8ms/step - loss: 9.5210 - mae: 9.5210\n",
            "Epoch 57/100\n",
            "2/2 [==============================] - 0s 8ms/step - loss: 15.9956 - mae: 15.9956\n",
            "Epoch 58/100\n",
            "2/2 [==============================] - 0s 7ms/step - loss: 8.2776 - mae: 8.2776\n",
            "Epoch 59/100\n",
            "2/2 [==============================] - 0s 6ms/step - loss: 11.5573 - mae: 11.5573\n",
            "Epoch 60/100\n",
            "2/2 [==============================] - 0s 6ms/step - loss: 10.9176 - mae: 10.9176\n",
            "Epoch 61/100\n",
            "2/2 [==============================] - 0s 6ms/step - loss: 12.9306 - mae: 12.9306\n",
            "Epoch 62/100\n",
            "2/2 [==============================] - 0s 6ms/step - loss: 25.8794 - mae: 25.8794\n",
            "Epoch 63/100\n",
            "2/2 [==============================] - 0s 6ms/step - loss: 10.3142 - mae: 10.3142\n",
            "Epoch 64/100\n",
            "2/2 [==============================] - 0s 6ms/step - loss: 13.5666 - mae: 13.5666\n",
            "Epoch 65/100\n",
            "2/2 [==============================] - 0s 6ms/step - loss: 8.8775 - mae: 8.8775\n",
            "Epoch 66/100\n",
            "2/2 [==============================] - 0s 6ms/step - loss: 19.9104 - mae: 19.9104\n",
            "Epoch 67/100\n",
            "2/2 [==============================] - 0s 6ms/step - loss: 14.0862 - mae: 14.0862\n",
            "Epoch 68/100\n",
            "2/2 [==============================] - 0s 6ms/step - loss: 13.1725 - mae: 13.1725\n",
            "Epoch 69/100\n",
            "2/2 [==============================] - 0s 6ms/step - loss: 13.5151 - mae: 13.5151\n",
            "Epoch 70/100\n",
            "2/2 [==============================] - 0s 6ms/step - loss: 12.8180 - mae: 12.8180\n",
            "Epoch 71/100\n",
            "2/2 [==============================] - 0s 6ms/step - loss: 17.5726 - mae: 17.5726\n",
            "Epoch 72/100\n",
            "2/2 [==============================] - 0s 6ms/step - loss: 13.7803 - mae: 13.7803\n",
            "Epoch 73/100\n",
            "2/2 [==============================] - 0s 6ms/step - loss: 9.0960 - mae: 9.0960\n",
            "Epoch 74/100\n",
            "2/2 [==============================] - 0s 6ms/step - loss: 22.2659 - mae: 22.2659\n",
            "Epoch 75/100\n",
            "2/2 [==============================] - 0s 6ms/step - loss: 10.3868 - mae: 10.3868\n",
            "Epoch 76/100\n",
            "2/2 [==============================] - 0s 6ms/step - loss: 13.4819 - mae: 13.4819\n",
            "Epoch 77/100\n",
            "2/2 [==============================] - 0s 6ms/step - loss: 6.5708 - mae: 6.5708\n",
            "Epoch 78/100\n",
            "2/2 [==============================] - 0s 6ms/step - loss: 12.3664 - mae: 12.3664\n",
            "Epoch 79/100\n",
            "2/2 [==============================] - 0s 9ms/step - loss: 7.7965 - mae: 7.7965\n",
            "Epoch 80/100\n",
            "2/2 [==============================] - 0s 8ms/step - loss: 9.6319 - mae: 9.6319\n",
            "Epoch 81/100\n",
            "2/2 [==============================] - 0s 7ms/step - loss: 16.1109 - mae: 16.1109\n",
            "Epoch 82/100\n",
            "2/2 [==============================] - 0s 6ms/step - loss: 6.5449 - mae: 6.5449\n",
            "Epoch 83/100\n",
            "2/2 [==============================] - 0s 6ms/step - loss: 10.1490 - mae: 10.1490\n",
            "Epoch 84/100\n",
            "2/2 [==============================] - 0s 6ms/step - loss: 19.8168 - mae: 19.8168\n",
            "Epoch 85/100\n",
            "2/2 [==============================] - 0s 6ms/step - loss: 15.9086 - mae: 15.9086\n",
            "Epoch 86/100\n",
            "2/2 [==============================] - 0s 6ms/step - loss: 16.9664 - mae: 16.9664\n",
            "Epoch 87/100\n",
            "2/2 [==============================] - 0s 6ms/step - loss: 16.9861 - mae: 16.9861\n",
            "Epoch 88/100\n",
            "2/2 [==============================] - 0s 6ms/step - loss: 29.0206 - mae: 29.0206\n",
            "Epoch 89/100\n",
            "2/2 [==============================] - 0s 7ms/step - loss: 20.6310 - mae: 20.6310\n",
            "Epoch 90/100\n",
            "2/2 [==============================] - 0s 9ms/step - loss: 11.5901 - mae: 11.5901\n",
            "Epoch 91/100\n",
            "2/2 [==============================] - 0s 7ms/step - loss: 23.7356 - mae: 23.7356\n",
            "Epoch 92/100\n",
            "2/2 [==============================] - 0s 7ms/step - loss: 19.3065 - mae: 19.3065\n",
            "Epoch 93/100\n",
            "2/2 [==============================] - 0s 6ms/step - loss: 6.4122 - mae: 6.4122\n",
            "Epoch 94/100\n",
            "2/2 [==============================] - 0s 7ms/step - loss: 13.5996 - mae: 13.5996\n",
            "Epoch 95/100\n",
            "2/2 [==============================] - 0s 7ms/step - loss: 15.2774 - mae: 15.2774\n",
            "Epoch 96/100\n",
            "2/2 [==============================] - 0s 6ms/step - loss: 16.0880 - mae: 16.0880\n",
            "Epoch 97/100\n",
            "2/2 [==============================] - 0s 6ms/step - loss: 13.2196 - mae: 13.2196\n",
            "Epoch 98/100\n",
            "2/2 [==============================] - 0s 6ms/step - loss: 26.2770 - mae: 26.2770\n",
            "Epoch 99/100\n",
            "2/2 [==============================] - 0s 6ms/step - loss: 16.2696 - mae: 16.2696\n",
            "Epoch 100/100\n",
            "2/2 [==============================] - 0s 6ms/step - loss: 20.2190 - mae: 20.2190\n"
          ]
        },
        {
          "output_type": "execute_result",
          "data": {
            "text/plain": [
              "<keras.callbacks.History at 0x7f32296816a0>"
            ]
          },
          "metadata": {},
          "execution_count": 60
        }
      ]
    },
    {
      "cell_type": "markdown",
      "source": [
        "### Visualize The Model\n",
        "\n",
        "[![image.png](https://i.postimg.cc/XJnBMPTk/image.png)](https://postimg.cc/Lq08Lx4J)"
      ],
      "metadata": {
        "id": "9yZyuAAZF9eZ"
      }
    },
    {
      "cell_type": "code",
      "source": [
        "from tensorflow.keras.utils import plot_model\n",
        "\n",
        "\n",
        "plot_model(model, show_shapes=True)"
      ],
      "metadata": {
        "colab": {
          "base_uri": "https://localhost:8080/",
          "height": 312
        },
        "id": "dqmkX400F9SZ",
        "outputId": "21ce9e66-0ba3-4dff-adf2-11f7c9e7aca4"
      },
      "execution_count": 61,
      "outputs": [
        {
          "output_type": "execute_result",
          "data": {
            "image/png": "[encoded data removed]",
            "text/plain": [
              "<IPython.core.display.Image object>"
            ]
          },
          "metadata": {},
          "execution_count": 61
        }
      ]
    },
    {
      "cell_type": "code",
      "source": [],
      "metadata": {
        "id": "GxqhY96vGbPf"
      },
      "execution_count": 24,
      "outputs": []
    },
    {
      "cell_type": "code",
      "source": [
        "def plot_prediction(X_train=X_train, \n",
        "                    X_val=X_val, \n",
        "                    y_train=y_train, \n",
        "                    y_val=y_val, \n",
        "                    y_predictions=y_pred) -> \"Plot\":\n",
        "  \"\"\"This is used to visualize the model predictions.\n",
        "\n",
        "  Params:\n",
        "    X_train (tf.tensor): The training data.\n",
        "    X_val (tf.tensor): The validation data.\n",
        "    y_train (tf.tensor): The labels of the training data.\n",
        "    y_train (tf.tensor): The labels of the validation data.\n",
        "    y_pred (tf.tensor): The predicted data.\n",
        "\n",
        "  Returns:\n",
        "    None\n",
        "  \"\"\"\n",
        "  # Visualize the data\n",
        "  plt.figure(figsize=(8, 6))\n",
        "\n",
        "  plt.scatter(X_train, y_train, color=\"red\", label=\"Training data\")\n",
        "  plt.scatter(X_val, y_val, color=\"blue\", label=\"Validation data\")\n",
        "  plt.scatter(X_val, y_predictions, color=\"green\", label=\"Predicted data\")\n",
        "  plt.xlabel(\"X\", size=13)\n",
        "  plt.ylabel(\"y\", size=13)\n",
        "  plt.title(\"Scatter Plot of X and Y\", size=15)\n",
        "  plt.legend()\n",
        "\n",
        "  plt.show()"
      ],
      "metadata": {
        "id": "yiX8ZawtyGIk"
      },
      "execution_count": 25,
      "outputs": []
    },
    {
      "cell_type": "code",
      "source": [
        "# Make predictions\n",
        "y_pred = model.predict(X_val)"
      ],
      "metadata": {
        "colab": {
          "base_uri": "https://localhost:8080/"
        },
        "id": "NPxM67uWRuQw",
        "outputId": "0979e058-d8d4-4f35-8d63-7fbf023b2291"
      },
      "execution_count": 57,
      "outputs": [
        {
          "output_type": "stream",
          "name": "stdout",
          "text": [
            "1/1 [==============================] - 0s 18ms/step\n"
          ]
        }
      ]
    },
    {
      "cell_type": "code",
      "source": [
        "plot_prediction(y_predictions=y_pred)"
      ],
      "metadata": {
        "colab": {
          "base_uri": "https://localhost:8080/",
          "height": 409
        },
        "id": "POWJ7A_gyGFb",
        "outputId": "2c92188d-a0a4-4ffe-d2f1-a70bd8915768"
      },
      "execution_count": 27,
      "outputs": [
        {
          "output_type": "display_data",
          "data": {
            "text/plain": [
              "<Figure size 576x432 with 1 Axes>"
            ],
            "image/png": "[encoded data removed]"
          },
          "metadata": {
            "needs_background": "light"
          }
        }
      ]
    },
    {
      "cell_type": "code",
      "source": [
        "# Evaluate\n",
        "model.evaluate(X_val, y_val)"
      ],
      "metadata": {
        "colab": {
          "base_uri": "https://localhost:8080/"
        },
        "id": "LouQdtgFyF_c",
        "outputId": "989df392-ec77-4265-ec31-7610b44854f8"
      },
      "execution_count": 62,
      "outputs": [
        {
          "output_type": "stream",
          "name": "stdout",
          "text": [
            "1/1 [==============================] - 0s 105ms/step - loss: 3.6094 - mae: 3.6094\n"
          ]
        },
        {
          "output_type": "execute_result",
          "data": {
            "text/plain": [
              "[3.6094276905059814, 3.6094276905059814]"
            ]
          },
          "metadata": {},
          "execution_count": 62
        }
      ]
    },
    {
      "cell_type": "markdown",
      "source": [
        "### Challenge\n",
        "\n",
        "> Implement the following:\n",
        "\n",
        "1. Mean Absolute Error\n",
        "\n",
        "```python\n",
        "tf.keras.losses.MAE()\n",
        "\n",
        "# OR\n",
        "tf.metrics.mean_absolute_error()\n",
        "```\n",
        "\n",
        "$$\n",
        "mae = \\frac{\\sum^n_{i=1}{|y_{i}} - \\hat{y}_{i}|}{n}\n",
        "$$\n",
        "\n",
        "2. Mean Squared Error\n",
        "\n",
        "```python\n",
        "tf.keras.losses.MSE()\n",
        "\n",
        "# OR\n",
        "tf.metrics.mean_squared_error()\n",
        "```\n",
        "\n",
        "$$\n",
        "mse = \\frac{\\sum^n_{i=1}{(y_{i}} - \\hat{y}_{i})^2}{n}\n",
        "$$"
      ],
      "metadata": {
        "id": "vwMGN8vkPH4c"
      }
    },
    {
      "cell_type": "code",
      "source": [
        "def mean_absolute_error(*, y_true:\"tf.tensor\", y_pred:\"tf.tensor\") -> float:\n",
        "  \"\"\"This returns the Mean Absolute Error.\"\"\"\n",
        "  mae = tf.math.reduce_mean(tf.math.abs(y_true - tf.squeeze(tf.cast(y_pred, dtype=tf.float16))))\n",
        "  return mae\n",
        "\n",
        "\n",
        "def mean_squared_error(*, y_true:\"tf.tensor\", y_pred:\"tf.tensor\") -> float:\n",
        "  \"\"\"This returns the Mean Squared Error.\"\"\"\n",
        "  mse = tf.math.reduce_mean(tf.math.square(y_true - tf.squeeze(tf.cast(y_pred, dtype=tf.float16))))\n",
        "  return mse\n",
        "\n"
      ],
      "metadata": {
        "id": "3OWyt2WwyF8-"
      },
      "execution_count": 80,
      "outputs": []
    },
    {
      "cell_type": "code",
      "source": [
        "print(mean_absolute_error(y_true=y_val, y_pred=y_pred))\n",
        "\n",
        "mean_squared_error(y_true=y_val, y_pred=y_pred)"
      ],
      "metadata": {
        "colab": {
          "base_uri": "https://localhost:8080/"
        },
        "id": "pZYrSwTgyF6d",
        "outputId": "eb9461cc-2302-43ae-f75b-9bd0e3828e69"
      },
      "execution_count": 81,
      "outputs": [
        {
          "output_type": "stream",
          "name": "stdout",
          "text": [
            "tf.Tensor(3.781, shape=(), dtype=float16)\n"
          ]
        },
        {
          "output_type": "execute_result",
          "data": {
            "text/plain": [
              "<tf.Tensor: shape=(), dtype=float16, numpy=14.75>"
            ]
          },
          "metadata": {},
          "execution_count": 81
        }
      ]
    },
    {
      "cell_type": "code",
      "source": [
        "# OR\n",
        "tf.keras.losses.MAE(y_true=y_val, y_pred=tf.squeeze(y_pred))"
      ],
      "metadata": {
        "colab": {
          "base_uri": "https://localhost:8080/"
        },
        "id": "dPk3vbrkyFzs",
        "outputId": "a3772c41-e261-4da8-fda6-e941eb8cef8b"
      },
      "execution_count": 66,
      "outputs": [
        {
          "output_type": "execute_result",
          "data": {
            "text/plain": [
              "<tf.Tensor: shape=(), dtype=float32, numpy=3.7822127>"
            ]
          },
          "metadata": {},
          "execution_count": 66
        }
      ]
    },
    {
      "cell_type": "code",
      "execution_count": 82,
      "metadata": {
        "colab": {
          "base_uri": "https://localhost:8080/"
        },
        "id": "ycGR7g9WtEgz",
        "outputId": "2687e258-415f-4165-ae3a-e0c63f774720"
      },
      "outputs": [
        {
          "output_type": "execute_result",
          "data": {
            "text/plain": [
              "<tf.Tensor: shape=(), dtype=float32, numpy=14.763547>"
            ]
          },
          "metadata": {},
          "execution_count": 82
        }
      ],
      "source": [
        "# Mean Squared Error\n",
        "tf.keras.losses.MSE(y_true=y_val, y_pred=tf.squeeze(y_pred))"
      ]
    },
    {
      "cell_type": "code",
      "source": [],
      "metadata": {
        "id": "PPtcbKLBI9xy"
      },
      "execution_count": null,
      "outputs": []
    },
    {
      "cell_type": "code",
      "source": [],
      "metadata": {
        "id": "wVqbLCFbI9vG"
      },
      "execution_count": null,
      "outputs": []
    },
    {
      "cell_type": "code",
      "source": [],
      "metadata": {
        "id": "ybH-iej1I9sE"
      },
      "execution_count": null,
      "outputs": []
    },
    {
      "cell_type": "code",
      "source": [],
      "metadata": {
        "id": "8jazhAyhI9pU"
      },
      "execution_count": null,
      "outputs": []
    },
    {
      "cell_type": "code",
      "source": [],
      "metadata": {
        "id": "KizMihEDI9l1"
      },
      "execution_count": null,
      "outputs": []
    },
    {
      "cell_type": "code",
      "source": [],
      "metadata": {
        "id": "XYlpFRZvI9ib"
      },
      "execution_count": null,
      "outputs": []
    },
    {
      "cell_type": "code",
      "source": [],
      "metadata": {
        "id": "HSCeEdcsI9fR"
      },
      "execution_count": null,
      "outputs": []
    },
    {
      "cell_type": "code",
      "source": [],
      "metadata": {
        "id": "q42IQY_EI9cZ"
      },
      "execution_count": null,
      "outputs": []
    },
    {
      "cell_type": "code",
      "source": [],
      "metadata": {
        "id": "NiJLaRhGI9Wq"
      },
      "execution_count": null,
      "outputs": []
    },
    {
      "cell_type": "code",
      "source": [],
      "metadata": {
        "id": "4bUE1rmhI9TQ"
      },
      "execution_count": null,
      "outputs": []
    },
    {
      "cell_type": "code",
      "execution_count": 31,
      "metadata": {
        "id": "tXguO8jGtEgz"
      },
      "outputs": [],
      "source": []
    },
    {
      "cell_type": "code",
      "execution_count": 31,
      "metadata": {
        "id": "4PDwJKuktEgz"
      },
      "outputs": [],
      "source": []
    },
    {
      "cell_type": "code",
      "execution_count": 31,
      "metadata": {
        "id": "hgzKYEIRtEgz"
      },
      "outputs": [],
      "source": []
    },
    {
      "cell_type": "code",
      "execution_count": 31,
      "metadata": {
        "id": "6pjwEWDPtEgz"
      },
      "outputs": [],
      "source": []
    }
  ],
  "metadata": {
    "language_info": {
      "name": "python"
    },
    "orig_nbformat": 4,
    "colab": {
      "provenance": [],
      "include_colab_link": true
    },
    "kernelspec": {
      "name": "python3",
      "display_name": "Python 3"
    },
    "gpuClass": "standard"
  },
  "nbformat": 4,
  "nbformat_minor": 0
}