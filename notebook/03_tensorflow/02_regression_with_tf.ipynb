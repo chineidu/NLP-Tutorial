{
  "cells": [
    {
      "cell_type": "markdown",
      "metadata": {
        "id": "view-in-github",
        "colab_type": "text"
      },
      "source": [
        "<a href=\"https://colab.research.google.com/github/chineidu/NLP-Tutorial/blob/main/notebook/03_tensorflow/02_regression_with_tf.ipynb\" target=\"_parent\"><img src=\"https://colab.research.google.com/assets/colab-badge.svg\" alt=\"Open In Colab\"/></a>"
      ]
    },
    {
      "cell_type": "markdown",
      "metadata": {
        "id": "YBL3ZU9ptEgt"
      },
      "source": [
        "# Regression With TensorFlow"
      ]
    },
    {
      "cell_type": "code",
      "execution_count": 1,
      "metadata": {
        "id": "L8l2Qmy4tEgv"
      },
      "outputs": [],
      "source": [
        "# Standard imports\n",
        "import numpy as np\n",
        "import pandas as pd\n",
        "import matplotlib.pyplot as plt\n",
        "import seaborn as sns\n",
        "\n",
        "import tensorflow as tf\n"
      ]
    },
    {
      "cell_type": "markdown",
      "source": [
        "### Create Data\n",
        "\n",
        "* This data will be used to train the neural network"
      ],
      "metadata": {
        "id": "8IcL3zlbtEgw"
      }
    },
    {
      "cell_type": "code",
      "execution_count": 2,
      "metadata": {
        "id": "oIO693j_tEgx",
        "outputId": "c7f60153-9ef3-4feb-8b94-326954f32d98",
        "colab": {
          "base_uri": "https://localhost:8080/",
          "height": 409
        }
      },
      "outputs": [
        {
          "output_type": "display_data",
          "data": {
            "text/plain": [
              "<Figure size 576x432 with 1 Axes>"
            ],
            "image/png": "[encoded data removed]"
          },
          "metadata": {
            "needs_background": "light"
          }
        }
      ],
      "source": [
        "X = np.array([[-12, -9, -6, -3, 0, 3, 6, 9, 12, 15]]) # Row Matrix\n",
        "y = np.array([-2, 1, 4, 7, 10, 13, 16, 19, 22, 25])\n",
        "\n",
        "\n",
        "# Visualize the data\n",
        "plt.figure(figsize=(8, 6))\n",
        "plt.scatter(X, y)\n",
        "plt.xlabel(\"X\", size=13)\n",
        "plt.ylabel(\"y\", size=13)\n",
        "plt.title(\"Scatter plot of X and y\", size=15)\n",
        "plt.show()"
      ]
    },
    {
      "cell_type": "code",
      "execution_count": 3,
      "metadata": {
        "id": "QvqsN2k7tEgx",
        "outputId": "3d85a9ac-6822-4223-b724-90968025291b",
        "colab": {
          "base_uri": "https://localhost:8080/"
        }
      },
      "outputs": [
        {
          "output_type": "execute_result",
          "data": {
            "text/plain": [
              "array([[ True,  True,  True,  True,  True,  True,  True,  True,  True,\n",
              "         True]])"
            ]
          },
          "metadata": {},
          "execution_count": 3
        }
      ],
      "source": [
        "y == X + 10"
      ]
    },
    {
      "cell_type": "code",
      "execution_count": 4,
      "metadata": {
        "id": "k6yJtWMNtEgx",
        "outputId": "96c2f0a7-91f1-4015-b049-b2ec40e3c874",
        "colab": {
          "base_uri": "https://localhost:8080/"
        }
      },
      "outputs": [
        {
          "output_type": "execute_result",
          "data": {
            "text/plain": [
              "(TensorShape([10, 1]), TensorShape([10]))"
            ]
          },
          "metadata": {},
          "execution_count": 4
        }
      ],
      "source": [
        "# Convert the NumPy arrays to Tensors\n",
        "# Cast and reshape X\n",
        "X = tf.cast(tf.constant(X), dtype=tf.float16)\n",
        "X = tf.reshape(X, shape=(-1, 1))\n",
        "y = tf.cast(tf.constant(y), dtype=tf.float16)\n",
        "\n",
        "X.shape, y.shape"
      ]
    },
    {
      "cell_type": "markdown",
      "source": [
        "### Steps In Modelling With TensorFlow\n",
        "\n",
        "1. **Create a model**: define the `input`, `hidden` and `output` layers of the deep learning model.\n",
        "2. **Compile the model**: define the `loss function` (i.e the function that tells our model how wrong it is), the `optimizer` (it tells our model how to improve the patterns its learning) and the `evaluation metrics` (what we can use to interpret the performance of our model).\n",
        "3. **Fit the model**: the model `learns` the `patterns` between the input and the output"
      ],
      "metadata": {
        "id": "ot-0cVu_tEgx"
      }
    },
    {
      "cell_type": "markdown",
      "source": [
        "#### Create a baseline model\n",
        "\n",
        "\n",
        "### Some Key Terms\n",
        "\n",
        "* **Loss**: How wrong the model predictions are (you want to minimize this)\n",
        "* **Optimizer**: It tells the model how it should update it's parameters to imporeve its predictions.\n",
        "* **Metrics**: Human interpretable values for how well the model is performing.\n",
        "* **Epocs**: This represents the number of times the model will go thru all the training examples."
      ],
      "metadata": {
        "id": "X7ViYJ23tEgx"
      }
    },
    {
      "cell_type": "code",
      "execution_count": 5,
      "metadata": {
        "id": "ZoF3b9VOtEgx",
        "outputId": "8f93e92b-c2dc-4201-f6b5-63618adf2e3f",
        "colab": {
          "base_uri": "https://localhost:8080/"
        }
      },
      "outputs": [
        {
          "output_type": "stream",
          "name": "stdout",
          "text": [
            "Epoch 1/5\n",
            "1/1 [==============================] - 2s 2s/step - loss: 11.4409 - mae: 11.4409\n",
            "Epoch 2/5\n",
            "1/1 [==============================] - 0s 21ms/step - loss: 11.2824 - mae: 11.2824\n",
            "Epoch 3/5\n",
            "1/1 [==============================] - 0s 30ms/step - loss: 11.1904 - mae: 11.1904\n",
            "Epoch 4/5\n",
            "1/1 [==============================] - 0s 44ms/step - loss: 11.1579 - mae: 11.1579\n",
            "Epoch 5/5\n",
            "1/1 [==============================] - 0s 25ms/step - loss: 11.1254 - mae: 11.1254\n"
          ]
        },
        {
          "output_type": "execute_result",
          "data": {
            "text/plain": [
              "<keras.callbacks.History at 0x7fba0d41e910>"
            ]
          },
          "metadata": {},
          "execution_count": 5
        }
      ],
      "source": [
        "# Set seed for reproducibility\n",
        "SEED = 123\n",
        "tf.random.set_seed(SEED)\n",
        "\n",
        "# 1. Create a model using the Sequential API\n",
        "model = tf.keras.Sequential([\n",
        "    tf.keras.layers.Dense(1) # The model has a single neuron\n",
        "\n",
        "])\n",
        "\n",
        "# 2. Compile the model\n",
        "model.compile(loss=tf.keras.losses.mae,  # MAE: Mean Absolute Error\n",
        "              optimizer=tf.keras.optimizers.SGD(), # OR 'sgd'\n",
        "              metrics = [\"mae\"] # OR tf.keras.losses.mae\n",
        "              )\n",
        "\n",
        "# 3. Fit the model\n",
        "model.fit(X, y, epochs=5)"
      ]
    },
    {
      "cell_type": "code",
      "source": [
        "X, y"
      ],
      "metadata": {
        "id": "RkoBt_J4fbgl",
        "outputId": "cffd343a-f2c5-45b1-8d0d-06d4bdc91eec",
        "colab": {
          "base_uri": "https://localhost:8080/"
        }
      },
      "execution_count": 6,
      "outputs": [
        {
          "output_type": "execute_result",
          "data": {
            "text/plain": [
              "(<tf.Tensor: shape=(10, 1), dtype=float16, numpy=\n",
              " array([[-12.],\n",
              "        [ -9.],\n",
              "        [ -6.],\n",
              "        [ -3.],\n",
              "        [  0.],\n",
              "        [  3.],\n",
              "        [  6.],\n",
              "        [  9.],\n",
              "        [ 12.],\n",
              "        [ 15.]], dtype=float16)>,\n",
              " <tf.Tensor: shape=(10,), dtype=float16, numpy=array([-2.,  1.,  4.,  7., 10., 13., 16., 19., 22., 25.], dtype=float16)>)"
            ]
          },
          "metadata": {},
          "execution_count": 6
        }
      ]
    },
    {
      "cell_type": "code",
      "execution_count": 13,
      "metadata": {
        "id": "8iReHHMOtEgx",
        "outputId": "00de4911-32c8-420c-fb3e-01571c430d30",
        "colab": {
          "base_uri": "https://localhost:8080/"
        }
      },
      "outputs": [
        {
          "output_type": "stream",
          "name": "stdout",
          "text": [
            "1/1 [==============================] - 0s 202ms/step\n"
          ]
        },
        {
          "output_type": "execute_result",
          "data": {
            "text/plain": [
              "array([[4.378926]], dtype=float32)"
            ]
          },
          "metadata": {},
          "execution_count": 13
        }
      ],
      "source": [
        "y_pred = model.predict([18])\n",
        "y_pred"
      ]
    },
    {
      "cell_type": "code",
      "execution_count": 14,
      "metadata": {
        "id": "SLU9x65QtEgy",
        "outputId": "90b9c7d9-fb0a-43f7-af6a-97789a7f9ec4",
        "colab": {
          "base_uri": "https://localhost:8080/"
        }
      },
      "outputs": [
        {
          "output_type": "execute_result",
          "data": {
            "text/plain": [
              "array([[15.378925]], dtype=float32)"
            ]
          },
          "metadata": {},
          "execution_count": 14
        }
      ],
      "source": [
        "# Since the mae is ~11 on average, let's add 11 to the predicted value\n",
        "y_pred + 11"
      ]
    },
    {
      "cell_type": "code",
      "execution_count": 5,
      "metadata": {
        "id": "DuPU_6-5tEgy"
      },
      "outputs": [],
      "source": []
    },
    {
      "cell_type": "code",
      "execution_count": 5,
      "metadata": {
        "id": "EllZHBuDtEgy"
      },
      "outputs": [],
      "source": []
    },
    {
      "cell_type": "code",
      "execution_count": 5,
      "metadata": {
        "id": "ZdwM1LE0tEgy"
      },
      "outputs": [],
      "source": []
    },
    {
      "cell_type": "code",
      "execution_count": 5,
      "metadata": {
        "id": "j0odgU52tEgy"
      },
      "outputs": [],
      "source": []
    },
    {
      "cell_type": "code",
      "execution_count": 5,
      "metadata": {
        "id": "tQM1AE9StEgy"
      },
      "outputs": [],
      "source": []
    },
    {
      "cell_type": "code",
      "execution_count": 5,
      "metadata": {
        "id": "RXv-dT5wtEgy"
      },
      "outputs": [],
      "source": []
    },
    {
      "cell_type": "code",
      "execution_count": 5,
      "metadata": {
        "id": "cezRNMlytEgy"
      },
      "outputs": [],
      "source": []
    },
    {
      "cell_type": "code",
      "execution_count": 5,
      "metadata": {
        "id": "kHoZNAJVtEgy"
      },
      "outputs": [],
      "source": []
    },
    {
      "cell_type": "code",
      "execution_count": 5,
      "metadata": {
        "id": "IvYv_XshtEgy"
      },
      "outputs": [],
      "source": []
    },
    {
      "cell_type": "code",
      "execution_count": 5,
      "metadata": {
        "id": "uyx5ZRWxtEgy"
      },
      "outputs": [],
      "source": []
    },
    {
      "cell_type": "code",
      "execution_count": 5,
      "metadata": {
        "id": "kg8aU3AXtEgy"
      },
      "outputs": [],
      "source": []
    },
    {
      "cell_type": "code",
      "execution_count": 5,
      "metadata": {
        "id": "avzev_qatEgz"
      },
      "outputs": [],
      "source": []
    },
    {
      "cell_type": "code",
      "execution_count": 5,
      "metadata": {
        "id": "a20akyw8tEgz"
      },
      "outputs": [],
      "source": []
    },
    {
      "cell_type": "code",
      "execution_count": 5,
      "metadata": {
        "id": "dXtxCCGttEgz"
      },
      "outputs": [],
      "source": []
    },
    {
      "cell_type": "code",
      "execution_count": 5,
      "metadata": {
        "id": "mATrnM8dtEgz"
      },
      "outputs": [],
      "source": []
    },
    {
      "cell_type": "code",
      "execution_count": 5,
      "metadata": {
        "id": "ycGR7g9WtEgz"
      },
      "outputs": [],
      "source": []
    },
    {
      "cell_type": "code",
      "execution_count": 5,
      "metadata": {
        "id": "tXguO8jGtEgz"
      },
      "outputs": [],
      "source": []
    },
    {
      "cell_type": "code",
      "execution_count": 5,
      "metadata": {
        "id": "4PDwJKuktEgz"
      },
      "outputs": [],
      "source": []
    },
    {
      "cell_type": "code",
      "execution_count": 5,
      "metadata": {
        "id": "hgzKYEIRtEgz"
      },
      "outputs": [],
      "source": []
    },
    {
      "cell_type": "code",
      "execution_count": 5,
      "metadata": {
        "id": "6pjwEWDPtEgz"
      },
      "outputs": [],
      "source": []
    }
  ],
  "metadata": {
    "language_info": {
      "name": "python"
    },
    "orig_nbformat": 4,
    "colab": {
      "provenance": [],
      "include_colab_link": true
    },
    "kernelspec": {
      "name": "python3",
      "display_name": "Python 3"
    },
    "gpuClass": "standard"
  },
  "nbformat": 4,
  "nbformat_minor": 0
}