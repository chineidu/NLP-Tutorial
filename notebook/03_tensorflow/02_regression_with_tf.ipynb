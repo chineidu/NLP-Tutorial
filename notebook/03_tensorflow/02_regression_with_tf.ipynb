{
  "cells": [
    {
      "cell_type": "markdown",
      "metadata": {
        "id": "view-in-github",
        "colab_type": "text"
      },
      "source": [
        "<a href=\"https://colab.research.google.com/github/chineidu/NLP-Tutorial/blob/main/notebook/03_tensorflow/02_regression_with_tf.ipynb\" target=\"_parent\"><img src=\"https://colab.research.google.com/assets/colab-badge.svg\" alt=\"Open In Colab\"/></a>"
      ]
    },
    {
      "cell_type": "markdown",
      "metadata": {
        "id": "YBL3ZU9ptEgt"
      },
      "source": [
        "# Regression With TensorFlow"
      ]
    },
    {
      "cell_type": "code",
      "execution_count": 1,
      "metadata": {
        "id": "L8l2Qmy4tEgv"
      },
      "outputs": [],
      "source": [
        "# Standard imports\n",
        "import numpy as np\n",
        "import pandas as pd\n",
        "import matplotlib.pyplot as plt\n",
        "import seaborn as sns\n",
        "\n",
        "import tensorflow as tf\n"
      ]
    },
    {
      "cell_type": "markdown",
      "source": [
        "### Create Data\n",
        "\n",
        "* This data will be used to train the neural network"
      ],
      "metadata": {
        "id": "8IcL3zlbtEgw"
      }
    },
    {
      "cell_type": "code",
      "execution_count": 2,
      "metadata": {
        "colab": {
          "base_uri": "https://localhost:8080/",
          "height": 409
        },
        "id": "oIO693j_tEgx",
        "outputId": "2eab0544-abcb-431f-a226-65fad5bdd189"
      },
      "outputs": [
        {
          "output_type": "display_data",
          "data": {
            "text/plain": [
              "<Figure size 576x432 with 1 Axes>"
            ],
            "image/png": "[encoded data removed]"
          },
          "metadata": {
            "needs_background": "light"
          }
        }
      ],
      "source": [
        "X = np.array([[-12, -9, -6, -3, 0, 3, 6, 9, 12, 15]]) # Row Matrix\n",
        "y = np.array([-2, 1, 4, 7, 10, 13, 16, 19, 22, 25])\n",
        "\n",
        "\n",
        "# Visualize the data\n",
        "plt.figure(figsize=(8, 6))\n",
        "plt.scatter(X, y)\n",
        "plt.xlabel(\"X\", size=13)\n",
        "plt.ylabel(\"y\", size=13)\n",
        "plt.title(\"Scatter plot of X and y\", size=15)\n",
        "plt.show()"
      ]
    },
    {
      "cell_type": "code",
      "execution_count": 3,
      "metadata": {
        "colab": {
          "base_uri": "https://localhost:8080/"
        },
        "id": "QvqsN2k7tEgx",
        "outputId": "dbb4bd32-efc6-45dc-8c7d-9337dc4942d6"
      },
      "outputs": [
        {
          "output_type": "execute_result",
          "data": {
            "text/plain": [
              "array([[ True,  True,  True,  True,  True,  True,  True,  True,  True,\n",
              "         True]])"
            ]
          },
          "metadata": {},
          "execution_count": 3
        }
      ],
      "source": [
        "y == X + 10"
      ]
    },
    {
      "cell_type": "code",
      "execution_count": 4,
      "metadata": {
        "colab": {
          "base_uri": "https://localhost:8080/"
        },
        "id": "k6yJtWMNtEgx",
        "outputId": "0c628055-746a-4f42-a555-f6136b96512a"
      },
      "outputs": [
        {
          "output_type": "execute_result",
          "data": {
            "text/plain": [
              "(TensorShape([10, 1]), TensorShape([10]))"
            ]
          },
          "metadata": {},
          "execution_count": 4
        }
      ],
      "source": [
        "# Convert the NumPy arrays to Tensors\n",
        "# Cast and reshape X\n",
        "X = tf.cast(tf.constant(X), dtype=tf.float16)\n",
        "X = tf.reshape(X, shape=(-1, 1))\n",
        "y = tf.cast(tf.constant(y), dtype=tf.float16)\n",
        "\n",
        "X.shape, y.shape"
      ]
    },
    {
      "cell_type": "markdown",
      "source": [
        "### Steps In Modelling With TensorFlow\n",
        "\n",
        "1. **Create a model**: define the `input`, `hidden` and `output` layers of the deep learning model.\n",
        "2. **Compile the model**: define the `loss function` (i.e the function that tells our model how wrong it is), the `optimizer` (it tells our model how to improve the patterns its learning) and the `evaluation metrics` (what we can use to interpret the performance of our model).\n",
        "3. **Fit the model**: the model `learns` the `patterns` between the input and the output"
      ],
      "metadata": {
        "id": "ot-0cVu_tEgx"
      }
    },
    {
      "cell_type": "markdown",
      "source": [
        "#### Create a baseline model\n",
        "\n",
        "\n",
        "### Some Key Terms\n",
        "\n",
        "* **Loss**: How wrong the model predictions are (you want to minimize this)\n",
        "* **Optimizer**: It tells the model how it should update it's parameters to imporeve its predictions.\n",
        "* **Metrics**: Human interpretable values for how well the model is performing.\n",
        "* **Epocs**: This represents the number of times the model will go thru all the training examples.\n",
        "* **Evaluation** (on unseen data): This tells us how reliable the our model predictions are on unseen data."
      ],
      "metadata": {
        "id": "X7ViYJ23tEgx"
      }
    },
    {
      "cell_type": "code",
      "execution_count": 5,
      "metadata": {
        "colab": {
          "base_uri": "https://localhost:8080/"
        },
        "id": "ZoF3b9VOtEgx",
        "outputId": "c068a3b1-4385-47ac-ee17-179c358104af"
      },
      "outputs": [
        {
          "output_type": "stream",
          "name": "stdout",
          "text": [
            "Epoch 1/5\n",
            "1/1 [==============================] - 1s 1s/step - loss: 12.2893 - mae: 12.2893\n",
            "Epoch 2/5\n",
            "1/1 [==============================] - 0s 21ms/step - loss: 12.1308 - mae: 12.1308\n",
            "Epoch 3/5\n",
            "1/1 [==============================] - 0s 26ms/step - loss: 11.9723 - mae: 11.9723\n",
            "Epoch 4/5\n",
            "1/1 [==============================] - 0s 40ms/step - loss: 11.8138 - mae: 11.8138\n",
            "Epoch 5/5\n",
            "1/1 [==============================] - 0s 31ms/step - loss: 11.6553 - mae: 11.6553\n"
          ]
        },
        {
          "output_type": "execute_result",
          "data": {
            "text/plain": [
              "<keras.callbacks.History at 0x7fafdebf4370>"
            ]
          },
          "metadata": {},
          "execution_count": 5
        }
      ],
      "source": [
        "# Set seed for reproducibility\n",
        "SEED = 123\n",
        "tf.random.set_seed(SEED)\n",
        "\n",
        "# 1. Create a model using the Sequential API\n",
        "model = tf.keras.Sequential([\n",
        "    tf.keras.layers.Dense(1, activation=None) # The model has a single neuron\n",
        "\n",
        "])\n",
        "\n",
        "# 2. Compile the model\n",
        "model.compile(loss=tf.keras.losses.mae,  # MAE: Mean Absolute Error\n",
        "              optimizer=tf.keras.optimizers.SGD(), # OR 'sgd'\n",
        "              metrics = [\"mae\"] # OR tf.keras.losses.mae\n",
        "              )\n",
        "\n",
        "# 3. Fit the model\n",
        "model.fit(X, y, epochs=5)"
      ]
    },
    {
      "cell_type": "code",
      "source": [
        "X, y"
      ],
      "metadata": {
        "colab": {
          "base_uri": "https://localhost:8080/"
        },
        "id": "RkoBt_J4fbgl",
        "outputId": "76c20dad-873a-4eb5-e73e-f8e3e7526bf4"
      },
      "execution_count": 6,
      "outputs": [
        {
          "output_type": "execute_result",
          "data": {
            "text/plain": [
              "(<tf.Tensor: shape=(10, 1), dtype=float16, numpy=\n",
              " array([[-12.],\n",
              "        [ -9.],\n",
              "        [ -6.],\n",
              "        [ -3.],\n",
              "        [  0.],\n",
              "        [  3.],\n",
              "        [  6.],\n",
              "        [  9.],\n",
              "        [ 12.],\n",
              "        [ 15.]], dtype=float16)>,\n",
              " <tf.Tensor: shape=(10,), dtype=float16, numpy=array([-2.,  1.,  4.,  7., 10., 13., 16., 19., 22., 25.], dtype=float16)>)"
            ]
          },
          "metadata": {},
          "execution_count": 6
        }
      ]
    },
    {
      "cell_type": "code",
      "execution_count": 7,
      "metadata": {
        "colab": {
          "base_uri": "https://localhost:8080/"
        },
        "id": "8iReHHMOtEgx",
        "outputId": "0f11d0dd-8a10-4d90-a9e0-c76a6a35509d"
      },
      "outputs": [
        {
          "output_type": "stream",
          "name": "stdout",
          "text": [
            "1/1 [==============================] - 0s 222ms/step\n"
          ]
        },
        {
          "output_type": "execute_result",
          "data": {
            "text/plain": [
              "array([[1.7534369]], dtype=float32)"
            ]
          },
          "metadata": {},
          "execution_count": 7
        }
      ],
      "source": [
        "y_pred = model.predict([18])\n",
        "y_pred"
      ]
    },
    {
      "cell_type": "code",
      "execution_count": 8,
      "metadata": {
        "colab": {
          "base_uri": "https://localhost:8080/"
        },
        "id": "SLU9x65QtEgy",
        "outputId": "a3b75720-0636-4122-b164-c6e23f352668"
      },
      "outputs": [
        {
          "output_type": "execute_result",
          "data": {
            "text/plain": [
              "array([[12.753437]], dtype=float32)"
            ]
          },
          "metadata": {},
          "execution_count": 8
        }
      ],
      "source": [
        "# Since the mae is ~11 on average, let's add 11 to the predicted value\n",
        "y_pred + 11"
      ]
    },
    {
      "cell_type": "markdown",
      "source": [
        "### Improve The Model\n",
        "\n",
        "> We can improve the model by altering the steps taken to create the model.\n",
        "\n",
        "1. **Create model**: We might:\n",
        "  * Add more layers\n",
        "  * increase the number of hidden units(neurons)\n",
        "  * change the activation function\n",
        "\n",
        "2. **Compile model**: We might:\n",
        "  * change the optimization function\n",
        "  * change the learning rate\n",
        "\n",
        "3. **Fit the model**: We might:\n",
        "  * increase the number of epochs\n",
        "  * increase the training data"
      ],
      "metadata": {
        "id": "DuPU_6-5tEgy"
      }
    },
    {
      "cell_type": "code",
      "execution_count": 9,
      "metadata": {
        "colab": {
          "base_uri": "https://localhost:8080/"
        },
        "id": "EllZHBuDtEgy",
        "outputId": "4a974ba6-67c2-433e-991f-1e1250f96af5"
      },
      "outputs": [
        {
          "output_type": "stream",
          "name": "stdout",
          "text": [
            "Epoch 1/100\n",
            "1/1 [==============================] - 1s 1s/step - loss: 9.2221 - mae: 9.2221\n",
            "Epoch 2/100\n",
            "1/1 [==============================] - 0s 36ms/step - loss: 9.1896 - mae: 9.1896\n",
            "Epoch 3/100\n",
            "1/1 [==============================] - 0s 17ms/step - loss: 9.1571 - mae: 9.1571\n",
            "Epoch 4/100\n",
            "1/1 [==============================] - 0s 12ms/step - loss: 9.1246 - mae: 9.1246\n",
            "Epoch 5/100\n",
            "1/1 [==============================] - 0s 11ms/step - loss: 9.0921 - mae: 9.0921\n",
            "Epoch 6/100\n",
            "1/1 [==============================] - 0s 11ms/step - loss: 9.0596 - mae: 9.0596\n",
            "Epoch 7/100\n",
            "1/1 [==============================] - 0s 14ms/step - loss: 9.0271 - mae: 9.0271\n",
            "Epoch 8/100\n",
            "1/1 [==============================] - 0s 14ms/step - loss: 8.9946 - mae: 8.9946\n",
            "Epoch 9/100\n",
            "1/1 [==============================] - 0s 17ms/step - loss: 8.9621 - mae: 8.9621\n",
            "Epoch 10/100\n",
            "1/1 [==============================] - 0s 24ms/step - loss: 8.9296 - mae: 8.9296\n",
            "Epoch 11/100\n",
            "1/1 [==============================] - 0s 21ms/step - loss: 8.9229 - mae: 8.9229\n",
            "Epoch 12/100\n",
            "1/1 [==============================] - 0s 17ms/step - loss: 8.9116 - mae: 8.9116\n",
            "Epoch 13/100\n",
            "1/1 [==============================] - 0s 21ms/step - loss: 8.9085 - mae: 8.9085\n",
            "Epoch 14/100\n",
            "1/1 [==============================] - 0s 21ms/step - loss: 8.8936 - mae: 8.8936\n",
            "Epoch 15/100\n",
            "1/1 [==============================] - 0s 16ms/step - loss: 8.8941 - mae: 8.8941\n",
            "Epoch 16/100\n",
            "1/1 [==============================] - 0s 20ms/step - loss: 8.8756 - mae: 8.8756\n",
            "Epoch 17/100\n",
            "1/1 [==============================] - 0s 27ms/step - loss: 8.8797 - mae: 8.8797\n",
            "Epoch 18/100\n",
            "1/1 [==============================] - 0s 19ms/step - loss: 8.8576 - mae: 8.8576\n",
            "Epoch 19/100\n",
            "1/1 [==============================] - 0s 11ms/step - loss: 8.8653 - mae: 8.8653\n",
            "Epoch 20/100\n",
            "1/1 [==============================] - 0s 21ms/step - loss: 8.8396 - mae: 8.8396\n",
            "Epoch 21/100\n",
            "1/1 [==============================] - 0s 26ms/step - loss: 8.8509 - mae: 8.8509\n",
            "Epoch 22/100\n",
            "1/1 [==============================] - 0s 32ms/step - loss: 8.8220 - mae: 8.8220\n",
            "Epoch 23/100\n",
            "1/1 [==============================] - 0s 15ms/step - loss: 8.8361 - mae: 8.8361\n",
            "Epoch 24/100\n",
            "1/1 [==============================] - 0s 17ms/step - loss: 8.8076 - mae: 8.8076\n",
            "Epoch 25/100\n",
            "1/1 [==============================] - 0s 11ms/step - loss: 8.8181 - mae: 8.8181\n",
            "Epoch 26/100\n",
            "1/1 [==============================] - 0s 22ms/step - loss: 8.7932 - mae: 8.7932\n",
            "Epoch 27/100\n",
            "1/1 [==============================] - 0s 20ms/step - loss: 8.8001 - mae: 8.8001\n",
            "Epoch 28/100\n",
            "1/1 [==============================] - 0s 19ms/step - loss: 8.7788 - mae: 8.7788\n",
            "Epoch 29/100\n",
            "1/1 [==============================] - 0s 18ms/step - loss: 8.7821 - mae: 8.7821\n",
            "Epoch 30/100\n",
            "1/1 [==============================] - 0s 17ms/step - loss: 8.7644 - mae: 8.7644\n",
            "Epoch 31/100\n",
            "1/1 [==============================] - 0s 22ms/step - loss: 8.7641 - mae: 8.7641\n",
            "Epoch 32/100\n",
            "1/1 [==============================] - 0s 19ms/step - loss: 8.7500 - mae: 8.7500\n",
            "Epoch 33/100\n",
            "1/1 [==============================] - 0s 27ms/step - loss: 8.7461 - mae: 8.7461\n",
            "Epoch 34/100\n",
            "1/1 [==============================] - 0s 19ms/step - loss: 8.7356 - mae: 8.7356\n",
            "Epoch 35/100\n",
            "1/1 [==============================] - 0s 21ms/step - loss: 8.7281 - mae: 8.7281\n",
            "Epoch 36/100\n",
            "1/1 [==============================] - 0s 19ms/step - loss: 8.7212 - mae: 8.7212\n",
            "Epoch 37/100\n",
            "1/1 [==============================] - 0s 18ms/step - loss: 8.7101 - mae: 8.7101\n",
            "Epoch 38/100\n",
            "1/1 [==============================] - 0s 23ms/step - loss: 8.7068 - mae: 8.7068\n",
            "Epoch 39/100\n",
            "1/1 [==============================] - 0s 22ms/step - loss: 8.6921 - mae: 8.6921\n",
            "Epoch 40/100\n",
            "1/1 [==============================] - 0s 33ms/step - loss: 8.6924 - mae: 8.6924\n",
            "Epoch 41/100\n",
            "1/1 [==============================] - 0s 27ms/step - loss: 8.6741 - mae: 8.6741\n",
            "Epoch 42/100\n",
            "1/1 [==============================] - 0s 34ms/step - loss: 8.6780 - mae: 8.6780\n",
            "Epoch 43/100\n",
            "1/1 [==============================] - 0s 27ms/step - loss: 8.6561 - mae: 8.6561\n",
            "Epoch 44/100\n",
            "1/1 [==============================] - 0s 28ms/step - loss: 8.6636 - mae: 8.6636\n",
            "Epoch 45/100\n",
            "1/1 [==============================] - 0s 23ms/step - loss: 8.6381 - mae: 8.6381\n",
            "Epoch 46/100\n",
            "1/1 [==============================] - 0s 28ms/step - loss: 8.6492 - mae: 8.6492\n",
            "Epoch 47/100\n",
            "1/1 [==============================] - 0s 21ms/step - loss: 8.6203 - mae: 8.6203\n",
            "Epoch 48/100\n",
            "1/1 [==============================] - 0s 21ms/step - loss: 8.6346 - mae: 8.6346\n",
            "Epoch 49/100\n",
            "1/1 [==============================] - 0s 19ms/step - loss: 8.6059 - mae: 8.6059\n",
            "Epoch 50/100\n",
            "1/1 [==============================] - 0s 30ms/step - loss: 8.6166 - mae: 8.6166\n",
            "Epoch 51/100\n",
            "1/1 [==============================] - 0s 43ms/step - loss: 8.5915 - mae: 8.5915\n",
            "Epoch 52/100\n",
            "1/1 [==============================] - 0s 38ms/step - loss: 8.5986 - mae: 8.5986\n",
            "Epoch 53/100\n",
            "1/1 [==============================] - 0s 25ms/step - loss: 8.5771 - mae: 8.5771\n",
            "Epoch 54/100\n",
            "1/1 [==============================] - 0s 39ms/step - loss: 8.5806 - mae: 8.5806\n",
            "Epoch 55/100\n",
            "1/1 [==============================] - 0s 24ms/step - loss: 8.5627 - mae: 8.5627\n",
            "Epoch 56/100\n",
            "1/1 [==============================] - 0s 21ms/step - loss: 8.5626 - mae: 8.5626\n",
            "Epoch 57/100\n",
            "1/1 [==============================] - 0s 33ms/step - loss: 8.5483 - mae: 8.5483\n",
            "Epoch 58/100\n",
            "1/1 [==============================] - 0s 23ms/step - loss: 8.5446 - mae: 8.5446\n",
            "Epoch 59/100\n",
            "1/1 [==============================] - 0s 33ms/step - loss: 8.5339 - mae: 8.5339\n",
            "Epoch 60/100\n",
            "1/1 [==============================] - 0s 23ms/step - loss: 8.5266 - mae: 8.5266\n",
            "Epoch 61/100\n",
            "1/1 [==============================] - 0s 27ms/step - loss: 8.5195 - mae: 8.5195\n",
            "Epoch 62/100\n",
            "1/1 [==============================] - 0s 32ms/step - loss: 8.5086 - mae: 8.5086\n",
            "Epoch 63/100\n",
            "1/1 [==============================] - 0s 27ms/step - loss: 8.5051 - mae: 8.5051\n",
            "Epoch 64/100\n",
            "1/1 [==============================] - 0s 34ms/step - loss: 8.4906 - mae: 8.4906\n",
            "Epoch 65/100\n",
            "1/1 [==============================] - 0s 26ms/step - loss: 8.4907 - mae: 8.4907\n",
            "Epoch 66/100\n",
            "1/1 [==============================] - 0s 19ms/step - loss: 8.4726 - mae: 8.4726\n",
            "Epoch 67/100\n",
            "1/1 [==============================] - 0s 23ms/step - loss: 8.4763 - mae: 8.4763\n",
            "Epoch 68/100\n",
            "1/1 [==============================] - 0s 37ms/step - loss: 8.4546 - mae: 8.4546\n",
            "Epoch 69/100\n",
            "1/1 [==============================] - 0s 23ms/step - loss: 8.4619 - mae: 8.4619\n",
            "Epoch 70/100\n",
            "1/1 [==============================] - 0s 26ms/step - loss: 8.4366 - mae: 8.4366\n",
            "Epoch 71/100\n",
            "1/1 [==============================] - 0s 32ms/step - loss: 8.4475 - mae: 8.4475\n",
            "Epoch 72/100\n",
            "1/1 [==============================] - 0s 22ms/step - loss: 8.4186 - mae: 8.4186\n",
            "Epoch 73/100\n",
            "1/1 [==============================] - 0s 23ms/step - loss: 8.4331 - mae: 8.4331\n",
            "Epoch 74/100\n",
            "1/1 [==============================] - 0s 19ms/step - loss: 8.4042 - mae: 8.4042\n",
            "Epoch 75/100\n",
            "1/1 [==============================] - 0s 37ms/step - loss: 8.4151 - mae: 8.4151\n",
            "Epoch 76/100\n",
            "1/1 [==============================] - 0s 24ms/step - loss: 8.3898 - mae: 8.3898\n",
            "Epoch 77/100\n",
            "1/1 [==============================] - 0s 25ms/step - loss: 8.3971 - mae: 8.3971\n",
            "Epoch 78/100\n",
            "1/1 [==============================] - 0s 21ms/step - loss: 8.3754 - mae: 8.3754\n",
            "Epoch 79/100\n",
            "1/1 [==============================] - 0s 31ms/step - loss: 8.3791 - mae: 8.3791\n",
            "Epoch 80/100\n",
            "1/1 [==============================] - 0s 25ms/step - loss: 8.3610 - mae: 8.3610\n",
            "Epoch 81/100\n",
            "1/1 [==============================] - 0s 16ms/step - loss: 8.3611 - mae: 8.3611\n",
            "Epoch 82/100\n",
            "1/1 [==============================] - 0s 24ms/step - loss: 8.3466 - mae: 8.3466\n",
            "Epoch 83/100\n",
            "1/1 [==============================] - 0s 18ms/step - loss: 8.3431 - mae: 8.3431\n",
            "Epoch 84/100\n",
            "1/1 [==============================] - 0s 21ms/step - loss: 8.3322 - mae: 8.3322\n",
            "Epoch 85/100\n",
            "1/1 [==============================] - 0s 41ms/step - loss: 8.3251 - mae: 8.3251\n",
            "Epoch 86/100\n",
            "1/1 [==============================] - 0s 32ms/step - loss: 8.3178 - mae: 8.3178\n",
            "Epoch 87/100\n",
            "1/1 [==============================] - 0s 40ms/step - loss: 8.3071 - mae: 8.3071\n",
            "Epoch 88/100\n",
            "1/1 [==============================] - 0s 19ms/step - loss: 8.3034 - mae: 8.3034\n",
            "Epoch 89/100\n",
            "1/1 [==============================] - 0s 21ms/step - loss: 8.2891 - mae: 8.2891\n",
            "Epoch 90/100\n",
            "1/1 [==============================] - 0s 27ms/step - loss: 8.2890 - mae: 8.2890\n",
            "Epoch 91/100\n",
            "1/1 [==============================] - 0s 19ms/step - loss: 8.2711 - mae: 8.2711\n",
            "Epoch 92/100\n",
            "1/1 [==============================] - 0s 37ms/step - loss: 8.2746 - mae: 8.2746\n",
            "Epoch 93/100\n",
            "1/1 [==============================] - 0s 16ms/step - loss: 8.2531 - mae: 8.2531\n",
            "Epoch 94/100\n",
            "1/1 [==============================] - 0s 16ms/step - loss: 8.2602 - mae: 8.2602\n",
            "Epoch 95/100\n",
            "1/1 [==============================] - 0s 21ms/step - loss: 8.2351 - mae: 8.2351\n",
            "Epoch 96/100\n",
            "1/1 [==============================] - 0s 24ms/step - loss: 8.2458 - mae: 8.2458\n",
            "Epoch 97/100\n",
            "1/1 [==============================] - 0s 19ms/step - loss: 8.2171 - mae: 8.2171\n",
            "Epoch 98/100\n",
            "1/1 [==============================] - 0s 24ms/step - loss: 8.2314 - mae: 8.2314\n",
            "Epoch 99/100\n",
            "1/1 [==============================] - 0s 22ms/step - loss: 8.2025 - mae: 8.2025\n",
            "Epoch 100/100\n",
            "1/1 [==============================] - 0s 16ms/step - loss: 8.2136 - mae: 8.2136\n"
          ]
        },
        {
          "output_type": "execute_result",
          "data": {
            "text/plain": [
              "<keras.callbacks.History at 0x7fafde3b2550>"
            ]
          },
          "metadata": {},
          "execution_count": 9
        }
      ],
      "source": [
        "# Rebuild the model by increasing the number of epochs\n",
        "tf.random.set_seed(SEED)\n",
        "\n",
        "# Create the model\n",
        "model = tf.keras.Sequential([\n",
        "    tf.keras.layers.Dense(1, activation=None)\n",
        "])\n",
        "\n",
        "# Compile the model\n",
        "model.compile(loss=tf.keras.losses.mae,\n",
        "              optimizer=tf.keras.optimizers.SGD(),\n",
        "              metrics=[\"mae\"])\n",
        "\n",
        "# Fit the model (increase the epochs)\n",
        "model.fit(X, y, epochs=100)"
      ]
    },
    {
      "cell_type": "code",
      "execution_count": 10,
      "metadata": {
        "colab": {
          "base_uri": "https://localhost:8080/"
        },
        "id": "ZdwM1LE0tEgy",
        "outputId": "5f25a202-784c-45e3-e762-134c93f6525b"
      },
      "outputs": [
        {
          "output_type": "stream",
          "name": "stdout",
          "text": [
            "1/1 [==============================] - 0s 241ms/step\n"
          ]
        },
        {
          "output_type": "execute_result",
          "data": {
            "text/plain": [
              "array([[29.860645]], dtype=float32)"
            ]
          },
          "metadata": {},
          "execution_count": 10
        }
      ],
      "source": [
        "# Make predictions\n",
        "y_pred = model.predict([18])\n",
        "y_pred"
      ]
    },
    {
      "cell_type": "markdown",
      "source": [
        "#### Tweak The Model\n",
        "\n",
        "* Experiment by changing the `hyperparameters`.\n",
        "* Add a new layer."
      ],
      "metadata": {
        "id": "j0odgU52tEgy"
      }
    },
    {
      "cell_type": "code",
      "execution_count": 11,
      "metadata": {
        "colab": {
          "base_uri": "https://localhost:8080/"
        },
        "id": "tQM1AE9StEgy",
        "outputId": "f7d4105c-d14a-4086-cfef-22e1be64d7aa"
      },
      "outputs": [
        {
          "output_type": "stream",
          "name": "stderr",
          "text": [
            "WARNING:absl:`lr` is deprecated, please use `learning_rate` instead, or use the legacy optimizer, e.g.,tf.keras.optimizers.legacy.SGD.\n"
          ]
        },
        {
          "output_type": "stream",
          "name": "stdout",
          "text": [
            "Epoch 1/100\n",
            "1/1 [==============================] - 2s 2s/step - loss: 10.9238 - mae: 10.9238\n",
            "Epoch 2/100\n",
            "1/1 [==============================] - 0s 23ms/step - loss: 10.3945 - mae: 10.3945\n",
            "Epoch 3/100\n",
            "1/1 [==============================] - 0s 31ms/step - loss: 9.8394 - mae: 9.8394\n",
            "Epoch 4/100\n",
            "1/1 [==============================] - 0s 28ms/step - loss: 9.2725 - mae: 9.2725\n",
            "Epoch 5/100\n",
            "1/1 [==============================] - 0s 33ms/step - loss: 8.7630 - mae: 8.7630\n",
            "Epoch 6/100\n",
            "1/1 [==============================] - 0s 29ms/step - loss: 8.3173 - mae: 8.3173\n",
            "Epoch 7/100\n",
            "1/1 [==============================] - 0s 27ms/step - loss: 7.8436 - mae: 7.8436\n",
            "Epoch 8/100\n",
            "1/1 [==============================] - 0s 22ms/step - loss: 7.3385 - mae: 7.3385\n",
            "Epoch 9/100\n",
            "1/1 [==============================] - 0s 31ms/step - loss: 6.8038 - mae: 6.8038\n",
            "Epoch 10/100\n",
            "1/1 [==============================] - 0s 32ms/step - loss: 6.2436 - mae: 6.2436\n",
            "Epoch 11/100\n",
            "1/1 [==============================] - 0s 30ms/step - loss: 5.6395 - mae: 5.6395\n",
            "Epoch 12/100\n",
            "1/1 [==============================] - 0s 29ms/step - loss: 4.9909 - mae: 4.9909\n",
            "Epoch 13/100\n",
            "1/1 [==============================] - 0s 29ms/step - loss: 4.3241 - mae: 4.3241\n",
            "Epoch 14/100\n",
            "1/1 [==============================] - 0s 27ms/step - loss: 4.2288 - mae: 4.2288\n",
            "Epoch 15/100\n",
            "1/1 [==============================] - 0s 50ms/step - loss: 4.1309 - mae: 4.1309\n",
            "Epoch 16/100\n",
            "1/1 [==============================] - 0s 34ms/step - loss: 4.0772 - mae: 4.0772\n",
            "Epoch 17/100\n",
            "1/1 [==============================] - 0s 36ms/step - loss: 4.0717 - mae: 4.0717\n",
            "Epoch 18/100\n",
            "1/1 [==============================] - 0s 29ms/step - loss: 4.0778 - mae: 4.0778\n",
            "Epoch 19/100\n",
            "1/1 [==============================] - 0s 29ms/step - loss: 4.0372 - mae: 4.0372\n",
            "Epoch 20/100\n",
            "1/1 [==============================] - 0s 24ms/step - loss: 4.0529 - mae: 4.0529\n",
            "Epoch 21/100\n",
            "1/1 [==============================] - 0s 29ms/step - loss: 4.0378 - mae: 4.0378\n",
            "Epoch 22/100\n",
            "1/1 [==============================] - 0s 25ms/step - loss: 3.9975 - mae: 3.9975\n",
            "Epoch 23/100\n",
            "1/1 [==============================] - 0s 36ms/step - loss: 4.0337 - mae: 4.0337\n",
            "Epoch 24/100\n",
            "1/1 [==============================] - 0s 37ms/step - loss: 3.9979 - mae: 3.9979\n",
            "Epoch 25/100\n",
            "1/1 [==============================] - 0s 37ms/step - loss: 3.9739 - mae: 3.9739\n",
            "Epoch 26/100\n",
            "1/1 [==============================] - 0s 48ms/step - loss: 4.0031 - mae: 4.0031\n",
            "Epoch 27/100\n",
            "1/1 [==============================] - 0s 44ms/step - loss: 3.9801 - mae: 3.9801\n",
            "Epoch 28/100\n",
            "1/1 [==============================] - 0s 37ms/step - loss: 3.9764 - mae: 3.9764\n",
            "Epoch 29/100\n",
            "1/1 [==============================] - 0s 42ms/step - loss: 3.9857 - mae: 3.9857\n",
            "Epoch 30/100\n",
            "1/1 [==============================] - 0s 32ms/step - loss: 3.9614 - mae: 3.9614\n",
            "Epoch 31/100\n",
            "1/1 [==============================] - 0s 35ms/step - loss: 3.9781 - mae: 3.9781\n",
            "Epoch 32/100\n",
            "1/1 [==============================] - 0s 40ms/step - loss: 3.9698 - mae: 3.9698\n",
            "Epoch 33/100\n",
            "1/1 [==============================] - 0s 42ms/step - loss: 3.9429 - mae: 3.9429\n",
            "Epoch 34/100\n",
            "1/1 [==============================] - 0s 39ms/step - loss: 3.9795 - mae: 3.9795\n",
            "Epoch 35/100\n",
            "1/1 [==============================] - 0s 32ms/step - loss: 3.9541 - mae: 3.9541\n",
            "Epoch 36/100\n",
            "1/1 [==============================] - 0s 34ms/step - loss: 3.9411 - mae: 3.9411\n",
            "Epoch 37/100\n",
            "1/1 [==============================] - 0s 49ms/step - loss: 3.9643 - mae: 3.9643\n",
            "Epoch 38/100\n",
            "1/1 [==============================] - 0s 56ms/step - loss: 3.9389 - mae: 3.9389\n",
            "Epoch 39/100\n",
            "1/1 [==============================] - 0s 50ms/step - loss: 3.9422 - mae: 3.9422\n",
            "Epoch 40/100\n",
            "1/1 [==============================] - 0s 45ms/step - loss: 3.9457 - mae: 3.9457\n",
            "Epoch 41/100\n",
            "1/1 [==============================] - 0s 43ms/step - loss: 3.9236 - mae: 3.9236\n",
            "Epoch 42/100\n",
            "1/1 [==============================] - 0s 25ms/step - loss: 3.9429 - mae: 3.9429\n",
            "Epoch 43/100\n",
            "1/1 [==============================] - 0s 21ms/step - loss: 3.9271 - mae: 3.9271\n",
            "Epoch 44/100\n",
            "1/1 [==============================] - 0s 23ms/step - loss: 3.9089 - mae: 3.9089\n",
            "Epoch 45/100\n",
            "1/1 [==============================] - 0s 22ms/step - loss: 3.9435 - mae: 3.9435\n",
            "Epoch 46/100\n",
            "1/1 [==============================] - 0s 24ms/step - loss: 3.9118 - mae: 3.9118\n",
            "Epoch 47/100\n",
            "1/1 [==============================] - 0s 48ms/step - loss: 3.9044 - mae: 3.9044\n",
            "Epoch 48/100\n",
            "1/1 [==============================] - 0s 26ms/step - loss: 3.9310 - mae: 3.9310\n",
            "Epoch 49/100\n",
            "1/1 [==============================] - 0s 25ms/step - loss: 3.8972 - mae: 3.8972\n",
            "Epoch 50/100\n",
            "1/1 [==============================] - 0s 28ms/step - loss: 3.9046 - mae: 3.9046\n",
            "Epoch 51/100\n",
            "1/1 [==============================] - 0s 34ms/step - loss: 3.9126 - mae: 3.9126\n",
            "Epoch 52/100\n",
            "1/1 [==============================] - 0s 32ms/step - loss: 3.8828 - mae: 3.8828\n",
            "Epoch 53/100\n",
            "1/1 [==============================] - 0s 36ms/step - loss: 3.9046 - mae: 3.9046\n",
            "Epoch 54/100\n",
            "1/1 [==============================] - 0s 33ms/step - loss: 3.8943 - mae: 3.8943\n",
            "Epoch 55/100\n",
            "1/1 [==============================] - 0s 38ms/step - loss: 3.8686 - mae: 3.8686\n",
            "Epoch 56/100\n",
            "1/1 [==============================] - 0s 40ms/step - loss: 3.9043 - mae: 3.9043\n",
            "Epoch 57/100\n",
            "1/1 [==============================] - 0s 35ms/step - loss: 3.8762 - mae: 3.8762\n",
            "Epoch 58/100\n",
            "1/1 [==============================] - 0s 31ms/step - loss: 3.8599 - mae: 3.8599\n",
            "Epoch 59/100\n",
            "1/1 [==============================] - 0s 24ms/step - loss: 3.8987 - mae: 3.8987\n",
            "Epoch 60/100\n",
            "1/1 [==============================] - 0s 31ms/step - loss: 3.8582 - mae: 3.8582\n",
            "Epoch 61/100\n",
            "1/1 [==============================] - 0s 35ms/step - loss: 3.8634 - mae: 3.8634\n",
            "Epoch 62/100\n",
            "1/1 [==============================] - 0s 37ms/step - loss: 3.8808 - mae: 3.8808\n",
            "Epoch 63/100\n",
            "1/1 [==============================] - 0s 31ms/step - loss: 3.8434 - mae: 3.8434\n",
            "Epoch 64/100\n",
            "1/1 [==============================] - 0s 27ms/step - loss: 3.8637 - mae: 3.8637\n",
            "Epoch 65/100\n",
            "1/1 [==============================] - 0s 36ms/step - loss: 3.8629 - mae: 3.8629\n",
            "Epoch 66/100\n",
            "1/1 [==============================] - 0s 29ms/step - loss: 3.8296 - mae: 3.8296\n",
            "Epoch 67/100\n",
            "1/1 [==============================] - 0s 27ms/step - loss: 3.8628 - mae: 3.8628\n",
            "Epoch 68/100\n",
            "1/1 [==============================] - 0s 29ms/step - loss: 3.8452 - mae: 3.8452\n",
            "Epoch 69/100\n",
            "1/1 [==============================] - 0s 44ms/step - loss: 3.8160 - mae: 3.8160\n",
            "Epoch 70/100\n",
            "1/1 [==============================] - 0s 42ms/step - loss: 3.8616 - mae: 3.8616\n",
            "Epoch 71/100\n",
            "1/1 [==============================] - 0s 28ms/step - loss: 3.8276 - mae: 3.8276\n",
            "Epoch 72/100\n",
            "1/1 [==============================] - 0s 24ms/step - loss: 3.8128 - mae: 3.8128\n",
            "Epoch 73/100\n",
            "1/1 [==============================] - 0s 28ms/step - loss: 3.8501 - mae: 3.8501\n",
            "Epoch 74/100\n",
            "1/1 [==============================] - 0s 27ms/step - loss: 3.8100 - mae: 3.8100\n",
            "Epoch 75/100\n",
            "1/1 [==============================] - 0s 31ms/step - loss: 3.8153 - mae: 3.8153\n",
            "Epoch 76/100\n",
            "1/1 [==============================] - 0s 33ms/step - loss: 3.8325 - mae: 3.8325\n",
            "Epoch 77/100\n",
            "1/1 [==============================] - 0s 20ms/step - loss: 3.7926 - mae: 3.7926\n",
            "Epoch 78/100\n",
            "1/1 [==============================] - 0s 21ms/step - loss: 3.8177 - mae: 3.8177\n",
            "Epoch 79/100\n",
            "1/1 [==============================] - 0s 24ms/step - loss: 3.8152 - mae: 3.8152\n",
            "Epoch 80/100\n",
            "1/1 [==============================] - 0s 37ms/step - loss: 3.7791 - mae: 3.7791\n",
            "Epoch 81/100\n",
            "1/1 [==============================] - 0s 21ms/step - loss: 3.8164 - mae: 3.8164\n",
            "Epoch 82/100\n",
            "1/1 [==============================] - 0s 37ms/step - loss: 3.7979 - mae: 3.7979\n",
            "Epoch 83/100\n",
            "1/1 [==============================] - 0s 32ms/step - loss: 3.7660 - mae: 3.7660\n",
            "Epoch 84/100\n",
            "1/1 [==============================] - 0s 22ms/step - loss: 3.8143 - mae: 3.8143\n",
            "Epoch 85/100\n",
            "1/1 [==============================] - 0s 21ms/step - loss: 3.7807 - mae: 3.7807\n",
            "Epoch 86/100\n",
            "1/1 [==============================] - 0s 23ms/step - loss: 3.7618 - mae: 3.7618\n",
            "Epoch 87/100\n",
            "1/1 [==============================] - 0s 26ms/step - loss: 3.8034 - mae: 3.8034\n",
            "Epoch 88/100\n",
            "1/1 [==============================] - 0s 34ms/step - loss: 3.7636 - mae: 3.7636\n",
            "Epoch 89/100\n",
            "1/1 [==============================] - 0s 35ms/step - loss: 3.7636 - mae: 3.7636\n",
            "Epoch 90/100\n",
            "1/1 [==============================] - 0s 27ms/step - loss: 3.7863 - mae: 3.7863\n",
            "Epoch 91/100\n",
            "1/1 [==============================] - 0s 19ms/step - loss: 3.7466 - mae: 3.7466\n",
            "Epoch 92/100\n",
            "1/1 [==============================] - 0s 21ms/step - loss: 3.7651 - mae: 3.7651\n",
            "Epoch 93/100\n",
            "1/1 [==============================] - 0s 23ms/step - loss: 3.7693 - mae: 3.7693\n",
            "Epoch 94/100\n",
            "1/1 [==============================] - 0s 15ms/step - loss: 3.7311 - mae: 3.7311\n",
            "Epoch 95/100\n",
            "1/1 [==============================] - 0s 31ms/step - loss: 3.7656 - mae: 3.7656\n",
            "Epoch 96/100\n",
            "1/1 [==============================] - 0s 25ms/step - loss: 3.7524 - mae: 3.7524\n",
            "Epoch 97/100\n",
            "1/1 [==============================] - 0s 23ms/step - loss: 3.7185 - mae: 3.7185\n",
            "Epoch 98/100\n",
            "1/1 [==============================] - 0s 46ms/step - loss: 3.7625 - mae: 3.7625\n",
            "Epoch 99/100\n",
            "1/1 [==============================] - 0s 26ms/step - loss: 3.7356 - mae: 3.7356\n",
            "Epoch 100/100\n",
            "1/1 [==============================] - 0s 24ms/step - loss: 3.7070 - mae: 3.7070\n"
          ]
        },
        {
          "output_type": "execute_result",
          "data": {
            "text/plain": [
              "<keras.callbacks.History at 0x7fafdf4391c0>"
            ]
          },
          "metadata": {},
          "execution_count": 11
        }
      ],
      "source": [
        "# Build model\n",
        "tf.random.set_seed(SEED)\n",
        "\n",
        "model = tf.keras.Sequential([\n",
        "    tf.keras.layers.Dense(units=50, activation=\"ReLU\"),\n",
        "    tf.keras.layers.Dense(units=1, activation=None)\n",
        "])\n",
        "\n",
        "# Compile model\n",
        "model.compile(loss=tf.keras.losses.mae,\n",
        "              optimizer=tf.keras.optimizers.SGD(lr=0.01),\n",
        "              metrics=[\"mae\"])\n",
        "\n",
        "# Fit model\n",
        "model.fit(X, y, epochs=100)"
      ]
    },
    {
      "cell_type": "code",
      "execution_count": 12,
      "metadata": {
        "colab": {
          "base_uri": "https://localhost:8080/"
        },
        "id": "RXv-dT5wtEgy",
        "outputId": "8f1cd776-82d7-4ce9-e7c4-d0f71a28ad98"
      },
      "outputs": [
        {
          "output_type": "stream",
          "name": "stdout",
          "text": [
            "1/1 [==============================] - 0s 157ms/step\n"
          ]
        },
        {
          "output_type": "execute_result",
          "data": {
            "text/plain": [
              "array([[33.54698]], dtype=float32)"
            ]
          },
          "metadata": {},
          "execution_count": 12
        }
      ],
      "source": [
        "y_pred = model.predict([18.0])\n",
        "y_pred"
      ]
    },
    {
      "cell_type": "markdown",
      "source": [
        "### Try Using A Different Optimizer\n",
        "\n",
        "* e.g. Adam"
      ],
      "metadata": {
        "id": "cezRNMlytEgy"
      }
    },
    {
      "cell_type": "code",
      "execution_count": 13,
      "metadata": {
        "colab": {
          "base_uri": "https://localhost:8080/"
        },
        "id": "kHoZNAJVtEgy",
        "outputId": "6a852f63-2d21-4b8d-f40b-f420e079eb1d"
      },
      "outputs": [
        {
          "output_type": "stream",
          "name": "stdout",
          "text": [
            "Epoch 1/100\n",
            "1/1 [==============================] - 2s 2s/step - loss: 12.8510 - mae: 12.8510\n",
            "Epoch 2/100\n",
            "1/1 [==============================] - 0s 38ms/step - loss: 11.9918 - mae: 11.9918\n",
            "Epoch 3/100\n",
            "1/1 [==============================] - 0s 31ms/step - loss: 11.3185 - mae: 11.3185\n",
            "Epoch 4/100\n",
            "1/1 [==============================] - 0s 20ms/step - loss: 10.8250 - mae: 10.8250\n",
            "Epoch 5/100\n",
            "1/1 [==============================] - 0s 17ms/step - loss: 10.5215 - mae: 10.5215\n",
            "Epoch 6/100\n",
            "1/1 [==============================] - 0s 19ms/step - loss: 10.2264 - mae: 10.2264\n",
            "Epoch 7/100\n",
            "1/1 [==============================] - 0s 25ms/step - loss: 9.9341 - mae: 9.9341\n",
            "Epoch 8/100\n",
            "1/1 [==============================] - 0s 17ms/step - loss: 9.6408 - mae: 9.6408\n",
            "Epoch 9/100\n",
            "1/1 [==============================] - 0s 25ms/step - loss: 9.3434 - mae: 9.3434\n",
            "Epoch 10/100\n",
            "1/1 [==============================] - 0s 25ms/step - loss: 9.0395 - mae: 9.0395\n",
            "Epoch 11/100\n",
            "1/1 [==============================] - 0s 39ms/step - loss: 8.7270 - mae: 8.7270\n",
            "Epoch 12/100\n",
            "1/1 [==============================] - 0s 26ms/step - loss: 8.4041 - mae: 8.4041\n",
            "Epoch 13/100\n",
            "1/1 [==============================] - 0s 24ms/step - loss: 8.0691 - mae: 8.0691\n",
            "Epoch 14/100\n",
            "1/1 [==============================] - 0s 55ms/step - loss: 7.7864 - mae: 7.7864\n",
            "Epoch 15/100\n",
            "1/1 [==============================] - 0s 42ms/step - loss: 7.8558 - mae: 7.8558\n",
            "Epoch 16/100\n",
            "1/1 [==============================] - 0s 30ms/step - loss: 7.9766 - mae: 7.9766\n",
            "Epoch 17/100\n",
            "1/1 [==============================] - 0s 21ms/step - loss: 7.9235 - mae: 7.9235\n",
            "Epoch 18/100\n",
            "1/1 [==============================] - 0s 35ms/step - loss: 7.7404 - mae: 7.7404\n",
            "Epoch 19/100\n",
            "1/1 [==============================] - 0s 45ms/step - loss: 7.4589 - mae: 7.4589\n",
            "Epoch 20/100\n",
            "1/1 [==============================] - 0s 33ms/step - loss: 7.2557 - mae: 7.2557\n",
            "Epoch 21/100\n",
            "1/1 [==============================] - 0s 30ms/step - loss: 7.0741 - mae: 7.0741\n",
            "Epoch 22/100\n",
            "1/1 [==============================] - 0s 31ms/step - loss: 7.0528 - mae: 7.0528\n",
            "Epoch 23/100\n",
            "1/1 [==============================] - 0s 22ms/step - loss: 6.9913 - mae: 6.9913\n",
            "Epoch 24/100\n",
            "1/1 [==============================] - 0s 17ms/step - loss: 6.8931 - mae: 6.8931\n",
            "Epoch 25/100\n",
            "1/1 [==============================] - 0s 20ms/step - loss: 6.7610 - mae: 6.7610\n",
            "Epoch 26/100\n",
            "1/1 [==============================] - 0s 25ms/step - loss: 6.5969 - mae: 6.5969\n",
            "Epoch 27/100\n",
            "1/1 [==============================] - 0s 31ms/step - loss: 6.4021 - mae: 6.4021\n",
            "Epoch 28/100\n",
            "1/1 [==============================] - 0s 26ms/step - loss: 6.1773 - mae: 6.1773\n",
            "Epoch 29/100\n",
            "1/1 [==============================] - 0s 48ms/step - loss: 6.0849 - mae: 6.0849\n",
            "Epoch 30/100\n",
            "1/1 [==============================] - 0s 35ms/step - loss: 5.9732 - mae: 5.9732\n",
            "Epoch 31/100\n",
            "1/1 [==============================] - 0s 28ms/step - loss: 5.8883 - mae: 5.8883\n",
            "Epoch 32/100\n",
            "1/1 [==============================] - 0s 24ms/step - loss: 5.7099 - mae: 5.7099\n",
            "Epoch 33/100\n",
            "1/1 [==============================] - 0s 22ms/step - loss: 5.4496 - mae: 5.4496\n",
            "Epoch 34/100\n",
            "1/1 [==============================] - 0s 37ms/step - loss: 5.2202 - mae: 5.2202\n",
            "Epoch 35/100\n",
            "1/1 [==============================] - 0s 25ms/step - loss: 4.9748 - mae: 4.9748\n",
            "Epoch 36/100\n",
            "1/1 [==============================] - 0s 26ms/step - loss: 4.8665 - mae: 4.8665\n",
            "Epoch 37/100\n",
            "1/1 [==============================] - 0s 19ms/step - loss: 4.7119 - mae: 4.7119\n",
            "Epoch 38/100\n",
            "1/1 [==============================] - 0s 19ms/step - loss: 4.5092 - mae: 4.5092\n",
            "Epoch 39/100\n",
            "1/1 [==============================] - 0s 26ms/step - loss: 4.2602 - mae: 4.2602\n",
            "Epoch 40/100\n",
            "1/1 [==============================] - 0s 16ms/step - loss: 3.9665 - mae: 3.9665\n",
            "Epoch 41/100\n",
            "1/1 [==============================] - 0s 18ms/step - loss: 3.6287 - mae: 3.6287\n",
            "Epoch 42/100\n",
            "1/1 [==============================] - 0s 17ms/step - loss: 3.3855 - mae: 3.3855\n",
            "Epoch 43/100\n",
            "1/1 [==============================] - 0s 18ms/step - loss: 3.2374 - mae: 3.2374\n",
            "Epoch 44/100\n",
            "1/1 [==============================] - 0s 22ms/step - loss: 2.9569 - mae: 2.9569\n",
            "Epoch 45/100\n",
            "1/1 [==============================] - 0s 21ms/step - loss: 2.5265 - mae: 2.5265\n",
            "Epoch 46/100\n",
            "1/1 [==============================] - 0s 25ms/step - loss: 2.1922 - mae: 2.1922\n",
            "Epoch 47/100\n",
            "1/1 [==============================] - 0s 35ms/step - loss: 1.9547 - mae: 1.9547\n",
            "Epoch 48/100\n",
            "1/1 [==============================] - 0s 36ms/step - loss: 1.6563 - mae: 1.6563\n",
            "Epoch 49/100\n",
            "1/1 [==============================] - 0s 27ms/step - loss: 1.2994 - mae: 1.2994\n",
            "Epoch 50/100\n",
            "1/1 [==============================] - 0s 37ms/step - loss: 0.8855 - mae: 0.8855\n",
            "Epoch 51/100\n",
            "1/1 [==============================] - 0s 34ms/step - loss: 0.4156 - mae: 0.4156\n",
            "Epoch 52/100\n",
            "1/1 [==============================] - 0s 36ms/step - loss: 0.3175 - mae: 0.3175\n",
            "Epoch 53/100\n",
            "1/1 [==============================] - 0s 22ms/step - loss: 0.4251 - mae: 0.4251\n",
            "Epoch 54/100\n",
            "1/1 [==============================] - 0s 22ms/step - loss: 0.8468 - mae: 0.8468\n",
            "Epoch 55/100\n",
            "1/1 [==============================] - 0s 23ms/step - loss: 0.9632 - mae: 0.9632\n",
            "Epoch 56/100\n",
            "1/1 [==============================] - 0s 23ms/step - loss: 1.1046 - mae: 1.1046\n",
            "Epoch 57/100\n",
            "1/1 [==============================] - 0s 23ms/step - loss: 1.2286 - mae: 1.2286\n",
            "Epoch 58/100\n",
            "1/1 [==============================] - 0s 27ms/step - loss: 1.2388 - mae: 1.2388\n",
            "Epoch 59/100\n",
            "1/1 [==============================] - 0s 26ms/step - loss: 1.1490 - mae: 1.1490\n",
            "Epoch 60/100\n",
            "1/1 [==============================] - 0s 28ms/step - loss: 0.9726 - mae: 0.9726\n",
            "Epoch 61/100\n",
            "1/1 [==============================] - 0s 24ms/step - loss: 1.0368 - mae: 1.0368\n",
            "Epoch 62/100\n",
            "1/1 [==============================] - 0s 25ms/step - loss: 0.8471 - mae: 0.8471\n",
            "Epoch 63/100\n",
            "1/1 [==============================] - 0s 23ms/step - loss: 0.5054 - mae: 0.5054\n",
            "Epoch 64/100\n",
            "1/1 [==============================] - 0s 20ms/step - loss: 0.3593 - mae: 0.3593\n",
            "Epoch 65/100\n",
            "1/1 [==============================] - 0s 19ms/step - loss: 0.4220 - mae: 0.4220\n",
            "Epoch 66/100\n",
            "1/1 [==============================] - 0s 19ms/step - loss: 0.1687 - mae: 0.1687\n",
            "Epoch 67/100\n",
            "1/1 [==============================] - 0s 20ms/step - loss: 0.3678 - mae: 0.3678\n",
            "Epoch 68/100\n",
            "1/1 [==============================] - 0s 20ms/step - loss: 0.4671 - mae: 0.4671\n",
            "Epoch 69/100\n",
            "1/1 [==============================] - 0s 18ms/step - loss: 0.4793 - mae: 0.4793\n",
            "Epoch 70/100\n",
            "1/1 [==============================] - 0s 22ms/step - loss: 0.4140 - mae: 0.4140\n",
            "Epoch 71/100\n",
            "1/1 [==============================] - 0s 21ms/step - loss: 0.3428 - mae: 0.3428\n",
            "Epoch 72/100\n",
            "1/1 [==============================] - 0s 21ms/step - loss: 0.2767 - mae: 0.2767\n",
            "Epoch 73/100\n",
            "1/1 [==============================] - 0s 21ms/step - loss: 0.1867 - mae: 0.1867\n",
            "Epoch 74/100\n",
            "1/1 [==============================] - 0s 20ms/step - loss: 0.0559 - mae: 0.0559\n",
            "Epoch 75/100\n",
            "1/1 [==============================] - 0s 20ms/step - loss: 0.5131 - mae: 0.5131\n",
            "Epoch 76/100\n",
            "1/1 [==============================] - 0s 21ms/step - loss: 0.5614 - mae: 0.5614\n",
            "Epoch 77/100\n",
            "1/1 [==============================] - 0s 21ms/step - loss: 0.3043 - mae: 0.3043\n",
            "Epoch 78/100\n",
            "1/1 [==============================] - 0s 24ms/step - loss: 0.3431 - mae: 0.3431\n",
            "Epoch 79/100\n",
            "1/1 [==============================] - 0s 26ms/step - loss: 0.3954 - mae: 0.3954\n",
            "Epoch 80/100\n",
            "1/1 [==============================] - 0s 23ms/step - loss: 0.1993 - mae: 0.1993\n",
            "Epoch 81/100\n",
            "1/1 [==============================] - 0s 23ms/step - loss: 0.1866 - mae: 0.1866\n",
            "Epoch 82/100\n",
            "1/1 [==============================] - 0s 20ms/step - loss: 0.0142 - mae: 0.0142\n",
            "Epoch 83/100\n",
            "1/1 [==============================] - 0s 21ms/step - loss: 0.2469 - mae: 0.2469\n",
            "Epoch 84/100\n",
            "1/1 [==============================] - 0s 21ms/step - loss: 0.2618 - mae: 0.2618\n",
            "Epoch 85/100\n",
            "1/1 [==============================] - 0s 22ms/step - loss: 0.2935 - mae: 0.2935\n",
            "Epoch 86/100\n",
            "1/1 [==============================] - 0s 21ms/step - loss: 0.3135 - mae: 0.3135\n",
            "Epoch 87/100\n",
            "1/1 [==============================] - 0s 21ms/step - loss: 0.2903 - mae: 0.2903\n",
            "Epoch 88/100\n",
            "1/1 [==============================] - 0s 20ms/step - loss: 0.2388 - mae: 0.2388\n",
            "Epoch 89/100\n",
            "1/1 [==============================] - 0s 26ms/step - loss: 0.1216 - mae: 0.1216\n",
            "Epoch 90/100\n",
            "1/1 [==============================] - 0s 39ms/step - loss: 0.1169 - mae: 0.1169\n",
            "Epoch 91/100\n",
            "1/1 [==============================] - 0s 21ms/step - loss: 0.2101 - mae: 0.2101\n",
            "Epoch 92/100\n",
            "1/1 [==============================] - 0s 24ms/step - loss: 0.2401 - mae: 0.2401\n",
            "Epoch 93/100\n",
            "1/1 [==============================] - 0s 22ms/step - loss: 0.3214 - mae: 0.3214\n",
            "Epoch 94/100\n",
            "1/1 [==============================] - 0s 17ms/step - loss: 0.3394 - mae: 0.3394\n",
            "Epoch 95/100\n",
            "1/1 [==============================] - 0s 31ms/step - loss: 0.2916 - mae: 0.2916\n",
            "Epoch 96/100\n",
            "1/1 [==============================] - 0s 24ms/step - loss: 0.1413 - mae: 0.1413\n",
            "Epoch 97/100\n",
            "1/1 [==============================] - 0s 18ms/step - loss: 0.2779 - mae: 0.2779\n",
            "Epoch 98/100\n",
            "1/1 [==============================] - 0s 20ms/step - loss: 0.1637 - mae: 0.1637\n",
            "Epoch 99/100\n",
            "1/1 [==============================] - 0s 18ms/step - loss: 0.3069 - mae: 0.3069\n",
            "Epoch 100/100\n",
            "1/1 [==============================] - 0s 18ms/step - loss: 0.3514 - mae: 0.3514\n"
          ]
        },
        {
          "output_type": "execute_result",
          "data": {
            "text/plain": [
              "<keras.callbacks.History at 0x7fafdeeb1970>"
            ]
          },
          "metadata": {},
          "execution_count": 13
        }
      ],
      "source": [
        "# Build model\n",
        "tf.random.set_seed(SEED)\n",
        "\n",
        "model = tf.keras.Sequential([\n",
        "    tf.keras.layers.Dense(units=50, activation=None),\n",
        "    tf.keras.layers.Dense(units=1),\n",
        "])\n",
        "# Compile\n",
        "model.compile(loss=tf.keras.losses.mae,\n",
        "              optimizer=tf.keras.optimizers.Adam(learning_rate=0.01),\n",
        "              metrics=[\"mae\"])\n",
        "\n",
        "# Fit\n",
        "model.fit(X, y, epochs=100)"
      ]
    },
    {
      "cell_type": "code",
      "execution_count": 14,
      "metadata": {
        "colab": {
          "base_uri": "https://localhost:8080/"
        },
        "id": "IvYv_XshtEgy",
        "outputId": "6f72c6de-15a5-4da7-c186-eafa9bef9df1"
      },
      "outputs": [
        {
          "output_type": "stream",
          "name": "stdout",
          "text": [
            "1/1 [==============================] - 0s 301ms/step\n"
          ]
        },
        {
          "output_type": "execute_result",
          "data": {
            "text/plain": [
              "array([[27.806131]], dtype=float32)"
            ]
          },
          "metadata": {},
          "execution_count": 14
        }
      ],
      "source": [
        "# Make predictions\n",
        "y_pred = model.predict([18.0])\n",
        "y_pred"
      ]
    },
    {
      "cell_type": "markdown",
      "source": [
        "### Evaluate The Model Performance\n",
        "\n",
        "* It's a good idea to `visualize`.\n",
        "* We can visualize the following:\n",
        "\n",
        "  1. Data.\n",
        "  2. Model.\n",
        "  3. Model training.\n",
        "  4. The model predictions."
      ],
      "metadata": {
        "id": "uyx5ZRWxtEgy"
      }
    },
    {
      "cell_type": "code",
      "source": [
        "# Create a bigger data\n",
        "X = tf.cast(tf.range(-100, 100, 4), dtype=tf.float16)\n",
        "y = X + 10\n",
        "\n",
        "\n",
        "# Turn it into a matrix\n",
        "X = tf.expand_dims(X, axis=-1)\n",
        "\n",
        "\n",
        "tf.size(X).numpy()"
      ],
      "metadata": {
        "colab": {
          "base_uri": "https://localhost:8080/"
        },
        "id": "bua5r1dryGf_",
        "outputId": "3fbe50da-dfb5-4113-df86-0e37c9395571"
      },
      "execution_count": 15,
      "outputs": [
        {
          "output_type": "execute_result",
          "data": {
            "text/plain": [
              "50"
            ]
          },
          "metadata": {},
          "execution_count": 15
        }
      ]
    },
    {
      "cell_type": "code",
      "source": [
        "# Visualize the data\n",
        "plt.figure(figsize=(8, 6))\n",
        "\n",
        "plt.scatter(X, y)\n",
        "plt.xlabel(\"X\", size=13)\n",
        "plt.ylabel(\"y\", size=13)\n",
        "plt.title(\"Scatter Plot of X and Y\", size=15)\n",
        "\n",
        "plt.show()"
      ],
      "metadata": {
        "colab": {
          "base_uri": "https://localhost:8080/",
          "height": 409
        },
        "id": "-pzoCSsv1nGK",
        "outputId": "7512c351-31be-42bd-dde2-342599af7992"
      },
      "execution_count": 16,
      "outputs": [
        {
          "output_type": "display_data",
          "data": {
            "text/plain": [
              "<Figure size 576x432 with 1 Axes>"
            ],
            "image/png": "[encoded data removed]"
          },
          "metadata": {
            "needs_background": "light"
          }
        }
      ]
    },
    {
      "cell_type": "code",
      "source": [
        "0.8 * X.shape[0]"
      ],
      "metadata": {
        "colab": {
          "base_uri": "https://localhost:8080/"
        },
        "id": "kglyYrzB4lxr",
        "outputId": "78e516aa-9f4d-4a60-d2d0-5ebf31167135"
      },
      "execution_count": 17,
      "outputs": [
        {
          "output_type": "execute_result",
          "data": {
            "text/plain": [
              "40.0"
            ]
          },
          "metadata": {},
          "execution_count": 17
        }
      ]
    },
    {
      "cell_type": "code",
      "source": [
        "# Split the data\n",
        "X_train, X_val = X[:40], X[40:]\n",
        "y_train, y_val = y[:40], y[40:]\n",
        "\n",
        "X_train.shape, X_val.shape"
      ],
      "metadata": {
        "colab": {
          "base_uri": "https://localhost:8080/"
        },
        "id": "xQTE-tdB4ZgL",
        "outputId": "38e32e4d-d4d3-425e-ebbf-e4ad84a75999"
      },
      "execution_count": 18,
      "outputs": [
        {
          "output_type": "execute_result",
          "data": {
            "text/plain": [
              "(TensorShape([40, 1]), TensorShape([10, 1]))"
            ]
          },
          "metadata": {},
          "execution_count": 18
        }
      ]
    },
    {
      "cell_type": "code",
      "source": [
        "# Visualize the data\n",
        "plt.figure(figsize=(8, 6))\n",
        "\n",
        "plt.scatter(X_train, y_train, color=\"red\", label=\"Training data\")\n",
        "plt.scatter(X_val, y_val, color=\"blue\", label=\"Validation data\")\n",
        "plt.xlabel(\"X\", size=13)\n",
        "plt.ylabel(\"y\", size=13)\n",
        "plt.title(\"Scatter Plot of X and Y\", size=15)\n",
        "plt.legend()\n",
        "\n",
        "plt.show()"
      ],
      "metadata": {
        "colab": {
          "base_uri": "https://localhost:8080/",
          "height": 409
        },
        "id": "qQe2DYcy6BQ0",
        "outputId": "6e2ffe66-455c-4811-8280-ab9da2a69356"
      },
      "execution_count": 19,
      "outputs": [
        {
          "output_type": "display_data",
          "data": {
            "text/plain": [
              "<Figure size 576x432 with 1 Axes>"
            ],
            "image/png": "[encoded data removed]"
          },
          "metadata": {
            "needs_background": "light"
          }
        }
      ]
    },
    {
      "cell_type": "markdown",
      "source": [
        "### Visualize The Data Split"
      ],
      "metadata": {
        "id": "cbCeorKj58C9"
      }
    },
    {
      "cell_type": "code",
      "source": [
        "# from sklearn.model_selection import train_test_split\n",
        "\n",
        "\n",
        "\n",
        "# RANDOM_STATE, TEST_SIZE = 123, 0.2\n",
        "\n",
        "# X_train, X_val, y_train, y_val = train_test_split(X, y, test_size=TEST_SIZE, random_state=RANDOM_STATE)\n",
        "# X_train.shape, X_val.shape"
      ],
      "metadata": {
        "id": "7W1G_gP90BxJ"
      },
      "execution_count": 20,
      "outputs": []
    },
    {
      "cell_type": "code",
      "source": [
        "# Build model (with input shape)\n",
        "tf.random.set_seed(SEED)\n",
        "\n",
        "model = tf.keras.Sequential([\n",
        "    tf.keras.layers.Dense(units=10, activation=None, input_shape=[1], name=\"input_layer\"),\n",
        "    tf.keras.layers.Dense(units=1, name=\"output_layer\"),\n",
        "], name=\"neural_net_1\")\n",
        "\n",
        "# Compile \n",
        "model.compile(loss=tf.keras.losses.mae,\n",
        "              optimizer=tf.keras.optimizers.SGD(learning_rate=0.01),\n",
        "              metrics=[\"mae\"])\n",
        "\n"
      ],
      "metadata": {
        "id": "0MgCCzGkyGWh"
      },
      "execution_count": 21,
      "outputs": []
    },
    {
      "cell_type": "code",
      "source": [
        "# model.build()\n",
        "model.summary()"
      ],
      "metadata": {
        "colab": {
          "base_uri": "https://localhost:8080/"
        },
        "id": "uXCVuoDQDPG-",
        "outputId": "1efa0307-a752-45eb-e6d4-a32e771139e1"
      },
      "execution_count": 22,
      "outputs": [
        {
          "output_type": "stream",
          "name": "stdout",
          "text": [
            "Model: \"neural_net_1\"\n",
            "_________________________________________________________________\n",
            " Layer (type)                Output Shape              Param #   \n",
            "=================================================================\n",
            " input_layer (Dense)         (None, 10)                20        \n",
            "                                                                 \n",
            " output_layer (Dense)        (None, 1)                 11        \n",
            "                                                                 \n",
            "=================================================================\n",
            "Total params: 31\n",
            "Trainable params: 31\n",
            "Non-trainable params: 0\n",
            "_________________________________________________________________\n"
          ]
        }
      ]
    },
    {
      "cell_type": "markdown",
      "source": [
        "### Some Key Terms\n",
        "* **Total params**: total number of parameters the model needs to learn.\n",
        "* **Trainable params**: these are the parameters (patterns) that the model can update as it trains.\n",
        "* **Non-trainable params**: these parameters are not updated during training. this is typical when you use an already learned parameters from other models during training (i.e transfer learning)"
      ],
      "metadata": {
        "id": "fICF6wX2Dmxb"
      }
    },
    {
      "cell_type": "code",
      "source": [
        "# Fit \n",
        "model.fit(X_train, y_train, epochs=100)"
      ],
      "metadata": {
        "colab": {
          "base_uri": "https://localhost:8080/"
        },
        "id": "R7rGqq7XFhuq",
        "outputId": "cc240e2a-0d56-4598-d24e-a9b209e0e7be"
      },
      "execution_count": 23,
      "outputs": [
        {
          "output_type": "stream",
          "name": "stdout",
          "text": [
            "Epoch 1/100\n",
            "2/2 [==============================] - 1s 20ms/step - loss: 58.7911 - mae: 58.7911\n",
            "Epoch 2/100\n",
            "2/2 [==============================] - 0s 11ms/step - loss: 22.7598 - mae: 22.7598\n",
            "Epoch 3/100\n",
            "2/2 [==============================] - 0s 10ms/step - loss: 31.5355 - mae: 31.5355\n",
            "Epoch 4/100\n",
            "2/2 [==============================] - 0s 10ms/step - loss: 20.4240 - mae: 20.4240\n",
            "Epoch 5/100\n",
            "2/2 [==============================] - 0s 10ms/step - loss: 21.0946 - mae: 21.0946\n",
            "Epoch 6/100\n",
            "2/2 [==============================] - 0s 11ms/step - loss: 14.5645 - mae: 14.5645\n",
            "Epoch 7/100\n",
            "2/2 [==============================] - 0s 11ms/step - loss: 21.0105 - mae: 21.0105\n",
            "Epoch 8/100\n",
            "2/2 [==============================] - 0s 17ms/step - loss: 18.1868 - mae: 18.1868\n",
            "Epoch 9/100\n",
            "2/2 [==============================] - 0s 11ms/step - loss: 11.2285 - mae: 11.2285\n",
            "Epoch 10/100\n",
            "2/2 [==============================] - 0s 15ms/step - loss: 16.2670 - mae: 16.2670\n",
            "Epoch 11/100\n",
            "2/2 [==============================] - 0s 9ms/step - loss: 14.0142 - mae: 14.0142\n",
            "Epoch 12/100\n",
            "2/2 [==============================] - 0s 11ms/step - loss: 16.6200 - mae: 16.6200\n",
            "Epoch 13/100\n",
            "2/2 [==============================] - 0s 10ms/step - loss: 16.8154 - mae: 16.8154\n",
            "Epoch 14/100\n",
            "2/2 [==============================] - 0s 9ms/step - loss: 11.4453 - mae: 11.4453\n",
            "Epoch 15/100\n",
            "2/2 [==============================] - 0s 9ms/step - loss: 14.5491 - mae: 14.5491\n",
            "Epoch 16/100\n",
            "2/2 [==============================] - 0s 11ms/step - loss: 11.8577 - mae: 11.8577\n",
            "Epoch 17/100\n",
            "2/2 [==============================] - 0s 11ms/step - loss: 15.0876 - mae: 15.0876\n",
            "Epoch 18/100\n",
            "2/2 [==============================] - 0s 10ms/step - loss: 14.2308 - mae: 14.2308\n",
            "Epoch 19/100\n",
            "2/2 [==============================] - 0s 12ms/step - loss: 7.8541 - mae: 7.8541\n",
            "Epoch 20/100\n",
            "2/2 [==============================] - 0s 11ms/step - loss: 35.4485 - mae: 35.4485\n",
            "Epoch 21/100\n",
            "2/2 [==============================] - 0s 13ms/step - loss: 10.2201 - mae: 10.2201\n",
            "Epoch 22/100\n",
            "2/2 [==============================] - 0s 12ms/step - loss: 12.0801 - mae: 12.0801\n",
            "Epoch 23/100\n",
            "2/2 [==============================] - 0s 9ms/step - loss: 17.9988 - mae: 17.9988\n",
            "Epoch 24/100\n",
            "2/2 [==============================] - 0s 9ms/step - loss: 10.7965 - mae: 10.7965\n",
            "Epoch 25/100\n",
            "2/2 [==============================] - 0s 9ms/step - loss: 11.4392 - mae: 11.4392\n",
            "Epoch 26/100\n",
            "2/2 [==============================] - 0s 8ms/step - loss: 22.0563 - mae: 22.0563\n",
            "Epoch 27/100\n",
            "2/2 [==============================] - 0s 10ms/step - loss: 15.1584 - mae: 15.1584\n",
            "Epoch 28/100\n",
            "2/2 [==============================] - 0s 9ms/step - loss: 14.0670 - mae: 14.0670\n",
            "Epoch 29/100\n",
            "2/2 [==============================] - 0s 11ms/step - loss: 16.7432 - mae: 16.7432\n",
            "Epoch 30/100\n",
            "2/2 [==============================] - 0s 10ms/step - loss: 11.4375 - mae: 11.4375\n",
            "Epoch 31/100\n",
            "2/2 [==============================] - 0s 9ms/step - loss: 17.2788 - mae: 17.2788\n",
            "Epoch 32/100\n",
            "2/2 [==============================] - 0s 9ms/step - loss: 8.6989 - mae: 8.6989\n",
            "Epoch 33/100\n",
            "2/2 [==============================] - 0s 9ms/step - loss: 21.9308 - mae: 21.9308\n",
            "Epoch 34/100\n",
            "2/2 [==============================] - 0s 9ms/step - loss: 10.0192 - mae: 10.0192\n",
            "Epoch 35/100\n",
            "2/2 [==============================] - 0s 9ms/step - loss: 12.5345 - mae: 12.5345\n",
            "Epoch 36/100\n",
            "2/2 [==============================] - 0s 9ms/step - loss: 15.4628 - mae: 15.4628\n",
            "Epoch 37/100\n",
            "2/2 [==============================] - 0s 9ms/step - loss: 13.2041 - mae: 13.2041\n",
            "Epoch 38/100\n",
            "2/2 [==============================] - 0s 9ms/step - loss: 14.4344 - mae: 14.4344\n",
            "Epoch 39/100\n",
            "2/2 [==============================] - 0s 10ms/step - loss: 16.9182 - mae: 16.9182\n",
            "Epoch 40/100\n",
            "2/2 [==============================] - 0s 11ms/step - loss: 25.7003 - mae: 25.7003\n",
            "Epoch 41/100\n",
            "2/2 [==============================] - 0s 9ms/step - loss: 10.2476 - mae: 10.2476\n",
            "Epoch 42/100\n",
            "2/2 [==============================] - 0s 9ms/step - loss: 14.6435 - mae: 14.6435\n",
            "Epoch 43/100\n",
            "2/2 [==============================] - 0s 13ms/step - loss: 9.9087 - mae: 9.9087\n",
            "Epoch 44/100\n",
            "2/2 [==============================] - 0s 10ms/step - loss: 9.1450 - mae: 9.1450\n",
            "Epoch 45/100\n",
            "2/2 [==============================] - 0s 11ms/step - loss: 15.2776 - mae: 15.2776\n",
            "Epoch 46/100\n",
            "2/2 [==============================] - 0s 9ms/step - loss: 8.7497 - mae: 8.7497\n",
            "Epoch 47/100\n",
            "2/2 [==============================] - 0s 10ms/step - loss: 22.6089 - mae: 22.6089\n",
            "Epoch 48/100\n",
            "2/2 [==============================] - 0s 10ms/step - loss: 19.0853 - mae: 19.0853\n",
            "Epoch 49/100\n",
            "2/2 [==============================] - 0s 9ms/step - loss: 11.3169 - mae: 11.3169\n",
            "Epoch 50/100\n",
            "2/2 [==============================] - 0s 9ms/step - loss: 14.9132 - mae: 14.9132\n",
            "Epoch 51/100\n",
            "2/2 [==============================] - 0s 10ms/step - loss: 19.6464 - mae: 19.6464\n",
            "Epoch 52/100\n",
            "2/2 [==============================] - 0s 10ms/step - loss: 13.0520 - mae: 13.0520\n",
            "Epoch 53/100\n",
            "2/2 [==============================] - 0s 10ms/step - loss: 16.3097 - mae: 16.3097\n",
            "Epoch 54/100\n",
            "2/2 [==============================] - 0s 10ms/step - loss: 13.4897 - mae: 13.4897\n",
            "Epoch 55/100\n",
            "2/2 [==============================] - 0s 11ms/step - loss: 11.8805 - mae: 11.8805\n",
            "Epoch 56/100\n",
            "2/2 [==============================] - 0s 9ms/step - loss: 9.8612 - mae: 9.8612\n",
            "Epoch 57/100\n",
            "2/2 [==============================] - 0s 11ms/step - loss: 17.0302 - mae: 17.0302\n",
            "Epoch 58/100\n",
            "2/2 [==============================] - 0s 12ms/step - loss: 7.0375 - mae: 7.0375\n",
            "Epoch 59/100\n",
            "2/2 [==============================] - 0s 10ms/step - loss: 13.0364 - mae: 13.0364\n",
            "Epoch 60/100\n",
            "2/2 [==============================] - 0s 10ms/step - loss: 10.1522 - mae: 10.1522\n",
            "Epoch 61/100\n",
            "2/2 [==============================] - 0s 10ms/step - loss: 11.7659 - mae: 11.7659\n",
            "Epoch 62/100\n",
            "2/2 [==============================] - 0s 9ms/step - loss: 30.2111 - mae: 30.2111\n",
            "Epoch 63/100\n",
            "2/2 [==============================] - 0s 13ms/step - loss: 10.3495 - mae: 10.3495\n",
            "Epoch 64/100\n",
            "2/2 [==============================] - 0s 9ms/step - loss: 19.8232 - mae: 19.8232\n",
            "Epoch 65/100\n",
            "2/2 [==============================] - 0s 9ms/step - loss: 13.3057 - mae: 13.3057\n",
            "Epoch 66/100\n",
            "2/2 [==============================] - 0s 8ms/step - loss: 17.5570 - mae: 17.5570\n",
            "Epoch 67/100\n",
            "2/2 [==============================] - 0s 8ms/step - loss: 13.8557 - mae: 13.8557\n",
            "Epoch 68/100\n",
            "2/2 [==============================] - 0s 8ms/step - loss: 10.7550 - mae: 10.7550\n",
            "Epoch 69/100\n",
            "2/2 [==============================] - 0s 9ms/step - loss: 13.1974 - mae: 13.1974\n",
            "Epoch 70/100\n",
            "2/2 [==============================] - 0s 9ms/step - loss: 15.6203 - mae: 15.6203\n",
            "Epoch 71/100\n",
            "2/2 [==============================] - 0s 9ms/step - loss: 16.6155 - mae: 16.6155\n",
            "Epoch 72/100\n",
            "2/2 [==============================] - 0s 8ms/step - loss: 24.6578 - mae: 24.6578\n",
            "Epoch 73/100\n",
            "2/2 [==============================] - 0s 8ms/step - loss: 18.9658 - mae: 18.9658\n",
            "Epoch 74/100\n",
            "2/2 [==============================] - 0s 9ms/step - loss: 15.9089 - mae: 15.9089\n",
            "Epoch 75/100\n",
            "2/2 [==============================] - 0s 8ms/step - loss: 10.3348 - mae: 10.3348\n",
            "Epoch 76/100\n",
            "2/2 [==============================] - 0s 8ms/step - loss: 13.4860 - mae: 13.4860\n",
            "Epoch 77/100\n",
            "2/2 [==============================] - 0s 10ms/step - loss: 6.5099 - mae: 6.5099\n",
            "Epoch 78/100\n",
            "2/2 [==============================] - 0s 9ms/step - loss: 12.3471 - mae: 12.3471\n",
            "Epoch 79/100\n",
            "2/2 [==============================] - 0s 8ms/step - loss: 7.7685 - mae: 7.7685\n",
            "Epoch 80/100\n",
            "2/2 [==============================] - 0s 8ms/step - loss: 9.6078 - mae: 9.6078\n",
            "Epoch 81/100\n",
            "2/2 [==============================] - 0s 9ms/step - loss: 16.2076 - mae: 16.2076\n",
            "Epoch 82/100\n",
            "2/2 [==============================] - 0s 10ms/step - loss: 6.4685 - mae: 6.4685\n",
            "Epoch 83/100\n",
            "2/2 [==============================] - 0s 11ms/step - loss: 10.1521 - mae: 10.1521\n",
            "Epoch 84/100\n",
            "2/2 [==============================] - 0s 9ms/step - loss: 20.0436 - mae: 20.0436\n",
            "Epoch 85/100\n",
            "2/2 [==============================] - 0s 8ms/step - loss: 15.8093 - mae: 15.8093\n",
            "Epoch 86/100\n",
            "2/2 [==============================] - 0s 10ms/step - loss: 16.8749 - mae: 16.8749\n",
            "Epoch 87/100\n",
            "2/2 [==============================] - 0s 9ms/step - loss: 16.8278 - mae: 16.8278\n",
            "Epoch 88/100\n",
            "2/2 [==============================] - 0s 8ms/step - loss: 29.3784 - mae: 29.3784\n",
            "Epoch 89/100\n",
            "2/2 [==============================] - 0s 8ms/step - loss: 20.9462 - mae: 20.9462\n",
            "Epoch 90/100\n",
            "2/2 [==============================] - 0s 9ms/step - loss: 11.5136 - mae: 11.5136\n",
            "Epoch 91/100\n",
            "2/2 [==============================] - 0s 8ms/step - loss: 23.5892 - mae: 23.5892\n",
            "Epoch 92/100\n",
            "2/2 [==============================] - 0s 8ms/step - loss: 19.8223 - mae: 19.8223\n",
            "Epoch 93/100\n",
            "2/2 [==============================] - 0s 10ms/step - loss: 8.1684 - mae: 8.1684\n",
            "Epoch 94/100\n",
            "2/2 [==============================] - 0s 9ms/step - loss: 19.6107 - mae: 19.6107\n",
            "Epoch 95/100\n",
            "2/2 [==============================] - 0s 11ms/step - loss: 10.4454 - mae: 10.4454\n",
            "Epoch 96/100\n",
            "2/2 [==============================] - 0s 9ms/step - loss: 21.7417 - mae: 21.7417\n",
            "Epoch 97/100\n",
            "2/2 [==============================] - 0s 9ms/step - loss: 15.2300 - mae: 15.2300\n",
            "Epoch 98/100\n",
            "2/2 [==============================] - 0s 11ms/step - loss: 20.3787 - mae: 20.3787\n",
            "Epoch 99/100\n",
            "2/2 [==============================] - 0s 10ms/step - loss: 17.2475 - mae: 17.2475\n",
            "Epoch 100/100\n",
            "2/2 [==============================] - 0s 9ms/step - loss: 18.7029 - mae: 18.7029\n"
          ]
        },
        {
          "output_type": "execute_result",
          "data": {
            "text/plain": [
              "<keras.callbacks.History at 0x7fafe3b3af40>"
            ]
          },
          "metadata": {},
          "execution_count": 23
        }
      ]
    },
    {
      "cell_type": "markdown",
      "source": [
        "### Visualize The Model\n",
        "\n",
        "[![image.png](https://i.postimg.cc/XJnBMPTk/image.png)](https://postimg.cc/Lq08Lx4J)"
      ],
      "metadata": {
        "id": "9yZyuAAZF9eZ"
      }
    },
    {
      "cell_type": "code",
      "source": [
        "from tensorflow.keras.utils import plot_model\n",
        "\n",
        "\n",
        "plot_model(model, show_shapes=True)"
      ],
      "metadata": {
        "colab": {
          "base_uri": "https://localhost:8080/",
          "height": 312
        },
        "id": "dqmkX400F9SZ",
        "outputId": "4a20f06a-ce6f-4328-fdbb-0982325e42d4"
      },
      "execution_count": 24,
      "outputs": [
        {
          "output_type": "execute_result",
          "data": {
            "image/png": "[encoded data removed]",
            "text/plain": [
              "<IPython.core.display.Image object>"
            ]
          },
          "metadata": {},
          "execution_count": 24
        }
      ]
    },
    {
      "cell_type": "code",
      "source": [],
      "metadata": {
        "id": "GxqhY96vGbPf"
      },
      "execution_count": 24,
      "outputs": []
    },
    {
      "cell_type": "code",
      "source": [
        "def plot_prediction(X_train=X_train, \n",
        "                    X_val=X_val, \n",
        "                    y_train=y_train, \n",
        "                    y_val=y_val, \n",
        "                    y_predictions=y_pred) -> \"Plot\":\n",
        "  \"\"\"This is used to visualize the model predictions.\n",
        "\n",
        "  Params:\n",
        "    X_train (tf.tensor): The training data.\n",
        "    X_val (tf.tensor): The validation data.\n",
        "    y_train (tf.tensor): The labels of the training data.\n",
        "    y_train (tf.tensor): The labels of the validation data.\n",
        "    y_pred (tf.tensor): The predicted data.\n",
        "\n",
        "  Returns:\n",
        "    None\n",
        "  \"\"\"\n",
        "  # Visualize the data\n",
        "  plt.figure(figsize=(8, 6))\n",
        "\n",
        "  plt.scatter(X_train, y_train, color=\"red\", label=\"Training data\")\n",
        "  plt.scatter(X_val, y_val, color=\"blue\", label=\"Validation data\")\n",
        "  plt.scatter(X_val, y_predictions, color=\"green\", label=\"Predicted data\")\n",
        "  plt.xlabel(\"X\", size=13)\n",
        "  plt.ylabel(\"y\", size=13)\n",
        "  plt.title(\"Scatter Plot of X and Y\", size=15)\n",
        "  plt.legend()\n",
        "\n",
        "  plt.show()"
      ],
      "metadata": {
        "id": "yiX8ZawtyGIk"
      },
      "execution_count": 25,
      "outputs": []
    },
    {
      "cell_type": "code",
      "source": [
        "# Make predictions\n",
        "y_pred = model.predict(X_val)"
      ],
      "metadata": {
        "colab": {
          "base_uri": "https://localhost:8080/"
        },
        "id": "NPxM67uWRuQw",
        "outputId": "b6184c4e-68e7-49ba-8d32-cb7e82b69ac1"
      },
      "execution_count": 26,
      "outputs": [
        {
          "output_type": "stream",
          "name": "stderr",
          "text": [
            "WARNING:tensorflow:5 out of the last 5 calls to <function Model.make_predict_function.<locals>.predict_function at 0x7fafdea343a0> triggered tf.function retracing. Tracing is expensive and the excessive number of tracings could be due to (1) creating @tf.function repeatedly in a loop, (2) passing tensors with different shapes, (3) passing Python objects instead of tensors. For (1), please define your @tf.function outside of the loop. For (2), @tf.function has reduce_retracing=True option that can avoid unnecessary retracing. For (3), please refer to https://www.tensorflow.org/guide/function#controlling_retracing and https://www.tensorflow.org/api_docs/python/tf/function for  more details.\n"
          ]
        },
        {
          "output_type": "stream",
          "name": "stdout",
          "text": [
            "1/1 [==============================] - 0s 73ms/step\n"
          ]
        }
      ]
    },
    {
      "cell_type": "code",
      "source": [
        "plot_prediction(y_predictions=y_pred)"
      ],
      "metadata": {
        "colab": {
          "base_uri": "https://localhost:8080/",
          "height": 409
        },
        "id": "POWJ7A_gyGFb",
        "outputId": "a584dfd9-b403-4ce0-bb24-80bcc7073f79"
      },
      "execution_count": 27,
      "outputs": [
        {
          "output_type": "display_data",
          "data": {
            "text/plain": [
              "<Figure size 576x432 with 1 Axes>"
            ],
            "image/png": "[encoded data removed]"
          },
          "metadata": {
            "needs_background": "light"
          }
        }
      ]
    },
    {
      "cell_type": "code",
      "source": [
        "# Evaluate\n",
        "model.evaluate(X_val, y_val)"
      ],
      "metadata": {
        "colab": {
          "base_uri": "https://localhost:8080/"
        },
        "id": "LouQdtgFyF_c",
        "outputId": "66a3a8e5-000c-4682-b1d3-74d03b9d8aea"
      },
      "execution_count": 28,
      "outputs": [
        {
          "output_type": "stream",
          "name": "stdout",
          "text": [
            "1/1 [==============================] - 0s 246ms/step - loss: 6.5232 - mae: 6.5232\n"
          ]
        },
        {
          "output_type": "execute_result",
          "data": {
            "text/plain": [
              "[6.523158073425293, 6.523158073425293]"
            ]
          },
          "metadata": {},
          "execution_count": 28
        }
      ]
    },
    {
      "cell_type": "markdown",
      "source": [
        "### Challenge\n",
        "\n",
        "> Implement the following:\n",
        "\n",
        "1. Mean Absolute Error\n",
        "\n",
        "```python\n",
        "tf.keras.losses.MAE()\n",
        "\n",
        "# OR\n",
        "tf.metrics.mean_absolute_error()\n",
        "```\n",
        "\n",
        "$$\n",
        "mae = \\frac{\\sum^n_{i=1}{|y_{i}} - \\hat{y}_{i}|}{n}\n",
        "$$\n",
        "\n",
        "2. Mean Squared Error\n",
        "\n",
        "```python\n",
        "tf.keras.losses.MSE()\n",
        "\n",
        "# OR\n",
        "tf.metrics.mean_square_error()\n",
        "```\n",
        "\n",
        "$$\n",
        "mse = \\frac{\\sum^n_{i=1}{(y_{i}} - \\hat{y}_{i})^2}{n}\n",
        "$$"
      ],
      "metadata": {
        "id": "vwMGN8vkPH4c"
      }
    },
    {
      "cell_type": "code",
      "source": [],
      "metadata": {
        "id": "3OWyt2WwyF8-"
      },
      "execution_count": 28,
      "outputs": []
    },
    {
      "cell_type": "code",
      "source": [],
      "metadata": {
        "id": "pZYrSwTgyF6d"
      },
      "execution_count": 28,
      "outputs": []
    },
    {
      "cell_type": "code",
      "source": [],
      "metadata": {
        "id": "UkrFvw7EyF3L"
      },
      "execution_count": 28,
      "outputs": []
    },
    {
      "cell_type": "code",
      "source": [],
      "metadata": {
        "id": "dPk3vbrkyFzs"
      },
      "execution_count": 28,
      "outputs": []
    },
    {
      "cell_type": "code",
      "execution_count": 28,
      "metadata": {
        "id": "kg8aU3AXtEgy"
      },
      "outputs": [],
      "source": []
    },
    {
      "cell_type": "code",
      "execution_count": 28,
      "metadata": {
        "id": "avzev_qatEgz"
      },
      "outputs": [],
      "source": []
    },
    {
      "cell_type": "code",
      "execution_count": 28,
      "metadata": {
        "id": "a20akyw8tEgz"
      },
      "outputs": [],
      "source": []
    },
    {
      "cell_type": "code",
      "execution_count": 28,
      "metadata": {
        "id": "dXtxCCGttEgz"
      },
      "outputs": [],
      "source": []
    },
    {
      "cell_type": "code",
      "execution_count": 28,
      "metadata": {
        "id": "mATrnM8dtEgz"
      },
      "outputs": [],
      "source": []
    },
    {
      "cell_type": "code",
      "execution_count": 28,
      "metadata": {
        "id": "ycGR7g9WtEgz"
      },
      "outputs": [],
      "source": []
    },
    {
      "cell_type": "code",
      "execution_count": 28,
      "metadata": {
        "id": "tXguO8jGtEgz"
      },
      "outputs": [],
      "source": []
    },
    {
      "cell_type": "code",
      "execution_count": 28,
      "metadata": {
        "id": "4PDwJKuktEgz"
      },
      "outputs": [],
      "source": []
    },
    {
      "cell_type": "code",
      "execution_count": 28,
      "metadata": {
        "id": "hgzKYEIRtEgz"
      },
      "outputs": [],
      "source": []
    },
    {
      "cell_type": "code",
      "execution_count": 28,
      "metadata": {
        "id": "6pjwEWDPtEgz"
      },
      "outputs": [],
      "source": []
    }
  ],
  "metadata": {
    "language_info": {
      "name": "python"
    },
    "orig_nbformat": 4,
    "colab": {
      "provenance": [],
      "include_colab_link": true
    },
    "kernelspec": {
      "name": "python3",
      "display_name": "Python 3"
    },
    "gpuClass": "standard"
  },
  "nbformat": 4,
  "nbformat_minor": 0
}