{
 "cells": [
  {
   "cell_type": "markdown",
   "metadata": {},
   "source": [
    "# Long Sequence Classification\n",
    "\n",
    "- This uses window function in PyTorch."
   ]
  },
  {
   "cell_type": "code",
   "execution_count": 1,
   "metadata": {},
   "outputs": [],
   "source": [
    "# Built-in library\n",
    "import re\n",
    "import json\n",
    "from typing import Any, Dict, List, Optional, Union\n",
    "import logging\n",
    "import warnings\n",
    "\n",
    "# Standard imports\n",
    "import numpy as np\n",
    "import pandas as pd\n",
    "from rich import print\n",
    "import torch\n",
    "\n",
    "# Visualization\n",
    "import matplotlib.pyplot as plt\n",
    "\n",
    "\n",
    "# Pandas settings\n",
    "pd.options.display.max_rows = 1_000\n",
    "pd.options.display.max_columns = 1_000\n",
    "pd.options.display.max_colwidth = 600\n",
    "\n",
    "warnings.filterwarnings(\"ignore\")\n",
    "\n",
    "# Black code formatter (Optional)\n",
    "%load_ext lab_black\n",
    "\n",
    "# auto reload imports\n",
    "%load_ext autoreload\n",
    "%autoreload 2"
   ]
  },
  {
   "cell_type": "code",
   "execution_count": 2,
   "metadata": {},
   "outputs": [],
   "source": [
    "from transformers import BertForSequenceClassification, BertTokenizer\n",
    "\n",
    "\n",
    "model_checkpoint: str = \"ProsusAI/finbert\"\n",
    "tokenizer: Any = BertTokenizer.from_pretrained(model_checkpoint)\n",
    "model: Any = BertForSequenceClassification.from_pretrained(model_checkpoint)"
   ]
  },
  {
   "cell_type": "code",
   "execution_count": 3,
   "metadata": {},
   "outputs": [],
   "source": [
    "# A very long text!\n",
    "txt: str = \"\"\"\n",
    "I would like to get your all  thoughts on the bond yield increase this week.  I am not worried about the market downturn but the sudden increase in yields. On 2/16 the 10 year bonds yields increased by almost  9 percent and on 2/19 the yield increased by almost 5 percent.\n",
    "\n",
    "Key Points from the CNBC Article:\n",
    "\n",
    "* **The “taper tantrum” in 2013 was a sudden spike in Treasury yields due to market panic after the Federal Reserve announced that it would begin tapering its quantitative easing program.**\n",
    "* **Major central banks around the world have cut interest rates to historic lows and launched unprecedented quantities of asset purchases in a bid to shore up the economy throughout the pandemic.**\n",
    "* **However, the recent rise in yields suggests that some investors are starting to anticipate a tightening of policy sooner than anticipated to accommodate a potential rise in inflation.**\n",
    "\n",
    "The recent rise in bond yields and U.S. inflation expectations has some investors wary that a repeat of the 2013 “taper tantrum” could be on the horizon.\n",
    "\n",
    "The benchmark U.S. 10-year Treasury note climbed above 1.3% for the first time since February 2020 earlier this week, while the 30-year bond also hit its highest level for a year. Yields move inversely to bond prices.\n",
    "\n",
    "Yields tend to rise in lockstep with inflation expectations, which have reached their highest levels in a decade in the U.S., powered by increased prospects of a large fiscal stimulus package, progress on vaccine rollouts and pent-up consumer demand.\n",
    "\n",
    "The “taper tantrum” in 2013 was a sudden spike in Treasury yields due to market panic after the Federal Reserve announced that it would begin tapering its quantitative easing program.\n",
    "\n",
    "Major central banks around the world have cut interest rates to historic lows and launched unprecedented quantities of asset purchases in a bid to shore up the economy throughout the pandemic. The Fed and others have maintained supportive tones in recent policy meetings, vowing to keep financial conditions loose as the global economy looks to emerge from the Covid-19 pandemic.\n",
    "\n",
    "However, the recent rise in yields suggests that some investors are starting to anticipate a tightening of policy sooner than anticipated to accommodate a potential rise in inflation.\n",
    "\n",
    "With central bank support removed, bonds usually fall in price which sends yields higher. This can also spill over into stock markets as higher interest rates means more debt servicing for firms, causing traders to reassess the investing environment.\n",
    "\n",
    "“The supportive stance from policymakers will likely remain in place until the vaccines have paved a way to some return to normality,” said Shane Balkham, chief investment officer at Beaufort Investment, in a research note this week.\n",
    "\n",
    "“However, there will be a risk of another ‘taper tantrum’ similar to the one we witnessed in 2013, and this is our main focus for 2021,” Balkham projected, should policymakers begin to unwind this stimulus.\n",
    "\n",
    "Long-term bond yields in Japan and Europe followed U.S. Treasurys higher toward the end of the week as bondholders shifted their portfolios.\n",
    "\n",
    "“The fear is that these assets are priced to perfection when the ECB and Fed might eventually taper,” said Sebastien Galy, senior macro strategist at Nordea Asset Management, in a research note entitled “Little taper tantrum.”\n",
    "\n",
    "“The odds of tapering are helped in the United States by better retail sales after four months of disappointment and the expectation of large issuance from the $1.9 trillion fiscal package.”\n",
    "\n",
    "Galy suggested the Fed would likely extend the duration on its asset purchases, moderating the upward momentum in inflation.\n",
    "\n",
    "“Equity markets have reacted negatively to higher yield as it offers an alternative to the dividend yield and a higher discount to long-term cash flows, making them focus more on medium-term growth such as cyclicals” he said. Cyclicals are stocks whose performance tends to align with economic cycles.\n",
    "\n",
    "Galy expects this process to be more marked in the second half of the year when economic growth picks up, increasing the potential for tapering.\n",
    "\n",
    "## Tapering in the U.S., but not Europe\n",
    "\n",
    "Allianz CEO Oliver Bäte told CNBC on Friday that there was a geographical divergence in how the German insurer is thinking about the prospect of interest rate hikes.\n",
    "\n",
    "“One is Europe, where we continue to have financial repression, where the ECB continues to buy up to the max in order to minimize spreads between the north and the south — the strong balance sheets and the weak ones — and at some point somebody will have to pay the price for that, but in the short term I don’t see any spike in interest rates,” Bäte said, adding that the situation is different stateside.\n",
    "\n",
    "“Because of the massive programs that have happened, the stimulus that is happening, the dollar being the world’s reserve currency, there is clearly a trend to stoke inflation and it is going to come. Again, I don’t know when and how, but the interest rates have been steepening and they should be steepening further.”\n",
    "\n",
    "## Rising yields a ‘normal feature’\n",
    "\n",
    "However, not all analysts are convinced that the rise in bond yields is material for markets. In a note Friday, Barclays Head of European Equity Strategy Emmanuel Cau suggested that rising bond yields were overdue, as they had been lagging the improving macroeconomic outlook for the second half of 2021, and said they were a “normal feature” of economic recovery.\n",
    "\n",
    "“With the key drivers of inflation pointing up, the prospect of even more fiscal stimulus in the U.S. and pent up demand propelled by high excess savings, it seems right for bond yields to catch-up with other more advanced reflation trades,” Cau said, adding that central banks remain “firmly on hold” given the balance of risks.\n",
    "\n",
    "He argued that the steepening yield curve is “typical at the early stages of the cycle,” and that so long as vaccine rollouts are successful, growth continues to tick upward and central banks remain cautious, reflationary moves across asset classes look “justified” and equities should be able to withstand higher rates.\n",
    "\n",
    "“Of course, after the strong move of the last few weeks, equities could mark a pause as many sectors that have rallied with yields look overbought, like commodities and banks,” Cau said.\n",
    "\n",
    "“But at this stage, we think rising yields are more a confirmation of the equity bull market than a threat, so dips should continue to be bought.”\n",
    "\"\"\""
   ]
  },
  {
   "cell_type": "code",
   "execution_count": 4,
   "metadata": {},
   "outputs": [
    {
     "name": "stderr",
     "output_type": "stream",
     "text": [
      "Token indices sequence length is longer than the specified maximum sequence length for this model (1345 > 512). Running this sequence through the model will result in indexing errors\n"
     ]
    },
    {
     "data": {
      "text/html": [
       "<pre style=\"white-space:pre;overflow-x:auto;line-height:normal;font-family:Menlo,'DejaVu Sans Mono',consolas,'Courier New',monospace\">Number of tokens: <span style=\"color: #008080; text-decoration-color: #008080; font-weight: bold\">1345</span>\n",
       "</pre>\n"
      ],
      "text/plain": [
       "Number of tokens: \u001b[1;36m1345\u001b[0m\n"
      ]
     },
     "metadata": {},
     "output_type": "display_data"
    },
    {
     "data": {
      "text/html": [
       "<pre style=\"white-space:pre;overflow-x:auto;line-height:normal;font-family:Menlo,'DejaVu Sans Mono',consolas,'Courier New',monospace\">Tokens: <span style=\"font-weight: bold\">{</span><span style=\"color: #008000; text-decoration-color: #008000\">'input_ids'</span>: <span style=\"color: #800080; text-decoration-color: #800080; font-weight: bold\">tensor</span><span style=\"font-weight: bold\">([[</span><span style=\"color: #008080; text-decoration-color: #008080; font-weight: bold\">1045</span>, <span style=\"color: #008080; text-decoration-color: #008080; font-weight: bold\">2052</span>, <span style=\"color: #008080; text-decoration-color: #008080; font-weight: bold\">2066</span>,  <span style=\"color: #808000; text-decoration-color: #808000\">...</span>, <span style=\"color: #008080; text-decoration-color: #008080; font-weight: bold\">4149</span>, <span style=\"color: #008080; text-decoration-color: #008080; font-weight: bold\">1012</span>, <span style=\"color: #008080; text-decoration-color: #008080; font-weight: bold\">1524</span><span style=\"font-weight: bold\">]])</span>, <span style=\"color: #008000; text-decoration-color: #008000\">'token_type_ids'</span>: <span style=\"color: #800080; text-decoration-color: #800080; font-weight: bold\">tensor</span><span style=\"font-weight: bold\">([[</span><span style=\"color: #008080; text-decoration-color: #008080; font-weight: bold\">0</span>, <span style=\"color: #008080; text-decoration-color: #008080; font-weight: bold\">0</span>, <span style=\"color: #008080; text-decoration-color: #008080; font-weight: bold\">0</span>,  \n",
       "<span style=\"color: #808000; text-decoration-color: #808000\">...</span>, <span style=\"color: #008080; text-decoration-color: #008080; font-weight: bold\">0</span>, <span style=\"color: #008080; text-decoration-color: #008080; font-weight: bold\">0</span>, <span style=\"color: #008080; text-decoration-color: #008080; font-weight: bold\">0</span><span style=\"font-weight: bold\">]])</span>, <span style=\"color: #008000; text-decoration-color: #008000\">'attention_mask'</span>: <span style=\"color: #800080; text-decoration-color: #800080; font-weight: bold\">tensor</span><span style=\"font-weight: bold\">([[</span><span style=\"color: #008080; text-decoration-color: #008080; font-weight: bold\">1</span>, <span style=\"color: #008080; text-decoration-color: #008080; font-weight: bold\">1</span>, <span style=\"color: #008080; text-decoration-color: #008080; font-weight: bold\">1</span>,  <span style=\"color: #808000; text-decoration-color: #808000\">...</span>, <span style=\"color: #008080; text-decoration-color: #008080; font-weight: bold\">1</span>, <span style=\"color: #008080; text-decoration-color: #008080; font-weight: bold\">1</span>, <span style=\"color: #008080; text-decoration-color: #008080; font-weight: bold\">1</span><span style=\"font-weight: bold\">]])}</span>\n",
       "</pre>\n"
      ],
      "text/plain": [
       "Tokens: \u001b[1m{\u001b[0m\u001b[32m'input_ids'\u001b[0m: \u001b[1;35mtensor\u001b[0m\u001b[1m(\u001b[0m\u001b[1m[\u001b[0m\u001b[1m[\u001b[0m\u001b[1;36m1045\u001b[0m, \u001b[1;36m2052\u001b[0m, \u001b[1;36m2066\u001b[0m,  \u001b[33m...\u001b[0m, \u001b[1;36m4149\u001b[0m, \u001b[1;36m1012\u001b[0m, \u001b[1;36m1524\u001b[0m\u001b[1m]\u001b[0m\u001b[1m]\u001b[0m\u001b[1m)\u001b[0m, \u001b[32m'token_type_ids'\u001b[0m: \u001b[1;35mtensor\u001b[0m\u001b[1m(\u001b[0m\u001b[1m[\u001b[0m\u001b[1m[\u001b[0m\u001b[1;36m0\u001b[0m, \u001b[1;36m0\u001b[0m, \u001b[1;36m0\u001b[0m,  \n",
       "\u001b[33m...\u001b[0m, \u001b[1;36m0\u001b[0m, \u001b[1;36m0\u001b[0m, \u001b[1;36m0\u001b[0m\u001b[1m]\u001b[0m\u001b[1m]\u001b[0m\u001b[1m)\u001b[0m, \u001b[32m'attention_mask'\u001b[0m: \u001b[1;35mtensor\u001b[0m\u001b[1m(\u001b[0m\u001b[1m[\u001b[0m\u001b[1m[\u001b[0m\u001b[1;36m1\u001b[0m, \u001b[1;36m1\u001b[0m, \u001b[1;36m1\u001b[0m,  \u001b[33m...\u001b[0m, \u001b[1;36m1\u001b[0m, \u001b[1;36m1\u001b[0m, \u001b[1;36m1\u001b[0m\u001b[1m]\u001b[0m\u001b[1m]\u001b[0m\u001b[1m)\u001b[0m\u001b[1m}\u001b[0m\n"
      ]
     },
     "metadata": {},
     "output_type": "display_data"
    }
   ],
   "source": [
    "# Tokenize and prepare for the model a sequence or a pair of sequences.\n",
    "tokens = tokenizer.encode_plus(txt, add_special_tokens=False, return_tensors=\"pt\")\n",
    "\n",
    "print(f'Number of tokens: {len(tokens[\"input_ids\"][0])}')\n",
    "print(f\"Tokens: {tokens}\")"
   ]
  },
  {
   "cell_type": "markdown",
   "metadata": {},
   "source": [
    "### To Do\n",
    "\n",
    "- Now we have a set of tensors where each tensor contains 1345 tokens. \n",
    "- We'll pull out a length of 510 tokens (or less), add the CLS and SEP tokens, then add PAD tokens when needed. \n",
    "- To create these tensors of length 510 we need to use the torch.split method."
   ]
  },
  {
   "cell_type": "code",
   "execution_count": 5,
   "metadata": {},
   "outputs": [
    {
     "data": {
      "text/plain": [
       "tensor([0, 1, 2, 3, 4, 5, 6, 7, 8, 9])"
      ]
     },
     "execution_count": 5,
     "metadata": {},
     "output_type": "execute_result"
    }
   ],
   "source": [
    "# Example\n",
    "A: torch.Tensor = torch.arange(10)\n",
    "A"
   ]
  },
  {
   "cell_type": "code",
   "execution_count": 6,
   "metadata": {},
   "outputs": [
    {
     "data": {
      "text/plain": [
       "(tensor([0, 1, 2, 3]), tensor([4, 5, 6, 7]), tensor([8, 9]))"
      ]
     },
     "execution_count": 6,
     "metadata": {},
     "output_type": "execute_result"
    }
   ],
   "source": [
    "# Split the elements in the tensor into chunks each containing at most N elements.\n",
    "N: int = 4\n",
    "torch.split(A, N)"
   ]
  },
  {
   "cell_type": "code",
   "execution_count": 7,
   "metadata": {},
   "outputs": [
    {
     "data": {
      "text/plain": [
       "tensor([101.,   0.,   1.,   2.,   3.,   4.,   5.,   6.,   7.,   8.,   9., 102.])"
      ]
     },
     "execution_count": 7,
     "metadata": {},
     "output_type": "execute_result"
    }
   ],
   "source": [
    "# Add the special tokens\n",
    "A: torch.Tensor = torch.cat([torch.Tensor([101]), A, torch.Tensor([102])])\n",
    "A"
   ]
  },
  {
   "cell_type": "markdown",
   "metadata": {},
   "source": [
    "### To Do\n",
    "\n",
    "- We still need to add padding to our tensors to push them upto a length of 512, which should only be required for the final chunk. \n",
    "- To do this we will build an `if-statement` that checks if the tensor length requires padding, and if so add the correct amount of padding which will be something like required_len = 512 - tensor_len. \n",
    "- Again, let's test it on tensor a first:\n",
    "  - Let's assume we want a max. of 20 tokens per chunk ..."
   ]
  },
  {
   "cell_type": "code",
   "execution_count": 8,
   "metadata": {},
   "outputs": [
    {
     "data": {
      "text/plain": [
       "tensor([101.,   0.,   1.,   2.,   3.,   4.,   5.,   6.,   7.,   8.,   9., 102.])"
      ]
     },
     "execution_count": 8,
     "metadata": {},
     "output_type": "execute_result"
    }
   ],
   "source": [
    "A"
   ]
  },
  {
   "cell_type": "code",
   "execution_count": 9,
   "metadata": {},
   "outputs": [
    {
     "data": {
      "text/plain": [
       "8"
      ]
     },
     "execution_count": 9,
     "metadata": {},
     "output_type": "execute_result"
    }
   ],
   "source": [
    "MAX_TOKEN: int = 20\n",
    "PADDING_LEN: int = MAX_TOKEN - A.size(0)\n",
    "PADDING_LEN"
   ]
  },
  {
   "cell_type": "code",
   "execution_count": 10,
   "metadata": {},
   "outputs": [
    {
     "data": {
      "text/plain": [
       "tensor([101.,   0.,   1.,   2.,   3.,   4.,   5.,   6.,   7.,   8.,   9., 102.,\n",
       "          0.,   0.,   0.,   0.,   0.,   0.,   0.,   0.])"
      ]
     },
     "execution_count": 10,
     "metadata": {},
     "output_type": "execute_result"
    }
   ],
   "source": [
    "# If there's a positive padding length\n",
    "if PADDING_LEN > 0:\n",
    "    A = torch.cat([A, torch.Tensor([0] * PADDING_LEN)])\n",
    "\n",
    "A"
   ]
  },
  {
   "cell_type": "markdown",
   "metadata": {},
   "source": [
    "### Apply The Logic"
   ]
  },
  {
   "cell_type": "code",
   "execution_count": 11,
   "metadata": {},
   "outputs": [
    {
     "data": {
      "text/html": [
       "<pre style=\"white-space:pre;overflow-x:auto;line-height:normal;font-family:Menlo,'DejaVu Sans Mono',consolas,'Courier New',monospace\"><span style=\"color: #008080; text-decoration-color: #008080; font-weight: bold\">510</span>\n",
       "</pre>\n"
      ],
      "text/plain": [
       "\u001b[1;36m510\u001b[0m\n"
      ]
     },
     "metadata": {},
     "output_type": "display_data"
    },
    {
     "data": {
      "text/html": [
       "<pre style=\"white-space:pre;overflow-x:auto;line-height:normal;font-family:Menlo,'DejaVu Sans Mono',consolas,'Courier New',monospace\"><span style=\"color: #008080; text-decoration-color: #008080; font-weight: bold\">510</span>\n",
       "</pre>\n"
      ],
      "text/plain": [
       "\u001b[1;36m510\u001b[0m\n"
      ]
     },
     "metadata": {},
     "output_type": "display_data"
    },
    {
     "data": {
      "text/html": [
       "<pre style=\"white-space:pre;overflow-x:auto;line-height:normal;font-family:Menlo,'DejaVu Sans Mono',consolas,'Courier New',monospace\"><span style=\"color: #008080; text-decoration-color: #008080; font-weight: bold\">325</span>\n",
       "</pre>\n"
      ],
      "text/plain": [
       "\u001b[1;36m325\u001b[0m\n"
      ]
     },
     "metadata": {},
     "output_type": "display_data"
    }
   ],
   "source": [
    "# Define target chunk size\n",
    "CHUNK_SIZE: int = 512\n",
    "SPECIAL_TOKEN_SIZE: int = 2\n",
    "\n",
    "# Split into chunks of 510 tokens, we also convert to list (default is tuple which is immutable)\n",
    "# Substract by two because we wanna add [CLS] and [SEP]. i.e. special tokens.\n",
    "input_id_chunks: list[int] = list(\n",
    "    tokens[\"input_ids\"][0].split(CHUNK_SIZE - SPECIAL_TOKEN_SIZE)\n",
    ")\n",
    "mask_chunks: list[int] = list(\n",
    "    tokens[\"attention_mask\"][0].split(CHUNK_SIZE - SPECIAL_TOKEN_SIZE)\n",
    ")\n",
    "\n",
    "for chunk in input_id_chunks:\n",
    "    print(len(chunk))"
   ]
  },
  {
   "cell_type": "code",
   "execution_count": 12,
   "metadata": {},
   "outputs": [
    {
     "data": {
      "text/html": [
       "<pre style=\"white-space:pre;overflow-x:auto;line-height:normal;font-family:Menlo,'DejaVu Sans Mono',consolas,'Courier New',monospace\"><span style=\"color: #008080; text-decoration-color: #008080; font-weight: bold\">512</span>\n",
       "</pre>\n"
      ],
      "text/plain": [
       "\u001b[1;36m512\u001b[0m\n"
      ]
     },
     "metadata": {},
     "output_type": "display_data"
    },
    {
     "data": {
      "text/html": [
       "<pre style=\"white-space:pre;overflow-x:auto;line-height:normal;font-family:Menlo,'DejaVu Sans Mono',consolas,'Courier New',monospace\"><span style=\"color: #008080; text-decoration-color: #008080; font-weight: bold\">512</span>\n",
       "</pre>\n"
      ],
      "text/plain": [
       "\u001b[1;36m512\u001b[0m\n"
      ]
     },
     "metadata": {},
     "output_type": "display_data"
    },
    {
     "data": {
      "text/html": [
       "<pre style=\"white-space:pre;overflow-x:auto;line-height:normal;font-family:Menlo,'DejaVu Sans Mono',consolas,'Courier New',monospace\"><span style=\"color: #008080; text-decoration-color: #008080; font-weight: bold\">512</span>\n",
       "</pre>\n"
      ],
      "text/plain": [
       "\u001b[1;36m512\u001b[0m\n"
      ]
     },
     "metadata": {},
     "output_type": "display_data"
    },
    {
     "data": {
      "text/html": [
       "<pre style=\"white-space:pre;overflow-x:auto;line-height:normal;font-family:Menlo,'DejaVu Sans Mono',consolas,'Courier New',monospace\"><span style=\"color: #800080; text-decoration-color: #800080; font-weight: bold\">tensor</span><span style=\"font-weight: bold\">([</span>  <span style=\"color: #008080; text-decoration-color: #008080; font-weight: bold\">101</span>.,  <span style=\"color: #008080; text-decoration-color: #008080; font-weight: bold\">2153</span>.,  <span style=\"color: #008080; text-decoration-color: #008080; font-weight: bold\">1010</span>.,  <span style=\"color: #008080; text-decoration-color: #008080; font-weight: bold\">1045</span>.,  <span style=\"color: #008080; text-decoration-color: #008080; font-weight: bold\">2123</span>.,  <span style=\"color: #008080; text-decoration-color: #008080; font-weight: bold\">1521</span>.,  <span style=\"color: #008080; text-decoration-color: #008080; font-weight: bold\">1056</span>.,  <span style=\"color: #008080; text-decoration-color: #008080; font-weight: bold\">2113</span>.,  <span style=\"color: #008080; text-decoration-color: #008080; font-weight: bold\">2043</span>.,\n",
       "         <span style=\"color: #008080; text-decoration-color: #008080; font-weight: bold\">1998</span>.,  <span style=\"color: #008080; text-decoration-color: #008080; font-weight: bold\">2129</span>.,  <span style=\"color: #008080; text-decoration-color: #008080; font-weight: bold\">1010</span>.,  <span style=\"color: #008080; text-decoration-color: #008080; font-weight: bold\">2021</span>.,  <span style=\"color: #008080; text-decoration-color: #008080; font-weight: bold\">1996</span>.,  <span style=\"color: #008080; text-decoration-color: #008080; font-weight: bold\">3037</span>.,  <span style=\"color: #008080; text-decoration-color: #008080; font-weight: bold\">6165</span>.,  <span style=\"color: #008080; text-decoration-color: #008080; font-weight: bold\">2031</span>.,  <span style=\"color: #008080; text-decoration-color: #008080; font-weight: bold\">2042</span>.,\n",
       "         <span style=\"color: #008080; text-decoration-color: #008080; font-weight: bold\">9561</span>.,  <span style=\"color: #008080; text-decoration-color: #008080; font-weight: bold\">7406</span>.,  <span style=\"color: #008080; text-decoration-color: #008080; font-weight: bold\">1998</span>.,  <span style=\"color: #008080; text-decoration-color: #008080; font-weight: bold\">2027</span>.,  <span style=\"color: #008080; text-decoration-color: #008080; font-weight: bold\">2323</span>.,  <span style=\"color: #008080; text-decoration-color: #008080; font-weight: bold\">2022</span>.,  <span style=\"color: #008080; text-decoration-color: #008080; font-weight: bold\">9561</span>.,  <span style=\"color: #008080; text-decoration-color: #008080; font-weight: bold\">7406</span>.,  <span style=\"color: #008080; text-decoration-color: #008080; font-weight: bold\">2582</span>.,\n",
       "         <span style=\"color: #008080; text-decoration-color: #008080; font-weight: bold\">1012</span>.,  <span style=\"color: #008080; text-decoration-color: #008080; font-weight: bold\">1524</span>.,  <span style=\"color: #008080; text-decoration-color: #008080; font-weight: bold\">1001</span>.,  <span style=\"color: #008080; text-decoration-color: #008080; font-weight: bold\">1001</span>.,  <span style=\"color: #008080; text-decoration-color: #008080; font-weight: bold\">4803</span>., <span style=\"color: #008080; text-decoration-color: #008080; font-weight: bold\">16189</span>.,  <span style=\"color: #008080; text-decoration-color: #008080; font-weight: bold\">1037</span>.,  <span style=\"color: #008080; text-decoration-color: #008080; font-weight: bold\">1520</span>.,  <span style=\"color: #008080; text-decoration-color: #008080; font-weight: bold\">3671</span>.,\n",
       "         <span style=\"color: #008080; text-decoration-color: #008080; font-weight: bold\">3444</span>.,  <span style=\"color: #008080; text-decoration-color: #008080; font-weight: bold\">1521</span>.,  <span style=\"color: #008080; text-decoration-color: #008080; font-weight: bold\">2174</span>.,  <span style=\"color: #008080; text-decoration-color: #008080; font-weight: bold\">1010</span>.,  <span style=\"color: #008080; text-decoration-color: #008080; font-weight: bold\">2025</span>.,  <span style=\"color: #008080; text-decoration-color: #008080; font-weight: bold\">2035</span>., <span style=\"color: #008080; text-decoration-color: #008080; font-weight: bold\">18288</span>.,  <span style=\"color: #008080; text-decoration-color: #008080; font-weight: bold\">2024</span>.,  <span style=\"color: #008080; text-decoration-color: #008080; font-weight: bold\">6427</span>.,\n",
       "         <span style=\"color: #008080; text-decoration-color: #008080; font-weight: bold\">2008</span>.,  <span style=\"color: #008080; text-decoration-color: #008080; font-weight: bold\">1996</span>.,  <span style=\"color: #008080; text-decoration-color: #008080; font-weight: bold\">4125</span>.,  <span style=\"color: #008080; text-decoration-color: #008080; font-weight: bold\">1999</span>.,  <span style=\"color: #008080; text-decoration-color: #008080; font-weight: bold\">5416</span>., <span style=\"color: #008080; text-decoration-color: #008080; font-weight: bold\">16189</span>.,  <span style=\"color: #008080; text-decoration-color: #008080; font-weight: bold\">2003</span>.,  <span style=\"color: #008080; text-decoration-color: #008080; font-weight: bold\">3430</span>.,  <span style=\"color: #008080; text-decoration-color: #008080; font-weight: bold\">2005</span>.,\n",
       "         <span style=\"color: #008080; text-decoration-color: #008080; font-weight: bold\">6089</span>.,  <span style=\"color: #008080; text-decoration-color: #008080; font-weight: bold\">1012</span>.,  <span style=\"color: #008080; text-decoration-color: #008080; font-weight: bold\">1999</span>.,  <span style=\"color: #008080; text-decoration-color: #008080; font-weight: bold\">1037</span>.,  <span style=\"color: #008080; text-decoration-color: #008080; font-weight: bold\">3602</span>.,  <span style=\"color: #008080; text-decoration-color: #008080; font-weight: bold\">5958</span>.,  <span style=\"color: #008080; text-decoration-color: #008080; font-weight: bold\">1010</span>., <span style=\"color: #008080; text-decoration-color: #008080; font-weight: bold\">23724</span>.,  <span style=\"color: #008080; text-decoration-color: #008080; font-weight: bold\">2015</span>.,\n",
       "         <span style=\"color: #008080; text-decoration-color: #008080; font-weight: bold\">2132</span>.,  <span style=\"color: #008080; text-decoration-color: #008080; font-weight: bold\">1997</span>.,  <span style=\"color: #008080; text-decoration-color: #008080; font-weight: bold\">2647</span>., <span style=\"color: #008080; text-decoration-color: #008080; font-weight: bold\">10067</span>.,  <span style=\"color: #008080; text-decoration-color: #008080; font-weight: bold\">5656</span>., <span style=\"color: #008080; text-decoration-color: #008080; font-weight: bold\">14459</span>.,  <span style=\"color: #008080; text-decoration-color: #008080; font-weight: bold\">6187</span>.,  <span style=\"color: #008080; text-decoration-color: #008080; font-weight: bold\">2226</span>.,  <span style=\"color: #008080; text-decoration-color: #008080; font-weight: bold\">4081</span>.,\n",
       "         <span style=\"color: #008080; text-decoration-color: #008080; font-weight: bold\">2008</span>.,  <span style=\"color: #008080; text-decoration-color: #008080; font-weight: bold\">4803</span>.,  <span style=\"color: #008080; text-decoration-color: #008080; font-weight: bold\">5416</span>., <span style=\"color: #008080; text-decoration-color: #008080; font-weight: bold\">16189</span>.,  <span style=\"color: #008080; text-decoration-color: #008080; font-weight: bold\">2020</span>.,  <span style=\"color: #008080; text-decoration-color: #008080; font-weight: bold\">2058</span>., <span style=\"color: #008080; text-decoration-color: #008080; font-weight: bold\">20041</span>.,  <span style=\"color: #008080; text-decoration-color: #008080; font-weight: bold\">1010</span>.,  <span style=\"color: #008080; text-decoration-color: #008080; font-weight: bold\">2004</span>.,\n",
       "         <span style=\"color: #008080; text-decoration-color: #008080; font-weight: bold\">2027</span>.,  <span style=\"color: #008080; text-decoration-color: #008080; font-weight: bold\">2018</span>.,  <span style=\"color: #008080; text-decoration-color: #008080; font-weight: bold\">2042</span>.,  <span style=\"color: #008080; text-decoration-color: #008080; font-weight: bold\">2474</span>., <span style=\"color: #008080; text-decoration-color: #008080; font-weight: bold\">12588</span>.,  <span style=\"color: #008080; text-decoration-color: #008080; font-weight: bold\">1996</span>.,  <span style=\"color: #008080; text-decoration-color: #008080; font-weight: bold\">9229</span>., <span style=\"color: #008080; text-decoration-color: #008080; font-weight: bold\">26632</span>., <span style=\"color: #008080; text-decoration-color: #008080; font-weight: bold\">23035</span>.,\n",
       "        <span style=\"color: #008080; text-decoration-color: #008080; font-weight: bold\">17680</span>.,  <span style=\"color: #008080; text-decoration-color: #008080; font-weight: bold\">2005</span>.,  <span style=\"color: #008080; text-decoration-color: #008080; font-weight: bold\">1996</span>.,  <span style=\"color: #008080; text-decoration-color: #008080; font-weight: bold\">2117</span>.,  <span style=\"color: #008080; text-decoration-color: #008080; font-weight: bold\">2431</span>.,  <span style=\"color: #008080; text-decoration-color: #008080; font-weight: bold\">1997</span>., <span style=\"color: #008080; text-decoration-color: #008080; font-weight: bold\">25682</span>.,  <span style=\"color: #008080; text-decoration-color: #008080; font-weight: bold\">1010</span>.,  <span style=\"color: #008080; text-decoration-color: #008080; font-weight: bold\">1998</span>.,\n",
       "         <span style=\"color: #008080; text-decoration-color: #008080; font-weight: bold\">2056</span>.,  <span style=\"color: #008080; text-decoration-color: #008080; font-weight: bold\">2027</span>.,  <span style=\"color: #008080; text-decoration-color: #008080; font-weight: bold\">2020</span>.,  <span style=\"color: #008080; text-decoration-color: #008080; font-weight: bold\">1037</span>.,  <span style=\"color: #008080; text-decoration-color: #008080; font-weight: bold\">1523</span>.,  <span style=\"color: #008080; text-decoration-color: #008080; font-weight: bold\">3671</span>.,  <span style=\"color: #008080; text-decoration-color: #008080; font-weight: bold\">3444</span>.,  <span style=\"color: #008080; text-decoration-color: #008080; font-weight: bold\">1524</span>.,  <span style=\"color: #008080; text-decoration-color: #008080; font-weight: bold\">1997</span>.,\n",
       "         <span style=\"color: #008080; text-decoration-color: #008080; font-weight: bold\">3171</span>.,  <span style=\"color: #008080; text-decoration-color: #008080; font-weight: bold\">7233</span>.,  <span style=\"color: #008080; text-decoration-color: #008080; font-weight: bold\">1012</span>.,  <span style=\"color: #008080; text-decoration-color: #008080; font-weight: bold\">1523</span>.,  <span style=\"color: #008080; text-decoration-color: #008080; font-weight: bold\">2007</span>.,  <span style=\"color: #008080; text-decoration-color: #008080; font-weight: bold\">1996</span>.,  <span style=\"color: #008080; text-decoration-color: #008080; font-weight: bold\">3145</span>.,  <span style=\"color: #008080; text-decoration-color: #008080; font-weight: bold\">6853</span>.,  <span style=\"color: #008080; text-decoration-color: #008080; font-weight: bold\">1997</span>.,\n",
       "        <span style=\"color: #008080; text-decoration-color: #008080; font-weight: bold\">14200</span>.,  <span style=\"color: #008080; text-decoration-color: #008080; font-weight: bold\">7302</span>.,  <span style=\"color: #008080; text-decoration-color: #008080; font-weight: bold\">2039</span>.,  <span style=\"color: #008080; text-decoration-color: #008080; font-weight: bold\">1010</span>.,  <span style=\"color: #008080; text-decoration-color: #008080; font-weight: bold\">1996</span>.,  <span style=\"color: #008080; text-decoration-color: #008080; font-weight: bold\">9824</span>.,  <span style=\"color: #008080; text-decoration-color: #008080; font-weight: bold\">1997</span>.,  <span style=\"color: #008080; text-decoration-color: #008080; font-weight: bold\">2130</span>.,  <span style=\"color: #008080; text-decoration-color: #008080; font-weight: bold\">2062</span>.,\n",
       "        <span style=\"color: #008080; text-decoration-color: #008080; font-weight: bold\">10807</span>., <span style=\"color: #008080; text-decoration-color: #008080; font-weight: bold\">19220</span>.,  <span style=\"color: #008080; text-decoration-color: #008080; font-weight: bold\">1999</span>.,  <span style=\"color: #008080; text-decoration-color: #008080; font-weight: bold\">1996</span>.,  <span style=\"color: #008080; text-decoration-color: #008080; font-weight: bold\">1057</span>.,  <span style=\"color: #008080; text-decoration-color: #008080; font-weight: bold\">1012</span>.,  <span style=\"color: #008080; text-decoration-color: #008080; font-weight: bold\">1055</span>.,  <span style=\"color: #008080; text-decoration-color: #008080; font-weight: bold\">1012</span>.,  <span style=\"color: #008080; text-decoration-color: #008080; font-weight: bold\">1998</span>.,\n",
       "         <span style=\"color: #008080; text-decoration-color: #008080; font-weight: bold\">7279</span>.,  <span style=\"color: #008080; text-decoration-color: #008080; font-weight: bold\">2102</span>.,  <span style=\"color: #008080; text-decoration-color: #008080; font-weight: bold\">2039</span>.,  <span style=\"color: #008080; text-decoration-color: #008080; font-weight: bold\">5157</span>., <span style=\"color: #008080; text-decoration-color: #008080; font-weight: bold\">15801</span>.,  <span style=\"color: #008080; text-decoration-color: #008080; font-weight: bold\">2011</span>.,  <span style=\"color: #008080; text-decoration-color: #008080; font-weight: bold\">2152</span>.,  <span style=\"color: #008080; text-decoration-color: #008080; font-weight: bold\">9987</span>., <span style=\"color: #008080; text-decoration-color: #008080; font-weight: bold\">10995</span>.,\n",
       "         <span style=\"color: #008080; text-decoration-color: #008080; font-weight: bold\">1010</span>.,  <span style=\"color: #008080; text-decoration-color: #008080; font-weight: bold\">2009</span>.,  <span style=\"color: #008080; text-decoration-color: #008080; font-weight: bold\">3849</span>.,  <span style=\"color: #008080; text-decoration-color: #008080; font-weight: bold\">2157</span>.,  <span style=\"color: #008080; text-decoration-color: #008080; font-weight: bold\">2005</span>.,  <span style=\"color: #008080; text-decoration-color: #008080; font-weight: bold\">5416</span>., <span style=\"color: #008080; text-decoration-color: #008080; font-weight: bold\">16189</span>.,  <span style=\"color: #008080; text-decoration-color: #008080; font-weight: bold\">2000</span>.,  <span style=\"color: #008080; text-decoration-color: #008080; font-weight: bold\">4608</span>.,\n",
       "         <span style=\"color: #008080; text-decoration-color: #008080; font-weight: bold\">1011</span>.,  <span style=\"color: #008080; text-decoration-color: #008080; font-weight: bold\">2039</span>.,  <span style=\"color: #008080; text-decoration-color: #008080; font-weight: bold\">2007</span>.,  <span style=\"color: #008080; text-decoration-color: #008080; font-weight: bold\">2060</span>.,  <span style=\"color: #008080; text-decoration-color: #008080; font-weight: bold\">2062</span>.,  <span style=\"color: #008080; text-decoration-color: #008080; font-weight: bold\">3935</span>., <span style=\"color: #008080; text-decoration-color: #008080; font-weight: bold\">25416</span>., <span style=\"color: #008080; text-decoration-color: #008080; font-weight: bold\">13490</span>., <span style=\"color: #008080; text-decoration-color: #008080; font-weight: bold\">14279</span>.,\n",
       "         <span style=\"color: #008080; text-decoration-color: #008080; font-weight: bold\">1010</span>.,  <span style=\"color: #008080; text-decoration-color: #008080; font-weight: bold\">1524</span>.,  <span style=\"color: #008080; text-decoration-color: #008080; font-weight: bold\">6187</span>.,  <span style=\"color: #008080; text-decoration-color: #008080; font-weight: bold\">2226</span>.,  <span style=\"color: #008080; text-decoration-color: #008080; font-weight: bold\">2056</span>.,  <span style=\"color: #008080; text-decoration-color: #008080; font-weight: bold\">1010</span>.,  <span style=\"color: #008080; text-decoration-color: #008080; font-weight: bold\">5815</span>.,  <span style=\"color: #008080; text-decoration-color: #008080; font-weight: bold\">2008</span>.,  <span style=\"color: #008080; text-decoration-color: #008080; font-weight: bold\">2430</span>.,\n",
       "         <span style=\"color: #008080; text-decoration-color: #008080; font-weight: bold\">5085</span>.,  <span style=\"color: #008080; text-decoration-color: #008080; font-weight: bold\">3961</span>.,  <span style=\"color: #008080; text-decoration-color: #008080; font-weight: bold\">1523</span>.,  <span style=\"color: #008080; text-decoration-color: #008080; font-weight: bold\">7933</span>.,  <span style=\"color: #008080; text-decoration-color: #008080; font-weight: bold\">2006</span>.,  <span style=\"color: #008080; text-decoration-color: #008080; font-weight: bold\">2907</span>.,  <span style=\"color: #008080; text-decoration-color: #008080; font-weight: bold\">1524</span>.,  <span style=\"color: #008080; text-decoration-color: #008080; font-weight: bold\">2445</span>.,  <span style=\"color: #008080; text-decoration-color: #008080; font-weight: bold\">1996</span>.,\n",
       "         <span style=\"color: #008080; text-decoration-color: #008080; font-weight: bold\">5703</span>.,  <span style=\"color: #008080; text-decoration-color: #008080; font-weight: bold\">1997</span>., <span style=\"color: #008080; text-decoration-color: #008080; font-weight: bold\">10831</span>.,  <span style=\"color: #008080; text-decoration-color: #008080; font-weight: bold\">1012</span>.,  <span style=\"color: #008080; text-decoration-color: #008080; font-weight: bold\">2002</span>.,  <span style=\"color: #008080; text-decoration-color: #008080; font-weight: bold\">5275</span>.,  <span style=\"color: #008080; text-decoration-color: #008080; font-weight: bold\">2008</span>.,  <span style=\"color: #008080; text-decoration-color: #008080; font-weight: bold\">1996</span>.,  <span style=\"color: #008080; text-decoration-color: #008080; font-weight: bold\">9561</span>.,\n",
       "         <span style=\"color: #008080; text-decoration-color: #008080; font-weight: bold\">7406</span>., <span style=\"color: #008080; text-decoration-color: #008080; font-weight: bold\">10750</span>.,  <span style=\"color: #008080; text-decoration-color: #008080; font-weight: bold\">7774</span>.,  <span style=\"color: #008080; text-decoration-color: #008080; font-weight: bold\">2003</span>.,  <span style=\"color: #008080; text-decoration-color: #008080; font-weight: bold\">1523</span>.,  <span style=\"color: #008080; text-decoration-color: #008080; font-weight: bold\">5171</span>.,  <span style=\"color: #008080; text-decoration-color: #008080; font-weight: bold\">2012</span>.,  <span style=\"color: #008080; text-decoration-color: #008080; font-weight: bold\">1996</span>.,  <span style=\"color: #008080; text-decoration-color: #008080; font-weight: bold\">2220</span>.,\n",
       "         <span style=\"color: #008080; text-decoration-color: #008080; font-weight: bold\">5711</span>.,  <span style=\"color: #008080; text-decoration-color: #008080; font-weight: bold\">1997</span>.,  <span style=\"color: #008080; text-decoration-color: #008080; font-weight: bold\">1996</span>.,  <span style=\"color: #008080; text-decoration-color: #008080; font-weight: bold\">5402</span>.,  <span style=\"color: #008080; text-decoration-color: #008080; font-weight: bold\">1010</span>.,  <span style=\"color: #008080; text-decoration-color: #008080; font-weight: bold\">1524</span>.,  <span style=\"color: #008080; text-decoration-color: #008080; font-weight: bold\">1998</span>.,  <span style=\"color: #008080; text-decoration-color: #008080; font-weight: bold\">2008</span>.,  <span style=\"color: #008080; text-decoration-color: #008080; font-weight: bold\">2061</span>.,\n",
       "         <span style=\"color: #008080; text-decoration-color: #008080; font-weight: bold\">2146</span>.,  <span style=\"color: #008080; text-decoration-color: #008080; font-weight: bold\">2004</span>., <span style=\"color: #008080; text-decoration-color: #008080; font-weight: bold\">17404</span>.,  <span style=\"color: #008080; text-decoration-color: #008080; font-weight: bold\">4897</span>., <span style=\"color: #008080; text-decoration-color: #008080; font-weight: bold\">12166</span>.,  <span style=\"color: #008080; text-decoration-color: #008080; font-weight: bold\">2024</span>.,  <span style=\"color: #008080; text-decoration-color: #008080; font-weight: bold\">3144</span>.,  <span style=\"color: #008080; text-decoration-color: #008080; font-weight: bold\">1010</span>.,  <span style=\"color: #008080; text-decoration-color: #008080; font-weight: bold\">3930</span>.,\n",
       "         <span style=\"color: #008080; text-decoration-color: #008080; font-weight: bold\">4247</span>.,  <span style=\"color: #008080; text-decoration-color: #008080; font-weight: bold\">2000</span>., <span style=\"color: #008080; text-decoration-color: #008080; font-weight: bold\">16356</span>., <span style=\"color: #008080; text-decoration-color: #008080; font-weight: bold\">10745</span>.,  <span style=\"color: #008080; text-decoration-color: #008080; font-weight: bold\">1998</span>.,  <span style=\"color: #008080; text-decoration-color: #008080; font-weight: bold\">2430</span>.,  <span style=\"color: #008080; text-decoration-color: #008080; font-weight: bold\">5085</span>.,  <span style=\"color: #008080; text-decoration-color: #008080; font-weight: bold\">3961</span>., <span style=\"color: #008080; text-decoration-color: #008080; font-weight: bold\">17145</span>.,\n",
       "         <span style=\"color: #008080; text-decoration-color: #008080; font-weight: bold\">1010</span>., <span style=\"color: #008080; text-decoration-color: #008080; font-weight: bold\">25416</span>., <span style=\"color: #008080; text-decoration-color: #008080; font-weight: bold\">13490</span>.,  <span style=\"color: #008080; text-decoration-color: #008080; font-weight: bold\">5649</span>.,  <span style=\"color: #008080; text-decoration-color: #008080; font-weight: bold\">5829</span>.,  <span style=\"color: #008080; text-decoration-color: #008080; font-weight: bold\">2408</span>., <span style=\"color: #008080; text-decoration-color: #008080; font-weight: bold\">11412</span>.,  <span style=\"color: #008080; text-decoration-color: #008080; font-weight: bold\">4280</span>.,  <span style=\"color: #008080; text-decoration-color: #008080; font-weight: bold\">2298</span>.,\n",
       "         <span style=\"color: #008080; text-decoration-color: #008080; font-weight: bold\">1523</span>., <span style=\"color: #008080; text-decoration-color: #008080; font-weight: bold\">15123</span>.,  <span style=\"color: #008080; text-decoration-color: #008080; font-weight: bold\">1524</span>.,  <span style=\"color: #008080; text-decoration-color: #008080; font-weight: bold\">1998</span>.,  <span style=\"color: #008080; text-decoration-color: #008080; font-weight: bold\">1041</span>., <span style=\"color: #008080; text-decoration-color: #008080; font-weight: bold\">15549</span>.,  <span style=\"color: #008080; text-decoration-color: #008080; font-weight: bold\">7368</span>.,  <span style=\"color: #008080; text-decoration-color: #008080; font-weight: bold\">2323</span>.,  <span style=\"color: #008080; text-decoration-color: #008080; font-weight: bold\">2022</span>.,\n",
       "         <span style=\"color: #008080; text-decoration-color: #008080; font-weight: bold\">2583</span>.,  <span style=\"color: #008080; text-decoration-color: #008080; font-weight: bold\">2000</span>., <span style=\"color: #008080; text-decoration-color: #008080; font-weight: bold\">19319</span>.,  <span style=\"color: #008080; text-decoration-color: #008080; font-weight: bold\">3020</span>.,  <span style=\"color: #008080; text-decoration-color: #008080; font-weight: bold\">6165</span>.,  <span style=\"color: #008080; text-decoration-color: #008080; font-weight: bold\">1012</span>.,  <span style=\"color: #008080; text-decoration-color: #008080; font-weight: bold\">1523</span>.,  <span style=\"color: #008080; text-decoration-color: #008080; font-weight: bold\">1997</span>.,  <span style=\"color: #008080; text-decoration-color: #008080; font-weight: bold\">2607</span>.,\n",
       "         <span style=\"color: #008080; text-decoration-color: #008080; font-weight: bold\">1010</span>.,  <span style=\"color: #008080; text-decoration-color: #008080; font-weight: bold\">2044</span>.,  <span style=\"color: #008080; text-decoration-color: #008080; font-weight: bold\">1996</span>.,  <span style=\"color: #008080; text-decoration-color: #008080; font-weight: bold\">2844</span>.,  <span style=\"color: #008080; text-decoration-color: #008080; font-weight: bold\">2693</span>.,  <span style=\"color: #008080; text-decoration-color: #008080; font-weight: bold\">1997</span>.,  <span style=\"color: #008080; text-decoration-color: #008080; font-weight: bold\">1996</span>.,  <span style=\"color: #008080; text-decoration-color: #008080; font-weight: bold\">2197</span>.,  <span style=\"color: #008080; text-decoration-color: #008080; font-weight: bold\">2261</span>.,\n",
       "         <span style=\"color: #008080; text-decoration-color: #008080; font-weight: bold\">3134</span>.,  <span style=\"color: #008080; text-decoration-color: #008080; font-weight: bold\">1010</span>.,  <span style=\"color: #008080; text-decoration-color: #008080; font-weight: bold\">1041</span>., <span style=\"color: #008080; text-decoration-color: #008080; font-weight: bold\">15549</span>.,  <span style=\"color: #008080; text-decoration-color: #008080; font-weight: bold\">7368</span>.,  <span style=\"color: #008080; text-decoration-color: #008080; font-weight: bold\">2071</span>.,  <span style=\"color: #008080; text-decoration-color: #008080; font-weight: bold\">2928</span>.,  <span style=\"color: #008080; text-decoration-color: #008080; font-weight: bold\">1037</span>.,  <span style=\"color: #008080; text-decoration-color: #008080; font-weight: bold\">8724</span>.,\n",
       "         <span style=\"color: #008080; text-decoration-color: #008080; font-weight: bold\">2004</span>.,  <span style=\"color: #008080; text-decoration-color: #008080; font-weight: bold\">2116</span>., <span style=\"color: #008080; text-decoration-color: #008080; font-weight: bold\">11105</span>.,  <span style=\"color: #008080; text-decoration-color: #008080; font-weight: bold\">2008</span>.,  <span style=\"color: #008080; text-decoration-color: #008080; font-weight: bold\">2031</span>., <span style=\"color: #008080; text-decoration-color: #008080; font-weight: bold\">24356</span>.,  <span style=\"color: #008080; text-decoration-color: #008080; font-weight: bold\">2007</span>., <span style=\"color: #008080; text-decoration-color: #008080; font-weight: bold\">16189</span>.,  <span style=\"color: #008080; text-decoration-color: #008080; font-weight: bold\">2298</span>.,\n",
       "         <span style=\"color: #008080; text-decoration-color: #008080; font-weight: bold\">2058</span>.,  <span style=\"color: #008080; text-decoration-color: #008080; font-weight: bold\">5092</span>., <span style=\"color: #008080; text-decoration-color: #008080; font-weight: bold\">18533</span>.,  <span style=\"color: #008080; text-decoration-color: #008080; font-weight: bold\">1010</span>.,  <span style=\"color: #008080; text-decoration-color: #008080; font-weight: bold\">2066</span>., <span style=\"color: #008080; text-decoration-color: #008080; font-weight: bold\">21955</span>.,  <span style=\"color: #008080; text-decoration-color: #008080; font-weight: bold\">1998</span>.,  <span style=\"color: #008080; text-decoration-color: #008080; font-weight: bold\">5085</span>.,  <span style=\"color: #008080; text-decoration-color: #008080; font-weight: bold\">1010</span>.,\n",
       "         <span style=\"color: #008080; text-decoration-color: #008080; font-weight: bold\">1524</span>.,  <span style=\"color: #008080; text-decoration-color: #008080; font-weight: bold\">6187</span>.,  <span style=\"color: #008080; text-decoration-color: #008080; font-weight: bold\">2226</span>.,  <span style=\"color: #008080; text-decoration-color: #008080; font-weight: bold\">2056</span>.,  <span style=\"color: #008080; text-decoration-color: #008080; font-weight: bold\">1012</span>.,  <span style=\"color: #008080; text-decoration-color: #008080; font-weight: bold\">1523</span>.,  <span style=\"color: #008080; text-decoration-color: #008080; font-weight: bold\">2021</span>.,  <span style=\"color: #008080; text-decoration-color: #008080; font-weight: bold\">2012</span>.,  <span style=\"color: #008080; text-decoration-color: #008080; font-weight: bold\">2023</span>.,\n",
       "         <span style=\"color: #008080; text-decoration-color: #008080; font-weight: bold\">2754</span>.,  <span style=\"color: #008080; text-decoration-color: #008080; font-weight: bold\">1010</span>.,  <span style=\"color: #008080; text-decoration-color: #008080; font-weight: bold\">2057</span>.,  <span style=\"color: #008080; text-decoration-color: #008080; font-weight: bold\">2228</span>.,  <span style=\"color: #008080; text-decoration-color: #008080; font-weight: bold\">4803</span>., <span style=\"color: #008080; text-decoration-color: #008080; font-weight: bold\">16189</span>.,  <span style=\"color: #008080; text-decoration-color: #008080; font-weight: bold\">2024</span>.,  <span style=\"color: #008080; text-decoration-color: #008080; font-weight: bold\">2062</span>.,  <span style=\"color: #008080; text-decoration-color: #008080; font-weight: bold\">1037</span>.,\n",
       "        <span style=\"color: #008080; text-decoration-color: #008080; font-weight: bold\">13964</span>.,  <span style=\"color: #008080; text-decoration-color: #008080; font-weight: bold\">1997</span>.,  <span style=\"color: #008080; text-decoration-color: #008080; font-weight: bold\">1996</span>., <span style=\"color: #008080; text-decoration-color: #008080; font-weight: bold\">10067</span>.,  <span style=\"color: #008080; text-decoration-color: #008080; font-weight: bold\">7087</span>.,  <span style=\"color: #008080; text-decoration-color: #008080; font-weight: bold\">3006</span>.,  <span style=\"color: #008080; text-decoration-color: #008080; font-weight: bold\">2084</span>.,  <span style=\"color: #008080; text-decoration-color: #008080; font-weight: bold\">1037</span>.,  <span style=\"color: #008080; text-decoration-color: #008080; font-weight: bold\">5081</span>.,\n",
       "         <span style=\"color: #008080; text-decoration-color: #008080; font-weight: bold\">1010</span>.,  <span style=\"color: #008080; text-decoration-color: #008080; font-weight: bold\">2061</span>., <span style=\"color: #008080; text-decoration-color: #008080; font-weight: bold\">16510</span>.,  <span style=\"color: #008080; text-decoration-color: #008080; font-weight: bold\">2015</span>.,  <span style=\"color: #008080; text-decoration-color: #008080; font-weight: bold\">2323</span>.,  <span style=\"color: #008080; text-decoration-color: #008080; font-weight: bold\">3613</span>.,  <span style=\"color: #008080; text-decoration-color: #008080; font-weight: bold\">2000</span>.,  <span style=\"color: #008080; text-decoration-color: #008080; font-weight: bold\">2022</span>.,  <span style=\"color: #008080; text-decoration-color: #008080; font-weight: bold\">4149</span>.,\n",
       "         <span style=\"color: #008080; text-decoration-color: #008080; font-weight: bold\">1012</span>.,  <span style=\"color: #008080; text-decoration-color: #008080; font-weight: bold\">1524</span>.,   <span style=\"color: #008080; text-decoration-color: #008080; font-weight: bold\">102</span>.,     <span style=\"color: #008080; text-decoration-color: #008080; font-weight: bold\">0</span>.,     <span style=\"color: #008080; text-decoration-color: #008080; font-weight: bold\">0</span>.,     <span style=\"color: #008080; text-decoration-color: #008080; font-weight: bold\">0</span>.,     <span style=\"color: #008080; text-decoration-color: #008080; font-weight: bold\">0</span>.,     <span style=\"color: #008080; text-decoration-color: #008080; font-weight: bold\">0</span>.,     <span style=\"color: #008080; text-decoration-color: #008080; font-weight: bold\">0</span>.,\n",
       "            <span style=\"color: #008080; text-decoration-color: #008080; font-weight: bold\">0</span>.,     <span style=\"color: #008080; text-decoration-color: #008080; font-weight: bold\">0</span>.,     <span style=\"color: #008080; text-decoration-color: #008080; font-weight: bold\">0</span>.,     <span style=\"color: #008080; text-decoration-color: #008080; font-weight: bold\">0</span>.,     <span style=\"color: #008080; text-decoration-color: #008080; font-weight: bold\">0</span>.,     <span style=\"color: #008080; text-decoration-color: #008080; font-weight: bold\">0</span>.,     <span style=\"color: #008080; text-decoration-color: #008080; font-weight: bold\">0</span>.,     <span style=\"color: #008080; text-decoration-color: #008080; font-weight: bold\">0</span>.,     <span style=\"color: #008080; text-decoration-color: #008080; font-weight: bold\">0</span>.,\n",
       "            <span style=\"color: #008080; text-decoration-color: #008080; font-weight: bold\">0</span>.,     <span style=\"color: #008080; text-decoration-color: #008080; font-weight: bold\">0</span>.,     <span style=\"color: #008080; text-decoration-color: #008080; font-weight: bold\">0</span>.,     <span style=\"color: #008080; text-decoration-color: #008080; font-weight: bold\">0</span>.,     <span style=\"color: #008080; text-decoration-color: #008080; font-weight: bold\">0</span>.,     <span style=\"color: #008080; text-decoration-color: #008080; font-weight: bold\">0</span>.,     <span style=\"color: #008080; text-decoration-color: #008080; font-weight: bold\">0</span>.,     <span style=\"color: #008080; text-decoration-color: #008080; font-weight: bold\">0</span>.,     <span style=\"color: #008080; text-decoration-color: #008080; font-weight: bold\">0</span>.,\n",
       "            <span style=\"color: #008080; text-decoration-color: #008080; font-weight: bold\">0</span>.,     <span style=\"color: #008080; text-decoration-color: #008080; font-weight: bold\">0</span>.,     <span style=\"color: #008080; text-decoration-color: #008080; font-weight: bold\">0</span>.,     <span style=\"color: #008080; text-decoration-color: #008080; font-weight: bold\">0</span>.,     <span style=\"color: #008080; text-decoration-color: #008080; font-weight: bold\">0</span>.,     <span style=\"color: #008080; text-decoration-color: #008080; font-weight: bold\">0</span>.,     <span style=\"color: #008080; text-decoration-color: #008080; font-weight: bold\">0</span>.,     <span style=\"color: #008080; text-decoration-color: #008080; font-weight: bold\">0</span>.,     <span style=\"color: #008080; text-decoration-color: #008080; font-weight: bold\">0</span>.,\n",
       "            <span style=\"color: #008080; text-decoration-color: #008080; font-weight: bold\">0</span>.,     <span style=\"color: #008080; text-decoration-color: #008080; font-weight: bold\">0</span>.,     <span style=\"color: #008080; text-decoration-color: #008080; font-weight: bold\">0</span>.,     <span style=\"color: #008080; text-decoration-color: #008080; font-weight: bold\">0</span>.,     <span style=\"color: #008080; text-decoration-color: #008080; font-weight: bold\">0</span>.,     <span style=\"color: #008080; text-decoration-color: #008080; font-weight: bold\">0</span>.,     <span style=\"color: #008080; text-decoration-color: #008080; font-weight: bold\">0</span>.,     <span style=\"color: #008080; text-decoration-color: #008080; font-weight: bold\">0</span>.,     <span style=\"color: #008080; text-decoration-color: #008080; font-weight: bold\">0</span>.,\n",
       "            <span style=\"color: #008080; text-decoration-color: #008080; font-weight: bold\">0</span>.,     <span style=\"color: #008080; text-decoration-color: #008080; font-weight: bold\">0</span>.,     <span style=\"color: #008080; text-decoration-color: #008080; font-weight: bold\">0</span>.,     <span style=\"color: #008080; text-decoration-color: #008080; font-weight: bold\">0</span>.,     <span style=\"color: #008080; text-decoration-color: #008080; font-weight: bold\">0</span>.,     <span style=\"color: #008080; text-decoration-color: #008080; font-weight: bold\">0</span>.,     <span style=\"color: #008080; text-decoration-color: #008080; font-weight: bold\">0</span>.,     <span style=\"color: #008080; text-decoration-color: #008080; font-weight: bold\">0</span>.,     <span style=\"color: #008080; text-decoration-color: #008080; font-weight: bold\">0</span>.,\n",
       "            <span style=\"color: #008080; text-decoration-color: #008080; font-weight: bold\">0</span>.,     <span style=\"color: #008080; text-decoration-color: #008080; font-weight: bold\">0</span>.,     <span style=\"color: #008080; text-decoration-color: #008080; font-weight: bold\">0</span>.,     <span style=\"color: #008080; text-decoration-color: #008080; font-weight: bold\">0</span>.,     <span style=\"color: #008080; text-decoration-color: #008080; font-weight: bold\">0</span>.,     <span style=\"color: #008080; text-decoration-color: #008080; font-weight: bold\">0</span>.,     <span style=\"color: #008080; text-decoration-color: #008080; font-weight: bold\">0</span>.,     <span style=\"color: #008080; text-decoration-color: #008080; font-weight: bold\">0</span>.,     <span style=\"color: #008080; text-decoration-color: #008080; font-weight: bold\">0</span>.,\n",
       "            <span style=\"color: #008080; text-decoration-color: #008080; font-weight: bold\">0</span>.,     <span style=\"color: #008080; text-decoration-color: #008080; font-weight: bold\">0</span>.,     <span style=\"color: #008080; text-decoration-color: #008080; font-weight: bold\">0</span>.,     <span style=\"color: #008080; text-decoration-color: #008080; font-weight: bold\">0</span>.,     <span style=\"color: #008080; text-decoration-color: #008080; font-weight: bold\">0</span>.,     <span style=\"color: #008080; text-decoration-color: #008080; font-weight: bold\">0</span>.,     <span style=\"color: #008080; text-decoration-color: #008080; font-weight: bold\">0</span>.,     <span style=\"color: #008080; text-decoration-color: #008080; font-weight: bold\">0</span>.,     <span style=\"color: #008080; text-decoration-color: #008080; font-weight: bold\">0</span>.,\n",
       "            <span style=\"color: #008080; text-decoration-color: #008080; font-weight: bold\">0</span>.,     <span style=\"color: #008080; text-decoration-color: #008080; font-weight: bold\">0</span>.,     <span style=\"color: #008080; text-decoration-color: #008080; font-weight: bold\">0</span>.,     <span style=\"color: #008080; text-decoration-color: #008080; font-weight: bold\">0</span>.,     <span style=\"color: #008080; text-decoration-color: #008080; font-weight: bold\">0</span>.,     <span style=\"color: #008080; text-decoration-color: #008080; font-weight: bold\">0</span>.,     <span style=\"color: #008080; text-decoration-color: #008080; font-weight: bold\">0</span>.,     <span style=\"color: #008080; text-decoration-color: #008080; font-weight: bold\">0</span>.,     <span style=\"color: #008080; text-decoration-color: #008080; font-weight: bold\">0</span>.,\n",
       "            <span style=\"color: #008080; text-decoration-color: #008080; font-weight: bold\">0</span>.,     <span style=\"color: #008080; text-decoration-color: #008080; font-weight: bold\">0</span>.,     <span style=\"color: #008080; text-decoration-color: #008080; font-weight: bold\">0</span>.,     <span style=\"color: #008080; text-decoration-color: #008080; font-weight: bold\">0</span>.,     <span style=\"color: #008080; text-decoration-color: #008080; font-weight: bold\">0</span>.,     <span style=\"color: #008080; text-decoration-color: #008080; font-weight: bold\">0</span>.,     <span style=\"color: #008080; text-decoration-color: #008080; font-weight: bold\">0</span>.,     <span style=\"color: #008080; text-decoration-color: #008080; font-weight: bold\">0</span>.,     <span style=\"color: #008080; text-decoration-color: #008080; font-weight: bold\">0</span>.,\n",
       "            <span style=\"color: #008080; text-decoration-color: #008080; font-weight: bold\">0</span>.,     <span style=\"color: #008080; text-decoration-color: #008080; font-weight: bold\">0</span>.,     <span style=\"color: #008080; text-decoration-color: #008080; font-weight: bold\">0</span>.,     <span style=\"color: #008080; text-decoration-color: #008080; font-weight: bold\">0</span>.,     <span style=\"color: #008080; text-decoration-color: #008080; font-weight: bold\">0</span>.,     <span style=\"color: #008080; text-decoration-color: #008080; font-weight: bold\">0</span>.,     <span style=\"color: #008080; text-decoration-color: #008080; font-weight: bold\">0</span>.,     <span style=\"color: #008080; text-decoration-color: #008080; font-weight: bold\">0</span>.,     <span style=\"color: #008080; text-decoration-color: #008080; font-weight: bold\">0</span>.,\n",
       "            <span style=\"color: #008080; text-decoration-color: #008080; font-weight: bold\">0</span>.,     <span style=\"color: #008080; text-decoration-color: #008080; font-weight: bold\">0</span>.,     <span style=\"color: #008080; text-decoration-color: #008080; font-weight: bold\">0</span>.,     <span style=\"color: #008080; text-decoration-color: #008080; font-weight: bold\">0</span>.,     <span style=\"color: #008080; text-decoration-color: #008080; font-weight: bold\">0</span>.,     <span style=\"color: #008080; text-decoration-color: #008080; font-weight: bold\">0</span>.,     <span style=\"color: #008080; text-decoration-color: #008080; font-weight: bold\">0</span>.,     <span style=\"color: #008080; text-decoration-color: #008080; font-weight: bold\">0</span>.,     <span style=\"color: #008080; text-decoration-color: #008080; font-weight: bold\">0</span>.,\n",
       "            <span style=\"color: #008080; text-decoration-color: #008080; font-weight: bold\">0</span>.,     <span style=\"color: #008080; text-decoration-color: #008080; font-weight: bold\">0</span>.,     <span style=\"color: #008080; text-decoration-color: #008080; font-weight: bold\">0</span>.,     <span style=\"color: #008080; text-decoration-color: #008080; font-weight: bold\">0</span>.,     <span style=\"color: #008080; text-decoration-color: #008080; font-weight: bold\">0</span>.,     <span style=\"color: #008080; text-decoration-color: #008080; font-weight: bold\">0</span>.,     <span style=\"color: #008080; text-decoration-color: #008080; font-weight: bold\">0</span>.,     <span style=\"color: #008080; text-decoration-color: #008080; font-weight: bold\">0</span>.,     <span style=\"color: #008080; text-decoration-color: #008080; font-weight: bold\">0</span>.,\n",
       "            <span style=\"color: #008080; text-decoration-color: #008080; font-weight: bold\">0</span>.,     <span style=\"color: #008080; text-decoration-color: #008080; font-weight: bold\">0</span>.,     <span style=\"color: #008080; text-decoration-color: #008080; font-weight: bold\">0</span>.,     <span style=\"color: #008080; text-decoration-color: #008080; font-weight: bold\">0</span>.,     <span style=\"color: #008080; text-decoration-color: #008080; font-weight: bold\">0</span>.,     <span style=\"color: #008080; text-decoration-color: #008080; font-weight: bold\">0</span>.,     <span style=\"color: #008080; text-decoration-color: #008080; font-weight: bold\">0</span>.,     <span style=\"color: #008080; text-decoration-color: #008080; font-weight: bold\">0</span>.,     <span style=\"color: #008080; text-decoration-color: #008080; font-weight: bold\">0</span>.,\n",
       "            <span style=\"color: #008080; text-decoration-color: #008080; font-weight: bold\">0</span>.,     <span style=\"color: #008080; text-decoration-color: #008080; font-weight: bold\">0</span>.,     <span style=\"color: #008080; text-decoration-color: #008080; font-weight: bold\">0</span>.,     <span style=\"color: #008080; text-decoration-color: #008080; font-weight: bold\">0</span>.,     <span style=\"color: #008080; text-decoration-color: #008080; font-weight: bold\">0</span>.,     <span style=\"color: #008080; text-decoration-color: #008080; font-weight: bold\">0</span>.,     <span style=\"color: #008080; text-decoration-color: #008080; font-weight: bold\">0</span>.,     <span style=\"color: #008080; text-decoration-color: #008080; font-weight: bold\">0</span>.,     <span style=\"color: #008080; text-decoration-color: #008080; font-weight: bold\">0</span>.,\n",
       "            <span style=\"color: #008080; text-decoration-color: #008080; font-weight: bold\">0</span>.,     <span style=\"color: #008080; text-decoration-color: #008080; font-weight: bold\">0</span>.,     <span style=\"color: #008080; text-decoration-color: #008080; font-weight: bold\">0</span>.,     <span style=\"color: #008080; text-decoration-color: #008080; font-weight: bold\">0</span>.,     <span style=\"color: #008080; text-decoration-color: #008080; font-weight: bold\">0</span>.,     <span style=\"color: #008080; text-decoration-color: #008080; font-weight: bold\">0</span>.,     <span style=\"color: #008080; text-decoration-color: #008080; font-weight: bold\">0</span>.,     <span style=\"color: #008080; text-decoration-color: #008080; font-weight: bold\">0</span>.,     <span style=\"color: #008080; text-decoration-color: #008080; font-weight: bold\">0</span>.,\n",
       "            <span style=\"color: #008080; text-decoration-color: #008080; font-weight: bold\">0</span>.,     <span style=\"color: #008080; text-decoration-color: #008080; font-weight: bold\">0</span>.,     <span style=\"color: #008080; text-decoration-color: #008080; font-weight: bold\">0</span>.,     <span style=\"color: #008080; text-decoration-color: #008080; font-weight: bold\">0</span>.,     <span style=\"color: #008080; text-decoration-color: #008080; font-weight: bold\">0</span>.,     <span style=\"color: #008080; text-decoration-color: #008080; font-weight: bold\">0</span>.,     <span style=\"color: #008080; text-decoration-color: #008080; font-weight: bold\">0</span>.,     <span style=\"color: #008080; text-decoration-color: #008080; font-weight: bold\">0</span>.,     <span style=\"color: #008080; text-decoration-color: #008080; font-weight: bold\">0</span>.,\n",
       "            <span style=\"color: #008080; text-decoration-color: #008080; font-weight: bold\">0</span>.,     <span style=\"color: #008080; text-decoration-color: #008080; font-weight: bold\">0</span>.,     <span style=\"color: #008080; text-decoration-color: #008080; font-weight: bold\">0</span>.,     <span style=\"color: #008080; text-decoration-color: #008080; font-weight: bold\">0</span>.,     <span style=\"color: #008080; text-decoration-color: #008080; font-weight: bold\">0</span>.,     <span style=\"color: #008080; text-decoration-color: #008080; font-weight: bold\">0</span>.,     <span style=\"color: #008080; text-decoration-color: #008080; font-weight: bold\">0</span>.,     <span style=\"color: #008080; text-decoration-color: #008080; font-weight: bold\">0</span>.,     <span style=\"color: #008080; text-decoration-color: #008080; font-weight: bold\">0</span>.,\n",
       "            <span style=\"color: #008080; text-decoration-color: #008080; font-weight: bold\">0</span>.,     <span style=\"color: #008080; text-decoration-color: #008080; font-weight: bold\">0</span>.,     <span style=\"color: #008080; text-decoration-color: #008080; font-weight: bold\">0</span>.,     <span style=\"color: #008080; text-decoration-color: #008080; font-weight: bold\">0</span>.,     <span style=\"color: #008080; text-decoration-color: #008080; font-weight: bold\">0</span>.,     <span style=\"color: #008080; text-decoration-color: #008080; font-weight: bold\">0</span>.,     <span style=\"color: #008080; text-decoration-color: #008080; font-weight: bold\">0</span>.,     <span style=\"color: #008080; text-decoration-color: #008080; font-weight: bold\">0</span>.,     <span style=\"color: #008080; text-decoration-color: #008080; font-weight: bold\">0</span>.,\n",
       "            <span style=\"color: #008080; text-decoration-color: #008080; font-weight: bold\">0</span>.,     <span style=\"color: #008080; text-decoration-color: #008080; font-weight: bold\">0</span>.,     <span style=\"color: #008080; text-decoration-color: #008080; font-weight: bold\">0</span>.,     <span style=\"color: #008080; text-decoration-color: #008080; font-weight: bold\">0</span>.,     <span style=\"color: #008080; text-decoration-color: #008080; font-weight: bold\">0</span>.,     <span style=\"color: #008080; text-decoration-color: #008080; font-weight: bold\">0</span>.,     <span style=\"color: #008080; text-decoration-color: #008080; font-weight: bold\">0</span>.,     <span style=\"color: #008080; text-decoration-color: #008080; font-weight: bold\">0</span>.,     <span style=\"color: #008080; text-decoration-color: #008080; font-weight: bold\">0</span>.,\n",
       "            <span style=\"color: #008080; text-decoration-color: #008080; font-weight: bold\">0</span>.,     <span style=\"color: #008080; text-decoration-color: #008080; font-weight: bold\">0</span>.,     <span style=\"color: #008080; text-decoration-color: #008080; font-weight: bold\">0</span>.,     <span style=\"color: #008080; text-decoration-color: #008080; font-weight: bold\">0</span>.,     <span style=\"color: #008080; text-decoration-color: #008080; font-weight: bold\">0</span>.,     <span style=\"color: #008080; text-decoration-color: #008080; font-weight: bold\">0</span>.,     <span style=\"color: #008080; text-decoration-color: #008080; font-weight: bold\">0</span>.,     <span style=\"color: #008080; text-decoration-color: #008080; font-weight: bold\">0</span>.<span style=\"font-weight: bold\">])</span>\n",
       "</pre>\n"
      ],
      "text/plain": [
       "\u001b[1;35mtensor\u001b[0m\u001b[1m(\u001b[0m\u001b[1m[\u001b[0m  \u001b[1;36m101\u001b[0m.,  \u001b[1;36m2153\u001b[0m.,  \u001b[1;36m1010\u001b[0m.,  \u001b[1;36m1045\u001b[0m.,  \u001b[1;36m2123\u001b[0m.,  \u001b[1;36m1521\u001b[0m.,  \u001b[1;36m1056\u001b[0m.,  \u001b[1;36m2113\u001b[0m.,  \u001b[1;36m2043\u001b[0m.,\n",
       "         \u001b[1;36m1998\u001b[0m.,  \u001b[1;36m2129\u001b[0m.,  \u001b[1;36m1010\u001b[0m.,  \u001b[1;36m2021\u001b[0m.,  \u001b[1;36m1996\u001b[0m.,  \u001b[1;36m3037\u001b[0m.,  \u001b[1;36m6165\u001b[0m.,  \u001b[1;36m2031\u001b[0m.,  \u001b[1;36m2042\u001b[0m.,\n",
       "         \u001b[1;36m9561\u001b[0m.,  \u001b[1;36m7406\u001b[0m.,  \u001b[1;36m1998\u001b[0m.,  \u001b[1;36m2027\u001b[0m.,  \u001b[1;36m2323\u001b[0m.,  \u001b[1;36m2022\u001b[0m.,  \u001b[1;36m9561\u001b[0m.,  \u001b[1;36m7406\u001b[0m.,  \u001b[1;36m2582\u001b[0m.,\n",
       "         \u001b[1;36m1012\u001b[0m.,  \u001b[1;36m1524\u001b[0m.,  \u001b[1;36m1001\u001b[0m.,  \u001b[1;36m1001\u001b[0m.,  \u001b[1;36m4803\u001b[0m., \u001b[1;36m16189\u001b[0m.,  \u001b[1;36m1037\u001b[0m.,  \u001b[1;36m1520\u001b[0m.,  \u001b[1;36m3671\u001b[0m.,\n",
       "         \u001b[1;36m3444\u001b[0m.,  \u001b[1;36m1521\u001b[0m.,  \u001b[1;36m2174\u001b[0m.,  \u001b[1;36m1010\u001b[0m.,  \u001b[1;36m2025\u001b[0m.,  \u001b[1;36m2035\u001b[0m., \u001b[1;36m18288\u001b[0m.,  \u001b[1;36m2024\u001b[0m.,  \u001b[1;36m6427\u001b[0m.,\n",
       "         \u001b[1;36m2008\u001b[0m.,  \u001b[1;36m1996\u001b[0m.,  \u001b[1;36m4125\u001b[0m.,  \u001b[1;36m1999\u001b[0m.,  \u001b[1;36m5416\u001b[0m., \u001b[1;36m16189\u001b[0m.,  \u001b[1;36m2003\u001b[0m.,  \u001b[1;36m3430\u001b[0m.,  \u001b[1;36m2005\u001b[0m.,\n",
       "         \u001b[1;36m6089\u001b[0m.,  \u001b[1;36m1012\u001b[0m.,  \u001b[1;36m1999\u001b[0m.,  \u001b[1;36m1037\u001b[0m.,  \u001b[1;36m3602\u001b[0m.,  \u001b[1;36m5958\u001b[0m.,  \u001b[1;36m1010\u001b[0m., \u001b[1;36m23724\u001b[0m.,  \u001b[1;36m2015\u001b[0m.,\n",
       "         \u001b[1;36m2132\u001b[0m.,  \u001b[1;36m1997\u001b[0m.,  \u001b[1;36m2647\u001b[0m., \u001b[1;36m10067\u001b[0m.,  \u001b[1;36m5656\u001b[0m., \u001b[1;36m14459\u001b[0m.,  \u001b[1;36m6187\u001b[0m.,  \u001b[1;36m2226\u001b[0m.,  \u001b[1;36m4081\u001b[0m.,\n",
       "         \u001b[1;36m2008\u001b[0m.,  \u001b[1;36m4803\u001b[0m.,  \u001b[1;36m5416\u001b[0m., \u001b[1;36m16189\u001b[0m.,  \u001b[1;36m2020\u001b[0m.,  \u001b[1;36m2058\u001b[0m., \u001b[1;36m20041\u001b[0m.,  \u001b[1;36m1010\u001b[0m.,  \u001b[1;36m2004\u001b[0m.,\n",
       "         \u001b[1;36m2027\u001b[0m.,  \u001b[1;36m2018\u001b[0m.,  \u001b[1;36m2042\u001b[0m.,  \u001b[1;36m2474\u001b[0m., \u001b[1;36m12588\u001b[0m.,  \u001b[1;36m1996\u001b[0m.,  \u001b[1;36m9229\u001b[0m., \u001b[1;36m26632\u001b[0m., \u001b[1;36m23035\u001b[0m.,\n",
       "        \u001b[1;36m17680\u001b[0m.,  \u001b[1;36m2005\u001b[0m.,  \u001b[1;36m1996\u001b[0m.,  \u001b[1;36m2117\u001b[0m.,  \u001b[1;36m2431\u001b[0m.,  \u001b[1;36m1997\u001b[0m., \u001b[1;36m25682\u001b[0m.,  \u001b[1;36m1010\u001b[0m.,  \u001b[1;36m1998\u001b[0m.,\n",
       "         \u001b[1;36m2056\u001b[0m.,  \u001b[1;36m2027\u001b[0m.,  \u001b[1;36m2020\u001b[0m.,  \u001b[1;36m1037\u001b[0m.,  \u001b[1;36m1523\u001b[0m.,  \u001b[1;36m3671\u001b[0m.,  \u001b[1;36m3444\u001b[0m.,  \u001b[1;36m1524\u001b[0m.,  \u001b[1;36m1997\u001b[0m.,\n",
       "         \u001b[1;36m3171\u001b[0m.,  \u001b[1;36m7233\u001b[0m.,  \u001b[1;36m1012\u001b[0m.,  \u001b[1;36m1523\u001b[0m.,  \u001b[1;36m2007\u001b[0m.,  \u001b[1;36m1996\u001b[0m.,  \u001b[1;36m3145\u001b[0m.,  \u001b[1;36m6853\u001b[0m.,  \u001b[1;36m1997\u001b[0m.,\n",
       "        \u001b[1;36m14200\u001b[0m.,  \u001b[1;36m7302\u001b[0m.,  \u001b[1;36m2039\u001b[0m.,  \u001b[1;36m1010\u001b[0m.,  \u001b[1;36m1996\u001b[0m.,  \u001b[1;36m9824\u001b[0m.,  \u001b[1;36m1997\u001b[0m.,  \u001b[1;36m2130\u001b[0m.,  \u001b[1;36m2062\u001b[0m.,\n",
       "        \u001b[1;36m10807\u001b[0m., \u001b[1;36m19220\u001b[0m.,  \u001b[1;36m1999\u001b[0m.,  \u001b[1;36m1996\u001b[0m.,  \u001b[1;36m1057\u001b[0m.,  \u001b[1;36m1012\u001b[0m.,  \u001b[1;36m1055\u001b[0m.,  \u001b[1;36m1012\u001b[0m.,  \u001b[1;36m1998\u001b[0m.,\n",
       "         \u001b[1;36m7279\u001b[0m.,  \u001b[1;36m2102\u001b[0m.,  \u001b[1;36m2039\u001b[0m.,  \u001b[1;36m5157\u001b[0m., \u001b[1;36m15801\u001b[0m.,  \u001b[1;36m2011\u001b[0m.,  \u001b[1;36m2152\u001b[0m.,  \u001b[1;36m9987\u001b[0m., \u001b[1;36m10995\u001b[0m.,\n",
       "         \u001b[1;36m1010\u001b[0m.,  \u001b[1;36m2009\u001b[0m.,  \u001b[1;36m3849\u001b[0m.,  \u001b[1;36m2157\u001b[0m.,  \u001b[1;36m2005\u001b[0m.,  \u001b[1;36m5416\u001b[0m., \u001b[1;36m16189\u001b[0m.,  \u001b[1;36m2000\u001b[0m.,  \u001b[1;36m4608\u001b[0m.,\n",
       "         \u001b[1;36m1011\u001b[0m.,  \u001b[1;36m2039\u001b[0m.,  \u001b[1;36m2007\u001b[0m.,  \u001b[1;36m2060\u001b[0m.,  \u001b[1;36m2062\u001b[0m.,  \u001b[1;36m3935\u001b[0m., \u001b[1;36m25416\u001b[0m., \u001b[1;36m13490\u001b[0m., \u001b[1;36m14279\u001b[0m.,\n",
       "         \u001b[1;36m1010\u001b[0m.,  \u001b[1;36m1524\u001b[0m.,  \u001b[1;36m6187\u001b[0m.,  \u001b[1;36m2226\u001b[0m.,  \u001b[1;36m2056\u001b[0m.,  \u001b[1;36m1010\u001b[0m.,  \u001b[1;36m5815\u001b[0m.,  \u001b[1;36m2008\u001b[0m.,  \u001b[1;36m2430\u001b[0m.,\n",
       "         \u001b[1;36m5085\u001b[0m.,  \u001b[1;36m3961\u001b[0m.,  \u001b[1;36m1523\u001b[0m.,  \u001b[1;36m7933\u001b[0m.,  \u001b[1;36m2006\u001b[0m.,  \u001b[1;36m2907\u001b[0m.,  \u001b[1;36m1524\u001b[0m.,  \u001b[1;36m2445\u001b[0m.,  \u001b[1;36m1996\u001b[0m.,\n",
       "         \u001b[1;36m5703\u001b[0m.,  \u001b[1;36m1997\u001b[0m., \u001b[1;36m10831\u001b[0m.,  \u001b[1;36m1012\u001b[0m.,  \u001b[1;36m2002\u001b[0m.,  \u001b[1;36m5275\u001b[0m.,  \u001b[1;36m2008\u001b[0m.,  \u001b[1;36m1996\u001b[0m.,  \u001b[1;36m9561\u001b[0m.,\n",
       "         \u001b[1;36m7406\u001b[0m., \u001b[1;36m10750\u001b[0m.,  \u001b[1;36m7774\u001b[0m.,  \u001b[1;36m2003\u001b[0m.,  \u001b[1;36m1523\u001b[0m.,  \u001b[1;36m5171\u001b[0m.,  \u001b[1;36m2012\u001b[0m.,  \u001b[1;36m1996\u001b[0m.,  \u001b[1;36m2220\u001b[0m.,\n",
       "         \u001b[1;36m5711\u001b[0m.,  \u001b[1;36m1997\u001b[0m.,  \u001b[1;36m1996\u001b[0m.,  \u001b[1;36m5402\u001b[0m.,  \u001b[1;36m1010\u001b[0m.,  \u001b[1;36m1524\u001b[0m.,  \u001b[1;36m1998\u001b[0m.,  \u001b[1;36m2008\u001b[0m.,  \u001b[1;36m2061\u001b[0m.,\n",
       "         \u001b[1;36m2146\u001b[0m.,  \u001b[1;36m2004\u001b[0m., \u001b[1;36m17404\u001b[0m.,  \u001b[1;36m4897\u001b[0m., \u001b[1;36m12166\u001b[0m.,  \u001b[1;36m2024\u001b[0m.,  \u001b[1;36m3144\u001b[0m.,  \u001b[1;36m1010\u001b[0m.,  \u001b[1;36m3930\u001b[0m.,\n",
       "         \u001b[1;36m4247\u001b[0m.,  \u001b[1;36m2000\u001b[0m., \u001b[1;36m16356\u001b[0m., \u001b[1;36m10745\u001b[0m.,  \u001b[1;36m1998\u001b[0m.,  \u001b[1;36m2430\u001b[0m.,  \u001b[1;36m5085\u001b[0m.,  \u001b[1;36m3961\u001b[0m., \u001b[1;36m17145\u001b[0m.,\n",
       "         \u001b[1;36m1010\u001b[0m., \u001b[1;36m25416\u001b[0m., \u001b[1;36m13490\u001b[0m.,  \u001b[1;36m5649\u001b[0m.,  \u001b[1;36m5829\u001b[0m.,  \u001b[1;36m2408\u001b[0m., \u001b[1;36m11412\u001b[0m.,  \u001b[1;36m4280\u001b[0m.,  \u001b[1;36m2298\u001b[0m.,\n",
       "         \u001b[1;36m1523\u001b[0m., \u001b[1;36m15123\u001b[0m.,  \u001b[1;36m1524\u001b[0m.,  \u001b[1;36m1998\u001b[0m.,  \u001b[1;36m1041\u001b[0m., \u001b[1;36m15549\u001b[0m.,  \u001b[1;36m7368\u001b[0m.,  \u001b[1;36m2323\u001b[0m.,  \u001b[1;36m2022\u001b[0m.,\n",
       "         \u001b[1;36m2583\u001b[0m.,  \u001b[1;36m2000\u001b[0m., \u001b[1;36m19319\u001b[0m.,  \u001b[1;36m3020\u001b[0m.,  \u001b[1;36m6165\u001b[0m.,  \u001b[1;36m1012\u001b[0m.,  \u001b[1;36m1523\u001b[0m.,  \u001b[1;36m1997\u001b[0m.,  \u001b[1;36m2607\u001b[0m.,\n",
       "         \u001b[1;36m1010\u001b[0m.,  \u001b[1;36m2044\u001b[0m.,  \u001b[1;36m1996\u001b[0m.,  \u001b[1;36m2844\u001b[0m.,  \u001b[1;36m2693\u001b[0m.,  \u001b[1;36m1997\u001b[0m.,  \u001b[1;36m1996\u001b[0m.,  \u001b[1;36m2197\u001b[0m.,  \u001b[1;36m2261\u001b[0m.,\n",
       "         \u001b[1;36m3134\u001b[0m.,  \u001b[1;36m1010\u001b[0m.,  \u001b[1;36m1041\u001b[0m., \u001b[1;36m15549\u001b[0m.,  \u001b[1;36m7368\u001b[0m.,  \u001b[1;36m2071\u001b[0m.,  \u001b[1;36m2928\u001b[0m.,  \u001b[1;36m1037\u001b[0m.,  \u001b[1;36m8724\u001b[0m.,\n",
       "         \u001b[1;36m2004\u001b[0m.,  \u001b[1;36m2116\u001b[0m., \u001b[1;36m11105\u001b[0m.,  \u001b[1;36m2008\u001b[0m.,  \u001b[1;36m2031\u001b[0m., \u001b[1;36m24356\u001b[0m.,  \u001b[1;36m2007\u001b[0m., \u001b[1;36m16189\u001b[0m.,  \u001b[1;36m2298\u001b[0m.,\n",
       "         \u001b[1;36m2058\u001b[0m.,  \u001b[1;36m5092\u001b[0m., \u001b[1;36m18533\u001b[0m.,  \u001b[1;36m1010\u001b[0m.,  \u001b[1;36m2066\u001b[0m., \u001b[1;36m21955\u001b[0m.,  \u001b[1;36m1998\u001b[0m.,  \u001b[1;36m5085\u001b[0m.,  \u001b[1;36m1010\u001b[0m.,\n",
       "         \u001b[1;36m1524\u001b[0m.,  \u001b[1;36m6187\u001b[0m.,  \u001b[1;36m2226\u001b[0m.,  \u001b[1;36m2056\u001b[0m.,  \u001b[1;36m1012\u001b[0m.,  \u001b[1;36m1523\u001b[0m.,  \u001b[1;36m2021\u001b[0m.,  \u001b[1;36m2012\u001b[0m.,  \u001b[1;36m2023\u001b[0m.,\n",
       "         \u001b[1;36m2754\u001b[0m.,  \u001b[1;36m1010\u001b[0m.,  \u001b[1;36m2057\u001b[0m.,  \u001b[1;36m2228\u001b[0m.,  \u001b[1;36m4803\u001b[0m., \u001b[1;36m16189\u001b[0m.,  \u001b[1;36m2024\u001b[0m.,  \u001b[1;36m2062\u001b[0m.,  \u001b[1;36m1037\u001b[0m.,\n",
       "        \u001b[1;36m13964\u001b[0m.,  \u001b[1;36m1997\u001b[0m.,  \u001b[1;36m1996\u001b[0m., \u001b[1;36m10067\u001b[0m.,  \u001b[1;36m7087\u001b[0m.,  \u001b[1;36m3006\u001b[0m.,  \u001b[1;36m2084\u001b[0m.,  \u001b[1;36m1037\u001b[0m.,  \u001b[1;36m5081\u001b[0m.,\n",
       "         \u001b[1;36m1010\u001b[0m.,  \u001b[1;36m2061\u001b[0m., \u001b[1;36m16510\u001b[0m.,  \u001b[1;36m2015\u001b[0m.,  \u001b[1;36m2323\u001b[0m.,  \u001b[1;36m3613\u001b[0m.,  \u001b[1;36m2000\u001b[0m.,  \u001b[1;36m2022\u001b[0m.,  \u001b[1;36m4149\u001b[0m.,\n",
       "         \u001b[1;36m1012\u001b[0m.,  \u001b[1;36m1524\u001b[0m.,   \u001b[1;36m102\u001b[0m.,     \u001b[1;36m0\u001b[0m.,     \u001b[1;36m0\u001b[0m.,     \u001b[1;36m0\u001b[0m.,     \u001b[1;36m0\u001b[0m.,     \u001b[1;36m0\u001b[0m.,     \u001b[1;36m0\u001b[0m.,\n",
       "            \u001b[1;36m0\u001b[0m.,     \u001b[1;36m0\u001b[0m.,     \u001b[1;36m0\u001b[0m.,     \u001b[1;36m0\u001b[0m.,     \u001b[1;36m0\u001b[0m.,     \u001b[1;36m0\u001b[0m.,     \u001b[1;36m0\u001b[0m.,     \u001b[1;36m0\u001b[0m.,     \u001b[1;36m0\u001b[0m.,\n",
       "            \u001b[1;36m0\u001b[0m.,     \u001b[1;36m0\u001b[0m.,     \u001b[1;36m0\u001b[0m.,     \u001b[1;36m0\u001b[0m.,     \u001b[1;36m0\u001b[0m.,     \u001b[1;36m0\u001b[0m.,     \u001b[1;36m0\u001b[0m.,     \u001b[1;36m0\u001b[0m.,     \u001b[1;36m0\u001b[0m.,\n",
       "            \u001b[1;36m0\u001b[0m.,     \u001b[1;36m0\u001b[0m.,     \u001b[1;36m0\u001b[0m.,     \u001b[1;36m0\u001b[0m.,     \u001b[1;36m0\u001b[0m.,     \u001b[1;36m0\u001b[0m.,     \u001b[1;36m0\u001b[0m.,     \u001b[1;36m0\u001b[0m.,     \u001b[1;36m0\u001b[0m.,\n",
       "            \u001b[1;36m0\u001b[0m.,     \u001b[1;36m0\u001b[0m.,     \u001b[1;36m0\u001b[0m.,     \u001b[1;36m0\u001b[0m.,     \u001b[1;36m0\u001b[0m.,     \u001b[1;36m0\u001b[0m.,     \u001b[1;36m0\u001b[0m.,     \u001b[1;36m0\u001b[0m.,     \u001b[1;36m0\u001b[0m.,\n",
       "            \u001b[1;36m0\u001b[0m.,     \u001b[1;36m0\u001b[0m.,     \u001b[1;36m0\u001b[0m.,     \u001b[1;36m0\u001b[0m.,     \u001b[1;36m0\u001b[0m.,     \u001b[1;36m0\u001b[0m.,     \u001b[1;36m0\u001b[0m.,     \u001b[1;36m0\u001b[0m.,     \u001b[1;36m0\u001b[0m.,\n",
       "            \u001b[1;36m0\u001b[0m.,     \u001b[1;36m0\u001b[0m.,     \u001b[1;36m0\u001b[0m.,     \u001b[1;36m0\u001b[0m.,     \u001b[1;36m0\u001b[0m.,     \u001b[1;36m0\u001b[0m.,     \u001b[1;36m0\u001b[0m.,     \u001b[1;36m0\u001b[0m.,     \u001b[1;36m0\u001b[0m.,\n",
       "            \u001b[1;36m0\u001b[0m.,     \u001b[1;36m0\u001b[0m.,     \u001b[1;36m0\u001b[0m.,     \u001b[1;36m0\u001b[0m.,     \u001b[1;36m0\u001b[0m.,     \u001b[1;36m0\u001b[0m.,     \u001b[1;36m0\u001b[0m.,     \u001b[1;36m0\u001b[0m.,     \u001b[1;36m0\u001b[0m.,\n",
       "            \u001b[1;36m0\u001b[0m.,     \u001b[1;36m0\u001b[0m.,     \u001b[1;36m0\u001b[0m.,     \u001b[1;36m0\u001b[0m.,     \u001b[1;36m0\u001b[0m.,     \u001b[1;36m0\u001b[0m.,     \u001b[1;36m0\u001b[0m.,     \u001b[1;36m0\u001b[0m.,     \u001b[1;36m0\u001b[0m.,\n",
       "            \u001b[1;36m0\u001b[0m.,     \u001b[1;36m0\u001b[0m.,     \u001b[1;36m0\u001b[0m.,     \u001b[1;36m0\u001b[0m.,     \u001b[1;36m0\u001b[0m.,     \u001b[1;36m0\u001b[0m.,     \u001b[1;36m0\u001b[0m.,     \u001b[1;36m0\u001b[0m.,     \u001b[1;36m0\u001b[0m.,\n",
       "            \u001b[1;36m0\u001b[0m.,     \u001b[1;36m0\u001b[0m.,     \u001b[1;36m0\u001b[0m.,     \u001b[1;36m0\u001b[0m.,     \u001b[1;36m0\u001b[0m.,     \u001b[1;36m0\u001b[0m.,     \u001b[1;36m0\u001b[0m.,     \u001b[1;36m0\u001b[0m.,     \u001b[1;36m0\u001b[0m.,\n",
       "            \u001b[1;36m0\u001b[0m.,     \u001b[1;36m0\u001b[0m.,     \u001b[1;36m0\u001b[0m.,     \u001b[1;36m0\u001b[0m.,     \u001b[1;36m0\u001b[0m.,     \u001b[1;36m0\u001b[0m.,     \u001b[1;36m0\u001b[0m.,     \u001b[1;36m0\u001b[0m.,     \u001b[1;36m0\u001b[0m.,\n",
       "            \u001b[1;36m0\u001b[0m.,     \u001b[1;36m0\u001b[0m.,     \u001b[1;36m0\u001b[0m.,     \u001b[1;36m0\u001b[0m.,     \u001b[1;36m0\u001b[0m.,     \u001b[1;36m0\u001b[0m.,     \u001b[1;36m0\u001b[0m.,     \u001b[1;36m0\u001b[0m.,     \u001b[1;36m0\u001b[0m.,\n",
       "            \u001b[1;36m0\u001b[0m.,     \u001b[1;36m0\u001b[0m.,     \u001b[1;36m0\u001b[0m.,     \u001b[1;36m0\u001b[0m.,     \u001b[1;36m0\u001b[0m.,     \u001b[1;36m0\u001b[0m.,     \u001b[1;36m0\u001b[0m.,     \u001b[1;36m0\u001b[0m.,     \u001b[1;36m0\u001b[0m.,\n",
       "            \u001b[1;36m0\u001b[0m.,     \u001b[1;36m0\u001b[0m.,     \u001b[1;36m0\u001b[0m.,     \u001b[1;36m0\u001b[0m.,     \u001b[1;36m0\u001b[0m.,     \u001b[1;36m0\u001b[0m.,     \u001b[1;36m0\u001b[0m.,     \u001b[1;36m0\u001b[0m.,     \u001b[1;36m0\u001b[0m.,\n",
       "            \u001b[1;36m0\u001b[0m.,     \u001b[1;36m0\u001b[0m.,     \u001b[1;36m0\u001b[0m.,     \u001b[1;36m0\u001b[0m.,     \u001b[1;36m0\u001b[0m.,     \u001b[1;36m0\u001b[0m.,     \u001b[1;36m0\u001b[0m.,     \u001b[1;36m0\u001b[0m.,     \u001b[1;36m0\u001b[0m.,\n",
       "            \u001b[1;36m0\u001b[0m.,     \u001b[1;36m0\u001b[0m.,     \u001b[1;36m0\u001b[0m.,     \u001b[1;36m0\u001b[0m.,     \u001b[1;36m0\u001b[0m.,     \u001b[1;36m0\u001b[0m.,     \u001b[1;36m0\u001b[0m.,     \u001b[1;36m0\u001b[0m.,     \u001b[1;36m0\u001b[0m.,\n",
       "            \u001b[1;36m0\u001b[0m.,     \u001b[1;36m0\u001b[0m.,     \u001b[1;36m0\u001b[0m.,     \u001b[1;36m0\u001b[0m.,     \u001b[1;36m0\u001b[0m.,     \u001b[1;36m0\u001b[0m.,     \u001b[1;36m0\u001b[0m.,     \u001b[1;36m0\u001b[0m.,     \u001b[1;36m0\u001b[0m.,\n",
       "            \u001b[1;36m0\u001b[0m.,     \u001b[1;36m0\u001b[0m.,     \u001b[1;36m0\u001b[0m.,     \u001b[1;36m0\u001b[0m.,     \u001b[1;36m0\u001b[0m.,     \u001b[1;36m0\u001b[0m.,     \u001b[1;36m0\u001b[0m.,     \u001b[1;36m0\u001b[0m.,     \u001b[1;36m0\u001b[0m.,\n",
       "            \u001b[1;36m0\u001b[0m.,     \u001b[1;36m0\u001b[0m.,     \u001b[1;36m0\u001b[0m.,     \u001b[1;36m0\u001b[0m.,     \u001b[1;36m0\u001b[0m.,     \u001b[1;36m0\u001b[0m.,     \u001b[1;36m0\u001b[0m.,     \u001b[1;36m0\u001b[0m.,     \u001b[1;36m0\u001b[0m.,\n",
       "            \u001b[1;36m0\u001b[0m.,     \u001b[1;36m0\u001b[0m.,     \u001b[1;36m0\u001b[0m.,     \u001b[1;36m0\u001b[0m.,     \u001b[1;36m0\u001b[0m.,     \u001b[1;36m0\u001b[0m.,     \u001b[1;36m0\u001b[0m.,     \u001b[1;36m0\u001b[0m.\u001b[1m]\u001b[0m\u001b[1m)\u001b[0m\n"
      ]
     },
     "metadata": {},
     "output_type": "display_data"
    }
   ],
   "source": [
    "ATTENTION_PADDING: int = 1\n",
    "CLS, SEP = (101, 102)\n",
    "\n",
    "# Loop through each chunk\n",
    "for idx in range(len(input_id_chunks)):\n",
    "    # Add CLS and SEP tokens to input IDs\n",
    "    input_id_chunks[idx] = torch.cat(\n",
    "        [torch.tensor([CLS]), input_id_chunks[idx], torch.tensor([SEP])]\n",
    "    )\n",
    "    # Add attention tokens to attention mask\n",
    "    mask_chunks[idx] = torch.cat(\n",
    "        [\n",
    "            torch.tensor([ATTENTION_PADDING]),\n",
    "            mask_chunks[idx],\n",
    "            torch.tensor([ATTENTION_PADDING]),\n",
    "        ]\n",
    "    )\n",
    "    # Get required padding length\n",
    "    PADDING_LEN: int = CHUNK_SIZE - input_id_chunks[idx].size(0)\n",
    "    # Check if tensor length satisfies required chunk size\n",
    "    if PADDING_LEN > 0:\n",
    "        # If padding length is more than 0, we must add padding\n",
    "        input_id_chunks[idx] = torch.cat(\n",
    "            [input_id_chunks[idx], torch.Tensor([0] * PADDING_LEN)]\n",
    "        )\n",
    "        mask_chunks[idx] = torch.cat(\n",
    "            [mask_chunks[idx], torch.Tensor([0] * PADDING_LEN)]\n",
    "        )\n",
    "\n",
    "# check length of each tensor\n",
    "for chunk in input_id_chunks:\n",
    "    print(len(chunk))\n",
    "# Print final chunk so we can see 101, 102, and 0 (PAD) tokens are all correctly placed\n",
    "print(chunk)"
   ]
  },
  {
   "cell_type": "markdown",
   "metadata": {},
   "source": [
    "- It all looks good! Now the final step of placing our tensors back into the dictionary style format we had before."
   ]
  },
  {
   "cell_type": "code",
   "execution_count": 13,
   "metadata": {},
   "outputs": [
    {
     "data": {
      "text/html": [
       "<pre style=\"white-space:pre;overflow-x:auto;line-height:normal;font-family:Menlo,'DejaVu Sans Mono',consolas,'Courier New',monospace\"><span style=\"color: #800080; text-decoration-color: #800080; font-weight: bold\">tensor</span><span style=\"font-weight: bold\">([[</span><span style=\"color: #008080; text-decoration-color: #008080; font-weight: bold\">1</span>, <span style=\"color: #008080; text-decoration-color: #008080; font-weight: bold\">2</span>, <span style=\"color: #008080; text-decoration-color: #008080; font-weight: bold\">3</span><span style=\"font-weight: bold\">]</span>,\n",
       "        <span style=\"font-weight: bold\">[</span><span style=\"color: #008080; text-decoration-color: #008080; font-weight: bold\">4</span>, <span style=\"color: #008080; text-decoration-color: #008080; font-weight: bold\">5</span>, <span style=\"color: #008080; text-decoration-color: #008080; font-weight: bold\">6</span><span style=\"font-weight: bold\">]])</span>\n",
       "</pre>\n"
      ],
      "text/plain": [
       "\u001b[1;35mtensor\u001b[0m\u001b[1m(\u001b[0m\u001b[1m[\u001b[0m\u001b[1m[\u001b[0m\u001b[1;36m1\u001b[0m, \u001b[1;36m2\u001b[0m, \u001b[1;36m3\u001b[0m\u001b[1m]\u001b[0m,\n",
       "        \u001b[1m[\u001b[0m\u001b[1;36m4\u001b[0m, \u001b[1;36m5\u001b[0m, \u001b[1;36m6\u001b[0m\u001b[1m]\u001b[0m\u001b[1m]\u001b[0m\u001b[1m)\u001b[0m\n"
      ]
     },
     "metadata": {},
     "output_type": "display_data"
    }
   ],
   "source": [
    "x1 = torch.tensor([1, 2, 3])\n",
    "x2 = torch.tensor([4, 5, 6])\n",
    "\n",
    "# Tuple of tensors!\n",
    "x = torch.stack((x1, x2))\n",
    "\n",
    "print(x)"
   ]
  },
  {
   "cell_type": "code",
   "execution_count": 14,
   "metadata": {},
   "outputs": [
    {
     "data": {
      "text/plain": [
       "{'input_ids': tensor([[  101,  1045,  2052,  ...,  1012,  1523,   102],\n",
       "         [  101,  1996, 16408,  ...,  2272,  1012,   102],\n",
       "         [  101,  2153,  1010,  ...,     0,     0,     0]]),\n",
       " 'attention_mask': tensor([[1, 1, 1,  ..., 1, 1, 1],\n",
       "         [1, 1, 1,  ..., 1, 1, 1],\n",
       "         [1, 1, 1,  ..., 0, 0, 0]], dtype=torch.int32)}"
      ]
     },
     "execution_count": 14,
     "metadata": {},
     "output_type": "execute_result"
    }
   ],
   "source": [
    "input_ids = torch.stack(input_id_chunks)\n",
    "attention_mask = torch.stack(mask_chunks)\n",
    "\n",
    "input_dict = {\n",
    "    \"input_ids\": input_ids.long(),  # required format\n",
    "    \"attention_mask\": attention_mask.int(),  # required format\n",
    "}\n",
    "input_dict"
   ]
  },
  {
   "cell_type": "code",
   "execution_count": 15,
   "metadata": {},
   "outputs": [
    {
     "data": {
      "text/plain": [
       "tensor([[0.1384, 0.8145, 0.0471],\n",
       "        [0.3757, 0.4670, 0.1574],\n",
       "        [0.7290, 0.2006, 0.0704]], grad_fn=<SoftmaxBackward0>)"
      ]
     },
     "execution_count": 15,
     "metadata": {},
     "output_type": "execute_result"
    }
   ],
   "source": [
    "import torch.nn.functional as F\n",
    "\n",
    "outputs = model(**input_dict)\n",
    "probs = F.softmax(outputs[0], dim=-1)\n",
    "\n",
    "probs"
   ]
  },
  {
   "cell_type": "code",
   "execution_count": 16,
   "metadata": {},
   "outputs": [
    {
     "data": {
      "text/html": [
       "<div><style>\n",
       ".dataframe > thead > tr > th,\n",
       ".dataframe > tbody > tr > td {\n",
       "  text-align: right;\n",
       "  white-space: pre-wrap;\n",
       "}\n",
       "</style>\n",
       "<small>shape: (3, 3)</small><table border=\"1\" class=\"dataframe\"><thead><tr><th>column_0</th><th>column_1</th><th>column_2</th></tr><tr><td>f32</td><td>f32</td><td>f32</td></tr></thead><tbody><tr><td>0.138411</td><td>0.814513</td><td>0.047076</td></tr><tr><td>0.37567</td><td>0.466953</td><td>0.157377</td></tr><tr><td>0.728986</td><td>0.200593</td><td>0.070421</td></tr></tbody></table></div>"
      ],
      "text/plain": [
       "shape: (3, 3)\n",
       "┌──────────┬──────────┬──────────┐\n",
       "│ column_0 ┆ column_1 ┆ column_2 │\n",
       "│ ---      ┆ ---      ┆ ---      │\n",
       "│ f32      ┆ f32      ┆ f32      │\n",
       "╞══════════╪══════════╪══════════╡\n",
       "│ 0.138411 ┆ 0.814513 ┆ 0.047076 │\n",
       "│ 0.37567  ┆ 0.466953 ┆ 0.157377 │\n",
       "│ 0.728986 ┆ 0.200593 ┆ 0.070421 │\n",
       "└──────────┴──────────┴──────────┘"
      ]
     },
     "execution_count": 16,
     "metadata": {},
     "output_type": "execute_result"
    }
   ],
   "source": [
    "import polars as pl\n",
    "\n",
    "pl.DataFrame(probs.detach().numpy())"
   ]
  },
  {
   "cell_type": "code",
   "execution_count": 17,
   "metadata": {},
   "outputs": [
    {
     "data": {
      "text/plain": [
       "tensor([0.4144, 0.4940, 0.0916], grad_fn=<MeanBackward1>)"
      ]
     },
     "execution_count": 17,
     "metadata": {},
     "output_type": "execute_result"
    }
   ],
   "source": [
    "# Calculate the average\n",
    "probs = probs.mean(dim=0)\n",
    "probs"
   ]
  },
  {
   "cell_type": "code",
   "execution_count": null,
   "metadata": {},
   "outputs": [],
   "source": []
  },
  {
   "cell_type": "code",
   "execution_count": null,
   "metadata": {},
   "outputs": [],
   "source": []
  },
  {
   "cell_type": "code",
   "execution_count": null,
   "metadata": {},
   "outputs": [],
   "source": []
  }
 ],
 "metadata": {
  "kernelspec": {
   "display_name": "nlp_p310",
   "language": "python",
   "name": "python3"
  },
  "language_info": {
   "codemirror_mode": {
    "name": "ipython",
    "version": 3
   },
   "file_extension": ".py",
   "mimetype": "text/x-python",
   "name": "python",
   "nbconvert_exporter": "python",
   "pygments_lexer": "ipython3",
   "version": "3.10.9"
  }
 },
 "nbformat": 4,
 "nbformat_minor": 2
}
