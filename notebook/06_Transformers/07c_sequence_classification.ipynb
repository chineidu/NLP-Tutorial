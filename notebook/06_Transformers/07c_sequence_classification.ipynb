{
  "cells": [
    {
      "cell_type": "markdown",
      "metadata": {
        "id": "view-in-github",
        "colab_type": "text"
      },
      "source": [
        "<a href=\"https://colab.research.google.com/github/chineidu/NLP-Tutorial/blob/main/notebook/06_Transformers/07c_sequence_classification.ipynb\" target=\"_parent\"><img src=\"https://colab.research.google.com/assets/colab-badge.svg\" alt=\"Open In Colab\"/></a>"
      ]
    },
    {
      "cell_type": "code",
      "source": [
        "!pip install rich\n",
        "!pip install transformers[torch]\n",
        "!pip install torch datasets evaluate\n",
        "!pip install seqeval"
      ],
      "metadata": {
        "id": "cZmRGwNBt80V",
        "outputId": "55adf89c-236d-4623-9b9f-e4b1f132d217",
        "colab": {
          "base_uri": "https://localhost:8080/"
        }
      },
      "execution_count": 1,
      "outputs": [
        {
          "output_type": "stream",
          "name": "stdout",
          "text": [
            "Requirement already satisfied: rich in /usr/local/lib/python3.10/dist-packages (13.6.0)\n",
            "Requirement already satisfied: markdown-it-py>=2.2.0 in /usr/local/lib/python3.10/dist-packages (from rich) (3.0.0)\n",
            "Requirement already satisfied: pygments<3.0.0,>=2.13.0 in /usr/local/lib/python3.10/dist-packages (from rich) (2.16.1)\n",
            "Requirement already satisfied: mdurl~=0.1 in /usr/local/lib/python3.10/dist-packages (from markdown-it-py>=2.2.0->rich) (0.1.2)\n",
            "Collecting transformers[torch]\n",
            "  Downloading transformers-4.34.1-py3-none-any.whl (7.7 MB)\n",
            "\u001b[2K     \u001b[90m━━━━━━━━━━━━━━━━━━━━━━━━━━━━━━━━━━━━━━━━\u001b[0m \u001b[32m7.7/7.7 MB\u001b[0m \u001b[31m17.4 MB/s\u001b[0m eta \u001b[36m0:00:00\u001b[0m\n",
            "\u001b[?25hRequirement already satisfied: filelock in /usr/local/lib/python3.10/dist-packages (from transformers[torch]) (3.12.4)\n",
            "Collecting huggingface-hub<1.0,>=0.16.4 (from transformers[torch])\n",
            "  Downloading huggingface_hub-0.18.0-py3-none-any.whl (301 kB)\n",
            "\u001b[2K     \u001b[90m━━━━━━━━━━━━━━━━━━━━━━━━━━━━━━━━━━━━━━━━\u001b[0m \u001b[32m302.0/302.0 kB\u001b[0m \u001b[31m31.3 MB/s\u001b[0m eta \u001b[36m0:00:00\u001b[0m\n",
            "\u001b[?25hRequirement already satisfied: numpy>=1.17 in /usr/local/lib/python3.10/dist-packages (from transformers[torch]) (1.23.5)\n",
            "Requirement already satisfied: packaging>=20.0 in /usr/local/lib/python3.10/dist-packages (from transformers[torch]) (23.2)\n",
            "Requirement already satisfied: pyyaml>=5.1 in /usr/local/lib/python3.10/dist-packages (from transformers[torch]) (6.0.1)\n",
            "Requirement already satisfied: regex!=2019.12.17 in /usr/local/lib/python3.10/dist-packages (from transformers[torch]) (2023.6.3)\n",
            "Requirement already satisfied: requests in /usr/local/lib/python3.10/dist-packages (from transformers[torch]) (2.31.0)\n",
            "Collecting tokenizers<0.15,>=0.14 (from transformers[torch])\n",
            "  Downloading tokenizers-0.14.1-cp310-cp310-manylinux_2_17_x86_64.manylinux2014_x86_64.whl (3.8 MB)\n",
            "\u001b[2K     \u001b[90m━━━━━━━━━━━━━━━━━━━━━━━━━━━━━━━━━━━━━━━━\u001b[0m \u001b[32m3.8/3.8 MB\u001b[0m \u001b[31m50.4 MB/s\u001b[0m eta \u001b[36m0:00:00\u001b[0m\n",
            "\u001b[?25hCollecting safetensors>=0.3.1 (from transformers[torch])\n",
            "  Downloading safetensors-0.4.0-cp310-cp310-manylinux_2_17_x86_64.manylinux2014_x86_64.whl (1.3 MB)\n",
            "\u001b[2K     \u001b[90m━━━━━━━━━━━━━━━━━━━━━━━━━━━━━━━━━━━━━━━━\u001b[0m \u001b[32m1.3/1.3 MB\u001b[0m \u001b[31m54.1 MB/s\u001b[0m eta \u001b[36m0:00:00\u001b[0m\n",
            "\u001b[?25hRequirement already satisfied: tqdm>=4.27 in /usr/local/lib/python3.10/dist-packages (from transformers[torch]) (4.66.1)\n",
            "Requirement already satisfied: torch!=1.12.0,>=1.10 in /usr/local/lib/python3.10/dist-packages (from transformers[torch]) (2.1.0+cu118)\n",
            "Collecting accelerate>=0.20.3 (from transformers[torch])\n",
            "  Downloading accelerate-0.24.0-py3-none-any.whl (260 kB)\n",
            "\u001b[2K     \u001b[90m━━━━━━━━━━━━━━━━━━━━━━━━━━━━━━━━━━━━━━━━\u001b[0m \u001b[32m261.0/261.0 kB\u001b[0m \u001b[31m36.1 MB/s\u001b[0m eta \u001b[36m0:00:00\u001b[0m\n",
            "\u001b[?25hRequirement already satisfied: psutil in /usr/local/lib/python3.10/dist-packages (from accelerate>=0.20.3->transformers[torch]) (5.9.5)\n",
            "Requirement already satisfied: fsspec>=2023.5.0 in /usr/local/lib/python3.10/dist-packages (from huggingface-hub<1.0,>=0.16.4->transformers[torch]) (2023.6.0)\n",
            "Requirement already satisfied: typing-extensions>=3.7.4.3 in /usr/local/lib/python3.10/dist-packages (from huggingface-hub<1.0,>=0.16.4->transformers[torch]) (4.5.0)\n",
            "Collecting huggingface-hub<1.0,>=0.16.4 (from transformers[torch])\n",
            "  Downloading huggingface_hub-0.17.3-py3-none-any.whl (295 kB)\n",
            "\u001b[2K     \u001b[90m━━━━━━━━━━━━━━━━━━━━━━━━━━━━━━━━━━━━━━━━\u001b[0m \u001b[32m295.0/295.0 kB\u001b[0m \u001b[31m38.0 MB/s\u001b[0m eta \u001b[36m0:00:00\u001b[0m\n",
            "\u001b[?25hRequirement already satisfied: sympy in /usr/local/lib/python3.10/dist-packages (from torch!=1.12.0,>=1.10->transformers[torch]) (1.12)\n",
            "Requirement already satisfied: networkx in /usr/local/lib/python3.10/dist-packages (from torch!=1.12.0,>=1.10->transformers[torch]) (3.2)\n",
            "Requirement already satisfied: jinja2 in /usr/local/lib/python3.10/dist-packages (from torch!=1.12.0,>=1.10->transformers[torch]) (3.1.2)\n",
            "Requirement already satisfied: triton==2.1.0 in /usr/local/lib/python3.10/dist-packages (from torch!=1.12.0,>=1.10->transformers[torch]) (2.1.0)\n",
            "Requirement already satisfied: charset-normalizer<4,>=2 in /usr/local/lib/python3.10/dist-packages (from requests->transformers[torch]) (3.3.1)\n",
            "Requirement already satisfied: idna<4,>=2.5 in /usr/local/lib/python3.10/dist-packages (from requests->transformers[torch]) (3.4)\n",
            "Requirement already satisfied: urllib3<3,>=1.21.1 in /usr/local/lib/python3.10/dist-packages (from requests->transformers[torch]) (2.0.7)\n",
            "Requirement already satisfied: certifi>=2017.4.17 in /usr/local/lib/python3.10/dist-packages (from requests->transformers[torch]) (2023.7.22)\n",
            "Requirement already satisfied: MarkupSafe>=2.0 in /usr/local/lib/python3.10/dist-packages (from jinja2->torch!=1.12.0,>=1.10->transformers[torch]) (2.1.3)\n",
            "Requirement already satisfied: mpmath>=0.19 in /usr/local/lib/python3.10/dist-packages (from sympy->torch!=1.12.0,>=1.10->transformers[torch]) (1.3.0)\n",
            "Installing collected packages: safetensors, huggingface-hub, tokenizers, accelerate, transformers\n",
            "Successfully installed accelerate-0.24.0 huggingface-hub-0.17.3 safetensors-0.4.0 tokenizers-0.14.1 transformers-4.34.1\n",
            "Requirement already satisfied: torch in /usr/local/lib/python3.10/dist-packages (2.1.0+cu118)\n",
            "Collecting datasets\n",
            "  Downloading datasets-2.14.6-py3-none-any.whl (493 kB)\n",
            "\u001b[2K     \u001b[90m━━━━━━━━━━━━━━━━━━━━━━━━━━━━━━━━━━━━━━━━\u001b[0m \u001b[32m493.7/493.7 kB\u001b[0m \u001b[31m7.7 MB/s\u001b[0m eta \u001b[36m0:00:00\u001b[0m\n",
            "\u001b[?25hCollecting evaluate\n",
            "  Downloading evaluate-0.4.1-py3-none-any.whl (84 kB)\n",
            "\u001b[2K     \u001b[90m━━━━━━━━━━━━━━━━━━━━━━━━━━━━━━━━━━━━━━━━\u001b[0m \u001b[32m84.1/84.1 kB\u001b[0m \u001b[31m12.6 MB/s\u001b[0m eta \u001b[36m0:00:00\u001b[0m\n",
            "\u001b[?25hRequirement already satisfied: filelock in /usr/local/lib/python3.10/dist-packages (from torch) (3.12.4)\n",
            "Requirement already satisfied: typing-extensions in /usr/local/lib/python3.10/dist-packages (from torch) (4.5.0)\n",
            "Requirement already satisfied: sympy in /usr/local/lib/python3.10/dist-packages (from torch) (1.12)\n",
            "Requirement already satisfied: networkx in /usr/local/lib/python3.10/dist-packages (from torch) (3.2)\n",
            "Requirement already satisfied: jinja2 in /usr/local/lib/python3.10/dist-packages (from torch) (3.1.2)\n",
            "Requirement already satisfied: fsspec in /usr/local/lib/python3.10/dist-packages (from torch) (2023.6.0)\n",
            "Requirement already satisfied: triton==2.1.0 in /usr/local/lib/python3.10/dist-packages (from torch) (2.1.0)\n",
            "Requirement already satisfied: numpy>=1.17 in /usr/local/lib/python3.10/dist-packages (from datasets) (1.23.5)\n",
            "Requirement already satisfied: pyarrow>=8.0.0 in /usr/local/lib/python3.10/dist-packages (from datasets) (9.0.0)\n",
            "Collecting dill<0.3.8,>=0.3.0 (from datasets)\n",
            "  Downloading dill-0.3.7-py3-none-any.whl (115 kB)\n",
            "\u001b[2K     \u001b[90m━━━━━━━━━━━━━━━━━━━━━━━━━━━━━━━━━━━━━━━━\u001b[0m \u001b[32m115.3/115.3 kB\u001b[0m \u001b[31m8.3 MB/s\u001b[0m eta \u001b[36m0:00:00\u001b[0m\n",
            "\u001b[?25hRequirement already satisfied: pandas in /usr/local/lib/python3.10/dist-packages (from datasets) (1.5.3)\n",
            "Requirement already satisfied: requests>=2.19.0 in /usr/local/lib/python3.10/dist-packages (from datasets) (2.31.0)\n",
            "Requirement already satisfied: tqdm>=4.62.1 in /usr/local/lib/python3.10/dist-packages (from datasets) (4.66.1)\n",
            "Requirement already satisfied: xxhash in /usr/local/lib/python3.10/dist-packages (from datasets) (3.4.1)\n",
            "Collecting multiprocess (from datasets)\n",
            "  Downloading multiprocess-0.70.15-py310-none-any.whl (134 kB)\n",
            "\u001b[2K     \u001b[90m━━━━━━━━━━━━━━━━━━━━━━━━━━━━━━━━━━━━━━━━\u001b[0m \u001b[32m134.8/134.8 kB\u001b[0m \u001b[31m9.0 MB/s\u001b[0m eta \u001b[36m0:00:00\u001b[0m\n",
            "\u001b[?25hRequirement already satisfied: aiohttp in /usr/local/lib/python3.10/dist-packages (from datasets) (3.8.6)\n",
            "Requirement already satisfied: huggingface-hub<1.0.0,>=0.14.0 in /usr/local/lib/python3.10/dist-packages (from datasets) (0.17.3)\n",
            "Requirement already satisfied: packaging in /usr/local/lib/python3.10/dist-packages (from datasets) (23.2)\n",
            "Requirement already satisfied: pyyaml>=5.1 in /usr/local/lib/python3.10/dist-packages (from datasets) (6.0.1)\n",
            "Collecting responses<0.19 (from evaluate)\n",
            "  Downloading responses-0.18.0-py3-none-any.whl (38 kB)\n",
            "Requirement already satisfied: attrs>=17.3.0 in /usr/local/lib/python3.10/dist-packages (from aiohttp->datasets) (23.1.0)\n",
            "Requirement already satisfied: charset-normalizer<4.0,>=2.0 in /usr/local/lib/python3.10/dist-packages (from aiohttp->datasets) (3.3.1)\n",
            "Requirement already satisfied: multidict<7.0,>=4.5 in /usr/local/lib/python3.10/dist-packages (from aiohttp->datasets) (6.0.4)\n",
            "Requirement already satisfied: async-timeout<5.0,>=4.0.0a3 in /usr/local/lib/python3.10/dist-packages (from aiohttp->datasets) (4.0.3)\n",
            "Requirement already satisfied: yarl<2.0,>=1.0 in /usr/local/lib/python3.10/dist-packages (from aiohttp->datasets) (1.9.2)\n",
            "Requirement already satisfied: frozenlist>=1.1.1 in /usr/local/lib/python3.10/dist-packages (from aiohttp->datasets) (1.4.0)\n",
            "Requirement already satisfied: aiosignal>=1.1.2 in /usr/local/lib/python3.10/dist-packages (from aiohttp->datasets) (1.3.1)\n",
            "Requirement already satisfied: idna<4,>=2.5 in /usr/local/lib/python3.10/dist-packages (from requests>=2.19.0->datasets) (3.4)\n",
            "Requirement already satisfied: urllib3<3,>=1.21.1 in /usr/local/lib/python3.10/dist-packages (from requests>=2.19.0->datasets) (2.0.7)\n",
            "Requirement already satisfied: certifi>=2017.4.17 in /usr/local/lib/python3.10/dist-packages (from requests>=2.19.0->datasets) (2023.7.22)\n",
            "Requirement already satisfied: MarkupSafe>=2.0 in /usr/local/lib/python3.10/dist-packages (from jinja2->torch) (2.1.3)\n",
            "Requirement already satisfied: python-dateutil>=2.8.1 in /usr/local/lib/python3.10/dist-packages (from pandas->datasets) (2.8.2)\n",
            "Requirement already satisfied: pytz>=2020.1 in /usr/local/lib/python3.10/dist-packages (from pandas->datasets) (2023.3.post1)\n",
            "Requirement already satisfied: mpmath>=0.19 in /usr/local/lib/python3.10/dist-packages (from sympy->torch) (1.3.0)\n",
            "Requirement already satisfied: six>=1.5 in /usr/local/lib/python3.10/dist-packages (from python-dateutil>=2.8.1->pandas->datasets) (1.16.0)\n",
            "Installing collected packages: dill, responses, multiprocess, datasets, evaluate\n",
            "Successfully installed datasets-2.14.6 dill-0.3.7 evaluate-0.4.1 multiprocess-0.70.15 responses-0.18.0\n",
            "Collecting seqeval\n",
            "  Downloading seqeval-1.2.2.tar.gz (43 kB)\n",
            "\u001b[2K     \u001b[90m━━━━━━━━━━━━━━━━━━━━━━━━━━━━━━━━━━━━━━━━\u001b[0m \u001b[32m43.6/43.6 kB\u001b[0m \u001b[31m1.8 MB/s\u001b[0m eta \u001b[36m0:00:00\u001b[0m\n",
            "\u001b[?25h  Preparing metadata (setup.py) ... \u001b[?25l\u001b[?25hdone\n",
            "Requirement already satisfied: numpy>=1.14.0 in /usr/local/lib/python3.10/dist-packages (from seqeval) (1.23.5)\n",
            "Requirement already satisfied: scikit-learn>=0.21.3 in /usr/local/lib/python3.10/dist-packages (from seqeval) (1.2.2)\n",
            "Requirement already satisfied: scipy>=1.3.2 in /usr/local/lib/python3.10/dist-packages (from scikit-learn>=0.21.3->seqeval) (1.11.3)\n",
            "Requirement already satisfied: joblib>=1.1.1 in /usr/local/lib/python3.10/dist-packages (from scikit-learn>=0.21.3->seqeval) (1.3.2)\n",
            "Requirement already satisfied: threadpoolctl>=2.0.0 in /usr/local/lib/python3.10/dist-packages (from scikit-learn>=0.21.3->seqeval) (3.2.0)\n",
            "Building wheels for collected packages: seqeval\n",
            "  Building wheel for seqeval (setup.py) ... \u001b[?25l\u001b[?25hdone\n",
            "  Created wheel for seqeval: filename=seqeval-1.2.2-py3-none-any.whl size=16162 sha256=8ca15fad9bdc6cf75cebef1e619dc6042959f3c85f52eae9da444585aca0f9cb\n",
            "  Stored in directory: /root/.cache/pip/wheels/1a/67/4a/ad4082dd7dfc30f2abfe4d80a2ed5926a506eb8a972b4767fa\n",
            "Successfully built seqeval\n",
            "Installing collected packages: seqeval\n",
            "Successfully installed seqeval-1.2.2\n"
          ]
        }
      ]
    },
    {
      "cell_type": "markdown",
      "metadata": {
        "id": "mWIP3af_tq4j"
      },
      "source": [
        "# Sentence Classification"
      ]
    },
    {
      "cell_type": "code",
      "execution_count": 2,
      "metadata": {
        "id": "zWF2zXLktq4p"
      },
      "outputs": [],
      "source": [
        "# Built-in library\n",
        "import re\n",
        "import json\n",
        "import logging\n",
        "from typing import Any, Dict, List, Optional, Union\n",
        "import logging\n",
        "import warnings\n",
        "\n",
        "# Standard imports\n",
        "import numpy as np\n",
        "import pandas as pd\n",
        "from rich import print\n",
        "import torch\n",
        "\n",
        "# Visualization\n",
        "import matplotlib.pyplot as plt\n",
        "\n",
        "\n",
        "# Pandas settings\n",
        "pd.options.display.max_rows = 1_000\n",
        "pd.options.display.max_columns = 1_000\n",
        "pd.options.display.max_colwidth = 600\n",
        "\n",
        "warnings.filterwarnings(\"ignore\")\n",
        "\n",
        "# Black code formatter (Optional)\n",
        "# %load_ext lab_black\n",
        "\n",
        "# auto reload imports\n",
        "# %load_ext autoreload\n",
        "# %autoreload 2"
      ]
    },
    {
      "cell_type": "code",
      "execution_count": 3,
      "metadata": {
        "id": "oS-V5CZgtq4r"
      },
      "outputs": [],
      "source": [
        "def set_up_logger(delim: str = \"::\") -> Any:\n",
        "    \"\"\"This is used to create a basic logger.\"\"\"\n",
        "\n",
        "    format_ = f\"[%(levelname)s] {delim} %(asctime)s {delim} %(message)s\"\n",
        "    logging.basicConfig(level=logging.INFO, format=format_)\n",
        "    logger = logging.getLogger(__name__)\n",
        "    return logger\n",
        "\n",
        "\n",
        "# Global variable\n",
        "logger = set_up_logger()\n",
        "\n",
        "\n",
        "def load_data(*, filename: str, sep: str = \",\") -> pd.DataFrame:\n",
        "    \"\"\"This is used to load the data.\n",
        "\n",
        "    NB: Supported formats are 'csv' and 'parquet'.\n",
        "\n",
        "    Params:\n",
        "    -------\n",
        "        filename (str): The filepath.\n",
        "        sep (str, default=\",\"): The separator. e.g ',', '\\t', etc\n",
        "\n",
        "    Returns:\n",
        "    --------\n",
        "        data (pd.DataFrame): The loaded dataframe.\n",
        "    \"\"\"\n",
        "    data = (\n",
        "        pd.read_csv(filename, sep=sep)\n",
        "        if filename.split(\".\")[-1] == \"csv\"\n",
        "        else pd.read_parquet(filename)\n",
        "    )\n",
        "    logger.info(f\"Shape of data: {data.shape}\\n\")\n",
        "    return data"
      ]
    },
    {
      "cell_type": "markdown",
      "metadata": {
        "id": "jFRzr0Xmtq4s"
      },
      "source": [
        "### Prepare Data\n",
        "\n",
        "```text\n",
        "Create:\n",
        "- Training data\n",
        "- Validation data\n",
        "- Test data\n",
        "\n",
        "Labels\n",
        "------\n",
        "salary\n",
        "gambling\n",
        "loan\n",
        "airtime\n",
        "ussdTransactions\n",
        "flightRisk\n",
        "savingsAndInvestments\n",
        "entertainment\n",
        "spend\n",
        "  - posSpend\n",
        "  - atmSpend\n",
        "  - mobileSpend\n",
        "  - webSpend\n",
        "```"
      ]
    },
    {
      "cell_type": "code",
      "source": [
        "from google.colab import drive\n",
        "\n",
        "\n",
        "drive.mount('/content/drive')"
      ],
      "metadata": {
        "id": "Zmb0_Setupt6",
        "outputId": "7c63206f-ebe3-46ad-e3e3-72acc0d9bd2e",
        "colab": {
          "base_uri": "https://localhost:8080/"
        }
      },
      "execution_count": 4,
      "outputs": [
        {
          "output_type": "stream",
          "name": "stdout",
          "text": [
            "Mounted at /content/drive\n"
          ]
        }
      ]
    },
    {
      "cell_type": "code",
      "source": [
        "fp: str = \"/content/drive/MyDrive/My doc/Deep Learning/Data/trans_data.parquet\"\n",
        "\n",
        "df: pd.DataFrame = load_data(filename=fp).rename(columns={\"cleaned_labels\": \"labels\"})\n",
        "\n",
        "df.head()"
      ],
      "metadata": {
        "id": "nU-uT7XpvKDc",
        "outputId": "1d6b9550-6344-4fa6-9bf1-9058f7888688",
        "colab": {
          "base_uri": "https://localhost:8080/",
          "height": 206
        }
      },
      "execution_count": 5,
      "outputs": [
        {
          "output_type": "execute_result",
          "data": {
            "text/plain": [
              "         date                                          description  \\\n",
              "0  2022-05-29  POS/WEB PMT T MODERNCOMMUNICATI 000104 2070849Y NG    \n",
              "1  2022-03-19                              POS/WEB PMT NULL LA NG    \n",
              "2  2022-01-14                   FGN ELECTRONIC MONEY TRANSFER LEVY   \n",
              "3  2022-02-19                                         Quantum USSD   \n",
              "4  2022-05-28          POS/WEB PMT BETWAY NG/1853277904 PSTK LANG    \n",
              "\n",
              "         amount type            labels  \n",
              "0  20000.000000    D             spend  \n",
              "1  13100.000000    D             spend  \n",
              "2    100.000000    D  spendOnTransfers  \n",
              "3  20026.880859    D              ussd  \n",
              "4  10000.000000    D          gambling  "
            ],
            "text/html": [
              "\n",
              "  <div id=\"df-aa3bf409-a690-4791-bb5a-9604bb9d6348\" class=\"colab-df-container\">\n",
              "    <div>\n",
              "<style scoped>\n",
              "    .dataframe tbody tr th:only-of-type {\n",
              "        vertical-align: middle;\n",
              "    }\n",
              "\n",
              "    .dataframe tbody tr th {\n",
              "        vertical-align: top;\n",
              "    }\n",
              "\n",
              "    .dataframe thead th {\n",
              "        text-align: right;\n",
              "    }\n",
              "</style>\n",
              "<table border=\"1\" class=\"dataframe\">\n",
              "  <thead>\n",
              "    <tr style=\"text-align: right;\">\n",
              "      <th></th>\n",
              "      <th>date</th>\n",
              "      <th>description</th>\n",
              "      <th>amount</th>\n",
              "      <th>type</th>\n",
              "      <th>labels</th>\n",
              "    </tr>\n",
              "  </thead>\n",
              "  <tbody>\n",
              "    <tr>\n",
              "      <th>0</th>\n",
              "      <td>2022-05-29</td>\n",
              "      <td>POS/WEB PMT T MODERNCOMMUNICATI 000104 2070849Y NG</td>\n",
              "      <td>20000.000000</td>\n",
              "      <td>D</td>\n",
              "      <td>spend</td>\n",
              "    </tr>\n",
              "    <tr>\n",
              "      <th>1</th>\n",
              "      <td>2022-03-19</td>\n",
              "      <td>POS/WEB PMT NULL LA NG</td>\n",
              "      <td>13100.000000</td>\n",
              "      <td>D</td>\n",
              "      <td>spend</td>\n",
              "    </tr>\n",
              "    <tr>\n",
              "      <th>2</th>\n",
              "      <td>2022-01-14</td>\n",
              "      <td>FGN ELECTRONIC MONEY TRANSFER LEVY</td>\n",
              "      <td>100.000000</td>\n",
              "      <td>D</td>\n",
              "      <td>spendOnTransfers</td>\n",
              "    </tr>\n",
              "    <tr>\n",
              "      <th>3</th>\n",
              "      <td>2022-02-19</td>\n",
              "      <td>Quantum USSD</td>\n",
              "      <td>20026.880859</td>\n",
              "      <td>D</td>\n",
              "      <td>ussd</td>\n",
              "    </tr>\n",
              "    <tr>\n",
              "      <th>4</th>\n",
              "      <td>2022-05-28</td>\n",
              "      <td>POS/WEB PMT BETWAY NG/1853277904 PSTK LANG</td>\n",
              "      <td>10000.000000</td>\n",
              "      <td>D</td>\n",
              "      <td>gambling</td>\n",
              "    </tr>\n",
              "  </tbody>\n",
              "</table>\n",
              "</div>\n",
              "    <div class=\"colab-df-buttons\">\n",
              "\n",
              "  <div class=\"colab-df-container\">\n",
              "    <button class=\"colab-df-convert\" onclick=\"convertToInteractive('df-aa3bf409-a690-4791-bb5a-9604bb9d6348')\"\n",
              "            title=\"Convert this dataframe to an interactive table.\"\n",
              "            style=\"display:none;\">\n",
              "\n",
              "  <svg xmlns=\"http://www.w3.org/2000/svg\" height=\"24px\" viewBox=\"0 -960 960 960\">\n",
              "    <path d=\"M120-120v-720h720v720H120Zm60-500h600v-160H180v160Zm220 220h160v-160H400v160Zm0 220h160v-160H400v160ZM180-400h160v-160H180v160Zm440 0h160v-160H620v160ZM180-180h160v-160H180v160Zm440 0h160v-160H620v160Z\"/>\n",
              "  </svg>\n",
              "    </button>\n",
              "\n",
              "  <style>\n",
              "    .colab-df-container {\n",
              "      display:flex;\n",
              "      gap: 12px;\n",
              "    }\n",
              "\n",
              "    .colab-df-convert {\n",
              "      background-color: #E8F0FE;\n",
              "      border: none;\n",
              "      border-radius: 50%;\n",
              "      cursor: pointer;\n",
              "      display: none;\n",
              "      fill: #1967D2;\n",
              "      height: 32px;\n",
              "      padding: 0 0 0 0;\n",
              "      width: 32px;\n",
              "    }\n",
              "\n",
              "    .colab-df-convert:hover {\n",
              "      background-color: #E2EBFA;\n",
              "      box-shadow: 0px 1px 2px rgba(60, 64, 67, 0.3), 0px 1px 3px 1px rgba(60, 64, 67, 0.15);\n",
              "      fill: #174EA6;\n",
              "    }\n",
              "\n",
              "    .colab-df-buttons div {\n",
              "      margin-bottom: 4px;\n",
              "    }\n",
              "\n",
              "    [theme=dark] .colab-df-convert {\n",
              "      background-color: #3B4455;\n",
              "      fill: #D2E3FC;\n",
              "    }\n",
              "\n",
              "    [theme=dark] .colab-df-convert:hover {\n",
              "      background-color: #434B5C;\n",
              "      box-shadow: 0px 1px 3px 1px rgba(0, 0, 0, 0.15);\n",
              "      filter: drop-shadow(0px 1px 2px rgba(0, 0, 0, 0.3));\n",
              "      fill: #FFFFFF;\n",
              "    }\n",
              "  </style>\n",
              "\n",
              "    <script>\n",
              "      const buttonEl =\n",
              "        document.querySelector('#df-aa3bf409-a690-4791-bb5a-9604bb9d6348 button.colab-df-convert');\n",
              "      buttonEl.style.display =\n",
              "        google.colab.kernel.accessAllowed ? 'block' : 'none';\n",
              "\n",
              "      async function convertToInteractive(key) {\n",
              "        const element = document.querySelector('#df-aa3bf409-a690-4791-bb5a-9604bb9d6348');\n",
              "        const dataTable =\n",
              "          await google.colab.kernel.invokeFunction('convertToInteractive',\n",
              "                                                    [key], {});\n",
              "        if (!dataTable) return;\n",
              "\n",
              "        const docLinkHtml = 'Like what you see? Visit the ' +\n",
              "          '<a target=\"_blank\" href=https://colab.research.google.com/notebooks/data_table.ipynb>data table notebook</a>'\n",
              "          + ' to learn more about interactive tables.';\n",
              "        element.innerHTML = '';\n",
              "        dataTable['output_type'] = 'display_data';\n",
              "        await google.colab.output.renderOutput(dataTable, element);\n",
              "        const docLink = document.createElement('div');\n",
              "        docLink.innerHTML = docLinkHtml;\n",
              "        element.appendChild(docLink);\n",
              "      }\n",
              "    </script>\n",
              "  </div>\n",
              "\n",
              "\n",
              "<div id=\"df-148a1c1f-ccb7-4035-a527-8d869c40ffc9\">\n",
              "  <button class=\"colab-df-quickchart\" onclick=\"quickchart('df-148a1c1f-ccb7-4035-a527-8d869c40ffc9')\"\n",
              "            title=\"Suggest charts.\"\n",
              "            style=\"display:none;\">\n",
              "\n",
              "<svg xmlns=\"http://www.w3.org/2000/svg\" height=\"24px\"viewBox=\"0 0 24 24\"\n",
              "     width=\"24px\">\n",
              "    <g>\n",
              "        <path d=\"M19 3H5c-1.1 0-2 .9-2 2v14c0 1.1.9 2 2 2h14c1.1 0 2-.9 2-2V5c0-1.1-.9-2-2-2zM9 17H7v-7h2v7zm4 0h-2V7h2v10zm4 0h-2v-4h2v4z\"/>\n",
              "    </g>\n",
              "</svg>\n",
              "  </button>\n",
              "\n",
              "<style>\n",
              "  .colab-df-quickchart {\n",
              "      --bg-color: #E8F0FE;\n",
              "      --fill-color: #1967D2;\n",
              "      --hover-bg-color: #E2EBFA;\n",
              "      --hover-fill-color: #174EA6;\n",
              "      --disabled-fill-color: #AAA;\n",
              "      --disabled-bg-color: #DDD;\n",
              "  }\n",
              "\n",
              "  [theme=dark] .colab-df-quickchart {\n",
              "      --bg-color: #3B4455;\n",
              "      --fill-color: #D2E3FC;\n",
              "      --hover-bg-color: #434B5C;\n",
              "      --hover-fill-color: #FFFFFF;\n",
              "      --disabled-bg-color: #3B4455;\n",
              "      --disabled-fill-color: #666;\n",
              "  }\n",
              "\n",
              "  .colab-df-quickchart {\n",
              "    background-color: var(--bg-color);\n",
              "    border: none;\n",
              "    border-radius: 50%;\n",
              "    cursor: pointer;\n",
              "    display: none;\n",
              "    fill: var(--fill-color);\n",
              "    height: 32px;\n",
              "    padding: 0;\n",
              "    width: 32px;\n",
              "  }\n",
              "\n",
              "  .colab-df-quickchart:hover {\n",
              "    background-color: var(--hover-bg-color);\n",
              "    box-shadow: 0 1px 2px rgba(60, 64, 67, 0.3), 0 1px 3px 1px rgba(60, 64, 67, 0.15);\n",
              "    fill: var(--button-hover-fill-color);\n",
              "  }\n",
              "\n",
              "  .colab-df-quickchart-complete:disabled,\n",
              "  .colab-df-quickchart-complete:disabled:hover {\n",
              "    background-color: var(--disabled-bg-color);\n",
              "    fill: var(--disabled-fill-color);\n",
              "    box-shadow: none;\n",
              "  }\n",
              "\n",
              "  .colab-df-spinner {\n",
              "    border: 2px solid var(--fill-color);\n",
              "    border-color: transparent;\n",
              "    border-bottom-color: var(--fill-color);\n",
              "    animation:\n",
              "      spin 1s steps(1) infinite;\n",
              "  }\n",
              "\n",
              "  @keyframes spin {\n",
              "    0% {\n",
              "      border-color: transparent;\n",
              "      border-bottom-color: var(--fill-color);\n",
              "      border-left-color: var(--fill-color);\n",
              "    }\n",
              "    20% {\n",
              "      border-color: transparent;\n",
              "      border-left-color: var(--fill-color);\n",
              "      border-top-color: var(--fill-color);\n",
              "    }\n",
              "    30% {\n",
              "      border-color: transparent;\n",
              "      border-left-color: var(--fill-color);\n",
              "      border-top-color: var(--fill-color);\n",
              "      border-right-color: var(--fill-color);\n",
              "    }\n",
              "    40% {\n",
              "      border-color: transparent;\n",
              "      border-right-color: var(--fill-color);\n",
              "      border-top-color: var(--fill-color);\n",
              "    }\n",
              "    60% {\n",
              "      border-color: transparent;\n",
              "      border-right-color: var(--fill-color);\n",
              "    }\n",
              "    80% {\n",
              "      border-color: transparent;\n",
              "      border-right-color: var(--fill-color);\n",
              "      border-bottom-color: var(--fill-color);\n",
              "    }\n",
              "    90% {\n",
              "      border-color: transparent;\n",
              "      border-bottom-color: var(--fill-color);\n",
              "    }\n",
              "  }\n",
              "</style>\n",
              "\n",
              "  <script>\n",
              "    async function quickchart(key) {\n",
              "      const quickchartButtonEl =\n",
              "        document.querySelector('#' + key + ' button');\n",
              "      quickchartButtonEl.disabled = true;  // To prevent multiple clicks.\n",
              "      quickchartButtonEl.classList.add('colab-df-spinner');\n",
              "      try {\n",
              "        const charts = await google.colab.kernel.invokeFunction(\n",
              "            'suggestCharts', [key], {});\n",
              "      } catch (error) {\n",
              "        console.error('Error during call to suggestCharts:', error);\n",
              "      }\n",
              "      quickchartButtonEl.classList.remove('colab-df-spinner');\n",
              "      quickchartButtonEl.classList.add('colab-df-quickchart-complete');\n",
              "    }\n",
              "    (() => {\n",
              "      let quickchartButtonEl =\n",
              "        document.querySelector('#df-148a1c1f-ccb7-4035-a527-8d869c40ffc9 button');\n",
              "      quickchartButtonEl.style.display =\n",
              "        google.colab.kernel.accessAllowed ? 'block' : 'none';\n",
              "    })();\n",
              "  </script>\n",
              "</div>\n",
              "    </div>\n",
              "  </div>\n"
            ]
          },
          "metadata": {},
          "execution_count": 5
        }
      ]
    },
    {
      "cell_type": "code",
      "execution_count": 6,
      "metadata": {
        "id": "-xdWCUf_tq4t",
        "outputId": "41380888-2b59-43ad-daee-df3023139d73",
        "colab": {
          "base_uri": "https://localhost:8080/",
          "height": 82
        }
      },
      "outputs": [
        {
          "output_type": "display_data",
          "data": {
            "text/plain": [
              "label2id: \u001b[1m{\u001b[0m\u001b[32m'spend'\u001b[0m: \u001b[1;36m0\u001b[0m, \u001b[32m'spendOnTransfers'\u001b[0m: \u001b[1;36m1\u001b[0m, \u001b[32m'ussd'\u001b[0m: \u001b[1;36m2\u001b[0m, \u001b[32m'gambling'\u001b[0m: \u001b[1;36m3\u001b[0m, \u001b[32m'other'\u001b[0m: \u001b[1;36m4\u001b[0m, \u001b[32m'airtime'\u001b[0m: \u001b[1;36m5\u001b[0m, \u001b[32m'salaryEarner'\u001b[0m: \n",
              "\u001b[1;36m6\u001b[0m, \u001b[32m'loanRepayments'\u001b[0m: \u001b[1;36m7\u001b[0m, \u001b[32m'flightRisk'\u001b[0m: \u001b[1;36m8\u001b[0m, \u001b[32m'loanAmount'\u001b[0m: \u001b[1;36m9\u001b[0m, \u001b[32m'entertainment'\u001b[0m: \u001b[1;36m10\u001b[0m\u001b[1m}\u001b[0m\n"
            ],
            "text/html": [
              "<pre style=\"white-space:pre;overflow-x:auto;line-height:normal;font-family:Menlo,'DejaVu Sans Mono',consolas,'Courier New',monospace\">label2id: <span style=\"font-weight: bold\">{</span><span style=\"color: #008000; text-decoration-color: #008000\">'spend'</span>: <span style=\"color: #008080; text-decoration-color: #008080; font-weight: bold\">0</span>, <span style=\"color: #008000; text-decoration-color: #008000\">'spendOnTransfers'</span>: <span style=\"color: #008080; text-decoration-color: #008080; font-weight: bold\">1</span>, <span style=\"color: #008000; text-decoration-color: #008000\">'ussd'</span>: <span style=\"color: #008080; text-decoration-color: #008080; font-weight: bold\">2</span>, <span style=\"color: #008000; text-decoration-color: #008000\">'gambling'</span>: <span style=\"color: #008080; text-decoration-color: #008080; font-weight: bold\">3</span>, <span style=\"color: #008000; text-decoration-color: #008000\">'other'</span>: <span style=\"color: #008080; text-decoration-color: #008080; font-weight: bold\">4</span>, <span style=\"color: #008000; text-decoration-color: #008000\">'airtime'</span>: <span style=\"color: #008080; text-decoration-color: #008080; font-weight: bold\">5</span>, <span style=\"color: #008000; text-decoration-color: #008000\">'salaryEarner'</span>: \n",
              "<span style=\"color: #008080; text-decoration-color: #008080; font-weight: bold\">6</span>, <span style=\"color: #008000; text-decoration-color: #008000\">'loanRepayments'</span>: <span style=\"color: #008080; text-decoration-color: #008080; font-weight: bold\">7</span>, <span style=\"color: #008000; text-decoration-color: #008000\">'flightRisk'</span>: <span style=\"color: #008080; text-decoration-color: #008080; font-weight: bold\">8</span>, <span style=\"color: #008000; text-decoration-color: #008000\">'loanAmount'</span>: <span style=\"color: #008080; text-decoration-color: #008080; font-weight: bold\">9</span>, <span style=\"color: #008000; text-decoration-color: #008000\">'entertainment'</span>: <span style=\"color: #008080; text-decoration-color: #008080; font-weight: bold\">10</span><span style=\"font-weight: bold\">}</span>\n",
              "</pre>\n"
            ]
          },
          "metadata": {}
        },
        {
          "output_type": "display_data",
          "data": {
            "text/plain": [
              "id2label: \u001b[1m{\u001b[0m\u001b[1;36m0\u001b[0m: \u001b[32m'spend'\u001b[0m, \u001b[1;36m1\u001b[0m: \u001b[32m'spendOnTransfers'\u001b[0m, \u001b[1;36m2\u001b[0m: \u001b[32m'ussd'\u001b[0m, \u001b[1;36m3\u001b[0m: \u001b[32m'gambling'\u001b[0m, \u001b[1;36m4\u001b[0m: \u001b[32m'other'\u001b[0m, \u001b[1;36m5\u001b[0m: \u001b[32m'airtime'\u001b[0m, \u001b[1;36m6\u001b[0m: \n",
              "\u001b[32m'salaryEarner'\u001b[0m, \u001b[1;36m7\u001b[0m: \u001b[32m'loanRepayments'\u001b[0m, \u001b[1;36m8\u001b[0m: \u001b[32m'flightRisk'\u001b[0m, \u001b[1;36m9\u001b[0m: \u001b[32m'loanAmount'\u001b[0m, \u001b[1;36m10\u001b[0m: \u001b[32m'entertainment'\u001b[0m\u001b[1m}\u001b[0m\n"
            ],
            "text/html": [
              "<pre style=\"white-space:pre;overflow-x:auto;line-height:normal;font-family:Menlo,'DejaVu Sans Mono',consolas,'Courier New',monospace\">id2label: <span style=\"font-weight: bold\">{</span><span style=\"color: #008080; text-decoration-color: #008080; font-weight: bold\">0</span>: <span style=\"color: #008000; text-decoration-color: #008000\">'spend'</span>, <span style=\"color: #008080; text-decoration-color: #008080; font-weight: bold\">1</span>: <span style=\"color: #008000; text-decoration-color: #008000\">'spendOnTransfers'</span>, <span style=\"color: #008080; text-decoration-color: #008080; font-weight: bold\">2</span>: <span style=\"color: #008000; text-decoration-color: #008000\">'ussd'</span>, <span style=\"color: #008080; text-decoration-color: #008080; font-weight: bold\">3</span>: <span style=\"color: #008000; text-decoration-color: #008000\">'gambling'</span>, <span style=\"color: #008080; text-decoration-color: #008080; font-weight: bold\">4</span>: <span style=\"color: #008000; text-decoration-color: #008000\">'other'</span>, <span style=\"color: #008080; text-decoration-color: #008080; font-weight: bold\">5</span>: <span style=\"color: #008000; text-decoration-color: #008000\">'airtime'</span>, <span style=\"color: #008080; text-decoration-color: #008080; font-weight: bold\">6</span>: \n",
              "<span style=\"color: #008000; text-decoration-color: #008000\">'salaryEarner'</span>, <span style=\"color: #008080; text-decoration-color: #008080; font-weight: bold\">7</span>: <span style=\"color: #008000; text-decoration-color: #008000\">'loanRepayments'</span>, <span style=\"color: #008080; text-decoration-color: #008080; font-weight: bold\">8</span>: <span style=\"color: #008000; text-decoration-color: #008000\">'flightRisk'</span>, <span style=\"color: #008080; text-decoration-color: #008080; font-weight: bold\">9</span>: <span style=\"color: #008000; text-decoration-color: #008000\">'loanAmount'</span>, <span style=\"color: #008080; text-decoration-color: #008080; font-weight: bold\">10</span>: <span style=\"color: #008000; text-decoration-color: #008000\">'entertainment'</span><span style=\"font-weight: bold\">}</span>\n",
              "</pre>\n"
            ]
          },
          "metadata": {}
        }
      ],
      "source": [
        "# Rename the labels\n",
        "labels: dict[str, Any] = list(df[\"labels\"].unique())\n",
        "id2label: dict[str, Any] = {idx: key for idx, key in enumerate(labels)}\n",
        "label2id: dict[str, Any] = {key: idx for idx, key in id2label.items()}\n",
        "\n",
        "print(f\"label2id: {label2id}\")\n",
        "\n",
        "print(f\"id2label: {id2label}\")"
      ]
    },
    {
      "cell_type": "code",
      "execution_count": 7,
      "metadata": {
        "id": "yahdEohVtq4u",
        "outputId": "98509a65-a21c-4996-e04c-3fca490ec794",
        "colab": {
          "base_uri": "https://localhost:8080/",
          "height": 206
        }
      },
      "outputs": [
        {
          "output_type": "execute_result",
          "data": {
            "text/plain": [
              "         date                                          description  \\\n",
              "0  2022-05-29  POS/WEB PMT T MODERNCOMMUNICATI 000104 2070849Y NG    \n",
              "1  2022-03-19                              POS/WEB PMT NULL LA NG    \n",
              "2  2022-01-14                   FGN ELECTRONIC MONEY TRANSFER LEVY   \n",
              "3  2022-02-19                                         Quantum USSD   \n",
              "4  2022-05-28          POS/WEB PMT BETWAY NG/1853277904 PSTK LANG    \n",
              "\n",
              "         amount type  labels  \n",
              "0  20000.000000    D       0  \n",
              "1  13100.000000    D       0  \n",
              "2    100.000000    D       1  \n",
              "3  20026.880859    D       2  \n",
              "4  10000.000000    D       3  "
            ],
            "text/html": [
              "\n",
              "  <div id=\"df-a0d0d4a8-596b-4111-a22b-48322bf827b5\" class=\"colab-df-container\">\n",
              "    <div>\n",
              "<style scoped>\n",
              "    .dataframe tbody tr th:only-of-type {\n",
              "        vertical-align: middle;\n",
              "    }\n",
              "\n",
              "    .dataframe tbody tr th {\n",
              "        vertical-align: top;\n",
              "    }\n",
              "\n",
              "    .dataframe thead th {\n",
              "        text-align: right;\n",
              "    }\n",
              "</style>\n",
              "<table border=\"1\" class=\"dataframe\">\n",
              "  <thead>\n",
              "    <tr style=\"text-align: right;\">\n",
              "      <th></th>\n",
              "      <th>date</th>\n",
              "      <th>description</th>\n",
              "      <th>amount</th>\n",
              "      <th>type</th>\n",
              "      <th>labels</th>\n",
              "    </tr>\n",
              "  </thead>\n",
              "  <tbody>\n",
              "    <tr>\n",
              "      <th>0</th>\n",
              "      <td>2022-05-29</td>\n",
              "      <td>POS/WEB PMT T MODERNCOMMUNICATI 000104 2070849Y NG</td>\n",
              "      <td>20000.000000</td>\n",
              "      <td>D</td>\n",
              "      <td>0</td>\n",
              "    </tr>\n",
              "    <tr>\n",
              "      <th>1</th>\n",
              "      <td>2022-03-19</td>\n",
              "      <td>POS/WEB PMT NULL LA NG</td>\n",
              "      <td>13100.000000</td>\n",
              "      <td>D</td>\n",
              "      <td>0</td>\n",
              "    </tr>\n",
              "    <tr>\n",
              "      <th>2</th>\n",
              "      <td>2022-01-14</td>\n",
              "      <td>FGN ELECTRONIC MONEY TRANSFER LEVY</td>\n",
              "      <td>100.000000</td>\n",
              "      <td>D</td>\n",
              "      <td>1</td>\n",
              "    </tr>\n",
              "    <tr>\n",
              "      <th>3</th>\n",
              "      <td>2022-02-19</td>\n",
              "      <td>Quantum USSD</td>\n",
              "      <td>20026.880859</td>\n",
              "      <td>D</td>\n",
              "      <td>2</td>\n",
              "    </tr>\n",
              "    <tr>\n",
              "      <th>4</th>\n",
              "      <td>2022-05-28</td>\n",
              "      <td>POS/WEB PMT BETWAY NG/1853277904 PSTK LANG</td>\n",
              "      <td>10000.000000</td>\n",
              "      <td>D</td>\n",
              "      <td>3</td>\n",
              "    </tr>\n",
              "  </tbody>\n",
              "</table>\n",
              "</div>\n",
              "    <div class=\"colab-df-buttons\">\n",
              "\n",
              "  <div class=\"colab-df-container\">\n",
              "    <button class=\"colab-df-convert\" onclick=\"convertToInteractive('df-a0d0d4a8-596b-4111-a22b-48322bf827b5')\"\n",
              "            title=\"Convert this dataframe to an interactive table.\"\n",
              "            style=\"display:none;\">\n",
              "\n",
              "  <svg xmlns=\"http://www.w3.org/2000/svg\" height=\"24px\" viewBox=\"0 -960 960 960\">\n",
              "    <path d=\"M120-120v-720h720v720H120Zm60-500h600v-160H180v160Zm220 220h160v-160H400v160Zm0 220h160v-160H400v160ZM180-400h160v-160H180v160Zm440 0h160v-160H620v160ZM180-180h160v-160H180v160Zm440 0h160v-160H620v160Z\"/>\n",
              "  </svg>\n",
              "    </button>\n",
              "\n",
              "  <style>\n",
              "    .colab-df-container {\n",
              "      display:flex;\n",
              "      gap: 12px;\n",
              "    }\n",
              "\n",
              "    .colab-df-convert {\n",
              "      background-color: #E8F0FE;\n",
              "      border: none;\n",
              "      border-radius: 50%;\n",
              "      cursor: pointer;\n",
              "      display: none;\n",
              "      fill: #1967D2;\n",
              "      height: 32px;\n",
              "      padding: 0 0 0 0;\n",
              "      width: 32px;\n",
              "    }\n",
              "\n",
              "    .colab-df-convert:hover {\n",
              "      background-color: #E2EBFA;\n",
              "      box-shadow: 0px 1px 2px rgba(60, 64, 67, 0.3), 0px 1px 3px 1px rgba(60, 64, 67, 0.15);\n",
              "      fill: #174EA6;\n",
              "    }\n",
              "\n",
              "    .colab-df-buttons div {\n",
              "      margin-bottom: 4px;\n",
              "    }\n",
              "\n",
              "    [theme=dark] .colab-df-convert {\n",
              "      background-color: #3B4455;\n",
              "      fill: #D2E3FC;\n",
              "    }\n",
              "\n",
              "    [theme=dark] .colab-df-convert:hover {\n",
              "      background-color: #434B5C;\n",
              "      box-shadow: 0px 1px 3px 1px rgba(0, 0, 0, 0.15);\n",
              "      filter: drop-shadow(0px 1px 2px rgba(0, 0, 0, 0.3));\n",
              "      fill: #FFFFFF;\n",
              "    }\n",
              "  </style>\n",
              "\n",
              "    <script>\n",
              "      const buttonEl =\n",
              "        document.querySelector('#df-a0d0d4a8-596b-4111-a22b-48322bf827b5 button.colab-df-convert');\n",
              "      buttonEl.style.display =\n",
              "        google.colab.kernel.accessAllowed ? 'block' : 'none';\n",
              "\n",
              "      async function convertToInteractive(key) {\n",
              "        const element = document.querySelector('#df-a0d0d4a8-596b-4111-a22b-48322bf827b5');\n",
              "        const dataTable =\n",
              "          await google.colab.kernel.invokeFunction('convertToInteractive',\n",
              "                                                    [key], {});\n",
              "        if (!dataTable) return;\n",
              "\n",
              "        const docLinkHtml = 'Like what you see? Visit the ' +\n",
              "          '<a target=\"_blank\" href=https://colab.research.google.com/notebooks/data_table.ipynb>data table notebook</a>'\n",
              "          + ' to learn more about interactive tables.';\n",
              "        element.innerHTML = '';\n",
              "        dataTable['output_type'] = 'display_data';\n",
              "        await google.colab.output.renderOutput(dataTable, element);\n",
              "        const docLink = document.createElement('div');\n",
              "        docLink.innerHTML = docLinkHtml;\n",
              "        element.appendChild(docLink);\n",
              "      }\n",
              "    </script>\n",
              "  </div>\n",
              "\n",
              "\n",
              "<div id=\"df-862c6e85-e00b-418e-83bf-eea387166337\">\n",
              "  <button class=\"colab-df-quickchart\" onclick=\"quickchart('df-862c6e85-e00b-418e-83bf-eea387166337')\"\n",
              "            title=\"Suggest charts.\"\n",
              "            style=\"display:none;\">\n",
              "\n",
              "<svg xmlns=\"http://www.w3.org/2000/svg\" height=\"24px\"viewBox=\"0 0 24 24\"\n",
              "     width=\"24px\">\n",
              "    <g>\n",
              "        <path d=\"M19 3H5c-1.1 0-2 .9-2 2v14c0 1.1.9 2 2 2h14c1.1 0 2-.9 2-2V5c0-1.1-.9-2-2-2zM9 17H7v-7h2v7zm4 0h-2V7h2v10zm4 0h-2v-4h2v4z\"/>\n",
              "    </g>\n",
              "</svg>\n",
              "  </button>\n",
              "\n",
              "<style>\n",
              "  .colab-df-quickchart {\n",
              "      --bg-color: #E8F0FE;\n",
              "      --fill-color: #1967D2;\n",
              "      --hover-bg-color: #E2EBFA;\n",
              "      --hover-fill-color: #174EA6;\n",
              "      --disabled-fill-color: #AAA;\n",
              "      --disabled-bg-color: #DDD;\n",
              "  }\n",
              "\n",
              "  [theme=dark] .colab-df-quickchart {\n",
              "      --bg-color: #3B4455;\n",
              "      --fill-color: #D2E3FC;\n",
              "      --hover-bg-color: #434B5C;\n",
              "      --hover-fill-color: #FFFFFF;\n",
              "      --disabled-bg-color: #3B4455;\n",
              "      --disabled-fill-color: #666;\n",
              "  }\n",
              "\n",
              "  .colab-df-quickchart {\n",
              "    background-color: var(--bg-color);\n",
              "    border: none;\n",
              "    border-radius: 50%;\n",
              "    cursor: pointer;\n",
              "    display: none;\n",
              "    fill: var(--fill-color);\n",
              "    height: 32px;\n",
              "    padding: 0;\n",
              "    width: 32px;\n",
              "  }\n",
              "\n",
              "  .colab-df-quickchart:hover {\n",
              "    background-color: var(--hover-bg-color);\n",
              "    box-shadow: 0 1px 2px rgba(60, 64, 67, 0.3), 0 1px 3px 1px rgba(60, 64, 67, 0.15);\n",
              "    fill: var(--button-hover-fill-color);\n",
              "  }\n",
              "\n",
              "  .colab-df-quickchart-complete:disabled,\n",
              "  .colab-df-quickchart-complete:disabled:hover {\n",
              "    background-color: var(--disabled-bg-color);\n",
              "    fill: var(--disabled-fill-color);\n",
              "    box-shadow: none;\n",
              "  }\n",
              "\n",
              "  .colab-df-spinner {\n",
              "    border: 2px solid var(--fill-color);\n",
              "    border-color: transparent;\n",
              "    border-bottom-color: var(--fill-color);\n",
              "    animation:\n",
              "      spin 1s steps(1) infinite;\n",
              "  }\n",
              "\n",
              "  @keyframes spin {\n",
              "    0% {\n",
              "      border-color: transparent;\n",
              "      border-bottom-color: var(--fill-color);\n",
              "      border-left-color: var(--fill-color);\n",
              "    }\n",
              "    20% {\n",
              "      border-color: transparent;\n",
              "      border-left-color: var(--fill-color);\n",
              "      border-top-color: var(--fill-color);\n",
              "    }\n",
              "    30% {\n",
              "      border-color: transparent;\n",
              "      border-left-color: var(--fill-color);\n",
              "      border-top-color: var(--fill-color);\n",
              "      border-right-color: var(--fill-color);\n",
              "    }\n",
              "    40% {\n",
              "      border-color: transparent;\n",
              "      border-right-color: var(--fill-color);\n",
              "      border-top-color: var(--fill-color);\n",
              "    }\n",
              "    60% {\n",
              "      border-color: transparent;\n",
              "      border-right-color: var(--fill-color);\n",
              "    }\n",
              "    80% {\n",
              "      border-color: transparent;\n",
              "      border-right-color: var(--fill-color);\n",
              "      border-bottom-color: var(--fill-color);\n",
              "    }\n",
              "    90% {\n",
              "      border-color: transparent;\n",
              "      border-bottom-color: var(--fill-color);\n",
              "    }\n",
              "  }\n",
              "</style>\n",
              "\n",
              "  <script>\n",
              "    async function quickchart(key) {\n",
              "      const quickchartButtonEl =\n",
              "        document.querySelector('#' + key + ' button');\n",
              "      quickchartButtonEl.disabled = true;  // To prevent multiple clicks.\n",
              "      quickchartButtonEl.classList.add('colab-df-spinner');\n",
              "      try {\n",
              "        const charts = await google.colab.kernel.invokeFunction(\n",
              "            'suggestCharts', [key], {});\n",
              "      } catch (error) {\n",
              "        console.error('Error during call to suggestCharts:', error);\n",
              "      }\n",
              "      quickchartButtonEl.classList.remove('colab-df-spinner');\n",
              "      quickchartButtonEl.classList.add('colab-df-quickchart-complete');\n",
              "    }\n",
              "    (() => {\n",
              "      let quickchartButtonEl =\n",
              "        document.querySelector('#df-862c6e85-e00b-418e-83bf-eea387166337 button');\n",
              "      quickchartButtonEl.style.display =\n",
              "        google.colab.kernel.accessAllowed ? 'block' : 'none';\n",
              "    })();\n",
              "  </script>\n",
              "</div>\n",
              "    </div>\n",
              "  </div>\n"
            ]
          },
          "metadata": {},
          "execution_count": 7
        }
      ],
      "source": [
        "# Map the labels\n",
        "df[\"labels\"] = df[\"labels\"].map(label2id)\n",
        "\n",
        "df.head()"
      ]
    },
    {
      "cell_type": "markdown",
      "metadata": {
        "id": "cYUhxsdXtq4u"
      },
      "source": [
        "### Split Data\n",
        "\n",
        "```text\n",
        "Split the data into:\n",
        "- Training data\n",
        "- Validation data\n",
        "- Test data\n",
        "```"
      ]
    },
    {
      "cell_type": "code",
      "execution_count": 8,
      "metadata": {
        "id": "cuzffS2Jtq4v",
        "outputId": "3438e0b4-a654-40a5-eef8-154683721cad",
        "colab": {
          "base_uri": "https://localhost:8080/"
        }
      },
      "outputs": [
        {
          "output_type": "execute_result",
          "data": {
            "text/plain": [
              "((460000, 5), (40000, 5))"
            ]
          },
          "metadata": {},
          "execution_count": 8
        }
      ],
      "source": [
        "from sklearn.model_selection import train_test_split\n",
        "from datasets import Dataset, DatasetDict\n",
        "\n",
        "\n",
        "RANDOM_STATE: int = 123\n",
        "TEST_SIZE: float = 0.08\n",
        "\n",
        "X_t, X_test = train_test_split(df, test_size=TEST_SIZE, random_state=RANDOM_STATE)\n",
        "\n",
        "X_t.shape, X_test.shape"
      ]
    },
    {
      "cell_type": "code",
      "execution_count": 9,
      "metadata": {
        "id": "BqeLHk_ztq4v",
        "outputId": "616603a9-7817-4cca-db69-ed3e55b68be2",
        "colab": {
          "base_uri": "https://localhost:8080/"
        }
      },
      "outputs": [
        {
          "output_type": "execute_result",
          "data": {
            "text/plain": [
              "((423200, 5), (36800, 5), (40000, 5))"
            ]
          },
          "metadata": {},
          "execution_count": 9
        }
      ],
      "source": [
        "X_train, X_validation = train_test_split(\n",
        "    X_t, test_size=TEST_SIZE, random_state=RANDOM_STATE\n",
        ")\n",
        "X_train.shape, X_validation.shape, X_test.shape"
      ]
    },
    {
      "cell_type": "code",
      "execution_count": 10,
      "metadata": {
        "id": "9IbMChnAtq4w",
        "outputId": "79e28a4b-6534-4f3d-837a-8fa3dfa730b9",
        "colab": {
          "base_uri": "https://localhost:8080/"
        }
      },
      "outputs": [
        {
          "output_type": "execute_result",
          "data": {
            "text/plain": [
              "Dataset({\n",
              "    features: ['date', 'description', 'amount', 'type', 'labels', '__index_level_0__'],\n",
              "    num_rows: 423200\n",
              "})"
            ]
          },
          "metadata": {},
          "execution_count": 10
        }
      ],
      "source": [
        "# Create dataset objects\n",
        "train_dataset: DatasetDict = Dataset.from_pandas(df=X_train)\n",
        "validation_dataset: DatasetDict = Dataset.from_pandas(df=X_validation)\n",
        "test_dataset: DatasetDict = Dataset.from_pandas(df=X_test)\n",
        "\n",
        "train_dataset"
      ]
    },
    {
      "cell_type": "code",
      "execution_count": 11,
      "metadata": {
        "id": "ius1kLh4tq4w",
        "outputId": "c749912e-910a-4ebd-9bed-efa407d9a364",
        "colab": {
          "base_uri": "https://localhost:8080/"
        }
      },
      "outputs": [
        {
          "output_type": "execute_result",
          "data": {
            "text/plain": [
              "DatasetDict({\n",
              "    train: Dataset({\n",
              "        features: ['date', 'description', 'amount', 'type', 'labels', '__index_level_0__'],\n",
              "        num_rows: 423200\n",
              "    })\n",
              "    validation: Dataset({\n",
              "        features: ['date', 'description', 'amount', 'type', 'labels', '__index_level_0__'],\n",
              "        num_rows: 36800\n",
              "    })\n",
              "    test: Dataset({\n",
              "        features: ['date', 'description', 'amount', 'type', 'labels', '__index_level_0__'],\n",
              "        num_rows: 40000\n",
              "    })\n",
              "})"
            ]
          },
          "metadata": {},
          "execution_count": 11
        }
      ],
      "source": [
        "# Create a dataset dict object\n",
        "dataset: DatasetDict = DatasetDict(\n",
        "    {\"train\": train_dataset, \"validation\": validation_dataset, \"test\": test_dataset}\n",
        ")\n",
        "\n",
        "dataset"
      ]
    },
    {
      "cell_type": "code",
      "execution_count": null,
      "metadata": {
        "id": "6mLrGSb5tq4x",
        "outputId": "93345383-da09-49a9-dd35-3bd658b68d55"
      },
      "outputs": [
        {
          "data": {
            "text/plain": [
              "DatasetDict({\n",
              "    train: Dataset({\n",
              "        features: ['date', 'description', 'amount', 'type', 'labels'],\n",
              "        num_rows: 423200\n",
              "    })\n",
              "    validation: Dataset({\n",
              "        features: ['date', 'description', 'amount', 'type', 'labels'],\n",
              "        num_rows: 36800\n",
              "    })\n",
              "    test: Dataset({\n",
              "        features: ['date', 'description', 'amount', 'type', 'labels'],\n",
              "        num_rows: 40000\n",
              "    })\n",
              "})"
            ]
          },
          "execution_count": 10,
          "metadata": {},
          "output_type": "execute_result"
        }
      ],
      "source": [
        "# Remove column\n",
        "dataset = dataset.remove_columns([\"__index_level_0__\"])\n",
        "dataset"
      ]
    },
    {
      "cell_type": "code",
      "execution_count": null,
      "metadata": {
        "id": "EwxAeOfytq4x",
        "outputId": "bade2dd4-d8d7-4e64-d4a4-9f56abd4973c"
      },
      "outputs": [
        {
          "data": {
            "text/html": [
              "<pre style=\"white-space:pre;overflow-x:auto;line-height:normal;font-family:Menlo,'DejaVu Sans Mono',consolas,'Courier New',monospace\"><span style=\"font-weight: bold\">{</span>\n",
              "    <span style=\"color: #008000; text-decoration-color: #008000\">'date'</span>: <span style=\"color: #008000; text-decoration-color: #008000\">'2022-05-06'</span>,\n",
              "    <span style=\"color: #008000; text-decoration-color: #008000\">'description'</span>: <span style=\"color: #008000; text-decoration-color: #008000\">'MOTUNRAYO TITILOPE FAYOMI-WILLIAMS/A'</span>,\n",
              "    <span style=\"color: #008000; text-decoration-color: #008000\">'amount'</span>: <span style=\"color: #008080; text-decoration-color: #008080; font-weight: bold\">3000.0</span>,\n",
              "    <span style=\"color: #008000; text-decoration-color: #008000\">'type'</span>: <span style=\"color: #008000; text-decoration-color: #008000\">'C'</span>,\n",
              "    <span style=\"color: #008000; text-decoration-color: #008000\">'labels'</span>: <span style=\"color: #008080; text-decoration-color: #008080; font-weight: bold\">4</span>\n",
              "<span style=\"font-weight: bold\">}</span>\n",
              "</pre>\n"
            ],
            "text/plain": [
              "\u001b[1m{\u001b[0m\n",
              "    \u001b[32m'date'\u001b[0m: \u001b[32m'2022-05-06'\u001b[0m,\n",
              "    \u001b[32m'description'\u001b[0m: \u001b[32m'MOTUNRAYO TITILOPE FAYOMI-WILLIAMS/A'\u001b[0m,\n",
              "    \u001b[32m'amount'\u001b[0m: \u001b[1;36m3000.0\u001b[0m,\n",
              "    \u001b[32m'type'\u001b[0m: \u001b[32m'C'\u001b[0m,\n",
              "    \u001b[32m'labels'\u001b[0m: \u001b[1;36m4\u001b[0m\n",
              "\u001b[1m}\u001b[0m\n"
            ]
          },
          "metadata": {},
          "output_type": "display_data"
        },
        {
          "data": {
            "text/html": [
              "<pre style=\"white-space:pre;overflow-x:auto;line-height:normal;font-family:Menlo,'DejaVu Sans Mono',consolas,'Courier New',monospace\"><span style=\"font-weight: bold\">{</span>\n",
              "    <span style=\"color: #008000; text-decoration-color: #008000\">'date'</span>: <span style=\"color: #008000; text-decoration-color: #008000\">'2022-04-22'</span>,\n",
              "    <span style=\"color: #008000; text-decoration-color: #008000\">'description'</span>: <span style=\"color: #008000; text-decoration-color: #008000\">'TRF/Payment for NDK/FRM DASMAN PANAN MAAN TO  DANIEL GBASIKA ADEBOYE - 011'</span>,\n",
              "    <span style=\"color: #008000; text-decoration-color: #008000\">'amount'</span>: <span style=\"color: #008080; text-decoration-color: #008080; font-weight: bold\">12026.8798828125</span>,\n",
              "    <span style=\"color: #008000; text-decoration-color: #008000\">'type'</span>: <span style=\"color: #008000; text-decoration-color: #008000\">'D'</span>,\n",
              "    <span style=\"color: #008000; text-decoration-color: #008000\">'labels'</span>: <span style=\"color: #008080; text-decoration-color: #008080; font-weight: bold\">1</span>\n",
              "<span style=\"font-weight: bold\">}</span>\n",
              "</pre>\n"
            ],
            "text/plain": [
              "\u001b[1m{\u001b[0m\n",
              "    \u001b[32m'date'\u001b[0m: \u001b[32m'2022-04-22'\u001b[0m,\n",
              "    \u001b[32m'description'\u001b[0m: \u001b[32m'TRF/Payment for NDK/FRM DASMAN PANAN MAAN TO  DANIEL GBASIKA ADEBOYE - 011'\u001b[0m,\n",
              "    \u001b[32m'amount'\u001b[0m: \u001b[1;36m12026.8798828125\u001b[0m,\n",
              "    \u001b[32m'type'\u001b[0m: \u001b[32m'D'\u001b[0m,\n",
              "    \u001b[32m'labels'\u001b[0m: \u001b[1;36m1\u001b[0m\n",
              "\u001b[1m}\u001b[0m\n"
            ]
          },
          "metadata": {},
          "output_type": "display_data"
        },
        {
          "data": {
            "text/html": [
              "<pre style=\"white-space:pre;overflow-x:auto;line-height:normal;font-family:Menlo,'DejaVu Sans Mono',consolas,'Courier New',monospace\"><span style=\"font-weight: bold\">{</span><span style=\"color: #008000; text-decoration-color: #008000\">'date'</span>: <span style=\"color: #008000; text-decoration-color: #008000\">'2021-12-14'</span>, <span style=\"color: #008000; text-decoration-color: #008000\">'description'</span>: <span style=\"color: #008000; text-decoration-color: #008000\">'ATM CASH WDL ROU'</span>, <span style=\"color: #008000; text-decoration-color: #008000\">'amount'</span>: <span style=\"color: #008080; text-decoration-color: #008080; font-weight: bold\">3000.0</span>, <span style=\"color: #008000; text-decoration-color: #008000\">'type'</span>: <span style=\"color: #008000; text-decoration-color: #008000\">'D'</span>, <span style=\"color: #008000; text-decoration-color: #008000\">'labels'</span>: <span style=\"color: #008080; text-decoration-color: #008080; font-weight: bold\">0</span><span style=\"font-weight: bold\">}</span>\n",
              "</pre>\n"
            ],
            "text/plain": [
              "\u001b[1m{\u001b[0m\u001b[32m'date'\u001b[0m: \u001b[32m'2021-12-14'\u001b[0m, \u001b[32m'description'\u001b[0m: \u001b[32m'ATM CASH WDL ROU'\u001b[0m, \u001b[32m'amount'\u001b[0m: \u001b[1;36m3000.0\u001b[0m, \u001b[32m'type'\u001b[0m: \u001b[32m'D'\u001b[0m, \u001b[32m'labels'\u001b[0m: \u001b[1;36m0\u001b[0m\u001b[1m}\u001b[0m\n"
            ]
          },
          "metadata": {},
          "output_type": "display_data"
        }
      ],
      "source": [
        "print(dataset.get(\"train\")[0])\n",
        "\n",
        "print(dataset.get(\"validation\")[0])\n",
        "\n",
        "print(dataset.get(\"test\")[0])"
      ]
    },
    {
      "cell_type": "code",
      "execution_count": null,
      "metadata": {
        "id": "bk0Zj8QHtq4y"
      },
      "outputs": [],
      "source": [
        "def lower_case_slower(example: dict[str, Any]) -> dict[str, Any]:\n",
        "    \"\"\"Convert the text to lowercase. It's a MUCH SLOWER version.\"\"\"\n",
        "    return {\"description\": example.get(\"description\").lower()}\n",
        "\n",
        "\n",
        "def lower_case(example: dict[str, Any]) -> dict[str, Any]:\n",
        "    \"\"\"Convert the text to lowercase.\"\"\"\n",
        "    return {\"description\": [val.lower() for val in example.get(\"description\")]}\n",
        "\n",
        "\n",
        "def add_description_length(example: dict[str, Any]) -> dict[str, Any]:\n",
        "    \"\"\"This is used to add the length of the description to the dataset.\"\"\"\n",
        "    return {\"description_length\": [len(val) for val in example.get(\"description\")]}"
      ]
    },
    {
      "cell_type": "code",
      "execution_count": null,
      "metadata": {
        "id": "-OldomyBtq4y"
      },
      "outputs": [],
      "source": [
        "# Much slower\n",
        "# dataset_1 = dataset.map(lower_case_slower)\n",
        "# dataset_1"
      ]
    },
    {
      "cell_type": "code",
      "execution_count": null,
      "metadata": {
        "id": "_efYpPfEtq4y",
        "outputId": "dde2e14d-c0a5-4185-d6bd-1025cce1fe60",
        "colab": {
          "referenced_widgets": [
            "2d2b38a0d41b4325a80026bdd8c7f8d6",
            "d2bbdc4941414aa39905bc064d232c46",
            "9db974d19aa04c40acdb395f10c6dc7d"
          ]
        }
      },
      "outputs": [
        {
          "data": {
            "application/vnd.jupyter.widget-view+json": {
              "model_id": "2d2b38a0d41b4325a80026bdd8c7f8d6",
              "version_major": 2,
              "version_minor": 0
            },
            "text/plain": [
              "Map:   0%|          | 0/423200 [00:00<?, ? examples/s]"
            ]
          },
          "metadata": {},
          "output_type": "display_data"
        },
        {
          "data": {
            "application/vnd.jupyter.widget-view+json": {
              "model_id": "d2bbdc4941414aa39905bc064d232c46",
              "version_major": 2,
              "version_minor": 0
            },
            "text/plain": [
              "Map:   0%|          | 0/36800 [00:00<?, ? examples/s]"
            ]
          },
          "metadata": {},
          "output_type": "display_data"
        },
        {
          "data": {
            "application/vnd.jupyter.widget-view+json": {
              "model_id": "9db974d19aa04c40acdb395f10c6dc7d",
              "version_major": 2,
              "version_minor": 0
            },
            "text/plain": [
              "Map:   0%|          | 0/40000 [00:00<?, ? examples/s]"
            ]
          },
          "metadata": {},
          "output_type": "display_data"
        },
        {
          "data": {
            "text/plain": [
              "DatasetDict({\n",
              "    train: Dataset({\n",
              "        features: ['date', 'description', 'amount', 'type', 'labels'],\n",
              "        num_rows: 423200\n",
              "    })\n",
              "    validation: Dataset({\n",
              "        features: ['date', 'description', 'amount', 'type', 'labels'],\n",
              "        num_rows: 36800\n",
              "    })\n",
              "    test: Dataset({\n",
              "        features: ['date', 'description', 'amount', 'type', 'labels'],\n",
              "        num_rows: 40000\n",
              "    })\n",
              "})"
            ]
          },
          "execution_count": 14,
          "metadata": {},
          "output_type": "execute_result"
        }
      ],
      "source": [
        "# Much faster!\n",
        "dataset_1 = dataset.map(lower_case, batched=True)\n",
        "dataset_1"
      ]
    },
    {
      "cell_type": "code",
      "execution_count": null,
      "metadata": {
        "id": "XLOYmQEhtq4y",
        "outputId": "cb3f52ad-173e-48e0-8c8f-8e1944772a35",
        "colab": {
          "referenced_widgets": [
            "161a05343dd040a7b07920f20c9bc13b",
            "ac71092d12b2496998307e4005c6026d",
            "6f3e85de6594406b8208fa8b586986c3"
          ]
        }
      },
      "outputs": [
        {
          "data": {
            "application/vnd.jupyter.widget-view+json": {
              "model_id": "161a05343dd040a7b07920f20c9bc13b",
              "version_major": 2,
              "version_minor": 0
            },
            "text/plain": [
              "Map:   0%|          | 0/423200 [00:00<?, ? examples/s]"
            ]
          },
          "metadata": {},
          "output_type": "display_data"
        },
        {
          "data": {
            "application/vnd.jupyter.widget-view+json": {
              "model_id": "ac71092d12b2496998307e4005c6026d",
              "version_major": 2,
              "version_minor": 0
            },
            "text/plain": [
              "Map:   0%|          | 0/36800 [00:00<?, ? examples/s]"
            ]
          },
          "metadata": {},
          "output_type": "display_data"
        },
        {
          "data": {
            "application/vnd.jupyter.widget-view+json": {
              "model_id": "6f3e85de6594406b8208fa8b586986c3",
              "version_major": 2,
              "version_minor": 0
            },
            "text/plain": [
              "Map:   0%|          | 0/40000 [00:00<?, ? examples/s]"
            ]
          },
          "metadata": {},
          "output_type": "display_data"
        },
        {
          "data": {
            "text/plain": [
              "DatasetDict({\n",
              "    train: Dataset({\n",
              "        features: ['date', 'description', 'amount', 'type', 'labels', 'description_length'],\n",
              "        num_rows: 423200\n",
              "    })\n",
              "    validation: Dataset({\n",
              "        features: ['date', 'description', 'amount', 'type', 'labels', 'description_length'],\n",
              "        num_rows: 36800\n",
              "    })\n",
              "    test: Dataset({\n",
              "        features: ['date', 'description', 'amount', 'type', 'labels', 'description_length'],\n",
              "        num_rows: 40000\n",
              "    })\n",
              "})"
            ]
          },
          "execution_count": 15,
          "metadata": {},
          "output_type": "execute_result"
        }
      ],
      "source": [
        "dataset_1 = dataset_1.map(add_description_length, batched=True)\n",
        "dataset_1"
      ]
    },
    {
      "cell_type": "code",
      "execution_count": null,
      "metadata": {
        "id": "Q-kGrLhLtq4z",
        "outputId": "5c350d16-b9bd-4dcf-9c2b-397cfb448cae"
      },
      "outputs": [
        {
          "data": {
            "text/html": [
              "<pre style=\"white-space:pre;overflow-x:auto;line-height:normal;font-family:Menlo,'DejaVu Sans Mono',consolas,'Courier New',monospace\"><span style=\"font-weight: bold\">{</span>\n",
              "    <span style=\"color: #008000; text-decoration-color: #008000\">'date'</span>: <span style=\"color: #008000; text-decoration-color: #008000\">'2022-05-06'</span>,\n",
              "    <span style=\"color: #008000; text-decoration-color: #008000\">'description'</span>: <span style=\"color: #008000; text-decoration-color: #008000\">'motunrayo titilope fayomi-williams/a'</span>,\n",
              "    <span style=\"color: #008000; text-decoration-color: #008000\">'amount'</span>: <span style=\"color: #008080; text-decoration-color: #008080; font-weight: bold\">3000.0</span>,\n",
              "    <span style=\"color: #008000; text-decoration-color: #008000\">'type'</span>: <span style=\"color: #008000; text-decoration-color: #008000\">'C'</span>,\n",
              "    <span style=\"color: #008000; text-decoration-color: #008000\">'labels'</span>: <span style=\"color: #008080; text-decoration-color: #008080; font-weight: bold\">4</span>,\n",
              "    <span style=\"color: #008000; text-decoration-color: #008000\">'description_length'</span>: <span style=\"color: #008080; text-decoration-color: #008080; font-weight: bold\">36</span>\n",
              "<span style=\"font-weight: bold\">}</span>\n",
              "</pre>\n"
            ],
            "text/plain": [
              "\u001b[1m{\u001b[0m\n",
              "    \u001b[32m'date'\u001b[0m: \u001b[32m'2022-05-06'\u001b[0m,\n",
              "    \u001b[32m'description'\u001b[0m: \u001b[32m'motunrayo titilope fayomi-williams/a'\u001b[0m,\n",
              "    \u001b[32m'amount'\u001b[0m: \u001b[1;36m3000.0\u001b[0m,\n",
              "    \u001b[32m'type'\u001b[0m: \u001b[32m'C'\u001b[0m,\n",
              "    \u001b[32m'labels'\u001b[0m: \u001b[1;36m4\u001b[0m,\n",
              "    \u001b[32m'description_length'\u001b[0m: \u001b[1;36m36\u001b[0m\n",
              "\u001b[1m}\u001b[0m\n"
            ]
          },
          "metadata": {},
          "output_type": "display_data"
        },
        {
          "data": {
            "text/html": [
              "<pre style=\"white-space:pre;overflow-x:auto;line-height:normal;font-family:Menlo,'DejaVu Sans Mono',consolas,'Courier New',monospace\"><span style=\"font-weight: bold\">{</span>\n",
              "    <span style=\"color: #008000; text-decoration-color: #008000\">'date'</span>: <span style=\"color: #008000; text-decoration-color: #008000\">'2022-04-22'</span>,\n",
              "    <span style=\"color: #008000; text-decoration-color: #008000\">'description'</span>: <span style=\"color: #008000; text-decoration-color: #008000\">'trf/payment for ndk/frm dasman panan maan to  daniel gbasika adeboye - 011'</span>,\n",
              "    <span style=\"color: #008000; text-decoration-color: #008000\">'amount'</span>: <span style=\"color: #008080; text-decoration-color: #008080; font-weight: bold\">12026.8798828125</span>,\n",
              "    <span style=\"color: #008000; text-decoration-color: #008000\">'type'</span>: <span style=\"color: #008000; text-decoration-color: #008000\">'D'</span>,\n",
              "    <span style=\"color: #008000; text-decoration-color: #008000\">'labels'</span>: <span style=\"color: #008080; text-decoration-color: #008080; font-weight: bold\">1</span>,\n",
              "    <span style=\"color: #008000; text-decoration-color: #008000\">'description_length'</span>: <span style=\"color: #008080; text-decoration-color: #008080; font-weight: bold\">74</span>\n",
              "<span style=\"font-weight: bold\">}</span>\n",
              "</pre>\n"
            ],
            "text/plain": [
              "\u001b[1m{\u001b[0m\n",
              "    \u001b[32m'date'\u001b[0m: \u001b[32m'2022-04-22'\u001b[0m,\n",
              "    \u001b[32m'description'\u001b[0m: \u001b[32m'trf/payment for ndk/frm dasman panan maan to  daniel gbasika adeboye - 011'\u001b[0m,\n",
              "    \u001b[32m'amount'\u001b[0m: \u001b[1;36m12026.8798828125\u001b[0m,\n",
              "    \u001b[32m'type'\u001b[0m: \u001b[32m'D'\u001b[0m,\n",
              "    \u001b[32m'labels'\u001b[0m: \u001b[1;36m1\u001b[0m,\n",
              "    \u001b[32m'description_length'\u001b[0m: \u001b[1;36m74\u001b[0m\n",
              "\u001b[1m}\u001b[0m\n"
            ]
          },
          "metadata": {},
          "output_type": "display_data"
        },
        {
          "data": {
            "text/html": [
              "<pre style=\"white-space:pre;overflow-x:auto;line-height:normal;font-family:Menlo,'DejaVu Sans Mono',consolas,'Courier New',monospace\"><span style=\"font-weight: bold\">{</span>\n",
              "    <span style=\"color: #008000; text-decoration-color: #008000\">'date'</span>: <span style=\"color: #008000; text-decoration-color: #008000\">'2021-12-14'</span>,\n",
              "    <span style=\"color: #008000; text-decoration-color: #008000\">'description'</span>: <span style=\"color: #008000; text-decoration-color: #008000\">'atm cash wdl rou'</span>,\n",
              "    <span style=\"color: #008000; text-decoration-color: #008000\">'amount'</span>: <span style=\"color: #008080; text-decoration-color: #008080; font-weight: bold\">3000.0</span>,\n",
              "    <span style=\"color: #008000; text-decoration-color: #008000\">'type'</span>: <span style=\"color: #008000; text-decoration-color: #008000\">'D'</span>,\n",
              "    <span style=\"color: #008000; text-decoration-color: #008000\">'labels'</span>: <span style=\"color: #008080; text-decoration-color: #008080; font-weight: bold\">0</span>,\n",
              "    <span style=\"color: #008000; text-decoration-color: #008000\">'description_length'</span>: <span style=\"color: #008080; text-decoration-color: #008080; font-weight: bold\">16</span>\n",
              "<span style=\"font-weight: bold\">}</span>\n",
              "</pre>\n"
            ],
            "text/plain": [
              "\u001b[1m{\u001b[0m\n",
              "    \u001b[32m'date'\u001b[0m: \u001b[32m'2021-12-14'\u001b[0m,\n",
              "    \u001b[32m'description'\u001b[0m: \u001b[32m'atm cash wdl rou'\u001b[0m,\n",
              "    \u001b[32m'amount'\u001b[0m: \u001b[1;36m3000.0\u001b[0m,\n",
              "    \u001b[32m'type'\u001b[0m: \u001b[32m'D'\u001b[0m,\n",
              "    \u001b[32m'labels'\u001b[0m: \u001b[1;36m0\u001b[0m,\n",
              "    \u001b[32m'description_length'\u001b[0m: \u001b[1;36m16\u001b[0m\n",
              "\u001b[1m}\u001b[0m\n"
            ]
          },
          "metadata": {},
          "output_type": "display_data"
        }
      ],
      "source": [
        "print(dataset_1.get(\"train\")[0])\n",
        "\n",
        "print(dataset_1.get(\"validation\")[0])\n",
        "\n",
        "print(dataset_1.get(\"test\")[0])"
      ]
    },
    {
      "cell_type": "code",
      "execution_count": null,
      "metadata": {
        "id": "vSLTaNpHtq4z",
        "outputId": "364fbe87-977f-4ed3-ea9d-4429cabb6962",
        "colab": {
          "referenced_widgets": [
            "2ff43c0b04b24f3d87ef9c9a3ff344b5",
            "51c2eb3f0fe84c6e95f58d330628d355",
            "11a792af68754bac9e19dd3cba10cbb2"
          ]
        }
      },
      "outputs": [
        {
          "data": {
            "application/vnd.jupyter.widget-view+json": {
              "model_id": "2ff43c0b04b24f3d87ef9c9a3ff344b5",
              "version_major": 2,
              "version_minor": 0
            },
            "text/plain": [
              "Filter:   0%|          | 0/423200 [00:00<?, ? examples/s]"
            ]
          },
          "metadata": {},
          "output_type": "display_data"
        },
        {
          "data": {
            "application/vnd.jupyter.widget-view+json": {
              "model_id": "51c2eb3f0fe84c6e95f58d330628d355",
              "version_major": 2,
              "version_minor": 0
            },
            "text/plain": [
              "Filter:   0%|          | 0/36800 [00:00<?, ? examples/s]"
            ]
          },
          "metadata": {},
          "output_type": "display_data"
        },
        {
          "data": {
            "application/vnd.jupyter.widget-view+json": {
              "model_id": "11a792af68754bac9e19dd3cba10cbb2",
              "version_major": 2,
              "version_minor": 0
            },
            "text/plain": [
              "Filter:   0%|          | 0/40000 [00:00<?, ? examples/s]"
            ]
          },
          "metadata": {},
          "output_type": "display_data"
        },
        {
          "data": {
            "text/plain": [
              "DatasetDict({\n",
              "    train: Dataset({\n",
              "        features: ['date', 'description', 'amount', 'type', 'labels', 'description_length'],\n",
              "        num_rows: 408029\n",
              "    })\n",
              "    validation: Dataset({\n",
              "        features: ['date', 'description', 'amount', 'type', 'labels', 'description_length'],\n",
              "        num_rows: 35476\n",
              "    })\n",
              "    test: Dataset({\n",
              "        features: ['date', 'description', 'amount', 'type', 'labels', 'description_length'],\n",
              "        num_rows: 38555\n",
              "    })\n",
              "})"
            ]
          },
          "execution_count": 17,
          "metadata": {},
          "output_type": "execute_result"
        }
      ],
      "source": [
        "# Drop descriptions that are less than 10\n",
        "THRESHOLD: int = 10\n",
        "dataset_1 = dataset_1.filter(lambda x: x.get(\"description_length\") >= THRESHOLD)\n",
        "dataset_1"
      ]
    },
    {
      "cell_type": "code",
      "execution_count": null,
      "metadata": {
        "id": "9glPQtdKtq4z",
        "outputId": "8ccff8bc-e30d-428a-f6f4-e053d15902be"
      },
      "outputs": [
        {
          "data": {
            "text/html": [
              "<pre style=\"white-space:pre;overflow-x:auto;line-height:normal;font-family:Menlo,'DejaVu Sans Mono',consolas,'Courier New',monospace\"><span style=\"font-weight: bold\">{</span>\n",
              "    <span style=\"color: #008000; text-decoration-color: #008000\">'date'</span>: <span style=\"color: #008000; text-decoration-color: #008000\">'2022-04-22'</span>,\n",
              "    <span style=\"color: #008000; text-decoration-color: #008000\">'description'</span>: <span style=\"color: #008000; text-decoration-color: #008000\">'trf/payment for ndk/frm dasman panan maan to  daniel gbasika adeboye - 011'</span>,\n",
              "    <span style=\"color: #008000; text-decoration-color: #008000\">'amount'</span>: <span style=\"color: #008080; text-decoration-color: #008080; font-weight: bold\">12026.8798828125</span>,\n",
              "    <span style=\"color: #008000; text-decoration-color: #008000\">'type'</span>: <span style=\"color: #008000; text-decoration-color: #008000\">'D'</span>,\n",
              "    <span style=\"color: #008000; text-decoration-color: #008000\">'labels'</span>: <span style=\"color: #008080; text-decoration-color: #008080; font-weight: bold\">1</span>,\n",
              "    <span style=\"color: #008000; text-decoration-color: #008000\">'description_length'</span>: <span style=\"color: #008080; text-decoration-color: #008080; font-weight: bold\">74</span>\n",
              "<span style=\"font-weight: bold\">}</span>\n",
              "</pre>\n"
            ],
            "text/plain": [
              "\u001b[1m{\u001b[0m\n",
              "    \u001b[32m'date'\u001b[0m: \u001b[32m'2022-04-22'\u001b[0m,\n",
              "    \u001b[32m'description'\u001b[0m: \u001b[32m'trf/payment for ndk/frm dasman panan maan to  daniel gbasika adeboye - 011'\u001b[0m,\n",
              "    \u001b[32m'amount'\u001b[0m: \u001b[1;36m12026.8798828125\u001b[0m,\n",
              "    \u001b[32m'type'\u001b[0m: \u001b[32m'D'\u001b[0m,\n",
              "    \u001b[32m'labels'\u001b[0m: \u001b[1;36m1\u001b[0m,\n",
              "    \u001b[32m'description_length'\u001b[0m: \u001b[1;36m74\u001b[0m\n",
              "\u001b[1m}\u001b[0m\n"
            ]
          },
          "metadata": {},
          "output_type": "display_data"
        }
      ],
      "source": [
        "print(dataset_1.get(\"validation\")[0])"
      ]
    },
    {
      "cell_type": "code",
      "execution_count": null,
      "metadata": {
        "id": "zlfVJO9qtq4z"
      },
      "outputs": [],
      "source": [
        "def concat_data(example: dict[str, Any]) -> dict[str, Any]:\n",
        "    \"\"\"This is used to create a new column by combining columns in the dataset.\"\"\"\n",
        "\n",
        "    result: dict[str, Any] = {\n",
        "        \"body\": [\n",
        "            f\"{date} \\n {type} \\n {amount} \\n {description}\"\n",
        "            for (date, type, amount, description) in zip(\n",
        "                example.get(\"date\"),\n",
        "                example.get(\"type\"),\n",
        "                example.get(\"amount\"),\n",
        "                example.get(\"description\"),\n",
        "            )\n",
        "        ]\n",
        "    }\n",
        "    return result"
      ]
    },
    {
      "cell_type": "code",
      "execution_count": null,
      "metadata": {
        "id": "074QQuxrtq4z",
        "outputId": "c1a4d728-4646-48e0-9f56-6b203d50fdb3",
        "colab": {
          "referenced_widgets": [
            "476f2b2e9c5e494a9771b7a1c4ad6e20",
            "c56cc89b46eb42859f79c34e214db709",
            "db63b7c68cb04e7684523b88ed025de3"
          ]
        }
      },
      "outputs": [
        {
          "data": {
            "application/vnd.jupyter.widget-view+json": {
              "model_id": "476f2b2e9c5e494a9771b7a1c4ad6e20",
              "version_major": 2,
              "version_minor": 0
            },
            "text/plain": [
              "Map:   0%|          | 0/408029 [00:00<?, ? examples/s]"
            ]
          },
          "metadata": {},
          "output_type": "display_data"
        },
        {
          "data": {
            "application/vnd.jupyter.widget-view+json": {
              "model_id": "c56cc89b46eb42859f79c34e214db709",
              "version_major": 2,
              "version_minor": 0
            },
            "text/plain": [
              "Map:   0%|          | 0/35476 [00:00<?, ? examples/s]"
            ]
          },
          "metadata": {},
          "output_type": "display_data"
        },
        {
          "data": {
            "application/vnd.jupyter.widget-view+json": {
              "model_id": "db63b7c68cb04e7684523b88ed025de3",
              "version_major": 2,
              "version_minor": 0
            },
            "text/plain": [
              "Map:   0%|          | 0/38555 [00:00<?, ? examples/s]"
            ]
          },
          "metadata": {},
          "output_type": "display_data"
        },
        {
          "data": {
            "text/plain": [
              "DatasetDict({\n",
              "    train: Dataset({\n",
              "        features: ['date', 'description', 'amount', 'type', 'labels', 'description_length', 'body'],\n",
              "        num_rows: 408029\n",
              "    })\n",
              "    validation: Dataset({\n",
              "        features: ['date', 'description', 'amount', 'type', 'labels', 'description_length', 'body'],\n",
              "        num_rows: 35476\n",
              "    })\n",
              "    test: Dataset({\n",
              "        features: ['date', 'description', 'amount', 'type', 'labels', 'description_length', 'body'],\n",
              "        num_rows: 38555\n",
              "    })\n",
              "})"
            ]
          },
          "execution_count": 20,
          "metadata": {},
          "output_type": "execute_result"
        }
      ],
      "source": [
        "dataset_1 = dataset_1.map(concat_data, batched=True)\n",
        "dataset_1"
      ]
    },
    {
      "cell_type": "code",
      "execution_count": null,
      "metadata": {
        "id": "rG6qXdbFtq40",
        "outputId": "90610c6b-b01b-4c38-c544-36c2b80b062f"
      },
      "outputs": [
        {
          "data": {
            "text/html": [
              "<pre style=\"white-space:pre;overflow-x:auto;line-height:normal;font-family:Menlo,'DejaVu Sans Mono',consolas,'Courier New',monospace\"><span style=\"font-weight: bold\">{</span>\n",
              "    <span style=\"color: #008000; text-decoration-color: #008000\">'date'</span>: <span style=\"color: #008000; text-decoration-color: #008000\">'2022-05-06'</span>,\n",
              "    <span style=\"color: #008000; text-decoration-color: #008000\">'description'</span>: <span style=\"color: #008000; text-decoration-color: #008000\">'motunrayo titilope fayomi-williams/a'</span>,\n",
              "    <span style=\"color: #008000; text-decoration-color: #008000\">'amount'</span>: <span style=\"color: #008080; text-decoration-color: #008080; font-weight: bold\">3000.0</span>,\n",
              "    <span style=\"color: #008000; text-decoration-color: #008000\">'type'</span>: <span style=\"color: #008000; text-decoration-color: #008000\">'C'</span>,\n",
              "    <span style=\"color: #008000; text-decoration-color: #008000\">'labels'</span>: <span style=\"color: #008080; text-decoration-color: #008080; font-weight: bold\">4</span>,\n",
              "    <span style=\"color: #008000; text-decoration-color: #008000\">'description_length'</span>: <span style=\"color: #008080; text-decoration-color: #008080; font-weight: bold\">36</span>,\n",
              "    <span style=\"color: #008000; text-decoration-color: #008000\">'body'</span>: <span style=\"color: #008000; text-decoration-color: #008000\">'2022-05-06 \\n C \\n 3000.0 \\n motunrayo titilope fayomi-williams/a'</span>\n",
              "<span style=\"font-weight: bold\">}</span>\n",
              "</pre>\n"
            ],
            "text/plain": [
              "\u001b[1m{\u001b[0m\n",
              "    \u001b[32m'date'\u001b[0m: \u001b[32m'2022-05-06'\u001b[0m,\n",
              "    \u001b[32m'description'\u001b[0m: \u001b[32m'motunrayo titilope fayomi-williams/a'\u001b[0m,\n",
              "    \u001b[32m'amount'\u001b[0m: \u001b[1;36m3000.0\u001b[0m,\n",
              "    \u001b[32m'type'\u001b[0m: \u001b[32m'C'\u001b[0m,\n",
              "    \u001b[32m'labels'\u001b[0m: \u001b[1;36m4\u001b[0m,\n",
              "    \u001b[32m'description_length'\u001b[0m: \u001b[1;36m36\u001b[0m,\n",
              "    \u001b[32m'body'\u001b[0m: \u001b[32m'2022-05-06 \\n C \\n 3000.0 \\n motunrayo titilope fayomi-williams/a'\u001b[0m\n",
              "\u001b[1m}\u001b[0m\n"
            ]
          },
          "metadata": {},
          "output_type": "display_data"
        }
      ],
      "source": [
        "print(dataset_1.get(\"train\")[0])"
      ]
    },
    {
      "cell_type": "markdown",
      "metadata": {
        "id": "qpisglpgtq40"
      },
      "source": [
        "### Tokenize Data"
      ]
    },
    {
      "cell_type": "code",
      "execution_count": null,
      "metadata": {
        "id": "nNbY5Bqvtq40"
      },
      "outputs": [],
      "source": [
        "from transformers import AutoTokenizer\n",
        "\n",
        "\n",
        "MODEL_CHECKPOINT: str = \"bert-base-cased\"\n",
        "tokenizer: AutoTokenizer = AutoTokenizer.from_pretrained(MODEL_CHECKPOINT)\n",
        "\n",
        "\n",
        "def tokenize_function(examples: dict[str, Any]) -> dict[str, Any]:\n",
        "    \"\"\"This is used to tokenize the text. It returns a dict containing the\n",
        "    input_ids, token_type_ids and attention_mask.\"\"\"\n",
        "    return tokenizer(examples.get(\"body\"), truncation=True)"
      ]
    },
    {
      "cell_type": "code",
      "execution_count": null,
      "metadata": {
        "id": "HIQaq3Wytq40",
        "outputId": "bff1c02e-680f-4321-abc9-8ddbd0ddb53d",
        "colab": {
          "referenced_widgets": [
            "9eb997d407d444cea5e38f1f60b33640",
            "1e71f33bebe5482193fd20c2715c7a2f",
            "2dc03083a7a642c68aa2c32b27e6ba68"
          ]
        }
      },
      "outputs": [
        {
          "data": {
            "application/vnd.jupyter.widget-view+json": {
              "model_id": "9eb997d407d444cea5e38f1f60b33640",
              "version_major": 2,
              "version_minor": 0
            },
            "text/plain": [
              "Map:   0%|          | 0/408029 [00:00<?, ? examples/s]"
            ]
          },
          "metadata": {},
          "output_type": "display_data"
        },
        {
          "data": {
            "application/vnd.jupyter.widget-view+json": {
              "model_id": "1e71f33bebe5482193fd20c2715c7a2f",
              "version_major": 2,
              "version_minor": 0
            },
            "text/plain": [
              "Map:   0%|          | 0/35476 [00:00<?, ? examples/s]"
            ]
          },
          "metadata": {},
          "output_type": "display_data"
        },
        {
          "data": {
            "application/vnd.jupyter.widget-view+json": {
              "model_id": "2dc03083a7a642c68aa2c32b27e6ba68",
              "version_major": 2,
              "version_minor": 0
            },
            "text/plain": [
              "Map:   0%|          | 0/38555 [00:00<?, ? examples/s]"
            ]
          },
          "metadata": {},
          "output_type": "display_data"
        },
        {
          "data": {
            "text/plain": [
              "DatasetDict({\n",
              "    train: Dataset({\n",
              "        features: ['labels', 'input_ids', 'token_type_ids', 'attention_mask'],\n",
              "        num_rows: 408029\n",
              "    })\n",
              "    validation: Dataset({\n",
              "        features: ['labels', 'input_ids', 'token_type_ids', 'attention_mask'],\n",
              "        num_rows: 35476\n",
              "    })\n",
              "    test: Dataset({\n",
              "        features: ['labels', 'input_ids', 'token_type_ids', 'attention_mask'],\n",
              "        num_rows: 38555\n",
              "    })\n",
              "})"
            ]
          },
          "execution_count": 28,
          "metadata": {},
          "output_type": "execute_result"
        }
      ],
      "source": [
        "FEATURES: list[str] = [\n",
        "    \"date\",\n",
        "    \"description\",\n",
        "    \"amount\",\n",
        "    \"type\",\n",
        "    \"description_length\",\n",
        "    \"body\",\n",
        "]\n",
        "\n",
        "tokenized_dataset: DatasetDict = dataset_1.map(\n",
        "    tokenize_function,\n",
        "    batched=True,\n",
        "    remove_columns=FEATURES,\n",
        ")\n",
        "tokenized_dataset"
      ]
    },
    {
      "cell_type": "code",
      "execution_count": null,
      "metadata": {
        "id": "iJ4zadZbtq40",
        "outputId": "6f9faeb3-f7e7-49a4-f16c-23aeb8fe8f93"
      },
      "outputs": [
        {
          "data": {
            "text/html": [
              "<pre style=\"white-space:pre;overflow-x:auto;line-height:normal;font-family:Menlo,'DejaVu Sans Mono',consolas,'Courier New',monospace\"><span style=\"font-weight: bold\">{</span>\n",
              "    <span style=\"color: #008000; text-decoration-color: #008000\">'labels'</span>: <span style=\"color: #008080; text-decoration-color: #008080; font-weight: bold\">4</span>,\n",
              "    <span style=\"color: #008000; text-decoration-color: #008000\">'input_ids'</span>: <span style=\"font-weight: bold\">[</span>\n",
              "        <span style=\"color: #008080; text-decoration-color: #008080; font-weight: bold\">101</span>,\n",
              "        <span style=\"color: #008080; text-decoration-color: #008080; font-weight: bold\">17881</span>,\n",
              "        <span style=\"color: #008080; text-decoration-color: #008080; font-weight: bold\">1477</span>,\n",
              "        <span style=\"color: #008080; text-decoration-color: #008080; font-weight: bold\">118</span>,\n",
              "        <span style=\"color: #008080; text-decoration-color: #008080; font-weight: bold\">4991</span>,\n",
              "        <span style=\"color: #008080; text-decoration-color: #008080; font-weight: bold\">118</span>,\n",
              "        <span style=\"color: #008080; text-decoration-color: #008080; font-weight: bold\">5037</span>,\n",
              "        <span style=\"color: #008080; text-decoration-color: #008080; font-weight: bold\">140</span>,\n",
              "        <span style=\"color: #008080; text-decoration-color: #008080; font-weight: bold\">11975</span>,\n",
              "        <span style=\"color: #008080; text-decoration-color: #008080; font-weight: bold\">119</span>,\n",
              "        <span style=\"color: #008080; text-decoration-color: #008080; font-weight: bold\">121</span>,\n",
              "        <span style=\"color: #008080; text-decoration-color: #008080; font-weight: bold\">182</span>,\n",
              "        <span style=\"color: #008080; text-decoration-color: #008080; font-weight: bold\">3329</span>,\n",
              "        <span style=\"color: #008080; text-decoration-color: #008080; font-weight: bold\">3488</span>,\n",
              "        <span style=\"color: #008080; text-decoration-color: #008080; font-weight: bold\">6447</span>,\n",
              "        <span style=\"color: #008080; text-decoration-color: #008080; font-weight: bold\">1186</span>,\n",
              "        <span style=\"color: #008080; text-decoration-color: #008080; font-weight: bold\">189</span>,\n",
              "        <span style=\"color: #008080; text-decoration-color: #008080; font-weight: bold\">17030</span>,\n",
              "        <span style=\"color: #008080; text-decoration-color: #008080; font-weight: bold\">13200</span>,\n",
              "        <span style=\"color: #008080; text-decoration-color: #008080; font-weight: bold\">1162</span>,\n",
              "        <span style=\"color: #008080; text-decoration-color: #008080; font-weight: bold\">175</span>,\n",
              "        <span style=\"color: #008080; text-decoration-color: #008080; font-weight: bold\">4164</span>,\n",
              "        <span style=\"color: #008080; text-decoration-color: #008080; font-weight: bold\">18882</span>,\n",
              "        <span style=\"color: #008080; text-decoration-color: #008080; font-weight: bold\">118</span>,\n",
              "        <span style=\"color: #008080; text-decoration-color: #008080; font-weight: bold\">1209</span>,\n",
              "        <span style=\"color: #008080; text-decoration-color: #008080; font-weight: bold\">18331</span>,\n",
              "        <span style=\"color: #008080; text-decoration-color: #008080; font-weight: bold\">1116</span>,\n",
              "        <span style=\"color: #008080; text-decoration-color: #008080; font-weight: bold\">120</span>,\n",
              "        <span style=\"color: #008080; text-decoration-color: #008080; font-weight: bold\">170</span>,\n",
              "        <span style=\"color: #008080; text-decoration-color: #008080; font-weight: bold\">102</span>\n",
              "    <span style=\"font-weight: bold\">]</span>,\n",
              "    <span style=\"color: #008000; text-decoration-color: #008000\">'token_type_ids'</span>: <span style=\"font-weight: bold\">[</span><span style=\"color: #008080; text-decoration-color: #008080; font-weight: bold\">0</span>, <span style=\"color: #008080; text-decoration-color: #008080; font-weight: bold\">0</span>, <span style=\"color: #008080; text-decoration-color: #008080; font-weight: bold\">0</span>, <span style=\"color: #008080; text-decoration-color: #008080; font-weight: bold\">0</span>, <span style=\"color: #008080; text-decoration-color: #008080; font-weight: bold\">0</span>, <span style=\"color: #008080; text-decoration-color: #008080; font-weight: bold\">0</span>, <span style=\"color: #008080; text-decoration-color: #008080; font-weight: bold\">0</span>, <span style=\"color: #008080; text-decoration-color: #008080; font-weight: bold\">0</span>, <span style=\"color: #008080; text-decoration-color: #008080; font-weight: bold\">0</span>, <span style=\"color: #008080; text-decoration-color: #008080; font-weight: bold\">0</span>, <span style=\"color: #008080; text-decoration-color: #008080; font-weight: bold\">0</span>, <span style=\"color: #008080; text-decoration-color: #008080; font-weight: bold\">0</span>, <span style=\"color: #008080; text-decoration-color: #008080; font-weight: bold\">0</span>, <span style=\"color: #008080; text-decoration-color: #008080; font-weight: bold\">0</span>, <span style=\"color: #008080; text-decoration-color: #008080; font-weight: bold\">0</span>, <span style=\"color: #008080; text-decoration-color: #008080; font-weight: bold\">0</span>, <span style=\"color: #008080; text-decoration-color: #008080; font-weight: bold\">0</span>, <span style=\"color: #008080; text-decoration-color: #008080; font-weight: bold\">0</span>, <span style=\"color: #008080; text-decoration-color: #008080; font-weight: bold\">0</span>, <span style=\"color: #008080; text-decoration-color: #008080; font-weight: bold\">0</span>, <span style=\"color: #008080; text-decoration-color: #008080; font-weight: bold\">0</span>, <span style=\"color: #008080; text-decoration-color: #008080; font-weight: bold\">0</span>, <span style=\"color: #008080; text-decoration-color: #008080; font-weight: bold\">0</span>, <span style=\"color: #008080; text-decoration-color: #008080; font-weight: bold\">0</span>, <span style=\"color: #008080; text-decoration-color: #008080; font-weight: bold\">0</span>, <span style=\"color: #008080; text-decoration-color: #008080; font-weight: bold\">0</span>, <span style=\"color: #008080; text-decoration-color: #008080; font-weight: bold\">0</span>, <span style=\"color: #008080; text-decoration-color: #008080; font-weight: bold\">0</span>, <span style=\"color: #008080; text-decoration-color: #008080; font-weight: bold\">0</span>, <span style=\"color: #008080; text-decoration-color: #008080; font-weight: bold\">0</span><span style=\"font-weight: bold\">]</span>,\n",
              "    <span style=\"color: #008000; text-decoration-color: #008000\">'attention_mask'</span>: <span style=\"font-weight: bold\">[</span><span style=\"color: #008080; text-decoration-color: #008080; font-weight: bold\">1</span>, <span style=\"color: #008080; text-decoration-color: #008080; font-weight: bold\">1</span>, <span style=\"color: #008080; text-decoration-color: #008080; font-weight: bold\">1</span>, <span style=\"color: #008080; text-decoration-color: #008080; font-weight: bold\">1</span>, <span style=\"color: #008080; text-decoration-color: #008080; font-weight: bold\">1</span>, <span style=\"color: #008080; text-decoration-color: #008080; font-weight: bold\">1</span>, <span style=\"color: #008080; text-decoration-color: #008080; font-weight: bold\">1</span>, <span style=\"color: #008080; text-decoration-color: #008080; font-weight: bold\">1</span>, <span style=\"color: #008080; text-decoration-color: #008080; font-weight: bold\">1</span>, <span style=\"color: #008080; text-decoration-color: #008080; font-weight: bold\">1</span>, <span style=\"color: #008080; text-decoration-color: #008080; font-weight: bold\">1</span>, <span style=\"color: #008080; text-decoration-color: #008080; font-weight: bold\">1</span>, <span style=\"color: #008080; text-decoration-color: #008080; font-weight: bold\">1</span>, <span style=\"color: #008080; text-decoration-color: #008080; font-weight: bold\">1</span>, <span style=\"color: #008080; text-decoration-color: #008080; font-weight: bold\">1</span>, <span style=\"color: #008080; text-decoration-color: #008080; font-weight: bold\">1</span>, <span style=\"color: #008080; text-decoration-color: #008080; font-weight: bold\">1</span>, <span style=\"color: #008080; text-decoration-color: #008080; font-weight: bold\">1</span>, <span style=\"color: #008080; text-decoration-color: #008080; font-weight: bold\">1</span>, <span style=\"color: #008080; text-decoration-color: #008080; font-weight: bold\">1</span>, <span style=\"color: #008080; text-decoration-color: #008080; font-weight: bold\">1</span>, <span style=\"color: #008080; text-decoration-color: #008080; font-weight: bold\">1</span>, <span style=\"color: #008080; text-decoration-color: #008080; font-weight: bold\">1</span>, <span style=\"color: #008080; text-decoration-color: #008080; font-weight: bold\">1</span>, <span style=\"color: #008080; text-decoration-color: #008080; font-weight: bold\">1</span>, <span style=\"color: #008080; text-decoration-color: #008080; font-weight: bold\">1</span>, <span style=\"color: #008080; text-decoration-color: #008080; font-weight: bold\">1</span>, <span style=\"color: #008080; text-decoration-color: #008080; font-weight: bold\">1</span>, <span style=\"color: #008080; text-decoration-color: #008080; font-weight: bold\">1</span>, <span style=\"color: #008080; text-decoration-color: #008080; font-weight: bold\">1</span><span style=\"font-weight: bold\">]</span>\n",
              "<span style=\"font-weight: bold\">}</span>\n",
              "</pre>\n"
            ],
            "text/plain": [
              "\u001b[1m{\u001b[0m\n",
              "    \u001b[32m'labels'\u001b[0m: \u001b[1;36m4\u001b[0m,\n",
              "    \u001b[32m'input_ids'\u001b[0m: \u001b[1m[\u001b[0m\n",
              "        \u001b[1;36m101\u001b[0m,\n",
              "        \u001b[1;36m17881\u001b[0m,\n",
              "        \u001b[1;36m1477\u001b[0m,\n",
              "        \u001b[1;36m118\u001b[0m,\n",
              "        \u001b[1;36m4991\u001b[0m,\n",
              "        \u001b[1;36m118\u001b[0m,\n",
              "        \u001b[1;36m5037\u001b[0m,\n",
              "        \u001b[1;36m140\u001b[0m,\n",
              "        \u001b[1;36m11975\u001b[0m,\n",
              "        \u001b[1;36m119\u001b[0m,\n",
              "        \u001b[1;36m121\u001b[0m,\n",
              "        \u001b[1;36m182\u001b[0m,\n",
              "        \u001b[1;36m3329\u001b[0m,\n",
              "        \u001b[1;36m3488\u001b[0m,\n",
              "        \u001b[1;36m6447\u001b[0m,\n",
              "        \u001b[1;36m1186\u001b[0m,\n",
              "        \u001b[1;36m189\u001b[0m,\n",
              "        \u001b[1;36m17030\u001b[0m,\n",
              "        \u001b[1;36m13200\u001b[0m,\n",
              "        \u001b[1;36m1162\u001b[0m,\n",
              "        \u001b[1;36m175\u001b[0m,\n",
              "        \u001b[1;36m4164\u001b[0m,\n",
              "        \u001b[1;36m18882\u001b[0m,\n",
              "        \u001b[1;36m118\u001b[0m,\n",
              "        \u001b[1;36m1209\u001b[0m,\n",
              "        \u001b[1;36m18331\u001b[0m,\n",
              "        \u001b[1;36m1116\u001b[0m,\n",
              "        \u001b[1;36m120\u001b[0m,\n",
              "        \u001b[1;36m170\u001b[0m,\n",
              "        \u001b[1;36m102\u001b[0m\n",
              "    \u001b[1m]\u001b[0m,\n",
              "    \u001b[32m'token_type_ids'\u001b[0m: \u001b[1m[\u001b[0m\u001b[1;36m0\u001b[0m, \u001b[1;36m0\u001b[0m, \u001b[1;36m0\u001b[0m, \u001b[1;36m0\u001b[0m, \u001b[1;36m0\u001b[0m, \u001b[1;36m0\u001b[0m, \u001b[1;36m0\u001b[0m, \u001b[1;36m0\u001b[0m, \u001b[1;36m0\u001b[0m, \u001b[1;36m0\u001b[0m, \u001b[1;36m0\u001b[0m, \u001b[1;36m0\u001b[0m, \u001b[1;36m0\u001b[0m, \u001b[1;36m0\u001b[0m, \u001b[1;36m0\u001b[0m, \u001b[1;36m0\u001b[0m, \u001b[1;36m0\u001b[0m, \u001b[1;36m0\u001b[0m, \u001b[1;36m0\u001b[0m, \u001b[1;36m0\u001b[0m, \u001b[1;36m0\u001b[0m, \u001b[1;36m0\u001b[0m, \u001b[1;36m0\u001b[0m, \u001b[1;36m0\u001b[0m, \u001b[1;36m0\u001b[0m, \u001b[1;36m0\u001b[0m, \u001b[1;36m0\u001b[0m, \u001b[1;36m0\u001b[0m, \u001b[1;36m0\u001b[0m, \u001b[1;36m0\u001b[0m\u001b[1m]\u001b[0m,\n",
              "    \u001b[32m'attention_mask'\u001b[0m: \u001b[1m[\u001b[0m\u001b[1;36m1\u001b[0m, \u001b[1;36m1\u001b[0m, \u001b[1;36m1\u001b[0m, \u001b[1;36m1\u001b[0m, \u001b[1;36m1\u001b[0m, \u001b[1;36m1\u001b[0m, \u001b[1;36m1\u001b[0m, \u001b[1;36m1\u001b[0m, \u001b[1;36m1\u001b[0m, \u001b[1;36m1\u001b[0m, \u001b[1;36m1\u001b[0m, \u001b[1;36m1\u001b[0m, \u001b[1;36m1\u001b[0m, \u001b[1;36m1\u001b[0m, \u001b[1;36m1\u001b[0m, \u001b[1;36m1\u001b[0m, \u001b[1;36m1\u001b[0m, \u001b[1;36m1\u001b[0m, \u001b[1;36m1\u001b[0m, \u001b[1;36m1\u001b[0m, \u001b[1;36m1\u001b[0m, \u001b[1;36m1\u001b[0m, \u001b[1;36m1\u001b[0m, \u001b[1;36m1\u001b[0m, \u001b[1;36m1\u001b[0m, \u001b[1;36m1\u001b[0m, \u001b[1;36m1\u001b[0m, \u001b[1;36m1\u001b[0m, \u001b[1;36m1\u001b[0m, \u001b[1;36m1\u001b[0m\u001b[1m]\u001b[0m\n",
              "\u001b[1m}\u001b[0m\n"
            ]
          },
          "metadata": {},
          "output_type": "display_data"
        }
      ],
      "source": [
        "print(tokenized_dataset.get(\"train\")[0])"
      ]
    },
    {
      "cell_type": "code",
      "execution_count": null,
      "metadata": {
        "id": "LDK2JNfhtq41",
        "outputId": "31ee89b1-ca77-4cbf-ea59-1961b1a61692"
      },
      "outputs": [
        {
          "data": {
            "text/plain": [
              "11"
            ]
          },
          "execution_count": 30,
          "metadata": {},
          "output_type": "execute_result"
        }
      ],
      "source": [
        "# Number of unique labels\n",
        "N_LABELS: int = len(tokenized_dataset.get(\"train\").unique(\"labels\"))\n",
        "\n",
        "N_LABELS"
      ]
    },
    {
      "cell_type": "code",
      "execution_count": null,
      "metadata": {
        "id": "P3ybLZgLtq41"
      },
      "outputs": [],
      "source": [
        "from transformers import DataCollatorWithPadding\n",
        "\n",
        "\n",
        "data_collator: DataCollatorWithPadding = DataCollatorWithPadding(tokenizer=tokenizer)"
      ]
    },
    {
      "cell_type": "code",
      "execution_count": null,
      "metadata": {
        "id": "fOcOWoyjtq41",
        "outputId": "2e2c04bf-196d-4fde-915e-125436ae0152"
      },
      "outputs": [
        {
          "data": {
            "text/html": [
              "<pre style=\"white-space:pre;overflow-x:auto;line-height:normal;font-family:Menlo,'DejaVu Sans Mono',consolas,'Courier New',monospace\"><span style=\"font-weight: bold\">{</span>\n",
              "    <span style=\"color: #008000; text-decoration-color: #008000\">'labels'</span>: <span style=\"color: #800080; text-decoration-color: #800080; font-weight: bold\">tensor</span><span style=\"font-weight: bold\">([</span><span style=\"color: #008080; text-decoration-color: #008080; font-weight: bold\">4</span>, <span style=\"color: #008080; text-decoration-color: #008080; font-weight: bold\">0</span><span style=\"font-weight: bold\">])</span>,\n",
              "    <span style=\"color: #008000; text-decoration-color: #008000\">'input_ids'</span>: <span style=\"color: #800080; text-decoration-color: #800080; font-weight: bold\">tensor</span><span style=\"font-weight: bold\">([[</span>  <span style=\"color: #008080; text-decoration-color: #008080; font-weight: bold\">101</span>, <span style=\"color: #008080; text-decoration-color: #008080; font-weight: bold\">17881</span>,  <span style=\"color: #008080; text-decoration-color: #008080; font-weight: bold\">1477</span>,   <span style=\"color: #008080; text-decoration-color: #008080; font-weight: bold\">118</span>,  <span style=\"color: #008080; text-decoration-color: #008080; font-weight: bold\">4991</span>,   <span style=\"color: #008080; text-decoration-color: #008080; font-weight: bold\">118</span>,  <span style=\"color: #008080; text-decoration-color: #008080; font-weight: bold\">5037</span>,   <span style=\"color: #008080; text-decoration-color: #008080; font-weight: bold\">140</span>, <span style=\"color: #008080; text-decoration-color: #008080; font-weight: bold\">11975</span>,   <span style=\"color: #008080; text-decoration-color: #008080; font-weight: bold\">119</span>,\n",
              "           <span style=\"color: #008080; text-decoration-color: #008080; font-weight: bold\">121</span>,   <span style=\"color: #008080; text-decoration-color: #008080; font-weight: bold\">182</span>,  <span style=\"color: #008080; text-decoration-color: #008080; font-weight: bold\">3329</span>,  <span style=\"color: #008080; text-decoration-color: #008080; font-weight: bold\">3488</span>,  <span style=\"color: #008080; text-decoration-color: #008080; font-weight: bold\">6447</span>,  <span style=\"color: #008080; text-decoration-color: #008080; font-weight: bold\">1186</span>,   <span style=\"color: #008080; text-decoration-color: #008080; font-weight: bold\">189</span>, <span style=\"color: #008080; text-decoration-color: #008080; font-weight: bold\">17030</span>, <span style=\"color: #008080; text-decoration-color: #008080; font-weight: bold\">13200</span>,  <span style=\"color: #008080; text-decoration-color: #008080; font-weight: bold\">1162</span>,\n",
              "           <span style=\"color: #008080; text-decoration-color: #008080; font-weight: bold\">175</span>,  <span style=\"color: #008080; text-decoration-color: #008080; font-weight: bold\">4164</span>, <span style=\"color: #008080; text-decoration-color: #008080; font-weight: bold\">18882</span>,   <span style=\"color: #008080; text-decoration-color: #008080; font-weight: bold\">118</span>,  <span style=\"color: #008080; text-decoration-color: #008080; font-weight: bold\">1209</span>, <span style=\"color: #008080; text-decoration-color: #008080; font-weight: bold\">18331</span>,  <span style=\"color: #008080; text-decoration-color: #008080; font-weight: bold\">1116</span>,   <span style=\"color: #008080; text-decoration-color: #008080; font-weight: bold\">120</span>,   <span style=\"color: #008080; text-decoration-color: #008080; font-weight: bold\">170</span>,   <span style=\"color: #008080; text-decoration-color: #008080; font-weight: bold\">102</span><span style=\"font-weight: bold\">]</span>,\n",
              "        <span style=\"font-weight: bold\">[</span>  <span style=\"color: #008080; text-decoration-color: #008080; font-weight: bold\">101</span>, <span style=\"color: #008080; text-decoration-color: #008080; font-weight: bold\">17881</span>,  <span style=\"color: #008080; text-decoration-color: #008080; font-weight: bold\">1477</span>,   <span style=\"color: #008080; text-decoration-color: #008080; font-weight: bold\">118</span>,  <span style=\"color: #008080; text-decoration-color: #008080; font-weight: bold\">5187</span>,   <span style=\"color: #008080; text-decoration-color: #008080; font-weight: bold\">118</span>,  <span style=\"color: #008080; text-decoration-color: #008080; font-weight: bold\">1955</span>,   <span style=\"color: #008080; text-decoration-color: #008080; font-weight: bold\">141</span>, <span style=\"color: #008080; text-decoration-color: #008080; font-weight: bold\">26177</span>,  <span style=\"color: #008080; text-decoration-color: #008080; font-weight: bold\">1568</span>,\n",
              "           <span style=\"color: #008080; text-decoration-color: #008080; font-weight: bold\">119</span>,   <span style=\"color: #008080; text-decoration-color: #008080; font-weight: bold\">121</span>,   <span style=\"color: #008080; text-decoration-color: #008080; font-weight: bold\">185</span>,  <span style=\"color: #008080; text-decoration-color: #008080; font-weight: bold\">2155</span>,   <span style=\"color: #008080; text-decoration-color: #008080; font-weight: bold\">120</span>,  <span style=\"color: #008080; text-decoration-color: #008080; font-weight: bold\">5127</span>,  <span style=\"color: #008080; text-decoration-color: #008080; font-weight: bold\">4779</span>,   <span style=\"color: #008080; text-decoration-color: #008080; font-weight: bold\">187</span>,  <span style=\"color: #008080; text-decoration-color: #008080; font-weight: bold\">6094</span>,   <span style=\"color: #008080; text-decoration-color: #008080; font-weight: bold\">102</span>,\n",
              "             <span style=\"color: #008080; text-decoration-color: #008080; font-weight: bold\">0</span>,     <span style=\"color: #008080; text-decoration-color: #008080; font-weight: bold\">0</span>,     <span style=\"color: #008080; text-decoration-color: #008080; font-weight: bold\">0</span>,     <span style=\"color: #008080; text-decoration-color: #008080; font-weight: bold\">0</span>,     <span style=\"color: #008080; text-decoration-color: #008080; font-weight: bold\">0</span>,     <span style=\"color: #008080; text-decoration-color: #008080; font-weight: bold\">0</span>,     <span style=\"color: #008080; text-decoration-color: #008080; font-weight: bold\">0</span>,     <span style=\"color: #008080; text-decoration-color: #008080; font-weight: bold\">0</span>,     <span style=\"color: #008080; text-decoration-color: #008080; font-weight: bold\">0</span>,     <span style=\"color: #008080; text-decoration-color: #008080; font-weight: bold\">0</span><span style=\"font-weight: bold\">]])</span>,\n",
              "    <span style=\"color: #008000; text-decoration-color: #008000\">'token_type_ids'</span>: <span style=\"color: #800080; text-decoration-color: #800080; font-weight: bold\">tensor</span><span style=\"font-weight: bold\">([[</span><span style=\"color: #008080; text-decoration-color: #008080; font-weight: bold\">0</span>, <span style=\"color: #008080; text-decoration-color: #008080; font-weight: bold\">0</span>, <span style=\"color: #008080; text-decoration-color: #008080; font-weight: bold\">0</span>, <span style=\"color: #008080; text-decoration-color: #008080; font-weight: bold\">0</span>, <span style=\"color: #008080; text-decoration-color: #008080; font-weight: bold\">0</span>, <span style=\"color: #008080; text-decoration-color: #008080; font-weight: bold\">0</span>, <span style=\"color: #008080; text-decoration-color: #008080; font-weight: bold\">0</span>, <span style=\"color: #008080; text-decoration-color: #008080; font-weight: bold\">0</span>, <span style=\"color: #008080; text-decoration-color: #008080; font-weight: bold\">0</span>, <span style=\"color: #008080; text-decoration-color: #008080; font-weight: bold\">0</span>, <span style=\"color: #008080; text-decoration-color: #008080; font-weight: bold\">0</span>, <span style=\"color: #008080; text-decoration-color: #008080; font-weight: bold\">0</span>, <span style=\"color: #008080; text-decoration-color: #008080; font-weight: bold\">0</span>, <span style=\"color: #008080; text-decoration-color: #008080; font-weight: bold\">0</span>, <span style=\"color: #008080; text-decoration-color: #008080; font-weight: bold\">0</span>, <span style=\"color: #008080; text-decoration-color: #008080; font-weight: bold\">0</span>, <span style=\"color: #008080; text-decoration-color: #008080; font-weight: bold\">0</span>, <span style=\"color: #008080; text-decoration-color: #008080; font-weight: bold\">0</span>, <span style=\"color: #008080; text-decoration-color: #008080; font-weight: bold\">0</span>, <span style=\"color: #008080; text-decoration-color: #008080; font-weight: bold\">0</span>, <span style=\"color: #008080; text-decoration-color: #008080; font-weight: bold\">0</span>, <span style=\"color: #008080; text-decoration-color: #008080; font-weight: bold\">0</span>, <span style=\"color: #008080; text-decoration-color: #008080; font-weight: bold\">0</span>, <span style=\"color: #008080; text-decoration-color: #008080; font-weight: bold\">0</span>,\n",
              "         <span style=\"color: #008080; text-decoration-color: #008080; font-weight: bold\">0</span>, <span style=\"color: #008080; text-decoration-color: #008080; font-weight: bold\">0</span>, <span style=\"color: #008080; text-decoration-color: #008080; font-weight: bold\">0</span>, <span style=\"color: #008080; text-decoration-color: #008080; font-weight: bold\">0</span>, <span style=\"color: #008080; text-decoration-color: #008080; font-weight: bold\">0</span>, <span style=\"color: #008080; text-decoration-color: #008080; font-weight: bold\">0</span><span style=\"font-weight: bold\">]</span>,\n",
              "        <span style=\"font-weight: bold\">[</span><span style=\"color: #008080; text-decoration-color: #008080; font-weight: bold\">0</span>, <span style=\"color: #008080; text-decoration-color: #008080; font-weight: bold\">0</span>, <span style=\"color: #008080; text-decoration-color: #008080; font-weight: bold\">0</span>, <span style=\"color: #008080; text-decoration-color: #008080; font-weight: bold\">0</span>, <span style=\"color: #008080; text-decoration-color: #008080; font-weight: bold\">0</span>, <span style=\"color: #008080; text-decoration-color: #008080; font-weight: bold\">0</span>, <span style=\"color: #008080; text-decoration-color: #008080; font-weight: bold\">0</span>, <span style=\"color: #008080; text-decoration-color: #008080; font-weight: bold\">0</span>, <span style=\"color: #008080; text-decoration-color: #008080; font-weight: bold\">0</span>, <span style=\"color: #008080; text-decoration-color: #008080; font-weight: bold\">0</span>, <span style=\"color: #008080; text-decoration-color: #008080; font-weight: bold\">0</span>, <span style=\"color: #008080; text-decoration-color: #008080; font-weight: bold\">0</span>, <span style=\"color: #008080; text-decoration-color: #008080; font-weight: bold\">0</span>, <span style=\"color: #008080; text-decoration-color: #008080; font-weight: bold\">0</span>, <span style=\"color: #008080; text-decoration-color: #008080; font-weight: bold\">0</span>, <span style=\"color: #008080; text-decoration-color: #008080; font-weight: bold\">0</span>, <span style=\"color: #008080; text-decoration-color: #008080; font-weight: bold\">0</span>, <span style=\"color: #008080; text-decoration-color: #008080; font-weight: bold\">0</span>, <span style=\"color: #008080; text-decoration-color: #008080; font-weight: bold\">0</span>, <span style=\"color: #008080; text-decoration-color: #008080; font-weight: bold\">0</span>, <span style=\"color: #008080; text-decoration-color: #008080; font-weight: bold\">0</span>, <span style=\"color: #008080; text-decoration-color: #008080; font-weight: bold\">0</span>, <span style=\"color: #008080; text-decoration-color: #008080; font-weight: bold\">0</span>, <span style=\"color: #008080; text-decoration-color: #008080; font-weight: bold\">0</span>,\n",
              "         <span style=\"color: #008080; text-decoration-color: #008080; font-weight: bold\">0</span>, <span style=\"color: #008080; text-decoration-color: #008080; font-weight: bold\">0</span>, <span style=\"color: #008080; text-decoration-color: #008080; font-weight: bold\">0</span>, <span style=\"color: #008080; text-decoration-color: #008080; font-weight: bold\">0</span>, <span style=\"color: #008080; text-decoration-color: #008080; font-weight: bold\">0</span>, <span style=\"color: #008080; text-decoration-color: #008080; font-weight: bold\">0</span><span style=\"font-weight: bold\">]])</span>,\n",
              "    <span style=\"color: #008000; text-decoration-color: #008000\">'attention_mask'</span>: <span style=\"color: #800080; text-decoration-color: #800080; font-weight: bold\">tensor</span><span style=\"font-weight: bold\">([[</span><span style=\"color: #008080; text-decoration-color: #008080; font-weight: bold\">1</span>, <span style=\"color: #008080; text-decoration-color: #008080; font-weight: bold\">1</span>, <span style=\"color: #008080; text-decoration-color: #008080; font-weight: bold\">1</span>, <span style=\"color: #008080; text-decoration-color: #008080; font-weight: bold\">1</span>, <span style=\"color: #008080; text-decoration-color: #008080; font-weight: bold\">1</span>, <span style=\"color: #008080; text-decoration-color: #008080; font-weight: bold\">1</span>, <span style=\"color: #008080; text-decoration-color: #008080; font-weight: bold\">1</span>, <span style=\"color: #008080; text-decoration-color: #008080; font-weight: bold\">1</span>, <span style=\"color: #008080; text-decoration-color: #008080; font-weight: bold\">1</span>, <span style=\"color: #008080; text-decoration-color: #008080; font-weight: bold\">1</span>, <span style=\"color: #008080; text-decoration-color: #008080; font-weight: bold\">1</span>, <span style=\"color: #008080; text-decoration-color: #008080; font-weight: bold\">1</span>, <span style=\"color: #008080; text-decoration-color: #008080; font-weight: bold\">1</span>, <span style=\"color: #008080; text-decoration-color: #008080; font-weight: bold\">1</span>, <span style=\"color: #008080; text-decoration-color: #008080; font-weight: bold\">1</span>, <span style=\"color: #008080; text-decoration-color: #008080; font-weight: bold\">1</span>, <span style=\"color: #008080; text-decoration-color: #008080; font-weight: bold\">1</span>, <span style=\"color: #008080; text-decoration-color: #008080; font-weight: bold\">1</span>, <span style=\"color: #008080; text-decoration-color: #008080; font-weight: bold\">1</span>, <span style=\"color: #008080; text-decoration-color: #008080; font-weight: bold\">1</span>, <span style=\"color: #008080; text-decoration-color: #008080; font-weight: bold\">1</span>, <span style=\"color: #008080; text-decoration-color: #008080; font-weight: bold\">1</span>, <span style=\"color: #008080; text-decoration-color: #008080; font-weight: bold\">1</span>, <span style=\"color: #008080; text-decoration-color: #008080; font-weight: bold\">1</span>,\n",
              "         <span style=\"color: #008080; text-decoration-color: #008080; font-weight: bold\">1</span>, <span style=\"color: #008080; text-decoration-color: #008080; font-weight: bold\">1</span>, <span style=\"color: #008080; text-decoration-color: #008080; font-weight: bold\">1</span>, <span style=\"color: #008080; text-decoration-color: #008080; font-weight: bold\">1</span>, <span style=\"color: #008080; text-decoration-color: #008080; font-weight: bold\">1</span>, <span style=\"color: #008080; text-decoration-color: #008080; font-weight: bold\">1</span><span style=\"font-weight: bold\">]</span>,\n",
              "        <span style=\"font-weight: bold\">[</span><span style=\"color: #008080; text-decoration-color: #008080; font-weight: bold\">1</span>, <span style=\"color: #008080; text-decoration-color: #008080; font-weight: bold\">1</span>, <span style=\"color: #008080; text-decoration-color: #008080; font-weight: bold\">1</span>, <span style=\"color: #008080; text-decoration-color: #008080; font-weight: bold\">1</span>, <span style=\"color: #008080; text-decoration-color: #008080; font-weight: bold\">1</span>, <span style=\"color: #008080; text-decoration-color: #008080; font-weight: bold\">1</span>, <span style=\"color: #008080; text-decoration-color: #008080; font-weight: bold\">1</span>, <span style=\"color: #008080; text-decoration-color: #008080; font-weight: bold\">1</span>, <span style=\"color: #008080; text-decoration-color: #008080; font-weight: bold\">1</span>, <span style=\"color: #008080; text-decoration-color: #008080; font-weight: bold\">1</span>, <span style=\"color: #008080; text-decoration-color: #008080; font-weight: bold\">1</span>, <span style=\"color: #008080; text-decoration-color: #008080; font-weight: bold\">1</span>, <span style=\"color: #008080; text-decoration-color: #008080; font-weight: bold\">1</span>, <span style=\"color: #008080; text-decoration-color: #008080; font-weight: bold\">1</span>, <span style=\"color: #008080; text-decoration-color: #008080; font-weight: bold\">1</span>, <span style=\"color: #008080; text-decoration-color: #008080; font-weight: bold\">1</span>, <span style=\"color: #008080; text-decoration-color: #008080; font-weight: bold\">1</span>, <span style=\"color: #008080; text-decoration-color: #008080; font-weight: bold\">1</span>, <span style=\"color: #008080; text-decoration-color: #008080; font-weight: bold\">1</span>, <span style=\"color: #008080; text-decoration-color: #008080; font-weight: bold\">1</span>, <span style=\"color: #008080; text-decoration-color: #008080; font-weight: bold\">0</span>, <span style=\"color: #008080; text-decoration-color: #008080; font-weight: bold\">0</span>, <span style=\"color: #008080; text-decoration-color: #008080; font-weight: bold\">0</span>, <span style=\"color: #008080; text-decoration-color: #008080; font-weight: bold\">0</span>,\n",
              "         <span style=\"color: #008080; text-decoration-color: #008080; font-weight: bold\">0</span>, <span style=\"color: #008080; text-decoration-color: #008080; font-weight: bold\">0</span>, <span style=\"color: #008080; text-decoration-color: #008080; font-weight: bold\">0</span>, <span style=\"color: #008080; text-decoration-color: #008080; font-weight: bold\">0</span>, <span style=\"color: #008080; text-decoration-color: #008080; font-weight: bold\">0</span>, <span style=\"color: #008080; text-decoration-color: #008080; font-weight: bold\">0</span><span style=\"font-weight: bold\">]])</span>\n",
              "<span style=\"font-weight: bold\">}</span>\n",
              "</pre>\n"
            ],
            "text/plain": [
              "\u001b[1m{\u001b[0m\n",
              "    \u001b[32m'labels'\u001b[0m: \u001b[1;35mtensor\u001b[0m\u001b[1m(\u001b[0m\u001b[1m[\u001b[0m\u001b[1;36m4\u001b[0m, \u001b[1;36m0\u001b[0m\u001b[1m]\u001b[0m\u001b[1m)\u001b[0m,\n",
              "    \u001b[32m'input_ids'\u001b[0m: \u001b[1;35mtensor\u001b[0m\u001b[1m(\u001b[0m\u001b[1m[\u001b[0m\u001b[1m[\u001b[0m  \u001b[1;36m101\u001b[0m, \u001b[1;36m17881\u001b[0m,  \u001b[1;36m1477\u001b[0m,   \u001b[1;36m118\u001b[0m,  \u001b[1;36m4991\u001b[0m,   \u001b[1;36m118\u001b[0m,  \u001b[1;36m5037\u001b[0m,   \u001b[1;36m140\u001b[0m, \u001b[1;36m11975\u001b[0m,   \u001b[1;36m119\u001b[0m,\n",
              "           \u001b[1;36m121\u001b[0m,   \u001b[1;36m182\u001b[0m,  \u001b[1;36m3329\u001b[0m,  \u001b[1;36m3488\u001b[0m,  \u001b[1;36m6447\u001b[0m,  \u001b[1;36m1186\u001b[0m,   \u001b[1;36m189\u001b[0m, \u001b[1;36m17030\u001b[0m, \u001b[1;36m13200\u001b[0m,  \u001b[1;36m1162\u001b[0m,\n",
              "           \u001b[1;36m175\u001b[0m,  \u001b[1;36m4164\u001b[0m, \u001b[1;36m18882\u001b[0m,   \u001b[1;36m118\u001b[0m,  \u001b[1;36m1209\u001b[0m, \u001b[1;36m18331\u001b[0m,  \u001b[1;36m1116\u001b[0m,   \u001b[1;36m120\u001b[0m,   \u001b[1;36m170\u001b[0m,   \u001b[1;36m102\u001b[0m\u001b[1m]\u001b[0m,\n",
              "        \u001b[1m[\u001b[0m  \u001b[1;36m101\u001b[0m, \u001b[1;36m17881\u001b[0m,  \u001b[1;36m1477\u001b[0m,   \u001b[1;36m118\u001b[0m,  \u001b[1;36m5187\u001b[0m,   \u001b[1;36m118\u001b[0m,  \u001b[1;36m1955\u001b[0m,   \u001b[1;36m141\u001b[0m, \u001b[1;36m26177\u001b[0m,  \u001b[1;36m1568\u001b[0m,\n",
              "           \u001b[1;36m119\u001b[0m,   \u001b[1;36m121\u001b[0m,   \u001b[1;36m185\u001b[0m,  \u001b[1;36m2155\u001b[0m,   \u001b[1;36m120\u001b[0m,  \u001b[1;36m5127\u001b[0m,  \u001b[1;36m4779\u001b[0m,   \u001b[1;36m187\u001b[0m,  \u001b[1;36m6094\u001b[0m,   \u001b[1;36m102\u001b[0m,\n",
              "             \u001b[1;36m0\u001b[0m,     \u001b[1;36m0\u001b[0m,     \u001b[1;36m0\u001b[0m,     \u001b[1;36m0\u001b[0m,     \u001b[1;36m0\u001b[0m,     \u001b[1;36m0\u001b[0m,     \u001b[1;36m0\u001b[0m,     \u001b[1;36m0\u001b[0m,     \u001b[1;36m0\u001b[0m,     \u001b[1;36m0\u001b[0m\u001b[1m]\u001b[0m\u001b[1m]\u001b[0m\u001b[1m)\u001b[0m,\n",
              "    \u001b[32m'token_type_ids'\u001b[0m: \u001b[1;35mtensor\u001b[0m\u001b[1m(\u001b[0m\u001b[1m[\u001b[0m\u001b[1m[\u001b[0m\u001b[1;36m0\u001b[0m, \u001b[1;36m0\u001b[0m, \u001b[1;36m0\u001b[0m, \u001b[1;36m0\u001b[0m, \u001b[1;36m0\u001b[0m, \u001b[1;36m0\u001b[0m, \u001b[1;36m0\u001b[0m, \u001b[1;36m0\u001b[0m, \u001b[1;36m0\u001b[0m, \u001b[1;36m0\u001b[0m, \u001b[1;36m0\u001b[0m, \u001b[1;36m0\u001b[0m, \u001b[1;36m0\u001b[0m, \u001b[1;36m0\u001b[0m, \u001b[1;36m0\u001b[0m, \u001b[1;36m0\u001b[0m, \u001b[1;36m0\u001b[0m, \u001b[1;36m0\u001b[0m, \u001b[1;36m0\u001b[0m, \u001b[1;36m0\u001b[0m, \u001b[1;36m0\u001b[0m, \u001b[1;36m0\u001b[0m, \u001b[1;36m0\u001b[0m, \u001b[1;36m0\u001b[0m,\n",
              "         \u001b[1;36m0\u001b[0m, \u001b[1;36m0\u001b[0m, \u001b[1;36m0\u001b[0m, \u001b[1;36m0\u001b[0m, \u001b[1;36m0\u001b[0m, \u001b[1;36m0\u001b[0m\u001b[1m]\u001b[0m,\n",
              "        \u001b[1m[\u001b[0m\u001b[1;36m0\u001b[0m, \u001b[1;36m0\u001b[0m, \u001b[1;36m0\u001b[0m, \u001b[1;36m0\u001b[0m, \u001b[1;36m0\u001b[0m, \u001b[1;36m0\u001b[0m, \u001b[1;36m0\u001b[0m, \u001b[1;36m0\u001b[0m, \u001b[1;36m0\u001b[0m, \u001b[1;36m0\u001b[0m, \u001b[1;36m0\u001b[0m, \u001b[1;36m0\u001b[0m, \u001b[1;36m0\u001b[0m, \u001b[1;36m0\u001b[0m, \u001b[1;36m0\u001b[0m, \u001b[1;36m0\u001b[0m, \u001b[1;36m0\u001b[0m, \u001b[1;36m0\u001b[0m, \u001b[1;36m0\u001b[0m, \u001b[1;36m0\u001b[0m, \u001b[1;36m0\u001b[0m, \u001b[1;36m0\u001b[0m, \u001b[1;36m0\u001b[0m, \u001b[1;36m0\u001b[0m,\n",
              "         \u001b[1;36m0\u001b[0m, \u001b[1;36m0\u001b[0m, \u001b[1;36m0\u001b[0m, \u001b[1;36m0\u001b[0m, \u001b[1;36m0\u001b[0m, \u001b[1;36m0\u001b[0m\u001b[1m]\u001b[0m\u001b[1m]\u001b[0m\u001b[1m)\u001b[0m,\n",
              "    \u001b[32m'attention_mask'\u001b[0m: \u001b[1;35mtensor\u001b[0m\u001b[1m(\u001b[0m\u001b[1m[\u001b[0m\u001b[1m[\u001b[0m\u001b[1;36m1\u001b[0m, \u001b[1;36m1\u001b[0m, \u001b[1;36m1\u001b[0m, \u001b[1;36m1\u001b[0m, \u001b[1;36m1\u001b[0m, \u001b[1;36m1\u001b[0m, \u001b[1;36m1\u001b[0m, \u001b[1;36m1\u001b[0m, \u001b[1;36m1\u001b[0m, \u001b[1;36m1\u001b[0m, \u001b[1;36m1\u001b[0m, \u001b[1;36m1\u001b[0m, \u001b[1;36m1\u001b[0m, \u001b[1;36m1\u001b[0m, \u001b[1;36m1\u001b[0m, \u001b[1;36m1\u001b[0m, \u001b[1;36m1\u001b[0m, \u001b[1;36m1\u001b[0m, \u001b[1;36m1\u001b[0m, \u001b[1;36m1\u001b[0m, \u001b[1;36m1\u001b[0m, \u001b[1;36m1\u001b[0m, \u001b[1;36m1\u001b[0m, \u001b[1;36m1\u001b[0m,\n",
              "         \u001b[1;36m1\u001b[0m, \u001b[1;36m1\u001b[0m, \u001b[1;36m1\u001b[0m, \u001b[1;36m1\u001b[0m, \u001b[1;36m1\u001b[0m, \u001b[1;36m1\u001b[0m\u001b[1m]\u001b[0m,\n",
              "        \u001b[1m[\u001b[0m\u001b[1;36m1\u001b[0m, \u001b[1;36m1\u001b[0m, \u001b[1;36m1\u001b[0m, \u001b[1;36m1\u001b[0m, \u001b[1;36m1\u001b[0m, \u001b[1;36m1\u001b[0m, \u001b[1;36m1\u001b[0m, \u001b[1;36m1\u001b[0m, \u001b[1;36m1\u001b[0m, \u001b[1;36m1\u001b[0m, \u001b[1;36m1\u001b[0m, \u001b[1;36m1\u001b[0m, \u001b[1;36m1\u001b[0m, \u001b[1;36m1\u001b[0m, \u001b[1;36m1\u001b[0m, \u001b[1;36m1\u001b[0m, \u001b[1;36m1\u001b[0m, \u001b[1;36m1\u001b[0m, \u001b[1;36m1\u001b[0m, \u001b[1;36m1\u001b[0m, \u001b[1;36m0\u001b[0m, \u001b[1;36m0\u001b[0m, \u001b[1;36m0\u001b[0m, \u001b[1;36m0\u001b[0m,\n",
              "         \u001b[1;36m0\u001b[0m, \u001b[1;36m0\u001b[0m, \u001b[1;36m0\u001b[0m, \u001b[1;36m0\u001b[0m, \u001b[1;36m0\u001b[0m, \u001b[1;36m0\u001b[0m\u001b[1m]\u001b[0m\u001b[1m]\u001b[0m\u001b[1m)\u001b[0m\n",
              "\u001b[1m}\u001b[0m\n"
            ]
          },
          "metadata": {},
          "output_type": "display_data"
        }
      ],
      "source": [
        "# Apply the data collator\n",
        "batch: torch.Tensor = data_collator([tokenized_dataset[\"train\"][i] for i in range(2)])\n",
        "\n",
        "print(batch)"
      ]
    },
    {
      "cell_type": "code",
      "execution_count": null,
      "metadata": {
        "id": "0_iLBbVCtq41",
        "outputId": "548ea361-b6d7-404c-8b36-90c234ad01c0"
      },
      "outputs": [
        {
          "data": {
            "text/html": [
              "<pre style=\"white-space:pre;overflow-x:auto;line-height:normal;font-family:Menlo,'DejaVu Sans Mono',consolas,'Courier New',monospace\"><span style=\"color: #800080; text-decoration-color: #800080; font-weight: bold\">tensor</span><span style=\"font-weight: bold\">([</span>  <span style=\"color: #008080; text-decoration-color: #008080; font-weight: bold\">101</span>, <span style=\"color: #008080; text-decoration-color: #008080; font-weight: bold\">17881</span>,  <span style=\"color: #008080; text-decoration-color: #008080; font-weight: bold\">1477</span>,   <span style=\"color: #008080; text-decoration-color: #008080; font-weight: bold\">118</span>,  <span style=\"color: #008080; text-decoration-color: #008080; font-weight: bold\">4991</span>,   <span style=\"color: #008080; text-decoration-color: #008080; font-weight: bold\">118</span>,  <span style=\"color: #008080; text-decoration-color: #008080; font-weight: bold\">5037</span>,   <span style=\"color: #008080; text-decoration-color: #008080; font-weight: bold\">140</span>, <span style=\"color: #008080; text-decoration-color: #008080; font-weight: bold\">11975</span>,   <span style=\"color: #008080; text-decoration-color: #008080; font-weight: bold\">119</span>,\n",
              "          <span style=\"color: #008080; text-decoration-color: #008080; font-weight: bold\">121</span>,   <span style=\"color: #008080; text-decoration-color: #008080; font-weight: bold\">182</span>,  <span style=\"color: #008080; text-decoration-color: #008080; font-weight: bold\">3329</span>,  <span style=\"color: #008080; text-decoration-color: #008080; font-weight: bold\">3488</span>,  <span style=\"color: #008080; text-decoration-color: #008080; font-weight: bold\">6447</span>,  <span style=\"color: #008080; text-decoration-color: #008080; font-weight: bold\">1186</span>,   <span style=\"color: #008080; text-decoration-color: #008080; font-weight: bold\">189</span>, <span style=\"color: #008080; text-decoration-color: #008080; font-weight: bold\">17030</span>, <span style=\"color: #008080; text-decoration-color: #008080; font-weight: bold\">13200</span>,  <span style=\"color: #008080; text-decoration-color: #008080; font-weight: bold\">1162</span>,\n",
              "          <span style=\"color: #008080; text-decoration-color: #008080; font-weight: bold\">175</span>,  <span style=\"color: #008080; text-decoration-color: #008080; font-weight: bold\">4164</span>, <span style=\"color: #008080; text-decoration-color: #008080; font-weight: bold\">18882</span>,   <span style=\"color: #008080; text-decoration-color: #008080; font-weight: bold\">118</span>,  <span style=\"color: #008080; text-decoration-color: #008080; font-weight: bold\">1209</span>, <span style=\"color: #008080; text-decoration-color: #008080; font-weight: bold\">18331</span>,  <span style=\"color: #008080; text-decoration-color: #008080; font-weight: bold\">1116</span>,   <span style=\"color: #008080; text-decoration-color: #008080; font-weight: bold\">120</span>,   <span style=\"color: #008080; text-decoration-color: #008080; font-weight: bold\">170</span>,   <span style=\"color: #008080; text-decoration-color: #008080; font-weight: bold\">102</span><span style=\"font-weight: bold\">])</span>\n",
              "</pre>\n"
            ],
            "text/plain": [
              "\u001b[1;35mtensor\u001b[0m\u001b[1m(\u001b[0m\u001b[1m[\u001b[0m  \u001b[1;36m101\u001b[0m, \u001b[1;36m17881\u001b[0m,  \u001b[1;36m1477\u001b[0m,   \u001b[1;36m118\u001b[0m,  \u001b[1;36m4991\u001b[0m,   \u001b[1;36m118\u001b[0m,  \u001b[1;36m5037\u001b[0m,   \u001b[1;36m140\u001b[0m, \u001b[1;36m11975\u001b[0m,   \u001b[1;36m119\u001b[0m,\n",
              "          \u001b[1;36m121\u001b[0m,   \u001b[1;36m182\u001b[0m,  \u001b[1;36m3329\u001b[0m,  \u001b[1;36m3488\u001b[0m,  \u001b[1;36m6447\u001b[0m,  \u001b[1;36m1186\u001b[0m,   \u001b[1;36m189\u001b[0m, \u001b[1;36m17030\u001b[0m, \u001b[1;36m13200\u001b[0m,  \u001b[1;36m1162\u001b[0m,\n",
              "          \u001b[1;36m175\u001b[0m,  \u001b[1;36m4164\u001b[0m, \u001b[1;36m18882\u001b[0m,   \u001b[1;36m118\u001b[0m,  \u001b[1;36m1209\u001b[0m, \u001b[1;36m18331\u001b[0m,  \u001b[1;36m1116\u001b[0m,   \u001b[1;36m120\u001b[0m,   \u001b[1;36m170\u001b[0m,   \u001b[1;36m102\u001b[0m\u001b[1m]\u001b[0m\u001b[1m)\u001b[0m\n"
            ]
          },
          "metadata": {},
          "output_type": "display_data"
        },
        {
          "data": {
            "text/html": [
              "<pre style=\"white-space:pre;overflow-x:auto;line-height:normal;font-family:Menlo,'DejaVu Sans Mono',consolas,'Courier New',monospace\"><span style=\"color: #800080; text-decoration-color: #800080; font-weight: bold\">tensor</span><span style=\"font-weight: bold\">([</span>  <span style=\"color: #008080; text-decoration-color: #008080; font-weight: bold\">101</span>, <span style=\"color: #008080; text-decoration-color: #008080; font-weight: bold\">17881</span>,  <span style=\"color: #008080; text-decoration-color: #008080; font-weight: bold\">1477</span>,   <span style=\"color: #008080; text-decoration-color: #008080; font-weight: bold\">118</span>,  <span style=\"color: #008080; text-decoration-color: #008080; font-weight: bold\">5187</span>,   <span style=\"color: #008080; text-decoration-color: #008080; font-weight: bold\">118</span>,  <span style=\"color: #008080; text-decoration-color: #008080; font-weight: bold\">1955</span>,   <span style=\"color: #008080; text-decoration-color: #008080; font-weight: bold\">141</span>, <span style=\"color: #008080; text-decoration-color: #008080; font-weight: bold\">26177</span>,  <span style=\"color: #008080; text-decoration-color: #008080; font-weight: bold\">1568</span>,\n",
              "          <span style=\"color: #008080; text-decoration-color: #008080; font-weight: bold\">119</span>,   <span style=\"color: #008080; text-decoration-color: #008080; font-weight: bold\">121</span>,   <span style=\"color: #008080; text-decoration-color: #008080; font-weight: bold\">185</span>,  <span style=\"color: #008080; text-decoration-color: #008080; font-weight: bold\">2155</span>,   <span style=\"color: #008080; text-decoration-color: #008080; font-weight: bold\">120</span>,  <span style=\"color: #008080; text-decoration-color: #008080; font-weight: bold\">5127</span>,  <span style=\"color: #008080; text-decoration-color: #008080; font-weight: bold\">4779</span>,   <span style=\"color: #008080; text-decoration-color: #008080; font-weight: bold\">187</span>,  <span style=\"color: #008080; text-decoration-color: #008080; font-weight: bold\">6094</span>,   <span style=\"color: #008080; text-decoration-color: #008080; font-weight: bold\">102</span>,\n",
              "            <span style=\"color: #008080; text-decoration-color: #008080; font-weight: bold\">0</span>,     <span style=\"color: #008080; text-decoration-color: #008080; font-weight: bold\">0</span>,     <span style=\"color: #008080; text-decoration-color: #008080; font-weight: bold\">0</span>,     <span style=\"color: #008080; text-decoration-color: #008080; font-weight: bold\">0</span>,     <span style=\"color: #008080; text-decoration-color: #008080; font-weight: bold\">0</span>,     <span style=\"color: #008080; text-decoration-color: #008080; font-weight: bold\">0</span>,     <span style=\"color: #008080; text-decoration-color: #008080; font-weight: bold\">0</span>,     <span style=\"color: #008080; text-decoration-color: #008080; font-weight: bold\">0</span>,     <span style=\"color: #008080; text-decoration-color: #008080; font-weight: bold\">0</span>,     <span style=\"color: #008080; text-decoration-color: #008080; font-weight: bold\">0</span><span style=\"font-weight: bold\">])</span>\n",
              "</pre>\n"
            ],
            "text/plain": [
              "\u001b[1;35mtensor\u001b[0m\u001b[1m(\u001b[0m\u001b[1m[\u001b[0m  \u001b[1;36m101\u001b[0m, \u001b[1;36m17881\u001b[0m,  \u001b[1;36m1477\u001b[0m,   \u001b[1;36m118\u001b[0m,  \u001b[1;36m5187\u001b[0m,   \u001b[1;36m118\u001b[0m,  \u001b[1;36m1955\u001b[0m,   \u001b[1;36m141\u001b[0m, \u001b[1;36m26177\u001b[0m,  \u001b[1;36m1568\u001b[0m,\n",
              "          \u001b[1;36m119\u001b[0m,   \u001b[1;36m121\u001b[0m,   \u001b[1;36m185\u001b[0m,  \u001b[1;36m2155\u001b[0m,   \u001b[1;36m120\u001b[0m,  \u001b[1;36m5127\u001b[0m,  \u001b[1;36m4779\u001b[0m,   \u001b[1;36m187\u001b[0m,  \u001b[1;36m6094\u001b[0m,   \u001b[1;36m102\u001b[0m,\n",
              "            \u001b[1;36m0\u001b[0m,     \u001b[1;36m0\u001b[0m,     \u001b[1;36m0\u001b[0m,     \u001b[1;36m0\u001b[0m,     \u001b[1;36m0\u001b[0m,     \u001b[1;36m0\u001b[0m,     \u001b[1;36m0\u001b[0m,     \u001b[1;36m0\u001b[0m,     \u001b[1;36m0\u001b[0m,     \u001b[1;36m0\u001b[0m\u001b[1m]\u001b[0m\u001b[1m)\u001b[0m\n"
            ]
          },
          "metadata": {},
          "output_type": "display_data"
        }
      ],
      "source": [
        "# The 2nd idx has been padded with 0s\n",
        "for row in batch.get(\"input_ids\"):\n",
        "    print(row)"
      ]
    },
    {
      "cell_type": "code",
      "execution_count": null,
      "metadata": {
        "id": "7HQMDtg5tq42"
      },
      "outputs": [],
      "source": []
    },
    {
      "cell_type": "code",
      "execution_count": null,
      "metadata": {
        "id": "6xms6IqAtq42"
      },
      "outputs": [],
      "source": []
    },
    {
      "cell_type": "code",
      "execution_count": null,
      "metadata": {
        "id": "fnPbynGftq42"
      },
      "outputs": [],
      "source": []
    },
    {
      "cell_type": "code",
      "execution_count": null,
      "metadata": {
        "id": "CF7Eozqotq42"
      },
      "outputs": [],
      "source": []
    },
    {
      "cell_type": "code",
      "execution_count": null,
      "metadata": {
        "id": "p8bbDYtxtq42"
      },
      "outputs": [],
      "source": []
    },
    {
      "cell_type": "code",
      "execution_count": null,
      "metadata": {
        "id": "YNpWDRZptq43"
      },
      "outputs": [],
      "source": []
    },
    {
      "cell_type": "code",
      "execution_count": null,
      "metadata": {
        "id": "FmK1CHMAtq44"
      },
      "outputs": [],
      "source": []
    },
    {
      "cell_type": "code",
      "execution_count": null,
      "metadata": {
        "id": "jED85Qs6tq49"
      },
      "outputs": [],
      "source": []
    },
    {
      "cell_type": "code",
      "execution_count": null,
      "metadata": {
        "id": "2oEx_nSstq4-"
      },
      "outputs": [],
      "source": []
    }
  ],
  "metadata": {
    "kernelspec": {
      "display_name": "Python 3",
      "name": "python3"
    },
    "language_info": {
      "codemirror_mode": {
        "name": "ipython",
        "version": 3
      },
      "file_extension": ".py",
      "mimetype": "text/x-python",
      "name": "python",
      "nbconvert_exporter": "python",
      "pygments_lexer": "ipython3",
      "version": "3.10.9"
    },
    "colab": {
      "provenance": [],
      "gpuType": "T4",
      "include_colab_link": true
    },
    "accelerator": "GPU"
  },
  "nbformat": 4,
  "nbformat_minor": 0
}