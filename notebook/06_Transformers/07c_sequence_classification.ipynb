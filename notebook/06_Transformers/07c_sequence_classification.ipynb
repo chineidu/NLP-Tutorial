{
 "cells": [
  {
   "cell_type": "markdown",
   "metadata": {},
   "source": [
    "# Sentence Classification"
   ]
  },
  {
   "cell_type": "code",
   "execution_count": 1,
   "metadata": {},
   "outputs": [],
   "source": [
    "# Built-in library\n",
    "import re\n",
    "import json\n",
    "import logging\n",
    "from typing import Any, Dict, List, Optional, Union\n",
    "import logging\n",
    "import warnings\n",
    "\n",
    "# Standard imports\n",
    "import numpy as np\n",
    "import pandas as pd\n",
    "from rich import print\n",
    "import torch\n",
    "\n",
    "# Visualization\n",
    "import matplotlib.pyplot as plt\n",
    "\n",
    "\n",
    "# Pandas settings\n",
    "pd.options.display.max_rows = 1_000\n",
    "pd.options.display.max_columns = 1_000\n",
    "pd.options.display.max_colwidth = 600\n",
    "\n",
    "warnings.filterwarnings(\"ignore\")\n",
    "\n",
    "# Black code formatter (Optional)\n",
    "%load_ext lab_black\n",
    "\n",
    "# auto reload imports\n",
    "%load_ext autoreload\n",
    "%autoreload 2"
   ]
  },
  {
   "cell_type": "code",
   "execution_count": 2,
   "metadata": {},
   "outputs": [],
   "source": [
    "def set_up_logger(delim: str = \"::\") -> Any:\n",
    "    \"\"\"This is used to create a basic logger.\"\"\"\n",
    "\n",
    "    format_ = f\"[%(levelname)s] {delim} %(asctime)s {delim} %(message)s\"\n",
    "    logging.basicConfig(level=logging.INFO, format=format_)\n",
    "    logger = logging.getLogger(__name__)\n",
    "    return logger\n",
    "\n",
    "\n",
    "# Global variable\n",
    "logger = set_up_logger()\n",
    "\n",
    "\n",
    "def load_data(*, filename: str, sep: str = \",\") -> pd.DataFrame:\n",
    "    \"\"\"This is used to load the data.\n",
    "\n",
    "    NB: Supported formats are 'csv' and 'parquet'.\n",
    "\n",
    "    Params:\n",
    "    -------\n",
    "        filename (str): The filepath.\n",
    "        sep (str, default=\",\"): The separator. e.g ',', '\\t', etc\n",
    "\n",
    "    Returns:\n",
    "    --------\n",
    "        data (pd.DataFrame): The loaded dataframe.\n",
    "    \"\"\"\n",
    "    data = (\n",
    "        pd.read_csv(filename, sep=sep)\n",
    "        if filename.split(\".\")[-1] == \"csv\"\n",
    "        else pd.read_parquet(filename)\n",
    "    )\n",
    "    logger.info(f\"Shape of data: {data.shape}\\n\")\n",
    "    return data"
   ]
  },
  {
   "cell_type": "markdown",
   "metadata": {},
   "source": [
    "### Prepare Data\n",
    "\n",
    "```text\n",
    "Create:\n",
    "- Training data\n",
    "- Validation data\n",
    "- Test data\n",
    "\n",
    "Labels\n",
    "------\n",
    "salary\n",
    "gambling\n",
    "loan\n",
    "airtime\n",
    "ussdTransactions\n",
    "flightRisk\n",
    "savingsAndInvestments\n",
    "entertainment\n",
    "spend\n",
    "  - posSpend\n",
    "  - atmSpend\n",
    "  - mobileSpend\n",
    "  - webSpend\n",
    "```"
   ]
  },
  {
   "cell_type": "code",
   "execution_count": 3,
   "metadata": {},
   "outputs": [
    {
     "name": "stderr",
     "output_type": "stream",
     "text": [
      "[INFO] :: 2023-10-28 20:00:23,751 :: Shape of data: (500000, 5)\n",
      "\n"
     ]
    },
    {
     "data": {
      "text/html": [
       "<div>\n",
       "<style scoped>\n",
       "    .dataframe tbody tr th:only-of-type {\n",
       "        vertical-align: middle;\n",
       "    }\n",
       "\n",
       "    .dataframe tbody tr th {\n",
       "        vertical-align: top;\n",
       "    }\n",
       "\n",
       "    .dataframe thead th {\n",
       "        text-align: right;\n",
       "    }\n",
       "</style>\n",
       "<table border=\"1\" class=\"dataframe\">\n",
       "  <thead>\n",
       "    <tr style=\"text-align: right;\">\n",
       "      <th></th>\n",
       "      <th>date</th>\n",
       "      <th>description</th>\n",
       "      <th>amount</th>\n",
       "      <th>type</th>\n",
       "      <th>labels</th>\n",
       "    </tr>\n",
       "  </thead>\n",
       "  <tbody>\n",
       "    <tr>\n",
       "      <th>0</th>\n",
       "      <td>2022-05-29</td>\n",
       "      <td>POS/WEB PMT T MODERNCOMMUNICATI 000104 2070849Y NG</td>\n",
       "      <td>20000.000000</td>\n",
       "      <td>D</td>\n",
       "      <td>spend</td>\n",
       "    </tr>\n",
       "    <tr>\n",
       "      <th>1</th>\n",
       "      <td>2022-03-19</td>\n",
       "      <td>POS/WEB PMT NULL LA NG</td>\n",
       "      <td>13100.000000</td>\n",
       "      <td>D</td>\n",
       "      <td>spend</td>\n",
       "    </tr>\n",
       "    <tr>\n",
       "      <th>2</th>\n",
       "      <td>2022-01-14</td>\n",
       "      <td>FGN ELECTRONIC MONEY TRANSFER LEVY</td>\n",
       "      <td>100.000000</td>\n",
       "      <td>D</td>\n",
       "      <td>spendOnTransfers</td>\n",
       "    </tr>\n",
       "    <tr>\n",
       "      <th>3</th>\n",
       "      <td>2022-02-19</td>\n",
       "      <td>Quantum USSD</td>\n",
       "      <td>20026.880859</td>\n",
       "      <td>D</td>\n",
       "      <td>ussd</td>\n",
       "    </tr>\n",
       "    <tr>\n",
       "      <th>4</th>\n",
       "      <td>2022-05-28</td>\n",
       "      <td>POS/WEB PMT BETWAY NG/1853277904 PSTK LANG</td>\n",
       "      <td>10000.000000</td>\n",
       "      <td>D</td>\n",
       "      <td>gambling</td>\n",
       "    </tr>\n",
       "  </tbody>\n",
       "</table>\n",
       "</div>"
      ],
      "text/plain": [
       "         date                                          description  \\\n",
       "0  2022-05-29  POS/WEB PMT T MODERNCOMMUNICATI 000104 2070849Y NG    \n",
       "1  2022-03-19                              POS/WEB PMT NULL LA NG    \n",
       "2  2022-01-14                   FGN ELECTRONIC MONEY TRANSFER LEVY   \n",
       "3  2022-02-19                                         Quantum USSD   \n",
       "4  2022-05-28          POS/WEB PMT BETWAY NG/1853277904 PSTK LANG    \n",
       "\n",
       "         amount type            labels  \n",
       "0  20000.000000    D             spend  \n",
       "1  13100.000000    D             spend  \n",
       "2    100.000000    D  spendOnTransfers  \n",
       "3  20026.880859    D              ussd  \n",
       "4  10000.000000    D          gambling  "
      ]
     },
     "execution_count": 3,
     "metadata": {},
     "output_type": "execute_result"
    }
   ],
   "source": [
    "fp: str = \"./my_data/trans_data.parquet\"\n",
    "\n",
    "df: pd.DataFrame = load_data(filename=fp).rename(columns={\"cleaned_labels\": \"labels\"})\n",
    "\n",
    "df.head()"
   ]
  },
  {
   "cell_type": "code",
   "execution_count": 4,
   "metadata": {},
   "outputs": [
    {
     "data": {
      "text/html": [
       "<pre style=\"white-space:pre;overflow-x:auto;line-height:normal;font-family:Menlo,'DejaVu Sans Mono',consolas,'Courier New',monospace\">label2id: <span style=\"font-weight: bold\">{</span><span style=\"color: #008000; text-decoration-color: #008000\">'spend'</span>: <span style=\"color: #008080; text-decoration-color: #008080; font-weight: bold\">0</span>, <span style=\"color: #008000; text-decoration-color: #008000\">'spendOnTransfers'</span>: <span style=\"color: #008080; text-decoration-color: #008080; font-weight: bold\">1</span>, <span style=\"color: #008000; text-decoration-color: #008000\">'ussd'</span>: <span style=\"color: #008080; text-decoration-color: #008080; font-weight: bold\">2</span>, <span style=\"color: #008000; text-decoration-color: #008000\">'gambling'</span>: <span style=\"color: #008080; text-decoration-color: #008080; font-weight: bold\">3</span>, <span style=\"color: #008000; text-decoration-color: #008000\">'other'</span>: <span style=\"color: #008080; text-decoration-color: #008080; font-weight: bold\">4</span>, <span style=\"color: #008000; text-decoration-color: #008000\">'airtime'</span>: <span style=\"color: #008080; text-decoration-color: #008080; font-weight: bold\">5</span>, <span style=\"color: #008000; text-decoration-color: #008000\">'salaryEarner'</span>: \n",
       "<span style=\"color: #008080; text-decoration-color: #008080; font-weight: bold\">6</span>, <span style=\"color: #008000; text-decoration-color: #008000\">'loanRepayments'</span>: <span style=\"color: #008080; text-decoration-color: #008080; font-weight: bold\">7</span>, <span style=\"color: #008000; text-decoration-color: #008000\">'flightRisk'</span>: <span style=\"color: #008080; text-decoration-color: #008080; font-weight: bold\">8</span>, <span style=\"color: #008000; text-decoration-color: #008000\">'loanAmount'</span>: <span style=\"color: #008080; text-decoration-color: #008080; font-weight: bold\">9</span>, <span style=\"color: #008000; text-decoration-color: #008000\">'entertainment'</span>: <span style=\"color: #008080; text-decoration-color: #008080; font-weight: bold\">10</span><span style=\"font-weight: bold\">}</span>\n",
       "</pre>\n"
      ],
      "text/plain": [
       "label2id: \u001b[1m{\u001b[0m\u001b[32m'spend'\u001b[0m: \u001b[1;36m0\u001b[0m, \u001b[32m'spendOnTransfers'\u001b[0m: \u001b[1;36m1\u001b[0m, \u001b[32m'ussd'\u001b[0m: \u001b[1;36m2\u001b[0m, \u001b[32m'gambling'\u001b[0m: \u001b[1;36m3\u001b[0m, \u001b[32m'other'\u001b[0m: \u001b[1;36m4\u001b[0m, \u001b[32m'airtime'\u001b[0m: \u001b[1;36m5\u001b[0m, \u001b[32m'salaryEarner'\u001b[0m: \n",
       "\u001b[1;36m6\u001b[0m, \u001b[32m'loanRepayments'\u001b[0m: \u001b[1;36m7\u001b[0m, \u001b[32m'flightRisk'\u001b[0m: \u001b[1;36m8\u001b[0m, \u001b[32m'loanAmount'\u001b[0m: \u001b[1;36m9\u001b[0m, \u001b[32m'entertainment'\u001b[0m: \u001b[1;36m10\u001b[0m\u001b[1m}\u001b[0m\n"
      ]
     },
     "metadata": {},
     "output_type": "display_data"
    },
    {
     "data": {
      "text/html": [
       "<pre style=\"white-space:pre;overflow-x:auto;line-height:normal;font-family:Menlo,'DejaVu Sans Mono',consolas,'Courier New',monospace\">id2label: <span style=\"font-weight: bold\">{</span><span style=\"color: #008080; text-decoration-color: #008080; font-weight: bold\">0</span>: <span style=\"color: #008000; text-decoration-color: #008000\">'spend'</span>, <span style=\"color: #008080; text-decoration-color: #008080; font-weight: bold\">1</span>: <span style=\"color: #008000; text-decoration-color: #008000\">'spendOnTransfers'</span>, <span style=\"color: #008080; text-decoration-color: #008080; font-weight: bold\">2</span>: <span style=\"color: #008000; text-decoration-color: #008000\">'ussd'</span>, <span style=\"color: #008080; text-decoration-color: #008080; font-weight: bold\">3</span>: <span style=\"color: #008000; text-decoration-color: #008000\">'gambling'</span>, <span style=\"color: #008080; text-decoration-color: #008080; font-weight: bold\">4</span>: <span style=\"color: #008000; text-decoration-color: #008000\">'other'</span>, <span style=\"color: #008080; text-decoration-color: #008080; font-weight: bold\">5</span>: <span style=\"color: #008000; text-decoration-color: #008000\">'airtime'</span>, <span style=\"color: #008080; text-decoration-color: #008080; font-weight: bold\">6</span>: \n",
       "<span style=\"color: #008000; text-decoration-color: #008000\">'salaryEarner'</span>, <span style=\"color: #008080; text-decoration-color: #008080; font-weight: bold\">7</span>: <span style=\"color: #008000; text-decoration-color: #008000\">'loanRepayments'</span>, <span style=\"color: #008080; text-decoration-color: #008080; font-weight: bold\">8</span>: <span style=\"color: #008000; text-decoration-color: #008000\">'flightRisk'</span>, <span style=\"color: #008080; text-decoration-color: #008080; font-weight: bold\">9</span>: <span style=\"color: #008000; text-decoration-color: #008000\">'loanAmount'</span>, <span style=\"color: #008080; text-decoration-color: #008080; font-weight: bold\">10</span>: <span style=\"color: #008000; text-decoration-color: #008000\">'entertainment'</span><span style=\"font-weight: bold\">}</span>\n",
       "</pre>\n"
      ],
      "text/plain": [
       "id2label: \u001b[1m{\u001b[0m\u001b[1;36m0\u001b[0m: \u001b[32m'spend'\u001b[0m, \u001b[1;36m1\u001b[0m: \u001b[32m'spendOnTransfers'\u001b[0m, \u001b[1;36m2\u001b[0m: \u001b[32m'ussd'\u001b[0m, \u001b[1;36m3\u001b[0m: \u001b[32m'gambling'\u001b[0m, \u001b[1;36m4\u001b[0m: \u001b[32m'other'\u001b[0m, \u001b[1;36m5\u001b[0m: \u001b[32m'airtime'\u001b[0m, \u001b[1;36m6\u001b[0m: \n",
       "\u001b[32m'salaryEarner'\u001b[0m, \u001b[1;36m7\u001b[0m: \u001b[32m'loanRepayments'\u001b[0m, \u001b[1;36m8\u001b[0m: \u001b[32m'flightRisk'\u001b[0m, \u001b[1;36m9\u001b[0m: \u001b[32m'loanAmount'\u001b[0m, \u001b[1;36m10\u001b[0m: \u001b[32m'entertainment'\u001b[0m\u001b[1m}\u001b[0m\n"
      ]
     },
     "metadata": {},
     "output_type": "display_data"
    }
   ],
   "source": [
    "labels: dict[str, Any] = list(df[\"labels\"].unique())\n",
    "id2label: dict[str, Any] = {idx: key for idx, key in enumerate(labels)}\n",
    "label2id: dict[str, Any] = {key: idx for idx, key in id2label.items()}\n",
    "\n",
    "print(f\"label2id: {label2id}\")\n",
    "\n",
    "print(f\"id2label: {id2label}\")"
   ]
  },
  {
   "cell_type": "code",
   "execution_count": 5,
   "metadata": {},
   "outputs": [
    {
     "data": {
      "text/html": [
       "<div>\n",
       "<style scoped>\n",
       "    .dataframe tbody tr th:only-of-type {\n",
       "        vertical-align: middle;\n",
       "    }\n",
       "\n",
       "    .dataframe tbody tr th {\n",
       "        vertical-align: top;\n",
       "    }\n",
       "\n",
       "    .dataframe thead th {\n",
       "        text-align: right;\n",
       "    }\n",
       "</style>\n",
       "<table border=\"1\" class=\"dataframe\">\n",
       "  <thead>\n",
       "    <tr style=\"text-align: right;\">\n",
       "      <th></th>\n",
       "      <th>date</th>\n",
       "      <th>description</th>\n",
       "      <th>amount</th>\n",
       "      <th>type</th>\n",
       "      <th>labels</th>\n",
       "    </tr>\n",
       "  </thead>\n",
       "  <tbody>\n",
       "    <tr>\n",
       "      <th>0</th>\n",
       "      <td>2022-05-29</td>\n",
       "      <td>POS/WEB PMT T MODERNCOMMUNICATI 000104 2070849Y NG</td>\n",
       "      <td>20000.000000</td>\n",
       "      <td>D</td>\n",
       "      <td>0</td>\n",
       "    </tr>\n",
       "    <tr>\n",
       "      <th>1</th>\n",
       "      <td>2022-03-19</td>\n",
       "      <td>POS/WEB PMT NULL LA NG</td>\n",
       "      <td>13100.000000</td>\n",
       "      <td>D</td>\n",
       "      <td>0</td>\n",
       "    </tr>\n",
       "    <tr>\n",
       "      <th>2</th>\n",
       "      <td>2022-01-14</td>\n",
       "      <td>FGN ELECTRONIC MONEY TRANSFER LEVY</td>\n",
       "      <td>100.000000</td>\n",
       "      <td>D</td>\n",
       "      <td>1</td>\n",
       "    </tr>\n",
       "    <tr>\n",
       "      <th>3</th>\n",
       "      <td>2022-02-19</td>\n",
       "      <td>Quantum USSD</td>\n",
       "      <td>20026.880859</td>\n",
       "      <td>D</td>\n",
       "      <td>2</td>\n",
       "    </tr>\n",
       "    <tr>\n",
       "      <th>4</th>\n",
       "      <td>2022-05-28</td>\n",
       "      <td>POS/WEB PMT BETWAY NG/1853277904 PSTK LANG</td>\n",
       "      <td>10000.000000</td>\n",
       "      <td>D</td>\n",
       "      <td>3</td>\n",
       "    </tr>\n",
       "  </tbody>\n",
       "</table>\n",
       "</div>"
      ],
      "text/plain": [
       "         date                                          description  \\\n",
       "0  2022-05-29  POS/WEB PMT T MODERNCOMMUNICATI 000104 2070849Y NG    \n",
       "1  2022-03-19                              POS/WEB PMT NULL LA NG    \n",
       "2  2022-01-14                   FGN ELECTRONIC MONEY TRANSFER LEVY   \n",
       "3  2022-02-19                                         Quantum USSD   \n",
       "4  2022-05-28          POS/WEB PMT BETWAY NG/1853277904 PSTK LANG    \n",
       "\n",
       "         amount type  labels  \n",
       "0  20000.000000    D       0  \n",
       "1  13100.000000    D       0  \n",
       "2    100.000000    D       1  \n",
       "3  20026.880859    D       2  \n",
       "4  10000.000000    D       3  "
      ]
     },
     "execution_count": 5,
     "metadata": {},
     "output_type": "execute_result"
    }
   ],
   "source": [
    "# Map the labels\n",
    "df[\"labels\"] = df[\"labels\"].map(label2id)\n",
    "\n",
    "df.head()"
   ]
  },
  {
   "cell_type": "markdown",
   "metadata": {},
   "source": [
    "### Split Data\n",
    "\n",
    "```text\n",
    "Split the data into:\n",
    "- Training data\n",
    "- Validation data\n",
    "- Test data\n",
    "```"
   ]
  },
  {
   "cell_type": "code",
   "execution_count": 6,
   "metadata": {},
   "outputs": [
    {
     "data": {
      "text/plain": [
       "((460000, 5), (40000, 5))"
      ]
     },
     "execution_count": 6,
     "metadata": {},
     "output_type": "execute_result"
    }
   ],
   "source": [
    "from sklearn.model_selection import train_test_split\n",
    "from datasets import Dataset, DatasetDict\n",
    "\n",
    "\n",
    "RANDOM_STATE: int = 123\n",
    "TEST_SIZE: float = 0.08\n",
    "\n",
    "X_t, X_test = train_test_split(df, test_size=TEST_SIZE, random_state=RANDOM_STATE)\n",
    "\n",
    "X_t.shape, X_test.shape"
   ]
  },
  {
   "cell_type": "code",
   "execution_count": 7,
   "metadata": {},
   "outputs": [
    {
     "data": {
      "text/plain": [
       "((423200, 5), (36800, 5), (40000, 5))"
      ]
     },
     "execution_count": 7,
     "metadata": {},
     "output_type": "execute_result"
    }
   ],
   "source": [
    "X_train, X_validation = train_test_split(\n",
    "    X_t, test_size=TEST_SIZE, random_state=RANDOM_STATE\n",
    ")\n",
    "X_train.shape, X_validation.shape, X_test.shape"
   ]
  },
  {
   "cell_type": "code",
   "execution_count": 8,
   "metadata": {},
   "outputs": [
    {
     "data": {
      "text/plain": [
       "Dataset({\n",
       "    features: ['date', 'description', 'amount', 'type', 'labels', '__index_level_0__'],\n",
       "    num_rows: 423200\n",
       "})"
      ]
     },
     "execution_count": 8,
     "metadata": {},
     "output_type": "execute_result"
    }
   ],
   "source": [
    "# Create dataset objects\n",
    "train_dataset: DatasetDict = Dataset.from_pandas(df=X_train)\n",
    "validation_dataset: DatasetDict = Dataset.from_pandas(df=X_validation)\n",
    "test_dataset: DatasetDict = Dataset.from_pandas(df=X_test)\n",
    "\n",
    "train_dataset"
   ]
  },
  {
   "cell_type": "code",
   "execution_count": 9,
   "metadata": {},
   "outputs": [
    {
     "data": {
      "text/plain": [
       "DatasetDict({\n",
       "    train: Dataset({\n",
       "        features: ['date', 'description', 'amount', 'type', 'labels', '__index_level_0__'],\n",
       "        num_rows: 423200\n",
       "    })\n",
       "    validation: Dataset({\n",
       "        features: ['date', 'description', 'amount', 'type', 'labels', '__index_level_0__'],\n",
       "        num_rows: 36800\n",
       "    })\n",
       "    test: Dataset({\n",
       "        features: ['date', 'description', 'amount', 'type', 'labels', '__index_level_0__'],\n",
       "        num_rows: 40000\n",
       "    })\n",
       "})"
      ]
     },
     "execution_count": 9,
     "metadata": {},
     "output_type": "execute_result"
    }
   ],
   "source": [
    "# Create dataset dict object\n",
    "dataset: DatasetDict = DatasetDict(\n",
    "    {\"train\": train_dataset, \"validation\": validation_dataset, \"test\": test_dataset}\n",
    ")\n",
    "\n",
    "dataset"
   ]
  },
  {
   "cell_type": "code",
   "execution_count": 10,
   "metadata": {},
   "outputs": [
    {
     "data": {
      "text/plain": [
       "DatasetDict({\n",
       "    train: Dataset({\n",
       "        features: ['date', 'description', 'amount', 'type', 'labels'],\n",
       "        num_rows: 423200\n",
       "    })\n",
       "    validation: Dataset({\n",
       "        features: ['date', 'description', 'amount', 'type', 'labels'],\n",
       "        num_rows: 36800\n",
       "    })\n",
       "    test: Dataset({\n",
       "        features: ['date', 'description', 'amount', 'type', 'labels'],\n",
       "        num_rows: 40000\n",
       "    })\n",
       "})"
      ]
     },
     "execution_count": 10,
     "metadata": {},
     "output_type": "execute_result"
    }
   ],
   "source": [
    "# Remove column\n",
    "dataset = dataset.remove_columns([\"__index_level_0__\"])\n",
    "dataset"
   ]
  },
  {
   "cell_type": "code",
   "execution_count": 11,
   "metadata": {},
   "outputs": [
    {
     "data": {
      "text/html": [
       "<pre style=\"white-space:pre;overflow-x:auto;line-height:normal;font-family:Menlo,'DejaVu Sans Mono',consolas,'Courier New',monospace\"><span style=\"font-weight: bold\">{</span>\n",
       "    <span style=\"color: #008000; text-decoration-color: #008000\">'date'</span>: <span style=\"color: #008000; text-decoration-color: #008000\">'2022-05-06'</span>,\n",
       "    <span style=\"color: #008000; text-decoration-color: #008000\">'description'</span>: <span style=\"color: #008000; text-decoration-color: #008000\">'MOTUNRAYO TITILOPE FAYOMI-WILLIAMS/A'</span>,\n",
       "    <span style=\"color: #008000; text-decoration-color: #008000\">'amount'</span>: <span style=\"color: #008080; text-decoration-color: #008080; font-weight: bold\">3000.0</span>,\n",
       "    <span style=\"color: #008000; text-decoration-color: #008000\">'type'</span>: <span style=\"color: #008000; text-decoration-color: #008000\">'C'</span>,\n",
       "    <span style=\"color: #008000; text-decoration-color: #008000\">'labels'</span>: <span style=\"color: #008080; text-decoration-color: #008080; font-weight: bold\">4</span>\n",
       "<span style=\"font-weight: bold\">}</span>\n",
       "</pre>\n"
      ],
      "text/plain": [
       "\u001b[1m{\u001b[0m\n",
       "    \u001b[32m'date'\u001b[0m: \u001b[32m'2022-05-06'\u001b[0m,\n",
       "    \u001b[32m'description'\u001b[0m: \u001b[32m'MOTUNRAYO TITILOPE FAYOMI-WILLIAMS/A'\u001b[0m,\n",
       "    \u001b[32m'amount'\u001b[0m: \u001b[1;36m3000.0\u001b[0m,\n",
       "    \u001b[32m'type'\u001b[0m: \u001b[32m'C'\u001b[0m,\n",
       "    \u001b[32m'labels'\u001b[0m: \u001b[1;36m4\u001b[0m\n",
       "\u001b[1m}\u001b[0m\n"
      ]
     },
     "metadata": {},
     "output_type": "display_data"
    },
    {
     "data": {
      "text/html": [
       "<pre style=\"white-space:pre;overflow-x:auto;line-height:normal;font-family:Menlo,'DejaVu Sans Mono',consolas,'Courier New',monospace\"><span style=\"font-weight: bold\">{</span>\n",
       "    <span style=\"color: #008000; text-decoration-color: #008000\">'date'</span>: <span style=\"color: #008000; text-decoration-color: #008000\">'2022-04-22'</span>,\n",
       "    <span style=\"color: #008000; text-decoration-color: #008000\">'description'</span>: <span style=\"color: #008000; text-decoration-color: #008000\">'TRF/Payment for NDK/FRM DASMAN PANAN MAAN TO  DANIEL GBASIKA ADEBOYE - 011'</span>,\n",
       "    <span style=\"color: #008000; text-decoration-color: #008000\">'amount'</span>: <span style=\"color: #008080; text-decoration-color: #008080; font-weight: bold\">12026.8798828125</span>,\n",
       "    <span style=\"color: #008000; text-decoration-color: #008000\">'type'</span>: <span style=\"color: #008000; text-decoration-color: #008000\">'D'</span>,\n",
       "    <span style=\"color: #008000; text-decoration-color: #008000\">'labels'</span>: <span style=\"color: #008080; text-decoration-color: #008080; font-weight: bold\">1</span>\n",
       "<span style=\"font-weight: bold\">}</span>\n",
       "</pre>\n"
      ],
      "text/plain": [
       "\u001b[1m{\u001b[0m\n",
       "    \u001b[32m'date'\u001b[0m: \u001b[32m'2022-04-22'\u001b[0m,\n",
       "    \u001b[32m'description'\u001b[0m: \u001b[32m'TRF/Payment for NDK/FRM DASMAN PANAN MAAN TO  DANIEL GBASIKA ADEBOYE - 011'\u001b[0m,\n",
       "    \u001b[32m'amount'\u001b[0m: \u001b[1;36m12026.8798828125\u001b[0m,\n",
       "    \u001b[32m'type'\u001b[0m: \u001b[32m'D'\u001b[0m,\n",
       "    \u001b[32m'labels'\u001b[0m: \u001b[1;36m1\u001b[0m\n",
       "\u001b[1m}\u001b[0m\n"
      ]
     },
     "metadata": {},
     "output_type": "display_data"
    },
    {
     "data": {
      "text/html": [
       "<pre style=\"white-space:pre;overflow-x:auto;line-height:normal;font-family:Menlo,'DejaVu Sans Mono',consolas,'Courier New',monospace\"><span style=\"font-weight: bold\">{</span><span style=\"color: #008000; text-decoration-color: #008000\">'date'</span>: <span style=\"color: #008000; text-decoration-color: #008000\">'2021-12-14'</span>, <span style=\"color: #008000; text-decoration-color: #008000\">'description'</span>: <span style=\"color: #008000; text-decoration-color: #008000\">'ATM CASH WDL ROU'</span>, <span style=\"color: #008000; text-decoration-color: #008000\">'amount'</span>: <span style=\"color: #008080; text-decoration-color: #008080; font-weight: bold\">3000.0</span>, <span style=\"color: #008000; text-decoration-color: #008000\">'type'</span>: <span style=\"color: #008000; text-decoration-color: #008000\">'D'</span>, <span style=\"color: #008000; text-decoration-color: #008000\">'labels'</span>: <span style=\"color: #008080; text-decoration-color: #008080; font-weight: bold\">0</span><span style=\"font-weight: bold\">}</span>\n",
       "</pre>\n"
      ],
      "text/plain": [
       "\u001b[1m{\u001b[0m\u001b[32m'date'\u001b[0m: \u001b[32m'2021-12-14'\u001b[0m, \u001b[32m'description'\u001b[0m: \u001b[32m'ATM CASH WDL ROU'\u001b[0m, \u001b[32m'amount'\u001b[0m: \u001b[1;36m3000.0\u001b[0m, \u001b[32m'type'\u001b[0m: \u001b[32m'D'\u001b[0m, \u001b[32m'labels'\u001b[0m: \u001b[1;36m0\u001b[0m\u001b[1m}\u001b[0m\n"
      ]
     },
     "metadata": {},
     "output_type": "display_data"
    }
   ],
   "source": [
    "print(dataset.get(\"train\")[0])\n",
    "\n",
    "print(dataset.get(\"validation\")[0])\n",
    "\n",
    "print(dataset.get(\"test\")[0])"
   ]
  },
  {
   "cell_type": "code",
   "execution_count": 12,
   "metadata": {},
   "outputs": [],
   "source": [
    "def lower_case_slower(example: dict[str, Any]) -> dict[str, Any]:\n",
    "    \"\"\"Convert the text to lowercase. It's a MUCH SLOWER version.\"\"\"\n",
    "    return {\"description\": example.get(\"description\").lower()}\n",
    "\n",
    "\n",
    "def lower_case(example: dict[str, Any]) -> dict[str, Any]:\n",
    "    \"\"\"Convert the text to lowercase.\"\"\"\n",
    "    return {\"description\": [val.lower() for val in example.get(\"description\")]}\n",
    "\n",
    "\n",
    "def add_description_length(example: dict[str, Any]) -> dict[str, Any]:\n",
    "    \"\"\"This is used to add the length of the description to the dataset.\"\"\"\n",
    "    return {\"description_length\": [len(val) for val in example.get(\"description\")]}"
   ]
  },
  {
   "cell_type": "code",
   "execution_count": 13,
   "metadata": {},
   "outputs": [],
   "source": [
    "# Much slower\n",
    "# dataset_1 = dataset.map(lower_case_slower)\n",
    "# dataset_1"
   ]
  },
  {
   "cell_type": "code",
   "execution_count": 14,
   "metadata": {},
   "outputs": [
    {
     "data": {
      "application/vnd.jupyter.widget-view+json": {
       "model_id": "2d2b38a0d41b4325a80026bdd8c7f8d6",
       "version_major": 2,
       "version_minor": 0
      },
      "text/plain": [
       "Map:   0%|          | 0/423200 [00:00<?, ? examples/s]"
      ]
     },
     "metadata": {},
     "output_type": "display_data"
    },
    {
     "data": {
      "application/vnd.jupyter.widget-view+json": {
       "model_id": "d2bbdc4941414aa39905bc064d232c46",
       "version_major": 2,
       "version_minor": 0
      },
      "text/plain": [
       "Map:   0%|          | 0/36800 [00:00<?, ? examples/s]"
      ]
     },
     "metadata": {},
     "output_type": "display_data"
    },
    {
     "data": {
      "application/vnd.jupyter.widget-view+json": {
       "model_id": "9db974d19aa04c40acdb395f10c6dc7d",
       "version_major": 2,
       "version_minor": 0
      },
      "text/plain": [
       "Map:   0%|          | 0/40000 [00:00<?, ? examples/s]"
      ]
     },
     "metadata": {},
     "output_type": "display_data"
    },
    {
     "data": {
      "text/plain": [
       "DatasetDict({\n",
       "    train: Dataset({\n",
       "        features: ['date', 'description', 'amount', 'type', 'labels'],\n",
       "        num_rows: 423200\n",
       "    })\n",
       "    validation: Dataset({\n",
       "        features: ['date', 'description', 'amount', 'type', 'labels'],\n",
       "        num_rows: 36800\n",
       "    })\n",
       "    test: Dataset({\n",
       "        features: ['date', 'description', 'amount', 'type', 'labels'],\n",
       "        num_rows: 40000\n",
       "    })\n",
       "})"
      ]
     },
     "execution_count": 14,
     "metadata": {},
     "output_type": "execute_result"
    }
   ],
   "source": [
    "# Much faster!\n",
    "dataset_1 = dataset.map(lower_case, batched=True)\n",
    "dataset_1"
   ]
  },
  {
   "cell_type": "code",
   "execution_count": 15,
   "metadata": {},
   "outputs": [
    {
     "data": {
      "application/vnd.jupyter.widget-view+json": {
       "model_id": "161a05343dd040a7b07920f20c9bc13b",
       "version_major": 2,
       "version_minor": 0
      },
      "text/plain": [
       "Map:   0%|          | 0/423200 [00:00<?, ? examples/s]"
      ]
     },
     "metadata": {},
     "output_type": "display_data"
    },
    {
     "data": {
      "application/vnd.jupyter.widget-view+json": {
       "model_id": "ac71092d12b2496998307e4005c6026d",
       "version_major": 2,
       "version_minor": 0
      },
      "text/plain": [
       "Map:   0%|          | 0/36800 [00:00<?, ? examples/s]"
      ]
     },
     "metadata": {},
     "output_type": "display_data"
    },
    {
     "data": {
      "application/vnd.jupyter.widget-view+json": {
       "model_id": "6f3e85de6594406b8208fa8b586986c3",
       "version_major": 2,
       "version_minor": 0
      },
      "text/plain": [
       "Map:   0%|          | 0/40000 [00:00<?, ? examples/s]"
      ]
     },
     "metadata": {},
     "output_type": "display_data"
    },
    {
     "data": {
      "text/plain": [
       "DatasetDict({\n",
       "    train: Dataset({\n",
       "        features: ['date', 'description', 'amount', 'type', 'labels', 'description_length'],\n",
       "        num_rows: 423200\n",
       "    })\n",
       "    validation: Dataset({\n",
       "        features: ['date', 'description', 'amount', 'type', 'labels', 'description_length'],\n",
       "        num_rows: 36800\n",
       "    })\n",
       "    test: Dataset({\n",
       "        features: ['date', 'description', 'amount', 'type', 'labels', 'description_length'],\n",
       "        num_rows: 40000\n",
       "    })\n",
       "})"
      ]
     },
     "execution_count": 15,
     "metadata": {},
     "output_type": "execute_result"
    }
   ],
   "source": [
    "dataset_1 = dataset_1.map(add_description_length, batched=True)\n",
    "dataset_1"
   ]
  },
  {
   "cell_type": "code",
   "execution_count": 16,
   "metadata": {},
   "outputs": [
    {
     "data": {
      "text/html": [
       "<pre style=\"white-space:pre;overflow-x:auto;line-height:normal;font-family:Menlo,'DejaVu Sans Mono',consolas,'Courier New',monospace\"><span style=\"font-weight: bold\">{</span>\n",
       "    <span style=\"color: #008000; text-decoration-color: #008000\">'date'</span>: <span style=\"color: #008000; text-decoration-color: #008000\">'2022-05-06'</span>,\n",
       "    <span style=\"color: #008000; text-decoration-color: #008000\">'description'</span>: <span style=\"color: #008000; text-decoration-color: #008000\">'motunrayo titilope fayomi-williams/a'</span>,\n",
       "    <span style=\"color: #008000; text-decoration-color: #008000\">'amount'</span>: <span style=\"color: #008080; text-decoration-color: #008080; font-weight: bold\">3000.0</span>,\n",
       "    <span style=\"color: #008000; text-decoration-color: #008000\">'type'</span>: <span style=\"color: #008000; text-decoration-color: #008000\">'C'</span>,\n",
       "    <span style=\"color: #008000; text-decoration-color: #008000\">'labels'</span>: <span style=\"color: #008080; text-decoration-color: #008080; font-weight: bold\">4</span>,\n",
       "    <span style=\"color: #008000; text-decoration-color: #008000\">'description_length'</span>: <span style=\"color: #008080; text-decoration-color: #008080; font-weight: bold\">36</span>\n",
       "<span style=\"font-weight: bold\">}</span>\n",
       "</pre>\n"
      ],
      "text/plain": [
       "\u001b[1m{\u001b[0m\n",
       "    \u001b[32m'date'\u001b[0m: \u001b[32m'2022-05-06'\u001b[0m,\n",
       "    \u001b[32m'description'\u001b[0m: \u001b[32m'motunrayo titilope fayomi-williams/a'\u001b[0m,\n",
       "    \u001b[32m'amount'\u001b[0m: \u001b[1;36m3000.0\u001b[0m,\n",
       "    \u001b[32m'type'\u001b[0m: \u001b[32m'C'\u001b[0m,\n",
       "    \u001b[32m'labels'\u001b[0m: \u001b[1;36m4\u001b[0m,\n",
       "    \u001b[32m'description_length'\u001b[0m: \u001b[1;36m36\u001b[0m\n",
       "\u001b[1m}\u001b[0m\n"
      ]
     },
     "metadata": {},
     "output_type": "display_data"
    },
    {
     "data": {
      "text/html": [
       "<pre style=\"white-space:pre;overflow-x:auto;line-height:normal;font-family:Menlo,'DejaVu Sans Mono',consolas,'Courier New',monospace\"><span style=\"font-weight: bold\">{</span>\n",
       "    <span style=\"color: #008000; text-decoration-color: #008000\">'date'</span>: <span style=\"color: #008000; text-decoration-color: #008000\">'2022-04-22'</span>,\n",
       "    <span style=\"color: #008000; text-decoration-color: #008000\">'description'</span>: <span style=\"color: #008000; text-decoration-color: #008000\">'trf/payment for ndk/frm dasman panan maan to  daniel gbasika adeboye - 011'</span>,\n",
       "    <span style=\"color: #008000; text-decoration-color: #008000\">'amount'</span>: <span style=\"color: #008080; text-decoration-color: #008080; font-weight: bold\">12026.8798828125</span>,\n",
       "    <span style=\"color: #008000; text-decoration-color: #008000\">'type'</span>: <span style=\"color: #008000; text-decoration-color: #008000\">'D'</span>,\n",
       "    <span style=\"color: #008000; text-decoration-color: #008000\">'labels'</span>: <span style=\"color: #008080; text-decoration-color: #008080; font-weight: bold\">1</span>,\n",
       "    <span style=\"color: #008000; text-decoration-color: #008000\">'description_length'</span>: <span style=\"color: #008080; text-decoration-color: #008080; font-weight: bold\">74</span>\n",
       "<span style=\"font-weight: bold\">}</span>\n",
       "</pre>\n"
      ],
      "text/plain": [
       "\u001b[1m{\u001b[0m\n",
       "    \u001b[32m'date'\u001b[0m: \u001b[32m'2022-04-22'\u001b[0m,\n",
       "    \u001b[32m'description'\u001b[0m: \u001b[32m'trf/payment for ndk/frm dasman panan maan to  daniel gbasika adeboye - 011'\u001b[0m,\n",
       "    \u001b[32m'amount'\u001b[0m: \u001b[1;36m12026.8798828125\u001b[0m,\n",
       "    \u001b[32m'type'\u001b[0m: \u001b[32m'D'\u001b[0m,\n",
       "    \u001b[32m'labels'\u001b[0m: \u001b[1;36m1\u001b[0m,\n",
       "    \u001b[32m'description_length'\u001b[0m: \u001b[1;36m74\u001b[0m\n",
       "\u001b[1m}\u001b[0m\n"
      ]
     },
     "metadata": {},
     "output_type": "display_data"
    },
    {
     "data": {
      "text/html": [
       "<pre style=\"white-space:pre;overflow-x:auto;line-height:normal;font-family:Menlo,'DejaVu Sans Mono',consolas,'Courier New',monospace\"><span style=\"font-weight: bold\">{</span>\n",
       "    <span style=\"color: #008000; text-decoration-color: #008000\">'date'</span>: <span style=\"color: #008000; text-decoration-color: #008000\">'2021-12-14'</span>,\n",
       "    <span style=\"color: #008000; text-decoration-color: #008000\">'description'</span>: <span style=\"color: #008000; text-decoration-color: #008000\">'atm cash wdl rou'</span>,\n",
       "    <span style=\"color: #008000; text-decoration-color: #008000\">'amount'</span>: <span style=\"color: #008080; text-decoration-color: #008080; font-weight: bold\">3000.0</span>,\n",
       "    <span style=\"color: #008000; text-decoration-color: #008000\">'type'</span>: <span style=\"color: #008000; text-decoration-color: #008000\">'D'</span>,\n",
       "    <span style=\"color: #008000; text-decoration-color: #008000\">'labels'</span>: <span style=\"color: #008080; text-decoration-color: #008080; font-weight: bold\">0</span>,\n",
       "    <span style=\"color: #008000; text-decoration-color: #008000\">'description_length'</span>: <span style=\"color: #008080; text-decoration-color: #008080; font-weight: bold\">16</span>\n",
       "<span style=\"font-weight: bold\">}</span>\n",
       "</pre>\n"
      ],
      "text/plain": [
       "\u001b[1m{\u001b[0m\n",
       "    \u001b[32m'date'\u001b[0m: \u001b[32m'2021-12-14'\u001b[0m,\n",
       "    \u001b[32m'description'\u001b[0m: \u001b[32m'atm cash wdl rou'\u001b[0m,\n",
       "    \u001b[32m'amount'\u001b[0m: \u001b[1;36m3000.0\u001b[0m,\n",
       "    \u001b[32m'type'\u001b[0m: \u001b[32m'D'\u001b[0m,\n",
       "    \u001b[32m'labels'\u001b[0m: \u001b[1;36m0\u001b[0m,\n",
       "    \u001b[32m'description_length'\u001b[0m: \u001b[1;36m16\u001b[0m\n",
       "\u001b[1m}\u001b[0m\n"
      ]
     },
     "metadata": {},
     "output_type": "display_data"
    }
   ],
   "source": [
    "print(dataset_1.get(\"train\")[0])\n",
    "\n",
    "print(dataset_1.get(\"validation\")[0])\n",
    "\n",
    "print(dataset_1.get(\"test\")[0])"
   ]
  },
  {
   "cell_type": "code",
   "execution_count": 17,
   "metadata": {},
   "outputs": [
    {
     "data": {
      "application/vnd.jupyter.widget-view+json": {
       "model_id": "2ff43c0b04b24f3d87ef9c9a3ff344b5",
       "version_major": 2,
       "version_minor": 0
      },
      "text/plain": [
       "Filter:   0%|          | 0/423200 [00:00<?, ? examples/s]"
      ]
     },
     "metadata": {},
     "output_type": "display_data"
    },
    {
     "data": {
      "application/vnd.jupyter.widget-view+json": {
       "model_id": "51c2eb3f0fe84c6e95f58d330628d355",
       "version_major": 2,
       "version_minor": 0
      },
      "text/plain": [
       "Filter:   0%|          | 0/36800 [00:00<?, ? examples/s]"
      ]
     },
     "metadata": {},
     "output_type": "display_data"
    },
    {
     "data": {
      "application/vnd.jupyter.widget-view+json": {
       "model_id": "11a792af68754bac9e19dd3cba10cbb2",
       "version_major": 2,
       "version_minor": 0
      },
      "text/plain": [
       "Filter:   0%|          | 0/40000 [00:00<?, ? examples/s]"
      ]
     },
     "metadata": {},
     "output_type": "display_data"
    },
    {
     "data": {
      "text/plain": [
       "DatasetDict({\n",
       "    train: Dataset({\n",
       "        features: ['date', 'description', 'amount', 'type', 'labels', 'description_length'],\n",
       "        num_rows: 408029\n",
       "    })\n",
       "    validation: Dataset({\n",
       "        features: ['date', 'description', 'amount', 'type', 'labels', 'description_length'],\n",
       "        num_rows: 35476\n",
       "    })\n",
       "    test: Dataset({\n",
       "        features: ['date', 'description', 'amount', 'type', 'labels', 'description_length'],\n",
       "        num_rows: 38555\n",
       "    })\n",
       "})"
      ]
     },
     "execution_count": 17,
     "metadata": {},
     "output_type": "execute_result"
    }
   ],
   "source": [
    "# Drop descriptions that are less than 10\n",
    "THRESHOLD: int = 10\n",
    "dataset_1 = dataset_1.filter(lambda x: x.get(\"description_length\") >= THRESHOLD)\n",
    "dataset_1"
   ]
  },
  {
   "cell_type": "code",
   "execution_count": 18,
   "metadata": {},
   "outputs": [
    {
     "data": {
      "text/html": [
       "<pre style=\"white-space:pre;overflow-x:auto;line-height:normal;font-family:Menlo,'DejaVu Sans Mono',consolas,'Courier New',monospace\"><span style=\"font-weight: bold\">{</span>\n",
       "    <span style=\"color: #008000; text-decoration-color: #008000\">'date'</span>: <span style=\"color: #008000; text-decoration-color: #008000\">'2022-04-22'</span>,\n",
       "    <span style=\"color: #008000; text-decoration-color: #008000\">'description'</span>: <span style=\"color: #008000; text-decoration-color: #008000\">'trf/payment for ndk/frm dasman panan maan to  daniel gbasika adeboye - 011'</span>,\n",
       "    <span style=\"color: #008000; text-decoration-color: #008000\">'amount'</span>: <span style=\"color: #008080; text-decoration-color: #008080; font-weight: bold\">12026.8798828125</span>,\n",
       "    <span style=\"color: #008000; text-decoration-color: #008000\">'type'</span>: <span style=\"color: #008000; text-decoration-color: #008000\">'D'</span>,\n",
       "    <span style=\"color: #008000; text-decoration-color: #008000\">'labels'</span>: <span style=\"color: #008080; text-decoration-color: #008080; font-weight: bold\">1</span>,\n",
       "    <span style=\"color: #008000; text-decoration-color: #008000\">'description_length'</span>: <span style=\"color: #008080; text-decoration-color: #008080; font-weight: bold\">74</span>\n",
       "<span style=\"font-weight: bold\">}</span>\n",
       "</pre>\n"
      ],
      "text/plain": [
       "\u001b[1m{\u001b[0m\n",
       "    \u001b[32m'date'\u001b[0m: \u001b[32m'2022-04-22'\u001b[0m,\n",
       "    \u001b[32m'description'\u001b[0m: \u001b[32m'trf/payment for ndk/frm dasman panan maan to  daniel gbasika adeboye - 011'\u001b[0m,\n",
       "    \u001b[32m'amount'\u001b[0m: \u001b[1;36m12026.8798828125\u001b[0m,\n",
       "    \u001b[32m'type'\u001b[0m: \u001b[32m'D'\u001b[0m,\n",
       "    \u001b[32m'labels'\u001b[0m: \u001b[1;36m1\u001b[0m,\n",
       "    \u001b[32m'description_length'\u001b[0m: \u001b[1;36m74\u001b[0m\n",
       "\u001b[1m}\u001b[0m\n"
      ]
     },
     "metadata": {},
     "output_type": "display_data"
    }
   ],
   "source": [
    "print(dataset_1.get(\"validation\")[0])"
   ]
  },
  {
   "cell_type": "code",
   "execution_count": 19,
   "metadata": {},
   "outputs": [],
   "source": [
    "def concat_data(example: dict[str, Any]) -> dict[str, Any]:\n",
    "    \"\"\"This is used to create a new column by combining columns in the dataset.\"\"\"\n",
    "\n",
    "    result: dict[str, Any] = {\n",
    "        \"body\": [\n",
    "            f\"{date} \\n {type} \\n {amount} \\n {description}\"\n",
    "            for (date, type, amount, description) in zip(\n",
    "                example.get(\"date\"),\n",
    "                example.get(\"type\"),\n",
    "                example.get(\"amount\"),\n",
    "                example.get(\"description\"),\n",
    "            )\n",
    "        ]\n",
    "    }\n",
    "    return result"
   ]
  },
  {
   "cell_type": "code",
   "execution_count": 20,
   "metadata": {},
   "outputs": [
    {
     "data": {
      "application/vnd.jupyter.widget-view+json": {
       "model_id": "476f2b2e9c5e494a9771b7a1c4ad6e20",
       "version_major": 2,
       "version_minor": 0
      },
      "text/plain": [
       "Map:   0%|          | 0/408029 [00:00<?, ? examples/s]"
      ]
     },
     "metadata": {},
     "output_type": "display_data"
    },
    {
     "data": {
      "application/vnd.jupyter.widget-view+json": {
       "model_id": "c56cc89b46eb42859f79c34e214db709",
       "version_major": 2,
       "version_minor": 0
      },
      "text/plain": [
       "Map:   0%|          | 0/35476 [00:00<?, ? examples/s]"
      ]
     },
     "metadata": {},
     "output_type": "display_data"
    },
    {
     "data": {
      "application/vnd.jupyter.widget-view+json": {
       "model_id": "db63b7c68cb04e7684523b88ed025de3",
       "version_major": 2,
       "version_minor": 0
      },
      "text/plain": [
       "Map:   0%|          | 0/38555 [00:00<?, ? examples/s]"
      ]
     },
     "metadata": {},
     "output_type": "display_data"
    },
    {
     "data": {
      "text/plain": [
       "DatasetDict({\n",
       "    train: Dataset({\n",
       "        features: ['date', 'description', 'amount', 'type', 'labels', 'description_length', 'body'],\n",
       "        num_rows: 408029\n",
       "    })\n",
       "    validation: Dataset({\n",
       "        features: ['date', 'description', 'amount', 'type', 'labels', 'description_length', 'body'],\n",
       "        num_rows: 35476\n",
       "    })\n",
       "    test: Dataset({\n",
       "        features: ['date', 'description', 'amount', 'type', 'labels', 'description_length', 'body'],\n",
       "        num_rows: 38555\n",
       "    })\n",
       "})"
      ]
     },
     "execution_count": 20,
     "metadata": {},
     "output_type": "execute_result"
    }
   ],
   "source": [
    "dataset_1 = dataset_1.map(concat_data, batched=True)\n",
    "dataset_1"
   ]
  },
  {
   "cell_type": "code",
   "execution_count": 21,
   "metadata": {},
   "outputs": [
    {
     "data": {
      "text/html": [
       "<pre style=\"white-space:pre;overflow-x:auto;line-height:normal;font-family:Menlo,'DejaVu Sans Mono',consolas,'Courier New',monospace\"><span style=\"font-weight: bold\">{</span>\n",
       "    <span style=\"color: #008000; text-decoration-color: #008000\">'date'</span>: <span style=\"color: #008000; text-decoration-color: #008000\">'2022-05-06'</span>,\n",
       "    <span style=\"color: #008000; text-decoration-color: #008000\">'description'</span>: <span style=\"color: #008000; text-decoration-color: #008000\">'motunrayo titilope fayomi-williams/a'</span>,\n",
       "    <span style=\"color: #008000; text-decoration-color: #008000\">'amount'</span>: <span style=\"color: #008080; text-decoration-color: #008080; font-weight: bold\">3000.0</span>,\n",
       "    <span style=\"color: #008000; text-decoration-color: #008000\">'type'</span>: <span style=\"color: #008000; text-decoration-color: #008000\">'C'</span>,\n",
       "    <span style=\"color: #008000; text-decoration-color: #008000\">'labels'</span>: <span style=\"color: #008080; text-decoration-color: #008080; font-weight: bold\">4</span>,\n",
       "    <span style=\"color: #008000; text-decoration-color: #008000\">'description_length'</span>: <span style=\"color: #008080; text-decoration-color: #008080; font-weight: bold\">36</span>,\n",
       "    <span style=\"color: #008000; text-decoration-color: #008000\">'body'</span>: <span style=\"color: #008000; text-decoration-color: #008000\">'2022-05-06 \\n C \\n 3000.0 \\n motunrayo titilope fayomi-williams/a'</span>\n",
       "<span style=\"font-weight: bold\">}</span>\n",
       "</pre>\n"
      ],
      "text/plain": [
       "\u001b[1m{\u001b[0m\n",
       "    \u001b[32m'date'\u001b[0m: \u001b[32m'2022-05-06'\u001b[0m,\n",
       "    \u001b[32m'description'\u001b[0m: \u001b[32m'motunrayo titilope fayomi-williams/a'\u001b[0m,\n",
       "    \u001b[32m'amount'\u001b[0m: \u001b[1;36m3000.0\u001b[0m,\n",
       "    \u001b[32m'type'\u001b[0m: \u001b[32m'C'\u001b[0m,\n",
       "    \u001b[32m'labels'\u001b[0m: \u001b[1;36m4\u001b[0m,\n",
       "    \u001b[32m'description_length'\u001b[0m: \u001b[1;36m36\u001b[0m,\n",
       "    \u001b[32m'body'\u001b[0m: \u001b[32m'2022-05-06 \\n C \\n 3000.0 \\n motunrayo titilope fayomi-williams/a'\u001b[0m\n",
       "\u001b[1m}\u001b[0m\n"
      ]
     },
     "metadata": {},
     "output_type": "display_data"
    }
   ],
   "source": [
    "print(dataset_1.get(\"train\")[0])"
   ]
  },
  {
   "cell_type": "markdown",
   "metadata": {},
   "source": [
    "### Tokenize Data"
   ]
  },
  {
   "cell_type": "code",
   "execution_count": 22,
   "metadata": {},
   "outputs": [],
   "source": [
    "from transformers import AutoTokenizer\n",
    "\n",
    "\n",
    "MODEL_CHECKPOINT: str = \"bert-base-cased\"\n",
    "tokenizer: AutoTokenizer = AutoTokenizer.from_pretrained(MODEL_CHECKPOINT)\n",
    "\n",
    "\n",
    "def tokenize_function(examples: dict[str, Any]) -> dict[str, Any]:\n",
    "    \"\"\"This is used to tokenize the text. It returns a dict containing the\n",
    "    input_ids, token_type_ids and attention_mask.\"\"\"\n",
    "    return tokenizer(examples.get(\"body\"), truncation=True)"
   ]
  },
  {
   "cell_type": "code",
   "execution_count": 28,
   "metadata": {},
   "outputs": [
    {
     "data": {
      "application/vnd.jupyter.widget-view+json": {
       "model_id": "9eb997d407d444cea5e38f1f60b33640",
       "version_major": 2,
       "version_minor": 0
      },
      "text/plain": [
       "Map:   0%|          | 0/408029 [00:00<?, ? examples/s]"
      ]
     },
     "metadata": {},
     "output_type": "display_data"
    },
    {
     "data": {
      "application/vnd.jupyter.widget-view+json": {
       "model_id": "1e71f33bebe5482193fd20c2715c7a2f",
       "version_major": 2,
       "version_minor": 0
      },
      "text/plain": [
       "Map:   0%|          | 0/35476 [00:00<?, ? examples/s]"
      ]
     },
     "metadata": {},
     "output_type": "display_data"
    },
    {
     "data": {
      "application/vnd.jupyter.widget-view+json": {
       "model_id": "2dc03083a7a642c68aa2c32b27e6ba68",
       "version_major": 2,
       "version_minor": 0
      },
      "text/plain": [
       "Map:   0%|          | 0/38555 [00:00<?, ? examples/s]"
      ]
     },
     "metadata": {},
     "output_type": "display_data"
    },
    {
     "data": {
      "text/plain": [
       "DatasetDict({\n",
       "    train: Dataset({\n",
       "        features: ['labels', 'input_ids', 'token_type_ids', 'attention_mask'],\n",
       "        num_rows: 408029\n",
       "    })\n",
       "    validation: Dataset({\n",
       "        features: ['labels', 'input_ids', 'token_type_ids', 'attention_mask'],\n",
       "        num_rows: 35476\n",
       "    })\n",
       "    test: Dataset({\n",
       "        features: ['labels', 'input_ids', 'token_type_ids', 'attention_mask'],\n",
       "        num_rows: 38555\n",
       "    })\n",
       "})"
      ]
     },
     "execution_count": 28,
     "metadata": {},
     "output_type": "execute_result"
    }
   ],
   "source": [
    "FEATURES: list[str] = [\n",
    "    \"date\",\n",
    "    \"description\",\n",
    "    \"amount\",\n",
    "    \"type\",\n",
    "    \"description_length\",\n",
    "    \"body\",\n",
    "]\n",
    "\n",
    "tokenized_dataset: DatasetDict = dataset_1.map(\n",
    "    tokenize_function,\n",
    "    batched=True,\n",
    "    remove_columns=FEATURES,\n",
    ")\n",
    "tokenized_dataset"
   ]
  },
  {
   "cell_type": "code",
   "execution_count": 29,
   "metadata": {},
   "outputs": [
    {
     "data": {
      "text/html": [
       "<pre style=\"white-space:pre;overflow-x:auto;line-height:normal;font-family:Menlo,'DejaVu Sans Mono',consolas,'Courier New',monospace\"><span style=\"font-weight: bold\">{</span>\n",
       "    <span style=\"color: #008000; text-decoration-color: #008000\">'labels'</span>: <span style=\"color: #008080; text-decoration-color: #008080; font-weight: bold\">4</span>,\n",
       "    <span style=\"color: #008000; text-decoration-color: #008000\">'input_ids'</span>: <span style=\"font-weight: bold\">[</span>\n",
       "        <span style=\"color: #008080; text-decoration-color: #008080; font-weight: bold\">101</span>,\n",
       "        <span style=\"color: #008080; text-decoration-color: #008080; font-weight: bold\">17881</span>,\n",
       "        <span style=\"color: #008080; text-decoration-color: #008080; font-weight: bold\">1477</span>,\n",
       "        <span style=\"color: #008080; text-decoration-color: #008080; font-weight: bold\">118</span>,\n",
       "        <span style=\"color: #008080; text-decoration-color: #008080; font-weight: bold\">4991</span>,\n",
       "        <span style=\"color: #008080; text-decoration-color: #008080; font-weight: bold\">118</span>,\n",
       "        <span style=\"color: #008080; text-decoration-color: #008080; font-weight: bold\">5037</span>,\n",
       "        <span style=\"color: #008080; text-decoration-color: #008080; font-weight: bold\">140</span>,\n",
       "        <span style=\"color: #008080; text-decoration-color: #008080; font-weight: bold\">11975</span>,\n",
       "        <span style=\"color: #008080; text-decoration-color: #008080; font-weight: bold\">119</span>,\n",
       "        <span style=\"color: #008080; text-decoration-color: #008080; font-weight: bold\">121</span>,\n",
       "        <span style=\"color: #008080; text-decoration-color: #008080; font-weight: bold\">182</span>,\n",
       "        <span style=\"color: #008080; text-decoration-color: #008080; font-weight: bold\">3329</span>,\n",
       "        <span style=\"color: #008080; text-decoration-color: #008080; font-weight: bold\">3488</span>,\n",
       "        <span style=\"color: #008080; text-decoration-color: #008080; font-weight: bold\">6447</span>,\n",
       "        <span style=\"color: #008080; text-decoration-color: #008080; font-weight: bold\">1186</span>,\n",
       "        <span style=\"color: #008080; text-decoration-color: #008080; font-weight: bold\">189</span>,\n",
       "        <span style=\"color: #008080; text-decoration-color: #008080; font-weight: bold\">17030</span>,\n",
       "        <span style=\"color: #008080; text-decoration-color: #008080; font-weight: bold\">13200</span>,\n",
       "        <span style=\"color: #008080; text-decoration-color: #008080; font-weight: bold\">1162</span>,\n",
       "        <span style=\"color: #008080; text-decoration-color: #008080; font-weight: bold\">175</span>,\n",
       "        <span style=\"color: #008080; text-decoration-color: #008080; font-weight: bold\">4164</span>,\n",
       "        <span style=\"color: #008080; text-decoration-color: #008080; font-weight: bold\">18882</span>,\n",
       "        <span style=\"color: #008080; text-decoration-color: #008080; font-weight: bold\">118</span>,\n",
       "        <span style=\"color: #008080; text-decoration-color: #008080; font-weight: bold\">1209</span>,\n",
       "        <span style=\"color: #008080; text-decoration-color: #008080; font-weight: bold\">18331</span>,\n",
       "        <span style=\"color: #008080; text-decoration-color: #008080; font-weight: bold\">1116</span>,\n",
       "        <span style=\"color: #008080; text-decoration-color: #008080; font-weight: bold\">120</span>,\n",
       "        <span style=\"color: #008080; text-decoration-color: #008080; font-weight: bold\">170</span>,\n",
       "        <span style=\"color: #008080; text-decoration-color: #008080; font-weight: bold\">102</span>\n",
       "    <span style=\"font-weight: bold\">]</span>,\n",
       "    <span style=\"color: #008000; text-decoration-color: #008000\">'token_type_ids'</span>: <span style=\"font-weight: bold\">[</span><span style=\"color: #008080; text-decoration-color: #008080; font-weight: bold\">0</span>, <span style=\"color: #008080; text-decoration-color: #008080; font-weight: bold\">0</span>, <span style=\"color: #008080; text-decoration-color: #008080; font-weight: bold\">0</span>, <span style=\"color: #008080; text-decoration-color: #008080; font-weight: bold\">0</span>, <span style=\"color: #008080; text-decoration-color: #008080; font-weight: bold\">0</span>, <span style=\"color: #008080; text-decoration-color: #008080; font-weight: bold\">0</span>, <span style=\"color: #008080; text-decoration-color: #008080; font-weight: bold\">0</span>, <span style=\"color: #008080; text-decoration-color: #008080; font-weight: bold\">0</span>, <span style=\"color: #008080; text-decoration-color: #008080; font-weight: bold\">0</span>, <span style=\"color: #008080; text-decoration-color: #008080; font-weight: bold\">0</span>, <span style=\"color: #008080; text-decoration-color: #008080; font-weight: bold\">0</span>, <span style=\"color: #008080; text-decoration-color: #008080; font-weight: bold\">0</span>, <span style=\"color: #008080; text-decoration-color: #008080; font-weight: bold\">0</span>, <span style=\"color: #008080; text-decoration-color: #008080; font-weight: bold\">0</span>, <span style=\"color: #008080; text-decoration-color: #008080; font-weight: bold\">0</span>, <span style=\"color: #008080; text-decoration-color: #008080; font-weight: bold\">0</span>, <span style=\"color: #008080; text-decoration-color: #008080; font-weight: bold\">0</span>, <span style=\"color: #008080; text-decoration-color: #008080; font-weight: bold\">0</span>, <span style=\"color: #008080; text-decoration-color: #008080; font-weight: bold\">0</span>, <span style=\"color: #008080; text-decoration-color: #008080; font-weight: bold\">0</span>, <span style=\"color: #008080; text-decoration-color: #008080; font-weight: bold\">0</span>, <span style=\"color: #008080; text-decoration-color: #008080; font-weight: bold\">0</span>, <span style=\"color: #008080; text-decoration-color: #008080; font-weight: bold\">0</span>, <span style=\"color: #008080; text-decoration-color: #008080; font-weight: bold\">0</span>, <span style=\"color: #008080; text-decoration-color: #008080; font-weight: bold\">0</span>, <span style=\"color: #008080; text-decoration-color: #008080; font-weight: bold\">0</span>, <span style=\"color: #008080; text-decoration-color: #008080; font-weight: bold\">0</span>, <span style=\"color: #008080; text-decoration-color: #008080; font-weight: bold\">0</span>, <span style=\"color: #008080; text-decoration-color: #008080; font-weight: bold\">0</span>, <span style=\"color: #008080; text-decoration-color: #008080; font-weight: bold\">0</span><span style=\"font-weight: bold\">]</span>,\n",
       "    <span style=\"color: #008000; text-decoration-color: #008000\">'attention_mask'</span>: <span style=\"font-weight: bold\">[</span><span style=\"color: #008080; text-decoration-color: #008080; font-weight: bold\">1</span>, <span style=\"color: #008080; text-decoration-color: #008080; font-weight: bold\">1</span>, <span style=\"color: #008080; text-decoration-color: #008080; font-weight: bold\">1</span>, <span style=\"color: #008080; text-decoration-color: #008080; font-weight: bold\">1</span>, <span style=\"color: #008080; text-decoration-color: #008080; font-weight: bold\">1</span>, <span style=\"color: #008080; text-decoration-color: #008080; font-weight: bold\">1</span>, <span style=\"color: #008080; text-decoration-color: #008080; font-weight: bold\">1</span>, <span style=\"color: #008080; text-decoration-color: #008080; font-weight: bold\">1</span>, <span style=\"color: #008080; text-decoration-color: #008080; font-weight: bold\">1</span>, <span style=\"color: #008080; text-decoration-color: #008080; font-weight: bold\">1</span>, <span style=\"color: #008080; text-decoration-color: #008080; font-weight: bold\">1</span>, <span style=\"color: #008080; text-decoration-color: #008080; font-weight: bold\">1</span>, <span style=\"color: #008080; text-decoration-color: #008080; font-weight: bold\">1</span>, <span style=\"color: #008080; text-decoration-color: #008080; font-weight: bold\">1</span>, <span style=\"color: #008080; text-decoration-color: #008080; font-weight: bold\">1</span>, <span style=\"color: #008080; text-decoration-color: #008080; font-weight: bold\">1</span>, <span style=\"color: #008080; text-decoration-color: #008080; font-weight: bold\">1</span>, <span style=\"color: #008080; text-decoration-color: #008080; font-weight: bold\">1</span>, <span style=\"color: #008080; text-decoration-color: #008080; font-weight: bold\">1</span>, <span style=\"color: #008080; text-decoration-color: #008080; font-weight: bold\">1</span>, <span style=\"color: #008080; text-decoration-color: #008080; font-weight: bold\">1</span>, <span style=\"color: #008080; text-decoration-color: #008080; font-weight: bold\">1</span>, <span style=\"color: #008080; text-decoration-color: #008080; font-weight: bold\">1</span>, <span style=\"color: #008080; text-decoration-color: #008080; font-weight: bold\">1</span>, <span style=\"color: #008080; text-decoration-color: #008080; font-weight: bold\">1</span>, <span style=\"color: #008080; text-decoration-color: #008080; font-weight: bold\">1</span>, <span style=\"color: #008080; text-decoration-color: #008080; font-weight: bold\">1</span>, <span style=\"color: #008080; text-decoration-color: #008080; font-weight: bold\">1</span>, <span style=\"color: #008080; text-decoration-color: #008080; font-weight: bold\">1</span>, <span style=\"color: #008080; text-decoration-color: #008080; font-weight: bold\">1</span><span style=\"font-weight: bold\">]</span>\n",
       "<span style=\"font-weight: bold\">}</span>\n",
       "</pre>\n"
      ],
      "text/plain": [
       "\u001b[1m{\u001b[0m\n",
       "    \u001b[32m'labels'\u001b[0m: \u001b[1;36m4\u001b[0m,\n",
       "    \u001b[32m'input_ids'\u001b[0m: \u001b[1m[\u001b[0m\n",
       "        \u001b[1;36m101\u001b[0m,\n",
       "        \u001b[1;36m17881\u001b[0m,\n",
       "        \u001b[1;36m1477\u001b[0m,\n",
       "        \u001b[1;36m118\u001b[0m,\n",
       "        \u001b[1;36m4991\u001b[0m,\n",
       "        \u001b[1;36m118\u001b[0m,\n",
       "        \u001b[1;36m5037\u001b[0m,\n",
       "        \u001b[1;36m140\u001b[0m,\n",
       "        \u001b[1;36m11975\u001b[0m,\n",
       "        \u001b[1;36m119\u001b[0m,\n",
       "        \u001b[1;36m121\u001b[0m,\n",
       "        \u001b[1;36m182\u001b[0m,\n",
       "        \u001b[1;36m3329\u001b[0m,\n",
       "        \u001b[1;36m3488\u001b[0m,\n",
       "        \u001b[1;36m6447\u001b[0m,\n",
       "        \u001b[1;36m1186\u001b[0m,\n",
       "        \u001b[1;36m189\u001b[0m,\n",
       "        \u001b[1;36m17030\u001b[0m,\n",
       "        \u001b[1;36m13200\u001b[0m,\n",
       "        \u001b[1;36m1162\u001b[0m,\n",
       "        \u001b[1;36m175\u001b[0m,\n",
       "        \u001b[1;36m4164\u001b[0m,\n",
       "        \u001b[1;36m18882\u001b[0m,\n",
       "        \u001b[1;36m118\u001b[0m,\n",
       "        \u001b[1;36m1209\u001b[0m,\n",
       "        \u001b[1;36m18331\u001b[0m,\n",
       "        \u001b[1;36m1116\u001b[0m,\n",
       "        \u001b[1;36m120\u001b[0m,\n",
       "        \u001b[1;36m170\u001b[0m,\n",
       "        \u001b[1;36m102\u001b[0m\n",
       "    \u001b[1m]\u001b[0m,\n",
       "    \u001b[32m'token_type_ids'\u001b[0m: \u001b[1m[\u001b[0m\u001b[1;36m0\u001b[0m, \u001b[1;36m0\u001b[0m, \u001b[1;36m0\u001b[0m, \u001b[1;36m0\u001b[0m, \u001b[1;36m0\u001b[0m, \u001b[1;36m0\u001b[0m, \u001b[1;36m0\u001b[0m, \u001b[1;36m0\u001b[0m, \u001b[1;36m0\u001b[0m, \u001b[1;36m0\u001b[0m, \u001b[1;36m0\u001b[0m, \u001b[1;36m0\u001b[0m, \u001b[1;36m0\u001b[0m, \u001b[1;36m0\u001b[0m, \u001b[1;36m0\u001b[0m, \u001b[1;36m0\u001b[0m, \u001b[1;36m0\u001b[0m, \u001b[1;36m0\u001b[0m, \u001b[1;36m0\u001b[0m, \u001b[1;36m0\u001b[0m, \u001b[1;36m0\u001b[0m, \u001b[1;36m0\u001b[0m, \u001b[1;36m0\u001b[0m, \u001b[1;36m0\u001b[0m, \u001b[1;36m0\u001b[0m, \u001b[1;36m0\u001b[0m, \u001b[1;36m0\u001b[0m, \u001b[1;36m0\u001b[0m, \u001b[1;36m0\u001b[0m, \u001b[1;36m0\u001b[0m\u001b[1m]\u001b[0m,\n",
       "    \u001b[32m'attention_mask'\u001b[0m: \u001b[1m[\u001b[0m\u001b[1;36m1\u001b[0m, \u001b[1;36m1\u001b[0m, \u001b[1;36m1\u001b[0m, \u001b[1;36m1\u001b[0m, \u001b[1;36m1\u001b[0m, \u001b[1;36m1\u001b[0m, \u001b[1;36m1\u001b[0m, \u001b[1;36m1\u001b[0m, \u001b[1;36m1\u001b[0m, \u001b[1;36m1\u001b[0m, \u001b[1;36m1\u001b[0m, \u001b[1;36m1\u001b[0m, \u001b[1;36m1\u001b[0m, \u001b[1;36m1\u001b[0m, \u001b[1;36m1\u001b[0m, \u001b[1;36m1\u001b[0m, \u001b[1;36m1\u001b[0m, \u001b[1;36m1\u001b[0m, \u001b[1;36m1\u001b[0m, \u001b[1;36m1\u001b[0m, \u001b[1;36m1\u001b[0m, \u001b[1;36m1\u001b[0m, \u001b[1;36m1\u001b[0m, \u001b[1;36m1\u001b[0m, \u001b[1;36m1\u001b[0m, \u001b[1;36m1\u001b[0m, \u001b[1;36m1\u001b[0m, \u001b[1;36m1\u001b[0m, \u001b[1;36m1\u001b[0m, \u001b[1;36m1\u001b[0m\u001b[1m]\u001b[0m\n",
       "\u001b[1m}\u001b[0m\n"
      ]
     },
     "metadata": {},
     "output_type": "display_data"
    }
   ],
   "source": [
    "print(tokenized_dataset.get(\"train\")[0])"
   ]
  },
  {
   "cell_type": "code",
   "execution_count": 30,
   "metadata": {},
   "outputs": [
    {
     "data": {
      "text/plain": [
       "11"
      ]
     },
     "execution_count": 30,
     "metadata": {},
     "output_type": "execute_result"
    }
   ],
   "source": [
    "# Number of unique labels\n",
    "N_LABELS: int = len(tokenized_dataset.get(\"train\").unique(\"labels\"))\n",
    "\n",
    "N_LABELS"
   ]
  },
  {
   "cell_type": "code",
   "execution_count": 31,
   "metadata": {},
   "outputs": [],
   "source": [
    "from transformers import DataCollatorWithPadding\n",
    "\n",
    "\n",
    "data_collator: DataCollatorWithPadding = DataCollatorWithPadding(tokenizer=tokenizer)"
   ]
  },
  {
   "cell_type": "code",
   "execution_count": 35,
   "metadata": {},
   "outputs": [
    {
     "data": {
      "text/html": [
       "<pre style=\"white-space:pre;overflow-x:auto;line-height:normal;font-family:Menlo,'DejaVu Sans Mono',consolas,'Courier New',monospace\"><span style=\"font-weight: bold\">{</span>\n",
       "    <span style=\"color: #008000; text-decoration-color: #008000\">'labels'</span>: <span style=\"color: #800080; text-decoration-color: #800080; font-weight: bold\">tensor</span><span style=\"font-weight: bold\">([</span><span style=\"color: #008080; text-decoration-color: #008080; font-weight: bold\">4</span>, <span style=\"color: #008080; text-decoration-color: #008080; font-weight: bold\">0</span><span style=\"font-weight: bold\">])</span>,\n",
       "    <span style=\"color: #008000; text-decoration-color: #008000\">'input_ids'</span>: <span style=\"color: #800080; text-decoration-color: #800080; font-weight: bold\">tensor</span><span style=\"font-weight: bold\">([[</span>  <span style=\"color: #008080; text-decoration-color: #008080; font-weight: bold\">101</span>, <span style=\"color: #008080; text-decoration-color: #008080; font-weight: bold\">17881</span>,  <span style=\"color: #008080; text-decoration-color: #008080; font-weight: bold\">1477</span>,   <span style=\"color: #008080; text-decoration-color: #008080; font-weight: bold\">118</span>,  <span style=\"color: #008080; text-decoration-color: #008080; font-weight: bold\">4991</span>,   <span style=\"color: #008080; text-decoration-color: #008080; font-weight: bold\">118</span>,  <span style=\"color: #008080; text-decoration-color: #008080; font-weight: bold\">5037</span>,   <span style=\"color: #008080; text-decoration-color: #008080; font-weight: bold\">140</span>, <span style=\"color: #008080; text-decoration-color: #008080; font-weight: bold\">11975</span>,   <span style=\"color: #008080; text-decoration-color: #008080; font-weight: bold\">119</span>,\n",
       "           <span style=\"color: #008080; text-decoration-color: #008080; font-weight: bold\">121</span>,   <span style=\"color: #008080; text-decoration-color: #008080; font-weight: bold\">182</span>,  <span style=\"color: #008080; text-decoration-color: #008080; font-weight: bold\">3329</span>,  <span style=\"color: #008080; text-decoration-color: #008080; font-weight: bold\">3488</span>,  <span style=\"color: #008080; text-decoration-color: #008080; font-weight: bold\">6447</span>,  <span style=\"color: #008080; text-decoration-color: #008080; font-weight: bold\">1186</span>,   <span style=\"color: #008080; text-decoration-color: #008080; font-weight: bold\">189</span>, <span style=\"color: #008080; text-decoration-color: #008080; font-weight: bold\">17030</span>, <span style=\"color: #008080; text-decoration-color: #008080; font-weight: bold\">13200</span>,  <span style=\"color: #008080; text-decoration-color: #008080; font-weight: bold\">1162</span>,\n",
       "           <span style=\"color: #008080; text-decoration-color: #008080; font-weight: bold\">175</span>,  <span style=\"color: #008080; text-decoration-color: #008080; font-weight: bold\">4164</span>, <span style=\"color: #008080; text-decoration-color: #008080; font-weight: bold\">18882</span>,   <span style=\"color: #008080; text-decoration-color: #008080; font-weight: bold\">118</span>,  <span style=\"color: #008080; text-decoration-color: #008080; font-weight: bold\">1209</span>, <span style=\"color: #008080; text-decoration-color: #008080; font-weight: bold\">18331</span>,  <span style=\"color: #008080; text-decoration-color: #008080; font-weight: bold\">1116</span>,   <span style=\"color: #008080; text-decoration-color: #008080; font-weight: bold\">120</span>,   <span style=\"color: #008080; text-decoration-color: #008080; font-weight: bold\">170</span>,   <span style=\"color: #008080; text-decoration-color: #008080; font-weight: bold\">102</span><span style=\"font-weight: bold\">]</span>,\n",
       "        <span style=\"font-weight: bold\">[</span>  <span style=\"color: #008080; text-decoration-color: #008080; font-weight: bold\">101</span>, <span style=\"color: #008080; text-decoration-color: #008080; font-weight: bold\">17881</span>,  <span style=\"color: #008080; text-decoration-color: #008080; font-weight: bold\">1477</span>,   <span style=\"color: #008080; text-decoration-color: #008080; font-weight: bold\">118</span>,  <span style=\"color: #008080; text-decoration-color: #008080; font-weight: bold\">5187</span>,   <span style=\"color: #008080; text-decoration-color: #008080; font-weight: bold\">118</span>,  <span style=\"color: #008080; text-decoration-color: #008080; font-weight: bold\">1955</span>,   <span style=\"color: #008080; text-decoration-color: #008080; font-weight: bold\">141</span>, <span style=\"color: #008080; text-decoration-color: #008080; font-weight: bold\">26177</span>,  <span style=\"color: #008080; text-decoration-color: #008080; font-weight: bold\">1568</span>,\n",
       "           <span style=\"color: #008080; text-decoration-color: #008080; font-weight: bold\">119</span>,   <span style=\"color: #008080; text-decoration-color: #008080; font-weight: bold\">121</span>,   <span style=\"color: #008080; text-decoration-color: #008080; font-weight: bold\">185</span>,  <span style=\"color: #008080; text-decoration-color: #008080; font-weight: bold\">2155</span>,   <span style=\"color: #008080; text-decoration-color: #008080; font-weight: bold\">120</span>,  <span style=\"color: #008080; text-decoration-color: #008080; font-weight: bold\">5127</span>,  <span style=\"color: #008080; text-decoration-color: #008080; font-weight: bold\">4779</span>,   <span style=\"color: #008080; text-decoration-color: #008080; font-weight: bold\">187</span>,  <span style=\"color: #008080; text-decoration-color: #008080; font-weight: bold\">6094</span>,   <span style=\"color: #008080; text-decoration-color: #008080; font-weight: bold\">102</span>,\n",
       "             <span style=\"color: #008080; text-decoration-color: #008080; font-weight: bold\">0</span>,     <span style=\"color: #008080; text-decoration-color: #008080; font-weight: bold\">0</span>,     <span style=\"color: #008080; text-decoration-color: #008080; font-weight: bold\">0</span>,     <span style=\"color: #008080; text-decoration-color: #008080; font-weight: bold\">0</span>,     <span style=\"color: #008080; text-decoration-color: #008080; font-weight: bold\">0</span>,     <span style=\"color: #008080; text-decoration-color: #008080; font-weight: bold\">0</span>,     <span style=\"color: #008080; text-decoration-color: #008080; font-weight: bold\">0</span>,     <span style=\"color: #008080; text-decoration-color: #008080; font-weight: bold\">0</span>,     <span style=\"color: #008080; text-decoration-color: #008080; font-weight: bold\">0</span>,     <span style=\"color: #008080; text-decoration-color: #008080; font-weight: bold\">0</span><span style=\"font-weight: bold\">]])</span>,\n",
       "    <span style=\"color: #008000; text-decoration-color: #008000\">'token_type_ids'</span>: <span style=\"color: #800080; text-decoration-color: #800080; font-weight: bold\">tensor</span><span style=\"font-weight: bold\">([[</span><span style=\"color: #008080; text-decoration-color: #008080; font-weight: bold\">0</span>, <span style=\"color: #008080; text-decoration-color: #008080; font-weight: bold\">0</span>, <span style=\"color: #008080; text-decoration-color: #008080; font-weight: bold\">0</span>, <span style=\"color: #008080; text-decoration-color: #008080; font-weight: bold\">0</span>, <span style=\"color: #008080; text-decoration-color: #008080; font-weight: bold\">0</span>, <span style=\"color: #008080; text-decoration-color: #008080; font-weight: bold\">0</span>, <span style=\"color: #008080; text-decoration-color: #008080; font-weight: bold\">0</span>, <span style=\"color: #008080; text-decoration-color: #008080; font-weight: bold\">0</span>, <span style=\"color: #008080; text-decoration-color: #008080; font-weight: bold\">0</span>, <span style=\"color: #008080; text-decoration-color: #008080; font-weight: bold\">0</span>, <span style=\"color: #008080; text-decoration-color: #008080; font-weight: bold\">0</span>, <span style=\"color: #008080; text-decoration-color: #008080; font-weight: bold\">0</span>, <span style=\"color: #008080; text-decoration-color: #008080; font-weight: bold\">0</span>, <span style=\"color: #008080; text-decoration-color: #008080; font-weight: bold\">0</span>, <span style=\"color: #008080; text-decoration-color: #008080; font-weight: bold\">0</span>, <span style=\"color: #008080; text-decoration-color: #008080; font-weight: bold\">0</span>, <span style=\"color: #008080; text-decoration-color: #008080; font-weight: bold\">0</span>, <span style=\"color: #008080; text-decoration-color: #008080; font-weight: bold\">0</span>, <span style=\"color: #008080; text-decoration-color: #008080; font-weight: bold\">0</span>, <span style=\"color: #008080; text-decoration-color: #008080; font-weight: bold\">0</span>, <span style=\"color: #008080; text-decoration-color: #008080; font-weight: bold\">0</span>, <span style=\"color: #008080; text-decoration-color: #008080; font-weight: bold\">0</span>, <span style=\"color: #008080; text-decoration-color: #008080; font-weight: bold\">0</span>, <span style=\"color: #008080; text-decoration-color: #008080; font-weight: bold\">0</span>,\n",
       "         <span style=\"color: #008080; text-decoration-color: #008080; font-weight: bold\">0</span>, <span style=\"color: #008080; text-decoration-color: #008080; font-weight: bold\">0</span>, <span style=\"color: #008080; text-decoration-color: #008080; font-weight: bold\">0</span>, <span style=\"color: #008080; text-decoration-color: #008080; font-weight: bold\">0</span>, <span style=\"color: #008080; text-decoration-color: #008080; font-weight: bold\">0</span>, <span style=\"color: #008080; text-decoration-color: #008080; font-weight: bold\">0</span><span style=\"font-weight: bold\">]</span>,\n",
       "        <span style=\"font-weight: bold\">[</span><span style=\"color: #008080; text-decoration-color: #008080; font-weight: bold\">0</span>, <span style=\"color: #008080; text-decoration-color: #008080; font-weight: bold\">0</span>, <span style=\"color: #008080; text-decoration-color: #008080; font-weight: bold\">0</span>, <span style=\"color: #008080; text-decoration-color: #008080; font-weight: bold\">0</span>, <span style=\"color: #008080; text-decoration-color: #008080; font-weight: bold\">0</span>, <span style=\"color: #008080; text-decoration-color: #008080; font-weight: bold\">0</span>, <span style=\"color: #008080; text-decoration-color: #008080; font-weight: bold\">0</span>, <span style=\"color: #008080; text-decoration-color: #008080; font-weight: bold\">0</span>, <span style=\"color: #008080; text-decoration-color: #008080; font-weight: bold\">0</span>, <span style=\"color: #008080; text-decoration-color: #008080; font-weight: bold\">0</span>, <span style=\"color: #008080; text-decoration-color: #008080; font-weight: bold\">0</span>, <span style=\"color: #008080; text-decoration-color: #008080; font-weight: bold\">0</span>, <span style=\"color: #008080; text-decoration-color: #008080; font-weight: bold\">0</span>, <span style=\"color: #008080; text-decoration-color: #008080; font-weight: bold\">0</span>, <span style=\"color: #008080; text-decoration-color: #008080; font-weight: bold\">0</span>, <span style=\"color: #008080; text-decoration-color: #008080; font-weight: bold\">0</span>, <span style=\"color: #008080; text-decoration-color: #008080; font-weight: bold\">0</span>, <span style=\"color: #008080; text-decoration-color: #008080; font-weight: bold\">0</span>, <span style=\"color: #008080; text-decoration-color: #008080; font-weight: bold\">0</span>, <span style=\"color: #008080; text-decoration-color: #008080; font-weight: bold\">0</span>, <span style=\"color: #008080; text-decoration-color: #008080; font-weight: bold\">0</span>, <span style=\"color: #008080; text-decoration-color: #008080; font-weight: bold\">0</span>, <span style=\"color: #008080; text-decoration-color: #008080; font-weight: bold\">0</span>, <span style=\"color: #008080; text-decoration-color: #008080; font-weight: bold\">0</span>,\n",
       "         <span style=\"color: #008080; text-decoration-color: #008080; font-weight: bold\">0</span>, <span style=\"color: #008080; text-decoration-color: #008080; font-weight: bold\">0</span>, <span style=\"color: #008080; text-decoration-color: #008080; font-weight: bold\">0</span>, <span style=\"color: #008080; text-decoration-color: #008080; font-weight: bold\">0</span>, <span style=\"color: #008080; text-decoration-color: #008080; font-weight: bold\">0</span>, <span style=\"color: #008080; text-decoration-color: #008080; font-weight: bold\">0</span><span style=\"font-weight: bold\">]])</span>,\n",
       "    <span style=\"color: #008000; text-decoration-color: #008000\">'attention_mask'</span>: <span style=\"color: #800080; text-decoration-color: #800080; font-weight: bold\">tensor</span><span style=\"font-weight: bold\">([[</span><span style=\"color: #008080; text-decoration-color: #008080; font-weight: bold\">1</span>, <span style=\"color: #008080; text-decoration-color: #008080; font-weight: bold\">1</span>, <span style=\"color: #008080; text-decoration-color: #008080; font-weight: bold\">1</span>, <span style=\"color: #008080; text-decoration-color: #008080; font-weight: bold\">1</span>, <span style=\"color: #008080; text-decoration-color: #008080; font-weight: bold\">1</span>, <span style=\"color: #008080; text-decoration-color: #008080; font-weight: bold\">1</span>, <span style=\"color: #008080; text-decoration-color: #008080; font-weight: bold\">1</span>, <span style=\"color: #008080; text-decoration-color: #008080; font-weight: bold\">1</span>, <span style=\"color: #008080; text-decoration-color: #008080; font-weight: bold\">1</span>, <span style=\"color: #008080; text-decoration-color: #008080; font-weight: bold\">1</span>, <span style=\"color: #008080; text-decoration-color: #008080; font-weight: bold\">1</span>, <span style=\"color: #008080; text-decoration-color: #008080; font-weight: bold\">1</span>, <span style=\"color: #008080; text-decoration-color: #008080; font-weight: bold\">1</span>, <span style=\"color: #008080; text-decoration-color: #008080; font-weight: bold\">1</span>, <span style=\"color: #008080; text-decoration-color: #008080; font-weight: bold\">1</span>, <span style=\"color: #008080; text-decoration-color: #008080; font-weight: bold\">1</span>, <span style=\"color: #008080; text-decoration-color: #008080; font-weight: bold\">1</span>, <span style=\"color: #008080; text-decoration-color: #008080; font-weight: bold\">1</span>, <span style=\"color: #008080; text-decoration-color: #008080; font-weight: bold\">1</span>, <span style=\"color: #008080; text-decoration-color: #008080; font-weight: bold\">1</span>, <span style=\"color: #008080; text-decoration-color: #008080; font-weight: bold\">1</span>, <span style=\"color: #008080; text-decoration-color: #008080; font-weight: bold\">1</span>, <span style=\"color: #008080; text-decoration-color: #008080; font-weight: bold\">1</span>, <span style=\"color: #008080; text-decoration-color: #008080; font-weight: bold\">1</span>,\n",
       "         <span style=\"color: #008080; text-decoration-color: #008080; font-weight: bold\">1</span>, <span style=\"color: #008080; text-decoration-color: #008080; font-weight: bold\">1</span>, <span style=\"color: #008080; text-decoration-color: #008080; font-weight: bold\">1</span>, <span style=\"color: #008080; text-decoration-color: #008080; font-weight: bold\">1</span>, <span style=\"color: #008080; text-decoration-color: #008080; font-weight: bold\">1</span>, <span style=\"color: #008080; text-decoration-color: #008080; font-weight: bold\">1</span><span style=\"font-weight: bold\">]</span>,\n",
       "        <span style=\"font-weight: bold\">[</span><span style=\"color: #008080; text-decoration-color: #008080; font-weight: bold\">1</span>, <span style=\"color: #008080; text-decoration-color: #008080; font-weight: bold\">1</span>, <span style=\"color: #008080; text-decoration-color: #008080; font-weight: bold\">1</span>, <span style=\"color: #008080; text-decoration-color: #008080; font-weight: bold\">1</span>, <span style=\"color: #008080; text-decoration-color: #008080; font-weight: bold\">1</span>, <span style=\"color: #008080; text-decoration-color: #008080; font-weight: bold\">1</span>, <span style=\"color: #008080; text-decoration-color: #008080; font-weight: bold\">1</span>, <span style=\"color: #008080; text-decoration-color: #008080; font-weight: bold\">1</span>, <span style=\"color: #008080; text-decoration-color: #008080; font-weight: bold\">1</span>, <span style=\"color: #008080; text-decoration-color: #008080; font-weight: bold\">1</span>, <span style=\"color: #008080; text-decoration-color: #008080; font-weight: bold\">1</span>, <span style=\"color: #008080; text-decoration-color: #008080; font-weight: bold\">1</span>, <span style=\"color: #008080; text-decoration-color: #008080; font-weight: bold\">1</span>, <span style=\"color: #008080; text-decoration-color: #008080; font-weight: bold\">1</span>, <span style=\"color: #008080; text-decoration-color: #008080; font-weight: bold\">1</span>, <span style=\"color: #008080; text-decoration-color: #008080; font-weight: bold\">1</span>, <span style=\"color: #008080; text-decoration-color: #008080; font-weight: bold\">1</span>, <span style=\"color: #008080; text-decoration-color: #008080; font-weight: bold\">1</span>, <span style=\"color: #008080; text-decoration-color: #008080; font-weight: bold\">1</span>, <span style=\"color: #008080; text-decoration-color: #008080; font-weight: bold\">1</span>, <span style=\"color: #008080; text-decoration-color: #008080; font-weight: bold\">0</span>, <span style=\"color: #008080; text-decoration-color: #008080; font-weight: bold\">0</span>, <span style=\"color: #008080; text-decoration-color: #008080; font-weight: bold\">0</span>, <span style=\"color: #008080; text-decoration-color: #008080; font-weight: bold\">0</span>,\n",
       "         <span style=\"color: #008080; text-decoration-color: #008080; font-weight: bold\">0</span>, <span style=\"color: #008080; text-decoration-color: #008080; font-weight: bold\">0</span>, <span style=\"color: #008080; text-decoration-color: #008080; font-weight: bold\">0</span>, <span style=\"color: #008080; text-decoration-color: #008080; font-weight: bold\">0</span>, <span style=\"color: #008080; text-decoration-color: #008080; font-weight: bold\">0</span>, <span style=\"color: #008080; text-decoration-color: #008080; font-weight: bold\">0</span><span style=\"font-weight: bold\">]])</span>\n",
       "<span style=\"font-weight: bold\">}</span>\n",
       "</pre>\n"
      ],
      "text/plain": [
       "\u001b[1m{\u001b[0m\n",
       "    \u001b[32m'labels'\u001b[0m: \u001b[1;35mtensor\u001b[0m\u001b[1m(\u001b[0m\u001b[1m[\u001b[0m\u001b[1;36m4\u001b[0m, \u001b[1;36m0\u001b[0m\u001b[1m]\u001b[0m\u001b[1m)\u001b[0m,\n",
       "    \u001b[32m'input_ids'\u001b[0m: \u001b[1;35mtensor\u001b[0m\u001b[1m(\u001b[0m\u001b[1m[\u001b[0m\u001b[1m[\u001b[0m  \u001b[1;36m101\u001b[0m, \u001b[1;36m17881\u001b[0m,  \u001b[1;36m1477\u001b[0m,   \u001b[1;36m118\u001b[0m,  \u001b[1;36m4991\u001b[0m,   \u001b[1;36m118\u001b[0m,  \u001b[1;36m5037\u001b[0m,   \u001b[1;36m140\u001b[0m, \u001b[1;36m11975\u001b[0m,   \u001b[1;36m119\u001b[0m,\n",
       "           \u001b[1;36m121\u001b[0m,   \u001b[1;36m182\u001b[0m,  \u001b[1;36m3329\u001b[0m,  \u001b[1;36m3488\u001b[0m,  \u001b[1;36m6447\u001b[0m,  \u001b[1;36m1186\u001b[0m,   \u001b[1;36m189\u001b[0m, \u001b[1;36m17030\u001b[0m, \u001b[1;36m13200\u001b[0m,  \u001b[1;36m1162\u001b[0m,\n",
       "           \u001b[1;36m175\u001b[0m,  \u001b[1;36m4164\u001b[0m, \u001b[1;36m18882\u001b[0m,   \u001b[1;36m118\u001b[0m,  \u001b[1;36m1209\u001b[0m, \u001b[1;36m18331\u001b[0m,  \u001b[1;36m1116\u001b[0m,   \u001b[1;36m120\u001b[0m,   \u001b[1;36m170\u001b[0m,   \u001b[1;36m102\u001b[0m\u001b[1m]\u001b[0m,\n",
       "        \u001b[1m[\u001b[0m  \u001b[1;36m101\u001b[0m, \u001b[1;36m17881\u001b[0m,  \u001b[1;36m1477\u001b[0m,   \u001b[1;36m118\u001b[0m,  \u001b[1;36m5187\u001b[0m,   \u001b[1;36m118\u001b[0m,  \u001b[1;36m1955\u001b[0m,   \u001b[1;36m141\u001b[0m, \u001b[1;36m26177\u001b[0m,  \u001b[1;36m1568\u001b[0m,\n",
       "           \u001b[1;36m119\u001b[0m,   \u001b[1;36m121\u001b[0m,   \u001b[1;36m185\u001b[0m,  \u001b[1;36m2155\u001b[0m,   \u001b[1;36m120\u001b[0m,  \u001b[1;36m5127\u001b[0m,  \u001b[1;36m4779\u001b[0m,   \u001b[1;36m187\u001b[0m,  \u001b[1;36m6094\u001b[0m,   \u001b[1;36m102\u001b[0m,\n",
       "             \u001b[1;36m0\u001b[0m,     \u001b[1;36m0\u001b[0m,     \u001b[1;36m0\u001b[0m,     \u001b[1;36m0\u001b[0m,     \u001b[1;36m0\u001b[0m,     \u001b[1;36m0\u001b[0m,     \u001b[1;36m0\u001b[0m,     \u001b[1;36m0\u001b[0m,     \u001b[1;36m0\u001b[0m,     \u001b[1;36m0\u001b[0m\u001b[1m]\u001b[0m\u001b[1m]\u001b[0m\u001b[1m)\u001b[0m,\n",
       "    \u001b[32m'token_type_ids'\u001b[0m: \u001b[1;35mtensor\u001b[0m\u001b[1m(\u001b[0m\u001b[1m[\u001b[0m\u001b[1m[\u001b[0m\u001b[1;36m0\u001b[0m, \u001b[1;36m0\u001b[0m, \u001b[1;36m0\u001b[0m, \u001b[1;36m0\u001b[0m, \u001b[1;36m0\u001b[0m, \u001b[1;36m0\u001b[0m, \u001b[1;36m0\u001b[0m, \u001b[1;36m0\u001b[0m, \u001b[1;36m0\u001b[0m, \u001b[1;36m0\u001b[0m, \u001b[1;36m0\u001b[0m, \u001b[1;36m0\u001b[0m, \u001b[1;36m0\u001b[0m, \u001b[1;36m0\u001b[0m, \u001b[1;36m0\u001b[0m, \u001b[1;36m0\u001b[0m, \u001b[1;36m0\u001b[0m, \u001b[1;36m0\u001b[0m, \u001b[1;36m0\u001b[0m, \u001b[1;36m0\u001b[0m, \u001b[1;36m0\u001b[0m, \u001b[1;36m0\u001b[0m, \u001b[1;36m0\u001b[0m, \u001b[1;36m0\u001b[0m,\n",
       "         \u001b[1;36m0\u001b[0m, \u001b[1;36m0\u001b[0m, \u001b[1;36m0\u001b[0m, \u001b[1;36m0\u001b[0m, \u001b[1;36m0\u001b[0m, \u001b[1;36m0\u001b[0m\u001b[1m]\u001b[0m,\n",
       "        \u001b[1m[\u001b[0m\u001b[1;36m0\u001b[0m, \u001b[1;36m0\u001b[0m, \u001b[1;36m0\u001b[0m, \u001b[1;36m0\u001b[0m, \u001b[1;36m0\u001b[0m, \u001b[1;36m0\u001b[0m, \u001b[1;36m0\u001b[0m, \u001b[1;36m0\u001b[0m, \u001b[1;36m0\u001b[0m, \u001b[1;36m0\u001b[0m, \u001b[1;36m0\u001b[0m, \u001b[1;36m0\u001b[0m, \u001b[1;36m0\u001b[0m, \u001b[1;36m0\u001b[0m, \u001b[1;36m0\u001b[0m, \u001b[1;36m0\u001b[0m, \u001b[1;36m0\u001b[0m, \u001b[1;36m0\u001b[0m, \u001b[1;36m0\u001b[0m, \u001b[1;36m0\u001b[0m, \u001b[1;36m0\u001b[0m, \u001b[1;36m0\u001b[0m, \u001b[1;36m0\u001b[0m, \u001b[1;36m0\u001b[0m,\n",
       "         \u001b[1;36m0\u001b[0m, \u001b[1;36m0\u001b[0m, \u001b[1;36m0\u001b[0m, \u001b[1;36m0\u001b[0m, \u001b[1;36m0\u001b[0m, \u001b[1;36m0\u001b[0m\u001b[1m]\u001b[0m\u001b[1m]\u001b[0m\u001b[1m)\u001b[0m,\n",
       "    \u001b[32m'attention_mask'\u001b[0m: \u001b[1;35mtensor\u001b[0m\u001b[1m(\u001b[0m\u001b[1m[\u001b[0m\u001b[1m[\u001b[0m\u001b[1;36m1\u001b[0m, \u001b[1;36m1\u001b[0m, \u001b[1;36m1\u001b[0m, \u001b[1;36m1\u001b[0m, \u001b[1;36m1\u001b[0m, \u001b[1;36m1\u001b[0m, \u001b[1;36m1\u001b[0m, \u001b[1;36m1\u001b[0m, \u001b[1;36m1\u001b[0m, \u001b[1;36m1\u001b[0m, \u001b[1;36m1\u001b[0m, \u001b[1;36m1\u001b[0m, \u001b[1;36m1\u001b[0m, \u001b[1;36m1\u001b[0m, \u001b[1;36m1\u001b[0m, \u001b[1;36m1\u001b[0m, \u001b[1;36m1\u001b[0m, \u001b[1;36m1\u001b[0m, \u001b[1;36m1\u001b[0m, \u001b[1;36m1\u001b[0m, \u001b[1;36m1\u001b[0m, \u001b[1;36m1\u001b[0m, \u001b[1;36m1\u001b[0m, \u001b[1;36m1\u001b[0m,\n",
       "         \u001b[1;36m1\u001b[0m, \u001b[1;36m1\u001b[0m, \u001b[1;36m1\u001b[0m, \u001b[1;36m1\u001b[0m, \u001b[1;36m1\u001b[0m, \u001b[1;36m1\u001b[0m\u001b[1m]\u001b[0m,\n",
       "        \u001b[1m[\u001b[0m\u001b[1;36m1\u001b[0m, \u001b[1;36m1\u001b[0m, \u001b[1;36m1\u001b[0m, \u001b[1;36m1\u001b[0m, \u001b[1;36m1\u001b[0m, \u001b[1;36m1\u001b[0m, \u001b[1;36m1\u001b[0m, \u001b[1;36m1\u001b[0m, \u001b[1;36m1\u001b[0m, \u001b[1;36m1\u001b[0m, \u001b[1;36m1\u001b[0m, \u001b[1;36m1\u001b[0m, \u001b[1;36m1\u001b[0m, \u001b[1;36m1\u001b[0m, \u001b[1;36m1\u001b[0m, \u001b[1;36m1\u001b[0m, \u001b[1;36m1\u001b[0m, \u001b[1;36m1\u001b[0m, \u001b[1;36m1\u001b[0m, \u001b[1;36m1\u001b[0m, \u001b[1;36m0\u001b[0m, \u001b[1;36m0\u001b[0m, \u001b[1;36m0\u001b[0m, \u001b[1;36m0\u001b[0m,\n",
       "         \u001b[1;36m0\u001b[0m, \u001b[1;36m0\u001b[0m, \u001b[1;36m0\u001b[0m, \u001b[1;36m0\u001b[0m, \u001b[1;36m0\u001b[0m, \u001b[1;36m0\u001b[0m\u001b[1m]\u001b[0m\u001b[1m]\u001b[0m\u001b[1m)\u001b[0m\n",
       "\u001b[1m}\u001b[0m\n"
      ]
     },
     "metadata": {},
     "output_type": "display_data"
    }
   ],
   "source": [
    "# Apply the data collator\n",
    "batch: torch.Tensor = data_collator([tokenized_dataset[\"train\"][i] for i in range(2)])\n",
    "\n",
    "print(batch)"
   ]
  },
  {
   "cell_type": "code",
   "execution_count": 37,
   "metadata": {},
   "outputs": [
    {
     "data": {
      "text/html": [
       "<pre style=\"white-space:pre;overflow-x:auto;line-height:normal;font-family:Menlo,'DejaVu Sans Mono',consolas,'Courier New',monospace\"><span style=\"color: #800080; text-decoration-color: #800080; font-weight: bold\">tensor</span><span style=\"font-weight: bold\">([</span>  <span style=\"color: #008080; text-decoration-color: #008080; font-weight: bold\">101</span>, <span style=\"color: #008080; text-decoration-color: #008080; font-weight: bold\">17881</span>,  <span style=\"color: #008080; text-decoration-color: #008080; font-weight: bold\">1477</span>,   <span style=\"color: #008080; text-decoration-color: #008080; font-weight: bold\">118</span>,  <span style=\"color: #008080; text-decoration-color: #008080; font-weight: bold\">4991</span>,   <span style=\"color: #008080; text-decoration-color: #008080; font-weight: bold\">118</span>,  <span style=\"color: #008080; text-decoration-color: #008080; font-weight: bold\">5037</span>,   <span style=\"color: #008080; text-decoration-color: #008080; font-weight: bold\">140</span>, <span style=\"color: #008080; text-decoration-color: #008080; font-weight: bold\">11975</span>,   <span style=\"color: #008080; text-decoration-color: #008080; font-weight: bold\">119</span>,\n",
       "          <span style=\"color: #008080; text-decoration-color: #008080; font-weight: bold\">121</span>,   <span style=\"color: #008080; text-decoration-color: #008080; font-weight: bold\">182</span>,  <span style=\"color: #008080; text-decoration-color: #008080; font-weight: bold\">3329</span>,  <span style=\"color: #008080; text-decoration-color: #008080; font-weight: bold\">3488</span>,  <span style=\"color: #008080; text-decoration-color: #008080; font-weight: bold\">6447</span>,  <span style=\"color: #008080; text-decoration-color: #008080; font-weight: bold\">1186</span>,   <span style=\"color: #008080; text-decoration-color: #008080; font-weight: bold\">189</span>, <span style=\"color: #008080; text-decoration-color: #008080; font-weight: bold\">17030</span>, <span style=\"color: #008080; text-decoration-color: #008080; font-weight: bold\">13200</span>,  <span style=\"color: #008080; text-decoration-color: #008080; font-weight: bold\">1162</span>,\n",
       "          <span style=\"color: #008080; text-decoration-color: #008080; font-weight: bold\">175</span>,  <span style=\"color: #008080; text-decoration-color: #008080; font-weight: bold\">4164</span>, <span style=\"color: #008080; text-decoration-color: #008080; font-weight: bold\">18882</span>,   <span style=\"color: #008080; text-decoration-color: #008080; font-weight: bold\">118</span>,  <span style=\"color: #008080; text-decoration-color: #008080; font-weight: bold\">1209</span>, <span style=\"color: #008080; text-decoration-color: #008080; font-weight: bold\">18331</span>,  <span style=\"color: #008080; text-decoration-color: #008080; font-weight: bold\">1116</span>,   <span style=\"color: #008080; text-decoration-color: #008080; font-weight: bold\">120</span>,   <span style=\"color: #008080; text-decoration-color: #008080; font-weight: bold\">170</span>,   <span style=\"color: #008080; text-decoration-color: #008080; font-weight: bold\">102</span><span style=\"font-weight: bold\">])</span>\n",
       "</pre>\n"
      ],
      "text/plain": [
       "\u001b[1;35mtensor\u001b[0m\u001b[1m(\u001b[0m\u001b[1m[\u001b[0m  \u001b[1;36m101\u001b[0m, \u001b[1;36m17881\u001b[0m,  \u001b[1;36m1477\u001b[0m,   \u001b[1;36m118\u001b[0m,  \u001b[1;36m4991\u001b[0m,   \u001b[1;36m118\u001b[0m,  \u001b[1;36m5037\u001b[0m,   \u001b[1;36m140\u001b[0m, \u001b[1;36m11975\u001b[0m,   \u001b[1;36m119\u001b[0m,\n",
       "          \u001b[1;36m121\u001b[0m,   \u001b[1;36m182\u001b[0m,  \u001b[1;36m3329\u001b[0m,  \u001b[1;36m3488\u001b[0m,  \u001b[1;36m6447\u001b[0m,  \u001b[1;36m1186\u001b[0m,   \u001b[1;36m189\u001b[0m, \u001b[1;36m17030\u001b[0m, \u001b[1;36m13200\u001b[0m,  \u001b[1;36m1162\u001b[0m,\n",
       "          \u001b[1;36m175\u001b[0m,  \u001b[1;36m4164\u001b[0m, \u001b[1;36m18882\u001b[0m,   \u001b[1;36m118\u001b[0m,  \u001b[1;36m1209\u001b[0m, \u001b[1;36m18331\u001b[0m,  \u001b[1;36m1116\u001b[0m,   \u001b[1;36m120\u001b[0m,   \u001b[1;36m170\u001b[0m,   \u001b[1;36m102\u001b[0m\u001b[1m]\u001b[0m\u001b[1m)\u001b[0m\n"
      ]
     },
     "metadata": {},
     "output_type": "display_data"
    },
    {
     "data": {
      "text/html": [
       "<pre style=\"white-space:pre;overflow-x:auto;line-height:normal;font-family:Menlo,'DejaVu Sans Mono',consolas,'Courier New',monospace\"><span style=\"color: #800080; text-decoration-color: #800080; font-weight: bold\">tensor</span><span style=\"font-weight: bold\">([</span>  <span style=\"color: #008080; text-decoration-color: #008080; font-weight: bold\">101</span>, <span style=\"color: #008080; text-decoration-color: #008080; font-weight: bold\">17881</span>,  <span style=\"color: #008080; text-decoration-color: #008080; font-weight: bold\">1477</span>,   <span style=\"color: #008080; text-decoration-color: #008080; font-weight: bold\">118</span>,  <span style=\"color: #008080; text-decoration-color: #008080; font-weight: bold\">5187</span>,   <span style=\"color: #008080; text-decoration-color: #008080; font-weight: bold\">118</span>,  <span style=\"color: #008080; text-decoration-color: #008080; font-weight: bold\">1955</span>,   <span style=\"color: #008080; text-decoration-color: #008080; font-weight: bold\">141</span>, <span style=\"color: #008080; text-decoration-color: #008080; font-weight: bold\">26177</span>,  <span style=\"color: #008080; text-decoration-color: #008080; font-weight: bold\">1568</span>,\n",
       "          <span style=\"color: #008080; text-decoration-color: #008080; font-weight: bold\">119</span>,   <span style=\"color: #008080; text-decoration-color: #008080; font-weight: bold\">121</span>,   <span style=\"color: #008080; text-decoration-color: #008080; font-weight: bold\">185</span>,  <span style=\"color: #008080; text-decoration-color: #008080; font-weight: bold\">2155</span>,   <span style=\"color: #008080; text-decoration-color: #008080; font-weight: bold\">120</span>,  <span style=\"color: #008080; text-decoration-color: #008080; font-weight: bold\">5127</span>,  <span style=\"color: #008080; text-decoration-color: #008080; font-weight: bold\">4779</span>,   <span style=\"color: #008080; text-decoration-color: #008080; font-weight: bold\">187</span>,  <span style=\"color: #008080; text-decoration-color: #008080; font-weight: bold\">6094</span>,   <span style=\"color: #008080; text-decoration-color: #008080; font-weight: bold\">102</span>,\n",
       "            <span style=\"color: #008080; text-decoration-color: #008080; font-weight: bold\">0</span>,     <span style=\"color: #008080; text-decoration-color: #008080; font-weight: bold\">0</span>,     <span style=\"color: #008080; text-decoration-color: #008080; font-weight: bold\">0</span>,     <span style=\"color: #008080; text-decoration-color: #008080; font-weight: bold\">0</span>,     <span style=\"color: #008080; text-decoration-color: #008080; font-weight: bold\">0</span>,     <span style=\"color: #008080; text-decoration-color: #008080; font-weight: bold\">0</span>,     <span style=\"color: #008080; text-decoration-color: #008080; font-weight: bold\">0</span>,     <span style=\"color: #008080; text-decoration-color: #008080; font-weight: bold\">0</span>,     <span style=\"color: #008080; text-decoration-color: #008080; font-weight: bold\">0</span>,     <span style=\"color: #008080; text-decoration-color: #008080; font-weight: bold\">0</span><span style=\"font-weight: bold\">])</span>\n",
       "</pre>\n"
      ],
      "text/plain": [
       "\u001b[1;35mtensor\u001b[0m\u001b[1m(\u001b[0m\u001b[1m[\u001b[0m  \u001b[1;36m101\u001b[0m, \u001b[1;36m17881\u001b[0m,  \u001b[1;36m1477\u001b[0m,   \u001b[1;36m118\u001b[0m,  \u001b[1;36m5187\u001b[0m,   \u001b[1;36m118\u001b[0m,  \u001b[1;36m1955\u001b[0m,   \u001b[1;36m141\u001b[0m, \u001b[1;36m26177\u001b[0m,  \u001b[1;36m1568\u001b[0m,\n",
       "          \u001b[1;36m119\u001b[0m,   \u001b[1;36m121\u001b[0m,   \u001b[1;36m185\u001b[0m,  \u001b[1;36m2155\u001b[0m,   \u001b[1;36m120\u001b[0m,  \u001b[1;36m5127\u001b[0m,  \u001b[1;36m4779\u001b[0m,   \u001b[1;36m187\u001b[0m,  \u001b[1;36m6094\u001b[0m,   \u001b[1;36m102\u001b[0m,\n",
       "            \u001b[1;36m0\u001b[0m,     \u001b[1;36m0\u001b[0m,     \u001b[1;36m0\u001b[0m,     \u001b[1;36m0\u001b[0m,     \u001b[1;36m0\u001b[0m,     \u001b[1;36m0\u001b[0m,     \u001b[1;36m0\u001b[0m,     \u001b[1;36m0\u001b[0m,     \u001b[1;36m0\u001b[0m,     \u001b[1;36m0\u001b[0m\u001b[1m]\u001b[0m\u001b[1m)\u001b[0m\n"
      ]
     },
     "metadata": {},
     "output_type": "display_data"
    }
   ],
   "source": [
    "# The 2nd idx has been padded with 0s\n",
    "for row in batch.get(\"input_ids\"):\n",
    "    print(row)"
   ]
  },
  {
   "cell_type": "code",
   "execution_count": null,
   "metadata": {},
   "outputs": [],
   "source": []
  },
  {
   "cell_type": "code",
   "execution_count": null,
   "metadata": {},
   "outputs": [],
   "source": []
  },
  {
   "cell_type": "code",
   "execution_count": null,
   "metadata": {},
   "outputs": [],
   "source": []
  },
  {
   "cell_type": "code",
   "execution_count": null,
   "metadata": {},
   "outputs": [],
   "source": []
  },
  {
   "cell_type": "code",
   "execution_count": null,
   "metadata": {},
   "outputs": [],
   "source": []
  },
  {
   "cell_type": "code",
   "execution_count": null,
   "metadata": {},
   "outputs": [],
   "source": []
  },
  {
   "cell_type": "code",
   "execution_count": null,
   "metadata": {},
   "outputs": [],
   "source": []
  },
  {
   "cell_type": "code",
   "execution_count": null,
   "metadata": {},
   "outputs": [],
   "source": []
  },
  {
   "cell_type": "code",
   "execution_count": null,
   "metadata": {},
   "outputs": [],
   "source": []
  }
 ],
 "metadata": {
  "kernelspec": {
   "display_name": "nlp_p310",
   "language": "python",
   "name": "python3"
  },
  "language_info": {
   "codemirror_mode": {
    "name": "ipython",
    "version": 3
   },
   "file_extension": ".py",
   "mimetype": "text/x-python",
   "name": "python",
   "nbconvert_exporter": "python",
   "pygments_lexer": "ipython3",
   "version": "3.10.9"
  }
 },
 "nbformat": 4,
 "nbformat_minor": 2
}
