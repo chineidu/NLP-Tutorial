{
 "cells": [
  {
   "cell_type": "markdown",
   "metadata": {},
   "source": [
    "# Working With HuggingFace Datasets\n",
    "\n",
    "- [Loading Data](https://huggingface.co/learn/nlp-course/chapter5/2?fw=pt)\n",
    "- [Manipulating Data](https://huggingface.co/learn/nlp-course/chapter5/3?fw=pt)"
   ]
  },
  {
   "cell_type": "code",
   "execution_count": 1,
   "metadata": {},
   "outputs": [],
   "source": [
    "# Built-in library\n",
    "import re\n",
    "import json\n",
    "from typing import Any, Dict, List, Optional, Union\n",
    "import logging\n",
    "import warnings\n",
    "\n",
    "# Standard imports\n",
    "import numpy as np\n",
    "from pprint import pprint\n",
    "import pandas as pd\n",
    "from rich import print\n",
    "\n",
    "# Visualization\n",
    "import matplotlib.pyplot as plt\n",
    "\n",
    "\n",
    "# Pandas settings\n",
    "pd.options.display.max_rows = 1_000\n",
    "pd.options.display.max_columns = 1_000\n",
    "pd.options.display.max_colwidth = 600\n",
    "\n",
    "warnings.filterwarnings(\"ignore\")\n",
    "\n",
    "# Black code formatter (Optional)\n",
    "%load_ext lab_black\n",
    "\n",
    "# auto reload imports\n",
    "%load_ext autoreload\n",
    "%autoreload 2"
   ]
  },
  {
   "cell_type": "markdown",
   "metadata": {},
   "source": [
    "### [Working With Remote And Local Datasets](https://huggingface.co/learn/nlp-course/chapter5/2?fw=pt)\n",
    "\n",
    "<br>\n",
    "\n",
    "[![image.png](https://i.postimg.cc/43xyFsHR/image.png)](https://postimg.cc/9DscD3BL)"
   ]
  },
  {
   "cell_type": "code",
   "execution_count": null,
   "metadata": {},
   "outputs": [],
   "source": []
  },
  {
   "cell_type": "markdown",
   "metadata": {},
   "source": [
    "### Loading A Local Dataset\n",
    "\n",
    "- For this example we’ll use the [SQuAD-it dataset](https://github.com/crux82/squad-it/), which is a large-scale dataset for question answering in Italian.\n",
    "\n",
    "- The training and test splits are hosted on GitHub, so we can download them with a simple wget command:\n",
    "\n",
    "<br>\n",
    "\n",
    "```python\n",
    "# Create the my_data directory if it does not exist.\n",
    "!mkdir -p my_data\n",
    "\n",
    "# Download the file SQuAD_it-train.json.gz to the my_data directory.\n",
    "!wget -P my_data https://github.com/crux82/squad-it/raw/master/SQuAD_it-train.json.gz\n",
    "!wget -P my_data https://github.com/crux82/squad-it/raw/master/SQuAD_it-test.json.gz\n",
    "\n",
    "# This will download two compressed files called SQuAD_it-train.json.gz \n",
    "# and SQuAD_it-test.json.gz, which can be decompressed with the Linux gzip command:\n",
    "!gzip -dkv my_data/SQuAD_it-*.json.gz\n",
    "```"
   ]
  },
  {
   "cell_type": "code",
   "execution_count": 2,
   "metadata": {},
   "outputs": [
    {
     "data": {
      "text/plain": [
       "'\\n!mkdir -p my_data\\n\\n# Download data\\n!wget -P my_data \"https://archive.ics.uci.edu/ml/machine-learning-databases/00462/drugsCom_raw.zip\"\\n\\n# Unzip the data\\n!unzip my_data/drugsCom_raw.zip\\n\\n'"
      ]
     },
     "execution_count": 2,
     "metadata": {},
     "output_type": "execute_result"
    }
   ],
   "source": [
    "# Run this once!\n",
    "\"\"\"\n",
    "!mkdir -p my_data\n",
    "\n",
    "# Download data\n",
    "!wget -P my_data \"https://archive.ics.uci.edu/ml/machine-learning-databases/00462/drugsCom_raw.zip\"\n",
    "\n",
    "# Unzip the data\n",
    "!unzip my_data/drugsCom_raw.zip\n",
    "\n",
    "\"\"\""
   ]
  },
  {
   "cell_type": "code",
   "execution_count": 3,
   "metadata": {},
   "outputs": [],
   "source": [
    "from datasets import Dataset\n",
    "from datasets import load_dataset\n",
    "from datasets.dataset_dict import DatasetDict\n",
    "\n",
    "# Load the data\n",
    "data_files: dict[str, Any] = {\n",
    "    \"train\": \"my_data/drugsComTrain_raw.tsv\",\n",
    "    \"test\": \"my_data/drugsComTest_raw.tsv\",\n",
    "}\n",
    "\n",
    "# \\t is the tab character in Python\n",
    "drug_dataset: DatasetDict = load_dataset(\"csv\", data_files=data_files, delimiter=\"\\t\")"
   ]
  },
  {
   "cell_type": "markdown",
   "metadata": {},
   "source": [
    "### To Do\n",
    "\n",
    "```text\n",
    "- Prepare a dataset using Pandas and save as a Hgginface dataset.\n",
    "```"
   ]
  },
  {
   "cell_type": "code",
   "execution_count": 4,
   "metadata": {},
   "outputs": [
    {
     "data": {
      "text/html": [
       "<pre style=\"white-space:pre;overflow-x:auto;line-height:normal;font-family:Menlo,'DejaVu Sans Mono',consolas,'Courier New',monospace\">Shape of data: <span style=\"font-weight: bold\">(</span><span style=\"color: #008080; text-decoration-color: #008080; font-weight: bold\">161297</span>, <span style=\"color: #008080; text-decoration-color: #008080; font-weight: bold\">7</span><span style=\"font-weight: bold\">)</span>\n",
       "\n",
       "</pre>\n"
      ],
      "text/plain": [
       "Shape of data: \u001b[1m(\u001b[0m\u001b[1;36m161297\u001b[0m, \u001b[1;36m7\u001b[0m\u001b[1m)\u001b[0m\n",
       "\n"
      ]
     },
     "metadata": {},
     "output_type": "display_data"
    },
    {
     "data": {
      "text/html": [
       "<div>\n",
       "<style scoped>\n",
       "    .dataframe tbody tr th:only-of-type {\n",
       "        vertical-align: middle;\n",
       "    }\n",
       "\n",
       "    .dataframe tbody tr th {\n",
       "        vertical-align: top;\n",
       "    }\n",
       "\n",
       "    .dataframe thead th {\n",
       "        text-align: right;\n",
       "    }\n",
       "</style>\n",
       "<table border=\"1\" class=\"dataframe\">\n",
       "  <thead>\n",
       "    <tr style=\"text-align: right;\">\n",
       "      <th></th>\n",
       "      <th>id</th>\n",
       "      <th>drugName</th>\n",
       "      <th>condition</th>\n",
       "      <th>review</th>\n",
       "      <th>rating</th>\n",
       "      <th>date</th>\n",
       "      <th>usefulCount</th>\n",
       "    </tr>\n",
       "  </thead>\n",
       "  <tbody>\n",
       "    <tr>\n",
       "      <th>0</th>\n",
       "      <td>206461</td>\n",
       "      <td>Valsartan</td>\n",
       "      <td>Left Ventricular Dysfunction</td>\n",
       "      <td>\"It has no side effect, I take it in combination of Bystolic 5 Mg and Fish Oil\"</td>\n",
       "      <td>9.0</td>\n",
       "      <td>May 20, 2012</td>\n",
       "      <td>27</td>\n",
       "    </tr>\n",
       "    <tr>\n",
       "      <th>1</th>\n",
       "      <td>95260</td>\n",
       "      <td>Guanfacine</td>\n",
       "      <td>ADHD</td>\n",
       "      <td>\"My son is halfway through his fourth week of Intuniv. We became concerned when he began this last week, when he started taking the highest dose he will be on. For two days, he could hardly get out of bed, was very cranky, and slept for nearly 8 hours on a drive home from school vacation (very unusual for him.) I called his doctor on Monday morning and she said to stick it out a few days. See how he did at school, and with getting up in the morning. The last two days have been problem free. He is MUCH more agreeable than ever. He is less emotional (a good thing), less cranky. He is remembe...</td>\n",
       "      <td>8.0</td>\n",
       "      <td>April 27, 2010</td>\n",
       "      <td>192</td>\n",
       "    </tr>\n",
       "    <tr>\n",
       "      <th>2</th>\n",
       "      <td>92703</td>\n",
       "      <td>Lybrel</td>\n",
       "      <td>Birth Control</td>\n",
       "      <td>\"I used to take another oral contraceptive, which had 21 pill cycle, and was very happy- very light periods, max 5 days, no other side effects. But it contained hormone gestodene, which is not available in US, so I switched to Lybrel, because the ingredients are similar. When my other pills ended, I started Lybrel immediately, on my first day of period, as the instructions said. And the period lasted for two weeks. When taking the second pack- same two weeks. And now, with third pack things got even worse- my third period lasted for two weeks and now it&amp;#039;s the end of the third week- I ...</td>\n",
       "      <td>5.0</td>\n",
       "      <td>December 14, 2009</td>\n",
       "      <td>17</td>\n",
       "    </tr>\n",
       "    <tr>\n",
       "      <th>3</th>\n",
       "      <td>138000</td>\n",
       "      <td>Ortho Evra</td>\n",
       "      <td>Birth Control</td>\n",
       "      <td>\"This is my first time using any form of birth control. I&amp;#039;m glad I went with the patch, I have been on it for 8 months. At first It decreased my libido but that subsided. The only downside is that it made my periods longer (5-6 days to be exact) I used to only have periods for 3-4 days max also made my cramps intense for the first two days of my period, I never had cramps before using birth control. Other than that in happy with the patch\"</td>\n",
       "      <td>8.0</td>\n",
       "      <td>November 3, 2015</td>\n",
       "      <td>10</td>\n",
       "    </tr>\n",
       "    <tr>\n",
       "      <th>4</th>\n",
       "      <td>35696</td>\n",
       "      <td>Buprenorphine / naloxone</td>\n",
       "      <td>Opiate Dependence</td>\n",
       "      <td>\"Suboxone has completely turned my life around.  I feel healthier, I&amp;#039;m excelling at my job and I always have money in my pocket and my savings account.  I had none of those before Suboxone and spent years abusing oxycontin.  My paycheck was already spent by the time I got it and I started resorting to scheming and stealing to fund my addiction.  All that is history.  If you&amp;#039;re ready to stop, there&amp;#039;s a good chance that suboxone will put you on the path of great life again.  I have found the side-effects to be minimal compared to oxycontin.  I&amp;#039;m actually sleeping better. ...</td>\n",
       "      <td>9.0</td>\n",
       "      <td>November 27, 2016</td>\n",
       "      <td>37</td>\n",
       "    </tr>\n",
       "  </tbody>\n",
       "</table>\n",
       "</div>"
      ],
      "text/plain": [
       "       id                  drugName                     condition  \\\n",
       "0  206461                 Valsartan  Left Ventricular Dysfunction   \n",
       "1   95260                Guanfacine                          ADHD   \n",
       "2   92703                    Lybrel                 Birth Control   \n",
       "3  138000                Ortho Evra                 Birth Control   \n",
       "4   35696  Buprenorphine / naloxone             Opiate Dependence   \n",
       "\n",
       "                                                                                                                                                                                                                                                                                                                                                                                                                                                                                                                                                                                                                    review  \\\n",
       "0                                                                                                                                                                                                                                                                                                                                                                                                                                                                                                                                          \"It has no side effect, I take it in combination of Bystolic 5 Mg and Fish Oil\"   \n",
       "1  \"My son is halfway through his fourth week of Intuniv. We became concerned when he began this last week, when he started taking the highest dose he will be on. For two days, he could hardly get out of bed, was very cranky, and slept for nearly 8 hours on a drive home from school vacation (very unusual for him.) I called his doctor on Monday morning and she said to stick it out a few days. See how he did at school, and with getting up in the morning. The last two days have been problem free. He is MUCH more agreeable than ever. He is less emotional (a good thing), less cranky. He is remembe...   \n",
       "2  \"I used to take another oral contraceptive, which had 21 pill cycle, and was very happy- very light periods, max 5 days, no other side effects. But it contained hormone gestodene, which is not available in US, so I switched to Lybrel, because the ingredients are similar. When my other pills ended, I started Lybrel immediately, on my first day of period, as the instructions said. And the period lasted for two weeks. When taking the second pack- same two weeks. And now, with third pack things got even worse- my third period lasted for two weeks and now it&#039;s the end of the third week- I ...   \n",
       "3                                                                                                                                                         \"This is my first time using any form of birth control. I&#039;m glad I went with the patch, I have been on it for 8 months. At first It decreased my libido but that subsided. The only downside is that it made my periods longer (5-6 days to be exact) I used to only have periods for 3-4 days max also made my cramps intense for the first two days of my period, I never had cramps before using birth control. Other than that in happy with the patch\"   \n",
       "4  \"Suboxone has completely turned my life around.  I feel healthier, I&#039;m excelling at my job and I always have money in my pocket and my savings account.  I had none of those before Suboxone and spent years abusing oxycontin.  My paycheck was already spent by the time I got it and I started resorting to scheming and stealing to fund my addiction.  All that is history.  If you&#039;re ready to stop, there&#039;s a good chance that suboxone will put you on the path of great life again.  I have found the side-effects to be minimal compared to oxycontin.  I&#039;m actually sleeping better. ...   \n",
       "\n",
       "   rating               date  usefulCount  \n",
       "0     9.0       May 20, 2012           27  \n",
       "1     8.0     April 27, 2010          192  \n",
       "2     5.0  December 14, 2009           17  \n",
       "3     8.0   November 3, 2015           10  \n",
       "4     9.0  November 27, 2016           37  "
      ]
     },
     "execution_count": 4,
     "metadata": {},
     "output_type": "execute_result"
    }
   ],
   "source": [
    "import pandas as pd\n",
    "\n",
    "df: pd.DataFrame = pd.read_csv(\"my_data/drugsComTrain_raw.tsv\", sep=\"\\t\")\n",
    "df = df.rename(columns={\"Unnamed: 0\": \"id\"})\n",
    "print(f\"Shape of data: {df.shape}\\n\")\n",
    "\n",
    "df.head()"
   ]
  },
  {
   "cell_type": "code",
   "execution_count": 5,
   "metadata": {},
   "outputs": [],
   "source": [
    "df_1 = df.copy()\n",
    "df_2 = df.copy()\n",
    "\n",
    "df_1 = df_1.iloc[:20]\n",
    "df_2 = df_2.iloc[20:25]\n",
    "\n",
    "# Save data\n",
    "fp_1: str = \"my_data/sample_train_data.json\"\n",
    "fp_2: str = \"my_data/sample_test_data.json\"\n",
    "\n",
    "df_1.to_json(fp_1, orient=\"records\", indent=4)\n",
    "df_2.to_json(fp_2, orient=\"records\", indent=4)"
   ]
  },
  {
   "cell_type": "code",
   "execution_count": 6,
   "metadata": {},
   "outputs": [
    {
     "data": {
      "application/vnd.jupyter.widget-view+json": {
       "model_id": "a31524edf1d94088b9e4f365b3271e67",
       "version_major": 2,
       "version_minor": 0
      },
      "text/plain": [
       "Downloading data files:   0%|          | 0/1 [00:00<?, ?it/s]"
      ]
     },
     "metadata": {},
     "output_type": "display_data"
    },
    {
     "data": {
      "application/vnd.jupyter.widget-view+json": {
       "model_id": "d3520719dc674d8fab75ecfdfe4c78f8",
       "version_major": 2,
       "version_minor": 0
      },
      "text/plain": [
       "Extracting data files:   0%|          | 0/1 [00:00<?, ?it/s]"
      ]
     },
     "metadata": {},
     "output_type": "display_data"
    },
    {
     "data": {
      "application/vnd.jupyter.widget-view+json": {
       "model_id": "4db9f05ad81a4228a90a533d859aaf06",
       "version_major": 2,
       "version_minor": 0
      },
      "text/plain": [
       "Generating train split: 0 examples [00:00, ? examples/s]"
      ]
     },
     "metadata": {},
     "output_type": "display_data"
    },
    {
     "data": {
      "text/plain": [
       "DatasetDict({\n",
       "    train: Dataset({\n",
       "        features: ['id', 'condition', 'review', 'rating', 'drugName', 'date', 'usefulCount'],\n",
       "        num_rows: 20\n",
       "    })\n",
       "})"
      ]
     },
     "execution_count": 6,
     "metadata": {},
     "output_type": "execute_result"
    }
   ],
   "source": [
    "# Load a json data as a Hugginface dataset\n",
    "sample_dataset = load_dataset(\"json\", data_files=fp_1)\n",
    "\n",
    "sample_dataset"
   ]
  },
  {
   "cell_type": "code",
   "execution_count": 7,
   "metadata": {},
   "outputs": [
    {
     "data": {
      "text/plain": [
       "{'id': 206461,\n",
       " 'condition': 'Left Ventricular Dysfunction',\n",
       " 'review': '\"It has no side effect, I take it in combination of Bystolic 5 Mg and Fish Oil\"',\n",
       " 'rating': 9.0,\n",
       " 'drugName': 'Valsartan',\n",
       " 'date': 'May 20, 2012',\n",
       " 'usefulCount': 27}"
      ]
     },
     "execution_count": 7,
     "metadata": {},
     "output_type": "execute_result"
    }
   ],
   "source": [
    "sample_dataset.get(\"train\")[0]"
   ]
  },
  {
   "cell_type": "code",
   "execution_count": 8,
   "metadata": {},
   "outputs": [
    {
     "data": {
      "application/vnd.jupyter.widget-view+json": {
       "model_id": "2d23c75a88c34954a848d35decfb64b1",
       "version_major": 2,
       "version_minor": 0
      },
      "text/plain": [
       "Downloading data files:   0%|          | 0/2 [00:00<?, ?it/s]"
      ]
     },
     "metadata": {},
     "output_type": "display_data"
    },
    {
     "data": {
      "application/vnd.jupyter.widget-view+json": {
       "model_id": "baa15213e9ac47c2b58b600179583488",
       "version_major": 2,
       "version_minor": 0
      },
      "text/plain": [
       "Extracting data files:   0%|          | 0/2 [00:00<?, ?it/s]"
      ]
     },
     "metadata": {},
     "output_type": "display_data"
    },
    {
     "data": {
      "application/vnd.jupyter.widget-view+json": {
       "model_id": "88fb0fb3aea7484881f3b0ea34294ba1",
       "version_major": 2,
       "version_minor": 0
      },
      "text/plain": [
       "Generating train split: 0 examples [00:00, ? examples/s]"
      ]
     },
     "metadata": {},
     "output_type": "display_data"
    },
    {
     "data": {
      "application/vnd.jupyter.widget-view+json": {
       "model_id": "6633d04e9f214fa893f0c091b17135a7",
       "version_major": 2,
       "version_minor": 0
      },
      "text/plain": [
       "Generating test split: 0 examples [00:00, ? examples/s]"
      ]
     },
     "metadata": {},
     "output_type": "display_data"
    },
    {
     "data": {
      "text/plain": [
       "DatasetDict({\n",
       "    train: Dataset({\n",
       "        features: ['id', 'condition', 'review', 'rating', 'drugName', 'date', 'usefulCount'],\n",
       "        num_rows: 20\n",
       "    })\n",
       "    test: Dataset({\n",
       "        features: ['id', 'condition', 'review', 'rating', 'drugName', 'date', 'usefulCount'],\n",
       "        num_rows: 5\n",
       "    })\n",
       "})"
      ]
     },
     "execution_count": 8,
     "metadata": {},
     "output_type": "execute_result"
    }
   ],
   "source": [
    "# Load the train and test dataset\n",
    "data_files = {\n",
    "    \"train\": \"my_data/sample_train_data.json\",\n",
    "    \"test\": \"my_data/sample_test_data.json\",\n",
    "}\n",
    "sample_dataset = load_dataset(\"json\", data_files=data_files)\n",
    "sample_dataset"
   ]
  },
  {
   "cell_type": "markdown",
   "metadata": {},
   "source": [
    "### Loading A Remote Dataset\n",
    "\n",
    "```text\n",
    "\n",
    "- Loading remote files is just as simple as loading local ones! \n",
    "- Instead of providing a path to local files, point the data_files argument of load_dataset() to one or more URLs where the remote files are stored. \n",
    "\n",
    "- For example, for the SQuAD-it dataset hosted on GitHub, point data_files to the SQuAD_it-*.json.gz URLs as follows:\n",
    "```\n",
    "\n",
    "```python\n",
    "\n",
    "url = \"https://github.com/crux82/squad-it/raw/master/\"\n",
    "data_files = {\n",
    "    \"train\": url + \"SQuAD_it-train.json.gz\",\n",
    "    \"test\": url + \"SQuAD_it-test.json.gz\",\n",
    "}\n",
    "\n",
    "squad_it_dataset = load_dataset(\"json\", data_files=data_files, field=\"data\")\n",
    "```"
   ]
  },
  {
   "cell_type": "code",
   "execution_count": null,
   "metadata": {},
   "outputs": [],
   "source": []
  },
  {
   "cell_type": "markdown",
   "metadata": {},
   "source": [
    "## [Manipulating Data](https://huggingface.co/learn/nlp-course/chapter5/3?fw=pt)\n",
    "\n",
    "\n",
    "```text\n",
    "Download and Save the data\n",
    "--------------------------\n",
    "```\n",
    "\n",
    "```python\n",
    "!mkdir -p my_data\n",
    "\n",
    "!wget -P my_data \"https://archive.ics.uci.edu/ml/machine-learning-databases/00462/drugsCom_raw.zip\"\n",
    "\n",
    "# Download and unzip\n",
    "!unzip my_data/drugsCom_raw.zip\n",
    "```"
   ]
  },
  {
   "cell_type": "code",
   "execution_count": 9,
   "metadata": {},
   "outputs": [
    {
     "data": {
      "text/plain": [
       "DatasetDict({\n",
       "    train: Dataset({\n",
       "        features: ['Unnamed: 0', 'drugName', 'condition', 'review', 'rating', 'date', 'usefulCount'],\n",
       "        num_rows: 161297\n",
       "    })\n",
       "    test: Dataset({\n",
       "        features: ['Unnamed: 0', 'drugName', 'condition', 'review', 'rating', 'date', 'usefulCount'],\n",
       "        num_rows: 53766\n",
       "    })\n",
       "})"
      ]
     },
     "execution_count": 9,
     "metadata": {},
     "output_type": "execute_result"
    }
   ],
   "source": [
    "from datasets import load_dataset\n",
    "from datasets.dataset_dict import DatasetDict\n",
    "\n",
    "\n",
    "data_files: dict[str, Any] = {\n",
    "    \"train\": \"my_data/drugsComTrain_raw.tsv\",\n",
    "    \"test\": \"my_data/drugsComTest_raw.tsv\",\n",
    "}\n",
    "\n",
    "# \\t is the tab character in Python\n",
    "drug_dataset: DatasetDict = load_dataset(\"csv\", data_files=data_files, delimiter=\"\\t\")\n",
    "drug_dataset"
   ]
  },
  {
   "cell_type": "code",
   "execution_count": 10,
   "metadata": {},
   "outputs": [
    {
     "data": {
      "text/plain": [
       "{'Unnamed: 0': [87571, 178045, 80482],\n",
       " 'drugName': ['Naproxen', 'Duloxetine', 'Mobic'],\n",
       " 'condition': ['Gout, Acute', 'ibromyalgia', 'Inflammatory Conditions'],\n",
       " 'review': ['\"like the previous person mention, I&#039;m a strong believer of aleve, it works faster for my gout than the prescription meds I take. No more going to the doctor for refills.....Aleve works!\"',\n",
       "  '\"I have taken Cymbalta for about a year and a half for fibromyalgia pain. It is great\\r\\nas a pain reducer and an anti-depressant, however, the side effects outweighed \\r\\nany benefit I got from it. I had trouble with restlessness, being tired constantly,\\r\\ndizziness, dry mouth, numbness and tingling in my feet, and horrible sweating. I am\\r\\nbeing weaned off of it now. Went from 60 mg to 30mg and now to 15 mg. I will be\\r\\noff completely in about a week. The fibro pain is coming back, but I would rather deal with it than the side effects.\"',\n",
       "  '\"I have been taking Mobic for over a year with no side effects other than an elevated blood pressure.  I had severe knee and ankle pain which completely went away after taking Mobic.  I attempted to stop the medication however pain returned after a few days.\"'],\n",
       " 'rating': [9.0, 3.0, 10.0],\n",
       " 'date': ['September 2, 2015', 'November 7, 2011', 'June 5, 2013'],\n",
       " 'usefulCount': [36, 13, 128]}"
      ]
     },
     "execution_count": 10,
     "metadata": {},
     "output_type": "execute_result"
    }
   ],
   "source": [
    "# Grab a small random sample to get a quick feel for the type of data you’re working with.\n",
    "# Create a random sample by chaining the Dataset.shuffle() and Dataset.select() functions together:\n",
    "\n",
    "SEED: int = 42\n",
    "NUM: int = 1_000\n",
    "\n",
    "drug_sample: DatasetDict = drug_dataset[\"train\"].shuffle(seed=SEED).select(range(NUM))\n",
    "# Peek at the first few examples\n",
    "drug_sample[:3]"
   ]
  },
  {
   "cell_type": "code",
   "execution_count": 11,
   "metadata": {},
   "outputs": [
    {
     "data": {
      "text/plain": [
       "dict_keys(['train', 'test'])"
      ]
     },
     "execution_count": 11,
     "metadata": {},
     "output_type": "execute_result"
    }
   ],
   "source": [
    "drug_dataset.keys()"
   ]
  },
  {
   "cell_type": "code",
   "execution_count": 12,
   "metadata": {},
   "outputs": [],
   "source": [
    "# Verify that the number of IDs (`Unnamed` column) matches the number of rows in each split using Dataset.unique():\n",
    "\n",
    "for split in drug_dataset.keys():\n",
    "    assert len(drug_dataset[split]) == len(drug_dataset[split].unique(\"Unnamed: 0\"))"
   ]
  },
  {
   "cell_type": "markdown",
   "metadata": {},
   "source": [
    "#### Rename Column(s)"
   ]
  },
  {
   "cell_type": "code",
   "execution_count": 13,
   "metadata": {},
   "outputs": [
    {
     "data": {
      "text/plain": [
       "DatasetDict({\n",
       "    train: Dataset({\n",
       "        features: ['patient_id', 'drugName', 'condition', 'review', 'rating', 'date', 'usefulCount'],\n",
       "        num_rows: 161297\n",
       "    })\n",
       "    test: Dataset({\n",
       "        features: ['patient_id', 'drugName', 'condition', 'review', 'rating', 'date', 'usefulCount'],\n",
       "        num_rows: 53766\n",
       "    })\n",
       "})"
      ]
     },
     "execution_count": 13,
     "metadata": {},
     "output_type": "execute_result"
    }
   ],
   "source": [
    "drug_dataset = drug_dataset.rename_column(\n",
    "    original_column_name=\"Unnamed: 0\", new_column_name=\"patient_id\"\n",
    ")\n",
    "drug_dataset"
   ]
  },
  {
   "cell_type": "code",
   "execution_count": 14,
   "metadata": {},
   "outputs": [
    {
     "data": {
      "text/plain": [
       "DatasetDict({\n",
       "    train: Dataset({\n",
       "        features: ['id', 'name', 'condition', 'review', 'rating', 'date', 'usefulCount'],\n",
       "        num_rows: 161297\n",
       "    })\n",
       "    test: Dataset({\n",
       "        features: ['id', 'name', 'condition', 'review', 'rating', 'date', 'usefulCount'],\n",
       "        num_rows: 53766\n",
       "    })\n",
       "})"
      ]
     },
     "execution_count": 14,
     "metadata": {},
     "output_type": "execute_result"
    }
   ],
   "source": [
    "COLUMNS: dict[str, str] = {\"patient_id\": \"id\", \"drugName\": \"name\"}\n",
    "drug_dataset.rename_columns(COLUMNS)"
   ]
  },
  {
   "cell_type": "markdown",
   "metadata": {},
   "source": [
    "#### Find The Number of unique Items"
   ]
  },
  {
   "cell_type": "code",
   "execution_count": 15,
   "metadata": {},
   "outputs": [
    {
     "data": {
      "text/html": [
       "<pre style=\"white-space:pre;overflow-x:auto;line-height:normal;font-family:Menlo,'DejaVu Sans Mono',consolas,'Courier New',monospace\"><span style=\"font-weight: bold\">(</span><span style=\"color: #008080; text-decoration-color: #008080; font-weight: bold\">3436</span>, <span style=\"color: #008080; text-decoration-color: #008080; font-weight: bold\">2637</span><span style=\"font-weight: bold\">)</span>\n",
       "</pre>\n"
      ],
      "text/plain": [
       "\u001b[1m(\u001b[0m\u001b[1;36m3436\u001b[0m, \u001b[1;36m2637\u001b[0m\u001b[1m)\u001b[0m\n"
      ]
     },
     "metadata": {},
     "output_type": "display_data"
    }
   ],
   "source": [
    "# Number of unique drugs\n",
    "result_train: int = len(drug_dataset.get(\"train\").unique(\"drugName\"))\n",
    "result_test: int = len(drug_dataset.get(\"test\").unique(\"drugName\"))\n",
    "\n",
    "print((result_train, result_test))"
   ]
  },
  {
   "cell_type": "code",
   "execution_count": 16,
   "metadata": {},
   "outputs": [
    {
     "data": {
      "text/plain": [
       "['__class__',\n",
       " '__class_getitem__',\n",
       " '__contains__',\n",
       " '__delattr__',\n",
       " '__delitem__',\n",
       " '__dict__',\n",
       " '__dir__',\n",
       " '__doc__',\n",
       " '__eq__',\n",
       " '__format__',\n",
       " '__ge__',\n",
       " '__getattribute__',\n",
       " '__getitem__',\n",
       " '__gt__',\n",
       " '__hash__',\n",
       " '__init__',\n",
       " '__init_subclass__',\n",
       " '__ior__',\n",
       " '__iter__',\n",
       " '__le__',\n",
       " '__len__',\n",
       " '__lt__',\n",
       " '__module__',\n",
       " '__ne__',\n",
       " '__new__',\n",
       " '__or__',\n",
       " '__reduce__',\n",
       " '__reduce_ex__',\n",
       " '__repr__',\n",
       " '__reversed__',\n",
       " '__ror__',\n",
       " '__setattr__',\n",
       " '__setitem__',\n",
       " '__sizeof__',\n",
       " '__str__',\n",
       " '__subclasshook__',\n",
       " '__weakref__',\n",
       " '_check_values_features',\n",
       " '_check_values_type',\n",
       " 'align_labels_with_mapping',\n",
       " 'cache_files',\n",
       " 'cast',\n",
       " 'cast_column',\n",
       " 'class_encode_column',\n",
       " 'cleanup_cache_files',\n",
       " 'clear',\n",
       " 'column_names',\n",
       " 'copy',\n",
       " 'data',\n",
       " 'filter',\n",
       " 'flatten',\n",
       " 'flatten_indices',\n",
       " 'formatted_as',\n",
       " 'from_csv',\n",
       " 'from_json',\n",
       " 'from_parquet',\n",
       " 'from_text',\n",
       " 'fromkeys',\n",
       " 'get',\n",
       " 'items',\n",
       " 'keys',\n",
       " 'load_from_disk',\n",
       " 'map',\n",
       " 'num_columns',\n",
       " 'num_rows',\n",
       " 'pop',\n",
       " 'popitem',\n",
       " 'prepare_for_task',\n",
       " 'push_to_hub',\n",
       " 'remove_columns',\n",
       " 'rename_column',\n",
       " 'rename_columns',\n",
       " 'reset_format',\n",
       " 'save_to_disk',\n",
       " 'select_columns',\n",
       " 'set_format',\n",
       " 'set_transform',\n",
       " 'setdefault',\n",
       " 'shape',\n",
       " 'shuffle',\n",
       " 'sort',\n",
       " 'unique',\n",
       " 'update',\n",
       " 'values',\n",
       " 'with_format',\n",
       " 'with_transform']"
      ]
     },
     "execution_count": 16,
     "metadata": {},
     "output_type": "execute_result"
    }
   ],
   "source": [
    "dir(drug_dataset)"
   ]
  },
  {
   "cell_type": "markdown",
   "metadata": {},
   "source": [
    "### Apply A Custom Function\n",
    "\n",
    "```text\n",
    "- Dataset.map()\n",
    "- Dataset.filter()\n",
    "```"
   ]
  },
  {
   "cell_type": "code",
   "execution_count": 17,
   "metadata": {},
   "outputs": [
    {
     "data": {
      "application/vnd.jupyter.widget-view+json": {
       "model_id": "4eaafcd5dd2f4997a109c8261163f3b3",
       "version_major": 2,
       "version_minor": 0
      },
      "text/plain": [
       "Map:   0%|          | 0/161297 [00:00<?, ? examples/s]"
      ]
     },
     "metadata": {},
     "output_type": "display_data"
    },
    {
     "data": {
      "text/html": [
       "<pre style=\"white-space:pre;overflow-x:auto;line-height:normal;font-family:Menlo,'DejaVu Sans Mono',consolas,'Courier New',monospace\"><span style=\"color: #008000; text-decoration-color: #008000\">'NoneType'</span> object has no attribute <span style=\"color: #008000; text-decoration-color: #008000\">'lower'</span>\n",
       "</pre>\n"
      ],
      "text/plain": [
       "\u001b[32m'NoneType'\u001b[0m object has no attribute \u001b[32m'lower'\u001b[0m\n"
      ]
     },
     "metadata": {},
     "output_type": "display_data"
    }
   ],
   "source": [
    "def lowercase_condition(example: dict[str, Any]) -> dict[str, Any]:\n",
    "    \"\"\"This converts the value of the condition to lowercase.\"\"\"\n",
    "    return {\"condition\": example.get(\"condition\").lower()}\n",
    "\n",
    "\n",
    "try:\n",
    "    drug_dataset.map(lowercase_condition)\n",
    "except AttributeError as err:\n",
    "    print(err)"
   ]
  },
  {
   "cell_type": "code",
   "execution_count": 18,
   "metadata": {},
   "outputs": [
    {
     "data": {
      "text/plain": [
       "['ML Engineer', 'Data Scientist', 'Data Engineer', 'Research Engineer']"
      ]
     },
     "execution_count": 18,
     "metadata": {},
     "output_type": "execute_result"
    }
   ],
   "source": [
    "# There are some rows that have an invalid condition. i.e condition == None. Drop those rows\n",
    "# e.g.\n",
    "my_list: list[str] = [\n",
    "    \"ML Engineer\",\n",
    "    \"Data Scientist\",\n",
    "    \"Data Engineer\",\n",
    "    \"Research Engineer\",\n",
    "    \"Banker\",\n",
    "]\n",
    "# Drop `Banker`\n",
    "list(filter(lambda x: x != \"Banker\", my_list))"
   ]
  },
  {
   "cell_type": "code",
   "execution_count": 19,
   "metadata": {},
   "outputs": [
    {
     "data": {
      "text/html": [
       "<pre style=\"white-space:pre;overflow-x:auto;line-height:normal;font-family:Menlo,'DejaVu Sans Mono',consolas,'Courier New',monospace\">Size BEFORE dropping rows: <span style=\"font-weight: bold\">{</span><span style=\"color: #008000; text-decoration-color: #008000\">'train'</span>: <span style=\"color: #008080; text-decoration-color: #008080; font-weight: bold\">161297</span>, <span style=\"color: #008000; text-decoration-color: #008000\">'test'</span>: <span style=\"color: #008080; text-decoration-color: #008080; font-weight: bold\">53766</span><span style=\"font-weight: bold\">}</span>\n",
       "</pre>\n"
      ],
      "text/plain": [
       "Size BEFORE dropping rows: \u001b[1m{\u001b[0m\u001b[32m'train'\u001b[0m: \u001b[1;36m161297\u001b[0m, \u001b[32m'test'\u001b[0m: \u001b[1;36m53766\u001b[0m\u001b[1m}\u001b[0m\n"
      ]
     },
     "metadata": {},
     "output_type": "display_data"
    },
    {
     "data": {
      "text/html": [
       "<pre style=\"white-space:pre;overflow-x:auto;line-height:normal;font-family:Menlo,'DejaVu Sans Mono',consolas,'Courier New',monospace\">Size AFTER dropping rows: <span style=\"font-weight: bold\">{</span><span style=\"color: #008000; text-decoration-color: #008000\">'train'</span>: <span style=\"color: #008080; text-decoration-color: #008080; font-weight: bold\">160398</span>, <span style=\"color: #008000; text-decoration-color: #008000\">'test'</span>: <span style=\"color: #008080; text-decoration-color: #008080; font-weight: bold\">53471</span><span style=\"font-weight: bold\">}</span>\n",
       "</pre>\n"
      ],
      "text/plain": [
       "Size AFTER dropping rows: \u001b[1m{\u001b[0m\u001b[32m'train'\u001b[0m: \u001b[1;36m160398\u001b[0m, \u001b[32m'test'\u001b[0m: \u001b[1;36m53471\u001b[0m\u001b[1m}\u001b[0m\n"
      ]
     },
     "metadata": {},
     "output_type": "display_data"
    }
   ],
   "source": [
    "# Drop the invalid conditions. i.e where condition is None\n",
    "drug_dataset_1 = drug_dataset.filter(lambda x: x.get(\"condition\") is not None)\n",
    "\n",
    "print(f\"Size BEFORE dropping rows: {drug_dataset.num_rows}\")\n",
    "print(f\"Size AFTER dropping rows: {drug_dataset_1.num_rows}\")"
   ]
  },
  {
   "cell_type": "code",
   "execution_count": 20,
   "metadata": {},
   "outputs": [],
   "source": [
    "# Convert to lowercase\n",
    "drug_dataset_1 = drug_dataset_1.map(lowercase_condition)"
   ]
  },
  {
   "cell_type": "code",
   "execution_count": 21,
   "metadata": {},
   "outputs": [
    {
     "data": {
      "text/plain": [
       "['ADHD',\n",
       " 'ADHD',\n",
       " 'Birth Control',\n",
       " 'Post Traumatic Stress Disorde',\n",
       " 'Allergic Rhinitis']"
      ]
     },
     "execution_count": 21,
     "metadata": {},
     "output_type": "execute_result"
    }
   ],
   "source": [
    "# Before\n",
    "drug_dataset.get(\"train\").shuffle(seed=123).select(range(5))[:].get(\"condition\")"
   ]
  },
  {
   "cell_type": "code",
   "execution_count": 22,
   "metadata": {},
   "outputs": [
    {
     "data": {
      "text/plain": [
       "['herpes simplex, mucocutaneous/immunocompetent host',\n",
       " '13</span> users found this comment helpful.',\n",
       " 'ibromyalgia',\n",
       " 'birth control',\n",
       " 'adhd']"
      ]
     },
     "execution_count": 22,
     "metadata": {},
     "output_type": "execute_result"
    }
   ],
   "source": [
    "# After\n",
    "drug_dataset_1.get(\"train\").shuffle(seed=123).select(range(5))[:].get(\"condition\")"
   ]
  },
  {
   "cell_type": "markdown",
   "metadata": {},
   "source": [
    "#### Creating New Columns\n"
   ]
  },
  {
   "cell_type": "code",
   "execution_count": 23,
   "metadata": {},
   "outputs": [
    {
     "data": {
      "text/plain": [
       "{'patient_id': Value(dtype='int64', id=None),\n",
       " 'drugName': Value(dtype='string', id=None),\n",
       " 'condition': Value(dtype='string', id=None),\n",
       " 'review': Value(dtype='string', id=None),\n",
       " 'rating': Value(dtype='float64', id=None),\n",
       " 'date': Value(dtype='string', id=None),\n",
       " 'usefulCount': Value(dtype='int64', id=None)}"
      ]
     },
     "execution_count": 23,
     "metadata": {},
     "output_type": "execute_result"
    }
   ],
   "source": [
    "drug_dataset_1.get(\"train\").features"
   ]
  },
  {
   "cell_type": "code",
   "execution_count": 24,
   "metadata": {},
   "outputs": [
    {
     "data": {
      "text/plain": [
       "DatasetDict({\n",
       "    train: Dataset({\n",
       "        features: ['patient_id', 'drugName', 'condition', 'review', 'rating', 'date', 'usefulCount', 'review_length'],\n",
       "        num_rows: 160398\n",
       "    })\n",
       "    test: Dataset({\n",
       "        features: ['patient_id', 'drugName', 'condition', 'review', 'rating', 'date', 'usefulCount', 'review_length'],\n",
       "        num_rows: 53471\n",
       "    })\n",
       "})"
      ]
     },
     "execution_count": 24,
     "metadata": {},
     "output_type": "execute_result"
    }
   ],
   "source": [
    "def add_review_length(example: dict[str, Any]) -> dict[str, Any]:\n",
    "    \"\"\"This is used to add the lenght of a review to the dataset.\"\"\"\n",
    "    return {\"review_length\": len(example.get(\"review\").split(\" \"))}\n",
    "\n",
    "\n",
    "drug_dataset_1 = drug_dataset_1.map(add_review_length)\n",
    "drug_dataset_1"
   ]
  },
  {
   "cell_type": "code",
   "execution_count": 25,
   "metadata": {},
   "outputs": [
    {
     "data": {
      "text/plain": [
       "{'patient_id': 12372,\n",
       " 'drugName': 'Atripla',\n",
       " 'condition': 'hiv infection',\n",
       " 'review': '\"Spring of 2008 I was hospitalized with pnuemonia and diagnosed with Lyme diease and full blown AIDS with CD4 count of &quot;11&quot; viral load some number so high in the millions I could never remember. I was taking Combivir and Kaletra with Dapsone for the 1st year then it stopped working. I started Kaletra with the Dapsone my CD4 count is now 209 and rising. For a few weeks I was very aggressive and broke all my dishes in the house LOL. I take vitamin supplements and drink a boost pluz every day. LIfe is good now!\"',\n",
       " 'rating': 8.0,\n",
       " 'date': 'July 9, 2010',\n",
       " 'usefulCount': 11,\n",
       " 'review_length': 97}"
      ]
     },
     "execution_count": 25,
     "metadata": {},
     "output_type": "execute_result"
    }
   ],
   "source": [
    "drug_dataset_1.get(\"train\")[20]"
   ]
  },
  {
   "cell_type": "markdown",
   "metadata": {},
   "source": [
    "#### Sort Values"
   ]
  },
  {
   "cell_type": "code",
   "execution_count": 26,
   "metadata": {},
   "outputs": [
    {
     "data": {
      "text/html": [
       "<pre style=\"white-space:pre;overflow-x:auto;line-height:normal;font-family:Menlo,'DejaVu Sans Mono',consolas,'Courier New',monospace\"><span style=\"font-weight: bold\">{</span>\n",
       "    <span style=\"color: #008000; text-decoration-color: #008000\">'patient_id'</span>: <span style=\"font-weight: bold\">[</span><span style=\"color: #008080; text-decoration-color: #008080; font-weight: bold\">121004</span>, <span style=\"color: #008080; text-decoration-color: #008080; font-weight: bold\">181160</span>, <span style=\"color: #008080; text-decoration-color: #008080; font-weight: bold\">216072</span><span style=\"font-weight: bold\">]</span>,\n",
       "    <span style=\"color: #008000; text-decoration-color: #008000\">'drugName'</span>: <span style=\"font-weight: bold\">[</span><span style=\"color: #008000; text-decoration-color: #008000\">'Venlafaxine'</span>, <span style=\"color: #008000; text-decoration-color: #008000\">'Prozac'</span>, <span style=\"color: #008000; text-decoration-color: #008000\">'Copper'</span><span style=\"font-weight: bold\">]</span>,\n",
       "    <span style=\"color: #008000; text-decoration-color: #008000\">'condition'</span>: <span style=\"font-weight: bold\">[</span><span style=\"color: #008000; text-decoration-color: #008000\">'migraine'</span>, <span style=\"color: #008000; text-decoration-color: #008000\">'obsessive compulsive disorde'</span>, <span style=\"color: #008000; text-decoration-color: #008000\">'birth control'</span><span style=\"font-weight: bold\">]</span>,\n",
       "    <span style=\"color: #008000; text-decoration-color: #008000\">'review'</span>: <span style=\"font-weight: bold\">[</span>\n",
       "        <span style=\"color: #008000; text-decoration-color: #008000\">'\"Two and a half months ago I was prescribed Venlafaxine to help prevent chronic migraines.\\r\\nIt did help </span>\n",
       "<span style=\"color: #008000; text-decoration-color: #008000\">the migraines (reduced them by almost half), but with it came a host of side effects that were far worse than the </span>\n",
       "<span style=\"color: #008000; text-decoration-color: #008000\">problem I was trying to get rid of.\\r\\nHaving now come off of the stuff, I would not recommend anyone ever use </span>\n",
       "<span style=\"color: #008000; text-decoration-color: #008000\">Venlafaxine unless they suffer from extreme / suicidal depression. I mean extreme in the most emphatic sense of the</span>\n",
       "<span style=\"color: #008000; text-decoration-color: #008000\">word. \\r\\nBefore trying Venlafaxine, I was a writer. While on Venlafaxine, I could barely write or speak or </span>\n",
       "<span style=\"color: #008000; text-decoration-color: #008000\">communicate at all. More than that, I just didn&amp;#039;t want to. Not normal for a usually outgoing </span>\n",
       "<span style=\"color: #008000; text-decoration-color: #008000\">extrovert.\\r\\nNow, I&amp;#039;m beginning to write again - but my ability to speak and converse with others has </span>\n",
       "<span style=\"color: #008000; text-decoration-color: #008000\">deteriorated by about 95%. Writing these words is taking forever; keeping up in conversation with even one person </span>\n",
       "<span style=\"color: #008000; text-decoration-color: #008000\">is impossible, and I barely see the point of trying either. On Venlafaxine, words pretty much left me - my </span>\n",
       "<span style=\"color: #008000; text-decoration-color: #008000\">conversational vocabulary  was whittled down to the following:\\r\\n&amp;quot;Mmm&amp;quot; for yes; a sharp and clipped </span>\n",
       "<span style=\"color: #008000; text-decoration-color: #008000\">&amp;quot;Mm&amp;quot; for &amp;quot;No&amp;quot;\\r\\n&amp;quot;Okay.&amp;quot;\\r\\n&amp;quot;Really?&amp;quot;\\r\\n&amp;quot;Oh </span>\n",
       "<span style=\"color: #008000; text-decoration-color: #008000\">right.&amp;quot;\\r\\n&amp;quot;Cool.&amp;quot;\\r\\n&amp;quot;That sucks&amp;quot;\\r\\nAt the moment, I&amp;#039;m a week into withdrawal, and </span>\n",
       "<span style=\"color: #008000; text-decoration-color: #008000\">I have to try extremely hard just to make the most mundane small talk. Last night I went to a party with some close</span>\n",
       "<span style=\"color: #008000; text-decoration-color: #008000\">friends, cheesy &amp;#039;90s music, and a barbecue. About half of them are academics, and I couldn&amp;#039;t keep up with</span>\n",
       "<span style=\"color: #008000; text-decoration-color: #008000\">conversations I normally would be able to; the other half like to dance and party, but I felt glued to my seat (as </span>\n",
       "<span style=\"color: #008000; text-decoration-color: #008000\">well as practically mute) and eventually walked off and found a quiet sofa to lie down on.\\r\\nI have never felt so </span>\n",
       "<span style=\"color: #008000; text-decoration-color: #008000\">isolated and lonely in my life. Thanks Venlafaxine.\\r\\nIf you consider yourself a social, creative, and curious </span>\n",
       "<span style=\"color: #008000; text-decoration-color: #008000\">person, DO NOT TAKE EVEN ONE DOSE OF VENLAFAXINE. Unless of course you are extremely extremely depressed. I&amp;#039;ve</span>\n",
       "<span style=\"color: #008000; text-decoration-color: #008000\">suffered from depression in the past, but only mildly. Venlafaxine has shown me what true depression feels </span>\n",
       "<span style=\"color: #008000; text-decoration-color: #008000\">like.\\r\\nAs for the other side effects:\\r\\n- About two days&amp;#039; worth of total joyful euphoria during the first </span>\n",
       "<span style=\"color: #008000; text-decoration-color: #008000\">48 hours of taking Venlafaxine. Anxiety of all kinds evaporated. This felt amazing - although I can&amp;#039;t remember</span>\n",
       "<span style=\"color: #008000; text-decoration-color: #008000\">what it felt like now. At the time, this extremely brief effect was powerful enough to make me feel that pushing on</span>\n",
       "<span style=\"color: #008000; text-decoration-color: #008000\">with Venlafaxine would be a Good Idea.\\r\\n- After that, I started feeling very sleepy. All the time. I slept more. </span>\n",
       "<span style=\"color: #008000; text-decoration-color: #008000\">No euphoria; more anxiety.\\r\\n- A week later, the night sweats started. My room was pretty cold (it was only spring</span>\n",
       "<span style=\"color: #008000; text-decoration-color: #008000\">in the UK), but I sweated more than I ever have on any tropical holiday. This meant that despite being extremely </span>\n",
       "<span style=\"color: #008000; text-decoration-color: #008000\">sleepy, I couldn&amp;#039;t sleep.\\r\\nSince the side effects were supposed to wear off after six weeks or so, I stuck </span>\n",
       "<span style=\"color: #008000; text-decoration-color: #008000\">with Venlafaxine for six weeks. Over that time I became so sleep deprived that I lived in a state of permanent </span>\n",
       "<span style=\"color: #008000; text-decoration-color: #008000\">exhaustion.\\r\\nEnter the writer&amp;#039;s worst enemy: Brain fog. I spent entire days so braindead that the most </span>\n",
       "<span style=\"color: #008000; text-decoration-color: #008000\">challenging thing I could manage was staring blankly at a wall - or lifting my phone to read text messages and </span>\n",
       "<span style=\"color: #008000; text-decoration-color: #008000\">attempt to learn something from articles about Venlafaxine. I&amp;#039;ve read the same articles countless times, but </span>\n",
       "<span style=\"color: #008000; text-decoration-color: #008000\">nothing sank in; every time I read the same article it felt like I was reading it for the first time. I recognised </span>\n",
       "<span style=\"color: #008000; text-decoration-color: #008000\">the layout and design of each webpage, and that way I was able to realise I&amp;#039;d read it before, but the actual </span>\n",
       "<span style=\"color: #008000; text-decoration-color: #008000\">text went in one eye and out the other.\\r\\nIn conversation, I had a brain like a sieve. Words went in one ear and </span>\n",
       "<span style=\"color: #008000; text-decoration-color: #008000\">out the other. Normally, I could pump out a lot of writing on a regular basis; on Venlafaxine, I wrote a small and </span>\n",
       "<span style=\"color: #008000; text-decoration-color: #008000\">frankly pitiful handful of short and uninspired pieces, and that was it. If you love being productive and creative,</span>\n",
       "<span style=\"color: #008000; text-decoration-color: #008000\">do not go near Venlafaxine.\\r\\nThe above was my life for six weeks - and that was enough. I did see family and </span>\n",
       "<span style=\"color: #008000; text-decoration-color: #008000\">friends while on Venlafaxine, but I constantly forgot what was going on and must have seemed scatterbrained or </span>\n",
       "<span style=\"color: #008000; text-decoration-color: #008000\">borderline retarded at times. Although I did explain to people what was going on with my medication, it just seemed</span>\n",
       "<span style=\"color: #008000; text-decoration-color: #008000\">to make people uncomfortable - and I&amp;#039;ve now become the butt of a lot of jokes relating to my consistent </span>\n",
       "<span style=\"color: #008000; text-decoration-color: #008000\">uselessness at everything from chatting to party games and my inability to work or do anything productive. Someone </span>\n",
       "<span style=\"color: #008000; text-decoration-color: #008000\">even compared me to Lenny from Of Mice And Men and asked when my family were going to take me into the back garden </span>\n",
       "<span style=\"color: #008000; text-decoration-color: #008000\">and shoot me in the head rather than continue to care for me. All of this contributed to the worst feeling of </span>\n",
       "<span style=\"color: #008000; text-decoration-color: #008000\">loneliness and isolation I have ever experienced in my life.\\r\\nVenlafaxine not only trapped me inside my head - it</span>\n",
       "<span style=\"color: #008000; text-decoration-color: #008000\">also emptied my head of anything worth remembering, and left me barely able to learn new things. \\r\\nI&amp;#039;d sit </span>\n",
       "<span style=\"color: #008000; text-decoration-color: #008000\">around tables with people and realise I couldn&amp;#039;t remember the names of people I&amp;#039;d know for years - or </span>\n",
       "<span style=\"color: #008000; text-decoration-color: #008000\">even family members. \\r\\nI&amp;#039;d hear a song playing and say &amp;quot;Hey - what&amp;#039;s the name of this </span>\n",
       "<span style=\"color: #008000; text-decoration-color: #008000\">dance?&amp;quot;\\r\\nAny sentence longer than a few words requires a minute or so to compose when written. Spoken out </span>\n",
       "<span style=\"color: #008000; text-decoration-color: #008000\">loud? Forget about it. When I try to speak, I sound like the Goon from Popeye.\\r\\nAfter six weeks of hell, my </span>\n",
       "<span style=\"color: #008000; text-decoration-color: #008000\">doctor and I agreed to taper off my 75mg daily dose. This process lasted a month, not following a particular </span>\n",
       "<span style=\"color: #008000; text-decoration-color: #008000\">schedule (which might have been a better idea), and was mostly side effect free until I came down to 18.25mg a day </span>\n",
       "<span style=\"color: #008000; text-decoration-color: #008000\">- one half of one 37.5mg tablet.\\r\\nAfter three days of that, it really hit the fan. I got up one day, pottered </span>\n",
       "<span style=\"color: #008000; text-decoration-color: #008000\">around a bit, and suddenly decided that I wanted to kill myself. Literally out of nowhere.\\r\\nFortunately I was of </span>\n",
       "<span style=\"color: #008000; text-decoration-color: #008000\">sound enough mind to call the Samaritans, who recommended I call the emergency services, who sent an ambulance to </span>\n",
       "<span style=\"color: #008000; text-decoration-color: #008000\">take me to hospital. For suicidal thoughts. \\r\\nTo be honest, I&amp;#039;d rather have gone to Disneyland.\\r\\nOnce I </span>\n",
       "<span style=\"color: #008000; text-decoration-color: #008000\">was in A&amp;amp;E, I got to wait for several hours, just stewing in a room with a sofa and not much else. Then I met </span>\n",
       "<span style=\"color: #008000; text-decoration-color: #008000\">the most useless doctor of all time. After I refused his suggestion that I not only go back on Venlafaxine, but </span>\n",
       "<span style=\"color: #008000; text-decoration-color: #008000\">*try a higher dose* than the one that got me into this mess in the first place, he said there wasn&amp;#039;t anything </span>\n",
       "<span style=\"color: #008000; text-decoration-color: #008000\">else they could do - and handed me a little leaflet for a local mental health charity meetup that happens every so </span>\n",
       "<span style=\"color: #008000; text-decoration-color: #008000\">often.\\r\\nBy this point I&amp;#039;d decided that suicide would not be the best option - and nor would going on even </span>\n",
       "<span style=\"color: #008000; text-decoration-color: #008000\">more Venlafaxine than before. I also binned the leaflet on my way out, determined to keep going and just deal with </span>\n",
       "<span style=\"color: #008000; text-decoration-color: #008000\">the withdrawal.\\r\\nSince that time, my intelligence level has plummeted to the point of being humiliating. But </span>\n",
       "<span style=\"color: #008000; text-decoration-color: #008000\">that&amp;#039;s not even the worst of it.\\r\\nAs I mentioned before, I started taking Venlafaxine for migraines. Now </span>\n",
       "<span style=\"color: #008000; text-decoration-color: #008000\">that I&amp;#039;m not taking it, they&amp;#039;re coming back again - but they&amp;#039;ve also changed.\\r\\nA few days ago, </span>\n",
       "<span style=\"color: #008000; text-decoration-color: #008000\">days before the party I should probably have stayed home for only I couldn&amp;#039;t stand sitting at home any longer </span>\n",
       "<span style=\"color: #008000; text-decoration-color: #008000\">so I went and ended up alone in a darkened room and felt more depressed than I have in my entire life, I was at </span>\n",
       "<span style=\"color: #008000; text-decoration-color: #008000\">home when I collapsed. The right side of my body gave way, I hit the wall, and fell on the floor where I lay frozen</span>\n",
       "<span style=\"color: #008000; text-decoration-color: #008000\">for God knows how long. Then when I did get up, I realised I couldn&amp;#039;t speak at all, the right side of my body </span>\n",
       "<span style=\"color: #008000; text-decoration-color: #008000\">was almost paralysed, and the right side of my head was numb on the outside, and in agony on the inside.\\r\\nAfter </span>\n",
       "<span style=\"color: #008000; text-decoration-color: #008000\">calling the emergency services again, I was taken through the standard questions I guess they ask everyone when </span>\n",
       "<span style=\"color: #008000; text-decoration-color: #008000\">they think the person in question is having a stroke. Like the suicidal thoughts, stroke symptoms were a new </span>\n",
       "<span style=\"color: #008000; text-decoration-color: #008000\">experience for me. Thanks, Venlafaxine.\\r\\nWhen the ambulance arrived, they were able to reassure me that I </span>\n",
       "<span style=\"color: #008000; text-decoration-color: #008000\">wasn&amp;#039;t having a stroke, as one side of my face wasn&amp;#039;t drooping. This was good news - but since they </span>\n",
       "<span style=\"color: #008000; text-decoration-color: #008000\">couldn&amp;#039;t explain what was actually going on, I was taking to hospital for a brain scan and blood tests and a </span>\n",
       "<span style=\"color: #008000; text-decoration-color: #008000\">meeting with a doctor who told me I&amp;#039;d had a right-sided hemiplegic migraine. I&amp;#039;d never had one before, </span>\n",
       "<span style=\"color: #008000; text-decoration-color: #008000\">and didn&amp;#039;t know they existed until then; my migraines have always felt like my head is both in a vice and </span>\n",
       "<span style=\"color: #008000; text-decoration-color: #008000\">exploding at the same time, and I get them across my whole head, not just one side.\\r\\nAt this point, I&amp;#039;m </span>\n",
       "<span style=\"color: #008000; text-decoration-color: #008000\">determined to continue fighting the withdrawal symptoms. The only thing that&amp;#039;s really helped me in doing this </span>\n",
       "<span style=\"color: #008000; text-decoration-color: #008000\">was the discovery of a cognitive distortion called &amp;quot;emotional reasoning&amp;quot;. This involves assuming that </span>\n",
       "<span style=\"color: #008000; text-decoration-color: #008000\">because you feel bad, things must actually be bad.\\r\\nObviously emotional reasoning (which is worth Googling as </span>\n",
       "<span style=\"color: #008000; text-decoration-color: #008000\">it&amp;#039;s quite an in depth subject, or at least feels like it given that my brain&amp;#039;s been hopefully </span>\n",
       "<span style=\"color: #008000; text-decoration-color: #008000\">temporarily damaged by Venlafaxine) is pretty common in depression. It&amp;#039;s also been my brain&amp;#039;s default way</span>\n",
       "<span style=\"color: #008000; text-decoration-color: #008000\">of operating possibly for as long as I can remember, but definitely since I started taking Venlafaxine. The </span>\n",
       "<span style=\"color: #008000; text-decoration-color: #008000\">emotional and physical and psychological rollercoaster Venlafaxine puts you through is utterly exhausting - and </span>\n",
       "<span style=\"color: #008000; text-decoration-color: #008000\">while it&amp;#039;s throwing you all over the place and especially during withdrawal it&amp;#039;s tough to keep in mind </span>\n",
       "<span style=\"color: #008000; text-decoration-color: #008000\">that a lot of the negative thoughts your mind throws up are going to be based on how you feel (i.e. the levels and </span>\n",
       "<span style=\"color: #008000; text-decoration-color: #008000\">mix of different chemicals in your brain), NOT on any Real Life Stuff. You&amp;#039;ll most likely unintentionally </span>\n",
       "<span style=\"color: #008000; text-decoration-color: #008000\">filter out all the good stuff in your brain and only remember the darkest and worst things you possibly can, and </span>\n",
       "<span style=\"color: #008000; text-decoration-color: #008000\">attach all kinds of apparently logical arguments to make a case against yourself / a case that argues that you and </span>\n",
       "<span style=\"color: #008000; text-decoration-color: #008000\">your life are awful.\\r\\nLooking back on this experience, my thoughts were similar to one of those films you see </span>\n",
       "<span style=\"color: #008000; text-decoration-color: #008000\">advertised as &amp;quot;...based on a true story&amp;quot;. Works of fiction based very loosely on facts.\\r\\nRather than a </span>\n",
       "<span style=\"color: #008000; text-decoration-color: #008000\">film you&amp;#039;d give two stars and never watch again, emotional reasoning&amp;#039;s end product is a lie - not to </span>\n",
       "<span style=\"color: #008000; text-decoration-color: #008000\">mention the most toxic thoughts a human being can think. Depression can definitely make people tell these lies to </span>\n",
       "<span style=\"color: #008000; text-decoration-color: #008000\">themselves - but Venlafaxine made my brain malfunction so badly that putting together an apparently sensible </span>\n",
       "<span style=\"color: #008000; text-decoration-color: #008000\">argument for any depressive thoughts suddenly seemed like the most obvious thing in the world one day.\\r\\nIf I </span>\n",
       "<span style=\"color: #008000; text-decoration-color: #008000\">hadn&amp;#039;t had those thoughts, I would&amp;#039;ve just made lunch.\\r\\nSo that&amp;#039;s about it for now - if I </span>\n",
       "<span style=\"color: #008000; text-decoration-color: #008000\">don&amp;#039;t update this story in the future, assume I got better and decided to never revisit this page again, </span>\n",
       "<span style=\"color: #008000; text-decoration-color: #008000\">preferring to leave Venlafaxine and its horrific toxicity behind me. Good luck with your own journey :)\"'</span>,\n",
       "        <span style=\"color: #008000; text-decoration-color: #008000\">'\"I don&amp;rsquo;t find a lot of positive stories about antidepressants, or I find stories where people are </span>\n",
       "<span style=\"color: #008000; text-decoration-color: #008000\">taking the antidepressant the wrong way.\\r\\n\\r\\nI wanted to share my experience.  A positive one.\\r\\n\\r\\nI&amp;rsquo;ve</span>\n",
       "<span style=\"color: #008000; text-decoration-color: #008000\">had generalized anxiety disorder, SEVERE OCD, and panic disorder for as long as I can remember.  My first memory of</span>\n",
       "<span style=\"color: #008000; text-decoration-color: #008000\">having an episode was when I was 4 years old at my kindergarten interview.  I feel as though I was born with the </span>\n",
       "<span style=\"color: #008000; text-decoration-color: #008000\">illnesses mentioned above, right from the womb.  When I was a child I was extremely anxious, had bad separation </span>\n",
       "<span style=\"color: #008000; text-decoration-color: #008000\">anxiety from my parents and had extreme OCD, I was just a kid and thought that the way I was feeling is how all </span>\n",
       "<span style=\"color: #008000; text-decoration-color: #008000\">kids felt, I didn&amp;rsquo;t realize that I was different.  This went on, and got even worse in middle school.  I </span>\n",
       "<span style=\"color: #008000; text-decoration-color: #008000\">began developing trichtilomania in middle school.  In high school I went from being a 90% above student, to failing</span>\n",
       "<span style=\"color: #008000; text-decoration-color: #008000\">every class within a couple of years.  I couldn&amp;rsquo;t leave the house.  My panic disorder and gad caused </span>\n",
       "<span style=\"color: #008000; text-decoration-color: #008000\">debilitating physical symptoms.  I would be shaking when I had to leave the house, I wouldn&amp;rsquo;t drink alcohol </span>\n",
       "<span style=\"color: #008000; text-decoration-color: #008000\">because I was afraid of vomiting, I was suffering so much, for my whole entire life with severe phobias, fears, and</span>\n",
       "<span style=\"color: #008000; text-decoration-color: #008000\">anxiety.  I prayed and prayed and prayed to God every night for it to go away.  I was a 16 year old living in a </span>\n",
       "<span style=\"color: #008000; text-decoration-color: #008000\">prison of her own mind.  It never went away.  Every single day was the worst day of my life, I would wake up and </span>\n",
       "<span style=\"color: #008000; text-decoration-color: #008000\">the thoughts just started,  I never had a break.  My life was exhausting.\\r\\n\\r\\nI am of east indian background and</span>\n",
       "<span style=\"color: #008000; text-decoration-color: #008000\">my parents didn&amp;rsquo;t understand mental illness well.  It is very taboo in my culture.  I went to tons of doctors</span>\n",
       "<span style=\"color: #008000; text-decoration-color: #008000\">and they told me it was just growing pains,  no doctor ever told me that maybe I should see a therapist.  I </span>\n",
       "<span style=\"color: #008000; text-decoration-color: #008000\">didn&amp;rsquo;t have any support.  When I was 22 I attempted suicide.  Luckily the attempt didn&amp;rsquo;t work and I was</span>\n",
       "<span style=\"color: #008000; text-decoration-color: #008000\">forced to go on medication.  I was livid, I was so against antidepressants, I was so so so scared, it felt </span>\n",
       "<span style=\"color: #008000; text-decoration-color: #008000\">unnatural. My general practitioner put me on Effexor, I took it for almost 8 weeks, it helped me to not want to </span>\n",
       "<span style=\"color: #008000; text-decoration-color: #008000\">kill myself, but It also made me gain tons of weight which made me depressed, and it make me hear voices.  One </span>\n",
       "<span style=\"color: #008000; text-decoration-color: #008000\">evening a voice told me to choke my mom, and I started freaking out and my parents drove me immediately to the </span>\n",
       "<span style=\"color: #008000; text-decoration-color: #008000\">hospital.  At the hospital I talked to a psych nurse who calmed me down, and got me an appointment with a </span>\n",
       "<span style=\"color: #008000; text-decoration-color: #008000\">psychiatrist the next day.  This appointment and this psychiatrist saved my life, and changed my entire </span>\n",
       "<span style=\"color: #008000; text-decoration-color: #008000\">life.\\r\\n\\r\\nI want to really mention that you should not be going to a General Practitioner for mental illness </span>\n",
       "<span style=\"color: #008000; text-decoration-color: #008000\">medication, you should ALWAYS&amp;hellip;ALWAYS go to a psychiatrist no matter what.  If your GP is the only person you</span>\n",
       "<span style=\"color: #008000; text-decoration-color: #008000\">are seeing to help you manage your meds for ocd, anxiety, etc, that is the WRONG MOVE.  That is such a common </span>\n",
       "<span style=\"color: #008000; text-decoration-color: #008000\">mistake people are making, you NEED a psychiatrist in order to get the meds right, please do not just go to your </span>\n",
       "<span style=\"color: #008000; text-decoration-color: #008000\">regular doctor, you&amp;rsquo;ll be cheating yourself.\\r\\n\\r\\nI went to the psychiatrist appointment the next day.  It </span>\n",
       "<span style=\"color: #008000; text-decoration-color: #008000\">was the first time I had ever seen a psychiatrist.   I got into her room and we talked about everything, my </span>\n",
       "<span style=\"color: #008000; text-decoration-color: #008000\">childhood, my phobias, my ocd.  She then brought my parents into the room to explain the whole situation to them </span>\n",
       "<span style=\"color: #008000; text-decoration-color: #008000\">and the fact that I have a chemical imbalance in my brain and that I have been suffering for way too long.  My </span>\n",
       "<span style=\"color: #008000; text-decoration-color: #008000\">parents were so supportive.  The doctor told me I was on the wrong medication, that I never should have been placed</span>\n",
       "<span style=\"color: #008000; text-decoration-color: #008000\">on Effexor which is an SNRI, and that I should be on an SSRI considering my main problem is OCD and GAD.  We talked</span>\n",
       "<span style=\"color: #008000; text-decoration-color: #008000\">a lot about it and she told me she would like to place me on Prozac.  She said for me, because my neural pathways </span>\n",
       "<span style=\"color: #008000; text-decoration-color: #008000\">have been the same for 20 plus years, that I would need a higher dosage of Prozac especially for anxiety and OCD.  </span>\n",
       "<span style=\"color: #008000; text-decoration-color: #008000\">I see on this forum, that so many people are on 20mg, or 40mg for anxiety disorders.   You should be on 60mg at </span>\n",
       "<span style=\"color: #008000; text-decoration-color: #008000\">least, do not be afraid to go higher.  People that say Prozac or an SSRI didn&amp;rsquo;t really do anything for their </span>\n",
       "<span style=\"color: #008000; text-decoration-color: #008000\">anxiety or ocd is because they are only taking a 20mg dose,  That is not an OCD dose.  40-80mg for anxiety and OCD.</span>\n",
       "<span style=\"color: #008000; text-decoration-color: #008000\">Please up your dose.   Use the medication, REALLY USE IT.  Do not be afraid!\\r\\n\\r\\nMy doctor started me on 40mg, </span>\n",
       "<span style=\"color: #008000; text-decoration-color: #008000\">eventually took me to 100mg, and then I went back to 80mg.  Yes the side effects are insane, I was nauseated, I </span>\n",
       "<span style=\"color: #008000; text-decoration-color: #008000\">couldn&amp;rsquo;t sleep, I was shaking, I had anxiety, but she prescribed me Ativan and said to use it until the </span>\n",
       "<span style=\"color: #008000; text-decoration-color: #008000\">Prozac kicked in.  That the Ativan would keep me comfortable until that happened.  Don&amp;rsquo;t try to be a hero, </span>\n",
       "<span style=\"color: #008000; text-decoration-color: #008000\">use your Ativan or your Xanax or whatever to stay as comfortable as possible.\\r\\n\\r\\nI could write so much more, </span>\n",
       "<span style=\"color: #008000; text-decoration-color: #008000\">but I&amp;rsquo;ll conclude with this.  4 months after being on 80mg of Prozac everyday, I woke up one day and I was </span>\n",
       "<span style=\"color: #008000; text-decoration-color: #008000\">cured.   Yes cured.  I had no OCD, I had no anxiety, I no longer had fears or phobias.   I was cured.   You have no</span>\n",
       "<span style=\"color: #008000; text-decoration-color: #008000\">idea how that day felt.  It was like the first day of my whole entire life.  I woke up being the real me, who is </span>\n",
       "<span style=\"color: #008000; text-decoration-color: #008000\">free spirited and isn&amp;rsquo;t afraid of anything!  I was finally free, I was no longer a prisoner.  I didn&amp;rsquo;t </span>\n",
       "<span style=\"color: #008000; text-decoration-color: #008000\">even have to go to therapy.  I just woke up one day a brand new person, from taking a high dose of Prozac every </span>\n",
       "<span style=\"color: #008000; text-decoration-color: #008000\">single day.\\r\\n\\r\\nDO NOT go off of the antidepressants.   Your ocd, your anxiety, depression etc will come back.  </span>\n",
       "<span style=\"color: #008000; text-decoration-color: #008000\">I WOULD never dream or even think to come off of my antidepressants,  I have an illness, that will return if I go </span>\n",
       "<span style=\"color: #008000; text-decoration-color: #008000\">off the medication, because I have a brain disorder.  OCD is a brain disorder.  Do not stop taking medication for </span>\n",
       "<span style=\"color: #008000; text-decoration-color: #008000\">your brain disorder, do not try to fix your brain disorder with just a 20mg or 40mg dose.  Own your medication, be </span>\n",
       "<span style=\"color: #008000; text-decoration-color: #008000\">on it for life.\\r\\n\\r\\nIt&amp;rsquo;s been 5 years since I have been cured.  If it wasn&amp;rsquo;t for Prozac, I would be </span>\n",
       "<span style=\"color: #008000; text-decoration-color: #008000\">dead.\\r\\n\\r\\n1)\\tYou need a psychiatrist\\r\\n2)\\tDo not be afraid to take more than 40mg of Prozac to treat panic </span>\n",
       "<span style=\"color: #008000; text-decoration-color: #008000\">attacks etc,  I am on 80mg a day and my life is a ball.  It is so wonderful and so carefree.\\r\\n3)\\tDo not stop the</span>\n",
       "<span style=\"color: #008000; text-decoration-color: #008000\">meds.  Be on the meds for life.\"'</span>,\n",
       "        <span style=\"color: #008000; text-decoration-color: #008000\">'\"My Complicated experience with the insertion of the copper IUD. It was &amp;quot;one of the most difficult </span>\n",
       "<span style=\"color: #008000; text-decoration-color: #008000\">&amp;amp; Complicated IUD insertions I&amp;#039;ve had in a very long time&amp;quot; quoting the words of my Gynecologist MD. </span>\n",
       "<span style=\"color: #008000; text-decoration-color: #008000\">Now I have not been sexually active for over a year and a half (by choice) &amp;amp; I&amp;#039;ve never had kids so that </span>\n",
       "<span style=\"color: #008000; text-decoration-color: #008000\">for one was a concern for my doctor since she said i might be very tight &amp;amp; feel pain. Anywhom I am 23 and </span>\n",
       "<span style=\"color: #008000; text-decoration-color: #008000\">recently decided to date again &amp;amp; wanted to have a convinient birth control that won&amp;#039;t affect my weight or </span>\n",
       "<span style=\"color: #008000; text-decoration-color: #008000\">cause acne since acne has recently been a new battle for me, so my first step was hitting the Internet for options.</span>\n",
       "<span style=\"color: #008000; text-decoration-color: #008000\">After reading many reviews for multiple birth controls I decided on the copper para guard which is for 10-12 years.</span>\n",
       "<span style=\"color: #008000; text-decoration-color: #008000\">Now I went to my doctor and had a screening for STDs &amp;amp; HIV which is protocol to any birth control procedure. </span>\n",
       "<span style=\"color: #008000; text-decoration-color: #008000\">Then pregnancy tests were taken a few days before the insertion and the day of the insertion, after everything came</span>\n",
       "<span style=\"color: #008000; text-decoration-color: #008000\">out negative I was ready for my IUD. I was schedule to go in on Tuesday September 1, 2015 so I went in with </span>\n",
       "<span style=\"color: #008000; text-decoration-color: #008000\">anticipation of pain and I was very nervous. Mostly because it was something new for me to have a speculum inside </span>\n",
       "<span style=\"color: #008000; text-decoration-color: #008000\">me since I just had my first Pap smear ,ever, two weeks prior to the IUD insertion. As my doctor placed the </span>\n",
       "<span style=\"color: #008000; text-decoration-color: #008000\">speculum I had some discomfort, she had trouble finding my cervix, after some time she had everything positioned </span>\n",
       "<span style=\"color: #008000; text-decoration-color: #008000\">right and began to try and dilate my cervix, right when she started I began to feel extreme cramping. My doctor </span>\n",
       "<span style=\"color: #008000; text-decoration-color: #008000\">could not get her tool that she used to dilate my cervix to stay in, I was too tight due to the fact that I&amp;#039;ve</span>\n",
       "<span style=\"color: #008000; text-decoration-color: #008000\">never had kids so it wasn&amp;#039;t easy, my cervix kept pushing the prob out. She attempted a few more times until I </span>\n",
       "<span style=\"color: #008000; text-decoration-color: #008000\">couldn&amp;#039;t take the pain anymore because the cramping became so severe I began to cry. Now I know i sound </span>\n",
       "<span style=\"color: #008000; text-decoration-color: #008000\">ridiculous crying but I have a pretty high tolerance for pain &amp;amp; I never understood how many woman couldn&amp;#039;t</span>\n",
       "<span style=\"color: #008000; text-decoration-color: #008000\">take the cramping they had when on their period because I don&amp;#039;t experience cramping on my periods, at least </span>\n",
       "<span style=\"color: #008000; text-decoration-color: #008000\">until now. I now have so much more sympathy for those who do have this pain every month. My doctor gave me other </span>\n",
       "<span style=\"color: #008000; text-decoration-color: #008000\">birth control options because she wasn&amp;#039;t successful in Inserting the IUD but she knew I didn&amp;#039;t want </span>\n",
       "<span style=\"color: #008000; text-decoration-color: #008000\">others so she offered to use an anesthetic on my cervix to help with the insertion (which is not normally a part of</span>\n",
       "<span style=\"color: #008000; text-decoration-color: #008000\">the procedure but since I had a special case she offered this option to me). I was not happy with the fact that I </span>\n",
       "<span style=\"color: #008000; text-decoration-color: #008000\">had to have a needle inserted in my cervix but this was the birth control I wanted and I was going to do whatever </span>\n",
       "<span style=\"color: #008000; text-decoration-color: #008000\">to get it. I was in too much pain that day so I had to come back the next morning. So here I go Wednesday morning </span>\n",
       "<span style=\"color: #008000; text-decoration-color: #008000\">into my doctors office, laying down ready to get a needle inserted into my cervix which terrified me because I </span>\n",
       "<span style=\"color: #008000; text-decoration-color: #008000\">already knew how painful it was but I didn&amp;#039;t feel a thing when she put the anesthetic, I was told I would feel</span>\n",
       "<span style=\"color: #008000; text-decoration-color: #008000\">a slight sting and some burning sensation but I didn&amp;#039;t feel anything. It took her about 15 min to position the</span>\n",
       "<span style=\"color: #008000; text-decoration-color: #008000\">IUD correctly, she had to dilate me 8cm to get a good view and make sure I had a successful insertion. I felt </span>\n",
       "<span style=\"color: #008000; text-decoration-color: #008000\">NOTHING &amp;amp; then she was done. Right after she had me lay down for a few minutes then had me slowly sit up, I </span>\n",
       "<span style=\"color: #008000; text-decoration-color: #008000\">felt like I was going to faint, The MD said my eyes were not focusing on her and I was so pale. At that point my </span>\n",
       "<span style=\"color: #008000; text-decoration-color: #008000\">whole face and hands where numb. She stayed there with me until I regained full blood flow to my upper body. FYI my</span>\n",
       "<span style=\"color: #008000; text-decoration-color: #008000\">doctor said some woman actually faint after the procedure &amp;amp; in some rare cases they even have seizure because </span>\n",
       "<span style=\"color: #008000; text-decoration-color: #008000\">the pain of dilating the cervix is so intense. I was lucky of not having any cramps because my cervix was numb. 8 </span>\n",
       "<span style=\"color: #008000; text-decoration-color: #008000\">hrs later the numbness began to fade &amp;amp; the pain started, I got prescribed 600 Tylenol which helped a little. I </span>\n",
       "<span style=\"color: #008000; text-decoration-color: #008000\">spotted the next 3 days, I had to use pantie liners. Then my period came 1 week early just 4 days after I got my </span>\n",
       "<span style=\"color: #008000; text-decoration-color: #008000\">IUD placed, it was very heavy the first 3 days with medium cramping and my period lasted 5 1/2 days. My usual </span>\n",
       "<span style=\"color: #008000; text-decoration-color: #008000\">periods post the IUD was 4 days with only 1 heavy day. I have now had my IUD going on 3 weeks and I have little </span>\n",
       "<span style=\"color: #008000; text-decoration-color: #008000\">spotting every day so I use liners all the time. Now the part that I was most nervous about was the whole &amp;quot;me </span>\n",
       "<span style=\"color: #008000; text-decoration-color: #008000\">checking if I can feel the IUD strings&amp;quot; Its something I&amp;#039;m a bit uncomfortable doing mostly because </span>\n",
       "<span style=\"color: #008000; text-decoration-color: #008000\">I&amp;#039;ve never done it before so the first couple of times I tried to check for the strings I couldn&amp;#039;t feel </span>\n",
       "<span style=\"color: #008000; text-decoration-color: #008000\">anything so I began to freak out and rushed to my doctors office after my unsuccessful attempts. She said to wait </span>\n",
       "<span style=\"color: #008000; text-decoration-color: #008000\">until my first period was over and then to try again. I tried again after my period and I still couldn&amp;#039;t feel </span>\n",
       "<span style=\"color: #008000; text-decoration-color: #008000\">anything then I found a way to check that best fits me since I have small hands so I&amp;#039;ll share my wisdom with </span>\n",
       "<span style=\"color: #008000; text-decoration-color: #008000\">you guys lol. I check in the shower every morning I lift one leg as if I&amp;#039;m going to shave then I insert my </span>\n",
       "<span style=\"color: #008000; text-decoration-color: #008000\">pointer and I squat a little which helps and I&amp;#039;m able to feel the tip of the strings. I have not had any </span>\n",
       "<span style=\"color: #008000; text-decoration-color: #008000\">cramping since my period and my discharge has reduced. I&amp;#039;m very happy with my IUD &amp;amp; I plan on using it </span>\n",
       "<span style=\"color: #008000; text-decoration-color: #008000\">safely and responsibly as I have heard many woman have got pregnant with the IUD. I still plan on using condoms </span>\n",
       "<span style=\"color: #008000; text-decoration-color: #008000\">because of STDs and I got the IUD as a backup just in case. I plan on keeping it for the full 10 year unless there </span>\n",
       "<span style=\"color: #008000; text-decoration-color: #008000\">are any complications. Sorry for the long story but I for one would have loved to hear the entire experience </span>\n",
       "<span style=\"color: #008000; text-decoration-color: #008000\">someone had so I decided to share mine. Hope it helps at least one person :)\"'</span>\n",
       "    <span style=\"font-weight: bold\">]</span>,\n",
       "    <span style=\"color: #008000; text-decoration-color: #008000\">'rating'</span>: <span style=\"font-weight: bold\">[</span><span style=\"color: #008080; text-decoration-color: #008080; font-weight: bold\">2.0</span>, <span style=\"color: #008080; text-decoration-color: #008080; font-weight: bold\">10.0</span>, <span style=\"color: #008080; text-decoration-color: #008080; font-weight: bold\">10.0</span><span style=\"font-weight: bold\">]</span>,\n",
       "    <span style=\"color: #008000; text-decoration-color: #008000\">'date'</span>: <span style=\"font-weight: bold\">[</span><span style=\"color: #008000; text-decoration-color: #008000\">'June 18, 2017'</span>, <span style=\"color: #008000; text-decoration-color: #008000\">'May 26, 2017'</span>, <span style=\"color: #008000; text-decoration-color: #008000\">'September 17, 2015'</span><span style=\"font-weight: bold\">]</span>,\n",
       "    <span style=\"color: #008000; text-decoration-color: #008000\">'usefulCount'</span>: <span style=\"font-weight: bold\">[</span><span style=\"color: #008080; text-decoration-color: #008080; font-weight: bold\">9</span>, <span style=\"color: #008080; text-decoration-color: #008080; font-weight: bold\">148</span>, <span style=\"color: #008080; text-decoration-color: #008080; font-weight: bold\">43</span><span style=\"font-weight: bold\">]</span>,\n",
       "    <span style=\"color: #008000; text-decoration-color: #008000\">'review_length'</span>: <span style=\"font-weight: bold\">[</span><span style=\"color: #008080; text-decoration-color: #008080; font-weight: bold\">1857</span>, <span style=\"color: #008080; text-decoration-color: #008080; font-weight: bold\">1222</span>, <span style=\"color: #008080; text-decoration-color: #008080; font-weight: bold\">1107</span><span style=\"font-weight: bold\">]</span>\n",
       "<span style=\"font-weight: bold\">}</span>\n",
       "</pre>\n"
      ],
      "text/plain": [
       "\u001b[1m{\u001b[0m\n",
       "    \u001b[32m'patient_id'\u001b[0m: \u001b[1m[\u001b[0m\u001b[1;36m121004\u001b[0m, \u001b[1;36m181160\u001b[0m, \u001b[1;36m216072\u001b[0m\u001b[1m]\u001b[0m,\n",
       "    \u001b[32m'drugName'\u001b[0m: \u001b[1m[\u001b[0m\u001b[32m'Venlafaxine'\u001b[0m, \u001b[32m'Prozac'\u001b[0m, \u001b[32m'Copper'\u001b[0m\u001b[1m]\u001b[0m,\n",
       "    \u001b[32m'condition'\u001b[0m: \u001b[1m[\u001b[0m\u001b[32m'migraine'\u001b[0m, \u001b[32m'obsessive compulsive disorde'\u001b[0m, \u001b[32m'birth control'\u001b[0m\u001b[1m]\u001b[0m,\n",
       "    \u001b[32m'review'\u001b[0m: \u001b[1m[\u001b[0m\n",
       "        \u001b[32m'\"Two and a half months ago I was prescribed Venlafaxine to help prevent chronic migraines.\\r\\nIt did help \u001b[0m\n",
       "\u001b[32mthe migraines \u001b[0m\u001b[32m(\u001b[0m\u001b[32mreduced them by almost half\u001b[0m\u001b[32m)\u001b[0m\u001b[32m, but with it came a host of side effects that were far worse than the \u001b[0m\n",
       "\u001b[32mproblem I was trying to get rid of.\\r\\nHaving now come off of the stuff, I would not recommend anyone ever use \u001b[0m\n",
       "\u001b[32mVenlafaxine unless they suffer from extreme / suicidal depression. I mean extreme in the most emphatic sense of the\u001b[0m\n",
       "\u001b[32mword. \\r\\nBefore trying Venlafaxine, I was a writer. While on Venlafaxine, I could barely write or speak or \u001b[0m\n",
       "\u001b[32mcommunicate at all. More than that, I just didn&#039;t want to. Not normal for a usually outgoing \u001b[0m\n",
       "\u001b[32mextrovert.\\r\\nNow, I&#039;m beginning to write again - but my ability to speak and converse with others has \u001b[0m\n",
       "\u001b[32mdeteriorated by about 95%. Writing these words is taking forever; keeping up in conversation with even one person \u001b[0m\n",
       "\u001b[32mis impossible, and I barely see the point of trying either. On Venlafaxine, words pretty much left me - my \u001b[0m\n",
       "\u001b[32mconversational vocabulary  was whittled down to the following:\\r\\n&quot;Mmm&quot; for yes; a sharp and clipped \u001b[0m\n",
       "\u001b[32m&quot;Mm&quot; for &quot;No&quot;\\r\\n&quot;Okay.&quot;\\r\\n&quot;Really?&quot;\\r\\n&quot;Oh \u001b[0m\n",
       "\u001b[32mright.&quot;\\r\\n&quot;Cool.&quot;\\r\\n&quot;That sucks&quot;\\r\\nAt the moment, I&#039;m a week into withdrawal, and \u001b[0m\n",
       "\u001b[32mI have to try extremely hard just to make the most mundane small talk. Last night I went to a party with some close\u001b[0m\n",
       "\u001b[32mfriends, cheesy &#039;90s music, and a barbecue. About half of them are academics, and I couldn&#039;t keep up with\u001b[0m\n",
       "\u001b[32mconversations I normally would be able to; the other half like to dance and party, but I felt glued to my seat \u001b[0m\u001b[32m(\u001b[0m\u001b[32mas \u001b[0m\n",
       "\u001b[32mwell as practically mute\u001b[0m\u001b[32m)\u001b[0m\u001b[32m and eventually walked off and found a quiet sofa to lie down on.\\r\\nI have never felt so \u001b[0m\n",
       "\u001b[32misolated and lonely in my life. Thanks Venlafaxine.\\r\\nIf you consider yourself a social, creative, and curious \u001b[0m\n",
       "\u001b[32mperson, DO NOT TAKE EVEN ONE DOSE OF VENLAFAXINE. Unless of course you are extremely extremely depressed. I&#039;ve\u001b[0m\n",
       "\u001b[32msuffered from depression in the past, but only mildly. Venlafaxine has shown me what true depression feels \u001b[0m\n",
       "\u001b[32mlike.\\r\\nAs for the other side effects:\\r\\n- About two days&#039; worth of total joyful euphoria during the first \u001b[0m\n",
       "\u001b[32m48 hours of taking Venlafaxine. Anxiety of all kinds evaporated. This felt amazing - although I can&#039;t remember\u001b[0m\n",
       "\u001b[32mwhat it felt like now. At the time, this extremely brief effect was powerful enough to make me feel that pushing on\u001b[0m\n",
       "\u001b[32mwith Venlafaxine would be a Good Idea.\\r\\n- After that, I started feeling very sleepy. All the time. I slept more. \u001b[0m\n",
       "\u001b[32mNo euphoria; more anxiety.\\r\\n- A week later, the night sweats started. My room was pretty cold \u001b[0m\u001b[32m(\u001b[0m\u001b[32mit was only spring\u001b[0m\n",
       "\u001b[32min the UK\u001b[0m\u001b[32m)\u001b[0m\u001b[32m, but I sweated more than I ever have on any tropical holiday. This meant that despite being extremely \u001b[0m\n",
       "\u001b[32msleepy, I couldn&#039;t sleep.\\r\\nSince the side effects were supposed to wear off after six weeks or so, I stuck \u001b[0m\n",
       "\u001b[32mwith Venlafaxine for six weeks. Over that time I became so sleep deprived that I lived in a state of permanent \u001b[0m\n",
       "\u001b[32mexhaustion.\\r\\nEnter the writer&#039;s worst enemy: Brain fog. I spent entire days so braindead that the most \u001b[0m\n",
       "\u001b[32mchallenging thing I could manage was staring blankly at a wall - or lifting my phone to read text messages and \u001b[0m\n",
       "\u001b[32mattempt to learn something from articles about Venlafaxine. I&#039;ve read the same articles countless times, but \u001b[0m\n",
       "\u001b[32mnothing sank in; every time I read the same article it felt like I was reading it for the first time. I recognised \u001b[0m\n",
       "\u001b[32mthe layout and design of each webpage, and that way I was able to realise I&#039;d read it before, but the actual \u001b[0m\n",
       "\u001b[32mtext went in one eye and out the other.\\r\\nIn conversation, I had a brain like a sieve. Words went in one ear and \u001b[0m\n",
       "\u001b[32mout the other. Normally, I could pump out a lot of writing on a regular basis; on Venlafaxine, I wrote a small and \u001b[0m\n",
       "\u001b[32mfrankly pitiful handful of short and uninspired pieces, and that was it. If you love being productive and creative,\u001b[0m\n",
       "\u001b[32mdo not go near Venlafaxine.\\r\\nThe above was my life for six weeks - and that was enough. I did see family and \u001b[0m\n",
       "\u001b[32mfriends while on Venlafaxine, but I constantly forgot what was going on and must have seemed scatterbrained or \u001b[0m\n",
       "\u001b[32mborderline retarded at times. Although I did explain to people what was going on with my medication, it just seemed\u001b[0m\n",
       "\u001b[32mto make people uncomfortable - and I&#039;ve now become the butt of a lot of jokes relating to my consistent \u001b[0m\n",
       "\u001b[32muselessness at everything from chatting to party games and my inability to work or do anything productive. Someone \u001b[0m\n",
       "\u001b[32meven compared me to Lenny from Of Mice And Men and asked when my family were going to take me into the back garden \u001b[0m\n",
       "\u001b[32mand shoot me in the head rather than continue to care for me. All of this contributed to the worst feeling of \u001b[0m\n",
       "\u001b[32mloneliness and isolation I have ever experienced in my life.\\r\\nVenlafaxine not only trapped me inside my head - it\u001b[0m\n",
       "\u001b[32malso emptied my head of anything worth remembering, and left me barely able to learn new things. \\r\\nI&#039;d sit \u001b[0m\n",
       "\u001b[32maround tables with people and realise I couldn&#039;t remember the names of people I&#039;d know for years - or \u001b[0m\n",
       "\u001b[32meven family members. \\r\\nI&#039;d hear a song playing and say &quot;Hey - what&#039;s the name of this \u001b[0m\n",
       "\u001b[32mdance?&quot;\\r\\nAny sentence longer than a few words requires a minute or so to compose when written. Spoken out \u001b[0m\n",
       "\u001b[32mloud? Forget about it. When I try to speak, I sound like the Goon from Popeye.\\r\\nAfter six weeks of hell, my \u001b[0m\n",
       "\u001b[32mdoctor and I agreed to taper off my 75mg daily dose. This process lasted a month, not following a particular \u001b[0m\n",
       "\u001b[32mschedule \u001b[0m\u001b[32m(\u001b[0m\u001b[32mwhich might have been a better idea\u001b[0m\u001b[32m)\u001b[0m\u001b[32m, and was mostly side effect free until I came down to 18.25mg a day \u001b[0m\n",
       "\u001b[32m- one half of one 37.5mg tablet.\\r\\nAfter three days of that, it really hit the fan. I got up one day, pottered \u001b[0m\n",
       "\u001b[32maround a bit, and suddenly decided that I wanted to kill myself. Literally out of nowhere.\\r\\nFortunately I was of \u001b[0m\n",
       "\u001b[32msound enough mind to call the Samaritans, who recommended I call the emergency services, who sent an ambulance to \u001b[0m\n",
       "\u001b[32mtake me to hospital. For suicidal thoughts. \\r\\nTo be honest, I&#039;d rather have gone to Disneyland.\\r\\nOnce I \u001b[0m\n",
       "\u001b[32mwas in A&amp;E, I got to wait for several hours, just stewing in a room with a sofa and not much else. Then I met \u001b[0m\n",
       "\u001b[32mthe most useless doctor of all time. After I refused his suggestion that I not only go back on Venlafaxine, but \u001b[0m\n",
       "\u001b[32m*try a higher dose* than the one that got me into this mess in the first place, he said there wasn&#039;t anything \u001b[0m\n",
       "\u001b[32melse they could do - and handed me a little leaflet for a local mental health charity meetup that happens every so \u001b[0m\n",
       "\u001b[32moften.\\r\\nBy this point I&#039;d decided that suicide would not be the best option - and nor would going on even \u001b[0m\n",
       "\u001b[32mmore Venlafaxine than before. I also binned the leaflet on my way out, determined to keep going and just deal with \u001b[0m\n",
       "\u001b[32mthe withdrawal.\\r\\nSince that time, my intelligence level has plummeted to the point of being humiliating. But \u001b[0m\n",
       "\u001b[32mthat&#039;s not even the worst of it.\\r\\nAs I mentioned before, I started taking Venlafaxine for migraines. Now \u001b[0m\n",
       "\u001b[32mthat I&#039;m not taking it, they&#039;re coming back again - but they&#039;ve also changed.\\r\\nA few days ago, \u001b[0m\n",
       "\u001b[32mdays before the party I should probably have stayed home for only I couldn&#039;t stand sitting at home any longer \u001b[0m\n",
       "\u001b[32mso I went and ended up alone in a darkened room and felt more depressed than I have in my entire life, I was at \u001b[0m\n",
       "\u001b[32mhome when I collapsed. The right side of my body gave way, I hit the wall, and fell on the floor where I lay frozen\u001b[0m\n",
       "\u001b[32mfor God knows how long. Then when I did get up, I realised I couldn&#039;t speak at all, the right side of my body \u001b[0m\n",
       "\u001b[32mwas almost paralysed, and the right side of my head was numb on the outside, and in agony on the inside.\\r\\nAfter \u001b[0m\n",
       "\u001b[32mcalling the emergency services again, I was taken through the standard questions I guess they ask everyone when \u001b[0m\n",
       "\u001b[32mthey think the person in question is having a stroke. Like the suicidal thoughts, stroke symptoms were a new \u001b[0m\n",
       "\u001b[32mexperience for me. Thanks, Venlafaxine.\\r\\nWhen the ambulance arrived, they were able to reassure me that I \u001b[0m\n",
       "\u001b[32mwasn&#039;t having a stroke, as one side of my face wasn&#039;t drooping. This was good news - but since they \u001b[0m\n",
       "\u001b[32mcouldn&#039;t explain what was actually going on, I was taking to hospital for a brain scan and blood tests and a \u001b[0m\n",
       "\u001b[32mmeeting with a doctor who told me I&#039;d had a right-sided hemiplegic migraine. I&#039;d never had one before, \u001b[0m\n",
       "\u001b[32mand didn&#039;t know they existed until then; my migraines have always felt like my head is both in a vice and \u001b[0m\n",
       "\u001b[32mexploding at the same time, and I get them across my whole head, not just one side.\\r\\nAt this point, I&#039;m \u001b[0m\n",
       "\u001b[32mdetermined to continue fighting the withdrawal symptoms. The only thing that&#039;s really helped me in doing this \u001b[0m\n",
       "\u001b[32mwas the discovery of a cognitive distortion called &quot;emotional reasoning&quot;. This involves assuming that \u001b[0m\n",
       "\u001b[32mbecause you feel bad, things must actually be bad.\\r\\nObviously emotional reasoning \u001b[0m\u001b[32m(\u001b[0m\u001b[32mwhich is worth Googling as \u001b[0m\n",
       "\u001b[32mit&#039;s quite an in depth subject, or at least feels like it given that my brain&#039;s been hopefully \u001b[0m\n",
       "\u001b[32mtemporarily damaged by Venlafaxine\u001b[0m\u001b[32m)\u001b[0m\u001b[32m is pretty common in depression. It&#039;s also been my brain&#039;s default way\u001b[0m\n",
       "\u001b[32mof operating possibly for as long as I can remember, but definitely since I started taking Venlafaxine. The \u001b[0m\n",
       "\u001b[32memotional and physical and psychological rollercoaster Venlafaxine puts you through is utterly exhausting - and \u001b[0m\n",
       "\u001b[32mwhile it&#039;s throwing you all over the place and especially during withdrawal it&#039;s tough to keep in mind \u001b[0m\n",
       "\u001b[32mthat a lot of the negative thoughts your mind throws up are going to be based on how you feel \u001b[0m\u001b[32m(\u001b[0m\u001b[32mi.e. the levels and \u001b[0m\n",
       "\u001b[32mmix of different chemicals in your brain\u001b[0m\u001b[32m)\u001b[0m\u001b[32m, NOT on any Real Life Stuff. You&#039;ll most likely unintentionally \u001b[0m\n",
       "\u001b[32mfilter out all the good stuff in your brain and only remember the darkest and worst things you possibly can, and \u001b[0m\n",
       "\u001b[32mattach all kinds of apparently logical arguments to make a case against yourself / a case that argues that you and \u001b[0m\n",
       "\u001b[32myour life are awful.\\r\\nLooking back on this experience, my thoughts were similar to one of those films you see \u001b[0m\n",
       "\u001b[32madvertised as &quot;...based on a true story&quot;. Works of fiction based very loosely on facts.\\r\\nRather than a \u001b[0m\n",
       "\u001b[32mfilm you&#039;d give two stars and never watch again, emotional reasoning&#039;s end product is a lie - not to \u001b[0m\n",
       "\u001b[32mmention the most toxic thoughts a human being can think. Depression can definitely make people tell these lies to \u001b[0m\n",
       "\u001b[32mthemselves - but Venlafaxine made my brain malfunction so badly that putting together an apparently sensible \u001b[0m\n",
       "\u001b[32margument for any depressive thoughts suddenly seemed like the most obvious thing in the world one day.\\r\\nIf I \u001b[0m\n",
       "\u001b[32mhadn&#039;t had those thoughts, I would&#039;ve just made lunch.\\r\\nSo that&#039;s about it for now - if I \u001b[0m\n",
       "\u001b[32mdon&#039;t update this story in the future, assume I got better and decided to never revisit this page again, \u001b[0m\n",
       "\u001b[32mpreferring to leave Venlafaxine and its horrific toxicity behind me. Good luck with your own journey :\u001b[0m\u001b[32m)\u001b[0m\u001b[32m\"'\u001b[0m,\n",
       "        \u001b[32m'\"I don&rsquo;t find a lot of positive stories about antidepressants, or I find stories where people are \u001b[0m\n",
       "\u001b[32mtaking the antidepressant the wrong way.\\r\\n\\r\\nI wanted to share my experience.  A positive one.\\r\\n\\r\\nI&rsquo;ve\u001b[0m\n",
       "\u001b[32mhad generalized anxiety disorder, SEVERE OCD, and panic disorder for as long as I can remember.  My first memory of\u001b[0m\n",
       "\u001b[32mhaving an episode was when I was 4 years old at my kindergarten interview.  I feel as though I was born with the \u001b[0m\n",
       "\u001b[32millnesses mentioned above, right from the womb.  When I was a child I was extremely anxious, had bad separation \u001b[0m\n",
       "\u001b[32manxiety from my parents and had extreme OCD, I was just a kid and thought that the way I was feeling is how all \u001b[0m\n",
       "\u001b[32mkids felt, I didn&rsquo;t realize that I was different.  This went on, and got even worse in middle school.  I \u001b[0m\n",
       "\u001b[32mbegan developing trichtilomania in middle school.  In high school I went from being a 90% above student, to failing\u001b[0m\n",
       "\u001b[32mevery class within a couple of years.  I couldn&rsquo;t leave the house.  My panic disorder and gad caused \u001b[0m\n",
       "\u001b[32mdebilitating physical symptoms.  I would be shaking when I had to leave the house, I wouldn&rsquo;t drink alcohol \u001b[0m\n",
       "\u001b[32mbecause I was afraid of vomiting, I was suffering so much, for my whole entire life with severe phobias, fears, and\u001b[0m\n",
       "\u001b[32manxiety.  I prayed and prayed and prayed to God every night for it to go away.  I was a 16 year old living in a \u001b[0m\n",
       "\u001b[32mprison of her own mind.  It never went away.  Every single day was the worst day of my life, I would wake up and \u001b[0m\n",
       "\u001b[32mthe thoughts just started,  I never had a break.  My life was exhausting.\\r\\n\\r\\nI am of east indian background and\u001b[0m\n",
       "\u001b[32mmy parents didn&rsquo;t understand mental illness well.  It is very taboo in my culture.  I went to tons of doctors\u001b[0m\n",
       "\u001b[32mand they told me it was just growing pains,  no doctor ever told me that maybe I should see a therapist.  I \u001b[0m\n",
       "\u001b[32mdidn&rsquo;t have any support.  When I was 22 I attempted suicide.  Luckily the attempt didn&rsquo;t work and I was\u001b[0m\n",
       "\u001b[32mforced to go on medication.  I was livid, I was so against antidepressants, I was so so so scared, it felt \u001b[0m\n",
       "\u001b[32munnatural. My general practitioner put me on Effexor, I took it for almost 8 weeks, it helped me to not want to \u001b[0m\n",
       "\u001b[32mkill myself, but It also made me gain tons of weight which made me depressed, and it make me hear voices.  One \u001b[0m\n",
       "\u001b[32mevening a voice told me to choke my mom, and I started freaking out and my parents drove me immediately to the \u001b[0m\n",
       "\u001b[32mhospital.  At the hospital I talked to a psych nurse who calmed me down, and got me an appointment with a \u001b[0m\n",
       "\u001b[32mpsychiatrist the next day.  This appointment and this psychiatrist saved my life, and changed my entire \u001b[0m\n",
       "\u001b[32mlife.\\r\\n\\r\\nI want to really mention that you should not be going to a General Practitioner for mental illness \u001b[0m\n",
       "\u001b[32mmedication, you should ALWAYS&hellip;ALWAYS go to a psychiatrist no matter what.  If your GP is the only person you\u001b[0m\n",
       "\u001b[32mare seeing to help you manage your meds for ocd, anxiety, etc, that is the WRONG MOVE.  That is such a common \u001b[0m\n",
       "\u001b[32mmistake people are making, you NEED a psychiatrist in order to get the meds right, please do not just go to your \u001b[0m\n",
       "\u001b[32mregular doctor, you&rsquo;ll be cheating yourself.\\r\\n\\r\\nI went to the psychiatrist appointment the next day.  It \u001b[0m\n",
       "\u001b[32mwas the first time I had ever seen a psychiatrist.   I got into her room and we talked about everything, my \u001b[0m\n",
       "\u001b[32mchildhood, my phobias, my ocd.  She then brought my parents into the room to explain the whole situation to them \u001b[0m\n",
       "\u001b[32mand the fact that I have a chemical imbalance in my brain and that I have been suffering for way too long.  My \u001b[0m\n",
       "\u001b[32mparents were so supportive.  The doctor told me I was on the wrong medication, that I never should have been placed\u001b[0m\n",
       "\u001b[32mon Effexor which is an SNRI, and that I should be on an SSRI considering my main problem is OCD and GAD.  We talked\u001b[0m\n",
       "\u001b[32ma lot about it and she told me she would like to place me on Prozac.  She said for me, because my neural pathways \u001b[0m\n",
       "\u001b[32mhave been the same for 20 plus years, that I would need a higher dosage of Prozac especially for anxiety and OCD.  \u001b[0m\n",
       "\u001b[32mI see on this forum, that so many people are on 20mg, or 40mg for anxiety disorders.   You should be on 60mg at \u001b[0m\n",
       "\u001b[32mleast, do not be afraid to go higher.  People that say Prozac or an SSRI didn&rsquo;t really do anything for their \u001b[0m\n",
       "\u001b[32manxiety or ocd is because they are only taking a 20mg dose,  That is not an OCD dose.  40-80mg for anxiety and OCD.\u001b[0m\n",
       "\u001b[32mPlease up your dose.   Use the medication, REALLY USE IT.  Do not be afraid!\\r\\n\\r\\nMy doctor started me on 40mg, \u001b[0m\n",
       "\u001b[32meventually took me to 100mg, and then I went back to 80mg.  Yes the side effects are insane, I was nauseated, I \u001b[0m\n",
       "\u001b[32mcouldn&rsquo;t sleep, I was shaking, I had anxiety, but she prescribed me Ativan and said to use it until the \u001b[0m\n",
       "\u001b[32mProzac kicked in.  That the Ativan would keep me comfortable until that happened.  Don&rsquo;t try to be a hero, \u001b[0m\n",
       "\u001b[32muse your Ativan or your Xanax or whatever to stay as comfortable as possible.\\r\\n\\r\\nI could write so much more, \u001b[0m\n",
       "\u001b[32mbut I&rsquo;ll conclude with this.  4 months after being on 80mg of Prozac everyday, I woke up one day and I was \u001b[0m\n",
       "\u001b[32mcured.   Yes cured.  I had no OCD, I had no anxiety, I no longer had fears or phobias.   I was cured.   You have no\u001b[0m\n",
       "\u001b[32midea how that day felt.  It was like the first day of my whole entire life.  I woke up being the real me, who is \u001b[0m\n",
       "\u001b[32mfree spirited and isn&rsquo;t afraid of anything!  I was finally free, I was no longer a prisoner.  I didn&rsquo;t \u001b[0m\n",
       "\u001b[32meven have to go to therapy.  I just woke up one day a brand new person, from taking a high dose of Prozac every \u001b[0m\n",
       "\u001b[32msingle day.\\r\\n\\r\\nDO NOT go off of the antidepressants.   Your ocd, your anxiety, depression etc will come back.  \u001b[0m\n",
       "\u001b[32mI WOULD never dream or even think to come off of my antidepressants,  I have an illness, that will return if I go \u001b[0m\n",
       "\u001b[32moff the medication, because I have a brain disorder.  OCD is a brain disorder.  Do not stop taking medication for \u001b[0m\n",
       "\u001b[32myour brain disorder, do not try to fix your brain disorder with just a 20mg or 40mg dose.  Own your medication, be \u001b[0m\n",
       "\u001b[32mon it for life.\\r\\n\\r\\nIt&rsquo;s been 5 years since I have been cured.  If it wasn&rsquo;t for Prozac, I would be \u001b[0m\n",
       "\u001b[32mdead.\\r\\n\\r\\n1\u001b[0m\u001b[32m)\u001b[0m\u001b[32m\\tYou need a psychiatrist\\r\\n2\u001b[0m\u001b[32m)\u001b[0m\u001b[32m\\tDo not be afraid to take more than 40mg of Prozac to treat panic \u001b[0m\n",
       "\u001b[32mattacks etc,  I am on 80mg a day and my life is a ball.  It is so wonderful and so carefree.\\r\\n3\u001b[0m\u001b[32m)\u001b[0m\u001b[32m\\tDo not stop the\u001b[0m\n",
       "\u001b[32mmeds.  Be on the meds for life.\"'\u001b[0m,\n",
       "        \u001b[32m'\"My Complicated experience with the insertion of the copper IUD. It was &quot;one of the most difficult \u001b[0m\n",
       "\u001b[32m&amp; Complicated IUD insertions I&#039;ve had in a very long time&quot; quoting the words of my Gynecologist MD. \u001b[0m\n",
       "\u001b[32mNow I have not been sexually active for over a year and a half \u001b[0m\u001b[32m(\u001b[0m\u001b[32mby choice\u001b[0m\u001b[32m)\u001b[0m\u001b[32m &amp; I&#039;ve never had kids so that \u001b[0m\n",
       "\u001b[32mfor one was a concern for my doctor since she said i might be very tight &amp; feel pain. Anywhom I am 23 and \u001b[0m\n",
       "\u001b[32mrecently decided to date again &amp; wanted to have a convinient birth control that won&#039;t affect my weight or \u001b[0m\n",
       "\u001b[32mcause acne since acne has recently been a new battle for me, so my first step was hitting the Internet for options.\u001b[0m\n",
       "\u001b[32mAfter reading many reviews for multiple birth controls I decided on the copper para guard which is for 10-12 years.\u001b[0m\n",
       "\u001b[32mNow I went to my doctor and had a screening for STDs &amp; HIV which is protocol to any birth control procedure. \u001b[0m\n",
       "\u001b[32mThen pregnancy tests were taken a few days before the insertion and the day of the insertion, after everything came\u001b[0m\n",
       "\u001b[32mout negative I was ready for my IUD. I was schedule to go in on Tuesday September 1, 2015 so I went in with \u001b[0m\n",
       "\u001b[32manticipation of pain and I was very nervous. Mostly because it was something new for me to have a speculum inside \u001b[0m\n",
       "\u001b[32mme since I just had my first Pap smear ,ever, two weeks prior to the IUD insertion. As my doctor placed the \u001b[0m\n",
       "\u001b[32mspeculum I had some discomfort, she had trouble finding my cervix, after some time she had everything positioned \u001b[0m\n",
       "\u001b[32mright and began to try and dilate my cervix, right when she started I began to feel extreme cramping. My doctor \u001b[0m\n",
       "\u001b[32mcould not get her tool that she used to dilate my cervix to stay in, I was too tight due to the fact that I&#039;ve\u001b[0m\n",
       "\u001b[32mnever had kids so it wasn&#039;t easy, my cervix kept pushing the prob out. She attempted a few more times until I \u001b[0m\n",
       "\u001b[32mcouldn&#039;t take the pain anymore because the cramping became so severe I began to cry. Now I know i sound \u001b[0m\n",
       "\u001b[32mridiculous crying but I have a pretty high tolerance for pain &amp; I never understood how many woman couldn&#039;t\u001b[0m\n",
       "\u001b[32mtake the cramping they had when on their period because I don&#039;t experience cramping on my periods, at least \u001b[0m\n",
       "\u001b[32muntil now. I now have so much more sympathy for those who do have this pain every month. My doctor gave me other \u001b[0m\n",
       "\u001b[32mbirth control options because she wasn&#039;t successful in Inserting the IUD but she knew I didn&#039;t want \u001b[0m\n",
       "\u001b[32mothers so she offered to use an anesthetic on my cervix to help with the insertion \u001b[0m\u001b[32m(\u001b[0m\u001b[32mwhich is not normally a part of\u001b[0m\n",
       "\u001b[32mthe procedure but since I had a special case she offered this option to me\u001b[0m\u001b[32m)\u001b[0m\u001b[32m. I was not happy with the fact that I \u001b[0m\n",
       "\u001b[32mhad to have a needle inserted in my cervix but this was the birth control I wanted and I was going to do whatever \u001b[0m\n",
       "\u001b[32mto get it. I was in too much pain that day so I had to come back the next morning. So here I go Wednesday morning \u001b[0m\n",
       "\u001b[32minto my doctors office, laying down ready to get a needle inserted into my cervix which terrified me because I \u001b[0m\n",
       "\u001b[32malready knew how painful it was but I didn&#039;t feel a thing when she put the anesthetic, I was told I would feel\u001b[0m\n",
       "\u001b[32ma slight sting and some burning sensation but I didn&#039;t feel anything. It took her about 15 min to position the\u001b[0m\n",
       "\u001b[32mIUD correctly, she had to dilate me 8cm to get a good view and make sure I had a successful insertion. I felt \u001b[0m\n",
       "\u001b[32mNOTHING &amp; then she was done. Right after she had me lay down for a few minutes then had me slowly sit up, I \u001b[0m\n",
       "\u001b[32mfelt like I was going to faint, The MD said my eyes were not focusing on her and I was so pale. At that point my \u001b[0m\n",
       "\u001b[32mwhole face and hands where numb. She stayed there with me until I regained full blood flow to my upper body. FYI my\u001b[0m\n",
       "\u001b[32mdoctor said some woman actually faint after the procedure &amp; in some rare cases they even have seizure because \u001b[0m\n",
       "\u001b[32mthe pain of dilating the cervix is so intense. I was lucky of not having any cramps because my cervix was numb. 8 \u001b[0m\n",
       "\u001b[32mhrs later the numbness began to fade &amp; the pain started, I got prescribed 600 Tylenol which helped a little. I \u001b[0m\n",
       "\u001b[32mspotted the next 3 days, I had to use pantie liners. Then my period came 1 week early just 4 days after I got my \u001b[0m\n",
       "\u001b[32mIUD placed, it was very heavy the first 3 days with medium cramping and my period lasted 5 1/2 days. My usual \u001b[0m\n",
       "\u001b[32mperiods post the IUD was 4 days with only 1 heavy day. I have now had my IUD going on 3 weeks and I have little \u001b[0m\n",
       "\u001b[32mspotting every day so I use liners all the time. Now the part that I was most nervous about was the whole &quot;me \u001b[0m\n",
       "\u001b[32mchecking if I can feel the IUD strings&quot; Its something I&#039;m a bit uncomfortable doing mostly because \u001b[0m\n",
       "\u001b[32mI&#039;ve never done it before so the first couple of times I tried to check for the strings I couldn&#039;t feel \u001b[0m\n",
       "\u001b[32manything so I began to freak out and rushed to my doctors office after my unsuccessful attempts. She said to wait \u001b[0m\n",
       "\u001b[32muntil my first period was over and then to try again. I tried again after my period and I still couldn&#039;t feel \u001b[0m\n",
       "\u001b[32manything then I found a way to check that best fits me since I have small hands so I&#039;ll share my wisdom with \u001b[0m\n",
       "\u001b[32myou guys lol. I check in the shower every morning I lift one leg as if I&#039;m going to shave then I insert my \u001b[0m\n",
       "\u001b[32mpointer and I squat a little which helps and I&#039;m able to feel the tip of the strings. I have not had any \u001b[0m\n",
       "\u001b[32mcramping since my period and my discharge has reduced. I&#039;m very happy with my IUD &amp; I plan on using it \u001b[0m\n",
       "\u001b[32msafely and responsibly as I have heard many woman have got pregnant with the IUD. I still plan on using condoms \u001b[0m\n",
       "\u001b[32mbecause of STDs and I got the IUD as a backup just in case. I plan on keeping it for the full 10 year unless there \u001b[0m\n",
       "\u001b[32mare any complications. Sorry for the long story but I for one would have loved to hear the entire experience \u001b[0m\n",
       "\u001b[32msomeone had so I decided to share mine. Hope it helps at least one person :\u001b[0m\u001b[32m)\u001b[0m\u001b[32m\"'\u001b[0m\n",
       "    \u001b[1m]\u001b[0m,\n",
       "    \u001b[32m'rating'\u001b[0m: \u001b[1m[\u001b[0m\u001b[1;36m2.0\u001b[0m, \u001b[1;36m10.0\u001b[0m, \u001b[1;36m10.0\u001b[0m\u001b[1m]\u001b[0m,\n",
       "    \u001b[32m'date'\u001b[0m: \u001b[1m[\u001b[0m\u001b[32m'June 18, 2017'\u001b[0m, \u001b[32m'May 26, 2017'\u001b[0m, \u001b[32m'September 17, 2015'\u001b[0m\u001b[1m]\u001b[0m,\n",
       "    \u001b[32m'usefulCount'\u001b[0m: \u001b[1m[\u001b[0m\u001b[1;36m9\u001b[0m, \u001b[1;36m148\u001b[0m, \u001b[1;36m43\u001b[0m\u001b[1m]\u001b[0m,\n",
       "    \u001b[32m'review_length'\u001b[0m: \u001b[1m[\u001b[0m\u001b[1;36m1857\u001b[0m, \u001b[1;36m1222\u001b[0m, \u001b[1;36m1107\u001b[0m\u001b[1m]\u001b[0m\n",
       "\u001b[1m}\u001b[0m\n"
      ]
     },
     "metadata": {},
     "output_type": "display_data"
    }
   ],
   "source": [
    "# Sort by the length of the review\n",
    "print(drug_dataset_1.get(\"train\").sort(column_names=\"review_length\", reverse=True)[:3])\n",
    "# drug_dataset_1.sort()"
   ]
  },
  {
   "cell_type": "code",
   "execution_count": 27,
   "metadata": {},
   "outputs": [
    {
     "data": {
      "text/plain": [
       "{'train': 139894, 'test': 46552}"
      ]
     },
     "execution_count": 27,
     "metadata": {},
     "output_type": "execute_result"
    }
   ],
   "source": [
    "# Drop review lwngths that are less than 30\n",
    "drug_dataset_2: DatasetDict = drug_dataset_1.filter(\n",
    "    lambda x: x.get(\"review_length\") >= 30\n",
    ")\n",
    "\n",
    "drug_dataset_2.num_rows"
   ]
  },
  {
   "cell_type": "code",
   "execution_count": 28,
   "metadata": {},
   "outputs": [
    {
     "data": {
      "text/plain": [
       "\"I'm a transformer called BERT\""
      ]
     },
     "execution_count": 28,
     "metadata": {},
     "output_type": "execute_result"
    }
   ],
   "source": [
    "# The last thing we need to deal with is the presence of HTML character codes in our reviews.\n",
    "# We can use Python’s html module to unescape these characters, like so:\n",
    "\n",
    "import html\n",
    "\n",
    "\n",
    "text = \"I&#039;m a transformer called BERT\"\n",
    "html.unescape(text)"
   ]
  },
  {
   "cell_type": "code",
   "execution_count": 29,
   "metadata": {},
   "outputs": [
    {
     "data": {
      "text/plain": [
       "DatasetDict({\n",
       "    train: Dataset({\n",
       "        features: ['patient_id', 'drugName', 'condition', 'review', 'rating', 'date', 'usefulCount', 'review_length'],\n",
       "        num_rows: 139894\n",
       "    })\n",
       "    test: Dataset({\n",
       "        features: ['patient_id', 'drugName', 'condition', 'review', 'rating', 'date', 'usefulCount', 'review_length'],\n",
       "        num_rows: 46552\n",
       "    })\n",
       "})"
      ]
     },
     "execution_count": 29,
     "metadata": {},
     "output_type": "execute_result"
    }
   ],
   "source": [
    "# Drop the HTML character codes\n",
    "# This approach is slower\n",
    "drug_dataset_2.map(lambda x: {\"review\": html.unescape(x.get(\"review\"))})"
   ]
  },
  {
   "cell_type": "markdown",
   "metadata": {},
   "source": [
    "#### Note\n",
    "\n",
    "```text\n",
    "- The Dataset.map() method can be used with the batched argument set to True to process multiple examples at once, improving processing speed. \n",
    "- The function receives a dictionary with fields as lists and returns a similar dictionary with updated or added values.\n",
    "```"
   ]
  },
  {
   "cell_type": "code",
   "execution_count": 30,
   "metadata": {},
   "outputs": [],
   "source": [
    "# Drop the HTML character codes\n",
    "# This approach is faster (recommended)\n",
    "drug_dataset_2 = drug_dataset_2.map(\n",
    "    lambda x: {\"review\": [html.unescape(obj) for obj in x.get(\"review\")]}, batched=True\n",
    ")"
   ]
  },
  {
   "cell_type": "code",
   "execution_count": 31,
   "metadata": {},
   "outputs": [
    {
     "data": {
      "text/html": [
       "<pre style=\"white-space:pre;overflow-x:auto;line-height:normal;font-family:Menlo,'DejaVu Sans Mono',consolas,'Courier New',monospace\">\"I have taken anti-depressants for years, with some improvement but mostly moderate to severe side affects, which \n",
       "makes me go off them.\n",
       "\n",
       "I only take Cymbalta now mostly for pain.\n",
       "\n",
       "When I began Deplin, I noticed a major improvement overnight. More energy, better disposition, and no sinking to \n",
       "the low lows of major depression. I have been taking it for about <span style=\"color: #008080; text-decoration-color: #008080; font-weight: bold\">3</span> months now and feel like a normal person for \n",
       "the first time ever. Best thing, no side effects.\"\n",
       "</pre>\n"
      ],
      "text/plain": [
       "\"I have taken anti-depressants for years, with some improvement but mostly moderate to severe side affects, which \n",
       "makes me go off them.\n",
       "\n",
       "I only take Cymbalta now mostly for pain.\n",
       "\n",
       "When I began Deplin, I noticed a major improvement overnight. More energy, better disposition, and no sinking to \n",
       "the low lows of major depression. I have been taking it for about \u001b[1;36m3\u001b[0m months now and feel like a normal person for \n",
       "the first time ever. Best thing, no side effects.\"\n"
      ]
     },
     "metadata": {},
     "output_type": "display_data"
    }
   ],
   "source": [
    "print(drug_dataset_2.get(\"train\")[10].get(\"review\"))"
   ]
  },
  {
   "cell_type": "markdown",
   "metadata": {},
   "source": [
    "#### Tokenize The Texts"
   ]
  },
  {
   "cell_type": "code",
   "execution_count": 32,
   "metadata": {},
   "outputs": [],
   "source": [
    "from transformers import AutoTokenizer\n",
    "\n",
    "\n",
    "CHECKPOINT: str = \"bert-base-cased\"\n",
    "tokenizer = AutoTokenizer.from_pretrained(CHECKPOINT)\n",
    "\n",
    "\n",
    "def tokenize_function(examples: dict[str, Any]) -> dict[str, Any]:\n",
    "    \"\"\"This is used to tokenize the text. It returns a dict containing the\n",
    "    input_ids, token_type_ids and attention_mask.\"\"\"\n",
    "    return tokenizer(examples.get(\"review\"), truncation=True)"
   ]
  },
  {
   "cell_type": "code",
   "execution_count": 33,
   "metadata": {},
   "outputs": [
    {
     "data": {
      "text/html": [
       "<pre style=\"white-space:pre;overflow-x:auto;line-height:normal;font-family:Menlo,'DejaVu Sans Mono',consolas,'Courier New',monospace\"><span style=\"font-weight: bold\">{</span>\n",
       "    <span style=\"color: #008000; text-decoration-color: #008000\">'input_ids'</span>: <span style=\"font-weight: bold\">[</span><span style=\"color: #008080; text-decoration-color: #008080; font-weight: bold\">101</span>, <span style=\"color: #008080; text-decoration-color: #008080; font-weight: bold\">1422</span>, <span style=\"color: #008080; text-decoration-color: #008080; font-weight: bold\">1271</span>, <span style=\"color: #008080; text-decoration-color: #008080; font-weight: bold\">1110</span>, <span style=\"color: #008080; text-decoration-color: #008080; font-weight: bold\">19935</span>, <span style=\"color: #008080; text-decoration-color: #008080; font-weight: bold\">1174</span>, <span style=\"color: #008080; text-decoration-color: #008080; font-weight: bold\">1358</span>, <span style=\"color: #008080; text-decoration-color: #008080; font-weight: bold\">102</span><span style=\"font-weight: bold\">]</span>,\n",
       "    <span style=\"color: #008000; text-decoration-color: #008000\">'token_type_ids'</span>: <span style=\"font-weight: bold\">[</span><span style=\"color: #008080; text-decoration-color: #008080; font-weight: bold\">0</span>, <span style=\"color: #008080; text-decoration-color: #008080; font-weight: bold\">0</span>, <span style=\"color: #008080; text-decoration-color: #008080; font-weight: bold\">0</span>, <span style=\"color: #008080; text-decoration-color: #008080; font-weight: bold\">0</span>, <span style=\"color: #008080; text-decoration-color: #008080; font-weight: bold\">0</span>, <span style=\"color: #008080; text-decoration-color: #008080; font-weight: bold\">0</span>, <span style=\"color: #008080; text-decoration-color: #008080; font-weight: bold\">0</span>, <span style=\"color: #008080; text-decoration-color: #008080; font-weight: bold\">0</span><span style=\"font-weight: bold\">]</span>,\n",
       "    <span style=\"color: #008000; text-decoration-color: #008000\">'attention_mask'</span>: <span style=\"font-weight: bold\">[</span><span style=\"color: #008080; text-decoration-color: #008080; font-weight: bold\">1</span>, <span style=\"color: #008080; text-decoration-color: #008080; font-weight: bold\">1</span>, <span style=\"color: #008080; text-decoration-color: #008080; font-weight: bold\">1</span>, <span style=\"color: #008080; text-decoration-color: #008080; font-weight: bold\">1</span>, <span style=\"color: #008080; text-decoration-color: #008080; font-weight: bold\">1</span>, <span style=\"color: #008080; text-decoration-color: #008080; font-weight: bold\">1</span>, <span style=\"color: #008080; text-decoration-color: #008080; font-weight: bold\">1</span>, <span style=\"color: #008080; text-decoration-color: #008080; font-weight: bold\">1</span><span style=\"font-weight: bold\">]</span>\n",
       "<span style=\"font-weight: bold\">}</span>\n",
       "</pre>\n"
      ],
      "text/plain": [
       "\u001b[1m{\u001b[0m\n",
       "    \u001b[32m'input_ids'\u001b[0m: \u001b[1m[\u001b[0m\u001b[1;36m101\u001b[0m, \u001b[1;36m1422\u001b[0m, \u001b[1;36m1271\u001b[0m, \u001b[1;36m1110\u001b[0m, \u001b[1;36m19935\u001b[0m, \u001b[1;36m1174\u001b[0m, \u001b[1;36m1358\u001b[0m, \u001b[1;36m102\u001b[0m\u001b[1m]\u001b[0m,\n",
       "    \u001b[32m'token_type_ids'\u001b[0m: \u001b[1m[\u001b[0m\u001b[1;36m0\u001b[0m, \u001b[1;36m0\u001b[0m, \u001b[1;36m0\u001b[0m, \u001b[1;36m0\u001b[0m, \u001b[1;36m0\u001b[0m, \u001b[1;36m0\u001b[0m, \u001b[1;36m0\u001b[0m, \u001b[1;36m0\u001b[0m\u001b[1m]\u001b[0m,\n",
       "    \u001b[32m'attention_mask'\u001b[0m: \u001b[1m[\u001b[0m\u001b[1;36m1\u001b[0m, \u001b[1;36m1\u001b[0m, \u001b[1;36m1\u001b[0m, \u001b[1;36m1\u001b[0m, \u001b[1;36m1\u001b[0m, \u001b[1;36m1\u001b[0m, \u001b[1;36m1\u001b[0m, \u001b[1;36m1\u001b[0m\u001b[1m]\u001b[0m\n",
       "\u001b[1m}\u001b[0m\n"
      ]
     },
     "metadata": {},
     "output_type": "display_data"
    }
   ],
   "source": [
    "text: str = \"My name is Chinedu\"\n",
    "\n",
    "# Return the token IDs and attention mask\n",
    "print(tokenizer(text, truncation=True))"
   ]
  },
  {
   "cell_type": "code",
   "execution_count": 34,
   "metadata": {},
   "outputs": [
    {
     "data": {
      "text/html": [
       "<pre style=\"white-space:pre;overflow-x:auto;line-height:normal;font-family:Menlo,'DejaVu Sans Mono',consolas,'Courier New',monospace\"><span style=\"font-weight: bold\">[</span><span style=\"color: #008000; text-decoration-color: #008000\">'My'</span>, <span style=\"color: #008000; text-decoration-color: #008000\">'name'</span>, <span style=\"color: #008000; text-decoration-color: #008000\">'is'</span>, <span style=\"color: #008000; text-decoration-color: #008000\">'Chin'</span>, <span style=\"color: #008000; text-decoration-color: #008000\">'##ed'</span>, <span style=\"color: #008000; text-decoration-color: #008000\">'##u'</span><span style=\"font-weight: bold\">]</span>\n",
       "</pre>\n"
      ],
      "text/plain": [
       "\u001b[1m[\u001b[0m\u001b[32m'My'\u001b[0m, \u001b[32m'name'\u001b[0m, \u001b[32m'is'\u001b[0m, \u001b[32m'Chin'\u001b[0m, \u001b[32m'##ed'\u001b[0m, \u001b[32m'##u'\u001b[0m\u001b[1m]\u001b[0m\n"
      ]
     },
     "metadata": {},
     "output_type": "display_data"
    }
   ],
   "source": [
    "# Return the tokenized output\n",
    "print(tokenizer.tokenize(text))"
   ]
  },
  {
   "cell_type": "code",
   "execution_count": 35,
   "metadata": {},
   "outputs": [
    {
     "data": {
      "application/vnd.jupyter.widget-view+json": {
       "model_id": "6c6e91a6dabc4b89b45bf80d0baac9b2",
       "version_major": 2,
       "version_minor": 0
      },
      "text/plain": [
       "Map:   0%|          | 0/46552 [00:00<?, ? examples/s]"
      ]
     },
     "metadata": {},
     "output_type": "display_data"
    }
   ],
   "source": [
    "# Tokenize the data with batched=True [faster]\n",
    "tokenized_dataset: DatasetDict = drug_dataset_2.map(tokenize_function, batched=True)"
   ]
  },
  {
   "cell_type": "code",
   "execution_count": 36,
   "metadata": {},
   "outputs": [],
   "source": [
    "def tokenize_and_split(examples: dict[str, Any]) -> dict[str, Any]:\n",
    "    \"\"\"Tokenize and truncate the text to a maximum length of 128 and return\n",
    "    all the chunks of the texts.\"\"\"\n",
    "    return tokenizer(\n",
    "        examples.get(\"review\"),\n",
    "        truncation=True,\n",
    "        max_length=128,\n",
    "        return_overflowing_tokens=True,\n",
    "    )"
   ]
  },
  {
   "cell_type": "code",
   "execution_count": 37,
   "metadata": {},
   "outputs": [
    {
     "data": {
      "text/html": [
       "<pre style=\"white-space:pre;overflow-x:auto;line-height:normal;font-family:Menlo,'DejaVu Sans Mono',consolas,'Courier New',monospace\"><span style=\"font-weight: bold\">{</span>\n",
       "    <span style=\"color: #008000; text-decoration-color: #008000\">'patient_id'</span>: <span style=\"color: #008080; text-decoration-color: #008080; font-weight: bold\">95260</span>,\n",
       "    <span style=\"color: #008000; text-decoration-color: #008000\">'drugName'</span>: <span style=\"color: #008000; text-decoration-color: #008000\">'Guanfacine'</span>,\n",
       "    <span style=\"color: #008000; text-decoration-color: #008000\">'condition'</span>: <span style=\"color: #008000; text-decoration-color: #008000\">'adhd'</span>,\n",
       "    <span style=\"color: #008000; text-decoration-color: #008000\">'review'</span>: <span style=\"color: #008000; text-decoration-color: #008000\">'\"My son is halfway through his fourth week of Intuniv. We became concerned when he began this last </span>\n",
       "<span style=\"color: #008000; text-decoration-color: #008000\">week, when he started taking the highest dose he will be on. For two days, he could hardly get out of bed, was very</span>\n",
       "<span style=\"color: #008000; text-decoration-color: #008000\">cranky, and slept for nearly 8 hours on a drive home from school vacation (very unusual for him.) I called his </span>\n",
       "<span style=\"color: #008000; text-decoration-color: #008000\">doctor on Monday morning and she said to stick it out a few days. See how he did at school, and with getting up in </span>\n",
       "<span style=\"color: #008000; text-decoration-color: #008000\">the morning. The last two days have been problem free. He is MUCH more agreeable than ever. He is less emotional (a</span>\n",
       "<span style=\"color: #008000; text-decoration-color: #008000\">good thing), less cranky. He is remembering all the things he should. Overall his behavior is better. \\r\\nWe have </span>\n",
       "<span style=\"color: #008000; text-decoration-color: #008000\">tried many different medications and so far this is the most effective.\"'</span>,\n",
       "    <span style=\"color: #008000; text-decoration-color: #008000\">'rating'</span>: <span style=\"color: #008080; text-decoration-color: #008080; font-weight: bold\">8.0</span>,\n",
       "    <span style=\"color: #008000; text-decoration-color: #008000\">'date'</span>: <span style=\"color: #008000; text-decoration-color: #008000\">'April 27, 2010'</span>,\n",
       "    <span style=\"color: #008000; text-decoration-color: #008000\">'usefulCount'</span>: <span style=\"color: #008080; text-decoration-color: #008080; font-weight: bold\">192</span>,\n",
       "    <span style=\"color: #008000; text-decoration-color: #008000\">'review_length'</span>: <span style=\"color: #008080; text-decoration-color: #008080; font-weight: bold\">141</span>\n",
       "<span style=\"font-weight: bold\">}</span>\n",
       "</pre>\n"
      ],
      "text/plain": [
       "\u001b[1m{\u001b[0m\n",
       "    \u001b[32m'patient_id'\u001b[0m: \u001b[1;36m95260\u001b[0m,\n",
       "    \u001b[32m'drugName'\u001b[0m: \u001b[32m'Guanfacine'\u001b[0m,\n",
       "    \u001b[32m'condition'\u001b[0m: \u001b[32m'adhd'\u001b[0m,\n",
       "    \u001b[32m'review'\u001b[0m: \u001b[32m'\"My son is halfway through his fourth week of Intuniv. We became concerned when he began this last \u001b[0m\n",
       "\u001b[32mweek, when he started taking the highest dose he will be on. For two days, he could hardly get out of bed, was very\u001b[0m\n",
       "\u001b[32mcranky, and slept for nearly 8 hours on a drive home from school vacation \u001b[0m\u001b[32m(\u001b[0m\u001b[32mvery unusual for him.\u001b[0m\u001b[32m)\u001b[0m\u001b[32m I called his \u001b[0m\n",
       "\u001b[32mdoctor on Monday morning and she said to stick it out a few days. See how he did at school, and with getting up in \u001b[0m\n",
       "\u001b[32mthe morning. The last two days have been problem free. He is MUCH more agreeable than ever. He is less emotional \u001b[0m\u001b[32m(\u001b[0m\u001b[32ma\u001b[0m\n",
       "\u001b[32mgood thing\u001b[0m\u001b[32m)\u001b[0m\u001b[32m, less cranky. He is remembering all the things he should. Overall his behavior is better. \\r\\nWe have \u001b[0m\n",
       "\u001b[32mtried many different medications and so far this is the most effective.\"'\u001b[0m,\n",
       "    \u001b[32m'rating'\u001b[0m: \u001b[1;36m8.0\u001b[0m,\n",
       "    \u001b[32m'date'\u001b[0m: \u001b[32m'April 27, 2010'\u001b[0m,\n",
       "    \u001b[32m'usefulCount'\u001b[0m: \u001b[1;36m192\u001b[0m,\n",
       "    \u001b[32m'review_length'\u001b[0m: \u001b[1;36m141\u001b[0m\n",
       "\u001b[1m}\u001b[0m\n"
      ]
     },
     "metadata": {},
     "output_type": "display_data"
    }
   ],
   "source": [
    "sample: dict[str, Any] = drug_dataset_2.get(\"train\")[0]\n",
    "print(sample)"
   ]
  },
  {
   "cell_type": "code",
   "execution_count": 38,
   "metadata": {},
   "outputs": [
    {
     "data": {
      "text/plain": [
       "[128, 49]"
      ]
     },
     "execution_count": 38,
     "metadata": {},
     "output_type": "execute_result"
    }
   ],
   "source": [
    "result: dict[str, Any] = tokenize_and_split(sample)\n",
    "\n",
    "# It returns the tokens and the overflowing tokens\n",
    "# i.e. (tokens, overflow_tokens)\n",
    "[len(inp) for inp in result.get(\"input_ids\")]"
   ]
  },
  {
   "cell_type": "code",
   "execution_count": 39,
   "metadata": {},
   "outputs": [
    {
     "data": {
      "text/plain": [
       "[0, 0]"
      ]
     },
     "execution_count": 39,
     "metadata": {},
     "output_type": "execute_result"
    }
   ],
   "source": [
    "# tokenize_and_split returns `overflow_to_sample_mapping` as one of the keys\n",
    "result.get(\"overflow_to_sample_mapping\")"
   ]
  },
  {
   "cell_type": "code",
   "execution_count": 40,
   "metadata": {},
   "outputs": [
    {
     "data": {
      "application/vnd.jupyter.widget-view+json": {
       "model_id": "f925886bf06948989c3b72dd223c723e",
       "version_major": 2,
       "version_minor": 0
      },
      "text/plain": [
       "Map:   0%|          | 0/139894 [00:00<?, ? examples/s]"
      ]
     },
     "metadata": {},
     "output_type": "display_data"
    },
    {
     "data": {
      "text/html": [
       "<pre style=\"white-space:pre;overflow-x:auto;line-height:normal;font-family:Menlo,'DejaVu Sans Mono',consolas,'Courier New',monospace\">Column <span style=\"color: #008080; text-decoration-color: #008080; font-weight: bold\">8</span> named input_ids expected length <span style=\"color: #008080; text-decoration-color: #008080; font-weight: bold\">1000</span> but got length <span style=\"color: #008080; text-decoration-color: #008080; font-weight: bold\">1460</span>\n",
       "</pre>\n"
      ],
      "text/plain": [
       "Column \u001b[1;36m8\u001b[0m named input_ids expected length \u001b[1;36m1000\u001b[0m but got length \u001b[1;36m1460\u001b[0m\n"
      ]
     },
     "metadata": {},
     "output_type": "display_data"
    }
   ],
   "source": [
    "# The first example in the training set was tokenized into two features due to exceeding the\n",
    "# maximum token limit. This process will be applied to all elements of the dataset.\n",
    "from pyarrow.lib import ArrowInvalid\n",
    "\n",
    "try:\n",
    "    tokenized_dataset_1: DatasetDict = tokenized_dataset.map(\n",
    "        tokenize_and_split, batched=True\n",
    "    )\n",
    "except ArrowInvalid as err:\n",
    "    print(err)"
   ]
  },
  {
   "cell_type": "code",
   "execution_count": 41,
   "metadata": {},
   "outputs": [
    {
     "data": {
      "application/vnd.jupyter.widget-view+json": {
       "model_id": "53fe1b611a3d4741b2e7ce6e4137be65",
       "version_major": 2,
       "version_minor": 0
      },
      "text/plain": [
       "Map:   0%|          | 0/46552 [00:00<?, ? examples/s]"
      ]
     },
     "metadata": {},
     "output_type": "display_data"
    },
    {
     "data": {
      "text/plain": [
       "DatasetDict({\n",
       "    train: Dataset({\n",
       "        features: ['input_ids', 'token_type_ids', 'attention_mask', 'overflow_to_sample_mapping'],\n",
       "        num_rows: 208152\n",
       "    })\n",
       "    test: Dataset({\n",
       "        features: ['input_ids', 'token_type_ids', 'attention_mask', 'overflow_to_sample_mapping'],\n",
       "        num_rows: 69320\n",
       "    })\n",
       "})"
      ]
     },
     "execution_count": 41,
     "metadata": {},
     "output_type": "execute_result"
    }
   ],
   "source": [
    "# The error occurred due to a mismatch in column lengths between two datasets. To resolve this,\n",
    "# we can either remove the columns from the old dataset or make them the same size as in the new\n",
    "# dataset using the remove_columns argument.\n",
    "# Remove the columns ...\n",
    "\n",
    "tokenized_dataset_1: DatasetDict = tokenized_dataset.map(\n",
    "    tokenize_and_split,\n",
    "    batched=True,\n",
    "    remove_columns=tokenized_dataset.get(\"train\").column_names,\n",
    ")\n",
    "\n",
    "# The old column names have been dropped!\n",
    "tokenized_dataset_1"
   ]
  },
  {
   "cell_type": "code",
   "execution_count": 42,
   "metadata": {},
   "outputs": [
    {
     "data": {
      "text/plain": [
       "(208152, 139894)"
      ]
     },
     "execution_count": 42,
     "metadata": {},
     "output_type": "execute_result"
    }
   ],
   "source": [
    "# The two datasets have different num of rows\n",
    "len(tokenized_dataset_1.get(\"train\")), len(drug_dataset_2.get(\"train\"))"
   ]
  },
  {
   "cell_type": "code",
   "execution_count": 43,
   "metadata": {},
   "outputs": [],
   "source": [
    "# We can solve the mismatched length problem by making the old columns the same size as the\n",
    "# new ones, using the overflow_to_sample_mapping field.\n",
    "\n",
    "\n",
    "def tokenize_and_split_2(examples: dict[str, Any]) -> dict[str, Any]:\n",
    "    \"\"\"Tokenize and truncate the text to a maximum length of 128 and return\n",
    "    all the chunks of the texts. It ensures that the old and new columns are the same.\"\"\"\n",
    "    result: dict[str, Any] = tokenizer(\n",
    "        examples[\"review\"],\n",
    "        truncation=True,\n",
    "        max_length=128,\n",
    "        return_overflowing_tokens=True,\n",
    "    )\n",
    "    # Extract mapping between new and old indices\n",
    "    sample_map = result.pop(\"overflow_to_sample_mapping\")\n",
    "    for key, values in examples.items():\n",
    "        result[key] = [values[i] for i in sample_map]\n",
    "    return result"
   ]
  },
  {
   "cell_type": "code",
   "execution_count": 44,
   "metadata": {},
   "outputs": [
    {
     "data": {
      "application/vnd.jupyter.widget-view+json": {
       "model_id": "5292b94262b84dc6a8797145c25e54c4",
       "version_major": 2,
       "version_minor": 0
      },
      "text/plain": [
       "Map:   0%|          | 0/46552 [00:00<?, ? examples/s]"
      ]
     },
     "metadata": {},
     "output_type": "display_data"
    },
    {
     "data": {
      "text/plain": [
       "DatasetDict({\n",
       "    train: Dataset({\n",
       "        features: ['patient_id', 'drugName', 'condition', 'review', 'rating', 'date', 'usefulCount', 'review_length', 'input_ids', 'token_type_ids', 'attention_mask'],\n",
       "        num_rows: 208152\n",
       "    })\n",
       "    test: Dataset({\n",
       "        features: ['patient_id', 'drugName', 'condition', 'review', 'rating', 'date', 'usefulCount', 'review_length', 'input_ids', 'token_type_ids', 'attention_mask'],\n",
       "        num_rows: 69320\n",
       "    })\n",
       "})"
      ]
     },
     "execution_count": 44,
     "metadata": {},
     "output_type": "execute_result"
    }
   ],
   "source": [
    "# Approach 2\n",
    "tokenized_dataset_2: DatasetDict = tokenized_dataset.map(\n",
    "    tokenize_and_split_2, batched=True\n",
    ")\n",
    "\n",
    "# The old column names were NOT been dropped!\n",
    "tokenized_dataset_2"
   ]
  },
  {
   "cell_type": "markdown",
   "metadata": {},
   "source": [
    "### Convert Huggingface Datasets To Dataframes\n",
    "\n",
    "```text\n",
    "- More analyses can be performed once the data has been converted to tabular format.\n",
    "```"
   ]
  },
  {
   "cell_type": "code",
   "execution_count": 45,
   "metadata": {},
   "outputs": [
    {
     "data": {
      "text/html": [
       "<div>\n",
       "<style scoped>\n",
       "    .dataframe tbody tr th:only-of-type {\n",
       "        vertical-align: middle;\n",
       "    }\n",
       "\n",
       "    .dataframe tbody tr th {\n",
       "        vertical-align: top;\n",
       "    }\n",
       "\n",
       "    .dataframe thead th {\n",
       "        text-align: right;\n",
       "    }\n",
       "</style>\n",
       "<table border=\"1\" class=\"dataframe\">\n",
       "  <thead>\n",
       "    <tr style=\"text-align: right;\">\n",
       "      <th></th>\n",
       "      <th>patient_id</th>\n",
       "      <th>drugName</th>\n",
       "      <th>condition</th>\n",
       "      <th>review</th>\n",
       "      <th>rating</th>\n",
       "      <th>date</th>\n",
       "      <th>usefulCount</th>\n",
       "      <th>review_length</th>\n",
       "      <th>input_ids</th>\n",
       "      <th>token_type_ids</th>\n",
       "      <th>attention_mask</th>\n",
       "    </tr>\n",
       "  </thead>\n",
       "  <tbody>\n",
       "    <tr>\n",
       "      <th>0</th>\n",
       "      <td>95260</td>\n",
       "      <td>Guanfacine</td>\n",
       "      <td>adhd</td>\n",
       "      <td>\"My son is halfway through his fourth week of Intuniv. We became concerned when he began this last week, when he started taking the highest dose he will be on. For two days, he could hardly get out of bed, was very cranky, and slept for nearly 8 hours on a drive home from school vacation (very unusual for him.) I called his doctor on Monday morning and she said to stick it out a few days. See how he did at school, and with getting up in the morning. The last two days have been problem free. He is MUCH more agreeable than ever. He is less emotional (a good thing), less cranky. He is remembe...</td>\n",
       "      <td>8.0</td>\n",
       "      <td>April 27, 2010</td>\n",
       "      <td>192</td>\n",
       "      <td>141</td>\n",
       "      <td>[101, 107, 1422, 1488, 1110, 9079, 1194, 1117, 2223, 1989, 1104, 1130, 19972, 11083, 119, 1284, 1245, 4264, 1165, 1119, 1310, 1142, 1314, 1989, 117, 1165, 1119, 1408, 1781, 1103, 2439, 13753, 1119, 1209, 1129, 1113, 119, 1370, 1160, 1552, 117, 1119, 1180, 6374, 1243, 1149, 1104, 1908, 117, 1108, 1304, 172, 14687, 1183, 117, 1105, 7362, 1111, 2212, 129, 2005, 1113, 170, 2797, 1313, 1121, 1278, 12020, 113, 1304, 5283, 1111, 1140, 119, 114, 146, 1270, 1117, 3995, 1113, 6356, 2106, 1105, 1131, 1163, 1106, 6166, 1122, 1149, 170, 1374, 1552, 119, 3969, 1293, 1119, 1225, 1120, 1278, 117, ...]</td>\n",
       "      <td>[0, 0, 0, 0, 0, 0, 0, 0, 0, 0, 0, 0, 0, 0, 0, 0, 0, 0, 0, 0, 0, 0, 0, 0, 0, 0, 0, 0, 0, 0, 0, 0, 0, 0, 0, 0, 0, 0, 0, 0, 0, 0, 0, 0, 0, 0, 0, 0, 0, 0, 0, 0, 0, 0, 0, 0, 0, 0, 0, 0, 0, 0, 0, 0, 0, 0, 0, 0, 0, 0, 0, 0, 0, 0, 0, 0, 0, 0, 0, 0, 0, 0, 0, 0, 0, 0, 0, 0, 0, 0, 0, 0, 0, 0, 0, 0, 0, 0, 0, 0, ...]</td>\n",
       "      <td>[1, 1, 1, 1, 1, 1, 1, 1, 1, 1, 1, 1, 1, 1, 1, 1, 1, 1, 1, 1, 1, 1, 1, 1, 1, 1, 1, 1, 1, 1, 1, 1, 1, 1, 1, 1, 1, 1, 1, 1, 1, 1, 1, 1, 1, 1, 1, 1, 1, 1, 1, 1, 1, 1, 1, 1, 1, 1, 1, 1, 1, 1, 1, 1, 1, 1, 1, 1, 1, 1, 1, 1, 1, 1, 1, 1, 1, 1, 1, 1, 1, 1, 1, 1, 1, 1, 1, 1, 1, 1, 1, 1, 1, 1, 1, 1, 1, 1, 1, 1, ...]</td>\n",
       "    </tr>\n",
       "    <tr>\n",
       "      <th>1</th>\n",
       "      <td>95260</td>\n",
       "      <td>Guanfacine</td>\n",
       "      <td>adhd</td>\n",
       "      <td>\"My son is halfway through his fourth week of Intuniv. We became concerned when he began this last week, when he started taking the highest dose he will be on. For two days, he could hardly get out of bed, was very cranky, and slept for nearly 8 hours on a drive home from school vacation (very unusual for him.) I called his doctor on Monday morning and she said to stick it out a few days. See how he did at school, and with getting up in the morning. The last two days have been problem free. He is MUCH more agreeable than ever. He is less emotional (a good thing), less cranky. He is remembe...</td>\n",
       "      <td>8.0</td>\n",
       "      <td>April 27, 2010</td>\n",
       "      <td>192</td>\n",
       "      <td>141</td>\n",
       "      <td>[101, 107, 1422, 1488, 1110, 9079, 1194, 1117, 2223, 1989, 1104, 1130, 19972, 11083, 119, 1284, 1245, 4264, 1165, 1119, 1310, 1142, 1314, 1989, 117, 1165, 1119, 1408, 1781, 1103, 2439, 13753, 1119, 1209, 1129, 1113, 119, 1370, 1160, 1552, 117, 1119, 1180, 6374, 1243, 1149, 1104, 1908, 117, 1108, 1304, 172, 14687, 1183, 117, 1105, 7362, 1111, 2212, 129, 2005, 1113, 170, 2797, 1313, 1121, 1278, 12020, 113, 1304, 5283, 1111, 1140, 119, 114, 146, 1270, 1117, 3995, 1113, 6356, 2106, 1105, 1131, 1163, 1106, 6166, 1122, 1149, 170, 1374, 1552, 119, 3969, 1293, 1119, 1225, 1120, 1278, 117, ...]</td>\n",
       "      <td>[0, 0, 0, 0, 0, 0, 0, 0, 0, 0, 0, 0, 0, 0, 0, 0, 0, 0, 0, 0, 0, 0, 0, 0, 0, 0, 0, 0, 0, 0, 0, 0, 0, 0, 0, 0, 0, 0, 0, 0, 0, 0, 0, 0, 0, 0, 0, 0, 0, 0, 0, 0, 0, 0, 0, 0, 0, 0, 0, 0, 0, 0, 0, 0, 0, 0, 0, 0, 0, 0, 0, 0, 0, 0, 0, 0, 0, 0, 0, 0, 0, 0, 0, 0, 0, 0, 0, 0, 0, 0, 0, 0, 0, 0, 0, 0, 0, 0, 0, 0, ...]</td>\n",
       "      <td>[1, 1, 1, 1, 1, 1, 1, 1, 1, 1, 1, 1, 1, 1, 1, 1, 1, 1, 1, 1, 1, 1, 1, 1, 1, 1, 1, 1, 1, 1, 1, 1, 1, 1, 1, 1, 1, 1, 1, 1, 1, 1, 1, 1, 1, 1, 1, 1, 1, 1, 1, 1, 1, 1, 1, 1, 1, 1, 1, 1, 1, 1, 1, 1, 1, 1, 1, 1, 1, 1, 1, 1, 1, 1, 1, 1, 1, 1, 1, 1, 1, 1, 1, 1, 1, 1, 1, 1, 1, 1, 1, 1, 1, 1, 1, 1, 1, 1, 1, 1, ...]</td>\n",
       "    </tr>\n",
       "    <tr>\n",
       "      <th>2</th>\n",
       "      <td>92703</td>\n",
       "      <td>Lybrel</td>\n",
       "      <td>birth control</td>\n",
       "      <td>\"I used to take another oral contraceptive, which had 21 pill cycle, and was very happy- very light periods, max 5 days, no other side effects. But it contained hormone gestodene, which is not available in US, so I switched to Lybrel, because the ingredients are similar. When my other pills ended, I started Lybrel immediately, on my first day of period, as the instructions said. And the period lasted for two weeks. When taking the second pack- same two weeks. And now, with third pack things got even worse- my third period lasted for two weeks and now it's the end of the third week- I still...</td>\n",
       "      <td>5.0</td>\n",
       "      <td>December 14, 2009</td>\n",
       "      <td>17</td>\n",
       "      <td>133</td>\n",
       "      <td>[101, 107, 146, 1215, 1106, 1321, 1330, 9619, 14255, 4487, 17046, 117, 1134, 1125, 1626, 21822, 5120, 117, 1105, 1108, 1304, 2816, 118, 1304, 1609, 6461, 117, 12477, 1775, 126, 1552, 117, 1185, 1168, 1334, 3154, 119, 1252, 1122, 4049, 21055, 176, 2556, 13040, 1673, 117, 1134, 1110, 1136, 1907, 1107, 1646, 117, 1177, 146, 6759, 1106, 149, 1183, 9730, 1233, 117, 1272, 1103, 13288, 1132, 1861, 119, 1332, 1139, 1168, 17029, 2207, 117, 146, 1408, 149, 1183, 9730, 1233, 2411, 117, 1113, 1139, 1148, 1285, 1104, 1669, 117, 1112, 1103, 7953, 1163, 119, 1262, 1103, 1669, 5695, 1111, 1160, ...]</td>\n",
       "      <td>[0, 0, 0, 0, 0, 0, 0, 0, 0, 0, 0, 0, 0, 0, 0, 0, 0, 0, 0, 0, 0, 0, 0, 0, 0, 0, 0, 0, 0, 0, 0, 0, 0, 0, 0, 0, 0, 0, 0, 0, 0, 0, 0, 0, 0, 0, 0, 0, 0, 0, 0, 0, 0, 0, 0, 0, 0, 0, 0, 0, 0, 0, 0, 0, 0, 0, 0, 0, 0, 0, 0, 0, 0, 0, 0, 0, 0, 0, 0, 0, 0, 0, 0, 0, 0, 0, 0, 0, 0, 0, 0, 0, 0, 0, 0, 0, 0, 0, 0, 0, ...]</td>\n",
       "      <td>[1, 1, 1, 1, 1, 1, 1, 1, 1, 1, 1, 1, 1, 1, 1, 1, 1, 1, 1, 1, 1, 1, 1, 1, 1, 1, 1, 1, 1, 1, 1, 1, 1, 1, 1, 1, 1, 1, 1, 1, 1, 1, 1, 1, 1, 1, 1, 1, 1, 1, 1, 1, 1, 1, 1, 1, 1, 1, 1, 1, 1, 1, 1, 1, 1, 1, 1, 1, 1, 1, 1, 1, 1, 1, 1, 1, 1, 1, 1, 1, 1, 1, 1, 1, 1, 1, 1, 1, 1, 1, 1, 1, 1, 1, 1, 1, 1, 1, 1, 1, ...]</td>\n",
       "    </tr>\n",
       "    <tr>\n",
       "      <th>3</th>\n",
       "      <td>92703</td>\n",
       "      <td>Lybrel</td>\n",
       "      <td>birth control</td>\n",
       "      <td>\"I used to take another oral contraceptive, which had 21 pill cycle, and was very happy- very light periods, max 5 days, no other side effects. But it contained hormone gestodene, which is not available in US, so I switched to Lybrel, because the ingredients are similar. When my other pills ended, I started Lybrel immediately, on my first day of period, as the instructions said. And the period lasted for two weeks. When taking the second pack- same two weeks. And now, with third pack things got even worse- my third period lasted for two weeks and now it's the end of the third week- I still...</td>\n",
       "      <td>5.0</td>\n",
       "      <td>December 14, 2009</td>\n",
       "      <td>17</td>\n",
       "      <td>133</td>\n",
       "      <td>[101, 107, 146, 1215, 1106, 1321, 1330, 9619, 14255, 4487, 17046, 117, 1134, 1125, 1626, 21822, 5120, 117, 1105, 1108, 1304, 2816, 118, 1304, 1609, 6461, 117, 12477, 1775, 126, 1552, 117, 1185, 1168, 1334, 3154, 119, 1252, 1122, 4049, 21055, 176, 2556, 13040, 1673, 117, 1134, 1110, 1136, 1907, 1107, 1646, 117, 1177, 146, 6759, 1106, 149, 1183, 9730, 1233, 117, 1272, 1103, 13288, 1132, 1861, 119, 1332, 1139, 1168, 17029, 2207, 117, 146, 1408, 149, 1183, 9730, 1233, 2411, 117, 1113, 1139, 1148, 1285, 1104, 1669, 117, 1112, 1103, 7953, 1163, 119, 1262, 1103, 1669, 5695, 1111, 1160, ...]</td>\n",
       "      <td>[0, 0, 0, 0, 0, 0, 0, 0, 0, 0, 0, 0, 0, 0, 0, 0, 0, 0, 0, 0, 0, 0, 0, 0, 0, 0, 0, 0, 0, 0, 0, 0, 0, 0, 0, 0, 0, 0, 0, 0, 0, 0, 0, 0, 0, 0, 0, 0, 0, 0, 0, 0, 0, 0, 0, 0, 0, 0, 0, 0, 0, 0, 0, 0, 0, 0, 0, 0, 0, 0, 0, 0, 0, 0, 0, 0, 0, 0, 0, 0, 0, 0, 0, 0, 0, 0, 0, 0, 0, 0, 0, 0, 0, 0, 0, 0, 0, 0, 0, 0, ...]</td>\n",
       "      <td>[1, 1, 1, 1, 1, 1, 1, 1, 1, 1, 1, 1, 1, 1, 1, 1, 1, 1, 1, 1, 1, 1, 1, 1, 1, 1, 1, 1, 1, 1, 1, 1, 1, 1, 1, 1, 1, 1, 1, 1, 1, 1, 1, 1, 1, 1, 1, 1, 1, 1, 1, 1, 1, 1, 1, 1, 1, 1, 1, 1, 1, 1, 1, 1, 1, 1, 1, 1, 1, 1, 1, 1, 1, 1, 1, 1, 1, 1, 1, 1, 1, 1, 1, 1, 1, 1, 1, 1, 1, 1, 1, 1, 1, 1, 1, 1, 1, 1, 1, 1, ...]</td>\n",
       "    </tr>\n",
       "    <tr>\n",
       "      <th>4</th>\n",
       "      <td>138000</td>\n",
       "      <td>Ortho Evra</td>\n",
       "      <td>birth control</td>\n",
       "      <td>\"This is my first time using any form of birth control. I'm glad I went with the patch, I have been on it for 8 months. At first It decreased my libido but that subsided. The only downside is that it made my periods longer (5-6 days to be exact) I used to only have periods for 3-4 days max also made my cramps intense for the first two days of my period, I never had cramps before using birth control. Other than that in happy with the patch\"</td>\n",
       "      <td>8.0</td>\n",
       "      <td>November 3, 2015</td>\n",
       "      <td>10</td>\n",
       "      <td>89</td>\n",
       "      <td>[101, 107, 1188, 1110, 1139, 1148, 1159, 1606, 1251, 1532, 1104, 3485, 1654, 119, 146, 112, 182, 5171, 146, 1355, 1114, 1103, 10085, 117, 146, 1138, 1151, 1113, 1122, 1111, 129, 1808, 119, 1335, 1148, 1135, 10558, 1139, 181, 21883, 2572, 1133, 1115, 4841, 25984, 119, 1109, 1178, 1205, 5570, 1110, 1115, 1122, 1189, 1139, 6461, 2039, 113, 126, 118, 127, 1552, 1106, 1129, 6129, 114, 146, 1215, 1106, 1178, 1138, 6461, 1111, 124, 118, 125, 1552, 12477, 1775, 1145, 1189, 1139, 172, 4515, 3491, 5827, 1111, 1103, 1148, 1160, 1552, 1104, 1139, 1669, 117, 146, 1309, 1125, 172, 4515, ...]</td>\n",
       "      <td>[0, 0, 0, 0, 0, 0, 0, 0, 0, 0, 0, 0, 0, 0, 0, 0, 0, 0, 0, 0, 0, 0, 0, 0, 0, 0, 0, 0, 0, 0, 0, 0, 0, 0, 0, 0, 0, 0, 0, 0, 0, 0, 0, 0, 0, 0, 0, 0, 0, 0, 0, 0, 0, 0, 0, 0, 0, 0, 0, 0, 0, 0, 0, 0, 0, 0, 0, 0, 0, 0, 0, 0, 0, 0, 0, 0, 0, 0, 0, 0, 0, 0, 0, 0, 0, 0, 0, 0, 0, 0, 0, 0, 0, 0, 0, 0, 0, 0, 0, 0, ...]</td>\n",
       "      <td>[1, 1, 1, 1, 1, 1, 1, 1, 1, 1, 1, 1, 1, 1, 1, 1, 1, 1, 1, 1, 1, 1, 1, 1, 1, 1, 1, 1, 1, 1, 1, 1, 1, 1, 1, 1, 1, 1, 1, 1, 1, 1, 1, 1, 1, 1, 1, 1, 1, 1, 1, 1, 1, 1, 1, 1, 1, 1, 1, 1, 1, 1, 1, 1, 1, 1, 1, 1, 1, 1, 1, 1, 1, 1, 1, 1, 1, 1, 1, 1, 1, 1, 1, 1, 1, 1, 1, 1, 1, 1, 1, 1, 1, 1, 1, 1, 1, 1, 1, 1, ...]</td>\n",
       "    </tr>\n",
       "  </tbody>\n",
       "</table>\n",
       "</div>"
      ],
      "text/plain": [
       "   patient_id    drugName      condition  \\\n",
       "0       95260  Guanfacine           adhd   \n",
       "1       95260  Guanfacine           adhd   \n",
       "2       92703      Lybrel  birth control   \n",
       "3       92703      Lybrel  birth control   \n",
       "4      138000  Ortho Evra  birth control   \n",
       "\n",
       "                                                                                                                                                                                                                                                                                                                                                                                                                                                                                                                                                                                                                    review  \\\n",
       "0  \"My son is halfway through his fourth week of Intuniv. We became concerned when he began this last week, when he started taking the highest dose he will be on. For two days, he could hardly get out of bed, was very cranky, and slept for nearly 8 hours on a drive home from school vacation (very unusual for him.) I called his doctor on Monday morning and she said to stick it out a few days. See how he did at school, and with getting up in the morning. The last two days have been problem free. He is MUCH more agreeable than ever. He is less emotional (a good thing), less cranky. He is remembe...   \n",
       "1  \"My son is halfway through his fourth week of Intuniv. We became concerned when he began this last week, when he started taking the highest dose he will be on. For two days, he could hardly get out of bed, was very cranky, and slept for nearly 8 hours on a drive home from school vacation (very unusual for him.) I called his doctor on Monday morning and she said to stick it out a few days. See how he did at school, and with getting up in the morning. The last two days have been problem free. He is MUCH more agreeable than ever. He is less emotional (a good thing), less cranky. He is remembe...   \n",
       "2  \"I used to take another oral contraceptive, which had 21 pill cycle, and was very happy- very light periods, max 5 days, no other side effects. But it contained hormone gestodene, which is not available in US, so I switched to Lybrel, because the ingredients are similar. When my other pills ended, I started Lybrel immediately, on my first day of period, as the instructions said. And the period lasted for two weeks. When taking the second pack- same two weeks. And now, with third pack things got even worse- my third period lasted for two weeks and now it's the end of the third week- I still...   \n",
       "3  \"I used to take another oral contraceptive, which had 21 pill cycle, and was very happy- very light periods, max 5 days, no other side effects. But it contained hormone gestodene, which is not available in US, so I switched to Lybrel, because the ingredients are similar. When my other pills ended, I started Lybrel immediately, on my first day of period, as the instructions said. And the period lasted for two weeks. When taking the second pack- same two weeks. And now, with third pack things got even worse- my third period lasted for two weeks and now it's the end of the third week- I still...   \n",
       "4                                                                                                                                                              \"This is my first time using any form of birth control. I'm glad I went with the patch, I have been on it for 8 months. At first It decreased my libido but that subsided. The only downside is that it made my periods longer (5-6 days to be exact) I used to only have periods for 3-4 days max also made my cramps intense for the first two days of my period, I never had cramps before using birth control. Other than that in happy with the patch\"   \n",
       "\n",
       "   rating               date  usefulCount  review_length  \\\n",
       "0     8.0     April 27, 2010          192            141   \n",
       "1     8.0     April 27, 2010          192            141   \n",
       "2     5.0  December 14, 2009           17            133   \n",
       "3     5.0  December 14, 2009           17            133   \n",
       "4     8.0   November 3, 2015           10             89   \n",
       "\n",
       "                                                                                                                                                                                                                                                                                                                                                                                                                                                                                                                                                                                                          input_ids  \\\n",
       "0  [101, 107, 1422, 1488, 1110, 9079, 1194, 1117, 2223, 1989, 1104, 1130, 19972, 11083, 119, 1284, 1245, 4264, 1165, 1119, 1310, 1142, 1314, 1989, 117, 1165, 1119, 1408, 1781, 1103, 2439, 13753, 1119, 1209, 1129, 1113, 119, 1370, 1160, 1552, 117, 1119, 1180, 6374, 1243, 1149, 1104, 1908, 117, 1108, 1304, 172, 14687, 1183, 117, 1105, 7362, 1111, 2212, 129, 2005, 1113, 170, 2797, 1313, 1121, 1278, 12020, 113, 1304, 5283, 1111, 1140, 119, 114, 146, 1270, 1117, 3995, 1113, 6356, 2106, 1105, 1131, 1163, 1106, 6166, 1122, 1149, 170, 1374, 1552, 119, 3969, 1293, 1119, 1225, 1120, 1278, 117, ...]   \n",
       "1  [101, 107, 1422, 1488, 1110, 9079, 1194, 1117, 2223, 1989, 1104, 1130, 19972, 11083, 119, 1284, 1245, 4264, 1165, 1119, 1310, 1142, 1314, 1989, 117, 1165, 1119, 1408, 1781, 1103, 2439, 13753, 1119, 1209, 1129, 1113, 119, 1370, 1160, 1552, 117, 1119, 1180, 6374, 1243, 1149, 1104, 1908, 117, 1108, 1304, 172, 14687, 1183, 117, 1105, 7362, 1111, 2212, 129, 2005, 1113, 170, 2797, 1313, 1121, 1278, 12020, 113, 1304, 5283, 1111, 1140, 119, 114, 146, 1270, 1117, 3995, 1113, 6356, 2106, 1105, 1131, 1163, 1106, 6166, 1122, 1149, 170, 1374, 1552, 119, 3969, 1293, 1119, 1225, 1120, 1278, 117, ...]   \n",
       "2    [101, 107, 146, 1215, 1106, 1321, 1330, 9619, 14255, 4487, 17046, 117, 1134, 1125, 1626, 21822, 5120, 117, 1105, 1108, 1304, 2816, 118, 1304, 1609, 6461, 117, 12477, 1775, 126, 1552, 117, 1185, 1168, 1334, 3154, 119, 1252, 1122, 4049, 21055, 176, 2556, 13040, 1673, 117, 1134, 1110, 1136, 1907, 1107, 1646, 117, 1177, 146, 6759, 1106, 149, 1183, 9730, 1233, 117, 1272, 1103, 13288, 1132, 1861, 119, 1332, 1139, 1168, 17029, 2207, 117, 146, 1408, 149, 1183, 9730, 1233, 2411, 117, 1113, 1139, 1148, 1285, 1104, 1669, 117, 1112, 1103, 7953, 1163, 119, 1262, 1103, 1669, 5695, 1111, 1160, ...]   \n",
       "3    [101, 107, 146, 1215, 1106, 1321, 1330, 9619, 14255, 4487, 17046, 117, 1134, 1125, 1626, 21822, 5120, 117, 1105, 1108, 1304, 2816, 118, 1304, 1609, 6461, 117, 12477, 1775, 126, 1552, 117, 1185, 1168, 1334, 3154, 119, 1252, 1122, 4049, 21055, 176, 2556, 13040, 1673, 117, 1134, 1110, 1136, 1907, 1107, 1646, 117, 1177, 146, 6759, 1106, 149, 1183, 9730, 1233, 117, 1272, 1103, 13288, 1132, 1861, 119, 1332, 1139, 1168, 17029, 2207, 117, 146, 1408, 149, 1183, 9730, 1233, 2411, 117, 1113, 1139, 1148, 1285, 1104, 1669, 117, 1112, 1103, 7953, 1163, 119, 1262, 1103, 1669, 5695, 1111, 1160, ...]   \n",
       "4          [101, 107, 1188, 1110, 1139, 1148, 1159, 1606, 1251, 1532, 1104, 3485, 1654, 119, 146, 112, 182, 5171, 146, 1355, 1114, 1103, 10085, 117, 146, 1138, 1151, 1113, 1122, 1111, 129, 1808, 119, 1335, 1148, 1135, 10558, 1139, 181, 21883, 2572, 1133, 1115, 4841, 25984, 119, 1109, 1178, 1205, 5570, 1110, 1115, 1122, 1189, 1139, 6461, 2039, 113, 126, 118, 127, 1552, 1106, 1129, 6129, 114, 146, 1215, 1106, 1178, 1138, 6461, 1111, 124, 118, 125, 1552, 12477, 1775, 1145, 1189, 1139, 172, 4515, 3491, 5827, 1111, 1103, 1148, 1160, 1552, 1104, 1139, 1669, 117, 146, 1309, 1125, 172, 4515, ...]   \n",
       "\n",
       "                                                                                                                                                                                                                                                                                                      token_type_ids  \\\n",
       "0  [0, 0, 0, 0, 0, 0, 0, 0, 0, 0, 0, 0, 0, 0, 0, 0, 0, 0, 0, 0, 0, 0, 0, 0, 0, 0, 0, 0, 0, 0, 0, 0, 0, 0, 0, 0, 0, 0, 0, 0, 0, 0, 0, 0, 0, 0, 0, 0, 0, 0, 0, 0, 0, 0, 0, 0, 0, 0, 0, 0, 0, 0, 0, 0, 0, 0, 0, 0, 0, 0, 0, 0, 0, 0, 0, 0, 0, 0, 0, 0, 0, 0, 0, 0, 0, 0, 0, 0, 0, 0, 0, 0, 0, 0, 0, 0, 0, 0, 0, 0, ...]   \n",
       "1  [0, 0, 0, 0, 0, 0, 0, 0, 0, 0, 0, 0, 0, 0, 0, 0, 0, 0, 0, 0, 0, 0, 0, 0, 0, 0, 0, 0, 0, 0, 0, 0, 0, 0, 0, 0, 0, 0, 0, 0, 0, 0, 0, 0, 0, 0, 0, 0, 0, 0, 0, 0, 0, 0, 0, 0, 0, 0, 0, 0, 0, 0, 0, 0, 0, 0, 0, 0, 0, 0, 0, 0, 0, 0, 0, 0, 0, 0, 0, 0, 0, 0, 0, 0, 0, 0, 0, 0, 0, 0, 0, 0, 0, 0, 0, 0, 0, 0, 0, 0, ...]   \n",
       "2  [0, 0, 0, 0, 0, 0, 0, 0, 0, 0, 0, 0, 0, 0, 0, 0, 0, 0, 0, 0, 0, 0, 0, 0, 0, 0, 0, 0, 0, 0, 0, 0, 0, 0, 0, 0, 0, 0, 0, 0, 0, 0, 0, 0, 0, 0, 0, 0, 0, 0, 0, 0, 0, 0, 0, 0, 0, 0, 0, 0, 0, 0, 0, 0, 0, 0, 0, 0, 0, 0, 0, 0, 0, 0, 0, 0, 0, 0, 0, 0, 0, 0, 0, 0, 0, 0, 0, 0, 0, 0, 0, 0, 0, 0, 0, 0, 0, 0, 0, 0, ...]   \n",
       "3  [0, 0, 0, 0, 0, 0, 0, 0, 0, 0, 0, 0, 0, 0, 0, 0, 0, 0, 0, 0, 0, 0, 0, 0, 0, 0, 0, 0, 0, 0, 0, 0, 0, 0, 0, 0, 0, 0, 0, 0, 0, 0, 0, 0, 0, 0, 0, 0, 0, 0, 0, 0, 0, 0, 0, 0, 0, 0, 0, 0, 0, 0, 0, 0, 0, 0, 0, 0, 0, 0, 0, 0, 0, 0, 0, 0, 0, 0, 0, 0, 0, 0, 0, 0, 0, 0, 0, 0, 0, 0, 0, 0, 0, 0, 0, 0, 0, 0, 0, 0, ...]   \n",
       "4  [0, 0, 0, 0, 0, 0, 0, 0, 0, 0, 0, 0, 0, 0, 0, 0, 0, 0, 0, 0, 0, 0, 0, 0, 0, 0, 0, 0, 0, 0, 0, 0, 0, 0, 0, 0, 0, 0, 0, 0, 0, 0, 0, 0, 0, 0, 0, 0, 0, 0, 0, 0, 0, 0, 0, 0, 0, 0, 0, 0, 0, 0, 0, 0, 0, 0, 0, 0, 0, 0, 0, 0, 0, 0, 0, 0, 0, 0, 0, 0, 0, 0, 0, 0, 0, 0, 0, 0, 0, 0, 0, 0, 0, 0, 0, 0, 0, 0, 0, 0, ...]   \n",
       "\n",
       "                                                                                                                                                                                                                                                                                                      attention_mask  \n",
       "0  [1, 1, 1, 1, 1, 1, 1, 1, 1, 1, 1, 1, 1, 1, 1, 1, 1, 1, 1, 1, 1, 1, 1, 1, 1, 1, 1, 1, 1, 1, 1, 1, 1, 1, 1, 1, 1, 1, 1, 1, 1, 1, 1, 1, 1, 1, 1, 1, 1, 1, 1, 1, 1, 1, 1, 1, 1, 1, 1, 1, 1, 1, 1, 1, 1, 1, 1, 1, 1, 1, 1, 1, 1, 1, 1, 1, 1, 1, 1, 1, 1, 1, 1, 1, 1, 1, 1, 1, 1, 1, 1, 1, 1, 1, 1, 1, 1, 1, 1, 1, ...]  \n",
       "1  [1, 1, 1, 1, 1, 1, 1, 1, 1, 1, 1, 1, 1, 1, 1, 1, 1, 1, 1, 1, 1, 1, 1, 1, 1, 1, 1, 1, 1, 1, 1, 1, 1, 1, 1, 1, 1, 1, 1, 1, 1, 1, 1, 1, 1, 1, 1, 1, 1, 1, 1, 1, 1, 1, 1, 1, 1, 1, 1, 1, 1, 1, 1, 1, 1, 1, 1, 1, 1, 1, 1, 1, 1, 1, 1, 1, 1, 1, 1, 1, 1, 1, 1, 1, 1, 1, 1, 1, 1, 1, 1, 1, 1, 1, 1, 1, 1, 1, 1, 1, ...]  \n",
       "2  [1, 1, 1, 1, 1, 1, 1, 1, 1, 1, 1, 1, 1, 1, 1, 1, 1, 1, 1, 1, 1, 1, 1, 1, 1, 1, 1, 1, 1, 1, 1, 1, 1, 1, 1, 1, 1, 1, 1, 1, 1, 1, 1, 1, 1, 1, 1, 1, 1, 1, 1, 1, 1, 1, 1, 1, 1, 1, 1, 1, 1, 1, 1, 1, 1, 1, 1, 1, 1, 1, 1, 1, 1, 1, 1, 1, 1, 1, 1, 1, 1, 1, 1, 1, 1, 1, 1, 1, 1, 1, 1, 1, 1, 1, 1, 1, 1, 1, 1, 1, ...]  \n",
       "3  [1, 1, 1, 1, 1, 1, 1, 1, 1, 1, 1, 1, 1, 1, 1, 1, 1, 1, 1, 1, 1, 1, 1, 1, 1, 1, 1, 1, 1, 1, 1, 1, 1, 1, 1, 1, 1, 1, 1, 1, 1, 1, 1, 1, 1, 1, 1, 1, 1, 1, 1, 1, 1, 1, 1, 1, 1, 1, 1, 1, 1, 1, 1, 1, 1, 1, 1, 1, 1, 1, 1, 1, 1, 1, 1, 1, 1, 1, 1, 1, 1, 1, 1, 1, 1, 1, 1, 1, 1, 1, 1, 1, 1, 1, 1, 1, 1, 1, 1, 1, ...]  \n",
       "4  [1, 1, 1, 1, 1, 1, 1, 1, 1, 1, 1, 1, 1, 1, 1, 1, 1, 1, 1, 1, 1, 1, 1, 1, 1, 1, 1, 1, 1, 1, 1, 1, 1, 1, 1, 1, 1, 1, 1, 1, 1, 1, 1, 1, 1, 1, 1, 1, 1, 1, 1, 1, 1, 1, 1, 1, 1, 1, 1, 1, 1, 1, 1, 1, 1, 1, 1, 1, 1, 1, 1, 1, 1, 1, 1, 1, 1, 1, 1, 1, 1, 1, 1, 1, 1, 1, 1, 1, 1, 1, 1, 1, 1, 1, 1, 1, 1, 1, 1, 1, ...]  "
      ]
     },
     "execution_count": 45,
     "metadata": {},
     "output_type": "execute_result"
    }
   ],
   "source": [
    "dataset_df = tokenized_dataset_2.get(\"train\").to_pandas()\n",
    "\n",
    "dataset_df.head()"
   ]
  },
  {
   "cell_type": "code",
   "execution_count": 46,
   "metadata": {},
   "outputs": [
    {
     "data": {
      "text/html": [
       "<div>\n",
       "<style scoped>\n",
       "    .dataframe tbody tr th:only-of-type {\n",
       "        vertical-align: middle;\n",
       "    }\n",
       "\n",
       "    .dataframe tbody tr th {\n",
       "        vertical-align: top;\n",
       "    }\n",
       "\n",
       "    .dataframe thead th {\n",
       "        text-align: right;\n",
       "    }\n",
       "</style>\n",
       "<table border=\"1\" class=\"dataframe\">\n",
       "  <thead>\n",
       "    <tr style=\"text-align: right;\">\n",
       "      <th></th>\n",
       "      <th>condition</th>\n",
       "      <th>frequency</th>\n",
       "    </tr>\n",
       "  </thead>\n",
       "  <tbody>\n",
       "    <tr>\n",
       "      <th>0</th>\n",
       "      <td>Birth Control</td>\n",
       "      <td>28788</td>\n",
       "    </tr>\n",
       "    <tr>\n",
       "      <th>1</th>\n",
       "      <td>Depression</td>\n",
       "      <td>9069</td>\n",
       "    </tr>\n",
       "    <tr>\n",
       "      <th>2</th>\n",
       "      <td>Pain</td>\n",
       "      <td>6145</td>\n",
       "    </tr>\n",
       "    <tr>\n",
       "      <th>3</th>\n",
       "      <td>Anxiety</td>\n",
       "      <td>5904</td>\n",
       "    </tr>\n",
       "    <tr>\n",
       "      <th>4</th>\n",
       "      <td>Acne</td>\n",
       "      <td>5588</td>\n",
       "    </tr>\n",
       "  </tbody>\n",
       "</table>\n",
       "</div>"
      ],
      "text/plain": [
       "       condition  frequency\n",
       "0  Birth Control      28788\n",
       "1     Depression       9069\n",
       "2           Pain       6145\n",
       "3        Anxiety       5904\n",
       "4           Acne       5588"
      ]
     },
     "execution_count": 46,
     "metadata": {},
     "output_type": "execute_result"
    }
   ],
   "source": [
    "freq: pd.DataFrame = (\n",
    "    df[\"condition\"]\n",
    "    .value_counts()\n",
    "    .reset_index()\n",
    "    .rename(columns={\"index\": \"condition\", \"condition\": \"frequency\"})\n",
    ")\n",
    "\n",
    "freq.head()"
   ]
  },
  {
   "cell_type": "markdown",
   "metadata": {},
   "source": [
    "#### Create A Dataset Object Using A Pandas DataFrame"
   ]
  },
  {
   "cell_type": "code",
   "execution_count": 47,
   "metadata": {},
   "outputs": [
    {
     "data": {
      "text/plain": [
       "Dataset({\n",
       "    features: ['condition', 'frequency'],\n",
       "    num_rows: 884\n",
       "})"
      ]
     },
     "execution_count": 47,
     "metadata": {},
     "output_type": "execute_result"
    }
   ],
   "source": [
    "freq_dataset: DatasetDict = Dataset.from_pandas(df=freq)\n",
    "\n",
    "freq_dataset"
   ]
  },
  {
   "cell_type": "code",
   "execution_count": 48,
   "metadata": {},
   "outputs": [
    {
     "data": {
      "text/plain": [
       "{'condition': ['Birth Control', 'Depression', 'Pain'],\n",
       " 'frequency': [28788, 9069, 6145]}"
      ]
     },
     "execution_count": 48,
     "metadata": {},
     "output_type": "execute_result"
    }
   ],
   "source": [
    "freq_dataset[:3]"
   ]
  },
  {
   "cell_type": "markdown",
   "metadata": {},
   "source": [
    "### Save The Dataset\n",
    "\n",
    "<br>\n",
    "\n",
    "[![image.png](https://i.postimg.cc/8zQHjhXW/image.png)](https://postimg.cc/7f97RTkY)"
   ]
  },
  {
   "cell_type": "code",
   "execution_count": 49,
   "metadata": {},
   "outputs": [
    {
     "data": {
      "application/vnd.jupyter.widget-view+json": {
       "model_id": "81ddcd32e9c34a28a9477ab49b213667",
       "version_major": 2,
       "version_minor": 0
      },
      "text/plain": [
       "Saving the dataset (0/1 shards):   0%|          | 0/15 [00:00<?, ? examples/s]"
      ]
     },
     "metadata": {},
     "output_type": "display_data"
    }
   ],
   "source": [
    "# Save the data as an Arrow format\n",
    "sample_data = df.iloc[:15]\n",
    "Dataset.from_pandas(sample_data).save_to_disk(\"./my_data/sample_data\")"
   ]
  },
  {
   "cell_type": "markdown",
   "metadata": {},
   "source": [
    "#### Load Dataset\n",
    "\n",
    "```python\n",
    "from datasets import load_from_disk\n",
    "\n",
    "\n",
    "my_data: DatasetDict = load_from_disk(\"path-to-data\")\n",
    "\n",
    "```"
   ]
  },
  {
   "cell_type": "code",
   "execution_count": 50,
   "metadata": {},
   "outputs": [
    {
     "data": {
      "text/plain": [
       "Dataset({\n",
       "    features: ['id', 'drugName', 'condition', 'review', 'rating', 'date', 'usefulCount'],\n",
       "    num_rows: 15\n",
       "})"
      ]
     },
     "execution_count": 50,
     "metadata": {},
     "output_type": "execute_result"
    }
   ],
   "source": [
    "from datasets import load_from_disk\n",
    "\n",
    "load_from_disk(\"./my_data/sample_data\")"
   ]
  },
  {
   "cell_type": "markdown",
   "metadata": {},
   "source": [
    "<hr>\n",
    "\n",
    "#### Save To Disk (JSON/CSV)\n",
    "\n",
    "```text\n",
    "\n",
    "- For the CSV and JSON formats, each split has to be stored as a separate file. \n",
    "- One way to do this is by iterating over the keys and values in the DatasetDict object\n",
    "```\n",
    "\n"
   ]
  },
  {
   "cell_type": "code",
   "execution_count": 51,
   "metadata": {},
   "outputs": [
    {
     "data": {
      "text/html": [
       "<pre style=\"white-space:pre;overflow-x:auto;line-height:normal;font-family:Menlo,'DejaVu Sans Mono',consolas,'Courier New',monospace\"><span style=\"color: #800080; text-decoration-color: #800080; font-weight: bold\">dict_items</span><span style=\"font-weight: bold\">([(</span><span style=\"color: #008000; text-decoration-color: #008000\">'train'</span>, <span style=\"color: #800080; text-decoration-color: #800080; font-weight: bold\">Dataset</span><span style=\"font-weight: bold\">({</span>\n",
       "    features: <span style=\"font-weight: bold\">[</span><span style=\"color: #008000; text-decoration-color: #008000\">'patient_id'</span>, <span style=\"color: #008000; text-decoration-color: #008000\">'drugName'</span>, <span style=\"color: #008000; text-decoration-color: #008000\">'condition'</span>, <span style=\"color: #008000; text-decoration-color: #008000\">'review'</span>, <span style=\"color: #008000; text-decoration-color: #008000\">'rating'</span>, <span style=\"color: #008000; text-decoration-color: #008000\">'date'</span>, <span style=\"color: #008000; text-decoration-color: #008000\">'usefulCount'</span>, <span style=\"color: #008000; text-decoration-color: #008000\">'review_length'</span>, \n",
       "<span style=\"color: #008000; text-decoration-color: #008000\">'input_ids'</span>, <span style=\"color: #008000; text-decoration-color: #008000\">'token_type_ids'</span>, <span style=\"color: #008000; text-decoration-color: #008000\">'attention_mask'</span><span style=\"font-weight: bold\">]</span>,\n",
       "    num_rows: <span style=\"color: #008080; text-decoration-color: #008080; font-weight: bold\">208152</span>\n",
       "<span style=\"font-weight: bold\">}))</span>, <span style=\"font-weight: bold\">(</span><span style=\"color: #008000; text-decoration-color: #008000\">'test'</span>, <span style=\"color: #800080; text-decoration-color: #800080; font-weight: bold\">Dataset</span><span style=\"font-weight: bold\">({</span>\n",
       "    features: <span style=\"font-weight: bold\">[</span><span style=\"color: #008000; text-decoration-color: #008000\">'patient_id'</span>, <span style=\"color: #008000; text-decoration-color: #008000\">'drugName'</span>, <span style=\"color: #008000; text-decoration-color: #008000\">'condition'</span>, <span style=\"color: #008000; text-decoration-color: #008000\">'review'</span>, <span style=\"color: #008000; text-decoration-color: #008000\">'rating'</span>, <span style=\"color: #008000; text-decoration-color: #008000\">'date'</span>, <span style=\"color: #008000; text-decoration-color: #008000\">'usefulCount'</span>, <span style=\"color: #008000; text-decoration-color: #008000\">'review_length'</span>, \n",
       "<span style=\"color: #008000; text-decoration-color: #008000\">'input_ids'</span>, <span style=\"color: #008000; text-decoration-color: #008000\">'token_type_ids'</span>, <span style=\"color: #008000; text-decoration-color: #008000\">'attention_mask'</span><span style=\"font-weight: bold\">]</span>,\n",
       "    num_rows: <span style=\"color: #008080; text-decoration-color: #008080; font-weight: bold\">69320</span>\n",
       "<span style=\"font-weight: bold\">}))])</span>\n",
       "</pre>\n"
      ],
      "text/plain": [
       "\u001b[1;35mdict_items\u001b[0m\u001b[1m(\u001b[0m\u001b[1m[\u001b[0m\u001b[1m(\u001b[0m\u001b[32m'train'\u001b[0m, \u001b[1;35mDataset\u001b[0m\u001b[1m(\u001b[0m\u001b[1m{\u001b[0m\n",
       "    features: \u001b[1m[\u001b[0m\u001b[32m'patient_id'\u001b[0m, \u001b[32m'drugName'\u001b[0m, \u001b[32m'condition'\u001b[0m, \u001b[32m'review'\u001b[0m, \u001b[32m'rating'\u001b[0m, \u001b[32m'date'\u001b[0m, \u001b[32m'usefulCount'\u001b[0m, \u001b[32m'review_length'\u001b[0m, \n",
       "\u001b[32m'input_ids'\u001b[0m, \u001b[32m'token_type_ids'\u001b[0m, \u001b[32m'attention_mask'\u001b[0m\u001b[1m]\u001b[0m,\n",
       "    num_rows: \u001b[1;36m208152\u001b[0m\n",
       "\u001b[1m}\u001b[0m\u001b[1m)\u001b[0m\u001b[1m)\u001b[0m, \u001b[1m(\u001b[0m\u001b[32m'test'\u001b[0m, \u001b[1;35mDataset\u001b[0m\u001b[1m(\u001b[0m\u001b[1m{\u001b[0m\n",
       "    features: \u001b[1m[\u001b[0m\u001b[32m'patient_id'\u001b[0m, \u001b[32m'drugName'\u001b[0m, \u001b[32m'condition'\u001b[0m, \u001b[32m'review'\u001b[0m, \u001b[32m'rating'\u001b[0m, \u001b[32m'date'\u001b[0m, \u001b[32m'usefulCount'\u001b[0m, \u001b[32m'review_length'\u001b[0m, \n",
       "\u001b[32m'input_ids'\u001b[0m, \u001b[32m'token_type_ids'\u001b[0m, \u001b[32m'attention_mask'\u001b[0m\u001b[1m]\u001b[0m,\n",
       "    num_rows: \u001b[1;36m69320\u001b[0m\n",
       "\u001b[1m}\u001b[0m\u001b[1m)\u001b[0m\u001b[1m)\u001b[0m\u001b[1m]\u001b[0m\u001b[1m)\u001b[0m\n"
      ]
     },
     "metadata": {},
     "output_type": "display_data"
    },
    {
     "data": {
      "text/html": [
       "<pre style=\"white-space:pre;overflow-x:auto;line-height:normal;font-family:Menlo,'DejaVu Sans Mono',consolas,'Courier New',monospace\">========\n",
       "</pre>\n"
      ],
      "text/plain": [
       "========\n"
      ]
     },
     "metadata": {},
     "output_type": "display_data"
    },
    {
     "data": {
      "text/html": [
       "<pre style=\"white-space:pre;overflow-x:auto;line-height:normal;font-family:Menlo,'DejaVu Sans Mono',consolas,'Courier New',monospace\"><span style=\"color: #800080; text-decoration-color: #800080; font-weight: bold\">dict_keys</span><span style=\"font-weight: bold\">([</span><span style=\"color: #008000; text-decoration-color: #008000\">'train'</span>, <span style=\"color: #008000; text-decoration-color: #008000\">'test'</span><span style=\"font-weight: bold\">])</span>\n",
       "</pre>\n"
      ],
      "text/plain": [
       "\u001b[1;35mdict_keys\u001b[0m\u001b[1m(\u001b[0m\u001b[1m[\u001b[0m\u001b[32m'train'\u001b[0m, \u001b[32m'test'\u001b[0m\u001b[1m]\u001b[0m\u001b[1m)\u001b[0m\n"
      ]
     },
     "metadata": {},
     "output_type": "display_data"
    }
   ],
   "source": [
    "print(tokenized_dataset_2.items())\n",
    "print(\"========\")\n",
    "print(tokenized_dataset_2.keys())"
   ]
  },
  {
   "cell_type": "code",
   "execution_count": 52,
   "metadata": {},
   "outputs": [
    {
     "data": {
      "application/vnd.jupyter.widget-view+json": {
       "model_id": "d30e6dfcce834da295358635f5513690",
       "version_major": 2,
       "version_minor": 0
      },
      "text/plain": [
       "Creating json from Arrow format:   0%|          | 0/209 [00:00<?, ?ba/s]"
      ]
     },
     "metadata": {},
     "output_type": "display_data"
    },
    {
     "data": {
      "application/vnd.jupyter.widget-view+json": {
       "model_id": "70fb7f5b6b9a48ca99ef3e05bbc4bcc2",
       "version_major": 2,
       "version_minor": 0
      },
      "text/plain": [
       "Creating json from Arrow format:   0%|          | 0/70 [00:00<?, ?ba/s]"
      ]
     },
     "metadata": {},
     "output_type": "display_data"
    }
   ],
   "source": [
    "# Save as JSON\n",
    "for _split, _dataset in tokenized_dataset_2.items():\n",
    "    _dataset.to_json(f\"./my_data/drug-reviews-{_split}.jsonl\")"
   ]
  },
  {
   "cell_type": "markdown",
   "metadata": {},
   "source": [
    "## [Working With Big Data](https://huggingface.co/learn/nlp-course/chapter5/4?fw=pt)"
   ]
  },
  {
   "cell_type": "code",
   "execution_count": null,
   "metadata": {},
   "outputs": [],
   "source": []
  }
 ],
 "metadata": {
  "kernelspec": {
   "display_name": "nlp_p310",
   "language": "python",
   "name": "python3"
  },
  "language_info": {
   "codemirror_mode": {
    "name": "ipython",
    "version": 3
   },
   "file_extension": ".py",
   "mimetype": "text/x-python",
   "name": "python",
   "nbconvert_exporter": "python",
   "pygments_lexer": "ipython3",
   "version": "3.10.9"
  },
  "orig_nbformat": 4
 },
 "nbformat": 4,
 "nbformat_minor": 2
}
