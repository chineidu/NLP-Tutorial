{
 "cells": [
  {
   "cell_type": "markdown",
   "metadata": {},
   "source": [
    "# Text Classification"
   ]
  },
  {
   "cell_type": "code",
   "execution_count": 1,
   "metadata": {},
   "outputs": [
    {
     "name": "stdout",
     "output_type": "stream",
     "text": [
      "Python implementation: CPython\n",
      "Python version       : 3.11.8\n",
      "IPython version      : 8.22.2\n",
      "\n",
      "numpy       : 1.26.4\n",
      "pandas      : 2.2.1\n",
      "polars      : 0.20.18\n",
      "mlxtend     : 0.23.1\n",
      "transformers: 4.39.3\n",
      "\n",
      "conda environment: torch_p11\n",
      "\n"
     ]
    }
   ],
   "source": [
    "%load_ext watermark\n",
    "%watermark -v -p numpy,pandas,polars,mlxtend,transformers --conda"
   ]
  },
  {
   "cell_type": "code",
   "execution_count": 2,
   "metadata": {},
   "outputs": [],
   "source": [
    "# Built-in library\n",
    "from pathlib import Path\n",
    "import re\n",
    "import json\n",
    "from typing import Any, Optional, Union\n",
    "import logging\n",
    "import warnings\n",
    "\n",
    "# Standard imports\n",
    "import numpy as np\n",
    "import numpy.typing as npt\n",
    "from pprint import pprint\n",
    "import pandas as pd\n",
    "import polars as pl\n",
    "from rich.console import Console\n",
    "from rich.theme import Theme\n",
    "\n",
    "custom_theme = Theme(\n",
    "    {\n",
    "        \"info\": \"#76FF7B\",\n",
    "        \"warning\": \"#FBDDFE\",\n",
    "        \"error\": \"#FF0000\",\n",
    "    }\n",
    ")\n",
    "console = Console(theme=custom_theme)\n",
    "\n",
    "# Visualization\n",
    "import matplotlib.pyplot as plt\n",
    "\n",
    "# NumPy settings\n",
    "np.set_printoptions(precision=4)\n",
    "\n",
    "# Pandas settings\n",
    "pd.options.display.max_rows = 1_000\n",
    "pd.options.display.max_columns = 1_000\n",
    "pd.options.display.max_colwidth = 600\n",
    "\n",
    "# Polars settings\n",
    "pl.Config.set_fmt_str_lengths(1_000)\n",
    "pl.Config.set_tbl_cols(n=1_000)\n",
    "pl.Config.set_tbl_rows(n=200)\n",
    "\n",
    "warnings.filterwarnings(\"ignore\")\n",
    "\n",
    "\n",
    "# auto reload imports# Built-in library\n",
    "from pathlib import Path\n",
    "import re\n",
    "import json\n",
    "from typing import Any, Optional, Union\n",
    "import logging\n",
    "import warnings\n",
    "\n",
    "# Standard imports\n",
    "import numpy as np\n",
    "import numpy.typing as npt\n",
    "from pprint import pprint\n",
    "import pandas as pd\n",
    "import polars as pl\n",
    "from rich.console import Console\n",
    "from rich.theme import Theme\n",
    "\n",
    "custom_theme = Theme(\n",
    "    {\n",
    "        \"info\": \"#76FF7B\",\n",
    "        \"warning\": \"#FBDDFE\",\n",
    "        \"error\": \"#FF0000\",\n",
    "    }\n",
    ")\n",
    "console = Console(theme=custom_theme)\n",
    "\n",
    "# Visualization\n",
    "import matplotlib.pyplot as plt\n",
    "\n",
    "# NumPy settings\n",
    "np.set_printoptions(precision=4)\n",
    "\n",
    "# Pandas settings\n",
    "pd.options.display.max_rows = 1_000\n",
    "pd.options.display.max_columns = 1_000\n",
    "pd.options.display.max_colwidth = 600\n",
    "\n",
    "# Polars settings\n",
    "pl.Config.set_fmt_str_lengths(1_000)\n",
    "pl.Config.set_tbl_cols(n=1_000)\n",
    "pl.Config.set_tbl_rows(500)\n",
    "\n",
    "warnings.filterwarnings(\"ignore\")\n",
    "\n",
    "\n",
    "# Black code formatter (Optional)\n",
    "%load_ext lab_black\n",
    "\n",
    "# auto reload imports\n",
    "%load_ext autoreload\n",
    "%autoreload 2"
   ]
  },
  {
   "cell_type": "markdown",
   "metadata": {},
   "source": [
    "### Load Data"
   ]
  },
  {
   "cell_type": "code",
   "execution_count": 3,
   "metadata": {},
   "outputs": [],
   "source": [
    "from datasets import load_dataset, Dataset, DatasetDict\n",
    "\n",
    "\n",
    "# emotions_dataset = load_dataset(\"emotion\")\n",
    "# emotions_dataset"
   ]
  },
  {
   "cell_type": "code",
   "execution_count": 4,
   "metadata": {},
   "outputs": [],
   "source": [
    "sp: str = \"../../../data/emotions_dataset\"\n",
    "# emotions_dataset.save_to_disk(sp)\n",
    "\n",
    "emotions_dataset: DatasetDict = DatasetDict.load_from_disk(sp)"
   ]
  },
  {
   "cell_type": "code",
   "execution_count": 5,
   "metadata": {},
   "outputs": [
    {
     "data": {
      "text/plain": [
       "Dataset({\n",
       "    features: ['text', 'label'],\n",
       "    num_rows: 16000\n",
       "})"
      ]
     },
     "execution_count": 5,
     "metadata": {},
     "output_type": "execute_result"
    }
   ],
   "source": [
    "train_dataset: Dataset = emotions_dataset[\"train\"]\n",
    "test_dataset: Dataset = emotions_dataset[\"test\"]\n",
    "validation_dataset: Dataset = emotions_dataset[\"validation\"]\n",
    "\n",
    "train_dataset"
   ]
  },
  {
   "cell_type": "code",
   "execution_count": 6,
   "metadata": {},
   "outputs": [
    {
     "data": {
      "text/plain": [
       "({'text': 'i didnt feel humiliated', 'label': 0},\n",
       " {'text': ['i feel like i have to make the suffering i m seeing mean something',\n",
       "   'i do feel that running is a divine experience and that i can expect to have some type of spiritual encounter',\n",
       "   'i think it s the easiest time of year to feel dissatisfied',\n",
       "   'i feel low energy i m just thirsty',\n",
       "   'i have immense sympathy with the general point but as a possible proto writer trying to find time to write in the corners of life and with no sign of an agent let alone a publishing contract this feels a little precious'],\n",
       "  'label': [0, 1, 3, 0, 1]})"
      ]
     },
     "execution_count": 6,
     "metadata": {},
     "output_type": "execute_result"
    }
   ],
   "source": [
    "train_dataset[0], train_dataset[10:15]"
   ]
  },
  {
   "cell_type": "code",
   "execution_count": 7,
   "metadata": {},
   "outputs": [
    {
     "data": {
      "text/html": [
       "<pre style=\"white-space:pre;overflow-x:auto;line-height:normal;font-family:Menlo,'DejaVu Sans Mono',consolas,'Courier New',monospace\"><span style=\"font-weight: bold\">[</span><span style=\"color: #008000; text-decoration-color: #008000\">'text'</span>, <span style=\"color: #008000; text-decoration-color: #008000\">'label'</span><span style=\"font-weight: bold\">]</span>\n",
       "</pre>\n"
      ],
      "text/plain": [
       "\u001b[1m[\u001b[0m\u001b[32m'text'\u001b[0m, \u001b[32m'label'\u001b[0m\u001b[1m]\u001b[0m\n"
      ]
     },
     "metadata": {},
     "output_type": "display_data"
    },
    {
     "data": {
      "text/html": [
       "<pre style=\"white-space:pre;overflow-x:auto;line-height:normal;font-family:Menlo,'DejaVu Sans Mono',consolas,'Courier New',monospace\"><span style=\"font-weight: bold\">{</span>\n",
       "    <span style=\"color: #008000; text-decoration-color: #008000\">'text'</span>: <span style=\"color: #800080; text-decoration-color: #800080; font-weight: bold\">Value</span><span style=\"font-weight: bold\">(</span><span style=\"color: #808000; text-decoration-color: #808000\">dtype</span>=<span style=\"color: #008000; text-decoration-color: #008000\">'string'</span>, <span style=\"color: #808000; text-decoration-color: #808000\">id</span>=<span style=\"color: #800080; text-decoration-color: #800080; font-style: italic\">None</span><span style=\"font-weight: bold\">)</span>,\n",
       "    <span style=\"color: #008000; text-decoration-color: #008000\">'label'</span>: <span style=\"color: #800080; text-decoration-color: #800080; font-weight: bold\">ClassLabel</span><span style=\"font-weight: bold\">(</span><span style=\"color: #808000; text-decoration-color: #808000\">names</span>=<span style=\"font-weight: bold\">[</span><span style=\"color: #008000; text-decoration-color: #008000\">'sadness'</span>, <span style=\"color: #008000; text-decoration-color: #008000\">'joy'</span>, <span style=\"color: #008000; text-decoration-color: #008000\">'love'</span>, <span style=\"color: #008000; text-decoration-color: #008000\">'anger'</span>, <span style=\"color: #008000; text-decoration-color: #008000\">'fear'</span>, <span style=\"color: #008000; text-decoration-color: #008000\">'surprise'</span><span style=\"font-weight: bold\">]</span>, <span style=\"color: #808000; text-decoration-color: #808000\">id</span>=<span style=\"color: #800080; text-decoration-color: #800080; font-style: italic\">None</span><span style=\"font-weight: bold\">)</span>\n",
       "<span style=\"font-weight: bold\">}</span>\n",
       "</pre>\n"
      ],
      "text/plain": [
       "\u001b[1m{\u001b[0m\n",
       "    \u001b[32m'text'\u001b[0m: \u001b[1;35mValue\u001b[0m\u001b[1m(\u001b[0m\u001b[33mdtype\u001b[0m=\u001b[32m'string'\u001b[0m, \u001b[33mid\u001b[0m=\u001b[3;35mNone\u001b[0m\u001b[1m)\u001b[0m,\n",
       "    \u001b[32m'label'\u001b[0m: \u001b[1;35mClassLabel\u001b[0m\u001b[1m(\u001b[0m\u001b[33mnames\u001b[0m=\u001b[1m[\u001b[0m\u001b[32m'sadness'\u001b[0m, \u001b[32m'joy'\u001b[0m, \u001b[32m'love'\u001b[0m, \u001b[32m'anger'\u001b[0m, \u001b[32m'fear'\u001b[0m, \u001b[32m'surprise'\u001b[0m\u001b[1m]\u001b[0m, \u001b[33mid\u001b[0m=\u001b[3;35mNone\u001b[0m\u001b[1m)\u001b[0m\n",
       "\u001b[1m}\u001b[0m\n"
      ]
     },
     "metadata": {},
     "output_type": "display_data"
    }
   ],
   "source": [
    "console.print(train_dataset.column_names)\n",
    "console.print(train_dataset.features)"
   ]
  },
  {
   "cell_type": "markdown",
   "metadata": {},
   "source": [
    "<hr>\n",
    "\n",
    "#### Loading Data From Local Files / Remote Files\n",
    "\n",
    "```py\n",
    "# CSV\n",
    "load_dataset(\"csv\", data_files=\"my_file.csv\")\n",
    "\n",
    "# JSON\n",
    "load_dataset(\"json\", data_files=\"my_file.json\")\n",
    "\n",
    "# TEXT\n",
    "load_dataset(\"text\", data_files=\"my_file.txt\")\n",
    "```"
   ]
  },
  {
   "cell_type": "code",
   "execution_count": 8,
   "metadata": {},
   "outputs": [
    {
     "data": {
      "text/html": [
       "<pre style=\"white-space:pre;overflow-x:auto;line-height:normal;font-family:Menlo,'DejaVu Sans Mono',consolas,'Courier New',monospace\"><span style=\"color: #800080; text-decoration-color: #800080; font-weight: bold\">DatasetDict</span><span style=\"font-weight: bold\">({</span>\n",
       "    train: <span style=\"color: #800080; text-decoration-color: #800080; font-weight: bold\">Dataset</span><span style=\"font-weight: bold\">({</span>\n",
       "        features: <span style=\"font-weight: bold\">[</span><span style=\"color: #008000; text-decoration-color: #008000\">'text'</span>, <span style=\"color: #008000; text-decoration-color: #008000\">'labels'</span><span style=\"font-weight: bold\">]</span>,\n",
       "        num_rows: <span style=\"color: #008080; text-decoration-color: #008080; font-weight: bold\">2225</span>\n",
       "    <span style=\"font-weight: bold\">})</span>\n",
       "<span style=\"font-weight: bold\">})</span>\n",
       "</pre>\n"
      ],
      "text/plain": [
       "\u001b[1;35mDatasetDict\u001b[0m\u001b[1m(\u001b[0m\u001b[1m{\u001b[0m\n",
       "    train: \u001b[1;35mDataset\u001b[0m\u001b[1m(\u001b[0m\u001b[1m{\u001b[0m\n",
       "        features: \u001b[1m[\u001b[0m\u001b[32m'text'\u001b[0m, \u001b[32m'labels'\u001b[0m\u001b[1m]\u001b[0m,\n",
       "        num_rows: \u001b[1;36m2225\u001b[0m\n",
       "    \u001b[1m}\u001b[0m\u001b[1m)\u001b[0m\n",
       "\u001b[1m}\u001b[0m\u001b[1m)\u001b[0m\n"
      ]
     },
     "metadata": {},
     "output_type": "display_data"
    },
    {
     "data": {
      "text/plain": [
       "{'text': ['Ad sales boost Time Warner profit\\n\\nQuarterly profits at US media giant TimeWarner jumped 76% to $1.13bn (£600m) for the three months to December, from $639m year-earlier.\\n\\nThe firm, which is now one of the biggest investors in Google, benefited from sales of high-speed internet connections and higher advert sales. TimeWarner said fourth quarter sales rose 2% to $11.1bn from $10.9bn. Its profits were buoyed by one-off gains which offset a profit dip at Warner Bros, and less users for AOL.\\n\\nTime Warner said on Friday that it now owns 8% of search-engine Google. But its own internet business, AOL, had has mixed fortunes. It lost 464,000 subscribers in the fourth quarter profits were lower than in the preceding three quarters. However, the company said AOL\\'s underlying profit before exceptional items rose 8% on the back of stronger internet advertising revenues. It hopes to increase subscribers by offering the online service free to TimeWarner internet customers and will try to sign up AOL\\'s existing customers for high-speed broadband. TimeWarner also has to restate 2000 and 2003 results following a probe by the US Securities Exchange Commission (SEC), which is close to concluding.\\n\\nTime Warner\\'s fourth quarter profits were slightly better than analysts\\' expectations. But its film division saw profits slump 27% to $284m, helped by box-office flops Alexander and Catwoman, a sharp contrast to year-earlier, when the third and final film in the Lord of the Rings trilogy boosted results. For the full-year, TimeWarner posted a profit of $3.36bn, up 27% from its 2003 performance, while revenues grew 6.4% to $42.09bn. \"Our financial performance was strong, meeting or exceeding all of our full-year objectives and greatly enhancing our flexibility,\" chairman and chief executive Richard Parsons said. For 2005, TimeWarner is projecting operating earnings growth of around 5%, and also expects higher revenue and wider profit margins.\\n\\nTimeWarner is to restate its accounts as part of efforts to resolve an inquiry into AOL by US market regulators. It has already offered to pay $300m to settle charges, in a deal that is under review by the SEC. The company said it was unable to estimate the amount it needed to set aside for legal reserves, which it previously set at $500m. It intends to adjust the way it accounts for a deal with German music publisher Bertelsmann\\'s purchase of a stake in AOL Europe, which it had reported as advertising revenue. It will now book the sale of its stake in AOL Europe as a loss on the value of that stake.',\n",
       "  'Dollar gains on Greenspan speech\\n\\nThe dollar has hit its highest level against the euro in almost three months after the Federal Reserve head said the US trade deficit is set to stabilise.\\n\\nAnd Alan Greenspan highlighted the US government\\'s willingness to curb spending and rising household savings as factors which may help to reduce it. In late trading in New York, the dollar reached $1.2871 against the euro, from $1.2974 on Thursday. Market concerns about the deficit has hit the greenback in recent months. On Friday, Federal Reserve chairman Mr Greenspan\\'s speech in London ahead of the meeting of G7 finance ministers sent the dollar higher after it had earlier tumbled on the back of worse-than-expected US jobs data. \"I think the chairman\\'s taking a much more sanguine view on the current account deficit than he\\'s taken for some time,\" said Robert Sinche, head of currency strategy at Bank of America in New York. \"He\\'s taking a longer-term view, laying out a set of conditions under which the current account deficit can improve this year and next.\"\\n\\nWorries about the deficit concerns about China do, however, remain. China\\'s currency remains pegged to the dollar and the US currency\\'s sharp falls in recent months have therefore made Chinese export prices highly competitive. But calls for a shift in Beijing\\'s policy have fallen on deaf ears, despite recent comments in a major Chinese newspaper that the \"time is ripe\" for a loosening of the peg. The G7 meeting is thought unlikely to produce any meaningful movement in Chinese policy. In the meantime, the US Federal Reserve\\'s decision on 2 February to boost interest rates by a quarter of a point - the sixth such move in as many months - has opened up a differential with European rates. The half-point window, some believe, could be enough to keep US assets looking more attractive, and could help prop up the dollar. The recent falls have partly been the result of big budget deficits, as well as the US\\'s yawning current account gap, both of which need to be funded by the buying of US bonds and assets by foreign firms and governments. The White House will announce its budget on Monday, and many commentators believe the deficit will remain at close to half a trillion dollars.'],\n",
       " 'labels': ['business', 'business']}"
      ]
     },
     "execution_count": 8,
     "metadata": {},
     "output_type": "execute_result"
    }
   ],
   "source": [
    "fp: str = \"../../../data/bbc_text_cls.csv\"\n",
    "sample_data = load_dataset(path=\"csv\", data_files=fp, sep=\",\")\n",
    "console.print(sample_data)\n",
    "\n",
    "sample_data[\"train\"][:2]"
   ]
  },
  {
   "cell_type": "markdown",
   "metadata": {},
   "source": [
    "### From Datasets To Dataframes"
   ]
  },
  {
   "cell_type": "code",
   "execution_count": 9,
   "metadata": {},
   "outputs": [
    {
     "data": {
      "text/html": [
       "<div><style>\n",
       ".dataframe > thead > tr,\n",
       ".dataframe > tbody > tr {\n",
       "  text-align: right;\n",
       "  white-space: pre-wrap;\n",
       "}\n",
       "</style>\n",
       "<small>shape: (2, 2)</small><table border=\"1\" class=\"dataframe\"><thead><tr><th>text</th><th>label</th></tr><tr><td>str</td><td>i64</td></tr></thead><tbody><tr><td>&quot;i didnt feel humiliated&quot;</td><td>0</td></tr><tr><td>&quot;i can go from feeling so hopeless to so damned hopeful just from being around someone who cares and is awake&quot;</td><td>0</td></tr></tbody></table></div>"
      ],
      "text/plain": [
       "shape: (2, 2)\n",
       "┌───────────────────────────────────────────────────────────────────────────────────────┬───────┐\n",
       "│ text                                                                                  ┆ label │\n",
       "│ ---                                                                                   ┆ ---   │\n",
       "│ str                                                                                   ┆ i64   │\n",
       "╞═══════════════════════════════════════════════════════════════════════════════════════╪═══════╡\n",
       "│ i didnt feel humiliated                                                               ┆ 0     │\n",
       "│ i can go from feeling so hopeless to so damned hopeful just from being around someone ┆ 0     │\n",
       "│ who cares and is awake                                                                ┆       │\n",
       "└───────────────────────────────────────────────────────────────────────────────────────┴───────┘"
      ]
     },
     "execution_count": 9,
     "metadata": {},
     "output_type": "execute_result"
    }
   ],
   "source": [
    "emotions_dataset.set_format(type=\"polars\")\n",
    "df: pl.DataFrame = emotions_dataset[\"train\"][:]\n",
    "\n",
    "df.head(2)"
   ]
  },
  {
   "cell_type": "code",
   "execution_count": 10,
   "metadata": {},
   "outputs": [
    {
     "name": "stdout",
     "output_type": "stream",
     "text": [
      "ClassLabel(names=['sadness', 'joy', 'love', 'anger', 'fear', 'surprise'], id=None)\n",
      "0:  sadness\n",
      "1:  joy\n"
     ]
    }
   ],
   "source": [
    "print(emotions_dataset[\"train\"].features[\"label\"])  # .int2str(row)\n",
    "print(\"0: \", emotions_dataset[\"train\"].features[\"label\"].int2str(0))\n",
    "print(\"1: \", emotions_dataset[\"train\"].features[\"label\"].int2str(1))"
   ]
  },
  {
   "cell_type": "code",
   "execution_count": 11,
   "metadata": {},
   "outputs": [],
   "source": [
    "def label_int_to_str(row: int) -> str:\n",
    "    \"\"\"This converts an integer label to string.\"\"\"\n",
    "    return emotions_dataset[\"train\"].features[\"label\"].int2str(row)"
   ]
  },
  {
   "cell_type": "code",
   "execution_count": 12,
   "metadata": {},
   "outputs": [
    {
     "data": {
      "text/html": [
       "<div><style>\n",
       ".dataframe > thead > tr,\n",
       ".dataframe > tbody > tr {\n",
       "  text-align: right;\n",
       "  white-space: pre-wrap;\n",
       "}\n",
       "</style>\n",
       "<small>shape: (5, 3)</small><table border=\"1\" class=\"dataframe\"><thead><tr><th>text</th><th>label</th><th>label_name</th></tr><tr><td>str</td><td>i64</td><td>str</td></tr></thead><tbody><tr><td>&quot;i didnt feel humiliated&quot;</td><td>0</td><td>&quot;sadness&quot;</td></tr><tr><td>&quot;i can go from feeling so hopeless to so damned hopeful just from being around someone who cares and is awake&quot;</td><td>0</td><td>&quot;sadness&quot;</td></tr><tr><td>&quot;im grabbing a minute to post i feel greedy wrong&quot;</td><td>3</td><td>&quot;anger&quot;</td></tr><tr><td>&quot;i am ever feeling nostalgic about the fireplace i will know that it is still on the property&quot;</td><td>2</td><td>&quot;love&quot;</td></tr><tr><td>&quot;i am feeling grouchy&quot;</td><td>3</td><td>&quot;anger&quot;</td></tr></tbody></table></div>"
      ],
      "text/plain": [
       "shape: (5, 3)\n",
       "┌────────────────────────────────────────────────────────────────────────┬───────┬────────────┐\n",
       "│ text                                                                   ┆ label ┆ label_name │\n",
       "│ ---                                                                    ┆ ---   ┆ ---        │\n",
       "│ str                                                                    ┆ i64   ┆ str        │\n",
       "╞════════════════════════════════════════════════════════════════════════╪═══════╪════════════╡\n",
       "│ i didnt feel humiliated                                                ┆ 0     ┆ sadness    │\n",
       "│ i can go from feeling so hopeless to so damned hopeful just from being ┆ 0     ┆ sadness    │\n",
       "│ around someone who cares and is awake                                  ┆       ┆            │\n",
       "│ im grabbing a minute to post i feel greedy wrong                       ┆ 3     ┆ anger      │\n",
       "│ i am ever feeling nostalgic about the fireplace i will know that it is ┆ 2     ┆ love       │\n",
       "│ still on the property                                                  ┆       ┆            │\n",
       "│ i am feeling grouchy                                                   ┆ 3     ┆ anger      │\n",
       "└────────────────────────────────────────────────────────────────────────┴───────┴────────────┘"
      ]
     },
     "execution_count": 12,
     "metadata": {},
     "output_type": "execute_result"
    }
   ],
   "source": [
    "df = df.with_columns(pl.col(\"label\").map_elements(label_int_to_str).alias(\"label_name\"))\n",
    "\n",
    "df.head()"
   ]
  },
  {
   "cell_type": "code",
   "execution_count": 13,
   "metadata": {},
   "outputs": [
    {
     "data": {
      "image/png": "[encoded data removed]",
      "text/plain": [
       "<Figure size 640x480 with 1 Axes>"
      ]
     },
     "metadata": {},
     "output_type": "display_data"
    }
   ],
   "source": [
    "# The dataset is highly imbalanced.\n",
    "X = df[\"label_name\"].value_counts(sort=True)\n",
    "\n",
    "plt.bar(X[\"label_name\"], X[\"count\"])\n",
    "plt.xlabel(\"Label\")\n",
    "plt.ylabel(\"Count\")\n",
    "plt.title(\"Label Counts\")\n",
    "plt.show()"
   ]
  },
  {
   "cell_type": "code",
   "execution_count": 14,
   "metadata": {},
   "outputs": [
    {
     "data": {
      "text/html": [
       "<div><style>\n",
       ".dataframe > thead > tr,\n",
       ".dataframe > tbody > tr {\n",
       "  text-align: right;\n",
       "  white-space: pre-wrap;\n",
       "}\n",
       "</style>\n",
       "<small>shape: (10, 5)</small><table border=\"1\" class=\"dataframe\"><thead><tr><th>text</th><th>label</th><th>label_name</th><th>char_length</th><th>n_words</th></tr><tr><td>str</td><td>i64</td><td>str</td><td>u32</td><td>u32</td></tr></thead><tbody><tr><td>&quot;i feel that peaceful feeling leave me and i feel down&quot;</td><td>1</td><td>&quot;joy&quot;</td><td>53</td><td>11</td></tr><tr><td>&quot;i feel a longing for i have no idea what if it was ever even there&quot;</td><td>2</td><td>&quot;love&quot;</td><td>66</td><td>16</td></tr><tr><td>&quot;i honestly feel is almost tragic&quot;</td><td>0</td><td>&quot;sadness&quot;</td><td>32</td><td>6</td></tr><tr><td>&quot;i didnt feel if i was having a shitty day i wouldnt usually come right out and say i was having a shitty day&quot;</td><td>0</td><td>&quot;sadness&quot;</td><td>108</td><td>24</td></tr><tr><td>&quot;i do not give flowers all the time as i feel that makes me a wuss and needy&quot;</td><td>0</td><td>&quot;sadness&quot;</td><td>75</td><td>18</td></tr><tr><td>&quot;ive hijacked a fantasy and i feel foolish&quot;</td><td>0</td><td>&quot;sadness&quot;</td><td>41</td><td>8</td></tr><tr><td>&quot;i really feel rotten and my ear hurts so bad but i still managed to work out days and really push the intensity&quot;</td><td>0</td><td>&quot;sadness&quot;</td><td>111</td><td>23</td></tr><tr><td>&quot;i felt like the boys were disadvantaged missing out on all the exciting entertainments at home for children but now i feel like they have had a precious opportunity to get close and familiar with nature&quot;</td><td>1</td><td>&quot;joy&quot;</td><td>202</td><td>36</td></tr><tr><td>&quot;i feel obama is simply because hillary is so hated by so many&quot;</td><td>0</td><td>&quot;sadness&quot;</td><td>61</td><td>13</td></tr><tr><td>&quot;i have been in a rare organising mode brought on by tomorrows inspection that has made me feel fairly virtuous&quot;</td><td>1</td><td>&quot;joy&quot;</td><td>110</td><td>20</td></tr></tbody></table></div>"
      ],
      "text/plain": [
       "shape: (10, 5)\n",
       "┌─────────────────────────────────────────────────────┬───────┬────────────┬─────────────┬─────────┐\n",
       "│ text                                                ┆ label ┆ label_name ┆ char_length ┆ n_words │\n",
       "│ ---                                                 ┆ ---   ┆ ---        ┆ ---         ┆ ---     │\n",
       "│ str                                                 ┆ i64   ┆ str        ┆ u32         ┆ u32     │\n",
       "╞═════════════════════════════════════════════════════╪═══════╪════════════╪═════════════╪═════════╡\n",
       "│ i feel that peaceful feeling leave me and i feel    ┆ 1     ┆ joy        ┆ 53          ┆ 11      │\n",
       "│ down                                                ┆       ┆            ┆             ┆         │\n",
       "│ i feel a longing for i have no idea what if it was  ┆ 2     ┆ love       ┆ 66          ┆ 16      │\n",
       "│ ever even there                                     ┆       ┆            ┆             ┆         │\n",
       "│ i honestly feel is almost tragic                    ┆ 0     ┆ sadness    ┆ 32          ┆ 6       │\n",
       "│ i didnt feel if i was having a shitty day i wouldnt ┆ 0     ┆ sadness    ┆ 108         ┆ 24      │\n",
       "│ usually come right out and say i was having a       ┆       ┆            ┆             ┆         │\n",
       "│ shitty day                                          ┆       ┆            ┆             ┆         │\n",
       "│ i do not give flowers all the time as i feel that   ┆ 0     ┆ sadness    ┆ 75          ┆ 18      │\n",
       "│ makes me a wuss and needy                           ┆       ┆            ┆             ┆         │\n",
       "│ ive hijacked a fantasy and i feel foolish           ┆ 0     ┆ sadness    ┆ 41          ┆ 8       │\n",
       "│ i really feel rotten and my ear hurts so bad but i  ┆ 0     ┆ sadness    ┆ 111         ┆ 23      │\n",
       "│ still managed to work out days and really push the  ┆       ┆            ┆             ┆         │\n",
       "│ intensity                                           ┆       ┆            ┆             ┆         │\n",
       "│ i felt like the boys were disadvantaged missing out ┆ 1     ┆ joy        ┆ 202         ┆ 36      │\n",
       "│ on all the exciting entertainments at home for      ┆       ┆            ┆             ┆         │\n",
       "│ children but now i feel like they have had a        ┆       ┆            ┆             ┆         │\n",
       "│ precious opportunity to get close and familiar with ┆       ┆            ┆             ┆         │\n",
       "│ nature                                              ┆       ┆            ┆             ┆         │\n",
       "│ i feel obama is simply because hillary is so hated  ┆ 0     ┆ sadness    ┆ 61          ┆ 13      │\n",
       "│ by so many                                          ┆       ┆            ┆             ┆         │\n",
       "│ i have been in a rare organising mode brought on by ┆ 1     ┆ joy        ┆ 110         ┆ 20      │\n",
       "│ tomorrows inspection that has made me feel fairly   ┆       ┆            ┆             ┆         │\n",
       "│ virtuous                                            ┆       ┆            ┆             ┆         │\n",
       "└─────────────────────────────────────────────────────┴───────┴────────────┴─────────────┴─────────┘"
      ]
     },
     "execution_count": 14,
     "metadata": {},
     "output_type": "execute_result"
    }
   ],
   "source": [
    "# Length of the tweets\n",
    "df = df.with_columns(\n",
    "    pl.col(\"text\").str.len_bytes().alias(\"char_length\"),\n",
    "    pl.col(\"text\").str.split(\" \").list.len().alias(\"n_words\"),\n",
    ")\n",
    "\n",
    "df.sample(n=10, seed=123)"
   ]
  },
  {
   "cell_type": "code",
   "execution_count": 15,
   "metadata": {},
   "outputs": [
    {
     "data": {
      "text/html": [
       "<div><style>\n",
       ".dataframe > thead > tr,\n",
       ".dataframe > tbody > tr {\n",
       "  text-align: right;\n",
       "  white-space: pre-wrap;\n",
       "}\n",
       "</style>\n",
       "<small>shape: (6, 3)</small><table border=\"1\" class=\"dataframe\"><thead><tr><th>label_name</th><th>avg_char_length</th><th>avg_n_words</th></tr><tr><td>str</td><td>f64</td><td>f64</td></tr></thead><tbody><tr><td>&quot;sadness&quot;</td><td>92.55</td><td>18.36</td></tr><tr><td>&quot;fear&quot;</td><td>96.12</td><td>18.84</td></tr><tr><td>&quot;anger&quot;</td><td>96.91</td><td>19.23</td></tr><tr><td>&quot;joy&quot;</td><td>98.55</td><td>19.5</td></tr><tr><td>&quot;surprise&quot;</td><td>101.68</td><td>19.97</td></tr><tr><td>&quot;love&quot;</td><td>104.03</td><td>20.7</td></tr></tbody></table></div>"
      ],
      "text/plain": [
       "shape: (6, 3)\n",
       "┌────────────┬─────────────────┬─────────────┐\n",
       "│ label_name ┆ avg_char_length ┆ avg_n_words │\n",
       "│ ---        ┆ ---             ┆ ---         │\n",
       "│ str        ┆ f64             ┆ f64         │\n",
       "╞════════════╪═════════════════╪═════════════╡\n",
       "│ sadness    ┆ 92.55           ┆ 18.36       │\n",
       "│ fear       ┆ 96.12           ┆ 18.84       │\n",
       "│ anger      ┆ 96.91           ┆ 19.23       │\n",
       "│ joy        ┆ 98.55           ┆ 19.5        │\n",
       "│ surprise   ┆ 101.68          ┆ 19.97       │\n",
       "│ love       ┆ 104.03          ┆ 20.7        │\n",
       "└────────────┴─────────────────┴─────────────┘"
      ]
     },
     "execution_count": 15,
     "metadata": {},
     "output_type": "execute_result"
    }
   ],
   "source": [
    "df.group_by(\"label_name\").agg(\n",
    "    avg_char_length=pl.col(\"char_length\").mean().round(2),\n",
    "    avg_n_words=pl.col(\"n_words\").mean().round(2),\n",
    ").sort(\"avg_n_words\")"
   ]
  },
  {
   "cell_type": "code",
   "execution_count": 16,
   "metadata": {},
   "outputs": [],
   "source": [
    "# Reset the format\n",
    "emotions_dataset.reset_format()"
   ]
  },
  {
   "cell_type": "markdown",
   "metadata": {},
   "source": [
    "#### From Text To Tokens\n",
    "\n",
    "- **Character-level Tokenization**:\n",
    "  - a technique in natural language processing where text is broken down into individual characters.\n",
    "  - useful for tasks such as character-level language modeling or for working with languages that do not have a fixed vocabulary size or clear word boundaries.\n",
    "  - however, it can be computationally expensive and may not capture the full meaning of the text."
   ]
  },
  {
   "cell_type": "code",
   "execution_count": 17,
   "metadata": {},
   "outputs": [
    {
     "data": {
      "text/html": [
       "<pre style=\"white-space:pre;overflow-x:auto;line-height:normal;font-family:Menlo,'DejaVu Sans Mono',consolas,'Courier New',monospace\"><span style=\"font-weight: bold\">[</span>\n",
       "    <span style=\"color: #008000; text-decoration-color: #008000\">'T'</span>,\n",
       "    <span style=\"color: #008000; text-decoration-color: #008000\">'o'</span>,\n",
       "    <span style=\"color: #008000; text-decoration-color: #008000\">'k'</span>,\n",
       "    <span style=\"color: #008000; text-decoration-color: #008000\">'e'</span>,\n",
       "    <span style=\"color: #008000; text-decoration-color: #008000\">'n'</span>,\n",
       "    <span style=\"color: #008000; text-decoration-color: #008000\">'i'</span>,\n",
       "    <span style=\"color: #008000; text-decoration-color: #008000\">'z'</span>,\n",
       "    <span style=\"color: #008000; text-decoration-color: #008000\">'i'</span>,\n",
       "    <span style=\"color: #008000; text-decoration-color: #008000\">'n'</span>,\n",
       "    <span style=\"color: #008000; text-decoration-color: #008000\">'g'</span>,\n",
       "    <span style=\"color: #008000; text-decoration-color: #008000\">' '</span>,\n",
       "    <span style=\"color: #008000; text-decoration-color: #008000\">'t'</span>,\n",
       "    <span style=\"color: #008000; text-decoration-color: #008000\">'e'</span>,\n",
       "    <span style=\"color: #008000; text-decoration-color: #008000\">'x'</span>,\n",
       "    <span style=\"color: #008000; text-decoration-color: #008000\">'t'</span>,\n",
       "    <span style=\"color: #008000; text-decoration-color: #008000\">' '</span>,\n",
       "    <span style=\"color: #008000; text-decoration-color: #008000\">'i'</span>,\n",
       "    <span style=\"color: #008000; text-decoration-color: #008000\">'s'</span>,\n",
       "    <span style=\"color: #008000; text-decoration-color: #008000\">' '</span>,\n",
       "    <span style=\"color: #008000; text-decoration-color: #008000\">'a'</span>,\n",
       "    <span style=\"color: #008000; text-decoration-color: #008000\">' '</span>,\n",
       "    <span style=\"color: #008000; text-decoration-color: #008000\">'c'</span>,\n",
       "    <span style=\"color: #008000; text-decoration-color: #008000\">'o'</span>,\n",
       "    <span style=\"color: #008000; text-decoration-color: #008000\">'r'</span>,\n",
       "    <span style=\"color: #008000; text-decoration-color: #008000\">'e'</span>,\n",
       "    <span style=\"color: #008000; text-decoration-color: #008000\">' '</span>,\n",
       "    <span style=\"color: #008000; text-decoration-color: #008000\">'t'</span>,\n",
       "    <span style=\"color: #008000; text-decoration-color: #008000\">'a'</span>,\n",
       "    <span style=\"color: #008000; text-decoration-color: #008000\">'s'</span>,\n",
       "    <span style=\"color: #008000; text-decoration-color: #008000\">'k'</span>,\n",
       "    <span style=\"color: #008000; text-decoration-color: #008000\">' '</span>,\n",
       "    <span style=\"color: #008000; text-decoration-color: #008000\">'o'</span>,\n",
       "    <span style=\"color: #008000; text-decoration-color: #008000\">'f'</span>,\n",
       "    <span style=\"color: #008000; text-decoration-color: #008000\">' '</span>,\n",
       "    <span style=\"color: #008000; text-decoration-color: #008000\">'N'</span>,\n",
       "    <span style=\"color: #008000; text-decoration-color: #008000\">'L'</span>,\n",
       "    <span style=\"color: #008000; text-decoration-color: #008000\">'P'</span>,\n",
       "    <span style=\"color: #008000; text-decoration-color: #008000\">'.'</span>\n",
       "<span style=\"font-weight: bold\">]</span>\n",
       "</pre>\n"
      ],
      "text/plain": [
       "\u001b[1m[\u001b[0m\n",
       "    \u001b[32m'T'\u001b[0m,\n",
       "    \u001b[32m'o'\u001b[0m,\n",
       "    \u001b[32m'k'\u001b[0m,\n",
       "    \u001b[32m'e'\u001b[0m,\n",
       "    \u001b[32m'n'\u001b[0m,\n",
       "    \u001b[32m'i'\u001b[0m,\n",
       "    \u001b[32m'z'\u001b[0m,\n",
       "    \u001b[32m'i'\u001b[0m,\n",
       "    \u001b[32m'n'\u001b[0m,\n",
       "    \u001b[32m'g'\u001b[0m,\n",
       "    \u001b[32m' '\u001b[0m,\n",
       "    \u001b[32m't'\u001b[0m,\n",
       "    \u001b[32m'e'\u001b[0m,\n",
       "    \u001b[32m'x'\u001b[0m,\n",
       "    \u001b[32m't'\u001b[0m,\n",
       "    \u001b[32m' '\u001b[0m,\n",
       "    \u001b[32m'i'\u001b[0m,\n",
       "    \u001b[32m's'\u001b[0m,\n",
       "    \u001b[32m' '\u001b[0m,\n",
       "    \u001b[32m'a'\u001b[0m,\n",
       "    \u001b[32m' '\u001b[0m,\n",
       "    \u001b[32m'c'\u001b[0m,\n",
       "    \u001b[32m'o'\u001b[0m,\n",
       "    \u001b[32m'r'\u001b[0m,\n",
       "    \u001b[32m'e'\u001b[0m,\n",
       "    \u001b[32m' '\u001b[0m,\n",
       "    \u001b[32m't'\u001b[0m,\n",
       "    \u001b[32m'a'\u001b[0m,\n",
       "    \u001b[32m's'\u001b[0m,\n",
       "    \u001b[32m'k'\u001b[0m,\n",
       "    \u001b[32m' '\u001b[0m,\n",
       "    \u001b[32m'o'\u001b[0m,\n",
       "    \u001b[32m'f'\u001b[0m,\n",
       "    \u001b[32m' '\u001b[0m,\n",
       "    \u001b[32m'N'\u001b[0m,\n",
       "    \u001b[32m'L'\u001b[0m,\n",
       "    \u001b[32m'P'\u001b[0m,\n",
       "    \u001b[32m'.'\u001b[0m\n",
       "\u001b[1m]\u001b[0m\n"
      ]
     },
     "metadata": {},
     "output_type": "display_data"
    }
   ],
   "source": [
    "text: str = \"Tokenizing text is a core task of NLP.\"\n",
    "tokenized_text: list[str] = list(text)  # character level tokenization\n",
    "\n",
    "console.print(tokenized_text)"
   ]
  },
  {
   "cell_type": "code",
   "execution_count": 18,
   "metadata": {},
   "outputs": [
    {
     "name": "stdout",
     "output_type": "stream",
     "text": [
      "token2idx = {' ': 0, '.': 1, 'L': 2, 'N': 3, 'P': 4, 'T': 5, 'a': 6, 'c': 7, 'e': 8, 'f': 9, 'g': 10, 'i': 11, 'k': 12, 'n': 13, 'o': 14, 'r': 15, 's': 16, 't': 17, 'x': 18, 'z': 19}\n",
      "input_ids = [5, 14, 12, 8, 13, 11, 19, 11, 13, 10, 0, 17, 8, 18, 17, 0, 11, 16, 0, 6, 0, 7, 14, 15, 8, 0, 17, 6, 16, 12, 0, 14, 9, 0, 3, 2, 4, 1]\n"
     ]
    }
   ],
   "source": [
    "token2idx: dict[str, int] = {\n",
    "    token: idx for idx, token in enumerate(sorted(set(tokenized_text)))\n",
    "}\n",
    "print(f\"{token2idx = }\")\n",
    "\n",
    "input_ids: list[int] = [token2idx[token] for token in tokenized_text]\n",
    "\n",
    "print(f\"{input_ids = }\")"
   ]
  },
  {
   "cell_type": "markdown",
   "metadata": {},
   "source": [
    "#### Onehot Encoding"
   ]
  },
  {
   "cell_type": "code",
   "execution_count": 19,
   "metadata": {},
   "outputs": [
    {
     "data": {
      "text/plain": [
       "torch.Size([38, 20])"
      ]
     },
     "execution_count": 19,
     "metadata": {},
     "output_type": "execute_result"
    }
   ],
   "source": [
    "import torch\n",
    "import torch.nn.functional as F\n",
    "\n",
    "\n",
    "input_ids: torch.Tensor = torch.tensor(input_ids)\n",
    "onehot_encodings: torch.Tensor = F.one_hot(input_ids, num_classes=len(token2idx))\n",
    "# Each character has a dimension of 20\n",
    "onehot_encodings.shape"
   ]
  },
  {
   "cell_type": "code",
   "execution_count": 20,
   "metadata": {},
   "outputs": [
    {
     "data": {
      "text/plain": [
       "tensor([[0, 0, 0, 0, 0, 1, 0, 0, 0, 0, 0, 0, 0, 0, 0, 0, 0, 0, 0, 0],\n",
       "        [0, 0, 0, 0, 0, 0, 0, 0, 0, 0, 0, 0, 0, 0, 1, 0, 0, 0, 0, 0],\n",
       "        [0, 0, 0, 0, 0, 0, 0, 0, 0, 0, 0, 0, 1, 0, 0, 0, 0, 0, 0, 0],\n",
       "        [0, 0, 0, 0, 0, 0, 0, 0, 1, 0, 0, 0, 0, 0, 0, 0, 0, 0, 0, 0],\n",
       "        [0, 0, 0, 0, 0, 0, 0, 0, 0, 0, 0, 0, 0, 1, 0, 0, 0, 0, 0, 0]])"
      ]
     },
     "execution_count": 20,
     "metadata": {},
     "output_type": "execute_result"
    }
   ],
   "source": [
    "onehot_encodings[:5]"
   ]
  },
  {
   "cell_type": "markdown",
   "metadata": {},
   "source": [
    "#### Word Level Tokenization\n",
    "- a type of tokenization splits text into individual words. It's a common approach in NLP that aligns well with how humans typically process language.\n",
    "- It's a simple and intuitive way to tokenize text, making it a popular choice for many NLP tasks.\n",
    "- however, it may not capture all nuances of language, such as punctuation, abbreviations, or complex words or out of vocabulary words."
   ]
  },
  {
   "cell_type": "code",
   "execution_count": 21,
   "metadata": {},
   "outputs": [
    {
     "name": "stdout",
     "output_type": "stream",
     "text": [
      "tokenized_text = ['Tokenizing', 'text', 'is', 'a', 'core', 'task', 'of', 'NLP.']\n"
     ]
    }
   ],
   "source": [
    "tokenized_text: list[str] = text.split()\n",
    "print(f\"{tokenized_text = }\")"
   ]
  },
  {
   "cell_type": "markdown",
   "metadata": {},
   "source": [
    "#### Comment\n",
    "\n",
    "- Having a large vocabulary in NLP models is problematic due to the enormous number of required parameters.\n",
    "\n",
    "- Limiting the vocabulary to the most common words (e.g., top 100,000) and mapping rare words to an \"unknown\" token (UNK) is a common approach to reduce parameters, but this may result in losing important information."
   ]
  },
  {
   "cell_type": "code",
   "execution_count": null,
   "metadata": {},
   "outputs": [],
   "source": []
  },
  {
   "cell_type": "markdown",
   "metadata": {},
   "source": [
    "#### Subword-level Tokenization \n",
    "\n",
    "- it breaks words into smaller units, often combining the benefits of both word-level and character-level approaches.\n",
    "- handles out-of-vocabulary words better than word-level, captures meaningful subword units.\n",
    "- however, it's more complex to implement than word-level tokenization and may split words in unintuitive ways."
   ]
  },
  {
   "cell_type": "code",
   "execution_count": 22,
   "metadata": {},
   "outputs": [
    {
     "data": {
      "text/plain": [
       "DistilBertTokenizerFast(name_or_path='distilbert-base-uncased', vocab_size=30522, model_max_length=512, is_fast=True, padding_side='right', truncation_side='right', special_tokens={'unk_token': '[UNK]', 'sep_token': '[SEP]', 'pad_token': '[PAD]', 'cls_token': '[CLS]', 'mask_token': '[MASK]'}, clean_up_tokenization_spaces=True),  added_tokens_decoder={\n",
       "\t0: AddedToken(\"[PAD]\", rstrip=False, lstrip=False, single_word=False, normalized=False, special=True),\n",
       "\t100: AddedToken(\"[UNK]\", rstrip=False, lstrip=False, single_word=False, normalized=False, special=True),\n",
       "\t101: AddedToken(\"[CLS]\", rstrip=False, lstrip=False, single_word=False, normalized=False, special=True),\n",
       "\t102: AddedToken(\"[SEP]\", rstrip=False, lstrip=False, single_word=False, normalized=False, special=True),\n",
       "\t103: AddedToken(\"[MASK]\", rstrip=False, lstrip=False, single_word=False, normalized=False, special=True),\n",
       "}"
      ]
     },
     "execution_count": 22,
     "metadata": {},
     "output_type": "execute_result"
    }
   ],
   "source": [
    "from transformers import AutoTokenizer, BatchEncoding\n",
    "\n",
    "\n",
    "model_ckpt: str = \"distilbert-base-uncased\"\n",
    "tokenizer = AutoTokenizer.from_pretrained(model_ckpt)\n",
    "tokenizer"
   ]
  },
  {
   "cell_type": "code",
   "execution_count": 23,
   "metadata": {},
   "outputs": [
    {
     "data": {
      "text/html": [
       "<pre style=\"white-space:pre;overflow-x:auto;line-height:normal;font-family:Menlo,'DejaVu Sans Mono',consolas,'Courier New',monospace\">encoded_text = <span style=\"font-weight: bold\">{</span><span style=\"color: #008000; text-decoration-color: #008000\">'input_ids'</span>: <span style=\"font-weight: bold\">[</span><span style=\"color: #008080; text-decoration-color: #008080; font-weight: bold\">101</span>, <span style=\"color: #008080; text-decoration-color: #008080; font-weight: bold\">19204</span>, <span style=\"color: #008080; text-decoration-color: #008080; font-weight: bold\">6026</span>, <span style=\"color: #008080; text-decoration-color: #008080; font-weight: bold\">3793</span>, <span style=\"color: #008080; text-decoration-color: #008080; font-weight: bold\">2003</span>, <span style=\"color: #008080; text-decoration-color: #008080; font-weight: bold\">1037</span>, <span style=\"color: #008080; text-decoration-color: #008080; font-weight: bold\">4563</span>, <span style=\"color: #008080; text-decoration-color: #008080; font-weight: bold\">4708</span>, <span style=\"color: #008080; text-decoration-color: #008080; font-weight: bold\">1997</span>, <span style=\"color: #008080; text-decoration-color: #008080; font-weight: bold\">17953</span>, <span style=\"color: #008080; text-decoration-color: #008080; font-weight: bold\">2361</span>, <span style=\"color: #008080; text-decoration-color: #008080; font-weight: bold\">1012</span>, <span style=\"color: #008080; text-decoration-color: #008080; font-weight: bold\">102</span><span style=\"font-weight: bold\">]</span>, \n",
       "<span style=\"color: #008000; text-decoration-color: #008000\">'attention_mask'</span>: <span style=\"font-weight: bold\">[</span><span style=\"color: #008080; text-decoration-color: #008080; font-weight: bold\">1</span>, <span style=\"color: #008080; text-decoration-color: #008080; font-weight: bold\">1</span>, <span style=\"color: #008080; text-decoration-color: #008080; font-weight: bold\">1</span>, <span style=\"color: #008080; text-decoration-color: #008080; font-weight: bold\">1</span>, <span style=\"color: #008080; text-decoration-color: #008080; font-weight: bold\">1</span>, <span style=\"color: #008080; text-decoration-color: #008080; font-weight: bold\">1</span>, <span style=\"color: #008080; text-decoration-color: #008080; font-weight: bold\">1</span>, <span style=\"color: #008080; text-decoration-color: #008080; font-weight: bold\">1</span>, <span style=\"color: #008080; text-decoration-color: #008080; font-weight: bold\">1</span>, <span style=\"color: #008080; text-decoration-color: #008080; font-weight: bold\">1</span>, <span style=\"color: #008080; text-decoration-color: #008080; font-weight: bold\">1</span>, <span style=\"color: #008080; text-decoration-color: #008080; font-weight: bold\">1</span>, <span style=\"color: #008080; text-decoration-color: #008080; font-weight: bold\">1</span><span style=\"font-weight: bold\">]}</span>\n",
       "</pre>\n"
      ],
      "text/plain": [
       "encoded_text = \u001b[1m{\u001b[0m\u001b[32m'input_ids'\u001b[0m: \u001b[1m[\u001b[0m\u001b[1;36m101\u001b[0m, \u001b[1;36m19204\u001b[0m, \u001b[1;36m6026\u001b[0m, \u001b[1;36m3793\u001b[0m, \u001b[1;36m2003\u001b[0m, \u001b[1;36m1037\u001b[0m, \u001b[1;36m4563\u001b[0m, \u001b[1;36m4708\u001b[0m, \u001b[1;36m1997\u001b[0m, \u001b[1;36m17953\u001b[0m, \u001b[1;36m2361\u001b[0m, \u001b[1;36m1012\u001b[0m, \u001b[1;36m102\u001b[0m\u001b[1m]\u001b[0m, \n",
       "\u001b[32m'attention_mask'\u001b[0m: \u001b[1m[\u001b[0m\u001b[1;36m1\u001b[0m, \u001b[1;36m1\u001b[0m, \u001b[1;36m1\u001b[0m, \u001b[1;36m1\u001b[0m, \u001b[1;36m1\u001b[0m, \u001b[1;36m1\u001b[0m, \u001b[1;36m1\u001b[0m, \u001b[1;36m1\u001b[0m, \u001b[1;36m1\u001b[0m, \u001b[1;36m1\u001b[0m, \u001b[1;36m1\u001b[0m, \u001b[1;36m1\u001b[0m, \u001b[1;36m1\u001b[0m\u001b[1m]\u001b[0m\u001b[1m}\u001b[0m\n"
      ]
     },
     "metadata": {},
     "output_type": "display_data"
    }
   ],
   "source": [
    "encoded_text: BatchEncoding = tokenizer(text)\n",
    "console.print(f\"{encoded_text = }\")"
   ]
  },
  {
   "cell_type": "code",
   "execution_count": 24,
   "metadata": {},
   "outputs": [
    {
     "data": {
      "text/plain": [
       "[101, 19204, 6026, 3793, 2003, 1037, 4563, 4708, 1997, 17953, 2361, 1012, 102]"
      ]
     },
     "execution_count": 24,
     "metadata": {},
     "output_type": "execute_result"
    }
   ],
   "source": [
    "encoded_text.input_ids"
   ]
  },
  {
   "cell_type": "code",
   "execution_count": 25,
   "metadata": {},
   "outputs": [
    {
     "data": {
      "text/html": [
       "<pre style=\"white-space:pre;overflow-x:auto;line-height:normal;font-family:Menlo,'DejaVu Sans Mono',consolas,'Courier New',monospace\">tokens = <span style=\"font-weight: bold\">[</span><span style=\"color: #008000; text-decoration-color: #008000\">'[CLS]'</span>, <span style=\"color: #008000; text-decoration-color: #008000\">'token'</span>, <span style=\"color: #008000; text-decoration-color: #008000\">'##izing'</span>, <span style=\"color: #008000; text-decoration-color: #008000\">'text'</span>, <span style=\"color: #008000; text-decoration-color: #008000\">'is'</span>, <span style=\"color: #008000; text-decoration-color: #008000\">'a'</span>, <span style=\"color: #008000; text-decoration-color: #008000\">'core'</span>, <span style=\"color: #008000; text-decoration-color: #008000\">'task'</span>, <span style=\"color: #008000; text-decoration-color: #008000\">'of'</span>, <span style=\"color: #008000; text-decoration-color: #008000\">'nl'</span>, <span style=\"color: #008000; text-decoration-color: #008000\">'##p'</span>, <span style=\"color: #008000; text-decoration-color: #008000\">'.'</span>, <span style=\"color: #008000; text-decoration-color: #008000\">'[SEP]'</span><span style=\"font-weight: bold\">]</span>\n",
       "</pre>\n"
      ],
      "text/plain": [
       "tokens = \u001b[1m[\u001b[0m\u001b[32m'\u001b[0m\u001b[32m[\u001b[0m\u001b[32mCLS\u001b[0m\u001b[32m]\u001b[0m\u001b[32m'\u001b[0m, \u001b[32m'token'\u001b[0m, \u001b[32m'##izing'\u001b[0m, \u001b[32m'text'\u001b[0m, \u001b[32m'is'\u001b[0m, \u001b[32m'a'\u001b[0m, \u001b[32m'core'\u001b[0m, \u001b[32m'task'\u001b[0m, \u001b[32m'of'\u001b[0m, \u001b[32m'nl'\u001b[0m, \u001b[32m'##p'\u001b[0m, \u001b[32m'.'\u001b[0m, \u001b[32m'\u001b[0m\u001b[32m[\u001b[0m\u001b[32mSEP\u001b[0m\u001b[32m]\u001b[0m\u001b[32m'\u001b[0m\u001b[1m]\u001b[0m\n"
      ]
     },
     "metadata": {},
     "output_type": "display_data"
    },
    {
     "data": {
      "text/html": [
       "<pre style=\"white-space:pre;overflow-x:auto;line-height:normal;font-family:Menlo,'DejaVu Sans Mono',consolas,'Courier New',monospace\"><span style=\"font-weight: bold\">[</span>CLS<span style=\"font-weight: bold\">]</span> tokenizing text is a core task of nlp. <span style=\"font-weight: bold\">[</span>SEP<span style=\"font-weight: bold\">]</span>\n",
       "</pre>\n"
      ],
      "text/plain": [
       "\u001b[1m[\u001b[0mCLS\u001b[1m]\u001b[0m tokenizing text is a core task of nlp. \u001b[1m[\u001b[0mSEP\u001b[1m]\u001b[0m\n"
      ]
     },
     "metadata": {},
     "output_type": "display_data"
    }
   ],
   "source": [
    "# It added special tokens at the beginning and the end ([CLS] and [SEP]).\n",
    "# It also broke some words into subwords.\n",
    "tokens: list[str] = tokenizer.convert_ids_to_tokens(encoded_text.input_ids)\n",
    "console.print(f\"{tokens = }\")\n",
    "console.print(tokenizer.convert_tokens_to_string(tokens))"
   ]
  },
  {
   "cell_type": "code",
   "execution_count": 26,
   "metadata": {},
   "outputs": [
    {
     "name": "stdout",
     "output_type": "stream",
     "text": [
      "tokenizer.vocab_size = 30522, \n",
      "tokenizer.model_max_length = 512, \n",
      "tokenizer.model_input_names = ['input_ids', 'attention_mask']\n"
     ]
    }
   ],
   "source": [
    "# Commonly used attributes\n",
    "print(\n",
    "    f\"{tokenizer.vocab_size = }, \\n{tokenizer.model_max_length = }, \\n{tokenizer.model_input_names = }\"\n",
    ")"
   ]
  },
  {
   "cell_type": "markdown",
   "metadata": {},
   "source": [
    "<hr>\n",
    "\n",
    "### Tokenizing The Whole Dataset\n",
    "\n",
    "- The map() method is used to tokenize the entire corpus. It applies a processing function to each dataset element, creating new rows and columns.\n",
    "- This method will be frequently used."
   ]
  },
  {
   "cell_type": "code",
   "execution_count": 27,
   "metadata": {},
   "outputs": [],
   "source": [
    "def tokenize(batch: Dataset | dict[str, list[str]]) -> dict[str, list[list[str]]]:\n",
    "    return tokenizer(batch[\"text\"], padding=True, truncation=True)"
   ]
  },
  {
   "cell_type": "code",
   "execution_count": 28,
   "metadata": {},
   "outputs": [
    {
     "data": {
      "text/html": [
       "<pre style=\"white-space:pre;overflow-x:auto;line-height:normal;font-family:Menlo,'DejaVu Sans Mono',consolas,'Courier New',monospace\"><span style=\"font-weight: bold\">{</span>\n",
       "    <span style=\"color: #008000; text-decoration-color: #008000\">'text'</span>: <span style=\"font-weight: bold\">[</span>\n",
       "        <span style=\"color: #008000; text-decoration-color: #008000\">'i didnt feel humiliated'</span>,\n",
       "        <span style=\"color: #008000; text-decoration-color: #008000\">'i can go from feeling so hopeless to so damned hopeful just from being around someone who cares and is </span>\n",
       "<span style=\"color: #008000; text-decoration-color: #008000\">awake'</span>\n",
       "    <span style=\"font-weight: bold\">]</span>,\n",
       "    <span style=\"color: #008000; text-decoration-color: #008000\">'label'</span>: <span style=\"font-weight: bold\">[</span><span style=\"color: #008080; text-decoration-color: #008080; font-weight: bold\">0</span>, <span style=\"color: #008080; text-decoration-color: #008080; font-weight: bold\">0</span><span style=\"font-weight: bold\">]</span>\n",
       "<span style=\"font-weight: bold\">}</span>\n",
       "</pre>\n"
      ],
      "text/plain": [
       "\u001b[1m{\u001b[0m\n",
       "    \u001b[32m'text'\u001b[0m: \u001b[1m[\u001b[0m\n",
       "        \u001b[32m'i didnt feel humiliated'\u001b[0m,\n",
       "        \u001b[32m'i can go from feeling so hopeless to so damned hopeful just from being around someone who cares and is \u001b[0m\n",
       "\u001b[32mawake'\u001b[0m\n",
       "    \u001b[1m]\u001b[0m,\n",
       "    \u001b[32m'label'\u001b[0m: \u001b[1m[\u001b[0m\u001b[1;36m0\u001b[0m, \u001b[1;36m0\u001b[0m\u001b[1m]\u001b[0m\n",
       "\u001b[1m}\u001b[0m\n"
      ]
     },
     "metadata": {},
     "output_type": "display_data"
    },
    {
     "data": {
      "text/html": [
       "<pre style=\"white-space:pre;overflow-x:auto;line-height:normal;font-family:Menlo,'DejaVu Sans Mono',consolas,'Courier New',monospace\">tokenized_data = <span style=\"font-weight: bold\">{</span><span style=\"color: #008000; text-decoration-color: #008000\">'input_ids'</span>: <span style=\"font-weight: bold\">[[</span><span style=\"color: #008080; text-decoration-color: #008080; font-weight: bold\">101</span>, <span style=\"color: #008080; text-decoration-color: #008080; font-weight: bold\">1045</span>, <span style=\"color: #008080; text-decoration-color: #008080; font-weight: bold\">2134</span>, <span style=\"color: #008080; text-decoration-color: #008080; font-weight: bold\">2102</span>, <span style=\"color: #008080; text-decoration-color: #008080; font-weight: bold\">2514</span>, <span style=\"color: #008080; text-decoration-color: #008080; font-weight: bold\">26608</span>, <span style=\"color: #008080; text-decoration-color: #008080; font-weight: bold\">102</span>, <span style=\"color: #008080; text-decoration-color: #008080; font-weight: bold\">0</span>, <span style=\"color: #008080; text-decoration-color: #008080; font-weight: bold\">0</span>, <span style=\"color: #008080; text-decoration-color: #008080; font-weight: bold\">0</span>, <span style=\"color: #008080; text-decoration-color: #008080; font-weight: bold\">0</span>, <span style=\"color: #008080; text-decoration-color: #008080; font-weight: bold\">0</span>, <span style=\"color: #008080; text-decoration-color: #008080; font-weight: bold\">0</span>, <span style=\"color: #008080; text-decoration-color: #008080; font-weight: bold\">0</span>, <span style=\"color: #008080; text-decoration-color: #008080; font-weight: bold\">0</span>, <span style=\"color: #008080; text-decoration-color: #008080; font-weight: bold\">0</span>, <span style=\"color: #008080; text-decoration-color: #008080; font-weight: bold\">0</span>, <span style=\"color: #008080; text-decoration-color: #008080; font-weight: bold\">0</span>, <span style=\"color: #008080; text-decoration-color: #008080; font-weight: bold\">0</span>, <span style=\"color: #008080; text-decoration-color: #008080; font-weight: bold\">0</span>, <span style=\"color: #008080; text-decoration-color: #008080; font-weight: bold\">0</span>,\n",
       "<span style=\"color: #008080; text-decoration-color: #008080; font-weight: bold\">0</span>, <span style=\"color: #008080; text-decoration-color: #008080; font-weight: bold\">0</span><span style=\"font-weight: bold\">]</span>, <span style=\"font-weight: bold\">[</span><span style=\"color: #008080; text-decoration-color: #008080; font-weight: bold\">101</span>, <span style=\"color: #008080; text-decoration-color: #008080; font-weight: bold\">1045</span>, <span style=\"color: #008080; text-decoration-color: #008080; font-weight: bold\">2064</span>, <span style=\"color: #008080; text-decoration-color: #008080; font-weight: bold\">2175</span>, <span style=\"color: #008080; text-decoration-color: #008080; font-weight: bold\">2013</span>, <span style=\"color: #008080; text-decoration-color: #008080; font-weight: bold\">3110</span>, <span style=\"color: #008080; text-decoration-color: #008080; font-weight: bold\">2061</span>, <span style=\"color: #008080; text-decoration-color: #008080; font-weight: bold\">20625</span>, <span style=\"color: #008080; text-decoration-color: #008080; font-weight: bold\">2000</span>, <span style=\"color: #008080; text-decoration-color: #008080; font-weight: bold\">2061</span>, <span style=\"color: #008080; text-decoration-color: #008080; font-weight: bold\">9636</span>, <span style=\"color: #008080; text-decoration-color: #008080; font-weight: bold\">17772</span>, <span style=\"color: #008080; text-decoration-color: #008080; font-weight: bold\">2074</span>, <span style=\"color: #008080; text-decoration-color: #008080; font-weight: bold\">2013</span>, <span style=\"color: #008080; text-decoration-color: #008080; font-weight: bold\">2108</span>, <span style=\"color: #008080; text-decoration-color: #008080; font-weight: bold\">2105</span>, <span style=\"color: #008080; text-decoration-color: #008080; font-weight: bold\">2619</span>, \n",
       "<span style=\"color: #008080; text-decoration-color: #008080; font-weight: bold\">2040</span>, <span style=\"color: #008080; text-decoration-color: #008080; font-weight: bold\">14977</span>, <span style=\"color: #008080; text-decoration-color: #008080; font-weight: bold\">1998</span>, <span style=\"color: #008080; text-decoration-color: #008080; font-weight: bold\">2003</span>, <span style=\"color: #008080; text-decoration-color: #008080; font-weight: bold\">8300</span>, <span style=\"color: #008080; text-decoration-color: #008080; font-weight: bold\">102</span><span style=\"font-weight: bold\">]]</span>, <span style=\"color: #008000; text-decoration-color: #008000\">'attention_mask'</span>: <span style=\"font-weight: bold\">[[</span><span style=\"color: #008080; text-decoration-color: #008080; font-weight: bold\">1</span>, <span style=\"color: #008080; text-decoration-color: #008080; font-weight: bold\">1</span>, <span style=\"color: #008080; text-decoration-color: #008080; font-weight: bold\">1</span>, <span style=\"color: #008080; text-decoration-color: #008080; font-weight: bold\">1</span>, <span style=\"color: #008080; text-decoration-color: #008080; font-weight: bold\">1</span>, <span style=\"color: #008080; text-decoration-color: #008080; font-weight: bold\">1</span>, <span style=\"color: #008080; text-decoration-color: #008080; font-weight: bold\">1</span>, <span style=\"color: #008080; text-decoration-color: #008080; font-weight: bold\">0</span>, <span style=\"color: #008080; text-decoration-color: #008080; font-weight: bold\">0</span>, <span style=\"color: #008080; text-decoration-color: #008080; font-weight: bold\">0</span>, <span style=\"color: #008080; text-decoration-color: #008080; font-weight: bold\">0</span>, <span style=\"color: #008080; text-decoration-color: #008080; font-weight: bold\">0</span>, <span style=\"color: #008080; text-decoration-color: #008080; font-weight: bold\">0</span>, <span style=\"color: #008080; text-decoration-color: #008080; font-weight: bold\">0</span>, <span style=\"color: #008080; text-decoration-color: #008080; font-weight: bold\">0</span>, <span style=\"color: #008080; text-decoration-color: #008080; font-weight: bold\">0</span>, <span style=\"color: #008080; text-decoration-color: #008080; font-weight: bold\">0</span>, <span style=\"color: #008080; text-decoration-color: #008080; font-weight: bold\">0</span>, <span style=\"color: #008080; text-decoration-color: #008080; font-weight: bold\">0</span>, \n",
       "<span style=\"color: #008080; text-decoration-color: #008080; font-weight: bold\">0</span>, <span style=\"color: #008080; text-decoration-color: #008080; font-weight: bold\">0</span>, <span style=\"color: #008080; text-decoration-color: #008080; font-weight: bold\">0</span>, <span style=\"color: #008080; text-decoration-color: #008080; font-weight: bold\">0</span><span style=\"font-weight: bold\">]</span>, <span style=\"font-weight: bold\">[</span><span style=\"color: #008080; text-decoration-color: #008080; font-weight: bold\">1</span>, <span style=\"color: #008080; text-decoration-color: #008080; font-weight: bold\">1</span>, <span style=\"color: #008080; text-decoration-color: #008080; font-weight: bold\">1</span>, <span style=\"color: #008080; text-decoration-color: #008080; font-weight: bold\">1</span>, <span style=\"color: #008080; text-decoration-color: #008080; font-weight: bold\">1</span>, <span style=\"color: #008080; text-decoration-color: #008080; font-weight: bold\">1</span>, <span style=\"color: #008080; text-decoration-color: #008080; font-weight: bold\">1</span>, <span style=\"color: #008080; text-decoration-color: #008080; font-weight: bold\">1</span>, <span style=\"color: #008080; text-decoration-color: #008080; font-weight: bold\">1</span>, <span style=\"color: #008080; text-decoration-color: #008080; font-weight: bold\">1</span>, <span style=\"color: #008080; text-decoration-color: #008080; font-weight: bold\">1</span>, <span style=\"color: #008080; text-decoration-color: #008080; font-weight: bold\">1</span>, <span style=\"color: #008080; text-decoration-color: #008080; font-weight: bold\">1</span>, <span style=\"color: #008080; text-decoration-color: #008080; font-weight: bold\">1</span>, <span style=\"color: #008080; text-decoration-color: #008080; font-weight: bold\">1</span>, <span style=\"color: #008080; text-decoration-color: #008080; font-weight: bold\">1</span>, <span style=\"color: #008080; text-decoration-color: #008080; font-weight: bold\">1</span>, <span style=\"color: #008080; text-decoration-color: #008080; font-weight: bold\">1</span>, <span style=\"color: #008080; text-decoration-color: #008080; font-weight: bold\">1</span>, <span style=\"color: #008080; text-decoration-color: #008080; font-weight: bold\">1</span>, <span style=\"color: #008080; text-decoration-color: #008080; font-weight: bold\">1</span>, <span style=\"color: #008080; text-decoration-color: #008080; font-weight: bold\">1</span>, <span style=\"color: #008080; text-decoration-color: #008080; font-weight: bold\">1</span><span style=\"font-weight: bold\">]]}</span>\n",
       "</pre>\n"
      ],
      "text/plain": [
       "tokenized_data = \u001b[1m{\u001b[0m\u001b[32m'input_ids'\u001b[0m: \u001b[1m[\u001b[0m\u001b[1m[\u001b[0m\u001b[1;36m101\u001b[0m, \u001b[1;36m1045\u001b[0m, \u001b[1;36m2134\u001b[0m, \u001b[1;36m2102\u001b[0m, \u001b[1;36m2514\u001b[0m, \u001b[1;36m26608\u001b[0m, \u001b[1;36m102\u001b[0m, \u001b[1;36m0\u001b[0m, \u001b[1;36m0\u001b[0m, \u001b[1;36m0\u001b[0m, \u001b[1;36m0\u001b[0m, \u001b[1;36m0\u001b[0m, \u001b[1;36m0\u001b[0m, \u001b[1;36m0\u001b[0m, \u001b[1;36m0\u001b[0m, \u001b[1;36m0\u001b[0m, \u001b[1;36m0\u001b[0m, \u001b[1;36m0\u001b[0m, \u001b[1;36m0\u001b[0m, \u001b[1;36m0\u001b[0m, \u001b[1;36m0\u001b[0m,\n",
       "\u001b[1;36m0\u001b[0m, \u001b[1;36m0\u001b[0m\u001b[1m]\u001b[0m, \u001b[1m[\u001b[0m\u001b[1;36m101\u001b[0m, \u001b[1;36m1045\u001b[0m, \u001b[1;36m2064\u001b[0m, \u001b[1;36m2175\u001b[0m, \u001b[1;36m2013\u001b[0m, \u001b[1;36m3110\u001b[0m, \u001b[1;36m2061\u001b[0m, \u001b[1;36m20625\u001b[0m, \u001b[1;36m2000\u001b[0m, \u001b[1;36m2061\u001b[0m, \u001b[1;36m9636\u001b[0m, \u001b[1;36m17772\u001b[0m, \u001b[1;36m2074\u001b[0m, \u001b[1;36m2013\u001b[0m, \u001b[1;36m2108\u001b[0m, \u001b[1;36m2105\u001b[0m, \u001b[1;36m2619\u001b[0m, \n",
       "\u001b[1;36m2040\u001b[0m, \u001b[1;36m14977\u001b[0m, \u001b[1;36m1998\u001b[0m, \u001b[1;36m2003\u001b[0m, \u001b[1;36m8300\u001b[0m, \u001b[1;36m102\u001b[0m\u001b[1m]\u001b[0m\u001b[1m]\u001b[0m, \u001b[32m'attention_mask'\u001b[0m: \u001b[1m[\u001b[0m\u001b[1m[\u001b[0m\u001b[1;36m1\u001b[0m, \u001b[1;36m1\u001b[0m, \u001b[1;36m1\u001b[0m, \u001b[1;36m1\u001b[0m, \u001b[1;36m1\u001b[0m, \u001b[1;36m1\u001b[0m, \u001b[1;36m1\u001b[0m, \u001b[1;36m0\u001b[0m, \u001b[1;36m0\u001b[0m, \u001b[1;36m0\u001b[0m, \u001b[1;36m0\u001b[0m, \u001b[1;36m0\u001b[0m, \u001b[1;36m0\u001b[0m, \u001b[1;36m0\u001b[0m, \u001b[1;36m0\u001b[0m, \u001b[1;36m0\u001b[0m, \u001b[1;36m0\u001b[0m, \u001b[1;36m0\u001b[0m, \u001b[1;36m0\u001b[0m, \n",
       "\u001b[1;36m0\u001b[0m, \u001b[1;36m0\u001b[0m, \u001b[1;36m0\u001b[0m, \u001b[1;36m0\u001b[0m\u001b[1m]\u001b[0m, \u001b[1m[\u001b[0m\u001b[1;36m1\u001b[0m, \u001b[1;36m1\u001b[0m, \u001b[1;36m1\u001b[0m, \u001b[1;36m1\u001b[0m, \u001b[1;36m1\u001b[0m, \u001b[1;36m1\u001b[0m, \u001b[1;36m1\u001b[0m, \u001b[1;36m1\u001b[0m, \u001b[1;36m1\u001b[0m, \u001b[1;36m1\u001b[0m, \u001b[1;36m1\u001b[0m, \u001b[1;36m1\u001b[0m, \u001b[1;36m1\u001b[0m, \u001b[1;36m1\u001b[0m, \u001b[1;36m1\u001b[0m, \u001b[1;36m1\u001b[0m, \u001b[1;36m1\u001b[0m, \u001b[1;36m1\u001b[0m, \u001b[1;36m1\u001b[0m, \u001b[1;36m1\u001b[0m, \u001b[1;36m1\u001b[0m, \u001b[1;36m1\u001b[0m, \u001b[1;36m1\u001b[0m\u001b[1m]\u001b[0m\u001b[1m]\u001b[0m\u001b[1m}\u001b[0m\n"
      ]
     },
     "metadata": {},
     "output_type": "display_data"
    }
   ],
   "source": [
    "console.print(train_dataset[:2])\n",
    "console.print(f\"tokenized_data = {tokenize(emotions_dataset['train'][:2])}\")"
   ]
  },
  {
   "cell_type": "markdown",
   "metadata": {},
   "source": [
    "#### Comment\n",
    "\n",
    "- The input sequence is padded with zeros to ensure all sequences have the same length. These zeros correspond to a `[PAD]` token in the vocabulary.\n",
    "- The tokenizer returns attention masks to help the model ignore padded parts of the input, preventing confusion.\n",
    "\n",
    "<br>\n",
    "\n",
    "[![image.png](https://i.postimg.cc/bvN60RSs/image.png)](https://postimg.cc/zy6S8Kjr)\n",
    "\n",
    "- **Fig**: For each batch, the input sequences are padded to the max sequnce length and the attention mask is used in the model to ignore the padded tokens."
   ]
  },
  {
   "cell_type": "code",
   "execution_count": 29,
   "metadata": {},
   "outputs": [
    {
     "data": {
      "application/vnd.jupyter.widget-view+json": {
       "model_id": "76a8639fed5a4ae0a1495bb8e477ce70",
       "version_major": 2,
       "version_minor": 0
      },
      "text/plain": [
       "Map:   0%|          | 0/16000 [00:00<?, ? examples/s]"
      ]
     },
     "metadata": {},
     "output_type": "display_data"
    },
    {
     "data": {
      "application/vnd.jupyter.widget-view+json": {
       "model_id": "396dc9ec9e3d458bafbae204e035fb7b",
       "version_major": 2,
       "version_minor": 0
      },
      "text/plain": [
       "Map:   0%|          | 0/2000 [00:00<?, ? examples/s]"
      ]
     },
     "metadata": {},
     "output_type": "display_data"
    },
    {
     "data": {
      "application/vnd.jupyter.widget-view+json": {
       "model_id": "67814595d1d54f0e9beef373138d2ba3",
       "version_major": 2,
       "version_minor": 0
      },
      "text/plain": [
       "Map:   0%|          | 0/2000 [00:00<?, ? examples/s]"
      ]
     },
     "metadata": {},
     "output_type": "display_data"
    }
   ],
   "source": [
    "# Encode the entire dataset\n",
    "emotions_dataset_encoded: DatasetDict = emotions_dataset.map(tokenize, batched=True)"
   ]
  },
  {
   "cell_type": "code",
   "execution_count": 30,
   "metadata": {},
   "outputs": [
    {
     "data": {
      "text/plain": [
       "{'train': ['text', 'label', 'input_ids', 'attention_mask'],\n",
       " 'validation': ['text', 'label', 'input_ids', 'attention_mask'],\n",
       " 'test': ['text', 'label', 'input_ids', 'attention_mask']}"
      ]
     },
     "execution_count": 30,
     "metadata": {},
     "output_type": "execute_result"
    }
   ],
   "source": [
    "emotions_dataset_encoded.column_names"
   ]
  },
  {
   "cell_type": "markdown",
   "metadata": {},
   "source": [
    "<br>\n",
    "\n",
    "## Training A Classifier\n",
    "\n",
    "[![image.png](https://i.postimg.cc/NG11MHLV/image.png)](https://postimg.cc/nMhsSM4Y)\n",
    "\n",
    "- **Fig:** Architecture used for sequence classification with an encoder-based transformer.\n",
    "\n",
    "- It consists of a pretrained body combined with a custom classification head."
   ]
  },
  {
   "cell_type": "code",
   "execution_count": null,
   "metadata": {},
   "outputs": [],
   "source": []
  },
  {
   "cell_type": "code",
   "execution_count": null,
   "metadata": {},
   "outputs": [],
   "source": []
  },
  {
   "cell_type": "code",
   "execution_count": null,
   "metadata": {},
   "outputs": [],
   "source": []
  },
  {
   "cell_type": "code",
   "execution_count": null,
   "metadata": {},
   "outputs": [],
   "source": []
  },
  {
   "cell_type": "code",
   "execution_count": null,
   "metadata": {},
   "outputs": [],
   "source": []
  },
  {
   "cell_type": "code",
   "execution_count": null,
   "metadata": {},
   "outputs": [],
   "source": []
  }
 ],
 "metadata": {
  "kernelspec": {
   "display_name": "torch_p11",
   "language": "python",
   "name": "python3"
  },
  "language_info": {
   "codemirror_mode": {
    "name": "ipython",
    "version": 3
   },
   "file_extension": ".py",
   "mimetype": "text/x-python",
   "name": "python",
   "nbconvert_exporter": "python",
   "pygments_lexer": "ipython3",
   "version": "3.11.8"
  }
 },
 "nbformat": 4,
 "nbformat_minor": 2
}
