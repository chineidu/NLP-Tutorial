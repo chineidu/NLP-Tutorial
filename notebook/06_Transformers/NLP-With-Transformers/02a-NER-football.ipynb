{
  "cells": [
    {
      "cell_type": "markdown",
      "metadata": {
        "id": "view-in-github",
        "colab_type": "text"
      },
      "source": [
        "<a href=\"https://colab.research.google.com/github/chineidu/NLP-Tutorial/blob/main/notebook/06_Transformers/NLP-With-Transformers/02a-NER-football.ipynb\" target=\"_parent\"><img src=\"https://colab.research.google.com/assets/colab-badge.svg\" alt=\"Open In Colab\"/></a>"
      ]
    },
    {
      "cell_type": "code",
      "source": [
        "!pip install -q transformers accelerate datasets \\\n",
        "  seqeval mlxtend watermark rich"
      ],
      "metadata": {
        "id": "MtO1xNAGq3uW"
      },
      "execution_count": 1,
      "outputs": []
    },
    {
      "cell_type": "code",
      "execution_count": 2,
      "metadata": {
        "colab": {
          "base_uri": "https://localhost:8080/"
        },
        "id": "L-sc1OAjq0Xi",
        "outputId": "68c18602-8218-443b-fd7b-695bdbecf8a4"
      },
      "outputs": [
        {
          "output_type": "stream",
          "name": "stdout",
          "text": [
            "Python implementation: CPython\n",
            "Python version       : 3.10.12\n",
            "IPython version      : 7.34.0\n",
            "\n",
            "numpy       : 1.26.4\n",
            "pandas      : 2.1.4\n",
            "polars      : 0.20.2\n",
            "mlxtend     : 0.23.1\n",
            "transformers: 4.42.4\n",
            "\n",
            "conda environment: n/a\n",
            "\n"
          ]
        }
      ],
      "source": [
        "%load_ext watermark\n",
        "%watermark -v -p numpy,pandas,polars,mlxtend,transformers --conda"
      ]
    },
    {
      "cell_type": "code",
      "execution_count": 3,
      "metadata": {
        "id": "-9GvQlHkq0Xl"
      },
      "outputs": [],
      "source": [
        "# Built-in library\n",
        "from pathlib import Path\n",
        "import re\n",
        "import json\n",
        "from typing import Any, Optional, Union\n",
        "import logging\n",
        "import warnings\n",
        "\n",
        "# Standard imports\n",
        "import numpy as np\n",
        "import numpy.typing as npt\n",
        "from pprint import pprint\n",
        "import pandas as pd\n",
        "import polars as pl\n",
        "from rich.console import Console\n",
        "from rich.theme import Theme\n",
        "\n",
        "custom_theme = Theme(\n",
        "    {\n",
        "        \"info\": \"#76FF7B\",\n",
        "        \"warning\": \"#FBDDFE\",\n",
        "        \"error\": \"#FF0000\",\n",
        "    }\n",
        ")\n",
        "console = Console(theme=custom_theme)\n",
        "\n",
        "# Visualization\n",
        "import matplotlib.pyplot as plt\n",
        "\n",
        "# NumPy settings\n",
        "np.set_printoptions(precision=4)\n",
        "\n",
        "# Pandas settings\n",
        "pd.options.display.max_rows = 1_000\n",
        "pd.options.display.max_columns = 1_000\n",
        "pd.options.display.max_colwidth = 600\n",
        "\n",
        "# Polars settings\n",
        "pl.Config.set_fmt_str_lengths(1_000)\n",
        "pl.Config.set_tbl_cols(n=1_000)\n",
        "pl.Config.set_tbl_rows(n=200)\n",
        "\n",
        "warnings.filterwarnings(\"ignore\")\n",
        "\n",
        "\n",
        "# # Black code formatter (Optional)\n",
        "# %load_ext lab_black\n",
        "\n",
        "# # auto reload imports\n",
        "# %load_ext autoreload\n",
        "# %autoreload 2"
      ]
    },
    {
      "cell_type": "markdown",
      "metadata": {
        "id": "RBSIuXIDq0Xm"
      },
      "source": [
        "### Load Data"
      ]
    },
    {
      "cell_type": "code",
      "execution_count": 4,
      "metadata": {
        "id": "2vVYCrzwq0Xn"
      },
      "outputs": [],
      "source": [
        "# fp: str = \"../../../data/ner_data.jsonl\"\n",
        "\n",
        "# with open(fp, \"r\") as f:\n",
        "#     json_data = [json.loads(line) for line in f]\n",
        "\n",
        "# print(len(json_data))"
      ]
    },
    {
      "cell_type": "code",
      "source": [
        "from google.colab import drive\n",
        "drive.mount('/content/drive')"
      ],
      "metadata": {
        "colab": {
          "base_uri": "https://localhost:8080/"
        },
        "id": "J54wabjlrftE",
        "outputId": "1c1dda6f-758e-4a51-a4ce-fc5c4dffcb5c"
      },
      "execution_count": 5,
      "outputs": [
        {
          "output_type": "stream",
          "name": "stdout",
          "text": [
            "Drive already mounted at /content/drive; to attempt to forcibly remount, call drive.mount(\"/content/drive\", force_remount=True).\n"
          ]
        }
      ]
    },
    {
      "cell_type": "code",
      "execution_count": 6,
      "metadata": {
        "colab": {
          "base_uri": "https://localhost:8080/"
        },
        "id": "NJH94Ry5q0Xn",
        "outputId": "6055dd43-4128-41d8-8b06-463ce12a3630"
      },
      "outputs": [
        {
          "output_type": "execute_result",
          "data": {
            "text/plain": [
              "DatasetDict({\n",
              "    train: Dataset({\n",
              "        features: ['document_id', 'sentences'],\n",
              "        num_rows: 1940\n",
              "    })\n",
              "    validation: Dataset({\n",
              "        features: ['document_id', 'sentences'],\n",
              "        num_rows: 222\n",
              "    })\n",
              "    test: Dataset({\n",
              "        features: ['document_id', 'sentences'],\n",
              "        num_rows: 222\n",
              "    })\n",
              "})"
            ]
          },
          "metadata": {},
          "execution_count": 6
        }
      ],
      "source": [
        "from datasets import Dataset, DatasetDict, load_dataset, load_from_disk\n",
        "from datasets.features.features import ClassLabel, Sequence\n",
        "\n",
        "# data: DatasetDict = load_dataset(\"ontonotes/conll2012_ontonotesv5\", \"english_v4\")\n",
        "# data.save_to_disk(\"../../../data/conll2012_ontonotesv5\")\n",
        "\n",
        "fp: str = \"../../../data/conll2012_ontonotesv5\"\n",
        "fp: str = \"/content/drive/MyDrive/My doc/Deep Learning/Data/conll2012_ontonotesv5\"\n",
        "ds_dict: DatasetDict = load_from_disk(dataset_path=fp)\n",
        "ds_dict"
      ]
    },
    {
      "cell_type": "code",
      "execution_count": 7,
      "metadata": {
        "colab": {
          "base_uri": "https://localhost:8080/"
        },
        "id": "8F8vhAvaq0Xo",
        "outputId": "eabad400-97f2-47b8-d3ed-bf658e6d8f01"
      },
      "outputs": [
        {
          "output_type": "execute_result",
          "data": {
            "text/plain": [
              "{'part_id': Value(dtype='int32', id=None),\n",
              " 'words': Sequence(feature=Value(dtype='string', id=None), length=-1, id=None),\n",
              " 'pos_tags': Sequence(feature=ClassLabel(names=['XX', '``', '$', \"''\", ',', '-LRB-', '-RRB-', '.', ':', 'ADD', 'AFX', 'CC', 'CD', 'DT', 'EX', 'FW', 'HYPH', 'IN', 'JJ', 'JJR', 'JJS', 'LS', 'MD', 'NFP', 'NN', 'NNP', 'NNPS', 'NNS', 'PDT', 'POS', 'PRP', 'PRP$', 'RB', 'RBR', 'RBS', 'RP', 'SYM', 'TO', 'UH', 'VB', 'VBD', 'VBG', 'VBN', 'VBP', 'VBZ', 'WDT', 'WP', 'WP$', 'WRB'], id=None), length=-1, id=None),\n",
              " 'parse_tree': Value(dtype='string', id=None),\n",
              " 'predicate_lemmas': Sequence(feature=Value(dtype='string', id=None), length=-1, id=None),\n",
              " 'predicate_framenet_ids': Sequence(feature=Value(dtype='string', id=None), length=-1, id=None),\n",
              " 'word_senses': Sequence(feature=Value(dtype='float32', id=None), length=-1, id=None),\n",
              " 'speaker': Value(dtype='string', id=None),\n",
              " 'named_entities': Sequence(feature=ClassLabel(names=['O', 'B-PERSON', 'I-PERSON', 'B-NORP', 'I-NORP', 'B-FAC', 'I-FAC', 'B-ORG', 'I-ORG', 'B-GPE', 'I-GPE', 'B-LOC', 'I-LOC', 'B-PRODUCT', 'I-PRODUCT', 'B-DATE', 'I-DATE', 'B-TIME', 'I-TIME', 'B-PERCENT', 'I-PERCENT', 'B-MONEY', 'I-MONEY', 'B-QUANTITY', 'I-QUANTITY', 'B-ORDINAL', 'I-ORDINAL', 'B-CARDINAL', 'I-CARDINAL', 'B-EVENT', 'I-EVENT', 'B-WORK_OF_ART', 'I-WORK_OF_ART', 'B-LAW', 'I-LAW', 'B-LANGUAGE', 'I-LANGUAGE'], id=None), length=-1, id=None),\n",
              " 'srl_frames': [{'verb': Value(dtype='string', id=None),\n",
              "   'frames': Sequence(feature=Value(dtype='string', id=None), length=-1, id=None)}],\n",
              " 'coref_spans': Sequence(feature=Sequence(feature=Value(dtype='int32', id=None), length=3, id=None), length=-1, id=None)}"
            ]
          },
          "metadata": {},
          "execution_count": 7
        }
      ],
      "source": [
        "ds_dict[\"train\"].features[\"sentences\"][0]"
      ]
    },
    {
      "cell_type": "code",
      "execution_count": 8,
      "metadata": {
        "colab": {
          "base_uri": "https://localhost:8080/"
        },
        "id": "wKdpomnsq0Xp",
        "outputId": "3788814c-ec10-434c-ff07-63275820f9df"
      },
      "outputs": [
        {
          "output_type": "stream",
          "name": "stdout",
          "text": [
            "ClassLabel(names=['O', 'B-PERSON', 'I-PERSON', 'B-NORP', 'I-NORP', 'B-FAC', 'I-FAC', 'B-ORG', 'I-ORG', 'B-GPE', 'I-GPE', 'B-LOC', 'I-LOC', 'B-PRODUCT', 'I-PRODUCT', 'B-DATE', 'I-DATE', 'B-TIME', 'I-TIME', 'B-PERCENT', 'I-PERCENT', 'B-MONEY', 'I-MONEY', 'B-QUANTITY', 'I-QUANTITY', 'B-ORDINAL', 'I-ORDINAL', 'B-CARDINAL', 'I-CARDINAL', 'B-EVENT', 'I-EVENT', 'B-WORK_OF_ART', 'I-WORK_OF_ART', 'B-LAW', 'I-LAW', 'B-LANGUAGE', 'I-LANGUAGE'], id=None)\n"
          ]
        }
      ],
      "source": [
        "tags: ClassLabel = ds_dict[\"train\"].features[\"sentences\"][0][\"named_entities\"].feature\n",
        "print(tags)"
      ]
    },
    {
      "cell_type": "code",
      "execution_count": 9,
      "metadata": {
        "colab": {
          "base_uri": "https://localhost:8080/"
        },
        "id": "2BjXHOc_q0Xp",
        "outputId": "da8dbf3a-58d0-4956-f80c-b54fa406137a"
      },
      "outputs": [
        {
          "output_type": "stream",
          "name": "stdout",
          "text": [
            "{0: 'O', 1: 'B-PERSON', 2: 'I-PERSON', 3: 'B-NORP', 4: 'I-NORP', 5: 'B-FAC', 6: 'I-FAC', 7: 'B-ORG', 8: 'I-ORG', 9: 'B-GPE', 10: 'I-GPE', 11: 'B-LOC', 12: 'I-LOC', 13: 'B-PRODUCT', 14: 'I-PRODUCT', 15: 'B-DATE', 16: 'I-DATE', 17: 'B-TIME', 18: 'I-TIME', 19: 'B-PERCENT', 20: 'I-PERCENT', 21: 'B-MONEY', 22: 'I-MONEY', 23: 'B-QUANTITY', 24: 'I-QUANTITY', 25: 'B-ORDINAL', 26: 'I-ORDINAL', 27: 'B-CARDINAL', 28: 'I-CARDINAL', 29: 'B-EVENT', 30: 'I-EVENT', 31: 'B-WORK_OF_ART', 32: 'I-WORK_OF_ART', 33: 'B-LAW', 34: 'I-LAW', 35: 'B-LANGUAGE', 36: 'I-LANGUAGE'}\n"
          ]
        }
      ],
      "source": [
        "index2tag: dict[int, str] = {tags.str2int(tag): tag for tag in tags.names}\n",
        "tag2index: dict[str, int] = {tag: tags.str2int(tag) for tag in tags.names}\n",
        "\n",
        "print(index2tag)"
      ]
    },
    {
      "cell_type": "markdown",
      "metadata": {
        "id": "Xr1Yd3x0q0Xq"
      },
      "source": [
        "### Comment\n",
        "\n",
        "- Drop irrelevant columns"
      ]
    },
    {
      "cell_type": "code",
      "execution_count": 10,
      "metadata": {
        "id": "MLp2uSk2q0Xq"
      },
      "outputs": [],
      "source": [
        "def extract_tokens_and_labels(example: dict[str, Any]) -> dict[str, Any]:\n",
        "    tokens = example[\"sentences\"][0][\"words\"]\n",
        "    labels = example[\"sentences\"][0][\"named_entities\"]\n",
        "\n",
        "    return {\"tokens\": tokens, \"labels\": labels}"
      ]
    },
    {
      "cell_type": "code",
      "execution_count": 11,
      "metadata": {
        "colab": {
          "base_uri": "https://localhost:8080/"
        },
        "id": "zRCynEZ3q0Xq",
        "outputId": "245afc41-f05e-4354-fffe-e1ac6ba1bcb0"
      },
      "outputs": [
        {
          "output_type": "execute_result",
          "data": {
            "text/plain": [
              "{'train': Dataset({\n",
              "     features: ['document_id', 'tokens', 'labels', 'ner_labels'],\n",
              "     num_rows: 1940\n",
              " }),\n",
              " 'validation': Dataset({\n",
              "     features: ['document_id', 'tokens', 'labels', 'ner_labels'],\n",
              "     num_rows: 222\n",
              " }),\n",
              " 'test': Dataset({\n",
              "     features: ['document_id', 'tokens', 'labels', 'ner_labels'],\n",
              "     num_rows: 222\n",
              " })}"
            ]
          },
          "metadata": {},
          "execution_count": 11
        }
      ],
      "source": [
        "# ClassLabel object\n",
        "class_label = ClassLabel(num_classes=len(tags.names), names=tags.names)\n",
        "\n",
        "# Create a copy\n",
        "ds_dict: DatasetDict = ds_dict.copy()\n",
        "\n",
        "for split in ds_dict.keys():\n",
        "    ds_dict[split] = ds_dict[split].map(extract_tokens_and_labels)\n",
        "    ds_dict[split] = ds_dict[split].remove_columns([\"sentences\"])\n",
        "    # Update the 'labels' column to use ClassLabel\n",
        "    ds_dict[split] = ds_dict[split].cast_column(\n",
        "        column=\"labels\", feature=Sequence(class_label)\n",
        "    )\n",
        "    ds_dict[split] = ds_dict[split].map(\n",
        "        lambda x: {\"ner_labels\": [index2tag[t] for t in x[\"labels\"]]}\n",
        "    )\n",
        "\n",
        "ds_dict"
      ]
    },
    {
      "cell_type": "code",
      "execution_count": 12,
      "metadata": {
        "colab": {
          "base_uri": "https://localhost:8080/"
        },
        "id": "1g65LSaIq0Xr",
        "outputId": "2a0a31ac-b08b-44f1-e9ff-e81972e43826"
      },
      "outputs": [
        {
          "output_type": "execute_result",
          "data": {
            "text/plain": [
              "{'document_id': 'bc/cnn/00/cnn_0007',\n",
              " 'tokens': ['Journalists', 'sources', 'and', 'jail', '/.'],\n",
              " 'labels': [0, 0, 0, 0, 0],\n",
              " 'ner_labels': ['O', 'O', 'O', 'O', 'O']}"
            ]
          },
          "metadata": {},
          "execution_count": 12
        }
      ],
      "source": [
        "ds_dict[\"train\"][10]"
      ]
    },
    {
      "cell_type": "code",
      "execution_count": 13,
      "metadata": {
        "colab": {
          "base_uri": "https://localhost:8080/",
          "height": 254
        },
        "id": "ba1UkCykq0Xr",
        "outputId": "9aff856b-6470-41b6-a92f-38a0f6d35f31"
      },
      "outputs": [
        {
          "output_type": "execute_result",
          "data": {
            "text/plain": [
              "shape: (5, 5)\n",
              "┌──────────────────────┬──────────────────────┬──────────────┬──────────────────────┬──────────────┐\n",
              "│ document_id          ┆ tokens               ┆ labels       ┆ ner_labels           ┆ token_length │\n",
              "│ ---                  ┆ ---                  ┆ ---          ┆ ---                  ┆ ---          │\n",
              "│ str                  ┆ list[str]            ┆ list[i64]    ┆ list[str]            ┆ i64          │\n",
              "╞══════════════════════╪══════════════════════╪══════════════╪══════════════════════╪══════════════╡\n",
              "│ bc/cctv/00/cctv_0001 ┆ [\"What\", \"kind\", …   ┆ [0, 0, … 0]  ┆ [\"O\", \"O\", … \"O\"]    ┆ 5            │\n",
              "│                      ┆ \"?\"]                 ┆              ┆                      ┆              │\n",
              "│ bc/cctv/00/cctv_0002 ┆ [\"Abramov\", \"had\", … ┆ [1, 0, … 0]  ┆ [\"B-PERSON\", \"O\", …  ┆ 14           │\n",
              "│                      ┆ \".\"]                 ┆              ┆ \"O\"]                 ┆              │\n",
              "│ bc/cctv/00/cctv_0003 ┆ [\"Hello\", \",\", …     ┆ [0, 0, … 0]  ┆ [\"O\", \"O\", … \"O\"]    ┆ 5            │\n",
              "│                      ┆ \".\"]                 ┆              ┆                      ┆              │\n",
              "│ bc/cctv/00/cctv_0004 ┆ [\"There\", \"will\", …  ┆ [0, 0, … 0]  ┆ [\"O\", \"O\", … \"O\"]    ┆ 13           │\n",
              "│                      ┆ \".\"]                 ┆              ┆                      ┆              │\n",
              "│ bc/cnn/00/cnn_0001   ┆ [\"Sunday\", \"the\", …  ┆ [15, 0, … 0] ┆ [\"B-DATE\", \"O\", …    ┆ 7            │\n",
              "│                      ┆ \"/.\"]                ┆              ┆ \"O\"]                 ┆              │\n",
              "└──────────────────────┴──────────────────────┴──────────────┴──────────────────────┴──────────────┘"
            ],
            "text/html": [
              "<div><style>\n",
              ".dataframe > thead > tr,\n",
              ".dataframe > tbody > tr {\n",
              "  text-align: right;\n",
              "  white-space: pre-wrap;\n",
              "}\n",
              "</style>\n",
              "<small>shape: (5, 5)</small><table border=\"1\" class=\"dataframe\"><thead><tr><th>document_id</th><th>tokens</th><th>labels</th><th>ner_labels</th><th>token_length</th></tr><tr><td>str</td><td>list[str]</td><td>list[i64]</td><td>list[str]</td><td>i64</td></tr></thead><tbody><tr><td>&quot;bc/cctv/00/cctv_0001&quot;</td><td>[&quot;What&quot;, &quot;kind&quot;, … &quot;?&quot;]</td><td>[0, 0, … 0]</td><td>[&quot;O&quot;, &quot;O&quot;, … &quot;O&quot;]</td><td>5</td></tr><tr><td>&quot;bc/cctv/00/cctv_0002&quot;</td><td>[&quot;Abramov&quot;, &quot;had&quot;, … &quot;.&quot;]</td><td>[1, 0, … 0]</td><td>[&quot;B-PERSON&quot;, &quot;O&quot;, … &quot;O&quot;]</td><td>14</td></tr><tr><td>&quot;bc/cctv/00/cctv_0003&quot;</td><td>[&quot;Hello&quot;, &quot;,&quot;, … &quot;.&quot;]</td><td>[0, 0, … 0]</td><td>[&quot;O&quot;, &quot;O&quot;, … &quot;O&quot;]</td><td>5</td></tr><tr><td>&quot;bc/cctv/00/cctv_0004&quot;</td><td>[&quot;There&quot;, &quot;will&quot;, … &quot;.&quot;]</td><td>[0, 0, … 0]</td><td>[&quot;O&quot;, &quot;O&quot;, … &quot;O&quot;]</td><td>13</td></tr><tr><td>&quot;bc/cnn/00/cnn_0001&quot;</td><td>[&quot;Sunday&quot;, &quot;the&quot;, … &quot;/.&quot;]</td><td>[15, 0, … 0]</td><td>[&quot;B-DATE&quot;, &quot;O&quot;, … &quot;O&quot;]</td><td>7</td></tr></tbody></table></div>"
            ]
          },
          "metadata": {},
          "execution_count": 13
        }
      ],
      "source": [
        "df: pl.DataFrame = ds_dict[\"train\"].to_polars()\n",
        "df = df.with_columns(token_length=pl.col(\"tokens\").map_elements(lambda x: len(x)))\n",
        "df.head()"
      ]
    },
    {
      "cell_type": "code",
      "execution_count": 14,
      "metadata": {
        "colab": {
          "base_uri": "https://localhost:8080/",
          "height": 132
        },
        "id": "wQvTKBfiq0Xr",
        "outputId": "6d951d09-fcca-4bcd-c4c2-eef221d2b48f"
      },
      "outputs": [
        {
          "output_type": "execute_result",
          "data": {
            "text/plain": [
              "                                                                                                                                                                                                                                                          train  \\\n",
              "0  {'PERSON': 774, 'GPE': 1069, 'TIME': 88, 'CARDINAL': 243, 'DATE': 842, 'LOC': 109, 'ORG': 1005, 'NORP': 432, 'PRODUCT': 77, 'WORK_OF_ART': 56, 'ORDINAL': 44, 'FAC': 47, 'MONEY': 119, 'EVENT': 26, 'PERCENT': 47, 'QUANTITY': 11, 'LAW': 13, 'LANGUAGE': 6}   \n",
              "\n",
              "                                                                                                                                                                                                              validation  \\\n",
              "0  {'DATE': 105, 'GPE': 142, 'WORK_OF_ART': 4, 'PERSON': 100, 'ORDINAL': 12, 'ORG': 125, 'PRODUCT': 9, 'CARDINAL': 38, 'FAC': 4, 'TIME': 10, 'NORP': 46, 'EVENT': 6, 'LOC': 4, 'QUANTITY': 1, 'MONEY': 16, 'PERCENT': 7}   \n",
              "\n",
              "                                                                                                                                                                                                                                 test  \n",
              "0  {'GPE': 128, 'DATE': 103, 'PERSON': 81, 'LOC': 12, 'TIME': 13, 'NORP': 47, 'MONEY': 8, 'ORG': 118, 'EVENT': 5, 'CARDINAL': 33, 'WORK_OF_ART': 9, 'PRODUCT': 9, 'ORDINAL': 9, 'FAC': 2, 'QUANTITY': 2, 'PERCENT': 6, 'LANGUAGE': 1}  "
            ],
            "text/html": [
              "\n",
              "  <div id=\"df-51bce4e9-c63f-4852-be32-0adbfbc97c06\" class=\"colab-df-container\">\n",
              "    <div>\n",
              "<style scoped>\n",
              "    .dataframe tbody tr th:only-of-type {\n",
              "        vertical-align: middle;\n",
              "    }\n",
              "\n",
              "    .dataframe tbody tr th {\n",
              "        vertical-align: top;\n",
              "    }\n",
              "\n",
              "    .dataframe thead th {\n",
              "        text-align: right;\n",
              "    }\n",
              "</style>\n",
              "<table border=\"1\" class=\"dataframe\">\n",
              "  <thead>\n",
              "    <tr style=\"text-align: right;\">\n",
              "      <th></th>\n",
              "      <th>train</th>\n",
              "      <th>validation</th>\n",
              "      <th>test</th>\n",
              "    </tr>\n",
              "  </thead>\n",
              "  <tbody>\n",
              "    <tr>\n",
              "      <th>0</th>\n",
              "      <td>{'PERSON': 774, 'GPE': 1069, 'TIME': 88, 'CARDINAL': 243, 'DATE': 842, 'LOC': 109, 'ORG': 1005, 'NORP': 432, 'PRODUCT': 77, 'WORK_OF_ART': 56, 'ORDINAL': 44, 'FAC': 47, 'MONEY': 119, 'EVENT': 26, 'PERCENT': 47, 'QUANTITY': 11, 'LAW': 13, 'LANGUAGE': 6}</td>\n",
              "      <td>{'DATE': 105, 'GPE': 142, 'WORK_OF_ART': 4, 'PERSON': 100, 'ORDINAL': 12, 'ORG': 125, 'PRODUCT': 9, 'CARDINAL': 38, 'FAC': 4, 'TIME': 10, 'NORP': 46, 'EVENT': 6, 'LOC': 4, 'QUANTITY': 1, 'MONEY': 16, 'PERCENT': 7}</td>\n",
              "      <td>{'GPE': 128, 'DATE': 103, 'PERSON': 81, 'LOC': 12, 'TIME': 13, 'NORP': 47, 'MONEY': 8, 'ORG': 118, 'EVENT': 5, 'CARDINAL': 33, 'WORK_OF_ART': 9, 'PRODUCT': 9, 'ORDINAL': 9, 'FAC': 2, 'QUANTITY': 2, 'PERCENT': 6, 'LANGUAGE': 1}</td>\n",
              "    </tr>\n",
              "  </tbody>\n",
              "</table>\n",
              "</div>\n",
              "    <div class=\"colab-df-buttons\">\n",
              "\n",
              "  <div class=\"colab-df-container\">\n",
              "    <button class=\"colab-df-convert\" onclick=\"convertToInteractive('df-51bce4e9-c63f-4852-be32-0adbfbc97c06')\"\n",
              "            title=\"Convert this dataframe to an interactive table.\"\n",
              "            style=\"display:none;\">\n",
              "\n",
              "  <svg xmlns=\"http://www.w3.org/2000/svg\" height=\"24px\" viewBox=\"0 -960 960 960\">\n",
              "    <path d=\"M120-120v-720h720v720H120Zm60-500h600v-160H180v160Zm220 220h160v-160H400v160Zm0 220h160v-160H400v160ZM180-400h160v-160H180v160Zm440 0h160v-160H620v160ZM180-180h160v-160H180v160Zm440 0h160v-160H620v160Z\"/>\n",
              "  </svg>\n",
              "    </button>\n",
              "\n",
              "  <style>\n",
              "    .colab-df-container {\n",
              "      display:flex;\n",
              "      gap: 12px;\n",
              "    }\n",
              "\n",
              "    .colab-df-convert {\n",
              "      background-color: #E8F0FE;\n",
              "      border: none;\n",
              "      border-radius: 50%;\n",
              "      cursor: pointer;\n",
              "      display: none;\n",
              "      fill: #1967D2;\n",
              "      height: 32px;\n",
              "      padding: 0 0 0 0;\n",
              "      width: 32px;\n",
              "    }\n",
              "\n",
              "    .colab-df-convert:hover {\n",
              "      background-color: #E2EBFA;\n",
              "      box-shadow: 0px 1px 2px rgba(60, 64, 67, 0.3), 0px 1px 3px 1px rgba(60, 64, 67, 0.15);\n",
              "      fill: #174EA6;\n",
              "    }\n",
              "\n",
              "    .colab-df-buttons div {\n",
              "      margin-bottom: 4px;\n",
              "    }\n",
              "\n",
              "    [theme=dark] .colab-df-convert {\n",
              "      background-color: #3B4455;\n",
              "      fill: #D2E3FC;\n",
              "    }\n",
              "\n",
              "    [theme=dark] .colab-df-convert:hover {\n",
              "      background-color: #434B5C;\n",
              "      box-shadow: 0px 1px 3px 1px rgba(0, 0, 0, 0.15);\n",
              "      filter: drop-shadow(0px 1px 2px rgba(0, 0, 0, 0.3));\n",
              "      fill: #FFFFFF;\n",
              "    }\n",
              "  </style>\n",
              "\n",
              "    <script>\n",
              "      const buttonEl =\n",
              "        document.querySelector('#df-51bce4e9-c63f-4852-be32-0adbfbc97c06 button.colab-df-convert');\n",
              "      buttonEl.style.display =\n",
              "        google.colab.kernel.accessAllowed ? 'block' : 'none';\n",
              "\n",
              "      async function convertToInteractive(key) {\n",
              "        const element = document.querySelector('#df-51bce4e9-c63f-4852-be32-0adbfbc97c06');\n",
              "        const dataTable =\n",
              "          await google.colab.kernel.invokeFunction('convertToInteractive',\n",
              "                                                    [key], {});\n",
              "        if (!dataTable) return;\n",
              "\n",
              "        const docLinkHtml = 'Like what you see? Visit the ' +\n",
              "          '<a target=\"_blank\" href=https://colab.research.google.com/notebooks/data_table.ipynb>data table notebook</a>'\n",
              "          + ' to learn more about interactive tables.';\n",
              "        element.innerHTML = '';\n",
              "        dataTable['output_type'] = 'display_data';\n",
              "        await google.colab.output.renderOutput(dataTable, element);\n",
              "        const docLink = document.createElement('div');\n",
              "        docLink.innerHTML = docLinkHtml;\n",
              "        element.appendChild(docLink);\n",
              "      }\n",
              "    </script>\n",
              "  </div>\n",
              "\n",
              "\n",
              "    </div>\n",
              "  </div>\n"
            ],
            "application/vnd.google.colaboratory.intrinsic+json": {
              "type": "dataframe",
              "summary": "{\n  \"name\": \"pl\",\n  \"rows\": 1,\n  \"fields\": [\n    {\n      \"column\": \"train\",\n      \"properties\": {\n        \"dtype\": \"object\",\n        \"semantic_type\": \"\",\n        \"description\": \"\"\n      }\n    },\n    {\n      \"column\": \"validation\",\n      \"properties\": {\n        \"dtype\": \"object\",\n        \"semantic_type\": \"\",\n        \"description\": \"\"\n      }\n    },\n    {\n      \"column\": \"test\",\n      \"properties\": {\n        \"dtype\": \"object\",\n        \"semantic_type\": \"\",\n        \"description\": \"\"\n      }\n    }\n  ]\n}"
            }
          },
          "metadata": {},
          "execution_count": 14
        }
      ],
      "source": [
        "# Check the distribution of all the tags\n",
        "from collections import Counter, defaultdict\n",
        "\n",
        "\n",
        "splits_freq: defaultdict = defaultdict(Counter)\n",
        "\n",
        "for split, ds in ds_dict.items():\n",
        "    for row in ds[\"ner_labels\"]:\n",
        "        for tag in row:\n",
        "            # Focus on the `beginning` tags\n",
        "            if tag.startswith(\"B\"):\n",
        "                tag_type: str = tag.split(\"-\")[1]\n",
        "                splits_freq[split][tag_type] += 1\n",
        "\n",
        "\n",
        "# The tags are roughly equally distributed\n",
        "pl.DataFrame(splits_freq).to_pandas()"
      ]
    },
    {
      "cell_type": "code",
      "execution_count": 15,
      "metadata": {
        "id": "coT679D1q0Xs"
      },
      "outputs": [],
      "source": [
        "from transformers import AutoTokenizer\n",
        "\n",
        "\n",
        "chkpoint: str = \"dslim/distilbert-NER\"  # \"dslim/bert-base-NER\"\n",
        "\n",
        "tokenizer: AutoTokenizer = AutoTokenizer.from_pretrained(chkpoint)"
      ]
    },
    {
      "cell_type": "code",
      "execution_count": 16,
      "metadata": {
        "colab": {
          "base_uri": "https://localhost:8080/"
        },
        "id": "ctXHISkiq0Xs",
        "outputId": "18da19fa-7183-45b7-e85f-a4dee87b8324"
      },
      "outputs": [
        {
          "output_type": "execute_result",
          "data": {
            "text/plain": [
              "['[CLS]',\n",
              " 'Note',\n",
              " ':',\n",
              " 'There',\n",
              " \"'\",\n",
              " 's',\n",
              " 'a',\n",
              " 'piece',\n",
              " 'by',\n",
              " 'George',\n",
              " 'Pack',\n",
              " '##er',\n",
              " 'in',\n",
              " 'The',\n",
              " 'New',\n",
              " 'Yorker',\n",
              " '-',\n",
              " 'L',\n",
              " '##RB',\n",
              " '-',\n",
              " \"'\",\n",
              " \"'\",\n",
              " 'Bet',\n",
              " '##ray',\n",
              " '##ed',\n",
              " ':',\n",
              " 'the',\n",
              " 'Iraqi',\n",
              " '##s',\n",
              " 'who',\n",
              " 'trusted',\n",
              " 'America',\n",
              " 'the',\n",
              " 'most',\n",
              " \"'\",\n",
              " \"'\",\n",
              " '-',\n",
              " 'R',\n",
              " '##RB',\n",
              " '-',\n",
              " 'about',\n",
              " 'all',\n",
              " 'this',\n",
              " ',',\n",
              " 'but',\n",
              " 'it',\n",
              " \"'\",\n",
              " 's',\n",
              " 'way',\n",
              " 'too',\n",
              " 'long',\n",
              " 'to',\n",
              " 'blog',\n",
              " 'here',\n",
              " '.',\n",
              " '[SEP]']"
            ]
          },
          "metadata": {},
          "execution_count": 16
        }
      ],
      "source": [
        "text: str = \" \".join(ds_dict[\"train\"][\"tokens\"][-3])\n",
        "inp_labels: list[int] = ds_dict[\"train\"][\"labels\"][-3]\n",
        "tokens: list[str] = tokenizer(text).tokens()  # tokenizer.tokenize(text)\n",
        "inputs = tokenizer(text, return_tensors=\"pt\")\n",
        "\n",
        "tokens"
      ]
    },
    {
      "cell_type": "code",
      "execution_count": 17,
      "metadata": {
        "colab": {
          "base_uri": "https://localhost:8080/"
        },
        "id": "qQkaXIdWq0Xs",
        "outputId": "81f043d0-9210-42ba-e8e1-08e30b521c00"
      },
      "outputs": [
        {
          "output_type": "execute_result",
          "data": {
            "text/plain": [
              "dict_keys(['input_ids', 'attention_mask'])"
            ]
          },
          "metadata": {},
          "execution_count": 17
        }
      ],
      "source": [
        "inputs.keys()"
      ]
    },
    {
      "cell_type": "code",
      "execution_count": 18,
      "metadata": {
        "colab": {
          "base_uri": "https://localhost:8080/"
        },
        "id": "AHxgzwl1q0Xs",
        "outputId": "59d3931b-5835-4f5a-bf1a-f1e02ded0671"
      },
      "outputs": [
        {
          "output_type": "execute_result",
          "data": {
            "text/plain": [
              "torch.Size([1, 56, 768])"
            ]
          },
          "metadata": {},
          "execution_count": 18
        }
      ],
      "source": [
        "from transformers import AutoModel\n",
        "\n",
        "\n",
        "bert_model = AutoModel.from_pretrained(chkpoint)\n",
        "bert_model(**inputs)[\"last_hidden_state\"].shape"
      ]
    },
    {
      "cell_type": "markdown",
      "metadata": {
        "id": "v3vtPB2Vq0Xt"
      },
      "source": [
        "### Tokenization Pipeline\n",
        "\n",
        "<br>\n",
        "\n",
        "[![image.png](https://i.postimg.cc/zvJ0SrZz/image.png)](https://postimg.cc/dkx2wgVp)\n",
        "\n",
        "<br>\n",
        "\n",
        "- `Normalization`: it involves cleaning raw text by removing whitespace, accents, and standardizing Unicode characters. It also includes lowercasing to reduce vocabulary size. After normalization, our example string becomes \"jack sparrow loves new york!\".\n",
        "\n",
        "- `Pretokenization`: it splits text into words for easier tokenization. For English and similar languages, this is simple. For languages like Chinese, it's more complex and might require language-specific libraries.\n",
        "\n",
        "- `Tokenizer model`: it splits words into subwords to reduce vocabulary size and out-of-vocabulary tokens. This is done using algorithms like BPE, Unigram, and WordPiece. For example, \"jack sparrow\" might become \"[jack, spa, rrow]\".\n",
        "\n",
        "- `Postprocessing`: it's the final step in tokenization, where additional tokens (like [CLS] and [SEP]) are added to the beginning and end of the token sequence to prepare it for input into a model like BERT.\n"
      ]
    },
    {
      "cell_type": "code",
      "execution_count": 18,
      "metadata": {
        "id": "OK4YcIjrq0Xt"
      },
      "outputs": [],
      "source": []
    },
    {
      "cell_type": "markdown",
      "metadata": {
        "id": "RDNuoMrwq0Xt"
      },
      "source": [
        "### Named Entity Recognition\n",
        "\n",
        "[![image.png](https://i.postimg.cc/26YwrD5Q/image.png)](https://postimg.cc/rdhWN7xs)\n",
        "\n",
        "<br>\n",
        "\n",
        "- In `token classification`, assign the label (e.g., B-PER) to the first subword (\"Chr\") and ignore subsequent subwords (\"##ista\"). This convention follows the BERT paper and maintains the IOB2 format. Postprocessing can propagate the label to all subwords.\n",
        "\n",
        "<br>\n",
        "\n",
        "### Classification Head"
      ]
    },
    {
      "cell_type": "code",
      "execution_count": 19,
      "metadata": {
        "id": "fJF-aC1eq0Xt"
      },
      "outputs": [],
      "source": [
        "import torch\n",
        "from torch import nn, Tensor\n",
        "from transformers import DistilBertConfig, DistilBertModel\n",
        "from transformers.models.distilbert.modeling_distilbert import DistilBertPreTrainedModel\n",
        "from transformers.modeling_outputs import TokenClassifierOutput\n",
        "\n",
        "\n",
        "class DistilBertForTokenClassification(DistilBertPreTrainedModel):\n",
        "    class_config = DistilBertConfig\n",
        "\n",
        "    def __init__(self, config) -> None:\n",
        "        super().__init__(config)\n",
        "\n",
        "        # Load model body\n",
        "        self.model = DistilBertModel(config)\n",
        "\n",
        "        # Setup classifiaction head\n",
        "        self.num_labels = config.num_labels\n",
        "        self.dropout = nn.Dropout(config.seq_classif_dropout)\n",
        "        self.classifier = nn.Linear(config.hidden_size, config.num_labels)\n",
        "\n",
        "        # Initialize weights and apply final processing\n",
        "        self.post_init()\n",
        "\n",
        "    def forward(\n",
        "        self,\n",
        "        input_ids: Tensor | None = None,\n",
        "        attention_mask: Tensor | None = None,\n",
        "        token_type_ids: Tensor | None = None,\n",
        "        labels: Tensor | None = None,\n",
        "        **kwargs\n",
        "    ) -> TokenClassifierOutput:\n",
        "        # Get the encoder representations using the body\n",
        "        outputs: dict = self.model(input_ids, attention_mask, token_type_ids, **kwargs)\n",
        "\n",
        "        # Apply classifier to encoder representation\n",
        "        sequence_output: Tensor = self.dropout(outputs[\"last_hidden_state\"])\n",
        "        logits: Tensor = self.classifier(sequence_output)\n",
        "\n",
        "        # Calculate the loss\n",
        "        loss: Tensor | None = None\n",
        "        if labels is not None:\n",
        "            loss_fct = nn.CrossEntropyLoss()\n",
        "            loss = loss_fct(logits.view(-1, self.num_labels), labels.view(-1))\n",
        "\n",
        "        return TokenClassifierOutput(\n",
        "            loss=loss,\n",
        "            logits=logits,\n",
        "            hidden_states=outputs.hidden_states,\n",
        "            attentions=outputs.attentions,\n",
        "        )"
      ]
    },
    {
      "cell_type": "code",
      "execution_count": 20,
      "metadata": {
        "colab": {
          "base_uri": "https://localhost:8080/"
        },
        "id": "3L0_eugSq0Xt",
        "outputId": "347301ad-2a5e-4b42-cc31-e7489f727447"
      },
      "outputs": [
        {
          "output_type": "execute_result",
          "data": {
            "text/plain": [
              "ClassLabel(names=['O', 'B-PERSON', 'I-PERSON', 'B-NORP', 'I-NORP', 'B-FAC', 'I-FAC', 'B-ORG', 'I-ORG', 'B-GPE', 'I-GPE', 'B-LOC', 'I-LOC', 'B-PRODUCT', 'I-PRODUCT', 'B-DATE', 'I-DATE', 'B-TIME', 'I-TIME', 'B-PERCENT', 'I-PERCENT', 'B-MONEY', 'I-MONEY', 'B-QUANTITY', 'I-QUANTITY', 'B-ORDINAL', 'I-ORDINAL', 'B-CARDINAL', 'I-CARDINAL', 'B-EVENT', 'I-EVENT', 'B-WORK_OF_ART', 'I-WORK_OF_ART', 'B-LAW', 'I-LAW', 'B-LANGUAGE', 'I-LANGUAGE'], id=None)"
            ]
          },
          "metadata": {},
          "execution_count": 20
        }
      ],
      "source": [
        "tags"
      ]
    },
    {
      "cell_type": "code",
      "execution_count": 21,
      "metadata": {
        "colab": {
          "base_uri": "https://localhost:8080/"
        },
        "id": "S_gXZW7Qq0Xu",
        "outputId": "45d4f0a1-11c4-4fc8-ddec-9b9d632ff632"
      },
      "outputs": [
        {
          "output_type": "execute_result",
          "data": {
            "text/plain": [
              "DistilBertConfig {\n",
              "  \"_name_or_path\": \"distilbert-base-cased\",\n",
              "  \"activation\": \"gelu\",\n",
              "  \"architectures\": [\n",
              "    \"DistilBertForTokenClassification\"\n",
              "  ],\n",
              "  \"attention_dropout\": 0.1,\n",
              "  \"dim\": 768,\n",
              "  \"dropout\": 0.1,\n",
              "  \"hidden_dim\": 3072,\n",
              "  \"id2label\": {\n",
              "    \"0\": \"O\",\n",
              "    \"1\": \"B-PERSON\",\n",
              "    \"2\": \"I-PERSON\",\n",
              "    \"3\": \"B-NORP\",\n",
              "    \"4\": \"I-NORP\",\n",
              "    \"5\": \"B-FAC\",\n",
              "    \"6\": \"I-FAC\",\n",
              "    \"7\": \"B-ORG\",\n",
              "    \"8\": \"I-ORG\",\n",
              "    \"9\": \"B-GPE\",\n",
              "    \"10\": \"I-GPE\",\n",
              "    \"11\": \"B-LOC\",\n",
              "    \"12\": \"I-LOC\",\n",
              "    \"13\": \"B-PRODUCT\",\n",
              "    \"14\": \"I-PRODUCT\",\n",
              "    \"15\": \"B-DATE\",\n",
              "    \"16\": \"I-DATE\",\n",
              "    \"17\": \"B-TIME\",\n",
              "    \"18\": \"I-TIME\",\n",
              "    \"19\": \"B-PERCENT\",\n",
              "    \"20\": \"I-PERCENT\",\n",
              "    \"21\": \"B-MONEY\",\n",
              "    \"22\": \"I-MONEY\",\n",
              "    \"23\": \"B-QUANTITY\",\n",
              "    \"24\": \"I-QUANTITY\",\n",
              "    \"25\": \"B-ORDINAL\",\n",
              "    \"26\": \"I-ORDINAL\",\n",
              "    \"27\": \"B-CARDINAL\",\n",
              "    \"28\": \"I-CARDINAL\",\n",
              "    \"29\": \"B-EVENT\",\n",
              "    \"30\": \"I-EVENT\",\n",
              "    \"31\": \"B-WORK_OF_ART\",\n",
              "    \"32\": \"I-WORK_OF_ART\",\n",
              "    \"33\": \"B-LAW\",\n",
              "    \"34\": \"I-LAW\",\n",
              "    \"35\": \"B-LANGUAGE\",\n",
              "    \"36\": \"I-LANGUAGE\"\n",
              "  },\n",
              "  \"initializer_range\": 0.02,\n",
              "  \"label2id\": {\n",
              "    \"B-CARDINAL\": 27,\n",
              "    \"B-DATE\": 15,\n",
              "    \"B-EVENT\": 29,\n",
              "    \"B-FAC\": 5,\n",
              "    \"B-GPE\": 9,\n",
              "    \"B-LANGUAGE\": 35,\n",
              "    \"B-LAW\": 33,\n",
              "    \"B-LOC\": 11,\n",
              "    \"B-MONEY\": 21,\n",
              "    \"B-NORP\": 3,\n",
              "    \"B-ORDINAL\": 25,\n",
              "    \"B-ORG\": 7,\n",
              "    \"B-PERCENT\": 19,\n",
              "    \"B-PERSON\": 1,\n",
              "    \"B-PRODUCT\": 13,\n",
              "    \"B-QUANTITY\": 23,\n",
              "    \"B-TIME\": 17,\n",
              "    \"B-WORK_OF_ART\": 31,\n",
              "    \"I-CARDINAL\": 28,\n",
              "    \"I-DATE\": 16,\n",
              "    \"I-EVENT\": 30,\n",
              "    \"I-FAC\": 6,\n",
              "    \"I-GPE\": 10,\n",
              "    \"I-LANGUAGE\": 36,\n",
              "    \"I-LAW\": 34,\n",
              "    \"I-LOC\": 12,\n",
              "    \"I-MONEY\": 22,\n",
              "    \"I-NORP\": 4,\n",
              "    \"I-ORDINAL\": 26,\n",
              "    \"I-ORG\": 8,\n",
              "    \"I-PERCENT\": 20,\n",
              "    \"I-PERSON\": 2,\n",
              "    \"I-PRODUCT\": 14,\n",
              "    \"I-QUANTITY\": 24,\n",
              "    \"I-TIME\": 18,\n",
              "    \"I-WORK_OF_ART\": 32,\n",
              "    \"O\": 0\n",
              "  },\n",
              "  \"max_position_embeddings\": 512,\n",
              "  \"model_type\": \"distilbert\",\n",
              "  \"n_heads\": 12,\n",
              "  \"n_layers\": 6,\n",
              "  \"output_past\": true,\n",
              "  \"pad_token_id\": 0,\n",
              "  \"qa_dropout\": 0.1,\n",
              "  \"seq_classif_dropout\": 0.2,\n",
              "  \"sinusoidal_pos_embds\": false,\n",
              "  \"tie_weights_\": true,\n",
              "  \"torch_dtype\": \"float32\",\n",
              "  \"transformers_version\": \"4.42.4\",\n",
              "  \"vocab_size\": 28996\n",
              "}"
            ]
          },
          "metadata": {},
          "execution_count": 21
        }
      ],
      "source": [
        "config = DistilBertConfig.from_pretrained(\n",
        "    chkpoint, num_labels=len(tags.names), id2label=index2tag, label2id=tag2index\n",
        ")\n",
        "config"
      ]
    },
    {
      "cell_type": "code",
      "execution_count": 22,
      "metadata": {
        "colab": {
          "base_uri": "https://localhost:8080/",
          "height": 166
        },
        "id": "a2YYoPQxq0Xu",
        "outputId": "4ce75ab7-fc60-4351-b393-0ec18f365618"
      },
      "outputs": [
        {
          "output_type": "stream",
          "name": "stdout",
          "text": [
            "{'[CLS]': 101, 'Note': 5322, ':': 131, 'There': 1247, \"'\": 112, 's': 188, 'a': 170, 'piece': 2727, 'by': 1118, 'George': 1667, 'Pack': 14667, '##er': 1200, 'in': 1107, 'The': 1109, 'New': 1203, 'Yorker': 20998, '-': 118, 'L': 149, '##RB': 22672, 'Bet': 26615, '##ray': 6447, '##ed': 1174, 'the': 1103, 'Iraqi': 8612, '##s': 1116, 'who': 1150, 'trusted': 9373, 'America': 1738, 'most': 1211, 'R': 155, 'about': 1164, 'all': 1155, 'this': 1142, ',': 117, 'but': 1133, 'it': 1122, 'way': 1236, 'too': 1315, 'long': 1263, 'to': 1106, 'blog': 10679, 'here': 1303, '.': 119, '[SEP]': 102}\n"
          ]
        },
        {
          "output_type": "execute_result",
          "data": {
            "text/plain": [
              "shape: (1, 44)\n",
              "┌─────┬─────┬─────┬─────┬─────┬─────┬─────┬─────┬─────┬─────┬─────┬─────┬─────┬─────┬─────┬─────┬─────┬─────┬─────┬─────┬─────┬─────┬─────┬─────┬─────┬─────┬─────┬─────┬─────┬─────┬─────┬─────┬─────┬─────┬─────┬─────┬─────┬─────┬─────┬─────┬─────┬─────┬─────┬─────┐\n",
              "│ [CL ┆ Not ┆ :   ┆ The ┆ '   ┆ s   ┆ a   ┆ pie ┆ by  ┆ Geo ┆ Pac ┆ ##e ┆ in  ┆ The ┆ New ┆ Yor ┆ -   ┆ L   ┆ ##R ┆ Bet ┆ ##r ┆ ##e ┆ the ┆ Ira ┆ ##s ┆ who ┆ tru ┆ Ame ┆ mos ┆ R   ┆ abo ┆ all ┆ thi ┆ ,   ┆ but ┆ it  ┆ way ┆ too ┆ lon ┆ to  ┆ blo ┆ her ┆ .   ┆ [SE │\n",
              "│ S]  ┆ e   ┆ --- ┆ re  ┆ --- ┆ --- ┆ --- ┆ ce  ┆ --- ┆ rge ┆ k   ┆ r   ┆ --- ┆ --- ┆ --- ┆ ker ┆ --- ┆ --- ┆ B   ┆ --- ┆ ay  ┆ d   ┆ --- ┆ qi  ┆ --- ┆ --- ┆ ste ┆ ric ┆ t   ┆ --- ┆ ut  ┆ --- ┆ s   ┆ --- ┆ --- ┆ --- ┆ --- ┆ --- ┆ g   ┆ --- ┆ g   ┆ e   ┆ --- ┆ P]  │\n",
              "│ --- ┆ --- ┆ i64 ┆ --- ┆ i64 ┆ i64 ┆ i64 ┆ --- ┆ i64 ┆ --- ┆ --- ┆ --- ┆ i64 ┆ i64 ┆ i64 ┆ --- ┆ i64 ┆ i64 ┆ --- ┆ i64 ┆ --- ┆ --- ┆ i64 ┆ --- ┆ i64 ┆ i64 ┆ d   ┆ a   ┆ --- ┆ i64 ┆ --- ┆ i64 ┆ --- ┆ i64 ┆ i64 ┆ i64 ┆ i64 ┆ i64 ┆ --- ┆ i64 ┆ --- ┆ --- ┆ i64 ┆ --- │\n",
              "│ i64 ┆ i64 ┆     ┆ i64 ┆     ┆     ┆     ┆ i64 ┆     ┆ i64 ┆ i64 ┆ i64 ┆     ┆     ┆     ┆ i64 ┆     ┆     ┆ i64 ┆     ┆ i64 ┆ i64 ┆     ┆ i64 ┆     ┆     ┆ --- ┆ --- ┆ i64 ┆     ┆ i64 ┆     ┆ i64 ┆     ┆     ┆     ┆     ┆     ┆ i64 ┆     ┆ i64 ┆ i64 ┆     ┆ i64 │\n",
              "│     ┆     ┆     ┆     ┆     ┆     ┆     ┆     ┆     ┆     ┆     ┆     ┆     ┆     ┆     ┆     ┆     ┆     ┆     ┆     ┆     ┆     ┆     ┆     ┆     ┆     ┆ i64 ┆ i64 ┆     ┆     ┆     ┆     ┆     ┆     ┆     ┆     ┆     ┆     ┆     ┆     ┆     ┆     ┆     ┆     │\n",
              "╞═════╪═════╪═════╪═════╪═════╪═════╪═════╪═════╪═════╪═════╪═════╪═════╪═════╪═════╪═════╪═════╪═════╪═════╪═════╪═════╪═════╪═════╪═════╪═════╪═════╪═════╪═════╪═════╪═════╪═════╪═════╪═════╪═════╪═════╪═════╪═════╪═════╪═════╪═════╪═════╪═════╪═════╪═════╪═════╡\n",
              "│ 101 ┆ 532 ┆ 131 ┆ 124 ┆ 112 ┆ 188 ┆ 170 ┆ 272 ┆ 111 ┆ 166 ┆ 146 ┆ 120 ┆ 110 ┆ 110 ┆ 120 ┆ 209 ┆ 118 ┆ 149 ┆ 226 ┆ 266 ┆ 644 ┆ 117 ┆ 110 ┆ 861 ┆ 111 ┆ 115 ┆ 937 ┆ 173 ┆ 121 ┆ 155 ┆ 116 ┆ 115 ┆ 114 ┆ 117 ┆ 113 ┆ 112 ┆ 123 ┆ 131 ┆ 126 ┆ 110 ┆ 106 ┆ 130 ┆ 119 ┆ 102 │\n",
              "│     ┆ 2   ┆     ┆ 7   ┆     ┆     ┆     ┆ 7   ┆ 8   ┆ 7   ┆ 67  ┆ 0   ┆ 7   ┆ 9   ┆ 3   ┆ 98  ┆     ┆     ┆ 72  ┆ 15  ┆ 7   ┆ 4   ┆ 3   ┆ 2   ┆ 6   ┆ 0   ┆ 3   ┆ 8   ┆ 1   ┆     ┆ 4   ┆ 5   ┆ 2   ┆     ┆ 3   ┆ 2   ┆ 6   ┆ 5   ┆ 3   ┆ 6   ┆ 79  ┆ 3   ┆     ┆     │\n",
              "└─────┴─────┴─────┴─────┴─────┴─────┴─────┴─────┴─────┴─────┴─────┴─────┴─────┴─────┴─────┴─────┴─────┴─────┴─────┴─────┴─────┴─────┴─────┴─────┴─────┴─────┴─────┴─────┴─────┴─────┴─────┴─────┴─────┴─────┴─────┴─────┴─────┴─────┴─────┴─────┴─────┴─────┴─────┴─────┘"
            ],
            "text/html": [
              "<div><style>\n",
              ".dataframe > thead > tr,\n",
              ".dataframe > tbody > tr {\n",
              "  text-align: right;\n",
              "  white-space: pre-wrap;\n",
              "}\n",
              "</style>\n",
              "<small>shape: (1, 44)</small><table border=\"1\" class=\"dataframe\"><thead><tr><th>[CLS]</th><th>Note</th><th>:</th><th>There</th><th>&#x27;</th><th>s</th><th>a</th><th>piece</th><th>by</th><th>George</th><th>Pack</th><th>##er</th><th>in</th><th>The</th><th>New</th><th>Yorker</th><th>-</th><th>L</th><th>##RB</th><th>Bet</th><th>##ray</th><th>##ed</th><th>the</th><th>Iraqi</th><th>##s</th><th>who</th><th>trusted</th><th>America</th><th>most</th><th>R</th><th>about</th><th>all</th><th>this</th><th>,</th><th>but</th><th>it</th><th>way</th><th>too</th><th>long</th><th>to</th><th>blog</th><th>here</th><th>.</th><th>[SEP]</th></tr><tr><td>i64</td><td>i64</td><td>i64</td><td>i64</td><td>i64</td><td>i64</td><td>i64</td><td>i64</td><td>i64</td><td>i64</td><td>i64</td><td>i64</td><td>i64</td><td>i64</td><td>i64</td><td>i64</td><td>i64</td><td>i64</td><td>i64</td><td>i64</td><td>i64</td><td>i64</td><td>i64</td><td>i64</td><td>i64</td><td>i64</td><td>i64</td><td>i64</td><td>i64</td><td>i64</td><td>i64</td><td>i64</td><td>i64</td><td>i64</td><td>i64</td><td>i64</td><td>i64</td><td>i64</td><td>i64</td><td>i64</td><td>i64</td><td>i64</td><td>i64</td><td>i64</td></tr></thead><tbody><tr><td>101</td><td>5322</td><td>131</td><td>1247</td><td>112</td><td>188</td><td>170</td><td>2727</td><td>1118</td><td>1667</td><td>14667</td><td>1200</td><td>1107</td><td>1109</td><td>1203</td><td>20998</td><td>118</td><td>149</td><td>22672</td><td>26615</td><td>6447</td><td>1174</td><td>1103</td><td>8612</td><td>1116</td><td>1150</td><td>9373</td><td>1738</td><td>1211</td><td>155</td><td>1164</td><td>1155</td><td>1142</td><td>117</td><td>1133</td><td>1122</td><td>1236</td><td>1315</td><td>1263</td><td>1106</td><td>10679</td><td>1303</td><td>119</td><td>102</td></tr></tbody></table></div>"
            ]
          },
          "metadata": {},
          "execution_count": 22
        }
      ],
      "source": [
        "device: str = \"cuda\" if torch.cuda.is_available() else \"cpu\"\n",
        "model = DistilBertForTokenClassification(config=config).to(device)\n",
        "\n",
        "\n",
        "# Check that the tokenizer and model were properly initialized\n",
        "inputs = tokenizer(text, return_tensors=\"pt\")\n",
        "data: dict[str, int] = {\n",
        "    col: int(val) for col, val in zip(tokens, inputs.input_ids.flatten())\n",
        "}\n",
        "print(data)\n",
        "\n",
        "pl.DataFrame(data)"
      ]
    },
    {
      "cell_type": "code",
      "execution_count": 23,
      "metadata": {
        "colab": {
          "base_uri": "https://localhost:8080/"
        },
        "id": "jkjOlt2iq0Xu",
        "outputId": "f2ad0085-d101-4186-d227-046ac3c43150"
      },
      "outputs": [
        {
          "output_type": "execute_result",
          "data": {
            "text/plain": [
              "{'input_ids': tensor([[  101,  5322,   131,  1247,   112,   188,   170,  2727,  1118,  1667,\n",
              "          14667,  1200,  1107,  1109,  1203, 20998,   118,   149, 22672,   118,\n",
              "            112,   112, 26615,  6447,  1174,   131,  1103,  8612,  1116,  1150,\n",
              "           9373,  1738,  1103,  1211,   112,   112,   118,   155, 22672,   118,\n",
              "           1164,  1155,  1142,   117,  1133,  1122,   112,   188,  1236,  1315,\n",
              "           1263,  1106, 10679,  1303,   119,   102]], device='cuda:0'),\n",
              " 'attention_mask': tensor([[1, 1, 1, 1, 1, 1, 1, 1, 1, 1, 1, 1, 1, 1, 1, 1, 1, 1, 1, 1, 1, 1, 1, 1,\n",
              "          1, 1, 1, 1, 1, 1, 1, 1, 1, 1, 1, 1, 1, 1, 1, 1, 1, 1, 1, 1, 1, 1, 1, 1,\n",
              "          1, 1, 1, 1, 1, 1, 1, 1]], device='cuda:0')}"
            ]
          },
          "metadata": {},
          "execution_count": 23
        }
      ],
      "source": [
        "inputs_device: dict[str, Tensor] = {\n",
        "    k: torch.tensor(v).to(device) for k, v in inputs.items()\n",
        "}\n",
        "inputs_device"
      ]
    },
    {
      "cell_type": "code",
      "execution_count": 24,
      "metadata": {
        "colab": {
          "base_uri": "https://localhost:8080/"
        },
        "id": "gJfp4Mf5q0Xu",
        "outputId": "27079125-0806-44cc-e0ad-27cda8710fb4"
      },
      "outputs": [
        {
          "output_type": "execute_result",
          "data": {
            "text/plain": [
              "{'input_ids': tensor([[  101,  5322,   131,  1247,   112,   188,   170,  2727,  1118,  1667,\n",
              "          14667,  1200,  1107,  1109,  1203, 20998,   118,   149, 22672,   118,\n",
              "            112,   112, 26615,  6447,  1174,   131,  1103,  8612,  1116,  1150,\n",
              "           9373,  1738,  1103,  1211,   112,   112,   118,   155, 22672,   118,\n",
              "           1164,  1155,  1142,   117,  1133,  1122,   112,   188,  1236,  1315,\n",
              "           1263,  1106, 10679,  1303,   119,   102]], device='cuda:0'),\n",
              " 'attention_mask': tensor([[1, 1, 1, 1, 1, 1, 1, 1, 1, 1, 1, 1, 1, 1, 1, 1, 1, 1, 1, 1, 1, 1, 1, 1,\n",
              "          1, 1, 1, 1, 1, 1, 1, 1, 1, 1, 1, 1, 1, 1, 1, 1, 1, 1, 1, 1, 1, 1, 1, 1,\n",
              "          1, 1, 1, 1, 1, 1, 1, 1]], device='cuda:0')}"
            ]
          },
          "metadata": {},
          "execution_count": 24
        }
      ],
      "source": [
        "inputs_device"
      ]
    },
    {
      "cell_type": "code",
      "execution_count": 25,
      "metadata": {
        "colab": {
          "base_uri": "https://localhost:8080/",
          "height": 184
        },
        "id": "Pqc06PDbq0Xu",
        "outputId": "7ee00f08-dd96-4147-cd92-ddc96d168183"
      },
      "outputs": [
        {
          "output_type": "stream",
          "name": "stdout",
          "text": [
            "Number of tokens in sequence: 56\n"
          ]
        },
        {
          "output_type": "execute_result",
          "data": {
            "text/plain": [
              "shape: (1, 44)\n",
              "┌─────┬─────┬─────┬─────┬─────┬─────┬─────┬─────┬─────┬─────┬─────┬─────┬─────┬─────┬─────┬─────┬─────┬─────┬─────┬─────┬─────┬─────┬─────┬─────┬─────┬─────┬─────┬─────┬─────┬─────┬─────┬─────┬─────┬─────┬─────┬─────┬─────┬─────┬─────┬─────┬─────┬─────┬─────┬─────┐\n",
              "│ [CL ┆ Not ┆ :   ┆ The ┆ '   ┆ s   ┆ a   ┆ pie ┆ by  ┆ Geo ┆ Pac ┆ ##e ┆ in  ┆ The ┆ New ┆ Yor ┆ -   ┆ L   ┆ ##R ┆ Bet ┆ ##r ┆ ##e ┆ the ┆ Ira ┆ ##s ┆ who ┆ tru ┆ Ame ┆ mos ┆ R   ┆ abo ┆ all ┆ thi ┆ ,   ┆ but ┆ it  ┆ way ┆ too ┆ lon ┆ to  ┆ blo ┆ her ┆ .   ┆ [SE │\n",
              "│ S]  ┆ e   ┆ --- ┆ re  ┆ --- ┆ --- ┆ --- ┆ ce  ┆ --- ┆ rge ┆ k   ┆ r   ┆ --- ┆ --- ┆ --- ┆ ker ┆ --- ┆ --- ┆ B   ┆ --- ┆ ay  ┆ d   ┆ --- ┆ qi  ┆ --- ┆ --- ┆ ste ┆ ric ┆ t   ┆ --- ┆ ut  ┆ --- ┆ s   ┆ --- ┆ --- ┆ --- ┆ --- ┆ --- ┆ g   ┆ --- ┆ g   ┆ e   ┆ --- ┆ P]  │\n",
              "│ --- ┆ --- ┆ str ┆ --- ┆ str ┆ str ┆ str ┆ --- ┆ str ┆ --- ┆ --- ┆ --- ┆ str ┆ str ┆ str ┆ --- ┆ str ┆ str ┆ --- ┆ str ┆ --- ┆ --- ┆ str ┆ --- ┆ str ┆ str ┆ d   ┆ a   ┆ --- ┆ str ┆ --- ┆ str ┆ --- ┆ str ┆ str ┆ str ┆ str ┆ str ┆ --- ┆ str ┆ --- ┆ --- ┆ str ┆ --- │\n",
              "│ str ┆ str ┆     ┆ str ┆     ┆     ┆     ┆ str ┆     ┆ str ┆ str ┆ str ┆     ┆     ┆     ┆ str ┆     ┆     ┆ str ┆     ┆ str ┆ str ┆     ┆ str ┆     ┆     ┆ --- ┆ --- ┆ str ┆     ┆ str ┆     ┆ str ┆     ┆     ┆     ┆     ┆     ┆ str ┆     ┆ str ┆ str ┆     ┆ str │\n",
              "│     ┆     ┆     ┆     ┆     ┆     ┆     ┆     ┆     ┆     ┆     ┆     ┆     ┆     ┆     ┆     ┆     ┆     ┆     ┆     ┆     ┆     ┆     ┆     ┆     ┆     ┆ str ┆ str ┆     ┆     ┆     ┆     ┆     ┆     ┆     ┆     ┆     ┆     ┆     ┆     ┆     ┆     ┆     ┆     │\n",
              "╞═════╪═════╪═════╪═════╪═════╪═════╪═════╪═════╪═════╪═════╪═════╪═════╪═════╪═════╪═════╪═════╪═════╪═════╪═════╪═════╪═════╪═════╪═════╪═════╪═════╪═════╪═════╪═════╪═════╪═════╪═════╪═════╪═════╪═════╪═════╪═════╪═════╪═════╪═════╪═════╪═════╪═════╪═════╪═════╡\n",
              "│ B-L ┆ I-O ┆ B-O ┆ B-W ┆ B-G ┆ B-L ┆ B-M ┆ B-D ┆ B-E ┆ I-P ┆ I-T ┆ I-F ┆ I-N ┆ I-O ┆ B-L ┆ B-M ┆ I-Q ┆ B-G ┆ I-O ┆ I-F ┆ B-G ┆ B-L ┆ I-O ┆ B-M ┆ B-O ┆ I-L ┆ B-N ┆ B-M ┆ B-G ┆ B-L ┆ I-F ┆ I-Q ┆ I-L ┆ B-E ┆ B-L ┆ B-N ┆ I-L ┆ I-Q ┆ B-Q ┆ I-P ┆ I-N ┆ I-N ┆ O   ┆ I-T │\n",
              "│ ANG ┆ RDI ┆ RDI ┆ ORK ┆ PE  ┆ AW  ┆ ONE ┆ ATE ┆ VEN ┆ ERS ┆ IME ┆ AC  ┆ ORP ┆ RDI ┆ AW  ┆ ONE ┆ UAN ┆ PE  ┆ RDI ┆ AC  ┆ PE  ┆ ANG ┆ RG  ┆ ONE ┆ RDI ┆ OC  ┆ ORP ┆ ONE ┆ PE  ┆ AW  ┆ AC  ┆ UAN ┆ ANG ┆ VEN ┆ OC  ┆ ORP ┆ OC  ┆ UAN ┆ UAN ┆ ERS ┆ ORP ┆ ORP ┆     ┆ IME │\n",
              "│ UAG ┆ NAL ┆ NAL ┆ _OF ┆     ┆     ┆ Y   ┆     ┆ T   ┆ ON  ┆     ┆     ┆     ┆ NAL ┆     ┆ Y   ┆ TIT ┆     ┆ NAL ┆     ┆     ┆ UAG ┆     ┆ Y   ┆ NAL ┆     ┆     ┆ Y   ┆     ┆     ┆     ┆ TIT ┆ UAG ┆ T   ┆     ┆     ┆     ┆ TIT ┆ TIT ┆ ON  ┆     ┆     ┆     ┆     │\n",
              "│ E   ┆     ┆     ┆ _AR ┆     ┆     ┆     ┆     ┆     ┆     ┆     ┆     ┆     ┆     ┆     ┆     ┆ Y   ┆     ┆     ┆     ┆     ┆ E   ┆     ┆     ┆     ┆     ┆     ┆     ┆     ┆     ┆     ┆ Y   ┆ E   ┆     ┆     ┆     ┆     ┆ Y   ┆ Y   ┆     ┆     ┆     ┆     ┆     │\n",
              "│     ┆     ┆     ┆ T   ┆     ┆     ┆     ┆     ┆     ┆     ┆     ┆     ┆     ┆     ┆     ┆     ┆     ┆     ┆     ┆     ┆     ┆     ┆     ┆     ┆     ┆     ┆     ┆     ┆     ┆     ┆     ┆     ┆     ┆     ┆     ┆     ┆     ┆     ┆     ┆     ┆     ┆     ┆     ┆     │\n",
              "└─────┴─────┴─────┴─────┴─────┴─────┴─────┴─────┴─────┴─────┴─────┴─────┴─────┴─────┴─────┴─────┴─────┴─────┴─────┴─────┴─────┴─────┴─────┴─────┴─────┴─────┴─────┴─────┴─────┴─────┴─────┴─────┴─────┴─────┴─────┴─────┴─────┴─────┴─────┴─────┴─────┴─────┴─────┴─────┘"
            ],
            "text/html": [
              "<div><style>\n",
              ".dataframe > thead > tr,\n",
              ".dataframe > tbody > tr {\n",
              "  text-align: right;\n",
              "  white-space: pre-wrap;\n",
              "}\n",
              "</style>\n",
              "<small>shape: (1, 44)</small><table border=\"1\" class=\"dataframe\"><thead><tr><th>[CLS]</th><th>Note</th><th>:</th><th>There</th><th>&#x27;</th><th>s</th><th>a</th><th>piece</th><th>by</th><th>George</th><th>Pack</th><th>##er</th><th>in</th><th>The</th><th>New</th><th>Yorker</th><th>-</th><th>L</th><th>##RB</th><th>Bet</th><th>##ray</th><th>##ed</th><th>the</th><th>Iraqi</th><th>##s</th><th>who</th><th>trusted</th><th>America</th><th>most</th><th>R</th><th>about</th><th>all</th><th>this</th><th>,</th><th>but</th><th>it</th><th>way</th><th>too</th><th>long</th><th>to</th><th>blog</th><th>here</th><th>.</th><th>[SEP]</th></tr><tr><td>str</td><td>str</td><td>str</td><td>str</td><td>str</td><td>str</td><td>str</td><td>str</td><td>str</td><td>str</td><td>str</td><td>str</td><td>str</td><td>str</td><td>str</td><td>str</td><td>str</td><td>str</td><td>str</td><td>str</td><td>str</td><td>str</td><td>str</td><td>str</td><td>str</td><td>str</td><td>str</td><td>str</td><td>str</td><td>str</td><td>str</td><td>str</td><td>str</td><td>str</td><td>str</td><td>str</td><td>str</td><td>str</td><td>str</td><td>str</td><td>str</td><td>str</td><td>str</td><td>str</td></tr></thead><tbody><tr><td>&quot;B-LANGUAGE&quot;</td><td>&quot;I-ORDINAL&quot;</td><td>&quot;B-ORDINAL&quot;</td><td>&quot;B-WORK_OF_ART&quot;</td><td>&quot;B-GPE&quot;</td><td>&quot;B-LAW&quot;</td><td>&quot;B-MONEY&quot;</td><td>&quot;B-DATE&quot;</td><td>&quot;B-EVENT&quot;</td><td>&quot;I-PERSON&quot;</td><td>&quot;I-TIME&quot;</td><td>&quot;I-FAC&quot;</td><td>&quot;I-NORP&quot;</td><td>&quot;I-ORDINAL&quot;</td><td>&quot;B-LAW&quot;</td><td>&quot;B-MONEY&quot;</td><td>&quot;I-QUANTITY&quot;</td><td>&quot;B-GPE&quot;</td><td>&quot;I-ORDINAL&quot;</td><td>&quot;I-FAC&quot;</td><td>&quot;B-GPE&quot;</td><td>&quot;B-LANGUAGE&quot;</td><td>&quot;I-ORG&quot;</td><td>&quot;B-MONEY&quot;</td><td>&quot;B-ORDINAL&quot;</td><td>&quot;I-LOC&quot;</td><td>&quot;B-NORP&quot;</td><td>&quot;B-MONEY&quot;</td><td>&quot;B-GPE&quot;</td><td>&quot;B-LAW&quot;</td><td>&quot;I-FAC&quot;</td><td>&quot;I-QUANTITY&quot;</td><td>&quot;I-LANGUAGE&quot;</td><td>&quot;B-EVENT&quot;</td><td>&quot;B-LOC&quot;</td><td>&quot;B-NORP&quot;</td><td>&quot;I-LOC&quot;</td><td>&quot;I-QUANTITY&quot;</td><td>&quot;B-QUANTITY&quot;</td><td>&quot;I-PERSON&quot;</td><td>&quot;I-NORP&quot;</td><td>&quot;I-NORP&quot;</td><td>&quot;O&quot;</td><td>&quot;I-TIME&quot;</td></tr></tbody></table></div>"
            ]
          },
          "metadata": {},
          "execution_count": 25
        }
      ],
      "source": [
        "# Pass the input to the model and extract the predictions\n",
        "inputs_device: dict[str, Tensor] = {\n",
        "    k: torch.tensor(v).to(device) for k, v in inputs.items()\n",
        "}\n",
        "outputs = model(**inputs_device).logits\n",
        "predictions: Tensor = torch.argmax(outputs, dim=-1)\n",
        "print(f\"Number of tokens in sequence: {len(tokens)}\")\n",
        "\n",
        "data: dict[str, str] = {\n",
        "    col: tags.names[p] for col, p in zip(tokens, predictions.flatten())\n",
        "}\n",
        "\n",
        "pl.DataFrame(data)"
      ]
    },
    {
      "cell_type": "code",
      "execution_count": 26,
      "metadata": {
        "id": "Go588DZYq0Xv"
      },
      "outputs": [],
      "source": [
        "# text.split()\n",
        "# pattern: str = r\"[,.:;?!\\s]+\"\n",
        "# tokens: list[str] = re.compile(pattern).split(text)\n",
        "# tokens"
      ]
    },
    {
      "cell_type": "code",
      "execution_count": 27,
      "metadata": {
        "colab": {
          "base_uri": "https://localhost:8080/"
        },
        "id": "4ePE2GuHq0Xv",
        "outputId": "e85094a9-25d8-45a2-ad20-c03051999959"
      },
      "outputs": [
        {
          "output_type": "execute_result",
          "data": {
            "text/plain": [
              "(5, 5)"
            ]
          },
          "metadata": {},
          "execution_count": 27
        }
      ],
      "source": [
        "sample = ds_dict[\"train\"][10]\n",
        "\n",
        "words, inp_labels = sample[\"tokens\"], sample[\"labels\"]\n",
        "\n",
        "len(words), len(inp_labels)"
      ]
    },
    {
      "cell_type": "code",
      "execution_count": 28,
      "metadata": {
        "colab": {
          "base_uri": "https://localhost:8080/"
        },
        "id": "zxuaVDxfq0Xv",
        "outputId": "5478db6e-43bc-4fa2-b1e7-8cd249fe06ba"
      },
      "outputs": [
        {
          "output_type": "execute_result",
          "data": {
            "text/plain": [
              "['[CLS]', 'Journalists', 'sources', 'and', 'jail', '/', '.', '[SEP]']"
            ]
          },
          "metadata": {},
          "execution_count": 28
        }
      ],
      "source": [
        "# Tokenize each word and specify that the input sequence has already been split into words.\n",
        "tokenized_input = tokenizer(words, is_split_into_words=True)\n",
        "tokens: list[str] = tokenizer.convert_ids_to_tokens(tokenized_input[\"input_ids\"])\n",
        "tokens"
      ]
    },
    {
      "cell_type": "code",
      "execution_count": 29,
      "metadata": {
        "colab": {
          "base_uri": "https://localhost:8080/"
        },
        "id": "XoM9KZPtq0Xv",
        "outputId": "39bbbf65-efb1-4261-db54-f85efe69de03"
      },
      "outputs": [
        {
          "output_type": "execute_result",
          "data": {
            "text/plain": [
              "[None, 0, 1, 2, 3, 4, 4, None]"
            ]
          },
          "metadata": {},
          "execution_count": 29
        }
      ],
      "source": [
        "word_ids = tokenized_input.word_ids()\n",
        "word_ids"
      ]
    },
    {
      "cell_type": "code",
      "execution_count": 30,
      "metadata": {
        "colab": {
          "base_uri": "https://localhost:8080/",
          "height": 174
        },
        "id": "dl302OdTq0Xv",
        "outputId": "84e21255-12cb-4787-ec87-dcdcec6047a0"
      },
      "outputs": [
        {
          "output_type": "execute_result",
          "data": {
            "text/plain": [
              "               0            1        2    3     4     5     6      7\n",
              "Tokens     [CLS]  Journalists  sources  and  jail     /     .  [SEP]\n",
              "Word IDs    None            0        1    2     3     4     4   None\n",
              "label IDs   -100            0        0    0     0     0  -100   -100\n",
              "Labels         0            0        0    0     0  None  None   None"
            ],
            "text/html": [
              "\n",
              "  <div id=\"df-bc4f9069-d821-4cfa-8ca0-287d27a2bfb8\" class=\"colab-df-container\">\n",
              "    <div>\n",
              "<style scoped>\n",
              "    .dataframe tbody tr th:only-of-type {\n",
              "        vertical-align: middle;\n",
              "    }\n",
              "\n",
              "    .dataframe tbody tr th {\n",
              "        vertical-align: top;\n",
              "    }\n",
              "\n",
              "    .dataframe thead th {\n",
              "        text-align: right;\n",
              "    }\n",
              "</style>\n",
              "<table border=\"1\" class=\"dataframe\">\n",
              "  <thead>\n",
              "    <tr style=\"text-align: right;\">\n",
              "      <th></th>\n",
              "      <th>0</th>\n",
              "      <th>1</th>\n",
              "      <th>2</th>\n",
              "      <th>3</th>\n",
              "      <th>4</th>\n",
              "      <th>5</th>\n",
              "      <th>6</th>\n",
              "      <th>7</th>\n",
              "    </tr>\n",
              "  </thead>\n",
              "  <tbody>\n",
              "    <tr>\n",
              "      <th>Tokens</th>\n",
              "      <td>[CLS]</td>\n",
              "      <td>Journalists</td>\n",
              "      <td>sources</td>\n",
              "      <td>and</td>\n",
              "      <td>jail</td>\n",
              "      <td>/</td>\n",
              "      <td>.</td>\n",
              "      <td>[SEP]</td>\n",
              "    </tr>\n",
              "    <tr>\n",
              "      <th>Word IDs</th>\n",
              "      <td>None</td>\n",
              "      <td>0</td>\n",
              "      <td>1</td>\n",
              "      <td>2</td>\n",
              "      <td>3</td>\n",
              "      <td>4</td>\n",
              "      <td>4</td>\n",
              "      <td>None</td>\n",
              "    </tr>\n",
              "    <tr>\n",
              "      <th>label IDs</th>\n",
              "      <td>-100</td>\n",
              "      <td>0</td>\n",
              "      <td>0</td>\n",
              "      <td>0</td>\n",
              "      <td>0</td>\n",
              "      <td>0</td>\n",
              "      <td>-100</td>\n",
              "      <td>-100</td>\n",
              "    </tr>\n",
              "    <tr>\n",
              "      <th>Labels</th>\n",
              "      <td>0</td>\n",
              "      <td>0</td>\n",
              "      <td>0</td>\n",
              "      <td>0</td>\n",
              "      <td>0</td>\n",
              "      <td>None</td>\n",
              "      <td>None</td>\n",
              "      <td>None</td>\n",
              "    </tr>\n",
              "  </tbody>\n",
              "</table>\n",
              "</div>\n",
              "    <div class=\"colab-df-buttons\">\n",
              "\n",
              "  <div class=\"colab-df-container\">\n",
              "    <button class=\"colab-df-convert\" onclick=\"convertToInteractive('df-bc4f9069-d821-4cfa-8ca0-287d27a2bfb8')\"\n",
              "            title=\"Convert this dataframe to an interactive table.\"\n",
              "            style=\"display:none;\">\n",
              "\n",
              "  <svg xmlns=\"http://www.w3.org/2000/svg\" height=\"24px\" viewBox=\"0 -960 960 960\">\n",
              "    <path d=\"M120-120v-720h720v720H120Zm60-500h600v-160H180v160Zm220 220h160v-160H400v160Zm0 220h160v-160H400v160ZM180-400h160v-160H180v160Zm440 0h160v-160H620v160ZM180-180h160v-160H180v160Zm440 0h160v-160H620v160Z\"/>\n",
              "  </svg>\n",
              "    </button>\n",
              "\n",
              "  <style>\n",
              "    .colab-df-container {\n",
              "      display:flex;\n",
              "      gap: 12px;\n",
              "    }\n",
              "\n",
              "    .colab-df-convert {\n",
              "      background-color: #E8F0FE;\n",
              "      border: none;\n",
              "      border-radius: 50%;\n",
              "      cursor: pointer;\n",
              "      display: none;\n",
              "      fill: #1967D2;\n",
              "      height: 32px;\n",
              "      padding: 0 0 0 0;\n",
              "      width: 32px;\n",
              "    }\n",
              "\n",
              "    .colab-df-convert:hover {\n",
              "      background-color: #E2EBFA;\n",
              "      box-shadow: 0px 1px 2px rgba(60, 64, 67, 0.3), 0px 1px 3px 1px rgba(60, 64, 67, 0.15);\n",
              "      fill: #174EA6;\n",
              "    }\n",
              "\n",
              "    .colab-df-buttons div {\n",
              "      margin-bottom: 4px;\n",
              "    }\n",
              "\n",
              "    [theme=dark] .colab-df-convert {\n",
              "      background-color: #3B4455;\n",
              "      fill: #D2E3FC;\n",
              "    }\n",
              "\n",
              "    [theme=dark] .colab-df-convert:hover {\n",
              "      background-color: #434B5C;\n",
              "      box-shadow: 0px 1px 3px 1px rgba(0, 0, 0, 0.15);\n",
              "      filter: drop-shadow(0px 1px 2px rgba(0, 0, 0, 0.3));\n",
              "      fill: #FFFFFF;\n",
              "    }\n",
              "  </style>\n",
              "\n",
              "    <script>\n",
              "      const buttonEl =\n",
              "        document.querySelector('#df-bc4f9069-d821-4cfa-8ca0-287d27a2bfb8 button.colab-df-convert');\n",
              "      buttonEl.style.display =\n",
              "        google.colab.kernel.accessAllowed ? 'block' : 'none';\n",
              "\n",
              "      async function convertToInteractive(key) {\n",
              "        const element = document.querySelector('#df-bc4f9069-d821-4cfa-8ca0-287d27a2bfb8');\n",
              "        const dataTable =\n",
              "          await google.colab.kernel.invokeFunction('convertToInteractive',\n",
              "                                                    [key], {});\n",
              "        if (!dataTable) return;\n",
              "\n",
              "        const docLinkHtml = 'Like what you see? Visit the ' +\n",
              "          '<a target=\"_blank\" href=https://colab.research.google.com/notebooks/data_table.ipynb>data table notebook</a>'\n",
              "          + ' to learn more about interactive tables.';\n",
              "        element.innerHTML = '';\n",
              "        dataTable['output_type'] = 'display_data';\n",
              "        await google.colab.output.renderOutput(dataTable, element);\n",
              "        const docLink = document.createElement('div');\n",
              "        docLink.innerHTML = docLinkHtml;\n",
              "        element.appendChild(docLink);\n",
              "      }\n",
              "    </script>\n",
              "  </div>\n",
              "\n",
              "\n",
              "<div id=\"df-fdcdc6b1-5d7a-41db-94f1-f1ffeb8af2ae\">\n",
              "  <button class=\"colab-df-quickchart\" onclick=\"quickchart('df-fdcdc6b1-5d7a-41db-94f1-f1ffeb8af2ae')\"\n",
              "            title=\"Suggest charts\"\n",
              "            style=\"display:none;\">\n",
              "\n",
              "<svg xmlns=\"http://www.w3.org/2000/svg\" height=\"24px\"viewBox=\"0 0 24 24\"\n",
              "     width=\"24px\">\n",
              "    <g>\n",
              "        <path d=\"M19 3H5c-1.1 0-2 .9-2 2v14c0 1.1.9 2 2 2h14c1.1 0 2-.9 2-2V5c0-1.1-.9-2-2-2zM9 17H7v-7h2v7zm4 0h-2V7h2v10zm4 0h-2v-4h2v4z\"/>\n",
              "    </g>\n",
              "</svg>\n",
              "  </button>\n",
              "\n",
              "<style>\n",
              "  .colab-df-quickchart {\n",
              "      --bg-color: #E8F0FE;\n",
              "      --fill-color: #1967D2;\n",
              "      --hover-bg-color: #E2EBFA;\n",
              "      --hover-fill-color: #174EA6;\n",
              "      --disabled-fill-color: #AAA;\n",
              "      --disabled-bg-color: #DDD;\n",
              "  }\n",
              "\n",
              "  [theme=dark] .colab-df-quickchart {\n",
              "      --bg-color: #3B4455;\n",
              "      --fill-color: #D2E3FC;\n",
              "      --hover-bg-color: #434B5C;\n",
              "      --hover-fill-color: #FFFFFF;\n",
              "      --disabled-bg-color: #3B4455;\n",
              "      --disabled-fill-color: #666;\n",
              "  }\n",
              "\n",
              "  .colab-df-quickchart {\n",
              "    background-color: var(--bg-color);\n",
              "    border: none;\n",
              "    border-radius: 50%;\n",
              "    cursor: pointer;\n",
              "    display: none;\n",
              "    fill: var(--fill-color);\n",
              "    height: 32px;\n",
              "    padding: 0;\n",
              "    width: 32px;\n",
              "  }\n",
              "\n",
              "  .colab-df-quickchart:hover {\n",
              "    background-color: var(--hover-bg-color);\n",
              "    box-shadow: 0 1px 2px rgba(60, 64, 67, 0.3), 0 1px 3px 1px rgba(60, 64, 67, 0.15);\n",
              "    fill: var(--button-hover-fill-color);\n",
              "  }\n",
              "\n",
              "  .colab-df-quickchart-complete:disabled,\n",
              "  .colab-df-quickchart-complete:disabled:hover {\n",
              "    background-color: var(--disabled-bg-color);\n",
              "    fill: var(--disabled-fill-color);\n",
              "    box-shadow: none;\n",
              "  }\n",
              "\n",
              "  .colab-df-spinner {\n",
              "    border: 2px solid var(--fill-color);\n",
              "    border-color: transparent;\n",
              "    border-bottom-color: var(--fill-color);\n",
              "    animation:\n",
              "      spin 1s steps(1) infinite;\n",
              "  }\n",
              "\n",
              "  @keyframes spin {\n",
              "    0% {\n",
              "      border-color: transparent;\n",
              "      border-bottom-color: var(--fill-color);\n",
              "      border-left-color: var(--fill-color);\n",
              "    }\n",
              "    20% {\n",
              "      border-color: transparent;\n",
              "      border-left-color: var(--fill-color);\n",
              "      border-top-color: var(--fill-color);\n",
              "    }\n",
              "    30% {\n",
              "      border-color: transparent;\n",
              "      border-left-color: var(--fill-color);\n",
              "      border-top-color: var(--fill-color);\n",
              "      border-right-color: var(--fill-color);\n",
              "    }\n",
              "    40% {\n",
              "      border-color: transparent;\n",
              "      border-right-color: var(--fill-color);\n",
              "      border-top-color: var(--fill-color);\n",
              "    }\n",
              "    60% {\n",
              "      border-color: transparent;\n",
              "      border-right-color: var(--fill-color);\n",
              "    }\n",
              "    80% {\n",
              "      border-color: transparent;\n",
              "      border-right-color: var(--fill-color);\n",
              "      border-bottom-color: var(--fill-color);\n",
              "    }\n",
              "    90% {\n",
              "      border-color: transparent;\n",
              "      border-bottom-color: var(--fill-color);\n",
              "    }\n",
              "  }\n",
              "</style>\n",
              "\n",
              "  <script>\n",
              "    async function quickchart(key) {\n",
              "      const quickchartButtonEl =\n",
              "        document.querySelector('#' + key + ' button');\n",
              "      quickchartButtonEl.disabled = true;  // To prevent multiple clicks.\n",
              "      quickchartButtonEl.classList.add('colab-df-spinner');\n",
              "      try {\n",
              "        const charts = await google.colab.kernel.invokeFunction(\n",
              "            'suggestCharts', [key], {});\n",
              "      } catch (error) {\n",
              "        console.error('Error during call to suggestCharts:', error);\n",
              "      }\n",
              "      quickchartButtonEl.classList.remove('colab-df-spinner');\n",
              "      quickchartButtonEl.classList.add('colab-df-quickchart-complete');\n",
              "    }\n",
              "    (() => {\n",
              "      let quickchartButtonEl =\n",
              "        document.querySelector('#df-fdcdc6b1-5d7a-41db-94f1-f1ffeb8af2ae button');\n",
              "      quickchartButtonEl.style.display =\n",
              "        google.colab.kernel.accessAllowed ? 'block' : 'none';\n",
              "    })();\n",
              "  </script>\n",
              "</div>\n",
              "\n",
              "    </div>\n",
              "  </div>\n"
            ],
            "application/vnd.google.colaboratory.intrinsic+json": {
              "type": "dataframe",
              "summary": "{\n  \"name\": \"pd\",\n  \"rows\": 4,\n  \"fields\": [\n    {\n      \"column\": 0,\n      \"properties\": {\n        \"dtype\": \"string\",\n        \"num_unique_values\": 3,\n        \"samples\": [\n          \"[CLS]\",\n          -100,\n          0\n        ],\n        \"semantic_type\": \"\",\n        \"description\": \"\"\n      }\n    },\n    {\n      \"column\": 1,\n      \"properties\": {\n        \"dtype\": \"string\",\n        \"num_unique_values\": 2,\n        \"samples\": [\n          0,\n          \"Journalists\"\n        ],\n        \"semantic_type\": \"\",\n        \"description\": \"\"\n      }\n    },\n    {\n      \"column\": 2,\n      \"properties\": {\n        \"dtype\": \"string\",\n        \"num_unique_values\": 3,\n        \"samples\": [\n          \"sources\",\n          1\n        ],\n        \"semantic_type\": \"\",\n        \"description\": \"\"\n      }\n    },\n    {\n      \"column\": 3,\n      \"properties\": {\n        \"dtype\": \"string\",\n        \"num_unique_values\": 3,\n        \"samples\": [\n          \"and\",\n          2\n        ],\n        \"semantic_type\": \"\",\n        \"description\": \"\"\n      }\n    },\n    {\n      \"column\": 4,\n      \"properties\": {\n        \"dtype\": \"string\",\n        \"num_unique_values\": 3,\n        \"samples\": [\n          \"jail\",\n          3\n        ],\n        \"semantic_type\": \"\",\n        \"description\": \"\"\n      }\n    },\n    {\n      \"column\": 5,\n      \"properties\": {\n        \"dtype\": \"string\",\n        \"num_unique_values\": 3,\n        \"samples\": [\n          \"/\",\n          4\n        ],\n        \"semantic_type\": \"\",\n        \"description\": \"\"\n      }\n    },\n    {\n      \"column\": 6,\n      \"properties\": {\n        \"dtype\": \"string\",\n        \"num_unique_values\": 3,\n        \"samples\": [\n          \".\",\n          4\n        ],\n        \"semantic_type\": \"\",\n        \"description\": \"\"\n      }\n    },\n    {\n      \"column\": 7,\n      \"properties\": {\n        \"dtype\": \"string\",\n        \"num_unique_values\": 2,\n        \"samples\": [\n          -100,\n          \"[SEP]\"\n        ],\n        \"semantic_type\": \"\",\n        \"description\": \"\"\n      }\n    }\n  ]\n}"
            }
          },
          "metadata": {},
          "execution_count": 30
        }
      ],
      "source": [
        "# Align the labels\n",
        "prev_word_idx: int | None = None\n",
        "label_ids: list[int] = []\n",
        "\n",
        "for word_idx in word_ids:\n",
        "    if word_idx is None or word_idx == prev_word_idx:\n",
        "        label_ids.append(-100)\n",
        "    else:\n",
        "        label_ids.append(inp_labels[word_idx])\n",
        "    prev_word_idx = word_idx\n",
        "\n",
        "\n",
        "# Update the labels\n",
        "labels = [index2tag[l] if l != -100 else \"IGN\" for l in label_ids]\n",
        "index = [\"Tokens\", \"Word IDs\", \"label IDs\", \"Labels\"]\n",
        "\n",
        "pd.DataFrame([tokens, word_ids, label_ids, inp_labels], index=index)"
      ]
    },
    {
      "cell_type": "markdown",
      "metadata": {
        "id": "mRsYW_mtq0Xw"
      },
      "source": [
        "#### Comment\n",
        "\n",
        "- The ID `-100` is used to mask subword representations in PyTorch's cross-entropy loss to ignore them during training, preventing their influence on the model's learning."
      ]
    },
    {
      "cell_type": "code",
      "execution_count": 31,
      "metadata": {
        "id": "ILWJnO8kq0Xw"
      },
      "outputs": [],
      "source": [
        "# Putting it together\n",
        "import os\n",
        "\n",
        "\n",
        "os.environ[\"TOKENIZERS_PARALLELISM\"] = \"true\"\n",
        "\n",
        "\n",
        "def tokenize_and_align_labels(examples: dict[str, list]) -> dict[str, list]:\n",
        "    labels: list[list[int]] = []\n",
        "\n",
        "    # Tokenize each word and specify that the input sequence has\n",
        "    # already been split into words.\n",
        "    tokenized_inputs: dict[str, list] = tokenizer(\n",
        "        examples[\"tokens\"],\n",
        "        truncation=True,\n",
        "        is_split_into_words=True,\n",
        "        max_length=config.max_position_embeddings,\n",
        "        padding=\"max_length\",\n",
        "    )\n",
        "\n",
        "    for idx, label in enumerate(examples[\"labels\"]):\n",
        "        word_ids: list[int | None] = tokenized_inputs.word_ids(batch_index=idx)\n",
        "        prev_word_idx: int | None = None\n",
        "        label_ids: list[int] = []\n",
        "\n",
        "        for word_idx in word_ids:\n",
        "            if word_idx is None or word_idx == prev_word_idx:\n",
        "                label_ids.append(-100)\n",
        "            else:\n",
        "                label_ids.append(label[word_idx])\n",
        "            prev_word_idx = word_idx\n",
        "        labels.append(label_ids)\n",
        "\n",
        "    # Add the labels to the inputs\n",
        "    tokenized_inputs[\"labels\"] = labels\n",
        "\n",
        "    return tokenized_inputs\n",
        "\n",
        "\n",
        "def encode_dataset(corpus: DatasetDict) -> DatasetDict:\n",
        "    encoded_corpus = DatasetDict()\n",
        "    for split, dataset in corpus.items():\n",
        "        encoded_corpus[split] = dataset.map(\n",
        "            tokenize_and_align_labels,\n",
        "            batched=True,\n",
        "            remove_columns=[\"tokens\", \"ner_labels\"],\n",
        "            desc=f\"Running tokenizer on {split} split\",\n",
        "        )\n",
        "    return encoded_corpus"
      ]
    },
    {
      "cell_type": "code",
      "execution_count": 32,
      "metadata": {
        "colab": {
          "base_uri": "https://localhost:8080/",
          "height": 356,
          "referenced_widgets": [
            "65f6c25d802a4ab38f9f0d122cacbfc6",
            "96273558307e4abdbf127cf235f4b695",
            "82965ee455bd43a2baef9a8dcaf36e2c",
            "f5e61591369543ba86c3965e5be94356",
            "d956da677cf248eaa2b157e7b65a0e94",
            "bf53efaabefe4e40b500bc78e97aa427",
            "24821927a1ee4724a951e2e8006f1841",
            "35aa5f44fb564d4d8907fa3174dc4be3",
            "e46bece5c75e47858c5540b55faade12",
            "95ec2b57bd684a7798e4bb40114c895b",
            "47120f10a48c4a5e9fa0e148a4412430",
            "425a170da4ef4ff0823f1335e2ffaf15",
            "af6e9121fb134c6084d6c74bbd74647b",
            "d9678930cac04d1590f0a56243397248",
            "0313b50f80084598a982cdc1c38436ae",
            "c8ea892a48b647e2a28191f65465f14c",
            "b7f9452117f8454e9d6067911f837a9a",
            "e2f9a864bd584b1cbb13c98a4337db92",
            "e94895075962484381957647bc60c4f9",
            "ac3440ffd95940ad8dc20bee25b5a0f1",
            "b94b392aeec7425fb770389957fcca5f",
            "911ac36103df46c59db0f1269ae90b0f",
            "628126f0d86840458351c3ac64ab6ac4",
            "0a1a0fa74558468faa1cbd5264da11c3",
            "4217bc714f0b424a9efad558694cfb1b",
            "f9dea6d563814900b1f24b9bd154f6ce",
            "60c883d729d742e4997790cae0507ca3",
            "e031709abe1e47008aba6e65fe7da95e",
            "a0405c0dc4fa4e07914f6b153fcc0265",
            "ce4f1064b37d41dd9033843c991dff38",
            "eeaa8a0afc104f80922ef8e620b9d2eb",
            "4b82fd0c9cb34ebe936e4dfb23a05c87",
            "f30daa2aa53b4df0a3bd3eea593c8abe"
          ]
        },
        "id": "QjIz7OSPq0Xw",
        "outputId": "af5f0b22-1a17-4d2a-e7bc-6f2b13257a89"
      },
      "outputs": [
        {
          "output_type": "display_data",
          "data": {
            "text/plain": [
              "Running tokenizer on train split:   0%|          | 0/1940 [00:00<?, ? examples/s]"
            ],
            "application/vnd.jupyter.widget-view+json": {
              "version_major": 2,
              "version_minor": 0,
              "model_id": "65f6c25d802a4ab38f9f0d122cacbfc6"
            }
          },
          "metadata": {}
        },
        {
          "output_type": "display_data",
          "data": {
            "text/plain": [
              "Running tokenizer on validation split:   0%|          | 0/222 [00:00<?, ? examples/s]"
            ],
            "application/vnd.jupyter.widget-view+json": {
              "version_major": 2,
              "version_minor": 0,
              "model_id": "425a170da4ef4ff0823f1335e2ffaf15"
            }
          },
          "metadata": {}
        },
        {
          "output_type": "display_data",
          "data": {
            "text/plain": [
              "Running tokenizer on test split:   0%|          | 0/222 [00:00<?, ? examples/s]"
            ],
            "application/vnd.jupyter.widget-view+json": {
              "version_major": 2,
              "version_minor": 0,
              "model_id": "628126f0d86840458351c3ac64ab6ac4"
            }
          },
          "metadata": {}
        },
        {
          "output_type": "execute_result",
          "data": {
            "text/plain": [
              "DatasetDict({\n",
              "    train: Dataset({\n",
              "        features: ['document_id', 'labels', 'input_ids', 'attention_mask'],\n",
              "        num_rows: 1940\n",
              "    })\n",
              "    validation: Dataset({\n",
              "        features: ['document_id', 'labels', 'input_ids', 'attention_mask'],\n",
              "        num_rows: 222\n",
              "    })\n",
              "    test: Dataset({\n",
              "        features: ['document_id', 'labels', 'input_ids', 'attention_mask'],\n",
              "        num_rows: 222\n",
              "    })\n",
              "})"
            ]
          },
          "metadata": {},
          "execution_count": 32
        }
      ],
      "source": [
        "ds_dict_encoded: DatasetDict = encode_dataset(ds_dict)\n",
        "ds_dict_encoded"
      ]
    },
    {
      "cell_type": "markdown",
      "metadata": {
        "id": "1TgYuGxOq0Xw"
      },
      "source": [
        "<br>\n",
        "\n",
        "### Performance Metrics\n",
        "\n",
        "- Evaluating NER models involves precision, recall, and F1-score.\n",
        "- All words of an entity must be predicted correctly.\n",
        "- The `seqeval` library can compute these metrics using the `classification_report()` function."
      ]
    },
    {
      "cell_type": "code",
      "execution_count": 33,
      "metadata": {
        "id": "46WhnTucq0Xx"
      },
      "outputs": [],
      "source": [
        "from seqeval.metrics import classification_report\n",
        "\n",
        "\n",
        "def align_predictions(\n",
        "    predictions: np.ndarray, label_ids: np.ndarray\n",
        ") -> tuple[list[list[str]], list[list[str]]]:\n",
        "    \"\"\"\n",
        "    Align predictions with label IDs and convert them to tag strings. It's\n",
        "    required to convert the model outputs to the format `seqeval` expects.\n",
        "\n",
        "    Parameters\n",
        "    ----------\n",
        "    predictions : np.ndarray\n",
        "        The prediction tensor of shape (batch_size, seq_len, num_classes).\n",
        "    label_ids : np.ndarray\n",
        "        The label IDs tensor of shape (batch_size, seq_len).\n",
        "\n",
        "    Returns\n",
        "    -------\n",
        "    tuple[list[list[str]], list[list[str]]]\n",
        "        A tuple containing two lists:\n",
        "        - preds_list: List of lists containing predicted tags for each sequence.\n",
        "        - labels_list: List of lists containing true tags for each sequence.\n",
        "    \"\"\"\n",
        "    preds: np.ndarray = np.argmax(predictions, axis=2)\n",
        "    batch_size, seq_len = preds.shape\n",
        "    labels_list: list[list[str]] = []\n",
        "    preds_list: list[list[str]] = []\n",
        "\n",
        "    for batch_idx in range(batch_size):\n",
        "        example_labels: list[str] = []\n",
        "        example_preds: list[str] = []\n",
        "        for seq_idx in range(seq_len):\n",
        "            # Skip the special tokens (label IDs = -100)\n",
        "            if label_ids[batch_idx, seq_idx] != -100:\n",
        "                example_labels.append(index2tag[label_ids[batch_idx][seq_idx]])\n",
        "                example_preds.append(index2tag[preds[batch_idx][seq_idx]])\n",
        "\n",
        "        labels_list.append(example_labels)\n",
        "        preds_list.append(example_preds)\n",
        "\n",
        "    return preds_list, labels_list"
      ]
    },
    {
      "cell_type": "code",
      "source": [],
      "metadata": {
        "id": "dj1RxfH6uGjI"
      },
      "execution_count": 33,
      "outputs": []
    },
    {
      "cell_type": "code",
      "execution_count": 34,
      "metadata": {
        "colab": {
          "base_uri": "https://localhost:8080/",
          "height": 331,
          "referenced_widgets": [
            "bbc91aa07f3241809415ce431cf323dc",
            "f6ba21950d7a42638345a50639acca1e",
            "8a885c89278b4c3d911e7396902d9ebf",
            "c468a4b1f68d4e75a9a0bed6e7bd2c9b",
            "39def4ca6a944fceb687ff12fd7fe6c6",
            "893c948bcf974a07b271a6fca9310447",
            "474670a241884c1f868961bc4d0dd1cc",
            "91abe0de2c554b7cb3b6f71d34b85d04",
            "282d06c36aa14636a9ae7df64726639a",
            "5bf055ac2db042079d4b824204582229",
            "627dbf00fadd422497424d97fc097612",
            "7bd05758348648ee84cf6e64fad96620",
            "035e4dfd70614d1ea407f6b505d0cd60",
            "369464fe4a66445d91928f2723f7fa24",
            "ef5f8a58a6fb45ffa75192d1def283f8",
            "bde9c0cce0e348dfa02f227281ab3609",
            "872cff9131f9452caa1c1ddcc7e0d83c"
          ]
        },
        "id": "OTrl4cAXq0Xx",
        "outputId": "6561a1c9-8f16-4dbc-95a6-17a8503e332b"
      },
      "outputs": [
        {
          "output_type": "display_data",
          "data": {
            "text/plain": [
              "VBox(children=(HTML(value='<center> <img\\nsrc=https://huggingface.co/front/assets/huggingface_logo-noborder.sv…"
            ],
            "application/vnd.jupyter.widget-view+json": {
              "version_major": 2,
              "version_minor": 0,
              "model_id": "bbc91aa07f3241809415ce431cf323dc"
            }
          },
          "metadata": {}
        }
      ],
      "source": [
        "from huggingface_hub import login, notebook_login\n",
        "# from dotenv import load_dotenv, find_dotenv\n",
        "\n",
        "\n",
        "# # Load the .env file\n",
        "# _ = load_dotenv(find_dotenv())\n",
        "\n",
        "\n",
        "# Access an environment variable\n",
        "# HF_NOTEBOOK_TOKEN = os.getenv(\"HF_NOTEBOOK_TOKEN\")\n",
        "# login(token=HF_NOTEBOOK_TOKEN, add_to_git_credential=True)\n",
        "\n",
        "notebook_login()"
      ]
    },
    {
      "cell_type": "code",
      "execution_count": 35,
      "metadata": {
        "id": "FXxhSVwmq0Xy"
      },
      "outputs": [],
      "source": [
        "from transformers import TrainingArguments\n",
        "\n",
        "\n",
        "# Define the training arguments\n",
        "num_epochs: int = 3\n",
        "batch_size: int = 24  # (4 because data is small)\n",
        "logging_steps: int = len(ds_dict_encoded[\"train\"]) // batch_size\n",
        "model_name: str = f\"{chkpoint}-finetuned\"\n",
        "\n",
        "# The model's predictions are evaluated on the validation set after each epoch.\n",
        "# Weight decay is adjusted, and checkpointing is disabled to speed up training.\n",
        "training_args = TrainingArguments(\n",
        "    output_dir=model_name,\n",
        "    log_level=\"error\",\n",
        "    num_train_epochs=num_epochs,\n",
        "    per_device_train_batch_size=batch_size,\n",
        "    per_device_eval_batch_size=batch_size,\n",
        "    evaluation_strategy=\"epoch\",\n",
        "    save_steps=1e6,\n",
        "    weight_decay=0.01,\n",
        "    disable_tqdm=False,\n",
        "    logging_steps=logging_steps,\n",
        "    push_to_hub=True,\n",
        ")"
      ]
    },
    {
      "cell_type": "code",
      "execution_count": 36,
      "metadata": {
        "id": "UZectm2qq0Xy"
      },
      "outputs": [],
      "source": [
        "from seqeval.metrics import accuracy_score, f1_score\n",
        "\n",
        "\n",
        "def compute_metrics(eval_pred: tuple[Any, Any]) -> dict[str, float]:\n",
        "    \"\"\"\n",
        "    Compute F1 score for the predictions.\n",
        "\n",
        "    Parameters\n",
        "    ----------\n",
        "    eval_pred :tuple[Any, Any]\n",
        "        A tuple containing model predictions and true labels.\n",
        "\n",
        "    Returns\n",
        "    -------\n",
        "    dict[str, float]\n",
        "        A dictionary containing the F1 score.\n",
        "    \"\"\"\n",
        "    y_pred, y_true = align_predictions(*eval_pred)\n",
        "    return {\"f1\": f1_score(y_true, y_pred)}"
      ]
    },
    {
      "cell_type": "markdown",
      "metadata": {
        "id": "ENPDBzrUq0Xy"
      },
      "source": [
        "#### Comment\n",
        "\n",
        "- The labels in sequence classification are padded with `-100` to avoid affecting the loss.\n",
        "- A `model_init()` method is used to load an untrained model for training to avoid creating a new model for each Trainer."
      ]
    },
    {
      "cell_type": "code",
      "execution_count": 37,
      "metadata": {
        "id": "wCy-TedOq0Xy"
      },
      "outputs": [],
      "source": [
        "from transformers import DataCollatorForTokenClassification\n",
        "\n",
        "\n",
        "data_collator = DataCollatorForTokenClassification(tokenizer=tokenizer)"
      ]
    },
    {
      "cell_type": "code",
      "execution_count": 38,
      "metadata": {
        "id": "ESiHgzICq0Xz"
      },
      "outputs": [],
      "source": [
        "def model_init() -> DistilBertForTokenClassification:\n",
        "    \"\"\"\n",
        "    Initialize and return a DistilBertForTokenClassification model.\n",
        "\n",
        "    Returns\n",
        "    -------\n",
        "    DistilBertForTokenClassification\n",
        "        A pre-trained BERT model for token classification, loaded with the specified\n",
        "        checkpoint and configuration, and moved to the specified device.\n",
        "    \"\"\"\n",
        "    return DistilBertForTokenClassification.from_pretrained(\n",
        "        chkpoint, config=config, ignore_mismatched_sizes=True\n",
        "    ).to(device)"
      ]
    },
    {
      "cell_type": "markdown",
      "metadata": {
        "id": "F_vpzqgiq0Xz"
      },
      "source": [
        "### Model Training"
      ]
    },
    {
      "cell_type": "code",
      "execution_count": 39,
      "metadata": {
        "colab": {
          "base_uri": "https://localhost:8080/",
          "height": 204
        },
        "id": "q3outJo9q0Xz",
        "outputId": "a9a2aa0e-bdc3-4c3e-f5b6-25c6edf37344"
      },
      "outputs": [
        {
          "output_type": "display_data",
          "data": {
            "text/plain": [
              "<IPython.core.display.HTML object>"
            ],
            "text/html": [
              "\n",
              "    <div>\n",
              "      \n",
              "      <progress value='243' max='243' style='width:300px; height:20px; vertical-align: middle;'></progress>\n",
              "      [243/243 04:29, Epoch 3/3]\n",
              "    </div>\n",
              "    <table border=\"1\" class=\"dataframe\">\n",
              "  <thead>\n",
              " <tr style=\"text-align: left;\">\n",
              "      <th>Epoch</th>\n",
              "      <th>Training Loss</th>\n",
              "      <th>Validation Loss</th>\n",
              "      <th>F1</th>\n",
              "    </tr>\n",
              "  </thead>\n",
              "  <tbody>\n",
              "    <tr>\n",
              "      <td>1</td>\n",
              "      <td>1.054100</td>\n",
              "      <td>0.724767</td>\n",
              "      <td>0.393085</td>\n",
              "    </tr>\n",
              "    <tr>\n",
              "      <td>2</td>\n",
              "      <td>0.628300</td>\n",
              "      <td>0.601990</td>\n",
              "      <td>0.462052</td>\n",
              "    </tr>\n",
              "    <tr>\n",
              "      <td>3</td>\n",
              "      <td>0.506100</td>\n",
              "      <td>0.565164</td>\n",
              "      <td>0.478764</td>\n",
              "    </tr>\n",
              "  </tbody>\n",
              "</table><p>"
            ]
          },
          "metadata": {}
        },
        {
          "output_type": "execute_result",
          "data": {
            "text/plain": [
              "TrainOutput(global_step=243, training_loss=0.7273975380163624, metrics={'train_runtime': 271.2317, 'train_samples_per_second': 21.458, 'train_steps_per_second': 0.896, 'total_flos': 760882256547840.0, 'train_loss': 0.7273975380163624, 'epoch': 3.0})"
            ]
          },
          "metadata": {},
          "execution_count": 39
        }
      ],
      "source": [
        "from transformers import Trainer\n",
        "\n",
        "\n",
        "# A model_init() method is used to load an untrained model for\n",
        "# training to avoid creating a new model for each Trainer.\n",
        "trainer = Trainer(\n",
        "    model_init=model_init,\n",
        "    args=training_args,\n",
        "    data_collator=data_collator,\n",
        "    compute_metrics=compute_metrics,\n",
        "    train_dataset=ds_dict_encoded[\"train\"],\n",
        "    eval_dataset=ds_dict_encoded[\"validation\"],\n",
        "    tokenizer=tokenizer,\n",
        ")\n",
        "\n",
        "trainer.train()"
      ]
    },
    {
      "cell_type": "code",
      "source": [
        "trainer.push_to_hub(commit_message=\"Training completed!\")"
      ],
      "metadata": {
        "id": "Z7wjbKyLx69m",
        "outputId": "8920b1ae-e0e9-464f-deaa-6663cce33938",
        "colab": {
          "base_uri": "https://localhost:8080/",
          "height": 84,
          "referenced_widgets": [
            "f98a5cbb22e044dba7ebdf23d9c8441c",
            "7f1239cb49b642248e72ad02cbb2765e",
            "9513631e9d5f444783b3157ed2f87bb8",
            "304db4f250af4410809bdafc928c645b",
            "f957fb333c944f1789e21f106277b0c5",
            "937883bd783a479d9791cc1f8fcead10",
            "53d0d726be954f3bb938cff795726143",
            "65bb016e840247b590d21a2135d3d9cf",
            "b2f2870f30024f8a9e831a52e829ad9c",
            "194db6b15a2d42aeb6362ef9a62f0d44",
            "fae5d60e28564e29a71e2c5dcbf3e5ad"
          ]
        }
      },
      "execution_count": 40,
      "outputs": [
        {
          "output_type": "display_data",
          "data": {
            "text/plain": [
              "events.out.tfevents.1725148274.d0b0eca3538a.13189.0:   0%|          | 0.00/8.27k [00:00<?, ?B/s]"
            ],
            "application/vnd.jupyter.widget-view+json": {
              "version_major": 2,
              "version_minor": 0,
              "model_id": "f98a5cbb22e044dba7ebdf23d9c8441c"
            }
          },
          "metadata": {}
        },
        {
          "output_type": "execute_result",
          "data": {
            "text/plain": [
              "CommitInfo(commit_url='https://huggingface.co/chineidu/distilbert-NER-finetuned/commit/3e6869698c27808acac8ace2e4187d8eb91766f3', commit_message='Training completed!', commit_description='', oid='3e6869698c27808acac8ace2e4187d8eb91766f3', pr_url=None, pr_revision=None, pr_num=None)"
            ],
            "application/vnd.google.colaboratory.intrinsic+json": {
              "type": "string"
            }
          },
          "metadata": {},
          "execution_count": 40
        }
      ]
    },
    {
      "cell_type": "code",
      "execution_count": 41,
      "metadata": {
        "id": "a1gGlJ-Lq0Xz"
      },
      "outputs": [],
      "source": [
        "def tag_text(\n",
        "    text: str,\n",
        "    tags: ClassLabel,\n",
        "    model: DistilBertModel,\n",
        "    tokenizer: AutoTokenizer,\n",
        ") -> pl.DataFrame:\n",
        "    # Get tokens with special characters\n",
        "    tokens: list[str] = tokenizer(text).tokens()\n",
        "\n",
        "    # Encode\n",
        "    inputs: Tensor = tokenizer(\n",
        "        text, padding=True, truncation=True, max_length=512, return_tensors=\"pt\"\n",
        "    )\n",
        "    inputs = {k: torch.tensor(v).to(device) for k, v in inputs.items()}\n",
        "\n",
        "    # Get predictions\n",
        "    outputs: Tensor = model(**inputs).logits\n",
        "\n",
        "    # Get predictions\n",
        "    predictions: Tensor = torch.argmax(outputs, dim=-1)\n",
        "\n",
        "    data: dict[str, str] = {\n",
        "        col: tags.names[p]\n",
        "        for col, p in zip(tokens, predictions.flatten().cpu().numpy())\n",
        "    }\n",
        "\n",
        "    return pl.DataFrame(data)"
      ]
    },
    {
      "cell_type": "code",
      "execution_count": 42,
      "metadata": {
        "colab": {
          "base_uri": "https://localhost:8080/",
          "height": 166
        },
        "id": "V3x4AeaZq0X0",
        "outputId": "0a4da4cf-7ecb-41aa-d75d-720c14a00388"
      },
      "outputs": [
        {
          "output_type": "execute_result",
          "data": {
            "text/plain": [
              "shape: (1, 67)\n",
              "┌─────┬─────┬─────┬─────┬─────┬─────┬─────┬─────┬─────┬─────┬─────┬─────┬─────┬─────┬─────┬─────┬─────┬─────┬─────┬─────┬─────┬─────┬─────┬─────┬─────┬─────┬─────┬─────┬─────┬─────┬─────┬─────┬─────┬─────┬─────┬─────┬─────┬─────┬─────┬─────┬─────┬─────┬─────┬─────┬─────┬─────┬─────┬─────┬─────┬─────┬─────┬─────┬─────┬─────┬─────┬─────┬─────┬─────┬─────┬─────┬─────┬─────┬─────┬─────┬─────┬─────┬─────┐\n",
              "│ [CL ┆ N   ┆ ##e ┆ ##d ┆ Emm ┆ rec ┆ ann ┆ pla ┆ to  ┆ hos ┆ a   ┆ Te  ┆ ##s ┆ AI  ┆ Day ┆ at  ┆ the ┆ G   ┆ ##i ┆ ##f ┆ ##c ┆ ##y ┆ in  ┆ Aus ┆ ,   ┆ Tex ┆ .   ┆ The ┆ eve ┆ is  ┆ sch ┆ for ┆ Oct ┆ 18t ┆ 202 ┆ ##4 ┆ Dur ┆ exp ┆ un  ┆ ##v ┆ ##i ┆ new ┆ adv ┆ ##s ┆ '   ┆ s   ┆ aut ┆ dri ┆ tec ┆ and ┆ dis ┆ com ┆ amb ┆ goa ┆ art ┆ int ┆ att ┆ tho ┆ of  ┆ att ┆ inc ┆ inv ┆ tec ┆ ent ┆ ind ┆ exp ┆ [SE │\n",
              "│ S]  ┆ --- ┆ i   ┆ u   ┆ anu ┆ ent ┆ oun ┆ ns  ┆ --- ┆ t   ┆ --- ┆ --- ┆ la  ┆ --- ┆ --- ┆ --- ┆ --- ┆ --- ┆ ga  ┆ a   ┆ tor ┆ --- ┆ --- ┆ tin ┆ --- ┆ as  ┆ --- ┆ --- ┆ nt  ┆ --- ┆ edu ┆ --- ┆ obe ┆ h   ┆ --- ┆ --- ┆ ing ┆ ect ┆ --- ┆ e   ┆ l   ┆ --- ┆ anc ┆ --- ┆ --- ┆ --- ┆ ono ┆ vin ┆ hno ┆ --- ┆ cus ┆ pan ┆ iti ┆ ls  ┆ ifi ┆ ell ┆ rac ┆ usa ┆ --- ┆ end ┆ lud ┆ est ┆ h   ┆ hus ┆ ust ┆ ert ┆ P]  │\n",
              "│ --- ┆ str ┆ --- ┆ --- ┆ el  ┆ ly  ┆ ced ┆ --- ┆ str ┆ --- ┆ str ┆ str ┆ --- ┆ str ┆ str ┆ str ┆ str ┆ str ┆ --- ┆ --- ┆ --- ┆ str ┆ str ┆ --- ┆ str ┆ --- ┆ str ┆ str ┆ --- ┆ str ┆ led ┆ str ┆ r   ┆ --- ┆ str ┆ str ┆ --- ┆ ed  ┆ str ┆ --- ┆ --- ┆ str ┆ eme ┆ str ┆ str ┆ str ┆ mou ┆ g   ┆ log ┆ str ┆ s   ┆ y   ┆ ous ┆ --- ┆ cia ┆ ige ┆ t   ┆ nds ┆ str ┆ ees ┆ ing ┆ ors ┆ --- ┆ ias ┆ ry  ┆ s   ┆ --- │\n",
              "│ str ┆     ┆ str ┆ str ┆ --- ┆ --- ┆ --- ┆ str ┆     ┆ str ┆     ┆     ┆ str ┆     ┆     ┆     ┆     ┆     ┆ str ┆ str ┆ str ┆     ┆     ┆ str ┆     ┆ str ┆     ┆     ┆ str ┆     ┆ --- ┆     ┆ --- ┆ str ┆     ┆     ┆ str ┆ --- ┆     ┆ str ┆ str ┆     ┆ nt  ┆     ┆     ┆     ┆ s   ┆ --- ┆ y   ┆     ┆ --- ┆ --- ┆ --- ┆ str ┆ l   ┆ nce ┆ --- ┆ --- ┆     ┆ --- ┆ --- ┆ --- ┆ str ┆ ts  ┆ --- ┆ --- ┆ str │\n",
              "│     ┆     ┆     ┆     ┆ str ┆ str ┆ str ┆     ┆     ┆     ┆     ┆     ┆     ┆     ┆     ┆     ┆     ┆     ┆     ┆     ┆     ┆     ┆     ┆     ┆     ┆     ┆     ┆     ┆     ┆     ┆ str ┆     ┆ str ┆     ┆     ┆     ┆     ┆ str ┆     ┆     ┆     ┆     ┆ --- ┆     ┆     ┆     ┆ --- ┆ str ┆ --- ┆     ┆ str ┆ str ┆ str ┆     ┆ --- ┆ --- ┆ str ┆ str ┆     ┆ str ┆ str ┆ str ┆     ┆ --- ┆ str ┆ str ┆     │\n",
              "│     ┆     ┆     ┆     ┆     ┆     ┆     ┆     ┆     ┆     ┆     ┆     ┆     ┆     ┆     ┆     ┆     ┆     ┆     ┆     ┆     ┆     ┆     ┆     ┆     ┆     ┆     ┆     ┆     ┆     ┆     ┆     ┆     ┆     ┆     ┆     ┆     ┆     ┆     ┆     ┆     ┆     ┆ str ┆     ┆     ┆     ┆ str ┆     ┆ str ┆     ┆     ┆     ┆     ┆     ┆ str ┆ str ┆     ┆     ┆     ┆     ┆     ┆     ┆     ┆ str ┆     ┆     ┆     │\n",
              "╞═════╪═════╪═════╪═════╪═════╪═════╪═════╪═════╪═════╪═════╪═════╪═════╪═════╪═════╪═════╪═════╪═════╪═════╪═════╪═════╪═════╪═════╪═════╪═════╪═════╪═════╪═════╪═════╪═════╪═════╪═════╪═════╪═════╪═════╪═════╪═════╪═════╪═════╪═════╪═════╪═════╪═════╪═════╪═════╪═════╪═════╪═════╪═════╪═════╪═════╪═════╪═════╪═════╪═════╪═════╪═════╪═════╪═════╪═════╪═════╪═════╪═════╪═════╪═════╪═════╪═════╪═════╡\n",
              "│ B-G ┆ I-O ┆ O   ┆ O   ┆ O   ┆ O   ┆ O   ┆ O   ┆ O   ┆ O   ┆ O   ┆ O   ┆ O   ┆ O   ┆ O   ┆ O   ┆ O   ┆ I-P ┆ O   ┆ O   ┆ O   ┆ I-O ┆ O   ┆ O   ┆ O   ┆ B-G ┆ O   ┆ O   ┆ O   ┆ O   ┆ O   ┆ O   ┆ I-D ┆ O   ┆ O   ┆ O   ┆ O   ┆ O   ┆ O   ┆ O   ┆ B-G ┆ O   ┆ O   ┆ O   ┆ O   ┆ O   ┆ O   ┆ O   ┆ O   ┆ O   ┆ O   ┆ O   ┆ O   ┆ O   ┆ O   ┆ I-O ┆ O   ┆ B-D ┆ O   ┆ I-O ┆ O   ┆ O   ┆ O   ┆ I-O ┆ O   ┆ O   ┆ I-D │\n",
              "│ PE  ┆ RG  ┆     ┆     ┆     ┆     ┆     ┆     ┆     ┆     ┆     ┆     ┆     ┆     ┆     ┆     ┆     ┆ ERS ┆     ┆     ┆     ┆ RG  ┆     ┆     ┆     ┆ PE  ┆     ┆     ┆     ┆     ┆     ┆     ┆ ATE ┆     ┆     ┆     ┆     ┆     ┆     ┆     ┆ PE  ┆     ┆     ┆     ┆     ┆     ┆     ┆     ┆     ┆     ┆     ┆     ┆     ┆     ┆     ┆ RG  ┆     ┆ ATE ┆     ┆ RG  ┆     ┆     ┆     ┆ RG  ┆     ┆     ┆ ATE │\n",
              "│     ┆     ┆     ┆     ┆     ┆     ┆     ┆     ┆     ┆     ┆     ┆     ┆     ┆     ┆     ┆     ┆     ┆ ON  ┆     ┆     ┆     ┆     ┆     ┆     ┆     ┆     ┆     ┆     ┆     ┆     ┆     ┆     ┆     ┆     ┆     ┆     ┆     ┆     ┆     ┆     ┆     ┆     ┆     ┆     ┆     ┆     ┆     ┆     ┆     ┆     ┆     ┆     ┆     ┆     ┆     ┆     ┆     ┆     ┆     ┆     ┆     ┆     ┆     ┆     ┆     ┆     ┆     │\n",
              "└─────┴─────┴─────┴─────┴─────┴─────┴─────┴─────┴─────┴─────┴─────┴─────┴─────┴─────┴─────┴─────┴─────┴─────┴─────┴─────┴─────┴─────┴─────┴─────┴─────┴─────┴─────┴─────┴─────┴─────┴─────┴─────┴─────┴─────┴─────┴─────┴─────┴─────┴─────┴─────┴─────┴─────┴─────┴─────┴─────┴─────┴─────┴─────┴─────┴─────┴─────┴─────┴─────┴─────┴─────┴─────┴─────┴─────┴─────┴─────┴─────┴─────┴─────┴─────┴─────┴─────┴─────┘"
            ],
            "text/html": [
              "<div><style>\n",
              ".dataframe > thead > tr,\n",
              ".dataframe > tbody > tr {\n",
              "  text-align: right;\n",
              "  white-space: pre-wrap;\n",
              "}\n",
              "</style>\n",
              "<small>shape: (1, 67)</small><table border=\"1\" class=\"dataframe\"><thead><tr><th>[CLS]</th><th>N</th><th>##ei</th><th>##du</th><th>Emmanuel</th><th>recently</th><th>announced</th><th>plans</th><th>to</th><th>host</th><th>a</th><th>Te</th><th>##sla</th><th>AI</th><th>Day</th><th>at</th><th>the</th><th>G</th><th>##iga</th><th>##fa</th><th>##ctor</th><th>##y</th><th>in</th><th>Austin</th><th>,</th><th>Texas</th><th>.</th><th>The</th><th>event</th><th>is</th><th>scheduled</th><th>for</th><th>October</th><th>18th</th><th>202</th><th>##4</th><th>During</th><th>expected</th><th>un</th><th>##ve</th><th>##il</th><th>new</th><th>advancement</th><th>##s</th><th>&#x27;</th><th>s</th><th>autonomous</th><th>driving</th><th>technology</th><th>and</th><th>discuss</th><th>company</th><th>ambitious</th><th>goals</th><th>artificial</th><th>intelligence</th><th>attract</th><th>thousands</th><th>of</th><th>attendees</th><th>including</th><th>investors</th><th>tech</th><th>enthusiasts</th><th>industry</th><th>experts</th><th>[SEP]</th></tr><tr><td>str</td><td>str</td><td>str</td><td>str</td><td>str</td><td>str</td><td>str</td><td>str</td><td>str</td><td>str</td><td>str</td><td>str</td><td>str</td><td>str</td><td>str</td><td>str</td><td>str</td><td>str</td><td>str</td><td>str</td><td>str</td><td>str</td><td>str</td><td>str</td><td>str</td><td>str</td><td>str</td><td>str</td><td>str</td><td>str</td><td>str</td><td>str</td><td>str</td><td>str</td><td>str</td><td>str</td><td>str</td><td>str</td><td>str</td><td>str</td><td>str</td><td>str</td><td>str</td><td>str</td><td>str</td><td>str</td><td>str</td><td>str</td><td>str</td><td>str</td><td>str</td><td>str</td><td>str</td><td>str</td><td>str</td><td>str</td><td>str</td><td>str</td><td>str</td><td>str</td><td>str</td><td>str</td><td>str</td><td>str</td><td>str</td><td>str</td><td>str</td></tr></thead><tbody><tr><td>&quot;B-GPE&quot;</td><td>&quot;I-ORG&quot;</td><td>&quot;O&quot;</td><td>&quot;O&quot;</td><td>&quot;O&quot;</td><td>&quot;O&quot;</td><td>&quot;O&quot;</td><td>&quot;O&quot;</td><td>&quot;O&quot;</td><td>&quot;O&quot;</td><td>&quot;O&quot;</td><td>&quot;O&quot;</td><td>&quot;O&quot;</td><td>&quot;O&quot;</td><td>&quot;O&quot;</td><td>&quot;O&quot;</td><td>&quot;O&quot;</td><td>&quot;I-PERSON&quot;</td><td>&quot;O&quot;</td><td>&quot;O&quot;</td><td>&quot;O&quot;</td><td>&quot;I-ORG&quot;</td><td>&quot;O&quot;</td><td>&quot;O&quot;</td><td>&quot;O&quot;</td><td>&quot;B-GPE&quot;</td><td>&quot;O&quot;</td><td>&quot;O&quot;</td><td>&quot;O&quot;</td><td>&quot;O&quot;</td><td>&quot;O&quot;</td><td>&quot;O&quot;</td><td>&quot;I-DATE&quot;</td><td>&quot;O&quot;</td><td>&quot;O&quot;</td><td>&quot;O&quot;</td><td>&quot;O&quot;</td><td>&quot;O&quot;</td><td>&quot;O&quot;</td><td>&quot;O&quot;</td><td>&quot;B-GPE&quot;</td><td>&quot;O&quot;</td><td>&quot;O&quot;</td><td>&quot;O&quot;</td><td>&quot;O&quot;</td><td>&quot;O&quot;</td><td>&quot;O&quot;</td><td>&quot;O&quot;</td><td>&quot;O&quot;</td><td>&quot;O&quot;</td><td>&quot;O&quot;</td><td>&quot;O&quot;</td><td>&quot;O&quot;</td><td>&quot;O&quot;</td><td>&quot;O&quot;</td><td>&quot;I-ORG&quot;</td><td>&quot;O&quot;</td><td>&quot;B-DATE&quot;</td><td>&quot;O&quot;</td><td>&quot;I-ORG&quot;</td><td>&quot;O&quot;</td><td>&quot;O&quot;</td><td>&quot;O&quot;</td><td>&quot;I-ORG&quot;</td><td>&quot;O&quot;</td><td>&quot;O&quot;</td><td>&quot;I-DATE&quot;</td></tr></tbody></table></div>"
            ]
          },
          "metadata": {},
          "execution_count": 42
        }
      ],
      "source": [
        "text: str = (\n",
        "    \"Neidu Emmanuel recently announced plans to host a Tesla AI Day at the Gigafactory \"\n",
        "    \"in Austin, Texas. The event is scheduled for October 18th, 2024. During the \"\n",
        "    \"event, Neidu is expected to unveil new advancements in Tesla's autonomous driving \"\n",
        "    \"technology and discuss the company's ambitious goals for artificial intelligence. \"\n",
        "    \"The event is expected to attract thousands of attendees, including investors, \"\n",
        "    \"tech enthusiasts, and industry experts.\"\n",
        ")\n",
        "\n",
        "tag_text(text, tags, trainer.model, tokenizer)"
      ]
    },
    {
      "cell_type": "code",
      "execution_count": 45,
      "metadata": {
        "colab": {
          "base_uri": "https://localhost:8080/"
        },
        "id": "mgeFPB2Kq0X0",
        "outputId": "9e046660-1904-4bfd-ac16-e2969df2bb42"
      },
      "outputs": [
        {
          "output_type": "stream",
          "name": "stdout",
          "text": [
            "[{'entity': 'B-PER', 'score': 0.95814115, 'index': 1, 'word': 'N', 'start': 0, 'end': 1}, {'entity': 'B-PER', 'score': 0.85098195, 'index': 2, 'word': '##ei', 'start': 1, 'end': 3}, {'entity': 'B-PER', 'score': 0.92637885, 'index': 3, 'word': '##du', 'start': 3, 'end': 5}, {'entity': 'I-PER', 'score': 0.8446359, 'index': 4, 'word': 'Emmanuel', 'start': 6, 'end': 14}, {'entity': 'B-MISC', 'score': 0.97945064, 'index': 11, 'word': 'Te', 'start': 50, 'end': 52}, {'entity': 'B-MISC', 'score': 0.9907212, 'index': 12, 'word': '##sla', 'start': 52, 'end': 55}, {'entity': 'I-MISC', 'score': 0.980295, 'index': 13, 'word': 'AI', 'start': 56, 'end': 58}, {'entity': 'I-MISC', 'score': 0.99176544, 'index': 14, 'word': 'Day', 'start': 59, 'end': 62}, {'entity': 'B-LOC', 'score': 0.96773815, 'index': 17, 'word': 'G', 'start': 70, 'end': 71}, {'entity': 'B-LOC', 'score': 0.95314467, 'index': 18, 'word': '##iga', 'start': 71, 'end': 74}, {'entity': 'B-LOC', 'score': 0.8271949, 'index': 19, 'word': '##fa', 'start': 74, 'end': 76}, {'entity': 'B-LOC', 'score': 0.9507716, 'index': 20, 'word': '##ctor', 'start': 76, 'end': 80}, {'entity': 'B-LOC', 'score': 0.8889992, 'index': 21, 'word': '##y', 'start': 80, 'end': 81}, {'entity': 'B-LOC', 'score': 0.99507856, 'index': 23, 'word': 'Austin', 'start': 85, 'end': 91}, {'entity': 'B-LOC', 'score': 0.99523157, 'index': 25, 'word': 'Texas', 'start': 93, 'end': 98}, {'entity': 'B-ORG', 'score': 0.74045056, 'index': 42, 'word': 'N', 'start': 165, 'end': 166}, {'entity': 'B-ORG', 'score': 0.8486552, 'index': 43, 'word': '##ei', 'start': 166, 'end': 168}, {'entity': 'B-ORG', 'score': 0.81202966, 'index': 44, 'word': '##du', 'start': 168, 'end': 170}, {'entity': 'B-ORG', 'score': 0.94883883, 'index': 55, 'word': 'Te', 'start': 213, 'end': 215}, {'entity': 'B-ORG', 'score': 0.9609689, 'index': 56, 'word': '##sla', 'start': 215, 'end': 218}]\n"
          ]
        }
      ],
      "source": [
        "from transformers import AutoTokenizer, AutoModelForTokenClassification\n",
        "from transformers import pipeline\n",
        "\n",
        "\n",
        "tokenizer = AutoTokenizer.from_pretrained(\"dslim/distilbert-NER\")\n",
        "model = AutoModelForTokenClassification.from_pretrained(\"dslim/distilbert-NER\")\n",
        "\n",
        "nlp = pipeline(\"ner\", model=model, tokenizer=tokenizer)\n",
        "\n",
        "ner_results = nlp(text)\n",
        "print(ner_results)\n"
      ]
    },
    {
      "cell_type": "code",
      "source": [],
      "metadata": {
        "id": "J7h4f_Le370I"
      },
      "execution_count": null,
      "outputs": []
    },
    {
      "cell_type": "code",
      "execution_count": 44,
      "metadata": {
        "id": "sSelOQDVq0X0"
      },
      "outputs": [],
      "source": []
    }
  ],
  "metadata": {
    "kernelspec": {
      "display_name": "Python 3",
      "name": "python3"
    },
    "language_info": {
      "codemirror_mode": {
        "name": "ipython",
        "version": 3
      },
      "file_extension": ".py",
      "mimetype": "text/x-python",
      "name": "python",
      "nbconvert_exporter": "python",
      "pygments_lexer": "ipython3",
      "version": "3.11.8"
    },
    "colab": {
      "provenance": [],
      "gpuType": "T4",
      "include_colab_link": true
    },
    "accelerator": "GPU",
    "widgets": {
      "application/vnd.jupyter.widget-state+json": {
        "65f6c25d802a4ab38f9f0d122cacbfc6": {
          "model_module": "@jupyter-widgets/controls",
          "model_name": "HBoxModel",
          "model_module_version": "1.5.0",
          "state": {
            "_dom_classes": [],
            "_model_module": "@jupyter-widgets/controls",
            "_model_module_version": "1.5.0",
            "_model_name": "HBoxModel",
            "_view_count": null,
            "_view_module": "@jupyter-widgets/controls",
            "_view_module_version": "1.5.0",
            "_view_name": "HBoxView",
            "box_style": "",
            "children": [
              "IPY_MODEL_96273558307e4abdbf127cf235f4b695",
              "IPY_MODEL_82965ee455bd43a2baef9a8dcaf36e2c",
              "IPY_MODEL_f5e61591369543ba86c3965e5be94356"
            ],
            "layout": "IPY_MODEL_d956da677cf248eaa2b157e7b65a0e94"
          }
        },
        "96273558307e4abdbf127cf235f4b695": {
          "model_module": "@jupyter-widgets/controls",
          "model_name": "HTMLModel",
          "model_module_version": "1.5.0",
          "state": {
            "_dom_classes": [],
            "_model_module": "@jupyter-widgets/controls",
            "_model_module_version": "1.5.0",
            "_model_name": "HTMLModel",
            "_view_count": null,
            "_view_module": "@jupyter-widgets/controls",
            "_view_module_version": "1.5.0",
            "_view_name": "HTMLView",
            "description": "",
            "description_tooltip": null,
            "layout": "IPY_MODEL_bf53efaabefe4e40b500bc78e97aa427",
            "placeholder": "​",
            "style": "IPY_MODEL_24821927a1ee4724a951e2e8006f1841",
            "value": "Running tokenizer on train split: 100%"
          }
        },
        "82965ee455bd43a2baef9a8dcaf36e2c": {
          "model_module": "@jupyter-widgets/controls",
          "model_name": "FloatProgressModel",
          "model_module_version": "1.5.0",
          "state": {
            "_dom_classes": [],
            "_model_module": "@jupyter-widgets/controls",
            "_model_module_version": "1.5.0",
            "_model_name": "FloatProgressModel",
            "_view_count": null,
            "_view_module": "@jupyter-widgets/controls",
            "_view_module_version": "1.5.0",
            "_view_name": "ProgressView",
            "bar_style": "success",
            "description": "",
            "description_tooltip": null,
            "layout": "IPY_MODEL_35aa5f44fb564d4d8907fa3174dc4be3",
            "max": 1940,
            "min": 0,
            "orientation": "horizontal",
            "style": "IPY_MODEL_e46bece5c75e47858c5540b55faade12",
            "value": 1940
          }
        },
        "f5e61591369543ba86c3965e5be94356": {
          "model_module": "@jupyter-widgets/controls",
          "model_name": "HTMLModel",
          "model_module_version": "1.5.0",
          "state": {
            "_dom_classes": [],
            "_model_module": "@jupyter-widgets/controls",
            "_model_module_version": "1.5.0",
            "_model_name": "HTMLModel",
            "_view_count": null,
            "_view_module": "@jupyter-widgets/controls",
            "_view_module_version": "1.5.0",
            "_view_name": "HTMLView",
            "description": "",
            "description_tooltip": null,
            "layout": "IPY_MODEL_95ec2b57bd684a7798e4bb40114c895b",
            "placeholder": "​",
            "style": "IPY_MODEL_47120f10a48c4a5e9fa0e148a4412430",
            "value": " 1940/1940 [00:02&lt;00:00, 739.51 examples/s]"
          }
        },
        "d956da677cf248eaa2b157e7b65a0e94": {
          "model_module": "@jupyter-widgets/base",
          "model_name": "LayoutModel",
          "model_module_version": "1.2.0",
          "state": {
            "_model_module": "@jupyter-widgets/base",
            "_model_module_version": "1.2.0",
            "_model_name": "LayoutModel",
            "_view_count": null,
            "_view_module": "@jupyter-widgets/base",
            "_view_module_version": "1.2.0",
            "_view_name": "LayoutView",
            "align_content": null,
            "align_items": null,
            "align_self": null,
            "border": null,
            "bottom": null,
            "display": null,
            "flex": null,
            "flex_flow": null,
            "grid_area": null,
            "grid_auto_columns": null,
            "grid_auto_flow": null,
            "grid_auto_rows": null,
            "grid_column": null,
            "grid_gap": null,
            "grid_row": null,
            "grid_template_areas": null,
            "grid_template_columns": null,
            "grid_template_rows": null,
            "height": null,
            "justify_content": null,
            "justify_items": null,
            "left": null,
            "margin": null,
            "max_height": null,
            "max_width": null,
            "min_height": null,
            "min_width": null,
            "object_fit": null,
            "object_position": null,
            "order": null,
            "overflow": null,
            "overflow_x": null,
            "overflow_y": null,
            "padding": null,
            "right": null,
            "top": null,
            "visibility": null,
            "width": null
          }
        },
        "bf53efaabefe4e40b500bc78e97aa427": {
          "model_module": "@jupyter-widgets/base",
          "model_name": "LayoutModel",
          "model_module_version": "1.2.0",
          "state": {
            "_model_module": "@jupyter-widgets/base",
            "_model_module_version": "1.2.0",
            "_model_name": "LayoutModel",
            "_view_count": null,
            "_view_module": "@jupyter-widgets/base",
            "_view_module_version": "1.2.0",
            "_view_name": "LayoutView",
            "align_content": null,
            "align_items": null,
            "align_self": null,
            "border": null,
            "bottom": null,
            "display": null,
            "flex": null,
            "flex_flow": null,
            "grid_area": null,
            "grid_auto_columns": null,
            "grid_auto_flow": null,
            "grid_auto_rows": null,
            "grid_column": null,
            "grid_gap": null,
            "grid_row": null,
            "grid_template_areas": null,
            "grid_template_columns": null,
            "grid_template_rows": null,
            "height": null,
            "justify_content": null,
            "justify_items": null,
            "left": null,
            "margin": null,
            "max_height": null,
            "max_width": null,
            "min_height": null,
            "min_width": null,
            "object_fit": null,
            "object_position": null,
            "order": null,
            "overflow": null,
            "overflow_x": null,
            "overflow_y": null,
            "padding": null,
            "right": null,
            "top": null,
            "visibility": null,
            "width": null
          }
        },
        "24821927a1ee4724a951e2e8006f1841": {
          "model_module": "@jupyter-widgets/controls",
          "model_name": "DescriptionStyleModel",
          "model_module_version": "1.5.0",
          "state": {
            "_model_module": "@jupyter-widgets/controls",
            "_model_module_version": "1.5.0",
            "_model_name": "DescriptionStyleModel",
            "_view_count": null,
            "_view_module": "@jupyter-widgets/base",
            "_view_module_version": "1.2.0",
            "_view_name": "StyleView",
            "description_width": ""
          }
        },
        "35aa5f44fb564d4d8907fa3174dc4be3": {
          "model_module": "@jupyter-widgets/base",
          "model_name": "LayoutModel",
          "model_module_version": "1.2.0",
          "state": {
            "_model_module": "@jupyter-widgets/base",
            "_model_module_version": "1.2.0",
            "_model_name": "LayoutModel",
            "_view_count": null,
            "_view_module": "@jupyter-widgets/base",
            "_view_module_version": "1.2.0",
            "_view_name": "LayoutView",
            "align_content": null,
            "align_items": null,
            "align_self": null,
            "border": null,
            "bottom": null,
            "display": null,
            "flex": null,
            "flex_flow": null,
            "grid_area": null,
            "grid_auto_columns": null,
            "grid_auto_flow": null,
            "grid_auto_rows": null,
            "grid_column": null,
            "grid_gap": null,
            "grid_row": null,
            "grid_template_areas": null,
            "grid_template_columns": null,
            "grid_template_rows": null,
            "height": null,
            "justify_content": null,
            "justify_items": null,
            "left": null,
            "margin": null,
            "max_height": null,
            "max_width": null,
            "min_height": null,
            "min_width": null,
            "object_fit": null,
            "object_position": null,
            "order": null,
            "overflow": null,
            "overflow_x": null,
            "overflow_y": null,
            "padding": null,
            "right": null,
            "top": null,
            "visibility": null,
            "width": null
          }
        },
        "e46bece5c75e47858c5540b55faade12": {
          "model_module": "@jupyter-widgets/controls",
          "model_name": "ProgressStyleModel",
          "model_module_version": "1.5.0",
          "state": {
            "_model_module": "@jupyter-widgets/controls",
            "_model_module_version": "1.5.0",
            "_model_name": "ProgressStyleModel",
            "_view_count": null,
            "_view_module": "@jupyter-widgets/base",
            "_view_module_version": "1.2.0",
            "_view_name": "StyleView",
            "bar_color": null,
            "description_width": ""
          }
        },
        "95ec2b57bd684a7798e4bb40114c895b": {
          "model_module": "@jupyter-widgets/base",
          "model_name": "LayoutModel",
          "model_module_version": "1.2.0",
          "state": {
            "_model_module": "@jupyter-widgets/base",
            "_model_module_version": "1.2.0",
            "_model_name": "LayoutModel",
            "_view_count": null,
            "_view_module": "@jupyter-widgets/base",
            "_view_module_version": "1.2.0",
            "_view_name": "LayoutView",
            "align_content": null,
            "align_items": null,
            "align_self": null,
            "border": null,
            "bottom": null,
            "display": null,
            "flex": null,
            "flex_flow": null,
            "grid_area": null,
            "grid_auto_columns": null,
            "grid_auto_flow": null,
            "grid_auto_rows": null,
            "grid_column": null,
            "grid_gap": null,
            "grid_row": null,
            "grid_template_areas": null,
            "grid_template_columns": null,
            "grid_template_rows": null,
            "height": null,
            "justify_content": null,
            "justify_items": null,
            "left": null,
            "margin": null,
            "max_height": null,
            "max_width": null,
            "min_height": null,
            "min_width": null,
            "object_fit": null,
            "object_position": null,
            "order": null,
            "overflow": null,
            "overflow_x": null,
            "overflow_y": null,
            "padding": null,
            "right": null,
            "top": null,
            "visibility": null,
            "width": null
          }
        },
        "47120f10a48c4a5e9fa0e148a4412430": {
          "model_module": "@jupyter-widgets/controls",
          "model_name": "DescriptionStyleModel",
          "model_module_version": "1.5.0",
          "state": {
            "_model_module": "@jupyter-widgets/controls",
            "_model_module_version": "1.5.0",
            "_model_name": "DescriptionStyleModel",
            "_view_count": null,
            "_view_module": "@jupyter-widgets/base",
            "_view_module_version": "1.2.0",
            "_view_name": "StyleView",
            "description_width": ""
          }
        },
        "425a170da4ef4ff0823f1335e2ffaf15": {
          "model_module": "@jupyter-widgets/controls",
          "model_name": "HBoxModel",
          "model_module_version": "1.5.0",
          "state": {
            "_dom_classes": [],
            "_model_module": "@jupyter-widgets/controls",
            "_model_module_version": "1.5.0",
            "_model_name": "HBoxModel",
            "_view_count": null,
            "_view_module": "@jupyter-widgets/controls",
            "_view_module_version": "1.5.0",
            "_view_name": "HBoxView",
            "box_style": "",
            "children": [
              "IPY_MODEL_af6e9121fb134c6084d6c74bbd74647b",
              "IPY_MODEL_d9678930cac04d1590f0a56243397248",
              "IPY_MODEL_0313b50f80084598a982cdc1c38436ae"
            ],
            "layout": "IPY_MODEL_c8ea892a48b647e2a28191f65465f14c"
          }
        },
        "af6e9121fb134c6084d6c74bbd74647b": {
          "model_module": "@jupyter-widgets/controls",
          "model_name": "HTMLModel",
          "model_module_version": "1.5.0",
          "state": {
            "_dom_classes": [],
            "_model_module": "@jupyter-widgets/controls",
            "_model_module_version": "1.5.0",
            "_model_name": "HTMLModel",
            "_view_count": null,
            "_view_module": "@jupyter-widgets/controls",
            "_view_module_version": "1.5.0",
            "_view_name": "HTMLView",
            "description": "",
            "description_tooltip": null,
            "layout": "IPY_MODEL_b7f9452117f8454e9d6067911f837a9a",
            "placeholder": "​",
            "style": "IPY_MODEL_e2f9a864bd584b1cbb13c98a4337db92",
            "value": "Running tokenizer on validation split: 100%"
          }
        },
        "d9678930cac04d1590f0a56243397248": {
          "model_module": "@jupyter-widgets/controls",
          "model_name": "FloatProgressModel",
          "model_module_version": "1.5.0",
          "state": {
            "_dom_classes": [],
            "_model_module": "@jupyter-widgets/controls",
            "_model_module_version": "1.5.0",
            "_model_name": "FloatProgressModel",
            "_view_count": null,
            "_view_module": "@jupyter-widgets/controls",
            "_view_module_version": "1.5.0",
            "_view_name": "ProgressView",
            "bar_style": "success",
            "description": "",
            "description_tooltip": null,
            "layout": "IPY_MODEL_e94895075962484381957647bc60c4f9",
            "max": 222,
            "min": 0,
            "orientation": "horizontal",
            "style": "IPY_MODEL_ac3440ffd95940ad8dc20bee25b5a0f1",
            "value": 222
          }
        },
        "0313b50f80084598a982cdc1c38436ae": {
          "model_module": "@jupyter-widgets/controls",
          "model_name": "HTMLModel",
          "model_module_version": "1.5.0",
          "state": {
            "_dom_classes": [],
            "_model_module": "@jupyter-widgets/controls",
            "_model_module_version": "1.5.0",
            "_model_name": "HTMLModel",
            "_view_count": null,
            "_view_module": "@jupyter-widgets/controls",
            "_view_module_version": "1.5.0",
            "_view_name": "HTMLView",
            "description": "",
            "description_tooltip": null,
            "layout": "IPY_MODEL_b94b392aeec7425fb770389957fcca5f",
            "placeholder": "​",
            "style": "IPY_MODEL_911ac36103df46c59db0f1269ae90b0f",
            "value": " 222/222 [00:00&lt;00:00, 627.15 examples/s]"
          }
        },
        "c8ea892a48b647e2a28191f65465f14c": {
          "model_module": "@jupyter-widgets/base",
          "model_name": "LayoutModel",
          "model_module_version": "1.2.0",
          "state": {
            "_model_module": "@jupyter-widgets/base",
            "_model_module_version": "1.2.0",
            "_model_name": "LayoutModel",
            "_view_count": null,
            "_view_module": "@jupyter-widgets/base",
            "_view_module_version": "1.2.0",
            "_view_name": "LayoutView",
            "align_content": null,
            "align_items": null,
            "align_self": null,
            "border": null,
            "bottom": null,
            "display": null,
            "flex": null,
            "flex_flow": null,
            "grid_area": null,
            "grid_auto_columns": null,
            "grid_auto_flow": null,
            "grid_auto_rows": null,
            "grid_column": null,
            "grid_gap": null,
            "grid_row": null,
            "grid_template_areas": null,
            "grid_template_columns": null,
            "grid_template_rows": null,
            "height": null,
            "justify_content": null,
            "justify_items": null,
            "left": null,
            "margin": null,
            "max_height": null,
            "max_width": null,
            "min_height": null,
            "min_width": null,
            "object_fit": null,
            "object_position": null,
            "order": null,
            "overflow": null,
            "overflow_x": null,
            "overflow_y": null,
            "padding": null,
            "right": null,
            "top": null,
            "visibility": null,
            "width": null
          }
        },
        "b7f9452117f8454e9d6067911f837a9a": {
          "model_module": "@jupyter-widgets/base",
          "model_name": "LayoutModel",
          "model_module_version": "1.2.0",
          "state": {
            "_model_module": "@jupyter-widgets/base",
            "_model_module_version": "1.2.0",
            "_model_name": "LayoutModel",
            "_view_count": null,
            "_view_module": "@jupyter-widgets/base",
            "_view_module_version": "1.2.0",
            "_view_name": "LayoutView",
            "align_content": null,
            "align_items": null,
            "align_self": null,
            "border": null,
            "bottom": null,
            "display": null,
            "flex": null,
            "flex_flow": null,
            "grid_area": null,
            "grid_auto_columns": null,
            "grid_auto_flow": null,
            "grid_auto_rows": null,
            "grid_column": null,
            "grid_gap": null,
            "grid_row": null,
            "grid_template_areas": null,
            "grid_template_columns": null,
            "grid_template_rows": null,
            "height": null,
            "justify_content": null,
            "justify_items": null,
            "left": null,
            "margin": null,
            "max_height": null,
            "max_width": null,
            "min_height": null,
            "min_width": null,
            "object_fit": null,
            "object_position": null,
            "order": null,
            "overflow": null,
            "overflow_x": null,
            "overflow_y": null,
            "padding": null,
            "right": null,
            "top": null,
            "visibility": null,
            "width": null
          }
        },
        "e2f9a864bd584b1cbb13c98a4337db92": {
          "model_module": "@jupyter-widgets/controls",
          "model_name": "DescriptionStyleModel",
          "model_module_version": "1.5.0",
          "state": {
            "_model_module": "@jupyter-widgets/controls",
            "_model_module_version": "1.5.0",
            "_model_name": "DescriptionStyleModel",
            "_view_count": null,
            "_view_module": "@jupyter-widgets/base",
            "_view_module_version": "1.2.0",
            "_view_name": "StyleView",
            "description_width": ""
          }
        },
        "e94895075962484381957647bc60c4f9": {
          "model_module": "@jupyter-widgets/base",
          "model_name": "LayoutModel",
          "model_module_version": "1.2.0",
          "state": {
            "_model_module": "@jupyter-widgets/base",
            "_model_module_version": "1.2.0",
            "_model_name": "LayoutModel",
            "_view_count": null,
            "_view_module": "@jupyter-widgets/base",
            "_view_module_version": "1.2.0",
            "_view_name": "LayoutView",
            "align_content": null,
            "align_items": null,
            "align_self": null,
            "border": null,
            "bottom": null,
            "display": null,
            "flex": null,
            "flex_flow": null,
            "grid_area": null,
            "grid_auto_columns": null,
            "grid_auto_flow": null,
            "grid_auto_rows": null,
            "grid_column": null,
            "grid_gap": null,
            "grid_row": null,
            "grid_template_areas": null,
            "grid_template_columns": null,
            "grid_template_rows": null,
            "height": null,
            "justify_content": null,
            "justify_items": null,
            "left": null,
            "margin": null,
            "max_height": null,
            "max_width": null,
            "min_height": null,
            "min_width": null,
            "object_fit": null,
            "object_position": null,
            "order": null,
            "overflow": null,
            "overflow_x": null,
            "overflow_y": null,
            "padding": null,
            "right": null,
            "top": null,
            "visibility": null,
            "width": null
          }
        },
        "ac3440ffd95940ad8dc20bee25b5a0f1": {
          "model_module": "@jupyter-widgets/controls",
          "model_name": "ProgressStyleModel",
          "model_module_version": "1.5.0",
          "state": {
            "_model_module": "@jupyter-widgets/controls",
            "_model_module_version": "1.5.0",
            "_model_name": "ProgressStyleModel",
            "_view_count": null,
            "_view_module": "@jupyter-widgets/base",
            "_view_module_version": "1.2.0",
            "_view_name": "StyleView",
            "bar_color": null,
            "description_width": ""
          }
        },
        "b94b392aeec7425fb770389957fcca5f": {
          "model_module": "@jupyter-widgets/base",
          "model_name": "LayoutModel",
          "model_module_version": "1.2.0",
          "state": {
            "_model_module": "@jupyter-widgets/base",
            "_model_module_version": "1.2.0",
            "_model_name": "LayoutModel",
            "_view_count": null,
            "_view_module": "@jupyter-widgets/base",
            "_view_module_version": "1.2.0",
            "_view_name": "LayoutView",
            "align_content": null,
            "align_items": null,
            "align_self": null,
            "border": null,
            "bottom": null,
            "display": null,
            "flex": null,
            "flex_flow": null,
            "grid_area": null,
            "grid_auto_columns": null,
            "grid_auto_flow": null,
            "grid_auto_rows": null,
            "grid_column": null,
            "grid_gap": null,
            "grid_row": null,
            "grid_template_areas": null,
            "grid_template_columns": null,
            "grid_template_rows": null,
            "height": null,
            "justify_content": null,
            "justify_items": null,
            "left": null,
            "margin": null,
            "max_height": null,
            "max_width": null,
            "min_height": null,
            "min_width": null,
            "object_fit": null,
            "object_position": null,
            "order": null,
            "overflow": null,
            "overflow_x": null,
            "overflow_y": null,
            "padding": null,
            "right": null,
            "top": null,
            "visibility": null,
            "width": null
          }
        },
        "911ac36103df46c59db0f1269ae90b0f": {
          "model_module": "@jupyter-widgets/controls",
          "model_name": "DescriptionStyleModel",
          "model_module_version": "1.5.0",
          "state": {
            "_model_module": "@jupyter-widgets/controls",
            "_model_module_version": "1.5.0",
            "_model_name": "DescriptionStyleModel",
            "_view_count": null,
            "_view_module": "@jupyter-widgets/base",
            "_view_module_version": "1.2.0",
            "_view_name": "StyleView",
            "description_width": ""
          }
        },
        "628126f0d86840458351c3ac64ab6ac4": {
          "model_module": "@jupyter-widgets/controls",
          "model_name": "HBoxModel",
          "model_module_version": "1.5.0",
          "state": {
            "_dom_classes": [],
            "_model_module": "@jupyter-widgets/controls",
            "_model_module_version": "1.5.0",
            "_model_name": "HBoxModel",
            "_view_count": null,
            "_view_module": "@jupyter-widgets/controls",
            "_view_module_version": "1.5.0",
            "_view_name": "HBoxView",
            "box_style": "",
            "children": [
              "IPY_MODEL_0a1a0fa74558468faa1cbd5264da11c3",
              "IPY_MODEL_4217bc714f0b424a9efad558694cfb1b",
              "IPY_MODEL_f9dea6d563814900b1f24b9bd154f6ce"
            ],
            "layout": "IPY_MODEL_60c883d729d742e4997790cae0507ca3"
          }
        },
        "0a1a0fa74558468faa1cbd5264da11c3": {
          "model_module": "@jupyter-widgets/controls",
          "model_name": "HTMLModel",
          "model_module_version": "1.5.0",
          "state": {
            "_dom_classes": [],
            "_model_module": "@jupyter-widgets/controls",
            "_model_module_version": "1.5.0",
            "_model_name": "HTMLModel",
            "_view_count": null,
            "_view_module": "@jupyter-widgets/controls",
            "_view_module_version": "1.5.0",
            "_view_name": "HTMLView",
            "description": "",
            "description_tooltip": null,
            "layout": "IPY_MODEL_e031709abe1e47008aba6e65fe7da95e",
            "placeholder": "​",
            "style": "IPY_MODEL_a0405c0dc4fa4e07914f6b153fcc0265",
            "value": "Running tokenizer on test split: 100%"
          }
        },
        "4217bc714f0b424a9efad558694cfb1b": {
          "model_module": "@jupyter-widgets/controls",
          "model_name": "FloatProgressModel",
          "model_module_version": "1.5.0",
          "state": {
            "_dom_classes": [],
            "_model_module": "@jupyter-widgets/controls",
            "_model_module_version": "1.5.0",
            "_model_name": "FloatProgressModel",
            "_view_count": null,
            "_view_module": "@jupyter-widgets/controls",
            "_view_module_version": "1.5.0",
            "_view_name": "ProgressView",
            "bar_style": "success",
            "description": "",
            "description_tooltip": null,
            "layout": "IPY_MODEL_ce4f1064b37d41dd9033843c991dff38",
            "max": 222,
            "min": 0,
            "orientation": "horizontal",
            "style": "IPY_MODEL_eeaa8a0afc104f80922ef8e620b9d2eb",
            "value": 222
          }
        },
        "f9dea6d563814900b1f24b9bd154f6ce": {
          "model_module": "@jupyter-widgets/controls",
          "model_name": "HTMLModel",
          "model_module_version": "1.5.0",
          "state": {
            "_dom_classes": [],
            "_model_module": "@jupyter-widgets/controls",
            "_model_module_version": "1.5.0",
            "_model_name": "HTMLModel",
            "_view_count": null,
            "_view_module": "@jupyter-widgets/controls",
            "_view_module_version": "1.5.0",
            "_view_name": "HTMLView",
            "description": "",
            "description_tooltip": null,
            "layout": "IPY_MODEL_4b82fd0c9cb34ebe936e4dfb23a05c87",
            "placeholder": "​",
            "style": "IPY_MODEL_f30daa2aa53b4df0a3bd3eea593c8abe",
            "value": " 222/222 [00:00&lt;00:00, 570.73 examples/s]"
          }
        },
        "60c883d729d742e4997790cae0507ca3": {
          "model_module": "@jupyter-widgets/base",
          "model_name": "LayoutModel",
          "model_module_version": "1.2.0",
          "state": {
            "_model_module": "@jupyter-widgets/base",
            "_model_module_version": "1.2.0",
            "_model_name": "LayoutModel",
            "_view_count": null,
            "_view_module": "@jupyter-widgets/base",
            "_view_module_version": "1.2.0",
            "_view_name": "LayoutView",
            "align_content": null,
            "align_items": null,
            "align_self": null,
            "border": null,
            "bottom": null,
            "display": null,
            "flex": null,
            "flex_flow": null,
            "grid_area": null,
            "grid_auto_columns": null,
            "grid_auto_flow": null,
            "grid_auto_rows": null,
            "grid_column": null,
            "grid_gap": null,
            "grid_row": null,
            "grid_template_areas": null,
            "grid_template_columns": null,
            "grid_template_rows": null,
            "height": null,
            "justify_content": null,
            "justify_items": null,
            "left": null,
            "margin": null,
            "max_height": null,
            "max_width": null,
            "min_height": null,
            "min_width": null,
            "object_fit": null,
            "object_position": null,
            "order": null,
            "overflow": null,
            "overflow_x": null,
            "overflow_y": null,
            "padding": null,
            "right": null,
            "top": null,
            "visibility": null,
            "width": null
          }
        },
        "e031709abe1e47008aba6e65fe7da95e": {
          "model_module": "@jupyter-widgets/base",
          "model_name": "LayoutModel",
          "model_module_version": "1.2.0",
          "state": {
            "_model_module": "@jupyter-widgets/base",
            "_model_module_version": "1.2.0",
            "_model_name": "LayoutModel",
            "_view_count": null,
            "_view_module": "@jupyter-widgets/base",
            "_view_module_version": "1.2.0",
            "_view_name": "LayoutView",
            "align_content": null,
            "align_items": null,
            "align_self": null,
            "border": null,
            "bottom": null,
            "display": null,
            "flex": null,
            "flex_flow": null,
            "grid_area": null,
            "grid_auto_columns": null,
            "grid_auto_flow": null,
            "grid_auto_rows": null,
            "grid_column": null,
            "grid_gap": null,
            "grid_row": null,
            "grid_template_areas": null,
            "grid_template_columns": null,
            "grid_template_rows": null,
            "height": null,
            "justify_content": null,
            "justify_items": null,
            "left": null,
            "margin": null,
            "max_height": null,
            "max_width": null,
            "min_height": null,
            "min_width": null,
            "object_fit": null,
            "object_position": null,
            "order": null,
            "overflow": null,
            "overflow_x": null,
            "overflow_y": null,
            "padding": null,
            "right": null,
            "top": null,
            "visibility": null,
            "width": null
          }
        },
        "a0405c0dc4fa4e07914f6b153fcc0265": {
          "model_module": "@jupyter-widgets/controls",
          "model_name": "DescriptionStyleModel",
          "model_module_version": "1.5.0",
          "state": {
            "_model_module": "@jupyter-widgets/controls",
            "_model_module_version": "1.5.0",
            "_model_name": "DescriptionStyleModel",
            "_view_count": null,
            "_view_module": "@jupyter-widgets/base",
            "_view_module_version": "1.2.0",
            "_view_name": "StyleView",
            "description_width": ""
          }
        },
        "ce4f1064b37d41dd9033843c991dff38": {
          "model_module": "@jupyter-widgets/base",
          "model_name": "LayoutModel",
          "model_module_version": "1.2.0",
          "state": {
            "_model_module": "@jupyter-widgets/base",
            "_model_module_version": "1.2.0",
            "_model_name": "LayoutModel",
            "_view_count": null,
            "_view_module": "@jupyter-widgets/base",
            "_view_module_version": "1.2.0",
            "_view_name": "LayoutView",
            "align_content": null,
            "align_items": null,
            "align_self": null,
            "border": null,
            "bottom": null,
            "display": null,
            "flex": null,
            "flex_flow": null,
            "grid_area": null,
            "grid_auto_columns": null,
            "grid_auto_flow": null,
            "grid_auto_rows": null,
            "grid_column": null,
            "grid_gap": null,
            "grid_row": null,
            "grid_template_areas": null,
            "grid_template_columns": null,
            "grid_template_rows": null,
            "height": null,
            "justify_content": null,
            "justify_items": null,
            "left": null,
            "margin": null,
            "max_height": null,
            "max_width": null,
            "min_height": null,
            "min_width": null,
            "object_fit": null,
            "object_position": null,
            "order": null,
            "overflow": null,
            "overflow_x": null,
            "overflow_y": null,
            "padding": null,
            "right": null,
            "top": null,
            "visibility": null,
            "width": null
          }
        },
        "eeaa8a0afc104f80922ef8e620b9d2eb": {
          "model_module": "@jupyter-widgets/controls",
          "model_name": "ProgressStyleModel",
          "model_module_version": "1.5.0",
          "state": {
            "_model_module": "@jupyter-widgets/controls",
            "_model_module_version": "1.5.0",
            "_model_name": "ProgressStyleModel",
            "_view_count": null,
            "_view_module": "@jupyter-widgets/base",
            "_view_module_version": "1.2.0",
            "_view_name": "StyleView",
            "bar_color": null,
            "description_width": ""
          }
        },
        "4b82fd0c9cb34ebe936e4dfb23a05c87": {
          "model_module": "@jupyter-widgets/base",
          "model_name": "LayoutModel",
          "model_module_version": "1.2.0",
          "state": {
            "_model_module": "@jupyter-widgets/base",
            "_model_module_version": "1.2.0",
            "_model_name": "LayoutModel",
            "_view_count": null,
            "_view_module": "@jupyter-widgets/base",
            "_view_module_version": "1.2.0",
            "_view_name": "LayoutView",
            "align_content": null,
            "align_items": null,
            "align_self": null,
            "border": null,
            "bottom": null,
            "display": null,
            "flex": null,
            "flex_flow": null,
            "grid_area": null,
            "grid_auto_columns": null,
            "grid_auto_flow": null,
            "grid_auto_rows": null,
            "grid_column": null,
            "grid_gap": null,
            "grid_row": null,
            "grid_template_areas": null,
            "grid_template_columns": null,
            "grid_template_rows": null,
            "height": null,
            "justify_content": null,
            "justify_items": null,
            "left": null,
            "margin": null,
            "max_height": null,
            "max_width": null,
            "min_height": null,
            "min_width": null,
            "object_fit": null,
            "object_position": null,
            "order": null,
            "overflow": null,
            "overflow_x": null,
            "overflow_y": null,
            "padding": null,
            "right": null,
            "top": null,
            "visibility": null,
            "width": null
          }
        },
        "f30daa2aa53b4df0a3bd3eea593c8abe": {
          "model_module": "@jupyter-widgets/controls",
          "model_name": "DescriptionStyleModel",
          "model_module_version": "1.5.0",
          "state": {
            "_model_module": "@jupyter-widgets/controls",
            "_model_module_version": "1.5.0",
            "_model_name": "DescriptionStyleModel",
            "_view_count": null,
            "_view_module": "@jupyter-widgets/base",
            "_view_module_version": "1.2.0",
            "_view_name": "StyleView",
            "description_width": ""
          }
        },
        "bbc91aa07f3241809415ce431cf323dc": {
          "model_module": "@jupyter-widgets/controls",
          "model_name": "VBoxModel",
          "model_module_version": "1.5.0",
          "state": {
            "_dom_classes": [],
            "_model_module": "@jupyter-widgets/controls",
            "_model_module_version": "1.5.0",
            "_model_name": "VBoxModel",
            "_view_count": null,
            "_view_module": "@jupyter-widgets/controls",
            "_view_module_version": "1.5.0",
            "_view_name": "VBoxView",
            "box_style": "",
            "children": [
              "IPY_MODEL_f6ba21950d7a42638345a50639acca1e",
              "IPY_MODEL_8a885c89278b4c3d911e7396902d9ebf",
              "IPY_MODEL_c468a4b1f68d4e75a9a0bed6e7bd2c9b",
              "IPY_MODEL_39def4ca6a944fceb687ff12fd7fe6c6",
              "IPY_MODEL_893c948bcf974a07b271a6fca9310447"
            ],
            "layout": "IPY_MODEL_474670a241884c1f868961bc4d0dd1cc"
          }
        },
        "f6ba21950d7a42638345a50639acca1e": {
          "model_module": "@jupyter-widgets/controls",
          "model_name": "HTMLModel",
          "model_module_version": "1.5.0",
          "state": {
            "_dom_classes": [],
            "_model_module": "@jupyter-widgets/controls",
            "_model_module_version": "1.5.0",
            "_model_name": "HTMLModel",
            "_view_count": null,
            "_view_module": "@jupyter-widgets/controls",
            "_view_module_version": "1.5.0",
            "_view_name": "HTMLView",
            "description": "",
            "description_tooltip": null,
            "layout": "IPY_MODEL_91abe0de2c554b7cb3b6f71d34b85d04",
            "placeholder": "​",
            "style": "IPY_MODEL_282d06c36aa14636a9ae7df64726639a",
            "value": "<center> <img\nsrc=https://huggingface.co/front/assets/huggingface_logo-noborder.svg\nalt='Hugging Face'> <br> Copy a token from <a\nhref=\"https://huggingface.co/settings/tokens\" target=\"_blank\">your Hugging Face\ntokens page</a> and paste it below. <br> Immediately click login after copying\nyour token or it might be stored in plain text in this notebook file. </center>"
          }
        },
        "8a885c89278b4c3d911e7396902d9ebf": {
          "model_module": "@jupyter-widgets/controls",
          "model_name": "PasswordModel",
          "model_module_version": "1.5.0",
          "state": {
            "_dom_classes": [],
            "_model_module": "@jupyter-widgets/controls",
            "_model_module_version": "1.5.0",
            "_model_name": "PasswordModel",
            "_view_count": null,
            "_view_module": "@jupyter-widgets/controls",
            "_view_module_version": "1.5.0",
            "_view_name": "PasswordView",
            "continuous_update": true,
            "description": "Token:",
            "description_tooltip": null,
            "disabled": false,
            "layout": "IPY_MODEL_5bf055ac2db042079d4b824204582229",
            "placeholder": "​",
            "style": "IPY_MODEL_627dbf00fadd422497424d97fc097612",
            "value": ""
          }
        },
        "c468a4b1f68d4e75a9a0bed6e7bd2c9b": {
          "model_module": "@jupyter-widgets/controls",
          "model_name": "CheckboxModel",
          "model_module_version": "1.5.0",
          "state": {
            "_dom_classes": [],
            "_model_module": "@jupyter-widgets/controls",
            "_model_module_version": "1.5.0",
            "_model_name": "CheckboxModel",
            "_view_count": null,
            "_view_module": "@jupyter-widgets/controls",
            "_view_module_version": "1.5.0",
            "_view_name": "CheckboxView",
            "description": "Add token as git credential?",
            "description_tooltip": null,
            "disabled": false,
            "indent": true,
            "layout": "IPY_MODEL_7bd05758348648ee84cf6e64fad96620",
            "style": "IPY_MODEL_035e4dfd70614d1ea407f6b505d0cd60",
            "value": true
          }
        },
        "39def4ca6a944fceb687ff12fd7fe6c6": {
          "model_module": "@jupyter-widgets/controls",
          "model_name": "ButtonModel",
          "model_module_version": "1.5.0",
          "state": {
            "_dom_classes": [],
            "_model_module": "@jupyter-widgets/controls",
            "_model_module_version": "1.5.0",
            "_model_name": "ButtonModel",
            "_view_count": null,
            "_view_module": "@jupyter-widgets/controls",
            "_view_module_version": "1.5.0",
            "_view_name": "ButtonView",
            "button_style": "",
            "description": "Login",
            "disabled": false,
            "icon": "",
            "layout": "IPY_MODEL_369464fe4a66445d91928f2723f7fa24",
            "style": "IPY_MODEL_ef5f8a58a6fb45ffa75192d1def283f8",
            "tooltip": ""
          }
        },
        "893c948bcf974a07b271a6fca9310447": {
          "model_module": "@jupyter-widgets/controls",
          "model_name": "HTMLModel",
          "model_module_version": "1.5.0",
          "state": {
            "_dom_classes": [],
            "_model_module": "@jupyter-widgets/controls",
            "_model_module_version": "1.5.0",
            "_model_name": "HTMLModel",
            "_view_count": null,
            "_view_module": "@jupyter-widgets/controls",
            "_view_module_version": "1.5.0",
            "_view_name": "HTMLView",
            "description": "",
            "description_tooltip": null,
            "layout": "IPY_MODEL_bde9c0cce0e348dfa02f227281ab3609",
            "placeholder": "​",
            "style": "IPY_MODEL_872cff9131f9452caa1c1ddcc7e0d83c",
            "value": "\n<b>Pro Tip:</b> If you don't already have one, you can create a dedicated\n'notebooks' token with 'write' access, that you can then easily reuse for all\nnotebooks. </center>"
          }
        },
        "474670a241884c1f868961bc4d0dd1cc": {
          "model_module": "@jupyter-widgets/base",
          "model_name": "LayoutModel",
          "model_module_version": "1.2.0",
          "state": {
            "_model_module": "@jupyter-widgets/base",
            "_model_module_version": "1.2.0",
            "_model_name": "LayoutModel",
            "_view_count": null,
            "_view_module": "@jupyter-widgets/base",
            "_view_module_version": "1.2.0",
            "_view_name": "LayoutView",
            "align_content": null,
            "align_items": "center",
            "align_self": null,
            "border": null,
            "bottom": null,
            "display": "flex",
            "flex": null,
            "flex_flow": "column",
            "grid_area": null,
            "grid_auto_columns": null,
            "grid_auto_flow": null,
            "grid_auto_rows": null,
            "grid_column": null,
            "grid_gap": null,
            "grid_row": null,
            "grid_template_areas": null,
            "grid_template_columns": null,
            "grid_template_rows": null,
            "height": null,
            "justify_content": null,
            "justify_items": null,
            "left": null,
            "margin": null,
            "max_height": null,
            "max_width": null,
            "min_height": null,
            "min_width": null,
            "object_fit": null,
            "object_position": null,
            "order": null,
            "overflow": null,
            "overflow_x": null,
            "overflow_y": null,
            "padding": null,
            "right": null,
            "top": null,
            "visibility": null,
            "width": "50%"
          }
        },
        "91abe0de2c554b7cb3b6f71d34b85d04": {
          "model_module": "@jupyter-widgets/base",
          "model_name": "LayoutModel",
          "model_module_version": "1.2.0",
          "state": {
            "_model_module": "@jupyter-widgets/base",
            "_model_module_version": "1.2.0",
            "_model_name": "LayoutModel",
            "_view_count": null,
            "_view_module": "@jupyter-widgets/base",
            "_view_module_version": "1.2.0",
            "_view_name": "LayoutView",
            "align_content": null,
            "align_items": null,
            "align_self": null,
            "border": null,
            "bottom": null,
            "display": null,
            "flex": null,
            "flex_flow": null,
            "grid_area": null,
            "grid_auto_columns": null,
            "grid_auto_flow": null,
            "grid_auto_rows": null,
            "grid_column": null,
            "grid_gap": null,
            "grid_row": null,
            "grid_template_areas": null,
            "grid_template_columns": null,
            "grid_template_rows": null,
            "height": null,
            "justify_content": null,
            "justify_items": null,
            "left": null,
            "margin": null,
            "max_height": null,
            "max_width": null,
            "min_height": null,
            "min_width": null,
            "object_fit": null,
            "object_position": null,
            "order": null,
            "overflow": null,
            "overflow_x": null,
            "overflow_y": null,
            "padding": null,
            "right": null,
            "top": null,
            "visibility": null,
            "width": null
          }
        },
        "282d06c36aa14636a9ae7df64726639a": {
          "model_module": "@jupyter-widgets/controls",
          "model_name": "DescriptionStyleModel",
          "model_module_version": "1.5.0",
          "state": {
            "_model_module": "@jupyter-widgets/controls",
            "_model_module_version": "1.5.0",
            "_model_name": "DescriptionStyleModel",
            "_view_count": null,
            "_view_module": "@jupyter-widgets/base",
            "_view_module_version": "1.2.0",
            "_view_name": "StyleView",
            "description_width": ""
          }
        },
        "5bf055ac2db042079d4b824204582229": {
          "model_module": "@jupyter-widgets/base",
          "model_name": "LayoutModel",
          "model_module_version": "1.2.0",
          "state": {
            "_model_module": "@jupyter-widgets/base",
            "_model_module_version": "1.2.0",
            "_model_name": "LayoutModel",
            "_view_count": null,
            "_view_module": "@jupyter-widgets/base",
            "_view_module_version": "1.2.0",
            "_view_name": "LayoutView",
            "align_content": null,
            "align_items": null,
            "align_self": null,
            "border": null,
            "bottom": null,
            "display": null,
            "flex": null,
            "flex_flow": null,
            "grid_area": null,
            "grid_auto_columns": null,
            "grid_auto_flow": null,
            "grid_auto_rows": null,
            "grid_column": null,
            "grid_gap": null,
            "grid_row": null,
            "grid_template_areas": null,
            "grid_template_columns": null,
            "grid_template_rows": null,
            "height": null,
            "justify_content": null,
            "justify_items": null,
            "left": null,
            "margin": null,
            "max_height": null,
            "max_width": null,
            "min_height": null,
            "min_width": null,
            "object_fit": null,
            "object_position": null,
            "order": null,
            "overflow": null,
            "overflow_x": null,
            "overflow_y": null,
            "padding": null,
            "right": null,
            "top": null,
            "visibility": null,
            "width": null
          }
        },
        "627dbf00fadd422497424d97fc097612": {
          "model_module": "@jupyter-widgets/controls",
          "model_name": "DescriptionStyleModel",
          "model_module_version": "1.5.0",
          "state": {
            "_model_module": "@jupyter-widgets/controls",
            "_model_module_version": "1.5.0",
            "_model_name": "DescriptionStyleModel",
            "_view_count": null,
            "_view_module": "@jupyter-widgets/base",
            "_view_module_version": "1.2.0",
            "_view_name": "StyleView",
            "description_width": ""
          }
        },
        "7bd05758348648ee84cf6e64fad96620": {
          "model_module": "@jupyter-widgets/base",
          "model_name": "LayoutModel",
          "model_module_version": "1.2.0",
          "state": {
            "_model_module": "@jupyter-widgets/base",
            "_model_module_version": "1.2.0",
            "_model_name": "LayoutModel",
            "_view_count": null,
            "_view_module": "@jupyter-widgets/base",
            "_view_module_version": "1.2.0",
            "_view_name": "LayoutView",
            "align_content": null,
            "align_items": null,
            "align_self": null,
            "border": null,
            "bottom": null,
            "display": null,
            "flex": null,
            "flex_flow": null,
            "grid_area": null,
            "grid_auto_columns": null,
            "grid_auto_flow": null,
            "grid_auto_rows": null,
            "grid_column": null,
            "grid_gap": null,
            "grid_row": null,
            "grid_template_areas": null,
            "grid_template_columns": null,
            "grid_template_rows": null,
            "height": null,
            "justify_content": null,
            "justify_items": null,
            "left": null,
            "margin": null,
            "max_height": null,
            "max_width": null,
            "min_height": null,
            "min_width": null,
            "object_fit": null,
            "object_position": null,
            "order": null,
            "overflow": null,
            "overflow_x": null,
            "overflow_y": null,
            "padding": null,
            "right": null,
            "top": null,
            "visibility": null,
            "width": null
          }
        },
        "035e4dfd70614d1ea407f6b505d0cd60": {
          "model_module": "@jupyter-widgets/controls",
          "model_name": "DescriptionStyleModel",
          "model_module_version": "1.5.0",
          "state": {
            "_model_module": "@jupyter-widgets/controls",
            "_model_module_version": "1.5.0",
            "_model_name": "DescriptionStyleModel",
            "_view_count": null,
            "_view_module": "@jupyter-widgets/base",
            "_view_module_version": "1.2.0",
            "_view_name": "StyleView",
            "description_width": ""
          }
        },
        "369464fe4a66445d91928f2723f7fa24": {
          "model_module": "@jupyter-widgets/base",
          "model_name": "LayoutModel",
          "model_module_version": "1.2.0",
          "state": {
            "_model_module": "@jupyter-widgets/base",
            "_model_module_version": "1.2.0",
            "_model_name": "LayoutModel",
            "_view_count": null,
            "_view_module": "@jupyter-widgets/base",
            "_view_module_version": "1.2.0",
            "_view_name": "LayoutView",
            "align_content": null,
            "align_items": null,
            "align_self": null,
            "border": null,
            "bottom": null,
            "display": null,
            "flex": null,
            "flex_flow": null,
            "grid_area": null,
            "grid_auto_columns": null,
            "grid_auto_flow": null,
            "grid_auto_rows": null,
            "grid_column": null,
            "grid_gap": null,
            "grid_row": null,
            "grid_template_areas": null,
            "grid_template_columns": null,
            "grid_template_rows": null,
            "height": null,
            "justify_content": null,
            "justify_items": null,
            "left": null,
            "margin": null,
            "max_height": null,
            "max_width": null,
            "min_height": null,
            "min_width": null,
            "object_fit": null,
            "object_position": null,
            "order": null,
            "overflow": null,
            "overflow_x": null,
            "overflow_y": null,
            "padding": null,
            "right": null,
            "top": null,
            "visibility": null,
            "width": null
          }
        },
        "ef5f8a58a6fb45ffa75192d1def283f8": {
          "model_module": "@jupyter-widgets/controls",
          "model_name": "ButtonStyleModel",
          "model_module_version": "1.5.0",
          "state": {
            "_model_module": "@jupyter-widgets/controls",
            "_model_module_version": "1.5.0",
            "_model_name": "ButtonStyleModel",
            "_view_count": null,
            "_view_module": "@jupyter-widgets/base",
            "_view_module_version": "1.2.0",
            "_view_name": "StyleView",
            "button_color": null,
            "font_weight": ""
          }
        },
        "bde9c0cce0e348dfa02f227281ab3609": {
          "model_module": "@jupyter-widgets/base",
          "model_name": "LayoutModel",
          "model_module_version": "1.2.0",
          "state": {
            "_model_module": "@jupyter-widgets/base",
            "_model_module_version": "1.2.0",
            "_model_name": "LayoutModel",
            "_view_count": null,
            "_view_module": "@jupyter-widgets/base",
            "_view_module_version": "1.2.0",
            "_view_name": "LayoutView",
            "align_content": null,
            "align_items": null,
            "align_self": null,
            "border": null,
            "bottom": null,
            "display": null,
            "flex": null,
            "flex_flow": null,
            "grid_area": null,
            "grid_auto_columns": null,
            "grid_auto_flow": null,
            "grid_auto_rows": null,
            "grid_column": null,
            "grid_gap": null,
            "grid_row": null,
            "grid_template_areas": null,
            "grid_template_columns": null,
            "grid_template_rows": null,
            "height": null,
            "justify_content": null,
            "justify_items": null,
            "left": null,
            "margin": null,
            "max_height": null,
            "max_width": null,
            "min_height": null,
            "min_width": null,
            "object_fit": null,
            "object_position": null,
            "order": null,
            "overflow": null,
            "overflow_x": null,
            "overflow_y": null,
            "padding": null,
            "right": null,
            "top": null,
            "visibility": null,
            "width": null
          }
        },
        "872cff9131f9452caa1c1ddcc7e0d83c": {
          "model_module": "@jupyter-widgets/controls",
          "model_name": "DescriptionStyleModel",
          "model_module_version": "1.5.0",
          "state": {
            "_model_module": "@jupyter-widgets/controls",
            "_model_module_version": "1.5.0",
            "_model_name": "DescriptionStyleModel",
            "_view_count": null,
            "_view_module": "@jupyter-widgets/base",
            "_view_module_version": "1.2.0",
            "_view_name": "StyleView",
            "description_width": ""
          }
        },
        "f98a5cbb22e044dba7ebdf23d9c8441c": {
          "model_module": "@jupyter-widgets/controls",
          "model_name": "HBoxModel",
          "model_module_version": "1.5.0",
          "state": {
            "_dom_classes": [],
            "_model_module": "@jupyter-widgets/controls",
            "_model_module_version": "1.5.0",
            "_model_name": "HBoxModel",
            "_view_count": null,
            "_view_module": "@jupyter-widgets/controls",
            "_view_module_version": "1.5.0",
            "_view_name": "HBoxView",
            "box_style": "",
            "children": [
              "IPY_MODEL_7f1239cb49b642248e72ad02cbb2765e",
              "IPY_MODEL_9513631e9d5f444783b3157ed2f87bb8",
              "IPY_MODEL_304db4f250af4410809bdafc928c645b"
            ],
            "layout": "IPY_MODEL_f957fb333c944f1789e21f106277b0c5"
          }
        },
        "7f1239cb49b642248e72ad02cbb2765e": {
          "model_module": "@jupyter-widgets/controls",
          "model_name": "HTMLModel",
          "model_module_version": "1.5.0",
          "state": {
            "_dom_classes": [],
            "_model_module": "@jupyter-widgets/controls",
            "_model_module_version": "1.5.0",
            "_model_name": "HTMLModel",
            "_view_count": null,
            "_view_module": "@jupyter-widgets/controls",
            "_view_module_version": "1.5.0",
            "_view_name": "HTMLView",
            "description": "",
            "description_tooltip": null,
            "layout": "IPY_MODEL_937883bd783a479d9791cc1f8fcead10",
            "placeholder": "​",
            "style": "IPY_MODEL_53d0d726be954f3bb938cff795726143",
            "value": "events.out.tfevents.1725148274.d0b0eca3538a.13189.0: 100%"
          }
        },
        "9513631e9d5f444783b3157ed2f87bb8": {
          "model_module": "@jupyter-widgets/controls",
          "model_name": "FloatProgressModel",
          "model_module_version": "1.5.0",
          "state": {
            "_dom_classes": [],
            "_model_module": "@jupyter-widgets/controls",
            "_model_module_version": "1.5.0",
            "_model_name": "FloatProgressModel",
            "_view_count": null,
            "_view_module": "@jupyter-widgets/controls",
            "_view_module_version": "1.5.0",
            "_view_name": "ProgressView",
            "bar_style": "success",
            "description": "",
            "description_tooltip": null,
            "layout": "IPY_MODEL_65bb016e840247b590d21a2135d3d9cf",
            "max": 8269,
            "min": 0,
            "orientation": "horizontal",
            "style": "IPY_MODEL_b2f2870f30024f8a9e831a52e829ad9c",
            "value": 8269
          }
        },
        "304db4f250af4410809bdafc928c645b": {
          "model_module": "@jupyter-widgets/controls",
          "model_name": "HTMLModel",
          "model_module_version": "1.5.0",
          "state": {
            "_dom_classes": [],
            "_model_module": "@jupyter-widgets/controls",
            "_model_module_version": "1.5.0",
            "_model_name": "HTMLModel",
            "_view_count": null,
            "_view_module": "@jupyter-widgets/controls",
            "_view_module_version": "1.5.0",
            "_view_name": "HTMLView",
            "description": "",
            "description_tooltip": null,
            "layout": "IPY_MODEL_194db6b15a2d42aeb6362ef9a62f0d44",
            "placeholder": "​",
            "style": "IPY_MODEL_fae5d60e28564e29a71e2c5dcbf3e5ad",
            "value": " 8.27k/8.27k [00:00&lt;00:00, 51.0kB/s]"
          }
        },
        "f957fb333c944f1789e21f106277b0c5": {
          "model_module": "@jupyter-widgets/base",
          "model_name": "LayoutModel",
          "model_module_version": "1.2.0",
          "state": {
            "_model_module": "@jupyter-widgets/base",
            "_model_module_version": "1.2.0",
            "_model_name": "LayoutModel",
            "_view_count": null,
            "_view_module": "@jupyter-widgets/base",
            "_view_module_version": "1.2.0",
            "_view_name": "LayoutView",
            "align_content": null,
            "align_items": null,
            "align_self": null,
            "border": null,
            "bottom": null,
            "display": null,
            "flex": null,
            "flex_flow": null,
            "grid_area": null,
            "grid_auto_columns": null,
            "grid_auto_flow": null,
            "grid_auto_rows": null,
            "grid_column": null,
            "grid_gap": null,
            "grid_row": null,
            "grid_template_areas": null,
            "grid_template_columns": null,
            "grid_template_rows": null,
            "height": null,
            "justify_content": null,
            "justify_items": null,
            "left": null,
            "margin": null,
            "max_height": null,
            "max_width": null,
            "min_height": null,
            "min_width": null,
            "object_fit": null,
            "object_position": null,
            "order": null,
            "overflow": null,
            "overflow_x": null,
            "overflow_y": null,
            "padding": null,
            "right": null,
            "top": null,
            "visibility": null,
            "width": null
          }
        },
        "937883bd783a479d9791cc1f8fcead10": {
          "model_module": "@jupyter-widgets/base",
          "model_name": "LayoutModel",
          "model_module_version": "1.2.0",
          "state": {
            "_model_module": "@jupyter-widgets/base",
            "_model_module_version": "1.2.0",
            "_model_name": "LayoutModel",
            "_view_count": null,
            "_view_module": "@jupyter-widgets/base",
            "_view_module_version": "1.2.0",
            "_view_name": "LayoutView",
            "align_content": null,
            "align_items": null,
            "align_self": null,
            "border": null,
            "bottom": null,
            "display": null,
            "flex": null,
            "flex_flow": null,
            "grid_area": null,
            "grid_auto_columns": null,
            "grid_auto_flow": null,
            "grid_auto_rows": null,
            "grid_column": null,
            "grid_gap": null,
            "grid_row": null,
            "grid_template_areas": null,
            "grid_template_columns": null,
            "grid_template_rows": null,
            "height": null,
            "justify_content": null,
            "justify_items": null,
            "left": null,
            "margin": null,
            "max_height": null,
            "max_width": null,
            "min_height": null,
            "min_width": null,
            "object_fit": null,
            "object_position": null,
            "order": null,
            "overflow": null,
            "overflow_x": null,
            "overflow_y": null,
            "padding": null,
            "right": null,
            "top": null,
            "visibility": null,
            "width": null
          }
        },
        "53d0d726be954f3bb938cff795726143": {
          "model_module": "@jupyter-widgets/controls",
          "model_name": "DescriptionStyleModel",
          "model_module_version": "1.5.0",
          "state": {
            "_model_module": "@jupyter-widgets/controls",
            "_model_module_version": "1.5.0",
            "_model_name": "DescriptionStyleModel",
            "_view_count": null,
            "_view_module": "@jupyter-widgets/base",
            "_view_module_version": "1.2.0",
            "_view_name": "StyleView",
            "description_width": ""
          }
        },
        "65bb016e840247b590d21a2135d3d9cf": {
          "model_module": "@jupyter-widgets/base",
          "model_name": "LayoutModel",
          "model_module_version": "1.2.0",
          "state": {
            "_model_module": "@jupyter-widgets/base",
            "_model_module_version": "1.2.0",
            "_model_name": "LayoutModel",
            "_view_count": null,
            "_view_module": "@jupyter-widgets/base",
            "_view_module_version": "1.2.0",
            "_view_name": "LayoutView",
            "align_content": null,
            "align_items": null,
            "align_self": null,
            "border": null,
            "bottom": null,
            "display": null,
            "flex": null,
            "flex_flow": null,
            "grid_area": null,
            "grid_auto_columns": null,
            "grid_auto_flow": null,
            "grid_auto_rows": null,
            "grid_column": null,
            "grid_gap": null,
            "grid_row": null,
            "grid_template_areas": null,
            "grid_template_columns": null,
            "grid_template_rows": null,
            "height": null,
            "justify_content": null,
            "justify_items": null,
            "left": null,
            "margin": null,
            "max_height": null,
            "max_width": null,
            "min_height": null,
            "min_width": null,
            "object_fit": null,
            "object_position": null,
            "order": null,
            "overflow": null,
            "overflow_x": null,
            "overflow_y": null,
            "padding": null,
            "right": null,
            "top": null,
            "visibility": null,
            "width": null
          }
        },
        "b2f2870f30024f8a9e831a52e829ad9c": {
          "model_module": "@jupyter-widgets/controls",
          "model_name": "ProgressStyleModel",
          "model_module_version": "1.5.0",
          "state": {
            "_model_module": "@jupyter-widgets/controls",
            "_model_module_version": "1.5.0",
            "_model_name": "ProgressStyleModel",
            "_view_count": null,
            "_view_module": "@jupyter-widgets/base",
            "_view_module_version": "1.2.0",
            "_view_name": "StyleView",
            "bar_color": null,
            "description_width": ""
          }
        },
        "194db6b15a2d42aeb6362ef9a62f0d44": {
          "model_module": "@jupyter-widgets/base",
          "model_name": "LayoutModel",
          "model_module_version": "1.2.0",
          "state": {
            "_model_module": "@jupyter-widgets/base",
            "_model_module_version": "1.2.0",
            "_model_name": "LayoutModel",
            "_view_count": null,
            "_view_module": "@jupyter-widgets/base",
            "_view_module_version": "1.2.0",
            "_view_name": "LayoutView",
            "align_content": null,
            "align_items": null,
            "align_self": null,
            "border": null,
            "bottom": null,
            "display": null,
            "flex": null,
            "flex_flow": null,
            "grid_area": null,
            "grid_auto_columns": null,
            "grid_auto_flow": null,
            "grid_auto_rows": null,
            "grid_column": null,
            "grid_gap": null,
            "grid_row": null,
            "grid_template_areas": null,
            "grid_template_columns": null,
            "grid_template_rows": null,
            "height": null,
            "justify_content": null,
            "justify_items": null,
            "left": null,
            "margin": null,
            "max_height": null,
            "max_width": null,
            "min_height": null,
            "min_width": null,
            "object_fit": null,
            "object_position": null,
            "order": null,
            "overflow": null,
            "overflow_x": null,
            "overflow_y": null,
            "padding": null,
            "right": null,
            "top": null,
            "visibility": null,
            "width": null
          }
        },
        "fae5d60e28564e29a71e2c5dcbf3e5ad": {
          "model_module": "@jupyter-widgets/controls",
          "model_name": "DescriptionStyleModel",
          "model_module_version": "1.5.0",
          "state": {
            "_model_module": "@jupyter-widgets/controls",
            "_model_module_version": "1.5.0",
            "_model_name": "DescriptionStyleModel",
            "_view_count": null,
            "_view_module": "@jupyter-widgets/base",
            "_view_module_version": "1.2.0",
            "_view_name": "StyleView",
            "description_width": ""
          }
        }
      }
    }
  },
  "nbformat": 4,
  "nbformat_minor": 0
}