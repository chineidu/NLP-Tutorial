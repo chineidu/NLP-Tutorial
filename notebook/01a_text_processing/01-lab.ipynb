{
 "cells": [
  {
   "cell_type": "markdown",
   "metadata": {},
   "source": [
    "## Text Processing Lab"
   ]
  },
  {
   "cell_type": "code",
   "execution_count": 1,
   "metadata": {},
   "outputs": [
    {
     "name": "stdout",
     "output_type": "stream",
     "text": [
      "Python implementation: CPython\n",
      "Python version       : 3.11.8\n",
      "IPython version      : 8.22.2\n",
      "\n",
      "numpy    : 1.26.4\n",
      "mlxtend  : 0.23.1\n",
      "pandas   : 2.2.1\n",
      "polars   : 0.20.18\n",
      "omegaconf: 2.3.0\n",
      "\n",
      "conda environment: torch_p11\n",
      "\n"
     ]
    }
   ],
   "source": [
    "%load_ext watermark\n",
    "%watermark -v -p numpy,mlxtend,pandas,polars,omegaconf --conda"
   ]
  },
  {
   "cell_type": "code",
   "execution_count": null,
   "metadata": {},
   "outputs": [],
   "source": [
    "def levenshtein_distance(s1: str, s2: str) -> int:\n",
    "    \"\"\"\n",
    "    Calculate the Levenshtein distance between two strings.\n",
    "\n",
    "    Parameters\n",
    "    ----------\n",
    "    s1 : str\n",
    "        The first string.\n",
    "    s2 : str\n",
    "        The second string.\n",
    "\n",
    "    Returns\n",
    "    -------\n",
    "    int\n",
    "        The Levenshtein distance between s1 and s2.\n",
    "\n",
    "    Example\n",
    "    -------\n",
    "    >>> levenshtein_distance(\"kitten\", \"sitting\")\n",
    "    3\n",
    "    \"\"\"\n",
    "    if len(s1) < len(s2):\n",
    "        return levenshtein_distance(s2, s1)\n",
    "\n",
    "    if len(s2) == 0:\n",
    "        return len(s1)\n",
    "\n",
    "    previous_row: list[int] = list(range(len(s2) + 1))\n",
    "    for i, c1 in enumerate(s1):\n",
    "        current_row: list[int] = [i + 1]\n",
    "        for j, c2 in enumerate(s2):\n",
    "            insertions: int = previous_row[j + 1] + 1\n",
    "            deletions: int = current_row[j] + 1\n",
    "            substitutions: int = previous_row[j] + (c1 != c2)\n",
    "            current_row.append(min(insertions, deletions, substitutions))\n",
    "        previous_row = current_row\n",
    "\n",
    "    return previous_row[-1]\n",
    "\n",
    "\n",
    "def compute_string_similarity(s1: str, s2: str) -> float:\n",
    "    \"\"\"\n",
    "    Compute the similarity between two strings based on Levenshtein distance.\n",
    "\n",
    "    Parameters\n",
    "    ----------\n",
    "    s1 : str\n",
    "        The first string.\n",
    "    s2 : str\n",
    "        The second string.\n",
    "\n",
    "    Returns\n",
    "    -------\n",
    "    float\n",
    "        A similarity score between 0 and 1, where 1 indicates identical strings.\n",
    "    \"\"\"\n",
    "    distance: int = levenshtein_distance(s1, s2)\n",
    "    max_length: int = max(len(s1), len(s2))\n",
    "    similarity: float = 1 - (distance / max_length)\n",
    "    return round(similarity, 4)"
   ]
  },
  {
   "cell_type": "code",
   "execution_count": null,
   "metadata": {},
   "outputs": [
    {
     "name": "stdout",
     "output_type": "stream",
     "text": [
      "1\n",
      "0.8333\n"
     ]
    }
   ],
   "source": [
    "s1, s2 = \"friend\", \"fiend\"\n",
    "distance: int = levenshtein_distance(s1=s1, s2=s2)\n",
    "print(distance)\n",
    "\n",
    "similarity: float = compute_string_similarity(s1=s1, s2=s2)\n",
    "print(similarity)"
   ]
  },
  {
   "cell_type": "code",
   "execution_count": 2,
   "metadata": {},
   "outputs": [],
   "source": [
    "# Built-in library\n",
    "from pathlib import Path\n",
    "import re\n",
    "import json\n",
    "from typing import Any, Optional, Union\n",
    "import logging\n",
    "import warnings\n",
    "\n",
    "# Standard imports\n",
    "import numpy as np\n",
    "import numpy.typing as npt\n",
    "from pprint import pprint\n",
    "import pandas as pd\n",
    "import polars as pl\n",
    "from rich.console import Console\n",
    "from rich.theme import Theme\n",
    "\n",
    "custom_theme = Theme(\n",
    "    {\n",
    "        \"info\": \"#76FF7B\",\n",
    "        \"warning\": \"#FBDDFE\",\n",
    "        \"error\": \"#FF0000\",\n",
    "    }\n",
    ")\n",
    "console = Console(theme=custom_theme)\n",
    "\n",
    "# Visualization\n",
    "import matplotlib.pyplot as plt\n",
    "\n",
    "# NumPy settings\n",
    "np.set_printoptions(precision=4)\n",
    "\n",
    "# Pandas settings\n",
    "pd.options.display.max_rows = 1_000\n",
    "pd.options.display.max_columns = 1_000\n",
    "pd.options.display.max_colwidth = 600\n",
    "\n",
    "# Polars settings\n",
    "pl.Config.set_fmt_str_lengths(1_000)\n",
    "pl.Config.set_tbl_cols(n=1_000)\n",
    "pl.Config.set_tbl_rows(n=200)\n",
    "\n",
    "warnings.filterwarnings(\"ignore\")\n",
    "\n",
    "\n",
    "# Black code formatter (Optional)\n",
    "%load_ext lab_black\n",
    "\n",
    "# auto reload imports\n",
    "%load_ext autoreload\n",
    "%autoreload 2"
   ]
  },
  {
   "cell_type": "code",
   "execution_count": 3,
   "metadata": {},
   "outputs": [],
   "source": [
    "from tqdm import tqdm\n",
    "\n",
    "\n",
    "def process_text(text: list[str]) -> list[str]:\n",
    "    \"\"\"\n",
    "    Process a list of text lines to extract product IDs and categories.\n",
    "\n",
    "    Parameters\n",
    "    ----------\n",
    "    text : list[str]\n",
    "        A list of strings representing lines of text to process.\n",
    "\n",
    "    Returns\n",
    "    -------\n",
    "    list[str]\n",
    "        A list of strings, each containing a product ID and its associated category.\n",
    "    \"\"\"\n",
    "    result: list[str] = []\n",
    "    # Starts with a capital letter and then lowercase letters\n",
    "    pattern: re.Pattern[str] = re.compile(r\"^[A-Z][a-z]+\")\n",
    "    prod_id: str = \"\"\n",
    "\n",
    "    for line in tqdm(text, desc=\"Processing Text\", unit=\"line\", ncols=100):\n",
    "        line: str = line.strip()\n",
    "        if len(line.split(\",\")) == 1 and not pattern.match(line):\n",
    "            prod_id = line\n",
    "        elif pattern.match(line):\n",
    "            result.append(f\"{prod_id}: {line}\")\n",
    "\n",
    "    return result"
   ]
  },
  {
   "cell_type": "code",
   "execution_count": 4,
   "metadata": {},
   "outputs": [],
   "source": [
    "# fp: str = \"./sample.txt\"\n",
    "fp: str = \"../../data/categories.txt\"\n",
    "\n",
    "with open(fp, \"r\", encoding=\"latin-1\") as f:\n",
    "    texts: list[str] = f.readlines()"
   ]
  },
  {
   "cell_type": "code",
   "execution_count": 5,
   "metadata": {},
   "outputs": [
    {
     "name": "stderr",
     "output_type": "stream",
     "text": [
      "Processing Text: 100%|█████████████████████████████| 7313587/7313587 [00:06<00:00, 1156851.62line/s]\n"
     ]
    }
   ],
   "source": [
    "result: list[str] = process_text(text=texts)"
   ]
  },
  {
   "cell_type": "markdown",
   "metadata": {},
   "source": [
    "### Exploratory Data Analysis (EDA)"
   ]
  },
  {
   "cell_type": "code",
   "execution_count": 6,
   "metadata": {},
   "outputs": [
    {
     "name": "stdout",
     "output_type": "stream",
     "text": [
      "data.shape = (4869346, 2)\n"
     ]
    },
    {
     "data": {
      "text/html": [
       "<div><style>\n",
       ".dataframe > thead > tr,\n",
       ".dataframe > tbody > tr {\n",
       "  text-align: right;\n",
       "  white-space: pre-wrap;\n",
       "}\n",
       "</style>\n",
       "<small>shape: (10, 2)</small><table border=\"1\" class=\"dataframe\"><thead><tr><th>product_id</th><th>product_category</th></tr><tr><td>str</td><td>str</td></tr></thead><tbody><tr><td>&quot;B0000002WR&quot;</td><td>&quot;Music, R&amp;B&quot;</td></tr><tr><td>&quot;0745186378&quot;</td><td>&quot;Books, Literature &amp; Fiction, United States&quot;</td></tr><tr><td>&quot;039527818X&quot;</td><td>&quot;Books, Education &amp; Reference, Words, Language &amp; Grammar, Reading Skills&quot;</td></tr><tr><td>&quot;B00000EWJE&quot;</td><td>&quot;Music, Pop&quot;</td></tr><tr><td>&quot;0879518170&quot;</td><td>&quot;Books, History, Asia, Nepal&quot;</td></tr><tr><td>&quot;B000E1FT8I&quot;</td><td>&quot;Patio, Lawn &amp; Garden, Patio Furniture &amp; Accessories, Decorative Pillows&quot;</td></tr><tr><td>&quot;0892812125&quot;</td><td>&quot;Books, Religion &amp; Spirituality, New Age, Reference&quot;</td></tr><tr><td>&quot;B0007FDR0I&quot;</td><td>&quot;Books&quot;</td></tr><tr><td>&quot;B0006TQU36&quot;</td><td>&quot;Pet Supplies, Cats, Feeding &amp; Watering Supplies, Automatic Feeders&quot;</td></tr><tr><td>&quot;1853673897&quot;</td><td>&quot;Books, History, Ancient, Rome&quot;</td></tr></tbody></table></div>"
      ],
      "text/plain": [
       "shape: (10, 2)\n",
       "┌────────────┬─────────────────────────────────────────────────────────────────────────┐\n",
       "│ product_id ┆ product_category                                                        │\n",
       "│ ---        ┆ ---                                                                     │\n",
       "│ str        ┆ str                                                                     │\n",
       "╞════════════╪═════════════════════════════════════════════════════════════════════════╡\n",
       "│ B0000002WR ┆ Music, R&B                                                              │\n",
       "│ 0745186378 ┆ Books, Literature & Fiction, United States                              │\n",
       "│ 039527818X ┆ Books, Education & Reference, Words, Language & Grammar, Reading Skills │\n",
       "│ B00000EWJE ┆ Music, Pop                                                              │\n",
       "│ 0879518170 ┆ Books, History, Asia, Nepal                                             │\n",
       "│ B000E1FT8I ┆ Patio, Lawn & Garden, Patio Furniture & Accessories, Decorative Pillows │\n",
       "│ 0892812125 ┆ Books, Religion & Spirituality, New Age, Reference                      │\n",
       "│ B0007FDR0I ┆ Books                                                                   │\n",
       "│ B0006TQU36 ┆ Pet Supplies, Cats, Feeding & Watering Supplies, Automatic Feeders      │\n",
       "│ 1853673897 ┆ Books, History, Ancient, Rome                                           │\n",
       "└────────────┴─────────────────────────────────────────────────────────────────────────┘"
      ]
     },
     "execution_count": 6,
     "metadata": {},
     "output_type": "execute_result"
    }
   ],
   "source": [
    "data: pl.DataFrame = (\n",
    "    pl.DataFrame(result)\n",
    "    .select(\n",
    "        pl.col(\"column_0\")\n",
    "        .str.split_exact(\":\", 1)\n",
    "        .struct.rename_fields([\"product_id\", \"product_category\"])\n",
    "    )\n",
    "    .unnest(\"column_0\")\n",
    ").with_columns(product_category=pl.col(\"product_category\").str.strip())\n",
    "\n",
    "# Drop duplicates\n",
    "data = data.unique(subset=[\"product_id\", \"product_category\"])\n",
    "print(f\"{data.shape = }\")\n",
    "data.head(10)"
   ]
  },
  {
   "cell_type": "code",
   "execution_count": 7,
   "metadata": {},
   "outputs": [
    {
     "data": {
      "text/html": [
       "<div><style>\n",
       ".dataframe > thead > tr,\n",
       ".dataframe > tbody > tr {\n",
       "  text-align: right;\n",
       "  white-space: pre-wrap;\n",
       "}\n",
       "</style>\n",
       "<small>shape: (10, 2)</small><table border=\"1\" class=\"dataframe\"><thead><tr><th>product_id</th><th>product_category</th></tr><tr><td>str</td><td>str</td></tr></thead><tbody><tr><td>&quot;B0000002WR&quot;</td><td>&quot;R&amp;B, Music&quot;</td></tr><tr><td>&quot;0745186378&quot;</td><td>&quot;United States, Books,  Literature &amp; Fiction&quot;</td></tr><tr><td>&quot;039527818X&quot;</td><td>&quot;Books,  Language &amp; Grammar,  Education &amp; Reference,  Reading Skills,  Words&quot;</td></tr><tr><td>&quot;B00000EWJE&quot;</td><td>&quot;Pop, Music&quot;</td></tr><tr><td>&quot;0879518170&quot;</td><td>&quot;Nepal,  Asia, Books,  History&quot;</td></tr><tr><td>&quot;B000E1FT8I&quot;</td><td>&quot;Patio,  Decorative Pillows,  Lawn &amp; Garden,  Patio Furniture &amp; Accessories&quot;</td></tr><tr><td>&quot;0892812125&quot;</td><td>&quot;Reference,  New Age, Books,  Religion &amp; Spirituality&quot;</td></tr><tr><td>&quot;B0007FDR0I&quot;</td><td>&quot;Books&quot;</td></tr><tr><td>&quot;B0006TQU36&quot;</td><td>&quot;Automatic Feeders,  Cats,  Feeding &amp; Watering Supplies, Pet Supplies&quot;</td></tr><tr><td>&quot;1853673897&quot;</td><td>&quot;Ancient,  Rome, Books,  History&quot;</td></tr></tbody></table></div>"
      ],
      "text/plain": [
       "shape: (10, 2)\n",
       "┌────────────┬─────────────────────────────────────────────────────────────────────────────┐\n",
       "│ product_id ┆ product_category                                                            │\n",
       "│ ---        ┆ ---                                                                         │\n",
       "│ str        ┆ str                                                                         │\n",
       "╞════════════╪═════════════════════════════════════════════════════════════════════════════╡\n",
       "│ B0000002WR ┆ R&B, Music                                                                  │\n",
       "│ 0745186378 ┆ United States, Books,  Literature & Fiction                                 │\n",
       "│ 039527818X ┆ Books,  Language & Grammar,  Education & Reference,  Reading Skills,  Words │\n",
       "│ B00000EWJE ┆ Pop, Music                                                                  │\n",
       "│ 0879518170 ┆ Nepal,  Asia, Books,  History                                               │\n",
       "│ B000E1FT8I ┆ Patio,  Decorative Pillows,  Lawn & Garden,  Patio Furniture & Accessories  │\n",
       "│ 0892812125 ┆ Reference,  New Age, Books,  Religion & Spirituality                        │\n",
       "│ B0007FDR0I ┆ Books                                                                       │\n",
       "│ B0006TQU36 ┆ Automatic Feeders,  Cats,  Feeding & Watering Supplies, Pet Supplies        │\n",
       "│ 1853673897 ┆ Ancient,  Rome, Books,  History                                             │\n",
       "└────────────┴─────────────────────────────────────────────────────────────────────────────┘"
      ]
     },
     "execution_count": 7,
     "metadata": {},
     "output_type": "execute_result"
    }
   ],
   "source": [
    "# Clean up the data\n",
    "data = data.with_columns(\n",
    "    product_category=pl.col(\"product_category\").map_elements(\n",
    "        lambda x: \", \".join(set(x.split(\",\"))).strip()\n",
    "    )\n",
    ")\n",
    "\n",
    "data.head(10)"
   ]
  },
  {
   "cell_type": "code",
   "execution_count": 8,
   "metadata": {},
   "outputs": [
    {
     "data": {
      "text/html": [
       "<div><style>\n",
       ".dataframe > thead > tr,\n",
       ".dataframe > tbody > tr {\n",
       "  text-align: right;\n",
       "  white-space: pre-wrap;\n",
       "}\n",
       "</style>\n",
       "<small>shape: (5, 2)</small><table border=\"1\" class=\"dataframe\"><thead><tr><th>product_id</th><th>product_category</th></tr><tr><td>str</td><td>str</td></tr></thead><tbody><tr><td>&quot;0793820685&quot;</td><td>&quot;Crafts,  Pets &amp; Animal Care, Books,  Reptiles &amp; Amphibians,  Hobbies &amp; Home Science &amp; Math, Books,  Reptiles &amp; Amphibians,  Animals,  Biological Sciences&quot;</td></tr><tr><td>&quot;B00000K23F&quot;</td><td>&quot;Music&quot;</td></tr><tr><td>&quot;0791449521&quot;</td><td>&quot;Books,  Politics &amp; Social Sciences,  Discrimination &amp; Racism,  Sociology,  Race Relations Books,  Specific Demographics,  Politics &amp; Social Sciences,  Social Sciences,  Ethnic Studies Mortgages,  Business &amp; Investing,  Real Estate, Books Business &amp; Investing,  Money &amp; Monetary Policy, Books,  Economics&quot;</td></tr><tr><td>&quot;B00004LMD0&quot;</td><td>&quot;Latin Music, Music World Music, Music&quot;</td></tr><tr><td>&quot;B00004YZTC&quot;</td><td>&quot;Pop, Music Soundtracks, Music R&amp;B, Music&quot;</td></tr></tbody></table></div>"
      ],
      "text/plain": [
       "shape: (5, 2)\n",
       "┌────────────┬─────────────────────────────────────────────────────────────────────────────────────┐\n",
       "│ product_id ┆ product_category                                                                    │\n",
       "│ ---        ┆ ---                                                                                 │\n",
       "│ str        ┆ str                                                                                 │\n",
       "╞════════════╪═════════════════════════════════════════════════════════════════════════════════════╡\n",
       "│ 0793820685 ┆ Crafts,  Pets & Animal Care, Books,  Reptiles & Amphibians,  Hobbies & Home Science │\n",
       "│            ┆ & Math, Books,  Reptiles & Amphibians,  Animals,  Biological Sciences               │\n",
       "│ B00000K23F ┆ Music                                                                               │\n",
       "│ 0791449521 ┆ Books,  Politics & Social Sciences,  Discrimination & Racism,  Sociology,  Race     │\n",
       "│            ┆ Relations Books,  Specific Demographics,  Politics & Social Sciences,  Social       │\n",
       "│            ┆ Sciences,  Ethnic Studies Mortgages,  Business & Investing,  Real Estate, Books     │\n",
       "│            ┆ Business & Investing,  Money & Monetary Policy, Books,  Economics                   │\n",
       "│ B00004LMD0 ┆ Latin Music, Music World Music, Music                                               │\n",
       "│ B00004YZTC ┆ Pop, Music Soundtracks, Music R&B, Music                                            │\n",
       "└────────────┴─────────────────────────────────────────────────────────────────────────────────────┘"
      ]
     },
     "execution_count": 8,
     "metadata": {},
     "output_type": "execute_result"
    }
   ],
   "source": [
    "# data_grpby: pl.DataFrame = data.group_by(\"product_id\").agg(\n",
    "#     pl.col(\"product_category\").explode()\n",
    "# )\n",
    "\n",
    "# OR\n",
    "data_grpby: pl.DataFrame = data.groupby(\"product_id\").agg(\n",
    "    pl.col(\"product_category\").map_elements(lambda x: \" \".join(x))\n",
    ")\n",
    "\n",
    "# OR\n",
    "# data_grpby: pl.DataFrame = data.group_by(\"product_id\").agg((pl.struct(pl.col(\"product_category\"))))\n",
    "data_grpby.head()"
   ]
  },
  {
   "cell_type": "code",
   "execution_count": 9,
   "metadata": {},
   "outputs": [
    {
     "data": {
      "image/png": "[encoded data removed]",
      "text/plain": [
       "<Figure size 1000x700 with 1 Axes>"
      ]
     },
     "metadata": {},
     "output_type": "display_data"
    }
   ],
   "source": [
    "N: int = 10\n",
    "d: pl.DataFrame = (\n",
    "    data_grpby.select(\"product_category\").to_series().value_counts(sort=True).head(N)\n",
    ")\n",
    "plt.figure(figsize=(10, 7))\n",
    "plt.bar(d[\"product_category\"], d[\"count\"])\n",
    "plt.xticks(rotation=90)\n",
    "plt.title(f\"Top {N} Product Categories\")\n",
    "plt.tight_layout()\n",
    "plt.show()"
   ]
  },
  {
   "cell_type": "code",
   "execution_count": 10,
   "metadata": {},
   "outputs": [
    {
     "data": {
      "text/html": [
       "<div><style>\n",
       ".dataframe > thead > tr,\n",
       ".dataframe > tbody > tr {\n",
       "  text-align: right;\n",
       "  white-space: pre-wrap;\n",
       "}\n",
       "</style>\n",
       "<small>shape: (1, 2)</small><table border=\"1\" class=\"dataframe\"><thead><tr><th>product_id</th><th>product_category</th></tr><tr><td>str</td><td>str</td></tr></thead><tbody><tr><td>&quot;B000068VAX&quot;</td><td>&quot;Children&#x27;s, Software,  Art &amp; Creativity Children&#x27;s, Software,  Early Learning&quot;</td></tr></tbody></table></div>"
      ],
      "text/plain": [
       "shape: (1, 2)\n",
       "┌────────────┬───────────────────────────────────────────────────────────────────────────────┐\n",
       "│ product_id ┆ product_category                                                              │\n",
       "│ ---        ┆ ---                                                                           │\n",
       "│ str        ┆ str                                                                           │\n",
       "╞════════════╪═══════════════════════════════════════════════════════════════════════════════╡\n",
       "│ B000068VAX ┆ Children's, Software,  Art & Creativity Children's, Software,  Early Learning │\n",
       "└────────────┴───────────────────────────────────────────────────────────────────────────────┘"
      ]
     },
     "execution_count": 10,
     "metadata": {},
     "output_type": "execute_result"
    }
   ],
   "source": [
    "data_grpby.filter(pl.col(\"product_id\").eq(\"B000068VAX\"))"
   ]
  },
  {
   "cell_type": "code",
   "execution_count": 11,
   "metadata": {},
   "outputs": [],
   "source": [
    "import polars as pl\n",
    "from typing import Generator\n",
    "\n",
    "\n",
    "def parse_keys_values(filename: str) -> Generator[dict[str, str], None, None]:\n",
    "    \"\"\"\n",
    "    Parse key-value pairs from a file.\n",
    "\n",
    "    Parameters\n",
    "    ----------\n",
    "    filename : str\n",
    "        The path to the file to be parsed.\n",
    "\n",
    "    Yields\n",
    "    ------\n",
    "    dict[str, str]\n",
    "        A dictionary containing key-value pairs parsed from the file.\n",
    "\n",
    "    \"\"\"\n",
    "    entry: dict[str, str] = {}\n",
    "    f = open(filename, \"rb\")\n",
    "\n",
    "    # Iterate over all lines in the file.\n",
    "    for l in f:\n",
    "        l = l.strip()\n",
    "        # The key/value pairs are separated by a colon.\n",
    "        colonPos: int = l.find(b\":\")\n",
    "        if colonPos == -1:\n",
    "            yield entry\n",
    "            entry = {}\n",
    "            continue\n",
    "        key: str = l[:colonPos].decode(\"latin-1\")\n",
    "        value: str = l[colonPos + 2 :].decode(\"latin-1\")\n",
    "        entry[key] = value\n",
    "    yield entry\n",
    "\n",
    "\n",
    "def read_reviews(path: str, num: int = -1) -> pl.DataFrame:\n",
    "    \"\"\"\n",
    "    Read reviews from a file and return them as a Polars DataFrame.\n",
    "\n",
    "    Parameters\n",
    "    ----------\n",
    "    path : str\n",
    "        The path to the file containing the reviews.\n",
    "    num : int, optional\n",
    "        The number of reviews to read. If -1, read all reviews. Default is -1.\n",
    "\n",
    "    Returns\n",
    "    -------\n",
    "    pl.DataFrame\n",
    "        A Polars DataFrame containing the parsed reviews.\n",
    "\n",
    "    \"\"\"\n",
    "    i: int = 0\n",
    "    df: dict[int, dict[str, str]] = {}\n",
    "    for d in parse_keys_values(path):\n",
    "        df[i] = d\n",
    "        i += 1\n",
    "        if i == num:\n",
    "            break\n",
    "    result: pl.DataFrame = pl.DataFrame([x for x in df.values()])\n",
    "    return result"
   ]
  },
  {
   "cell_type": "code",
   "execution_count": 12,
   "metadata": {},
   "outputs": [
    {
     "data": {
      "text/plain": [
       "polars.config.Config"
      ]
     },
     "execution_count": 12,
     "metadata": {},
     "output_type": "execute_result"
    }
   ],
   "source": [
    "# Set verbosity level\n",
    "pl.Config.set_fmt_str_lengths(100)"
   ]
  },
  {
   "cell_type": "code",
   "execution_count": 13,
   "metadata": {},
   "outputs": [
    {
     "name": "stdout",
     "output_type": "stream",
     "text": [
      "df_reviews.shape = (95085, 10)\n"
     ]
    },
    {
     "data": {
      "text/html": [
       "<div><style>\n",
       ".dataframe > thead > tr,\n",
       ".dataframe > tbody > tr {\n",
       "  text-align: right;\n",
       "  white-space: pre-wrap;\n",
       "}\n",
       "</style>\n",
       "<small>shape: (2, 10)</small><table border=\"1\" class=\"dataframe\"><thead><tr><th>product/productId</th><th>product/title</th><th>product/price</th><th>review/userId</th><th>review/profileName</th><th>review/helpfulness</th><th>review/score</th><th>review/time</th><th>review/summary</th><th>review/text</th></tr><tr><td>str</td><td>str</td><td>str</td><td>str</td><td>str</td><td>str</td><td>f32</td><td>str</td><td>str</td><td>str</td></tr></thead><tbody><tr><td>&quot;B000068VBQ&quot;</td><td>&quot;Fisher-Price Rescue Heroes: Lava Landslide&quot;</td><td>&quot;8.88&quot;</td><td>&quot;unknown&quot;</td><td>&quot;unknown&quot;</td><td>&quot;11/11&quot;</td><td>2.0</td><td>&quot;1042070400&quot;</td><td>&quot;Requires too much coordination&quot;</td><td>&quot;I bought this software for my 5 year old. He has a couple of the other RH software games and he lik…</td></tr><tr><td>&quot;B000068VBQ&quot;</td><td>&quot;Fisher-Price Rescue Heroes: Lava Landslide&quot;</td><td>&quot;8.88&quot;</td><td>&quot;unknown&quot;</td><td>&quot;unknown&quot;</td><td>&quot;9/10&quot;</td><td>2.0</td><td>&quot;1041552000&quot;</td><td>&quot;You can&#x27;t pick which parts you want to play!&quot;</td><td>&quot;I got this for my 4 year old son because he really likes Rescue Heroes and it sounded like it would…</td></tr></tbody></table></div>"
      ],
      "text/plain": [
       "shape: (2, 10)\n",
       "┌─────────┬─────────┬─────────┬─────────┬─────────┬─────────┬─────────┬─────────┬─────────┬────────┐\n",
       "│ product ┆ product ┆ product ┆ review/ ┆ review/ ┆ review/ ┆ review/ ┆ review/ ┆ review/ ┆ review │\n",
       "│ /produc ┆ /title  ┆ /price  ┆ userId  ┆ profile ┆ helpful ┆ score   ┆ time    ┆ summary ┆ /text  │\n",
       "│ tId     ┆ ---     ┆ ---     ┆ ---     ┆ Name    ┆ ness    ┆ ---     ┆ ---     ┆ ---     ┆ ---    │\n",
       "│ ---     ┆ str     ┆ str     ┆ str     ┆ ---     ┆ ---     ┆ f32     ┆ str     ┆ str     ┆ str    │\n",
       "│ str     ┆         ┆         ┆         ┆ str     ┆ str     ┆         ┆         ┆         ┆        │\n",
       "╞═════════╪═════════╪═════════╪═════════╪═════════╪═════════╪═════════╪═════════╪═════════╪════════╡\n",
       "│ B000068 ┆ Fisher- ┆ 8.88    ┆ unknown ┆ unknown ┆ 11/11   ┆ 2.0     ┆ 1042070 ┆ Require ┆ I      │\n",
       "│ VBQ     ┆ Price   ┆         ┆         ┆         ┆         ┆         ┆ 400     ┆ s too   ┆ bought │\n",
       "│         ┆ Rescue  ┆         ┆         ┆         ┆         ┆         ┆         ┆ much    ┆ this   │\n",
       "│         ┆ Heroes: ┆         ┆         ┆         ┆         ┆         ┆         ┆ coordin ┆ softwa │\n",
       "│         ┆ Lava    ┆         ┆         ┆         ┆         ┆         ┆         ┆ ation   ┆ re for │\n",
       "│         ┆ Landsli ┆         ┆         ┆         ┆         ┆         ┆         ┆         ┆ my 5   │\n",
       "│         ┆ de      ┆         ┆         ┆         ┆         ┆         ┆         ┆         ┆ year   │\n",
       "│         ┆         ┆         ┆         ┆         ┆         ┆         ┆         ┆         ┆ old.   │\n",
       "│         ┆         ┆         ┆         ┆         ┆         ┆         ┆         ┆         ┆ He has │\n",
       "│         ┆         ┆         ┆         ┆         ┆         ┆         ┆         ┆         ┆ a      │\n",
       "│         ┆         ┆         ┆         ┆         ┆         ┆         ┆         ┆         ┆ couple │\n",
       "│         ┆         ┆         ┆         ┆         ┆         ┆         ┆         ┆         ┆ of the │\n",
       "│         ┆         ┆         ┆         ┆         ┆         ┆         ┆         ┆         ┆ other  │\n",
       "│         ┆         ┆         ┆         ┆         ┆         ┆         ┆         ┆         ┆ RH sof │\n",
       "│         ┆         ┆         ┆         ┆         ┆         ┆         ┆         ┆         ┆ tware  │\n",
       "│         ┆         ┆         ┆         ┆         ┆         ┆         ┆         ┆         ┆ games  │\n",
       "│         ┆         ┆         ┆         ┆         ┆         ┆         ┆         ┆         ┆ and he │\n",
       "│         ┆         ┆         ┆         ┆         ┆         ┆         ┆         ┆         ┆ like…  │\n",
       "│ B000068 ┆ Fisher- ┆ 8.88    ┆ unknown ┆ unknown ┆ 9/10    ┆ 2.0     ┆ 1041552 ┆ You     ┆ I got  │\n",
       "│ VBQ     ┆ Price   ┆         ┆         ┆         ┆         ┆         ┆ 000     ┆ can't   ┆ this   │\n",
       "│         ┆ Rescue  ┆         ┆         ┆         ┆         ┆         ┆         ┆ pick    ┆ for my │\n",
       "│         ┆ Heroes: ┆         ┆         ┆         ┆         ┆         ┆         ┆ which   ┆ 4 year │\n",
       "│         ┆ Lava    ┆         ┆         ┆         ┆         ┆         ┆         ┆ parts   ┆ old    │\n",
       "│         ┆ Landsli ┆         ┆         ┆         ┆         ┆         ┆         ┆ you     ┆ son    │\n",
       "│         ┆ de      ┆         ┆         ┆         ┆         ┆         ┆         ┆ want to ┆ becaus │\n",
       "│         ┆         ┆         ┆         ┆         ┆         ┆         ┆         ┆ play!   ┆ e he   │\n",
       "│         ┆         ┆         ┆         ┆         ┆         ┆         ┆         ┆         ┆ really │\n",
       "│         ┆         ┆         ┆         ┆         ┆         ┆         ┆         ┆         ┆ likes  │\n",
       "│         ┆         ┆         ┆         ┆         ┆         ┆         ┆         ┆         ┆ Rescue │\n",
       "│         ┆         ┆         ┆         ┆         ┆         ┆         ┆         ┆         ┆ Heroes │\n",
       "│         ┆         ┆         ┆         ┆         ┆         ┆         ┆         ┆         ┆ and it │\n",
       "│         ┆         ┆         ┆         ┆         ┆         ┆         ┆         ┆         ┆ sounde │\n",
       "│         ┆         ┆         ┆         ┆         ┆         ┆         ┆         ┆         ┆ d like │\n",
       "│         ┆         ┆         ┆         ┆         ┆         ┆         ┆         ┆         ┆ it     │\n",
       "│         ┆         ┆         ┆         ┆         ┆         ┆         ┆         ┆         ┆ would  │\n",
       "│         ┆         ┆         ┆         ┆         ┆         ┆         ┆         ┆         ┆ …      │\n",
       "└─────────┴─────────┴─────────┴─────────┴─────────┴─────────┴─────────┴─────────┴─────────┴────────┘"
      ]
     },
     "execution_count": 13,
     "metadata": {},
     "output_type": "execute_result"
    }
   ],
   "source": [
    "fp: str = \"../../data/Software.txt\"\n",
    "df_reviews: pl.DataFrame = read_reviews(fp).with_columns(\n",
    "    pl.col(\"review/score\").cast(pl.Float32).alias(\"review/score\")\n",
    ")\n",
    "print(f\"{df_reviews.shape = }\")\n",
    "df_reviews.head(2)"
   ]
  },
  {
   "cell_type": "code",
   "execution_count": 14,
   "metadata": {},
   "outputs": [
    {
     "name": "stdout",
     "output_type": "stream",
     "text": [
      "merged_data.shape = (84992, 11)\n"
     ]
    },
    {
     "data": {
      "text/html": [
       "<div><style>\n",
       ".dataframe > thead > tr,\n",
       ".dataframe > tbody > tr {\n",
       "  text-align: right;\n",
       "  white-space: pre-wrap;\n",
       "}\n",
       "</style>\n",
       "<small>shape: (10, 11)</small><table border=\"1\" class=\"dataframe\"><thead><tr><th>product/productId</th><th>product/title</th><th>product/price</th><th>review/userId</th><th>review/profileName</th><th>review/helpfulness</th><th>review/score</th><th>review/time</th><th>review/summary</th><th>review/text</th><th>product_category</th></tr><tr><td>str</td><td>str</td><td>str</td><td>str</td><td>str</td><td>str</td><td>f32</td><td>str</td><td>str</td><td>str</td><td>str</td></tr></thead><tbody><tr><td>&quot;B0002LXRXY&quot;</td><td>&quot;ACT! 2005 [Old Version]&quot;</td><td>&quot;69.95&quot;</td><td>&quot;A1Y1DGWO5VHFFA&quot;</td><td>&quot;Fred24&quot;</td><td>&quot;14/16&quot;</td><td>3.0</td><td>&quot;1093910400&quot;</td><td>&quot;Needs Work&quot;</td><td>&quot;That first review above has got to be from Best Software. This release is far from excellent. Openi…</td><td>&quot;Contact Management, Software,  Business &amp; Office&quot;</td></tr><tr><td>&quot;B000EMA356&quot;</td><td>&quot;The Word Bible Collection Suite&quot;</td><td>&quot;unknown&quot;</td><td>&quot;A1RT9Q6TQGDARE&quot;</td><td>&quot;Michael Silverman &quot;Mike&quot;&quot;</td><td>&quot;1/1&quot;</td><td>1.0</td><td>&quot;1170028800&quot;</td><td>&quot;Not as advertised&quot;</td><td>&quot;Although the software is pretty good. It came with neither the Christian Greeting Card software of …</td><td>&quot;Home &amp; Hobbies, Software Software,  Religion,  Education &amp; Reference&quot;</td></tr><tr><td>&quot;B00081G316&quot;</td><td>&quot;Adobe GoLive CS2 [Old Version]&quot;</td><td>&quot;unknown&quot;</td><td>&quot;A3QI2UWSL6K00R&quot;</td><td>&quot;James Welch&quot;</td><td>&quot;6/8&quot;</td><td>1.0</td><td>&quot;1149552000&quot;</td><td>&quot;Don&#x27;t Waste Your Money on This Software&quot;</td><td>&quot;Adobe GoLive CS2 is easily the worst application I&#x27;ve used in years. I went through the Adobe GoLiv…</td><td>&quot;Software,  Programming &amp; Web Development,  Web Development,  Professional Development Software,  Il…</td></tr><tr><td>&quot;B0006LCHX6&quot;</td><td>&quot;Panda Titanium AntiVirus 2005&quot;</td><td>&quot;unknown&quot;</td><td>&quot;AXH9OLF9PGM7H&quot;</td><td>&quot;holodoctor1&quot;</td><td>&quot;10/11&quot;</td><td>2.0</td><td>&quot;1103846400&quot;</td><td>&quot;Slowed computer and BAD customer support&quot;</td><td>&quot;I bought this Panda product after it was recommended by a computer supply store. I had always had M…</td><td>&quot;Networking, Software,  Security Computer Security, Software Software,  Utilities&quot;</td></tr><tr><td>&quot;B000BSEWFA&quot;</td><td>&quot;Garmin City Navigator for Detailed Maps of Brazil (microSD/SD Card)&quot;</td><td>&quot;45.00&quot;</td><td>&quot;AQ963H2HGN0MC&quot;</td><td>&quot;Dr. E. De FLOR &quot;traveler on a string&quot;&quot;</td><td>&quot;14/14&quot;</td><td>3.0</td><td>&quot;1181174400&quot;</td><td>&quot;Garmin City Navigator NT 9 SD Data Card for Garmin Units, Spain and Portugal (010-10698-00) (Purcha…</td><td>&quot;This review refers to NT version 9 which I have used for 4 weeks in May/june 2007 to drive both in …</td><td>&quot;Language &amp; Travel, Software&quot;</td></tr><tr><td>&quot;B00002S5UF&quot;</td><td>&quot;InoculateIT Workgroup Advanced Edition 4.53 (1-user Client Agent)&quot;</td><td>&quot;unknown&quot;</td><td>&quot;unknown&quot;</td><td>&quot;unknown&quot;</td><td>&quot;0/0&quot;</td><td>5.0</td><td>&quot;1001980800&quot;</td><td>&quot;best antivirus&quot;</td><td>&quot;I have had other antivirus programs like mcafee and nortons but non of them are as good as this pro…</td><td>&quot;Computer Security,  Internet Security, Software Computer Security,  Antivirus, Software&quot;</td></tr><tr><td>&quot;B000GEQ0HW&quot;</td><td>&quot;Nikon Capture NX Software for Windows and Mac&quot;</td><td>&quot;unknown&quot;</td><td>&quot;A366QJUHRJP3IU&quot;</td><td>&quot;Richard Martin &quot;Kofy&quot;&quot;</td><td>&quot;3/4&quot;</td><td>5.0</td><td>&quot;1183593600&quot;</td><td>&quot;Capture NX in realtime&quot;</td><td>&quot;After recently purchasing Capture NX I have found that it opens up a whole new set of tools for enh…</td><td>&quot;Camera &amp; Photo, Electronics,  Digital Camera Accessories,  Accessories Photo Editing, Software&quot;</td></tr><tr><td>&quot;B00005JL8K&quot;</td><td>&quot;3d Space Station Adventure (2001)&quot;</td><td>&quot;unknown&quot;</td><td>&quot;A3SJYAL87JZECT&quot;</td><td>&quot;Darke Retribution&quot;</td><td>&quot;22/32&quot;</td><td>1.0</td><td>&quot;1289952000&quot;</td><td>&quot;Begins Making You Confused...Gets Boring Fast...&quot;</td><td>&quot;Well this is going to be an honest review of this movie. This is actually the first negative review…</td><td>&quot;Movies, Movies &amp; TV Children&#x27;s, Software&quot;</td></tr><tr><td>&quot;B0003009IK&quot;</td><td>&quot;ScanSoft Dragon NaturallySpeaking 8 Preferred [Old Version]&quot;</td><td>&quot;33.88&quot;</td><td>&quot;A1OSSMGR0EY3S1&quot;</td><td>&quot;Putney Mountain&quot;</td><td>&quot;26/42&quot;</td><td>1.0</td><td>&quot;1105747200&quot;</td><td>&quot;Worst possible software.&quot;</td><td>&quot;What makes it so bad? It takes a bunch of your time before you realize its a &quot;no go.&quot; So you are ou…</td><td>&quot;Software,  Utilities&quot;</td></tr><tr><td>&quot;B0000E6NK9&quot;</td><td>&quot;Mac OS X 10.3 Panther [OLD VERSION]&quot;</td><td>&quot;unknown&quot;</td><td>&quot;A8OSCKTWEP40E&quot;</td><td>&quot;Sue B. Thomes&quot;</td><td>&quot;0/0&quot;</td><td>5.0</td><td>&quot;1235606400&quot;</td><td>&quot;Mac OS X 10.3 Panther [OLD VERSION&quot;</td><td>&quot;Product was received in a timely manner in good condition. No problems encountered. I would buy fro…</td><td>&quot;Operating Systems,  Mac Operating Systems, Software Operating Systems, Software,  Microsoft Windows…</td></tr></tbody></table></div>"
      ],
      "text/plain": [
       "shape: (10, 11)\n",
       "┌────────┬────────┬────────┬────────┬────────┬────────┬────────┬────────┬────────┬────────┬────────┐\n",
       "│ produc ┆ produc ┆ produc ┆ review ┆ review ┆ review ┆ review ┆ review ┆ review ┆ review ┆ produc │\n",
       "│ t/prod ┆ t/titl ┆ t/pric ┆ /userI ┆ /profi ┆ /helpf ┆ /score ┆ /time  ┆ /summa ┆ /text  ┆ t_cate │\n",
       "│ uctId  ┆ e      ┆ e      ┆ d      ┆ leName ┆ ulness ┆ ---    ┆ ---    ┆ ry     ┆ ---    ┆ gory   │\n",
       "│ ---    ┆ ---    ┆ ---    ┆ ---    ┆ ---    ┆ ---    ┆ f32    ┆ str    ┆ ---    ┆ str    ┆ ---    │\n",
       "│ str    ┆ str    ┆ str    ┆ str    ┆ str    ┆ str    ┆        ┆        ┆ str    ┆        ┆ str    │\n",
       "╞════════╪════════╪════════╪════════╪════════╪════════╪════════╪════════╪════════╪════════╪════════╡\n",
       "│ B0002L ┆ ACT!   ┆ 69.95  ┆ A1Y1DG ┆ Fred24 ┆ 14/16  ┆ 3.0    ┆ 109391 ┆ Needs  ┆ That   ┆ Contac │\n",
       "│ XRXY   ┆ 2005   ┆        ┆ WO5VHF ┆        ┆        ┆        ┆ 0400   ┆ Work   ┆ first  ┆ t Mana │\n",
       "│        ┆ [Old   ┆        ┆ FA     ┆        ┆        ┆        ┆        ┆        ┆ review ┆ gement │\n",
       "│        ┆ Versio ┆        ┆        ┆        ┆        ┆        ┆        ┆        ┆ above  ┆ , Soft │\n",
       "│        ┆ n]     ┆        ┆        ┆        ┆        ┆        ┆        ┆        ┆ has    ┆ ware,  │\n",
       "│        ┆        ┆        ┆        ┆        ┆        ┆        ┆        ┆        ┆ got to ┆ Busine │\n",
       "│        ┆        ┆        ┆        ┆        ┆        ┆        ┆        ┆        ┆ be     ┆ ss &   │\n",
       "│        ┆        ┆        ┆        ┆        ┆        ┆        ┆        ┆        ┆ from   ┆ Office │\n",
       "│        ┆        ┆        ┆        ┆        ┆        ┆        ┆        ┆        ┆ Best   ┆        │\n",
       "│        ┆        ┆        ┆        ┆        ┆        ┆        ┆        ┆        ┆ Softwa ┆        │\n",
       "│        ┆        ┆        ┆        ┆        ┆        ┆        ┆        ┆        ┆ re.    ┆        │\n",
       "│        ┆        ┆        ┆        ┆        ┆        ┆        ┆        ┆        ┆ This   ┆        │\n",
       "│        ┆        ┆        ┆        ┆        ┆        ┆        ┆        ┆        ┆ releas ┆        │\n",
       "│        ┆        ┆        ┆        ┆        ┆        ┆        ┆        ┆        ┆ e is   ┆        │\n",
       "│        ┆        ┆        ┆        ┆        ┆        ┆        ┆        ┆        ┆ far    ┆        │\n",
       "│        ┆        ┆        ┆        ┆        ┆        ┆        ┆        ┆        ┆ from   ┆        │\n",
       "│        ┆        ┆        ┆        ┆        ┆        ┆        ┆        ┆        ┆ excell ┆        │\n",
       "│        ┆        ┆        ┆        ┆        ┆        ┆        ┆        ┆        ┆ ent.   ┆        │\n",
       "│        ┆        ┆        ┆        ┆        ┆        ┆        ┆        ┆        ┆ Openin ┆        │\n",
       "│        ┆        ┆        ┆        ┆        ┆        ┆        ┆        ┆        ┆ …      ┆        │\n",
       "│ B000EM ┆ The    ┆ unknow ┆ A1RT9Q ┆ Michae ┆ 1/1    ┆ 1.0    ┆ 117002 ┆ Not as ┆ Althou ┆ Home & │\n",
       "│ A356   ┆ Word   ┆ n      ┆ 6TQGDA ┆ l Silv ┆        ┆        ┆ 8800   ┆ advert ┆ gh the ┆ Hobbie │\n",
       "│        ┆ Bible  ┆        ┆ RE     ┆ erman  ┆        ┆        ┆        ┆ ised   ┆ softwa ┆ s, Sof │\n",
       "│        ┆ Collec ┆        ┆        ┆ \"Mike\" ┆        ┆        ┆        ┆        ┆ re is  ┆ tware  │\n",
       "│        ┆ tion   ┆        ┆        ┆        ┆        ┆        ┆        ┆        ┆ pretty ┆ Softwa │\n",
       "│        ┆ Suite  ┆        ┆        ┆        ┆        ┆        ┆        ┆        ┆ good.  ┆ re,    │\n",
       "│        ┆        ┆        ┆        ┆        ┆        ┆        ┆        ┆        ┆ It     ┆ Religi │\n",
       "│        ┆        ┆        ┆        ┆        ┆        ┆        ┆        ┆        ┆ came   ┆ on,    │\n",
       "│        ┆        ┆        ┆        ┆        ┆        ┆        ┆        ┆        ┆ with   ┆ Educat │\n",
       "│        ┆        ┆        ┆        ┆        ┆        ┆        ┆        ┆        ┆ neithe ┆ ion &  │\n",
       "│        ┆        ┆        ┆        ┆        ┆        ┆        ┆        ┆        ┆ r the  ┆ Refere │\n",
       "│        ┆        ┆        ┆        ┆        ┆        ┆        ┆        ┆        ┆ Christ ┆ nce    │\n",
       "│        ┆        ┆        ┆        ┆        ┆        ┆        ┆        ┆        ┆ ian    ┆        │\n",
       "│        ┆        ┆        ┆        ┆        ┆        ┆        ┆        ┆        ┆ Greeti ┆        │\n",
       "│        ┆        ┆        ┆        ┆        ┆        ┆        ┆        ┆        ┆ ng     ┆        │\n",
       "│        ┆        ┆        ┆        ┆        ┆        ┆        ┆        ┆        ┆ Card   ┆        │\n",
       "│        ┆        ┆        ┆        ┆        ┆        ┆        ┆        ┆        ┆ softwa ┆        │\n",
       "│        ┆        ┆        ┆        ┆        ┆        ┆        ┆        ┆        ┆ re of  ┆        │\n",
       "│        ┆        ┆        ┆        ┆        ┆        ┆        ┆        ┆        ┆ t…     ┆        │\n",
       "│ B00081 ┆ Adobe  ┆ unknow ┆ A3QI2U ┆ James  ┆ 6/8    ┆ 1.0    ┆ 114955 ┆ Don't  ┆ Adobe  ┆ Softwa │\n",
       "│ G316   ┆ GoLive ┆ n      ┆ WSL6K0 ┆ Welch  ┆        ┆        ┆ 2000   ┆ Waste  ┆ GoLive ┆ re,    │\n",
       "│        ┆ CS2    ┆        ┆ 0R     ┆        ┆        ┆        ┆        ┆ Your   ┆ CS2 is ┆ Progra │\n",
       "│        ┆ [Old   ┆        ┆        ┆        ┆        ┆        ┆        ┆ Money  ┆ easily ┆ mming  │\n",
       "│        ┆ Versio ┆        ┆        ┆        ┆        ┆        ┆        ┆ on     ┆ the    ┆ & Web  │\n",
       "│        ┆ n]     ┆        ┆        ┆        ┆        ┆        ┆        ┆ This   ┆ worst  ┆ Develo │\n",
       "│        ┆        ┆        ┆        ┆        ┆        ┆        ┆        ┆ Softwa ┆ applic ┆ pment, │\n",
       "│        ┆        ┆        ┆        ┆        ┆        ┆        ┆        ┆ re     ┆ ation  ┆ Web    │\n",
       "│        ┆        ┆        ┆        ┆        ┆        ┆        ┆        ┆        ┆ I've   ┆ Develo │\n",
       "│        ┆        ┆        ┆        ┆        ┆        ┆        ┆        ┆        ┆ used   ┆ pment, │\n",
       "│        ┆        ┆        ┆        ┆        ┆        ┆        ┆        ┆        ┆ in     ┆ Profes │\n",
       "│        ┆        ┆        ┆        ┆        ┆        ┆        ┆        ┆        ┆ years. ┆ sional │\n",
       "│        ┆        ┆        ┆        ┆        ┆        ┆        ┆        ┆        ┆ I went ┆ Develo │\n",
       "│        ┆        ┆        ┆        ┆        ┆        ┆        ┆        ┆        ┆ throug ┆ pment  │\n",
       "│        ┆        ┆        ┆        ┆        ┆        ┆        ┆        ┆        ┆ h the  ┆ Softwa │\n",
       "│        ┆        ┆        ┆        ┆        ┆        ┆        ┆        ┆        ┆ Adobe  ┆ re,    │\n",
       "│        ┆        ┆        ┆        ┆        ┆        ┆        ┆        ┆        ┆ GoLive ┆ Ill…   │\n",
       "│        ┆        ┆        ┆        ┆        ┆        ┆        ┆        ┆        ┆ …      ┆        │\n",
       "│ B0006L ┆ Panda  ┆ unknow ┆ AXH9OL ┆ holodo ┆ 10/11  ┆ 2.0    ┆ 110384 ┆ Slowed ┆ I      ┆ Networ │\n",
       "│ CHX6   ┆ Titani ┆ n      ┆ F9PGM7 ┆ ctor1  ┆        ┆        ┆ 6400   ┆ comput ┆ bought ┆ king,  │\n",
       "│        ┆ um Ant ┆        ┆ H      ┆        ┆        ┆        ┆        ┆ er and ┆ this   ┆ Softwa │\n",
       "│        ┆ iVirus ┆        ┆        ┆        ┆        ┆        ┆        ┆ BAD    ┆ Panda  ┆ re,    │\n",
       "│        ┆ 2005   ┆        ┆        ┆        ┆        ┆        ┆        ┆ custom ┆ produc ┆ Securi │\n",
       "│        ┆        ┆        ┆        ┆        ┆        ┆        ┆        ┆ er sup ┆ t      ┆ ty Com │\n",
       "│        ┆        ┆        ┆        ┆        ┆        ┆        ┆        ┆ port   ┆ after  ┆ puter  │\n",
       "│        ┆        ┆        ┆        ┆        ┆        ┆        ┆        ┆        ┆ it was ┆ Securi │\n",
       "│        ┆        ┆        ┆        ┆        ┆        ┆        ┆        ┆        ┆ recomm ┆ ty,    │\n",
       "│        ┆        ┆        ┆        ┆        ┆        ┆        ┆        ┆        ┆ ended  ┆ Softwa │\n",
       "│        ┆        ┆        ┆        ┆        ┆        ┆        ┆        ┆        ┆ by a   ┆ re Sof │\n",
       "│        ┆        ┆        ┆        ┆        ┆        ┆        ┆        ┆        ┆ comput ┆ tware, │\n",
       "│        ┆        ┆        ┆        ┆        ┆        ┆        ┆        ┆        ┆ er     ┆ Utilit │\n",
       "│        ┆        ┆        ┆        ┆        ┆        ┆        ┆        ┆        ┆ supply ┆ ies    │\n",
       "│        ┆        ┆        ┆        ┆        ┆        ┆        ┆        ┆        ┆ store. ┆        │\n",
       "│        ┆        ┆        ┆        ┆        ┆        ┆        ┆        ┆        ┆ I had  ┆        │\n",
       "│        ┆        ┆        ┆        ┆        ┆        ┆        ┆        ┆        ┆ always ┆        │\n",
       "│        ┆        ┆        ┆        ┆        ┆        ┆        ┆        ┆        ┆ had    ┆        │\n",
       "│        ┆        ┆        ┆        ┆        ┆        ┆        ┆        ┆        ┆ Mc…    ┆        │\n",
       "│ B000BS ┆ Garmin ┆ 45.00  ┆ AQ963H ┆ Dr. E. ┆ 14/14  ┆ 3.0    ┆ 118117 ┆ Garmin ┆ This   ┆ Langua │\n",
       "│ EWFA   ┆ City   ┆        ┆ 2HGN0M ┆ De     ┆        ┆        ┆ 4400   ┆ City   ┆ review ┆ ge &   │\n",
       "│        ┆ Naviga ┆        ┆ C      ┆ FLOR   ┆        ┆        ┆        ┆ Naviga ┆ refers ┆ Travel │\n",
       "│        ┆ tor    ┆        ┆        ┆ \"trave ┆        ┆        ┆        ┆ tor NT ┆ to NT  ┆ , Soft │\n",
       "│        ┆ for    ┆        ┆        ┆ ler on ┆        ┆        ┆        ┆ 9 SD   ┆ versio ┆ ware   │\n",
       "│        ┆ Detail ┆        ┆        ┆ a stri ┆        ┆        ┆        ┆ Data   ┆ n 9    ┆        │\n",
       "│        ┆ ed     ┆        ┆        ┆ ng\"    ┆        ┆        ┆        ┆ Card   ┆ which  ┆        │\n",
       "│        ┆ Maps   ┆        ┆        ┆        ┆        ┆        ┆        ┆ for    ┆ I have ┆        │\n",
       "│        ┆ of     ┆        ┆        ┆        ┆        ┆        ┆        ┆ Garmin ┆ used   ┆        │\n",
       "│        ┆ Brazil ┆        ┆        ┆        ┆        ┆        ┆        ┆ Units, ┆ for 4  ┆        │\n",
       "│        ┆ (micro ┆        ┆        ┆        ┆        ┆        ┆        ┆ Spain  ┆ weeks  ┆        │\n",
       "│        ┆ SD/SD  ┆        ┆        ┆        ┆        ┆        ┆        ┆ and    ┆ in May ┆        │\n",
       "│        ┆ Card)  ┆        ┆        ┆        ┆        ┆        ┆        ┆ Portug ┆ /june  ┆        │\n",
       "│        ┆        ┆        ┆        ┆        ┆        ┆        ┆        ┆ al (01 ┆ 2007   ┆        │\n",
       "│        ┆        ┆        ┆        ┆        ┆        ┆        ┆        ┆ 0-1069 ┆ to     ┆        │\n",
       "│        ┆        ┆        ┆        ┆        ┆        ┆        ┆        ┆ 8-00)  ┆ drive  ┆        │\n",
       "│        ┆        ┆        ┆        ┆        ┆        ┆        ┆        ┆ (Purch ┆ both   ┆        │\n",
       "│        ┆        ┆        ┆        ┆        ┆        ┆        ┆        ┆ as…    ┆ in S…  ┆        │\n",
       "│ B00002 ┆ Inocul ┆ unknow ┆ unknow ┆ unknow ┆ 0/0    ┆ 5.0    ┆ 100198 ┆ best   ┆ I have ┆ Comput │\n",
       "│ S5UF   ┆ ateIT  ┆ n      ┆ n      ┆ n      ┆        ┆        ┆ 0800   ┆ antivi ┆ had    ┆ er Sec │\n",
       "│        ┆ Workgr ┆        ┆        ┆        ┆        ┆        ┆        ┆ rus    ┆ other  ┆ urity, │\n",
       "│        ┆ oup    ┆        ┆        ┆        ┆        ┆        ┆        ┆        ┆ antivi ┆ Intern │\n",
       "│        ┆ Advanc ┆        ┆        ┆        ┆        ┆        ┆        ┆        ┆ rus    ┆ et Sec │\n",
       "│        ┆ ed Edi ┆        ┆        ┆        ┆        ┆        ┆        ┆        ┆ progra ┆ urity, │\n",
       "│        ┆ tion   ┆        ┆        ┆        ┆        ┆        ┆        ┆        ┆ ms     ┆ Softwa │\n",
       "│        ┆ 4.53   ┆        ┆        ┆        ┆        ┆        ┆        ┆        ┆ like   ┆ re Com │\n",
       "│        ┆ (1-use ┆        ┆        ┆        ┆        ┆        ┆        ┆        ┆ mcafee ┆ puter  │\n",
       "│        ┆ r      ┆        ┆        ┆        ┆        ┆        ┆        ┆        ┆ and    ┆ Securi │\n",
       "│        ┆ Client ┆        ┆        ┆        ┆        ┆        ┆        ┆        ┆ norton ┆ ty,    │\n",
       "│        ┆ Agent) ┆        ┆        ┆        ┆        ┆        ┆        ┆        ┆ s but  ┆ Antivi │\n",
       "│        ┆        ┆        ┆        ┆        ┆        ┆        ┆        ┆        ┆ non of ┆ rus,   │\n",
       "│        ┆        ┆        ┆        ┆        ┆        ┆        ┆        ┆        ┆ them   ┆ Softwa │\n",
       "│        ┆        ┆        ┆        ┆        ┆        ┆        ┆        ┆        ┆ are as ┆ re     │\n",
       "│        ┆        ┆        ┆        ┆        ┆        ┆        ┆        ┆        ┆ good   ┆        │\n",
       "│        ┆        ┆        ┆        ┆        ┆        ┆        ┆        ┆        ┆ as     ┆        │\n",
       "│        ┆        ┆        ┆        ┆        ┆        ┆        ┆        ┆        ┆ this   ┆        │\n",
       "│        ┆        ┆        ┆        ┆        ┆        ┆        ┆        ┆        ┆ prog…  ┆        │\n",
       "│ B000GE ┆ Nikon  ┆ unknow ┆ A366QJ ┆ Richar ┆ 3/4    ┆ 5.0    ┆ 118359 ┆ Captur ┆ After  ┆ Camera │\n",
       "│ Q0HW   ┆ Captur ┆ n      ┆ UHRJP3 ┆ d      ┆        ┆        ┆ 3600   ┆ e NX   ┆ recent ┆ &      │\n",
       "│        ┆ e NX   ┆        ┆ IU     ┆ Martin ┆        ┆        ┆        ┆ in rea ┆ ly pur ┆ Photo, │\n",
       "│        ┆ Softwa ┆        ┆        ┆ \"Kofy\" ┆        ┆        ┆        ┆ ltime  ┆ chasin ┆ Electr │\n",
       "│        ┆ re for ┆        ┆        ┆        ┆        ┆        ┆        ┆        ┆ g Capt ┆ onics, │\n",
       "│        ┆ Window ┆        ┆        ┆        ┆        ┆        ┆        ┆        ┆ ure NX ┆ Digita │\n",
       "│        ┆ s and  ┆        ┆        ┆        ┆        ┆        ┆        ┆        ┆ I have ┆ l      │\n",
       "│        ┆ Mac    ┆        ┆        ┆        ┆        ┆        ┆        ┆        ┆ found  ┆ Camera │\n",
       "│        ┆        ┆        ┆        ┆        ┆        ┆        ┆        ┆        ┆ that   ┆ Access │\n",
       "│        ┆        ┆        ┆        ┆        ┆        ┆        ┆        ┆        ┆ it     ┆ ories, │\n",
       "│        ┆        ┆        ┆        ┆        ┆        ┆        ┆        ┆        ┆ opens  ┆ Access │\n",
       "│        ┆        ┆        ┆        ┆        ┆        ┆        ┆        ┆        ┆ up a   ┆ ories  │\n",
       "│        ┆        ┆        ┆        ┆        ┆        ┆        ┆        ┆        ┆ whole  ┆ Photo  │\n",
       "│        ┆        ┆        ┆        ┆        ┆        ┆        ┆        ┆        ┆ new    ┆ Editin │\n",
       "│        ┆        ┆        ┆        ┆        ┆        ┆        ┆        ┆        ┆ set of ┆ g, Sof │\n",
       "│        ┆        ┆        ┆        ┆        ┆        ┆        ┆        ┆        ┆ tools  ┆ tware  │\n",
       "│        ┆        ┆        ┆        ┆        ┆        ┆        ┆        ┆        ┆ for    ┆        │\n",
       "│        ┆        ┆        ┆        ┆        ┆        ┆        ┆        ┆        ┆ enha…  ┆        │\n",
       "│ B00005 ┆ 3d     ┆ unknow ┆ A3SJYA ┆ Darke  ┆ 22/32  ┆ 1.0    ┆ 128995 ┆ Begins ┆ Well   ┆ Movies │\n",
       "│ JL8K   ┆ Space  ┆ n      ┆ L87JZE ┆ Retrib ┆        ┆        ┆ 2000   ┆ Making ┆ this   ┆ ,      │\n",
       "│        ┆ Statio ┆        ┆ CT     ┆ ution  ┆        ┆        ┆        ┆ You    ┆ is     ┆ Movies │\n",
       "│        ┆ n Adve ┆        ┆        ┆        ┆        ┆        ┆        ┆ Confus ┆ going  ┆ & TV   │\n",
       "│        ┆ nture  ┆        ┆        ┆        ┆        ┆        ┆        ┆ ed...G ┆ to be  ┆ Childr │\n",
       "│        ┆ (2001) ┆        ┆        ┆        ┆        ┆        ┆        ┆ ets    ┆ an     ┆ en's,  │\n",
       "│        ┆        ┆        ┆        ┆        ┆        ┆        ┆        ┆ Boring ┆ honest ┆ Softwa │\n",
       "│        ┆        ┆        ┆        ┆        ┆        ┆        ┆        ┆ Fast.. ┆ review ┆ re     │\n",
       "│        ┆        ┆        ┆        ┆        ┆        ┆        ┆        ┆ .      ┆ of     ┆        │\n",
       "│        ┆        ┆        ┆        ┆        ┆        ┆        ┆        ┆        ┆ this   ┆        │\n",
       "│        ┆        ┆        ┆        ┆        ┆        ┆        ┆        ┆        ┆ movie. ┆        │\n",
       "│        ┆        ┆        ┆        ┆        ┆        ┆        ┆        ┆        ┆ This   ┆        │\n",
       "│        ┆        ┆        ┆        ┆        ┆        ┆        ┆        ┆        ┆ is act ┆        │\n",
       "│        ┆        ┆        ┆        ┆        ┆        ┆        ┆        ┆        ┆ ually  ┆        │\n",
       "│        ┆        ┆        ┆        ┆        ┆        ┆        ┆        ┆        ┆ the    ┆        │\n",
       "│        ┆        ┆        ┆        ┆        ┆        ┆        ┆        ┆        ┆ first  ┆        │\n",
       "│        ┆        ┆        ┆        ┆        ┆        ┆        ┆        ┆        ┆ negati ┆        │\n",
       "│        ┆        ┆        ┆        ┆        ┆        ┆        ┆        ┆        ┆ ve     ┆        │\n",
       "│        ┆        ┆        ┆        ┆        ┆        ┆        ┆        ┆        ┆ review ┆        │\n",
       "│        ┆        ┆        ┆        ┆        ┆        ┆        ┆        ┆        ┆ …      ┆        │\n",
       "│ B00030 ┆ ScanSo ┆ 33.88  ┆ A1OSSM ┆ Putney ┆ 26/42  ┆ 1.0    ┆ 110574 ┆ Worst  ┆ What   ┆ Softwa │\n",
       "│ 09IK   ┆ ft     ┆        ┆ GR0EY3 ┆ Mounta ┆        ┆        ┆ 7200   ┆ possib ┆ makes  ┆ re,    │\n",
       "│        ┆ Dragon ┆        ┆ S1     ┆ in     ┆        ┆        ┆        ┆ le sof ┆ it so  ┆ Utilit │\n",
       "│        ┆ Natura ┆        ┆        ┆        ┆        ┆        ┆        ┆ tware. ┆ bad?   ┆ ies    │\n",
       "│        ┆ llySpe ┆        ┆        ┆        ┆        ┆        ┆        ┆        ┆ It     ┆        │\n",
       "│        ┆ aking  ┆        ┆        ┆        ┆        ┆        ┆        ┆        ┆ takes  ┆        │\n",
       "│        ┆ 8 Pref ┆        ┆        ┆        ┆        ┆        ┆        ┆        ┆ a      ┆        │\n",
       "│        ┆ erred  ┆        ┆        ┆        ┆        ┆        ┆        ┆        ┆ bunch  ┆        │\n",
       "│        ┆ [Old   ┆        ┆        ┆        ┆        ┆        ┆        ┆        ┆ of     ┆        │\n",
       "│        ┆ Versio ┆        ┆        ┆        ┆        ┆        ┆        ┆        ┆ your   ┆        │\n",
       "│        ┆ n]     ┆        ┆        ┆        ┆        ┆        ┆        ┆        ┆ time   ┆        │\n",
       "│        ┆        ┆        ┆        ┆        ┆        ┆        ┆        ┆        ┆ before ┆        │\n",
       "│        ┆        ┆        ┆        ┆        ┆        ┆        ┆        ┆        ┆ you    ┆        │\n",
       "│        ┆        ┆        ┆        ┆        ┆        ┆        ┆        ┆        ┆ realiz ┆        │\n",
       "│        ┆        ┆        ┆        ┆        ┆        ┆        ┆        ┆        ┆ e its  ┆        │\n",
       "│        ┆        ┆        ┆        ┆        ┆        ┆        ┆        ┆        ┆ a \"no  ┆        │\n",
       "│        ┆        ┆        ┆        ┆        ┆        ┆        ┆        ┆        ┆ go.\"   ┆        │\n",
       "│        ┆        ┆        ┆        ┆        ┆        ┆        ┆        ┆        ┆ So you ┆        │\n",
       "│        ┆        ┆        ┆        ┆        ┆        ┆        ┆        ┆        ┆ are    ┆        │\n",
       "│        ┆        ┆        ┆        ┆        ┆        ┆        ┆        ┆        ┆ out…   ┆        │\n",
       "│ B0000E ┆ Mac OS ┆ unknow ┆ A8OSCK ┆ Sue B. ┆ 0/0    ┆ 5.0    ┆ 123560 ┆ Mac OS ┆ Produc ┆ Operat │\n",
       "│ 6NK9   ┆ X 10.3 ┆ n      ┆ TWEP40 ┆ Thomes ┆        ┆        ┆ 6400   ┆ X 10.3 ┆ t was  ┆ ing    │\n",
       "│        ┆ Panthe ┆        ┆ E      ┆        ┆        ┆        ┆        ┆ Panthe ┆ receiv ┆ System │\n",
       "│        ┆ r [OLD ┆        ┆        ┆        ┆        ┆        ┆        ┆ r [OLD ┆ ed in  ┆ s,     │\n",
       "│        ┆ VERSIO ┆        ┆        ┆        ┆        ┆        ┆        ┆ VERSIO ┆ a      ┆ Mac    │\n",
       "│        ┆ N]     ┆        ┆        ┆        ┆        ┆        ┆        ┆ N      ┆ timely ┆ Operat │\n",
       "│        ┆        ┆        ┆        ┆        ┆        ┆        ┆        ┆        ┆ manner ┆ ing    │\n",
       "│        ┆        ┆        ┆        ┆        ┆        ┆        ┆        ┆        ┆ in     ┆ System │\n",
       "│        ┆        ┆        ┆        ┆        ┆        ┆        ┆        ┆        ┆ good   ┆ s, Sof │\n",
       "│        ┆        ┆        ┆        ┆        ┆        ┆        ┆        ┆        ┆ condit ┆ tware  │\n",
       "│        ┆        ┆        ┆        ┆        ┆        ┆        ┆        ┆        ┆ ion.   ┆ Operat │\n",
       "│        ┆        ┆        ┆        ┆        ┆        ┆        ┆        ┆        ┆ No pro ┆ ing    │\n",
       "│        ┆        ┆        ┆        ┆        ┆        ┆        ┆        ┆        ┆ blems  ┆ System │\n",
       "│        ┆        ┆        ┆        ┆        ┆        ┆        ┆        ┆        ┆ encoun ┆ s, Sof │\n",
       "│        ┆        ┆        ┆        ┆        ┆        ┆        ┆        ┆        ┆ tered. ┆ tware, │\n",
       "│        ┆        ┆        ┆        ┆        ┆        ┆        ┆        ┆        ┆ I      ┆ Micros │\n",
       "│        ┆        ┆        ┆        ┆        ┆        ┆        ┆        ┆        ┆ would  ┆ oft    │\n",
       "│        ┆        ┆        ┆        ┆        ┆        ┆        ┆        ┆        ┆ buy    ┆ Window │\n",
       "│        ┆        ┆        ┆        ┆        ┆        ┆        ┆        ┆        ┆ from…  ┆ s      │\n",
       "└────────┴────────┴────────┴────────┴────────┴────────┴────────┴────────┴────────┴────────┴────────┘"
      ]
     },
     "execution_count": 14,
     "metadata": {},
     "output_type": "execute_result"
    }
   ],
   "source": [
    "# Join the tables\n",
    "merged_data: pl.DataFrame = df_reviews.join(\n",
    "    data_grpby, left_on=\"product/productId\", right_on=\"product_id\", how=\"left\"\n",
    ")\n",
    "merged_data = merged_data.unique(subset=[\"product/productId\", \"review/userId\"])\n",
    "print(f\"{merged_data.shape = }\")\n",
    "merged_data.head(10)"
   ]
  },
  {
   "cell_type": "code",
   "execution_count": 15,
   "metadata": {},
   "outputs": [
    {
     "name": "stderr",
     "output_type": "stream",
     "text": [
      "posx and posy should be finite values\n",
      "posx and posy should be finite values\n"
     ]
    },
    {
     "data": {
      "image/png": "[encoded data removed]",
      "text/plain": [
       "<Figure size 800x600 with 1 Axes>"
      ]
     },
     "metadata": {},
     "output_type": "display_data"
    }
   ],
   "source": [
    "x_val: str = \"review/score\"\n",
    "d: pl.DataFrame = merged_data.select(x_val).to_series().value_counts(sort=True)\n",
    "\n",
    "plt.figure(figsize=(8, 6))\n",
    "bars = plt.bar(d[x_val], d[\"count\"])\n",
    "plt.xticks(rotation=10)\n",
    "plt.title(f\"Distribution of The Review Scores\", fontsize=15)\n",
    "\n",
    "# Add count labels on top of each bar\n",
    "for bar in bars:\n",
    "    height = bar.get_height()\n",
    "    plt.text(\n",
    "        bar.get_x() + bar.get_width() / 2.0,\n",
    "        height,\n",
    "        f\"{height:,}\",\n",
    "        ha=\"center\",\n",
    "        va=\"bottom\",\n",
    "    )\n",
    "plt.tight_layout()\n",
    "plt.show()"
   ]
  },
  {
   "cell_type": "code",
   "execution_count": 16,
   "metadata": {},
   "outputs": [
    {
     "data": {
      "text/html": [
       "<div><style>\n",
       ".dataframe > thead > tr,\n",
       ".dataframe > tbody > tr {\n",
       "  text-align: right;\n",
       "  white-space: pre-wrap;\n",
       "}\n",
       "</style>\n",
       "<small>shape: (10, 2)</small><table border=\"1\" class=\"dataframe\"><thead><tr><th>product/title</th><th>count</th></tr><tr><td>str</td><td>u32</td></tr></thead><tbody><tr><td>&quot;Microsoft Office Hom&quot;</td><td>2143</td></tr><tr><td>&quot;Garmin City Navigato&quot;</td><td>792</td></tr><tr><td>&quot;Apple Mac OS X Versi&quot;</td><td>460</td></tr><tr><td>&quot;TurboTax Deluxe 2002&quot;</td><td>357</td></tr><tr><td>&quot;Roxio Easy Media Cre&quot;</td><td>322</td></tr><tr><td>&quot;Microsoft Windows XP&quot;</td><td>304</td></tr><tr><td>&quot;National Geographic &quot;</td><td>300</td></tr><tr><td>&quot;2006 TurboTax Deluxe&quot;</td><td>292</td></tr><tr><td>&quot;Microsoft Office Pro&quot;</td><td>288</td></tr><tr><td>&quot;Microsoft Windows Vi&quot;</td><td>281</td></tr></tbody></table></div>"
      ],
      "text/plain": [
       "shape: (10, 2)\n",
       "┌──────────────────────┬───────┐\n",
       "│ product/title        ┆ count │\n",
       "│ ---                  ┆ ---   │\n",
       "│ str                  ┆ u32   │\n",
       "╞══════════════════════╪═══════╡\n",
       "│ Microsoft Office Hom ┆ 2143  │\n",
       "│ Garmin City Navigato ┆ 792   │\n",
       "│ Apple Mac OS X Versi ┆ 460   │\n",
       "│ TurboTax Deluxe 2002 ┆ 357   │\n",
       "│ Roxio Easy Media Cre ┆ 322   │\n",
       "│ Microsoft Windows XP ┆ 304   │\n",
       "│ National Geographic  ┆ 300   │\n",
       "│ 2006 TurboTax Deluxe ┆ 292   │\n",
       "│ Microsoft Office Pro ┆ 288   │\n",
       "│ Microsoft Windows Vi ┆ 281   │\n",
       "└──────────────────────┴───────┘"
      ]
     },
     "execution_count": 16,
     "metadata": {},
     "output_type": "execute_result"
    }
   ],
   "source": [
    "x_val: str = \"product/title\"\n",
    "d = merged_data.select(x_val).to_series().value_counts(sort=True).head(10)\n",
    "# Reduce the length of the product names\n",
    "d.with_columns(pl.col(x_val).str.slice(offset=0, length=20).alias(x_val))"
   ]
  },
  {
   "cell_type": "code",
   "execution_count": 17,
   "metadata": {},
   "outputs": [
    {
     "data": {
      "image/png": "[encoded data removed]",
      "text/plain": [
       "<Figure size 800x800 with 1 Axes>"
      ]
     },
     "metadata": {},
     "output_type": "display_data"
    }
   ],
   "source": [
    "N: int = 10\n",
    "x_val: str = \"product/title\"\n",
    "d: pl.DataFrame = merged_data.select(x_val).to_series().value_counts(sort=True).head(N)\n",
    "# Reduce the length of the product names\n",
    "d = d.with_columns(pl.col(x_val).str.slice(offset=0, length=20).alias(x_val))\n",
    "\n",
    "plt.figure(figsize=(8, 8))\n",
    "bars = plt.bar(d[x_val], d[\"count\"])\n",
    "plt.xticks(rotation=90)\n",
    "plt.title(f\"Distribution of The {N} Products\", fontsize=15)\n",
    "\n",
    "# Add count labels on top of each bar\n",
    "for bar in bars:\n",
    "    height = bar.get_height()\n",
    "    plt.text(\n",
    "        bar.get_x() + bar.get_width() / 2.0,\n",
    "        height,\n",
    "        f\"{height:,}\",\n",
    "        ha=\"center\",\n",
    "        va=\"bottom\",\n",
    "    )\n",
    "\n",
    "plt.tight_layout()\n",
    "plt.show()"
   ]
  },
  {
   "cell_type": "code",
   "execution_count": 18,
   "metadata": {},
   "outputs": [
    {
     "data": {
      "text/html": [
       "<div><style>\n",
       ".dataframe > thead > tr,\n",
       ".dataframe > tbody > tr {\n",
       "  text-align: right;\n",
       "  white-space: pre-wrap;\n",
       "}\n",
       "</style>\n",
       "<small>shape: (10, 13)</small><table border=\"1\" class=\"dataframe\"><thead><tr><th>statistic</th><th>product/productId</th><th>product/title</th><th>product/price</th><th>review/userId</th><th>review/profileName</th><th>review/helpfulness</th><th>review/score</th><th>review/time</th><th>review/summary</th><th>review/text</th><th>product_category</th><th>review_length</th></tr><tr><td>str</td><td>str</td><td>str</td><td>str</td><td>str</td><td>str</td><td>str</td><td>f64</td><td>str</td><td>str</td><td>str</td><td>str</td><td>f64</td></tr></thead><tbody><tr><td>&quot;count&quot;</td><td>&quot;84991&quot;</td><td>&quot;84991&quot;</td><td>&quot;84991&quot;</td><td>&quot;84991&quot;</td><td>&quot;84991&quot;</td><td>&quot;84991&quot;</td><td>84991.0</td><td>&quot;84991&quot;</td><td>&quot;84991&quot;</td><td>&quot;84991&quot;</td><td>&quot;84991&quot;</td><td>84991.0</td></tr><tr><td>&quot;null_count&quot;</td><td>&quot;0&quot;</td><td>&quot;0&quot;</td><td>&quot;0&quot;</td><td>&quot;0&quot;</td><td>&quot;0&quot;</td><td>&quot;0&quot;</td><td>0.0</td><td>&quot;0&quot;</td><td>&quot;0&quot;</td><td>&quot;0&quot;</td><td>&quot;0&quot;</td><td>0.0</td></tr><tr><td>&quot;mean&quot;</td><td>null</td><td>null</td><td>null</td><td>null</td><td>null</td><td>null</td><td>3.317022</td><td>null</td><td>null</td><td>null</td><td>null</td><td>718.969714</td></tr><tr><td>&quot;std&quot;</td><td>null</td><td>null</td><td>null</td><td>null</td><td>null</td><td>null</td><td>1.656402</td><td>null</td><td>null</td><td>null</td><td>null</td><td>824.959797</td></tr><tr><td>&quot;min&quot;</td><td>&quot;0310230691&quot;</td><td>&quot;&quot;</td><td>&quot;0.01&quot;</td><td>&quot;A03474796LZW0HMRLEOB&quot;</td><td>&quot;&quot;</td><td>&quot;0/0&quot;</td><td>1.0</td><td>&quot;-1&quot;</td><td>&quot;&quot;</td><td>&quot;&quot;&quot;&quot;&quot;&quot;&quot;&quot;&quot;&quot;&quot;&quot;&quot;&quot;&quot;&quot;&quot;&quot;&quot;&quot;&quot;&quot;&quot;&quot;&quot;&quot;&quot;&quot;&quot;&quot;&quot;&quot;&quot;&quot;&quot;&quot;I install it on my notebook Dell Inspiron 8200. Instalation was …</td><td>&quot;3-D Puzzles,  Puzzles, Toys &amp; Games Software,  Illustration &amp; Design Brain Teasers,  Puzzles, Toys …</td><td>11.0</td></tr><tr><td>&quot;25%&quot;</td><td>null</td><td>null</td><td>null</td><td>null</td><td>null</td><td>null</td><td>1.0</td><td>null</td><td>null</td><td>null</td><td>null</td><td>255.0</td></tr><tr><td>&quot;50%&quot;</td><td>null</td><td>null</td><td>null</td><td>null</td><td>null</td><td>null</td><td>4.0</td><td>null</td><td>null</td><td>null</td><td>null</td><td>485.0</td></tr><tr><td>&quot;75%&quot;</td><td>null</td><td>null</td><td>null</td><td>null</td><td>null</td><td>null</td><td>5.0</td><td>null</td><td>null</td><td>null</td><td>null</td><td>875.0</td></tr><tr><td>&quot;99%&quot;</td><td>null</td><td>null</td><td>null</td><td>null</td><td>null</td><td>null</td><td>5.0</td><td>null</td><td>null</td><td>null</td><td>null</td><td>3888.0</td></tr><tr><td>&quot;max&quot;</td><td>&quot;B0076ZOW3I&quot;</td><td>&quot;yGuide Yoga Software with Ashtanga Yoga &amp; Great Poses I&quot;</td><td>&quot;unknown&quot;</td><td>&quot;unknown&quot;</td><td>&quot;~Vera&quot;</td><td>&quot;99/114&quot;</td><td>5.0</td><td>&quot;999993600&quot;</td><td>&quot;~~~WARNING! USE THIS PRODUCT AT YOUR OWN RISK! ~~~&quot;</td><td>&quot;~~~The tech support was useless. I called four times without my problems being solved. All four rep…</td><td>&quot;e-Commerce, Software,  Programming &amp; Web Development,  Web Development Software,  Internet Utilitie…</td><td>32337.0</td></tr></tbody></table></div>"
      ],
      "text/plain": [
       "shape: (10, 13)\n",
       "┌─────┬─────┬─────┬────────┬───────┬───────┬───────┬───────┬───────┬───────┬───────┬───────┬───────┐\n",
       "│ sta ┆ pro ┆ pro ┆ produc ┆ revie ┆ revie ┆ revie ┆ revie ┆ revie ┆ revie ┆ revie ┆ produ ┆ revie │\n",
       "│ tis ┆ duc ┆ duc ┆ t/pric ┆ w/use ┆ w/pro ┆ w/hel ┆ w/sco ┆ w/tim ┆ w/sum ┆ w/tex ┆ ct_ca ┆ w_len │\n",
       "│ tic ┆ t/p ┆ t/t ┆ e      ┆ rId   ┆ fileN ┆ pfuln ┆ re    ┆ e     ┆ mary  ┆ t     ┆ tegor ┆ gth   │\n",
       "│ --- ┆ rod ┆ itl ┆ ---    ┆ ---   ┆ ame   ┆ ess   ┆ ---   ┆ ---   ┆ ---   ┆ ---   ┆ y     ┆ ---   │\n",
       "│ str ┆ uct ┆ e   ┆ str    ┆ str   ┆ ---   ┆ ---   ┆ f64   ┆ str   ┆ str   ┆ str   ┆ ---   ┆ f64   │\n",
       "│     ┆ Id  ┆ --- ┆        ┆       ┆ str   ┆ str   ┆       ┆       ┆       ┆       ┆ str   ┆       │\n",
       "│     ┆ --- ┆ str ┆        ┆       ┆       ┆       ┆       ┆       ┆       ┆       ┆       ┆       │\n",
       "│     ┆ str ┆     ┆        ┆       ┆       ┆       ┆       ┆       ┆       ┆       ┆       ┆       │\n",
       "╞═════╪═════╪═════╪════════╪═══════╪═══════╪═══════╪═══════╪═══════╪═══════╪═══════╪═══════╪═══════╡\n",
       "│ cou ┆ 849 ┆ 849 ┆ 84991  ┆ 84991 ┆ 84991 ┆ 84991 ┆ 84991 ┆ 84991 ┆ 84991 ┆ 84991 ┆ 84991 ┆ 84991 │\n",
       "│ nt  ┆ 91  ┆ 91  ┆        ┆       ┆       ┆       ┆ .0    ┆       ┆       ┆       ┆       ┆ .0    │\n",
       "│ nul ┆ 0   ┆ 0   ┆ 0      ┆ 0     ┆ 0     ┆ 0     ┆ 0.0   ┆ 0     ┆ 0     ┆ 0     ┆ 0     ┆ 0.0   │\n",
       "│ l_c ┆     ┆     ┆        ┆       ┆       ┆       ┆       ┆       ┆       ┆       ┆       ┆       │\n",
       "│ oun ┆     ┆     ┆        ┆       ┆       ┆       ┆       ┆       ┆       ┆       ┆       ┆       │\n",
       "│ t   ┆     ┆     ┆        ┆       ┆       ┆       ┆       ┆       ┆       ┆       ┆       ┆       │\n",
       "│ mea ┆ nul ┆ nul ┆ null   ┆ null  ┆ null  ┆ null  ┆ 3.317 ┆ null  ┆ null  ┆ null  ┆ null  ┆ 718.9 │\n",
       "│ n   ┆ l   ┆ l   ┆        ┆       ┆       ┆       ┆ 022   ┆       ┆       ┆       ┆       ┆ 69714 │\n",
       "│ std ┆ nul ┆ nul ┆ null   ┆ null  ┆ null  ┆ null  ┆ 1.656 ┆ null  ┆ null  ┆ null  ┆ null  ┆ 824.9 │\n",
       "│     ┆ l   ┆ l   ┆        ┆       ┆       ┆       ┆ 402   ┆       ┆       ┆       ┆       ┆ 59797 │\n",
       "│ min ┆ 031 ┆     ┆ 0.01   ┆ A0347 ┆       ┆ 0/0   ┆ 1.0   ┆ -1    ┆       ┆ \"\"\"\"\" ┆ 3-D   ┆ 11.0  │\n",
       "│     ┆ 023 ┆     ┆        ┆ 4796L ┆       ┆       ┆       ┆       ┆       ┆ \"\"\"\"\" ┆ Puzzl ┆       │\n",
       "│     ┆ 069 ┆     ┆        ┆ ZW0HM ┆       ┆       ┆       ┆       ┆       ┆ \"\"\"\"\" ┆ es,   ┆       │\n",
       "│     ┆ 1   ┆     ┆        ┆ RLEOB ┆       ┆       ┆       ┆       ┆       ┆ \"\"\"\"\" ┆ Puzzl ┆       │\n",
       "│     ┆     ┆     ┆        ┆       ┆       ┆       ┆       ┆       ┆       ┆ \"\"\"\"\" ┆ es,   ┆       │\n",
       "│     ┆     ┆     ┆        ┆       ┆       ┆       ┆       ┆       ┆       ┆ \"\"\"\"\" ┆ Toys  ┆       │\n",
       "│     ┆     ┆     ┆        ┆       ┆       ┆       ┆       ┆       ┆       ┆ \"\"\"\"\" ┆ &     ┆       │\n",
       "│     ┆     ┆     ┆        ┆       ┆       ┆       ┆       ┆       ┆       ┆ I ins ┆ Games ┆       │\n",
       "│     ┆     ┆     ┆        ┆       ┆       ┆       ┆       ┆       ┆       ┆ tall  ┆ Softw ┆       │\n",
       "│     ┆     ┆     ┆        ┆       ┆       ┆       ┆       ┆       ┆       ┆ it on ┆ are,  ┆       │\n",
       "│     ┆     ┆     ┆        ┆       ┆       ┆       ┆       ┆       ┆       ┆ my    ┆ Illus ┆       │\n",
       "│     ┆     ┆     ┆        ┆       ┆       ┆       ┆       ┆       ┆       ┆ noteb ┆ trati ┆       │\n",
       "│     ┆     ┆     ┆        ┆       ┆       ┆       ┆       ┆       ┆       ┆ ook   ┆ on &  ┆       │\n",
       "│     ┆     ┆     ┆        ┆       ┆       ┆       ┆       ┆       ┆       ┆ Dell  ┆ Desig ┆       │\n",
       "│     ┆     ┆     ┆        ┆       ┆       ┆       ┆       ┆       ┆       ┆ Inspi ┆ n     ┆       │\n",
       "│     ┆     ┆     ┆        ┆       ┆       ┆       ┆       ┆       ┆       ┆ ron   ┆ Brain ┆       │\n",
       "│     ┆     ┆     ┆        ┆       ┆       ┆       ┆       ┆       ┆       ┆ 8200. ┆ Tease ┆       │\n",
       "│     ┆     ┆     ┆        ┆       ┆       ┆       ┆       ┆       ┆       ┆ Insta ┆ rs,   ┆       │\n",
       "│     ┆     ┆     ┆        ┆       ┆       ┆       ┆       ┆       ┆       ┆ latio ┆ Puzzl ┆       │\n",
       "│     ┆     ┆     ┆        ┆       ┆       ┆       ┆       ┆       ┆       ┆ n was ┆ es,   ┆       │\n",
       "│     ┆     ┆     ┆        ┆       ┆       ┆       ┆       ┆       ┆       ┆ f…    ┆ Toys  ┆       │\n",
       "│     ┆     ┆     ┆        ┆       ┆       ┆       ┆       ┆       ┆       ┆       ┆ &…    ┆       │\n",
       "│ 25% ┆ nul ┆ nul ┆ null   ┆ null  ┆ null  ┆ null  ┆ 1.0   ┆ null  ┆ null  ┆ null  ┆ null  ┆ 255.0 │\n",
       "│     ┆ l   ┆ l   ┆        ┆       ┆       ┆       ┆       ┆       ┆       ┆       ┆       ┆       │\n",
       "│ 50% ┆ nul ┆ nul ┆ null   ┆ null  ┆ null  ┆ null  ┆ 4.0   ┆ null  ┆ null  ┆ null  ┆ null  ┆ 485.0 │\n",
       "│     ┆ l   ┆ l   ┆        ┆       ┆       ┆       ┆       ┆       ┆       ┆       ┆       ┆       │\n",
       "│ 75% ┆ nul ┆ nul ┆ null   ┆ null  ┆ null  ┆ null  ┆ 5.0   ┆ null  ┆ null  ┆ null  ┆ null  ┆ 875.0 │\n",
       "│     ┆ l   ┆ l   ┆        ┆       ┆       ┆       ┆       ┆       ┆       ┆       ┆       ┆       │\n",
       "│ 99% ┆ nul ┆ nul ┆ null   ┆ null  ┆ null  ┆ null  ┆ 5.0   ┆ null  ┆ null  ┆ null  ┆ null  ┆ 3888. │\n",
       "│     ┆ l   ┆ l   ┆        ┆       ┆       ┆       ┆       ┆       ┆       ┆       ┆       ┆ 0     │\n",
       "│ max ┆ B00 ┆ yGu ┆ unknow ┆ unkno ┆ ~Vera ┆ 99/11 ┆ 5.0   ┆ 99999 ┆ ~~~WA ┆ ~~~Th ┆ e-Com ┆ 32337 │\n",
       "│     ┆ 76Z ┆ ide ┆ n      ┆ wn    ┆       ┆ 4     ┆       ┆ 3600  ┆ RNING ┆ e     ┆ merce ┆ .0    │\n",
       "│     ┆ OW3 ┆ Yog ┆        ┆       ┆       ┆       ┆       ┆       ┆ ! USE ┆ tech  ┆ , Sof ┆       │\n",
       "│     ┆ I   ┆ a   ┆        ┆       ┆       ┆       ┆       ┆       ┆ THIS  ┆ suppo ┆ tware ┆       │\n",
       "│     ┆     ┆ Sof ┆        ┆       ┆       ┆       ┆       ┆       ┆ PRODU ┆ rt    ┆ ,     ┆       │\n",
       "│     ┆     ┆ twa ┆        ┆       ┆       ┆       ┆       ┆       ┆ CT AT ┆ was   ┆ Progr ┆       │\n",
       "│     ┆     ┆ re  ┆        ┆       ┆       ┆       ┆       ┆       ┆ YOUR  ┆ usele ┆ ammin ┆       │\n",
       "│     ┆     ┆ wit ┆        ┆       ┆       ┆       ┆       ┆       ┆ OWN   ┆ ss. I ┆ g &   ┆       │\n",
       "│     ┆     ┆ h   ┆        ┆       ┆       ┆       ┆       ┆       ┆ RISK! ┆ calle ┆ Web   ┆       │\n",
       "│     ┆     ┆ Ash ┆        ┆       ┆       ┆       ┆       ┆       ┆ ~~~   ┆ d     ┆ Devel ┆       │\n",
       "│     ┆     ┆ tan ┆        ┆       ┆       ┆       ┆       ┆       ┆       ┆ four  ┆ opmen ┆       │\n",
       "│     ┆     ┆ ga  ┆        ┆       ┆       ┆       ┆       ┆       ┆       ┆ times ┆ t,    ┆       │\n",
       "│     ┆     ┆ Yog ┆        ┆       ┆       ┆       ┆       ┆       ┆       ┆ witho ┆ Web   ┆       │\n",
       "│     ┆     ┆ a & ┆        ┆       ┆       ┆       ┆       ┆       ┆       ┆ ut my ┆ Devel ┆       │\n",
       "│     ┆     ┆ Gre ┆        ┆       ┆       ┆       ┆       ┆       ┆       ┆ probl ┆ opmen ┆       │\n",
       "│     ┆     ┆ at  ┆        ┆       ┆       ┆       ┆       ┆       ┆       ┆ ems   ┆ t Sof ┆       │\n",
       "│     ┆     ┆ Pos ┆        ┆       ┆       ┆       ┆       ┆       ┆       ┆ being ┆ tware ┆       │\n",
       "│     ┆     ┆ es  ┆        ┆       ┆       ┆       ┆       ┆       ┆       ┆ solve ┆ ,     ┆       │\n",
       "│     ┆     ┆ I   ┆        ┆       ┆       ┆       ┆       ┆       ┆       ┆ d.    ┆ Inter ┆       │\n",
       "│     ┆     ┆     ┆        ┆       ┆       ┆       ┆       ┆       ┆       ┆ All   ┆ net   ┆       │\n",
       "│     ┆     ┆     ┆        ┆       ┆       ┆       ┆       ┆       ┆       ┆ four  ┆ Utili ┆       │\n",
       "│     ┆     ┆     ┆        ┆       ┆       ┆       ┆       ┆       ┆       ┆ repr… ┆ ties… ┆       │\n",
       "└─────┴─────┴─────┴────────┴───────┴───────┴───────┴───────┴───────┴───────┴───────┴───────┴───────┘"
      ]
     },
     "execution_count": 18,
     "metadata": {},
     "output_type": "execute_result"
    }
   ],
   "source": [
    "# Check the length of the reviews\n",
    "merged_data = merged_data.with_columns(\n",
    "    review_length=pl.col(\"review/text\").str.len_chars()\n",
    ")\n",
    "merged_data = merged_data.drop_nulls()\n",
    "merged_data.describe((0.25, 0.5, 0.75, 0.99))"
   ]
  },
  {
   "cell_type": "code",
   "execution_count": 19,
   "metadata": {},
   "outputs": [
    {
     "name": "stdout",
     "output_type": "stream",
     "text": [
      "threshold = 3888.4\n"
     ]
    },
    {
     "data": {
      "text/html": [
       "<div><style>\n",
       ".dataframe > thead > tr,\n",
       ".dataframe > tbody > tr {\n",
       "  text-align: right;\n",
       "  white-space: pre-wrap;\n",
       "}\n",
       "</style>\n",
       "<small>shape: (10, 13)</small><table border=\"1\" class=\"dataframe\"><thead><tr><th>statistic</th><th>product/productId</th><th>product/title</th><th>product/price</th><th>review/userId</th><th>review/profileName</th><th>review/helpfulness</th><th>review/score</th><th>review/time</th><th>review/summary</th><th>review/text</th><th>product_category</th><th>review_length</th></tr><tr><td>str</td><td>str</td><td>str</td><td>str</td><td>str</td><td>str</td><td>str</td><td>f64</td><td>str</td><td>str</td><td>str</td><td>str</td><td>f64</td></tr></thead><tbody><tr><td>&quot;count&quot;</td><td>&quot;84141&quot;</td><td>&quot;84141&quot;</td><td>&quot;84141&quot;</td><td>&quot;84141&quot;</td><td>&quot;84141&quot;</td><td>&quot;84141&quot;</td><td>84141.0</td><td>&quot;84141&quot;</td><td>&quot;84141&quot;</td><td>&quot;84141&quot;</td><td>&quot;84141&quot;</td><td>84141.0</td></tr><tr><td>&quot;null_count&quot;</td><td>&quot;0&quot;</td><td>&quot;0&quot;</td><td>&quot;0&quot;</td><td>&quot;0&quot;</td><td>&quot;0&quot;</td><td>&quot;0&quot;</td><td>0.0</td><td>&quot;0&quot;</td><td>&quot;0&quot;</td><td>&quot;0&quot;</td><td>&quot;0&quot;</td><td>0.0</td></tr><tr><td>&quot;mean&quot;</td><td>null</td><td>null</td><td>null</td><td>null</td><td>null</td><td>null</td><td>3.313985</td><td>null</td><td>null</td><td>null</td><td>null</td><td>669.928964</td></tr><tr><td>&quot;std&quot;</td><td>null</td><td>null</td><td>null</td><td>null</td><td>null</td><td>null</td><td>1.658473</td><td>null</td><td>null</td><td>null</td><td>null</td><td>614.166979</td></tr><tr><td>&quot;min&quot;</td><td>&quot;0310230691&quot;</td><td>&quot;&quot;</td><td>&quot;0.01&quot;</td><td>&quot;A03474796LZW0HMRLEOB&quot;</td><td>&quot;&quot;</td><td>&quot;0/0&quot;</td><td>1.0</td><td>&quot;-1&quot;</td><td>&quot;&quot;</td><td>&quot;&quot;&quot;&quot;&quot;&quot;&quot;&quot;&quot;&quot;&quot;&quot;&quot;&quot;&quot;&quot;&quot;&quot;&quot;&quot;&quot;&quot;&quot;&quot;&quot;&quot;&quot;&quot;&quot;&quot;&quot;&quot;&quot;&quot;&quot;&quot;I install it on my notebook Dell Inspiron 8200. Instalation was …</td><td>&quot;3-D Puzzles,  Puzzles, Toys &amp; Games Software,  Illustration &amp; Design Brain Teasers,  Puzzles, Toys …</td><td>11.0</td></tr><tr><td>&quot;25%&quot;</td><td>null</td><td>null</td><td>null</td><td>null</td><td>null</td><td>null</td><td>1.0</td><td>null</td><td>null</td><td>null</td><td>null</td><td>253.0</td></tr><tr><td>&quot;50%&quot;</td><td>null</td><td>null</td><td>null</td><td>null</td><td>null</td><td>null</td><td>4.0</td><td>null</td><td>null</td><td>null</td><td>null</td><td>480.0</td></tr><tr><td>&quot;75%&quot;</td><td>null</td><td>null</td><td>null</td><td>null</td><td>null</td><td>null</td><td>5.0</td><td>null</td><td>null</td><td>null</td><td>null</td><td>857.0</td></tr><tr><td>&quot;99%&quot;</td><td>null</td><td>null</td><td>null</td><td>null</td><td>null</td><td>null</td><td>5.0</td><td>null</td><td>null</td><td>null</td><td>null</td><td>3080.0</td></tr><tr><td>&quot;max&quot;</td><td>&quot;B0076ZOW3I&quot;</td><td>&quot;yGuide Yoga Software with Ashtanga Yoga &amp; Great Poses I&quot;</td><td>&quot;unknown&quot;</td><td>&quot;unknown&quot;</td><td>&quot;~Vera&quot;</td><td>&quot;99/114&quot;</td><td>5.0</td><td>&quot;999993600&quot;</td><td>&quot;~~~WARNING! USE THIS PRODUCT AT YOUR OWN RISK! ~~~&quot;</td><td>&quot;~~~The tech support was useless. I called four times without my problems being solved. All four rep…</td><td>&quot;e-Commerce, Software,  Programming &amp; Web Development,  Web Development Software,  Internet Utilitie…</td><td>3888.0</td></tr></tbody></table></div>"
      ],
      "text/plain": [
       "shape: (10, 13)\n",
       "┌─────┬─────┬─────┬────────┬───────┬───────┬───────┬───────┬───────┬───────┬───────┬───────┬───────┐\n",
       "│ sta ┆ pro ┆ pro ┆ produc ┆ revie ┆ revie ┆ revie ┆ revie ┆ revie ┆ revie ┆ revie ┆ produ ┆ revie │\n",
       "│ tis ┆ duc ┆ duc ┆ t/pric ┆ w/use ┆ w/pro ┆ w/hel ┆ w/sco ┆ w/tim ┆ w/sum ┆ w/tex ┆ ct_ca ┆ w_len │\n",
       "│ tic ┆ t/p ┆ t/t ┆ e      ┆ rId   ┆ fileN ┆ pfuln ┆ re    ┆ e     ┆ mary  ┆ t     ┆ tegor ┆ gth   │\n",
       "│ --- ┆ rod ┆ itl ┆ ---    ┆ ---   ┆ ame   ┆ ess   ┆ ---   ┆ ---   ┆ ---   ┆ ---   ┆ y     ┆ ---   │\n",
       "│ str ┆ uct ┆ e   ┆ str    ┆ str   ┆ ---   ┆ ---   ┆ f64   ┆ str   ┆ str   ┆ str   ┆ ---   ┆ f64   │\n",
       "│     ┆ Id  ┆ --- ┆        ┆       ┆ str   ┆ str   ┆       ┆       ┆       ┆       ┆ str   ┆       │\n",
       "│     ┆ --- ┆ str ┆        ┆       ┆       ┆       ┆       ┆       ┆       ┆       ┆       ┆       │\n",
       "│     ┆ str ┆     ┆        ┆       ┆       ┆       ┆       ┆       ┆       ┆       ┆       ┆       │\n",
       "╞═════╪═════╪═════╪════════╪═══════╪═══════╪═══════╪═══════╪═══════╪═══════╪═══════╪═══════╪═══════╡\n",
       "│ cou ┆ 841 ┆ 841 ┆ 84141  ┆ 84141 ┆ 84141 ┆ 84141 ┆ 84141 ┆ 84141 ┆ 84141 ┆ 84141 ┆ 84141 ┆ 84141 │\n",
       "│ nt  ┆ 41  ┆ 41  ┆        ┆       ┆       ┆       ┆ .0    ┆       ┆       ┆       ┆       ┆ .0    │\n",
       "│ nul ┆ 0   ┆ 0   ┆ 0      ┆ 0     ┆ 0     ┆ 0     ┆ 0.0   ┆ 0     ┆ 0     ┆ 0     ┆ 0     ┆ 0.0   │\n",
       "│ l_c ┆     ┆     ┆        ┆       ┆       ┆       ┆       ┆       ┆       ┆       ┆       ┆       │\n",
       "│ oun ┆     ┆     ┆        ┆       ┆       ┆       ┆       ┆       ┆       ┆       ┆       ┆       │\n",
       "│ t   ┆     ┆     ┆        ┆       ┆       ┆       ┆       ┆       ┆       ┆       ┆       ┆       │\n",
       "│ mea ┆ nul ┆ nul ┆ null   ┆ null  ┆ null  ┆ null  ┆ 3.313 ┆ null  ┆ null  ┆ null  ┆ null  ┆ 669.9 │\n",
       "│ n   ┆ l   ┆ l   ┆        ┆       ┆       ┆       ┆ 985   ┆       ┆       ┆       ┆       ┆ 28964 │\n",
       "│ std ┆ nul ┆ nul ┆ null   ┆ null  ┆ null  ┆ null  ┆ 1.658 ┆ null  ┆ null  ┆ null  ┆ null  ┆ 614.1 │\n",
       "│     ┆ l   ┆ l   ┆        ┆       ┆       ┆       ┆ 473   ┆       ┆       ┆       ┆       ┆ 66979 │\n",
       "│ min ┆ 031 ┆     ┆ 0.01   ┆ A0347 ┆       ┆ 0/0   ┆ 1.0   ┆ -1    ┆       ┆ \"\"\"\"\" ┆ 3-D   ┆ 11.0  │\n",
       "│     ┆ 023 ┆     ┆        ┆ 4796L ┆       ┆       ┆       ┆       ┆       ┆ \"\"\"\"\" ┆ Puzzl ┆       │\n",
       "│     ┆ 069 ┆     ┆        ┆ ZW0HM ┆       ┆       ┆       ┆       ┆       ┆ \"\"\"\"\" ┆ es,   ┆       │\n",
       "│     ┆ 1   ┆     ┆        ┆ RLEOB ┆       ┆       ┆       ┆       ┆       ┆ \"\"\"\"\" ┆ Puzzl ┆       │\n",
       "│     ┆     ┆     ┆        ┆       ┆       ┆       ┆       ┆       ┆       ┆ \"\"\"\"\" ┆ es,   ┆       │\n",
       "│     ┆     ┆     ┆        ┆       ┆       ┆       ┆       ┆       ┆       ┆ \"\"\"\"\" ┆ Toys  ┆       │\n",
       "│     ┆     ┆     ┆        ┆       ┆       ┆       ┆       ┆       ┆       ┆ \"\"\"\"\" ┆ &     ┆       │\n",
       "│     ┆     ┆     ┆        ┆       ┆       ┆       ┆       ┆       ┆       ┆ I ins ┆ Games ┆       │\n",
       "│     ┆     ┆     ┆        ┆       ┆       ┆       ┆       ┆       ┆       ┆ tall  ┆ Softw ┆       │\n",
       "│     ┆     ┆     ┆        ┆       ┆       ┆       ┆       ┆       ┆       ┆ it on ┆ are,  ┆       │\n",
       "│     ┆     ┆     ┆        ┆       ┆       ┆       ┆       ┆       ┆       ┆ my    ┆ Illus ┆       │\n",
       "│     ┆     ┆     ┆        ┆       ┆       ┆       ┆       ┆       ┆       ┆ noteb ┆ trati ┆       │\n",
       "│     ┆     ┆     ┆        ┆       ┆       ┆       ┆       ┆       ┆       ┆ ook   ┆ on &  ┆       │\n",
       "│     ┆     ┆     ┆        ┆       ┆       ┆       ┆       ┆       ┆       ┆ Dell  ┆ Desig ┆       │\n",
       "│     ┆     ┆     ┆        ┆       ┆       ┆       ┆       ┆       ┆       ┆ Inspi ┆ n     ┆       │\n",
       "│     ┆     ┆     ┆        ┆       ┆       ┆       ┆       ┆       ┆       ┆ ron   ┆ Brain ┆       │\n",
       "│     ┆     ┆     ┆        ┆       ┆       ┆       ┆       ┆       ┆       ┆ 8200. ┆ Tease ┆       │\n",
       "│     ┆     ┆     ┆        ┆       ┆       ┆       ┆       ┆       ┆       ┆ Insta ┆ rs,   ┆       │\n",
       "│     ┆     ┆     ┆        ┆       ┆       ┆       ┆       ┆       ┆       ┆ latio ┆ Puzzl ┆       │\n",
       "│     ┆     ┆     ┆        ┆       ┆       ┆       ┆       ┆       ┆       ┆ n was ┆ es,   ┆       │\n",
       "│     ┆     ┆     ┆        ┆       ┆       ┆       ┆       ┆       ┆       ┆ f…    ┆ Toys  ┆       │\n",
       "│     ┆     ┆     ┆        ┆       ┆       ┆       ┆       ┆       ┆       ┆       ┆ &…    ┆       │\n",
       "│ 25% ┆ nul ┆ nul ┆ null   ┆ null  ┆ null  ┆ null  ┆ 1.0   ┆ null  ┆ null  ┆ null  ┆ null  ┆ 253.0 │\n",
       "│     ┆ l   ┆ l   ┆        ┆       ┆       ┆       ┆       ┆       ┆       ┆       ┆       ┆       │\n",
       "│ 50% ┆ nul ┆ nul ┆ null   ┆ null  ┆ null  ┆ null  ┆ 4.0   ┆ null  ┆ null  ┆ null  ┆ null  ┆ 480.0 │\n",
       "│     ┆ l   ┆ l   ┆        ┆       ┆       ┆       ┆       ┆       ┆       ┆       ┆       ┆       │\n",
       "│ 75% ┆ nul ┆ nul ┆ null   ┆ null  ┆ null  ┆ null  ┆ 5.0   ┆ null  ┆ null  ┆ null  ┆ null  ┆ 857.0 │\n",
       "│     ┆ l   ┆ l   ┆        ┆       ┆       ┆       ┆       ┆       ┆       ┆       ┆       ┆       │\n",
       "│ 99% ┆ nul ┆ nul ┆ null   ┆ null  ┆ null  ┆ null  ┆ 5.0   ┆ null  ┆ null  ┆ null  ┆ null  ┆ 3080. │\n",
       "│     ┆ l   ┆ l   ┆        ┆       ┆       ┆       ┆       ┆       ┆       ┆       ┆       ┆ 0     │\n",
       "│ max ┆ B00 ┆ yGu ┆ unknow ┆ unkno ┆ ~Vera ┆ 99/11 ┆ 5.0   ┆ 99999 ┆ ~~~WA ┆ ~~~Th ┆ e-Com ┆ 3888. │\n",
       "│     ┆ 76Z ┆ ide ┆ n      ┆ wn    ┆       ┆ 4     ┆       ┆ 3600  ┆ RNING ┆ e     ┆ merce ┆ 0     │\n",
       "│     ┆ OW3 ┆ Yog ┆        ┆       ┆       ┆       ┆       ┆       ┆ ! USE ┆ tech  ┆ , Sof ┆       │\n",
       "│     ┆ I   ┆ a   ┆        ┆       ┆       ┆       ┆       ┆       ┆ THIS  ┆ suppo ┆ tware ┆       │\n",
       "│     ┆     ┆ Sof ┆        ┆       ┆       ┆       ┆       ┆       ┆ PRODU ┆ rt    ┆ ,     ┆       │\n",
       "│     ┆     ┆ twa ┆        ┆       ┆       ┆       ┆       ┆       ┆ CT AT ┆ was   ┆ Progr ┆       │\n",
       "│     ┆     ┆ re  ┆        ┆       ┆       ┆       ┆       ┆       ┆ YOUR  ┆ usele ┆ ammin ┆       │\n",
       "│     ┆     ┆ wit ┆        ┆       ┆       ┆       ┆       ┆       ┆ OWN   ┆ ss. I ┆ g &   ┆       │\n",
       "│     ┆     ┆ h   ┆        ┆       ┆       ┆       ┆       ┆       ┆ RISK! ┆ calle ┆ Web   ┆       │\n",
       "│     ┆     ┆ Ash ┆        ┆       ┆       ┆       ┆       ┆       ┆ ~~~   ┆ d     ┆ Devel ┆       │\n",
       "│     ┆     ┆ tan ┆        ┆       ┆       ┆       ┆       ┆       ┆       ┆ four  ┆ opmen ┆       │\n",
       "│     ┆     ┆ ga  ┆        ┆       ┆       ┆       ┆       ┆       ┆       ┆ times ┆ t,    ┆       │\n",
       "│     ┆     ┆ Yog ┆        ┆       ┆       ┆       ┆       ┆       ┆       ┆ witho ┆ Web   ┆       │\n",
       "│     ┆     ┆ a & ┆        ┆       ┆       ┆       ┆       ┆       ┆       ┆ ut my ┆ Devel ┆       │\n",
       "│     ┆     ┆ Gre ┆        ┆       ┆       ┆       ┆       ┆       ┆       ┆ probl ┆ opmen ┆       │\n",
       "│     ┆     ┆ at  ┆        ┆       ┆       ┆       ┆       ┆       ┆       ┆ ems   ┆ t Sof ┆       │\n",
       "│     ┆     ┆ Pos ┆        ┆       ┆       ┆       ┆       ┆       ┆       ┆ being ┆ tware ┆       │\n",
       "│     ┆     ┆ es  ┆        ┆       ┆       ┆       ┆       ┆       ┆       ┆ solve ┆ ,     ┆       │\n",
       "│     ┆     ┆ I   ┆        ┆       ┆       ┆       ┆       ┆       ┆       ┆ d.    ┆ Inter ┆       │\n",
       "│     ┆     ┆     ┆        ┆       ┆       ┆       ┆       ┆       ┆       ┆ All   ┆ net   ┆       │\n",
       "│     ┆     ┆     ┆        ┆       ┆       ┆       ┆       ┆       ┆       ┆ four  ┆ Utili ┆       │\n",
       "│     ┆     ┆     ┆        ┆       ┆       ┆       ┆       ┆       ┆       ┆ repr… ┆ ties… ┆       │\n",
       "└─────┴─────┴─────┴────────┴───────┴───────┴───────┴───────┴───────┴───────┴───────┴───────┴───────┘"
      ]
     },
     "execution_count": 19,
     "metadata": {},
     "output_type": "execute_result"
    }
   ],
   "source": [
    "# Drop outlier values\n",
    "threshold: float = np.percentile(\n",
    "    merged_data[\"review_length\"].to_numpy().reshape(-1, 1), q=99.0\n",
    ").round(2)\n",
    "print(f\"{threshold = }\")\n",
    "merged_data = merged_data.filter(pl.col(\"review_length\").lt(threshold))\n",
    "merged_data.describe((0.25, 0.5, 0.75, 0.99))"
   ]
  },
  {
   "cell_type": "code",
   "execution_count": 20,
   "metadata": {},
   "outputs": [
    {
     "data": {
      "text/html": [
       "<div><style>\n",
       ".dataframe > thead > tr,\n",
       ".dataframe > tbody > tr {\n",
       "  text-align: right;\n",
       "  white-space: pre-wrap;\n",
       "}\n",
       "</style>\n",
       "<small>shape: (5, 2)</small><table border=\"1\" class=\"dataframe\"><thead><tr><th>review/score</th><th>review_length</th></tr><tr><td>f32</td><td>f64</td></tr></thead><tbody><tr><td>2.0</td><td>806.487784</td></tr><tr><td>3.0</td><td>758.374841</td></tr><tr><td>4.0</td><td>717.186871</td></tr><tr><td>1.0</td><td>676.937237</td></tr><tr><td>5.0</td><td>591.15565</td></tr></tbody></table></div>"
      ],
      "text/plain": [
       "shape: (5, 2)\n",
       "┌──────────────┬───────────────┐\n",
       "│ review/score ┆ review_length │\n",
       "│ ---          ┆ ---           │\n",
       "│ f32          ┆ f64           │\n",
       "╞══════════════╪═══════════════╡\n",
       "│ 2.0          ┆ 806.487784    │\n",
       "│ 3.0          ┆ 758.374841    │\n",
       "│ 4.0          ┆ 717.186871    │\n",
       "│ 1.0          ┆ 676.937237    │\n",
       "│ 5.0          ┆ 591.15565     │\n",
       "└──────────────┴───────────────┘"
      ]
     },
     "execution_count": 20,
     "metadata": {},
     "output_type": "execute_result"
    }
   ],
   "source": [
    "# Do longer reviews represent a positive or negative sentiment?\n",
    "merged_data.group_by(\"review/score\").agg(pl.col(\"review_length\").mean()).sort(\n",
    "    \"review_length\", descending=True\n",
    ")"
   ]
  },
  {
   "cell_type": "code",
   "execution_count": 21,
   "metadata": {},
   "outputs": [
    {
     "data": {
      "text/html": [
       "<div><style>\n",
       ".dataframe > thead > tr,\n",
       ".dataframe > tbody > tr {\n",
       "  text-align: right;\n",
       "  white-space: pre-wrap;\n",
       "}\n",
       "</style>\n",
       "<small>shape: (5, 2)</small><table border=\"1\" class=\"dataframe\"><thead><tr><th>review/helpfulness</th><th>review/score</th></tr><tr><td>str</td><td>f32</td></tr></thead><tbody><tr><td>&quot;1/3&quot;</td><td>1.0</td></tr><tr><td>&quot;13/13&quot;</td><td>1.0</td></tr><tr><td>&quot;16/17&quot;</td><td>1.0</td></tr><tr><td>&quot;4/4&quot;</td><td>5.0</td></tr><tr><td>&quot;23/26&quot;</td><td>5.0</td></tr></tbody></table></div>"
      ],
      "text/plain": [
       "shape: (5, 2)\n",
       "┌────────────────────┬──────────────┐\n",
       "│ review/helpfulness ┆ review/score │\n",
       "│ ---                ┆ ---          │\n",
       "│ str                ┆ f32          │\n",
       "╞════════════════════╪══════════════╡\n",
       "│ 1/3                ┆ 1.0          │\n",
       "│ 13/13              ┆ 1.0          │\n",
       "│ 16/17              ┆ 1.0          │\n",
       "│ 4/4                ┆ 5.0          │\n",
       "│ 23/26              ┆ 5.0          │\n",
       "└────────────────────┴──────────────┘"
      ]
     },
     "execution_count": 21,
     "metadata": {},
     "output_type": "execute_result"
    }
   ],
   "source": [
    "merged_data.sample(5, seed=1).select([\"review/helpfulness\", \"review/score\"])"
   ]
  },
  {
   "cell_type": "code",
   "execution_count": 22,
   "metadata": {},
   "outputs": [
    {
     "data": {
      "text/html": [
       "<div><style>\n",
       ".dataframe > thead > tr,\n",
       ".dataframe > tbody > tr {\n",
       "  text-align: right;\n",
       "  white-space: pre-wrap;\n",
       "}\n",
       "</style>\n",
       "<small>shape: (9, 14)</small><table border=\"1\" class=\"dataframe\"><thead><tr><th>statistic</th><th>product/productId</th><th>product/title</th><th>product/price</th><th>review/userId</th><th>review/profileName</th><th>review/helpfulness</th><th>review/score</th><th>review/time</th><th>review/summary</th><th>review/text</th><th>product_category</th><th>review_length</th><th>sentiment</th></tr><tr><td>str</td><td>str</td><td>str</td><td>str</td><td>str</td><td>str</td><td>f64</td><td>f64</td><td>str</td><td>str</td><td>str</td><td>str</td><td>f64</td><td>f64</td></tr></thead><tbody><tr><td>&quot;count&quot;</td><td>&quot;84141&quot;</td><td>&quot;84141&quot;</td><td>&quot;84141&quot;</td><td>&quot;84141&quot;</td><td>&quot;84141&quot;</td><td>84141.0</td><td>84141.0</td><td>&quot;84141&quot;</td><td>&quot;84141&quot;</td><td>&quot;84141&quot;</td><td>&quot;84141&quot;</td><td>84141.0</td><td>84141.0</td></tr><tr><td>&quot;null_count&quot;</td><td>&quot;0&quot;</td><td>&quot;0&quot;</td><td>&quot;0&quot;</td><td>&quot;0&quot;</td><td>&quot;0&quot;</td><td>0.0</td><td>0.0</td><td>&quot;0&quot;</td><td>&quot;0&quot;</td><td>&quot;0&quot;</td><td>&quot;0&quot;</td><td>0.0</td><td>0.0</td></tr><tr><td>&quot;mean&quot;</td><td>null</td><td>null</td><td>null</td><td>null</td><td>null</td><td>0.620376</td><td>3.313985</td><td>null</td><td>null</td><td>null</td><td>null</td><td>669.928964</td><td>0.554462</td></tr><tr><td>&quot;std&quot;</td><td>null</td><td>null</td><td>null</td><td>null</td><td>null</td><td>0.408315</td><td>1.658473</td><td>null</td><td>null</td><td>null</td><td>null</td><td>614.166979</td><td>0.497028</td></tr><tr><td>&quot;min&quot;</td><td>&quot;0310230691&quot;</td><td>&quot;&quot;</td><td>&quot;0.01&quot;</td><td>&quot;A03474796LZW0HMRLEOB&quot;</td><td>&quot;&quot;</td><td>0.0</td><td>1.0</td><td>&quot;-1&quot;</td><td>&quot;&quot;</td><td>&quot;&quot;&quot;&quot;&quot;&quot;&quot;&quot;&quot;&quot;&quot;&quot;&quot;&quot;&quot;&quot;&quot;&quot;&quot;&quot;&quot;&quot;&quot;&quot;&quot;&quot;&quot;&quot;&quot;&quot;&quot;&quot;&quot;&quot;&quot;&quot;I install it on my notebook Dell Inspiron 8200. Instalation was …</td><td>&quot;3-D Puzzles,  Puzzles, Toys &amp; Games Software,  Illustration &amp; Design Brain Teasers,  Puzzles, Toys …</td><td>11.0</td><td>0.0</td></tr><tr><td>&quot;25%&quot;</td><td>null</td><td>null</td><td>null</td><td>null</td><td>null</td><td>0.071429</td><td>1.0</td><td>null</td><td>null</td><td>null</td><td>null</td><td>253.0</td><td>0.0</td></tr><tr><td>&quot;50%&quot;</td><td>null</td><td>null</td><td>null</td><td>null</td><td>null</td><td>0.8</td><td>4.0</td><td>null</td><td>null</td><td>null</td><td>null</td><td>480.0</td><td>1.0</td></tr><tr><td>&quot;75%&quot;</td><td>null</td><td>null</td><td>null</td><td>null</td><td>null</td><td>1.0</td><td>5.0</td><td>null</td><td>null</td><td>null</td><td>null</td><td>857.0</td><td>1.0</td></tr><tr><td>&quot;max&quot;</td><td>&quot;B0076ZOW3I&quot;</td><td>&quot;yGuide Yoga Software with Ashtanga Yoga &amp; Great Poses I&quot;</td><td>&quot;unknown&quot;</td><td>&quot;unknown&quot;</td><td>&quot;~Vera&quot;</td><td>1.0</td><td>5.0</td><td>&quot;999993600&quot;</td><td>&quot;~~~WARNING! USE THIS PRODUCT AT YOUR OWN RISK! ~~~&quot;</td><td>&quot;~~~The tech support was useless. I called four times without my problems being solved. All four rep…</td><td>&quot;e-Commerce, Software,  Programming &amp; Web Development,  Web Development Software,  Internet Utilitie…</td><td>3888.0</td><td>1.0</td></tr></tbody></table></div>"
      ],
      "text/plain": [
       "shape: (9, 14)\n",
       "┌─────┬─────┬─────┬─────┬─────┬─────┬─────┬────────┬───────┬───────┬───────┬───────┬───────┬───────┐\n",
       "│ sta ┆ pro ┆ pro ┆ pro ┆ rev ┆ rev ┆ rev ┆ review ┆ revie ┆ revie ┆ revie ┆ produ ┆ revie ┆ senti │\n",
       "│ tis ┆ duc ┆ duc ┆ duc ┆ iew ┆ iew ┆ iew ┆ /score ┆ w/tim ┆ w/sum ┆ w/tex ┆ ct_ca ┆ w_len ┆ ment  │\n",
       "│ tic ┆ t/p ┆ t/t ┆ t/p ┆ /us ┆ /pr ┆ /he ┆ ---    ┆ e     ┆ mary  ┆ t     ┆ tegor ┆ gth   ┆ ---   │\n",
       "│ --- ┆ rod ┆ itl ┆ ric ┆ erI ┆ ofi ┆ lpf ┆ f64    ┆ ---   ┆ ---   ┆ ---   ┆ y     ┆ ---   ┆ f64   │\n",
       "│ str ┆ uct ┆ e   ┆ e   ┆ d   ┆ leN ┆ uln ┆        ┆ str   ┆ str   ┆ str   ┆ ---   ┆ f64   ┆       │\n",
       "│     ┆ Id  ┆ --- ┆ --- ┆ --- ┆ ame ┆ ess ┆        ┆       ┆       ┆       ┆ str   ┆       ┆       │\n",
       "│     ┆ --- ┆ str ┆ str ┆ str ┆ --- ┆ --- ┆        ┆       ┆       ┆       ┆       ┆       ┆       │\n",
       "│     ┆ str ┆     ┆     ┆     ┆ str ┆ f64 ┆        ┆       ┆       ┆       ┆       ┆       ┆       │\n",
       "╞═════╪═════╪═════╪═════╪═════╪═════╪═════╪════════╪═══════╪═══════╪═══════╪═══════╪═══════╪═══════╡\n",
       "│ cou ┆ 841 ┆ 841 ┆ 841 ┆ 841 ┆ 841 ┆ 841 ┆ 84141. ┆ 84141 ┆ 84141 ┆ 84141 ┆ 84141 ┆ 84141 ┆ 84141 │\n",
       "│ nt  ┆ 41  ┆ 41  ┆ 41  ┆ 41  ┆ 41  ┆ 41. ┆ 0      ┆       ┆       ┆       ┆       ┆ .0    ┆ .0    │\n",
       "│     ┆     ┆     ┆     ┆     ┆     ┆ 0   ┆        ┆       ┆       ┆       ┆       ┆       ┆       │\n",
       "│ nul ┆ 0   ┆ 0   ┆ 0   ┆ 0   ┆ 0   ┆ 0.0 ┆ 0.0    ┆ 0     ┆ 0     ┆ 0     ┆ 0     ┆ 0.0   ┆ 0.0   │\n",
       "│ l_c ┆     ┆     ┆     ┆     ┆     ┆     ┆        ┆       ┆       ┆       ┆       ┆       ┆       │\n",
       "│ oun ┆     ┆     ┆     ┆     ┆     ┆     ┆        ┆       ┆       ┆       ┆       ┆       ┆       │\n",
       "│ t   ┆     ┆     ┆     ┆     ┆     ┆     ┆        ┆       ┆       ┆       ┆       ┆       ┆       │\n",
       "│ mea ┆ nul ┆ nul ┆ nul ┆ nul ┆ nul ┆ 0.6 ┆ 3.3139 ┆ null  ┆ null  ┆ null  ┆ null  ┆ 669.9 ┆ 0.554 │\n",
       "│ n   ┆ l   ┆ l   ┆ l   ┆ l   ┆ l   ┆ 203 ┆ 85     ┆       ┆       ┆       ┆       ┆ 28964 ┆ 462   │\n",
       "│     ┆     ┆     ┆     ┆     ┆     ┆ 76  ┆        ┆       ┆       ┆       ┆       ┆       ┆       │\n",
       "│ std ┆ nul ┆ nul ┆ nul ┆ nul ┆ nul ┆ 0.4 ┆ 1.6584 ┆ null  ┆ null  ┆ null  ┆ null  ┆ 614.1 ┆ 0.497 │\n",
       "│     ┆ l   ┆ l   ┆ l   ┆ l   ┆ l   ┆ 083 ┆ 73     ┆       ┆       ┆       ┆       ┆ 66979 ┆ 028   │\n",
       "│     ┆     ┆     ┆     ┆     ┆     ┆ 15  ┆        ┆       ┆       ┆       ┆       ┆       ┆       │\n",
       "│ min ┆ 031 ┆     ┆ 0.0 ┆ A03 ┆     ┆ 0.0 ┆ 1.0    ┆ -1    ┆       ┆ \"\"\"\"\" ┆ 3-D   ┆ 11.0  ┆ 0.0   │\n",
       "│     ┆ 023 ┆     ┆ 1   ┆ 474 ┆     ┆     ┆        ┆       ┆       ┆ \"\"\"\"\" ┆ Puzzl ┆       ┆       │\n",
       "│     ┆ 069 ┆     ┆     ┆ 796 ┆     ┆     ┆        ┆       ┆       ┆ \"\"\"\"\" ┆ es,   ┆       ┆       │\n",
       "│     ┆ 1   ┆     ┆     ┆ LZW ┆     ┆     ┆        ┆       ┆       ┆ \"\"\"\"\" ┆ Puzzl ┆       ┆       │\n",
       "│     ┆     ┆     ┆     ┆ 0HM ┆     ┆     ┆        ┆       ┆       ┆ \"\"\"\"\" ┆ es,   ┆       ┆       │\n",
       "│     ┆     ┆     ┆     ┆ RLE ┆     ┆     ┆        ┆       ┆       ┆ \"\"\"\"\" ┆ Toys  ┆       ┆       │\n",
       "│     ┆     ┆     ┆     ┆ OB  ┆     ┆     ┆        ┆       ┆       ┆ \"\"\"\"\" ┆ &     ┆       ┆       │\n",
       "│     ┆     ┆     ┆     ┆     ┆     ┆     ┆        ┆       ┆       ┆ I ins ┆ Games ┆       ┆       │\n",
       "│     ┆     ┆     ┆     ┆     ┆     ┆     ┆        ┆       ┆       ┆ tall  ┆ Softw ┆       ┆       │\n",
       "│     ┆     ┆     ┆     ┆     ┆     ┆     ┆        ┆       ┆       ┆ it on ┆ are,  ┆       ┆       │\n",
       "│     ┆     ┆     ┆     ┆     ┆     ┆     ┆        ┆       ┆       ┆ my    ┆ Illus ┆       ┆       │\n",
       "│     ┆     ┆     ┆     ┆     ┆     ┆     ┆        ┆       ┆       ┆ noteb ┆ trati ┆       ┆       │\n",
       "│     ┆     ┆     ┆     ┆     ┆     ┆     ┆        ┆       ┆       ┆ ook   ┆ on &  ┆       ┆       │\n",
       "│     ┆     ┆     ┆     ┆     ┆     ┆     ┆        ┆       ┆       ┆ Dell  ┆ Desig ┆       ┆       │\n",
       "│     ┆     ┆     ┆     ┆     ┆     ┆     ┆        ┆       ┆       ┆ Inspi ┆ n     ┆       ┆       │\n",
       "│     ┆     ┆     ┆     ┆     ┆     ┆     ┆        ┆       ┆       ┆ ron   ┆ Brain ┆       ┆       │\n",
       "│     ┆     ┆     ┆     ┆     ┆     ┆     ┆        ┆       ┆       ┆ 8200. ┆ Tease ┆       ┆       │\n",
       "│     ┆     ┆     ┆     ┆     ┆     ┆     ┆        ┆       ┆       ┆ Insta ┆ rs,   ┆       ┆       │\n",
       "│     ┆     ┆     ┆     ┆     ┆     ┆     ┆        ┆       ┆       ┆ latio ┆ Puzzl ┆       ┆       │\n",
       "│     ┆     ┆     ┆     ┆     ┆     ┆     ┆        ┆       ┆       ┆ n was ┆ es,   ┆       ┆       │\n",
       "│     ┆     ┆     ┆     ┆     ┆     ┆     ┆        ┆       ┆       ┆ f…    ┆ Toys  ┆       ┆       │\n",
       "│     ┆     ┆     ┆     ┆     ┆     ┆     ┆        ┆       ┆       ┆       ┆ &…    ┆       ┆       │\n",
       "│ 25% ┆ nul ┆ nul ┆ nul ┆ nul ┆ nul ┆ 0.0 ┆ 1.0    ┆ null  ┆ null  ┆ null  ┆ null  ┆ 253.0 ┆ 0.0   │\n",
       "│     ┆ l   ┆ l   ┆ l   ┆ l   ┆ l   ┆ 714 ┆        ┆       ┆       ┆       ┆       ┆       ┆       │\n",
       "│     ┆     ┆     ┆     ┆     ┆     ┆ 29  ┆        ┆       ┆       ┆       ┆       ┆       ┆       │\n",
       "│ 50% ┆ nul ┆ nul ┆ nul ┆ nul ┆ nul ┆ 0.8 ┆ 4.0    ┆ null  ┆ null  ┆ null  ┆ null  ┆ 480.0 ┆ 1.0   │\n",
       "│     ┆ l   ┆ l   ┆ l   ┆ l   ┆ l   ┆     ┆        ┆       ┆       ┆       ┆       ┆       ┆       │\n",
       "│ 75% ┆ nul ┆ nul ┆ nul ┆ nul ┆ nul ┆ 1.0 ┆ 5.0    ┆ null  ┆ null  ┆ null  ┆ null  ┆ 857.0 ┆ 1.0   │\n",
       "│     ┆ l   ┆ l   ┆ l   ┆ l   ┆ l   ┆     ┆        ┆       ┆       ┆       ┆       ┆       ┆       │\n",
       "│ max ┆ B00 ┆ yGu ┆ unk ┆ unk ┆ ~Ve ┆ 1.0 ┆ 5.0    ┆ 99999 ┆ ~~~WA ┆ ~~~Th ┆ e-Com ┆ 3888. ┆ 1.0   │\n",
       "│     ┆ 76Z ┆ ide ┆ now ┆ now ┆ ra  ┆     ┆        ┆ 3600  ┆ RNING ┆ e     ┆ merce ┆ 0     ┆       │\n",
       "│     ┆ OW3 ┆ Yog ┆ n   ┆ n   ┆     ┆     ┆        ┆       ┆ ! USE ┆ tech  ┆ , Sof ┆       ┆       │\n",
       "│     ┆ I   ┆ a   ┆     ┆     ┆     ┆     ┆        ┆       ┆ THIS  ┆ suppo ┆ tware ┆       ┆       │\n",
       "│     ┆     ┆ Sof ┆     ┆     ┆     ┆     ┆        ┆       ┆ PRODU ┆ rt    ┆ ,     ┆       ┆       │\n",
       "│     ┆     ┆ twa ┆     ┆     ┆     ┆     ┆        ┆       ┆ CT AT ┆ was   ┆ Progr ┆       ┆       │\n",
       "│     ┆     ┆ re  ┆     ┆     ┆     ┆     ┆        ┆       ┆ YOUR  ┆ usele ┆ ammin ┆       ┆       │\n",
       "│     ┆     ┆ wit ┆     ┆     ┆     ┆     ┆        ┆       ┆ OWN   ┆ ss. I ┆ g &   ┆       ┆       │\n",
       "│     ┆     ┆ h   ┆     ┆     ┆     ┆     ┆        ┆       ┆ RISK! ┆ calle ┆ Web   ┆       ┆       │\n",
       "│     ┆     ┆ Ash ┆     ┆     ┆     ┆     ┆        ┆       ┆ ~~~   ┆ d     ┆ Devel ┆       ┆       │\n",
       "│     ┆     ┆ tan ┆     ┆     ┆     ┆     ┆        ┆       ┆       ┆ four  ┆ opmen ┆       ┆       │\n",
       "│     ┆     ┆ ga  ┆     ┆     ┆     ┆     ┆        ┆       ┆       ┆ times ┆ t,    ┆       ┆       │\n",
       "│     ┆     ┆ Yog ┆     ┆     ┆     ┆     ┆        ┆       ┆       ┆ witho ┆ Web   ┆       ┆       │\n",
       "│     ┆     ┆ a & ┆     ┆     ┆     ┆     ┆        ┆       ┆       ┆ ut my ┆ Devel ┆       ┆       │\n",
       "│     ┆     ┆ Gre ┆     ┆     ┆     ┆     ┆        ┆       ┆       ┆ probl ┆ opmen ┆       ┆       │\n",
       "│     ┆     ┆ at  ┆     ┆     ┆     ┆     ┆        ┆       ┆       ┆ ems   ┆ t Sof ┆       ┆       │\n",
       "│     ┆     ┆ Pos ┆     ┆     ┆     ┆     ┆        ┆       ┆       ┆ being ┆ tware ┆       ┆       │\n",
       "│     ┆     ┆ es  ┆     ┆     ┆     ┆     ┆        ┆       ┆       ┆ solve ┆ ,     ┆       ┆       │\n",
       "│     ┆     ┆ I   ┆     ┆     ┆     ┆     ┆        ┆       ┆       ┆ d.    ┆ Inter ┆       ┆       │\n",
       "│     ┆     ┆     ┆     ┆     ┆     ┆     ┆        ┆       ┆       ┆ All   ┆ net   ┆       ┆       │\n",
       "│     ┆     ┆     ┆     ┆     ┆     ┆     ┆        ┆       ┆       ┆ four  ┆ Utili ┆       ┆       │\n",
       "│     ┆     ┆     ┆     ┆     ┆     ┆     ┆        ┆       ┆       ┆ repr… ┆ ties… ┆       ┆       │\n",
       "└─────┴─────┴─────┴─────┴─────┴─────┴─────┴────────┴───────┴───────┴───────┴───────┴───────┴───────┘"
      ]
     },
     "execution_count": 22,
     "metadata": {},
     "output_type": "execute_result"
    }
   ],
   "source": [
    "merged_data = merged_data.with_columns(\n",
    "    pl.col(\"review/helpfulness\")\n",
    "    .map_elements(\n",
    "        lambda x: int(x.split(\"/\")[0])\n",
    "        / (1 if int(x.split(\"/\")[1]) == 0 else int(x.split(\"/\")[1]))\n",
    "    )\n",
    "    .alias(\"review/helpfulness\"),\n",
    "    sentiment=pl.when(pl.col(\"review/score\").le(3.0))\n",
    "    .then(pl.lit(0))  # -ve\n",
    "    .otherwise(pl.lit(1)),  # +ve\n",
    ")\n",
    "\n",
    "merged_data.describe()"
   ]
  },
  {
   "cell_type": "code",
   "execution_count": 23,
   "metadata": {},
   "outputs": [
    {
     "data": {
      "text/html": [
       "<div><style>\n",
       ".dataframe > thead > tr,\n",
       ".dataframe > tbody > tr {\n",
       "  text-align: right;\n",
       "  white-space: pre-wrap;\n",
       "}\n",
       "</style>\n",
       "<small>shape: (2, 2)</small><table border=\"1\" class=\"dataframe\"><thead><tr><th>sentiment</th><th>count</th></tr><tr><td>i32</td><td>u32</td></tr></thead><tbody><tr><td>0</td><td>37488</td></tr><tr><td>1</td><td>46653</td></tr></tbody></table></div>"
      ],
      "text/plain": [
       "shape: (2, 2)\n",
       "┌───────────┬───────┐\n",
       "│ sentiment ┆ count │\n",
       "│ ---       ┆ ---   │\n",
       "│ i32       ┆ u32   │\n",
       "╞═══════════╪═══════╡\n",
       "│ 0         ┆ 37488 │\n",
       "│ 1         ┆ 46653 │\n",
       "└───────────┴───────┘"
      ]
     },
     "execution_count": 23,
     "metadata": {},
     "output_type": "execute_result"
    }
   ],
   "source": [
    "merged_data[\"sentiment\"].value_counts()"
   ]
  },
  {
   "cell_type": "markdown",
   "metadata": {},
   "source": [
    "## Build Classifiers"
   ]
  },
  {
   "cell_type": "code",
   "execution_count": 24,
   "metadata": {},
   "outputs": [
    {
     "name": "stdout",
     "output_type": "stream",
     "text": [
      "Base line accuracy:  55.45%\n"
     ]
    }
   ],
   "source": [
    "positive_size: int = (\n",
    "    merged_data[\"sentiment\"]\n",
    "    .to_numpy()[merged_data[\"sentiment\"].to_numpy() == 1]\n",
    "    .shape[0]\n",
    ")\n",
    "total_size: int = merged_data[\"sentiment\"].to_numpy().shape[0]\n",
    "base_line_acc: float = (positive_size / total_size) * 100\n",
    "print(f\"Base line accuracy: {base_line_acc: .2f}%\")"
   ]
  },
  {
   "cell_type": "code",
   "execution_count": 25,
   "metadata": {},
   "outputs": [],
   "source": [
    "from spacy.lang.en.stop_words import STOP_WORDS\n",
    "\n",
    "\n",
    "stopwords: list[str] = list(STOP_WORDS)\n",
    "\n",
    "\n",
    "def tokenizer(text: str) -> list[str]:\n",
    "    return text.split()"
   ]
  },
  {
   "cell_type": "code",
   "execution_count": 26,
   "metadata": {},
   "outputs": [
    {
     "name": "stdout",
     "output_type": "stream",
     "text": [
      "X.shape = (84141,) | y.shape = (84141,)\n",
      "X_train.shape = (67312,) | X_test.shape = (16829,)\n"
     ]
    }
   ],
   "source": [
    "from sklearn.model_selection import train_test_split\n",
    "from sklearn.feature_extraction.text import TfidfVectorizer\n",
    "\n",
    "\n",
    "test_size: float = 0.2\n",
    "seed: int = 123\n",
    "\n",
    "X: np.ndarray = merged_data[\"review/text\"].to_numpy()\n",
    "y: np.ndarray = merged_data[\"sentiment\"].to_numpy()\n",
    "\n",
    "print(f\"{X.shape = } | {y.shape = }\")\n",
    "\n",
    "X_train, X_test, y_train, y_test = train_test_split(\n",
    "    X, y, stratify=y, test_size=test_size, random_state=seed\n",
    ")\n",
    "print(f\"{X_train.shape = } | {X_test.shape = }\")"
   ]
  },
  {
   "cell_type": "code",
   "execution_count": 27,
   "metadata": {},
   "outputs": [],
   "source": [
    "from scipy.sparse import csr_matrix\n",
    "\n",
    "\n",
    "max_features: int = 40_000\n",
    "tfidf_vect: TfidfVectorizer = TfidfVectorizer(\n",
    "    stop_words=stopwords, tokenizer=tokenizer, max_features=max_features\n",
    ")\n",
    "X_train_tfidf: csr_matrix = tfidf_vect.fit_transform(X_train)\n",
    "X_test_tfidf: csr_matrix = tfidf_vect.transform(X_test)"
   ]
  },
  {
   "cell_type": "code",
   "execution_count": 28,
   "metadata": {},
   "outputs": [
    {
     "data": {
      "text/html": [
       "<style>#sk-container-id-1 {\n",
       "  /* Definition of color scheme common for light and dark mode */\n",
       "  --sklearn-color-text: black;\n",
       "  --sklearn-color-line: gray;\n",
       "  /* Definition of color scheme for unfitted estimators */\n",
       "  --sklearn-color-unfitted-level-0: #fff5e6;\n",
       "  --sklearn-color-unfitted-level-1: #f6e4d2;\n",
       "  --sklearn-color-unfitted-level-2: #ffe0b3;\n",
       "  --sklearn-color-unfitted-level-3: chocolate;\n",
       "  /* Definition of color scheme for fitted estimators */\n",
       "  --sklearn-color-fitted-level-0: #f0f8ff;\n",
       "  --sklearn-color-fitted-level-1: #d4ebff;\n",
       "  --sklearn-color-fitted-level-2: #b3dbfd;\n",
       "  --sklearn-color-fitted-level-3: cornflowerblue;\n",
       "\n",
       "  /* Specific color for light theme */\n",
       "  --sklearn-color-text-on-default-background: var(--sg-text-color, var(--theme-code-foreground, var(--jp-content-font-color1, black)));\n",
       "  --sklearn-color-background: var(--sg-background-color, var(--theme-background, var(--jp-layout-color0, white)));\n",
       "  --sklearn-color-border-box: var(--sg-text-color, var(--theme-code-foreground, var(--jp-content-font-color1, black)));\n",
       "  --sklearn-color-icon: #696969;\n",
       "\n",
       "  @media (prefers-color-scheme: dark) {\n",
       "    /* Redefinition of color scheme for dark theme */\n",
       "    --sklearn-color-text-on-default-background: var(--sg-text-color, var(--theme-code-foreground, var(--jp-content-font-color1, white)));\n",
       "    --sklearn-color-background: var(--sg-background-color, var(--theme-background, var(--jp-layout-color0, #111)));\n",
       "    --sklearn-color-border-box: var(--sg-text-color, var(--theme-code-foreground, var(--jp-content-font-color1, white)));\n",
       "    --sklearn-color-icon: #878787;\n",
       "  }\n",
       "}\n",
       "\n",
       "#sk-container-id-1 {\n",
       "  color: var(--sklearn-color-text);\n",
       "}\n",
       "\n",
       "#sk-container-id-1 pre {\n",
       "  padding: 0;\n",
       "}\n",
       "\n",
       "#sk-container-id-1 input.sk-hidden--visually {\n",
       "  border: 0;\n",
       "  clip: rect(1px 1px 1px 1px);\n",
       "  clip: rect(1px, 1px, 1px, 1px);\n",
       "  height: 1px;\n",
       "  margin: -1px;\n",
       "  overflow: hidden;\n",
       "  padding: 0;\n",
       "  position: absolute;\n",
       "  width: 1px;\n",
       "}\n",
       "\n",
       "#sk-container-id-1 div.sk-dashed-wrapped {\n",
       "  border: 1px dashed var(--sklearn-color-line);\n",
       "  margin: 0 0.4em 0.5em 0.4em;\n",
       "  box-sizing: border-box;\n",
       "  padding-bottom: 0.4em;\n",
       "  background-color: var(--sklearn-color-background);\n",
       "}\n",
       "\n",
       "#sk-container-id-1 div.sk-container {\n",
       "  /* jupyter's `normalize.less` sets `[hidden] { display: none; }`\n",
       "     but bootstrap.min.css set `[hidden] { display: none !important; }`\n",
       "     so we also need the `!important` here to be able to override the\n",
       "     default hidden behavior on the sphinx rendered scikit-learn.org.\n",
       "     See: https://github.com/scikit-learn/scikit-learn/issues/21755 */\n",
       "  display: inline-block !important;\n",
       "  position: relative;\n",
       "}\n",
       "\n",
       "#sk-container-id-1 div.sk-text-repr-fallback {\n",
       "  display: none;\n",
       "}\n",
       "\n",
       "div.sk-parallel-item,\n",
       "div.sk-serial,\n",
       "div.sk-item {\n",
       "  /* draw centered vertical line to link estimators */\n",
       "  background-image: linear-gradient(var(--sklearn-color-text-on-default-background), var(--sklearn-color-text-on-default-background));\n",
       "  background-size: 2px 100%;\n",
       "  background-repeat: no-repeat;\n",
       "  background-position: center center;\n",
       "}\n",
       "\n",
       "/* Parallel-specific style estimator block */\n",
       "\n",
       "#sk-container-id-1 div.sk-parallel-item::after {\n",
       "  content: \"\";\n",
       "  width: 100%;\n",
       "  border-bottom: 2px solid var(--sklearn-color-text-on-default-background);\n",
       "  flex-grow: 1;\n",
       "}\n",
       "\n",
       "#sk-container-id-1 div.sk-parallel {\n",
       "  display: flex;\n",
       "  align-items: stretch;\n",
       "  justify-content: center;\n",
       "  background-color: var(--sklearn-color-background);\n",
       "  position: relative;\n",
       "}\n",
       "\n",
       "#sk-container-id-1 div.sk-parallel-item {\n",
       "  display: flex;\n",
       "  flex-direction: column;\n",
       "}\n",
       "\n",
       "#sk-container-id-1 div.sk-parallel-item:first-child::after {\n",
       "  align-self: flex-end;\n",
       "  width: 50%;\n",
       "}\n",
       "\n",
       "#sk-container-id-1 div.sk-parallel-item:last-child::after {\n",
       "  align-self: flex-start;\n",
       "  width: 50%;\n",
       "}\n",
       "\n",
       "#sk-container-id-1 div.sk-parallel-item:only-child::after {\n",
       "  width: 0;\n",
       "}\n",
       "\n",
       "/* Serial-specific style estimator block */\n",
       "\n",
       "#sk-container-id-1 div.sk-serial {\n",
       "  display: flex;\n",
       "  flex-direction: column;\n",
       "  align-items: center;\n",
       "  background-color: var(--sklearn-color-background);\n",
       "  padding-right: 1em;\n",
       "  padding-left: 1em;\n",
       "}\n",
       "\n",
       "\n",
       "/* Toggleable style: style used for estimator/Pipeline/ColumnTransformer box that is\n",
       "clickable and can be expanded/collapsed.\n",
       "- Pipeline and ColumnTransformer use this feature and define the default style\n",
       "- Estimators will overwrite some part of the style using the `sk-estimator` class\n",
       "*/\n",
       "\n",
       "/* Pipeline and ColumnTransformer style (default) */\n",
       "\n",
       "#sk-container-id-1 div.sk-toggleable {\n",
       "  /* Default theme specific background. It is overwritten whether we have a\n",
       "  specific estimator or a Pipeline/ColumnTransformer */\n",
       "  background-color: var(--sklearn-color-background);\n",
       "}\n",
       "\n",
       "/* Toggleable label */\n",
       "#sk-container-id-1 label.sk-toggleable__label {\n",
       "  cursor: pointer;\n",
       "  display: block;\n",
       "  width: 100%;\n",
       "  margin-bottom: 0;\n",
       "  padding: 0.5em;\n",
       "  box-sizing: border-box;\n",
       "  text-align: center;\n",
       "}\n",
       "\n",
       "#sk-container-id-1 label.sk-toggleable__label-arrow:before {\n",
       "  /* Arrow on the left of the label */\n",
       "  content: \"▸\";\n",
       "  float: left;\n",
       "  margin-right: 0.25em;\n",
       "  color: var(--sklearn-color-icon);\n",
       "}\n",
       "\n",
       "#sk-container-id-1 label.sk-toggleable__label-arrow:hover:before {\n",
       "  color: var(--sklearn-color-text);\n",
       "}\n",
       "\n",
       "/* Toggleable content - dropdown */\n",
       "\n",
       "#sk-container-id-1 div.sk-toggleable__content {\n",
       "  max-height: 0;\n",
       "  max-width: 0;\n",
       "  overflow: hidden;\n",
       "  text-align: left;\n",
       "  /* unfitted */\n",
       "  background-color: var(--sklearn-color-unfitted-level-0);\n",
       "}\n",
       "\n",
       "#sk-container-id-1 div.sk-toggleable__content.fitted {\n",
       "  /* fitted */\n",
       "  background-color: var(--sklearn-color-fitted-level-0);\n",
       "}\n",
       "\n",
       "#sk-container-id-1 div.sk-toggleable__content pre {\n",
       "  margin: 0.2em;\n",
       "  border-radius: 0.25em;\n",
       "  color: var(--sklearn-color-text);\n",
       "  /* unfitted */\n",
       "  background-color: var(--sklearn-color-unfitted-level-0);\n",
       "}\n",
       "\n",
       "#sk-container-id-1 div.sk-toggleable__content.fitted pre {\n",
       "  /* unfitted */\n",
       "  background-color: var(--sklearn-color-fitted-level-0);\n",
       "}\n",
       "\n",
       "#sk-container-id-1 input.sk-toggleable__control:checked~div.sk-toggleable__content {\n",
       "  /* Expand drop-down */\n",
       "  max-height: 200px;\n",
       "  max-width: 100%;\n",
       "  overflow: auto;\n",
       "}\n",
       "\n",
       "#sk-container-id-1 input.sk-toggleable__control:checked~label.sk-toggleable__label-arrow:before {\n",
       "  content: \"▾\";\n",
       "}\n",
       "\n",
       "/* Pipeline/ColumnTransformer-specific style */\n",
       "\n",
       "#sk-container-id-1 div.sk-label input.sk-toggleable__control:checked~label.sk-toggleable__label {\n",
       "  color: var(--sklearn-color-text);\n",
       "  background-color: var(--sklearn-color-unfitted-level-2);\n",
       "}\n",
       "\n",
       "#sk-container-id-1 div.sk-label.fitted input.sk-toggleable__control:checked~label.sk-toggleable__label {\n",
       "  background-color: var(--sklearn-color-fitted-level-2);\n",
       "}\n",
       "\n",
       "/* Estimator-specific style */\n",
       "\n",
       "/* Colorize estimator box */\n",
       "#sk-container-id-1 div.sk-estimator input.sk-toggleable__control:checked~label.sk-toggleable__label {\n",
       "  /* unfitted */\n",
       "  background-color: var(--sklearn-color-unfitted-level-2);\n",
       "}\n",
       "\n",
       "#sk-container-id-1 div.sk-estimator.fitted input.sk-toggleable__control:checked~label.sk-toggleable__label {\n",
       "  /* fitted */\n",
       "  background-color: var(--sklearn-color-fitted-level-2);\n",
       "}\n",
       "\n",
       "#sk-container-id-1 div.sk-label label.sk-toggleable__label,\n",
       "#sk-container-id-1 div.sk-label label {\n",
       "  /* The background is the default theme color */\n",
       "  color: var(--sklearn-color-text-on-default-background);\n",
       "}\n",
       "\n",
       "/* On hover, darken the color of the background */\n",
       "#sk-container-id-1 div.sk-label:hover label.sk-toggleable__label {\n",
       "  color: var(--sklearn-color-text);\n",
       "  background-color: var(--sklearn-color-unfitted-level-2);\n",
       "}\n",
       "\n",
       "/* Label box, darken color on hover, fitted */\n",
       "#sk-container-id-1 div.sk-label.fitted:hover label.sk-toggleable__label.fitted {\n",
       "  color: var(--sklearn-color-text);\n",
       "  background-color: var(--sklearn-color-fitted-level-2);\n",
       "}\n",
       "\n",
       "/* Estimator label */\n",
       "\n",
       "#sk-container-id-1 div.sk-label label {\n",
       "  font-family: monospace;\n",
       "  font-weight: bold;\n",
       "  display: inline-block;\n",
       "  line-height: 1.2em;\n",
       "}\n",
       "\n",
       "#sk-container-id-1 div.sk-label-container {\n",
       "  text-align: center;\n",
       "}\n",
       "\n",
       "/* Estimator-specific */\n",
       "#sk-container-id-1 div.sk-estimator {\n",
       "  font-family: monospace;\n",
       "  border: 1px dotted var(--sklearn-color-border-box);\n",
       "  border-radius: 0.25em;\n",
       "  box-sizing: border-box;\n",
       "  margin-bottom: 0.5em;\n",
       "  /* unfitted */\n",
       "  background-color: var(--sklearn-color-unfitted-level-0);\n",
       "}\n",
       "\n",
       "#sk-container-id-1 div.sk-estimator.fitted {\n",
       "  /* fitted */\n",
       "  background-color: var(--sklearn-color-fitted-level-0);\n",
       "}\n",
       "\n",
       "/* on hover */\n",
       "#sk-container-id-1 div.sk-estimator:hover {\n",
       "  /* unfitted */\n",
       "  background-color: var(--sklearn-color-unfitted-level-2);\n",
       "}\n",
       "\n",
       "#sk-container-id-1 div.sk-estimator.fitted:hover {\n",
       "  /* fitted */\n",
       "  background-color: var(--sklearn-color-fitted-level-2);\n",
       "}\n",
       "\n",
       "/* Specification for estimator info (e.g. \"i\" and \"?\") */\n",
       "\n",
       "/* Common style for \"i\" and \"?\" */\n",
       "\n",
       ".sk-estimator-doc-link,\n",
       "a:link.sk-estimator-doc-link,\n",
       "a:visited.sk-estimator-doc-link {\n",
       "  float: right;\n",
       "  font-size: smaller;\n",
       "  line-height: 1em;\n",
       "  font-family: monospace;\n",
       "  background-color: var(--sklearn-color-background);\n",
       "  border-radius: 1em;\n",
       "  height: 1em;\n",
       "  width: 1em;\n",
       "  text-decoration: none !important;\n",
       "  margin-left: 1ex;\n",
       "  /* unfitted */\n",
       "  border: var(--sklearn-color-unfitted-level-1) 1pt solid;\n",
       "  color: var(--sklearn-color-unfitted-level-1);\n",
       "}\n",
       "\n",
       ".sk-estimator-doc-link.fitted,\n",
       "a:link.sk-estimator-doc-link.fitted,\n",
       "a:visited.sk-estimator-doc-link.fitted {\n",
       "  /* fitted */\n",
       "  border: var(--sklearn-color-fitted-level-1) 1pt solid;\n",
       "  color: var(--sklearn-color-fitted-level-1);\n",
       "}\n",
       "\n",
       "/* On hover */\n",
       "div.sk-estimator:hover .sk-estimator-doc-link:hover,\n",
       ".sk-estimator-doc-link:hover,\n",
       "div.sk-label-container:hover .sk-estimator-doc-link:hover,\n",
       ".sk-estimator-doc-link:hover {\n",
       "  /* unfitted */\n",
       "  background-color: var(--sklearn-color-unfitted-level-3);\n",
       "  color: var(--sklearn-color-background);\n",
       "  text-decoration: none;\n",
       "}\n",
       "\n",
       "div.sk-estimator.fitted:hover .sk-estimator-doc-link.fitted:hover,\n",
       ".sk-estimator-doc-link.fitted:hover,\n",
       "div.sk-label-container:hover .sk-estimator-doc-link.fitted:hover,\n",
       ".sk-estimator-doc-link.fitted:hover {\n",
       "  /* fitted */\n",
       "  background-color: var(--sklearn-color-fitted-level-3);\n",
       "  color: var(--sklearn-color-background);\n",
       "  text-decoration: none;\n",
       "}\n",
       "\n",
       "/* Span, style for the box shown on hovering the info icon */\n",
       ".sk-estimator-doc-link span {\n",
       "  display: none;\n",
       "  z-index: 9999;\n",
       "  position: relative;\n",
       "  font-weight: normal;\n",
       "  right: .2ex;\n",
       "  padding: .5ex;\n",
       "  margin: .5ex;\n",
       "  width: min-content;\n",
       "  min-width: 20ex;\n",
       "  max-width: 50ex;\n",
       "  color: var(--sklearn-color-text);\n",
       "  box-shadow: 2pt 2pt 4pt #999;\n",
       "  /* unfitted */\n",
       "  background: var(--sklearn-color-unfitted-level-0);\n",
       "  border: .5pt solid var(--sklearn-color-unfitted-level-3);\n",
       "}\n",
       "\n",
       ".sk-estimator-doc-link.fitted span {\n",
       "  /* fitted */\n",
       "  background: var(--sklearn-color-fitted-level-0);\n",
       "  border: var(--sklearn-color-fitted-level-3);\n",
       "}\n",
       "\n",
       ".sk-estimator-doc-link:hover span {\n",
       "  display: block;\n",
       "}\n",
       "\n",
       "/* \"?\"-specific style due to the `<a>` HTML tag */\n",
       "\n",
       "#sk-container-id-1 a.estimator_doc_link {\n",
       "  float: right;\n",
       "  font-size: 1rem;\n",
       "  line-height: 1em;\n",
       "  font-family: monospace;\n",
       "  background-color: var(--sklearn-color-background);\n",
       "  border-radius: 1rem;\n",
       "  height: 1rem;\n",
       "  width: 1rem;\n",
       "  text-decoration: none;\n",
       "  /* unfitted */\n",
       "  color: var(--sklearn-color-unfitted-level-1);\n",
       "  border: var(--sklearn-color-unfitted-level-1) 1pt solid;\n",
       "}\n",
       "\n",
       "#sk-container-id-1 a.estimator_doc_link.fitted {\n",
       "  /* fitted */\n",
       "  border: var(--sklearn-color-fitted-level-1) 1pt solid;\n",
       "  color: var(--sklearn-color-fitted-level-1);\n",
       "}\n",
       "\n",
       "/* On hover */\n",
       "#sk-container-id-1 a.estimator_doc_link:hover {\n",
       "  /* unfitted */\n",
       "  background-color: var(--sklearn-color-unfitted-level-3);\n",
       "  color: var(--sklearn-color-background);\n",
       "  text-decoration: none;\n",
       "}\n",
       "\n",
       "#sk-container-id-1 a.estimator_doc_link.fitted:hover {\n",
       "  /* fitted */\n",
       "  background-color: var(--sklearn-color-fitted-level-3);\n",
       "}\n",
       "</style><div id=\"sk-container-id-1\" class=\"sk-top-container\"><div class=\"sk-text-repr-fallback\"><pre>Pipeline(steps=[(&#x27;tfidf&#x27;,\n",
       "                 TfidfVectorizer(max_features=40000,\n",
       "                                 stop_words=[&#x27;to&#x27;, &#x27;least&#x27;, &#x27;on&#x27;, &#x27;themselves&#x27;,\n",
       "                                             &#x27;via&#x27;, &#x27;please&#x27;, &#x27;whereby&#x27;,\n",
       "                                             &#x27;never&#x27;, &#x27;and&#x27;, &#x27;her&#x27;, &#x27;became&#x27;,\n",
       "                                             &#x27;back&#x27;, &#x27;each&#x27;, &#x27;except&#x27;,\n",
       "                                             &#x27;whenever&#x27;, &#x27;because&#x27;, &#x27;one&#x27;,\n",
       "                                             &#x27;six&#x27;, &#x27;though&#x27;, &quot;&#x27;m&quot;, &#x27;yet&#x27;, &#x27;‘m&#x27;,\n",
       "                                             &#x27;none&#x27;, &#x27;two&#x27;, &#x27;last&#x27;, &#x27;yours&#x27;,\n",
       "                                             &#x27;are&#x27;, &#x27;yourselves&#x27;, &#x27;when&#x27;, &#x27;any&#x27;, ...],\n",
       "                                 tokenizer=&lt;function tokenizer at 0x1761723e0&gt;)),\n",
       "                (&#x27;lr&#x27;,\n",
       "                 LogisticRegression(C=1, max_iter=5000, random_state=123))])</pre><b>In a Jupyter environment, please rerun this cell to show the HTML representation or trust the notebook. <br />On GitHub, the HTML representation is unable to render, please try loading this page with nbviewer.org.</b></div><div class=\"sk-container\" hidden><div class=\"sk-item sk-dashed-wrapped\"><div class=\"sk-label-container\"><div class=\"sk-label  sk-toggleable\"><input class=\"sk-toggleable__control sk-hidden--visually\" id=\"sk-estimator-id-1\" type=\"checkbox\" ><label for=\"sk-estimator-id-1\" class=\"sk-toggleable__label  sk-toggleable__label-arrow \">&nbsp;&nbsp;Pipeline<a class=\"sk-estimator-doc-link \" rel=\"noreferrer\" target=\"_blank\" href=\"https://scikit-learn.org/1.4/modules/generated/sklearn.pipeline.Pipeline.html\">?<span>Documentation for Pipeline</span></a><span class=\"sk-estimator-doc-link \">i<span>Not fitted</span></span></label><div class=\"sk-toggleable__content \"><pre>Pipeline(steps=[(&#x27;tfidf&#x27;,\n",
       "                 TfidfVectorizer(max_features=40000,\n",
       "                                 stop_words=[&#x27;to&#x27;, &#x27;least&#x27;, &#x27;on&#x27;, &#x27;themselves&#x27;,\n",
       "                                             &#x27;via&#x27;, &#x27;please&#x27;, &#x27;whereby&#x27;,\n",
       "                                             &#x27;never&#x27;, &#x27;and&#x27;, &#x27;her&#x27;, &#x27;became&#x27;,\n",
       "                                             &#x27;back&#x27;, &#x27;each&#x27;, &#x27;except&#x27;,\n",
       "                                             &#x27;whenever&#x27;, &#x27;because&#x27;, &#x27;one&#x27;,\n",
       "                                             &#x27;six&#x27;, &#x27;though&#x27;, &quot;&#x27;m&quot;, &#x27;yet&#x27;, &#x27;‘m&#x27;,\n",
       "                                             &#x27;none&#x27;, &#x27;two&#x27;, &#x27;last&#x27;, &#x27;yours&#x27;,\n",
       "                                             &#x27;are&#x27;, &#x27;yourselves&#x27;, &#x27;when&#x27;, &#x27;any&#x27;, ...],\n",
       "                                 tokenizer=&lt;function tokenizer at 0x1761723e0&gt;)),\n",
       "                (&#x27;lr&#x27;,\n",
       "                 LogisticRegression(C=1, max_iter=5000, random_state=123))])</pre></div> </div></div><div class=\"sk-serial\"><div class=\"sk-item\"><div class=\"sk-estimator  sk-toggleable\"><input class=\"sk-toggleable__control sk-hidden--visually\" id=\"sk-estimator-id-2\" type=\"checkbox\" ><label for=\"sk-estimator-id-2\" class=\"sk-toggleable__label  sk-toggleable__label-arrow \">&nbsp;TfidfVectorizer<a class=\"sk-estimator-doc-link \" rel=\"noreferrer\" target=\"_blank\" href=\"https://scikit-learn.org/1.4/modules/generated/sklearn.feature_extraction.text.TfidfVectorizer.html\">?<span>Documentation for TfidfVectorizer</span></a></label><div class=\"sk-toggleable__content \"><pre>TfidfVectorizer(max_features=40000,\n",
       "                stop_words=[&#x27;to&#x27;, &#x27;least&#x27;, &#x27;on&#x27;, &#x27;themselves&#x27;, &#x27;via&#x27;, &#x27;please&#x27;,\n",
       "                            &#x27;whereby&#x27;, &#x27;never&#x27;, &#x27;and&#x27;, &#x27;her&#x27;, &#x27;became&#x27;, &#x27;back&#x27;,\n",
       "                            &#x27;each&#x27;, &#x27;except&#x27;, &#x27;whenever&#x27;, &#x27;because&#x27;, &#x27;one&#x27;,\n",
       "                            &#x27;six&#x27;, &#x27;though&#x27;, &quot;&#x27;m&quot;, &#x27;yet&#x27;, &#x27;‘m&#x27;, &#x27;none&#x27;, &#x27;two&#x27;,\n",
       "                            &#x27;last&#x27;, &#x27;yours&#x27;, &#x27;are&#x27;, &#x27;yourselves&#x27;, &#x27;when&#x27;, &#x27;any&#x27;, ...],\n",
       "                tokenizer=&lt;function tokenizer at 0x1761723e0&gt;)</pre></div> </div></div><div class=\"sk-item\"><div class=\"sk-estimator  sk-toggleable\"><input class=\"sk-toggleable__control sk-hidden--visually\" id=\"sk-estimator-id-3\" type=\"checkbox\" ><label for=\"sk-estimator-id-3\" class=\"sk-toggleable__label  sk-toggleable__label-arrow \">&nbsp;LogisticRegression<a class=\"sk-estimator-doc-link \" rel=\"noreferrer\" target=\"_blank\" href=\"https://scikit-learn.org/1.4/modules/generated/sklearn.linear_model.LogisticRegression.html\">?<span>Documentation for LogisticRegression</span></a></label><div class=\"sk-toggleable__content \"><pre>LogisticRegression(C=1, max_iter=5000, random_state=123)</pre></div> </div></div></div></div></div></div>"
      ],
      "text/plain": [
       "Pipeline(steps=[('tfidf',\n",
       "                 TfidfVectorizer(max_features=40000,\n",
       "                                 stop_words=['to', 'least', 'on', 'themselves',\n",
       "                                             'via', 'please', 'whereby',\n",
       "                                             'never', 'and', 'her', 'became',\n",
       "                                             'back', 'each', 'except',\n",
       "                                             'whenever', 'because', 'one',\n",
       "                                             'six', 'though', \"'m\", 'yet', '‘m',\n",
       "                                             'none', 'two', 'last', 'yours',\n",
       "                                             'are', 'yourselves', 'when', 'any', ...],\n",
       "                                 tokenizer=<function tokenizer at 0x1761723e0>)),\n",
       "                ('lr',\n",
       "                 LogisticRegression(C=1, max_iter=5000, random_state=123))])"
      ]
     },
     "execution_count": 28,
     "metadata": {},
     "output_type": "execute_result"
    }
   ],
   "source": [
    "from sklearn.linear_model import LogisticRegression\n",
    "from sklearn.pipeline import Pipeline\n",
    "from sklearn.decomposition import TruncatedSVD\n",
    "\n",
    "from utils.ml import (\n",
    "    train_model_with_cross_validation,\n",
    "    plot_confusion_matrix,\n",
    "    calculate_precision_recall_curves,\n",
    "    plot_precision_recall_curves,\n",
    "    calculate_roc_curve,\n",
    "    plot_roc_curves,\n",
    ")\n",
    "\n",
    "\n",
    "n_components: int = 1_000\n",
    "lr_pipe: Pipeline = Pipeline(\n",
    "    [\n",
    "        (\n",
    "            \"tfidf\",\n",
    "            TfidfVectorizer(\n",
    "                stop_words=stopwords, tokenizer=tokenizer, max_features=max_features\n",
    "            ),\n",
    "        ),\n",
    "        # (\"lsa\", TruncatedSVD(n_components=n_components, random_state=seed)),\n",
    "        (\n",
    "            \"lr\",\n",
    "            LogisticRegression(penalty=\"l2\", C=1, max_iter=5_000, random_state=seed),\n",
    "        ),\n",
    "    ]\n",
    ")\n",
    "lr_pipe"
   ]
  },
  {
   "cell_type": "code",
   "execution_count": 29,
   "metadata": {},
   "outputs": [
    {
     "name": "stdout",
     "output_type": "stream",
     "text": [
      "Fold:  1 | Class dist.: [23992 29857] | Acc: 0.852\n",
      "Fold:  2 | Class dist.: [23992 29857] | Acc: 0.846\n",
      "Fold:  3 | Class dist.: [23992 29858] | Acc: 0.851\n",
      "Fold:  4 | Class dist.: [23992 29858] | Acc: 0.849\n",
      "Fold:  5 | Class dist.: [23992 29858] | Acc: 0.847\n",
      "\n",
      "CV accuracy: 0.849 +/- 0.002\n",
      "\n",
      "Time taken: 22.220 seconds\n"
     ]
    }
   ],
   "source": [
    "lr_pipe: Pipeline\n",
    "lr_pipe, acc_scores, _, _ = train_model_with_cross_validation(\n",
    "    X=X_train, y=y_train, estimator=lr_pipe, n_splits=5\n",
    ")"
   ]
  },
  {
   "cell_type": "code",
   "execution_count": 30,
   "metadata": {},
   "outputs": [
    {
     "name": "stdout",
     "output_type": "stream",
     "text": [
      "Number of features: 40,000\n"
     ]
    }
   ],
   "source": [
    "n_features: int = lr_pipe.named_steps[\"tfidf\"].vocabulary_.__len__()\n",
    "# n_features: int = lr_pipe.named_steps[\"lsa\"].n_components\n",
    "print(f\"Number of features: {n_features:,}\")"
   ]
  },
  {
   "cell_type": "code",
   "execution_count": 31,
   "metadata": {},
   "outputs": [
    {
     "data": {
      "image/png": "[encoded data removed]",
      "text/plain": [
       "<Figure size 500x400 with 1 Axes>"
      ]
     },
     "metadata": {},
     "output_type": "display_data"
    }
   ],
   "source": [
    "plt.figure(figsize=(5, 4))\n",
    "min_, max_ = (\n",
    "    np.min(acc_scores) - (2 * np.std(acc_scores)),\n",
    "    np.max(acc_scores) + (2 * np.std(acc_scores)),\n",
    ")\n",
    "plt.plot(np.arange(1, len(acc_scores) + 1), acc_scores, label=\"Training accuracy\")\n",
    "plt.ylim(min_, max_)\n",
    "plt.xlabel(\"Folds\", fontsize=12)\n",
    "plt.ylabel(\"Accuracy\", fontsize=12)\n",
    "plt.title(\"Training Accuracy\", fontsize=14)\n",
    "plt.legend(loc=\"best\")\n",
    "plt.tight_layout()\n",
    "plt.show()"
   ]
  },
  {
   "cell_type": "code",
   "execution_count": 32,
   "metadata": {},
   "outputs": [
    {
     "data": {
      "image/png": "[encoded data removed]",
      "text/plain": [
       "<Figure size 800x500 with 2 Axes>"
      ]
     },
     "metadata": {},
     "output_type": "display_data"
    }
   ],
   "source": [
    "y_pred_train = lr_pipe.predict(X_train)\n",
    "y_pred_test = lr_pipe.predict(X_test)\n",
    "\n",
    "plot_confusion_matrix(\n",
    "    y_true=y_test, y_pred=y_pred_test, labels=[\"Negative\", \"Positive\"], cmap=\"BuGn\"\n",
    ")"
   ]
  },
  {
   "cell_type": "code",
   "execution_count": 33,
   "metadata": {},
   "outputs": [
    {
     "data": {
      "image/png": "[encoded data removed]",
      "text/plain": [
       "<Figure size 600x600 with 1 Axes>"
      ]
     },
     "metadata": {},
     "output_type": "display_data"
    }
   ],
   "source": [
    "fpr_train, tpr_train, roc_auc_train = calculate_roc_curve(y_train, y_pred_train)\n",
    "fpr_test, tpr_test, roc_auc_test = calculate_roc_curve(y_test, y_pred_test)\n",
    "\n",
    "plot_roc_curves(fpr_train, tpr_train, roc_auc_train, fpr_test, tpr_test, roc_auc_test)"
   ]
  },
  {
   "cell_type": "code",
   "execution_count": 34,
   "metadata": {},
   "outputs": [
    {
     "data": {
      "image/png": "[encoded data removed]",
      "text/plain": [
       "<Figure size 800x800 with 1 Axes>"
      ]
     },
     "metadata": {},
     "output_type": "display_data"
    }
   ],
   "source": [
    "y_proba_train: np.ndarray = lr_pipe.predict_proba(X_train)[:, 1]\n",
    "y_proba_test: np.ndarray = lr_pipe.predict_proba(X_test)[:, 1]\n",
    "\n",
    "precision_train, recall_train, precision_test, recall_test, ap_train, ap_test = (\n",
    "    calculate_precision_recall_curves(y_train, y_test, y_proba_train, y_proba_test)\n",
    ")\n",
    "\n",
    "plot_precision_recall_curves(\n",
    "    recall_train, precision_train, recall_test, precision_test, ap_train, ap_test\n",
    ")"
   ]
  },
  {
   "cell_type": "code",
   "execution_count": 35,
   "metadata": {},
   "outputs": [
    {
     "name": "stdout",
     "output_type": "stream",
     "text": [
      "Actual text: \n",
      "This product is not good. I do not recommend it.\n",
      "\n",
      "BoW input: \n",
      "'do good not not product recommend'\n"
     ]
    },
    {
     "data": {
      "text/plain": [
       "'Positive'"
      ]
     },
     "execution_count": 35,
     "metadata": {},
     "output_type": "execute_result"
    }
   ],
   "source": [
    "text: str = \"This product is not good. I do not recommend it.\"\n",
    "res: list[str] = sorted([\"product\", \"not\", \"good\", \"do\", \"not\", \"recommend\"])\n",
    "print(f\"Actual text: \\n{text}\")\n",
    "print(f\"\\nBoW input: \\n{' '.join(res)!r}\")\n",
    "result: str = \"Positive\" if lr_pipe.predict([text])[0] == 1 else \"Negative\"\n",
    "result"
   ]
  },
  {
   "cell_type": "code",
   "execution_count": 36,
   "metadata": {},
   "outputs": [
    {
     "data": {
      "text/plain": [
       "'Negative'"
      ]
     },
     "execution_count": 36,
     "metadata": {},
     "output_type": "execute_result"
    }
   ],
   "source": [
    "text: str = \"This product is awful.\"\n",
    "lr_pipe.predict_proba([text])[0]\n",
    "result: str = \"Positive\" if lr_pipe.predict([text])[0] == 1 else \"Negative\"\n",
    "result"
   ]
  },
  {
   "cell_type": "markdown",
   "metadata": {},
   "source": [
    "### Neural Networks (For Classification)"
   ]
  },
  {
   "cell_type": "code",
   "execution_count": 37,
   "metadata": {},
   "outputs": [],
   "source": [
    "import torch\n",
    "from torch.utils.data import Dataset, DataLoader\n",
    "from torch import Tensor\n",
    "\n",
    "\n",
    "class ReviewsDataset(Dataset):\n",
    "    \"\"\"\n",
    "    A dataset class for reviews and their corresponding targets.\n",
    "\n",
    "    Parameters\n",
    "    ----------\n",
    "    reviews : np.ndarray\n",
    "        Array of reviews. Shape: (n_samples,)\n",
    "    targets : np.ndarray\n",
    "        Array of targets. Shape: (n_samples,)\n",
    "\n",
    "    Attributes\n",
    "    ----------\n",
    "    reviews : np.ndarray\n",
    "        Array of reviews. Shape: (n_samples,)\n",
    "    targets : np.ndarray\n",
    "        Array of targets. Shape: (n_samples,)\n",
    "    \"\"\"\n",
    "\n",
    "    def __init__(self, reviews: np.ndarray, targets: np.ndarray) -> None:\n",
    "        self.reviews: Tensor = torch.tensor(reviews, dtype=torch.float32)\n",
    "        self.targets: Tensor = torch.tensor(targets, dtype=torch.long)\n",
    "\n",
    "    def __len__(self) -> int:\n",
    "        \"\"\"\n",
    "        Returns the number of samples in the dataset.\n",
    "        \"\"\"\n",
    "        return len(self.reviews)\n",
    "\n",
    "    def __getitem__(self, index: int) -> tuple[np.ndarray, np.ndarray]:\n",
    "        \"\"\"\n",
    "        Retrieves a single sample from the dataset.\n",
    "        \"\"\"\n",
    "        review: np.ndarray = self.reviews[index]\n",
    "        target: np.ndarray = self.targets[index]\n",
    "        return review, target"
   ]
  },
  {
   "cell_type": "code",
   "execution_count": 40,
   "metadata": {},
   "outputs": [
    {
     "data": {
      "text/html": [
       "<pre style=\"white-space:pre;overflow-x:auto;line-height:normal;font-family:Menlo,'DejaVu Sans Mono',consolas,'Courier New',monospace\"><span style=\"font-weight: bold\">(</span>\n",
       "    <span style=\"color: #800080; text-decoration-color: #800080; font-weight: bold\">tensor</span><span style=\"font-weight: bold\">([[</span> <span style=\"color: #008080; text-decoration-color: #008080; font-weight: bold\">0.1137</span>, <span style=\"color: #008080; text-decoration-color: #008080; font-weight: bold\">-0.0052</span>, <span style=\"color: #008080; text-decoration-color: #008080; font-weight: bold\">-0.0665</span>,  <span style=\"color: #008080; text-decoration-color: #008080; font-weight: bold\">0.0188</span>,  <span style=\"color: #008080; text-decoration-color: #008080; font-weight: bold\">0.0064</span>, <span style=\"color: #008080; text-decoration-color: #008080; font-weight: bold\">-0.1084</span>, <span style=\"color: #008080; text-decoration-color: #008080; font-weight: bold\">-0.0790</span>,  <span style=\"color: #008080; text-decoration-color: #008080; font-weight: bold\">0.0640</span>,\n",
       "         <span style=\"color: #008080; text-decoration-color: #008080; font-weight: bold\">-0.0135</span>,  <span style=\"color: #008080; text-decoration-color: #008080; font-weight: bold\">0.0279</span>,  <span style=\"color: #008080; text-decoration-color: #008080; font-weight: bold\">0.0135</span>,  <span style=\"color: #008080; text-decoration-color: #008080; font-weight: bold\">0.3086</span>, <span style=\"color: #008080; text-decoration-color: #008080; font-weight: bold\">-0.0026</span>, <span style=\"color: #008080; text-decoration-color: #008080; font-weight: bold\">-0.0729</span>,  <span style=\"color: #008080; text-decoration-color: #008080; font-weight: bold\">0.0531</span>, <span style=\"color: #008080; text-decoration-color: #008080; font-weight: bold\">-0.1193</span>,\n",
       "          <span style=\"color: #008080; text-decoration-color: #008080; font-weight: bold\">0.1331</span>, <span style=\"color: #008080; text-decoration-color: #008080; font-weight: bold\">-0.2461</span>, <span style=\"color: #008080; text-decoration-color: #008080; font-weight: bold\">-0.0277</span>,  <span style=\"color: #008080; text-decoration-color: #008080; font-weight: bold\">0.1528</span>,  <span style=\"color: #008080; text-decoration-color: #008080; font-weight: bold\">0.0482</span>,  <span style=\"color: #008080; text-decoration-color: #008080; font-weight: bold\">0.0235</span>,  <span style=\"color: #008080; text-decoration-color: #008080; font-weight: bold\">0.0241</span>, <span style=\"color: #008080; text-decoration-color: #008080; font-weight: bold\">-0.0390</span>,\n",
       "         <span style=\"color: #008080; text-decoration-color: #008080; font-weight: bold\">-0.0352</span>, <span style=\"color: #008080; text-decoration-color: #008080; font-weight: bold\">-0.0408</span>,  <span style=\"color: #008080; text-decoration-color: #008080; font-weight: bold\">0.0719</span>,  <span style=\"color: #008080; text-decoration-color: #008080; font-weight: bold\">0.1153</span>,  <span style=\"color: #008080; text-decoration-color: #008080; font-weight: bold\">0.3149</span>,  <span style=\"color: #008080; text-decoration-color: #008080; font-weight: bold\">0.1191</span>,  <span style=\"color: #008080; text-decoration-color: #008080; font-weight: bold\">0.0004</span>,  <span style=\"color: #008080; text-decoration-color: #008080; font-weight: bold\">0.1281</span>,\n",
       "         <span style=\"color: #008080; text-decoration-color: #008080; font-weight: bold\">-0.0905</span>,  <span style=\"color: #008080; text-decoration-color: #008080; font-weight: bold\">0.0818</span>,  <span style=\"color: #008080; text-decoration-color: #008080; font-weight: bold\">0.0802</span>,  <span style=\"color: #008080; text-decoration-color: #008080; font-weight: bold\">0.0379</span>,  <span style=\"color: #008080; text-decoration-color: #008080; font-weight: bold\">0.0938</span>,  <span style=\"color: #008080; text-decoration-color: #008080; font-weight: bold\">0.1293</span>, <span style=\"color: #008080; text-decoration-color: #008080; font-weight: bold\">-0.0056</span>,  <span style=\"color: #008080; text-decoration-color: #008080; font-weight: bold\">0.0132</span>,\n",
       "          <span style=\"color: #008080; text-decoration-color: #008080; font-weight: bold\">0.1223</span>,  <span style=\"color: #008080; text-decoration-color: #008080; font-weight: bold\">0.1018</span>,  <span style=\"color: #008080; text-decoration-color: #008080; font-weight: bold\">0.0469</span>, <span style=\"color: #008080; text-decoration-color: #008080; font-weight: bold\">-0.0127</span>,  <span style=\"color: #008080; text-decoration-color: #008080; font-weight: bold\">0.0653</span>, <span style=\"color: #008080; text-decoration-color: #008080; font-weight: bold\">-0.2083</span>,  <span style=\"color: #008080; text-decoration-color: #008080; font-weight: bold\">0.1924</span>,  <span style=\"color: #008080; text-decoration-color: #008080; font-weight: bold\">0.0594</span>,\n",
       "          <span style=\"color: #008080; text-decoration-color: #008080; font-weight: bold\">0.2240</span>, <span style=\"color: #008080; text-decoration-color: #008080; font-weight: bold\">-0.0544</span>,  <span style=\"color: #008080; text-decoration-color: #008080; font-weight: bold\">0.1726</span>, <span style=\"color: #008080; text-decoration-color: #008080; font-weight: bold\">-0.0740</span>, <span style=\"color: #008080; text-decoration-color: #008080; font-weight: bold\">-0.1236</span>, <span style=\"color: #008080; text-decoration-color: #008080; font-weight: bold\">-0.1494</span>, <span style=\"color: #008080; text-decoration-color: #008080; font-weight: bold\">-0.0030</span>, <span style=\"color: #008080; text-decoration-color: #008080; font-weight: bold\">-0.0340</span>,\n",
       "          <span style=\"color: #008080; text-decoration-color: #008080; font-weight: bold\">0.0366</span>, <span style=\"color: #008080; text-decoration-color: #008080; font-weight: bold\">-0.0427</span>,  <span style=\"color: #008080; text-decoration-color: #008080; font-weight: bold\">0.0423</span>,  <span style=\"color: #008080; text-decoration-color: #008080; font-weight: bold\">0.0117</span>, <span style=\"color: #008080; text-decoration-color: #008080; font-weight: bold\">-0.0740</span>, <span style=\"color: #008080; text-decoration-color: #008080; font-weight: bold\">-0.0383</span>,  <span style=\"color: #008080; text-decoration-color: #008080; font-weight: bold\">0.0787</span>,  <span style=\"color: #008080; text-decoration-color: #008080; font-weight: bold\">0.1037</span>,\n",
       "         <span style=\"color: #008080; text-decoration-color: #008080; font-weight: bold\">-0.1247</span>,  <span style=\"color: #008080; text-decoration-color: #008080; font-weight: bold\">0.0852</span>,  <span style=\"color: #008080; text-decoration-color: #008080; font-weight: bold\">0.0106</span>, <span style=\"color: #008080; text-decoration-color: #008080; font-weight: bold\">-0.0796</span>, <span style=\"color: #008080; text-decoration-color: #008080; font-weight: bold\">-0.0807</span>,  <span style=\"color: #008080; text-decoration-color: #008080; font-weight: bold\">0.0884</span>, <span style=\"color: #008080; text-decoration-color: #008080; font-weight: bold\">-0.1283</span>,  <span style=\"color: #008080; text-decoration-color: #008080; font-weight: bold\">0.0090</span>,\n",
       "         <span style=\"color: #008080; text-decoration-color: #008080; font-weight: bold\">-0.1851</span>,  <span style=\"color: #008080; text-decoration-color: #008080; font-weight: bold\">0.2563</span>,  <span style=\"color: #008080; text-decoration-color: #008080; font-weight: bold\">0.0630</span>, <span style=\"color: #008080; text-decoration-color: #008080; font-weight: bold\">-0.0017</span>,  <span style=\"color: #008080; text-decoration-color: #008080; font-weight: bold\">0.1200</span>,  <span style=\"color: #008080; text-decoration-color: #008080; font-weight: bold\">0.0821</span>, <span style=\"color: #008080; text-decoration-color: #008080; font-weight: bold\">-0.0038</span>, <span style=\"color: #008080; text-decoration-color: #008080; font-weight: bold\">-0.0838</span>,\n",
       "         <span style=\"color: #008080; text-decoration-color: #008080; font-weight: bold\">-0.0891</span>,  <span style=\"color: #008080; text-decoration-color: #008080; font-weight: bold\">0.1151</span>, <span style=\"color: #008080; text-decoration-color: #008080; font-weight: bold\">-0.0242</span>,  <span style=\"color: #008080; text-decoration-color: #008080; font-weight: bold\">0.0498</span>, <span style=\"color: #008080; text-decoration-color: #008080; font-weight: bold\">-0.0248</span>, <span style=\"color: #008080; text-decoration-color: #008080; font-weight: bold\">-0.0448</span>, <span style=\"color: #008080; text-decoration-color: #008080; font-weight: bold\">-0.0923</span>,  <span style=\"color: #008080; text-decoration-color: #008080; font-weight: bold\">0.0985</span>,\n",
       "         <span style=\"color: #008080; text-decoration-color: #008080; font-weight: bold\">-0.0924</span>,  <span style=\"color: #008080; text-decoration-color: #008080; font-weight: bold\">0.0156</span>, <span style=\"color: #008080; text-decoration-color: #008080; font-weight: bold\">-0.0237</span>, <span style=\"color: #008080; text-decoration-color: #008080; font-weight: bold\">-0.0643</span>,  <span style=\"color: #008080; text-decoration-color: #008080; font-weight: bold\">0.0370</span>, <span style=\"color: #008080; text-decoration-color: #008080; font-weight: bold\">-0.0325</span>,  <span style=\"color: #008080; text-decoration-color: #008080; font-weight: bold\">0.0037</span>,  <span style=\"color: #008080; text-decoration-color: #008080; font-weight: bold\">0.0759</span>,\n",
       "         <span style=\"color: #008080; text-decoration-color: #008080; font-weight: bold\">-0.0433</span>,  <span style=\"color: #008080; text-decoration-color: #008080; font-weight: bold\">0.0317</span>,  <span style=\"color: #008080; text-decoration-color: #008080; font-weight: bold\">0.0216</span>,  <span style=\"color: #008080; text-decoration-color: #008080; font-weight: bold\">0.0057</span><span style=\"font-weight: bold\">]</span>,\n",
       "        <span style=\"font-weight: bold\">[</span> <span style=\"color: #008080; text-decoration-color: #008080; font-weight: bold\">0.1011</span>, <span style=\"color: #008080; text-decoration-color: #008080; font-weight: bold\">-0.0095</span>, <span style=\"color: #008080; text-decoration-color: #008080; font-weight: bold\">-0.0220</span>, <span style=\"color: #008080; text-decoration-color: #008080; font-weight: bold\">-0.0893</span>,  <span style=\"color: #008080; text-decoration-color: #008080; font-weight: bold\">0.0444</span>,  <span style=\"color: #008080; text-decoration-color: #008080; font-weight: bold\">0.0144</span>,  <span style=\"color: #008080; text-decoration-color: #008080; font-weight: bold\">0.1465</span>, <span style=\"color: #008080; text-decoration-color: #008080; font-weight: bold\">-0.0014</span>,\n",
       "         <span style=\"color: #008080; text-decoration-color: #008080; font-weight: bold\">-0.1703</span>, <span style=\"color: #008080; text-decoration-color: #008080; font-weight: bold\">-0.0993</span>,  <span style=\"color: #008080; text-decoration-color: #008080; font-weight: bold\">0.2571</span>,  <span style=\"color: #008080; text-decoration-color: #008080; font-weight: bold\">0.1148</span>,  <span style=\"color: #008080; text-decoration-color: #008080; font-weight: bold\">0.0254</span>, <span style=\"color: #008080; text-decoration-color: #008080; font-weight: bold\">-0.0032</span>,  <span style=\"color: #008080; text-decoration-color: #008080; font-weight: bold\">0.0567</span>, <span style=\"color: #008080; text-decoration-color: #008080; font-weight: bold\">-0.0211</span>,\n",
       "         <span style=\"color: #008080; text-decoration-color: #008080; font-weight: bold\">-0.0989</span>,  <span style=\"color: #008080; text-decoration-color: #008080; font-weight: bold\">0.0939</span>, <span style=\"color: #008080; text-decoration-color: #008080; font-weight: bold\">-0.1174</span>, <span style=\"color: #008080; text-decoration-color: #008080; font-weight: bold\">-0.0181</span>,  <span style=\"color: #008080; text-decoration-color: #008080; font-weight: bold\">0.1412</span>, <span style=\"color: #008080; text-decoration-color: #008080; font-weight: bold\">-0.0207</span>, <span style=\"color: #008080; text-decoration-color: #008080; font-weight: bold\">-0.0863</span>,  <span style=\"color: #008080; text-decoration-color: #008080; font-weight: bold\">0.0367</span>,\n",
       "         <span style=\"color: #008080; text-decoration-color: #008080; font-weight: bold\">-0.0444</span>,  <span style=\"color: #008080; text-decoration-color: #008080; font-weight: bold\">0.1059</span>,  <span style=\"color: #008080; text-decoration-color: #008080; font-weight: bold\">0.0139</span>,  <span style=\"color: #008080; text-decoration-color: #008080; font-weight: bold\">0.0525</span>, <span style=\"color: #008080; text-decoration-color: #008080; font-weight: bold\">-0.1480</span>, <span style=\"color: #008080; text-decoration-color: #008080; font-weight: bold\">-0.0576</span>, <span style=\"color: #008080; text-decoration-color: #008080; font-weight: bold\">-0.0545</span>,  <span style=\"color: #008080; text-decoration-color: #008080; font-weight: bold\">0.0340</span>,\n",
       "         <span style=\"color: #008080; text-decoration-color: #008080; font-weight: bold\">-0.0877</span>,  <span style=\"color: #008080; text-decoration-color: #008080; font-weight: bold\">0.0756</span>, <span style=\"color: #008080; text-decoration-color: #008080; font-weight: bold\">-0.0747</span>,  <span style=\"color: #008080; text-decoration-color: #008080; font-weight: bold\">0.0406</span>,  <span style=\"color: #008080; text-decoration-color: #008080; font-weight: bold\">0.2843</span>, <span style=\"color: #008080; text-decoration-color: #008080; font-weight: bold\">-0.1226</span>, <span style=\"color: #008080; text-decoration-color: #008080; font-weight: bold\">-0.1352</span>,  <span style=\"color: #008080; text-decoration-color: #008080; font-weight: bold\">0.1283</span>,\n",
       "         <span style=\"color: #008080; text-decoration-color: #008080; font-weight: bold\">-0.0106</span>, <span style=\"color: #008080; text-decoration-color: #008080; font-weight: bold\">-0.0922</span>,  <span style=\"color: #008080; text-decoration-color: #008080; font-weight: bold\">0.0705</span>, <span style=\"color: #008080; text-decoration-color: #008080; font-weight: bold\">-0.0389</span>, <span style=\"color: #008080; text-decoration-color: #008080; font-weight: bold\">-0.2096</span>,  <span style=\"color: #008080; text-decoration-color: #008080; font-weight: bold\">0.0576</span>,  <span style=\"color: #008080; text-decoration-color: #008080; font-weight: bold\">0.0212</span>,  <span style=\"color: #008080; text-decoration-color: #008080; font-weight: bold\">0.2405</span>,\n",
       "          <span style=\"color: #008080; text-decoration-color: #008080; font-weight: bold\">0.0453</span>,  <span style=\"color: #008080; text-decoration-color: #008080; font-weight: bold\">0.0515</span>, <span style=\"color: #008080; text-decoration-color: #008080; font-weight: bold\">-0.1123</span>,  <span style=\"color: #008080; text-decoration-color: #008080; font-weight: bold\">0.0665</span>,  <span style=\"color: #008080; text-decoration-color: #008080; font-weight: bold\">0.0361</span>, <span style=\"color: #008080; text-decoration-color: #008080; font-weight: bold\">-0.0037</span>,  <span style=\"color: #008080; text-decoration-color: #008080; font-weight: bold\">0.3328</span>,  <span style=\"color: #008080; text-decoration-color: #008080; font-weight: bold\">0.1191</span>,\n",
       "         <span style=\"color: #008080; text-decoration-color: #008080; font-weight: bold\">-0.0961</span>,  <span style=\"color: #008080; text-decoration-color: #008080; font-weight: bold\">0.0692</span>,  <span style=\"color: #008080; text-decoration-color: #008080; font-weight: bold\">0.0454</span>,  <span style=\"color: #008080; text-decoration-color: #008080; font-weight: bold\">0.3283</span>,  <span style=\"color: #008080; text-decoration-color: #008080; font-weight: bold\">0.0227</span>, <span style=\"color: #008080; text-decoration-color: #008080; font-weight: bold\">-0.0457</span>, <span style=\"color: #008080; text-decoration-color: #008080; font-weight: bold\">-0.0599</span>, <span style=\"color: #008080; text-decoration-color: #008080; font-weight: bold\">-0.0248</span>,\n",
       "         <span style=\"color: #008080; text-decoration-color: #008080; font-weight: bold\">-0.0259</span>,  <span style=\"color: #008080; text-decoration-color: #008080; font-weight: bold\">0.2576</span>,  <span style=\"color: #008080; text-decoration-color: #008080; font-weight: bold\">0.1177</span>, <span style=\"color: #008080; text-decoration-color: #008080; font-weight: bold\">-0.0425</span>, <span style=\"color: #008080; text-decoration-color: #008080; font-weight: bold\">-0.0199</span>, <span style=\"color: #008080; text-decoration-color: #008080; font-weight: bold\">-0.0307</span>,  <span style=\"color: #008080; text-decoration-color: #008080; font-weight: bold\">0.0199</span>,  <span style=\"color: #008080; text-decoration-color: #008080; font-weight: bold\">0.0468</span>,\n",
       "         <span style=\"color: #008080; text-decoration-color: #008080; font-weight: bold\">-0.1440</span>,  <span style=\"color: #008080; text-decoration-color: #008080; font-weight: bold\">0.0566</span>,  <span style=\"color: #008080; text-decoration-color: #008080; font-weight: bold\">0.0053</span>,  <span style=\"color: #008080; text-decoration-color: #008080; font-weight: bold\">0.0614</span>,  <span style=\"color: #008080; text-decoration-color: #008080; font-weight: bold\">0.1355</span>, <span style=\"color: #008080; text-decoration-color: #008080; font-weight: bold\">-0.0569</span>, <span style=\"color: #008080; text-decoration-color: #008080; font-weight: bold\">-0.0192</span>,  <span style=\"color: #008080; text-decoration-color: #008080; font-weight: bold\">0.0143</span>,\n",
       "          <span style=\"color: #008080; text-decoration-color: #008080; font-weight: bold\">0.0352</span>, <span style=\"color: #008080; text-decoration-color: #008080; font-weight: bold\">-0.0907</span>,  <span style=\"color: #008080; text-decoration-color: #008080; font-weight: bold\">0.0956</span>,  <span style=\"color: #008080; text-decoration-color: #008080; font-weight: bold\">0.0004</span>,  <span style=\"color: #008080; text-decoration-color: #008080; font-weight: bold\">0.0478</span>,  <span style=\"color: #008080; text-decoration-color: #008080; font-weight: bold\">0.0695</span>, <span style=\"color: #008080; text-decoration-color: #008080; font-weight: bold\">-0.0549</span>,  <span style=\"color: #008080; text-decoration-color: #008080; font-weight: bold\">0.0035</span>,\n",
       "          <span style=\"color: #008080; text-decoration-color: #008080; font-weight: bold\">0.0338</span>, <span style=\"color: #008080; text-decoration-color: #008080; font-weight: bold\">-0.0117</span>,  <span style=\"color: #008080; text-decoration-color: #008080; font-weight: bold\">0.0304</span>,  <span style=\"color: #008080; text-decoration-color: #008080; font-weight: bold\">0.0235</span>, <span style=\"color: #008080; text-decoration-color: #008080; font-weight: bold\">-0.0552</span>,  <span style=\"color: #008080; text-decoration-color: #008080; font-weight: bold\">0.0127</span>,  <span style=\"color: #008080; text-decoration-color: #008080; font-weight: bold\">0.0327</span>,  <span style=\"color: #008080; text-decoration-color: #008080; font-weight: bold\">0.0505</span>,\n",
       "          <span style=\"color: #008080; text-decoration-color: #008080; font-weight: bold\">0.0161</span>,  <span style=\"color: #008080; text-decoration-color: #008080; font-weight: bold\">0.0433</span>,  <span style=\"color: #008080; text-decoration-color: #008080; font-weight: bold\">0.0086</span>, <span style=\"color: #008080; text-decoration-color: #008080; font-weight: bold\">-0.0118</span><span style=\"font-weight: bold\">]])</span>,\n",
       "    <span style=\"color: #800080; text-decoration-color: #800080; font-weight: bold\">tensor</span><span style=\"font-weight: bold\">([</span><span style=\"color: #008080; text-decoration-color: #008080; font-weight: bold\">1</span>, <span style=\"color: #008080; text-decoration-color: #008080; font-weight: bold\">1</span><span style=\"font-weight: bold\">])</span>\n",
       "<span style=\"font-weight: bold\">)</span>\n",
       "</pre>\n"
      ],
      "text/plain": [
       "\u001b[1m(\u001b[0m\n",
       "    \u001b[1;35mtensor\u001b[0m\u001b[1m(\u001b[0m\u001b[1m[\u001b[0m\u001b[1m[\u001b[0m \u001b[1;36m0.1137\u001b[0m, \u001b[1;36m-0.0052\u001b[0m, \u001b[1;36m-0.0665\u001b[0m,  \u001b[1;36m0.0188\u001b[0m,  \u001b[1;36m0.0064\u001b[0m, \u001b[1;36m-0.1084\u001b[0m, \u001b[1;36m-0.0790\u001b[0m,  \u001b[1;36m0.0640\u001b[0m,\n",
       "         \u001b[1;36m-0.0135\u001b[0m,  \u001b[1;36m0.0279\u001b[0m,  \u001b[1;36m0.0135\u001b[0m,  \u001b[1;36m0.3086\u001b[0m, \u001b[1;36m-0.0026\u001b[0m, \u001b[1;36m-0.0729\u001b[0m,  \u001b[1;36m0.0531\u001b[0m, \u001b[1;36m-0.1193\u001b[0m,\n",
       "          \u001b[1;36m0.1331\u001b[0m, \u001b[1;36m-0.2461\u001b[0m, \u001b[1;36m-0.0277\u001b[0m,  \u001b[1;36m0.1528\u001b[0m,  \u001b[1;36m0.0482\u001b[0m,  \u001b[1;36m0.0235\u001b[0m,  \u001b[1;36m0.0241\u001b[0m, \u001b[1;36m-0.0390\u001b[0m,\n",
       "         \u001b[1;36m-0.0352\u001b[0m, \u001b[1;36m-0.0408\u001b[0m,  \u001b[1;36m0.0719\u001b[0m,  \u001b[1;36m0.1153\u001b[0m,  \u001b[1;36m0.3149\u001b[0m,  \u001b[1;36m0.1191\u001b[0m,  \u001b[1;36m0.0004\u001b[0m,  \u001b[1;36m0.1281\u001b[0m,\n",
       "         \u001b[1;36m-0.0905\u001b[0m,  \u001b[1;36m0.0818\u001b[0m,  \u001b[1;36m0.0802\u001b[0m,  \u001b[1;36m0.0379\u001b[0m,  \u001b[1;36m0.0938\u001b[0m,  \u001b[1;36m0.1293\u001b[0m, \u001b[1;36m-0.0056\u001b[0m,  \u001b[1;36m0.0132\u001b[0m,\n",
       "          \u001b[1;36m0.1223\u001b[0m,  \u001b[1;36m0.1018\u001b[0m,  \u001b[1;36m0.0469\u001b[0m, \u001b[1;36m-0.0127\u001b[0m,  \u001b[1;36m0.0653\u001b[0m, \u001b[1;36m-0.2083\u001b[0m,  \u001b[1;36m0.1924\u001b[0m,  \u001b[1;36m0.0594\u001b[0m,\n",
       "          \u001b[1;36m0.2240\u001b[0m, \u001b[1;36m-0.0544\u001b[0m,  \u001b[1;36m0.1726\u001b[0m, \u001b[1;36m-0.0740\u001b[0m, \u001b[1;36m-0.1236\u001b[0m, \u001b[1;36m-0.1494\u001b[0m, \u001b[1;36m-0.0030\u001b[0m, \u001b[1;36m-0.0340\u001b[0m,\n",
       "          \u001b[1;36m0.0366\u001b[0m, \u001b[1;36m-0.0427\u001b[0m,  \u001b[1;36m0.0423\u001b[0m,  \u001b[1;36m0.0117\u001b[0m, \u001b[1;36m-0.0740\u001b[0m, \u001b[1;36m-0.0383\u001b[0m,  \u001b[1;36m0.0787\u001b[0m,  \u001b[1;36m0.1037\u001b[0m,\n",
       "         \u001b[1;36m-0.1247\u001b[0m,  \u001b[1;36m0.0852\u001b[0m,  \u001b[1;36m0.0106\u001b[0m, \u001b[1;36m-0.0796\u001b[0m, \u001b[1;36m-0.0807\u001b[0m,  \u001b[1;36m0.0884\u001b[0m, \u001b[1;36m-0.1283\u001b[0m,  \u001b[1;36m0.0090\u001b[0m,\n",
       "         \u001b[1;36m-0.1851\u001b[0m,  \u001b[1;36m0.2563\u001b[0m,  \u001b[1;36m0.0630\u001b[0m, \u001b[1;36m-0.0017\u001b[0m,  \u001b[1;36m0.1200\u001b[0m,  \u001b[1;36m0.0821\u001b[0m, \u001b[1;36m-0.0038\u001b[0m, \u001b[1;36m-0.0838\u001b[0m,\n",
       "         \u001b[1;36m-0.0891\u001b[0m,  \u001b[1;36m0.1151\u001b[0m, \u001b[1;36m-0.0242\u001b[0m,  \u001b[1;36m0.0498\u001b[0m, \u001b[1;36m-0.0248\u001b[0m, \u001b[1;36m-0.0448\u001b[0m, \u001b[1;36m-0.0923\u001b[0m,  \u001b[1;36m0.0985\u001b[0m,\n",
       "         \u001b[1;36m-0.0924\u001b[0m,  \u001b[1;36m0.0156\u001b[0m, \u001b[1;36m-0.0237\u001b[0m, \u001b[1;36m-0.0643\u001b[0m,  \u001b[1;36m0.0370\u001b[0m, \u001b[1;36m-0.0325\u001b[0m,  \u001b[1;36m0.0037\u001b[0m,  \u001b[1;36m0.0759\u001b[0m,\n",
       "         \u001b[1;36m-0.0433\u001b[0m,  \u001b[1;36m0.0317\u001b[0m,  \u001b[1;36m0.0216\u001b[0m,  \u001b[1;36m0.0057\u001b[0m\u001b[1m]\u001b[0m,\n",
       "        \u001b[1m[\u001b[0m \u001b[1;36m0.1011\u001b[0m, \u001b[1;36m-0.0095\u001b[0m, \u001b[1;36m-0.0220\u001b[0m, \u001b[1;36m-0.0893\u001b[0m,  \u001b[1;36m0.0444\u001b[0m,  \u001b[1;36m0.0144\u001b[0m,  \u001b[1;36m0.1465\u001b[0m, \u001b[1;36m-0.0014\u001b[0m,\n",
       "         \u001b[1;36m-0.1703\u001b[0m, \u001b[1;36m-0.0993\u001b[0m,  \u001b[1;36m0.2571\u001b[0m,  \u001b[1;36m0.1148\u001b[0m,  \u001b[1;36m0.0254\u001b[0m, \u001b[1;36m-0.0032\u001b[0m,  \u001b[1;36m0.0567\u001b[0m, \u001b[1;36m-0.0211\u001b[0m,\n",
       "         \u001b[1;36m-0.0989\u001b[0m,  \u001b[1;36m0.0939\u001b[0m, \u001b[1;36m-0.1174\u001b[0m, \u001b[1;36m-0.0181\u001b[0m,  \u001b[1;36m0.1412\u001b[0m, \u001b[1;36m-0.0207\u001b[0m, \u001b[1;36m-0.0863\u001b[0m,  \u001b[1;36m0.0367\u001b[0m,\n",
       "         \u001b[1;36m-0.0444\u001b[0m,  \u001b[1;36m0.1059\u001b[0m,  \u001b[1;36m0.0139\u001b[0m,  \u001b[1;36m0.0525\u001b[0m, \u001b[1;36m-0.1480\u001b[0m, \u001b[1;36m-0.0576\u001b[0m, \u001b[1;36m-0.0545\u001b[0m,  \u001b[1;36m0.0340\u001b[0m,\n",
       "         \u001b[1;36m-0.0877\u001b[0m,  \u001b[1;36m0.0756\u001b[0m, \u001b[1;36m-0.0747\u001b[0m,  \u001b[1;36m0.0406\u001b[0m,  \u001b[1;36m0.2843\u001b[0m, \u001b[1;36m-0.1226\u001b[0m, \u001b[1;36m-0.1352\u001b[0m,  \u001b[1;36m0.1283\u001b[0m,\n",
       "         \u001b[1;36m-0.0106\u001b[0m, \u001b[1;36m-0.0922\u001b[0m,  \u001b[1;36m0.0705\u001b[0m, \u001b[1;36m-0.0389\u001b[0m, \u001b[1;36m-0.2096\u001b[0m,  \u001b[1;36m0.0576\u001b[0m,  \u001b[1;36m0.0212\u001b[0m,  \u001b[1;36m0.2405\u001b[0m,\n",
       "          \u001b[1;36m0.0453\u001b[0m,  \u001b[1;36m0.0515\u001b[0m, \u001b[1;36m-0.1123\u001b[0m,  \u001b[1;36m0.0665\u001b[0m,  \u001b[1;36m0.0361\u001b[0m, \u001b[1;36m-0.0037\u001b[0m,  \u001b[1;36m0.3328\u001b[0m,  \u001b[1;36m0.1191\u001b[0m,\n",
       "         \u001b[1;36m-0.0961\u001b[0m,  \u001b[1;36m0.0692\u001b[0m,  \u001b[1;36m0.0454\u001b[0m,  \u001b[1;36m0.3283\u001b[0m,  \u001b[1;36m0.0227\u001b[0m, \u001b[1;36m-0.0457\u001b[0m, \u001b[1;36m-0.0599\u001b[0m, \u001b[1;36m-0.0248\u001b[0m,\n",
       "         \u001b[1;36m-0.0259\u001b[0m,  \u001b[1;36m0.2576\u001b[0m,  \u001b[1;36m0.1177\u001b[0m, \u001b[1;36m-0.0425\u001b[0m, \u001b[1;36m-0.0199\u001b[0m, \u001b[1;36m-0.0307\u001b[0m,  \u001b[1;36m0.0199\u001b[0m,  \u001b[1;36m0.0468\u001b[0m,\n",
       "         \u001b[1;36m-0.1440\u001b[0m,  \u001b[1;36m0.0566\u001b[0m,  \u001b[1;36m0.0053\u001b[0m,  \u001b[1;36m0.0614\u001b[0m,  \u001b[1;36m0.1355\u001b[0m, \u001b[1;36m-0.0569\u001b[0m, \u001b[1;36m-0.0192\u001b[0m,  \u001b[1;36m0.0143\u001b[0m,\n",
       "          \u001b[1;36m0.0352\u001b[0m, \u001b[1;36m-0.0907\u001b[0m,  \u001b[1;36m0.0956\u001b[0m,  \u001b[1;36m0.0004\u001b[0m,  \u001b[1;36m0.0478\u001b[0m,  \u001b[1;36m0.0695\u001b[0m, \u001b[1;36m-0.0549\u001b[0m,  \u001b[1;36m0.0035\u001b[0m,\n",
       "          \u001b[1;36m0.0338\u001b[0m, \u001b[1;36m-0.0117\u001b[0m,  \u001b[1;36m0.0304\u001b[0m,  \u001b[1;36m0.0235\u001b[0m, \u001b[1;36m-0.0552\u001b[0m,  \u001b[1;36m0.0127\u001b[0m,  \u001b[1;36m0.0327\u001b[0m,  \u001b[1;36m0.0505\u001b[0m,\n",
       "          \u001b[1;36m0.0161\u001b[0m,  \u001b[1;36m0.0433\u001b[0m,  \u001b[1;36m0.0086\u001b[0m, \u001b[1;36m-0.0118\u001b[0m\u001b[1m]\u001b[0m\u001b[1m]\u001b[0m\u001b[1m)\u001b[0m,\n",
       "    \u001b[1;35mtensor\u001b[0m\u001b[1m(\u001b[0m\u001b[1m[\u001b[0m\u001b[1;36m1\u001b[0m, \u001b[1;36m1\u001b[0m\u001b[1m]\u001b[0m\u001b[1m)\u001b[0m\n",
       "\u001b[1m)\u001b[0m\n"
      ]
     },
     "metadata": {},
     "output_type": "display_data"
    }
   ],
   "source": [
    "from sklearn.decomposition import TruncatedSVD\n",
    "\n",
    "\n",
    "# Test the ReviewsDataset class.\n",
    "n_components: int = 2_000\n",
    "sample_df: pl.DataFrame = merged_data.sample(100, shuffle=True)\n",
    "tfidf_vectorizer: TfidfVectorizer = TfidfVectorizer(\n",
    "    stop_words=stopwords, tokenizer=tokenizer, max_features=max_features\n",
    ")\n",
    "lsa_vectorizer: TruncatedSVD = TruncatedSVD(n_components=n_components)\n",
    "\n",
    "X_vec: csr_matrix = tfidf_vectorizer.fit_transform(\n",
    "    sample_df[\"review/text\"].to_numpy()\n",
    ").toarray()\n",
    "X_sample = lsa_vectorizer.fit_transform(X_vec)\n",
    "y_sample: np.ndarray = sample_df[\"sentiment\"].to_numpy()\n",
    "sample_data: ReviewsDataset = ReviewsDataset(X_sample, y_sample)\n",
    "\n",
    "console.print(sample_data[10:12])"
   ]
  },
  {
   "cell_type": "code",
   "execution_count": 41,
   "metadata": {},
   "outputs": [
    {
     "name": "stdout",
     "output_type": "stream",
     "text": [
      "X_train.shape = (68153,) | X_test.shape = (8415,) | X_val.shape = (7573,) \n"
     ]
    }
   ],
   "source": [
    "test_size: float = 0.1\n",
    "\n",
    "vect_pipe: Pipeline = Pipeline(\n",
    "    [\n",
    "        (\n",
    "            \"tfidf\",\n",
    "            TfidfVectorizer(\n",
    "                stop_words=stopwords, tokenizer=tokenizer, max_features=max_features\n",
    "            ),\n",
    "        ),\n",
    "        (\"lsa\", TruncatedSVD(n_components=n_components)),\n",
    "    ]\n",
    ")\n",
    "X_train, X_test, y_train, y_test = train_test_split(\n",
    "    X, y, stratify=y, test_size=test_size, random_state=seed\n",
    ")\n",
    "X_train, X_val, y_train, y_val = train_test_split(\n",
    "    X_train, y_train, stratify=y_train, test_size=test_size, random_state=seed\n",
    ")\n",
    "\n",
    "X_train_vec: np.ndarray = vect_pipe.fit_transform(X_train)\n",
    "X_test_vec: np.ndarray = vect_pipe.transform(X_test)\n",
    "X_val_vec: np.ndarray = vect_pipe.transform(X_val)\n",
    "\n",
    "print(f\"{X_train.shape = } | {X_test.shape = } | {X_val.shape = } \")"
   ]
  },
  {
   "cell_type": "code",
   "execution_count": 42,
   "metadata": {},
   "outputs": [],
   "source": [
    "batch_size: int = 64\n",
    "\n",
    "train_dataset: ReviewsDataset = ReviewsDataset(reviews=X_train_vec, targets=y_train)\n",
    "test_dataset: ReviewsDataset = ReviewsDataset(reviews=X_test_vec, targets=y_test)\n",
    "val_dataset: ReviewsDataset = ReviewsDataset(reviews=X_val_vec, targets=y_val)\n",
    "\n",
    "train_dataloader: DataLoader = DataLoader(\n",
    "    dataset=train_dataset, batch_size=batch_size, shuffle=True, drop_last=True\n",
    ")\n",
    "test_dataloader: DataLoader = DataLoader(\n",
    "    dataset=test_dataset, batch_size=batch_size, shuffle=False, drop_last=False\n",
    ")\n",
    "val_dataloader: DataLoader = DataLoader(\n",
    "    dataset=val_dataset, batch_size=batch_size, shuffle=False, drop_last=False\n",
    ")"
   ]
  },
  {
   "cell_type": "code",
   "execution_count": 43,
   "metadata": {},
   "outputs": [
    {
     "data": {
      "text/plain": [
       "{'num_features': 2000,\n",
       " 'hidden_size': 64,\n",
       " 'dropout_rate': 0.2,\n",
       " 'num_classes': 2}"
      ]
     },
     "execution_count": 43,
     "metadata": {},
     "output_type": "execute_result"
    }
   ],
   "source": [
    "from typing import TypedDict\n",
    "\n",
    "\n",
    "class ModelArgs(TypedDict):\n",
    "    num_features: int\n",
    "    hidden_size: int\n",
    "    dropout_rate: float\n",
    "    num_classes: int\n",
    "\n",
    "\n",
    "model_args: ModelArgs = {\n",
    "    \"num_features\": n_components,\n",
    "    \"hidden_size\": 2**6,\n",
    "    \"dropout_rate\": 0.2,\n",
    "    \"num_classes\": 2,\n",
    "}\n",
    "model_args"
   ]
  },
  {
   "cell_type": "code",
   "execution_count": 44,
   "metadata": {},
   "outputs": [
    {
     "data": {
      "text/plain": [
       "2"
      ]
     },
     "execution_count": 44,
     "metadata": {},
     "output_type": "execute_result"
    }
   ],
   "source": [
    "model_args[\"num_classes\"]"
   ]
  },
  {
   "cell_type": "code",
   "execution_count": 45,
   "metadata": {},
   "outputs": [],
   "source": [
    "from torch import Tensor, nn\n",
    "\n",
    "\n",
    "class ReviewsClassifier(nn.Module):\n",
    "    def __init__(self, model_args: ModelArgs) -> None:\n",
    "        super().__init__()\n",
    "\n",
    "        self.dropout = nn.Dropout(model_args[\"dropout_rate\"])\n",
    "        self.out_layer = nn.Sequential(\n",
    "            nn.Linear(model_args[\"num_features\"], model_args[\"hidden_size\"]),\n",
    "            nn.Linear(model_args[\"hidden_size\"], model_args[\"hidden_size\"]),\n",
    "            nn.Linear(model_args[\"hidden_size\"], model_args[\"num_classes\"]),\n",
    "        )\n",
    "        self.softmax = nn.Softmax(dim=1)\n",
    "\n",
    "    def forward(self, x: Tensor) -> Tensor:\n",
    "        x = self.dropout(x)\n",
    "        x = self.out_layer(x)\n",
    "        x = self.softmax(x)\n",
    "        return x"
   ]
  },
  {
   "cell_type": "code",
   "execution_count": 46,
   "metadata": {},
   "outputs": [
    {
     "data": {
      "text/plain": [
       "torch.Size([30, 2])"
      ]
     },
     "execution_count": 46,
     "metadata": {},
     "output_type": "execute_result"
    }
   ],
   "source": [
    "# Test the model\n",
    "dummy_model: ReviewsClassifier = ReviewsClassifier(model_args)\n",
    "dummy_model(torch.tensor(X_test_vec[:30], dtype=torch.float32)).shape"
   ]
  },
  {
   "cell_type": "code",
   "execution_count": 47,
   "metadata": {},
   "outputs": [],
   "source": [
    "from utils.neural_net_utils import (\n",
    "    train_classifier_mlp,\n",
    "    plot_values,\n",
    ")\n",
    "from sklearn import metrics"
   ]
  },
  {
   "cell_type": "code",
   "execution_count": 48,
   "metadata": {},
   "outputs": [
    {
     "name": "stdout",
     "output_type": "stream",
     "text": [
      "Validation accuracy [Random Model Weights]: 0.554\n"
     ]
    }
   ],
   "source": [
    "mlp_classifier: ReviewsClassifier = ReviewsClassifier(model_args)\n",
    "\n",
    "# Disable dropout\n",
    "mlp_classifier.eval()\n",
    "\n",
    "y_pred_val: Tensor = mlp_classifier(torch.tensor(X_val_vec, dtype=torch.float32))\n",
    "acc: float = metrics.accuracy_score(y_val, y_pred_val.argmax(dim=1))\n",
    "\n",
    "print(f\"Validation accuracy [Random Model Weights]: {acc:.3f}\")"
   ]
  },
  {
   "cell_type": "code",
   "execution_count": 49,
   "metadata": {},
   "outputs": [
    {
     "name": "stdout",
     "output_type": "stream",
     "text": [
      "Ep 1 (Step 000000): Train loss 0.690, Val loss 0.690\n",
      "Ep 1 (Step 000100): Train loss 0.688, Val loss 0.688\n",
      "Ep 1 (Step 000200): Train loss 0.685, Val loss 0.683\n",
      "Ep 1 (Step 000300): Train loss 0.674, Val loss 0.676\n",
      "Ep 1 (Step 000400): Train loss 0.661, Val loss 0.661\n",
      "Ep 1 (Step 000500): Train loss 0.632, Val loss 0.630\n",
      "Ep 1 (Step 000600): Train loss 0.589, Val loss 0.591\n",
      "Ep 1 (Step 000700): Train loss 0.558, Val loss 0.556\n",
      "Ep 1 (Step 000800): Train loss 0.530, Val loss 0.532\n",
      "Ep 1 (Step 000900): Train loss 0.519, Val loss 0.515\n",
      "Ep 1 (Step 001000): Train loss 0.494, Val loss 0.503\n",
      "Training accuracy: 84.03% | Validation accuracy: 84.31%\n",
      "Ep 2 (Step 001100): Train loss 0.494, Val loss 0.495\n",
      "Ep 2 (Step 001200): Train loss 0.481, Val loss 0.489\n",
      "Ep 2 (Step 001300): Train loss 0.478, Val loss 0.484\n",
      "Ep 2 (Step 001400): Train loss 0.476, Val loss 0.480\n",
      "Ep 2 (Step 001500): Train loss 0.468, Val loss 0.477\n",
      "Ep 2 (Step 001600): Train loss 0.471, Val loss 0.475\n",
      "Ep 2 (Step 001700): Train loss 0.464, Val loss 0.473\n",
      "Ep 2 (Step 001800): Train loss 0.466, Val loss 0.471\n",
      "Ep 2 (Step 001900): Train loss 0.472, Val loss 0.470\n",
      "Ep 2 (Step 002000): Train loss 0.466, Val loss 0.469\n",
      "Ep 2 (Step 002100): Train loss 0.467, Val loss 0.467\n",
      "Training accuracy: 84.44% | Validation accuracy: 84.88%\n",
      "Ep 3 (Step 002200): Train loss 0.467, Val loss 0.467\n",
      "Ep 3 (Step 002300): Train loss 0.458, Val loss 0.465\n",
      "Ep 3 (Step 002400): Train loss 0.464, Val loss 0.465\n",
      "Ep 3 (Step 002500): Train loss 0.460, Val loss 0.464\n",
      "Ep 3 (Step 002600): Train loss 0.449, Val loss 0.464\n",
      "Ep 3 (Step 002700): Train loss 0.460, Val loss 0.464\n",
      "Ep 3 (Step 002800): Train loss 0.460, Val loss 0.463\n",
      "Ep 3 (Step 002900): Train loss 0.457, Val loss 0.462\n",
      "Ep 3 (Step 003000): Train loss 0.461, Val loss 0.461\n",
      "Ep 3 (Step 003100): Train loss 0.463, Val loss 0.461\n",
      "Training accuracy: 85.50% | Validation accuracy: 85.34%\n",
      "Ep 4 (Step 003200): Train loss 0.462, Val loss 0.460\n",
      "Ep 4 (Step 003300): Train loss 0.454, Val loss 0.460\n",
      "Ep 4 (Step 003400): Train loss 0.451, Val loss 0.460\n",
      "Ep 4 (Step 003500): Train loss 0.457, Val loss 0.460\n",
      "Ep 4 (Step 003600): Train loss 0.459, Val loss 0.459\n",
      "Ep 4 (Step 003700): Train loss 0.456, Val loss 0.459\n",
      "Ep 4 (Step 003800): Train loss 0.462, Val loss 0.459\n",
      "Ep 4 (Step 003900): Train loss 0.460, Val loss 0.459\n",
      "Ep 4 (Step 004000): Train loss 0.447, Val loss 0.459\n",
      "Ep 4 (Step 004100): Train loss 0.457, Val loss 0.459\n",
      "Ep 4 (Step 004200): Train loss 0.457, Val loss 0.459\n",
      "Training accuracy: 85.91% | Validation accuracy: 85.38%\n",
      "Ep 5 (Step 004300): Train loss 0.445, Val loss 0.459\n",
      "Ep 5 (Step 004400): Train loss 0.448, Val loss 0.458\n",
      "Ep 5 (Step 004500): Train loss 0.450, Val loss 0.458\n",
      "Ep 5 (Step 004600): Train loss 0.454, Val loss 0.459\n",
      "Ep 5 (Step 004700): Train loss 0.458, Val loss 0.458\n",
      "Ep 5 (Step 004800): Train loss 0.465, Val loss 0.459\n",
      "Ep 5 (Step 004900): Train loss 0.457, Val loss 0.458\n",
      "Ep 5 (Step 005000): Train loss 0.458, Val loss 0.458\n",
      "Ep 5 (Step 005100): Train loss 0.448, Val loss 0.459\n",
      "Ep 5 (Step 005200): Train loss 0.442, Val loss 0.459\n",
      "Ep 5 (Step 005300): Train loss 0.461, Val loss 0.458\n",
      "Training accuracy: 85.28% | Validation accuracy: 85.44%\n",
      "Ep 6 (Step 005400): Train loss 0.452, Val loss 0.458\n",
      "Ep 6 (Step 005500): Train loss 0.450, Val loss 0.459\n",
      "Ep 6 (Step 005600): Train loss 0.455, Val loss 0.459\n",
      "Ep 6 (Step 005700): Train loss 0.451, Val loss 0.459\n",
      "Ep 6 (Step 005800): Train loss 0.449, Val loss 0.459\n",
      "Ep 6 (Step 005900): Train loss 0.453, Val loss 0.460\n",
      "Ep 6 (Step 006000): Train loss 0.452, Val loss 0.459\n",
      "Ep 6 (Step 006100): Train loss 0.458, Val loss 0.459\n",
      "Ep 6 (Step 006200): Train loss 0.452, Val loss 0.458\n",
      "Ep 6 (Step 006300): Train loss 0.453, Val loss 0.458\n",
      "Training accuracy: 85.59% | Validation accuracy: 85.44%\n",
      "Ep 7 (Step 006400): Train loss 0.452, Val loss 0.458\n",
      "Ep 7 (Step 006500): Train loss 0.447, Val loss 0.459\n",
      "Ep 7 (Step 006600): Train loss 0.455, Val loss 0.460\n",
      "Ep 7 (Step 006700): Train loss 0.454, Val loss 0.459\n",
      "Ep 7 (Step 006800): Train loss 0.456, Val loss 0.459\n",
      "Ep 7 (Step 006900): Train loss 0.461, Val loss 0.460\n",
      "Ep 7 (Step 007000): Train loss 0.455, Val loss 0.459\n",
      "Ep 7 (Step 007100): Train loss 0.447, Val loss 0.459\n",
      "Ep 7 (Step 007200): Train loss 0.458, Val loss 0.458\n",
      "Ep 7 (Step 007300): Train loss 0.453, Val loss 0.458\n",
      "Ep 7 (Step 007400): Train loss 0.456, Val loss 0.458\n",
      "Training accuracy: 85.91% | Validation accuracy: 85.06%\n",
      "Ep 8 (Step 007500): Train loss 0.447, Val loss 0.458\n",
      "Ep 8 (Step 007600): Train loss 0.439, Val loss 0.458\n",
      "Ep 8 (Step 007700): Train loss 0.454, Val loss 0.458\n",
      "Ep 8 (Step 007800): Train loss 0.455, Val loss 0.458\n",
      "Ep 8 (Step 007900): Train loss 0.450, Val loss 0.459\n",
      "Ep 8 (Step 008000): Train loss 0.457, Val loss 0.460\n",
      "Ep 8 (Step 008100): Train loss 0.450, Val loss 0.459\n",
      "Ep 8 (Step 008200): Train loss 0.456, Val loss 0.459\n",
      "Ep 8 (Step 008300): Train loss 0.454, Val loss 0.459\n",
      "Ep 8 (Step 008400): Train loss 0.456, Val loss 0.458\n",
      "Ep 8 (Step 008500): Train loss 0.449, Val loss 0.458\n",
      "Training accuracy: 84.72% | Validation accuracy: 85.25%\n",
      "Ep 9 (Step 008600): Train loss 0.456, Val loss 0.458\n",
      "Ep 9 (Step 008700): Train loss 0.448, Val loss 0.458\n",
      "Ep 9 (Step 008800): Train loss 0.451, Val loss 0.458\n",
      "Ep 9 (Step 008900): Train loss 0.452, Val loss 0.458\n",
      "Ep 9 (Step 009000): Train loss 0.449, Val loss 0.458\n",
      "Ep 9 (Step 009100): Train loss 0.446, Val loss 0.458\n",
      "Ep 9 (Step 009200): Train loss 0.454, Val loss 0.458\n",
      "Ep 9 (Step 009300): Train loss 0.443, Val loss 0.458\n",
      "Ep 9 (Step 009400): Train loss 0.458, Val loss 0.459\n",
      "Ep 9 (Step 009500): Train loss 0.456, Val loss 0.458\n",
      "Training accuracy: 86.28% | Validation accuracy: 85.53%\n",
      "Ep 10 (Step 009600): Train loss 0.453, Val loss 0.458\n",
      "Ep 10 (Step 009700): Train loss 0.457, Val loss 0.458\n",
      "Ep 10 (Step 009800): Train loss 0.454, Val loss 0.458\n",
      "Ep 10 (Step 009900): Train loss 0.450, Val loss 0.458\n",
      "Ep 10 (Step 010000): Train loss 0.448, Val loss 0.458\n",
      "Ep 10 (Step 010100): Train loss 0.449, Val loss 0.458\n",
      "Ep 10 (Step 010200): Train loss 0.449, Val loss 0.458\n",
      "Ep 10 (Step 010300): Train loss 0.448, Val loss 0.459\n",
      "Ep 10 (Step 010400): Train loss 0.451, Val loss 0.458\n",
      "Ep 10 (Step 010500): Train loss 0.451, Val loss 0.459\n",
      "Ep 10 (Step 010600): Train loss 0.442, Val loss 0.458\n",
      "Training accuracy: 85.97% | Validation accuracy: 85.53%\n"
     ]
    }
   ],
   "source": [
    "from torch.optim import Adam\n",
    "\n",
    "learning_rate: float = 1e-4\n",
    "num_epochs: int = 10\n",
    "eval_freq: int = 100\n",
    "eval_iter: int = 50\n",
    "optimizer = Adam(mlp_classifier.parameters(), lr=learning_rate)\n",
    "device: torch.device | str = \"cuda\" if torch.cuda.is_available() else \"cpu\"\n",
    "\n",
    "model, train_losses, val_losses, train_accs, val_accs, examples_seen = (\n",
    "    train_classifier_mlp(\n",
    "        model=mlp_classifier,\n",
    "        train_loader=train_dataloader,\n",
    "        val_loader=val_dataloader,\n",
    "        optimizer=optimizer,\n",
    "        device=device,\n",
    "        num_epochs=num_epochs,\n",
    "        eval_freq=eval_freq,\n",
    "        eval_iter=eval_iter,\n",
    "    )\n",
    ")"
   ]
  },
  {
   "cell_type": "code",
   "execution_count": 50,
   "metadata": {},
   "outputs": [
    {
     "name": "stdout",
     "output_type": "stream",
     "text": [
      "Test accuracy [Trained Model]: 0.838\n",
      "Test ROC AUC [Trained Model]: 0.913\n"
     ]
    }
   ],
   "source": [
    "y_pred_test: Tensor = mlp_classifier(torch.tensor(X_test_vec, dtype=torch.float32))\n",
    "acc: float = metrics.accuracy_score(y_test, y_pred_test.argmax(dim=1))\n",
    "roc: float = metrics.roc_auc_score(y_test, y_pred_test[:, 1].detach().numpy())\n",
    "\n",
    "print(f\"Test accuracy [Trained Model]: {acc:.3f}\")\n",
    "print(f\"Test ROC AUC [Trained Model]: {roc:.3f}\")"
   ]
  },
  {
   "cell_type": "code",
   "execution_count": 51,
   "metadata": {},
   "outputs": [
    {
     "data": {
      "image/png": "[encoded data removed]",
      "text/plain": [
       "<Figure size 700x400 with 2 Axes>"
      ]
     },
     "metadata": {},
     "output_type": "display_data"
    }
   ],
   "source": [
    "epochs_tensor: Tensor = torch.linspace(0, num_epochs, len(train_losses))\n",
    "examples_seen_tensor: Tensor = torch.linspace(0, examples_seen, len(train_losses))\n",
    "plot_values(\n",
    "    epochs_seen=epochs_tensor,\n",
    "    examples_seen=examples_seen_tensor,\n",
    "    train_values=train_losses,\n",
    "    val_values=val_losses,\n",
    ")"
   ]
  },
  {
   "cell_type": "code",
   "execution_count": 52,
   "metadata": {},
   "outputs": [
    {
     "name": "stdout",
     "output_type": "stream",
     "text": [
      "Text: This product is not good. I do not recommend it. \n",
      "Prediction: Positive | (probability: 0.9977)\n"
     ]
    }
   ],
   "source": [
    "text: str = \"This product is not good. I do not recommend it.\"\n",
    "text_vec: Tensor = torch.tensor(vect_pipe.transform([text]), dtype=torch.float32)\n",
    "pred: int = mlp_classifier(text_vec).argmax(-1).detach().numpy()[0]\n",
    "proba: float = mlp_classifier(text_vec)[:, pred].detach().numpy()[0]\n",
    "result: str = \"Positive\" if pred == 1 else \"Negative\"\n",
    "print(f\"Text: {text} \\nPrediction: {result} | (probability: {proba:.4f})\")"
   ]
  },
  {
   "cell_type": "code",
   "execution_count": 53,
   "metadata": {},
   "outputs": [
    {
     "name": "stdout",
     "output_type": "stream",
     "text": [
      "Text: This product is awful. \n",
      "Prediction: Negative | (probability: 0.9927)\n"
     ]
    }
   ],
   "source": [
    "text: str = \"This product is awful.\"\n",
    "text_vec: Tensor = torch.tensor(vect_pipe.transform([text]), dtype=torch.float32)\n",
    "pred: int = mlp_classifier(text_vec).argmax(-1).detach().numpy()[0]\n",
    "proba: float = mlp_classifier(text_vec)[:, pred].detach().numpy()[0]\n",
    "result: str = \"Positive\" if pred == 1 else \"Negative\"\n",
    "print(f\"Text: {text} \\nPrediction: {result} | (probability: {proba:.4f})\")"
   ]
  },
  {
   "cell_type": "code",
   "execution_count": null,
   "metadata": {},
   "outputs": [],
   "source": []
  }
 ],
 "metadata": {
  "kernelspec": {
   "display_name": "torch p_311",
   "language": "python",
   "name": "torch_p11"
  },
  "language_info": {
   "codemirror_mode": {
    "name": "ipython",
    "version": 3
   },
   "file_extension": ".py",
   "mimetype": "text/x-python",
   "name": "python",
   "nbconvert_exporter": "python",
   "pygments_lexer": "ipython3",
   "version": "3.11.8"
  }
 },
 "nbformat": 4,
 "nbformat_minor": 2
}
