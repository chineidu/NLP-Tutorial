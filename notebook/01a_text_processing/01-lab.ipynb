{
 "cells": [
  {
   "cell_type": "markdown",
   "metadata": {},
   "source": [
    "## Text Processing Lab"
   ]
  },
  {
   "cell_type": "code",
   "execution_count": 1,
   "metadata": {},
   "outputs": [
    {
     "name": "stdout",
     "output_type": "stream",
     "text": [
      "Python implementation: CPython\n",
      "Python version       : 3.11.8\n",
      "IPython version      : 8.22.2\n",
      "\n",
      "numpy    : 1.26.4\n",
      "mlxtend  : 0.23.1\n",
      "pandas   : 2.2.1\n",
      "polars   : 0.20.18\n",
      "omegaconf: 2.3.0\n",
      "\n",
      "conda environment: torch_p11\n",
      "\n"
     ]
    }
   ],
   "source": [
    "%load_ext watermark\n",
    "%watermark -v -p numpy,mlxtend,pandas,polars,omegaconf --conda"
   ]
  },
  {
   "cell_type": "code",
   "execution_count": 2,
   "metadata": {},
   "outputs": [],
   "source": [
    "# Built-in library\n",
    "from pathlib import Path\n",
    "import re\n",
    "import json\n",
    "from typing import Any, Optional, Union\n",
    "import logging\n",
    "import warnings\n",
    "\n",
    "# Standard imports\n",
    "import numpy as np\n",
    "import numpy.typing as npt\n",
    "from pprint import pprint\n",
    "import pandas as pd\n",
    "import polars as pl\n",
    "from rich.console import Console\n",
    "from rich.theme import Theme\n",
    "\n",
    "custom_theme = Theme(\n",
    "    {\n",
    "        \"info\": \"#76FF7B\",\n",
    "        \"warning\": \"#FBDDFE\",\n",
    "        \"error\": \"#FF0000\",\n",
    "    }\n",
    ")\n",
    "console = Console(theme=custom_theme)\n",
    "\n",
    "# Visualization\n",
    "import matplotlib.pyplot as plt\n",
    "\n",
    "# NumPy settings\n",
    "np.set_printoptions(precision=4)\n",
    "\n",
    "# Pandas settings\n",
    "pd.options.display.max_rows = 1_000\n",
    "pd.options.display.max_columns = 1_000\n",
    "pd.options.display.max_colwidth = 600\n",
    "\n",
    "# Polars settings\n",
    "pl.Config.set_fmt_str_lengths(1_000)\n",
    "pl.Config.set_tbl_cols(n=1_000)\n",
    "pl.Config.set_tbl_rows(n=200)\n",
    "\n",
    "warnings.filterwarnings(\"ignore\")\n",
    "\n",
    "\n",
    "# Black code formatter (Optional)\n",
    "%load_ext lab_black\n",
    "\n",
    "# auto reload imports\n",
    "%load_ext autoreload\n",
    "%autoreload 2"
   ]
  },
  {
   "cell_type": "code",
   "execution_count": 3,
   "metadata": {},
   "outputs": [],
   "source": [
    "from tqdm import tqdm\n",
    "\n",
    "\n",
    "def process_text(text: list[str]) -> list[str]:\n",
    "    \"\"\"\n",
    "    Process a list of text lines to extract product IDs and categories.\n",
    "\n",
    "    Parameters\n",
    "    ----------\n",
    "    text : list[str]\n",
    "        A list of strings representing lines of text to process.\n",
    "\n",
    "    Returns\n",
    "    -------\n",
    "    list[str]\n",
    "        A list of strings, each containing a product ID and its associated category.\n",
    "\n",
    "    \"\"\"\n",
    "    result: list[str] = []\n",
    "    is_id: bool = False\n",
    "    string: str = \"\"\n",
    "    prod_id: str = \"\"\n",
    "    pattern = r\"^[A-Z][a-z]+\"  # Starts with a capital letter and then lowercase letters\n",
    "\n",
    "    for line in tqdm(text, desc=\"Processing Text\", unit=\"line\", ncols=100):\n",
    "        counter: int = 0\n",
    "        if len(line.split(\",\")) == 1 and len(re.findall(pattern, line.strip())) == 0:\n",
    "            is_id = True\n",
    "            prod_id = line.strip()\n",
    "\n",
    "        elif len(re.findall(pattern, line.strip())) >= 1:\n",
    "            string = \"\"\n",
    "            is_id = False\n",
    "            prod_cat: str = line.strip()\n",
    "            string += prod_cat\n",
    "            counter += 1\n",
    "\n",
    "        if not is_id and counter > 0:\n",
    "            result.append(f\"{prod_id}: {string}\")\n",
    "\n",
    "    return result"
   ]
  },
  {
   "cell_type": "code",
   "execution_count": 4,
   "metadata": {},
   "outputs": [],
   "source": [
    "# fp: str = \"./sample.txt\"\n",
    "fp: str = \"../../data/categories.txt\"\n",
    "\n",
    "with open(fp, \"r\", encoding=\"latin-1\") as f:\n",
    "    texts: list[str] = f.readlines()"
   ]
  },
  {
   "cell_type": "code",
   "execution_count": 5,
   "metadata": {},
   "outputs": [
    {
     "name": "stderr",
     "output_type": "stream",
     "text": [
      "Processing Text: 100%|██████████████████████████████| 7313587/7313587 [00:12<00:00, 577626.24line/s]\n"
     ]
    }
   ],
   "source": [
    "result: list[str] = process_text(text=texts)"
   ]
  },
  {
   "cell_type": "code",
   "execution_count": 6,
   "metadata": {},
   "outputs": [
    {
     "name": "stdout",
     "output_type": "stream",
     "text": [
      "data.shape = (4869346, 2)\n"
     ]
    },
    {
     "data": {
      "text/html": [
       "<div><style>\n",
       ".dataframe > thead > tr,\n",
       ".dataframe > tbody > tr {\n",
       "  text-align: right;\n",
       "  white-space: pre-wrap;\n",
       "}\n",
       "</style>\n",
       "<small>shape: (10, 2)</small><table border=\"1\" class=\"dataframe\"><thead><tr><th>product_id</th><th>product_category</th></tr><tr><td>str</td><td>str</td></tr></thead><tbody><tr><td>&quot;B000EBADY8&quot;</td><td>&quot;Industrial &amp; Scientific, Cutting Tools, Industrial Drill Bits, Metalworking &amp; Multipurpose Drill Bits, Step Drill Bits&quot;</td></tr><tr><td>&quot;B00005TZY6&quot;</td><td>&quot;Books, Science &amp; Math, Nature &amp; Ecology, Natural Resources&quot;</td></tr><tr><td>&quot;B000GIWMIE&quot;</td><td>&quot;Music, Rock&quot;</td></tr><tr><td>&quot;0789002000&quot;</td><td>&quot;Books, Parenting &amp; Relationships, Family Relationships, Dysfunctional Relationships&quot;</td></tr><tr><td>&quot;B00000JAIV&quot;</td><td>&quot;Music, Classic Rock&quot;</td></tr><tr><td>&quot;1740471539&quot;</td><td>&quot;Books, Children&#x27;s Books, Animals, Bugs &amp; Spiders&quot;</td></tr><tr><td>&quot;0812924975&quot;</td><td>&quot;Books, Biographies &amp; Memoirs, Arts &amp; Literature, Authors&quot;</td></tr><tr><td>&quot;0140377182&quot;</td><td>&quot;Books, Teens&quot;</td></tr><tr><td>&quot;B00004Z4ZR&quot;</td><td>&quot;Music, Alternative Rock&quot;</td></tr><tr><td>&quot;158832009X&quot;</td><td>&quot;Books, Literature &amp; Fiction, Contemporary&quot;</td></tr></tbody></table></div>"
      ],
      "text/plain": [
       "shape: (10, 2)\n",
       "┌────────────┬─────────────────────────────────────────────────────────────────────────────────────┐\n",
       "│ product_id ┆ product_category                                                                    │\n",
       "│ ---        ┆ ---                                                                                 │\n",
       "│ str        ┆ str                                                                                 │\n",
       "╞════════════╪═════════════════════════════════════════════════════════════════════════════════════╡\n",
       "│ B000EBADY8 ┆ Industrial & Scientific, Cutting Tools, Industrial Drill Bits, Metalworking &       │\n",
       "│            ┆ Multipurpose Drill Bits, Step Drill Bits                                            │\n",
       "│ B00005TZY6 ┆ Books, Science & Math, Nature & Ecology, Natural Resources                          │\n",
       "│ B000GIWMIE ┆ Music, Rock                                                                         │\n",
       "│ 0789002000 ┆ Books, Parenting & Relationships, Family Relationships, Dysfunctional Relationships │\n",
       "│ B00000JAIV ┆ Music, Classic Rock                                                                 │\n",
       "│ 1740471539 ┆ Books, Children's Books, Animals, Bugs & Spiders                                    │\n",
       "│ 0812924975 ┆ Books, Biographies & Memoirs, Arts & Literature, Authors                            │\n",
       "│ 0140377182 ┆ Books, Teens                                                                        │\n",
       "│ B00004Z4ZR ┆ Music, Alternative Rock                                                             │\n",
       "│ 158832009X ┆ Books, Literature & Fiction, Contemporary                                           │\n",
       "└────────────┴─────────────────────────────────────────────────────────────────────────────────────┘"
      ]
     },
     "execution_count": 6,
     "metadata": {},
     "output_type": "execute_result"
    }
   ],
   "source": [
    "data: pl.DataFrame = (\n",
    "    pl.DataFrame(result)\n",
    "    .select(\n",
    "        pl.col(\"column_0\")\n",
    "        .str.split_exact(\":\", 1)\n",
    "        .struct.rename_fields([\"product_id\", \"product_category\"])\n",
    "    )\n",
    "    .unnest(\"column_0\")\n",
    ").with_columns(product_category=pl.col(\"product_category\").str.strip())\n",
    "\n",
    "# Drop duplicates\n",
    "data = data.unique(subset=[\"product_id\", \"product_category\"])\n",
    "print(f\"{data.shape = }\")\n",
    "data.head(10)"
   ]
  },
  {
   "cell_type": "code",
   "execution_count": 7,
   "metadata": {},
   "outputs": [
    {
     "data": {
      "text/html": [
       "<div><style>\n",
       ".dataframe > thead > tr,\n",
       ".dataframe > tbody > tr {\n",
       "  text-align: right;\n",
       "  white-space: pre-wrap;\n",
       "}\n",
       "</style>\n",
       "<small>shape: (5, 2)</small><table border=\"1\" class=\"dataframe\"><thead><tr><th>product_id</th><th>product_category</th></tr><tr><td>str</td><td>str</td></tr></thead><tbody><tr><td>&quot;9622017762&quot;</td><td>&quot;Books, Politics &amp; Social Sciences, Social Sciences, Specific Demographics, Ethnic Studies Books, Business &amp; Investing, Popular Economics Books, History, Asia, China Books, Business &amp; Investing, Real Estate Books, Professional &amp; Technical, Accounting &amp; Finance, International&quot;</td></tr><tr><td>&quot;B000QE9AZQ&quot;</td><td>&quot;Home &amp; Kitchen, Furniture, Living Room Furniture, Sofas &amp; Couches&quot;</td></tr><tr><td>&quot;B0001K5ZOU&quot;</td><td>&quot;Shoes, Men&quot;</td></tr><tr><td>&quot;B0000CDOJ3&quot;</td><td>&quot;Electronics, Computers &amp; Accessories, Computer Components&quot;</td></tr><tr><td>&quot;B000924R5I&quot;</td><td>&quot;Cell Phones &amp; Accessories, Accessories, Data Cables&quot;</td></tr></tbody></table></div>"
      ],
      "text/plain": [
       "shape: (5, 2)\n",
       "┌────────────┬─────────────────────────────────────────────────────────────────────────────────────┐\n",
       "│ product_id ┆ product_category                                                                    │\n",
       "│ ---        ┆ ---                                                                                 │\n",
       "│ str        ┆ str                                                                                 │\n",
       "╞════════════╪═════════════════════════════════════════════════════════════════════════════════════╡\n",
       "│ 9622017762 ┆ Books, Politics & Social Sciences, Social Sciences, Specific Demographics, Ethnic   │\n",
       "│            ┆ Studies Books, Business & Investing, Popular Economics Books, History, Asia, China  │\n",
       "│            ┆ Books, Business & Investing, Real Estate Books, Professional & Technical,           │\n",
       "│            ┆ Accounting & Finance, International                                                 │\n",
       "│ B000QE9AZQ ┆ Home & Kitchen, Furniture, Living Room Furniture, Sofas & Couches                   │\n",
       "│ B0001K5ZOU ┆ Shoes, Men                                                                          │\n",
       "│ B0000CDOJ3 ┆ Electronics, Computers & Accessories, Computer Components                           │\n",
       "│ B000924R5I ┆ Cell Phones & Accessories, Accessories, Data Cables                                 │\n",
       "└────────────┴─────────────────────────────────────────────────────────────────────────────────────┘"
      ]
     },
     "execution_count": 7,
     "metadata": {},
     "output_type": "execute_result"
    }
   ],
   "source": [
    "# data_grpby: pl.DataFrame = data.group_by(\"product_id\").agg(\n",
    "#     pl.col(\"product_category\").explode()\n",
    "# )\n",
    "\n",
    "# OR\n",
    "data_grpby: pl.DataFrame = data.groupby(\"product_id\").agg(\n",
    "    pl.col(\"product_category\").map_elements(lambda x: \" \".join(x))\n",
    ")\n",
    "\n",
    "# OR\n",
    "# data_grpby: pl.DataFrame = data.group_by(\"product_id\").agg((pl.struct(pl.col(\"product_category\"))))\n",
    "data_grpby.head()"
   ]
  },
  {
   "cell_type": "code",
   "execution_count": 8,
   "metadata": {},
   "outputs": [
    {
     "data": {
      "image/png": "[encoded data removed]",
      "text/plain": [
       "<Figure size 1000x700 with 1 Axes>"
      ]
     },
     "metadata": {},
     "output_type": "display_data"
    }
   ],
   "source": [
    "N: int = 10\n",
    "d: pl.DataFrame = (\n",
    "    data_grpby.select(\"product_category\").to_series().value_counts(sort=True).head(N)\n",
    ")\n",
    "plt.figure(figsize=(10, 7))\n",
    "plt.bar(d[\"product_category\"], d[\"count\"])\n",
    "plt.xticks(rotation=90)\n",
    "plt.title(f\"Top {N} Product Categories\")\n",
    "plt.tight_layout()\n",
    "plt.show()"
   ]
  },
  {
   "cell_type": "code",
   "execution_count": null,
   "metadata": {},
   "outputs": [],
   "source": []
  },
  {
   "cell_type": "code",
   "execution_count": null,
   "metadata": {},
   "outputs": [],
   "source": []
  },
  {
   "cell_type": "code",
   "execution_count": null,
   "metadata": {},
   "outputs": [],
   "source": []
  }
 ],
 "metadata": {
  "kernelspec": {
   "display_name": "torch p_311",
   "language": "python",
   "name": "torch_p11"
  },
  "language_info": {
   "codemirror_mode": {
    "name": "ipython",
    "version": 3
   },
   "file_extension": ".py",
   "mimetype": "text/x-python",
   "name": "python",
   "nbconvert_exporter": "python",
   "pygments_lexer": "ipython3",
   "version": "3.11.8"
  }
 },
 "nbformat": 4,
 "nbformat_minor": 2
}
