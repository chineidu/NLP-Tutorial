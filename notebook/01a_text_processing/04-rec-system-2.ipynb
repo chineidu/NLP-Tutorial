{
 "cells": [
  {
   "cell_type": "markdown",
   "metadata": {},
   "source": [
    "# Recommendation Systems (Continued)\n",
    "\n",
    "- **`Collaborative Filtering`**\n",
    "  - Recommends items based on the preferences of similar users.\n",
    "  - It doesn't require knowledge of the items themselves, just information about user interactions.\n",
    "  - For example, a music streaming service might recommend songs that other users with similar tastes have enjoyed."
   ]
  },
  {
   "cell_type": "code",
   "execution_count": 1,
   "metadata": {},
   "outputs": [
    {
     "name": "stdout",
     "output_type": "stream",
     "text": [
      "Python implementation: CPython\n",
      "Python version       : 3.11.8\n",
      "IPython version      : 8.22.2\n",
      "\n",
      "numpy    : 1.26.4\n",
      "pandas   : 2.2.1\n",
      "polars   : 0.20.18\n",
      "mlxtend  : 0.23.1\n",
      "omegaconf: 2.3.0\n",
      "\n",
      "conda environment: torch_p11\n",
      "\n"
     ]
    }
   ],
   "source": [
    "%load_ext watermark\n",
    "%watermark -v -p numpy,pandas,polars,mlxtend,omegaconf --conda"
   ]
  },
  {
   "cell_type": "code",
   "execution_count": 2,
   "metadata": {},
   "outputs": [],
   "source": [
    "# Built-in library\n",
    "from pathlib import Path\n",
    "import re\n",
    "import json\n",
    "from typing import Any, Optional, Union\n",
    "import logging\n",
    "import warnings\n",
    "\n",
    "# Standard imports\n",
    "import numpy as np\n",
    "import numpy.typing as npt\n",
    "from pprint import pprint\n",
    "import pandas as pd\n",
    "import polars as pl\n",
    "from rich.console import Console\n",
    "from rich.theme import Theme\n",
    "\n",
    "custom_theme = Theme(\n",
    "    {\n",
    "        \"info\": \"#76FF7B\",\n",
    "        \"warning\": \"#FBDDFE\",\n",
    "        \"error\": \"#FF0000\",\n",
    "    }\n",
    ")\n",
    "console = Console(theme=custom_theme)\n",
    "\n",
    "# Visualization\n",
    "import matplotlib.pyplot as plt\n",
    "\n",
    "# NumPy settings\n",
    "np.set_printoptions(precision=4)\n",
    "\n",
    "# Pandas settings\n",
    "pd.options.display.max_rows = 1_000\n",
    "pd.options.display.max_columns = 1_000\n",
    "pd.options.display.max_colwidth = 600\n",
    "\n",
    "# Polars settings\n",
    "pl.Config.set_fmt_str_lengths(1_000)\n",
    "pl.Config.set_tbl_cols(n=1_000)\n",
    "pl.Config.set_tbl_rows(n=200)\n",
    "\n",
    "warnings.filterwarnings(\"ignore\")\n",
    "\n",
    "\n",
    "# auto reload imports# Built-in library\n",
    "from pathlib import Path\n",
    "import re\n",
    "import json\n",
    "from typing import Any, Optional, Union\n",
    "import logging\n",
    "import warnings\n",
    "\n",
    "# Standard imports\n",
    "import numpy as np\n",
    "import numpy.typing as npt\n",
    "from pprint import pprint\n",
    "import pandas as pd\n",
    "import polars as pl\n",
    "from rich.console import Console\n",
    "from rich.theme import Theme\n",
    "\n",
    "custom_theme = Theme(\n",
    "    {\n",
    "        \"info\": \"#76FF7B\",\n",
    "        \"warning\": \"#FBDDFE\",\n",
    "        \"error\": \"#FF0000\",\n",
    "    }\n",
    ")\n",
    "console = Console(theme=custom_theme)\n",
    "\n",
    "# Visualization\n",
    "import matplotlib.pyplot as plt\n",
    "\n",
    "# NumPy settings\n",
    "np.set_printoptions(precision=4)\n",
    "\n",
    "# Pandas settings\n",
    "pd.options.display.max_rows = 1_000\n",
    "pd.options.display.max_columns = 1_000\n",
    "pd.options.display.max_colwidth = 600\n",
    "\n",
    "# Polars settings\n",
    "pl.Config.set_fmt_str_lengths(1_000)\n",
    "pl.Config.set_tbl_cols(n=1_000)\n",
    "pl.Config.set_tbl_rows(500)\n",
    "\n",
    "warnings.filterwarnings(\"ignore\")\n",
    "\n",
    "\n",
    "# Black code formatter (Optional)\n",
    "%load_ext lab_black\n",
    "\n",
    "# auto reload imports\n",
    "%load_ext autoreload\n",
    "%autoreload 2"
   ]
  },
  {
   "cell_type": "code",
   "execution_count": 3,
   "metadata": {},
   "outputs": [
    {
     "name": "stdout",
     "output_type": "stream",
     "text": [
      "prod_df.shape = (37853, 6)\n"
     ]
    },
    {
     "data": {
      "text/html": [
       "<div><style>\n",
       ".dataframe > thead > tr,\n",
       ".dataframe > tbody > tr {\n",
       "  text-align: right;\n",
       "  white-space: pre-wrap;\n",
       "}\n",
       "</style>\n",
       "<small>shape: (3, 6)</small><table border=\"1\" class=\"dataframe\"><thead><tr><th>productId</th><th>title</th><th>product_category</th><th>summary</th><th>genres</th><th>metadata</th></tr><tr><td>str</td><td>str</td><td>str</td><td>str</td><td>str</td><td>str</td></tr></thead><tbody><tr><td>&quot;B0009839OW&quot;</td><td>&quot;anythang 4 money compilation&quot;</td><td>&quot;music,  rap &amp; hip-hop&quot;</td><td>&quot;anythang 4 money sicc sicc sicc&quot;</td><td>&quot;music   rap &amp; hip-hop&quot;</td><td>&quot;anythang 4 money sicc sicc sicc music   rap &amp; hip-hop anythang 4 money compilation&quot;</td></tr><tr><td>&quot;B0002BSFPE&quot;</td><td>&quot;classical guitar wedding ceremony&quot;</td><td>&quot;music,  miscellaneous music,  pop music,  classical&quot;</td><td>&quot;perfect for an intimate wedding&quot;</td><td>&quot;music   miscellaneous music   pop music   classical&quot;</td><td>&quot;perfect for an intimate wedding music   miscellaneous music   pop music   classical classical guitar wedding ceremony&quot;</td></tr><tr><td>&quot;B0000CF335&quot;</td><td>&quot;desi&quot;</td><td>&quot;music,  pop music,  dance &amp; electronic music,  world music music,  rap &amp; hip-hop&quot;</td><td>&quot;panjabi mc is fantastic&quot;</td><td>&quot;music   pop music   dance &amp; electronic music   world music music   rap &amp; hip-hop&quot;</td><td>&quot;panjabi mc is fantastic music   pop music   dance &amp; electronic music   world music music   rap &amp; hip-hop desi&quot;</td></tr></tbody></table></div>"
      ],
      "text/plain": [
       "shape: (3, 6)\n",
       "┌────────────┬─────────────────┬────────────────┬────────────────┬────────────────┬────────────────┐\n",
       "│ productId  ┆ title           ┆ product_catego ┆ summary        ┆ genres         ┆ metadata       │\n",
       "│ ---        ┆ ---             ┆ ry             ┆ ---            ┆ ---            ┆ ---            │\n",
       "│ str        ┆ str             ┆ ---            ┆ str            ┆ str            ┆ str            │\n",
       "│            ┆                 ┆ str            ┆                ┆                ┆                │\n",
       "╞════════════╪═════════════════╪════════════════╪════════════════╪════════════════╪════════════════╡\n",
       "│ B0009839OW ┆ anythang 4      ┆ music,  rap &  ┆ anythang 4     ┆ music   rap &  ┆ anythang 4     │\n",
       "│            ┆ money           ┆ hip-hop        ┆ money sicc     ┆ hip-hop        ┆ money sicc     │\n",
       "│            ┆ compilation     ┆                ┆ sicc sicc      ┆                ┆ sicc sicc      │\n",
       "│            ┆                 ┆                ┆                ┆                ┆ music   rap &  │\n",
       "│            ┆                 ┆                ┆                ┆                ┆ hip-hop        │\n",
       "│            ┆                 ┆                ┆                ┆                ┆ anythang 4     │\n",
       "│            ┆                 ┆                ┆                ┆                ┆ money          │\n",
       "│            ┆                 ┆                ┆                ┆                ┆ compilation    │\n",
       "│ B0002BSFPE ┆ classical       ┆ music,         ┆ perfect for an ┆ music          ┆ perfect for an │\n",
       "│            ┆ guitar wedding  ┆ miscellaneous  ┆ intimate       ┆ miscellaneous  ┆ intimate       │\n",
       "│            ┆ ceremony        ┆ music,  pop    ┆ wedding        ┆ music   pop    ┆ wedding music  │\n",
       "│            ┆                 ┆ music,         ┆                ┆ music          ┆ miscellaneous  │\n",
       "│            ┆                 ┆ classical      ┆                ┆ classical      ┆ music   pop    │\n",
       "│            ┆                 ┆                ┆                ┆                ┆ music          │\n",
       "│            ┆                 ┆                ┆                ┆                ┆ classical      │\n",
       "│            ┆                 ┆                ┆                ┆                ┆ classical      │\n",
       "│            ┆                 ┆                ┆                ┆                ┆ guitar wedding │\n",
       "│            ┆                 ┆                ┆                ┆                ┆ ceremony       │\n",
       "│ B0000CF335 ┆ desi            ┆ music,  pop    ┆ panjabi mc is  ┆ music   pop    ┆ panjabi mc is  │\n",
       "│            ┆                 ┆ music,  dance  ┆ fantastic      ┆ music   dance  ┆ fantastic      │\n",
       "│            ┆                 ┆ & electronic   ┆                ┆ & electronic   ┆ music   pop    │\n",
       "│            ┆                 ┆ music,  world  ┆                ┆ music   world  ┆ music   dance  │\n",
       "│            ┆                 ┆ music music,   ┆                ┆ music music    ┆ & electronic   │\n",
       "│            ┆                 ┆ rap & hip-hop  ┆                ┆ rap & hip-hop  ┆ music   world  │\n",
       "│            ┆                 ┆                ┆                ┆                ┆ music music    │\n",
       "│            ┆                 ┆                ┆                ┆                ┆ rap & hip-hop  │\n",
       "│            ┆                 ┆                ┆                ┆                ┆ desi           │\n",
       "└────────────┴─────────────────┴────────────────┴────────────────┴────────────────┴────────────────┘"
      ]
     },
     "execution_count": 3,
     "metadata": {},
     "output_type": "execute_result"
    }
   ],
   "source": [
    "fp: str = \"../../data/cleaned_products_data.parquet\"\n",
    "\n",
    "prod_df: pl.DataFrame = pl.read_parquet(fp)\n",
    "print(f\"{prod_df.shape = }\")\n",
    "prod_df.head(3)"
   ]
  },
  {
   "cell_type": "code",
   "execution_count": 4,
   "metadata": {},
   "outputs": [
    {
     "data": {
      "text/plain": [
       "polars.config.Config"
      ]
     },
     "execution_count": 4,
     "metadata": {},
     "output_type": "execute_result"
    }
   ],
   "source": [
    "# Set verbosity level\n",
    "pl.Config.set_fmt_str_lengths(100)"
   ]
  },
  {
   "cell_type": "markdown",
   "metadata": {},
   "source": [
    "<br>\n",
    "\n",
    "### Model-Based Collaborative Filtering\n",
    "\n",
    "- Model-based collaborative filtering is a technique that uses machine learning algorithms to predict user preferences by building a model from user-item interaction data.\n",
    "\n",
    "- Its key characteristics and advantages include:\n",
    "  - `Model Training`: Learning patterns from data to build a predictive model using techniques like matrix factorization, neural networks, and clustering.\n",
    "  - `Scalability`: More scalable than memory-based methods since it doesn't require real-time similarity computations.\n",
    "  - `Handling Sparsity`: Effective in handling sparse data by learning latent factors that capture underlying patterns.\n",
    "  - `Accuracy`: Can achieve higher accuracy by discovering complex relationships between users and items.\n",
    "  - `Efficiency`: Often faster in generating recommendations due to pre-computed models.\n",
    "\n",
    "### Common Model-based Techniques include:\n",
    "\n",
    "-` Matrix Factorization`: Singular Value Decomposition (SVD) and Alternating Least Squares (ALS) to decompose the user-item interaction matrix.\n",
    "- `Neural Networks`: Autoencoders and deep learning models like RNNs or CNNs to learn compressed representations or capture temporal/spatial patterns.\n",
    "- `Clustering: K-Means Clustering and Hierarchical Clustering` to group users or items based on interaction patterns.\n"
   ]
  },
  {
   "cell_type": "code",
   "execution_count": null,
   "metadata": {},
   "outputs": [],
   "source": []
  },
  {
   "cell_type": "markdown",
   "metadata": {},
   "source": [
    "### Matrix Factorization\n",
    "\n",
    "- Matrix factorization is a popular technique used in `collaborative filtering` for recommendation systems.\n",
    "- It involves `decomposing a large matrix into smaller matrices` to uncover the `latent features` underlying the interactions between users and items.\n",
    "\n",
    "- Here's a brief explanation:\n",
    "\n",
    "**Problem Setup**:\n",
    "\n",
    "- In a recommendation system, we typically have a user-item interaction matrix $( R )$, where each entry $( R_{ui} )$ represents the rating or interaction of user $( u )$ with item $( i )$.\n",
    "- This matrix is usually `sparse`, meaning most entries are missing because users have interacted with only a small subset of items.\n",
    "\n",
    "**Goal**:\n",
    "\n",
    "- The goal of matrix factorization is to predict the missing entries in the interaction matrix $( R )$.\n",
    "- This helps in recommending items to users that they have not yet interacted with.\n",
    "\n",
    "**Decomposition**:\n",
    "\n",
    "- Matrix factorization decomposes the interaction matrix $( R )$ into two lower-dimensional matrices:\n",
    "  - $( U )$: A user-feature matrix where each `row represents a user` and the `columns represent the latent features`.\n",
    "  - $( I )$: An item-feature matrix where each `row represent the latent features` of items and the `columns represent the individual items`.\n",
    "Mathematically, $( R \\approx U \\times I^T )$.\n",
    "\n",
    "\n",
    "**Latent Features:**\n",
    "\n",
    "- The latent features are abstract representations that `capture the underlying factors influencing user preferences and item characteristics`. - For example, in a movie recommendation system, latent features might represent genres, actors, or directors.\n",
    "\n",
    "**Optimization**:\n",
    "\n",
    "- The decomposition is typically achieved by `minimizing` the difference between the actual and predicted interactions.\n",
    "- This can be formulated as an optimization problem: \n",
    "  - $[ \\min_{U, V} \\sum_{(i,j) \\in \\text{observed}} (R_{ij} - U_i \\cdot V_j^T)^2 + \\lambda (|U|^2 + |V|^2) ]$\n",
    "  - The first term measures the reconstruction error for observed interactions.\n",
    "  - The second term is a regularization term to prevent overfitting, with $( \\lambda )$ being the regularization parameter."
   ]
  },
  {
   "cell_type": "code",
   "execution_count": null,
   "metadata": {},
   "outputs": [],
   "source": []
  }
 ],
 "metadata": {
  "kernelspec": {
   "display_name": "torch p_311",
   "language": "python",
   "name": "torch_p11"
  },
  "language_info": {
   "codemirror_mode": {
    "name": "ipython",
    "version": 3
   },
   "file_extension": ".py",
   "mimetype": "text/x-python",
   "name": "python",
   "nbconvert_exporter": "python",
   "pygments_lexer": "ipython3",
   "version": "3.11.8"
  }
 },
 "nbformat": 4,
 "nbformat_minor": 2
}
