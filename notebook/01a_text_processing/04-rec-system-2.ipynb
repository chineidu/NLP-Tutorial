{
 "cells": [
  {
   "cell_type": "markdown",
   "metadata": {},
   "source": [
    "# Recommendation Systems (Continued)\n",
    "\n",
    "- **`Collaborative Filtering`**\n",
    "  - Recommends items based on the preferences of similar users.\n",
    "  - It doesn't require knowledge of the items themselves, just information about user interactions.\n",
    "  - For example, a music streaming service might recommend songs that other users with similar tastes have enjoyed.\n",
    "\n",
    "<br>\n",
    "\n",
    "### Model-Based Collaborative Filtering\n",
    "\n",
    "- Model-based collaborative filtering is a technique that uses machine learning algorithms to predict user preferences by building a model from user-item interaction data.\n",
    "\n",
    "- Its key characteristics and advantages include:\n",
    "  - `Model Training`: Learning patterns from data to build a predictive model using techniques like matrix factorization, neural networks, and clustering.\n",
    "  - `Scalability`: More scalable than memory-based methods since it doesn't require real-time similarity computations.\n",
    "  - `Handling Sparsity`: Effective in handling sparse data by learning latent factors that capture underlying patterns.\n",
    "  - `Accuracy`: Can achieve higher accuracy by discovering complex relationships between users and items.\n",
    "  - `Efficiency`: Often faster in generating recommendations due to pre-computed models.\n",
    "\n",
    "### Common Model-based Techniques include:\n",
    "\n",
    "-` Matrix Factorization`: Singular Value Decomposition (SVD) and Alternating Least Squares (ALS) to decompose the user-item interaction matrix.\n",
    "- `Neural Networks`: Autoencoders and deep learning models like RNNs or CNNs to learn compressed representations or capture temporal/spatial patterns.\n",
    "- `Clustering: K-Means Clustering and Hierarchical Clustering` to group users or items based on interaction patterns.\n"
   ]
  },
  {
   "cell_type": "code",
   "execution_count": 1,
   "metadata": {},
   "outputs": [
    {
     "name": "stdout",
     "output_type": "stream",
     "text": [
      "Python implementation: CPython\n",
      "Python version       : 3.11.8\n",
      "IPython version      : 8.22.2\n",
      "\n",
      "numpy    : 1.26.4\n",
      "pandas   : 2.2.1\n",
      "polars   : 0.20.18\n",
      "mlxtend  : 0.23.1\n",
      "omegaconf: 2.3.0\n",
      "\n",
      "conda environment: torch_p11\n",
      "\n"
     ]
    }
   ],
   "source": [
    "%load_ext watermark\n",
    "%watermark -v -p numpy,pandas,polars,mlxtend,omegaconf --conda"
   ]
  },
  {
   "cell_type": "code",
   "execution_count": 2,
   "metadata": {},
   "outputs": [],
   "source": [
    "# Built-in library\n",
    "from pathlib import Path\n",
    "import re\n",
    "import json\n",
    "from typing import Any, Optional, Union\n",
    "import logging\n",
    "import warnings\n",
    "\n",
    "# Standard imports\n",
    "import numpy as np\n",
    "import numpy.typing as npt\n",
    "from pprint import pprint\n",
    "import pandas as pd\n",
    "import polars as pl\n",
    "from rich.console import Console\n",
    "from rich.theme import Theme\n",
    "\n",
    "custom_theme = Theme(\n",
    "    {\n",
    "        \"info\": \"#76FF7B\",\n",
    "        \"warning\": \"#FBDDFE\",\n",
    "        \"error\": \"#FF0000\",\n",
    "    }\n",
    ")\n",
    "console = Console(theme=custom_theme)\n",
    "\n",
    "# Visualization\n",
    "import matplotlib.pyplot as plt\n",
    "\n",
    "# NumPy settings\n",
    "np.set_printoptions(precision=4)\n",
    "\n",
    "# Pandas settings\n",
    "pd.options.display.max_rows = 1_000\n",
    "pd.options.display.max_columns = 1_000\n",
    "pd.options.display.max_colwidth = 600\n",
    "\n",
    "# Polars settings\n",
    "pl.Config.set_fmt_str_lengths(1_000)\n",
    "pl.Config.set_tbl_cols(n=1_000)\n",
    "pl.Config.set_tbl_rows(n=200)\n",
    "\n",
    "warnings.filterwarnings(\"ignore\")\n",
    "\n",
    "\n",
    "# auto reload imports# Built-in library\n",
    "from pathlib import Path\n",
    "import re\n",
    "import json\n",
    "from typing import Any, Optional, Union\n",
    "import logging\n",
    "import warnings\n",
    "\n",
    "# Standard imports\n",
    "import numpy as np\n",
    "import numpy.typing as npt\n",
    "from pprint import pprint\n",
    "import pandas as pd\n",
    "import polars as pl\n",
    "from rich.console import Console\n",
    "from rich.theme import Theme\n",
    "\n",
    "custom_theme = Theme(\n",
    "    {\n",
    "        \"info\": \"#76FF7B\",\n",
    "        \"warning\": \"#FBDDFE\",\n",
    "        \"error\": \"#FF0000\",\n",
    "    }\n",
    ")\n",
    "console = Console(theme=custom_theme)\n",
    "\n",
    "# Visualization\n",
    "import matplotlib.pyplot as plt\n",
    "\n",
    "# NumPy settings\n",
    "np.set_printoptions(precision=4)\n",
    "\n",
    "# Pandas settings\n",
    "pd.options.display.max_rows = 1_000\n",
    "pd.options.display.max_columns = 1_000\n",
    "pd.options.display.max_colwidth = 600\n",
    "\n",
    "# Polars settings\n",
    "pl.Config.set_fmt_str_lengths(1_000)\n",
    "pl.Config.set_tbl_cols(n=1_000)\n",
    "pl.Config.set_tbl_rows(500)\n",
    "\n",
    "warnings.filterwarnings(\"ignore\")\n",
    "\n",
    "\n",
    "# Black code formatter (Optional)\n",
    "%load_ext lab_black\n",
    "\n",
    "# auto reload imports\n",
    "%load_ext autoreload\n",
    "%autoreload 2"
   ]
  },
  {
   "cell_type": "code",
   "execution_count": 3,
   "metadata": {},
   "outputs": [
    {
     "data": {
      "text/plain": [
       "polars.config.Config"
      ]
     },
     "execution_count": 3,
     "metadata": {},
     "output_type": "execute_result"
    }
   ],
   "source": [
    "# Set verbosity level\n",
    "pl.Config.set_fmt_str_lengths(100)"
   ]
  },
  {
   "cell_type": "code",
   "execution_count": 4,
   "metadata": {},
   "outputs": [
    {
     "name": "stdout",
     "output_type": "stream",
     "text": [
      "prod_df.shape = (37853, 6)\n"
     ]
    },
    {
     "data": {
      "text/html": [
       "<div><style>\n",
       ".dataframe > thead > tr,\n",
       ".dataframe > tbody > tr {\n",
       "  text-align: right;\n",
       "  white-space: pre-wrap;\n",
       "}\n",
       "</style>\n",
       "<small>shape: (3, 6)</small><table border=\"1\" class=\"dataframe\"><thead><tr><th>productId</th><th>title</th><th>product_category</th><th>summary</th><th>genres</th><th>metadata</th></tr><tr><td>str</td><td>str</td><td>str</td><td>str</td><td>str</td><td>str</td></tr></thead><tbody><tr><td>&quot;B00000APZD&quot;</td><td>&quot;tension at the seams&quot;</td><td>&quot;hard rock &amp; metal&quot;</td><td>&quot;solid funk thrash album&quot;</td><td>&quot;hard rock &amp; metal&quot;</td><td>&quot;solid funk thrash album hard rock &amp; metal tension at the seams&quot;</td></tr><tr><td>&quot;B00005KBJR&quot;</td><td>&quot;shchedrin: carmen suite / concertos for orchestra nos. 1- naughty limericks, &amp; 2- the chimes&quot;</td><td>&quot;classical&quot;</td><td>&quot;why is carmen so polite? not great music, but a lot of fun new twist on an old favorite, with delig…</td><td>&quot;classical&quot;</td><td>&quot;why is carmen so polite? not great music, but a lot of fun new twist on an old favorite, with delig…</td></tr><tr><td>&quot;B00004TVH5&quot;</td><td>&quot;flamenco&quot;</td><td>&quot;world | pop | latin&quot;</td><td>&quot;unexciting &amp; pointless&quot;</td><td>&quot;world   pop   latin&quot;</td><td>&quot;unexciting &amp; pointless world   pop   latin flamenco&quot;</td></tr></tbody></table></div>"
      ],
      "text/plain": [
       "shape: (3, 6)\n",
       "┌────────────┬─────────────────┬────────────────┬────────────────┬────────────────┬────────────────┐\n",
       "│ productId  ┆ title           ┆ product_catego ┆ summary        ┆ genres         ┆ metadata       │\n",
       "│ ---        ┆ ---             ┆ ry             ┆ ---            ┆ ---            ┆ ---            │\n",
       "│ str        ┆ str             ┆ ---            ┆ str            ┆ str            ┆ str            │\n",
       "│            ┆                 ┆ str            ┆                ┆                ┆                │\n",
       "╞════════════╪═════════════════╪════════════════╪════════════════╪════════════════╪════════════════╡\n",
       "│ B00000APZD ┆ tension at the  ┆ hard rock &    ┆ solid funk     ┆ hard rock &    ┆ solid funk     │\n",
       "│            ┆ seams           ┆ metal          ┆ thrash album   ┆ metal          ┆ thrash album   │\n",
       "│            ┆                 ┆                ┆                ┆                ┆ hard rock &    │\n",
       "│            ┆                 ┆                ┆                ┆                ┆ metal tension  │\n",
       "│            ┆                 ┆                ┆                ┆                ┆ at the seams   │\n",
       "│ B00005KBJR ┆ shchedrin:      ┆ classical      ┆ why is carmen  ┆ classical      ┆ why is carmen  │\n",
       "│            ┆ carmen suite /  ┆                ┆ so polite? not ┆                ┆ so polite? not │\n",
       "│            ┆ concertos for   ┆                ┆ great music,   ┆                ┆ great music,   │\n",
       "│            ┆ orchestra nos.  ┆                ┆ but a lot of   ┆                ┆ but a lot of   │\n",
       "│            ┆ 1- naughty      ┆                ┆ fun new twist  ┆                ┆ fun new twist  │\n",
       "│            ┆ limericks, & 2- ┆                ┆ on an old      ┆                ┆ on an old      │\n",
       "│            ┆ the chimes      ┆                ┆ favorite, with ┆                ┆ favorite, with │\n",
       "│            ┆                 ┆                ┆ deligh…        ┆                ┆ deligh…        │\n",
       "│ B00004TVH5 ┆ flamenco        ┆ world | pop |  ┆ unexciting &   ┆ world   pop    ┆ unexciting &   │\n",
       "│            ┆                 ┆ latin          ┆ pointless      ┆ latin          ┆ pointless      │\n",
       "│            ┆                 ┆                ┆                ┆                ┆ world   pop    │\n",
       "│            ┆                 ┆                ┆                ┆                ┆ latin flamenco │\n",
       "└────────────┴─────────────────┴────────────────┴────────────────┴────────────────┴────────────────┘"
      ]
     },
     "execution_count": 4,
     "metadata": {},
     "output_type": "execute_result"
    }
   ],
   "source": [
    "fp: str = \"../../data/cleaned_products_data.parquet\"\n",
    "\n",
    "prod_df: pl.DataFrame = pl.read_parquet(fp)\n",
    "print(f\"{prod_df.shape = }\")\n",
    "prod_df.head(3)"
   ]
  },
  {
   "cell_type": "code",
   "execution_count": null,
   "metadata": {},
   "outputs": [],
   "source": []
  },
  {
   "cell_type": "markdown",
   "metadata": {},
   "source": [
    "### Matrix Factorization\n",
    "\n",
    "- Matrix factorization is a popular technique used in `collaborative filtering` for recommendation systems.\n",
    "- It involves `decomposing a large matrix into smaller matrices` to uncover the `latent features` underlying the interactions between users and items.\n",
    "\n",
    "- Here's a brief explanation:\n",
    "\n",
    "**Problem Setup**:\n",
    "\n",
    "- In a recommendation system, we typically have a user-item interaction matrix $( R )$, where each entry $( R_{ui} )$ represents the rating or interaction of user $( u )$ with item $( i )$.\n",
    "- This matrix is usually `sparse`, meaning most entries are missing because users have interacted with only a small subset of items.\n",
    "\n",
    "**Goal**:\n",
    "\n",
    "- The goal of matrix factorization is to predict the missing entries in the interaction matrix $( R )$.\n",
    "- This helps in recommending items to users that they have not yet interacted with.\n",
    "\n",
    "**Decomposition**:\n",
    "\n",
    "- Matrix factorization decomposes the interaction matrix $( R )$ into two lower-dimensional matrices:\n",
    "  - $( U )$: A user-feature matrix where each `row represents a user` and the `columns represent the latent features`.\n",
    "  - $( I^T )$: An item-feature matrix where each `row represent the latent features` of items and the `columns represent the individual items`.\n",
    "  - Mathematically, $( R \\approx U \\times I^T )$.\n",
    "  - e.g. the rating of $ r $  of the user $ m $ for the item $ 1 $ is given as:\n",
    "    - $ r_{m,1} = \\sum_{k=1}^{K} U_{m,k} \\cdot I_{k,1} $\n",
    "    - $ r_{m,1} = [U_{m,1}, \\dots, U_{m,K}] \\cdot [I_{1,1}, \\dots, I_{K,1}]^T $\n",
    "\n",
    "\n",
    "**Latent Features:**\n",
    "\n",
    "- The latent features are abstract representations that `capture the underlying factors influencing user preferences and item characteristics`.\n",
    "- For example, in a movie recommendation system, latent features might represent genres, actors, or directors.\n",
    "\n",
    "**Optimization**:\n",
    "\n",
    "- The decomposition is typically achieved by `minimizing` the difference between the actual and predicted interactions.\n",
    "- This can be formulated as an optimization problem: \n",
    "  - $[ \\min_{U, V} \\sum_{(i,j) \\in \\text{observed}} (R_{ij} - U_i \\cdot V_j^T)^2 + \\lambda (|U|^2 + |V|^2) ]$\n",
    "  - The first term measures the reconstruction error for observed interactions.\n",
    "  - The second term is a regularization term to prevent overfitting, with $( \\lambda )$ being the regularization parameter."
   ]
  },
  {
   "cell_type": "code",
   "execution_count": 5,
   "metadata": {},
   "outputs": [],
   "source": [
    "from surprise import accuracy, Dataset, KNNBasic, Reader, SVD\n",
    "from surprise.model_selection import (\n",
    "    cross_validate,\n",
    "    GridSearchCV,\n",
    "    KFold,\n",
    "    train_test_split,\n",
    ")"
   ]
  },
  {
   "cell_type": "code",
   "execution_count": 6,
   "metadata": {},
   "outputs": [
    {
     "name": "stdout",
     "output_type": "stream",
     "text": [
      "df.shape = (91637, 3)\n"
     ]
    },
    {
     "data": {
      "text/html": [
       "<div><style>\n",
       ".dataframe > thead > tr,\n",
       ".dataframe > tbody > tr {\n",
       "  text-align: right;\n",
       "  white-space: pre-wrap;\n",
       "}\n",
       "</style>\n",
       "<small>shape: (5, 3)</small><table border=\"1\" class=\"dataframe\"><thead><tr><th>user_id</th><th>item_id</th><th>rating</th></tr><tr><td>str</td><td>str</td><td>f32</td></tr></thead><tbody><tr><td>&quot;A2WIJ0KSWC96M9&quot;</td><td>&quot;B00001R3G3&quot;</td><td>3.0</td></tr><tr><td>&quot;A1XPTVJC8OMM3I&quot;</td><td>&quot;B000HBK10Q&quot;</td><td>4.0</td></tr><tr><td>&quot;A2N71K3SDAS4PV&quot;</td><td>&quot;B00027JYY4&quot;</td><td>2.0</td></tr><tr><td>&quot;AYXOKMQ8IJX7M&quot;</td><td>&quot;B00004WJHY&quot;</td><td>5.0</td></tr><tr><td>&quot;ANDR5PCA6W83K&quot;</td><td>&quot;B00004WIL4&quot;</td><td>5.0</td></tr></tbody></table></div>"
      ],
      "text/plain": [
       "shape: (5, 3)\n",
       "┌────────────────┬────────────┬────────┐\n",
       "│ user_id        ┆ item_id    ┆ rating │\n",
       "│ ---            ┆ ---        ┆ ---    │\n",
       "│ str            ┆ str        ┆ f32    │\n",
       "╞════════════════╪════════════╪════════╡\n",
       "│ A2WIJ0KSWC96M9 ┆ B00001R3G3 ┆ 3.0    │\n",
       "│ A1XPTVJC8OMM3I ┆ B000HBK10Q ┆ 4.0    │\n",
       "│ A2N71K3SDAS4PV ┆ B00027JYY4 ┆ 2.0    │\n",
       "│ AYXOKMQ8IJX7M  ┆ B00004WJHY ┆ 5.0    │\n",
       "│ ANDR5PCA6W83K  ┆ B00004WIL4 ┆ 5.0    │\n",
       "└────────────────┴────────────┴────────┘"
      ]
     },
     "execution_count": 6,
     "metadata": {},
     "output_type": "execute_result"
    }
   ],
   "source": [
    "fp1: str = \"../../data/ratings_data.parquet\"\n",
    "columns: list[str] = [\"user_id\", \"item_id\", \"rating\"]\n",
    "\n",
    "df: pl.DataFrame = (\n",
    "    pl.read_parquet(fp1)\n",
    "    .rename({\"userId\": \"user_id\", \"productId\": \"item_id\", \"score\": \"rating\"})\n",
    "    .select(columns)\n",
    ")\n",
    "print(f\"{df.shape = }\")\n",
    "\n",
    "df_pd: pd.DataFrame = df.to_pandas()\n",
    "df_pd.columns = columns\n",
    "\n",
    "df.head()"
   ]
  },
  {
   "cell_type": "code",
   "execution_count": 7,
   "metadata": {},
   "outputs": [
    {
     "data": {
      "text/html": [
       "<div>\n",
       "<style scoped>\n",
       "    .dataframe tbody tr th:only-of-type {\n",
       "        vertical-align: middle;\n",
       "    }\n",
       "\n",
       "    .dataframe tbody tr th {\n",
       "        vertical-align: top;\n",
       "    }\n",
       "\n",
       "    .dataframe thead th {\n",
       "        text-align: right;\n",
       "    }\n",
       "</style>\n",
       "<table border=\"1\" class=\"dataframe\">\n",
       "  <thead>\n",
       "    <tr style=\"text-align: right;\">\n",
       "      <th></th>\n",
       "      <th>user_id</th>\n",
       "      <th>item_id</th>\n",
       "      <th>rating</th>\n",
       "    </tr>\n",
       "  </thead>\n",
       "  <tbody>\n",
       "    <tr>\n",
       "      <th>0</th>\n",
       "      <td>A2WIJ0KSWC96M9</td>\n",
       "      <td>B00001R3G3</td>\n",
       "      <td>3.0</td>\n",
       "    </tr>\n",
       "    <tr>\n",
       "      <th>1</th>\n",
       "      <td>A1XPTVJC8OMM3I</td>\n",
       "      <td>B000HBK10Q</td>\n",
       "      <td>4.0</td>\n",
       "    </tr>\n",
       "    <tr>\n",
       "      <th>2</th>\n",
       "      <td>A2N71K3SDAS4PV</td>\n",
       "      <td>B00027JYY4</td>\n",
       "      <td>2.0</td>\n",
       "    </tr>\n",
       "    <tr>\n",
       "      <th>3</th>\n",
       "      <td>AYXOKMQ8IJX7M</td>\n",
       "      <td>B00004WJHY</td>\n",
       "      <td>5.0</td>\n",
       "    </tr>\n",
       "    <tr>\n",
       "      <th>4</th>\n",
       "      <td>ANDR5PCA6W83K</td>\n",
       "      <td>B00004WIL4</td>\n",
       "      <td>5.0</td>\n",
       "    </tr>\n",
       "  </tbody>\n",
       "</table>\n",
       "</div>"
      ],
      "text/plain": [
       "          user_id     item_id  rating\n",
       "0  A2WIJ0KSWC96M9  B00001R3G3     3.0\n",
       "1  A1XPTVJC8OMM3I  B000HBK10Q     4.0\n",
       "2  A2N71K3SDAS4PV  B00027JYY4     2.0\n",
       "3   AYXOKMQ8IJX7M  B00004WJHY     5.0\n",
       "4   ANDR5PCA6W83K  B00004WIL4     5.0"
      ]
     },
     "execution_count": 7,
     "metadata": {},
     "output_type": "execute_result"
    }
   ],
   "source": [
    "df_pd.head()"
   ]
  },
  {
   "cell_type": "code",
   "execution_count": 8,
   "metadata": {},
   "outputs": [],
   "source": [
    "seed: int = 123\n",
    "\n",
    "# Reader for the custom dataset\n",
    "reader: Reader = Reader(rating_scale=(1, 5))\n",
    "\n",
    "# Load the dataset. It must be a Pandas dataframe with\n",
    "# three columns: user_id, item_id, and rating in that order.\n",
    "dataset: Dataset = Dataset.load_from_df(df=df_pd, reader=reader)\n",
    "\n",
    "# Create the grid with hyperparameters to tune.\n",
    "# After creating a grid of possible values for the hyperparameters, we'll perform\n",
    "# an exhaustive grid search (2x2x2x2=16 combinations) to find the best combination.\n",
    "# i.e. (num_options^num_hyperparams)\n",
    "param_grid: dict[str, list[int | float]] = {\n",
    "    \"n_factors\": [200, 300],\n",
    "    \"n_epochs\": [5, 10],\n",
    "    \"lr_all\": [0.002, 0.005],\n",
    "    \"reg_all\": [0.4, 0.6],\n",
    "    \"random_state\": [seed],\n",
    "}"
   ]
  },
  {
   "cell_type": "code",
   "execution_count": 9,
   "metadata": {},
   "outputs": [],
   "source": [
    "# Perform grid search for SVD (SVD is a dimensionality reduction technique wtih matrix factorization)\n",
    "grid_search: GridSearchCV = GridSearchCV(\n",
    "    algo_class=SVD,\n",
    "    param_grid=param_grid,\n",
    "    measures=[\"rmse\", \"mae\"],\n",
    "    cv=KFold(n_splits=3, random_state=seed, shuffle=True),\n",
    ")\n",
    "# Fit the grid search\n",
    "grid_search.fit(dataset)\n",
    "# Cost function to minimize is RMSE\n",
    "algo = grid_search.best_estimator[\"rmse\"]"
   ]
  },
  {
   "cell_type": "code",
   "execution_count": 10,
   "metadata": {},
   "outputs": [
    {
     "name": "stdout",
     "output_type": "stream",
     "text": [
      "The best RMSE: 0.9710149211593863\n",
      "The best hyperparams: {'n_factors': 200, 'n_epochs': 10, 'lr_all': 0.005, 'reg_all': 0.4, 'random_state': 123}\n"
     ]
    }
   ],
   "source": [
    "print(f'The best RMSE: {grid_search.best_score[\"rmse\"]}')\n",
    "\n",
    "print(f'The best hyperparams: {grid_search.best_params[\"rmse\"]}')"
   ]
  },
  {
   "cell_type": "code",
   "execution_count": 11,
   "metadata": {},
   "outputs": [
    {
     "name": "stdout",
     "output_type": "stream",
     "text": [
      "Evaluating RMSE, MAE of algorithm SVD on 5 split(s).\n",
      "\n",
      "                  Fold 1  Fold 2  Fold 3  Fold 4  Fold 5  Mean    Std     \n",
      "RMSE (testset)    0.9565  0.9534  0.9673  0.9714  0.9641  0.9625  0.0067  \n",
      "MAE (testset)     0.7341  0.7365  0.7413  0.7473  0.7422  0.7403  0.0046  \n",
      "Fit time          0.93    0.99    0.93    0.97    0.93    0.95    0.03    \n",
      "Test time         0.10    0.10    0.18    0.10    0.12    0.12    0.03    \n"
     ]
    },
    {
     "data": {
      "text/plain": [
       "{'test_rmse': array([0.9565, 0.9534, 0.9673, 0.9714, 0.9641]),\n",
       " 'test_mae': array([0.7341, 0.7365, 0.7413, 0.7473, 0.7422]),\n",
       " 'fit_time': (0.9341890811920166,\n",
       "  0.9937460422515869,\n",
       "  0.9310412406921387,\n",
       "  0.9713180065155029,\n",
       "  0.927001953125),\n",
       " 'test_time': (0.0987699031829834,\n",
       "  0.10191988945007324,\n",
       "  0.1807880401611328,\n",
       "  0.10056424140930176,\n",
       "  0.12252211570739746)}"
      ]
     },
     "execution_count": 11,
     "metadata": {},
     "output_type": "execute_result"
    }
   ],
   "source": [
    "# Accuracy of the best algorithm using cross validation\n",
    "cross_validate(\n",
    "    algo=algo,\n",
    "    data=dataset,\n",
    "    measures=[\"RMSE\", \"MAE\"],\n",
    "    cv=KFold(n_splits=5, random_state=seed),\n",
    "    verbose=True,\n",
    ")"
   ]
  },
  {
   "cell_type": "markdown",
   "metadata": {},
   "source": [
    "#### Train A Recommender System\n",
    "\n",
    "- Using the hyperparameters, train a recommender system."
   ]
  },
  {
   "cell_type": "code",
   "execution_count": 12,
   "metadata": {},
   "outputs": [
    {
     "data": {
      "text/plain": [
       "{'n_factors': 200,\n",
       " 'n_epochs': 10,\n",
       " 'lr_all': 0.005,\n",
       " 'reg_all': 0.4,\n",
       " 'random_state': 123}"
      ]
     },
     "execution_count": 12,
     "metadata": {},
     "output_type": "execute_result"
    }
   ],
   "source": [
    "from typing import TypedDict\n",
    "\n",
    "\n",
    "class RecSysModelParams(TypedDict):\n",
    "    n_factors: int\n",
    "    n_epochs: int\n",
    "    lr: float\n",
    "    reg: float\n",
    "    random_state: int\n",
    "\n",
    "\n",
    "model_params: RecSysModelParams = {**grid_search.best_params[\"rmse\"]}\n",
    "model_params"
   ]
  },
  {
   "cell_type": "code",
   "execution_count": 13,
   "metadata": {},
   "outputs": [],
   "source": [
    "test_size: float = 0.2\n",
    "\n",
    "data = Dataset.load_from_df(df_pd, reader)\n",
    "trainset, testset = train_test_split(data, test_size=test_size, random_state=seed)\n",
    "\n",
    "# Init model\n",
    "algo_svd: SVD = SVD(**model_params)\n",
    "\n",
    "# Train model\n",
    "algo_svd.fit(trainset)\n",
    "\n",
    "# Predict\n",
    "predictions = algo_svd.test(testset)"
   ]
  },
  {
   "cell_type": "code",
   "execution_count": 14,
   "metadata": {},
   "outputs": [
    {
     "name": "stdout",
     "output_type": "stream",
     "text": [
      "RMSE: 0.9641\n"
     ]
    },
    {
     "data": {
      "text/plain": [
       "0.9640530201704663"
      ]
     },
     "execution_count": 14,
     "metadata": {},
     "output_type": "execute_result"
    }
   ],
   "source": [
    "# Calculate the Root Mean Square Error (RMSE)\n",
    "accuracy.rmse(predictions)"
   ]
  },
  {
   "cell_type": "code",
   "execution_count": 15,
   "metadata": {},
   "outputs": [
    {
     "data": {
      "text/html": [
       "<div><style>\n",
       ".dataframe > thead > tr,\n",
       ".dataframe > tbody > tr {\n",
       "  text-align: right;\n",
       "  white-space: pre-wrap;\n",
       "}\n",
       "</style>\n",
       "<small>shape: (10, 3)</small><table border=\"1\" class=\"dataframe\"><thead><tr><th>user_id</th><th>item_id</th><th>rating</th></tr><tr><td>str</td><td>str</td><td>f32</td></tr></thead><tbody><tr><td>&quot;AB2AQMK9PCWWX&quot;</td><td>&quot;B000BRI5KE&quot;</td><td>5.0</td></tr><tr><td>&quot;A1E11HKN4IRY09&quot;</td><td>&quot;B00005YW50&quot;</td><td>1.0</td></tr><tr><td>&quot;A2P49WD75WHAG5&quot;</td><td>&quot;B000KD3DYC&quot;</td><td>5.0</td></tr><tr><td>&quot;AAHXKHWO53M9E&quot;</td><td>&quot;B000068W4M&quot;</td><td>3.0</td></tr><tr><td>&quot;AOYLVUVF5VZTU&quot;</td><td>&quot;B00008G0PI&quot;</td><td>4.0</td></tr><tr><td>&quot;AXZ60GNHLQMT9&quot;</td><td>&quot;B000INX49S&quot;</td><td>5.0</td></tr><tr><td>&quot;A27ZOCD5B63Y0P&quot;</td><td>&quot;B0000004R2&quot;</td><td>5.0</td></tr><tr><td>&quot;ANP3R2R4V4GAN&quot;</td><td>&quot;B000PIFXTU&quot;</td><td>5.0</td></tr><tr><td>&quot;A1EYSN1T55SV7U&quot;</td><td>&quot;B000H5TYIC&quot;</td><td>3.0</td></tr><tr><td>&quot;A20Z1PKIH0PFUF&quot;</td><td>&quot;B00004NHCC&quot;</td><td>5.0</td></tr></tbody></table></div>"
      ],
      "text/plain": [
       "shape: (10, 3)\n",
       "┌────────────────┬────────────┬────────┐\n",
       "│ user_id        ┆ item_id    ┆ rating │\n",
       "│ ---            ┆ ---        ┆ ---    │\n",
       "│ str            ┆ str        ┆ f32    │\n",
       "╞════════════════╪════════════╪════════╡\n",
       "│ AB2AQMK9PCWWX  ┆ B000BRI5KE ┆ 5.0    │\n",
       "│ A1E11HKN4IRY09 ┆ B00005YW50 ┆ 1.0    │\n",
       "│ A2P49WD75WHAG5 ┆ B000KD3DYC ┆ 5.0    │\n",
       "│ AAHXKHWO53M9E  ┆ B000068W4M ┆ 3.0    │\n",
       "│ AOYLVUVF5VZTU  ┆ B00008G0PI ┆ 4.0    │\n",
       "│ AXZ60GNHLQMT9  ┆ B000INX49S ┆ 5.0    │\n",
       "│ A27ZOCD5B63Y0P ┆ B0000004R2 ┆ 5.0    │\n",
       "│ ANP3R2R4V4GAN  ┆ B000PIFXTU ┆ 5.0    │\n",
       "│ A1EYSN1T55SV7U ┆ B000H5TYIC ┆ 3.0    │\n",
       "│ A20Z1PKIH0PFUF ┆ B00004NHCC ┆ 5.0    │\n",
       "└────────────────┴────────────┴────────┘"
      ]
     },
     "execution_count": 15,
     "metadata": {},
     "output_type": "execute_result"
    }
   ],
   "source": [
    "df.sample(n=10, seed=seed)"
   ]
  },
  {
   "cell_type": "code",
   "execution_count": 16,
   "metadata": {},
   "outputs": [
    {
     "name": "stdout",
     "output_type": "stream",
     "text": [
      "Number of reviews: 27\n",
      "Number of movies not seen: 22,255\n"
     ]
    },
    {
     "data": {
      "text/html": [
       "<div><style>\n",
       ".dataframe > thead > tr,\n",
       ".dataframe > tbody > tr {\n",
       "  text-align: right;\n",
       "  white-space: pre-wrap;\n",
       "}\n",
       "</style>\n",
       "<small>shape: (5, 3)</small><table border=\"1\" class=\"dataframe\"><thead><tr><th>user_id</th><th>item_id</th><th>rating</th></tr><tr><td>str</td><td>str</td><td>f32</td></tr></thead><tbody><tr><td>&quot;A3BTZBO1380KB1&quot;</td><td>&quot;B000GFLIEQ&quot;</td><td>5.0</td></tr><tr><td>&quot;A3TCXTAKB0DRIH&quot;</td><td>&quot;B000J103KM&quot;</td><td>1.0</td></tr><tr><td>&quot;ATMKJX8W0XYDV&quot;</td><td>&quot;B00000BKDU&quot;</td><td>5.0</td></tr><tr><td>&quot;A3SGZVO83J5KCH&quot;</td><td>&quot;B000PSJD0A&quot;</td><td>4.0</td></tr><tr><td>&quot;A2ZO6AUEH7UAKQ&quot;</td><td>&quot;B00000JRL9&quot;</td><td>5.0</td></tr></tbody></table></div>"
      ],
      "text/plain": [
       "shape: (5, 3)\n",
       "┌────────────────┬────────────┬────────┐\n",
       "│ user_id        ┆ item_id    ┆ rating │\n",
       "│ ---            ┆ ---        ┆ ---    │\n",
       "│ str            ┆ str        ┆ f32    │\n",
       "╞════════════════╪════════════╪════════╡\n",
       "│ A3BTZBO1380KB1 ┆ B000GFLIEQ ┆ 5.0    │\n",
       "│ A3TCXTAKB0DRIH ┆ B000J103KM ┆ 1.0    │\n",
       "│ ATMKJX8W0XYDV  ┆ B00000BKDU ┆ 5.0    │\n",
       "│ A3SGZVO83J5KCH ┆ B000PSJD0A ┆ 4.0    │\n",
       "│ A2ZO6AUEH7UAKQ ┆ B00000JRL9 ┆ 5.0    │\n",
       "└────────────────┴────────────┴────────┘"
      ]
     },
     "execution_count": 16,
     "metadata": {},
     "output_type": "execute_result"
    }
   ],
   "source": [
    "# Extract music recommendations\n",
    "u_id: str = \"A1435P5AMCPB3X\"\n",
    "\n",
    "# Find the number of reviews/movies seen by the user\n",
    "movies_seen_df: pl.DataFrame = df.filter(pl.col(\"user_id\").eq(u_id))\n",
    "num_reviews: int = movies_seen_df.shape[0]\n",
    "print(f\"Number of reviews: {num_reviews}\")\n",
    "\n",
    "# Unique movies the user has NOT seen\n",
    "movies_not_seen_df: pl.DataFrame = df.filter(pl.col(\"user_id\").ne(u_id)).unique(\n",
    "    subset=[\"item_id\"]\n",
    ")\n",
    "print(f\"Number of movies not seen: {movies_not_seen_df.shape[0]:,}\")\n",
    "movies_not_seen_df.head()"
   ]
  },
  {
   "cell_type": "code",
   "execution_count": 17,
   "metadata": {},
   "outputs": [
    {
     "data": {
      "text/html": [
       "<pre style=\"white-space:pre;overflow-x:auto;line-height:normal;font-family:Menlo,'DejaVu Sans Mono',consolas,'Courier New',monospace\"><span style=\"color: #800080; text-decoration-color: #800080; font-weight: bold\">Prediction</span><span style=\"font-weight: bold\">(</span>\n",
       "    <span style=\"color: #808000; text-decoration-color: #808000\">uid</span>=<span style=\"color: #008000; text-decoration-color: #008000\">'A1435P5AMCPB3X'</span>,\n",
       "    <span style=\"color: #808000; text-decoration-color: #808000\">iid</span>=<span style=\"color: #008000; text-decoration-color: #008000\">'B000GFLIEQ'</span>,\n",
       "    <span style=\"color: #808000; text-decoration-color: #808000\">r_ui</span>=<span style=\"color: #800080; text-decoration-color: #800080; font-style: italic\">None</span>,\n",
       "    <span style=\"color: #808000; text-decoration-color: #808000\">est</span>=<span style=\"color: #008080; text-decoration-color: #008080; font-weight: bold\">4.4505788589822</span>,\n",
       "    <span style=\"color: #808000; text-decoration-color: #808000\">details</span>=<span style=\"font-weight: bold\">{</span><span style=\"color: #008000; text-decoration-color: #008000\">'was_impossible'</span>: <span style=\"color: #ff0000; text-decoration-color: #ff0000; font-style: italic\">False</span><span style=\"font-weight: bold\">}</span>\n",
       "<span style=\"font-weight: bold\">)</span>\n",
       "</pre>\n"
      ],
      "text/plain": [
       "\u001b[1;35mPrediction\u001b[0m\u001b[1m(\u001b[0m\n",
       "    \u001b[33muid\u001b[0m=\u001b[32m'A1435P5AMCPB3X'\u001b[0m,\n",
       "    \u001b[33miid\u001b[0m=\u001b[32m'B000GFLIEQ'\u001b[0m,\n",
       "    \u001b[33mr_ui\u001b[0m=\u001b[3;35mNone\u001b[0m,\n",
       "    \u001b[33mest\u001b[0m=\u001b[1;36m4\u001b[0m\u001b[1;36m.4505788589822\u001b[0m,\n",
       "    \u001b[33mdetails\u001b[0m=\u001b[1m{\u001b[0m\u001b[32m'was_impossible'\u001b[0m: \u001b[3;91mFalse\u001b[0m\u001b[1m}\u001b[0m\n",
       "\u001b[1m)\u001b[0m\n"
      ]
     },
     "metadata": {},
     "output_type": "display_data"
    }
   ],
   "source": [
    "from surprise.prediction_algorithms import Prediction\n",
    "\n",
    "# Sample (Test the API)\n",
    "p: Prediction = algo_svd.predict(\n",
    "    uid=u_id, iid=movies_not_seen_df[\"item_id\"].to_list()[0]\n",
    ")\n",
    "\n",
    "console.print(p)"
   ]
  },
  {
   "cell_type": "code",
   "execution_count": 18,
   "metadata": {},
   "outputs": [
    {
     "data": {
      "text/plain": [
       "22255"
      ]
     },
     "execution_count": 18,
     "metadata": {},
     "output_type": "execute_result"
    }
   ],
   "source": [
    "pred_movies: list[str] = [\n",
    "    # (item_id, est)\n",
    "    (row[\"item_id\"], algo_svd.predict(uid=u_id, iid=row[\"item_id\"]).est)\n",
    "    for row in movies_not_seen_df.iter_rows(named=True)\n",
    "]\n",
    "len(pred_movies)"
   ]
  },
  {
   "cell_type": "code",
   "execution_count": 19,
   "metadata": {},
   "outputs": [
    {
     "data": {
      "text/html": [
       "<div><style>\n",
       ".dataframe > thead > tr,\n",
       ".dataframe > tbody > tr {\n",
       "  text-align: right;\n",
       "  white-space: pre-wrap;\n",
       "}\n",
       "</style>\n",
       "<small>shape: (5, 2)</small><table border=\"1\" class=\"dataframe\"><thead><tr><th>item_id</th><th>predicted_rating</th></tr><tr><td>str</td><td>f64</td></tr></thead><tbody><tr><td>&quot;B000GFLIEQ&quot;</td><td>4.450579</td></tr><tr><td>&quot;B000J103KM&quot;</td><td>4.35954</td></tr><tr><td>&quot;B00000BKDU&quot;</td><td>4.655666</td></tr><tr><td>&quot;B000PSJD0A&quot;</td><td>4.458233</td></tr><tr><td>&quot;B00000JRL9&quot;</td><td>4.513728</td></tr></tbody></table></div>"
      ],
      "text/plain": [
       "shape: (5, 2)\n",
       "┌────────────┬──────────────────┐\n",
       "│ item_id    ┆ predicted_rating │\n",
       "│ ---        ┆ ---              │\n",
       "│ str        ┆ f64              │\n",
       "╞════════════╪══════════════════╡\n",
       "│ B000GFLIEQ ┆ 4.450579         │\n",
       "│ B000J103KM ┆ 4.35954          │\n",
       "│ B00000BKDU ┆ 4.655666         │\n",
       "│ B000PSJD0A ┆ 4.458233         │\n",
       "│ B00000JRL9 ┆ 4.513728         │\n",
       "└────────────┴──────────────────┘"
      ]
     },
     "execution_count": 19,
     "metadata": {},
     "output_type": "execute_result"
    }
   ],
   "source": [
    "# DF containing the predicted movies for the user\n",
    "pred_df: pl.DataFrame = pl.DataFrame(\n",
    "    pred_movies, schema={\"item_id\": pl.Utf8, \"predicted_rating\": pl.Float64}\n",
    ")\n",
    "pred_df.head()"
   ]
  },
  {
   "cell_type": "code",
   "execution_count": 20,
   "metadata": {},
   "outputs": [
    {
     "name": "stdout",
     "output_type": "stream",
     "text": [
      "unique_prod_df.shape = (37853, 3)\n"
     ]
    },
    {
     "data": {
      "text/html": [
       "<div><style>\n",
       ".dataframe > thead > tr,\n",
       ".dataframe > tbody > tr {\n",
       "  text-align: right;\n",
       "  white-space: pre-wrap;\n",
       "}\n",
       "</style>\n",
       "<small>shape: (5, 3)</small><table border=\"1\" class=\"dataframe\"><thead><tr><th>productId</th><th>title</th><th>product_category</th></tr><tr><td>str</td><td>str</td><td>str</td></tr></thead><tbody><tr><td>&quot;B00005N5HS&quot;</td><td>&quot;always faithful&quot;</td><td>&quot;miscellaneous | pop | jazz&quot;</td></tr><tr><td>&quot;B00000HYG3&quot;</td><td>&quot;quintet for a day&quot;</td><td>&quot;jazz | pop&quot;</td></tr><tr><td>&quot;B000001V5B&quot;</td><td>&quot;the royal philharmonic orchestra plays the beatles [rock dreams, vol. 5]&quot;</td><td>&quot;rock | classical | classic rock | pop&quot;</td></tr><tr><td>&quot;B000BM6AOM&quot;</td><td>&quot;homenaje a papo&quot;</td><td>&quot;world | latin&quot;</td></tr><tr><td>&quot;B00001AQZQ&quot;</td><td>&quot;for sale&quot;</td><td>&quot;&quot;</td></tr></tbody></table></div>"
      ],
      "text/plain": [
       "shape: (5, 3)\n",
       "┌────────────┬─────────────────────────────────────────────┬───────────────────────────────────────┐\n",
       "│ productId  ┆ title                                       ┆ product_category                      │\n",
       "│ ---        ┆ ---                                         ┆ ---                                   │\n",
       "│ str        ┆ str                                         ┆ str                                   │\n",
       "╞════════════╪═════════════════════════════════════════════╪═══════════════════════════════════════╡\n",
       "│ B00005N5HS ┆ always faithful                             ┆ miscellaneous | pop | jazz            │\n",
       "│ B00000HYG3 ┆ quintet for a day                           ┆ jazz | pop                            │\n",
       "│ B000001V5B ┆ the royal philharmonic orchestra plays the  ┆ rock | classical | classic rock | pop │\n",
       "│            ┆ beatles [rock dreams, vol. 5]               ┆                                       │\n",
       "│ B000BM6AOM ┆ homenaje a papo                             ┆ world | latin                         │\n",
       "│ B00001AQZQ ┆ for sale                                    ┆                                       │\n",
       "└────────────┴─────────────────────────────────────────────┴───────────────────────────────────────┘"
      ]
     },
     "execution_count": 20,
     "metadata": {},
     "output_type": "execute_result"
    }
   ],
   "source": [
    "prod_columns: list[str] = [\"productId\", \"title\", \"product_category\"]\n",
    "unique_prod_df: pl.DataFrame = prod_df.select(prod_columns).unique(subset=\"productId\")\n",
    "print(f\"{unique_prod_df.shape = }\")\n",
    "unique_prod_df.head()"
   ]
  },
  {
   "cell_type": "code",
   "execution_count": 21,
   "metadata": {},
   "outputs": [
    {
     "data": {
      "text/html": [
       "<div><style>\n",
       ".dataframe > thead > tr,\n",
       ".dataframe > tbody > tr {\n",
       "  text-align: right;\n",
       "  white-space: pre-wrap;\n",
       "}\n",
       "</style>\n",
       "<small>shape: (27, 5)</small><table border=\"1\" class=\"dataframe\"><thead><tr><th>user_id</th><th>item_id</th><th>rating</th><th>title</th><th>product_category</th></tr><tr><td>str</td><td>str</td><td>f32</td><td>str</td><td>str</td></tr></thead><tbody><tr><td>&quot;A1435P5AMCPB3X&quot;</td><td>&quot;B00004VNV2&quot;</td><td>4.0</td><td>&quot;fistful of metal&quot;</td><td>&quot;hard rock &amp; metal | rock&quot;</td></tr><tr><td>&quot;A1435P5AMCPB3X&quot;</td><td>&quot;B00002NDBB&quot;</td><td>5.0</td><td>null</td><td>null</td></tr><tr><td>&quot;A1435P5AMCPB3X&quot;</td><td>&quot;B000A345HQ&quot;</td><td>3.0</td><td>&quot;recollection, vol. 3: relapse video collection (2005)&quot;</td><td>&quot;hard rock &amp; metal tv movies &amp; tv | rock | alternative rock&quot;</td></tr><tr><td>&quot;A1435P5AMCPB3X&quot;</td><td>&quot;B000CNEQBO&quot;</td><td>2.0</td><td>&quot;parabola&quot;</td><td>&quot;hard rock &amp; metal movies &amp; tv | movies&quot;</td></tr><tr><td>&quot;A1435P5AMCPB3X&quot;</td><td>&quot;B000FQVYGI&quot;</td><td>5.0</td><td>&quot;7th inning stretch&quot;</td><td>&quot;classic rock | soundtracks | rock | pop&quot;</td></tr><tr><td>&quot;A1435P5AMCPB3X&quot;</td><td>&quot;B000006UB9&quot;</td><td>5.0</td><td>&quot;1967: the first 3 singles, 30th anniversary edition&quot;</td><td>&quot;rock | classic rock | pop&quot;</td></tr><tr><td>&quot;A1435P5AMCPB3X&quot;</td><td>&quot;B000AA4J5W&quot;</td><td>4.0</td><td>&quot;mrs god (dig)&quot;</td><td>&quot;world | rock | hard rock &amp; metal | pop&quot;</td></tr><tr><td>&quot;A1435P5AMCPB3X&quot;</td><td>&quot;B000063DFV&quot;</td><td>5.0</td><td>&quot;virtual xi (vinyl replica) (dig)&quot;</td><td>&quot;rock | alternative rock | hard rock &amp; metal | pop&quot;</td></tr><tr><td>&quot;A1435P5AMCPB3X&quot;</td><td>&quot;B000NI3G6Y&quot;</td><td>4.0</td><td>&quot;light the universe&quot;</td><td>&quot;hard rock &amp; metal | pop&quot;</td></tr><tr><td>&quot;A1435P5AMCPB3X&quot;</td><td>&quot;B000BEZOVU&quot;</td><td>5.0</td><td>&quot;lashing the rye&quot;</td><td>&quot;rock | alternative rock | miscellaneous | pop&quot;</td></tr><tr><td>&quot;A1435P5AMCPB3X&quot;</td><td>&quot;B000J103WK&quot;</td><td>5.0</td><td>&quot;eagles: farewell 1 tour - live from melbourne [hd dvd] (2005)&quot;</td><td>&quot;pop tv movies &amp; tv | rock&quot;</td></tr><tr><td>&quot;A1435P5AMCPB3X&quot;</td><td>&quot;B00008F4WO&quot;</td><td>5.0</td><td>&quot;best the rest &amp; rare&quot;</td><td>&quot;hard rock &amp; metal | rock&quot;</td></tr><tr><td>&quot;A1435P5AMCPB3X&quot;</td><td>&quot;B000NI3GQ4&quot;</td><td>4.0</td><td>&quot;pick of destiny&quot;</td><td>&quot;soundtracks | rock&quot;</td></tr><tr><td>&quot;A1435P5AMCPB3X&quot;</td><td>&quot;B000063DGM&quot;</td><td>5.0</td><td>&quot;virtual xi&quot;</td><td>&quot;alternative rock | rock | hard rock &amp; metal | pop&quot;</td></tr><tr><td>&quot;A1435P5AMCPB3X&quot;</td><td>&quot;B000IONLT0&quot;</td><td>5.0</td><td>&quot;gigan tour&quot;</td><td>&quot;hard rock &amp; metal | rock&quot;</td></tr><tr><td>&quot;A1435P5AMCPB3X&quot;</td><td>&quot;B00074CBZQ&quot;</td><td>5.0</td><td>&quot;god save the smithereens&quot;</td><td>&quot;hard rock &amp; metal | pop | rock | alternative rock&quot;</td></tr><tr><td>&quot;A1435P5AMCPB3X&quot;</td><td>&quot;B000621P6K&quot;</td><td>5.0</td><td>&quot;pink floyd the wall (1982)&quot;</td><td>&quot;movies &amp; tv | movies | rock&quot;</td></tr><tr><td>&quot;A1435P5AMCPB3X&quot;</td><td>&quot;B000063DGI&quot;</td><td>5.0</td><td>&quot;x factor (vinyl replica) (dig)&quot;</td><td>&quot;hard rock &amp; metal | alternative rock | rock | pop&quot;</td></tr><tr><td>&quot;A1435P5AMCPB3X&quot;</td><td>&quot;B00008F4WP&quot;</td><td>5.0</td><td>&quot;walls of jericho&quot;</td><td>&quot;hard rock &amp; metal | rock&quot;</td></tr><tr><td>&quot;A1435P5AMCPB3X&quot;</td><td>&quot;B000FBZ1CQ&quot;</td><td>4.0</td><td>&quot;pink floyd-wish you were here&quot;</td><td>&quot;&quot;</td></tr><tr><td>&quot;A1435P5AMCPB3X&quot;</td><td>&quot;B000FTBO88&quot;</td><td>4.0</td><td>&quot;keeper of the seven keys: the legacy [vinyl]&quot;</td><td>&quot;pop | rock | world | hard rock &amp; metal&quot;</td></tr><tr><td>&quot;A1435P5AMCPB3X&quot;</td><td>&quot;B000KDVPBK&quot;</td><td>4.0</td><td>null</td><td>null</td></tr><tr><td>&quot;A1435P5AMCPB3X&quot;</td><td>&quot;B0001ZDJ7U&quot;</td><td>5.0</td><td>&quot;metalogy (bonus dvd)&quot;</td><td>&quot;pop | hard rock &amp; metal | rock | classic rock | alternative rock&quot;</td></tr><tr><td>&quot;A1435P5AMCPB3X&quot;</td><td>&quot;B000LXHGSK&quot;</td><td>5.0</td><td>&quot;apocalyptica: the life burns tour (2007)&quot;</td><td>&quot;tv movies &amp; tv | rock&quot;</td></tr><tr><td>&quot;A1435P5AMCPB3X&quot;</td><td>&quot;B0000UHFPS&quot;</td><td>5.0</td><td>&quot;d fun pak&quot;</td><td>&quot;alternative rock | rock | miscellaneous | pop | r&amp;b&quot;</td></tr><tr><td>&quot;A1435P5AMCPB3X&quot;</td><td>&quot;B00008FH7H&quot;</td><td>5.0</td><td>&quot;to megatherion&quot;</td><td>&quot;hard rock &amp; metal | world | rock&quot;</td></tr><tr><td>&quot;A1435P5AMCPB3X&quot;</td><td>&quot;B00008FG6A&quot;</td><td>5.0</td><td>&quot;war &amp; pain&quot;</td><td>&quot;hard rock &amp; metal | rock&quot;</td></tr></tbody></table></div>"
      ],
      "text/plain": [
       "shape: (27, 5)\n",
       "┌────────────────┬────────────┬────────┬─────────────────────────────┬─────────────────────────────┐\n",
       "│ user_id        ┆ item_id    ┆ rating ┆ title                       ┆ product_category            │\n",
       "│ ---            ┆ ---        ┆ ---    ┆ ---                         ┆ ---                         │\n",
       "│ str            ┆ str        ┆ f32    ┆ str                         ┆ str                         │\n",
       "╞════════════════╪════════════╪════════╪═════════════════════════════╪═════════════════════════════╡\n",
       "│ A1435P5AMCPB3X ┆ B00004VNV2 ┆ 4.0    ┆ fistful of metal            ┆ hard rock & metal | rock    │\n",
       "│ A1435P5AMCPB3X ┆ B00002NDBB ┆ 5.0    ┆ null                        ┆ null                        │\n",
       "│ A1435P5AMCPB3X ┆ B000A345HQ ┆ 3.0    ┆ recollection, vol. 3:       ┆ hard rock & metal tv movies │\n",
       "│                ┆            ┆        ┆ relapse video collection    ┆ & tv | rock | alternative   │\n",
       "│                ┆            ┆        ┆ (2005)                      ┆ rock                        │\n",
       "│ A1435P5AMCPB3X ┆ B000CNEQBO ┆ 2.0    ┆ parabola                    ┆ hard rock & metal movies &  │\n",
       "│                ┆            ┆        ┆                             ┆ tv | movies                 │\n",
       "│ A1435P5AMCPB3X ┆ B000FQVYGI ┆ 5.0    ┆ 7th inning stretch          ┆ classic rock | soundtracks  │\n",
       "│                ┆            ┆        ┆                             ┆ | rock | pop                │\n",
       "│ A1435P5AMCPB3X ┆ B000006UB9 ┆ 5.0    ┆ 1967: the first 3 singles,  ┆ rock | classic rock | pop   │\n",
       "│                ┆            ┆        ┆ 30th anniversary edition    ┆                             │\n",
       "│ A1435P5AMCPB3X ┆ B000AA4J5W ┆ 4.0    ┆ mrs god (dig)               ┆ world | rock | hard rock &  │\n",
       "│                ┆            ┆        ┆                             ┆ metal | pop                 │\n",
       "│ A1435P5AMCPB3X ┆ B000063DFV ┆ 5.0    ┆ virtual xi (vinyl replica)  ┆ rock | alternative rock |   │\n",
       "│                ┆            ┆        ┆ (dig)                       ┆ hard rock & metal | pop     │\n",
       "│ A1435P5AMCPB3X ┆ B000NI3G6Y ┆ 4.0    ┆ light the universe          ┆ hard rock & metal | pop     │\n",
       "│ A1435P5AMCPB3X ┆ B000BEZOVU ┆ 5.0    ┆ lashing the rye             ┆ rock | alternative rock |   │\n",
       "│                ┆            ┆        ┆                             ┆ miscellaneous | pop         │\n",
       "│ A1435P5AMCPB3X ┆ B000J103WK ┆ 5.0    ┆ eagles: farewell 1 tour -   ┆ pop tv movies & tv | rock   │\n",
       "│                ┆            ┆        ┆ live from melbourne [hd     ┆                             │\n",
       "│                ┆            ┆        ┆ dvd] (2005)                 ┆                             │\n",
       "│ A1435P5AMCPB3X ┆ B00008F4WO ┆ 5.0    ┆ best the rest & rare        ┆ hard rock & metal | rock    │\n",
       "│ A1435P5AMCPB3X ┆ B000NI3GQ4 ┆ 4.0    ┆ pick of destiny             ┆ soundtracks | rock          │\n",
       "│ A1435P5AMCPB3X ┆ B000063DGM ┆ 5.0    ┆ virtual xi                  ┆ alternative rock | rock |   │\n",
       "│                ┆            ┆        ┆                             ┆ hard rock & metal | pop     │\n",
       "│ A1435P5AMCPB3X ┆ B000IONLT0 ┆ 5.0    ┆ gigan tour                  ┆ hard rock & metal | rock    │\n",
       "│ A1435P5AMCPB3X ┆ B00074CBZQ ┆ 5.0    ┆ god save the smithereens    ┆ hard rock & metal | pop |   │\n",
       "│                ┆            ┆        ┆                             ┆ rock | alternative rock     │\n",
       "│ A1435P5AMCPB3X ┆ B000621P6K ┆ 5.0    ┆ pink floyd the wall (1982)  ┆ movies & tv | movies | rock │\n",
       "│ A1435P5AMCPB3X ┆ B000063DGI ┆ 5.0    ┆ x factor (vinyl replica)    ┆ hard rock & metal |         │\n",
       "│                ┆            ┆        ┆ (dig)                       ┆ alternative rock | rock |   │\n",
       "│                ┆            ┆        ┆                             ┆ pop                         │\n",
       "│ A1435P5AMCPB3X ┆ B00008F4WP ┆ 5.0    ┆ walls of jericho            ┆ hard rock & metal | rock    │\n",
       "│ A1435P5AMCPB3X ┆ B000FBZ1CQ ┆ 4.0    ┆ pink floyd-wish you were    ┆                             │\n",
       "│                ┆            ┆        ┆ here                        ┆                             │\n",
       "│ A1435P5AMCPB3X ┆ B000FTBO88 ┆ 4.0    ┆ keeper of the seven keys:   ┆ pop | rock | world | hard   │\n",
       "│                ┆            ┆        ┆ the legacy [vinyl]          ┆ rock & metal                │\n",
       "│ A1435P5AMCPB3X ┆ B000KDVPBK ┆ 4.0    ┆ null                        ┆ null                        │\n",
       "│ A1435P5AMCPB3X ┆ B0001ZDJ7U ┆ 5.0    ┆ metalogy (bonus dvd)        ┆ pop | hard rock & metal |   │\n",
       "│                ┆            ┆        ┆                             ┆ rock | classic rock |       │\n",
       "│                ┆            ┆        ┆                             ┆ alternative rock            │\n",
       "│ A1435P5AMCPB3X ┆ B000LXHGSK ┆ 5.0    ┆ apocalyptica: the life      ┆ tv movies & tv | rock       │\n",
       "│                ┆            ┆        ┆ burns tour (2007)           ┆                             │\n",
       "│ A1435P5AMCPB3X ┆ B0000UHFPS ┆ 5.0    ┆ d fun pak                   ┆ alternative rock | rock |   │\n",
       "│                ┆            ┆        ┆                             ┆ miscellaneous | pop | r&b   │\n",
       "│ A1435P5AMCPB3X ┆ B00008FH7H ┆ 5.0    ┆ to megatherion              ┆ hard rock & metal | world | │\n",
       "│                ┆            ┆        ┆                             ┆ rock                        │\n",
       "│ A1435P5AMCPB3X ┆ B00008FG6A ┆ 5.0    ┆ war & pain                  ┆ hard rock & metal | rock    │\n",
       "└────────────────┴────────────┴────────┴─────────────────────────────┴─────────────────────────────┘"
      ]
     },
     "execution_count": 21,
     "metadata": {},
     "output_type": "execute_result"
    }
   ],
   "source": [
    "movies_seen_full_df = movies_seen_df.join(\n",
    "    unique_prod_df,\n",
    "    left_on=\"item_id\",\n",
    "    right_on=\"productId\",\n",
    "    how=\"left\",\n",
    ")\n",
    "movies_seen_full_df"
   ]
  },
  {
   "cell_type": "code",
   "execution_count": 22,
   "metadata": {},
   "outputs": [
    {
     "data": {
      "text/html": [
       "<div><style>\n",
       ".dataframe > thead > tr,\n",
       ".dataframe > tbody > tr {\n",
       "  text-align: right;\n",
       "  white-space: pre-wrap;\n",
       "}\n",
       "</style>\n",
       "<small>shape: (10, 4)</small><table border=\"1\" class=\"dataframe\"><thead><tr><th>item_id</th><th>predicted_rating</th><th>title</th><th>product_category</th></tr><tr><td>str</td><td>f64</td><td>str</td><td>str</td></tr></thead><tbody><tr><td>&quot;B00005A0JQ&quot;</td><td>4.899867</td><td>&quot;criminal minded&quot;</td><td>&quot;blues | r&amp;b | pop | rap &amp; hip-hop&quot;</td></tr><tr><td>&quot;B000025IK3&quot;</td><td>4.898644</td><td>&quot;blow by blow&quot;</td><td>&quot;jazz | rock | hard rock &amp; metal | classic rock&quot;</td></tr><tr><td>&quot;B000027A9I&quot;</td><td>4.893869</td><td>&quot;e. 1999 eternal&quot;</td><td>&quot;rock | r&amp;b | rap &amp; hip-hop&quot;</td></tr><tr><td>&quot;B00008F4LD&quot;</td><td>4.889394</td><td>&quot;group sex / wild in the streets&quot;</td><td>&quot;rock | alternative rock | hard rock &amp; metal&quot;</td></tr><tr><td>&quot;B00008G0XL&quot;</td><td>4.888565</td><td>&quot;danzig ii: lucifuge [vinyl]&quot;</td><td>&quot;hard rock &amp; metal | rock&quot;</td></tr><tr><td>&quot;B00009L1SV&quot;</td><td>4.887216</td><td>&quot;little sparrow&quot;</td><td>&quot;country | pop | folk&quot;</td></tr><tr><td>&quot;B0000004TS&quot;</td><td>4.877594</td><td>&quot;collection of songs&quot;</td><td>&quot;pop | christian&quot;</td></tr><tr><td>&quot;B00005YCK2&quot;</td><td>4.875045</td><td>&quot;blue train (stereo) [vinyl]&quot;</td><td>&quot;pop | jazz&quot;</td></tr><tr><td>&quot;B0000004X7&quot;</td><td>4.872712</td><td>&quot;the low end theory&quot;</td><td>&quot;blues | r&amp;b | rap &amp; hip-hop | pop&quot;</td></tr><tr><td>&quot;B000FLCRK0&quot;</td><td>4.86973</td><td>&quot;everybody knows this is nowhere&quot;</td><td>&quot;rock | classic rock&quot;</td></tr></tbody></table></div>"
      ],
      "text/plain": [
       "shape: (10, 4)\n",
       "┌────────────┬──────────────────┬─────────────────────────────┬────────────────────────────────────┐\n",
       "│ item_id    ┆ predicted_rating ┆ title                       ┆ product_category                   │\n",
       "│ ---        ┆ ---              ┆ ---                         ┆ ---                                │\n",
       "│ str        ┆ f64              ┆ str                         ┆ str                                │\n",
       "╞════════════╪══════════════════╪═════════════════════════════╪════════════════════════════════════╡\n",
       "│ B00005A0JQ ┆ 4.899867         ┆ criminal minded             ┆ blues | r&b | pop | rap & hip-hop  │\n",
       "│ B000025IK3 ┆ 4.898644         ┆ blow by blow                ┆ jazz | rock | hard rock & metal |  │\n",
       "│            ┆                  ┆                             ┆ classic rock                       │\n",
       "│ B000027A9I ┆ 4.893869         ┆ e. 1999 eternal             ┆ rock | r&b | rap & hip-hop         │\n",
       "│ B00008F4LD ┆ 4.889394         ┆ group sex / wild in the     ┆ rock | alternative rock | hard     │\n",
       "│            ┆                  ┆ streets                     ┆ rock & metal                       │\n",
       "│ B00008G0XL ┆ 4.888565         ┆ danzig ii: lucifuge [vinyl] ┆ hard rock & metal | rock           │\n",
       "│ B00009L1SV ┆ 4.887216         ┆ little sparrow              ┆ country | pop | folk               │\n",
       "│ B0000004TS ┆ 4.877594         ┆ collection of songs         ┆ pop | christian                    │\n",
       "│ B00005YCK2 ┆ 4.875045         ┆ blue train (stereo) [vinyl] ┆ pop | jazz                         │\n",
       "│ B0000004X7 ┆ 4.872712         ┆ the low end theory          ┆ blues | r&b | rap & hip-hop | pop  │\n",
       "│ B000FLCRK0 ┆ 4.86973          ┆ everybody knows this is     ┆ rock | classic rock                │\n",
       "│            ┆                  ┆ nowhere                     ┆                                    │\n",
       "└────────────┴──────────────────┴─────────────────────────────┴────────────────────────────────────┘"
      ]
     },
     "execution_count": 22,
     "metadata": {},
     "output_type": "execute_result"
    }
   ],
   "source": [
    "N: int = 10\n",
    "\n",
    "rec_df: pl.DataFrame = pred_df.join(\n",
    "    unique_prod_df,\n",
    "    left_on=\"item_id\",\n",
    "    right_on=\"productId\",\n",
    "    how=\"left\",\n",
    ").sort(by=\"predicted_rating\", descending=True)\n",
    "\n",
    "rec_df.head(N)"
   ]
  },
  {
   "cell_type": "code",
   "execution_count": null,
   "metadata": {},
   "outputs": [],
   "source": []
  },
  {
   "cell_type": "markdown",
   "metadata": {},
   "source": [
    "#### Putting It All Together"
   ]
  },
  {
   "cell_type": "code",
   "execution_count": 23,
   "metadata": {},
   "outputs": [],
   "source": [
    "from surprise import AlgoBase\n",
    "from typing import List, Dict, Union, Any\n",
    "import polars as pl\n",
    "\n",
    "\n",
    "def recommend_items(\n",
    "    algo: AlgoBase, df: pl.DataFrame, user_id: str, top_n: Union[int, None] = None\n",
    ") -> List[Dict[str, float]]:\n",
    "    \"\"\"\n",
    "    Recommend items for a user based on a collaborative filtering algorithm.\n",
    "\n",
    "    Parameters\n",
    "    ----------\n",
    "    algo : AlgoBase\n",
    "        The collaborative filtering algorithm to use for predictions.\n",
    "    df : pl.DataFrame, shape (n_samples, n_features)\n",
    "        The DataFrame containing user-item interactions.\n",
    "    user_id : str\n",
    "        The ID of the user for whom to make recommendations.\n",
    "    top_n : int | None, optional\n",
    "        The number of top recommendations to return. If None, defaults to 10.\n",
    "\n",
    "    Returns\n",
    "    -------\n",
    "    List[Dict[str, float]]\n",
    "        A list of dictionaries containing the top N recommended items and their\n",
    "        predicted ratings, sorted in descending order of predicted rating.\n",
    "\n",
    "    Raises\n",
    "    ------\n",
    "    TypeError\n",
    "        If `algo` is not an instance of AlgoBase or `df` is not a Polars DataFrame.\n",
    "\n",
    "    Notes\n",
    "    -----\n",
    "    The function filters the input DataFrame to find movies the user has not seen,\n",
    "    predicts ratings for these movies, and returns the top N recommendations.\n",
    "    \"\"\"\n",
    "    if not isinstance(algo, AlgoBase):\n",
    "        raise TypeError(\"algo must be an instance of AlgoBase\")\n",
    "\n",
    "    if not isinstance(df, pl.DataFrame):\n",
    "        raise TypeError(\"df must be a Polars DataFrame\")\n",
    "\n",
    "    if top_n is None:\n",
    "        top_n = 10\n",
    "\n",
    "    # Find the number of reviews/movies seen by the user\n",
    "    movies_seen_df: pl.DataFrame = df.filter(pl.col(\"user_id\").eq(user_id))\n",
    "    num_reviews: int = movies_seen_df.shape[0]\n",
    "    print(f\"Number of reviews: {num_reviews:,}\")\n",
    "\n",
    "    # Unique movies the user has NOT seen\n",
    "    movies_not_seen_df: pl.DataFrame = df.filter(pl.col(\"user_id\").ne(user_id)).unique(\n",
    "        subset=\"item_id\"\n",
    "    )\n",
    "    print(f\"Number of movies not seen: {movies_not_seen_df.shape[0]:,}\")\n",
    "\n",
    "    pred_movies: List[Dict[str, float]] = [\n",
    "        {\n",
    "            # \"user_id\": user_id,\n",
    "            \"item_id\": row[\"item_id\"],\n",
    "            \"rating\": algo.predict(uid=user_id, iid=row[\"item_id\"]).est,\n",
    "        }\n",
    "        for row in movies_not_seen_df.iter_rows(named=True)\n",
    "    ]\n",
    "    # Inplace sorting based on the estimated rating (descending)\n",
    "    pred_movies.sort(key=lambda x: x[\"rating\"], reverse=True)\n",
    "\n",
    "    return pred_movies[:top_n]\n",
    "\n",
    "\n",
    "def create_rec_data(\n",
    "    pred: dict[str, list[float]], prod_df: pl.DataFrame\n",
    ") -> pl.DataFrame:\n",
    "    \"\"\"\n",
    "    Create a recommendation dataframe by joining prediction data with product data.\n",
    "\n",
    "    Parameters\n",
    "    ----------\n",
    "    pred : dict[str, list[float]]\n",
    "        Dictionary containing prediction data.\n",
    "        Expected to have 'item_id' and 'rating' as keys.\n",
    "    prod_df : pl.DataFrame\n",
    "        DataFrame containing product data.\n",
    "        Expected to have 'productId' column.\n",
    "\n",
    "    Returns\n",
    "    -------\n",
    "    pl.DataFrame\n",
    "        Sorted recommendation dataframe with product details.\n",
    "\n",
    "    \"\"\"\n",
    "    recommend_df: pl.DataFrame = (\n",
    "        pl.DataFrame(pred)\n",
    "        .join(prod_df, left_on=\"item_id\", right_on=\"productId\")\n",
    "        .sort(\"rating\", descending=True)\n",
    "    )\n",
    "    return recommend_df"
   ]
  },
  {
   "cell_type": "code",
   "execution_count": 24,
   "metadata": {},
   "outputs": [
    {
     "name": "stdout",
     "output_type": "stream",
     "text": [
      "Number of reviews: 27\n",
      "Number of movies not seen: 22,255\n"
     ]
    },
    {
     "data": {
      "text/html": [
       "<pre style=\"white-space:pre;overflow-x:auto;line-height:normal;font-family:Menlo,'DejaVu Sans Mono',consolas,'Courier New',monospace\"><span style=\"font-weight: bold\">[</span>\n",
       "    <span style=\"font-weight: bold\">{</span><span style=\"color: #008000; text-decoration-color: #008000\">'item_id'</span>: <span style=\"color: #008000; text-decoration-color: #008000\">'B00005A0JQ'</span>, <span style=\"color: #008000; text-decoration-color: #008000\">'rating'</span>: <span style=\"color: #008080; text-decoration-color: #008080; font-weight: bold\">4.8998667627629375</span><span style=\"font-weight: bold\">}</span>,\n",
       "    <span style=\"font-weight: bold\">{</span><span style=\"color: #008000; text-decoration-color: #008000\">'item_id'</span>: <span style=\"color: #008000; text-decoration-color: #008000\">'B000025IK3'</span>, <span style=\"color: #008000; text-decoration-color: #008000\">'rating'</span>: <span style=\"color: #008080; text-decoration-color: #008080; font-weight: bold\">4.898643726911275</span><span style=\"font-weight: bold\">}</span>,\n",
       "    <span style=\"font-weight: bold\">{</span><span style=\"color: #008000; text-decoration-color: #008000\">'item_id'</span>: <span style=\"color: #008000; text-decoration-color: #008000\">'B000027A9I'</span>, <span style=\"color: #008000; text-decoration-color: #008000\">'rating'</span>: <span style=\"color: #008080; text-decoration-color: #008080; font-weight: bold\">4.893868961936325</span><span style=\"font-weight: bold\">}</span>,\n",
       "    <span style=\"font-weight: bold\">{</span><span style=\"color: #008000; text-decoration-color: #008000\">'item_id'</span>: <span style=\"color: #008000; text-decoration-color: #008000\">'B00008F4LD'</span>, <span style=\"color: #008000; text-decoration-color: #008000\">'rating'</span>: <span style=\"color: #008080; text-decoration-color: #008080; font-weight: bold\">4.88939401432432</span><span style=\"font-weight: bold\">}</span>,\n",
       "    <span style=\"font-weight: bold\">{</span><span style=\"color: #008000; text-decoration-color: #008000\">'item_id'</span>: <span style=\"color: #008000; text-decoration-color: #008000\">'B00008G0XL'</span>, <span style=\"color: #008000; text-decoration-color: #008000\">'rating'</span>: <span style=\"color: #008080; text-decoration-color: #008080; font-weight: bold\">4.888565174356219</span><span style=\"font-weight: bold\">}</span>\n",
       "<span style=\"font-weight: bold\">]</span>\n",
       "</pre>\n"
      ],
      "text/plain": [
       "\u001b[1m[\u001b[0m\n",
       "    \u001b[1m{\u001b[0m\u001b[32m'item_id'\u001b[0m: \u001b[32m'B00005A0JQ'\u001b[0m, \u001b[32m'rating'\u001b[0m: \u001b[1;36m4.8998667627629375\u001b[0m\u001b[1m}\u001b[0m,\n",
       "    \u001b[1m{\u001b[0m\u001b[32m'item_id'\u001b[0m: \u001b[32m'B000025IK3'\u001b[0m, \u001b[32m'rating'\u001b[0m: \u001b[1;36m4.898643726911275\u001b[0m\u001b[1m}\u001b[0m,\n",
       "    \u001b[1m{\u001b[0m\u001b[32m'item_id'\u001b[0m: \u001b[32m'B000027A9I'\u001b[0m, \u001b[32m'rating'\u001b[0m: \u001b[1;36m4.893868961936325\u001b[0m\u001b[1m}\u001b[0m,\n",
       "    \u001b[1m{\u001b[0m\u001b[32m'item_id'\u001b[0m: \u001b[32m'B00008F4LD'\u001b[0m, \u001b[32m'rating'\u001b[0m: \u001b[1;36m4.88939401432432\u001b[0m\u001b[1m}\u001b[0m,\n",
       "    \u001b[1m{\u001b[0m\u001b[32m'item_id'\u001b[0m: \u001b[32m'B00008G0XL'\u001b[0m, \u001b[32m'rating'\u001b[0m: \u001b[1;36m4.888565174356219\u001b[0m\u001b[1m}\u001b[0m\n",
       "\u001b[1m]\u001b[0m\n"
      ]
     },
     "metadata": {},
     "output_type": "display_data"
    }
   ],
   "source": [
    "pred: list[dict[str, str | float]] = recommend_items(\n",
    "    algo=algo_svd, df=df, user_id=u_id, top_n=5\n",
    ")\n",
    "\n",
    "console.print(pred)"
   ]
  },
  {
   "cell_type": "code",
   "execution_count": 25,
   "metadata": {},
   "outputs": [
    {
     "data": {
      "text/html": [
       "<div><style>\n",
       ".dataframe > thead > tr,\n",
       ".dataframe > tbody > tr {\n",
       "  text-align: right;\n",
       "  white-space: pre-wrap;\n",
       "}\n",
       "</style>\n",
       "<small>shape: (5, 7)</small><table border=\"1\" class=\"dataframe\"><thead><tr><th>item_id</th><th>rating</th><th>title</th><th>product_category</th><th>summary</th><th>genres</th><th>metadata</th></tr><tr><td>str</td><td>f64</td><td>str</td><td>str</td><td>str</td><td>str</td><td>str</td></tr></thead><tbody><tr><td>&quot;B00005A0JQ&quot;</td><td>4.899867</td><td>&quot;criminal minded&quot;</td><td>&quot;blues | r&amp;b | pop | rap &amp; hip-hop&quot;</td><td>&quot;...criminal not to already own this!... this is still the dope beat! live and direct... boogie down…</td><td>&quot;blues   r&amp;b   pop   rap &amp; hip-hop&quot;</td><td>&quot;...criminal not to already own this!... this is still the dope beat! live and direct... boogie down…</td></tr><tr><td>&quot;B000025IK3&quot;</td><td>4.898644</td><td>&quot;blow by blow&quot;</td><td>&quot;jazz | rock | hard rock &amp; metal | classic rock&quot;</td><td>&quot;blow by blow=tight!!! a generation later, blow by blow still dazzles the ear one of the best guitar…</td><td>&quot;jazz   rock   hard rock &amp; metal   classic rock&quot;</td><td>&quot;blow by blow=tight!!! a generation later, blow by blow still dazzles the ear one of the best guitar…</td></tr><tr><td>&quot;B000027A9I&quot;</td><td>4.893869</td><td>&quot;e. 1999 eternal&quot;</td><td>&quot;rock | r&amp;b | rap &amp; hip-hop&quot;</td><td>&quot;a classik true artist bone is tha bomb !!!!!!!!!!!!!!!!!!!! classic. deadly beats!!! east. 1999 u c…</td><td>&quot;rock   r&amp;b   rap &amp; hip-hop&quot;</td><td>&quot;a classik true artist bone is tha bomb !!!!!!!!!!!!!!!!!!!! classic. deadly beats!!! east. 1999 u c…</td></tr><tr><td>&quot;B00008F4LD&quot;</td><td>4.889394</td><td>&quot;group sex / wild in the streets&quot;</td><td>&quot;rock | alternative rock | hard rock &amp; metal&quot;</td><td>&quot;speed, budweiser, and pimples best scene in the world amazing every song is great circle jerks. tha…</td><td>&quot;rock   alternative rock   hard rock &amp; metal&quot;</td><td>&quot;speed, budweiser, and pimples best scene in the world amazing every song is great circle jerks. tha…</td></tr><tr><td>&quot;B00008G0XL&quot;</td><td>4.888565</td><td>&quot;danzig ii: lucifuge [vinyl]&quot;</td><td>&quot;hard rock &amp; metal | rock&quot;</td><td>&quot;danzig&#x27;s 1989 debut danzig 2:electric boogaloo (sorry, force of habit) the dark side of infinity by…</td><td>&quot;hard rock &amp; metal   rock&quot;</td><td>&quot;danzig&#x27;s 1989 debut danzig 2:electric boogaloo (sorry, force of habit) the dark side of infinity by…</td></tr></tbody></table></div>"
      ],
      "text/plain": [
       "shape: (5, 7)\n",
       "┌────────────┬──────────┬──────────────┬──────────────┬──────────────┬──────────────┬──────────────┐\n",
       "│ item_id    ┆ rating   ┆ title        ┆ product_cate ┆ summary      ┆ genres       ┆ metadata     │\n",
       "│ ---        ┆ ---      ┆ ---          ┆ gory         ┆ ---          ┆ ---          ┆ ---          │\n",
       "│ str        ┆ f64      ┆ str          ┆ ---          ┆ str          ┆ str          ┆ str          │\n",
       "│            ┆          ┆              ┆ str          ┆              ┆              ┆              │\n",
       "╞════════════╪══════════╪══════════════╪══════════════╪══════════════╪══════════════╪══════════════╡\n",
       "│ B00005A0JQ ┆ 4.899867 ┆ criminal     ┆ blues | r&b  ┆ ...criminal  ┆ blues   r&b  ┆ ...criminal  │\n",
       "│            ┆          ┆ minded       ┆ | pop | rap  ┆ not to       ┆ pop   rap &  ┆ not to       │\n",
       "│            ┆          ┆              ┆ & hip-hop    ┆ already own  ┆ hip-hop      ┆ already own  │\n",
       "│            ┆          ┆              ┆              ┆ this!...     ┆              ┆ this!...     │\n",
       "│            ┆          ┆              ┆              ┆ this is      ┆              ┆ this is      │\n",
       "│            ┆          ┆              ┆              ┆ still the    ┆              ┆ still the    │\n",
       "│            ┆          ┆              ┆              ┆ dope beat!   ┆              ┆ dope beat!   │\n",
       "│            ┆          ┆              ┆              ┆ live and     ┆              ┆ live and     │\n",
       "│            ┆          ┆              ┆              ┆ direct...    ┆              ┆ direct...    │\n",
       "│            ┆          ┆              ┆              ┆ boogie down  ┆              ┆ boogie down  │\n",
       "│            ┆          ┆              ┆              ┆ …            ┆              ┆ …            │\n",
       "│ B000025IK3 ┆ 4.898644 ┆ blow by blow ┆ jazz | rock  ┆ blow by blow ┆ jazz   rock  ┆ blow by blow │\n",
       "│            ┆          ┆              ┆ | hard rock  ┆ =tight!!! a  ┆ hard rock &  ┆ =tight!!! a  │\n",
       "│            ┆          ┆              ┆ & metal |    ┆ generation   ┆ metal        ┆ generation   │\n",
       "│            ┆          ┆              ┆ classic rock ┆ later, blow  ┆ classic rock ┆ later, blow  │\n",
       "│            ┆          ┆              ┆              ┆ by blow      ┆              ┆ by blow      │\n",
       "│            ┆          ┆              ┆              ┆ still        ┆              ┆ still        │\n",
       "│            ┆          ┆              ┆              ┆ dazzles the  ┆              ┆ dazzles the  │\n",
       "│            ┆          ┆              ┆              ┆ ear one of   ┆              ┆ ear one of   │\n",
       "│            ┆          ┆              ┆              ┆ the best     ┆              ┆ the best     │\n",
       "│            ┆          ┆              ┆              ┆ guitar …     ┆              ┆ guitar …     │\n",
       "│ B000027A9I ┆ 4.893869 ┆ e. 1999      ┆ rock | r&b | ┆ a classik    ┆ rock   r&b   ┆ a classik    │\n",
       "│            ┆          ┆ eternal      ┆ rap &        ┆ true artist  ┆ rap &        ┆ true artist  │\n",
       "│            ┆          ┆              ┆ hip-hop      ┆ bone is tha  ┆ hip-hop      ┆ bone is tha  │\n",
       "│            ┆          ┆              ┆              ┆ bomb !!!!!!! ┆              ┆ bomb !!!!!!! │\n",
       "│            ┆          ┆              ┆              ┆ !!!!!!!!!!!! ┆              ┆ !!!!!!!!!!!! │\n",
       "│            ┆          ┆              ┆              ┆ ! classic.   ┆              ┆ ! classic.   │\n",
       "│            ┆          ┆              ┆              ┆ deadly       ┆              ┆ deadly       │\n",
       "│            ┆          ┆              ┆              ┆ beats!!!     ┆              ┆ beats!!!     │\n",
       "│            ┆          ┆              ┆              ┆ east. 1999 u ┆              ┆ east. 1999 u │\n",
       "│            ┆          ┆              ┆              ┆ ca…          ┆              ┆ ca…          │\n",
       "│ B00008F4LD ┆ 4.889394 ┆ group sex /  ┆ rock |       ┆ speed,       ┆ rock         ┆ speed,       │\n",
       "│            ┆          ┆ wild in the  ┆ alternative  ┆ budweiser,   ┆ alternative  ┆ budweiser,   │\n",
       "│            ┆          ┆ streets      ┆ rock | hard  ┆ and pimples  ┆ rock   hard  ┆ and pimples  │\n",
       "│            ┆          ┆              ┆ rock & metal ┆ best scene   ┆ rock & metal ┆ best scene   │\n",
       "│            ┆          ┆              ┆              ┆ in the world ┆              ┆ in the world │\n",
       "│            ┆          ┆              ┆              ┆ amazing      ┆              ┆ amazing      │\n",
       "│            ┆          ┆              ┆              ┆ every song   ┆              ┆ every song   │\n",
       "│            ┆          ┆              ┆              ┆ is great     ┆              ┆ is great     │\n",
       "│            ┆          ┆              ┆              ┆ circle       ┆              ┆ circle       │\n",
       "│            ┆          ┆              ┆              ┆ jerks. that… ┆              ┆ jerks. that… │\n",
       "│ B00008G0XL ┆ 4.888565 ┆ danzig ii:   ┆ hard rock &  ┆ danzig's     ┆ hard rock &  ┆ danzig's     │\n",
       "│            ┆          ┆ lucifuge     ┆ metal | rock ┆ 1989 debut   ┆ metal   rock ┆ 1989 debut   │\n",
       "│            ┆          ┆ [vinyl]      ┆              ┆ danzig       ┆              ┆ danzig       │\n",
       "│            ┆          ┆              ┆              ┆ 2:electric   ┆              ┆ 2:electric   │\n",
       "│            ┆          ┆              ┆              ┆ boogaloo     ┆              ┆ boogaloo     │\n",
       "│            ┆          ┆              ┆              ┆ (sorry,      ┆              ┆ (sorry,      │\n",
       "│            ┆          ┆              ┆              ┆ force of     ┆              ┆ force of     │\n",
       "│            ┆          ┆              ┆              ┆ habit) the   ┆              ┆ habit) the   │\n",
       "│            ┆          ┆              ┆              ┆ dark side of ┆              ┆ dark side of │\n",
       "│            ┆          ┆              ┆              ┆ infinity by  ┆              ┆ infinity by  │\n",
       "│            ┆          ┆              ┆              ┆ …            ┆              ┆ …            │\n",
       "└────────────┴──────────┴──────────────┴──────────────┴──────────────┴──────────────┴──────────────┘"
      ]
     },
     "execution_count": 25,
     "metadata": {},
     "output_type": "execute_result"
    }
   ],
   "source": [
    "rec_df: pl.DataFrame = create_rec_data(pred=pred, prod_df=prod_df)\n",
    "rec_df"
   ]
  },
  {
   "cell_type": "code",
   "execution_count": null,
   "metadata": {},
   "outputs": [],
   "source": []
  },
  {
   "cell_type": "markdown",
   "metadata": {},
   "source": [
    "<hr>\n",
    "\n",
    "[![image.png](https://i.postimg.cc/8kdK7bMT/image.png)](https://postimg.cc/3WRC6mtq)\n",
    "\n",
    "[image source](https://surprise.readthedocs.io/en/stable/prediction_algorithms_package.html)\n",
    "\n",
    "<hr>\n",
    "\n",
    "```py\n",
    "from surprise import prediction_algorithms\n",
    "\n",
    "dir(prediction_algorithms)\n",
    "\n",
    "# Results:\n",
    "# [\n",
    "#  'AlgoBase',\n",
    "#  'BaselineOnly',\n",
    "#  'CoClustering',\n",
    "#  'KNNBaseline',\n",
    "#  'KNNBasic',\n",
    "#  'KNNWithMeans',\n",
    "#  'KNNWithZScore',\n",
    "#  'NMF',\n",
    "#  'NormalPredictor',\n",
    "#  'Prediction',\n",
    "#  'PredictionImpossible',\n",
    "#  'SVD',\n",
    "#  'SVDpp',\n",
    "#  'SlopeOne',\n",
    "#  ..., \n",
    "# ]\n",
    "```"
   ]
  },
  {
   "cell_type": "code",
   "execution_count": 26,
   "metadata": {},
   "outputs": [
    {
     "data": {
      "text/html": [
       "<div><style>\n",
       ".dataframe > thead > tr,\n",
       ".dataframe > tbody > tr {\n",
       "  text-align: right;\n",
       "  white-space: pre-wrap;\n",
       "}\n",
       "</style>\n",
       "<small>shape: (5, 3)</small><table border=\"1\" class=\"dataframe\"><thead><tr><th>productId</th><th>title</th><th>product_category</th></tr><tr><td>str</td><td>str</td><td>str</td></tr></thead><tbody><tr><td>&quot;B00005N5HS&quot;</td><td>&quot;always faithful&quot;</td><td>&quot;miscellaneous | pop | jazz&quot;</td></tr><tr><td>&quot;B00000HYG3&quot;</td><td>&quot;quintet for a day&quot;</td><td>&quot;jazz | pop&quot;</td></tr><tr><td>&quot;B000001V5B&quot;</td><td>&quot;the royal philharmonic orchestra plays the beatles [rock dreams, vol. 5]&quot;</td><td>&quot;rock | classical | classic rock | pop&quot;</td></tr><tr><td>&quot;B000BM6AOM&quot;</td><td>&quot;homenaje a papo&quot;</td><td>&quot;world | latin&quot;</td></tr><tr><td>&quot;B00001AQZQ&quot;</td><td>&quot;for sale&quot;</td><td>&quot;&quot;</td></tr></tbody></table></div>"
      ],
      "text/plain": [
       "shape: (5, 3)\n",
       "┌────────────┬─────────────────────────────────────────────┬───────────────────────────────────────┐\n",
       "│ productId  ┆ title                                       ┆ product_category                      │\n",
       "│ ---        ┆ ---                                         ┆ ---                                   │\n",
       "│ str        ┆ str                                         ┆ str                                   │\n",
       "╞════════════╪═════════════════════════════════════════════╪═══════════════════════════════════════╡\n",
       "│ B00005N5HS ┆ always faithful                             ┆ miscellaneous | pop | jazz            │\n",
       "│ B00000HYG3 ┆ quintet for a day                           ┆ jazz | pop                            │\n",
       "│ B000001V5B ┆ the royal philharmonic orchestra plays the  ┆ rock | classical | classic rock | pop │\n",
       "│            ┆ beatles [rock dreams, vol. 5]               ┆                                       │\n",
       "│ B000BM6AOM ┆ homenaje a papo                             ┆ world | latin                         │\n",
       "│ B00001AQZQ ┆ for sale                                    ┆                                       │\n",
       "└────────────┴─────────────────────────────────────────────┴───────────────────────────────────────┘"
      ]
     },
     "execution_count": 26,
     "metadata": {},
     "output_type": "execute_result"
    }
   ],
   "source": [
    "unique_prod_df.head()"
   ]
  },
  {
   "cell_type": "code",
   "execution_count": 27,
   "metadata": {},
   "outputs": [],
   "source": [
    "def get_item_id(item_name: str, df: pl.DataFrame) -> str | None:\n",
    "    \"\"\"\n",
    "    Get the product ID for a given item name.\n",
    "\n",
    "    Parameters\n",
    "    ----------\n",
    "    item_name : str\n",
    "        The name of the item to search for.\n",
    "    df : pl.DataFrame\n",
    "        The DataFrame containing the product information.\n",
    "\n",
    "    Returns\n",
    "    -------\n",
    "    str or None\n",
    "        The product ID if found, None otherwise.\n",
    "    \"\"\"\n",
    "    try:\n",
    "        item_id: str = df.filter(\n",
    "            pl.col(\"title\").str.to_lowercase().eq(item_name.lower())\n",
    "        )[\"productId\"][0]\n",
    "    except IndexError:\n",
    "        item_id: None = None\n",
    "\n",
    "    return item_id\n",
    "\n",
    "\n",
    "def get_item_name(\n",
    "    df: pl.DataFrame, item_raw_id: str | None = None, item_id: int | None = None\n",
    ") -> str | None:\n",
    "    \"\"\"\n",
    "    Get the item name for a given product ID.\n",
    "\n",
    "    Parameters\n",
    "    ----------\n",
    "    item_raw_id : str\n",
    "        The product ID to search for.\n",
    "    df : pl.DataFrame\n",
    "        The DataFrame containing the product information.\n",
    "\n",
    "    Returns\n",
    "    -------\n",
    "    str or None\n",
    "        The item name if found, None otherwise.\n",
    "    \"\"\"\n",
    "    if item_raw_id is None and item_id is None:\n",
    "        raise ValueError(\"Either `item_raw_id` or `item_id` must be provided.\")\n",
    "    if item_raw_id is not None and item_id is not None:\n",
    "        raise ValueError(\"Only one of `item_raw_id` or `item_id` must be provided.\")\n",
    "\n",
    "    if item_id is not None:\n",
    "        item_id = min(item_id, len(df))\n",
    "        item_name: str = df[\"title\"].to_list()[item_id]\n",
    "    else:\n",
    "        try:\n",
    "            item_name: str = df.filter(\n",
    "                pl.col(\"productId\").str.to_lowercase().eq(item_raw_id.lower())\n",
    "            )[\"title\"][0]\n",
    "        except IndexError:\n",
    "            item_name: None = None\n",
    "\n",
    "    return item_name"
   ]
  },
  {
   "cell_type": "code",
   "execution_count": 28,
   "metadata": {},
   "outputs": [
    {
     "name": "stdout",
     "output_type": "stream",
     "text": [
      "B00008F554\n",
      "cities and desire\n",
      "hidden in the stomach\n"
     ]
    }
   ],
   "source": [
    "print(get_item_id(item_name=\"vigilante of hope\", df=prod_df))\n",
    "print(get_item_name(item_raw_id=\"B000H0M4R0\", df=prod_df))\n",
    "print(get_item_name(item_id=200, df=prod_df))"
   ]
  },
  {
   "cell_type": "markdown",
   "metadata": {},
   "source": [
    "<br><hr>\n",
    "\n",
    "#### Content-based Filtering"
   ]
  },
  {
   "cell_type": "code",
   "execution_count": 29,
   "metadata": {},
   "outputs": [],
   "source": [
    "from sklearn.feature_extraction.text import TfidfVectorizer\n",
    "from sklearn.decomposition import TruncatedSVD\n",
    "from sklearn.pipeline import Pipeline\n",
    "from sklearn.metrics.pairwise import cosine_similarity\n",
    "from scipy.sparse import csr_matrix\n",
    "\n",
    "\n",
    "metadata: pl.DataFrame = (\n",
    "    prod_df.select([\"productId\", \"title\", \"metadata\"])\n",
    "    # .unique(subset=[\"productId\"])\n",
    "    .clone()\n",
    ")\n",
    "metadata = metadata.with_columns(\n",
    "    metadata=pl.concat_str(pl.col(\"title\"), pl.col(\"metadata\"), separator=\" | \")\n",
    ")\n",
    "\n",
    "pipe_tfidf: Pipeline = Pipeline(\n",
    "    [\n",
    "        (\"tfidf\", TfidfVectorizer(stop_words=\"english\", max_df=0.95, min_df=2)),\n",
    "        (\"svd\", TruncatedSVD(n_components=300, random_state=seed, n_iter=10)),\n",
    "    ]\n",
    ")\n",
    "item_tfidf_matrix: np.ndarray = pipe_tfidf.fit_transform(metadata[\"metadata\"])"
   ]
  },
  {
   "cell_type": "code",
   "execution_count": 30,
   "metadata": {},
   "outputs": [],
   "source": [
    "from polars import selectors as cs\n",
    "import numpy as np\n",
    "import polars as pl\n",
    "from sklearn.pipeline import Pipeline\n",
    "from sklearn.metrics.pairwise import cosine_similarity\n",
    "\n",
    "\n",
    "def get_content_rec_idxs(\n",
    "    user_profile: str,\n",
    "    item_tfidf_matrix: np.ndarray,\n",
    "    pipe_tfidf: Pipeline,\n",
    "    top_n: int = 5,\n",
    ") -> np.ndarray:\n",
    "    \"\"\"\n",
    "    Generate content-based recommendations for a user.\n",
    "\n",
    "    Parameters\n",
    "    ----------\n",
    "    user_profile : str\n",
    "        The user's profile text.\n",
    "    item_tfidf_matrix : np.ndarray, shape (n_items, n_features)\n",
    "        TF-IDF matrix of all items.\n",
    "    pipe_tfidf : Pipeline\n",
    "        Scikit-learn Pipeline object for TF-IDF transformation.\n",
    "    top_n : int, optional\n",
    "        Number of recommendations to return (default is 5).\n",
    "\n",
    "    Returns\n",
    "    -------\n",
    "    np.ndarray, shape (top_n,)\n",
    "        Indices of top N recommended items.\n",
    "    \"\"\"\n",
    "    user_profile_vector: np.ndarray = pipe_tfidf.transform([user_profile])\n",
    "    cosine_sim: np.ndarray = cosine_similarity(user_profile_vector, item_tfidf_matrix)\n",
    "    return cosine_sim.argsort()[0][::-1][:top_n]\n",
    "\n",
    "\n",
    "def get_content_based_recs(\n",
    "    df: pl.DataFrame,\n",
    "    item_tfidf_matrix: np.ndarray,\n",
    "    pipe_tfidf: Pipeline,\n",
    "    item_name: str | None = None,\n",
    "    user_profile: str | None = None,\n",
    "    top_n: int = 5,\n",
    ") -> pl.DataFrame:\n",
    "    \"\"\"\n",
    "    Get content-based recommendations for a user.\n",
    "\n",
    "    Parameters\n",
    "    ----------\n",
    "    df : pl.DataFrame\n",
    "        DataFrame containing item information.\n",
    "    item_tfidf_matrix : np.ndarray, shape (n_items, n_features)\n",
    "        TF-IDF matrix of all items.\n",
    "    pipe_tfidf : Pipeline\n",
    "        Scikit-learn Pipeline object for TF-IDF transformation.\n",
    "    item_name : str | None, optional\n",
    "        Name of the item to base recommendations on (default is None).\n",
    "    user_profile : str | None, optional\n",
    "        The user's profile text (default is None).\n",
    "    top_n : int, optional\n",
    "        Number of recommendations to return (default is 5).\n",
    "\n",
    "    Returns\n",
    "    -------\n",
    "    pl.DataFrame\n",
    "        DataFrame containing recommended items.\n",
    "    \"\"\"\n",
    "    if item_name is None and user_profile is None:\n",
    "        raise ValueError(\"Either `item_name` or `user_profile` must be provided.\")\n",
    "    if item_name is not None and user_profile is not None:\n",
    "        raise ValueError(\n",
    "            \"Only one of `item_name` or `user_profile` should be provided.\"\n",
    "        )\n",
    "\n",
    "    title_df: pl.DataFrame = pl.DataFrame(\n",
    "        data={\n",
    "            \"title\": df[\"title\"].str.to_lowercase(),\n",
    "        }\n",
    "    )\n",
    "    latent_df: pl.DataFrame = pl.concat(\n",
    "        [title_df, pl.DataFrame(item_tfidf_matrix)], how=\"horizontal\"\n",
    "    )\n",
    "\n",
    "    if item_name is not None:\n",
    "        item_vector: np.ndarray = latent_df.filter(\n",
    "            pl.col(\"title\").eq(item_name)\n",
    "        ).select(cs.float())\n",
    "        cos_sim: np.ndarray = cosine_similarity(\n",
    "            latent_df.select(cs.float()), item_vector\n",
    "        )\n",
    "        sim_df: pl.DataFrame = (\n",
    "            pl.DataFrame({\"title\": latent_df[\"title\"], \"similarity\": cos_sim.flatten()})\n",
    "            .sort(by=\"similarity\", descending=True)\n",
    "            .drop(\"similarity\")\n",
    "        ).slice(0, top_n)\n",
    "        rec_df: pl.DataFrame = sim_df.join(df, on=\"title\", how=\"left\")\n",
    "\n",
    "    if user_profile is not None:\n",
    "        items: list[str] = df[\"title\"].to_list()\n",
    "        pred_ids: np.ndarray = get_content_rec_idxs(\n",
    "            user_profile, item_tfidf_matrix, pipe_tfidf, top_n\n",
    "        )\n",
    "        rec_item_names: list[str] = [items[idx] for idx in pred_ids]\n",
    "        rec_df: pl.DataFrame = df.filter(pl.col(\"title\").is_in(rec_item_names))\n",
    "\n",
    "    return rec_df"
   ]
  },
  {
   "cell_type": "code",
   "execution_count": 31,
   "metadata": {},
   "outputs": [],
   "source": [
    "from polars import selectors as cs\n",
    "import numpy as np\n",
    "import polars as pl\n",
    "from sklearn.pipeline import Pipeline\n",
    "from sklearn.metrics.pairwise import cosine_similarity\n",
    "\n",
    "\n",
    "def get_content_rec_idxs(\n",
    "    user_profile: str,\n",
    "    item_tfidf_matrix: np.ndarray,\n",
    "    pipe_tfidf: Pipeline,\n",
    "    top_n: int = 5,\n",
    ") -> np.ndarray:\n",
    "    \"\"\"\n",
    "    Generate content-based recommendations for a user.\n",
    "\n",
    "    Parameters\n",
    "    ----------\n",
    "    user_profile : str\n",
    "        The user's profile text.\n",
    "    item_tfidf_matrix : np.ndarray, shape (n_items, n_features)\n",
    "        TF-IDF matrix of all items.\n",
    "    pipe_tfidf : Pipeline\n",
    "        Scikit-learn Pipeline object for TF-IDF transformation.\n",
    "    top_n : int, optional\n",
    "        Number of recommendations to return (default is 5).\n",
    "\n",
    "    Returns\n",
    "    -------\n",
    "    np.ndarray, shape (top_n,)\n",
    "        Indices of top N recommended items.\n",
    "    \"\"\"\n",
    "    user_profile_vector: np.ndarray = pipe_tfidf.transform([user_profile])\n",
    "    cosine_sim: np.ndarray = cosine_similarity(user_profile_vector, item_tfidf_matrix)\n",
    "    return cosine_sim.argsort()[0][::-1][:top_n]\n",
    "\n",
    "\n",
    "def get_content_based_recs(\n",
    "    df: pl.DataFrame,\n",
    "    item_tfidf_matrix: np.ndarray,\n",
    "    pipe_tfidf: Pipeline,\n",
    "    item_name: str | None = None,\n",
    "    user_profile: str | None = None,\n",
    "    top_n: int = 5,\n",
    ") -> pl.DataFrame:\n",
    "    \"\"\"\n",
    "    Get content-based recommendations for a user.\n",
    "\n",
    "    Parameters\n",
    "    ----------\n",
    "    df : pl.DataFrame\n",
    "        DataFrame containing item information.\n",
    "    item_tfidf_matrix : np.ndarray, shape (n_items, n_features)\n",
    "        TF-IDF matrix of all items.\n",
    "    pipe_tfidf : Pipeline\n",
    "        Scikit-learn Pipeline object for TF-IDF transformation.\n",
    "    item_name : str | None, optional\n",
    "        Name of the item to base recommendations on (default is None).\n",
    "    user_profile : str | None, optional\n",
    "        The user's profile text (default is None).\n",
    "    top_n : int, optional\n",
    "        Number of recommendations to return (default is 5).\n",
    "\n",
    "    Returns\n",
    "    -------\n",
    "    pl.DataFrame\n",
    "        DataFrame containing recommended items.\n",
    "    \"\"\"\n",
    "    if item_name is None and user_profile is None:\n",
    "        raise ValueError(\"Either `item_name` or `user_profile` must be provided.\")\n",
    "    if item_name is not None and user_profile is not None:\n",
    "        raise ValueError(\n",
    "            \"Only one of `item_name` or `user_profile` should be provided.\"\n",
    "        )\n",
    "\n",
    "    title_df: pl.DataFrame = pl.DataFrame(\n",
    "        data={\n",
    "            \"title\": df[\"title\"].str.to_lowercase(),\n",
    "        }\n",
    "    )\n",
    "    latent_df: pl.DataFrame = pl.concat(\n",
    "        [title_df, pl.DataFrame(item_tfidf_matrix)], how=\"horizontal\"\n",
    "    )\n",
    "\n",
    "    if item_name is not None:\n",
    "        item_vector: np.ndarray = latent_df.filter(\n",
    "            pl.col(\"title\").eq(item_name)\n",
    "        ).select(cs.float())\n",
    "        cos_sim: np.ndarray = cosine_similarity(\n",
    "            latent_df.select(cs.float()), item_vector\n",
    "        )\n",
    "        sim_df: pl.DataFrame = (\n",
    "            pl.DataFrame({\"title\": latent_df[\"title\"], \"similarity\": cos_sim.flatten()})\n",
    "            .sort(by=\"similarity\", descending=True)\n",
    "            .drop(\"similarity\")\n",
    "        ).slice(0, top_n)\n",
    "        rec_df: pl.DataFrame = sim_df.join(df, on=\"title\", how=\"left\")\n",
    "\n",
    "    if user_profile is not None:\n",
    "        pattern: str = r\"(\" + user_profile + \")\"\n",
    "        rand_metadata: list[str] = (\n",
    "            df.with_columns(flag=pl.col(\"product_category\").str.extract_all(pattern))\n",
    "            .filter(pl.col(\"flag\").ne([]))[\"product_category\"]\n",
    "            .sample(n=3, shuffle=True, seed=42)\n",
    "            .to_list()\n",
    "        )\n",
    "        metadata_str = \" \".join(rand_metadata)\n",
    "        items: list[str] = df[\"title\"].to_list()\n",
    "        pred_ids: np.ndarray = get_content_rec_idxs(\n",
    "            metadata_str, item_tfidf_matrix, pipe_tfidf, top_n\n",
    "        )\n",
    "        rec_item_names: list[str] = [items[idx] for idx in pred_ids]\n",
    "        rec_df: pl.DataFrame = df.filter(pl.col(\"title\").is_in(rec_item_names))\n",
    "\n",
    "    return rec_df"
   ]
  },
  {
   "cell_type": "code",
   "execution_count": 32,
   "metadata": {},
   "outputs": [
    {
     "data": {
      "text/html": [
       "<div><style>\n",
       ".dataframe > thead > tr,\n",
       ".dataframe > tbody > tr {\n",
       "  text-align: right;\n",
       "  white-space: pre-wrap;\n",
       "}\n",
       "</style>\n",
       "<small>shape: (10, 3)</small><table border=\"1\" class=\"dataframe\"><thead><tr><th>productId</th><th>title</th><th>product_category</th></tr><tr><td>str</td><td>str</td><td>str</td></tr></thead><tbody><tr><td>&quot;B000026Y9J&quot;</td><td>&quot;crystal palace fc: glad all over&quot;</td><td>&quot;rock | pop&quot;</td></tr><tr><td>&quot;B00000HYU6&quot;</td><td>&quot;best of the best&quot;</td><td>&quot;world | pop | rock&quot;</td></tr><tr><td>&quot;B00004R7T0&quot;</td><td>&quot;survival sickness&quot;</td><td>&quot;alternative rock | rock&quot;</td></tr><tr><td>&quot;B000MTFFTK&quot;</td><td>&quot;bill engvall: 15 off cool (2007)&quot;</td><td>&quot;miscellaneous tv movies &amp; tv&quot;</td></tr><tr><td>&quot;B00004TBUQ&quot;</td><td>&quot;lotus&quot;</td><td>&quot;hard rock &amp; metal&quot;</td></tr><tr><td>&quot;B0001Q4BL2&quot;</td><td>&quot;thomas the tank engine and friends - totally thomas 3-disc collection with train (make someone happ…</td><td>&quot;tv movies &amp; tv | children&#x27;s&quot;</td></tr><tr><td>&quot;B00008F4RT&quot;</td><td>&quot;boomin in ya jeep&quot;</td><td>&quot;dance &amp; electronic | rap &amp; hip-hop&quot;</td></tr><tr><td>&quot;B00005YWJN&quot;</td><td>&quot;rotary downs&quot;</td><td>&quot;broadway &amp; vocalists | alternative rock | rock&quot;</td></tr><tr><td>&quot;B00067W2QC&quot;</td><td>&quot;the messenger&quot;</td><td>&quot;jazz | r&amp;b&quot;</td></tr><tr><td>&quot;B000BNC3W4&quot;</td><td>&quot;full metal panic tsr (the second raid) original soundtrack [audio cd]&quot;</td><td>&quot;soundtracks&quot;</td></tr></tbody></table></div>"
      ],
      "text/plain": [
       "shape: (10, 3)\n",
       "┌────────────┬──────────────────────────────────────────┬──────────────────────────────────────────┐\n",
       "│ productId  ┆ title                                    ┆ product_category                         │\n",
       "│ ---        ┆ ---                                      ┆ ---                                      │\n",
       "│ str        ┆ str                                      ┆ str                                      │\n",
       "╞════════════╪══════════════════════════════════════════╪══════════════════════════════════════════╡\n",
       "│ B000026Y9J ┆ crystal palace fc: glad all over         ┆ rock | pop                               │\n",
       "│ B00000HYU6 ┆ best of the best                         ┆ world | pop | rock                       │\n",
       "│ B00004R7T0 ┆ survival sickness                        ┆ alternative rock | rock                  │\n",
       "│ B000MTFFTK ┆ bill engvall: 15 off cool (2007)         ┆ miscellaneous tv movies & tv             │\n",
       "│ B00004TBUQ ┆ lotus                                    ┆ hard rock & metal                        │\n",
       "│ B0001Q4BL2 ┆ thomas the tank engine and friends -     ┆ tv movies & tv | children's              │\n",
       "│            ┆ totally thomas 3-disc collection with    ┆                                          │\n",
       "│            ┆ train (make someone happy…               ┆                                          │\n",
       "│ B00008F4RT ┆ boomin in ya jeep                        ┆ dance & electronic | rap & hip-hop       │\n",
       "│ B00005YWJN ┆ rotary downs                             ┆ broadway & vocalists | alternative rock  │\n",
       "│            ┆                                          ┆ | rock                                   │\n",
       "│ B00067W2QC ┆ the messenger                            ┆ jazz | r&b                               │\n",
       "│ B000BNC3W4 ┆ full metal panic tsr (the second raid)   ┆ soundtracks                              │\n",
       "│            ┆ original soundtrack [audio cd]           ┆                                          │\n",
       "└────────────┴──────────────────────────────────────────┴──────────────────────────────────────────┘"
      ]
     },
     "execution_count": 32,
     "metadata": {},
     "output_type": "execute_result"
    }
   ],
   "source": [
    "get_content_based_recs(\n",
    "    df=unique_prod_df,\n",
    "    item_tfidf_matrix=item_tfidf_matrix,\n",
    "    pipe_tfidf=pipe_tfidf,\n",
    "    item_name=None,\n",
    "    user_profile=\"pop|gospel|r&b\",\n",
    "    top_n=10,\n",
    ")"
   ]
  },
  {
   "cell_type": "code",
   "execution_count": 33,
   "metadata": {},
   "outputs": [
    {
     "data": {
      "text/html": [
       "<div><style>\n",
       ".dataframe > thead > tr,\n",
       ".dataframe > tbody > tr {\n",
       "  text-align: right;\n",
       "  white-space: pre-wrap;\n",
       "}\n",
       "</style>\n",
       "<small>shape: (5, 3)</small><table border=\"1\" class=\"dataframe\"><thead><tr><th>title</th><th>productId</th><th>product_category</th></tr><tr><td>str</td><td>str</td><td>str</td></tr></thead><tbody><tr><td>&quot;hidden in the stomach&quot;</td><td>&quot;B0002F4COI&quot;</td><td>&quot;jazz&quot;</td></tr><tr><td>&quot;mas cara que espalda&quot;</td><td>&quot;B0002B7DG6&quot;</td><td>&quot;latin | world&quot;</td></tr><tr><td>&quot;os reis do ritmo&quot;</td><td>&quot;B00008Y49U&quot;</td><td>&quot;world | latin&quot;</td></tr><tr><td>&quot;coleccion de oro&quot;</td><td>&quot;B000068D0W&quot;</td><td>&quot;rock | latin | world&quot;</td></tr><tr><td>&quot;live: out on the road&quot;</td><td>&quot;B00008FHSJ&quot;</td><td>&quot;folk | miscellaneous | pop&quot;</td></tr></tbody></table></div>"
      ],
      "text/plain": [
       "shape: (5, 3)\n",
       "┌───────────────────────┬────────────┬────────────────────────────┐\n",
       "│ title                 ┆ productId  ┆ product_category           │\n",
       "│ ---                   ┆ ---        ┆ ---                        │\n",
       "│ str                   ┆ str        ┆ str                        │\n",
       "╞═══════════════════════╪════════════╪════════════════════════════╡\n",
       "│ hidden in the stomach ┆ B0002F4COI ┆ jazz                       │\n",
       "│ mas cara que espalda  ┆ B0002B7DG6 ┆ latin | world              │\n",
       "│ os reis do ritmo      ┆ B00008Y49U ┆ world | latin              │\n",
       "│ coleccion de oro      ┆ B000068D0W ┆ rock | latin | world       │\n",
       "│ live: out on the road ┆ B00008FHSJ ┆ folk | miscellaneous | pop │\n",
       "└───────────────────────┴────────────┴────────────────────────────┘"
      ]
     },
     "execution_count": 33,
     "metadata": {},
     "output_type": "execute_result"
    }
   ],
   "source": [
    "get_content_based_recs(\n",
    "    df=unique_prod_df,\n",
    "    item_tfidf_matrix=item_tfidf_matrix,\n",
    "    pipe_tfidf=pipe_tfidf,\n",
    "    item_name=\"hidden in the stomach\",\n",
    "    # user_profile=\"rap|hip-hop\",\n",
    "    top_n=5,\n",
    ")"
   ]
  },
  {
   "cell_type": "code",
   "execution_count": 34,
   "metadata": {},
   "outputs": [],
   "source": [
    "# Neighbourhood-based Collaborative Filtering"
   ]
  },
  {
   "cell_type": "code",
   "execution_count": null,
   "metadata": {},
   "outputs": [],
   "source": []
  },
  {
   "cell_type": "code",
   "execution_count": null,
   "metadata": {},
   "outputs": [],
   "source": []
  }
 ],
 "metadata": {
  "kernelspec": {
   "display_name": "torch p_311",
   "language": "python",
   "name": "torch_p11"
  },
  "language_info": {
   "codemirror_mode": {
    "name": "ipython",
    "version": 3
   },
   "file_extension": ".py",
   "mimetype": "text/x-python",
   "name": "python",
   "nbconvert_exporter": "python",
   "pygments_lexer": "ipython3",
   "version": "3.11.8"
  }
 },
 "nbformat": 4,
 "nbformat_minor": 2
}
