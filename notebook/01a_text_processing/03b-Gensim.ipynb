{
 "cells": [
  {
   "cell_type": "markdown",
   "metadata": {},
   "source": [
    "# Gensim Tutorials\n",
    "\n",
    "## 1. Introduction\n",
    "\n",
    "- Core Concepts:\n",
    "  - Document\n",
    "  - Corpus\n",
    "  - Vectors\n",
    "  - Models\n",
    "  \n",
    "## 2. Vector Similarity\n",
    "\n",
    "## 3. Data Streaming\n",
    "\n",
    "- Loading large corpus efficently.\n",
    "  \n",
    "## 4. Utiities\n",
    "\n",
    "- Saving and Loading Corporq.\n",
    "- Saing and Loading Models.\n",
    "\n",
    "## 5. Models\n",
    "\n",
    "- TF-IDF\n",
    "- LSI\n",
    "- LDA\n",
    "- Doc2Vec\n",
    "\n",
    "## 6. Project\n",
    "\n",
    "- Text Classification using DoC2Vec and Sklearn."
   ]
  },
  {
   "cell_type": "code",
   "execution_count": 1,
   "metadata": {},
   "outputs": [
    {
     "name": "stdout",
     "output_type": "stream",
     "text": [
      "Python implementation: CPython\n",
      "Python version       : 3.11.8\n",
      "IPython version      : 8.22.2\n",
      "\n",
      "numpy    : 1.26.4\n",
      "pandas   : 2.2.1\n",
      "polars   : 0.20.18\n",
      "mlxtend  : 0.23.1\n",
      "omegaconf: 2.3.0\n",
      "gensim   : 4.3.3\n",
      "\n",
      "conda environment: torch_p11\n",
      "\n"
     ]
    }
   ],
   "source": [
    "%load_ext watermark\n",
    "%watermark -v -p numpy,pandas,polars,mlxtend,omegaconf,gensim --conda"
   ]
  },
  {
   "cell_type": "code",
   "execution_count": 2,
   "metadata": {},
   "outputs": [],
   "source": [
    "# Built-in library\n",
    "from pathlib import Path\n",
    "from pathlib import Path\n",
    "import re\n",
    "import json\n",
    "from typing import Any, Optional, Union\n",
    "import logging\n",
    "import warnings\n",
    "\n",
    "# Standard imports\n",
    "import numpy as np\n",
    "import numpy.typing as npt\n",
    "from pprint import pprint\n",
    "import pandas as pd\n",
    "import polars as pl\n",
    "from rich.console import Console\n",
    "from rich.theme import Theme\n",
    "\n",
    "custom_theme = Theme(\n",
    "    {\n",
    "        \"info\": \"#76FF7B\",\n",
    "        \"warning\": \"#FBDDFE\",\n",
    "        \"error\": \"#FF0000\",\n",
    "    }\n",
    ")\n",
    "console = Console(theme=custom_theme)\n",
    "\n",
    "# Visualization\n",
    "import matplotlib.pyplot as plt\n",
    "\n",
    "# NumPy settings\n",
    "np.set_printoptions(precision=4)\n",
    "\n",
    "# Pandas settings\n",
    "pd.options.display.max_rows = 1_000\n",
    "pd.options.display.max_columns = 1_000\n",
    "pd.options.display.max_colwidth = 600\n",
    "\n",
    "# Polars settings\n",
    "pl.Config.set_fmt_str_lengths(1_000)\n",
    "pl.Config.set_tbl_cols(n=1_000)\n",
    "pl.Config.set_tbl_rows(n=200)\n",
    "\n",
    "warnings.filterwarnings(\"ignore\")\n",
    "\n",
    "\n",
    "# auto reload imports# Built-in library\n",
    "from pathlib import Path\n",
    "import re\n",
    "import json\n",
    "from typing import Any, Optional, Union\n",
    "import logging\n",
    "import warnings\n",
    "\n",
    "# Standard imports\n",
    "import numpy as np\n",
    "import numpy.typing as npt\n",
    "from pprint import pprint\n",
    "import pandas as pd\n",
    "import polars as pl\n",
    "from rich.console import Console\n",
    "from rich.theme import Theme\n",
    "\n",
    "custom_theme = Theme(\n",
    "    {\n",
    "        \"info\": \"#76FF7B\",\n",
    "        \"warning\": \"#FBDDFE\",\n",
    "        \"error\": \"#FF0000\",\n",
    "    }\n",
    ")\n",
    "console = Console(theme=custom_theme)\n",
    "\n",
    "# Visualization\n",
    "import matplotlib.pyplot as plt\n",
    "\n",
    "# NumPy settings\n",
    "np.set_printoptions(precision=4)\n",
    "\n",
    "# Pandas settings\n",
    "pd.options.display.max_rows = 1_000\n",
    "pd.options.display.max_columns = 1_000\n",
    "pd.options.display.max_colwidth = 600\n",
    "\n",
    "# Polars settings\n",
    "pl.Config.set_fmt_str_lengths(1_000)\n",
    "pl.Config.set_tbl_cols(n=1_000)\n",
    "pl.Config.set_tbl_rows(500)\n",
    "\n",
    "warnings.filterwarnings(\"ignore\")\n",
    "\n",
    "\n",
    "# Black code formatter (Optional)\n",
    "%load_ext lab_black\n",
    "\n",
    "# auto reload imports\n",
    "%load_ext autoreload\n",
    "%autoreload 2"
   ]
  },
  {
   "cell_type": "markdown",
   "metadata": {},
   "source": [
    "<br>\n",
    "\n",
    "# [Gensim](https://radimrehurek.com/gensim/index.html)\n",
    "\n",
    "- `Gensim` = **“Generate Similar”**\n",
    "- Gensim is a free open-source Python library for representing documents as semantic vectors, as efficiently (computer-wise) and painlessly (human-wise) as possible.\n",
    "- It's designed to process raw, unstructured digital texts (“plain text”) using unsupervised machine learning algorithms.\n",
    "\n",
    "#### Installation\n",
    "\n",
    "```sh\n",
    "pip install --upgrade gensim\n",
    "```\n",
    "\n",
    "### Use cases\n",
    "\n",
    "- Train large-scale NLP semantic models.\n",
    "- Represent text as semantic vectors.\n",
    "- Find semantically related documents.\n",
    "\n",
    "\n",
    "### Core Concepts of Gensim\n",
    "\n",
    "- `Document`: some text.\n",
    "- `Corpus`: a collection of documents.\n",
    "- `Vector`: a mathematically convenient representation of a document.\n",
    "- `Model`: an algorithm for transforming vectors from one representation to another."
   ]
  },
  {
   "cell_type": "code",
   "execution_count": 3,
   "metadata": {},
   "outputs": [],
   "source": [
    "import gensim"
   ]
  },
  {
   "cell_type": "markdown",
   "metadata": {},
   "source": [
    "### 1. Document"
   ]
  },
  {
   "cell_type": "code",
   "execution_count": 4,
   "metadata": {},
   "outputs": [
    {
     "name": "stdout",
     "output_type": "stream",
     "text": [
      "stopwords = {'of', 'for', 'and', 'to', 'in', 'a', 'the'}\n"
     ]
    },
    {
     "data": {
      "text/html": [
       "<pre style=\"white-space:pre;overflow-x:auto;line-height:normal;font-family:Menlo,'DejaVu Sans Mono',consolas,'Courier New',monospace\">texts = <span style=\"font-weight: bold\">[[</span><span style=\"color: #008000; text-decoration-color: #008000\">'human'</span>, <span style=\"color: #008000; text-decoration-color: #008000\">'machine'</span>, <span style=\"color: #008000; text-decoration-color: #008000\">'interface'</span>, <span style=\"color: #008000; text-decoration-color: #008000\">'lab'</span>, <span style=\"color: #008000; text-decoration-color: #008000\">'abc'</span>, <span style=\"color: #008000; text-decoration-color: #008000\">'computer'</span>, <span style=\"color: #008000; text-decoration-color: #008000\">'applications'</span><span style=\"font-weight: bold\">]</span>, <span style=\"font-weight: bold\">[</span><span style=\"color: #008000; text-decoration-color: #008000\">'survey'</span>, <span style=\"color: #008000; text-decoration-color: #008000\">'user'</span>, <span style=\"color: #008000; text-decoration-color: #008000\">'opinion'</span>,\n",
       "<span style=\"color: #008000; text-decoration-color: #008000\">'computer'</span>, <span style=\"color: #008000; text-decoration-color: #008000\">'system'</span>, <span style=\"color: #008000; text-decoration-color: #008000\">'response'</span>, <span style=\"color: #008000; text-decoration-color: #008000\">'time'</span><span style=\"font-weight: bold\">]</span>, <span style=\"font-weight: bold\">[</span><span style=\"color: #008000; text-decoration-color: #008000\">'eps'</span>, <span style=\"color: #008000; text-decoration-color: #008000\">'user'</span>, <span style=\"color: #008000; text-decoration-color: #008000\">'interface'</span>, <span style=\"color: #008000; text-decoration-color: #008000\">'management'</span>, <span style=\"color: #008000; text-decoration-color: #008000\">'system'</span><span style=\"font-weight: bold\">]</span>, <span style=\"font-weight: bold\">[</span><span style=\"color: #008000; text-decoration-color: #008000\">'system'</span>, \n",
       "<span style=\"color: #008000; text-decoration-color: #008000\">'human'</span>, <span style=\"color: #008000; text-decoration-color: #008000\">'system'</span>, <span style=\"color: #008000; text-decoration-color: #008000\">'engineering'</span>, <span style=\"color: #008000; text-decoration-color: #008000\">'testing'</span>, <span style=\"color: #008000; text-decoration-color: #008000\">'eps'</span><span style=\"font-weight: bold\">]</span>, <span style=\"font-weight: bold\">[</span><span style=\"color: #008000; text-decoration-color: #008000\">'relation'</span>, <span style=\"color: #008000; text-decoration-color: #008000\">'user'</span>, <span style=\"color: #008000; text-decoration-color: #008000\">'perceived'</span>, <span style=\"color: #008000; text-decoration-color: #008000\">'response'</span>, <span style=\"color: #008000; text-decoration-color: #008000\">'time'</span>, <span style=\"color: #008000; text-decoration-color: #008000\">'error'</span>,\n",
       "<span style=\"color: #008000; text-decoration-color: #008000\">'measurement'</span><span style=\"font-weight: bold\">]</span>, <span style=\"font-weight: bold\">[</span><span style=\"color: #008000; text-decoration-color: #008000\">'generation'</span>, <span style=\"color: #008000; text-decoration-color: #008000\">'random'</span>, <span style=\"color: #008000; text-decoration-color: #008000\">'binary'</span>, <span style=\"color: #008000; text-decoration-color: #008000\">'unordered'</span>, <span style=\"color: #008000; text-decoration-color: #008000\">'trees'</span><span style=\"font-weight: bold\">]</span>, <span style=\"font-weight: bold\">[</span><span style=\"color: #008000; text-decoration-color: #008000\">'intersection'</span>, <span style=\"color: #008000; text-decoration-color: #008000\">'graph'</span>, <span style=\"color: #008000; text-decoration-color: #008000\">'paths'</span>, \n",
       "<span style=\"color: #008000; text-decoration-color: #008000\">'trees'</span><span style=\"font-weight: bold\">]</span>, <span style=\"font-weight: bold\">[</span><span style=\"color: #008000; text-decoration-color: #008000\">'graph'</span>, <span style=\"color: #008000; text-decoration-color: #008000\">'minors'</span>, <span style=\"color: #008000; text-decoration-color: #008000\">'iv'</span>, <span style=\"color: #008000; text-decoration-color: #008000\">'widths'</span>, <span style=\"color: #008000; text-decoration-color: #008000\">'trees'</span>, <span style=\"color: #008000; text-decoration-color: #008000\">'well'</span>, <span style=\"color: #008000; text-decoration-color: #008000\">'quasi'</span>, <span style=\"color: #008000; text-decoration-color: #008000\">'ordering'</span><span style=\"font-weight: bold\">]</span>, <span style=\"font-weight: bold\">[</span><span style=\"color: #008000; text-decoration-color: #008000\">'graph'</span>, <span style=\"color: #008000; text-decoration-color: #008000\">'minors'</span>, <span style=\"color: #008000; text-decoration-color: #008000\">'survey'</span><span style=\"font-weight: bold\">]]</span>\n",
       "</pre>\n"
      ],
      "text/plain": [
       "texts = \u001b[1m[\u001b[0m\u001b[1m[\u001b[0m\u001b[32m'human'\u001b[0m, \u001b[32m'machine'\u001b[0m, \u001b[32m'interface'\u001b[0m, \u001b[32m'lab'\u001b[0m, \u001b[32m'abc'\u001b[0m, \u001b[32m'computer'\u001b[0m, \u001b[32m'applications'\u001b[0m\u001b[1m]\u001b[0m, \u001b[1m[\u001b[0m\u001b[32m'survey'\u001b[0m, \u001b[32m'user'\u001b[0m, \u001b[32m'opinion'\u001b[0m,\n",
       "\u001b[32m'computer'\u001b[0m, \u001b[32m'system'\u001b[0m, \u001b[32m'response'\u001b[0m, \u001b[32m'time'\u001b[0m\u001b[1m]\u001b[0m, \u001b[1m[\u001b[0m\u001b[32m'eps'\u001b[0m, \u001b[32m'user'\u001b[0m, \u001b[32m'interface'\u001b[0m, \u001b[32m'management'\u001b[0m, \u001b[32m'system'\u001b[0m\u001b[1m]\u001b[0m, \u001b[1m[\u001b[0m\u001b[32m'system'\u001b[0m, \n",
       "\u001b[32m'human'\u001b[0m, \u001b[32m'system'\u001b[0m, \u001b[32m'engineering'\u001b[0m, \u001b[32m'testing'\u001b[0m, \u001b[32m'eps'\u001b[0m\u001b[1m]\u001b[0m, \u001b[1m[\u001b[0m\u001b[32m'relation'\u001b[0m, \u001b[32m'user'\u001b[0m, \u001b[32m'perceived'\u001b[0m, \u001b[32m'response'\u001b[0m, \u001b[32m'time'\u001b[0m, \u001b[32m'error'\u001b[0m,\n",
       "\u001b[32m'measurement'\u001b[0m\u001b[1m]\u001b[0m, \u001b[1m[\u001b[0m\u001b[32m'generation'\u001b[0m, \u001b[32m'random'\u001b[0m, \u001b[32m'binary'\u001b[0m, \u001b[32m'unordered'\u001b[0m, \u001b[32m'trees'\u001b[0m\u001b[1m]\u001b[0m, \u001b[1m[\u001b[0m\u001b[32m'intersection'\u001b[0m, \u001b[32m'graph'\u001b[0m, \u001b[32m'paths'\u001b[0m, \n",
       "\u001b[32m'trees'\u001b[0m\u001b[1m]\u001b[0m, \u001b[1m[\u001b[0m\u001b[32m'graph'\u001b[0m, \u001b[32m'minors'\u001b[0m, \u001b[32m'iv'\u001b[0m, \u001b[32m'widths'\u001b[0m, \u001b[32m'trees'\u001b[0m, \u001b[32m'well'\u001b[0m, \u001b[32m'quasi'\u001b[0m, \u001b[32m'ordering'\u001b[0m\u001b[1m]\u001b[0m, \u001b[1m[\u001b[0m\u001b[32m'graph'\u001b[0m, \u001b[32m'minors'\u001b[0m, \u001b[32m'survey'\u001b[0m\u001b[1m]\u001b[0m\u001b[1m]\u001b[0m\n"
      ]
     },
     "metadata": {},
     "output_type": "display_data"
    }
   ],
   "source": [
    "# Demonstartion purpose only! Gensim handles large corpora by streaming documents,\n",
    "# avoiding memory overload.\n",
    "text_corpus: list[str] = [\n",
    "    \"Human machine interface for lab abc computer applications\",\n",
    "    \"A survey of user opinion of computer system response time\",\n",
    "    \"The EPS user interface management system\",\n",
    "    \"System and human system engineering testing of EPS\",\n",
    "    \"Relation of user perceived response time to error measurement\",\n",
    "    \"The generation of random binary unordered trees\",\n",
    "    \"The intersection graph of paths in trees\",\n",
    "    \"Graph minors IV Widths of trees and well quasi ordering\",\n",
    "    \"Graph minors A survey\",\n",
    "]\n",
    "\n",
    "# Create a set of frequent words\n",
    "stopwords: set[str] = set(\"for a of the and to in\".split())\n",
    "print(f\"{stopwords = }\")\n",
    "\n",
    "# Lowercase each document, split it by white space and filter out stopwords\n",
    "texts: list[list[str]] = [\n",
    "    [word for word in document.lower().split() if word not in stopwords]\n",
    "    for document in text_corpus\n",
    "]\n",
    "console.print(f\"{texts = }\")"
   ]
  },
  {
   "cell_type": "code",
   "execution_count": 5,
   "metadata": {},
   "outputs": [
    {
     "data": {
      "text/html": [
       "<pre style=\"white-space:pre;overflow-x:auto;line-height:normal;font-family:Menlo,'DejaVu Sans Mono',consolas,'Courier New',monospace\">frequency = <span style=\"color: #800080; text-decoration-color: #800080; font-weight: bold\">defaultdict</span><span style=\"font-weight: bold\">(&lt;</span><span style=\"color: #ff00ff; text-decoration-color: #ff00ff; font-weight: bold\">class</span><span style=\"color: #000000; text-decoration-color: #000000\"> </span><span style=\"color: #008000; text-decoration-color: #008000\">'int'</span><span style=\"font-weight: bold\">&gt;</span>, <span style=\"font-weight: bold\">{</span><span style=\"color: #008000; text-decoration-color: #008000\">'human'</span>: <span style=\"color: #008080; text-decoration-color: #008080; font-weight: bold\">2</span>, <span style=\"color: #008000; text-decoration-color: #008000\">'machine'</span>: <span style=\"color: #008080; text-decoration-color: #008080; font-weight: bold\">1</span>, <span style=\"color: #008000; text-decoration-color: #008000\">'interface'</span>: <span style=\"color: #008080; text-decoration-color: #008080; font-weight: bold\">2</span>, <span style=\"color: #008000; text-decoration-color: #008000\">'lab'</span>: <span style=\"color: #008080; text-decoration-color: #008080; font-weight: bold\">1</span>, <span style=\"color: #008000; text-decoration-color: #008000\">'abc'</span>: <span style=\"color: #008080; text-decoration-color: #008080; font-weight: bold\">1</span>, <span style=\"color: #008000; text-decoration-color: #008000\">'computer'</span>: \n",
       "<span style=\"color: #008080; text-decoration-color: #008080; font-weight: bold\">2</span>, <span style=\"color: #008000; text-decoration-color: #008000\">'applications'</span>: <span style=\"color: #008080; text-decoration-color: #008080; font-weight: bold\">1</span>, <span style=\"color: #008000; text-decoration-color: #008000\">'survey'</span>: <span style=\"color: #008080; text-decoration-color: #008080; font-weight: bold\">2</span>, <span style=\"color: #008000; text-decoration-color: #008000\">'user'</span>: <span style=\"color: #008080; text-decoration-color: #008080; font-weight: bold\">3</span>, <span style=\"color: #008000; text-decoration-color: #008000\">'opinion'</span>: <span style=\"color: #008080; text-decoration-color: #008080; font-weight: bold\">1</span>, <span style=\"color: #008000; text-decoration-color: #008000\">'system'</span>: <span style=\"color: #008080; text-decoration-color: #008080; font-weight: bold\">4</span>, <span style=\"color: #008000; text-decoration-color: #008000\">'response'</span>: <span style=\"color: #008080; text-decoration-color: #008080; font-weight: bold\">2</span>, <span style=\"color: #008000; text-decoration-color: #008000\">'time'</span>: <span style=\"color: #008080; text-decoration-color: #008080; font-weight: bold\">2</span>, <span style=\"color: #008000; text-decoration-color: #008000\">'eps'</span>: <span style=\"color: #008080; text-decoration-color: #008080; font-weight: bold\">2</span>, \n",
       "<span style=\"color: #008000; text-decoration-color: #008000\">'management'</span>: <span style=\"color: #008080; text-decoration-color: #008080; font-weight: bold\">1</span>, <span style=\"color: #008000; text-decoration-color: #008000\">'engineering'</span>: <span style=\"color: #008080; text-decoration-color: #008080; font-weight: bold\">1</span>, <span style=\"color: #008000; text-decoration-color: #008000\">'testing'</span>: <span style=\"color: #008080; text-decoration-color: #008080; font-weight: bold\">1</span>, <span style=\"color: #008000; text-decoration-color: #008000\">'relation'</span>: <span style=\"color: #008080; text-decoration-color: #008080; font-weight: bold\">1</span>, <span style=\"color: #008000; text-decoration-color: #008000\">'perceived'</span>: <span style=\"color: #008080; text-decoration-color: #008080; font-weight: bold\">1</span>, <span style=\"color: #008000; text-decoration-color: #008000\">'error'</span>: <span style=\"color: #008080; text-decoration-color: #008080; font-weight: bold\">1</span>, <span style=\"color: #008000; text-decoration-color: #008000\">'measurement'</span>: <span style=\"color: #008080; text-decoration-color: #008080; font-weight: bold\">1</span>, \n",
       "<span style=\"color: #008000; text-decoration-color: #008000\">'generation'</span>: <span style=\"color: #008080; text-decoration-color: #008080; font-weight: bold\">1</span>, <span style=\"color: #008000; text-decoration-color: #008000\">'random'</span>: <span style=\"color: #008080; text-decoration-color: #008080; font-weight: bold\">1</span>, <span style=\"color: #008000; text-decoration-color: #008000\">'binary'</span>: <span style=\"color: #008080; text-decoration-color: #008080; font-weight: bold\">1</span>, <span style=\"color: #008000; text-decoration-color: #008000\">'unordered'</span>: <span style=\"color: #008080; text-decoration-color: #008080; font-weight: bold\">1</span>, <span style=\"color: #008000; text-decoration-color: #008000\">'trees'</span>: <span style=\"color: #008080; text-decoration-color: #008080; font-weight: bold\">3</span>, <span style=\"color: #008000; text-decoration-color: #008000\">'intersection'</span>: <span style=\"color: #008080; text-decoration-color: #008080; font-weight: bold\">1</span>, <span style=\"color: #008000; text-decoration-color: #008000\">'graph'</span>: <span style=\"color: #008080; text-decoration-color: #008080; font-weight: bold\">3</span>, <span style=\"color: #008000; text-decoration-color: #008000\">'paths'</span>: <span style=\"color: #008080; text-decoration-color: #008080; font-weight: bold\">1</span>, \n",
       "<span style=\"color: #008000; text-decoration-color: #008000\">'minors'</span>: <span style=\"color: #008080; text-decoration-color: #008080; font-weight: bold\">2</span>, <span style=\"color: #008000; text-decoration-color: #008000\">'iv'</span>: <span style=\"color: #008080; text-decoration-color: #008080; font-weight: bold\">1</span>, <span style=\"color: #008000; text-decoration-color: #008000\">'widths'</span>: <span style=\"color: #008080; text-decoration-color: #008080; font-weight: bold\">1</span>, <span style=\"color: #008000; text-decoration-color: #008000\">'well'</span>: <span style=\"color: #008080; text-decoration-color: #008080; font-weight: bold\">1</span>, <span style=\"color: #008000; text-decoration-color: #008000\">'quasi'</span>: <span style=\"color: #008080; text-decoration-color: #008080; font-weight: bold\">1</span>, <span style=\"color: #008000; text-decoration-color: #008000\">'ordering'</span>: <span style=\"color: #008080; text-decoration-color: #008080; font-weight: bold\">1</span><span style=\"font-weight: bold\">})</span>\n",
       "</pre>\n"
      ],
      "text/plain": [
       "frequency = \u001b[1;35mdefaultdict\u001b[0m\u001b[1m(\u001b[0m\u001b[1m<\u001b[0m\u001b[1;95mclass\u001b[0m\u001b[39m \u001b[0m\u001b[32m'int'\u001b[0m\u001b[1m>\u001b[0m, \u001b[1m{\u001b[0m\u001b[32m'human'\u001b[0m: \u001b[1;36m2\u001b[0m, \u001b[32m'machine'\u001b[0m: \u001b[1;36m1\u001b[0m, \u001b[32m'interface'\u001b[0m: \u001b[1;36m2\u001b[0m, \u001b[32m'lab'\u001b[0m: \u001b[1;36m1\u001b[0m, \u001b[32m'abc'\u001b[0m: \u001b[1;36m1\u001b[0m, \u001b[32m'computer'\u001b[0m: \n",
       "\u001b[1;36m2\u001b[0m, \u001b[32m'applications'\u001b[0m: \u001b[1;36m1\u001b[0m, \u001b[32m'survey'\u001b[0m: \u001b[1;36m2\u001b[0m, \u001b[32m'user'\u001b[0m: \u001b[1;36m3\u001b[0m, \u001b[32m'opinion'\u001b[0m: \u001b[1;36m1\u001b[0m, \u001b[32m'system'\u001b[0m: \u001b[1;36m4\u001b[0m, \u001b[32m'response'\u001b[0m: \u001b[1;36m2\u001b[0m, \u001b[32m'time'\u001b[0m: \u001b[1;36m2\u001b[0m, \u001b[32m'eps'\u001b[0m: \u001b[1;36m2\u001b[0m, \n",
       "\u001b[32m'management'\u001b[0m: \u001b[1;36m1\u001b[0m, \u001b[32m'engineering'\u001b[0m: \u001b[1;36m1\u001b[0m, \u001b[32m'testing'\u001b[0m: \u001b[1;36m1\u001b[0m, \u001b[32m'relation'\u001b[0m: \u001b[1;36m1\u001b[0m, \u001b[32m'perceived'\u001b[0m: \u001b[1;36m1\u001b[0m, \u001b[32m'error'\u001b[0m: \u001b[1;36m1\u001b[0m, \u001b[32m'measurement'\u001b[0m: \u001b[1;36m1\u001b[0m, \n",
       "\u001b[32m'generation'\u001b[0m: \u001b[1;36m1\u001b[0m, \u001b[32m'random'\u001b[0m: \u001b[1;36m1\u001b[0m, \u001b[32m'binary'\u001b[0m: \u001b[1;36m1\u001b[0m, \u001b[32m'unordered'\u001b[0m: \u001b[1;36m1\u001b[0m, \u001b[32m'trees'\u001b[0m: \u001b[1;36m3\u001b[0m, \u001b[32m'intersection'\u001b[0m: \u001b[1;36m1\u001b[0m, \u001b[32m'graph'\u001b[0m: \u001b[1;36m3\u001b[0m, \u001b[32m'paths'\u001b[0m: \u001b[1;36m1\u001b[0m, \n",
       "\u001b[32m'minors'\u001b[0m: \u001b[1;36m2\u001b[0m, \u001b[32m'iv'\u001b[0m: \u001b[1;36m1\u001b[0m, \u001b[32m'widths'\u001b[0m: \u001b[1;36m1\u001b[0m, \u001b[32m'well'\u001b[0m: \u001b[1;36m1\u001b[0m, \u001b[32m'quasi'\u001b[0m: \u001b[1;36m1\u001b[0m, \u001b[32m'ordering'\u001b[0m: \u001b[1;36m1\u001b[0m\u001b[1m}\u001b[0m\u001b[1m)\u001b[0m\n"
      ]
     },
     "metadata": {},
     "output_type": "display_data"
    },
    {
     "data": {
      "text/html": [
       "<pre style=\"white-space:pre;overflow-x:auto;line-height:normal;font-family:Menlo,'DejaVu Sans Mono',consolas,'Courier New',monospace\">processed_corpus = <span style=\"font-weight: bold\">[[</span><span style=\"color: #008000; text-decoration-color: #008000\">'human'</span>, <span style=\"color: #008000; text-decoration-color: #008000\">'interface'</span>, <span style=\"color: #008000; text-decoration-color: #008000\">'computer'</span><span style=\"font-weight: bold\">]</span>, <span style=\"font-weight: bold\">[</span><span style=\"color: #008000; text-decoration-color: #008000\">'survey'</span>, <span style=\"color: #008000; text-decoration-color: #008000\">'user'</span>, <span style=\"color: #008000; text-decoration-color: #008000\">'computer'</span>, <span style=\"color: #008000; text-decoration-color: #008000\">'system'</span>, <span style=\"color: #008000; text-decoration-color: #008000\">'response'</span>, \n",
       "<span style=\"color: #008000; text-decoration-color: #008000\">'time'</span><span style=\"font-weight: bold\">]</span>, <span style=\"font-weight: bold\">[</span><span style=\"color: #008000; text-decoration-color: #008000\">'eps'</span>, <span style=\"color: #008000; text-decoration-color: #008000\">'user'</span>, <span style=\"color: #008000; text-decoration-color: #008000\">'interface'</span>, <span style=\"color: #008000; text-decoration-color: #008000\">'system'</span><span style=\"font-weight: bold\">]</span>, <span style=\"font-weight: bold\">[</span><span style=\"color: #008000; text-decoration-color: #008000\">'system'</span>, <span style=\"color: #008000; text-decoration-color: #008000\">'human'</span>, <span style=\"color: #008000; text-decoration-color: #008000\">'system'</span>, <span style=\"color: #008000; text-decoration-color: #008000\">'eps'</span><span style=\"font-weight: bold\">]</span>, <span style=\"font-weight: bold\">[</span><span style=\"color: #008000; text-decoration-color: #008000\">'user'</span>, <span style=\"color: #008000; text-decoration-color: #008000\">'response'</span>, \n",
       "<span style=\"color: #008000; text-decoration-color: #008000\">'time'</span><span style=\"font-weight: bold\">]</span>, <span style=\"font-weight: bold\">[</span><span style=\"color: #008000; text-decoration-color: #008000\">'trees'</span><span style=\"font-weight: bold\">]</span>, <span style=\"font-weight: bold\">[</span><span style=\"color: #008000; text-decoration-color: #008000\">'graph'</span>, <span style=\"color: #008000; text-decoration-color: #008000\">'trees'</span><span style=\"font-weight: bold\">]</span>, <span style=\"font-weight: bold\">[</span><span style=\"color: #008000; text-decoration-color: #008000\">'graph'</span>, <span style=\"color: #008000; text-decoration-color: #008000\">'minors'</span>, <span style=\"color: #008000; text-decoration-color: #008000\">'trees'</span><span style=\"font-weight: bold\">]</span>, <span style=\"font-weight: bold\">[</span><span style=\"color: #008000; text-decoration-color: #008000\">'graph'</span>, <span style=\"color: #008000; text-decoration-color: #008000\">'minors'</span>, <span style=\"color: #008000; text-decoration-color: #008000\">'survey'</span><span style=\"font-weight: bold\">]]</span>\n",
       "</pre>\n"
      ],
      "text/plain": [
       "processed_corpus = \u001b[1m[\u001b[0m\u001b[1m[\u001b[0m\u001b[32m'human'\u001b[0m, \u001b[32m'interface'\u001b[0m, \u001b[32m'computer'\u001b[0m\u001b[1m]\u001b[0m, \u001b[1m[\u001b[0m\u001b[32m'survey'\u001b[0m, \u001b[32m'user'\u001b[0m, \u001b[32m'computer'\u001b[0m, \u001b[32m'system'\u001b[0m, \u001b[32m'response'\u001b[0m, \n",
       "\u001b[32m'time'\u001b[0m\u001b[1m]\u001b[0m, \u001b[1m[\u001b[0m\u001b[32m'eps'\u001b[0m, \u001b[32m'user'\u001b[0m, \u001b[32m'interface'\u001b[0m, \u001b[32m'system'\u001b[0m\u001b[1m]\u001b[0m, \u001b[1m[\u001b[0m\u001b[32m'system'\u001b[0m, \u001b[32m'human'\u001b[0m, \u001b[32m'system'\u001b[0m, \u001b[32m'eps'\u001b[0m\u001b[1m]\u001b[0m, \u001b[1m[\u001b[0m\u001b[32m'user'\u001b[0m, \u001b[32m'response'\u001b[0m, \n",
       "\u001b[32m'time'\u001b[0m\u001b[1m]\u001b[0m, \u001b[1m[\u001b[0m\u001b[32m'trees'\u001b[0m\u001b[1m]\u001b[0m, \u001b[1m[\u001b[0m\u001b[32m'graph'\u001b[0m, \u001b[32m'trees'\u001b[0m\u001b[1m]\u001b[0m, \u001b[1m[\u001b[0m\u001b[32m'graph'\u001b[0m, \u001b[32m'minors'\u001b[0m, \u001b[32m'trees'\u001b[0m\u001b[1m]\u001b[0m, \u001b[1m[\u001b[0m\u001b[32m'graph'\u001b[0m, \u001b[32m'minors'\u001b[0m, \u001b[32m'survey'\u001b[0m\u001b[1m]\u001b[0m\u001b[1m]\u001b[0m\n"
      ]
     },
     "metadata": {},
     "output_type": "display_data"
    }
   ],
   "source": [
    "from collections import defaultdict\n",
    "\n",
    "\n",
    "# Count the word frequencies\n",
    "frequency: defaultdict[str, int] = defaultdict(int)\n",
    "\n",
    "for text in texts:\n",
    "    for token in text:\n",
    "        frequency[token] += 1\n",
    "\n",
    "\n",
    "console.print(f\"{frequency = }\")\n",
    "\n",
    "# Keep ONLY tokens that occur more than once\n",
    "processed_corpus: list[list[str]] = [\n",
    "    [token for token in text if frequency[token] > 1] for text in texts\n",
    "]\n",
    "console.print(f\"{processed_corpus = }\")"
   ]
  },
  {
   "cell_type": "markdown",
   "metadata": {},
   "source": [
    "<br>\n",
    "\n",
    "### 2. Corpus"
   ]
  },
  {
   "cell_type": "code",
   "execution_count": 6,
   "metadata": {},
   "outputs": [
    {
     "data": {
      "text/html": [
       "<pre style=\"white-space:pre;overflow-x:auto;line-height:normal;font-family:Menlo,'DejaVu Sans Mono',consolas,'Courier New',monospace\"><span style=\"color: #800080; text-decoration-color: #800080; font-weight: bold\">dictionary.items</span><span style=\"font-weight: bold\">()</span> = <span style=\"color: #800080; text-decoration-color: #800080; font-weight: bold\">ItemsView</span><span style=\"font-weight: bold\">(&lt;</span><span style=\"color: #ff00ff; text-decoration-color: #ff00ff; font-weight: bold\">gensim.corpora.dictionary.Dictionary</span><span style=\"color: #000000; text-decoration-color: #000000\"> object at </span><span style=\"color: #008080; text-decoration-color: #008080; font-weight: bold\">0x14824b750</span><span style=\"font-weight: bold\">&gt;)</span>\n",
       "</pre>\n"
      ],
      "text/plain": [
       "\u001b[1;35mdictionary.items\u001b[0m\u001b[1m(\u001b[0m\u001b[1m)\u001b[0m = \u001b[1;35mItemsView\u001b[0m\u001b[1m(\u001b[0m\u001b[1m<\u001b[0m\u001b[1;95mgensim.corpora.dictionary.Dictionary\u001b[0m\u001b[39m object at \u001b[0m\u001b[1;36m0x14824b750\u001b[0m\u001b[1m>\u001b[0m\u001b[1m)\u001b[0m\n"
      ]
     },
     "metadata": {},
     "output_type": "display_data"
    }
   ],
   "source": [
    "from gensim import corpora\n",
    "\n",
    "\n",
    "# Create a dictionary that contains the token_id and the token_text\n",
    "dictionary = corpora.Dictionary(processed_corpus)\n",
    "console.print(f\"{dictionary.items() = }\")"
   ]
  },
  {
   "cell_type": "markdown",
   "metadata": {},
   "source": [
    "### 3. Vector\n",
    "\n",
    "- A mathematical way of representing documents in a multi-dimensional space."
   ]
  },
  {
   "cell_type": "code",
   "execution_count": 7,
   "metadata": {},
   "outputs": [
    {
     "data": {
      "text/html": [
       "<pre style=\"white-space:pre;overflow-x:auto;line-height:normal;font-family:Menlo,'DejaVu Sans Mono',consolas,'Courier New',monospace\">dictionary.token2id = <span style=\"font-weight: bold\">{</span><span style=\"color: #008000; text-decoration-color: #008000\">'computer'</span>: <span style=\"color: #008080; text-decoration-color: #008080; font-weight: bold\">0</span>, <span style=\"color: #008000; text-decoration-color: #008000\">'human'</span>: <span style=\"color: #008080; text-decoration-color: #008080; font-weight: bold\">1</span>, <span style=\"color: #008000; text-decoration-color: #008000\">'interface'</span>: <span style=\"color: #008080; text-decoration-color: #008080; font-weight: bold\">2</span>, <span style=\"color: #008000; text-decoration-color: #008000\">'response'</span>: <span style=\"color: #008080; text-decoration-color: #008080; font-weight: bold\">3</span>, <span style=\"color: #008000; text-decoration-color: #008000\">'survey'</span>: <span style=\"color: #008080; text-decoration-color: #008080; font-weight: bold\">4</span>, <span style=\"color: #008000; text-decoration-color: #008000\">'system'</span>: <span style=\"color: #008080; text-decoration-color: #008080; font-weight: bold\">5</span>, <span style=\"color: #008000; text-decoration-color: #008000\">'time'</span>: \n",
       "<span style=\"color: #008080; text-decoration-color: #008080; font-weight: bold\">6</span>, <span style=\"color: #008000; text-decoration-color: #008000\">'user'</span>: <span style=\"color: #008080; text-decoration-color: #008080; font-weight: bold\">7</span>, <span style=\"color: #008000; text-decoration-color: #008000\">'eps'</span>: <span style=\"color: #008080; text-decoration-color: #008080; font-weight: bold\">8</span>, <span style=\"color: #008000; text-decoration-color: #008000\">'trees'</span>: <span style=\"color: #008080; text-decoration-color: #008080; font-weight: bold\">9</span>, <span style=\"color: #008000; text-decoration-color: #008000\">'graph'</span>: <span style=\"color: #008080; text-decoration-color: #008080; font-weight: bold\">10</span>, <span style=\"color: #008000; text-decoration-color: #008000\">'minors'</span>: <span style=\"color: #008080; text-decoration-color: #008080; font-weight: bold\">11</span><span style=\"font-weight: bold\">}</span>\n",
       "</pre>\n"
      ],
      "text/plain": [
       "dictionary.token2id = \u001b[1m{\u001b[0m\u001b[32m'computer'\u001b[0m: \u001b[1;36m0\u001b[0m, \u001b[32m'human'\u001b[0m: \u001b[1;36m1\u001b[0m, \u001b[32m'interface'\u001b[0m: \u001b[1;36m2\u001b[0m, \u001b[32m'response'\u001b[0m: \u001b[1;36m3\u001b[0m, \u001b[32m'survey'\u001b[0m: \u001b[1;36m4\u001b[0m, \u001b[32m'system'\u001b[0m: \u001b[1;36m5\u001b[0m, \u001b[32m'time'\u001b[0m: \n",
       "\u001b[1;36m6\u001b[0m, \u001b[32m'user'\u001b[0m: \u001b[1;36m7\u001b[0m, \u001b[32m'eps'\u001b[0m: \u001b[1;36m8\u001b[0m, \u001b[32m'trees'\u001b[0m: \u001b[1;36m9\u001b[0m, \u001b[32m'graph'\u001b[0m: \u001b[1;36m10\u001b[0m, \u001b[32m'minors'\u001b[0m: \u001b[1;36m11\u001b[0m\u001b[1m}\u001b[0m\n"
      ]
     },
     "metadata": {},
     "output_type": "display_data"
    },
    {
     "data": {
      "text/html": [
       "<pre style=\"white-space:pre;overflow-x:auto;line-height:normal;font-family:Menlo,'DejaVu Sans Mono',consolas,'Courier New',monospace\">new_vec = <span style=\"font-weight: bold\">[(</span><span style=\"color: #008080; text-decoration-color: #008080; font-weight: bold\">0</span>, <span style=\"color: #008080; text-decoration-color: #008080; font-weight: bold\">1</span><span style=\"font-weight: bold\">)</span>, <span style=\"font-weight: bold\">(</span><span style=\"color: #008080; text-decoration-color: #008080; font-weight: bold\">1</span>, <span style=\"color: #008080; text-decoration-color: #008080; font-weight: bold\">1</span><span style=\"font-weight: bold\">)]</span>\n",
       "</pre>\n"
      ],
      "text/plain": [
       "new_vec = \u001b[1m[\u001b[0m\u001b[1m(\u001b[0m\u001b[1;36m0\u001b[0m, \u001b[1;36m1\u001b[0m\u001b[1m)\u001b[0m, \u001b[1m(\u001b[0m\u001b[1;36m1\u001b[0m, \u001b[1;36m1\u001b[0m\u001b[1m)\u001b[0m\u001b[1m]\u001b[0m\n"
      ]
     },
     "metadata": {},
     "output_type": "display_data"
    }
   ],
   "source": [
    "# Vector: a mathematical way of representing documents in a multi-dimensional space.\n",
    "\n",
    "# View the token ids\n",
    "console.print(f\"{dictionary.token2id = }\")\n",
    "\n",
    "# Vectorize a document\n",
    "new_doc: str = \"Human computer interaction\"\n",
    "new_vec: list[tuple[int, int]] = dictionary.doc2bow(new_doc.lower().split())\n",
    "console.print(f\"{new_vec = }\")"
   ]
  },
  {
   "cell_type": "code",
   "execution_count": 8,
   "metadata": {},
   "outputs": [
    {
     "name": "stdout",
     "output_type": "stream",
     "text": [
      "human: (0, 0) is in dictionary: True\n",
      "computer: (1, 1) is in dictionary: True\n",
      "interaction: (2, 1) is in dictionary: False\n"
     ]
    }
   ],
   "source": [
    "new_doc_list: list[str] = new_doc.lower().split()\n",
    "\n",
    "for idx, token in enumerate(new_doc_list):\n",
    "    flag: bool = token in dictionary.values()\n",
    "    count_: int = new_doc.count(token)\n",
    "    print(f\"{token}: ({idx}, {count_}) is in dictionary: {flag}\")"
   ]
  },
  {
   "cell_type": "code",
   "execution_count": 9,
   "metadata": {},
   "outputs": [
    {
     "data": {
      "text/html": [
       "<pre style=\"white-space:pre;overflow-x:auto;line-height:normal;font-family:Menlo,'DejaVu Sans Mono',consolas,'Courier New',monospace\">bow_corpus = <span style=\"font-weight: bold\">[[(</span><span style=\"color: #008080; text-decoration-color: #008080; font-weight: bold\">0</span>, <span style=\"color: #008080; text-decoration-color: #008080; font-weight: bold\">1</span><span style=\"font-weight: bold\">)</span>, <span style=\"font-weight: bold\">(</span><span style=\"color: #008080; text-decoration-color: #008080; font-weight: bold\">1</span>, <span style=\"color: #008080; text-decoration-color: #008080; font-weight: bold\">1</span><span style=\"font-weight: bold\">)</span>, <span style=\"font-weight: bold\">(</span><span style=\"color: #008080; text-decoration-color: #008080; font-weight: bold\">2</span>, <span style=\"color: #008080; text-decoration-color: #008080; font-weight: bold\">1</span><span style=\"font-weight: bold\">)]</span>, <span style=\"font-weight: bold\">[(</span><span style=\"color: #008080; text-decoration-color: #008080; font-weight: bold\">0</span>, <span style=\"color: #008080; text-decoration-color: #008080; font-weight: bold\">1</span><span style=\"font-weight: bold\">)</span>, <span style=\"font-weight: bold\">(</span><span style=\"color: #008080; text-decoration-color: #008080; font-weight: bold\">3</span>, <span style=\"color: #008080; text-decoration-color: #008080; font-weight: bold\">1</span><span style=\"font-weight: bold\">)</span>, <span style=\"font-weight: bold\">(</span><span style=\"color: #008080; text-decoration-color: #008080; font-weight: bold\">4</span>, <span style=\"color: #008080; text-decoration-color: #008080; font-weight: bold\">1</span><span style=\"font-weight: bold\">)</span>, <span style=\"font-weight: bold\">(</span><span style=\"color: #008080; text-decoration-color: #008080; font-weight: bold\">5</span>, <span style=\"color: #008080; text-decoration-color: #008080; font-weight: bold\">1</span><span style=\"font-weight: bold\">)</span>, <span style=\"font-weight: bold\">(</span><span style=\"color: #008080; text-decoration-color: #008080; font-weight: bold\">6</span>, <span style=\"color: #008080; text-decoration-color: #008080; font-weight: bold\">1</span><span style=\"font-weight: bold\">)</span>, <span style=\"font-weight: bold\">(</span><span style=\"color: #008080; text-decoration-color: #008080; font-weight: bold\">7</span>, <span style=\"color: #008080; text-decoration-color: #008080; font-weight: bold\">1</span><span style=\"font-weight: bold\">)]</span>, <span style=\"font-weight: bold\">[(</span><span style=\"color: #008080; text-decoration-color: #008080; font-weight: bold\">2</span>, <span style=\"color: #008080; text-decoration-color: #008080; font-weight: bold\">1</span><span style=\"font-weight: bold\">)</span>, <span style=\"font-weight: bold\">(</span><span style=\"color: #008080; text-decoration-color: #008080; font-weight: bold\">5</span>, <span style=\"color: #008080; text-decoration-color: #008080; font-weight: bold\">1</span><span style=\"font-weight: bold\">)</span>, <span style=\"font-weight: bold\">(</span><span style=\"color: #008080; text-decoration-color: #008080; font-weight: bold\">7</span>, <span style=\"color: #008080; text-decoration-color: #008080; font-weight: bold\">1</span><span style=\"font-weight: bold\">)</span>, \n",
       "<span style=\"font-weight: bold\">(</span><span style=\"color: #008080; text-decoration-color: #008080; font-weight: bold\">8</span>, <span style=\"color: #008080; text-decoration-color: #008080; font-weight: bold\">1</span><span style=\"font-weight: bold\">)]</span>, <span style=\"font-weight: bold\">[(</span><span style=\"color: #008080; text-decoration-color: #008080; font-weight: bold\">1</span>, <span style=\"color: #008080; text-decoration-color: #008080; font-weight: bold\">1</span><span style=\"font-weight: bold\">)</span>, <span style=\"font-weight: bold\">(</span><span style=\"color: #008080; text-decoration-color: #008080; font-weight: bold\">5</span>, <span style=\"color: #008080; text-decoration-color: #008080; font-weight: bold\">2</span><span style=\"font-weight: bold\">)</span>, <span style=\"font-weight: bold\">(</span><span style=\"color: #008080; text-decoration-color: #008080; font-weight: bold\">8</span>, <span style=\"color: #008080; text-decoration-color: #008080; font-weight: bold\">1</span><span style=\"font-weight: bold\">)]</span>, <span style=\"font-weight: bold\">[(</span><span style=\"color: #008080; text-decoration-color: #008080; font-weight: bold\">3</span>, <span style=\"color: #008080; text-decoration-color: #008080; font-weight: bold\">1</span><span style=\"font-weight: bold\">)</span>, <span style=\"font-weight: bold\">(</span><span style=\"color: #008080; text-decoration-color: #008080; font-weight: bold\">6</span>, <span style=\"color: #008080; text-decoration-color: #008080; font-weight: bold\">1</span><span style=\"font-weight: bold\">)</span>, <span style=\"font-weight: bold\">(</span><span style=\"color: #008080; text-decoration-color: #008080; font-weight: bold\">7</span>, <span style=\"color: #008080; text-decoration-color: #008080; font-weight: bold\">1</span><span style=\"font-weight: bold\">)]</span>, <span style=\"font-weight: bold\">[(</span><span style=\"color: #008080; text-decoration-color: #008080; font-weight: bold\">9</span>, <span style=\"color: #008080; text-decoration-color: #008080; font-weight: bold\">1</span><span style=\"font-weight: bold\">)]</span>, <span style=\"font-weight: bold\">[(</span><span style=\"color: #008080; text-decoration-color: #008080; font-weight: bold\">9</span>, <span style=\"color: #008080; text-decoration-color: #008080; font-weight: bold\">1</span><span style=\"font-weight: bold\">)</span>, <span style=\"font-weight: bold\">(</span><span style=\"color: #008080; text-decoration-color: #008080; font-weight: bold\">10</span>, <span style=\"color: #008080; text-decoration-color: #008080; font-weight: bold\">1</span><span style=\"font-weight: bold\">)]</span>, <span style=\"font-weight: bold\">[(</span><span style=\"color: #008080; text-decoration-color: #008080; font-weight: bold\">9</span>, <span style=\"color: #008080; text-decoration-color: #008080; font-weight: bold\">1</span><span style=\"font-weight: bold\">)</span>, <span style=\"font-weight: bold\">(</span><span style=\"color: #008080; text-decoration-color: #008080; font-weight: bold\">10</span>, <span style=\"color: #008080; text-decoration-color: #008080; font-weight: bold\">1</span><span style=\"font-weight: bold\">)</span>, <span style=\"font-weight: bold\">(</span><span style=\"color: #008080; text-decoration-color: #008080; font-weight: bold\">11</span>, \n",
       "<span style=\"color: #008080; text-decoration-color: #008080; font-weight: bold\">1</span><span style=\"font-weight: bold\">)]</span>, <span style=\"font-weight: bold\">[(</span><span style=\"color: #008080; text-decoration-color: #008080; font-weight: bold\">4</span>, <span style=\"color: #008080; text-decoration-color: #008080; font-weight: bold\">1</span><span style=\"font-weight: bold\">)</span>, <span style=\"font-weight: bold\">(</span><span style=\"color: #008080; text-decoration-color: #008080; font-weight: bold\">10</span>, <span style=\"color: #008080; text-decoration-color: #008080; font-weight: bold\">1</span><span style=\"font-weight: bold\">)</span>, <span style=\"font-weight: bold\">(</span><span style=\"color: #008080; text-decoration-color: #008080; font-weight: bold\">11</span>, <span style=\"color: #008080; text-decoration-color: #008080; font-weight: bold\">1</span><span style=\"font-weight: bold\">)]]</span>\n",
       "</pre>\n"
      ],
      "text/plain": [
       "bow_corpus = \u001b[1m[\u001b[0m\u001b[1m[\u001b[0m\u001b[1m(\u001b[0m\u001b[1;36m0\u001b[0m, \u001b[1;36m1\u001b[0m\u001b[1m)\u001b[0m, \u001b[1m(\u001b[0m\u001b[1;36m1\u001b[0m, \u001b[1;36m1\u001b[0m\u001b[1m)\u001b[0m, \u001b[1m(\u001b[0m\u001b[1;36m2\u001b[0m, \u001b[1;36m1\u001b[0m\u001b[1m)\u001b[0m\u001b[1m]\u001b[0m, \u001b[1m[\u001b[0m\u001b[1m(\u001b[0m\u001b[1;36m0\u001b[0m, \u001b[1;36m1\u001b[0m\u001b[1m)\u001b[0m, \u001b[1m(\u001b[0m\u001b[1;36m3\u001b[0m, \u001b[1;36m1\u001b[0m\u001b[1m)\u001b[0m, \u001b[1m(\u001b[0m\u001b[1;36m4\u001b[0m, \u001b[1;36m1\u001b[0m\u001b[1m)\u001b[0m, \u001b[1m(\u001b[0m\u001b[1;36m5\u001b[0m, \u001b[1;36m1\u001b[0m\u001b[1m)\u001b[0m, \u001b[1m(\u001b[0m\u001b[1;36m6\u001b[0m, \u001b[1;36m1\u001b[0m\u001b[1m)\u001b[0m, \u001b[1m(\u001b[0m\u001b[1;36m7\u001b[0m, \u001b[1;36m1\u001b[0m\u001b[1m)\u001b[0m\u001b[1m]\u001b[0m, \u001b[1m[\u001b[0m\u001b[1m(\u001b[0m\u001b[1;36m2\u001b[0m, \u001b[1;36m1\u001b[0m\u001b[1m)\u001b[0m, \u001b[1m(\u001b[0m\u001b[1;36m5\u001b[0m, \u001b[1;36m1\u001b[0m\u001b[1m)\u001b[0m, \u001b[1m(\u001b[0m\u001b[1;36m7\u001b[0m, \u001b[1;36m1\u001b[0m\u001b[1m)\u001b[0m, \n",
       "\u001b[1m(\u001b[0m\u001b[1;36m8\u001b[0m, \u001b[1;36m1\u001b[0m\u001b[1m)\u001b[0m\u001b[1m]\u001b[0m, \u001b[1m[\u001b[0m\u001b[1m(\u001b[0m\u001b[1;36m1\u001b[0m, \u001b[1;36m1\u001b[0m\u001b[1m)\u001b[0m, \u001b[1m(\u001b[0m\u001b[1;36m5\u001b[0m, \u001b[1;36m2\u001b[0m\u001b[1m)\u001b[0m, \u001b[1m(\u001b[0m\u001b[1;36m8\u001b[0m, \u001b[1;36m1\u001b[0m\u001b[1m)\u001b[0m\u001b[1m]\u001b[0m, \u001b[1m[\u001b[0m\u001b[1m(\u001b[0m\u001b[1;36m3\u001b[0m, \u001b[1;36m1\u001b[0m\u001b[1m)\u001b[0m, \u001b[1m(\u001b[0m\u001b[1;36m6\u001b[0m, \u001b[1;36m1\u001b[0m\u001b[1m)\u001b[0m, \u001b[1m(\u001b[0m\u001b[1;36m7\u001b[0m, \u001b[1;36m1\u001b[0m\u001b[1m)\u001b[0m\u001b[1m]\u001b[0m, \u001b[1m[\u001b[0m\u001b[1m(\u001b[0m\u001b[1;36m9\u001b[0m, \u001b[1;36m1\u001b[0m\u001b[1m)\u001b[0m\u001b[1m]\u001b[0m, \u001b[1m[\u001b[0m\u001b[1m(\u001b[0m\u001b[1;36m9\u001b[0m, \u001b[1;36m1\u001b[0m\u001b[1m)\u001b[0m, \u001b[1m(\u001b[0m\u001b[1;36m10\u001b[0m, \u001b[1;36m1\u001b[0m\u001b[1m)\u001b[0m\u001b[1m]\u001b[0m, \u001b[1m[\u001b[0m\u001b[1m(\u001b[0m\u001b[1;36m9\u001b[0m, \u001b[1;36m1\u001b[0m\u001b[1m)\u001b[0m, \u001b[1m(\u001b[0m\u001b[1;36m10\u001b[0m, \u001b[1;36m1\u001b[0m\u001b[1m)\u001b[0m, \u001b[1m(\u001b[0m\u001b[1;36m11\u001b[0m, \n",
       "\u001b[1;36m1\u001b[0m\u001b[1m)\u001b[0m\u001b[1m]\u001b[0m, \u001b[1m[\u001b[0m\u001b[1m(\u001b[0m\u001b[1;36m4\u001b[0m, \u001b[1;36m1\u001b[0m\u001b[1m)\u001b[0m, \u001b[1m(\u001b[0m\u001b[1;36m10\u001b[0m, \u001b[1;36m1\u001b[0m\u001b[1m)\u001b[0m, \u001b[1m(\u001b[0m\u001b[1;36m11\u001b[0m, \u001b[1;36m1\u001b[0m\u001b[1m)\u001b[0m\u001b[1m]\u001b[0m\u001b[1m]\u001b[0m\n"
      ]
     },
     "metadata": {},
     "output_type": "display_data"
    }
   ],
   "source": [
    "# Vectorize the entire using a BoW (Bag of Words) approach. i.e. count the\n",
    "# number of times a word appears in a document.\n",
    "bow_corpus: list[list[tuple[int, int]]] = [\n",
    "    dictionary.doc2bow(doc) for doc in processed_corpus\n",
    "]\n",
    "console.print(f\"{bow_corpus = }\")"
   ]
  },
  {
   "cell_type": "markdown",
   "metadata": {},
   "source": [
    "<br>\n",
    "\n",
    "### 4. Model\n",
    "\n",
    "- It refers to `transformation` from one document representation to another.\n",
    "- E.g. `TF-IDF` model transforms word frequency counts based on word rarity in the corpus. "
   ]
  },
  {
   "cell_type": "code",
   "execution_count": 10,
   "metadata": {},
   "outputs": [
    {
     "data": {
      "text/html": [
       "<pre style=\"white-space:pre;overflow-x:auto;line-height:normal;font-family:Menlo,'DejaVu Sans Mono',consolas,'Courier New',monospace\">doc_vec = <span style=\"font-weight: bold\">[(</span><span style=\"color: #008080; text-decoration-color: #008080; font-weight: bold\">5</span>, <span style=\"color: #008080; text-decoration-color: #008080; font-weight: bold\">0.5898341626740045</span><span style=\"font-weight: bold\">)</span>, <span style=\"font-weight: bold\">(</span><span style=\"color: #008080; text-decoration-color: #008080; font-weight: bold\">11</span>, <span style=\"color: #008080; text-decoration-color: #008080; font-weight: bold\">0.8075244024440723</span><span style=\"font-weight: bold\">)]</span>\n",
       "</pre>\n"
      ],
      "text/plain": [
       "doc_vec = \u001b[1m[\u001b[0m\u001b[1m(\u001b[0m\u001b[1;36m5\u001b[0m, \u001b[1;36m0.5898341626740045\u001b[0m\u001b[1m)\u001b[0m, \u001b[1m(\u001b[0m\u001b[1;36m11\u001b[0m, \u001b[1;36m0.8075244024440723\u001b[0m\u001b[1m)\u001b[0m\u001b[1m]\u001b[0m\n"
      ]
     },
     "metadata": {},
     "output_type": "display_data"
    }
   ],
   "source": [
    "from gensim import models\n",
    "\n",
    "\n",
    "# Train the model\n",
    "tfidf: models.TfidfModel = models.TfidfModel(corpus=bow_corpus)\n",
    "\n",
    "# Transform an input document\n",
    "doc: list[str] = \"System Minors\".lower().split()\n",
    "doc_bow: list[tuple[int, int]] = dictionary.doc2bow(doc)\n",
    "doc_vec: list[tuple[int, float]] = tfidf[doc_bow]\n",
    "console.print(f\"{doc_vec = }\")\n",
    "\n",
    "#  system: 0.5898341626740045, minors: 0.8075244024440723\n",
    "# [(5, 0.5898341626740045), (11, 0.8075244024440723)]\n",
    "# Because system occurs a lot more than minors in the corpus, it has a lower tf-idf score."
   ]
  },
  {
   "cell_type": "markdown",
   "metadata": {},
   "source": [
    "#### Calculating Similariites"
   ]
  },
  {
   "cell_type": "code",
   "execution_count": 11,
   "metadata": {},
   "outputs": [
    {
     "data": {
      "text/html": [
       "<pre style=\"white-space:pre;overflow-x:auto;line-height:normal;font-family:Menlo,'DejaVu Sans Mono',consolas,'Courier New',monospace\">sims = <span style=\"color: #800080; text-decoration-color: #800080; font-weight: bold\">array</span><span style=\"font-weight: bold\">([</span><span style=\"color: #008080; text-decoration-color: #008080; font-weight: bold\">0</span>.    , <span style=\"color: #008080; text-decoration-color: #008080; font-weight: bold\">0.3245</span>, <span style=\"color: #008080; text-decoration-color: #008080; font-weight: bold\">0.4171</span>, <span style=\"color: #008080; text-decoration-color: #008080; font-weight: bold\">0.7185</span>, <span style=\"color: #008080; text-decoration-color: #008080; font-weight: bold\">0</span>.    , <span style=\"color: #008080; text-decoration-color: #008080; font-weight: bold\">0</span>.    , <span style=\"color: #008080; text-decoration-color: #008080; font-weight: bold\">0</span>.    , <span style=\"color: #008080; text-decoration-color: #008080; font-weight: bold\">0</span>.    ,\n",
       "       <span style=\"color: #008080; text-decoration-color: #008080; font-weight: bold\">0</span>.    <span style=\"font-weight: bold\">]</span>, <span style=\"color: #808000; text-decoration-color: #808000\">dtype</span>=<span style=\"color: #800080; text-decoration-color: #800080\">float32</span><span style=\"font-weight: bold\">)</span>\n",
       "</pre>\n"
      ],
      "text/plain": [
       "sims = \u001b[1;35marray\u001b[0m\u001b[1m(\u001b[0m\u001b[1m[\u001b[0m\u001b[1;36m0\u001b[0m.    , \u001b[1;36m0.3245\u001b[0m, \u001b[1;36m0.4171\u001b[0m, \u001b[1;36m0.7185\u001b[0m, \u001b[1;36m0\u001b[0m.    , \u001b[1;36m0\u001b[0m.    , \u001b[1;36m0\u001b[0m.    , \u001b[1;36m0\u001b[0m.    ,\n",
       "       \u001b[1;36m0\u001b[0m.    \u001b[1m]\u001b[0m, \u001b[33mdtype\u001b[0m=\u001b[35mfloat32\u001b[0m\u001b[1m)\u001b[0m\n"
      ]
     },
     "metadata": {},
     "output_type": "display_data"
    }
   ],
   "source": [
    "from gensim import similarities\n",
    "\n",
    "\n",
    "# Prepare for similarity search\n",
    "num_features: int = 12  # number of features (dimensions)\n",
    "corpus_vector: list[tuple[int, float]] = tfidf[bow_corpus]\n",
    "\n",
    "index = similarities.SparseMatrixSimilarity(\n",
    "    corpus=corpus_vector, num_features=num_features\n",
    ")\n",
    "\n",
    "query_doc: list[str] = \"System engineering\".lower().split()\n",
    "query_doc_bow: list[tuple[int, int]] = dictionary.doc2bow(query_doc)\n",
    "query_doc_vector: list[tuple[int, float]] = tfidf[query_doc_bow]\n",
    "sims: list[tuple[int, float]] = index[query_doc_vector]\n",
    "console.print(f\"{sims = }\")"
   ]
  },
  {
   "cell_type": "code",
   "execution_count": 12,
   "metadata": {},
   "outputs": [
    {
     "name": "stdout",
     "output_type": "stream",
     "text": [
      "['Human machine interface for lab abc computer applications',\n",
      " 'A survey of user opinion of computer system response time',\n",
      " 'The EPS user interface management system',\n",
      " 'System and human system engineering testing of EPS',\n",
      " 'Relation of user perceived response time to error measurement',\n",
      " 'The generation of random binary unordered trees',\n",
      " 'The intersection graph of paths in trees',\n",
      " 'Graph minors IV Widths of trees and well quasi ordering',\n",
      " 'Graph minors A survey']\n"
     ]
    }
   ],
   "source": [
    "# Compare `text_corpus` with `sims`\n",
    "pprint(text_corpus)"
   ]
  },
  {
   "cell_type": "code",
   "execution_count": 13,
   "metadata": {},
   "outputs": [
    {
     "name": "stdout",
     "output_type": "stream",
     "text": [
      "doc 3: similarity=0.718481\n",
      "doc 2: similarity=0.417076\n",
      "doc 1: similarity=0.324487\n",
      "doc 0: similarity=0.000000\n",
      "doc 4: similarity=0.000000\n",
      "doc 5: similarity=0.000000\n",
      "doc 6: similarity=0.000000\n",
      "doc 7: similarity=0.000000\n",
      "doc 8: similarity=0.000000\n"
     ]
    }
   ],
   "source": [
    "# Sort\n",
    "for idx, score in sorted(enumerate(sims), key=lambda x: x[1], reverse=True):\n",
    "    print(f\"doc {idx}: similarity={score:4f}\")"
   ]
  },
  {
   "cell_type": "markdown",
   "metadata": {},
   "source": [
    "<hr><br>\n",
    "\n",
    "#### Loading Data Effciently\n",
    "\n",
    "- Streaming data from disk."
   ]
  },
  {
   "cell_type": "code",
   "execution_count": 14,
   "metadata": {},
   "outputs": [],
   "source": [
    "from smart_open import open  # for transparently opening remote files\n",
    "\n",
    "\n",
    "# Copied from https://radimrehurek.com/gensim/tut1.html\n",
    "class MyCorpus:\n",
    "    def __iter__(self):\n",
    "        for line in open(\"https://radimrehurek.com/mycorpus.txt\"):\n",
    "            # assume there's one document per line, tokens separated by whitespace\n",
    "            yield dictionary.doc2bow(line.lower().split())"
   ]
  },
  {
   "cell_type": "code",
   "execution_count": 15,
   "metadata": {},
   "outputs": [],
   "source": [
    "class MyCustomCorpus:\n",
    "    def __init__(self, text: str = \"text\") -> None:\n",
    "        self.text = text\n",
    "        self.data: pl.LazyFrame = pl.scan_csv(\"../../data/test.csv\").select([self.text])\n",
    "\n",
    "    def __repr__(self) -> str:\n",
    "        return f\"{self.__class__.__name__}()\"\n",
    "\n",
    "    def __iter__(self):\n",
    "        for row in self.data.collect().iter_rows(named=True):\n",
    "            text: str = row[self.text]\n",
    "            yield dictionary.doc2bow(text.lower().split())"
   ]
  },
  {
   "cell_type": "code",
   "execution_count": 16,
   "metadata": {},
   "outputs": [
    {
     "name": "stdout",
     "output_type": "stream",
     "text": [
      "MyCustomCorpus()\n"
     ]
    }
   ],
   "source": [
    "corpus_memory_friendly: MyCustomCorpus = MyCustomCorpus(text=\"text\")\n",
    "\n",
    "print(corpus_memory_friendly)"
   ]
  },
  {
   "cell_type": "code",
   "execution_count": 17,
   "metadata": {},
   "outputs": [],
   "source": [
    "from gensim.corpora import Dictionary\n",
    "\n",
    "\n",
    "stopwords: set[str] = set(\"i is for a of the and to in on my\".split())\n",
    "df: pl.DataFrame = pl.read_csv(\"../../data/test.csv\")\n",
    "processed_corpus: list[list[str]] = [\n",
    "    line.lower().split() for line in df[\"text\"].to_list()\n",
    "]\n",
    "\n",
    "dictionary: Dictionary = Dictionary(processed_corpus)"
   ]
  },
  {
   "cell_type": "code",
   "execution_count": 18,
   "metadata": {},
   "outputs": [
    {
     "name": "stdout",
     "output_type": "stream",
     "text": [
      "[(0, 1), (1, 1), (2, 1), (3, 1), (4, 1), (5, 1), (6, 2), (7, 1)]\n",
      "[(5, 1), (6, 2), (8, 2), (9, 1), (10, 1), (11, 1), (12, 1), (13, 1), (14, 1), (15, 1), (16, 1), (17, 1), (18, 1), (19, 1), (20, 1), (21, 1)]\n",
      "[(6, 4), (8, 1), (20, 1), (22, 1), (23, 1), (24, 1), (25, 1), (26, 1), (27, 2), (28, 1), (29, 1), (30, 1), (31, 1), (32, 1)]\n"
     ]
    }
   ],
   "source": [
    "for idx, vec in enumerate(corpus_memory_friendly):\n",
    "    if idx < 3:\n",
    "        print(vec)"
   ]
  },
  {
   "cell_type": "code",
   "execution_count": 19,
   "metadata": {},
   "outputs": [
    {
     "name": "stdout",
     "output_type": "stream",
     "text": [
      "Dictionary<10 unique tokens: ['messi', 'soccer', 'jesus', 'team', 'has']...>\n"
     ]
    }
   ],
   "source": [
    "# Text preprocessing\n",
    "fp: str = \"../../data/test.csv\"\n",
    "df: pl.DataFrame = pl.read_csv(fp)\n",
    "processed_corpus: list[list[str]] = [\n",
    "    line.lower().split() for line in df[\"text\"].to_list()\n",
    "]\n",
    "\n",
    "dictionary: Dictionary = Dictionary(processed_corpus)\n",
    "\n",
    "# Extract the ids of the stopwords\n",
    "stop_ids: list[int] = [\n",
    "    dictionary.token2id[s_word] for s_word in stopwords if s_word in dictionary.token2id\n",
    "]\n",
    "\n",
    "# Extract ids of words with frequency less than 2\n",
    "low_frequency_ids: list[int] = [\n",
    "    tokenid for tokenid, docfreq in dictionary.dfs.items() if docfreq < 2\n",
    "]\n",
    "# Remove the ids\n",
    "dictionary.filter_tokens(stop_ids + low_frequency_ids)\n",
    "\n",
    "# Remove gaps in id sequence after words are filtered\n",
    "dictionary.compactify()\n",
    "print(dictionary)"
   ]
  },
  {
   "cell_type": "code",
   "execution_count": 20,
   "metadata": {},
   "outputs": [
    {
     "name": "stdout",
     "output_type": "stream",
     "text": [
      "10\n"
     ]
    }
   ],
   "source": [
    "print(dictionary.__len__())"
   ]
  },
  {
   "cell_type": "markdown",
   "metadata": {},
   "source": [
    "<hr>\n",
    "\n",
    "### Corpus Formats\n",
    "\n",
    "- Gensim serially processes `Vector Space` corpus files, reading/writing one document at a time without loading the entire corpus into memory.\n",
    "\n",
    "#### Save Corpus\n",
    "\n",
    "- One of the more notable file formats is the `Market Matrix` format. To save a corpus in the Matrix Market format:\n",
    "\n",
    "```py\n",
    "# Create a toy corpus of 2 documents, as a plain Python list\n",
    "# make one document empty, for the heck of it\n",
    "corpus: list[list[tuple[int, float]]] = [[(1, 0.5)], []]  \n",
    "\n",
    "# Save the corpus in Matrix Market format\n",
    "corpora.MmCorpus.serialize('/tmp/corpus.mm', corpus)\n",
    "```\n",
    "\n",
    "- Other formats include:\n",
    "  - `Joachim’s SVMlight` format\n",
    "  - `Blei’s LDA-C` format\n",
    "  - `GibbsLDA++` format.\n",
    "\n",
    "```py\n",
    "corpora.SvmLightCorpus.serialize('/tmp/corpus.svmlight', corpus)\n",
    "corpora.BleiCorpus.serialize('/tmp/corpus.lda-c', corpus)\n",
    "corpora.LowCorpus.serialize('/tmp/corpus.low', corpus)\n",
    "```\n",
    "\n",
    "#### Load The Corpus\n",
    "\n",
    "- Conversely, to load a corpus iterator from a Matrix Market file:\n",
    "\n",
    "```py\n",
    "corpus = corpora.MmCorpus('/tmp/corpus.mm')\n",
    "```"
   ]
  },
  {
   "cell_type": "code",
   "execution_count": null,
   "metadata": {},
   "outputs": [],
   "source": []
  },
  {
   "cell_type": "markdown",
   "metadata": {},
   "source": [
    "### Compatibility With NumPy And SciPy\n",
    "\n",
    "- Gensim also contains efficient utility functions to help converting from/to numpy matrices.\n",
    "\n",
    "```py\n",
    "import gensim\n",
    "import numpy as np\n",
    "import gensim\n",
    "\n",
    "# random matrix as an example\n",
    "numpy_matrix: np.ndarray = np.random.randint(10, size=[5, 2])  \n",
    "corpus = gensim.matutils.Dense2Corpus(numpy_matrix)\n",
    "\n",
    "# convert from gensim corpus to numpy matrix\n",
    "numpy_matrix = gensim.matutils.corpus2dense(corpus, num_terms=number_of_corpus_features)\n",
    "```\n",
    "<br>\n",
    "\n",
    "#### From/to scipy.sparse matrices\n",
    "\n",
    "\n",
    "```py\n",
    "import scipy.sparse\n",
    "\n",
    "# random sparse matrix as an example\n",
    "scipy_sparse_matrix = scipy.sparse.random(5, 2)  # random sparse matrix as example\n",
    "corpus = gensim.matutils.Sparse2Corpus(scipy_sparse_matrix)\n",
    "scipy_csc_matrix = gensim.matutils.corpus2csc(corpus)\n",
    "```\n"
   ]
  },
  {
   "cell_type": "code",
   "execution_count": null,
   "metadata": {},
   "outputs": [],
   "source": []
  },
  {
   "cell_type": "markdown",
   "metadata": {},
   "source": [
    "### Loading And Saving Models"
   ]
  },
  {
   "cell_type": "code",
   "execution_count": 21,
   "metadata": {},
   "outputs": [
    {
     "data": {
      "text/html": [
       "<pre style=\"white-space:pre;overflow-x:auto;line-height:normal;font-family:Menlo,'DejaVu Sans Mono',consolas,'Courier New',monospace\"><span style=\"font-weight: bold\">[</span>\n",
       "    <span style=\"font-weight: bold\">(</span>\n",
       "        <span style=\"color: #008080; text-decoration-color: #008080; font-weight: bold\">0</span>,\n",
       "        <span style=\"color: #008000; text-decoration-color: #008000\">'0.600*\"messi\" + 0.557*\"soccer\" + 0.339*\"jesus\" + 0.290*\"team\" + 0.274*\"has\" + 0.234*\"religion\" + </span>\n",
       "<span style=\"color: #008000; text-decoration-color: #008000\">0.000*\"are\" + 0.000*\"religious\" + 0.000*\"prayer\" + 0.000*\"together.\"'</span>\n",
       "    <span style=\"font-weight: bold\">)</span>,\n",
       "    <span style=\"font-weight: bold\">(</span>\n",
       "        <span style=\"color: #008080; text-decoration-color: #008080; font-weight: bold\">1</span>,\n",
       "        <span style=\"color: #008000; text-decoration-color: #008000\">'-0.500*\"prayer\" + -0.500*\"together.\" + -0.500*\"religious\" + -0.500*\"are\" + -0.000*\"messi\" + </span>\n",
       "<span style=\"color: #008000; text-decoration-color: #008000\">0.000*\"religion\" + 0.000*\"team\" + 0.000*\"has\" + 0.000*\"jesus\" + -0.000*\"soccer\"'</span>\n",
       "    <span style=\"font-weight: bold\">)</span>\n",
       "<span style=\"font-weight: bold\">]</span>\n",
       "</pre>\n"
      ],
      "text/plain": [
       "\u001b[1m[\u001b[0m\n",
       "    \u001b[1m(\u001b[0m\n",
       "        \u001b[1;36m0\u001b[0m,\n",
       "        \u001b[32m'0.600*\"messi\" + 0.557*\"soccer\" + 0.339*\"jesus\" + 0.290*\"team\" + 0.274*\"has\" + 0.234*\"religion\" + \u001b[0m\n",
       "\u001b[32m0.000*\"are\" + 0.000*\"religious\" + 0.000*\"prayer\" + 0.000*\"together.\"'\u001b[0m\n",
       "    \u001b[1m)\u001b[0m,\n",
       "    \u001b[1m(\u001b[0m\n",
       "        \u001b[1;36m1\u001b[0m,\n",
       "        \u001b[32m'-0.500*\"prayer\" + -0.500*\"together.\" + -0.500*\"religious\" + -0.500*\"are\" + -0.000*\"messi\" + \u001b[0m\n",
       "\u001b[32m0.000*\"religion\" + 0.000*\"team\" + 0.000*\"has\" + 0.000*\"jesus\" + -0.000*\"soccer\"'\u001b[0m\n",
       "    \u001b[1m)\u001b[0m\n",
       "\u001b[1m]\u001b[0m\n"
      ]
     },
     "metadata": {},
     "output_type": "display_data"
    }
   ],
   "source": [
    "from gensim.interfaces import TransformedCorpus\n",
    "\n",
    "\n",
    "doc_bow: list[list[tuple[int, int]]] = [\n",
    "    dictionary.doc2bow(text) for text in processed_corpus\n",
    "]\n",
    "tfidf_model: models.TfidfModel = models.TfidfModel(dictionary=dictionary)\n",
    "corpus_tfidf: TransformedCorpus = tfidf_model[doc_bow]\n",
    "\n",
    "lsi_model: models.LsiModel = models.LsiModel(\n",
    "    corpus=corpus_tfidf, id2word=dictionary, num_topics=2\n",
    ")\n",
    "corpus_lsi: TransformedCorpus = lsi_model[corpus_tfidf]\n",
    "\n",
    "# lsi_model.show_topics()\n",
    "console.print(lsi_model.print_topics(num_topics=2))"
   ]
  },
  {
   "cell_type": "markdown",
   "metadata": {},
   "source": [
    "#### Comment\n",
    "\n",
    "```text\n",
    "(0, '0.600*\"messi\" + 0.557*\"soccer\" + 0.339*\"jesus\" + 0.290*\"team\" + 0.274*\"has\" + 0.234*\"religion\" + 0.000*\"religious\" + 0.000*\"are\" + 0.000*\"prayer\" + 0.000*\"together.\"')\n",
    "\n",
    "- This means that for topic 0, `messi`, `soccer`, `jesus`, `team`, `has`, `religion` are all related words and contribute the most to the topic.\n",
    "```"
   ]
  },
  {
   "cell_type": "code",
   "execution_count": 22,
   "metadata": {},
   "outputs": [
    {
     "name": "stdout",
     "output_type": "stream",
     "text": [
      "[(0, 0.7975568794650292)] | ['messi', 'is', 'the', 'best', 'soccer', 'player', 'in', 'the', 'world.']\n",
      "[(0, 0.5700679546502849)] | ['the', 'soccer', 'field', 'became', 'a', 'sacred', 'ground', 'for', 'the', 'local', 'community', 'and', 'a', 'way', 'to', 'glorify', 'jesus', 'christ.']\n",
      "[(0, 0.289801536297295)] | ['a', 'divine', 'goal', 'changed', 'the', 'fate', 'of', 'the', 'underdog', 'team', 'thanks', 'to', 'the', 'great', 'passion', 'of', 'the', 'players.']\n",
      "[(0, 0.7975568794650292)] | ['soccer', 'players', 'prayed', 'together', 'before', 'a', 'crucial', 'match.', 'e.g.', 'messi']\n",
      "[(0, 0.5782949666969791)] | ['soccer', 'has', 'a', 'global', 'community.', 'the', 'team', 'was', 'awarded', 'a', 'medal.']\n",
      "[(0, 0.3596260221908562)] | ['religion', 'has', 'been', 'a', 'guiding', 'force', 'in', 'my', 'life,', 'helping', 'me', 'make', 'important', 'decisions.', 'thank', 'you', 'lord']\n",
      "[(1, -0.8660254037844388)] | ['prayer', 'and', 'meditation', 'are', 'essential', 'parts', 'of', 'my', 'religious', 'practice.']\n",
      "[(1, -0.7071067811865479)] | ['prayer', 'is', 'the', 'key.', 'do', 'not', 'forget', 'to', 'pray', 'together.']\n",
      "[(0, 0.40499908274917706)] | ['every', 'tongue', 'will', 'shout', 'that', 'jesus', 'is', 'the', 'lord.', 'religion', 'is', 'the', 'key', 'to', 'success.']\n",
      "[(1, -0.8660254037844386)] | ['religious', 'holidays', '(religion)', 'are', 'times', 'of', 'joy', 'and', 'reflection,', 'bringing', 'families', 'closer', 'together.']\n"
     ]
    }
   ],
   "source": [
    "for doc, as_text in zip(corpus_lsi, processed_corpus):\n",
    "    print(f\"{doc} | {as_text}\")"
   ]
  },
  {
   "cell_type": "markdown",
   "metadata": {},
   "source": [
    "<br>\n",
    "\n",
    "#### Comment\n",
    "\n",
    "```text\n",
    "Topic 0: Probably about soccer.\n",
    "(0, 0.7975568794650282)] | ['messi', 'is', 'the', 'best', 'soccer', 'player', 'in', 'the', 'world.']\n",
    "[(0, 0.5700679546502856)] | ['the', 'soccer', 'field', 'became', 'a', 'sacred', 'ground', 'for', 'the', 'local', 'community', 'and', 'a', 'way', 'to', 'glorify', 'jesus', 'christ.']\n",
    "\n",
    "# Topic 1: Probably about prayer/religious practice.\n",
    "[(1, 0.8660254037844384)] | ['prayer', 'and', 'meditation', 'are', 'essential', 'parts', 'of', 'my', 'religious', 'practice.']\n",
    "[(1, 0.7071067811865475)] | ['prayer', 'is', 'the', 'key.', 'do', 'not', 'forget', 'to', 'pray', 'together.']\n",
    "```"
   ]
  },
  {
   "cell_type": "markdown",
   "metadata": {},
   "source": [
    "<br><br>\n",
    "\n",
    "\n",
    "#### Save The Model\n",
    "\n"
   ]
  },
  {
   "cell_type": "code",
   "execution_count": 23,
   "metadata": {},
   "outputs": [],
   "source": [
    "# Save LSI model\n",
    "lsi_model.save(\"../../models/lsi_model.lsi\")"
   ]
  },
  {
   "cell_type": "code",
   "execution_count": 24,
   "metadata": {},
   "outputs": [
    {
     "data": {
      "text/html": [
       "<pre style=\"white-space:pre;overflow-x:auto;line-height:normal;font-family:Menlo,'DejaVu Sans Mono',consolas,'Courier New',monospace\"><span style=\"font-weight: bold\">[</span>\n",
       "    <span style=\"font-weight: bold\">(</span>\n",
       "        <span style=\"color: #008080; text-decoration-color: #008080; font-weight: bold\">0</span>,\n",
       "        <span style=\"color: #008000; text-decoration-color: #008000\">'0.600*\"messi\" + 0.557*\"soccer\" + 0.339*\"jesus\" + 0.290*\"team\" + 0.274*\"has\" + 0.234*\"religion\" + </span>\n",
       "<span style=\"color: #008000; text-decoration-color: #008000\">0.000*\"are\" + 0.000*\"religious\" + 0.000*\"prayer\" + 0.000*\"together.\"'</span>\n",
       "    <span style=\"font-weight: bold\">)</span>,\n",
       "    <span style=\"font-weight: bold\">(</span>\n",
       "        <span style=\"color: #008080; text-decoration-color: #008080; font-weight: bold\">1</span>,\n",
       "        <span style=\"color: #008000; text-decoration-color: #008000\">'-0.500*\"prayer\" + -0.500*\"together.\" + -0.500*\"religious\" + -0.500*\"are\" + -0.000*\"messi\" + </span>\n",
       "<span style=\"color: #008000; text-decoration-color: #008000\">0.000*\"religion\" + 0.000*\"team\" + 0.000*\"has\" + 0.000*\"jesus\" + -0.000*\"soccer\"'</span>\n",
       "    <span style=\"font-weight: bold\">)</span>\n",
       "<span style=\"font-weight: bold\">]</span>\n",
       "</pre>\n"
      ],
      "text/plain": [
       "\u001b[1m[\u001b[0m\n",
       "    \u001b[1m(\u001b[0m\n",
       "        \u001b[1;36m0\u001b[0m,\n",
       "        \u001b[32m'0.600*\"messi\" + 0.557*\"soccer\" + 0.339*\"jesus\" + 0.290*\"team\" + 0.274*\"has\" + 0.234*\"religion\" + \u001b[0m\n",
       "\u001b[32m0.000*\"are\" + 0.000*\"religious\" + 0.000*\"prayer\" + 0.000*\"together.\"'\u001b[0m\n",
       "    \u001b[1m)\u001b[0m,\n",
       "    \u001b[1m(\u001b[0m\n",
       "        \u001b[1;36m1\u001b[0m,\n",
       "        \u001b[32m'-0.500*\"prayer\" + -0.500*\"together.\" + -0.500*\"religious\" + -0.500*\"are\" + -0.000*\"messi\" + \u001b[0m\n",
       "\u001b[32m0.000*\"religion\" + 0.000*\"team\" + 0.000*\"has\" + 0.000*\"jesus\" + -0.000*\"soccer\"'\u001b[0m\n",
       "    \u001b[1m)\u001b[0m\n",
       "\u001b[1m]\u001b[0m\n"
      ]
     },
     "metadata": {},
     "output_type": "display_data"
    }
   ],
   "source": [
    "# Load the model\n",
    "loaded_lsi_model = models.LsiModel.load(\"../../models/lsi_model.lsi\")\n",
    "console.print(loaded_lsi_model.print_topics(num_topics=2))"
   ]
  },
  {
   "cell_type": "markdown",
   "metadata": {},
   "source": [
    "<br>\n",
    "\n",
    "### Similarity Queries"
   ]
  },
  {
   "cell_type": "code",
   "execution_count": 25,
   "metadata": {},
   "outputs": [],
   "source": [
    "# Type annotations\n",
    "from typing import TypeAlias, TypeVar\n",
    "\n",
    "\n",
    "BoW: TypeAlias = list[list[tuple[int, int]]]\n",
    "Corpus: TypeAlias = list[list[str]]\n",
    "VectorCorpus: TypeAlias = list[list[tuple[int, float]]]\n",
    "\n",
    "text_corpus: list[str] = [\n",
    "    \"Human machine interface for lab abc computer applications\",\n",
    "    \"A survey of user opinion of computer system response time\",\n",
    "    \"The EPS user interface management system\",\n",
    "    \"System and human system engineering testing of EPS\",\n",
    "    \"Relation of user perceived response time to error measurement\",\n",
    "    \"The generation of random binary unordered trees\",\n",
    "    \"The intersection graph of paths in trees\",\n",
    "    \"Graph minors IV Widths of trees and well quasi ordering\",\n",
    "    \"Graph minors A survey\",\n",
    "]\n",
    "\n",
    "# Create a set of frequent words\n",
    "stopwords: set[str] = set(\"for a of the and to in\".split())"
   ]
  },
  {
   "cell_type": "code",
   "execution_count": 26,
   "metadata": {},
   "outputs": [
    {
     "name": "stdout",
     "output_type": "stream",
     "text": [
      "Dictionary<12 unique tokens: ['computer', 'human', 'interface', 'response', 'survey']...>\n"
     ]
    }
   ],
   "source": [
    "# Text preprocessing\n",
    "processed_corpus: Corpus = [line.lower().split() for line in text_corpus]\n",
    "\n",
    "dictionary: Dictionary = Dictionary(processed_corpus)\n",
    "\n",
    "# Extract the ids of the stopwords\n",
    "stop_ids: list[int] = [\n",
    "    dictionary.token2id[s_word] for s_word in stopwords if s_word in dictionary.token2id\n",
    "]\n",
    "\n",
    "# Extract ids of words with frequency less than 2\n",
    "low_frequency_ids: list[int] = [\n",
    "    tokenid for tokenid, docfreq in dictionary.dfs.items() if docfreq < 2\n",
    "]\n",
    "# Remove the ids\n",
    "dictionary.filter_tokens(stop_ids + low_frequency_ids)\n",
    "\n",
    "# Remove gaps in id sequence after words are filtered\n",
    "dictionary.compactify()\n",
    "print(dictionary)\n",
    "\n",
    "corpus_bow: BoW = [dictionary.doc2bow(text) for text in processed_corpus]"
   ]
  },
  {
   "cell_type": "code",
   "execution_count": 27,
   "metadata": {},
   "outputs": [],
   "source": [
    "from gensim.models import LsiModel, TfidfModel\n",
    "\n",
    "\n",
    "# LSI is a transformation that finds patterns between words and topics by\n",
    "# mapping documents into a lower-dimensional space.\n",
    "lsi_model: LsiModel = LsiModel(corpus=corpus_bow, id2word=dictionary, num_topics=2)"
   ]
  },
  {
   "cell_type": "code",
   "execution_count": 28,
   "metadata": {},
   "outputs": [
    {
     "name": "stdout",
     "output_type": "stream",
     "text": [
      "vec_lsi = [(0, 0.46182100453271624), (1, -0.0700276652790007)]\n"
     ]
    }
   ],
   "source": [
    "# Rank nine documents by semantic similarity to the query \"Human computer interaction\",\n",
    "# ignoring external factors and focusing solely on word relationships within the text.\n",
    "doc: str = \"Human computer interaction\"\n",
    "vec_bow: BoW = dictionary.doc2bow(doc.lower().split())\n",
    "\n",
    "# Convert the query to LSI space.\n",
    "vec_lsi: VectorCorpus = lsi_model[vec_bow]\n",
    "print(f\"{vec_lsi = }\")"
   ]
  },
  {
   "cell_type": "markdown",
   "metadata": {},
   "source": [
    "#### Initializing Query Structures\n",
    "\n",
    "- To prepare for similarity queries, we need to enter all documents which we want to compare against subsequent queries.\n",
    "- In our case, they are the same nine documents used for training LSI, converted to 2-D LSA space. But that’s only incidental, we might also be indexing a different corpus altogether.\n",
    "\n",
    "**Warning ⚠️ !!**\n",
    "\n",
    "- The class `similarities.MatrixSimilarity` is only appropriate when the whole set of vectors fits into memory.\n",
    "- For example, a corpus of one million documents would require 2GB of RAM in a 256-dimensional LSI space, when used with this class.\n",
    "- Without 2GB of free RAM, you would need to use the `similarities.Similarity` class (more effi cient) instead.\n",
    "- This class operates in fixed memory, by splitting the index across multiple files on disk, called shards."
   ]
  },
  {
   "cell_type": "code",
   "execution_count": 29,
   "metadata": {},
   "outputs": [
    {
     "name": "stdout",
     "output_type": "stream",
     "text": [
      "[ 0.9981  0.9375  0.9984  0.9866  0.9076 -0.1242 -0.1064 -0.0988  0.05  ]\n"
     ]
    }
   ],
   "source": [
    "from gensim import similarities\n",
    "\n",
    "\n",
    "# Transform to LSIspace and index for quering\n",
    "index = similarities.MatrixSimilarity(lsi_model[corpus_bow])\n",
    "\n",
    "# === Persit and load index ===\n",
    "# index.save('index.index')\n",
    "# index = similarities.MatrixSimilarity.load('index.index')\n",
    "\n",
    "# === Calculate simularity ===\n",
    "sims: list[int] = index[vec_lsi]\n",
    "print(sims)"
   ]
  },
  {
   "cell_type": "code",
   "execution_count": 30,
   "metadata": {},
   "outputs": [
    {
     "name": "stdout",
     "output_type": "stream",
     "text": [
      "query: Human computer interaction\n",
      "\n",
      "idx: 2 | similarity: 0.9984452724456787| The EPS user interface management system\n",
      "idx: 0 | similarity: 0.9980930089950562| Human machine interface for lab abc computer applications\n",
      "idx: 3 | similarity: 0.9865885972976685| System and human system engineering testing of EPS\n",
      "idx: 1 | similarity: 0.9374863505363464| A survey of user opinion of computer system response time\n",
      "idx: 4 | similarity: 0.9075594544410706| Relation of user perceived response time to error measurement\n",
      "idx: 8 | similarity: 0.050041764974594116| Graph minors A survey\n",
      "idx: 7 | similarity: -0.09879463911056519| Graph minors IV Widths of trees and well quasi ordering\n",
      "idx: 6 | similarity: -0.10639259219169617| The intersection graph of paths in trees\n",
      "idx: 5 | similarity: -0.12416791915893555| The generation of random binary unordered trees\n"
     ]
    }
   ],
   "source": [
    "# Format the result\n",
    "sorted_sims: tuple[int, float] = sorted(\n",
    "    enumerate(sims), key=lambda x: x[1], reverse=True\n",
    ")\n",
    "print(f\"query: {doc}\\n\")\n",
    "for idx, score in sorted_sims:\n",
    "    print(f\"idx: {idx} | similarity: {score}| {text_corpus[idx]}\")"
   ]
  },
  {
   "cell_type": "markdown",
   "metadata": {},
   "source": [
    "#### Comment\n",
    "\n",
    "- The `EPS user interface management system` is directly related to `Human Computer Interaction` (HCI).\n",
    "- HCI is the study of how humans interact with computers.\n",
    "- A user interface management system is a software component specifically designed to create and manage the interaction between a user and a computer.\n",
    "- Even though there's no specific keyword match betweeen `EPS user interface management system` and `HCI`, the relationship between the two is still relevant because LSI uses semantic relatiohsips to find relevant documents."
   ]
  },
  {
   "cell_type": "code",
   "execution_count": 31,
   "metadata": {},
   "outputs": [
    {
     "name": "stdout",
     "output_type": "stream",
     "text": [
      "query: Human computer interaction\n",
      "\n",
      "idx: 0 | similarity: 0.8164965510368347| Human machine interface for lab abc computer applications\n",
      "idx: 3 | similarity: 0.3477731943130493| System and human system engineering testing of EPS\n",
      "idx: 1 | similarity: 0.3141290247440338| A survey of user opinion of computer system response time\n",
      "idx: 2 | similarity: 0.0| The EPS user interface management system\n",
      "idx: 4 | similarity: 0.0| Relation of user perceived response time to error measurement\n",
      "idx: 5 | similarity: 0.0| The generation of random binary unordered trees\n",
      "idx: 6 | similarity: 0.0| The intersection graph of paths in trees\n",
      "idx: 7 | similarity: 0.0| Graph minors IV Widths of trees and well quasi ordering\n",
      "idx: 8 | similarity: 0.0| Graph minors A survey\n"
     ]
    }
   ],
   "source": [
    "# Using TF-IDF\n",
    "tfidf_model: TfidfModel = TfidfModel(\n",
    "    corpus=corpus_bow,\n",
    "    dictionary=dictionary,\n",
    ")\n",
    "vec_bow: BoW = tfidf_model[vec_bow]\n",
    "\n",
    "index_tfidf = similarities.SparseMatrixSimilarity(\n",
    "    tfidf_model[corpus_bow], num_features=len(dictionary)\n",
    ")\n",
    "\n",
    "# Calculate similarity\n",
    "sims_tfidf: list[float] = index_tfidf[vec_bow]\n",
    "\n",
    "# Format the result\n",
    "sorted_sims_tfidf: tuple[int, float] = sorted(\n",
    "    enumerate(sims_tfidf), key=lambda x: x[1], reverse=True\n",
    ")\n",
    "print(f\"query: {doc}\\n\")\n",
    "for idx, score in sorted_sims_tfidf:\n",
    "    print(f\"idx: {idx} | similarity: {score}| {text_corpus[idx]}\")"
   ]
  },
  {
   "cell_type": "code",
   "execution_count": null,
   "metadata": {},
   "outputs": [],
   "source": []
  },
  {
   "cell_type": "markdown",
   "metadata": {},
   "source": [
    "### Doc2Vec / Paragraph Vector\n",
    "\n",
    "- `Doc2Vec` is a model (in Gensim) that creates vector representations of documents. i.e. it learns to map documents into a continuous vector space, similar to how `Word2Vec` maps words into a vector space.   \n",
    "\n",
    "#### Key points about Doc2Vec\n",
    "\n",
    "- Document as a Vector: Each document is represented as a dense vector, capturing its semantic and syntactic information.\n",
    "   \n",
    "- Neural Network Architecture: Doc2Vec uses a neural network architecture to learn these vector representations.\n",
    "   \n",
    "- Two Training Methods: There are two primary training methods:\n",
    "  - `Distributed Memory (DM)`: Predicts the current word based on the document vector and surrounding words.\n",
    "  - `Distributed Bag of Words (DBOW)`: Predicts the document based on randomly sampled words from the document.\n",
    "\n",
    "- Applications: Doc2Vec is widely used in tasks like `document similarity`, `clustering`, `classification`, and `recommendation systems`.\n",
    "\n",
    "### When to Use Doc2Vec:\n",
    "\n",
    "- You need document-level embeddings.\n",
    "- Your task requires understanding the overall context and structure of a document.\n",
    "- You are working with paragraphs, documents, or any arbitrary-length text.\n",
    "- Your application benefits from capturing the semantic meaning of entire documents.\n",
    "\n",
    "### Fast Text\n",
    "\n",
    "- FastText is efficient at creating word representations that handle uncommon words well.\n",
    "  \n",
    "#### Strengths:\n",
    "- Handles Out-of-Vocabulary (OOV) Words: FastText represents words as n-grams of characters, allowing it to generate vectors for words that were not seen during training.\n",
    "- Efficient Training: FastText is designed to be efficient and can handle large corpora quickly.\n",
    "- Word-Level Embeddings: FastText provides high-quality word embeddings that capture semantic and syntactic relationships.\n",
    "- Versatile Applications: Suitable for tasks like word similarity, text classification, and language modeling.\n",
    "\n",
    "#### Use Cases:\n",
    "- Text Classification: FastText can be used for tasks like sentiment analysis, topic classification, and spam detection where word-level information is crucial.\n",
    "- Word similarity tasks.\n",
    "- Handling rare words and OOV words.\n",
    "\n",
    "<br><hr>\n",
    "\n",
    "#### Prepare The Training And Test Data\n",
    "\n",
    "- For this tutorial, we’ll be training our model using the `Lee Background Corpus` included in gensim (which you already have if you’ve installed Gensim).\n",
    "- This corpus contains 314 documents selected from the Australian Broadcasting Corporation’s news mail service, which provides text e-mails of headline stories and covers a number of broad topics.\n",
    "- We’ll test our model by eye using the much shorter `Lee Corpus` which contains 50 documents."
   ]
  },
  {
   "cell_type": "code",
   "execution_count": 32,
   "metadata": {},
   "outputs": [
    {
     "name": "stdout",
     "output_type": "stream",
     "text": [
      "lee_train_file='/Users/neidu/miniconda3/envs/torch_p11/lib/python3.11/site-packages/gensim/test/test_data/lee_background.cor'\n",
      "lee_test_file='/Users/neidu/miniconda3/envs/torch_p11/lib/python3.11/site-packages/gensim/test/test_data/lee.cor'\n"
     ]
    }
   ],
   "source": [
    "import os\n",
    "\n",
    "# Set file names for train and test data\n",
    "test_data_dir: str = os.path.join(gensim.__path__[0], \"test\", \"test_data\")\n",
    "lee_train_file: str = os.path.join(test_data_dir, \"lee_background.cor\")\n",
    "lee_test_file: str = os.path.join(test_data_dir, \"lee.cor\")\n",
    "\n",
    "print(f\"{lee_train_file=}\\n{lee_test_file=}\")"
   ]
  },
  {
   "cell_type": "code",
   "execution_count": 33,
   "metadata": {},
   "outputs": [],
   "source": [
    "import smart_open\n",
    "from typing import List, Union, Iterator\n",
    "\n",
    "\n",
    "def read_corpus(\n",
    "    fname: str, tokens_only: bool = False\n",
    ") -> Iterator[Union[List[str], gensim.models.doc2vec.TaggedDocument]]:\n",
    "    \"\"\"\n",
    "    Read and process a corpus from a file.\n",
    "\n",
    "    Parameters\n",
    "    ----------\n",
    "    fname : str\n",
    "        The file name or path of the corpus.\n",
    "    tokens_only : bool, optional\n",
    "        If True, return only tokens. If False, return TaggedDocument objects.\n",
    "        Default is False.\n",
    "\n",
    "    Yields\n",
    "    ------\n",
    "    Union[List[str], gensim.models.doc2vec.TaggedDocument]\n",
    "        If tokens_only is True, yields a list of tokens for each line.\n",
    "        If tokens_only is False, yields a TaggedDocument object for each line.\n",
    "\n",
    "    Notes\n",
    "    -----\n",
    "    This function reads the file line by line, tokenizes each line,\n",
    "    and yields either a list of tokens or a TaggedDocument object.\n",
    "    \"\"\"\n",
    "    with smart_open.open(fname, encoding=\"iso-8859-1\") as f:\n",
    "        for i, line in enumerate(f):\n",
    "            # Convert a document into a list of lowercase tokens, ignoring tokens\n",
    "            # that are too short or too long\n",
    "            tokens: List[str] = gensim.utils.simple_preprocess(\n",
    "                line, min_len=2, max_len=15\n",
    "            )\n",
    "            if tokens_only:\n",
    "                yield tokens\n",
    "            else:\n",
    "                # For training data, add tags\n",
    "                yield gensim.models.doc2vec.TaggedDocument(tokens, [i])"
   ]
  },
  {
   "cell_type": "code",
   "execution_count": 34,
   "metadata": {},
   "outputs": [],
   "source": [
    "train_corpus: list[gensim.models.doc2vec.TaggedDocument] = list(\n",
    "    read_corpus(lee_train_file)\n",
    ")\n",
    "test_corpus: list[list[str]] = list(read_corpus(lee_test_file, tokens_only=True))"
   ]
  },
  {
   "cell_type": "code",
   "execution_count": 35,
   "metadata": {},
   "outputs": [
    {
     "name": "stdout",
     "output_type": "stream",
     "text": [
      "train_corpus[:2] = [TaggedDocument(words=['hundreds', 'of', 'people', 'have', 'been', 'forced', 'to', 'vacate', 'their', 'homes', 'in', 'the', 'southern', 'highlands', 'of', 'new', 'south', 'wales', 'as', 'strong', 'winds', 'today', 'pushed', 'huge', 'bushfire', 'towards', 'the', 'town', 'of', 'hill', 'top', 'new', 'blaze', 'near', 'goulburn', 'south', 'west', 'of', 'sydney', 'has', 'forced', 'the', 'closure', 'of', 'the', 'hume', 'highway', 'at', 'about', 'pm', 'aedt', 'marked', 'deterioration', 'in', 'the', 'weather', 'as', 'storm', 'cell', 'moved', 'east', 'across', 'the', 'blue', 'mountains', 'forced', 'authorities', 'to', 'make', 'decision', 'to', 'evacuate', 'people', 'from', 'homes', 'in', 'outlying', 'streets', 'at', 'hill', 'top', 'in', 'the', 'new', 'south', 'wales', 'southern', 'highlands', 'an', 'estimated', 'residents', 'have', 'left', 'their', 'homes', 'for', 'nearby', 'mittagong', 'the', 'new', 'south', 'wales', 'rural', 'fire', 'service', 'says', 'the', 'weather', 'conditions', 'which', 'caused', 'the', 'fire', 'to', 'burn', 'in', 'finger', 'formation', 'have', 'now', 'eased', 'and', 'about', 'fire', 'units', 'in', 'and', 'around', 'hill', 'top', 'are', 'optimistic', 'of', 'defending', 'all', 'properties', 'as', 'more', 'than', 'blazes', 'burn', 'on', 'new', 'year', 'eve', 'in', 'new', 'south', 'wales', 'fire', 'crews', 'have', 'been', 'called', 'to', 'new', 'fire', 'at', 'gunning', 'south', 'of', 'goulburn', 'while', 'few', 'details', 'are', 'available', 'at', 'this', 'stage', 'fire', 'authorities', 'says', 'it', 'has', 'closed', 'the', 'hume', 'highway', 'in', 'both', 'directions', 'meanwhile', 'new', 'fire', 'in', 'sydney', 'west', 'is', 'no', 'longer', 'threatening', 'properties', 'in', 'the', 'cranebrook', 'area', 'rain', 'has', 'fallen', 'in', 'some', 'parts', 'of', 'the', 'illawarra', 'sydney', 'the', 'hunter', 'valley', 'and', 'the', 'north', 'coast', 'but', 'the', 'bureau', 'of', 'meteorology', 'claire', 'richards', 'says', 'the', 'rain', 'has', 'done', 'little', 'to', 'ease', 'any', 'of', 'the', 'hundred', 'fires', 'still', 'burning', 'across', 'the', 'state', 'the', 'falls', 'have', 'been', 'quite', 'isolated', 'in', 'those', 'areas', 'and', 'generally', 'the', 'falls', 'have', 'been', 'less', 'than', 'about', 'five', 'millimetres', 'she', 'said', 'in', 'some', 'places', 'really', 'not', 'significant', 'at', 'all', 'less', 'than', 'millimetre', 'so', 'there', 'hasn', 'been', 'much', 'relief', 'as', 'far', 'as', 'rain', 'is', 'concerned', 'in', 'fact', 'they', 've', 'probably', 'hampered', 'the', 'efforts', 'of', 'the', 'firefighters', 'more', 'because', 'of', 'the', 'wind', 'gusts', 'that', 'are', 'associated', 'with', 'those', 'thunderstorms'], tags=[0]), TaggedDocument(words=['indian', 'security', 'forces', 'have', 'shot', 'dead', 'eight', 'suspected', 'militants', 'in', 'night', 'long', 'encounter', 'in', 'southern', 'kashmir', 'the', 'shootout', 'took', 'place', 'at', 'dora', 'village', 'some', 'kilometers', 'south', 'of', 'the', 'kashmiri', 'summer', 'capital', 'srinagar', 'the', 'deaths', 'came', 'as', 'pakistani', 'police', 'arrested', 'more', 'than', 'two', 'dozen', 'militants', 'from', 'extremist', 'groups', 'accused', 'of', 'staging', 'an', 'attack', 'on', 'india', 'parliament', 'india', 'has', 'accused', 'pakistan', 'based', 'lashkar', 'taiba', 'and', 'jaish', 'mohammad', 'of', 'carrying', 'out', 'the', 'attack', 'on', 'december', 'at', 'the', 'behest', 'of', 'pakistani', 'military', 'intelligence', 'military', 'tensions', 'have', 'soared', 'since', 'the', 'raid', 'with', 'both', 'sides', 'massing', 'troops', 'along', 'their', 'border', 'and', 'trading', 'tit', 'for', 'tat', 'diplomatic', 'sanctions', 'yesterday', 'pakistan', 'announced', 'it', 'had', 'arrested', 'lashkar', 'taiba', 'chief', 'hafiz', 'mohammed', 'saeed', 'police', 'in', 'karachi', 'say', 'it', 'is', 'likely', 'more', 'raids', 'will', 'be', 'launched', 'against', 'the', 'two', 'groups', 'as', 'well', 'as', 'other', 'militant', 'organisations', 'accused', 'of', 'targetting', 'india', 'military', 'tensions', 'between', 'india', 'and', 'pakistan', 'have', 'escalated', 'to', 'level', 'not', 'seen', 'since', 'their', 'war'], tags=[1])]\n",
      "test_corpus[:2] = [['the', 'national', 'executive', 'of', 'the', 'strife', 'torn', 'democrats', 'last', 'night', 'appointed', 'little', 'known', 'west', 'australian', 'senator', 'brian', 'greig', 'as', 'interim', 'leader', 'shock', 'move', 'likely', 'to', 'provoke', 'further', 'conflict', 'between', 'the', 'party', 'senators', 'and', 'its', 'organisation', 'in', 'move', 'to', 'reassert', 'control', 'over', 'the', 'party', 'seven', 'senators', 'the', 'national', 'executive', 'last', 'night', 'rejected', 'aden', 'ridgeway', 'bid', 'to', 'become', 'interim', 'leader', 'in', 'favour', 'of', 'senator', 'greig', 'supporter', 'of', 'deposed', 'leader', 'natasha', 'stott', 'despoja', 'and', 'an', 'outspoken', 'gay', 'rights', 'activist'], ['cash', 'strapped', 'financial', 'services', 'group', 'amp', 'has', 'shelved', 'million', 'plan', 'to', 'buy', 'shares', 'back', 'from', 'investors', 'and', 'will', 'raise', 'million', 'in', 'fresh', 'capital', 'after', 'profits', 'crashed', 'in', 'the', 'six', 'months', 'to', 'june', 'chief', 'executive', 'paul', 'batchelor', 'said', 'the', 'result', 'was', 'solid', 'in', 'what', 'he', 'described', 'as', 'the', 'worst', 'conditions', 'for', 'stock', 'markets', 'in', 'years', 'amp', 'half', 'year', 'profit', 'sank', 'per', 'cent', 'to', 'million', 'or', 'share', 'as', 'australia', 'largest', 'investor', 'and', 'fund', 'manager', 'failed', 'to', 'hit', 'projected', 'per', 'cent', 'earnings', 'growth', 'targets', 'and', 'was', 'battered', 'by', 'falling', 'returns', 'on', 'share', 'markets']]\n"
     ]
    }
   ],
   "source": [
    "print(f\"{train_corpus[:2] = }\")\n",
    "print(f\"{test_corpus[:2] = }\")"
   ]
  },
  {
   "cell_type": "code",
   "execution_count": 36,
   "metadata": {},
   "outputs": [],
   "source": [
    "from gensim.models.doc2vec import Doc2Vec\n",
    "import random\n",
    "\n",
    "\n",
    "seed: int = 123\n",
    "random.seed(seed)  # For Python's random module\n",
    "np.random.seed(seed)  # For NumPy's random module\n",
    "\n",
    "dim_size: int = 50  # Dimensionality of the feature vector\n",
    "min_count: int = 2  # Ignores all words with total frequency lower than this.\n",
    "\n",
    "# Init the model\n",
    "doc2vec_model: Doc2Vec = Doc2Vec(\n",
    "    vector_size=dim_size, min_count=min_count, epochs=40, seed=seed\n",
    ")\n",
    "\n",
    "# Build the vocab\n",
    "doc2vec_model.build_vocab(corpus_iterable=train_corpus)"
   ]
  },
  {
   "cell_type": "code",
   "execution_count": 37,
   "metadata": {},
   "outputs": [
    {
     "data": {
      "text/plain": [
       "4"
      ]
     },
     "execution_count": 37,
     "metadata": {},
     "output_type": "execute_result"
    }
   ],
   "source": [
    "# Check the number of times the word `penalty` occured in the vocab\n",
    "doc2vec_model.wv.get_vecattr(\"penalty\", \"count\")\n",
    "\n",
    "# List containing all the unique words in the corpus\n",
    "# doc2vec_model.wv.index_to_key"
   ]
  },
  {
   "cell_type": "code",
   "execution_count": 38,
   "metadata": {},
   "outputs": [],
   "source": [
    "# Train the model\n",
    "total_examples: int = doc2vec_model.corpus_count\n",
    "epochs: int = doc2vec_model.epochs\n",
    "doc2vec_model.train(\n",
    "    corpus_iterable=train_corpus, total_examples=total_examples, epochs=epochs\n",
    ")"
   ]
  },
  {
   "cell_type": "code",
   "execution_count": 39,
   "metadata": {},
   "outputs": [
    {
     "name": "stdout",
     "output_type": "stream",
     "text": [
      "doc_vector = array([ 0.0371, -0.169 ,  0.0069, -0.0167, -0.2702,  0.2362, -0.1832,\n",
      "       -0.132 , -0.3983, -0.2094,  0.0467,  0.1892, -0.2903, -0.072 ,\n",
      "       -0.2797,  0.2256,  0.1139,  0.412 ,  0.0791,  0.156 , -0.4574,\n",
      "       -0.055 ,  0.099 ,  0.2134, -0.0939, -0.2677, -0.0342,  0.2001,\n",
      "       -0.0221,  0.1584,  0.4379, -0.12  , -0.1066,  0.2255,  0.4244,\n",
      "       -0.0969, -0.0293, -0.0711,  0.1067, -0.0624, -0.0205,  0.0174,\n",
      "        0.0169,  0.0201,  0.1221, -0.0083,  0.0724, -0.227 , -0.3693,\n",
      "       -0.0685], dtype=float32)\n"
     ]
    }
   ],
   "source": [
    "# Infer vectors of new documents (list of str that must have been tokenized the same way as the training data)\n",
    "# using trained doc2vec model\n",
    "doc_vector: np.ndarray = doc2vec_model.infer_vector(\n",
    "    [\"only\", \"you\", \"can\", \"prevent\", \"forest\", \"fire\"]\n",
    ")\n",
    "\n",
    "# Because the algorithms use randomization, repeated inferences of the same\n",
    "# text yield slightly different vectors.\n",
    "print(f\"{doc_vector = }\")"
   ]
  },
  {
   "cell_type": "code",
   "execution_count": 40,
   "metadata": {},
   "outputs": [
    {
     "name": "stdout",
     "output_type": "stream",
     "text": [
      "train_corpus[10].words[:5] = ['work', 'is', 'continuing', 'this', 'morning']\n",
      "n_docs = 300\n"
     ]
    }
   ],
   "source": [
    "print(f\"{train_corpus[10].words[:5] = }\")\n",
    "\n",
    "n_docs: int = len(doc2vec_model.dv)\n",
    "print(f\"{n_docs = }\")"
   ]
  },
  {
   "cell_type": "code",
   "execution_count": 41,
   "metadata": {},
   "outputs": [
    {
     "data": {
      "text/plain": [
       "2"
      ]
     },
     "execution_count": 41,
     "metadata": {},
     "output_type": "execute_result"
    }
   ],
   "source": [
    "example: list[str] = [\"RCIA\", \"CBN\", \"FBI\", \"CIA\"]\n",
    "example.index(\"FBI\")"
   ]
  },
  {
   "cell_type": "code",
   "execution_count": 42,
   "metadata": {},
   "outputs": [],
   "source": [
    "# Use the model\n",
    "ranks: list = []\n",
    "second_ranks: list = []\n",
    "n_docs: int = len(doc2vec_model.dv)\n",
    "\n",
    "for doc_id in range(len(train_corpus)):\n",
    "    inferred_vector: np.ndarray = doc2vec_model.infer_vector(train_corpus[doc_id].words)\n",
    "    # Calculate cosine similarity of the inferred vector and the vectors of all documents\n",
    "    sims: list[tuple[Any, float]] = doc2vec_model.dv.most_similar(\n",
    "        [inferred_vector], topn=n_docs\n",
    "    )\n",
    "    # Get the position of the document that is most similar to the inferred vector\n",
    "    rank = [docid for docid, _ in sims].index(doc_id)\n",
    "    ranks.append(rank)\n",
    "    second_ranks.append(sims[1])"
   ]
  },
  {
   "cell_type": "code",
   "execution_count": 43,
   "metadata": {},
   "outputs": [
    {
     "name": "stdout",
     "output_type": "stream",
     "text": [
      "{0: 292, 1: 8}\n",
      "Percentage of correct rank: 97.3333%\n"
     ]
    }
   ],
   "source": [
    "from collections import Counter\n",
    "\n",
    "\n",
    "counter: dict[int, int] = dict(Counter(ranks))\n",
    "print(counter)\n",
    "correct_rank: float = (counter.get(0) / len(ranks)) * 100\n",
    "print(f\"Percentage of correct rank: {correct_rank:.4f}%\")"
   ]
  },
  {
   "cell_type": "code",
   "execution_count": 44,
   "metadata": {},
   "outputs": [
    {
     "name": "stdout",
     "output_type": "stream",
     "text": [
      "Document (299): «australia will take on france in the doubles rubber of the davis cup tennis final today with the tie levelled at wayne arthurs and todd woodbridge are scheduled to lead australia in the doubles against cedric pioline and fabrice santoro however changes can be made to the line up up to an hour before the match and australian team captain john fitzgerald suggested he might do just that we ll make team appraisal of the whole situation go over the pros and cons and make decision french team captain guy forget says he will not make changes but does not know what to expect from australia todd is the best doubles player in the world right now so expect him to play he said would probably use wayne arthurs but don know what to expect really pat rafter salvaged australia davis cup campaign yesterday with win in the second singles match rafter overcame an arm injury to defeat french number one sebastien grosjean in three sets the australian says he is happy with his form it not very pretty tennis there isn too many consistent bounces you are playing like said bit of classic old grass court rafter said rafter levelled the score after lleyton hewitt shock five set loss to nicholas escude in the first singles rubber but rafter says he felt no added pressure after hewitt defeat knew had good team to back me up even if we were down he said knew could win on the last day know the boys can win doubles so even if we were down still feel we are good enough team to win and vice versa they are good enough team to beat us as well»\n",
      "\n",
      "SIMILAR/DISSIMILAR DOCS PER MODEL: \n",
      "\n",
      "MOST (299, 0.9459476470947266): «australia will take on france in the doubles rubber of the davis cup tennis final today with the tie levelled at wayne arthurs and todd woodbridge are scheduled to lead australia in the doubles against cedric pioline and fabrice santoro however changes can be made to the line up up to an hour before the match and australian team captain john fitzgerald suggested he might do just that we ll make team appraisal of the whole situation go over the pros and cons and make decision french team captain guy forget says he will not make changes but does not know what to expect from australia todd is the best doubles player in the world right now so expect him to play he said would probably use wayne arthurs but don know what to expect really pat rafter salvaged australia davis cup campaign yesterday with win in the second singles match rafter overcame an arm injury to defeat french number one sebastien grosjean in three sets the australian says he is happy with his form it not very pretty tennis there isn too many consistent bounces you are playing like said bit of classic old grass court rafter said rafter levelled the score after lleyton hewitt shock five set loss to nicholas escude in the first singles rubber but rafter says he felt no added pressure after hewitt defeat knew had good team to back me up even if we were down he said knew could win on the last day know the boys can win doubles so even if we were down still feel we are good enough team to win and vice versa they are good enough team to beat us as well»\n",
      "\n",
      "SECOND-MOST (104, 0.7972357869148254): «australian cricket captain steve waugh has supported fast bowler brett lee after criticism of his intimidatory bowling to the south african tailenders in the first test in adelaide earlier this month lee was fined for giving new zealand tailender shane bond an unsportsmanlike send off during the third test in perth waugh says tailenders should not be protected from short pitched bowling these days you re earning big money you ve got responsibility to learn how to bat he said mean there no times like years ago when it was not professional and sort of bowlers code these days you re professional our batsmen work very hard at their batting and expect other tailenders to do likewise meanwhile waugh says his side will need to guard against complacency after convincingly winning the first test by runs waugh says despite the dominance of his side in the first test south africa can never be taken lightly it only one test match out of three or six whichever way you want to look at it so there lot of work to go he said but it nice to win the first battle definitely it gives us lot of confidence going into melbourne you know the big crowd there we love playing in front of the boxing day crowd so that will be to our advantage as well south africa begins four day match against new south wales in sydney on thursday in the lead up to the boxing day test veteran fast bowler allan donald will play in the warm up match and is likely to take his place in the team for the second test south african captain shaun pollock expects much better performance from his side in the melbourne test we still believe that we didn play to our full potential so if we can improve on our aspects the output we put out on the field will be lot better and we still believe we have side that is good enough to beat australia on our day he said»\n",
      "\n",
      "MEDIAN (103, 0.24574202299118042): «the hih royal commission has heard evidence that there were doubts about the company ability to pay all of its creditors three months before its collapse partner for accountancy firm ernst and young john gibbons says he and his colleague kim smith attended meeting with hih on november mr gibbons has told the commission hih chairman ray williams and finance director dominic federa were at that meeting mr gibbons said mr smith noted that if hih was wound up on that date there would be clear shortage of assets to pay creditors he says the directors were told it was highly likely all creditors would not receive per cent returns the commission has also heard that the accountancy firm told the directors that even with hih restructuring plans there was potential for insolvency»\n",
      "\n",
      "LEAST (216, -0.04466924071311951): «senior taliban official confirmed the islamic militia would begin handing over its last bastion of kandahar to pashtun tribal leaders on friday this agreement was that taliban should surrender kandahar peacefully to the elders of these areas and we should guarantee the lives and the safety of taliban authorities and all the taliban from tomorrow should start this program former taliban ambassador to pakistan abdul salam zaeef told cnn in telephone interview he insisted that the taliban would not surrender to hamid karzai the new afghan interim leader and pashtun elder who has been cooperating with the united states to calm unrest among the southern tribes the taliban will surrender to elders not to karzai karzai and other persons which they want to enter kandahar by the support of america they don allow to enter kandahar city he said the taliban will surrender the weapons the ammunition to elders»\n",
      "\n"
     ]
    }
   ],
   "source": [
    "# Test with an example:\n",
    "doc_id: int = 299\n",
    "\n",
    "print(f'Document ({doc_id}): «{\" \".join(train_corpus[doc_id].words)}»\\n')\n",
    "print(f\"SIMILAR/DISSIMILAR DOCS PER MODEL: \\n\")\n",
    "for label, idx in [\n",
    "    (\"MOST\", 0),\n",
    "    (\"SECOND-MOST\", 1),\n",
    "    (\"MEDIAN\", len(sims) // 2),\n",
    "    (\"LEAST\", len(sims) - 1),\n",
    "]:\n",
    "    print(f'{label} {sims[idx]}: «{\" \".join(train_corpus[sims[idx][0]].words)}»\\n')"
   ]
  },
  {
   "cell_type": "markdown",
   "metadata": {},
   "source": [
    "<br>\n",
    "\n",
    "#### Test The Model\n",
    "\n",
    "- Using the trained model, estimate the vectors of the unseen data (using the learned weights of the model).\n",
    "- Compare the unseen data with the training data. i.e. find the unseen data that's similar to the training data."
   ]
  },
  {
   "cell_type": "code",
   "execution_count": 45,
   "metadata": {},
   "outputs": [
    {
     "name": "stdout",
     "output_type": "stream",
     "text": [
      "Document (30): «police are combing through videotapes trying to spot the gunman dressed in black who shot year old man to death at downtown massage parlour the victim was hit in the stomach and upper body and died about hours later in hospital the woman was not hurt police urged business owners to turn over any security camera videotapes they might have that recorded people on the street at the time several such videos are now being reviewed»\n",
      "\n",
      "SIMILAR/DISSIMILAR DOCS PER MODEL: \n",
      "\n",
      "MOST (198, 0.7333033084869385): «authorities are trying to track down the crew of vessel that landed undetected at cocos islands carrying asylum seekers the group of sri lankan men was found aboard their boat moored to the south of the islands yesterday afternoon shire president ron grant says investigations are underway as to the whereabouts of the crew after the asylum seekers told authorities they had left in another boat after dropping them off unfortunately for them there two aircraft the royal australian air force here at the moment and one getting prepared to fly off and obviously they will be looking to see if there is another boat he said mr grant says the sri lankans have not yet been brought ashore»\n",
      "\n",
      "SECOND-MOST (219, 0.7224277257919312): «several people believed to be as many as have been shot at northern indiana factory in the united states police said the person who did the shooting was still inside the building preliminary reports suggested disgruntled employee might be behind the mass shooting at nu wood decorative millwork factory at the industrial park in goshen which occurred around pm local time am aedt we re hearing as many as have been shot but we can confirm that said goshen police dispatcher we haven been able to get inside she said the person who fired the shots at the factory near goshen was still inside the facility the city is about kilometres east of chicago»\n",
      "\n",
      "MEDIAN (188, 0.5879243612289429): «one person has died after royal flying doctor service rfds aircraft crashed near the city of mt gambier in south australia south east last night the rfds says beech aircraft apparently came down just before midnight acdt in an area called dismal swamp about kilometres north of mt gambier the aircraft with two crew members on board had come from port augusta to mt gambier to fly six year old boy to sydney for medical treatment however spokesman for the rfds says no passenger was aboard the plane at the time one of the crew is believed to have died from injuries and the other is believed to be not as badly hurt no other details have been released and police have sealed off the crash site officers from the bureau of air safety investigation will head to the scene today to determine the cause of the crash»\n",
      "\n",
      "LEAST (177, 0.52406907081604): «israeli helicopters have again attacked palestinian targets in the gaza strip it is the latest in series of attacks designed to put pressure on the palestinian authority to take tougher action against militants accused of violence against israelis two helicopters returned to the skies above gaza north in the early hours of tuesday morning eyewitnesses report seeing them fire as many as four missiles into security post in the north eastern township of bayt hanum the small one storey building is local command station for yasser arafat personal guard force the building was completely destroyed but nobody was injured in the attack israel has accused force of direct involvement in the preparation and execution of attacks against its people but the palestinian authority insists it is legitimate force and key part of the palestinian security infrastructure»\n",
      "\n"
     ]
    }
   ],
   "source": [
    "# Test the model on unseen data\n",
    "doc_id: int = 30\n",
    "inferred_vector: np.ndarray = doc2vec_model.infer_vector(test_corpus[doc_id])\n",
    "text: str = \" \".join(test_corpus[doc_id])\n",
    "sim_doc: list[tuple[int, float]] = doc2vec_model.dv.most_similar(\n",
    "    [inferred_vector], topn=len(test_corpus)\n",
    ")\n",
    "print(f\"Document ({doc_id}): «{text}»\\n\")\n",
    "print(f\"SIMILAR/DISSIMILAR DOCS PER MODEL: \\n\")\n",
    "for label, idx in [\n",
    "    (\"MOST\", 0),\n",
    "    (\"SECOND-MOST\", 1),\n",
    "    (\"MEDIAN\", len(sim_doc) // 2),\n",
    "    (\"LEAST\", len(sim_doc) - 1),\n",
    "]:\n",
    "    print(\n",
    "        f'{label} {sim_doc[idx]}: «{\" \".join(train_corpus[sim_doc[idx][0]].words)}»\\n'\n",
    "    )"
   ]
  },
  {
   "cell_type": "code",
   "execution_count": null,
   "metadata": {},
   "outputs": [],
   "source": []
  },
  {
   "cell_type": "markdown",
   "metadata": {},
   "source": [
    "### Summary\n",
    "\n",
    "- How can I apply this model to my workflow?\n",
    "  - Train a doc2vec model on a corpus of documents.\n",
    "  - It can be used to vectorize any document / corpus instead of always using TF-IDF.\n",
    "  - Once the data has been vectorized (inferred_vector), downstream tasks like classification, clustering, or similarity can be performed."
   ]
  },
  {
   "cell_type": "code",
   "execution_count": null,
   "metadata": {},
   "outputs": [],
   "source": []
  },
  {
   "cell_type": "markdown",
   "metadata": {},
   "source": [
    "## To Do\n",
    "\n",
    "- Train a classifier for predicting the text labels.\n",
    "- Train a doc2vec model for vectoring the text.\n",
    "- Reduce the dimensionality of the vectors using PCA / SVD.\n",
    "- Train a classifier for predicting the text labels."
   ]
  },
  {
   "cell_type": "code",
   "execution_count": 46,
   "metadata": {},
   "outputs": [
    {
     "name": "stdout",
     "output_type": "stream",
     "text": [
      "bbc_df.shape = (2225, 2)\n"
     ]
    },
    {
     "data": {
      "text/html": [
       "<div><style>\n",
       ".dataframe > thead > tr,\n",
       ".dataframe > tbody > tr {\n",
       "  text-align: right;\n",
       "  white-space: pre-wrap;\n",
       "}\n",
       "</style>\n",
       "<small>shape: (2, 2)</small><table border=\"1\" class=\"dataframe\"><thead><tr><th>text</th><th>labels</th></tr><tr><td>str</td><td>str</td></tr></thead><tbody><tr><td>&quot;Ad sales boost Time Warner profit\n",
       "\n",
       "Quarterly prof…</td><td>&quot;business&quot;</td></tr><tr><td>&quot;Dollar gains on Greenspan speech\n",
       "\n",
       "The dollar has …</td><td>&quot;business&quot;</td></tr></tbody></table></div>"
      ],
      "text/plain": [
       "shape: (2, 2)\n",
       "┌───────────────────────────────────┬──────────┐\n",
       "│ text                              ┆ labels   │\n",
       "│ ---                               ┆ ---      │\n",
       "│ str                               ┆ str      │\n",
       "╞═══════════════════════════════════╪══════════╡\n",
       "│ Ad sales boost Time Warner profit ┆ business │\n",
       "│                                   ┆          │\n",
       "│ Quarterly profi…                  ┆          │\n",
       "│ Dollar gains on Greenspan speech  ┆ business │\n",
       "│                                   ┆          │\n",
       "│ The dollar has h…                 ┆          │\n",
       "└───────────────────────────────────┴──────────┘"
      ]
     },
     "execution_count": 46,
     "metadata": {},
     "output_type": "execute_result"
    }
   ],
   "source": [
    "pl.Config.set_fmt_str_lengths(50)\n",
    "pl.set_random_seed(seed=123)\n",
    "\n",
    "\n",
    "fp: str = \"../../data/bbc_text_cls.csv\"\n",
    "bbc_df: pl.DataFrame = pl.read_csv(fp)\n",
    "print(f\"{bbc_df.shape = }\")\n",
    "bbc_df.head(2)"
   ]
  },
  {
   "cell_type": "code",
   "execution_count": 47,
   "metadata": {},
   "outputs": [
    {
     "data": {
      "text/html": [
       "<div><style>\n",
       ".dataframe > thead > tr,\n",
       ".dataframe > tbody > tr {\n",
       "  text-align: right;\n",
       "  white-space: pre-wrap;\n",
       "}\n",
       "</style>\n",
       "<small>shape: (5, 2)</small><table border=\"1\" class=\"dataframe\"><thead><tr><th>labels</th><th>count</th></tr><tr><td>str</td><td>u32</td></tr></thead><tbody><tr><td>&quot;sport&quot;</td><td>511</td></tr><tr><td>&quot;business&quot;</td><td>510</td></tr><tr><td>&quot;politics&quot;</td><td>417</td></tr><tr><td>&quot;tech&quot;</td><td>401</td></tr><tr><td>&quot;entertainment&quot;</td><td>386</td></tr></tbody></table></div>"
      ],
      "text/plain": [
       "shape: (5, 2)\n",
       "┌───────────────┬───────┐\n",
       "│ labels        ┆ count │\n",
       "│ ---           ┆ ---   │\n",
       "│ str           ┆ u32   │\n",
       "╞═══════════════╪═══════╡\n",
       "│ sport         ┆ 511   │\n",
       "│ business      ┆ 510   │\n",
       "│ politics      ┆ 417   │\n",
       "│ tech          ┆ 401   │\n",
       "│ entertainment ┆ 386   │\n",
       "└───────────────┴───────┘"
      ]
     },
     "execution_count": 47,
     "metadata": {},
     "output_type": "execute_result"
    }
   ],
   "source": [
    "bbc_df[\"labels\"].value_counts(sort=True)"
   ]
  },
  {
   "cell_type": "code",
   "execution_count": 48,
   "metadata": {},
   "outputs": [],
   "source": [
    "from typing import List, Union, Iterator, Tuple\n",
    "import gensim\n",
    "from gensim.models.doc2vec import TaggedDocument\n",
    "import polars as pl\n",
    "import logging\n",
    "\n",
    "\n",
    "def extract_tokens(\n",
    "    data: pl.DataFrame | pl.LazyFrame,\n",
    "    min_len: int = 2,\n",
    "    max_len: int = 15,\n",
    "    tokens_only: bool = False,\n",
    ") -> Iterator[Union[Tuple[List[str], str], TaggedDocument]]:\n",
    "    \"\"\"\n",
    "    Extract tokens from a DataFrame or LazyFrame.\n",
    "\n",
    "    Parameters\n",
    "    ----------\n",
    "    data : pl.DataFrame | pl.LazyFrame\n",
    "        The input data containing text and labels.\n",
    "    min_len : int, optional\n",
    "        The minimum length of tokens to keep. Default is 2.\n",
    "    max_len : int, optional\n",
    "        The maximum length of tokens to keep. Default is 15.\n",
    "    tokens_only : bool, optional\n",
    "        If True, yield only tokens and labels. If False, yield TaggedDocument. Default is False.\n",
    "\n",
    "    Yields\n",
    "    ------\n",
    "    Iterator[Union[Tuple[List[str], str], TaggedDocument]]\n",
    "        An iterator of processed documents, either as (tokens, label) tuples or TaggedDocument objects.\n",
    "    \"\"\"\n",
    "    if isinstance(data, pl.LazyFrame):\n",
    "        data = data.collect()\n",
    "    # Process each row lazily\n",
    "    for idx, line in enumerate(data.iter_rows(named=True)):\n",
    "        text: str = line[\"text\"]\n",
    "        label: str = line[\"labels\"]\n",
    "        # Convert a document into a list of lowercase tokens\n",
    "        tokens: List[str] = gensim.utils.simple_preprocess(\n",
    "            text, min_len=min_len, max_len=max_len\n",
    "        )\n",
    "        if tokens_only:\n",
    "            yield (tokens, label)\n",
    "        else:\n",
    "            # For training data, add tags\n",
    "            yield TaggedDocument(tokens, [idx])\n",
    "\n",
    "\n",
    "def read_corpus_file(\n",
    "    filename: str, min_len: int = 2, max_len: int = 15, tokens_only: bool = False\n",
    ") -> Iterator[Union[Tuple[List[str], str], TaggedDocument]]:\n",
    "    \"\"\"\n",
    "    Read and process a corpus from a file.\n",
    "\n",
    "    Parameters\n",
    "    ----------\n",
    "    filename : str\n",
    "        The name of the file to read.\n",
    "    min_len : int, optional\n",
    "        The minimum length of tokens to keep. Default is 2.\n",
    "    max_len : int, optional\n",
    "        The maximum length of tokens to keep. Default is 15.\n",
    "    tokens_only : bool, optional\n",
    "        If True, yield only tokens and labels. If False, yield TaggedDocument. Default is False.\n",
    "\n",
    "    Yields\n",
    "    ------\n",
    "    Iterator[Union[Tuple[List[str], str], TaggedDocument]]\n",
    "        An iterator of processed documents, either as (tokens, label) tuples or TaggedDocument objects.\n",
    "    \"\"\"\n",
    "    # Determine file format based on file extension\n",
    "    format: str = \".csv\" if filename.endswith((\".txt\", \".csv\")) else \".parquet\"\n",
    "\n",
    "    try:\n",
    "        # Read data using polars\n",
    "        data: pl.LazyFrame = (\n",
    "            pl.scan_csv(filename) if format == \".csv\" else pl.scan_parquet(filename)\n",
    "        )\n",
    "    except Exception as e:\n",
    "        logging.error(f\"Error reading file {filename}: {e}\")\n",
    "        return\n",
    "\n",
    "    # Process each row lazily\n",
    "    return extract_tokens(\n",
    "        data=data, min_len=min_len, max_len=max_len, tokens_only=tokens_only\n",
    "    )\n",
    "\n",
    "\n",
    "def read_corpus_df(\n",
    "    data: pl.DataFrame, min_len: int = 2, max_len: int = 15, tokens_only: bool = False\n",
    ") -> Iterator[Union[Tuple[List[str], str], TaggedDocument]]:\n",
    "    \"\"\"\n",
    "    Read and process a corpus from a DataFrame.\n",
    "\n",
    "    Parameters\n",
    "    ----------\n",
    "    data : pl.DataFrame\n",
    "        The input DataFrame containing text and labels.\n",
    "    min_len : int, optional\n",
    "        The minimum length of tokens to keep. Default is 2.\n",
    "    max_len : int, optional\n",
    "        The maximum length of tokens to keep. Default is 15.\n",
    "    tokens_only : bool, optional\n",
    "        If True, yield only tokens and labels. If False, yield TaggedDocument. Default is False.\n",
    "\n",
    "    Yields\n",
    "    ------\n",
    "    Iterator[Union[Tuple[List[str], str], TaggedDocument]]\n",
    "        An iterator of processed documents, either as (tokens, label) tuples or TaggedDocument objects.\n",
    "    \"\"\"\n",
    "    # Process each row lazily\n",
    "    return extract_tokens(\n",
    "        data=data, min_len=min_len, max_len=max_len, tokens_only=tokens_only\n",
    "    )\n",
    "\n",
    "\n",
    "def stream_corpus(\n",
    "    corpus_size: int,\n",
    "    filename: str | None = None,\n",
    "    data: pl.DataFrame | None = None,\n",
    "    min_len: int = 2,\n",
    "    max_len: int = 15,\n",
    "    tokens_only: bool = False,\n",
    ") -> Union[Tuple[List[List[str]], List[str]], List[TaggedDocument]]:\n",
    "    \"\"\"\n",
    "    Stream a corpus from a file or DataFrame.\n",
    "\n",
    "    Parameters\n",
    "    ----------\n",
    "    corpus_size : int\n",
    "        The expected size of the corpus.\n",
    "    filename : str | None, optional\n",
    "        The name of the file to read. Must be None if data is provided.\n",
    "    data : pl.DataFrame | None, optional\n",
    "        The input DataFrame containing text and labels. Must be None if filename is provided.\n",
    "    min_len : int, optional\n",
    "        The minimum length of tokens to keep. Default is 2.\n",
    "    max_len : int, optional\n",
    "        The maximum length of tokens to keep. Default is 15.\n",
    "    tokens_only : bool, optional\n",
    "        If True, yield only tokens and labels. If False, yield TaggedDocument. Default is False.\n",
    "\n",
    "    Returns\n",
    "    -------\n",
    "    Union[Tuple[List[List[str]], List[str]], List[TaggedDocument]]\n",
    "        Processed corpus as a tuple of (tokens, labels) if tokens_only is True,\n",
    "        otherwise a list of TaggedDocument objects.\n",
    "\n",
    "    Raises\n",
    "    ------\n",
    "    ValueError\n",
    "        If neither filename nor data is provided, or if both are provided.\n",
    "    \"\"\"\n",
    "    if filename is None and data is None:\n",
    "        raise ValueError(\"Either filename or data must be specified\")\n",
    "    if filename is not None and data is not None:\n",
    "        raise ValueError(\"Only one of filename or data must be specified\")\n",
    "\n",
    "    if filename is not None:\n",
    "        #  Process the data lazily using an iterator.\n",
    "        corpus_iterator: Iterator[Union[Tuple[List[str], str], TaggedDocument]] = (\n",
    "            read_corpus_file(filename, min_len, max_len, tokens_only)\n",
    "        )\n",
    "    else:\n",
    "        #  Process the data lazily using an iterator.\n",
    "        corpus_iterator: Iterator[Union[Tuple[List[str], str], TaggedDocument]] = (\n",
    "            read_corpus_df(data, min_len, max_len, tokens_only)\n",
    "        )\n",
    "    tokens: List[Union[List[str], TaggedDocument]] = []\n",
    "    labels: List[str] = []\n",
    "\n",
    "    try:\n",
    "        for _, item in zip(range(corpus_size), corpus_iterator):\n",
    "            if tokens_only:\n",
    "                t: List[str]\n",
    "                l: str\n",
    "                t, l = item\n",
    "                tokens.append(t)\n",
    "                labels.append(l)\n",
    "            else:\n",
    "                tokens.append(item)\n",
    "\n",
    "    except StopIteration:\n",
    "        logging.warning(f\"Corpus is smaller than expected size {corpus_size}\")\n",
    "\n",
    "    return (tokens, labels) if tokens_only else tokens"
   ]
  },
  {
   "cell_type": "code",
   "execution_count": 49,
   "metadata": {},
   "outputs": [
    {
     "name": "stdout",
     "output_type": "stream",
     "text": [
      "(['ad', 'sales', 'boost', 'time', 'warner', 'profit', 'quarterly', 'profits', 'at', 'us', 'media', 'giant', 'timewarner', 'jumped', 'to', 'bn', 'for', 'the', 'three', 'months', 'to', 'december', 'from', 'year', 'earlier', 'the', 'firm', 'which', 'is', 'now', 'one', 'of', 'the', 'biggest', 'investors', 'in', 'google', 'benefited', 'from', 'sales', 'of', 'high', 'speed', 'internet', 'connections', 'and', 'higher', 'advert', 'sales', 'timewarner', 'said', 'fourth', 'quarter', 'sales', 'rose', 'to', 'bn', 'from', 'bn', 'its', 'profits', 'were', 'buoyed', 'by', 'one', 'off', 'gains', 'which', 'offset', 'profit', 'dip', 'at', 'warner', 'bros', 'and', 'less', 'users', 'for', 'aol', 'time', 'warner', 'said', 'on', 'friday', 'that', 'it', 'now', 'owns', 'of', 'search', 'engine', 'google', 'but', 'its', 'own', 'internet', 'business', 'aol', 'had', 'has', 'mixed', 'fortunes', 'it', 'lost', 'subscribers', 'in', 'the', 'fourth', 'quarter', 'profits', 'were', 'lower', 'than', 'in', 'the', 'preceding', 'three', 'quarters', 'however', 'the', 'company', 'said', 'aol', 'underlying', 'profit', 'before', 'exceptional', 'items', 'rose', 'on', 'the', 'back', 'of', 'stronger', 'internet', 'advertising', 'revenues', 'it', 'hopes', 'to', 'increase', 'subscribers', 'by', 'offering', 'the', 'online', 'service', 'free', 'to', 'timewarner', 'internet', 'customers', 'and', 'will', 'try', 'to', 'sign', 'up', 'aol', 'existing', 'customers', 'for', 'high', 'speed', 'broadband', 'timewarner', 'also', 'has', 'to', 'restate', 'and', 'results', 'following', 'probe', 'by', 'the', 'us', 'securities', 'exchange', 'commission', 'sec', 'which', 'is', 'close', 'to', 'concluding', 'time', 'warner', 'fourth', 'quarter', 'profits', 'were', 'slightly', 'better', 'than', 'analysts', 'expectations', 'but', 'its', 'film', 'division', 'saw', 'profits', 'slump', 'to', 'helped', 'by', 'box', 'office', 'flops', 'alexander', 'and', 'catwoman', 'sharp', 'contrast', 'to', 'year', 'earlier', 'when', 'the', 'third', 'and', 'final', 'film', 'in', 'the', 'lord', 'of', 'the', 'rings', 'trilogy', 'boosted', 'results', 'for', 'the', 'full', 'year', 'timewarner', 'posted', 'profit', 'of', 'bn', 'up', 'from', 'its', 'performance', 'while', 'revenues', 'grew', 'to', 'bn', 'our', 'financial', 'performance', 'was', 'strong', 'meeting', 'or', 'exceeding', 'all', 'of', 'our', 'full', 'year', 'objectives', 'and', 'greatly', 'enhancing', 'our', 'flexibility', 'chairman', 'and', 'chief', 'executive', 'richard', 'parsons', 'said', 'for', 'timewarner', 'is', 'projecting', 'operating', 'earnings', 'growth', 'of', 'around', 'and', 'also', 'expects', 'higher', 'revenue', 'and', 'wider', 'profit', 'margins', 'timewarner', 'is', 'to', 'restate', 'its', 'accounts', 'as', 'part', 'of', 'efforts', 'to', 'resolve', 'an', 'inquiry', 'into', 'aol', 'by', 'us', 'market', 'regulators', 'it', 'has', 'already', 'offered', 'to', 'pay', 'to', 'settle', 'charges', 'in', 'deal', 'that', 'is', 'under', 'review', 'by', 'the', 'sec', 'the', 'company', 'said', 'it', 'was', 'unable', 'to', 'estimate', 'the', 'amount', 'it', 'needed', 'to', 'set', 'aside', 'for', 'legal', 'reserves', 'which', 'it', 'previously', 'set', 'at', 'it', 'intends', 'to', 'adjust', 'the', 'way', 'it', 'accounts', 'for', 'deal', 'with', 'german', 'music', 'publisher', 'bertelsmann', 'purchase', 'of', 'stake', 'in', 'aol', 'europe', 'which', 'it', 'had', 'reported', 'as', 'advertising', 'revenue', 'it', 'will', 'now', 'book', 'the', 'sale', 'of', 'its', 'stake', 'in', 'aol', 'europe', 'as', 'loss', 'on', 'the', 'value', 'of', 'that', 'stake'], 'business')\n"
     ]
    }
   ],
   "source": [
    "print(next(read_corpus_file(filename=fp, tokens_only=True)))"
   ]
  },
  {
   "cell_type": "code",
   "execution_count": 50,
   "metadata": {},
   "outputs": [
    {
     "name": "stdout",
     "output_type": "stream",
     "text": [
      "TaggedDocument<['ad', 'sales', 'boost', 'time', 'warner', 'profit', 'quarterly', 'profits', 'at', 'us', 'media', 'giant', 'timewarner', 'jumped', 'to', 'bn', 'for', 'the', 'three', 'months', 'to', 'december', 'from', 'year', 'earlier', 'the', 'firm', 'which', 'is', 'now', 'one', 'of', 'the', 'biggest', 'investors', 'in', 'google', 'benefited', 'from', 'sales', 'of', 'high', 'speed', 'internet', 'connections', 'and', 'higher', 'advert', 'sales', 'timewarner', 'said', 'fourth', 'quarter', 'sales', 'rose', 'to', 'bn', 'from', 'bn', 'its', 'profits', 'were', 'buoyed', 'by', 'one', 'off', 'gains', 'which', 'offset', 'profit', 'dip', 'at', 'warner', 'bros', 'and', 'less', 'users', 'for', 'aol', 'time', 'warner', 'said', 'on', 'friday', 'that', 'it', 'now', 'owns', 'of', 'search', 'engine', 'google', 'but', 'its', 'own', 'internet', 'business', 'aol', 'had', 'has', 'mixed', 'fortunes', 'it', 'lost', 'subscribers', 'in', 'the', 'fourth', 'quarter', 'profits', 'were', 'lower', 'than', 'in', 'the', 'preceding', 'three', 'quarters', 'however', 'the', 'company', 'said', 'aol', 'underlying', 'profit', 'before', 'exceptional', 'items', 'rose', 'on', 'the', 'back', 'of', 'stronger', 'internet', 'advertising', 'revenues', 'it', 'hopes', 'to', 'increase', 'subscribers', 'by', 'offering', 'the', 'online', 'service', 'free', 'to', 'timewarner', 'internet', 'customers', 'and', 'will', 'try', 'to', 'sign', 'up', 'aol', 'existing', 'customers', 'for', 'high', 'speed', 'broadband', 'timewarner', 'also', 'has', 'to', 'restate', 'and', 'results', 'following', 'probe', 'by', 'the', 'us', 'securities', 'exchange', 'commission', 'sec', 'which', 'is', 'close', 'to', 'concluding', 'time', 'warner', 'fourth', 'quarter', 'profits', 'were', 'slightly', 'better', 'than', 'analysts', 'expectations', 'but', 'its', 'film', 'division', 'saw', 'profits', 'slump', 'to', 'helped', 'by', 'box', 'office', 'flops', 'alexander', 'and', 'catwoman', 'sharp', 'contrast', 'to', 'year', 'earlier', 'when', 'the', 'third', 'and', 'final', 'film', 'in', 'the', 'lord', 'of', 'the', 'rings', 'trilogy', 'boosted', 'results', 'for', 'the', 'full', 'year', 'timewarner', 'posted', 'profit', 'of', 'bn', 'up', 'from', 'its', 'performance', 'while', 'revenues', 'grew', 'to', 'bn', 'our', 'financial', 'performance', 'was', 'strong', 'meeting', 'or', 'exceeding', 'all', 'of', 'our', 'full', 'year', 'objectives', 'and', 'greatly', 'enhancing', 'our', 'flexibility', 'chairman', 'and', 'chief', 'executive', 'richard', 'parsons', 'said', 'for', 'timewarner', 'is', 'projecting', 'operating', 'earnings', 'growth', 'of', 'around', 'and', 'also', 'expects', 'higher', 'revenue', 'and', 'wider', 'profit', 'margins', 'timewarner', 'is', 'to', 'restate', 'its', 'accounts', 'as', 'part', 'of', 'efforts', 'to', 'resolve', 'an', 'inquiry', 'into', 'aol', 'by', 'us', 'market', 'regulators', 'it', 'has', 'already', 'offered', 'to', 'pay', 'to', 'settle', 'charges', 'in', 'deal', 'that', 'is', 'under', 'review', 'by', 'the', 'sec', 'the', 'company', 'said', 'it', 'was', 'unable', 'to', 'estimate', 'the', 'amount', 'it', 'needed', 'to', 'set', 'aside', 'for', 'legal', 'reserves', 'which', 'it', 'previously', 'set', 'at', 'it', 'intends', 'to', 'adjust', 'the', 'way', 'it', 'accounts', 'for', 'deal', 'with', 'german', 'music', 'publisher', 'bertelsmann', 'purchase', 'of', 'stake', 'in', 'aol', 'europe', 'which', 'it', 'had', 'reported', 'as', 'advertising', 'revenue', 'it', 'will', 'now', 'book', 'the', 'sale', 'of', 'its', 'stake', 'in', 'aol', 'europe', 'as', 'loss', 'on', 'the', 'value', 'of', 'that', 'stake'], [0]>\n"
     ]
    }
   ],
   "source": [
    "print(next(read_corpus_file(filename=fp, tokens_only=False)))"
   ]
  },
  {
   "cell_type": "code",
   "execution_count": 51,
   "metadata": {},
   "outputs": [
    {
     "name": "stdout",
     "output_type": "stream",
     "text": [
      "[TaggedDocument(words=['ad', 'sales', 'boost', 'time', 'warner', 'profit', 'quarterly', 'profits', 'at', 'us', 'media', 'giant', 'timewarner', 'jumped', 'to', 'bn', 'for', 'the', 'three', 'months', 'to', 'december', 'from', 'year', 'earlier', 'the', 'firm', 'which', 'is', 'now', 'one', 'of', 'the', 'biggest', 'investors', 'in', 'google', 'benefited', 'from', 'sales', 'of', 'high', 'speed', 'internet', 'connections', 'and', 'higher', 'advert', 'sales', 'timewarner', 'said', 'fourth', 'quarter', 'sales', 'rose', 'to', 'bn', 'from', 'bn', 'its', 'profits', 'were', 'buoyed', 'by', 'one', 'off', 'gains', 'which', 'offset', 'profit', 'dip', 'at', 'warner', 'bros', 'and', 'less', 'users', 'for', 'aol', 'time', 'warner', 'said', 'on', 'friday', 'that', 'it', 'now', 'owns', 'of', 'search', 'engine', 'google', 'but', 'its', 'own', 'internet', 'business', 'aol', 'had', 'has', 'mixed', 'fortunes', 'it', 'lost', 'subscribers', 'in', 'the', 'fourth', 'quarter', 'profits', 'were', 'lower', 'than', 'in', 'the', 'preceding', 'three', 'quarters', 'however', 'the', 'company', 'said', 'aol', 'underlying', 'profit', 'before', 'exceptional', 'items', 'rose', 'on', 'the', 'back', 'of', 'stronger', 'internet', 'advertising', 'revenues', 'it', 'hopes', 'to', 'increase', 'subscribers', 'by', 'offering', 'the', 'online', 'service', 'free', 'to', 'timewarner', 'internet', 'customers', 'and', 'will', 'try', 'to', 'sign', 'up', 'aol', 'existing', 'customers', 'for', 'high', 'speed', 'broadband', 'timewarner', 'also', 'has', 'to', 'restate', 'and', 'results', 'following', 'probe', 'by', 'the', 'us', 'securities', 'exchange', 'commission', 'sec', 'which', 'is', 'close', 'to', 'concluding', 'time', 'warner', 'fourth', 'quarter', 'profits', 'were', 'slightly', 'better', 'than', 'analysts', 'expectations', 'but', 'its', 'film', 'division', 'saw', 'profits', 'slump', 'to', 'helped', 'by', 'box', 'office', 'flops', 'alexander', 'and', 'catwoman', 'sharp', 'contrast', 'to', 'year', 'earlier', 'when', 'the', 'third', 'and', 'final', 'film', 'in', 'the', 'lord', 'of', 'the', 'rings', 'trilogy', 'boosted', 'results', 'for', 'the', 'full', 'year', 'timewarner', 'posted', 'profit', 'of', 'bn', 'up', 'from', 'its', 'performance', 'while', 'revenues', 'grew', 'to', 'bn', 'our', 'financial', 'performance', 'was', 'strong', 'meeting', 'or', 'exceeding', 'all', 'of', 'our', 'full', 'year', 'objectives', 'and', 'greatly', 'enhancing', 'our', 'flexibility', 'chairman', 'and', 'chief', 'executive', 'richard', 'parsons', 'said', 'for', 'timewarner', 'is', 'projecting', 'operating', 'earnings', 'growth', 'of', 'around', 'and', 'also', 'expects', 'higher', 'revenue', 'and', 'wider', 'profit', 'margins', 'timewarner', 'is', 'to', 'restate', 'its', 'accounts', 'as', 'part', 'of', 'efforts', 'to', 'resolve', 'an', 'inquiry', 'into', 'aol', 'by', 'us', 'market', 'regulators', 'it', 'has', 'already', 'offered', 'to', 'pay', 'to', 'settle', 'charges', 'in', 'deal', 'that', 'is', 'under', 'review', 'by', 'the', 'sec', 'the', 'company', 'said', 'it', 'was', 'unable', 'to', 'estimate', 'the', 'amount', 'it', 'needed', 'to', 'set', 'aside', 'for', 'legal', 'reserves', 'which', 'it', 'previously', 'set', 'at', 'it', 'intends', 'to', 'adjust', 'the', 'way', 'it', 'accounts', 'for', 'deal', 'with', 'german', 'music', 'publisher', 'bertelsmann', 'purchase', 'of', 'stake', 'in', 'aol', 'europe', 'which', 'it', 'had', 'reported', 'as', 'advertising', 'revenue', 'it', 'will', 'now', 'book', 'the', 'sale', 'of', 'its', 'stake', 'in', 'aol', 'europe', 'as', 'loss', 'on', 'the', 'value', 'of', 'that', 'stake'], tags=[0]), TaggedDocument(words=['dollar', 'gains', 'on', 'greenspan', 'speech', 'the', 'dollar', 'has', 'hit', 'its', 'highest', 'level', 'against', 'the', 'euro', 'in', 'almost', 'three', 'months', 'after', 'the', 'federal', 'reserve', 'head', 'said', 'the', 'us', 'trade', 'deficit', 'is', 'set', 'to', 'stabilise', 'and', 'alan', 'greenspan', 'highlighted', 'the', 'us', 'government', 'willingness', 'to', 'curb', 'spending', 'and', 'rising', 'household', 'savings', 'as', 'factors', 'which', 'may', 'help', 'to', 'reduce', 'it', 'in', 'late', 'trading', 'in', 'new', 'york', 'the', 'dollar', 'reached', 'against', 'the', 'euro', 'from', 'on', 'thursday', 'market', 'concerns', 'about', 'the', 'deficit', 'has', 'hit', 'the', 'greenback', 'in', 'recent', 'months', 'on', 'friday', 'federal', 'reserve', 'chairman', 'mr', 'greenspan', 'speech', 'in', 'london', 'ahead', 'of', 'the', 'meeting', 'of', 'finance', 'ministers', 'sent', 'the', 'dollar', 'higher', 'after', 'it', 'had', 'earlier', 'tumbled', 'on', 'the', 'back', 'of', 'worse', 'than', 'expected', 'us', 'jobs', 'data', 'think', 'the', 'chairman', 'taking', 'much', 'more', 'sanguine', 'view', 'on', 'the', 'current', 'account', 'deficit', 'than', 'he', 'taken', 'for', 'some', 'time', 'said', 'robert', 'sinche', 'head', 'of', 'currency', 'strategy', 'at', 'bank', 'of', 'america', 'in', 'new', 'york', 'he', 'taking', 'longer', 'term', 'view', 'laying', 'out', 'set', 'of', 'conditions', 'under', 'which', 'the', 'current', 'account', 'deficit', 'can', 'improve', 'this', 'year', 'and', 'next', 'worries', 'about', 'the', 'deficit', 'concerns', 'about', 'china', 'do', 'however', 'remain', 'china', 'currency', 'remains', 'pegged', 'to', 'the', 'dollar', 'and', 'the', 'us', 'currency', 'sharp', 'falls', 'in', 'recent', 'months', 'have', 'therefore', 'made', 'chinese', 'export', 'prices', 'highly', 'competitive', 'but', 'calls', 'for', 'shift', 'in', 'beijing', 'policy', 'have', 'fallen', 'on', 'deaf', 'ears', 'despite', 'recent', 'comments', 'in', 'major', 'chinese', 'newspaper', 'that', 'the', 'time', 'is', 'ripe', 'for', 'loosening', 'of', 'the', 'peg', 'the', 'meeting', 'is', 'thought', 'unlikely', 'to', 'produce', 'any', 'meaningful', 'movement', 'in', 'chinese', 'policy', 'in', 'the', 'meantime', 'the', 'us', 'federal', 'reserve', 'decision', 'on', 'february', 'to', 'boost', 'interest', 'rates', 'by', 'quarter', 'of', 'point', 'the', 'sixth', 'such', 'move', 'in', 'as', 'many', 'months', 'has', 'opened', 'up', 'differential', 'with', 'european', 'rates', 'the', 'half', 'point', 'window', 'some', 'believe', 'could', 'be', 'enough', 'to', 'keep', 'us', 'assets', 'looking', 'more', 'attractive', 'and', 'could', 'help', 'prop', 'up', 'the', 'dollar', 'the', 'recent', 'falls', 'have', 'partly', 'been', 'the', 'result', 'of', 'big', 'budget', 'deficits', 'as', 'well', 'as', 'the', 'us', 'yawning', 'current', 'account', 'gap', 'both', 'of', 'which', 'need', 'to', 'be', 'funded', 'by', 'the', 'buying', 'of', 'us', 'bonds', 'and', 'assets', 'by', 'foreign', 'firms', 'and', 'governments', 'the', 'white', 'house', 'will', 'announce', 'its', 'budget', 'on', 'monday', 'and', 'many', 'commentators', 'believe', 'the', 'deficit', 'will', 'remain', 'at', 'close', 'to', 'half', 'trillion', 'dollars'], tags=[1])]\n"
     ]
    }
   ],
   "source": [
    "print(stream_corpus(filename=fp, corpus_size=2, tokens_only=False))"
   ]
  },
  {
   "cell_type": "code",
   "execution_count": 52,
   "metadata": {},
   "outputs": [
    {
     "name": "stdout",
     "output_type": "stream",
     "text": [
      "train_df.shape = (1891, 2)\n",
      " test_df.shape = (333, 2)\n"
     ]
    }
   ],
   "source": [
    "total_size: int = bbc_df.shape[0]\n",
    "train_size: int = int(total_size * 0.85)\n",
    "test_size: int = int(total_size * 0.15)\n",
    "\n",
    "train_df: pl.DataFrame = bbc_df.sample(n=train_size, seed=seed)\n",
    "test_df: pl.DataFrame = bbc_df.sample(n=test_size, seed=seed)\n",
    "\n",
    "print(f\"{train_df.shape = }\\n {test_df.shape = }\")"
   ]
  },
  {
   "cell_type": "code",
   "execution_count": 53,
   "metadata": {},
   "outputs": [],
   "source": [
    "min_len: int = 2\n",
    "max_len: int = 15\n",
    "\n",
    "train_corpus: list[TaggedDocument] = stream_corpus(\n",
    "    data=train_df,\n",
    "    corpus_size=train_size,\n",
    "    min_len=min_len,\n",
    "    max_len=max_len,\n",
    "    tokens_only=False,\n",
    ")\n",
    "test_corpus: list[TaggedDocument] = stream_corpus(\n",
    "    data=test_df,\n",
    "    corpus_size=test_size,\n",
    "    min_len=min_len,\n",
    "    max_len=max_len,\n",
    "    tokens_only=True,\n",
    ")"
   ]
  },
  {
   "cell_type": "code",
   "execution_count": 54,
   "metadata": {},
   "outputs": [],
   "source": [
    "from gensim.models.doc2vec import Doc2Vec\n",
    "\n",
    "\n",
    "dim_size: int = 64  # Dimensionality of the feature vector\n",
    "min_count: int = 2  # Ignores all words with total frequency lower than this.\n",
    "epochs: int = 40  # Number of epochs to train the model\n",
    "corpus_iterable: list[TaggedDocument] = train_corpus\n",
    "\n",
    "# Init the model\n",
    "doc2vec_model: Doc2Vec = Doc2Vec(\n",
    "    vector_size=dim_size, min_count=min_count, epochs=epochs, seed=seed\n",
    ")\n",
    "\n",
    "# Build the vocab\n",
    "doc2vec_model.build_vocab(corpus_iterable=corpus_iterable)\n",
    "\n",
    "# Train the model\n",
    "total_examples: int = doc2vec_model.corpus_count\n",
    "doc2vec_model.train(\n",
    "    corpus_iterable=train_corpus, total_examples=total_examples, epochs=epochs\n",
    ")"
   ]
  },
  {
   "cell_type": "code",
   "execution_count": 55,
   "metadata": {},
   "outputs": [
    {
     "data": {
      "text/plain": [
       "(64,)"
      ]
     },
     "execution_count": 55,
     "metadata": {},
     "output_type": "execute_result"
    }
   ],
   "source": [
    "# Generate vectors\n",
    "res: np.ndarray = doc2vec_model.infer_vector(\n",
    "    [\"to\", \"help\", \"offset\", \"the\", \"increased\"],\n",
    ")\n",
    "res.shape"
   ]
  },
  {
   "cell_type": "code",
   "execution_count": 56,
   "metadata": {},
   "outputs": [],
   "source": [
    "def generate_doc_vectors(corpus: list[list[str]], model: Doc2Vec) -> np.ndarray:\n",
    "    \"\"\"\n",
    "    Generate document vectors for a given corpus using a trained Doc2Vec model.\n",
    "\n",
    "    Parameters\n",
    "    ----------\n",
    "    corpus : list[list[str]]\n",
    "        A list of documents, where each document is a list of strings (words).\n",
    "    model : Doc2Vec\n",
    "        A trained Doc2Vec model.\n",
    "\n",
    "    Returns\n",
    "    -------\n",
    "    np.ndarray\n",
    "        An array of document vectors with shape (n_documents, vector_size).\n",
    "\n",
    "    \"\"\"\n",
    "    # (n_documents, vector_size)\n",
    "    doc_vectors: np.ndarray = np.zeros((len(corpus), model.vector_size))\n",
    "    for i, doc in enumerate(corpus):\n",
    "        doc_vectors[i] = model.infer_vector(doc)\n",
    "    return doc_vectors"
   ]
  },
  {
   "cell_type": "code",
   "execution_count": 57,
   "metadata": {},
   "outputs": [
    {
     "data": {
      "text/plain": [
       "(3, 64)"
      ]
     },
     "execution_count": 57,
     "metadata": {},
     "output_type": "execute_result"
    }
   ],
   "source": [
    "# Test the function\n",
    "corpus: list[list[str]] = [\n",
    "    [\"to\", \"help\", \"offset\", \"the\", \"increased\"],\n",
    "    [\"price\", \"of\", \"aviation\", \"fuel\", \"BA\", \"last\", \"year\", \"introduced\"],\n",
    "    [\"the\", \"new\", \"york\", \"stock\", \"exchange\", \"opened\", \"last\", \"night\"],\n",
    "]\n",
    "\n",
    "gen_vec: np.ndarray = generate_doc_vectors(corpus, doc2vec_model)\n",
    "gen_vec.shape"
   ]
  },
  {
   "cell_type": "code",
   "execution_count": 58,
   "metadata": {},
   "outputs": [
    {
     "data": {
      "text/plain": [
       "array([0, 0, 0, ..., 4, 4, 4])"
      ]
     },
     "execution_count": 58,
     "metadata": {},
     "output_type": "execute_result"
    }
   ],
   "source": [
    "# label encoder scikitlearn\n",
    "from sklearn.preprocessing import LabelEncoder\n",
    "\n",
    "\n",
    "labels: list[str] = bbc_df[\"labels\"].to_list()\n",
    "labels_le: LabelEncoder = LabelEncoder()\n",
    "labels_le.fit_transform(labels)"
   ]
  },
  {
   "cell_type": "code",
   "execution_count": 59,
   "metadata": {},
   "outputs": [
    {
     "name": "stdout",
     "output_type": "stream",
     "text": [
      "train_data_labels: [4 2 2 2 3 2 4 0 2 3]\n"
     ]
    },
    {
     "data": {
      "text/plain": [
       "((1891, 64), 1891)"
      ]
     },
     "execution_count": 59,
     "metadata": {},
     "output_type": "execute_result"
    }
   ],
   "source": [
    "# train_corpus => (tokens, labels)\n",
    "train_data_labels: np.ndarray = labels_le.transform(train_df[\"labels\"].to_list())\n",
    "print(f\"train_data_labels: {train_data_labels[:10]}\")\n",
    "# It doesn't need to be inferred since it was used to train the model.\n",
    "train_data_vectors: np.ndarray = np.zeros(\n",
    "    (len(train_corpus), doc2vec_model.vector_size)\n",
    ")\n",
    "for idx, doc in enumerate(train_corpus):\n",
    "    train_data_vectors[idx] = doc2vec_model.dv[idx]\n",
    "\n",
    "train_data_vectors.shape, len(train_data_labels)"
   ]
  },
  {
   "cell_type": "code",
   "execution_count": 60,
   "metadata": {},
   "outputs": [
    {
     "name": "stdout",
     "output_type": "stream",
     "text": [
      "test_data_labels: [4 2 2 2 3 2 4 0 2 3]\n"
     ]
    },
    {
     "data": {
      "text/plain": [
       "((333, 64), 333)"
      ]
     },
     "execution_count": 60,
     "metadata": {},
     "output_type": "execute_result"
    }
   ],
   "source": [
    "# test_corpus => (tokens, labels)\n",
    "test_data_corpus: list[list[str]]\n",
    "test_data_labels: list[str]\n",
    "test_data_corpus, test_data_labels = test_corpus\n",
    "test_data_labels: np.ndarray = labels_le.transform(test_data_labels)\n",
    "print(f\"test_data_labels: {test_data_labels[:10]}\")\n",
    "\n",
    "test_data_vectors: np.ndarray = generate_doc_vectors(\n",
    "    corpus=test_data_corpus, model=doc2vec_model\n",
    ")\n",
    "\n",
    "test_data_vectors.shape, len(test_data_labels)"
   ]
  },
  {
   "cell_type": "code",
   "execution_count": 61,
   "metadata": {},
   "outputs": [
    {
     "name": "stdout",
     "output_type": "stream",
     "text": [
      "Fold:  1 | Class dist.: [347 268 278 350 269] | Acc: 0.958\n",
      "Fold:  2 | Class dist.: [348 268 278 350 269] | Acc: 0.968\n",
      "Fold:  3 | Class dist.: [347 268 277 351 270] | Acc: 0.942\n",
      "Fold:  4 | Class dist.: [347 268 277 351 270] | Acc: 0.963\n",
      "Fold:  5 | Class dist.: [347 268 278 350 270] | Acc: 0.944\n",
      "\n",
      "CV accuracy: 0.955 +/- 0.010\n",
      "\n",
      "Time taken: 0.279 seconds\n"
     ]
    }
   ],
   "source": [
    "from sklearn.linear_model import LogisticRegression\n",
    "from utils.ml import train_model_with_cross_validation, plot_confusion_matrix\n",
    "\n",
    "\n",
    "log_model: LogisticRegression = LogisticRegression(random_state=seed)\n",
    "\n",
    "# Train model\n",
    "log_model, _, _, _ = train_model_with_cross_validation(\n",
    "    X=train_data_vectors, y=train_data_labels, estimator=log_model, n_splits=5\n",
    ")"
   ]
  },
  {
   "cell_type": "code",
   "execution_count": 62,
   "metadata": {},
   "outputs": [
    {
     "name": "stdout",
     "output_type": "stream",
     "text": [
      "Train accuracy: 0.9884\n",
      "Test accuracy: 0.9910\n"
     ]
    }
   ],
   "source": [
    "from sklearn import metrics\n",
    "\n",
    "y_train_pred: np.ndarray = log_model.predict(train_data_vectors)\n",
    "y_test_pred: np.ndarray = log_model.predict(test_data_vectors)\n",
    "\n",
    "train_acc: float = metrics.accuracy_score(train_data_labels, y_train_pred)\n",
    "test_acc: float = metrics.accuracy_score(test_data_labels, y_test_pred)\n",
    "print(f\"Train accuracy: {train_acc:.4f}\")\n",
    "print(f\"Test accuracy: {test_acc:.4f}\")"
   ]
  },
  {
   "cell_type": "code",
   "execution_count": 63,
   "metadata": {},
   "outputs": [
    {
     "data": {
      "text/plain": [
       "array(['business', 'entertainment', 'politics', 'sport', 'tech'],\n",
       "      dtype='<U13')"
      ]
     },
     "execution_count": 63,
     "metadata": {},
     "output_type": "execute_result"
    }
   ],
   "source": [
    "labels_le.classes_"
   ]
  },
  {
   "cell_type": "code",
   "execution_count": 64,
   "metadata": {},
   "outputs": [
    {
     "data": {
      "image/png": "[encoded data removed]",
      "text/plain": [
       "<Figure size 800x500 with 2 Axes>"
      ]
     },
     "metadata": {},
     "output_type": "display_data"
    }
   ],
   "source": [
    "plot_confusion_matrix(\n",
    "    y_true=train_data_labels, y_pred=y_train_pred, labels=labels_le.classes_\n",
    ")"
   ]
  },
  {
   "cell_type": "code",
   "execution_count": 65,
   "metadata": {},
   "outputs": [
    {
     "data": {
      "image/png": "[encoded data removed]",
      "text/plain": [
       "<Figure size 800x500 with 2 Axes>"
      ]
     },
     "metadata": {},
     "output_type": "display_data"
    }
   ],
   "source": [
    "plot_confusion_matrix(\n",
    "    y_true=test_data_labels, y_pred=y_test_pred, labels=labels_le.classes_\n",
    ")"
   ]
  },
  {
   "cell_type": "code",
   "execution_count": null,
   "metadata": {},
   "outputs": [],
   "source": []
  },
  {
   "cell_type": "markdown",
   "metadata": {},
   "source": [
    "### Pipeline Implementation"
   ]
  },
  {
   "cell_type": "code",
   "execution_count": 66,
   "metadata": {},
   "outputs": [
    {
     "name": "stdout",
     "output_type": "stream",
     "text": [
      "Accuracy: 100.00%\n"
     ]
    }
   ],
   "source": [
    "from gensim.models import Doc2Vec\n",
    "from gensim.models.doc2vec import TaggedDocument\n",
    "from sklearn.base import BaseEstimator, TransformerMixin\n",
    "from sklearn.pipeline import Pipeline\n",
    "from sklearn.linear_model import LogisticRegression\n",
    "from sklearn.model_selection import train_test_split\n",
    "from sklearn.metrics import accuracy_score\n",
    "import numpy as np\n",
    "\n",
    "# Sample Data\n",
    "documents = [\n",
    "    \"This product is terrible and not worth the money.\",\n",
    "    \"This is an amazing tutorial\",\n",
    "    \"I am thrilled with the results and would recommend this to anyone.\",\n",
    "    \"I do not enjoy watching movies that are too long\",\n",
    "    \"Scikit-learn and gensim are great for NLP tasks\",\n",
    "    \"The customer support was unhelpful and rude.\",\n",
    "    \"The quality of this item is simply astonishing—in a bad way.\",  # difficult\n",
    "    \"I enjoy studying artificial intelligence\",\n",
    "    \"The customer support was fantastic—if by fantastic you mean non-existent.\",  # difficult\n",
    "    \"Classification tasks are fun to solve\",\n",
    "]\n",
    "labels = [0, 1, 1, 0, 1, 0, 0, 1, 0, 1]  # Binary labels for demonstration\n",
    "\n",
    "# Preparing TaggedDocuments for training doc2vec\n",
    "tagged_documents = [\n",
    "    TaggedDocument(words=doc.lower().split(), tags=[str(i)])\n",
    "    for i, doc in enumerate(documents)\n",
    "]\n",
    "\n",
    "# Train a doc2vec model\n",
    "doc2vec_model = Doc2Vec(vector_size=20, window=2, min_count=1, workers=4, epochs=100)\n",
    "doc2vec_model.build_vocab(tagged_documents)\n",
    "doc2vec_model.train(\n",
    "    tagged_documents,\n",
    "    total_examples=doc2vec_model.corpus_count,\n",
    "    epochs=doc2vec_model.epochs,\n",
    ")\n",
    "\n",
    "\n",
    "# Custom Transformer to convert documents to doc2vec vectors\n",
    "class Doc2VecTransformer(BaseEstimator, TransformerMixin):\n",
    "    def __init__(self, model):\n",
    "        self.model = model\n",
    "\n",
    "    def fit(self, X, y=None):\n",
    "        return self\n",
    "\n",
    "    def transform(self, X):\n",
    "        return np.array([self.model.infer_vector(doc.split()) for doc in X])\n",
    "\n",
    "\n",
    "# Create a scikit-learn pipeline\n",
    "pipeline = Pipeline(\n",
    "    [\n",
    "        (\"doc2vec\", Doc2VecTransformer(model=doc2vec_model)),\n",
    "        (\"classifier\", LogisticRegression()),\n",
    "    ]\n",
    ")\n",
    "\n",
    "# Train-test split\n",
    "X_train, X_test, y_train, y_test = train_test_split(\n",
    "    documents, labels, test_size=0.2, random_state=42\n",
    ")\n",
    "\n",
    "# Fit the pipeline\n",
    "pipeline.fit(X_train, y_train)\n",
    "\n",
    "# Make predictions\n",
    "y_pred = pipeline.predict(X_test)\n",
    "\n",
    "# Evaluate\n",
    "accuracy = accuracy_score(y_test, y_pred)\n",
    "print(f\"Accuracy: {accuracy * 100:.2f}%\")"
   ]
  },
  {
   "cell_type": "code",
   "execution_count": 67,
   "metadata": {},
   "outputs": [
    {
     "data": {
      "text/plain": [
       "(array([0.5055]), array([1]))"
      ]
     },
     "execution_count": 67,
     "metadata": {},
     "output_type": "execute_result"
    }
   ],
   "source": [
    "text: str = \"I taught it was great but the students hated it.\"\n",
    "# text: str = \"This product is terrible and not worth the money.\"\n",
    "pipeline.predict_proba([text])[:, 1], pipeline.predict([text])"
   ]
  },
  {
   "cell_type": "code",
   "execution_count": null,
   "metadata": {},
   "outputs": [],
   "source": []
  }
 ],
 "metadata": {
  "kernelspec": {
   "display_name": "torch_p11",
   "language": "python",
   "name": "python3"
  },
  "language_info": {
   "codemirror_mode": {
    "name": "ipython",
    "version": 3
   },
   "file_extension": ".py",
   "mimetype": "text/x-python",
   "name": "python",
   "nbconvert_exporter": "python",
   "pygments_lexer": "ipython3",
   "version": "3.11.8"
  }
 },
 "nbformat": 4,
 "nbformat_minor": 2
}
