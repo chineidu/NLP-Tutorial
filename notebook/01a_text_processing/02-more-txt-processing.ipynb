{
 "cells": [
  {
   "cell_type": "markdown",
   "metadata": {},
   "source": [
    "## Text Processing"
   ]
  },
  {
   "cell_type": "code",
   "execution_count": 1,
   "metadata": {},
   "outputs": [
    {
     "name": "stdout",
     "output_type": "stream",
     "text": [
      "Python implementation: CPython\n",
      "Python version       : 3.11.8\n",
      "IPython version      : 8.22.2\n",
      "\n",
      "numpy    : 1.26.4\n",
      "mlxtend  : 0.23.1\n",
      "pandas   : 2.2.1\n",
      "polars   : 0.20.18\n",
      "omegaconf: 2.3.0\n",
      "\n",
      "conda environment: torch_p11\n",
      "\n"
     ]
    }
   ],
   "source": [
    "%load_ext watermark\n",
    "%watermark -v -p numpy,mlxtend,pandas,polars,omegaconf --conda"
   ]
  },
  {
   "cell_type": "code",
   "execution_count": 2,
   "metadata": {},
   "outputs": [],
   "source": [
    "# Built-in library\n",
    "from pathlib import Path\n",
    "import re\n",
    "import json\n",
    "from typing import Any, Optional, Union\n",
    "import logging\n",
    "import warnings\n",
    "\n",
    "# Standard imports\n",
    "import numpy as np\n",
    "import numpy.typing as npt\n",
    "from pprint import pprint\n",
    "import pandas as pd\n",
    "import polars as pl\n",
    "from rich.console import Console\n",
    "from rich.theme import Theme\n",
    "\n",
    "custom_theme = Theme(\n",
    "    {\n",
    "        \"info\": \"#76FF7B\",\n",
    "        \"warning\": \"#FBDDFE\",\n",
    "        \"error\": \"#FF0000\",\n",
    "    }\n",
    ")\n",
    "console = Console(theme=custom_theme)\n",
    "\n",
    "# Visualization\n",
    "import matplotlib.pyplot as plt\n",
    "\n",
    "\n",
    "# Pandas settings\n",
    "pd.options.display.max_rows = 1_000\n",
    "pd.options.display.max_columns = 1_000\n",
    "pd.options.display.max_colwidth = 600\n",
    "\n",
    "# Polars settings\n",
    "pl.Config.set_fmt_str_lengths(1_000)\n",
    "pl.Config.set_tbl_cols(n=1_000)\n",
    "\n",
    "warnings.filterwarnings(\"ignore\")\n",
    "\n",
    "\n",
    "# Black code formatter (Optional)\n",
    "%load_ext lab_black\n",
    "\n",
    "# auto reload imports\n",
    "%load_ext autoreload\n",
    "%autoreload 2"
   ]
  },
  {
   "cell_type": "code",
   "execution_count": 3,
   "metadata": {},
   "outputs": [],
   "source": [
    "import os\n",
    "from tqdm import tqdm\n",
    "\n",
    "\n",
    "def process_imdb_data(basepath: str, total_files: int = 50_000) -> pd.DataFrame:\n",
    "    \"\"\"\n",
    "    Process IMDB movie review data and create a DataFrame.\n",
    "\n",
    "    Parameters\n",
    "    ----------\n",
    "    basepath : str\n",
    "        The base path to the IMDB dataset directory.\n",
    "    total_files : int, optional\n",
    "        The total number of files to process (default is 50,000).\n",
    "\n",
    "    Returns\n",
    "    -------\n",
    "    pd.DataFrame\n",
    "        A DataFrame containing processed movie reviews and their sentiments.\n",
    "        Shape: (n_samples, 2)\n",
    "        Columns: ['review', 'sentiment']\n",
    "    \"\"\"\n",
    "    labels: dict[str, int] = {\"pos\": 1, \"neg\": 0}\n",
    "    df: pd.DataFrame = pd.DataFrame(columns=[\"review\", \"sentiment\"])\n",
    "\n",
    "    with tqdm(total=total_files, desc=\"Processing files\") as pbar:\n",
    "        for s in (\"test\", \"train\"):\n",
    "            for l in (\"pos\", \"neg\"):\n",
    "                path: str = os.path.join(basepath, s, l)\n",
    "                for file in sorted(os.listdir(path)):\n",
    "                    with open(\n",
    "                        os.path.join(path, file), \"r\", encoding=\"utf-8\"\n",
    "                    ) as infile:\n",
    "                        txt: str = infile.read()\n",
    "                    result: pd.DataFrame = pd.DataFrame(\n",
    "                        [[txt, labels[l]]], columns=[\"review\", \"sentiment\"]\n",
    "                    )\n",
    "                    df = pd.concat([df, result], ignore_index=True)\n",
    "                    pbar.update(1)\n",
    "    return df"
   ]
  },
  {
   "cell_type": "code",
   "execution_count": 4,
   "metadata": {},
   "outputs": [],
   "source": [
    "basepath: str = \"../../data/aclImdb/\"\n",
    "# data: pd.DataFrame = process_imdb_data(basepath=basepath)"
   ]
  },
  {
   "cell_type": "code",
   "execution_count": 5,
   "metadata": {},
   "outputs": [
    {
     "data": {
      "text/html": [
       "<div><style>\n",
       ".dataframe > thead > tr,\n",
       ".dataframe > tbody > tr {\n",
       "  text-align: right;\n",
       "  white-space: pre-wrap;\n",
       "}\n",
       "</style>\n",
       "<small>shape: (5, 2)</small><table border=\"1\" class=\"dataframe\"><thead><tr><th>review</th><th>sentiment</th></tr><tr><td>str</td><td>i64</td></tr></thead><tbody><tr><td>&quot;I went and saw this movie last night after being coaxed to by a few friends of mine. I&#x27;ll admit that I was reluctant to see it because from what I knew of Ashton Kutcher he was only able to do comedy. I was wrong. Kutcher played the character of Jake Fischer very well, and Kevin Costner played Ben Randall with such professionalism. The sign of a good movie is that it can toy with our emotions. This one did exactly that. The entire theater (which was sold out) was overcome by laughter during the first half of the movie, and were moved to tears during the second half. While exiting the theater I not only saw many women in tears, but many full grown men as well, trying desperately not to let anyone see them crying. This movie was great, and I suggest that you go see it before you judge.&quot;</td><td>1</td></tr><tr><td>&quot;Actor turned director Bill Paxton follows up his promising debut, the Gothic-horror &quot;Frailty&quot;, with this family friendly sports drama about the 1913 U.S. Open where a young American caddy rises from his humble background to play against his Bristish idol in what was dubbed as &quot;The Greatest Game Ever Played.&quot; I&#x27;m no fan of golf, and these scrappy underdog sports flicks are a dime a dozen (most recently done to grand effect with &quot;Miracle&quot; and &quot;Cinderella Man&quot;), but some how this film was enthralling all the same.&lt;br /&gt;&lt;br /&gt;The film starts with some creative opening credits (imagine a Disneyfied version of the animated opening credits of HBO&#x27;s &quot;Carnivale&quot; and &quot;Rome&quot;), but lumbers along slowly for its first by-the-numbers hour. Once the action moves to the U.S. Open things pick up very well. Paxton does a nice job and shows a knack for effective directorial flourishes (I loved the rain-soaked montage of the action on day two of the open) that propel the plot further or add some unexpecte…</td><td>1</td></tr><tr><td>&quot;As a recreational golfer with some knowledge of the sport&#x27;s history, I was pleased with Disney&#x27;s sensitivity to the issues of class in golf in the early twentieth century. The movie depicted well the psychological battles that Harry Vardon fought within himself, from his childhood trauma of being evicted to his own inability to break that glass ceiling that prevents him from being accepted as an equal in English golf society. Likewise, the young Ouimet goes through his own class struggles, being a mere caddie in the eyes of the upper crust Americans who scoff at his attempts to rise above his standing. &lt;br /&gt;&lt;br /&gt;What I loved best, however, is how this theme of class is manifested in the characters of Ouimet&#x27;s parents. His father is a working-class drone who sees the value of hard work but is intimidated by the upper class; his mother, however, recognizes her son&#x27;s talent and desire and encourages him to pursue his dream of competing against those who think he is inferior.&lt;br /&gt;&lt;br /…</td><td>1</td></tr><tr><td>&quot;I saw this film in a sneak preview, and it is delightful. The cinematography is unusually creative, the acting is good, and the story is fabulous. If this movie does not do well, it won&#x27;t be because it doesn&#x27;t deserve to. Before this film, I didn&#x27;t realize how charming Shia Lebouf could be. He does a marvelous, self-contained, job as the lead. There&#x27;s something incredibly sweet about him, and it makes the movie even better. The other actors do a good job as well, and the film contains moments of really high suspense, more than one might expect from a movie about golf. Sports movies are a dime a dozen, but this one stands out. &lt;br /&gt;&lt;br /&gt;This is one I&#x27;d recommend to anyone.&quot;</td><td>1</td></tr><tr><td>&quot;Bill Paxton has taken the true story of the 1913 US golf open and made a film that is about much more than an extra-ordinary game of golf. The film also deals directly with the class tensions of the early twentieth century and touches upon the profound anti-Catholic prejudices of both the British and American establishments. But at heart the film is about that perennial favourite of triumph against the odds.&lt;br /&gt;&lt;br /&gt;The acting is exemplary throughout. Stephen Dillane is excellent as usual, but the revelation of the movie is Shia LaBoeuf who delivers a disciplined, dignified and highly sympathetic performance as a working class Franco-Irish kid fighting his way through the prejudices of the New England WASP establishment. For those who are only familiar with his slap-stick performances in &quot;Even Stevens&quot; this demonstration of his maturity is a delightful surprise. And Josh Flitter as the ten year old caddy threatens to steal every scene in which he appears.&lt;br /&gt;&lt;br /&gt;A old fashioned…</td><td>1</td></tr></tbody></table></div>"
      ],
      "text/plain": [
       "shape: (5, 2)\n",
       "┌──────────────────────────────────────────────────────────────────────────────────────┬───────────┐\n",
       "│ review                                                                               ┆ sentiment │\n",
       "│ ---                                                                                  ┆ ---       │\n",
       "│ str                                                                                  ┆ i64       │\n",
       "╞══════════════════════════════════════════════════════════════════════════════════════╪═══════════╡\n",
       "│ I went and saw this movie last night after being coaxed to by a few friends of mine. ┆ 1         │\n",
       "│ I'll admit that I was reluctant to see it because from what I knew of Ashton Kutcher ┆           │\n",
       "│ he was only able to do comedy. I was wrong. Kutcher played the character of Jake     ┆           │\n",
       "│ Fischer very well, and Kevin Costner played Ben Randall with such professionalism.   ┆           │\n",
       "│ The sign of a good movie is that it can toy with our emotions. This one did exactly  ┆           │\n",
       "│ that. The entire theater (which was sold out) was overcome by laughter during the    ┆           │\n",
       "│ first half of the movie, and were moved to tears during the second half. While       ┆           │\n",
       "│ exiting the theater I not only saw many women in tears, but many full grown men as   ┆           │\n",
       "│ well, trying desperately not to let anyone see them crying. This movie was great,    ┆           │\n",
       "│ and I suggest that you go see it before you judge.                                   ┆           │\n",
       "│ Actor turned director Bill Paxton follows up his promising debut, the Gothic-horror  ┆ 1         │\n",
       "│ \"Frailty\", with this family friendly sports drama about the 1913 U.S. Open where a   ┆           │\n",
       "│ young American caddy rises from his humble background to play against his Bristish   ┆           │\n",
       "│ idol in what was dubbed as \"The Greatest Game Ever Played.\" I'm no fan of golf, and  ┆           │\n",
       "│ these scrappy underdog sports flicks are a dime a dozen (most recently done to grand ┆           │\n",
       "│ effect with \"Miracle\" and \"Cinderella Man\"), but some how this film was enthralling  ┆           │\n",
       "│ all the same.<br /><br />The film starts with some creative opening credits (imagine ┆           │\n",
       "│ a Disneyfied version of the animated opening credits of HBO's \"Carnivale\" and        ┆           │\n",
       "│ \"Rome\"), but lumbers along slowly for its first by-the-numbers hour. Once the action ┆           │\n",
       "│ moves to the U.S. Open things pick up very well. Paxton does a nice job and shows a  ┆           │\n",
       "│ knack for effective directorial flourishes (I loved the rain-soaked montage of the   ┆           │\n",
       "│ action on day two of the open) that propel the plot further or add some unexpected…  ┆           │\n",
       "│ As a recreational golfer with some knowledge of the sport's history, I was pleased   ┆ 1         │\n",
       "│ with Disney's sensitivity to the issues of class in golf in the early twentieth      ┆           │\n",
       "│ century. The movie depicted well the psychological battles that Harry Vardon fought  ┆           │\n",
       "│ within himself, from his childhood trauma of being evicted to his own inability to   ┆           │\n",
       "│ break that glass ceiling that prevents him from being accepted as an equal in        ┆           │\n",
       "│ English golf society. Likewise, the young Ouimet goes through his own class          ┆           │\n",
       "│ struggles, being a mere caddie in the eyes of the upper crust Americans who scoff at ┆           │\n",
       "│ his attempts to rise above his standing. <br /><br />What I loved best, however, is  ┆           │\n",
       "│ how this theme of class is manifested in the characters of Ouimet's parents. His     ┆           │\n",
       "│ father is a working-class drone who sees the value of hard work but is intimidated   ┆           │\n",
       "│ by the upper class; his mother, however, recognizes her son's talent and desire and  ┆           │\n",
       "│ encourages him to pursue his dream of competing against those who think he is        ┆           │\n",
       "│ inferior.<br /><br />…                                                               ┆           │\n",
       "│ I saw this film in a sneak preview, and it is delightful. The cinematography is      ┆ 1         │\n",
       "│ unusually creative, the acting is good, and the story is fabulous. If this movie     ┆           │\n",
       "│ does not do well, it won't be because it doesn't deserve to. Before this film, I     ┆           │\n",
       "│ didn't realize how charming Shia Lebouf could be. He does a marvelous,               ┆           │\n",
       "│ self-contained, job as the lead. There's something incredibly sweet about him, and   ┆           │\n",
       "│ it makes the movie even better. The other actors do a good job as well, and the film ┆           │\n",
       "│ contains moments of really high suspense, more than one might expect from a movie    ┆           │\n",
       "│ about golf. Sports movies are a dime a dozen, but this one stands out. <br /><br     ┆           │\n",
       "│ />This is one I'd recommend to anyone.                                               ┆           │\n",
       "│ Bill Paxton has taken the true story of the 1913 US golf open and made a film that   ┆ 1         │\n",
       "│ is about much more than an extra-ordinary game of golf. The film also deals directly ┆           │\n",
       "│ with the class tensions of the early twentieth century and touches upon the profound ┆           │\n",
       "│ anti-Catholic prejudices of both the British and American establishments. But at     ┆           │\n",
       "│ heart the film is about that perennial favourite of triumph against the odds.<br     ┆           │\n",
       "│ /><br />The acting is exemplary throughout. Stephen Dillane is excellent as usual,   ┆           │\n",
       "│ but the revelation of the movie is Shia LaBoeuf who delivers a disciplined,          ┆           │\n",
       "│ dignified and highly sympathetic performance as a working class Franco-Irish kid     ┆           │\n",
       "│ fighting his way through the prejudices of the New England WASP establishment. For   ┆           │\n",
       "│ those who are only familiar with his slap-stick performances in \"Even Stevens\" this  ┆           │\n",
       "│ demonstration of his maturity is a delightful surprise. And Josh Flitter as the ten  ┆           │\n",
       "│ year old caddy threatens to steal every scene in which he appears.<br /><br />A old  ┆           │\n",
       "│ fashioned …                                                                          ┆           │\n",
       "└──────────────────────────────────────────────────────────────────────────────────────┴───────────┘"
      ]
     },
     "execution_count": 5,
     "metadata": {},
     "output_type": "execute_result"
    }
   ],
   "source": [
    "basepath: str = \"../../data/ImDB_data.parquet\"\n",
    "df: pl.DataFrame = pl.read_parquet(basepath)\n",
    "df.head()"
   ]
  },
  {
   "cell_type": "code",
   "execution_count": 6,
   "metadata": {},
   "outputs": [
    {
     "data": {
      "text/plain": [
       "(50000, 2)"
      ]
     },
     "execution_count": 6,
     "metadata": {},
     "output_type": "execute_result"
    }
   ],
   "source": [
    "df.shape"
   ]
  },
  {
   "cell_type": "code",
   "execution_count": 7,
   "metadata": {},
   "outputs": [
    {
     "data": {
      "text/html": [
       "<pre style=\"white-space:pre;overflow-x:auto;line-height:normal;font-family:Menlo,'DejaVu Sans Mono',consolas,'Courier New',monospace\"><span style=\"font-weight: bold\">[</span>\n",
       "    <span style=\"color: #008000; text-decoration-color: #008000\">\"I went and saw this movie last night after being coaxed to by a few friends of mine. I'll admit that I was </span>\n",
       "<span style=\"color: #008000; text-decoration-color: #008000\">reluctant to see it because from what I knew of Ashton Kutcher he was only able to do comedy. I was wrong. Kutcher </span>\n",
       "<span style=\"color: #008000; text-decoration-color: #008000\">played the character of Jake Fischer very well, and Kevin Costner played Ben Randall with such professionalism. The</span>\n",
       "<span style=\"color: #008000; text-decoration-color: #008000\">sign of a good movie is that it can toy with our emotions. This one did exactly that. The entire theater (which was</span>\n",
       "<span style=\"color: #008000; text-decoration-color: #008000\">sold out) was overcome by laughter during the first half of the movie, and were moved to tears during the second </span>\n",
       "<span style=\"color: #008000; text-decoration-color: #008000\">half. While exiting the theater I not only saw many women in tears, but many full grown men as well, trying </span>\n",
       "<span style=\"color: #008000; text-decoration-color: #008000\">desperately not to let anyone see them crying. This movie was great, and I suggest that you go see it before you </span>\n",
       "<span style=\"color: #008000; text-decoration-color: #008000\">judge.\"</span>,\n",
       "    <span style=\"color: #008000; text-decoration-color: #008000\">'Actor turned director Bill Paxton follows up his promising debut, the Gothic-horror \"Frailty\", with this </span>\n",
       "<span style=\"color: #008000; text-decoration-color: #008000\">family friendly sports drama about the 1913 U.S. Open where a young American caddy rises from his humble background</span>\n",
       "<span style=\"color: #008000; text-decoration-color: #008000\">to play against his Bristish idol in what was dubbed as \"The Greatest Game Ever Played.\" I\\'m no fan of golf, and </span>\n",
       "<span style=\"color: #008000; text-decoration-color: #008000\">these scrappy underdog sports flicks are a dime a dozen (most recently done to grand effect with \"Miracle\" and </span>\n",
       "<span style=\"color: #008000; text-decoration-color: #008000\">\"Cinderella Man\"), but some how this film was enthralling all the same.&lt;br /&gt;&lt;br /&gt;The film starts with some </span>\n",
       "<span style=\"color: #008000; text-decoration-color: #008000\">creative opening credits (imagine a Disneyfied version of the animated opening credits of HBO\\'s \"Carnivale\" and </span>\n",
       "<span style=\"color: #008000; text-decoration-color: #008000\">\"Rome\"), but lumbers along slowly for its first by-the-numbers hour. Once the action moves to the U.S. Open things </span>\n",
       "<span style=\"color: #008000; text-decoration-color: #008000\">pick up very well. Paxton does a nice job and shows a knack for effective directorial flourishes (I loved the </span>\n",
       "<span style=\"color: #008000; text-decoration-color: #008000\">rain-soaked montage of the action on day two of the open) that propel the plot further or add some unexpected </span>\n",
       "<span style=\"color: #008000; text-decoration-color: #008000\">psychological depth to the proceedings. There\\'s some compelling character development when the British Harry </span>\n",
       "<span style=\"color: #008000; text-decoration-color: #008000\">Vardon is haunted by images of the aristocrats in black suits and top hats who destroyed his family cottage as a </span>\n",
       "<span style=\"color: #008000; text-decoration-color: #008000\">child to make way for a golf course. He also does a good job of visually depicting what goes on in the players\\' </span>\n",
       "<span style=\"color: #008000; text-decoration-color: #008000\">heads under pressure. Golf, a painfully boring sport, is brought vividly alive here. Credit should also be given </span>\n",
       "<span style=\"color: #008000; text-decoration-color: #008000\">the set designers and costume department for creating an engaging period-piece atmosphere of London and Boston at </span>\n",
       "<span style=\"color: #008000; text-decoration-color: #008000\">the beginning of the twentieth century.&lt;br /&gt;&lt;br /&gt;You know how this is going to end not only because it\\'s based </span>\n",
       "<span style=\"color: #008000; text-decoration-color: #008000\">on a true story but also because films in this genre follow the same template over and over, but Paxton puts on a </span>\n",
       "<span style=\"color: #008000; text-decoration-color: #008000\">better than average show and perhaps indicates more talent behind the camera than he ever had in front of it. </span>\n",
       "<span style=\"color: #008000; text-decoration-color: #008000\">Despite the formulaic nature, this is a nice and easy film to root for that deserves to find an audience.'</span>\n",
       "<span style=\"font-weight: bold\">]</span>\n",
       "</pre>\n"
      ],
      "text/plain": [
       "\u001b[1m[\u001b[0m\n",
       "    \u001b[32m\"I went and saw this movie last night after being coaxed to by a few friends of mine. I'll admit that I was \u001b[0m\n",
       "\u001b[32mreluctant to see it because from what I knew of Ashton Kutcher he was only able to do comedy. I was wrong. Kutcher \u001b[0m\n",
       "\u001b[32mplayed the character of Jake Fischer very well, and Kevin Costner played Ben Randall with such professionalism. The\u001b[0m\n",
       "\u001b[32msign of a good movie is that it can toy with our emotions. This one did exactly that. The entire theater \u001b[0m\u001b[32m(\u001b[0m\u001b[32mwhich was\u001b[0m\n",
       "\u001b[32msold out\u001b[0m\u001b[32m)\u001b[0m\u001b[32m was overcome by laughter during the first half of the movie, and were moved to tears during the second \u001b[0m\n",
       "\u001b[32mhalf. While exiting the theater I not only saw many women in tears, but many full grown men as well, trying \u001b[0m\n",
       "\u001b[32mdesperately not to let anyone see them crying. This movie was great, and I suggest that you go see it before you \u001b[0m\n",
       "\u001b[32mjudge.\"\u001b[0m,\n",
       "    \u001b[32m'Actor turned director Bill Paxton follows up his promising debut, the Gothic-horror \"Frailty\", with this \u001b[0m\n",
       "\u001b[32mfamily friendly sports drama about the 1913 U.S. Open where a young American caddy rises from his humble background\u001b[0m\n",
       "\u001b[32mto play against his Bristish idol in what was dubbed as \"The Greatest Game Ever Played.\" I\\'m no fan of golf, and \u001b[0m\n",
       "\u001b[32mthese scrappy underdog sports flicks are a dime a dozen \u001b[0m\u001b[32m(\u001b[0m\u001b[32mmost recently done to grand effect with \"Miracle\" and \u001b[0m\n",
       "\u001b[32m\"Cinderella Man\"\u001b[0m\u001b[32m)\u001b[0m\u001b[32m, but some how this film was enthralling all the same.\u001b[0m\u001b[32m<\u001b[0m\u001b[32mbr\u001b[0m\u001b[32m /><br />The film starts with some \u001b[0m\n",
       "\u001b[32mcreative opening credits \u001b[0m\u001b[32m(\u001b[0m\u001b[32mimagine a Disneyfied version of the animated opening credits of HBO\\'s \"Carnivale\" and \u001b[0m\n",
       "\u001b[32m\"Rome\"\u001b[0m\u001b[32m)\u001b[0m\u001b[32m, but lumbers along slowly for its first by-the-numbers hour. Once the action moves to the U.S. Open things \u001b[0m\n",
       "\u001b[32mpick up very well. Paxton does a nice job and shows a knack for effective directorial flourishes \u001b[0m\u001b[32m(\u001b[0m\u001b[32mI loved the \u001b[0m\n",
       "\u001b[32mrain-soaked montage of the action on day two of the open\u001b[0m\u001b[32m)\u001b[0m\u001b[32m that propel the plot further or add some unexpected \u001b[0m\n",
       "\u001b[32mpsychological depth to the proceedings. There\\'s some compelling character development when the British Harry \u001b[0m\n",
       "\u001b[32mVardon is haunted by images of the aristocrats in black suits and top hats who destroyed his family cottage as a \u001b[0m\n",
       "\u001b[32mchild to make way for a golf course. He also does a good job of visually depicting what goes on in the players\\' \u001b[0m\n",
       "\u001b[32mheads under pressure. Golf, a painfully boring sport, is brought vividly alive here. Credit should also be given \u001b[0m\n",
       "\u001b[32mthe set designers and costume department for creating an engaging period-piece atmosphere of London and Boston at \u001b[0m\n",
       "\u001b[32mthe beginning of the twentieth century.<br /><br /\u001b[0m\u001b[32m>\u001b[0m\u001b[32mYou know how this is going to end not only because it\\'s based \u001b[0m\n",
       "\u001b[32mon a true story but also because films in this genre follow the same template over and over, but Paxton puts on a \u001b[0m\n",
       "\u001b[32mbetter than average show and perhaps indicates more talent behind the camera than he ever had in front of it. \u001b[0m\n",
       "\u001b[32mDespite the formulaic nature, this is a nice and easy film to root for that deserves to find an audience.'\u001b[0m\n",
       "\u001b[1m]\u001b[0m\n"
      ]
     },
     "metadata": {},
     "output_type": "display_data"
    }
   ],
   "source": [
    "console.print(df.select(\"review\").to_series().to_list()[:2])"
   ]
  },
  {
   "cell_type": "markdown",
   "metadata": {},
   "source": [
    "### Text Cleaning"
   ]
  },
  {
   "cell_type": "code",
   "execution_count": 8,
   "metadata": {},
   "outputs": [],
   "source": [
    "def preprocessor(text: str) -> str:\n",
    "    \"\"\"\n",
    "    Preprocess the input text by removing HTML tags, extracting emoticons,\n",
    "    and converting to lowercase.\n",
    "\n",
    "    Parameters\n",
    "    ----------\n",
    "    text : str\n",
    "        The input text to be preprocessed.\n",
    "\n",
    "    Returns\n",
    "    -------\n",
    "    str\n",
    "        The preprocessed text with HTML tags removed, emoticons extracted,\n",
    "        and converted to lowercase.\n",
    "    \"\"\"\n",
    "    text = re.sub(\"<[^>]*>\", \"\", text)\n",
    "    emoticons: list[str] = re.findall(\"(?::|;|=)(?:-)?(?:\\)|\\(|D|P)\", text)\n",
    "    text = re.sub(\"[\\W]+\", \" \", text.lower()) + \" \".join(emoticons).replace(\"-\", \"\")\n",
    "    return text"
   ]
  },
  {
   "cell_type": "code",
   "execution_count": 9,
   "metadata": {},
   "outputs": [
    {
     "data": {
      "text/plain": [
       "' chukwu oma ki bu :) :) :( :('"
      ]
     },
     "execution_count": 9,
     "metadata": {},
     "output_type": "execute_result"
    }
   ],
   "source": [
    "# The prepocessor removes all non-word characters, html tags, converts the text\n",
    "# to lower case and appends the emoticons to the end of the text.\n",
    "text: str = \":) Chukwu oma ki bu :) <some html tags> :-( :(\"\n",
    "preprocessor(text)"
   ]
  },
  {
   "cell_type": "code",
   "execution_count": null,
   "metadata": {},
   "outputs": [],
   "source": []
  },
  {
   "cell_type": "code",
   "execution_count": null,
   "metadata": {},
   "outputs": [],
   "source": []
  }
 ],
 "metadata": {
  "kernelspec": {
   "display_name": "torch p_311",
   "language": "python",
   "name": "torch_p11"
  },
  "language_info": {
   "codemirror_mode": {
    "name": "ipython",
    "version": 3
   },
   "file_extension": ".py",
   "mimetype": "text/x-python",
   "name": "python",
   "nbconvert_exporter": "python",
   "pygments_lexer": "ipython3",
   "version": "3.11.8"
  }
 },
 "nbformat": 4,
 "nbformat_minor": 2
}
