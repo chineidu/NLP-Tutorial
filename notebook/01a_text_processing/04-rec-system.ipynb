{
 "cells": [
  {
   "cell_type": "markdown",
   "metadata": {},
   "source": [
    "# Recommendation Systems\n",
    "\n",
    "- **`Content Based Recommendation`**\n",
    "  - Recommends items based on their characteristics and a user's preferences for those characteristics.\n",
    "  - For example, a movie recommender might suggest films with similar genres or actors to ones a user has liked in the past.\n",
    "\n",
    "- **`Collaborative Filtering`**\n",
    "  - recommends items based on the preferences of similar users.\n",
    "  - It doesn't require knowledge of the items themselves, just information about user interactions.\n",
    "  - For example, a music streaming service might recommend songs that other users with similar tastes have enjoyed."
   ]
  },
  {
   "cell_type": "code",
   "execution_count": null,
   "metadata": {},
   "outputs": [],
   "source": []
  }
 ],
 "metadata": {
  "language_info": {
   "name": "python"
  }
 },
 "nbformat": 4,
 "nbformat_minor": 2
}
