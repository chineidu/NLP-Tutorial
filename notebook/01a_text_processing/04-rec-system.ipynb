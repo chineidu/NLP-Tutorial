{
 "cells": [
  {
   "cell_type": "markdown",
   "metadata": {},
   "source": [
    "# Recommendation Systems\n",
    "\n",
    "- **`Content Based Recommendation`**\n",
    "  - Recommends items based on their characteristics and a user's preferences for those characteristics.\n",
    "  - For example, a movie recommender might suggest films with similar genres or actors to ones a user has liked in the past.\n",
    "\n",
    "- **`Collaborative Filtering`**\n",
    "  - recommends items based on the preferences of similar users.\n",
    "  - It doesn't require knowledge of the items themselves, just information about user interactions.\n",
    "  - For example, a music streaming service might recommend songs that other users with similar tastes have enjoyed."
   ]
  },
  {
   "cell_type": "code",
   "execution_count": 1,
   "metadata": {},
   "outputs": [
    {
     "name": "stdout",
     "output_type": "stream",
     "text": [
      "Python implementation: CPython\n",
      "Python version       : 3.11.8\n",
      "IPython version      : 8.22.2\n",
      "\n",
      "numpy    : 1.26.4\n",
      "pandas   : 2.2.1\n",
      "polars   : 0.20.18\n",
      "mlxtend  : 0.23.1\n",
      "omegaconf: 2.3.0\n",
      "\n",
      "conda environment: torch_p11\n",
      "\n"
     ]
    }
   ],
   "source": [
    "%load_ext watermark\n",
    "%watermark -v -p numpy,pandas,polars,mlxtend,omegaconf --conda"
   ]
  },
  {
   "cell_type": "code",
   "execution_count": 2,
   "metadata": {},
   "outputs": [],
   "source": [
    "# Built-in library\n",
    "from pathlib import Path\n",
    "import re\n",
    "import json\n",
    "from typing import Any, Optional, Union\n",
    "import logging\n",
    "import warnings\n",
    "\n",
    "# Standard imports\n",
    "import numpy as np\n",
    "import numpy.typing as npt\n",
    "from pprint import pprint\n",
    "import pandas as pd\n",
    "import polars as pl\n",
    "from rich.console import Console\n",
    "from rich.theme import Theme\n",
    "\n",
    "custom_theme = Theme(\n",
    "    {\n",
    "        \"info\": \"#76FF7B\",\n",
    "        \"warning\": \"#FBDDFE\",\n",
    "        \"error\": \"#FF0000\",\n",
    "    }\n",
    ")\n",
    "console = Console(theme=custom_theme)\n",
    "\n",
    "# Visualization\n",
    "import matplotlib.pyplot as plt\n",
    "\n",
    "# NumPy settings\n",
    "np.set_printoptions(precision=4)\n",
    "\n",
    "# Pandas settings\n",
    "pd.options.display.max_rows = 1_000\n",
    "pd.options.display.max_columns = 1_000\n",
    "pd.options.display.max_colwidth = 600\n",
    "\n",
    "# Polars settings\n",
    "pl.Config.set_fmt_str_lengths(1_000)\n",
    "pl.Config.set_tbl_cols(n=1_000)\n",
    "pl.Config.set_tbl_rows(n=200)\n",
    "\n",
    "warnings.filterwarnings(\"ignore\")\n",
    "\n",
    "\n",
    "# auto reload imports# Built-in library\n",
    "from pathlib import Path\n",
    "import re\n",
    "import json\n",
    "from typing import Any, Optional, Union\n",
    "import logging\n",
    "import warnings\n",
    "\n",
    "# Standard imports\n",
    "import numpy as np\n",
    "import numpy.typing as npt\n",
    "from pprint import pprint\n",
    "import pandas as pd\n",
    "import polars as pl\n",
    "from rich.console import Console\n",
    "from rich.theme import Theme\n",
    "\n",
    "custom_theme = Theme(\n",
    "    {\n",
    "        \"info\": \"#76FF7B\",\n",
    "        \"warning\": \"#FBDDFE\",\n",
    "        \"error\": \"#FF0000\",\n",
    "    }\n",
    ")\n",
    "console = Console(theme=custom_theme)\n",
    "\n",
    "# Visualization\n",
    "import matplotlib.pyplot as plt\n",
    "\n",
    "# NumPy settings\n",
    "np.set_printoptions(precision=4)\n",
    "\n",
    "# Pandas settings\n",
    "pd.options.display.max_rows = 1_000\n",
    "pd.options.display.max_columns = 1_000\n",
    "pd.options.display.max_colwidth = 600\n",
    "\n",
    "# Polars settings\n",
    "pl.Config.set_fmt_str_lengths(1_000)\n",
    "pl.Config.set_tbl_cols(n=1_000)\n",
    "\n",
    "warnings.filterwarnings(\"ignore\")\n",
    "\n",
    "\n",
    "# Black code formatter (Optional)\n",
    "%load_ext lab_black\n",
    "\n",
    "# auto reload imports\n",
    "%load_ext autoreload\n",
    "%autoreload 2"
   ]
  },
  {
   "cell_type": "code",
   "execution_count": 3,
   "metadata": {},
   "outputs": [],
   "source": [
    "from tqdm import tqdm\n",
    "from typing import Generator\n",
    "\n",
    "\n",
    "def process_text(text: list[str]) -> list[str]:\n",
    "    \"\"\"\n",
    "    Process a list of text lines to extract product IDs and categories.\n",
    "\n",
    "    Parameters\n",
    "    ----------\n",
    "    text : list[str]\n",
    "        A list of strings representing lines of text to process.\n",
    "\n",
    "    Returns\n",
    "    -------\n",
    "    list[str]\n",
    "        A list of strings, each containing a product ID and its associated category.\n",
    "    \"\"\"\n",
    "    result: list[str] = []\n",
    "    # Starts with a capital letter and then lowercase letters\n",
    "    pattern: re.Pattern[str] = re.compile(r\"^[A-Z][a-z]+\")\n",
    "    prod_id: str = \"\"\n",
    "\n",
    "    for line in tqdm(text, desc=\"Processing Text\", unit=\"line\", ncols=100):\n",
    "        line: str = line.strip()\n",
    "        if len(line.split(\",\")) == 1 and not pattern.match(line):\n",
    "            prod_id = line\n",
    "        elif pattern.match(line):\n",
    "            result.append(f\"{prod_id}: {line}\")\n",
    "\n",
    "    return result\n",
    "\n",
    "\n",
    "def parse_keys_values(filename: str) -> Generator[dict[str, str], None, None]:\n",
    "    \"\"\"\n",
    "    Parse key-value pairs from a file.\n",
    "\n",
    "    Parameters\n",
    "    ----------\n",
    "    filename : str\n",
    "        The path to the file to be parsed.\n",
    "\n",
    "    Yields\n",
    "    ------\n",
    "    dict[str, str]\n",
    "        A dictionary containing key-value pairs parsed from the file.\n",
    "\n",
    "    \"\"\"\n",
    "    entry: dict[str, str] = {}\n",
    "    f = open(filename, \"rb\")\n",
    "\n",
    "    # Iterate over all lines in the file.\n",
    "    for l in f:\n",
    "        l = l.strip()\n",
    "        # The key/value pairs are separated by a colon.\n",
    "        colonPos: int = l.find(b\":\")\n",
    "        if colonPos == -1:\n",
    "            yield entry\n",
    "            entry = {}\n",
    "            continue\n",
    "        key: str = l[:colonPos].decode(\"latin-1\")\n",
    "        value: str = l[colonPos + 2 :].decode(\"latin-1\")\n",
    "        entry[key] = value\n",
    "    yield entry\n",
    "\n",
    "\n",
    "def read_reviews(path: str, num: int = -1) -> pl.DataFrame:\n",
    "    \"\"\"\n",
    "    Read reviews from a file and return them as a Polars DataFrame.\n",
    "\n",
    "    Parameters\n",
    "    ----------\n",
    "    path : str\n",
    "        The path to the file containing the reviews.\n",
    "    num : int, optional\n",
    "        The number of reviews to read. If -1, read all reviews. Default is -1.\n",
    "\n",
    "    Returns\n",
    "    -------\n",
    "    pl.DataFrame\n",
    "        A Polars DataFrame containing the parsed reviews.\n",
    "\n",
    "    \"\"\"\n",
    "    i: int = 0\n",
    "    df: dict[int, dict[str, str]] = {}\n",
    "    for d in parse_keys_values(path):\n",
    "        df[i] = d\n",
    "        i += 1\n",
    "        if i == num:\n",
    "            break\n",
    "    result: pl.DataFrame = pl.DataFrame([x for x in df.values()])\n",
    "    return result"
   ]
  },
  {
   "cell_type": "code",
   "execution_count": 4,
   "metadata": {},
   "outputs": [
    {
     "name": "stdout",
     "output_type": "stream",
     "text": [
      "prod_categories.shape = (2437878, 2)\n"
     ]
    },
    {
     "data": {
      "text/html": [
       "<div><style>\n",
       ".dataframe > thead > tr,\n",
       ".dataframe > tbody > tr {\n",
       "  text-align: right;\n",
       "  white-space: pre-wrap;\n",
       "}\n",
       "</style>\n",
       "<small>shape: (3, 2)</small><table border=\"1\" class=\"dataframe\"><thead><tr><th>product_id</th><th>product_category</th></tr><tr><td>str</td><td>str</td></tr></thead><tbody><tr><td>&quot;B00005AL88&quot;</td><td>&quot;Cookware,  Cookware Sets,  Kitchen &amp; Dining, Home &amp; Kitchen&quot;</td></tr><tr><td>&quot;B000002ERS&quot;</td><td>&quot;Music,  World Music Music,  Latin Music&quot;</td></tr><tr><td>&quot;B000PR126O&quot;</td><td>&quot;Jewelry,  Charms&quot;</td></tr></tbody></table></div>"
      ],
      "text/plain": [
       "shape: (3, 2)\n",
       "┌────────────┬─────────────────────────────────────────────────────────────┐\n",
       "│ product_id ┆ product_category                                            │\n",
       "│ ---        ┆ ---                                                         │\n",
       "│ str        ┆ str                                                         │\n",
       "╞════════════╪═════════════════════════════════════════════════════════════╡\n",
       "│ B00005AL88 ┆ Cookware,  Cookware Sets,  Kitchen & Dining, Home & Kitchen │\n",
       "│ B000002ERS ┆ Music,  World Music Music,  Latin Music                     │\n",
       "│ B000PR126O ┆ Jewelry,  Charms                                            │\n",
       "└────────────┴─────────────────────────────────────────────────────────────┘"
      ]
     },
     "execution_count": 4,
     "metadata": {},
     "output_type": "execute_result"
    }
   ],
   "source": [
    "fp: str = \"../../data/prod_categories.parquet\"\n",
    "\n",
    "prod_categories: pl.DataFrame = pl.read_parquet(fp)\n",
    "print(f\"{prod_categories.shape = }\")\n",
    "prod_categories.head(3)"
   ]
  },
  {
   "cell_type": "code",
   "execution_count": 5,
   "metadata": {},
   "outputs": [
    {
     "data": {
      "text/plain": [
       "polars.config.Config"
      ]
     },
     "execution_count": 5,
     "metadata": {},
     "output_type": "execute_result"
    }
   ],
   "source": [
    "# Set verbosity level\n",
    "pl.Config.set_fmt_str_lengths(100)"
   ]
  },
  {
   "cell_type": "code",
   "execution_count": 6,
   "metadata": {},
   "outputs": [
    {
     "name": "stdout",
     "output_type": "stream",
     "text": [
      "df_music.shape = (6396351, 10)\n"
     ]
    },
    {
     "data": {
      "text/html": [
       "<div><style>\n",
       ".dataframe > thead > tr,\n",
       ".dataframe > tbody > tr {\n",
       "  text-align: right;\n",
       "  white-space: pre-wrap;\n",
       "}\n",
       "</style>\n",
       "<small>shape: (2, 10)</small><table border=\"1\" class=\"dataframe\"><thead><tr><th>productId</th><th>title</th><th>price</th><th>userId</th><th>profileName</th><th>helpfulness</th><th>score</th><th>time</th><th>summary</th><th>text</th></tr><tr><td>str</td><td>str</td><td>str</td><td>str</td><td>str</td><td>str</td><td>f32</td><td>str</td><td>str</td><td>str</td></tr></thead><tbody><tr><td>&quot;B00002066I&quot;</td><td>&quot;ah&quot;</td><td>&quot;15.99&quot;</td><td>&quot;unknown&quot;</td><td>&quot;unknown&quot;</td><td>&quot;3/4&quot;</td><td>5.0</td><td>&quot;939772800&quot;</td><td>&quot;Inspiring&quot;</td><td>&quot;I hope a lot of people hear this cd. We need more strong and positive vibes like this. Great vocals…</td></tr><tr><td>&quot;B00002066I&quot;</td><td>&quot;ah&quot;</td><td>&quot;15.99&quot;</td><td>&quot;A2KLYVAS0MIBMQ&quot;</td><td>&quot;Stephen McClaning&quot;</td><td>&quot;0/0&quot;</td><td>5.0</td><td>&quot;1332288000&quot;</td><td>&quot;Great CD&quot;</td><td>&quot;My lovely Pat has one of the GREAT voices of her generation. I have listened to this CD for YEARS a…</td></tr></tbody></table></div>"
      ],
      "text/plain": [
       "shape: (2, 10)\n",
       "┌──────────┬───────┬───────┬──────────┬──────────┬──────────┬───────┬──────────┬─────────┬─────────┐\n",
       "│ productI ┆ title ┆ price ┆ userId   ┆ profileN ┆ helpfuln ┆ score ┆ time     ┆ summary ┆ text    │\n",
       "│ d        ┆ ---   ┆ ---   ┆ ---      ┆ ame      ┆ ess      ┆ ---   ┆ ---      ┆ ---     ┆ ---     │\n",
       "│ ---      ┆ str   ┆ str   ┆ str      ┆ ---      ┆ ---      ┆ f32   ┆ str      ┆ str     ┆ str     │\n",
       "│ str      ┆       ┆       ┆          ┆ str      ┆ str      ┆       ┆          ┆         ┆         │\n",
       "╞══════════╪═══════╪═══════╪══════════╪══════════╪══════════╪═══════╪══════════╪═════════╪═════════╡\n",
       "│ B0000206 ┆ ah    ┆ 15.99 ┆ unknown  ┆ unknown  ┆ 3/4      ┆ 5.0   ┆ 93977280 ┆ Inspiri ┆ I hope  │\n",
       "│ 6I       ┆       ┆       ┆          ┆          ┆          ┆       ┆ 0        ┆ ng      ┆ a lot   │\n",
       "│          ┆       ┆       ┆          ┆          ┆          ┆       ┆          ┆         ┆ of      │\n",
       "│          ┆       ┆       ┆          ┆          ┆          ┆       ┆          ┆         ┆ people  │\n",
       "│          ┆       ┆       ┆          ┆          ┆          ┆       ┆          ┆         ┆ hear    │\n",
       "│          ┆       ┆       ┆          ┆          ┆          ┆       ┆          ┆         ┆ this    │\n",
       "│          ┆       ┆       ┆          ┆          ┆          ┆       ┆          ┆         ┆ cd. We  │\n",
       "│          ┆       ┆       ┆          ┆          ┆          ┆       ┆          ┆         ┆ need    │\n",
       "│          ┆       ┆       ┆          ┆          ┆          ┆       ┆          ┆         ┆ more    │\n",
       "│          ┆       ┆       ┆          ┆          ┆          ┆       ┆          ┆         ┆ strong  │\n",
       "│          ┆       ┆       ┆          ┆          ┆          ┆       ┆          ┆         ┆ and pos │\n",
       "│          ┆       ┆       ┆          ┆          ┆          ┆       ┆          ┆         ┆ itive   │\n",
       "│          ┆       ┆       ┆          ┆          ┆          ┆       ┆          ┆         ┆ vibes   │\n",
       "│          ┆       ┆       ┆          ┆          ┆          ┆       ┆          ┆         ┆ like    │\n",
       "│          ┆       ┆       ┆          ┆          ┆          ┆       ┆          ┆         ┆ this.   │\n",
       "│          ┆       ┆       ┆          ┆          ┆          ┆       ┆          ┆         ┆ Great   │\n",
       "│          ┆       ┆       ┆          ┆          ┆          ┆       ┆          ┆         ┆ vocals, │\n",
       "│          ┆       ┆       ┆          ┆          ┆          ┆       ┆          ┆         ┆ …       │\n",
       "│ B0000206 ┆ ah    ┆ 15.99 ┆ A2KLYVAS ┆ Stephen  ┆ 0/0      ┆ 5.0   ┆ 13322880 ┆ Great   ┆ My      │\n",
       "│ 6I       ┆       ┆       ┆ 0MIBMQ   ┆ McClanin ┆          ┆       ┆ 00       ┆ CD      ┆ lovely  │\n",
       "│          ┆       ┆       ┆          ┆ g        ┆          ┆       ┆          ┆         ┆ Pat has │\n",
       "│          ┆       ┆       ┆          ┆          ┆          ┆       ┆          ┆         ┆ one of  │\n",
       "│          ┆       ┆       ┆          ┆          ┆          ┆       ┆          ┆         ┆ the     │\n",
       "│          ┆       ┆       ┆          ┆          ┆          ┆       ┆          ┆         ┆ GREAT   │\n",
       "│          ┆       ┆       ┆          ┆          ┆          ┆       ┆          ┆         ┆ voices  │\n",
       "│          ┆       ┆       ┆          ┆          ┆          ┆       ┆          ┆         ┆ of her  │\n",
       "│          ┆       ┆       ┆          ┆          ┆          ┆       ┆          ┆         ┆ generat │\n",
       "│          ┆       ┆       ┆          ┆          ┆          ┆       ┆          ┆         ┆ ion. I  │\n",
       "│          ┆       ┆       ┆          ┆          ┆          ┆       ┆          ┆         ┆ have    │\n",
       "│          ┆       ┆       ┆          ┆          ┆          ┆       ┆          ┆         ┆ listene │\n",
       "│          ┆       ┆       ┆          ┆          ┆          ┆       ┆          ┆         ┆ d to    │\n",
       "│          ┆       ┆       ┆          ┆          ┆          ┆       ┆          ┆         ┆ this CD │\n",
       "│          ┆       ┆       ┆          ┆          ┆          ┆       ┆          ┆         ┆ for     │\n",
       "│          ┆       ┆       ┆          ┆          ┆          ┆       ┆          ┆         ┆ YEARS   │\n",
       "│          ┆       ┆       ┆          ┆          ┆          ┆       ┆          ┆         ┆ an…     │\n",
       "└──────────┴───────┴───────┴──────────┴──────────┴──────────┴───────┴──────────┴─────────┴─────────┘"
      ]
     },
     "execution_count": 6,
     "metadata": {},
     "output_type": "execute_result"
    }
   ],
   "source": [
    "fp: str = \"../../data/Music_small.parquet\"\n",
    "df_music: pl.DataFrame = pl.read_parquet(fp)\n",
    "print(f\"{df_music.shape = }\")\n",
    "df_music.head(2)"
   ]
  },
  {
   "cell_type": "markdown",
   "metadata": {},
   "source": [
    "### Data Cleaning"
   ]
  },
  {
   "cell_type": "code",
   "execution_count": 7,
   "metadata": {},
   "outputs": [
    {
     "data": {
      "text/html": [
       "<div><style>\n",
       ".dataframe > thead > tr,\n",
       ".dataframe > tbody > tr {\n",
       "  text-align: right;\n",
       "  white-space: pre-wrap;\n",
       "}\n",
       "</style>\n",
       "<small>shape: (5, 10)</small><table border=\"1\" class=\"dataframe\"><thead><tr><th>productId</th><th>title</th><th>price</th><th>userId</th><th>profileName</th><th>helpfulness</th><th>score</th><th>time</th><th>summary</th><th>text</th></tr><tr><td>str</td><td>str</td><td>str</td><td>str</td><td>str</td><td>str</td><td>f32</td><td>str</td><td>str</td><td>str</td></tr></thead><tbody><tr><td>&quot;B00002066I&quot;</td><td>&quot;ah&quot;</td><td>&quot;15.99&quot;</td><td>&quot;unknown&quot;</td><td>&quot;unknown&quot;</td><td>&quot;3/4&quot;</td><td>5.0</td><td>&quot;939772800&quot;</td><td>&quot;Inspiring&quot;</td><td>&quot;I hope a lot of people hear this cd. We need more strong and positive vibes like this. Great vocals…</td></tr><tr><td>&quot;B00002066I&quot;</td><td>&quot;ah&quot;</td><td>&quot;15.99&quot;</td><td>&quot;A2KLYVAS0MIBMQ&quot;</td><td>&quot;Stephen McClaning&quot;</td><td>&quot;0/0&quot;</td><td>5.0</td><td>&quot;1332288000&quot;</td><td>&quot;Great CD&quot;</td><td>&quot;My lovely Pat has one of the GREAT voices of her generation. I have listened to this CD for YEARS a…</td></tr><tr><td>&quot;B000058A81&quot;</td><td>&quot;Chrono Cross: Original Soundtrack&quot;</td><td>&quot;unknown&quot;</td><td>&quot;A18C9SNLZWVBIE&quot;</td><td>&quot;A reader&quot;</td><td>&quot;1/1&quot;</td><td>5.0</td><td>&quot;1096934400&quot;</td><td>&quot;First album I&#x27;ve bought since Napster&quot;</td><td>&quot;We&#x27;ve come a long way since the days of Ninetendo synthesized music! I say without exaggeration tha…</td></tr><tr><td>&quot;B000058A81&quot;</td><td>&quot;Chrono Cross: Original Soundtrack&quot;</td><td>&quot;unknown&quot;</td><td>&quot;A38QSOKE2DD8JD&quot;</td><td>&quot;Christopher Walden&quot;</td><td>&quot;1/1&quot;</td><td>5.0</td><td>&quot;1088121600&quot;</td><td>&quot;Pleasant to the ear, musical masterpiece&quot;</td><td>&quot;Final fantasy fans may be at first skeptical of Chrono Cross&#x27;s composition and production under unk…</td></tr><tr><td>&quot;B000058A81&quot;</td><td>&quot;Chrono Cross: Original Soundtrack&quot;</td><td>&quot;unknown&quot;</td><td>&quot;AKZLIIH3AP4RU&quot;</td><td>&quot;IcemanJ&quot;</td><td>&quot;1/1&quot;</td><td>5.0</td><td>&quot;1075939200&quot;</td><td>&quot;Much more than a game Soundtrack.&quot;</td><td>&quot;This has got to be one of the best video game soundtracks ever. I&#x27;ve actually never really played t…</td></tr></tbody></table></div>"
      ],
      "text/plain": [
       "shape: (5, 10)\n",
       "┌──────────┬─────────┬─────────┬─────────┬─────────┬─────────┬───────┬─────────┬─────────┬─────────┐\n",
       "│ productI ┆ title   ┆ price   ┆ userId  ┆ profile ┆ helpful ┆ score ┆ time    ┆ summary ┆ text    │\n",
       "│ d        ┆ ---     ┆ ---     ┆ ---     ┆ Name    ┆ ness    ┆ ---   ┆ ---     ┆ ---     ┆ ---     │\n",
       "│ ---      ┆ str     ┆ str     ┆ str     ┆ ---     ┆ ---     ┆ f32   ┆ str     ┆ str     ┆ str     │\n",
       "│ str      ┆         ┆         ┆         ┆ str     ┆ str     ┆       ┆         ┆         ┆         │\n",
       "╞══════════╪═════════╪═════════╪═════════╪═════════╪═════════╪═══════╪═════════╪═════════╪═════════╡\n",
       "│ B0000206 ┆ ah      ┆ 15.99   ┆ unknown ┆ unknown ┆ 3/4     ┆ 5.0   ┆ 9397728 ┆ Inspiri ┆ I hope  │\n",
       "│ 6I       ┆         ┆         ┆         ┆         ┆         ┆       ┆ 00      ┆ ng      ┆ a lot   │\n",
       "│          ┆         ┆         ┆         ┆         ┆         ┆       ┆         ┆         ┆ of      │\n",
       "│          ┆         ┆         ┆         ┆         ┆         ┆       ┆         ┆         ┆ people  │\n",
       "│          ┆         ┆         ┆         ┆         ┆         ┆       ┆         ┆         ┆ hear    │\n",
       "│          ┆         ┆         ┆         ┆         ┆         ┆       ┆         ┆         ┆ this    │\n",
       "│          ┆         ┆         ┆         ┆         ┆         ┆       ┆         ┆         ┆ cd. We  │\n",
       "│          ┆         ┆         ┆         ┆         ┆         ┆       ┆         ┆         ┆ need    │\n",
       "│          ┆         ┆         ┆         ┆         ┆         ┆       ┆         ┆         ┆ more    │\n",
       "│          ┆         ┆         ┆         ┆         ┆         ┆       ┆         ┆         ┆ strong  │\n",
       "│          ┆         ┆         ┆         ┆         ┆         ┆       ┆         ┆         ┆ and pos │\n",
       "│          ┆         ┆         ┆         ┆         ┆         ┆       ┆         ┆         ┆ itive   │\n",
       "│          ┆         ┆         ┆         ┆         ┆         ┆       ┆         ┆         ┆ vibes   │\n",
       "│          ┆         ┆         ┆         ┆         ┆         ┆       ┆         ┆         ┆ like    │\n",
       "│          ┆         ┆         ┆         ┆         ┆         ┆       ┆         ┆         ┆ this.   │\n",
       "│          ┆         ┆         ┆         ┆         ┆         ┆       ┆         ┆         ┆ Great   │\n",
       "│          ┆         ┆         ┆         ┆         ┆         ┆       ┆         ┆         ┆ vocals, │\n",
       "│          ┆         ┆         ┆         ┆         ┆         ┆       ┆         ┆         ┆ …       │\n",
       "│ B0000206 ┆ ah      ┆ 15.99   ┆ A2KLYVA ┆ Stephen ┆ 0/0     ┆ 5.0   ┆ 1332288 ┆ Great   ┆ My      │\n",
       "│ 6I       ┆         ┆         ┆ S0MIBMQ ┆ McClani ┆         ┆       ┆ 000     ┆ CD      ┆ lovely  │\n",
       "│          ┆         ┆         ┆         ┆ ng      ┆         ┆       ┆         ┆         ┆ Pat has │\n",
       "│          ┆         ┆         ┆         ┆         ┆         ┆       ┆         ┆         ┆ one of  │\n",
       "│          ┆         ┆         ┆         ┆         ┆         ┆       ┆         ┆         ┆ the     │\n",
       "│          ┆         ┆         ┆         ┆         ┆         ┆       ┆         ┆         ┆ GREAT   │\n",
       "│          ┆         ┆         ┆         ┆         ┆         ┆       ┆         ┆         ┆ voices  │\n",
       "│          ┆         ┆         ┆         ┆         ┆         ┆       ┆         ┆         ┆ of her  │\n",
       "│          ┆         ┆         ┆         ┆         ┆         ┆       ┆         ┆         ┆ generat │\n",
       "│          ┆         ┆         ┆         ┆         ┆         ┆       ┆         ┆         ┆ ion. I  │\n",
       "│          ┆         ┆         ┆         ┆         ┆         ┆       ┆         ┆         ┆ have    │\n",
       "│          ┆         ┆         ┆         ┆         ┆         ┆       ┆         ┆         ┆ listene │\n",
       "│          ┆         ┆         ┆         ┆         ┆         ┆       ┆         ┆         ┆ d to    │\n",
       "│          ┆         ┆         ┆         ┆         ┆         ┆       ┆         ┆         ┆ this CD │\n",
       "│          ┆         ┆         ┆         ┆         ┆         ┆       ┆         ┆         ┆ for     │\n",
       "│          ┆         ┆         ┆         ┆         ┆         ┆       ┆         ┆         ┆ YEARS   │\n",
       "│          ┆         ┆         ┆         ┆         ┆         ┆       ┆         ┆         ┆ an…     │\n",
       "│ B000058A ┆ Chrono  ┆ unknown ┆ A18C9SN ┆ A       ┆ 1/1     ┆ 5.0   ┆ 1096934 ┆ First   ┆ We've   │\n",
       "│ 81       ┆ Cross:  ┆         ┆ LZWVBIE ┆ reader  ┆         ┆       ┆ 400     ┆ album   ┆ come a  │\n",
       "│          ┆ Origina ┆         ┆         ┆         ┆         ┆       ┆         ┆ I've    ┆ long    │\n",
       "│          ┆ l Sound ┆         ┆         ┆         ┆         ┆       ┆         ┆ bought  ┆ way     │\n",
       "│          ┆ track   ┆         ┆         ┆         ┆         ┆       ┆         ┆ since   ┆ since   │\n",
       "│          ┆         ┆         ┆         ┆         ┆         ┆       ┆         ┆ Napster ┆ the     │\n",
       "│          ┆         ┆         ┆         ┆         ┆         ┆       ┆         ┆         ┆ days of │\n",
       "│          ┆         ┆         ┆         ┆         ┆         ┆       ┆         ┆         ┆ Nineten │\n",
       "│          ┆         ┆         ┆         ┆         ┆         ┆       ┆         ┆         ┆ do synt │\n",
       "│          ┆         ┆         ┆         ┆         ┆         ┆       ┆         ┆         ┆ hesized │\n",
       "│          ┆         ┆         ┆         ┆         ┆         ┆       ┆         ┆         ┆ music!  │\n",
       "│          ┆         ┆         ┆         ┆         ┆         ┆       ┆         ┆         ┆ I say   │\n",
       "│          ┆         ┆         ┆         ┆         ┆         ┆       ┆         ┆         ┆ without │\n",
       "│          ┆         ┆         ┆         ┆         ┆         ┆       ┆         ┆         ┆ exagger │\n",
       "│          ┆         ┆         ┆         ┆         ┆         ┆       ┆         ┆         ┆ ation   │\n",
       "│          ┆         ┆         ┆         ┆         ┆         ┆       ┆         ┆         ┆ that…   │\n",
       "│ B000058A ┆ Chrono  ┆ unknown ┆ A38QSOK ┆ Christo ┆ 1/1     ┆ 5.0   ┆ 1088121 ┆ Pleasan ┆ Final   │\n",
       "│ 81       ┆ Cross:  ┆         ┆ E2DD8JD ┆ pher    ┆         ┆       ┆ 600     ┆ t to    ┆ fantasy │\n",
       "│          ┆ Origina ┆         ┆         ┆ Walden  ┆         ┆       ┆         ┆ the     ┆ fans    │\n",
       "│          ┆ l Sound ┆         ┆         ┆         ┆         ┆       ┆         ┆ ear,    ┆ may be  │\n",
       "│          ┆ track   ┆         ┆         ┆         ┆         ┆       ┆         ┆ musical ┆ at      │\n",
       "│          ┆         ┆         ┆         ┆         ┆         ┆       ┆         ┆ masterp ┆ first   │\n",
       "│          ┆         ┆         ┆         ┆         ┆         ┆       ┆         ┆ iece    ┆ skeptic │\n",
       "│          ┆         ┆         ┆         ┆         ┆         ┆       ┆         ┆         ┆ al of   │\n",
       "│          ┆         ┆         ┆         ┆         ┆         ┆       ┆         ┆         ┆ Chrono  │\n",
       "│          ┆         ┆         ┆         ┆         ┆         ┆       ┆         ┆         ┆ Cross's │\n",
       "│          ┆         ┆         ┆         ┆         ┆         ┆       ┆         ┆         ┆ composi │\n",
       "│          ┆         ┆         ┆         ┆         ┆         ┆       ┆         ┆         ┆ tion    │\n",
       "│          ┆         ┆         ┆         ┆         ┆         ┆       ┆         ┆         ┆ and pro │\n",
       "│          ┆         ┆         ┆         ┆         ┆         ┆       ┆         ┆         ┆ duction │\n",
       "│          ┆         ┆         ┆         ┆         ┆         ┆       ┆         ┆         ┆ under   │\n",
       "│          ┆         ┆         ┆         ┆         ┆         ┆       ┆         ┆         ┆ unkn…   │\n",
       "│ B000058A ┆ Chrono  ┆ unknown ┆ AKZLIIH ┆ IcemanJ ┆ 1/1     ┆ 5.0   ┆ 1075939 ┆ Much    ┆ This    │\n",
       "│ 81       ┆ Cross:  ┆         ┆ 3AP4RU  ┆         ┆         ┆       ┆ 200     ┆ more    ┆ has got │\n",
       "│          ┆ Origina ┆         ┆         ┆         ┆         ┆       ┆         ┆ than a  ┆ to be   │\n",
       "│          ┆ l Sound ┆         ┆         ┆         ┆         ┆       ┆         ┆ game    ┆ one of  │\n",
       "│          ┆ track   ┆         ┆         ┆         ┆         ┆       ┆         ┆ Soundtr ┆ the     │\n",
       "│          ┆         ┆         ┆         ┆         ┆         ┆       ┆         ┆ ack.    ┆ best    │\n",
       "│          ┆         ┆         ┆         ┆         ┆         ┆       ┆         ┆         ┆ video   │\n",
       "│          ┆         ┆         ┆         ┆         ┆         ┆       ┆         ┆         ┆ game    │\n",
       "│          ┆         ┆         ┆         ┆         ┆         ┆       ┆         ┆         ┆ soundtr │\n",
       "│          ┆         ┆         ┆         ┆         ┆         ┆       ┆         ┆         ┆ acks    │\n",
       "│          ┆         ┆         ┆         ┆         ┆         ┆       ┆         ┆         ┆ ever.   │\n",
       "│          ┆         ┆         ┆         ┆         ┆         ┆       ┆         ┆         ┆ I've    │\n",
       "│          ┆         ┆         ┆         ┆         ┆         ┆       ┆         ┆         ┆ actuall │\n",
       "│          ┆         ┆         ┆         ┆         ┆         ┆       ┆         ┆         ┆ y never │\n",
       "│          ┆         ┆         ┆         ┆         ┆         ┆       ┆         ┆         ┆ really  │\n",
       "│          ┆         ┆         ┆         ┆         ┆         ┆       ┆         ┆         ┆ played  │\n",
       "│          ┆         ┆         ┆         ┆         ┆         ┆       ┆         ┆         ┆ th…     │\n",
       "└──────────┴─────────┴─────────┴─────────┴─────────┴─────────┴───────┴─────────┴─────────┴─────────┘"
      ]
     },
     "execution_count": 7,
     "metadata": {},
     "output_type": "execute_result"
    }
   ],
   "source": [
    "df_music.head()"
   ]
  },
  {
   "cell_type": "code",
   "execution_count": 8,
   "metadata": {},
   "outputs": [
    {
     "data": {
      "text/html": [
       "<div><style>\n",
       ".dataframe > thead > tr,\n",
       ".dataframe > tbody > tr {\n",
       "  text-align: right;\n",
       "  white-space: pre-wrap;\n",
       "}\n",
       "</style>\n",
       "<small>shape: (1, 10)</small><table border=\"1\" class=\"dataframe\"><thead><tr><th>productId</th><th>title</th><th>price</th><th>userId</th><th>profileName</th><th>helpfulness</th><th>score</th><th>time</th><th>summary</th><th>text</th></tr><tr><td>str</td><td>str</td><td>str</td><td>str</td><td>str</td><td>str</td><td>f32</td><td>str</td><td>str</td><td>str</td></tr></thead><tbody><tr><td>&quot;B000058A81&quot;</td><td>&quot;Chrono Cross: Original Soundtrack&quot;</td><td>&quot;unknown&quot;</td><td>&quot;A18C9SNLZWVBIE&quot;</td><td>&quot;A reader&quot;</td><td>&quot;1/1&quot;</td><td>5.0</td><td>&quot;1096934400&quot;</td><td>&quot;First album I&#x27;ve bought since Napster&quot;</td><td>&quot;We&#x27;ve come a long way since the days of Ninetendo synthesized music! I say without exaggeration tha…</td></tr></tbody></table></div>"
      ],
      "text/plain": [
       "shape: (1, 10)\n",
       "┌──────────┬─────────┬─────────┬─────────┬─────────┬─────────┬───────┬─────────┬─────────┬─────────┐\n",
       "│ productI ┆ title   ┆ price   ┆ userId  ┆ profile ┆ helpful ┆ score ┆ time    ┆ summary ┆ text    │\n",
       "│ d        ┆ ---     ┆ ---     ┆ ---     ┆ Name    ┆ ness    ┆ ---   ┆ ---     ┆ ---     ┆ ---     │\n",
       "│ ---      ┆ str     ┆ str     ┆ str     ┆ ---     ┆ ---     ┆ f32   ┆ str     ┆ str     ┆ str     │\n",
       "│ str      ┆         ┆         ┆         ┆ str     ┆ str     ┆       ┆         ┆         ┆         │\n",
       "╞══════════╪═════════╪═════════╪═════════╪═════════╪═════════╪═══════╪═════════╪═════════╪═════════╡\n",
       "│ B000058A ┆ Chrono  ┆ unknown ┆ A18C9SN ┆ A       ┆ 1/1     ┆ 5.0   ┆ 1096934 ┆ First   ┆ We've   │\n",
       "│ 81       ┆ Cross:  ┆         ┆ LZWVBIE ┆ reader  ┆         ┆       ┆ 400     ┆ album   ┆ come a  │\n",
       "│          ┆ Origina ┆         ┆         ┆         ┆         ┆       ┆         ┆ I've    ┆ long    │\n",
       "│          ┆ l Sound ┆         ┆         ┆         ┆         ┆       ┆         ┆ bought  ┆ way     │\n",
       "│          ┆ track   ┆         ┆         ┆         ┆         ┆       ┆         ┆ since   ┆ since   │\n",
       "│          ┆         ┆         ┆         ┆         ┆         ┆       ┆         ┆ Napster ┆ the     │\n",
       "│          ┆         ┆         ┆         ┆         ┆         ┆       ┆         ┆         ┆ days of │\n",
       "│          ┆         ┆         ┆         ┆         ┆         ┆       ┆         ┆         ┆ Nineten │\n",
       "│          ┆         ┆         ┆         ┆         ┆         ┆       ┆         ┆         ┆ do synt │\n",
       "│          ┆         ┆         ┆         ┆         ┆         ┆       ┆         ┆         ┆ hesized │\n",
       "│          ┆         ┆         ┆         ┆         ┆         ┆       ┆         ┆         ┆ music!  │\n",
       "│          ┆         ┆         ┆         ┆         ┆         ┆       ┆         ┆         ┆ I say   │\n",
       "│          ┆         ┆         ┆         ┆         ┆         ┆       ┆         ┆         ┆ without │\n",
       "│          ┆         ┆         ┆         ┆         ┆         ┆       ┆         ┆         ┆ exagger │\n",
       "│          ┆         ┆         ┆         ┆         ┆         ┆       ┆         ┆         ┆ ation   │\n",
       "│          ┆         ┆         ┆         ┆         ┆         ┆       ┆         ┆         ┆ that…   │\n",
       "└──────────┴─────────┴─────────┴─────────┴─────────┴─────────┴───────┴─────────┴─────────┴─────────┘"
      ]
     },
     "execution_count": 8,
     "metadata": {},
     "output_type": "execute_result"
    }
   ],
   "source": [
    "# Check for unique product and userId entries\n",
    "p_id: str = \"B000058A81\"\n",
    "user_id: str = \"A18C9SNLZWVBIE\"\n",
    "df_music.filter((pl.col(\"productId\").eq(p_id) & pl.col(\"userId\").eq(user_id)))"
   ]
  },
  {
   "cell_type": "code",
   "execution_count": 9,
   "metadata": {},
   "outputs": [
    {
     "name": "stdout",
     "output_type": "stream",
     "text": [
      "[Before data cleaning]: (6396351, 10)\n",
      "[After data cleaning]: (522317, 10)\n"
     ]
    }
   ],
   "source": [
    "# We want a:\n",
    "# unique user-product pair.\n",
    "# unique user-title pair.\n",
    "# unique product-title pair.\n",
    "\n",
    "print(f\"[Before data cleaning]: {df_music.shape}\")\n",
    "\n",
    "# Remove duplicates\n",
    "df_music_cleaned: pl.DataFrame = df_music.unique(subset=[\"userId\", \"productId\"])\n",
    "df_music_cleaned = df_music_cleaned.unique(subset=[\"userId\", \"title\"])\n",
    "df_music_cleaned = df_music_cleaned.unique(subset=[\"productId\", \"title\"])\n",
    "\n",
    "print(f\"[After data cleaning]: {df_music_cleaned.shape}\")"
   ]
  },
  {
   "cell_type": "code",
   "execution_count": 10,
   "metadata": {},
   "outputs": [
    {
     "data": {
      "text/html": [
       "<div><style>\n",
       ".dataframe > thead > tr,\n",
       ".dataframe > tbody > tr {\n",
       "  text-align: right;\n",
       "  white-space: pre-wrap;\n",
       "}\n",
       "</style>\n",
       "<small>shape: (5, 10)</small><table border=\"1\" class=\"dataframe\"><thead><tr><th>productId</th><th>title</th><th>price</th><th>userId</th><th>profileName</th><th>helpfulness</th><th>score</th><th>time</th><th>summary</th><th>text</th></tr><tr><td>str</td><td>str</td><td>str</td><td>str</td><td>str</td><td>str</td><td>f32</td><td>str</td><td>str</td><td>str</td></tr></thead><tbody><tr><td>&quot;B00008FF0U&quot;</td><td>&quot;Second Album&quot;</td><td>&quot;unknown&quot;</td><td>&quot;A3GTI1Z7YE49ZS&quot;</td><td>&quot;Tnahpellee &quot;Brendan&quot;&quot;</td><td>&quot;0/0&quot;</td><td>4.0</td><td>&quot;1307923200&quot;</td><td>&quot;Classic 60&#x27;s stuff!&quot;</td><td>&quot;The Four Tops second album is formulaic; you know, vibraphone laced motown pop, with a strident bea…</td></tr><tr><td>&quot;B0007N2G2U&quot;</td><td>&quot;Plavniki&quot;</td><td>&quot;unknown&quot;</td><td>&quot;A3H63KQJJIX264&quot;</td><td>&quot;10catz&quot;</td><td>&quot;0/0&quot;</td><td>5.0</td><td>&quot;1137974400&quot;</td><td>&quot;Another great one by Dolphin.&quot;</td><td>&quot;I am somewhat repeating my review of another of Dophin&#x27;s CD&#x27;s &quot;Zvezda&quot;:Dolphin, also know as Delfin…</td></tr><tr><td>&quot;B0000007EV&quot;</td><td>&quot;Romeo &amp; Juliet / Cinderella&quot;</td><td>&quot;unknown&quot;</td><td>&quot;A2LM3PDDT7EZKC&quot;</td><td>&quot;Tosh Ogawo&quot;</td><td>&quot;4/4&quot;</td><td>5.0</td><td>&quot;1052352000&quot;</td><td>&quot;MUSIC IS FIRST, AND SO IS THE PIANO. WONDERFUL !!!&quot;</td><td>&quot;Mr. Chiu offered this listener arguably the most gratifying recorded music experience. He approache…</td></tr><tr><td>&quot;B00000EL3M&quot;</td><td>&quot;Fire of Freedom&quot;</td><td>&quot;unknown&quot;</td><td>&quot;A3TD3W8KTCKELN&quot;</td><td>&quot;&quot;devilzeye&quot;&quot;</td><td>&quot;3/3&quot;</td><td>5.0</td><td>&quot;945820800&quot;</td><td>&quot;Brilliant Lyrics Matched with Superb Melodies!A Sure Winner!&quot;</td><td>&quot;I never tire of playing this CD: it is my favorite , from my favorite band: Black 47! Its rare to f…</td></tr><tr><td>&quot;B0000667PK&quot;</td><td>&quot;Brazilian Love Affair 3&quot;</td><td>&quot;unknown&quot;</td><td>&quot;A3CN9CCJUNIPKT&quot;</td><td>&quot;DJ Joe Sixpack&quot;</td><td>&quot;0/0&quot;</td><td>4.0</td><td>&quot;1041984000&quot;</td><td>&quot;Surprisingly nice for a mellow, acid jazz set...&quot;</td><td>&quot;Lounge-y Brazilian electronica and soft funk-fusion. I was actually surprised by how much I enjoyed…</td></tr></tbody></table></div>"
      ],
      "text/plain": [
       "shape: (5, 10)\n",
       "┌──────────┬─────────┬─────────┬─────────┬─────────┬─────────┬───────┬─────────┬─────────┬─────────┐\n",
       "│ productI ┆ title   ┆ price   ┆ userId  ┆ profile ┆ helpful ┆ score ┆ time    ┆ summary ┆ text    │\n",
       "│ d        ┆ ---     ┆ ---     ┆ ---     ┆ Name    ┆ ness    ┆ ---   ┆ ---     ┆ ---     ┆ ---     │\n",
       "│ ---      ┆ str     ┆ str     ┆ str     ┆ ---     ┆ ---     ┆ f32   ┆ str     ┆ str     ┆ str     │\n",
       "│ str      ┆         ┆         ┆         ┆ str     ┆ str     ┆       ┆         ┆         ┆         │\n",
       "╞══════════╪═════════╪═════════╪═════════╪═════════╪═════════╪═══════╪═════════╪═════════╪═════════╡\n",
       "│ B00008FF ┆ Second  ┆ unknown ┆ A3GTI1Z ┆ Tnahpel ┆ 0/0     ┆ 4.0   ┆ 1307923 ┆ Classic ┆ The     │\n",
       "│ 0U       ┆ Album   ┆         ┆ 7YE49ZS ┆ lee \"Br ┆         ┆       ┆ 200     ┆ 60's    ┆ Four    │\n",
       "│          ┆         ┆         ┆         ┆ endan\"  ┆         ┆       ┆         ┆ stuff!  ┆ Tops    │\n",
       "│          ┆         ┆         ┆         ┆         ┆         ┆       ┆         ┆         ┆ second  │\n",
       "│          ┆         ┆         ┆         ┆         ┆         ┆       ┆         ┆         ┆ album   │\n",
       "│          ┆         ┆         ┆         ┆         ┆         ┆       ┆         ┆         ┆ is form │\n",
       "│          ┆         ┆         ┆         ┆         ┆         ┆       ┆         ┆         ┆ ulaic;  │\n",
       "│          ┆         ┆         ┆         ┆         ┆         ┆       ┆         ┆         ┆ you     │\n",
       "│          ┆         ┆         ┆         ┆         ┆         ┆       ┆         ┆         ┆ know,   │\n",
       "│          ┆         ┆         ┆         ┆         ┆         ┆       ┆         ┆         ┆ vibraph │\n",
       "│          ┆         ┆         ┆         ┆         ┆         ┆       ┆         ┆         ┆ one     │\n",
       "│          ┆         ┆         ┆         ┆         ┆         ┆       ┆         ┆         ┆ laced   │\n",
       "│          ┆         ┆         ┆         ┆         ┆         ┆       ┆         ┆         ┆ motown  │\n",
       "│          ┆         ┆         ┆         ┆         ┆         ┆       ┆         ┆         ┆ pop,    │\n",
       "│          ┆         ┆         ┆         ┆         ┆         ┆       ┆         ┆         ┆ with a  │\n",
       "│          ┆         ┆         ┆         ┆         ┆         ┆       ┆         ┆         ┆ striden │\n",
       "│          ┆         ┆         ┆         ┆         ┆         ┆       ┆         ┆         ┆ t beat… │\n",
       "│ B0007N2G ┆ Plavnik ┆ unknown ┆ A3H63KQ ┆ 10catz  ┆ 0/0     ┆ 5.0   ┆ 1137974 ┆ Another ┆ I am    │\n",
       "│ 2U       ┆ i       ┆         ┆ JJIX264 ┆         ┆         ┆       ┆ 400     ┆ great   ┆ somewha │\n",
       "│          ┆         ┆         ┆         ┆         ┆         ┆       ┆         ┆ one by  ┆ t repea │\n",
       "│          ┆         ┆         ┆         ┆         ┆         ┆       ┆         ┆ Dolphin ┆ ting my │\n",
       "│          ┆         ┆         ┆         ┆         ┆         ┆       ┆         ┆ .       ┆ review  │\n",
       "│          ┆         ┆         ┆         ┆         ┆         ┆       ┆         ┆         ┆ of      │\n",
       "│          ┆         ┆         ┆         ┆         ┆         ┆       ┆         ┆         ┆ another │\n",
       "│          ┆         ┆         ┆         ┆         ┆         ┆       ┆         ┆         ┆ of Doph │\n",
       "│          ┆         ┆         ┆         ┆         ┆         ┆       ┆         ┆         ┆ in's    │\n",
       "│          ┆         ┆         ┆         ┆         ┆         ┆       ┆         ┆         ┆ CD's    │\n",
       "│          ┆         ┆         ┆         ┆         ┆         ┆       ┆         ┆         ┆ \"Zvezda │\n",
       "│          ┆         ┆         ┆         ┆         ┆         ┆       ┆         ┆         ┆ \":Dolph │\n",
       "│          ┆         ┆         ┆         ┆         ┆         ┆       ┆         ┆         ┆ in,     │\n",
       "│          ┆         ┆         ┆         ┆         ┆         ┆       ┆         ┆         ┆ also    │\n",
       "│          ┆         ┆         ┆         ┆         ┆         ┆       ┆         ┆         ┆ know as │\n",
       "│          ┆         ┆         ┆         ┆         ┆         ┆       ┆         ┆         ┆ Delfin  │\n",
       "│          ┆         ┆         ┆         ┆         ┆         ┆       ┆         ┆         ┆ …       │\n",
       "│ B0000007 ┆ Romeo & ┆ unknown ┆ A2LM3PD ┆ Tosh    ┆ 4/4     ┆ 5.0   ┆ 1052352 ┆ MUSIC   ┆ Mr.     │\n",
       "│ EV       ┆ Juliet  ┆         ┆ DT7EZKC ┆ Ogawo   ┆         ┆       ┆ 000     ┆ IS      ┆ Chiu    │\n",
       "│          ┆ / Cinde ┆         ┆         ┆         ┆         ┆       ┆         ┆ FIRST,  ┆ offered │\n",
       "│          ┆ rella   ┆         ┆         ┆         ┆         ┆       ┆         ┆ AND SO  ┆ this    │\n",
       "│          ┆         ┆         ┆         ┆         ┆         ┆       ┆         ┆ IS THE  ┆ listene │\n",
       "│          ┆         ┆         ┆         ┆         ┆         ┆       ┆         ┆ PIANO.  ┆ r argua │\n",
       "│          ┆         ┆         ┆         ┆         ┆         ┆       ┆         ┆ WONDERF ┆ bly the │\n",
       "│          ┆         ┆         ┆         ┆         ┆         ┆       ┆         ┆ UL !!!  ┆ most    │\n",
       "│          ┆         ┆         ┆         ┆         ┆         ┆       ┆         ┆         ┆ gratify │\n",
       "│          ┆         ┆         ┆         ┆         ┆         ┆       ┆         ┆         ┆ ing rec │\n",
       "│          ┆         ┆         ┆         ┆         ┆         ┆       ┆         ┆         ┆ orded   │\n",
       "│          ┆         ┆         ┆         ┆         ┆         ┆       ┆         ┆         ┆ music   │\n",
       "│          ┆         ┆         ┆         ┆         ┆         ┆       ┆         ┆         ┆ experie │\n",
       "│          ┆         ┆         ┆         ┆         ┆         ┆       ┆         ┆         ┆ nce. He │\n",
       "│          ┆         ┆         ┆         ┆         ┆         ┆       ┆         ┆         ┆ approac │\n",
       "│          ┆         ┆         ┆         ┆         ┆         ┆       ┆         ┆         ┆ hes…    │\n",
       "│ B00000EL ┆ Fire of ┆ unknown ┆ A3TD3W8 ┆ \"devilz ┆ 3/3     ┆ 5.0   ┆ 9458208 ┆ Brillia ┆ I never │\n",
       "│ 3M       ┆ Freedom ┆         ┆ KTCKELN ┆ eye\"    ┆         ┆       ┆ 00      ┆ nt      ┆ tire of │\n",
       "│          ┆         ┆         ┆         ┆         ┆         ┆       ┆         ┆ Lyrics  ┆ playing │\n",
       "│          ┆         ┆         ┆         ┆         ┆         ┆       ┆         ┆ Matched ┆ this    │\n",
       "│          ┆         ┆         ┆         ┆         ┆         ┆       ┆         ┆ with    ┆ CD: it  │\n",
       "│          ┆         ┆         ┆         ┆         ┆         ┆       ┆         ┆ Superb  ┆ is my   │\n",
       "│          ┆         ┆         ┆         ┆         ┆         ┆       ┆         ┆ Melodie ┆ favorit │\n",
       "│          ┆         ┆         ┆         ┆         ┆         ┆       ┆         ┆ s!A     ┆ e ,     │\n",
       "│          ┆         ┆         ┆         ┆         ┆         ┆       ┆         ┆ Sure    ┆ from my │\n",
       "│          ┆         ┆         ┆         ┆         ┆         ┆       ┆         ┆ Winner! ┆ favorit │\n",
       "│          ┆         ┆         ┆         ┆         ┆         ┆       ┆         ┆         ┆ e band: │\n",
       "│          ┆         ┆         ┆         ┆         ┆         ┆       ┆         ┆         ┆ Black   │\n",
       "│          ┆         ┆         ┆         ┆         ┆         ┆       ┆         ┆         ┆ 47! Its │\n",
       "│          ┆         ┆         ┆         ┆         ┆         ┆       ┆         ┆         ┆ rare to │\n",
       "│          ┆         ┆         ┆         ┆         ┆         ┆       ┆         ┆         ┆ fi…     │\n",
       "│ B0000667 ┆ Brazili ┆ unknown ┆ A3CN9CC ┆ DJ Joe  ┆ 0/0     ┆ 4.0   ┆ 1041984 ┆ Surpris ┆ Lounge- │\n",
       "│ PK       ┆ an Love ┆         ┆ JUNIPKT ┆ Sixpack ┆         ┆       ┆ 000     ┆ ingly   ┆ y Brazi │\n",
       "│          ┆ Affair  ┆         ┆         ┆         ┆         ┆       ┆         ┆ nice    ┆ lian    │\n",
       "│          ┆ 3       ┆         ┆         ┆         ┆         ┆       ┆         ┆ for a   ┆ electro │\n",
       "│          ┆         ┆         ┆         ┆         ┆         ┆       ┆         ┆ mellow, ┆ nica    │\n",
       "│          ┆         ┆         ┆         ┆         ┆         ┆       ┆         ┆ acid    ┆ and     │\n",
       "│          ┆         ┆         ┆         ┆         ┆         ┆       ┆         ┆ jazz    ┆ soft    │\n",
       "│          ┆         ┆         ┆         ┆         ┆         ┆       ┆         ┆ set...  ┆ funk-fu │\n",
       "│          ┆         ┆         ┆         ┆         ┆         ┆       ┆         ┆         ┆ sion. I │\n",
       "│          ┆         ┆         ┆         ┆         ┆         ┆       ┆         ┆         ┆ was act │\n",
       "│          ┆         ┆         ┆         ┆         ┆         ┆       ┆         ┆         ┆ ually   │\n",
       "│          ┆         ┆         ┆         ┆         ┆         ┆       ┆         ┆         ┆ surpris │\n",
       "│          ┆         ┆         ┆         ┆         ┆         ┆       ┆         ┆         ┆ ed by   │\n",
       "│          ┆         ┆         ┆         ┆         ┆         ┆       ┆         ┆         ┆ how     │\n",
       "│          ┆         ┆         ┆         ┆         ┆         ┆       ┆         ┆         ┆ much I  │\n",
       "│          ┆         ┆         ┆         ┆         ┆         ┆       ┆         ┆         ┆ enjoyed │\n",
       "│          ┆         ┆         ┆         ┆         ┆         ┆       ┆         ┆         ┆ …       │\n",
       "└──────────┴─────────┴─────────┴─────────┴─────────┴─────────┴───────┴─────────┴─────────┴─────────┘"
      ]
     },
     "execution_count": 10,
     "metadata": {},
     "output_type": "execute_result"
    }
   ],
   "source": [
    "df_music_cleaned.head()"
   ]
  },
  {
   "cell_type": "code",
   "execution_count": 11,
   "metadata": {},
   "outputs": [
    {
     "data": {
      "text/html": [
       "<div><style>\n",
       ".dataframe > thead > tr,\n",
       ".dataframe > tbody > tr {\n",
       "  text-align: right;\n",
       "  white-space: pre-wrap;\n",
       "}\n",
       "</style>\n",
       "<small>shape: (5, 2)</small><table border=\"1\" class=\"dataframe\"><thead><tr><th>userId</th><th>count</th></tr><tr><td>str</td><td>u32</td></tr></thead><tbody><tr><td>&quot;unknown&quot;</td><td>49285</td></tr><tr><td>&quot;A9Q28YTLYREO7&quot;</td><td>1270</td></tr><tr><td>&quot;A2WQY1B8ZS7QRZ&quot;</td><td>1259</td></tr><tr><td>&quot;A2AIMXT9PLAM12&quot;</td><td>1182</td></tr><tr><td>&quot;A3QS1EPDZTLPWS&quot;</td><td>875</td></tr></tbody></table></div>"
      ],
      "text/plain": [
       "shape: (5, 2)\n",
       "┌────────────────┬───────┐\n",
       "│ userId         ┆ count │\n",
       "│ ---            ┆ ---   │\n",
       "│ str            ┆ u32   │\n",
       "╞════════════════╪═══════╡\n",
       "│ unknown        ┆ 49285 │\n",
       "│ A9Q28YTLYREO7  ┆ 1270  │\n",
       "│ A2WQY1B8ZS7QRZ ┆ 1259  │\n",
       "│ A2AIMXT9PLAM12 ┆ 1182  │\n",
       "│ A3QS1EPDZTLPWS ┆ 875   │\n",
       "└────────────────┴───────┘"
      ]
     },
     "execution_count": 11,
     "metadata": {},
     "output_type": "execute_result"
    }
   ],
   "source": [
    "# Check the unique userIDs\n",
    "df_music_cleaned[\"userId\"].value_counts(sort=True).head()"
   ]
  },
  {
   "cell_type": "code",
   "execution_count": 12,
   "metadata": {},
   "outputs": [
    {
     "name": "stdout",
     "output_type": "stream",
     "text": [
      "[Before data cleaning]: (522317, 10)\n",
      "[After data cleaning]: (473031, 10)\n"
     ]
    }
   ],
   "source": [
    "# Drop the unwanted userIDs\n",
    "rem_str: str = \"unknown\"\n",
    "print(f\"[Before data cleaning]: {df_music_cleaned.shape}\")\n",
    "df_music_cleaned = df_music_cleaned.filter(pl.col(\"userId\").ne(rem_str))\n",
    "print(f\"[After data cleaning]: {df_music_cleaned.shape}\")"
   ]
  },
  {
   "cell_type": "code",
   "execution_count": 13,
   "metadata": {},
   "outputs": [
    {
     "data": {
      "text/html": [
       "<div><style>\n",
       ".dataframe > thead > tr,\n",
       ".dataframe > tbody > tr {\n",
       "  text-align: right;\n",
       "  white-space: pre-wrap;\n",
       "}\n",
       "</style>\n",
       "<small>shape: (5, 10)</small><table border=\"1\" class=\"dataframe\"><thead><tr><th>productId</th><th>title</th><th>price</th><th>userId</th><th>profileName</th><th>helpfulness</th><th>score</th><th>time</th><th>summary</th><th>text</th></tr><tr><td>str</td><td>str</td><td>str</td><td>str</td><td>str</td><td>str</td><td>f32</td><td>str</td><td>str</td><td>str</td></tr></thead><tbody><tr><td>&quot;B00008FF0U&quot;</td><td>&quot;Second Album&quot;</td><td>&quot;unknown&quot;</td><td>&quot;A3GTI1Z7YE49ZS&quot;</td><td>&quot;Tnahpellee &quot;Brendan&quot;&quot;</td><td>&quot;0/0&quot;</td><td>4.0</td><td>&quot;1307923200&quot;</td><td>&quot;Classic 60&#x27;s stuff!&quot;</td><td>&quot;The Four Tops second album is formulaic; you know, vibraphone laced motown pop, with a strident bea…</td></tr><tr><td>&quot;B0007N2G2U&quot;</td><td>&quot;Plavniki&quot;</td><td>&quot;unknown&quot;</td><td>&quot;A3H63KQJJIX264&quot;</td><td>&quot;10catz&quot;</td><td>&quot;0/0&quot;</td><td>5.0</td><td>&quot;1137974400&quot;</td><td>&quot;Another great one by Dolphin.&quot;</td><td>&quot;I am somewhat repeating my review of another of Dophin&#x27;s CD&#x27;s &quot;Zvezda&quot;:Dolphin, also know as Delfin…</td></tr><tr><td>&quot;B0000007EV&quot;</td><td>&quot;Romeo &amp; Juliet / Cinderella&quot;</td><td>&quot;unknown&quot;</td><td>&quot;A2LM3PDDT7EZKC&quot;</td><td>&quot;Tosh Ogawo&quot;</td><td>&quot;4/4&quot;</td><td>5.0</td><td>&quot;1052352000&quot;</td><td>&quot;MUSIC IS FIRST, AND SO IS THE PIANO. WONDERFUL !!!&quot;</td><td>&quot;Mr. Chiu offered this listener arguably the most gratifying recorded music experience. He approache…</td></tr><tr><td>&quot;B00000EL3M&quot;</td><td>&quot;Fire of Freedom&quot;</td><td>&quot;unknown&quot;</td><td>&quot;A3TD3W8KTCKELN&quot;</td><td>&quot;&quot;devilzeye&quot;&quot;</td><td>&quot;3/3&quot;</td><td>5.0</td><td>&quot;945820800&quot;</td><td>&quot;Brilliant Lyrics Matched with Superb Melodies!A Sure Winner!&quot;</td><td>&quot;I never tire of playing this CD: it is my favorite , from my favorite band: Black 47! Its rare to f…</td></tr><tr><td>&quot;B0000667PK&quot;</td><td>&quot;Brazilian Love Affair 3&quot;</td><td>&quot;unknown&quot;</td><td>&quot;A3CN9CCJUNIPKT&quot;</td><td>&quot;DJ Joe Sixpack&quot;</td><td>&quot;0/0&quot;</td><td>4.0</td><td>&quot;1041984000&quot;</td><td>&quot;Surprisingly nice for a mellow, acid jazz set...&quot;</td><td>&quot;Lounge-y Brazilian electronica and soft funk-fusion. I was actually surprised by how much I enjoyed…</td></tr></tbody></table></div>"
      ],
      "text/plain": [
       "shape: (5, 10)\n",
       "┌──────────┬─────────┬─────────┬─────────┬─────────┬─────────┬───────┬─────────┬─────────┬─────────┐\n",
       "│ productI ┆ title   ┆ price   ┆ userId  ┆ profile ┆ helpful ┆ score ┆ time    ┆ summary ┆ text    │\n",
       "│ d        ┆ ---     ┆ ---     ┆ ---     ┆ Name    ┆ ness    ┆ ---   ┆ ---     ┆ ---     ┆ ---     │\n",
       "│ ---      ┆ str     ┆ str     ┆ str     ┆ ---     ┆ ---     ┆ f32   ┆ str     ┆ str     ┆ str     │\n",
       "│ str      ┆         ┆         ┆         ┆ str     ┆ str     ┆       ┆         ┆         ┆         │\n",
       "╞══════════╪═════════╪═════════╪═════════╪═════════╪═════════╪═══════╪═════════╪═════════╪═════════╡\n",
       "│ B00008FF ┆ Second  ┆ unknown ┆ A3GTI1Z ┆ Tnahpel ┆ 0/0     ┆ 4.0   ┆ 1307923 ┆ Classic ┆ The     │\n",
       "│ 0U       ┆ Album   ┆         ┆ 7YE49ZS ┆ lee \"Br ┆         ┆       ┆ 200     ┆ 60's    ┆ Four    │\n",
       "│          ┆         ┆         ┆         ┆ endan\"  ┆         ┆       ┆         ┆ stuff!  ┆ Tops    │\n",
       "│          ┆         ┆         ┆         ┆         ┆         ┆       ┆         ┆         ┆ second  │\n",
       "│          ┆         ┆         ┆         ┆         ┆         ┆       ┆         ┆         ┆ album   │\n",
       "│          ┆         ┆         ┆         ┆         ┆         ┆       ┆         ┆         ┆ is form │\n",
       "│          ┆         ┆         ┆         ┆         ┆         ┆       ┆         ┆         ┆ ulaic;  │\n",
       "│          ┆         ┆         ┆         ┆         ┆         ┆       ┆         ┆         ┆ you     │\n",
       "│          ┆         ┆         ┆         ┆         ┆         ┆       ┆         ┆         ┆ know,   │\n",
       "│          ┆         ┆         ┆         ┆         ┆         ┆       ┆         ┆         ┆ vibraph │\n",
       "│          ┆         ┆         ┆         ┆         ┆         ┆       ┆         ┆         ┆ one     │\n",
       "│          ┆         ┆         ┆         ┆         ┆         ┆       ┆         ┆         ┆ laced   │\n",
       "│          ┆         ┆         ┆         ┆         ┆         ┆       ┆         ┆         ┆ motown  │\n",
       "│          ┆         ┆         ┆         ┆         ┆         ┆       ┆         ┆         ┆ pop,    │\n",
       "│          ┆         ┆         ┆         ┆         ┆         ┆       ┆         ┆         ┆ with a  │\n",
       "│          ┆         ┆         ┆         ┆         ┆         ┆       ┆         ┆         ┆ striden │\n",
       "│          ┆         ┆         ┆         ┆         ┆         ┆       ┆         ┆         ┆ t beat… │\n",
       "│ B0007N2G ┆ Plavnik ┆ unknown ┆ A3H63KQ ┆ 10catz  ┆ 0/0     ┆ 5.0   ┆ 1137974 ┆ Another ┆ I am    │\n",
       "│ 2U       ┆ i       ┆         ┆ JJIX264 ┆         ┆         ┆       ┆ 400     ┆ great   ┆ somewha │\n",
       "│          ┆         ┆         ┆         ┆         ┆         ┆       ┆         ┆ one by  ┆ t repea │\n",
       "│          ┆         ┆         ┆         ┆         ┆         ┆       ┆         ┆ Dolphin ┆ ting my │\n",
       "│          ┆         ┆         ┆         ┆         ┆         ┆       ┆         ┆ .       ┆ review  │\n",
       "│          ┆         ┆         ┆         ┆         ┆         ┆       ┆         ┆         ┆ of      │\n",
       "│          ┆         ┆         ┆         ┆         ┆         ┆       ┆         ┆         ┆ another │\n",
       "│          ┆         ┆         ┆         ┆         ┆         ┆       ┆         ┆         ┆ of Doph │\n",
       "│          ┆         ┆         ┆         ┆         ┆         ┆       ┆         ┆         ┆ in's    │\n",
       "│          ┆         ┆         ┆         ┆         ┆         ┆       ┆         ┆         ┆ CD's    │\n",
       "│          ┆         ┆         ┆         ┆         ┆         ┆       ┆         ┆         ┆ \"Zvezda │\n",
       "│          ┆         ┆         ┆         ┆         ┆         ┆       ┆         ┆         ┆ \":Dolph │\n",
       "│          ┆         ┆         ┆         ┆         ┆         ┆       ┆         ┆         ┆ in,     │\n",
       "│          ┆         ┆         ┆         ┆         ┆         ┆       ┆         ┆         ┆ also    │\n",
       "│          ┆         ┆         ┆         ┆         ┆         ┆       ┆         ┆         ┆ know as │\n",
       "│          ┆         ┆         ┆         ┆         ┆         ┆       ┆         ┆         ┆ Delfin  │\n",
       "│          ┆         ┆         ┆         ┆         ┆         ┆       ┆         ┆         ┆ …       │\n",
       "│ B0000007 ┆ Romeo & ┆ unknown ┆ A2LM3PD ┆ Tosh    ┆ 4/4     ┆ 5.0   ┆ 1052352 ┆ MUSIC   ┆ Mr.     │\n",
       "│ EV       ┆ Juliet  ┆         ┆ DT7EZKC ┆ Ogawo   ┆         ┆       ┆ 000     ┆ IS      ┆ Chiu    │\n",
       "│          ┆ / Cinde ┆         ┆         ┆         ┆         ┆       ┆         ┆ FIRST,  ┆ offered │\n",
       "│          ┆ rella   ┆         ┆         ┆         ┆         ┆       ┆         ┆ AND SO  ┆ this    │\n",
       "│          ┆         ┆         ┆         ┆         ┆         ┆       ┆         ┆ IS THE  ┆ listene │\n",
       "│          ┆         ┆         ┆         ┆         ┆         ┆       ┆         ┆ PIANO.  ┆ r argua │\n",
       "│          ┆         ┆         ┆         ┆         ┆         ┆       ┆         ┆ WONDERF ┆ bly the │\n",
       "│          ┆         ┆         ┆         ┆         ┆         ┆       ┆         ┆ UL !!!  ┆ most    │\n",
       "│          ┆         ┆         ┆         ┆         ┆         ┆       ┆         ┆         ┆ gratify │\n",
       "│          ┆         ┆         ┆         ┆         ┆         ┆       ┆         ┆         ┆ ing rec │\n",
       "│          ┆         ┆         ┆         ┆         ┆         ┆       ┆         ┆         ┆ orded   │\n",
       "│          ┆         ┆         ┆         ┆         ┆         ┆       ┆         ┆         ┆ music   │\n",
       "│          ┆         ┆         ┆         ┆         ┆         ┆       ┆         ┆         ┆ experie │\n",
       "│          ┆         ┆         ┆         ┆         ┆         ┆       ┆         ┆         ┆ nce. He │\n",
       "│          ┆         ┆         ┆         ┆         ┆         ┆       ┆         ┆         ┆ approac │\n",
       "│          ┆         ┆         ┆         ┆         ┆         ┆       ┆         ┆         ┆ hes…    │\n",
       "│ B00000EL ┆ Fire of ┆ unknown ┆ A3TD3W8 ┆ \"devilz ┆ 3/3     ┆ 5.0   ┆ 9458208 ┆ Brillia ┆ I never │\n",
       "│ 3M       ┆ Freedom ┆         ┆ KTCKELN ┆ eye\"    ┆         ┆       ┆ 00      ┆ nt      ┆ tire of │\n",
       "│          ┆         ┆         ┆         ┆         ┆         ┆       ┆         ┆ Lyrics  ┆ playing │\n",
       "│          ┆         ┆         ┆         ┆         ┆         ┆       ┆         ┆ Matched ┆ this    │\n",
       "│          ┆         ┆         ┆         ┆         ┆         ┆       ┆         ┆ with    ┆ CD: it  │\n",
       "│          ┆         ┆         ┆         ┆         ┆         ┆       ┆         ┆ Superb  ┆ is my   │\n",
       "│          ┆         ┆         ┆         ┆         ┆         ┆       ┆         ┆ Melodie ┆ favorit │\n",
       "│          ┆         ┆         ┆         ┆         ┆         ┆       ┆         ┆ s!A     ┆ e ,     │\n",
       "│          ┆         ┆         ┆         ┆         ┆         ┆       ┆         ┆ Sure    ┆ from my │\n",
       "│          ┆         ┆         ┆         ┆         ┆         ┆       ┆         ┆ Winner! ┆ favorit │\n",
       "│          ┆         ┆         ┆         ┆         ┆         ┆       ┆         ┆         ┆ e band: │\n",
       "│          ┆         ┆         ┆         ┆         ┆         ┆       ┆         ┆         ┆ Black   │\n",
       "│          ┆         ┆         ┆         ┆         ┆         ┆       ┆         ┆         ┆ 47! Its │\n",
       "│          ┆         ┆         ┆         ┆         ┆         ┆       ┆         ┆         ┆ rare to │\n",
       "│          ┆         ┆         ┆         ┆         ┆         ┆       ┆         ┆         ┆ fi…     │\n",
       "│ B0000667 ┆ Brazili ┆ unknown ┆ A3CN9CC ┆ DJ Joe  ┆ 0/0     ┆ 4.0   ┆ 1041984 ┆ Surpris ┆ Lounge- │\n",
       "│ PK       ┆ an Love ┆         ┆ JUNIPKT ┆ Sixpack ┆         ┆       ┆ 000     ┆ ingly   ┆ y Brazi │\n",
       "│          ┆ Affair  ┆         ┆         ┆         ┆         ┆       ┆         ┆ nice    ┆ lian    │\n",
       "│          ┆ 3       ┆         ┆         ┆         ┆         ┆       ┆         ┆ for a   ┆ electro │\n",
       "│          ┆         ┆         ┆         ┆         ┆         ┆       ┆         ┆ mellow, ┆ nica    │\n",
       "│          ┆         ┆         ┆         ┆         ┆         ┆       ┆         ┆ acid    ┆ and     │\n",
       "│          ┆         ┆         ┆         ┆         ┆         ┆       ┆         ┆ jazz    ┆ soft    │\n",
       "│          ┆         ┆         ┆         ┆         ┆         ┆       ┆         ┆ set...  ┆ funk-fu │\n",
       "│          ┆         ┆         ┆         ┆         ┆         ┆       ┆         ┆         ┆ sion. I │\n",
       "│          ┆         ┆         ┆         ┆         ┆         ┆       ┆         ┆         ┆ was act │\n",
       "│          ┆         ┆         ┆         ┆         ┆         ┆       ┆         ┆         ┆ ually   │\n",
       "│          ┆         ┆         ┆         ┆         ┆         ┆       ┆         ┆         ┆ surpris │\n",
       "│          ┆         ┆         ┆         ┆         ┆         ┆       ┆         ┆         ┆ ed by   │\n",
       "│          ┆         ┆         ┆         ┆         ┆         ┆       ┆         ┆         ┆ how     │\n",
       "│          ┆         ┆         ┆         ┆         ┆         ┆       ┆         ┆         ┆ much I  │\n",
       "│          ┆         ┆         ┆         ┆         ┆         ┆       ┆         ┆         ┆ enjoyed │\n",
       "│          ┆         ┆         ┆         ┆         ┆         ┆       ┆         ┆         ┆ …       │\n",
       "└──────────┴─────────┴─────────┴─────────┴─────────┴─────────┴───────┴─────────┴─────────┴─────────┘"
      ]
     },
     "execution_count": 13,
     "metadata": {},
     "output_type": "execute_result"
    }
   ],
   "source": [
    "df_music_cleaned.head()"
   ]
  },
  {
   "cell_type": "code",
   "execution_count": 14,
   "metadata": {},
   "outputs": [
    {
     "data": {
      "text/plain": [
       "[{'title': \"Zoom - Best of the 70's [VHS] (2000)\", 'count': 1},\n",
       " {'title': 'Zoom', 'count': 6},\n",
       " {'title': 'Zoolook', 'count': 2},\n",
       " {'title': 'Zoologico Tropical - Fita Olivares y su grupo La Pura Sabrosura',\n",
       "  'count': 1},\n",
       " {'title': 'Zoolander', 'count': 1},\n",
       " {'title': \"Zookeeper's Boy [Vinyl]\", 'count': 1},\n",
       " {'title': \"Zookeeper's Boy\", 'count': 1},\n",
       " {'title': 'Zoocoustic', 'count': 1},\n",
       " {'title': 'Zoo of Tranquility', 'count': 1},\n",
       " {'title': 'Zoo Story', 'count': 1},\n",
       " {'title': 'Zoo Rave II', 'count': 1},\n",
       " {'title': 'Zoo Rave 2', 'count': 1},\n",
       " {'title': 'Zoo Rave', 'count': 1},\n",
       " {'title': 'Zoo Label: Uncaged', 'count': 1},\n",
       " {'title': 'Zoo Hypothesis', 'count': 1},\n",
       " {'title': 'Zoo Be Zoo Be Zoo: The Remixes [Vinyl]', 'count': 1},\n",
       " {'title': 'Zoo Bar Collection, Vol. 4: Spider in My Stew', 'count': 1},\n",
       " {'title': 'Zoo Bar Collection 3', 'count': 1},\n",
       " {'title': 'Zoo Bar Collection 2', 'count': 1},\n",
       " {'title': 'Zoo Bar Collection 1', 'count': 1}]"
      ]
     },
     "execution_count": 14,
     "metadata": {},
     "output_type": "execute_result"
    }
   ],
   "source": [
    "# Check the unique titles\n",
    "# df_music_cleaned[\"title\"].value_counts(sort=True).slice(20, 40)\n",
    "titles: list[dict[str, int]] = (\n",
    "    df_music_cleaned[\"title\"].value_counts(sort=True).to_dicts()\n",
    ")\n",
    "titles = sorted(titles, key=lambda x: x[\"title\"], reverse=True)\n",
    "titles[980:1000]"
   ]
  },
  {
   "cell_type": "code",
   "execution_count": 15,
   "metadata": {},
   "outputs": [
    {
     "data": {
      "text/html": [
       "<div><style>\n",
       ".dataframe > thead > tr,\n",
       ".dataframe > tbody > tr {\n",
       "  text-align: right;\n",
       "  white-space: pre-wrap;\n",
       "}\n",
       "</style>\n",
       "<small>shape: (3, 10)</small><table border=\"1\" class=\"dataframe\"><thead><tr><th>productId</th><th>title</th><th>price</th><th>userId</th><th>profileName</th><th>helpfulness</th><th>score</th><th>time</th><th>summary</th><th>text</th></tr><tr><td>str</td><td>str</td><td>str</td><td>str</td><td>str</td><td>str</td><td>f32</td><td>str</td><td>str</td><td>str</td></tr></thead><tbody><tr><td>&quot;B00000E9GN&quot;</td><td>&quot;Zoo Rave&quot;</td><td>&quot;unknown&quot;</td><td>&quot;A1SFF3DSLJVIEW&quot;</td><td>&quot;Ross H. Goodwin &quot;Digitally Natured Audio&quot;&quot;</td><td>&quot;5/5&quot;</td><td>5.0</td><td>&quot;1136678400&quot;</td><td>&quot;Nostalgic Frequencies....&quot;</td><td>&quot;I originally bought this as a cassette in 93. Back then I loved every moment of the cd, in retrospe…</td></tr><tr><td>&quot;B00000E9GW&quot;</td><td>&quot;Zoo Rave 2&quot;</td><td>&quot;2.99&quot;</td><td>&quot;A3DF6EAZ020LUI&quot;</td><td>&quot;E. Oxenberg &quot;Just another stay-at-home comput...&quot;</td><td>&quot;1/1&quot;</td><td>3.0</td><td>&quot;1121904000&quot;</td><td>&quot;Basic bloops and beeps, but a lot of fun&quot;</td><td>&quot;It is full of simple looped techno beats but I always find one really interesting track that stands…</td></tr><tr><td>&quot;B00000099A&quot;</td><td>&quot;Zoo Rave II&quot;</td><td>&quot;unknown&quot;</td><td>&quot;A1DTAWBG9UTVWR&quot;</td><td>&quot;&quot;mn2nmixr&quot;&quot;</td><td>&quot;2/2&quot;</td><td>5.0</td><td>&quot;1015200000&quot;</td><td>&quot;Perfecto&quot;</td><td>&quot;First of all, this album is from 1993, so late 90&#x27;s is impossible. A great album packed with a vari…</td></tr></tbody></table></div>"
      ],
      "text/plain": [
       "shape: (3, 10)\n",
       "┌──────────┬─────────┬─────────┬─────────┬─────────┬─────────┬───────┬─────────┬─────────┬─────────┐\n",
       "│ productI ┆ title   ┆ price   ┆ userId  ┆ profile ┆ helpful ┆ score ┆ time    ┆ summary ┆ text    │\n",
       "│ d        ┆ ---     ┆ ---     ┆ ---     ┆ Name    ┆ ness    ┆ ---   ┆ ---     ┆ ---     ┆ ---     │\n",
       "│ ---      ┆ str     ┆ str     ┆ str     ┆ ---     ┆ ---     ┆ f32   ┆ str     ┆ str     ┆ str     │\n",
       "│ str      ┆         ┆         ┆         ┆ str     ┆ str     ┆       ┆         ┆         ┆         │\n",
       "╞══════════╪═════════╪═════════╪═════════╪═════════╪═════════╪═══════╪═════════╪═════════╪═════════╡\n",
       "│ B00000E9 ┆ Zoo     ┆ unknown ┆ A1SFF3D ┆ Ross H. ┆ 5/5     ┆ 5.0   ┆ 1136678 ┆ Nostalg ┆ I origi │\n",
       "│ GN       ┆ Rave    ┆         ┆ SLJVIEW ┆ Goodwin ┆         ┆       ┆ 400     ┆ ic Freq ┆ nally   │\n",
       "│          ┆         ┆         ┆         ┆ \"Digita ┆         ┆       ┆         ┆ uencies ┆ bought  │\n",
       "│          ┆         ┆         ┆         ┆ lly     ┆         ┆       ┆         ┆ ....    ┆ this as │\n",
       "│          ┆         ┆         ┆         ┆ Natured ┆         ┆       ┆         ┆         ┆ a casse │\n",
       "│          ┆         ┆         ┆         ┆ Audio\"  ┆         ┆       ┆         ┆         ┆ tte in  │\n",
       "│          ┆         ┆         ┆         ┆         ┆         ┆       ┆         ┆         ┆ 93.     │\n",
       "│          ┆         ┆         ┆         ┆         ┆         ┆       ┆         ┆         ┆ Back    │\n",
       "│          ┆         ┆         ┆         ┆         ┆         ┆       ┆         ┆         ┆ then I  │\n",
       "│          ┆         ┆         ┆         ┆         ┆         ┆       ┆         ┆         ┆ loved   │\n",
       "│          ┆         ┆         ┆         ┆         ┆         ┆       ┆         ┆         ┆ every   │\n",
       "│          ┆         ┆         ┆         ┆         ┆         ┆       ┆         ┆         ┆ moment  │\n",
       "│          ┆         ┆         ┆         ┆         ┆         ┆       ┆         ┆         ┆ of the  │\n",
       "│          ┆         ┆         ┆         ┆         ┆         ┆       ┆         ┆         ┆ cd, in  │\n",
       "│          ┆         ┆         ┆         ┆         ┆         ┆       ┆         ┆         ┆ retrosp │\n",
       "│          ┆         ┆         ┆         ┆         ┆         ┆       ┆         ┆         ┆ ec…     │\n",
       "│ B00000E9 ┆ Zoo     ┆ 2.99    ┆ A3DF6EA ┆ E. Oxen ┆ 1/1     ┆ 3.0   ┆ 1121904 ┆ Basic   ┆ It is   │\n",
       "│ GW       ┆ Rave 2  ┆         ┆ Z020LUI ┆ berg    ┆         ┆       ┆ 000     ┆ bloops  ┆ full of │\n",
       "│          ┆         ┆         ┆         ┆ \"Just   ┆         ┆       ┆         ┆ and     ┆ simple  │\n",
       "│          ┆         ┆         ┆         ┆ another ┆         ┆       ┆         ┆ beeps,  ┆ looped  │\n",
       "│          ┆         ┆         ┆         ┆ stay-at ┆         ┆       ┆         ┆ but a   ┆ techno  │\n",
       "│          ┆         ┆         ┆         ┆ -home   ┆         ┆       ┆         ┆ lot of  ┆ beats   │\n",
       "│          ┆         ┆         ┆         ┆ comput. ┆         ┆       ┆         ┆ fun     ┆ but I   │\n",
       "│          ┆         ┆         ┆         ┆ ..      ┆         ┆       ┆         ┆         ┆ always  │\n",
       "│          ┆         ┆         ┆         ┆         ┆         ┆       ┆         ┆         ┆ find    │\n",
       "│          ┆         ┆         ┆         ┆         ┆         ┆       ┆         ┆         ┆ one     │\n",
       "│          ┆         ┆         ┆         ┆         ┆         ┆       ┆         ┆         ┆ really  │\n",
       "│          ┆         ┆         ┆         ┆         ┆         ┆       ┆         ┆         ┆ interes │\n",
       "│          ┆         ┆         ┆         ┆         ┆         ┆       ┆         ┆         ┆ ting    │\n",
       "│          ┆         ┆         ┆         ┆         ┆         ┆       ┆         ┆         ┆ track   │\n",
       "│          ┆         ┆         ┆         ┆         ┆         ┆       ┆         ┆         ┆ that    │\n",
       "│          ┆         ┆         ┆         ┆         ┆         ┆       ┆         ┆         ┆ stands  │\n",
       "│          ┆         ┆         ┆         ┆         ┆         ┆       ┆         ┆         ┆ …       │\n",
       "│ B0000009 ┆ Zoo     ┆ unknown ┆ A1DTAWB ┆ \"mn2nmi ┆ 2/2     ┆ 5.0   ┆ 1015200 ┆ Perfect ┆ First   │\n",
       "│ 9A       ┆ Rave II ┆         ┆ G9UTVWR ┆ xr\"     ┆         ┆       ┆ 000     ┆ o       ┆ of all, │\n",
       "│          ┆         ┆         ┆         ┆         ┆         ┆       ┆         ┆         ┆ this    │\n",
       "│          ┆         ┆         ┆         ┆         ┆         ┆       ┆         ┆         ┆ album   │\n",
       "│          ┆         ┆         ┆         ┆         ┆         ┆       ┆         ┆         ┆ is from │\n",
       "│          ┆         ┆         ┆         ┆         ┆         ┆       ┆         ┆         ┆ 1993,   │\n",
       "│          ┆         ┆         ┆         ┆         ┆         ┆       ┆         ┆         ┆ so late │\n",
       "│          ┆         ┆         ┆         ┆         ┆         ┆       ┆         ┆         ┆ 90's is │\n",
       "│          ┆         ┆         ┆         ┆         ┆         ┆       ┆         ┆         ┆ impossi │\n",
       "│          ┆         ┆         ┆         ┆         ┆         ┆       ┆         ┆         ┆ ble. A  │\n",
       "│          ┆         ┆         ┆         ┆         ┆         ┆       ┆         ┆         ┆ great   │\n",
       "│          ┆         ┆         ┆         ┆         ┆         ┆       ┆         ┆         ┆ album   │\n",
       "│          ┆         ┆         ┆         ┆         ┆         ┆       ┆         ┆         ┆ packed  │\n",
       "│          ┆         ┆         ┆         ┆         ┆         ┆       ┆         ┆         ┆ with a  │\n",
       "│          ┆         ┆         ┆         ┆         ┆         ┆       ┆         ┆         ┆ varie…  │\n",
       "└──────────┴─────────┴─────────┴─────────┴─────────┴─────────┴───────┴─────────┴─────────┴─────────┘"
      ]
     },
     "execution_count": 15,
     "metadata": {},
     "output_type": "execute_result"
    }
   ],
   "source": [
    "text: str = \"zoo rave\"\n",
    "df_music_cleaned.filter(pl.col(\"title\").str.to_lowercase().str.contains(text))"
   ]
  },
  {
   "cell_type": "markdown",
   "metadata": {},
   "source": [
    "### Apply Levenshtein Distance\n",
    "\n",
    "- Levenshtein Distance is a string metric used to measure the difference between two sequences.\n",
    "- It calculates the `minimum number of single-character edits` (`insertions`, `deletions`, or `substitutions`) required to change one word into another.\n",
    "- It provides a quantitative measure of how dissimilar two strings are, which can be very useful in recommendation systems, especially for handling `typos` or `slight variations` in text input.\n",
    "- It's an effective way to find close matches even when there are small differences between strings."
   ]
  },
  {
   "cell_type": "code",
   "execution_count": 16,
   "metadata": {},
   "outputs": [],
   "source": [
    "def levenshtein_distance(s1: str, s2: str) -> int:\n",
    "    \"\"\"\n",
    "    Calculate the Levenshtein distance between two strings.\n",
    "\n",
    "    Parameters\n",
    "    ----------\n",
    "    s1 : str\n",
    "        The first string.\n",
    "    s2 : str\n",
    "        The second string.\n",
    "\n",
    "    Returns\n",
    "    -------\n",
    "    int\n",
    "        The Levenshtein distance between s1 and s2.\n",
    "\n",
    "    Example\n",
    "    -------\n",
    "    >>> levenshtein_distance(\"kitten\", \"sitting\")\n",
    "    3\n",
    "    \"\"\"\n",
    "    if len(s1) < len(s2):\n",
    "        return levenshtein_distance(s2, s1)\n",
    "\n",
    "    if len(s2) == 0:\n",
    "        return len(s1)\n",
    "\n",
    "    previous_row: list[int] = list(range(len(s2) + 1))\n",
    "    for i, c1 in enumerate(s1):\n",
    "        current_row: list[int] = [i + 1]\n",
    "        for j, c2 in enumerate(s2):\n",
    "            insertions: int = previous_row[j + 1] + 1\n",
    "            deletions: int = current_row[j] + 1\n",
    "            substitutions: int = previous_row[j] + (c1 != c2)\n",
    "            current_row.append(min(insertions, deletions, substitutions))\n",
    "        previous_row = current_row\n",
    "\n",
    "    return previous_row[-1]\n",
    "\n",
    "\n",
    "def compute_string_similarity(s1: str, s2: str) -> float:\n",
    "    \"\"\"\n",
    "    Compute the similarity between two strings based on Levenshtein distance.\n",
    "\n",
    "    Parameters\n",
    "    ----------\n",
    "    s1 : str\n",
    "        The first string.\n",
    "    s2 : str\n",
    "        The second string.\n",
    "\n",
    "    Returns\n",
    "    -------\n",
    "    float\n",
    "        A similarity score between 0 and 1, where 1 indicates identical strings.\n",
    "    \"\"\"\n",
    "    distance: int = levenshtein_distance(s1, s2)\n",
    "    max_length: int = max(len(s1), len(s2))\n",
    "    similarity: float = 1 - (distance / max_length)\n",
    "    return round(similarity, 4)"
   ]
  },
  {
   "cell_type": "code",
   "execution_count": 17,
   "metadata": {},
   "outputs": [
    {
     "name": "stdout",
     "output_type": "stream",
     "text": [
      "distance = 1\n",
      "similarity = 0.8333\n"
     ]
    }
   ],
   "source": [
    "s1, s2 = \"friend\", \"fiend\"\n",
    "distance: int = levenshtein_distance(s1=s1, s2=s2)\n",
    "print(f\"{distance = }\")\n",
    "\n",
    "similarity: float = compute_string_similarity(s1=s1, s2=s2)\n",
    "print(f\"{similarity = }\")"
   ]
  },
  {
   "cell_type": "code",
   "execution_count": 38,
   "metadata": {},
   "outputs": [
    {
     "data": {
      "text/html": [
       "<div><style>\n",
       ".dataframe > thead > tr,\n",
       ".dataframe > tbody > tr {\n",
       "  text-align: right;\n",
       "  white-space: pre-wrap;\n",
       "}\n",
       "</style>\n",
       "<small>shape: (5, 2)</small><table border=\"1\" class=\"dataframe\"><thead><tr><th>title</th><th>ratings</th></tr><tr><td>str</td><td>i64</td></tr></thead><tbody><tr><td>&quot;spider man&quot;</td><td>5</td></tr><tr><td>&quot;Spider-Man&quot;</td><td>5</td></tr><tr><td>&quot;Spiderman&quot;</td><td>4</td></tr><tr><td>&quot;Anikulapo&quot;</td><td>3</td></tr><tr><td>&quot;Aniku la po&quot;</td><td>3</td></tr></tbody></table></div>"
      ],
      "text/plain": [
       "shape: (5, 2)\n",
       "┌─────────────┬─────────┐\n",
       "│ title       ┆ ratings │\n",
       "│ ---         ┆ ---     │\n",
       "│ str         ┆ i64     │\n",
       "╞═════════════╪═════════╡\n",
       "│ spider man  ┆ 5       │\n",
       "│ Spider-Man  ┆ 5       │\n",
       "│ Spiderman   ┆ 4       │\n",
       "│ Anikulapo   ┆ 3       │\n",
       "│ Aniku la po ┆ 3       │\n",
       "└─────────────┴─────────┘"
      ]
     },
     "execution_count": 38,
     "metadata": {},
     "output_type": "execute_result"
    }
   ],
   "source": [
    "temp_df: pl.DataFrame = pl.DataFrame(\n",
    "    data={\n",
    "        \"title\": [\n",
    "            \"spider man\",\n",
    "            \"Spider-Man\",\n",
    "            \"Spiderman\",\n",
    "            \"Anikulapo\",\n",
    "            \"Aniku la po\",\n",
    "        ],\n",
    "        \"ratings\": [5, 5, 4, 3, 3],\n",
    "    }\n",
    ")\n",
    "temp_df"
   ]
  },
  {
   "cell_type": "code",
   "execution_count": 39,
   "metadata": {},
   "outputs": [
    {
     "data": {
      "text/html": [
       "<div><style>\n",
       ".dataframe > thead > tr,\n",
       ".dataframe > tbody > tr {\n",
       "  text-align: right;\n",
       "  white-space: pre-wrap;\n",
       "}\n",
       "</style>\n",
       "<small>shape: (0, 3)</small><table border=\"1\" class=\"dataframe\"><thead><tr><th>title_1</th><th>title_2</th><th>similarity</th></tr><tr><td>str</td><td>str</td><td>f32</td></tr></thead><tbody></tbody></table></div>"
      ],
      "text/plain": [
       "shape: (0, 3)\n",
       "┌─────────┬─────────┬────────────┐\n",
       "│ title_1 ┆ title_2 ┆ similarity │\n",
       "│ ---     ┆ ---     ┆ ---        │\n",
       "│ str     ┆ str     ┆ f32        │\n",
       "╞═════════╪═════════╪════════════╡\n",
       "└─────────┴─────────┴────────────┘"
      ]
     },
     "execution_count": 39,
     "metadata": {},
     "output_type": "execute_result"
    }
   ],
   "source": [
    "temp_df = temp_df.with_columns(title=pl.col(\"title\").str.to_lowercase())\n",
    "uniq_titles: list[str] = temp_df[\"title\"].unique().to_list()\n",
    "schema: dict[str, Any] = {\"title_1\": str, \"title_2\": str, \"similarity\": pl.Float32}\n",
    "similarity_df: pl.DataFrame = pl.DataFrame(schema=schema)\n",
    "similarity_df"
   ]
  },
  {
   "cell_type": "code",
   "execution_count": 40,
   "metadata": {},
   "outputs": [
    {
     "data": {
      "text/html": [
       "<div><style>\n",
       ".dataframe > thead > tr,\n",
       ".dataframe > tbody > tr {\n",
       "  text-align: right;\n",
       "  white-space: pre-wrap;\n",
       "}\n",
       "</style>\n",
       "<small>shape: (4, 3)</small><table border=\"1\" class=\"dataframe\"><thead><tr><th>title_1</th><th>title_2</th><th>similarity</th></tr><tr><td>str</td><td>str</td><td>f32</td></tr></thead><tbody><tr><td>&quot;aniku la po&quot;</td><td>&quot;anikulapo&quot;</td><td>0.8182</td></tr><tr><td>&quot;spider man&quot;</td><td>&quot;spider-man&quot;</td><td>0.9</td></tr><tr><td>&quot;spider man&quot;</td><td>&quot;spiderman&quot;</td><td>0.9</td></tr><tr><td>&quot;spider-man&quot;</td><td>&quot;spiderman&quot;</td><td>0.9</td></tr></tbody></table></div>"
      ],
      "text/plain": [
       "shape: (4, 3)\n",
       "┌─────────────┬────────────┬────────────┐\n",
       "│ title_1     ┆ title_2    ┆ similarity │\n",
       "│ ---         ┆ ---        ┆ ---        │\n",
       "│ str         ┆ str        ┆ f32        │\n",
       "╞═════════════╪════════════╪════════════╡\n",
       "│ aniku la po ┆ anikulapo  ┆ 0.8182     │\n",
       "│ spider man  ┆ spider-man ┆ 0.9        │\n",
       "│ spider man  ┆ spiderman  ┆ 0.9        │\n",
       "│ spider-man  ┆ spiderman  ┆ 0.9        │\n",
       "└─────────────┴────────────┴────────────┘"
      ]
     },
     "execution_count": 40,
     "metadata": {},
     "output_type": "execute_result"
    }
   ],
   "source": [
    "# Claculate similarity\n",
    "# for idx, title_ in enumerate(uniq_titles):\n",
    "#     for n_title_ in lem()\n",
    "\n",
    "result: list[dict[str, Any]] = []\n",
    "threshold: float = 0.8\n",
    "\n",
    "for idx, title_ in enumerate(uniq_titles):\n",
    "    for n_title_ in uniq_titles[idx + 1 :]:\n",
    "        score: float = compute_string_similarity(title_, n_title_)\n",
    "        if score >= threshold:\n",
    "            result.append({\"title_1\": title_, \"title_2\": n_title_, \"similarity\": score})\n",
    "d: pl.DataFrame = pl.DataFrame(result, schema=schema)\n",
    "similarity_df = pl.concat([similarity_df, d]).sort(by=\"title_1\", descending=False)\n",
    "similarity_df"
   ]
  },
  {
   "cell_type": "code",
   "execution_count": 55,
   "metadata": {},
   "outputs": [],
   "source": [
    "def compute_similarity_matrix(\n",
    "    unique_titles: list[str], threshold: float = 0.8\n",
    ") -> pl.DataFrame:\n",
    "    \"\"\"\n",
    "    Compute similarity matrix for unique titles.\n",
    "\n",
    "    Parameters\n",
    "    ----------\n",
    "    unique_titles : list[str]\n",
    "        List of unique titles to compare.\n",
    "    threshold : float, optional\n",
    "        Similarity threshold for including pairs, by default 0.8.\n",
    "\n",
    "    Returns\n",
    "    -------\n",
    "    pl.DataFrame\n",
    "        DataFrame containing similarity scores for title pairs above the threshold.\n",
    "    \"\"\"\n",
    "    schema: dict[str, Any] = {\"title_1\": str, \"title_2\": str, \"similarity\": pl.Float32}\n",
    "    result: list[dict[str, Any]] = []\n",
    "\n",
    "    for idx, title_ in enumerate(unique_titles):\n",
    "        for n_title_ in unique_titles[idx + 1 :]:\n",
    "            score: float = compute_string_similarity(title_, n_title_)\n",
    "            if score >= threshold:\n",
    "                result.append(\n",
    "                    {\"title_1\": title_, \"title_2\": n_title_, \"similarity\": score}\n",
    "                )\n",
    "\n",
    "    d: pl.DataFrame = pl.DataFrame(result, schema=schema)\n",
    "    similarity_df: pl.DataFrame = pl.DataFrame(data=d, schema=schema).sort(\n",
    "        by=\"title_1\", descending=False\n",
    "    )\n",
    "    return similarity_df"
   ]
  },
  {
   "cell_type": "code",
   "execution_count": 51,
   "metadata": {},
   "outputs": [],
   "source": [
    "def create_title_mapping(similarity_list: list[dict[str, str]]) -> dict[str, str]:\n",
    "    \"\"\"\n",
    "    Create a mapping of variant titles to their canonical forms.\n",
    "\n",
    "    Parameters\n",
    "    ----------\n",
    "    similarity_list : list[dict[str, str]]\n",
    "        A list of dictionaries, where each dictionary contains\n",
    "        'title_1' and 'title_2' keys with string values.\n",
    "\n",
    "    Returns\n",
    "    -------\n",
    "    dict[str, str]\n",
    "        A dictionary mapping variant titles to their canonical forms.\n",
    "\n",
    "    Notes\n",
    "    -----\n",
    "    The canonical form is chosen as the shorter of the two titles.\n",
    "    \"\"\"\n",
    "    mapping: dict[str, str] = {}\n",
    "\n",
    "    for item in similarity_list:\n",
    "        title_1: str = item[\"title_1\"]\n",
    "        title_2: str = item[\"title_2\"]\n",
    "\n",
    "        # Choose the shorter title as the canonical form\n",
    "        if len(title_1) <= len(title_2):\n",
    "            canonical: str = title_1\n",
    "            variant: str = title_2\n",
    "        else:\n",
    "            canonical: str = title_2\n",
    "            variant: str = title_1\n",
    "\n",
    "        mapping[variant] = canonical\n",
    "\n",
    "    return mapping\n",
    "\n",
    "\n",
    "def replace_similar(title: str, mapping: dict[str, str]) -> str:\n",
    "    return mapping.get(title, title)"
   ]
  },
  {
   "cell_type": "code",
   "execution_count": 56,
   "metadata": {},
   "outputs": [
    {
     "data": {
      "text/html": [
       "<div><style>\n",
       ".dataframe > thead > tr,\n",
       ".dataframe > tbody > tr {\n",
       "  text-align: right;\n",
       "  white-space: pre-wrap;\n",
       "}\n",
       "</style>\n",
       "<small>shape: (4, 3)</small><table border=\"1\" class=\"dataframe\"><thead><tr><th>title_1</th><th>title_2</th><th>similarity</th></tr><tr><td>str</td><td>str</td><td>f32</td></tr></thead><tbody><tr><td>&quot;aniku la po&quot;</td><td>&quot;anikulapo&quot;</td><td>0.8182</td></tr><tr><td>&quot;spider man&quot;</td><td>&quot;spider-man&quot;</td><td>0.9</td></tr><tr><td>&quot;spider man&quot;</td><td>&quot;spiderman&quot;</td><td>0.9</td></tr><tr><td>&quot;spider-man&quot;</td><td>&quot;spiderman&quot;</td><td>0.9</td></tr></tbody></table></div>"
      ],
      "text/plain": [
       "shape: (4, 3)\n",
       "┌─────────────┬────────────┬────────────┐\n",
       "│ title_1     ┆ title_2    ┆ similarity │\n",
       "│ ---         ┆ ---        ┆ ---        │\n",
       "│ str         ┆ str        ┆ f32        │\n",
       "╞═════════════╪════════════╪════════════╡\n",
       "│ aniku la po ┆ anikulapo  ┆ 0.8182     │\n",
       "│ spider man  ┆ spider-man ┆ 0.9        │\n",
       "│ spider man  ┆ spiderman  ┆ 0.9        │\n",
       "│ spider-man  ┆ spiderman  ┆ 0.9        │\n",
       "└─────────────┴────────────┴────────────┘"
      ]
     },
     "execution_count": 56,
     "metadata": {},
     "output_type": "execute_result"
    }
   ],
   "source": [
    "similarity_df: pl.DataFrame = compute_similarity_matrix(\n",
    "    unique_titles=uniq_titles, threshold=0.75\n",
    ")\n",
    "similarity_df"
   ]
  },
  {
   "cell_type": "code",
   "execution_count": 57,
   "metadata": {},
   "outputs": [
    {
     "data": {
      "text/plain": [
       "{'aniku la po': 'anikulapo',\n",
       " 'spider-man': 'spiderman',\n",
       " 'spider man': 'spiderman'}"
      ]
     },
     "execution_count": 57,
     "metadata": {},
     "output_type": "execute_result"
    }
   ],
   "source": [
    "mapping: dict[str, str] = create_title_mapping(similarity_list=similarity_df.to_dicts())\n",
    "mapping"
   ]
  },
  {
   "cell_type": "code",
   "execution_count": 58,
   "metadata": {},
   "outputs": [
    {
     "data": {
      "text/html": [
       "<div><style>\n",
       ".dataframe > thead > tr,\n",
       ".dataframe > tbody > tr {\n",
       "  text-align: right;\n",
       "  white-space: pre-wrap;\n",
       "}\n",
       "</style>\n",
       "<small>shape: (5, 2)</small><table border=\"1\" class=\"dataframe\"><thead><tr><th>title</th><th>ratings</th></tr><tr><td>str</td><td>i64</td></tr></thead><tbody><tr><td>&quot;spiderman&quot;</td><td>5</td></tr><tr><td>&quot;spiderman&quot;</td><td>5</td></tr><tr><td>&quot;spiderman&quot;</td><td>4</td></tr><tr><td>&quot;anikulapo&quot;</td><td>3</td></tr><tr><td>&quot;anikulapo&quot;</td><td>3</td></tr></tbody></table></div>"
      ],
      "text/plain": [
       "shape: (5, 2)\n",
       "┌───────────┬─────────┐\n",
       "│ title     ┆ ratings │\n",
       "│ ---       ┆ ---     │\n",
       "│ str       ┆ i64     │\n",
       "╞═══════════╪═════════╡\n",
       "│ spiderman ┆ 5       │\n",
       "│ spiderman ┆ 5       │\n",
       "│ spiderman ┆ 4       │\n",
       "│ anikulapo ┆ 3       │\n",
       "│ anikulapo ┆ 3       │\n",
       "└───────────┴─────────┘"
      ]
     },
     "execution_count": 58,
     "metadata": {},
     "output_type": "execute_result"
    }
   ],
   "source": [
    "# Apply the replacement to the DataFrame\n",
    "temp_df = temp_df.with_columns(\n",
    "    title=pl.col(\"title\").map_elements(\n",
    "        lambda x: replace_similar(x, mapping), return_dtype=pl.Utf8\n",
    "    )\n",
    ")\n",
    "temp_df"
   ]
  },
  {
   "cell_type": "markdown",
   "metadata": {},
   "source": [
    "#### Apply To the Data"
   ]
  },
  {
   "cell_type": "code",
   "execution_count": 53,
   "metadata": {},
   "outputs": [
    {
     "data": {
      "text/html": [
       "<div><style>\n",
       ".dataframe > thead > tr,\n",
       ".dataframe > tbody > tr {\n",
       "  text-align: right;\n",
       "  white-space: pre-wrap;\n",
       "}\n",
       "</style>\n",
       "<small>shape: (3, 10)</small><table border=\"1\" class=\"dataframe\"><thead><tr><th>productId</th><th>title</th><th>price</th><th>userId</th><th>profileName</th><th>helpfulness</th><th>score</th><th>time</th><th>summary</th><th>text</th></tr><tr><td>str</td><td>str</td><td>str</td><td>str</td><td>str</td><td>str</td><td>f32</td><td>str</td><td>str</td><td>str</td></tr></thead><tbody><tr><td>&quot;B00008FF0U&quot;</td><td>&quot;Second Album&quot;</td><td>&quot;unknown&quot;</td><td>&quot;A3GTI1Z7YE49ZS&quot;</td><td>&quot;Tnahpellee &quot;Brendan&quot;&quot;</td><td>&quot;0/0&quot;</td><td>4.0</td><td>&quot;1307923200&quot;</td><td>&quot;Classic 60&#x27;s stuff!&quot;</td><td>&quot;The Four Tops second album is formulaic; you know, vibraphone laced motown pop, with a strident bea…</td></tr><tr><td>&quot;B0007N2G2U&quot;</td><td>&quot;Plavniki&quot;</td><td>&quot;unknown&quot;</td><td>&quot;A3H63KQJJIX264&quot;</td><td>&quot;10catz&quot;</td><td>&quot;0/0&quot;</td><td>5.0</td><td>&quot;1137974400&quot;</td><td>&quot;Another great one by Dolphin.&quot;</td><td>&quot;I am somewhat repeating my review of another of Dophin&#x27;s CD&#x27;s &quot;Zvezda&quot;:Dolphin, also know as Delfin…</td></tr><tr><td>&quot;B0000007EV&quot;</td><td>&quot;Romeo &amp; Juliet / Cinderella&quot;</td><td>&quot;unknown&quot;</td><td>&quot;A2LM3PDDT7EZKC&quot;</td><td>&quot;Tosh Ogawo&quot;</td><td>&quot;4/4&quot;</td><td>5.0</td><td>&quot;1052352000&quot;</td><td>&quot;MUSIC IS FIRST, AND SO IS THE PIANO. WONDERFUL !!!&quot;</td><td>&quot;Mr. Chiu offered this listener arguably the most gratifying recorded music experience. He approache…</td></tr></tbody></table></div>"
      ],
      "text/plain": [
       "shape: (3, 10)\n",
       "┌──────────┬─────────┬─────────┬─────────┬─────────┬─────────┬───────┬─────────┬─────────┬─────────┐\n",
       "│ productI ┆ title   ┆ price   ┆ userId  ┆ profile ┆ helpful ┆ score ┆ time    ┆ summary ┆ text    │\n",
       "│ d        ┆ ---     ┆ ---     ┆ ---     ┆ Name    ┆ ness    ┆ ---   ┆ ---     ┆ ---     ┆ ---     │\n",
       "│ ---      ┆ str     ┆ str     ┆ str     ┆ ---     ┆ ---     ┆ f32   ┆ str     ┆ str     ┆ str     │\n",
       "│ str      ┆         ┆         ┆         ┆ str     ┆ str     ┆       ┆         ┆         ┆         │\n",
       "╞══════════╪═════════╪═════════╪═════════╪═════════╪═════════╪═══════╪═════════╪═════════╪═════════╡\n",
       "│ B00008FF ┆ Second  ┆ unknown ┆ A3GTI1Z ┆ Tnahpel ┆ 0/0     ┆ 4.0   ┆ 1307923 ┆ Classic ┆ The     │\n",
       "│ 0U       ┆ Album   ┆         ┆ 7YE49ZS ┆ lee \"Br ┆         ┆       ┆ 200     ┆ 60's    ┆ Four    │\n",
       "│          ┆         ┆         ┆         ┆ endan\"  ┆         ┆       ┆         ┆ stuff!  ┆ Tops    │\n",
       "│          ┆         ┆         ┆         ┆         ┆         ┆       ┆         ┆         ┆ second  │\n",
       "│          ┆         ┆         ┆         ┆         ┆         ┆       ┆         ┆         ┆ album   │\n",
       "│          ┆         ┆         ┆         ┆         ┆         ┆       ┆         ┆         ┆ is form │\n",
       "│          ┆         ┆         ┆         ┆         ┆         ┆       ┆         ┆         ┆ ulaic;  │\n",
       "│          ┆         ┆         ┆         ┆         ┆         ┆       ┆         ┆         ┆ you     │\n",
       "│          ┆         ┆         ┆         ┆         ┆         ┆       ┆         ┆         ┆ know,   │\n",
       "│          ┆         ┆         ┆         ┆         ┆         ┆       ┆         ┆         ┆ vibraph │\n",
       "│          ┆         ┆         ┆         ┆         ┆         ┆       ┆         ┆         ┆ one     │\n",
       "│          ┆         ┆         ┆         ┆         ┆         ┆       ┆         ┆         ┆ laced   │\n",
       "│          ┆         ┆         ┆         ┆         ┆         ┆       ┆         ┆         ┆ motown  │\n",
       "│          ┆         ┆         ┆         ┆         ┆         ┆       ┆         ┆         ┆ pop,    │\n",
       "│          ┆         ┆         ┆         ┆         ┆         ┆       ┆         ┆         ┆ with a  │\n",
       "│          ┆         ┆         ┆         ┆         ┆         ┆       ┆         ┆         ┆ striden │\n",
       "│          ┆         ┆         ┆         ┆         ┆         ┆       ┆         ┆         ┆ t beat… │\n",
       "│ B0007N2G ┆ Plavnik ┆ unknown ┆ A3H63KQ ┆ 10catz  ┆ 0/0     ┆ 5.0   ┆ 1137974 ┆ Another ┆ I am    │\n",
       "│ 2U       ┆ i       ┆         ┆ JJIX264 ┆         ┆         ┆       ┆ 400     ┆ great   ┆ somewha │\n",
       "│          ┆         ┆         ┆         ┆         ┆         ┆       ┆         ┆ one by  ┆ t repea │\n",
       "│          ┆         ┆         ┆         ┆         ┆         ┆       ┆         ┆ Dolphin ┆ ting my │\n",
       "│          ┆         ┆         ┆         ┆         ┆         ┆       ┆         ┆ .       ┆ review  │\n",
       "│          ┆         ┆         ┆         ┆         ┆         ┆       ┆         ┆         ┆ of      │\n",
       "│          ┆         ┆         ┆         ┆         ┆         ┆       ┆         ┆         ┆ another │\n",
       "│          ┆         ┆         ┆         ┆         ┆         ┆       ┆         ┆         ┆ of Doph │\n",
       "│          ┆         ┆         ┆         ┆         ┆         ┆       ┆         ┆         ┆ in's    │\n",
       "│          ┆         ┆         ┆         ┆         ┆         ┆       ┆         ┆         ┆ CD's    │\n",
       "│          ┆         ┆         ┆         ┆         ┆         ┆       ┆         ┆         ┆ \"Zvezda │\n",
       "│          ┆         ┆         ┆         ┆         ┆         ┆       ┆         ┆         ┆ \":Dolph │\n",
       "│          ┆         ┆         ┆         ┆         ┆         ┆       ┆         ┆         ┆ in,     │\n",
       "│          ┆         ┆         ┆         ┆         ┆         ┆       ┆         ┆         ┆ also    │\n",
       "│          ┆         ┆         ┆         ┆         ┆         ┆       ┆         ┆         ┆ know as │\n",
       "│          ┆         ┆         ┆         ┆         ┆         ┆       ┆         ┆         ┆ Delfin  │\n",
       "│          ┆         ┆         ┆         ┆         ┆         ┆       ┆         ┆         ┆ …       │\n",
       "│ B0000007 ┆ Romeo & ┆ unknown ┆ A2LM3PD ┆ Tosh    ┆ 4/4     ┆ 5.0   ┆ 1052352 ┆ MUSIC   ┆ Mr.     │\n",
       "│ EV       ┆ Juliet  ┆         ┆ DT7EZKC ┆ Ogawo   ┆         ┆       ┆ 000     ┆ IS      ┆ Chiu    │\n",
       "│          ┆ / Cinde ┆         ┆         ┆         ┆         ┆       ┆         ┆ FIRST,  ┆ offered │\n",
       "│          ┆ rella   ┆         ┆         ┆         ┆         ┆       ┆         ┆ AND SO  ┆ this    │\n",
       "│          ┆         ┆         ┆         ┆         ┆         ┆       ┆         ┆ IS THE  ┆ listene │\n",
       "│          ┆         ┆         ┆         ┆         ┆         ┆       ┆         ┆ PIANO.  ┆ r argua │\n",
       "│          ┆         ┆         ┆         ┆         ┆         ┆       ┆         ┆ WONDERF ┆ bly the │\n",
       "│          ┆         ┆         ┆         ┆         ┆         ┆       ┆         ┆ UL !!!  ┆ most    │\n",
       "│          ┆         ┆         ┆         ┆         ┆         ┆       ┆         ┆         ┆ gratify │\n",
       "│          ┆         ┆         ┆         ┆         ┆         ┆       ┆         ┆         ┆ ing rec │\n",
       "│          ┆         ┆         ┆         ┆         ┆         ┆       ┆         ┆         ┆ orded   │\n",
       "│          ┆         ┆         ┆         ┆         ┆         ┆       ┆         ┆         ┆ music   │\n",
       "│          ┆         ┆         ┆         ┆         ┆         ┆       ┆         ┆         ┆ experie │\n",
       "│          ┆         ┆         ┆         ┆         ┆         ┆       ┆         ┆         ┆ nce. He │\n",
       "│          ┆         ┆         ┆         ┆         ┆         ┆       ┆         ┆         ┆ approac │\n",
       "│          ┆         ┆         ┆         ┆         ┆         ┆       ┆         ┆         ┆ hes…    │\n",
       "└──────────┴─────────┴─────────┴─────────┴─────────┴─────────┴───────┴─────────┴─────────┴─────────┘"
      ]
     },
     "execution_count": 53,
     "metadata": {},
     "output_type": "execute_result"
    }
   ],
   "source": [
    "df_music_cleaned.head(3)"
   ]
  },
  {
   "cell_type": "code",
   "execution_count": 59,
   "metadata": {},
   "outputs": [],
   "source": [
    "df_music_cleaned = df_music_cleaned.with_columns(\n",
    "    title=pl.col(\"title\").str.to_lowercase()\n",
    ")\n",
    "uniq_titles: list[str] = df_music_cleaned[\"title\"].unique().to_list()\n",
    "similarity_df: pl.DataFrame = compute_similarity_matrix(\n",
    "    unique_titles=uniq_titles, threshold=0.75\n",
    ")\n",
    "mapping: dict[str, str] = create_title_mapping(similarity_list=similarity_df.to_dicts())\n",
    "# Apply the replacement to the DataFrame\n",
    "df_music_cleaned = df_music_cleaned.with_columns(\n",
    "    title=pl.col(\"title\").map_elements(\n",
    "        lambda x: replace_similar(x, mapping), return_dtype=pl.Utf8\n",
    "    )\n",
    ")\n",
    "df_music_cleaned.head()\n"
   ]
  },
  {
   "cell_type": "code",
   "execution_count": null,
   "metadata": {},
   "outputs": [],
   "source": [
    "text: str = \"zoo rave\"\n",
    "df_music_cleaned.filter(pl.col(\"title\").str.contains(text))"
   ]
  },
  {
   "cell_type": "code",
   "execution_count": null,
   "metadata": {},
   "outputs": [],
   "source": []
  }
 ],
 "metadata": {
  "kernelspec": {
   "display_name": "torch p_311",
   "language": "python",
   "name": "torch_p11"
  },
  "language_info": {
   "codemirror_mode": {
    "name": "ipython",
    "version": 3
   },
   "file_extension": ".py",
   "mimetype": "text/x-python",
   "name": "python",
   "nbconvert_exporter": "python",
   "pygments_lexer": "ipython3",
   "version": "3.11.8"
  }
 },
 "nbformat": 4,
 "nbformat_minor": 2
}
