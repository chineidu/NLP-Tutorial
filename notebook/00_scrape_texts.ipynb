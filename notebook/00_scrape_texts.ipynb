{
 "cells": [
  {
   "attachments": {},
   "cell_type": "markdown",
   "metadata": {},
   "source": [
    "# Scrape Texts For NLP Tasks"
   ]
  },
  {
   "cell_type": "code",
   "execution_count": 1,
   "metadata": {},
   "outputs": [],
   "source": [
    "# Standard imports\n",
    "import numpy as np\n",
    "from pprint import pprint\n",
    "import pandas as pd\n",
    "from bs4 import BeautifulSoup\n",
    "import spacy\n",
    "\n",
    "\n",
    "# Custom imports\n",
    "\n",
    "# Built-in library\n",
    "import itertools\n",
    "import re\n",
    "import json\n",
    "import requests\n",
    "from typing import Union, Optional, Any\n",
    "import logging\n",
    "import warnings\n",
    "\n",
    "# pandas settings\n",
    "pd.options.display.max_rows = 1_000\n",
    "pd.options.display.max_columns = 1_000\n",
    "pd.options.display.max_colwidth = 600\n",
    "\n",
    "# Black code formatter (Optional)\n",
    "%load_ext lab_black\n",
    "# auto reload imports\n",
    "%load_ext autoreload\n",
    "%autoreload 2"
   ]
  },
  {
   "cell_type": "code",
   "execution_count": 2,
   "metadata": {},
   "outputs": [
    {
     "name": "stdout",
     "output_type": "stream",
     "text": [
      "['Leeds United: Where did it go wrong for Jesse Marsch and who could replace him?', '', 'Leeds United are looking for their third manager in less than year after the sacking of Jesse Marsch.', '', 'After replacing Marcelo Bielsa, the American helped Leeds avoid relegation on the final day of last season.', '', \"But they are 17th, above the relegation zone only on goal difference after 20 games this campaign, with Saturday's 1-0 defeat by Nottingham Forest leading to Marsch's dismissal on Monday.\", '', 'Why did Marsch fail? Who is best suited to take over? And what do they need to do to keep Leeds up?', '', 'Watch the Football News Show - Who next for Leeds United?', \"Bamford 'a joke' for criticising Marsch tactics - Sutton\", 'MNC podcast: Jobless Jesse, Man City charged & pealess whistles', \"Don't Go To Bed Just Yet podcast - reaction to Marsch sacking\", 'Where did it go wrong for Marsch?', 'For a section of supporters it was from the beginning, because he was not his predecessor Marcelo Bielsa.', '', \"The Bielsa supporters found it difficult to accept Marsch even though the club's position in the Premier League was parlous with a dozen games to go when the Argentine was sacked.\", '', 'Others were adamant that an American coach would not work, while the majority, especially after securing last-day survival at Brentford, remained sceptical but open to the idea that he had earned his chance to start this season.', '', 'Losing Raphinha to Barcelona and Kalvin Phillips to Manchester City were blows, but reinvesting the money to buy Tyler Adams, Marc Roca, Rasmus Kristensen, Brenden Aaronson, Luis Sinisterra and Wilfried Gnonto was a clear sign that the club were backing their man.', '', 'The squad was arguably stronger. But as the games passed the narrow style Marsch was trying to implement failed to produce consistent performances, attractive football or results.', '', 'Marsch, a likeable, well-travelled and educated man whose elaborate management speak could sometimes confuse supporters, who were increasingly failing to see theory in practice.', '', \"Like Bielsa he did have to cope with significant injuries to experienced players - Stuart Dallas, Patrick Bamford and Adam Forshaw in particular - and the inability to purchase an experienced left-back to compete with Junior Firpo, who struggled for form and fitness, seemed short-sighted on the club's part.\", '', 'There were glimpses of what might have been with a stunning 3-0 win over Chelsea in August. But only two more league wins were to follow, including a late winner at Liverpool in October on a night which many thought would be his last in charge after the crowd had turned on him and the board following awful performances and results against Leicester City and at home to Fulham.', '', 'He survived against the odds and the board gave him the World Cup break to imbue his footballing philosophy in his squad, but three points from 18 on the other side of it have left United in a relegation battle, which Marsch said they were not involved in after what he called \"a complete performance\" in the 2-1 loss at Aston Villa three weeks ago.', '', 'Fans saw and thought differently. After almost a year in charge it seemed beyond him to coach the squad to its potential, which by January included a record signing in Georginio Rutter, Austria defender Max Wober and Juventus midfielder Weston McKennie on loan.', '', \"Ultimately, the club's place in the top flight, a huge investment and a pending takeover by minority shareholders San Francisco 49ers Enterprises from majority shareholder Andrea Radrizzani were all jeopardised.\", '', \"And so decisive action was taken following the defeat at Nottingham Forest. Chief executive Angus Kinnear and director of football Victor Orta delivered the news in person to Marsch at the club's Thorp Arch Academy after he had taken training for the final time.\", '', \"Radrizzani is understood to be flying in to join Orta and Kinnear to continue the search for Marsch's successor during a week that includes two matches against bitter rivals Manchester United.\", '', \"There is an initial shortlist of head coaches who they have already begun interviewing and it is hoped that an appointment can be made before Sunday's fixture at Elland Road.\", '', 'Indeed, Radrizzani suggested in a tweet on Tuesday evening that the new man could be in place as soon as Wednesday morning.', '', \"Rayo Vallecano's Andoni Iraola is understood to admired by Orta. The former Athletic Bilbao defender, who played under Bielsa, has done a stunning job at Rayo, who are defying the natural order in Spain by sitting fifth in La Liga.\", '', 'When Iraola was asked about interest from other clubs, he played his achievements down. \"Football is about the players - we, the coaches, are not as important,\" he said. \"It\\'s the players who make us seem like we are the best and I am fortunate enough to have players who are showing their level.\"', '', \"Carlos Corberan, who took Huddersfield Town to last year's Championship play-off final and could well repeat the feat with West Bromwich Albion this time around, was also linked. But the Spaniard, who worked at Leeds as both under-23s head coach and first-team assistant under Bielsa, has signed a new deal with West Brom.\", '', 'Corberan signs new West Brom deal', 'Supporters would like an ambitious appointment and that inevitably means names like Mauricio Pochettino being mentioned but he, Rafael Benitez and Steven Gerrard are not in the early reckoning.', '', \"Burnley's Vincent Kompany would certainly appeal. His playing experience in the Premier League with Manchester City and his coaching debut at Anderlecht have helped him to charge the Clarets to the top of the Championship.\", '', 'Who next for Leeds after Marsch sacking?', 'What do Leeds need to sort out to stay up?', 'The attacking third should not be an issue for United, who have a plethora of talent despite losing top scorer Rodrigo for up to eight weeks with an ankle injury.', '', 'Bamford is back fit, and with Gnonto, Rutter, Aaronson, Sinisterra, Crysencio Summerville and Jack Harrison there is plenty of fire power to score the goals required to ensure survival.', '', 'Defensively, United have looked too easily exposed with a frantic pressing style often leaving them short at the back when possession is lost, allowing opponents to unpick them easily, even when the Whites have been in advanced positions.', '', 'The tactics needs to change to allow best use of the width that exists in an exciting crop of players, rather than funnelling the play through the middle of the park.']\n"
     ]
    }
   ],
   "source": [
    "fp = \"../data/sample_text.txt\"\n",
    "\n",
    "with open(fp, \"r\") as f:\n",
    "    data = [line.strip() for line in f.readlines()]\n",
    "\n",
    "print(data)"
   ]
  },
  {
   "cell_type": "code",
   "execution_count": 3,
   "metadata": {},
   "outputs": [],
   "source": [
    "# Preprocess the data. Convert the list of sentences to a document\n",
    "# and store in a list. i.e a list of a single document.\n",
    "data_str = \"\".join(data)\n",
    "data_doc = [data_str]"
   ]
  },
  {
   "cell_type": "code",
   "execution_count": 4,
   "metadata": {},
   "outputs": [],
   "source": [
    "nlp = spacy.load(\"en_core_web_sm\")"
   ]
  },
  {
   "cell_type": "code",
   "execution_count": 5,
   "metadata": {},
   "outputs": [],
   "source": [
    "class Tokenizer:\n",
    "    \"\"\"This is used to tokenize documents\"\"\"\n",
    "\n",
    "    def __init__(self) -> None:\n",
    "        self.nlp = nlp\n",
    "\n",
    "    def __call__(self, doc: str, *args: Any, **kwargs: Any) -> list[str]:\n",
    "        # Tokenize\n",
    "        doc = nlp(doc)\n",
    "        tokenized_doc = [word.text.lower() for word in doc]\n",
    "        return tokenized_doc\n",
    "\n",
    "\n",
    "class Sentencizer:\n",
    "    \"\"\"This is used to convert a document into a list of sentences.\n",
    "    It returns sentences.\"\"\"\n",
    "\n",
    "    def __init__(self) -> None:\n",
    "        self.nlp = nlp\n",
    "\n",
    "    def __call__(self, doc: str, *args: Any, **kwargs: Any) -> list[str]:\n",
    "        # Tokenize\n",
    "        doc = nlp(doc)\n",
    "        sentences = list(doc.sents)\n",
    "        tokenized_sentences = [str(sentence) for sentence in sentences]\n",
    "        return tokenized_sentences"
   ]
  },
  {
   "cell_type": "code",
   "execution_count": 6,
   "metadata": {},
   "outputs": [
    {
     "data": {
      "text/plain": [
       "['has', 'by', 'please', 'is', 'twelve']"
      ]
     },
     "execution_count": 6,
     "metadata": {},
     "output_type": "execute_result"
    }
   ],
   "source": [
    "# Load spaCy stopwords\n",
    "spacy_stopwords = spacy.lang.en.stop_words.STOP_WORDS\n",
    "spacy_stopwords = list(spacy_stopwords)\n",
    "spacy_stopwords.extend(\n",
    "    (\"'\", \"d\", \"ll\", \"m\", \"ve\", \"‘\", \"\", '\"', \"-\", \":\", \"?\", \",\", \".\")\n",
    ")\n",
    "spacy_stopwords[:5]"
   ]
  },
  {
   "cell_type": "code",
   "execution_count": 7,
   "metadata": {},
   "outputs": [
    {
     "name": "stderr",
     "output_type": "stream",
     "text": [
      "/Users/neidu/miniconda3/envs/nlp_p310/lib/python3.10/site-packages/sklearn/feature_extraction/text.py:528: UserWarning: The parameter 'token_pattern' will not be used since 'tokenizer' is not None'\n",
      "  warnings.warn(\n",
      "/Users/neidu/miniconda3/envs/nlp_p310/lib/python3.10/site-packages/sklearn/feature_extraction/text.py:409: UserWarning: Your stop_words may be inconsistent with your preprocessing. Tokenizing the stop words generated tokens ['’'] not in stop_words.\n",
      "  warnings.warn(\n"
     ]
    }
   ],
   "source": [
    "from sklearn.feature_extraction.text import TfidfVectorizer\n",
    "\n",
    "\n",
    "tfidf = TfidfVectorizer(\n",
    "    stop_words=spacy_stopwords, max_features=3_000, tokenizer=Tokenizer()\n",
    ")\n",
    "X = tfidf.fit_transform(data_doc)"
   ]
  },
  {
   "cell_type": "code",
   "execution_count": 8,
   "metadata": {},
   "outputs": [],
   "source": [
    "word_2_idx = tfidf.vocabulary_\n",
    "\n",
    "# Map each number to its equvalent word\n",
    "idx_2_word = {idx: word for word, idx in word_2_idx.items()}"
   ]
  },
  {
   "cell_type": "code",
   "execution_count": 9,
   "metadata": {},
   "outputs": [
    {
     "name": "stdout",
     "output_type": "stream",
     "text": [
      "marsch\n",
      "leeds\n",
      "bielsa\n",
      "club\n",
      "players\n"
     ]
    }
   ],
   "source": [
    "# Convert to a 1-D array\n",
    "scores = X.toarray().flatten()\n",
    "\n",
    "# Sort the scores descending order and return the indices\n",
    "indices = (-scores).argsort()\n",
    "\n",
    "# Print the top n most important words\n",
    "for idx in indices[:5]:\n",
    "    print(idx_2_word[idx])"
   ]
  },
  {
   "attachments": {},
   "cell_type": "markdown",
   "metadata": {},
   "source": [
    "### Text Summarization"
   ]
  },
  {
   "cell_type": "code",
   "execution_count": 10,
   "metadata": {},
   "outputs": [],
   "source": [
    "tfidf = TfidfVectorizer(\n",
    "    stop_words=spacy_stopwords, max_features=3_000, tokenizer=Sentencizer()\n",
    ")\n",
    "X = tfidf.fit_transform(data)"
   ]
  },
  {
   "cell_type": "code",
   "execution_count": 11,
   "metadata": {},
   "outputs": [],
   "source": [
    "def calculate_sentence_score(tfidf_row):\n",
    "    \"\"\"This returns the average score of the non-zero tfidf value\n",
    "    for a given sentence.\"\"\"\n",
    "    x = tfidf_row[tfidf_row != 0]  # Select the non-zero values\n",
    "    return x.mean()"
   ]
  },
  {
   "cell_type": "code",
   "execution_count": 12,
   "metadata": {},
   "outputs": [
    {
     "name": "stdout",
     "output_type": "stream",
     "text": [
      "40\n"
     ]
    }
   ],
   "source": [
    "sents = Sentencizer()\n",
    "sentences = sents(doc=data_str)\n",
    "print(len(sentences))"
   ]
  },
  {
   "cell_type": "code",
   "execution_count": 13,
   "metadata": {},
   "outputs": [
    {
     "data": {
      "text/plain": [
       "(40, 409)"
      ]
     },
     "execution_count": 13,
     "metadata": {},
     "output_type": "execute_result"
    }
   ],
   "source": [
    "# Vectorize the sentences\n",
    "tfidf = TfidfVectorizer(stop_words=spacy_stopwords, norm=\"l1\")\n",
    "X_tr = tfidf.fit_transform(sentences)\n",
    "X_tr.shape"
   ]
  },
  {
   "cell_type": "code",
   "execution_count": 14,
   "metadata": {},
   "outputs": [],
   "source": [
    "# Initialize the score\n",
    "scores = np.zeros(len(sentences))\n",
    "\n",
    "# Calculate the score for each sentence\n",
    "for idx in range(len(sentences)):\n",
    "    score = calculate_sentence_score(X_tr[idx, :])\n",
    "    scores[idx] = score"
   ]
  },
  {
   "cell_type": "code",
   "execution_count": 15,
   "metadata": {},
   "outputs": [
    {
     "data": {
      "text/plain": [
       "array([ 3,  4, 11, 18,  5, 34, 15, 29, 30, 28, 26, 21,  7,  0, 25,  1, 24,\n",
       "       35, 32, 12, 13,  8, 39, 27, 31,  2, 23,  6, 38, 36, 37,  9, 20, 19,\n",
       "       22, 33, 16, 14, 10, 17])"
      ]
     },
     "execution_count": 15,
     "metadata": {},
     "output_type": "execute_result"
    }
   ],
   "source": [
    "# Sort the scores in descending order\n",
    "sort_idx = np.argsort(-scores)\n",
    "sort_idx"
   ]
  },
  {
   "cell_type": "code",
   "execution_count": 16,
   "metadata": {},
   "outputs": [
    {
     "name": "stdout",
     "output_type": "stream",
     "text": [
      "3: 0.5 Why did Marsch fail?\n",
      "4: 0.5 Who is best suited to take over?\n",
      "11: 0.333 The squad was arguably stronger.\n",
      "18: 0.25 Fans saw and thought differently.\n",
      "5: 0.2 And what do they need to do to keep Leeds up?Watch the Football News Show -\n"
     ]
    }
   ],
   "source": [
    "for i in sort_idx[:5]:\n",
    "    print(f\"{i}: {round(scores[i], 3)} {sentences[i]}\")"
   ]
  },
  {
   "cell_type": "code",
   "execution_count": 17,
   "metadata": {},
   "outputs": [
    {
     "name": "stdout",
     "output_type": "stream",
     "text": [
      "Why did Marsch fail?\n",
      "Who is best suited to take over?\n",
      "And what do they need to do to keep Leeds up?Watch the Football News Show -\n",
      "The squad was arguably stronger.\n",
      "Fans saw and thought differently.\n"
     ]
    }
   ],
   "source": [
    "top_idx = sort_idx[:5]\n",
    "sorted_idx = [idx for idx in top_idx]\n",
    "top_sentences = [sentences[idx] for idx in top_idx]\n",
    "\n",
    "result = tuple(itertools.zip_longest(sorted_idx, top_sentences))\n",
    "\n",
    "result = sorted(result, key=lambda x: x[0])\n",
    "\n",
    "for _, sent in result:\n",
    "    print(sent)"
   ]
  },
  {
   "cell_type": "code",
   "execution_count": null,
   "metadata": {},
   "outputs": [],
   "source": []
  },
  {
   "cell_type": "code",
   "execution_count": 18,
   "metadata": {},
   "outputs": [],
   "source": []
  },
  {
   "cell_type": "code",
   "execution_count": 19,
   "metadata": {},
   "outputs": [
    {
     "name": "stdout",
     "output_type": "stream",
     "text": [
      "Number of sentences in input document: 40\n",
      "\n",
      "Leeds United: Where did it go wrong for Jesse Marsch and who could replace him?Leeds United are looking for their third manager in less than year after the sacking of Jesse Marsch.\n",
      "After replacing Marcelo Bielsa, the American helped Leeds avoid relegation on the final day of last season.\n",
      "Why did Marsch fail?\n",
      "Who is best suited to take over?\n",
      "And what do they need to do to keep Leeds up?Watch the Football News Show -\n",
      "sackingWhere did it go wrong for Marsch?For a section of supporters it was from the beginning, because he was not his predecessor Marcelo Bielsa.\n",
      "The squad was arguably stronger.\n",
      "There were glimpses of what might have been with a stunning 3-0 win over Chelsea in August.\n",
      "Fans saw and thought differently.\n",
      "And so decisive action was taken following the defeat at Nottingham Forest.\n",
      "Indeed, Radrizzani suggested in a tweet on Tuesday evening that the new man could be in place as soon as Wednesday morning.\n",
      "Rayo Vallecano's Andoni Iraola is understood to admired by Orta.\n",
      "When Iraola was asked about interest from other clubs, he played his achievements down.\n",
      "\"Football is about the players - we, the coaches, are not as important,\" he said.\n",
      "\"It's the players who make us seem like we are the best and I am fortunate enough to have players who are showing their level.\n",
      "Burnley's Vincent Kompany would certainly appeal.\n"
     ]
    }
   ],
   "source": [
    "filepath = \"../data/sample_text.txt\"\n",
    "\n",
    "main(filepath=filepath, num=None)"
   ]
  },
  {
   "cell_type": "code",
   "execution_count": null,
   "metadata": {},
   "outputs": [],
   "source": []
  },
  {
   "cell_type": "code",
   "execution_count": null,
   "metadata": {},
   "outputs": [],
   "source": []
  },
  {
   "cell_type": "code",
   "execution_count": null,
   "metadata": {},
   "outputs": [],
   "source": []
  },
  {
   "cell_type": "code",
   "execution_count": null,
   "metadata": {},
   "outputs": [],
   "source": []
  },
  {
   "cell_type": "code",
   "execution_count": 20,
   "metadata": {},
   "outputs": [
    {
     "data": {
      "text/plain": [
       "19.0"
      ]
     },
     "execution_count": 20,
     "metadata": {},
     "output_type": "execute_result"
    }
   ],
   "source": [
    "0.2 * 95"
   ]
  }
 ],
 "metadata": {
  "kernelspec": {
   "display_name": "nlp_p310",
   "language": "python",
   "name": "python3"
  },
  "language_info": {
   "codemirror_mode": {
    "name": "ipython",
    "version": 3
   },
   "file_extension": ".py",
   "mimetype": "text/x-python",
   "name": "python",
   "nbconvert_exporter": "python",
   "pygments_lexer": "ipython3",
   "version": "3.10.9"
  },
  "orig_nbformat": 4,
  "vscode": {
   "interpreter": {
    "hash": "5c160606400bd63443fe4361c23f8347e54b6f9986e7c6d27e878f1970943f47"
   }
  }
 },
 "nbformat": 4,
 "nbformat_minor": 2
}
