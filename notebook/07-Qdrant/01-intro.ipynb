{
 "cells": [
  {
   "cell_type": "markdown",
   "metadata": {},
   "source": [
    "# Intro To QDrant"
   ]
  },
  {
   "cell_type": "code",
   "execution_count": 1,
   "metadata": {},
   "outputs": [],
   "source": [
    "# Built-in library\n",
    "import re\n",
    "import json\n",
    "from typing import Any, Optional, TypeAlias, Union\n",
    "import logging\n",
    "import warnings\n",
    "\n",
    "# Standard imports\n",
    "import numpy as np\n",
    "from pprint import pprint\n",
    "import pandas as pd\n",
    "import polars as pl\n",
    "from rich import print\n",
    "import torch\n",
    "\n",
    "# Visualization\n",
    "import matplotlib.pyplot as plt\n",
    "\n",
    "\n",
    "# Pandas settings\n",
    "pd.options.display.max_rows = 1_000\n",
    "pd.options.display.max_columns = 1_000\n",
    "pd.options.display.max_colwidth = 600\n",
    "\n",
    "warnings.filterwarnings(\"ignore\")\n",
    "\n",
    "# Black code formatter (Optional)\n",
    "%load_ext lab_black\n",
    "\n",
    "# auto reload imports\n",
    "%load_ext autoreload\n",
    "%autoreload 2"
   ]
  },
  {
   "cell_type": "markdown",
   "metadata": {},
   "source": [
    "## Import Dependencies"
   ]
  },
  {
   "cell_type": "code",
   "execution_count": 2,
   "metadata": {},
   "outputs": [],
   "source": [
    "from qdrant_client import models, QdrantClient\n",
    "from sentence_transformers import SentenceTransformer"
   ]
  },
  {
   "cell_type": "code",
   "execution_count": 3,
   "metadata": {},
   "outputs": [],
   "source": [
    "ENCODER_CHECKPOINT: str = \"all-MiniLM-L6-v2\"\n",
    "\n",
    "encoder = SentenceTransformer(ENCODER_CHECKPOINT)"
   ]
  },
  {
   "cell_type": "code",
   "execution_count": 4,
   "metadata": {},
   "outputs": [],
   "source": [
    "# Add datasets\n",
    "\n",
    "documents: list[str, Any] = [\n",
    "    {\n",
    "        \"name\": \"The Time Machine\",\n",
    "        \"description\": \"A man travels through time and witnesses the evolution of humanity.\",\n",
    "        \"author\": \"H.G. Wells\",\n",
    "        \"year\": 1895,\n",
    "    },\n",
    "    {\n",
    "        \"name\": \"Ender's Game\",\n",
    "        \"description\": \"A young boy is trained to become a military leader in a war against an alien race.\",\n",
    "        \"author\": \"Orson Scott Card\",\n",
    "        \"year\": 1985,\n",
    "    },\n",
    "    {\n",
    "        \"name\": \"Brave New World\",\n",
    "        \"description\": \"A dystopian society where people are genetically engineered and conditioned to conform to a strict social hierarchy.\",\n",
    "        \"author\": \"Aldous Huxley\",\n",
    "        \"year\": 1932,\n",
    "    },\n",
    "    {\n",
    "        \"name\": \"The Hitchhiker's Guide to the Galaxy\",\n",
    "        \"description\": \"A comedic science fiction series following the misadventures of an unwitting human and his alien friend.\",\n",
    "        \"author\": \"Douglas Adams\",\n",
    "        \"year\": 1979,\n",
    "    },\n",
    "    {\n",
    "        \"name\": \"Dune\",\n",
    "        \"description\": \"A desert planet is the site of political intrigue and power struggles.\",\n",
    "        \"author\": \"Frank Herbert\",\n",
    "        \"year\": 1965,\n",
    "    },\n",
    "    {\n",
    "        \"name\": \"Foundation\",\n",
    "        \"description\": \"A mathematician develops a science to predict the future of humanity and works to save civilization from collapse.\",\n",
    "        \"author\": \"Isaac Asimov\",\n",
    "        \"year\": 1951,\n",
    "    },\n",
    "    {\n",
    "        \"name\": \"Snow Crash\",\n",
    "        \"description\": \"A futuristic world where the internet has evolved into a virtual reality metaverse.\",\n",
    "        \"author\": \"Neal Stephenson\",\n",
    "        \"year\": 1992,\n",
    "    },\n",
    "    {\n",
    "        \"name\": \"Neuromancer\",\n",
    "        \"description\": \"A hacker is hired to pull off a near-impossible hack and gets pulled into a web of intrigue.\",\n",
    "        \"author\": \"William Gibson\",\n",
    "        \"year\": 1984,\n",
    "    },\n",
    "    {\n",
    "        \"name\": \"The War of the Worlds\",\n",
    "        \"description\": \"A Martian invasion of Earth throws humanity into chaos.\",\n",
    "        \"author\": \"H.G. Wells\",\n",
    "        \"year\": 1898,\n",
    "    },\n",
    "    {\n",
    "        \"name\": \"The Hunger Games\",\n",
    "        \"description\": \"A dystopian society where teenagers are forced to fight to the death in a televised spectacle.\",\n",
    "        \"author\": \"Suzanne Collins\",\n",
    "        \"year\": 2008,\n",
    "    },\n",
    "    {\n",
    "        \"name\": \"The Andromeda Strain\",\n",
    "        \"description\": \"A deadly virus from outer space threatens to wipe out humanity.\",\n",
    "        \"author\": \"Michael Crichton\",\n",
    "        \"year\": 1969,\n",
    "    },\n",
    "    {\n",
    "        \"name\": \"The Left Hand of Darkness\",\n",
    "        \"description\": \"A human ambassador is sent to a planet where the inhabitants are genderless and can change gender at will.\",\n",
    "        \"author\": \"Ursula K. Le Guin\",\n",
    "        \"year\": 1969,\n",
    "    },\n",
    "    {\n",
    "        \"name\": \"The Three-Body Problem\",\n",
    "        \"description\": \"Humans encounter an alien civilization that lives in a dying system.\",\n",
    "        \"author\": \"Liu Cixin\",\n",
    "        \"year\": 2008,\n",
    "    },\n",
    "]"
   ]
  },
  {
   "cell_type": "code",
   "execution_count": 5,
   "metadata": {},
   "outputs": [
    {
     "data": {
      "text/plain": [
       "True"
      ]
     },
     "execution_count": 5,
     "metadata": {},
     "output_type": "execute_result"
    }
   ],
   "source": [
    "# Define Storage Location\n",
    "URL: str = \"http://localhost:6333\"\n",
    "# qdrant = QdrantClient(\":memory:\")\n",
    "qdrant = QdrantClient(URL)\n",
    "INDEX_NAME: str = \"my_books\"\n",
    "\n",
    "# Create a collection\n",
    "# Use recreate_collection if you are experimenting and running the script several times.\n",
    "# This function will first try to remove an existing collection with the same name.\n",
    "qdrant.recreate_collection(\n",
    "    collection_name=INDEX_NAME,\n",
    "    vectors_config=models.VectorParams(\n",
    "        size=encoder.get_sentence_embedding_dimension(),  # Vector size is defined by used model\n",
    "        distance=models.Distance.COSINE,\n",
    "    ),\n",
    ")"
   ]
  },
  {
   "cell_type": "code",
   "execution_count": 6,
   "metadata": {},
   "outputs": [],
   "source": [
    "# vectors: list[float] =\n",
    "\n",
    "# Upload data to collection\n",
    "qdrant.upload_records(\n",
    "    collection_name=INDEX_NAME,\n",
    "    records=[\n",
    "        models.Record(\n",
    "            id=idx, vector=encoder.encode(doc[\"description\"]).tolist(), payload=doc\n",
    "        )\n",
    "        for idx, doc in enumerate(documents)\n",
    "    ],\n",
    ")"
   ]
  },
  {
   "cell_type": "markdown",
   "metadata": {},
   "source": [
    "### Query The Database"
   ]
  },
  {
   "cell_type": "code",
   "execution_count": 7,
   "metadata": {},
   "outputs": [
    {
     "data": {
      "text/html": [
       "<pre style=\"white-space:pre;overflow-x:auto;line-height:normal;font-family:Menlo,'DejaVu Sans Mono',consolas,'Courier New',monospace\"><span style=\"font-weight: bold\">{</span>\n",
       "    <span style=\"color: #008000; text-decoration-color: #008000\">'author'</span>: <span style=\"color: #008000; text-decoration-color: #008000\">'H.G. Wells'</span>,\n",
       "    <span style=\"color: #008000; text-decoration-color: #008000\">'description'</span>: <span style=\"color: #008000; text-decoration-color: #008000\">'A Martian invasion of Earth throws humanity into chaos.'</span>,\n",
       "    <span style=\"color: #008000; text-decoration-color: #008000\">'name'</span>: <span style=\"color: #008000; text-decoration-color: #008000\">'The War of the Worlds'</span>,\n",
       "    <span style=\"color: #008000; text-decoration-color: #008000\">'year'</span>: <span style=\"color: #008080; text-decoration-color: #008080; font-weight: bold\">1898</span>\n",
       "<span style=\"font-weight: bold\">}</span>\n",
       "score: <span style=\"color: #008080; text-decoration-color: #008080; font-weight: bold\">0.5700934</span>\n",
       "</pre>\n"
      ],
      "text/plain": [
       "\u001b[1m{\u001b[0m\n",
       "    \u001b[32m'author'\u001b[0m: \u001b[32m'H.G. Wells'\u001b[0m,\n",
       "    \u001b[32m'description'\u001b[0m: \u001b[32m'A Martian invasion of Earth throws humanity into chaos.'\u001b[0m,\n",
       "    \u001b[32m'name'\u001b[0m: \u001b[32m'The War of the Worlds'\u001b[0m,\n",
       "    \u001b[32m'year'\u001b[0m: \u001b[1;36m1898\u001b[0m\n",
       "\u001b[1m}\u001b[0m\n",
       "score: \u001b[1;36m0.5700934\u001b[0m\n"
      ]
     },
     "metadata": {},
     "output_type": "display_data"
    },
    {
     "data": {
      "text/html": [
       "<pre style=\"white-space:pre;overflow-x:auto;line-height:normal;font-family:Menlo,'DejaVu Sans Mono',consolas,'Courier New',monospace\"><span style=\"font-weight: bold\">{</span>\n",
       "    <span style=\"color: #008000; text-decoration-color: #008000\">'author'</span>: <span style=\"color: #008000; text-decoration-color: #008000\">'Douglas Adams'</span>,\n",
       "    <span style=\"color: #008000; text-decoration-color: #008000\">'description'</span>: <span style=\"color: #008000; text-decoration-color: #008000\">'A comedic science fiction series following the misadventures of an unwitting human and his </span>\n",
       "<span style=\"color: #008000; text-decoration-color: #008000\">alien friend.'</span>,\n",
       "    <span style=\"color: #008000; text-decoration-color: #008000\">'name'</span>: <span style=\"color: #008000; text-decoration-color: #008000\">\"The Hitchhiker's Guide to the Galaxy\"</span>,\n",
       "    <span style=\"color: #008000; text-decoration-color: #008000\">'year'</span>: <span style=\"color: #008080; text-decoration-color: #008080; font-weight: bold\">1979</span>\n",
       "<span style=\"font-weight: bold\">}</span>\n",
       "score: <span style=\"color: #008080; text-decoration-color: #008080; font-weight: bold\">0.50404686</span>\n",
       "</pre>\n"
      ],
      "text/plain": [
       "\u001b[1m{\u001b[0m\n",
       "    \u001b[32m'author'\u001b[0m: \u001b[32m'Douglas Adams'\u001b[0m,\n",
       "    \u001b[32m'description'\u001b[0m: \u001b[32m'A comedic science fiction series following the misadventures of an unwitting human and his \u001b[0m\n",
       "\u001b[32malien friend.'\u001b[0m,\n",
       "    \u001b[32m'name'\u001b[0m: \u001b[32m\"The Hitchhiker's Guide to the Galaxy\"\u001b[0m,\n",
       "    \u001b[32m'year'\u001b[0m: \u001b[1;36m1979\u001b[0m\n",
       "\u001b[1m}\u001b[0m\n",
       "score: \u001b[1;36m0.50404686\u001b[0m\n"
      ]
     },
     "metadata": {},
     "output_type": "display_data"
    },
    {
     "data": {
      "text/html": [
       "<pre style=\"white-space:pre;overflow-x:auto;line-height:normal;font-family:Menlo,'DejaVu Sans Mono',consolas,'Courier New',monospace\"><span style=\"font-weight: bold\">{</span>\n",
       "    <span style=\"color: #008000; text-decoration-color: #008000\">'author'</span>: <span style=\"color: #008000; text-decoration-color: #008000\">'Liu Cixin'</span>,\n",
       "    <span style=\"color: #008000; text-decoration-color: #008000\">'description'</span>: <span style=\"color: #008000; text-decoration-color: #008000\">'Humans encounter an alien civilization that lives in a dying system.'</span>,\n",
       "    <span style=\"color: #008000; text-decoration-color: #008000\">'name'</span>: <span style=\"color: #008000; text-decoration-color: #008000\">'The Three-Body Problem'</span>,\n",
       "    <span style=\"color: #008000; text-decoration-color: #008000\">'year'</span>: <span style=\"color: #008080; text-decoration-color: #008080; font-weight: bold\">2008</span>\n",
       "<span style=\"font-weight: bold\">}</span>\n",
       "score: <span style=\"color: #008080; text-decoration-color: #008080; font-weight: bold\">0.45902944</span>\n",
       "</pre>\n"
      ],
      "text/plain": [
       "\u001b[1m{\u001b[0m\n",
       "    \u001b[32m'author'\u001b[0m: \u001b[32m'Liu Cixin'\u001b[0m,\n",
       "    \u001b[32m'description'\u001b[0m: \u001b[32m'Humans encounter an alien civilization that lives in a dying system.'\u001b[0m,\n",
       "    \u001b[32m'name'\u001b[0m: \u001b[32m'The Three-Body Problem'\u001b[0m,\n",
       "    \u001b[32m'year'\u001b[0m: \u001b[1;36m2008\u001b[0m\n",
       "\u001b[1m}\u001b[0m\n",
       "score: \u001b[1;36m0.45902944\u001b[0m\n"
      ]
     },
     "metadata": {},
     "output_type": "display_data"
    }
   ],
   "source": [
    "query: str = \"alien invasion\"\n",
    "query_vector: list[float] = encoder.encode(query).tolist()\n",
    "N: int = 3\n",
    "\n",
    "hits: list[Any] = qdrant.search(\n",
    "    collection_name=INDEX_NAME,\n",
    "    query_vector=query_vector,\n",
    "    limit=N,\n",
    ")\n",
    "\n",
    "for hit in hits:\n",
    "    print(hit.payload, \"score:\", hit.score)"
   ]
  },
  {
   "cell_type": "markdown",
   "metadata": {},
   "source": [
    "### Narrow down the query\n",
    "\n",
    "- How about the most recent book from the early 2000s?"
   ]
  },
  {
   "cell_type": "code",
   "execution_count": 8,
   "metadata": {},
   "outputs": [
    {
     "data": {
      "text/html": [
       "<pre style=\"white-space:pre;overflow-x:auto;line-height:normal;font-family:Menlo,'DejaVu Sans Mono',consolas,'Courier New',monospace\"><span style=\"font-weight: bold\">{</span>\n",
       "    <span style=\"color: #008000; text-decoration-color: #008000\">'author'</span>: <span style=\"color: #008000; text-decoration-color: #008000\">'Liu Cixin'</span>,\n",
       "    <span style=\"color: #008000; text-decoration-color: #008000\">'description'</span>: <span style=\"color: #008000; text-decoration-color: #008000\">'Humans encounter an alien civilization that lives in a dying system.'</span>,\n",
       "    <span style=\"color: #008000; text-decoration-color: #008000\">'name'</span>: <span style=\"color: #008000; text-decoration-color: #008000\">'The Three-Body Problem'</span>,\n",
       "    <span style=\"color: #008000; text-decoration-color: #008000\">'year'</span>: <span style=\"color: #008080; text-decoration-color: #008080; font-weight: bold\">2008</span>\n",
       "<span style=\"font-weight: bold\">}</span>\n",
       "score: <span style=\"color: #008080; text-decoration-color: #008080; font-weight: bold\">0.45902944</span>\n",
       "</pre>\n"
      ],
      "text/plain": [
       "\u001b[1m{\u001b[0m\n",
       "    \u001b[32m'author'\u001b[0m: \u001b[32m'Liu Cixin'\u001b[0m,\n",
       "    \u001b[32m'description'\u001b[0m: \u001b[32m'Humans encounter an alien civilization that lives in a dying system.'\u001b[0m,\n",
       "    \u001b[32m'name'\u001b[0m: \u001b[32m'The Three-Body Problem'\u001b[0m,\n",
       "    \u001b[32m'year'\u001b[0m: \u001b[1;36m2008\u001b[0m\n",
       "\u001b[1m}\u001b[0m\n",
       "score: \u001b[1;36m0.45902944\u001b[0m\n"
      ]
     },
     "metadata": {},
     "output_type": "display_data"
    },
    {
     "data": {
      "text/html": [
       "<pre style=\"white-space:pre;overflow-x:auto;line-height:normal;font-family:Menlo,'DejaVu Sans Mono',consolas,'Courier New',monospace\"><span style=\"font-weight: bold\">{</span>\n",
       "    <span style=\"color: #008000; text-decoration-color: #008000\">'author'</span>: <span style=\"color: #008000; text-decoration-color: #008000\">'Suzanne Collins'</span>,\n",
       "    <span style=\"color: #008000; text-decoration-color: #008000\">'description'</span>: <span style=\"color: #008000; text-decoration-color: #008000\">'A dystopian society where teenagers are forced to fight to the death in a televised </span>\n",
       "<span style=\"color: #008000; text-decoration-color: #008000\">spectacle.'</span>,\n",
       "    <span style=\"color: #008000; text-decoration-color: #008000\">'name'</span>: <span style=\"color: #008000; text-decoration-color: #008000\">'The Hunger Games'</span>,\n",
       "    <span style=\"color: #008000; text-decoration-color: #008000\">'year'</span>: <span style=\"color: #008080; text-decoration-color: #008080; font-weight: bold\">2008</span>\n",
       "<span style=\"font-weight: bold\">}</span>\n",
       "score: <span style=\"color: #008080; text-decoration-color: #008080; font-weight: bold\">0.16074508</span>\n",
       "</pre>\n"
      ],
      "text/plain": [
       "\u001b[1m{\u001b[0m\n",
       "    \u001b[32m'author'\u001b[0m: \u001b[32m'Suzanne Collins'\u001b[0m,\n",
       "    \u001b[32m'description'\u001b[0m: \u001b[32m'A dystopian society where teenagers are forced to fight to the death in a televised \u001b[0m\n",
       "\u001b[32mspectacle.'\u001b[0m,\n",
       "    \u001b[32m'name'\u001b[0m: \u001b[32m'The Hunger Games'\u001b[0m,\n",
       "    \u001b[32m'year'\u001b[0m: \u001b[1;36m2008\u001b[0m\n",
       "\u001b[1m}\u001b[0m\n",
       "score: \u001b[1;36m0.16074508\u001b[0m\n"
      ]
     },
     "metadata": {},
     "output_type": "display_data"
    }
   ],
   "source": [
    "query: str = \"alien invasion\"\n",
    "query_vector: list[float] = encoder.encode(query).tolist()\n",
    "query_filter: models.Filter = models.Filter(\n",
    "    must=[models.FieldCondition(key=\"year\", range=models.Range(gte=2000))]\n",
    ")\n",
    "\n",
    "\n",
    "hits: list[Any] = qdrant.search(\n",
    "    collection_name=\"my_books\",\n",
    "    query_vector=query_vector,\n",
    "    query_filter=query_filter,\n",
    "    limit=N,\n",
    ")\n",
    "for hit in hits:\n",
    "    print(hit.payload, \"score:\", hit.score)"
   ]
  },
  {
   "cell_type": "code",
   "execution_count": null,
   "metadata": {},
   "outputs": [],
   "source": []
  },
  {
   "cell_type": "markdown",
   "metadata": {},
   "source": [
    "# Neural Search Service"
   ]
  },
  {
   "cell_type": "code",
   "execution_count": 9,
   "metadata": {},
   "outputs": [],
   "source": [
    "from pathlib import Path\n",
    "\n",
    "from datasets import Dataset, load_dataset\n",
    "from tqdm.notebook import tqdm"
   ]
  },
  {
   "cell_type": "code",
   "execution_count": 10,
   "metadata": {},
   "outputs": [
    {
     "data": {
      "text/plain": [
       "DatasetDict({\n",
       "    train: Dataset({\n",
       "        features: ['name', 'images', 'alt', 'description', 'link', 'city'],\n",
       "        num_rows: 40474\n",
       "    })\n",
       "})"
      ]
     },
     "execution_count": 10,
     "metadata": {},
     "output_type": "execute_result"
    }
   ],
   "source": [
    "data_fp: Path = Path(\"../../data\")\n",
    "fp: Path = data_fp / \"startups_demo.json\"\n",
    "data_files: dict[str, Any] = {\"train\": str(fp)}\n",
    "\n",
    "startup_data: Dataset = load_dataset(path=\"json\", data_files=data_files)\n",
    "startup_data"
   ]
  },
  {
   "cell_type": "code",
   "execution_count": 11,
   "metadata": {},
   "outputs": [
    {
     "data": {
      "text/html": [
       "<pre style=\"white-space:pre;overflow-x:auto;line-height:normal;font-family:Menlo,'DejaVu Sans Mono',consolas,'Courier New',monospace\"><span style=\"font-weight: bold\">{</span>\n",
       "    <span style=\"color: #008000; text-decoration-color: #008000\">'name'</span>: <span style=\"font-weight: bold\">[</span><span style=\"color: #008000; text-decoration-color: #008000\">'SaferCodes'</span>, <span style=\"color: #008000; text-decoration-color: #008000\">'Human Practice'</span>, <span style=\"color: #008000; text-decoration-color: #008000\">'StyleSeek'</span><span style=\"font-weight: bold\">]</span>,\n",
       "    <span style=\"color: #008000; text-decoration-color: #008000\">'images'</span>: <span style=\"font-weight: bold\">[</span>\n",
       "        <span style=\"color: #008000; text-decoration-color: #008000\">'https://safer.codes/img/brand/logo-icon.png'</span>,\n",
       "        <span style=\"color: #008000; text-decoration-color: #008000\">'https://d1qb2nb5cznatu.cloudfront.net/startups/i/373036-94d1e190f12f2c919c3566ecaecbda68-thumb_jpg.jpg?bus</span>\n",
       "<span style=\"color: #008000; text-decoration-color: #008000\">ter=1396498835'</span>,\n",
       "        <span style=\"color: #008000; text-decoration-color: #008000\">'https://d1qb2nb5cznatu.cloudfront.net/startups/i/3747-bb0338d641617b54f5234a1d3bfc6fd0-thumb_jpg.jpg?buste</span>\n",
       "<span style=\"color: #008000; text-decoration-color: #008000\">r=1329158692'</span>\n",
       "    <span style=\"font-weight: bold\">]</span>,\n",
       "    <span style=\"color: #008000; text-decoration-color: #008000\">'alt'</span>: <span style=\"font-weight: bold\">[</span>\n",
       "        <span style=\"color: #008000; text-decoration-color: #008000\">'SaferCodes Logo QR codes generator system forms for COVID-19'</span>,\n",
       "        <span style=\"color: #008000; text-decoration-color: #008000\">'Human Practice -  health care information technology'</span>,\n",
       "        <span style=\"color: #008000; text-decoration-color: #008000\">'StyleSeek -  e-commerce fashion mass customization online shopping'</span>\n",
       "    <span style=\"font-weight: bold\">]</span>,\n",
       "    <span style=\"color: #008000; text-decoration-color: #008000\">'description'</span>: <span style=\"font-weight: bold\">[</span>\n",
       "        <span style=\"color: #008000; text-decoration-color: #008000\">'QR codes systems for COVID-19.\\nSimple tools for bars, restaurants, offices, and other small proximity </span>\n",
       "<span style=\"color: #008000; text-decoration-color: #008000\">businesses.'</span>,\n",
       "        <span style=\"color: #008000; text-decoration-color: #008000\">'Point-of-care word of mouth\\nPreferral is a mobile platform that channels physicians’ interest in </span>\n",
       "<span style=\"color: #008000; text-decoration-color: #008000\">networking with their peers to build referrals within a hospital system.\\nHospitals are in a race to employ </span>\n",
       "<span style=\"color: #008000; text-decoration-color: #008000\">physicians, even though they lose billions each year ($40B in 2014) on employment. Why ...'</span>,\n",
       "        <span style=\"color: #008000; text-decoration-color: #008000\">'Personalized e-commerce for lifestyle products\\nStyleSeek is a personalized e-commerce site for lifestyle </span>\n",
       "<span style=\"color: #008000; text-decoration-color: #008000\">products.\\nIt works across the style spectrum by enabling users (both men and women) to create and refine their </span>\n",
       "<span style=\"color: #008000; text-decoration-color: #008000\">unique StyleDNA.\\nStyleSeek also promotes new products via its email newsletter, 100% personalized ...'</span>\n",
       "    <span style=\"font-weight: bold\">]</span>,\n",
       "    <span style=\"color: #008000; text-decoration-color: #008000\">'link'</span>: <span style=\"font-weight: bold\">[</span><span style=\"color: #008000; text-decoration-color: #008000\">'https://safer.codes'</span>, <span style=\"color: #008000; text-decoration-color: #008000\">'http://humanpractice.com'</span>, <span style=\"color: #008000; text-decoration-color: #008000\">'http://styleseek.com'</span><span style=\"font-weight: bold\">]</span>,\n",
       "    <span style=\"color: #008000; text-decoration-color: #008000\">'city'</span>: <span style=\"font-weight: bold\">[</span><span style=\"color: #008000; text-decoration-color: #008000\">'Chicago'</span>, <span style=\"color: #008000; text-decoration-color: #008000\">'Chicago'</span>, <span style=\"color: #008000; text-decoration-color: #008000\">'Chicago'</span><span style=\"font-weight: bold\">]</span>\n",
       "<span style=\"font-weight: bold\">}</span>\n",
       "</pre>\n"
      ],
      "text/plain": [
       "\u001b[1m{\u001b[0m\n",
       "    \u001b[32m'name'\u001b[0m: \u001b[1m[\u001b[0m\u001b[32m'SaferCodes'\u001b[0m, \u001b[32m'Human Practice'\u001b[0m, \u001b[32m'StyleSeek'\u001b[0m\u001b[1m]\u001b[0m,\n",
       "    \u001b[32m'images'\u001b[0m: \u001b[1m[\u001b[0m\n",
       "        \u001b[32m'https://safer.codes/img/brand/logo-icon.png'\u001b[0m,\n",
       "        \u001b[32m'https://d1qb2nb5cznatu.cloudfront.net/startups/i/373036-94d1e190f12f2c919c3566ecaecbda68-thumb_jpg.jpg?\u001b[0m\u001b[32mbus\u001b[0m\n",
       "\u001b[32mter\u001b[0m\u001b[32m=\u001b[0m\u001b[32m1396498835\u001b[0m\u001b[32m'\u001b[0m,\n",
       "        \u001b[32m'https://d1qb2nb5cznatu.cloudfront.net/startups/i/3747-bb0338d641617b54f5234a1d3bfc6fd0-thumb_jpg.jpg?\u001b[0m\u001b[32mbuste\u001b[0m\n",
       "\u001b[32mr\u001b[0m\u001b[32m=\u001b[0m\u001b[32m1329158692\u001b[0m\u001b[32m'\u001b[0m\n",
       "    \u001b[1m]\u001b[0m,\n",
       "    \u001b[32m'alt'\u001b[0m: \u001b[1m[\u001b[0m\n",
       "        \u001b[32m'SaferCodes Logo QR codes generator system forms for COVID-19'\u001b[0m,\n",
       "        \u001b[32m'Human Practice -  health care information technology'\u001b[0m,\n",
       "        \u001b[32m'StyleSeek -  e-commerce fashion mass customization online shopping'\u001b[0m\n",
       "    \u001b[1m]\u001b[0m,\n",
       "    \u001b[32m'description'\u001b[0m: \u001b[1m[\u001b[0m\n",
       "        \u001b[32m'QR codes systems for COVID-19.\\nSimple tools for bars, restaurants, offices, and other small proximity \u001b[0m\n",
       "\u001b[32mbusinesses.'\u001b[0m,\n",
       "        \u001b[32m'Point-of-care word of mouth\\nPreferral is a mobile platform that channels physicians’ interest in \u001b[0m\n",
       "\u001b[32mnetworking with their peers to build referrals within a hospital system.\\nHospitals are in a race to employ \u001b[0m\n",
       "\u001b[32mphysicians, even though they lose billions each year \u001b[0m\u001b[32m(\u001b[0m\u001b[32m$40B in 2014\u001b[0m\u001b[32m)\u001b[0m\u001b[32m on employment. Why ...'\u001b[0m,\n",
       "        \u001b[32m'Personalized e-commerce for lifestyle products\\nStyleSeek is a personalized e-commerce site for lifestyle \u001b[0m\n",
       "\u001b[32mproducts.\\nIt works across the style spectrum by enabling users \u001b[0m\u001b[32m(\u001b[0m\u001b[32mboth men and women\u001b[0m\u001b[32m)\u001b[0m\u001b[32m to create and refine their \u001b[0m\n",
       "\u001b[32munique StyleDNA.\\nStyleSeek also promotes new products via its email newsletter, 100% personalized ...'\u001b[0m\n",
       "    \u001b[1m]\u001b[0m,\n",
       "    \u001b[32m'link'\u001b[0m: \u001b[1m[\u001b[0m\u001b[32m'https://safer.codes'\u001b[0m, \u001b[32m'http://humanpractice.com'\u001b[0m, \u001b[32m'http://styleseek.com'\u001b[0m\u001b[1m]\u001b[0m,\n",
       "    \u001b[32m'city'\u001b[0m: \u001b[1m[\u001b[0m\u001b[32m'Chicago'\u001b[0m, \u001b[32m'Chicago'\u001b[0m, \u001b[32m'Chicago'\u001b[0m\u001b[1m]\u001b[0m\n",
       "\u001b[1m}\u001b[0m\n"
      ]
     },
     "metadata": {},
     "output_type": "display_data"
    }
   ],
   "source": [
    "print(startup_data.get(\"train\")[:3])"
   ]
  },
  {
   "cell_type": "code",
   "execution_count": null,
   "metadata": {},
   "outputs": [],
   "source": []
  },
  {
   "cell_type": "code",
   "execution_count": null,
   "metadata": {},
   "outputs": [],
   "source": []
  },
  {
   "cell_type": "code",
   "execution_count": null,
   "metadata": {},
   "outputs": [],
   "source": []
  },
  {
   "cell_type": "code",
   "execution_count": null,
   "metadata": {},
   "outputs": [],
   "source": []
  },
  {
   "cell_type": "code",
   "execution_count": null,
   "metadata": {},
   "outputs": [],
   "source": []
  },
  {
   "cell_type": "code",
   "execution_count": null,
   "metadata": {},
   "outputs": [],
   "source": []
  },
  {
   "cell_type": "code",
   "execution_count": null,
   "metadata": {},
   "outputs": [],
   "source": []
  },
  {
   "cell_type": "code",
   "execution_count": null,
   "metadata": {},
   "outputs": [],
   "source": []
  },
  {
   "cell_type": "code",
   "execution_count": null,
   "metadata": {},
   "outputs": [],
   "source": []
  },
  {
   "cell_type": "code",
   "execution_count": null,
   "metadata": {},
   "outputs": [],
   "source": []
  },
  {
   "cell_type": "code",
   "execution_count": null,
   "metadata": {},
   "outputs": [],
   "source": []
  },
  {
   "cell_type": "code",
   "execution_count": null,
   "metadata": {},
   "outputs": [],
   "source": []
  },
  {
   "cell_type": "code",
   "execution_count": null,
   "metadata": {},
   "outputs": [],
   "source": []
  }
 ],
 "metadata": {
  "kernelspec": {
   "display_name": "nlp_p310",
   "language": "python",
   "name": "python3"
  },
  "language_info": {
   "codemirror_mode": {
    "name": "ipython",
    "version": 3
   },
   "file_extension": ".py",
   "mimetype": "text/x-python",
   "name": "python",
   "nbconvert_exporter": "python",
   "pygments_lexer": "ipython3",
   "version": "3.10.9"
  }
 },
 "nbformat": 4,
 "nbformat_minor": 2
}
