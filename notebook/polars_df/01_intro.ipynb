{
 "cells": [
  {
   "cell_type": "code",
   "execution_count": 1,
   "metadata": {},
   "outputs": [],
   "source": [
    "# Built-in library\n",
    "import re\n",
    "import json\n",
    "import logging\n",
    "from typing import Any, Dict, List, Optional, Union\n",
    "import logging\n",
    "import warnings\n",
    "\n",
    "# Standard imports\n",
    "import numpy as np\n",
    "import pandas as pd\n",
    "import polars as pl\n",
    "from rich import print\n",
    "import torch\n",
    "\n",
    "# Visualization\n",
    "import matplotlib.pyplot as plt\n",
    "\n",
    "\n",
    "# Pandas settings\n",
    "pd.options.display.max_rows = 1_000\n",
    "pd.options.display.max_columns = 1_000\n",
    "pd.options.display.max_colwidth = 600\n",
    "\n",
    "warnings.filterwarnings(\"ignore\")\n",
    "\n",
    "# Black code formatter (Optional)\n",
    "%load_ext lab_black\n",
    "\n",
    "# auto reload imports\n",
    "%load_ext autoreload\n",
    "%autoreload 2"
   ]
  },
  {
   "cell_type": "markdown",
   "metadata": {},
   "source": [
    "### Create A DataFrame"
   ]
  },
  {
   "cell_type": "code",
   "execution_count": 2,
   "metadata": {},
   "outputs": [
    {
     "data": {
      "text/html": [
       "<pre style=\"white-space:pre;overflow-x:auto;line-height:normal;font-family:Menlo,'DejaVu Sans Mono',consolas,'Courier New',monospace\">shape: <span style=\"font-weight: bold\">(</span><span style=\"color: #008080; text-decoration-color: #008080; font-weight: bold\">5</span>, <span style=\"color: #008080; text-decoration-color: #008080; font-weight: bold\">3</span><span style=\"font-weight: bold\">)</span>\n",
       "┌─────────┬─────────────────────┬───────┐\n",
       "│ integer ┆ date                ┆ float │\n",
       "│ ---     ┆ ---                 ┆ ---   │\n",
       "│ i64     ┆ datetime<span style=\"font-weight: bold\">[</span>μs<span style=\"font-weight: bold\">]</span>        ┆ f64   │\n",
       "╞═════════╪═════════════════════╪═══════╡\n",
       "│ <span style=\"color: #008080; text-decoration-color: #008080; font-weight: bold\">1</span>       ┆ <span style=\"color: #008080; text-decoration-color: #008080; font-weight: bold\">2022</span>-<span style=\"color: #008080; text-decoration-color: #008080; font-weight: bold\">01</span>-<span style=\"color: #008080; text-decoration-color: #008080; font-weight: bold\">01</span> <span style=\"color: #00ff00; text-decoration-color: #00ff00; font-weight: bold\">00:00:00</span> ┆ <span style=\"color: #008080; text-decoration-color: #008080; font-weight: bold\">4.0</span>   │\n",
       "│ <span style=\"color: #008080; text-decoration-color: #008080; font-weight: bold\">2</span>       ┆ <span style=\"color: #008080; text-decoration-color: #008080; font-weight: bold\">2022</span>-<span style=\"color: #008080; text-decoration-color: #008080; font-weight: bold\">01</span>-<span style=\"color: #008080; text-decoration-color: #008080; font-weight: bold\">02</span> <span style=\"color: #00ff00; text-decoration-color: #00ff00; font-weight: bold\">00:00:00</span> ┆ <span style=\"color: #008080; text-decoration-color: #008080; font-weight: bold\">5.0</span>   │\n",
       "│ <span style=\"color: #008080; text-decoration-color: #008080; font-weight: bold\">3</span>       ┆ <span style=\"color: #008080; text-decoration-color: #008080; font-weight: bold\">2022</span>-<span style=\"color: #008080; text-decoration-color: #008080; font-weight: bold\">01</span>-<span style=\"color: #008080; text-decoration-color: #008080; font-weight: bold\">03</span> <span style=\"color: #00ff00; text-decoration-color: #00ff00; font-weight: bold\">00:00:00</span> ┆ <span style=\"color: #008080; text-decoration-color: #008080; font-weight: bold\">6.0</span>   │\n",
       "│ <span style=\"color: #008080; text-decoration-color: #008080; font-weight: bold\">4</span>       ┆ <span style=\"color: #008080; text-decoration-color: #008080; font-weight: bold\">2022</span>-<span style=\"color: #008080; text-decoration-color: #008080; font-weight: bold\">01</span>-<span style=\"color: #008080; text-decoration-color: #008080; font-weight: bold\">04</span> <span style=\"color: #00ff00; text-decoration-color: #00ff00; font-weight: bold\">00:00:00</span> ┆ <span style=\"color: #008080; text-decoration-color: #008080; font-weight: bold\">7.0</span>   │\n",
       "│ <span style=\"color: #008080; text-decoration-color: #008080; font-weight: bold\">5</span>       ┆ <span style=\"color: #008080; text-decoration-color: #008080; font-weight: bold\">2022</span>-<span style=\"color: #008080; text-decoration-color: #008080; font-weight: bold\">01</span>-<span style=\"color: #008080; text-decoration-color: #008080; font-weight: bold\">05</span> <span style=\"color: #00ff00; text-decoration-color: #00ff00; font-weight: bold\">00:00:00</span> ┆ <span style=\"color: #008080; text-decoration-color: #008080; font-weight: bold\">8.0</span>   │\n",
       "└─────────┴─────────────────────┴───────┘\n",
       "</pre>\n"
      ],
      "text/plain": [
       "shape: \u001b[1m(\u001b[0m\u001b[1;36m5\u001b[0m, \u001b[1;36m3\u001b[0m\u001b[1m)\u001b[0m\n",
       "┌─────────┬─────────────────────┬───────┐\n",
       "│ integer ┆ date                ┆ float │\n",
       "│ ---     ┆ ---                 ┆ ---   │\n",
       "│ i64     ┆ datetime\u001b[1m[\u001b[0mμs\u001b[1m]\u001b[0m        ┆ f64   │\n",
       "╞═════════╪═════════════════════╪═══════╡\n",
       "│ \u001b[1;36m1\u001b[0m       ┆ \u001b[1;36m2022\u001b[0m-\u001b[1;36m01\u001b[0m-\u001b[1;36m01\u001b[0m \u001b[1;92m00:00:00\u001b[0m ┆ \u001b[1;36m4.0\u001b[0m   │\n",
       "│ \u001b[1;36m2\u001b[0m       ┆ \u001b[1;36m2022\u001b[0m-\u001b[1;36m01\u001b[0m-\u001b[1;36m02\u001b[0m \u001b[1;92m00:00:00\u001b[0m ┆ \u001b[1;36m5.0\u001b[0m   │\n",
       "│ \u001b[1;36m3\u001b[0m       ┆ \u001b[1;36m2022\u001b[0m-\u001b[1;36m01\u001b[0m-\u001b[1;36m03\u001b[0m \u001b[1;92m00:00:00\u001b[0m ┆ \u001b[1;36m6.0\u001b[0m   │\n",
       "│ \u001b[1;36m4\u001b[0m       ┆ \u001b[1;36m2022\u001b[0m-\u001b[1;36m01\u001b[0m-\u001b[1;36m04\u001b[0m \u001b[1;92m00:00:00\u001b[0m ┆ \u001b[1;36m7.0\u001b[0m   │\n",
       "│ \u001b[1;36m5\u001b[0m       ┆ \u001b[1;36m2022\u001b[0m-\u001b[1;36m01\u001b[0m-\u001b[1;36m05\u001b[0m \u001b[1;92m00:00:00\u001b[0m ┆ \u001b[1;36m8.0\u001b[0m   │\n",
       "└─────────┴─────────────────────┴───────┘\n"
      ]
     },
     "metadata": {},
     "output_type": "display_data"
    }
   ],
   "source": [
    "from datetime import datetime\n",
    "\n",
    "\n",
    "df: pl.DataFrame = pl.DataFrame(\n",
    "    {\n",
    "        \"integer\": [1, 2, 3, 4, 5],\n",
    "        \"date\": [\n",
    "            datetime(2022, 1, 1),\n",
    "            datetime(2022, 1, 2),\n",
    "            datetime(2022, 1, 3),\n",
    "            datetime(2022, 1, 4),\n",
    "            datetime(2022, 1, 5),\n",
    "        ],\n",
    "        \"float\": [4.0, 5.0, 6.0, 7.0, 8.0],\n",
    "    }\n",
    ")\n",
    "\n",
    "print(df)"
   ]
  },
  {
   "cell_type": "markdown",
   "metadata": {},
   "source": [
    "#### Viewing Data\n",
    "\n",
    "```text\n",
    "- df.head()\n",
    "- df.tail()\n",
    "```"
   ]
  },
  {
   "cell_type": "code",
   "execution_count": 3,
   "metadata": {},
   "outputs": [
    {
     "data": {
      "text/html": [
       "<div><style>\n",
       ".dataframe > thead > tr > th,\n",
       ".dataframe > tbody > tr > td {\n",
       "  text-align: right;\n",
       "  white-space: pre-wrap;\n",
       "}\n",
       "</style>\n",
       "<small>shape: (2, 3)</small><table border=\"1\" class=\"dataframe\"><thead><tr><th>integer</th><th>date</th><th>float</th></tr><tr><td>i64</td><td>datetime[μs]</td><td>f64</td></tr></thead><tbody><tr><td>1</td><td>2022-01-01 00:00:00</td><td>4.0</td></tr><tr><td>2</td><td>2022-01-02 00:00:00</td><td>5.0</td></tr></tbody></table></div>"
      ],
      "text/plain": [
       "shape: (2, 3)\n",
       "┌─────────┬─────────────────────┬───────┐\n",
       "│ integer ┆ date                ┆ float │\n",
       "│ ---     ┆ ---                 ┆ ---   │\n",
       "│ i64     ┆ datetime[μs]        ┆ f64   │\n",
       "╞═════════╪═════════════════════╪═══════╡\n",
       "│ 1       ┆ 2022-01-01 00:00:00 ┆ 4.0   │\n",
       "│ 2       ┆ 2022-01-02 00:00:00 ┆ 5.0   │\n",
       "└─────────┴─────────────────────┴───────┘"
      ]
     },
     "execution_count": 3,
     "metadata": {},
     "output_type": "execute_result"
    }
   ],
   "source": [
    "df.head(2)"
   ]
  },
  {
   "cell_type": "code",
   "execution_count": 4,
   "metadata": {},
   "outputs": [
    {
     "data": {
      "text/html": [
       "<div><style>\n",
       ".dataframe > thead > tr > th,\n",
       ".dataframe > tbody > tr > td {\n",
       "  text-align: right;\n",
       "  white-space: pre-wrap;\n",
       "}\n",
       "</style>\n",
       "<small>shape: (2, 3)</small><table border=\"1\" class=\"dataframe\"><thead><tr><th>integer</th><th>date</th><th>float</th></tr><tr><td>i64</td><td>datetime[μs]</td><td>f64</td></tr></thead><tbody><tr><td>4</td><td>2022-01-04 00:00:00</td><td>7.0</td></tr><tr><td>5</td><td>2022-01-05 00:00:00</td><td>8.0</td></tr></tbody></table></div>"
      ],
      "text/plain": [
       "shape: (2, 3)\n",
       "┌─────────┬─────────────────────┬───────┐\n",
       "│ integer ┆ date                ┆ float │\n",
       "│ ---     ┆ ---                 ┆ ---   │\n",
       "│ i64     ┆ datetime[μs]        ┆ f64   │\n",
       "╞═════════╪═════════════════════╪═══════╡\n",
       "│ 4       ┆ 2022-01-04 00:00:00 ┆ 7.0   │\n",
       "│ 5       ┆ 2022-01-05 00:00:00 ┆ 8.0   │\n",
       "└─────────┴─────────────────────┴───────┘"
      ]
     },
     "execution_count": 4,
     "metadata": {},
     "output_type": "execute_result"
    }
   ],
   "source": [
    "df.tail(2)"
   ]
  },
  {
   "cell_type": "markdown",
   "metadata": {},
   "source": [
    "#### Descriptive Stats"
   ]
  },
  {
   "cell_type": "code",
   "execution_count": 5,
   "metadata": {},
   "outputs": [
    {
     "data": {
      "text/html": [
       "<div><style>\n",
       ".dataframe > thead > tr > th,\n",
       ".dataframe > tbody > tr > td {\n",
       "  text-align: right;\n",
       "  white-space: pre-wrap;\n",
       "}\n",
       "</style>\n",
       "<small>shape: (9, 4)</small><table border=\"1\" class=\"dataframe\"><thead><tr><th>describe</th><th>integer</th><th>date</th><th>float</th></tr><tr><td>str</td><td>f64</td><td>str</td><td>f64</td></tr></thead><tbody><tr><td>&quot;count&quot;</td><td>5.0</td><td>&quot;5&quot;</td><td>5.0</td></tr><tr><td>&quot;null_count&quot;</td><td>0.0</td><td>&quot;0&quot;</td><td>0.0</td></tr><tr><td>&quot;mean&quot;</td><td>3.0</td><td>null</td><td>6.0</td></tr><tr><td>&quot;std&quot;</td><td>1.581139</td><td>null</td><td>1.581139</td></tr><tr><td>&quot;min&quot;</td><td>1.0</td><td>&quot;2022-01-01 00:…</td><td>4.0</td></tr><tr><td>&quot;25%&quot;</td><td>2.0</td><td>null</td><td>5.0</td></tr><tr><td>&quot;50%&quot;</td><td>3.0</td><td>null</td><td>6.0</td></tr><tr><td>&quot;75%&quot;</td><td>4.0</td><td>null</td><td>7.0</td></tr><tr><td>&quot;max&quot;</td><td>5.0</td><td>&quot;2022-01-05 00:…</td><td>8.0</td></tr></tbody></table></div>"
      ],
      "text/plain": [
       "shape: (9, 4)\n",
       "┌────────────┬──────────┬─────────────────────┬──────────┐\n",
       "│ describe   ┆ integer  ┆ date                ┆ float    │\n",
       "│ ---        ┆ ---      ┆ ---                 ┆ ---      │\n",
       "│ str        ┆ f64      ┆ str                 ┆ f64      │\n",
       "╞════════════╪══════════╪═════════════════════╪══════════╡\n",
       "│ count      ┆ 5.0      ┆ 5                   ┆ 5.0      │\n",
       "│ null_count ┆ 0.0      ┆ 0                   ┆ 0.0      │\n",
       "│ mean       ┆ 3.0      ┆ null                ┆ 6.0      │\n",
       "│ std        ┆ 1.581139 ┆ null                ┆ 1.581139 │\n",
       "│ min        ┆ 1.0      ┆ 2022-01-01 00:00:00 ┆ 4.0      │\n",
       "│ 25%        ┆ 2.0      ┆ null                ┆ 5.0      │\n",
       "│ 50%        ┆ 3.0      ┆ null                ┆ 6.0      │\n",
       "│ 75%        ┆ 4.0      ┆ null                ┆ 7.0      │\n",
       "│ max        ┆ 5.0      ┆ 2022-01-05 00:00:00 ┆ 8.0      │\n",
       "└────────────┴──────────┴─────────────────────┴──────────┘"
      ]
     },
     "execution_count": 5,
     "metadata": {},
     "output_type": "execute_result"
    }
   ],
   "source": [
    "df.describe()"
   ]
  },
  {
   "cell_type": "code",
   "execution_count": 6,
   "metadata": {},
   "outputs": [
    {
     "data": {
      "text/html": [
       "<pre style=\"white-space:pre;overflow-x:auto;line-height:normal;font-family:Menlo,'DejaVu Sans Mono',consolas,'Courier New',monospace\">shape: <span style=\"font-weight: bold\">(</span><span style=\"color: #008080; text-decoration-color: #008080; font-weight: bold\">5</span>, <span style=\"color: #008080; text-decoration-color: #008080; font-weight: bold\">4</span><span style=\"font-weight: bold\">)</span>\n",
       "┌──────┬───────┬──────────┬────────┐\n",
       "│ nrs  ┆ names ┆ random   ┆ groups │\n",
       "│ ---  ┆ ---   ┆ ---      ┆ ---    │\n",
       "│ i64  ┆ str   ┆ f64      ┆ str    │\n",
       "╞══════╪═══════╪══════════╪════════╡\n",
       "│ <span style=\"color: #008080; text-decoration-color: #008080; font-weight: bold\">1</span>    ┆ foo   ┆ <span style=\"color: #008080; text-decoration-color: #008080; font-weight: bold\">0.397754</span> ┆ A      │\n",
       "│ <span style=\"color: #008080; text-decoration-color: #008080; font-weight: bold\">2</span>    ┆ ham   ┆ <span style=\"color: #008080; text-decoration-color: #008080; font-weight: bold\">0.639284</span> ┆ A      │\n",
       "│ <span style=\"color: #008080; text-decoration-color: #008080; font-weight: bold\">3</span>    ┆ spam  ┆ <span style=\"color: #008080; text-decoration-color: #008080; font-weight: bold\">0.625305</span> ┆ B      │\n",
       "│ null ┆ egg   ┆ <span style=\"color: #008080; text-decoration-color: #008080; font-weight: bold\">0.23468</span>  ┆ C      │\n",
       "│ <span style=\"color: #008080; text-decoration-color: #008080; font-weight: bold\">5</span>    ┆ null  ┆ <span style=\"color: #008080; text-decoration-color: #008080; font-weight: bold\">0.3238</span>   ┆ B      │\n",
       "└──────┴───────┴──────────┴────────┘\n",
       "</pre>\n"
      ],
      "text/plain": [
       "shape: \u001b[1m(\u001b[0m\u001b[1;36m5\u001b[0m, \u001b[1;36m4\u001b[0m\u001b[1m)\u001b[0m\n",
       "┌──────┬───────┬──────────┬────────┐\n",
       "│ nrs  ┆ names ┆ random   ┆ groups │\n",
       "│ ---  ┆ ---   ┆ ---      ┆ ---    │\n",
       "│ i64  ┆ str   ┆ f64      ┆ str    │\n",
       "╞══════╪═══════╪══════════╪════════╡\n",
       "│ \u001b[1;36m1\u001b[0m    ┆ foo   ┆ \u001b[1;36m0.397754\u001b[0m ┆ A      │\n",
       "│ \u001b[1;36m2\u001b[0m    ┆ ham   ┆ \u001b[1;36m0.639284\u001b[0m ┆ A      │\n",
       "│ \u001b[1;36m3\u001b[0m    ┆ spam  ┆ \u001b[1;36m0.625305\u001b[0m ┆ B      │\n",
       "│ null ┆ egg   ┆ \u001b[1;36m0.23468\u001b[0m  ┆ C      │\n",
       "│ \u001b[1;36m5\u001b[0m    ┆ null  ┆ \u001b[1;36m0.3238\u001b[0m   ┆ B      │\n",
       "└──────┴───────┴──────────┴────────┘\n"
      ]
     },
     "metadata": {},
     "output_type": "display_data"
    }
   ],
   "source": [
    "df: pl.DataFrame = pl.DataFrame(\n",
    "    {\n",
    "        \"nrs\": [1, 2, 3, None, 5],\n",
    "        \"names\": [\"foo\", \"ham\", \"spam\", \"egg\", None],\n",
    "        \"random\": np.random.rand(5),\n",
    "        \"groups\": [\"A\", \"A\", \"B\", \"C\", \"B\"],\n",
    "    }\n",
    ")\n",
    "print(df)"
   ]
  },
  {
   "cell_type": "code",
   "execution_count": 7,
   "metadata": {},
   "outputs": [
    {
     "data": {
      "text/html": [
       "<pre style=\"white-space:pre;overflow-x:auto;line-height:normal;font-family:Menlo,'DejaVu Sans Mono',consolas,'Courier New',monospace\">shape: <span style=\"font-weight: bold\">(</span><span style=\"color: #008080; text-decoration-color: #008080; font-weight: bold\">5</span>, <span style=\"color: #008080; text-decoration-color: #008080; font-weight: bold\">4</span><span style=\"font-weight: bold\">)</span>\n",
       "┌─────┬───────┬────────────┬────────┐\n",
       "│ nrs ┆ names ┆ first name ┆ 1<span style=\"color: #008080; text-decoration-color: #008080; font-weight: bold\">0x</span>nrs │\n",
       "│ --- ┆ ---   ┆ ---        ┆ ---    │\n",
       "│ i64 ┆ str   ┆ str        ┆ f64    │\n",
       "╞═════╪═══════╪════════════╪════════╡\n",
       "│ <span style=\"color: #008080; text-decoration-color: #008080; font-weight: bold\">11</span>  ┆ null  ┆ foo        ┆ <span style=\"color: #008080; text-decoration-color: #008080; font-weight: bold\">27.5</span>   │\n",
       "│ <span style=\"color: #008080; text-decoration-color: #008080; font-weight: bold\">11</span>  ┆ egg   ┆ foo        ┆ <span style=\"color: #008080; text-decoration-color: #008080; font-weight: bold\">27.5</span>   │\n",
       "│ <span style=\"color: #008080; text-decoration-color: #008080; font-weight: bold\">11</span>  ┆ foo   ┆ foo        ┆ <span style=\"color: #008080; text-decoration-color: #008080; font-weight: bold\">27.5</span>   │\n",
       "│ <span style=\"color: #008080; text-decoration-color: #008080; font-weight: bold\">11</span>  ┆ ham   ┆ foo        ┆ <span style=\"color: #008080; text-decoration-color: #008080; font-weight: bold\">27.5</span>   │\n",
       "│ <span style=\"color: #008080; text-decoration-color: #008080; font-weight: bold\">11</span>  ┆ spam  ┆ foo        ┆ <span style=\"color: #008080; text-decoration-color: #008080; font-weight: bold\">27.5</span>   │\n",
       "└─────┴───────┴────────────┴────────┘\n",
       "</pre>\n"
      ],
      "text/plain": [
       "shape: \u001b[1m(\u001b[0m\u001b[1;36m5\u001b[0m, \u001b[1;36m4\u001b[0m\u001b[1m)\u001b[0m\n",
       "┌─────┬───────┬────────────┬────────┐\n",
       "│ nrs ┆ names ┆ first name ┆ 1\u001b[1;36m0x\u001b[0mnrs │\n",
       "│ --- ┆ ---   ┆ ---        ┆ ---    │\n",
       "│ i64 ┆ str   ┆ str        ┆ f64    │\n",
       "╞═════╪═══════╪════════════╪════════╡\n",
       "│ \u001b[1;36m11\u001b[0m  ┆ null  ┆ foo        ┆ \u001b[1;36m27.5\u001b[0m   │\n",
       "│ \u001b[1;36m11\u001b[0m  ┆ egg   ┆ foo        ┆ \u001b[1;36m27.5\u001b[0m   │\n",
       "│ \u001b[1;36m11\u001b[0m  ┆ foo   ┆ foo        ┆ \u001b[1;36m27.5\u001b[0m   │\n",
       "│ \u001b[1;36m11\u001b[0m  ┆ ham   ┆ foo        ┆ \u001b[1;36m27.5\u001b[0m   │\n",
       "│ \u001b[1;36m11\u001b[0m  ┆ spam  ┆ foo        ┆ \u001b[1;36m27.5\u001b[0m   │\n",
       "└─────┴───────┴────────────┴────────┘\n"
      ]
     },
     "metadata": {},
     "output_type": "display_data"
    }
   ],
   "source": [
    "# Select\n",
    "out: pl.DataFrame = df.select(\n",
    "    pl.sum(\"nrs\"),  # sum this column\n",
    "    pl.col(\"names\").sort(),  # select and sort this column\n",
    "    # select the first row and rename this column\n",
    "    pl.col(\"names\").first().alias(\"first name\"),\n",
    "    # calculate the mean, multiply by 10 and rename\n",
    "    (pl.mean(\"nrs\") * 10).alias(\"10xnrs\"),\n",
    ")\n",
    "print(out)"
   ]
  },
  {
   "cell_type": "code",
   "execution_count": 8,
   "metadata": {},
   "outputs": [
    {
     "data": {
      "text/html": [
       "<div><style>\n",
       ".dataframe > thead > tr > th,\n",
       ".dataframe > tbody > tr > td {\n",
       "  text-align: right;\n",
       "  white-space: pre-wrap;\n",
       "}\n",
       "</style>\n",
       "<small>shape: (5, 4)</small><table border=\"1\" class=\"dataframe\"><thead><tr><th>nrs</th><th>names</th><th>random</th><th>groups</th></tr><tr><td>i64</td><td>str</td><td>f64</td><td>str</td></tr></thead><tbody><tr><td>1</td><td>&quot;foo&quot;</td><td>0.397754</td><td>&quot;A&quot;</td></tr><tr><td>2</td><td>&quot;ham&quot;</td><td>0.639284</td><td>&quot;A&quot;</td></tr><tr><td>3</td><td>&quot;spam&quot;</td><td>0.625305</td><td>&quot;B&quot;</td></tr><tr><td>null</td><td>&quot;egg&quot;</td><td>0.23468</td><td>&quot;C&quot;</td></tr><tr><td>5</td><td>null</td><td>0.3238</td><td>&quot;B&quot;</td></tr></tbody></table></div>"
      ],
      "text/plain": [
       "shape: (5, 4)\n",
       "┌──────┬───────┬──────────┬────────┐\n",
       "│ nrs  ┆ names ┆ random   ┆ groups │\n",
       "│ ---  ┆ ---   ┆ ---      ┆ ---    │\n",
       "│ i64  ┆ str   ┆ f64      ┆ str    │\n",
       "╞══════╪═══════╪══════════╪════════╡\n",
       "│ 1    ┆ foo   ┆ 0.397754 ┆ A      │\n",
       "│ 2    ┆ ham   ┆ 0.639284 ┆ A      │\n",
       "│ 3    ┆ spam  ┆ 0.625305 ┆ B      │\n",
       "│ null ┆ egg   ┆ 0.23468  ┆ C      │\n",
       "│ 5    ┆ null  ┆ 0.3238   ┆ B      │\n",
       "└──────┴───────┴──────────┴────────┘"
      ]
     },
     "execution_count": 8,
     "metadata": {},
     "output_type": "execute_result"
    }
   ],
   "source": [
    "df"
   ]
  },
  {
   "cell_type": "code",
   "execution_count": 9,
   "metadata": {},
   "outputs": [
    {
     "data": {
      "text/html": [
       "<pre style=\"white-space:pre;overflow-x:auto;line-height:normal;font-family:Menlo,'DejaVu Sans Mono',consolas,'Courier New',monospace\">shape: <span style=\"font-weight: bold\">(</span><span style=\"color: #008080; text-decoration-color: #008080; font-weight: bold\">5</span>, <span style=\"color: #008080; text-decoration-color: #008080; font-weight: bold\">6</span><span style=\"font-weight: bold\">)</span>\n",
       "┌──────┬───────┬──────────┬────────┬─────────┬───────┐\n",
       "│ nrs  ┆ names ┆ random   ┆ groups ┆ nrs_sum ┆ count │\n",
       "│ ---  ┆ ---   ┆ ---      ┆ ---    ┆ ---     ┆ ---   │\n",
       "│ i64  ┆ str   ┆ f64      ┆ str    ┆ i64     ┆ u32   │\n",
       "╞══════╪═══════╪══════════╪════════╪═════════╪═══════╡\n",
       "│ <span style=\"color: #008080; text-decoration-color: #008080; font-weight: bold\">1</span>    ┆ foo   ┆ <span style=\"color: #008080; text-decoration-color: #008080; font-weight: bold\">0.397754</span> ┆ A      ┆ <span style=\"color: #008080; text-decoration-color: #008080; font-weight: bold\">11</span>      ┆ <span style=\"color: #008080; text-decoration-color: #008080; font-weight: bold\">5</span>     │\n",
       "│ <span style=\"color: #008080; text-decoration-color: #008080; font-weight: bold\">2</span>    ┆ ham   ┆ <span style=\"color: #008080; text-decoration-color: #008080; font-weight: bold\">0.639284</span> ┆ A      ┆ <span style=\"color: #008080; text-decoration-color: #008080; font-weight: bold\">11</span>      ┆ <span style=\"color: #008080; text-decoration-color: #008080; font-weight: bold\">5</span>     │\n",
       "│ <span style=\"color: #008080; text-decoration-color: #008080; font-weight: bold\">3</span>    ┆ spam  ┆ <span style=\"color: #008080; text-decoration-color: #008080; font-weight: bold\">0.625305</span> ┆ B      ┆ <span style=\"color: #008080; text-decoration-color: #008080; font-weight: bold\">11</span>      ┆ <span style=\"color: #008080; text-decoration-color: #008080; font-weight: bold\">5</span>     │\n",
       "│ null ┆ egg   ┆ <span style=\"color: #008080; text-decoration-color: #008080; font-weight: bold\">0.23468</span>  ┆ C      ┆ <span style=\"color: #008080; text-decoration-color: #008080; font-weight: bold\">11</span>      ┆ <span style=\"color: #008080; text-decoration-color: #008080; font-weight: bold\">5</span>     │\n",
       "│ <span style=\"color: #008080; text-decoration-color: #008080; font-weight: bold\">5</span>    ┆ null  ┆ <span style=\"color: #008080; text-decoration-color: #008080; font-weight: bold\">0.3238</span>   ┆ B      ┆ <span style=\"color: #008080; text-decoration-color: #008080; font-weight: bold\">11</span>      ┆ <span style=\"color: #008080; text-decoration-color: #008080; font-weight: bold\">5</span>     │\n",
       "└──────┴───────┴──────────┴────────┴─────────┴───────┘\n",
       "</pre>\n"
      ],
      "text/plain": [
       "shape: \u001b[1m(\u001b[0m\u001b[1;36m5\u001b[0m, \u001b[1;36m6\u001b[0m\u001b[1m)\u001b[0m\n",
       "┌──────┬───────┬──────────┬────────┬─────────┬───────┐\n",
       "│ nrs  ┆ names ┆ random   ┆ groups ┆ nrs_sum ┆ count │\n",
       "│ ---  ┆ ---   ┆ ---      ┆ ---    ┆ ---     ┆ ---   │\n",
       "│ i64  ┆ str   ┆ f64      ┆ str    ┆ i64     ┆ u32   │\n",
       "╞══════╪═══════╪══════════╪════════╪═════════╪═══════╡\n",
       "│ \u001b[1;36m1\u001b[0m    ┆ foo   ┆ \u001b[1;36m0.397754\u001b[0m ┆ A      ┆ \u001b[1;36m11\u001b[0m      ┆ \u001b[1;36m5\u001b[0m     │\n",
       "│ \u001b[1;36m2\u001b[0m    ┆ ham   ┆ \u001b[1;36m0.639284\u001b[0m ┆ A      ┆ \u001b[1;36m11\u001b[0m      ┆ \u001b[1;36m5\u001b[0m     │\n",
       "│ \u001b[1;36m3\u001b[0m    ┆ spam  ┆ \u001b[1;36m0.625305\u001b[0m ┆ B      ┆ \u001b[1;36m11\u001b[0m      ┆ \u001b[1;36m5\u001b[0m     │\n",
       "│ null ┆ egg   ┆ \u001b[1;36m0.23468\u001b[0m  ┆ C      ┆ \u001b[1;36m11\u001b[0m      ┆ \u001b[1;36m5\u001b[0m     │\n",
       "│ \u001b[1;36m5\u001b[0m    ┆ null  ┆ \u001b[1;36m0.3238\u001b[0m   ┆ B      ┆ \u001b[1;36m11\u001b[0m      ┆ \u001b[1;36m5\u001b[0m     │\n",
       "└──────┴───────┴──────────┴────────┴─────────┴───────┘\n"
      ]
     },
     "metadata": {},
     "output_type": "display_data"
    }
   ],
   "source": [
    "# Add new column(s)\n",
    "df_1: pl.DataFrame = df.with_columns(\n",
    "    pl.sum(\"nrs\").alias(\"nrs_sum\"),\n",
    "    pl.col(\"random\").count().alias(\"count\"),\n",
    ")\n",
    "print(df_1)"
   ]
  },
  {
   "cell_type": "code",
   "execution_count": 10,
   "metadata": {},
   "outputs": [
    {
     "data": {
      "text/html": [
       "<pre style=\"white-space:pre;overflow-x:auto;line-height:normal;font-family:Menlo,'DejaVu Sans Mono',consolas,'Courier New',monospace\">shape: <span style=\"font-weight: bold\">(</span><span style=\"color: #008080; text-decoration-color: #008080; font-weight: bold\">2</span>, <span style=\"color: #008080; text-decoration-color: #008080; font-weight: bold\">6</span><span style=\"font-weight: bold\">)</span>\n",
       "┌─────┬───────┬──────────┬────────┬─────────┬───────┐\n",
       "│ nrs ┆ names ┆ random   ┆ groups ┆ nrs_sum ┆ count │\n",
       "│ --- ┆ ---   ┆ ---      ┆ ---    ┆ ---     ┆ ---   │\n",
       "│ i64 ┆ str   ┆ f64      ┆ str    ┆ i64     ┆ u32   │\n",
       "╞═════╪═══════╪══════════╪════════╪═════════╪═══════╡\n",
       "│ <span style=\"color: #008080; text-decoration-color: #008080; font-weight: bold\">3</span>   ┆ spam  ┆ <span style=\"color: #008080; text-decoration-color: #008080; font-weight: bold\">0.625305</span> ┆ B      ┆ <span style=\"color: #008080; text-decoration-color: #008080; font-weight: bold\">11</span>      ┆ <span style=\"color: #008080; text-decoration-color: #008080; font-weight: bold\">5</span>     │\n",
       "│ <span style=\"color: #008080; text-decoration-color: #008080; font-weight: bold\">5</span>   ┆ null  ┆ <span style=\"color: #008080; text-decoration-color: #008080; font-weight: bold\">0.3238</span>   ┆ B      ┆ <span style=\"color: #008080; text-decoration-color: #008080; font-weight: bold\">11</span>      ┆ <span style=\"color: #008080; text-decoration-color: #008080; font-weight: bold\">5</span>     │\n",
       "└─────┴───────┴──────────┴────────┴─────────┴───────┘\n",
       "</pre>\n"
      ],
      "text/plain": [
       "shape: \u001b[1m(\u001b[0m\u001b[1;36m2\u001b[0m, \u001b[1;36m6\u001b[0m\u001b[1m)\u001b[0m\n",
       "┌─────┬───────┬──────────┬────────┬─────────┬───────┐\n",
       "│ nrs ┆ names ┆ random   ┆ groups ┆ nrs_sum ┆ count │\n",
       "│ --- ┆ ---   ┆ ---      ┆ ---    ┆ ---     ┆ ---   │\n",
       "│ i64 ┆ str   ┆ f64      ┆ str    ┆ i64     ┆ u32   │\n",
       "╞═════╪═══════╪══════════╪════════╪═════════╪═══════╡\n",
       "│ \u001b[1;36m3\u001b[0m   ┆ spam  ┆ \u001b[1;36m0.625305\u001b[0m ┆ B      ┆ \u001b[1;36m11\u001b[0m      ┆ \u001b[1;36m5\u001b[0m     │\n",
       "│ \u001b[1;36m5\u001b[0m   ┆ null  ┆ \u001b[1;36m0.3238\u001b[0m   ┆ B      ┆ \u001b[1;36m11\u001b[0m      ┆ \u001b[1;36m5\u001b[0m     │\n",
       "└─────┴───────┴──────────┴────────┴─────────┴───────┘\n"
      ]
     },
     "metadata": {},
     "output_type": "display_data"
    }
   ],
   "source": [
    "# Filter\n",
    "out: pl.DataFrame = df_1.filter(pl.col(\"nrs\") > 2)\n",
    "print(out)"
   ]
  },
  {
   "cell_type": "markdown",
   "metadata": {},
   "source": [
    "### Group By"
   ]
  },
  {
   "cell_type": "code",
   "execution_count": 11,
   "metadata": {},
   "outputs": [
    {
     "data": {
      "text/html": [
       "<pre style=\"white-space:pre;overflow-x:auto;line-height:normal;font-family:Menlo,'DejaVu Sans Mono',consolas,'Courier New',monospace\">shape: <span style=\"font-weight: bold\">(</span><span style=\"color: #008080; text-decoration-color: #008080; font-weight: bold\">5</span>, <span style=\"color: #008080; text-decoration-color: #008080; font-weight: bold\">6</span><span style=\"font-weight: bold\">)</span>\n",
       "┌──────┬───────┬──────────┬────────┬─────────┬───────┐\n",
       "│ nrs  ┆ names ┆ random   ┆ groups ┆ nrs_sum ┆ count │\n",
       "│ ---  ┆ ---   ┆ ---      ┆ ---    ┆ ---     ┆ ---   │\n",
       "│ i64  ┆ str   ┆ f64      ┆ str    ┆ i64     ┆ u32   │\n",
       "╞══════╪═══════╪══════════╪════════╪═════════╪═══════╡\n",
       "│ <span style=\"color: #008080; text-decoration-color: #008080; font-weight: bold\">1</span>    ┆ foo   ┆ <span style=\"color: #008080; text-decoration-color: #008080; font-weight: bold\">0.397754</span> ┆ A      ┆ <span style=\"color: #008080; text-decoration-color: #008080; font-weight: bold\">11</span>      ┆ <span style=\"color: #008080; text-decoration-color: #008080; font-weight: bold\">5</span>     │\n",
       "│ <span style=\"color: #008080; text-decoration-color: #008080; font-weight: bold\">2</span>    ┆ ham   ┆ <span style=\"color: #008080; text-decoration-color: #008080; font-weight: bold\">0.639284</span> ┆ A      ┆ <span style=\"color: #008080; text-decoration-color: #008080; font-weight: bold\">11</span>      ┆ <span style=\"color: #008080; text-decoration-color: #008080; font-weight: bold\">5</span>     │\n",
       "│ <span style=\"color: #008080; text-decoration-color: #008080; font-weight: bold\">3</span>    ┆ spam  ┆ <span style=\"color: #008080; text-decoration-color: #008080; font-weight: bold\">0.625305</span> ┆ B      ┆ <span style=\"color: #008080; text-decoration-color: #008080; font-weight: bold\">11</span>      ┆ <span style=\"color: #008080; text-decoration-color: #008080; font-weight: bold\">5</span>     │\n",
       "│ null ┆ egg   ┆ <span style=\"color: #008080; text-decoration-color: #008080; font-weight: bold\">0.23468</span>  ┆ C      ┆ <span style=\"color: #008080; text-decoration-color: #008080; font-weight: bold\">11</span>      ┆ <span style=\"color: #008080; text-decoration-color: #008080; font-weight: bold\">5</span>     │\n",
       "│ <span style=\"color: #008080; text-decoration-color: #008080; font-weight: bold\">5</span>    ┆ null  ┆ <span style=\"color: #008080; text-decoration-color: #008080; font-weight: bold\">0.3238</span>   ┆ B      ┆ <span style=\"color: #008080; text-decoration-color: #008080; font-weight: bold\">11</span>      ┆ <span style=\"color: #008080; text-decoration-color: #008080; font-weight: bold\">5</span>     │\n",
       "└──────┴───────┴──────────┴────────┴─────────┴───────┘\n",
       "</pre>\n"
      ],
      "text/plain": [
       "shape: \u001b[1m(\u001b[0m\u001b[1;36m5\u001b[0m, \u001b[1;36m6\u001b[0m\u001b[1m)\u001b[0m\n",
       "┌──────┬───────┬──────────┬────────┬─────────┬───────┐\n",
       "│ nrs  ┆ names ┆ random   ┆ groups ┆ nrs_sum ┆ count │\n",
       "│ ---  ┆ ---   ┆ ---      ┆ ---    ┆ ---     ┆ ---   │\n",
       "│ i64  ┆ str   ┆ f64      ┆ str    ┆ i64     ┆ u32   │\n",
       "╞══════╪═══════╪══════════╪════════╪═════════╪═══════╡\n",
       "│ \u001b[1;36m1\u001b[0m    ┆ foo   ┆ \u001b[1;36m0.397754\u001b[0m ┆ A      ┆ \u001b[1;36m11\u001b[0m      ┆ \u001b[1;36m5\u001b[0m     │\n",
       "│ \u001b[1;36m2\u001b[0m    ┆ ham   ┆ \u001b[1;36m0.639284\u001b[0m ┆ A      ┆ \u001b[1;36m11\u001b[0m      ┆ \u001b[1;36m5\u001b[0m     │\n",
       "│ \u001b[1;36m3\u001b[0m    ┆ spam  ┆ \u001b[1;36m0.625305\u001b[0m ┆ B      ┆ \u001b[1;36m11\u001b[0m      ┆ \u001b[1;36m5\u001b[0m     │\n",
       "│ null ┆ egg   ┆ \u001b[1;36m0.23468\u001b[0m  ┆ C      ┆ \u001b[1;36m11\u001b[0m      ┆ \u001b[1;36m5\u001b[0m     │\n",
       "│ \u001b[1;36m5\u001b[0m    ┆ null  ┆ \u001b[1;36m0.3238\u001b[0m   ┆ B      ┆ \u001b[1;36m11\u001b[0m      ┆ \u001b[1;36m5\u001b[0m     │\n",
       "└──────┴───────┴──────────┴────────┴─────────┴───────┘\n"
      ]
     },
     "metadata": {},
     "output_type": "display_data"
    }
   ],
   "source": [
    "print(df_1)"
   ]
  },
  {
   "cell_type": "code",
   "execution_count": 12,
   "metadata": {},
   "outputs": [
    {
     "data": {
      "text/html": [
       "<pre style=\"white-space:pre;overflow-x:auto;line-height:normal;font-family:Menlo,'DejaVu Sans Mono',consolas,'Courier New',monospace\">shape: <span style=\"font-weight: bold\">(</span><span style=\"color: #008080; text-decoration-color: #008080; font-weight: bold\">3</span>, <span style=\"color: #008080; text-decoration-color: #008080; font-weight: bold\">5</span><span style=\"font-weight: bold\">)</span>\n",
       "┌────────┬─────┬───────┬────────────┬────────────────┐\n",
       "│ groups ┆ nrs ┆ count ┆ random_sum ┆ reversed names │\n",
       "│ ---    ┆ --- ┆ ---   ┆ ---        ┆ ---            │\n",
       "│ str    ┆ i64 ┆ u32   ┆ f64        ┆ list<span style=\"font-weight: bold\">[</span>str<span style=\"font-weight: bold\">]</span>      │\n",
       "╞════════╪═════╪═══════╪════════════╪════════════════╡\n",
       "│ B      ┆ <span style=\"color: #008080; text-decoration-color: #008080; font-weight: bold\">8</span>   ┆ <span style=\"color: #008080; text-decoration-color: #008080; font-weight: bold\">2</span>     ┆ <span style=\"color: #008080; text-decoration-color: #008080; font-weight: bold\">0.625305</span>   ┆ <span style=\"font-weight: bold\">[</span>null, <span style=\"color: #008000; text-decoration-color: #008000\">\"spam\"</span><span style=\"font-weight: bold\">]</span> │\n",
       "│ A      ┆ <span style=\"color: #008080; text-decoration-color: #008080; font-weight: bold\">3</span>   ┆ <span style=\"color: #008080; text-decoration-color: #008080; font-weight: bold\">2</span>     ┆ <span style=\"color: #008080; text-decoration-color: #008080; font-weight: bold\">1.037038</span>   ┆ <span style=\"font-weight: bold\">[</span><span style=\"color: #008000; text-decoration-color: #008000\">\"ham\"</span>, <span style=\"color: #008000; text-decoration-color: #008000\">\"foo\"</span><span style=\"font-weight: bold\">]</span> │\n",
       "│ C      ┆ <span style=\"color: #008080; text-decoration-color: #008080; font-weight: bold\">0</span>   ┆ <span style=\"color: #008080; text-decoration-color: #008080; font-weight: bold\">1</span>     ┆ <span style=\"color: #008080; text-decoration-color: #008080; font-weight: bold\">0.23468</span>    ┆ <span style=\"font-weight: bold\">[</span><span style=\"color: #008000; text-decoration-color: #008000\">\"egg\"</span><span style=\"font-weight: bold\">]</span>        │\n",
       "└────────┴─────┴───────┴────────────┴────────────────┘\n",
       "</pre>\n"
      ],
      "text/plain": [
       "shape: \u001b[1m(\u001b[0m\u001b[1;36m3\u001b[0m, \u001b[1;36m5\u001b[0m\u001b[1m)\u001b[0m\n",
       "┌────────┬─────┬───────┬────────────┬────────────────┐\n",
       "│ groups ┆ nrs ┆ count ┆ random_sum ┆ reversed names │\n",
       "│ ---    ┆ --- ┆ ---   ┆ ---        ┆ ---            │\n",
       "│ str    ┆ i64 ┆ u32   ┆ f64        ┆ list\u001b[1m[\u001b[0mstr\u001b[1m]\u001b[0m      │\n",
       "╞════════╪═════╪═══════╪════════════╪════════════════╡\n",
       "│ B      ┆ \u001b[1;36m8\u001b[0m   ┆ \u001b[1;36m2\u001b[0m     ┆ \u001b[1;36m0.625305\u001b[0m   ┆ \u001b[1m[\u001b[0mnull, \u001b[32m\"spam\"\u001b[0m\u001b[1m]\u001b[0m │\n",
       "│ A      ┆ \u001b[1;36m3\u001b[0m   ┆ \u001b[1;36m2\u001b[0m     ┆ \u001b[1;36m1.037038\u001b[0m   ┆ \u001b[1m[\u001b[0m\u001b[32m\"ham\"\u001b[0m, \u001b[32m\"foo\"\u001b[0m\u001b[1m]\u001b[0m │\n",
       "│ C      ┆ \u001b[1;36m0\u001b[0m   ┆ \u001b[1;36m1\u001b[0m     ┆ \u001b[1;36m0.23468\u001b[0m    ┆ \u001b[1m[\u001b[0m\u001b[32m\"egg\"\u001b[0m\u001b[1m]\u001b[0m        │\n",
       "└────────┴─────┴───────┴────────────┴────────────────┘\n"
      ]
     },
     "metadata": {},
     "output_type": "display_data"
    }
   ],
   "source": [
    "out: pl.DataFrame = df_1.group_by(\"groups\").agg(\n",
    "    pl.sum(\"nrs\"),  # sum nrs by groups\n",
    "    pl.col(\"random\").count().alias(\"count\"),  # count group members\n",
    "    # sum random where name != null\n",
    "    pl.col(\"random\").filter(pl.col(\"names\").is_not_null()).sum().name.suffix(\"_sum\"),\n",
    "    pl.col(\"names\").reverse().alias(\"reversed names\"),\n",
    ")\n",
    "print(out)"
   ]
  },
  {
   "cell_type": "markdown",
   "metadata": {},
   "source": [
    "### Expressions\n",
    "\n",
    "```text\n",
    "- Polars has a powerful concept called expressions that is central to its very fast performance.\n",
    "- Expressions are at the core of many data science operations:\n",
    "  * taking a sample of rows from a column\n",
    "  * multiplying values in a column\n",
    "  * extracting a column of years from dates\n",
    "  * convert a column of strings to lowercase\n",
    "\n",
    "- However, expressions are also used within other operations:\n",
    "  * taking the mean of a group in a group_by operation\n",
    "  * calculating the size of groups in a group_by operation\n",
    "  * taking the sum horizontally across columns\n",
    "  * Polars performs these core data transformations very quickly by:\n",
    "\n",
    "- Polars expressions are a mapping from a series to a series (or mathematically Fn(Series) -> Series). \n",
    "- As expressions have a Series as an input and a Series as an output then it is straightforward to do a sequence of expressions (similar to method chaining in Pandas).\n",
    "```"
   ]
  },
  {
   "cell_type": "code",
   "execution_count": 13,
   "metadata": {},
   "outputs": [
    {
     "data": {
      "text/html": [
       "col(\"foo\").sort(asc).slice(offset=0, length=2)"
      ],
      "text/plain": [
       "<polars.expr.expr.Expr at 0x7fe8ed00f2b0>"
      ]
     },
     "execution_count": 13,
     "metadata": {},
     "output_type": "execute_result"
    }
   ],
   "source": [
    "# Select column \"foo\"\n",
    "# Then sort the column (not in reversed order)\n",
    "# Then take the first two values of the sorted output\n",
    "pl.col(\"foo\").sort().head(2)"
   ]
  },
  {
   "cell_type": "code",
   "execution_count": 14,
   "metadata": {},
   "outputs": [
    {
     "data": {
      "text/html": [
       "<div><style>\n",
       ".dataframe > thead > tr > th,\n",
       ".dataframe > tbody > tr > td {\n",
       "  text-align: right;\n",
       "  white-space: pre-wrap;\n",
       "}\n",
       "</style>\n",
       "<small>shape: (5, 6)</small><table border=\"1\" class=\"dataframe\"><thead><tr><th>nrs</th><th>names</th><th>random</th><th>groups</th><th>nrs_sum</th><th>count</th></tr><tr><td>i64</td><td>str</td><td>f64</td><td>str</td><td>i64</td><td>u32</td></tr></thead><tbody><tr><td>1</td><td>&quot;foo&quot;</td><td>0.397754</td><td>&quot;A&quot;</td><td>11</td><td>5</td></tr><tr><td>2</td><td>&quot;ham&quot;</td><td>0.639284</td><td>&quot;A&quot;</td><td>11</td><td>5</td></tr><tr><td>3</td><td>&quot;spam&quot;</td><td>0.625305</td><td>&quot;B&quot;</td><td>11</td><td>5</td></tr><tr><td>null</td><td>&quot;egg&quot;</td><td>0.23468</td><td>&quot;C&quot;</td><td>11</td><td>5</td></tr><tr><td>5</td><td>null</td><td>0.3238</td><td>&quot;B&quot;</td><td>11</td><td>5</td></tr></tbody></table></div>"
      ],
      "text/plain": [
       "shape: (5, 6)\n",
       "┌──────┬───────┬──────────┬────────┬─────────┬───────┐\n",
       "│ nrs  ┆ names ┆ random   ┆ groups ┆ nrs_sum ┆ count │\n",
       "│ ---  ┆ ---   ┆ ---      ┆ ---    ┆ ---     ┆ ---   │\n",
       "│ i64  ┆ str   ┆ f64      ┆ str    ┆ i64     ┆ u32   │\n",
       "╞══════╪═══════╪══════════╪════════╪═════════╪═══════╡\n",
       "│ 1    ┆ foo   ┆ 0.397754 ┆ A      ┆ 11      ┆ 5     │\n",
       "│ 2    ┆ ham   ┆ 0.639284 ┆ A      ┆ 11      ┆ 5     │\n",
       "│ 3    ┆ spam  ┆ 0.625305 ┆ B      ┆ 11      ┆ 5     │\n",
       "│ null ┆ egg   ┆ 0.23468  ┆ C      ┆ 11      ┆ 5     │\n",
       "│ 5    ┆ null  ┆ 0.3238   ┆ B      ┆ 11      ┆ 5     │\n",
       "└──────┴───────┴──────────┴────────┴─────────┴───────┘"
      ]
     },
     "execution_count": 14,
     "metadata": {},
     "output_type": "execute_result"
    }
   ],
   "source": [
    "df_1"
   ]
  },
  {
   "cell_type": "code",
   "execution_count": 15,
   "metadata": {},
   "outputs": [
    {
     "data": {
      "text/html": [
       "<div><style>\n",
       ".dataframe > thead > tr > th,\n",
       ".dataframe > tbody > tr > td {\n",
       "  text-align: right;\n",
       "  white-space: pre-wrap;\n",
       "}\n",
       "</style>\n",
       "<small>shape: (5, 4)</small><table border=\"1\" class=\"dataframe\"><thead><tr><th>nrs</th><th>names</th><th>random</th><th>groups</th></tr><tr><td>i64</td><td>str</td><td>f64</td><td>str</td></tr></thead><tbody><tr><td>1</td><td>&quot;foo&quot;</td><td>0.397754</td><td>&quot;A&quot;</td></tr><tr><td>2</td><td>&quot;ham&quot;</td><td>0.639284</td><td>&quot;A&quot;</td></tr><tr><td>3</td><td>&quot;spam&quot;</td><td>0.625305</td><td>&quot;B&quot;</td></tr><tr><td>null</td><td>&quot;egg&quot;</td><td>0.23468</td><td>&quot;C&quot;</td></tr><tr><td>5</td><td>null</td><td>0.3238</td><td>&quot;B&quot;</td></tr></tbody></table></div>"
      ],
      "text/plain": [
       "shape: (5, 4)\n",
       "┌──────┬───────┬──────────┬────────┐\n",
       "│ nrs  ┆ names ┆ random   ┆ groups │\n",
       "│ ---  ┆ ---   ┆ ---      ┆ ---    │\n",
       "│ i64  ┆ str   ┆ f64      ┆ str    │\n",
       "╞══════╪═══════╪══════════╪════════╡\n",
       "│ 1    ┆ foo   ┆ 0.397754 ┆ A      │\n",
       "│ 2    ┆ ham   ┆ 0.639284 ┆ A      │\n",
       "│ 3    ┆ spam  ┆ 0.625305 ┆ B      │\n",
       "│ null ┆ egg   ┆ 0.23468  ┆ C      │\n",
       "│ 5    ┆ null  ┆ 0.3238   ┆ B      │\n",
       "└──────┴───────┴──────────┴────────┘"
      ]
     },
     "execution_count": 15,
     "metadata": {},
     "output_type": "execute_result"
    }
   ],
   "source": [
    "df"
   ]
  },
  {
   "cell_type": "markdown",
   "metadata": {},
   "source": [
    "### [Lazy Vs Eager API](https://pola-rs.github.io/polars/user-guide/concepts/lazy-vs-eager/)"
   ]
  },
  {
   "cell_type": "code",
   "execution_count": 16,
   "metadata": {},
   "outputs": [
    {
     "data": {
      "text/html": [
       "<pre style=\"white-space:pre;overflow-x:auto;line-height:normal;font-family:Menlo,'DejaVu Sans Mono',consolas,'Courier New',monospace\">shape: <span style=\"font-weight: bold\">(</span><span style=\"color: #008080; text-decoration-color: #008080; font-weight: bold\">5</span>, <span style=\"color: #008080; text-decoration-color: #008080; font-weight: bold\">15</span><span style=\"font-weight: bold\">)</span>\n",
       "┌───────────┬───────────┬───────────┬───────────┬───┬───────────┬───────────┬───────────┬──────────┐\n",
       "│ tweet_id  ┆ airline_s ┆ airline_s ┆ negativer ┆ … ┆ tweet_coo ┆ tweet_cre ┆ tweet_loc ┆ user_tim │\n",
       "│ <span style=\"font-weight: bold\">(</span>i64<span style=\"font-weight: bold\">)</span>     ┆ entiment  ┆ entiment_ ┆ eason     ┆   ┆ rd <span style=\"font-weight: bold\">(</span>str<span style=\"font-weight: bold\">)</span>  ┆ ated      ┆ ation     ┆ ezone    │\n",
       "│           ┆ <span style=\"font-weight: bold\">(</span>str<span style=\"font-weight: bold\">)</span>     ┆ confidenc ┆ <span style=\"font-weight: bold\">(</span>str<span style=\"font-weight: bold\">)</span>     ┆   ┆           ┆ <span style=\"font-weight: bold\">(</span>str<span style=\"font-weight: bold\">)</span>     ┆ <span style=\"font-weight: bold\">(</span>str<span style=\"font-weight: bold\">)</span>     ┆ <span style=\"font-weight: bold\">(</span>str<span style=\"font-weight: bold\">)</span>    │\n",
       "│           ┆           ┆ e <span style=\"font-weight: bold\">(</span>f64<span style=\"font-weight: bold\">)</span>   ┆           ┆   ┆           ┆           ┆           ┆          │\n",
       "╞═══════════╪═══════════╪═══════════╪═══════════╪═══╪═══════════╪═══════════╪═══════════╪══════════╡\n",
       "│ <span style=\"color: #008080; text-decoration-color: #008080; font-weight: bold\">570306133</span> ┆ neutral   ┆ <span style=\"color: #008080; text-decoration-color: #008080; font-weight: bold\">1.0</span>       ┆ null      ┆ … ┆ null      ┆ <span style=\"color: #008080; text-decoration-color: #008080; font-weight: bold\">2015</span>-<span style=\"color: #008080; text-decoration-color: #008080; font-weight: bold\">02</span>-<span style=\"color: #008080; text-decoration-color: #008080; font-weight: bold\">2</span> ┆ null      ┆ Eastern  │\n",
       "│ <span style=\"color: #008080; text-decoration-color: #008080; font-weight: bold\">677760513</span> ┆           ┆           ┆           ┆   ┆           ┆ <span style=\"color: #008080; text-decoration-color: #008080; font-weight: bold\">4</span>         ┆           ┆ Time <span style=\"font-weight: bold\">(</span>US │\n",
       "│           ┆           ┆           ┆           ┆   ┆           ┆ <span style=\"color: #00ff00; text-decoration-color: #00ff00; font-weight: bold\">11:35:52</span>  ┆           ┆ &amp;        │\n",
       "│           ┆           ┆           ┆           ┆   ┆           ┆ <span style=\"color: #008080; text-decoration-color: #008080; font-weight: bold\">-0800</span>     ┆           ┆ Canada<span style=\"font-weight: bold\">)</span>  │\n",
       "│ <span style=\"color: #008080; text-decoration-color: #008080; font-weight: bold\">570301130</span> ┆ positive  ┆ <span style=\"color: #008080; text-decoration-color: #008080; font-weight: bold\">0.3486</span>    ┆ null      ┆ … ┆ null      ┆ <span style=\"color: #008080; text-decoration-color: #008080; font-weight: bold\">2015</span>-<span style=\"color: #008080; text-decoration-color: #008080; font-weight: bold\">02</span>-<span style=\"color: #008080; text-decoration-color: #008080; font-weight: bold\">2</span> ┆ null      ┆ Pacific  │\n",
       "│ <span style=\"color: #008080; text-decoration-color: #008080; font-weight: bold\">888122368</span> ┆           ┆           ┆           ┆   ┆           ┆ <span style=\"color: #008080; text-decoration-color: #008080; font-weight: bold\">4</span>         ┆           ┆ Time <span style=\"font-weight: bold\">(</span>US │\n",
       "│           ┆           ┆           ┆           ┆   ┆           ┆ <span style=\"color: #00ff00; text-decoration-color: #00ff00; font-weight: bold\">11:15:59</span>  ┆           ┆ &amp;        │\n",
       "│           ┆           ┆           ┆           ┆   ┆           ┆ <span style=\"color: #008080; text-decoration-color: #008080; font-weight: bold\">-0800</span>     ┆           ┆ Canada<span style=\"font-weight: bold\">)</span>  │\n",
       "│ <span style=\"color: #008080; text-decoration-color: #008080; font-weight: bold\">570301083</span> ┆ neutral   ┆ <span style=\"color: #008080; text-decoration-color: #008080; font-weight: bold\">0.6837</span>    ┆ null      ┆ … ┆ null      ┆ <span style=\"color: #008080; text-decoration-color: #008080; font-weight: bold\">2015</span>-<span style=\"color: #008080; text-decoration-color: #008080; font-weight: bold\">02</span>-<span style=\"color: #008080; text-decoration-color: #008080; font-weight: bold\">2</span> ┆ Lets Play ┆ Central  │\n",
       "│ <span style=\"color: #008080; text-decoration-color: #008080; font-weight: bold\">672813571</span> ┆           ┆           ┆           ┆   ┆           ┆ <span style=\"color: #008080; text-decoration-color: #008080; font-weight: bold\">4</span>         ┆           ┆ Time <span style=\"font-weight: bold\">(</span>US │\n",
       "│           ┆           ┆           ┆           ┆   ┆           ┆ <span style=\"color: #00ff00; text-decoration-color: #00ff00; font-weight: bold\">11:15:48</span>  ┆           ┆ &amp;        │\n",
       "│           ┆           ┆           ┆           ┆   ┆           ┆ <span style=\"color: #008080; text-decoration-color: #008080; font-weight: bold\">-0800</span>     ┆           ┆ Canada<span style=\"font-weight: bold\">)</span>  │\n",
       "│ <span style=\"color: #008080; text-decoration-color: #008080; font-weight: bold\">570301031</span> ┆ negative  ┆ <span style=\"color: #008080; text-decoration-color: #008080; font-weight: bold\">1.0</span>       ┆ Bad       ┆ … ┆ null      ┆ <span style=\"color: #008080; text-decoration-color: #008080; font-weight: bold\">2015</span>-<span style=\"color: #008080; text-decoration-color: #008080; font-weight: bold\">02</span>-<span style=\"color: #008080; text-decoration-color: #008080; font-weight: bold\">2</span> ┆ null      ┆ Pacific  │\n",
       "│ <span style=\"color: #008080; text-decoration-color: #008080; font-weight: bold\">407624196</span> ┆           ┆           ┆ Flight    ┆   ┆           ┆ <span style=\"color: #008080; text-decoration-color: #008080; font-weight: bold\">4</span>         ┆           ┆ Time <span style=\"font-weight: bold\">(</span>US │\n",
       "│           ┆           ┆           ┆           ┆   ┆           ┆ <span style=\"color: #00ff00; text-decoration-color: #00ff00; font-weight: bold\">11:15:36</span>  ┆           ┆ &amp;        │\n",
       "│           ┆           ┆           ┆           ┆   ┆           ┆ <span style=\"color: #008080; text-decoration-color: #008080; font-weight: bold\">-0800</span>     ┆           ┆ Canada<span style=\"font-weight: bold\">)</span>  │\n",
       "│ <span style=\"color: #008080; text-decoration-color: #008080; font-weight: bold\">570300817</span> ┆ negative  ┆ <span style=\"color: #008080; text-decoration-color: #008080; font-weight: bold\">1.0</span>       ┆ Can't     ┆ … ┆ null      ┆ <span style=\"color: #008080; text-decoration-color: #008080; font-weight: bold\">2015</span>-<span style=\"color: #008080; text-decoration-color: #008080; font-weight: bold\">02</span>-<span style=\"color: #008080; text-decoration-color: #008080; font-weight: bold\">2</span> ┆ null      ┆ Pacific  │\n",
       "│ <span style=\"color: #008080; text-decoration-color: #008080; font-weight: bold\">074462722</span> ┆           ┆           ┆ Tell      ┆   ┆           ┆ <span style=\"color: #008080; text-decoration-color: #008080; font-weight: bold\">4</span>         ┆           ┆ Time <span style=\"font-weight: bold\">(</span>US │\n",
       "│           ┆           ┆           ┆           ┆   ┆           ┆ <span style=\"color: #00ff00; text-decoration-color: #00ff00; font-weight: bold\">11:14:45</span>  ┆           ┆ &amp;        │\n",
       "│           ┆           ┆           ┆           ┆   ┆           ┆ <span style=\"color: #008080; text-decoration-color: #008080; font-weight: bold\">-0800</span>     ┆           ┆ Canada<span style=\"font-weight: bold\">)</span>  │\n",
       "└───────────┴───────────┴───────────┴───────────┴───┴───────────┴───────────┴───────────┴──────────┘\n",
       "</pre>\n"
      ],
      "text/plain": [
       "shape: \u001b[1m(\u001b[0m\u001b[1;36m5\u001b[0m, \u001b[1;36m15\u001b[0m\u001b[1m)\u001b[0m\n",
       "┌───────────┬───────────┬───────────┬───────────┬───┬───────────┬───────────┬───────────┬──────────┐\n",
       "│ tweet_id  ┆ airline_s ┆ airline_s ┆ negativer ┆ … ┆ tweet_coo ┆ tweet_cre ┆ tweet_loc ┆ user_tim │\n",
       "│ \u001b[1m(\u001b[0mi64\u001b[1m)\u001b[0m     ┆ entiment  ┆ entiment_ ┆ eason     ┆   ┆ rd \u001b[1m(\u001b[0mstr\u001b[1m)\u001b[0m  ┆ ated      ┆ ation     ┆ ezone    │\n",
       "│           ┆ \u001b[1m(\u001b[0mstr\u001b[1m)\u001b[0m     ┆ confidenc ┆ \u001b[1m(\u001b[0mstr\u001b[1m)\u001b[0m     ┆   ┆           ┆ \u001b[1m(\u001b[0mstr\u001b[1m)\u001b[0m     ┆ \u001b[1m(\u001b[0mstr\u001b[1m)\u001b[0m     ┆ \u001b[1m(\u001b[0mstr\u001b[1m)\u001b[0m    │\n",
       "│           ┆           ┆ e \u001b[1m(\u001b[0mf64\u001b[1m)\u001b[0m   ┆           ┆   ┆           ┆           ┆           ┆          │\n",
       "╞═══════════╪═══════════╪═══════════╪═══════════╪═══╪═══════════╪═══════════╪═══════════╪══════════╡\n",
       "│ \u001b[1;36m570306133\u001b[0m ┆ neutral   ┆ \u001b[1;36m1.0\u001b[0m       ┆ null      ┆ … ┆ null      ┆ \u001b[1;36m2015\u001b[0m-\u001b[1;36m02\u001b[0m-\u001b[1;36m2\u001b[0m ┆ null      ┆ Eastern  │\n",
       "│ \u001b[1;36m677760513\u001b[0m ┆           ┆           ┆           ┆   ┆           ┆ \u001b[1;36m4\u001b[0m         ┆           ┆ Time \u001b[1m(\u001b[0mUS │\n",
       "│           ┆           ┆           ┆           ┆   ┆           ┆ \u001b[1;92m11:35:52\u001b[0m  ┆           ┆ &        │\n",
       "│           ┆           ┆           ┆           ┆   ┆           ┆ \u001b[1;36m-0800\u001b[0m     ┆           ┆ Canada\u001b[1m)\u001b[0m  │\n",
       "│ \u001b[1;36m570301130\u001b[0m ┆ positive  ┆ \u001b[1;36m0.3486\u001b[0m    ┆ null      ┆ … ┆ null      ┆ \u001b[1;36m2015\u001b[0m-\u001b[1;36m02\u001b[0m-\u001b[1;36m2\u001b[0m ┆ null      ┆ Pacific  │\n",
       "│ \u001b[1;36m888122368\u001b[0m ┆           ┆           ┆           ┆   ┆           ┆ \u001b[1;36m4\u001b[0m         ┆           ┆ Time \u001b[1m(\u001b[0mUS │\n",
       "│           ┆           ┆           ┆           ┆   ┆           ┆ \u001b[1;92m11:15:59\u001b[0m  ┆           ┆ &        │\n",
       "│           ┆           ┆           ┆           ┆   ┆           ┆ \u001b[1;36m-0800\u001b[0m     ┆           ┆ Canada\u001b[1m)\u001b[0m  │\n",
       "│ \u001b[1;36m570301083\u001b[0m ┆ neutral   ┆ \u001b[1;36m0.6837\u001b[0m    ┆ null      ┆ … ┆ null      ┆ \u001b[1;36m2015\u001b[0m-\u001b[1;36m02\u001b[0m-\u001b[1;36m2\u001b[0m ┆ Lets Play ┆ Central  │\n",
       "│ \u001b[1;36m672813571\u001b[0m ┆           ┆           ┆           ┆   ┆           ┆ \u001b[1;36m4\u001b[0m         ┆           ┆ Time \u001b[1m(\u001b[0mUS │\n",
       "│           ┆           ┆           ┆           ┆   ┆           ┆ \u001b[1;92m11:15:48\u001b[0m  ┆           ┆ &        │\n",
       "│           ┆           ┆           ┆           ┆   ┆           ┆ \u001b[1;36m-0800\u001b[0m     ┆           ┆ Canada\u001b[1m)\u001b[0m  │\n",
       "│ \u001b[1;36m570301031\u001b[0m ┆ negative  ┆ \u001b[1;36m1.0\u001b[0m       ┆ Bad       ┆ … ┆ null      ┆ \u001b[1;36m2015\u001b[0m-\u001b[1;36m02\u001b[0m-\u001b[1;36m2\u001b[0m ┆ null      ┆ Pacific  │\n",
       "│ \u001b[1;36m407624196\u001b[0m ┆           ┆           ┆ Flight    ┆   ┆           ┆ \u001b[1;36m4\u001b[0m         ┆           ┆ Time \u001b[1m(\u001b[0mUS │\n",
       "│           ┆           ┆           ┆           ┆   ┆           ┆ \u001b[1;92m11:15:36\u001b[0m  ┆           ┆ &        │\n",
       "│           ┆           ┆           ┆           ┆   ┆           ┆ \u001b[1;36m-0800\u001b[0m     ┆           ┆ Canada\u001b[1m)\u001b[0m  │\n",
       "│ \u001b[1;36m570300817\u001b[0m ┆ negative  ┆ \u001b[1;36m1.0\u001b[0m       ┆ Can't     ┆ … ┆ null      ┆ \u001b[1;36m2015\u001b[0m-\u001b[1;36m02\u001b[0m-\u001b[1;36m2\u001b[0m ┆ null      ┆ Pacific  │\n",
       "│ \u001b[1;36m074462722\u001b[0m ┆           ┆           ┆ Tell      ┆   ┆           ┆ \u001b[1;36m4\u001b[0m         ┆           ┆ Time \u001b[1m(\u001b[0mUS │\n",
       "│           ┆           ┆           ┆           ┆   ┆           ┆ \u001b[1;92m11:14:45\u001b[0m  ┆           ┆ &        │\n",
       "│           ┆           ┆           ┆           ┆   ┆           ┆ \u001b[1;36m-0800\u001b[0m     ┆           ┆ Canada\u001b[1m)\u001b[0m  │\n",
       "└───────────┴───────────┴───────────┴───────────┴───┴───────────┴───────────┴───────────┴──────────┘\n"
      ]
     },
     "metadata": {},
     "output_type": "display_data"
    }
   ],
   "source": [
    "fp: str = \"../../data/AirlineTweets.csv\"\n",
    "df: pl.DataFrame = pl.read_csv(fp)\n",
    "pl.Config.set_tbl_column_data_type_inline(True)\n",
    "N: int = 8\n",
    "with pl.Config(tbl_cols=N):  # display N columns\n",
    "    print(df.head())"
   ]
  },
  {
   "cell_type": "code",
   "execution_count": 17,
   "metadata": {},
   "outputs": [
    {
     "data": {
      "text/html": [
       "<div><style>\n",
       ".dataframe > thead > tr > th,\n",
       ".dataframe > tbody > tr > td {\n",
       "  text-align: right;\n",
       "  white-space: pre-wrap;\n",
       "}\n",
       "</style>\n",
       "<small>shape: (9, 16)</small><table border=\"1\" class=\"dataframe\"><thead><tr><th>describe</th><th>tweet_id</th><th>airline_sentiment</th><th>airline_sentiment_confidence</th><th>negativereason</th><th>negativereason_confidence</th><th>airline</th><th>airline_sentiment_gold</th><th>name</th><th>negativereason_gold</th><th>retweet_count</th><th>text</th><th>tweet_coord</th><th>tweet_created</th><th>tweet_location</th><th>user_timezone</th></tr><tr><td>str</td><td>f64</td><td>str</td><td>f64</td><td>str</td><td>f64</td><td>str</td><td>str</td><td>str</td><td>str</td><td>f64</td><td>str</td><td>str</td><td>str</td><td>str</td><td>str</td></tr></thead><tbody><tr><td>&quot;count&quot;</td><td>14640.0</td><td>&quot;14640&quot;</td><td>14640.0</td><td>&quot;14640&quot;</td><td>14640.0</td><td>&quot;14640&quot;</td><td>&quot;14640&quot;</td><td>&quot;14640&quot;</td><td>&quot;14640&quot;</td><td>14640.0</td><td>&quot;14640&quot;</td><td>&quot;14640&quot;</td><td>&quot;14640&quot;</td><td>&quot;14640&quot;</td><td>&quot;14640&quot;</td></tr><tr><td>&quot;null_count&quot;</td><td>0.0</td><td>&quot;0&quot;</td><td>0.0</td><td>&quot;5462&quot;</td><td>4118.0</td><td>&quot;0&quot;</td><td>&quot;14600&quot;</td><td>&quot;0&quot;</td><td>&quot;14608&quot;</td><td>0.0</td><td>&quot;0&quot;</td><td>&quot;13621&quot;</td><td>&quot;0&quot;</td><td>&quot;4733&quot;</td><td>&quot;4820&quot;</td></tr><tr><td>&quot;mean&quot;</td><td>5.6922e17</td><td>null</td><td>0.900169</td><td>null</td><td>0.638298</td><td>null</td><td>null</td><td>null</td><td>null</td><td>0.08265</td><td>null</td><td>null</td><td>null</td><td>null</td><td>null</td></tr><tr><td>&quot;std&quot;</td><td>7.7911e14</td><td>null</td><td>0.16283</td><td>null</td><td>0.33044</td><td>null</td><td>null</td><td>null</td><td>null</td><td>0.745778</td><td>null</td><td>null</td><td>null</td><td>null</td><td>null</td></tr><tr><td>&quot;min&quot;</td><td>5.6759e17</td><td>&quot;negative&quot;</td><td>0.335</td><td>&quot;Bad Flight&quot;</td><td>0.0</td><td>&quot;American&quot;</td><td>&quot;negative&quot;</td><td>&quot;0504Traveller&quot;</td><td>&quot;Bad Flight&quot;</td><td>0.0</td><td>&quot;&quot;LOL you guys …</td><td>&quot;[-33.87144962,…</td><td>&quot;2015-02-16 23:…</td><td>&quot;  || san anton…</td><td>&quot;Abu Dhabi&quot;</td></tr><tr><td>&quot;25%&quot;</td><td>5.6856e17</td><td>null</td><td>0.6923</td><td>null</td><td>0.3606</td><td>null</td><td>null</td><td>null</td><td>null</td><td>0.0</td><td>null</td><td>null</td><td>null</td><td>null</td><td>null</td></tr><tr><td>&quot;50%&quot;</td><td>5.6948e17</td><td>null</td><td>1.0</td><td>null</td><td>0.6706</td><td>null</td><td>null</td><td>null</td><td>null</td><td>0.0</td><td>null</td><td>null</td><td>null</td><td>null</td><td>null</td></tr><tr><td>&quot;75%&quot;</td><td>5.6989e17</td><td>null</td><td>1.0</td><td>null</td><td>1.0</td><td>null</td><td>null</td><td>null</td><td>null</td><td>0.0</td><td>null</td><td>null</td><td>null</td><td>null</td><td>null</td></tr><tr><td>&quot;max&quot;</td><td>5.7031e17</td><td>&quot;positive&quot;</td><td>1.0</td><td>&quot;longlines&quot;</td><td>1.0</td><td>&quot;Virgin America…</td><td>&quot;positive&quot;</td><td>&quot;zupshawrl&quot;</td><td>&quot;Lost Luggage\n",
       "D…</td><td>44.0</td><td>&quot;😳 LOLOLOLOLOL …</td><td>&quot;[59.38247253, …</td><td>&quot;2015-02-24 11:…</td><td>&quot;명동서식 37.56638,…</td><td>&quot;West Central A…</td></tr></tbody></table></div>"
      ],
      "text/plain": [
       "shape: (9, 16)\n",
       "┌───────────┬───────────┬───────────┬───────────┬───┬───────────┬───────────┬───────────┬──────────┐\n",
       "│ describe  ┆ tweet_id  ┆ airline_s ┆ airline_s ┆ … ┆ tweet_coo ┆ tweet_cre ┆ tweet_loc ┆ user_tim │\n",
       "│ (str)     ┆ (f64)     ┆ entiment  ┆ entiment_ ┆   ┆ rd (str)  ┆ ated      ┆ ation     ┆ ezone    │\n",
       "│           ┆           ┆ (str)     ┆ confidenc ┆   ┆           ┆ (str)     ┆ (str)     ┆ (str)    │\n",
       "│           ┆           ┆           ┆ e (f64)   ┆   ┆           ┆           ┆           ┆          │\n",
       "╞═══════════╪═══════════╪═══════════╪═══════════╪═══╪═══════════╪═══════════╪═══════════╪══════════╡\n",
       "│ count     ┆ 14640.0   ┆ 14640     ┆ 14640.0   ┆ … ┆ 14640     ┆ 14640     ┆ 14640     ┆ 14640    │\n",
       "│ null_coun ┆ 0.0       ┆ 0         ┆ 0.0       ┆ … ┆ 13621     ┆ 0         ┆ 4733      ┆ 4820     │\n",
       "│ t         ┆           ┆           ┆           ┆   ┆           ┆           ┆           ┆          │\n",
       "│ mean      ┆ 5.6922e17 ┆ null      ┆ 0.900169  ┆ … ┆ null      ┆ null      ┆ null      ┆ null     │\n",
       "│ std       ┆ 7.7911e14 ┆ null      ┆ 0.16283   ┆ … ┆ null      ┆ null      ┆ null      ┆ null     │\n",
       "│ min       ┆ 5.6759e17 ┆ negative  ┆ 0.335     ┆ … ┆ [-33.8714 ┆ 2015-02-1 ┆ || san    ┆ Abu      │\n",
       "│           ┆           ┆           ┆           ┆   ┆ 4962, 151 ┆ 6         ┆ antonio,  ┆ Dhabi    │\n",
       "│           ┆           ┆           ┆           ┆   ┆ .20821275 ┆ 23:36:05  ┆ texas||   ┆          │\n",
       "│           ┆           ┆           ┆           ┆   ┆ ]         ┆ -0800     ┆           ┆          │\n",
       "│ 25%       ┆ 5.6856e17 ┆ null      ┆ 0.6923    ┆ … ┆ null      ┆ null      ┆ null      ┆ null     │\n",
       "│ 50%       ┆ 5.6948e17 ┆ null      ┆ 1.0       ┆ … ┆ null      ┆ null      ┆ null      ┆ null     │\n",
       "│ 75%       ┆ 5.6989e17 ┆ null      ┆ 1.0       ┆ … ┆ null      ┆ null      ┆ null      ┆ null     │\n",
       "│ max       ┆ 5.7031e17 ┆ positive  ┆ 1.0       ┆ … ┆ [59.38247 ┆ 2015-02-2 ┆ 명동서식  ┆ West     │\n",
       "│           ┆           ┆           ┆           ┆   ┆ 253, 18.0 ┆ 4         ┆ 37.56638, ┆ Central  │\n",
       "│           ┆           ┆           ┆           ┆   ┆ 0789007]  ┆ 11:53:37  ┆ 126.98499 ┆ Africa   │\n",
       "│           ┆           ┆           ┆           ┆   ┆           ┆ -0800     ┆ 4         ┆          │\n",
       "└───────────┴───────────┴───────────┴───────────┴───┴───────────┴───────────┴───────────┴──────────┘"
      ]
     },
     "execution_count": 17,
     "metadata": {},
     "output_type": "execute_result"
    }
   ],
   "source": [
    "df.describe()"
   ]
  },
  {
   "cell_type": "code",
   "execution_count": 18,
   "metadata": {},
   "outputs": [
    {
     "data": {
      "text/html": [
       "<pre style=\"white-space:pre;overflow-x:auto;line-height:normal;font-family:Menlo,'DejaVu Sans Mono',consolas,'Courier New',monospace\">shape: <span style=\"font-weight: bold\">(</span><span style=\"color: #008080; text-decoration-color: #008080; font-weight: bold\">11</span>, <span style=\"color: #008080; text-decoration-color: #008080; font-weight: bold\">2</span><span style=\"font-weight: bold\">)</span>\n",
       "┌─────────────────────────┬─────────────────────┐\n",
       "│ negativereason <span style=\"font-weight: bold\">(</span>str<span style=\"font-weight: bold\">)</span>    ┆ retweet_count <span style=\"font-weight: bold\">(</span>f64<span style=\"font-weight: bold\">)</span> │\n",
       "╞═════════════════════════╪═════════════════════╡\n",
       "│ Customer Service Issue  ┆ <span style=\"color: #008080; text-decoration-color: #008080; font-weight: bold\">0.076128</span>            │\n",
       "│ Can't Tell              ┆ <span style=\"color: #008080; text-decoration-color: #008080; font-weight: bold\">0.187983</span>            │\n",
       "│ Bad Flight              ┆ <span style=\"color: #008080; text-decoration-color: #008080; font-weight: bold\">0.076256</span>            │\n",
       "│ Late Flight             ┆ <span style=\"color: #008080; text-decoration-color: #008080; font-weight: bold\">0.093656</span>            │\n",
       "│ …                       ┆ …                   │\n",
       "│ null                    ┆ <span style=\"color: #008080; text-decoration-color: #008080; font-weight: bold\">0.065797</span>            │\n",
       "│ longlines               ┆ <span style=\"color: #008080; text-decoration-color: #008080; font-weight: bold\">0.050562</span>            │\n",
       "│ Flight Booking Problems ┆ <span style=\"color: #008080; text-decoration-color: #008080; font-weight: bold\">0.080614</span>            │\n",
       "│ Cancelled Flight        ┆ <span style=\"color: #008080; text-decoration-color: #008080; font-weight: bold\">0.07346</span>             │\n",
       "└─────────────────────────┴─────────────────────┘\n",
       "</pre>\n"
      ],
      "text/plain": [
       "shape: \u001b[1m(\u001b[0m\u001b[1;36m11\u001b[0m, \u001b[1;36m2\u001b[0m\u001b[1m)\u001b[0m\n",
       "┌─────────────────────────┬─────────────────────┐\n",
       "│ negativereason \u001b[1m(\u001b[0mstr\u001b[1m)\u001b[0m    ┆ retweet_count \u001b[1m(\u001b[0mf64\u001b[1m)\u001b[0m │\n",
       "╞═════════════════════════╪═════════════════════╡\n",
       "│ Customer Service Issue  ┆ \u001b[1;36m0.076128\u001b[0m            │\n",
       "│ Can't Tell              ┆ \u001b[1;36m0.187983\u001b[0m            │\n",
       "│ Bad Flight              ┆ \u001b[1;36m0.076256\u001b[0m            │\n",
       "│ Late Flight             ┆ \u001b[1;36m0.093656\u001b[0m            │\n",
       "│ …                       ┆ …                   │\n",
       "│ null                    ┆ \u001b[1;36m0.065797\u001b[0m            │\n",
       "│ longlines               ┆ \u001b[1;36m0.050562\u001b[0m            │\n",
       "│ Flight Booking Problems ┆ \u001b[1;36m0.080614\u001b[0m            │\n",
       "│ Cancelled Flight        ┆ \u001b[1;36m0.07346\u001b[0m             │\n",
       "└─────────────────────────┴─────────────────────┘\n"
      ]
     },
     "metadata": {},
     "output_type": "display_data"
    }
   ],
   "source": [
    "VALUE: float = 0.567\n",
    "df_small: pl.DataFrame = df.filter(pl.col(\"airline_sentiment_confidence\") > VALUE)\n",
    "df_agg: pl.DataFrame = df_small.group_by(\"negativereason\").agg(\n",
    "    pl.col(\"retweet_count\").mean()\n",
    ")\n",
    "print(df_agg)"
   ]
  },
  {
   "cell_type": "markdown",
   "metadata": {},
   "source": [
    "### Lazy API\n",
    "\n",
    "```text\n",
    "- These will significantly lower the load on memory & CPU thus allowing you to fit bigger datasets in memory and process faster. \n",
    "- Once the query is defined you call collect to inform Polars that you want to execute it.\n",
    "```"
   ]
  },
  {
   "cell_type": "code",
   "execution_count": 19,
   "metadata": {},
   "outputs": [
    {
     "data": {
      "text/html": [
       "<div><style>\n",
       ".dataframe > thead > tr > th,\n",
       ".dataframe > tbody > tr > td {\n",
       "  text-align: right;\n",
       "  white-space: pre-wrap;\n",
       "}\n",
       "</style>\n",
       "<small>shape: (11, 2)</small><table border=\"1\" class=\"dataframe\"><thead><tr><th>negativereason</th><th>retweet_count</th></tr><tr><td>str</td><td>f64</td></tr></thead><tbody><tr><td>&quot;Can&#x27;t Tell&quot;</td><td>0.187983</td></tr><tr><td>&quot;Flight Attenda…</td><td>0.090336</td></tr><tr><td>&quot;Customer Servi…</td><td>0.076128</td></tr><tr><td>&quot;Flight Booking…</td><td>0.080614</td></tr><tr><td>&quot;Lost Luggage&quot;</td><td>0.073407</td></tr><tr><td>&quot;Cancelled Flig…</td><td>0.07346</td></tr><tr><td>null</td><td>0.065797</td></tr><tr><td>&quot;longlines&quot;</td><td>0.050562</td></tr><tr><td>&quot;Damaged Luggag…</td><td>0.068493</td></tr><tr><td>&quot;Late Flight&quot;</td><td>0.093656</td></tr><tr><td>&quot;Bad Flight&quot;</td><td>0.076256</td></tr></tbody></table></div>"
      ],
      "text/plain": [
       "shape: (11, 2)\n",
       "┌─────────────────────────────┬─────────────────────┐\n",
       "│ negativereason (str)        ┆ retweet_count (f64) │\n",
       "╞═════════════════════════════╪═════════════════════╡\n",
       "│ Can't Tell                  ┆ 0.187983            │\n",
       "│ Flight Attendant Complaints ┆ 0.090336            │\n",
       "│ Customer Service Issue      ┆ 0.076128            │\n",
       "│ Flight Booking Problems     ┆ 0.080614            │\n",
       "│ …                           ┆ …                   │\n",
       "│ longlines                   ┆ 0.050562            │\n",
       "│ Damaged Luggage             ┆ 0.068493            │\n",
       "│ Late Flight                 ┆ 0.093656            │\n",
       "│ Bad Flight                  ┆ 0.076256            │\n",
       "└─────────────────────────────┴─────────────────────┘"
      ]
     },
     "execution_count": 19,
     "metadata": {},
     "output_type": "execute_result"
    }
   ],
   "source": [
    "q = (\n",
    "    pl.scan_csv(fp)\n",
    "    .filter(pl.col(\"airline_sentiment_confidence\") > VALUE)\n",
    "    .group_by(\"negativereason\")\n",
    "    .agg(pl.col(\"retweet_count\").mean())\n",
    ")\n",
    "\n",
    "df = q.collect()\n",
    "df"
   ]
  },
  {
   "cell_type": "markdown",
   "metadata": {},
   "source": [
    "#### Streaming API\n",
    "\n",
    "```text \n",
    "- One additional benefit of the lazy API is that it allows queries to be executed in a streaming manner. \n",
    "- Instead of processing the data all-at-once Polars can execute the query in batches allowing you to process datasets that are larger-than-memory.\n",
    "- To tell Polars we want to execute a query in streaming mode we pass the streaming=True argument to collect\n",
    "```"
   ]
  },
  {
   "cell_type": "code",
   "execution_count": 20,
   "metadata": {},
   "outputs": [
    {
     "data": {
      "text/html": [
       "<div><style>\n",
       ".dataframe > thead > tr > th,\n",
       ".dataframe > tbody > tr > td {\n",
       "  text-align: right;\n",
       "  white-space: pre-wrap;\n",
       "}\n",
       "</style>\n",
       "<small>shape: (11, 2)</small><table border=\"1\" class=\"dataframe\"><thead><tr><th>negativereason</th><th>retweet_count</th></tr><tr><td>str</td><td>f64</td></tr></thead><tbody><tr><td>&quot;Cancelled Flig…</td><td>0.07346</td></tr><tr><td>&quot;Flight Attenda…</td><td>0.090336</td></tr><tr><td>&quot;Bad Flight&quot;</td><td>0.076256</td></tr><tr><td>&quot;Late Flight&quot;</td><td>0.093656</td></tr><tr><td>&quot;Damaged Luggag…</td><td>0.068493</td></tr><tr><td>&quot;Lost Luggage&quot;</td><td>0.073407</td></tr><tr><td>&quot;Customer Servi…</td><td>0.076128</td></tr><tr><td>null</td><td>0.065797</td></tr><tr><td>&quot;Can&#x27;t Tell&quot;</td><td>0.187983</td></tr><tr><td>&quot;Flight Booking…</td><td>0.080614</td></tr><tr><td>&quot;longlines&quot;</td><td>0.050562</td></tr></tbody></table></div>"
      ],
      "text/plain": [
       "shape: (11, 2)\n",
       "┌─────────────────────────────┬─────────────────────┐\n",
       "│ negativereason (str)        ┆ retweet_count (f64) │\n",
       "╞═════════════════════════════╪═════════════════════╡\n",
       "│ Cancelled Flight            ┆ 0.07346             │\n",
       "│ Flight Attendant Complaints ┆ 0.090336            │\n",
       "│ Bad Flight                  ┆ 0.076256            │\n",
       "│ Late Flight                 ┆ 0.093656            │\n",
       "│ …                           ┆ …                   │\n",
       "│ null                        ┆ 0.065797            │\n",
       "│ Can't Tell                  ┆ 0.187983            │\n",
       "│ Flight Booking Problems     ┆ 0.080614            │\n",
       "│ longlines                   ┆ 0.050562            │\n",
       "└─────────────────────────────┴─────────────────────┘"
      ]
     },
     "execution_count": 20,
     "metadata": {},
     "output_type": "execute_result"
    }
   ],
   "source": [
    "q = (\n",
    "    pl.scan_csv(fp)\n",
    "    .filter(pl.col(\"airline_sentiment_confidence\") > VALUE)\n",
    "    .group_by(\"negativereason\")\n",
    "    .agg(pl.col(\"retweet_count\").mean())\n",
    ")\n",
    "\n",
    "df = q.collect(streaming=True)\n",
    "df"
   ]
  },
  {
   "cell_type": "markdown",
   "metadata": {},
   "source": [
    "### Basic Operator"
   ]
  },
  {
   "cell_type": "code",
   "execution_count": 21,
   "metadata": {},
   "outputs": [
    {
     "data": {
      "text/html": [
       "<pre style=\"white-space:pre;overflow-x:auto;line-height:normal;font-family:Menlo,'DejaVu Sans Mono',consolas,'Courier New',monospace\">shape: <span style=\"font-weight: bold\">(</span><span style=\"color: #008080; text-decoration-color: #008080; font-weight: bold\">5</span>, <span style=\"color: #008080; text-decoration-color: #008080; font-weight: bold\">4</span><span style=\"font-weight: bold\">)</span>\n",
       "┌───────────┬─────────────┬──────────────┬──────────────┐\n",
       "│ nrs <span style=\"font-weight: bold\">(</span>i64<span style=\"font-weight: bold\">)</span> ┆ names <span style=\"font-weight: bold\">(</span>str<span style=\"font-weight: bold\">)</span> ┆ random <span style=\"font-weight: bold\">(</span>f64<span style=\"font-weight: bold\">)</span> ┆ groups <span style=\"font-weight: bold\">(</span>str<span style=\"font-weight: bold\">)</span> │\n",
       "╞═══════════╪═════════════╪══════════════╪══════════════╡\n",
       "│ <span style=\"color: #008080; text-decoration-color: #008080; font-weight: bold\">1</span>         ┆ foo         ┆ <span style=\"color: #008080; text-decoration-color: #008080; font-weight: bold\">0.468765</span>     ┆ A            │\n",
       "│ <span style=\"color: #008080; text-decoration-color: #008080; font-weight: bold\">2</span>         ┆ ham         ┆ <span style=\"color: #008080; text-decoration-color: #008080; font-weight: bold\">0.460675</span>     ┆ A            │\n",
       "│ <span style=\"color: #008080; text-decoration-color: #008080; font-weight: bold\">3</span>         ┆ spam        ┆ <span style=\"color: #008080; text-decoration-color: #008080; font-weight: bold\">0.104761</span>     ┆ B            │\n",
       "│ null      ┆ egg         ┆ <span style=\"color: #008080; text-decoration-color: #008080; font-weight: bold\">0.304853</span>     ┆ C            │\n",
       "│ <span style=\"color: #008080; text-decoration-color: #008080; font-weight: bold\">5</span>         ┆ null        ┆ <span style=\"color: #008080; text-decoration-color: #008080; font-weight: bold\">0.72567</span>      ┆ B            │\n",
       "└───────────┴─────────────┴──────────────┴──────────────┘\n",
       "</pre>\n"
      ],
      "text/plain": [
       "shape: \u001b[1m(\u001b[0m\u001b[1;36m5\u001b[0m, \u001b[1;36m4\u001b[0m\u001b[1m)\u001b[0m\n",
       "┌───────────┬─────────────┬──────────────┬──────────────┐\n",
       "│ nrs \u001b[1m(\u001b[0mi64\u001b[1m)\u001b[0m ┆ names \u001b[1m(\u001b[0mstr\u001b[1m)\u001b[0m ┆ random \u001b[1m(\u001b[0mf64\u001b[1m)\u001b[0m ┆ groups \u001b[1m(\u001b[0mstr\u001b[1m)\u001b[0m │\n",
       "╞═══════════╪═════════════╪══════════════╪══════════════╡\n",
       "│ \u001b[1;36m1\u001b[0m         ┆ foo         ┆ \u001b[1;36m0.468765\u001b[0m     ┆ A            │\n",
       "│ \u001b[1;36m2\u001b[0m         ┆ ham         ┆ \u001b[1;36m0.460675\u001b[0m     ┆ A            │\n",
       "│ \u001b[1;36m3\u001b[0m         ┆ spam        ┆ \u001b[1;36m0.104761\u001b[0m     ┆ B            │\n",
       "│ null      ┆ egg         ┆ \u001b[1;36m0.304853\u001b[0m     ┆ C            │\n",
       "│ \u001b[1;36m5\u001b[0m         ┆ null        ┆ \u001b[1;36m0.72567\u001b[0m      ┆ B            │\n",
       "└───────────┴─────────────┴──────────────┴──────────────┘\n"
      ]
     },
     "metadata": {},
     "output_type": "display_data"
    }
   ],
   "source": [
    "df: pl.DataFrame = pl.DataFrame(\n",
    "    {\n",
    "        \"nrs\": [1, 2, 3, None, 5],\n",
    "        \"names\": [\"foo\", \"ham\", \"spam\", \"egg\", None],\n",
    "        \"random\": np.random.rand(5),\n",
    "        \"groups\": [\"A\", \"A\", \"B\", \"C\", \"B\"],\n",
    "    }\n",
    ")\n",
    "print(df)"
   ]
  },
  {
   "cell_type": "code",
   "execution_count": 22,
   "metadata": {},
   "outputs": [
    {
     "data": {
      "text/html": [
       "<pre style=\"white-space:pre;overflow-x:auto;line-height:normal;font-family:Menlo,'DejaVu Sans Mono',consolas,'Courier New',monospace\">shape: <span style=\"font-weight: bold\">(</span><span style=\"color: #008080; text-decoration-color: #008080; font-weight: bold\">5</span>, <span style=\"color: #008080; text-decoration-color: #008080; font-weight: bold\">6</span><span style=\"font-weight: bold\">)</span>\n",
       "┌─────────┬──────────────┬──────────┬─────────────────┬─────────────────┬────────────────┐\n",
       "│ nrs &gt; <span style=\"color: #008080; text-decoration-color: #008080; font-weight: bold\">1</span> ┆ random &lt;= .<span style=\"color: #008080; text-decoration-color: #008080; font-weight: bold\">5</span> ┆ nrs != <span style=\"color: #008080; text-decoration-color: #008080; font-weight: bold\">1</span> ┆ nrs == <span style=\"color: #008080; text-decoration-color: #008080; font-weight: bold\">1</span> <span style=\"font-weight: bold\">(</span>bool<span style=\"font-weight: bold\">)</span> ┆ and_expr <span style=\"font-weight: bold\">(</span>bool<span style=\"font-weight: bold\">)</span> ┆ or_expr <span style=\"font-weight: bold\">(</span>bool<span style=\"font-weight: bold\">)</span> │\n",
       "│ <span style=\"font-weight: bold\">(</span>bool<span style=\"font-weight: bold\">)</span>  ┆ <span style=\"font-weight: bold\">(</span>bool<span style=\"font-weight: bold\">)</span>       ┆ <span style=\"font-weight: bold\">(</span>bool<span style=\"font-weight: bold\">)</span>   ┆                 ┆                 ┆                │\n",
       "╞═════════╪══════════════╪══════════╪═════════════════╪═════════════════╪════════════════╡\n",
       "│ false   ┆ true         ┆ false    ┆ true            ┆ false           ┆ true           │\n",
       "│ true    ┆ true         ┆ true     ┆ false           ┆ true            ┆ true           │\n",
       "│ true    ┆ true         ┆ true     ┆ false           ┆ true            ┆ true           │\n",
       "│ null    ┆ true         ┆ null     ┆ null            ┆ null            ┆ true           │\n",
       "│ true    ┆ false        ┆ true     ┆ false           ┆ false           ┆ true           │\n",
       "└─────────┴──────────────┴──────────┴─────────────────┴─────────────────┴────────────────┘\n",
       "</pre>\n"
      ],
      "text/plain": [
       "shape: \u001b[1m(\u001b[0m\u001b[1;36m5\u001b[0m, \u001b[1;36m6\u001b[0m\u001b[1m)\u001b[0m\n",
       "┌─────────┬──────────────┬──────────┬─────────────────┬─────────────────┬────────────────┐\n",
       "│ nrs > \u001b[1;36m1\u001b[0m ┆ random <= .\u001b[1;36m5\u001b[0m ┆ nrs != \u001b[1;36m1\u001b[0m ┆ nrs == \u001b[1;36m1\u001b[0m \u001b[1m(\u001b[0mbool\u001b[1m)\u001b[0m ┆ and_expr \u001b[1m(\u001b[0mbool\u001b[1m)\u001b[0m ┆ or_expr \u001b[1m(\u001b[0mbool\u001b[1m)\u001b[0m │\n",
       "│ \u001b[1m(\u001b[0mbool\u001b[1m)\u001b[0m  ┆ \u001b[1m(\u001b[0mbool\u001b[1m)\u001b[0m       ┆ \u001b[1m(\u001b[0mbool\u001b[1m)\u001b[0m   ┆                 ┆                 ┆                │\n",
       "╞═════════╪══════════════╪══════════╪═════════════════╪═════════════════╪════════════════╡\n",
       "│ false   ┆ true         ┆ false    ┆ true            ┆ false           ┆ true           │\n",
       "│ true    ┆ true         ┆ true     ┆ false           ┆ true            ┆ true           │\n",
       "│ true    ┆ true         ┆ true     ┆ false           ┆ true            ┆ true           │\n",
       "│ null    ┆ true         ┆ null     ┆ null            ┆ null            ┆ true           │\n",
       "│ true    ┆ false        ┆ true     ┆ false           ┆ false           ┆ true           │\n",
       "└─────────┴──────────────┴──────────┴─────────────────┴─────────────────┴────────────────┘\n"
      ]
     },
     "metadata": {},
     "output_type": "display_data"
    }
   ],
   "source": [
    "df_logical: pl.DataFrame = df.select(\n",
    "    (pl.col(\"nrs\") > 1).alias(\"nrs > 1\"),\n",
    "    (pl.col(\"random\") <= 0.5).alias(\"random <= .5\"),\n",
    "    (pl.col(\"nrs\") != 1).alias(\"nrs != 1\"),\n",
    "    (pl.col(\"nrs\") == 1).alias(\"nrs == 1\"),\n",
    "    ((pl.col(\"random\") <= 0.5) & (pl.col(\"nrs\") > 1)).alias(\"and_expr\"),  # and\n",
    "    ((pl.col(\"random\") <= 0.5) | (pl.col(\"nrs\") > 1)).alias(\"or_expr\"),  # or\n",
    ")\n",
    "print(df_logical)"
   ]
  },
  {
   "cell_type": "code",
   "execution_count": 23,
   "metadata": {},
   "outputs": [
    {
     "data": {
      "text/html": [
       "<pre style=\"white-space:pre;overflow-x:auto;line-height:normal;font-family:Menlo,'DejaVu Sans Mono',consolas,'Courier New',monospace\">shape: <span style=\"font-weight: bold\">(</span><span style=\"color: #008080; text-decoration-color: #008080; font-weight: bold\">3</span>, <span style=\"color: #008080; text-decoration-color: #008080; font-weight: bold\">7</span><span style=\"font-weight: bold\">)</span>\n",
       "┌──────────┬──────────┬─────────────┬─────────────┬─────────────┬────────────┬─────────────────────┐\n",
       "│ rn <span style=\"font-weight: bold\">(</span>u32<span style=\"font-weight: bold\">)</span> ┆ id <span style=\"font-weight: bold\">(</span>i64<span style=\"font-weight: bold\">)</span> ┆ place <span style=\"font-weight: bold\">(</span>str<span style=\"font-weight: bold\">)</span> ┆ date <span style=\"font-weight: bold\">(</span>date<span style=\"font-weight: bold\">)</span> ┆ sales <span style=\"font-weight: bold\">(</span>f64<span style=\"font-weight: bold\">)</span> ┆ has_people ┆ logged_at           │\n",
       "│          ┆          ┆             ┆             ┆             ┆ <span style=\"font-weight: bold\">(</span>bool<span style=\"font-weight: bold\">)</span>     ┆ <span style=\"font-weight: bold\">(</span>datetime<span style=\"font-weight: bold\">[</span>μs<span style=\"font-weight: bold\">])</span>      │\n",
       "╞══════════╪══════════╪═════════════╪═════════════╪═════════════╪════════════╪═════════════════════╡\n",
       "│ <span style=\"color: #008080; text-decoration-color: #008080; font-weight: bold\">0</span>        ┆ <span style=\"color: #008080; text-decoration-color: #008080; font-weight: bold\">9</span>        ┆ Mars        ┆ <span style=\"color: #008080; text-decoration-color: #008080; font-weight: bold\">2022</span>-<span style=\"color: #008080; text-decoration-color: #008080; font-weight: bold\">01</span>-<span style=\"color: #008080; text-decoration-color: #008080; font-weight: bold\">01</span>  ┆ <span style=\"color: #008080; text-decoration-color: #008080; font-weight: bold\">33.4</span>        ┆ false      ┆ <span style=\"color: #008080; text-decoration-color: #008080; font-weight: bold\">2022</span>-<span style=\"color: #008080; text-decoration-color: #008080; font-weight: bold\">12</span>-<span style=\"color: #008080; text-decoration-color: #008080; font-weight: bold\">01</span> <span style=\"color: #00ff00; text-decoration-color: #00ff00; font-weight: bold\">00:00:00</span> │\n",
       "│ <span style=\"color: #008080; text-decoration-color: #008080; font-weight: bold\">1</span>        ┆ <span style=\"color: #008080; text-decoration-color: #008080; font-weight: bold\">4</span>        ┆ Earth       ┆ <span style=\"color: #008080; text-decoration-color: #008080; font-weight: bold\">2022</span>-<span style=\"color: #008080; text-decoration-color: #008080; font-weight: bold\">01</span>-<span style=\"color: #008080; text-decoration-color: #008080; font-weight: bold\">02</span>  ┆ <span style=\"color: #008080; text-decoration-color: #008080; font-weight: bold\">2142134.1</span>   ┆ true       ┆ <span style=\"color: #008080; text-decoration-color: #008080; font-weight: bold\">2022</span>-<span style=\"color: #008080; text-decoration-color: #008080; font-weight: bold\">12</span>-<span style=\"color: #008080; text-decoration-color: #008080; font-weight: bold\">01</span> <span style=\"color: #00ff00; text-decoration-color: #00ff00; font-weight: bold\">00:00:01</span> │\n",
       "│ <span style=\"color: #008080; text-decoration-color: #008080; font-weight: bold\">2</span>        ┆ <span style=\"color: #008080; text-decoration-color: #008080; font-weight: bold\">2</span>        ┆ Saturn      ┆ <span style=\"color: #008080; text-decoration-color: #008080; font-weight: bold\">2022</span>-<span style=\"color: #008080; text-decoration-color: #008080; font-weight: bold\">01</span>-<span style=\"color: #008080; text-decoration-color: #008080; font-weight: bold\">03</span>  ┆ <span style=\"color: #008080; text-decoration-color: #008080; font-weight: bold\">44.7</span>        ┆ false      ┆ <span style=\"color: #008080; text-decoration-color: #008080; font-weight: bold\">2022</span>-<span style=\"color: #008080; text-decoration-color: #008080; font-weight: bold\">12</span>-<span style=\"color: #008080; text-decoration-color: #008080; font-weight: bold\">01</span> <span style=\"color: #00ff00; text-decoration-color: #00ff00; font-weight: bold\">00:00:02</span> │\n",
       "└──────────┴──────────┴─────────────┴─────────────┴─────────────┴────────────┴─────────────────────┘\n",
       "</pre>\n"
      ],
      "text/plain": [
       "shape: \u001b[1m(\u001b[0m\u001b[1;36m3\u001b[0m, \u001b[1;36m7\u001b[0m\u001b[1m)\u001b[0m\n",
       "┌──────────┬──────────┬─────────────┬─────────────┬─────────────┬────────────┬─────────────────────┐\n",
       "│ rn \u001b[1m(\u001b[0mu32\u001b[1m)\u001b[0m ┆ id \u001b[1m(\u001b[0mi64\u001b[1m)\u001b[0m ┆ place \u001b[1m(\u001b[0mstr\u001b[1m)\u001b[0m ┆ date \u001b[1m(\u001b[0mdate\u001b[1m)\u001b[0m ┆ sales \u001b[1m(\u001b[0mf64\u001b[1m)\u001b[0m ┆ has_people ┆ logged_at           │\n",
       "│          ┆          ┆             ┆             ┆             ┆ \u001b[1m(\u001b[0mbool\u001b[1m)\u001b[0m     ┆ \u001b[1m(\u001b[0mdatetime\u001b[1m[\u001b[0mμs\u001b[1m]\u001b[0m\u001b[1m)\u001b[0m      │\n",
       "╞══════════╪══════════╪═════════════╪═════════════╪═════════════╪════════════╪═════════════════════╡\n",
       "│ \u001b[1;36m0\u001b[0m        ┆ \u001b[1;36m9\u001b[0m        ┆ Mars        ┆ \u001b[1;36m2022\u001b[0m-\u001b[1;36m01\u001b[0m-\u001b[1;36m01\u001b[0m  ┆ \u001b[1;36m33.4\u001b[0m        ┆ false      ┆ \u001b[1;36m2022\u001b[0m-\u001b[1;36m12\u001b[0m-\u001b[1;36m01\u001b[0m \u001b[1;92m00:00:00\u001b[0m │\n",
       "│ \u001b[1;36m1\u001b[0m        ┆ \u001b[1;36m4\u001b[0m        ┆ Earth       ┆ \u001b[1;36m2022\u001b[0m-\u001b[1;36m01\u001b[0m-\u001b[1;36m02\u001b[0m  ┆ \u001b[1;36m2142134.1\u001b[0m   ┆ true       ┆ \u001b[1;36m2022\u001b[0m-\u001b[1;36m12\u001b[0m-\u001b[1;36m01\u001b[0m \u001b[1;92m00:00:01\u001b[0m │\n",
       "│ \u001b[1;36m2\u001b[0m        ┆ \u001b[1;36m2\u001b[0m        ┆ Saturn      ┆ \u001b[1;36m2022\u001b[0m-\u001b[1;36m01\u001b[0m-\u001b[1;36m03\u001b[0m  ┆ \u001b[1;36m44.7\u001b[0m        ┆ false      ┆ \u001b[1;36m2022\u001b[0m-\u001b[1;36m12\u001b[0m-\u001b[1;36m01\u001b[0m \u001b[1;92m00:00:02\u001b[0m │\n",
       "└──────────┴──────────┴─────────────┴─────────────┴─────────────┴────────────┴─────────────────────┘\n"
      ]
     },
     "metadata": {},
     "output_type": "display_data"
    }
   ],
   "source": [
    "from datetime import date, datetime\n",
    "\n",
    "\n",
    "df: pl.DataFrame = pl.DataFrame(\n",
    "    {\n",
    "        \"id\": [9, 4, 2],\n",
    "        \"place\": [\"Mars\", \"Earth\", \"Saturn\"],\n",
    "        \"date\": pl.date_range(date(2022, 1, 1), date(2022, 1, 3), \"1d\", eager=True),\n",
    "        \"sales\": [33.4, 2142134.1, 44.7],\n",
    "        \"has_people\": [False, True, False],\n",
    "        \"logged_at\": pl.datetime_range(\n",
    "            datetime(2022, 12, 1), datetime(2022, 12, 1, 0, 0, 2), \"1s\", eager=True\n",
    "        ),\n",
    "    }\n",
    "    # Add a column at index 0 that counts the rows.\n",
    ").with_row_count(\"rn\")\n",
    "print(df)"
   ]
  },
  {
   "cell_type": "code",
   "execution_count": 24,
   "metadata": {},
   "outputs": [
    {
     "data": {
      "text/html": [
       "<pre style=\"white-space:pre;overflow-x:auto;line-height:normal;font-family:Menlo,'DejaVu Sans Mono',consolas,'Courier New',monospace\">shape: <span style=\"font-weight: bold\">(</span><span style=\"color: #008080; text-decoration-color: #008080; font-weight: bold\">3</span>, <span style=\"color: #008080; text-decoration-color: #008080; font-weight: bold\">7</span><span style=\"font-weight: bold\">)</span>\n",
       "┌──────────┬──────────┬─────────────┬─────────────┬─────────────┬────────────┬─────────────────────┐\n",
       "│ rn <span style=\"font-weight: bold\">(</span>u32<span style=\"font-weight: bold\">)</span> ┆ id <span style=\"font-weight: bold\">(</span>i64<span style=\"font-weight: bold\">)</span> ┆ place <span style=\"font-weight: bold\">(</span>str<span style=\"font-weight: bold\">)</span> ┆ date <span style=\"font-weight: bold\">(</span>date<span style=\"font-weight: bold\">)</span> ┆ sales <span style=\"font-weight: bold\">(</span>f64<span style=\"font-weight: bold\">)</span> ┆ has_people ┆ logged_at           │\n",
       "│          ┆          ┆             ┆             ┆             ┆ <span style=\"font-weight: bold\">(</span>bool<span style=\"font-weight: bold\">)</span>     ┆ <span style=\"font-weight: bold\">(</span>datetime<span style=\"font-weight: bold\">[</span>μs<span style=\"font-weight: bold\">])</span>      │\n",
       "╞══════════╪══════════╪═════════════╪═════════════╪═════════════╪════════════╪═════════════════════╡\n",
       "│ <span style=\"color: #008080; text-decoration-color: #008080; font-weight: bold\">0</span>        ┆ <span style=\"color: #008080; text-decoration-color: #008080; font-weight: bold\">9</span>        ┆ Mars        ┆ <span style=\"color: #008080; text-decoration-color: #008080; font-weight: bold\">2022</span>-<span style=\"color: #008080; text-decoration-color: #008080; font-weight: bold\">01</span>-<span style=\"color: #008080; text-decoration-color: #008080; font-weight: bold\">01</span>  ┆ <span style=\"color: #008080; text-decoration-color: #008080; font-weight: bold\">33.4</span>        ┆ false      ┆ <span style=\"color: #008080; text-decoration-color: #008080; font-weight: bold\">2022</span>-<span style=\"color: #008080; text-decoration-color: #008080; font-weight: bold\">12</span>-<span style=\"color: #008080; text-decoration-color: #008080; font-weight: bold\">01</span> <span style=\"color: #00ff00; text-decoration-color: #00ff00; font-weight: bold\">00:00:00</span> │\n",
       "│ <span style=\"color: #008080; text-decoration-color: #008080; font-weight: bold\">1</span>        ┆ <span style=\"color: #008080; text-decoration-color: #008080; font-weight: bold\">4</span>        ┆ Earth       ┆ <span style=\"color: #008080; text-decoration-color: #008080; font-weight: bold\">2022</span>-<span style=\"color: #008080; text-decoration-color: #008080; font-weight: bold\">01</span>-<span style=\"color: #008080; text-decoration-color: #008080; font-weight: bold\">02</span>  ┆ <span style=\"color: #008080; text-decoration-color: #008080; font-weight: bold\">2142134.1</span>   ┆ true       ┆ <span style=\"color: #008080; text-decoration-color: #008080; font-weight: bold\">2022</span>-<span style=\"color: #008080; text-decoration-color: #008080; font-weight: bold\">12</span>-<span style=\"color: #008080; text-decoration-color: #008080; font-weight: bold\">01</span> <span style=\"color: #00ff00; text-decoration-color: #00ff00; font-weight: bold\">00:00:01</span> │\n",
       "│ <span style=\"color: #008080; text-decoration-color: #008080; font-weight: bold\">2</span>        ┆ <span style=\"color: #008080; text-decoration-color: #008080; font-weight: bold\">2</span>        ┆ Saturn      ┆ <span style=\"color: #008080; text-decoration-color: #008080; font-weight: bold\">2022</span>-<span style=\"color: #008080; text-decoration-color: #008080; font-weight: bold\">01</span>-<span style=\"color: #008080; text-decoration-color: #008080; font-weight: bold\">03</span>  ┆ <span style=\"color: #008080; text-decoration-color: #008080; font-weight: bold\">44.7</span>        ┆ false      ┆ <span style=\"color: #008080; text-decoration-color: #008080; font-weight: bold\">2022</span>-<span style=\"color: #008080; text-decoration-color: #008080; font-weight: bold\">12</span>-<span style=\"color: #008080; text-decoration-color: #008080; font-weight: bold\">01</span> <span style=\"color: #00ff00; text-decoration-color: #00ff00; font-weight: bold\">00:00:02</span> │\n",
       "└──────────┴──────────┴─────────────┴─────────────┴─────────────┴────────────┴─────────────────────┘\n",
       "</pre>\n"
      ],
      "text/plain": [
       "shape: \u001b[1m(\u001b[0m\u001b[1;36m3\u001b[0m, \u001b[1;36m7\u001b[0m\u001b[1m)\u001b[0m\n",
       "┌──────────┬──────────┬─────────────┬─────────────┬─────────────┬────────────┬─────────────────────┐\n",
       "│ rn \u001b[1m(\u001b[0mu32\u001b[1m)\u001b[0m ┆ id \u001b[1m(\u001b[0mi64\u001b[1m)\u001b[0m ┆ place \u001b[1m(\u001b[0mstr\u001b[1m)\u001b[0m ┆ date \u001b[1m(\u001b[0mdate\u001b[1m)\u001b[0m ┆ sales \u001b[1m(\u001b[0mf64\u001b[1m)\u001b[0m ┆ has_people ┆ logged_at           │\n",
       "│          ┆          ┆             ┆             ┆             ┆ \u001b[1m(\u001b[0mbool\u001b[1m)\u001b[0m     ┆ \u001b[1m(\u001b[0mdatetime\u001b[1m[\u001b[0mμs\u001b[1m]\u001b[0m\u001b[1m)\u001b[0m      │\n",
       "╞══════════╪══════════╪═════════════╪═════════════╪═════════════╪════════════╪═════════════════════╡\n",
       "│ \u001b[1;36m0\u001b[0m        ┆ \u001b[1;36m9\u001b[0m        ┆ Mars        ┆ \u001b[1;36m2022\u001b[0m-\u001b[1;36m01\u001b[0m-\u001b[1;36m01\u001b[0m  ┆ \u001b[1;36m33.4\u001b[0m        ┆ false      ┆ \u001b[1;36m2022\u001b[0m-\u001b[1;36m12\u001b[0m-\u001b[1;36m01\u001b[0m \u001b[1;92m00:00:00\u001b[0m │\n",
       "│ \u001b[1;36m1\u001b[0m        ┆ \u001b[1;36m4\u001b[0m        ┆ Earth       ┆ \u001b[1;36m2022\u001b[0m-\u001b[1;36m01\u001b[0m-\u001b[1;36m02\u001b[0m  ┆ \u001b[1;36m2142134.1\u001b[0m   ┆ true       ┆ \u001b[1;36m2022\u001b[0m-\u001b[1;36m12\u001b[0m-\u001b[1;36m01\u001b[0m \u001b[1;92m00:00:01\u001b[0m │\n",
       "│ \u001b[1;36m2\u001b[0m        ┆ \u001b[1;36m2\u001b[0m        ┆ Saturn      ┆ \u001b[1;36m2022\u001b[0m-\u001b[1;36m01\u001b[0m-\u001b[1;36m03\u001b[0m  ┆ \u001b[1;36m44.7\u001b[0m        ┆ false      ┆ \u001b[1;36m2022\u001b[0m-\u001b[1;36m12\u001b[0m-\u001b[1;36m01\u001b[0m \u001b[1;92m00:00:02\u001b[0m │\n",
       "└──────────┴──────────┴─────────────┴─────────────┴─────────────┴────────────┴─────────────────────┘\n"
      ]
     },
     "metadata": {},
     "output_type": "display_data"
    }
   ],
   "source": [
    "out = df.select(pl.col(\"*\"))\n",
    "\n",
    "# Is equivalent to\n",
    "out = df.select(pl.all())\n",
    "print(out)"
   ]
  },
  {
   "cell_type": "code",
   "execution_count": 25,
   "metadata": {},
   "outputs": [
    {
     "data": {
      "text/html": [
       "<pre style=\"white-space:pre;overflow-x:auto;line-height:normal;font-family:Menlo,'DejaVu Sans Mono',consolas,'Courier New',monospace\">shape: <span style=\"font-weight: bold\">(</span><span style=\"color: #008080; text-decoration-color: #008080; font-weight: bold\">3</span>, <span style=\"color: #008080; text-decoration-color: #008080; font-weight: bold\">5</span><span style=\"font-weight: bold\">)</span>\n",
       "┌──────────┬─────────────┬─────────────┬─────────────┬───────────────────┐\n",
       "│ id <span style=\"font-weight: bold\">(</span>i64<span style=\"font-weight: bold\">)</span> ┆ place <span style=\"font-weight: bold\">(</span>str<span style=\"font-weight: bold\">)</span> ┆ date <span style=\"font-weight: bold\">(</span>date<span style=\"font-weight: bold\">)</span> ┆ sales <span style=\"font-weight: bold\">(</span>f64<span style=\"font-weight: bold\">)</span> ┆ has_people <span style=\"font-weight: bold\">(</span>bool<span style=\"font-weight: bold\">)</span> │\n",
       "╞══════════╪═════════════╪═════════════╪═════════════╪═══════════════════╡\n",
       "│ <span style=\"color: #008080; text-decoration-color: #008080; font-weight: bold\">9</span>        ┆ Mars        ┆ <span style=\"color: #008080; text-decoration-color: #008080; font-weight: bold\">2022</span>-<span style=\"color: #008080; text-decoration-color: #008080; font-weight: bold\">01</span>-<span style=\"color: #008080; text-decoration-color: #008080; font-weight: bold\">01</span>  ┆ <span style=\"color: #008080; text-decoration-color: #008080; font-weight: bold\">33.4</span>        ┆ false             │\n",
       "│ <span style=\"color: #008080; text-decoration-color: #008080; font-weight: bold\">4</span>        ┆ Earth       ┆ <span style=\"color: #008080; text-decoration-color: #008080; font-weight: bold\">2022</span>-<span style=\"color: #008080; text-decoration-color: #008080; font-weight: bold\">01</span>-<span style=\"color: #008080; text-decoration-color: #008080; font-weight: bold\">02</span>  ┆ <span style=\"color: #008080; text-decoration-color: #008080; font-weight: bold\">2142134.1</span>   ┆ true              │\n",
       "│ <span style=\"color: #008080; text-decoration-color: #008080; font-weight: bold\">2</span>        ┆ Saturn      ┆ <span style=\"color: #008080; text-decoration-color: #008080; font-weight: bold\">2022</span>-<span style=\"color: #008080; text-decoration-color: #008080; font-weight: bold\">01</span>-<span style=\"color: #008080; text-decoration-color: #008080; font-weight: bold\">03</span>  ┆ <span style=\"color: #008080; text-decoration-color: #008080; font-weight: bold\">44.7</span>        ┆ false             │\n",
       "└──────────┴─────────────┴─────────────┴─────────────┴───────────────────┘\n",
       "</pre>\n"
      ],
      "text/plain": [
       "shape: \u001b[1m(\u001b[0m\u001b[1;36m3\u001b[0m, \u001b[1;36m5\u001b[0m\u001b[1m)\u001b[0m\n",
       "┌──────────┬─────────────┬─────────────┬─────────────┬───────────────────┐\n",
       "│ id \u001b[1m(\u001b[0mi64\u001b[1m)\u001b[0m ┆ place \u001b[1m(\u001b[0mstr\u001b[1m)\u001b[0m ┆ date \u001b[1m(\u001b[0mdate\u001b[1m)\u001b[0m ┆ sales \u001b[1m(\u001b[0mf64\u001b[1m)\u001b[0m ┆ has_people \u001b[1m(\u001b[0mbool\u001b[1m)\u001b[0m │\n",
       "╞══════════╪═════════════╪═════════════╪═════════════╪═══════════════════╡\n",
       "│ \u001b[1;36m9\u001b[0m        ┆ Mars        ┆ \u001b[1;36m2022\u001b[0m-\u001b[1;36m01\u001b[0m-\u001b[1;36m01\u001b[0m  ┆ \u001b[1;36m33.4\u001b[0m        ┆ false             │\n",
       "│ \u001b[1;36m4\u001b[0m        ┆ Earth       ┆ \u001b[1;36m2022\u001b[0m-\u001b[1;36m01\u001b[0m-\u001b[1;36m02\u001b[0m  ┆ \u001b[1;36m2142134.1\u001b[0m   ┆ true              │\n",
       "│ \u001b[1;36m2\u001b[0m        ┆ Saturn      ┆ \u001b[1;36m2022\u001b[0m-\u001b[1;36m01\u001b[0m-\u001b[1;36m03\u001b[0m  ┆ \u001b[1;36m44.7\u001b[0m        ┆ false             │\n",
       "└──────────┴─────────────┴─────────────┴─────────────┴───────────────────┘\n"
      ]
     },
     "metadata": {},
     "output_type": "display_data"
    }
   ],
   "source": [
    "# exclude\n",
    "\n",
    "out = df.select(pl.col(\"*\").exclude(\"logged_at\", \"rn\"))\n",
    "print(out)"
   ]
  },
  {
   "cell_type": "markdown",
   "metadata": {},
   "source": [
    "### [Select By Data Type](https://pola-rs.github.io/polars/user-guide/expressions/column-selections/#by-regular-expressions)"
   ]
  },
  {
   "cell_type": "code",
   "execution_count": 26,
   "metadata": {},
   "outputs": [
    {
     "data": {
      "text/html": [
       "<pre style=\"white-space:pre;overflow-x:auto;line-height:normal;font-family:Menlo,'DejaVu Sans Mono',consolas,'Courier New',monospace\">shape: <span style=\"font-weight: bold\">(</span><span style=\"color: #008080; text-decoration-color: #008080; font-weight: bold\">1</span>, <span style=\"color: #008080; text-decoration-color: #008080; font-weight: bold\">3</span><span style=\"font-weight: bold\">)</span>\n",
       "┌──────────┬──────────┬──────────────────┐\n",
       "│ rn <span style=\"font-weight: bold\">(</span>u32<span style=\"font-weight: bold\">)</span> ┆ id <span style=\"font-weight: bold\">(</span>u32<span style=\"font-weight: bold\">)</span> ┆ has_people <span style=\"font-weight: bold\">(</span>u32<span style=\"font-weight: bold\">)</span> │\n",
       "╞══════════╪══════════╪══════════════════╡\n",
       "│ <span style=\"color: #008080; text-decoration-color: #008080; font-weight: bold\">3</span>        ┆ <span style=\"color: #008080; text-decoration-color: #008080; font-weight: bold\">3</span>        ┆ <span style=\"color: #008080; text-decoration-color: #008080; font-weight: bold\">2</span>                │\n",
       "└──────────┴──────────┴──────────────────┘\n",
       "</pre>\n"
      ],
      "text/plain": [
       "shape: \u001b[1m(\u001b[0m\u001b[1;36m1\u001b[0m, \u001b[1;36m3\u001b[0m\u001b[1m)\u001b[0m\n",
       "┌──────────┬──────────┬──────────────────┐\n",
       "│ rn \u001b[1m(\u001b[0mu32\u001b[1m)\u001b[0m ┆ id \u001b[1m(\u001b[0mu32\u001b[1m)\u001b[0m ┆ has_people \u001b[1m(\u001b[0mu32\u001b[1m)\u001b[0m │\n",
       "╞══════════╪══════════╪══════════════════╡\n",
       "│ \u001b[1;36m3\u001b[0m        ┆ \u001b[1;36m3\u001b[0m        ┆ \u001b[1;36m2\u001b[0m                │\n",
       "└──────────┴──────────┴──────────────────┘\n"
      ]
     },
     "metadata": {},
     "output_type": "display_data"
    }
   ],
   "source": [
    "out = df.select(pl.col(pl.Int64, pl.UInt32, pl.Boolean).n_unique())\n",
    "print(out)"
   ]
  },
  {
   "cell_type": "code",
   "execution_count": 27,
   "metadata": {},
   "outputs": [
    {
     "data": {
      "text/html": [
       "<pre style=\"white-space:pre;overflow-x:auto;line-height:normal;font-family:Menlo,'DejaVu Sans Mono',consolas,'Courier New',monospace\">shape: <span style=\"font-weight: bold\">(</span><span style=\"color: #008080; text-decoration-color: #008080; font-weight: bold\">3</span>, <span style=\"color: #008080; text-decoration-color: #008080; font-weight: bold\">3</span><span style=\"font-weight: bold\">)</span>\n",
       "┌──────────┬──────────┬─────────────┐\n",
       "│ rn <span style=\"font-weight: bold\">(</span>u32<span style=\"font-weight: bold\">)</span> ┆ id <span style=\"font-weight: bold\">(</span>i64<span style=\"font-weight: bold\">)</span> ┆ place <span style=\"font-weight: bold\">(</span>str<span style=\"font-weight: bold\">)</span> │\n",
       "╞══════════╪══════════╪═════════════╡\n",
       "│ <span style=\"color: #008080; text-decoration-color: #008080; font-weight: bold\">0</span>        ┆ <span style=\"color: #008080; text-decoration-color: #008080; font-weight: bold\">9</span>        ┆ Mars        │\n",
       "│ <span style=\"color: #008080; text-decoration-color: #008080; font-weight: bold\">1</span>        ┆ <span style=\"color: #008080; text-decoration-color: #008080; font-weight: bold\">4</span>        ┆ Earth       │\n",
       "│ <span style=\"color: #008080; text-decoration-color: #008080; font-weight: bold\">2</span>        ┆ <span style=\"color: #008080; text-decoration-color: #008080; font-weight: bold\">2</span>        ┆ Saturn      │\n",
       "└──────────┴──────────┴─────────────┘\n",
       "</pre>\n"
      ],
      "text/plain": [
       "shape: \u001b[1m(\u001b[0m\u001b[1;36m3\u001b[0m, \u001b[1;36m3\u001b[0m\u001b[1m)\u001b[0m\n",
       "┌──────────┬──────────┬─────────────┐\n",
       "│ rn \u001b[1m(\u001b[0mu32\u001b[1m)\u001b[0m ┆ id \u001b[1m(\u001b[0mi64\u001b[1m)\u001b[0m ┆ place \u001b[1m(\u001b[0mstr\u001b[1m)\u001b[0m │\n",
       "╞══════════╪══════════╪═════════════╡\n",
       "│ \u001b[1;36m0\u001b[0m        ┆ \u001b[1;36m9\u001b[0m        ┆ Mars        │\n",
       "│ \u001b[1;36m1\u001b[0m        ┆ \u001b[1;36m4\u001b[0m        ┆ Earth       │\n",
       "│ \u001b[1;36m2\u001b[0m        ┆ \u001b[1;36m2\u001b[0m        ┆ Saturn      │\n",
       "└──────────┴──────────┴─────────────┘\n"
      ]
     },
     "metadata": {},
     "output_type": "display_data"
    }
   ],
   "source": [
    "#  selectors\n",
    "\n",
    "import polars.selectors as cs\n",
    "\n",
    "\n",
    "out = df.select(cs.integer(), cs.string())\n",
    "print(out)"
   ]
  },
  {
   "cell_type": "code",
   "execution_count": 28,
   "metadata": {},
   "outputs": [
    {
     "data": {
      "text/html": [
       "<div><style>\n",
       ".dataframe > thead > tr > th,\n",
       ".dataframe > tbody > tr > td {\n",
       "  text-align: right;\n",
       "  white-space: pre-wrap;\n",
       "}\n",
       "</style>\n",
       "<small>shape: (5, 6)</small><table border=\"1\" class=\"dataframe\"><thead><tr><th>nrs</th><th>names</th><th>random</th><th>groups</th><th>nrs_sum</th><th>count</th></tr><tr><td>i64</td><td>str</td><td>f64</td><td>str</td><td>i64</td><td>u32</td></tr></thead><tbody><tr><td>1</td><td>&quot;foo&quot;</td><td>0.397754</td><td>&quot;A&quot;</td><td>11</td><td>5</td></tr><tr><td>2</td><td>&quot;ham&quot;</td><td>0.639284</td><td>&quot;A&quot;</td><td>11</td><td>5</td></tr><tr><td>3</td><td>&quot;spam&quot;</td><td>0.625305</td><td>&quot;B&quot;</td><td>11</td><td>5</td></tr><tr><td>null</td><td>&quot;egg&quot;</td><td>0.23468</td><td>&quot;C&quot;</td><td>11</td><td>5</td></tr><tr><td>5</td><td>null</td><td>0.3238</td><td>&quot;B&quot;</td><td>11</td><td>5</td></tr></tbody></table></div>"
      ],
      "text/plain": [
       "shape: (5, 6)\n",
       "┌───────────┬─────────────┬──────────────┬──────────────┬───────────────┬─────────────┐\n",
       "│ nrs (i64) ┆ names (str) ┆ random (f64) ┆ groups (str) ┆ nrs_sum (i64) ┆ count (u32) │\n",
       "╞═══════════╪═════════════╪══════════════╪══════════════╪═══════════════╪═════════════╡\n",
       "│ 1         ┆ foo         ┆ 0.397754     ┆ A            ┆ 11            ┆ 5           │\n",
       "│ 2         ┆ ham         ┆ 0.639284     ┆ A            ┆ 11            ┆ 5           │\n",
       "│ 3         ┆ spam        ┆ 0.625305     ┆ B            ┆ 11            ┆ 5           │\n",
       "│ null      ┆ egg         ┆ 0.23468      ┆ C            ┆ 11            ┆ 5           │\n",
       "│ 5         ┆ null        ┆ 0.3238       ┆ B            ┆ 11            ┆ 5           │\n",
       "└───────────┴─────────────┴──────────────┴──────────────┴───────────────┴─────────────┘"
      ]
     },
     "execution_count": 28,
     "metadata": {},
     "output_type": "execute_result"
    }
   ],
   "source": [
    "df_1"
   ]
  },
  {
   "cell_type": "code",
   "execution_count": 29,
   "metadata": {},
   "outputs": [
    {
     "data": {
      "text/html": [
       "<pre style=\"white-space:pre;overflow-x:auto;line-height:normal;font-family:Menlo,'DejaVu Sans Mono',consolas,'Courier New',monospace\">shape: <span style=\"font-weight: bold\">(</span><span style=\"color: #008080; text-decoration-color: #008080; font-weight: bold\">1</span>, <span style=\"color: #008080; text-decoration-color: #008080; font-weight: bold\">2</span><span style=\"font-weight: bold\">)</span>\n",
       "┌──────────────┬─────────────────────┐\n",
       "│ unique <span style=\"font-weight: bold\">(</span>u32<span style=\"font-weight: bold\">)</span> ┆ unique_approx <span style=\"font-weight: bold\">(</span>u32<span style=\"font-weight: bold\">)</span> │\n",
       "╞══════════════╪═════════════════════╡\n",
       "│ <span style=\"color: #008080; text-decoration-color: #008080; font-weight: bold\">5</span>            ┆ <span style=\"color: #008080; text-decoration-color: #008080; font-weight: bold\">5</span>                   │\n",
       "└──────────────┴─────────────────────┘\n",
       "</pre>\n"
      ],
      "text/plain": [
       "shape: \u001b[1m(\u001b[0m\u001b[1;36m1\u001b[0m, \u001b[1;36m2\u001b[0m\u001b[1m)\u001b[0m\n",
       "┌──────────────┬─────────────────────┐\n",
       "│ unique \u001b[1m(\u001b[0mu32\u001b[1m)\u001b[0m ┆ unique_approx \u001b[1m(\u001b[0mu32\u001b[1m)\u001b[0m │\n",
       "╞══════════════╪═════════════════════╡\n",
       "│ \u001b[1;36m5\u001b[0m            ┆ \u001b[1;36m5\u001b[0m                   │\n",
       "└──────────────┴─────────────────────┘\n"
      ]
     },
     "metadata": {},
     "output_type": "display_data"
    }
   ],
   "source": [
    "df_alias = df_1.select(\n",
    "    # Count of unique values\n",
    "    pl.col(\"names\").n_unique().alias(\"unique\"),\n",
    "    # Approximate count of unique values\n",
    "    pl.approx_n_unique(\"names\").alias(\"unique_approx\"),\n",
    ")\n",
    "print(df_alias)"
   ]
  },
  {
   "cell_type": "markdown",
   "metadata": {},
   "source": [
    "### Conditionals"
   ]
  },
  {
   "cell_type": "code",
   "execution_count": 30,
   "metadata": {},
   "outputs": [
    {
     "data": {
      "text/html": [
       "<div><style>\n",
       ".dataframe > thead > tr > th,\n",
       ".dataframe > tbody > tr > td {\n",
       "  text-align: right;\n",
       "  white-space: pre-wrap;\n",
       "}\n",
       "</style>\n",
       "<small>shape: (5, 6)</small><table border=\"1\" class=\"dataframe\"><thead><tr><th>nrs</th><th>names</th><th>random</th><th>groups</th><th>nrs_sum</th><th>count</th></tr><tr><td>i64</td><td>str</td><td>f64</td><td>str</td><td>i64</td><td>u32</td></tr></thead><tbody><tr><td>1</td><td>&quot;foo&quot;</td><td>0.397754</td><td>&quot;A&quot;</td><td>11</td><td>5</td></tr><tr><td>2</td><td>&quot;ham&quot;</td><td>0.639284</td><td>&quot;A&quot;</td><td>11</td><td>5</td></tr><tr><td>3</td><td>&quot;spam&quot;</td><td>0.625305</td><td>&quot;B&quot;</td><td>11</td><td>5</td></tr><tr><td>null</td><td>&quot;egg&quot;</td><td>0.23468</td><td>&quot;C&quot;</td><td>11</td><td>5</td></tr><tr><td>5</td><td>null</td><td>0.3238</td><td>&quot;B&quot;</td><td>11</td><td>5</td></tr></tbody></table></div>"
      ],
      "text/plain": [
       "shape: (5, 6)\n",
       "┌───────────┬─────────────┬──────────────┬──────────────┬───────────────┬─────────────┐\n",
       "│ nrs (i64) ┆ names (str) ┆ random (f64) ┆ groups (str) ┆ nrs_sum (i64) ┆ count (u32) │\n",
       "╞═══════════╪═════════════╪══════════════╪══════════════╪═══════════════╪═════════════╡\n",
       "│ 1         ┆ foo         ┆ 0.397754     ┆ A            ┆ 11            ┆ 5           │\n",
       "│ 2         ┆ ham         ┆ 0.639284     ┆ A            ┆ 11            ┆ 5           │\n",
       "│ 3         ┆ spam        ┆ 0.625305     ┆ B            ┆ 11            ┆ 5           │\n",
       "│ null      ┆ egg         ┆ 0.23468      ┆ C            ┆ 11            ┆ 5           │\n",
       "│ 5         ┆ null        ┆ 0.3238       ┆ B            ┆ 11            ┆ 5           │\n",
       "└───────────┴─────────────┴──────────────┴──────────────┴───────────────┴─────────────┘"
      ]
     },
     "execution_count": 30,
     "metadata": {},
     "output_type": "execute_result"
    }
   ],
   "source": [
    "df_1"
   ]
  },
  {
   "cell_type": "code",
   "execution_count": 31,
   "metadata": {},
   "outputs": [
    {
     "data": {
      "text/html": [
       "<pre style=\"white-space:pre;overflow-x:auto;line-height:normal;font-family:Menlo,'DejaVu Sans Mono',consolas,'Courier New',monospace\">shape: <span style=\"font-weight: bold\">(</span><span style=\"color: #008080; text-decoration-color: #008080; font-weight: bold\">5</span>, <span style=\"color: #008080; text-decoration-color: #008080; font-weight: bold\">2</span><span style=\"font-weight: bold\">)</span>\n",
       "┌───────────┬────────────────────┐\n",
       "│ nrs <span style=\"font-weight: bold\">(</span>i64<span style=\"font-weight: bold\">)</span> ┆ conditional <span style=\"font-weight: bold\">(</span>bool<span style=\"font-weight: bold\">)</span> │\n",
       "╞═══════════╪════════════════════╡\n",
       "│ <span style=\"color: #008080; text-decoration-color: #008080; font-weight: bold\">1</span>         ┆ false              │\n",
       "│ <span style=\"color: #008080; text-decoration-color: #008080; font-weight: bold\">2</span>         ┆ false              │\n",
       "│ <span style=\"color: #008080; text-decoration-color: #008080; font-weight: bold\">3</span>         ┆ true               │\n",
       "│ null      ┆ false              │\n",
       "│ <span style=\"color: #008080; text-decoration-color: #008080; font-weight: bold\">5</span>         ┆ true               │\n",
       "└───────────┴────────────────────┘\n",
       "</pre>\n"
      ],
      "text/plain": [
       "shape: \u001b[1m(\u001b[0m\u001b[1;36m5\u001b[0m, \u001b[1;36m2\u001b[0m\u001b[1m)\u001b[0m\n",
       "┌───────────┬────────────────────┐\n",
       "│ nrs \u001b[1m(\u001b[0mi64\u001b[1m)\u001b[0m ┆ conditional \u001b[1m(\u001b[0mbool\u001b[1m)\u001b[0m │\n",
       "╞═══════════╪════════════════════╡\n",
       "│ \u001b[1;36m1\u001b[0m         ┆ false              │\n",
       "│ \u001b[1;36m2\u001b[0m         ┆ false              │\n",
       "│ \u001b[1;36m3\u001b[0m         ┆ true               │\n",
       "│ null      ┆ false              │\n",
       "│ \u001b[1;36m5\u001b[0m         ┆ true               │\n",
       "└───────────┴────────────────────┘\n"
      ]
     },
     "metadata": {},
     "output_type": "display_data"
    }
   ],
   "source": [
    "# when\n",
    "\n",
    "df_conditional = df_1.select(\n",
    "    pl.col(\"nrs\"),\n",
    "    pl.when(pl.col(\"nrs\") > 2)\n",
    "    .then(pl.lit(True))\n",
    "    .otherwise(pl.lit(False))\n",
    "    .alias(\"conditional\"),\n",
    ")\n",
    "print(df_conditional)"
   ]
  },
  {
   "cell_type": "markdown",
   "metadata": {},
   "source": [
    "### Strings"
   ]
  },
  {
   "cell_type": "code",
   "execution_count": 32,
   "metadata": {},
   "outputs": [
    {
     "data": {
      "text/html": [
       "<pre style=\"white-space:pre;overflow-x:auto;line-height:normal;font-family:Menlo,'DejaVu Sans Mono',consolas,'Courier New',monospace\">shape: <span style=\"font-weight: bold\">(</span><span style=\"color: #008080; text-decoration-color: #008080; font-weight: bold\">4</span>, <span style=\"color: #008080; text-decoration-color: #008080; font-weight: bold\">1</span><span style=\"font-weight: bold\">)</span>\n",
       "┌──────────────┐\n",
       "│ animal <span style=\"font-weight: bold\">(</span>str<span style=\"font-weight: bold\">)</span> │\n",
       "╞══════════════╡\n",
       "│ Crab         │\n",
       "│ cat and dog  │\n",
       "│ rab$bit      │\n",
       "│ null         │\n",
       "└──────────────┘\n",
       "</pre>\n"
      ],
      "text/plain": [
       "shape: \u001b[1m(\u001b[0m\u001b[1;36m4\u001b[0m, \u001b[1;36m1\u001b[0m\u001b[1m)\u001b[0m\n",
       "┌──────────────┐\n",
       "│ animal \u001b[1m(\u001b[0mstr\u001b[1m)\u001b[0m │\n",
       "╞══════════════╡\n",
       "│ Crab         │\n",
       "│ cat and dog  │\n",
       "│ rab$bit      │\n",
       "│ null         │\n",
       "└──────────────┘\n"
      ]
     },
     "metadata": {},
     "output_type": "display_data"
    }
   ],
   "source": [
    "# str.len_bytes str.len_chars\n",
    "\n",
    "df: pl.DataFrame = pl.DataFrame({\"animal\": [\"Crab\", \"cat and dog\", \"rab$bit\", None]})\n",
    "print(df)"
   ]
  },
  {
   "cell_type": "code",
   "execution_count": 33,
   "metadata": {},
   "outputs": [
    {
     "data": {
      "text/html": [
       "<pre style=\"white-space:pre;overflow-x:auto;line-height:normal;font-family:Menlo,'DejaVu Sans Mono',consolas,'Courier New',monospace\">shape: <span style=\"font-weight: bold\">(</span><span style=\"color: #008080; text-decoration-color: #008080; font-weight: bold\">4</span>, <span style=\"color: #008080; text-decoration-color: #008080; font-weight: bold\">2</span><span style=\"font-weight: bold\">)</span>\n",
       "┌──────────────────┬────────────────────┐\n",
       "│ byte_count <span style=\"font-weight: bold\">(</span>u32<span style=\"font-weight: bold\">)</span> ┆ letter_count <span style=\"font-weight: bold\">(</span>u32<span style=\"font-weight: bold\">)</span> │\n",
       "╞══════════════════╪════════════════════╡\n",
       "│ <span style=\"color: #008080; text-decoration-color: #008080; font-weight: bold\">4</span>                ┆ <span style=\"color: #008080; text-decoration-color: #008080; font-weight: bold\">4</span>                  │\n",
       "│ <span style=\"color: #008080; text-decoration-color: #008080; font-weight: bold\">11</span>               ┆ <span style=\"color: #008080; text-decoration-color: #008080; font-weight: bold\">11</span>                 │\n",
       "│ <span style=\"color: #008080; text-decoration-color: #008080; font-weight: bold\">7</span>                ┆ <span style=\"color: #008080; text-decoration-color: #008080; font-weight: bold\">7</span>                  │\n",
       "│ null             ┆ null               │\n",
       "└──────────────────┴────────────────────┘\n",
       "</pre>\n"
      ],
      "text/plain": [
       "shape: \u001b[1m(\u001b[0m\u001b[1;36m4\u001b[0m, \u001b[1;36m2\u001b[0m\u001b[1m)\u001b[0m\n",
       "┌──────────────────┬────────────────────┐\n",
       "│ byte_count \u001b[1m(\u001b[0mu32\u001b[1m)\u001b[0m ┆ letter_count \u001b[1m(\u001b[0mu32\u001b[1m)\u001b[0m │\n",
       "╞══════════════════╪════════════════════╡\n",
       "│ \u001b[1;36m4\u001b[0m                ┆ \u001b[1;36m4\u001b[0m                  │\n",
       "│ \u001b[1;36m11\u001b[0m               ┆ \u001b[1;36m11\u001b[0m                 │\n",
       "│ \u001b[1;36m7\u001b[0m                ┆ \u001b[1;36m7\u001b[0m                  │\n",
       "│ null             ┆ null               │\n",
       "└──────────────────┴────────────────────┘\n"
      ]
     },
     "metadata": {},
     "output_type": "display_data"
    }
   ],
   "source": [
    "# Count the number of characters\n",
    "out: pl.DataFrame = df.select(\n",
    "    pl.col(\"animal\").str.len_bytes().alias(\"byte_count\"),\n",
    "    pl.col(\"animal\").str.len_chars().alias(\"letter_count\"),\n",
    ")\n",
    "print(out)"
   ]
  },
  {
   "cell_type": "code",
   "execution_count": 34,
   "metadata": {},
   "outputs": [
    {
     "data": {
      "text/html": [
       "<pre style=\"white-space:pre;overflow-x:auto;line-height:normal;font-family:Menlo,'DejaVu Sans Mono',consolas,'Courier New',monospace\">shape: <span style=\"font-weight: bold\">(</span><span style=\"color: #008080; text-decoration-color: #008080; font-weight: bold\">4</span>, <span style=\"color: #008080; text-decoration-color: #008080; font-weight: bold\">5</span><span style=\"font-weight: bold\">)</span>\n",
       "┌──────────────┬──────────────┬────────────────┬────────────────────┬──────────────────┐\n",
       "│ animal <span style=\"font-weight: bold\">(</span>str<span style=\"font-weight: bold\">)</span> ┆ regex <span style=\"font-weight: bold\">(</span>bool<span style=\"font-weight: bold\">)</span> ┆ literal <span style=\"font-weight: bold\">(</span>bool<span style=\"font-weight: bold\">)</span> ┆ starts_with <span style=\"font-weight: bold\">(</span>bool<span style=\"font-weight: bold\">)</span> ┆ ends_with <span style=\"font-weight: bold\">(</span>bool<span style=\"font-weight: bold\">)</span> │\n",
       "╞══════════════╪══════════════╪════════════════╪════════════════════╪══════════════════╡\n",
       "│ Crab         ┆ false        ┆ false          ┆ false              ┆ false            │\n",
       "│ cat and dog  ┆ true         ┆ false          ┆ false              ┆ true             │\n",
       "│ rab$bit      ┆ true         ┆ true           ┆ true               ┆ false            │\n",
       "│ null         ┆ null         ┆ null           ┆ null               ┆ null             │\n",
       "└──────────────┴──────────────┴────────────────┴────────────────────┴──────────────────┘\n",
       "</pre>\n"
      ],
      "text/plain": [
       "shape: \u001b[1m(\u001b[0m\u001b[1;36m4\u001b[0m, \u001b[1;36m5\u001b[0m\u001b[1m)\u001b[0m\n",
       "┌──────────────┬──────────────┬────────────────┬────────────────────┬──────────────────┐\n",
       "│ animal \u001b[1m(\u001b[0mstr\u001b[1m)\u001b[0m ┆ regex \u001b[1m(\u001b[0mbool\u001b[1m)\u001b[0m ┆ literal \u001b[1m(\u001b[0mbool\u001b[1m)\u001b[0m ┆ starts_with \u001b[1m(\u001b[0mbool\u001b[1m)\u001b[0m ┆ ends_with \u001b[1m(\u001b[0mbool\u001b[1m)\u001b[0m │\n",
       "╞══════════════╪══════════════╪════════════════╪════════════════════╪══════════════════╡\n",
       "│ Crab         ┆ false        ┆ false          ┆ false              ┆ false            │\n",
       "│ cat and dog  ┆ true         ┆ false          ┆ false              ┆ true             │\n",
       "│ rab$bit      ┆ true         ┆ true           ┆ true               ┆ false            │\n",
       "│ null         ┆ null         ┆ null           ┆ null               ┆ null             │\n",
       "└──────────────┴──────────────┴────────────────┴────────────────────┴──────────────────┘\n"
      ]
     },
     "metadata": {},
     "output_type": "display_data"
    }
   ],
   "source": [
    "#  str.contains str.starts_with str.ends_with\n",
    "\n",
    "out: pl.DataFrame = df.select(\n",
    "    pl.col(\"animal\"),\n",
    "    pl.col(\"animal\").str.contains(\"cat|bit\").alias(\"regex\"),\n",
    "    pl.col(\"animal\").str.contains(\"rab$\", literal=True).alias(\"literal\"),\n",
    "    pl.col(\"animal\").str.starts_with(\"rab\").alias(\"starts_with\"),\n",
    "    pl.col(\"animal\").str.ends_with(\"dog\").alias(\"ends_with\"),\n",
    ")\n",
    "print(out)"
   ]
  },
  {
   "cell_type": "code",
   "execution_count": 35,
   "metadata": {},
   "outputs": [
    {
     "data": {
      "text/html": [
       "<pre style=\"white-space:pre;overflow-x:auto;line-height:normal;font-family:Menlo,'DejaVu Sans Mono',consolas,'Courier New',monospace\">shape: <span style=\"font-weight: bold\">(</span><span style=\"color: #008080; text-decoration-color: #008080; font-weight: bold\">3</span>, <span style=\"color: #008080; text-decoration-color: #008080; font-weight: bold\">1</span><span style=\"font-weight: bold\">)</span>\n",
       "┌───────────────────────────────────┐\n",
       "│ a <span style=\"font-weight: bold\">(</span>str<span style=\"font-weight: bold\">)</span>                           │\n",
       "╞═══════════════════════════════════╡\n",
       "│ <span style=\"color: #0000ff; text-decoration-color: #0000ff; text-decoration: underline\">http://vote.com/ballon_dor?candi</span>… │\n",
       "│ <span style=\"color: #0000ff; text-decoration-color: #0000ff; text-decoration: underline\">http://vote.com/ballon_dor?candi</span>… │\n",
       "│ <span style=\"color: #0000ff; text-decoration-color: #0000ff; text-decoration: underline\">http://vote.com/ballon_dor?candi</span>… │\n",
       "└───────────────────────────────────┘\n",
       "</pre>\n"
      ],
      "text/plain": [
       "shape: \u001b[1m(\u001b[0m\u001b[1;36m3\u001b[0m, \u001b[1;36m1\u001b[0m\u001b[1m)\u001b[0m\n",
       "┌───────────────────────────────────┐\n",
       "│ a \u001b[1m(\u001b[0mstr\u001b[1m)\u001b[0m                           │\n",
       "╞═══════════════════════════════════╡\n",
       "│ \u001b[4;94mhttp://vote.com/ballon_dor?candi\u001b[0m… │\n",
       "│ \u001b[4;94mhttp://vote.com/ballon_dor?candi\u001b[0m… │\n",
       "│ \u001b[4;94mhttp://vote.com/ballon_dor?candi\u001b[0m… │\n",
       "└───────────────────────────────────┘\n"
      ]
     },
     "metadata": {},
     "output_type": "display_data"
    }
   ],
   "source": [
    "# str.extract\n",
    "\n",
    "df: pl.DataFrame = pl.DataFrame(\n",
    "    {\n",
    "        \"a\": [\n",
    "            \"http://vote.com/ballon_dor?candidate=messi&ref=polars\",\n",
    "            \"http://vote.com/ballon_dor?candidat=jorginho&ref=polars\",\n",
    "            \"http://vote.com/ballon_dor?candidate=ronaldo&ref=polars\",\n",
    "        ]\n",
    "    }\n",
    ")\n",
    "print(df)"
   ]
  },
  {
   "cell_type": "code",
   "execution_count": 36,
   "metadata": {},
   "outputs": [
    {
     "data": {
      "text/html": [
       "<pre style=\"white-space:pre;overflow-x:auto;line-height:normal;font-family:Menlo,'DejaVu Sans Mono',consolas,'Courier New',monospace\">shape: <span style=\"font-weight: bold\">(</span><span style=\"color: #008080; text-decoration-color: #008080; font-weight: bold\">3</span>, <span style=\"color: #008080; text-decoration-color: #008080; font-weight: bold\">1</span><span style=\"font-weight: bold\">)</span>\n",
       "┌─────────┐\n",
       "│ a <span style=\"font-weight: bold\">(</span>str<span style=\"font-weight: bold\">)</span> │\n",
       "╞═════════╡\n",
       "│ messi   │\n",
       "│ null    │\n",
       "│ ronaldo │\n",
       "└─────────┘\n",
       "</pre>\n"
      ],
      "text/plain": [
       "shape: \u001b[1m(\u001b[0m\u001b[1;36m3\u001b[0m, \u001b[1;36m1\u001b[0m\u001b[1m)\u001b[0m\n",
       "┌─────────┐\n",
       "│ a \u001b[1m(\u001b[0mstr\u001b[1m)\u001b[0m │\n",
       "╞═════════╡\n",
       "│ messi   │\n",
       "│ null    │\n",
       "│ ronaldo │\n",
       "└─────────┘\n"
      ]
     },
     "metadata": {},
     "output_type": "display_data"
    }
   ],
   "source": [
    "out: pl.DataFrame = df.select(\n",
    "    pl.col(\"a\").str.extract(r\"candidate=(\\w+)\", group_index=1),\n",
    ")\n",
    "print(out)"
   ]
  },
  {
   "cell_type": "code",
   "execution_count": 37,
   "metadata": {},
   "outputs": [
    {
     "data": {
      "text/html": [
       "<pre style=\"white-space:pre;overflow-x:auto;line-height:normal;font-family:Menlo,'DejaVu Sans Mono',consolas,'Courier New',monospace\">shape: <span style=\"font-weight: bold\">(</span><span style=\"color: #008080; text-decoration-color: #008080; font-weight: bold\">3</span>, <span style=\"color: #008080; text-decoration-color: #008080; font-weight: bold\">1</span><span style=\"font-weight: bold\">)</span>\n",
       "┌───────────────────┐\n",
       "│ a <span style=\"font-weight: bold\">(</span>str<span style=\"font-weight: bold\">)</span>           │\n",
       "╞═══════════════════╡\n",
       "│ <span style=\"color: #808000; text-decoration-color: #808000\">candidate</span>=<span style=\"color: #800080; text-decoration-color: #800080\">messi</span>   │\n",
       "│ null              │\n",
       "│ <span style=\"color: #808000; text-decoration-color: #808000\">candidate</span>=<span style=\"color: #800080; text-decoration-color: #800080\">ronaldo</span> │\n",
       "└───────────────────┘\n",
       "</pre>\n"
      ],
      "text/plain": [
       "shape: \u001b[1m(\u001b[0m\u001b[1;36m3\u001b[0m, \u001b[1;36m1\u001b[0m\u001b[1m)\u001b[0m\n",
       "┌───────────────────┐\n",
       "│ a \u001b[1m(\u001b[0mstr\u001b[1m)\u001b[0m           │\n",
       "╞═══════════════════╡\n",
       "│ \u001b[33mcandidate\u001b[0m=\u001b[35mmessi\u001b[0m   │\n",
       "│ null              │\n",
       "│ \u001b[33mcandidate\u001b[0m=\u001b[35mronaldo\u001b[0m │\n",
       "└───────────────────┘\n"
      ]
     },
     "metadata": {},
     "output_type": "display_data"
    }
   ],
   "source": [
    "out: pl.DataFrame = df.select(\n",
    "    pl.col(\"a\").str.extract(r\"(candidate=\\w+)\", group_index=1),\n",
    ")\n",
    "print(out)"
   ]
  },
  {
   "cell_type": "code",
   "execution_count": 38,
   "metadata": {},
   "outputs": [
    {
     "data": {
      "text/html": [
       "<pre style=\"white-space:pre;overflow-x:auto;line-height:normal;font-family:Menlo,'DejaVu Sans Mono',consolas,'Courier New',monospace\">shape: <span style=\"font-weight: bold\">(</span><span style=\"color: #008080; text-decoration-color: #008080; font-weight: bold\">2</span>, <span style=\"color: #008080; text-decoration-color: #008080; font-weight: bold\">1</span><span style=\"font-weight: bold\">)</span>\n",
       "┌────────────────┐\n",
       "│ foo <span style=\"font-weight: bold\">(</span>str<span style=\"font-weight: bold\">)</span>      │\n",
       "╞════════════════╡\n",
       "│ <span style=\"color: #008080; text-decoration-color: #008080; font-weight: bold\">123</span> bla <span style=\"color: #008080; text-decoration-color: #008080; font-weight: bold\">45</span> asd │\n",
       "│ xyz <span style=\"color: #008080; text-decoration-color: #008080; font-weight: bold\">678</span> 910t   │\n",
       "└────────────────┘\n",
       "</pre>\n"
      ],
      "text/plain": [
       "shape: \u001b[1m(\u001b[0m\u001b[1;36m2\u001b[0m, \u001b[1;36m1\u001b[0m\u001b[1m)\u001b[0m\n",
       "┌────────────────┐\n",
       "│ foo \u001b[1m(\u001b[0mstr\u001b[1m)\u001b[0m      │\n",
       "╞════════════════╡\n",
       "│ \u001b[1;36m123\u001b[0m bla \u001b[1;36m45\u001b[0m asd │\n",
       "│ xyz \u001b[1;36m678\u001b[0m 910t   │\n",
       "└────────────────┘\n"
      ]
     },
     "metadata": {},
     "output_type": "display_data"
    }
   ],
   "source": [
    "# str.extract_all\n",
    "\n",
    "df: pl.DataFrame = pl.DataFrame({\"foo\": [\"123 bla 45 asd\", \"xyz 678 910t\"]})\n",
    "print(df)"
   ]
  },
  {
   "cell_type": "code",
   "execution_count": 39,
   "metadata": {},
   "outputs": [
    {
     "data": {
      "text/html": [
       "<pre style=\"white-space:pre;overflow-x:auto;line-height:normal;font-family:Menlo,'DejaVu Sans Mono',consolas,'Courier New',monospace\">shape: <span style=\"font-weight: bold\">(</span><span style=\"color: #008080; text-decoration-color: #008080; font-weight: bold\">2</span>, <span style=\"color: #008080; text-decoration-color: #008080; font-weight: bold\">1</span><span style=\"font-weight: bold\">)</span>\n",
       "┌───────────────────────────┐\n",
       "│ extracted_nrs <span style=\"font-weight: bold\">(</span>list<span style=\"font-weight: bold\">[</span>str<span style=\"font-weight: bold\">])</span> │\n",
       "╞═══════════════════════════╡\n",
       "│ <span style=\"font-weight: bold\">[</span><span style=\"color: #008000; text-decoration-color: #008000\">\"123\"</span>, <span style=\"color: #008000; text-decoration-color: #008000\">\"45\"</span><span style=\"font-weight: bold\">]</span>             │\n",
       "│ <span style=\"font-weight: bold\">[</span><span style=\"color: #008000; text-decoration-color: #008000\">\"678\"</span>, <span style=\"color: #008000; text-decoration-color: #008000\">\"910\"</span><span style=\"font-weight: bold\">]</span>            │\n",
       "└───────────────────────────┘\n",
       "</pre>\n"
      ],
      "text/plain": [
       "shape: \u001b[1m(\u001b[0m\u001b[1;36m2\u001b[0m, \u001b[1;36m1\u001b[0m\u001b[1m)\u001b[0m\n",
       "┌───────────────────────────┐\n",
       "│ extracted_nrs \u001b[1m(\u001b[0mlist\u001b[1m[\u001b[0mstr\u001b[1m]\u001b[0m\u001b[1m)\u001b[0m │\n",
       "╞═══════════════════════════╡\n",
       "│ \u001b[1m[\u001b[0m\u001b[32m\"123\"\u001b[0m, \u001b[32m\"45\"\u001b[0m\u001b[1m]\u001b[0m             │\n",
       "│ \u001b[1m[\u001b[0m\u001b[32m\"678\"\u001b[0m, \u001b[32m\"910\"\u001b[0m\u001b[1m]\u001b[0m            │\n",
       "└───────────────────────────┘\n"
      ]
     },
     "metadata": {},
     "output_type": "display_data"
    }
   ],
   "source": [
    "out = df.select(\n",
    "    pl.col(\"foo\").str.extract_all(r\"(\\d+)\").alias(\"extracted_nrs\"),\n",
    ")\n",
    "print(out)"
   ]
  },
  {
   "cell_type": "code",
   "execution_count": 40,
   "metadata": {},
   "outputs": [
    {
     "data": {
      "text/html": [
       "<pre style=\"white-space:pre;overflow-x:auto;line-height:normal;font-family:Menlo,'DejaVu Sans Mono',consolas,'Courier New',monospace\">shape: <span style=\"font-weight: bold\">(</span><span style=\"color: #008080; text-decoration-color: #008080; font-weight: bold\">2</span>, <span style=\"color: #008080; text-decoration-color: #008080; font-weight: bold\">2</span><span style=\"font-weight: bold\">)</span>\n",
       "┌──────────┬────────────┐\n",
       "│ id <span style=\"font-weight: bold\">(</span>i64<span style=\"font-weight: bold\">)</span> ┆ text <span style=\"font-weight: bold\">(</span>str<span style=\"font-weight: bold\">)</span> │\n",
       "╞══════════╪════════════╡\n",
       "│ <span style=\"color: #008080; text-decoration-color: #008080; font-weight: bold\">1</span>        ┆ 123abc     │\n",
       "│ <span style=\"color: #008080; text-decoration-color: #008080; font-weight: bold\">2</span>        ┆ abc456     │\n",
       "└──────────┴────────────┘\n",
       "</pre>\n"
      ],
      "text/plain": [
       "shape: \u001b[1m(\u001b[0m\u001b[1;36m2\u001b[0m, \u001b[1;36m2\u001b[0m\u001b[1m)\u001b[0m\n",
       "┌──────────┬────────────┐\n",
       "│ id \u001b[1m(\u001b[0mi64\u001b[1m)\u001b[0m ┆ text \u001b[1m(\u001b[0mstr\u001b[1m)\u001b[0m │\n",
       "╞══════════╪════════════╡\n",
       "│ \u001b[1;36m1\u001b[0m        ┆ 123abc     │\n",
       "│ \u001b[1;36m2\u001b[0m        ┆ abc456     │\n",
       "└──────────┴────────────┘\n"
      ]
     },
     "metadata": {},
     "output_type": "display_data"
    }
   ],
   "source": [
    "#  str.replace str.replace_all\n",
    "\n",
    "df: pl.DataFrame = pl.DataFrame({\"id\": [1, 2], \"text\": [\"123abc\", \"abc456\"]})\n",
    "print(df)"
   ]
  },
  {
   "cell_type": "code",
   "execution_count": 41,
   "metadata": {},
   "outputs": [
    {
     "data": {
      "text/html": [
       "<pre style=\"white-space:pre;overflow-x:auto;line-height:normal;font-family:Menlo,'DejaVu Sans Mono',consolas,'Courier New',monospace\">shape: <span style=\"font-weight: bold\">(</span><span style=\"color: #008080; text-decoration-color: #008080; font-weight: bold\">2</span>, <span style=\"color: #008080; text-decoration-color: #008080; font-weight: bold\">3</span><span style=\"font-weight: bold\">)</span>\n",
       "┌──────────┬────────────┬────────────────────────┐\n",
       "│ id <span style=\"font-weight: bold\">(</span>i64<span style=\"font-weight: bold\">)</span> ┆ text <span style=\"font-weight: bold\">(</span>str<span style=\"font-weight: bold\">)</span> ┆ text_replace_all <span style=\"font-weight: bold\">(</span>str<span style=\"font-weight: bold\">)</span> │\n",
       "╞══════════╪════════════╪════════════════════════╡\n",
       "│ <span style=\"color: #008080; text-decoration-color: #008080; font-weight: bold\">1</span>        ┆ 123ABC     ┆ <span style=\"color: #008080; text-decoration-color: #008080; font-weight: bold\">123</span>-bc                 │\n",
       "│ <span style=\"color: #008080; text-decoration-color: #008080; font-weight: bold\">2</span>        ┆ abc456     ┆ -bc456                 │\n",
       "└──────────┴────────────┴────────────────────────┘\n",
       "</pre>\n"
      ],
      "text/plain": [
       "shape: \u001b[1m(\u001b[0m\u001b[1;36m2\u001b[0m, \u001b[1;36m3\u001b[0m\u001b[1m)\u001b[0m\n",
       "┌──────────┬────────────┬────────────────────────┐\n",
       "│ id \u001b[1m(\u001b[0mi64\u001b[1m)\u001b[0m ┆ text \u001b[1m(\u001b[0mstr\u001b[1m)\u001b[0m ┆ text_replace_all \u001b[1m(\u001b[0mstr\u001b[1m)\u001b[0m │\n",
       "╞══════════╪════════════╪════════════════════════╡\n",
       "│ \u001b[1;36m1\u001b[0m        ┆ 123ABC     ┆ \u001b[1;36m123\u001b[0m-bc                 │\n",
       "│ \u001b[1;36m2\u001b[0m        ┆ abc456     ┆ -bc456                 │\n",
       "└──────────┴────────────┴────────────────────────┘\n"
      ]
     },
     "metadata": {},
     "output_type": "display_data"
    }
   ],
   "source": [
    "# Add a new column\n",
    "out: pl.DataFrame = df.with_columns(\n",
    "    pl.col(\"text\").str.replace(r\"abc\\b\", \"ABC\"),\n",
    "    pl.col(\"text\").str.replace_all(\"a\", \"-\", literal=True).alias(\"text_replace_all\"),\n",
    ")\n",
    "print(out)"
   ]
  },
  {
   "cell_type": "markdown",
   "metadata": {},
   "source": [
    "<br>\n",
    "\n",
    "### Aggregations"
   ]
  },
  {
   "cell_type": "code",
   "execution_count": 42,
   "metadata": {},
   "outputs": [
    {
     "data": {
      "text/html": [
       "<pre style=\"white-space:pre;overflow-x:auto;line-height:normal;font-family:Menlo,'DejaVu Sans Mono',consolas,'Courier New',monospace\">shape: <span style=\"font-weight: bold\">(</span><span style=\"color: #008080; text-decoration-color: #008080; font-weight: bold\">5</span>, <span style=\"color: #008080; text-decoration-color: #008080; font-weight: bold\">36</span><span style=\"font-weight: bold\">)</span>\n",
       "┌───────────┬───────────┬───────────┬───────────┬───┬───────────┬───────────┬───────────┬──────────┐\n",
       "│ last_name ┆ first_nam ┆ middle_na ┆ suffix    ┆ … ┆ ballotped ┆ washingto ┆ icpsr_id  ┆ wikipedi │\n",
       "│ <span style=\"font-weight: bold\">(</span>str<span style=\"font-weight: bold\">)</span>     ┆ e <span style=\"font-weight: bold\">(</span>cat<span style=\"font-weight: bold\">)</span>   ┆ me <span style=\"font-weight: bold\">(</span>str<span style=\"font-weight: bold\">)</span>  ┆ <span style=\"font-weight: bold\">(</span>str<span style=\"font-weight: bold\">)</span>     ┆   ┆ ia_id     ┆ n_post_id ┆ <span style=\"font-weight: bold\">(</span>i64<span style=\"font-weight: bold\">)</span>     ┆ a_id     │\n",
       "│           ┆           ┆           ┆           ┆   ┆ <span style=\"font-weight: bold\">(</span>str<span style=\"font-weight: bold\">)</span>     ┆ <span style=\"font-weight: bold\">(</span>str<span style=\"font-weight: bold\">)</span>     ┆           ┆ <span style=\"font-weight: bold\">(</span>str<span style=\"font-weight: bold\">)</span>    │\n",
       "╞═══════════╪═══════════╪═══════════╪═══════════╪═══╪═══════════╪═══════════╪═══════════╪══════════╡\n",
       "│ Bassett   ┆ Richard   ┆ null      ┆ null      ┆ … ┆ null      ┆ null      ┆ <span style=\"color: #008080; text-decoration-color: #008080; font-weight: bold\">507</span>       ┆ Richard  │\n",
       "│           ┆           ┆           ┆           ┆   ┆           ┆           ┆           ┆ Bassett  │\n",
       "│           ┆           ┆           ┆           ┆   ┆           ┆           ┆           ┆ <span style=\"font-weight: bold\">(</span>Delawar │\n",
       "│           ┆           ┆           ┆           ┆   ┆           ┆           ┆           ┆ e        │\n",
       "│           ┆           ┆           ┆           ┆   ┆           ┆           ┆           ┆ politi…  │\n",
       "│ Bland     ┆ Theodoric ┆ null      ┆ null      ┆ … ┆ null      ┆ null      ┆ <span style=\"color: #008080; text-decoration-color: #008080; font-weight: bold\">786</span>       ┆ Theodori │\n",
       "│           ┆ k         ┆           ┆           ┆   ┆           ┆           ┆           ┆ ck Bland │\n",
       "│           ┆           ┆           ┆           ┆   ┆           ┆           ┆           ┆ <span style=\"font-weight: bold\">(</span>congres │\n",
       "│           ┆           ┆           ┆           ┆   ┆           ┆           ┆           ┆ sman<span style=\"font-weight: bold\">)</span>    │\n",
       "│ Burke     ┆ Aedanus   ┆ null      ┆ null      ┆ … ┆ null      ┆ null      ┆ <span style=\"color: #008080; text-decoration-color: #008080; font-weight: bold\">1260</span>      ┆ Aedanus  │\n",
       "│           ┆           ┆           ┆           ┆   ┆           ┆           ┆           ┆ Burke    │\n",
       "│ Carroll   ┆ Daniel    ┆ null      ┆ null      ┆ … ┆ null      ┆ null      ┆ <span style=\"color: #008080; text-decoration-color: #008080; font-weight: bold\">1538</span>      ┆ Daniel   │\n",
       "│           ┆           ┆           ┆           ┆   ┆           ┆           ┆           ┆ Carroll  │\n",
       "│ Clymer    ┆ George    ┆ null      ┆ null      ┆ … ┆ null      ┆ null      ┆ <span style=\"color: #008080; text-decoration-color: #008080; font-weight: bold\">1859</span>      ┆ George   │\n",
       "│           ┆           ┆           ┆           ┆   ┆           ┆           ┆           ┆ Clymer   │\n",
       "└───────────┴───────────┴───────────┴───────────┴───┴───────────┴───────────┴───────────┴──────────┘\n",
       "</pre>\n"
      ],
      "text/plain": [
       "shape: \u001b[1m(\u001b[0m\u001b[1;36m5\u001b[0m, \u001b[1;36m36\u001b[0m\u001b[1m)\u001b[0m\n",
       "┌───────────┬───────────┬───────────┬───────────┬───┬───────────┬───────────┬───────────┬──────────┐\n",
       "│ last_name ┆ first_nam ┆ middle_na ┆ suffix    ┆ … ┆ ballotped ┆ washingto ┆ icpsr_id  ┆ wikipedi │\n",
       "│ \u001b[1m(\u001b[0mstr\u001b[1m)\u001b[0m     ┆ e \u001b[1m(\u001b[0mcat\u001b[1m)\u001b[0m   ┆ me \u001b[1m(\u001b[0mstr\u001b[1m)\u001b[0m  ┆ \u001b[1m(\u001b[0mstr\u001b[1m)\u001b[0m     ┆   ┆ ia_id     ┆ n_post_id ┆ \u001b[1m(\u001b[0mi64\u001b[1m)\u001b[0m     ┆ a_id     │\n",
       "│           ┆           ┆           ┆           ┆   ┆ \u001b[1m(\u001b[0mstr\u001b[1m)\u001b[0m     ┆ \u001b[1m(\u001b[0mstr\u001b[1m)\u001b[0m     ┆           ┆ \u001b[1m(\u001b[0mstr\u001b[1m)\u001b[0m    │\n",
       "╞═══════════╪═══════════╪═══════════╪═══════════╪═══╪═══════════╪═══════════╪═══════════╪══════════╡\n",
       "│ Bassett   ┆ Richard   ┆ null      ┆ null      ┆ … ┆ null      ┆ null      ┆ \u001b[1;36m507\u001b[0m       ┆ Richard  │\n",
       "│           ┆           ┆           ┆           ┆   ┆           ┆           ┆           ┆ Bassett  │\n",
       "│           ┆           ┆           ┆           ┆   ┆           ┆           ┆           ┆ \u001b[1m(\u001b[0mDelawar │\n",
       "│           ┆           ┆           ┆           ┆   ┆           ┆           ┆           ┆ e        │\n",
       "│           ┆           ┆           ┆           ┆   ┆           ┆           ┆           ┆ politi…  │\n",
       "│ Bland     ┆ Theodoric ┆ null      ┆ null      ┆ … ┆ null      ┆ null      ┆ \u001b[1;36m786\u001b[0m       ┆ Theodori │\n",
       "│           ┆ k         ┆           ┆           ┆   ┆           ┆           ┆           ┆ ck Bland │\n",
       "│           ┆           ┆           ┆           ┆   ┆           ┆           ┆           ┆ \u001b[1m(\u001b[0mcongres │\n",
       "│           ┆           ┆           ┆           ┆   ┆           ┆           ┆           ┆ sman\u001b[1m)\u001b[0m    │\n",
       "│ Burke     ┆ Aedanus   ┆ null      ┆ null      ┆ … ┆ null      ┆ null      ┆ \u001b[1;36m1260\u001b[0m      ┆ Aedanus  │\n",
       "│           ┆           ┆           ┆           ┆   ┆           ┆           ┆           ┆ Burke    │\n",
       "│ Carroll   ┆ Daniel    ┆ null      ┆ null      ┆ … ┆ null      ┆ null      ┆ \u001b[1;36m1538\u001b[0m      ┆ Daniel   │\n",
       "│           ┆           ┆           ┆           ┆   ┆           ┆           ┆           ┆ Carroll  │\n",
       "│ Clymer    ┆ George    ┆ null      ┆ null      ┆ … ┆ null      ┆ null      ┆ \u001b[1;36m1859\u001b[0m      ┆ George   │\n",
       "│           ┆           ┆           ┆           ┆   ┆           ┆           ┆           ┆ Clymer   │\n",
       "└───────────┴───────────┴───────────┴───────────┴───┴───────────┴───────────┴───────────┴──────────┘\n"
      ]
     },
     "metadata": {},
     "output_type": "display_data"
    }
   ],
   "source": [
    "url: str = \"https://theunitedstates.io/congress-legislators/legislators-historical.csv\"\n",
    "\n",
    "dtypes = {\n",
    "    \"first_name\": pl.Categorical,\n",
    "    \"gender\": pl.Categorical,\n",
    "    \"type\": pl.Categorical,\n",
    "    \"state\": pl.Categorical,\n",
    "    \"party\": pl.Categorical,\n",
    "}\n",
    "\n",
    "dataset = (\n",
    "    pl.read_csv(url, dtypes=dtypes)\n",
    "    # Modifiy the column and convert to date\n",
    "    .with_columns(pl.col(\"birthday\").str.to_date(strict=False))\n",
    ")\n",
    "\n",
    "print(dataset.head())"
   ]
  },
  {
   "cell_type": "code",
   "execution_count": 43,
   "metadata": {},
   "outputs": [
    {
     "data": {
      "text/html": [
       "<div><style>\n",
       ".dataframe > thead > tr > th,\n",
       ".dataframe > tbody > tr > td {\n",
       "  text-align: right;\n",
       "  white-space: pre-wrap;\n",
       "}\n",
       "</style>\n",
       "<small>shape: (9, 37)</small><table border=\"1\" class=\"dataframe\"><thead><tr><th>describe</th><th>last_name</th><th>first_name</th><th>middle_name</th><th>suffix</th><th>nickname</th><th>full_name</th><th>birthday</th><th>gender</th><th>type</th><th>state</th><th>district</th><th>senate_class</th><th>party</th><th>url</th><th>address</th><th>phone</th><th>contact_form</th><th>rss_url</th><th>twitter</th><th>twitter_id</th><th>facebook</th><th>youtube</th><th>youtube_id</th><th>mastodon</th><th>bioguide_id</th><th>thomas_id</th><th>opensecrets_id</th><th>lis_id</th><th>fec_ids</th><th>cspan_id</th><th>govtrack_id</th><th>votesmart_id</th><th>ballotpedia_id</th><th>washington_post_id</th><th>icpsr_id</th><th>wikipedia_id</th></tr><tr><td>str</td><td>str</td><td>str</td><td>str</td><td>str</td><td>str</td><td>str</td><td>str</td><td>str</td><td>str</td><td>str</td><td>f64</td><td>f64</td><td>str</td><td>str</td><td>str</td><td>str</td><td>str</td><td>str</td><td>str</td><td>str</td><td>str</td><td>str</td><td>str</td><td>str</td><td>str</td><td>str</td><td>str</td><td>str</td><td>str</td><td>str</td><td>f64</td><td>str</td><td>str</td><td>str</td><td>f64</td><td>str</td></tr></thead><tbody><tr><td>&quot;count&quot;</td><td>&quot;12139&quot;</td><td>&quot;12139&quot;</td><td>&quot;12139&quot;</td><td>&quot;12139&quot;</td><td>&quot;12139&quot;</td><td>&quot;12139&quot;</td><td>&quot;12139&quot;</td><td>&quot;12139&quot;</td><td>&quot;12139&quot;</td><td>&quot;12139&quot;</td><td>12139.0</td><td>12139.0</td><td>&quot;12139&quot;</td><td>&quot;12139&quot;</td><td>&quot;12139&quot;</td><td>&quot;12139&quot;</td><td>&quot;12139&quot;</td><td>&quot;12139&quot;</td><td>&quot;12139&quot;</td><td>&quot;12139&quot;</td><td>&quot;12139&quot;</td><td>&quot;12139&quot;</td><td>&quot;12139&quot;</td><td>&quot;12139&quot;</td><td>&quot;12139&quot;</td><td>&quot;12139&quot;</td><td>&quot;12139&quot;</td><td>&quot;12139&quot;</td><td>&quot;12139&quot;</td><td>&quot;12139&quot;</td><td>12139.0</td><td>&quot;12139&quot;</td><td>&quot;12139&quot;</td><td>&quot;12139&quot;</td><td>12139.0</td><td>&quot;12139&quot;</td></tr><tr><td>&quot;null_count&quot;</td><td>&quot;0&quot;</td><td>&quot;0&quot;</td><td>&quot;3707&quot;</td><td>&quot;11711&quot;</td><td>&quot;11902&quot;</td><td>&quot;11630&quot;</td><td>&quot;542&quot;</td><td>&quot;0&quot;</td><td>&quot;0&quot;</td><td>&quot;0&quot;</td><td>1849.0</td><td>10290.0</td><td>&quot;232&quot;</td><td>&quot;11328&quot;</td><td>&quot;11622&quot;</td><td>&quot;11626&quot;</td><td>&quot;11898&quot;</td><td>&quot;11844&quot;</td><td>&quot;12139&quot;</td><td>&quot;12139&quot;</td><td>&quot;12139&quot;</td><td>&quot;12139&quot;</td><td>&quot;12139&quot;</td><td>&quot;12139&quot;</td><td>&quot;0&quot;</td><td>&quot;10228&quot;</td><td>&quot;11307&quot;</td><td>&quot;11928&quot;</td><td>&quot;11433&quot;</td><td>&quot;11597&quot;</td><td>0.0</td><td>&quot;11413&quot;</td><td>&quot;11758&quot;</td><td>&quot;12139&quot;</td><td>222.0</td><td>&quot;0&quot;</td></tr><tr><td>&quot;mean&quot;</td><td>null</td><td>null</td><td>null</td><td>null</td><td>null</td><td>null</td><td>null</td><td>null</td><td>null</td><td>null</td><td>8.164723</td><td>2.017847</td><td>null</td><td>null</td><td>null</td><td>null</td><td>null</td><td>null</td><td>null</td><td>null</td><td>null</td><td>null</td><td>null</td><td>null</td><td>null</td><td>null</td><td>null</td><td>null</td><td>null</td><td>null</td><td>405524.539748</td><td>null</td><td>null</td><td>null</td><td>7442.901821</td><td>null</td></tr><tr><td>&quot;std&quot;</td><td>null</td><td>null</td><td>null</td><td>null</td><td>null</td><td>null</td><td>null</td><td>null</td><td>null</td><td>null</td><td>8.215047</td><td>0.806632</td><td>null</td><td>null</td><td>null</td><td>null</td><td>null</td><td>null</td><td>null</td><td>null</td><td>null</td><td>null</td><td>null</td><td>null</td><td>null</td><td>null</td><td>null</td><td>null</td><td>null</td><td>null</td><td>10157.52946</td><td>null</td><td>null</td><td>null</td><td>6818.010195</td><td>null</td></tr><tr><td>&quot;min&quot;</td><td>&quot;Aandahl&quot;</td><td>null</td><td>&quot;(Jim) Guy&quot;</td><td>&quot;II&quot;</td><td>&quot;Abe&quot;</td><td>&quot;A. Donald McEa…</td><td>&quot;1721-04-19&quot;</td><td>null</td><td>null</td><td>null</td><td>-1.0</td><td>1.0</td><td>null</td><td>&quot;http://ackerma…</td><td>&quot;100 Cannon HOB…</td><td>&quot;202-224-2043&quot;</td><td>&quot;http://akin.ho…</td><td>&quot;feed://olson.h…</td><td>null</td><td>null</td><td>null</td><td>null</td><td>null</td><td>null</td><td>&quot;A000001&quot;</td><td>&quot;00001&quot;</td><td>&quot;N00000010&quot;</td><td>&quot;S009&quot;</td><td>&quot;H0AL02087&quot;</td><td>&quot;1000221&quot;</td><td>300001.0</td><td>&quot;0&quot;</td><td>&quot;Aaron Schock&quot;</td><td>null</td><td>1.0</td><td>&quot;A. C. Schiffle…</td></tr><tr><td>&quot;25%&quot;</td><td>null</td><td>null</td><td>null</td><td>null</td><td>null</td><td>null</td><td>null</td><td>null</td><td>null</td><td>null</td><td>2.0</td><td>1.0</td><td>null</td><td>null</td><td>null</td><td>null</td><td>null</td><td>null</td><td>null</td><td>null</td><td>null</td><td>null</td><td>null</td><td>null</td><td>null</td><td>null</td><td>null</td><td>null</td><td>null</td><td>null</td><td>403135.0</td><td>null</td><td>null</td><td>null</td><td>3111.0</td><td>null</td></tr><tr><td>&quot;50%&quot;</td><td>null</td><td>null</td><td>null</td><td>null</td><td>null</td><td>null</td><td>null</td><td>null</td><td>null</td><td>null</td><td>6.0</td><td>2.0</td><td>null</td><td>null</td><td>null</td><td>null</td><td>null</td><td>null</td><td>null</td><td>null</td><td>null</td><td>null</td><td>null</td><td>null</td><td>null</td><td>null</td><td>null</td><td>null</td><td>null</td><td>null</td><td>406257.0</td><td>null</td><td>null</td><td>null</td><td>6242.0</td><td>null</td></tr><tr><td>&quot;75%&quot;</td><td>null</td><td>null</td><td>null</td><td>null</td><td>null</td><td>null</td><td>null</td><td>null</td><td>null</td><td>null</td><td>11.0</td><td>3.0</td><td>null</td><td>null</td><td>null</td><td>null</td><td>null</td><td>null</td><td>null</td><td>null</td><td>null</td><td>null</td><td>null</td><td>null</td><td>null</td><td>null</td><td>null</td><td>null</td><td>null</td><td>null</td><td>409380.0</td><td>null</td><td>null</td><td>null</td><td>9362.0</td><td>null</td></tr><tr><td>&quot;max&quot;</td><td>&quot;du Pont&quot;</td><td>null</td><td>&quot;de Veaux&quot;</td><td>&quot;Sr.&quot;</td><td>&quot;of Ohio&quot;</td><td>&quot;Yvette Herrell…</td><td>&quot;1995-08-01&quot;</td><td>null</td><td>null</td><td>null</td><td>53.0</td><td>3.0</td><td>null</td><td>&quot;https://zeldin…</td><td>&quot;G12 Dirksen Se…</td><td>&quot;202-225-9901&quot;</td><td>&quot;https://www.to…</td><td>&quot;https://hanabu…</td><td>null</td><td>null</td><td>null</td><td>null</td><td>null</td><td>null</td><td>&quot;Z000017&quot;</td><td>&quot;02293&quot;</td><td>&quot;N99999896&quot;</td><td>&quot;S405&quot;</td><td>&quot;S8WI00026&quot;</td><td>&quot;96047&quot;</td><td>456872.0</td><td>&quot;9794&quot;</td><td>&quot;Yvette Herrell…</td><td>null</td><td>99342.0</td><td>&quot;Zephaniah Swif…</td></tr></tbody></table></div>"
      ],
      "text/plain": [
       "shape: (9, 37)\n",
       "┌───────────┬───────────┬───────────┬───────────┬───┬───────────┬───────────┬───────────┬──────────┐\n",
       "│ describe  ┆ last_name ┆ first_nam ┆ middle_na ┆ … ┆ ballotped ┆ washingto ┆ icpsr_id  ┆ wikipedi │\n",
       "│ (str)     ┆ (str)     ┆ e (str)   ┆ me (str)  ┆   ┆ ia_id     ┆ n_post_id ┆ (f64)     ┆ a_id     │\n",
       "│           ┆           ┆           ┆           ┆   ┆ (str)     ┆ (str)     ┆           ┆ (str)    │\n",
       "╞═══════════╪═══════════╪═══════════╪═══════════╪═══╪═══════════╪═══════════╪═══════════╪══════════╡\n",
       "│ count     ┆ 12139     ┆ 12139     ┆ 12139     ┆ … ┆ 12139     ┆ 12139     ┆ 12139.0   ┆ 12139    │\n",
       "│ null_coun ┆ 0         ┆ 0         ┆ 3707      ┆ … ┆ 11758     ┆ 12139     ┆ 222.0     ┆ 0        │\n",
       "│ t         ┆           ┆           ┆           ┆   ┆           ┆           ┆           ┆          │\n",
       "│ mean      ┆ null      ┆ null      ┆ null      ┆ … ┆ null      ┆ null      ┆ 7442.9018 ┆ null     │\n",
       "│           ┆           ┆           ┆           ┆   ┆           ┆           ┆ 21        ┆          │\n",
       "│ std       ┆ null      ┆ null      ┆ null      ┆ … ┆ null      ┆ null      ┆ 6818.0101 ┆ null     │\n",
       "│           ┆           ┆           ┆           ┆   ┆           ┆           ┆ 95        ┆          │\n",
       "│ min       ┆ Aandahl   ┆ null      ┆ (Jim) Guy ┆ … ┆ Aaron     ┆ null      ┆ 1.0       ┆ A. C.    │\n",
       "│           ┆           ┆           ┆           ┆   ┆ Schock    ┆           ┆           ┆ Schiffle │\n",
       "│           ┆           ┆           ┆           ┆   ┆           ┆           ┆           ┆ r        │\n",
       "│ 25%       ┆ null      ┆ null      ┆ null      ┆ … ┆ null      ┆ null      ┆ 3111.0    ┆ null     │\n",
       "│ 50%       ┆ null      ┆ null      ┆ null      ┆ … ┆ null      ┆ null      ┆ 6242.0    ┆ null     │\n",
       "│ 75%       ┆ null      ┆ null      ┆ null      ┆ … ┆ null      ┆ null      ┆ 9362.0    ┆ null     │\n",
       "│ max       ┆ du Pont   ┆ null      ┆ de Veaux  ┆ … ┆ Yvette    ┆ null      ┆ 99342.0   ┆ Zephania │\n",
       "│           ┆           ┆           ┆           ┆   ┆ Herrell   ┆           ┆           ┆ h Swift  │\n",
       "└───────────┴───────────┴───────────┴───────────┴───┴───────────┴───────────┴───────────┴──────────┘"
      ]
     },
     "execution_count": 43,
     "metadata": {},
     "output_type": "execute_result"
    }
   ],
   "source": [
    "dataset.describe()"
   ]
  },
  {
   "cell_type": "code",
   "execution_count": 56,
   "metadata": {},
   "outputs": [
    {
     "data": {
      "text/html": [
       "<pre style=\"white-space:pre;overflow-x:auto;line-height:normal;font-family:Menlo,'DejaVu Sans Mono',consolas,'Courier New',monospace\">shape: <span style=\"font-weight: bold\">(</span><span style=\"color: #008080; text-decoration-color: #008080; font-weight: bold\">2</span>, <span style=\"color: #008080; text-decoration-color: #008080; font-weight: bold\">1</span><span style=\"font-weight: bold\">)</span>\n",
       "┌────────────────────┐\n",
       "│ gender <span style=\"font-weight: bold\">(</span>struct<span style=\"font-weight: bold\">[</span><span style=\"color: #008080; text-decoration-color: #008080; font-weight: bold\">2</span><span style=\"font-weight: bold\">])</span> │\n",
       "╞════════════════════╡\n",
       "│ <span style=\"font-weight: bold\">{</span><span style=\"color: #008000; text-decoration-color: #008000\">\"M\"</span>,<span style=\"color: #008080; text-decoration-color: #008080; font-weight: bold\">11868</span><span style=\"font-weight: bold\">}</span>        │\n",
       "│ <span style=\"font-weight: bold\">{</span><span style=\"color: #008000; text-decoration-color: #008000\">\"F\"</span>,<span style=\"color: #008080; text-decoration-color: #008080; font-weight: bold\">271</span><span style=\"font-weight: bold\">}</span>          │\n",
       "└────────────────────┘\n",
       "</pre>\n"
      ],
      "text/plain": [
       "shape: \u001b[1m(\u001b[0m\u001b[1;36m2\u001b[0m, \u001b[1;36m1\u001b[0m\u001b[1m)\u001b[0m\n",
       "┌────────────────────┐\n",
       "│ gender \u001b[1m(\u001b[0mstruct\u001b[1m[\u001b[0m\u001b[1;36m2\u001b[0m\u001b[1m]\u001b[0m\u001b[1m)\u001b[0m │\n",
       "╞════════════════════╡\n",
       "│ \u001b[1m{\u001b[0m\u001b[32m\"M\"\u001b[0m,\u001b[1;36m11868\u001b[0m\u001b[1m}\u001b[0m        │\n",
       "│ \u001b[1m{\u001b[0m\u001b[32m\"F\"\u001b[0m,\u001b[1;36m271\u001b[0m\u001b[1m}\u001b[0m          │\n",
       "└────────────────────┘\n"
      ]
     },
     "metadata": {},
     "output_type": "display_data"
    }
   ],
   "source": [
    "print(dataset.select(pl.col(\"gender\").value_counts(sort=True)))"
   ]
  },
  {
   "cell_type": "code",
   "execution_count": 44,
   "metadata": {},
   "outputs": [
    {
     "data": {
      "text/html": [
       "<div><style>\n",
       ".dataframe > thead > tr > th,\n",
       ".dataframe > tbody > tr > td {\n",
       "  text-align: right;\n",
       "  white-space: pre-wrap;\n",
       "}\n",
       "</style>\n",
       "<small>shape: (2, 2)</small><table border=\"1\" class=\"dataframe\"><thead><tr><th>gender</th><th>count</th></tr><tr><td>cat</td><td>u32</td></tr></thead><tbody><tr><td>&quot;M&quot;</td><td>11868</td></tr><tr><td>&quot;F&quot;</td><td>271</td></tr></tbody></table></div>"
      ],
      "text/plain": [
       "shape: (2, 2)\n",
       "┌──────────────┬─────────────┐\n",
       "│ gender (cat) ┆ count (u32) │\n",
       "╞══════════════╪═════════════╡\n",
       "│ M            ┆ 11868       │\n",
       "│ F            ┆ 271         │\n",
       "└──────────────┴─────────────┘"
      ]
     },
     "execution_count": 44,
     "metadata": {},
     "output_type": "execute_result"
    }
   ],
   "source": [
    "dataset.group_by(pl.col(\"gender\")).agg(pl.count())"
   ]
  },
  {
   "cell_type": "code",
   "execution_count": 45,
   "metadata": {},
   "outputs": [
    {
     "data": {
      "text/html": [
       "<pre style=\"white-space:pre;overflow-x:auto;line-height:normal;font-family:Menlo,'DejaVu Sans Mono',consolas,'Courier New',monospace\">shape: <span style=\"font-weight: bold\">(</span><span style=\"color: #008080; text-decoration-color: #008080; font-weight: bold\">5</span>, <span style=\"color: #008080; text-decoration-color: #008080; font-weight: bold\">4</span><span style=\"font-weight: bold\">)</span>\n",
       "┌──────────────────┬─────────────┬────────────────────┬─────────────────┐\n",
       "│ first_name <span style=\"font-weight: bold\">(</span>cat<span style=\"font-weight: bold\">)</span> ┆ count <span style=\"font-weight: bold\">(</span>u32<span style=\"font-weight: bold\">)</span> ┆ gender <span style=\"font-weight: bold\">(</span>list<span style=\"font-weight: bold\">[</span>cat<span style=\"font-weight: bold\">])</span> ┆ last_name <span style=\"font-weight: bold\">(</span>str<span style=\"font-weight: bold\">)</span> │\n",
       "╞══════════════════╪═════════════╪════════════════════╪═════════════════╡\n",
       "│ John             ┆ <span style=\"color: #008080; text-decoration-color: #008080; font-weight: bold\">1256</span>        ┆ <span style=\"font-weight: bold\">[</span><span style=\"color: #008000; text-decoration-color: #008000\">\"M\"</span>, <span style=\"color: #008000; text-decoration-color: #008000\">\"M\"</span>, … <span style=\"color: #008000; text-decoration-color: #008000\">\"M\"</span><span style=\"font-weight: bold\">]</span>  ┆ Walker          │\n",
       "│ William          ┆ <span style=\"color: #008080; text-decoration-color: #008080; font-weight: bold\">1022</span>        ┆ <span style=\"font-weight: bold\">[</span><span style=\"color: #008000; text-decoration-color: #008000\">\"M\"</span>, <span style=\"color: #008000; text-decoration-color: #008000\">\"M\"</span>, … <span style=\"color: #008000; text-decoration-color: #008000\">\"M\"</span><span style=\"font-weight: bold\">]</span>  ┆ Few             │\n",
       "│ James            ┆ <span style=\"color: #008080; text-decoration-color: #008080; font-weight: bold\">714</span>         ┆ <span style=\"font-weight: bold\">[</span><span style=\"color: #008000; text-decoration-color: #008000\">\"M\"</span>, <span style=\"color: #008000; text-decoration-color: #008000\">\"M\"</span>, … <span style=\"color: #008000; text-decoration-color: #008000\">\"M\"</span><span style=\"font-weight: bold\">]</span>  ┆ Armstrong       │\n",
       "│ Thomas           ┆ <span style=\"color: #008080; text-decoration-color: #008080; font-weight: bold\">454</span>         ┆ <span style=\"font-weight: bold\">[</span><span style=\"color: #008000; text-decoration-color: #008000\">\"M\"</span>, <span style=\"color: #008000; text-decoration-color: #008000\">\"M\"</span>, … <span style=\"color: #008000; text-decoration-color: #008000\">\"M\"</span><span style=\"font-weight: bold\">]</span>  ┆ Tucker          │\n",
       "│ Charles          ┆ <span style=\"color: #008080; text-decoration-color: #008080; font-weight: bold\">439</span>         ┆ <span style=\"font-weight: bold\">[</span><span style=\"color: #008000; text-decoration-color: #008000\">\"M\"</span>, <span style=\"color: #008000; text-decoration-color: #008000\">\"M\"</span>, … <span style=\"color: #008000; text-decoration-color: #008000\">\"M\"</span><span style=\"font-weight: bold\">]</span>  ┆ Carroll         │\n",
       "└──────────────────┴─────────────┴────────────────────┴─────────────────┘\n",
       "</pre>\n"
      ],
      "text/plain": [
       "shape: \u001b[1m(\u001b[0m\u001b[1;36m5\u001b[0m, \u001b[1;36m4\u001b[0m\u001b[1m)\u001b[0m\n",
       "┌──────────────────┬─────────────┬────────────────────┬─────────────────┐\n",
       "│ first_name \u001b[1m(\u001b[0mcat\u001b[1m)\u001b[0m ┆ count \u001b[1m(\u001b[0mu32\u001b[1m)\u001b[0m ┆ gender \u001b[1m(\u001b[0mlist\u001b[1m[\u001b[0mcat\u001b[1m]\u001b[0m\u001b[1m)\u001b[0m ┆ last_name \u001b[1m(\u001b[0mstr\u001b[1m)\u001b[0m │\n",
       "╞══════════════════╪═════════════╪════════════════════╪═════════════════╡\n",
       "│ John             ┆ \u001b[1;36m1256\u001b[0m        ┆ \u001b[1m[\u001b[0m\u001b[32m\"M\"\u001b[0m, \u001b[32m\"M\"\u001b[0m, … \u001b[32m\"M\"\u001b[0m\u001b[1m]\u001b[0m  ┆ Walker          │\n",
       "│ William          ┆ \u001b[1;36m1022\u001b[0m        ┆ \u001b[1m[\u001b[0m\u001b[32m\"M\"\u001b[0m, \u001b[32m\"M\"\u001b[0m, … \u001b[32m\"M\"\u001b[0m\u001b[1m]\u001b[0m  ┆ Few             │\n",
       "│ James            ┆ \u001b[1;36m714\u001b[0m         ┆ \u001b[1m[\u001b[0m\u001b[32m\"M\"\u001b[0m, \u001b[32m\"M\"\u001b[0m, … \u001b[32m\"M\"\u001b[0m\u001b[1m]\u001b[0m  ┆ Armstrong       │\n",
       "│ Thomas           ┆ \u001b[1;36m454\u001b[0m         ┆ \u001b[1m[\u001b[0m\u001b[32m\"M\"\u001b[0m, \u001b[32m\"M\"\u001b[0m, … \u001b[32m\"M\"\u001b[0m\u001b[1m]\u001b[0m  ┆ Tucker          │\n",
       "│ Charles          ┆ \u001b[1;36m439\u001b[0m         ┆ \u001b[1m[\u001b[0m\u001b[32m\"M\"\u001b[0m, \u001b[32m\"M\"\u001b[0m, … \u001b[32m\"M\"\u001b[0m\u001b[1m]\u001b[0m  ┆ Carroll         │\n",
       "└──────────────────┴─────────────┴────────────────────┴─────────────────┘\n"
      ]
     },
     "metadata": {},
     "output_type": "display_data"
    }
   ],
   "source": [
    "q: pl.LazyFrame = (\n",
    "    dataset.lazy()\n",
    "    .group_by(\"first_name\")\n",
    "    .agg(\n",
    "        pl.count(),\n",
    "        pl.col(\"gender\"),\n",
    "        pl.first(\"last_name\"),\n",
    "    )\n",
    "    .sort(\"count\", descending=True)\n",
    "    .limit(5)\n",
    ")\n",
    "\n",
    "df = q.collect()\n",
    "print(df)"
   ]
  },
  {
   "cell_type": "code",
   "execution_count": 46,
   "metadata": {},
   "outputs": [
    {
     "data": {
      "text/plain": [
       "polars.lazyframe.frame.LazyFrame"
      ]
     },
     "execution_count": 46,
     "metadata": {},
     "output_type": "execute_result"
    }
   ],
   "source": [
    "type(q)"
   ]
  },
  {
   "cell_type": "code",
   "execution_count": 47,
   "metadata": {},
   "outputs": [
    {
     "data": {
      "text/html": [
       "<pre style=\"white-space:pre;overflow-x:auto;line-height:normal;font-family:Menlo,'DejaVu Sans Mono',consolas,'Courier New',monospace\">shape: <span style=\"font-weight: bold\">(</span><span style=\"color: #008080; text-decoration-color: #008080; font-weight: bold\">5</span>, <span style=\"color: #008080; text-decoration-color: #008080; font-weight: bold\">3</span><span style=\"font-weight: bold\">)</span>\n",
       "┌─────────────┬────────────┬───────────┐\n",
       "│ state <span style=\"font-weight: bold\">(</span>cat<span style=\"font-weight: bold\">)</span> ┆ anti <span style=\"font-weight: bold\">(</span>u32<span style=\"font-weight: bold\">)</span> ┆ pro <span style=\"font-weight: bold\">(</span>u32<span style=\"font-weight: bold\">)</span> │\n",
       "╞═════════════╪════════════╪═══════════╡\n",
       "│ CT          ┆ <span style=\"color: #008080; text-decoration-color: #008080; font-weight: bold\">0</span>          ┆ <span style=\"color: #008080; text-decoration-color: #008080; font-weight: bold\">3</span>         │\n",
       "│ NJ          ┆ <span style=\"color: #008080; text-decoration-color: #008080; font-weight: bold\">0</span>          ┆ <span style=\"color: #008080; text-decoration-color: #008080; font-weight: bold\">3</span>         │\n",
       "│ NC          ┆ <span style=\"color: #008080; text-decoration-color: #008080; font-weight: bold\">1</span>          ┆ <span style=\"color: #008080; text-decoration-color: #008080; font-weight: bold\">2</span>         │\n",
       "│ SC          ┆ <span style=\"color: #008080; text-decoration-color: #008080; font-weight: bold\">0</span>          ┆ <span style=\"color: #008080; text-decoration-color: #008080; font-weight: bold\">1</span>         │\n",
       "│ PA          ┆ <span style=\"color: #008080; text-decoration-color: #008080; font-weight: bold\">1</span>          ┆ <span style=\"color: #008080; text-decoration-color: #008080; font-weight: bold\">1</span>         │\n",
       "└─────────────┴────────────┴───────────┘\n",
       "</pre>\n"
      ],
      "text/plain": [
       "shape: \u001b[1m(\u001b[0m\u001b[1;36m5\u001b[0m, \u001b[1;36m3\u001b[0m\u001b[1m)\u001b[0m\n",
       "┌─────────────┬────────────┬───────────┐\n",
       "│ state \u001b[1m(\u001b[0mcat\u001b[1m)\u001b[0m ┆ anti \u001b[1m(\u001b[0mu32\u001b[1m)\u001b[0m ┆ pro \u001b[1m(\u001b[0mu32\u001b[1m)\u001b[0m │\n",
       "╞═════════════╪════════════╪═══════════╡\n",
       "│ CT          ┆ \u001b[1;36m0\u001b[0m          ┆ \u001b[1;36m3\u001b[0m         │\n",
       "│ NJ          ┆ \u001b[1;36m0\u001b[0m          ┆ \u001b[1;36m3\u001b[0m         │\n",
       "│ NC          ┆ \u001b[1;36m1\u001b[0m          ┆ \u001b[1;36m2\u001b[0m         │\n",
       "│ SC          ┆ \u001b[1;36m0\u001b[0m          ┆ \u001b[1;36m1\u001b[0m         │\n",
       "│ PA          ┆ \u001b[1;36m1\u001b[0m          ┆ \u001b[1;36m1\u001b[0m         │\n",
       "└─────────────┴────────────┴───────────┘\n"
      ]
     },
     "metadata": {},
     "output_type": "display_data"
    }
   ],
   "source": [
    "q: pl.LazyFrame = (\n",
    "    dataset.lazy()\n",
    "    .group_by(\"state\")\n",
    "    .agg(\n",
    "        (pl.col(\"party\") == \"Anti-Administration\").sum().alias(\"anti\"),\n",
    "        (pl.col(\"party\") == \"Pro-Administration\").sum().alias(\"pro\"),\n",
    "    )\n",
    "    .sort(\"pro\", descending=True)\n",
    "    .limit(5)\n",
    ")\n",
    "\n",
    "df: pl.DataFrame = q.collect()\n",
    "print(df)"
   ]
  },
  {
   "cell_type": "code",
   "execution_count": 48,
   "metadata": {},
   "outputs": [
    {
     "data": {
      "text/html": [
       "<div><style>\n",
       ".dataframe > thead > tr > th,\n",
       ".dataframe > tbody > tr > td {\n",
       "  text-align: right;\n",
       "  white-space: pre-wrap;\n",
       "}\n",
       "</style>\n",
       "<small>shape: (5, 3)</small><table border=\"1\" class=\"dataframe\"><thead><tr><th>state</th><th>party</th><th>count</th></tr><tr><td>cat</td><td>cat</td><td>u32</td></tr></thead><tbody><tr><td>&quot;CT&quot;</td><td>&quot;Pro-Administra…</td><td>3</td></tr><tr><td>&quot;VA&quot;</td><td>&quot;Anti-Administr…</td><td>3</td></tr><tr><td>&quot;NJ&quot;</td><td>&quot;Pro-Administra…</td><td>3</td></tr><tr><td>&quot;NC&quot;</td><td>&quot;Pro-Administra…</td><td>2</td></tr><tr><td>&quot;VA&quot;</td><td>&quot;Pro-Administra…</td><td>1</td></tr></tbody></table></div>"
      ],
      "text/plain": [
       "shape: (5, 3)\n",
       "┌─────────────┬─────────────────────┬─────────────┐\n",
       "│ state (cat) ┆ party (cat)         ┆ count (u32) │\n",
       "╞═════════════╪═════════════════════╪═════════════╡\n",
       "│ CT          ┆ Pro-Administration  ┆ 3           │\n",
       "│ VA          ┆ Anti-Administration ┆ 3           │\n",
       "│ NJ          ┆ Pro-Administration  ┆ 3           │\n",
       "│ NC          ┆ Pro-Administration  ┆ 2           │\n",
       "│ VA          ┆ Pro-Administration  ┆ 1           │\n",
       "└─────────────┴─────────────────────┴─────────────┘"
      ]
     },
     "execution_count": 48,
     "metadata": {},
     "output_type": "execute_result"
    }
   ],
   "source": [
    "# OR\n",
    "q: pl.LazyFrame = (\n",
    "    dataset.lazy()\n",
    "    .group_by([\"state\", \"party\"])\n",
    "    .agg(pl.count(\"party\").alias(\"count\"))\n",
    "    .filter(\n",
    "        (pl.col(\"party\") == \"Anti-Administration\")\n",
    "        | (pl.col(\"party\") == \"Pro-Administration\")\n",
    "    )\n",
    "    .sort(by=\"count\", descending=True)\n",
    "    .limit(5)\n",
    ")\n",
    "\n",
    "df: pl.DataFrame = q.collect()\n",
    "\n",
    "df"
   ]
  },
  {
   "cell_type": "code",
   "execution_count": 49,
   "metadata": {},
   "outputs": [
    {
     "data": {
      "text/html": [
       "<pre style=\"white-space:pre;overflow-x:auto;line-height:normal;font-family:Menlo,'DejaVu Sans Mono',consolas,'Courier New',monospace\">shape: <span style=\"font-weight: bold\">(</span><span style=\"color: #008080; text-decoration-color: #008080; font-weight: bold\">5</span>, <span style=\"color: #008080; text-decoration-color: #008080; font-weight: bold\">5</span><span style=\"font-weight: bold\">)</span>\n",
       "┌─────────────┬────────────────────────┬────────────────────────┬──────────────┬────────────────┐\n",
       "│ state <span style=\"font-weight: bold\">(</span>cat<span style=\"font-weight: bold\">)</span> ┆ avg <span style=\"color: #008000; text-decoration-color: #008000\">'M'</span> birthday <span style=\"font-weight: bold\">(</span>f64<span style=\"font-weight: bold\">)</span> ┆ avg <span style=\"color: #008000; text-decoration-color: #008000\">'F'</span> birthday <span style=\"font-weight: bold\">(</span>f64<span style=\"font-weight: bold\">)</span> ┆ # male <span style=\"font-weight: bold\">(</span>u32<span style=\"font-weight: bold\">)</span> ┆ # female <span style=\"font-weight: bold\">(</span>u32<span style=\"font-weight: bold\">)</span> │\n",
       "╞═════════════╪════════════════════════╪════════════════════════╪══════════════╪════════════════╡\n",
       "│ CA          ┆ <span style=\"color: #008080; text-decoration-color: #008080; font-weight: bold\">130.29</span>                 ┆ <span style=\"color: #008080; text-decoration-color: #008080; font-weight: bold\">82.52</span>                  ┆ <span style=\"color: #008080; text-decoration-color: #008080; font-weight: bold\">343</span>          ┆ <span style=\"color: #008080; text-decoration-color: #008080; font-weight: bold\">31</span>             │\n",
       "│ WA          ┆ <span style=\"color: #008080; text-decoration-color: #008080; font-weight: bold\">133.44</span>                 ┆ <span style=\"color: #008080; text-decoration-color: #008080; font-weight: bold\">86.17</span>                  ┆ <span style=\"color: #008080; text-decoration-color: #008080; font-weight: bold\">91</span>           ┆ <span style=\"color: #008080; text-decoration-color: #008080; font-weight: bold\">6</span>              │\n",
       "│ MT          ┆ <span style=\"color: #008080; text-decoration-color: #008080; font-weight: bold\">137.92</span>                 ┆ <span style=\"color: #008080; text-decoration-color: #008080; font-weight: bold\">143.0</span>                  ┆ <span style=\"color: #008080; text-decoration-color: #008080; font-weight: bold\">51</span>           ┆ <span style=\"color: #008080; text-decoration-color: #008080; font-weight: bold\">1</span>              │\n",
       "│ NY          ┆ <span style=\"color: #008080; text-decoration-color: #008080; font-weight: bold\">187.44</span>                 ┆ <span style=\"color: #008080; text-decoration-color: #008080; font-weight: bold\">96.09</span>                  ┆ <span style=\"color: #008080; text-decoration-color: #008080; font-weight: bold\">1456</span>         ┆ <span style=\"color: #008080; text-decoration-color: #008080; font-weight: bold\">22</span>             │\n",
       "│ MO          ┆ <span style=\"color: #008080; text-decoration-color: #008080; font-weight: bold\">165.74</span>                 ┆ <span style=\"color: #008080; text-decoration-color: #008080; font-weight: bold\">83.63</span>                  ┆ <span style=\"color: #008080; text-decoration-color: #008080; font-weight: bold\">329</span>          ┆ <span style=\"color: #008080; text-decoration-color: #008080; font-weight: bold\">8</span>              │\n",
       "└─────────────┴────────────────────────┴────────────────────────┴──────────────┴────────────────┘\n",
       "</pre>\n"
      ],
      "text/plain": [
       "shape: \u001b[1m(\u001b[0m\u001b[1;36m5\u001b[0m, \u001b[1;36m5\u001b[0m\u001b[1m)\u001b[0m\n",
       "┌─────────────┬────────────────────────┬────────────────────────┬──────────────┬────────────────┐\n",
       "│ state \u001b[1m(\u001b[0mcat\u001b[1m)\u001b[0m ┆ avg \u001b[32m'M'\u001b[0m birthday \u001b[1m(\u001b[0mf64\u001b[1m)\u001b[0m ┆ avg \u001b[32m'F'\u001b[0m birthday \u001b[1m(\u001b[0mf64\u001b[1m)\u001b[0m ┆ # male \u001b[1m(\u001b[0mu32\u001b[1m)\u001b[0m ┆ # female \u001b[1m(\u001b[0mu32\u001b[1m)\u001b[0m │\n",
       "╞═════════════╪════════════════════════╪════════════════════════╪══════════════╪════════════════╡\n",
       "│ CA          ┆ \u001b[1;36m130.29\u001b[0m                 ┆ \u001b[1;36m82.52\u001b[0m                  ┆ \u001b[1;36m343\u001b[0m          ┆ \u001b[1;36m31\u001b[0m             │\n",
       "│ WA          ┆ \u001b[1;36m133.44\u001b[0m                 ┆ \u001b[1;36m86.17\u001b[0m                  ┆ \u001b[1;36m91\u001b[0m           ┆ \u001b[1;36m6\u001b[0m              │\n",
       "│ MT          ┆ \u001b[1;36m137.92\u001b[0m                 ┆ \u001b[1;36m143.0\u001b[0m                  ┆ \u001b[1;36m51\u001b[0m           ┆ \u001b[1;36m1\u001b[0m              │\n",
       "│ NY          ┆ \u001b[1;36m187.44\u001b[0m                 ┆ \u001b[1;36m96.09\u001b[0m                  ┆ \u001b[1;36m1456\u001b[0m         ┆ \u001b[1;36m22\u001b[0m             │\n",
       "│ MO          ┆ \u001b[1;36m165.74\u001b[0m                 ┆ \u001b[1;36m83.63\u001b[0m                  ┆ \u001b[1;36m329\u001b[0m          ┆ \u001b[1;36m8\u001b[0m              │\n",
       "└─────────────┴────────────────────────┴────────────────────────┴──────────────┴────────────────┘\n"
      ]
     },
     "metadata": {},
     "output_type": "display_data"
    }
   ],
   "source": [
    "def compute_age() -> pl.Expr:\n",
    "    return date(2023, 1, 1).year - pl.col(\"birthday\").dt.year()\n",
    "\n",
    "\n",
    "def avg_birthday(gender: str) -> pl.Expr:\n",
    "    return (\n",
    "        compute_age()\n",
    "        .filter(pl.col(\"gender\") == gender)\n",
    "        .mean()\n",
    "        .alias(f\"avg {gender!r} birthday\")\n",
    "        .round(2)\n",
    "    )\n",
    "\n",
    "\n",
    "q: pl.LazyFrame = (\n",
    "    dataset.lazy()\n",
    "    .group_by(\"state\")\n",
    "    .agg(\n",
    "        avg_birthday(\"M\"),\n",
    "        avg_birthday(\"F\"),\n",
    "        (pl.col(\"gender\") == \"M\").sum().alias(\"# male\"),\n",
    "        (pl.col(\"gender\") == \"F\").sum().alias(\"# female\"),\n",
    "    )\n",
    "    .limit(5)\n",
    ")\n",
    "\n",
    "df: pl.DataFrame = q.collect()\n",
    "print(df)"
   ]
  },
  {
   "cell_type": "code",
   "execution_count": 50,
   "metadata": {},
   "outputs": [
    {
     "data": {
      "text/html": [
       "<pre style=\"white-space:pre;overflow-x:auto;line-height:normal;font-family:Menlo,'DejaVu Sans Mono',consolas,'Courier New',monospace\">shape: <span style=\"font-weight: bold\">(</span><span style=\"color: #008080; text-decoration-color: #008080; font-weight: bold\">5</span>, <span style=\"color: #008080; text-decoration-color: #008080; font-weight: bold\">4</span><span style=\"font-weight: bold\">)</span>\n",
       "┌─────────────┬───────────────────────┬───────────────────────┬──────────────────────────┐\n",
       "│ state <span style=\"font-weight: bold\">(</span>cat<span style=\"font-weight: bold\">)</span> ┆ youngest <span style=\"font-weight: bold\">(</span>str<span style=\"font-weight: bold\">)</span>        ┆ oldest <span style=\"font-weight: bold\">(</span>str<span style=\"font-weight: bold\">)</span>          ┆ alphabetical_first <span style=\"font-weight: bold\">(</span>str<span style=\"font-weight: bold\">)</span> │\n",
       "╞═════════════╪═══════════════════════╪═══════════════════════╪══════════════════════════╡\n",
       "│ CA          ┆ Katie Hill            ┆ Edward Gilbert        ┆ Aaron Sargent            │\n",
       "│ MT          ┆ Greg Gianforte        ┆ James Cavanaugh       ┆ Albert Campbell          │\n",
       "│ WA          ┆ Jaime Herrera Beutler ┆ Columbia Lancaster    ┆ Addison Foster           │\n",
       "│ NY          ┆ Mondaire Jones        ┆ Cornelius Schoonmaker ┆ A. Foster                │\n",
       "│ MO          ┆ Vicky Hartzler        ┆ Spencer Pettis        ┆ Abram Comingo            │\n",
       "└─────────────┴───────────────────────┴───────────────────────┴──────────────────────────┘\n",
       "</pre>\n"
      ],
      "text/plain": [
       "shape: \u001b[1m(\u001b[0m\u001b[1;36m5\u001b[0m, \u001b[1;36m4\u001b[0m\u001b[1m)\u001b[0m\n",
       "┌─────────────┬───────────────────────┬───────────────────────┬──────────────────────────┐\n",
       "│ state \u001b[1m(\u001b[0mcat\u001b[1m)\u001b[0m ┆ youngest \u001b[1m(\u001b[0mstr\u001b[1m)\u001b[0m        ┆ oldest \u001b[1m(\u001b[0mstr\u001b[1m)\u001b[0m          ┆ alphabetical_first \u001b[1m(\u001b[0mstr\u001b[1m)\u001b[0m │\n",
       "╞═════════════╪═══════════════════════╪═══════════════════════╪══════════════════════════╡\n",
       "│ CA          ┆ Katie Hill            ┆ Edward Gilbert        ┆ Aaron Sargent            │\n",
       "│ MT          ┆ Greg Gianforte        ┆ James Cavanaugh       ┆ Albert Campbell          │\n",
       "│ WA          ┆ Jaime Herrera Beutler ┆ Columbia Lancaster    ┆ Addison Foster           │\n",
       "│ NY          ┆ Mondaire Jones        ┆ Cornelius Schoonmaker ┆ A. Foster                │\n",
       "│ MO          ┆ Vicky Hartzler        ┆ Spencer Pettis        ┆ Abram Comingo            │\n",
       "└─────────────┴───────────────────────┴───────────────────────┴──────────────────────────┘\n"
      ]
     },
     "metadata": {},
     "output_type": "display_data"
    }
   ],
   "source": [
    "def get_person() -> pl.Expr:\n",
    "    return pl.col(\"first_name\") + pl.lit(\" \") + pl.col(\"last_name\")\n",
    "\n",
    "\n",
    "q: pl.LazyFrame = (\n",
    "    dataset.lazy()\n",
    "    .sort(\"birthday\", descending=True) # 2000, 1999, 1998, etc\n",
    "    .group_by(\"state\")\n",
    "    .agg(\n",
    "        get_person().first().alias(\"youngest\"),\n",
    "        get_person().last().alias(\"oldest\"),\n",
    "        get_person().sort().first().alias(\"alphabetical_first\"),\n",
    "    )\n",
    "    .limit(5)\n",
    ")\n",
    "\n",
    "df: pl.DataFrame = q.collect()\n",
    "print(df)"
   ]
  },
  {
   "cell_type": "code",
   "execution_count": 52,
   "metadata": {},
   "outputs": [
    {
     "data": {
      "text/html": [
       "<div><style>\n",
       ".dataframe > thead > tr > th,\n",
       ".dataframe > tbody > tr > td {\n",
       "  text-align: right;\n",
       "  white-space: pre-wrap;\n",
       "}\n",
       "</style>\n",
       "<small>shape: (1, 36)</small><table border=\"1\" class=\"dataframe\"><thead><tr><th>last_name</th><th>first_name</th><th>middle_name</th><th>suffix</th><th>nickname</th><th>full_name</th><th>birthday</th><th>gender</th><th>type</th><th>state</th><th>district</th><th>senate_class</th><th>party</th><th>url</th><th>address</th><th>phone</th><th>contact_form</th><th>rss_url</th><th>twitter</th><th>twitter_id</th><th>facebook</th><th>youtube</th><th>youtube_id</th><th>mastodon</th><th>bioguide_id</th><th>thomas_id</th><th>opensecrets_id</th><th>lis_id</th><th>fec_ids</th><th>cspan_id</th><th>govtrack_id</th><th>votesmart_id</th><th>ballotpedia_id</th><th>washington_post_id</th><th>icpsr_id</th><th>wikipedia_id</th></tr><tr><td>str</td><td>cat</td><td>str</td><td>str</td><td>str</td><td>str</td><td>date</td><td>cat</td><td>cat</td><td>cat</td><td>i64</td><td>i64</td><td>cat</td><td>str</td><td>str</td><td>str</td><td>str</td><td>str</td><td>str</td><td>str</td><td>str</td><td>str</td><td>str</td><td>str</td><td>str</td><td>str</td><td>str</td><td>str</td><td>str</td><td>str</td><td>i64</td><td>str</td><td>str</td><td>str</td><td>i64</td><td>str</td></tr></thead><tbody><tr><td>&quot;Hill&quot;</td><td>&quot;Katie&quot;</td><td>null</td><td>null</td><td>null</td><td>&quot;Katie Hill&quot;</td><td>1987-08-25</td><td>&quot;F&quot;</td><td>&quot;rep&quot;</td><td>&quot;CA&quot;</td><td>25</td><td>null</td><td>&quot;Democrat&quot;</td><td>&quot;https://katieh…</td><td>&quot;1130 Longworth…</td><td>&quot;202-225-1956&quot;</td><td>null</td><td>null</td><td>null</td><td>null</td><td>null</td><td>null</td><td>null</td><td>null</td><td>&quot;H001087&quot;</td><td>null</td><td>&quot;N00040644&quot;</td><td>null</td><td>&quot;H8CA25074&quot;</td><td>null</td><td>412756</td><td>&quot;179354&quot;</td><td>&quot;Katie Hill&quot;</td><td>null</td><td>21932</td><td>&quot;Katie Hill (po…</td></tr></tbody></table></div>"
      ],
      "text/plain": [
       "shape: (1, 36)\n",
       "┌───────────┬───────────┬───────────┬───────────┬───┬───────────┬───────────┬───────────┬──────────┐\n",
       "│ last_name ┆ first_nam ┆ middle_na ┆ suffix    ┆ … ┆ ballotped ┆ washingto ┆ icpsr_id  ┆ wikipedi │\n",
       "│ (str)     ┆ e (cat)   ┆ me (str)  ┆ (str)     ┆   ┆ ia_id     ┆ n_post_id ┆ (i64)     ┆ a_id     │\n",
       "│           ┆           ┆           ┆           ┆   ┆ (str)     ┆ (str)     ┆           ┆ (str)    │\n",
       "╞═══════════╪═══════════╪═══════════╪═══════════╪═══╪═══════════╪═══════════╪═══════════╪══════════╡\n",
       "│ Hill      ┆ Katie     ┆ null      ┆ null      ┆ … ┆ Katie     ┆ null      ┆ 21932     ┆ Katie    │\n",
       "│           ┆           ┆           ┆           ┆   ┆ Hill      ┆           ┆           ┆ Hill (po │\n",
       "│           ┆           ┆           ┆           ┆   ┆           ┆           ┆           ┆ litician │\n",
       "│           ┆           ┆           ┆           ┆   ┆           ┆           ┆           ┆ )        │\n",
       "└───────────┴───────────┴───────────┴───────────┴───┴───────────┴───────────┴───────────┴──────────┘"
      ]
     },
     "execution_count": 52,
     "metadata": {},
     "output_type": "execute_result"
    }
   ],
   "source": []
  },
  {
   "cell_type": "code",
   "execution_count": null,
   "metadata": {},
   "outputs": [],
   "source": []
  },
  {
   "cell_type": "code",
   "execution_count": null,
   "metadata": {},
   "outputs": [],
   "source": []
  },
  {
   "cell_type": "code",
   "execution_count": null,
   "metadata": {},
   "outputs": [],
   "source": []
  },
  {
   "cell_type": "code",
   "execution_count": null,
   "metadata": {},
   "outputs": [],
   "source": []
  },
  {
   "cell_type": "code",
   "execution_count": null,
   "metadata": {},
   "outputs": [],
   "source": []
  },
  {
   "cell_type": "code",
   "execution_count": null,
   "metadata": {},
   "outputs": [],
   "source": []
  },
  {
   "cell_type": "code",
   "execution_count": null,
   "metadata": {},
   "outputs": [],
   "source": []
  },
  {
   "cell_type": "code",
   "execution_count": null,
   "metadata": {},
   "outputs": [],
   "source": []
  },
  {
   "cell_type": "code",
   "execution_count": null,
   "metadata": {},
   "outputs": [],
   "source": []
  }
 ],
 "metadata": {
  "kernelspec": {
   "display_name": "nlp_p310",
   "language": "python",
   "name": "python3"
  },
  "language_info": {
   "codemirror_mode": {
    "name": "ipython",
    "version": 3
   },
   "file_extension": ".py",
   "mimetype": "text/x-python",
   "name": "python",
   "nbconvert_exporter": "python",
   "pygments_lexer": "ipython3",
   "version": "3.10.9"
  }
 },
 "nbformat": 4,
 "nbformat_minor": 2
}
