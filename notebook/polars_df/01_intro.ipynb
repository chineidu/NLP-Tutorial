{
 "cells": [
  {
   "cell_type": "code",
   "execution_count": 1,
   "metadata": {},
   "outputs": [],
   "source": [
    "# Built-in library\n",
    "import re\n",
    "import json\n",
    "import logging\n",
    "from typing import Any, Dict, List, Optional, Union\n",
    "import logging\n",
    "import warnings\n",
    "\n",
    "# Standard imports\n",
    "import numpy as np\n",
    "import pandas as pd\n",
    "import polars as pl\n",
    "from rich import print\n",
    "import torch\n",
    "\n",
    "# Visualization\n",
    "import matplotlib.pyplot as plt\n",
    "\n",
    "\n",
    "# Pandas settings\n",
    "pd.options.display.max_rows = 1_000\n",
    "pd.options.display.max_columns = 1_000\n",
    "pd.options.display.max_colwidth = 600\n",
    "\n",
    "warnings.filterwarnings(\"ignore\")\n",
    "\n",
    "# Black code formatter (Optional)\n",
    "%load_ext lab_black\n",
    "\n",
    "# auto reload imports\n",
    "%load_ext autoreload\n",
    "%autoreload 2"
   ]
  },
  {
   "cell_type": "markdown",
   "metadata": {},
   "source": [
    "### Create A DataFrame"
   ]
  },
  {
   "cell_type": "code",
   "execution_count": 2,
   "metadata": {},
   "outputs": [
    {
     "data": {
      "text/html": [
       "<pre style=\"white-space:pre;overflow-x:auto;line-height:normal;font-family:Menlo,'DejaVu Sans Mono',consolas,'Courier New',monospace\">shape: <span style=\"font-weight: bold\">(</span><span style=\"color: #008080; text-decoration-color: #008080; font-weight: bold\">5</span>, <span style=\"color: #008080; text-decoration-color: #008080; font-weight: bold\">3</span><span style=\"font-weight: bold\">)</span>\n",
       "┌─────────┬─────────────────────┬───────┐\n",
       "│ integer ┆ date                ┆ float │\n",
       "│ ---     ┆ ---                 ┆ ---   │\n",
       "│ i64     ┆ datetime<span style=\"font-weight: bold\">[</span>μs<span style=\"font-weight: bold\">]</span>        ┆ f64   │\n",
       "╞═════════╪═════════════════════╪═══════╡\n",
       "│ <span style=\"color: #008080; text-decoration-color: #008080; font-weight: bold\">1</span>       ┆ <span style=\"color: #008080; text-decoration-color: #008080; font-weight: bold\">2022</span>-<span style=\"color: #008080; text-decoration-color: #008080; font-weight: bold\">01</span>-<span style=\"color: #008080; text-decoration-color: #008080; font-weight: bold\">01</span> <span style=\"color: #00ff00; text-decoration-color: #00ff00; font-weight: bold\">00:00:00</span> ┆ <span style=\"color: #008080; text-decoration-color: #008080; font-weight: bold\">4.0</span>   │\n",
       "│ <span style=\"color: #008080; text-decoration-color: #008080; font-weight: bold\">2</span>       ┆ <span style=\"color: #008080; text-decoration-color: #008080; font-weight: bold\">2022</span>-<span style=\"color: #008080; text-decoration-color: #008080; font-weight: bold\">01</span>-<span style=\"color: #008080; text-decoration-color: #008080; font-weight: bold\">02</span> <span style=\"color: #00ff00; text-decoration-color: #00ff00; font-weight: bold\">00:00:00</span> ┆ <span style=\"color: #008080; text-decoration-color: #008080; font-weight: bold\">5.0</span>   │\n",
       "│ <span style=\"color: #008080; text-decoration-color: #008080; font-weight: bold\">3</span>       ┆ <span style=\"color: #008080; text-decoration-color: #008080; font-weight: bold\">2022</span>-<span style=\"color: #008080; text-decoration-color: #008080; font-weight: bold\">01</span>-<span style=\"color: #008080; text-decoration-color: #008080; font-weight: bold\">03</span> <span style=\"color: #00ff00; text-decoration-color: #00ff00; font-weight: bold\">00:00:00</span> ┆ <span style=\"color: #008080; text-decoration-color: #008080; font-weight: bold\">6.0</span>   │\n",
       "│ <span style=\"color: #008080; text-decoration-color: #008080; font-weight: bold\">4</span>       ┆ <span style=\"color: #008080; text-decoration-color: #008080; font-weight: bold\">2022</span>-<span style=\"color: #008080; text-decoration-color: #008080; font-weight: bold\">01</span>-<span style=\"color: #008080; text-decoration-color: #008080; font-weight: bold\">04</span> <span style=\"color: #00ff00; text-decoration-color: #00ff00; font-weight: bold\">00:00:00</span> ┆ <span style=\"color: #008080; text-decoration-color: #008080; font-weight: bold\">7.0</span>   │\n",
       "│ <span style=\"color: #008080; text-decoration-color: #008080; font-weight: bold\">5</span>       ┆ <span style=\"color: #008080; text-decoration-color: #008080; font-weight: bold\">2022</span>-<span style=\"color: #008080; text-decoration-color: #008080; font-weight: bold\">01</span>-<span style=\"color: #008080; text-decoration-color: #008080; font-weight: bold\">05</span> <span style=\"color: #00ff00; text-decoration-color: #00ff00; font-weight: bold\">00:00:00</span> ┆ <span style=\"color: #008080; text-decoration-color: #008080; font-weight: bold\">8.0</span>   │\n",
       "└─────────┴─────────────────────┴───────┘\n",
       "</pre>\n"
      ],
      "text/plain": [
       "shape: \u001b[1m(\u001b[0m\u001b[1;36m5\u001b[0m, \u001b[1;36m3\u001b[0m\u001b[1m)\u001b[0m\n",
       "┌─────────┬─────────────────────┬───────┐\n",
       "│ integer ┆ date                ┆ float │\n",
       "│ ---     ┆ ---                 ┆ ---   │\n",
       "│ i64     ┆ datetime\u001b[1m[\u001b[0mμs\u001b[1m]\u001b[0m        ┆ f64   │\n",
       "╞═════════╪═════════════════════╪═══════╡\n",
       "│ \u001b[1;36m1\u001b[0m       ┆ \u001b[1;36m2022\u001b[0m-\u001b[1;36m01\u001b[0m-\u001b[1;36m01\u001b[0m \u001b[1;92m00:00:00\u001b[0m ┆ \u001b[1;36m4.0\u001b[0m   │\n",
       "│ \u001b[1;36m2\u001b[0m       ┆ \u001b[1;36m2022\u001b[0m-\u001b[1;36m01\u001b[0m-\u001b[1;36m02\u001b[0m \u001b[1;92m00:00:00\u001b[0m ┆ \u001b[1;36m5.0\u001b[0m   │\n",
       "│ \u001b[1;36m3\u001b[0m       ┆ \u001b[1;36m2022\u001b[0m-\u001b[1;36m01\u001b[0m-\u001b[1;36m03\u001b[0m \u001b[1;92m00:00:00\u001b[0m ┆ \u001b[1;36m6.0\u001b[0m   │\n",
       "│ \u001b[1;36m4\u001b[0m       ┆ \u001b[1;36m2022\u001b[0m-\u001b[1;36m01\u001b[0m-\u001b[1;36m04\u001b[0m \u001b[1;92m00:00:00\u001b[0m ┆ \u001b[1;36m7.0\u001b[0m   │\n",
       "│ \u001b[1;36m5\u001b[0m       ┆ \u001b[1;36m2022\u001b[0m-\u001b[1;36m01\u001b[0m-\u001b[1;36m05\u001b[0m \u001b[1;92m00:00:00\u001b[0m ┆ \u001b[1;36m8.0\u001b[0m   │\n",
       "└─────────┴─────────────────────┴───────┘\n"
      ]
     },
     "metadata": {},
     "output_type": "display_data"
    }
   ],
   "source": [
    "from datetime import datetime\n",
    "\n",
    "\n",
    "df: pl.DataFrame = pl.DataFrame(\n",
    "    {\n",
    "        \"integer\": [1, 2, 3, 4, 5],\n",
    "        \"date\": [\n",
    "            datetime(2022, 1, 1),\n",
    "            datetime(2022, 1, 2),\n",
    "            datetime(2022, 1, 3),\n",
    "            datetime(2022, 1, 4),\n",
    "            datetime(2022, 1, 5),\n",
    "        ],\n",
    "        \"float\": [4.0, 5.0, 6.0, 7.0, 8.0],\n",
    "    }\n",
    ")\n",
    "\n",
    "print(df)"
   ]
  },
  {
   "cell_type": "markdown",
   "metadata": {},
   "source": [
    "#### Viewing Data\n",
    "\n",
    "```text\n",
    "- df.head()\n",
    "- df.tail()\n",
    "```"
   ]
  },
  {
   "cell_type": "code",
   "execution_count": 3,
   "metadata": {},
   "outputs": [
    {
     "data": {
      "text/html": [
       "<div><style>\n",
       ".dataframe > thead > tr > th,\n",
       ".dataframe > tbody > tr > td {\n",
       "  text-align: right;\n",
       "  white-space: pre-wrap;\n",
       "}\n",
       "</style>\n",
       "<small>shape: (2, 3)</small><table border=\"1\" class=\"dataframe\"><thead><tr><th>integer</th><th>date</th><th>float</th></tr><tr><td>i64</td><td>datetime[μs]</td><td>f64</td></tr></thead><tbody><tr><td>1</td><td>2022-01-01 00:00:00</td><td>4.0</td></tr><tr><td>2</td><td>2022-01-02 00:00:00</td><td>5.0</td></tr></tbody></table></div>"
      ],
      "text/plain": [
       "shape: (2, 3)\n",
       "┌─────────┬─────────────────────┬───────┐\n",
       "│ integer ┆ date                ┆ float │\n",
       "│ ---     ┆ ---                 ┆ ---   │\n",
       "│ i64     ┆ datetime[μs]        ┆ f64   │\n",
       "╞═════════╪═════════════════════╪═══════╡\n",
       "│ 1       ┆ 2022-01-01 00:00:00 ┆ 4.0   │\n",
       "│ 2       ┆ 2022-01-02 00:00:00 ┆ 5.0   │\n",
       "└─────────┴─────────────────────┴───────┘"
      ]
     },
     "execution_count": 3,
     "metadata": {},
     "output_type": "execute_result"
    }
   ],
   "source": [
    "df.head(2)"
   ]
  },
  {
   "cell_type": "code",
   "execution_count": 4,
   "metadata": {},
   "outputs": [
    {
     "data": {
      "text/html": [
       "<div><style>\n",
       ".dataframe > thead > tr > th,\n",
       ".dataframe > tbody > tr > td {\n",
       "  text-align: right;\n",
       "  white-space: pre-wrap;\n",
       "}\n",
       "</style>\n",
       "<small>shape: (2, 3)</small><table border=\"1\" class=\"dataframe\"><thead><tr><th>integer</th><th>date</th><th>float</th></tr><tr><td>i64</td><td>datetime[μs]</td><td>f64</td></tr></thead><tbody><tr><td>4</td><td>2022-01-04 00:00:00</td><td>7.0</td></tr><tr><td>5</td><td>2022-01-05 00:00:00</td><td>8.0</td></tr></tbody></table></div>"
      ],
      "text/plain": [
       "shape: (2, 3)\n",
       "┌─────────┬─────────────────────┬───────┐\n",
       "│ integer ┆ date                ┆ float │\n",
       "│ ---     ┆ ---                 ┆ ---   │\n",
       "│ i64     ┆ datetime[μs]        ┆ f64   │\n",
       "╞═════════╪═════════════════════╪═══════╡\n",
       "│ 4       ┆ 2022-01-04 00:00:00 ┆ 7.0   │\n",
       "│ 5       ┆ 2022-01-05 00:00:00 ┆ 8.0   │\n",
       "└─────────┴─────────────────────┴───────┘"
      ]
     },
     "execution_count": 4,
     "metadata": {},
     "output_type": "execute_result"
    }
   ],
   "source": [
    "df.tail(2)"
   ]
  },
  {
   "cell_type": "markdown",
   "metadata": {},
   "source": [
    "#### Descriptive Stats"
   ]
  },
  {
   "cell_type": "code",
   "execution_count": 5,
   "metadata": {},
   "outputs": [
    {
     "data": {
      "text/html": [
       "<div><style>\n",
       ".dataframe > thead > tr > th,\n",
       ".dataframe > tbody > tr > td {\n",
       "  text-align: right;\n",
       "  white-space: pre-wrap;\n",
       "}\n",
       "</style>\n",
       "<small>shape: (9, 4)</small><table border=\"1\" class=\"dataframe\"><thead><tr><th>describe</th><th>integer</th><th>date</th><th>float</th></tr><tr><td>str</td><td>f64</td><td>str</td><td>f64</td></tr></thead><tbody><tr><td>&quot;count&quot;</td><td>5.0</td><td>&quot;5&quot;</td><td>5.0</td></tr><tr><td>&quot;null_count&quot;</td><td>0.0</td><td>&quot;0&quot;</td><td>0.0</td></tr><tr><td>&quot;mean&quot;</td><td>3.0</td><td>null</td><td>6.0</td></tr><tr><td>&quot;std&quot;</td><td>1.581139</td><td>null</td><td>1.581139</td></tr><tr><td>&quot;min&quot;</td><td>1.0</td><td>&quot;2022-01-01 00:…</td><td>4.0</td></tr><tr><td>&quot;25%&quot;</td><td>2.0</td><td>null</td><td>5.0</td></tr><tr><td>&quot;50%&quot;</td><td>3.0</td><td>null</td><td>6.0</td></tr><tr><td>&quot;75%&quot;</td><td>4.0</td><td>null</td><td>7.0</td></tr><tr><td>&quot;max&quot;</td><td>5.0</td><td>&quot;2022-01-05 00:…</td><td>8.0</td></tr></tbody></table></div>"
      ],
      "text/plain": [
       "shape: (9, 4)\n",
       "┌────────────┬──────────┬─────────────────────┬──────────┐\n",
       "│ describe   ┆ integer  ┆ date                ┆ float    │\n",
       "│ ---        ┆ ---      ┆ ---                 ┆ ---      │\n",
       "│ str        ┆ f64      ┆ str                 ┆ f64      │\n",
       "╞════════════╪══════════╪═════════════════════╪══════════╡\n",
       "│ count      ┆ 5.0      ┆ 5                   ┆ 5.0      │\n",
       "│ null_count ┆ 0.0      ┆ 0                   ┆ 0.0      │\n",
       "│ mean       ┆ 3.0      ┆ null                ┆ 6.0      │\n",
       "│ std        ┆ 1.581139 ┆ null                ┆ 1.581139 │\n",
       "│ min        ┆ 1.0      ┆ 2022-01-01 00:00:00 ┆ 4.0      │\n",
       "│ 25%        ┆ 2.0      ┆ null                ┆ 5.0      │\n",
       "│ 50%        ┆ 3.0      ┆ null                ┆ 6.0      │\n",
       "│ 75%        ┆ 4.0      ┆ null                ┆ 7.0      │\n",
       "│ max        ┆ 5.0      ┆ 2022-01-05 00:00:00 ┆ 8.0      │\n",
       "└────────────┴──────────┴─────────────────────┴──────────┘"
      ]
     },
     "execution_count": 5,
     "metadata": {},
     "output_type": "execute_result"
    }
   ],
   "source": [
    "df.describe()"
   ]
  },
  {
   "cell_type": "code",
   "execution_count": 6,
   "metadata": {},
   "outputs": [
    {
     "data": {
      "text/html": [
       "<pre style=\"white-space:pre;overflow-x:auto;line-height:normal;font-family:Menlo,'DejaVu Sans Mono',consolas,'Courier New',monospace\">shape: <span style=\"font-weight: bold\">(</span><span style=\"color: #008080; text-decoration-color: #008080; font-weight: bold\">5</span>, <span style=\"color: #008080; text-decoration-color: #008080; font-weight: bold\">4</span><span style=\"font-weight: bold\">)</span>\n",
       "┌──────┬───────┬──────────┬────────┐\n",
       "│ nrs  ┆ names ┆ random   ┆ groups │\n",
       "│ ---  ┆ ---   ┆ ---      ┆ ---    │\n",
       "│ i64  ┆ str   ┆ f64      ┆ str    │\n",
       "╞══════╪═══════╪══════════╪════════╡\n",
       "│ <span style=\"color: #008080; text-decoration-color: #008080; font-weight: bold\">1</span>    ┆ foo   ┆ <span style=\"color: #008080; text-decoration-color: #008080; font-weight: bold\">0.938371</span> ┆ A      │\n",
       "│ <span style=\"color: #008080; text-decoration-color: #008080; font-weight: bold\">2</span>    ┆ ham   ┆ <span style=\"color: #008080; text-decoration-color: #008080; font-weight: bold\">0.11866</span>  ┆ A      │\n",
       "│ <span style=\"color: #008080; text-decoration-color: #008080; font-weight: bold\">3</span>    ┆ spam  ┆ <span style=\"color: #008080; text-decoration-color: #008080; font-weight: bold\">0.575215</span> ┆ B      │\n",
       "│ null ┆ egg   ┆ <span style=\"color: #008080; text-decoration-color: #008080; font-weight: bold\">0.859469</span> ┆ C      │\n",
       "│ <span style=\"color: #008080; text-decoration-color: #008080; font-weight: bold\">5</span>    ┆ null  ┆ <span style=\"color: #008080; text-decoration-color: #008080; font-weight: bold\">0.020818</span> ┆ B      │\n",
       "└──────┴───────┴──────────┴────────┘\n",
       "</pre>\n"
      ],
      "text/plain": [
       "shape: \u001b[1m(\u001b[0m\u001b[1;36m5\u001b[0m, \u001b[1;36m4\u001b[0m\u001b[1m)\u001b[0m\n",
       "┌──────┬───────┬──────────┬────────┐\n",
       "│ nrs  ┆ names ┆ random   ┆ groups │\n",
       "│ ---  ┆ ---   ┆ ---      ┆ ---    │\n",
       "│ i64  ┆ str   ┆ f64      ┆ str    │\n",
       "╞══════╪═══════╪══════════╪════════╡\n",
       "│ \u001b[1;36m1\u001b[0m    ┆ foo   ┆ \u001b[1;36m0.938371\u001b[0m ┆ A      │\n",
       "│ \u001b[1;36m2\u001b[0m    ┆ ham   ┆ \u001b[1;36m0.11866\u001b[0m  ┆ A      │\n",
       "│ \u001b[1;36m3\u001b[0m    ┆ spam  ┆ \u001b[1;36m0.575215\u001b[0m ┆ B      │\n",
       "│ null ┆ egg   ┆ \u001b[1;36m0.859469\u001b[0m ┆ C      │\n",
       "│ \u001b[1;36m5\u001b[0m    ┆ null  ┆ \u001b[1;36m0.020818\u001b[0m ┆ B      │\n",
       "└──────┴───────┴──────────┴────────┘\n"
      ]
     },
     "metadata": {},
     "output_type": "display_data"
    }
   ],
   "source": [
    "df: pl.DataFrame = pl.DataFrame(\n",
    "    {\n",
    "        \"nrs\": [1, 2, 3, None, 5],\n",
    "        \"names\": [\"foo\", \"ham\", \"spam\", \"egg\", None],\n",
    "        \"random\": np.random.rand(5),\n",
    "        \"groups\": [\"A\", \"A\", \"B\", \"C\", \"B\"],\n",
    "    }\n",
    ")\n",
    "print(df)"
   ]
  },
  {
   "cell_type": "code",
   "execution_count": 7,
   "metadata": {},
   "outputs": [
    {
     "data": {
      "text/html": [
       "<pre style=\"white-space:pre;overflow-x:auto;line-height:normal;font-family:Menlo,'DejaVu Sans Mono',consolas,'Courier New',monospace\">shape: <span style=\"font-weight: bold\">(</span><span style=\"color: #008080; text-decoration-color: #008080; font-weight: bold\">5</span>, <span style=\"color: #008080; text-decoration-color: #008080; font-weight: bold\">4</span><span style=\"font-weight: bold\">)</span>\n",
       "┌─────┬───────┬────────────┬────────┐\n",
       "│ nrs ┆ names ┆ first name ┆ 1<span style=\"color: #008080; text-decoration-color: #008080; font-weight: bold\">0x</span>nrs │\n",
       "│ --- ┆ ---   ┆ ---        ┆ ---    │\n",
       "│ i64 ┆ str   ┆ str        ┆ f64    │\n",
       "╞═════╪═══════╪════════════╪════════╡\n",
       "│ <span style=\"color: #008080; text-decoration-color: #008080; font-weight: bold\">11</span>  ┆ null  ┆ foo        ┆ <span style=\"color: #008080; text-decoration-color: #008080; font-weight: bold\">27.5</span>   │\n",
       "│ <span style=\"color: #008080; text-decoration-color: #008080; font-weight: bold\">11</span>  ┆ egg   ┆ foo        ┆ <span style=\"color: #008080; text-decoration-color: #008080; font-weight: bold\">27.5</span>   │\n",
       "│ <span style=\"color: #008080; text-decoration-color: #008080; font-weight: bold\">11</span>  ┆ foo   ┆ foo        ┆ <span style=\"color: #008080; text-decoration-color: #008080; font-weight: bold\">27.5</span>   │\n",
       "│ <span style=\"color: #008080; text-decoration-color: #008080; font-weight: bold\">11</span>  ┆ ham   ┆ foo        ┆ <span style=\"color: #008080; text-decoration-color: #008080; font-weight: bold\">27.5</span>   │\n",
       "│ <span style=\"color: #008080; text-decoration-color: #008080; font-weight: bold\">11</span>  ┆ spam  ┆ foo        ┆ <span style=\"color: #008080; text-decoration-color: #008080; font-weight: bold\">27.5</span>   │\n",
       "└─────┴───────┴────────────┴────────┘\n",
       "</pre>\n"
      ],
      "text/plain": [
       "shape: \u001b[1m(\u001b[0m\u001b[1;36m5\u001b[0m, \u001b[1;36m4\u001b[0m\u001b[1m)\u001b[0m\n",
       "┌─────┬───────┬────────────┬────────┐\n",
       "│ nrs ┆ names ┆ first name ┆ 1\u001b[1;36m0x\u001b[0mnrs │\n",
       "│ --- ┆ ---   ┆ ---        ┆ ---    │\n",
       "│ i64 ┆ str   ┆ str        ┆ f64    │\n",
       "╞═════╪═══════╪════════════╪════════╡\n",
       "│ \u001b[1;36m11\u001b[0m  ┆ null  ┆ foo        ┆ \u001b[1;36m27.5\u001b[0m   │\n",
       "│ \u001b[1;36m11\u001b[0m  ┆ egg   ┆ foo        ┆ \u001b[1;36m27.5\u001b[0m   │\n",
       "│ \u001b[1;36m11\u001b[0m  ┆ foo   ┆ foo        ┆ \u001b[1;36m27.5\u001b[0m   │\n",
       "│ \u001b[1;36m11\u001b[0m  ┆ ham   ┆ foo        ┆ \u001b[1;36m27.5\u001b[0m   │\n",
       "│ \u001b[1;36m11\u001b[0m  ┆ spam  ┆ foo        ┆ \u001b[1;36m27.5\u001b[0m   │\n",
       "└─────┴───────┴────────────┴────────┘\n"
      ]
     },
     "metadata": {},
     "output_type": "display_data"
    }
   ],
   "source": [
    "# Select\n",
    "out: pl.DataFrame = df.select(\n",
    "    pl.sum(\"nrs\"),  # sum this column\n",
    "    pl.col(\"names\").sort(),  # select and sort this column\n",
    "    # select the first row and rename this column\n",
    "    pl.col(\"names\").first().alias(\"first name\"),\n",
    "    # calculate the mean, multiply by 10 and rename\n",
    "    (pl.mean(\"nrs\") * 10).alias(\"10xnrs\"),\n",
    ")\n",
    "print(out)"
   ]
  },
  {
   "cell_type": "code",
   "execution_count": 9,
   "metadata": {},
   "outputs": [
    {
     "data": {
      "text/html": [
       "<div><style>\n",
       ".dataframe > thead > tr > th,\n",
       ".dataframe > tbody > tr > td {\n",
       "  text-align: right;\n",
       "  white-space: pre-wrap;\n",
       "}\n",
       "</style>\n",
       "<small>shape: (5, 4)</small><table border=\"1\" class=\"dataframe\"><thead><tr><th>nrs</th><th>names</th><th>random</th><th>groups</th></tr><tr><td>i64</td><td>str</td><td>f64</td><td>str</td></tr></thead><tbody><tr><td>1</td><td>&quot;foo&quot;</td><td>0.938371</td><td>&quot;A&quot;</td></tr><tr><td>2</td><td>&quot;ham&quot;</td><td>0.11866</td><td>&quot;A&quot;</td></tr><tr><td>3</td><td>&quot;spam&quot;</td><td>0.575215</td><td>&quot;B&quot;</td></tr><tr><td>null</td><td>&quot;egg&quot;</td><td>0.859469</td><td>&quot;C&quot;</td></tr><tr><td>5</td><td>null</td><td>0.020818</td><td>&quot;B&quot;</td></tr></tbody></table></div>"
      ],
      "text/plain": [
       "shape: (5, 4)\n",
       "┌──────┬───────┬──────────┬────────┐\n",
       "│ nrs  ┆ names ┆ random   ┆ groups │\n",
       "│ ---  ┆ ---   ┆ ---      ┆ ---    │\n",
       "│ i64  ┆ str   ┆ f64      ┆ str    │\n",
       "╞══════╪═══════╪══════════╪════════╡\n",
       "│ 1    ┆ foo   ┆ 0.938371 ┆ A      │\n",
       "│ 2    ┆ ham   ┆ 0.11866  ┆ A      │\n",
       "│ 3    ┆ spam  ┆ 0.575215 ┆ B      │\n",
       "│ null ┆ egg   ┆ 0.859469 ┆ C      │\n",
       "│ 5    ┆ null  ┆ 0.020818 ┆ B      │\n",
       "└──────┴───────┴──────────┴────────┘"
      ]
     },
     "execution_count": 9,
     "metadata": {},
     "output_type": "execute_result"
    }
   ],
   "source": [
    "df"
   ]
  },
  {
   "cell_type": "code",
   "execution_count": 8,
   "metadata": {},
   "outputs": [
    {
     "data": {
      "text/html": [
       "<pre style=\"white-space:pre;overflow-x:auto;line-height:normal;font-family:Menlo,'DejaVu Sans Mono',consolas,'Courier New',monospace\">shape: <span style=\"font-weight: bold\">(</span><span style=\"color: #008080; text-decoration-color: #008080; font-weight: bold\">5</span>, <span style=\"color: #008080; text-decoration-color: #008080; font-weight: bold\">6</span><span style=\"font-weight: bold\">)</span>\n",
       "┌──────┬───────┬──────────┬────────┬─────────┬───────┐\n",
       "│ nrs  ┆ names ┆ random   ┆ groups ┆ nrs_sum ┆ count │\n",
       "│ ---  ┆ ---   ┆ ---      ┆ ---    ┆ ---     ┆ ---   │\n",
       "│ i64  ┆ str   ┆ f64      ┆ str    ┆ i64     ┆ u32   │\n",
       "╞══════╪═══════╪══════════╪════════╪═════════╪═══════╡\n",
       "│ <span style=\"color: #008080; text-decoration-color: #008080; font-weight: bold\">1</span>    ┆ foo   ┆ <span style=\"color: #008080; text-decoration-color: #008080; font-weight: bold\">0.938371</span> ┆ A      ┆ <span style=\"color: #008080; text-decoration-color: #008080; font-weight: bold\">11</span>      ┆ <span style=\"color: #008080; text-decoration-color: #008080; font-weight: bold\">5</span>     │\n",
       "│ <span style=\"color: #008080; text-decoration-color: #008080; font-weight: bold\">2</span>    ┆ ham   ┆ <span style=\"color: #008080; text-decoration-color: #008080; font-weight: bold\">0.11866</span>  ┆ A      ┆ <span style=\"color: #008080; text-decoration-color: #008080; font-weight: bold\">11</span>      ┆ <span style=\"color: #008080; text-decoration-color: #008080; font-weight: bold\">5</span>     │\n",
       "│ <span style=\"color: #008080; text-decoration-color: #008080; font-weight: bold\">3</span>    ┆ spam  ┆ <span style=\"color: #008080; text-decoration-color: #008080; font-weight: bold\">0.575215</span> ┆ B      ┆ <span style=\"color: #008080; text-decoration-color: #008080; font-weight: bold\">11</span>      ┆ <span style=\"color: #008080; text-decoration-color: #008080; font-weight: bold\">5</span>     │\n",
       "│ null ┆ egg   ┆ <span style=\"color: #008080; text-decoration-color: #008080; font-weight: bold\">0.859469</span> ┆ C      ┆ <span style=\"color: #008080; text-decoration-color: #008080; font-weight: bold\">11</span>      ┆ <span style=\"color: #008080; text-decoration-color: #008080; font-weight: bold\">5</span>     │\n",
       "│ <span style=\"color: #008080; text-decoration-color: #008080; font-weight: bold\">5</span>    ┆ null  ┆ <span style=\"color: #008080; text-decoration-color: #008080; font-weight: bold\">0.020818</span> ┆ B      ┆ <span style=\"color: #008080; text-decoration-color: #008080; font-weight: bold\">11</span>      ┆ <span style=\"color: #008080; text-decoration-color: #008080; font-weight: bold\">5</span>     │\n",
       "└──────┴───────┴──────────┴────────┴─────────┴───────┘\n",
       "</pre>\n"
      ],
      "text/plain": [
       "shape: \u001b[1m(\u001b[0m\u001b[1;36m5\u001b[0m, \u001b[1;36m6\u001b[0m\u001b[1m)\u001b[0m\n",
       "┌──────┬───────┬──────────┬────────┬─────────┬───────┐\n",
       "│ nrs  ┆ names ┆ random   ┆ groups ┆ nrs_sum ┆ count │\n",
       "│ ---  ┆ ---   ┆ ---      ┆ ---    ┆ ---     ┆ ---   │\n",
       "│ i64  ┆ str   ┆ f64      ┆ str    ┆ i64     ┆ u32   │\n",
       "╞══════╪═══════╪══════════╪════════╪═════════╪═══════╡\n",
       "│ \u001b[1;36m1\u001b[0m    ┆ foo   ┆ \u001b[1;36m0.938371\u001b[0m ┆ A      ┆ \u001b[1;36m11\u001b[0m      ┆ \u001b[1;36m5\u001b[0m     │\n",
       "│ \u001b[1;36m2\u001b[0m    ┆ ham   ┆ \u001b[1;36m0.11866\u001b[0m  ┆ A      ┆ \u001b[1;36m11\u001b[0m      ┆ \u001b[1;36m5\u001b[0m     │\n",
       "│ \u001b[1;36m3\u001b[0m    ┆ spam  ┆ \u001b[1;36m0.575215\u001b[0m ┆ B      ┆ \u001b[1;36m11\u001b[0m      ┆ \u001b[1;36m5\u001b[0m     │\n",
       "│ null ┆ egg   ┆ \u001b[1;36m0.859469\u001b[0m ┆ C      ┆ \u001b[1;36m11\u001b[0m      ┆ \u001b[1;36m5\u001b[0m     │\n",
       "│ \u001b[1;36m5\u001b[0m    ┆ null  ┆ \u001b[1;36m0.020818\u001b[0m ┆ B      ┆ \u001b[1;36m11\u001b[0m      ┆ \u001b[1;36m5\u001b[0m     │\n",
       "└──────┴───────┴──────────┴────────┴─────────┴───────┘\n"
      ]
     },
     "metadata": {},
     "output_type": "display_data"
    }
   ],
   "source": [
    "# Add new column(s)\n",
    "df_1: pl.DataFrame = df.with_columns(\n",
    "    pl.sum(\"nrs\").alias(\"nrs_sum\"),\n",
    "    pl.col(\"random\").count().alias(\"count\"),\n",
    ")\n",
    "print(df_1)"
   ]
  },
  {
   "cell_type": "code",
   "execution_count": 11,
   "metadata": {},
   "outputs": [
    {
     "data": {
      "text/html": [
       "<pre style=\"white-space:pre;overflow-x:auto;line-height:normal;font-family:Menlo,'DejaVu Sans Mono',consolas,'Courier New',monospace\">shape: <span style=\"font-weight: bold\">(</span><span style=\"color: #008080; text-decoration-color: #008080; font-weight: bold\">2</span>, <span style=\"color: #008080; text-decoration-color: #008080; font-weight: bold\">6</span><span style=\"font-weight: bold\">)</span>\n",
       "┌─────┬───────┬──────────┬────────┬─────────┬───────┐\n",
       "│ nrs ┆ names ┆ random   ┆ groups ┆ nrs_sum ┆ count │\n",
       "│ --- ┆ ---   ┆ ---      ┆ ---    ┆ ---     ┆ ---   │\n",
       "│ i64 ┆ str   ┆ f64      ┆ str    ┆ i64     ┆ u32   │\n",
       "╞═════╪═══════╪══════════╪════════╪═════════╪═══════╡\n",
       "│ <span style=\"color: #008080; text-decoration-color: #008080; font-weight: bold\">3</span>   ┆ spam  ┆ <span style=\"color: #008080; text-decoration-color: #008080; font-weight: bold\">0.575215</span> ┆ B      ┆ <span style=\"color: #008080; text-decoration-color: #008080; font-weight: bold\">11</span>      ┆ <span style=\"color: #008080; text-decoration-color: #008080; font-weight: bold\">5</span>     │\n",
       "│ <span style=\"color: #008080; text-decoration-color: #008080; font-weight: bold\">5</span>   ┆ null  ┆ <span style=\"color: #008080; text-decoration-color: #008080; font-weight: bold\">0.020818</span> ┆ B      ┆ <span style=\"color: #008080; text-decoration-color: #008080; font-weight: bold\">11</span>      ┆ <span style=\"color: #008080; text-decoration-color: #008080; font-weight: bold\">5</span>     │\n",
       "└─────┴───────┴──────────┴────────┴─────────┴───────┘\n",
       "</pre>\n"
      ],
      "text/plain": [
       "shape: \u001b[1m(\u001b[0m\u001b[1;36m2\u001b[0m, \u001b[1;36m6\u001b[0m\u001b[1m)\u001b[0m\n",
       "┌─────┬───────┬──────────┬────────┬─────────┬───────┐\n",
       "│ nrs ┆ names ┆ random   ┆ groups ┆ nrs_sum ┆ count │\n",
       "│ --- ┆ ---   ┆ ---      ┆ ---    ┆ ---     ┆ ---   │\n",
       "│ i64 ┆ str   ┆ f64      ┆ str    ┆ i64     ┆ u32   │\n",
       "╞═════╪═══════╪══════════╪════════╪═════════╪═══════╡\n",
       "│ \u001b[1;36m3\u001b[0m   ┆ spam  ┆ \u001b[1;36m0.575215\u001b[0m ┆ B      ┆ \u001b[1;36m11\u001b[0m      ┆ \u001b[1;36m5\u001b[0m     │\n",
       "│ \u001b[1;36m5\u001b[0m   ┆ null  ┆ \u001b[1;36m0.020818\u001b[0m ┆ B      ┆ \u001b[1;36m11\u001b[0m      ┆ \u001b[1;36m5\u001b[0m     │\n",
       "└─────┴───────┴──────────┴────────┴─────────┴───────┘\n"
      ]
     },
     "metadata": {},
     "output_type": "display_data"
    }
   ],
   "source": [
    "# Filter\n",
    "out: pl.DataFrame = df_1.filter(pl.col(\"nrs\") > 2)\n",
    "print(out)"
   ]
  },
  {
   "cell_type": "markdown",
   "metadata": {},
   "source": [
    "### Group By"
   ]
  },
  {
   "cell_type": "code",
   "execution_count": 14,
   "metadata": {},
   "outputs": [
    {
     "data": {
      "text/html": [
       "<pre style=\"white-space:pre;overflow-x:auto;line-height:normal;font-family:Menlo,'DejaVu Sans Mono',consolas,'Courier New',monospace\">shape: <span style=\"font-weight: bold\">(</span><span style=\"color: #008080; text-decoration-color: #008080; font-weight: bold\">5</span>, <span style=\"color: #008080; text-decoration-color: #008080; font-weight: bold\">6</span><span style=\"font-weight: bold\">)</span>\n",
       "┌──────┬───────┬──────────┬────────┬─────────┬───────┐\n",
       "│ nrs  ┆ names ┆ random   ┆ groups ┆ nrs_sum ┆ count │\n",
       "│ ---  ┆ ---   ┆ ---      ┆ ---    ┆ ---     ┆ ---   │\n",
       "│ i64  ┆ str   ┆ f64      ┆ str    ┆ i64     ┆ u32   │\n",
       "╞══════╪═══════╪══════════╪════════╪═════════╪═══════╡\n",
       "│ <span style=\"color: #008080; text-decoration-color: #008080; font-weight: bold\">1</span>    ┆ foo   ┆ <span style=\"color: #008080; text-decoration-color: #008080; font-weight: bold\">0.938371</span> ┆ A      ┆ <span style=\"color: #008080; text-decoration-color: #008080; font-weight: bold\">11</span>      ┆ <span style=\"color: #008080; text-decoration-color: #008080; font-weight: bold\">5</span>     │\n",
       "│ <span style=\"color: #008080; text-decoration-color: #008080; font-weight: bold\">2</span>    ┆ ham   ┆ <span style=\"color: #008080; text-decoration-color: #008080; font-weight: bold\">0.11866</span>  ┆ A      ┆ <span style=\"color: #008080; text-decoration-color: #008080; font-weight: bold\">11</span>      ┆ <span style=\"color: #008080; text-decoration-color: #008080; font-weight: bold\">5</span>     │\n",
       "│ <span style=\"color: #008080; text-decoration-color: #008080; font-weight: bold\">3</span>    ┆ spam  ┆ <span style=\"color: #008080; text-decoration-color: #008080; font-weight: bold\">0.575215</span> ┆ B      ┆ <span style=\"color: #008080; text-decoration-color: #008080; font-weight: bold\">11</span>      ┆ <span style=\"color: #008080; text-decoration-color: #008080; font-weight: bold\">5</span>     │\n",
       "│ null ┆ egg   ┆ <span style=\"color: #008080; text-decoration-color: #008080; font-weight: bold\">0.859469</span> ┆ C      ┆ <span style=\"color: #008080; text-decoration-color: #008080; font-weight: bold\">11</span>      ┆ <span style=\"color: #008080; text-decoration-color: #008080; font-weight: bold\">5</span>     │\n",
       "│ <span style=\"color: #008080; text-decoration-color: #008080; font-weight: bold\">5</span>    ┆ null  ┆ <span style=\"color: #008080; text-decoration-color: #008080; font-weight: bold\">0.020818</span> ┆ B      ┆ <span style=\"color: #008080; text-decoration-color: #008080; font-weight: bold\">11</span>      ┆ <span style=\"color: #008080; text-decoration-color: #008080; font-weight: bold\">5</span>     │\n",
       "└──────┴───────┴──────────┴────────┴─────────┴───────┘\n",
       "</pre>\n"
      ],
      "text/plain": [
       "shape: \u001b[1m(\u001b[0m\u001b[1;36m5\u001b[0m, \u001b[1;36m6\u001b[0m\u001b[1m)\u001b[0m\n",
       "┌──────┬───────┬──────────┬────────┬─────────┬───────┐\n",
       "│ nrs  ┆ names ┆ random   ┆ groups ┆ nrs_sum ┆ count │\n",
       "│ ---  ┆ ---   ┆ ---      ┆ ---    ┆ ---     ┆ ---   │\n",
       "│ i64  ┆ str   ┆ f64      ┆ str    ┆ i64     ┆ u32   │\n",
       "╞══════╪═══════╪══════════╪════════╪═════════╪═══════╡\n",
       "│ \u001b[1;36m1\u001b[0m    ┆ foo   ┆ \u001b[1;36m0.938371\u001b[0m ┆ A      ┆ \u001b[1;36m11\u001b[0m      ┆ \u001b[1;36m5\u001b[0m     │\n",
       "│ \u001b[1;36m2\u001b[0m    ┆ ham   ┆ \u001b[1;36m0.11866\u001b[0m  ┆ A      ┆ \u001b[1;36m11\u001b[0m      ┆ \u001b[1;36m5\u001b[0m     │\n",
       "│ \u001b[1;36m3\u001b[0m    ┆ spam  ┆ \u001b[1;36m0.575215\u001b[0m ┆ B      ┆ \u001b[1;36m11\u001b[0m      ┆ \u001b[1;36m5\u001b[0m     │\n",
       "│ null ┆ egg   ┆ \u001b[1;36m0.859469\u001b[0m ┆ C      ┆ \u001b[1;36m11\u001b[0m      ┆ \u001b[1;36m5\u001b[0m     │\n",
       "│ \u001b[1;36m5\u001b[0m    ┆ null  ┆ \u001b[1;36m0.020818\u001b[0m ┆ B      ┆ \u001b[1;36m11\u001b[0m      ┆ \u001b[1;36m5\u001b[0m     │\n",
       "└──────┴───────┴──────────┴────────┴─────────┴───────┘\n"
      ]
     },
     "metadata": {},
     "output_type": "display_data"
    }
   ],
   "source": [
    "print(df_1)"
   ]
  },
  {
   "cell_type": "code",
   "execution_count": 12,
   "metadata": {},
   "outputs": [
    {
     "data": {
      "text/html": [
       "<pre style=\"white-space:pre;overflow-x:auto;line-height:normal;font-family:Menlo,'DejaVu Sans Mono',consolas,'Courier New',monospace\">shape: <span style=\"font-weight: bold\">(</span><span style=\"color: #008080; text-decoration-color: #008080; font-weight: bold\">3</span>, <span style=\"color: #008080; text-decoration-color: #008080; font-weight: bold\">5</span><span style=\"font-weight: bold\">)</span>\n",
       "┌────────┬─────┬───────┬────────────┬────────────────┐\n",
       "│ groups ┆ nrs ┆ count ┆ random_sum ┆ reversed names │\n",
       "│ ---    ┆ --- ┆ ---   ┆ ---        ┆ ---            │\n",
       "│ str    ┆ i64 ┆ u32   ┆ f64        ┆ list<span style=\"font-weight: bold\">[</span>str<span style=\"font-weight: bold\">]</span>      │\n",
       "╞════════╪═════╪═══════╪════════════╪════════════════╡\n",
       "│ B      ┆ <span style=\"color: #008080; text-decoration-color: #008080; font-weight: bold\">8</span>   ┆ <span style=\"color: #008080; text-decoration-color: #008080; font-weight: bold\">2</span>     ┆ <span style=\"color: #008080; text-decoration-color: #008080; font-weight: bold\">0.575215</span>   ┆ <span style=\"font-weight: bold\">[</span>null, <span style=\"color: #008000; text-decoration-color: #008000\">\"spam\"</span><span style=\"font-weight: bold\">]</span> │\n",
       "│ C      ┆ <span style=\"color: #008080; text-decoration-color: #008080; font-weight: bold\">0</span>   ┆ <span style=\"color: #008080; text-decoration-color: #008080; font-weight: bold\">1</span>     ┆ <span style=\"color: #008080; text-decoration-color: #008080; font-weight: bold\">0.859469</span>   ┆ <span style=\"font-weight: bold\">[</span><span style=\"color: #008000; text-decoration-color: #008000\">\"egg\"</span><span style=\"font-weight: bold\">]</span>        │\n",
       "│ A      ┆ <span style=\"color: #008080; text-decoration-color: #008080; font-weight: bold\">3</span>   ┆ <span style=\"color: #008080; text-decoration-color: #008080; font-weight: bold\">2</span>     ┆ <span style=\"color: #008080; text-decoration-color: #008080; font-weight: bold\">1.057032</span>   ┆ <span style=\"font-weight: bold\">[</span><span style=\"color: #008000; text-decoration-color: #008000\">\"ham\"</span>, <span style=\"color: #008000; text-decoration-color: #008000\">\"foo\"</span><span style=\"font-weight: bold\">]</span> │\n",
       "└────────┴─────┴───────┴────────────┴────────────────┘\n",
       "</pre>\n"
      ],
      "text/plain": [
       "shape: \u001b[1m(\u001b[0m\u001b[1;36m3\u001b[0m, \u001b[1;36m5\u001b[0m\u001b[1m)\u001b[0m\n",
       "┌────────┬─────┬───────┬────────────┬────────────────┐\n",
       "│ groups ┆ nrs ┆ count ┆ random_sum ┆ reversed names │\n",
       "│ ---    ┆ --- ┆ ---   ┆ ---        ┆ ---            │\n",
       "│ str    ┆ i64 ┆ u32   ┆ f64        ┆ list\u001b[1m[\u001b[0mstr\u001b[1m]\u001b[0m      │\n",
       "╞════════╪═════╪═══════╪════════════╪════════════════╡\n",
       "│ B      ┆ \u001b[1;36m8\u001b[0m   ┆ \u001b[1;36m2\u001b[0m     ┆ \u001b[1;36m0.575215\u001b[0m   ┆ \u001b[1m[\u001b[0mnull, \u001b[32m\"spam\"\u001b[0m\u001b[1m]\u001b[0m │\n",
       "│ C      ┆ \u001b[1;36m0\u001b[0m   ┆ \u001b[1;36m1\u001b[0m     ┆ \u001b[1;36m0.859469\u001b[0m   ┆ \u001b[1m[\u001b[0m\u001b[32m\"egg\"\u001b[0m\u001b[1m]\u001b[0m        │\n",
       "│ A      ┆ \u001b[1;36m3\u001b[0m   ┆ \u001b[1;36m2\u001b[0m     ┆ \u001b[1;36m1.057032\u001b[0m   ┆ \u001b[1m[\u001b[0m\u001b[32m\"ham\"\u001b[0m, \u001b[32m\"foo\"\u001b[0m\u001b[1m]\u001b[0m │\n",
       "└────────┴─────┴───────┴────────────┴────────────────┘\n"
      ]
     },
     "metadata": {},
     "output_type": "display_data"
    }
   ],
   "source": [
    "out: pl.DataFrame = df_1.group_by(\"groups\").agg(\n",
    "    pl.sum(\"nrs\"),  # sum nrs by groups\n",
    "    pl.col(\"random\").count().alias(\"count\"),  # count group members\n",
    "    # sum random where name != null\n",
    "    pl.col(\"random\").filter(pl.col(\"names\").is_not_null()).sum().name.suffix(\"_sum\"),\n",
    "    pl.col(\"names\").reverse().alias(\"reversed names\"),\n",
    ")\n",
    "print(out)"
   ]
  },
  {
   "cell_type": "markdown",
   "metadata": {},
   "source": [
    "### Expressions\n",
    "\n",
    "```text\n",
    "- Polars has a powerful concept called expressions that is central to its very fast performance.\n",
    "- Expressions are at the core of many data science operations:\n",
    "  * taking a sample of rows from a column\n",
    "  * multiplying values in a column\n",
    "  * extracting a column of years from dates\n",
    "  * convert a column of strings to lowercase\n",
    "\n",
    "- However, expressions are also used within other operations:\n",
    "  * taking the mean of a group in a group_by operation\n",
    "  * calculating the size of groups in a group_by operation\n",
    "  * taking the sum horizontally across columns\n",
    "  * Polars performs these core data transformations very quickly by:\n",
    "\n",
    "- Polars expressions are a mapping from a series to a series (or mathematically Fn(Series) -> Series). \n",
    "- As expressions have a Series as an input and a Series as an output then it is straightforward to do a sequence of expressions (similar to method chaining in Pandas).\n",
    "```"
   ]
  },
  {
   "cell_type": "code",
   "execution_count": 15,
   "metadata": {},
   "outputs": [
    {
     "data": {
      "text/html": [
       "col(\"foo\").sort(asc).slice(offset=0, length=2)"
      ],
      "text/plain": [
       "<polars.expr.expr.Expr at 0x7f8826c004f0>"
      ]
     },
     "execution_count": 15,
     "metadata": {},
     "output_type": "execute_result"
    }
   ],
   "source": [
    "# Select column \"foo\"\n",
    "# Then sort the column (not in reversed order)\n",
    "# Then take the first two values of the sorted output\n",
    "pl.col(\"foo\").sort().head(2)"
   ]
  },
  {
   "cell_type": "code",
   "execution_count": 18,
   "metadata": {},
   "outputs": [
    {
     "data": {
      "text/html": [
       "<div><style>\n",
       ".dataframe > thead > tr > th,\n",
       ".dataframe > tbody > tr > td {\n",
       "  text-align: right;\n",
       "  white-space: pre-wrap;\n",
       "}\n",
       "</style>\n",
       "<small>shape: (5, 6)</small><table border=\"1\" class=\"dataframe\"><thead><tr><th>nrs</th><th>names</th><th>random</th><th>groups</th><th>nrs_sum</th><th>count</th></tr><tr><td>i64</td><td>str</td><td>f64</td><td>str</td><td>i64</td><td>u32</td></tr></thead><tbody><tr><td>1</td><td>&quot;foo&quot;</td><td>0.938371</td><td>&quot;A&quot;</td><td>11</td><td>5</td></tr><tr><td>2</td><td>&quot;ham&quot;</td><td>0.11866</td><td>&quot;A&quot;</td><td>11</td><td>5</td></tr><tr><td>3</td><td>&quot;spam&quot;</td><td>0.575215</td><td>&quot;B&quot;</td><td>11</td><td>5</td></tr><tr><td>null</td><td>&quot;egg&quot;</td><td>0.859469</td><td>&quot;C&quot;</td><td>11</td><td>5</td></tr><tr><td>5</td><td>null</td><td>0.020818</td><td>&quot;B&quot;</td><td>11</td><td>5</td></tr></tbody></table></div>"
      ],
      "text/plain": [
       "shape: (5, 6)\n",
       "┌──────┬───────┬──────────┬────────┬─────────┬───────┐\n",
       "│ nrs  ┆ names ┆ random   ┆ groups ┆ nrs_sum ┆ count │\n",
       "│ ---  ┆ ---   ┆ ---      ┆ ---    ┆ ---     ┆ ---   │\n",
       "│ i64  ┆ str   ┆ f64      ┆ str    ┆ i64     ┆ u32   │\n",
       "╞══════╪═══════╪══════════╪════════╪═════════╪═══════╡\n",
       "│ 1    ┆ foo   ┆ 0.938371 ┆ A      ┆ 11      ┆ 5     │\n",
       "│ 2    ┆ ham   ┆ 0.11866  ┆ A      ┆ 11      ┆ 5     │\n",
       "│ 3    ┆ spam  ┆ 0.575215 ┆ B      ┆ 11      ┆ 5     │\n",
       "│ null ┆ egg   ┆ 0.859469 ┆ C      ┆ 11      ┆ 5     │\n",
       "│ 5    ┆ null  ┆ 0.020818 ┆ B      ┆ 11      ┆ 5     │\n",
       "└──────┴───────┴──────────┴────────┴─────────┴───────┘"
      ]
     },
     "execution_count": 18,
     "metadata": {},
     "output_type": "execute_result"
    }
   ],
   "source": [
    "df_1"
   ]
  },
  {
   "cell_type": "code",
   "execution_count": 19,
   "metadata": {},
   "outputs": [
    {
     "data": {
      "text/html": [
       "<div><style>\n",
       ".dataframe > thead > tr > th,\n",
       ".dataframe > tbody > tr > td {\n",
       "  text-align: right;\n",
       "  white-space: pre-wrap;\n",
       "}\n",
       "</style>\n",
       "<small>shape: (5, 4)</small><table border=\"1\" class=\"dataframe\"><thead><tr><th>nrs</th><th>names</th><th>random</th><th>groups</th></tr><tr><td>i64</td><td>str</td><td>f64</td><td>str</td></tr></thead><tbody><tr><td>1</td><td>&quot;foo&quot;</td><td>0.938371</td><td>&quot;A&quot;</td></tr><tr><td>2</td><td>&quot;ham&quot;</td><td>0.11866</td><td>&quot;A&quot;</td></tr><tr><td>3</td><td>&quot;spam&quot;</td><td>0.575215</td><td>&quot;B&quot;</td></tr><tr><td>null</td><td>&quot;egg&quot;</td><td>0.859469</td><td>&quot;C&quot;</td></tr><tr><td>5</td><td>null</td><td>0.020818</td><td>&quot;B&quot;</td></tr></tbody></table></div>"
      ],
      "text/plain": [
       "shape: (5, 4)\n",
       "┌──────┬───────┬──────────┬────────┐\n",
       "│ nrs  ┆ names ┆ random   ┆ groups │\n",
       "│ ---  ┆ ---   ┆ ---      ┆ ---    │\n",
       "│ i64  ┆ str   ┆ f64      ┆ str    │\n",
       "╞══════╪═══════╪══════════╪════════╡\n",
       "│ 1    ┆ foo   ┆ 0.938371 ┆ A      │\n",
       "│ 2    ┆ ham   ┆ 0.11866  ┆ A      │\n",
       "│ 3    ┆ spam  ┆ 0.575215 ┆ B      │\n",
       "│ null ┆ egg   ┆ 0.859469 ┆ C      │\n",
       "│ 5    ┆ null  ┆ 0.020818 ┆ B      │\n",
       "└──────┴───────┴──────────┴────────┘"
      ]
     },
     "execution_count": 19,
     "metadata": {},
     "output_type": "execute_result"
    }
   ],
   "source": [
    "df"
   ]
  },
  {
   "cell_type": "markdown",
   "metadata": {},
   "source": [
    "### [Lazy Vs Eager API](https://pola-rs.github.io/polars/user-guide/concepts/lazy-vs-eager/)"
   ]
  },
  {
   "cell_type": "code",
   "execution_count": 21,
   "metadata": {},
   "outputs": [
    {
     "ename": "AttributeError",
     "evalue": "module 'polars' has no attribute 'set_option'",
     "output_type": "error",
     "traceback": [
      "\u001b[0;31m---------------------------------------------------------------------------\u001b[0m",
      "\u001b[0;31mAttributeError\u001b[0m                            Traceback (most recent call last)",
      "\u001b[1;32m/Users/neidu/Desktop/Projects/Personal/My_Projects/NLP-Tutorial/notebook/polars_df/01_intro.ipynb Cell 22\u001b[0m line \u001b[0;36m2\n\u001b[1;32m      <a href='vscode-notebook-cell:/Users/neidu/Desktop/Projects/Personal/My_Projects/NLP-Tutorial/notebook/polars_df/01_intro.ipynb#X51sZmlsZQ%3D%3D?line=0'>1</a>\u001b[0m \u001b[39m# Polars settings\u001b[39;00m\n\u001b[0;32m----> <a href='vscode-notebook-cell:/Users/neidu/Desktop/Projects/Personal/My_Projects/NLP-Tutorial/notebook/polars_df/01_intro.ipynb#X51sZmlsZQ%3D%3D?line=1'>2</a>\u001b[0m pl\u001b[39m.\u001b[39;49mset_option(\u001b[39m\"\u001b[39m\u001b[39mmax_rows\u001b[39m\u001b[39m\"\u001b[39m, \u001b[39m1000\u001b[39m)\n\u001b[1;32m      <a href='vscode-notebook-cell:/Users/neidu/Desktop/Projects/Personal/My_Projects/NLP-Tutorial/notebook/polars_df/01_intro.ipynb#X51sZmlsZQ%3D%3D?line=2'>3</a>\u001b[0m pl\u001b[39m.\u001b[39mset_option(\u001b[39m\"\u001b[39m\u001b[39mmax_columns\u001b[39m\u001b[39m\"\u001b[39m, \u001b[39m1000\u001b[39m)\n\u001b[1;32m      <a href='vscode-notebook-cell:/Users/neidu/Desktop/Projects/Personal/My_Projects/NLP-Tutorial/notebook/polars_df/01_intro.ipynb#X51sZmlsZQ%3D%3D?line=3'>4</a>\u001b[0m pl\u001b[39m.\u001b[39mset_option(\u001b[39m\"\u001b[39m\u001b[39mmax_colwidth\u001b[39m\u001b[39m\"\u001b[39m, \u001b[39m600\u001b[39m)\n",
      "\u001b[0;31mAttributeError\u001b[0m: module 'polars' has no attribute 'set_option'"
     ]
    }
   ],
   "source": [
    "# Polars settings\n",
    "pl.set_option(\"max_rows\", 1000)\n",
    "pl.set_option(\"max_columns\", 1000)\n",
    "pl.set_option(\"max_colwidth\", 600)"
   ]
  },
  {
   "cell_type": "code",
   "execution_count": 30,
   "metadata": {},
   "outputs": [
    {
     "data": {
      "text/html": [
       "<pre style=\"white-space:pre;overflow-x:auto;line-height:normal;font-family:Menlo,'DejaVu Sans Mono',consolas,'Courier New',monospace\">shape: <span style=\"font-weight: bold\">(</span><span style=\"color: #008080; text-decoration-color: #008080; font-weight: bold\">5</span>, <span style=\"color: #008080; text-decoration-color: #008080; font-weight: bold\">15</span><span style=\"font-weight: bold\">)</span>\n",
       "┌───────────┬───────────┬───────────┬───────────┬───┬───────────┬───────────┬───────────┬──────────┐\n",
       "│ tweet_id  ┆ airline_s ┆ airline_s ┆ negativer ┆ … ┆ tweet_coo ┆ tweet_cre ┆ tweet_loc ┆ user_tim │\n",
       "│ <span style=\"font-weight: bold\">(</span>i64<span style=\"font-weight: bold\">)</span>     ┆ entiment  ┆ entiment_ ┆ eason     ┆   ┆ rd <span style=\"font-weight: bold\">(</span>str<span style=\"font-weight: bold\">)</span>  ┆ ated      ┆ ation     ┆ ezone    │\n",
       "│           ┆ <span style=\"font-weight: bold\">(</span>str<span style=\"font-weight: bold\">)</span>     ┆ confidenc ┆ <span style=\"font-weight: bold\">(</span>str<span style=\"font-weight: bold\">)</span>     ┆   ┆           ┆ <span style=\"font-weight: bold\">(</span>str<span style=\"font-weight: bold\">)</span>     ┆ <span style=\"font-weight: bold\">(</span>str<span style=\"font-weight: bold\">)</span>     ┆ <span style=\"font-weight: bold\">(</span>str<span style=\"font-weight: bold\">)</span>    │\n",
       "│           ┆           ┆ e <span style=\"font-weight: bold\">(</span>f64<span style=\"font-weight: bold\">)</span>   ┆           ┆   ┆           ┆           ┆           ┆          │\n",
       "╞═══════════╪═══════════╪═══════════╪═══════════╪═══╪═══════════╪═══════════╪═══════════╪══════════╡\n",
       "│ <span style=\"color: #008080; text-decoration-color: #008080; font-weight: bold\">570306133</span> ┆ neutral   ┆ <span style=\"color: #008080; text-decoration-color: #008080; font-weight: bold\">1.0</span>       ┆ null      ┆ … ┆ null      ┆ <span style=\"color: #008080; text-decoration-color: #008080; font-weight: bold\">2015</span>-<span style=\"color: #008080; text-decoration-color: #008080; font-weight: bold\">02</span>-<span style=\"color: #008080; text-decoration-color: #008080; font-weight: bold\">2</span> ┆ null      ┆ Eastern  │\n",
       "│ <span style=\"color: #008080; text-decoration-color: #008080; font-weight: bold\">677760513</span> ┆           ┆           ┆           ┆   ┆           ┆ <span style=\"color: #008080; text-decoration-color: #008080; font-weight: bold\">4</span>         ┆           ┆ Time <span style=\"font-weight: bold\">(</span>US │\n",
       "│           ┆           ┆           ┆           ┆   ┆           ┆ <span style=\"color: #00ff00; text-decoration-color: #00ff00; font-weight: bold\">11:35:52</span>  ┆           ┆ &amp;        │\n",
       "│           ┆           ┆           ┆           ┆   ┆           ┆ <span style=\"color: #008080; text-decoration-color: #008080; font-weight: bold\">-0800</span>     ┆           ┆ Canada<span style=\"font-weight: bold\">)</span>  │\n",
       "│ <span style=\"color: #008080; text-decoration-color: #008080; font-weight: bold\">570301130</span> ┆ positive  ┆ <span style=\"color: #008080; text-decoration-color: #008080; font-weight: bold\">0.3486</span>    ┆ null      ┆ … ┆ null      ┆ <span style=\"color: #008080; text-decoration-color: #008080; font-weight: bold\">2015</span>-<span style=\"color: #008080; text-decoration-color: #008080; font-weight: bold\">02</span>-<span style=\"color: #008080; text-decoration-color: #008080; font-weight: bold\">2</span> ┆ null      ┆ Pacific  │\n",
       "│ <span style=\"color: #008080; text-decoration-color: #008080; font-weight: bold\">888122368</span> ┆           ┆           ┆           ┆   ┆           ┆ <span style=\"color: #008080; text-decoration-color: #008080; font-weight: bold\">4</span>         ┆           ┆ Time <span style=\"font-weight: bold\">(</span>US │\n",
       "│           ┆           ┆           ┆           ┆   ┆           ┆ <span style=\"color: #00ff00; text-decoration-color: #00ff00; font-weight: bold\">11:15:59</span>  ┆           ┆ &amp;        │\n",
       "│           ┆           ┆           ┆           ┆   ┆           ┆ <span style=\"color: #008080; text-decoration-color: #008080; font-weight: bold\">-0800</span>     ┆           ┆ Canada<span style=\"font-weight: bold\">)</span>  │\n",
       "│ <span style=\"color: #008080; text-decoration-color: #008080; font-weight: bold\">570301083</span> ┆ neutral   ┆ <span style=\"color: #008080; text-decoration-color: #008080; font-weight: bold\">0.6837</span>    ┆ null      ┆ … ┆ null      ┆ <span style=\"color: #008080; text-decoration-color: #008080; font-weight: bold\">2015</span>-<span style=\"color: #008080; text-decoration-color: #008080; font-weight: bold\">02</span>-<span style=\"color: #008080; text-decoration-color: #008080; font-weight: bold\">2</span> ┆ Lets Play ┆ Central  │\n",
       "│ <span style=\"color: #008080; text-decoration-color: #008080; font-weight: bold\">672813571</span> ┆           ┆           ┆           ┆   ┆           ┆ <span style=\"color: #008080; text-decoration-color: #008080; font-weight: bold\">4</span>         ┆           ┆ Time <span style=\"font-weight: bold\">(</span>US │\n",
       "│           ┆           ┆           ┆           ┆   ┆           ┆ <span style=\"color: #00ff00; text-decoration-color: #00ff00; font-weight: bold\">11:15:48</span>  ┆           ┆ &amp;        │\n",
       "│           ┆           ┆           ┆           ┆   ┆           ┆ <span style=\"color: #008080; text-decoration-color: #008080; font-weight: bold\">-0800</span>     ┆           ┆ Canada<span style=\"font-weight: bold\">)</span>  │\n",
       "│ <span style=\"color: #008080; text-decoration-color: #008080; font-weight: bold\">570301031</span> ┆ negative  ┆ <span style=\"color: #008080; text-decoration-color: #008080; font-weight: bold\">1.0</span>       ┆ Bad       ┆ … ┆ null      ┆ <span style=\"color: #008080; text-decoration-color: #008080; font-weight: bold\">2015</span>-<span style=\"color: #008080; text-decoration-color: #008080; font-weight: bold\">02</span>-<span style=\"color: #008080; text-decoration-color: #008080; font-weight: bold\">2</span> ┆ null      ┆ Pacific  │\n",
       "│ <span style=\"color: #008080; text-decoration-color: #008080; font-weight: bold\">407624196</span> ┆           ┆           ┆ Flight    ┆   ┆           ┆ <span style=\"color: #008080; text-decoration-color: #008080; font-weight: bold\">4</span>         ┆           ┆ Time <span style=\"font-weight: bold\">(</span>US │\n",
       "│           ┆           ┆           ┆           ┆   ┆           ┆ <span style=\"color: #00ff00; text-decoration-color: #00ff00; font-weight: bold\">11:15:36</span>  ┆           ┆ &amp;        │\n",
       "│           ┆           ┆           ┆           ┆   ┆           ┆ <span style=\"color: #008080; text-decoration-color: #008080; font-weight: bold\">-0800</span>     ┆           ┆ Canada<span style=\"font-weight: bold\">)</span>  │\n",
       "│ <span style=\"color: #008080; text-decoration-color: #008080; font-weight: bold\">570300817</span> ┆ negative  ┆ <span style=\"color: #008080; text-decoration-color: #008080; font-weight: bold\">1.0</span>       ┆ Can't     ┆ … ┆ null      ┆ <span style=\"color: #008080; text-decoration-color: #008080; font-weight: bold\">2015</span>-<span style=\"color: #008080; text-decoration-color: #008080; font-weight: bold\">02</span>-<span style=\"color: #008080; text-decoration-color: #008080; font-weight: bold\">2</span> ┆ null      ┆ Pacific  │\n",
       "│ <span style=\"color: #008080; text-decoration-color: #008080; font-weight: bold\">074462722</span> ┆           ┆           ┆ Tell      ┆   ┆           ┆ <span style=\"color: #008080; text-decoration-color: #008080; font-weight: bold\">4</span>         ┆           ┆ Time <span style=\"font-weight: bold\">(</span>US │\n",
       "│           ┆           ┆           ┆           ┆   ┆           ┆ <span style=\"color: #00ff00; text-decoration-color: #00ff00; font-weight: bold\">11:14:45</span>  ┆           ┆ &amp;        │\n",
       "│           ┆           ┆           ┆           ┆   ┆           ┆ <span style=\"color: #008080; text-decoration-color: #008080; font-weight: bold\">-0800</span>     ┆           ┆ Canada<span style=\"font-weight: bold\">)</span>  │\n",
       "└───────────┴───────────┴───────────┴───────────┴───┴───────────┴───────────┴───────────┴──────────┘\n",
       "</pre>\n"
      ],
      "text/plain": [
       "shape: \u001b[1m(\u001b[0m\u001b[1;36m5\u001b[0m, \u001b[1;36m15\u001b[0m\u001b[1m)\u001b[0m\n",
       "┌───────────┬───────────┬───────────┬───────────┬───┬───────────┬───────────┬───────────┬──────────┐\n",
       "│ tweet_id  ┆ airline_s ┆ airline_s ┆ negativer ┆ … ┆ tweet_coo ┆ tweet_cre ┆ tweet_loc ┆ user_tim │\n",
       "│ \u001b[1m(\u001b[0mi64\u001b[1m)\u001b[0m     ┆ entiment  ┆ entiment_ ┆ eason     ┆   ┆ rd \u001b[1m(\u001b[0mstr\u001b[1m)\u001b[0m  ┆ ated      ┆ ation     ┆ ezone    │\n",
       "│           ┆ \u001b[1m(\u001b[0mstr\u001b[1m)\u001b[0m     ┆ confidenc ┆ \u001b[1m(\u001b[0mstr\u001b[1m)\u001b[0m     ┆   ┆           ┆ \u001b[1m(\u001b[0mstr\u001b[1m)\u001b[0m     ┆ \u001b[1m(\u001b[0mstr\u001b[1m)\u001b[0m     ┆ \u001b[1m(\u001b[0mstr\u001b[1m)\u001b[0m    │\n",
       "│           ┆           ┆ e \u001b[1m(\u001b[0mf64\u001b[1m)\u001b[0m   ┆           ┆   ┆           ┆           ┆           ┆          │\n",
       "╞═══════════╪═══════════╪═══════════╪═══════════╪═══╪═══════════╪═══════════╪═══════════╪══════════╡\n",
       "│ \u001b[1;36m570306133\u001b[0m ┆ neutral   ┆ \u001b[1;36m1.0\u001b[0m       ┆ null      ┆ … ┆ null      ┆ \u001b[1;36m2015\u001b[0m-\u001b[1;36m02\u001b[0m-\u001b[1;36m2\u001b[0m ┆ null      ┆ Eastern  │\n",
       "│ \u001b[1;36m677760513\u001b[0m ┆           ┆           ┆           ┆   ┆           ┆ \u001b[1;36m4\u001b[0m         ┆           ┆ Time \u001b[1m(\u001b[0mUS │\n",
       "│           ┆           ┆           ┆           ┆   ┆           ┆ \u001b[1;92m11:35:52\u001b[0m  ┆           ┆ &        │\n",
       "│           ┆           ┆           ┆           ┆   ┆           ┆ \u001b[1;36m-0800\u001b[0m     ┆           ┆ Canada\u001b[1m)\u001b[0m  │\n",
       "│ \u001b[1;36m570301130\u001b[0m ┆ positive  ┆ \u001b[1;36m0.3486\u001b[0m    ┆ null      ┆ … ┆ null      ┆ \u001b[1;36m2015\u001b[0m-\u001b[1;36m02\u001b[0m-\u001b[1;36m2\u001b[0m ┆ null      ┆ Pacific  │\n",
       "│ \u001b[1;36m888122368\u001b[0m ┆           ┆           ┆           ┆   ┆           ┆ \u001b[1;36m4\u001b[0m         ┆           ┆ Time \u001b[1m(\u001b[0mUS │\n",
       "│           ┆           ┆           ┆           ┆   ┆           ┆ \u001b[1;92m11:15:59\u001b[0m  ┆           ┆ &        │\n",
       "│           ┆           ┆           ┆           ┆   ┆           ┆ \u001b[1;36m-0800\u001b[0m     ┆           ┆ Canada\u001b[1m)\u001b[0m  │\n",
       "│ \u001b[1;36m570301083\u001b[0m ┆ neutral   ┆ \u001b[1;36m0.6837\u001b[0m    ┆ null      ┆ … ┆ null      ┆ \u001b[1;36m2015\u001b[0m-\u001b[1;36m02\u001b[0m-\u001b[1;36m2\u001b[0m ┆ Lets Play ┆ Central  │\n",
       "│ \u001b[1;36m672813571\u001b[0m ┆           ┆           ┆           ┆   ┆           ┆ \u001b[1;36m4\u001b[0m         ┆           ┆ Time \u001b[1m(\u001b[0mUS │\n",
       "│           ┆           ┆           ┆           ┆   ┆           ┆ \u001b[1;92m11:15:48\u001b[0m  ┆           ┆ &        │\n",
       "│           ┆           ┆           ┆           ┆   ┆           ┆ \u001b[1;36m-0800\u001b[0m     ┆           ┆ Canada\u001b[1m)\u001b[0m  │\n",
       "│ \u001b[1;36m570301031\u001b[0m ┆ negative  ┆ \u001b[1;36m1.0\u001b[0m       ┆ Bad       ┆ … ┆ null      ┆ \u001b[1;36m2015\u001b[0m-\u001b[1;36m02\u001b[0m-\u001b[1;36m2\u001b[0m ┆ null      ┆ Pacific  │\n",
       "│ \u001b[1;36m407624196\u001b[0m ┆           ┆           ┆ Flight    ┆   ┆           ┆ \u001b[1;36m4\u001b[0m         ┆           ┆ Time \u001b[1m(\u001b[0mUS │\n",
       "│           ┆           ┆           ┆           ┆   ┆           ┆ \u001b[1;92m11:15:36\u001b[0m  ┆           ┆ &        │\n",
       "│           ┆           ┆           ┆           ┆   ┆           ┆ \u001b[1;36m-0800\u001b[0m     ┆           ┆ Canada\u001b[1m)\u001b[0m  │\n",
       "│ \u001b[1;36m570300817\u001b[0m ┆ negative  ┆ \u001b[1;36m1.0\u001b[0m       ┆ Can't     ┆ … ┆ null      ┆ \u001b[1;36m2015\u001b[0m-\u001b[1;36m02\u001b[0m-\u001b[1;36m2\u001b[0m ┆ null      ┆ Pacific  │\n",
       "│ \u001b[1;36m074462722\u001b[0m ┆           ┆           ┆ Tell      ┆   ┆           ┆ \u001b[1;36m4\u001b[0m         ┆           ┆ Time \u001b[1m(\u001b[0mUS │\n",
       "│           ┆           ┆           ┆           ┆   ┆           ┆ \u001b[1;92m11:14:45\u001b[0m  ┆           ┆ &        │\n",
       "│           ┆           ┆           ┆           ┆   ┆           ┆ \u001b[1;36m-0800\u001b[0m     ┆           ┆ Canada\u001b[1m)\u001b[0m  │\n",
       "└───────────┴───────────┴───────────┴───────────┴───┴───────────┴───────────┴───────────┴──────────┘\n"
      ]
     },
     "metadata": {},
     "output_type": "display_data"
    }
   ],
   "source": [
    "fp: str = \"../../data/AirlineTweets.csv\"\n",
    "df: pl.DataFrame = pl.read_csv(fp)\n",
    "pl.Config.set_tbl_column_data_type_inline(True)\n",
    "N: int = 8\n",
    "with pl.Config(tbl_cols=N):  # display N columns\n",
    "    print(df.head())"
   ]
  },
  {
   "cell_type": "code",
   "execution_count": 31,
   "metadata": {},
   "outputs": [
    {
     "data": {
      "text/html": [
       "<div><style>\n",
       ".dataframe > thead > tr > th,\n",
       ".dataframe > tbody > tr > td {\n",
       "  text-align: right;\n",
       "  white-space: pre-wrap;\n",
       "}\n",
       "</style>\n",
       "<small>shape: (9, 16)</small><table border=\"1\" class=\"dataframe\"><thead><tr><th>describe</th><th>tweet_id</th><th>airline_sentiment</th><th>airline_sentiment_confidence</th><th>negativereason</th><th>negativereason_confidence</th><th>airline</th><th>airline_sentiment_gold</th><th>name</th><th>negativereason_gold</th><th>retweet_count</th><th>text</th><th>tweet_coord</th><th>tweet_created</th><th>tweet_location</th><th>user_timezone</th></tr><tr><td>str</td><td>f64</td><td>str</td><td>f64</td><td>str</td><td>f64</td><td>str</td><td>str</td><td>str</td><td>str</td><td>f64</td><td>str</td><td>str</td><td>str</td><td>str</td><td>str</td></tr></thead><tbody><tr><td>&quot;count&quot;</td><td>14640.0</td><td>&quot;14640&quot;</td><td>14640.0</td><td>&quot;14640&quot;</td><td>14640.0</td><td>&quot;14640&quot;</td><td>&quot;14640&quot;</td><td>&quot;14640&quot;</td><td>&quot;14640&quot;</td><td>14640.0</td><td>&quot;14640&quot;</td><td>&quot;14640&quot;</td><td>&quot;14640&quot;</td><td>&quot;14640&quot;</td><td>&quot;14640&quot;</td></tr><tr><td>&quot;null_count&quot;</td><td>0.0</td><td>&quot;0&quot;</td><td>0.0</td><td>&quot;5462&quot;</td><td>4118.0</td><td>&quot;0&quot;</td><td>&quot;14600&quot;</td><td>&quot;0&quot;</td><td>&quot;14608&quot;</td><td>0.0</td><td>&quot;0&quot;</td><td>&quot;13621&quot;</td><td>&quot;0&quot;</td><td>&quot;4733&quot;</td><td>&quot;4820&quot;</td></tr><tr><td>&quot;mean&quot;</td><td>5.6922e17</td><td>null</td><td>0.900169</td><td>null</td><td>0.638298</td><td>null</td><td>null</td><td>null</td><td>null</td><td>0.08265</td><td>null</td><td>null</td><td>null</td><td>null</td><td>null</td></tr><tr><td>&quot;std&quot;</td><td>7.7911e14</td><td>null</td><td>0.16283</td><td>null</td><td>0.33044</td><td>null</td><td>null</td><td>null</td><td>null</td><td>0.745778</td><td>null</td><td>null</td><td>null</td><td>null</td><td>null</td></tr><tr><td>&quot;min&quot;</td><td>5.6759e17</td><td>&quot;negative&quot;</td><td>0.335</td><td>&quot;Bad Flight&quot;</td><td>0.0</td><td>&quot;American&quot;</td><td>&quot;negative&quot;</td><td>&quot;0504Traveller&quot;</td><td>&quot;Bad Flight&quot;</td><td>0.0</td><td>&quot;&quot;LOL you guys …</td><td>&quot;[-33.87144962,…</td><td>&quot;2015-02-16 23:…</td><td>&quot;  || san anton…</td><td>&quot;Abu Dhabi&quot;</td></tr><tr><td>&quot;25%&quot;</td><td>5.6856e17</td><td>null</td><td>0.6923</td><td>null</td><td>0.3606</td><td>null</td><td>null</td><td>null</td><td>null</td><td>0.0</td><td>null</td><td>null</td><td>null</td><td>null</td><td>null</td></tr><tr><td>&quot;50%&quot;</td><td>5.6948e17</td><td>null</td><td>1.0</td><td>null</td><td>0.6706</td><td>null</td><td>null</td><td>null</td><td>null</td><td>0.0</td><td>null</td><td>null</td><td>null</td><td>null</td><td>null</td></tr><tr><td>&quot;75%&quot;</td><td>5.6989e17</td><td>null</td><td>1.0</td><td>null</td><td>1.0</td><td>null</td><td>null</td><td>null</td><td>null</td><td>0.0</td><td>null</td><td>null</td><td>null</td><td>null</td><td>null</td></tr><tr><td>&quot;max&quot;</td><td>5.7031e17</td><td>&quot;positive&quot;</td><td>1.0</td><td>&quot;longlines&quot;</td><td>1.0</td><td>&quot;Virgin America…</td><td>&quot;positive&quot;</td><td>&quot;zupshawrl&quot;</td><td>&quot;Lost Luggage\n",
       "D…</td><td>44.0</td><td>&quot;😳 LOLOLOLOLOL …</td><td>&quot;[59.38247253, …</td><td>&quot;2015-02-24 11:…</td><td>&quot;명동서식 37.56638,…</td><td>&quot;West Central A…</td></tr></tbody></table></div>"
      ],
      "text/plain": [
       "shape: (9, 16)\n",
       "┌───────────┬───────────┬───────────┬───────────┬───┬───────────┬───────────┬───────────┬──────────┐\n",
       "│ describe  ┆ tweet_id  ┆ airline_s ┆ airline_s ┆ … ┆ tweet_coo ┆ tweet_cre ┆ tweet_loc ┆ user_tim │\n",
       "│ (str)     ┆ (f64)     ┆ entiment  ┆ entiment_ ┆   ┆ rd (str)  ┆ ated      ┆ ation     ┆ ezone    │\n",
       "│           ┆           ┆ (str)     ┆ confidenc ┆   ┆           ┆ (str)     ┆ (str)     ┆ (str)    │\n",
       "│           ┆           ┆           ┆ e (f64)   ┆   ┆           ┆           ┆           ┆          │\n",
       "╞═══════════╪═══════════╪═══════════╪═══════════╪═══╪═══════════╪═══════════╪═══════════╪══════════╡\n",
       "│ count     ┆ 14640.0   ┆ 14640     ┆ 14640.0   ┆ … ┆ 14640     ┆ 14640     ┆ 14640     ┆ 14640    │\n",
       "│ null_coun ┆ 0.0       ┆ 0         ┆ 0.0       ┆ … ┆ 13621     ┆ 0         ┆ 4733      ┆ 4820     │\n",
       "│ t         ┆           ┆           ┆           ┆   ┆           ┆           ┆           ┆          │\n",
       "│ mean      ┆ 5.6922e17 ┆ null      ┆ 0.900169  ┆ … ┆ null      ┆ null      ┆ null      ┆ null     │\n",
       "│ std       ┆ 7.7911e14 ┆ null      ┆ 0.16283   ┆ … ┆ null      ┆ null      ┆ null      ┆ null     │\n",
       "│ min       ┆ 5.6759e17 ┆ negative  ┆ 0.335     ┆ … ┆ [-33.8714 ┆ 2015-02-1 ┆ || san    ┆ Abu      │\n",
       "│           ┆           ┆           ┆           ┆   ┆ 4962, 151 ┆ 6         ┆ antonio,  ┆ Dhabi    │\n",
       "│           ┆           ┆           ┆           ┆   ┆ .20821275 ┆ 23:36:05  ┆ texas||   ┆          │\n",
       "│           ┆           ┆           ┆           ┆   ┆ ]         ┆ -0800     ┆           ┆          │\n",
       "│ 25%       ┆ 5.6856e17 ┆ null      ┆ 0.6923    ┆ … ┆ null      ┆ null      ┆ null      ┆ null     │\n",
       "│ 50%       ┆ 5.6948e17 ┆ null      ┆ 1.0       ┆ … ┆ null      ┆ null      ┆ null      ┆ null     │\n",
       "│ 75%       ┆ 5.6989e17 ┆ null      ┆ 1.0       ┆ … ┆ null      ┆ null      ┆ null      ┆ null     │\n",
       "│ max       ┆ 5.7031e17 ┆ positive  ┆ 1.0       ┆ … ┆ [59.38247 ┆ 2015-02-2 ┆ 명동서식  ┆ West     │\n",
       "│           ┆           ┆           ┆           ┆   ┆ 253, 18.0 ┆ 4         ┆ 37.56638, ┆ Central  │\n",
       "│           ┆           ┆           ┆           ┆   ┆ 0789007]  ┆ 11:53:37  ┆ 126.98499 ┆ Africa   │\n",
       "│           ┆           ┆           ┆           ┆   ┆           ┆ -0800     ┆ 4         ┆          │\n",
       "└───────────┴───────────┴───────────┴───────────┴───┴───────────┴───────────┴───────────┴──────────┘"
      ]
     },
     "execution_count": 31,
     "metadata": {},
     "output_type": "execute_result"
    }
   ],
   "source": [
    "df.describe()"
   ]
  },
  {
   "cell_type": "code",
   "execution_count": 32,
   "metadata": {},
   "outputs": [
    {
     "data": {
      "text/html": [
       "<pre style=\"white-space:pre;overflow-x:auto;line-height:normal;font-family:Menlo,'DejaVu Sans Mono',consolas,'Courier New',monospace\">shape: <span style=\"font-weight: bold\">(</span><span style=\"color: #008080; text-decoration-color: #008080; font-weight: bold\">11</span>, <span style=\"color: #008080; text-decoration-color: #008080; font-weight: bold\">2</span><span style=\"font-weight: bold\">)</span>\n",
       "┌─────────────────────────────┬─────────────────────┐\n",
       "│ negativereason <span style=\"font-weight: bold\">(</span>str<span style=\"font-weight: bold\">)</span>        ┆ retweet_count <span style=\"font-weight: bold\">(</span>f64<span style=\"font-weight: bold\">)</span> │\n",
       "╞═════════════════════════════╪═════════════════════╡\n",
       "│ longlines                   ┆ <span style=\"color: #008080; text-decoration-color: #008080; font-weight: bold\">0.050562</span>            │\n",
       "│ null                        ┆ <span style=\"color: #008080; text-decoration-color: #008080; font-weight: bold\">0.065797</span>            │\n",
       "│ Flight Attendant Complaints ┆ <span style=\"color: #008080; text-decoration-color: #008080; font-weight: bold\">0.090336</span>            │\n",
       "│ Flight Booking Problems     ┆ <span style=\"color: #008080; text-decoration-color: #008080; font-weight: bold\">0.080614</span>            │\n",
       "│ …                           ┆ …                   │\n",
       "│ Customer Service Issue      ┆ <span style=\"color: #008080; text-decoration-color: #008080; font-weight: bold\">0.076128</span>            │\n",
       "│ Cancelled Flight            ┆ <span style=\"color: #008080; text-decoration-color: #008080; font-weight: bold\">0.07346</span>             │\n",
       "│ Can't Tell                  ┆ <span style=\"color: #008080; text-decoration-color: #008080; font-weight: bold\">0.187983</span>            │\n",
       "│ Late Flight                 ┆ <span style=\"color: #008080; text-decoration-color: #008080; font-weight: bold\">0.093656</span>            │\n",
       "└─────────────────────────────┴─────────────────────┘\n",
       "</pre>\n"
      ],
      "text/plain": [
       "shape: \u001b[1m(\u001b[0m\u001b[1;36m11\u001b[0m, \u001b[1;36m2\u001b[0m\u001b[1m)\u001b[0m\n",
       "┌─────────────────────────────┬─────────────────────┐\n",
       "│ negativereason \u001b[1m(\u001b[0mstr\u001b[1m)\u001b[0m        ┆ retweet_count \u001b[1m(\u001b[0mf64\u001b[1m)\u001b[0m │\n",
       "╞═════════════════════════════╪═════════════════════╡\n",
       "│ longlines                   ┆ \u001b[1;36m0.050562\u001b[0m            │\n",
       "│ null                        ┆ \u001b[1;36m0.065797\u001b[0m            │\n",
       "│ Flight Attendant Complaints ┆ \u001b[1;36m0.090336\u001b[0m            │\n",
       "│ Flight Booking Problems     ┆ \u001b[1;36m0.080614\u001b[0m            │\n",
       "│ …                           ┆ …                   │\n",
       "│ Customer Service Issue      ┆ \u001b[1;36m0.076128\u001b[0m            │\n",
       "│ Cancelled Flight            ┆ \u001b[1;36m0.07346\u001b[0m             │\n",
       "│ Can't Tell                  ┆ \u001b[1;36m0.187983\u001b[0m            │\n",
       "│ Late Flight                 ┆ \u001b[1;36m0.093656\u001b[0m            │\n",
       "└─────────────────────────────┴─────────────────────┘\n"
      ]
     },
     "metadata": {},
     "output_type": "display_data"
    }
   ],
   "source": [
    "VALUE: float = 0.567\n",
    "df_small: pl.DataFrame = df.filter(pl.col(\"airline_sentiment_confidence\") > VALUE)\n",
    "df_agg: pl.DataFrame = df_small.group_by(\"negativereason\").agg(\n",
    "    pl.col(\"retweet_count\").mean()\n",
    ")\n",
    "print(df_agg)"
   ]
  },
  {
   "cell_type": "code",
   "execution_count": null,
   "metadata": {},
   "outputs": [],
   "source": []
  },
  {
   "cell_type": "code",
   "execution_count": null,
   "metadata": {},
   "outputs": [],
   "source": []
  },
  {
   "cell_type": "code",
   "execution_count": null,
   "metadata": {},
   "outputs": [],
   "source": []
  },
  {
   "cell_type": "code",
   "execution_count": null,
   "metadata": {},
   "outputs": [],
   "source": []
  },
  {
   "cell_type": "code",
   "execution_count": null,
   "metadata": {},
   "outputs": [],
   "source": []
  },
  {
   "cell_type": "code",
   "execution_count": null,
   "metadata": {},
   "outputs": [],
   "source": []
  },
  {
   "cell_type": "code",
   "execution_count": null,
   "metadata": {},
   "outputs": [],
   "source": []
  },
  {
   "cell_type": "code",
   "execution_count": null,
   "metadata": {},
   "outputs": [],
   "source": []
  }
 ],
 "metadata": {
  "kernelspec": {
   "display_name": "nlp_p310",
   "language": "python",
   "name": "python3"
  },
  "language_info": {
   "codemirror_mode": {
    "name": "ipython",
    "version": 3
   },
   "file_extension": ".py",
   "mimetype": "text/x-python",
   "name": "python",
   "nbconvert_exporter": "python",
   "pygments_lexer": "ipython3",
   "version": "3.10.9"
  }
 },
 "nbformat": 4,
 "nbformat_minor": 2
}
