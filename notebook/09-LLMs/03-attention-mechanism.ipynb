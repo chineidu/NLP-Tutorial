{
 "cells": [
  {
   "cell_type": "markdown",
   "metadata": {},
   "source": [
    "# Attention Mechanism\n",
    "\n"
   ]
  },
  {
   "cell_type": "code",
   "execution_count": null,
   "metadata": {},
   "outputs": [],
   "source": [
    "%load_ext watermark\n",
    "%watermark -v -p numpy,pandas,polars,torch,lightning --conda"
   ]
  },
  {
   "cell_type": "code",
   "execution_count": null,
   "metadata": {},
   "outputs": [],
   "source": [
    "# Built-in library\n",
    "from pathlib import Path\n",
    "import re\n",
    "import json\n",
    "from typing import Any, Optional, Union\n",
    "import logging\n",
    "import warnings\n",
    "\n",
    "# Standard imports\n",
    "import numpy as np\n",
    "import numpy.typing as npt\n",
    "from pprint import pprint\n",
    "import pandas as pd\n",
    "import polars as pl\n",
    "from rich.console import Console\n",
    "from rich.theme import Theme\n",
    "\n",
    "custom_theme = Theme(\n",
    "    {\n",
    "        \"info\": \"#76FF7B\",\n",
    "        \"warning\": \"#FBDDFE\",\n",
    "        \"error\": \"#FF0000\",\n",
    "    }\n",
    ")\n",
    "console = Console(theme=custom_theme)\n",
    "\n",
    "# Visualization\n",
    "import matplotlib.pyplot as plt\n",
    "\n",
    "\n",
    "# Pandas settings\n",
    "pd.options.display.max_rows = 1_000\n",
    "pd.options.display.max_columns = 1_000\n",
    "pd.options.display.max_colwidth = 600\n",
    "\n",
    "warnings.filterwarnings(\"ignore\")\n",
    "\n",
    "\n",
    "# Black code formatter (Optional)\n",
    "%load_ext lab_black\n",
    "\n",
    "# auto reload imports\n",
    "%load_ext autoreload\n",
    "%autoreload 2"
   ]
  },
  {
   "cell_type": "code",
   "execution_count": null,
   "metadata": {},
   "outputs": [],
   "source": [
    "import torch\n",
    "from torch import nn, Tensor\n",
    "import torch.nn.functional as F"
   ]
  },
  {
   "cell_type": "markdown",
   "metadata": {},
   "source": [
    "### Context Vector\n",
    "\n",
    "- Context vector is the weighted sum of the input vectors that captures the relevent information from the entire sequence for a given position. i.e. it can be thought of as an enriched embedding vector of the inout\n",
    "\n",
    "#### Calculate Context Vector\n",
    "\n",
    "- Attention Score: \n",
    "  - it's calculated by finding the dot product of the token's query vector and the key vector of the other tokens in the sequence.\n",
    "  - The scores are normalized using softmax to produce the attention weights.\n",
    "- Multiply the embedded input tokens with their corresponding attention weights and sum the resulting vectors to get the context vector.\n",
    "- This is done for each position in the sequence to get the context vector for the entire sequence."
   ]
  },
  {
   "cell_type": "code",
   "execution_count": null,
   "metadata": {},
   "outputs": [],
   "source": []
  },
  {
   "cell_type": "markdown",
   "metadata": {},
   "source": [
    "## Without Trainable Parameters (Simplified Version)"
   ]
  },
  {
   "cell_type": "code",
   "execution_count": null,
   "metadata": {},
   "outputs": [],
   "source": [
    "# Assume that we have an input with a 3-D embeddings shown below:\n",
    "inputs: Tensor = torch.tensor(\n",
    "    [\n",
    "        [0.43, 0.15, 0.89],  # Your (x^1)\n",
    "        [0.55, 0.87, 0.66],  # journey (x^2)\n",
    "        [0.57, 0.85, 0.64],  # starts (x^3)\n",
    "        [0.22, 0.58, 0.33],  # with (x^4)\n",
    "        [0.77, 0.25, 0.10],  # one (x^5)\n",
    "        [0.05, 0.80, 0.55],  # step (x^6)\n",
    "    ]\n",
    ")\n",
    "\n",
    "# Calculate the context vector for the 2nd token (x^2)\n",
    "# 1: Cal the attention scores\n",
    "query: Tensor = inputs[1]\n",
    "attn_scores_index_1: Tensor = torch.empty(inputs.shape[0])\n",
    "\n",
    "for idx, x_1 in enumerate(inputs):\n",
    "    # Cal the dot product of the query vector and each key vector in the input\n",
    "    attn_scores_index_1[idx] = torch.dot(x_1, query)\n",
    "\n",
    "print(f\"{attn_scores_index_1 = }\")"
   ]
  },
  {
   "cell_type": "code",
   "execution_count": null,
   "metadata": {},
   "outputs": [],
   "source": [
    "# 2: Normalize the attention scores to obtain the attention weights\n",
    "attn_scores_weights_1: Tensor = torch.softmax(attn_scores_index_1, dim=-1)\n",
    "print(f\"{attn_scores_weights_1 = }\")\n",
    "attn_scores_weights_1.sum(-1)"
   ]
  },
  {
   "cell_type": "code",
   "execution_count": null,
   "metadata": {},
   "outputs": [],
   "source": [
    "inputs_shape: tuple = tuple(inputs.shape)\n",
    "attn_scores_weights_1_shape: tuple = tuple(attn_scores_weights_1.shape)\n",
    "print(f\"{inputs_shape = } AND {attn_scores_weights_1_shape = }\")\n",
    "\n",
    "# 3: Calculate the context vector as the weighted average of the values\n",
    "# Transpose the inputs so that we can perform matrix multiplication\n",
    "context_vector_1: Tensor = inputs.T @ attn_scores_weights_1\n",
    "context_vector_1"
   ]
  },
  {
   "cell_type": "markdown",
   "metadata": {},
   "source": [
    "#### Calculate The Attention Weights Of The Sequence"
   ]
  },
  {
   "cell_type": "code",
   "execution_count": null,
   "metadata": {},
   "outputs": [],
   "source": [
    "# Step 1: Calculate the attention scores\n",
    "print(f\"{inputs.shape = } AND {inputs.T.shape = }\")\n",
    "attn_scores: Tensor = inputs @ inputs.T\n",
    "print(f\"\\n{attn_scores.shape = }\")\n",
    "\n",
    "attn_scores"
   ]
  },
  {
   "cell_type": "code",
   "execution_count": null,
   "metadata": {},
   "outputs": [],
   "source": [
    "# Step 2: Calculate the attention weights. i.e. normalize the attention scores using softmax\n",
    "attn_weights = torch.softmax(attn_scores, dim=-1)\n",
    "print(f\"\\n{attn_weights.shape = }\")\n",
    "attn_weights"
   ]
  },
  {
   "cell_type": "code",
   "execution_count": null,
   "metadata": {},
   "outputs": [],
   "source": [
    "# Step 3: Calculate the context vector\n",
    "print(f\"{attn_weights.shape = } AND {inputs.shape = }\")\n",
    "\n",
    "context_vector: Tensor = attn_weights @ inputs\n",
    "context_vector"
   ]
  },
  {
   "cell_type": "markdown",
   "metadata": {},
   "source": [
    "## With Trainable Parameters"
   ]
  },
  {
   "cell_type": "code",
   "execution_count": null,
   "metadata": {},
   "outputs": [],
   "source": []
  }
 ],
 "metadata": {
  "kernelspec": {
   "display_name": "torch_p11",
   "language": "python",
   "name": "python3"
  },
  "language_info": {
   "codemirror_mode": {
    "name": "ipython",
    "version": 3
   },
   "file_extension": ".py",
   "mimetype": "text/x-python",
   "name": "python",
   "nbconvert_exporter": "python",
   "pygments_lexer": "ipython3",
   "version": "3.11.8"
  }
 },
 "nbformat": 4,
 "nbformat_minor": 2
}
