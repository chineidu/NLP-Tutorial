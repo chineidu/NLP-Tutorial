{
 "cells": [
  {
   "cell_type": "markdown",
   "metadata": {},
   "source": [
    "# Lab"
   ]
  },
  {
   "cell_type": "code",
   "execution_count": 1,
   "metadata": {},
   "outputs": [
    {
     "name": "stdout",
     "output_type": "stream",
     "text": [
      "Python implementation: CPython\n",
      "Python version       : 3.11.8\n",
      "IPython version      : 8.22.2\n",
      "\n",
      "numpy    : 1.26.4\n",
      "pandas   : 2.2.1\n",
      "polars   : 0.20.18\n",
      "omegaconf: 2.3.0\n",
      "\n",
      "conda environment: torch_p11\n",
      "\n"
     ]
    }
   ],
   "source": [
    "%load_ext watermark\n",
    "%watermark -v -p numpy,pandas,polars,omegaconf --conda"
   ]
  },
  {
   "cell_type": "code",
   "execution_count": 2,
   "metadata": {},
   "outputs": [],
   "source": [
    "# Built-in library\n",
    "from pathlib import Path\n",
    "import re\n",
    "import json\n",
    "from typing import Any, Optional, Union\n",
    "import logging\n",
    "import warnings\n",
    "\n",
    "# Standard imports\n",
    "import numpy as np\n",
    "import numpy.typing as npt\n",
    "from pprint import pprint\n",
    "import pandas as pd\n",
    "import polars as pl\n",
    "from rich.console import Console\n",
    "from rich.theme import Theme\n",
    "\n",
    "custom_theme = Theme(\n",
    "    {\n",
    "        \"info\": \"#76FF7B\",\n",
    "        \"warning\": \"#FBDDFE\",\n",
    "        \"error\": \"#FF0000\",\n",
    "    }\n",
    ")\n",
    "console = Console(theme=custom_theme)\n",
    "\n",
    "# Visualization\n",
    "import matplotlib.pyplot as plt\n",
    "\n",
    "\n",
    "# Pandas settings\n",
    "pd.options.display.max_rows = 1_000\n",
    "pd.options.display.max_columns = 1_000\n",
    "pd.options.display.max_colwidth = 600\n",
    "\n",
    "warnings.filterwarnings(\"ignore\")\n",
    "\n",
    "\n",
    "# Black code formatter (Optional)\n",
    "%load_ext lab_black\n",
    "\n",
    "# auto reload imports\n",
    "%load_ext autoreload\n",
    "%autoreload 2"
   ]
  },
  {
   "cell_type": "code",
   "execution_count": 3,
   "metadata": {},
   "outputs": [],
   "source": [
    "import torch\n",
    "from torch import nn, Tensor\n",
    "import torch.nn.functional as F"
   ]
  },
  {
   "cell_type": "code",
   "execution_count": 4,
   "metadata": {},
   "outputs": [],
   "source": [
    "seed: int = 123\n",
    "\n",
    "GPT_CONFIG_124M: dict[str, Any] = {\n",
    "    \"vocab_size\": 50_257,\n",
    "    \"context_length\": 1_024,\n",
    "    \"emb_dim\": 768,\n",
    "    \"n_heads\": 12,  # Number of attention heads\n",
    "    \"n_layers\": 12,\n",
    "    \"drop_rate\": 0.1,  # Dropout rate\n",
    "    \"qkv_bias\": False,\n",
    "}"
   ]
  },
  {
   "cell_type": "code",
   "execution_count": 5,
   "metadata": {},
   "outputs": [],
   "source": [
    "class SelfAttention(nn.Module):\n",
    "    def __init__(self, in_feats: int, out_feats: int, qkv_bias: bool = False) -> None:\n",
    "        super().__init__()\n",
    "\n",
    "        # Size: (seq_len, emb_dim)\n",
    "        self.query_weights = nn.Linear(in_feats, out_feats, bias=qkv_bias)\n",
    "        self.key_weights = nn.Linear(in_feats, out_feats, bias=qkv_bias)\n",
    "        self.value_weights = nn.Linear(in_feats, out_feats, bias=qkv_bias)\n",
    "\n",
    "    def forward(self, x: Tensor) -> Tensor:\n",
    "        # b_size, seq_len, emb_dim = x.shape\n",
    "        # (b_size, emb_dim, seq_len) @ (seq_len, emb_dim) -> (b_size, emb_dim, emb_dim)\n",
    "        query = self.query_weights(x)\n",
    "        key = self.key_weights(x)\n",
    "        value = self.value_weights(x)\n",
    "\n",
    "        # Attention scores\n",
    "        # (b_size, emb_dim, seq_len) @ (seq_len, emb_dim) -> (b_size, emb_dim, emb_dim)\n",
    "        attn_scores: Tensor = torch.matmul(query, key.transpose(-1, -2))\n",
    "        attn_weights: Tensor = F.softmax(attn_scores / key.shape[1] ** 0.5, dim=-1)\n",
    "        # (seq_len, emb_dim) @ (b_size, emb_dim, emb_dim) -> (b_size, seq_len, emb_dim)\n",
    "        context_vector: Tensor = torch.matmul(attn_weights, value)\n",
    "        return context_vector"
   ]
  },
  {
   "cell_type": "code",
   "execution_count": 6,
   "metadata": {},
   "outputs": [
    {
     "data": {
      "text/plain": [
       "tensor([[[-0.0667,  0.0210,  0.2596,  0.0146, -0.1486, -0.5148,  0.1315,\n",
       "           0.0073,  0.4838, -0.0732,  0.0407, -0.1094,  0.0654, -0.1763,\n",
       "          -0.1097, -0.3647],\n",
       "         [-0.0678,  0.0146,  0.2611,  0.0196, -0.1453, -0.5066,  0.1322,\n",
       "           0.0152,  0.4790, -0.0674,  0.0298, -0.1018,  0.0607, -0.1728,\n",
       "          -0.1094, -0.3596],\n",
       "         [-0.0721,  0.0176,  0.2638,  0.0138, -0.1494, -0.5155,  0.1304,\n",
       "           0.0085,  0.4806, -0.0696,  0.0386, -0.1083,  0.0672, -0.1790,\n",
       "          -0.1091, -0.3607],\n",
       "         [-0.0645,  0.0211,  0.2616,  0.0160, -0.1461, -0.5140,  0.1289,\n",
       "           0.0134,  0.4836, -0.0691,  0.0336, -0.1075,  0.0604, -0.1737,\n",
       "          -0.1141, -0.3659],\n",
       "         [-0.0608,  0.0238,  0.2599,  0.0174, -0.1477, -0.5108,  0.1299,\n",
       "           0.0073,  0.4837, -0.0751,  0.0407, -0.1087,  0.0602, -0.1727,\n",
       "          -0.1105, -0.3635],\n",
       "         [-0.0603,  0.0217,  0.2532,  0.0200, -0.1478, -0.5086,  0.1314,\n",
       "           0.0057,  0.4855, -0.0746,  0.0415, -0.1099,  0.0615, -0.1710,\n",
       "          -0.1068, -0.3694],\n",
       "         [-0.0667,  0.0169,  0.2599,  0.0187, -0.1471, -0.5108,  0.1294,\n",
       "           0.0103,  0.4814, -0.0682,  0.0353, -0.1078,  0.0621, -0.1745,\n",
       "          -0.1098, -0.3657],\n",
       "         [-0.0674,  0.0170,  0.2561,  0.0181, -0.1476, -0.5128,  0.1299,\n",
       "           0.0103,  0.4839, -0.0672,  0.0353, -0.1094,  0.0639, -0.1743,\n",
       "          -0.1088, -0.3704]],\n",
       "\n",
       "        [[-0.1549,  0.0163,  0.2756,  0.0131, -0.2208, -0.5279,  0.1435,\n",
       "           0.1326,  0.5013, -0.0870, -0.0330,  0.0130,  0.0674, -0.1795,\n",
       "          -0.0219, -0.2377],\n",
       "         [-0.1595,  0.0113,  0.2671,  0.0096, -0.2218, -0.5269,  0.1444,\n",
       "           0.1326,  0.5037, -0.0901, -0.0252,  0.0138,  0.0787, -0.1848,\n",
       "          -0.0213, -0.2353],\n",
       "         [-0.1561,  0.0112,  0.2712,  0.0133, -0.2232, -0.5237,  0.1457,\n",
       "           0.1313,  0.5031, -0.0908, -0.0281,  0.0116,  0.0694, -0.1840,\n",
       "          -0.0221, -0.2366],\n",
       "         [-0.1530,  0.0176,  0.2731,  0.0131, -0.2206, -0.5266,  0.1472,\n",
       "           0.1320,  0.5011, -0.0906, -0.0301,  0.0114,  0.0689, -0.1777,\n",
       "          -0.0234, -0.2384],\n",
       "         [-0.1616,  0.0115,  0.2693,  0.0071, -0.2218, -0.5279,  0.1394,\n",
       "           0.1339,  0.5042, -0.0874, -0.0263,  0.0150,  0.0788, -0.1871,\n",
       "          -0.0216, -0.2331],\n",
       "         [-0.1568,  0.0137,  0.2698,  0.0113, -0.2221, -0.5263,  0.1459,\n",
       "           0.1320,  0.5028, -0.0904, -0.0263,  0.0131,  0.0751, -0.1815,\n",
       "          -0.0222, -0.2367],\n",
       "         [-0.1573,  0.0131,  0.2718,  0.0114, -0.2221, -0.5269,  0.1423,\n",
       "           0.1336,  0.5029, -0.0875, -0.0300,  0.0145,  0.0714, -0.1828,\n",
       "          -0.0219, -0.2363],\n",
       "         [-0.1577,  0.0166,  0.2780,  0.0096, -0.2208, -0.5306,  0.1384,\n",
       "           0.1331,  0.5017, -0.0853, -0.0307,  0.0152,  0.0692, -0.1823,\n",
       "          -0.0244, -0.2378]]], grad_fn=<UnsafeViewBackward0>)"
      ]
     },
     "execution_count": 6,
     "metadata": {},
     "output_type": "execute_result"
    }
   ],
   "source": [
    "vocab_size: int = 27\n",
    "embedding_dim: int = 16\n",
    "context_size: int = 8\n",
    "batch_size: int = 2\n",
    "\n",
    "input_seq: Tensor = torch.rand(\n",
    "    size=(batch_size, context_size, embedding_dim), dtype=torch.float32\n",
    ")\n",
    "self_attn: SelfAttention = SelfAttention(embedding_dim, embedding_dim)\n",
    "context_vector: Tensor = self_attn(input_seq)\n",
    "context_vector"
   ]
  },
  {
   "cell_type": "code",
   "execution_count": 7,
   "metadata": {},
   "outputs": [],
   "source": [
    "class CausalSelfAttention(nn.Module):\n",
    "    def __init__(\n",
    "        self,\n",
    "        d_model: int,\n",
    "        context_size: int,\n",
    "        dropout_pct: float = 0.0,\n",
    "        qkv_bias: bool = False,\n",
    "    ) -> None:\n",
    "        super().__init__()\n",
    "\n",
    "        # Size: (seq_len, emb_dim)\n",
    "        self.query_weights = nn.Linear(d_model, d_model, bias=qkv_bias)\n",
    "        self.key_weights = nn.Linear(d_model, d_model, bias=qkv_bias)\n",
    "        self.value_weights = nn.Linear(d_model, d_model, bias=qkv_bias)\n",
    "\n",
    "        self.register_buffer(\n",
    "            \"mask\", torch.triu(torch.ones(context_size, context_size), diagonal=1)\n",
    "        )\n",
    "        self.dropout = nn.Dropout(p=dropout_pct)\n",
    "\n",
    "    def forward(self, x: Tensor) -> Tensor:\n",
    "        b_size, seq_len, emb_dim = x.shape\n",
    "        # (b_size, emb_dim, seq_len) @ (seq_len, emb_dim) -> (b_size, emb_dim, emb_dim)\n",
    "        query = self.query_weights(x)\n",
    "        key = self.key_weights(x)\n",
    "        value = self.value_weights(x)\n",
    "\n",
    "        # Attention scores\n",
    "        # (b_size, emb_dim, seq_len) @ (seq_len, emb_dim) -> (b_size, emb_dim, emb_dim)\n",
    "        attn_scores: Tensor = torch.matmul(query, key.transpose(-1, -2))\n",
    "        # Apply mask (inplace). The slicing ensures that the seq_len is consistent across the batch.\n",
    "        attn_scores.masked_fill_(self.mask.bool()[:seq_len, :seq_len], -torch.inf)\n",
    "\n",
    "        attn_weights: Tensor = F.softmax(attn_scores / key.shape[1] ** 0.5, dim=-1)\n",
    "        attn_weights = self.dropout(attn_weights)\n",
    "        # (seq_len, emb_dim) @ (b_size, emb_dim, emb_dim) -> (b_size, seq_len, emb_dim)\n",
    "        context_vector: Tensor = torch.matmul(attn_weights, value)\n",
    "        return context_vector"
   ]
  },
  {
   "cell_type": "code",
   "execution_count": 8,
   "metadata": {},
   "outputs": [
    {
     "data": {
      "text/plain": [
       "torch.Size([2, 8, 16])"
      ]
     },
     "execution_count": 8,
     "metadata": {},
     "output_type": "execute_result"
    }
   ],
   "source": [
    "torch.manual_seed(seed)\n",
    "\n",
    "input_seq: Tensor = torch.rand(\n",
    "    size=(batch_size, context_size, embedding_dim), dtype=torch.float32\n",
    ")\n",
    "causal_self_attn: CausalSelfAttention = CausalSelfAttention(\n",
    "    d_model=embedding_dim, context_size=context_size, dropout_pct=0.1\n",
    ")\n",
    "context_vector: Tensor = causal_self_attn(input_seq)\n",
    "context_vector.shape"
   ]
  },
  {
   "cell_type": "code",
   "execution_count": 9,
   "metadata": {},
   "outputs": [],
   "source": [
    "class SequentialMultiHeadAttention(nn.Module):\n",
    "    def __init__(\n",
    "        self,\n",
    "        d_model: int,\n",
    "        context_size: int,\n",
    "        num_heads: int,\n",
    "        dropout: float = 0.0,\n",
    "        qkv_bias: bool = False,\n",
    "    ):\n",
    "        super().__init__()\n",
    "\n",
    "        self.heads = nn.ModuleList(\n",
    "            [\n",
    "                CausalSelfAttention(d_model, context_size, dropout, qkv_bias)\n",
    "                for _ in range(num_heads)\n",
    "            ]\n",
    "        )\n",
    "\n",
    "    def forward(self, x: Tensor) -> Tensor:\n",
    "        # Concat along the feature (emb) dimension\n",
    "        return torch.cat([head(x) for head in self.heads], dim=-1)"
   ]
  },
  {
   "cell_type": "code",
   "execution_count": 10,
   "metadata": {},
   "outputs": [
    {
     "name": "stdout",
     "output_type": "stream",
     "text": [
      "input_seq.shape = torch.Size([2, 8, 16])\n",
      "multi_head_attn = SequentialMultiHeadAttention(\n",
      "  (heads): ModuleList(\n",
      "    (0-2): 3 x CausalSelfAttention(\n",
      "      (query_weights): Linear(in_features=16, out_features=16, bias=False)\n",
      "      (key_weights): Linear(in_features=16, out_features=16, bias=False)\n",
      "      (value_weights): Linear(in_features=16, out_features=16, bias=False)\n",
      "      (dropout): Dropout(p=0.1, inplace=False)\n",
      "    )\n",
      "  )\n",
      ")\n",
      "output.shape = torch.Size([2, 8, 48])\n"
     ]
    }
   ],
   "source": [
    "torch.manual_seed(seed)\n",
    "\n",
    "multi_head_attn: SequentialMultiHeadAttention = SequentialMultiHeadAttention(\n",
    "    d_model=embedding_dim,\n",
    "    context_size=context_size,\n",
    "    num_heads=3,\n",
    "    dropout=0.1,\n",
    ")\n",
    "print(f\"{input_seq.shape = }\")\n",
    "print(f\"{multi_head_attn = }\")\n",
    "output: Tensor = multi_head_attn(input_seq)\n",
    "print(f\"{output.shape = }\")"
   ]
  },
  {
   "cell_type": "markdown",
   "metadata": {},
   "source": [
    "<hr><br><br>\n",
    "\n",
    "### Multi-head Attention\n",
    "\n",
    "- Instead of relying on a `single attention mechanism`, `multi-head attention` uses multiple \"`heads`\" that work in parallel.\n",
    "- Each `head` analyzes the input sequence from a `slightly different perspective`.\n",
    "- These individual analyses are then `combined` (concatenated) to create a `richer understanding` of the relationships between elements in the sequence.\n",
    "\n",
    "#### Here's a breakdown of the key points with clarification:\n",
    "\n",
    "- **`Causal self-attention`**: This refers to a type of attention where an element in the sequence only attends to the elements that come before it in the sequence.\n",
    "\n",
    "- **`Multiple heads in parallel`**: The core concept of `Multi-head Attention`. Instead of one attention mechanism, multiple \"heads\" analyze the data simultaneously.\n",
    "\n",
    "- **`Input sequence split and processed`**: Each head gets a portion of the original input data (`d_model`) based on the number of heads (`num_heads`). This creates a lower dimension for each head (`head_dim`) for processing.\n",
    "\n",
    "- **`Concatenation`**: After each head analyzes its portion of the data, the results are combined (concatenated) to create a richer representation that captures insights from all the heads.\n",
    "  - E.g. \n",
    "    - With a `d_model` of 64 (original input has 64 features) and 4 heads, each head gets 16 dimensions (features) to process (64 / 4). \n",
    "    - These 4 heads analyze the data in `parallel`, and then their outputs are `combined` to create a `final representation` with potentially deeper understanding than a single head could achieve."
   ]
  },
  {
   "cell_type": "code",
   "execution_count": 11,
   "metadata": {},
   "outputs": [],
   "source": [
    "class MultiHeadAttention(nn.Module):\n",
    "    \"\"\"\n",
    "    A Multi-Head Attention layer for use in neural network architectures.\n",
    "\n",
    "    Args:\n",
    "        d_model (int): The dimension of the input and output features.\n",
    "        context_size (int): The size of the context window (neighborhood considered for attention).\n",
    "        num_heads (int): The number of heads used in the Multi-Head Attention.\n",
    "        dropout_pct (float, optional): The dropout probability for the attention weights. Defaults to 0.1.\n",
    "        qkv_bias (bool, optional): Whether to add bias terms to the linear transformations for queries, keys,\n",
    "        and values. Defaults to False.\n",
    "\n",
    "    Raises:\n",
    "        AssertionError: If `d_model` is not divisible by `num_heads`.\n",
    "\n",
    "    Shapes:\n",
    "        - Input: (batch_size, seq_len, d_model)\n",
    "        - Output: (batch_size, seq_len, d_model)\n",
    "\n",
    "    Note:\n",
    "        B, T, C: (batch, seq_len, d_model)\n",
    "\n",
    "    Example:\n",
    "        >>> import torch\n",
    "        >>> model = MultiHeadAttention(d_model=512, context_size=32, num_heads=8)\n",
    "        >>> input_tensor = torch.randn(16, 100, 512)\n",
    "        >>> output_tensor = model(input_tensor)\n",
    "        >>> print(output_tensor.shape)\n",
    "        torch.Size([16, 100, 512])\n",
    "    \"\"\"\n",
    "\n",
    "    def __init__(\n",
    "        self,\n",
    "        d_model: int,\n",
    "        context_size: int,\n",
    "        num_heads: int,\n",
    "        dropout_pct: float = 0.1,\n",
    "        qkv_bias: bool = False,\n",
    "    ):\n",
    "        super().__init__()\n",
    "\n",
    "        assert d_model % num_heads == 0, \"d_model must be divisible by num_heads\"\n",
    "        self.d_model = d_model\n",
    "        self.num_heads = num_heads\n",
    "        self.head_dim = d_model // num_heads  # Dim of each head\n",
    "        self.context_size = context_size\n",
    "        self.dropout = nn.Dropout(dropout_pct)\n",
    "        self.register_buffer(\n",
    "            \"mask\", torch.triu(torch.ones(context_size, context_size), diagonal=1)\n",
    "        )\n",
    "\n",
    "        self.query_W = nn.Linear(d_model, d_model, bias=qkv_bias)\n",
    "        self.key_W = nn.Linear(d_model, d_model, bias=qkv_bias)\n",
    "        self.value_W = nn.Linear(d_model, d_model, bias=qkv_bias)\n",
    "        self.out_proj = nn.Linear(d_model, d_model)\n",
    "\n",
    "    def _split_heads(self, x: Tensor) -> Tensor:\n",
    "        \"\"\"Split the features at each head by reshaping and transposing them.\n",
    "\n",
    "        Returns:\n",
    "            torch.Tensor: Tensor of shape (batch_size, num_heads, seq_length, head_dim).\n",
    "        \"\"\"\n",
    "        # B, T, C\n",
    "        batch_size, seq_len, _ = x.size()\n",
    "\n",
    "        # After transposing: (B, n_heads, T, h_dim)\n",
    "        x_split: Tensor = x.view(\n",
    "            batch_size, seq_len, self.num_heads, self.head_dim\n",
    "        ).transpose(1, 2)\n",
    "        return x_split\n",
    "\n",
    "    def _concat_heads(self, x: Tensor) -> Tensor:\n",
    "        \"\"\"\n",
    "        Concatenates the heads of the input tensor along the last dimension.\n",
    "\n",
    "        Args:\n",
    "            x (torch.Tensor): Input tensor of shape (B, n_heads, T, h_dim).\n",
    "\n",
    "        Returns:\n",
    "            torch.Tensor: Concatenated tensor of shape (B, T, n_heads * h_dim).\n",
    "        \"\"\"\n",
    "        B, n_heads, T, h_dim = x.size()\n",
    "        # After transposing: (B, T, n_heads * h_dim)\n",
    "        # self.d_model = n_heads * h_dim\n",
    "        x_concat: Tensor = x.transpose(1, 2).contiguous().view(B, T, (n_heads * h_dim))\n",
    "        return x_concat\n",
    "\n",
    "    def forward(self, x: Tensor) -> Tensor:\n",
    "        B, T, C = x.size()\n",
    "        # Compute the query, key and value features\n",
    "        # (B, T, C) @ (C, C) -> (B, T, C)\n",
    "        queries: Tensor = self.query_W(x)  # (B, T, C)\n",
    "        keys: Tensor = self.key_W(x)  # (B, T, C)\n",
    "        values: Tensor = self.value_W(x)  # (B, T, C)\n",
    "\n",
    "        # Split the features\n",
    "        # C = n_heads * h_dim\n",
    "        # (B, T, C) -> (B, n_heads, T, h_dim)\n",
    "        queries = self._split_heads(queries)\n",
    "        keys = self._split_heads(keys)\n",
    "        values = self._split_heads(values)\n",
    "\n",
    "        # Calculate the attention\n",
    "        # (B, n_heads, T, h_dim) @ (B, n_heads, h_dim, T) -> (B, n_heads, T, T)\n",
    "        attn_scores: Tensor = queries @ keys.transpose(-1, -2)  # (B, n_heads, T, T)\n",
    "        # Mask the attention\n",
    "        mask = self.mask.bool()[:T, :T]  # (T, T)\n",
    "        attn_scores.masked_fill_(mask, float(\"-inf\"))  # (B, n_heads, T, T)\n",
    "        attn_weights: Tensor = F.softmax(attn_scores / keys.shape[-1] ** 0.5, dim=-1)\n",
    "        attn_weights = self.dropout(attn_weights)  # (B, n_heads, T, T)\n",
    "\n",
    "        # (B, n_heads, T, T) @ (B, n_heads, T, h_dim) -> (B, n_heads, T, h_dim)\n",
    "        context_vectors: Tensor = attn_weights @ values  # (B, n_heads, T, h_dim)\n",
    "        # Concatenate the attention and the features\n",
    "        context_vectors = self._concat_heads(context_vectors)  # (B, T, n_heads * h_dim)\n",
    "        # (B, T, C) @ (C, C) -> (B, T, C)\n",
    "        context_vectors = self.out_proj(context_vectors)  # (B, T, C)\n",
    "        return context_vectors"
   ]
  },
  {
   "cell_type": "code",
   "execution_count": 12,
   "metadata": {},
   "outputs": [
    {
     "name": "stdout",
     "output_type": "stream",
     "text": [
      "input_seq.shape = torch.Size([2, 8, 16])\n",
      "multi_head_attn = MultiHeadAttention(\n",
      "  (dropout): Dropout(p=0.1, inplace=False)\n",
      "  (query_W): Linear(in_features=16, out_features=16, bias=False)\n",
      "  (key_W): Linear(in_features=16, out_features=16, bias=False)\n",
      "  (value_W): Linear(in_features=16, out_features=16, bias=False)\n",
      "  (out_proj): Linear(in_features=16, out_features=16, bias=True)\n",
      ")\n",
      "output.shape = torch.Size([2, 8, 16])\n"
     ]
    },
    {
     "data": {
      "text/plain": [
       "tensor([[[-0.3474, -0.3107, -0.1027, -0.1821, -0.1602,  0.2133, -0.0108,\n",
       "           0.0943,  0.2866,  0.0771,  0.0632, -0.0559, -0.0075,  0.0735,\n",
       "          -0.1950, -0.4179],\n",
       "         [-0.2610, -0.5279, -0.2566, -0.2172, -0.1152,  0.1345,  0.1930,\n",
       "           0.1484,  0.1608, -0.0315, -0.0932, -0.1033, -0.1208,  0.0333,\n",
       "          -0.2987, -0.4774],\n",
       "         [-0.3143, -0.3279, -0.1460, -0.1762, -0.0125,  0.1674,  0.0904,\n",
       "           0.1398,  0.2238, -0.0031,  0.0670, -0.1306, -0.0120,  0.1309,\n",
       "          -0.2423, -0.3489],\n",
       "         [-0.3131, -0.4945, -0.2172, -0.1274, -0.0659,  0.1363,  0.2305,\n",
       "           0.2004,  0.2069, -0.0503, -0.0257, -0.1802, -0.0908,  0.0178,\n",
       "          -0.3092, -0.4385],\n",
       "         [-0.3075, -0.4451, -0.1925, -0.1408, -0.0238,  0.1458,  0.2024,\n",
       "           0.1857,  0.1865, -0.0444,  0.0104, -0.1878, -0.0589,  0.0564,\n",
       "          -0.2893, -0.3895],\n",
       "         [-0.2897, -0.4864, -0.2115, -0.1478,  0.0254,  0.1132,  0.2349,\n",
       "           0.1885,  0.1554, -0.0157, -0.0323, -0.2011, -0.0766,  0.0261,\n",
       "          -0.2874, -0.4032],\n",
       "         [-0.2804, -0.3615, -0.0805, -0.1354,  0.1490,  0.0834,  0.1561,\n",
       "           0.1717,  0.1672,  0.0377,  0.1005, -0.2128,  0.0477,  0.1198,\n",
       "          -0.2216, -0.2900],\n",
       "         [-0.2793, -0.5016, -0.2257, -0.1303,  0.0222,  0.1035,  0.2426,\n",
       "           0.2364,  0.1557, -0.0457, -0.0411, -0.1962, -0.0931,  0.0107,\n",
       "          -0.3148, -0.3931]],\n",
       "\n",
       "        [[-0.2505, -0.5318, -0.2393,  0.0336,  0.0492, -0.1077,  0.4083,\n",
       "           0.3813,  0.1604, -0.0977, -0.0966, -0.1504, -0.0854, -0.2075,\n",
       "          -0.4513, -0.4150],\n",
       "         [-0.2766, -0.4899, -0.2304, -0.0230,  0.0802, -0.0711,  0.3218,\n",
       "           0.3253,  0.1800, -0.0195, -0.0923, -0.1259, -0.0744, -0.1932,\n",
       "          -0.3786, -0.4226],\n",
       "         [-0.3010, -0.6103, -0.2722, -0.0575,  0.0038, -0.0543,  0.4382,\n",
       "           0.2606,  0.1368, -0.0554, -0.0815, -0.2058, -0.1004, -0.1803,\n",
       "          -0.3546, -0.4861],\n",
       "         [-0.2591, -0.5407, -0.2506, -0.0692,  0.0395, -0.0282,  0.3136,\n",
       "           0.3035,  0.1839, -0.0332, -0.0850, -0.1209, -0.0756, -0.1327,\n",
       "          -0.3304, -0.4251],\n",
       "         [-0.2387, -0.5612, -0.1899, -0.0815,  0.0598, -0.0240,  0.3302,\n",
       "           0.2475,  0.1467, -0.0132, -0.0466, -0.1840, -0.0523, -0.1224,\n",
       "          -0.2976, -0.4130],\n",
       "         [-0.2518, -0.5351, -0.1773, -0.0836,  0.0794, -0.0199,  0.3296,\n",
       "           0.2602,  0.1601, -0.0240, -0.0450, -0.1869, -0.0525, -0.0702,\n",
       "          -0.3237, -0.4199],\n",
       "         [-0.2435, -0.5226, -0.1575, -0.0936,  0.0852,  0.0036,  0.2976,\n",
       "           0.2566,  0.1675, -0.0096, -0.0372, -0.1839, -0.0557, -0.0643,\n",
       "          -0.2964, -0.4097],\n",
       "         [-0.2839, -0.5800, -0.2223, -0.0700,  0.0376, -0.0119,  0.3799,\n",
       "           0.2806,  0.1482, -0.0578, -0.0469, -0.2178, -0.0901, -0.1048,\n",
       "          -0.3424, -0.4471]]], grad_fn=<ViewBackward0>)"
      ]
     },
     "execution_count": 12,
     "metadata": {},
     "output_type": "execute_result"
    }
   ],
   "source": [
    "# (B, T, D) @ (D, D) -> (B, T, D)\n",
    "torch.manual_seed(seed)\n",
    "\n",
    "multi_head_attn: MultiHeadAttention = MultiHeadAttention(\n",
    "    d_model=embedding_dim,\n",
    "    context_size=context_size,\n",
    "    num_heads=2,\n",
    "    dropout_pct=0.1,\n",
    ")\n",
    "print(f\"{input_seq.shape = }\")\n",
    "print(f\"{multi_head_attn = }\")\n",
    "output: Tensor = multi_head_attn(input_seq)\n",
    "print(f\"{output.shape = }\")\n",
    "\n",
    "output"
   ]
  },
  {
   "cell_type": "code",
   "execution_count": null,
   "metadata": {},
   "outputs": [],
   "source": []
  },
  {
   "cell_type": "code",
   "execution_count": null,
   "metadata": {},
   "outputs": [],
   "source": []
  },
  {
   "cell_type": "markdown",
   "metadata": {},
   "source": [
    "# Implementing A GPT-model From Scratch\n",
    "\n",
    "- Coding a GPT-like LLM that can be trained to generate uman-like text.\n",
    "- Normalizing layer activations to stabilize NN training.\n",
    "- Adding `shortcut connections` to train deep NNs effectively.\n",
    "- Implementing transformer blocks to create GPT models of various sizes.\n",
    "- Computing the number of parameters and storage requiremnts of GPT models."
   ]
  },
  {
   "cell_type": "code",
   "execution_count": 20,
   "metadata": {},
   "outputs": [
    {
     "data": {
      "text/plain": [
       "tensor([[[-0.3479, -0.9514, -0.2711,  0.4511,  0.1239,  0.2274,  0.7453,\n",
       "           1.2946,  0.6269, -0.2278,  1.2327, -0.6556,  0.7287,  0.8472,\n",
       "          -1.6667,  1.0499],\n",
       "         [ 0.0575,  1.2494,  0.5849,  0.5618,  0.1645,  0.5396, -1.3888,\n",
       "           0.5524,  0.8906, -0.9869,  0.7470,  0.6496, -2.0915,  0.8895,\n",
       "          -2.3194,  0.7862],\n",
       "         [ 2.8540,  1.3330, -0.1396,  0.0471,  0.9951,  1.1297,  0.1833,\n",
       "          -0.0111, -0.0110, -0.1556, -2.2002,  0.1646, -1.0052,  0.0985,\n",
       "          -1.6470, -0.9355]]], grad_fn=<EmbeddingBackward0>)"
      ]
     },
     "execution_count": 20,
     "metadata": {},
     "output_type": "execute_result"
    }
   ],
   "source": [
    "tok_emb: nn.Embedding = nn.Embedding(embedding_dim, embedding_dim)\n",
    "\n",
    "tok_emb(torch.tensor([[1, 2, 3]]))"
   ]
  },
  {
   "cell_type": "code",
   "execution_count": 21,
   "metadata": {},
   "outputs": [
    {
     "data": {
      "text/plain": [
       "torch.Size([1, 3])"
      ]
     },
     "execution_count": 21,
     "metadata": {},
     "output_type": "execute_result"
    }
   ],
   "source": [
    "torch.tensor([[1, 2, 3]]).shape"
   ]
  },
  {
   "cell_type": "code",
   "execution_count": null,
   "metadata": {},
   "outputs": [],
   "source": []
  },
  {
   "cell_type": "code",
   "execution_count": null,
   "metadata": {},
   "outputs": [],
   "source": []
  },
  {
   "cell_type": "code",
   "execution_count": null,
   "metadata": {},
   "outputs": [],
   "source": []
  },
  {
   "cell_type": "code",
   "execution_count": null,
   "metadata": {},
   "outputs": [],
   "source": []
  },
  {
   "cell_type": "code",
   "execution_count": null,
   "metadata": {},
   "outputs": [],
   "source": []
  },
  {
   "cell_type": "code",
   "execution_count": null,
   "metadata": {},
   "outputs": [],
   "source": []
  },
  {
   "cell_type": "code",
   "execution_count": null,
   "metadata": {},
   "outputs": [],
   "source": []
  },
  {
   "cell_type": "code",
   "execution_count": null,
   "metadata": {},
   "outputs": [],
   "source": []
  },
  {
   "cell_type": "code",
   "execution_count": null,
   "metadata": {},
   "outputs": [],
   "source": []
  }
 ],
 "metadata": {
  "kernelspec": {
   "display_name": "torch p_311",
   "language": "python",
   "name": "torch_p11"
  },
  "language_info": {
   "codemirror_mode": {
    "name": "ipython",
    "version": 3
   },
   "file_extension": ".py",
   "mimetype": "text/x-python",
   "name": "python",
   "nbconvert_exporter": "python",
   "pygments_lexer": "ipython3",
   "version": "3.11.8"
  }
 },
 "nbformat": 4,
 "nbformat_minor": 2
}
