{
 "cells": [
  {
   "cell_type": "markdown",
   "metadata": {},
   "source": [
    "# Create A Multi-Layer Perceptron (MLP) For Predicting The Next Character In A Sequence\n",
    "\n",
    "- [Andrej Karpathy YouTube Tutorial](https://www.youtube.com/watch?v=TCH_1BHY58I&t=541s&ab_channel=AndrejKarpathy)\n",
    "- [A Neural Probabilistic Language Model (Paper)](https://www.jmlr.org/papers/volume3/bengio03a/bengio03a.pdf)"
   ]
  },
  {
   "cell_type": "code",
   "execution_count": 1,
   "metadata": {},
   "outputs": [
    {
     "name": "stdout",
     "output_type": "stream",
     "text": [
      "Python implementation: CPython\n",
      "Python version       : 3.11.8\n",
      "IPython version      : 8.22.2\n",
      "\n",
      "numpy    : 1.26.4\n",
      "pandas   : 2.2.1\n",
      "polars   : 0.20.18\n",
      "torch    : 2.2.2\n",
      "lightning: 2.2.1\n",
      "\n",
      "conda environment: torch_p11\n",
      "\n"
     ]
    }
   ],
   "source": [
    "%load_ext watermark\n",
    "%watermark -v -p numpy,pandas,polars,torch,lightning --conda"
   ]
  },
  {
   "cell_type": "code",
   "execution_count": 2,
   "metadata": {},
   "outputs": [],
   "source": [
    "# Built-in library\n",
    "from pathlib import Path\n",
    "import re\n",
    "import json\n",
    "from typing import Any, Optional, Union\n",
    "import logging\n",
    "import warnings\n",
    "\n",
    "# Standard imports\n",
    "import numpy as np\n",
    "import numpy.typing as npt\n",
    "from pprint import pprint\n",
    "import pandas as pd\n",
    "import polars as pl\n",
    "from rich.console import Console\n",
    "from rich.theme import Theme\n",
    "\n",
    "custom_theme = Theme(\n",
    "    {\n",
    "        \"info\": \"#76FF7B\",\n",
    "        \"warning\": \"#FBDDFE\",\n",
    "        \"error\": \"#FF0000\",\n",
    "    }\n",
    ")\n",
    "console = Console(theme=custom_theme)\n",
    "\n",
    "# Visualization\n",
    "import matplotlib.pyplot as plt\n",
    "\n",
    "\n",
    "# Pandas settings\n",
    "pd.options.display.max_rows = 1_000\n",
    "pd.options.display.max_columns = 1_000\n",
    "pd.options.display.max_colwidth = 600\n",
    "\n",
    "warnings.filterwarnings(\"ignore\")\n",
    "\n",
    "\n",
    "# Black code formatter (Optional)\n",
    "%load_ext lab_black\n",
    "\n",
    "# auto reload imports\n",
    "%load_ext autoreload\n",
    "%autoreload 2"
   ]
  },
  {
   "cell_type": "code",
   "execution_count": 3,
   "metadata": {},
   "outputs": [],
   "source": [
    "import torch\n",
    "from torch import nn, Tensor\n",
    "import torch.nn.functional as F"
   ]
  },
  {
   "cell_type": "code",
   "execution_count": 4,
   "metadata": {},
   "outputs": [],
   "source": [
    "def load_data(file_path: str) -> list[str]:\n",
    "    \"\"\"Load text data from a file and return as a list of strings.\"\"\"\n",
    "\n",
    "    with open(file_path, \"r\") as f:\n",
    "        # Read all the lines as a list\n",
    "        data: list[str] = f.read().splitlines()\n",
    "\n",
    "    return data"
   ]
  },
  {
   "cell_type": "code",
   "execution_count": 5,
   "metadata": {},
   "outputs": [
    {
     "data": {
      "text/plain": [
       "['emma', 'olivia', 'ava', 'isabella', 'sophia']"
      ]
     },
     "execution_count": 5,
     "metadata": {},
     "output_type": "execute_result"
    }
   ],
   "source": [
    "# Load Data\n",
    "fp: str = \"../../../data/names.txt\"\n",
    "names: list[str] = load_data(file_path=fp)\n",
    "\n",
    "names[:5]"
   ]
  },
  {
   "cell_type": "markdown",
   "metadata": {},
   "source": [
    "### Build Vocabulary Of Characters And Mappings"
   ]
  },
  {
   "cell_type": "code",
   "execution_count": 6,
   "metadata": {},
   "outputs": [
    {
     "data": {
      "text/plain": [
       "{'a',\n",
       " 'b',\n",
       " 'c',\n",
       " 'd',\n",
       " 'e',\n",
       " 'f',\n",
       " 'g',\n",
       " 'h',\n",
       " 'i',\n",
       " 'j',\n",
       " 'k',\n",
       " 'l',\n",
       " 'm',\n",
       " 'n',\n",
       " 'o',\n",
       " 'p',\n",
       " 'q',\n",
       " 'r',\n",
       " 's',\n",
       " 't',\n",
       " 'u',\n",
       " 'v',\n",
       " 'w',\n",
       " 'x',\n",
       " 'y',\n",
       " 'z'}"
      ]
     },
     "execution_count": 6,
     "metadata": {},
     "output_type": "execute_result"
    }
   ],
   "source": [
    "set(\"\".join(names))"
   ]
  },
  {
   "cell_type": "code",
   "execution_count": 10,
   "metadata": {},
   "outputs": [
    {
     "data": {
      "text/html": [
       "<pre style=\"white-space:pre;overflow-x:auto;line-height:normal;font-family:Menlo,'DejaVu Sans Mono',consolas,'Courier New',monospace\"><span style=\"font-weight: bold\">{</span>\n",
       "    <span style=\"color: #008000; text-decoration-color: #008000\">'.'</span>: <span style=\"color: #008080; text-decoration-color: #008080; font-weight: bold\">0</span>,\n",
       "    <span style=\"color: #008000; text-decoration-color: #008000\">'a'</span>: <span style=\"color: #008080; text-decoration-color: #008080; font-weight: bold\">1</span>,\n",
       "    <span style=\"color: #008000; text-decoration-color: #008000\">'b'</span>: <span style=\"color: #008080; text-decoration-color: #008080; font-weight: bold\">2</span>,\n",
       "    <span style=\"color: #008000; text-decoration-color: #008000\">'c'</span>: <span style=\"color: #008080; text-decoration-color: #008080; font-weight: bold\">3</span>,\n",
       "    <span style=\"color: #008000; text-decoration-color: #008000\">'d'</span>: <span style=\"color: #008080; text-decoration-color: #008080; font-weight: bold\">4</span>,\n",
       "    <span style=\"color: #008000; text-decoration-color: #008000\">'e'</span>: <span style=\"color: #008080; text-decoration-color: #008080; font-weight: bold\">5</span>,\n",
       "    <span style=\"color: #008000; text-decoration-color: #008000\">'f'</span>: <span style=\"color: #008080; text-decoration-color: #008080; font-weight: bold\">6</span>,\n",
       "    <span style=\"color: #008000; text-decoration-color: #008000\">'g'</span>: <span style=\"color: #008080; text-decoration-color: #008080; font-weight: bold\">7</span>,\n",
       "    <span style=\"color: #008000; text-decoration-color: #008000\">'h'</span>: <span style=\"color: #008080; text-decoration-color: #008080; font-weight: bold\">8</span>,\n",
       "    <span style=\"color: #008000; text-decoration-color: #008000\">'i'</span>: <span style=\"color: #008080; text-decoration-color: #008080; font-weight: bold\">9</span>,\n",
       "    <span style=\"color: #008000; text-decoration-color: #008000\">'j'</span>: <span style=\"color: #008080; text-decoration-color: #008080; font-weight: bold\">10</span>,\n",
       "    <span style=\"color: #008000; text-decoration-color: #008000\">'k'</span>: <span style=\"color: #008080; text-decoration-color: #008080; font-weight: bold\">11</span>,\n",
       "    <span style=\"color: #008000; text-decoration-color: #008000\">'l'</span>: <span style=\"color: #008080; text-decoration-color: #008080; font-weight: bold\">12</span>,\n",
       "    <span style=\"color: #008000; text-decoration-color: #008000\">'m'</span>: <span style=\"color: #008080; text-decoration-color: #008080; font-weight: bold\">13</span>,\n",
       "    <span style=\"color: #008000; text-decoration-color: #008000\">'n'</span>: <span style=\"color: #008080; text-decoration-color: #008080; font-weight: bold\">14</span>,\n",
       "    <span style=\"color: #008000; text-decoration-color: #008000\">'o'</span>: <span style=\"color: #008080; text-decoration-color: #008080; font-weight: bold\">15</span>,\n",
       "    <span style=\"color: #008000; text-decoration-color: #008000\">'p'</span>: <span style=\"color: #008080; text-decoration-color: #008080; font-weight: bold\">16</span>,\n",
       "    <span style=\"color: #008000; text-decoration-color: #008000\">'q'</span>: <span style=\"color: #008080; text-decoration-color: #008080; font-weight: bold\">17</span>,\n",
       "    <span style=\"color: #008000; text-decoration-color: #008000\">'r'</span>: <span style=\"color: #008080; text-decoration-color: #008080; font-weight: bold\">18</span>,\n",
       "    <span style=\"color: #008000; text-decoration-color: #008000\">'s'</span>: <span style=\"color: #008080; text-decoration-color: #008080; font-weight: bold\">19</span>,\n",
       "    <span style=\"color: #008000; text-decoration-color: #008000\">'t'</span>: <span style=\"color: #008080; text-decoration-color: #008080; font-weight: bold\">20</span>,\n",
       "    <span style=\"color: #008000; text-decoration-color: #008000\">'u'</span>: <span style=\"color: #008080; text-decoration-color: #008080; font-weight: bold\">21</span>,\n",
       "    <span style=\"color: #008000; text-decoration-color: #008000\">'v'</span>: <span style=\"color: #008080; text-decoration-color: #008080; font-weight: bold\">22</span>,\n",
       "    <span style=\"color: #008000; text-decoration-color: #008000\">'w'</span>: <span style=\"color: #008080; text-decoration-color: #008080; font-weight: bold\">23</span>,\n",
       "    <span style=\"color: #008000; text-decoration-color: #008000\">'x'</span>: <span style=\"color: #008080; text-decoration-color: #008080; font-weight: bold\">24</span>,\n",
       "    <span style=\"color: #008000; text-decoration-color: #008000\">'y'</span>: <span style=\"color: #008080; text-decoration-color: #008080; font-weight: bold\">25</span>,\n",
       "    <span style=\"color: #008000; text-decoration-color: #008000\">'z'</span>: <span style=\"color: #008080; text-decoration-color: #008080; font-weight: bold\">26</span>\n",
       "<span style=\"font-weight: bold\">}</span>\n",
       "<span style=\"font-weight: bold\">{</span>\n",
       "    <span style=\"color: #008080; text-decoration-color: #008080; font-weight: bold\">0</span>: <span style=\"color: #008000; text-decoration-color: #008000\">'.'</span>,\n",
       "    <span style=\"color: #008080; text-decoration-color: #008080; font-weight: bold\">1</span>: <span style=\"color: #008000; text-decoration-color: #008000\">'a'</span>,\n",
       "    <span style=\"color: #008080; text-decoration-color: #008080; font-weight: bold\">2</span>: <span style=\"color: #008000; text-decoration-color: #008000\">'b'</span>,\n",
       "    <span style=\"color: #008080; text-decoration-color: #008080; font-weight: bold\">3</span>: <span style=\"color: #008000; text-decoration-color: #008000\">'c'</span>,\n",
       "    <span style=\"color: #008080; text-decoration-color: #008080; font-weight: bold\">4</span>: <span style=\"color: #008000; text-decoration-color: #008000\">'d'</span>,\n",
       "    <span style=\"color: #008080; text-decoration-color: #008080; font-weight: bold\">5</span>: <span style=\"color: #008000; text-decoration-color: #008000\">'e'</span>,\n",
       "    <span style=\"color: #008080; text-decoration-color: #008080; font-weight: bold\">6</span>: <span style=\"color: #008000; text-decoration-color: #008000\">'f'</span>,\n",
       "    <span style=\"color: #008080; text-decoration-color: #008080; font-weight: bold\">7</span>: <span style=\"color: #008000; text-decoration-color: #008000\">'g'</span>,\n",
       "    <span style=\"color: #008080; text-decoration-color: #008080; font-weight: bold\">8</span>: <span style=\"color: #008000; text-decoration-color: #008000\">'h'</span>,\n",
       "    <span style=\"color: #008080; text-decoration-color: #008080; font-weight: bold\">9</span>: <span style=\"color: #008000; text-decoration-color: #008000\">'i'</span>,\n",
       "    <span style=\"color: #008080; text-decoration-color: #008080; font-weight: bold\">10</span>: <span style=\"color: #008000; text-decoration-color: #008000\">'j'</span>,\n",
       "    <span style=\"color: #008080; text-decoration-color: #008080; font-weight: bold\">11</span>: <span style=\"color: #008000; text-decoration-color: #008000\">'k'</span>,\n",
       "    <span style=\"color: #008080; text-decoration-color: #008080; font-weight: bold\">12</span>: <span style=\"color: #008000; text-decoration-color: #008000\">'l'</span>,\n",
       "    <span style=\"color: #008080; text-decoration-color: #008080; font-weight: bold\">13</span>: <span style=\"color: #008000; text-decoration-color: #008000\">'m'</span>,\n",
       "    <span style=\"color: #008080; text-decoration-color: #008080; font-weight: bold\">14</span>: <span style=\"color: #008000; text-decoration-color: #008000\">'n'</span>,\n",
       "    <span style=\"color: #008080; text-decoration-color: #008080; font-weight: bold\">15</span>: <span style=\"color: #008000; text-decoration-color: #008000\">'o'</span>,\n",
       "    <span style=\"color: #008080; text-decoration-color: #008080; font-weight: bold\">16</span>: <span style=\"color: #008000; text-decoration-color: #008000\">'p'</span>,\n",
       "    <span style=\"color: #008080; text-decoration-color: #008080; font-weight: bold\">17</span>: <span style=\"color: #008000; text-decoration-color: #008000\">'q'</span>,\n",
       "    <span style=\"color: #008080; text-decoration-color: #008080; font-weight: bold\">18</span>: <span style=\"color: #008000; text-decoration-color: #008000\">'r'</span>,\n",
       "    <span style=\"color: #008080; text-decoration-color: #008080; font-weight: bold\">19</span>: <span style=\"color: #008000; text-decoration-color: #008000\">'s'</span>,\n",
       "    <span style=\"color: #008080; text-decoration-color: #008080; font-weight: bold\">20</span>: <span style=\"color: #008000; text-decoration-color: #008000\">'t'</span>,\n",
       "    <span style=\"color: #008080; text-decoration-color: #008080; font-weight: bold\">21</span>: <span style=\"color: #008000; text-decoration-color: #008000\">'u'</span>,\n",
       "    <span style=\"color: #008080; text-decoration-color: #008080; font-weight: bold\">22</span>: <span style=\"color: #008000; text-decoration-color: #008000\">'v'</span>,\n",
       "    <span style=\"color: #008080; text-decoration-color: #008080; font-weight: bold\">23</span>: <span style=\"color: #008000; text-decoration-color: #008000\">'w'</span>,\n",
       "    <span style=\"color: #008080; text-decoration-color: #008080; font-weight: bold\">24</span>: <span style=\"color: #008000; text-decoration-color: #008000\">'x'</span>,\n",
       "    <span style=\"color: #008080; text-decoration-color: #008080; font-weight: bold\">25</span>: <span style=\"color: #008000; text-decoration-color: #008000\">'y'</span>,\n",
       "    <span style=\"color: #008080; text-decoration-color: #008080; font-weight: bold\">26</span>: <span style=\"color: #008000; text-decoration-color: #008000\">'z'</span>\n",
       "<span style=\"font-weight: bold\">}</span>\n",
       "</pre>\n"
      ],
      "text/plain": [
       "\u001b[1m{\u001b[0m\n",
       "    \u001b[32m'.'\u001b[0m: \u001b[1;36m0\u001b[0m,\n",
       "    \u001b[32m'a'\u001b[0m: \u001b[1;36m1\u001b[0m,\n",
       "    \u001b[32m'b'\u001b[0m: \u001b[1;36m2\u001b[0m,\n",
       "    \u001b[32m'c'\u001b[0m: \u001b[1;36m3\u001b[0m,\n",
       "    \u001b[32m'd'\u001b[0m: \u001b[1;36m4\u001b[0m,\n",
       "    \u001b[32m'e'\u001b[0m: \u001b[1;36m5\u001b[0m,\n",
       "    \u001b[32m'f'\u001b[0m: \u001b[1;36m6\u001b[0m,\n",
       "    \u001b[32m'g'\u001b[0m: \u001b[1;36m7\u001b[0m,\n",
       "    \u001b[32m'h'\u001b[0m: \u001b[1;36m8\u001b[0m,\n",
       "    \u001b[32m'i'\u001b[0m: \u001b[1;36m9\u001b[0m,\n",
       "    \u001b[32m'j'\u001b[0m: \u001b[1;36m10\u001b[0m,\n",
       "    \u001b[32m'k'\u001b[0m: \u001b[1;36m11\u001b[0m,\n",
       "    \u001b[32m'l'\u001b[0m: \u001b[1;36m12\u001b[0m,\n",
       "    \u001b[32m'm'\u001b[0m: \u001b[1;36m13\u001b[0m,\n",
       "    \u001b[32m'n'\u001b[0m: \u001b[1;36m14\u001b[0m,\n",
       "    \u001b[32m'o'\u001b[0m: \u001b[1;36m15\u001b[0m,\n",
       "    \u001b[32m'p'\u001b[0m: \u001b[1;36m16\u001b[0m,\n",
       "    \u001b[32m'q'\u001b[0m: \u001b[1;36m17\u001b[0m,\n",
       "    \u001b[32m'r'\u001b[0m: \u001b[1;36m18\u001b[0m,\n",
       "    \u001b[32m's'\u001b[0m: \u001b[1;36m19\u001b[0m,\n",
       "    \u001b[32m't'\u001b[0m: \u001b[1;36m20\u001b[0m,\n",
       "    \u001b[32m'u'\u001b[0m: \u001b[1;36m21\u001b[0m,\n",
       "    \u001b[32m'v'\u001b[0m: \u001b[1;36m22\u001b[0m,\n",
       "    \u001b[32m'w'\u001b[0m: \u001b[1;36m23\u001b[0m,\n",
       "    \u001b[32m'x'\u001b[0m: \u001b[1;36m24\u001b[0m,\n",
       "    \u001b[32m'y'\u001b[0m: \u001b[1;36m25\u001b[0m,\n",
       "    \u001b[32m'z'\u001b[0m: \u001b[1;36m26\u001b[0m\n",
       "\u001b[1m}\u001b[0m\n",
       "\u001b[1m{\u001b[0m\n",
       "    \u001b[1;36m0\u001b[0m: \u001b[32m'.'\u001b[0m,\n",
       "    \u001b[1;36m1\u001b[0m: \u001b[32m'a'\u001b[0m,\n",
       "    \u001b[1;36m2\u001b[0m: \u001b[32m'b'\u001b[0m,\n",
       "    \u001b[1;36m3\u001b[0m: \u001b[32m'c'\u001b[0m,\n",
       "    \u001b[1;36m4\u001b[0m: \u001b[32m'd'\u001b[0m,\n",
       "    \u001b[1;36m5\u001b[0m: \u001b[32m'e'\u001b[0m,\n",
       "    \u001b[1;36m6\u001b[0m: \u001b[32m'f'\u001b[0m,\n",
       "    \u001b[1;36m7\u001b[0m: \u001b[32m'g'\u001b[0m,\n",
       "    \u001b[1;36m8\u001b[0m: \u001b[32m'h'\u001b[0m,\n",
       "    \u001b[1;36m9\u001b[0m: \u001b[32m'i'\u001b[0m,\n",
       "    \u001b[1;36m10\u001b[0m: \u001b[32m'j'\u001b[0m,\n",
       "    \u001b[1;36m11\u001b[0m: \u001b[32m'k'\u001b[0m,\n",
       "    \u001b[1;36m12\u001b[0m: \u001b[32m'l'\u001b[0m,\n",
       "    \u001b[1;36m13\u001b[0m: \u001b[32m'm'\u001b[0m,\n",
       "    \u001b[1;36m14\u001b[0m: \u001b[32m'n'\u001b[0m,\n",
       "    \u001b[1;36m15\u001b[0m: \u001b[32m'o'\u001b[0m,\n",
       "    \u001b[1;36m16\u001b[0m: \u001b[32m'p'\u001b[0m,\n",
       "    \u001b[1;36m17\u001b[0m: \u001b[32m'q'\u001b[0m,\n",
       "    \u001b[1;36m18\u001b[0m: \u001b[32m'r'\u001b[0m,\n",
       "    \u001b[1;36m19\u001b[0m: \u001b[32m's'\u001b[0m,\n",
       "    \u001b[1;36m20\u001b[0m: \u001b[32m't'\u001b[0m,\n",
       "    \u001b[1;36m21\u001b[0m: \u001b[32m'u'\u001b[0m,\n",
       "    \u001b[1;36m22\u001b[0m: \u001b[32m'v'\u001b[0m,\n",
       "    \u001b[1;36m23\u001b[0m: \u001b[32m'w'\u001b[0m,\n",
       "    \u001b[1;36m24\u001b[0m: \u001b[32m'x'\u001b[0m,\n",
       "    \u001b[1;36m25\u001b[0m: \u001b[32m'y'\u001b[0m,\n",
       "    \u001b[1;36m26\u001b[0m: \u001b[32m'z'\u001b[0m\n",
       "\u001b[1m}\u001b[0m\n"
      ]
     },
     "metadata": {},
     "output_type": "display_data"
    }
   ],
   "source": [
    "special_token: str = \".\"\n",
    "characters: list[str] = sorted(set(\"\".join(names)))\n",
    "# Add the special token to the beginning of the list.\n",
    "characters.insert(0, special_token)\n",
    "n_chars: int = len(characters)\n",
    "\n",
    "# Convert text to numbers.\n",
    "text_to_num: dict[str, int] = {text: idx for idx, text in enumerate(characters)}\n",
    "# Convert numbers to text\n",
    "num_to_text: dict[int, str] = {idx: text for text, idx in text_to_num.items()}\n",
    "\n",
    "\n",
    "console.print(text_to_num, num_to_text)"
   ]
  },
  {
   "cell_type": "code",
   "execution_count": 11,
   "metadata": {},
   "outputs": [
    {
     "name": "stdout",
     "output_type": "stream",
     "text": [
      "emma\n",
      "... ---> e\n",
      "..e ---> m\n",
      ".em ---> m\n",
      "emm ---> a\n",
      "mma ---> .\n",
      "ma. ---> \n",
      "\n",
      "olivia\n",
      "... ---> o\n",
      "..o ---> l\n",
      ".ol ---> i\n",
      "oli ---> v\n",
      "liv ---> i\n",
      "ivi ---> a\n",
      "via ---> .\n",
      "ia. ---> \n",
      "\n",
      "ava\n",
      "... ---> a\n",
      "..a ---> v\n",
      ".av ---> a\n",
      "ava ---> .\n",
      "va. ---> \n",
      "\n",
      "isabella\n",
      "... ---> i\n",
      "..i ---> s\n",
      ".is ---> a\n",
      "isa ---> b\n",
      "sab ---> e\n",
      "abe ---> l\n",
      "bel ---> l\n",
      "ell ---> a\n",
      "lla ---> .\n",
      "la. ---> \n",
      "\n",
      "sophia\n",
      "... ---> s\n",
      "..s ---> o\n",
      ".so ---> p\n",
      "sop ---> h\n",
      "oph ---> i\n",
      "phi ---> a\n",
      "hia ---> .\n",
      "ia. ---> \n",
      "\n"
     ]
    }
   ],
   "source": [
    "# Context length: num of chars required to predict the next char\n",
    "block_size: int = 3\n",
    "X, y = [], []\n",
    "\n",
    "# Read N words at a time\n",
    "for w in names[:5]:\n",
    "    print(w)\n",
    "    # Add special character(s) between words\n",
    "    word: list[str] = [special_token] * (block_size) + list(w) + [special_token]\n",
    "\n",
    "    for i in range(len(word) - block_size + 1):\n",
    "        # Get indices of the characters in the word.\n",
    "        # This will be used to create the n-gram tensor.\n",
    "        idxs: list[int] = [text_to_num.get(word[j]) for j in range(i, i + block_size)]\n",
    "        chars: list[str] = [word[j] for j in range(i, i + block_size)]\n",
    "        print(\n",
    "            f\"{''.join(chars)} ---> {word[i+block_size] if i < len(word)-block_size else ''}\"\n",
    "        )\n",
    "        X.append(idxs[0])\n",
    "        y.append(idxs[1])\n",
    "    print()\n",
    "\n",
    "X: Tensor = torch.tensor(X)\n",
    "y: Tensor = torch.tensor(y)"
   ]
  },
  {
   "cell_type": "code",
   "execution_count": 12,
   "metadata": {},
   "outputs": [
    {
     "data": {
      "text/plain": [
       "(torch.Size([37]), torch.Size([37]))"
      ]
     },
     "execution_count": 12,
     "metadata": {},
     "output_type": "execute_result"
    }
   ],
   "source": [
    "X.shape, y.shape"
   ]
  },
  {
   "cell_type": "code",
   "execution_count": 13,
   "metadata": {},
   "outputs": [
    {
     "name": "stdout",
     "output_type": "stream",
     "text": [
      "C.shape = torch.Size([27, 2])\n"
     ]
    },
    {
     "data": {
      "text/plain": [
       "tensor([[ 1.9163,  0.3247],\n",
       "        [-0.7992,  1.5627],\n",
       "        [ 0.2732, -0.0048],\n",
       "        [ 2.3680, -1.7333],\n",
       "        [-0.0935,  0.0136],\n",
       "        [-0.0941, -1.5134],\n",
       "        [ 0.5186,  0.2429],\n",
       "        [ 1.3886,  1.9865],\n",
       "        [-0.1567,  0.3870],\n",
       "        [-0.4536,  0.5081],\n",
       "        [-1.1571, -0.9593],\n",
       "        [ 0.6917, -0.4346],\n",
       "        [ 1.0448, -2.2214],\n",
       "        [ 1.6801,  0.6266],\n",
       "        [-1.0635, -0.8294],\n",
       "        [-0.4315, -0.8258],\n",
       "        [ 1.4252,  1.0683],\n",
       "        [ 0.7842, -0.0208],\n",
       "        [ 0.6248, -0.1475],\n",
       "        [ 1.4614,  0.3518],\n",
       "        [ 0.5166, -0.3145],\n",
       "        [ 1.4578,  0.6152],\n",
       "        [-0.7944,  0.5030],\n",
       "        [ 1.5362, -0.5275],\n",
       "        [ 0.1844, -0.6385],\n",
       "        [ 0.2334, -0.0110],\n",
       "        [-0.3823, -0.0169]])"
      ]
     },
     "execution_count": 13,
     "metadata": {},
     "output_type": "execute_result"
    }
   ],
   "source": [
    "# Build an embedding lookup table\n",
    "emb_dim: int = 2  # embedding dimension\n",
    "C: Tensor = torch.randn((n_chars, emb_dim))\n",
    "\n",
    "print(f\"{C.shape = }\")\n",
    "C"
   ]
  },
  {
   "cell_type": "code",
   "execution_count": 14,
   "metadata": {},
   "outputs": [
    {
     "data": {
      "text/plain": [
       "tensor([-0.0941, -1.5134])"
      ]
     },
     "execution_count": 14,
     "metadata": {},
     "output_type": "execute_result"
    }
   ],
   "source": [
    "# Embed the inputs\n",
    "# Method 1\n",
    "C[5]"
   ]
  },
  {
   "cell_type": "code",
   "execution_count": 16,
   "metadata": {},
   "outputs": [
    {
     "data": {
      "text/plain": [
       "tensor([[-0.0941, -1.5134]])"
      ]
     },
     "execution_count": 16,
     "metadata": {},
     "output_type": "execute_result"
    }
   ],
   "source": [
    "# Method 2\n",
    "F.one_hot(torch.tensor([5]), num_classes=n_chars).float() @ C"
   ]
  },
  {
   "cell_type": "code",
   "execution_count": 17,
   "metadata": {},
   "outputs": [
    {
     "data": {
      "text/plain": [
       "tensor([[ 1.9163,  0.3247],\n",
       "        [ 1.9163,  0.3247],\n",
       "        [ 1.9163,  0.3247],\n",
       "        [-0.0941, -1.5134],\n",
       "        [ 1.6801,  0.6266],\n",
       "        [ 1.6801,  0.6266],\n",
       "        [ 1.9163,  0.3247],\n",
       "        [ 1.9163,  0.3247],\n",
       "        [ 1.9163,  0.3247],\n",
       "        [-0.4315, -0.8258],\n",
       "        [ 1.0448, -2.2214],\n",
       "        [-0.4536,  0.5081],\n",
       "        [-0.7944,  0.5030],\n",
       "        [-0.4536,  0.5081],\n",
       "        [ 1.9163,  0.3247],\n",
       "        [ 1.9163,  0.3247],\n",
       "        [ 1.9163,  0.3247],\n",
       "        [-0.7992,  1.5627],\n",
       "        [-0.7944,  0.5030],\n",
       "        [ 1.9163,  0.3247],\n",
       "        [ 1.9163,  0.3247],\n",
       "        [ 1.9163,  0.3247],\n",
       "        [-0.4536,  0.5081],\n",
       "        [ 1.4614,  0.3518],\n",
       "        [-0.7992,  1.5627],\n",
       "        [ 0.2732, -0.0048],\n",
       "        [-0.0941, -1.5134],\n",
       "        [ 1.0448, -2.2214],\n",
       "        [ 1.0448, -2.2214],\n",
       "        [ 1.9163,  0.3247],\n",
       "        [ 1.9163,  0.3247],\n",
       "        [ 1.9163,  0.3247],\n",
       "        [ 1.4614,  0.3518],\n",
       "        [-0.4315, -0.8258],\n",
       "        [ 1.4252,  1.0683],\n",
       "        [-0.1567,  0.3870],\n",
       "        [-0.4536,  0.5081]])"
      ]
     },
     "execution_count": 17,
     "metadata": {},
     "output_type": "execute_result"
    }
   ],
   "source": [
    "# Embed the entire input\n",
    "C[X]"
   ]
  },
  {
   "cell_type": "code",
   "execution_count": 18,
   "metadata": {},
   "outputs": [
    {
     "data": {
      "text/plain": [
       "tensor([[ 1.9163,  0.3247],\n",
       "        [ 1.9163,  0.3247],\n",
       "        [ 1.9163,  0.3247],\n",
       "        [-0.0941, -1.5134],\n",
       "        [ 1.6801,  0.6266],\n",
       "        [ 1.6801,  0.6266],\n",
       "        [ 1.9163,  0.3247],\n",
       "        [ 1.9163,  0.3247],\n",
       "        [ 1.9163,  0.3247],\n",
       "        [-0.4315, -0.8258],\n",
       "        [ 1.0448, -2.2214],\n",
       "        [-0.4536,  0.5081],\n",
       "        [-0.7944,  0.5030],\n",
       "        [-0.4536,  0.5081],\n",
       "        [ 1.9163,  0.3247],\n",
       "        [ 1.9163,  0.3247],\n",
       "        [ 1.9163,  0.3247],\n",
       "        [-0.7992,  1.5627],\n",
       "        [-0.7944,  0.5030],\n",
       "        [ 1.9163,  0.3247],\n",
       "        [ 1.9163,  0.3247],\n",
       "        [ 1.9163,  0.3247],\n",
       "        [-0.4536,  0.5081],\n",
       "        [ 1.4614,  0.3518],\n",
       "        [-0.7992,  1.5627],\n",
       "        [ 0.2732, -0.0048],\n",
       "        [-0.0941, -1.5134],\n",
       "        [ 1.0448, -2.2214],\n",
       "        [ 1.0448, -2.2214],\n",
       "        [ 1.9163,  0.3247],\n",
       "        [ 1.9163,  0.3247],\n",
       "        [ 1.9163,  0.3247],\n",
       "        [ 1.4614,  0.3518],\n",
       "        [-0.4315, -0.8258],\n",
       "        [ 1.4252,  1.0683],\n",
       "        [-0.1567,  0.3870],\n",
       "        [-0.4536,  0.5081]])"
      ]
     },
     "execution_count": 18,
     "metadata": {},
     "output_type": "execute_result"
    }
   ],
   "source": [
    "# OR\n",
    "# Method 2\n",
    "F.one_hot(X, num_classes=n_chars).float() @ C"
   ]
  },
  {
   "cell_type": "code",
   "execution_count": 20,
   "metadata": {},
   "outputs": [
    {
     "data": {
      "text/plain": [
       "tensor([1.9163, 0.3247])"
      ]
     },
     "execution_count": 20,
     "metadata": {},
     "output_type": "execute_result"
    }
   ],
   "source": [
    "C[X][1]"
   ]
  },
  {
   "cell_type": "code",
   "execution_count": null,
   "metadata": {},
   "outputs": [],
   "source": [
    "C[X][1]"
   ]
  },
  {
   "cell_type": "code",
   "execution_count": null,
   "metadata": {},
   "outputs": [],
   "source": []
  },
  {
   "cell_type": "code",
   "execution_count": null,
   "metadata": {},
   "outputs": [],
   "source": []
  },
  {
   "cell_type": "code",
   "execution_count": null,
   "metadata": {},
   "outputs": [],
   "source": []
  },
  {
   "cell_type": "code",
   "execution_count": null,
   "metadata": {},
   "outputs": [],
   "source": []
  },
  {
   "cell_type": "code",
   "execution_count": null,
   "metadata": {},
   "outputs": [],
   "source": []
  },
  {
   "cell_type": "code",
   "execution_count": null,
   "metadata": {},
   "outputs": [],
   "source": []
  },
  {
   "cell_type": "code",
   "execution_count": null,
   "metadata": {},
   "outputs": [],
   "source": []
  },
  {
   "cell_type": "code",
   "execution_count": null,
   "metadata": {},
   "outputs": [],
   "source": []
  },
  {
   "cell_type": "code",
   "execution_count": null,
   "metadata": {},
   "outputs": [],
   "source": []
  },
  {
   "cell_type": "code",
   "execution_count": null,
   "metadata": {},
   "outputs": [],
   "source": []
  },
  {
   "cell_type": "code",
   "execution_count": null,
   "metadata": {},
   "outputs": [],
   "source": []
  },
  {
   "cell_type": "code",
   "execution_count": null,
   "metadata": {},
   "outputs": [],
   "source": []
  },
  {
   "cell_type": "code",
   "execution_count": null,
   "metadata": {},
   "outputs": [],
   "source": []
  },
  {
   "cell_type": "code",
   "execution_count": null,
   "metadata": {},
   "outputs": [],
   "source": []
  }
 ],
 "metadata": {
  "kernelspec": {
   "display_name": "torch_p11",
   "language": "python",
   "name": "python3"
  },
  "language_info": {
   "codemirror_mode": {
    "name": "ipython",
    "version": 3
   },
   "file_extension": ".py",
   "mimetype": "text/x-python",
   "name": "python",
   "nbconvert_exporter": "python",
   "pygments_lexer": "ipython3",
   "version": "3.11.8"
  }
 },
 "nbformat": 4,
 "nbformat_minor": 2
}
