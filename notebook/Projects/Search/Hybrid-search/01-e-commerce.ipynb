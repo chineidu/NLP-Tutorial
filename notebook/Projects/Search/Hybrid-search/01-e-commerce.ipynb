{
 "cells": [
  {
   "cell_type": "markdown",
   "metadata": {},
   "source": [
    "# E-Commerce Hybrid Search\n",
    "\n",
    "- Hybrid search is an information retrieval technique that combines multiple search algorithms to improve the accuracy and relevance of search results. \n",
    "- It leverages the strengths of different approaches to overcome the limitations of each individually.\n",
    "\n",
    "## Traditional Search Methods\n",
    "\n",
    "- **Keyword-based search**: Relies on **matching keywords** in the query to keywords in documents. It's efficient but often misses semantically similar content.\n",
    "- **Semantic search**: Uses **vector representations** (embeddings) to capture the **meaning of text**, allowing for retrieval based on semantic similarity. It can be less efficient for large datasets.\n",
    "\n",
    "## Hybrid Search Approach\n",
    "\n",
    "- It combines keyword and semantic search: Utilizes keywords for initial filtering and semantic similarity for deeper analysis.\n",
    "- It provides results that are both semantically relevant and contain the query keywords.\n",
    "- It offers a more intuitive and natural search experience.\n",
    "\n",
    "## Implementation\n",
    "\n",
    "- **Pinecone's** `sparse-dense` index allows us to perform seamless hybrid search for e-commerce or in any other context."
   ]
  },
  {
   "cell_type": "code",
   "execution_count": null,
   "metadata": {},
   "outputs": [],
   "source": [
    "!pip install -qU transformers[torch] datasets evaluate \\\n",
    "                sentence-transformers pinecone-client pinecone-text \\\n",
    "                protobuf "
   ]
  },
  {
   "cell_type": "code",
   "execution_count": 1,
   "metadata": {},
   "outputs": [],
   "source": [
    "# Built-in library\n",
    "import re\n",
    "import json\n",
    "from typing import Any, Optional, Union\n",
    "import logging\n",
    "import warnings\n",
    "\n",
    "# Standard importsa\n",
    "import numpy as np\n",
    "from pathlib import Path\n",
    "import pandas as pd\n",
    "import polars as pl\n",
    "from pprint import pprint\n",
    "from rich import print\n",
    "import torch\n",
    "\n",
    "# Visualization\n",
    "import matplotlib.pyplot as plt\n",
    "\n",
    "\n",
    "# Pandas settings\n",
    "pd.options.display.max_rows = 1_000\n",
    "pd.options.display.max_columns = 1_000\n",
    "pd.options.display.max_colwidth = 600\n",
    "\n",
    "warnings.filterwarnings(\"ignore\")\n",
    "\n",
    "# Black code formatter (Optional)\n",
    "%load_ext lab_black\n",
    "\n",
    "# auto reload imports\n",
    "%load_ext autoreload\n",
    "%autoreload 2"
   ]
  },
  {
   "cell_type": "code",
   "execution_count": 5,
   "metadata": {},
   "outputs": [],
   "source": [
    "import os\n",
    "\n",
    "from dotenv import load_dotenv, find_dotenv\n",
    "\n",
    "\n",
    "load_dotenv(dotenv_path=find_dotenv(filename=\".env\"))\n",
    "\n",
    "\n",
    "def load_creds() -> tuple[Optional[str], Optional[str], Optional[str], Optional[str]]:\n",
    "    \"\"\"This is used to load the credentials.\"\"\"\n",
    "    OPENAI_API_KEY = os.getenv(\"OPENAI_API_KEY\")\n",
    "    PINECONE_API_KEY = os.getenv(\"PINECONE_API_KEY\")\n",
    "    PINECONE_ENV = os.getenv(\"PINECONE_ENV\")\n",
    "    QDRANT_API_KEY = os.getenv(\"QDRANT_API_KEY\")\n",
    "\n",
    "    return (OPENAI_API_KEY, PINECONE_API_KEY, PINECONE_ENV, QDRANT_API_KEY)\n",
    "\n",
    "\n",
    "(OPENAI_API_KEY, PINECONE_API_KEY, PINECONE_ENV, QDRANT_API_KEY) = load_creds()"
   ]
  },
  {
   "cell_type": "markdown",
   "metadata": {},
   "source": [
    "## Initialize Connection To Pinecone"
   ]
  },
  {
   "cell_type": "code",
   "execution_count": 4,
   "metadata": {},
   "outputs": [],
   "source": [
    "import pinecone\n",
    "\n",
    "\n",
    "pinecone.init(api_key=PINECONE_API_KEY, environment=PINECONE_ENV)"
   ]
  },
  {
   "cell_type": "markdown",
   "metadata": {},
   "source": [
    "### Note\n",
    "\n",
    "- To use the `sparse-dense` index in `Pinecone`, we must set the `metri=\"dotproduct\"` and use either `s1` or `p1` pods."
   ]
  },
  {
   "cell_type": "code",
   "execution_count": 6,
   "metadata": {},
   "outputs": [],
   "source": [
    "INDEX_NAME: str = \"hybrid-image-search\"\n",
    "VECTOR_DIMENSION: int = 512\n",
    "METRIC: str = \"dotproduct\"\n",
    "POD_TYPE: str = \"s1\"\n",
    "\n",
    "# Create index\n",
    "if INDEX_NAME not in pinecone.list_indexes():\n",
    "    pinecone.create_index(\n",
    "        name=INDEX_NAME,\n",
    "        dimension=VECTOR_DIMENSION,\n",
    "        metric=METRIC,\n",
    "        pod_type=POD_TYPE,\n",
    "    )\n",
    "\n",
    "# Connect to the Pinecone index\n",
    "index = pinecone.Index(index_name=INDEX_NAME)"
   ]
  },
  {
   "cell_type": "markdown",
   "metadata": {},
   "source": [
    "## Load Data\n",
    "\n",
    "- We'll be using a subset of the Open Fashion Product Images dataset which contains ~44k fashion products with images.\n",
    "- The data can be found on [kaggle](https://www.kaggle.com/datasets/paramaggarwal/fashion-product-images-small).\n",
    "- It can also be found here on [HuggingFace](https://huggingface.co/datasets/ashraq/fashion-product-images-small)."
   ]
  },
  {
   "cell_type": "code",
   "execution_count": 8,
   "metadata": {},
   "outputs": [
    {
     "data": {
      "application/vnd.jupyter.widget-view+json": {
       "model_id": "d7ec7d0461904b6494c26ab187bc94f9",
       "version_major": 2,
       "version_minor": 0
      },
      "text/plain": [
       "Downloading readme:   0%|          | 0.00/867 [00:00<?, ?B/s]"
      ]
     },
     "metadata": {},
     "output_type": "display_data"
    },
    {
     "data": {
      "application/vnd.jupyter.widget-view+json": {
       "model_id": "971cf47804c746758ab3ee39b1ead1be",
       "version_major": 2,
       "version_minor": 0
      },
      "text/plain": [
       "Downloading data files:   0%|          | 0/1 [00:00<?, ?it/s]"
      ]
     },
     "metadata": {},
     "output_type": "display_data"
    },
    {
     "data": {
      "application/vnd.jupyter.widget-view+json": {
       "model_id": "45ec0d14122e4a01bcdc4916a312c5f9",
       "version_major": 2,
       "version_minor": 0
      },
      "text/plain": [
       "Downloading data:   0%|          | 0.00/136M [00:00<?, ?B/s]"
      ]
     },
     "metadata": {},
     "output_type": "display_data"
    },
    {
     "data": {
      "application/vnd.jupyter.widget-view+json": {
       "model_id": "d5b938bd5e924b0bb37a5914c0dbc678",
       "version_major": 2,
       "version_minor": 0
      },
      "text/plain": [
       "Downloading data:   0%|          | 0.00/135M [00:00<?, ?B/s]"
      ]
     },
     "metadata": {},
     "output_type": "display_data"
    },
    {
     "data": {
      "application/vnd.jupyter.widget-view+json": {
       "model_id": "c1259813261749d0b323854835fe5c89",
       "version_major": 2,
       "version_minor": 0
      },
      "text/plain": [
       "Extracting data files:   0%|          | 0/1 [00:00<?, ?it/s]"
      ]
     },
     "metadata": {},
     "output_type": "display_data"
    },
    {
     "data": {
      "application/vnd.jupyter.widget-view+json": {
       "model_id": "51d6c447273449089203b8646fa43ca7",
       "version_major": 2,
       "version_minor": 0
      },
      "text/plain": [
       "Generating train split:   0%|          | 0/44072 [00:00<?, ? examples/s]"
      ]
     },
     "metadata": {},
     "output_type": "display_data"
    },
    {
     "data": {
      "text/plain": [
       "Dataset({\n",
       "    features: ['id', 'gender', 'masterCategory', 'subCategory', 'articleType', 'baseColour', 'season', 'year', 'usage', 'productDisplayName', 'image'],\n",
       "    num_rows: 44072\n",
       "})"
      ]
     },
     "execution_count": 8,
     "metadata": {},
     "output_type": "execute_result"
    }
   ],
   "source": [
    "from datasets import Dataset, DatasetDict, load_dataset\n",
    "\n",
    "\n",
    "PATH: str = \"ashraq/fashion-product-images-small\"\n",
    "SPLIT: str = \"train\"\n",
    "\n",
    "fashion_data: Dataset = load_dataset(path=PATH, split=SPLIT)\n",
    "\n",
    "fashion_data"
   ]
  },
  {
   "cell_type": "code",
   "execution_count": 13,
   "metadata": {},
   "outputs": [],
   "source": [
    "# Extract the images and create the metadata/payload\n",
    "images: list[Any] = fashion_data[\"image\"]\n",
    "metadata: Dataset = fashion_data.remove_columns(column_names=[\"image\"])"
   ]
  },
  {
   "cell_type": "code",
   "execution_count": 14,
   "metadata": {},
   "outputs": [
    {
     "data": {
      "image/png": "[encoded data removed]",
      "text/plain": [
       "<PIL.JpegImagePlugin.JpegImageFile image mode=RGB size=60x80>"
      ]
     },
     "execution_count": 14,
     "metadata": {},
     "output_type": "execute_result"
    }
   ],
   "source": [
    "# Display a product\n",
    "images[10]"
   ]
  },
  {
   "cell_type": "code",
   "execution_count": 15,
   "metadata": {},
   "outputs": [
    {
     "data": {
      "text/html": [
       "<div>\n",
       "<style scoped>\n",
       "    .dataframe tbody tr th:only-of-type {\n",
       "        vertical-align: middle;\n",
       "    }\n",
       "\n",
       "    .dataframe tbody tr th {\n",
       "        vertical-align: top;\n",
       "    }\n",
       "\n",
       "    .dataframe thead th {\n",
       "        text-align: right;\n",
       "    }\n",
       "</style>\n",
       "<table border=\"1\" class=\"dataframe\">\n",
       "  <thead>\n",
       "    <tr style=\"text-align: right;\">\n",
       "      <th></th>\n",
       "      <th>id</th>\n",
       "      <th>gender</th>\n",
       "      <th>masterCategory</th>\n",
       "      <th>subCategory</th>\n",
       "      <th>articleType</th>\n",
       "      <th>baseColour</th>\n",
       "      <th>season</th>\n",
       "      <th>year</th>\n",
       "      <th>usage</th>\n",
       "      <th>productDisplayName</th>\n",
       "    </tr>\n",
       "  </thead>\n",
       "  <tbody>\n",
       "    <tr>\n",
       "      <th>0</th>\n",
       "      <td>15970</td>\n",
       "      <td>Men</td>\n",
       "      <td>Apparel</td>\n",
       "      <td>Topwear</td>\n",
       "      <td>Shirts</td>\n",
       "      <td>Navy Blue</td>\n",
       "      <td>Fall</td>\n",
       "      <td>2011.0</td>\n",
       "      <td>Casual</td>\n",
       "      <td>Turtle Check Men Navy Blue Shirt</td>\n",
       "    </tr>\n",
       "    <tr>\n",
       "      <th>1</th>\n",
       "      <td>39386</td>\n",
       "      <td>Men</td>\n",
       "      <td>Apparel</td>\n",
       "      <td>Bottomwear</td>\n",
       "      <td>Jeans</td>\n",
       "      <td>Blue</td>\n",
       "      <td>Summer</td>\n",
       "      <td>2012.0</td>\n",
       "      <td>Casual</td>\n",
       "      <td>Peter England Men Party Blue Jeans</td>\n",
       "    </tr>\n",
       "    <tr>\n",
       "      <th>2</th>\n",
       "      <td>59263</td>\n",
       "      <td>Women</td>\n",
       "      <td>Accessories</td>\n",
       "      <td>Watches</td>\n",
       "      <td>Watches</td>\n",
       "      <td>Silver</td>\n",
       "      <td>Winter</td>\n",
       "      <td>2016.0</td>\n",
       "      <td>Casual</td>\n",
       "      <td>Titan Women Silver Watch</td>\n",
       "    </tr>\n",
       "    <tr>\n",
       "      <th>3</th>\n",
       "      <td>21379</td>\n",
       "      <td>Men</td>\n",
       "      <td>Apparel</td>\n",
       "      <td>Bottomwear</td>\n",
       "      <td>Track Pants</td>\n",
       "      <td>Black</td>\n",
       "      <td>Fall</td>\n",
       "      <td>2011.0</td>\n",
       "      <td>Casual</td>\n",
       "      <td>Manchester United Men Solid Black Track Pants</td>\n",
       "    </tr>\n",
       "    <tr>\n",
       "      <th>4</th>\n",
       "      <td>53759</td>\n",
       "      <td>Men</td>\n",
       "      <td>Apparel</td>\n",
       "      <td>Topwear</td>\n",
       "      <td>Tshirts</td>\n",
       "      <td>Grey</td>\n",
       "      <td>Summer</td>\n",
       "      <td>2012.0</td>\n",
       "      <td>Casual</td>\n",
       "      <td>Puma Men Grey T-shirt</td>\n",
       "    </tr>\n",
       "  </tbody>\n",
       "</table>\n",
       "</div>"
      ],
      "text/plain": [
       "      id gender masterCategory subCategory  articleType baseColour  season  \\\n",
       "0  15970    Men        Apparel     Topwear       Shirts  Navy Blue    Fall   \n",
       "1  39386    Men        Apparel  Bottomwear        Jeans       Blue  Summer   \n",
       "2  59263  Women    Accessories     Watches      Watches     Silver  Winter   \n",
       "3  21379    Men        Apparel  Bottomwear  Track Pants      Black    Fall   \n",
       "4  53759    Men        Apparel     Topwear      Tshirts       Grey  Summer   \n",
       "\n",
       "     year   usage                             productDisplayName  \n",
       "0  2011.0  Casual               Turtle Check Men Navy Blue Shirt  \n",
       "1  2012.0  Casual             Peter England Men Party Blue Jeans  \n",
       "2  2016.0  Casual                       Titan Women Silver Watch  \n",
       "3  2011.0  Casual  Manchester United Men Solid Black Track Pants  \n",
       "4  2012.0  Casual                          Puma Men Grey T-shirt  "
      ]
     },
     "execution_count": 15,
     "metadata": {},
     "output_type": "execute_result"
    }
   ],
   "source": [
    "# Convert metadata to a DataFrame\n",
    "metadata = metadata.to_pandas()\n",
    "metadata.head()"
   ]
  },
  {
   "cell_type": "code",
   "execution_count": 23,
   "metadata": {},
   "outputs": [
    {
     "data": {
      "text/plain": [
       "0     Men Apparel Topwear Shirts Navy Blue Fall Casual Turtle Check Men Navy Blue Shirt\n",
       "1    Men Apparel Bottomwear Jeans Blue Summer Casual Peter England Men Party Blue Jeans\n",
       "2       Women Accessories Watches Watches Silver Winter Casual Titan Women Silver Watch\n",
       "dtype: object"
      ]
     },
     "execution_count": 23,
     "metadata": {},
     "output_type": "execute_result"
    }
   ],
   "source": [
    "# Concatenate the data to create product description\n",
    "# Sample\n",
    "A = metadata.iloc[:3]\n",
    "\n",
    "COLUMNS: list[str] = [\n",
    "    \"gender\",\n",
    "    \"masterCategory\",\n",
    "    \"subCategory\",\n",
    "    \"articleType\",\n",
    "    \"baseColour\",\n",
    "    \"season\",\n",
    "    \"usage\",\n",
    "    \"productDisplayName\",\n",
    "]\n",
    "A[COLUMNS].agg(\" \".join, axis=1)"
   ]
  },
  {
   "cell_type": "code",
   "execution_count": 26,
   "metadata": {},
   "outputs": [
    {
     "data": {
      "text/html": [
       "<div>\n",
       "<style scoped>\n",
       "    .dataframe tbody tr th:only-of-type {\n",
       "        vertical-align: middle;\n",
       "    }\n",
       "\n",
       "    .dataframe tbody tr th {\n",
       "        vertical-align: top;\n",
       "    }\n",
       "\n",
       "    .dataframe thead th {\n",
       "        text-align: right;\n",
       "    }\n",
       "</style>\n",
       "<table border=\"1\" class=\"dataframe\">\n",
       "  <thead>\n",
       "    <tr style=\"text-align: right;\">\n",
       "      <th></th>\n",
       "      <th>id</th>\n",
       "      <th>gender</th>\n",
       "      <th>masterCategory</th>\n",
       "      <th>subCategory</th>\n",
       "      <th>articleType</th>\n",
       "      <th>baseColour</th>\n",
       "      <th>season</th>\n",
       "      <th>year</th>\n",
       "      <th>usage</th>\n",
       "      <th>productDisplayName</th>\n",
       "      <th>productDetails</th>\n",
       "    </tr>\n",
       "  </thead>\n",
       "  <tbody>\n",
       "    <tr>\n",
       "      <th>0</th>\n",
       "      <td>15970</td>\n",
       "      <td>Men</td>\n",
       "      <td>Apparel</td>\n",
       "      <td>Topwear</td>\n",
       "      <td>Shirts</td>\n",
       "      <td>Navy Blue</td>\n",
       "      <td>Fall</td>\n",
       "      <td>2011.0</td>\n",
       "      <td>Casual</td>\n",
       "      <td>Turtle Check Men Navy Blue Shirt</td>\n",
       "      <td>Men Apparel Topwear Shirts Navy Blue Fall Casual Turtle Check Men Navy Blue Shirt</td>\n",
       "    </tr>\n",
       "    <tr>\n",
       "      <th>1</th>\n",
       "      <td>39386</td>\n",
       "      <td>Men</td>\n",
       "      <td>Apparel</td>\n",
       "      <td>Bottomwear</td>\n",
       "      <td>Jeans</td>\n",
       "      <td>Blue</td>\n",
       "      <td>Summer</td>\n",
       "      <td>2012.0</td>\n",
       "      <td>Casual</td>\n",
       "      <td>Peter England Men Party Blue Jeans</td>\n",
       "      <td>Men Apparel Bottomwear Jeans Blue Summer Casual Peter England Men Party Blue Jeans</td>\n",
       "    </tr>\n",
       "    <tr>\n",
       "      <th>2</th>\n",
       "      <td>59263</td>\n",
       "      <td>Women</td>\n",
       "      <td>Accessories</td>\n",
       "      <td>Watches</td>\n",
       "      <td>Watches</td>\n",
       "      <td>Silver</td>\n",
       "      <td>Winter</td>\n",
       "      <td>2016.0</td>\n",
       "      <td>Casual</td>\n",
       "      <td>Titan Women Silver Watch</td>\n",
       "      <td>Women Accessories Watches Watches Silver Winter Casual Titan Women Silver Watch</td>\n",
       "    </tr>\n",
       "    <tr>\n",
       "      <th>3</th>\n",
       "      <td>21379</td>\n",
       "      <td>Men</td>\n",
       "      <td>Apparel</td>\n",
       "      <td>Bottomwear</td>\n",
       "      <td>Track Pants</td>\n",
       "      <td>Black</td>\n",
       "      <td>Fall</td>\n",
       "      <td>2011.0</td>\n",
       "      <td>Casual</td>\n",
       "      <td>Manchester United Men Solid Black Track Pants</td>\n",
       "      <td>Men Apparel Bottomwear Track Pants Black Fall Casual Manchester United Men Solid Black Track Pants</td>\n",
       "    </tr>\n",
       "    <tr>\n",
       "      <th>4</th>\n",
       "      <td>53759</td>\n",
       "      <td>Men</td>\n",
       "      <td>Apparel</td>\n",
       "      <td>Topwear</td>\n",
       "      <td>Tshirts</td>\n",
       "      <td>Grey</td>\n",
       "      <td>Summer</td>\n",
       "      <td>2012.0</td>\n",
       "      <td>Casual</td>\n",
       "      <td>Puma Men Grey T-shirt</td>\n",
       "      <td>Men Apparel Topwear Tshirts Grey Summer Casual Puma Men Grey T-shirt</td>\n",
       "    </tr>\n",
       "  </tbody>\n",
       "</table>\n",
       "</div>"
      ],
      "text/plain": [
       "      id gender masterCategory subCategory  articleType baseColour  season  \\\n",
       "0  15970    Men        Apparel     Topwear       Shirts  Navy Blue    Fall   \n",
       "1  39386    Men        Apparel  Bottomwear        Jeans       Blue  Summer   \n",
       "2  59263  Women    Accessories     Watches      Watches     Silver  Winter   \n",
       "3  21379    Men        Apparel  Bottomwear  Track Pants      Black    Fall   \n",
       "4  53759    Men        Apparel     Topwear      Tshirts       Grey  Summer   \n",
       "\n",
       "     year   usage                             productDisplayName  \\\n",
       "0  2011.0  Casual               Turtle Check Men Navy Blue Shirt   \n",
       "1  2012.0  Casual             Peter England Men Party Blue Jeans   \n",
       "2  2016.0  Casual                       Titan Women Silver Watch   \n",
       "3  2011.0  Casual  Manchester United Men Solid Black Track Pants   \n",
       "4  2012.0  Casual                          Puma Men Grey T-shirt   \n",
       "\n",
       "                                                                                       productDetails  \n",
       "0                   Men Apparel Topwear Shirts Navy Blue Fall Casual Turtle Check Men Navy Blue Shirt  \n",
       "1                  Men Apparel Bottomwear Jeans Blue Summer Casual Peter England Men Party Blue Jeans  \n",
       "2                     Women Accessories Watches Watches Silver Winter Casual Titan Women Silver Watch  \n",
       "3  Men Apparel Bottomwear Track Pants Black Fall Casual Manchester United Men Solid Black Track Pants  \n",
       "4                                Men Apparel Topwear Tshirts Grey Summer Casual Puma Men Grey T-shirt  "
      ]
     },
     "execution_count": 26,
     "metadata": {},
     "output_type": "execute_result"
    }
   ],
   "source": [
    "metadata = metadata.assign(productDetails=lambda df: df[COLUMNS].agg(\" \".join, axis=1))\n",
    "\n",
    "metadata.head()"
   ]
  },
  {
   "cell_type": "markdown",
   "metadata": {},
   "source": [
    "<br>\n",
    "\n",
    "## Sparse Vectors\n",
    "\n",
    "- Sparse vectors are vectors with too many zero values.\n",
    "\n",
    "### BM25\n",
    "\n",
    "- `BM25` (Best Matching 25) is a `ranking function` used in information retrieval systems, particularly search engines, to estimate the relevance of documents to a given search query. \n",
    "- It is a `bag-of-words` model, meaning it considers the `occurrence of individual terms` in documents without regard to their order or proximity.\n",
    "\n",
    "- Create a `sparse` using the `BM25` algorithm which has been implemented by `Pinecone-text`\n",
    "\n",
    "```sh\n",
    "pip install \"pinecone-text[splade]\"\n",
    "```"
   ]
  },
  {
   "cell_type": "code",
   "execution_count": 16,
   "metadata": {},
   "outputs": [
    {
     "data": {
      "text/plain": [
       "<pinecone_text.sparse.bm25_encoder.BM25Encoder at 0x7fe333c1bf40>"
      ]
     },
     "execution_count": 16,
     "metadata": {},
     "output_type": "execute_result"
    }
   ],
   "source": [
    "from pinecone_text.sparse import BM25Encoder\n",
    "\n",
    "\n",
    "bm25: BM25Encoder = BM25Encoder()\n",
    "bm25"
   ]
  },
  {
   "cell_type": "code",
   "execution_count": 51,
   "metadata": {},
   "outputs": [
    {
     "data": {
      "application/vnd.jupyter.widget-view+json": {
       "model_id": "740add0e2d0041b488981c3ff80d36c7",
       "version_major": 2,
       "version_minor": 0
      },
      "text/plain": [
       "  0%|          | 0/44072 [00:00<?, ?it/s]"
      ]
     },
     "metadata": {},
     "output_type": "display_data"
    },
    {
     "data": {
      "text/plain": [
       "<pinecone_text.sparse.bm25_encoder.BM25Encoder at 0x7fe333c1bf40>"
      ]
     },
     "execution_count": 51,
     "metadata": {},
     "output_type": "execute_result"
    }
   ],
   "source": [
    "# Train the encoder\n",
    "bm25.fit(corpus=metadata[\"productDetails\"])"
   ]
  },
  {
   "cell_type": "code",
   "execution_count": 54,
   "metadata": {},
   "outputs": [
    {
     "data": {
      "text/plain": [
       "'Men Apparel Topwear Shirts Navy Blue Fall Casual Turtle Check Men Navy Blue Shirt'"
      ]
     },
     "execution_count": 54,
     "metadata": {},
     "output_type": "execute_result"
    }
   ],
   "source": [
    "query: str = metadata[\"productDetails\"].iloc[0]\n",
    "query"
   ]
  },
  {
   "cell_type": "code",
   "execution_count": 55,
   "metadata": {},
   "outputs": [
    {
     "data": {
      "text/plain": [
       "{'indices': [632192512,\n",
       "  1540502846,\n",
       "  2795873812,\n",
       "  3828986392,\n",
       "  931643408,\n",
       "  3905155331,\n",
       "  453950983,\n",
       "  4127429595,\n",
       "  23789636,\n",
       "  1830646559],\n",
       " 'values': [0.033226775453346284,\n",
       "  0.0349051016114858,\n",
       "  0.05072705308188816,\n",
       "  0.12594198072251944,\n",
       "  0.15018442794166703,\n",
       "  0.08668186009595047,\n",
       "  0.06510033533293173,\n",
       "  0.011811300452238377,\n",
       "  0.2773844203738264,\n",
       "  0.16403674493414636]}"
      ]
     },
     "execution_count": 55,
     "metadata": {},
     "output_type": "execute_result"
    }
   ],
   "source": [
    "bm25.encode_queries(texts=query)"
   ]
  },
  {
   "cell_type": "code",
   "execution_count": 58,
   "metadata": {},
   "outputs": [
    {
     "data": {
      "text/plain": [
       "{'indices': [632192512,\n",
       "  1540502846,\n",
       "  2795873812,\n",
       "  3828986392,\n",
       "  931643408,\n",
       "  3905155331,\n",
       "  453950983,\n",
       "  4127429595,\n",
       "  23789636,\n",
       "  1830646559],\n",
       " 'values': [0.6127809658942706,\n",
       "  0.44173338948546054,\n",
       "  0.44173338948546054,\n",
       "  0.6127809658942706,\n",
       "  0.6127809658942706,\n",
       "  0.6127809658942706,\n",
       "  0.44173338948546054,\n",
       "  0.44173338948546054,\n",
       "  0.44173338948546054,\n",
       "  0.44173338948546054]}"
      ]
     },
     "execution_count": 58,
     "metadata": {},
     "output_type": "execute_result"
    }
   ],
   "source": [
    "# Calculate the IDF which is what will be stored in the Pinecone VectorDB\n",
    "bm25.encode_documents(texts=query)"
   ]
  },
  {
   "cell_type": "code",
   "execution_count": null,
   "metadata": {},
   "outputs": [],
   "source": [
    "# Load Clip model from HuggingFace\n",
    "from sentence_transformers import SentenceTransformer\n",
    "\n",
    "\n",
    "device: str = \"cuda\" if torch.cuda.is_available else \"cpu\"\n",
    "MODEL_CHECKPOINT: str = \"clip-ViT-B-16\"\n",
    "\n",
    "# Load CLIP model\n",
    "model: SentenceTransformer = SentenceTransformer(MODEL_CHECKPOINT)\n",
    "model"
   ]
  },
  {
   "cell_type": "code",
   "execution_count": null,
   "metadata": {},
   "outputs": [],
   "source": [
    "# Shape of embeddings\n",
    "model.encode(sentences=query)"
   ]
  },
  {
   "cell_type": "code",
   "execution_count": null,
   "metadata": {},
   "outputs": [],
   "source": []
  },
  {
   "cell_type": "code",
   "execution_count": null,
   "metadata": {},
   "outputs": [],
   "source": []
  },
  {
   "cell_type": "code",
   "execution_count": null,
   "metadata": {},
   "outputs": [],
   "source": []
  }
 ],
 "metadata": {
  "kernelspec": {
   "display_name": "nlp_p310",
   "language": "python",
   "name": "python3"
  },
  "language_info": {
   "codemirror_mode": {
    "name": "ipython",
    "version": 3
   },
   "file_extension": ".py",
   "mimetype": "text/x-python",
   "name": "python",
   "nbconvert_exporter": "python",
   "pygments_lexer": "ipython3",
   "version": "3.10.9"
  }
 },
 "nbformat": 4,
 "nbformat_minor": 2
}
