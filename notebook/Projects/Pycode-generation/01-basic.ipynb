{
 "cells": [
  {
   "cell_type": "markdown",
   "metadata": {},
   "source": [
    "# Langchain Intro"
   ]
  },
  {
   "cell_type": "code",
   "execution_count": 1,
   "metadata": {},
   "outputs": [],
   "source": [
    "# Built-in library\n",
    "import re\n",
    "import json\n",
    "from typing import Any, Optional, Union\n",
    "import logging\n",
    "import warnings\n",
    "\n",
    "# Standard imports\n",
    "import numpy as np\n",
    "from pathlib import Path\n",
    "import pandas as pd\n",
    "import polars as pl\n",
    "from pprint import pprint\n",
    "from rich import print\n",
    "import torch\n",
    "\n",
    "# Visualization\n",
    "import matplotlib.pyplot as plt\n",
    "\n",
    "\n",
    "# Pandas settings\n",
    "pd.options.display.max_rows = 1_000\n",
    "pd.options.display.max_columns = 1_000\n",
    "pd.options.display.max_colwidth = 600\n",
    "\n",
    "warnings.filterwarnings(\"ignore\")\n",
    "\n",
    "# Black code formatter (Optional)\n",
    "%load_ext lab_black\n",
    "\n",
    "# auto reload imports\n",
    "%load_ext autoreload\n",
    "%autoreload 2"
   ]
  },
  {
   "cell_type": "code",
   "execution_count": 2,
   "metadata": {},
   "outputs": [],
   "source": [
    "import os\n",
    "from dotenv import load_dotenv, find_dotenv\n",
    "\n",
    "from langchain.llms import OpenAI"
   ]
  },
  {
   "cell_type": "markdown",
   "metadata": {},
   "source": [
    "### Using A Basic OpenAI Langchain LLM\n",
    "\n",
    "- Without using a chain.\n",
    "- Very simplistic.\n",
    "\n",
    "<br>\n",
    "\n",
    "[![image.png](https://i.postimg.cc/cLyVwqrs/image.png)](https://postimg.cc/Mv5PJF74)\n"
   ]
  },
  {
   "cell_type": "code",
   "execution_count": 3,
   "metadata": {},
   "outputs": [],
   "source": [
    "_ = load_dotenv(find_dotenv())  # read local .env file\n",
    "OPENAI_API_KEY = os.getenv(\"OPENAI_API_KEY\")\n",
    "OPENAI_GPT_MODEL: str = \"gpt-3.5-turbo-instruct\"\n",
    "TEMPERATURE: float = 0.5"
   ]
  },
  {
   "cell_type": "code",
   "execution_count": 4,
   "metadata": {},
   "outputs": [
    {
     "data": {
      "text/html": [
       "<pre style=\"white-space:pre;overflow-x:auto;line-height:normal;font-family:Menlo,'DejaVu Sans Mono',consolas,'Courier New',monospace\">\n",
       "\n",
       "Love's sweet embrace,\n",
       "Fills my heart with grace.\n",
       "Forever entwined,\n",
       "Our souls combined.\n",
       "</pre>\n"
      ],
      "text/plain": [
       "\n",
       "\n",
       "Love's sweet embrace,\n",
       "Fills my heart with grace.\n",
       "Forever entwined,\n",
       "Our souls combined.\n"
      ]
     },
     "metadata": {},
     "output_type": "display_data"
    }
   ],
   "source": [
    "# Create LLM\n",
    "llm: OpenAI = OpenAI(\n",
    "    openai_api_key=OPENAI_API_KEY,\n",
    "    model=OPENAI_GPT_MODEL,\n",
    "    temperature=TEMPERATURE,\n",
    ")\n",
    "prompt: str = \"Write a very short poem.\"\n",
    "result = llm(prompt=prompt)\n",
    "\n",
    "print(result)"
   ]
  },
  {
   "cell_type": "markdown",
   "metadata": {},
   "source": [
    "## Updated Logic\n",
    "\n",
    "- Add Chains (from langchain)\n",
    "\n",
    "<br>\n",
    "\n",
    "[![image.png](https://i.postimg.cc/RVLp2WgH/image.png)](https://postimg.cc/0brCwyRk)"
   ]
  },
  {
   "cell_type": "code",
   "execution_count": 5,
   "metadata": {},
   "outputs": [],
   "source": [
    "from langchain.chains import LLMChain\n",
    "from langchain.prompts import PromptTemplate"
   ]
  },
  {
   "cell_type": "markdown",
   "metadata": {},
   "source": [
    "### LLM Chain\n",
    "\n",
    "[![image.png](https://i.postimg.cc/05VBzdbB/image.png)](https://postimg.cc/0rJf3SGY)"
   ]
  },
  {
   "cell_type": "code",
   "execution_count": 6,
   "metadata": {},
   "outputs": [
    {
     "data": {
      "text/html": [
       "<pre style=\"white-space:pre;overflow-x:auto;line-height:normal;font-family:Menlo,'DejaVu Sans Mono',consolas,'Courier New',monospace\"><span style=\"font-weight: bold\">{</span>\n",
       "    <span style=\"color: #008000; text-decoration-color: #008000\">'language'</span>: <span style=\"color: #008000; text-decoration-color: #008000\">'Python'</span>,\n",
       "    <span style=\"color: #008000; text-decoration-color: #008000\">'task'</span>: <span style=\"color: #008000; text-decoration-color: #008000\">'generate a list of numbers'</span>,\n",
       "    <span style=\"color: #008000; text-decoration-color: #008000\">'text'</span>: <span style=\"color: #008000; text-decoration-color: #008000\">'\\n\\ndef generate_list(start, stop, step):\\n    return list(range(start, stop, step))'</span>\n",
       "<span style=\"font-weight: bold\">}</span>\n",
       "</pre>\n"
      ],
      "text/plain": [
       "\u001b[1m{\u001b[0m\n",
       "    \u001b[32m'language'\u001b[0m: \u001b[32m'Python'\u001b[0m,\n",
       "    \u001b[32m'task'\u001b[0m: \u001b[32m'generate a list of numbers'\u001b[0m,\n",
       "    \u001b[32m'text'\u001b[0m: \u001b[32m'\\n\\ndef generate_list\u001b[0m\u001b[32m(\u001b[0m\u001b[32mstart, stop, step\u001b[0m\u001b[32m)\u001b[0m\u001b[32m:\\n    return list\u001b[0m\u001b[32m(\u001b[0m\u001b[32mrange\u001b[0m\u001b[32m(\u001b[0m\u001b[32mstart, stop, step\u001b[0m\u001b[32m)\u001b[0m\u001b[32m)\u001b[0m\u001b[32m'\u001b[0m\n",
       "\u001b[1m}\u001b[0m\n"
      ]
     },
     "metadata": {},
     "output_type": "display_data"
    }
   ],
   "source": [
    "# Used for text completion LLMs\n",
    "prompt_template: str = \"\"\"Write a very short {language} function that will {task}\"\"\"\n",
    "code_prompt: PromptTemplate = PromptTemplate(\n",
    "    input_variables=[\"language\", \"task\"], template=prompt_template\n",
    ")\n",
    "code_chain: LLMChain = LLMChain(llm=llm, prompt=code_prompt)\n",
    "\n",
    "# Hardcoded inputs!\n",
    "language, task = (\"Python\", \"generate a list of numbers\")\n",
    "\n",
    "result = code_chain(inputs={\"language\": language, \"task\": task})\n",
    "print(result)"
   ]
  },
  {
   "cell_type": "code",
   "execution_count": 7,
   "metadata": {},
   "outputs": [
    {
     "data": {
      "text/html": [
       "<pre style=\"white-space:pre;overflow-x:auto;line-height:normal;font-family:Menlo,'DejaVu Sans Mono',consolas,'Courier New',monospace\">\n",
       "\n",
       "def <span style=\"color: #800080; text-decoration-color: #800080; font-weight: bold\">generate_list</span><span style=\"font-weight: bold\">(</span>start, stop, step<span style=\"font-weight: bold\">)</span>:\n",
       "    return <span style=\"color: #800080; text-decoration-color: #800080; font-weight: bold\">list</span><span style=\"font-weight: bold\">(</span><span style=\"color: #800080; text-decoration-color: #800080; font-weight: bold\">range</span><span style=\"font-weight: bold\">(</span>start, stop, step<span style=\"font-weight: bold\">))</span>\n",
       "</pre>\n"
      ],
      "text/plain": [
       "\n",
       "\n",
       "def \u001b[1;35mgenerate_list\u001b[0m\u001b[1m(\u001b[0mstart, stop, step\u001b[1m)\u001b[0m:\n",
       "    return \u001b[1;35mlist\u001b[0m\u001b[1m(\u001b[0m\u001b[1;35mrange\u001b[0m\u001b[1m(\u001b[0mstart, stop, step\u001b[1m)\u001b[0m\u001b[1m)\u001b[0m\n"
      ]
     },
     "metadata": {},
     "output_type": "display_data"
    }
   ],
   "source": [
    "print(result.get(\"text\"))"
   ]
  },
  {
   "cell_type": "markdown",
   "metadata": {},
   "source": [
    "## Connecting Chains Together\n",
    "\n",
    "- Chains in series (sequential chain)\n",
    "\n",
    "<br>\n",
    "\n",
    "[![image.png](https://i.postimg.cc/8Cdgm9wV/image.png)](https://postimg.cc/GBpfcMZM)"
   ]
  },
  {
   "cell_type": "code",
   "execution_count": 8,
   "metadata": {},
   "outputs": [
    {
     "data": {
      "text/html": [
       "<pre style=\"white-space:pre;overflow-x:auto;line-height:normal;font-family:Menlo,'DejaVu Sans Mono',consolas,'Courier New',monospace\"><span style=\"font-weight: bold\">{</span>\n",
       "    <span style=\"color: #008000; text-decoration-color: #008000\">'language'</span>: <span style=\"color: #008000; text-decoration-color: #008000\">'Python'</span>,\n",
       "    <span style=\"color: #008000; text-decoration-color: #008000\">'task'</span>: <span style=\"color: #008000; text-decoration-color: #008000\">'generate a list of numbers'</span>,\n",
       "    <span style=\"color: #008000; text-decoration-color: #008000\">'code'</span>: <span style=\"color: #008000; text-decoration-color: #008000\">'\\n\\ndef generate_numbers(n):\\n    return list(range(1, n+1))'</span>,\n",
       "    <span style=\"color: #008000; text-decoration-color: #008000\">'test'</span>: <span style=\"color: #008000; text-decoration-color: #008000\">\"\\n\\nimport unittest\\n\\nclass TestGenerateNumbers(unittest.TestCase):\\n    \\n    def </span>\n",
       "<span style=\"color: #008000; text-decoration-color: #008000\">test_generate_numbers(self):\\n        self.assertEqual(generate_numbers(5), [1,2,3,4,5])\\n        </span>\n",
       "<span style=\"color: #008000; text-decoration-color: #008000\">self.assertEqual(generate_numbers(0), [])\\n        self.assertEqual(generate_numbers(10), [1,2,3,4,5,6,7,8,9,10])\\n</span>\n",
       "<span style=\"color: #008000; text-decoration-color: #008000\">self.assertEqual(generate_numbers(-5), [])\\n        self.assertEqual(generate_numbers(1), [1])\\n\\nif __name__ == </span>\n",
       "<span style=\"color: #008000; text-decoration-color: #008000\">'__main__':\\n    unittest.main()\"</span>\n",
       "<span style=\"font-weight: bold\">}</span>\n",
       "</pre>\n"
      ],
      "text/plain": [
       "\u001b[1m{\u001b[0m\n",
       "    \u001b[32m'language'\u001b[0m: \u001b[32m'Python'\u001b[0m,\n",
       "    \u001b[32m'task'\u001b[0m: \u001b[32m'generate a list of numbers'\u001b[0m,\n",
       "    \u001b[32m'code'\u001b[0m: \u001b[32m'\\n\\ndef generate_numbers\u001b[0m\u001b[32m(\u001b[0m\u001b[32mn\u001b[0m\u001b[32m)\u001b[0m\u001b[32m:\\n    return list\u001b[0m\u001b[32m(\u001b[0m\u001b[32mrange\u001b[0m\u001b[32m(\u001b[0m\u001b[32m1, n+1\u001b[0m\u001b[32m)\u001b[0m\u001b[32m)\u001b[0m\u001b[32m'\u001b[0m,\n",
       "    \u001b[32m'test'\u001b[0m: \u001b[32m\"\\n\\nimport unittest\\n\\nclass TestGenerateNumbers\u001b[0m\u001b[32m(\u001b[0m\u001b[32munittest.TestCase\u001b[0m\u001b[32m)\u001b[0m\u001b[32m:\\n    \\n    def \u001b[0m\n",
       "\u001b[32mtest_generate_numbers\u001b[0m\u001b[32m(\u001b[0m\u001b[32mself\u001b[0m\u001b[32m)\u001b[0m\u001b[32m:\\n        self.assertEqual\u001b[0m\u001b[32m(\u001b[0m\u001b[32mgenerate_numbers\u001b[0m\u001b[32m(\u001b[0m\u001b[32m5\u001b[0m\u001b[32m)\u001b[0m\u001b[32m, \u001b[0m\u001b[32m[\u001b[0m\u001b[32m1,2,3,4,5\u001b[0m\u001b[32m]\u001b[0m\u001b[32m)\u001b[0m\u001b[32m\\n        \u001b[0m\n",
       "\u001b[32mself.assertEqual\u001b[0m\u001b[32m(\u001b[0m\u001b[32mgenerate_numbers\u001b[0m\u001b[32m(\u001b[0m\u001b[32m0\u001b[0m\u001b[32m)\u001b[0m\u001b[32m, \u001b[0m\u001b[32m[\u001b[0m\u001b[32m]\u001b[0m\u001b[32m)\u001b[0m\u001b[32m\\n        self.assertEqual\u001b[0m\u001b[32m(\u001b[0m\u001b[32mgenerate_numbers\u001b[0m\u001b[32m(\u001b[0m\u001b[32m10\u001b[0m\u001b[32m)\u001b[0m\u001b[32m, \u001b[0m\u001b[32m[\u001b[0m\u001b[32m1,2,3,4,5,6,7,8,9,10\u001b[0m\u001b[32m]\u001b[0m\u001b[32m)\u001b[0m\u001b[32m\\n\u001b[0m\n",
       "\u001b[32mself.assertEqual\u001b[0m\u001b[32m(\u001b[0m\u001b[32mgenerate_numbers\u001b[0m\u001b[32m(\u001b[0m\u001b[32m-5\u001b[0m\u001b[32m)\u001b[0m\u001b[32m, \u001b[0m\u001b[32m[\u001b[0m\u001b[32m]\u001b[0m\u001b[32m)\u001b[0m\u001b[32m\\n        self.assertEqual\u001b[0m\u001b[32m(\u001b[0m\u001b[32mgenerate_numbers\u001b[0m\u001b[32m(\u001b[0m\u001b[32m1\u001b[0m\u001b[32m)\u001b[0m\u001b[32m, \u001b[0m\u001b[32m[\u001b[0m\u001b[32m1\u001b[0m\u001b[32m]\u001b[0m\u001b[32m)\u001b[0m\u001b[32m\\n\\nif __name__ == \u001b[0m\n",
       "\u001b[32m'__main__':\\n    unittest.main\u001b[0m\u001b[32m(\u001b[0m\u001b[32m)\u001b[0m\u001b[32m\"\u001b[0m\n",
       "\u001b[1m}\u001b[0m\n"
      ]
     },
     "metadata": {},
     "output_type": "display_data"
    }
   ],
   "source": [
    "from langchain.chains import SequentialChain\n",
    "\n",
    "# Used for text completion LLMs\n",
    "code_prompt_template: str = (\n",
    "    \"\"\"Write a very short {language} function that will {task}\"\"\"\n",
    ")\n",
    "unittest_prompt_template: str = (\n",
    "    \"\"\"Write a unit test for the following {language} code: \\n{code}\"\"\"\n",
    ")\n",
    "\n",
    "# Propmt(s)\n",
    "code_prompt: PromptTemplate = PromptTemplate(\n",
    "    input_variables=[\"language\", \"task\"], template=code_prompt_template\n",
    ")\n",
    "unittest_prompt: PromptTemplate = PromptTemplate(\n",
    "    input_variables=[\"language\", \"code\"], template=unittest_prompt_template\n",
    ")\n",
    "\n",
    "# Chain(s)\n",
    "code_chain: LLMChain = LLMChain(\n",
    "    llm=llm,\n",
    "    prompt=code_prompt,\n",
    "    output_key=\"code\",  # from text to code\n",
    ")\n",
    "unittest_chain: LLMChain = LLMChain(\n",
    "    llm=llm,\n",
    "    prompt=unittest_prompt,\n",
    "    output_key=\"test\",  # from text to test\n",
    ")\n",
    "# Feed the output of code_chain into unittest_chain\n",
    "final_chain: SequentialChain = SequentialChain(\n",
    "    chains=[code_chain, unittest_chain],\n",
    "    input_variables=[\"language\", \"task\"],\n",
    "    output_variables=[\"code\", \"test\"],\n",
    ")\n",
    "# Hardcoded inputs!\n",
    "language, task = (\"Python\", \"generate a list of numbers\")\n",
    "\n",
    "result = final_chain(inputs={\"language\": language, \"task\": task})\n",
    "print(result)"
   ]
  },
  {
   "cell_type": "code",
   "execution_count": 9,
   "metadata": {},
   "outputs": [
    {
     "data": {
      "text/html": [
       "<pre style=\"white-space:pre;overflow-x:auto;line-height:normal;font-family:Menlo,'DejaVu Sans Mono',consolas,'Courier New',monospace\">\n",
       "\n",
       "import unittest\n",
       "\n",
       "class <span style=\"color: #800080; text-decoration-color: #800080; font-weight: bold\">TestGenerateNumbers</span><span style=\"font-weight: bold\">(</span>unittest.TestCase<span style=\"font-weight: bold\">)</span>:\n",
       "    \n",
       "    def <span style=\"color: #800080; text-decoration-color: #800080; font-weight: bold\">test_generate_numbers</span><span style=\"font-weight: bold\">(</span>self<span style=\"font-weight: bold\">)</span>:\n",
       "        <span style=\"color: #800080; text-decoration-color: #800080; font-weight: bold\">self.assertEqual</span><span style=\"font-weight: bold\">(</span><span style=\"color: #800080; text-decoration-color: #800080; font-weight: bold\">generate_numbers</span><span style=\"font-weight: bold\">(</span><span style=\"color: #008080; text-decoration-color: #008080; font-weight: bold\">5</span><span style=\"font-weight: bold\">)</span>, <span style=\"font-weight: bold\">[</span><span style=\"color: #008080; text-decoration-color: #008080; font-weight: bold\">1</span>,<span style=\"color: #008080; text-decoration-color: #008080; font-weight: bold\">2</span>,<span style=\"color: #008080; text-decoration-color: #008080; font-weight: bold\">3</span>,<span style=\"color: #008080; text-decoration-color: #008080; font-weight: bold\">4</span>,<span style=\"color: #008080; text-decoration-color: #008080; font-weight: bold\">5</span><span style=\"font-weight: bold\">])</span>\n",
       "        <span style=\"color: #800080; text-decoration-color: #800080; font-weight: bold\">self.assertEqual</span><span style=\"font-weight: bold\">(</span><span style=\"color: #800080; text-decoration-color: #800080; font-weight: bold\">generate_numbers</span><span style=\"font-weight: bold\">(</span><span style=\"color: #008080; text-decoration-color: #008080; font-weight: bold\">0</span><span style=\"font-weight: bold\">)</span>, <span style=\"font-weight: bold\">[])</span>\n",
       "        <span style=\"color: #800080; text-decoration-color: #800080; font-weight: bold\">self.assertEqual</span><span style=\"font-weight: bold\">(</span><span style=\"color: #800080; text-decoration-color: #800080; font-weight: bold\">generate_numbers</span><span style=\"font-weight: bold\">(</span><span style=\"color: #008080; text-decoration-color: #008080; font-weight: bold\">10</span><span style=\"font-weight: bold\">)</span>, <span style=\"font-weight: bold\">[</span><span style=\"color: #008080; text-decoration-color: #008080; font-weight: bold\">1</span>,<span style=\"color: #008080; text-decoration-color: #008080; font-weight: bold\">2</span>,<span style=\"color: #008080; text-decoration-color: #008080; font-weight: bold\">3</span>,<span style=\"color: #008080; text-decoration-color: #008080; font-weight: bold\">4</span>,<span style=\"color: #008080; text-decoration-color: #008080; font-weight: bold\">5</span>,<span style=\"color: #008080; text-decoration-color: #008080; font-weight: bold\">6</span>,<span style=\"color: #008080; text-decoration-color: #008080; font-weight: bold\">7</span>,<span style=\"color: #008080; text-decoration-color: #008080; font-weight: bold\">8</span>,<span style=\"color: #008080; text-decoration-color: #008080; font-weight: bold\">9</span>,<span style=\"color: #008080; text-decoration-color: #008080; font-weight: bold\">10</span><span style=\"font-weight: bold\">])</span>\n",
       "        <span style=\"color: #800080; text-decoration-color: #800080; font-weight: bold\">self.assertEqual</span><span style=\"font-weight: bold\">(</span><span style=\"color: #800080; text-decoration-color: #800080; font-weight: bold\">generate_numbers</span><span style=\"font-weight: bold\">(</span><span style=\"color: #008080; text-decoration-color: #008080; font-weight: bold\">-5</span><span style=\"font-weight: bold\">)</span>, <span style=\"font-weight: bold\">[])</span>\n",
       "        <span style=\"color: #800080; text-decoration-color: #800080; font-weight: bold\">self.assertEqual</span><span style=\"font-weight: bold\">(</span><span style=\"color: #800080; text-decoration-color: #800080; font-weight: bold\">generate_numbers</span><span style=\"font-weight: bold\">(</span><span style=\"color: #008080; text-decoration-color: #008080; font-weight: bold\">1</span><span style=\"font-weight: bold\">)</span>, <span style=\"font-weight: bold\">[</span><span style=\"color: #008080; text-decoration-color: #008080; font-weight: bold\">1</span><span style=\"font-weight: bold\">])</span>\n",
       "\n",
       "if __name__ == <span style=\"color: #008000; text-decoration-color: #008000\">'__main__'</span>:\n",
       "    <span style=\"color: #800080; text-decoration-color: #800080; font-weight: bold\">unittest.main</span><span style=\"font-weight: bold\">()</span>\n",
       "</pre>\n"
      ],
      "text/plain": [
       "\n",
       "\n",
       "import unittest\n",
       "\n",
       "class \u001b[1;35mTestGenerateNumbers\u001b[0m\u001b[1m(\u001b[0munittest.TestCase\u001b[1m)\u001b[0m:\n",
       "    \n",
       "    def \u001b[1;35mtest_generate_numbers\u001b[0m\u001b[1m(\u001b[0mself\u001b[1m)\u001b[0m:\n",
       "        \u001b[1;35mself.assertEqual\u001b[0m\u001b[1m(\u001b[0m\u001b[1;35mgenerate_numbers\u001b[0m\u001b[1m(\u001b[0m\u001b[1;36m5\u001b[0m\u001b[1m)\u001b[0m, \u001b[1m[\u001b[0m\u001b[1;36m1\u001b[0m,\u001b[1;36m2\u001b[0m,\u001b[1;36m3\u001b[0m,\u001b[1;36m4\u001b[0m,\u001b[1;36m5\u001b[0m\u001b[1m]\u001b[0m\u001b[1m)\u001b[0m\n",
       "        \u001b[1;35mself.assertEqual\u001b[0m\u001b[1m(\u001b[0m\u001b[1;35mgenerate_numbers\u001b[0m\u001b[1m(\u001b[0m\u001b[1;36m0\u001b[0m\u001b[1m)\u001b[0m, \u001b[1m[\u001b[0m\u001b[1m]\u001b[0m\u001b[1m)\u001b[0m\n",
       "        \u001b[1;35mself.assertEqual\u001b[0m\u001b[1m(\u001b[0m\u001b[1;35mgenerate_numbers\u001b[0m\u001b[1m(\u001b[0m\u001b[1;36m10\u001b[0m\u001b[1m)\u001b[0m, \u001b[1m[\u001b[0m\u001b[1;36m1\u001b[0m,\u001b[1;36m2\u001b[0m,\u001b[1;36m3\u001b[0m,\u001b[1;36m4\u001b[0m,\u001b[1;36m5\u001b[0m,\u001b[1;36m6\u001b[0m,\u001b[1;36m7\u001b[0m,\u001b[1;36m8\u001b[0m,\u001b[1;36m9\u001b[0m,\u001b[1;36m10\u001b[0m\u001b[1m]\u001b[0m\u001b[1m)\u001b[0m\n",
       "        \u001b[1;35mself.assertEqual\u001b[0m\u001b[1m(\u001b[0m\u001b[1;35mgenerate_numbers\u001b[0m\u001b[1m(\u001b[0m\u001b[1;36m-5\u001b[0m\u001b[1m)\u001b[0m, \u001b[1m[\u001b[0m\u001b[1m]\u001b[0m\u001b[1m)\u001b[0m\n",
       "        \u001b[1;35mself.assertEqual\u001b[0m\u001b[1m(\u001b[0m\u001b[1;35mgenerate_numbers\u001b[0m\u001b[1m(\u001b[0m\u001b[1;36m1\u001b[0m\u001b[1m)\u001b[0m, \u001b[1m[\u001b[0m\u001b[1;36m1\u001b[0m\u001b[1m]\u001b[0m\u001b[1m)\u001b[0m\n",
       "\n",
       "if __name__ == \u001b[32m'__main__'\u001b[0m:\n",
       "    \u001b[1;35munittest.main\u001b[0m\u001b[1m(\u001b[0m\u001b[1m)\u001b[0m\n"
      ]
     },
     "metadata": {},
     "output_type": "display_data"
    }
   ],
   "source": [
    "# Output of the unittest_chain (key=\"test\")\n",
    "print(result.get(\"test\"))"
   ]
  },
  {
   "cell_type": "markdown",
   "metadata": {},
   "source": [
    "<hr><br>\n",
    "\n",
    "# Simple Terminal Chatbot\n",
    "\n",
    "<br>\n",
    "\n",
    "### Chat Model\n",
    "\n",
    "- It's optimized for conversations.\n",
    "- It has the following inputs:\n",
    "  - **System Message:** A system message is a message generated by the system or platform hosting the conversation. It is not authored by a human user or the AI model.\n",
    "  \n",
    "  - **Human Message:** Any message created by a human user that is directed towards the LLM for processing or interaction.\n",
    "\n",
    "  - **AI/Assistant Message:** The output generated by the LLM in response to a human message or internal processing.\n",
    "  \n",
    "[![image.png](https://i.postimg.cc/FRgxXmJ6/image.png)](https://postimg.cc/YG0FQ5RN)\n",
    "\n",
    "<br>\n",
    "\n",
    "### ChatPrompt Template\n",
    "\n",
    "[![image.png](https://i.postimg.cc/s2nTM32Z/image.png)](https://postimg.cc/4K96MkVJ)"
   ]
  },
  {
   "cell_type": "code",
   "execution_count": 10,
   "metadata": {},
   "outputs": [],
   "source": [
    "OPENAI_CHAT_MODEL: str = \"gpt-3.5-turbo\""
   ]
  },
  {
   "cell_type": "code",
   "execution_count": 11,
   "metadata": {},
   "outputs": [],
   "source": [
    "from langchain.chat_models import ChatOpenAI\n",
    "from langchain.chains import LLMChain\n",
    "from langchain.prompts import (\n",
    "    HumanMessagePromptTemplate,\n",
    "    AIMessagePromptTemplate,\n",
    "    SystemMessagePromptTemplate,\n",
    "    ChatPromptTemplate,\n",
    ")"
   ]
  },
  {
   "cell_type": "code",
   "execution_count": 12,
   "metadata": {},
   "outputs": [],
   "source": [
    "chat_llm = ChatOpenAI(\n",
    "    model=OPENAI_CHAT_MODEL,\n",
    "    temperature=TEMPERATURE,\n",
    ")\n",
    "\n",
    "# Used for chat completion LLMs\n",
    "prompt = ChatPromptTemplate(\n",
    "    input_variables=[\"content\"],\n",
    "    messages=[HumanMessagePromptTemplate.from_template(\"{content}\")],\n",
    ")\n",
    "\n",
    "chain: LLMChain = LLMChain(llm=chat_llm, prompt=prompt)"
   ]
  },
  {
   "cell_type": "code",
   "execution_count": 13,
   "metadata": {},
   "outputs": [
    {
     "data": {
      "text/html": [
       "<pre style=\"white-space:pre;overflow-x:auto;line-height:normal;font-family:Menlo,'DejaVu Sans Mono',consolas,'Courier New',monospace\"><span style=\"font-weight: bold\">{</span>\n",
       "    <span style=\"color: #008000; text-decoration-color: #008000\">'content'</span>: <span style=\"color: #008000; text-decoration-color: #008000\">'Hello, who are you?'</span>,\n",
       "    <span style=\"color: #008000; text-decoration-color: #008000\">'text'</span>: <span style=\"color: #008000; text-decoration-color: #008000\">'Hello! I am an AI assistant created by OpenAI. I am here to help answer any questions you may have. </span>\n",
       "<span style=\"color: #008000; text-decoration-color: #008000\">How can I assist you today?'</span>\n",
       "<span style=\"font-weight: bold\">}</span>\n",
       "</pre>\n"
      ],
      "text/plain": [
       "\u001b[1m{\u001b[0m\n",
       "    \u001b[32m'content'\u001b[0m: \u001b[32m'Hello, who are you?'\u001b[0m,\n",
       "    \u001b[32m'text'\u001b[0m: \u001b[32m'Hello! I am an AI assistant created by OpenAI. I am here to help answer any questions you may have. \u001b[0m\n",
       "\u001b[32mHow can I assist you today?'\u001b[0m\n",
       "\u001b[1m}\u001b[0m\n"
      ]
     },
     "metadata": {},
     "output_type": "display_data"
    }
   ],
   "source": [
    "content: str = \"Hello, who are you?\"\n",
    "\n",
    "result: dict[str, Any] = chain({\"content\": content})\n",
    "print(result)"
   ]
  },
  {
   "cell_type": "markdown",
   "metadata": {},
   "source": [
    "### Add Memory\n",
    "\n",
    "- Memory allows LLMs to access and consider previous conversations or inputs, leading to more coherent and contextually relevant responses.\n",
    "\n",
    "<br>\n",
    "\n",
    "[![image.png](https://i.postimg.cc/MGPkWySn/image.png)](https://postimg.cc/8F6X4fsG)\n",
    "\n",
    "<br><br>\n",
    "\n",
    "#### Message PlaceHolder\n",
    "\n",
    "- It's used to track the conversations.\n",
    "- It contains the contents of the chat. i.e. the human and the AI messages.\n",
    "\n",
    "[![image.png](https://i.postimg.cc/3wPBCRjL/image.png)](https://postimg.cc/p9JzPP68)\n"
   ]
  },
  {
   "cell_type": "code",
   "execution_count": 14,
   "metadata": {},
   "outputs": [],
   "source": [
    "from langchain.memory import ConversationBufferMemory\n",
    "from langchain.prompts import MessagesPlaceholder"
   ]
  },
  {
   "cell_type": "code",
   "execution_count": 15,
   "metadata": {},
   "outputs": [],
   "source": [
    "chat_llm = ChatOpenAI(\n",
    "    model=OPENAI_CHAT_MODEL,\n",
    "    temperature=TEMPERATURE,\n",
    ")\n",
    "\n",
    "memory = ConversationBufferMemory(\n",
    "    memory_key=\"messages\",  # key for storing the chat history\n",
    "    return_messages=True,  # returns the promp classes. e.g. HumanMsg, AIMsg, etc\n",
    ")\n",
    "\n",
    "# Used for chat completion LLMs\n",
    "prompt = ChatPromptTemplate(\n",
    "    input_variables=[\"content\", \"messages\"],\n",
    "    messages=[\n",
    "        HumanMessagePromptTemplate.from_template(\"{content}\"),\n",
    "        MessagesPlaceholder(\n",
    "            variable_name=\"messages\"\n",
    "        ),  # used to track the conversations\n",
    "    ],\n",
    ")\n",
    "\n",
    "chain: LLMChain = LLMChain(\n",
    "    llm=chat_llm,\n",
    "    prompt=prompt,\n",
    "    memory=memory,  # Add memory (new!)\n",
    ")"
   ]
  },
  {
   "cell_type": "code",
   "execution_count": 16,
   "metadata": {},
   "outputs": [
    {
     "data": {
      "text/html": [
       "<pre style=\"white-space:pre;overflow-x:auto;line-height:normal;font-family:Menlo,'DejaVu Sans Mono',consolas,'Courier New',monospace\"><span style=\"font-weight: bold\">{</span>\n",
       "    <span style=\"color: #008000; text-decoration-color: #008000\">'content'</span>: <span style=\"color: #008000; text-decoration-color: #008000\">'Hello, who are you?'</span>,\n",
       "    <span style=\"color: #008000; text-decoration-color: #008000\">'messages'</span>: <span style=\"font-weight: bold\">[</span>\n",
       "        <span style=\"color: #800080; text-decoration-color: #800080; font-weight: bold\">HumanMessage</span><span style=\"font-weight: bold\">(</span><span style=\"color: #808000; text-decoration-color: #808000\">content</span>=<span style=\"color: #008000; text-decoration-color: #008000\">'Hello, who are you?'</span>, <span style=\"color: #808000; text-decoration-color: #808000\">additional_kwargs</span>=<span style=\"font-weight: bold\">{}</span>, <span style=\"color: #808000; text-decoration-color: #808000\">example</span>=<span style=\"color: #ff0000; text-decoration-color: #ff0000; font-style: italic\">False</span><span style=\"font-weight: bold\">)</span>,\n",
       "        <span style=\"color: #800080; text-decoration-color: #800080; font-weight: bold\">AIMessage</span><span style=\"font-weight: bold\">(</span>\n",
       "            <span style=\"color: #808000; text-decoration-color: #808000\">content</span>=<span style=\"color: #008000; text-decoration-color: #008000\">'Hello! I am an AI language model developed by OpenAI. I am here to assist and engage in </span>\n",
       "<span style=\"color: #008000; text-decoration-color: #008000\">conversation with you. How can I help you today?'</span>,\n",
       "            <span style=\"color: #808000; text-decoration-color: #808000\">additional_kwargs</span>=<span style=\"font-weight: bold\">{}</span>,\n",
       "            <span style=\"color: #808000; text-decoration-color: #808000\">example</span>=<span style=\"color: #ff0000; text-decoration-color: #ff0000; font-style: italic\">False</span>\n",
       "        <span style=\"font-weight: bold\">)</span>\n",
       "    <span style=\"font-weight: bold\">]</span>,\n",
       "    <span style=\"color: #008000; text-decoration-color: #008000\">'text'</span>: <span style=\"color: #008000; text-decoration-color: #008000\">'Hello! I am an AI language model developed by OpenAI. I am here to assist and engage in conversation </span>\n",
       "<span style=\"color: #008000; text-decoration-color: #008000\">with you. How can I help you today?'</span>\n",
       "<span style=\"font-weight: bold\">}</span>\n",
       "</pre>\n"
      ],
      "text/plain": [
       "\u001b[1m{\u001b[0m\n",
       "    \u001b[32m'content'\u001b[0m: \u001b[32m'Hello, who are you?'\u001b[0m,\n",
       "    \u001b[32m'messages'\u001b[0m: \u001b[1m[\u001b[0m\n",
       "        \u001b[1;35mHumanMessage\u001b[0m\u001b[1m(\u001b[0m\u001b[33mcontent\u001b[0m=\u001b[32m'Hello, who are you?'\u001b[0m, \u001b[33madditional_kwargs\u001b[0m=\u001b[1m{\u001b[0m\u001b[1m}\u001b[0m, \u001b[33mexample\u001b[0m=\u001b[3;91mFalse\u001b[0m\u001b[1m)\u001b[0m,\n",
       "        \u001b[1;35mAIMessage\u001b[0m\u001b[1m(\u001b[0m\n",
       "            \u001b[33mcontent\u001b[0m=\u001b[32m'Hello! I am an AI language model developed by OpenAI. I am here to assist and engage in \u001b[0m\n",
       "\u001b[32mconversation with you. How can I help you today?'\u001b[0m,\n",
       "            \u001b[33madditional_kwargs\u001b[0m=\u001b[1m{\u001b[0m\u001b[1m}\u001b[0m,\n",
       "            \u001b[33mexample\u001b[0m=\u001b[3;91mFalse\u001b[0m\n",
       "        \u001b[1m)\u001b[0m\n",
       "    \u001b[1m]\u001b[0m,\n",
       "    \u001b[32m'text'\u001b[0m: \u001b[32m'Hello! I am an AI language model developed by OpenAI. I am here to assist and engage in conversation \u001b[0m\n",
       "\u001b[32mwith you. How can I help you today?'\u001b[0m\n",
       "\u001b[1m}\u001b[0m\n"
      ]
     },
     "metadata": {},
     "output_type": "display_data"
    }
   ],
   "source": [
    "content: str = \"Hello, who are you?\"\n",
    "\n",
    "result: dict[str, Any] = chain({\"content\": content})\n",
    "print(result)"
   ]
  },
  {
   "cell_type": "code",
   "execution_count": 17,
   "metadata": {},
   "outputs": [
    {
     "data": {
      "text/html": [
       "<pre style=\"white-space:pre;overflow-x:auto;line-height:normal;font-family:Menlo,'DejaVu Sans Mono',consolas,'Courier New',monospace\"><span style=\"font-weight: bold\">{</span>\n",
       "    <span style=\"color: #008000; text-decoration-color: #008000\">'content'</span>: <span style=\"color: #008000; text-decoration-color: #008000\">'What is NLP?'</span>,\n",
       "    <span style=\"color: #008000; text-decoration-color: #008000\">'messages'</span>: <span style=\"font-weight: bold\">[</span>\n",
       "        <span style=\"color: #800080; text-decoration-color: #800080; font-weight: bold\">HumanMessage</span><span style=\"font-weight: bold\">(</span><span style=\"color: #808000; text-decoration-color: #808000\">content</span>=<span style=\"color: #008000; text-decoration-color: #008000\">'Hello, who are you?'</span>, <span style=\"color: #808000; text-decoration-color: #808000\">additional_kwargs</span>=<span style=\"font-weight: bold\">{}</span>, <span style=\"color: #808000; text-decoration-color: #808000\">example</span>=<span style=\"color: #ff0000; text-decoration-color: #ff0000; font-style: italic\">False</span><span style=\"font-weight: bold\">)</span>,\n",
       "        <span style=\"color: #800080; text-decoration-color: #800080; font-weight: bold\">AIMessage</span><span style=\"font-weight: bold\">(</span>\n",
       "            <span style=\"color: #808000; text-decoration-color: #808000\">content</span>=<span style=\"color: #008000; text-decoration-color: #008000\">'Hello! I am an AI language model developed by OpenAI. I am here to assist and engage in </span>\n",
       "<span style=\"color: #008000; text-decoration-color: #008000\">conversation with you. How can I help you today?'</span>,\n",
       "            <span style=\"color: #808000; text-decoration-color: #808000\">additional_kwargs</span>=<span style=\"font-weight: bold\">{}</span>,\n",
       "            <span style=\"color: #808000; text-decoration-color: #808000\">example</span>=<span style=\"color: #ff0000; text-decoration-color: #ff0000; font-style: italic\">False</span>\n",
       "        <span style=\"font-weight: bold\">)</span>,\n",
       "        <span style=\"color: #800080; text-decoration-color: #800080; font-weight: bold\">HumanMessage</span><span style=\"font-weight: bold\">(</span><span style=\"color: #808000; text-decoration-color: #808000\">content</span>=<span style=\"color: #008000; text-decoration-color: #008000\">'What is NLP?'</span>, <span style=\"color: #808000; text-decoration-color: #808000\">additional_kwargs</span>=<span style=\"font-weight: bold\">{}</span>, <span style=\"color: #808000; text-decoration-color: #808000\">example</span>=<span style=\"color: #ff0000; text-decoration-color: #ff0000; font-style: italic\">False</span><span style=\"font-weight: bold\">)</span>,\n",
       "        <span style=\"color: #800080; text-decoration-color: #800080; font-weight: bold\">AIMessage</span><span style=\"font-weight: bold\">(</span>\n",
       "            <span style=\"color: #808000; text-decoration-color: #808000\">content</span>=<span style=\"color: #008000; text-decoration-color: #008000\">'NLP stands for Natural Language Processing. It is a subfield of artificial intelligence (AI) </span>\n",
       "<span style=\"color: #008000; text-decoration-color: #008000\">that focuses on the interaction between computers and human language. NLP involves the development of algorithms </span>\n",
       "<span style=\"color: #008000; text-decoration-color: #008000\">and models that allow computers to understand, interpret, and generate human language in a way that is meaningful </span>\n",
       "<span style=\"color: #008000; text-decoration-color: #008000\">and useful. It encompasses tasks such as text classification, sentiment analysis, machine translation, question </span>\n",
       "<span style=\"color: #008000; text-decoration-color: #008000\">answering, and more. NLP has a wide range of applications, including virtual assistants, chatbots, language </span>\n",
       "<span style=\"color: #008000; text-decoration-color: #008000\">translation, text analysis, and information retrieval.'</span>,\n",
       "            <span style=\"color: #808000; text-decoration-color: #808000\">additional_kwargs</span>=<span style=\"font-weight: bold\">{}</span>,\n",
       "            <span style=\"color: #808000; text-decoration-color: #808000\">example</span>=<span style=\"color: #ff0000; text-decoration-color: #ff0000; font-style: italic\">False</span>\n",
       "        <span style=\"font-weight: bold\">)</span>\n",
       "    <span style=\"font-weight: bold\">]</span>,\n",
       "    <span style=\"color: #008000; text-decoration-color: #008000\">'text'</span>: <span style=\"color: #008000; text-decoration-color: #008000\">'NLP stands for Natural Language Processing. It is a subfield of artificial intelligence (AI) that </span>\n",
       "<span style=\"color: #008000; text-decoration-color: #008000\">focuses on the interaction between computers and human language. NLP involves the development of algorithms and </span>\n",
       "<span style=\"color: #008000; text-decoration-color: #008000\">models that allow computers to understand, interpret, and generate human language in a way that is meaningful and </span>\n",
       "<span style=\"color: #008000; text-decoration-color: #008000\">useful. It encompasses tasks such as text classification, sentiment analysis, machine translation, question </span>\n",
       "<span style=\"color: #008000; text-decoration-color: #008000\">answering, and more. NLP has a wide range of applications, including virtual assistants, chatbots, language </span>\n",
       "<span style=\"color: #008000; text-decoration-color: #008000\">translation, text analysis, and information retrieval.'</span>\n",
       "<span style=\"font-weight: bold\">}</span>\n",
       "</pre>\n"
      ],
      "text/plain": [
       "\u001b[1m{\u001b[0m\n",
       "    \u001b[32m'content'\u001b[0m: \u001b[32m'What is NLP?'\u001b[0m,\n",
       "    \u001b[32m'messages'\u001b[0m: \u001b[1m[\u001b[0m\n",
       "        \u001b[1;35mHumanMessage\u001b[0m\u001b[1m(\u001b[0m\u001b[33mcontent\u001b[0m=\u001b[32m'Hello, who are you?'\u001b[0m, \u001b[33madditional_kwargs\u001b[0m=\u001b[1m{\u001b[0m\u001b[1m}\u001b[0m, \u001b[33mexample\u001b[0m=\u001b[3;91mFalse\u001b[0m\u001b[1m)\u001b[0m,\n",
       "        \u001b[1;35mAIMessage\u001b[0m\u001b[1m(\u001b[0m\n",
       "            \u001b[33mcontent\u001b[0m=\u001b[32m'Hello! I am an AI language model developed by OpenAI. I am here to assist and engage in \u001b[0m\n",
       "\u001b[32mconversation with you. How can I help you today?'\u001b[0m,\n",
       "            \u001b[33madditional_kwargs\u001b[0m=\u001b[1m{\u001b[0m\u001b[1m}\u001b[0m,\n",
       "            \u001b[33mexample\u001b[0m=\u001b[3;91mFalse\u001b[0m\n",
       "        \u001b[1m)\u001b[0m,\n",
       "        \u001b[1;35mHumanMessage\u001b[0m\u001b[1m(\u001b[0m\u001b[33mcontent\u001b[0m=\u001b[32m'What is NLP?'\u001b[0m, \u001b[33madditional_kwargs\u001b[0m=\u001b[1m{\u001b[0m\u001b[1m}\u001b[0m, \u001b[33mexample\u001b[0m=\u001b[3;91mFalse\u001b[0m\u001b[1m)\u001b[0m,\n",
       "        \u001b[1;35mAIMessage\u001b[0m\u001b[1m(\u001b[0m\n",
       "            \u001b[33mcontent\u001b[0m=\u001b[32m'NLP stands for Natural Language Processing. It is a subfield of artificial intelligence \u001b[0m\u001b[32m(\u001b[0m\u001b[32mAI\u001b[0m\u001b[32m)\u001b[0m\u001b[32m \u001b[0m\n",
       "\u001b[32mthat focuses on the interaction between computers and human language. NLP involves the development of algorithms \u001b[0m\n",
       "\u001b[32mand models that allow computers to understand, interpret, and generate human language in a way that is meaningful \u001b[0m\n",
       "\u001b[32mand useful. It encompasses tasks such as text classification, sentiment analysis, machine translation, question \u001b[0m\n",
       "\u001b[32manswering, and more. NLP has a wide range of applications, including virtual assistants, chatbots, language \u001b[0m\n",
       "\u001b[32mtranslation, text analysis, and information retrieval.'\u001b[0m,\n",
       "            \u001b[33madditional_kwargs\u001b[0m=\u001b[1m{\u001b[0m\u001b[1m}\u001b[0m,\n",
       "            \u001b[33mexample\u001b[0m=\u001b[3;91mFalse\u001b[0m\n",
       "        \u001b[1m)\u001b[0m\n",
       "    \u001b[1m]\u001b[0m,\n",
       "    \u001b[32m'text'\u001b[0m: \u001b[32m'NLP stands for Natural Language Processing. It is a subfield of artificial intelligence \u001b[0m\u001b[32m(\u001b[0m\u001b[32mAI\u001b[0m\u001b[32m)\u001b[0m\u001b[32m that \u001b[0m\n",
       "\u001b[32mfocuses on the interaction between computers and human language. NLP involves the development of algorithms and \u001b[0m\n",
       "\u001b[32mmodels that allow computers to understand, interpret, and generate human language in a way that is meaningful and \u001b[0m\n",
       "\u001b[32museful. It encompasses tasks such as text classification, sentiment analysis, machine translation, question \u001b[0m\n",
       "\u001b[32manswering, and more. NLP has a wide range of applications, including virtual assistants, chatbots, language \u001b[0m\n",
       "\u001b[32mtranslation, text analysis, and information retrieval.'\u001b[0m\n",
       "\u001b[1m}\u001b[0m\n"
      ]
     },
     "metadata": {},
     "output_type": "display_data"
    }
   ],
   "source": [
    "# Follow up question\n",
    "content: str = \"What is NLP?\"\n",
    "\n",
    "result: dict[str, Any] = chain({\"content\": content})\n",
    "print(result)"
   ]
  },
  {
   "cell_type": "code",
   "execution_count": 18,
   "metadata": {},
   "outputs": [
    {
     "data": {
      "text/html": [
       "<pre style=\"white-space:pre;overflow-x:auto;line-height:normal;font-family:Menlo,'DejaVu Sans Mono',consolas,'Courier New',monospace\"><span style=\"font-weight: bold\">{</span>\n",
       "    <span style=\"color: #008000; text-decoration-color: #008000\">'content'</span>: <span style=\"color: #008000; text-decoration-color: #008000\">'How can I study it?'</span>,\n",
       "    <span style=\"color: #008000; text-decoration-color: #008000\">'messages'</span>: <span style=\"font-weight: bold\">[</span>\n",
       "        <span style=\"color: #800080; text-decoration-color: #800080; font-weight: bold\">HumanMessage</span><span style=\"font-weight: bold\">(</span><span style=\"color: #808000; text-decoration-color: #808000\">content</span>=<span style=\"color: #008000; text-decoration-color: #008000\">'Hello, who are you?'</span>, <span style=\"color: #808000; text-decoration-color: #808000\">additional_kwargs</span>=<span style=\"font-weight: bold\">{}</span>, <span style=\"color: #808000; text-decoration-color: #808000\">example</span>=<span style=\"color: #ff0000; text-decoration-color: #ff0000; font-style: italic\">False</span><span style=\"font-weight: bold\">)</span>,\n",
       "        <span style=\"color: #800080; text-decoration-color: #800080; font-weight: bold\">AIMessage</span><span style=\"font-weight: bold\">(</span>\n",
       "            <span style=\"color: #808000; text-decoration-color: #808000\">content</span>=<span style=\"color: #008000; text-decoration-color: #008000\">'Hello! I am an AI language model developed by OpenAI. I am here to assist and engage in </span>\n",
       "<span style=\"color: #008000; text-decoration-color: #008000\">conversation with you. How can I help you today?'</span>,\n",
       "            <span style=\"color: #808000; text-decoration-color: #808000\">additional_kwargs</span>=<span style=\"font-weight: bold\">{}</span>,\n",
       "            <span style=\"color: #808000; text-decoration-color: #808000\">example</span>=<span style=\"color: #ff0000; text-decoration-color: #ff0000; font-style: italic\">False</span>\n",
       "        <span style=\"font-weight: bold\">)</span>,\n",
       "        <span style=\"color: #800080; text-decoration-color: #800080; font-weight: bold\">HumanMessage</span><span style=\"font-weight: bold\">(</span><span style=\"color: #808000; text-decoration-color: #808000\">content</span>=<span style=\"color: #008000; text-decoration-color: #008000\">'What is NLP?'</span>, <span style=\"color: #808000; text-decoration-color: #808000\">additional_kwargs</span>=<span style=\"font-weight: bold\">{}</span>, <span style=\"color: #808000; text-decoration-color: #808000\">example</span>=<span style=\"color: #ff0000; text-decoration-color: #ff0000; font-style: italic\">False</span><span style=\"font-weight: bold\">)</span>,\n",
       "        <span style=\"color: #800080; text-decoration-color: #800080; font-weight: bold\">AIMessage</span><span style=\"font-weight: bold\">(</span>\n",
       "            <span style=\"color: #808000; text-decoration-color: #808000\">content</span>=<span style=\"color: #008000; text-decoration-color: #008000\">'NLP stands for Natural Language Processing. It is a subfield of artificial intelligence (AI) </span>\n",
       "<span style=\"color: #008000; text-decoration-color: #008000\">that focuses on the interaction between computers and human language. NLP involves the development of algorithms </span>\n",
       "<span style=\"color: #008000; text-decoration-color: #008000\">and models that allow computers to understand, interpret, and generate human language in a way that is meaningful </span>\n",
       "<span style=\"color: #008000; text-decoration-color: #008000\">and useful. It encompasses tasks such as text classification, sentiment analysis, machine translation, question </span>\n",
       "<span style=\"color: #008000; text-decoration-color: #008000\">answering, and more. NLP has a wide range of applications, including virtual assistants, chatbots, language </span>\n",
       "<span style=\"color: #008000; text-decoration-color: #008000\">translation, text analysis, and information retrieval.'</span>,\n",
       "            <span style=\"color: #808000; text-decoration-color: #808000\">additional_kwargs</span>=<span style=\"font-weight: bold\">{}</span>,\n",
       "            <span style=\"color: #808000; text-decoration-color: #808000\">example</span>=<span style=\"color: #ff0000; text-decoration-color: #ff0000; font-style: italic\">False</span>\n",
       "        <span style=\"font-weight: bold\">)</span>,\n",
       "        <span style=\"color: #800080; text-decoration-color: #800080; font-weight: bold\">HumanMessage</span><span style=\"font-weight: bold\">(</span><span style=\"color: #808000; text-decoration-color: #808000\">content</span>=<span style=\"color: #008000; text-decoration-color: #008000\">'How can I study it?'</span>, <span style=\"color: #808000; text-decoration-color: #808000\">additional_kwargs</span>=<span style=\"font-weight: bold\">{}</span>, <span style=\"color: #808000; text-decoration-color: #808000\">example</span>=<span style=\"color: #ff0000; text-decoration-color: #ff0000; font-style: italic\">False</span><span style=\"font-weight: bold\">)</span>,\n",
       "        <span style=\"color: #800080; text-decoration-color: #800080; font-weight: bold\">AIMessage</span><span style=\"font-weight: bold\">(</span>\n",
       "            <span style=\"color: #808000; text-decoration-color: #808000\">content</span>=<span style=\"color: #008000; text-decoration-color: #008000\">'To study NLP, here are some steps you can follow:\\n\\n1. Learn the basics: Start by </span>\n",
       "<span style=\"color: #008000; text-decoration-color: #008000\">understanding the fundamental concepts and techniques in NLP. This includes topics like tokenization, </span>\n",
       "<span style=\"color: #008000; text-decoration-color: #008000\">part-of-speech tagging, named entity recognition, syntactic parsing, and semantic analysis.\\n\\n2. Programming </span>\n",
       "<span style=\"color: #008000; text-decoration-color: #008000\">skills: Develop your programming skills, as NLP often requires coding. Python is a popular language for NLP tasks, </span>\n",
       "<span style=\"color: #008000; text-decoration-color: #008000\">so learning Python and libraries like NLTK (Natural Language Toolkit) and spaCy can be beneficial.\\n\\n3. Read books</span>\n",
       "<span style=\"color: #008000; text-decoration-color: #008000\">and research papers: There are several books and research papers available on NLP that can provide in-depth </span>\n",
       "<span style=\"color: #008000; text-decoration-color: #008000\">knowledge on various topics. Some recommended books include \"Speech and Language Processing\" by Jurafsky and </span>\n",
       "<span style=\"color: #008000; text-decoration-color: #008000\">Martin, \"Foundations of Statistical Natural Language Processing\" by Manning and Schütze, and \"Natural Language </span>\n",
       "<span style=\"color: #008000; text-decoration-color: #008000\">Processing with Python\" by Bird, Klein, and Loper.\\n\\n4. Online courses: Enroll in online courses that cover NLP </span>\n",
       "<span style=\"color: #008000; text-decoration-color: #008000\">concepts and techniques. Platforms like Coursera, Udemy, and edX offer courses on NLP, such as \"Natural Language </span>\n",
       "<span style=\"color: #008000; text-decoration-color: #008000\">Processing\" by Stanford University and \"Deep Learning Specialization\" by deeplearning.ai.\\n\\n5. Practice with </span>\n",
       "<span style=\"color: #008000; text-decoration-color: #008000\">datasets and projects: Apply your knowledge by working on NLP projects and experimenting with different datasets. </span>\n",
       "<span style=\"color: #008000; text-decoration-color: #008000\">This hands-on experience will help solidify your understanding and improve your skills.\\n\\n6. Stay updated: Stay </span>\n",
       "<span style=\"color: #008000; text-decoration-color: #008000\">informed about the latest advancements and research in NLP. Follow blogs, research papers, and conferences like ACL</span>\n",
       "<span style=\"color: #008000; text-decoration-color: #008000\">(Association for Computational Linguistics) and EMNLP (Empirical Methods in Natural Language Processing) to keep up</span>\n",
       "<span style=\"color: #008000; text-decoration-color: #008000\">with the latest trends.\\n\\n7. Join communities: Engage with the NLP community by participating in forums, </span>\n",
       "<span style=\"color: #008000; text-decoration-color: #008000\">discussion groups, and online communities. This allows you to connect with like-minded individuals, ask questions, </span>\n",
       "<span style=\"color: #008000; text-decoration-color: #008000\">and learn from others\\' experiences.\\n\\nRemember, NLP is a vast and evolving field, so continuous learning and </span>\n",
       "<span style=\"color: #008000; text-decoration-color: #008000\">practice are key to mastering it.'</span>,\n",
       "            <span style=\"color: #808000; text-decoration-color: #808000\">additional_kwargs</span>=<span style=\"font-weight: bold\">{}</span>,\n",
       "            <span style=\"color: #808000; text-decoration-color: #808000\">example</span>=<span style=\"color: #ff0000; text-decoration-color: #ff0000; font-style: italic\">False</span>\n",
       "        <span style=\"font-weight: bold\">)</span>\n",
       "    <span style=\"font-weight: bold\">]</span>,\n",
       "    <span style=\"color: #008000; text-decoration-color: #008000\">'text'</span>: <span style=\"color: #008000; text-decoration-color: #008000\">'To study NLP, here are some steps you can follow:\\n\\n1. Learn the basics: Start by understanding the </span>\n",
       "<span style=\"color: #008000; text-decoration-color: #008000\">fundamental concepts and techniques in NLP. This includes topics like tokenization, part-of-speech tagging, named </span>\n",
       "<span style=\"color: #008000; text-decoration-color: #008000\">entity recognition, syntactic parsing, and semantic analysis.\\n\\n2. Programming skills: Develop your programming </span>\n",
       "<span style=\"color: #008000; text-decoration-color: #008000\">skills, as NLP often requires coding. Python is a popular language for NLP tasks, so learning Python and libraries </span>\n",
       "<span style=\"color: #008000; text-decoration-color: #008000\">like NLTK (Natural Language Toolkit) and spaCy can be beneficial.\\n\\n3. Read books and research papers: There are </span>\n",
       "<span style=\"color: #008000; text-decoration-color: #008000\">several books and research papers available on NLP that can provide in-depth knowledge on various topics. Some </span>\n",
       "<span style=\"color: #008000; text-decoration-color: #008000\">recommended books include \"Speech and Language Processing\" by Jurafsky and Martin, \"Foundations of Statistical </span>\n",
       "<span style=\"color: #008000; text-decoration-color: #008000\">Natural Language Processing\" by Manning and Schütze, and \"Natural Language Processing with Python\" by Bird, Klein, </span>\n",
       "<span style=\"color: #008000; text-decoration-color: #008000\">and Loper.\\n\\n4. Online courses: Enroll in online courses that cover NLP concepts and techniques. Platforms like </span>\n",
       "<span style=\"color: #008000; text-decoration-color: #008000\">Coursera, Udemy, and edX offer courses on NLP, such as \"Natural Language Processing\" by Stanford University and </span>\n",
       "<span style=\"color: #008000; text-decoration-color: #008000\">\"Deep Learning Specialization\" by deeplearning.ai.\\n\\n5. Practice with datasets and projects: Apply your knowledge </span>\n",
       "<span style=\"color: #008000; text-decoration-color: #008000\">by working on NLP projects and experimenting with different datasets. This hands-on experience will help solidify </span>\n",
       "<span style=\"color: #008000; text-decoration-color: #008000\">your understanding and improve your skills.\\n\\n6. Stay updated: Stay informed about the latest advancements and </span>\n",
       "<span style=\"color: #008000; text-decoration-color: #008000\">research in NLP. Follow blogs, research papers, and conferences like ACL (Association for Computational </span>\n",
       "<span style=\"color: #008000; text-decoration-color: #008000\">Linguistics) and EMNLP (Empirical Methods in Natural Language Processing) to keep up with the latest trends.\\n\\n7. </span>\n",
       "<span style=\"color: #008000; text-decoration-color: #008000\">Join communities: Engage with the NLP community by participating in forums, discussion groups, and online </span>\n",
       "<span style=\"color: #008000; text-decoration-color: #008000\">communities. This allows you to connect with like-minded individuals, ask questions, and learn from others\\' </span>\n",
       "<span style=\"color: #008000; text-decoration-color: #008000\">experiences.\\n\\nRemember, NLP is a vast and evolving field, so continuous learning and practice are key to </span>\n",
       "<span style=\"color: #008000; text-decoration-color: #008000\">mastering it.'</span>\n",
       "<span style=\"font-weight: bold\">}</span>\n",
       "</pre>\n"
      ],
      "text/plain": [
       "\u001b[1m{\u001b[0m\n",
       "    \u001b[32m'content'\u001b[0m: \u001b[32m'How can I study it?'\u001b[0m,\n",
       "    \u001b[32m'messages'\u001b[0m: \u001b[1m[\u001b[0m\n",
       "        \u001b[1;35mHumanMessage\u001b[0m\u001b[1m(\u001b[0m\u001b[33mcontent\u001b[0m=\u001b[32m'Hello, who are you?'\u001b[0m, \u001b[33madditional_kwargs\u001b[0m=\u001b[1m{\u001b[0m\u001b[1m}\u001b[0m, \u001b[33mexample\u001b[0m=\u001b[3;91mFalse\u001b[0m\u001b[1m)\u001b[0m,\n",
       "        \u001b[1;35mAIMessage\u001b[0m\u001b[1m(\u001b[0m\n",
       "            \u001b[33mcontent\u001b[0m=\u001b[32m'Hello! I am an AI language model developed by OpenAI. I am here to assist and engage in \u001b[0m\n",
       "\u001b[32mconversation with you. How can I help you today?'\u001b[0m,\n",
       "            \u001b[33madditional_kwargs\u001b[0m=\u001b[1m{\u001b[0m\u001b[1m}\u001b[0m,\n",
       "            \u001b[33mexample\u001b[0m=\u001b[3;91mFalse\u001b[0m\n",
       "        \u001b[1m)\u001b[0m,\n",
       "        \u001b[1;35mHumanMessage\u001b[0m\u001b[1m(\u001b[0m\u001b[33mcontent\u001b[0m=\u001b[32m'What is NLP?'\u001b[0m, \u001b[33madditional_kwargs\u001b[0m=\u001b[1m{\u001b[0m\u001b[1m}\u001b[0m, \u001b[33mexample\u001b[0m=\u001b[3;91mFalse\u001b[0m\u001b[1m)\u001b[0m,\n",
       "        \u001b[1;35mAIMessage\u001b[0m\u001b[1m(\u001b[0m\n",
       "            \u001b[33mcontent\u001b[0m=\u001b[32m'NLP stands for Natural Language Processing. It is a subfield of artificial intelligence \u001b[0m\u001b[32m(\u001b[0m\u001b[32mAI\u001b[0m\u001b[32m)\u001b[0m\u001b[32m \u001b[0m\n",
       "\u001b[32mthat focuses on the interaction between computers and human language. NLP involves the development of algorithms \u001b[0m\n",
       "\u001b[32mand models that allow computers to understand, interpret, and generate human language in a way that is meaningful \u001b[0m\n",
       "\u001b[32mand useful. It encompasses tasks such as text classification, sentiment analysis, machine translation, question \u001b[0m\n",
       "\u001b[32manswering, and more. NLP has a wide range of applications, including virtual assistants, chatbots, language \u001b[0m\n",
       "\u001b[32mtranslation, text analysis, and information retrieval.'\u001b[0m,\n",
       "            \u001b[33madditional_kwargs\u001b[0m=\u001b[1m{\u001b[0m\u001b[1m}\u001b[0m,\n",
       "            \u001b[33mexample\u001b[0m=\u001b[3;91mFalse\u001b[0m\n",
       "        \u001b[1m)\u001b[0m,\n",
       "        \u001b[1;35mHumanMessage\u001b[0m\u001b[1m(\u001b[0m\u001b[33mcontent\u001b[0m=\u001b[32m'How can I study it?'\u001b[0m, \u001b[33madditional_kwargs\u001b[0m=\u001b[1m{\u001b[0m\u001b[1m}\u001b[0m, \u001b[33mexample\u001b[0m=\u001b[3;91mFalse\u001b[0m\u001b[1m)\u001b[0m,\n",
       "        \u001b[1;35mAIMessage\u001b[0m\u001b[1m(\u001b[0m\n",
       "            \u001b[33mcontent\u001b[0m=\u001b[32m'To study NLP, here are some steps you can follow:\\n\\n1. Learn the basics: Start by \u001b[0m\n",
       "\u001b[32munderstanding the fundamental concepts and techniques in NLP. This includes topics like tokenization, \u001b[0m\n",
       "\u001b[32mpart-of-speech tagging, named entity recognition, syntactic parsing, and semantic analysis.\\n\\n2. Programming \u001b[0m\n",
       "\u001b[32mskills: Develop your programming skills, as NLP often requires coding. Python is a popular language for NLP tasks, \u001b[0m\n",
       "\u001b[32mso learning Python and libraries like NLTK \u001b[0m\u001b[32m(\u001b[0m\u001b[32mNatural Language Toolkit\u001b[0m\u001b[32m)\u001b[0m\u001b[32m and spaCy can be beneficial.\\n\\n3. Read books\u001b[0m\n",
       "\u001b[32mand research papers: There are several books and research papers available on NLP that can provide in-depth \u001b[0m\n",
       "\u001b[32mknowledge on various topics. Some recommended books include \"Speech and Language Processing\" by Jurafsky and \u001b[0m\n",
       "\u001b[32mMartin, \"Foundations of Statistical Natural Language Processing\" by Manning and Schütze, and \"Natural Language \u001b[0m\n",
       "\u001b[32mProcessing with Python\" by Bird, Klein, and Loper.\\n\\n4. Online courses: Enroll in online courses that cover NLP \u001b[0m\n",
       "\u001b[32mconcepts and techniques. Platforms like Coursera, Udemy, and edX offer courses on NLP, such as \"Natural Language \u001b[0m\n",
       "\u001b[32mProcessing\" by Stanford University and \"Deep Learning Specialization\" by deeplearning.ai.\\n\\n5. Practice with \u001b[0m\n",
       "\u001b[32mdatasets and projects: Apply your knowledge by working on NLP projects and experimenting with different datasets. \u001b[0m\n",
       "\u001b[32mThis hands-on experience will help solidify your understanding and improve your skills.\\n\\n6. Stay updated: Stay \u001b[0m\n",
       "\u001b[32minformed about the latest advancements and research in NLP. Follow blogs, research papers, and conferences like ACL\u001b[0m\n",
       "\u001b[32m(\u001b[0m\u001b[32mAssociation for Computational Linguistics\u001b[0m\u001b[32m)\u001b[0m\u001b[32m and EMNLP \u001b[0m\u001b[32m(\u001b[0m\u001b[32mEmpirical Methods in Natural Language Processing\u001b[0m\u001b[32m)\u001b[0m\u001b[32m to keep up\u001b[0m\n",
       "\u001b[32mwith the latest trends.\\n\\n7. Join communities: Engage with the NLP community by participating in forums, \u001b[0m\n",
       "\u001b[32mdiscussion groups, and online communities. This allows you to connect with like-minded individuals, ask questions, \u001b[0m\n",
       "\u001b[32mand learn from others\\' experiences.\\n\\nRemember, NLP is a vast and evolving field, so continuous learning and \u001b[0m\n",
       "\u001b[32mpractice are key to mastering it.'\u001b[0m,\n",
       "            \u001b[33madditional_kwargs\u001b[0m=\u001b[1m{\u001b[0m\u001b[1m}\u001b[0m,\n",
       "            \u001b[33mexample\u001b[0m=\u001b[3;91mFalse\u001b[0m\n",
       "        \u001b[1m)\u001b[0m\n",
       "    \u001b[1m]\u001b[0m,\n",
       "    \u001b[32m'text'\u001b[0m: \u001b[32m'To study NLP, here are some steps you can follow:\\n\\n1. Learn the basics: Start by understanding the \u001b[0m\n",
       "\u001b[32mfundamental concepts and techniques in NLP. This includes topics like tokenization, part-of-speech tagging, named \u001b[0m\n",
       "\u001b[32mentity recognition, syntactic parsing, and semantic analysis.\\n\\n2. Programming skills: Develop your programming \u001b[0m\n",
       "\u001b[32mskills, as NLP often requires coding. Python is a popular language for NLP tasks, so learning Python and libraries \u001b[0m\n",
       "\u001b[32mlike NLTK \u001b[0m\u001b[32m(\u001b[0m\u001b[32mNatural Language Toolkit\u001b[0m\u001b[32m)\u001b[0m\u001b[32m and spaCy can be beneficial.\\n\\n3. Read books and research papers: There are \u001b[0m\n",
       "\u001b[32mseveral books and research papers available on NLP that can provide in-depth knowledge on various topics. Some \u001b[0m\n",
       "\u001b[32mrecommended books include \"Speech and Language Processing\" by Jurafsky and Martin, \"Foundations of Statistical \u001b[0m\n",
       "\u001b[32mNatural Language Processing\" by Manning and Schütze, and \"Natural Language Processing with Python\" by Bird, Klein, \u001b[0m\n",
       "\u001b[32mand Loper.\\n\\n4. Online courses: Enroll in online courses that cover NLP concepts and techniques. Platforms like \u001b[0m\n",
       "\u001b[32mCoursera, Udemy, and edX offer courses on NLP, such as \"Natural Language Processing\" by Stanford University and \u001b[0m\n",
       "\u001b[32m\"Deep Learning Specialization\" by deeplearning.ai.\\n\\n5. Practice with datasets and projects: Apply your knowledge \u001b[0m\n",
       "\u001b[32mby working on NLP projects and experimenting with different datasets. This hands-on experience will help solidify \u001b[0m\n",
       "\u001b[32myour understanding and improve your skills.\\n\\n6. Stay updated: Stay informed about the latest advancements and \u001b[0m\n",
       "\u001b[32mresearch in NLP. Follow blogs, research papers, and conferences like ACL \u001b[0m\u001b[32m(\u001b[0m\u001b[32mAssociation for Computational \u001b[0m\n",
       "\u001b[32mLinguistics\u001b[0m\u001b[32m)\u001b[0m\u001b[32m and EMNLP \u001b[0m\u001b[32m(\u001b[0m\u001b[32mEmpirical Methods in Natural Language Processing\u001b[0m\u001b[32m)\u001b[0m\u001b[32m to keep up with the latest trends.\\n\\n7. \u001b[0m\n",
       "\u001b[32mJoin communities: Engage with the NLP community by participating in forums, discussion groups, and online \u001b[0m\n",
       "\u001b[32mcommunities. This allows you to connect with like-minded individuals, ask questions, and learn from others\\' \u001b[0m\n",
       "\u001b[32mexperiences.\\n\\nRemember, NLP is a vast and evolving field, so continuous learning and practice are key to \u001b[0m\n",
       "\u001b[32mmastering it.'\u001b[0m\n",
       "\u001b[1m}\u001b[0m\n"
      ]
     },
     "metadata": {},
     "output_type": "display_data"
    }
   ],
   "source": [
    "# Follow up question\n",
    "content: str = \"How can I study it?\"\n",
    "\n",
    "result: dict[str, Any] = chain({\"content\": content})\n",
    "print(result)"
   ]
  },
  {
   "cell_type": "markdown",
   "metadata": {},
   "source": [
    "### Saving And Extending Conversations\n",
    "\n",
    "- Add the ability for the chatbot to remember previous conversations.\n",
    "    \n",
    "<br>\n",
    "\n",
    "[![image.png](https://i.postimg.cc/NGTgxztb/image.png)](https://postimg.cc/Dmvkv58b)\n",
    "\n",
    "<br>\n",
    "\n",
    "> We can use:\n",
    "- a JSON file.\n",
    "\n",
    "[![image.png](https://i.postimg.cc/B6FGMXrt/image.png)](https://postimg.cc/bDqMvNNj)"
   ]
  },
  {
   "cell_type": "code",
   "execution_count": 19,
   "metadata": {},
   "outputs": [],
   "source": [
    "from langchain.memory import FileChatMessageHistory"
   ]
  },
  {
   "cell_type": "code",
   "execution_count": 20,
   "metadata": {},
   "outputs": [],
   "source": [
    "chat_llm = ChatOpenAI(\n",
    "    model=OPENAI_CHAT_MODEL,\n",
    "    temperature=TEMPERATURE,\n",
    ")\n",
    "\n",
    "memory = ConversationBufferMemory(\n",
    "    chat_memory=FileChatMessageHistory(file_path=\"chat_history.json\"),  # New!\n",
    "    memory_key=\"messages\",  # key for storing the chat history\n",
    "    return_messages=True,  # returns the promp classes. e.g. HumanMsg, AIMsg, etc\n",
    ")\n",
    "\n",
    "# Used for chat completion LLMs\n",
    "prompt = ChatPromptTemplate(\n",
    "    input_variables=[\"content\", \"messages\"],\n",
    "    messages=[\n",
    "        HumanMessagePromptTemplate.from_template(\"{content}\"),\n",
    "        MessagesPlaceholder(\n",
    "            variable_name=\"messages\"\n",
    "        ),  # used to track the conversations\n",
    "    ],\n",
    ")\n",
    "\n",
    "chain: LLMChain = LLMChain(\n",
    "    llm=chat_llm,\n",
    "    prompt=prompt,\n",
    "    memory=memory,  # Add memory\n",
    ")"
   ]
  },
  {
   "cell_type": "code",
   "execution_count": 21,
   "metadata": {},
   "outputs": [
    {
     "data": {
      "text/html": [
       "<pre style=\"white-space:pre;overflow-x:auto;line-height:normal;font-family:Menlo,'DejaVu Sans Mono',consolas,'Courier New',monospace\"><span style=\"font-weight: bold\">{</span>\n",
       "    <span style=\"color: #008000; text-decoration-color: #008000\">'content'</span>: <span style=\"color: #008000; text-decoration-color: #008000\">'subtract 10 from the result'</span>,\n",
       "    <span style=\"color: #008000; text-decoration-color: #008000\">'messages'</span>: <span style=\"font-weight: bold\">[</span>\n",
       "        <span style=\"color: #800080; text-decoration-color: #800080; font-weight: bold\">HumanMessage</span><span style=\"font-weight: bold\">(</span><span style=\"color: #808000; text-decoration-color: #808000\">content</span>=<span style=\"color: #008000; text-decoration-color: #008000\">'Hello, what is 20+5?'</span>, <span style=\"color: #808000; text-decoration-color: #808000\">additional_kwargs</span>=<span style=\"font-weight: bold\">{}</span>, <span style=\"color: #808000; text-decoration-color: #808000\">example</span>=<span style=\"color: #ff0000; text-decoration-color: #ff0000; font-style: italic\">False</span><span style=\"font-weight: bold\">)</span>,\n",
       "        <span style=\"color: #800080; text-decoration-color: #800080; font-weight: bold\">AIMessage</span><span style=\"font-weight: bold\">(</span><span style=\"color: #808000; text-decoration-color: #808000\">content</span>=<span style=\"color: #008000; text-decoration-color: #008000\">'20 + 5 equals 25.'</span>, <span style=\"color: #808000; text-decoration-color: #808000\">additional_kwargs</span>=<span style=\"font-weight: bold\">{}</span>, <span style=\"color: #808000; text-decoration-color: #808000\">example</span>=<span style=\"color: #ff0000; text-decoration-color: #ff0000; font-style: italic\">False</span><span style=\"font-weight: bold\">)</span>,\n",
       "        <span style=\"color: #800080; text-decoration-color: #800080; font-weight: bold\">HumanMessage</span><span style=\"font-weight: bold\">(</span><span style=\"color: #808000; text-decoration-color: #808000\">content</span>=<span style=\"color: #008000; text-decoration-color: #008000\">'subtract 10 from the result'</span>, <span style=\"color: #808000; text-decoration-color: #808000\">additional_kwargs</span>=<span style=\"font-weight: bold\">{}</span>, <span style=\"color: #808000; text-decoration-color: #808000\">example</span>=<span style=\"color: #ff0000; text-decoration-color: #ff0000; font-style: italic\">False</span><span style=\"font-weight: bold\">)</span>,\n",
       "        <span style=\"color: #800080; text-decoration-color: #800080; font-weight: bold\">AIMessage</span><span style=\"font-weight: bold\">(</span>\n",
       "            <span style=\"color: #808000; text-decoration-color: #808000\">content</span>=<span style=\"color: #008000; text-decoration-color: #008000\">'To subtract 10 from the result, you would subtract 10 from 25:\\n\\n25 - 10 = 15'</span>,\n",
       "            <span style=\"color: #808000; text-decoration-color: #808000\">additional_kwargs</span>=<span style=\"font-weight: bold\">{}</span>,\n",
       "            <span style=\"color: #808000; text-decoration-color: #808000\">example</span>=<span style=\"color: #ff0000; text-decoration-color: #ff0000; font-style: italic\">False</span>\n",
       "        <span style=\"font-weight: bold\">)</span>,\n",
       "        <span style=\"color: #800080; text-decoration-color: #800080; font-weight: bold\">HumanMessage</span><span style=\"font-weight: bold\">(</span><span style=\"color: #808000; text-decoration-color: #808000\">content</span>=<span style=\"color: #008000; text-decoration-color: #008000\">'Hello, what is 20+5?'</span>, <span style=\"color: #808000; text-decoration-color: #808000\">additional_kwargs</span>=<span style=\"font-weight: bold\">{}</span>, <span style=\"color: #808000; text-decoration-color: #808000\">example</span>=<span style=\"color: #ff0000; text-decoration-color: #ff0000; font-style: italic\">False</span><span style=\"font-weight: bold\">)</span>,\n",
       "        <span style=\"color: #800080; text-decoration-color: #800080; font-weight: bold\">AIMessage</span><span style=\"font-weight: bold\">(</span><span style=\"color: #808000; text-decoration-color: #808000\">content</span>=<span style=\"color: #008000; text-decoration-color: #008000\">'The result of 20 + 5 is 25.'</span>, <span style=\"color: #808000; text-decoration-color: #808000\">additional_kwargs</span>=<span style=\"font-weight: bold\">{}</span>, <span style=\"color: #808000; text-decoration-color: #808000\">example</span>=<span style=\"color: #ff0000; text-decoration-color: #ff0000; font-style: italic\">False</span><span style=\"font-weight: bold\">)</span>\n",
       "    <span style=\"font-weight: bold\">]</span>,\n",
       "    <span style=\"color: #008000; text-decoration-color: #008000\">'text'</span>: <span style=\"color: #008000; text-decoration-color: #008000\">'To subtract 10 from the result, you would subtract 10 from 25:\\n\\n25 - 10 = 15'</span>\n",
       "<span style=\"font-weight: bold\">}</span>\n",
       "</pre>\n"
      ],
      "text/plain": [
       "\u001b[1m{\u001b[0m\n",
       "    \u001b[32m'content'\u001b[0m: \u001b[32m'subtract 10 from the result'\u001b[0m,\n",
       "    \u001b[32m'messages'\u001b[0m: \u001b[1m[\u001b[0m\n",
       "        \u001b[1;35mHumanMessage\u001b[0m\u001b[1m(\u001b[0m\u001b[33mcontent\u001b[0m=\u001b[32m'Hello, what is 20+5?'\u001b[0m, \u001b[33madditional_kwargs\u001b[0m=\u001b[1m{\u001b[0m\u001b[1m}\u001b[0m, \u001b[33mexample\u001b[0m=\u001b[3;91mFalse\u001b[0m\u001b[1m)\u001b[0m,\n",
       "        \u001b[1;35mAIMessage\u001b[0m\u001b[1m(\u001b[0m\u001b[33mcontent\u001b[0m=\u001b[32m'20 + 5 equals 25.'\u001b[0m, \u001b[33madditional_kwargs\u001b[0m=\u001b[1m{\u001b[0m\u001b[1m}\u001b[0m, \u001b[33mexample\u001b[0m=\u001b[3;91mFalse\u001b[0m\u001b[1m)\u001b[0m,\n",
       "        \u001b[1;35mHumanMessage\u001b[0m\u001b[1m(\u001b[0m\u001b[33mcontent\u001b[0m=\u001b[32m'subtract 10 from the result'\u001b[0m, \u001b[33madditional_kwargs\u001b[0m=\u001b[1m{\u001b[0m\u001b[1m}\u001b[0m, \u001b[33mexample\u001b[0m=\u001b[3;91mFalse\u001b[0m\u001b[1m)\u001b[0m,\n",
       "        \u001b[1;35mAIMessage\u001b[0m\u001b[1m(\u001b[0m\n",
       "            \u001b[33mcontent\u001b[0m=\u001b[32m'To subtract 10 from the result, you would subtract 10 from 25:\\n\\n25 - 10 = 15'\u001b[0m,\n",
       "            \u001b[33madditional_kwargs\u001b[0m=\u001b[1m{\u001b[0m\u001b[1m}\u001b[0m,\n",
       "            \u001b[33mexample\u001b[0m=\u001b[3;91mFalse\u001b[0m\n",
       "        \u001b[1m)\u001b[0m,\n",
       "        \u001b[1;35mHumanMessage\u001b[0m\u001b[1m(\u001b[0m\u001b[33mcontent\u001b[0m=\u001b[32m'Hello, what is 20+5?'\u001b[0m, \u001b[33madditional_kwargs\u001b[0m=\u001b[1m{\u001b[0m\u001b[1m}\u001b[0m, \u001b[33mexample\u001b[0m=\u001b[3;91mFalse\u001b[0m\u001b[1m)\u001b[0m,\n",
       "        \u001b[1;35mAIMessage\u001b[0m\u001b[1m(\u001b[0m\u001b[33mcontent\u001b[0m=\u001b[32m'The result of 20 + 5 is 25.'\u001b[0m, \u001b[33madditional_kwargs\u001b[0m=\u001b[1m{\u001b[0m\u001b[1m}\u001b[0m, \u001b[33mexample\u001b[0m=\u001b[3;91mFalse\u001b[0m\u001b[1m)\u001b[0m\n",
       "    \u001b[1m]\u001b[0m,\n",
       "    \u001b[32m'text'\u001b[0m: \u001b[32m'To subtract 10 from the result, you would subtract 10 from 25:\\n\\n25 - 10 = 15'\u001b[0m\n",
       "\u001b[1m}\u001b[0m\n"
      ]
     },
     "metadata": {},
     "output_type": "display_data"
    }
   ],
   "source": [
    "content: str = \"Hello, what is 20+5?\"\n",
    "result: dict[str, Any] = chain({\"content\": content})\n",
    "\n",
    "# Follow up question\n",
    "content: str = \"subtract 10 from the result\"\n",
    "result: dict[str, Any] = chain({\"content\": content})\n",
    "\n",
    "\n",
    "print(result)"
   ]
  },
  {
   "cell_type": "markdown",
   "metadata": {},
   "source": [
    "<hr><br>\n",
    "\n",
    "## Loading Files With Document Loaders\n",
    "\n",
    "[![image.png](https://i.postimg.cc/8CDcCFjL/image.png)](https://postimg.cc/TK7f73jP)\n",
    "\n",
    "<br>\n",
    "\n",
    "### Text Loader\n",
    "\n",
    "[![image.png](https://i.postimg.cc/yNV6HwbP/image.png)](https://postimg.cc/rDP2GYc0)"
   ]
  },
  {
   "cell_type": "code",
   "execution_count": 22,
   "metadata": {},
   "outputs": [],
   "source": [
    "from langchain.document_loaders import TextLoader\n",
    "from langchain.text_splitter import CharacterTextSplitter"
   ]
  },
  {
   "cell_type": "code",
   "execution_count": 23,
   "metadata": {},
   "outputs": [
    {
     "data": {
      "text/html": [
       "<pre style=\"white-space:pre;overflow-x:auto;line-height:normal;font-family:Menlo,'DejaVu Sans Mono',consolas,'Courier New',monospace\"><span style=\"font-weight: bold\">[</span>\n",
       "    <span style=\"color: #800080; text-decoration-color: #800080; font-weight: bold\">Document</span><span style=\"font-weight: bold\">(</span>\n",
       "        <span style=\"color: #808000; text-decoration-color: #808000\">page_content</span>=<span style=\"color: #008000; text-decoration-color: #008000\">'1. \"Dreamt\" is the only English word that ends with the letters \"mt.\"\\n2. An ostrich\\'s eye </span>\n",
       "<span style=\"color: #008000; text-decoration-color: #008000\">is bigger than its brain.\\n3. Honey is the only natural food that is made without destroying any kind of life.\\n4. </span>\n",
       "<span style=\"color: #008000; text-decoration-color: #008000\">A snail can sleep for three years.\\n5. The longest word in the English language is </span>\n",
       "<span style=\"color: #008000; text-decoration-color: #008000\">\\'pneumonoultramicroscopicsilicovolcanoconiosis.\\'\\n6. The elephant is the only mammal that can\\'t jump.\\n7. The </span>\n",
       "<span style=\"color: #008000; text-decoration-color: #008000\">letter \\'Q\\' is the only letter not appearing in any U.S. state name.\\n8. The heart of a shrimp is located in its </span>\n",
       "<span style=\"color: #008000; text-decoration-color: #008000\">head.\\n9. Australia is the only continent covered by a single country.\\n10. The Great Wall of China is </span>\n",
       "<span style=\"color: #008000; text-decoration-color: #008000\">approximately 13,171 miles long.\\n11. Bananas are berries, but strawberries aren\\'t.\\n12. The Sphinx of Giza has </span>\n",
       "<span style=\"color: #008000; text-decoration-color: #008000\">the body of a lion and the head of a human.\\n13. The first computer bug was an actual bug trapped in a </span>\n",
       "<span style=\"color: #008000; text-decoration-color: #008000\">computer.\\n14. Neil Armstrong was the first man to walk on the moon.\\n15. The Eiffel Tower in Paris leans slightly </span>\n",
       "<span style=\"color: #008000; text-decoration-color: #008000\">in the sun due to thermal expansion.\\n16. Queen Elizabeth II is the longest-reigning current monarch.\\n17. The </span>\n",
       "<span style=\"color: #008000; text-decoration-color: #008000\">Leaning Tower of Pisa took 200 years to construct.\\n18. Angel Falls is the highest waterfall in the world, located </span>\n",
       "<span style=\"color: #008000; text-decoration-color: #008000\">in Venezuela.\\n19. Sword swallowing is a skill that takes 3-10 years to learn.\\n20. Isaac Newton invented the cat </span>\n",
       "<span style=\"color: #008000; text-decoration-color: #008000\">flap.\\n21. Earth, Texas, is the only place on Earth named \\'Earth.\\'\\n22. Thomas Edison, who invented the </span>\n",
       "<span style=\"color: #008000; text-decoration-color: #008000\">lightbulb, was afraid of the dark.\\n23. The Pacific Ocean is the largest ocean on Earth, covering more than 60 </span>\n",
       "<span style=\"color: #008000; text-decoration-color: #008000\">million square miles.\\n24. Zeus was the king of the Greek gods according to ancient Greek myth.\\n25. There are </span>\n",
       "<span style=\"color: #008000; text-decoration-color: #008000\">about 7,000 feathers on an eagle.\\n26. Marie Curie was the first woman to win a Nobel Prize and remains the only </span>\n",
       "<span style=\"color: #008000; text-decoration-color: #008000\">person to have won in two different fields—Physics and Chemistry.\\n27. The Sahara Desert is the largest hot desert </span>\n",
       "<span style=\"color: #008000; text-decoration-color: #008000\">in the world.\\n28. There are 86,400 seconds in a day.\\n29. Earth is the only known planet that supports life.\\n30. </span>\n",
       "<span style=\"color: #008000; text-decoration-color: #008000\">The first Olympic Games were held in Ancient Greece in 776 B.C.\\n31. The Mona Lisa has no visible eyebrows.\\n32. A </span>\n",
       "<span style=\"color: #008000; text-decoration-color: #008000\">ball of glass will bounce higher than a ball of rubber.\\n33. Penguins are the only bird that can jump.\\n34. The </span>\n",
       "<span style=\"color: #008000; text-decoration-color: #008000\">shortest war in history was between Britain and Zanzibar on August 27, 1896. Zanzibar surrendered after 38 </span>\n",
       "<span style=\"color: #008000; text-decoration-color: #008000\">minutes.\\n35. Dolphins sleep with one eye open.  \\n36. There are 1,792 steps to the top of the Eiffel Tower.\\n37. </span>\n",
       "<span style=\"color: #008000; text-decoration-color: #008000\">Tug-of-war was an Olympic event between 1900 and 1920.\\n38. The Nile River is the longest river in the world, </span>\n",
       "<span style=\"color: #008000; text-decoration-color: #008000\">measuring about 4,135 miles.  \\n39. Lightning strikes the Earth 100 times every second.\\n40. Charlie Chaplin once </span>\n",
       "<span style=\"color: #008000; text-decoration-color: #008000\">won third place in a Charlie Chaplin look-alike contest.\\n41. Mount Everest is the tallest mountain in the </span>\n",
       "<span style=\"color: #008000; text-decoration-color: #008000\">world.\\n42. No two zebras have the same pattern of stripes.\\n43. The Great Barrier Reef is the world\\'s largest </span>\n",
       "<span style=\"color: #008000; text-decoration-color: #008000\">coral reef system.\\n44. Albert Einstein’s brain was stolen after his death.\\n45. Martin Luther King Jr. delivered </span>\n",
       "<span style=\"color: #008000; text-decoration-color: #008000\">his famous \"I Have A Dream\" speech in 1963.\\n46. Antarctica is the least populated continent on Earth.\\n47. </span>\n",
       "<span style=\"color: #008000; text-decoration-color: #008000\">Chocolate was once used as a currency.\\n48. Corn is on every continent except Antarctica.\\n49. Mount Kilimanjaro is</span>\n",
       "<span style=\"color: #008000; text-decoration-color: #008000\">the tallest free-standing mountain in the world (isn\\'t part of a mountain range).\\n50. Canada has more lakes than </span>\n",
       "<span style=\"color: #008000; text-decoration-color: #008000\">the rest of the world combined.\\n51. 10% of the world\\'s population is left-handed.\\n52. The Statue of Liberty was </span>\n",
       "<span style=\"color: #008000; text-decoration-color: #008000\">gifted to the U.S. by France.\\n53. The shortest war in history was between Britain and Zanzibar in 1896, lasting 38</span>\n",
       "<span style=\"color: #008000; text-decoration-color: #008000\">minutes.\\n54. The kangaroo and the emu are featured on the Australian coat of arms because neither animal can move </span>\n",
       "<span style=\"color: #008000; text-decoration-color: #008000\">backward, indicating progress.\\n55. The bull shark, the hippopotamus, and the crocodile are the three animals </span>\n",
       "<span style=\"color: #008000; text-decoration-color: #008000\">responsible for the most human deaths in Africa.\\n56. An apple, onion, and potato all have the same taste. The </span>\n",
       "<span style=\"color: #008000; text-decoration-color: #008000\">differences in flavor are caused by their smell.\\n57. Ancient Egyptians used a form of toothpaste over 5000 years </span>\n",
       "<span style=\"color: #008000; text-decoration-color: #008000\">ago.\\n58. A day on Venus is longer than its year.\\n59. By area, Russia is the largest country in the world.\\n60. </span>\n",
       "<span style=\"color: #008000; text-decoration-color: #008000\">The five interlocking Olympic rings are black, blue, red, white, and yellow because at least one of these colors </span>\n",
       "<span style=\"color: #008000; text-decoration-color: #008000\">appears on every national flag.\\n61. The first FIFA World Cup took place in Uruguay in 1930.\\n62. The Rubik\\'s cube</span>\n",
       "<span style=\"color: #008000; text-decoration-color: #008000\">was patented by Hungarian inventor Ernő Rubik.\\n63. Karaoke means \"empty orchestra\" in Japanese.\\n64. The first </span>\n",
       "<span style=\"color: #008000; text-decoration-color: #008000\">email ever sent was by Ray Tomlinson in 1971.\\n65. The Golden Gate Bridge in San Francisco was initially painted </span>\n",
       "<span style=\"color: #008000; text-decoration-color: #008000\">orange to enhance its visibility in fog.\\n66. Earth\\'s rotation is slowing at a rate of approximately 17 </span>\n",
       "<span style=\"color: #008000; text-decoration-color: #008000\">milliseconds per 100 years.\\n67. Niagara Falls can fill up to 4,000 bathtubs every second.\\n68. Warm water freezes </span>\n",
       "<span style=\"color: #008000; text-decoration-color: #008000\">faster than cold water due to the Mpemba effect.\\n69. The human body has six times more fat cells than human beings</span>\n",
       "<span style=\"color: #008000; text-decoration-color: #008000\">have.\\n70. 99% of the Earth\\'s gold is located in its core.\\n71. The Earth\\'s atmosphere is composed of 78% </span>\n",
       "<span style=\"color: #008000; text-decoration-color: #008000\">nitrogen, 21% oxygen, and traces of other gases.\\n72. Chocolate was once used as a currency by the Aztecs.\\n73. </span>\n",
       "<span style=\"color: #008000; text-decoration-color: #008000\">There are more tigers privately owned in Texas than in the wild worldwide.\\n74. Telephone inventor Alexander Graham</span>\n",
       "<span style=\"color: #008000; text-decoration-color: #008000\">Bell suggested \\'Ahoy\\' as the standard telephone greeting, but it was superseded by Thomas Edison\\'s </span>\n",
       "<span style=\"color: #008000; text-decoration-color: #008000\">\\'Hello.\\'\\n75. The rotations of Venus and Uranus are in the opposite direction from their orbits – a unique </span>\n",
       "<span style=\"color: #008000; text-decoration-color: #008000\">phenomenon known as retrograde rotation.\\n76. The word \"OK\" stands for \"oll korrect,\" a deliberate misspelling of </span>\n",
       "<span style=\"color: #008000; text-decoration-color: #008000\">\"all correct.\"\\n77. The only letter that doesn’t appear on the Periodic Table is J.\\n78. Sheep don’t drink from </span>\n",
       "<span style=\"color: #008000; text-decoration-color: #008000\">running water.\\n79. AB blood type is the rarest, making up less than 1% of the population worldwide.\\n80. Your </span>\n",
       "<span style=\"color: #008000; text-decoration-color: #008000\">heart beats around 100,000 times a day.\\n81. The male seahorse carries the eggs until they hatch instead of the </span>\n",
       "<span style=\"color: #008000; text-decoration-color: #008000\">female.\\n82. St. Lucia is the only country in the world named after a woman.\\n83. The Olympic flag\\'s colors are </span>\n",
       "<span style=\"color: #008000; text-decoration-color: #008000\">always red, black, blue, green, and yellow rings on a field of white.\\n84. Hedonic treadmill is a tendency of </span>\n",
       "<span style=\"color: #008000; text-decoration-color: #008000\">people to return to a set level of happiness despite life’s ups and downs.\\n85. Approximately two-thirds of people </span>\n",
       "<span style=\"color: #008000; text-decoration-color: #008000\">tip their head to the right when they kiss.\\n86. Broccoli and cauliflower are the only vegetables that are </span>\n",
       "<span style=\"color: #008000; text-decoration-color: #008000\">flowers.\\n87. The dot over an \\'i\\' or \\'j\\' is called a tittle.\\n88. A group of owls is called a parliament.\\n89. </span>\n",
       "<span style=\"color: #008000; text-decoration-color: #008000\">The first TV commercial aired on July 1, 1941, for the Bulova Watch Company.\\n90. The modern Italian language </span>\n",
       "<span style=\"color: #008000; text-decoration-color: #008000\">originated from the region of Tuscany.\\n91. There are more moves possible in a game of chess than there are atoms </span>\n",
       "<span style=\"color: #008000; text-decoration-color: #008000\">in the universe.\\n92. An anaconda snake can stretch to a width equal to a human adult.\\n93. Hot water will turn </span>\n",
       "<span style=\"color: #008000; text-decoration-color: #008000\">into ice faster than cold water under the right conditions.\\n94. Crying helps your body release toxins.\\n95. Wombat</span>\n",
       "<span style=\"color: #008000; text-decoration-color: #008000\">feces is shaped like a cube.\\n96. Some animals have blue, green, or violet blood.\\n97. A strawberry isn\\'t a berry </span>\n",
       "<span style=\"color: #008000; text-decoration-color: #008000\">but a banana is.\\n98. A Swiss passport is the world\\'s most accepted passport.\\n99. William Taft, the 27th U.S. </span>\n",
       "<span style=\"color: #008000; text-decoration-color: #008000\">president, got stuck in his White House bathtub.\\n100. Russia and America are less than 4 km apart at the nearest </span>\n",
       "<span style=\"color: #008000; text-decoration-color: #008000\">point.\\n101. Avocado has more protein than any other fruit.\\n102. Ostriches can run faster than horses.\\n103. The </span>\n",
       "<span style=\"color: #008000; text-decoration-color: #008000\">Golden Poison Dart Frog’s skin has enough toxins to kill 100 people.\\n104. There are more living beings in a </span>\n",
       "<span style=\"color: #008000; text-decoration-color: #008000\">teaspoonful of soil than there are people on earth.\\n105. Scorpions can survive in extreme temperatures ranging </span>\n",
       "<span style=\"color: #008000; text-decoration-color: #008000\">from below freezing (-31°F) to well over boiling (122°F).\\n106. The majority of a panda\\'s diet consists of </span>\n",
       "<span style=\"color: #008000; text-decoration-color: #008000\">bamboo.\\n107. Sharks predate dinosaurs.\\n108. Bat droppings in caves support whole ecosystems of unique organisms, </span>\n",
       "<span style=\"color: #008000; text-decoration-color: #008000\">including bacteria useful in detoxifying wastes.\\n109. Instead of bones, sharks have a skeleton made from </span>\n",
       "<span style=\"color: #008000; text-decoration-color: #008000\">cartilage.\\n110. On Mars, sunsets are blue.\\n111. The largest volcano in the solar system, Olympus Mons, is on </span>\n",
       "<span style=\"color: #008000; text-decoration-color: #008000\">Mars.\\n112. Saturn\\'s density is low enough that the planet would float in water.\\n113. Starfish can regenerate </span>\n",
       "<span style=\"color: #008000; text-decoration-color: #008000\">their own arms.\\n114. French Fries originated in Belgium.\\n115. Cell phones have 18 times more bacteria than toilet</span>\n",
       "<span style=\"color: #008000; text-decoration-color: #008000\">handles.\\n116. Venus is the hottest planet in the solar system.\\n117. The Moon is drifting away from Earth every </span>\n",
       "<span style=\"color: #008000; text-decoration-color: #008000\">year.\\n118. The original Star-Spangled Banner was sewn in Baltimore.\\n119. The average adult spends more time on </span>\n",
       "<span style=\"color: #008000; text-decoration-color: #008000\">the toilet than they do exercising.\\n120. The world\\'s quietest room is -9 decibels -- so quiet you can hear your </span>\n",
       "<span style=\"color: #008000; text-decoration-color: #008000\">blood flowing.'</span>,\n",
       "        <span style=\"color: #808000; text-decoration-color: #808000\">metadata</span>=<span style=\"font-weight: bold\">{</span><span style=\"color: #008000; text-decoration-color: #008000\">'source'</span>: <span style=\"color: #800080; text-decoration-color: #800080; font-weight: bold\">PosixPath</span><span style=\"font-weight: bold\">(</span><span style=\"color: #008000; text-decoration-color: #008000\">'../../../data/facts.txt'</span><span style=\"font-weight: bold\">)}</span>\n",
       "    <span style=\"font-weight: bold\">)</span>\n",
       "<span style=\"font-weight: bold\">]</span>\n",
       "</pre>\n"
      ],
      "text/plain": [
       "\u001b[1m[\u001b[0m\n",
       "    \u001b[1;35mDocument\u001b[0m\u001b[1m(\u001b[0m\n",
       "        \u001b[33mpage_content\u001b[0m=\u001b[32m'1. \"Dreamt\" is the only English word that ends with the letters \"mt.\"\\n2. An ostrich\\'s eye \u001b[0m\n",
       "\u001b[32mis bigger than its brain.\\n3. Honey is the only natural food that is made without destroying any kind of life.\\n4. \u001b[0m\n",
       "\u001b[32mA snail can sleep for three years.\\n5. The longest word in the English language is \u001b[0m\n",
       "\u001b[32m\\'pneumonoultramicroscopicsilicovolcanoconiosis.\\'\\n6. The elephant is the only mammal that can\\'t jump.\\n7. The \u001b[0m\n",
       "\u001b[32mletter \\'Q\\' is the only letter not appearing in any U.S. state name.\\n8. The heart of a shrimp is located in its \u001b[0m\n",
       "\u001b[32mhead.\\n9. Australia is the only continent covered by a single country.\\n10. The Great Wall of China is \u001b[0m\n",
       "\u001b[32mapproximately 13,171 miles long.\\n11. Bananas are berries, but strawberries aren\\'t.\\n12. The Sphinx of Giza has \u001b[0m\n",
       "\u001b[32mthe body of a lion and the head of a human.\\n13. The first computer bug was an actual bug trapped in a \u001b[0m\n",
       "\u001b[32mcomputer.\\n14. Neil Armstrong was the first man to walk on the moon.\\n15. The Eiffel Tower in Paris leans slightly \u001b[0m\n",
       "\u001b[32min the sun due to thermal expansion.\\n16. Queen Elizabeth II is the longest-reigning current monarch.\\n17. The \u001b[0m\n",
       "\u001b[32mLeaning Tower of Pisa took 200 years to construct.\\n18. Angel Falls is the highest waterfall in the world, located \u001b[0m\n",
       "\u001b[32min Venezuela.\\n19. Sword swallowing is a skill that takes 3-10 years to learn.\\n20. Isaac Newton invented the cat \u001b[0m\n",
       "\u001b[32mflap.\\n21. Earth, Texas, is the only place on Earth named \\'Earth.\\'\\n22. Thomas Edison, who invented the \u001b[0m\n",
       "\u001b[32mlightbulb, was afraid of the dark.\\n23. The Pacific Ocean is the largest ocean on Earth, covering more than 60 \u001b[0m\n",
       "\u001b[32mmillion square miles.\\n24. Zeus was the king of the Greek gods according to ancient Greek myth.\\n25. There are \u001b[0m\n",
       "\u001b[32mabout 7,000 feathers on an eagle.\\n26. Marie Curie was the first woman to win a Nobel Prize and remains the only \u001b[0m\n",
       "\u001b[32mperson to have won in two different fields—Physics and Chemistry.\\n27. The Sahara Desert is the largest hot desert \u001b[0m\n",
       "\u001b[32min the world.\\n28. There are 86,400 seconds in a day.\\n29. Earth is the only known planet that supports life.\\n30. \u001b[0m\n",
       "\u001b[32mThe first Olympic Games were held in Ancient Greece in 776 B.C.\\n31. The Mona Lisa has no visible eyebrows.\\n32. A \u001b[0m\n",
       "\u001b[32mball of glass will bounce higher than a ball of rubber.\\n33. Penguins are the only bird that can jump.\\n34. The \u001b[0m\n",
       "\u001b[32mshortest war in history was between Britain and Zanzibar on August 27, 1896. Zanzibar surrendered after 38 \u001b[0m\n",
       "\u001b[32mminutes.\\n35. Dolphins sleep with one eye open.  \\n36. There are 1,792 steps to the top of the Eiffel Tower.\\n37. \u001b[0m\n",
       "\u001b[32mTug-of-war was an Olympic event between 1900 and 1920.\\n38. The Nile River is the longest river in the world, \u001b[0m\n",
       "\u001b[32mmeasuring about 4,135 miles.  \\n39. Lightning strikes the Earth 100 times every second.\\n40. Charlie Chaplin once \u001b[0m\n",
       "\u001b[32mwon third place in a Charlie Chaplin look-alike contest.\\n41. Mount Everest is the tallest mountain in the \u001b[0m\n",
       "\u001b[32mworld.\\n42. No two zebras have the same pattern of stripes.\\n43. The Great Barrier Reef is the world\\'s largest \u001b[0m\n",
       "\u001b[32mcoral reef system.\\n44. Albert Einstein’s brain was stolen after his death.\\n45. Martin Luther King Jr. delivered \u001b[0m\n",
       "\u001b[32mhis famous \"I Have A Dream\" speech in 1963.\\n46. Antarctica is the least populated continent on Earth.\\n47. \u001b[0m\n",
       "\u001b[32mChocolate was once used as a currency.\\n48. Corn is on every continent except Antarctica.\\n49. Mount Kilimanjaro is\u001b[0m\n",
       "\u001b[32mthe tallest free-standing mountain in the world \u001b[0m\u001b[32m(\u001b[0m\u001b[32misn\\'t part of a mountain range\u001b[0m\u001b[32m)\u001b[0m\u001b[32m.\\n50. Canada has more lakes than \u001b[0m\n",
       "\u001b[32mthe rest of the world combined.\\n51. 10% of the world\\'s population is left-handed.\\n52. The Statue of Liberty was \u001b[0m\n",
       "\u001b[32mgifted to the U.S. by France.\\n53. The shortest war in history was between Britain and Zanzibar in 1896, lasting 38\u001b[0m\n",
       "\u001b[32mminutes.\\n54. The kangaroo and the emu are featured on the Australian coat of arms because neither animal can move \u001b[0m\n",
       "\u001b[32mbackward, indicating progress.\\n55. The bull shark, the hippopotamus, and the crocodile are the three animals \u001b[0m\n",
       "\u001b[32mresponsible for the most human deaths in Africa.\\n56. An apple, onion, and potato all have the same taste. The \u001b[0m\n",
       "\u001b[32mdifferences in flavor are caused by their smell.\\n57. Ancient Egyptians used a form of toothpaste over 5000 years \u001b[0m\n",
       "\u001b[32mago.\\n58. A day on Venus is longer than its year.\\n59. By area, Russia is the largest country in the world.\\n60. \u001b[0m\n",
       "\u001b[32mThe five interlocking Olympic rings are black, blue, red, white, and yellow because at least one of these colors \u001b[0m\n",
       "\u001b[32mappears on every national flag.\\n61. The first FIFA World Cup took place in Uruguay in 1930.\\n62. The Rubik\\'s cube\u001b[0m\n",
       "\u001b[32mwas patented by Hungarian inventor Ernő Rubik.\\n63. Karaoke means \"empty orchestra\" in Japanese.\\n64. The first \u001b[0m\n",
       "\u001b[32memail ever sent was by Ray Tomlinson in 1971.\\n65. The Golden Gate Bridge in San Francisco was initially painted \u001b[0m\n",
       "\u001b[32morange to enhance its visibility in fog.\\n66. Earth\\'s rotation is slowing at a rate of approximately 17 \u001b[0m\n",
       "\u001b[32mmilliseconds per 100 years.\\n67. Niagara Falls can fill up to 4,000 bathtubs every second.\\n68. Warm water freezes \u001b[0m\n",
       "\u001b[32mfaster than cold water due to the Mpemba effect.\\n69. The human body has six times more fat cells than human beings\u001b[0m\n",
       "\u001b[32mhave.\\n70. 99% of the Earth\\'s gold is located in its core.\\n71. The Earth\\'s atmosphere is composed of 78% \u001b[0m\n",
       "\u001b[32mnitrogen, 21% oxygen, and traces of other gases.\\n72. Chocolate was once used as a currency by the Aztecs.\\n73. \u001b[0m\n",
       "\u001b[32mThere are more tigers privately owned in Texas than in the wild worldwide.\\n74. Telephone inventor Alexander Graham\u001b[0m\n",
       "\u001b[32mBell suggested \\'Ahoy\\' as the standard telephone greeting, but it was superseded by Thomas Edison\\'s \u001b[0m\n",
       "\u001b[32m\\'Hello.\\'\\n75. The rotations of Venus and Uranus are in the opposite direction from their orbits – a unique \u001b[0m\n",
       "\u001b[32mphenomenon known as retrograde rotation.\\n76. The word \"OK\" stands for \"oll korrect,\" a deliberate misspelling of \u001b[0m\n",
       "\u001b[32m\"all correct.\"\\n77. The only letter that doesn’t appear on the Periodic Table is J.\\n78. Sheep don’t drink from \u001b[0m\n",
       "\u001b[32mrunning water.\\n79. AB blood type is the rarest, making up less than 1% of the population worldwide.\\n80. Your \u001b[0m\n",
       "\u001b[32mheart beats around 100,000 times a day.\\n81. The male seahorse carries the eggs until they hatch instead of the \u001b[0m\n",
       "\u001b[32mfemale.\\n82. St. Lucia is the only country in the world named after a woman.\\n83. The Olympic flag\\'s colors are \u001b[0m\n",
       "\u001b[32malways red, black, blue, green, and yellow rings on a field of white.\\n84. Hedonic treadmill is a tendency of \u001b[0m\n",
       "\u001b[32mpeople to return to a set level of happiness despite life’s ups and downs.\\n85. Approximately two-thirds of people \u001b[0m\n",
       "\u001b[32mtip their head to the right when they kiss.\\n86. Broccoli and cauliflower are the only vegetables that are \u001b[0m\n",
       "\u001b[32mflowers.\\n87. The dot over an \\'i\\' or \\'j\\' is called a tittle.\\n88. A group of owls is called a parliament.\\n89. \u001b[0m\n",
       "\u001b[32mThe first TV commercial aired on July 1, 1941, for the Bulova Watch Company.\\n90. The modern Italian language \u001b[0m\n",
       "\u001b[32moriginated from the region of Tuscany.\\n91. There are more moves possible in a game of chess than there are atoms \u001b[0m\n",
       "\u001b[32min the universe.\\n92. An anaconda snake can stretch to a width equal to a human adult.\\n93. Hot water will turn \u001b[0m\n",
       "\u001b[32minto ice faster than cold water under the right conditions.\\n94. Crying helps your body release toxins.\\n95. Wombat\u001b[0m\n",
       "\u001b[32mfeces is shaped like a cube.\\n96. Some animals have blue, green, or violet blood.\\n97. A strawberry isn\\'t a berry \u001b[0m\n",
       "\u001b[32mbut a banana is.\\n98. A Swiss passport is the world\\'s most accepted passport.\\n99. William Taft, the 27th U.S. \u001b[0m\n",
       "\u001b[32mpresident, got stuck in his White House bathtub.\\n100. Russia and America are less than 4 km apart at the nearest \u001b[0m\n",
       "\u001b[32mpoint.\\n101. Avocado has more protein than any other fruit.\\n102. Ostriches can run faster than horses.\\n103. The \u001b[0m\n",
       "\u001b[32mGolden Poison Dart Frog’s skin has enough toxins to kill 100 people.\\n104. There are more living beings in a \u001b[0m\n",
       "\u001b[32mteaspoonful of soil than there are people on earth.\\n105. Scorpions can survive in extreme temperatures ranging \u001b[0m\n",
       "\u001b[32mfrom below freezing \u001b[0m\u001b[32m(\u001b[0m\u001b[32m-31°F\u001b[0m\u001b[32m)\u001b[0m\u001b[32m to well over boiling \u001b[0m\u001b[32m(\u001b[0m\u001b[32m122°F\u001b[0m\u001b[32m)\u001b[0m\u001b[32m.\\n106. The majority of a panda\\'s diet consists of \u001b[0m\n",
       "\u001b[32mbamboo.\\n107. Sharks predate dinosaurs.\\n108. Bat droppings in caves support whole ecosystems of unique organisms, \u001b[0m\n",
       "\u001b[32mincluding bacteria useful in detoxifying wastes.\\n109. Instead of bones, sharks have a skeleton made from \u001b[0m\n",
       "\u001b[32mcartilage.\\n110. On Mars, sunsets are blue.\\n111. The largest volcano in the solar system, Olympus Mons, is on \u001b[0m\n",
       "\u001b[32mMars.\\n112. Saturn\\'s density is low enough that the planet would float in water.\\n113. Starfish can regenerate \u001b[0m\n",
       "\u001b[32mtheir own arms.\\n114. French Fries originated in Belgium.\\n115. Cell phones have 18 times more bacteria than toilet\u001b[0m\n",
       "\u001b[32mhandles.\\n116. Venus is the hottest planet in the solar system.\\n117. The Moon is drifting away from Earth every \u001b[0m\n",
       "\u001b[32myear.\\n118. The original Star-Spangled Banner was sewn in Baltimore.\\n119. The average adult spends more time on \u001b[0m\n",
       "\u001b[32mthe toilet than they do exercising.\\n120. The world\\'s quietest room is -9 decibels -- so quiet you can hear your \u001b[0m\n",
       "\u001b[32mblood flowing.'\u001b[0m,\n",
       "        \u001b[33mmetadata\u001b[0m=\u001b[1m{\u001b[0m\u001b[32m'source'\u001b[0m: \u001b[1;35mPosixPath\u001b[0m\u001b[1m(\u001b[0m\u001b[32m'../../../data/facts.txt'\u001b[0m\u001b[1m)\u001b[0m\u001b[1m}\u001b[0m\n",
       "    \u001b[1m)\u001b[0m\n",
       "\u001b[1m]\u001b[0m\n"
      ]
     },
     "metadata": {},
     "output_type": "display_data"
    }
   ],
   "source": [
    "fp: Path = Path(\"../../../data/facts.txt\")\n",
    "loader: TextLoader = TextLoader(file_path=fp)\n",
    "docs: list[Any] = loader.load()\n",
    "\n",
    "print(docs)"
   ]
  },
  {
   "cell_type": "code",
   "execution_count": 24,
   "metadata": {},
   "outputs": [
    {
     "data": {
      "text/html": [
       "<pre style=\"white-space:pre;overflow-x:auto;line-height:normal;font-family:Menlo,'DejaVu Sans Mono',consolas,'Courier New',monospace\"><span style=\"color: #008080; text-decoration-color: #008080; font-weight: bold\">1</span>. <span style=\"color: #008000; text-decoration-color: #008000\">\"Dreamt\"</span> is the only English word that ends with the letters <span style=\"color: #008000; text-decoration-color: #008000\">\"mt.\"</span>\n",
       "<span style=\"color: #008080; text-decoration-color: #008080; font-weight: bold\">2</span>. An ostrich's eye is bigger than its brain.\n",
       "<span style=\"color: #008080; text-decoration-color: #008080; font-weight: bold\">3</span>. Honey is the only natural food that is made without destroying any kind of life.\n",
       "</pre>\n"
      ],
      "text/plain": [
       "\u001b[1;36m1\u001b[0m. \u001b[32m\"Dreamt\"\u001b[0m is the only English word that ends with the letters \u001b[32m\"mt.\"\u001b[0m\n",
       "\u001b[1;36m2\u001b[0m. An ostrich's eye is bigger than its brain.\n",
       "\u001b[1;36m3\u001b[0m. Honey is the only natural food that is made without destroying any kind of life.\n"
      ]
     },
     "metadata": {},
     "output_type": "display_data"
    },
    {
     "data": {
      "text/html": [
       "<pre style=\"white-space:pre;overflow-x:auto;line-height:normal;font-family:Menlo,'DejaVu Sans Mono',consolas,'Courier New',monospace\"><span style=\"color: #008080; text-decoration-color: #008080; font-weight: bold\">4</span>. A snail can sleep for three years.\n",
       "<span style=\"color: #008080; text-decoration-color: #008080; font-weight: bold\">5</span>. The longest word in the English language is <span style=\"color: #008000; text-decoration-color: #008000\">'pneumonoultramicroscopicsilicovolcanoconiosis.'</span>\n",
       "<span style=\"color: #008080; text-decoration-color: #008080; font-weight: bold\">6</span>. The elephant is the only mammal that can't jump.\n",
       "</pre>\n"
      ],
      "text/plain": [
       "\u001b[1;36m4\u001b[0m. A snail can sleep for three years.\n",
       "\u001b[1;36m5\u001b[0m. The longest word in the English language is \u001b[32m'pneumonoultramicroscopicsilicovolcanoconiosis.'\u001b[0m\n",
       "\u001b[1;36m6\u001b[0m. The elephant is the only mammal that can't jump.\n"
      ]
     },
     "metadata": {},
     "output_type": "display_data"
    },
    {
     "data": {
      "text/html": [
       "<pre style=\"white-space:pre;overflow-x:auto;line-height:normal;font-family:Menlo,'DejaVu Sans Mono',consolas,'Courier New',monospace\"><span style=\"color: #008080; text-decoration-color: #008080; font-weight: bold\">7</span>. The letter <span style=\"color: #008000; text-decoration-color: #008000\">'Q'</span> is the only letter not appearing in any U.S. state name.\n",
       "<span style=\"color: #008080; text-decoration-color: #008080; font-weight: bold\">8</span>. The heart of a shrimp is located in its head.\n",
       "<span style=\"color: #008080; text-decoration-color: #008080; font-weight: bold\">9</span>. Australia is the only continent covered by a single country.\n",
       "</pre>\n"
      ],
      "text/plain": [
       "\u001b[1;36m7\u001b[0m. The letter \u001b[32m'Q'\u001b[0m is the only letter not appearing in any U.S. state name.\n",
       "\u001b[1;36m8\u001b[0m. The heart of a shrimp is located in its head.\n",
       "\u001b[1;36m9\u001b[0m. Australia is the only continent covered by a single country.\n"
      ]
     },
     "metadata": {},
     "output_type": "display_data"
    },
    {
     "data": {
      "text/html": [
       "<pre style=\"white-space:pre;overflow-x:auto;line-height:normal;font-family:Menlo,'DejaVu Sans Mono',consolas,'Courier New',monospace\"><span style=\"color: #008080; text-decoration-color: #008080; font-weight: bold\">10</span>. The Great Wall of China is approximately <span style=\"color: #008080; text-decoration-color: #008080; font-weight: bold\">13</span>,<span style=\"color: #008080; text-decoration-color: #008080; font-weight: bold\">171</span> miles long.\n",
       "<span style=\"color: #008080; text-decoration-color: #008080; font-weight: bold\">11</span>. Bananas are berries, but strawberries aren't.\n",
       "<span style=\"color: #008080; text-decoration-color: #008080; font-weight: bold\">12</span>. The Sphinx of Giza has the body of a lion and the head of a human.\n",
       "</pre>\n"
      ],
      "text/plain": [
       "\u001b[1;36m10\u001b[0m. The Great Wall of China is approximately \u001b[1;36m13\u001b[0m,\u001b[1;36m171\u001b[0m miles long.\n",
       "\u001b[1;36m11\u001b[0m. Bananas are berries, but strawberries aren't.\n",
       "\u001b[1;36m12\u001b[0m. The Sphinx of Giza has the body of a lion and the head of a human.\n"
      ]
     },
     "metadata": {},
     "output_type": "display_data"
    },
    {
     "data": {
      "text/html": [
       "<pre style=\"white-space:pre;overflow-x:auto;line-height:normal;font-family:Menlo,'DejaVu Sans Mono',consolas,'Courier New',monospace\"><span style=\"color: #008080; text-decoration-color: #008080; font-weight: bold\">13</span>. The first computer bug was an actual bug trapped in a computer.\n",
       "<span style=\"color: #008080; text-decoration-color: #008080; font-weight: bold\">14</span>. Neil Armstrong was the first man to walk on the moon.\n",
       "</pre>\n"
      ],
      "text/plain": [
       "\u001b[1;36m13\u001b[0m. The first computer bug was an actual bug trapped in a computer.\n",
       "\u001b[1;36m14\u001b[0m. Neil Armstrong was the first man to walk on the moon.\n"
      ]
     },
     "metadata": {},
     "output_type": "display_data"
    },
    {
     "data": {
      "text/html": [
       "<pre style=\"white-space:pre;overflow-x:auto;line-height:normal;font-family:Menlo,'DejaVu Sans Mono',consolas,'Courier New',monospace\"><span style=\"color: #008080; text-decoration-color: #008080; font-weight: bold\">15</span>. The Eiffel Tower in Paris leans slightly in the sun due to thermal expansion.\n",
       "<span style=\"color: #008080; text-decoration-color: #008080; font-weight: bold\">16</span>. Queen Elizabeth II is the longest-reigning current monarch.\n",
       "</pre>\n"
      ],
      "text/plain": [
       "\u001b[1;36m15\u001b[0m. The Eiffel Tower in Paris leans slightly in the sun due to thermal expansion.\n",
       "\u001b[1;36m16\u001b[0m. Queen Elizabeth II is the longest-reigning current monarch.\n"
      ]
     },
     "metadata": {},
     "output_type": "display_data"
    },
    {
     "data": {
      "text/html": [
       "<pre style=\"white-space:pre;overflow-x:auto;line-height:normal;font-family:Menlo,'DejaVu Sans Mono',consolas,'Courier New',monospace\"><span style=\"color: #008080; text-decoration-color: #008080; font-weight: bold\">17</span>. The Leaning Tower of Pisa took <span style=\"color: #008080; text-decoration-color: #008080; font-weight: bold\">200</span> years to construct.\n",
       "<span style=\"color: #008080; text-decoration-color: #008080; font-weight: bold\">18</span>. Angel Falls is the highest waterfall in the world, located in Venezuela.\n",
       "<span style=\"color: #008080; text-decoration-color: #008080; font-weight: bold\">19</span>. Sword swallowing is a skill that takes <span style=\"color: #008080; text-decoration-color: #008080; font-weight: bold\">3</span>-<span style=\"color: #008080; text-decoration-color: #008080; font-weight: bold\">10</span> years to learn.\n",
       "</pre>\n"
      ],
      "text/plain": [
       "\u001b[1;36m17\u001b[0m. The Leaning Tower of Pisa took \u001b[1;36m200\u001b[0m years to construct.\n",
       "\u001b[1;36m18\u001b[0m. Angel Falls is the highest waterfall in the world, located in Venezuela.\n",
       "\u001b[1;36m19\u001b[0m. Sword swallowing is a skill that takes \u001b[1;36m3\u001b[0m-\u001b[1;36m10\u001b[0m years to learn.\n"
      ]
     },
     "metadata": {},
     "output_type": "display_data"
    },
    {
     "data": {
      "text/html": [
       "<pre style=\"white-space:pre;overflow-x:auto;line-height:normal;font-family:Menlo,'DejaVu Sans Mono',consolas,'Courier New',monospace\"><span style=\"color: #008080; text-decoration-color: #008080; font-weight: bold\">20</span>. Isaac Newton invented the cat flap.\n",
       "<span style=\"color: #008080; text-decoration-color: #008080; font-weight: bold\">21</span>. Earth, Texas, is the only place on Earth named <span style=\"color: #008000; text-decoration-color: #008000\">'Earth.'</span>\n",
       "<span style=\"color: #008080; text-decoration-color: #008080; font-weight: bold\">22</span>. Thomas Edison, who invented the lightbulb, was afraid of the dark.\n",
       "</pre>\n"
      ],
      "text/plain": [
       "\u001b[1;36m20\u001b[0m. Isaac Newton invented the cat flap.\n",
       "\u001b[1;36m21\u001b[0m. Earth, Texas, is the only place on Earth named \u001b[32m'Earth.'\u001b[0m\n",
       "\u001b[1;36m22\u001b[0m. Thomas Edison, who invented the lightbulb, was afraid of the dark.\n"
      ]
     },
     "metadata": {},
     "output_type": "display_data"
    },
    {
     "data": {
      "text/html": [
       "<pre style=\"white-space:pre;overflow-x:auto;line-height:normal;font-family:Menlo,'DejaVu Sans Mono',consolas,'Courier New',monospace\"><span style=\"color: #008080; text-decoration-color: #008080; font-weight: bold\">23</span>. The Pacific Ocean is the largest ocean on Earth, covering more than <span style=\"color: #008080; text-decoration-color: #008080; font-weight: bold\">60</span> million square miles.\n",
       "<span style=\"color: #008080; text-decoration-color: #008080; font-weight: bold\">24</span>. Zeus was the king of the Greek gods according to ancient Greek myth.\n",
       "</pre>\n"
      ],
      "text/plain": [
       "\u001b[1;36m23\u001b[0m. The Pacific Ocean is the largest ocean on Earth, covering more than \u001b[1;36m60\u001b[0m million square miles.\n",
       "\u001b[1;36m24\u001b[0m. Zeus was the king of the Greek gods according to ancient Greek myth.\n"
      ]
     },
     "metadata": {},
     "output_type": "display_data"
    },
    {
     "data": {
      "text/html": [
       "<pre style=\"white-space:pre;overflow-x:auto;line-height:normal;font-family:Menlo,'DejaVu Sans Mono',consolas,'Courier New',monospace\"><span style=\"color: #008080; text-decoration-color: #008080; font-weight: bold\">25</span>. There are about <span style=\"color: #008080; text-decoration-color: #008080; font-weight: bold\">7</span>,<span style=\"color: #008080; text-decoration-color: #008080; font-weight: bold\">000</span> feathers on an eagle.\n",
       "<span style=\"color: #008080; text-decoration-color: #008080; font-weight: bold\">26</span>. Marie Curie was the first woman to win a Nobel Prize and remains the only person to have won in two different \n",
       "fields—Physics and Chemistry.\n",
       "</pre>\n"
      ],
      "text/plain": [
       "\u001b[1;36m25\u001b[0m. There are about \u001b[1;36m7\u001b[0m,\u001b[1;36m000\u001b[0m feathers on an eagle.\n",
       "\u001b[1;36m26\u001b[0m. Marie Curie was the first woman to win a Nobel Prize and remains the only person to have won in two different \n",
       "fields—Physics and Chemistry.\n"
      ]
     },
     "metadata": {},
     "output_type": "display_data"
    },
    {
     "data": {
      "text/html": [
       "<pre style=\"white-space:pre;overflow-x:auto;line-height:normal;font-family:Menlo,'DejaVu Sans Mono',consolas,'Courier New',monospace\"><span style=\"color: #008080; text-decoration-color: #008080; font-weight: bold\">27</span>. The Sahara Desert is the largest hot desert in the world.\n",
       "<span style=\"color: #008080; text-decoration-color: #008080; font-weight: bold\">28</span>. There are <span style=\"color: #008080; text-decoration-color: #008080; font-weight: bold\">86</span>,<span style=\"color: #008080; text-decoration-color: #008080; font-weight: bold\">400</span> seconds in a day.\n",
       "<span style=\"color: #008080; text-decoration-color: #008080; font-weight: bold\">29</span>. Earth is the only known planet that supports life.\n",
       "</pre>\n"
      ],
      "text/plain": [
       "\u001b[1;36m27\u001b[0m. The Sahara Desert is the largest hot desert in the world.\n",
       "\u001b[1;36m28\u001b[0m. There are \u001b[1;36m86\u001b[0m,\u001b[1;36m400\u001b[0m seconds in a day.\n",
       "\u001b[1;36m29\u001b[0m. Earth is the only known planet that supports life.\n"
      ]
     },
     "metadata": {},
     "output_type": "display_data"
    },
    {
     "data": {
      "text/html": [
       "<pre style=\"white-space:pre;overflow-x:auto;line-height:normal;font-family:Menlo,'DejaVu Sans Mono',consolas,'Courier New',monospace\"><span style=\"color: #008080; text-decoration-color: #008080; font-weight: bold\">30</span>. The first Olympic Games were held in Ancient Greece in <span style=\"color: #008080; text-decoration-color: #008080; font-weight: bold\">776</span> B.C.\n",
       "<span style=\"color: #008080; text-decoration-color: #008080; font-weight: bold\">31</span>. The Mona Lisa has no visible eyebrows.\n",
       "<span style=\"color: #008080; text-decoration-color: #008080; font-weight: bold\">32</span>. A ball of glass will bounce higher than a ball of rubber.\n",
       "</pre>\n"
      ],
      "text/plain": [
       "\u001b[1;36m30\u001b[0m. The first Olympic Games were held in Ancient Greece in \u001b[1;36m776\u001b[0m B.C.\n",
       "\u001b[1;36m31\u001b[0m. The Mona Lisa has no visible eyebrows.\n",
       "\u001b[1;36m32\u001b[0m. A ball of glass will bounce higher than a ball of rubber.\n"
      ]
     },
     "metadata": {},
     "output_type": "display_data"
    },
    {
     "data": {
      "text/html": [
       "<pre style=\"white-space:pre;overflow-x:auto;line-height:normal;font-family:Menlo,'DejaVu Sans Mono',consolas,'Courier New',monospace\"><span style=\"color: #008080; text-decoration-color: #008080; font-weight: bold\">33</span>. Penguins are the only bird that can jump.\n",
       "<span style=\"color: #008080; text-decoration-color: #008080; font-weight: bold\">34</span>. The shortest war in history was between Britain and Zanzibar on August <span style=\"color: #008080; text-decoration-color: #008080; font-weight: bold\">27</span>, <span style=\"color: #008080; text-decoration-color: #008080; font-weight: bold\">1896</span>. Zanzibar surrendered after <span style=\"color: #008080; text-decoration-color: #008080; font-weight: bold\">38</span> \n",
       "minutes.\n",
       "</pre>\n"
      ],
      "text/plain": [
       "\u001b[1;36m33\u001b[0m. Penguins are the only bird that can jump.\n",
       "\u001b[1;36m34\u001b[0m. The shortest war in history was between Britain and Zanzibar on August \u001b[1;36m27\u001b[0m, \u001b[1;36m1896\u001b[0m. Zanzibar surrendered after \u001b[1;36m38\u001b[0m \n",
       "minutes.\n"
      ]
     },
     "metadata": {},
     "output_type": "display_data"
    },
    {
     "data": {
      "text/html": [
       "<pre style=\"white-space:pre;overflow-x:auto;line-height:normal;font-family:Menlo,'DejaVu Sans Mono',consolas,'Courier New',monospace\"><span style=\"color: #008080; text-decoration-color: #008080; font-weight: bold\">35</span>. Dolphins sleep with one eye open.  \n",
       "<span style=\"color: #008080; text-decoration-color: #008080; font-weight: bold\">36</span>. There are <span style=\"color: #008080; text-decoration-color: #008080; font-weight: bold\">1</span>,<span style=\"color: #008080; text-decoration-color: #008080; font-weight: bold\">792</span> steps to the top of the Eiffel Tower.\n",
       "<span style=\"color: #008080; text-decoration-color: #008080; font-weight: bold\">37</span>. Tug-of-war was an Olympic event between <span style=\"color: #008080; text-decoration-color: #008080; font-weight: bold\">1900</span> and <span style=\"color: #008080; text-decoration-color: #008080; font-weight: bold\">1920</span>.\n",
       "</pre>\n"
      ],
      "text/plain": [
       "\u001b[1;36m35\u001b[0m. Dolphins sleep with one eye open.  \n",
       "\u001b[1;36m36\u001b[0m. There are \u001b[1;36m1\u001b[0m,\u001b[1;36m792\u001b[0m steps to the top of the Eiffel Tower.\n",
       "\u001b[1;36m37\u001b[0m. Tug-of-war was an Olympic event between \u001b[1;36m1900\u001b[0m and \u001b[1;36m1920\u001b[0m.\n"
      ]
     },
     "metadata": {},
     "output_type": "display_data"
    },
    {
     "data": {
      "text/html": [
       "<pre style=\"white-space:pre;overflow-x:auto;line-height:normal;font-family:Menlo,'DejaVu Sans Mono',consolas,'Courier New',monospace\"><span style=\"color: #008080; text-decoration-color: #008080; font-weight: bold\">38</span>. The Nile River is the longest river in the world, measuring about <span style=\"color: #008080; text-decoration-color: #008080; font-weight: bold\">4</span>,<span style=\"color: #008080; text-decoration-color: #008080; font-weight: bold\">135</span> miles.  \n",
       "<span style=\"color: #008080; text-decoration-color: #008080; font-weight: bold\">39</span>. Lightning strikes the Earth <span style=\"color: #008080; text-decoration-color: #008080; font-weight: bold\">100</span> times every second.\n",
       "</pre>\n"
      ],
      "text/plain": [
       "\u001b[1;36m38\u001b[0m. The Nile River is the longest river in the world, measuring about \u001b[1;36m4\u001b[0m,\u001b[1;36m135\u001b[0m miles.  \n",
       "\u001b[1;36m39\u001b[0m. Lightning strikes the Earth \u001b[1;36m100\u001b[0m times every second.\n"
      ]
     },
     "metadata": {},
     "output_type": "display_data"
    },
    {
     "data": {
      "text/html": [
       "<pre style=\"white-space:pre;overflow-x:auto;line-height:normal;font-family:Menlo,'DejaVu Sans Mono',consolas,'Courier New',monospace\"><span style=\"color: #008080; text-decoration-color: #008080; font-weight: bold\">40</span>. Charlie Chaplin once won third place in a Charlie Chaplin look-alike contest.\n",
       "<span style=\"color: #008080; text-decoration-color: #008080; font-weight: bold\">41</span>. Mount Everest is the tallest mountain in the world.\n",
       "<span style=\"color: #008080; text-decoration-color: #008080; font-weight: bold\">42</span>. No two zebras have the same pattern of stripes.\n",
       "</pre>\n"
      ],
      "text/plain": [
       "\u001b[1;36m40\u001b[0m. Charlie Chaplin once won third place in a Charlie Chaplin look-alike contest.\n",
       "\u001b[1;36m41\u001b[0m. Mount Everest is the tallest mountain in the world.\n",
       "\u001b[1;36m42\u001b[0m. No two zebras have the same pattern of stripes.\n"
      ]
     },
     "metadata": {},
     "output_type": "display_data"
    },
    {
     "data": {
      "text/html": [
       "<pre style=\"white-space:pre;overflow-x:auto;line-height:normal;font-family:Menlo,'DejaVu Sans Mono',consolas,'Courier New',monospace\"><span style=\"color: #008080; text-decoration-color: #008080; font-weight: bold\">43</span>. The Great Barrier Reef is the world's largest coral reef system.\n",
       "<span style=\"color: #008080; text-decoration-color: #008080; font-weight: bold\">44</span>. Albert Einstein’s brain was stolen after his death.\n",
       "</pre>\n"
      ],
      "text/plain": [
       "\u001b[1;36m43\u001b[0m. The Great Barrier Reef is the world's largest coral reef system.\n",
       "\u001b[1;36m44\u001b[0m. Albert Einstein’s brain was stolen after his death.\n"
      ]
     },
     "metadata": {},
     "output_type": "display_data"
    },
    {
     "data": {
      "text/html": [
       "<pre style=\"white-space:pre;overflow-x:auto;line-height:normal;font-family:Menlo,'DejaVu Sans Mono',consolas,'Courier New',monospace\"><span style=\"color: #008080; text-decoration-color: #008080; font-weight: bold\">45</span>. Martin Luther King Jr. delivered his famous <span style=\"color: #008000; text-decoration-color: #008000\">\"I Have A Dream\"</span> speech in <span style=\"color: #008080; text-decoration-color: #008080; font-weight: bold\">1963</span>.\n",
       "<span style=\"color: #008080; text-decoration-color: #008080; font-weight: bold\">46</span>. Antarctica is the least populated continent on Earth.\n",
       "<span style=\"color: #008080; text-decoration-color: #008080; font-weight: bold\">47</span>. Chocolate was once used as a currency.\n",
       "</pre>\n"
      ],
      "text/plain": [
       "\u001b[1;36m45\u001b[0m. Martin Luther King Jr. delivered his famous \u001b[32m\"I Have A Dream\"\u001b[0m speech in \u001b[1;36m1963\u001b[0m.\n",
       "\u001b[1;36m46\u001b[0m. Antarctica is the least populated continent on Earth.\n",
       "\u001b[1;36m47\u001b[0m. Chocolate was once used as a currency.\n"
      ]
     },
     "metadata": {},
     "output_type": "display_data"
    },
    {
     "data": {
      "text/html": [
       "<pre style=\"white-space:pre;overflow-x:auto;line-height:normal;font-family:Menlo,'DejaVu Sans Mono',consolas,'Courier New',monospace\"><span style=\"color: #008080; text-decoration-color: #008080; font-weight: bold\">48</span>. Corn is on every continent except Antarctica.\n",
       "<span style=\"color: #008080; text-decoration-color: #008080; font-weight: bold\">49</span>. Mount Kilimanjaro is the tallest free-standing mountain in the world <span style=\"font-weight: bold\">(</span>isn't part of a mountain range<span style=\"font-weight: bold\">)</span>.\n",
       "</pre>\n"
      ],
      "text/plain": [
       "\u001b[1;36m48\u001b[0m. Corn is on every continent except Antarctica.\n",
       "\u001b[1;36m49\u001b[0m. Mount Kilimanjaro is the tallest free-standing mountain in the world \u001b[1m(\u001b[0misn't part of a mountain range\u001b[1m)\u001b[0m.\n"
      ]
     },
     "metadata": {},
     "output_type": "display_data"
    },
    {
     "data": {
      "text/html": [
       "<pre style=\"white-space:pre;overflow-x:auto;line-height:normal;font-family:Menlo,'DejaVu Sans Mono',consolas,'Courier New',monospace\"><span style=\"color: #008080; text-decoration-color: #008080; font-weight: bold\">50</span>. Canada has more lakes than the rest of the world combined.\n",
       "<span style=\"color: #008080; text-decoration-color: #008080; font-weight: bold\">51</span>. <span style=\"color: #008080; text-decoration-color: #008080; font-weight: bold\">10</span>% of the world's population is left-handed.\n",
       "<span style=\"color: #008080; text-decoration-color: #008080; font-weight: bold\">52</span>. The Statue of Liberty was gifted to the U.S. by France.\n",
       "</pre>\n"
      ],
      "text/plain": [
       "\u001b[1;36m50\u001b[0m. Canada has more lakes than the rest of the world combined.\n",
       "\u001b[1;36m51\u001b[0m. \u001b[1;36m10\u001b[0m% of the world's population is left-handed.\n",
       "\u001b[1;36m52\u001b[0m. The Statue of Liberty was gifted to the U.S. by France.\n"
      ]
     },
     "metadata": {},
     "output_type": "display_data"
    },
    {
     "data": {
      "text/html": [
       "<pre style=\"white-space:pre;overflow-x:auto;line-height:normal;font-family:Menlo,'DejaVu Sans Mono',consolas,'Courier New',monospace\"><span style=\"color: #008080; text-decoration-color: #008080; font-weight: bold\">53</span>. The shortest war in history was between Britain and Zanzibar in <span style=\"color: #008080; text-decoration-color: #008080; font-weight: bold\">1896</span>, lasting <span style=\"color: #008080; text-decoration-color: #008080; font-weight: bold\">38</span> minutes.\n",
       "</pre>\n"
      ],
      "text/plain": [
       "\u001b[1;36m53\u001b[0m. The shortest war in history was between Britain and Zanzibar in \u001b[1;36m1896\u001b[0m, lasting \u001b[1;36m38\u001b[0m minutes.\n"
      ]
     },
     "metadata": {},
     "output_type": "display_data"
    },
    {
     "data": {
      "text/html": [
       "<pre style=\"white-space:pre;overflow-x:auto;line-height:normal;font-family:Menlo,'DejaVu Sans Mono',consolas,'Courier New',monospace\"><span style=\"color: #008080; text-decoration-color: #008080; font-weight: bold\">54</span>. The kangaroo and the emu are featured on the Australian coat of arms because neither animal can move backward, \n",
       "indicating progress.\n",
       "</pre>\n"
      ],
      "text/plain": [
       "\u001b[1;36m54\u001b[0m. The kangaroo and the emu are featured on the Australian coat of arms because neither animal can move backward, \n",
       "indicating progress.\n"
      ]
     },
     "metadata": {},
     "output_type": "display_data"
    },
    {
     "data": {
      "text/html": [
       "<pre style=\"white-space:pre;overflow-x:auto;line-height:normal;font-family:Menlo,'DejaVu Sans Mono',consolas,'Courier New',monospace\"><span style=\"color: #008080; text-decoration-color: #008080; font-weight: bold\">55</span>. The bull shark, the hippopotamus, and the crocodile are the three animals responsible for the most human deaths\n",
       "in Africa.\n",
       "</pre>\n"
      ],
      "text/plain": [
       "\u001b[1;36m55\u001b[0m. The bull shark, the hippopotamus, and the crocodile are the three animals responsible for the most human deaths\n",
       "in Africa.\n"
      ]
     },
     "metadata": {},
     "output_type": "display_data"
    },
    {
     "data": {
      "text/html": [
       "<pre style=\"white-space:pre;overflow-x:auto;line-height:normal;font-family:Menlo,'DejaVu Sans Mono',consolas,'Courier New',monospace\"><span style=\"color: #008080; text-decoration-color: #008080; font-weight: bold\">56</span>. An apple, onion, and potato all have the same taste. The differences in flavor are caused by their smell.\n",
       "<span style=\"color: #008080; text-decoration-color: #008080; font-weight: bold\">57</span>. Ancient Egyptians used a form of toothpaste over <span style=\"color: #008080; text-decoration-color: #008080; font-weight: bold\">5000</span> years ago.\n",
       "</pre>\n"
      ],
      "text/plain": [
       "\u001b[1;36m56\u001b[0m. An apple, onion, and potato all have the same taste. The differences in flavor are caused by their smell.\n",
       "\u001b[1;36m57\u001b[0m. Ancient Egyptians used a form of toothpaste over \u001b[1;36m5000\u001b[0m years ago.\n"
      ]
     },
     "metadata": {},
     "output_type": "display_data"
    },
    {
     "data": {
      "text/html": [
       "<pre style=\"white-space:pre;overflow-x:auto;line-height:normal;font-family:Menlo,'DejaVu Sans Mono',consolas,'Courier New',monospace\"><span style=\"color: #008080; text-decoration-color: #008080; font-weight: bold\">58</span>. A day on Venus is longer than its year.\n",
       "<span style=\"color: #008080; text-decoration-color: #008080; font-weight: bold\">59</span>. By area, Russia is the largest country in the world.\n",
       "</pre>\n"
      ],
      "text/plain": [
       "\u001b[1;36m58\u001b[0m. A day on Venus is longer than its year.\n",
       "\u001b[1;36m59\u001b[0m. By area, Russia is the largest country in the world.\n"
      ]
     },
     "metadata": {},
     "output_type": "display_data"
    },
    {
     "data": {
      "text/html": [
       "<pre style=\"white-space:pre;overflow-x:auto;line-height:normal;font-family:Menlo,'DejaVu Sans Mono',consolas,'Courier New',monospace\"><span style=\"color: #008080; text-decoration-color: #008080; font-weight: bold\">60</span>. The five interlocking Olympic rings are black, blue, red, white, and yellow because at least one of these \n",
       "colors appears on every national flag.\n",
       "</pre>\n"
      ],
      "text/plain": [
       "\u001b[1;36m60\u001b[0m. The five interlocking Olympic rings are black, blue, red, white, and yellow because at least one of these \n",
       "colors appears on every national flag.\n"
      ]
     },
     "metadata": {},
     "output_type": "display_data"
    },
    {
     "data": {
      "text/html": [
       "<pre style=\"white-space:pre;overflow-x:auto;line-height:normal;font-family:Menlo,'DejaVu Sans Mono',consolas,'Courier New',monospace\"><span style=\"color: #008080; text-decoration-color: #008080; font-weight: bold\">61</span>. The first FIFA World Cup took place in Uruguay in <span style=\"color: #008080; text-decoration-color: #008080; font-weight: bold\">1930</span>.\n",
       "<span style=\"color: #008080; text-decoration-color: #008080; font-weight: bold\">62</span>. The Rubik's cube was patented by Hungarian inventor Ernő Rubik.\n",
       "<span style=\"color: #008080; text-decoration-color: #008080; font-weight: bold\">63</span>. Karaoke means <span style=\"color: #008000; text-decoration-color: #008000\">\"empty orchestra\"</span> in Japanese.\n",
       "</pre>\n"
      ],
      "text/plain": [
       "\u001b[1;36m61\u001b[0m. The first FIFA World Cup took place in Uruguay in \u001b[1;36m1930\u001b[0m.\n",
       "\u001b[1;36m62\u001b[0m. The Rubik's cube was patented by Hungarian inventor Ernő Rubik.\n",
       "\u001b[1;36m63\u001b[0m. Karaoke means \u001b[32m\"empty orchestra\"\u001b[0m in Japanese.\n"
      ]
     },
     "metadata": {},
     "output_type": "display_data"
    },
    {
     "data": {
      "text/html": [
       "<pre style=\"white-space:pre;overflow-x:auto;line-height:normal;font-family:Menlo,'DejaVu Sans Mono',consolas,'Courier New',monospace\"><span style=\"color: #008080; text-decoration-color: #008080; font-weight: bold\">64</span>. The first email ever sent was by Ray Tomlinson in <span style=\"color: #008080; text-decoration-color: #008080; font-weight: bold\">1971</span>.\n",
       "<span style=\"color: #008080; text-decoration-color: #008080; font-weight: bold\">65</span>. The Golden Gate Bridge in San Francisco was initially painted orange to enhance its visibility in fog.\n",
       "</pre>\n"
      ],
      "text/plain": [
       "\u001b[1;36m64\u001b[0m. The first email ever sent was by Ray Tomlinson in \u001b[1;36m1971\u001b[0m.\n",
       "\u001b[1;36m65\u001b[0m. The Golden Gate Bridge in San Francisco was initially painted orange to enhance its visibility in fog.\n"
      ]
     },
     "metadata": {},
     "output_type": "display_data"
    },
    {
     "data": {
      "text/html": [
       "<pre style=\"white-space:pre;overflow-x:auto;line-height:normal;font-family:Menlo,'DejaVu Sans Mono',consolas,'Courier New',monospace\"><span style=\"color: #008080; text-decoration-color: #008080; font-weight: bold\">66</span>. Earth's rotation is slowing at a rate of approximately <span style=\"color: #008080; text-decoration-color: #008080; font-weight: bold\">17</span> milliseconds per <span style=\"color: #008080; text-decoration-color: #008080; font-weight: bold\">100</span> years.\n",
       "<span style=\"color: #008080; text-decoration-color: #008080; font-weight: bold\">67</span>. Niagara Falls can fill up to <span style=\"color: #008080; text-decoration-color: #008080; font-weight: bold\">4</span>,<span style=\"color: #008080; text-decoration-color: #008080; font-weight: bold\">000</span> bathtubs every second.\n",
       "</pre>\n"
      ],
      "text/plain": [
       "\u001b[1;36m66\u001b[0m. Earth's rotation is slowing at a rate of approximately \u001b[1;36m17\u001b[0m milliseconds per \u001b[1;36m100\u001b[0m years.\n",
       "\u001b[1;36m67\u001b[0m. Niagara Falls can fill up to \u001b[1;36m4\u001b[0m,\u001b[1;36m000\u001b[0m bathtubs every second.\n"
      ]
     },
     "metadata": {},
     "output_type": "display_data"
    },
    {
     "data": {
      "text/html": [
       "<pre style=\"white-space:pre;overflow-x:auto;line-height:normal;font-family:Menlo,'DejaVu Sans Mono',consolas,'Courier New',monospace\"><span style=\"color: #008080; text-decoration-color: #008080; font-weight: bold\">68</span>. Warm water freezes faster than cold water due to the Mpemba effect.\n",
       "<span style=\"color: #008080; text-decoration-color: #008080; font-weight: bold\">69</span>. The human body has six times more fat cells than human beings have.\n",
       "<span style=\"color: #008080; text-decoration-color: #008080; font-weight: bold\">70</span>. <span style=\"color: #008080; text-decoration-color: #008080; font-weight: bold\">99</span>% of the Earth's gold is located in its core.\n",
       "</pre>\n"
      ],
      "text/plain": [
       "\u001b[1;36m68\u001b[0m. Warm water freezes faster than cold water due to the Mpemba effect.\n",
       "\u001b[1;36m69\u001b[0m. The human body has six times more fat cells than human beings have.\n",
       "\u001b[1;36m70\u001b[0m. \u001b[1;36m99\u001b[0m% of the Earth's gold is located in its core.\n"
      ]
     },
     "metadata": {},
     "output_type": "display_data"
    },
    {
     "data": {
      "text/html": [
       "<pre style=\"white-space:pre;overflow-x:auto;line-height:normal;font-family:Menlo,'DejaVu Sans Mono',consolas,'Courier New',monospace\"><span style=\"color: #008080; text-decoration-color: #008080; font-weight: bold\">71</span>. The Earth's atmosphere is composed of <span style=\"color: #008080; text-decoration-color: #008080; font-weight: bold\">78</span>% nitrogen, <span style=\"color: #008080; text-decoration-color: #008080; font-weight: bold\">21</span>% oxygen, and traces of other gases.\n",
       "<span style=\"color: #008080; text-decoration-color: #008080; font-weight: bold\">72</span>. Chocolate was once used as a currency by the Aztecs.\n",
       "</pre>\n"
      ],
      "text/plain": [
       "\u001b[1;36m71\u001b[0m. The Earth's atmosphere is composed of \u001b[1;36m78\u001b[0m% nitrogen, \u001b[1;36m21\u001b[0m% oxygen, and traces of other gases.\n",
       "\u001b[1;36m72\u001b[0m. Chocolate was once used as a currency by the Aztecs.\n"
      ]
     },
     "metadata": {},
     "output_type": "display_data"
    },
    {
     "data": {
      "text/html": [
       "<pre style=\"white-space:pre;overflow-x:auto;line-height:normal;font-family:Menlo,'DejaVu Sans Mono',consolas,'Courier New',monospace\"><span style=\"color: #008080; text-decoration-color: #008080; font-weight: bold\">73</span>. There are more tigers privately owned in Texas than in the wild worldwide.\n",
       "</pre>\n"
      ],
      "text/plain": [
       "\u001b[1;36m73\u001b[0m. There are more tigers privately owned in Texas than in the wild worldwide.\n"
      ]
     },
     "metadata": {},
     "output_type": "display_data"
    },
    {
     "data": {
      "text/html": [
       "<pre style=\"white-space:pre;overflow-x:auto;line-height:normal;font-family:Menlo,'DejaVu Sans Mono',consolas,'Courier New',monospace\"><span style=\"color: #008080; text-decoration-color: #008080; font-weight: bold\">74</span>. Telephone inventor Alexander Graham Bell suggested <span style=\"color: #008000; text-decoration-color: #008000\">'Ahoy'</span> as the standard telephone greeting, but it was \n",
       "superseded by Thomas Edison's <span style=\"color: #008000; text-decoration-color: #008000\">'Hello.'</span>\n",
       "</pre>\n"
      ],
      "text/plain": [
       "\u001b[1;36m74\u001b[0m. Telephone inventor Alexander Graham Bell suggested \u001b[32m'Ahoy'\u001b[0m as the standard telephone greeting, but it was \n",
       "superseded by Thomas Edison's \u001b[32m'Hello.'\u001b[0m\n"
      ]
     },
     "metadata": {},
     "output_type": "display_data"
    },
    {
     "data": {
      "text/html": [
       "<pre style=\"white-space:pre;overflow-x:auto;line-height:normal;font-family:Menlo,'DejaVu Sans Mono',consolas,'Courier New',monospace\"><span style=\"color: #008080; text-decoration-color: #008080; font-weight: bold\">75</span>. The rotations of Venus and Uranus are in the opposite direction from their orbits – a unique phenomenon known \n",
       "as retrograde rotation.\n",
       "</pre>\n"
      ],
      "text/plain": [
       "\u001b[1;36m75\u001b[0m. The rotations of Venus and Uranus are in the opposite direction from their orbits – a unique phenomenon known \n",
       "as retrograde rotation.\n"
      ]
     },
     "metadata": {},
     "output_type": "display_data"
    },
    {
     "data": {
      "text/html": [
       "<pre style=\"white-space:pre;overflow-x:auto;line-height:normal;font-family:Menlo,'DejaVu Sans Mono',consolas,'Courier New',monospace\"><span style=\"color: #008080; text-decoration-color: #008080; font-weight: bold\">76</span>. The word <span style=\"color: #008000; text-decoration-color: #008000\">\"OK\"</span> stands for <span style=\"color: #008000; text-decoration-color: #008000\">\"oll korrect,\"</span> a deliberate misspelling of <span style=\"color: #008000; text-decoration-color: #008000\">\"all correct.\"</span>\n",
       "<span style=\"color: #008080; text-decoration-color: #008080; font-weight: bold\">77</span>. The only letter that doesn’t appear on the Periodic Table is J.\n",
       "<span style=\"color: #008080; text-decoration-color: #008080; font-weight: bold\">78</span>. Sheep don’t drink from running water.\n",
       "</pre>\n"
      ],
      "text/plain": [
       "\u001b[1;36m76\u001b[0m. The word \u001b[32m\"OK\"\u001b[0m stands for \u001b[32m\"oll korrect,\"\u001b[0m a deliberate misspelling of \u001b[32m\"all correct.\"\u001b[0m\n",
       "\u001b[1;36m77\u001b[0m. The only letter that doesn’t appear on the Periodic Table is J.\n",
       "\u001b[1;36m78\u001b[0m. Sheep don’t drink from running water.\n"
      ]
     },
     "metadata": {},
     "output_type": "display_data"
    },
    {
     "data": {
      "text/html": [
       "<pre style=\"white-space:pre;overflow-x:auto;line-height:normal;font-family:Menlo,'DejaVu Sans Mono',consolas,'Courier New',monospace\"><span style=\"color: #008080; text-decoration-color: #008080; font-weight: bold\">79</span>. AB blood type is the rarest, making up less than <span style=\"color: #008080; text-decoration-color: #008080; font-weight: bold\">1</span>% of the population worldwide.\n",
       "<span style=\"color: #008080; text-decoration-color: #008080; font-weight: bold\">80</span>. Your heart beats around <span style=\"color: #008080; text-decoration-color: #008080; font-weight: bold\">100</span>,<span style=\"color: #008080; text-decoration-color: #008080; font-weight: bold\">000</span> times a day.\n",
       "</pre>\n"
      ],
      "text/plain": [
       "\u001b[1;36m79\u001b[0m. AB blood type is the rarest, making up less than \u001b[1;36m1\u001b[0m% of the population worldwide.\n",
       "\u001b[1;36m80\u001b[0m. Your heart beats around \u001b[1;36m100\u001b[0m,\u001b[1;36m000\u001b[0m times a day.\n"
      ]
     },
     "metadata": {},
     "output_type": "display_data"
    },
    {
     "data": {
      "text/html": [
       "<pre style=\"white-space:pre;overflow-x:auto;line-height:normal;font-family:Menlo,'DejaVu Sans Mono',consolas,'Courier New',monospace\"><span style=\"color: #008080; text-decoration-color: #008080; font-weight: bold\">81</span>. The male seahorse carries the eggs until they hatch instead of the female.\n",
       "<span style=\"color: #008080; text-decoration-color: #008080; font-weight: bold\">82</span>. St. Lucia is the only country in the world named after a woman.\n",
       "</pre>\n"
      ],
      "text/plain": [
       "\u001b[1;36m81\u001b[0m. The male seahorse carries the eggs until they hatch instead of the female.\n",
       "\u001b[1;36m82\u001b[0m. St. Lucia is the only country in the world named after a woman.\n"
      ]
     },
     "metadata": {},
     "output_type": "display_data"
    },
    {
     "data": {
      "text/html": [
       "<pre style=\"white-space:pre;overflow-x:auto;line-height:normal;font-family:Menlo,'DejaVu Sans Mono',consolas,'Courier New',monospace\"><span style=\"color: #008080; text-decoration-color: #008080; font-weight: bold\">83</span>. The Olympic flag's colors are always red, black, blue, green, and yellow rings on a field of white.\n",
       "</pre>\n"
      ],
      "text/plain": [
       "\u001b[1;36m83\u001b[0m. The Olympic flag's colors are always red, black, blue, green, and yellow rings on a field of white.\n"
      ]
     },
     "metadata": {},
     "output_type": "display_data"
    },
    {
     "data": {
      "text/html": [
       "<pre style=\"white-space:pre;overflow-x:auto;line-height:normal;font-family:Menlo,'DejaVu Sans Mono',consolas,'Courier New',monospace\"><span style=\"color: #008080; text-decoration-color: #008080; font-weight: bold\">84</span>. Hedonic treadmill is a tendency of people to return to a set level of happiness despite life’s ups and downs.\n",
       "<span style=\"color: #008080; text-decoration-color: #008080; font-weight: bold\">85</span>. Approximately two-thirds of people tip their head to the right when they kiss.\n",
       "</pre>\n"
      ],
      "text/plain": [
       "\u001b[1;36m84\u001b[0m. Hedonic treadmill is a tendency of people to return to a set level of happiness despite life’s ups and downs.\n",
       "\u001b[1;36m85\u001b[0m. Approximately two-thirds of people tip their head to the right when they kiss.\n"
      ]
     },
     "metadata": {},
     "output_type": "display_data"
    },
    {
     "data": {
      "text/html": [
       "<pre style=\"white-space:pre;overflow-x:auto;line-height:normal;font-family:Menlo,'DejaVu Sans Mono',consolas,'Courier New',monospace\"><span style=\"color: #008080; text-decoration-color: #008080; font-weight: bold\">86</span>. Broccoli and cauliflower are the only vegetables that are flowers.\n",
       "<span style=\"color: #008080; text-decoration-color: #008080; font-weight: bold\">87</span>. The dot over an <span style=\"color: #008000; text-decoration-color: #008000\">'i'</span> or <span style=\"color: #008000; text-decoration-color: #008000\">'j'</span> is called a tittle.\n",
       "<span style=\"color: #008080; text-decoration-color: #008080; font-weight: bold\">88</span>. A group of owls is called a parliament.\n",
       "</pre>\n"
      ],
      "text/plain": [
       "\u001b[1;36m86\u001b[0m. Broccoli and cauliflower are the only vegetables that are flowers.\n",
       "\u001b[1;36m87\u001b[0m. The dot over an \u001b[32m'i'\u001b[0m or \u001b[32m'j'\u001b[0m is called a tittle.\n",
       "\u001b[1;36m88\u001b[0m. A group of owls is called a parliament.\n"
      ]
     },
     "metadata": {},
     "output_type": "display_data"
    },
    {
     "data": {
      "text/html": [
       "<pre style=\"white-space:pre;overflow-x:auto;line-height:normal;font-family:Menlo,'DejaVu Sans Mono',consolas,'Courier New',monospace\"><span style=\"color: #008080; text-decoration-color: #008080; font-weight: bold\">89</span>. The first TV commercial aired on July <span style=\"color: #008080; text-decoration-color: #008080; font-weight: bold\">1</span>, <span style=\"color: #008080; text-decoration-color: #008080; font-weight: bold\">1941</span>, for the Bulova Watch Company.\n",
       "<span style=\"color: #008080; text-decoration-color: #008080; font-weight: bold\">90</span>. The modern Italian language originated from the region of Tuscany.\n",
       "</pre>\n"
      ],
      "text/plain": [
       "\u001b[1;36m89\u001b[0m. The first TV commercial aired on July \u001b[1;36m1\u001b[0m, \u001b[1;36m1941\u001b[0m, for the Bulova Watch Company.\n",
       "\u001b[1;36m90\u001b[0m. The modern Italian language originated from the region of Tuscany.\n"
      ]
     },
     "metadata": {},
     "output_type": "display_data"
    },
    {
     "data": {
      "text/html": [
       "<pre style=\"white-space:pre;overflow-x:auto;line-height:normal;font-family:Menlo,'DejaVu Sans Mono',consolas,'Courier New',monospace\"><span style=\"color: #008080; text-decoration-color: #008080; font-weight: bold\">91</span>. There are more moves possible in a game of chess than there are atoms in the universe.\n",
       "<span style=\"color: #008080; text-decoration-color: #008080; font-weight: bold\">92</span>. An anaconda snake can stretch to a width equal to a human adult.\n",
       "</pre>\n"
      ],
      "text/plain": [
       "\u001b[1;36m91\u001b[0m. There are more moves possible in a game of chess than there are atoms in the universe.\n",
       "\u001b[1;36m92\u001b[0m. An anaconda snake can stretch to a width equal to a human adult.\n"
      ]
     },
     "metadata": {},
     "output_type": "display_data"
    },
    {
     "data": {
      "text/html": [
       "<pre style=\"white-space:pre;overflow-x:auto;line-height:normal;font-family:Menlo,'DejaVu Sans Mono',consolas,'Courier New',monospace\"><span style=\"color: #008080; text-decoration-color: #008080; font-weight: bold\">93</span>. Hot water will turn into ice faster than cold water under the right conditions.\n",
       "<span style=\"color: #008080; text-decoration-color: #008080; font-weight: bold\">94</span>. Crying helps your body release toxins.\n",
       "<span style=\"color: #008080; text-decoration-color: #008080; font-weight: bold\">95</span>. Wombat feces is shaped like a cube.\n",
       "</pre>\n"
      ],
      "text/plain": [
       "\u001b[1;36m93\u001b[0m. Hot water will turn into ice faster than cold water under the right conditions.\n",
       "\u001b[1;36m94\u001b[0m. Crying helps your body release toxins.\n",
       "\u001b[1;36m95\u001b[0m. Wombat feces is shaped like a cube.\n"
      ]
     },
     "metadata": {},
     "output_type": "display_data"
    },
    {
     "data": {
      "text/html": [
       "<pre style=\"white-space:pre;overflow-x:auto;line-height:normal;font-family:Menlo,'DejaVu Sans Mono',consolas,'Courier New',monospace\"><span style=\"color: #008080; text-decoration-color: #008080; font-weight: bold\">96</span>. Some animals have blue, green, or violet blood.\n",
       "<span style=\"color: #008080; text-decoration-color: #008080; font-weight: bold\">97</span>. A strawberry isn't a berry but a banana is.\n",
       "<span style=\"color: #008080; text-decoration-color: #008080; font-weight: bold\">98</span>. A Swiss passport is the world's most accepted passport.\n",
       "</pre>\n"
      ],
      "text/plain": [
       "\u001b[1;36m96\u001b[0m. Some animals have blue, green, or violet blood.\n",
       "\u001b[1;36m97\u001b[0m. A strawberry isn't a berry but a banana is.\n",
       "\u001b[1;36m98\u001b[0m. A Swiss passport is the world's most accepted passport.\n"
      ]
     },
     "metadata": {},
     "output_type": "display_data"
    },
    {
     "data": {
      "text/html": [
       "<pre style=\"white-space:pre;overflow-x:auto;line-height:normal;font-family:Menlo,'DejaVu Sans Mono',consolas,'Courier New',monospace\"><span style=\"color: #008080; text-decoration-color: #008080; font-weight: bold\">99</span>. William Taft, the 27th U.S. president, got stuck in his White House bathtub.\n",
       "<span style=\"color: #008080; text-decoration-color: #008080; font-weight: bold\">100</span>. Russia and America are less than <span style=\"color: #008080; text-decoration-color: #008080; font-weight: bold\">4</span> km apart at the nearest point.\n",
       "</pre>\n"
      ],
      "text/plain": [
       "\u001b[1;36m99\u001b[0m. William Taft, the 27th U.S. president, got stuck in his White House bathtub.\n",
       "\u001b[1;36m100\u001b[0m. Russia and America are less than \u001b[1;36m4\u001b[0m km apart at the nearest point.\n"
      ]
     },
     "metadata": {},
     "output_type": "display_data"
    },
    {
     "data": {
      "text/html": [
       "<pre style=\"white-space:pre;overflow-x:auto;line-height:normal;font-family:Menlo,'DejaVu Sans Mono',consolas,'Courier New',monospace\"><span style=\"color: #008080; text-decoration-color: #008080; font-weight: bold\">101</span>. Avocado has more protein than any other fruit.\n",
       "<span style=\"color: #008080; text-decoration-color: #008080; font-weight: bold\">102</span>. Ostriches can run faster than horses.\n",
       "<span style=\"color: #008080; text-decoration-color: #008080; font-weight: bold\">103</span>. The Golden Poison Dart Frog’s skin has enough toxins to kill <span style=\"color: #008080; text-decoration-color: #008080; font-weight: bold\">100</span> people.\n",
       "</pre>\n"
      ],
      "text/plain": [
       "\u001b[1;36m101\u001b[0m. Avocado has more protein than any other fruit.\n",
       "\u001b[1;36m102\u001b[0m. Ostriches can run faster than horses.\n",
       "\u001b[1;36m103\u001b[0m. The Golden Poison Dart Frog’s skin has enough toxins to kill \u001b[1;36m100\u001b[0m people.\n"
      ]
     },
     "metadata": {},
     "output_type": "display_data"
    },
    {
     "data": {
      "text/html": [
       "<pre style=\"white-space:pre;overflow-x:auto;line-height:normal;font-family:Menlo,'DejaVu Sans Mono',consolas,'Courier New',monospace\"><span style=\"color: #008080; text-decoration-color: #008080; font-weight: bold\">104</span>. There are more living beings in a teaspoonful of soil than there are people on earth.\n",
       "</pre>\n"
      ],
      "text/plain": [
       "\u001b[1;36m104\u001b[0m. There are more living beings in a teaspoonful of soil than there are people on earth.\n"
      ]
     },
     "metadata": {},
     "output_type": "display_data"
    },
    {
     "data": {
      "text/html": [
       "<pre style=\"white-space:pre;overflow-x:auto;line-height:normal;font-family:Menlo,'DejaVu Sans Mono',consolas,'Courier New',monospace\"><span style=\"color: #008080; text-decoration-color: #008080; font-weight: bold\">105</span>. Scorpions can survive in extreme temperatures ranging from below freezing <span style=\"font-weight: bold\">(</span><span style=\"color: #008080; text-decoration-color: #008080; font-weight: bold\">-31</span>°F<span style=\"font-weight: bold\">)</span> to well over boiling \n",
       "<span style=\"font-weight: bold\">(</span><span style=\"color: #008080; text-decoration-color: #008080; font-weight: bold\">122</span>°F<span style=\"font-weight: bold\">)</span>.\n",
       "<span style=\"color: #008080; text-decoration-color: #008080; font-weight: bold\">106</span>. The majority of a panda's diet consists of bamboo.\n",
       "</pre>\n"
      ],
      "text/plain": [
       "\u001b[1;36m105\u001b[0m. Scorpions can survive in extreme temperatures ranging from below freezing \u001b[1m(\u001b[0m\u001b[1;36m-31\u001b[0m°F\u001b[1m)\u001b[0m to well over boiling \n",
       "\u001b[1m(\u001b[0m\u001b[1;36m122\u001b[0m°F\u001b[1m)\u001b[0m.\n",
       "\u001b[1;36m106\u001b[0m. The majority of a panda's diet consists of bamboo.\n"
      ]
     },
     "metadata": {},
     "output_type": "display_data"
    },
    {
     "data": {
      "text/html": [
       "<pre style=\"white-space:pre;overflow-x:auto;line-height:normal;font-family:Menlo,'DejaVu Sans Mono',consolas,'Courier New',monospace\"><span style=\"color: #008080; text-decoration-color: #008080; font-weight: bold\">107</span>. Sharks predate dinosaurs.\n",
       "<span style=\"color: #008080; text-decoration-color: #008080; font-weight: bold\">108</span>. Bat droppings in caves support whole ecosystems of unique organisms, including bacteria useful in detoxifying \n",
       "wastes.\n",
       "</pre>\n"
      ],
      "text/plain": [
       "\u001b[1;36m107\u001b[0m. Sharks predate dinosaurs.\n",
       "\u001b[1;36m108\u001b[0m. Bat droppings in caves support whole ecosystems of unique organisms, including bacteria useful in detoxifying \n",
       "wastes.\n"
      ]
     },
     "metadata": {},
     "output_type": "display_data"
    },
    {
     "data": {
      "text/html": [
       "<pre style=\"white-space:pre;overflow-x:auto;line-height:normal;font-family:Menlo,'DejaVu Sans Mono',consolas,'Courier New',monospace\"><span style=\"color: #008080; text-decoration-color: #008080; font-weight: bold\">109</span>. Instead of bones, sharks have a skeleton made from cartilage.\n",
       "<span style=\"color: #008080; text-decoration-color: #008080; font-weight: bold\">110</span>. On Mars, sunsets are blue.\n",
       "<span style=\"color: #008080; text-decoration-color: #008080; font-weight: bold\">111</span>. The largest volcano in the solar system, Olympus Mons, is on Mars.\n",
       "</pre>\n"
      ],
      "text/plain": [
       "\u001b[1;36m109\u001b[0m. Instead of bones, sharks have a skeleton made from cartilage.\n",
       "\u001b[1;36m110\u001b[0m. On Mars, sunsets are blue.\n",
       "\u001b[1;36m111\u001b[0m. The largest volcano in the solar system, Olympus Mons, is on Mars.\n"
      ]
     },
     "metadata": {},
     "output_type": "display_data"
    },
    {
     "data": {
      "text/html": [
       "<pre style=\"white-space:pre;overflow-x:auto;line-height:normal;font-family:Menlo,'DejaVu Sans Mono',consolas,'Courier New',monospace\"><span style=\"color: #008080; text-decoration-color: #008080; font-weight: bold\">112</span>. Saturn's density is low enough that the planet would float in water.\n",
       "<span style=\"color: #008080; text-decoration-color: #008080; font-weight: bold\">113</span>. Starfish can regenerate their own arms.\n",
       "<span style=\"color: #008080; text-decoration-color: #008080; font-weight: bold\">114</span>. French Fries originated in Belgium.\n",
       "</pre>\n"
      ],
      "text/plain": [
       "\u001b[1;36m112\u001b[0m. Saturn's density is low enough that the planet would float in water.\n",
       "\u001b[1;36m113\u001b[0m. Starfish can regenerate their own arms.\n",
       "\u001b[1;36m114\u001b[0m. French Fries originated in Belgium.\n"
      ]
     },
     "metadata": {},
     "output_type": "display_data"
    },
    {
     "data": {
      "text/html": [
       "<pre style=\"white-space:pre;overflow-x:auto;line-height:normal;font-family:Menlo,'DejaVu Sans Mono',consolas,'Courier New',monospace\"><span style=\"color: #008080; text-decoration-color: #008080; font-weight: bold\">115</span>. Cell phones have <span style=\"color: #008080; text-decoration-color: #008080; font-weight: bold\">18</span> times more bacteria than toilet handles.\n",
       "<span style=\"color: #008080; text-decoration-color: #008080; font-weight: bold\">116</span>. Venus is the hottest planet in the solar system.\n",
       "<span style=\"color: #008080; text-decoration-color: #008080; font-weight: bold\">117</span>. The Moon is drifting away from Earth every year.\n",
       "</pre>\n"
      ],
      "text/plain": [
       "\u001b[1;36m115\u001b[0m. Cell phones have \u001b[1;36m18\u001b[0m times more bacteria than toilet handles.\n",
       "\u001b[1;36m116\u001b[0m. Venus is the hottest planet in the solar system.\n",
       "\u001b[1;36m117\u001b[0m. The Moon is drifting away from Earth every year.\n"
      ]
     },
     "metadata": {},
     "output_type": "display_data"
    },
    {
     "data": {
      "text/html": [
       "<pre style=\"white-space:pre;overflow-x:auto;line-height:normal;font-family:Menlo,'DejaVu Sans Mono',consolas,'Courier New',monospace\"><span style=\"color: #008080; text-decoration-color: #008080; font-weight: bold\">118</span>. The original Star-Spangled Banner was sewn in Baltimore.\n",
       "<span style=\"color: #008080; text-decoration-color: #008080; font-weight: bold\">119</span>. The average adult spends more time on the toilet than they do exercising.\n",
       "</pre>\n"
      ],
      "text/plain": [
       "\u001b[1;36m118\u001b[0m. The original Star-Spangled Banner was sewn in Baltimore.\n",
       "\u001b[1;36m119\u001b[0m. The average adult spends more time on the toilet than they do exercising.\n"
      ]
     },
     "metadata": {},
     "output_type": "display_data"
    },
    {
     "data": {
      "text/html": [
       "<pre style=\"white-space:pre;overflow-x:auto;line-height:normal;font-family:Menlo,'DejaVu Sans Mono',consolas,'Courier New',monospace\"><span style=\"color: #008080; text-decoration-color: #008080; font-weight: bold\">120</span>. The world's quietest room is <span style=\"color: #008080; text-decoration-color: #008080; font-weight: bold\">-9</span> decibels -- so quiet you can hear your blood flowing.\n",
       "</pre>\n"
      ],
      "text/plain": [
       "\u001b[1;36m120\u001b[0m. The world's quietest room is \u001b[1;36m-9\u001b[0m decibels -- so quiet you can hear your blood flowing.\n"
      ]
     },
     "metadata": {},
     "output_type": "display_data"
    }
   ],
   "source": [
    "CHUNK_SIZE: int = 200\n",
    "CHUNK_OVERlAP: int = 0\n",
    "\n",
    "# Used to chunk the texts\n",
    "text_splitter = CharacterTextSplitter(\n",
    "    chunk_size=CHUNK_SIZE,  # 1. dets the rel. number of chars per chunk\n",
    "    separator=\"\\n\",  # 2. each hunk is separated by this!\n",
    "    chunk_overlap=CHUNK_OVERlAP,\n",
    ")\n",
    "\n",
    "# Load and split\n",
    "docs: list[Any] = loader.load_and_split(text_splitter=text_splitter)\n",
    "\n",
    "for d in docs:\n",
    "    print(d.page_content)"
   ]
  },
  {
   "cell_type": "markdown",
   "metadata": {},
   "source": [
    "### Embeddings\n",
    "\n",
    "- In the field of Natural Language Processing (NLP), embeddings are a powerful technique for representing words, phrases, or sentences as dense numerical vectors. \n",
    "- These vectors capture semantic and syntactic relationships between words, allowing machines to process and understand text in a more meaningful way.\n",
    "\n",
    "[![image.png](https://i.postimg.cc/02BkcpJk/image.png)](https://postimg.cc/ppKMd5Z4)\n"
   ]
  },
  {
   "cell_type": "code",
   "execution_count": 25,
   "metadata": {},
   "outputs": [],
   "source": [
    "from langchain.embeddings import OpenAIEmbeddings"
   ]
  },
  {
   "cell_type": "code",
   "execution_count": 26,
   "metadata": {},
   "outputs": [
    {
     "data": {
      "text/plain": [
       "[0.012109475210309029,\n",
       " -0.004843165632337332,\n",
       " 0.012602847069501877,\n",
       " -0.04598977416753769,\n",
       " -0.029252594336867332,\n",
       " 0.017324231564998627,\n",
       " -0.018560783937573433,\n",
       " -0.0182610135525465,\n",
       " -0.013439706526696682,\n",
       " -0.02647971920669079,\n",
       " 0.02097143791615963,\n",
       " 0.0024481250438839197,\n",
       " 0.013577100820839405,\n",
       " 0.0008399816579185426,\n",
       " -0.01267778966575861,\n",
       " -0.0029009031131863594,\n",
       " 0.06260205060243607,\n",
       " -0.013164917007088661,\n",
       " 0.00835609994828701,\n",
       " 0.016237562522292137,\n",
       " -0.019435115158557892,\n",
       " -0.005617572460323572,\n",
       " -0.018573274835944176,\n",
       " -0.01779886707663536,\n",
       " -0.00858717318624258,\n",
       " 0.0020905863493680954,\n",
       " -0.005258472636342049,\n",
       " -0.030351752415299416,\n",
       " 0.018910516053438187,\n",
       " -0.015075952745974064,\n",
       " 0.011191428638994694,\n",
       " 0.004546517971903086,\n",
       " -0.015100933611392975,\n",
       " 0.003890770021826029,\n",
       " -0.009255411103367805,\n",
       " -0.026329834014177322,\n",
       " -0.022495269775390625,\n",
       " -0.0037564977537840605,\n",
       " 0.024531211704015732,\n",
       " 0.012171926908195019,\n",
       " 0.020446838811039925,\n",
       " -0.0050773611292243,\n",
       " 0.0014278126182034612,\n",
       " 0.0061203124932944775,\n",
       " -0.020409367978572845,\n",
       " 0.0013513087760657072,\n",
       " -0.0025542937219142914,\n",
       " -0.004118720535188913,\n",
       " -0.014851124957203865,\n",
       " 0.014239094220101833,\n",
       " 0.007537976372987032,\n",
       " 0.010354569181799889,\n",
       " -0.03622225672006607,\n",
       " -0.009486484341323376,\n",
       " 0.00887445267289877,\n",
       " 0.02323220670223236,\n",
       " 0.0008493494824506342,\n",
       " -0.006919700186699629,\n",
       " -0.0013965865364298224,\n",
       " -0.013227368704974651,\n",
       " 0.0015847237082198262,\n",
       " -0.017186835408210754,\n",
       " -0.014339017681777477,\n",
       " 0.01779886707663536,\n",
       " 0.005205388180911541,\n",
       " 0.01391434296965599,\n",
       " -0.026879413053393364,\n",
       " -0.0014879228547215462,\n",
       " -0.0036721874494105577,\n",
       " 0.0028478188905864954,\n",
       " 0.01653733290731907,\n",
       " 0.009511465206742287,\n",
       " -0.00483692018315196,\n",
       " -0.002226419746875763,\n",
       " -0.0011943976860493422,\n",
       " -0.01658729463815689,\n",
       " -0.019360171630978584,\n",
       " 0.015038481913506985,\n",
       " -0.0037564977537840605,\n",
       " -0.009230430237948895,\n",
       " 0.014838634990155697,\n",
       " -0.03262501209974289,\n",
       " -0.0020874636247754097,\n",
       " 0.018223542720079422,\n",
       " 0.00773782329633832,\n",
       " -0.01737419329583645,\n",
       " -0.0030913823284208775,\n",
       " 0.029127690941095352,\n",
       " 0.0021140058524906635,\n",
       " 0.0009742538095451891,\n",
       " 0.012296831235289574,\n",
       " 0.01703695021569729,\n",
       " 0.02852815017104149,\n",
       " 0.011815950274467468,\n",
       " -0.02260768413543701,\n",
       " -0.006413837429136038,\n",
       " 0.011703535914421082,\n",
       " 0.017011970281600952,\n",
       " 0.0027057400438934565,\n",
       " -0.013164917007088661,\n",
       " 0.02368186227977276,\n",
       " 0.009155487641692162,\n",
       " -0.0005382596282288432,\n",
       " 0.0019969081040471792,\n",
       " -0.0019188427831977606,\n",
       " -0.0067635695450007915,\n",
       " -0.023419562727212906,\n",
       " -0.021146303042769432,\n",
       " 0.012084494344890118,\n",
       " -0.004905617795884609,\n",
       " 0.009055564180016518,\n",
       " 0.014051737263798714,\n",
       " -0.011778478510677814,\n",
       " -0.0379459373652935,\n",
       " 0.01708691194653511,\n",
       " 0.012665299698710442,\n",
       " -0.008218704722821712,\n",
       " -0.002320097992196679,\n",
       " -0.018947986885905266,\n",
       " -0.006963416468352079,\n",
       " 0.004583989270031452,\n",
       " 0.00814376212656498,\n",
       " 0.008199969306588173,\n",
       " -0.0025074544828385115,\n",
       " 0.007781540043652058,\n",
       " 0.015488137491047382,\n",
       " -0.02647971920669079,\n",
       " -0.010666830465197563,\n",
       " -0.010660585016012192,\n",
       " -0.011790969409048557,\n",
       " 0.050486329942941666,\n",
       " 0.021396111696958542,\n",
       " 0.00606722803786397,\n",
       " 0.023219715803861618,\n",
       " 0.0051179551519453526,\n",
       " 0.008655870333313942,\n",
       " 0.006413837429136038,\n",
       " 0.013939323835074902,\n",
       " -0.004527782090008259,\n",
       " -0.0002960622950922698,\n",
       " 0.020147068426012993,\n",
       " 0.025755273178219795,\n",
       " -0.0006452089291997254,\n",
       " 0.0021327415015548468,\n",
       " -0.022695116698741913,\n",
       " 0.0032849840354174376,\n",
       " 0.009349089115858078,\n",
       " -0.013851890340447426,\n",
       " 0.0052990661934018135,\n",
       " -0.02685443125665188,\n",
       " 0.026080025359988213,\n",
       " -0.010198438540101051,\n",
       " 0.026829451322555542,\n",
       " 0.01236552931368351,\n",
       " 0.006182764656841755,\n",
       " 0.005505158565938473,\n",
       " 0.006619929801672697,\n",
       " 0.01562553271651268,\n",
       " -0.033674206584692,\n",
       " 0.006969661917537451,\n",
       " 0.005305311642587185,\n",
       " 0.0016940149944275618,\n",
       " 0.014001775532960892,\n",
       " -0.021920710802078247,\n",
       " -0.005907975137233734,\n",
       " 0.03142593055963516,\n",
       " 0.050686176866292953,\n",
       " 0.0024543702602386475,\n",
       " -0.0068135312758386135,\n",
       " 0.006744834128767252,\n",
       " 0.03187558427453041,\n",
       " 0.005423970520496368,\n",
       " -0.03422378748655319,\n",
       " 0.012590357102453709,\n",
       " -0.02000967413187027,\n",
       " 0.014688749797642231,\n",
       " 0.009480238892138004,\n",
       " 0.0023325884249061346,\n",
       " -0.02585519663989544,\n",
       " -0.008174988441169262,\n",
       " -0.013751966878771782,\n",
       " 0.025205694139003754,\n",
       " 0.040169235318899155,\n",
       " 0.0333244763314724,\n",
       " 0.005405235104262829,\n",
       " 0.010529435239732265,\n",
       " 0.013589591719210148,\n",
       " -0.006794795859605074,\n",
       " 0.01692453771829605,\n",
       " 3.7398112908704206e-05,\n",
       " 0.0114474818110466,\n",
       " 0.023569447919726372,\n",
       " -0.002178019378334284,\n",
       " -0.01787381060421467,\n",
       " -0.6850752830505371,\n",
       " -0.013277330435812473,\n",
       " 0.01413917075842619,\n",
       " -0.012090739794075489,\n",
       " 0.023994121700525284,\n",
       " 0.00278848921880126,\n",
       " 0.020584234967827797,\n",
       " -0.0012857340043410659,\n",
       " -0.010135986842215061,\n",
       " 0.008543455973267555,\n",
       " -0.0017221184680238366,\n",
       " 0.015350742265582085,\n",
       " 0.004153069108724594,\n",
       " -0.005030522122979164,\n",
       " -0.00517103960737586,\n",
       " -0.03804586082696915,\n",
       " 0.02610500529408455,\n",
       " -0.02732906863093376,\n",
       " -0.0121157206594944,\n",
       " 0.001734608900733292,\n",
       " -0.005748721770942211,\n",
       " 0.027054278180003166,\n",
       " -0.019360171630978584,\n",
       " -0.011859666556119919,\n",
       " 0.0038814020808786154,\n",
       " 0.00710081122815609,\n",
       " 0.010098515078425407,\n",
       " -0.01363955345004797,\n",
       " 0.016687218099832535,\n",
       " 0.01863572746515274,\n",
       " 0.017648981884121895,\n",
       " 0.023594427853822708,\n",
       " 0.01265905424952507,\n",
       " 0.0034785857424139977,\n",
       " 0.05580725520849228,\n",
       " -0.012072003446519375,\n",
       " -0.009780009277164936,\n",
       " 0.017111893743276596,\n",
       " -0.0019266493618488312,\n",
       " 0.033449381589889526,\n",
       " -0.011609857901930809,\n",
       " 0.00203125667758286,\n",
       " 0.006432573311030865,\n",
       " 0.0073756007477641106,\n",
       " -0.015125914476811886,\n",
       " -0.0016643502749502659,\n",
       " 0.01265905424952507,\n",
       " 0.025955120101571083,\n",
       " 0.002079657046124339,\n",
       " 0.012378019280731678,\n",
       " 0.016349976882338524,\n",
       " -0.004271727986633778,\n",
       " 0.0005932956119067967,\n",
       " 0.020871514454483986,\n",
       " -0.011940854601562023,\n",
       " 0.003077330533415079,\n",
       " 0.021995652467012405,\n",
       " 0.005711250472813845,\n",
       " 0.007650390267372131,\n",
       " 0.0021374253556132317,\n",
       " 0.0022654524073004723,\n",
       " 0.014114189893007278,\n",
       " -0.014089209027588367,\n",
       " 0.010623113252222538,\n",
       " -0.01717434637248516,\n",
       " 0.027978571131825447,\n",
       " -0.008462268859148026,\n",
       " 0.0019172815373167396,\n",
       " 0.02732906863093376,\n",
       " -0.015313271433115005,\n",
       " 0.006320159416645765,\n",
       " 0.01320238783955574,\n",
       " 0.00264172675088048,\n",
       " 0.014488902874290943,\n",
       " 0.02740401029586792,\n",
       " 0.032525088638067245,\n",
       " 0.0008165620965883136,\n",
       " -0.020321935415267944,\n",
       " -0.010217174887657166,\n",
       " 0.01796124316751957,\n",
       " 0.0024278280325233936,\n",
       " -0.017848828807473183,\n",
       " 0.006526251323521137,\n",
       " -0.0074505433440208435,\n",
       " 0.007244451437145472,\n",
       " -0.007381846196949482,\n",
       " -0.032025471329689026,\n",
       " -0.015013501048088074,\n",
       " 0.028253359720110893,\n",
       " 0.009324108250439167,\n",
       " 0.010042308829724789,\n",
       " -5.181578308111057e-05,\n",
       " -0.0006877544801682234,\n",
       " -0.013652043417096138,\n",
       " 0.028053512796759605,\n",
       " 0.0016690341290086508,\n",
       " -0.02047182060778141,\n",
       " 0.010123495943844318,\n",
       " 0.006619929801672697,\n",
       " -0.00508672883734107,\n",
       " 0.0016534210881218314,\n",
       " 0.017061932012438774,\n",
       " 0.01547564659267664,\n",
       " 0.01993473246693611,\n",
       " -0.009617634117603302,\n",
       " 0.0007790907984599471,\n",
       " 0.016937026754021645,\n",
       " 0.017611511051654816,\n",
       " 0.013414725661277771,\n",
       " -0.02277006022632122,\n",
       " -0.0011342874495312572,\n",
       " -0.02004714496433735,\n",
       " -0.008805755525827408,\n",
       " -0.0038751568645238876,\n",
       " -0.007413072045892477,\n",
       " -0.024293892085552216,\n",
       " -0.0014036124339327216,\n",
       " -0.002960232784971595,\n",
       " 0.013339783065021038,\n",
       " -0.02757887728512287,\n",
       " -0.0042654830031096935,\n",
       " 0.008262421935796738,\n",
       " 0.01525081880390644,\n",
       " 0.0017767641693353653,\n",
       " -0.0014613807434216142,\n",
       " 0.032475125044584274,\n",
       " -0.017311740666627884,\n",
       " -0.01525081880390644,\n",
       " -0.007968896068632603,\n",
       " -0.020521782338619232,\n",
       " -0.0026791980490088463,\n",
       " 0.02260768413543701,\n",
       " 0.011803459376096725,\n",
       " -0.0014769937843084335,\n",
       " 0.031475890427827835,\n",
       " -0.006173396483063698,\n",
       " 0.0008228073129430413,\n",
       " 0.006613684352487326,\n",
       " 0.018323466181755066,\n",
       " -0.004890004638582468,\n",
       " -0.004971192684024572,\n",
       " -0.026179948821663857,\n",
       " 0.0004223327850922942,\n",
       " 0.009979856200516224,\n",
       " -0.011085259728133678,\n",
       " -0.02054676227271557,\n",
       " -0.008118781261146069,\n",
       " -0.031101178377866745,\n",
       " -0.01678714156150818,\n",
       " -0.012403000146150589,\n",
       " -0.0018033062806352973,\n",
       " -0.002669830108061433,\n",
       " -0.03584754467010498,\n",
       " 0.03130102530121803,\n",
       " -0.0018907393096014857,\n",
       " -0.006688626948744059,\n",
       " -0.010367060080170631,\n",
       " -0.0066823819652199745,\n",
       " -0.023282168433070183,\n",
       " -0.02079657092690468,\n",
       " -0.025805234909057617,\n",
       " 0.017886299639940262,\n",
       " -0.010036063380539417,\n",
       " -0.016262544319033623,\n",
       " 0.011541160754859447,\n",
       " -0.01988477073609829,\n",
       " -0.003033614018931985,\n",
       " 0.02268262766301632,\n",
       " -0.01975986547768116,\n",
       " -0.025517955422401428,\n",
       " 0.006382611580193043,\n",
       " 0.012103229761123657,\n",
       " 0.0017673963448032737,\n",
       " 0.008886943571269512,\n",
       " 0.00983621645718813,\n",
       " -0.0033162101171910763,\n",
       " -0.020996417850255966,\n",
       " -0.010279626585543156,\n",
       " 0.0022186131682246923,\n",
       " 0.002415337599813938,\n",
       " 0.011047787964344025,\n",
       " -0.01678714156150818,\n",
       " -0.00781276635825634,\n",
       " -0.007781540043652058,\n",
       " 0.03882026672363281,\n",
       " -0.017698943614959717,\n",
       " 0.020246991887688637,\n",
       " 0.005686269607394934,\n",
       " 0.013377253897488117,\n",
       " -0.0004196004883851856,\n",
       " -0.00310231139883399,\n",
       " 0.029627308249473572,\n",
       " 0.01061062328517437,\n",
       " -0.013015031814575195,\n",
       " -0.014576335437595844,\n",
       " 8.63596360431984e-05,\n",
       " -0.004296708852052689,\n",
       " 0.026629604399204254,\n",
       " 0.018573274835944176,\n",
       " 0.016949517652392387,\n",
       " -0.014838634990155697,\n",
       " -0.01286514662206173,\n",
       " 0.032899800688028336,\n",
       " -0.023881709203124046,\n",
       " -0.016062697395682335,\n",
       " -0.014314036816358566,\n",
       " 0.01094786450266838,\n",
       " -0.01525081880390644,\n",
       " -0.010304607450962067,\n",
       " 0.02727910690009594,\n",
       " -0.012496678158640862,\n",
       " -0.010847941040992737,\n",
       " 0.002441879827529192,\n",
       " 0.007250696420669556,\n",
       " 0.009904913604259491,\n",
       " 0.02535557933151722,\n",
       " 0.008743302896618843,\n",
       " 0.01295257918536663,\n",
       " -0.01263407338410616,\n",
       " -0.007931425236165524,\n",
       " 0.018061166629195213,\n",
       " 0.005036767106503248,\n",
       " -0.0005815858021378517,\n",
       " -0.025517955422401428,\n",
       " 0.019435115158557892,\n",
       " 0.014101698994636536,\n",
       " -0.010123495943844318,\n",
       " -0.011147711426019669,\n",
       " -0.01270277053117752,\n",
       " -0.020284464582800865,\n",
       " -0.03479834645986557,\n",
       " 0.019085383042693138,\n",
       " 0.015513118356466293,\n",
       " 0.003740884829312563,\n",
       " -0.004384141881018877,\n",
       " -0.0052491044625639915,\n",
       " 0.00381270470097661,\n",
       " -0.02301986888051033,\n",
       " 0.02209557592868805,\n",
       " -0.0073943366296589375,\n",
       " 0.010098515078425407,\n",
       " 0.017486605793237686,\n",
       " 0.018748139962553978,\n",
       " -0.012003306299448013,\n",
       " 0.013776947744190693,\n",
       " 0.003715903963893652,\n",
       " 0.018485842272639275,\n",
       " 0.004968069959431887,\n",
       " -0.02038438804447651,\n",
       " 0.0162125825881958,\n",
       " -0.007975141517817974,\n",
       " 6.303765258053318e-05,\n",
       " -0.020034655928611755,\n",
       " 0.008224950172007084,\n",
       " 0.0018517067655920982,\n",
       " -0.02560538798570633,\n",
       " 0.0016940149944275618,\n",
       " -0.0011694168206304312,\n",
       " 0.018061166629195213,\n",
       " 0.018111128360033035,\n",
       " 0.004593356978148222,\n",
       " 0.02865305356681347,\n",
       " 0.004855656065046787,\n",
       " -0.011990816332399845,\n",
       " 0.019460095092654228,\n",
       " 0.007619164418429136,\n",
       " 0.021108832210302353,\n",
       " -0.014289055950939655,\n",
       " 0.003956344909965992,\n",
       " -0.005092974286526442,\n",
       " 0.005864258389919996,\n",
       " 0.011085259728133678,\n",
       " -0.022907454520463943,\n",
       " 0.02339458093047142,\n",
       " 0.030901331454515457,\n",
       " 0.0020843411330133677,\n",
       " 0.011478708125650883,\n",
       " 0.009349089115858078,\n",
       " -0.012003306299448013,\n",
       " 0.020446838811039925,\n",
       " -0.022782551124691963,\n",
       " -0.024206459522247314,\n",
       " 0.016449900344014168,\n",
       " 0.026429757475852966,\n",
       " -0.005377131514251232,\n",
       " -0.018997948616743088,\n",
       " -0.03232524171471596,\n",
       " -0.017911281436681747,\n",
       " -0.013064993545413017,\n",
       " 0.004830675199627876,\n",
       " -0.0010936935432255268,\n",
       " -0.00862464401870966,\n",
       " 0.002149915788322687,\n",
       " -0.018410898745059967,\n",
       " 0.004430981352925301,\n",
       " -0.011004071682691574,\n",
       " 0.00698839733377099,\n",
       " -0.0034848309587687254,\n",
       " 0.004162436816841364,\n",
       " -0.006385733839124441,\n",
       " 0.013414725661277771,\n",
       " -0.011709781363606453,\n",
       " 0.006819776725023985,\n",
       " -0.022969907149672508,\n",
       " -0.00864962488412857,\n",
       " -0.005876748822629452,\n",
       " -0.012140701524913311,\n",
       " 0.0017798867775127292,\n",
       " -0.010479473508894444,\n",
       " -0.0036128577776253223,\n",
       " 0.0074755242094397545,\n",
       " -0.009723802097141743,\n",
       " -0.02223297208547592,\n",
       " -0.01541319489479065,\n",
       " 0.024468759074807167,\n",
       " -0.010098515078425407,\n",
       " -0.02464362420141697,\n",
       " 0.006292055826634169,\n",
       " 0.023294657468795776,\n",
       " -0.016637256368994713,\n",
       " -0.007506750524044037,\n",
       " -0.014863615855574608,\n",
       " -0.0144764119759202,\n",
       " 0.006217113230377436,\n",
       " 0.12190663069486618,\n",
       " 0.0032600031699985266,\n",
       " 0.0008883820846676826,\n",
       " 0.013027521781623363,\n",
       " 0.007887708954513073,\n",
       " 0.021695882081985474,\n",
       " -0.0019235267536714673,\n",
       " -0.02348201535642147,\n",
       " 0.00456213066354394,\n",
       " -0.016512352973222733,\n",
       " 0.009005602449178696,\n",
       " 0.0024044085294008255,\n",
       " -0.02054676227271557,\n",
       " -0.00468079000711441,\n",
       " 0.012733996845781803,\n",
       " -0.0010484157828614116,\n",
       " 0.005842400249093771,\n",
       " 0.0066823819652199745,\n",
       " 0.015450665727257729,\n",
       " -0.0011811265721917152,\n",
       " -0.014189132489264011,\n",
       " -0.002056237543001771,\n",
       " 0.01742415502667427,\n",
       " 0.0013419409515336156,\n",
       " 0.013552119955420494,\n",
       " 0.006345140282064676,\n",
       " 0.0027728762943297625,\n",
       " 0.007868972606956959,\n",
       " -0.006626174785196781,\n",
       " -0.01244671642780304,\n",
       " -0.007956406101584435,\n",
       " 0.0033911527134478092,\n",
       " -3.386078242328949e-05,\n",
       " -0.017599020153284073,\n",
       " 0.0005800244980491698,\n",
       " 0.010560661554336548,\n",
       " 0.0005847084103152156,\n",
       " 0.018997948616743088,\n",
       " 0.002911832183599472,\n",
       " -0.016075188294053078,\n",
       " 0.022944925352931023,\n",
       " 0.019497565925121307,\n",
       " 0.017186835408210754,\n",
       " -0.0019594368059188128,\n",
       " 0.013439706526696682,\n",
       " -0.010810470208525658,\n",
       " -0.01872316002845764,\n",
       " 0.018073657527565956,\n",
       " -0.018560783937573433,\n",
       " -0.015125914476811886,\n",
       " 0.028852900490164757,\n",
       " -0.012515414506196976,\n",
       " -0.008193723857402802,\n",
       " -0.029002785682678223,\n",
       " 0.0008876014035195112,\n",
       " 0.002076534554362297,\n",
       " -0.02059672400355339,\n",
       " 0.0039188736118376255,\n",
       " -0.01608767732977867,\n",
       " -0.013164917007088661,\n",
       " -0.031525854021310806,\n",
       " -0.03574762120842934,\n",
       " 0.0033130873925983906,\n",
       " 0.0017720801988616586,\n",
       " -0.013439706526696682,\n",
       " -0.023756803944706917,\n",
       " -0.006613684352487326,\n",
       " -0.033649228513240814,\n",
       " -0.00415619183331728,\n",
       " 0.0018142354674637318,\n",
       " -0.01746162585914135,\n",
       " -0.016312506049871445,\n",
       " -0.034898269921541214,\n",
       " -0.02560538798570633,\n",
       " 0.018448369577527046,\n",
       " 0.0308263897895813,\n",
       " -0.02519320324063301,\n",
       " -0.006220235954970121,\n",
       " -0.006301423534750938,\n",
       " 0.012346792966127396,\n",
       " 0.007431807927787304,\n",
       " -0.03319957107305527,\n",
       " -0.002829083241522312,\n",
       " -0.010142232291400433,\n",
       " 0.0022435940336436033,\n",
       " 0.0009102403419092298,\n",
       " 0.010516945272684097,\n",
       " 0.00492123095318675,\n",
       " -0.0017065054271370173,\n",
       " -0.0034785857424139977,\n",
       " 0.02373182401061058,\n",
       " 0.006932190619409084,\n",
       " 0.012265605852007866,\n",
       " -0.00987993273884058,\n",
       " -0.0018766876310110092,\n",
       " -0.0011647329665720463,\n",
       " 0.010498208925127983,\n",
       " -0.003544160397723317,\n",
       " -0.008256176486611366,\n",
       " 0.00015134892601054162,\n",
       " 0.010872921906411648,\n",
       " -0.010604377835988998,\n",
       " -0.002710424130782485,\n",
       " -0.004452839493751526,\n",
       " 0.011847175657749176,\n",
       " 0.007950160652399063,\n",
       " -0.0059110973961651325,\n",
       " 0.00881200097501278,\n",
       " -0.0019375784322619438,\n",
       " -0.01587534137070179,\n",
       " 0.018023695796728134,\n",
       " -0.041293371468782425,\n",
       " 0.010872921906411648,\n",
       " 0.003256880445405841,\n",
       " -0.0015168070094659925,\n",
       " 0.011466218158602715,\n",
       " 0.03464846312999725,\n",
       " 0.03809582069516182,\n",
       " -0.01169729046523571,\n",
       " -0.01779886707663536,\n",
       " -0.00567065691575408,\n",
       " -0.025680331513285637,\n",
       " 0.022869983687996864,\n",
       " 0.022170519456267357,\n",
       " -0.009536446072161198,\n",
       " -0.017973734065890312,\n",
       " 0.0002976235991809517,\n",
       " -0.01186591200530529,\n",
       " -0.004184294957667589,\n",
       " 0.011291352100670338,\n",
       " -0.0025823970790952444,\n",
       " -0.001309153507463634,\n",
       " -0.013339783065021038,\n",
       " -0.011453727260231972,\n",
       " -0.033674206584692,\n",
       " -0.031151140108704567,\n",
       " 0.022382857277989388,\n",
       " 0.015675494447350502,\n",
       " -0.034448616206645966,\n",
       " -0.01712438464164734,\n",
       " -0.032649993896484375,\n",
       " 0.009449012577533722,\n",
       " 0.003206918714568019,\n",
       " -0.035198040306568146,\n",
       " -0.0009461503359489143,\n",
       " -0.03419880568981171,\n",
       " -0.01583786867558956,\n",
       " -0.0011015001218765974,\n",
       " -0.01342721562832594,\n",
       " 0.02770378068089485,\n",
       " -0.00671360781416297,\n",
       " -0.019659942016005516,\n",
       " -0.035322945564985275,\n",
       " 0.013739476911723614,\n",
       " 0.007288167718797922,\n",
       " -0.008187479339540005,\n",
       " -0.020409367978572845,\n",
       " 0.015550589188933372,\n",
       " 0.0030757691711187363,\n",
       " 0.025492973625659943,\n",
       " 0.011859666556119919,\n",
       " 0.0058798715472221375,\n",
       " -0.014351507648825645,\n",
       " 0.01497602928429842,\n",
       " -0.010835451073944569,\n",
       " -0.019322700798511505,\n",
       " -0.004490310791879892,\n",
       " -0.027678800746798515,\n",
       " -0.010448247194290161,\n",
       " 0.007756559178233147,\n",
       " -0.003953222185373306,\n",
       " 0.003719026455655694,\n",
       " 0.008243685588240623,\n",
       " 0.008499739691615105,\n",
       " -0.010822960175573826,\n",
       " 0.014089209027588367,\n",
       " 0.00011270664253970608,\n",
       " -0.01783633790910244,\n",
       " -0.029102709144353867,\n",
       " -0.01997220329940319,\n",
       " -0.0033942752052098513,\n",
       " -0.006975906901061535,\n",
       " -0.008849471807479858,\n",
       " 0.01342721562832594,\n",
       " -0.006913454737514257,\n",
       " -0.020396877080202103,\n",
       " 0.016937026754021645,\n",
       " 0.017948752269148827,\n",
       " 0.013377253897488117,\n",
       " 0.0023076075594872236,\n",
       " 0.03497321158647537,\n",
       " -0.011647328734397888,\n",
       " 0.010772998444736004,\n",
       " -0.0025980102363973856,\n",
       " -0.006963416468352079,\n",
       " -0.015350742265582085,\n",
       " 0.00327873881906271,\n",
       " 0.015088443644344807,\n",
       " 0.008206214755773544,\n",
       " 0.010029817931354046,\n",
       " 0.026829451322555542,\n",
       " 0.026129987090826035,\n",
       " -0.020321935415267944,\n",
       " 0.013577100820839405,\n",
       " -0.011647328734397888,\n",
       " 0.010548170655965805,\n",
       " -0.018485842272639275,\n",
       " -0.04159314185380936,\n",
       " 0.007007133215665817,\n",
       " -0.020122088491916656,\n",
       " 0.014276565052568913,\n",
       " -0.027553895488381386,\n",
       " -0.02578025497496128,\n",
       " -0.029552364721894264,\n",
       " -0.013040012679994106,\n",
       " -0.0005714373546652496,\n",
       " -0.0035129343159496784,\n",
       " 0.008718322031199932,\n",
       " 0.0032131639309227467,\n",
       " -0.028428226709365845,\n",
       " -0.0005765115492977202,\n",
       " 0.014651278033852577,\n",
       " 0.04219268262386322,\n",
       " -0.01186591200530529,\n",
       " 0.018373427912592888,\n",
       " 0.01338974479585886,\n",
       " -0.004559008404612541,\n",
       " -0.0031132404692471027,\n",
       " 0.02109634131193161,\n",
       " -0.0028025410138070583,\n",
       " -0.018360937014222145,\n",
       " 0.00961138866841793,\n",
       " -0.001615949789993465,\n",
       " -0.003036736510694027,\n",
       " -0.0010491963475942612,\n",
       " 0.004755732603371143,\n",
       " -0.0038314403500407934,\n",
       " -0.011397520080208778,\n",
       " 1.6271716958726756e-05,\n",
       " 0.03422378748655319,\n",
       " -0.00440600048750639,\n",
       " 0.00556761072948575,\n",
       " -0.007119547110050917,\n",
       " 0.005236614029854536,\n",
       " -0.02770378068089485,\n",
       " 0.010036063380539417,\n",
       " -0.0027557017747312784,\n",
       " 0.0017470993334427476,\n",
       " -0.012840165756642818,\n",
       " -0.01169729046523571,\n",
       " -0.021371131762862206,\n",
       " 0.007562957238405943,\n",
       " -0.0374213382601738,\n",
       " 0.004993050824850798,\n",
       " -0.001640930655412376,\n",
       " -0.005467687267810106,\n",
       " -4.2155214032391086e-05,\n",
       " -0.010822960175573826,\n",
       " -0.00020257922005839646,\n",
       " -0.0009063370525836945,\n",
       " -0.008893188089132309,\n",
       " 0.02740401029586792,\n",
       " 0.004299831576645374,\n",
       " 0.001097596832551062,\n",
       " 0.00858717318624258,\n",
       " -0.009617634117603302,\n",
       " 0.002961793914437294,\n",
       " 0.006907209753990173,\n",
       " -0.016812123358249664,\n",
       " 0.024456268176436424,\n",
       " -0.0029399357736110687,\n",
       " -0.027978571131825447,\n",
       " 0.012296831235289574,\n",
       " 0.00011690265091601759,\n",
       " 0.013027521781623363,\n",
       " -0.008318628184497356,\n",
       " -0.009080545045435429,\n",
       " -0.00034114497248083353,\n",
       " -0.010554416105151176,\n",
       " 0.001207668799906969,\n",
       " -0.018148599192500114,\n",
       " -0.004568376112729311,\n",
       " -0.007256941869854927,\n",
       " 0.010685565881431103,\n",
       " -0.007775294594466686,\n",
       " -0.023494504392147064,\n",
       " 0.008287402801215649,\n",
       " 0.006488780025392771,\n",
       " 0.0004348232178017497,\n",
       " -0.015613041818141937,\n",
       " -0.017611511051654816,\n",
       " -0.023082321509718895,\n",
       " 0.008787020109593868,\n",
       " 0.019947221502661705,\n",
       " -0.006185886915773153,\n",
       " -0.0005023496341891587,\n",
       " 0.007213225122541189,\n",
       " 0.011940854601562023,\n",
       " -0.014851124957203865,\n",
       " 0.01090414822101593,\n",
       " -0.00158784631639719,\n",
       " 0.0007865069783292711,\n",
       " 0.006129680201411247,\n",
       " 0.0004289683129172772,\n",
       " 0.014376488514244556,\n",
       " 7.060022471705452e-05,\n",
       " 0.0060203890316188335,\n",
       " 0.022994887083768845,\n",
       " 0.001834532362408936,\n",
       " -0.007825256325304508,\n",
       " -0.0011350681306794286,\n",
       " 0.0025058931205421686,\n",
       " -0.006482535041868687,\n",
       " -0.02155848778784275,\n",
       " -0.014363998547196388,\n",
       " 0.012084494344890118,\n",
       " 0.013327292166650295,\n",
       " -0.01587534137070179,\n",
       " -0.028128456324338913,\n",
       " -0.007687861565500498,\n",
       " -0.006036001723259687,\n",
       " 0.01872316002845764,\n",
       " 0.03245014697313309,\n",
       " -0.014488902874290943,\n",
       " -0.006538741756230593,\n",
       " 0.0015495943371206522,\n",
       " 0.0093990508466959,\n",
       " -0.0009867441840469837,\n",
       " -0.01813611015677452,\n",
       " -0.013739476911723614,\n",
       " -0.011990816332399845,\n",
       " 0.046064719557762146,\n",
       " -0.01909787207841873,\n",
       " -0.023494504392147064,\n",
       " -5.425532071967609e-05,\n",
       " -0.0019875401630997658,\n",
       " -0.008487249724566936,\n",
       " 0.014363998547196388,\n",
       " -0.00026307973894290626,\n",
       " -0.003928241319954395,\n",
       " 0.012096984311938286,\n",
       " 0.004643318708986044,\n",
       " -0.009261656552553177,\n",
       " 0.008381080813705921,\n",
       " 0.0009703505202196538,\n",
       " -0.001882932847365737,\n",
       " -0.018698178231716156,\n",
       " 0.019460095092654228,\n",
       " -0.027453972026705742,\n",
       " -0.014376488514244556,\n",
       " -0.025630369782447815,\n",
       " 0.025580408051609993,\n",
       " 0.008537211455404758,\n",
       " -0.03220033645629883,\n",
       " -0.005239736754447222,\n",
       " -0.002694810973480344,\n",
       " -0.025492973625659943,\n",
       " -0.0031647635623812675,\n",
       " -0.029902096837759018,\n",
       " 0.02531810849905014,\n",
       " 0.012015797197818756,\n",
       " 0.007825256325304508,\n",
       " -0.008955640718340874,\n",
       " 0.011410010978579521,\n",
       " -0.015613041818141937,\n",
       " -0.014176641590893269,\n",
       " -0.012552885338664055,\n",
       " -0.007544221822172403,\n",
       " 0.00044067809358239174,\n",
       " 0.008911924436688423,\n",
       " 0.017474116757512093,\n",
       " 0.01034207921475172,\n",
       " -0.02376929484307766,\n",
       " -0.0035098118241876364,\n",
       " 0.02915267087519169,\n",
       " 0.0004266263567842543,\n",
       " -0.026579642668366432,\n",
       " 0.027204163372516632,\n",
       " 0.005099219270050526,\n",
       " 0.02214553765952587,\n",
       " -0.018810592591762543,\n",
       " 0.010254645720124245,\n",
       " 0.03487328812479973,\n",
       " 0.018473351374268532,\n",
       " 0.0017174346139654517,\n",
       " -0.01704944111406803,\n",
       " 0.004343548323959112,\n",
       " 0.01979733631014824,\n",
       " 0.012328057549893856,\n",
       " 0.0066324202343821526,\n",
       " 0.002610500669106841,\n",
       " 0.017811357975006104,\n",
       " 0.001355992630124092,\n",
       " -0.008249931037425995,\n",
       " -0.03095129318535328,\n",
       " 0.0013552120653912425,\n",
       " -0.003491076175123453,\n",
       " -0.01391434296965599,\n",
       " 0.005177284590899944,\n",
       " -0.0011584877502173185,\n",
       " -0.00685100257396698,\n",
       " 0.009873687289655209,\n",
       " 0.008780774660408497,\n",
       " -0.007993876934051514,\n",
       " -0.000258981337537989,\n",
       " 0.013577100820839405,\n",
       " 0.009973610751330853,\n",
       " 0.006329527124762535,\n",
       " 0.008093800395727158,\n",
       " -0.024930905550718307,\n",
       " 0.0004949333961121738,\n",
       " 0.010029817931354046,\n",
       " -0.005102341994643211,\n",
       " -0.002206122735515237,\n",
       " 0.014376488514244556,\n",
       " -0.010454492643475533,\n",
       " -0.010235910303890705,\n",
       " -0.004424735903739929,\n",
       " -0.008012613281607628,\n",
       " 0.018648216500878334,\n",
       " -0.023744313046336174,\n",
       " -0.0081062912940979,\n",
       " -0.01699947938323021,\n",
       " 0.005208510905504227,\n",
       " -0.003990693483501673,\n",
       " -0.01525081880390644,\n",
       " -0.002568345284089446,\n",
       " 0.025467993691563606,\n",
       " -0.01863572746515274,\n",
       " 0.00015095859998837113,\n",
       " 0.002340395003557205,\n",
       " -0.007569202687591314,\n",
       " -0.021695882081985474,\n",
       " 0.0035847544204443693,\n",
       " -0.009430277161300182,\n",
       " 0.02113381400704384,\n",
       " 0.2432137131690979,\n",
       " 0.0020390632562339306,\n",
       " -0.00931786373257637,\n",
       " 0.03574762120842934,\n",
       " 0.029627308249473572,\n",
       " -0.0039938162080943584,\n",
       " 0.017561549320816994,\n",
       " -0.0043466705828905106,\n",
       " -0.02088400535285473,\n",
       " 0.00733188446611166,\n",
       " 0.015650512650609016,\n",
       " 0.0005148400668986142,\n",
       " 0.001127261552028358,\n",
       " 0.0028197153005748987,\n",
       " 0.005258472636342049,\n",
       " -0.033948998898267746,\n",
       " -0.02907772921025753,\n",
       " -0.010354569181799889,\n",
       " 0.020209521055221558,\n",
       " -0.026729527860879898,\n",
       " 0.0032881065271794796,\n",
       " -0.015300780534744263,\n",
       " -0.010335833765566349,\n",
       " -0.006613684352487326,\n",
       " 0.013539629988372326,\n",
       " 0.015263309702277184,\n",
       " -0.005658166483044624,\n",
       " 0.009299127385020256,\n",
       " 0.04486563801765442,\n",
       " 0.006719853263348341,\n",
       " 0.0009812796488404274,\n",
       " -0.007594183553010225,\n",
       " 0.01846086047589779,\n",
       " 0.0039438544772565365,\n",
       " -0.03951973095536232,\n",
       " 0.009174223057925701,\n",
       " 0.011322577483952045,\n",
       " -0.01796124316751957,\n",
       " 0.0162125825881958,\n",
       " -0.013214878737926483,\n",
       " 0.036996662616729736,\n",
       " 0.016949517652392387,\n",
       " -0.010604377835988998,\n",
       " -0.036996662616729736,\n",
       " 0.013864381238818169,\n",
       " 0.039170000702142715,\n",
       " ...]"
      ]
     },
     "execution_count": 26,
     "metadata": {},
     "output_type": "execute_result"
    }
   ],
   "source": [
    "emb_model = OpenAIEmbeddings()\n",
    "\n",
    "emb_model.embed_query(\"It's good to be good\")"
   ]
  },
  {
   "cell_type": "markdown",
   "metadata": {},
   "source": [
    "### Vector Stores\n",
    "\n",
    "- Qdrant"
   ]
  },
  {
   "cell_type": "code",
   "execution_count": 27,
   "metadata": {},
   "outputs": [],
   "source": [
    "from langchain.vectorstores import Qdrant"
   ]
  },
  {
   "cell_type": "code",
   "execution_count": 28,
   "metadata": {},
   "outputs": [],
   "source": [
    "url: str = \"http://localhost:6333/\"\n",
    "qdrant = Qdrant.from_documents(\n",
    "    docs,\n",
    "    emb_model,\n",
    "    url=url,\n",
    "    prefer_grpc=False,\n",
    "    collection_name=\"facts\",\n",
    "    force_recreate=False,\n",
    ")"
   ]
  },
  {
   "cell_type": "code",
   "execution_count": 29,
   "metadata": {},
   "outputs": [
    {
     "data": {
      "text/html": [
       "<pre style=\"white-space:pre;overflow-x:auto;line-height:normal;font-family:Menlo,'DejaVu Sans Mono',consolas,'Courier New',monospace\"><span style=\"font-weight: bold\">[</span>\n",
       "    <span style=\"color: #800080; text-decoration-color: #800080; font-weight: bold\">Document</span><span style=\"font-weight: bold\">(</span>\n",
       "        <span style=\"color: #808000; text-decoration-color: #808000\">page_content</span>=<span style=\"color: #008000; text-decoration-color: #008000\">'1. \"Dreamt\" is the only English word that ends with the letters \"mt.\"\\n2. An ostrich\\'s eye </span>\n",
       "<span style=\"color: #008000; text-decoration-color: #008000\">is bigger than its brain.\\n3. Honey is the only natural food that is made without destroying any kind of life.'</span>,\n",
       "        <span style=\"color: #808000; text-decoration-color: #808000\">metadata</span>=<span style=\"font-weight: bold\">{</span><span style=\"color: #008000; text-decoration-color: #008000\">'source'</span>: <span style=\"color: #008000; text-decoration-color: #008000\">'../../../data/facts.txt'</span><span style=\"font-weight: bold\">}</span>\n",
       "    <span style=\"font-weight: bold\">)</span>,\n",
       "    <span style=\"color: #800080; text-decoration-color: #800080; font-weight: bold\">Document</span><span style=\"font-weight: bold\">(</span>\n",
       "        <span style=\"color: #808000; text-decoration-color: #808000\">page_content</span>=<span style=\"color: #008000; text-decoration-color: #008000\">'1. \"Dreamt\" is the only English word that ends with the letters \"mt.\"\\n2. An ostrich\\'s eye </span>\n",
       "<span style=\"color: #008000; text-decoration-color: #008000\">is bigger than its brain.\\n3. Honey is the only natural food that is made without destroying any kind of life.'</span>,\n",
       "        <span style=\"color: #808000; text-decoration-color: #808000\">metadata</span>=<span style=\"font-weight: bold\">{</span><span style=\"color: #008000; text-decoration-color: #008000\">'source'</span>: <span style=\"color: #008000; text-decoration-color: #008000\">'data/facts.txt'</span><span style=\"font-weight: bold\">}</span>\n",
       "    <span style=\"font-weight: bold\">)</span>\n",
       "<span style=\"font-weight: bold\">]</span>\n",
       "</pre>\n"
      ],
      "text/plain": [
       "\u001b[1m[\u001b[0m\n",
       "    \u001b[1;35mDocument\u001b[0m\u001b[1m(\u001b[0m\n",
       "        \u001b[33mpage_content\u001b[0m=\u001b[32m'1. \"Dreamt\" is the only English word that ends with the letters \"mt.\"\\n2. An ostrich\\'s eye \u001b[0m\n",
       "\u001b[32mis bigger than its brain.\\n3. Honey is the only natural food that is made without destroying any kind of life.'\u001b[0m,\n",
       "        \u001b[33mmetadata\u001b[0m=\u001b[1m{\u001b[0m\u001b[32m'source'\u001b[0m: \u001b[32m'../../../data/facts.txt'\u001b[0m\u001b[1m}\u001b[0m\n",
       "    \u001b[1m)\u001b[0m,\n",
       "    \u001b[1;35mDocument\u001b[0m\u001b[1m(\u001b[0m\n",
       "        \u001b[33mpage_content\u001b[0m=\u001b[32m'1. \"Dreamt\" is the only English word that ends with the letters \"mt.\"\\n2. An ostrich\\'s eye \u001b[0m\n",
       "\u001b[32mis bigger than its brain.\\n3. Honey is the only natural food that is made without destroying any kind of life.'\u001b[0m,\n",
       "        \u001b[33mmetadata\u001b[0m=\u001b[1m{\u001b[0m\u001b[32m'source'\u001b[0m: \u001b[32m'data/facts.txt'\u001b[0m\u001b[1m}\u001b[0m\n",
       "    \u001b[1m)\u001b[0m\n",
       "\u001b[1m]\u001b[0m\n"
      ]
     },
     "metadata": {},
     "output_type": "display_data"
    }
   ],
   "source": [
    "query: str = \"What is an interesting fact about the English language\"\n",
    "found_docs = qdrant.similarity_search(query, k=2)\n",
    "\n",
    "print(found_docs)"
   ]
  },
  {
   "cell_type": "code",
   "execution_count": 30,
   "metadata": {},
   "outputs": [
    {
     "data": {
      "text/html": [
       "<pre style=\"white-space:pre;overflow-x:auto;line-height:normal;font-family:Menlo,'DejaVu Sans Mono',consolas,'Courier New',monospace\"><span style=\"color: #008080; text-decoration-color: #008080; font-weight: bold\">1</span>. <span style=\"color: #008000; text-decoration-color: #008000\">\"Dreamt\"</span> is the only English word that ends with the letters <span style=\"color: #008000; text-decoration-color: #008000\">\"mt.\"</span>\n",
       "<span style=\"color: #008080; text-decoration-color: #008080; font-weight: bold\">2</span>. An ostrich's eye is bigger than its brain.\n",
       "<span style=\"color: #008080; text-decoration-color: #008080; font-weight: bold\">3</span>. Honey is the only natural food that is made without destroying any kind of life.\n",
       "</pre>\n"
      ],
      "text/plain": [
       "\u001b[1;36m1\u001b[0m. \u001b[32m\"Dreamt\"\u001b[0m is the only English word that ends with the letters \u001b[32m\"mt.\"\u001b[0m\n",
       "\u001b[1;36m2\u001b[0m. An ostrich's eye is bigger than its brain.\n",
       "\u001b[1;36m3\u001b[0m. Honey is the only natural food that is made without destroying any kind of life.\n"
      ]
     },
     "metadata": {},
     "output_type": "display_data"
    }
   ],
   "source": [
    "print(found_docs[0].page_content)"
   ]
  },
  {
   "cell_type": "markdown",
   "metadata": {},
   "source": [
    "<br>\n",
    "\n",
    "### Retrieval Chain\n",
    "\n",
    "[![image.png](https://i.postimg.cc/X7SX9Rtj/image.png)](https://postimg.cc/qgwkT5kS)"
   ]
  },
  {
   "cell_type": "code",
   "execution_count": 31,
   "metadata": {},
   "outputs": [],
   "source": [
    "from langchain.chains import RetrievalQA"
   ]
  },
  {
   "cell_type": "code",
   "execution_count": 32,
   "metadata": {},
   "outputs": [],
   "source": [
    "# Retriever DB\n",
    "retriever = qdrant.as_retriever()\n",
    "\n",
    "chain = RetrievalQA.from_chain_type(\n",
    "    llm=chat_llm,\n",
    "    retriever=retriever,\n",
    "    chain_type=\"stuff\",  #  it feeds the LLM a prompt built from document list.\n",
    "    return_source_documents=True,  # to easily detect hallucination\n",
    "    input_key=\"query\",\n",
    ")"
   ]
  },
  {
   "cell_type": "code",
   "execution_count": 33,
   "metadata": {},
   "outputs": [
    {
     "data": {
      "text/html": [
       "<pre style=\"white-space:pre;overflow-x:auto;line-height:normal;font-family:Menlo,'DejaVu Sans Mono',consolas,'Courier New',monospace\"><span style=\"font-weight: bold\">{</span>\n",
       "    <span style=\"color: #008000; text-decoration-color: #008000\">'query'</span>: <span style=\"color: #008000; text-decoration-color: #008000\">'What is an interesting fact about the English language'</span>,\n",
       "    <span style=\"color: #008000; text-decoration-color: #008000\">'result'</span>: <span style=\"color: #008000; text-decoration-color: #008000\">'An interesting fact about the English language is that \"dreamt\" is the only English word that ends </span>\n",
       "<span style=\"color: #008000; text-decoration-color: #008000\">with the letters \"mt.\"'</span>,\n",
       "    <span style=\"color: #008000; text-decoration-color: #008000\">'source_documents'</span>: <span style=\"font-weight: bold\">[</span>\n",
       "        <span style=\"color: #800080; text-decoration-color: #800080; font-weight: bold\">Document</span><span style=\"font-weight: bold\">(</span>\n",
       "            <span style=\"color: #808000; text-decoration-color: #808000\">page_content</span>=<span style=\"color: #008000; text-decoration-color: #008000\">'1. \"Dreamt\" is the only English word that ends with the letters \"mt.\"\\n2. An ostrich\\'s </span>\n",
       "<span style=\"color: #008000; text-decoration-color: #008000\">eye is bigger than its brain.\\n3. Honey is the only natural food that is made without destroying any kind of </span>\n",
       "<span style=\"color: #008000; text-decoration-color: #008000\">life.'</span>,\n",
       "            <span style=\"color: #808000; text-decoration-color: #808000\">metadata</span>=<span style=\"font-weight: bold\">{</span><span style=\"color: #008000; text-decoration-color: #008000\">'source'</span>: <span style=\"color: #008000; text-decoration-color: #008000\">'../../../data/facts.txt'</span><span style=\"font-weight: bold\">}</span>\n",
       "        <span style=\"font-weight: bold\">)</span>,\n",
       "        <span style=\"color: #800080; text-decoration-color: #800080; font-weight: bold\">Document</span><span style=\"font-weight: bold\">(</span>\n",
       "            <span style=\"color: #808000; text-decoration-color: #808000\">page_content</span>=<span style=\"color: #008000; text-decoration-color: #008000\">'1. \"Dreamt\" is the only English word that ends with the letters \"mt.\"\\n2. An ostrich\\'s </span>\n",
       "<span style=\"color: #008000; text-decoration-color: #008000\">eye is bigger than its brain.\\n3. Honey is the only natural food that is made without destroying any kind of </span>\n",
       "<span style=\"color: #008000; text-decoration-color: #008000\">life.'</span>,\n",
       "            <span style=\"color: #808000; text-decoration-color: #808000\">metadata</span>=<span style=\"font-weight: bold\">{</span><span style=\"color: #008000; text-decoration-color: #008000\">'source'</span>: <span style=\"color: #008000; text-decoration-color: #008000\">'../../../data/facts.txt'</span><span style=\"font-weight: bold\">}</span>\n",
       "        <span style=\"font-weight: bold\">)</span>,\n",
       "        <span style=\"color: #800080; text-decoration-color: #800080; font-weight: bold\">Document</span><span style=\"font-weight: bold\">(</span>\n",
       "            <span style=\"color: #808000; text-decoration-color: #808000\">page_content</span>=<span style=\"color: #008000; text-decoration-color: #008000\">'1. \"Dreamt\" is the only English word that ends with the letters \"mt.\"\\n2. An ostrich\\'s </span>\n",
       "<span style=\"color: #008000; text-decoration-color: #008000\">eye is bigger than its brain.\\n3. Honey is the only natural food that is made without destroying any kind of </span>\n",
       "<span style=\"color: #008000; text-decoration-color: #008000\">life.'</span>,\n",
       "            <span style=\"color: #808000; text-decoration-color: #808000\">metadata</span>=<span style=\"font-weight: bold\">{</span><span style=\"color: #008000; text-decoration-color: #008000\">'source'</span>: <span style=\"color: #008000; text-decoration-color: #008000\">'data/facts.txt'</span><span style=\"font-weight: bold\">}</span>\n",
       "        <span style=\"font-weight: bold\">)</span>,\n",
       "        <span style=\"color: #800080; text-decoration-color: #800080; font-weight: bold\">Document</span><span style=\"font-weight: bold\">(</span>\n",
       "            <span style=\"color: #808000; text-decoration-color: #808000\">page_content</span>=<span style=\"color: #008000; text-decoration-color: #008000\">\"4. A snail can sleep for three years.\\n5. The longest word in the English language is </span>\n",
       "<span style=\"color: #008000; text-decoration-color: #008000\">'pneumonoultramicroscopicsilicovolcanoconiosis.'\\n6. The elephant is the only mammal that can't jump.\"</span>,\n",
       "            <span style=\"color: #808000; text-decoration-color: #808000\">metadata</span>=<span style=\"font-weight: bold\">{</span><span style=\"color: #008000; text-decoration-color: #008000\">'source'</span>: <span style=\"color: #008000; text-decoration-color: #008000\">'../../../data/facts.txt'</span><span style=\"font-weight: bold\">}</span>\n",
       "        <span style=\"font-weight: bold\">)</span>\n",
       "    <span style=\"font-weight: bold\">]</span>\n",
       "<span style=\"font-weight: bold\">}</span>\n",
       "</pre>\n"
      ],
      "text/plain": [
       "\u001b[1m{\u001b[0m\n",
       "    \u001b[32m'query'\u001b[0m: \u001b[32m'What is an interesting fact about the English language'\u001b[0m,\n",
       "    \u001b[32m'result'\u001b[0m: \u001b[32m'An interesting fact about the English language is that \"dreamt\" is the only English word that ends \u001b[0m\n",
       "\u001b[32mwith the letters \"mt.\"'\u001b[0m,\n",
       "    \u001b[32m'source_documents'\u001b[0m: \u001b[1m[\u001b[0m\n",
       "        \u001b[1;35mDocument\u001b[0m\u001b[1m(\u001b[0m\n",
       "            \u001b[33mpage_content\u001b[0m=\u001b[32m'1. \"Dreamt\" is the only English word that ends with the letters \"mt.\"\\n2. An ostrich\\'s \u001b[0m\n",
       "\u001b[32meye is bigger than its brain.\\n3. Honey is the only natural food that is made without destroying any kind of \u001b[0m\n",
       "\u001b[32mlife.'\u001b[0m,\n",
       "            \u001b[33mmetadata\u001b[0m=\u001b[1m{\u001b[0m\u001b[32m'source'\u001b[0m: \u001b[32m'../../../data/facts.txt'\u001b[0m\u001b[1m}\u001b[0m\n",
       "        \u001b[1m)\u001b[0m,\n",
       "        \u001b[1;35mDocument\u001b[0m\u001b[1m(\u001b[0m\n",
       "            \u001b[33mpage_content\u001b[0m=\u001b[32m'1. \"Dreamt\" is the only English word that ends with the letters \"mt.\"\\n2. An ostrich\\'s \u001b[0m\n",
       "\u001b[32meye is bigger than its brain.\\n3. Honey is the only natural food that is made without destroying any kind of \u001b[0m\n",
       "\u001b[32mlife.'\u001b[0m,\n",
       "            \u001b[33mmetadata\u001b[0m=\u001b[1m{\u001b[0m\u001b[32m'source'\u001b[0m: \u001b[32m'../../../data/facts.txt'\u001b[0m\u001b[1m}\u001b[0m\n",
       "        \u001b[1m)\u001b[0m,\n",
       "        \u001b[1;35mDocument\u001b[0m\u001b[1m(\u001b[0m\n",
       "            \u001b[33mpage_content\u001b[0m=\u001b[32m'1. \"Dreamt\" is the only English word that ends with the letters \"mt.\"\\n2. An ostrich\\'s \u001b[0m\n",
       "\u001b[32meye is bigger than its brain.\\n3. Honey is the only natural food that is made without destroying any kind of \u001b[0m\n",
       "\u001b[32mlife.'\u001b[0m,\n",
       "            \u001b[33mmetadata\u001b[0m=\u001b[1m{\u001b[0m\u001b[32m'source'\u001b[0m: \u001b[32m'data/facts.txt'\u001b[0m\u001b[1m}\u001b[0m\n",
       "        \u001b[1m)\u001b[0m,\n",
       "        \u001b[1;35mDocument\u001b[0m\u001b[1m(\u001b[0m\n",
       "            \u001b[33mpage_content\u001b[0m=\u001b[32m\"4\u001b[0m\u001b[32m. A snail can sleep for three years.\\n5. The longest word in the English language is \u001b[0m\n",
       "\u001b[32m'pneumonoultramicroscopicsilicovolcanoconiosis.'\\n6. The elephant is the only mammal that can't jump.\"\u001b[0m,\n",
       "            \u001b[33mmetadata\u001b[0m=\u001b[1m{\u001b[0m\u001b[32m'source'\u001b[0m: \u001b[32m'../../../data/facts.txt'\u001b[0m\u001b[1m}\u001b[0m\n",
       "        \u001b[1m)\u001b[0m\n",
       "    \u001b[1m]\u001b[0m\n",
       "\u001b[1m}\u001b[0m\n"
      ]
     },
     "metadata": {},
     "output_type": "display_data"
    }
   ],
   "source": [
    "query: str = \"What is an interesting fact about the English language\"\n",
    "\n",
    "# result: str = chain.run(query)\n",
    "result: dict[str, Any] = chain({\"query\": query})\n",
    "print(result)"
   ]
  },
  {
   "cell_type": "markdown",
   "metadata": {},
   "source": [
    "### Using The Debug Option\n",
    "\n",
    "```python\n",
    "import langchain\n",
    "\n",
    "langchain.debug = True\n",
    "```"
   ]
  },
  {
   "cell_type": "code",
   "execution_count": 34,
   "metadata": {},
   "outputs": [
    {
     "name": "stdout",
     "output_type": "stream",
     "text": [
      "\u001b[32;1m\u001b[1;3m[chain/start]\u001b[0m \u001b[1m[1:chain:RetrievalQA] Entering Chain run with input:\n",
      "\u001b[0m{\n",
      "  \"query\": \"What is an interesting fact about the English language\"\n",
      "}\n",
      "\u001b[32;1m\u001b[1;3m[chain/start]\u001b[0m \u001b[1m[1:chain:RetrievalQA > 3:chain:StuffDocumentsChain] Entering Chain run with input:\n",
      "\u001b[0m[inputs]\n",
      "\u001b[32;1m\u001b[1;3m[chain/start]\u001b[0m \u001b[1m[1:chain:RetrievalQA > 3:chain:StuffDocumentsChain > 4:chain:LLMChain] Entering Chain run with input:\n",
      "\u001b[0m{\n",
      "  \"question\": \"What is an interesting fact about the English language\",\n",
      "  \"context\": \"1. \\\"Dreamt\\\" is the only English word that ends with the letters \\\"mt.\\\"\\n2. An ostrich's eye is bigger than its brain.\\n3. Honey is the only natural food that is made without destroying any kind of life.\\n\\n1. \\\"Dreamt\\\" is the only English word that ends with the letters \\\"mt.\\\"\\n2. An ostrich's eye is bigger than its brain.\\n3. Honey is the only natural food that is made without destroying any kind of life.\\n\\n1. \\\"Dreamt\\\" is the only English word that ends with the letters \\\"mt.\\\"\\n2. An ostrich's eye is bigger than its brain.\\n3. Honey is the only natural food that is made without destroying any kind of life.\\n\\n4. A snail can sleep for three years.\\n5. The longest word in the English language is 'pneumonoultramicroscopicsilicovolcanoconiosis.'\\n6. The elephant is the only mammal that can't jump.\"\n",
      "}\n",
      "\u001b[32;1m\u001b[1;3m[llm/start]\u001b[0m \u001b[1m[1:chain:RetrievalQA > 3:chain:StuffDocumentsChain > 4:chain:LLMChain > 5:llm:ChatOpenAI] Entering LLM run with input:\n",
      "\u001b[0m{\n",
      "  \"prompts\": [\n",
      "    \"System: Use the following pieces of context to answer the users question. \\nIf you don't know the answer, just say that you don't know, don't try to make up an answer.\\n----------------\\n1. \\\"Dreamt\\\" is the only English word that ends with the letters \\\"mt.\\\"\\n2. An ostrich's eye is bigger than its brain.\\n3. Honey is the only natural food that is made without destroying any kind of life.\\n\\n1. \\\"Dreamt\\\" is the only English word that ends with the letters \\\"mt.\\\"\\n2. An ostrich's eye is bigger than its brain.\\n3. Honey is the only natural food that is made without destroying any kind of life.\\n\\n1. \\\"Dreamt\\\" is the only English word that ends with the letters \\\"mt.\\\"\\n2. An ostrich's eye is bigger than its brain.\\n3. Honey is the only natural food that is made without destroying any kind of life.\\n\\n4. A snail can sleep for three years.\\n5. The longest word in the English language is 'pneumonoultramicroscopicsilicovolcanoconiosis.'\\n6. The elephant is the only mammal that can't jump.\\nHuman: What is an interesting fact about the English language\"\n",
      "  ]\n",
      "}\n",
      "\u001b[36;1m\u001b[1;3m[llm/end]\u001b[0m \u001b[1m[1:chain:RetrievalQA > 3:chain:StuffDocumentsChain > 4:chain:LLMChain > 5:llm:ChatOpenAI] [1.38s] Exiting LLM run with output:\n",
      "\u001b[0m{\n",
      "  \"generations\": [\n",
      "    [\n",
      "      {\n",
      "        \"text\": \"An interesting fact about the English language is that \\\"dreamt\\\" is the only English word that ends with the letters \\\"mt.\\\"\",\n",
      "        \"generation_info\": {\n",
      "          \"finish_reason\": \"stop\"\n",
      "        },\n",
      "        \"message\": {\n",
      "          \"lc\": 1,\n",
      "          \"type\": \"constructor\",\n",
      "          \"id\": [\n",
      "            \"langchain\",\n",
      "            \"schema\",\n",
      "            \"messages\",\n",
      "            \"AIMessage\"\n",
      "          ],\n",
      "          \"kwargs\": {\n",
      "            \"content\": \"An interesting fact about the English language is that \\\"dreamt\\\" is the only English word that ends with the letters \\\"mt.\\\"\",\n",
      "            \"additional_kwargs\": {}\n",
      "          }\n",
      "        }\n",
      "      }\n",
      "    ]\n",
      "  ],\n",
      "  \"llm_output\": {\n",
      "    \"token_usage\": {\n",
      "      \"prompt_tokens\": 264,\n",
      "      \"completion_tokens\": 26,\n",
      "      \"total_tokens\": 290\n",
      "    },\n",
      "    \"model_name\": \"gpt-3.5-turbo\"\n",
      "  },\n",
      "  \"run\": null\n",
      "}\n",
      "\u001b[36;1m\u001b[1;3m[chain/end]\u001b[0m \u001b[1m[1:chain:RetrievalQA > 3:chain:StuffDocumentsChain > 4:chain:LLMChain] [1.38s] Exiting Chain run with output:\n",
      "\u001b[0m{\n",
      "  \"text\": \"An interesting fact about the English language is that \\\"dreamt\\\" is the only English word that ends with the letters \\\"mt.\\\"\"\n",
      "}\n",
      "\u001b[36;1m\u001b[1;3m[chain/end]\u001b[0m \u001b[1m[1:chain:RetrievalQA > 3:chain:StuffDocumentsChain] [1.38s] Exiting Chain run with output:\n",
      "\u001b[0m{\n",
      "  \"output_text\": \"An interesting fact about the English language is that \\\"dreamt\\\" is the only English word that ends with the letters \\\"mt.\\\"\"\n",
      "}\n",
      "\u001b[36;1m\u001b[1;3m[chain/end]\u001b[0m \u001b[1m[1:chain:RetrievalQA] [1.77s] Exiting Chain run with output:\n",
      "\u001b[0m[outputs]\n"
     ]
    },
    {
     "data": {
      "text/html": [
       "<pre style=\"white-space:pre;overflow-x:auto;line-height:normal;font-family:Menlo,'DejaVu Sans Mono',consolas,'Courier New',monospace\"><span style=\"font-weight: bold\">{</span>\n",
       "    <span style=\"color: #008000; text-decoration-color: #008000\">'query'</span>: <span style=\"color: #008000; text-decoration-color: #008000\">'What is an interesting fact about the English language'</span>,\n",
       "    <span style=\"color: #008000; text-decoration-color: #008000\">'result'</span>: <span style=\"color: #008000; text-decoration-color: #008000\">'An interesting fact about the English language is that \"dreamt\" is the only English word that ends </span>\n",
       "<span style=\"color: #008000; text-decoration-color: #008000\">with the letters \"mt.\"'</span>,\n",
       "    <span style=\"color: #008000; text-decoration-color: #008000\">'source_documents'</span>: <span style=\"font-weight: bold\">[</span>\n",
       "        <span style=\"color: #800080; text-decoration-color: #800080; font-weight: bold\">Document</span><span style=\"font-weight: bold\">(</span>\n",
       "            <span style=\"color: #808000; text-decoration-color: #808000\">page_content</span>=<span style=\"color: #008000; text-decoration-color: #008000\">'1. \"Dreamt\" is the only English word that ends with the letters \"mt.\"\\n2. An ostrich\\'s </span>\n",
       "<span style=\"color: #008000; text-decoration-color: #008000\">eye is bigger than its brain.\\n3. Honey is the only natural food that is made without destroying any kind of </span>\n",
       "<span style=\"color: #008000; text-decoration-color: #008000\">life.'</span>,\n",
       "            <span style=\"color: #808000; text-decoration-color: #808000\">metadata</span>=<span style=\"font-weight: bold\">{</span><span style=\"color: #008000; text-decoration-color: #008000\">'source'</span>: <span style=\"color: #008000; text-decoration-color: #008000\">'../../../data/facts.txt'</span><span style=\"font-weight: bold\">}</span>\n",
       "        <span style=\"font-weight: bold\">)</span>,\n",
       "        <span style=\"color: #800080; text-decoration-color: #800080; font-weight: bold\">Document</span><span style=\"font-weight: bold\">(</span>\n",
       "            <span style=\"color: #808000; text-decoration-color: #808000\">page_content</span>=<span style=\"color: #008000; text-decoration-color: #008000\">'1. \"Dreamt\" is the only English word that ends with the letters \"mt.\"\\n2. An ostrich\\'s </span>\n",
       "<span style=\"color: #008000; text-decoration-color: #008000\">eye is bigger than its brain.\\n3. Honey is the only natural food that is made without destroying any kind of </span>\n",
       "<span style=\"color: #008000; text-decoration-color: #008000\">life.'</span>,\n",
       "            <span style=\"color: #808000; text-decoration-color: #808000\">metadata</span>=<span style=\"font-weight: bold\">{</span><span style=\"color: #008000; text-decoration-color: #008000\">'source'</span>: <span style=\"color: #008000; text-decoration-color: #008000\">'../../../data/facts.txt'</span><span style=\"font-weight: bold\">}</span>\n",
       "        <span style=\"font-weight: bold\">)</span>,\n",
       "        <span style=\"color: #800080; text-decoration-color: #800080; font-weight: bold\">Document</span><span style=\"font-weight: bold\">(</span>\n",
       "            <span style=\"color: #808000; text-decoration-color: #808000\">page_content</span>=<span style=\"color: #008000; text-decoration-color: #008000\">'1. \"Dreamt\" is the only English word that ends with the letters \"mt.\"\\n2. An ostrich\\'s </span>\n",
       "<span style=\"color: #008000; text-decoration-color: #008000\">eye is bigger than its brain.\\n3. Honey is the only natural food that is made without destroying any kind of </span>\n",
       "<span style=\"color: #008000; text-decoration-color: #008000\">life.'</span>,\n",
       "            <span style=\"color: #808000; text-decoration-color: #808000\">metadata</span>=<span style=\"font-weight: bold\">{</span><span style=\"color: #008000; text-decoration-color: #008000\">'source'</span>: <span style=\"color: #008000; text-decoration-color: #008000\">'data/facts.txt'</span><span style=\"font-weight: bold\">}</span>\n",
       "        <span style=\"font-weight: bold\">)</span>,\n",
       "        <span style=\"color: #800080; text-decoration-color: #800080; font-weight: bold\">Document</span><span style=\"font-weight: bold\">(</span>\n",
       "            <span style=\"color: #808000; text-decoration-color: #808000\">page_content</span>=<span style=\"color: #008000; text-decoration-color: #008000\">\"4. A snail can sleep for three years.\\n5. The longest word in the English language is </span>\n",
       "<span style=\"color: #008000; text-decoration-color: #008000\">'pneumonoultramicroscopicsilicovolcanoconiosis.'\\n6. The elephant is the only mammal that can't jump.\"</span>,\n",
       "            <span style=\"color: #808000; text-decoration-color: #808000\">metadata</span>=<span style=\"font-weight: bold\">{</span><span style=\"color: #008000; text-decoration-color: #008000\">'source'</span>: <span style=\"color: #008000; text-decoration-color: #008000\">'../../../data/facts.txt'</span><span style=\"font-weight: bold\">}</span>\n",
       "        <span style=\"font-weight: bold\">)</span>\n",
       "    <span style=\"font-weight: bold\">]</span>\n",
       "<span style=\"font-weight: bold\">}</span>\n",
       "</pre>\n"
      ],
      "text/plain": [
       "\u001b[1m{\u001b[0m\n",
       "    \u001b[32m'query'\u001b[0m: \u001b[32m'What is an interesting fact about the English language'\u001b[0m,\n",
       "    \u001b[32m'result'\u001b[0m: \u001b[32m'An interesting fact about the English language is that \"dreamt\" is the only English word that ends \u001b[0m\n",
       "\u001b[32mwith the letters \"mt.\"'\u001b[0m,\n",
       "    \u001b[32m'source_documents'\u001b[0m: \u001b[1m[\u001b[0m\n",
       "        \u001b[1;35mDocument\u001b[0m\u001b[1m(\u001b[0m\n",
       "            \u001b[33mpage_content\u001b[0m=\u001b[32m'1. \"Dreamt\" is the only English word that ends with the letters \"mt.\"\\n2. An ostrich\\'s \u001b[0m\n",
       "\u001b[32meye is bigger than its brain.\\n3. Honey is the only natural food that is made without destroying any kind of \u001b[0m\n",
       "\u001b[32mlife.'\u001b[0m,\n",
       "            \u001b[33mmetadata\u001b[0m=\u001b[1m{\u001b[0m\u001b[32m'source'\u001b[0m: \u001b[32m'../../../data/facts.txt'\u001b[0m\u001b[1m}\u001b[0m\n",
       "        \u001b[1m)\u001b[0m,\n",
       "        \u001b[1;35mDocument\u001b[0m\u001b[1m(\u001b[0m\n",
       "            \u001b[33mpage_content\u001b[0m=\u001b[32m'1. \"Dreamt\" is the only English word that ends with the letters \"mt.\"\\n2. An ostrich\\'s \u001b[0m\n",
       "\u001b[32meye is bigger than its brain.\\n3. Honey is the only natural food that is made without destroying any kind of \u001b[0m\n",
       "\u001b[32mlife.'\u001b[0m,\n",
       "            \u001b[33mmetadata\u001b[0m=\u001b[1m{\u001b[0m\u001b[32m'source'\u001b[0m: \u001b[32m'../../../data/facts.txt'\u001b[0m\u001b[1m}\u001b[0m\n",
       "        \u001b[1m)\u001b[0m,\n",
       "        \u001b[1;35mDocument\u001b[0m\u001b[1m(\u001b[0m\n",
       "            \u001b[33mpage_content\u001b[0m=\u001b[32m'1. \"Dreamt\" is the only English word that ends with the letters \"mt.\"\\n2. An ostrich\\'s \u001b[0m\n",
       "\u001b[32meye is bigger than its brain.\\n3. Honey is the only natural food that is made without destroying any kind of \u001b[0m\n",
       "\u001b[32mlife.'\u001b[0m,\n",
       "            \u001b[33mmetadata\u001b[0m=\u001b[1m{\u001b[0m\u001b[32m'source'\u001b[0m: \u001b[32m'data/facts.txt'\u001b[0m\u001b[1m}\u001b[0m\n",
       "        \u001b[1m)\u001b[0m,\n",
       "        \u001b[1;35mDocument\u001b[0m\u001b[1m(\u001b[0m\n",
       "            \u001b[33mpage_content\u001b[0m=\u001b[32m\"4\u001b[0m\u001b[32m. A snail can sleep for three years.\\n5. The longest word in the English language is \u001b[0m\n",
       "\u001b[32m'pneumonoultramicroscopicsilicovolcanoconiosis.'\\n6. The elephant is the only mammal that can't jump.\"\u001b[0m,\n",
       "            \u001b[33mmetadata\u001b[0m=\u001b[1m{\u001b[0m\u001b[32m'source'\u001b[0m: \u001b[32m'../../../data/facts.txt'\u001b[0m\u001b[1m}\u001b[0m\n",
       "        \u001b[1m)\u001b[0m\n",
       "    \u001b[1m]\u001b[0m\n",
       "\u001b[1m}\u001b[0m\n"
      ]
     },
     "metadata": {},
     "output_type": "display_data"
    }
   ],
   "source": [
    "import langchain\n",
    "\n",
    "langchain.debug = True\n",
    "\n",
    "\n",
    "query: str = \"What is an interesting fact about the English language\"\n",
    "\n",
    "result: dict[str, Any] = chain({\"query\": query})\n",
    "print(result)"
   ]
  },
  {
   "cell_type": "code",
   "execution_count": 35,
   "metadata": {},
   "outputs": [
    {
     "data": {
      "text/plain": [
       "langchain.vectorstores.qdrant.Qdrant"
      ]
     },
     "execution_count": 35,
     "metadata": {},
     "output_type": "execute_result"
    }
   ],
   "source": [
    "type(qdrant)"
   ]
  },
  {
   "cell_type": "code",
   "execution_count": null,
   "metadata": {},
   "outputs": [],
   "source": []
  },
  {
   "cell_type": "code",
   "execution_count": null,
   "metadata": {},
   "outputs": [],
   "source": []
  }
 ],
 "metadata": {
  "kernelspec": {
   "display_name": "nlp_p310",
   "language": "python",
   "name": "python3"
  },
  "language_info": {
   "codemirror_mode": {
    "name": "ipython",
    "version": 3
   },
   "file_extension": ".py",
   "mimetype": "text/x-python",
   "name": "python",
   "nbconvert_exporter": "python",
   "pygments_lexer": "ipython3",
   "version": "3.10.9"
  }
 },
 "nbformat": 4,
 "nbformat_minor": 2
}
