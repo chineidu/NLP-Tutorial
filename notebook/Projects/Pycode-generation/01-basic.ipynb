{
 "cells": [
  {
   "cell_type": "markdown",
   "metadata": {},
   "source": [
    "# Langchain Intro"
   ]
  },
  {
   "cell_type": "code",
   "execution_count": 1,
   "metadata": {},
   "outputs": [],
   "source": [
    "# Built-in library\n",
    "import re\n",
    "import json\n",
    "from typing import Any, Optional, Union\n",
    "import logging\n",
    "import warnings\n",
    "\n",
    "# Standard imports\n",
    "import numpy as np\n",
    "from pathlib import Path\n",
    "import pandas as pd\n",
    "import polars as pl\n",
    "from pprint import pprint\n",
    "from rich import print\n",
    "import torch\n",
    "\n",
    "# Visualization\n",
    "import matplotlib.pyplot as plt\n",
    "\n",
    "\n",
    "# Pandas settings\n",
    "pd.options.display.max_rows = 1_000\n",
    "pd.options.display.max_columns = 1_000\n",
    "pd.options.display.max_colwidth = 600\n",
    "\n",
    "warnings.filterwarnings(\"ignore\")\n",
    "\n",
    "# Black code formatter (Optional)\n",
    "%load_ext lab_black\n",
    "\n",
    "# auto reload imports\n",
    "%load_ext autoreload\n",
    "%autoreload 2"
   ]
  },
  {
   "cell_type": "code",
   "execution_count": 2,
   "metadata": {},
   "outputs": [],
   "source": [
    "import os\n",
    "from dotenv import load_dotenv, find_dotenv\n",
    "\n",
    "from langchain.llms import OpenAI"
   ]
  },
  {
   "cell_type": "markdown",
   "metadata": {},
   "source": [
    "### Using A Basic OpenAI Langchain LLM\n",
    "\n",
    "- Without using a chain.\n",
    "- Very simplistic.\n",
    "\n",
    "<br>\n",
    "\n",
    "[![image.png](https://i.postimg.cc/cLyVwqrs/image.png)](https://postimg.cc/Mv5PJF74)\n"
   ]
  },
  {
   "cell_type": "code",
   "execution_count": 3,
   "metadata": {},
   "outputs": [],
   "source": [
    "_ = load_dotenv(find_dotenv())  # read local .env file\n",
    "OPENAI_API_KEY = os.getenv(\"OPENAI_API_KEY\")\n",
    "OPENAI_GPT_MODEL: str = \"gpt-3.5-turbo-instruct\"\n",
    "TEMPERATURE: float = 0.5"
   ]
  },
  {
   "cell_type": "code",
   "execution_count": 4,
   "metadata": {},
   "outputs": [
    {
     "data": {
      "text/html": [
       "<pre style=\"white-space:pre;overflow-x:auto;line-height:normal;font-family:Menlo,'DejaVu Sans Mono',consolas,'Courier New',monospace\">\n",
       "\n",
       "\"Sun shines bright,\n",
       "Birds take flight,\n",
       "Nature's delight,\n",
       "Pure and light.\"\n",
       "</pre>\n"
      ],
      "text/plain": [
       "\n",
       "\n",
       "\"Sun shines bright,\n",
       "Birds take flight,\n",
       "Nature's delight,\n",
       "Pure and light.\"\n"
      ]
     },
     "metadata": {},
     "output_type": "display_data"
    }
   ],
   "source": [
    "# Create LLM\n",
    "llm: OpenAI = OpenAI(\n",
    "    openai_api_key=OPENAI_API_KEY,\n",
    "    model=OPENAI_GPT_MODEL,\n",
    "    temperature=TEMPERATURE,\n",
    ")\n",
    "prompt: str = \"Write a very short poem.\"\n",
    "result = llm(prompt=prompt)\n",
    "\n",
    "print(result)"
   ]
  },
  {
   "cell_type": "markdown",
   "metadata": {},
   "source": [
    "## Updated Logic\n",
    "\n",
    "- Add Chains (from langchain)\n",
    "\n",
    "<br>\n",
    "\n",
    "[![image.png](https://i.postimg.cc/RVLp2WgH/image.png)](https://postimg.cc/0brCwyRk)"
   ]
  },
  {
   "cell_type": "code",
   "execution_count": 5,
   "metadata": {},
   "outputs": [],
   "source": [
    "from langchain.chains import LLMChain\n",
    "from langchain.prompts import PromptTemplate"
   ]
  },
  {
   "cell_type": "markdown",
   "metadata": {},
   "source": [
    "### LLM Chain\n",
    "\n",
    "[![image.png](https://i.postimg.cc/05VBzdbB/image.png)](https://postimg.cc/0rJf3SGY)"
   ]
  },
  {
   "cell_type": "code",
   "execution_count": 6,
   "metadata": {},
   "outputs": [
    {
     "data": {
      "text/html": [
       "<pre style=\"white-space:pre;overflow-x:auto;line-height:normal;font-family:Menlo,'DejaVu Sans Mono',consolas,'Courier New',monospace\"><span style=\"font-weight: bold\">{</span>\n",
       "    <span style=\"color: #008000; text-decoration-color: #008000\">'language'</span>: <span style=\"color: #008000; text-decoration-color: #008000\">'Python'</span>,\n",
       "    <span style=\"color: #008000; text-decoration-color: #008000\">'task'</span>: <span style=\"color: #008000; text-decoration-color: #008000\">'generate a list of numbers'</span>,\n",
       "    <span style=\"color: #008000; text-decoration-color: #008000\">'text'</span>: <span style=\"color: #008000; text-decoration-color: #008000\">'\\n\\ndef generate_list(n):\\n    return list(range(n))'</span>\n",
       "<span style=\"font-weight: bold\">}</span>\n",
       "</pre>\n"
      ],
      "text/plain": [
       "\u001b[1m{\u001b[0m\n",
       "    \u001b[32m'language'\u001b[0m: \u001b[32m'Python'\u001b[0m,\n",
       "    \u001b[32m'task'\u001b[0m: \u001b[32m'generate a list of numbers'\u001b[0m,\n",
       "    \u001b[32m'text'\u001b[0m: \u001b[32m'\\n\\ndef generate_list\u001b[0m\u001b[32m(\u001b[0m\u001b[32mn\u001b[0m\u001b[32m)\u001b[0m\u001b[32m:\\n    return list\u001b[0m\u001b[32m(\u001b[0m\u001b[32mrange\u001b[0m\u001b[32m(\u001b[0m\u001b[32mn\u001b[0m\u001b[32m)\u001b[0m\u001b[32m)\u001b[0m\u001b[32m'\u001b[0m\n",
       "\u001b[1m}\u001b[0m\n"
      ]
     },
     "metadata": {},
     "output_type": "display_data"
    }
   ],
   "source": [
    "# Used for text completion LLMs\n",
    "prompt_template: str = \"\"\"Write a very short {language} function that will {task}\"\"\"\n",
    "code_prompt: PromptTemplate = PromptTemplate(\n",
    "    input_variables=[\"language\", \"task\"], template=prompt_template\n",
    ")\n",
    "code_chain: LLMChain = LLMChain(llm=llm, prompt=code_prompt)\n",
    "\n",
    "# Hardcoded inputs!\n",
    "language, task = (\"Python\", \"generate a list of numbers\")\n",
    "\n",
    "result = code_chain(inputs={\"language\": language, \"task\": task})\n",
    "print(result)"
   ]
  },
  {
   "cell_type": "code",
   "execution_count": 7,
   "metadata": {},
   "outputs": [
    {
     "data": {
      "text/html": [
       "<pre style=\"white-space:pre;overflow-x:auto;line-height:normal;font-family:Menlo,'DejaVu Sans Mono',consolas,'Courier New',monospace\">\n",
       "\n",
       "def <span style=\"color: #800080; text-decoration-color: #800080; font-weight: bold\">generate_list</span><span style=\"font-weight: bold\">(</span>n<span style=\"font-weight: bold\">)</span>:\n",
       "    return <span style=\"color: #800080; text-decoration-color: #800080; font-weight: bold\">list</span><span style=\"font-weight: bold\">(</span><span style=\"color: #800080; text-decoration-color: #800080; font-weight: bold\">range</span><span style=\"font-weight: bold\">(</span>n<span style=\"font-weight: bold\">))</span>\n",
       "</pre>\n"
      ],
      "text/plain": [
       "\n",
       "\n",
       "def \u001b[1;35mgenerate_list\u001b[0m\u001b[1m(\u001b[0mn\u001b[1m)\u001b[0m:\n",
       "    return \u001b[1;35mlist\u001b[0m\u001b[1m(\u001b[0m\u001b[1;35mrange\u001b[0m\u001b[1m(\u001b[0mn\u001b[1m)\u001b[0m\u001b[1m)\u001b[0m\n"
      ]
     },
     "metadata": {},
     "output_type": "display_data"
    }
   ],
   "source": [
    "print(result.get(\"text\"))"
   ]
  },
  {
   "cell_type": "markdown",
   "metadata": {},
   "source": [
    "## Connecting Chains Together\n",
    "\n",
    "- Chains in series (sequential chain)\n",
    "\n",
    "<br>\n",
    "\n",
    "[![image.png](https://i.postimg.cc/8Cdgm9wV/image.png)](https://postimg.cc/GBpfcMZM)"
   ]
  },
  {
   "cell_type": "code",
   "execution_count": 8,
   "metadata": {},
   "outputs": [
    {
     "data": {
      "text/html": [
       "<pre style=\"white-space:pre;overflow-x:auto;line-height:normal;font-family:Menlo,'DejaVu Sans Mono',consolas,'Courier New',monospace\"><span style=\"font-weight: bold\">{</span>\n",
       "    <span style=\"color: #008000; text-decoration-color: #008000\">'language'</span>: <span style=\"color: #008000; text-decoration-color: #008000\">'Python'</span>,\n",
       "    <span style=\"color: #008000; text-decoration-color: #008000\">'task'</span>: <span style=\"color: #008000; text-decoration-color: #008000\">'generate a list of numbers'</span>,\n",
       "    <span style=\"color: #008000; text-decoration-color: #008000\">'code'</span>: <span style=\"color: #008000; text-decoration-color: #008000\">'\\n\\ndef generate_list(start, end):\\n    return list(range(start, end+1))'</span>,\n",
       "    <span style=\"color: #008000; text-decoration-color: #008000\">'test'</span>: <span style=\"color: #008000; text-decoration-color: #008000\">'\\n\\nimport unittest\\n\\nclass TestGenerateList(unittest.TestCase):\\n    \\n    def </span>\n",
       "<span style=\"color: #008000; text-decoration-color: #008000\">test_generate_list(self):\\n        # Test list generation with positive numbers\\n        </span>\n",
       "<span style=\"color: #008000; text-decoration-color: #008000\">self.assertEqual(generate_list(1,5), [1,2,3,4,5])\\n        \\n        # Test list generation with negative numbers\\n</span>\n",
       "<span style=\"color: #008000; text-decoration-color: #008000\">self.assertEqual(generate_list(-5,0), [-5,-4,-3,-2,-1,0])\\n        \\n        # Test list generation with start and </span>\n",
       "<span style=\"color: #008000; text-decoration-color: #008000\">end being the same number\\n        self.assertEqual(generate_list(1,1), [1])\\n        \\n        # Test list </span>\n",
       "<span style=\"color: #008000; text-decoration-color: #008000\">generation with start and end being negative numbers\\n        self.assertEqual(generate_list(-10,-5), </span>\n",
       "<span style=\"color: #008000; text-decoration-color: #008000\">[-10,-9,-8,-7,-6,-5])\\n        \\n        # Test list generation with start and end being decimal numbers\\n        </span>\n",
       "<span style=\"color: #008000; text-decoration-color: #008000\">self.assertEqual(generate_list(1.5,5.5), [1.5,2.5,3.5,4.5,5.5])\\n        \\n        # Test list generation with </span>\n",
       "<span style=\"color: #008000; text-decoration-color: #008000\">start and end being non-integer numbers\\n        self.assertEqual(generate_list(1.5,3.5), [1.5,2.5,3.5])\\n        </span>\n",
       "<span style=\"color: #008000; text-decoration-color: #008000\">\\n        # Test list generation with start and end being'</span>\n",
       "<span style=\"font-weight: bold\">}</span>\n",
       "</pre>\n"
      ],
      "text/plain": [
       "\u001b[1m{\u001b[0m\n",
       "    \u001b[32m'language'\u001b[0m: \u001b[32m'Python'\u001b[0m,\n",
       "    \u001b[32m'task'\u001b[0m: \u001b[32m'generate a list of numbers'\u001b[0m,\n",
       "    \u001b[32m'code'\u001b[0m: \u001b[32m'\\n\\ndef generate_list\u001b[0m\u001b[32m(\u001b[0m\u001b[32mstart, end\u001b[0m\u001b[32m)\u001b[0m\u001b[32m:\\n    return list\u001b[0m\u001b[32m(\u001b[0m\u001b[32mrange\u001b[0m\u001b[32m(\u001b[0m\u001b[32mstart, end+1\u001b[0m\u001b[32m)\u001b[0m\u001b[32m)\u001b[0m\u001b[32m'\u001b[0m,\n",
       "    \u001b[32m'test'\u001b[0m: \u001b[32m'\\n\\nimport unittest\\n\\nclass TestGenerateList\u001b[0m\u001b[32m(\u001b[0m\u001b[32munittest.TestCase\u001b[0m\u001b[32m)\u001b[0m\u001b[32m:\\n    \\n    def \u001b[0m\n",
       "\u001b[32mtest_generate_list\u001b[0m\u001b[32m(\u001b[0m\u001b[32mself\u001b[0m\u001b[32m)\u001b[0m\u001b[32m:\\n        # Test list generation with positive numbers\\n        \u001b[0m\n",
       "\u001b[32mself.assertEqual\u001b[0m\u001b[32m(\u001b[0m\u001b[32mgenerate_list\u001b[0m\u001b[32m(\u001b[0m\u001b[32m1,5\u001b[0m\u001b[32m)\u001b[0m\u001b[32m, \u001b[0m\u001b[32m[\u001b[0m\u001b[32m1,2,3,4,5\u001b[0m\u001b[32m]\u001b[0m\u001b[32m)\u001b[0m\u001b[32m\\n        \\n        # Test list generation with negative numbers\\n\u001b[0m\n",
       "\u001b[32mself.assertEqual\u001b[0m\u001b[32m(\u001b[0m\u001b[32mgenerate_list\u001b[0m\u001b[32m(\u001b[0m\u001b[32m-5,0\u001b[0m\u001b[32m)\u001b[0m\u001b[32m, \u001b[0m\u001b[32m[\u001b[0m\u001b[32m-5,-4,-3,-2,-1,0\u001b[0m\u001b[32m]\u001b[0m\u001b[32m)\u001b[0m\u001b[32m\\n        \\n        # Test list generation with start and \u001b[0m\n",
       "\u001b[32mend being the same number\\n        self.assertEqual\u001b[0m\u001b[32m(\u001b[0m\u001b[32mgenerate_list\u001b[0m\u001b[32m(\u001b[0m\u001b[32m1,1\u001b[0m\u001b[32m)\u001b[0m\u001b[32m, \u001b[0m\u001b[32m[\u001b[0m\u001b[32m1\u001b[0m\u001b[32m]\u001b[0m\u001b[32m)\u001b[0m\u001b[32m\\n        \\n        # Test list \u001b[0m\n",
       "\u001b[32mgeneration with start and end being negative numbers\\n        self.assertEqual\u001b[0m\u001b[32m(\u001b[0m\u001b[32mgenerate_list\u001b[0m\u001b[32m(\u001b[0m\u001b[32m-10,-5\u001b[0m\u001b[32m)\u001b[0m\u001b[32m, \u001b[0m\n",
       "\u001b[32m[\u001b[0m\u001b[32m-10,-9,-8,-7,-6,-5\u001b[0m\u001b[32m]\u001b[0m\u001b[32m)\u001b[0m\u001b[32m\\n        \\n        # Test list generation with start and end being decimal numbers\\n        \u001b[0m\n",
       "\u001b[32mself.assertEqual\u001b[0m\u001b[32m(\u001b[0m\u001b[32mgenerate_list\u001b[0m\u001b[32m(\u001b[0m\u001b[32m1.5,5.5\u001b[0m\u001b[32m)\u001b[0m\u001b[32m, \u001b[0m\u001b[32m[\u001b[0m\u001b[32m1.5,2.5,3.5,4.5,5.5\u001b[0m\u001b[32m]\u001b[0m\u001b[32m)\u001b[0m\u001b[32m\\n        \\n        # Test list generation with \u001b[0m\n",
       "\u001b[32mstart and end being non-integer numbers\\n        self.assertEqual\u001b[0m\u001b[32m(\u001b[0m\u001b[32mgenerate_list\u001b[0m\u001b[32m(\u001b[0m\u001b[32m1.5,3.5\u001b[0m\u001b[32m)\u001b[0m\u001b[32m, \u001b[0m\u001b[32m[\u001b[0m\u001b[32m1.5,2.5,3.5\u001b[0m\u001b[32m]\u001b[0m\u001b[32m)\u001b[0m\u001b[32m\\n        \u001b[0m\n",
       "\u001b[32m\\n        # Test list generation with start and end being'\u001b[0m\n",
       "\u001b[1m}\u001b[0m\n"
      ]
     },
     "metadata": {},
     "output_type": "display_data"
    }
   ],
   "source": [
    "from langchain.chains import SequentialChain\n",
    "\n",
    "# Used for text completion LLMs\n",
    "code_prompt_template: str = (\n",
    "    \"\"\"Write a very short {language} function that will {task}\"\"\"\n",
    ")\n",
    "unittest_prompt_template: str = (\n",
    "    \"\"\"Write a unit test for the following {language} code: \\n{code}\"\"\"\n",
    ")\n",
    "\n",
    "# Propmt(s)\n",
    "code_prompt: PromptTemplate = PromptTemplate(\n",
    "    input_variables=[\"language\", \"task\"], template=code_prompt_template\n",
    ")\n",
    "unittest_prompt: PromptTemplate = PromptTemplate(\n",
    "    input_variables=[\"language\", \"code\"], template=unittest_prompt_template\n",
    ")\n",
    "\n",
    "# Chain(s)\n",
    "code_chain: LLMChain = LLMChain(\n",
    "    llm=llm,\n",
    "    prompt=code_prompt,\n",
    "    output_key=\"code\",  # from text to code\n",
    ")\n",
    "unittest_chain: LLMChain = LLMChain(\n",
    "    llm=llm,\n",
    "    prompt=unittest_prompt,\n",
    "    output_key=\"test\",  # from text to test\n",
    ")\n",
    "# Feed the output of code_chain into unittest_chain\n",
    "final_chain: SequentialChain = SequentialChain(\n",
    "    chains=[code_chain, unittest_chain],\n",
    "    input_variables=[\"language\", \"task\"],\n",
    "    output_variables=[\"code\", \"test\"],\n",
    ")\n",
    "# Hardcoded inputs!\n",
    "language, task = (\"Python\", \"generate a list of numbers\")\n",
    "\n",
    "result = final_chain(inputs={\"language\": language, \"task\": task})\n",
    "print(result)"
   ]
  },
  {
   "cell_type": "code",
   "execution_count": 9,
   "metadata": {},
   "outputs": [
    {
     "data": {
      "text/html": [
       "<pre style=\"white-space:pre;overflow-x:auto;line-height:normal;font-family:Menlo,'DejaVu Sans Mono',consolas,'Courier New',monospace\">\n",
       "\n",
       "import unittest\n",
       "\n",
       "class <span style=\"color: #800080; text-decoration-color: #800080; font-weight: bold\">TestGenerateList</span><span style=\"font-weight: bold\">(</span>unittest.TestCase<span style=\"font-weight: bold\">)</span>:\n",
       "    \n",
       "    def <span style=\"color: #800080; text-decoration-color: #800080; font-weight: bold\">test_generate_list</span><span style=\"font-weight: bold\">(</span>self<span style=\"font-weight: bold\">)</span>:\n",
       "        # Test list generation with positive numbers\n",
       "        <span style=\"color: #800080; text-decoration-color: #800080; font-weight: bold\">self.assertEqual</span><span style=\"font-weight: bold\">(</span><span style=\"color: #800080; text-decoration-color: #800080; font-weight: bold\">generate_list</span><span style=\"font-weight: bold\">(</span><span style=\"color: #008080; text-decoration-color: #008080; font-weight: bold\">1</span>,<span style=\"color: #008080; text-decoration-color: #008080; font-weight: bold\">5</span><span style=\"font-weight: bold\">)</span>, <span style=\"font-weight: bold\">[</span><span style=\"color: #008080; text-decoration-color: #008080; font-weight: bold\">1</span>,<span style=\"color: #008080; text-decoration-color: #008080; font-weight: bold\">2</span>,<span style=\"color: #008080; text-decoration-color: #008080; font-weight: bold\">3</span>,<span style=\"color: #008080; text-decoration-color: #008080; font-weight: bold\">4</span>,<span style=\"color: #008080; text-decoration-color: #008080; font-weight: bold\">5</span><span style=\"font-weight: bold\">])</span>\n",
       "        \n",
       "        # Test list generation with negative numbers\n",
       "        <span style=\"color: #800080; text-decoration-color: #800080; font-weight: bold\">self.assertEqual</span><span style=\"font-weight: bold\">(</span><span style=\"color: #800080; text-decoration-color: #800080; font-weight: bold\">generate_list</span><span style=\"font-weight: bold\">(</span><span style=\"color: #008080; text-decoration-color: #008080; font-weight: bold\">-5</span>,<span style=\"color: #008080; text-decoration-color: #008080; font-weight: bold\">0</span><span style=\"font-weight: bold\">)</span>, <span style=\"font-weight: bold\">[</span><span style=\"color: #008080; text-decoration-color: #008080; font-weight: bold\">-5</span>,<span style=\"color: #008080; text-decoration-color: #008080; font-weight: bold\">-4</span>,<span style=\"color: #008080; text-decoration-color: #008080; font-weight: bold\">-3</span>,<span style=\"color: #008080; text-decoration-color: #008080; font-weight: bold\">-2</span>,<span style=\"color: #008080; text-decoration-color: #008080; font-weight: bold\">-1</span>,<span style=\"color: #008080; text-decoration-color: #008080; font-weight: bold\">0</span><span style=\"font-weight: bold\">])</span>\n",
       "        \n",
       "        # Test list generation with start and end being the same number\n",
       "        <span style=\"color: #800080; text-decoration-color: #800080; font-weight: bold\">self.assertEqual</span><span style=\"font-weight: bold\">(</span><span style=\"color: #800080; text-decoration-color: #800080; font-weight: bold\">generate_list</span><span style=\"font-weight: bold\">(</span><span style=\"color: #008080; text-decoration-color: #008080; font-weight: bold\">1</span>,<span style=\"color: #008080; text-decoration-color: #008080; font-weight: bold\">1</span><span style=\"font-weight: bold\">)</span>, <span style=\"font-weight: bold\">[</span><span style=\"color: #008080; text-decoration-color: #008080; font-weight: bold\">1</span><span style=\"font-weight: bold\">])</span>\n",
       "        \n",
       "        # Test list generation with start and end being negative numbers\n",
       "        <span style=\"color: #800080; text-decoration-color: #800080; font-weight: bold\">self.assertEqual</span><span style=\"font-weight: bold\">(</span><span style=\"color: #800080; text-decoration-color: #800080; font-weight: bold\">generate_list</span><span style=\"font-weight: bold\">(</span><span style=\"color: #008080; text-decoration-color: #008080; font-weight: bold\">-10</span>,<span style=\"color: #008080; text-decoration-color: #008080; font-weight: bold\">-5</span><span style=\"font-weight: bold\">)</span>, <span style=\"font-weight: bold\">[</span><span style=\"color: #008080; text-decoration-color: #008080; font-weight: bold\">-10</span>,<span style=\"color: #008080; text-decoration-color: #008080; font-weight: bold\">-9</span>,<span style=\"color: #008080; text-decoration-color: #008080; font-weight: bold\">-8</span>,<span style=\"color: #008080; text-decoration-color: #008080; font-weight: bold\">-7</span>,<span style=\"color: #008080; text-decoration-color: #008080; font-weight: bold\">-6</span>,<span style=\"color: #008080; text-decoration-color: #008080; font-weight: bold\">-5</span><span style=\"font-weight: bold\">])</span>\n",
       "        \n",
       "        # Test list generation with start and end being decimal numbers\n",
       "        <span style=\"color: #800080; text-decoration-color: #800080; font-weight: bold\">self.assertEqual</span><span style=\"font-weight: bold\">(</span><span style=\"color: #800080; text-decoration-color: #800080; font-weight: bold\">generate_list</span><span style=\"font-weight: bold\">(</span><span style=\"color: #008080; text-decoration-color: #008080; font-weight: bold\">1.5</span>,<span style=\"color: #008080; text-decoration-color: #008080; font-weight: bold\">5.5</span><span style=\"font-weight: bold\">)</span>, <span style=\"font-weight: bold\">[</span><span style=\"color: #008080; text-decoration-color: #008080; font-weight: bold\">1.5</span>,<span style=\"color: #008080; text-decoration-color: #008080; font-weight: bold\">2.5</span>,<span style=\"color: #008080; text-decoration-color: #008080; font-weight: bold\">3.5</span>,<span style=\"color: #008080; text-decoration-color: #008080; font-weight: bold\">4.5</span>,<span style=\"color: #008080; text-decoration-color: #008080; font-weight: bold\">5.5</span><span style=\"font-weight: bold\">])</span>\n",
       "        \n",
       "        # Test list generation with start and end being non-integer numbers\n",
       "        <span style=\"color: #800080; text-decoration-color: #800080; font-weight: bold\">self.assertEqual</span><span style=\"font-weight: bold\">(</span><span style=\"color: #800080; text-decoration-color: #800080; font-weight: bold\">generate_list</span><span style=\"font-weight: bold\">(</span><span style=\"color: #008080; text-decoration-color: #008080; font-weight: bold\">1.5</span>,<span style=\"color: #008080; text-decoration-color: #008080; font-weight: bold\">3.5</span><span style=\"font-weight: bold\">)</span>, <span style=\"font-weight: bold\">[</span><span style=\"color: #008080; text-decoration-color: #008080; font-weight: bold\">1.5</span>,<span style=\"color: #008080; text-decoration-color: #008080; font-weight: bold\">2.5</span>,<span style=\"color: #008080; text-decoration-color: #008080; font-weight: bold\">3.5</span><span style=\"font-weight: bold\">])</span>\n",
       "        \n",
       "        # Test list generation with start and end being\n",
       "</pre>\n"
      ],
      "text/plain": [
       "\n",
       "\n",
       "import unittest\n",
       "\n",
       "class \u001b[1;35mTestGenerateList\u001b[0m\u001b[1m(\u001b[0munittest.TestCase\u001b[1m)\u001b[0m:\n",
       "    \n",
       "    def \u001b[1;35mtest_generate_list\u001b[0m\u001b[1m(\u001b[0mself\u001b[1m)\u001b[0m:\n",
       "        # Test list generation with positive numbers\n",
       "        \u001b[1;35mself.assertEqual\u001b[0m\u001b[1m(\u001b[0m\u001b[1;35mgenerate_list\u001b[0m\u001b[1m(\u001b[0m\u001b[1;36m1\u001b[0m,\u001b[1;36m5\u001b[0m\u001b[1m)\u001b[0m, \u001b[1m[\u001b[0m\u001b[1;36m1\u001b[0m,\u001b[1;36m2\u001b[0m,\u001b[1;36m3\u001b[0m,\u001b[1;36m4\u001b[0m,\u001b[1;36m5\u001b[0m\u001b[1m]\u001b[0m\u001b[1m)\u001b[0m\n",
       "        \n",
       "        # Test list generation with negative numbers\n",
       "        \u001b[1;35mself.assertEqual\u001b[0m\u001b[1m(\u001b[0m\u001b[1;35mgenerate_list\u001b[0m\u001b[1m(\u001b[0m\u001b[1;36m-5\u001b[0m,\u001b[1;36m0\u001b[0m\u001b[1m)\u001b[0m, \u001b[1m[\u001b[0m\u001b[1;36m-5\u001b[0m,\u001b[1;36m-4\u001b[0m,\u001b[1;36m-3\u001b[0m,\u001b[1;36m-2\u001b[0m,\u001b[1;36m-1\u001b[0m,\u001b[1;36m0\u001b[0m\u001b[1m]\u001b[0m\u001b[1m)\u001b[0m\n",
       "        \n",
       "        # Test list generation with start and end being the same number\n",
       "        \u001b[1;35mself.assertEqual\u001b[0m\u001b[1m(\u001b[0m\u001b[1;35mgenerate_list\u001b[0m\u001b[1m(\u001b[0m\u001b[1;36m1\u001b[0m,\u001b[1;36m1\u001b[0m\u001b[1m)\u001b[0m, \u001b[1m[\u001b[0m\u001b[1;36m1\u001b[0m\u001b[1m]\u001b[0m\u001b[1m)\u001b[0m\n",
       "        \n",
       "        # Test list generation with start and end being negative numbers\n",
       "        \u001b[1;35mself.assertEqual\u001b[0m\u001b[1m(\u001b[0m\u001b[1;35mgenerate_list\u001b[0m\u001b[1m(\u001b[0m\u001b[1;36m-10\u001b[0m,\u001b[1;36m-5\u001b[0m\u001b[1m)\u001b[0m, \u001b[1m[\u001b[0m\u001b[1;36m-10\u001b[0m,\u001b[1;36m-9\u001b[0m,\u001b[1;36m-8\u001b[0m,\u001b[1;36m-7\u001b[0m,\u001b[1;36m-6\u001b[0m,\u001b[1;36m-5\u001b[0m\u001b[1m]\u001b[0m\u001b[1m)\u001b[0m\n",
       "        \n",
       "        # Test list generation with start and end being decimal numbers\n",
       "        \u001b[1;35mself.assertEqual\u001b[0m\u001b[1m(\u001b[0m\u001b[1;35mgenerate_list\u001b[0m\u001b[1m(\u001b[0m\u001b[1;36m1.5\u001b[0m,\u001b[1;36m5.5\u001b[0m\u001b[1m)\u001b[0m, \u001b[1m[\u001b[0m\u001b[1;36m1.5\u001b[0m,\u001b[1;36m2.5\u001b[0m,\u001b[1;36m3.5\u001b[0m,\u001b[1;36m4.5\u001b[0m,\u001b[1;36m5.5\u001b[0m\u001b[1m]\u001b[0m\u001b[1m)\u001b[0m\n",
       "        \n",
       "        # Test list generation with start and end being non-integer numbers\n",
       "        \u001b[1;35mself.assertEqual\u001b[0m\u001b[1m(\u001b[0m\u001b[1;35mgenerate_list\u001b[0m\u001b[1m(\u001b[0m\u001b[1;36m1.5\u001b[0m,\u001b[1;36m3.5\u001b[0m\u001b[1m)\u001b[0m, \u001b[1m[\u001b[0m\u001b[1;36m1.5\u001b[0m,\u001b[1;36m2.5\u001b[0m,\u001b[1;36m3.5\u001b[0m\u001b[1m]\u001b[0m\u001b[1m)\u001b[0m\n",
       "        \n",
       "        # Test list generation with start and end being\n"
      ]
     },
     "metadata": {},
     "output_type": "display_data"
    }
   ],
   "source": [
    "# Output of the unittest_chain (key=\"test\")\n",
    "print(result.get(\"test\"))"
   ]
  },
  {
   "cell_type": "markdown",
   "metadata": {},
   "source": [
    "<hr><br>\n",
    "\n",
    "# Simple Terminal Chatbot\n",
    "\n",
    "<br>\n",
    "\n",
    "### Chat Model\n",
    "\n",
    "- It's optimized for conversations.\n",
    "- It has the following inputs:\n",
    "  - System Message\n",
    "  - Human Message\n",
    "  - AI/Assistant Message\n",
    "  \n",
    "[![image.png](https://i.postimg.cc/FRgxXmJ6/image.png)](https://postimg.cc/YG0FQ5RN)\n",
    "\n",
    "<br>\n",
    "\n",
    "### ChatPrompt Template\n",
    "\n",
    "[![image.png](https://i.postimg.cc/s2nTM32Z/image.png)](https://postimg.cc/4K96MkVJ)"
   ]
  },
  {
   "cell_type": "code",
   "execution_count": 10,
   "metadata": {},
   "outputs": [
    {
     "ename": "NameError",
     "evalue": "name 'dd' is not defined",
     "output_type": "error",
     "traceback": [
      "\u001b[0;31m---------------------------------------------------------------------------\u001b[0m",
      "\u001b[0;31mNameError\u001b[0m                                 Traceback (most recent call last)",
      "Cell \u001b[0;32mIn[10], line 1\u001b[0m\n\u001b[0;32m----> 1\u001b[0m \u001b[43mdd\u001b[49m\n",
      "\u001b[0;31mNameError\u001b[0m: name 'dd' is not defined"
     ]
    }
   ],
   "source": [
    "dd"
   ]
  },
  {
   "cell_type": "code",
   "execution_count": null,
   "metadata": {},
   "outputs": [],
   "source": []
  },
  {
   "cell_type": "code",
   "execution_count": null,
   "metadata": {},
   "outputs": [],
   "source": []
  },
  {
   "cell_type": "code",
   "execution_count": null,
   "metadata": {},
   "outputs": [],
   "source": []
  },
  {
   "cell_type": "code",
   "execution_count": null,
   "metadata": {},
   "outputs": [],
   "source": []
  },
  {
   "cell_type": "code",
   "execution_count": null,
   "metadata": {},
   "outputs": [],
   "source": []
  }
 ],
 "metadata": {
  "kernelspec": {
   "display_name": "nlp_p310",
   "language": "python",
   "name": "python3"
  },
  "language_info": {
   "codemirror_mode": {
    "name": "ipython",
    "version": 3
   },
   "file_extension": ".py",
   "mimetype": "text/x-python",
   "name": "python",
   "nbconvert_exporter": "python",
   "pygments_lexer": "ipython3",
   "version": "3.10.9"
  }
 },
 "nbformat": 4,
 "nbformat_minor": 2
}
