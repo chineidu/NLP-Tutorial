{
 "cells": [
  {
   "cell_type": "markdown",
   "metadata": {},
   "source": [
    "# Pycode Generator"
   ]
  },
  {
   "cell_type": "code",
   "execution_count": 1,
   "metadata": {},
   "outputs": [],
   "source": [
    "# Built-in library\n",
    "import re\n",
    "import json\n",
    "from typing import Any, Optional, Union\n",
    "import logging\n",
    "import warnings\n",
    "\n",
    "# Standard imports\n",
    "import numpy as np\n",
    "from pathlib import Path\n",
    "import pandas as pd\n",
    "import polars as pl\n",
    "from pprint import pprint\n",
    "from rich import print\n",
    "import torch\n",
    "\n",
    "# Visualization\n",
    "import matplotlib.pyplot as plt\n",
    "\n",
    "\n",
    "# Pandas settings\n",
    "pd.options.display.max_rows = 1_000\n",
    "pd.options.display.max_columns = 1_000\n",
    "pd.options.display.max_colwidth = 600\n",
    "\n",
    "warnings.filterwarnings(\"ignore\")\n",
    "\n",
    "# Black code formatter (Optional)\n",
    "%load_ext lab_black\n",
    "\n",
    "# auto reload imports\n",
    "%load_ext autoreload\n",
    "%autoreload 2"
   ]
  },
  {
   "cell_type": "code",
   "execution_count": 2,
   "metadata": {},
   "outputs": [],
   "source": [
    "import os\n",
    "from dotenv import load_dotenv, find_dotenv\n",
    "\n",
    "from langchain.llms import OpenAI"
   ]
  },
  {
   "cell_type": "markdown",
   "metadata": {},
   "source": [
    "### Using A Basic OpenAI Langchain LLM\n",
    "\n",
    "- Without using a chain.\n",
    "- Very simplistic.\n",
    "\n",
    "<br>\n",
    "\n",
    "[![image.png](https://i.postimg.cc/cLyVwqrs/image.png)](https://postimg.cc/Mv5PJF74)\n"
   ]
  },
  {
   "cell_type": "code",
   "execution_count": 3,
   "metadata": {},
   "outputs": [],
   "source": [
    "_ = load_dotenv(find_dotenv())  # read local .env file\n",
    "OPENAI_API_KEY = os.getenv(\"OPENAI_API_KEY\")"
   ]
  },
  {
   "cell_type": "code",
   "execution_count": 4,
   "metadata": {},
   "outputs": [
    {
     "data": {
      "text/html": [
       "<pre style=\"white-space:pre;overflow-x:auto;line-height:normal;font-family:Menlo,'DejaVu Sans Mono',consolas,'Courier New',monospace\">\n",
       "\n",
       "A sky of blue,\n",
       "A sun so bright,\n",
       "A day full of joy,\n",
       "A delight.\n",
       "</pre>\n"
      ],
      "text/plain": [
       "\n",
       "\n",
       "A sky of blue,\n",
       "A sun so bright,\n",
       "A day full of joy,\n",
       "A delight.\n"
      ]
     },
     "metadata": {},
     "output_type": "display_data"
    }
   ],
   "source": [
    "# Create LLM\n",
    "llm: OpenAI = OpenAI(openai_api_key=OPENAI_API_KEY)\n",
    "prompt: str = \"Write a very short poem\"\n",
    "result = llm(prompt=prompt)\n",
    "\n",
    "print(result)"
   ]
  },
  {
   "cell_type": "code",
   "execution_count": null,
   "metadata": {},
   "outputs": [],
   "source": []
  },
  {
   "cell_type": "markdown",
   "metadata": {},
   "source": [
    "## Updated Logic\n",
    "\n",
    "- Add Chains (from langchain)\n",
    "\n",
    "<br>\n",
    "\n",
    "[![image.png](https://i.postimg.cc/RVLp2WgH/image.png)](https://postimg.cc/0brCwyRk)"
   ]
  },
  {
   "cell_type": "code",
   "execution_count": 5,
   "metadata": {},
   "outputs": [],
   "source": [
    "from langchain.chains import LLMChain\n",
    "from langchain.prompts import PromptTemplate"
   ]
  },
  {
   "cell_type": "markdown",
   "metadata": {},
   "source": [
    "### LLM Chain\n",
    "\n",
    "[![image.png](https://i.postimg.cc/GpFWKb4L/image.png)](https://postimg.cc/1gz75h02)"
   ]
  },
  {
   "cell_type": "code",
   "execution_count": 6,
   "metadata": {},
   "outputs": [
    {
     "data": {
      "text/html": [
       "<pre style=\"white-space:pre;overflow-x:auto;line-height:normal;font-family:Menlo,'DejaVu Sans Mono',consolas,'Courier New',monospace\"><span style=\"font-weight: bold\">{</span>\n",
       "    <span style=\"color: #008000; text-decoration-color: #008000\">'language'</span>: <span style=\"color: #008000; text-decoration-color: #008000\">'Python'</span>,\n",
       "    <span style=\"color: #008000; text-decoration-color: #008000\">'task'</span>: <span style=\"color: #008000; text-decoration-color: #008000\">'generate a list of numbers'</span>,\n",
       "    <span style=\"color: #008000; text-decoration-color: #008000\">'text'</span>: <span style=\"color: #008000; text-decoration-color: #008000\">'\\n\\ndef generate_list():\\n  my_list = []\\n  for x in range(10):\\n    my_list.append(x)\\n  return </span>\n",
       "<span style=\"color: #008000; text-decoration-color: #008000\">my_list\\n\\nprint(generate_list())'</span>\n",
       "<span style=\"font-weight: bold\">}</span>\n",
       "</pre>\n"
      ],
      "text/plain": [
       "\u001b[1m{\u001b[0m\n",
       "    \u001b[32m'language'\u001b[0m: \u001b[32m'Python'\u001b[0m,\n",
       "    \u001b[32m'task'\u001b[0m: \u001b[32m'generate a list of numbers'\u001b[0m,\n",
       "    \u001b[32m'text'\u001b[0m: \u001b[32m'\\n\\ndef generate_list\u001b[0m\u001b[32m(\u001b[0m\u001b[32m)\u001b[0m\u001b[32m:\\n  my_list = \u001b[0m\u001b[32m[\u001b[0m\u001b[32m]\u001b[0m\u001b[32m\\n  for x in range\u001b[0m\u001b[32m(\u001b[0m\u001b[32m10\u001b[0m\u001b[32m)\u001b[0m\u001b[32m:\\n    my_list.append\u001b[0m\u001b[32m(\u001b[0m\u001b[32mx\u001b[0m\u001b[32m)\u001b[0m\u001b[32m\\n  return \u001b[0m\n",
       "\u001b[32mmy_list\\n\\nprint\u001b[0m\u001b[32m(\u001b[0m\u001b[32mgenerate_list\u001b[0m\u001b[32m(\u001b[0m\u001b[32m)\u001b[0m\u001b[32m)\u001b[0m\u001b[32m'\u001b[0m\n",
       "\u001b[1m}\u001b[0m\n"
      ]
     },
     "metadata": {},
     "output_type": "display_data"
    }
   ],
   "source": [
    "# Used for text completion LLMs\n",
    "prompt_template: str = \"\"\"Write a very short {language} function that will {task}\"\"\"\n",
    "code_prompt: PromptTemplate = PromptTemplate(\n",
    "    input_variables=[\"language\", \"task\"], template=prompt_template\n",
    ")\n",
    "code_chain: LLMChain = LLMChain(llm=llm, prompt=code_prompt)\n",
    "\n",
    "# Hardcoded inputs!\n",
    "language, task = (\"Python\", \"generate a list of numbers\")\n",
    "\n",
    "result = code_chain(inputs={\"language\": language, \"task\": task})\n",
    "print(result)"
   ]
  },
  {
   "cell_type": "code",
   "execution_count": 7,
   "metadata": {},
   "outputs": [
    {
     "data": {
      "text/html": [
       "<pre style=\"white-space:pre;overflow-x:auto;line-height:normal;font-family:Menlo,'DejaVu Sans Mono',consolas,'Courier New',monospace\">\n",
       "\n",
       "def <span style=\"color: #800080; text-decoration-color: #800080; font-weight: bold\">generate_list</span><span style=\"font-weight: bold\">()</span>:\n",
       "  my_list = <span style=\"font-weight: bold\">[]</span>\n",
       "  for x in <span style=\"color: #800080; text-decoration-color: #800080; font-weight: bold\">range</span><span style=\"font-weight: bold\">(</span><span style=\"color: #008080; text-decoration-color: #008080; font-weight: bold\">10</span><span style=\"font-weight: bold\">)</span>:\n",
       "    <span style=\"color: #800080; text-decoration-color: #800080; font-weight: bold\">my_list.append</span><span style=\"font-weight: bold\">(</span>x<span style=\"font-weight: bold\">)</span>\n",
       "  return my_list\n",
       "\n",
       "<span style=\"color: #800080; text-decoration-color: #800080; font-weight: bold\">print</span><span style=\"font-weight: bold\">(</span><span style=\"color: #800080; text-decoration-color: #800080; font-weight: bold\">generate_list</span><span style=\"font-weight: bold\">())</span>\n",
       "</pre>\n"
      ],
      "text/plain": [
       "\n",
       "\n",
       "def \u001b[1;35mgenerate_list\u001b[0m\u001b[1m(\u001b[0m\u001b[1m)\u001b[0m:\n",
       "  my_list = \u001b[1m[\u001b[0m\u001b[1m]\u001b[0m\n",
       "  for x in \u001b[1;35mrange\u001b[0m\u001b[1m(\u001b[0m\u001b[1;36m10\u001b[0m\u001b[1m)\u001b[0m:\n",
       "    \u001b[1;35mmy_list.append\u001b[0m\u001b[1m(\u001b[0mx\u001b[1m)\u001b[0m\n",
       "  return my_list\n",
       "\n",
       "\u001b[1;35mprint\u001b[0m\u001b[1m(\u001b[0m\u001b[1;35mgenerate_list\u001b[0m\u001b[1m(\u001b[0m\u001b[1m)\u001b[0m\u001b[1m)\u001b[0m\n"
      ]
     },
     "metadata": {},
     "output_type": "display_data"
    }
   ],
   "source": [
    "print(result.get(\"text\"))"
   ]
  },
  {
   "cell_type": "markdown",
   "metadata": {},
   "source": [
    "## Connecting Chains Together\n",
    "\n",
    "- Chains in series (sequential chain)\n",
    "\n",
    "<br>\n",
    "\n",
    "[![image.png](https://i.postimg.cc/8Cdgm9wV/image.png)](https://postimg.cc/GBpfcMZM)"
   ]
  },
  {
   "cell_type": "code",
   "execution_count": 11,
   "metadata": {},
   "outputs": [
    {
     "data": {
      "text/html": [
       "<pre style=\"white-space:pre;overflow-x:auto;line-height:normal;font-family:Menlo,'DejaVu Sans Mono',consolas,'Courier New',monospace\"><span style=\"font-weight: bold\">{</span>\n",
       "    <span style=\"color: #008000; text-decoration-color: #008000\">'language'</span>: <span style=\"color: #008000; text-decoration-color: #008000\">'Python'</span>,\n",
       "    <span style=\"color: #008000; text-decoration-color: #008000\">'task'</span>: <span style=\"color: #008000; text-decoration-color: #008000\">'generate a list of numbers'</span>,\n",
       "    <span style=\"color: #008000; text-decoration-color: #008000\">'code'</span>: <span style=\"color: #008000; text-decoration-color: #008000\">'\\n\\ndef generate_list(n): \\n  num_list = [] \\n  for i in range(n): \\n    num_list.append(i) \\n  return</span>\n",
       "<span style=\"color: #008000; text-decoration-color: #008000\">num_list \\n  \\nprint(generate_list(5))'</span>,\n",
       "    <span style=\"color: #008000; text-decoration-color: #008000\">'test'</span>: <span style=\"color: #008000; text-decoration-color: #008000\">\"\\n\\nimport unittest\\n\\nclass TestGenerateList(unittest.TestCase):\\n    def test_generate_list(self):\\n</span>\n",
       "<span style=\"color: #008000; text-decoration-color: #008000\">self.assertEqual(generate_list(5), [0, 1, 2, 3, 4])\\n\\nif __name__ == '__main__':\\n    unittest.main()\"</span>\n",
       "<span style=\"font-weight: bold\">}</span>\n",
       "</pre>\n"
      ],
      "text/plain": [
       "\u001b[1m{\u001b[0m\n",
       "    \u001b[32m'language'\u001b[0m: \u001b[32m'Python'\u001b[0m,\n",
       "    \u001b[32m'task'\u001b[0m: \u001b[32m'generate a list of numbers'\u001b[0m,\n",
       "    \u001b[32m'code'\u001b[0m: \u001b[32m'\\n\\ndef generate_list\u001b[0m\u001b[32m(\u001b[0m\u001b[32mn\u001b[0m\u001b[32m)\u001b[0m\u001b[32m: \\n  num_list = \u001b[0m\u001b[32m[\u001b[0m\u001b[32m]\u001b[0m\u001b[32m \\n  for i in range\u001b[0m\u001b[32m(\u001b[0m\u001b[32mn\u001b[0m\u001b[32m)\u001b[0m\u001b[32m: \\n    num_list.append\u001b[0m\u001b[32m(\u001b[0m\u001b[32mi\u001b[0m\u001b[32m)\u001b[0m\u001b[32m \\n  return\u001b[0m\n",
       "\u001b[32mnum_list \\n  \\nprint\u001b[0m\u001b[32m(\u001b[0m\u001b[32mgenerate_list\u001b[0m\u001b[32m(\u001b[0m\u001b[32m5\u001b[0m\u001b[32m)\u001b[0m\u001b[32m)\u001b[0m\u001b[32m'\u001b[0m,\n",
       "    \u001b[32m'test'\u001b[0m: \u001b[32m\"\\n\\nimport unittest\\n\\nclass TestGenerateList\u001b[0m\u001b[32m(\u001b[0m\u001b[32munittest.TestCase\u001b[0m\u001b[32m)\u001b[0m\u001b[32m:\\n    def test_generate_list\u001b[0m\u001b[32m(\u001b[0m\u001b[32mself\u001b[0m\u001b[32m)\u001b[0m\u001b[32m:\\n\u001b[0m\n",
       "\u001b[32mself.assertEqual\u001b[0m\u001b[32m(\u001b[0m\u001b[32mgenerate_list\u001b[0m\u001b[32m(\u001b[0m\u001b[32m5\u001b[0m\u001b[32m)\u001b[0m\u001b[32m, \u001b[0m\u001b[32m[\u001b[0m\u001b[32m0, 1, 2, 3, 4\u001b[0m\u001b[32m]\u001b[0m\u001b[32m)\u001b[0m\u001b[32m\\n\\nif __name__ == '__main__':\\n    unittest.main\u001b[0m\u001b[32m(\u001b[0m\u001b[32m)\u001b[0m\u001b[32m\"\u001b[0m\n",
       "\u001b[1m}\u001b[0m\n"
      ]
     },
     "metadata": {},
     "output_type": "display_data"
    }
   ],
   "source": [
    "from langchain.chains import SequentialChain\n",
    "\n",
    "# Used for text completion LLMs\n",
    "code_prompt_template: str = (\n",
    "    \"\"\"Write a very short {language} function that will {task}\"\"\"\n",
    ")\n",
    "unittest_prompt_template: str = (\n",
    "    \"\"\"Write a test for the following {language} code: \\n{code}\"\"\"\n",
    ")\n",
    "\n",
    "# Propmt(s)\n",
    "code_prompt: PromptTemplate = PromptTemplate(\n",
    "    input_variables=[\"language\", \"task\"], template=code_prompt_template\n",
    ")\n",
    "unittest_prompt: PromptTemplate = PromptTemplate(\n",
    "    input_variables=[\"language\", \"code\"], template=unittest_prompt_template\n",
    ")\n",
    "\n",
    "# Chain(s)\n",
    "code_chain: LLMChain = LLMChain(\n",
    "    llm=llm,\n",
    "    prompt=code_prompt,\n",
    "    output_key=\"code\",  # from text to code\n",
    ")\n",
    "unittest_chain: LLMChain = LLMChain(\n",
    "    llm=llm,\n",
    "    prompt=unittest_prompt,\n",
    "    output_key=\"test\",  # from text to code\n",
    ")\n",
    "# Feed the output of code_chain into unittest_chain\n",
    "final_chain: SequentialChain = SequentialChain(\n",
    "    chains=[code_chain, unittest_chain],\n",
    "    input_variables=[\"language\", \"task\"],\n",
    "    output_variables=[\"code\", \"test\"],\n",
    ")\n",
    "# Hardcoded inputs!\n",
    "language, task = (\"Python\", \"generate a list of numbers\")\n",
    "\n",
    "result = final_chain(inputs={\"language\": language, \"task\": task})\n",
    "print(result)"
   ]
  },
  {
   "cell_type": "code",
   "execution_count": 12,
   "metadata": {},
   "outputs": [
    {
     "data": {
      "text/html": [
       "<pre style=\"white-space:pre;overflow-x:auto;line-height:normal;font-family:Menlo,'DejaVu Sans Mono',consolas,'Courier New',monospace\">\n",
       "\n",
       "import unittest\n",
       "\n",
       "class <span style=\"color: #800080; text-decoration-color: #800080; font-weight: bold\">TestGenerateList</span><span style=\"font-weight: bold\">(</span>unittest.TestCase<span style=\"font-weight: bold\">)</span>:\n",
       "    def <span style=\"color: #800080; text-decoration-color: #800080; font-weight: bold\">test_generate_list</span><span style=\"font-weight: bold\">(</span>self<span style=\"font-weight: bold\">)</span>:\n",
       "        <span style=\"color: #800080; text-decoration-color: #800080; font-weight: bold\">self.assertEqual</span><span style=\"font-weight: bold\">(</span><span style=\"color: #800080; text-decoration-color: #800080; font-weight: bold\">generate_list</span><span style=\"font-weight: bold\">(</span><span style=\"color: #008080; text-decoration-color: #008080; font-weight: bold\">5</span><span style=\"font-weight: bold\">)</span>, <span style=\"font-weight: bold\">[</span><span style=\"color: #008080; text-decoration-color: #008080; font-weight: bold\">0</span>, <span style=\"color: #008080; text-decoration-color: #008080; font-weight: bold\">1</span>, <span style=\"color: #008080; text-decoration-color: #008080; font-weight: bold\">2</span>, <span style=\"color: #008080; text-decoration-color: #008080; font-weight: bold\">3</span>, <span style=\"color: #008080; text-decoration-color: #008080; font-weight: bold\">4</span><span style=\"font-weight: bold\">])</span>\n",
       "\n",
       "if __name__ == <span style=\"color: #008000; text-decoration-color: #008000\">'__main__'</span>:\n",
       "    <span style=\"color: #800080; text-decoration-color: #800080; font-weight: bold\">unittest.main</span><span style=\"font-weight: bold\">()</span>\n",
       "</pre>\n"
      ],
      "text/plain": [
       "\n",
       "\n",
       "import unittest\n",
       "\n",
       "class \u001b[1;35mTestGenerateList\u001b[0m\u001b[1m(\u001b[0munittest.TestCase\u001b[1m)\u001b[0m:\n",
       "    def \u001b[1;35mtest_generate_list\u001b[0m\u001b[1m(\u001b[0mself\u001b[1m)\u001b[0m:\n",
       "        \u001b[1;35mself.assertEqual\u001b[0m\u001b[1m(\u001b[0m\u001b[1;35mgenerate_list\u001b[0m\u001b[1m(\u001b[0m\u001b[1;36m5\u001b[0m\u001b[1m)\u001b[0m, \u001b[1m[\u001b[0m\u001b[1;36m0\u001b[0m, \u001b[1;36m1\u001b[0m, \u001b[1;36m2\u001b[0m, \u001b[1;36m3\u001b[0m, \u001b[1;36m4\u001b[0m\u001b[1m]\u001b[0m\u001b[1m)\u001b[0m\n",
       "\n",
       "if __name__ == \u001b[32m'__main__'\u001b[0m:\n",
       "    \u001b[1;35munittest.main\u001b[0m\u001b[1m(\u001b[0m\u001b[1m)\u001b[0m\n"
      ]
     },
     "metadata": {},
     "output_type": "display_data"
    }
   ],
   "source": [
    "# Output of the unittest_chain (key=\"test\")\n",
    "print(result.get(\"test\"))"
   ]
  },
  {
   "cell_type": "code",
   "execution_count": null,
   "metadata": {},
   "outputs": [],
   "source": []
  },
  {
   "cell_type": "code",
   "execution_count": null,
   "metadata": {},
   "outputs": [],
   "source": []
  },
  {
   "cell_type": "code",
   "execution_count": null,
   "metadata": {},
   "outputs": [],
   "source": []
  }
 ],
 "metadata": {
  "kernelspec": {
   "display_name": "nlp_p310",
   "language": "python",
   "name": "python3"
  },
  "language_info": {
   "codemirror_mode": {
    "name": "ipython",
    "version": 3
   },
   "file_extension": ".py",
   "mimetype": "text/x-python",
   "name": "python",
   "nbconvert_exporter": "python",
   "pygments_lexer": "ipython3",
   "version": "3.10.9"
  }
 },
 "nbformat": 4,
 "nbformat_minor": 2
}
