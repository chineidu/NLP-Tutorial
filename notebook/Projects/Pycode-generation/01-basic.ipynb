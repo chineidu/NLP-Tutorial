{
 "cells": [
  {
   "cell_type": "markdown",
   "metadata": {},
   "source": [
    "# Langchain Intro"
   ]
  },
  {
   "cell_type": "code",
   "execution_count": 1,
   "metadata": {},
   "outputs": [],
   "source": [
    "# Built-in library\n",
    "import re\n",
    "import json\n",
    "from typing import Any, Optional, Union\n",
    "import logging\n",
    "import warnings\n",
    "\n",
    "# Standard imports\n",
    "import numpy as np\n",
    "from pathlib import Path\n",
    "import pandas as pd\n",
    "import polars as pl\n",
    "from pprint import pprint\n",
    "from rich import print\n",
    "import torch\n",
    "\n",
    "# Visualization\n",
    "import matplotlib.pyplot as plt\n",
    "\n",
    "\n",
    "# Pandas settings\n",
    "pd.options.display.max_rows = 1_000\n",
    "pd.options.display.max_columns = 1_000\n",
    "pd.options.display.max_colwidth = 600\n",
    "\n",
    "warnings.filterwarnings(\"ignore\")\n",
    "\n",
    "# Black code formatter (Optional)\n",
    "%load_ext lab_black\n",
    "\n",
    "# auto reload imports\n",
    "%load_ext autoreload\n",
    "%autoreload 2"
   ]
  },
  {
   "cell_type": "code",
   "execution_count": 2,
   "metadata": {},
   "outputs": [],
   "source": [
    "import os\n",
    "from dotenv import load_dotenv, find_dotenv\n",
    "\n",
    "from langchain.llms import OpenAI"
   ]
  },
  {
   "cell_type": "markdown",
   "metadata": {},
   "source": [
    "### Using A Basic OpenAI Langchain LLM\n",
    "\n",
    "- Without using a chain.\n",
    "- Very simplistic.\n",
    "\n",
    "<br>\n",
    "\n",
    "[![image.png](https://i.postimg.cc/cLyVwqrs/image.png)](https://postimg.cc/Mv5PJF74)\n"
   ]
  },
  {
   "cell_type": "code",
   "execution_count": 3,
   "metadata": {},
   "outputs": [],
   "source": [
    "_ = load_dotenv(find_dotenv())  # read local .env file\n",
    "OPENAI_API_KEY = os.getenv(\"OPENAI_API_KEY\")\n",
    "OPENAI_GPT_MODEL: str = \"gpt-3.5-turbo-instruct\"\n",
    "TEMPERATURE: float = 0.5"
   ]
  },
  {
   "cell_type": "code",
   "execution_count": 4,
   "metadata": {},
   "outputs": [
    {
     "data": {
      "text/html": [
       "<pre style=\"white-space:pre;overflow-x:auto;line-height:normal;font-family:Menlo,'DejaVu Sans Mono',consolas,'Courier New',monospace\">\n",
       "\n",
       "\"Sun shines bright,\n",
       "Birds take flight,\n",
       "Nature's delight,\n",
       "Pure and light.\"\n",
       "</pre>\n"
      ],
      "text/plain": [
       "\n",
       "\n",
       "\"Sun shines bright,\n",
       "Birds take flight,\n",
       "Nature's delight,\n",
       "Pure and light.\"\n"
      ]
     },
     "metadata": {},
     "output_type": "display_data"
    }
   ],
   "source": [
    "# Create LLM\n",
    "llm: OpenAI = OpenAI(\n",
    "    openai_api_key=OPENAI_API_KEY,\n",
    "    model=OPENAI_GPT_MODEL,\n",
    "    temperature=TEMPERATURE,\n",
    ")\n",
    "prompt: str = \"Write a very short poem.\"\n",
    "result = llm(prompt=prompt)\n",
    "\n",
    "print(result)"
   ]
  },
  {
   "cell_type": "markdown",
   "metadata": {},
   "source": [
    "## Updated Logic\n",
    "\n",
    "- Add Chains (from langchain)\n",
    "\n",
    "<br>\n",
    "\n",
    "[![image.png](https://i.postimg.cc/RVLp2WgH/image.png)](https://postimg.cc/0brCwyRk)"
   ]
  },
  {
   "cell_type": "code",
   "execution_count": 5,
   "metadata": {},
   "outputs": [],
   "source": [
    "from langchain.chains import LLMChain\n",
    "from langchain.prompts import PromptTemplate"
   ]
  },
  {
   "cell_type": "markdown",
   "metadata": {},
   "source": [
    "### LLM Chain\n",
    "\n",
    "[![image.png](https://i.postimg.cc/05VBzdbB/image.png)](https://postimg.cc/0rJf3SGY)"
   ]
  },
  {
   "cell_type": "code",
   "execution_count": 6,
   "metadata": {},
   "outputs": [
    {
     "data": {
      "text/html": [
       "<pre style=\"white-space:pre;overflow-x:auto;line-height:normal;font-family:Menlo,'DejaVu Sans Mono',consolas,'Courier New',monospace\"><span style=\"font-weight: bold\">{</span>\n",
       "    <span style=\"color: #008000; text-decoration-color: #008000\">'language'</span>: <span style=\"color: #008000; text-decoration-color: #008000\">'Python'</span>,\n",
       "    <span style=\"color: #008000; text-decoration-color: #008000\">'task'</span>: <span style=\"color: #008000; text-decoration-color: #008000\">'generate a list of numbers'</span>,\n",
       "    <span style=\"color: #008000; text-decoration-color: #008000\">'text'</span>: <span style=\"color: #008000; text-decoration-color: #008000\">'\\n\\ndef generate_list(n):\\n    return list(range(n))'</span>\n",
       "<span style=\"font-weight: bold\">}</span>\n",
       "</pre>\n"
      ],
      "text/plain": [
       "\u001b[1m{\u001b[0m\n",
       "    \u001b[32m'language'\u001b[0m: \u001b[32m'Python'\u001b[0m,\n",
       "    \u001b[32m'task'\u001b[0m: \u001b[32m'generate a list of numbers'\u001b[0m,\n",
       "    \u001b[32m'text'\u001b[0m: \u001b[32m'\\n\\ndef generate_list\u001b[0m\u001b[32m(\u001b[0m\u001b[32mn\u001b[0m\u001b[32m)\u001b[0m\u001b[32m:\\n    return list\u001b[0m\u001b[32m(\u001b[0m\u001b[32mrange\u001b[0m\u001b[32m(\u001b[0m\u001b[32mn\u001b[0m\u001b[32m)\u001b[0m\u001b[32m)\u001b[0m\u001b[32m'\u001b[0m\n",
       "\u001b[1m}\u001b[0m\n"
      ]
     },
     "metadata": {},
     "output_type": "display_data"
    }
   ],
   "source": [
    "# Used for text completion LLMs\n",
    "prompt_template: str = \"\"\"Write a very short {language} function that will {task}\"\"\"\n",
    "code_prompt: PromptTemplate = PromptTemplate(\n",
    "    input_variables=[\"language\", \"task\"], template=prompt_template\n",
    ")\n",
    "code_chain: LLMChain = LLMChain(llm=llm, prompt=code_prompt)\n",
    "\n",
    "# Hardcoded inputs!\n",
    "language, task = (\"Python\", \"generate a list of numbers\")\n",
    "\n",
    "result = code_chain(inputs={\"language\": language, \"task\": task})\n",
    "print(result)"
   ]
  },
  {
   "cell_type": "code",
   "execution_count": 7,
   "metadata": {},
   "outputs": [
    {
     "data": {
      "text/html": [
       "<pre style=\"white-space:pre;overflow-x:auto;line-height:normal;font-family:Menlo,'DejaVu Sans Mono',consolas,'Courier New',monospace\">\n",
       "\n",
       "def <span style=\"color: #800080; text-decoration-color: #800080; font-weight: bold\">generate_list</span><span style=\"font-weight: bold\">(</span>n<span style=\"font-weight: bold\">)</span>:\n",
       "    return <span style=\"color: #800080; text-decoration-color: #800080; font-weight: bold\">list</span><span style=\"font-weight: bold\">(</span><span style=\"color: #800080; text-decoration-color: #800080; font-weight: bold\">range</span><span style=\"font-weight: bold\">(</span>n<span style=\"font-weight: bold\">))</span>\n",
       "</pre>\n"
      ],
      "text/plain": [
       "\n",
       "\n",
       "def \u001b[1;35mgenerate_list\u001b[0m\u001b[1m(\u001b[0mn\u001b[1m)\u001b[0m:\n",
       "    return \u001b[1;35mlist\u001b[0m\u001b[1m(\u001b[0m\u001b[1;35mrange\u001b[0m\u001b[1m(\u001b[0mn\u001b[1m)\u001b[0m\u001b[1m)\u001b[0m\n"
      ]
     },
     "metadata": {},
     "output_type": "display_data"
    }
   ],
   "source": [
    "print(result.get(\"text\"))"
   ]
  },
  {
   "cell_type": "markdown",
   "metadata": {},
   "source": [
    "## Connecting Chains Together\n",
    "\n",
    "- Chains in series (sequential chain)\n",
    "\n",
    "<br>\n",
    "\n",
    "[![image.png](https://i.postimg.cc/8Cdgm9wV/image.png)](https://postimg.cc/GBpfcMZM)"
   ]
  },
  {
   "cell_type": "code",
   "execution_count": 8,
   "metadata": {},
   "outputs": [
    {
     "data": {
      "text/html": [
       "<pre style=\"white-space:pre;overflow-x:auto;line-height:normal;font-family:Menlo,'DejaVu Sans Mono',consolas,'Courier New',monospace\"><span style=\"font-weight: bold\">{</span>\n",
       "    <span style=\"color: #008000; text-decoration-color: #008000\">'language'</span>: <span style=\"color: #008000; text-decoration-color: #008000\">'Python'</span>,\n",
       "    <span style=\"color: #008000; text-decoration-color: #008000\">'task'</span>: <span style=\"color: #008000; text-decoration-color: #008000\">'generate a list of numbers'</span>,\n",
       "    <span style=\"color: #008000; text-decoration-color: #008000\">'code'</span>: <span style=\"color: #008000; text-decoration-color: #008000\">'\\n\\ndef generate_list(start, end):\\n    return list(range(start, end+1))'</span>,\n",
       "    <span style=\"color: #008000; text-decoration-color: #008000\">'test'</span>: <span style=\"color: #008000; text-decoration-color: #008000\">'\\n\\nimport unittest\\n\\nclass TestGenerateList(unittest.TestCase):\\n    \\n    def </span>\n",
       "<span style=\"color: #008000; text-decoration-color: #008000\">test_generate_list(self):\\n        # Test list generation with positive numbers\\n        </span>\n",
       "<span style=\"color: #008000; text-decoration-color: #008000\">self.assertEqual(generate_list(1,5), [1,2,3,4,5])\\n        \\n        # Test list generation with negative numbers\\n</span>\n",
       "<span style=\"color: #008000; text-decoration-color: #008000\">self.assertEqual(generate_list(-5,0), [-5,-4,-3,-2,-1,0])\\n        \\n        # Test list generation with start and </span>\n",
       "<span style=\"color: #008000; text-decoration-color: #008000\">end being the same number\\n        self.assertEqual(generate_list(1,1), [1])\\n        \\n        # Test list </span>\n",
       "<span style=\"color: #008000; text-decoration-color: #008000\">generation with start and end being negative numbers\\n        self.assertEqual(generate_list(-10,-5), </span>\n",
       "<span style=\"color: #008000; text-decoration-color: #008000\">[-10,-9,-8,-7,-6,-5])\\n        \\n        # Test list generation with start and end being decimal numbers\\n        </span>\n",
       "<span style=\"color: #008000; text-decoration-color: #008000\">self.assertEqual(generate_list(1.5,5.5), [1.5,2.5,3.5,4.5,5.5])\\n        \\n        # Test list generation with </span>\n",
       "<span style=\"color: #008000; text-decoration-color: #008000\">start and end being non-integer numbers\\n        self.assertEqual(generate_list(1.5,3.5), [1.5,2.5,3.5])\\n        </span>\n",
       "<span style=\"color: #008000; text-decoration-color: #008000\">\\n        # Test list generation with start and end being'</span>\n",
       "<span style=\"font-weight: bold\">}</span>\n",
       "</pre>\n"
      ],
      "text/plain": [
       "\u001b[1m{\u001b[0m\n",
       "    \u001b[32m'language'\u001b[0m: \u001b[32m'Python'\u001b[0m,\n",
       "    \u001b[32m'task'\u001b[0m: \u001b[32m'generate a list of numbers'\u001b[0m,\n",
       "    \u001b[32m'code'\u001b[0m: \u001b[32m'\\n\\ndef generate_list\u001b[0m\u001b[32m(\u001b[0m\u001b[32mstart, end\u001b[0m\u001b[32m)\u001b[0m\u001b[32m:\\n    return list\u001b[0m\u001b[32m(\u001b[0m\u001b[32mrange\u001b[0m\u001b[32m(\u001b[0m\u001b[32mstart, end+1\u001b[0m\u001b[32m)\u001b[0m\u001b[32m)\u001b[0m\u001b[32m'\u001b[0m,\n",
       "    \u001b[32m'test'\u001b[0m: \u001b[32m'\\n\\nimport unittest\\n\\nclass TestGenerateList\u001b[0m\u001b[32m(\u001b[0m\u001b[32munittest.TestCase\u001b[0m\u001b[32m)\u001b[0m\u001b[32m:\\n    \\n    def \u001b[0m\n",
       "\u001b[32mtest_generate_list\u001b[0m\u001b[32m(\u001b[0m\u001b[32mself\u001b[0m\u001b[32m)\u001b[0m\u001b[32m:\\n        # Test list generation with positive numbers\\n        \u001b[0m\n",
       "\u001b[32mself.assertEqual\u001b[0m\u001b[32m(\u001b[0m\u001b[32mgenerate_list\u001b[0m\u001b[32m(\u001b[0m\u001b[32m1,5\u001b[0m\u001b[32m)\u001b[0m\u001b[32m, \u001b[0m\u001b[32m[\u001b[0m\u001b[32m1,2,3,4,5\u001b[0m\u001b[32m]\u001b[0m\u001b[32m)\u001b[0m\u001b[32m\\n        \\n        # Test list generation with negative numbers\\n\u001b[0m\n",
       "\u001b[32mself.assertEqual\u001b[0m\u001b[32m(\u001b[0m\u001b[32mgenerate_list\u001b[0m\u001b[32m(\u001b[0m\u001b[32m-5,0\u001b[0m\u001b[32m)\u001b[0m\u001b[32m, \u001b[0m\u001b[32m[\u001b[0m\u001b[32m-5,-4,-3,-2,-1,0\u001b[0m\u001b[32m]\u001b[0m\u001b[32m)\u001b[0m\u001b[32m\\n        \\n        # Test list generation with start and \u001b[0m\n",
       "\u001b[32mend being the same number\\n        self.assertEqual\u001b[0m\u001b[32m(\u001b[0m\u001b[32mgenerate_list\u001b[0m\u001b[32m(\u001b[0m\u001b[32m1,1\u001b[0m\u001b[32m)\u001b[0m\u001b[32m, \u001b[0m\u001b[32m[\u001b[0m\u001b[32m1\u001b[0m\u001b[32m]\u001b[0m\u001b[32m)\u001b[0m\u001b[32m\\n        \\n        # Test list \u001b[0m\n",
       "\u001b[32mgeneration with start and end being negative numbers\\n        self.assertEqual\u001b[0m\u001b[32m(\u001b[0m\u001b[32mgenerate_list\u001b[0m\u001b[32m(\u001b[0m\u001b[32m-10,-5\u001b[0m\u001b[32m)\u001b[0m\u001b[32m, \u001b[0m\n",
       "\u001b[32m[\u001b[0m\u001b[32m-10,-9,-8,-7,-6,-5\u001b[0m\u001b[32m]\u001b[0m\u001b[32m)\u001b[0m\u001b[32m\\n        \\n        # Test list generation with start and end being decimal numbers\\n        \u001b[0m\n",
       "\u001b[32mself.assertEqual\u001b[0m\u001b[32m(\u001b[0m\u001b[32mgenerate_list\u001b[0m\u001b[32m(\u001b[0m\u001b[32m1.5,5.5\u001b[0m\u001b[32m)\u001b[0m\u001b[32m, \u001b[0m\u001b[32m[\u001b[0m\u001b[32m1.5,2.5,3.5,4.5,5.5\u001b[0m\u001b[32m]\u001b[0m\u001b[32m)\u001b[0m\u001b[32m\\n        \\n        # Test list generation with \u001b[0m\n",
       "\u001b[32mstart and end being non-integer numbers\\n        self.assertEqual\u001b[0m\u001b[32m(\u001b[0m\u001b[32mgenerate_list\u001b[0m\u001b[32m(\u001b[0m\u001b[32m1.5,3.5\u001b[0m\u001b[32m)\u001b[0m\u001b[32m, \u001b[0m\u001b[32m[\u001b[0m\u001b[32m1.5,2.5,3.5\u001b[0m\u001b[32m]\u001b[0m\u001b[32m)\u001b[0m\u001b[32m\\n        \u001b[0m\n",
       "\u001b[32m\\n        # Test list generation with start and end being'\u001b[0m\n",
       "\u001b[1m}\u001b[0m\n"
      ]
     },
     "metadata": {},
     "output_type": "display_data"
    }
   ],
   "source": [
    "from langchain.chains import SequentialChain\n",
    "\n",
    "# Used for text completion LLMs\n",
    "code_prompt_template: str = (\n",
    "    \"\"\"Write a very short {language} function that will {task}\"\"\"\n",
    ")\n",
    "unittest_prompt_template: str = (\n",
    "    \"\"\"Write a unit test for the following {language} code: \\n{code}\"\"\"\n",
    ")\n",
    "\n",
    "# Propmt(s)\n",
    "code_prompt: PromptTemplate = PromptTemplate(\n",
    "    input_variables=[\"language\", \"task\"], template=code_prompt_template\n",
    ")\n",
    "unittest_prompt: PromptTemplate = PromptTemplate(\n",
    "    input_variables=[\"language\", \"code\"], template=unittest_prompt_template\n",
    ")\n",
    "\n",
    "# Chain(s)\n",
    "code_chain: LLMChain = LLMChain(\n",
    "    llm=llm,\n",
    "    prompt=code_prompt,\n",
    "    output_key=\"code\",  # from text to code\n",
    ")\n",
    "unittest_chain: LLMChain = LLMChain(\n",
    "    llm=llm,\n",
    "    prompt=unittest_prompt,\n",
    "    output_key=\"test\",  # from text to test\n",
    ")\n",
    "# Feed the output of code_chain into unittest_chain\n",
    "final_chain: SequentialChain = SequentialChain(\n",
    "    chains=[code_chain, unittest_chain],\n",
    "    input_variables=[\"language\", \"task\"],\n",
    "    output_variables=[\"code\", \"test\"],\n",
    ")\n",
    "# Hardcoded inputs!\n",
    "language, task = (\"Python\", \"generate a list of numbers\")\n",
    "\n",
    "result = final_chain(inputs={\"language\": language, \"task\": task})\n",
    "print(result)"
   ]
  },
  {
   "cell_type": "code",
   "execution_count": 9,
   "metadata": {},
   "outputs": [
    {
     "data": {
      "text/html": [
       "<pre style=\"white-space:pre;overflow-x:auto;line-height:normal;font-family:Menlo,'DejaVu Sans Mono',consolas,'Courier New',monospace\">\n",
       "\n",
       "import unittest\n",
       "\n",
       "class <span style=\"color: #800080; text-decoration-color: #800080; font-weight: bold\">TestGenerateList</span><span style=\"font-weight: bold\">(</span>unittest.TestCase<span style=\"font-weight: bold\">)</span>:\n",
       "    \n",
       "    def <span style=\"color: #800080; text-decoration-color: #800080; font-weight: bold\">test_generate_list</span><span style=\"font-weight: bold\">(</span>self<span style=\"font-weight: bold\">)</span>:\n",
       "        # Test list generation with positive numbers\n",
       "        <span style=\"color: #800080; text-decoration-color: #800080; font-weight: bold\">self.assertEqual</span><span style=\"font-weight: bold\">(</span><span style=\"color: #800080; text-decoration-color: #800080; font-weight: bold\">generate_list</span><span style=\"font-weight: bold\">(</span><span style=\"color: #008080; text-decoration-color: #008080; font-weight: bold\">1</span>,<span style=\"color: #008080; text-decoration-color: #008080; font-weight: bold\">5</span><span style=\"font-weight: bold\">)</span>, <span style=\"font-weight: bold\">[</span><span style=\"color: #008080; text-decoration-color: #008080; font-weight: bold\">1</span>,<span style=\"color: #008080; text-decoration-color: #008080; font-weight: bold\">2</span>,<span style=\"color: #008080; text-decoration-color: #008080; font-weight: bold\">3</span>,<span style=\"color: #008080; text-decoration-color: #008080; font-weight: bold\">4</span>,<span style=\"color: #008080; text-decoration-color: #008080; font-weight: bold\">5</span><span style=\"font-weight: bold\">])</span>\n",
       "        \n",
       "        # Test list generation with negative numbers\n",
       "        <span style=\"color: #800080; text-decoration-color: #800080; font-weight: bold\">self.assertEqual</span><span style=\"font-weight: bold\">(</span><span style=\"color: #800080; text-decoration-color: #800080; font-weight: bold\">generate_list</span><span style=\"font-weight: bold\">(</span><span style=\"color: #008080; text-decoration-color: #008080; font-weight: bold\">-5</span>,<span style=\"color: #008080; text-decoration-color: #008080; font-weight: bold\">0</span><span style=\"font-weight: bold\">)</span>, <span style=\"font-weight: bold\">[</span><span style=\"color: #008080; text-decoration-color: #008080; font-weight: bold\">-5</span>,<span style=\"color: #008080; text-decoration-color: #008080; font-weight: bold\">-4</span>,<span style=\"color: #008080; text-decoration-color: #008080; font-weight: bold\">-3</span>,<span style=\"color: #008080; text-decoration-color: #008080; font-weight: bold\">-2</span>,<span style=\"color: #008080; text-decoration-color: #008080; font-weight: bold\">-1</span>,<span style=\"color: #008080; text-decoration-color: #008080; font-weight: bold\">0</span><span style=\"font-weight: bold\">])</span>\n",
       "        \n",
       "        # Test list generation with start and end being the same number\n",
       "        <span style=\"color: #800080; text-decoration-color: #800080; font-weight: bold\">self.assertEqual</span><span style=\"font-weight: bold\">(</span><span style=\"color: #800080; text-decoration-color: #800080; font-weight: bold\">generate_list</span><span style=\"font-weight: bold\">(</span><span style=\"color: #008080; text-decoration-color: #008080; font-weight: bold\">1</span>,<span style=\"color: #008080; text-decoration-color: #008080; font-weight: bold\">1</span><span style=\"font-weight: bold\">)</span>, <span style=\"font-weight: bold\">[</span><span style=\"color: #008080; text-decoration-color: #008080; font-weight: bold\">1</span><span style=\"font-weight: bold\">])</span>\n",
       "        \n",
       "        # Test list generation with start and end being negative numbers\n",
       "        <span style=\"color: #800080; text-decoration-color: #800080; font-weight: bold\">self.assertEqual</span><span style=\"font-weight: bold\">(</span><span style=\"color: #800080; text-decoration-color: #800080; font-weight: bold\">generate_list</span><span style=\"font-weight: bold\">(</span><span style=\"color: #008080; text-decoration-color: #008080; font-weight: bold\">-10</span>,<span style=\"color: #008080; text-decoration-color: #008080; font-weight: bold\">-5</span><span style=\"font-weight: bold\">)</span>, <span style=\"font-weight: bold\">[</span><span style=\"color: #008080; text-decoration-color: #008080; font-weight: bold\">-10</span>,<span style=\"color: #008080; text-decoration-color: #008080; font-weight: bold\">-9</span>,<span style=\"color: #008080; text-decoration-color: #008080; font-weight: bold\">-8</span>,<span style=\"color: #008080; text-decoration-color: #008080; font-weight: bold\">-7</span>,<span style=\"color: #008080; text-decoration-color: #008080; font-weight: bold\">-6</span>,<span style=\"color: #008080; text-decoration-color: #008080; font-weight: bold\">-5</span><span style=\"font-weight: bold\">])</span>\n",
       "        \n",
       "        # Test list generation with start and end being decimal numbers\n",
       "        <span style=\"color: #800080; text-decoration-color: #800080; font-weight: bold\">self.assertEqual</span><span style=\"font-weight: bold\">(</span><span style=\"color: #800080; text-decoration-color: #800080; font-weight: bold\">generate_list</span><span style=\"font-weight: bold\">(</span><span style=\"color: #008080; text-decoration-color: #008080; font-weight: bold\">1.5</span>,<span style=\"color: #008080; text-decoration-color: #008080; font-weight: bold\">5.5</span><span style=\"font-weight: bold\">)</span>, <span style=\"font-weight: bold\">[</span><span style=\"color: #008080; text-decoration-color: #008080; font-weight: bold\">1.5</span>,<span style=\"color: #008080; text-decoration-color: #008080; font-weight: bold\">2.5</span>,<span style=\"color: #008080; text-decoration-color: #008080; font-weight: bold\">3.5</span>,<span style=\"color: #008080; text-decoration-color: #008080; font-weight: bold\">4.5</span>,<span style=\"color: #008080; text-decoration-color: #008080; font-weight: bold\">5.5</span><span style=\"font-weight: bold\">])</span>\n",
       "        \n",
       "        # Test list generation with start and end being non-integer numbers\n",
       "        <span style=\"color: #800080; text-decoration-color: #800080; font-weight: bold\">self.assertEqual</span><span style=\"font-weight: bold\">(</span><span style=\"color: #800080; text-decoration-color: #800080; font-weight: bold\">generate_list</span><span style=\"font-weight: bold\">(</span><span style=\"color: #008080; text-decoration-color: #008080; font-weight: bold\">1.5</span>,<span style=\"color: #008080; text-decoration-color: #008080; font-weight: bold\">3.5</span><span style=\"font-weight: bold\">)</span>, <span style=\"font-weight: bold\">[</span><span style=\"color: #008080; text-decoration-color: #008080; font-weight: bold\">1.5</span>,<span style=\"color: #008080; text-decoration-color: #008080; font-weight: bold\">2.5</span>,<span style=\"color: #008080; text-decoration-color: #008080; font-weight: bold\">3.5</span><span style=\"font-weight: bold\">])</span>\n",
       "        \n",
       "        # Test list generation with start and end being\n",
       "</pre>\n"
      ],
      "text/plain": [
       "\n",
       "\n",
       "import unittest\n",
       "\n",
       "class \u001b[1;35mTestGenerateList\u001b[0m\u001b[1m(\u001b[0munittest.TestCase\u001b[1m)\u001b[0m:\n",
       "    \n",
       "    def \u001b[1;35mtest_generate_list\u001b[0m\u001b[1m(\u001b[0mself\u001b[1m)\u001b[0m:\n",
       "        # Test list generation with positive numbers\n",
       "        \u001b[1;35mself.assertEqual\u001b[0m\u001b[1m(\u001b[0m\u001b[1;35mgenerate_list\u001b[0m\u001b[1m(\u001b[0m\u001b[1;36m1\u001b[0m,\u001b[1;36m5\u001b[0m\u001b[1m)\u001b[0m, \u001b[1m[\u001b[0m\u001b[1;36m1\u001b[0m,\u001b[1;36m2\u001b[0m,\u001b[1;36m3\u001b[0m,\u001b[1;36m4\u001b[0m,\u001b[1;36m5\u001b[0m\u001b[1m]\u001b[0m\u001b[1m)\u001b[0m\n",
       "        \n",
       "        # Test list generation with negative numbers\n",
       "        \u001b[1;35mself.assertEqual\u001b[0m\u001b[1m(\u001b[0m\u001b[1;35mgenerate_list\u001b[0m\u001b[1m(\u001b[0m\u001b[1;36m-5\u001b[0m,\u001b[1;36m0\u001b[0m\u001b[1m)\u001b[0m, \u001b[1m[\u001b[0m\u001b[1;36m-5\u001b[0m,\u001b[1;36m-4\u001b[0m,\u001b[1;36m-3\u001b[0m,\u001b[1;36m-2\u001b[0m,\u001b[1;36m-1\u001b[0m,\u001b[1;36m0\u001b[0m\u001b[1m]\u001b[0m\u001b[1m)\u001b[0m\n",
       "        \n",
       "        # Test list generation with start and end being the same number\n",
       "        \u001b[1;35mself.assertEqual\u001b[0m\u001b[1m(\u001b[0m\u001b[1;35mgenerate_list\u001b[0m\u001b[1m(\u001b[0m\u001b[1;36m1\u001b[0m,\u001b[1;36m1\u001b[0m\u001b[1m)\u001b[0m, \u001b[1m[\u001b[0m\u001b[1;36m1\u001b[0m\u001b[1m]\u001b[0m\u001b[1m)\u001b[0m\n",
       "        \n",
       "        # Test list generation with start and end being negative numbers\n",
       "        \u001b[1;35mself.assertEqual\u001b[0m\u001b[1m(\u001b[0m\u001b[1;35mgenerate_list\u001b[0m\u001b[1m(\u001b[0m\u001b[1;36m-10\u001b[0m,\u001b[1;36m-5\u001b[0m\u001b[1m)\u001b[0m, \u001b[1m[\u001b[0m\u001b[1;36m-10\u001b[0m,\u001b[1;36m-9\u001b[0m,\u001b[1;36m-8\u001b[0m,\u001b[1;36m-7\u001b[0m,\u001b[1;36m-6\u001b[0m,\u001b[1;36m-5\u001b[0m\u001b[1m]\u001b[0m\u001b[1m)\u001b[0m\n",
       "        \n",
       "        # Test list generation with start and end being decimal numbers\n",
       "        \u001b[1;35mself.assertEqual\u001b[0m\u001b[1m(\u001b[0m\u001b[1;35mgenerate_list\u001b[0m\u001b[1m(\u001b[0m\u001b[1;36m1.5\u001b[0m,\u001b[1;36m5.5\u001b[0m\u001b[1m)\u001b[0m, \u001b[1m[\u001b[0m\u001b[1;36m1.5\u001b[0m,\u001b[1;36m2.5\u001b[0m,\u001b[1;36m3.5\u001b[0m,\u001b[1;36m4.5\u001b[0m,\u001b[1;36m5.5\u001b[0m\u001b[1m]\u001b[0m\u001b[1m)\u001b[0m\n",
       "        \n",
       "        # Test list generation with start and end being non-integer numbers\n",
       "        \u001b[1;35mself.assertEqual\u001b[0m\u001b[1m(\u001b[0m\u001b[1;35mgenerate_list\u001b[0m\u001b[1m(\u001b[0m\u001b[1;36m1.5\u001b[0m,\u001b[1;36m3.5\u001b[0m\u001b[1m)\u001b[0m, \u001b[1m[\u001b[0m\u001b[1;36m1.5\u001b[0m,\u001b[1;36m2.5\u001b[0m,\u001b[1;36m3.5\u001b[0m\u001b[1m]\u001b[0m\u001b[1m)\u001b[0m\n",
       "        \n",
       "        # Test list generation with start and end being\n"
      ]
     },
     "metadata": {},
     "output_type": "display_data"
    }
   ],
   "source": [
    "# Output of the unittest_chain (key=\"test\")\n",
    "print(result.get(\"test\"))"
   ]
  },
  {
   "cell_type": "markdown",
   "metadata": {},
   "source": [
    "<hr><br>\n",
    "\n",
    "# Simple Terminal Chatbot\n",
    "\n",
    "<br>\n",
    "\n",
    "### Chat Model\n",
    "\n",
    "- It's optimized for conversations.\n",
    "- It has the following inputs:\n",
    "  - **System Message:** A system message is a message generated by the system or platform hosting the conversation. It is not authored by a human user or the AI model.\n",
    "  \n",
    "  - **Human Message:** Any message created by a human user that is directed towards the LLM for processing or interaction.\n",
    "\n",
    "  - **AI/Assistant Message:** The output generated by the LLM in response to a human message or internal processing.\n",
    "  \n",
    "[![image.png](https://i.postimg.cc/FRgxXmJ6/image.png)](https://postimg.cc/YG0FQ5RN)\n",
    "\n",
    "<br>\n",
    "\n",
    "### ChatPrompt Template\n",
    "\n",
    "[![image.png](https://i.postimg.cc/s2nTM32Z/image.png)](https://postimg.cc/4K96MkVJ)"
   ]
  },
  {
   "cell_type": "code",
   "execution_count": 17,
   "metadata": {},
   "outputs": [],
   "source": [
    "OPENAI_CHAT_MODEL: str = \"gpt-3.5-turbo\""
   ]
  },
  {
   "cell_type": "code",
   "execution_count": 16,
   "metadata": {},
   "outputs": [],
   "source": [
    "from langchain.chat_models import ChatOpenAI\n",
    "from langchain.chains import LLMChain\n",
    "from langchain.prompts import (\n",
    "    HumanMessagePromptTemplate,\n",
    "    AIMessagePromptTemplate,\n",
    "    SystemMessagePromptTemplate,\n",
    "    ChatPromptTemplate,\n",
    ")"
   ]
  },
  {
   "cell_type": "code",
   "execution_count": 18,
   "metadata": {},
   "outputs": [],
   "source": [
    "chat_llm = ChatOpenAI(\n",
    "    model=OPENAI_CHAT_MODEL,\n",
    "    temperature=TEMPERATURE,\n",
    ")\n",
    "\n",
    "# Used for chat completion LLMs\n",
    "prompt = ChatPromptTemplate(\n",
    "    input_variables=[\"content\"],\n",
    "    messages=[HumanMessagePromptTemplate.from_template(\"{content}\")],\n",
    ")\n",
    "\n",
    "chain: LLMChain = LLMChain(llm=chat_llm, prompt=prompt)"
   ]
  },
  {
   "cell_type": "code",
   "execution_count": 19,
   "metadata": {},
   "outputs": [
    {
     "data": {
      "text/html": [
       "<pre style=\"white-space:pre;overflow-x:auto;line-height:normal;font-family:Menlo,'DejaVu Sans Mono',consolas,'Courier New',monospace\"><span style=\"font-weight: bold\">{</span>\n",
       "    <span style=\"color: #008000; text-decoration-color: #008000\">'content'</span>: <span style=\"color: #008000; text-decoration-color: #008000\">'Hello, who are you?'</span>,\n",
       "    <span style=\"color: #008000; text-decoration-color: #008000\">'text'</span>: <span style=\"color: #008000; text-decoration-color: #008000\">'Hello! I am an AI language model developed by OpenAI. I am designed to assist with answering questions</span>\n",
       "<span style=\"color: #008000; text-decoration-color: #008000\">and engaging in conversations on a wide range of topics. How can I assist you today?'</span>\n",
       "<span style=\"font-weight: bold\">}</span>\n",
       "</pre>\n"
      ],
      "text/plain": [
       "\u001b[1m{\u001b[0m\n",
       "    \u001b[32m'content'\u001b[0m: \u001b[32m'Hello, who are you?'\u001b[0m,\n",
       "    \u001b[32m'text'\u001b[0m: \u001b[32m'Hello! I am an AI language model developed by OpenAI. I am designed to assist with answering questions\u001b[0m\n",
       "\u001b[32mand engaging in conversations on a wide range of topics. How can I assist you today?'\u001b[0m\n",
       "\u001b[1m}\u001b[0m\n"
      ]
     },
     "metadata": {},
     "output_type": "display_data"
    }
   ],
   "source": [
    "content: str = \"Hello, who are you?\"\n",
    "\n",
    "result: dict[str, Any] = chain({\"content\": content})\n",
    "print(result)"
   ]
  },
  {
   "cell_type": "markdown",
   "metadata": {},
   "source": [
    "### Add Memory\n",
    "\n",
    "- Memory allows LLMs to access and consider previous conversations or inputs, leading to more coherent and contextually relevant responses.\n",
    "\n",
    "<br>\n",
    "\n",
    "[![image.png](https://i.postimg.cc/MGPkWySn/image.png)](https://postimg.cc/8F6X4fsG)\n",
    "\n",
    "<br><br>\n",
    "\n",
    "#### Message PlaceHolder\n",
    "\n",
    "- It's used to track the conversations.\n",
    "- It contains the contents of the chat. i.e. the human and the AI messages.\n",
    "\n",
    "[![image.png](https://i.postimg.cc/3wPBCRjL/image.png)](https://postimg.cc/p9JzPP68)\n"
   ]
  },
  {
   "cell_type": "code",
   "execution_count": 20,
   "metadata": {},
   "outputs": [],
   "source": [
    "from langchain.memory import ConversationBufferMemory\n",
    "from langchain.prompts import MessagesPlaceholder"
   ]
  },
  {
   "cell_type": "code",
   "execution_count": 23,
   "metadata": {},
   "outputs": [],
   "source": [
    "chat_llm = ChatOpenAI(\n",
    "    model=OPENAI_CHAT_MODEL,\n",
    "    temperature=TEMPERATURE,\n",
    ")\n",
    "\n",
    "memory = ConversationBufferMemory(\n",
    "    memory_key=\"messages\",  # key for storing the chat history\n",
    "    return_messages=True,  # returns the promp classes. e.g. HumanMsg, AIMsg, etc\n",
    ")\n",
    "\n",
    "# Used for chat completion LLMs\n",
    "prompt = ChatPromptTemplate(\n",
    "    input_variables=[\"content\", \"messages\"],\n",
    "    messages=[\n",
    "        HumanMessagePromptTemplate.from_template(\"{content}\"),\n",
    "        MessagesPlaceholder(variable_name=\"messages\"), # used to track the conversations\n",
    "    ],\n",
    ")\n",
    "\n",
    "chain: LLMChain = LLMChain(\n",
    "    llm=chat_llm,\n",
    "    prompt=prompt,\n",
    "    memory=memory,  # Add memory (new!)\n",
    ")"
   ]
  },
  {
   "cell_type": "code",
   "execution_count": 24,
   "metadata": {},
   "outputs": [
    {
     "data": {
      "text/html": [
       "<pre style=\"white-space:pre;overflow-x:auto;line-height:normal;font-family:Menlo,'DejaVu Sans Mono',consolas,'Courier New',monospace\"><span style=\"font-weight: bold\">{</span>\n",
       "    <span style=\"color: #008000; text-decoration-color: #008000\">'content'</span>: <span style=\"color: #008000; text-decoration-color: #008000\">'Hello, who are you?'</span>,\n",
       "    <span style=\"color: #008000; text-decoration-color: #008000\">'messages'</span>: <span style=\"font-weight: bold\">[</span>\n",
       "        <span style=\"color: #800080; text-decoration-color: #800080; font-weight: bold\">HumanMessage</span><span style=\"font-weight: bold\">(</span><span style=\"color: #808000; text-decoration-color: #808000\">content</span>=<span style=\"color: #008000; text-decoration-color: #008000\">'Hello, who are you?'</span>, <span style=\"color: #808000; text-decoration-color: #808000\">additional_kwargs</span>=<span style=\"font-weight: bold\">{}</span>, <span style=\"color: #808000; text-decoration-color: #808000\">example</span>=<span style=\"color: #ff0000; text-decoration-color: #ff0000; font-style: italic\">False</span><span style=\"font-weight: bold\">)</span>,\n",
       "        <span style=\"color: #800080; text-decoration-color: #800080; font-weight: bold\">AIMessage</span><span style=\"font-weight: bold\">(</span>\n",
       "            <span style=\"color: #808000; text-decoration-color: #808000\">content</span>=<span style=\"color: #008000; text-decoration-color: #008000\">'Hello! I am an AI language model developed by OpenAI. I am here to assist you with any </span>\n",
       "<span style=\"color: #008000; text-decoration-color: #008000\">questions or tasks you may have. How can I help you today?'</span>,\n",
       "            <span style=\"color: #808000; text-decoration-color: #808000\">additional_kwargs</span>=<span style=\"font-weight: bold\">{}</span>,\n",
       "            <span style=\"color: #808000; text-decoration-color: #808000\">example</span>=<span style=\"color: #ff0000; text-decoration-color: #ff0000; font-style: italic\">False</span>\n",
       "        <span style=\"font-weight: bold\">)</span>\n",
       "    <span style=\"font-weight: bold\">]</span>,\n",
       "    <span style=\"color: #008000; text-decoration-color: #008000\">'text'</span>: <span style=\"color: #008000; text-decoration-color: #008000\">'Hello! I am an AI language model developed by OpenAI. I am here to assist you with any questions or </span>\n",
       "<span style=\"color: #008000; text-decoration-color: #008000\">tasks you may have. How can I help you today?'</span>\n",
       "<span style=\"font-weight: bold\">}</span>\n",
       "</pre>\n"
      ],
      "text/plain": [
       "\u001b[1m{\u001b[0m\n",
       "    \u001b[32m'content'\u001b[0m: \u001b[32m'Hello, who are you?'\u001b[0m,\n",
       "    \u001b[32m'messages'\u001b[0m: \u001b[1m[\u001b[0m\n",
       "        \u001b[1;35mHumanMessage\u001b[0m\u001b[1m(\u001b[0m\u001b[33mcontent\u001b[0m=\u001b[32m'Hello, who are you?'\u001b[0m, \u001b[33madditional_kwargs\u001b[0m=\u001b[1m{\u001b[0m\u001b[1m}\u001b[0m, \u001b[33mexample\u001b[0m=\u001b[3;91mFalse\u001b[0m\u001b[1m)\u001b[0m,\n",
       "        \u001b[1;35mAIMessage\u001b[0m\u001b[1m(\u001b[0m\n",
       "            \u001b[33mcontent\u001b[0m=\u001b[32m'Hello! I am an AI language model developed by OpenAI. I am here to assist you with any \u001b[0m\n",
       "\u001b[32mquestions or tasks you may have. How can I help you today?'\u001b[0m,\n",
       "            \u001b[33madditional_kwargs\u001b[0m=\u001b[1m{\u001b[0m\u001b[1m}\u001b[0m,\n",
       "            \u001b[33mexample\u001b[0m=\u001b[3;91mFalse\u001b[0m\n",
       "        \u001b[1m)\u001b[0m\n",
       "    \u001b[1m]\u001b[0m,\n",
       "    \u001b[32m'text'\u001b[0m: \u001b[32m'Hello! I am an AI language model developed by OpenAI. I am here to assist you with any questions or \u001b[0m\n",
       "\u001b[32mtasks you may have. How can I help you today?'\u001b[0m\n",
       "\u001b[1m}\u001b[0m\n"
      ]
     },
     "metadata": {},
     "output_type": "display_data"
    }
   ],
   "source": [
    "content: str = \"Hello, who are you?\"\n",
    "\n",
    "result: dict[str, Any] = chain({\"content\": content})\n",
    "print(result)"
   ]
  },
  {
   "cell_type": "code",
   "execution_count": 25,
   "metadata": {},
   "outputs": [
    {
     "data": {
      "text/html": [
       "<pre style=\"white-space:pre;overflow-x:auto;line-height:normal;font-family:Menlo,'DejaVu Sans Mono',consolas,'Courier New',monospace\"><span style=\"font-weight: bold\">{</span>\n",
       "    <span style=\"color: #008000; text-decoration-color: #008000\">'content'</span>: <span style=\"color: #008000; text-decoration-color: #008000\">'What is NLP?'</span>,\n",
       "    <span style=\"color: #008000; text-decoration-color: #008000\">'messages'</span>: <span style=\"font-weight: bold\">[</span>\n",
       "        <span style=\"color: #800080; text-decoration-color: #800080; font-weight: bold\">HumanMessage</span><span style=\"font-weight: bold\">(</span><span style=\"color: #808000; text-decoration-color: #808000\">content</span>=<span style=\"color: #008000; text-decoration-color: #008000\">'Hello, who are you?'</span>, <span style=\"color: #808000; text-decoration-color: #808000\">additional_kwargs</span>=<span style=\"font-weight: bold\">{}</span>, <span style=\"color: #808000; text-decoration-color: #808000\">example</span>=<span style=\"color: #ff0000; text-decoration-color: #ff0000; font-style: italic\">False</span><span style=\"font-weight: bold\">)</span>,\n",
       "        <span style=\"color: #800080; text-decoration-color: #800080; font-weight: bold\">AIMessage</span><span style=\"font-weight: bold\">(</span>\n",
       "            <span style=\"color: #808000; text-decoration-color: #808000\">content</span>=<span style=\"color: #008000; text-decoration-color: #008000\">'Hello! I am an AI language model developed by OpenAI. I am here to assist you with any </span>\n",
       "<span style=\"color: #008000; text-decoration-color: #008000\">questions or tasks you may have. How can I help you today?'</span>,\n",
       "            <span style=\"color: #808000; text-decoration-color: #808000\">additional_kwargs</span>=<span style=\"font-weight: bold\">{}</span>,\n",
       "            <span style=\"color: #808000; text-decoration-color: #808000\">example</span>=<span style=\"color: #ff0000; text-decoration-color: #ff0000; font-style: italic\">False</span>\n",
       "        <span style=\"font-weight: bold\">)</span>,\n",
       "        <span style=\"color: #800080; text-decoration-color: #800080; font-weight: bold\">HumanMessage</span><span style=\"font-weight: bold\">(</span><span style=\"color: #808000; text-decoration-color: #808000\">content</span>=<span style=\"color: #008000; text-decoration-color: #008000\">'What is NLP?'</span>, <span style=\"color: #808000; text-decoration-color: #808000\">additional_kwargs</span>=<span style=\"font-weight: bold\">{}</span>, <span style=\"color: #808000; text-decoration-color: #808000\">example</span>=<span style=\"color: #ff0000; text-decoration-color: #ff0000; font-style: italic\">False</span><span style=\"font-weight: bold\">)</span>,\n",
       "        <span style=\"color: #800080; text-decoration-color: #800080; font-weight: bold\">AIMessage</span><span style=\"font-weight: bold\">(</span>\n",
       "            <span style=\"color: #808000; text-decoration-color: #808000\">content</span>=<span style=\"color: #008000; text-decoration-color: #008000\">'NLP stands for Natural Language Processing. It is a field of artificial intelligence that </span>\n",
       "<span style=\"color: #008000; text-decoration-color: #008000\">focuses on the interaction between computers and human language. NLP involves the development of algorithms and </span>\n",
       "<span style=\"color: #008000; text-decoration-color: #008000\">models that enable computers to understand, interpret, and generate human language in a way that is meaningful and </span>\n",
       "<span style=\"color: #008000; text-decoration-color: #008000\">useful. It encompasses tasks such as text classification, sentiment analysis, language translation, speech </span>\n",
       "<span style=\"color: #008000; text-decoration-color: #008000\">recognition, and information extraction, among others. NLP plays a crucial role in various applications, including </span>\n",
       "<span style=\"color: #008000; text-decoration-color: #008000\">virtual assistants, chatbots, search engines, and language translation services.'</span>,\n",
       "            <span style=\"color: #808000; text-decoration-color: #808000\">additional_kwargs</span>=<span style=\"font-weight: bold\">{}</span>,\n",
       "            <span style=\"color: #808000; text-decoration-color: #808000\">example</span>=<span style=\"color: #ff0000; text-decoration-color: #ff0000; font-style: italic\">False</span>\n",
       "        <span style=\"font-weight: bold\">)</span>\n",
       "    <span style=\"font-weight: bold\">]</span>,\n",
       "    <span style=\"color: #008000; text-decoration-color: #008000\">'text'</span>: <span style=\"color: #008000; text-decoration-color: #008000\">'NLP stands for Natural Language Processing. It is a field of artificial intelligence that focuses on </span>\n",
       "<span style=\"color: #008000; text-decoration-color: #008000\">the interaction between computers and human language. NLP involves the development of algorithms and models that </span>\n",
       "<span style=\"color: #008000; text-decoration-color: #008000\">enable computers to understand, interpret, and generate human language in a way that is meaningful and useful. It </span>\n",
       "<span style=\"color: #008000; text-decoration-color: #008000\">encompasses tasks such as text classification, sentiment analysis, language translation, speech recognition, and </span>\n",
       "<span style=\"color: #008000; text-decoration-color: #008000\">information extraction, among others. NLP plays a crucial role in various applications, including virtual </span>\n",
       "<span style=\"color: #008000; text-decoration-color: #008000\">assistants, chatbots, search engines, and language translation services.'</span>\n",
       "<span style=\"font-weight: bold\">}</span>\n",
       "</pre>\n"
      ],
      "text/plain": [
       "\u001b[1m{\u001b[0m\n",
       "    \u001b[32m'content'\u001b[0m: \u001b[32m'What is NLP?'\u001b[0m,\n",
       "    \u001b[32m'messages'\u001b[0m: \u001b[1m[\u001b[0m\n",
       "        \u001b[1;35mHumanMessage\u001b[0m\u001b[1m(\u001b[0m\u001b[33mcontent\u001b[0m=\u001b[32m'Hello, who are you?'\u001b[0m, \u001b[33madditional_kwargs\u001b[0m=\u001b[1m{\u001b[0m\u001b[1m}\u001b[0m, \u001b[33mexample\u001b[0m=\u001b[3;91mFalse\u001b[0m\u001b[1m)\u001b[0m,\n",
       "        \u001b[1;35mAIMessage\u001b[0m\u001b[1m(\u001b[0m\n",
       "            \u001b[33mcontent\u001b[0m=\u001b[32m'Hello! I am an AI language model developed by OpenAI. I am here to assist you with any \u001b[0m\n",
       "\u001b[32mquestions or tasks you may have. How can I help you today?'\u001b[0m,\n",
       "            \u001b[33madditional_kwargs\u001b[0m=\u001b[1m{\u001b[0m\u001b[1m}\u001b[0m,\n",
       "            \u001b[33mexample\u001b[0m=\u001b[3;91mFalse\u001b[0m\n",
       "        \u001b[1m)\u001b[0m,\n",
       "        \u001b[1;35mHumanMessage\u001b[0m\u001b[1m(\u001b[0m\u001b[33mcontent\u001b[0m=\u001b[32m'What is NLP?'\u001b[0m, \u001b[33madditional_kwargs\u001b[0m=\u001b[1m{\u001b[0m\u001b[1m}\u001b[0m, \u001b[33mexample\u001b[0m=\u001b[3;91mFalse\u001b[0m\u001b[1m)\u001b[0m,\n",
       "        \u001b[1;35mAIMessage\u001b[0m\u001b[1m(\u001b[0m\n",
       "            \u001b[33mcontent\u001b[0m=\u001b[32m'NLP stands for Natural Language Processing. It is a field of artificial intelligence that \u001b[0m\n",
       "\u001b[32mfocuses on the interaction between computers and human language. NLP involves the development of algorithms and \u001b[0m\n",
       "\u001b[32mmodels that enable computers to understand, interpret, and generate human language in a way that is meaningful and \u001b[0m\n",
       "\u001b[32museful. It encompasses tasks such as text classification, sentiment analysis, language translation, speech \u001b[0m\n",
       "\u001b[32mrecognition, and information extraction, among others. NLP plays a crucial role in various applications, including \u001b[0m\n",
       "\u001b[32mvirtual assistants, chatbots, search engines, and language translation services.'\u001b[0m,\n",
       "            \u001b[33madditional_kwargs\u001b[0m=\u001b[1m{\u001b[0m\u001b[1m}\u001b[0m,\n",
       "            \u001b[33mexample\u001b[0m=\u001b[3;91mFalse\u001b[0m\n",
       "        \u001b[1m)\u001b[0m\n",
       "    \u001b[1m]\u001b[0m,\n",
       "    \u001b[32m'text'\u001b[0m: \u001b[32m'NLP stands for Natural Language Processing. It is a field of artificial intelligence that focuses on \u001b[0m\n",
       "\u001b[32mthe interaction between computers and human language. NLP involves the development of algorithms and models that \u001b[0m\n",
       "\u001b[32menable computers to understand, interpret, and generate human language in a way that is meaningful and useful. It \u001b[0m\n",
       "\u001b[32mencompasses tasks such as text classification, sentiment analysis, language translation, speech recognition, and \u001b[0m\n",
       "\u001b[32minformation extraction, among others. NLP plays a crucial role in various applications, including virtual \u001b[0m\n",
       "\u001b[32massistants, chatbots, search engines, and language translation services.'\u001b[0m\n",
       "\u001b[1m}\u001b[0m\n"
      ]
     },
     "metadata": {},
     "output_type": "display_data"
    }
   ],
   "source": [
    "# Follow up question\n",
    "content: str = \"What is NLP?\"\n",
    "\n",
    "result: dict[str, Any] = chain({\"content\": content})\n",
    "print(result)"
   ]
  },
  {
   "cell_type": "code",
   "execution_count": 26,
   "metadata": {},
   "outputs": [
    {
     "data": {
      "text/html": [
       "<pre style=\"white-space:pre;overflow-x:auto;line-height:normal;font-family:Menlo,'DejaVu Sans Mono',consolas,'Courier New',monospace\"><span style=\"font-weight: bold\">{</span>\n",
       "    <span style=\"color: #008000; text-decoration-color: #008000\">'content'</span>: <span style=\"color: #008000; text-decoration-color: #008000\">'How can I study it?'</span>,\n",
       "    <span style=\"color: #008000; text-decoration-color: #008000\">'messages'</span>: <span style=\"font-weight: bold\">[</span>\n",
       "        <span style=\"color: #800080; text-decoration-color: #800080; font-weight: bold\">HumanMessage</span><span style=\"font-weight: bold\">(</span><span style=\"color: #808000; text-decoration-color: #808000\">content</span>=<span style=\"color: #008000; text-decoration-color: #008000\">'Hello, who are you?'</span>, <span style=\"color: #808000; text-decoration-color: #808000\">additional_kwargs</span>=<span style=\"font-weight: bold\">{}</span>, <span style=\"color: #808000; text-decoration-color: #808000\">example</span>=<span style=\"color: #ff0000; text-decoration-color: #ff0000; font-style: italic\">False</span><span style=\"font-weight: bold\">)</span>,\n",
       "        <span style=\"color: #800080; text-decoration-color: #800080; font-weight: bold\">AIMessage</span><span style=\"font-weight: bold\">(</span>\n",
       "            <span style=\"color: #808000; text-decoration-color: #808000\">content</span>=<span style=\"color: #008000; text-decoration-color: #008000\">'Hello! I am an AI language model developed by OpenAI. I am here to assist you with any </span>\n",
       "<span style=\"color: #008000; text-decoration-color: #008000\">questions or tasks you may have. How can I help you today?'</span>,\n",
       "            <span style=\"color: #808000; text-decoration-color: #808000\">additional_kwargs</span>=<span style=\"font-weight: bold\">{}</span>,\n",
       "            <span style=\"color: #808000; text-decoration-color: #808000\">example</span>=<span style=\"color: #ff0000; text-decoration-color: #ff0000; font-style: italic\">False</span>\n",
       "        <span style=\"font-weight: bold\">)</span>,\n",
       "        <span style=\"color: #800080; text-decoration-color: #800080; font-weight: bold\">HumanMessage</span><span style=\"font-weight: bold\">(</span><span style=\"color: #808000; text-decoration-color: #808000\">content</span>=<span style=\"color: #008000; text-decoration-color: #008000\">'What is NLP?'</span>, <span style=\"color: #808000; text-decoration-color: #808000\">additional_kwargs</span>=<span style=\"font-weight: bold\">{}</span>, <span style=\"color: #808000; text-decoration-color: #808000\">example</span>=<span style=\"color: #ff0000; text-decoration-color: #ff0000; font-style: italic\">False</span><span style=\"font-weight: bold\">)</span>,\n",
       "        <span style=\"color: #800080; text-decoration-color: #800080; font-weight: bold\">AIMessage</span><span style=\"font-weight: bold\">(</span>\n",
       "            <span style=\"color: #808000; text-decoration-color: #808000\">content</span>=<span style=\"color: #008000; text-decoration-color: #008000\">'NLP stands for Natural Language Processing. It is a field of artificial intelligence that </span>\n",
       "<span style=\"color: #008000; text-decoration-color: #008000\">focuses on the interaction between computers and human language. NLP involves the development of algorithms and </span>\n",
       "<span style=\"color: #008000; text-decoration-color: #008000\">models that enable computers to understand, interpret, and generate human language in a way that is meaningful and </span>\n",
       "<span style=\"color: #008000; text-decoration-color: #008000\">useful. It encompasses tasks such as text classification, sentiment analysis, language translation, speech </span>\n",
       "<span style=\"color: #008000; text-decoration-color: #008000\">recognition, and information extraction, among others. NLP plays a crucial role in various applications, including </span>\n",
       "<span style=\"color: #008000; text-decoration-color: #008000\">virtual assistants, chatbots, search engines, and language translation services.'</span>,\n",
       "            <span style=\"color: #808000; text-decoration-color: #808000\">additional_kwargs</span>=<span style=\"font-weight: bold\">{}</span>,\n",
       "            <span style=\"color: #808000; text-decoration-color: #808000\">example</span>=<span style=\"color: #ff0000; text-decoration-color: #ff0000; font-style: italic\">False</span>\n",
       "        <span style=\"font-weight: bold\">)</span>,\n",
       "        <span style=\"color: #800080; text-decoration-color: #800080; font-weight: bold\">HumanMessage</span><span style=\"font-weight: bold\">(</span><span style=\"color: #808000; text-decoration-color: #808000\">content</span>=<span style=\"color: #008000; text-decoration-color: #008000\">'How can I study it?'</span>, <span style=\"color: #808000; text-decoration-color: #808000\">additional_kwargs</span>=<span style=\"font-weight: bold\">{}</span>, <span style=\"color: #808000; text-decoration-color: #808000\">example</span>=<span style=\"color: #ff0000; text-decoration-color: #ff0000; font-style: italic\">False</span><span style=\"font-weight: bold\">)</span>,\n",
       "        <span style=\"color: #800080; text-decoration-color: #800080; font-weight: bold\">AIMessage</span><span style=\"font-weight: bold\">(</span>\n",
       "            <span style=\"color: #808000; text-decoration-color: #808000\">content</span>=<span style=\"color: #008000; text-decoration-color: #008000\">\"If you are interested in studying NLP, here are some steps you can take:\\n\\n1. Learn the </span>\n",
       "<span style=\"color: #008000; text-decoration-color: #008000\">basics: Start by understanding the fundamentals of natural language processing, including key concepts, techniques,</span>\n",
       "<span style=\"color: #008000; text-decoration-color: #008000\">and algorithms. Familiarize yourself with topics such as text preprocessing, tokenization, part-of-speech tagging, </span>\n",
       "<span style=\"color: #008000; text-decoration-color: #008000\">named entity recognition, and syntactic parsing.\\n\\n2. Programming skills: Develop your programming skills, as NLP </span>\n",
       "<span style=\"color: #008000; text-decoration-color: #008000\">often involves working with large datasets and implementing algorithms. Python is a popular language for NLP, so </span>\n",
       "<span style=\"color: #008000; text-decoration-color: #008000\">learning Python and libraries like NLTK (Natural Language Toolkit) and spaCy can be beneficial.\\n\\n3. Study </span>\n",
       "<span style=\"color: #008000; text-decoration-color: #008000\">algorithms and models: Dive deeper into the algorithms and models used in NLP, such as Naive Bayes, Hidden Markov </span>\n",
       "<span style=\"color: #008000; text-decoration-color: #008000\">Models, Conditional Random Fields, and neural networks. Understand their principles, strengths, and </span>\n",
       "<span style=\"color: #008000; text-decoration-color: #008000\">limitations.\\n\\n4. Explore NLP libraries and tools: Familiarize yourself with popular NLP libraries and tools that </span>\n",
       "<span style=\"color: #008000; text-decoration-color: #008000\">provide pre-built functionalities for various NLP tasks. Some widely used libraries include NLTK, spaCy, </span>\n",
       "<span style=\"color: #008000; text-decoration-color: #008000\">TensorFlow, and PyTorch.\\n\\n5. Practice with datasets: Work with real-world datasets to gain hands-on experience. </span>\n",
       "<span style=\"color: #008000; text-decoration-color: #008000\">There are many publicly available datasets for tasks like sentiment analysis, text classification, and named entity</span>\n",
       "<span style=\"color: #008000; text-decoration-color: #008000\">recognition. Practice preprocessing the data, training models, and evaluating their performance.\\n\\n6. Stay </span>\n",
       "<span style=\"color: #008000; text-decoration-color: #008000\">updated: NLP is a rapidly evolving field, so it's essential to stay updated with the latest research papers, </span>\n",
       "<span style=\"color: #008000; text-decoration-color: #008000\">conferences, and industry trends. Follow NLP blogs, attend conferences, and join online communities to stay </span>\n",
       "<span style=\"color: #008000; text-decoration-color: #008000\">connected with the NLP community.\\n\\n7. Build projects: Implement NLP projects to apply your knowledge and showcase</span>\n",
       "<span style=\"color: #008000; text-decoration-color: #008000\">your skills. Choose projects that align with your interests, such as developing a chatbot, sentiment analysis </span>\n",
       "<span style=\"color: #008000; text-decoration-color: #008000\">system, or language translation model. Building projects will help solidify your understanding and demonstrate your</span>\n",
       "<span style=\"color: #008000; text-decoration-color: #008000\">abilities to potential employers or collaborators.\\n\\n8. Collaborate and participate: Engage with the NLP community</span>\n",
       "<span style=\"color: #008000; text-decoration-color: #008000\">by collaborating with others, participating in competitions, or contributing to open-source NLP projects. Working </span>\n",
       "<span style=\"color: #008000; text-decoration-color: #008000\">with others and sharing your work can provide valuable feedback and help you grow as an NLP </span>\n",
       "<span style=\"color: #008000; text-decoration-color: #008000\">practitioner.\\n\\nRemember that NLP is a vast field, and it's important to focus on specific areas of interest while</span>\n",
       "<span style=\"color: #008000; text-decoration-color: #008000\">also having a good understanding of the broader concepts. Continuous learning, practice, and hands-on experience </span>\n",
       "<span style=\"color: #008000; text-decoration-color: #008000\">will help you become proficient in NLP.\"</span>,\n",
       "            <span style=\"color: #808000; text-decoration-color: #808000\">additional_kwargs</span>=<span style=\"font-weight: bold\">{}</span>,\n",
       "            <span style=\"color: #808000; text-decoration-color: #808000\">example</span>=<span style=\"color: #ff0000; text-decoration-color: #ff0000; font-style: italic\">False</span>\n",
       "        <span style=\"font-weight: bold\">)</span>\n",
       "    <span style=\"font-weight: bold\">]</span>,\n",
       "    <span style=\"color: #008000; text-decoration-color: #008000\">'text'</span>: <span style=\"color: #008000; text-decoration-color: #008000\">\"If you are interested in studying NLP, here are some steps you can take:\\n\\n1. Learn the basics: Start</span>\n",
       "<span style=\"color: #008000; text-decoration-color: #008000\">by understanding the fundamentals of natural language processing, including key concepts, techniques, and </span>\n",
       "<span style=\"color: #008000; text-decoration-color: #008000\">algorithms. Familiarize yourself with topics such as text preprocessing, tokenization, part-of-speech tagging, </span>\n",
       "<span style=\"color: #008000; text-decoration-color: #008000\">named entity recognition, and syntactic parsing.\\n\\n2. Programming skills: Develop your programming skills, as NLP </span>\n",
       "<span style=\"color: #008000; text-decoration-color: #008000\">often involves working with large datasets and implementing algorithms. Python is a popular language for NLP, so </span>\n",
       "<span style=\"color: #008000; text-decoration-color: #008000\">learning Python and libraries like NLTK (Natural Language Toolkit) and spaCy can be beneficial.\\n\\n3. Study </span>\n",
       "<span style=\"color: #008000; text-decoration-color: #008000\">algorithms and models: Dive deeper into the algorithms and models used in NLP, such as Naive Bayes, Hidden Markov </span>\n",
       "<span style=\"color: #008000; text-decoration-color: #008000\">Models, Conditional Random Fields, and neural networks. Understand their principles, strengths, and </span>\n",
       "<span style=\"color: #008000; text-decoration-color: #008000\">limitations.\\n\\n4. Explore NLP libraries and tools: Familiarize yourself with popular NLP libraries and tools that </span>\n",
       "<span style=\"color: #008000; text-decoration-color: #008000\">provide pre-built functionalities for various NLP tasks. Some widely used libraries include NLTK, spaCy, </span>\n",
       "<span style=\"color: #008000; text-decoration-color: #008000\">TensorFlow, and PyTorch.\\n\\n5. Practice with datasets: Work with real-world datasets to gain hands-on experience. </span>\n",
       "<span style=\"color: #008000; text-decoration-color: #008000\">There are many publicly available datasets for tasks like sentiment analysis, text classification, and named entity</span>\n",
       "<span style=\"color: #008000; text-decoration-color: #008000\">recognition. Practice preprocessing the data, training models, and evaluating their performance.\\n\\n6. Stay </span>\n",
       "<span style=\"color: #008000; text-decoration-color: #008000\">updated: NLP is a rapidly evolving field, so it's essential to stay updated with the latest research papers, </span>\n",
       "<span style=\"color: #008000; text-decoration-color: #008000\">conferences, and industry trends. Follow NLP blogs, attend conferences, and join online communities to stay </span>\n",
       "<span style=\"color: #008000; text-decoration-color: #008000\">connected with the NLP community.\\n\\n7. Build projects: Implement NLP projects to apply your knowledge and showcase</span>\n",
       "<span style=\"color: #008000; text-decoration-color: #008000\">your skills. Choose projects that align with your interests, such as developing a chatbot, sentiment analysis </span>\n",
       "<span style=\"color: #008000; text-decoration-color: #008000\">system, or language translation model. Building projects will help solidify your understanding and demonstrate your</span>\n",
       "<span style=\"color: #008000; text-decoration-color: #008000\">abilities to potential employers or collaborators.\\n\\n8. Collaborate and participate: Engage with the NLP community</span>\n",
       "<span style=\"color: #008000; text-decoration-color: #008000\">by collaborating with others, participating in competitions, or contributing to open-source NLP projects. Working </span>\n",
       "<span style=\"color: #008000; text-decoration-color: #008000\">with others and sharing your work can provide valuable feedback and help you grow as an NLP </span>\n",
       "<span style=\"color: #008000; text-decoration-color: #008000\">practitioner.\\n\\nRemember that NLP is a vast field, and it's important to focus on specific areas of interest while</span>\n",
       "<span style=\"color: #008000; text-decoration-color: #008000\">also having a good understanding of the broader concepts. Continuous learning, practice, and hands-on experience </span>\n",
       "<span style=\"color: #008000; text-decoration-color: #008000\">will help you become proficient in NLP.\"</span>\n",
       "<span style=\"font-weight: bold\">}</span>\n",
       "</pre>\n"
      ],
      "text/plain": [
       "\u001b[1m{\u001b[0m\n",
       "    \u001b[32m'content'\u001b[0m: \u001b[32m'How can I study it?'\u001b[0m,\n",
       "    \u001b[32m'messages'\u001b[0m: \u001b[1m[\u001b[0m\n",
       "        \u001b[1;35mHumanMessage\u001b[0m\u001b[1m(\u001b[0m\u001b[33mcontent\u001b[0m=\u001b[32m'Hello, who are you?'\u001b[0m, \u001b[33madditional_kwargs\u001b[0m=\u001b[1m{\u001b[0m\u001b[1m}\u001b[0m, \u001b[33mexample\u001b[0m=\u001b[3;91mFalse\u001b[0m\u001b[1m)\u001b[0m,\n",
       "        \u001b[1;35mAIMessage\u001b[0m\u001b[1m(\u001b[0m\n",
       "            \u001b[33mcontent\u001b[0m=\u001b[32m'Hello! I am an AI language model developed by OpenAI. I am here to assist you with any \u001b[0m\n",
       "\u001b[32mquestions or tasks you may have. How can I help you today?'\u001b[0m,\n",
       "            \u001b[33madditional_kwargs\u001b[0m=\u001b[1m{\u001b[0m\u001b[1m}\u001b[0m,\n",
       "            \u001b[33mexample\u001b[0m=\u001b[3;91mFalse\u001b[0m\n",
       "        \u001b[1m)\u001b[0m,\n",
       "        \u001b[1;35mHumanMessage\u001b[0m\u001b[1m(\u001b[0m\u001b[33mcontent\u001b[0m=\u001b[32m'What is NLP?'\u001b[0m, \u001b[33madditional_kwargs\u001b[0m=\u001b[1m{\u001b[0m\u001b[1m}\u001b[0m, \u001b[33mexample\u001b[0m=\u001b[3;91mFalse\u001b[0m\u001b[1m)\u001b[0m,\n",
       "        \u001b[1;35mAIMessage\u001b[0m\u001b[1m(\u001b[0m\n",
       "            \u001b[33mcontent\u001b[0m=\u001b[32m'NLP stands for Natural Language Processing. It is a field of artificial intelligence that \u001b[0m\n",
       "\u001b[32mfocuses on the interaction between computers and human language. NLP involves the development of algorithms and \u001b[0m\n",
       "\u001b[32mmodels that enable computers to understand, interpret, and generate human language in a way that is meaningful and \u001b[0m\n",
       "\u001b[32museful. It encompasses tasks such as text classification, sentiment analysis, language translation, speech \u001b[0m\n",
       "\u001b[32mrecognition, and information extraction, among others. NLP plays a crucial role in various applications, including \u001b[0m\n",
       "\u001b[32mvirtual assistants, chatbots, search engines, and language translation services.'\u001b[0m,\n",
       "            \u001b[33madditional_kwargs\u001b[0m=\u001b[1m{\u001b[0m\u001b[1m}\u001b[0m,\n",
       "            \u001b[33mexample\u001b[0m=\u001b[3;91mFalse\u001b[0m\n",
       "        \u001b[1m)\u001b[0m,\n",
       "        \u001b[1;35mHumanMessage\u001b[0m\u001b[1m(\u001b[0m\u001b[33mcontent\u001b[0m=\u001b[32m'How can I study it?'\u001b[0m, \u001b[33madditional_kwargs\u001b[0m=\u001b[1m{\u001b[0m\u001b[1m}\u001b[0m, \u001b[33mexample\u001b[0m=\u001b[3;91mFalse\u001b[0m\u001b[1m)\u001b[0m,\n",
       "        \u001b[1;35mAIMessage\u001b[0m\u001b[1m(\u001b[0m\n",
       "            \u001b[33mcontent\u001b[0m=\u001b[32m\"If\u001b[0m\u001b[32m you are interested in studying NLP, here are some steps you can take:\\n\\n1. Learn the \u001b[0m\n",
       "\u001b[32mbasics: Start by understanding the fundamentals of natural language processing, including key concepts, techniques,\u001b[0m\n",
       "\u001b[32mand algorithms. Familiarize yourself with topics such as text preprocessing, tokenization, part-of-speech tagging, \u001b[0m\n",
       "\u001b[32mnamed entity recognition, and syntactic parsing.\\n\\n2. Programming skills: Develop your programming skills, as NLP \u001b[0m\n",
       "\u001b[32moften involves working with large datasets and implementing algorithms. Python is a popular language for NLP, so \u001b[0m\n",
       "\u001b[32mlearning Python and libraries like NLTK \u001b[0m\u001b[32m(\u001b[0m\u001b[32mNatural Language Toolkit\u001b[0m\u001b[32m)\u001b[0m\u001b[32m and spaCy can be beneficial.\\n\\n3. Study \u001b[0m\n",
       "\u001b[32malgorithms and models: Dive deeper into the algorithms and models used in NLP, such as Naive Bayes, Hidden Markov \u001b[0m\n",
       "\u001b[32mModels, Conditional Random Fields, and neural networks. Understand their principles, strengths, and \u001b[0m\n",
       "\u001b[32mlimitations.\\n\\n4. Explore NLP libraries and tools: Familiarize yourself with popular NLP libraries and tools that \u001b[0m\n",
       "\u001b[32mprovide pre-built functionalities for various NLP tasks. Some widely used libraries include NLTK, spaCy, \u001b[0m\n",
       "\u001b[32mTensorFlow, and PyTorch.\\n\\n5. Practice with datasets: Work with real-world datasets to gain hands-on experience. \u001b[0m\n",
       "\u001b[32mThere are many publicly available datasets for tasks like sentiment analysis, text classification, and named entity\u001b[0m\n",
       "\u001b[32mrecognition. Practice preprocessing the data, training models, and evaluating their performance.\\n\\n6. Stay \u001b[0m\n",
       "\u001b[32mupdated: NLP is a rapidly evolving field, so it's essential to stay updated with the latest research papers, \u001b[0m\n",
       "\u001b[32mconferences, and industry trends. Follow NLP blogs, attend conferences, and join online communities to stay \u001b[0m\n",
       "\u001b[32mconnected with the NLP community.\\n\\n7. Build projects: Implement NLP projects to apply your knowledge and showcase\u001b[0m\n",
       "\u001b[32myour skills. Choose projects that align with your interests, such as developing a chatbot, sentiment analysis \u001b[0m\n",
       "\u001b[32msystem, or language translation model. Building projects will help solidify your understanding and demonstrate your\u001b[0m\n",
       "\u001b[32mabilities to potential employers or collaborators.\\n\\n8. Collaborate and participate: Engage with the NLP community\u001b[0m\n",
       "\u001b[32mby collaborating with others, participating in competitions, or contributing to open-source NLP projects. Working \u001b[0m\n",
       "\u001b[32mwith others and sharing your work can provide valuable feedback and help you grow as an NLP \u001b[0m\n",
       "\u001b[32mpractitioner.\\n\\nRemember that NLP is a vast field, and it's important to focus on specific areas of interest while\u001b[0m\n",
       "\u001b[32malso having a good understanding of the broader concepts. Continuous learning, practice, and hands-on experience \u001b[0m\n",
       "\u001b[32mwill help you become proficient in NLP.\"\u001b[0m,\n",
       "            \u001b[33madditional_kwargs\u001b[0m=\u001b[1m{\u001b[0m\u001b[1m}\u001b[0m,\n",
       "            \u001b[33mexample\u001b[0m=\u001b[3;91mFalse\u001b[0m\n",
       "        \u001b[1m)\u001b[0m\n",
       "    \u001b[1m]\u001b[0m,\n",
       "    \u001b[32m'text'\u001b[0m: \u001b[32m\"If you are interested in studying NLP, here are some steps you can take:\\n\\n1. Learn the basics: Start\u001b[0m\n",
       "\u001b[32mby understanding the fundamentals of natural language processing, including key concepts, techniques, and \u001b[0m\n",
       "\u001b[32malgorithms. Familiarize yourself with topics such as text preprocessing, tokenization, part-of-speech tagging, \u001b[0m\n",
       "\u001b[32mnamed entity recognition, and syntactic parsing.\\n\\n2. Programming skills: Develop your programming skills, as NLP \u001b[0m\n",
       "\u001b[32moften involves working with large datasets and implementing algorithms. Python is a popular language for NLP, so \u001b[0m\n",
       "\u001b[32mlearning Python and libraries like NLTK \u001b[0m\u001b[32m(\u001b[0m\u001b[32mNatural Language Toolkit\u001b[0m\u001b[32m)\u001b[0m\u001b[32m and spaCy can be beneficial.\\n\\n3. Study \u001b[0m\n",
       "\u001b[32malgorithms and models: Dive deeper into the algorithms and models used in NLP, such as Naive Bayes, Hidden Markov \u001b[0m\n",
       "\u001b[32mModels, Conditional Random Fields, and neural networks. Understand their principles, strengths, and \u001b[0m\n",
       "\u001b[32mlimitations.\\n\\n4. Explore NLP libraries and tools: Familiarize yourself with popular NLP libraries and tools that \u001b[0m\n",
       "\u001b[32mprovide pre-built functionalities for various NLP tasks. Some widely used libraries include NLTK, spaCy, \u001b[0m\n",
       "\u001b[32mTensorFlow, and PyTorch.\\n\\n5. Practice with datasets: Work with real-world datasets to gain hands-on experience. \u001b[0m\n",
       "\u001b[32mThere are many publicly available datasets for tasks like sentiment analysis, text classification, and named entity\u001b[0m\n",
       "\u001b[32mrecognition. Practice preprocessing the data, training models, and evaluating their performance.\\n\\n6. Stay \u001b[0m\n",
       "\u001b[32mupdated: NLP is a rapidly evolving field, so it's essential to stay updated with the latest research papers, \u001b[0m\n",
       "\u001b[32mconferences, and industry trends. Follow NLP blogs, attend conferences, and join online communities to stay \u001b[0m\n",
       "\u001b[32mconnected with the NLP community.\\n\\n7. Build projects: Implement NLP projects to apply your knowledge and showcase\u001b[0m\n",
       "\u001b[32myour skills. Choose projects that align with your interests, such as developing a chatbot, sentiment analysis \u001b[0m\n",
       "\u001b[32msystem, or language translation model. Building projects will help solidify your understanding and demonstrate your\u001b[0m\n",
       "\u001b[32mabilities to potential employers or collaborators.\\n\\n8. Collaborate and participate: Engage with the NLP community\u001b[0m\n",
       "\u001b[32mby collaborating with others, participating in competitions, or contributing to open-source NLP projects. Working \u001b[0m\n",
       "\u001b[32mwith others and sharing your work can provide valuable feedback and help you grow as an NLP \u001b[0m\n",
       "\u001b[32mpractitioner.\\n\\nRemember that NLP is a vast field, and it's important to focus on specific areas of interest while\u001b[0m\n",
       "\u001b[32malso having a good understanding of the broader concepts. Continuous learning, practice, and hands-on experience \u001b[0m\n",
       "\u001b[32mwill help you become proficient in NLP.\"\u001b[0m\n",
       "\u001b[1m}\u001b[0m\n"
      ]
     },
     "metadata": {},
     "output_type": "display_data"
    }
   ],
   "source": [
    "# Follow up question\n",
    "content: str = \"How can I study it?\"\n",
    "\n",
    "result: dict[str, Any] = chain({\"content\": content})\n",
    "print(result)"
   ]
  },
  {
   "cell_type": "markdown",
   "metadata": {},
   "source": [
    "### Saving And Extending Conversations\n",
    "\n",
    "- Add the ability for the chatbot to remember previous conversations.\n",
    "    \n",
    "<br>\n",
    "\n",
    "[![image.png](https://i.postimg.cc/NGTgxztb/image.png)](https://postimg.cc/Dmvkv58b)\n",
    "\n",
    "<br>\n",
    "\n",
    "> We can use:\n",
    "- a JSON file.\n",
    "\n",
    "[![image.png](https://i.postimg.cc/B6FGMXrt/image.png)](https://postimg.cc/bDqMvNNj)"
   ]
  },
  {
   "cell_type": "code",
   "execution_count": 27,
   "metadata": {},
   "outputs": [],
   "source": [
    "from langchain.memory import FileChatMessageHistory"
   ]
  },
  {
   "cell_type": "code",
   "execution_count": 32,
   "metadata": {},
   "outputs": [],
   "source": [
    "chat_llm = ChatOpenAI(\n",
    "    model=OPENAI_CHAT_MODEL,\n",
    "    temperature=TEMPERATURE,\n",
    ")\n",
    "\n",
    "memory = ConversationBufferMemory(\n",
    "    chat_memory=FileChatMessageHistory(file_path=\"chat_history.json\"),  # New!\n",
    "    memory_key=\"messages\",  # key for storing the chat history\n",
    "    return_messages=True,  # returns the promp classes. e.g. HumanMsg, AIMsg, etc\n",
    ")\n",
    "\n",
    "# Used for chat completion LLMs\n",
    "prompt = ChatPromptTemplate(\n",
    "    input_variables=[\"content\", \"messages\"],\n",
    "    messages=[\n",
    "        HumanMessagePromptTemplate.from_template(\"{content}\"),\n",
    "        MessagesPlaceholder(\n",
    "            variable_name=\"messages\"\n",
    "        ),  # used to track the conversations\n",
    "    ],\n",
    ")\n",
    "\n",
    "chain: LLMChain = LLMChain(\n",
    "    llm=chat_llm,\n",
    "    prompt=prompt,\n",
    "    memory=memory,  # Add memory\n",
    ")"
   ]
  },
  {
   "cell_type": "code",
   "execution_count": 33,
   "metadata": {},
   "outputs": [
    {
     "data": {
      "text/html": [
       "<pre style=\"white-space:pre;overflow-x:auto;line-height:normal;font-family:Menlo,'DejaVu Sans Mono',consolas,'Courier New',monospace\"><span style=\"font-weight: bold\">{</span>\n",
       "    <span style=\"color: #008000; text-decoration-color: #008000\">'content'</span>: <span style=\"color: #008000; text-decoration-color: #008000\">'subtract 10 from the result'</span>,\n",
       "    <span style=\"color: #008000; text-decoration-color: #008000\">'messages'</span>: <span style=\"font-weight: bold\">[</span>\n",
       "        <span style=\"color: #800080; text-decoration-color: #800080; font-weight: bold\">HumanMessage</span><span style=\"font-weight: bold\">(</span><span style=\"color: #808000; text-decoration-color: #808000\">content</span>=<span style=\"color: #008000; text-decoration-color: #008000\">'Hello, what is 20+5?'</span>, <span style=\"color: #808000; text-decoration-color: #808000\">additional_kwargs</span>=<span style=\"font-weight: bold\">{}</span>, <span style=\"color: #808000; text-decoration-color: #808000\">example</span>=<span style=\"color: #ff0000; text-decoration-color: #ff0000; font-style: italic\">False</span><span style=\"font-weight: bold\">)</span>,\n",
       "        <span style=\"color: #800080; text-decoration-color: #800080; font-weight: bold\">AIMessage</span><span style=\"font-weight: bold\">(</span><span style=\"color: #808000; text-decoration-color: #808000\">content</span>=<span style=\"color: #008000; text-decoration-color: #008000\">'20 + 5 equals 25.'</span>, <span style=\"color: #808000; text-decoration-color: #808000\">additional_kwargs</span>=<span style=\"font-weight: bold\">{}</span>, <span style=\"color: #808000; text-decoration-color: #808000\">example</span>=<span style=\"color: #ff0000; text-decoration-color: #ff0000; font-style: italic\">False</span><span style=\"font-weight: bold\">)</span>\n",
       "    <span style=\"font-weight: bold\">]</span>,\n",
       "    <span style=\"color: #008000; text-decoration-color: #008000\">'text'</span>: <span style=\"color: #008000; text-decoration-color: #008000\">'To subtract 10 from the result, you would subtract 10 from 25:\\n\\n25 - 10 = 15'</span>\n",
       "<span style=\"font-weight: bold\">}</span>\n",
       "</pre>\n"
      ],
      "text/plain": [
       "\u001b[1m{\u001b[0m\n",
       "    \u001b[32m'content'\u001b[0m: \u001b[32m'subtract 10 from the result'\u001b[0m,\n",
       "    \u001b[32m'messages'\u001b[0m: \u001b[1m[\u001b[0m\n",
       "        \u001b[1;35mHumanMessage\u001b[0m\u001b[1m(\u001b[0m\u001b[33mcontent\u001b[0m=\u001b[32m'Hello, what is 20+5?'\u001b[0m, \u001b[33madditional_kwargs\u001b[0m=\u001b[1m{\u001b[0m\u001b[1m}\u001b[0m, \u001b[33mexample\u001b[0m=\u001b[3;91mFalse\u001b[0m\u001b[1m)\u001b[0m,\n",
       "        \u001b[1;35mAIMessage\u001b[0m\u001b[1m(\u001b[0m\u001b[33mcontent\u001b[0m=\u001b[32m'20 + 5 equals 25.'\u001b[0m, \u001b[33madditional_kwargs\u001b[0m=\u001b[1m{\u001b[0m\u001b[1m}\u001b[0m, \u001b[33mexample\u001b[0m=\u001b[3;91mFalse\u001b[0m\u001b[1m)\u001b[0m\n",
       "    \u001b[1m]\u001b[0m,\n",
       "    \u001b[32m'text'\u001b[0m: \u001b[32m'To subtract 10 from the result, you would subtract 10 from 25:\\n\\n25 - 10 = 15'\u001b[0m\n",
       "\u001b[1m}\u001b[0m\n"
      ]
     },
     "metadata": {},
     "output_type": "display_data"
    }
   ],
   "source": [
    "content: str = \"Hello, what is 20+5?\"\n",
    "result: dict[str, Any] = chain({\"content\": content})\n",
    "\n",
    "# Follow up question\n",
    "content: str = \"subtract 10 from the result\"\n",
    "result: dict[str, Any] = chain({\"content\": content})\n",
    "\n",
    "\n",
    "print(result)"
   ]
  },
  {
   "cell_type": "code",
   "execution_count": null,
   "metadata": {},
   "outputs": [],
   "source": []
  },
  {
   "cell_type": "code",
   "execution_count": null,
   "metadata": {},
   "outputs": [],
   "source": []
  },
  {
   "cell_type": "code",
   "execution_count": null,
   "metadata": {},
   "outputs": [],
   "source": []
  },
  {
   "cell_type": "code",
   "execution_count": null,
   "metadata": {},
   "outputs": [],
   "source": []
  },
  {
   "cell_type": "code",
   "execution_count": null,
   "metadata": {},
   "outputs": [],
   "source": []
  }
 ],
 "metadata": {
  "kernelspec": {
   "display_name": "nlp_p310",
   "language": "python",
   "name": "python3"
  },
  "language_info": {
   "codemirror_mode": {
    "name": "ipython",
    "version": 3
   },
   "file_extension": ".py",
   "mimetype": "text/x-python",
   "name": "python",
   "nbconvert_exporter": "python",
   "pygments_lexer": "ipython3",
   "version": "3.10.9"
  }
 },
 "nbformat": 4,
 "nbformat_minor": 2
}
