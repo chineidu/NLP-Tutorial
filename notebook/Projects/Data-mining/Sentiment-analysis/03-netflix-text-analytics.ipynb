{
 "cells": [
  {
   "cell_type": "markdown",
   "metadata": {},
   "source": [
    "# Netflix Text Analytics"
   ]
  },
  {
   "cell_type": "code",
   "execution_count": null,
   "metadata": {},
   "outputs": [],
   "source": []
  },
  {
   "cell_type": "markdown",
   "metadata": {},
   "source": [
    "<hr>\n",
    "\n",
    "### Load Data From Table (Pyarrow Dataset)\n",
    "\n",
    "```text\n",
    "NETFLIX_REVIEWS\n",
    "├── review_rating=0\n",
    "│   └── 2418bd2b279a4829b6f69d61165509fd-0.parquet\n",
    "├── review_rating=1\n",
    "│   └── 2418bd2b279a4829b6f69d61165509fd-0.parquet\n",
    "├── review_rating=2\n",
    "│   └── 2418bd2b279a4829b6f69d61165509fd-0.parquet\n",
    "├── review_rating=3\n",
    "│   └── 2418bd2b279a4829b6f69d61165509fd-0.parquet\n",
    "├── review_rating=4\n",
    "│   └── 2418bd2b279a4829b6f69d61165509fd-0.parquet\n",
    "└── review_rating=5\n",
    "    └── 2418bd2b279a4829b6f69d61165509fd-0.parquet\n",
    "\n",
    "```\n",
    "\n",
    "\n",
    "```python\n",
    "from pathlib import Path\n",
    "import pyarrow.dataset as ds\n",
    "\n",
    "# Specify the directory containing Parquet files\n",
    "directory_path: Path = Path(\"../../../../data/NETFLIX_REVIEWS\")\n",
    "\n",
    "# Use PyArrow to read the partitioned Parquet dataset\n",
    "table = ds.dataset(directory_path)\n",
    "\n",
    "# Convert the PyArrow table to a Pandas DataFrame\n",
    "data: pl.DataFrame = pl.scan_pyarrow_dataset(table).collect()\n",
    "\n",
    "# Display the DataFrame\n",
    "print(data)\n",
    "```"
   ]
  },
  {
   "cell_type": "code",
   "execution_count": 1,
   "metadata": {},
   "outputs": [],
   "source": [
    "# Built-in library\n",
    "import re\n",
    "import json\n",
    "from typing import Any, Optional, TypeAlias, Union\n",
    "import logging\n",
    "import warnings\n",
    "\n",
    "# Standard imports\n",
    "import numpy as np\n",
    "import numpy.typing as npt\n",
    "from pprint import pprint\n",
    "import pandas as pd\n",
    "import polars as pl\n",
    "from rich import print\n",
    "import torch\n",
    "\n",
    "# Visualization\n",
    "import matplotlib.pyplot as plt\n",
    "\n",
    "\n",
    "# Pandas settings\n",
    "pd.options.display.max_rows = 1_000\n",
    "pd.options.display.max_columns = 1_000\n",
    "pd.options.display.max_colwidth = 600\n",
    "\n",
    "warnings.filterwarnings(\"ignore\")\n",
    "\n",
    "# Black code formatter (Optional)\n",
    "%load_ext lab_black\n",
    "\n",
    "# auto reload imports\n",
    "%load_ext autoreload\n",
    "%autoreload 2"
   ]
  },
  {
   "cell_type": "markdown",
   "metadata": {},
   "source": [
    "## Load Data"
   ]
  },
  {
   "cell_type": "code",
   "execution_count": 2,
   "metadata": {},
   "outputs": [
    {
     "data": {
      "text/html": [
       "<pre style=\"white-space:pre;overflow-x:auto;line-height:normal;font-family:Menlo,'DejaVu Sans Mono',consolas,'Courier New',monospace\">shape: <span style=\"font-weight: bold\">(</span>1_531_126, <span style=\"color: #008080; text-decoration-color: #008080; font-weight: bold\">8</span><span style=\"font-weight: bold\">)</span>\n",
       "┌────────────┬────────────┬────────────┬───────────┬───────────┬───────────┬───────────┬───────────┐\n",
       "│ review_id  ┆ pseudo_aut ┆ author_nam ┆ review_te ┆ review_ra ┆ review_li ┆ author_ap ┆ review_ti │\n",
       "│ ---        ┆ hor_id     ┆ e          ┆ xt        ┆ ting      ┆ kes       ┆ p_version ┆ mestamp   │\n",
       "│ str        ┆ ---        ┆ ---        ┆ ---       ┆ ---       ┆ ---       ┆ ---       ┆ ---       │\n",
       "│            ┆ str        ┆ str        ┆ str       ┆ i64       ┆ i64       ┆ str       ┆ str       │\n",
       "╞════════════╪════════════╪════════════╪═══════════╪═══════════╪═══════════╪═══════════╪═══════════╡\n",
       "│ 7e73f80e-a ┆ <span style=\"color: #008080; text-decoration-color: #008080; font-weight: bold\">1526185539</span> ┆ A Google   ┆ Works     ┆ <span style=\"color: #008080; text-decoration-color: #008080; font-weight: bold\">5</span>         ┆ <span style=\"color: #008080; text-decoration-color: #008080; font-weight: bold\">1</span>         ┆ <span style=\"color: #008080; text-decoration-color: #008080; font-weight: bold\">1.2</span>.<span style=\"color: #008080; text-decoration-color: #008080; font-weight: bold\">0</span>     ┆ <span style=\"color: #008080; text-decoration-color: #008080; font-weight: bold\">2011</span>-<span style=\"color: #008080; text-decoration-color: #008080; font-weight: bold\">05</span>-<span style=\"color: #008080; text-decoration-color: #008080; font-weight: bold\">1</span> │\n",
       "│ 8fd-4ff3-b ┆ <span style=\"color: #008080; text-decoration-color: #008080; font-weight: bold\">7701969374</span> ┆ user       ┆ great on  ┆           ┆           ┆ build <span style=\"color: #008080; text-decoration-color: #008080; font-weight: bold\">819</span> ┆ <span style=\"color: #008080; text-decoration-color: #008080; font-weight: bold\">2</span>         │\n",
       "│ 09b-502f0a ┆ <span style=\"color: #008080; text-decoration-color: #008080; font-weight: bold\">2</span>          ┆            ┆ my Evo!   ┆           ┆           ┆ <span style=\"color: #008080; text-decoration-color: #008080; font-weight: bold\">145</span>-<span style=\"color: #008080; text-decoration-color: #008080; font-weight: bold\">1.2</span>.<span style=\"color: #008080; text-decoration-color: #008080; font-weight: bold\">0</span> ┆ <span style=\"color: #00ff00; text-decoration-color: #00ff00; font-weight: bold\">18:50:37</span>  │\n",
       "│ d0…        ┆            ┆            ┆ Glad      ┆           ┆           ┆ <span style=\"color: #008080; text-decoration-color: #008080; font-weight: bold\">-102</span>      ┆           │\n",
       "│            ┆            ┆            ┆ andr…     ┆           ┆           ┆           ┆           │\n",
       "│ dab55eca-c ┆ <span style=\"color: #008080; text-decoration-color: #008080; font-weight: bold\">2343829428</span> ┆ A Google   ┆ Works     ┆ <span style=\"color: #008080; text-decoration-color: #008080; font-weight: bold\">5</span>         ┆ <span style=\"color: #008080; text-decoration-color: #008080; font-weight: bold\">1</span>         ┆ <span style=\"color: #008080; text-decoration-color: #008080; font-weight: bold\">1.2</span>.<span style=\"color: #008080; text-decoration-color: #008080; font-weight: bold\">0</span>     ┆ <span style=\"color: #008080; text-decoration-color: #008080; font-weight: bold\">2011</span>-<span style=\"color: #008080; text-decoration-color: #008080; font-weight: bold\">05</span>-<span style=\"color: #008080; text-decoration-color: #008080; font-weight: bold\">1</span> │\n",
       "│ 2a0-45a8-<span style=\"color: #008080; text-decoration-color: #008080; font-weight: bold\">9</span> ┆ <span style=\"color: #008080; text-decoration-color: #008080; font-weight: bold\">6543707166</span> ┆ user       ┆ great on  ┆           ┆           ┆ build <span style=\"color: #008080; text-decoration-color: #008080; font-weight: bold\">819</span> ┆ <span style=\"color: #008080; text-decoration-color: #008080; font-weight: bold\">2</span>         │\n",
       "│ <span style=\"color: #008080; text-decoration-color: #008080; font-weight: bold\">3e3</span>-9860c1 ┆ <span style=\"color: #008080; text-decoration-color: #008080; font-weight: bold\">7</span>          ┆            ┆ HTC incre ┆           ┆           ┆ <span style=\"color: #008080; text-decoration-color: #008080; font-weight: bold\">145</span>-<span style=\"color: #008080; text-decoration-color: #008080; font-weight: bold\">1.2</span>.<span style=\"color: #008080; text-decoration-color: #008080; font-weight: bold\">0</span> ┆ <span style=\"color: #00ff00; text-decoration-color: #00ff00; font-weight: bold\">18:50:52</span>  │\n",
       "│ c5…        ┆            ┆            ┆ dible. C… ┆           ┆           ┆ <span style=\"color: #008080; text-decoration-color: #008080; font-weight: bold\">-102</span>      ┆           │\n",
       "│ a3b8fa06-<span style=\"color: #008080; text-decoration-color: #008080; font-weight: bold\">8</span> ┆ <span style=\"color: #008080; text-decoration-color: #008080; font-weight: bold\">1744736046</span> ┆ A Google   ┆ Works     ┆ <span style=\"color: #008080; text-decoration-color: #008080; font-weight: bold\">5</span>         ┆ <span style=\"color: #008080; text-decoration-color: #008080; font-weight: bold\">0</span>         ┆ <span style=\"color: #008080; text-decoration-color: #008080; font-weight: bold\">1.5</span>.<span style=\"color: #008080; text-decoration-color: #008080; font-weight: bold\">2</span>     ┆ <span style=\"color: #008080; text-decoration-color: #008080; font-weight: bold\">2011</span>-<span style=\"color: #008080; text-decoration-color: #008080; font-weight: bold\">05</span>-<span style=\"color: #008080; text-decoration-color: #008080; font-weight: bold\">1</span> │\n",
       "│ b8f-4f2f-a ┆ <span style=\"color: #008080; text-decoration-color: #008080; font-weight: bold\">0835879636</span> ┆ user       ┆ great on  ┆           ┆           ┆ build <span style=\"color: #008080; text-decoration-color: #008080; font-weight: bold\">389</span> ┆ <span style=\"color: #008080; text-decoration-color: #008080; font-weight: bold\">2</span>         │\n",
       "│ 1fa-fd37c4 ┆ <span style=\"color: #008080; text-decoration-color: #008080; font-weight: bold\">8</span>          ┆            ┆ nexus s   ┆           ┆           ┆           ┆ <span style=\"color: #00ff00; text-decoration-color: #00ff00; font-weight: bold\">18:55:14</span>  │\n",
       "│ cb…        ┆            ┆            ┆           ┆           ┆           ┆           ┆           │\n",
       "│ 837fdfa5-<span style=\"color: #008080; text-decoration-color: #008080; font-weight: bold\">6</span> ┆ <span style=\"color: #008080; text-decoration-color: #008080; font-weight: bold\">2865934532</span> ┆ A Google   ┆ Working   ┆ <span style=\"color: #008080; text-decoration-color: #008080; font-weight: bold\">5</span>         ┆ <span style=\"color: #008080; text-decoration-color: #008080; font-weight: bold\">0</span>         ┆ <span style=\"color: #008080; text-decoration-color: #008080; font-weight: bold\">1.2</span>.<span style=\"color: #008080; text-decoration-color: #008080; font-weight: bold\">1</span>     ┆ <span style=\"color: #008080; text-decoration-color: #008080; font-weight: bold\">2011</span>-<span style=\"color: #008080; text-decoration-color: #008080; font-weight: bold\">05</span>-<span style=\"color: #008080; text-decoration-color: #008080; font-weight: bold\">1</span> │\n",
       "│ 06d-4cec-<span style=\"color: #008080; text-decoration-color: #008080; font-weight: bold\">9</span> ┆ <span style=\"color: #008080; text-decoration-color: #008080; font-weight: bold\">1905488026</span> ┆ user       ┆ perfect   ┆           ┆           ┆ build <span style=\"color: #008080; text-decoration-color: #008080; font-weight: bold\">843</span> ┆ <span style=\"color: #008080; text-decoration-color: #008080; font-weight: bold\">2</span>         │\n",
       "│ e9a-e4a83d ┆ <span style=\"color: #008080; text-decoration-color: #008080; font-weight: bold\">9</span>          ┆            ┆ for me on ┆           ┆           ┆ <span style=\"color: #008080; text-decoration-color: #008080; font-weight: bold\">839</span>-<span style=\"color: #008080; text-decoration-color: #008080; font-weight: bold\">1.2</span>.<span style=\"color: #008080; text-decoration-color: #008080; font-weight: bold\">0</span> ┆ <span style=\"color: #00ff00; text-decoration-color: #00ff00; font-weight: bold\">19:31:46</span>  │\n",
       "│ ad…        ┆            ┆            ┆ EVO, r…   ┆           ┆           ┆ <span style=\"color: #008080; text-decoration-color: #008080; font-weight: bold\">-30</span>       ┆           │\n",
       "│ …          ┆ …          ┆ …          ┆ …         ┆ …         ┆ …         ┆ …         ┆ …         │\n",
       "│ afe340b9-<span style=\"color: #008080; text-decoration-color: #008080; font-weight: bold\">6</span> ┆ <span style=\"color: #008080; text-decoration-color: #008080; font-weight: bold\">2175850666</span> ┆ Ma******** ┆ What more ┆ <span style=\"color: #008080; text-decoration-color: #008080; font-weight: bold\">2</span>         ┆ <span style=\"color: #008080; text-decoration-color: #008080; font-weight: bold\">0</span>         ┆ <span style=\"color: #008080; text-decoration-color: #008080; font-weight: bold\">8.94</span>.<span style=\"color: #008080; text-decoration-color: #008080; font-weight: bold\">0</span>    ┆ <span style=\"color: #008080; text-decoration-color: #008080; font-weight: bold\">2023</span>-<span style=\"color: #008080; text-decoration-color: #008080; font-weight: bold\">11</span>-<span style=\"color: #008080; text-decoration-color: #008080; font-weight: bold\">1</span> │\n",
       "│ 8df-4df9-<span style=\"color: #008080; text-decoration-color: #008080; font-weight: bold\">8</span> ┆ <span style=\"color: #008080; text-decoration-color: #008080; font-weight: bold\">9482615615</span> ┆ ***ey      ┆ do you    ┆           ┆           ┆ build <span style=\"color: #008080; text-decoration-color: #008080; font-weight: bold\">10</span>  ┆ <span style=\"color: #008080; text-decoration-color: #008080; font-weight: bold\">5</span>         │\n",
       "│ a86-<span style=\"color: #008080; text-decoration-color: #008080; font-weight: bold\">7e9304</span> ┆ <span style=\"color: #008080; text-decoration-color: #008080; font-weight: bold\">9</span>          ┆            ┆ want from ┆           ┆           ┆ <span style=\"color: #008080; text-decoration-color: #008080; font-weight: bold\">50546</span>     ┆ <span style=\"color: #00ff00; text-decoration-color: #00ff00; font-weight: bold\">22:44:59</span>  │\n",
       "│ e1…        ┆            ┆            ┆ me tf…    ┆           ┆           ┆           ┆           │\n",
       "│ 3015ab73-<span style=\"color: #008080; text-decoration-color: #008080; font-weight: bold\">7</span> ┆ <span style=\"color: #008080; text-decoration-color: #008080; font-weight: bold\">2683859418</span> ┆ Em******** ┆ I will    ┆ <span style=\"color: #008080; text-decoration-color: #008080; font-weight: bold\">5</span>         ┆ <span style=\"color: #008080; text-decoration-color: #008080; font-weight: bold\">0</span>         ┆           ┆ <span style=\"color: #008080; text-decoration-color: #008080; font-weight: bold\">2023</span>-<span style=\"color: #008080; text-decoration-color: #008080; font-weight: bold\">11</span>-<span style=\"color: #008080; text-decoration-color: #008080; font-weight: bold\">1</span> │\n",
       "│ <span style=\"color: #008080; text-decoration-color: #008080; font-weight: bold\">5e8</span>-4f17-<span style=\"color: #008080; text-decoration-color: #008080; font-weight: bold\">8</span> ┆ <span style=\"color: #008080; text-decoration-color: #008080; font-weight: bold\">1134330166</span> ┆ ****ey     ┆ love this ┆           ┆           ┆           ┆ <span style=\"color: #008080; text-decoration-color: #008080; font-weight: bold\">5</span>         │\n",
       "│ <span style=\"color: #008080; text-decoration-color: #008080; font-weight: bold\">377</span>-4757ab ┆ <span style=\"color: #008080; text-decoration-color: #008080; font-weight: bold\">6</span>          ┆            ┆ app       ┆           ┆           ┆           ┆ <span style=\"color: #00ff00; text-decoration-color: #00ff00; font-weight: bold\">22:45:05</span>  │\n",
       "│ bb…        ┆            ┆            ┆           ┆           ┆           ┆           ┆           │\n",
       "│ 25b4b68e-a ┆ <span style=\"color: #008080; text-decoration-color: #008080; font-weight: bold\">2599939226</span> ┆ ****       ┆ The       ┆ <span style=\"color: #008080; text-decoration-color: #008080; font-weight: bold\">2</span>         ┆ <span style=\"color: #008080; text-decoration-color: #008080; font-weight: bold\">0</span>         ┆ <span style=\"color: #008080; text-decoration-color: #008080; font-weight: bold\">8.94</span>.<span style=\"color: #008080; text-decoration-color: #008080; font-weight: bold\">0</span>    ┆ <span style=\"color: #008080; text-decoration-color: #008080; font-weight: bold\">2023</span>-<span style=\"color: #008080; text-decoration-color: #008080; font-weight: bold\">11</span>-<span style=\"color: #008080; text-decoration-color: #008080; font-weight: bold\">1</span> │\n",
       "│ <span style=\"color: #008080; text-decoration-color: #008080; font-weight: bold\">432</span>-4f21-b ┆ <span style=\"color: #008080; text-decoration-color: #008080; font-weight: bold\">2285477805</span> ┆            ┆ content   ┆           ┆           ┆ build <span style=\"color: #008080; text-decoration-color: #008080; font-weight: bold\">10</span>  ┆ <span style=\"color: #008080; text-decoration-color: #008080; font-weight: bold\">5</span>         │\n",
       "│ f1c-68835f ┆ <span style=\"color: #008080; text-decoration-color: #008080; font-weight: bold\">8</span>          ┆            ┆ is great  ┆           ┆           ┆ <span style=\"color: #008080; text-decoration-color: #008080; font-weight: bold\">50546</span>     ┆ <span style=\"color: #00ff00; text-decoration-color: #00ff00; font-weight: bold\">22:48:54</span>  │\n",
       "│ <span style=\"color: #008080; text-decoration-color: #008080; font-weight: bold\">88</span>…        ┆            ┆            ┆ but they  ┆           ┆           ┆           ┆           │\n",
       "│            ┆            ┆            ┆ ke…       ┆           ┆           ┆           ┆           │\n",
       "│ 7c8e755c-<span style=\"color: #008080; text-decoration-color: #008080; font-weight: bold\">0</span> ┆ <span style=\"color: #008080; text-decoration-color: #008080; font-weight: bold\">5279250276</span> ┆ Ra******** ┆ I promise ┆ <span style=\"color: #008080; text-decoration-color: #008080; font-weight: bold\">1</span>         ┆ <span style=\"color: #008080; text-decoration-color: #008080; font-weight: bold\">1</span>         ┆ <span style=\"color: #008080; text-decoration-color: #008080; font-weight: bold\">8.94</span>.<span style=\"color: #008080; text-decoration-color: #008080; font-weight: bold\">0</span>    ┆ <span style=\"color: #008080; text-decoration-color: #008080; font-weight: bold\">2023</span>-<span style=\"color: #008080; text-decoration-color: #008080; font-weight: bold\">11</span>-<span style=\"color: #008080; text-decoration-color: #008080; font-weight: bold\">1</span> │\n",
       "│ <span style=\"color: #008080; text-decoration-color: #008080; font-weight: bold\">505</span>-4e0c-a ┆ <span style=\"color: #008080; text-decoration-color: #008080; font-weight: bold\">7513192948</span> ┆ ****on     ┆ you on    ┆           ┆           ┆ build <span style=\"color: #008080; text-decoration-color: #008080; font-weight: bold\">10</span>  ┆ <span style=\"color: #008080; text-decoration-color: #008080; font-weight: bold\">5</span>         │\n",
       "│ c89-719f8f ┆ <span style=\"color: #008080; text-decoration-color: #008080; font-weight: bold\">6</span>          ┆            ┆ this, I   ┆           ┆           ┆ <span style=\"color: #008080; text-decoration-color: #008080; font-weight: bold\">50546</span>     ┆ <span style=\"color: #00ff00; text-decoration-color: #00ff00; font-weight: bold\">22:54:42</span>  │\n",
       "│ 5f…        ┆            ┆            ┆ WILL NO…  ┆           ┆           ┆           ┆           │\n",
       "└────────────┴────────────┴────────────┴───────────┴───────────┴───────────┴───────────┴───────────┘\n",
       "</pre>\n"
      ],
      "text/plain": [
       "shape: \u001b[1m(\u001b[0m1_531_126, \u001b[1;36m8\u001b[0m\u001b[1m)\u001b[0m\n",
       "┌────────────┬────────────┬────────────┬───────────┬───────────┬───────────┬───────────┬───────────┐\n",
       "│ review_id  ┆ pseudo_aut ┆ author_nam ┆ review_te ┆ review_ra ┆ review_li ┆ author_ap ┆ review_ti │\n",
       "│ ---        ┆ hor_id     ┆ e          ┆ xt        ┆ ting      ┆ kes       ┆ p_version ┆ mestamp   │\n",
       "│ str        ┆ ---        ┆ ---        ┆ ---       ┆ ---       ┆ ---       ┆ ---       ┆ ---       │\n",
       "│            ┆ str        ┆ str        ┆ str       ┆ i64       ┆ i64       ┆ str       ┆ str       │\n",
       "╞════════════╪════════════╪════════════╪═══════════╪═══════════╪═══════════╪═══════════╪═══════════╡\n",
       "│ 7e73f80e-a ┆ \u001b[1;36m1526185539\u001b[0m ┆ A Google   ┆ Works     ┆ \u001b[1;36m5\u001b[0m         ┆ \u001b[1;36m1\u001b[0m         ┆ \u001b[1;36m1.2\u001b[0m.\u001b[1;36m0\u001b[0m     ┆ \u001b[1;36m2011\u001b[0m-\u001b[1;36m05\u001b[0m-\u001b[1;36m1\u001b[0m │\n",
       "│ 8fd-4ff3-b ┆ \u001b[1;36m7701969374\u001b[0m ┆ user       ┆ great on  ┆           ┆           ┆ build \u001b[1;36m819\u001b[0m ┆ \u001b[1;36m2\u001b[0m         │\n",
       "│ 09b-502f0a ┆ \u001b[1;36m2\u001b[0m          ┆            ┆ my Evo!   ┆           ┆           ┆ \u001b[1;36m145\u001b[0m-\u001b[1;36m1.2\u001b[0m.\u001b[1;36m0\u001b[0m ┆ \u001b[1;92m18:50:37\u001b[0m  │\n",
       "│ d0…        ┆            ┆            ┆ Glad      ┆           ┆           ┆ \u001b[1;36m-102\u001b[0m      ┆           │\n",
       "│            ┆            ┆            ┆ andr…     ┆           ┆           ┆           ┆           │\n",
       "│ dab55eca-c ┆ \u001b[1;36m2343829428\u001b[0m ┆ A Google   ┆ Works     ┆ \u001b[1;36m5\u001b[0m         ┆ \u001b[1;36m1\u001b[0m         ┆ \u001b[1;36m1.2\u001b[0m.\u001b[1;36m0\u001b[0m     ┆ \u001b[1;36m2011\u001b[0m-\u001b[1;36m05\u001b[0m-\u001b[1;36m1\u001b[0m │\n",
       "│ 2a0-45a8-\u001b[1;36m9\u001b[0m ┆ \u001b[1;36m6543707166\u001b[0m ┆ user       ┆ great on  ┆           ┆           ┆ build \u001b[1;36m819\u001b[0m ┆ \u001b[1;36m2\u001b[0m         │\n",
       "│ \u001b[1;36m3e3\u001b[0m-9860c1 ┆ \u001b[1;36m7\u001b[0m          ┆            ┆ HTC incre ┆           ┆           ┆ \u001b[1;36m145\u001b[0m-\u001b[1;36m1.2\u001b[0m.\u001b[1;36m0\u001b[0m ┆ \u001b[1;92m18:50:52\u001b[0m  │\n",
       "│ c5…        ┆            ┆            ┆ dible. C… ┆           ┆           ┆ \u001b[1;36m-102\u001b[0m      ┆           │\n",
       "│ a3b8fa06-\u001b[1;36m8\u001b[0m ┆ \u001b[1;36m1744736046\u001b[0m ┆ A Google   ┆ Works     ┆ \u001b[1;36m5\u001b[0m         ┆ \u001b[1;36m0\u001b[0m         ┆ \u001b[1;36m1.5\u001b[0m.\u001b[1;36m2\u001b[0m     ┆ \u001b[1;36m2011\u001b[0m-\u001b[1;36m05\u001b[0m-\u001b[1;36m1\u001b[0m │\n",
       "│ b8f-4f2f-a ┆ \u001b[1;36m0835879636\u001b[0m ┆ user       ┆ great on  ┆           ┆           ┆ build \u001b[1;36m389\u001b[0m ┆ \u001b[1;36m2\u001b[0m         │\n",
       "│ 1fa-fd37c4 ┆ \u001b[1;36m8\u001b[0m          ┆            ┆ nexus s   ┆           ┆           ┆           ┆ \u001b[1;92m18:55:14\u001b[0m  │\n",
       "│ cb…        ┆            ┆            ┆           ┆           ┆           ┆           ┆           │\n",
       "│ 837fdfa5-\u001b[1;36m6\u001b[0m ┆ \u001b[1;36m2865934532\u001b[0m ┆ A Google   ┆ Working   ┆ \u001b[1;36m5\u001b[0m         ┆ \u001b[1;36m0\u001b[0m         ┆ \u001b[1;36m1.2\u001b[0m.\u001b[1;36m1\u001b[0m     ┆ \u001b[1;36m2011\u001b[0m-\u001b[1;36m05\u001b[0m-\u001b[1;36m1\u001b[0m │\n",
       "│ 06d-4cec-\u001b[1;36m9\u001b[0m ┆ \u001b[1;36m1905488026\u001b[0m ┆ user       ┆ perfect   ┆           ┆           ┆ build \u001b[1;36m843\u001b[0m ┆ \u001b[1;36m2\u001b[0m         │\n",
       "│ e9a-e4a83d ┆ \u001b[1;36m9\u001b[0m          ┆            ┆ for me on ┆           ┆           ┆ \u001b[1;36m839\u001b[0m-\u001b[1;36m1.2\u001b[0m.\u001b[1;36m0\u001b[0m ┆ \u001b[1;92m19:31:46\u001b[0m  │\n",
       "│ ad…        ┆            ┆            ┆ EVO, r…   ┆           ┆           ┆ \u001b[1;36m-30\u001b[0m       ┆           │\n",
       "│ …          ┆ …          ┆ …          ┆ …         ┆ …         ┆ …         ┆ …         ┆ …         │\n",
       "│ afe340b9-\u001b[1;36m6\u001b[0m ┆ \u001b[1;36m2175850666\u001b[0m ┆ Ma******** ┆ What more ┆ \u001b[1;36m2\u001b[0m         ┆ \u001b[1;36m0\u001b[0m         ┆ \u001b[1;36m8.94\u001b[0m.\u001b[1;36m0\u001b[0m    ┆ \u001b[1;36m2023\u001b[0m-\u001b[1;36m11\u001b[0m-\u001b[1;36m1\u001b[0m │\n",
       "│ 8df-4df9-\u001b[1;36m8\u001b[0m ┆ \u001b[1;36m9482615615\u001b[0m ┆ ***ey      ┆ do you    ┆           ┆           ┆ build \u001b[1;36m10\u001b[0m  ┆ \u001b[1;36m5\u001b[0m         │\n",
       "│ a86-\u001b[1;36m7e9304\u001b[0m ┆ \u001b[1;36m9\u001b[0m          ┆            ┆ want from ┆           ┆           ┆ \u001b[1;36m50546\u001b[0m     ┆ \u001b[1;92m22:44:59\u001b[0m  │\n",
       "│ e1…        ┆            ┆            ┆ me tf…    ┆           ┆           ┆           ┆           │\n",
       "│ 3015ab73-\u001b[1;36m7\u001b[0m ┆ \u001b[1;36m2683859418\u001b[0m ┆ Em******** ┆ I will    ┆ \u001b[1;36m5\u001b[0m         ┆ \u001b[1;36m0\u001b[0m         ┆           ┆ \u001b[1;36m2023\u001b[0m-\u001b[1;36m11\u001b[0m-\u001b[1;36m1\u001b[0m │\n",
       "│ \u001b[1;36m5e8\u001b[0m-4f17-\u001b[1;36m8\u001b[0m ┆ \u001b[1;36m1134330166\u001b[0m ┆ ****ey     ┆ love this ┆           ┆           ┆           ┆ \u001b[1;36m5\u001b[0m         │\n",
       "│ \u001b[1;36m377\u001b[0m-4757ab ┆ \u001b[1;36m6\u001b[0m          ┆            ┆ app       ┆           ┆           ┆           ┆ \u001b[1;92m22:45:05\u001b[0m  │\n",
       "│ bb…        ┆            ┆            ┆           ┆           ┆           ┆           ┆           │\n",
       "│ 25b4b68e-a ┆ \u001b[1;36m2599939226\u001b[0m ┆ ****       ┆ The       ┆ \u001b[1;36m2\u001b[0m         ┆ \u001b[1;36m0\u001b[0m         ┆ \u001b[1;36m8.94\u001b[0m.\u001b[1;36m0\u001b[0m    ┆ \u001b[1;36m2023\u001b[0m-\u001b[1;36m11\u001b[0m-\u001b[1;36m1\u001b[0m │\n",
       "│ \u001b[1;36m432\u001b[0m-4f21-b ┆ \u001b[1;36m2285477805\u001b[0m ┆            ┆ content   ┆           ┆           ┆ build \u001b[1;36m10\u001b[0m  ┆ \u001b[1;36m5\u001b[0m         │\n",
       "│ f1c-68835f ┆ \u001b[1;36m8\u001b[0m          ┆            ┆ is great  ┆           ┆           ┆ \u001b[1;36m50546\u001b[0m     ┆ \u001b[1;92m22:48:54\u001b[0m  │\n",
       "│ \u001b[1;36m88\u001b[0m…        ┆            ┆            ┆ but they  ┆           ┆           ┆           ┆           │\n",
       "│            ┆            ┆            ┆ ke…       ┆           ┆           ┆           ┆           │\n",
       "│ 7c8e755c-\u001b[1;36m0\u001b[0m ┆ \u001b[1;36m5279250276\u001b[0m ┆ Ra******** ┆ I promise ┆ \u001b[1;36m1\u001b[0m         ┆ \u001b[1;36m1\u001b[0m         ┆ \u001b[1;36m8.94\u001b[0m.\u001b[1;36m0\u001b[0m    ┆ \u001b[1;36m2023\u001b[0m-\u001b[1;36m11\u001b[0m-\u001b[1;36m1\u001b[0m │\n",
       "│ \u001b[1;36m505\u001b[0m-4e0c-a ┆ \u001b[1;36m7513192948\u001b[0m ┆ ****on     ┆ you on    ┆           ┆           ┆ build \u001b[1;36m10\u001b[0m  ┆ \u001b[1;36m5\u001b[0m         │\n",
       "│ c89-719f8f ┆ \u001b[1;36m6\u001b[0m          ┆            ┆ this, I   ┆           ┆           ┆ \u001b[1;36m50546\u001b[0m     ┆ \u001b[1;92m22:54:42\u001b[0m  │\n",
       "│ 5f…        ┆            ┆            ┆ WILL NO…  ┆           ┆           ┆           ┆           │\n",
       "└────────────┴────────────┴────────────┴───────────┴───────────┴───────────┴───────────┴───────────┘\n"
      ]
     },
     "metadata": {},
     "output_type": "display_data"
    }
   ],
   "source": [
    "from pathlib import Path\n",
    "\n",
    "# Specify the directory containing Parquet files\n",
    "directory_path: Path = Path(\"../../../../data/NETFLIX_REVIEWS.parquet\")\n",
    "\n",
    "# Convert the PyArrow table to a Pandas DataFrame\n",
    "data: pl.DataFrame = pl.read_parquet(\n",
    "    directory_path,\n",
    ").drop(columns=[\"\"])\n",
    "\n",
    "# Display the DataFrame\n",
    "print(data)"
   ]
  },
  {
   "cell_type": "markdown",
   "metadata": {},
   "source": [
    "<hr><br>\n",
    "\n",
    "### Descriptive Statistics\n",
    "\n",
    "- Distribution of rating.\n",
    "- Number of unique authors.\n",
    "- 5-summary stats of review ratings.\n",
    "- Percentage of rating >= 3 and rating < 3\n",
    "  "
   ]
  },
  {
   "cell_type": "code",
   "execution_count": 3,
   "metadata": {},
   "outputs": [
    {
     "data": {
      "text/html": [
       "<div><style>\n",
       ".dataframe > thead > tr > th,\n",
       ".dataframe > tbody > tr > td {\n",
       "  text-align: right;\n",
       "  white-space: pre-wrap;\n",
       "}\n",
       "</style>\n",
       "<small>shape: (9, 9)</small><table border=\"1\" class=\"dataframe\"><thead><tr><th>describe</th><th>review_id</th><th>pseudo_author_id</th><th>author_name</th><th>review_text</th><th>review_rating</th><th>review_likes</th><th>author_app_version</th><th>review_timestamp</th></tr><tr><td>str</td><td>str</td><td>str</td><td>str</td><td>str</td><td>f64</td><td>f64</td><td>str</td><td>str</td></tr></thead><tbody><tr><td>&quot;count&quot;</td><td>&quot;1531126&quot;</td><td>&quot;1531126&quot;</td><td>&quot;1531126&quot;</td><td>&quot;1531126&quot;</td><td>1.531126e6</td><td>1.531126e6</td><td>&quot;1531126&quot;</td><td>&quot;1531126&quot;</td></tr><tr><td>&quot;null_count&quot;</td><td>&quot;0&quot;</td><td>&quot;0&quot;</td><td>&quot;0&quot;</td><td>&quot;0&quot;</td><td>0.0</td><td>0.0</td><td>&quot;0&quot;</td><td>&quot;0&quot;</td></tr><tr><td>&quot;mean&quot;</td><td>null</td><td>null</td><td>null</td><td>null</td><td>3.91526</td><td>1.323521</td><td>null</td><td>null</td></tr><tr><td>&quot;std&quot;</td><td>null</td><td>null</td><td>null</td><td>null</td><td>1.577103</td><td>32.524688</td><td>null</td><td>null</td></tr><tr><td>&quot;min&quot;</td><td>&quot;00000ca0-ac53-…</td><td>&quot;10000001724899…</td><td>&quot;!M***********e…</td><td>&quot;&quot;</td><td>0.0</td><td>0.0</td><td>&quot;&quot;</td><td>&quot;2011-05-12 18:…</td></tr><tr><td>&quot;25%&quot;</td><td>null</td><td>null</td><td>null</td><td>null</td><td>3.0</td><td>0.0</td><td>null</td><td>null</td></tr><tr><td>&quot;50%&quot;</td><td>null</td><td>null</td><td>null</td><td>null</td><td>5.0</td><td>0.0</td><td>null</td><td>null</td></tr><tr><td>&quot;75%&quot;</td><td>null</td><td>null</td><td>null</td><td>null</td><td>5.0</td><td>0.0</td><td>null</td><td>null</td></tr><tr><td>&quot;max&quot;</td><td>&quot;fffffb20-d555-…</td><td>&quot;99999937773079…</td><td>&quot;﴾G*********1﴿&quot;</td><td>&quot;🫶🏽&quot;</td><td>5.0</td><td>8231.0</td><td>&quot;8.95.0 build 2…</td><td>&quot;2023-11-15 22:…</td></tr></tbody></table></div>"
      ],
      "text/plain": [
       "shape: (9, 9)\n",
       "┌───────────┬───────────┬───────────┬───────────┬───┬───────────┬───────────┬───────────┬──────────┐\n",
       "│ describe  ┆ review_id ┆ pseudo_au ┆ author_na ┆ … ┆ review_ra ┆ review_li ┆ author_ap ┆ review_t │\n",
       "│ ---       ┆ ---       ┆ thor_id   ┆ me        ┆   ┆ ting      ┆ kes       ┆ p_version ┆ imestamp │\n",
       "│ str       ┆ str       ┆ ---       ┆ ---       ┆   ┆ ---       ┆ ---       ┆ ---       ┆ ---      │\n",
       "│           ┆           ┆ str       ┆ str       ┆   ┆ f64       ┆ f64       ┆ str       ┆ str      │\n",
       "╞═══════════╪═══════════╪═══════════╪═══════════╪═══╪═══════════╪═══════════╪═══════════╪══════════╡\n",
       "│ count     ┆ 1531126   ┆ 1531126   ┆ 1531126   ┆ … ┆ 1.531126e ┆ 1.531126e ┆ 1531126   ┆ 1531126  │\n",
       "│           ┆           ┆           ┆           ┆   ┆ 6         ┆ 6         ┆           ┆          │\n",
       "│ null_coun ┆ 0         ┆ 0         ┆ 0         ┆ … ┆ 0.0       ┆ 0.0       ┆ 0         ┆ 0        │\n",
       "│ t         ┆           ┆           ┆           ┆   ┆           ┆           ┆           ┆          │\n",
       "│ mean      ┆ null      ┆ null      ┆ null      ┆ … ┆ 3.91526   ┆ 1.323521  ┆ null      ┆ null     │\n",
       "│ std       ┆ null      ┆ null      ┆ null      ┆ … ┆ 1.577103  ┆ 32.524688 ┆ null      ┆ null     │\n",
       "│ min       ┆ 00000ca0- ┆ 100000017 ┆ !M******* ┆ … ┆ 0.0       ┆ 0.0       ┆           ┆ 2011-05- │\n",
       "│           ┆ ac53-4302 ┆ 248996386 ┆ ****en    ┆   ┆           ┆           ┆           ┆ 12       │\n",
       "│           ┆ -a639-b5f ┆ 821       ┆           ┆   ┆           ┆           ┆           ┆ 18:50:37 │\n",
       "│           ┆ f9c93…    ┆           ┆           ┆   ┆           ┆           ┆           ┆          │\n",
       "│ 25%       ┆ null      ┆ null      ┆ null      ┆ … ┆ 3.0       ┆ 0.0       ┆ null      ┆ null     │\n",
       "│ 50%       ┆ null      ┆ null      ┆ null      ┆ … ┆ 5.0       ┆ 0.0       ┆ null      ┆ null     │\n",
       "│ 75%       ┆ null      ┆ null      ┆ null      ┆ … ┆ 5.0       ┆ 0.0       ┆ null      ┆ null     │\n",
       "│ max       ┆ fffffb20- ┆ 999999377 ┆ ﴾G******* ┆ … ┆ 5.0       ┆ 8231.0    ┆ 8.95.0    ┆ 2023-11- │\n",
       "│           ┆ d555-4cc5 ┆ 730799066 ┆ **1﴿      ┆   ┆           ┆           ┆ build 2   ┆ 15       │\n",
       "│           ┆ -ad2b-b28 ┆ 650       ┆           ┆   ┆           ┆           ┆ 50548     ┆ 22:54:42 │\n",
       "│           ┆ e8fa9…    ┆           ┆           ┆   ┆           ┆           ┆           ┆          │\n",
       "└───────────┴───────────┴───────────┴───────────┴───┴───────────┴───────────┴───────────┴──────────┘"
      ]
     },
     "execution_count": 3,
     "metadata": {},
     "output_type": "execute_result"
    }
   ],
   "source": [
    "data.describe()"
   ]
  },
  {
   "cell_type": "code",
   "execution_count": 4,
   "metadata": {},
   "outputs": [
    {
     "data": {
      "text/html": [
       "<div><style>\n",
       ".dataframe > thead > tr > th,\n",
       ".dataframe > tbody > tr > td {\n",
       "  text-align: right;\n",
       "  white-space: pre-wrap;\n",
       "}\n",
       "</style>\n",
       "<small>shape: (291_960, 1)</small><table border=\"1\" class=\"dataframe\"><thead><tr><th>author_name</th></tr><tr><td>struct[2]</td></tr></thead><tbody><tr><td>{&quot;gr*************el&quot;,1}</td></tr><tr><td>{&quot;Er********ka&quot;,2}</td></tr><tr><td>{&quot;va**********on&quot;,1}</td></tr><tr><td>{&quot;Az*****zu&quot;,2}</td></tr><tr><td>{&quot;Ha***********************ah&quot;,1}</td></tr><tr><td>{&quot;FI*********su&quot;,1}</td></tr><tr><td>{&quot;Pe*******mi&quot;,1}</td></tr><tr><td>{&quot;Ge************me&quot;,1}</td></tr><tr><td>{&quot;Mi*********ju&quot;,1}</td></tr><tr><td>{&quot;Am********th&quot;,9}</td></tr><tr><td>{&quot;Ke*******ky&quot;,1}</td></tr><tr><td>{&quot;Se***********co&quot;,1}</td></tr><tr><td>&hellip;</td></tr><tr><td>{&quot;He*********dy&quot;,3}</td></tr><tr><td>{&quot;Kr*********ry&quot;,1}</td></tr><tr><td>{&quot;Ma*******mu&quot;,3}</td></tr><tr><td>{&quot;ah****fi&quot;,1}</td></tr><tr><td>{&quot;مب*******یی&quot;,1}</td></tr><tr><td>{&quot;se*******ld&quot;,1}</td></tr><tr><td>{&quot;Ta********ak&quot;,2}</td></tr><tr><td>{&quot;Ma****** L&quot;,1}</td></tr><tr><td>{&quot;Sn*****ik&quot;,1}</td></tr><tr><td>{&quot;Sa*** p&quot;,2}</td></tr><tr><td>{&quot;Su***********da&quot;,3}</td></tr><tr><td>{&quot;Pa******rr&quot;,2}</td></tr></tbody></table></div>"
      ],
      "text/plain": [
       "shape: (291_960, 1)\n",
       "┌─────────────────────────┐\n",
       "│ author_name             │\n",
       "│ ---                     │\n",
       "│ struct[2]               │\n",
       "╞═════════════════════════╡\n",
       "│ {\"gr*************el\",1} │\n",
       "│ {\"Er********ka\",2}      │\n",
       "│ {\"va**********on\",1}    │\n",
       "│ {\"Az*****zu\",2}         │\n",
       "│ …                       │\n",
       "│ {\"Sn*****ik\",1}         │\n",
       "│ {\"Sa*** p\",2}           │\n",
       "│ {\"Su***********da\",3}   │\n",
       "│ {\"Pa******rr\",2}        │\n",
       "└─────────────────────────┘"
      ]
     },
     "execution_count": 4,
     "metadata": {},
     "output_type": "execute_result"
    }
   ],
   "source": [
    "# Unique authors\n",
    "data.select(pl.col(\"author_name\").value_counts())"
   ]
  },
  {
   "cell_type": "code",
   "execution_count": 5,
   "metadata": {},
   "outputs": [
    {
     "data": {
      "text/html": [
       "<div><style>\n",
       ".dataframe > thead > tr > th,\n",
       ".dataframe > tbody > tr > td {\n",
       "  text-align: right;\n",
       "  white-space: pre-wrap;\n",
       "}\n",
       "</style>\n",
       "<small>shape: (6, 1)</small><table border=\"1\" class=\"dataframe\"><thead><tr><th>review_rating</th></tr><tr><td>struct[2]</td></tr></thead><tbody><tr><td>{5,935781}</td></tr><tr><td>{1,282021}</td></tr><tr><td>{4,156718}</td></tr><tr><td>{3,93793}</td></tr><tr><td>{2,62790}</td></tr><tr><td>{0,23}</td></tr></tbody></table></div>"
      ],
      "text/plain": [
       "shape: (6, 1)\n",
       "┌───────────────┐\n",
       "│ review_rating │\n",
       "│ ---           │\n",
       "│ struct[2]     │\n",
       "╞═══════════════╡\n",
       "│ {5,935781}    │\n",
       "│ {1,282021}    │\n",
       "│ {4,156718}    │\n",
       "│ {3,93793}     │\n",
       "│ {2,62790}     │\n",
       "│ {0,23}        │\n",
       "└───────────────┘"
      ]
     },
     "execution_count": 5,
     "metadata": {},
     "output_type": "execute_result"
    }
   ],
   "source": [
    "# Unique review rating\n",
    "data.select(pl.col(\"review_rating\").value_counts(sort=True))"
   ]
  },
  {
   "cell_type": "code",
   "execution_count": 6,
   "metadata": {},
   "outputs": [
    {
     "data": {
      "text/html": [
       "<div><style>\n",
       ".dataframe > thead > tr > th,\n",
       ".dataframe > tbody > tr > td {\n",
       "  text-align: right;\n",
       "  white-space: pre-wrap;\n",
       "}\n",
       "</style>\n",
       "<small>shape: (5, 1)</small><table border=\"1\" class=\"dataframe\"><thead><tr><th>review_rating</th></tr><tr><td>struct[2]</td></tr></thead><tbody><tr><td>{5,935781}</td></tr><tr><td>{1,282021}</td></tr><tr><td>{4,156718}</td></tr><tr><td>{3,93793}</td></tr><tr><td>{2,62790}</td></tr></tbody></table></div>"
      ],
      "text/plain": [
       "shape: (5, 1)\n",
       "┌───────────────┐\n",
       "│ review_rating │\n",
       "│ ---           │\n",
       "│ struct[2]     │\n",
       "╞═══════════════╡\n",
       "│ {5,935781}    │\n",
       "│ {1,282021}    │\n",
       "│ {4,156718}    │\n",
       "│ {3,93793}     │\n",
       "│ {2,62790}     │\n",
       "└───────────────┘"
      ]
     },
     "execution_count": 6,
     "metadata": {},
     "output_type": "execute_result"
    }
   ],
   "source": [
    "# Drop review rating of 0\n",
    "data = data.filter(pl.col(\"review_rating\").ne(0))\n",
    "\n",
    "# Unique review rating\n",
    "data.select(pl.col(\"review_rating\").value_counts(sort=True))"
   ]
  },
  {
   "cell_type": "code",
   "execution_count": 7,
   "metadata": {},
   "outputs": [
    {
     "data": {
      "text/plain": [
       "0.7747956865083537"
      ]
     },
     "execution_count": 7,
     "metadata": {},
     "output_type": "execute_result"
    }
   ],
   "source": [
    "# Percentage of review rating >=3\n",
    "data.filter(pl.col(\"review_rating\").gt(2)).select(pl.col(\"review_rating\")).shape[\n",
    "    0\n",
    "] / data.shape[0]"
   ]
  },
  {
   "cell_type": "code",
   "execution_count": 8,
   "metadata": {},
   "outputs": [
    {
     "data": {
      "text/plain": [
       "0.2252043134916462"
      ]
     },
     "execution_count": 8,
     "metadata": {},
     "output_type": "execute_result"
    }
   ],
   "source": [
    "# Percentage of review rating <3\n",
    "data.filter(pl.col(\"review_rating\").lt(3)).select(pl.col(\"review_rating\")).shape[\n",
    "    0\n",
    "] / data.shape[0]"
   ]
  },
  {
   "cell_type": "code",
   "execution_count": 9,
   "metadata": {},
   "outputs": [
    {
     "data": {
      "text/html": [
       "<pre style=\"white-space:pre;overflow-x:auto;line-height:normal;font-family:Menlo,'DejaVu Sans Mono',consolas,'Courier New',monospace\">shape: <span style=\"font-weight: bold\">(</span><span style=\"color: #008080; text-decoration-color: #008080; font-weight: bold\">1</span>, <span style=\"color: #008080; text-decoration-color: #008080; font-weight: bold\">1</span><span style=\"font-weight: bold\">)</span>\n",
       "┌────────────────────┐\n",
       "│ author_app_version │\n",
       "│ ---                │\n",
       "│ u32                │\n",
       "╞════════════════════╡\n",
       "│ <span style=\"color: #008080; text-decoration-color: #008080; font-weight: bold\">720</span>                │\n",
       "└────────────────────┘\n",
       "</pre>\n"
      ],
      "text/plain": [
       "shape: \u001b[1m(\u001b[0m\u001b[1;36m1\u001b[0m, \u001b[1;36m1\u001b[0m\u001b[1m)\u001b[0m\n",
       "┌────────────────────┐\n",
       "│ author_app_version │\n",
       "│ ---                │\n",
       "│ u32                │\n",
       "╞════════════════════╡\n",
       "│ \u001b[1;36m720\u001b[0m                │\n",
       "└────────────────────┘\n"
      ]
     },
     "metadata": {},
     "output_type": "display_data"
    },
    {
     "data": {
      "text/html": [
       "<div><style>\n",
       ".dataframe > thead > tr > th,\n",
       ".dataframe > tbody > tr > td {\n",
       "  text-align: right;\n",
       "  white-space: pre-wrap;\n",
       "}\n",
       "</style>\n",
       "<small>shape: (720, 1)</small><table border=\"1\" class=\"dataframe\"><thead><tr><th>author_app_version</th></tr><tr><td>struct[2]</td></tr></thead><tbody><tr><td>{&quot;5.8.0 build 24644&quot;,16}</td></tr><tr><td>{&quot;5.11.0 build 25361&quot;,1}</td></tr><tr><td>{&quot;8.10.0 build 10 40088&quot;,1}</td></tr><tr><td>{&quot;8.22.1 build 22 40193&quot;,1934}</td></tr><tr><td>{&quot;7.7.0 build 20 34181&quot;,2160}</td></tr><tr><td>{&quot;7.110.0 build 6 35520&quot;,41}</td></tr><tr><td>{&quot;8.67.1 build 11 50414&quot;,955}</td></tr><tr><td>{&quot;5.13.1 build 25871&quot;,1460}</td></tr><tr><td>{&quot;6.7.0 build 28708&quot;,2}</td></tr><tr><td>{&quot;6.17.0 build 18 31525&quot;,57}</td></tr><tr><td>{&quot;6.26.0 build 9 31678&quot;,29}</td></tr><tr><td>{&quot;4.9.2 build 10051&quot;,50}</td></tr><tr><td>&hellip;</td></tr><tr><td>{&quot;7.42.0 build 3 34673&quot;,4}</td></tr><tr><td>{&quot;7.53.2 build 29 34819&quot;,714}</td></tr><tr><td>{&quot;7.44.0 build 5 34701&quot;,3106}</td></tr><tr><td>{&quot;5.15.1 build 26543&quot;,1224}</td></tr><tr><td>{&quot;8.63.0 build 16 50390&quot;,1322}</td></tr><tr><td>{&quot;3.9.2 build 4277&quot;,23}</td></tr><tr><td>{&quot;3.6.0 build 1626&quot;,2989}</td></tr><tr><td>{&quot;5.1.1 build 17104&quot;,227}</td></tr><tr><td>{&quot;7.36.1 build 23 34607&quot;,7}</td></tr><tr><td>{&quot;7.67.0 build 28 35016&quot;,45}</td></tr><tr><td>{&quot;7.74.1 build 26 35115&quot;,15}</td></tr><tr><td>{&quot;8.42.0 build 10 50279&quot;,1005}</td></tr></tbody></table></div>"
      ],
      "text/plain": [
       "shape: (720, 1)\n",
       "┌────────────────────────────────┐\n",
       "│ author_app_version             │\n",
       "│ ---                            │\n",
       "│ struct[2]                      │\n",
       "╞════════════════════════════════╡\n",
       "│ {\"5.8.0 build 24644\",16}       │\n",
       "│ {\"5.11.0 build 25361\",1}       │\n",
       "│ {\"8.10.0 build 10 40088\",1}    │\n",
       "│ {\"8.22.1 build 22 40193\",1934} │\n",
       "│ …                              │\n",
       "│ {\"7.36.1 build 23 34607\",7}    │\n",
       "│ {\"7.67.0 build 28 35016\",45}   │\n",
       "│ {\"7.74.1 build 26 35115\",15}   │\n",
       "│ {\"8.42.0 build 10 50279\",1005} │\n",
       "└────────────────────────────────┘"
      ]
     },
     "execution_count": 9,
     "metadata": {},
     "output_type": "execute_result"
    }
   ],
   "source": [
    "# Unique author_app_version\n",
    "print(data.select(pl.col(\"author_app_version\").n_unique()))\n",
    "data.select(pl.col(\"author_app_version\").value_counts())"
   ]
  },
  {
   "cell_type": "code",
   "execution_count": 10,
   "metadata": {},
   "outputs": [
    {
     "data": {
      "text/html": [
       "<div><style>\n",
       ".dataframe > thead > tr > th,\n",
       ".dataframe > tbody > tr > td {\n",
       "  text-align: right;\n",
       "  white-space: pre-wrap;\n",
       "}\n",
       "</style>\n",
       "<small>shape: (1_531_103, 1)</small><table border=\"1\" class=\"dataframe\"><thead><tr><th>author_app_version</th></tr><tr><td>str</td></tr></thead><tbody><tr><td>&quot;1.2.0 build 81…</td></tr><tr><td>&quot;1.2.0 build 81…</td></tr><tr><td>&quot;1.5.2 build 38…</td></tr><tr><td>&quot;1.2.1 build 84…</td></tr><tr><td>&quot;1.5.2 build 38…</td></tr><tr><td>&quot;1.4.1 build 26…</td></tr><tr><td>&quot;1.5.2 build 38…</td></tr><tr><td>&quot;1.2.0 build 81…</td></tr><tr><td>&quot;1.2.0 build 81…</td></tr><tr><td>&quot;1.5.2 build 38…</td></tr><tr><td>&quot;1.2.0 build 81…</td></tr><tr><td>&quot;1.2.0 build 81…</td></tr><tr><td>&hellip;</td></tr><tr><td>&quot;8.94.0 build 1…</td></tr><tr><td>&quot;8.94.0 build 1…</td></tr><tr><td>&quot;8.94.0 build 1…</td></tr><tr><td>&quot;8.82.0 build 1…</td></tr><tr><td>&quot;&quot;</td></tr><tr><td>&quot;8.94.0 build 1…</td></tr><tr><td>&quot;8.26.0 build 1…</td></tr><tr><td>&quot;&quot;</td></tr><tr><td>&quot;8.94.0 build 1…</td></tr><tr><td>&quot;&quot;</td></tr><tr><td>&quot;8.94.0 build 1…</td></tr><tr><td>&quot;8.94.0 build 1…</td></tr></tbody></table></div>"
      ],
      "text/plain": [
       "shape: (1_531_103, 1)\n",
       "┌──────────────────────────────┐\n",
       "│ author_app_version           │\n",
       "│ ---                          │\n",
       "│ str                          │\n",
       "╞══════════════════════════════╡\n",
       "│ 1.2.0 build 819145-1.2.0-102 │\n",
       "│ 1.2.0 build 819145-1.2.0-102 │\n",
       "│ 1.5.2 build 389              │\n",
       "│ 1.2.1 build 843839-1.2.0-30  │\n",
       "│ …                            │\n",
       "│ 8.94.0 build 10 50546        │\n",
       "│                              │\n",
       "│ 8.94.0 build 10 50546        │\n",
       "│ 8.94.0 build 10 50546        │\n",
       "└──────────────────────────────┘"
      ]
     },
     "execution_count": 10,
     "metadata": {},
     "output_type": "execute_result"
    }
   ],
   "source": [
    "data.select(pl.col(\"author_app_version\"))"
   ]
  },
  {
   "cell_type": "code",
   "execution_count": 11,
   "metadata": {},
   "outputs": [],
   "source": [
    "pattern: str = r\"\\d{1,4}\\.\\d{1,4}\\.\\d{1,4}\\s?\\w+\"\n",
    "\n",
    "data = data.with_columns(\n",
    "    pl.col(\"author_app_version\").str.extract(pattern, 0).alias(\"cleaned_app_version\")\n",
    ")"
   ]
  },
  {
   "cell_type": "code",
   "execution_count": 12,
   "metadata": {},
   "outputs": [
    {
     "data": {
      "text/html": [
       "<div><style>\n",
       ".dataframe > thead > tr > th,\n",
       ".dataframe > tbody > tr > td {\n",
       "  text-align: right;\n",
       "  white-space: pre-wrap;\n",
       "}\n",
       "</style>\n",
       "<small>shape: (10, 2)</small><table border=\"1\" class=\"dataframe\"><thead><tr><th>cleaned_app_version</th><th>review_rating</th></tr><tr><td>str</td><td>f64</td></tr></thead><tbody><tr><td>null</td><td>4.076079</td></tr><tr><td>&quot;1.2.0 build&quot;</td><td>4.211864</td></tr><tr><td>&quot;1.2.1 build&quot;</td><td>3.819461</td></tr><tr><td>&quot;1.2.2 build&quot;</td><td>3.67928</td></tr><tr><td>&quot;1.3.0 build&quot;</td><td>3.689362</td></tr><tr><td>&quot;1.4.0 build&quot;</td><td>3.036388</td></tr><tr><td>&quot;1.4.1 build&quot;</td><td>3.344689</td></tr><tr><td>&quot;1.5.0 build&quot;</td><td>3.676969</td></tr><tr><td>&quot;1.5.1 build&quot;</td><td>3.417691</td></tr><tr><td>&quot;1.5.2 build&quot;</td><td>3.149737</td></tr></tbody></table></div>"
      ],
      "text/plain": [
       "shape: (10, 2)\n",
       "┌─────────────────────┬───────────────┐\n",
       "│ cleaned_app_version ┆ review_rating │\n",
       "│ ---                 ┆ ---           │\n",
       "│ str                 ┆ f64           │\n",
       "╞═════════════════════╪═══════════════╡\n",
       "│ null                ┆ 4.076079      │\n",
       "│ 1.2.0 build         ┆ 4.211864      │\n",
       "│ 1.2.1 build         ┆ 3.819461      │\n",
       "│ 1.2.2 build         ┆ 3.67928       │\n",
       "│ …                   ┆ …             │\n",
       "│ 1.4.1 build         ┆ 3.344689      │\n",
       "│ 1.5.0 build         ┆ 3.676969      │\n",
       "│ 1.5.1 build         ┆ 3.417691      │\n",
       "│ 1.5.2 build         ┆ 3.149737      │\n",
       "└─────────────────────┴───────────────┘"
      ]
     },
     "execution_count": 12,
     "metadata": {},
     "output_type": "execute_result"
    }
   ],
   "source": [
    "df: pl.DataFrame = (\n",
    "    data.group_by(pl.col(\"cleaned_app_version\"))\n",
    "    .agg(pl.mean(\"review_rating\"))\n",
    "    .sort(by=\"cleaned_app_version\", descending=False)\n",
    ")\n",
    "df.head(10)"
   ]
  },
  {
   "cell_type": "code",
   "execution_count": 13,
   "metadata": {},
   "outputs": [
    {
     "data": {
      "application/vnd.plotly.v1+json": {
       "config": {
        "plotlyServerURL": "https://plot.ly"
       },
       "data": [
        {
         "hovertemplate": "cleaned_app_version=%{x}<br>review_rating=%{y}<extra></extra>",
         "legendgroup": "",
         "line": {
          "color": "#636efa",
          "dash": "solid"
         },
         "marker": {
          "symbol": "circle"
         },
         "mode": "lines",
         "name": "",
         "orientation": "v",
         "showlegend": false,
         "type": "scatter",
         "x": [
          null,
          "1.2.0 build",
          "1.2.1 build",
          "1.2.2 build",
          "1.3.0 build",
          "1.4.0 build",
          "1.4.1 build",
          "1.5.0 build",
          "1.5.1 build",
          "1.5.2 build",
          "1.6.0 build",
          "1.7.0 build",
          "1.7.1 build",
          "1.8.0 build",
          "1.8.1 build",
          "10.0.0 build",
          "2.0.0 build",
          "2.0.1 build",
          "2.0.2 build",
          "2.1.0 build",
          "2.1.1 build",
          "2.1.2 build",
          "2.2.0 build",
          "2.3.0 build",
          "2.3.1 build",
          "2.3.2 build",
          "2.4.0 build",
          "2.4.1 build",
          "20.0.0 build",
          "3.0.0 build",
          "3.0.1 build",
          "3.0.2 build",
          "3.1.0 build",
          "3.1.1 build",
          "3.1.2 build",
          "3.1.3 build",
          "3.1.4 build",
          "3.1.5 build",
          "3.1.8 build",
          "3.10.0 build",
          "3.10.1 build",
          "3.10.2 build",
          "3.11.0 build",
          "3.11.1 build",
          "3.12.0 build",
          "3.12.1 build",
          "3.12.2 build",
          "3.13.0 build",
          "3.14.0 build",
          "3.14.1 build",
          "3.14.2 build",
          "3.14.3 build",
          "3.15.0 build",
          "3.15.1 build",
          "3.15.2 build",
          "3.15.3 build",
          "3.16.0 build",
          "3.16.1 build",
          "3.16.2 build",
          "3.16.3 build",
          "3.16.6 build",
          "3.2.0 build",
          "3.2.1 build",
          "3.3.0 build",
          "3.3.1 build",
          "3.3.2 build",
          "3.3.3 build",
          "3.4.0 build",
          "3.4.1 build",
          "3.4.2 build",
          "3.5.0 build",
          "3.5.1 build",
          "3.6.0 build",
          "3.6.1 build",
          "3.6.2 build",
          "3.6.3 build",
          "3.7.0 build",
          "3.7.1 build",
          "3.7.2 build",
          "3.8.0 build",
          "3.8.1 build",
          "3.8.2 build",
          "3.8.3 build",
          "3.9.0 build",
          "3.9.1 build",
          "3.9.2 build",
          "3.9.3 build",
          "4.0.0 build",
          "4.1.0 build",
          "4.10.0 build",
          "4.10.1 build",
          "4.10.2 build",
          "4.10.3 build",
          "4.10.4 build",
          "4.10.5 build",
          "4.10.6 build",
          "4.10.7 build",
          "4.11.0 build",
          "4.12.0 build",
          "4.12.1 build",
          "4.12.2 build",
          "4.13.0 build",
          "4.13.1 build",
          "4.13.2 build",
          "4.13.3 build",
          "4.15.0 build",
          "4.15.1 build",
          "4.16.0 build",
          "4.16.1 build",
          "4.16.2 build",
          "4.16.3 build",
          "4.16.4 build",
          "4.16.6 build",
          "4.16.7 build",
          "4.2.0 build",
          "4.2.1 build",
          "4.3.0 build",
          "4.3.1 build",
          "4.4.0 build",
          "4.4.1 build",
          "4.4.2 build",
          "4.5.0 build",
          "4.5.1 build",
          "4.5.2 build",
          "4.6.0 build",
          "4.7.0 build",
          "4.7.1 build",
          "4.7.2 build",
          "4.8.0 build",
          "4.8.1 build",
          "4.8.2 build",
          "4.8.3 build",
          "4.8.4 build",
          "4.8.5 build",
          "4.8.6 build",
          "4.8.7 build",
          "4.9.0 build",
          "4.9.1 build",
          "4.9.2 build",
          "4.9.3 build",
          "4.9.4 build",
          "4.9.5 build",
          "5.0.0 build",
          "5.0.1 build",
          "5.0.2 build",
          "5.0.3 build",
          "5.0.4 build",
          "5.0.5 build",
          "5.0.6 build",
          "5.0.7 build",
          "5.0.8 build",
          "5.1.0 build",
          "5.1.1 build",
          "5.1.2 build",
          "5.10.0 build",
          "5.10.1 build",
          "5.11.0 build",
          "5.11.1 build",
          "5.11.2 build",
          "5.11.3 build",
          "5.12.0 build",
          "5.12.1 build",
          "5.12.2 build",
          "5.12.3 build",
          "5.13.0 build",
          "5.13.1 build",
          "5.14.0 build",
          "5.14.1 build",
          "5.15.0 build",
          "5.15.1 build",
          "5.15.2 build",
          "5.16.0 build",
          "5.16.1 build",
          "5.2.0 build",
          "5.2.1 build",
          "5.3.0 build",
          "5.3.1 build",
          "5.4.0 build",
          "5.5.0 build",
          "5.5.1 build",
          "5.6.0 build",
          "5.7.0 build",
          "5.8.0 build",
          "5.8.1 build",
          "5.9.0 build",
          "5.9.1 build",
          "6.0.0 build",
          "6.0.1 build",
          "6.0.2 build",
          "6.1.0 build",
          "6.10.0 build",
          "6.11.0 build",
          "6.12.0 build",
          "6.12.1 build",
          "6.13.0 build",
          "6.14.0 build",
          "6.15.0 build",
          "6.16.0 build",
          "6.17.0 build",
          "6.17.1 build",
          "6.18.0 build",
          "6.19.0 build",
          "6.2.0 build",
          "6.2.1 build",
          "6.20.0 build",
          "6.20.1 build",
          "6.21.0 build",
          "6.22.0 build",
          "6.23.0 build",
          "6.24.0 build",
          "6.25.0 build",
          "6.26.0 build",
          "6.26.1 build",
          "6.3.0 build",
          "6.4.0 build",
          "6.5.0 build",
          "6.5.1 build",
          "6.5.2 build",
          "6.6.0 build",
          "6.6.1 build",
          "6.7.0 build",
          "6.7.1 build",
          "6.7.2 build",
          "6.8.0 build",
          "6.9.0 build",
          "6.9.1 build",
          "7.0.0 build",
          "7.0.1 build",
          "7.1.0 build",
          "7.10.0 build",
          "7.100.0 build",
          "7.101.0 build",
          "7.102.0 build",
          "7.103.0 build",
          "7.104.0 build",
          "7.105.0 build",
          "7.106.0 build",
          "7.107.0 build",
          "7.108.0 build",
          "7.109.0 build",
          "7.109.2 build",
          "7.11.0 build",
          "7.11.1 build",
          "7.110.0 build",
          "7.110.1 build",
          "7.111.0 build",
          "7.111.1 build",
          "7.112.0 build",
          "7.113.0 build",
          "7.114.0 build",
          "7.115.0 build",
          "7.115.1 build",
          "7.116.0 build",
          "7.116.1 build",
          "7.117.0 build",
          "7.118.0 build",
          "7.119.0 build",
          "7.12.0 build",
          "7.12.1 build",
          "7.120.0 build",
          "7.120.2 build",
          "7.120.3 build",
          "7.120.6 build",
          "7.13.0 build",
          "7.13.1 build",
          "7.14.0 build",
          "7.15.0 build",
          "7.15.1 build",
          "7.16.0 build",
          "7.16.1 build",
          "7.17.0 build",
          "7.18.0 build",
          "7.19.0 build",
          "7.19.1 build",
          "7.2.0 build",
          "7.2.1 build",
          "7.20.1 build",
          "7.21.0 build",
          "7.21.1 build",
          "7.22.0 build",
          "7.23.0 build",
          "7.24.0 build",
          "7.24.1 build",
          "7.24.2 build",
          "7.26.0 build",
          "7.26.1 build",
          "7.27.0 build",
          "7.28.0 build",
          "7.28.1 build",
          "7.29.0 build",
          "7.29.1 build",
          "7.3.0 build",
          "7.3.1 build",
          "7.30.0 build",
          "7.31.0 build",
          "7.32.0 build",
          "7.33.0 build",
          "7.33.1 build",
          "7.34.0 build",
          "7.34.1 build",
          "7.34.2 build",
          "7.35.0 build",
          "7.36.0 build",
          "7.36.1 build",
          "7.36.2 build",
          "7.37.0 build",
          "7.37.1 build",
          "7.38.0 build",
          "7.39.0 build",
          "7.4.0 build",
          "7.4.1 build",
          "7.40.0 build",
          "7.41.0 build",
          "7.42.0 build",
          "7.43.0 build",
          "7.44.0 build",
          "7.45.0 build",
          "7.46.0 build",
          "7.47.0 build",
          "7.48.0 build",
          "7.49.0 build",
          "7.5.0 build",
          "7.50.0 build",
          "7.51.0 build",
          "7.51.1 build",
          "7.52.0 build",
          "7.53.0 build",
          "7.53.1 build",
          "7.53.2 build",
          "7.53.3 build",
          "7.54.0 build",
          "7.54.1 build",
          "7.54.2 build",
          "7.55.0 build",
          "7.56.0 build",
          "7.56.1 build",
          "7.57.0 build",
          "7.58.0 build",
          "7.59.0 build",
          "7.59.1 build",
          "7.59.2 build",
          "7.6.0 build",
          "7.60.0 build",
          "7.60.1 build",
          "7.61.0 build",
          "7.62.0 build",
          "7.63.0 build",
          "7.64.0 build",
          "7.65.0 build",
          "7.66.0 build",
          "7.67.0 build",
          "7.67.1 build",
          "7.67.2 build",
          "7.68.0 build",
          "7.68.1 build",
          "7.68.2 build",
          "7.68.3 build",
          "7.68.4 build",
          "7.7.0 build",
          "7.70.0 build",
          "7.71.0 build",
          "7.72.0 build",
          "7.73.0 build",
          "7.73.1 build",
          "7.74.0 build",
          "7.74.1 build",
          "7.75.0 build",
          "7.75.1 build",
          "7.76.0 build",
          "7.76.1 build",
          "7.77.0 build",
          "7.78.0 build",
          "7.79.0 build",
          "7.79.1 build",
          "7.8.0 build",
          "7.80.0 build",
          "7.81.1 build",
          "7.82.0 build",
          "7.82.1 build",
          "7.82.2 build",
          "7.83.0 build",
          "7.84.0 build",
          "7.84.1 build",
          "7.85.0 build",
          "7.86.0 build",
          "7.86.1 build",
          "7.87.0 build",
          "7.87.1 build",
          "7.87.2 build",
          "7.88.0 build",
          "7.89.0 build",
          "7.9.0 build",
          "7.90.0 build",
          "7.91.0 build",
          "7.92.0 build",
          "7.93.0 build",
          "7.93.1 build",
          "7.94.0 build",
          "7.95.0 build",
          "7.96.0 build",
          "7.97.0 build",
          "7.97.1 build",
          "7.98.0 build",
          "7.99.0 build",
          "8.0.0 build",
          "8.1.0 build",
          "8.10.0 build",
          "8.11.0 build",
          "8.11.1 build",
          "8.12.0 build",
          "8.13.0 build",
          "8.14.0 build",
          "8.15.0 build",
          "8.16.0 build",
          "8.17.0 build",
          "8.18.0 build",
          "8.18.1 build",
          "8.19.0 build",
          "8.2.0 build",
          "8.2.1 build",
          "8.20.0 build",
          "8.21.0 build",
          "8.21.1 build",
          "8.22.0 build",
          "8.22.1 build",
          "8.23.0 build",
          "8.24.0 build",
          "8.25.0 build",
          "8.25.1 build",
          "8.26.0 build",
          "8.27.0 build",
          "8.28.0 build",
          "8.3.0 build",
          "8.30.0 build",
          "8.30.2 build",
          "8.30.3 build",
          "8.31.0 build",
          "8.31.1 build",
          "8.32.0 build",
          "8.32.1 build",
          "8.33.0 build",
          "8.34.0 build",
          "8.35.0 build",
          "8.37.0 build",
          "8.39.0 build",
          "8.39.1 build",
          "8.4.0 build",
          "8.40.0 build",
          "8.41.0 build",
          "8.42.0 build",
          "8.43.0 build",
          "8.44.0 build",
          "8.45.0 build",
          "8.46.0 build",
          "8.46.1 build",
          "8.47.0 build",
          "8.48.0 build",
          "8.48.1 build",
          "8.49.0 build",
          "8.5.0 build",
          "8.50.0 build",
          "8.51.0 build",
          "8.52.0 build",
          "8.52.1 build",
          "8.52.2 build",
          "8.53.0 build",
          "8.53.1 build",
          "8.53.2 build",
          "8.54.0 build",
          "8.55.0 build",
          "8.55.1 build",
          "8.56.0 build",
          "8.57.0 build",
          "8.58.0 build",
          "8.59.0 build",
          "8.59.1 build",
          "8.6.0 build",
          "8.6.1 build",
          "8.60.0 build",
          "8.60.1 build",
          "8.61.0 build",
          "8.62.0 build",
          "8.63.0 build",
          "8.64.0 build",
          "8.65.0 build",
          "8.66.0 build",
          "8.66.1 build",
          "8.67.0 build",
          "8.67.1 build",
          "8.69.0 build",
          "8.7.0 build",
          "8.70.0 build",
          "8.71.0 build",
          "8.72.0 build",
          "8.72.1 build",
          "8.73.0 build",
          "8.74.0 build",
          "8.75.0 build",
          "8.76.0 build",
          "8.78.0 build",
          "8.79.1 build",
          "8.8.0 build",
          "8.80.0 build",
          "8.81.0 build",
          "8.82.0 build",
          "8.82.1 build",
          "8.83.2 build",
          "8.84.0 build",
          "8.85.0 build",
          "8.86.0 build",
          "8.87.0 build",
          "8.88.0 build",
          "8.89.0 build",
          "8.9.0 build",
          "8.9.1 build",
          "8.90.0 build",
          "8.90.1 build",
          "8.91.0 build",
          "8.91.1 build",
          "8.92.0 build",
          "8.93.0 build",
          "8.93.1 build",
          "8.94.0 build",
          "8.95.0 build"
         ],
         "xaxis": "x",
         "y": [
          4.0760794597228465,
          4.211864406779661,
          3.8194607268464242,
          3.679280110752192,
          3.6893617021276595,
          3.036388140161725,
          3.344689378757515,
          3.6769690927218344,
          3.417691392304641,
          3.1497374615245337,
          3.1365153538050734,
          3.618289237092217,
          4.016384337683976,
          3.6365950226244346,
          3.3542048089832783,
          3,
          2.3695338779432964,
          2.0343430445687827,
          2.4301762114537446,
          2.8232695139911637,
          2.5414277239470042,
          2.9504232164449817,
          3.6136790680195414,
          3.448240866035183,
          3.7367706919945727,
          3.4305555555555554,
          3.9371406669221924,
          3.513057452792286,
          4.064516129032258,
          4.157894736842105,
          4.185256103398755,
          3.8843385880740233,
          4.3822931785195935,
          4.20124716553288,
          4.255525505921851,
          4.237288135593221,
          4.153684210526316,
          4.2604790419161676,
          2.75,
          4.414285714285715,
          3.9248203427307904,
          3.8408772748483435,
          4.075107296137339,
          3.8985053037608486,
          4.064957264957265,
          3.980909090909091,
          4.050522648083624,
          3.8480688692415077,
          3.8898643256185155,
          3.9252839210998207,
          3.803946803946804,
          3.7944462523050224,
          3.5708215297450425,
          3.605668016194332,
          3.9341463414634146,
          4.072640509013786,
          3.7540372670807454,
          4.223725755525485,
          4.178571428571429,
          4.272,
          4.01007556675063,
          4.438356164383562,
          4.128400435255712,
          4.0168831168831165,
          4.087053571428571,
          4.019047619047619,
          4.042955326460481,
          4.135242290748899,
          4.094087730451367,
          4.305201698513801,
          4.405967450271247,
          4.306186648025166,
          4.214452994312479,
          4.306878306878307,
          4.309565217391304,
          4.217084984588287,
          4.164529131550018,
          3.942817049640414,
          4.070553163299106,
          3.946271929824561,
          3.8370279146141213,
          3.873772791023843,
          3.8007649513212796,
          3.6044226044226044,
          3.823698983462297,
          4.005434782608695,
          3.9484799257368297,
          3.988704318936877,
          4.0618836644276115,
          3.992764109985528,
          4,
          4.212121212121212,
          3.824644549763033,
          3.717391304347826,
          4,
          4.077145612343298,
          4.1175208581644815,
          4.2956521739130435,
          4.249134948096886,
          3.959167333867094,
          4.17619832117361,
          4.062719812426729,
          3.814814814814815,
          4.135602377093463,
          4.13112582781457,
          4.062701435687079,
          4.167817083692839,
          4.087842586085734,
          4.129388164493481,
          3.8796296296296298,
          4.138911454102356,
          4.043408360128617,
          3.758415841584158,
          3.8344827586206898,
          4.186991869918699,
          4.129256965944273,
          4.04383429672447,
          4.193760732684602,
          4.192605843768635,
          4.423893109772072,
          4.091572123176661,
          3.9409158050221564,
          4.140167896209616,
          4.196932515337424,
          4.157281553398058,
          4.028351559335763,
          4.151090342679128,
          4.115384615384615,
          4.0776297657326595,
          4.181556195965418,
          4.2281639928698755,
          4.038888888888889,
          4.241960183767228,
          3.9564719358533793,
          4.061767005473026,
          3.9887568262126565,
          4.2727272727272725,
          3.4838709677419355,
          2.4,
          3.7542372881355934,
          4.132882882882883,
          3.9571843251088534,
          2.090909090909091,
          3.185185185185185,
          3.8947368421052633,
          3.3636363636363638,
          3.651685393258427,
          3.713013698630137,
          3.831923890063425,
          3.36,
          4.018150087260035,
          3.9737051792828684,
          3.9533898305084745,
          4.086558044806518,
          3.6455223880597014,
          3.7462102689486554,
          3.693708609271523,
          3.674193548387097,
          3.7556818181818183,
          3.996598639455782,
          3.8537037037037036,
          4.019430051813472,
          3.964116452268111,
          3.733960650128315,
          3.9315217391304347,
          3.884844473858372,
          3.690335305719921,
          3.93681592039801,
          3.6216216216216215,
          3.973856209150327,
          3.890980392156863,
          4.008080808080808,
          3.8552691090004525,
          4.037673738112655,
          4.041464325737766,
          4.026186579378069,
          4.158842794759825,
          4.108791649939783,
          4.133928571428571,
          4.059107358262968,
          4.0615042608373475,
          3.9217758985200843,
          4.171428571428572,
          3.777191825972314,
          3.802478698683191,
          3.7769607843137254,
          3.984198645598194,
          3.967551622418879,
          3.9197007481296757,
          3.948334756618275,
          4.0140548137737175,
          3.9286719849835756,
          4.410256410256411,
          4.120524017467249,
          3.992745835572273,
          4.034246575342466,
          3.9604591836734695,
          4.160782442748092,
          4.205128205128205,
          4.226448362720403,
          4.237032569360675,
          4.1268796992481205,
          3.7674418604651163,
          3.938738738738739,
          4.077262693156733,
          3.918934402749928,
          3.884841992501339,
          3.9211337030191005,
          4.0009229349330875,
          3.9601275917065393,
          3.8529411764705883,
          4.052793124616329,
          3.9496779388083736,
          3.9176470588235293,
          3.8635255889520717,
          3.7817197835237524,
          4.0111940298507465,
          3.9415753781950964,
          3.916554508748318,
          3.8860887096774195,
          4.0474683544303796,
          4.021645021645021,
          3.752688172043011,
          3.8419834710743803,
          3.7067067067067065,
          3.893624772313297,
          3,
          4.00650860065086,
          3.9976076555023923,
          4.0588235294117645,
          3.545595054095827,
          3.531393568147014,
          3.4981464318813718,
          3.529325513196481,
          3.4531104921077067,
          3.52377762893503,
          3.631929046563193,
          3.5447338618346547,
          3.5115034777956127,
          3.4358974358974357,
          4.6,
          4.25,
          4.092212135690397,
          3.8536585365853657,
          3.6223893065998327,
          1.6666666666666667,
          3.594093804284887,
          3.6408839779005526,
          3.652,
          3.4289142171565685,
          3.4138559708295353,
          3.6639072847682117,
          3.6666666666666665,
          3.523117569352708,
          3.4980967917346386,
          3.371602624179944,
          3.6777929155313354,
          4.333333333333333,
          4.143422354104847,
          3.5776528460997894,
          3.772046589018303,
          3.628925619834711,
          3.9485981308411215,
          3.9238095238095236,
          4.0388862217954875,
          3.9949604031677466,
          3.96875,
          4.192888888888889,
          4,
          4.123713462330177,
          4.117787504974134,
          4.283363255535607,
          3.8461538461538463,
          4.250745378652355,
          3.875,
          3.970469798657718,
          4.20920111905502,
          4.0625,
          4.145551128818061,
          4.210958101377088,
          4.16729205753596,
          3.945945945945946,
          4.2125,
          4.119961146187469,
          4.1,
          4.131287905815198,
          4.160631994733377,
          3.857142857142857,
          4.1195059934616785,
          3.9,
          4.169463087248322,
          4.211480362537764,
          4.201327433628318,
          4.225152129817444,
          4.232359698063669,
          4.158381502890173,
          3.883720930232558,
          4.166230746875908,
          4.216666666666667,
          4.444444444444445,
          4.227983907018328,
          4.153421991566656,
          3.761904761904762,
          4.714285714285714,
          4.192267773741567,
          4.314814814814815,
          4.167594654788418,
          4.2054047353415145,
          4.225706302390562,
          4.194353963083604,
          4.190034762456547,
          4.174913331232272,
          4.1832602092473845,
          4.162587998659068,
          4.11788242536165,
          4.184159690920798,
          4.195511835229019,
          4.224175824175824,
          4.16049091338211,
          4.060760486083889,
          4.095537863358637,
          4.0870659285354805,
          4.107893242475866,
          4.157272727272727,
          4.102398081534772,
          4.0976637976462325,
          3.9375,
          3.8,
          4.081232492997199,
          4.1001345895020185,
          4.142857142857143,
          3.9555555555555557,
          4.116123462119577,
          4.135620538798066,
          4.27741935483871,
          4.134473197781886,
          4.056796667928815,
          4.042689837551945,
          4.12037037037037,
          4.0502156500308075,
          3.9983815496661945,
          4.09161415414445,
          4.157894736842105,
          3.78580814717477,
          3.911331133113311,
          3.9674740484429067,
          4.015600271309066,
          3.8991347342398024,
          4.039529647235427,
          4.011574074074074,
          4.078125,
          3.65,
          3.9408194233687404,
          3.775,
          3.642857142857143,
          4.333333333333333,
          4,
          3.9301602115414527,
          4.07631822386679,
          3.9948257080610023,
          3.9489322191272054,
          3.5843248836006207,
          3,
          3.87719720683843,
          4.304347826086956,
          3.9529652351738243,
          3.6470588235294117,
          3.899890710382514,
          3.8260869565217392,
          3.9920424403183024,
          3.9723943661971832,
          4.014008004574042,
          3.8666666666666667,
          4.038372093023256,
          3.9652756625038075,
          4.115462721206846,
          4.117963224893918,
          4.125,
          4.069875776397516,
          3.8537139150178397,
          3.5651607298001737,
          3.0344827586206895,
          4.047187595013682,
          3.9597203728362182,
          3.9047619047619047,
          3.927392739273927,
          3.8181818181818183,
          3.719298245614035,
          3.78814489571899,
          3.8200243210376974,
          3.8131868131868134,
          4.034297520661157,
          3.926530612244898,
          3.821856952465571,
          3.8794063079777366,
          3.6666666666666665,
          3.8660676080445016,
          3.781551170261588,
          3.779010633379565,
          3.773785218456513,
          3.452830188679245,
          3.6951995373048003,
          3.5085146641438034,
          3.4917043740573153,
          3.7733333333333334,
          3.7839592025961983,
          3.8306409588327255,
          4.5,
          3.816365568544102,
          3.82771194165907,
          3.569747899159664,
          3.192749461593683,
          3.8271230502599654,
          3.799335863377609,
          3.6833396013538926,
          3.43213897937025,
          3.6947449768160743,
          3.9513797634691197,
          4.2,
          3.897257089725709,
          3.896678966789668,
          4.113636363636363,
          3.801273306048204,
          3.683098591549296,
          3.8371251292657704,
          3.8723298559364134,
          3.9160516605166054,
          3.761904761904762,
          3.807507218479307,
          3.8004399364536234,
          3.867964946445959,
          3,
          3.8115060804490177,
          3.807312516680011,
          3.6519174041297937,
          3.5466819879345017,
          3.534195933456562,
          3.844005777563794,
          3.5172413793103448,
          3.863793103448276,
          3.6637666325486182,
          3.7291789722386297,
          3.739130434782609,
          3.640405616224649,
          3.3328877005347595,
          3.625922023182297,
          3.7685,
          3.5495689655172415,
          3,
          3.6427860696517413,
          3.4943109987357777,
          3.5265017667844525,
          3.433333333333333,
          3.4444444444444446,
          3.619599578503688,
          3.4758213362864527,
          3.25,
          3.25,
          2.8534385569334835,
          3.7999037999038,
          2.9770710059171597,
          2.937467965146079,
          3.0833333333333335,
          2.9495798319327733,
          3.404490177736202,
          2.5,
          4.333333333333333,
          3.4197384066587397,
          3.4406065711878684,
          2.8666666666666667,
          3.382741116751269,
          3.014232209737828,
          2.8644688644688645,
          3.2297939778129954,
          3.59375,
          3.1926989826451226,
          3.8947368421052633,
          3.821542383683875,
          3.0555555555555554,
          3.2972972972972974,
          3.0184956843403206,
          3.0339181286549706,
          2.5249621785173977,
          1.4170916124494461,
          2.0625,
          2.335526315789474,
          2.811111111111111,
          2.8,
          3.055497382198953,
          3.1418067226890756,
          3.8684985279685966,
          2.7432614555256065,
          2.8904235727440146,
          3.25,
          2.9618090452261305,
          2.9935956084172,
          3.142094017094017,
          3.21010101010101,
          3.0524509803921567,
          3.1724137931034484,
          3.1585858585858584,
          3.764161220043573,
          3.2771317829457365,
          3.267827529021559,
          4,
          3.3029229406554474,
          3.2404624277456646,
          3.1965811965811968,
          3.310654685494223,
          3.263905325443787,
          3.1721212121212123,
          3.0916114790286975,
          3.165991902834008,
          2.7142857142857144,
          3.819510898458267,
          2.1666666666666665,
          2.885895404120444,
          3.6666666666666665,
          3.0563607085346214,
          3,
          3.4,
          3.097911227154047,
          2.881489841986456,
          1
         ],
         "yaxis": "y"
        }
       ],
       "layout": {
        "legend": {
         "tracegroupgap": 0
        },
        "template": {
         "data": {
          "bar": [
           {
            "error_x": {
             "color": "#2a3f5f"
            },
            "error_y": {
             "color": "#2a3f5f"
            },
            "marker": {
             "line": {
              "color": "#E5ECF6",
              "width": 0.5
             },
             "pattern": {
              "fillmode": "overlay",
              "size": 10,
              "solidity": 0.2
             }
            },
            "type": "bar"
           }
          ],
          "barpolar": [
           {
            "marker": {
             "line": {
              "color": "#E5ECF6",
              "width": 0.5
             },
             "pattern": {
              "fillmode": "overlay",
              "size": 10,
              "solidity": 0.2
             }
            },
            "type": "barpolar"
           }
          ],
          "carpet": [
           {
            "aaxis": {
             "endlinecolor": "#2a3f5f",
             "gridcolor": "white",
             "linecolor": "white",
             "minorgridcolor": "white",
             "startlinecolor": "#2a3f5f"
            },
            "baxis": {
             "endlinecolor": "#2a3f5f",
             "gridcolor": "white",
             "linecolor": "white",
             "minorgridcolor": "white",
             "startlinecolor": "#2a3f5f"
            },
            "type": "carpet"
           }
          ],
          "choropleth": [
           {
            "colorbar": {
             "outlinewidth": 0,
             "ticks": ""
            },
            "type": "choropleth"
           }
          ],
          "contour": [
           {
            "colorbar": {
             "outlinewidth": 0,
             "ticks": ""
            },
            "colorscale": [
             [
              0,
              "#0d0887"
             ],
             [
              0.1111111111111111,
              "#46039f"
             ],
             [
              0.2222222222222222,
              "#7201a8"
             ],
             [
              0.3333333333333333,
              "#9c179e"
             ],
             [
              0.4444444444444444,
              "#bd3786"
             ],
             [
              0.5555555555555556,
              "#d8576b"
             ],
             [
              0.6666666666666666,
              "#ed7953"
             ],
             [
              0.7777777777777778,
              "#fb9f3a"
             ],
             [
              0.8888888888888888,
              "#fdca26"
             ],
             [
              1,
              "#f0f921"
             ]
            ],
            "type": "contour"
           }
          ],
          "contourcarpet": [
           {
            "colorbar": {
             "outlinewidth": 0,
             "ticks": ""
            },
            "type": "contourcarpet"
           }
          ],
          "heatmap": [
           {
            "colorbar": {
             "outlinewidth": 0,
             "ticks": ""
            },
            "colorscale": [
             [
              0,
              "#0d0887"
             ],
             [
              0.1111111111111111,
              "#46039f"
             ],
             [
              0.2222222222222222,
              "#7201a8"
             ],
             [
              0.3333333333333333,
              "#9c179e"
             ],
             [
              0.4444444444444444,
              "#bd3786"
             ],
             [
              0.5555555555555556,
              "#d8576b"
             ],
             [
              0.6666666666666666,
              "#ed7953"
             ],
             [
              0.7777777777777778,
              "#fb9f3a"
             ],
             [
              0.8888888888888888,
              "#fdca26"
             ],
             [
              1,
              "#f0f921"
             ]
            ],
            "type": "heatmap"
           }
          ],
          "heatmapgl": [
           {
            "colorbar": {
             "outlinewidth": 0,
             "ticks": ""
            },
            "colorscale": [
             [
              0,
              "#0d0887"
             ],
             [
              0.1111111111111111,
              "#46039f"
             ],
             [
              0.2222222222222222,
              "#7201a8"
             ],
             [
              0.3333333333333333,
              "#9c179e"
             ],
             [
              0.4444444444444444,
              "#bd3786"
             ],
             [
              0.5555555555555556,
              "#d8576b"
             ],
             [
              0.6666666666666666,
              "#ed7953"
             ],
             [
              0.7777777777777778,
              "#fb9f3a"
             ],
             [
              0.8888888888888888,
              "#fdca26"
             ],
             [
              1,
              "#f0f921"
             ]
            ],
            "type": "heatmapgl"
           }
          ],
          "histogram": [
           {
            "marker": {
             "pattern": {
              "fillmode": "overlay",
              "size": 10,
              "solidity": 0.2
             }
            },
            "type": "histogram"
           }
          ],
          "histogram2d": [
           {
            "colorbar": {
             "outlinewidth": 0,
             "ticks": ""
            },
            "colorscale": [
             [
              0,
              "#0d0887"
             ],
             [
              0.1111111111111111,
              "#46039f"
             ],
             [
              0.2222222222222222,
              "#7201a8"
             ],
             [
              0.3333333333333333,
              "#9c179e"
             ],
             [
              0.4444444444444444,
              "#bd3786"
             ],
             [
              0.5555555555555556,
              "#d8576b"
             ],
             [
              0.6666666666666666,
              "#ed7953"
             ],
             [
              0.7777777777777778,
              "#fb9f3a"
             ],
             [
              0.8888888888888888,
              "#fdca26"
             ],
             [
              1,
              "#f0f921"
             ]
            ],
            "type": "histogram2d"
           }
          ],
          "histogram2dcontour": [
           {
            "colorbar": {
             "outlinewidth": 0,
             "ticks": ""
            },
            "colorscale": [
             [
              0,
              "#0d0887"
             ],
             [
              0.1111111111111111,
              "#46039f"
             ],
             [
              0.2222222222222222,
              "#7201a8"
             ],
             [
              0.3333333333333333,
              "#9c179e"
             ],
             [
              0.4444444444444444,
              "#bd3786"
             ],
             [
              0.5555555555555556,
              "#d8576b"
             ],
             [
              0.6666666666666666,
              "#ed7953"
             ],
             [
              0.7777777777777778,
              "#fb9f3a"
             ],
             [
              0.8888888888888888,
              "#fdca26"
             ],
             [
              1,
              "#f0f921"
             ]
            ],
            "type": "histogram2dcontour"
           }
          ],
          "mesh3d": [
           {
            "colorbar": {
             "outlinewidth": 0,
             "ticks": ""
            },
            "type": "mesh3d"
           }
          ],
          "parcoords": [
           {
            "line": {
             "colorbar": {
              "outlinewidth": 0,
              "ticks": ""
             }
            },
            "type": "parcoords"
           }
          ],
          "pie": [
           {
            "automargin": true,
            "type": "pie"
           }
          ],
          "scatter": [
           {
            "fillpattern": {
             "fillmode": "overlay",
             "size": 10,
             "solidity": 0.2
            },
            "type": "scatter"
           }
          ],
          "scatter3d": [
           {
            "line": {
             "colorbar": {
              "outlinewidth": 0,
              "ticks": ""
             }
            },
            "marker": {
             "colorbar": {
              "outlinewidth": 0,
              "ticks": ""
             }
            },
            "type": "scatter3d"
           }
          ],
          "scattercarpet": [
           {
            "marker": {
             "colorbar": {
              "outlinewidth": 0,
              "ticks": ""
             }
            },
            "type": "scattercarpet"
           }
          ],
          "scattergeo": [
           {
            "marker": {
             "colorbar": {
              "outlinewidth": 0,
              "ticks": ""
             }
            },
            "type": "scattergeo"
           }
          ],
          "scattergl": [
           {
            "marker": {
             "colorbar": {
              "outlinewidth": 0,
              "ticks": ""
             }
            },
            "type": "scattergl"
           }
          ],
          "scattermapbox": [
           {
            "marker": {
             "colorbar": {
              "outlinewidth": 0,
              "ticks": ""
             }
            },
            "type": "scattermapbox"
           }
          ],
          "scatterpolar": [
           {
            "marker": {
             "colorbar": {
              "outlinewidth": 0,
              "ticks": ""
             }
            },
            "type": "scatterpolar"
           }
          ],
          "scatterpolargl": [
           {
            "marker": {
             "colorbar": {
              "outlinewidth": 0,
              "ticks": ""
             }
            },
            "type": "scatterpolargl"
           }
          ],
          "scatterternary": [
           {
            "marker": {
             "colorbar": {
              "outlinewidth": 0,
              "ticks": ""
             }
            },
            "type": "scatterternary"
           }
          ],
          "surface": [
           {
            "colorbar": {
             "outlinewidth": 0,
             "ticks": ""
            },
            "colorscale": [
             [
              0,
              "#0d0887"
             ],
             [
              0.1111111111111111,
              "#46039f"
             ],
             [
              0.2222222222222222,
              "#7201a8"
             ],
             [
              0.3333333333333333,
              "#9c179e"
             ],
             [
              0.4444444444444444,
              "#bd3786"
             ],
             [
              0.5555555555555556,
              "#d8576b"
             ],
             [
              0.6666666666666666,
              "#ed7953"
             ],
             [
              0.7777777777777778,
              "#fb9f3a"
             ],
             [
              0.8888888888888888,
              "#fdca26"
             ],
             [
              1,
              "#f0f921"
             ]
            ],
            "type": "surface"
           }
          ],
          "table": [
           {
            "cells": {
             "fill": {
              "color": "#EBF0F8"
             },
             "line": {
              "color": "white"
             }
            },
            "header": {
             "fill": {
              "color": "#C8D4E3"
             },
             "line": {
              "color": "white"
             }
            },
            "type": "table"
           }
          ]
         },
         "layout": {
          "annotationdefaults": {
           "arrowcolor": "#2a3f5f",
           "arrowhead": 0,
           "arrowwidth": 1
          },
          "autotypenumbers": "strict",
          "coloraxis": {
           "colorbar": {
            "outlinewidth": 0,
            "ticks": ""
           }
          },
          "colorscale": {
           "diverging": [
            [
             0,
             "#8e0152"
            ],
            [
             0.1,
             "#c51b7d"
            ],
            [
             0.2,
             "#de77ae"
            ],
            [
             0.3,
             "#f1b6da"
            ],
            [
             0.4,
             "#fde0ef"
            ],
            [
             0.5,
             "#f7f7f7"
            ],
            [
             0.6,
             "#e6f5d0"
            ],
            [
             0.7,
             "#b8e186"
            ],
            [
             0.8,
             "#7fbc41"
            ],
            [
             0.9,
             "#4d9221"
            ],
            [
             1,
             "#276419"
            ]
           ],
           "sequential": [
            [
             0,
             "#0d0887"
            ],
            [
             0.1111111111111111,
             "#46039f"
            ],
            [
             0.2222222222222222,
             "#7201a8"
            ],
            [
             0.3333333333333333,
             "#9c179e"
            ],
            [
             0.4444444444444444,
             "#bd3786"
            ],
            [
             0.5555555555555556,
             "#d8576b"
            ],
            [
             0.6666666666666666,
             "#ed7953"
            ],
            [
             0.7777777777777778,
             "#fb9f3a"
            ],
            [
             0.8888888888888888,
             "#fdca26"
            ],
            [
             1,
             "#f0f921"
            ]
           ],
           "sequentialminus": [
            [
             0,
             "#0d0887"
            ],
            [
             0.1111111111111111,
             "#46039f"
            ],
            [
             0.2222222222222222,
             "#7201a8"
            ],
            [
             0.3333333333333333,
             "#9c179e"
            ],
            [
             0.4444444444444444,
             "#bd3786"
            ],
            [
             0.5555555555555556,
             "#d8576b"
            ],
            [
             0.6666666666666666,
             "#ed7953"
            ],
            [
             0.7777777777777778,
             "#fb9f3a"
            ],
            [
             0.8888888888888888,
             "#fdca26"
            ],
            [
             1,
             "#f0f921"
            ]
           ]
          },
          "colorway": [
           "#636efa",
           "#EF553B",
           "#00cc96",
           "#ab63fa",
           "#FFA15A",
           "#19d3f3",
           "#FF6692",
           "#B6E880",
           "#FF97FF",
           "#FECB52"
          ],
          "font": {
           "color": "#2a3f5f"
          },
          "geo": {
           "bgcolor": "white",
           "lakecolor": "white",
           "landcolor": "#E5ECF6",
           "showlakes": true,
           "showland": true,
           "subunitcolor": "white"
          },
          "hoverlabel": {
           "align": "left"
          },
          "hovermode": "closest",
          "mapbox": {
           "style": "light"
          },
          "paper_bgcolor": "white",
          "plot_bgcolor": "#E5ECF6",
          "polar": {
           "angularaxis": {
            "gridcolor": "white",
            "linecolor": "white",
            "ticks": ""
           },
           "bgcolor": "#E5ECF6",
           "radialaxis": {
            "gridcolor": "white",
            "linecolor": "white",
            "ticks": ""
           }
          },
          "scene": {
           "xaxis": {
            "backgroundcolor": "#E5ECF6",
            "gridcolor": "white",
            "gridwidth": 2,
            "linecolor": "white",
            "showbackground": true,
            "ticks": "",
            "zerolinecolor": "white"
           },
           "yaxis": {
            "backgroundcolor": "#E5ECF6",
            "gridcolor": "white",
            "gridwidth": 2,
            "linecolor": "white",
            "showbackground": true,
            "ticks": "",
            "zerolinecolor": "white"
           },
           "zaxis": {
            "backgroundcolor": "#E5ECF6",
            "gridcolor": "white",
            "gridwidth": 2,
            "linecolor": "white",
            "showbackground": true,
            "ticks": "",
            "zerolinecolor": "white"
           }
          },
          "shapedefaults": {
           "line": {
            "color": "#2a3f5f"
           }
          },
          "ternary": {
           "aaxis": {
            "gridcolor": "white",
            "linecolor": "white",
            "ticks": ""
           },
           "baxis": {
            "gridcolor": "white",
            "linecolor": "white",
            "ticks": ""
           },
           "bgcolor": "#E5ECF6",
           "caxis": {
            "gridcolor": "white",
            "linecolor": "white",
            "ticks": ""
           }
          },
          "title": {
           "x": 0.05
          },
          "xaxis": {
           "automargin": true,
           "gridcolor": "white",
           "linecolor": "white",
           "ticks": "",
           "title": {
            "standoff": 15
           },
           "zerolinecolor": "white",
           "zerolinewidth": 2
          },
          "yaxis": {
           "automargin": true,
           "gridcolor": "white",
           "linecolor": "white",
           "ticks": "",
           "title": {
            "standoff": 15
           },
           "zerolinecolor": "white",
           "zerolinewidth": 2
          }
         }
        },
        "title": {
         "text": "Average Review Rating of App Over Time"
        },
        "xaxis": {
         "anchor": "y",
         "domain": [
          0,
          1
         ],
         "title": {
          "text": "cleaned_app_version"
         }
        },
        "yaxis": {
         "anchor": "x",
         "domain": [
          0,
          1
         ],
         "title": {
          "text": "review_rating"
         }
        }
       }
      }
     },
     "metadata": {},
     "output_type": "display_data"
    }
   ],
   "source": [
    "import plotly.express as px\n",
    "\n",
    "\n",
    "fig = px.line(\n",
    "    df,\n",
    "    x=\"cleaned_app_version\",\n",
    "    y=\"review_rating\",\n",
    "    title=f\"Average Review Rating of App Over Time\",\n",
    ")\n",
    "fig.show()"
   ]
  },
  {
   "cell_type": "code",
   "execution_count": 14,
   "metadata": {},
   "outputs": [
    {
     "data": {
      "text/html": [
       "<div><style>\n",
       ".dataframe > thead > tr > th,\n",
       ".dataframe > tbody > tr > td {\n",
       "  text-align: right;\n",
       "  white-space: pre-wrap;\n",
       "}\n",
       "</style>\n",
       "<small>shape: (2, 9)</small><table border=\"1\" class=\"dataframe\"><thead><tr><th>review_id</th><th>pseudo_author_id</th><th>author_name</th><th>review_text</th><th>review_rating</th><th>review_likes</th><th>author_app_version</th><th>review_timestamp</th><th>cleaned_app_version</th></tr><tr><td>str</td><td>str</td><td>str</td><td>str</td><td>i64</td><td>i64</td><td>str</td><td>str</td><td>str</td></tr></thead><tbody><tr><td>&quot;7e73f80e-a8fd-…</td><td>&quot;15261855397701…</td><td>&quot;A Google user&quot;</td><td>&quot;Works great on…</td><td>5</td><td>1</td><td>&quot;1.2.0 build 81…</td><td>&quot;2011-05-12 18:…</td><td>&quot;1.2.0 build&quot;</td></tr><tr><td>&quot;dab55eca-c2a0-…</td><td>&quot;23438294286543…</td><td>&quot;A Google user&quot;</td><td>&quot;Works great on…</td><td>5</td><td>1</td><td>&quot;1.2.0 build 81…</td><td>&quot;2011-05-12 18:…</td><td>&quot;1.2.0 build&quot;</td></tr></tbody></table></div>"
      ],
      "text/plain": [
       "shape: (2, 9)\n",
       "┌───────────┬───────────┬───────────┬───────────┬───┬───────────┬───────────┬───────────┬──────────┐\n",
       "│ review_id ┆ pseudo_au ┆ author_na ┆ review_te ┆ … ┆ review_li ┆ author_ap ┆ review_ti ┆ cleaned_ │\n",
       "│ ---       ┆ thor_id   ┆ me        ┆ xt        ┆   ┆ kes       ┆ p_version ┆ mestamp   ┆ app_vers │\n",
       "│ str       ┆ ---       ┆ ---       ┆ ---       ┆   ┆ ---       ┆ ---       ┆ ---       ┆ ion      │\n",
       "│           ┆ str       ┆ str       ┆ str       ┆   ┆ i64       ┆ str       ┆ str       ┆ ---      │\n",
       "│           ┆           ┆           ┆           ┆   ┆           ┆           ┆           ┆ str      │\n",
       "╞═══════════╪═══════════╪═══════════╪═══════════╪═══╪═══════════╪═══════════╪═══════════╪══════════╡\n",
       "│ 7e73f80e- ┆ 152618553 ┆ A Google  ┆ Works     ┆ … ┆ 1         ┆ 1.2.0     ┆ 2011-05-1 ┆ 1.2.0    │\n",
       "│ a8fd-4ff3 ┆ 977019693 ┆ user      ┆ great on  ┆   ┆           ┆ build 819 ┆ 2         ┆ build    │\n",
       "│ -b09b-502 ┆ 742       ┆           ┆ my Evo!   ┆   ┆           ┆ 145-1.2.0 ┆ 18:50:37  ┆          │\n",
       "│ f0ad0…    ┆           ┆           ┆ Glad      ┆   ┆           ┆ -102      ┆           ┆          │\n",
       "│           ┆           ┆           ┆ andr…     ┆   ┆           ┆           ┆           ┆          │\n",
       "│ dab55eca- ┆ 234382942 ┆ A Google  ┆ Works     ┆ … ┆ 1         ┆ 1.2.0     ┆ 2011-05-1 ┆ 1.2.0    │\n",
       "│ c2a0-45a8 ┆ 865437071 ┆ user      ┆ great on  ┆   ┆           ┆ build 819 ┆ 2         ┆ build    │\n",
       "│ -93e3-986 ┆ 667       ┆           ┆ HTC incre ┆   ┆           ┆ 145-1.2.0 ┆ 18:50:52  ┆          │\n",
       "│ 0c1c5…    ┆           ┆           ┆ dible. C… ┆   ┆           ┆ -102      ┆           ┆          │\n",
       "└───────────┴───────────┴───────────┴───────────┴───┴───────────┴───────────┴───────────┴──────────┘"
      ]
     },
     "execution_count": 14,
     "metadata": {},
     "output_type": "execute_result"
    }
   ],
   "source": [
    "data.head(2)"
   ]
  },
  {
   "cell_type": "code",
   "execution_count": 15,
   "metadata": {},
   "outputs": [
    {
     "data": {
      "text/html": [
       "<div><style>\n",
       ".dataframe > thead > tr > th,\n",
       ".dataframe > tbody > tr > td {\n",
       "  text-align: right;\n",
       "  white-space: pre-wrap;\n",
       "}\n",
       "</style>\n",
       "<small>shape: (5, 2)</small><table border=\"1\" class=\"dataframe\"><thead><tr><th>review_text</th><th>review_rating</th></tr><tr><td>str</td><td>i64</td></tr></thead><tbody><tr><td>&quot;Works great on…</td><td>5</td></tr><tr><td>&quot;Works great on…</td><td>5</td></tr><tr><td>&quot;Works great on…</td><td>5</td></tr><tr><td>&quot;Working perfec…</td><td>5</td></tr><tr><td>&quot;cm7 2.3.3 N1&quot;</td><td>5</td></tr></tbody></table></div>"
      ],
      "text/plain": [
       "shape: (5, 2)\n",
       "┌───────────────────────────────────┬───────────────┐\n",
       "│ review_text                       ┆ review_rating │\n",
       "│ ---                               ┆ ---           │\n",
       "│ str                               ┆ i64           │\n",
       "╞═══════════════════════════════════╪═══════════════╡\n",
       "│ Works great on my Evo! Glad andr… ┆ 5             │\n",
       "│ Works great on HTC incredible. C… ┆ 5             │\n",
       "│ Works great on nexus s            ┆ 5             │\n",
       "│ Working perfect for me on EVO, r… ┆ 5             │\n",
       "│ cm7 2.3.3 N1                      ┆ 5             │\n",
       "└───────────────────────────────────┴───────────────┘"
      ]
     },
     "execution_count": 15,
     "metadata": {},
     "output_type": "execute_result"
    }
   ],
   "source": [
    "review_data: pl.DataFrame = data.select([\"review_text\", \"review_rating\"])\n",
    "\n",
    "review_data.head()"
   ]
  },
  {
   "cell_type": "code",
   "execution_count": 16,
   "metadata": {},
   "outputs": [
    {
     "data": {
      "text/plain": [
       "Dataset({\n",
       "    features: ['review_text', 'review_rating'],\n",
       "    num_rows: 1531103\n",
       "})"
      ]
     },
     "execution_count": 16,
     "metadata": {},
     "output_type": "execute_result"
    }
   ],
   "source": [
    "from datasets import Dataset\n",
    "\n",
    "\n",
    "review_dataset: Dataset = Dataset.from_pandas(review_data.to_pandas())\n",
    "review_dataset"
   ]
  },
  {
   "cell_type": "code",
   "execution_count": 17,
   "metadata": {},
   "outputs": [
    {
     "data": {
      "text/html": [
       "<pre style=\"white-space:pre;overflow-x:auto;line-height:normal;font-family:Menlo,'DejaVu Sans Mono',consolas,'Courier New',monospace\"><span style=\"font-weight: bold\">{</span>\n",
       "    <span style=\"color: #008000; text-decoration-color: #008000\">'review_text'</span>: <span style=\"font-weight: bold\">[</span>\n",
       "        <span style=\"color: #008000; text-decoration-color: #008000\">'Works great on my Evo! Glad android phones are getting love now!'</span>,\n",
       "        <span style=\"color: #008000; text-decoration-color: #008000\">\"Works great on HTC incredible. Can't wait to try video out.\"</span>,\n",
       "        <span style=\"color: #008000; text-decoration-color: #008000\">'Works great on nexus s'</span>\n",
       "    <span style=\"font-weight: bold\">]</span>,\n",
       "    <span style=\"color: #008000; text-decoration-color: #008000\">'review_rating'</span>: <span style=\"font-weight: bold\">[</span><span style=\"color: #008080; text-decoration-color: #008080; font-weight: bold\">5</span>, <span style=\"color: #008080; text-decoration-color: #008080; font-weight: bold\">5</span>, <span style=\"color: #008080; text-decoration-color: #008080; font-weight: bold\">5</span><span style=\"font-weight: bold\">]</span>\n",
       "<span style=\"font-weight: bold\">}</span>\n",
       "</pre>\n"
      ],
      "text/plain": [
       "\u001b[1m{\u001b[0m\n",
       "    \u001b[32m'review_text'\u001b[0m: \u001b[1m[\u001b[0m\n",
       "        \u001b[32m'Works great on my Evo! Glad android phones are getting love now!'\u001b[0m,\n",
       "        \u001b[32m\"Works great on HTC incredible. Can't wait to try video out.\"\u001b[0m,\n",
       "        \u001b[32m'Works great on nexus s'\u001b[0m\n",
       "    \u001b[1m]\u001b[0m,\n",
       "    \u001b[32m'review_rating'\u001b[0m: \u001b[1m[\u001b[0m\u001b[1;36m5\u001b[0m, \u001b[1;36m5\u001b[0m, \u001b[1;36m5\u001b[0m\u001b[1m]\u001b[0m\n",
       "\u001b[1m}\u001b[0m\n"
      ]
     },
     "metadata": {},
     "output_type": "display_data"
    }
   ],
   "source": [
    "print(review_dataset[:3])"
   ]
  },
  {
   "cell_type": "code",
   "execution_count": 18,
   "metadata": {},
   "outputs": [
    {
     "data": {
      "text/plain": [
       "Dataset({\n",
       "    features: ['review_text', 'review_rating'],\n",
       "    num_rows: 250000\n",
       "})"
      ]
     },
     "execution_count": 18,
     "metadata": {},
     "output_type": "execute_result"
    }
   ],
   "source": [
    "SEED: int = 45\n",
    "N: int = 250_000\n",
    "\n",
    "sample_data: Dataset = review_dataset.shuffle(seed=23).select(range(N))\n",
    "sample_data"
   ]
  },
  {
   "cell_type": "code",
   "execution_count": 19,
   "metadata": {},
   "outputs": [],
   "source": [
    "def calculate_length(example: dict[str, Any]) -> dict[str, Any]:\n",
    "    \"\"\"This returns the length of the reviews.\"\"\"\n",
    "    result: dict[str, Any] = {\n",
    "        \"review_length\": [len(x) for x in example.get(\"review_text\")]\n",
    "    }\n",
    "    return result"
   ]
  },
  {
   "cell_type": "code",
   "execution_count": 20,
   "metadata": {},
   "outputs": [
    {
     "data": {
      "application/vnd.jupyter.widget-view+json": {
       "model_id": "da08de8b4de54298b9e83b7153a858e5",
       "version_major": 2,
       "version_minor": 0
      },
      "text/plain": [
       "Map:   0%|          | 0/250000 [00:00<?, ? examples/s]"
      ]
     },
     "metadata": {},
     "output_type": "display_data"
    },
    {
     "data": {
      "text/html": [
       "<pre style=\"white-space:pre;overflow-x:auto;line-height:normal;font-family:Menlo,'DejaVu Sans Mono',consolas,'Courier New',monospace\"><span style=\"font-weight: bold\">{</span>\n",
       "    <span style=\"color: #008000; text-decoration-color: #008000\">'review_text'</span>: <span style=\"font-weight: bold\">[</span>\n",
       "        <span style=\"color: #008000; text-decoration-color: #008000\">'The app boots me out of Samsung Smart View every time I open it. Was working on my old Samsung S5 and s6 </span>\n",
       "<span style=\"color: #008000; text-decoration-color: #008000\">but will not work in s7. Very annoying issue.'</span>,\n",
       "        <span style=\"color: #008000; text-decoration-color: #008000\">'I like all movies in Netflix exciting'</span>,\n",
       "        <span style=\"color: #008000; text-decoration-color: #008000\">'Great app'</span>\n",
       "    <span style=\"font-weight: bold\">]</span>,\n",
       "    <span style=\"color: #008000; text-decoration-color: #008000\">'review_rating'</span>: <span style=\"font-weight: bold\">[</span><span style=\"color: #008080; text-decoration-color: #008080; font-weight: bold\">2</span>, <span style=\"color: #008080; text-decoration-color: #008080; font-weight: bold\">5</span>, <span style=\"color: #008080; text-decoration-color: #008080; font-weight: bold\">5</span><span style=\"font-weight: bold\">]</span>,\n",
       "    <span style=\"color: #008000; text-decoration-color: #008000\">'review_length'</span>: <span style=\"font-weight: bold\">[</span><span style=\"color: #008080; text-decoration-color: #008080; font-weight: bold\">150</span>, <span style=\"color: #008080; text-decoration-color: #008080; font-weight: bold\">37</span>, <span style=\"color: #008080; text-decoration-color: #008080; font-weight: bold\">9</span><span style=\"font-weight: bold\">]</span>\n",
       "<span style=\"font-weight: bold\">}</span>\n",
       "</pre>\n"
      ],
      "text/plain": [
       "\u001b[1m{\u001b[0m\n",
       "    \u001b[32m'review_text'\u001b[0m: \u001b[1m[\u001b[0m\n",
       "        \u001b[32m'The app boots me out of Samsung Smart View every time I open it. Was working on my old Samsung S5 and s6 \u001b[0m\n",
       "\u001b[32mbut will not work in s7. Very annoying issue.'\u001b[0m,\n",
       "        \u001b[32m'I like all movies in Netflix exciting'\u001b[0m,\n",
       "        \u001b[32m'Great app'\u001b[0m\n",
       "    \u001b[1m]\u001b[0m,\n",
       "    \u001b[32m'review_rating'\u001b[0m: \u001b[1m[\u001b[0m\u001b[1;36m2\u001b[0m, \u001b[1;36m5\u001b[0m, \u001b[1;36m5\u001b[0m\u001b[1m]\u001b[0m,\n",
       "    \u001b[32m'review_length'\u001b[0m: \u001b[1m[\u001b[0m\u001b[1;36m150\u001b[0m, \u001b[1;36m37\u001b[0m, \u001b[1;36m9\u001b[0m\u001b[1m]\u001b[0m\n",
       "\u001b[1m}\u001b[0m\n"
      ]
     },
     "metadata": {},
     "output_type": "display_data"
    }
   ],
   "source": [
    "sample_data = sample_data.map(calculate_length, batched=True)\n",
    "print(sample_data[:3])"
   ]
  },
  {
   "cell_type": "code",
   "execution_count": 21,
   "metadata": {},
   "outputs": [
    {
     "data": {
      "application/vnd.jupyter.widget-view+json": {
       "model_id": "770f0975b2b74e81b3eb427ce96035d3",
       "version_major": 2,
       "version_minor": 0
      },
      "text/plain": [
       "Filter:   0%|          | 0/250000 [00:00<?, ? examples/s]"
      ]
     },
     "metadata": {},
     "output_type": "display_data"
    },
    {
     "data": {
      "text/plain": [
       "Dataset({\n",
       "    features: ['review_text', 'review_rating', 'review_length'],\n",
       "    num_rows: 175590\n",
       "})"
      ]
     },
     "execution_count": 21,
     "metadata": {},
     "output_type": "execute_result"
    }
   ],
   "source": [
    "# Drop reviews with fewer characters\n",
    "sample_data = sample_data.filter(lambda x: x.get(\"review_length\") > 10)\n",
    "sample_data"
   ]
  },
  {
   "cell_type": "code",
   "execution_count": 22,
   "metadata": {},
   "outputs": [
    {
     "data": {
      "application/vnd.jupyter.widget-view+json": {
       "model_id": "210fb722e2c2444189d6f6dd8f186be1",
       "version_major": 2,
       "version_minor": 0
      },
      "text/plain": [
       "Creating json from Arrow format:   0%|          | 0/176 [00:00<?, ?ba/s]"
      ]
     },
     "metadata": {},
     "output_type": "display_data"
    },
    {
     "data": {
      "text/plain": [
       "24094158"
      ]
     },
     "execution_count": 22,
     "metadata": {},
     "output_type": "execute_result"
    }
   ],
   "source": [
    "save_fp: Path = Path(\"../../../../data/netflix_cleaned_data.jsonl\")\n",
    "\n",
    "sample_data.to_json(save_fp)"
   ]
  },
  {
   "cell_type": "code",
   "execution_count": null,
   "metadata": {},
   "outputs": [],
   "source": []
  },
  {
   "cell_type": "code",
   "execution_count": null,
   "metadata": {},
   "outputs": [],
   "source": []
  },
  {
   "cell_type": "code",
   "execution_count": null,
   "metadata": {},
   "outputs": [],
   "source": []
  }
 ],
 "metadata": {
  "kernelspec": {
   "display_name": "nlp_p310",
   "language": "python",
   "name": "python3"
  },
  "language_info": {
   "codemirror_mode": {
    "name": "ipython",
    "version": 3
   },
   "file_extension": ".py",
   "mimetype": "text/x-python",
   "name": "python",
   "nbconvert_exporter": "python",
   "pygments_lexer": "ipython3",
   "version": "3.10.9"
  }
 },
 "nbformat": 4,
 "nbformat_minor": 2
}
