{
 "cells": [
  {
   "cell_type": "markdown",
   "metadata": {},
   "source": [
    "# Netflix Text Analytics"
   ]
  },
  {
   "cell_type": "code",
   "execution_count": 1,
   "metadata": {},
   "outputs": [],
   "source": [
    "# Built-in library\n",
    "import re\n",
    "import json\n",
    "from typing import Any, Optional, TypeAlias, Union\n",
    "import logging\n",
    "import warnings\n",
    "\n",
    "# Standard imports\n",
    "import numpy as np\n",
    "import numpy.typing as npt\n",
    "from pprint import pprint\n",
    "import pandas as pd\n",
    "import polars as pl\n",
    "from rich import print\n",
    "import torch\n",
    "\n",
    "# Visualization\n",
    "import matplotlib.pyplot as plt\n",
    "\n",
    "\n",
    "# Pandas settings\n",
    "pd.options.display.max_rows = 1_000\n",
    "pd.options.display.max_columns = 1_000\n",
    "pd.options.display.max_colwidth = 600\n",
    "\n",
    "warnings.filterwarnings(\"ignore\")\n",
    "\n",
    "# Black code formatter (Optional)\n",
    "%load_ext lab_black\n",
    "\n",
    "# auto reload imports\n",
    "%load_ext autoreload\n",
    "%autoreload 2"
   ]
  },
  {
   "cell_type": "markdown",
   "metadata": {},
   "source": [
    "## Load Data"
   ]
  },
  {
   "cell_type": "code",
   "execution_count": 2,
   "metadata": {},
   "outputs": [
    {
     "data": {
      "text/html": [
       "<pre style=\"white-space:pre;overflow-x:auto;line-height:normal;font-family:Menlo,'DejaVu Sans Mono',consolas,'Courier New',monospace\">shape: <span style=\"font-weight: bold\">(</span>1_531_126, <span style=\"color: #008080; text-decoration-color: #008080; font-weight: bold\">7</span><span style=\"font-weight: bold\">)</span>\n",
       "┌──────────────┬─────────────┬─────────────┬─────────────┬─────────────┬─────────────┬─────────────┐\n",
       "│ review_id    ┆ pseudo_auth ┆ author_name ┆ review_text ┆ review_like ┆ author_app_ ┆ review_time │\n",
       "│ ---          ┆ or_id       ┆ ---         ┆ ---         ┆ s           ┆ version     ┆ stamp       │\n",
       "│ str          ┆ ---         ┆ str         ┆ str         ┆ ---         ┆ ---         ┆ ---         │\n",
       "│              ┆ str         ┆             ┆             ┆ i64         ┆ str         ┆ str         │\n",
       "╞══════════════╪═════════════╪═════════════╪═════════════╪═════════════╪═════════════╪═════════════╡\n",
       "│ <span style=\"color: #008080; text-decoration-color: #008080; font-weight: bold\">5021e061</span>-<span style=\"color: #008080; text-decoration-color: #008080; font-weight: bold\">326</span> ┆ <span style=\"color: #008080; text-decoration-color: #008080; font-weight: bold\">22072027565</span> ┆ A Google    ┆ The app     ┆ <span style=\"color: #008080; text-decoration-color: #008080; font-weight: bold\">0</span>           ┆ <span style=\"color: #008080; text-decoration-color: #008080; font-weight: bold\">1.5</span>.<span style=\"color: #008080; text-decoration-color: #008080; font-weight: bold\">2</span> build ┆ <span style=\"color: #008080; text-decoration-color: #008080; font-weight: bold\">2011</span>-<span style=\"color: #008080; text-decoration-color: #008080; font-weight: bold\">05</span>-<span style=\"color: #008080; text-decoration-color: #008080; font-weight: bold\">19</span>  │\n",
       "│ a-4a57-892e- ┆ <span style=\"color: #008080; text-decoration-color: #008080; font-weight: bold\">0827922209</span>  ┆ user        ┆ would be    ┆             ┆ <span style=\"color: #008080; text-decoration-color: #008080; font-weight: bold\">389</span>         ┆ <span style=\"color: #00ff00; text-decoration-color: #00ff00; font-weight: bold\">02:49:49</span>    │\n",
       "│ 7635b3e0…    ┆             ┆             ┆ good if it  ┆             ┆             ┆             │\n",
       "│              ┆             ┆             ┆ can …       ┆             ┆             ┆             │\n",
       "│ a2f3fcc6-0c2 ┆ <span style=\"color: #008080; text-decoration-color: #008080; font-weight: bold\">19073660296</span> ┆ A Google    ┆ Does not    ┆ <span style=\"color: #008080; text-decoration-color: #008080; font-weight: bold\">0</span>           ┆ <span style=\"color: #008080; text-decoration-color: #008080; font-weight: bold\">1.2</span>.<span style=\"color: #008080; text-decoration-color: #008080; font-weight: bold\">1</span> build ┆ <span style=\"color: #008080; text-decoration-color: #008080; font-weight: bold\">2011</span>-<span style=\"color: #008080; text-decoration-color: #008080; font-weight: bold\">06</span>-<span style=\"color: #008080; text-decoration-color: #008080; font-weight: bold\">06</span>  │\n",
       "│ <span style=\"color: #008080; text-decoration-color: #008080; font-weight: bold\">0</span>-41ee-bbd6- ┆ <span style=\"color: #008080; text-decoration-color: #008080; font-weight: bold\">1554344592</span>  ┆ user        ┆ work w      ┆             ┆ <span style=\"color: #008080; text-decoration-color: #008080; font-weight: bold\">843839</span>-<span style=\"color: #008080; text-decoration-color: #008080; font-weight: bold\">1.2</span>. ┆ <span style=\"color: #00ff00; text-decoration-color: #00ff00; font-weight: bold\">00:53:58</span>    │\n",
       "│ 60670c8a…    ┆             ┆             ┆ Dreambook   ┆             ┆ <span style=\"color: #008080; text-decoration-color: #008080; font-weight: bold\">0</span>-<span style=\"color: #008080; text-decoration-color: #008080; font-weight: bold\">30</span>        ┆             │\n",
       "│              ┆             ┆             ┆ W7 run…     ┆             ┆             ┆             │\n",
       "│ 7f9ab522-f18 ┆ <span style=\"color: #008080; text-decoration-color: #008080; font-weight: bold\">16251035459</span> ┆ A Google    ┆ Plays video ┆ <span style=\"color: #008080; text-decoration-color: #008080; font-weight: bold\">0</span>           ┆ <span style=\"color: #008080; text-decoration-color: #008080; font-weight: bold\">1.5</span>.<span style=\"color: #008080; text-decoration-color: #008080; font-weight: bold\">1</span> build ┆ <span style=\"color: #008080; text-decoration-color: #008080; font-weight: bold\">2011</span>-<span style=\"color: #008080; text-decoration-color: #008080; font-weight: bold\">06</span>-<span style=\"color: #008080; text-decoration-color: #008080; font-weight: bold\">23</span>  │\n",
       "│ <span style=\"color: #008080; text-decoration-color: #008080; font-weight: bold\">7</span>-<span style=\"color: #008080; text-decoration-color: #008080; font-weight: bold\">4e81</span>-bbfc- ┆ <span style=\"color: #008080; text-decoration-color: #008080; font-weight: bold\">5177818389</span>  ┆ user        ┆ for like    ┆             ┆ <span style=\"color: #008080; text-decoration-color: #008080; font-weight: bold\">367</span>         ┆ <span style=\"color: #00ff00; text-decoration-color: #00ff00; font-weight: bold\">19:44:33</span>    │\n",
       "│ 3c3cddfd…    ┆             ┆             ┆ five mins   ┆             ┆             ┆             │\n",
       "│              ┆             ┆             ┆ t…          ┆             ┆             ┆             │\n",
       "│ 78cf6a08-f2c ┆ <span style=\"color: #008080; text-decoration-color: #008080; font-weight: bold\">96280635786</span> ┆ A Google    ┆ It works    ┆ <span style=\"color: #008080; text-decoration-color: #008080; font-weight: bold\">0</span>           ┆ <span style=\"color: #008080; text-decoration-color: #008080; font-weight: bold\">1.5</span>.<span style=\"color: #008080; text-decoration-color: #008080; font-weight: bold\">1</span> build ┆ <span style=\"color: #008080; text-decoration-color: #008080; font-weight: bold\">2011</span>-<span style=\"color: #008080; text-decoration-color: #008080; font-weight: bold\">06</span>-<span style=\"color: #008080; text-decoration-color: #008080; font-weight: bold\">27</span>  │\n",
       "│ e-41d2-b003- ┆ <span style=\"color: #008080; text-decoration-color: #008080; font-weight: bold\">2315221677</span>  ┆ user        ┆ great on    ┆             ┆ <span style=\"color: #008080; text-decoration-color: #008080; font-weight: bold\">367</span>         ┆ <span style=\"color: #00ff00; text-decoration-color: #00ff00; font-weight: bold\">21:19:04</span>    │\n",
       "│ 68cd5cbe…    ┆             ┆             ┆ Droid X ,   ┆             ┆             ┆             │\n",
       "│              ┆             ┆             ┆ work…       ┆             ┆             ┆             │\n",
       "│ …            ┆ …           ┆ …           ┆ …           ┆ …           ┆ …           ┆ …           │\n",
       "│ ccfafe2a-37e ┆ <span style=\"color: #008080; text-decoration-color: #008080; font-weight: bold\">34687258596</span> ┆ Kh********* ┆ I love the  ┆ <span style=\"color: #008080; text-decoration-color: #008080; font-weight: bold\">0</span>           ┆ <span style=\"color: #008080; text-decoration-color: #008080; font-weight: bold\">8.94</span>.<span style=\"color: #008080; text-decoration-color: #008080; font-weight: bold\">0</span>      ┆ <span style=\"color: #008080; text-decoration-color: #008080; font-weight: bold\">2023</span>-<span style=\"color: #008080; text-decoration-color: #008080; font-weight: bold\">11</span>-<span style=\"color: #008080; text-decoration-color: #008080; font-weight: bold\">15</span>  │\n",
       "│ <span style=\"color: #008080; text-decoration-color: #008080; font-weight: bold\">9</span>-<span style=\"color: #008080; text-decoration-color: #008080; font-weight: bold\">4717</span>-b0b1- ┆ <span style=\"color: #008080; text-decoration-color: #008080; font-weight: bold\">0277545023</span>  ┆ **ko        ┆ way it was  ┆             ┆ build <span style=\"color: #008080; text-decoration-color: #008080; font-weight: bold\">10</span>    ┆ <span style=\"color: #00ff00; text-decoration-color: #00ff00; font-weight: bold\">20:39:04</span>    │\n",
       "│ 1ea565e4…    ┆             ┆             ┆ working     ┆             ┆ <span style=\"color: #008080; text-decoration-color: #008080; font-weight: bold\">50546</span>       ┆             │\n",
       "│ 00cb5f63-81c ┆ <span style=\"color: #008080; text-decoration-color: #008080; font-weight: bold\">33735617720</span> ┆ Tr********* ┆ I love      ┆ <span style=\"color: #008080; text-decoration-color: #008080; font-weight: bold\">0</span>           ┆             ┆ <span style=\"color: #008080; text-decoration-color: #008080; font-weight: bold\">2023</span>-<span style=\"color: #008080; text-decoration-color: #008080; font-weight: bold\">11</span>-<span style=\"color: #008080; text-decoration-color: #008080; font-weight: bold\">15</span>  │\n",
       "│ a-4ffc-ab9f- ┆ <span style=\"color: #008080; text-decoration-color: #008080; font-weight: bold\">8708791652</span>  ┆ ****ek      ┆ total drama ┆             ┆             ┆ <span style=\"color: #00ff00; text-decoration-color: #00ff00; font-weight: bold\">21:46:34</span>    │\n",
       "│ f2f1259b…    ┆             ┆             ┆             ┆             ┆             ┆             │\n",
       "│ 50a374b0-<span style=\"color: #008080; text-decoration-color: #008080; font-weight: bold\">221</span> ┆ <span style=\"color: #008080; text-decoration-color: #008080; font-weight: bold\">84765653469</span> ┆ Ed********* ┆ I love my   ┆ <span style=\"color: #008080; text-decoration-color: #008080; font-weight: bold\">0</span>           ┆ <span style=\"color: #008080; text-decoration-color: #008080; font-weight: bold\">8.26</span>.<span style=\"color: #008080; text-decoration-color: #008080; font-weight: bold\">0</span>      ┆ <span style=\"color: #008080; text-decoration-color: #008080; font-weight: bold\">2023</span>-<span style=\"color: #008080; text-decoration-color: #008080; font-weight: bold\">11</span>-<span style=\"color: #008080; text-decoration-color: #008080; font-weight: bold\">15</span>  │\n",
       "│ c-<span style=\"color: #008080; text-decoration-color: #008080; font-weight: bold\">41e8</span>-b853- ┆ <span style=\"color: #008080; text-decoration-color: #008080; font-weight: bold\">4907718280</span>  ┆ *la         ┆ Netflix     ┆             ┆ build <span style=\"color: #008080; text-decoration-color: #008080; font-weight: bold\">11</span>    ┆ <span style=\"color: #00ff00; text-decoration-color: #00ff00; font-weight: bold\">21:58:00</span>    │\n",
       "│ 5c26b961…    ┆             ┆             ┆             ┆             ┆ <span style=\"color: #008080; text-decoration-color: #008080; font-weight: bold\">40221</span>       ┆             │\n",
       "│ 3015ab73-75e ┆ <span style=\"color: #008080; text-decoration-color: #008080; font-weight: bold\">26838594181</span> ┆ Em********* ┆ I will love ┆ <span style=\"color: #008080; text-decoration-color: #008080; font-weight: bold\">0</span>           ┆             ┆ <span style=\"color: #008080; text-decoration-color: #008080; font-weight: bold\">2023</span>-<span style=\"color: #008080; text-decoration-color: #008080; font-weight: bold\">11</span>-<span style=\"color: #008080; text-decoration-color: #008080; font-weight: bold\">15</span>  │\n",
       "│ <span style=\"color: #008080; text-decoration-color: #008080; font-weight: bold\">8</span>-4f17-<span style=\"color: #008080; text-decoration-color: #008080; font-weight: bold\">8377</span>- ┆ <span style=\"color: #008080; text-decoration-color: #008080; font-weight: bold\">1343301666</span>  ┆ ***ey       ┆ this app    ┆             ┆             ┆ <span style=\"color: #00ff00; text-decoration-color: #00ff00; font-weight: bold\">22:45:05</span>    │\n",
       "│ 4757abbb…    ┆             ┆             ┆             ┆             ┆             ┆             │\n",
       "└──────────────┴─────────────┴─────────────┴─────────────┴─────────────┴─────────────┴─────────────┘\n",
       "</pre>\n"
      ],
      "text/plain": [
       "shape: \u001b[1m(\u001b[0m1_531_126, \u001b[1;36m7\u001b[0m\u001b[1m)\u001b[0m\n",
       "┌──────────────┬─────────────┬─────────────┬─────────────┬─────────────┬─────────────┬─────────────┐\n",
       "│ review_id    ┆ pseudo_auth ┆ author_name ┆ review_text ┆ review_like ┆ author_app_ ┆ review_time │\n",
       "│ ---          ┆ or_id       ┆ ---         ┆ ---         ┆ s           ┆ version     ┆ stamp       │\n",
       "│ str          ┆ ---         ┆ str         ┆ str         ┆ ---         ┆ ---         ┆ ---         │\n",
       "│              ┆ str         ┆             ┆             ┆ i64         ┆ str         ┆ str         │\n",
       "╞══════════════╪═════════════╪═════════════╪═════════════╪═════════════╪═════════════╪═════════════╡\n",
       "│ \u001b[1;36m5021e061\u001b[0m-\u001b[1;36m326\u001b[0m ┆ \u001b[1;36m22072027565\u001b[0m ┆ A Google    ┆ The app     ┆ \u001b[1;36m0\u001b[0m           ┆ \u001b[1;36m1.5\u001b[0m.\u001b[1;36m2\u001b[0m build ┆ \u001b[1;36m2011\u001b[0m-\u001b[1;36m05\u001b[0m-\u001b[1;36m19\u001b[0m  │\n",
       "│ a-4a57-892e- ┆ \u001b[1;36m0827922209\u001b[0m  ┆ user        ┆ would be    ┆             ┆ \u001b[1;36m389\u001b[0m         ┆ \u001b[1;92m02:49:49\u001b[0m    │\n",
       "│ 7635b3e0…    ┆             ┆             ┆ good if it  ┆             ┆             ┆             │\n",
       "│              ┆             ┆             ┆ can …       ┆             ┆             ┆             │\n",
       "│ a2f3fcc6-0c2 ┆ \u001b[1;36m19073660296\u001b[0m ┆ A Google    ┆ Does not    ┆ \u001b[1;36m0\u001b[0m           ┆ \u001b[1;36m1.2\u001b[0m.\u001b[1;36m1\u001b[0m build ┆ \u001b[1;36m2011\u001b[0m-\u001b[1;36m06\u001b[0m-\u001b[1;36m06\u001b[0m  │\n",
       "│ \u001b[1;36m0\u001b[0m-41ee-bbd6- ┆ \u001b[1;36m1554344592\u001b[0m  ┆ user        ┆ work w      ┆             ┆ \u001b[1;36m843839\u001b[0m-\u001b[1;36m1.2\u001b[0m. ┆ \u001b[1;92m00:53:58\u001b[0m    │\n",
       "│ 60670c8a…    ┆             ┆             ┆ Dreambook   ┆             ┆ \u001b[1;36m0\u001b[0m-\u001b[1;36m30\u001b[0m        ┆             │\n",
       "│              ┆             ┆             ┆ W7 run…     ┆             ┆             ┆             │\n",
       "│ 7f9ab522-f18 ┆ \u001b[1;36m16251035459\u001b[0m ┆ A Google    ┆ Plays video ┆ \u001b[1;36m0\u001b[0m           ┆ \u001b[1;36m1.5\u001b[0m.\u001b[1;36m1\u001b[0m build ┆ \u001b[1;36m2011\u001b[0m-\u001b[1;36m06\u001b[0m-\u001b[1;36m23\u001b[0m  │\n",
       "│ \u001b[1;36m7\u001b[0m-\u001b[1;36m4e81\u001b[0m-bbfc- ┆ \u001b[1;36m5177818389\u001b[0m  ┆ user        ┆ for like    ┆             ┆ \u001b[1;36m367\u001b[0m         ┆ \u001b[1;92m19:44:33\u001b[0m    │\n",
       "│ 3c3cddfd…    ┆             ┆             ┆ five mins   ┆             ┆             ┆             │\n",
       "│              ┆             ┆             ┆ t…          ┆             ┆             ┆             │\n",
       "│ 78cf6a08-f2c ┆ \u001b[1;36m96280635786\u001b[0m ┆ A Google    ┆ It works    ┆ \u001b[1;36m0\u001b[0m           ┆ \u001b[1;36m1.5\u001b[0m.\u001b[1;36m1\u001b[0m build ┆ \u001b[1;36m2011\u001b[0m-\u001b[1;36m06\u001b[0m-\u001b[1;36m27\u001b[0m  │\n",
       "│ e-41d2-b003- ┆ \u001b[1;36m2315221677\u001b[0m  ┆ user        ┆ great on    ┆             ┆ \u001b[1;36m367\u001b[0m         ┆ \u001b[1;92m21:19:04\u001b[0m    │\n",
       "│ 68cd5cbe…    ┆             ┆             ┆ Droid X ,   ┆             ┆             ┆             │\n",
       "│              ┆             ┆             ┆ work…       ┆             ┆             ┆             │\n",
       "│ …            ┆ …           ┆ …           ┆ …           ┆ …           ┆ …           ┆ …           │\n",
       "│ ccfafe2a-37e ┆ \u001b[1;36m34687258596\u001b[0m ┆ Kh********* ┆ I love the  ┆ \u001b[1;36m0\u001b[0m           ┆ \u001b[1;36m8.94\u001b[0m.\u001b[1;36m0\u001b[0m      ┆ \u001b[1;36m2023\u001b[0m-\u001b[1;36m11\u001b[0m-\u001b[1;36m15\u001b[0m  │\n",
       "│ \u001b[1;36m9\u001b[0m-\u001b[1;36m4717\u001b[0m-b0b1- ┆ \u001b[1;36m0277545023\u001b[0m  ┆ **ko        ┆ way it was  ┆             ┆ build \u001b[1;36m10\u001b[0m    ┆ \u001b[1;92m20:39:04\u001b[0m    │\n",
       "│ 1ea565e4…    ┆             ┆             ┆ working     ┆             ┆ \u001b[1;36m50546\u001b[0m       ┆             │\n",
       "│ 00cb5f63-81c ┆ \u001b[1;36m33735617720\u001b[0m ┆ Tr********* ┆ I love      ┆ \u001b[1;36m0\u001b[0m           ┆             ┆ \u001b[1;36m2023\u001b[0m-\u001b[1;36m11\u001b[0m-\u001b[1;36m15\u001b[0m  │\n",
       "│ a-4ffc-ab9f- ┆ \u001b[1;36m8708791652\u001b[0m  ┆ ****ek      ┆ total drama ┆             ┆             ┆ \u001b[1;92m21:46:34\u001b[0m    │\n",
       "│ f2f1259b…    ┆             ┆             ┆             ┆             ┆             ┆             │\n",
       "│ 50a374b0-\u001b[1;36m221\u001b[0m ┆ \u001b[1;36m84765653469\u001b[0m ┆ Ed********* ┆ I love my   ┆ \u001b[1;36m0\u001b[0m           ┆ \u001b[1;36m8.26\u001b[0m.\u001b[1;36m0\u001b[0m      ┆ \u001b[1;36m2023\u001b[0m-\u001b[1;36m11\u001b[0m-\u001b[1;36m15\u001b[0m  │\n",
       "│ c-\u001b[1;36m41e8\u001b[0m-b853- ┆ \u001b[1;36m4907718280\u001b[0m  ┆ *la         ┆ Netflix     ┆             ┆ build \u001b[1;36m11\u001b[0m    ┆ \u001b[1;92m21:58:00\u001b[0m    │\n",
       "│ 5c26b961…    ┆             ┆             ┆             ┆             ┆ \u001b[1;36m40221\u001b[0m       ┆             │\n",
       "│ 3015ab73-75e ┆ \u001b[1;36m26838594181\u001b[0m ┆ Em********* ┆ I will love ┆ \u001b[1;36m0\u001b[0m           ┆             ┆ \u001b[1;36m2023\u001b[0m-\u001b[1;36m11\u001b[0m-\u001b[1;36m15\u001b[0m  │\n",
       "│ \u001b[1;36m8\u001b[0m-4f17-\u001b[1;36m8377\u001b[0m- ┆ \u001b[1;36m1343301666\u001b[0m  ┆ ***ey       ┆ this app    ┆             ┆             ┆ \u001b[1;92m22:45:05\u001b[0m    │\n",
       "│ 4757abbb…    ┆             ┆             ┆             ┆             ┆             ┆             │\n",
       "└──────────────┴─────────────┴─────────────┴─────────────┴─────────────┴─────────────┴─────────────┘\n"
      ]
     },
     "metadata": {},
     "output_type": "display_data"
    }
   ],
   "source": [
    "from pathlib import Path\n",
    "import pyarrow.dataset as ds\n",
    "\n",
    "# Specify the directory containing Parquet files\n",
    "directory_path: Path = Path(\"../../../../data/NETFLIX_REVIEWS\")\n",
    "\n",
    "# Use PyArrow to read the partitioned Parquet dataset\n",
    "table = ds.dataset(directory_path)\n",
    "\n",
    "# Convert the PyArrow table to a Pandas DataFrame\n",
    "data: pl.DataFrame = pl.scan_pyarrow_dataset(table).collect()\n",
    "\n",
    "# Display the DataFrame\n",
    "print(data)"
   ]
  },
  {
   "cell_type": "code",
   "execution_count": null,
   "metadata": {},
   "outputs": [],
   "source": []
  },
  {
   "cell_type": "code",
   "execution_count": null,
   "metadata": {},
   "outputs": [],
   "source": []
  },
  {
   "cell_type": "code",
   "execution_count": null,
   "metadata": {},
   "outputs": [],
   "source": []
  },
  {
   "cell_type": "code",
   "execution_count": null,
   "metadata": {},
   "outputs": [],
   "source": []
  },
  {
   "cell_type": "code",
   "execution_count": null,
   "metadata": {},
   "outputs": [],
   "source": []
  },
  {
   "cell_type": "code",
   "execution_count": null,
   "metadata": {},
   "outputs": [],
   "source": []
  },
  {
   "cell_type": "code",
   "execution_count": null,
   "metadata": {},
   "outputs": [],
   "source": []
  },
  {
   "cell_type": "code",
   "execution_count": null,
   "metadata": {},
   "outputs": [],
   "source": []
  },
  {
   "cell_type": "code",
   "execution_count": null,
   "metadata": {},
   "outputs": [],
   "source": []
  },
  {
   "cell_type": "code",
   "execution_count": null,
   "metadata": {},
   "outputs": [],
   "source": []
  },
  {
   "cell_type": "code",
   "execution_count": null,
   "metadata": {},
   "outputs": [],
   "source": []
  },
  {
   "cell_type": "code",
   "execution_count": null,
   "metadata": {},
   "outputs": [],
   "source": []
  },
  {
   "cell_type": "code",
   "execution_count": null,
   "metadata": {},
   "outputs": [],
   "source": []
  },
  {
   "cell_type": "code",
   "execution_count": null,
   "metadata": {},
   "outputs": [],
   "source": []
  },
  {
   "cell_type": "code",
   "execution_count": null,
   "metadata": {},
   "outputs": [],
   "source": []
  },
  {
   "cell_type": "code",
   "execution_count": null,
   "metadata": {},
   "outputs": [],
   "source": []
  },
  {
   "cell_type": "code",
   "execution_count": null,
   "metadata": {},
   "outputs": [],
   "source": []
  },
  {
   "cell_type": "code",
   "execution_count": null,
   "metadata": {},
   "outputs": [],
   "source": []
  },
  {
   "cell_type": "code",
   "execution_count": null,
   "metadata": {},
   "outputs": [],
   "source": []
  },
  {
   "cell_type": "code",
   "execution_count": null,
   "metadata": {},
   "outputs": [],
   "source": []
  },
  {
   "cell_type": "code",
   "execution_count": null,
   "metadata": {},
   "outputs": [],
   "source": []
  },
  {
   "cell_type": "code",
   "execution_count": null,
   "metadata": {},
   "outputs": [],
   "source": []
  },
  {
   "cell_type": "code",
   "execution_count": null,
   "metadata": {},
   "outputs": [],
   "source": []
  },
  {
   "cell_type": "code",
   "execution_count": null,
   "metadata": {},
   "outputs": [],
   "source": []
  },
  {
   "cell_type": "code",
   "execution_count": null,
   "metadata": {},
   "outputs": [],
   "source": []
  },
  {
   "cell_type": "code",
   "execution_count": null,
   "metadata": {},
   "outputs": [],
   "source": []
  },
  {
   "cell_type": "code",
   "execution_count": null,
   "metadata": {},
   "outputs": [],
   "source": []
  },
  {
   "cell_type": "code",
   "execution_count": null,
   "metadata": {},
   "outputs": [],
   "source": []
  },
  {
   "cell_type": "code",
   "execution_count": null,
   "metadata": {},
   "outputs": [],
   "source": []
  },
  {
   "cell_type": "code",
   "execution_count": null,
   "metadata": {},
   "outputs": [],
   "source": []
  },
  {
   "cell_type": "code",
   "execution_count": null,
   "metadata": {},
   "outputs": [],
   "source": []
  },
  {
   "cell_type": "code",
   "execution_count": null,
   "metadata": {},
   "outputs": [],
   "source": []
  },
  {
   "cell_type": "code",
   "execution_count": null,
   "metadata": {},
   "outputs": [],
   "source": []
  },
  {
   "cell_type": "code",
   "execution_count": null,
   "metadata": {},
   "outputs": [],
   "source": []
  },
  {
   "cell_type": "code",
   "execution_count": null,
   "metadata": {},
   "outputs": [],
   "source": []
  },
  {
   "cell_type": "code",
   "execution_count": null,
   "metadata": {},
   "outputs": [],
   "source": []
  },
  {
   "cell_type": "code",
   "execution_count": null,
   "metadata": {},
   "outputs": [],
   "source": []
  },
  {
   "cell_type": "code",
   "execution_count": null,
   "metadata": {},
   "outputs": [],
   "source": []
  },
  {
   "cell_type": "code",
   "execution_count": null,
   "metadata": {},
   "outputs": [],
   "source": []
  },
  {
   "cell_type": "code",
   "execution_count": null,
   "metadata": {},
   "outputs": [],
   "source": []
  }
 ],
 "metadata": {
  "kernelspec": {
   "display_name": "nlp_p310",
   "language": "python",
   "name": "python3"
  },
  "language_info": {
   "codemirror_mode": {
    "name": "ipython",
    "version": 3
   },
   "file_extension": ".py",
   "mimetype": "text/x-python",
   "name": "python",
   "nbconvert_exporter": "python",
   "pygments_lexer": "ipython3",
   "version": "3.10.9"
  }
 },
 "nbformat": 4,
 "nbformat_minor": 2
}
