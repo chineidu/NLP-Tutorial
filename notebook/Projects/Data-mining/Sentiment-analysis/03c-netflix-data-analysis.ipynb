{
 "cells": [
  {
   "cell_type": "markdown",
   "metadata": {},
   "source": [
    "# Netflix Text Analysis"
   ]
  },
  {
   "cell_type": "code",
   "execution_count": 1,
   "metadata": {},
   "outputs": [],
   "source": [
    "# Built-in library\n",
    "import re\n",
    "import json\n",
    "from typing import Any, Optional, Union\n",
    "import logging\n",
    "import warnings\n",
    "\n",
    "# Standard imports\n",
    "import numpy as np\n",
    "from pathlib import Path\n",
    "import pandas as pd\n",
    "import polars as pl\n",
    "from pprint import pprint\n",
    "from rich import print\n",
    "import torch\n",
    "\n",
    "# Visualization\n",
    "import matplotlib.pyplot as plt\n",
    "\n",
    "\n",
    "# Pandas settings\n",
    "pd.options.display.max_rows = 1_000\n",
    "pd.options.display.max_columns = 1_000\n",
    "pd.options.display.max_colwidth = 600\n",
    "\n",
    "warnings.filterwarnings(\"ignore\")\n",
    "\n",
    "# Black code formatter (Optional)\n",
    "%load_ext lab_black\n",
    "\n",
    "# auto reload imports\n",
    "%load_ext autoreload\n",
    "%autoreload 2"
   ]
  },
  {
   "cell_type": "markdown",
   "metadata": {},
   "source": [
    "## Load Data"
   ]
  },
  {
   "cell_type": "code",
   "execution_count": 2,
   "metadata": {},
   "outputs": [
    {
     "data": {
      "text/html": [
       "<div><style>\n",
       ".dataframe > thead > tr > th,\n",
       ".dataframe > tbody > tr > td {\n",
       "  text-align: right;\n",
       "  white-space: pre-wrap;\n",
       "}\n",
       "</style>\n",
       "<small>shape: (3, 9)</small><table border=\"1\" class=\"dataframe\"><thead><tr><th></th><th>review_id</th><th>pseudo_author_id</th><th>author_name</th><th>review_text</th><th>review_rating</th><th>review_likes</th><th>author_app_version</th><th>review_timestamp</th></tr><tr><td>i64</td><td>str</td><td>str</td><td>str</td><td>str</td><td>i64</td><td>i64</td><td>str</td><td>str</td></tr></thead><tbody><tr><td>0</td><td>&quot;7e73f80e-a8fd-…</td><td>&quot;15261855397701…</td><td>&quot;A Google user&quot;</td><td>&quot;Works great on…</td><td>5</td><td>1</td><td>&quot;1.2.0 build 81…</td><td>&quot;2011-05-12 18:…</td></tr><tr><td>1</td><td>&quot;dab55eca-c2a0-…</td><td>&quot;23438294286543…</td><td>&quot;A Google user&quot;</td><td>&quot;Works great on…</td><td>5</td><td>1</td><td>&quot;1.2.0 build 81…</td><td>&quot;2011-05-12 18:…</td></tr><tr><td>2</td><td>&quot;a3b8fa06-8b8f-…</td><td>&quot;17447360460835…</td><td>&quot;A Google user&quot;</td><td>&quot;Works great on…</td><td>5</td><td>0</td><td>&quot;1.5.2 build 38…</td><td>&quot;2011-05-12 18:…</td></tr></tbody></table></div>"
      ],
      "text/plain": [
       "shape: (3, 9)\n",
       "┌─────┬────────────┬────────────┬────────────┬───┬────────────┬────────────┬───────────┬───────────┐\n",
       "│     ┆ review_id  ┆ pseudo_aut ┆ author_nam ┆ … ┆ review_rat ┆ review_lik ┆ author_ap ┆ review_ti │\n",
       "│ --- ┆ ---        ┆ hor_id     ┆ e          ┆   ┆ ing        ┆ es         ┆ p_version ┆ mestamp   │\n",
       "│ i64 ┆ str        ┆ ---        ┆ ---        ┆   ┆ ---        ┆ ---        ┆ ---       ┆ ---       │\n",
       "│     ┆            ┆ str        ┆ str        ┆   ┆ i64        ┆ i64        ┆ str       ┆ str       │\n",
       "╞═════╪════════════╪════════════╪════════════╪═══╪════════════╪════════════╪═══════════╪═══════════╡\n",
       "│ 0   ┆ 7e73f80e-a ┆ 1526185539 ┆ A Google   ┆ … ┆ 5          ┆ 1          ┆ 1.2.0     ┆ 2011-05-1 │\n",
       "│     ┆ 8fd-4ff3-b ┆ 7701969374 ┆ user       ┆   ┆            ┆            ┆ build 819 ┆ 2         │\n",
       "│     ┆ 09b-502f0a ┆ 2          ┆            ┆   ┆            ┆            ┆ 145-1.2.0 ┆ 18:50:37  │\n",
       "│     ┆ d0…        ┆            ┆            ┆   ┆            ┆            ┆ -102      ┆           │\n",
       "│ 1   ┆ dab55eca-c ┆ 2343829428 ┆ A Google   ┆ … ┆ 5          ┆ 1          ┆ 1.2.0     ┆ 2011-05-1 │\n",
       "│     ┆ 2a0-45a8-9 ┆ 6543707166 ┆ user       ┆   ┆            ┆            ┆ build 819 ┆ 2         │\n",
       "│     ┆ 3e3-9860c1 ┆ 7          ┆            ┆   ┆            ┆            ┆ 145-1.2.0 ┆ 18:50:52  │\n",
       "│     ┆ c5…        ┆            ┆            ┆   ┆            ┆            ┆ -102      ┆           │\n",
       "│ 2   ┆ a3b8fa06-8 ┆ 1744736046 ┆ A Google   ┆ … ┆ 5          ┆ 0          ┆ 1.5.2     ┆ 2011-05-1 │\n",
       "│     ┆ b8f-4f2f-a ┆ 0835879636 ┆ user       ┆   ┆            ┆            ┆ build 389 ┆ 2         │\n",
       "│     ┆ 1fa-fd37c4 ┆ 8          ┆            ┆   ┆            ┆            ┆           ┆ 18:55:14  │\n",
       "│     ┆ cb…        ┆            ┆            ┆   ┆            ┆            ┆           ┆           │\n",
       "└─────┴────────────┴────────────┴────────────┴───┴────────────┴────────────┴───────────┴───────────┘"
      ]
     },
     "execution_count": 2,
     "metadata": {},
     "output_type": "execute_result"
    }
   ],
   "source": [
    "fp: Path = Path(\"../../../../data/NETFLIX_REVIEWS.parquet\")\n",
    "\n",
    "data: pl.DataFrame = pl.read_parquet(source=fp)\n",
    "data.head(3)"
   ]
  },
  {
   "cell_type": "code",
   "execution_count": 3,
   "metadata": {},
   "outputs": [
    {
     "data": {
      "text/html": [
       "<div><style>\n",
       ".dataframe > thead > tr > th,\n",
       ".dataframe > tbody > tr > td {\n",
       "  text-align: right;\n",
       "  white-space: pre-wrap;\n",
       "}\n",
       "</style>\n",
       "<small>shape: (3, 5)</small><table border=\"1\" class=\"dataframe\"><thead><tr><th>review_id</th><th>review_text</th><th>review_rating</th><th>author_app_version</th><th>review_timestamp</th></tr><tr><td>str</td><td>str</td><td>i64</td><td>str</td><td>str</td></tr></thead><tbody><tr><td>&quot;7e73f80e-a8fd-…</td><td>&quot;Works great on…</td><td>5</td><td>&quot;1.2.0 build 81…</td><td>&quot;2011-05-12 18:…</td></tr><tr><td>&quot;dab55eca-c2a0-…</td><td>&quot;Works great on…</td><td>5</td><td>&quot;1.2.0 build 81…</td><td>&quot;2011-05-12 18:…</td></tr><tr><td>&quot;a3b8fa06-8b8f-…</td><td>&quot;Works great on…</td><td>5</td><td>&quot;1.5.2 build 38…</td><td>&quot;2011-05-12 18:…</td></tr></tbody></table></div>"
      ],
      "text/plain": [
       "shape: (3, 5)\n",
       "┌────────────────────┬────────────────────┬───────────────┬────────────────────┬───────────────────┐\n",
       "│ review_id          ┆ review_text        ┆ review_rating ┆ author_app_version ┆ review_timestamp  │\n",
       "│ ---                ┆ ---                ┆ ---           ┆ ---                ┆ ---               │\n",
       "│ str                ┆ str                ┆ i64           ┆ str                ┆ str               │\n",
       "╞════════════════════╪════════════════════╪═══════════════╪════════════════════╪═══════════════════╡\n",
       "│ 7e73f80e-a8fd-4ff3 ┆ Works great on my  ┆ 5             ┆ 1.2.0 build        ┆ 2011-05-12        │\n",
       "│ -b09b-502f0ad0…    ┆ Evo! Glad andr…    ┆               ┆ 819145-1.2.0-102   ┆ 18:50:37          │\n",
       "│ dab55eca-c2a0-45a8 ┆ Works great on HTC ┆ 5             ┆ 1.2.0 build        ┆ 2011-05-12        │\n",
       "│ -93e3-9860c1c5…    ┆ incredible. C…     ┆               ┆ 819145-1.2.0-102   ┆ 18:50:52          │\n",
       "│ a3b8fa06-8b8f-4f2f ┆ Works great on     ┆ 5             ┆ 1.5.2 build 389    ┆ 2011-05-12        │\n",
       "│ -a1fa-fd37c4cb…    ┆ nexus s            ┆               ┆                    ┆ 18:55:14          │\n",
       "└────────────────────┴────────────────────┴───────────────┴────────────────────┴───────────────────┘"
      ]
     },
     "execution_count": 3,
     "metadata": {},
     "output_type": "execute_result"
    }
   ],
   "source": [
    "data = data.drop(columns=[\"\", \"pseudo_author_id\", \"author_name\", \"review_likes\"])\n",
    "data.head(3)"
   ]
  },
  {
   "cell_type": "code",
   "execution_count": 4,
   "metadata": {},
   "outputs": [
    {
     "data": {
      "text/html": [
       "<pre style=\"white-space:pre;overflow-x:auto;line-height:normal;font-family:Menlo,'DejaVu Sans Mono',consolas,'Courier New',monospace\">Device: cpu\n",
       "</pre>\n"
      ],
      "text/plain": [
       "Device: cpu\n"
      ]
     },
     "metadata": {},
     "output_type": "display_data"
    }
   ],
   "source": [
    "# Check if GPU is available\n",
    "device: str = \"cuda\" if torch.cuda.is_available() else \"cpu\"\n",
    "\n",
    "print(f\"Device: {device}\")"
   ]
  },
  {
   "cell_type": "markdown",
   "metadata": {},
   "source": [
    "### To Do\n",
    "\n",
    "- Can you predict the review rating based on a review text?"
   ]
  },
  {
   "cell_type": "code",
   "execution_count": 5,
   "metadata": {},
   "outputs": [
    {
     "name": "stderr",
     "output_type": "stream",
     "text": [
      "2023-12-24 16:45:22.299242: I tensorflow/core/platform/cpu_feature_guard.cc:182] This TensorFlow binary is optimized to use available CPU instructions in performance-critical operations.\n",
      "To enable the following instructions: AVX2 FMA, in other operations, rebuild TensorFlow with the appropriate compiler flags.\n"
     ]
    }
   ],
   "source": [
    "from transformers import pipeline\n",
    "\n",
    "\n",
    "TASK: str = \"text-classification\"\n",
    "OUTPUT_DIR: str = \"distilbert-base-uncased-finetuned-netflix-ratings\"\n",
    "MODEL_CHECKPOINT: str = f\"chineidu/{OUTPUT_DIR}\"\n",
    "netflix_classifier: pipeline = pipeline(task=TASK, model=MODEL_CHECKPOINT)"
   ]
  },
  {
   "cell_type": "code",
   "execution_count": 6,
   "metadata": {},
   "outputs": [],
   "source": [
    "id2label: dict[str, Any] = {\n",
    "    1: \"very poor\",\n",
    "    2: \"poor\",\n",
    "    3: \"okay\",\n",
    "    4: \"very good\",\n",
    "    5: \"excellent\",\n",
    "}\n",
    "label2id: dict[str, Any] = {\n",
    "    \"very poor\": 1,\n",
    "    \"poor\": 2,\n",
    "    \"okay\": 3,\n",
    "    \"very good\": 4,\n",
    "    \"excellent\": 5,\n",
    "}\n",
    "\n",
    "\n",
    "def get_sentiment(reviews: list[str]) -> list[list[str], list[float]]:\n",
    "    \"\"\"This is used to obtain the label and the corresponding score.\"\"\"\n",
    "    result: list[dict[str, Any]] = netflix_classifier(reviews)\n",
    "    labels: list[str] = [x.get(\"label\") for x in result]\n",
    "    ratings: list[str] = [label2id.get(x.get(\"label\")) for x in result]\n",
    "\n",
    "    return (labels, ratings)"
   ]
  },
  {
   "cell_type": "code",
   "execution_count": 7,
   "metadata": {},
   "outputs": [
    {
     "data": {
      "text/plain": [
       "['Works great on Nexus S, but it needs subtitles support!',\n",
       " \"Works on 3g even tho quality isn't the best but still...might be my new favorite app!\",\n",
       " 'Working great on Nexus S, picked up right where I left it watching.',\n",
       " 'Works great. So far so good on Wifi. Nexus 1.',\n",
       " \"Well I've tried it out on my Evo 4G and it works. Tried it through WiFi, and the quality is pretty decent.; it's very snappy. Then I tried it through 3G and I was thinking the worst, and while the quality is diminished; it still works. I don't live in an area with great signal but it works really well, though the pixelation can get bad at times. Haven't tried it on 4G but I'm expecting great results.\"]"
      ]
     },
     "execution_count": 7,
     "metadata": {},
     "output_type": "execute_result"
    }
   ],
   "source": [
    "texts: list[str] = data.select(pl.col(\"review_text\")).to_series().to_list()[10:15]\n",
    "texts"
   ]
  },
  {
   "cell_type": "code",
   "execution_count": 8,
   "metadata": {},
   "outputs": [
    {
     "data": {
      "text/plain": [
       "[{'label': 'very good', 'score': 0.7804526686668396},\n",
       " {'label': 'very good', 'score': 0.4879053831100464},\n",
       " {'label': 'excellent', 'score': 0.8773263692855835},\n",
       " {'label': 'excellent', 'score': 0.7898459434509277},\n",
       " {'label': 'very good', 'score': 0.8486072421073914}]"
      ]
     },
     "execution_count": 8,
     "metadata": {},
     "output_type": "execute_result"
    }
   ],
   "source": [
    "netflix_classifier(texts)"
   ]
  },
  {
   "cell_type": "code",
   "execution_count": 9,
   "metadata": {},
   "outputs": [
    {
     "data": {
      "text/plain": [
       "[4, 5, 5, 5, 4]"
      ]
     },
     "execution_count": 9,
     "metadata": {},
     "output_type": "execute_result"
    }
   ],
   "source": [
    "# Actual\n",
    "data.select(pl.col(\"review_rating\")).to_series().to_list()[10:15]"
   ]
  },
  {
   "cell_type": "code",
   "execution_count": 10,
   "metadata": {},
   "outputs": [
    {
     "data": {
      "text/plain": [
       "(['very good', 'very good', 'excellent', 'excellent', 'very good'],\n",
       " [4, 4, 5, 5, 4])"
      ]
     },
     "execution_count": 10,
     "metadata": {},
     "output_type": "execute_result"
    }
   ],
   "source": [
    "# Predicted\n",
    "get_sentiment(reviews=texts)"
   ]
  },
  {
   "cell_type": "markdown",
   "metadata": {},
   "source": [
    "<br>\n",
    "\n",
    "## Upsert Data To Qdrant"
   ]
  },
  {
   "cell_type": "code",
   "execution_count": 11,
   "metadata": {},
   "outputs": [
    {
     "data": {
      "text/plain": [
       "SentenceTransformer(\n",
       "  (0): Transformer({'max_seq_length': 256, 'do_lower_case': False}) with Transformer model: BertModel \n",
       "  (1): Pooling({'word_embedding_dimension': 384, 'pooling_mode_cls_token': False, 'pooling_mode_mean_tokens': True, 'pooling_mode_max_tokens': False, 'pooling_mode_mean_sqrt_len_tokens': False})\n",
       "  (2): Normalize()\n",
       ")"
      ]
     },
     "execution_count": 11,
     "metadata": {},
     "output_type": "execute_result"
    }
   ],
   "source": [
    "from sentence_transformers import SentenceTransformer\n",
    "\n",
    "\n",
    "ENCODER_CHECKPOINT: str = \"sentence-transformers/all-MiniLM-L6-v2\"\n",
    "# Load the model from HuggingFace Hub\n",
    "encoder = SentenceTransformer(ENCODER_CHECKPOINT, device=device)\n",
    "\n",
    "encoder"
   ]
  },
  {
   "cell_type": "code",
   "execution_count": 12,
   "metadata": {},
   "outputs": [
    {
     "data": {
      "text/plain": [
       "(256, 384)"
      ]
     },
     "execution_count": 12,
     "metadata": {},
     "output_type": "execute_result"
    }
   ],
   "source": [
    "encoder.get_max_seq_length(), encoder.get_sentence_embedding_dimension()"
   ]
  },
  {
   "cell_type": "code",
   "execution_count": 13,
   "metadata": {},
   "outputs": [],
   "source": [
    "import os\n",
    "from getpass import getpass\n",
    "\n",
    "from dotenv import load_dotenv, find_dotenv\n",
    "\n",
    "\n",
    "_ = load_dotenv(find_dotenv())  # read local .env file\n",
    "QDRANT_API_KEY = os.getenv(\"QDRANT_API_KEY\")\n",
    "\n",
    "RUN_CELL: bool = False\n",
    "\n",
    "if RUN_CELL:\n",
    "    # Get API key without displaying it\n",
    "    QDRANT_API_KEY: str = getpass(\"Please enter your API key: \")"
   ]
  },
  {
   "cell_type": "code",
   "execution_count": 14,
   "metadata": {},
   "outputs": [
    {
     "data": {
      "text/html": [
       "<pre style=\"white-space:pre;overflow-x:auto;line-height:normal;font-family:Menlo,'DejaVu Sans Mono',consolas,'Courier New',monospace\">Unexpected Response: <span style=\"color: #008080; text-decoration-color: #008080; font-weight: bold\">400</span> <span style=\"font-weight: bold\">(</span>Bad Request<span style=\"font-weight: bold\">)</span>\n",
       "Raw response content:\n",
       "<span style=\"color: #008000; text-decoration-color: #008000\">b'{\"status\":{\"error\":\"Wrong input: Collection `netflix-sentiment-analysis` already exists!\"},\"time\":0.000018871}'</span>\n",
       "</pre>\n"
      ],
      "text/plain": [
       "Unexpected Response: \u001b[1;36m400\u001b[0m \u001b[1m(\u001b[0mBad Request\u001b[1m)\u001b[0m\n",
       "Raw response content:\n",
       "\u001b[32mb'\u001b[0m\u001b[32m{\u001b[0m\u001b[32m\"status\":\u001b[0m\u001b[32m{\u001b[0m\u001b[32m\"error\":\"Wrong input: Collection `netflix-sentiment-analysis` already exists!\"\u001b[0m\u001b[32m}\u001b[0m\u001b[32m,\"time\":0.000018871\u001b[0m\u001b[32m}\u001b[0m\u001b[32m'\u001b[0m\n"
      ]
     },
     "metadata": {},
     "output_type": "display_data"
    }
   ],
   "source": [
    "from qdrant_client import QdrantClient, models\n",
    "from qdrant_client.http.exceptions import UnexpectedResponse\n",
    "\n",
    "\n",
    "URL: str = \"http://localhost:6333\"\n",
    "client = QdrantClient(\n",
    "    url=URL,\n",
    "    api_key=QDRANT_API_KEY,\n",
    ")\n",
    "DIMENSION: int = encoder.get_sentence_embedding_dimension()\n",
    "METRIC: Any = models.Distance.COSINE\n",
    "COLLECTION_NAME: str = \"netflix-sentiment-analysis\"\n",
    "\n",
    "# Create a collection\n",
    "try:\n",
    "    client.create_collection(\n",
    "        collection_name=COLLECTION_NAME,\n",
    "        vectors_config=models.VectorParams(\n",
    "            size=encoder.get_sentence_embedding_dimension(),  # Vector size is defined by used model\n",
    "            distance=METRIC,\n",
    "        ),\n",
    "        optimizers_config=models.OptimizersConfigDiff(indexing_threshold=0),\n",
    "        shard_number=2,\n",
    "    )\n",
    "# If collection already exists\n",
    "except UnexpectedResponse as err:\n",
    "    print(err)"
   ]
  },
  {
   "cell_type": "code",
   "execution_count": 15,
   "metadata": {},
   "outputs": [
    {
     "data": {
      "text/html": [
       "<pre style=\"white-space:pre;overflow-x:auto;line-height:normal;font-family:Menlo,'DejaVu Sans Mono',consolas,'Courier New',monospace\"><span style=\"color: #800080; text-decoration-color: #800080; font-weight: bold\">CollectionInfo</span><span style=\"font-weight: bold\">(</span>\n",
       "    <span style=\"color: #808000; text-decoration-color: #808000\">status</span>=<span style=\"font-weight: bold\">&lt;</span><span style=\"color: #ff00ff; text-decoration-color: #ff00ff; font-weight: bold\">CollectionStatus.GREEN:</span><span style=\"color: #000000; text-decoration-color: #000000\"> </span><span style=\"color: #008000; text-decoration-color: #008000\">'green'</span><span style=\"color: #000000; text-decoration-color: #000000\">&gt;,</span>\n",
       "<span style=\"color: #000000; text-decoration-color: #000000\">    </span><span style=\"color: #808000; text-decoration-color: #808000\">optimizer_status</span><span style=\"color: #000000; text-decoration-color: #000000\">=&lt;OptimizersStatusOneOf.OK: </span><span style=\"color: #008000; text-decoration-color: #008000\">'ok'</span><span style=\"color: #000000; text-decoration-color: #000000\">&gt;,</span>\n",
       "<span style=\"color: #000000; text-decoration-color: #000000\">    </span><span style=\"color: #808000; text-decoration-color: #808000\">vectors_count</span><span style=\"color: #000000; text-decoration-color: #000000\">=</span><span style=\"color: #008080; text-decoration-color: #008080; font-weight: bold\">775500</span><span style=\"color: #000000; text-decoration-color: #000000\">,</span>\n",
       "<span style=\"color: #000000; text-decoration-color: #000000\">    </span><span style=\"color: #808000; text-decoration-color: #808000\">indexed_vectors_count</span><span style=\"color: #000000; text-decoration-color: #000000\">=</span><span style=\"color: #008080; text-decoration-color: #008080; font-weight: bold\">0</span><span style=\"color: #000000; text-decoration-color: #000000\">,</span>\n",
       "<span style=\"color: #000000; text-decoration-color: #000000\">    </span><span style=\"color: #808000; text-decoration-color: #808000\">points_count</span><span style=\"color: #000000; text-decoration-color: #000000\">=</span><span style=\"color: #008080; text-decoration-color: #008080; font-weight: bold\">775500</span><span style=\"color: #000000; text-decoration-color: #000000\">,</span>\n",
       "<span style=\"color: #000000; text-decoration-color: #000000\">    </span><span style=\"color: #808000; text-decoration-color: #808000\">segments_count</span><span style=\"color: #000000; text-decoration-color: #000000\">=</span><span style=\"color: #008080; text-decoration-color: #008080; font-weight: bold\">12</span><span style=\"color: #000000; text-decoration-color: #000000\">,</span>\n",
       "<span style=\"color: #000000; text-decoration-color: #000000\">    </span><span style=\"color: #808000; text-decoration-color: #808000\">config</span><span style=\"color: #000000; text-decoration-color: #000000\">=</span><span style=\"color: #800080; text-decoration-color: #800080; font-weight: bold\">CollectionConfig</span><span style=\"color: #000000; text-decoration-color: #000000; font-weight: bold\">(</span>\n",
       "<span style=\"color: #000000; text-decoration-color: #000000\">        </span><span style=\"color: #808000; text-decoration-color: #808000\">params</span><span style=\"color: #000000; text-decoration-color: #000000\">=</span><span style=\"color: #800080; text-decoration-color: #800080; font-weight: bold\">CollectionParams</span><span style=\"color: #000000; text-decoration-color: #000000; font-weight: bold\">(</span>\n",
       "<span style=\"color: #000000; text-decoration-color: #000000\">            </span><span style=\"color: #808000; text-decoration-color: #808000\">vectors</span><span style=\"color: #000000; text-decoration-color: #000000\">=</span><span style=\"color: #800080; text-decoration-color: #800080; font-weight: bold\">VectorParams</span><span style=\"color: #000000; text-decoration-color: #000000; font-weight: bold\">(</span>\n",
       "<span style=\"color: #000000; text-decoration-color: #000000\">                </span><span style=\"color: #808000; text-decoration-color: #808000\">size</span><span style=\"color: #000000; text-decoration-color: #000000\">=</span><span style=\"color: #008080; text-decoration-color: #008080; font-weight: bold\">384</span><span style=\"color: #000000; text-decoration-color: #000000\">,</span>\n",
       "<span style=\"color: #000000; text-decoration-color: #000000\">                </span><span style=\"color: #808000; text-decoration-color: #808000\">distance</span><span style=\"color: #000000; text-decoration-color: #000000\">=&lt;Distance.COSINE: </span><span style=\"color: #008000; text-decoration-color: #008000\">'Cosine'</span><span style=\"font-weight: bold\">&gt;</span>,\n",
       "                <span style=\"color: #808000; text-decoration-color: #808000\">hnsw_config</span>=<span style=\"color: #800080; text-decoration-color: #800080; font-style: italic\">None</span>,\n",
       "                <span style=\"color: #808000; text-decoration-color: #808000\">quantization_config</span>=<span style=\"color: #800080; text-decoration-color: #800080; font-style: italic\">None</span>,\n",
       "                <span style=\"color: #808000; text-decoration-color: #808000\">on_disk</span>=<span style=\"color: #800080; text-decoration-color: #800080; font-style: italic\">None</span>\n",
       "            <span style=\"font-weight: bold\">)</span>,\n",
       "            <span style=\"color: #808000; text-decoration-color: #808000\">shard_number</span>=<span style=\"color: #008080; text-decoration-color: #008080; font-weight: bold\">2</span>,\n",
       "            <span style=\"color: #808000; text-decoration-color: #808000\">sharding_method</span>=<span style=\"color: #800080; text-decoration-color: #800080; font-style: italic\">None</span>,\n",
       "            <span style=\"color: #808000; text-decoration-color: #808000\">replication_factor</span>=<span style=\"color: #008080; text-decoration-color: #008080; font-weight: bold\">1</span>,\n",
       "            <span style=\"color: #808000; text-decoration-color: #808000\">write_consistency_factor</span>=<span style=\"color: #008080; text-decoration-color: #008080; font-weight: bold\">1</span>,\n",
       "            <span style=\"color: #808000; text-decoration-color: #808000\">read_fan_out_factor</span>=<span style=\"color: #800080; text-decoration-color: #800080; font-style: italic\">None</span>,\n",
       "            <span style=\"color: #808000; text-decoration-color: #808000\">on_disk_payload</span>=<span style=\"color: #00ff00; text-decoration-color: #00ff00; font-style: italic\">True</span>,\n",
       "            <span style=\"color: #808000; text-decoration-color: #808000\">sparse_vectors</span>=<span style=\"color: #800080; text-decoration-color: #800080; font-style: italic\">None</span>\n",
       "        <span style=\"font-weight: bold\">)</span>,\n",
       "        <span style=\"color: #808000; text-decoration-color: #808000\">hnsw_config</span>=<span style=\"color: #800080; text-decoration-color: #800080; font-weight: bold\">HnswConfig</span><span style=\"font-weight: bold\">(</span>\n",
       "            <span style=\"color: #808000; text-decoration-color: #808000\">m</span>=<span style=\"color: #008080; text-decoration-color: #008080; font-weight: bold\">16</span>,\n",
       "            <span style=\"color: #808000; text-decoration-color: #808000\">ef_construct</span>=<span style=\"color: #008080; text-decoration-color: #008080; font-weight: bold\">100</span>,\n",
       "            <span style=\"color: #808000; text-decoration-color: #808000\">full_scan_threshold</span>=<span style=\"color: #008080; text-decoration-color: #008080; font-weight: bold\">10000</span>,\n",
       "            <span style=\"color: #808000; text-decoration-color: #808000\">max_indexing_threads</span>=<span style=\"color: #008080; text-decoration-color: #008080; font-weight: bold\">0</span>,\n",
       "            <span style=\"color: #808000; text-decoration-color: #808000\">on_disk</span>=<span style=\"color: #ff0000; text-decoration-color: #ff0000; font-style: italic\">False</span>,\n",
       "            <span style=\"color: #808000; text-decoration-color: #808000\">payload_m</span>=<span style=\"color: #800080; text-decoration-color: #800080; font-style: italic\">None</span>\n",
       "        <span style=\"font-weight: bold\">)</span>,\n",
       "        <span style=\"color: #808000; text-decoration-color: #808000\">optimizer_config</span>=<span style=\"color: #800080; text-decoration-color: #800080; font-weight: bold\">OptimizersConfig</span><span style=\"font-weight: bold\">(</span>\n",
       "            <span style=\"color: #808000; text-decoration-color: #808000\">deleted_threshold</span>=<span style=\"color: #008080; text-decoration-color: #008080; font-weight: bold\">0.2</span>,\n",
       "            <span style=\"color: #808000; text-decoration-color: #808000\">vacuum_min_vector_number</span>=<span style=\"color: #008080; text-decoration-color: #008080; font-weight: bold\">1000</span>,\n",
       "            <span style=\"color: #808000; text-decoration-color: #808000\">default_segment_number</span>=<span style=\"color: #008080; text-decoration-color: #008080; font-weight: bold\">0</span>,\n",
       "            <span style=\"color: #808000; text-decoration-color: #808000\">max_segment_size</span>=<span style=\"color: #800080; text-decoration-color: #800080; font-style: italic\">None</span>,\n",
       "            <span style=\"color: #808000; text-decoration-color: #808000\">memmap_threshold</span>=<span style=\"color: #800080; text-decoration-color: #800080; font-style: italic\">None</span>,\n",
       "            <span style=\"color: #808000; text-decoration-color: #808000\">indexing_threshold</span>=<span style=\"color: #008080; text-decoration-color: #008080; font-weight: bold\">0</span>,\n",
       "            <span style=\"color: #808000; text-decoration-color: #808000\">flush_interval_sec</span>=<span style=\"color: #008080; text-decoration-color: #008080; font-weight: bold\">5</span>,\n",
       "            <span style=\"color: #808000; text-decoration-color: #808000\">max_optimization_threads</span>=<span style=\"color: #008080; text-decoration-color: #008080; font-weight: bold\">1</span>\n",
       "        <span style=\"font-weight: bold\">)</span>,\n",
       "        <span style=\"color: #808000; text-decoration-color: #808000\">wal_config</span>=<span style=\"color: #800080; text-decoration-color: #800080; font-weight: bold\">WalConfig</span><span style=\"font-weight: bold\">(</span><span style=\"color: #808000; text-decoration-color: #808000\">wal_capacity_mb</span>=<span style=\"color: #008080; text-decoration-color: #008080; font-weight: bold\">32</span>, <span style=\"color: #808000; text-decoration-color: #808000\">wal_segments_ahead</span>=<span style=\"color: #008080; text-decoration-color: #008080; font-weight: bold\">0</span><span style=\"font-weight: bold\">)</span>,\n",
       "        <span style=\"color: #808000; text-decoration-color: #808000\">quantization_config</span>=<span style=\"color: #800080; text-decoration-color: #800080; font-style: italic\">None</span>\n",
       "    <span style=\"font-weight: bold\">)</span>,\n",
       "    <span style=\"color: #808000; text-decoration-color: #808000\">payload_schema</span>=<span style=\"font-weight: bold\">{}</span>\n",
       "<span style=\"font-weight: bold\">)</span>\n",
       "</pre>\n"
      ],
      "text/plain": [
       "\u001b[1;35mCollectionInfo\u001b[0m\u001b[1m(\u001b[0m\n",
       "    \u001b[33mstatus\u001b[0m=\u001b[1m<\u001b[0m\u001b[1;95mCollectionStatus.GREEN:\u001b[0m\u001b[39m \u001b[0m\u001b[32m'green'\u001b[0m\u001b[39m>,\u001b[0m\n",
       "\u001b[39m    \u001b[0m\u001b[33moptimizer_status\u001b[0m\u001b[39m=<OptimizersStatusOneOf.OK: \u001b[0m\u001b[32m'ok'\u001b[0m\u001b[39m>,\u001b[0m\n",
       "\u001b[39m    \u001b[0m\u001b[33mvectors_count\u001b[0m\u001b[39m=\u001b[0m\u001b[1;36m775500\u001b[0m\u001b[39m,\u001b[0m\n",
       "\u001b[39m    \u001b[0m\u001b[33mindexed_vectors_count\u001b[0m\u001b[39m=\u001b[0m\u001b[1;36m0\u001b[0m\u001b[39m,\u001b[0m\n",
       "\u001b[39m    \u001b[0m\u001b[33mpoints_count\u001b[0m\u001b[39m=\u001b[0m\u001b[1;36m775500\u001b[0m\u001b[39m,\u001b[0m\n",
       "\u001b[39m    \u001b[0m\u001b[33msegments_count\u001b[0m\u001b[39m=\u001b[0m\u001b[1;36m12\u001b[0m\u001b[39m,\u001b[0m\n",
       "\u001b[39m    \u001b[0m\u001b[33mconfig\u001b[0m\u001b[39m=\u001b[0m\u001b[1;35mCollectionConfig\u001b[0m\u001b[1;39m(\u001b[0m\n",
       "\u001b[39m        \u001b[0m\u001b[33mparams\u001b[0m\u001b[39m=\u001b[0m\u001b[1;35mCollectionParams\u001b[0m\u001b[1;39m(\u001b[0m\n",
       "\u001b[39m            \u001b[0m\u001b[33mvectors\u001b[0m\u001b[39m=\u001b[0m\u001b[1;35mVectorParams\u001b[0m\u001b[1;39m(\u001b[0m\n",
       "\u001b[39m                \u001b[0m\u001b[33msize\u001b[0m\u001b[39m=\u001b[0m\u001b[1;36m384\u001b[0m\u001b[39m,\u001b[0m\n",
       "\u001b[39m                \u001b[0m\u001b[33mdistance\u001b[0m\u001b[39m=<Distance.COSINE: \u001b[0m\u001b[32m'Cosine'\u001b[0m\u001b[1m>\u001b[0m,\n",
       "                \u001b[33mhnsw_config\u001b[0m=\u001b[3;35mNone\u001b[0m,\n",
       "                \u001b[33mquantization_config\u001b[0m=\u001b[3;35mNone\u001b[0m,\n",
       "                \u001b[33mon_disk\u001b[0m=\u001b[3;35mNone\u001b[0m\n",
       "            \u001b[1m)\u001b[0m,\n",
       "            \u001b[33mshard_number\u001b[0m=\u001b[1;36m2\u001b[0m,\n",
       "            \u001b[33msharding_method\u001b[0m=\u001b[3;35mNone\u001b[0m,\n",
       "            \u001b[33mreplication_factor\u001b[0m=\u001b[1;36m1\u001b[0m,\n",
       "            \u001b[33mwrite_consistency_factor\u001b[0m=\u001b[1;36m1\u001b[0m,\n",
       "            \u001b[33mread_fan_out_factor\u001b[0m=\u001b[3;35mNone\u001b[0m,\n",
       "            \u001b[33mon_disk_payload\u001b[0m=\u001b[3;92mTrue\u001b[0m,\n",
       "            \u001b[33msparse_vectors\u001b[0m=\u001b[3;35mNone\u001b[0m\n",
       "        \u001b[1m)\u001b[0m,\n",
       "        \u001b[33mhnsw_config\u001b[0m=\u001b[1;35mHnswConfig\u001b[0m\u001b[1m(\u001b[0m\n",
       "            \u001b[33mm\u001b[0m=\u001b[1;36m16\u001b[0m,\n",
       "            \u001b[33mef_construct\u001b[0m=\u001b[1;36m100\u001b[0m,\n",
       "            \u001b[33mfull_scan_threshold\u001b[0m=\u001b[1;36m10000\u001b[0m,\n",
       "            \u001b[33mmax_indexing_threads\u001b[0m=\u001b[1;36m0\u001b[0m,\n",
       "            \u001b[33mon_disk\u001b[0m=\u001b[3;91mFalse\u001b[0m,\n",
       "            \u001b[33mpayload_m\u001b[0m=\u001b[3;35mNone\u001b[0m\n",
       "        \u001b[1m)\u001b[0m,\n",
       "        \u001b[33moptimizer_config\u001b[0m=\u001b[1;35mOptimizersConfig\u001b[0m\u001b[1m(\u001b[0m\n",
       "            \u001b[33mdeleted_threshold\u001b[0m=\u001b[1;36m0\u001b[0m\u001b[1;36m.2\u001b[0m,\n",
       "            \u001b[33mvacuum_min_vector_number\u001b[0m=\u001b[1;36m1000\u001b[0m,\n",
       "            \u001b[33mdefault_segment_number\u001b[0m=\u001b[1;36m0\u001b[0m,\n",
       "            \u001b[33mmax_segment_size\u001b[0m=\u001b[3;35mNone\u001b[0m,\n",
       "            \u001b[33mmemmap_threshold\u001b[0m=\u001b[3;35mNone\u001b[0m,\n",
       "            \u001b[33mindexing_threshold\u001b[0m=\u001b[1;36m0\u001b[0m,\n",
       "            \u001b[33mflush_interval_sec\u001b[0m=\u001b[1;36m5\u001b[0m,\n",
       "            \u001b[33mmax_optimization_threads\u001b[0m=\u001b[1;36m1\u001b[0m\n",
       "        \u001b[1m)\u001b[0m,\n",
       "        \u001b[33mwal_config\u001b[0m=\u001b[1;35mWalConfig\u001b[0m\u001b[1m(\u001b[0m\u001b[33mwal_capacity_mb\u001b[0m=\u001b[1;36m32\u001b[0m, \u001b[33mwal_segments_ahead\u001b[0m=\u001b[1;36m0\u001b[0m\u001b[1m)\u001b[0m,\n",
       "        \u001b[33mquantization_config\u001b[0m=\u001b[3;35mNone\u001b[0m\n",
       "    \u001b[1m)\u001b[0m,\n",
       "    \u001b[33mpayload_schema\u001b[0m=\u001b[1m{\u001b[0m\u001b[1m}\u001b[0m\n",
       "\u001b[1m)\u001b[0m\n"
      ]
     },
     "metadata": {},
     "output_type": "display_data"
    }
   ],
   "source": [
    "# Get collection details\n",
    "collection_info: Any = client.get_collection(collection_name=COLLECTION_NAME)\n",
    "print(collection_info)"
   ]
  },
  {
   "cell_type": "markdown",
   "metadata": {},
   "source": [
    "### Generate Embeddings\n",
    "\n",
    "- Generate embeddings for all the reviews in the dataset.\n",
    "- The embeddings, the sentiment label and score will be included in the Qdrant collection as metadata.\n",
    "- The metadata will be used to understand the customer opinions."
   ]
  },
  {
   "cell_type": "code",
   "execution_count": 16,
   "metadata": {},
   "outputs": [
    {
     "data": {
      "text/html": [
       "<pre style=\"white-space:pre;overflow-x:auto;line-height:normal;font-family:Menlo,'DejaVu Sans Mono',consolas,'Courier New',monospace\">shape: <span style=\"font-weight: bold\">(</span><span style=\"color: #008080; text-decoration-color: #008080; font-weight: bold\">5</span>, <span style=\"color: #008080; text-decoration-color: #008080; font-weight: bold\">5</span><span style=\"font-weight: bold\">)</span>\n",
       "┌────────────────────┬────────────────────┬───────────────┬────────────────────┬───────────────────┐\n",
       "│ review_id          ┆ review_text        ┆ review_rating ┆ author_app_version ┆ review_timestamp  │\n",
       "│ ---                ┆ ---                ┆ ---           ┆ ---                ┆ ---               │\n",
       "│ str                ┆ str                ┆ i64           ┆ str                ┆ str               │\n",
       "╞════════════════════╪════════════════════╪═══════════════╪════════════════════╪═══════════════════╡\n",
       "│ 7e73f80e-a8fd-4ff3 ┆ Works great on my  ┆ <span style=\"color: #008080; text-decoration-color: #008080; font-weight: bold\">5</span>             ┆ <span style=\"color: #008080; text-decoration-color: #008080; font-weight: bold\">1.2</span>.<span style=\"color: #008080; text-decoration-color: #008080; font-weight: bold\">0</span> build        ┆ <span style=\"color: #008080; text-decoration-color: #008080; font-weight: bold\">2011</span>-<span style=\"color: #008080; text-decoration-color: #008080; font-weight: bold\">05</span>-<span style=\"color: #008080; text-decoration-color: #008080; font-weight: bold\">12</span>        │\n",
       "│ -b09b-502f0ad0…    ┆ Evo! Glad andr…    ┆               ┆ <span style=\"color: #008080; text-decoration-color: #008080; font-weight: bold\">819145</span>-<span style=\"color: #008080; text-decoration-color: #008080; font-weight: bold\">1.2</span>.<span style=\"color: #008080; text-decoration-color: #008080; font-weight: bold\">0</span>-<span style=\"color: #008080; text-decoration-color: #008080; font-weight: bold\">102</span>   ┆ <span style=\"color: #00ff00; text-decoration-color: #00ff00; font-weight: bold\">18:50:37</span>          │\n",
       "│ dab55eca-c2a0-45a8 ┆ Works great on HTC ┆ <span style=\"color: #008080; text-decoration-color: #008080; font-weight: bold\">5</span>             ┆ <span style=\"color: #008080; text-decoration-color: #008080; font-weight: bold\">1.2</span>.<span style=\"color: #008080; text-decoration-color: #008080; font-weight: bold\">0</span> build        ┆ <span style=\"color: #008080; text-decoration-color: #008080; font-weight: bold\">2011</span>-<span style=\"color: #008080; text-decoration-color: #008080; font-weight: bold\">05</span>-<span style=\"color: #008080; text-decoration-color: #008080; font-weight: bold\">12</span>        │\n",
       "│ <span style=\"color: #008080; text-decoration-color: #008080; font-weight: bold\">-93e3</span>-9860c1c5…    ┆ incredible. C…     ┆               ┆ <span style=\"color: #008080; text-decoration-color: #008080; font-weight: bold\">819145</span>-<span style=\"color: #008080; text-decoration-color: #008080; font-weight: bold\">1.2</span>.<span style=\"color: #008080; text-decoration-color: #008080; font-weight: bold\">0</span>-<span style=\"color: #008080; text-decoration-color: #008080; font-weight: bold\">102</span>   ┆ <span style=\"color: #00ff00; text-decoration-color: #00ff00; font-weight: bold\">18:50:52</span>          │\n",
       "│ a3b8fa06-8b8f-4f2f ┆ Works great on     ┆ <span style=\"color: #008080; text-decoration-color: #008080; font-weight: bold\">5</span>             ┆ <span style=\"color: #008080; text-decoration-color: #008080; font-weight: bold\">1.5</span>.<span style=\"color: #008080; text-decoration-color: #008080; font-weight: bold\">2</span> build <span style=\"color: #008080; text-decoration-color: #008080; font-weight: bold\">389</span>    ┆ <span style=\"color: #008080; text-decoration-color: #008080; font-weight: bold\">2011</span>-<span style=\"color: #008080; text-decoration-color: #008080; font-weight: bold\">05</span>-<span style=\"color: #008080; text-decoration-color: #008080; font-weight: bold\">12</span>        │\n",
       "│ -a1fa-fd37c4cb…    ┆ nexus s            ┆               ┆                    ┆ <span style=\"color: #00ff00; text-decoration-color: #00ff00; font-weight: bold\">18:55:14</span>          │\n",
       "│ 837fdfa5-606d-4cec ┆ Working perfect    ┆ <span style=\"color: #008080; text-decoration-color: #008080; font-weight: bold\">5</span>             ┆ <span style=\"color: #008080; text-decoration-color: #008080; font-weight: bold\">1.2</span>.<span style=\"color: #008080; text-decoration-color: #008080; font-weight: bold\">1</span> build        ┆ <span style=\"color: #008080; text-decoration-color: #008080; font-weight: bold\">2011</span>-<span style=\"color: #008080; text-decoration-color: #008080; font-weight: bold\">05</span>-<span style=\"color: #008080; text-decoration-color: #008080; font-weight: bold\">12</span>        │\n",
       "│ -9e9a-e4a83dad…    ┆ for me on EVO, r…  ┆               ┆ <span style=\"color: #008080; text-decoration-color: #008080; font-weight: bold\">843839</span>-<span style=\"color: #008080; text-decoration-color: #008080; font-weight: bold\">1.2</span>.<span style=\"color: #008080; text-decoration-color: #008080; font-weight: bold\">0</span>-<span style=\"color: #008080; text-decoration-color: #008080; font-weight: bold\">30</span>    ┆ <span style=\"color: #00ff00; text-decoration-color: #00ff00; font-weight: bold\">19:31:46</span>          │\n",
       "│ a8aaecb2-<span style=\"color: #008080; text-decoration-color: #008080; font-weight: bold\">6984</span>-44f7 ┆ cm7 <span style=\"color: #008080; text-decoration-color: #008080; font-weight: bold\">2.3</span>.<span style=\"color: #008080; text-decoration-color: #008080; font-weight: bold\">3</span> N1       ┆ <span style=\"color: #008080; text-decoration-color: #008080; font-weight: bold\">5</span>             ┆ <span style=\"color: #008080; text-decoration-color: #008080; font-weight: bold\">1.5</span>.<span style=\"color: #008080; text-decoration-color: #008080; font-weight: bold\">2</span> build <span style=\"color: #008080; text-decoration-color: #008080; font-weight: bold\">389</span>    ┆ <span style=\"color: #008080; text-decoration-color: #008080; font-weight: bold\">2011</span>-<span style=\"color: #008080; text-decoration-color: #008080; font-weight: bold\">05</span>-<span style=\"color: #008080; text-decoration-color: #008080; font-weight: bold\">12</span>        │\n",
       "│ -b958-3f89f64d…    ┆                    ┆               ┆                    ┆ <span style=\"color: #00ff00; text-decoration-color: #00ff00; font-weight: bold\">19:32:50</span>          │\n",
       "└────────────────────┴────────────────────┴───────────────┴────────────────────┴───────────────────┘\n",
       "</pre>\n"
      ],
      "text/plain": [
       "shape: \u001b[1m(\u001b[0m\u001b[1;36m5\u001b[0m, \u001b[1;36m5\u001b[0m\u001b[1m)\u001b[0m\n",
       "┌────────────────────┬────────────────────┬───────────────┬────────────────────┬───────────────────┐\n",
       "│ review_id          ┆ review_text        ┆ review_rating ┆ author_app_version ┆ review_timestamp  │\n",
       "│ ---                ┆ ---                ┆ ---           ┆ ---                ┆ ---               │\n",
       "│ str                ┆ str                ┆ i64           ┆ str                ┆ str               │\n",
       "╞════════════════════╪════════════════════╪═══════════════╪════════════════════╪═══════════════════╡\n",
       "│ 7e73f80e-a8fd-4ff3 ┆ Works great on my  ┆ \u001b[1;36m5\u001b[0m             ┆ \u001b[1;36m1.2\u001b[0m.\u001b[1;36m0\u001b[0m build        ┆ \u001b[1;36m2011\u001b[0m-\u001b[1;36m05\u001b[0m-\u001b[1;36m12\u001b[0m        │\n",
       "│ -b09b-502f0ad0…    ┆ Evo! Glad andr…    ┆               ┆ \u001b[1;36m819145\u001b[0m-\u001b[1;36m1.2\u001b[0m.\u001b[1;36m0\u001b[0m-\u001b[1;36m102\u001b[0m   ┆ \u001b[1;92m18:50:37\u001b[0m          │\n",
       "│ dab55eca-c2a0-45a8 ┆ Works great on HTC ┆ \u001b[1;36m5\u001b[0m             ┆ \u001b[1;36m1.2\u001b[0m.\u001b[1;36m0\u001b[0m build        ┆ \u001b[1;36m2011\u001b[0m-\u001b[1;36m05\u001b[0m-\u001b[1;36m12\u001b[0m        │\n",
       "│ \u001b[1;36m-93e3\u001b[0m-9860c1c5…    ┆ incredible. C…     ┆               ┆ \u001b[1;36m819145\u001b[0m-\u001b[1;36m1.2\u001b[0m.\u001b[1;36m0\u001b[0m-\u001b[1;36m102\u001b[0m   ┆ \u001b[1;92m18:50:52\u001b[0m          │\n",
       "│ a3b8fa06-8b8f-4f2f ┆ Works great on     ┆ \u001b[1;36m5\u001b[0m             ┆ \u001b[1;36m1.5\u001b[0m.\u001b[1;36m2\u001b[0m build \u001b[1;36m389\u001b[0m    ┆ \u001b[1;36m2011\u001b[0m-\u001b[1;36m05\u001b[0m-\u001b[1;36m12\u001b[0m        │\n",
       "│ -a1fa-fd37c4cb…    ┆ nexus s            ┆               ┆                    ┆ \u001b[1;92m18:55:14\u001b[0m          │\n",
       "│ 837fdfa5-606d-4cec ┆ Working perfect    ┆ \u001b[1;36m5\u001b[0m             ┆ \u001b[1;36m1.2\u001b[0m.\u001b[1;36m1\u001b[0m build        ┆ \u001b[1;36m2011\u001b[0m-\u001b[1;36m05\u001b[0m-\u001b[1;36m12\u001b[0m        │\n",
       "│ -9e9a-e4a83dad…    ┆ for me on EVO, r…  ┆               ┆ \u001b[1;36m843839\u001b[0m-\u001b[1;36m1.2\u001b[0m.\u001b[1;36m0\u001b[0m-\u001b[1;36m30\u001b[0m    ┆ \u001b[1;92m19:31:46\u001b[0m          │\n",
       "│ a8aaecb2-\u001b[1;36m6984\u001b[0m-44f7 ┆ cm7 \u001b[1;36m2.3\u001b[0m.\u001b[1;36m3\u001b[0m N1       ┆ \u001b[1;36m5\u001b[0m             ┆ \u001b[1;36m1.5\u001b[0m.\u001b[1;36m2\u001b[0m build \u001b[1;36m389\u001b[0m    ┆ \u001b[1;36m2011\u001b[0m-\u001b[1;36m05\u001b[0m-\u001b[1;36m12\u001b[0m        │\n",
       "│ -b958-3f89f64d…    ┆                    ┆               ┆                    ┆ \u001b[1;92m19:32:50\u001b[0m          │\n",
       "└────────────────────┴────────────────────┴───────────────┴────────────────────┴───────────────────┘\n"
      ]
     },
     "metadata": {},
     "output_type": "display_data"
    }
   ],
   "source": [
    "print(data.head())"
   ]
  },
  {
   "cell_type": "code",
   "execution_count": 17,
   "metadata": {},
   "outputs": [],
   "source": [
    "def retrieve_labels(ratings: list[int]) -> list[str]:\n",
    "    \"\"\"This is used to retrieve the labels.\"\"\"\n",
    "    labels: list[str] = [id2label.get(x) for x in ratings]\n",
    "\n",
    "    return labels"
   ]
  },
  {
   "cell_type": "code",
   "execution_count": 18,
   "metadata": {},
   "outputs": [
    {
     "data": {
      "text/plain": [
       "['poor', 'okay', 'very good', 'excellent']"
      ]
     },
     "execution_count": 18,
     "metadata": {},
     "output_type": "execute_result"
    }
   ],
   "source": [
    "retrieve_labels(ratings=[2, 3, 4, 5])"
   ]
  },
  {
   "cell_type": "code",
   "execution_count": 19,
   "metadata": {},
   "outputs": [
    {
     "data": {
      "text/plain": [
       "'2011-05-12 18:50:37'"
      ]
     },
     "execution_count": 19,
     "metadata": {},
     "output_type": "execute_result"
    }
   ],
   "source": [
    "data.select(\"review_timestamp\").to_series().to_list()[0]"
   ]
  },
  {
   "cell_type": "code",
   "execution_count": 20,
   "metadata": {},
   "outputs": [],
   "source": [
    "from dateutil.parser import parse\n",
    "\n",
    "\n",
    "def get_timestamp(dates: list[str]) -> list[float]:\n",
    "    \"\"\"This is used to convert the dates to timestamp.\"\"\"\n",
    "    timestamps: list[float] = [parse(d).timestamp() for d in dates]\n",
    "    return timestamps"
   ]
  },
  {
   "cell_type": "code",
   "execution_count": 21,
   "metadata": {},
   "outputs": [
    {
     "data": {
      "text/plain": [
       "[1305222637.0]"
      ]
     },
     "execution_count": 21,
     "metadata": {},
     "output_type": "execute_result"
    }
   ],
   "source": [
    "d: str = \"2011-05-12 18:50:37\"\n",
    "\n",
    "get_timestamp(dates=[d])"
   ]
  },
  {
   "cell_type": "markdown",
   "metadata": {},
   "source": [
    "### Qdrant Upsert\n",
    "\n",
    "- Using “Upsert” with Qdrant Vector Database [Blog](https://redandgreen.co.uk/qdrant-upsert/ai-ml/).\n",
    "- [Official Documentation](https://qdrant.tech/documentation/concepts/points/#upload-points).\n"
   ]
  },
  {
   "cell_type": "code",
   "execution_count": 22,
   "metadata": {},
   "outputs": [
    {
     "data": {
      "text/html": [
       "<pre style=\"white-space:pre;overflow-x:auto;line-height:normal;font-family:Menlo,'DejaVu Sans Mono',consolas,'Courier New',monospace\">&gt;&gt;&gt; <span style=\"font-weight: bold\">[</span>Done<span style=\"font-weight: bold\">]</span> &lt;&lt;&lt;\n",
       "</pre>\n"
      ],
      "text/plain": [
       ">>> \u001b[1m[\u001b[0mDone\u001b[1m]\u001b[0m <<<\n"
      ]
     },
     "metadata": {},
     "output_type": "display_data"
    }
   ],
   "source": [
    "# Encode the entire data (Batch Upload)\n",
    "import uuid\n",
    "\n",
    "from tqdm.auto import tqdm\n",
    "\n",
    "\n",
    "batch_size: int = 500\n",
    "counter: int = 0\n",
    "\n",
    "if RUN_CELL:\n",
    "    for i in tqdm(range(0, len(data), batch_size)):\n",
    "\n",
    "        # Find end of batch\n",
    "        i_end: int = min(i + batch_size, data.shape[0])\n",
    "\n",
    "        # Extract batch\n",
    "        sample_rows: list[Any] = data.rows()[i:i_end]\n",
    "        batch: pl.DataFrame = pl.DataFrame(\n",
    "            sample_rows,\n",
    "            schema=[\n",
    "                \"review_id\",\n",
    "                \"review_text\",\n",
    "                \"review_rating\",\n",
    "                \"author_app_version\",\n",
    "                \"review_date\",  # renamed!\n",
    "            ],\n",
    "        )\n",
    "\n",
    "        # IDs: list[str] = [str(uuid.uuid4()) for _ in range(batch.shape[0])]\n",
    "        IDs: list[str] = batch.select(pl.col(\"review_id\")).to_series().to_list()\n",
    "\n",
    "        # Generate embeddings for batch\n",
    "        batch_reviews: list[str] = (\n",
    "            batch.select(pl.col(\"review_text\")).to_series().to_list()\n",
    "        )\n",
    "        vectors: list[float] = encoder.encode(\n",
    "            batch_reviews, show_progress_bar=False\n",
    "        ).tolist()\n",
    "\n",
    "        batch_ratings: list[str] = (\n",
    "            batch.select(pl.col(\"review_rating\")).to_series().to_list()\n",
    "        )\n",
    "\n",
    "        # Get sentiment label and score for reviews in the batch\n",
    "        labels: list[str] = retrieve_labels(ratings=batch_ratings)\n",
    "\n",
    "        # Add new column(s)\n",
    "        batch: pl.DataFrame = pl.concat(\n",
    "            [batch, pl.DataFrame({\"label\": labels})], how=\"horizontal\"\n",
    "        )\n",
    "        dates: list[str] = batch.select(pl.col(\"review_date\")).to_series().to_list()\n",
    "        timestamp: list[float] = get_timestamp(dates=dates)\n",
    "        timestamp_df: pl.DataFrame = pl.DataFrame(data={\"timestamp\": timestamp})\n",
    "        batch: pl.DataFrame = pl.concat([batch, timestamp_df], how=\"horizontal\")\n",
    "\n",
    "        # Get metadata\n",
    "        counter += batch_size\n",
    "        if counter % 12_000 == 0:\n",
    "            print(\">>> [Creating payload] [Upserting data] <<<\")\n",
    "        payload_data: list[dict[str, Any]] = batch.to_dicts()\n",
    "\n",
    "        # Upsert/insert these records to Qdrant\n",
    "        _ = client.upsert(\n",
    "            collection_name=COLLECTION_NAME,\n",
    "            points=models.Batch(\n",
    "                ids=IDs,\n",
    "                payloads=payload_data,\n",
    "                vectors=vectors,\n",
    "            ),\n",
    "        )\n",
    "\n",
    "print(\">>> [Done] <<<\")"
   ]
  },
  {
   "cell_type": "markdown",
   "metadata": {},
   "source": [
    "### Note\n",
    "\n",
    "- Due to the size of the data, I only upserted ~775.5k datapoints.\n",
    "- I took ~1hr 58m to upsert."
   ]
  },
  {
   "cell_type": "code",
   "execution_count": null,
   "metadata": {},
   "outputs": [],
   "source": []
  },
  {
   "cell_type": "markdown",
   "metadata": {},
   "source": [
    "<hr><br>\n",
    "\n",
    "## Opinion Mining\n",
    "- What are the reviewers saying about the app?\n",
    "- Are there any patterns in sentiment over time or across different app versions?\n",
    "- Automatically categorize reviews into different topics.\n",
    "- What features are most indicative of a high/low review rating?"
   ]
  },
  {
   "cell_type": "code",
   "execution_count": 23,
   "metadata": {},
   "outputs": [],
   "source": [
    "def count_sentiment(data: list[dict[str, Any]]) -> dict[str, int]:\n",
    "    \"\"\"This is used to count the sentiments.\"\"\"\n",
    "    from collections import Counter\n",
    "\n",
    "    sentiments: list[str] = [x.dict().get(\"payload\").get(\"label\") for x in data]\n",
    "    result: dict[str, int] = dict(Counter(sentiments))\n",
    "\n",
    "    return result\n",
    "\n",
    "\n",
    "import plotly.express as px\n",
    "\n",
    "\n",
    "def visualize_result(sentiment: dict[str, Any], query: str) -> Any:\n",
    "\n",
    "    try:\n",
    "        vis_data: pd.DataFrame = (\n",
    "            pd.DataFrame(sentiment, index=[0]).drop(columns=[None]).T\n",
    "        )\n",
    "    except KeyError:\n",
    "        vis_data: pd.DataFrame = pd.DataFrame(sentiment, index=[0]).T\n",
    "\n",
    "    vis_data = vis_data.reset_index(drop=False).rename(\n",
    "        columns={0: \"rating\", \"index\": \"label\"}\n",
    "    )\n",
    "    fig = px.bar(\n",
    "        vis_data,\n",
    "        x=\"label\",\n",
    "        y=\"rating\",\n",
    "        labels=dict(index=\"rating\", rating=\"count\"),\n",
    "        color=\"label\",\n",
    "        text_auto=True,\n",
    "        title=query,\n",
    "    )\n",
    "    return fig.show()"
   ]
  },
  {
   "cell_type": "markdown",
   "metadata": {},
   "source": [
    "### Q1 What are the reviewers saying about the app?\n",
    "\n",
    "- e.g. are the customers satisfied with the app?\n",
    "- do you like it? "
   ]
  },
  {
   "cell_type": "code",
   "execution_count": 24,
   "metadata": {},
   "outputs": [
    {
     "data": {
      "text/html": [
       "<pre style=\"white-space:pre;overflow-x:auto;line-height:normal;font-family:Menlo,'DejaVu Sans Mono',consolas,'Courier New',monospace\"><span style=\"font-weight: bold\">[</span>\n",
       "    <span style=\"color: #800080; text-decoration-color: #800080; font-weight: bold\">ScoredPoint</span><span style=\"font-weight: bold\">(</span>\n",
       "        <span style=\"color: #808000; text-decoration-color: #808000\">id</span>=<span style=\"color: #008000; text-decoration-color: #008000\">'bac9519b-0005-420d-970e-3ef515f1b3a5'</span>,\n",
       "        <span style=\"color: #808000; text-decoration-color: #808000\">version</span>=<span style=\"color: #008080; text-decoration-color: #008080; font-weight: bold\">369</span>,\n",
       "        <span style=\"color: #808000; text-decoration-color: #808000\">score</span>=<span style=\"color: #008080; text-decoration-color: #008080; font-weight: bold\">0.84076256</span>,\n",
       "        <span style=\"color: #808000; text-decoration-color: #808000\">payload</span>=<span style=\"font-weight: bold\">{</span>\n",
       "            <span style=\"color: #008000; text-decoration-color: #008000\">'author_app_version'</span>: <span style=\"color: #008000; text-decoration-color: #008000\">'3.5.1 build 1566'</span>,\n",
       "            <span style=\"color: #008000; text-decoration-color: #008000\">'label'</span>: <span style=\"color: #008000; text-decoration-color: #008000\">'very good'</span>,\n",
       "            <span style=\"color: #008000; text-decoration-color: #008000\">'review_date'</span>: <span style=\"color: #008000; text-decoration-color: #008000\">'2014-06-11 03:56:09'</span>,\n",
       "            <span style=\"color: #008000; text-decoration-color: #008000\">'review_id'</span>: <span style=\"color: #008000; text-decoration-color: #008000\">'bac9519b-0005-420d-970e-3ef515f1b3a5'</span>,\n",
       "            <span style=\"color: #008000; text-decoration-color: #008000\">'review_rating'</span>: <span style=\"color: #008080; text-decoration-color: #008080; font-weight: bold\">4</span>,\n",
       "            <span style=\"color: #008000; text-decoration-color: #008000\">'review_text'</span>: <span style=\"color: #008000; text-decoration-color: #008000\">'This app is very nice. I mostly use it to entertain the kids when we are out and about,</span>\n",
       "<span style=\"color: #008000; text-decoration-color: #008000\">but it has never given me any serious problems in that respect. From MY experiences ALONE, I can say I am a </span>\n",
       "<span style=\"color: #008000; text-decoration-color: #008000\">satisfied customers thus far.'</span>,\n",
       "            <span style=\"color: #008000; text-decoration-color: #008000\">'timestamp'</span>: <span style=\"color: #008080; text-decoration-color: #008080; font-weight: bold\">1402455369.0</span>\n",
       "        <span style=\"font-weight: bold\">}</span>,\n",
       "        <span style=\"color: #808000; text-decoration-color: #808000\">vector</span>=<span style=\"color: #800080; text-decoration-color: #800080; font-style: italic\">None</span>,\n",
       "        <span style=\"color: #808000; text-decoration-color: #808000\">shard_key</span>=<span style=\"color: #800080; text-decoration-color: #800080; font-style: italic\">None</span>\n",
       "    <span style=\"font-weight: bold\">)</span>,\n",
       "    <span style=\"color: #800080; text-decoration-color: #800080; font-weight: bold\">ScoredPoint</span><span style=\"font-weight: bold\">(</span>\n",
       "        <span style=\"color: #808000; text-decoration-color: #808000\">id</span>=<span style=\"color: #008000; text-decoration-color: #008000\">'af768543-c619-4486-b8b6-e6ae5581bafb'</span>,\n",
       "        <span style=\"color: #808000; text-decoration-color: #808000\">version</span>=<span style=\"color: #008080; text-decoration-color: #008080; font-weight: bold\">1202</span>,\n",
       "        <span style=\"color: #808000; text-decoration-color: #808000\">score</span>=<span style=\"color: #008080; text-decoration-color: #008080; font-weight: bold\">0.723863</span>,\n",
       "        <span style=\"color: #808000; text-decoration-color: #808000\">payload</span>=<span style=\"font-weight: bold\">{</span>\n",
       "            <span style=\"color: #008000; text-decoration-color: #008000\">'author_app_version'</span>: <span style=\"color: #008000; text-decoration-color: #008000\">'5.16.1 build 26734'</span>,\n",
       "            <span style=\"color: #008000; text-decoration-color: #008000\">'label'</span>: <span style=\"color: #008000; text-decoration-color: #008000\">'poor'</span>,\n",
       "            <span style=\"color: #008000; text-decoration-color: #008000\">'review_date'</span>: <span style=\"color: #008000; text-decoration-color: #008000\">'2018-06-19 06:09:06'</span>,\n",
       "            <span style=\"color: #008000; text-decoration-color: #008000\">'review_id'</span>: <span style=\"color: #008000; text-decoration-color: #008000\">'af768543-c619-4486-b8b6-e6ae5581bafb'</span>,\n",
       "            <span style=\"color: #008000; text-decoration-color: #008000\">'review_rating'</span>: <span style=\"color: #008080; text-decoration-color: #008080; font-weight: bold\">2</span>,\n",
       "            <span style=\"color: #008000; text-decoration-color: #008000\">'review_text'</span>: <span style=\"color: #008000; text-decoration-color: #008000\">'Very good app, but totally unsatisfactory customer service. Please teach \\nyour </span>\n",
       "<span style=\"color: #008000; text-decoration-color: #008000\">customer service reps to talk to customers with respect if we are \\nhaving an issue that has to be resolved.'</span>,\n",
       "            <span style=\"color: #008000; text-decoration-color: #008000\">'timestamp'</span>: <span style=\"color: #008080; text-decoration-color: #008080; font-weight: bold\">1529384946.0</span>\n",
       "        <span style=\"font-weight: bold\">}</span>,\n",
       "        <span style=\"color: #808000; text-decoration-color: #808000\">vector</span>=<span style=\"color: #800080; text-decoration-color: #800080; font-style: italic\">None</span>,\n",
       "        <span style=\"color: #808000; text-decoration-color: #808000\">shard_key</span>=<span style=\"color: #800080; text-decoration-color: #800080; font-style: italic\">None</span>\n",
       "    <span style=\"font-weight: bold\">)</span>,\n",
       "    <span style=\"color: #800080; text-decoration-color: #800080; font-weight: bold\">ScoredPoint</span><span style=\"font-weight: bold\">(</span>\n",
       "        <span style=\"color: #808000; text-decoration-color: #808000\">id</span>=<span style=\"color: #008000; text-decoration-color: #008000\">'62c2478d-7ea7-4286-9614-efaa64b950cb'</span>,\n",
       "        <span style=\"color: #808000; text-decoration-color: #808000\">version</span>=<span style=\"color: #008080; text-decoration-color: #008080; font-weight: bold\">83</span>,\n",
       "        <span style=\"color: #808000; text-decoration-color: #808000\">score</span>=<span style=\"color: #008080; text-decoration-color: #008080; font-weight: bold\">0.71924067</span>,\n",
       "        <span style=\"color: #808000; text-decoration-color: #808000\">payload</span>=<span style=\"font-weight: bold\">{</span>\n",
       "            <span style=\"color: #008000; text-decoration-color: #008000\">'author_app_version'</span>: <span style=\"color: #008000; text-decoration-color: #008000\">''</span>,\n",
       "            <span style=\"color: #008000; text-decoration-color: #008000\">'label'</span>: <span style=\"color: #008000; text-decoration-color: #008000\">'excellent'</span>,\n",
       "            <span style=\"color: #008000; text-decoration-color: #008000\">'review_date'</span>: <span style=\"color: #008000; text-decoration-color: #008000\">'2012-05-22 16:01:13'</span>,\n",
       "            <span style=\"color: #008000; text-decoration-color: #008000\">'review_id'</span>: <span style=\"color: #008000; text-decoration-color: #008000\">'62c2478d-7ea7-4286-9614-efaa64b950cb'</span>,\n",
       "            <span style=\"color: #008000; text-decoration-color: #008000\">'review_rating'</span>: <span style=\"color: #008080; text-decoration-color: #008080; font-weight: bold\">5</span>,\n",
       "            <span style=\"color: #008000; text-decoration-color: #008000\">'review_text'</span>: <span style=\"color: #008000; text-decoration-color: #008000\">\"I've been a customer for more than 2 years great app\"</span>,\n",
       "            <span style=\"color: #008000; text-decoration-color: #008000\">'timestamp'</span>: <span style=\"color: #008080; text-decoration-color: #008080; font-weight: bold\">1337698873.0</span>\n",
       "        <span style=\"font-weight: bold\">}</span>,\n",
       "        <span style=\"color: #808000; text-decoration-color: #808000\">vector</span>=<span style=\"color: #800080; text-decoration-color: #800080; font-style: italic\">None</span>,\n",
       "        <span style=\"color: #808000; text-decoration-color: #808000\">shard_key</span>=<span style=\"color: #800080; text-decoration-color: #800080; font-style: italic\">None</span>\n",
       "    <span style=\"font-weight: bold\">)</span>,\n",
       "    <span style=\"color: #800080; text-decoration-color: #800080; font-weight: bold\">ScoredPoint</span><span style=\"font-weight: bold\">(</span>\n",
       "        <span style=\"color: #808000; text-decoration-color: #808000\">id</span>=<span style=\"color: #008000; text-decoration-color: #008000\">'513ebf2b-af2d-4436-9455-30e404ee530b'</span>,\n",
       "        <span style=\"color: #808000; text-decoration-color: #808000\">version</span>=<span style=\"color: #008080; text-decoration-color: #008080; font-weight: bold\">1399</span>,\n",
       "        <span style=\"color: #808000; text-decoration-color: #808000\">score</span>=<span style=\"color: #008080; text-decoration-color: #008080; font-weight: bold\">0.7089151</span>,\n",
       "        <span style=\"color: #808000; text-decoration-color: #808000\">payload</span>=<span style=\"font-weight: bold\">{</span>\n",
       "            <span style=\"color: #008000; text-decoration-color: #008000\">'author_app_version'</span>: <span style=\"color: #008000; text-decoration-color: #008000\">''</span>,\n",
       "            <span style=\"color: #008000; text-decoration-color: #008000\">'label'</span>: <span style=\"color: #008000; text-decoration-color: #008000\">'excellent'</span>,\n",
       "            <span style=\"color: #008000; text-decoration-color: #008000\">'review_date'</span>: <span style=\"color: #008000; text-decoration-color: #008000\">'2019-03-03 19:44:08'</span>,\n",
       "            <span style=\"color: #008000; text-decoration-color: #008000\">'review_id'</span>: <span style=\"color: #008000; text-decoration-color: #008000\">'513ebf2b-af2d-4436-9455-30e404ee530b'</span>,\n",
       "            <span style=\"color: #008000; text-decoration-color: #008000\">'review_rating'</span>: <span style=\"color: #008080; text-decoration-color: #008080; font-weight: bold\">5</span>,\n",
       "            <span style=\"color: #008000; text-decoration-color: #008000\">'review_text'</span>: <span style=\"color: #008000; text-decoration-color: #008000\">'good app and customer service when needed'</span>,\n",
       "            <span style=\"color: #008000; text-decoration-color: #008000\">'timestamp'</span>: <span style=\"color: #008080; text-decoration-color: #008080; font-weight: bold\">1551638648.0</span>\n",
       "        <span style=\"font-weight: bold\">}</span>,\n",
       "        <span style=\"color: #808000; text-decoration-color: #808000\">vector</span>=<span style=\"color: #800080; text-decoration-color: #800080; font-style: italic\">None</span>,\n",
       "        <span style=\"color: #808000; text-decoration-color: #808000\">shard_key</span>=<span style=\"color: #800080; text-decoration-color: #800080; font-style: italic\">None</span>\n",
       "    <span style=\"font-weight: bold\">)</span>,\n",
       "    <span style=\"color: #800080; text-decoration-color: #800080; font-weight: bold\">ScoredPoint</span><span style=\"font-weight: bold\">(</span>\n",
       "        <span style=\"color: #808000; text-decoration-color: #808000\">id</span>=<span style=\"color: #008000; text-decoration-color: #008000\">'434e85d0-a6cc-4355-bc1a-3614f0574aa8'</span>,\n",
       "        <span style=\"color: #808000; text-decoration-color: #808000\">version</span>=<span style=\"color: #008080; text-decoration-color: #008080; font-weight: bold\">863</span>,\n",
       "        <span style=\"color: #808000; text-decoration-color: #808000\">score</span>=<span style=\"color: #008080; text-decoration-color: #008080; font-weight: bold\">0.7002642</span>,\n",
       "        <span style=\"color: #808000; text-decoration-color: #808000\">payload</span>=<span style=\"font-weight: bold\">{</span>\n",
       "            <span style=\"color: #008000; text-decoration-color: #008000\">'author_app_version'</span>: <span style=\"color: #008000; text-decoration-color: #008000\">'4.13.2 build 14565'</span>,\n",
       "            <span style=\"color: #008000; text-decoration-color: #008000\">'label'</span>: <span style=\"color: #008000; text-decoration-color: #008000\">'excellent'</span>,\n",
       "            <span style=\"color: #008000; text-decoration-color: #008000\">'review_date'</span>: <span style=\"color: #008000; text-decoration-color: #008000\">'2017-02-27 13:36:14'</span>,\n",
       "            <span style=\"color: #008000; text-decoration-color: #008000\">'review_id'</span>: <span style=\"color: #008000; text-decoration-color: #008000\">'434e85d0-a6cc-4355-bc1a-3614f0574aa8'</span>,\n",
       "            <span style=\"color: #008000; text-decoration-color: #008000\">'review_rating'</span>: <span style=\"color: #008080; text-decoration-color: #008080; font-weight: bold\">5</span>,\n",
       "            <span style=\"color: #008000; text-decoration-color: #008000\">'review_text'</span>: <span style=\"color: #008000; text-decoration-color: #008000\">'Have no complaints about app'</span>,\n",
       "            <span style=\"color: #008000; text-decoration-color: #008000\">'timestamp'</span>: <span style=\"color: #008080; text-decoration-color: #008080; font-weight: bold\">1488198974.0</span>\n",
       "        <span style=\"font-weight: bold\">}</span>,\n",
       "        <span style=\"color: #808000; text-decoration-color: #808000\">vector</span>=<span style=\"color: #800080; text-decoration-color: #800080; font-style: italic\">None</span>,\n",
       "        <span style=\"color: #808000; text-decoration-color: #808000\">shard_key</span>=<span style=\"color: #800080; text-decoration-color: #800080; font-style: italic\">None</span>\n",
       "    <span style=\"font-weight: bold\">)</span>\n",
       "<span style=\"font-weight: bold\">]</span>\n",
       "</pre>\n"
      ],
      "text/plain": [
       "\u001b[1m[\u001b[0m\n",
       "    \u001b[1;35mScoredPoint\u001b[0m\u001b[1m(\u001b[0m\n",
       "        \u001b[33mid\u001b[0m=\u001b[32m'bac9519b-0005-420d-970e-3ef515f1b3a5'\u001b[0m,\n",
       "        \u001b[33mversion\u001b[0m=\u001b[1;36m369\u001b[0m,\n",
       "        \u001b[33mscore\u001b[0m=\u001b[1;36m0\u001b[0m\u001b[1;36m.84076256\u001b[0m,\n",
       "        \u001b[33mpayload\u001b[0m=\u001b[1m{\u001b[0m\n",
       "            \u001b[32m'author_app_version'\u001b[0m: \u001b[32m'3.5.1 build 1566'\u001b[0m,\n",
       "            \u001b[32m'label'\u001b[0m: \u001b[32m'very good'\u001b[0m,\n",
       "            \u001b[32m'review_date'\u001b[0m: \u001b[32m'2014-06-11 03:56:09'\u001b[0m,\n",
       "            \u001b[32m'review_id'\u001b[0m: \u001b[32m'bac9519b-0005-420d-970e-3ef515f1b3a5'\u001b[0m,\n",
       "            \u001b[32m'review_rating'\u001b[0m: \u001b[1;36m4\u001b[0m,\n",
       "            \u001b[32m'review_text'\u001b[0m: \u001b[32m'This app is very nice. I mostly use it to entertain the kids when we are out and about,\u001b[0m\n",
       "\u001b[32mbut it has never given me any serious problems in that respect. From MY experiences ALONE, I can say I am a \u001b[0m\n",
       "\u001b[32msatisfied customers thus far.'\u001b[0m,\n",
       "            \u001b[32m'timestamp'\u001b[0m: \u001b[1;36m1402455369.0\u001b[0m\n",
       "        \u001b[1m}\u001b[0m,\n",
       "        \u001b[33mvector\u001b[0m=\u001b[3;35mNone\u001b[0m,\n",
       "        \u001b[33mshard_key\u001b[0m=\u001b[3;35mNone\u001b[0m\n",
       "    \u001b[1m)\u001b[0m,\n",
       "    \u001b[1;35mScoredPoint\u001b[0m\u001b[1m(\u001b[0m\n",
       "        \u001b[33mid\u001b[0m=\u001b[32m'af768543-c619-4486-b8b6-e6ae5581bafb'\u001b[0m,\n",
       "        \u001b[33mversion\u001b[0m=\u001b[1;36m1202\u001b[0m,\n",
       "        \u001b[33mscore\u001b[0m=\u001b[1;36m0\u001b[0m\u001b[1;36m.723863\u001b[0m,\n",
       "        \u001b[33mpayload\u001b[0m=\u001b[1m{\u001b[0m\n",
       "            \u001b[32m'author_app_version'\u001b[0m: \u001b[32m'5.16.1 build 26734'\u001b[0m,\n",
       "            \u001b[32m'label'\u001b[0m: \u001b[32m'poor'\u001b[0m,\n",
       "            \u001b[32m'review_date'\u001b[0m: \u001b[32m'2018-06-19 06:09:06'\u001b[0m,\n",
       "            \u001b[32m'review_id'\u001b[0m: \u001b[32m'af768543-c619-4486-b8b6-e6ae5581bafb'\u001b[0m,\n",
       "            \u001b[32m'review_rating'\u001b[0m: \u001b[1;36m2\u001b[0m,\n",
       "            \u001b[32m'review_text'\u001b[0m: \u001b[32m'Very good app, but totally unsatisfactory customer service. Please teach \\nyour \u001b[0m\n",
       "\u001b[32mcustomer service reps to talk to customers with respect if we are \\nhaving an issue that has to be resolved.'\u001b[0m,\n",
       "            \u001b[32m'timestamp'\u001b[0m: \u001b[1;36m1529384946.0\u001b[0m\n",
       "        \u001b[1m}\u001b[0m,\n",
       "        \u001b[33mvector\u001b[0m=\u001b[3;35mNone\u001b[0m,\n",
       "        \u001b[33mshard_key\u001b[0m=\u001b[3;35mNone\u001b[0m\n",
       "    \u001b[1m)\u001b[0m,\n",
       "    \u001b[1;35mScoredPoint\u001b[0m\u001b[1m(\u001b[0m\n",
       "        \u001b[33mid\u001b[0m=\u001b[32m'62c2478d-7ea7-4286-9614-efaa64b950cb'\u001b[0m,\n",
       "        \u001b[33mversion\u001b[0m=\u001b[1;36m83\u001b[0m,\n",
       "        \u001b[33mscore\u001b[0m=\u001b[1;36m0\u001b[0m\u001b[1;36m.71924067\u001b[0m,\n",
       "        \u001b[33mpayload\u001b[0m=\u001b[1m{\u001b[0m\n",
       "            \u001b[32m'author_app_version'\u001b[0m: \u001b[32m''\u001b[0m,\n",
       "            \u001b[32m'label'\u001b[0m: \u001b[32m'excellent'\u001b[0m,\n",
       "            \u001b[32m'review_date'\u001b[0m: \u001b[32m'2012-05-22 16:01:13'\u001b[0m,\n",
       "            \u001b[32m'review_id'\u001b[0m: \u001b[32m'62c2478d-7ea7-4286-9614-efaa64b950cb'\u001b[0m,\n",
       "            \u001b[32m'review_rating'\u001b[0m: \u001b[1;36m5\u001b[0m,\n",
       "            \u001b[32m'review_text'\u001b[0m: \u001b[32m\"I've been a customer for more than 2 years great app\"\u001b[0m,\n",
       "            \u001b[32m'timestamp'\u001b[0m: \u001b[1;36m1337698873.0\u001b[0m\n",
       "        \u001b[1m}\u001b[0m,\n",
       "        \u001b[33mvector\u001b[0m=\u001b[3;35mNone\u001b[0m,\n",
       "        \u001b[33mshard_key\u001b[0m=\u001b[3;35mNone\u001b[0m\n",
       "    \u001b[1m)\u001b[0m,\n",
       "    \u001b[1;35mScoredPoint\u001b[0m\u001b[1m(\u001b[0m\n",
       "        \u001b[33mid\u001b[0m=\u001b[32m'513ebf2b-af2d-4436-9455-30e404ee530b'\u001b[0m,\n",
       "        \u001b[33mversion\u001b[0m=\u001b[1;36m1399\u001b[0m,\n",
       "        \u001b[33mscore\u001b[0m=\u001b[1;36m0\u001b[0m\u001b[1;36m.7089151\u001b[0m,\n",
       "        \u001b[33mpayload\u001b[0m=\u001b[1m{\u001b[0m\n",
       "            \u001b[32m'author_app_version'\u001b[0m: \u001b[32m''\u001b[0m,\n",
       "            \u001b[32m'label'\u001b[0m: \u001b[32m'excellent'\u001b[0m,\n",
       "            \u001b[32m'review_date'\u001b[0m: \u001b[32m'2019-03-03 19:44:08'\u001b[0m,\n",
       "            \u001b[32m'review_id'\u001b[0m: \u001b[32m'513ebf2b-af2d-4436-9455-30e404ee530b'\u001b[0m,\n",
       "            \u001b[32m'review_rating'\u001b[0m: \u001b[1;36m5\u001b[0m,\n",
       "            \u001b[32m'review_text'\u001b[0m: \u001b[32m'good app and customer service when needed'\u001b[0m,\n",
       "            \u001b[32m'timestamp'\u001b[0m: \u001b[1;36m1551638648.0\u001b[0m\n",
       "        \u001b[1m}\u001b[0m,\n",
       "        \u001b[33mvector\u001b[0m=\u001b[3;35mNone\u001b[0m,\n",
       "        \u001b[33mshard_key\u001b[0m=\u001b[3;35mNone\u001b[0m\n",
       "    \u001b[1m)\u001b[0m,\n",
       "    \u001b[1;35mScoredPoint\u001b[0m\u001b[1m(\u001b[0m\n",
       "        \u001b[33mid\u001b[0m=\u001b[32m'434e85d0-a6cc-4355-bc1a-3614f0574aa8'\u001b[0m,\n",
       "        \u001b[33mversion\u001b[0m=\u001b[1;36m863\u001b[0m,\n",
       "        \u001b[33mscore\u001b[0m=\u001b[1;36m0\u001b[0m\u001b[1;36m.7002642\u001b[0m,\n",
       "        \u001b[33mpayload\u001b[0m=\u001b[1m{\u001b[0m\n",
       "            \u001b[32m'author_app_version'\u001b[0m: \u001b[32m'4.13.2 build 14565'\u001b[0m,\n",
       "            \u001b[32m'label'\u001b[0m: \u001b[32m'excellent'\u001b[0m,\n",
       "            \u001b[32m'review_date'\u001b[0m: \u001b[32m'2017-02-27 13:36:14'\u001b[0m,\n",
       "            \u001b[32m'review_id'\u001b[0m: \u001b[32m'434e85d0-a6cc-4355-bc1a-3614f0574aa8'\u001b[0m,\n",
       "            \u001b[32m'review_rating'\u001b[0m: \u001b[1;36m5\u001b[0m,\n",
       "            \u001b[32m'review_text'\u001b[0m: \u001b[32m'Have no complaints about app'\u001b[0m,\n",
       "            \u001b[32m'timestamp'\u001b[0m: \u001b[1;36m1488198974.0\u001b[0m\n",
       "        \u001b[1m}\u001b[0m,\n",
       "        \u001b[33mvector\u001b[0m=\u001b[3;35mNone\u001b[0m,\n",
       "        \u001b[33mshard_key\u001b[0m=\u001b[3;35mNone\u001b[0m\n",
       "    \u001b[1m)\u001b[0m\n",
       "\u001b[1m]\u001b[0m\n"
      ]
     },
     "metadata": {},
     "output_type": "display_data"
    }
   ],
   "source": [
    "N: int = 5_000\n",
    "query: str = \"are the customers satisfied with the app?\"\n",
    "query_vector: list[float] = encoder.encode(query).tolist()\n",
    "\n",
    "\n",
    "hits: list[Any] = client.search(\n",
    "    collection_name=COLLECTION_NAME,\n",
    "    query_vector=query_vector,\n",
    "    query_filter=None,\n",
    "    limit=N,\n",
    ")\n",
    "# for hit in hits:\n",
    "# print(hit.payload, \"score:\", hit.score)\n",
    "\n",
    "print(hits[:5])"
   ]
  },
  {
   "cell_type": "code",
   "execution_count": 25,
   "metadata": {},
   "outputs": [
    {
     "data": {
      "text/plain": [
       "{'very good': 684,\n",
       " 'poor': 92,\n",
       " 'excellent': 3767,\n",
       " 'okay': 225,\n",
       " 'very poor': 231,\n",
       " None: 1}"
      ]
     },
     "execution_count": 25,
     "metadata": {},
     "output_type": "execute_result"
    }
   ],
   "source": [
    "sentiment: dict[str, int] = count_sentiment(hits)\n",
    "sentiment"
   ]
  },
  {
   "cell_type": "code",
   "execution_count": 26,
   "metadata": {},
   "outputs": [
    {
     "data": {
      "application/vnd.plotly.v1+json": {
       "config": {
        "plotlyServerURL": "https://plot.ly"
       },
       "data": [
        {
         "alignmentgroup": "True",
         "hovertemplate": "label=%{x}<br>count=%{y}<extra></extra>",
         "legendgroup": "very good",
         "marker": {
          "color": "#636efa",
          "pattern": {
           "shape": ""
          }
         },
         "name": "very good",
         "offsetgroup": "very good",
         "orientation": "v",
         "showlegend": true,
         "textposition": "auto",
         "texttemplate": "%{y}",
         "type": "bar",
         "x": [
          "very good"
         ],
         "xaxis": "x",
         "y": [
          684
         ],
         "yaxis": "y"
        },
        {
         "alignmentgroup": "True",
         "hovertemplate": "label=%{x}<br>count=%{y}<extra></extra>",
         "legendgroup": "poor",
         "marker": {
          "color": "#EF553B",
          "pattern": {
           "shape": ""
          }
         },
         "name": "poor",
         "offsetgroup": "poor",
         "orientation": "v",
         "showlegend": true,
         "textposition": "auto",
         "texttemplate": "%{y}",
         "type": "bar",
         "x": [
          "poor"
         ],
         "xaxis": "x",
         "y": [
          92
         ],
         "yaxis": "y"
        },
        {
         "alignmentgroup": "True",
         "hovertemplate": "label=%{x}<br>count=%{y}<extra></extra>",
         "legendgroup": "excellent",
         "marker": {
          "color": "#00cc96",
          "pattern": {
           "shape": ""
          }
         },
         "name": "excellent",
         "offsetgroup": "excellent",
         "orientation": "v",
         "showlegend": true,
         "textposition": "auto",
         "texttemplate": "%{y}",
         "type": "bar",
         "x": [
          "excellent"
         ],
         "xaxis": "x",
         "y": [
          3767
         ],
         "yaxis": "y"
        },
        {
         "alignmentgroup": "True",
         "hovertemplate": "label=%{x}<br>count=%{y}<extra></extra>",
         "legendgroup": "okay",
         "marker": {
          "color": "#ab63fa",
          "pattern": {
           "shape": ""
          }
         },
         "name": "okay",
         "offsetgroup": "okay",
         "orientation": "v",
         "showlegend": true,
         "textposition": "auto",
         "texttemplate": "%{y}",
         "type": "bar",
         "x": [
          "okay"
         ],
         "xaxis": "x",
         "y": [
          225
         ],
         "yaxis": "y"
        },
        {
         "alignmentgroup": "True",
         "hovertemplate": "label=%{x}<br>count=%{y}<extra></extra>",
         "legendgroup": "very poor",
         "marker": {
          "color": "#FFA15A",
          "pattern": {
           "shape": ""
          }
         },
         "name": "very poor",
         "offsetgroup": "very poor",
         "orientation": "v",
         "showlegend": true,
         "textposition": "auto",
         "texttemplate": "%{y}",
         "type": "bar",
         "x": [
          "very poor"
         ],
         "xaxis": "x",
         "y": [
          231
         ],
         "yaxis": "y"
        }
       ],
       "layout": {
        "barmode": "relative",
        "legend": {
         "title": {
          "text": "label"
         },
         "tracegroupgap": 0
        },
        "template": {
         "data": {
          "bar": [
           {
            "error_x": {
             "color": "#2a3f5f"
            },
            "error_y": {
             "color": "#2a3f5f"
            },
            "marker": {
             "line": {
              "color": "#E5ECF6",
              "width": 0.5
             },
             "pattern": {
              "fillmode": "overlay",
              "size": 10,
              "solidity": 0.2
             }
            },
            "type": "bar"
           }
          ],
          "barpolar": [
           {
            "marker": {
             "line": {
              "color": "#E5ECF6",
              "width": 0.5
             },
             "pattern": {
              "fillmode": "overlay",
              "size": 10,
              "solidity": 0.2
             }
            },
            "type": "barpolar"
           }
          ],
          "carpet": [
           {
            "aaxis": {
             "endlinecolor": "#2a3f5f",
             "gridcolor": "white",
             "linecolor": "white",
             "minorgridcolor": "white",
             "startlinecolor": "#2a3f5f"
            },
            "baxis": {
             "endlinecolor": "#2a3f5f",
             "gridcolor": "white",
             "linecolor": "white",
             "minorgridcolor": "white",
             "startlinecolor": "#2a3f5f"
            },
            "type": "carpet"
           }
          ],
          "choropleth": [
           {
            "colorbar": {
             "outlinewidth": 0,
             "ticks": ""
            },
            "type": "choropleth"
           }
          ],
          "contour": [
           {
            "colorbar": {
             "outlinewidth": 0,
             "ticks": ""
            },
            "colorscale": [
             [
              0,
              "#0d0887"
             ],
             [
              0.1111111111111111,
              "#46039f"
             ],
             [
              0.2222222222222222,
              "#7201a8"
             ],
             [
              0.3333333333333333,
              "#9c179e"
             ],
             [
              0.4444444444444444,
              "#bd3786"
             ],
             [
              0.5555555555555556,
              "#d8576b"
             ],
             [
              0.6666666666666666,
              "#ed7953"
             ],
             [
              0.7777777777777778,
              "#fb9f3a"
             ],
             [
              0.8888888888888888,
              "#fdca26"
             ],
             [
              1,
              "#f0f921"
             ]
            ],
            "type": "contour"
           }
          ],
          "contourcarpet": [
           {
            "colorbar": {
             "outlinewidth": 0,
             "ticks": ""
            },
            "type": "contourcarpet"
           }
          ],
          "heatmap": [
           {
            "colorbar": {
             "outlinewidth": 0,
             "ticks": ""
            },
            "colorscale": [
             [
              0,
              "#0d0887"
             ],
             [
              0.1111111111111111,
              "#46039f"
             ],
             [
              0.2222222222222222,
              "#7201a8"
             ],
             [
              0.3333333333333333,
              "#9c179e"
             ],
             [
              0.4444444444444444,
              "#bd3786"
             ],
             [
              0.5555555555555556,
              "#d8576b"
             ],
             [
              0.6666666666666666,
              "#ed7953"
             ],
             [
              0.7777777777777778,
              "#fb9f3a"
             ],
             [
              0.8888888888888888,
              "#fdca26"
             ],
             [
              1,
              "#f0f921"
             ]
            ],
            "type": "heatmap"
           }
          ],
          "heatmapgl": [
           {
            "colorbar": {
             "outlinewidth": 0,
             "ticks": ""
            },
            "colorscale": [
             [
              0,
              "#0d0887"
             ],
             [
              0.1111111111111111,
              "#46039f"
             ],
             [
              0.2222222222222222,
              "#7201a8"
             ],
             [
              0.3333333333333333,
              "#9c179e"
             ],
             [
              0.4444444444444444,
              "#bd3786"
             ],
             [
              0.5555555555555556,
              "#d8576b"
             ],
             [
              0.6666666666666666,
              "#ed7953"
             ],
             [
              0.7777777777777778,
              "#fb9f3a"
             ],
             [
              0.8888888888888888,
              "#fdca26"
             ],
             [
              1,
              "#f0f921"
             ]
            ],
            "type": "heatmapgl"
           }
          ],
          "histogram": [
           {
            "marker": {
             "pattern": {
              "fillmode": "overlay",
              "size": 10,
              "solidity": 0.2
             }
            },
            "type": "histogram"
           }
          ],
          "histogram2d": [
           {
            "colorbar": {
             "outlinewidth": 0,
             "ticks": ""
            },
            "colorscale": [
             [
              0,
              "#0d0887"
             ],
             [
              0.1111111111111111,
              "#46039f"
             ],
             [
              0.2222222222222222,
              "#7201a8"
             ],
             [
              0.3333333333333333,
              "#9c179e"
             ],
             [
              0.4444444444444444,
              "#bd3786"
             ],
             [
              0.5555555555555556,
              "#d8576b"
             ],
             [
              0.6666666666666666,
              "#ed7953"
             ],
             [
              0.7777777777777778,
              "#fb9f3a"
             ],
             [
              0.8888888888888888,
              "#fdca26"
             ],
             [
              1,
              "#f0f921"
             ]
            ],
            "type": "histogram2d"
           }
          ],
          "histogram2dcontour": [
           {
            "colorbar": {
             "outlinewidth": 0,
             "ticks": ""
            },
            "colorscale": [
             [
              0,
              "#0d0887"
             ],
             [
              0.1111111111111111,
              "#46039f"
             ],
             [
              0.2222222222222222,
              "#7201a8"
             ],
             [
              0.3333333333333333,
              "#9c179e"
             ],
             [
              0.4444444444444444,
              "#bd3786"
             ],
             [
              0.5555555555555556,
              "#d8576b"
             ],
             [
              0.6666666666666666,
              "#ed7953"
             ],
             [
              0.7777777777777778,
              "#fb9f3a"
             ],
             [
              0.8888888888888888,
              "#fdca26"
             ],
             [
              1,
              "#f0f921"
             ]
            ],
            "type": "histogram2dcontour"
           }
          ],
          "mesh3d": [
           {
            "colorbar": {
             "outlinewidth": 0,
             "ticks": ""
            },
            "type": "mesh3d"
           }
          ],
          "parcoords": [
           {
            "line": {
             "colorbar": {
              "outlinewidth": 0,
              "ticks": ""
             }
            },
            "type": "parcoords"
           }
          ],
          "pie": [
           {
            "automargin": true,
            "type": "pie"
           }
          ],
          "scatter": [
           {
            "fillpattern": {
             "fillmode": "overlay",
             "size": 10,
             "solidity": 0.2
            },
            "type": "scatter"
           }
          ],
          "scatter3d": [
           {
            "line": {
             "colorbar": {
              "outlinewidth": 0,
              "ticks": ""
             }
            },
            "marker": {
             "colorbar": {
              "outlinewidth": 0,
              "ticks": ""
             }
            },
            "type": "scatter3d"
           }
          ],
          "scattercarpet": [
           {
            "marker": {
             "colorbar": {
              "outlinewidth": 0,
              "ticks": ""
             }
            },
            "type": "scattercarpet"
           }
          ],
          "scattergeo": [
           {
            "marker": {
             "colorbar": {
              "outlinewidth": 0,
              "ticks": ""
             }
            },
            "type": "scattergeo"
           }
          ],
          "scattergl": [
           {
            "marker": {
             "colorbar": {
              "outlinewidth": 0,
              "ticks": ""
             }
            },
            "type": "scattergl"
           }
          ],
          "scattermapbox": [
           {
            "marker": {
             "colorbar": {
              "outlinewidth": 0,
              "ticks": ""
             }
            },
            "type": "scattermapbox"
           }
          ],
          "scatterpolar": [
           {
            "marker": {
             "colorbar": {
              "outlinewidth": 0,
              "ticks": ""
             }
            },
            "type": "scatterpolar"
           }
          ],
          "scatterpolargl": [
           {
            "marker": {
             "colorbar": {
              "outlinewidth": 0,
              "ticks": ""
             }
            },
            "type": "scatterpolargl"
           }
          ],
          "scatterternary": [
           {
            "marker": {
             "colorbar": {
              "outlinewidth": 0,
              "ticks": ""
             }
            },
            "type": "scatterternary"
           }
          ],
          "surface": [
           {
            "colorbar": {
             "outlinewidth": 0,
             "ticks": ""
            },
            "colorscale": [
             [
              0,
              "#0d0887"
             ],
             [
              0.1111111111111111,
              "#46039f"
             ],
             [
              0.2222222222222222,
              "#7201a8"
             ],
             [
              0.3333333333333333,
              "#9c179e"
             ],
             [
              0.4444444444444444,
              "#bd3786"
             ],
             [
              0.5555555555555556,
              "#d8576b"
             ],
             [
              0.6666666666666666,
              "#ed7953"
             ],
             [
              0.7777777777777778,
              "#fb9f3a"
             ],
             [
              0.8888888888888888,
              "#fdca26"
             ],
             [
              1,
              "#f0f921"
             ]
            ],
            "type": "surface"
           }
          ],
          "table": [
           {
            "cells": {
             "fill": {
              "color": "#EBF0F8"
             },
             "line": {
              "color": "white"
             }
            },
            "header": {
             "fill": {
              "color": "#C8D4E3"
             },
             "line": {
              "color": "white"
             }
            },
            "type": "table"
           }
          ]
         },
         "layout": {
          "annotationdefaults": {
           "arrowcolor": "#2a3f5f",
           "arrowhead": 0,
           "arrowwidth": 1
          },
          "autotypenumbers": "strict",
          "coloraxis": {
           "colorbar": {
            "outlinewidth": 0,
            "ticks": ""
           }
          },
          "colorscale": {
           "diverging": [
            [
             0,
             "#8e0152"
            ],
            [
             0.1,
             "#c51b7d"
            ],
            [
             0.2,
             "#de77ae"
            ],
            [
             0.3,
             "#f1b6da"
            ],
            [
             0.4,
             "#fde0ef"
            ],
            [
             0.5,
             "#f7f7f7"
            ],
            [
             0.6,
             "#e6f5d0"
            ],
            [
             0.7,
             "#b8e186"
            ],
            [
             0.8,
             "#7fbc41"
            ],
            [
             0.9,
             "#4d9221"
            ],
            [
             1,
             "#276419"
            ]
           ],
           "sequential": [
            [
             0,
             "#0d0887"
            ],
            [
             0.1111111111111111,
             "#46039f"
            ],
            [
             0.2222222222222222,
             "#7201a8"
            ],
            [
             0.3333333333333333,
             "#9c179e"
            ],
            [
             0.4444444444444444,
             "#bd3786"
            ],
            [
             0.5555555555555556,
             "#d8576b"
            ],
            [
             0.6666666666666666,
             "#ed7953"
            ],
            [
             0.7777777777777778,
             "#fb9f3a"
            ],
            [
             0.8888888888888888,
             "#fdca26"
            ],
            [
             1,
             "#f0f921"
            ]
           ],
           "sequentialminus": [
            [
             0,
             "#0d0887"
            ],
            [
             0.1111111111111111,
             "#46039f"
            ],
            [
             0.2222222222222222,
             "#7201a8"
            ],
            [
             0.3333333333333333,
             "#9c179e"
            ],
            [
             0.4444444444444444,
             "#bd3786"
            ],
            [
             0.5555555555555556,
             "#d8576b"
            ],
            [
             0.6666666666666666,
             "#ed7953"
            ],
            [
             0.7777777777777778,
             "#fb9f3a"
            ],
            [
             0.8888888888888888,
             "#fdca26"
            ],
            [
             1,
             "#f0f921"
            ]
           ]
          },
          "colorway": [
           "#636efa",
           "#EF553B",
           "#00cc96",
           "#ab63fa",
           "#FFA15A",
           "#19d3f3",
           "#FF6692",
           "#B6E880",
           "#FF97FF",
           "#FECB52"
          ],
          "font": {
           "color": "#2a3f5f"
          },
          "geo": {
           "bgcolor": "white",
           "lakecolor": "white",
           "landcolor": "#E5ECF6",
           "showlakes": true,
           "showland": true,
           "subunitcolor": "white"
          },
          "hoverlabel": {
           "align": "left"
          },
          "hovermode": "closest",
          "mapbox": {
           "style": "light"
          },
          "paper_bgcolor": "white",
          "plot_bgcolor": "#E5ECF6",
          "polar": {
           "angularaxis": {
            "gridcolor": "white",
            "linecolor": "white",
            "ticks": ""
           },
           "bgcolor": "#E5ECF6",
           "radialaxis": {
            "gridcolor": "white",
            "linecolor": "white",
            "ticks": ""
           }
          },
          "scene": {
           "xaxis": {
            "backgroundcolor": "#E5ECF6",
            "gridcolor": "white",
            "gridwidth": 2,
            "linecolor": "white",
            "showbackground": true,
            "ticks": "",
            "zerolinecolor": "white"
           },
           "yaxis": {
            "backgroundcolor": "#E5ECF6",
            "gridcolor": "white",
            "gridwidth": 2,
            "linecolor": "white",
            "showbackground": true,
            "ticks": "",
            "zerolinecolor": "white"
           },
           "zaxis": {
            "backgroundcolor": "#E5ECF6",
            "gridcolor": "white",
            "gridwidth": 2,
            "linecolor": "white",
            "showbackground": true,
            "ticks": "",
            "zerolinecolor": "white"
           }
          },
          "shapedefaults": {
           "line": {
            "color": "#2a3f5f"
           }
          },
          "ternary": {
           "aaxis": {
            "gridcolor": "white",
            "linecolor": "white",
            "ticks": ""
           },
           "baxis": {
            "gridcolor": "white",
            "linecolor": "white",
            "ticks": ""
           },
           "bgcolor": "#E5ECF6",
           "caxis": {
            "gridcolor": "white",
            "linecolor": "white",
            "ticks": ""
           }
          },
          "title": {
           "x": 0.05
          },
          "xaxis": {
           "automargin": true,
           "gridcolor": "white",
           "linecolor": "white",
           "ticks": "",
           "title": {
            "standoff": 15
           },
           "zerolinecolor": "white",
           "zerolinewidth": 2
          },
          "yaxis": {
           "automargin": true,
           "gridcolor": "white",
           "linecolor": "white",
           "ticks": "",
           "title": {
            "standoff": 15
           },
           "zerolinecolor": "white",
           "zerolinewidth": 2
          }
         }
        },
        "title": {
         "text": "are the customers satisfied with the app?"
        },
        "xaxis": {
         "anchor": "y",
         "categoryarray": [
          "very good",
          "poor",
          "excellent",
          "okay",
          "very poor"
         ],
         "categoryorder": "array",
         "domain": [
          0,
          1
         ],
         "title": {
          "text": "label"
         }
        },
        "yaxis": {
         "anchor": "x",
         "domain": [
          0,
          1
         ],
         "title": {
          "text": "count"
         }
        }
       }
      }
     },
     "metadata": {},
     "output_type": "display_data"
    }
   ],
   "source": [
    "visualize_result(sentiment=sentiment, query=query)"
   ]
  },
  {
   "cell_type": "code",
   "execution_count": 27,
   "metadata": {},
   "outputs": [
    {
     "data": {
      "text/html": [
       "<pre style=\"white-space:pre;overflow-x:auto;line-height:normal;font-family:Menlo,'DejaVu Sans Mono',consolas,'Courier New',monospace\"><span style=\"font-weight: bold\">[</span>\n",
       "    <span style=\"color: #800080; text-decoration-color: #800080; font-weight: bold\">ScoredPoint</span><span style=\"font-weight: bold\">(</span>\n",
       "        <span style=\"color: #808000; text-decoration-color: #808000\">id</span>=<span style=\"color: #008000; text-decoration-color: #008000\">'1fd5cc16-353d-488f-b09a-c67b895348ab'</span>,\n",
       "        <span style=\"color: #808000; text-decoration-color: #808000\">version</span>=<span style=\"color: #008080; text-decoration-color: #008080; font-weight: bold\">1309</span>,\n",
       "        <span style=\"color: #808000; text-decoration-color: #808000\">score</span>=<span style=\"color: #008080; text-decoration-color: #008080; font-weight: bold\">0.7752483</span>,\n",
       "        <span style=\"color: #808000; text-decoration-color: #808000\">payload</span>=<span style=\"font-weight: bold\">{</span>\n",
       "            <span style=\"color: #008000; text-decoration-color: #008000\">'author_app_version'</span>: <span style=\"color: #008000; text-decoration-color: #008000\">'3.16.3 build 5359'</span>,\n",
       "            <span style=\"color: #008000; text-decoration-color: #008000\">'label'</span>: <span style=\"color: #008000; text-decoration-color: #008000\">'excellent'</span>,\n",
       "            <span style=\"color: #008000; text-decoration-color: #008000\">'review_date'</span>: <span style=\"color: #008000; text-decoration-color: #008000\">'2018-11-11 14:53:02'</span>,\n",
       "            <span style=\"color: #008000; text-decoration-color: #008000\">'review_id'</span>: <span style=\"color: #008000; text-decoration-color: #008000\">'1fd5cc16-353d-488f-b09a-c67b895348ab'</span>,\n",
       "            <span style=\"color: #008000; text-decoration-color: #008000\">'review_rating'</span>: <span style=\"color: #008080; text-decoration-color: #008080; font-weight: bold\">5</span>,\n",
       "            <span style=\"color: #008000; text-decoration-color: #008000\">'review_text'</span>: <span style=\"color: #008000; text-decoration-color: #008000\">'I love it?'</span>,\n",
       "            <span style=\"color: #008000; text-decoration-color: #008000\">'timestamp'</span>: <span style=\"color: #008080; text-decoration-color: #008080; font-weight: bold\">1541944382.0</span>\n",
       "        <span style=\"font-weight: bold\">}</span>,\n",
       "        <span style=\"color: #808000; text-decoration-color: #808000\">vector</span>=<span style=\"color: #800080; text-decoration-color: #800080; font-style: italic\">None</span>,\n",
       "        <span style=\"color: #808000; text-decoration-color: #808000\">shard_key</span>=<span style=\"color: #800080; text-decoration-color: #800080; font-style: italic\">None</span>\n",
       "    <span style=\"font-weight: bold\">)</span>,\n",
       "    <span style=\"color: #800080; text-decoration-color: #800080; font-weight: bold\">ScoredPoint</span><span style=\"font-weight: bold\">(</span>\n",
       "        <span style=\"color: #808000; text-decoration-color: #808000\">id</span>=<span style=\"color: #008000; text-decoration-color: #008000\">'a28ea87f-eb1d-4261-b070-4295dfdee24f'</span>,\n",
       "        <span style=\"color: #808000; text-decoration-color: #808000\">version</span>=<span style=\"color: #008080; text-decoration-color: #008080; font-weight: bold\">1399</span>,\n",
       "        <span style=\"color: #808000; text-decoration-color: #808000\">score</span>=<span style=\"color: #008080; text-decoration-color: #008080; font-weight: bold\">0.74413604</span>,\n",
       "        <span style=\"color: #808000; text-decoration-color: #808000\">payload</span>=<span style=\"font-weight: bold\">{</span>\n",
       "            <span style=\"color: #008000; text-decoration-color: #008000\">'author_app_version'</span>: <span style=\"color: #008000; text-decoration-color: #008000\">'6.24.0 build 12 31651'</span>,\n",
       "            <span style=\"color: #008000; text-decoration-color: #008000\">'label'</span>: <span style=\"color: #008000; text-decoration-color: #008000\">'excellent'</span>,\n",
       "            <span style=\"color: #008000; text-decoration-color: #008000\">'review_date'</span>: <span style=\"color: #008000; text-decoration-color: #008000\">'2019-03-04 02:56:52'</span>,\n",
       "            <span style=\"color: #008000; text-decoration-color: #008000\">'review_id'</span>: <span style=\"color: #008000; text-decoration-color: #008000\">'a28ea87f-eb1d-4261-b070-4295dfdee24f'</span>,\n",
       "            <span style=\"color: #008000; text-decoration-color: #008000\">'review_rating'</span>: <span style=\"color: #008080; text-decoration-color: #008080; font-weight: bold\">5</span>,\n",
       "            <span style=\"color: #008000; text-decoration-color: #008000\">'review_text'</span>: <span style=\"color: #008000; text-decoration-color: #008000\">'I like it ?'</span>,\n",
       "            <span style=\"color: #008000; text-decoration-color: #008000\">'timestamp'</span>: <span style=\"color: #008080; text-decoration-color: #008080; font-weight: bold\">1551664612.0</span>\n",
       "        <span style=\"font-weight: bold\">}</span>,\n",
       "        <span style=\"color: #808000; text-decoration-color: #808000\">vector</span>=<span style=\"color: #800080; text-decoration-color: #800080; font-style: italic\">None</span>,\n",
       "        <span style=\"color: #808000; text-decoration-color: #808000\">shard_key</span>=<span style=\"color: #800080; text-decoration-color: #800080; font-style: italic\">None</span>\n",
       "    <span style=\"font-weight: bold\">)</span>,\n",
       "    <span style=\"color: #800080; text-decoration-color: #800080; font-weight: bold\">ScoredPoint</span><span style=\"font-weight: bold\">(</span>\n",
       "        <span style=\"color: #808000; text-decoration-color: #808000\">id</span>=<span style=\"color: #008000; text-decoration-color: #008000\">'e741c76d-daba-4308-a424-03f703c2dedd'</span>,\n",
       "        <span style=\"color: #808000; text-decoration-color: #808000\">version</span>=<span style=\"color: #008080; text-decoration-color: #008080; font-weight: bold\">1244</span>,\n",
       "        <span style=\"color: #808000; text-decoration-color: #808000\">score</span>=<span style=\"color: #008080; text-decoration-color: #008080; font-weight: bold\">0.7029816</span>,\n",
       "        <span style=\"color: #808000; text-decoration-color: #808000\">payload</span>=<span style=\"font-weight: bold\">{</span>\n",
       "            <span style=\"color: #008000; text-decoration-color: #008000\">'author_app_version'</span>: <span style=\"color: #008000; text-decoration-color: #008000\">'6.9.1 build 29147'</span>,\n",
       "            <span style=\"color: #008000; text-decoration-color: #008000\">'label'</span>: <span style=\"color: #008000; text-decoration-color: #008000\">'excellent'</span>,\n",
       "            <span style=\"color: #008000; text-decoration-color: #008000\">'review_date'</span>: <span style=\"color: #008000; text-decoration-color: #008000\">'2018-08-22 02:41:04'</span>,\n",
       "            <span style=\"color: #008000; text-decoration-color: #008000\">'review_id'</span>: <span style=\"color: #008000; text-decoration-color: #008000\">'e741c76d-daba-4308-a424-03f703c2dedd'</span>,\n",
       "            <span style=\"color: #008000; text-decoration-color: #008000\">'review_rating'</span>: <span style=\"color: #008080; text-decoration-color: #008080; font-weight: bold\">5</span>,\n",
       "            <span style=\"color: #008000; text-decoration-color: #008000\">'review_text'</span>: <span style=\"color: #008000; text-decoration-color: #008000\">'Love it?'</span>,\n",
       "            <span style=\"color: #008000; text-decoration-color: #008000\">'timestamp'</span>: <span style=\"color: #008080; text-decoration-color: #008080; font-weight: bold\">1534902064.0</span>\n",
       "        <span style=\"font-weight: bold\">}</span>,\n",
       "        <span style=\"color: #808000; text-decoration-color: #808000\">vector</span>=<span style=\"color: #800080; text-decoration-color: #800080; font-style: italic\">None</span>,\n",
       "        <span style=\"color: #808000; text-decoration-color: #808000\">shard_key</span>=<span style=\"color: #800080; text-decoration-color: #800080; font-style: italic\">None</span>\n",
       "    <span style=\"font-weight: bold\">)</span>,\n",
       "    <span style=\"color: #800080; text-decoration-color: #800080; font-weight: bold\">ScoredPoint</span><span style=\"font-weight: bold\">(</span>\n",
       "        <span style=\"color: #808000; text-decoration-color: #808000\">id</span>=<span style=\"color: #008000; text-decoration-color: #008000\">'ca435235-92aa-4c3c-8177-1643644ff7e2'</span>,\n",
       "        <span style=\"color: #808000; text-decoration-color: #808000\">version</span>=<span style=\"color: #008080; text-decoration-color: #008080; font-weight: bold\">462</span>,\n",
       "        <span style=\"color: #808000; text-decoration-color: #808000\">score</span>=<span style=\"color: #008080; text-decoration-color: #008080; font-weight: bold\">0.70298153</span>,\n",
       "        <span style=\"color: #808000; text-decoration-color: #808000\">payload</span>=<span style=\"font-weight: bold\">{</span>\n",
       "            <span style=\"color: #008000; text-decoration-color: #008000\">'author_app_version'</span>: <span style=\"color: #008000; text-decoration-color: #008000\">''</span>,\n",
       "            <span style=\"color: #008000; text-decoration-color: #008000\">'label'</span>: <span style=\"color: #008000; text-decoration-color: #008000\">'very good'</span>,\n",
       "            <span style=\"color: #008000; text-decoration-color: #008000\">'review_date'</span>: <span style=\"color: #008000; text-decoration-color: #008000\">'2014-12-16 01:56:24'</span>,\n",
       "            <span style=\"color: #008000; text-decoration-color: #008000\">'review_id'</span>: <span style=\"color: #008000; text-decoration-color: #008000\">'ca435235-92aa-4c3c-8177-1643644ff7e2'</span>,\n",
       "            <span style=\"color: #008000; text-decoration-color: #008000\">'review_rating'</span>: <span style=\"color: #008080; text-decoration-color: #008080; font-weight: bold\">4</span>,\n",
       "            <span style=\"color: #008000; text-decoration-color: #008000\">'review_text'</span>: <span style=\"color: #008000; text-decoration-color: #008000\">'Love it ?'</span>,\n",
       "            <span style=\"color: #008000; text-decoration-color: #008000\">'timestamp'</span>: <span style=\"color: #008080; text-decoration-color: #008080; font-weight: bold\">1418691384.0</span>\n",
       "        <span style=\"font-weight: bold\">}</span>,\n",
       "        <span style=\"color: #808000; text-decoration-color: #808000\">vector</span>=<span style=\"color: #800080; text-decoration-color: #800080; font-style: italic\">None</span>,\n",
       "        <span style=\"color: #808000; text-decoration-color: #808000\">shard_key</span>=<span style=\"color: #800080; text-decoration-color: #800080; font-style: italic\">None</span>\n",
       "    <span style=\"font-weight: bold\">)</span>,\n",
       "    <span style=\"color: #800080; text-decoration-color: #800080; font-weight: bold\">ScoredPoint</span><span style=\"font-weight: bold\">(</span>\n",
       "        <span style=\"color: #808000; text-decoration-color: #808000\">id</span>=<span style=\"color: #008000; text-decoration-color: #008000\">'b6528ee2-0e7c-4d24-834f-d2c4bbb3615e'</span>,\n",
       "        <span style=\"color: #808000; text-decoration-color: #808000\">version</span>=<span style=\"color: #008080; text-decoration-color: #008080; font-weight: bold\">868</span>,\n",
       "        <span style=\"color: #808000; text-decoration-color: #808000\">score</span>=<span style=\"color: #008080; text-decoration-color: #008080; font-weight: bold\">0.7003145</span>,\n",
       "        <span style=\"color: #808000; text-decoration-color: #808000\">payload</span>=<span style=\"font-weight: bold\">{</span>\n",
       "            <span style=\"color: #008000; text-decoration-color: #008000\">'author_app_version'</span>: <span style=\"color: #008000; text-decoration-color: #008000\">''</span>,\n",
       "            <span style=\"color: #008000; text-decoration-color: #008000\">'label'</span>: <span style=\"color: #008000; text-decoration-color: #008000\">'excellent'</span>,\n",
       "            <span style=\"color: #008000; text-decoration-color: #008000\">'review_date'</span>: <span style=\"color: #008000; text-decoration-color: #008000\">'2017-03-05 10:32:03'</span>,\n",
       "            <span style=\"color: #008000; text-decoration-color: #008000\">'review_id'</span>: <span style=\"color: #008000; text-decoration-color: #008000\">'b6528ee2-0e7c-4d24-834f-d2c4bbb3615e'</span>,\n",
       "            <span style=\"color: #008000; text-decoration-color: #008000\">'review_rating'</span>: <span style=\"color: #008080; text-decoration-color: #008080; font-weight: bold\">5</span>,\n",
       "            <span style=\"color: #008000; text-decoration-color: #008000\">'review_text'</span>: <span style=\"color: #008000; text-decoration-color: #008000\">'Yes I like it'</span>,\n",
       "            <span style=\"color: #008000; text-decoration-color: #008000\">'timestamp'</span>: <span style=\"color: #008080; text-decoration-color: #008080; font-weight: bold\">1488706323.0</span>\n",
       "        <span style=\"font-weight: bold\">}</span>,\n",
       "        <span style=\"color: #808000; text-decoration-color: #808000\">vector</span>=<span style=\"color: #800080; text-decoration-color: #800080; font-style: italic\">None</span>,\n",
       "        <span style=\"color: #808000; text-decoration-color: #808000\">shard_key</span>=<span style=\"color: #800080; text-decoration-color: #800080; font-style: italic\">None</span>\n",
       "    <span style=\"font-weight: bold\">)</span>\n",
       "<span style=\"font-weight: bold\">]</span>\n",
       "</pre>\n"
      ],
      "text/plain": [
       "\u001b[1m[\u001b[0m\n",
       "    \u001b[1;35mScoredPoint\u001b[0m\u001b[1m(\u001b[0m\n",
       "        \u001b[33mid\u001b[0m=\u001b[32m'1fd5cc16-353d-488f-b09a-c67b895348ab'\u001b[0m,\n",
       "        \u001b[33mversion\u001b[0m=\u001b[1;36m1309\u001b[0m,\n",
       "        \u001b[33mscore\u001b[0m=\u001b[1;36m0\u001b[0m\u001b[1;36m.7752483\u001b[0m,\n",
       "        \u001b[33mpayload\u001b[0m=\u001b[1m{\u001b[0m\n",
       "            \u001b[32m'author_app_version'\u001b[0m: \u001b[32m'3.16.3 build 5359'\u001b[0m,\n",
       "            \u001b[32m'label'\u001b[0m: \u001b[32m'excellent'\u001b[0m,\n",
       "            \u001b[32m'review_date'\u001b[0m: \u001b[32m'2018-11-11 14:53:02'\u001b[0m,\n",
       "            \u001b[32m'review_id'\u001b[0m: \u001b[32m'1fd5cc16-353d-488f-b09a-c67b895348ab'\u001b[0m,\n",
       "            \u001b[32m'review_rating'\u001b[0m: \u001b[1;36m5\u001b[0m,\n",
       "            \u001b[32m'review_text'\u001b[0m: \u001b[32m'I love it?'\u001b[0m,\n",
       "            \u001b[32m'timestamp'\u001b[0m: \u001b[1;36m1541944382.0\u001b[0m\n",
       "        \u001b[1m}\u001b[0m,\n",
       "        \u001b[33mvector\u001b[0m=\u001b[3;35mNone\u001b[0m,\n",
       "        \u001b[33mshard_key\u001b[0m=\u001b[3;35mNone\u001b[0m\n",
       "    \u001b[1m)\u001b[0m,\n",
       "    \u001b[1;35mScoredPoint\u001b[0m\u001b[1m(\u001b[0m\n",
       "        \u001b[33mid\u001b[0m=\u001b[32m'a28ea87f-eb1d-4261-b070-4295dfdee24f'\u001b[0m,\n",
       "        \u001b[33mversion\u001b[0m=\u001b[1;36m1399\u001b[0m,\n",
       "        \u001b[33mscore\u001b[0m=\u001b[1;36m0\u001b[0m\u001b[1;36m.74413604\u001b[0m,\n",
       "        \u001b[33mpayload\u001b[0m=\u001b[1m{\u001b[0m\n",
       "            \u001b[32m'author_app_version'\u001b[0m: \u001b[32m'6.24.0 build 12 31651'\u001b[0m,\n",
       "            \u001b[32m'label'\u001b[0m: \u001b[32m'excellent'\u001b[0m,\n",
       "            \u001b[32m'review_date'\u001b[0m: \u001b[32m'2019-03-04 02:56:52'\u001b[0m,\n",
       "            \u001b[32m'review_id'\u001b[0m: \u001b[32m'a28ea87f-eb1d-4261-b070-4295dfdee24f'\u001b[0m,\n",
       "            \u001b[32m'review_rating'\u001b[0m: \u001b[1;36m5\u001b[0m,\n",
       "            \u001b[32m'review_text'\u001b[0m: \u001b[32m'I like it ?'\u001b[0m,\n",
       "            \u001b[32m'timestamp'\u001b[0m: \u001b[1;36m1551664612.0\u001b[0m\n",
       "        \u001b[1m}\u001b[0m,\n",
       "        \u001b[33mvector\u001b[0m=\u001b[3;35mNone\u001b[0m,\n",
       "        \u001b[33mshard_key\u001b[0m=\u001b[3;35mNone\u001b[0m\n",
       "    \u001b[1m)\u001b[0m,\n",
       "    \u001b[1;35mScoredPoint\u001b[0m\u001b[1m(\u001b[0m\n",
       "        \u001b[33mid\u001b[0m=\u001b[32m'e741c76d-daba-4308-a424-03f703c2dedd'\u001b[0m,\n",
       "        \u001b[33mversion\u001b[0m=\u001b[1;36m1244\u001b[0m,\n",
       "        \u001b[33mscore\u001b[0m=\u001b[1;36m0\u001b[0m\u001b[1;36m.7029816\u001b[0m,\n",
       "        \u001b[33mpayload\u001b[0m=\u001b[1m{\u001b[0m\n",
       "            \u001b[32m'author_app_version'\u001b[0m: \u001b[32m'6.9.1 build 29147'\u001b[0m,\n",
       "            \u001b[32m'label'\u001b[0m: \u001b[32m'excellent'\u001b[0m,\n",
       "            \u001b[32m'review_date'\u001b[0m: \u001b[32m'2018-08-22 02:41:04'\u001b[0m,\n",
       "            \u001b[32m'review_id'\u001b[0m: \u001b[32m'e741c76d-daba-4308-a424-03f703c2dedd'\u001b[0m,\n",
       "            \u001b[32m'review_rating'\u001b[0m: \u001b[1;36m5\u001b[0m,\n",
       "            \u001b[32m'review_text'\u001b[0m: \u001b[32m'Love it?'\u001b[0m,\n",
       "            \u001b[32m'timestamp'\u001b[0m: \u001b[1;36m1534902064.0\u001b[0m\n",
       "        \u001b[1m}\u001b[0m,\n",
       "        \u001b[33mvector\u001b[0m=\u001b[3;35mNone\u001b[0m,\n",
       "        \u001b[33mshard_key\u001b[0m=\u001b[3;35mNone\u001b[0m\n",
       "    \u001b[1m)\u001b[0m,\n",
       "    \u001b[1;35mScoredPoint\u001b[0m\u001b[1m(\u001b[0m\n",
       "        \u001b[33mid\u001b[0m=\u001b[32m'ca435235-92aa-4c3c-8177-1643644ff7e2'\u001b[0m,\n",
       "        \u001b[33mversion\u001b[0m=\u001b[1;36m462\u001b[0m,\n",
       "        \u001b[33mscore\u001b[0m=\u001b[1;36m0\u001b[0m\u001b[1;36m.70298153\u001b[0m,\n",
       "        \u001b[33mpayload\u001b[0m=\u001b[1m{\u001b[0m\n",
       "            \u001b[32m'author_app_version'\u001b[0m: \u001b[32m''\u001b[0m,\n",
       "            \u001b[32m'label'\u001b[0m: \u001b[32m'very good'\u001b[0m,\n",
       "            \u001b[32m'review_date'\u001b[0m: \u001b[32m'2014-12-16 01:56:24'\u001b[0m,\n",
       "            \u001b[32m'review_id'\u001b[0m: \u001b[32m'ca435235-92aa-4c3c-8177-1643644ff7e2'\u001b[0m,\n",
       "            \u001b[32m'review_rating'\u001b[0m: \u001b[1;36m4\u001b[0m,\n",
       "            \u001b[32m'review_text'\u001b[0m: \u001b[32m'Love it ?'\u001b[0m,\n",
       "            \u001b[32m'timestamp'\u001b[0m: \u001b[1;36m1418691384.0\u001b[0m\n",
       "        \u001b[1m}\u001b[0m,\n",
       "        \u001b[33mvector\u001b[0m=\u001b[3;35mNone\u001b[0m,\n",
       "        \u001b[33mshard_key\u001b[0m=\u001b[3;35mNone\u001b[0m\n",
       "    \u001b[1m)\u001b[0m,\n",
       "    \u001b[1;35mScoredPoint\u001b[0m\u001b[1m(\u001b[0m\n",
       "        \u001b[33mid\u001b[0m=\u001b[32m'b6528ee2-0e7c-4d24-834f-d2c4bbb3615e'\u001b[0m,\n",
       "        \u001b[33mversion\u001b[0m=\u001b[1;36m868\u001b[0m,\n",
       "        \u001b[33mscore\u001b[0m=\u001b[1;36m0\u001b[0m\u001b[1;36m.7003145\u001b[0m,\n",
       "        \u001b[33mpayload\u001b[0m=\u001b[1m{\u001b[0m\n",
       "            \u001b[32m'author_app_version'\u001b[0m: \u001b[32m''\u001b[0m,\n",
       "            \u001b[32m'label'\u001b[0m: \u001b[32m'excellent'\u001b[0m,\n",
       "            \u001b[32m'review_date'\u001b[0m: \u001b[32m'2017-03-05 10:32:03'\u001b[0m,\n",
       "            \u001b[32m'review_id'\u001b[0m: \u001b[32m'b6528ee2-0e7c-4d24-834f-d2c4bbb3615e'\u001b[0m,\n",
       "            \u001b[32m'review_rating'\u001b[0m: \u001b[1;36m5\u001b[0m,\n",
       "            \u001b[32m'review_text'\u001b[0m: \u001b[32m'Yes I like it'\u001b[0m,\n",
       "            \u001b[32m'timestamp'\u001b[0m: \u001b[1;36m1488706323.0\u001b[0m\n",
       "        \u001b[1m}\u001b[0m,\n",
       "        \u001b[33mvector\u001b[0m=\u001b[3;35mNone\u001b[0m,\n",
       "        \u001b[33mshard_key\u001b[0m=\u001b[3;35mNone\u001b[0m\n",
       "    \u001b[1m)\u001b[0m\n",
       "\u001b[1m]\u001b[0m\n"
      ]
     },
     "metadata": {},
     "output_type": "display_data"
    },
    {
     "data": {
      "application/vnd.plotly.v1+json": {
       "config": {
        "plotlyServerURL": "https://plot.ly"
       },
       "data": [
        {
         "alignmentgroup": "True",
         "hovertemplate": "label=%{x}<br>count=%{y}<extra></extra>",
         "legendgroup": "excellent",
         "marker": {
          "color": "#636efa",
          "pattern": {
           "shape": ""
          }
         },
         "name": "excellent",
         "offsetgroup": "excellent",
         "orientation": "v",
         "showlegend": true,
         "textposition": "auto",
         "texttemplate": "%{y}",
         "type": "bar",
         "x": [
          "excellent"
         ],
         "xaxis": "x",
         "y": [
          4692
         ],
         "yaxis": "y"
        },
        {
         "alignmentgroup": "True",
         "hovertemplate": "label=%{x}<br>count=%{y}<extra></extra>",
         "legendgroup": "very good",
         "marker": {
          "color": "#EF553B",
          "pattern": {
           "shape": ""
          }
         },
         "name": "very good",
         "offsetgroup": "very good",
         "orientation": "v",
         "showlegend": true,
         "textposition": "auto",
         "texttemplate": "%{y}",
         "type": "bar",
         "x": [
          "very good"
         ],
         "xaxis": "x",
         "y": [
          222
         ],
         "yaxis": "y"
        },
        {
         "alignmentgroup": "True",
         "hovertemplate": "label=%{x}<br>count=%{y}<extra></extra>",
         "legendgroup": "very poor",
         "marker": {
          "color": "#00cc96",
          "pattern": {
           "shape": ""
          }
         },
         "name": "very poor",
         "offsetgroup": "very poor",
         "orientation": "v",
         "showlegend": true,
         "textposition": "auto",
         "texttemplate": "%{y}",
         "type": "bar",
         "x": [
          "very poor"
         ],
         "xaxis": "x",
         "y": [
          37
         ],
         "yaxis": "y"
        },
        {
         "alignmentgroup": "True",
         "hovertemplate": "label=%{x}<br>count=%{y}<extra></extra>",
         "legendgroup": "okay",
         "marker": {
          "color": "#ab63fa",
          "pattern": {
           "shape": ""
          }
         },
         "name": "okay",
         "offsetgroup": "okay",
         "orientation": "v",
         "showlegend": true,
         "textposition": "auto",
         "texttemplate": "%{y}",
         "type": "bar",
         "x": [
          "okay"
         ],
         "xaxis": "x",
         "y": [
          41
         ],
         "yaxis": "y"
        },
        {
         "alignmentgroup": "True",
         "hovertemplate": "label=%{x}<br>count=%{y}<extra></extra>",
         "legendgroup": "poor",
         "marker": {
          "color": "#FFA15A",
          "pattern": {
           "shape": ""
          }
         },
         "name": "poor",
         "offsetgroup": "poor",
         "orientation": "v",
         "showlegend": true,
         "textposition": "auto",
         "texttemplate": "%{y}",
         "type": "bar",
         "x": [
          "poor"
         ],
         "xaxis": "x",
         "y": [
          8
         ],
         "yaxis": "y"
        }
       ],
       "layout": {
        "barmode": "relative",
        "legend": {
         "title": {
          "text": "label"
         },
         "tracegroupgap": 0
        },
        "template": {
         "data": {
          "bar": [
           {
            "error_x": {
             "color": "#2a3f5f"
            },
            "error_y": {
             "color": "#2a3f5f"
            },
            "marker": {
             "line": {
              "color": "#E5ECF6",
              "width": 0.5
             },
             "pattern": {
              "fillmode": "overlay",
              "size": 10,
              "solidity": 0.2
             }
            },
            "type": "bar"
           }
          ],
          "barpolar": [
           {
            "marker": {
             "line": {
              "color": "#E5ECF6",
              "width": 0.5
             },
             "pattern": {
              "fillmode": "overlay",
              "size": 10,
              "solidity": 0.2
             }
            },
            "type": "barpolar"
           }
          ],
          "carpet": [
           {
            "aaxis": {
             "endlinecolor": "#2a3f5f",
             "gridcolor": "white",
             "linecolor": "white",
             "minorgridcolor": "white",
             "startlinecolor": "#2a3f5f"
            },
            "baxis": {
             "endlinecolor": "#2a3f5f",
             "gridcolor": "white",
             "linecolor": "white",
             "minorgridcolor": "white",
             "startlinecolor": "#2a3f5f"
            },
            "type": "carpet"
           }
          ],
          "choropleth": [
           {
            "colorbar": {
             "outlinewidth": 0,
             "ticks": ""
            },
            "type": "choropleth"
           }
          ],
          "contour": [
           {
            "colorbar": {
             "outlinewidth": 0,
             "ticks": ""
            },
            "colorscale": [
             [
              0,
              "#0d0887"
             ],
             [
              0.1111111111111111,
              "#46039f"
             ],
             [
              0.2222222222222222,
              "#7201a8"
             ],
             [
              0.3333333333333333,
              "#9c179e"
             ],
             [
              0.4444444444444444,
              "#bd3786"
             ],
             [
              0.5555555555555556,
              "#d8576b"
             ],
             [
              0.6666666666666666,
              "#ed7953"
             ],
             [
              0.7777777777777778,
              "#fb9f3a"
             ],
             [
              0.8888888888888888,
              "#fdca26"
             ],
             [
              1,
              "#f0f921"
             ]
            ],
            "type": "contour"
           }
          ],
          "contourcarpet": [
           {
            "colorbar": {
             "outlinewidth": 0,
             "ticks": ""
            },
            "type": "contourcarpet"
           }
          ],
          "heatmap": [
           {
            "colorbar": {
             "outlinewidth": 0,
             "ticks": ""
            },
            "colorscale": [
             [
              0,
              "#0d0887"
             ],
             [
              0.1111111111111111,
              "#46039f"
             ],
             [
              0.2222222222222222,
              "#7201a8"
             ],
             [
              0.3333333333333333,
              "#9c179e"
             ],
             [
              0.4444444444444444,
              "#bd3786"
             ],
             [
              0.5555555555555556,
              "#d8576b"
             ],
             [
              0.6666666666666666,
              "#ed7953"
             ],
             [
              0.7777777777777778,
              "#fb9f3a"
             ],
             [
              0.8888888888888888,
              "#fdca26"
             ],
             [
              1,
              "#f0f921"
             ]
            ],
            "type": "heatmap"
           }
          ],
          "heatmapgl": [
           {
            "colorbar": {
             "outlinewidth": 0,
             "ticks": ""
            },
            "colorscale": [
             [
              0,
              "#0d0887"
             ],
             [
              0.1111111111111111,
              "#46039f"
             ],
             [
              0.2222222222222222,
              "#7201a8"
             ],
             [
              0.3333333333333333,
              "#9c179e"
             ],
             [
              0.4444444444444444,
              "#bd3786"
             ],
             [
              0.5555555555555556,
              "#d8576b"
             ],
             [
              0.6666666666666666,
              "#ed7953"
             ],
             [
              0.7777777777777778,
              "#fb9f3a"
             ],
             [
              0.8888888888888888,
              "#fdca26"
             ],
             [
              1,
              "#f0f921"
             ]
            ],
            "type": "heatmapgl"
           }
          ],
          "histogram": [
           {
            "marker": {
             "pattern": {
              "fillmode": "overlay",
              "size": 10,
              "solidity": 0.2
             }
            },
            "type": "histogram"
           }
          ],
          "histogram2d": [
           {
            "colorbar": {
             "outlinewidth": 0,
             "ticks": ""
            },
            "colorscale": [
             [
              0,
              "#0d0887"
             ],
             [
              0.1111111111111111,
              "#46039f"
             ],
             [
              0.2222222222222222,
              "#7201a8"
             ],
             [
              0.3333333333333333,
              "#9c179e"
             ],
             [
              0.4444444444444444,
              "#bd3786"
             ],
             [
              0.5555555555555556,
              "#d8576b"
             ],
             [
              0.6666666666666666,
              "#ed7953"
             ],
             [
              0.7777777777777778,
              "#fb9f3a"
             ],
             [
              0.8888888888888888,
              "#fdca26"
             ],
             [
              1,
              "#f0f921"
             ]
            ],
            "type": "histogram2d"
           }
          ],
          "histogram2dcontour": [
           {
            "colorbar": {
             "outlinewidth": 0,
             "ticks": ""
            },
            "colorscale": [
             [
              0,
              "#0d0887"
             ],
             [
              0.1111111111111111,
              "#46039f"
             ],
             [
              0.2222222222222222,
              "#7201a8"
             ],
             [
              0.3333333333333333,
              "#9c179e"
             ],
             [
              0.4444444444444444,
              "#bd3786"
             ],
             [
              0.5555555555555556,
              "#d8576b"
             ],
             [
              0.6666666666666666,
              "#ed7953"
             ],
             [
              0.7777777777777778,
              "#fb9f3a"
             ],
             [
              0.8888888888888888,
              "#fdca26"
             ],
             [
              1,
              "#f0f921"
             ]
            ],
            "type": "histogram2dcontour"
           }
          ],
          "mesh3d": [
           {
            "colorbar": {
             "outlinewidth": 0,
             "ticks": ""
            },
            "type": "mesh3d"
           }
          ],
          "parcoords": [
           {
            "line": {
             "colorbar": {
              "outlinewidth": 0,
              "ticks": ""
             }
            },
            "type": "parcoords"
           }
          ],
          "pie": [
           {
            "automargin": true,
            "type": "pie"
           }
          ],
          "scatter": [
           {
            "fillpattern": {
             "fillmode": "overlay",
             "size": 10,
             "solidity": 0.2
            },
            "type": "scatter"
           }
          ],
          "scatter3d": [
           {
            "line": {
             "colorbar": {
              "outlinewidth": 0,
              "ticks": ""
             }
            },
            "marker": {
             "colorbar": {
              "outlinewidth": 0,
              "ticks": ""
             }
            },
            "type": "scatter3d"
           }
          ],
          "scattercarpet": [
           {
            "marker": {
             "colorbar": {
              "outlinewidth": 0,
              "ticks": ""
             }
            },
            "type": "scattercarpet"
           }
          ],
          "scattergeo": [
           {
            "marker": {
             "colorbar": {
              "outlinewidth": 0,
              "ticks": ""
             }
            },
            "type": "scattergeo"
           }
          ],
          "scattergl": [
           {
            "marker": {
             "colorbar": {
              "outlinewidth": 0,
              "ticks": ""
             }
            },
            "type": "scattergl"
           }
          ],
          "scattermapbox": [
           {
            "marker": {
             "colorbar": {
              "outlinewidth": 0,
              "ticks": ""
             }
            },
            "type": "scattermapbox"
           }
          ],
          "scatterpolar": [
           {
            "marker": {
             "colorbar": {
              "outlinewidth": 0,
              "ticks": ""
             }
            },
            "type": "scatterpolar"
           }
          ],
          "scatterpolargl": [
           {
            "marker": {
             "colorbar": {
              "outlinewidth": 0,
              "ticks": ""
             }
            },
            "type": "scatterpolargl"
           }
          ],
          "scatterternary": [
           {
            "marker": {
             "colorbar": {
              "outlinewidth": 0,
              "ticks": ""
             }
            },
            "type": "scatterternary"
           }
          ],
          "surface": [
           {
            "colorbar": {
             "outlinewidth": 0,
             "ticks": ""
            },
            "colorscale": [
             [
              0,
              "#0d0887"
             ],
             [
              0.1111111111111111,
              "#46039f"
             ],
             [
              0.2222222222222222,
              "#7201a8"
             ],
             [
              0.3333333333333333,
              "#9c179e"
             ],
             [
              0.4444444444444444,
              "#bd3786"
             ],
             [
              0.5555555555555556,
              "#d8576b"
             ],
             [
              0.6666666666666666,
              "#ed7953"
             ],
             [
              0.7777777777777778,
              "#fb9f3a"
             ],
             [
              0.8888888888888888,
              "#fdca26"
             ],
             [
              1,
              "#f0f921"
             ]
            ],
            "type": "surface"
           }
          ],
          "table": [
           {
            "cells": {
             "fill": {
              "color": "#EBF0F8"
             },
             "line": {
              "color": "white"
             }
            },
            "header": {
             "fill": {
              "color": "#C8D4E3"
             },
             "line": {
              "color": "white"
             }
            },
            "type": "table"
           }
          ]
         },
         "layout": {
          "annotationdefaults": {
           "arrowcolor": "#2a3f5f",
           "arrowhead": 0,
           "arrowwidth": 1
          },
          "autotypenumbers": "strict",
          "coloraxis": {
           "colorbar": {
            "outlinewidth": 0,
            "ticks": ""
           }
          },
          "colorscale": {
           "diverging": [
            [
             0,
             "#8e0152"
            ],
            [
             0.1,
             "#c51b7d"
            ],
            [
             0.2,
             "#de77ae"
            ],
            [
             0.3,
             "#f1b6da"
            ],
            [
             0.4,
             "#fde0ef"
            ],
            [
             0.5,
             "#f7f7f7"
            ],
            [
             0.6,
             "#e6f5d0"
            ],
            [
             0.7,
             "#b8e186"
            ],
            [
             0.8,
             "#7fbc41"
            ],
            [
             0.9,
             "#4d9221"
            ],
            [
             1,
             "#276419"
            ]
           ],
           "sequential": [
            [
             0,
             "#0d0887"
            ],
            [
             0.1111111111111111,
             "#46039f"
            ],
            [
             0.2222222222222222,
             "#7201a8"
            ],
            [
             0.3333333333333333,
             "#9c179e"
            ],
            [
             0.4444444444444444,
             "#bd3786"
            ],
            [
             0.5555555555555556,
             "#d8576b"
            ],
            [
             0.6666666666666666,
             "#ed7953"
            ],
            [
             0.7777777777777778,
             "#fb9f3a"
            ],
            [
             0.8888888888888888,
             "#fdca26"
            ],
            [
             1,
             "#f0f921"
            ]
           ],
           "sequentialminus": [
            [
             0,
             "#0d0887"
            ],
            [
             0.1111111111111111,
             "#46039f"
            ],
            [
             0.2222222222222222,
             "#7201a8"
            ],
            [
             0.3333333333333333,
             "#9c179e"
            ],
            [
             0.4444444444444444,
             "#bd3786"
            ],
            [
             0.5555555555555556,
             "#d8576b"
            ],
            [
             0.6666666666666666,
             "#ed7953"
            ],
            [
             0.7777777777777778,
             "#fb9f3a"
            ],
            [
             0.8888888888888888,
             "#fdca26"
            ],
            [
             1,
             "#f0f921"
            ]
           ]
          },
          "colorway": [
           "#636efa",
           "#EF553B",
           "#00cc96",
           "#ab63fa",
           "#FFA15A",
           "#19d3f3",
           "#FF6692",
           "#B6E880",
           "#FF97FF",
           "#FECB52"
          ],
          "font": {
           "color": "#2a3f5f"
          },
          "geo": {
           "bgcolor": "white",
           "lakecolor": "white",
           "landcolor": "#E5ECF6",
           "showlakes": true,
           "showland": true,
           "subunitcolor": "white"
          },
          "hoverlabel": {
           "align": "left"
          },
          "hovermode": "closest",
          "mapbox": {
           "style": "light"
          },
          "paper_bgcolor": "white",
          "plot_bgcolor": "#E5ECF6",
          "polar": {
           "angularaxis": {
            "gridcolor": "white",
            "linecolor": "white",
            "ticks": ""
           },
           "bgcolor": "#E5ECF6",
           "radialaxis": {
            "gridcolor": "white",
            "linecolor": "white",
            "ticks": ""
           }
          },
          "scene": {
           "xaxis": {
            "backgroundcolor": "#E5ECF6",
            "gridcolor": "white",
            "gridwidth": 2,
            "linecolor": "white",
            "showbackground": true,
            "ticks": "",
            "zerolinecolor": "white"
           },
           "yaxis": {
            "backgroundcolor": "#E5ECF6",
            "gridcolor": "white",
            "gridwidth": 2,
            "linecolor": "white",
            "showbackground": true,
            "ticks": "",
            "zerolinecolor": "white"
           },
           "zaxis": {
            "backgroundcolor": "#E5ECF6",
            "gridcolor": "white",
            "gridwidth": 2,
            "linecolor": "white",
            "showbackground": true,
            "ticks": "",
            "zerolinecolor": "white"
           }
          },
          "shapedefaults": {
           "line": {
            "color": "#2a3f5f"
           }
          },
          "ternary": {
           "aaxis": {
            "gridcolor": "white",
            "linecolor": "white",
            "ticks": ""
           },
           "baxis": {
            "gridcolor": "white",
            "linecolor": "white",
            "ticks": ""
           },
           "bgcolor": "#E5ECF6",
           "caxis": {
            "gridcolor": "white",
            "linecolor": "white",
            "ticks": ""
           }
          },
          "title": {
           "x": 0.05
          },
          "xaxis": {
           "automargin": true,
           "gridcolor": "white",
           "linecolor": "white",
           "ticks": "",
           "title": {
            "standoff": 15
           },
           "zerolinecolor": "white",
           "zerolinewidth": 2
          },
          "yaxis": {
           "automargin": true,
           "gridcolor": "white",
           "linecolor": "white",
           "ticks": "",
           "title": {
            "standoff": 15
           },
           "zerolinecolor": "white",
           "zerolinewidth": 2
          }
         }
        },
        "title": {
         "text": "do you like it?"
        },
        "xaxis": {
         "anchor": "y",
         "categoryarray": [
          "excellent",
          "very good",
          "very poor",
          "okay",
          "poor"
         ],
         "categoryorder": "array",
         "domain": [
          0,
          1
         ],
         "title": {
          "text": "label"
         }
        },
        "yaxis": {
         "anchor": "x",
         "domain": [
          0,
          1
         ],
         "title": {
          "text": "count"
         }
        }
       }
      }
     },
     "metadata": {},
     "output_type": "display_data"
    }
   ],
   "source": [
    "# N: int = 2\n",
    "query: str = \"do you like it?\"\n",
    "query_vector: list[float] = encoder.encode(query).tolist()\n",
    "\n",
    "\n",
    "hits: list[Any] = client.search(\n",
    "    collection_name=COLLECTION_NAME,\n",
    "    query_vector=query_vector,\n",
    "    query_filter=None,\n",
    "    limit=N,\n",
    ")\n",
    "\n",
    "print(hits[:5])\n",
    "sentiment: dict[str, int] = count_sentiment(hits)\n",
    "visualize_result(sentiment=sentiment, query=query)"
   ]
  },
  {
   "cell_type": "markdown",
   "metadata": {},
   "source": [
    "### Q2 Are there any patterns in sentiment over time? \n",
    "\n",
    "- e.g. between Jan 2018 to Jan 2019"
   ]
  },
  {
   "cell_type": "code",
   "execution_count": 28,
   "metadata": {},
   "outputs": [
    {
     "data": {
      "text/html": [
       "<div><style>\n",
       ".dataframe > thead > tr > th,\n",
       ".dataframe > tbody > tr > td {\n",
       "  text-align: right;\n",
       "  white-space: pre-wrap;\n",
       "}\n",
       "</style>\n",
       "<small>shape: (9, 2)</small><table border=\"1\" class=\"dataframe\"><thead><tr><th>describe</th><th>review_timestamp</th></tr><tr><td>str</td><td>str</td></tr></thead><tbody><tr><td>&quot;count&quot;</td><td>&quot;1531126&quot;</td></tr><tr><td>&quot;null_count&quot;</td><td>&quot;0&quot;</td></tr><tr><td>&quot;mean&quot;</td><td>null</td></tr><tr><td>&quot;std&quot;</td><td>null</td></tr><tr><td>&quot;min&quot;</td><td>&quot;2011-05-12 18:…</td></tr><tr><td>&quot;25%&quot;</td><td>null</td></tr><tr><td>&quot;50%&quot;</td><td>null</td></tr><tr><td>&quot;75%&quot;</td><td>null</td></tr><tr><td>&quot;max&quot;</td><td>&quot;2023-11-15 22:…</td></tr></tbody></table></div>"
      ],
      "text/plain": [
       "shape: (9, 2)\n",
       "┌────────────┬─────────────────────┐\n",
       "│ describe   ┆ review_timestamp    │\n",
       "│ ---        ┆ ---                 │\n",
       "│ str        ┆ str                 │\n",
       "╞════════════╪═════════════════════╡\n",
       "│ count      ┆ 1531126             │\n",
       "│ null_count ┆ 0                   │\n",
       "│ mean       ┆ null                │\n",
       "│ std        ┆ null                │\n",
       "│ min        ┆ 2011-05-12 18:50:37 │\n",
       "│ 25%        ┆ null                │\n",
       "│ 50%        ┆ null                │\n",
       "│ 75%        ┆ null                │\n",
       "│ max        ┆ 2023-11-15 22:54:42 │\n",
       "└────────────┴─────────────────────┘"
      ]
     },
     "execution_count": 28,
     "metadata": {},
     "output_type": "execute_result"
    }
   ],
   "source": [
    "data.select(pl.col(\"review_timestamp\")).describe()"
   ]
  },
  {
   "cell_type": "code",
   "execution_count": 29,
   "metadata": {},
   "outputs": [
    {
     "data": {
      "text/plain": [
       "1514761200.0"
      ]
     },
     "execution_count": 29,
     "metadata": {},
     "output_type": "execute_result"
    }
   ],
   "source": [
    "get_timestamp([\"2018-01-01 00:00:00\"])[0]"
   ]
  },
  {
   "cell_type": "code",
   "execution_count": 30,
   "metadata": {},
   "outputs": [
    {
     "data": {
      "text/html": [
       "<pre style=\"white-space:pre;overflow-x:auto;line-height:normal;font-family:Menlo,'DejaVu Sans Mono',consolas,'Courier New',monospace\"><span style=\"font-weight: bold\">[</span>\n",
       "    <span style=\"color: #800080; text-decoration-color: #800080; font-weight: bold\">ScoredPoint</span><span style=\"font-weight: bold\">(</span>\n",
       "        <span style=\"color: #808000; text-decoration-color: #808000\">id</span>=<span style=\"color: #008000; text-decoration-color: #008000\">'af768543-c619-4486-b8b6-e6ae5581bafb'</span>,\n",
       "        <span style=\"color: #808000; text-decoration-color: #808000\">version</span>=<span style=\"color: #008080; text-decoration-color: #008080; font-weight: bold\">1202</span>,\n",
       "        <span style=\"color: #808000; text-decoration-color: #808000\">score</span>=<span style=\"color: #008080; text-decoration-color: #008080; font-weight: bold\">0.723863</span>,\n",
       "        <span style=\"color: #808000; text-decoration-color: #808000\">payload</span>=<span style=\"font-weight: bold\">{</span>\n",
       "            <span style=\"color: #008000; text-decoration-color: #008000\">'author_app_version'</span>: <span style=\"color: #008000; text-decoration-color: #008000\">'5.16.1 build 26734'</span>,\n",
       "            <span style=\"color: #008000; text-decoration-color: #008000\">'label'</span>: <span style=\"color: #008000; text-decoration-color: #008000\">'poor'</span>,\n",
       "            <span style=\"color: #008000; text-decoration-color: #008000\">'review_date'</span>: <span style=\"color: #008000; text-decoration-color: #008000\">'2018-06-19 06:09:06'</span>,\n",
       "            <span style=\"color: #008000; text-decoration-color: #008000\">'review_id'</span>: <span style=\"color: #008000; text-decoration-color: #008000\">'af768543-c619-4486-b8b6-e6ae5581bafb'</span>,\n",
       "            <span style=\"color: #008000; text-decoration-color: #008000\">'review_rating'</span>: <span style=\"color: #008080; text-decoration-color: #008080; font-weight: bold\">2</span>,\n",
       "            <span style=\"color: #008000; text-decoration-color: #008000\">'review_text'</span>: <span style=\"color: #008000; text-decoration-color: #008000\">'Very good app, but totally unsatisfactory customer service. Please teach \\nyour </span>\n",
       "<span style=\"color: #008000; text-decoration-color: #008000\">customer service reps to talk to customers with respect if we are \\nhaving an issue that has to be resolved.'</span>,\n",
       "            <span style=\"color: #008000; text-decoration-color: #008000\">'timestamp'</span>: <span style=\"color: #008080; text-decoration-color: #008080; font-weight: bold\">1529384946.0</span>\n",
       "        <span style=\"font-weight: bold\">}</span>,\n",
       "        <span style=\"color: #808000; text-decoration-color: #808000\">vector</span>=<span style=\"color: #800080; text-decoration-color: #800080; font-style: italic\">None</span>,\n",
       "        <span style=\"color: #808000; text-decoration-color: #808000\">shard_key</span>=<span style=\"color: #800080; text-decoration-color: #800080; font-style: italic\">None</span>\n",
       "    <span style=\"font-weight: bold\">)</span>,\n",
       "    <span style=\"color: #800080; text-decoration-color: #800080; font-weight: bold\">ScoredPoint</span><span style=\"font-weight: bold\">(</span>\n",
       "        <span style=\"color: #808000; text-decoration-color: #808000\">id</span>=<span style=\"color: #008000; text-decoration-color: #008000\">'d83d6e85-4a06-43f8-94e3-0145db726f13'</span>,\n",
       "        <span style=\"color: #808000; text-decoration-color: #808000\">version</span>=<span style=\"color: #008080; text-decoration-color: #008080; font-weight: bold\">1097</span>,\n",
       "        <span style=\"color: #808000; text-decoration-color: #808000\">score</span>=<span style=\"color: #008080; text-decoration-color: #008080; font-weight: bold\">0.69769436</span>,\n",
       "        <span style=\"color: #808000; text-decoration-color: #808000\">payload</span>=<span style=\"font-weight: bold\">{</span>\n",
       "            <span style=\"color: #008000; text-decoration-color: #008000\">'author_app_version'</span>: <span style=\"color: #008000; text-decoration-color: #008000\">'1.0'</span>,\n",
       "            <span style=\"color: #008000; text-decoration-color: #008000\">'label'</span>: <span style=\"color: #008000; text-decoration-color: #008000\">'excellent'</span>,\n",
       "            <span style=\"color: #008000; text-decoration-color: #008000\">'review_date'</span>: <span style=\"color: #008000; text-decoration-color: #008000\">'2018-01-02 02:03:57'</span>,\n",
       "            <span style=\"color: #008000; text-decoration-color: #008000\">'review_id'</span>: <span style=\"color: #008000; text-decoration-color: #008000\">'d83d6e85-4a06-43f8-94e3-0145db726f13'</span>,\n",
       "            <span style=\"color: #008000; text-decoration-color: #008000\">'review_rating'</span>: <span style=\"color: #008080; text-decoration-color: #008080; font-weight: bold\">5</span>,\n",
       "            <span style=\"color: #008000; text-decoration-color: #008000\">'review_text'</span>: <span style=\"color: #008000; text-decoration-color: #008000\">'Is. Satisfied  with  the  easygoing  apps'</span>,\n",
       "            <span style=\"color: #008000; text-decoration-color: #008000\">'timestamp'</span>: <span style=\"color: #008080; text-decoration-color: #008080; font-weight: bold\">1514855037.0</span>\n",
       "        <span style=\"font-weight: bold\">}</span>,\n",
       "        <span style=\"color: #808000; text-decoration-color: #808000\">vector</span>=<span style=\"color: #800080; text-decoration-color: #800080; font-style: italic\">None</span>,\n",
       "        <span style=\"color: #808000; text-decoration-color: #808000\">shard_key</span>=<span style=\"color: #800080; text-decoration-color: #800080; font-style: italic\">None</span>\n",
       "    <span style=\"font-weight: bold\">)</span>,\n",
       "    <span style=\"color: #800080; text-decoration-color: #800080; font-weight: bold\">ScoredPoint</span><span style=\"font-weight: bold\">(</span>\n",
       "        <span style=\"color: #808000; text-decoration-color: #808000\">id</span>=<span style=\"color: #008000; text-decoration-color: #008000\">'188b46f8-6bbf-494a-ab18-76453b8e06aa'</span>,\n",
       "        <span style=\"color: #808000; text-decoration-color: #808000\">version</span>=<span style=\"color: #008080; text-decoration-color: #008080; font-weight: bold\">1230</span>,\n",
       "        <span style=\"color: #808000; text-decoration-color: #808000\">score</span>=<span style=\"color: #008080; text-decoration-color: #008080; font-weight: bold\">0.67664903</span>,\n",
       "        <span style=\"color: #808000; text-decoration-color: #808000\">payload</span>=<span style=\"font-weight: bold\">{</span>\n",
       "            <span style=\"color: #008000; text-decoration-color: #008000\">'author_app_version'</span>: <span style=\"color: #008000; text-decoration-color: #008000\">''</span>,\n",
       "            <span style=\"color: #008000; text-decoration-color: #008000\">'label'</span>: <span style=\"color: #008000; text-decoration-color: #008000\">'excellent'</span>,\n",
       "            <span style=\"color: #008000; text-decoration-color: #008000\">'review_date'</span>: <span style=\"color: #008000; text-decoration-color: #008000\">'2018-07-31 04:33:39'</span>,\n",
       "            <span style=\"color: #008000; text-decoration-color: #008000\">'review_id'</span>: <span style=\"color: #008000; text-decoration-color: #008000\">'188b46f8-6bbf-494a-ab18-76453b8e06aa'</span>,\n",
       "            <span style=\"color: #008000; text-decoration-color: #008000\">'review_rating'</span>: <span style=\"color: #008080; text-decoration-color: #008080; font-weight: bold\">5</span>,\n",
       "            <span style=\"color: #008000; text-decoration-color: #008000\">'review_text'</span>: <span style=\"color: #008000; text-decoration-color: #008000\">'Is app is good'</span>,\n",
       "            <span style=\"color: #008000; text-decoration-color: #008000\">'timestamp'</span>: <span style=\"color: #008080; text-decoration-color: #008080; font-weight: bold\">1533008019.0</span>\n",
       "        <span style=\"font-weight: bold\">}</span>,\n",
       "        <span style=\"color: #808000; text-decoration-color: #808000\">vector</span>=<span style=\"color: #800080; text-decoration-color: #800080; font-style: italic\">None</span>,\n",
       "        <span style=\"color: #808000; text-decoration-color: #808000\">shard_key</span>=<span style=\"color: #800080; text-decoration-color: #800080; font-style: italic\">None</span>\n",
       "    <span style=\"font-weight: bold\">)</span>,\n",
       "    <span style=\"color: #800080; text-decoration-color: #800080; font-weight: bold\">ScoredPoint</span><span style=\"font-weight: bold\">(</span>\n",
       "        <span style=\"color: #808000; text-decoration-color: #808000\">id</span>=<span style=\"color: #008000; text-decoration-color: #008000\">'8f7e2c1a-f170-406b-a20d-7695216c727a'</span>,\n",
       "        <span style=\"color: #808000; text-decoration-color: #808000\">version</span>=<span style=\"color: #008080; text-decoration-color: #008080; font-weight: bold\">1109</span>,\n",
       "        <span style=\"color: #808000; text-decoration-color: #808000\">score</span>=<span style=\"color: #008080; text-decoration-color: #008080; font-weight: bold\">0.65183043</span>,\n",
       "        <span style=\"color: #808000; text-decoration-color: #808000\">payload</span>=<span style=\"font-weight: bold\">{</span>\n",
       "            <span style=\"color: #008000; text-decoration-color: #008000\">'author_app_version'</span>: <span style=\"color: #008000; text-decoration-color: #008000\">''</span>,\n",
       "            <span style=\"color: #008000; text-decoration-color: #008000\">'label'</span>: <span style=\"color: #008000; text-decoration-color: #008000\">'very good'</span>,\n",
       "            <span style=\"color: #008000; text-decoration-color: #008000\">'review_date'</span>: <span style=\"color: #008000; text-decoration-color: #008000\">'2018-01-21 03:51:15'</span>,\n",
       "            <span style=\"color: #008000; text-decoration-color: #008000\">'review_id'</span>: <span style=\"color: #008000; text-decoration-color: #008000\">'8f7e2c1a-f170-406b-a20d-7695216c727a'</span>,\n",
       "            <span style=\"color: #008000; text-decoration-color: #008000\">'review_rating'</span>: <span style=\"color: #008080; text-decoration-color: #008080; font-weight: bold\">4</span>,\n",
       "            <span style=\"color: #008000; text-decoration-color: #008000\">'review_text'</span>: <span style=\"color: #008000; text-decoration-color: #008000\">'Is a good app'</span>,\n",
       "            <span style=\"color: #008000; text-decoration-color: #008000\">'timestamp'</span>: <span style=\"color: #008080; text-decoration-color: #008080; font-weight: bold\">1516503075.0</span>\n",
       "        <span style=\"font-weight: bold\">}</span>,\n",
       "        <span style=\"color: #808000; text-decoration-color: #808000\">vector</span>=<span style=\"color: #800080; text-decoration-color: #800080; font-style: italic\">None</span>,\n",
       "        <span style=\"color: #808000; text-decoration-color: #808000\">shard_key</span>=<span style=\"color: #800080; text-decoration-color: #800080; font-style: italic\">None</span>\n",
       "    <span style=\"font-weight: bold\">)</span>,\n",
       "    <span style=\"color: #800080; text-decoration-color: #800080; font-weight: bold\">ScoredPoint</span><span style=\"font-weight: bold\">(</span>\n",
       "        <span style=\"color: #808000; text-decoration-color: #808000\">id</span>=<span style=\"color: #008000; text-decoration-color: #008000\">'5d2129e9-2616-4635-9c93-a6be9dffe7db'</span>,\n",
       "        <span style=\"color: #808000; text-decoration-color: #808000\">version</span>=<span style=\"color: #008080; text-decoration-color: #008080; font-weight: bold\">1111</span>,\n",
       "        <span style=\"color: #808000; text-decoration-color: #808000\">score</span>=<span style=\"color: #008080; text-decoration-color: #008080; font-weight: bold\">0.65183043</span>,\n",
       "        <span style=\"color: #808000; text-decoration-color: #808000\">payload</span>=<span style=\"font-weight: bold\">{</span>\n",
       "            <span style=\"color: #008000; text-decoration-color: #008000\">'author_app_version'</span>: <span style=\"color: #008000; text-decoration-color: #008000\">''</span>,\n",
       "            <span style=\"color: #008000; text-decoration-color: #008000\">'label'</span>: <span style=\"color: #008000; text-decoration-color: #008000\">'excellent'</span>,\n",
       "            <span style=\"color: #008000; text-decoration-color: #008000\">'review_date'</span>: <span style=\"color: #008000; text-decoration-color: #008000\">'2018-01-24 03:52:41'</span>,\n",
       "            <span style=\"color: #008000; text-decoration-color: #008000\">'review_id'</span>: <span style=\"color: #008000; text-decoration-color: #008000\">'5d2129e9-2616-4635-9c93-a6be9dffe7db'</span>,\n",
       "            <span style=\"color: #008000; text-decoration-color: #008000\">'review_rating'</span>: <span style=\"color: #008080; text-decoration-color: #008080; font-weight: bold\">5</span>,\n",
       "            <span style=\"color: #008000; text-decoration-color: #008000\">'review_text'</span>: <span style=\"color: #008000; text-decoration-color: #008000\">'is a good app'</span>,\n",
       "            <span style=\"color: #008000; text-decoration-color: #008000\">'timestamp'</span>: <span style=\"color: #008080; text-decoration-color: #008080; font-weight: bold\">1516762361.0</span>\n",
       "        <span style=\"font-weight: bold\">}</span>,\n",
       "        <span style=\"color: #808000; text-decoration-color: #808000\">vector</span>=<span style=\"color: #800080; text-decoration-color: #800080; font-style: italic\">None</span>,\n",
       "        <span style=\"color: #808000; text-decoration-color: #808000\">shard_key</span>=<span style=\"color: #800080; text-decoration-color: #800080; font-style: italic\">None</span>\n",
       "    <span style=\"font-weight: bold\">)</span>,\n",
       "    <span style=\"color: #800080; text-decoration-color: #800080; font-weight: bold\">ScoredPoint</span><span style=\"font-weight: bold\">(</span>\n",
       "        <span style=\"color: #808000; text-decoration-color: #808000\">id</span>=<span style=\"color: #008000; text-decoration-color: #008000\">'13982fe1-463e-407f-88f5-79fcd55a2c8a'</span>,\n",
       "        <span style=\"color: #808000; text-decoration-color: #808000\">version</span>=<span style=\"color: #008080; text-decoration-color: #008080; font-weight: bold\">1173</span>,\n",
       "        <span style=\"color: #808000; text-decoration-color: #808000\">score</span>=<span style=\"color: #008080; text-decoration-color: #008080; font-weight: bold\">0.65183043</span>,\n",
       "        <span style=\"color: #808000; text-decoration-color: #808000\">payload</span>=<span style=\"font-weight: bold\">{</span>\n",
       "            <span style=\"color: #008000; text-decoration-color: #008000\">'author_app_version'</span>: <span style=\"color: #008000; text-decoration-color: #008000\">''</span>,\n",
       "            <span style=\"color: #008000; text-decoration-color: #008000\">'label'</span>: <span style=\"color: #008000; text-decoration-color: #008000\">'excellent'</span>,\n",
       "            <span style=\"color: #008000; text-decoration-color: #008000\">'review_date'</span>: <span style=\"color: #008000; text-decoration-color: #008000\">'2018-05-05 01:23:02'</span>,\n",
       "            <span style=\"color: #008000; text-decoration-color: #008000\">'review_id'</span>: <span style=\"color: #008000; text-decoration-color: #008000\">'13982fe1-463e-407f-88f5-79fcd55a2c8a'</span>,\n",
       "            <span style=\"color: #008000; text-decoration-color: #008000\">'review_rating'</span>: <span style=\"color: #008080; text-decoration-color: #008080; font-weight: bold\">5</span>,\n",
       "            <span style=\"color: #008000; text-decoration-color: #008000\">'review_text'</span>: <span style=\"color: #008000; text-decoration-color: #008000\">'Is a good App'</span>,\n",
       "            <span style=\"color: #008000; text-decoration-color: #008000\">'timestamp'</span>: <span style=\"color: #008080; text-decoration-color: #008080; font-weight: bold\">1525479782.0</span>\n",
       "        <span style=\"font-weight: bold\">}</span>,\n",
       "        <span style=\"color: #808000; text-decoration-color: #808000\">vector</span>=<span style=\"color: #800080; text-decoration-color: #800080; font-style: italic\">None</span>,\n",
       "        <span style=\"color: #808000; text-decoration-color: #808000\">shard_key</span>=<span style=\"color: #800080; text-decoration-color: #800080; font-style: italic\">None</span>\n",
       "    <span style=\"font-weight: bold\">)</span>,\n",
       "    <span style=\"color: #800080; text-decoration-color: #800080; font-weight: bold\">ScoredPoint</span><span style=\"font-weight: bold\">(</span>\n",
       "        <span style=\"color: #808000; text-decoration-color: #808000\">id</span>=<span style=\"color: #008000; text-decoration-color: #008000\">'745cd3ed-ce1d-4373-8762-0dc9477c227d'</span>,\n",
       "        <span style=\"color: #808000; text-decoration-color: #808000\">version</span>=<span style=\"color: #008080; text-decoration-color: #008080; font-weight: bold\">1101</span>,\n",
       "        <span style=\"color: #808000; text-decoration-color: #808000\">score</span>=<span style=\"color: #008080; text-decoration-color: #008080; font-weight: bold\">0.65183043</span>,\n",
       "        <span style=\"color: #808000; text-decoration-color: #808000\">payload</span>=<span style=\"font-weight: bold\">{</span>\n",
       "            <span style=\"color: #008000; text-decoration-color: #008000\">'author_app_version'</span>: <span style=\"color: #008000; text-decoration-color: #008000\">''</span>,\n",
       "            <span style=\"color: #008000; text-decoration-color: #008000\">'label'</span>: <span style=\"color: #008000; text-decoration-color: #008000\">'excellent'</span>,\n",
       "            <span style=\"color: #008000; text-decoration-color: #008000\">'review_date'</span>: <span style=\"color: #008000; text-decoration-color: #008000\">'2018-01-07 18:09:43'</span>,\n",
       "            <span style=\"color: #008000; text-decoration-color: #008000\">'review_id'</span>: <span style=\"color: #008000; text-decoration-color: #008000\">'745cd3ed-ce1d-4373-8762-0dc9477c227d'</span>,\n",
       "            <span style=\"color: #008000; text-decoration-color: #008000\">'review_rating'</span>: <span style=\"color: #008080; text-decoration-color: #008080; font-weight: bold\">5</span>,\n",
       "            <span style=\"color: #008000; text-decoration-color: #008000\">'review_text'</span>: <span style=\"color: #008000; text-decoration-color: #008000\">'Is a good app'</span>,\n",
       "            <span style=\"color: #008000; text-decoration-color: #008000\">'timestamp'</span>: <span style=\"color: #008080; text-decoration-color: #008080; font-weight: bold\">1515344983.0</span>\n",
       "        <span style=\"font-weight: bold\">}</span>,\n",
       "        <span style=\"color: #808000; text-decoration-color: #808000\">vector</span>=<span style=\"color: #800080; text-decoration-color: #800080; font-style: italic\">None</span>,\n",
       "        <span style=\"color: #808000; text-decoration-color: #808000\">shard_key</span>=<span style=\"color: #800080; text-decoration-color: #800080; font-style: italic\">None</span>\n",
       "    <span style=\"font-weight: bold\">)</span>,\n",
       "    <span style=\"color: #800080; text-decoration-color: #800080; font-weight: bold\">ScoredPoint</span><span style=\"font-weight: bold\">(</span>\n",
       "        <span style=\"color: #808000; text-decoration-color: #808000\">id</span>=<span style=\"color: #008000; text-decoration-color: #008000\">'47e346d0-37c4-438e-be76-2db8317972e0'</span>,\n",
       "        <span style=\"color: #808000; text-decoration-color: #808000\">version</span>=<span style=\"color: #008080; text-decoration-color: #008080; font-weight: bold\">1294</span>,\n",
       "        <span style=\"color: #808000; text-decoration-color: #808000\">score</span>=<span style=\"color: #008080; text-decoration-color: #008080; font-weight: bold\">0.65183043</span>,\n",
       "        <span style=\"color: #808000; text-decoration-color: #808000\">payload</span>=<span style=\"font-weight: bold\">{</span>\n",
       "            <span style=\"color: #008000; text-decoration-color: #008000\">'author_app_version'</span>: <span style=\"color: #008000; text-decoration-color: #008000\">'6.11.0 build 29552'</span>,\n",
       "            <span style=\"color: #008000; text-decoration-color: #008000\">'label'</span>: <span style=\"color: #008000; text-decoration-color: #008000\">'excellent'</span>,\n",
       "            <span style=\"color: #008000; text-decoration-color: #008000\">'review_date'</span>: <span style=\"color: #008000; text-decoration-color: #008000\">'2018-10-28 16:55:39'</span>,\n",
       "            <span style=\"color: #008000; text-decoration-color: #008000\">'review_id'</span>: <span style=\"color: #008000; text-decoration-color: #008000\">'47e346d0-37c4-438e-be76-2db8317972e0'</span>,\n",
       "            <span style=\"color: #008000; text-decoration-color: #008000\">'review_rating'</span>: <span style=\"color: #008080; text-decoration-color: #008080; font-weight: bold\">5</span>,\n",
       "            <span style=\"color: #008000; text-decoration-color: #008000\">'review_text'</span>: <span style=\"color: #008000; text-decoration-color: #008000\">'Is a good app'</span>,\n",
       "            <span style=\"color: #008000; text-decoration-color: #008000\">'timestamp'</span>: <span style=\"color: #008080; text-decoration-color: #008080; font-weight: bold\">1540742139.0</span>\n",
       "        <span style=\"font-weight: bold\">}</span>,\n",
       "        <span style=\"color: #808000; text-decoration-color: #808000\">vector</span>=<span style=\"color: #800080; text-decoration-color: #800080; font-style: italic\">None</span>,\n",
       "        <span style=\"color: #808000; text-decoration-color: #808000\">shard_key</span>=<span style=\"color: #800080; text-decoration-color: #800080; font-style: italic\">None</span>\n",
       "    <span style=\"font-weight: bold\">)</span>,\n",
       "    <span style=\"color: #800080; text-decoration-color: #800080; font-weight: bold\">ScoredPoint</span><span style=\"font-weight: bold\">(</span>\n",
       "        <span style=\"color: #808000; text-decoration-color: #808000\">id</span>=<span style=\"color: #008000; text-decoration-color: #008000\">'7ebd240f-13be-4aaf-b337-450b331e8925'</span>,\n",
       "        <span style=\"color: #808000; text-decoration-color: #808000\">version</span>=<span style=\"color: #008080; text-decoration-color: #008080; font-weight: bold\">1270</span>,\n",
       "        <span style=\"color: #808000; text-decoration-color: #808000\">score</span>=<span style=\"color: #008080; text-decoration-color: #008080; font-weight: bold\">0.65183043</span>,\n",
       "        <span style=\"color: #808000; text-decoration-color: #808000\">payload</span>=<span style=\"font-weight: bold\">{</span>\n",
       "            <span style=\"color: #008000; text-decoration-color: #008000\">'author_app_version'</span>: <span style=\"color: #008000; text-decoration-color: #008000\">''</span>,\n",
       "            <span style=\"color: #008000; text-decoration-color: #008000\">'label'</span>: <span style=\"color: #008000; text-decoration-color: #008000\">'excellent'</span>,\n",
       "            <span style=\"color: #008000; text-decoration-color: #008000\">'review_date'</span>: <span style=\"color: #008000; text-decoration-color: #008000\">'2018-10-04 06:17:04'</span>,\n",
       "            <span style=\"color: #008000; text-decoration-color: #008000\">'review_id'</span>: <span style=\"color: #008000; text-decoration-color: #008000\">'7ebd240f-13be-4aaf-b337-450b331e8925'</span>,\n",
       "            <span style=\"color: #008000; text-decoration-color: #008000\">'review_rating'</span>: <span style=\"color: #008080; text-decoration-color: #008080; font-weight: bold\">5</span>,\n",
       "            <span style=\"color: #008000; text-decoration-color: #008000\">'review_text'</span>: <span style=\"color: #008000; text-decoration-color: #008000\">'Is a good app'</span>,\n",
       "            <span style=\"color: #008000; text-decoration-color: #008000\">'timestamp'</span>: <span style=\"color: #008080; text-decoration-color: #008080; font-weight: bold\">1538630224.0</span>\n",
       "        <span style=\"font-weight: bold\">}</span>,\n",
       "        <span style=\"color: #808000; text-decoration-color: #808000\">vector</span>=<span style=\"color: #800080; text-decoration-color: #800080; font-style: italic\">None</span>,\n",
       "        <span style=\"color: #808000; text-decoration-color: #808000\">shard_key</span>=<span style=\"color: #800080; text-decoration-color: #800080; font-style: italic\">None</span>\n",
       "    <span style=\"font-weight: bold\">)</span>,\n",
       "    <span style=\"color: #800080; text-decoration-color: #800080; font-weight: bold\">ScoredPoint</span><span style=\"font-weight: bold\">(</span>\n",
       "        <span style=\"color: #808000; text-decoration-color: #808000\">id</span>=<span style=\"color: #008000; text-decoration-color: #008000\">'bb7e99f8-83d5-4b18-8bc9-1618136831dd'</span>,\n",
       "        <span style=\"color: #808000; text-decoration-color: #808000\">version</span>=<span style=\"color: #008080; text-decoration-color: #008080; font-weight: bold\">1149</span>,\n",
       "        <span style=\"color: #808000; text-decoration-color: #808000\">score</span>=<span style=\"color: #008080; text-decoration-color: #008080; font-weight: bold\">0.65089566</span>,\n",
       "        <span style=\"color: #808000; text-decoration-color: #808000\">payload</span>=<span style=\"font-weight: bold\">{</span>\n",
       "            <span style=\"color: #008000; text-decoration-color: #008000\">'author_app_version'</span>: <span style=\"color: #008000; text-decoration-color: #008000\">''</span>,\n",
       "            <span style=\"color: #008000; text-decoration-color: #008000\">'label'</span>: <span style=\"color: #008000; text-decoration-color: #008000\">'excellent'</span>,\n",
       "            <span style=\"color: #008000; text-decoration-color: #008000\">'review_date'</span>: <span style=\"color: #008000; text-decoration-color: #008000\">'2018-03-26 17:41:38'</span>,\n",
       "            <span style=\"color: #008000; text-decoration-color: #008000\">'review_id'</span>: <span style=\"color: #008000; text-decoration-color: #008000\">'bb7e99f8-83d5-4b18-8bc9-1618136831dd'</span>,\n",
       "            <span style=\"color: #008000; text-decoration-color: #008000\">'review_rating'</span>: <span style=\"color: #008080; text-decoration-color: #008080; font-weight: bold\">5</span>,\n",
       "            <span style=\"color: #008000; text-decoration-color: #008000\">'review_text'</span>: <span style=\"color: #008000; text-decoration-color: #008000\">'Is good app'</span>,\n",
       "            <span style=\"color: #008000; text-decoration-color: #008000\">'timestamp'</span>: <span style=\"color: #008080; text-decoration-color: #008080; font-weight: bold\">1522082498.0</span>\n",
       "        <span style=\"font-weight: bold\">}</span>,\n",
       "        <span style=\"color: #808000; text-decoration-color: #808000\">vector</span>=<span style=\"color: #800080; text-decoration-color: #800080; font-style: italic\">None</span>,\n",
       "        <span style=\"color: #808000; text-decoration-color: #808000\">shard_key</span>=<span style=\"color: #800080; text-decoration-color: #800080; font-style: italic\">None</span>\n",
       "    <span style=\"font-weight: bold\">)</span>,\n",
       "    <span style=\"color: #800080; text-decoration-color: #800080; font-weight: bold\">ScoredPoint</span><span style=\"font-weight: bold\">(</span>\n",
       "        <span style=\"color: #808000; text-decoration-color: #808000\">id</span>=<span style=\"color: #008000; text-decoration-color: #008000\">'40d015cb-7c02-402b-8d6f-270655ea99f0'</span>,\n",
       "        <span style=\"color: #808000; text-decoration-color: #808000\">version</span>=<span style=\"color: #008080; text-decoration-color: #008080; font-weight: bold\">1237</span>,\n",
       "        <span style=\"color: #808000; text-decoration-color: #808000\">score</span>=<span style=\"color: #008080; text-decoration-color: #008080; font-weight: bold\">0.65089566</span>,\n",
       "        <span style=\"color: #808000; text-decoration-color: #808000\">payload</span>=<span style=\"font-weight: bold\">{</span>\n",
       "            <span style=\"color: #008000; text-decoration-color: #008000\">'author_app_version'</span>: <span style=\"color: #008000; text-decoration-color: #008000\">''</span>,\n",
       "            <span style=\"color: #008000; text-decoration-color: #008000\">'label'</span>: <span style=\"color: #008000; text-decoration-color: #008000\">'excellent'</span>,\n",
       "            <span style=\"color: #008000; text-decoration-color: #008000\">'review_date'</span>: <span style=\"color: #008000; text-decoration-color: #008000\">'2018-08-11 19:55:34'</span>,\n",
       "            <span style=\"color: #008000; text-decoration-color: #008000\">'review_id'</span>: <span style=\"color: #008000; text-decoration-color: #008000\">'40d015cb-7c02-402b-8d6f-270655ea99f0'</span>,\n",
       "            <span style=\"color: #008000; text-decoration-color: #008000\">'review_rating'</span>: <span style=\"color: #008080; text-decoration-color: #008080; font-weight: bold\">5</span>,\n",
       "            <span style=\"color: #008000; text-decoration-color: #008000\">'review_text'</span>: <span style=\"color: #008000; text-decoration-color: #008000\">'Is good app'</span>,\n",
       "            <span style=\"color: #008000; text-decoration-color: #008000\">'timestamp'</span>: <span style=\"color: #008080; text-decoration-color: #008080; font-weight: bold\">1534013734.0</span>\n",
       "        <span style=\"font-weight: bold\">}</span>,\n",
       "        <span style=\"color: #808000; text-decoration-color: #808000\">vector</span>=<span style=\"color: #800080; text-decoration-color: #800080; font-style: italic\">None</span>,\n",
       "        <span style=\"color: #808000; text-decoration-color: #808000\">shard_key</span>=<span style=\"color: #800080; text-decoration-color: #800080; font-style: italic\">None</span>\n",
       "    <span style=\"font-weight: bold\">)</span>,\n",
       "    <span style=\"color: #800080; text-decoration-color: #800080; font-weight: bold\">ScoredPoint</span><span style=\"font-weight: bold\">(</span>\n",
       "        <span style=\"color: #808000; text-decoration-color: #808000\">id</span>=<span style=\"color: #008000; text-decoration-color: #008000\">'62b2cf4d-0abd-40a5-98e3-e97ba4efc109'</span>,\n",
       "        <span style=\"color: #808000; text-decoration-color: #808000\">version</span>=<span style=\"color: #008080; text-decoration-color: #008080; font-weight: bold\">1207</span>,\n",
       "        <span style=\"color: #808000; text-decoration-color: #808000\">score</span>=<span style=\"color: #008080; text-decoration-color: #008080; font-weight: bold\">0.6470043</span>,\n",
       "        <span style=\"color: #808000; text-decoration-color: #808000\">payload</span>=<span style=\"font-weight: bold\">{</span>\n",
       "            <span style=\"color: #008000; text-decoration-color: #008000\">'author_app_version'</span>: <span style=\"color: #008000; text-decoration-color: #008000\">''</span>,\n",
       "            <span style=\"color: #008000; text-decoration-color: #008000\">'label'</span>: <span style=\"color: #008000; text-decoration-color: #008000\">'excellent'</span>,\n",
       "            <span style=\"color: #008000; text-decoration-color: #008000\">'review_date'</span>: <span style=\"color: #008000; text-decoration-color: #008000\">'2018-06-25 20:05:40'</span>,\n",
       "            <span style=\"color: #008000; text-decoration-color: #008000\">'review_id'</span>: <span style=\"color: #008000; text-decoration-color: #008000\">'62b2cf4d-0abd-40a5-98e3-e97ba4efc109'</span>,\n",
       "            <span style=\"color: #008000; text-decoration-color: #008000\">'review_rating'</span>: <span style=\"color: #008080; text-decoration-color: #008080; font-weight: bold\">5</span>,\n",
       "            <span style=\"color: #008000; text-decoration-color: #008000\">'review_text'</span>: <span style=\"color: #008000; text-decoration-color: #008000\">\"I've always loved this app. The quality is amazing, and its very easy to \\nuse. </span>\n",
       "<span style=\"color: #008000; text-decoration-color: #008000\">Payments are very cheap. Love this app\"</span>,\n",
       "            <span style=\"color: #008000; text-decoration-color: #008000\">'timestamp'</span>: <span style=\"color: #008080; text-decoration-color: #008080; font-weight: bold\">1529953540.0</span>\n",
       "        <span style=\"font-weight: bold\">}</span>,\n",
       "        <span style=\"color: #808000; text-decoration-color: #808000\">vector</span>=<span style=\"color: #800080; text-decoration-color: #800080; font-style: italic\">None</span>,\n",
       "        <span style=\"color: #808000; text-decoration-color: #808000\">shard_key</span>=<span style=\"color: #800080; text-decoration-color: #800080; font-style: italic\">None</span>\n",
       "    <span style=\"font-weight: bold\">)</span>,\n",
       "    <span style=\"color: #800080; text-decoration-color: #800080; font-weight: bold\">ScoredPoint</span><span style=\"font-weight: bold\">(</span>\n",
       "        <span style=\"color: #808000; text-decoration-color: #808000\">id</span>=<span style=\"color: #008000; text-decoration-color: #008000\">'8b84dd0b-ce78-47ab-bdd3-fd6fcca3dff8'</span>,\n",
       "        <span style=\"color: #808000; text-decoration-color: #808000\">version</span>=<span style=\"color: #008080; text-decoration-color: #008080; font-weight: bold\">1165</span>,\n",
       "        <span style=\"color: #808000; text-decoration-color: #808000\">score</span>=<span style=\"color: #008080; text-decoration-color: #008080; font-weight: bold\">0.64692825</span>,\n",
       "        <span style=\"color: #808000; text-decoration-color: #808000\">payload</span>=<span style=\"font-weight: bold\">{</span>\n",
       "            <span style=\"color: #008000; text-decoration-color: #008000\">'author_app_version'</span>: <span style=\"color: #008000; text-decoration-color: #008000\">'5.15.2 build 26545'</span>,\n",
       "            <span style=\"color: #008000; text-decoration-color: #008000\">'label'</span>: <span style=\"color: #008000; text-decoration-color: #008000\">'excellent'</span>,\n",
       "            <span style=\"color: #008000; text-decoration-color: #008000\">'review_date'</span>: <span style=\"color: #008000; text-decoration-color: #008000\">'2018-04-20 02:13:34'</span>,\n",
       "            <span style=\"color: #008000; text-decoration-color: #008000\">'review_id'</span>: <span style=\"color: #008000; text-decoration-color: #008000\">'8b84dd0b-ce78-47ab-bdd3-fd6fcca3dff8'</span>,\n",
       "            <span style=\"color: #008000; text-decoration-color: #008000\">'review_rating'</span>: <span style=\"color: #008080; text-decoration-color: #008080; font-weight: bold\">5</span>,\n",
       "            <span style=\"color: #008000; text-decoration-color: #008000\">'review_text'</span>: <span style=\"color: #008000; text-decoration-color: #008000\">'Is going well for the app'</span>,\n",
       "            <span style=\"color: #008000; text-decoration-color: #008000\">'timestamp'</span>: <span style=\"color: #008080; text-decoration-color: #008080; font-weight: bold\">1524186814.0</span>\n",
       "        <span style=\"font-weight: bold\">}</span>,\n",
       "        <span style=\"color: #808000; text-decoration-color: #808000\">vector</span>=<span style=\"color: #800080; text-decoration-color: #800080; font-style: italic\">None</span>,\n",
       "        <span style=\"color: #808000; text-decoration-color: #808000\">shard_key</span>=<span style=\"color: #800080; text-decoration-color: #800080; font-style: italic\">None</span>\n",
       "    <span style=\"font-weight: bold\">)</span>,\n",
       "    <span style=\"color: #800080; text-decoration-color: #800080; font-weight: bold\">ScoredPoint</span><span style=\"font-weight: bold\">(</span>\n",
       "        <span style=\"color: #808000; text-decoration-color: #808000\">id</span>=<span style=\"color: #008000; text-decoration-color: #008000\">'166fd4bc-5338-450e-86d9-8413804211c0'</span>,\n",
       "        <span style=\"color: #808000; text-decoration-color: #808000\">version</span>=<span style=\"color: #008080; text-decoration-color: #008080; font-weight: bold\">1163</span>,\n",
       "        <span style=\"color: #808000; text-decoration-color: #808000\">score</span>=<span style=\"color: #008080; text-decoration-color: #008080; font-weight: bold\">0.6467472</span>,\n",
       "        <span style=\"color: #808000; text-decoration-color: #808000\">payload</span>=<span style=\"font-weight: bold\">{</span>\n",
       "            <span style=\"color: #008000; text-decoration-color: #008000\">'author_app_version'</span>: <span style=\"color: #008000; text-decoration-color: #008000\">''</span>,\n",
       "            <span style=\"color: #008000; text-decoration-color: #008000\">'label'</span>: <span style=\"color: #008000; text-decoration-color: #008000\">'excellent'</span>,\n",
       "            <span style=\"color: #008000; text-decoration-color: #008000\">'review_date'</span>: <span style=\"color: #008000; text-decoration-color: #008000\">'2018-04-16 00:01:05'</span>,\n",
       "            <span style=\"color: #008000; text-decoration-color: #008000\">'review_id'</span>: <span style=\"color: #008000; text-decoration-color: #008000\">'166fd4bc-5338-450e-86d9-8413804211c0'</span>,\n",
       "            <span style=\"color: #008000; text-decoration-color: #008000\">'review_rating'</span>: <span style=\"color: #008080; text-decoration-color: #008080; font-weight: bold\">5</span>,\n",
       "            <span style=\"color: #008000; text-decoration-color: #008000\">'review_text'</span>: <span style=\"color: #008000; text-decoration-color: #008000\">'Is very good App'</span>,\n",
       "            <span style=\"color: #008000; text-decoration-color: #008000\">'timestamp'</span>: <span style=\"color: #008080; text-decoration-color: #008080; font-weight: bold\">1523833265.0</span>\n",
       "        <span style=\"font-weight: bold\">}</span>,\n",
       "        <span style=\"color: #808000; text-decoration-color: #808000\">vector</span>=<span style=\"color: #800080; text-decoration-color: #800080; font-style: italic\">None</span>,\n",
       "        <span style=\"color: #808000; text-decoration-color: #808000\">shard_key</span>=<span style=\"color: #800080; text-decoration-color: #800080; font-style: italic\">None</span>\n",
       "    <span style=\"font-weight: bold\">)</span>,\n",
       "    <span style=\"color: #800080; text-decoration-color: #800080; font-weight: bold\">ScoredPoint</span><span style=\"font-weight: bold\">(</span>\n",
       "        <span style=\"color: #808000; text-decoration-color: #808000\">id</span>=<span style=\"color: #008000; text-decoration-color: #008000\">'91fb47bc-cdf3-43ac-9803-b12da94ae509'</span>,\n",
       "        <span style=\"color: #808000; text-decoration-color: #808000\">version</span>=<span style=\"color: #008080; text-decoration-color: #008080; font-weight: bold\">1250</span>,\n",
       "        <span style=\"color: #808000; text-decoration-color: #808000\">score</span>=<span style=\"color: #008080; text-decoration-color: #008080; font-weight: bold\">0.6467471</span>,\n",
       "        <span style=\"color: #808000; text-decoration-color: #808000\">payload</span>=<span style=\"font-weight: bold\">{</span>\n",
       "            <span style=\"color: #008000; text-decoration-color: #008000\">'author_app_version'</span>: <span style=\"color: #008000; text-decoration-color: #008000\">''</span>,\n",
       "            <span style=\"color: #008000; text-decoration-color: #008000\">'label'</span>: <span style=\"color: #008000; text-decoration-color: #008000\">'excellent'</span>,\n",
       "            <span style=\"color: #008000; text-decoration-color: #008000\">'review_date'</span>: <span style=\"color: #008000; text-decoration-color: #008000\">'2018-09-01 14:18:54'</span>,\n",
       "            <span style=\"color: #008000; text-decoration-color: #008000\">'review_id'</span>: <span style=\"color: #008000; text-decoration-color: #008000\">'91fb47bc-cdf3-43ac-9803-b12da94ae509'</span>,\n",
       "            <span style=\"color: #008000; text-decoration-color: #008000\">'review_rating'</span>: <span style=\"color: #008080; text-decoration-color: #008080; font-weight: bold\">5</span>,\n",
       "            <span style=\"color: #008000; text-decoration-color: #008000\">'review_text'</span>: <span style=\"color: #008000; text-decoration-color: #008000\">'Is very good app'</span>,\n",
       "            <span style=\"color: #008000; text-decoration-color: #008000\">'timestamp'</span>: <span style=\"color: #008080; text-decoration-color: #008080; font-weight: bold\">1535807934.0</span>\n",
       "        <span style=\"font-weight: bold\">}</span>,\n",
       "        <span style=\"color: #808000; text-decoration-color: #808000\">vector</span>=<span style=\"color: #800080; text-decoration-color: #800080; font-style: italic\">None</span>,\n",
       "        <span style=\"color: #808000; text-decoration-color: #808000\">shard_key</span>=<span style=\"color: #800080; text-decoration-color: #800080; font-style: italic\">None</span>\n",
       "    <span style=\"font-weight: bold\">)</span>\n",
       "<span style=\"font-weight: bold\">]</span>\n",
       "</pre>\n"
      ],
      "text/plain": [
       "\u001b[1m[\u001b[0m\n",
       "    \u001b[1;35mScoredPoint\u001b[0m\u001b[1m(\u001b[0m\n",
       "        \u001b[33mid\u001b[0m=\u001b[32m'af768543-c619-4486-b8b6-e6ae5581bafb'\u001b[0m,\n",
       "        \u001b[33mversion\u001b[0m=\u001b[1;36m1202\u001b[0m,\n",
       "        \u001b[33mscore\u001b[0m=\u001b[1;36m0\u001b[0m\u001b[1;36m.723863\u001b[0m,\n",
       "        \u001b[33mpayload\u001b[0m=\u001b[1m{\u001b[0m\n",
       "            \u001b[32m'author_app_version'\u001b[0m: \u001b[32m'5.16.1 build 26734'\u001b[0m,\n",
       "            \u001b[32m'label'\u001b[0m: \u001b[32m'poor'\u001b[0m,\n",
       "            \u001b[32m'review_date'\u001b[0m: \u001b[32m'2018-06-19 06:09:06'\u001b[0m,\n",
       "            \u001b[32m'review_id'\u001b[0m: \u001b[32m'af768543-c619-4486-b8b6-e6ae5581bafb'\u001b[0m,\n",
       "            \u001b[32m'review_rating'\u001b[0m: \u001b[1;36m2\u001b[0m,\n",
       "            \u001b[32m'review_text'\u001b[0m: \u001b[32m'Very good app, but totally unsatisfactory customer service. Please teach \\nyour \u001b[0m\n",
       "\u001b[32mcustomer service reps to talk to customers with respect if we are \\nhaving an issue that has to be resolved.'\u001b[0m,\n",
       "            \u001b[32m'timestamp'\u001b[0m: \u001b[1;36m1529384946.0\u001b[0m\n",
       "        \u001b[1m}\u001b[0m,\n",
       "        \u001b[33mvector\u001b[0m=\u001b[3;35mNone\u001b[0m,\n",
       "        \u001b[33mshard_key\u001b[0m=\u001b[3;35mNone\u001b[0m\n",
       "    \u001b[1m)\u001b[0m,\n",
       "    \u001b[1;35mScoredPoint\u001b[0m\u001b[1m(\u001b[0m\n",
       "        \u001b[33mid\u001b[0m=\u001b[32m'd83d6e85-4a06-43f8-94e3-0145db726f13'\u001b[0m,\n",
       "        \u001b[33mversion\u001b[0m=\u001b[1;36m1097\u001b[0m,\n",
       "        \u001b[33mscore\u001b[0m=\u001b[1;36m0\u001b[0m\u001b[1;36m.69769436\u001b[0m,\n",
       "        \u001b[33mpayload\u001b[0m=\u001b[1m{\u001b[0m\n",
       "            \u001b[32m'author_app_version'\u001b[0m: \u001b[32m'1.0'\u001b[0m,\n",
       "            \u001b[32m'label'\u001b[0m: \u001b[32m'excellent'\u001b[0m,\n",
       "            \u001b[32m'review_date'\u001b[0m: \u001b[32m'2018-01-02 02:03:57'\u001b[0m,\n",
       "            \u001b[32m'review_id'\u001b[0m: \u001b[32m'd83d6e85-4a06-43f8-94e3-0145db726f13'\u001b[0m,\n",
       "            \u001b[32m'review_rating'\u001b[0m: \u001b[1;36m5\u001b[0m,\n",
       "            \u001b[32m'review_text'\u001b[0m: \u001b[32m'Is. Satisfied  with  the  easygoing  apps'\u001b[0m,\n",
       "            \u001b[32m'timestamp'\u001b[0m: \u001b[1;36m1514855037.0\u001b[0m\n",
       "        \u001b[1m}\u001b[0m,\n",
       "        \u001b[33mvector\u001b[0m=\u001b[3;35mNone\u001b[0m,\n",
       "        \u001b[33mshard_key\u001b[0m=\u001b[3;35mNone\u001b[0m\n",
       "    \u001b[1m)\u001b[0m,\n",
       "    \u001b[1;35mScoredPoint\u001b[0m\u001b[1m(\u001b[0m\n",
       "        \u001b[33mid\u001b[0m=\u001b[32m'188b46f8-6bbf-494a-ab18-76453b8e06aa'\u001b[0m,\n",
       "        \u001b[33mversion\u001b[0m=\u001b[1;36m1230\u001b[0m,\n",
       "        \u001b[33mscore\u001b[0m=\u001b[1;36m0\u001b[0m\u001b[1;36m.67664903\u001b[0m,\n",
       "        \u001b[33mpayload\u001b[0m=\u001b[1m{\u001b[0m\n",
       "            \u001b[32m'author_app_version'\u001b[0m: \u001b[32m''\u001b[0m,\n",
       "            \u001b[32m'label'\u001b[0m: \u001b[32m'excellent'\u001b[0m,\n",
       "            \u001b[32m'review_date'\u001b[0m: \u001b[32m'2018-07-31 04:33:39'\u001b[0m,\n",
       "            \u001b[32m'review_id'\u001b[0m: \u001b[32m'188b46f8-6bbf-494a-ab18-76453b8e06aa'\u001b[0m,\n",
       "            \u001b[32m'review_rating'\u001b[0m: \u001b[1;36m5\u001b[0m,\n",
       "            \u001b[32m'review_text'\u001b[0m: \u001b[32m'Is app is good'\u001b[0m,\n",
       "            \u001b[32m'timestamp'\u001b[0m: \u001b[1;36m1533008019.0\u001b[0m\n",
       "        \u001b[1m}\u001b[0m,\n",
       "        \u001b[33mvector\u001b[0m=\u001b[3;35mNone\u001b[0m,\n",
       "        \u001b[33mshard_key\u001b[0m=\u001b[3;35mNone\u001b[0m\n",
       "    \u001b[1m)\u001b[0m,\n",
       "    \u001b[1;35mScoredPoint\u001b[0m\u001b[1m(\u001b[0m\n",
       "        \u001b[33mid\u001b[0m=\u001b[32m'8f7e2c1a-f170-406b-a20d-7695216c727a'\u001b[0m,\n",
       "        \u001b[33mversion\u001b[0m=\u001b[1;36m1109\u001b[0m,\n",
       "        \u001b[33mscore\u001b[0m=\u001b[1;36m0\u001b[0m\u001b[1;36m.65183043\u001b[0m,\n",
       "        \u001b[33mpayload\u001b[0m=\u001b[1m{\u001b[0m\n",
       "            \u001b[32m'author_app_version'\u001b[0m: \u001b[32m''\u001b[0m,\n",
       "            \u001b[32m'label'\u001b[0m: \u001b[32m'very good'\u001b[0m,\n",
       "            \u001b[32m'review_date'\u001b[0m: \u001b[32m'2018-01-21 03:51:15'\u001b[0m,\n",
       "            \u001b[32m'review_id'\u001b[0m: \u001b[32m'8f7e2c1a-f170-406b-a20d-7695216c727a'\u001b[0m,\n",
       "            \u001b[32m'review_rating'\u001b[0m: \u001b[1;36m4\u001b[0m,\n",
       "            \u001b[32m'review_text'\u001b[0m: \u001b[32m'Is a good app'\u001b[0m,\n",
       "            \u001b[32m'timestamp'\u001b[0m: \u001b[1;36m1516503075.0\u001b[0m\n",
       "        \u001b[1m}\u001b[0m,\n",
       "        \u001b[33mvector\u001b[0m=\u001b[3;35mNone\u001b[0m,\n",
       "        \u001b[33mshard_key\u001b[0m=\u001b[3;35mNone\u001b[0m\n",
       "    \u001b[1m)\u001b[0m,\n",
       "    \u001b[1;35mScoredPoint\u001b[0m\u001b[1m(\u001b[0m\n",
       "        \u001b[33mid\u001b[0m=\u001b[32m'5d2129e9-2616-4635-9c93-a6be9dffe7db'\u001b[0m,\n",
       "        \u001b[33mversion\u001b[0m=\u001b[1;36m1111\u001b[0m,\n",
       "        \u001b[33mscore\u001b[0m=\u001b[1;36m0\u001b[0m\u001b[1;36m.65183043\u001b[0m,\n",
       "        \u001b[33mpayload\u001b[0m=\u001b[1m{\u001b[0m\n",
       "            \u001b[32m'author_app_version'\u001b[0m: \u001b[32m''\u001b[0m,\n",
       "            \u001b[32m'label'\u001b[0m: \u001b[32m'excellent'\u001b[0m,\n",
       "            \u001b[32m'review_date'\u001b[0m: \u001b[32m'2018-01-24 03:52:41'\u001b[0m,\n",
       "            \u001b[32m'review_id'\u001b[0m: \u001b[32m'5d2129e9-2616-4635-9c93-a6be9dffe7db'\u001b[0m,\n",
       "            \u001b[32m'review_rating'\u001b[0m: \u001b[1;36m5\u001b[0m,\n",
       "            \u001b[32m'review_text'\u001b[0m: \u001b[32m'is a good app'\u001b[0m,\n",
       "            \u001b[32m'timestamp'\u001b[0m: \u001b[1;36m1516762361.0\u001b[0m\n",
       "        \u001b[1m}\u001b[0m,\n",
       "        \u001b[33mvector\u001b[0m=\u001b[3;35mNone\u001b[0m,\n",
       "        \u001b[33mshard_key\u001b[0m=\u001b[3;35mNone\u001b[0m\n",
       "    \u001b[1m)\u001b[0m,\n",
       "    \u001b[1;35mScoredPoint\u001b[0m\u001b[1m(\u001b[0m\n",
       "        \u001b[33mid\u001b[0m=\u001b[32m'13982fe1-463e-407f-88f5-79fcd55a2c8a'\u001b[0m,\n",
       "        \u001b[33mversion\u001b[0m=\u001b[1;36m1173\u001b[0m,\n",
       "        \u001b[33mscore\u001b[0m=\u001b[1;36m0\u001b[0m\u001b[1;36m.65183043\u001b[0m,\n",
       "        \u001b[33mpayload\u001b[0m=\u001b[1m{\u001b[0m\n",
       "            \u001b[32m'author_app_version'\u001b[0m: \u001b[32m''\u001b[0m,\n",
       "            \u001b[32m'label'\u001b[0m: \u001b[32m'excellent'\u001b[0m,\n",
       "            \u001b[32m'review_date'\u001b[0m: \u001b[32m'2018-05-05 01:23:02'\u001b[0m,\n",
       "            \u001b[32m'review_id'\u001b[0m: \u001b[32m'13982fe1-463e-407f-88f5-79fcd55a2c8a'\u001b[0m,\n",
       "            \u001b[32m'review_rating'\u001b[0m: \u001b[1;36m5\u001b[0m,\n",
       "            \u001b[32m'review_text'\u001b[0m: \u001b[32m'Is a good App'\u001b[0m,\n",
       "            \u001b[32m'timestamp'\u001b[0m: \u001b[1;36m1525479782.0\u001b[0m\n",
       "        \u001b[1m}\u001b[0m,\n",
       "        \u001b[33mvector\u001b[0m=\u001b[3;35mNone\u001b[0m,\n",
       "        \u001b[33mshard_key\u001b[0m=\u001b[3;35mNone\u001b[0m\n",
       "    \u001b[1m)\u001b[0m,\n",
       "    \u001b[1;35mScoredPoint\u001b[0m\u001b[1m(\u001b[0m\n",
       "        \u001b[33mid\u001b[0m=\u001b[32m'745cd3ed-ce1d-4373-8762-0dc9477c227d'\u001b[0m,\n",
       "        \u001b[33mversion\u001b[0m=\u001b[1;36m1101\u001b[0m,\n",
       "        \u001b[33mscore\u001b[0m=\u001b[1;36m0\u001b[0m\u001b[1;36m.65183043\u001b[0m,\n",
       "        \u001b[33mpayload\u001b[0m=\u001b[1m{\u001b[0m\n",
       "            \u001b[32m'author_app_version'\u001b[0m: \u001b[32m''\u001b[0m,\n",
       "            \u001b[32m'label'\u001b[0m: \u001b[32m'excellent'\u001b[0m,\n",
       "            \u001b[32m'review_date'\u001b[0m: \u001b[32m'2018-01-07 18:09:43'\u001b[0m,\n",
       "            \u001b[32m'review_id'\u001b[0m: \u001b[32m'745cd3ed-ce1d-4373-8762-0dc9477c227d'\u001b[0m,\n",
       "            \u001b[32m'review_rating'\u001b[0m: \u001b[1;36m5\u001b[0m,\n",
       "            \u001b[32m'review_text'\u001b[0m: \u001b[32m'Is a good app'\u001b[0m,\n",
       "            \u001b[32m'timestamp'\u001b[0m: \u001b[1;36m1515344983.0\u001b[0m\n",
       "        \u001b[1m}\u001b[0m,\n",
       "        \u001b[33mvector\u001b[0m=\u001b[3;35mNone\u001b[0m,\n",
       "        \u001b[33mshard_key\u001b[0m=\u001b[3;35mNone\u001b[0m\n",
       "    \u001b[1m)\u001b[0m,\n",
       "    \u001b[1;35mScoredPoint\u001b[0m\u001b[1m(\u001b[0m\n",
       "        \u001b[33mid\u001b[0m=\u001b[32m'47e346d0-37c4-438e-be76-2db8317972e0'\u001b[0m,\n",
       "        \u001b[33mversion\u001b[0m=\u001b[1;36m1294\u001b[0m,\n",
       "        \u001b[33mscore\u001b[0m=\u001b[1;36m0\u001b[0m\u001b[1;36m.65183043\u001b[0m,\n",
       "        \u001b[33mpayload\u001b[0m=\u001b[1m{\u001b[0m\n",
       "            \u001b[32m'author_app_version'\u001b[0m: \u001b[32m'6.11.0 build 29552'\u001b[0m,\n",
       "            \u001b[32m'label'\u001b[0m: \u001b[32m'excellent'\u001b[0m,\n",
       "            \u001b[32m'review_date'\u001b[0m: \u001b[32m'2018-10-28 16:55:39'\u001b[0m,\n",
       "            \u001b[32m'review_id'\u001b[0m: \u001b[32m'47e346d0-37c4-438e-be76-2db8317972e0'\u001b[0m,\n",
       "            \u001b[32m'review_rating'\u001b[0m: \u001b[1;36m5\u001b[0m,\n",
       "            \u001b[32m'review_text'\u001b[0m: \u001b[32m'Is a good app'\u001b[0m,\n",
       "            \u001b[32m'timestamp'\u001b[0m: \u001b[1;36m1540742139.0\u001b[0m\n",
       "        \u001b[1m}\u001b[0m,\n",
       "        \u001b[33mvector\u001b[0m=\u001b[3;35mNone\u001b[0m,\n",
       "        \u001b[33mshard_key\u001b[0m=\u001b[3;35mNone\u001b[0m\n",
       "    \u001b[1m)\u001b[0m,\n",
       "    \u001b[1;35mScoredPoint\u001b[0m\u001b[1m(\u001b[0m\n",
       "        \u001b[33mid\u001b[0m=\u001b[32m'7ebd240f-13be-4aaf-b337-450b331e8925'\u001b[0m,\n",
       "        \u001b[33mversion\u001b[0m=\u001b[1;36m1270\u001b[0m,\n",
       "        \u001b[33mscore\u001b[0m=\u001b[1;36m0\u001b[0m\u001b[1;36m.65183043\u001b[0m,\n",
       "        \u001b[33mpayload\u001b[0m=\u001b[1m{\u001b[0m\n",
       "            \u001b[32m'author_app_version'\u001b[0m: \u001b[32m''\u001b[0m,\n",
       "            \u001b[32m'label'\u001b[0m: \u001b[32m'excellent'\u001b[0m,\n",
       "            \u001b[32m'review_date'\u001b[0m: \u001b[32m'2018-10-04 06:17:04'\u001b[0m,\n",
       "            \u001b[32m'review_id'\u001b[0m: \u001b[32m'7ebd240f-13be-4aaf-b337-450b331e8925'\u001b[0m,\n",
       "            \u001b[32m'review_rating'\u001b[0m: \u001b[1;36m5\u001b[0m,\n",
       "            \u001b[32m'review_text'\u001b[0m: \u001b[32m'Is a good app'\u001b[0m,\n",
       "            \u001b[32m'timestamp'\u001b[0m: \u001b[1;36m1538630224.0\u001b[0m\n",
       "        \u001b[1m}\u001b[0m,\n",
       "        \u001b[33mvector\u001b[0m=\u001b[3;35mNone\u001b[0m,\n",
       "        \u001b[33mshard_key\u001b[0m=\u001b[3;35mNone\u001b[0m\n",
       "    \u001b[1m)\u001b[0m,\n",
       "    \u001b[1;35mScoredPoint\u001b[0m\u001b[1m(\u001b[0m\n",
       "        \u001b[33mid\u001b[0m=\u001b[32m'bb7e99f8-83d5-4b18-8bc9-1618136831dd'\u001b[0m,\n",
       "        \u001b[33mversion\u001b[0m=\u001b[1;36m1149\u001b[0m,\n",
       "        \u001b[33mscore\u001b[0m=\u001b[1;36m0\u001b[0m\u001b[1;36m.65089566\u001b[0m,\n",
       "        \u001b[33mpayload\u001b[0m=\u001b[1m{\u001b[0m\n",
       "            \u001b[32m'author_app_version'\u001b[0m: \u001b[32m''\u001b[0m,\n",
       "            \u001b[32m'label'\u001b[0m: \u001b[32m'excellent'\u001b[0m,\n",
       "            \u001b[32m'review_date'\u001b[0m: \u001b[32m'2018-03-26 17:41:38'\u001b[0m,\n",
       "            \u001b[32m'review_id'\u001b[0m: \u001b[32m'bb7e99f8-83d5-4b18-8bc9-1618136831dd'\u001b[0m,\n",
       "            \u001b[32m'review_rating'\u001b[0m: \u001b[1;36m5\u001b[0m,\n",
       "            \u001b[32m'review_text'\u001b[0m: \u001b[32m'Is good app'\u001b[0m,\n",
       "            \u001b[32m'timestamp'\u001b[0m: \u001b[1;36m1522082498.0\u001b[0m\n",
       "        \u001b[1m}\u001b[0m,\n",
       "        \u001b[33mvector\u001b[0m=\u001b[3;35mNone\u001b[0m,\n",
       "        \u001b[33mshard_key\u001b[0m=\u001b[3;35mNone\u001b[0m\n",
       "    \u001b[1m)\u001b[0m,\n",
       "    \u001b[1;35mScoredPoint\u001b[0m\u001b[1m(\u001b[0m\n",
       "        \u001b[33mid\u001b[0m=\u001b[32m'40d015cb-7c02-402b-8d6f-270655ea99f0'\u001b[0m,\n",
       "        \u001b[33mversion\u001b[0m=\u001b[1;36m1237\u001b[0m,\n",
       "        \u001b[33mscore\u001b[0m=\u001b[1;36m0\u001b[0m\u001b[1;36m.65089566\u001b[0m,\n",
       "        \u001b[33mpayload\u001b[0m=\u001b[1m{\u001b[0m\n",
       "            \u001b[32m'author_app_version'\u001b[0m: \u001b[32m''\u001b[0m,\n",
       "            \u001b[32m'label'\u001b[0m: \u001b[32m'excellent'\u001b[0m,\n",
       "            \u001b[32m'review_date'\u001b[0m: \u001b[32m'2018-08-11 19:55:34'\u001b[0m,\n",
       "            \u001b[32m'review_id'\u001b[0m: \u001b[32m'40d015cb-7c02-402b-8d6f-270655ea99f0'\u001b[0m,\n",
       "            \u001b[32m'review_rating'\u001b[0m: \u001b[1;36m5\u001b[0m,\n",
       "            \u001b[32m'review_text'\u001b[0m: \u001b[32m'Is good app'\u001b[0m,\n",
       "            \u001b[32m'timestamp'\u001b[0m: \u001b[1;36m1534013734.0\u001b[0m\n",
       "        \u001b[1m}\u001b[0m,\n",
       "        \u001b[33mvector\u001b[0m=\u001b[3;35mNone\u001b[0m,\n",
       "        \u001b[33mshard_key\u001b[0m=\u001b[3;35mNone\u001b[0m\n",
       "    \u001b[1m)\u001b[0m,\n",
       "    \u001b[1;35mScoredPoint\u001b[0m\u001b[1m(\u001b[0m\n",
       "        \u001b[33mid\u001b[0m=\u001b[32m'62b2cf4d-0abd-40a5-98e3-e97ba4efc109'\u001b[0m,\n",
       "        \u001b[33mversion\u001b[0m=\u001b[1;36m1207\u001b[0m,\n",
       "        \u001b[33mscore\u001b[0m=\u001b[1;36m0\u001b[0m\u001b[1;36m.6470043\u001b[0m,\n",
       "        \u001b[33mpayload\u001b[0m=\u001b[1m{\u001b[0m\n",
       "            \u001b[32m'author_app_version'\u001b[0m: \u001b[32m''\u001b[0m,\n",
       "            \u001b[32m'label'\u001b[0m: \u001b[32m'excellent'\u001b[0m,\n",
       "            \u001b[32m'review_date'\u001b[0m: \u001b[32m'2018-06-25 20:05:40'\u001b[0m,\n",
       "            \u001b[32m'review_id'\u001b[0m: \u001b[32m'62b2cf4d-0abd-40a5-98e3-e97ba4efc109'\u001b[0m,\n",
       "            \u001b[32m'review_rating'\u001b[0m: \u001b[1;36m5\u001b[0m,\n",
       "            \u001b[32m'review_text'\u001b[0m: \u001b[32m\"I've always loved this app. The quality is amazing, and its very easy to \\nuse. \u001b[0m\n",
       "\u001b[32mPayments are very cheap. Love this app\"\u001b[0m,\n",
       "            \u001b[32m'timestamp'\u001b[0m: \u001b[1;36m1529953540.0\u001b[0m\n",
       "        \u001b[1m}\u001b[0m,\n",
       "        \u001b[33mvector\u001b[0m=\u001b[3;35mNone\u001b[0m,\n",
       "        \u001b[33mshard_key\u001b[0m=\u001b[3;35mNone\u001b[0m\n",
       "    \u001b[1m)\u001b[0m,\n",
       "    \u001b[1;35mScoredPoint\u001b[0m\u001b[1m(\u001b[0m\n",
       "        \u001b[33mid\u001b[0m=\u001b[32m'8b84dd0b-ce78-47ab-bdd3-fd6fcca3dff8'\u001b[0m,\n",
       "        \u001b[33mversion\u001b[0m=\u001b[1;36m1165\u001b[0m,\n",
       "        \u001b[33mscore\u001b[0m=\u001b[1;36m0\u001b[0m\u001b[1;36m.64692825\u001b[0m,\n",
       "        \u001b[33mpayload\u001b[0m=\u001b[1m{\u001b[0m\n",
       "            \u001b[32m'author_app_version'\u001b[0m: \u001b[32m'5.15.2 build 26545'\u001b[0m,\n",
       "            \u001b[32m'label'\u001b[0m: \u001b[32m'excellent'\u001b[0m,\n",
       "            \u001b[32m'review_date'\u001b[0m: \u001b[32m'2018-04-20 02:13:34'\u001b[0m,\n",
       "            \u001b[32m'review_id'\u001b[0m: \u001b[32m'8b84dd0b-ce78-47ab-bdd3-fd6fcca3dff8'\u001b[0m,\n",
       "            \u001b[32m'review_rating'\u001b[0m: \u001b[1;36m5\u001b[0m,\n",
       "            \u001b[32m'review_text'\u001b[0m: \u001b[32m'Is going well for the app'\u001b[0m,\n",
       "            \u001b[32m'timestamp'\u001b[0m: \u001b[1;36m1524186814.0\u001b[0m\n",
       "        \u001b[1m}\u001b[0m,\n",
       "        \u001b[33mvector\u001b[0m=\u001b[3;35mNone\u001b[0m,\n",
       "        \u001b[33mshard_key\u001b[0m=\u001b[3;35mNone\u001b[0m\n",
       "    \u001b[1m)\u001b[0m,\n",
       "    \u001b[1;35mScoredPoint\u001b[0m\u001b[1m(\u001b[0m\n",
       "        \u001b[33mid\u001b[0m=\u001b[32m'166fd4bc-5338-450e-86d9-8413804211c0'\u001b[0m,\n",
       "        \u001b[33mversion\u001b[0m=\u001b[1;36m1163\u001b[0m,\n",
       "        \u001b[33mscore\u001b[0m=\u001b[1;36m0\u001b[0m\u001b[1;36m.6467472\u001b[0m,\n",
       "        \u001b[33mpayload\u001b[0m=\u001b[1m{\u001b[0m\n",
       "            \u001b[32m'author_app_version'\u001b[0m: \u001b[32m''\u001b[0m,\n",
       "            \u001b[32m'label'\u001b[0m: \u001b[32m'excellent'\u001b[0m,\n",
       "            \u001b[32m'review_date'\u001b[0m: \u001b[32m'2018-04-16 00:01:05'\u001b[0m,\n",
       "            \u001b[32m'review_id'\u001b[0m: \u001b[32m'166fd4bc-5338-450e-86d9-8413804211c0'\u001b[0m,\n",
       "            \u001b[32m'review_rating'\u001b[0m: \u001b[1;36m5\u001b[0m,\n",
       "            \u001b[32m'review_text'\u001b[0m: \u001b[32m'Is very good App'\u001b[0m,\n",
       "            \u001b[32m'timestamp'\u001b[0m: \u001b[1;36m1523833265.0\u001b[0m\n",
       "        \u001b[1m}\u001b[0m,\n",
       "        \u001b[33mvector\u001b[0m=\u001b[3;35mNone\u001b[0m,\n",
       "        \u001b[33mshard_key\u001b[0m=\u001b[3;35mNone\u001b[0m\n",
       "    \u001b[1m)\u001b[0m,\n",
       "    \u001b[1;35mScoredPoint\u001b[0m\u001b[1m(\u001b[0m\n",
       "        \u001b[33mid\u001b[0m=\u001b[32m'91fb47bc-cdf3-43ac-9803-b12da94ae509'\u001b[0m,\n",
       "        \u001b[33mversion\u001b[0m=\u001b[1;36m1250\u001b[0m,\n",
       "        \u001b[33mscore\u001b[0m=\u001b[1;36m0\u001b[0m\u001b[1;36m.6467471\u001b[0m,\n",
       "        \u001b[33mpayload\u001b[0m=\u001b[1m{\u001b[0m\n",
       "            \u001b[32m'author_app_version'\u001b[0m: \u001b[32m''\u001b[0m,\n",
       "            \u001b[32m'label'\u001b[0m: \u001b[32m'excellent'\u001b[0m,\n",
       "            \u001b[32m'review_date'\u001b[0m: \u001b[32m'2018-09-01 14:18:54'\u001b[0m,\n",
       "            \u001b[32m'review_id'\u001b[0m: \u001b[32m'91fb47bc-cdf3-43ac-9803-b12da94ae509'\u001b[0m,\n",
       "            \u001b[32m'review_rating'\u001b[0m: \u001b[1;36m5\u001b[0m,\n",
       "            \u001b[32m'review_text'\u001b[0m: \u001b[32m'Is very good app'\u001b[0m,\n",
       "            \u001b[32m'timestamp'\u001b[0m: \u001b[1;36m1535807934.0\u001b[0m\n",
       "        \u001b[1m}\u001b[0m,\n",
       "        \u001b[33mvector\u001b[0m=\u001b[3;35mNone\u001b[0m,\n",
       "        \u001b[33mshard_key\u001b[0m=\u001b[3;35mNone\u001b[0m\n",
       "    \u001b[1m)\u001b[0m\n",
       "\u001b[1m]\u001b[0m\n"
      ]
     },
     "metadata": {},
     "output_type": "display_data"
    }
   ],
   "source": [
    "N: int = 8_000\n",
    "query: str = \"are the customers satisfied with the app?\"\n",
    "query_vector: list[float] = encoder.encode(query).tolist()\n",
    "\n",
    "start_date, stop_date = [\n",
    "    \"2018-01-01 00:00:00\",\n",
    "    \"2019-01-01 00:00:00\",\n",
    "]  # yyyy-mm-dd HH:MM:SS\n",
    "start_time: float = get_timestamp([start_date])[0]\n",
    "stop_time: float = get_timestamp([stop_date])[0]\n",
    "\n",
    "query_filter: dict[str, Any] = {\n",
    "    \"must\": [\n",
    "        {\"key\": \"timestamp\", \"range\": {\"gte\": start_time, \"lte\": stop_time}},\n",
    "    ]\n",
    "}\n",
    "\n",
    "hits: list[Any] = client.search(\n",
    "    collection_name=COLLECTION_NAME,\n",
    "    query_vector=query_vector,\n",
    "    query_filter=query_filter,\n",
    "    limit=N,\n",
    ")\n",
    "\n",
    "print(hits[:15])"
   ]
  },
  {
   "cell_type": "code",
   "execution_count": 31,
   "metadata": {},
   "outputs": [
    {
     "data": {
      "application/vnd.plotly.v1+json": {
       "config": {
        "plotlyServerURL": "https://plot.ly"
       },
       "data": [
        {
         "alignmentgroup": "True",
         "hovertemplate": "label=%{x}<br>count=%{y}<extra></extra>",
         "legendgroup": "poor",
         "marker": {
          "color": "#636efa",
          "pattern": {
           "shape": ""
          }
         },
         "name": "poor",
         "offsetgroup": "poor",
         "orientation": "v",
         "showlegend": true,
         "textposition": "auto",
         "texttemplate": "%{y}",
         "type": "bar",
         "x": [
          "poor"
         ],
         "xaxis": "x",
         "y": [
          136
         ],
         "yaxis": "y"
        },
        {
         "alignmentgroup": "True",
         "hovertemplate": "label=%{x}<br>count=%{y}<extra></extra>",
         "legendgroup": "excellent",
         "marker": {
          "color": "#EF553B",
          "pattern": {
           "shape": ""
          }
         },
         "name": "excellent",
         "offsetgroup": "excellent",
         "orientation": "v",
         "showlegend": true,
         "textposition": "auto",
         "texttemplate": "%{y}",
         "type": "bar",
         "x": [
          "excellent"
         ],
         "xaxis": "x",
         "y": [
          6447
         ],
         "yaxis": "y"
        },
        {
         "alignmentgroup": "True",
         "hovertemplate": "label=%{x}<br>count=%{y}<extra></extra>",
         "legendgroup": "very good",
         "marker": {
          "color": "#00cc96",
          "pattern": {
           "shape": ""
          }
         },
         "name": "very good",
         "offsetgroup": "very good",
         "orientation": "v",
         "showlegend": true,
         "textposition": "auto",
         "texttemplate": "%{y}",
         "type": "bar",
         "x": [
          "very good"
         ],
         "xaxis": "x",
         "y": [
          704
         ],
         "yaxis": "y"
        },
        {
         "alignmentgroup": "True",
         "hovertemplate": "label=%{x}<br>count=%{y}<extra></extra>",
         "legendgroup": "okay",
         "marker": {
          "color": "#ab63fa",
          "pattern": {
           "shape": ""
          }
         },
         "name": "okay",
         "offsetgroup": "okay",
         "orientation": "v",
         "showlegend": true,
         "textposition": "auto",
         "texttemplate": "%{y}",
         "type": "bar",
         "x": [
          "okay"
         ],
         "xaxis": "x",
         "y": [
          308
         ],
         "yaxis": "y"
        },
        {
         "alignmentgroup": "True",
         "hovertemplate": "label=%{x}<br>count=%{y}<extra></extra>",
         "legendgroup": "very poor",
         "marker": {
          "color": "#FFA15A",
          "pattern": {
           "shape": ""
          }
         },
         "name": "very poor",
         "offsetgroup": "very poor",
         "orientation": "v",
         "showlegend": true,
         "textposition": "auto",
         "texttemplate": "%{y}",
         "type": "bar",
         "x": [
          "very poor"
         ],
         "xaxis": "x",
         "y": [
          405
         ],
         "yaxis": "y"
        }
       ],
       "layout": {
        "barmode": "relative",
        "legend": {
         "title": {
          "text": "label"
         },
         "tracegroupgap": 0
        },
        "template": {
         "data": {
          "bar": [
           {
            "error_x": {
             "color": "#2a3f5f"
            },
            "error_y": {
             "color": "#2a3f5f"
            },
            "marker": {
             "line": {
              "color": "#E5ECF6",
              "width": 0.5
             },
             "pattern": {
              "fillmode": "overlay",
              "size": 10,
              "solidity": 0.2
             }
            },
            "type": "bar"
           }
          ],
          "barpolar": [
           {
            "marker": {
             "line": {
              "color": "#E5ECF6",
              "width": 0.5
             },
             "pattern": {
              "fillmode": "overlay",
              "size": 10,
              "solidity": 0.2
             }
            },
            "type": "barpolar"
           }
          ],
          "carpet": [
           {
            "aaxis": {
             "endlinecolor": "#2a3f5f",
             "gridcolor": "white",
             "linecolor": "white",
             "minorgridcolor": "white",
             "startlinecolor": "#2a3f5f"
            },
            "baxis": {
             "endlinecolor": "#2a3f5f",
             "gridcolor": "white",
             "linecolor": "white",
             "minorgridcolor": "white",
             "startlinecolor": "#2a3f5f"
            },
            "type": "carpet"
           }
          ],
          "choropleth": [
           {
            "colorbar": {
             "outlinewidth": 0,
             "ticks": ""
            },
            "type": "choropleth"
           }
          ],
          "contour": [
           {
            "colorbar": {
             "outlinewidth": 0,
             "ticks": ""
            },
            "colorscale": [
             [
              0,
              "#0d0887"
             ],
             [
              0.1111111111111111,
              "#46039f"
             ],
             [
              0.2222222222222222,
              "#7201a8"
             ],
             [
              0.3333333333333333,
              "#9c179e"
             ],
             [
              0.4444444444444444,
              "#bd3786"
             ],
             [
              0.5555555555555556,
              "#d8576b"
             ],
             [
              0.6666666666666666,
              "#ed7953"
             ],
             [
              0.7777777777777778,
              "#fb9f3a"
             ],
             [
              0.8888888888888888,
              "#fdca26"
             ],
             [
              1,
              "#f0f921"
             ]
            ],
            "type": "contour"
           }
          ],
          "contourcarpet": [
           {
            "colorbar": {
             "outlinewidth": 0,
             "ticks": ""
            },
            "type": "contourcarpet"
           }
          ],
          "heatmap": [
           {
            "colorbar": {
             "outlinewidth": 0,
             "ticks": ""
            },
            "colorscale": [
             [
              0,
              "#0d0887"
             ],
             [
              0.1111111111111111,
              "#46039f"
             ],
             [
              0.2222222222222222,
              "#7201a8"
             ],
             [
              0.3333333333333333,
              "#9c179e"
             ],
             [
              0.4444444444444444,
              "#bd3786"
             ],
             [
              0.5555555555555556,
              "#d8576b"
             ],
             [
              0.6666666666666666,
              "#ed7953"
             ],
             [
              0.7777777777777778,
              "#fb9f3a"
             ],
             [
              0.8888888888888888,
              "#fdca26"
             ],
             [
              1,
              "#f0f921"
             ]
            ],
            "type": "heatmap"
           }
          ],
          "heatmapgl": [
           {
            "colorbar": {
             "outlinewidth": 0,
             "ticks": ""
            },
            "colorscale": [
             [
              0,
              "#0d0887"
             ],
             [
              0.1111111111111111,
              "#46039f"
             ],
             [
              0.2222222222222222,
              "#7201a8"
             ],
             [
              0.3333333333333333,
              "#9c179e"
             ],
             [
              0.4444444444444444,
              "#bd3786"
             ],
             [
              0.5555555555555556,
              "#d8576b"
             ],
             [
              0.6666666666666666,
              "#ed7953"
             ],
             [
              0.7777777777777778,
              "#fb9f3a"
             ],
             [
              0.8888888888888888,
              "#fdca26"
             ],
             [
              1,
              "#f0f921"
             ]
            ],
            "type": "heatmapgl"
           }
          ],
          "histogram": [
           {
            "marker": {
             "pattern": {
              "fillmode": "overlay",
              "size": 10,
              "solidity": 0.2
             }
            },
            "type": "histogram"
           }
          ],
          "histogram2d": [
           {
            "colorbar": {
             "outlinewidth": 0,
             "ticks": ""
            },
            "colorscale": [
             [
              0,
              "#0d0887"
             ],
             [
              0.1111111111111111,
              "#46039f"
             ],
             [
              0.2222222222222222,
              "#7201a8"
             ],
             [
              0.3333333333333333,
              "#9c179e"
             ],
             [
              0.4444444444444444,
              "#bd3786"
             ],
             [
              0.5555555555555556,
              "#d8576b"
             ],
             [
              0.6666666666666666,
              "#ed7953"
             ],
             [
              0.7777777777777778,
              "#fb9f3a"
             ],
             [
              0.8888888888888888,
              "#fdca26"
             ],
             [
              1,
              "#f0f921"
             ]
            ],
            "type": "histogram2d"
           }
          ],
          "histogram2dcontour": [
           {
            "colorbar": {
             "outlinewidth": 0,
             "ticks": ""
            },
            "colorscale": [
             [
              0,
              "#0d0887"
             ],
             [
              0.1111111111111111,
              "#46039f"
             ],
             [
              0.2222222222222222,
              "#7201a8"
             ],
             [
              0.3333333333333333,
              "#9c179e"
             ],
             [
              0.4444444444444444,
              "#bd3786"
             ],
             [
              0.5555555555555556,
              "#d8576b"
             ],
             [
              0.6666666666666666,
              "#ed7953"
             ],
             [
              0.7777777777777778,
              "#fb9f3a"
             ],
             [
              0.8888888888888888,
              "#fdca26"
             ],
             [
              1,
              "#f0f921"
             ]
            ],
            "type": "histogram2dcontour"
           }
          ],
          "mesh3d": [
           {
            "colorbar": {
             "outlinewidth": 0,
             "ticks": ""
            },
            "type": "mesh3d"
           }
          ],
          "parcoords": [
           {
            "line": {
             "colorbar": {
              "outlinewidth": 0,
              "ticks": ""
             }
            },
            "type": "parcoords"
           }
          ],
          "pie": [
           {
            "automargin": true,
            "type": "pie"
           }
          ],
          "scatter": [
           {
            "fillpattern": {
             "fillmode": "overlay",
             "size": 10,
             "solidity": 0.2
            },
            "type": "scatter"
           }
          ],
          "scatter3d": [
           {
            "line": {
             "colorbar": {
              "outlinewidth": 0,
              "ticks": ""
             }
            },
            "marker": {
             "colorbar": {
              "outlinewidth": 0,
              "ticks": ""
             }
            },
            "type": "scatter3d"
           }
          ],
          "scattercarpet": [
           {
            "marker": {
             "colorbar": {
              "outlinewidth": 0,
              "ticks": ""
             }
            },
            "type": "scattercarpet"
           }
          ],
          "scattergeo": [
           {
            "marker": {
             "colorbar": {
              "outlinewidth": 0,
              "ticks": ""
             }
            },
            "type": "scattergeo"
           }
          ],
          "scattergl": [
           {
            "marker": {
             "colorbar": {
              "outlinewidth": 0,
              "ticks": ""
             }
            },
            "type": "scattergl"
           }
          ],
          "scattermapbox": [
           {
            "marker": {
             "colorbar": {
              "outlinewidth": 0,
              "ticks": ""
             }
            },
            "type": "scattermapbox"
           }
          ],
          "scatterpolar": [
           {
            "marker": {
             "colorbar": {
              "outlinewidth": 0,
              "ticks": ""
             }
            },
            "type": "scatterpolar"
           }
          ],
          "scatterpolargl": [
           {
            "marker": {
             "colorbar": {
              "outlinewidth": 0,
              "ticks": ""
             }
            },
            "type": "scatterpolargl"
           }
          ],
          "scatterternary": [
           {
            "marker": {
             "colorbar": {
              "outlinewidth": 0,
              "ticks": ""
             }
            },
            "type": "scatterternary"
           }
          ],
          "surface": [
           {
            "colorbar": {
             "outlinewidth": 0,
             "ticks": ""
            },
            "colorscale": [
             [
              0,
              "#0d0887"
             ],
             [
              0.1111111111111111,
              "#46039f"
             ],
             [
              0.2222222222222222,
              "#7201a8"
             ],
             [
              0.3333333333333333,
              "#9c179e"
             ],
             [
              0.4444444444444444,
              "#bd3786"
             ],
             [
              0.5555555555555556,
              "#d8576b"
             ],
             [
              0.6666666666666666,
              "#ed7953"
             ],
             [
              0.7777777777777778,
              "#fb9f3a"
             ],
             [
              0.8888888888888888,
              "#fdca26"
             ],
             [
              1,
              "#f0f921"
             ]
            ],
            "type": "surface"
           }
          ],
          "table": [
           {
            "cells": {
             "fill": {
              "color": "#EBF0F8"
             },
             "line": {
              "color": "white"
             }
            },
            "header": {
             "fill": {
              "color": "#C8D4E3"
             },
             "line": {
              "color": "white"
             }
            },
            "type": "table"
           }
          ]
         },
         "layout": {
          "annotationdefaults": {
           "arrowcolor": "#2a3f5f",
           "arrowhead": 0,
           "arrowwidth": 1
          },
          "autotypenumbers": "strict",
          "coloraxis": {
           "colorbar": {
            "outlinewidth": 0,
            "ticks": ""
           }
          },
          "colorscale": {
           "diverging": [
            [
             0,
             "#8e0152"
            ],
            [
             0.1,
             "#c51b7d"
            ],
            [
             0.2,
             "#de77ae"
            ],
            [
             0.3,
             "#f1b6da"
            ],
            [
             0.4,
             "#fde0ef"
            ],
            [
             0.5,
             "#f7f7f7"
            ],
            [
             0.6,
             "#e6f5d0"
            ],
            [
             0.7,
             "#b8e186"
            ],
            [
             0.8,
             "#7fbc41"
            ],
            [
             0.9,
             "#4d9221"
            ],
            [
             1,
             "#276419"
            ]
           ],
           "sequential": [
            [
             0,
             "#0d0887"
            ],
            [
             0.1111111111111111,
             "#46039f"
            ],
            [
             0.2222222222222222,
             "#7201a8"
            ],
            [
             0.3333333333333333,
             "#9c179e"
            ],
            [
             0.4444444444444444,
             "#bd3786"
            ],
            [
             0.5555555555555556,
             "#d8576b"
            ],
            [
             0.6666666666666666,
             "#ed7953"
            ],
            [
             0.7777777777777778,
             "#fb9f3a"
            ],
            [
             0.8888888888888888,
             "#fdca26"
            ],
            [
             1,
             "#f0f921"
            ]
           ],
           "sequentialminus": [
            [
             0,
             "#0d0887"
            ],
            [
             0.1111111111111111,
             "#46039f"
            ],
            [
             0.2222222222222222,
             "#7201a8"
            ],
            [
             0.3333333333333333,
             "#9c179e"
            ],
            [
             0.4444444444444444,
             "#bd3786"
            ],
            [
             0.5555555555555556,
             "#d8576b"
            ],
            [
             0.6666666666666666,
             "#ed7953"
            ],
            [
             0.7777777777777778,
             "#fb9f3a"
            ],
            [
             0.8888888888888888,
             "#fdca26"
            ],
            [
             1,
             "#f0f921"
            ]
           ]
          },
          "colorway": [
           "#636efa",
           "#EF553B",
           "#00cc96",
           "#ab63fa",
           "#FFA15A",
           "#19d3f3",
           "#FF6692",
           "#B6E880",
           "#FF97FF",
           "#FECB52"
          ],
          "font": {
           "color": "#2a3f5f"
          },
          "geo": {
           "bgcolor": "white",
           "lakecolor": "white",
           "landcolor": "#E5ECF6",
           "showlakes": true,
           "showland": true,
           "subunitcolor": "white"
          },
          "hoverlabel": {
           "align": "left"
          },
          "hovermode": "closest",
          "mapbox": {
           "style": "light"
          },
          "paper_bgcolor": "white",
          "plot_bgcolor": "#E5ECF6",
          "polar": {
           "angularaxis": {
            "gridcolor": "white",
            "linecolor": "white",
            "ticks": ""
           },
           "bgcolor": "#E5ECF6",
           "radialaxis": {
            "gridcolor": "white",
            "linecolor": "white",
            "ticks": ""
           }
          },
          "scene": {
           "xaxis": {
            "backgroundcolor": "#E5ECF6",
            "gridcolor": "white",
            "gridwidth": 2,
            "linecolor": "white",
            "showbackground": true,
            "ticks": "",
            "zerolinecolor": "white"
           },
           "yaxis": {
            "backgroundcolor": "#E5ECF6",
            "gridcolor": "white",
            "gridwidth": 2,
            "linecolor": "white",
            "showbackground": true,
            "ticks": "",
            "zerolinecolor": "white"
           },
           "zaxis": {
            "backgroundcolor": "#E5ECF6",
            "gridcolor": "white",
            "gridwidth": 2,
            "linecolor": "white",
            "showbackground": true,
            "ticks": "",
            "zerolinecolor": "white"
           }
          },
          "shapedefaults": {
           "line": {
            "color": "#2a3f5f"
           }
          },
          "ternary": {
           "aaxis": {
            "gridcolor": "white",
            "linecolor": "white",
            "ticks": ""
           },
           "baxis": {
            "gridcolor": "white",
            "linecolor": "white",
            "ticks": ""
           },
           "bgcolor": "#E5ECF6",
           "caxis": {
            "gridcolor": "white",
            "linecolor": "white",
            "ticks": ""
           }
          },
          "title": {
           "x": 0.05
          },
          "xaxis": {
           "automargin": true,
           "gridcolor": "white",
           "linecolor": "white",
           "ticks": "",
           "title": {
            "standoff": 15
           },
           "zerolinecolor": "white",
           "zerolinewidth": 2
          },
          "yaxis": {
           "automargin": true,
           "gridcolor": "white",
           "linecolor": "white",
           "ticks": "",
           "title": {
            "standoff": 15
           },
           "zerolinecolor": "white",
           "zerolinewidth": 2
          }
         }
        },
        "title": {
         "text": "are the customers satisfied with the app?"
        },
        "xaxis": {
         "anchor": "y",
         "categoryarray": [
          "poor",
          "excellent",
          "very good",
          "okay",
          "very poor"
         ],
         "categoryorder": "array",
         "domain": [
          0,
          1
         ],
         "title": {
          "text": "label"
         }
        },
        "yaxis": {
         "anchor": "x",
         "domain": [
          0,
          1
         ],
         "title": {
          "text": "count"
         }
        }
       }
      }
     },
     "metadata": {},
     "output_type": "display_data"
    }
   ],
   "source": [
    "sentiment: dict[str, int] = count_sentiment(hits)\n",
    "visualize_result(sentiment=sentiment, query=query)"
   ]
  },
  {
   "cell_type": "markdown",
   "metadata": {},
   "source": [
    "### Q3 Automatically categorize reviews into different topics\n",
    "\n",
    "- Topic Modelling"
   ]
  },
  {
   "cell_type": "code",
   "execution_count": 32,
   "metadata": {},
   "outputs": [],
   "source": [
    "from bertopic import BERTopic\n",
    "from bertopic.vectorizers import ClassTfidfTransformer\n",
    "from bertopic.representation import KeyBERTInspired\n",
    "from hdbscan import HDBSCAN\n",
    "from sentence_transformers import SentenceTransformer\n",
    "from sklearn.feature_extraction.text import CountVectorizer\n",
    "from spacy.lang.en.stop_words import STOP_WORDS\n",
    "from umap import UMAP\n",
    "\n",
    "\n",
    "stopwords: list[str] = list(STOP_WORDS)\n",
    "\n",
    "# Step 1\n",
    "# embedding_model: SentenceTransformer = SentenceTransformer(encoder_checkpoint)\n",
    "\n",
    "# Step 2\n",
    "umap_model = UMAP(n_neighbors=3, n_components=3, min_dist=0.05)\n",
    "\n",
    "# Step 3\n",
    "hdbscan_model = HDBSCAN(\n",
    "    max_cluster_size=100,\n",
    "    prediction_data=True,  # Whether to generate extra cached data for predicting labels\n",
    "    gen_min_span_tree=True,  # Whether to generate the min spanning tree with regard to mutual reachability distance for later analysis.\n",
    ")\n",
    "\n",
    "# Step 4\n",
    "# Add this to remove stopwords that can pollute topcs\n",
    "vectorizer_model = CountVectorizer(stop_words=stopwords)\n",
    "\n",
    "# Step 5\n",
    "ctfidf_model = ClassTfidfTransformer()\n",
    "\n",
    "# Step 6 - (Optional) Fine-tune topic representations with\n",
    "# a `bertopic.representation` model\n",
    "representation_model = KeyBERTInspired()"
   ]
  },
  {
   "cell_type": "code",
   "execution_count": 33,
   "metadata": {},
   "outputs": [
    {
     "data": {
      "text/plain": [
       "<bertopic._bertopic.BERTopic at 0x7fb1c3fe6dd0>"
      ]
     },
     "execution_count": 33,
     "metadata": {},
     "output_type": "execute_result"
    }
   ],
   "source": [
    "model = BERTopic(\n",
    "    nr_topics=5,\n",
    "    embedding_model=encoder,  # Step 1 - Extract embeddings\n",
    "    umap_model=umap_model,  # Step 2 - Reduce dimensionality\n",
    "    hdbscan_model=hdbscan_model,  # Step 3 - Cluster reduced embeddings\n",
    "    vectorizer_model=vectorizer_model,  # Step 4 - Tokenize topics\n",
    "    ctfidf_model=ctfidf_model,  # Step 5 - Extract topic words\n",
    "    representation_model=representation_model,  # Step 6 - (Optional) Fine-tune topic represenations\n",
    "    top_n_words=5,\n",
    "    language=\"english\",\n",
    "    calculate_probabilities=True,\n",
    "    verbose=True,\n",
    ")\n",
    "\n",
    "model"
   ]
  },
  {
   "cell_type": "code",
   "execution_count": 34,
   "metadata": {},
   "outputs": [
    {
     "data": {
      "text/plain": [
       "['Works for me, Evo 4G on CM7 with Android 2.3.3 over Sprint EVDO',\n",
       " 'It tries to work on my G2 with CM7-nightly. But movies stop streaming after the first minute.',\n",
       " \"2 stars just for supporting my G2. It may be related to the ROM I'm using, but when I try to play a video it just has a white screen. I can hear sound, but no video. I'm using a version of the leaked Gingerbread update.\",\n",
       " 'Works with no issue on Stock G2. Sweet!',\n",
       " 'Works great on my Nexus One with cm7.0.3']"
      ]
     },
     "execution_count": 34,
     "metadata": {},
     "output_type": "execute_result"
    }
   ],
   "source": [
    "reviews: list[str] = data.select(pl.col(\"review_text\")).to_series().to_list()\n",
    "reviews[15:20]"
   ]
  },
  {
   "cell_type": "code",
   "execution_count": 35,
   "metadata": {},
   "outputs": [
    {
     "name": "stderr",
     "output_type": "stream",
     "text": [
      "2023-12-24 16:45:56,529 - BERTopic - Embedding - Transforming documents to embeddings.\n"
     ]
    },
    {
     "data": {
      "application/vnd.jupyter.widget-view+json": {
       "model_id": "cd0b17bfaf464ee089d5fc84eaf38b60",
       "version_major": 2,
       "version_minor": 0
      },
      "text/plain": [
       "Batches:   0%|          | 0/313 [00:00<?, ?it/s]"
      ]
     },
     "metadata": {},
     "output_type": "display_data"
    },
    {
     "name": "stderr",
     "output_type": "stream",
     "text": [
      "2023-12-24 16:46:28,261 - BERTopic - Embedding - Completed ✓\n",
      "2023-12-24 16:46:28,262 - BERTopic - Dimensionality - Fitting the dimensionality reduction algorithm\n",
      "2023-12-24 16:46:57,584 - BERTopic - Dimensionality - Completed ✓\n",
      "2023-12-24 16:46:57,586 - BERTopic - Cluster - Start clustering the reduced embeddings\n",
      "2023-12-24 16:48:33,717 - BERTopic - Cluster - Completed ✓\n",
      "2023-12-24 16:48:33,718 - BERTopic - Representation - Extracting topics from clusters using representation models.\n",
      "2023-12-24 16:48:53,708 - BERTopic - Representation - Completed ✓\n",
      "2023-12-24 16:48:53,709 - BERTopic - Topic reduction - Reducing number of topics\n",
      "2023-12-24 16:48:56,969 - BERTopic - Topic reduction - Reduced number of topics from 604 to 5\n"
     ]
    }
   ],
   "source": [
    "# It takes approx 2m 20s\n",
    "topics, probs = model.fit_transform(documents=reviews[:10_000])"
   ]
  },
  {
   "cell_type": "code",
   "execution_count": 36,
   "metadata": {},
   "outputs": [
    {
     "data": {
      "text/html": [
       "<div>\n",
       "<style scoped>\n",
       "    .dataframe tbody tr th:only-of-type {\n",
       "        vertical-align: middle;\n",
       "    }\n",
       "\n",
       "    .dataframe tbody tr th {\n",
       "        vertical-align: top;\n",
       "    }\n",
       "\n",
       "    .dataframe thead th {\n",
       "        text-align: right;\n",
       "    }\n",
       "</style>\n",
       "<table border=\"1\" class=\"dataframe\">\n",
       "  <thead>\n",
       "    <tr style=\"text-align: right;\">\n",
       "      <th></th>\n",
       "      <th>Topic</th>\n",
       "      <th>Count</th>\n",
       "      <th>Name</th>\n",
       "      <th>Representation</th>\n",
       "      <th>Representative_Docs</th>\n",
       "    </tr>\n",
       "  </thead>\n",
       "  <tbody>\n",
       "    <tr>\n",
       "      <th>0</th>\n",
       "      <td>-1</td>\n",
       "      <td>1720</td>\n",
       "      <td>-1_evo4g_evo_htc_android</td>\n",
       "      <td>[evo4g, evo, htc, android, droid]</td>\n",
       "      <td>[Finally. Works great evo., Droid X... I love the app! It works GREAT! I'm always on the go! Finally!!!, Love this works great on my EVO]</td>\n",
       "    </tr>\n",
       "    <tr>\n",
       "      <th>1</th>\n",
       "      <td>0</td>\n",
       "      <td>7613</td>\n",
       "      <td>0_evo_4g_htc_3g</td>\n",
       "      <td>[evo, 4g, htc, 3g, nexus]</td>\n",
       "      <td>[Works great. Evo 4g, Works great- HTC evo, Works great! HTC EVO 4G]</td>\n",
       "    </tr>\n",
       "    <tr>\n",
       "      <th>2</th>\n",
       "      <td>1</td>\n",
       "      <td>606</td>\n",
       "      <td>1_awesome_awsome_love_fantastic</td>\n",
       "      <td>[awesome, awsome, love, fantastic, amazing]</td>\n",
       "      <td>[!!! LOVE IT!!!!LOVE IT!!!!LOVE IT!!!!LOVE IT!!!!LOVE IT!!!!LOVE IT!!!!LOVE IT!!!!LOVE IT!!!!LOVE IT!!!!LOVE IT!!!!LOVE IT!!!!LOVE IT!!!!LOVE IT!!!!LOVE IT!!!!LOVE IT!!!!LOVE IT!!!!LOVE IT!!!!LOVE IT!!!!LOVE IT!!!!LOVE IT!!!!LOVE IT!!!!LOVE IT!!!!LOVE IT!!!!LOVE IT!!!!LOVE IT!!!!LOVE IT!!!!LOVE IT!!!!LOVE IT!!!!LOVE IT!!!!LOVE IT!!!!LOVE IT!!!!LOVE IT!!!!LOVE IT!!!!LOVE IT!!!!LOVE IT!!!!LOVE IT!!!!LOVE IT!!!!LOVE IT!!!!LOVE IT!!!!LOVE IT!!!!LOVE IT!!!!LOVE IT!!!!LOVE IT!!!!LOVE IT!!!!LOVE IT!!!!LOVE IT!!!!, Awesome! Love it :), LOVE IT!!!! FINALLY!!!!!!]</td>\n",
       "    </tr>\n",
       "    <tr>\n",
       "      <th>3</th>\n",
       "      <td>2</td>\n",
       "      <td>53</td>\n",
       "      <td>2_netflix_rate_prices_subscription</td>\n",
       "      <td>[netflix, rate, prices, subscription, increase]</td>\n",
       "      <td>[Screw you and your massive price increase. High prices for a small selection of streaming content that isn't even HD. FU., Raising price 60%, this is my last month, Too bad we will soon be canceling our Netflix service because of your 60% price increase! :(]</td>\n",
       "    </tr>\n",
       "    <tr>\n",
       "      <th>4</th>\n",
       "      <td>3</td>\n",
       "      <td>8</td>\n",
       "      <td>3_como_spanish_malisimo_gusta</td>\n",
       "      <td>[como, spanish, malisimo, gusta, esta]</td>\n",
       "      <td>[Me gusta los huevos., No me esta sirbiendo como deberia, Esta maldita Esta application ,pasen la voz.....]</td>\n",
       "    </tr>\n",
       "  </tbody>\n",
       "</table>\n",
       "</div>"
      ],
      "text/plain": [
       "   Topic  Count                                Name  \\\n",
       "0     -1   1720            -1_evo4g_evo_htc_android   \n",
       "1      0   7613                     0_evo_4g_htc_3g   \n",
       "2      1    606     1_awesome_awsome_love_fantastic   \n",
       "3      2     53  2_netflix_rate_prices_subscription   \n",
       "4      3      8       3_como_spanish_malisimo_gusta   \n",
       "\n",
       "                                    Representation  \\\n",
       "0                [evo4g, evo, htc, android, droid]   \n",
       "1                        [evo, 4g, htc, 3g, nexus]   \n",
       "2      [awesome, awsome, love, fantastic, amazing]   \n",
       "3  [netflix, rate, prices, subscription, increase]   \n",
       "4           [como, spanish, malisimo, gusta, esta]   \n",
       "\n",
       "                                                                                                                                                                                                                                                                                                                                                                                                                                                                                                                                                                Representative_Docs  \n",
       "0                                                                                                                                                                                                                                                                                                                                                                                                                                         [Finally. Works great evo., Droid X... I love the app! It works GREAT! I'm always on the go! Finally!!!, Love this works great on my EVO]  \n",
       "1                                                                                                                                                                                                                                                                                                                                                                                                                                                                                                              [Works great. Evo 4g, Works great- HTC evo, Works great! HTC EVO 4G]  \n",
       "2  [!!! LOVE IT!!!!LOVE IT!!!!LOVE IT!!!!LOVE IT!!!!LOVE IT!!!!LOVE IT!!!!LOVE IT!!!!LOVE IT!!!!LOVE IT!!!!LOVE IT!!!!LOVE IT!!!!LOVE IT!!!!LOVE IT!!!!LOVE IT!!!!LOVE IT!!!!LOVE IT!!!!LOVE IT!!!!LOVE IT!!!!LOVE IT!!!!LOVE IT!!!!LOVE IT!!!!LOVE IT!!!!LOVE IT!!!!LOVE IT!!!!LOVE IT!!!!LOVE IT!!!!LOVE IT!!!!LOVE IT!!!!LOVE IT!!!!LOVE IT!!!!LOVE IT!!!!LOVE IT!!!!LOVE IT!!!!LOVE IT!!!!LOVE IT!!!!LOVE IT!!!!LOVE IT!!!!LOVE IT!!!!LOVE IT!!!!LOVE IT!!!!LOVE IT!!!!LOVE IT!!!!LOVE IT!!!!LOVE IT!!!!LOVE IT!!!!LOVE IT!!!!, Awesome! Love it :), LOVE IT!!!! FINALLY!!!!!!]  \n",
       "3                                                                                                                                                                                                                                                                                                               [Screw you and your massive price increase. High prices for a small selection of streaming content that isn't even HD. FU., Raising price 60%, this is my last month, Too bad we will soon be canceling our Netflix service because of your 60% price increase! :(]  \n",
       "4                                                                                                                                                                                                                                                                                                                                                                                                                                                                       [Me gusta los huevos., No me esta sirbiendo como deberia, Esta maldita Esta application ,pasen la voz.....]  "
      ]
     },
     "execution_count": 36,
     "metadata": {},
     "output_type": "execute_result"
    }
   ],
   "source": [
    "model.get_topic_info().head(10)"
   ]
  },
  {
   "cell_type": "code",
   "execution_count": 37,
   "metadata": {},
   "outputs": [
    {
     "data": {
      "application/vnd.plotly.v1+json": {
       "config": {
        "plotlyServerURL": "https://plot.ly"
       },
       "data": [
        {
         "marker": {
          "color": "#D55E00"
         },
         "orientation": "h",
         "type": "bar",
         "x": [
          0.2931222915649414,
          0.3714507818222046,
          0.4376027286052704,
          0.4460836946964264,
          0.48084211349487305
         ],
         "xaxis": "x",
         "y": [
          "nexus  ",
          "3g  ",
          "htc  ",
          "4g  ",
          "evo  "
         ],
         "yaxis": "y"
        },
        {
         "marker": {
          "color": "#0072B2"
         },
         "orientation": "h",
         "type": "bar",
         "x": [
          0.4529452621936798,
          0.4544030427932739,
          0.46384763717651367,
          0.46392619609832764,
          0.4957846999168396
         ],
         "xaxis": "x2",
         "y": [
          "amazing  ",
          "fantastic  ",
          "love  ",
          "awsome  ",
          "awesome  "
         ],
         "yaxis": "y2"
        },
        {
         "marker": {
          "color": "#CC79A7"
         },
         "orientation": "h",
         "type": "bar",
         "x": [
          0.3332896828651428,
          0.3555373549461365,
          0.3621525168418884,
          0.37893861532211304,
          0.4366709589958191
         ],
         "xaxis": "x3",
         "y": [
          "increase  ",
          "subscription  ",
          "prices  ",
          "rate  ",
          "netflix  "
         ],
         "yaxis": "y3"
        },
        {
         "marker": {
          "color": "#E69F00"
         },
         "orientation": "h",
         "type": "bar",
         "x": [
          0.514019250869751,
          0.5399446487426758,
          0.5425817966461182,
          0.5770760774612427,
          0.6056674718856812
         ],
         "xaxis": "x4",
         "y": [
          "esta  ",
          "gusta  ",
          "malisimo  ",
          "spanish  ",
          "como  "
         ],
         "yaxis": "y4"
        }
       ],
       "layout": {
        "annotations": [
         {
          "font": {
           "size": 16
          },
          "showarrow": false,
          "text": "Topic 0",
          "x": 0.0875,
          "xanchor": "center",
          "xref": "paper",
          "y": 1,
          "yanchor": "bottom",
          "yref": "paper"
         },
         {
          "font": {
           "size": 16
          },
          "showarrow": false,
          "text": "Topic 1",
          "x": 0.36250000000000004,
          "xanchor": "center",
          "xref": "paper",
          "y": 1,
          "yanchor": "bottom",
          "yref": "paper"
         },
         {
          "font": {
           "size": 16
          },
          "showarrow": false,
          "text": "Topic 2",
          "x": 0.6375000000000001,
          "xanchor": "center",
          "xref": "paper",
          "y": 1,
          "yanchor": "bottom",
          "yref": "paper"
         },
         {
          "font": {
           "size": 16
          },
          "showarrow": false,
          "text": "Topic 3",
          "x": 0.9125,
          "xanchor": "center",
          "xref": "paper",
          "y": 1,
          "yanchor": "bottom",
          "yref": "paper"
         }
        ],
        "height": 390,
        "hoverlabel": {
         "bgcolor": "white",
         "font": {
          "family": "Rockwell",
          "size": 16
         }
        },
        "showlegend": false,
        "template": {
         "data": {
          "bar": [
           {
            "error_x": {
             "color": "#2a3f5f"
            },
            "error_y": {
             "color": "#2a3f5f"
            },
            "marker": {
             "line": {
              "color": "white",
              "width": 0.5
             },
             "pattern": {
              "fillmode": "overlay",
              "size": 10,
              "solidity": 0.2
             }
            },
            "type": "bar"
           }
          ],
          "barpolar": [
           {
            "marker": {
             "line": {
              "color": "white",
              "width": 0.5
             },
             "pattern": {
              "fillmode": "overlay",
              "size": 10,
              "solidity": 0.2
             }
            },
            "type": "barpolar"
           }
          ],
          "carpet": [
           {
            "aaxis": {
             "endlinecolor": "#2a3f5f",
             "gridcolor": "#C8D4E3",
             "linecolor": "#C8D4E3",
             "minorgridcolor": "#C8D4E3",
             "startlinecolor": "#2a3f5f"
            },
            "baxis": {
             "endlinecolor": "#2a3f5f",
             "gridcolor": "#C8D4E3",
             "linecolor": "#C8D4E3",
             "minorgridcolor": "#C8D4E3",
             "startlinecolor": "#2a3f5f"
            },
            "type": "carpet"
           }
          ],
          "choropleth": [
           {
            "colorbar": {
             "outlinewidth": 0,
             "ticks": ""
            },
            "type": "choropleth"
           }
          ],
          "contour": [
           {
            "colorbar": {
             "outlinewidth": 0,
             "ticks": ""
            },
            "colorscale": [
             [
              0,
              "#0d0887"
             ],
             [
              0.1111111111111111,
              "#46039f"
             ],
             [
              0.2222222222222222,
              "#7201a8"
             ],
             [
              0.3333333333333333,
              "#9c179e"
             ],
             [
              0.4444444444444444,
              "#bd3786"
             ],
             [
              0.5555555555555556,
              "#d8576b"
             ],
             [
              0.6666666666666666,
              "#ed7953"
             ],
             [
              0.7777777777777778,
              "#fb9f3a"
             ],
             [
              0.8888888888888888,
              "#fdca26"
             ],
             [
              1,
              "#f0f921"
             ]
            ],
            "type": "contour"
           }
          ],
          "contourcarpet": [
           {
            "colorbar": {
             "outlinewidth": 0,
             "ticks": ""
            },
            "type": "contourcarpet"
           }
          ],
          "heatmap": [
           {
            "colorbar": {
             "outlinewidth": 0,
             "ticks": ""
            },
            "colorscale": [
             [
              0,
              "#0d0887"
             ],
             [
              0.1111111111111111,
              "#46039f"
             ],
             [
              0.2222222222222222,
              "#7201a8"
             ],
             [
              0.3333333333333333,
              "#9c179e"
             ],
             [
              0.4444444444444444,
              "#bd3786"
             ],
             [
              0.5555555555555556,
              "#d8576b"
             ],
             [
              0.6666666666666666,
              "#ed7953"
             ],
             [
              0.7777777777777778,
              "#fb9f3a"
             ],
             [
              0.8888888888888888,
              "#fdca26"
             ],
             [
              1,
              "#f0f921"
             ]
            ],
            "type": "heatmap"
           }
          ],
          "heatmapgl": [
           {
            "colorbar": {
             "outlinewidth": 0,
             "ticks": ""
            },
            "colorscale": [
             [
              0,
              "#0d0887"
             ],
             [
              0.1111111111111111,
              "#46039f"
             ],
             [
              0.2222222222222222,
              "#7201a8"
             ],
             [
              0.3333333333333333,
              "#9c179e"
             ],
             [
              0.4444444444444444,
              "#bd3786"
             ],
             [
              0.5555555555555556,
              "#d8576b"
             ],
             [
              0.6666666666666666,
              "#ed7953"
             ],
             [
              0.7777777777777778,
              "#fb9f3a"
             ],
             [
              0.8888888888888888,
              "#fdca26"
             ],
             [
              1,
              "#f0f921"
             ]
            ],
            "type": "heatmapgl"
           }
          ],
          "histogram": [
           {
            "marker": {
             "pattern": {
              "fillmode": "overlay",
              "size": 10,
              "solidity": 0.2
             }
            },
            "type": "histogram"
           }
          ],
          "histogram2d": [
           {
            "colorbar": {
             "outlinewidth": 0,
             "ticks": ""
            },
            "colorscale": [
             [
              0,
              "#0d0887"
             ],
             [
              0.1111111111111111,
              "#46039f"
             ],
             [
              0.2222222222222222,
              "#7201a8"
             ],
             [
              0.3333333333333333,
              "#9c179e"
             ],
             [
              0.4444444444444444,
              "#bd3786"
             ],
             [
              0.5555555555555556,
              "#d8576b"
             ],
             [
              0.6666666666666666,
              "#ed7953"
             ],
             [
              0.7777777777777778,
              "#fb9f3a"
             ],
             [
              0.8888888888888888,
              "#fdca26"
             ],
             [
              1,
              "#f0f921"
             ]
            ],
            "type": "histogram2d"
           }
          ],
          "histogram2dcontour": [
           {
            "colorbar": {
             "outlinewidth": 0,
             "ticks": ""
            },
            "colorscale": [
             [
              0,
              "#0d0887"
             ],
             [
              0.1111111111111111,
              "#46039f"
             ],
             [
              0.2222222222222222,
              "#7201a8"
             ],
             [
              0.3333333333333333,
              "#9c179e"
             ],
             [
              0.4444444444444444,
              "#bd3786"
             ],
             [
              0.5555555555555556,
              "#d8576b"
             ],
             [
              0.6666666666666666,
              "#ed7953"
             ],
             [
              0.7777777777777778,
              "#fb9f3a"
             ],
             [
              0.8888888888888888,
              "#fdca26"
             ],
             [
              1,
              "#f0f921"
             ]
            ],
            "type": "histogram2dcontour"
           }
          ],
          "mesh3d": [
           {
            "colorbar": {
             "outlinewidth": 0,
             "ticks": ""
            },
            "type": "mesh3d"
           }
          ],
          "parcoords": [
           {
            "line": {
             "colorbar": {
              "outlinewidth": 0,
              "ticks": ""
             }
            },
            "type": "parcoords"
           }
          ],
          "pie": [
           {
            "automargin": true,
            "type": "pie"
           }
          ],
          "scatter": [
           {
            "fillpattern": {
             "fillmode": "overlay",
             "size": 10,
             "solidity": 0.2
            },
            "type": "scatter"
           }
          ],
          "scatter3d": [
           {
            "line": {
             "colorbar": {
              "outlinewidth": 0,
              "ticks": ""
             }
            },
            "marker": {
             "colorbar": {
              "outlinewidth": 0,
              "ticks": ""
             }
            },
            "type": "scatter3d"
           }
          ],
          "scattercarpet": [
           {
            "marker": {
             "colorbar": {
              "outlinewidth": 0,
              "ticks": ""
             }
            },
            "type": "scattercarpet"
           }
          ],
          "scattergeo": [
           {
            "marker": {
             "colorbar": {
              "outlinewidth": 0,
              "ticks": ""
             }
            },
            "type": "scattergeo"
           }
          ],
          "scattergl": [
           {
            "marker": {
             "colorbar": {
              "outlinewidth": 0,
              "ticks": ""
             }
            },
            "type": "scattergl"
           }
          ],
          "scattermapbox": [
           {
            "marker": {
             "colorbar": {
              "outlinewidth": 0,
              "ticks": ""
             }
            },
            "type": "scattermapbox"
           }
          ],
          "scatterpolar": [
           {
            "marker": {
             "colorbar": {
              "outlinewidth": 0,
              "ticks": ""
             }
            },
            "type": "scatterpolar"
           }
          ],
          "scatterpolargl": [
           {
            "marker": {
             "colorbar": {
              "outlinewidth": 0,
              "ticks": ""
             }
            },
            "type": "scatterpolargl"
           }
          ],
          "scatterternary": [
           {
            "marker": {
             "colorbar": {
              "outlinewidth": 0,
              "ticks": ""
             }
            },
            "type": "scatterternary"
           }
          ],
          "surface": [
           {
            "colorbar": {
             "outlinewidth": 0,
             "ticks": ""
            },
            "colorscale": [
             [
              0,
              "#0d0887"
             ],
             [
              0.1111111111111111,
              "#46039f"
             ],
             [
              0.2222222222222222,
              "#7201a8"
             ],
             [
              0.3333333333333333,
              "#9c179e"
             ],
             [
              0.4444444444444444,
              "#bd3786"
             ],
             [
              0.5555555555555556,
              "#d8576b"
             ],
             [
              0.6666666666666666,
              "#ed7953"
             ],
             [
              0.7777777777777778,
              "#fb9f3a"
             ],
             [
              0.8888888888888888,
              "#fdca26"
             ],
             [
              1,
              "#f0f921"
             ]
            ],
            "type": "surface"
           }
          ],
          "table": [
           {
            "cells": {
             "fill": {
              "color": "#EBF0F8"
             },
             "line": {
              "color": "white"
             }
            },
            "header": {
             "fill": {
              "color": "#C8D4E3"
             },
             "line": {
              "color": "white"
             }
            },
            "type": "table"
           }
          ]
         },
         "layout": {
          "annotationdefaults": {
           "arrowcolor": "#2a3f5f",
           "arrowhead": 0,
           "arrowwidth": 1
          },
          "autotypenumbers": "strict",
          "coloraxis": {
           "colorbar": {
            "outlinewidth": 0,
            "ticks": ""
           }
          },
          "colorscale": {
           "diverging": [
            [
             0,
             "#8e0152"
            ],
            [
             0.1,
             "#c51b7d"
            ],
            [
             0.2,
             "#de77ae"
            ],
            [
             0.3,
             "#f1b6da"
            ],
            [
             0.4,
             "#fde0ef"
            ],
            [
             0.5,
             "#f7f7f7"
            ],
            [
             0.6,
             "#e6f5d0"
            ],
            [
             0.7,
             "#b8e186"
            ],
            [
             0.8,
             "#7fbc41"
            ],
            [
             0.9,
             "#4d9221"
            ],
            [
             1,
             "#276419"
            ]
           ],
           "sequential": [
            [
             0,
             "#0d0887"
            ],
            [
             0.1111111111111111,
             "#46039f"
            ],
            [
             0.2222222222222222,
             "#7201a8"
            ],
            [
             0.3333333333333333,
             "#9c179e"
            ],
            [
             0.4444444444444444,
             "#bd3786"
            ],
            [
             0.5555555555555556,
             "#d8576b"
            ],
            [
             0.6666666666666666,
             "#ed7953"
            ],
            [
             0.7777777777777778,
             "#fb9f3a"
            ],
            [
             0.8888888888888888,
             "#fdca26"
            ],
            [
             1,
             "#f0f921"
            ]
           ],
           "sequentialminus": [
            [
             0,
             "#0d0887"
            ],
            [
             0.1111111111111111,
             "#46039f"
            ],
            [
             0.2222222222222222,
             "#7201a8"
            ],
            [
             0.3333333333333333,
             "#9c179e"
            ],
            [
             0.4444444444444444,
             "#bd3786"
            ],
            [
             0.5555555555555556,
             "#d8576b"
            ],
            [
             0.6666666666666666,
             "#ed7953"
            ],
            [
             0.7777777777777778,
             "#fb9f3a"
            ],
            [
             0.8888888888888888,
             "#fdca26"
            ],
            [
             1,
             "#f0f921"
            ]
           ]
          },
          "colorway": [
           "#636efa",
           "#EF553B",
           "#00cc96",
           "#ab63fa",
           "#FFA15A",
           "#19d3f3",
           "#FF6692",
           "#B6E880",
           "#FF97FF",
           "#FECB52"
          ],
          "font": {
           "color": "#2a3f5f"
          },
          "geo": {
           "bgcolor": "white",
           "lakecolor": "white",
           "landcolor": "white",
           "showlakes": true,
           "showland": true,
           "subunitcolor": "#C8D4E3"
          },
          "hoverlabel": {
           "align": "left"
          },
          "hovermode": "closest",
          "mapbox": {
           "style": "light"
          },
          "paper_bgcolor": "white",
          "plot_bgcolor": "white",
          "polar": {
           "angularaxis": {
            "gridcolor": "#EBF0F8",
            "linecolor": "#EBF0F8",
            "ticks": ""
           },
           "bgcolor": "white",
           "radialaxis": {
            "gridcolor": "#EBF0F8",
            "linecolor": "#EBF0F8",
            "ticks": ""
           }
          },
          "scene": {
           "xaxis": {
            "backgroundcolor": "white",
            "gridcolor": "#DFE8F3",
            "gridwidth": 2,
            "linecolor": "#EBF0F8",
            "showbackground": true,
            "ticks": "",
            "zerolinecolor": "#EBF0F8"
           },
           "yaxis": {
            "backgroundcolor": "white",
            "gridcolor": "#DFE8F3",
            "gridwidth": 2,
            "linecolor": "#EBF0F8",
            "showbackground": true,
            "ticks": "",
            "zerolinecolor": "#EBF0F8"
           },
           "zaxis": {
            "backgroundcolor": "white",
            "gridcolor": "#DFE8F3",
            "gridwidth": 2,
            "linecolor": "#EBF0F8",
            "showbackground": true,
            "ticks": "",
            "zerolinecolor": "#EBF0F8"
           }
          },
          "shapedefaults": {
           "line": {
            "color": "#2a3f5f"
           }
          },
          "ternary": {
           "aaxis": {
            "gridcolor": "#DFE8F3",
            "linecolor": "#A2B1C6",
            "ticks": ""
           },
           "baxis": {
            "gridcolor": "#DFE8F3",
            "linecolor": "#A2B1C6",
            "ticks": ""
           },
           "bgcolor": "white",
           "caxis": {
            "gridcolor": "#DFE8F3",
            "linecolor": "#A2B1C6",
            "ticks": ""
           }
          },
          "title": {
           "x": 0.05
          },
          "xaxis": {
           "automargin": true,
           "gridcolor": "#EBF0F8",
           "linecolor": "#EBF0F8",
           "ticks": "",
           "title": {
            "standoff": 15
           },
           "zerolinecolor": "#EBF0F8",
           "zerolinewidth": 2
          },
          "yaxis": {
           "automargin": true,
           "gridcolor": "#EBF0F8",
           "linecolor": "#EBF0F8",
           "ticks": "",
           "title": {
            "standoff": 15
           },
           "zerolinecolor": "#EBF0F8",
           "zerolinewidth": 2
          }
         }
        },
        "title": {
         "font": {
          "color": "Black",
          "size": 22
         },
         "text": "Topic Word Scores",
         "x": 0.5,
         "xanchor": "center",
         "yanchor": "top"
        },
        "width": 1200,
        "xaxis": {
         "anchor": "y",
         "domain": [
          0,
          0.175
         ],
         "showgrid": true
        },
        "xaxis2": {
         "anchor": "y2",
         "domain": [
          0.275,
          0.45
         ],
         "showgrid": true
        },
        "xaxis3": {
         "anchor": "y3",
         "domain": [
          0.55,
          0.7250000000000001
         ],
         "showgrid": true
        },
        "xaxis4": {
         "anchor": "y4",
         "domain": [
          0.825,
          1
         ],
         "showgrid": true
        },
        "yaxis": {
         "anchor": "x",
         "domain": [
          0,
          1
         ],
         "showgrid": true
        },
        "yaxis2": {
         "anchor": "x2",
         "domain": [
          0,
          1
         ],
         "showgrid": true
        },
        "yaxis3": {
         "anchor": "x3",
         "domain": [
          0,
          1
         ],
         "showgrid": true
        },
        "yaxis4": {
         "anchor": "x4",
         "domain": [
          0,
          1
         ],
         "showgrid": true
        }
       }
      }
     },
     "metadata": {},
     "output_type": "display_data"
    }
   ],
   "source": [
    "model.visualize_barchart(\n",
    "    top_n_topics=10,\n",
    "    width=300,\n",
    "    height=300,\n",
    ")"
   ]
  },
  {
   "cell_type": "code",
   "execution_count": null,
   "metadata": {},
   "outputs": [],
   "source": []
  },
  {
   "cell_type": "code",
   "execution_count": null,
   "metadata": {},
   "outputs": [],
   "source": []
  }
 ],
 "metadata": {
  "kernelspec": {
   "display_name": "nlp_p310",
   "language": "python",
   "name": "python3"
  },
  "language_info": {
   "codemirror_mode": {
    "name": "ipython",
    "version": 3
   },
   "file_extension": ".py",
   "mimetype": "text/x-python",
   "name": "python",
   "nbconvert_exporter": "python",
   "pygments_lexer": "ipython3",
   "version": "3.10.9"
  }
 },
 "nbformat": 4,
 "nbformat_minor": 2
}
