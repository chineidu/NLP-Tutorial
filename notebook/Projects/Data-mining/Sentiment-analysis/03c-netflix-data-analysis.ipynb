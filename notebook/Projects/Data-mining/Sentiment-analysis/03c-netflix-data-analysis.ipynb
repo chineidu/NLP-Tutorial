{
 "cells": [
  {
   "cell_type": "markdown",
   "metadata": {},
   "source": [
    "# Netflix Text Analysis"
   ]
  },
  {
   "cell_type": "code",
   "execution_count": 1,
   "metadata": {},
   "outputs": [],
   "source": [
    "# Built-in library\n",
    "import re\n",
    "import json\n",
    "from typing import Any, Optional, Union\n",
    "import logging\n",
    "import warnings\n",
    "\n",
    "# Standard imports\n",
    "import numpy as np\n",
    "from pathlib import Path\n",
    "import pandas as pd\n",
    "import polars as pl\n",
    "from pprint import pprint\n",
    "from rich import print\n",
    "import torch\n",
    "\n",
    "# Visualization\n",
    "import matplotlib.pyplot as plt\n",
    "\n",
    "\n",
    "# Pandas settings\n",
    "pd.options.display.max_rows = 1_000\n",
    "pd.options.display.max_columns = 1_000\n",
    "pd.options.display.max_colwidth = 600\n",
    "\n",
    "warnings.filterwarnings(\"ignore\")\n",
    "\n",
    "# Black code formatter (Optional)\n",
    "%load_ext lab_black\n",
    "\n",
    "# auto reload imports\n",
    "%load_ext autoreload\n",
    "%autoreload 2"
   ]
  },
  {
   "cell_type": "markdown",
   "metadata": {},
   "source": [
    "## Load Data"
   ]
  },
  {
   "cell_type": "code",
   "execution_count": 2,
   "metadata": {},
   "outputs": [
    {
     "data": {
      "text/html": [
       "<div><style>\n",
       ".dataframe > thead > tr > th,\n",
       ".dataframe > tbody > tr > td {\n",
       "  text-align: right;\n",
       "  white-space: pre-wrap;\n",
       "}\n",
       "</style>\n",
       "<small>shape: (3, 9)</small><table border=\"1\" class=\"dataframe\"><thead><tr><th></th><th>review_id</th><th>pseudo_author_id</th><th>author_name</th><th>review_text</th><th>review_rating</th><th>review_likes</th><th>author_app_version</th><th>review_timestamp</th></tr><tr><td>i64</td><td>str</td><td>str</td><td>str</td><td>str</td><td>i64</td><td>i64</td><td>str</td><td>str</td></tr></thead><tbody><tr><td>0</td><td>&quot;7e73f80e-a8fd-…</td><td>&quot;15261855397701…</td><td>&quot;A Google user&quot;</td><td>&quot;Works great on…</td><td>5</td><td>1</td><td>&quot;1.2.0 build 81…</td><td>&quot;2011-05-12 18:…</td></tr><tr><td>1</td><td>&quot;dab55eca-c2a0-…</td><td>&quot;23438294286543…</td><td>&quot;A Google user&quot;</td><td>&quot;Works great on…</td><td>5</td><td>1</td><td>&quot;1.2.0 build 81…</td><td>&quot;2011-05-12 18:…</td></tr><tr><td>2</td><td>&quot;a3b8fa06-8b8f-…</td><td>&quot;17447360460835…</td><td>&quot;A Google user&quot;</td><td>&quot;Works great on…</td><td>5</td><td>0</td><td>&quot;1.5.2 build 38…</td><td>&quot;2011-05-12 18:…</td></tr></tbody></table></div>"
      ],
      "text/plain": [
       "shape: (3, 9)\n",
       "┌─────┬────────────┬────────────┬────────────┬───┬────────────┬────────────┬───────────┬───────────┐\n",
       "│     ┆ review_id  ┆ pseudo_aut ┆ author_nam ┆ … ┆ review_rat ┆ review_lik ┆ author_ap ┆ review_ti │\n",
       "│ --- ┆ ---        ┆ hor_id     ┆ e          ┆   ┆ ing        ┆ es         ┆ p_version ┆ mestamp   │\n",
       "│ i64 ┆ str        ┆ ---        ┆ ---        ┆   ┆ ---        ┆ ---        ┆ ---       ┆ ---       │\n",
       "│     ┆            ┆ str        ┆ str        ┆   ┆ i64        ┆ i64        ┆ str       ┆ str       │\n",
       "╞═════╪════════════╪════════════╪════════════╪═══╪════════════╪════════════╪═══════════╪═══════════╡\n",
       "│ 0   ┆ 7e73f80e-a ┆ 1526185539 ┆ A Google   ┆ … ┆ 5          ┆ 1          ┆ 1.2.0     ┆ 2011-05-1 │\n",
       "│     ┆ 8fd-4ff3-b ┆ 7701969374 ┆ user       ┆   ┆            ┆            ┆ build 819 ┆ 2         │\n",
       "│     ┆ 09b-502f0a ┆ 2          ┆            ┆   ┆            ┆            ┆ 145-1.2.0 ┆ 18:50:37  │\n",
       "│     ┆ d0…        ┆            ┆            ┆   ┆            ┆            ┆ -102      ┆           │\n",
       "│ 1   ┆ dab55eca-c ┆ 2343829428 ┆ A Google   ┆ … ┆ 5          ┆ 1          ┆ 1.2.0     ┆ 2011-05-1 │\n",
       "│     ┆ 2a0-45a8-9 ┆ 6543707166 ┆ user       ┆   ┆            ┆            ┆ build 819 ┆ 2         │\n",
       "│     ┆ 3e3-9860c1 ┆ 7          ┆            ┆   ┆            ┆            ┆ 145-1.2.0 ┆ 18:50:52  │\n",
       "│     ┆ c5…        ┆            ┆            ┆   ┆            ┆            ┆ -102      ┆           │\n",
       "│ 2   ┆ a3b8fa06-8 ┆ 1744736046 ┆ A Google   ┆ … ┆ 5          ┆ 0          ┆ 1.5.2     ┆ 2011-05-1 │\n",
       "│     ┆ b8f-4f2f-a ┆ 0835879636 ┆ user       ┆   ┆            ┆            ┆ build 389 ┆ 2         │\n",
       "│     ┆ 1fa-fd37c4 ┆ 8          ┆            ┆   ┆            ┆            ┆           ┆ 18:55:14  │\n",
       "│     ┆ cb…        ┆            ┆            ┆   ┆            ┆            ┆           ┆           │\n",
       "└─────┴────────────┴────────────┴────────────┴───┴────────────┴────────────┴───────────┴───────────┘"
      ]
     },
     "execution_count": 2,
     "metadata": {},
     "output_type": "execute_result"
    }
   ],
   "source": [
    "fp: Path = Path(\"../../../../data/NETFLIX_REVIEWS.parquet\")\n",
    "\n",
    "data: pl.DataFrame = pl.read_parquet(source=fp)\n",
    "data.head(3)"
   ]
  },
  {
   "cell_type": "code",
   "execution_count": 3,
   "metadata": {},
   "outputs": [
    {
     "data": {
      "text/html": [
       "<div><style>\n",
       ".dataframe > thead > tr > th,\n",
       ".dataframe > tbody > tr > td {\n",
       "  text-align: right;\n",
       "  white-space: pre-wrap;\n",
       "}\n",
       "</style>\n",
       "<small>shape: (3, 5)</small><table border=\"1\" class=\"dataframe\"><thead><tr><th>review_id</th><th>review_text</th><th>review_rating</th><th>author_app_version</th><th>review_timestamp</th></tr><tr><td>str</td><td>str</td><td>i64</td><td>str</td><td>str</td></tr></thead><tbody><tr><td>&quot;7e73f80e-a8fd-…</td><td>&quot;Works great on…</td><td>5</td><td>&quot;1.2.0 build 81…</td><td>&quot;2011-05-12 18:…</td></tr><tr><td>&quot;dab55eca-c2a0-…</td><td>&quot;Works great on…</td><td>5</td><td>&quot;1.2.0 build 81…</td><td>&quot;2011-05-12 18:…</td></tr><tr><td>&quot;a3b8fa06-8b8f-…</td><td>&quot;Works great on…</td><td>5</td><td>&quot;1.5.2 build 38…</td><td>&quot;2011-05-12 18:…</td></tr></tbody></table></div>"
      ],
      "text/plain": [
       "shape: (3, 5)\n",
       "┌────────────────────┬────────────────────┬───────────────┬────────────────────┬───────────────────┐\n",
       "│ review_id          ┆ review_text        ┆ review_rating ┆ author_app_version ┆ review_timestamp  │\n",
       "│ ---                ┆ ---                ┆ ---           ┆ ---                ┆ ---               │\n",
       "│ str                ┆ str                ┆ i64           ┆ str                ┆ str               │\n",
       "╞════════════════════╪════════════════════╪═══════════════╪════════════════════╪═══════════════════╡\n",
       "│ 7e73f80e-a8fd-4ff3 ┆ Works great on my  ┆ 5             ┆ 1.2.0 build        ┆ 2011-05-12        │\n",
       "│ -b09b-502f0ad0…    ┆ Evo! Glad andr…    ┆               ┆ 819145-1.2.0-102   ┆ 18:50:37          │\n",
       "│ dab55eca-c2a0-45a8 ┆ Works great on HTC ┆ 5             ┆ 1.2.0 build        ┆ 2011-05-12        │\n",
       "│ -93e3-9860c1c5…    ┆ incredible. C…     ┆               ┆ 819145-1.2.0-102   ┆ 18:50:52          │\n",
       "│ a3b8fa06-8b8f-4f2f ┆ Works great on     ┆ 5             ┆ 1.5.2 build 389    ┆ 2011-05-12        │\n",
       "│ -a1fa-fd37c4cb…    ┆ nexus s            ┆               ┆                    ┆ 18:55:14          │\n",
       "└────────────────────┴────────────────────┴───────────────┴────────────────────┴───────────────────┘"
      ]
     },
     "execution_count": 3,
     "metadata": {},
     "output_type": "execute_result"
    }
   ],
   "source": [
    "data = data.drop(columns=[\"\", \"pseudo_author_id\", \"author_name\", \"review_likes\"])\n",
    "data.head(3)"
   ]
  },
  {
   "cell_type": "code",
   "execution_count": 4,
   "metadata": {},
   "outputs": [
    {
     "data": {
      "text/html": [
       "<pre style=\"white-space:pre;overflow-x:auto;line-height:normal;font-family:Menlo,'DejaVu Sans Mono',consolas,'Courier New',monospace\">Device: cpu\n",
       "</pre>\n"
      ],
      "text/plain": [
       "Device: cpu\n"
      ]
     },
     "metadata": {},
     "output_type": "display_data"
    }
   ],
   "source": [
    "# Check if GPU is available\n",
    "device: str = \"cuda\" if torch.cuda.is_available() else \"cpu\"\n",
    "\n",
    "print(f\"Device: {device}\")"
   ]
  },
  {
   "cell_type": "code",
   "execution_count": 5,
   "metadata": {},
   "outputs": [
    {
     "name": "stderr",
     "output_type": "stream",
     "text": [
      "2023-12-17 21:38:28.986495: I tensorflow/core/platform/cpu_feature_guard.cc:182] This TensorFlow binary is optimized to use available CPU instructions in performance-critical operations.\n",
      "To enable the following instructions: AVX2 FMA, in other operations, rebuild TensorFlow with the appropriate compiler flags.\n"
     ]
    }
   ],
   "source": [
    "from transformers import pipeline\n",
    "\n",
    "\n",
    "TASK: str = \"text-classification\"\n",
    "OUTPUT_DIR: str = \"distilbert-base-uncased-finetuned-netflix-ratings\"\n",
    "MODEL_CHECKPOINT: str = f\"chineidu/{OUTPUT_DIR}\"\n",
    "netflix_classifier: pipeline = pipeline(task=TASK, model=MODEL_CHECKPOINT)"
   ]
  },
  {
   "cell_type": "code",
   "execution_count": 6,
   "metadata": {},
   "outputs": [],
   "source": [
    "id2label: dict[str, Any] = {\n",
    "    1: \"very poor\",\n",
    "    2: \"poor\",\n",
    "    3: \"okay\",\n",
    "    4: \"very good\",\n",
    "    5: \"excellent\",\n",
    "}\n",
    "label2id: dict[str, Any] = {\n",
    "    \"very poor\": 1,\n",
    "    \"poor\": 2,\n",
    "    \"okay\": 3,\n",
    "    \"very good\": 4,\n",
    "    \"excellent\": 5,\n",
    "}\n",
    "\n",
    "\n",
    "def get_sentiment(reviews: list[str]) -> list[list[str], list[float]]:\n",
    "    \"\"\"This is used to obtain the label and the corresponding score.\"\"\"\n",
    "    result: list[dict[str, Any]] = netflix_classifier(reviews)\n",
    "    labels: list[str] = [x.get(\"label\") for x in result]\n",
    "    ratings: list[str] = [label2id.get(x.get(\"label\")) for x in result]\n",
    "\n",
    "    return (labels, ratings)"
   ]
  },
  {
   "cell_type": "code",
   "execution_count": 7,
   "metadata": {},
   "outputs": [
    {
     "data": {
      "text/plain": [
       "['Works great on Nexus S, but it needs subtitles support!',\n",
       " \"Works on 3g even tho quality isn't the best but still...might be my new favorite app!\",\n",
       " 'Working great on Nexus S, picked up right where I left it watching.',\n",
       " 'Works great. So far so good on Wifi. Nexus 1.',\n",
       " \"Well I've tried it out on my Evo 4G and it works. Tried it through WiFi, and the quality is pretty decent.; it's very snappy. Then I tried it through 3G and I was thinking the worst, and while the quality is diminished; it still works. I don't live in an area with great signal but it works really well, though the pixelation can get bad at times. Haven't tried it on 4G but I'm expecting great results.\"]"
      ]
     },
     "execution_count": 7,
     "metadata": {},
     "output_type": "execute_result"
    }
   ],
   "source": [
    "texts: list[str] = data.select(pl.col(\"review_text\")).to_series().to_list()[10:15]\n",
    "texts"
   ]
  },
  {
   "cell_type": "code",
   "execution_count": 8,
   "metadata": {},
   "outputs": [
    {
     "data": {
      "text/plain": [
       "[{'label': 'very good', 'score': 0.7804526686668396},\n",
       " {'label': 'very good', 'score': 0.4879053831100464},\n",
       " {'label': 'excellent', 'score': 0.8773263692855835},\n",
       " {'label': 'excellent', 'score': 0.7898459434509277},\n",
       " {'label': 'very good', 'score': 0.8486072421073914}]"
      ]
     },
     "execution_count": 8,
     "metadata": {},
     "output_type": "execute_result"
    }
   ],
   "source": [
    "netflix_classifier(texts)"
   ]
  },
  {
   "cell_type": "code",
   "execution_count": 9,
   "metadata": {},
   "outputs": [
    {
     "data": {
      "text/plain": [
       "[4, 5, 5, 5, 4]"
      ]
     },
     "execution_count": 9,
     "metadata": {},
     "output_type": "execute_result"
    }
   ],
   "source": [
    "# Actual\n",
    "data.select(pl.col(\"review_rating\")).to_series().to_list()[10:15]"
   ]
  },
  {
   "cell_type": "code",
   "execution_count": 10,
   "metadata": {},
   "outputs": [
    {
     "data": {
      "text/plain": [
       "(['very good', 'very good', 'excellent', 'excellent', 'very good'],\n",
       " [4, 4, 5, 5, 4])"
      ]
     },
     "execution_count": 10,
     "metadata": {},
     "output_type": "execute_result"
    }
   ],
   "source": [
    "# Predicted\n",
    "get_sentiment(reviews=texts)"
   ]
  },
  {
   "cell_type": "code",
   "execution_count": 11,
   "metadata": {},
   "outputs": [
    {
     "data": {
      "text/plain": [
       "SentenceTransformer(\n",
       "  (0): Transformer({'max_seq_length': 256, 'do_lower_case': False}) with Transformer model: BertModel \n",
       "  (1): Pooling({'word_embedding_dimension': 384, 'pooling_mode_cls_token': False, 'pooling_mode_mean_tokens': True, 'pooling_mode_max_tokens': False, 'pooling_mode_mean_sqrt_len_tokens': False})\n",
       "  (2): Normalize()\n",
       ")"
      ]
     },
     "execution_count": 11,
     "metadata": {},
     "output_type": "execute_result"
    }
   ],
   "source": [
    "from sentence_transformers import SentenceTransformer\n",
    "\n",
    "\n",
    "ENCODER_CHECKPOINT: str = \"sentence-transformers/all-MiniLM-L6-v2\"\n",
    "# Load the model from HuggingFace Hub\n",
    "encoder = SentenceTransformer(ENCODER_CHECKPOINT, device=device)\n",
    "\n",
    "encoder"
   ]
  },
  {
   "cell_type": "code",
   "execution_count": 12,
   "metadata": {},
   "outputs": [
    {
     "data": {
      "text/plain": [
       "(256, 384)"
      ]
     },
     "execution_count": 12,
     "metadata": {},
     "output_type": "execute_result"
    }
   ],
   "source": [
    "encoder.get_max_seq_length(), encoder.get_sentence_embedding_dimension()"
   ]
  },
  {
   "cell_type": "code",
   "execution_count": 13,
   "metadata": {},
   "outputs": [],
   "source": [
    "import os\n",
    "from getpass import getpass\n",
    "\n",
    "from dotenv import load_dotenv, find_dotenv\n",
    "\n",
    "\n",
    "_ = load_dotenv(find_dotenv())  # read local .env file\n",
    "QDRANT_API_KEY = os.getenv(\"QDRANT_API_KEY\")\n",
    "\n",
    "RUN_CELL: bool = False\n",
    "\n",
    "if RUN_CELL:\n",
    "    # Get API key without displaying it\n",
    "    QDRANT_API_KEY: str = getpass(\"Please enter your API key: \")"
   ]
  },
  {
   "cell_type": "code",
   "execution_count": 14,
   "metadata": {},
   "outputs": [
    {
     "data": {
      "text/html": [
       "<pre style=\"white-space:pre;overflow-x:auto;line-height:normal;font-family:Menlo,'DejaVu Sans Mono',consolas,'Courier New',monospace\">Unexpected Response: <span style=\"color: #008080; text-decoration-color: #008080; font-weight: bold\">400</span> <span style=\"font-weight: bold\">(</span>Bad Request<span style=\"font-weight: bold\">)</span>\n",
       "Raw response content:\n",
       "<span style=\"color: #008000; text-decoration-color: #008000\">b'{\"status\":{\"error\":\"Wrong input: Collection `netflix-sentiment-analysis` already exists!\"},\"time\":0.000012749}'</span>\n",
       "</pre>\n"
      ],
      "text/plain": [
       "Unexpected Response: \u001b[1;36m400\u001b[0m \u001b[1m(\u001b[0mBad Request\u001b[1m)\u001b[0m\n",
       "Raw response content:\n",
       "\u001b[32mb'\u001b[0m\u001b[32m{\u001b[0m\u001b[32m\"status\":\u001b[0m\u001b[32m{\u001b[0m\u001b[32m\"error\":\"Wrong input: Collection `netflix-sentiment-analysis` already exists!\"\u001b[0m\u001b[32m}\u001b[0m\u001b[32m,\"time\":0.000012749\u001b[0m\u001b[32m}\u001b[0m\u001b[32m'\u001b[0m\n"
      ]
     },
     "metadata": {},
     "output_type": "display_data"
    }
   ],
   "source": [
    "from qdrant_client import QdrantClient, models\n",
    "from qdrant_client.http.exceptions import UnexpectedResponse\n",
    "\n",
    "\n",
    "URL: str = \"http://localhost:6333\"\n",
    "client = QdrantClient(\n",
    "    url=URL,\n",
    "    api_key=QDRANT_API_KEY,\n",
    ")\n",
    "DIMENSION: int = encoder.get_sentence_embedding_dimension()\n",
    "METRIC: Any = models.Distance.COSINE\n",
    "COLLECTION_NAME: str = \"netflix-sentiment-analysis\"\n",
    "\n",
    "# Create a collection\n",
    "try:\n",
    "    client.create_collection(\n",
    "        collection_name=COLLECTION_NAME,\n",
    "        vectors_config=models.VectorParams(\n",
    "            size=encoder.get_sentence_embedding_dimension(),  # Vector size is defined by used model\n",
    "            distance=METRIC,\n",
    "        ),\n",
    "        optimizers_config=models.OptimizersConfigDiff(indexing_threshold=0),\n",
    "        shard_number=2,\n",
    "    )\n",
    "# If collection already exists\n",
    "except UnexpectedResponse as err:\n",
    "    print(err)"
   ]
  },
  {
   "cell_type": "code",
   "execution_count": 15,
   "metadata": {},
   "outputs": [
    {
     "data": {
      "text/html": [
       "<pre style=\"white-space:pre;overflow-x:auto;line-height:normal;font-family:Menlo,'DejaVu Sans Mono',consolas,'Courier New',monospace\"><span style=\"color: #800080; text-decoration-color: #800080; font-weight: bold\">CollectionInfo</span><span style=\"font-weight: bold\">(</span>\n",
       "    <span style=\"color: #808000; text-decoration-color: #808000\">status</span>=<span style=\"font-weight: bold\">&lt;</span><span style=\"color: #ff00ff; text-decoration-color: #ff00ff; font-weight: bold\">CollectionStatus.GREEN:</span><span style=\"color: #000000; text-decoration-color: #000000\"> </span><span style=\"color: #008000; text-decoration-color: #008000\">'green'</span><span style=\"color: #000000; text-decoration-color: #000000\">&gt;,</span>\n",
       "<span style=\"color: #000000; text-decoration-color: #000000\">    </span><span style=\"color: #808000; text-decoration-color: #808000\">optimizer_status</span><span style=\"color: #000000; text-decoration-color: #000000\">=&lt;OptimizersStatusOneOf.OK: </span><span style=\"color: #008000; text-decoration-color: #008000\">'ok'</span><span style=\"color: #000000; text-decoration-color: #000000\">&gt;,</span>\n",
       "<span style=\"color: #000000; text-decoration-color: #000000\">    </span><span style=\"color: #808000; text-decoration-color: #808000\">vectors_count</span><span style=\"color: #000000; text-decoration-color: #000000\">=</span><span style=\"color: #008080; text-decoration-color: #008080; font-weight: bold\">775500</span><span style=\"color: #000000; text-decoration-color: #000000\">,</span>\n",
       "<span style=\"color: #000000; text-decoration-color: #000000\">    </span><span style=\"color: #808000; text-decoration-color: #808000\">indexed_vectors_count</span><span style=\"color: #000000; text-decoration-color: #000000\">=</span><span style=\"color: #008080; text-decoration-color: #008080; font-weight: bold\">0</span><span style=\"color: #000000; text-decoration-color: #000000\">,</span>\n",
       "<span style=\"color: #000000; text-decoration-color: #000000\">    </span><span style=\"color: #808000; text-decoration-color: #808000\">points_count</span><span style=\"color: #000000; text-decoration-color: #000000\">=</span><span style=\"color: #008080; text-decoration-color: #008080; font-weight: bold\">775500</span><span style=\"color: #000000; text-decoration-color: #000000\">,</span>\n",
       "<span style=\"color: #000000; text-decoration-color: #000000\">    </span><span style=\"color: #808000; text-decoration-color: #808000\">segments_count</span><span style=\"color: #000000; text-decoration-color: #000000\">=</span><span style=\"color: #008080; text-decoration-color: #008080; font-weight: bold\">12</span><span style=\"color: #000000; text-decoration-color: #000000\">,</span>\n",
       "<span style=\"color: #000000; text-decoration-color: #000000\">    </span><span style=\"color: #808000; text-decoration-color: #808000\">config</span><span style=\"color: #000000; text-decoration-color: #000000\">=</span><span style=\"color: #800080; text-decoration-color: #800080; font-weight: bold\">CollectionConfig</span><span style=\"color: #000000; text-decoration-color: #000000; font-weight: bold\">(</span>\n",
       "<span style=\"color: #000000; text-decoration-color: #000000\">        </span><span style=\"color: #808000; text-decoration-color: #808000\">params</span><span style=\"color: #000000; text-decoration-color: #000000\">=</span><span style=\"color: #800080; text-decoration-color: #800080; font-weight: bold\">CollectionParams</span><span style=\"color: #000000; text-decoration-color: #000000; font-weight: bold\">(</span>\n",
       "<span style=\"color: #000000; text-decoration-color: #000000\">            </span><span style=\"color: #808000; text-decoration-color: #808000\">vectors</span><span style=\"color: #000000; text-decoration-color: #000000\">=</span><span style=\"color: #800080; text-decoration-color: #800080; font-weight: bold\">VectorParams</span><span style=\"color: #000000; text-decoration-color: #000000; font-weight: bold\">(</span>\n",
       "<span style=\"color: #000000; text-decoration-color: #000000\">                </span><span style=\"color: #808000; text-decoration-color: #808000\">size</span><span style=\"color: #000000; text-decoration-color: #000000\">=</span><span style=\"color: #008080; text-decoration-color: #008080; font-weight: bold\">384</span><span style=\"color: #000000; text-decoration-color: #000000\">,</span>\n",
       "<span style=\"color: #000000; text-decoration-color: #000000\">                </span><span style=\"color: #808000; text-decoration-color: #808000\">distance</span><span style=\"color: #000000; text-decoration-color: #000000\">=&lt;Distance.COSINE: </span><span style=\"color: #008000; text-decoration-color: #008000\">'Cosine'</span><span style=\"font-weight: bold\">&gt;</span>,\n",
       "                <span style=\"color: #808000; text-decoration-color: #808000\">hnsw_config</span>=<span style=\"color: #800080; text-decoration-color: #800080; font-style: italic\">None</span>,\n",
       "                <span style=\"color: #808000; text-decoration-color: #808000\">quantization_config</span>=<span style=\"color: #800080; text-decoration-color: #800080; font-style: italic\">None</span>,\n",
       "                <span style=\"color: #808000; text-decoration-color: #808000\">on_disk</span>=<span style=\"color: #800080; text-decoration-color: #800080; font-style: italic\">None</span>\n",
       "            <span style=\"font-weight: bold\">)</span>,\n",
       "            <span style=\"color: #808000; text-decoration-color: #808000\">shard_number</span>=<span style=\"color: #008080; text-decoration-color: #008080; font-weight: bold\">2</span>,\n",
       "            <span style=\"color: #808000; text-decoration-color: #808000\">sharding_method</span>=<span style=\"color: #800080; text-decoration-color: #800080; font-style: italic\">None</span>,\n",
       "            <span style=\"color: #808000; text-decoration-color: #808000\">replication_factor</span>=<span style=\"color: #008080; text-decoration-color: #008080; font-weight: bold\">1</span>,\n",
       "            <span style=\"color: #808000; text-decoration-color: #808000\">write_consistency_factor</span>=<span style=\"color: #008080; text-decoration-color: #008080; font-weight: bold\">1</span>,\n",
       "            <span style=\"color: #808000; text-decoration-color: #808000\">read_fan_out_factor</span>=<span style=\"color: #800080; text-decoration-color: #800080; font-style: italic\">None</span>,\n",
       "            <span style=\"color: #808000; text-decoration-color: #808000\">on_disk_payload</span>=<span style=\"color: #00ff00; text-decoration-color: #00ff00; font-style: italic\">True</span>,\n",
       "            <span style=\"color: #808000; text-decoration-color: #808000\">sparse_vectors</span>=<span style=\"color: #800080; text-decoration-color: #800080; font-style: italic\">None</span>\n",
       "        <span style=\"font-weight: bold\">)</span>,\n",
       "        <span style=\"color: #808000; text-decoration-color: #808000\">hnsw_config</span>=<span style=\"color: #800080; text-decoration-color: #800080; font-weight: bold\">HnswConfig</span><span style=\"font-weight: bold\">(</span>\n",
       "            <span style=\"color: #808000; text-decoration-color: #808000\">m</span>=<span style=\"color: #008080; text-decoration-color: #008080; font-weight: bold\">16</span>,\n",
       "            <span style=\"color: #808000; text-decoration-color: #808000\">ef_construct</span>=<span style=\"color: #008080; text-decoration-color: #008080; font-weight: bold\">100</span>,\n",
       "            <span style=\"color: #808000; text-decoration-color: #808000\">full_scan_threshold</span>=<span style=\"color: #008080; text-decoration-color: #008080; font-weight: bold\">10000</span>,\n",
       "            <span style=\"color: #808000; text-decoration-color: #808000\">max_indexing_threads</span>=<span style=\"color: #008080; text-decoration-color: #008080; font-weight: bold\">0</span>,\n",
       "            <span style=\"color: #808000; text-decoration-color: #808000\">on_disk</span>=<span style=\"color: #ff0000; text-decoration-color: #ff0000; font-style: italic\">False</span>,\n",
       "            <span style=\"color: #808000; text-decoration-color: #808000\">payload_m</span>=<span style=\"color: #800080; text-decoration-color: #800080; font-style: italic\">None</span>\n",
       "        <span style=\"font-weight: bold\">)</span>,\n",
       "        <span style=\"color: #808000; text-decoration-color: #808000\">optimizer_config</span>=<span style=\"color: #800080; text-decoration-color: #800080; font-weight: bold\">OptimizersConfig</span><span style=\"font-weight: bold\">(</span>\n",
       "            <span style=\"color: #808000; text-decoration-color: #808000\">deleted_threshold</span>=<span style=\"color: #008080; text-decoration-color: #008080; font-weight: bold\">0.2</span>,\n",
       "            <span style=\"color: #808000; text-decoration-color: #808000\">vacuum_min_vector_number</span>=<span style=\"color: #008080; text-decoration-color: #008080; font-weight: bold\">1000</span>,\n",
       "            <span style=\"color: #808000; text-decoration-color: #808000\">default_segment_number</span>=<span style=\"color: #008080; text-decoration-color: #008080; font-weight: bold\">0</span>,\n",
       "            <span style=\"color: #808000; text-decoration-color: #808000\">max_segment_size</span>=<span style=\"color: #800080; text-decoration-color: #800080; font-style: italic\">None</span>,\n",
       "            <span style=\"color: #808000; text-decoration-color: #808000\">memmap_threshold</span>=<span style=\"color: #800080; text-decoration-color: #800080; font-style: italic\">None</span>,\n",
       "            <span style=\"color: #808000; text-decoration-color: #808000\">indexing_threshold</span>=<span style=\"color: #008080; text-decoration-color: #008080; font-weight: bold\">0</span>,\n",
       "            <span style=\"color: #808000; text-decoration-color: #808000\">flush_interval_sec</span>=<span style=\"color: #008080; text-decoration-color: #008080; font-weight: bold\">5</span>,\n",
       "            <span style=\"color: #808000; text-decoration-color: #808000\">max_optimization_threads</span>=<span style=\"color: #008080; text-decoration-color: #008080; font-weight: bold\">1</span>\n",
       "        <span style=\"font-weight: bold\">)</span>,\n",
       "        <span style=\"color: #808000; text-decoration-color: #808000\">wal_config</span>=<span style=\"color: #800080; text-decoration-color: #800080; font-weight: bold\">WalConfig</span><span style=\"font-weight: bold\">(</span><span style=\"color: #808000; text-decoration-color: #808000\">wal_capacity_mb</span>=<span style=\"color: #008080; text-decoration-color: #008080; font-weight: bold\">32</span>, <span style=\"color: #808000; text-decoration-color: #808000\">wal_segments_ahead</span>=<span style=\"color: #008080; text-decoration-color: #008080; font-weight: bold\">0</span><span style=\"font-weight: bold\">)</span>,\n",
       "        <span style=\"color: #808000; text-decoration-color: #808000\">quantization_config</span>=<span style=\"color: #800080; text-decoration-color: #800080; font-style: italic\">None</span>\n",
       "    <span style=\"font-weight: bold\">)</span>,\n",
       "    <span style=\"color: #808000; text-decoration-color: #808000\">payload_schema</span>=<span style=\"font-weight: bold\">{}</span>\n",
       "<span style=\"font-weight: bold\">)</span>\n",
       "</pre>\n"
      ],
      "text/plain": [
       "\u001b[1;35mCollectionInfo\u001b[0m\u001b[1m(\u001b[0m\n",
       "    \u001b[33mstatus\u001b[0m=\u001b[1m<\u001b[0m\u001b[1;95mCollectionStatus.GREEN:\u001b[0m\u001b[39m \u001b[0m\u001b[32m'green'\u001b[0m\u001b[39m>,\u001b[0m\n",
       "\u001b[39m    \u001b[0m\u001b[33moptimizer_status\u001b[0m\u001b[39m=<OptimizersStatusOneOf.OK: \u001b[0m\u001b[32m'ok'\u001b[0m\u001b[39m>,\u001b[0m\n",
       "\u001b[39m    \u001b[0m\u001b[33mvectors_count\u001b[0m\u001b[39m=\u001b[0m\u001b[1;36m775500\u001b[0m\u001b[39m,\u001b[0m\n",
       "\u001b[39m    \u001b[0m\u001b[33mindexed_vectors_count\u001b[0m\u001b[39m=\u001b[0m\u001b[1;36m0\u001b[0m\u001b[39m,\u001b[0m\n",
       "\u001b[39m    \u001b[0m\u001b[33mpoints_count\u001b[0m\u001b[39m=\u001b[0m\u001b[1;36m775500\u001b[0m\u001b[39m,\u001b[0m\n",
       "\u001b[39m    \u001b[0m\u001b[33msegments_count\u001b[0m\u001b[39m=\u001b[0m\u001b[1;36m12\u001b[0m\u001b[39m,\u001b[0m\n",
       "\u001b[39m    \u001b[0m\u001b[33mconfig\u001b[0m\u001b[39m=\u001b[0m\u001b[1;35mCollectionConfig\u001b[0m\u001b[1;39m(\u001b[0m\n",
       "\u001b[39m        \u001b[0m\u001b[33mparams\u001b[0m\u001b[39m=\u001b[0m\u001b[1;35mCollectionParams\u001b[0m\u001b[1;39m(\u001b[0m\n",
       "\u001b[39m            \u001b[0m\u001b[33mvectors\u001b[0m\u001b[39m=\u001b[0m\u001b[1;35mVectorParams\u001b[0m\u001b[1;39m(\u001b[0m\n",
       "\u001b[39m                \u001b[0m\u001b[33msize\u001b[0m\u001b[39m=\u001b[0m\u001b[1;36m384\u001b[0m\u001b[39m,\u001b[0m\n",
       "\u001b[39m                \u001b[0m\u001b[33mdistance\u001b[0m\u001b[39m=<Distance.COSINE: \u001b[0m\u001b[32m'Cosine'\u001b[0m\u001b[1m>\u001b[0m,\n",
       "                \u001b[33mhnsw_config\u001b[0m=\u001b[3;35mNone\u001b[0m,\n",
       "                \u001b[33mquantization_config\u001b[0m=\u001b[3;35mNone\u001b[0m,\n",
       "                \u001b[33mon_disk\u001b[0m=\u001b[3;35mNone\u001b[0m\n",
       "            \u001b[1m)\u001b[0m,\n",
       "            \u001b[33mshard_number\u001b[0m=\u001b[1;36m2\u001b[0m,\n",
       "            \u001b[33msharding_method\u001b[0m=\u001b[3;35mNone\u001b[0m,\n",
       "            \u001b[33mreplication_factor\u001b[0m=\u001b[1;36m1\u001b[0m,\n",
       "            \u001b[33mwrite_consistency_factor\u001b[0m=\u001b[1;36m1\u001b[0m,\n",
       "            \u001b[33mread_fan_out_factor\u001b[0m=\u001b[3;35mNone\u001b[0m,\n",
       "            \u001b[33mon_disk_payload\u001b[0m=\u001b[3;92mTrue\u001b[0m,\n",
       "            \u001b[33msparse_vectors\u001b[0m=\u001b[3;35mNone\u001b[0m\n",
       "        \u001b[1m)\u001b[0m,\n",
       "        \u001b[33mhnsw_config\u001b[0m=\u001b[1;35mHnswConfig\u001b[0m\u001b[1m(\u001b[0m\n",
       "            \u001b[33mm\u001b[0m=\u001b[1;36m16\u001b[0m,\n",
       "            \u001b[33mef_construct\u001b[0m=\u001b[1;36m100\u001b[0m,\n",
       "            \u001b[33mfull_scan_threshold\u001b[0m=\u001b[1;36m10000\u001b[0m,\n",
       "            \u001b[33mmax_indexing_threads\u001b[0m=\u001b[1;36m0\u001b[0m,\n",
       "            \u001b[33mon_disk\u001b[0m=\u001b[3;91mFalse\u001b[0m,\n",
       "            \u001b[33mpayload_m\u001b[0m=\u001b[3;35mNone\u001b[0m\n",
       "        \u001b[1m)\u001b[0m,\n",
       "        \u001b[33moptimizer_config\u001b[0m=\u001b[1;35mOptimizersConfig\u001b[0m\u001b[1m(\u001b[0m\n",
       "            \u001b[33mdeleted_threshold\u001b[0m=\u001b[1;36m0\u001b[0m\u001b[1;36m.2\u001b[0m,\n",
       "            \u001b[33mvacuum_min_vector_number\u001b[0m=\u001b[1;36m1000\u001b[0m,\n",
       "            \u001b[33mdefault_segment_number\u001b[0m=\u001b[1;36m0\u001b[0m,\n",
       "            \u001b[33mmax_segment_size\u001b[0m=\u001b[3;35mNone\u001b[0m,\n",
       "            \u001b[33mmemmap_threshold\u001b[0m=\u001b[3;35mNone\u001b[0m,\n",
       "            \u001b[33mindexing_threshold\u001b[0m=\u001b[1;36m0\u001b[0m,\n",
       "            \u001b[33mflush_interval_sec\u001b[0m=\u001b[1;36m5\u001b[0m,\n",
       "            \u001b[33mmax_optimization_threads\u001b[0m=\u001b[1;36m1\u001b[0m\n",
       "        \u001b[1m)\u001b[0m,\n",
       "        \u001b[33mwal_config\u001b[0m=\u001b[1;35mWalConfig\u001b[0m\u001b[1m(\u001b[0m\u001b[33mwal_capacity_mb\u001b[0m=\u001b[1;36m32\u001b[0m, \u001b[33mwal_segments_ahead\u001b[0m=\u001b[1;36m0\u001b[0m\u001b[1m)\u001b[0m,\n",
       "        \u001b[33mquantization_config\u001b[0m=\u001b[3;35mNone\u001b[0m\n",
       "    \u001b[1m)\u001b[0m,\n",
       "    \u001b[33mpayload_schema\u001b[0m=\u001b[1m{\u001b[0m\u001b[1m}\u001b[0m\n",
       "\u001b[1m)\u001b[0m\n"
      ]
     },
     "metadata": {},
     "output_type": "display_data"
    }
   ],
   "source": [
    "# Get collection details\n",
    "collection_info: Any = client.get_collection(collection_name=COLLECTION_NAME)\n",
    "print(collection_info)"
   ]
  },
  {
   "cell_type": "markdown",
   "metadata": {},
   "source": [
    "### Generate Embeddings\n",
    "\n",
    "- Generate embeddings for all the reviews in the dataset.\n",
    "- The embeddings, the sentiment label and score will be included in the Qdrant collection as metadata.\n",
    "- The metadata will be used to understand the customer opinions."
   ]
  },
  {
   "cell_type": "code",
   "execution_count": 16,
   "metadata": {},
   "outputs": [
    {
     "data": {
      "text/html": [
       "<pre style=\"white-space:pre;overflow-x:auto;line-height:normal;font-family:Menlo,'DejaVu Sans Mono',consolas,'Courier New',monospace\">shape: <span style=\"font-weight: bold\">(</span><span style=\"color: #008080; text-decoration-color: #008080; font-weight: bold\">5</span>, <span style=\"color: #008080; text-decoration-color: #008080; font-weight: bold\">5</span><span style=\"font-weight: bold\">)</span>\n",
       "┌────────────────────┬────────────────────┬───────────────┬────────────────────┬───────────────────┐\n",
       "│ review_id          ┆ review_text        ┆ review_rating ┆ author_app_version ┆ review_timestamp  │\n",
       "│ ---                ┆ ---                ┆ ---           ┆ ---                ┆ ---               │\n",
       "│ str                ┆ str                ┆ i64           ┆ str                ┆ str               │\n",
       "╞════════════════════╪════════════════════╪═══════════════╪════════════════════╪═══════════════════╡\n",
       "│ 7e73f80e-a8fd-4ff3 ┆ Works great on my  ┆ <span style=\"color: #008080; text-decoration-color: #008080; font-weight: bold\">5</span>             ┆ <span style=\"color: #008080; text-decoration-color: #008080; font-weight: bold\">1.2</span>.<span style=\"color: #008080; text-decoration-color: #008080; font-weight: bold\">0</span> build        ┆ <span style=\"color: #008080; text-decoration-color: #008080; font-weight: bold\">2011</span>-<span style=\"color: #008080; text-decoration-color: #008080; font-weight: bold\">05</span>-<span style=\"color: #008080; text-decoration-color: #008080; font-weight: bold\">12</span>        │\n",
       "│ -b09b-502f0ad0…    ┆ Evo! Glad andr…    ┆               ┆ <span style=\"color: #008080; text-decoration-color: #008080; font-weight: bold\">819145</span>-<span style=\"color: #008080; text-decoration-color: #008080; font-weight: bold\">1.2</span>.<span style=\"color: #008080; text-decoration-color: #008080; font-weight: bold\">0</span>-<span style=\"color: #008080; text-decoration-color: #008080; font-weight: bold\">102</span>   ┆ <span style=\"color: #00ff00; text-decoration-color: #00ff00; font-weight: bold\">18:50:37</span>          │\n",
       "│ dab55eca-c2a0-45a8 ┆ Works great on HTC ┆ <span style=\"color: #008080; text-decoration-color: #008080; font-weight: bold\">5</span>             ┆ <span style=\"color: #008080; text-decoration-color: #008080; font-weight: bold\">1.2</span>.<span style=\"color: #008080; text-decoration-color: #008080; font-weight: bold\">0</span> build        ┆ <span style=\"color: #008080; text-decoration-color: #008080; font-weight: bold\">2011</span>-<span style=\"color: #008080; text-decoration-color: #008080; font-weight: bold\">05</span>-<span style=\"color: #008080; text-decoration-color: #008080; font-weight: bold\">12</span>        │\n",
       "│ <span style=\"color: #008080; text-decoration-color: #008080; font-weight: bold\">-93e3</span>-9860c1c5…    ┆ incredible. C…     ┆               ┆ <span style=\"color: #008080; text-decoration-color: #008080; font-weight: bold\">819145</span>-<span style=\"color: #008080; text-decoration-color: #008080; font-weight: bold\">1.2</span>.<span style=\"color: #008080; text-decoration-color: #008080; font-weight: bold\">0</span>-<span style=\"color: #008080; text-decoration-color: #008080; font-weight: bold\">102</span>   ┆ <span style=\"color: #00ff00; text-decoration-color: #00ff00; font-weight: bold\">18:50:52</span>          │\n",
       "│ a3b8fa06-8b8f-4f2f ┆ Works great on     ┆ <span style=\"color: #008080; text-decoration-color: #008080; font-weight: bold\">5</span>             ┆ <span style=\"color: #008080; text-decoration-color: #008080; font-weight: bold\">1.5</span>.<span style=\"color: #008080; text-decoration-color: #008080; font-weight: bold\">2</span> build <span style=\"color: #008080; text-decoration-color: #008080; font-weight: bold\">389</span>    ┆ <span style=\"color: #008080; text-decoration-color: #008080; font-weight: bold\">2011</span>-<span style=\"color: #008080; text-decoration-color: #008080; font-weight: bold\">05</span>-<span style=\"color: #008080; text-decoration-color: #008080; font-weight: bold\">12</span>        │\n",
       "│ -a1fa-fd37c4cb…    ┆ nexus s            ┆               ┆                    ┆ <span style=\"color: #00ff00; text-decoration-color: #00ff00; font-weight: bold\">18:55:14</span>          │\n",
       "│ 837fdfa5-606d-4cec ┆ Working perfect    ┆ <span style=\"color: #008080; text-decoration-color: #008080; font-weight: bold\">5</span>             ┆ <span style=\"color: #008080; text-decoration-color: #008080; font-weight: bold\">1.2</span>.<span style=\"color: #008080; text-decoration-color: #008080; font-weight: bold\">1</span> build        ┆ <span style=\"color: #008080; text-decoration-color: #008080; font-weight: bold\">2011</span>-<span style=\"color: #008080; text-decoration-color: #008080; font-weight: bold\">05</span>-<span style=\"color: #008080; text-decoration-color: #008080; font-weight: bold\">12</span>        │\n",
       "│ -9e9a-e4a83dad…    ┆ for me on EVO, r…  ┆               ┆ <span style=\"color: #008080; text-decoration-color: #008080; font-weight: bold\">843839</span>-<span style=\"color: #008080; text-decoration-color: #008080; font-weight: bold\">1.2</span>.<span style=\"color: #008080; text-decoration-color: #008080; font-weight: bold\">0</span>-<span style=\"color: #008080; text-decoration-color: #008080; font-weight: bold\">30</span>    ┆ <span style=\"color: #00ff00; text-decoration-color: #00ff00; font-weight: bold\">19:31:46</span>          │\n",
       "│ a8aaecb2-<span style=\"color: #008080; text-decoration-color: #008080; font-weight: bold\">6984</span>-44f7 ┆ cm7 <span style=\"color: #008080; text-decoration-color: #008080; font-weight: bold\">2.3</span>.<span style=\"color: #008080; text-decoration-color: #008080; font-weight: bold\">3</span> N1       ┆ <span style=\"color: #008080; text-decoration-color: #008080; font-weight: bold\">5</span>             ┆ <span style=\"color: #008080; text-decoration-color: #008080; font-weight: bold\">1.5</span>.<span style=\"color: #008080; text-decoration-color: #008080; font-weight: bold\">2</span> build <span style=\"color: #008080; text-decoration-color: #008080; font-weight: bold\">389</span>    ┆ <span style=\"color: #008080; text-decoration-color: #008080; font-weight: bold\">2011</span>-<span style=\"color: #008080; text-decoration-color: #008080; font-weight: bold\">05</span>-<span style=\"color: #008080; text-decoration-color: #008080; font-weight: bold\">12</span>        │\n",
       "│ -b958-3f89f64d…    ┆                    ┆               ┆                    ┆ <span style=\"color: #00ff00; text-decoration-color: #00ff00; font-weight: bold\">19:32:50</span>          │\n",
       "└────────────────────┴────────────────────┴───────────────┴────────────────────┴───────────────────┘\n",
       "</pre>\n"
      ],
      "text/plain": [
       "shape: \u001b[1m(\u001b[0m\u001b[1;36m5\u001b[0m, \u001b[1;36m5\u001b[0m\u001b[1m)\u001b[0m\n",
       "┌────────────────────┬────────────────────┬───────────────┬────────────────────┬───────────────────┐\n",
       "│ review_id          ┆ review_text        ┆ review_rating ┆ author_app_version ┆ review_timestamp  │\n",
       "│ ---                ┆ ---                ┆ ---           ┆ ---                ┆ ---               │\n",
       "│ str                ┆ str                ┆ i64           ┆ str                ┆ str               │\n",
       "╞════════════════════╪════════════════════╪═══════════════╪════════════════════╪═══════════════════╡\n",
       "│ 7e73f80e-a8fd-4ff3 ┆ Works great on my  ┆ \u001b[1;36m5\u001b[0m             ┆ \u001b[1;36m1.2\u001b[0m.\u001b[1;36m0\u001b[0m build        ┆ \u001b[1;36m2011\u001b[0m-\u001b[1;36m05\u001b[0m-\u001b[1;36m12\u001b[0m        │\n",
       "│ -b09b-502f0ad0…    ┆ Evo! Glad andr…    ┆               ┆ \u001b[1;36m819145\u001b[0m-\u001b[1;36m1.2\u001b[0m.\u001b[1;36m0\u001b[0m-\u001b[1;36m102\u001b[0m   ┆ \u001b[1;92m18:50:37\u001b[0m          │\n",
       "│ dab55eca-c2a0-45a8 ┆ Works great on HTC ┆ \u001b[1;36m5\u001b[0m             ┆ \u001b[1;36m1.2\u001b[0m.\u001b[1;36m0\u001b[0m build        ┆ \u001b[1;36m2011\u001b[0m-\u001b[1;36m05\u001b[0m-\u001b[1;36m12\u001b[0m        │\n",
       "│ \u001b[1;36m-93e3\u001b[0m-9860c1c5…    ┆ incredible. C…     ┆               ┆ \u001b[1;36m819145\u001b[0m-\u001b[1;36m1.2\u001b[0m.\u001b[1;36m0\u001b[0m-\u001b[1;36m102\u001b[0m   ┆ \u001b[1;92m18:50:52\u001b[0m          │\n",
       "│ a3b8fa06-8b8f-4f2f ┆ Works great on     ┆ \u001b[1;36m5\u001b[0m             ┆ \u001b[1;36m1.5\u001b[0m.\u001b[1;36m2\u001b[0m build \u001b[1;36m389\u001b[0m    ┆ \u001b[1;36m2011\u001b[0m-\u001b[1;36m05\u001b[0m-\u001b[1;36m12\u001b[0m        │\n",
       "│ -a1fa-fd37c4cb…    ┆ nexus s            ┆               ┆                    ┆ \u001b[1;92m18:55:14\u001b[0m          │\n",
       "│ 837fdfa5-606d-4cec ┆ Working perfect    ┆ \u001b[1;36m5\u001b[0m             ┆ \u001b[1;36m1.2\u001b[0m.\u001b[1;36m1\u001b[0m build        ┆ \u001b[1;36m2011\u001b[0m-\u001b[1;36m05\u001b[0m-\u001b[1;36m12\u001b[0m        │\n",
       "│ -9e9a-e4a83dad…    ┆ for me on EVO, r…  ┆               ┆ \u001b[1;36m843839\u001b[0m-\u001b[1;36m1.2\u001b[0m.\u001b[1;36m0\u001b[0m-\u001b[1;36m30\u001b[0m    ┆ \u001b[1;92m19:31:46\u001b[0m          │\n",
       "│ a8aaecb2-\u001b[1;36m6984\u001b[0m-44f7 ┆ cm7 \u001b[1;36m2.3\u001b[0m.\u001b[1;36m3\u001b[0m N1       ┆ \u001b[1;36m5\u001b[0m             ┆ \u001b[1;36m1.5\u001b[0m.\u001b[1;36m2\u001b[0m build \u001b[1;36m389\u001b[0m    ┆ \u001b[1;36m2011\u001b[0m-\u001b[1;36m05\u001b[0m-\u001b[1;36m12\u001b[0m        │\n",
       "│ -b958-3f89f64d…    ┆                    ┆               ┆                    ┆ \u001b[1;92m19:32:50\u001b[0m          │\n",
       "└────────────────────┴────────────────────┴───────────────┴────────────────────┴───────────────────┘\n"
      ]
     },
     "metadata": {},
     "output_type": "display_data"
    }
   ],
   "source": [
    "print(data.head())"
   ]
  },
  {
   "cell_type": "code",
   "execution_count": 17,
   "metadata": {},
   "outputs": [],
   "source": [
    "def retrieve_labels(ratings: list[int]) -> list[str]:\n",
    "    \"\"\"This is used to retrieve the labels.\"\"\"\n",
    "    labels: list[str] = [id2label.get(x) for x in ratings]\n",
    "\n",
    "    return labels"
   ]
  },
  {
   "cell_type": "code",
   "execution_count": 18,
   "metadata": {},
   "outputs": [
    {
     "data": {
      "text/plain": [
       "['poor', 'okay', 'very good', 'excellent']"
      ]
     },
     "execution_count": 18,
     "metadata": {},
     "output_type": "execute_result"
    }
   ],
   "source": [
    "retrieve_labels(ratings=[2, 3, 4, 5])"
   ]
  },
  {
   "cell_type": "code",
   "execution_count": 19,
   "metadata": {},
   "outputs": [
    {
     "data": {
      "text/plain": [
       "'2011-05-12 18:50:37'"
      ]
     },
     "execution_count": 19,
     "metadata": {},
     "output_type": "execute_result"
    }
   ],
   "source": [
    "data.select(\"review_timestamp\").to_series().to_list()[0]"
   ]
  },
  {
   "cell_type": "code",
   "execution_count": 20,
   "metadata": {},
   "outputs": [],
   "source": [
    "from dateutil.parser import parse\n",
    "\n",
    "\n",
    "def get_timestamp(dates: list[str]) -> list[float]:\n",
    "    \"\"\"This is used to convert the dates to timestamp.\"\"\"\n",
    "    timestamps: list[float] = [parse(d).timestamp() for d in dates]\n",
    "    return timestamps"
   ]
  },
  {
   "cell_type": "code",
   "execution_count": 21,
   "metadata": {},
   "outputs": [
    {
     "data": {
      "text/plain": [
       "[1305222637.0]"
      ]
     },
     "execution_count": 21,
     "metadata": {},
     "output_type": "execute_result"
    }
   ],
   "source": [
    "d: str = \"2011-05-12 18:50:37\"\n",
    "\n",
    "get_timestamp(dates=[d])"
   ]
  },
  {
   "cell_type": "markdown",
   "metadata": {},
   "source": [
    "### Qdrant Upsert\n",
    "\n",
    "- Using “Upsert” with Qdrant Vector Database [Blog](https://redandgreen.co.uk/qdrant-upsert/ai-ml/).\n",
    "- [Official Documentation](https://qdrant.tech/documentation/concepts/points/#upload-points).\n"
   ]
  },
  {
   "cell_type": "code",
   "execution_count": 22,
   "metadata": {},
   "outputs": [
    {
     "data": {
      "text/html": [
       "<pre style=\"white-space:pre;overflow-x:auto;line-height:normal;font-family:Menlo,'DejaVu Sans Mono',consolas,'Courier New',monospace\">&gt;&gt;&gt; <span style=\"font-weight: bold\">[</span>Done<span style=\"font-weight: bold\">]</span> &lt;&lt;&lt;\n",
       "</pre>\n"
      ],
      "text/plain": [
       ">>> \u001b[1m[\u001b[0mDone\u001b[1m]\u001b[0m <<<\n"
      ]
     },
     "metadata": {},
     "output_type": "display_data"
    }
   ],
   "source": [
    "# Encode the entire data (Batch Upload)\n",
    "import uuid\n",
    "\n",
    "from tqdm.auto import tqdm\n",
    "\n",
    "\n",
    "batch_size: int = 500\n",
    "counter: int = 0\n",
    "\n",
    "if RUN_CELL:\n",
    "    for i in tqdm(range(0, len(data), batch_size)):\n",
    "\n",
    "        # Find end of batch\n",
    "        i_end: int = min(i + batch_size, data.shape[0])\n",
    "\n",
    "        # Extract batch\n",
    "        sample_rows: list[Any] = data.rows()[i:i_end]\n",
    "        batch: pl.DataFrame = pl.DataFrame(\n",
    "            sample_rows,\n",
    "            schema=[\n",
    "                \"review_id\",\n",
    "                \"review_text\",\n",
    "                \"review_rating\",\n",
    "                \"author_app_version\",\n",
    "                \"review_date\",  # renamed!\n",
    "            ],\n",
    "        )\n",
    "\n",
    "        # IDs: list[str] = [str(uuid.uuid4()) for _ in range(batch.shape[0])]\n",
    "        IDs: list[str] = batch.select(pl.col(\"review_id\")).to_series().to_list()\n",
    "\n",
    "        # Generate embeddings for batch\n",
    "        batch_reviews: list[str] = (\n",
    "            batch.select(pl.col(\"review_text\")).to_series().to_list()\n",
    "        )\n",
    "        vectors: list[float] = encoder.encode(\n",
    "            batch_reviews, show_progress_bar=False\n",
    "        ).tolist()\n",
    "\n",
    "        batch_ratings: list[str] = (\n",
    "            batch.select(pl.col(\"review_rating\")).to_series().to_list()\n",
    "        )\n",
    "\n",
    "        # Get sentiment label and score for reviews in the batch\n",
    "        labels: list[str] = retrieve_labels(ratings=batch_ratings)\n",
    "\n",
    "        # Add new column(s)\n",
    "        batch: pl.DataFrame = pl.concat(\n",
    "            [batch, pl.DataFrame({\"label\": labels})], how=\"horizontal\"\n",
    "        )\n",
    "        dates: list[str] = batch.select(pl.col(\"review_date\")).to_series().to_list()\n",
    "        timestamp: list[float] = get_timestamp(dates=dates)\n",
    "        timestamp_df: pl.DataFrame = pl.DataFrame(data={\"timestamp\": timestamp})\n",
    "        batch: pl.DataFrame = pl.concat([batch, timestamp_df], how=\"horizontal\")\n",
    "\n",
    "        # Get metadata\n",
    "        counter += batch_size\n",
    "        if counter % 12_000 == 0:\n",
    "            print(\">>> [Creating payload] [Upserting data] <<<\")\n",
    "        payload_data: list[dict[str, Any]] = batch.to_dicts()\n",
    "\n",
    "        # Upsert/insert these records to Qdrant\n",
    "        _ = client.upsert(\n",
    "            collection_name=COLLECTION_NAME,\n",
    "            points=models.Batch(\n",
    "                ids=IDs,\n",
    "                payloads=payload_data,\n",
    "                vectors=vectors,\n",
    "            ),\n",
    "        )\n",
    "\n",
    "print(\">>> [Done] <<<\")"
   ]
  },
  {
   "cell_type": "markdown",
   "metadata": {},
   "source": [
    "### Note\n",
    "\n",
    "- Due to the size of the data, I only upserted ~775.5k datapoints.\n",
    "- I took ~1hr 58m to upsert."
   ]
  },
  {
   "cell_type": "code",
   "execution_count": null,
   "metadata": {},
   "outputs": [],
   "source": []
  },
  {
   "cell_type": "markdown",
   "metadata": {},
   "source": [
    "<hr><br>\n",
    "\n",
    "## Opinion Mining\n",
    "- a\n",
    "- b\n",
    "- c"
   ]
  },
  {
   "cell_type": "code",
   "execution_count": 23,
   "metadata": {},
   "outputs": [],
   "source": [
    "def count_sentiment(data: list[dict[str, Any]]) -> dict[str, int]:\n",
    "    \"\"\"This is used to count the sentiments.\n",
    "\n",
    "    It has been modified for Qdrant Vector DB.\n",
    "    \"\"\"\n",
    "    from collections import Counter\n",
    "\n",
    "    sentiments: list[str] = [x.dict().get(\"payload\").get(\"label\") for x in data]\n",
    "    result: dict[str, int] = dict(Counter(sentiments))\n",
    "\n",
    "    return result"
   ]
  },
  {
   "cell_type": "code",
   "execution_count": 24,
   "metadata": {},
   "outputs": [
    {
     "data": {
      "text/html": [
       "<pre style=\"white-space:pre;overflow-x:auto;line-height:normal;font-family:Menlo,'DejaVu Sans Mono',consolas,'Courier New',monospace\"><span style=\"font-weight: bold\">[</span>\n",
       "    <span style=\"color: #800080; text-decoration-color: #800080; font-weight: bold\">ScoredPoint</span><span style=\"font-weight: bold\">(</span>\n",
       "        <span style=\"color: #808000; text-decoration-color: #808000\">id</span>=<span style=\"color: #008000; text-decoration-color: #008000\">'bac9519b-0005-420d-970e-3ef515f1b3a5'</span>,\n",
       "        <span style=\"color: #808000; text-decoration-color: #808000\">version</span>=<span style=\"color: #008080; text-decoration-color: #008080; font-weight: bold\">369</span>,\n",
       "        <span style=\"color: #808000; text-decoration-color: #808000\">score</span>=<span style=\"color: #008080; text-decoration-color: #008080; font-weight: bold\">0.84076256</span>,\n",
       "        <span style=\"color: #808000; text-decoration-color: #808000\">payload</span>=<span style=\"font-weight: bold\">{</span>\n",
       "            <span style=\"color: #008000; text-decoration-color: #008000\">'author_app_version'</span>: <span style=\"color: #008000; text-decoration-color: #008000\">'3.5.1 build 1566'</span>,\n",
       "            <span style=\"color: #008000; text-decoration-color: #008000\">'label'</span>: <span style=\"color: #008000; text-decoration-color: #008000\">'very good'</span>,\n",
       "            <span style=\"color: #008000; text-decoration-color: #008000\">'review_date'</span>: <span style=\"color: #008000; text-decoration-color: #008000\">'2014-06-11 03:56:09'</span>,\n",
       "            <span style=\"color: #008000; text-decoration-color: #008000\">'review_id'</span>: <span style=\"color: #008000; text-decoration-color: #008000\">'bac9519b-0005-420d-970e-3ef515f1b3a5'</span>,\n",
       "            <span style=\"color: #008000; text-decoration-color: #008000\">'review_rating'</span>: <span style=\"color: #008080; text-decoration-color: #008080; font-weight: bold\">4</span>,\n",
       "            <span style=\"color: #008000; text-decoration-color: #008000\">'review_text'</span>: <span style=\"color: #008000; text-decoration-color: #008000\">'This app is very nice. I mostly use it to entertain the kids when we are out and about,</span>\n",
       "<span style=\"color: #008000; text-decoration-color: #008000\">but it has never given me any serious problems in that respect. From MY experiences ALONE, I can say I am a </span>\n",
       "<span style=\"color: #008000; text-decoration-color: #008000\">satisfied customers thus far.'</span>,\n",
       "            <span style=\"color: #008000; text-decoration-color: #008000\">'timestamp'</span>: <span style=\"color: #008080; text-decoration-color: #008080; font-weight: bold\">1402455369.0</span>\n",
       "        <span style=\"font-weight: bold\">}</span>,\n",
       "        <span style=\"color: #808000; text-decoration-color: #808000\">vector</span>=<span style=\"color: #800080; text-decoration-color: #800080; font-style: italic\">None</span>,\n",
       "        <span style=\"color: #808000; text-decoration-color: #808000\">shard_key</span>=<span style=\"color: #800080; text-decoration-color: #800080; font-style: italic\">None</span>\n",
       "    <span style=\"font-weight: bold\">)</span>,\n",
       "    <span style=\"color: #800080; text-decoration-color: #800080; font-weight: bold\">ScoredPoint</span><span style=\"font-weight: bold\">(</span>\n",
       "        <span style=\"color: #808000; text-decoration-color: #808000\">id</span>=<span style=\"color: #008000; text-decoration-color: #008000\">'af768543-c619-4486-b8b6-e6ae5581bafb'</span>,\n",
       "        <span style=\"color: #808000; text-decoration-color: #808000\">version</span>=<span style=\"color: #008080; text-decoration-color: #008080; font-weight: bold\">1202</span>,\n",
       "        <span style=\"color: #808000; text-decoration-color: #808000\">score</span>=<span style=\"color: #008080; text-decoration-color: #008080; font-weight: bold\">0.723863</span>,\n",
       "        <span style=\"color: #808000; text-decoration-color: #808000\">payload</span>=<span style=\"font-weight: bold\">{</span>\n",
       "            <span style=\"color: #008000; text-decoration-color: #008000\">'author_app_version'</span>: <span style=\"color: #008000; text-decoration-color: #008000\">'5.16.1 build 26734'</span>,\n",
       "            <span style=\"color: #008000; text-decoration-color: #008000\">'label'</span>: <span style=\"color: #008000; text-decoration-color: #008000\">'poor'</span>,\n",
       "            <span style=\"color: #008000; text-decoration-color: #008000\">'review_date'</span>: <span style=\"color: #008000; text-decoration-color: #008000\">'2018-06-19 06:09:06'</span>,\n",
       "            <span style=\"color: #008000; text-decoration-color: #008000\">'review_id'</span>: <span style=\"color: #008000; text-decoration-color: #008000\">'af768543-c619-4486-b8b6-e6ae5581bafb'</span>,\n",
       "            <span style=\"color: #008000; text-decoration-color: #008000\">'review_rating'</span>: <span style=\"color: #008080; text-decoration-color: #008080; font-weight: bold\">2</span>,\n",
       "            <span style=\"color: #008000; text-decoration-color: #008000\">'review_text'</span>: <span style=\"color: #008000; text-decoration-color: #008000\">'Very good app, but totally unsatisfactory customer service. Please teach \\nyour </span>\n",
       "<span style=\"color: #008000; text-decoration-color: #008000\">customer service reps to talk to customers with respect if we are \\nhaving an issue that has to be resolved.'</span>,\n",
       "            <span style=\"color: #008000; text-decoration-color: #008000\">'timestamp'</span>: <span style=\"color: #008080; text-decoration-color: #008080; font-weight: bold\">1529384946.0</span>\n",
       "        <span style=\"font-weight: bold\">}</span>,\n",
       "        <span style=\"color: #808000; text-decoration-color: #808000\">vector</span>=<span style=\"color: #800080; text-decoration-color: #800080; font-style: italic\">None</span>,\n",
       "        <span style=\"color: #808000; text-decoration-color: #808000\">shard_key</span>=<span style=\"color: #800080; text-decoration-color: #800080; font-style: italic\">None</span>\n",
       "    <span style=\"font-weight: bold\">)</span>,\n",
       "    <span style=\"color: #800080; text-decoration-color: #800080; font-weight: bold\">ScoredPoint</span><span style=\"font-weight: bold\">(</span>\n",
       "        <span style=\"color: #808000; text-decoration-color: #808000\">id</span>=<span style=\"color: #008000; text-decoration-color: #008000\">'62c2478d-7ea7-4286-9614-efaa64b950cb'</span>,\n",
       "        <span style=\"color: #808000; text-decoration-color: #808000\">version</span>=<span style=\"color: #008080; text-decoration-color: #008080; font-weight: bold\">83</span>,\n",
       "        <span style=\"color: #808000; text-decoration-color: #808000\">score</span>=<span style=\"color: #008080; text-decoration-color: #008080; font-weight: bold\">0.71924067</span>,\n",
       "        <span style=\"color: #808000; text-decoration-color: #808000\">payload</span>=<span style=\"font-weight: bold\">{</span>\n",
       "            <span style=\"color: #008000; text-decoration-color: #008000\">'author_app_version'</span>: <span style=\"color: #008000; text-decoration-color: #008000\">''</span>,\n",
       "            <span style=\"color: #008000; text-decoration-color: #008000\">'label'</span>: <span style=\"color: #008000; text-decoration-color: #008000\">'excellent'</span>,\n",
       "            <span style=\"color: #008000; text-decoration-color: #008000\">'review_date'</span>: <span style=\"color: #008000; text-decoration-color: #008000\">'2012-05-22 16:01:13'</span>,\n",
       "            <span style=\"color: #008000; text-decoration-color: #008000\">'review_id'</span>: <span style=\"color: #008000; text-decoration-color: #008000\">'62c2478d-7ea7-4286-9614-efaa64b950cb'</span>,\n",
       "            <span style=\"color: #008000; text-decoration-color: #008000\">'review_rating'</span>: <span style=\"color: #008080; text-decoration-color: #008080; font-weight: bold\">5</span>,\n",
       "            <span style=\"color: #008000; text-decoration-color: #008000\">'review_text'</span>: <span style=\"color: #008000; text-decoration-color: #008000\">\"I've been a customer for more than 2 years great app\"</span>,\n",
       "            <span style=\"color: #008000; text-decoration-color: #008000\">'timestamp'</span>: <span style=\"color: #008080; text-decoration-color: #008080; font-weight: bold\">1337698873.0</span>\n",
       "        <span style=\"font-weight: bold\">}</span>,\n",
       "        <span style=\"color: #808000; text-decoration-color: #808000\">vector</span>=<span style=\"color: #800080; text-decoration-color: #800080; font-style: italic\">None</span>,\n",
       "        <span style=\"color: #808000; text-decoration-color: #808000\">shard_key</span>=<span style=\"color: #800080; text-decoration-color: #800080; font-style: italic\">None</span>\n",
       "    <span style=\"font-weight: bold\">)</span>,\n",
       "    <span style=\"color: #800080; text-decoration-color: #800080; font-weight: bold\">ScoredPoint</span><span style=\"font-weight: bold\">(</span>\n",
       "        <span style=\"color: #808000; text-decoration-color: #808000\">id</span>=<span style=\"color: #008000; text-decoration-color: #008000\">'513ebf2b-af2d-4436-9455-30e404ee530b'</span>,\n",
       "        <span style=\"color: #808000; text-decoration-color: #808000\">version</span>=<span style=\"color: #008080; text-decoration-color: #008080; font-weight: bold\">1399</span>,\n",
       "        <span style=\"color: #808000; text-decoration-color: #808000\">score</span>=<span style=\"color: #008080; text-decoration-color: #008080; font-weight: bold\">0.7089151</span>,\n",
       "        <span style=\"color: #808000; text-decoration-color: #808000\">payload</span>=<span style=\"font-weight: bold\">{</span>\n",
       "            <span style=\"color: #008000; text-decoration-color: #008000\">'author_app_version'</span>: <span style=\"color: #008000; text-decoration-color: #008000\">''</span>,\n",
       "            <span style=\"color: #008000; text-decoration-color: #008000\">'label'</span>: <span style=\"color: #008000; text-decoration-color: #008000\">'excellent'</span>,\n",
       "            <span style=\"color: #008000; text-decoration-color: #008000\">'review_date'</span>: <span style=\"color: #008000; text-decoration-color: #008000\">'2019-03-03 19:44:08'</span>,\n",
       "            <span style=\"color: #008000; text-decoration-color: #008000\">'review_id'</span>: <span style=\"color: #008000; text-decoration-color: #008000\">'513ebf2b-af2d-4436-9455-30e404ee530b'</span>,\n",
       "            <span style=\"color: #008000; text-decoration-color: #008000\">'review_rating'</span>: <span style=\"color: #008080; text-decoration-color: #008080; font-weight: bold\">5</span>,\n",
       "            <span style=\"color: #008000; text-decoration-color: #008000\">'review_text'</span>: <span style=\"color: #008000; text-decoration-color: #008000\">'good app and customer service when needed'</span>,\n",
       "            <span style=\"color: #008000; text-decoration-color: #008000\">'timestamp'</span>: <span style=\"color: #008080; text-decoration-color: #008080; font-weight: bold\">1551638648.0</span>\n",
       "        <span style=\"font-weight: bold\">}</span>,\n",
       "        <span style=\"color: #808000; text-decoration-color: #808000\">vector</span>=<span style=\"color: #800080; text-decoration-color: #800080; font-style: italic\">None</span>,\n",
       "        <span style=\"color: #808000; text-decoration-color: #808000\">shard_key</span>=<span style=\"color: #800080; text-decoration-color: #800080; font-style: italic\">None</span>\n",
       "    <span style=\"font-weight: bold\">)</span>,\n",
       "    <span style=\"color: #800080; text-decoration-color: #800080; font-weight: bold\">ScoredPoint</span><span style=\"font-weight: bold\">(</span>\n",
       "        <span style=\"color: #808000; text-decoration-color: #808000\">id</span>=<span style=\"color: #008000; text-decoration-color: #008000\">'434e85d0-a6cc-4355-bc1a-3614f0574aa8'</span>,\n",
       "        <span style=\"color: #808000; text-decoration-color: #808000\">version</span>=<span style=\"color: #008080; text-decoration-color: #008080; font-weight: bold\">863</span>,\n",
       "        <span style=\"color: #808000; text-decoration-color: #808000\">score</span>=<span style=\"color: #008080; text-decoration-color: #008080; font-weight: bold\">0.7002642</span>,\n",
       "        <span style=\"color: #808000; text-decoration-color: #808000\">payload</span>=<span style=\"font-weight: bold\">{</span>\n",
       "            <span style=\"color: #008000; text-decoration-color: #008000\">'author_app_version'</span>: <span style=\"color: #008000; text-decoration-color: #008000\">'4.13.2 build 14565'</span>,\n",
       "            <span style=\"color: #008000; text-decoration-color: #008000\">'label'</span>: <span style=\"color: #008000; text-decoration-color: #008000\">'excellent'</span>,\n",
       "            <span style=\"color: #008000; text-decoration-color: #008000\">'review_date'</span>: <span style=\"color: #008000; text-decoration-color: #008000\">'2017-02-27 13:36:14'</span>,\n",
       "            <span style=\"color: #008000; text-decoration-color: #008000\">'review_id'</span>: <span style=\"color: #008000; text-decoration-color: #008000\">'434e85d0-a6cc-4355-bc1a-3614f0574aa8'</span>,\n",
       "            <span style=\"color: #008000; text-decoration-color: #008000\">'review_rating'</span>: <span style=\"color: #008080; text-decoration-color: #008080; font-weight: bold\">5</span>,\n",
       "            <span style=\"color: #008000; text-decoration-color: #008000\">'review_text'</span>: <span style=\"color: #008000; text-decoration-color: #008000\">'Have no complaints about app'</span>,\n",
       "            <span style=\"color: #008000; text-decoration-color: #008000\">'timestamp'</span>: <span style=\"color: #008080; text-decoration-color: #008080; font-weight: bold\">1488198974.0</span>\n",
       "        <span style=\"font-weight: bold\">}</span>,\n",
       "        <span style=\"color: #808000; text-decoration-color: #808000\">vector</span>=<span style=\"color: #800080; text-decoration-color: #800080; font-style: italic\">None</span>,\n",
       "        <span style=\"color: #808000; text-decoration-color: #808000\">shard_key</span>=<span style=\"color: #800080; text-decoration-color: #800080; font-style: italic\">None</span>\n",
       "    <span style=\"font-weight: bold\">)</span>\n",
       "<span style=\"font-weight: bold\">]</span>\n",
       "</pre>\n"
      ],
      "text/plain": [
       "\u001b[1m[\u001b[0m\n",
       "    \u001b[1;35mScoredPoint\u001b[0m\u001b[1m(\u001b[0m\n",
       "        \u001b[33mid\u001b[0m=\u001b[32m'bac9519b-0005-420d-970e-3ef515f1b3a5'\u001b[0m,\n",
       "        \u001b[33mversion\u001b[0m=\u001b[1;36m369\u001b[0m,\n",
       "        \u001b[33mscore\u001b[0m=\u001b[1;36m0\u001b[0m\u001b[1;36m.84076256\u001b[0m,\n",
       "        \u001b[33mpayload\u001b[0m=\u001b[1m{\u001b[0m\n",
       "            \u001b[32m'author_app_version'\u001b[0m: \u001b[32m'3.5.1 build 1566'\u001b[0m,\n",
       "            \u001b[32m'label'\u001b[0m: \u001b[32m'very good'\u001b[0m,\n",
       "            \u001b[32m'review_date'\u001b[0m: \u001b[32m'2014-06-11 03:56:09'\u001b[0m,\n",
       "            \u001b[32m'review_id'\u001b[0m: \u001b[32m'bac9519b-0005-420d-970e-3ef515f1b3a5'\u001b[0m,\n",
       "            \u001b[32m'review_rating'\u001b[0m: \u001b[1;36m4\u001b[0m,\n",
       "            \u001b[32m'review_text'\u001b[0m: \u001b[32m'This app is very nice. I mostly use it to entertain the kids when we are out and about,\u001b[0m\n",
       "\u001b[32mbut it has never given me any serious problems in that respect. From MY experiences ALONE, I can say I am a \u001b[0m\n",
       "\u001b[32msatisfied customers thus far.'\u001b[0m,\n",
       "            \u001b[32m'timestamp'\u001b[0m: \u001b[1;36m1402455369.0\u001b[0m\n",
       "        \u001b[1m}\u001b[0m,\n",
       "        \u001b[33mvector\u001b[0m=\u001b[3;35mNone\u001b[0m,\n",
       "        \u001b[33mshard_key\u001b[0m=\u001b[3;35mNone\u001b[0m\n",
       "    \u001b[1m)\u001b[0m,\n",
       "    \u001b[1;35mScoredPoint\u001b[0m\u001b[1m(\u001b[0m\n",
       "        \u001b[33mid\u001b[0m=\u001b[32m'af768543-c619-4486-b8b6-e6ae5581bafb'\u001b[0m,\n",
       "        \u001b[33mversion\u001b[0m=\u001b[1;36m1202\u001b[0m,\n",
       "        \u001b[33mscore\u001b[0m=\u001b[1;36m0\u001b[0m\u001b[1;36m.723863\u001b[0m,\n",
       "        \u001b[33mpayload\u001b[0m=\u001b[1m{\u001b[0m\n",
       "            \u001b[32m'author_app_version'\u001b[0m: \u001b[32m'5.16.1 build 26734'\u001b[0m,\n",
       "            \u001b[32m'label'\u001b[0m: \u001b[32m'poor'\u001b[0m,\n",
       "            \u001b[32m'review_date'\u001b[0m: \u001b[32m'2018-06-19 06:09:06'\u001b[0m,\n",
       "            \u001b[32m'review_id'\u001b[0m: \u001b[32m'af768543-c619-4486-b8b6-e6ae5581bafb'\u001b[0m,\n",
       "            \u001b[32m'review_rating'\u001b[0m: \u001b[1;36m2\u001b[0m,\n",
       "            \u001b[32m'review_text'\u001b[0m: \u001b[32m'Very good app, but totally unsatisfactory customer service. Please teach \\nyour \u001b[0m\n",
       "\u001b[32mcustomer service reps to talk to customers with respect if we are \\nhaving an issue that has to be resolved.'\u001b[0m,\n",
       "            \u001b[32m'timestamp'\u001b[0m: \u001b[1;36m1529384946.0\u001b[0m\n",
       "        \u001b[1m}\u001b[0m,\n",
       "        \u001b[33mvector\u001b[0m=\u001b[3;35mNone\u001b[0m,\n",
       "        \u001b[33mshard_key\u001b[0m=\u001b[3;35mNone\u001b[0m\n",
       "    \u001b[1m)\u001b[0m,\n",
       "    \u001b[1;35mScoredPoint\u001b[0m\u001b[1m(\u001b[0m\n",
       "        \u001b[33mid\u001b[0m=\u001b[32m'62c2478d-7ea7-4286-9614-efaa64b950cb'\u001b[0m,\n",
       "        \u001b[33mversion\u001b[0m=\u001b[1;36m83\u001b[0m,\n",
       "        \u001b[33mscore\u001b[0m=\u001b[1;36m0\u001b[0m\u001b[1;36m.71924067\u001b[0m,\n",
       "        \u001b[33mpayload\u001b[0m=\u001b[1m{\u001b[0m\n",
       "            \u001b[32m'author_app_version'\u001b[0m: \u001b[32m''\u001b[0m,\n",
       "            \u001b[32m'label'\u001b[0m: \u001b[32m'excellent'\u001b[0m,\n",
       "            \u001b[32m'review_date'\u001b[0m: \u001b[32m'2012-05-22 16:01:13'\u001b[0m,\n",
       "            \u001b[32m'review_id'\u001b[0m: \u001b[32m'62c2478d-7ea7-4286-9614-efaa64b950cb'\u001b[0m,\n",
       "            \u001b[32m'review_rating'\u001b[0m: \u001b[1;36m5\u001b[0m,\n",
       "            \u001b[32m'review_text'\u001b[0m: \u001b[32m\"I've been a customer for more than 2 years great app\"\u001b[0m,\n",
       "            \u001b[32m'timestamp'\u001b[0m: \u001b[1;36m1337698873.0\u001b[0m\n",
       "        \u001b[1m}\u001b[0m,\n",
       "        \u001b[33mvector\u001b[0m=\u001b[3;35mNone\u001b[0m,\n",
       "        \u001b[33mshard_key\u001b[0m=\u001b[3;35mNone\u001b[0m\n",
       "    \u001b[1m)\u001b[0m,\n",
       "    \u001b[1;35mScoredPoint\u001b[0m\u001b[1m(\u001b[0m\n",
       "        \u001b[33mid\u001b[0m=\u001b[32m'513ebf2b-af2d-4436-9455-30e404ee530b'\u001b[0m,\n",
       "        \u001b[33mversion\u001b[0m=\u001b[1;36m1399\u001b[0m,\n",
       "        \u001b[33mscore\u001b[0m=\u001b[1;36m0\u001b[0m\u001b[1;36m.7089151\u001b[0m,\n",
       "        \u001b[33mpayload\u001b[0m=\u001b[1m{\u001b[0m\n",
       "            \u001b[32m'author_app_version'\u001b[0m: \u001b[32m''\u001b[0m,\n",
       "            \u001b[32m'label'\u001b[0m: \u001b[32m'excellent'\u001b[0m,\n",
       "            \u001b[32m'review_date'\u001b[0m: \u001b[32m'2019-03-03 19:44:08'\u001b[0m,\n",
       "            \u001b[32m'review_id'\u001b[0m: \u001b[32m'513ebf2b-af2d-4436-9455-30e404ee530b'\u001b[0m,\n",
       "            \u001b[32m'review_rating'\u001b[0m: \u001b[1;36m5\u001b[0m,\n",
       "            \u001b[32m'review_text'\u001b[0m: \u001b[32m'good app and customer service when needed'\u001b[0m,\n",
       "            \u001b[32m'timestamp'\u001b[0m: \u001b[1;36m1551638648.0\u001b[0m\n",
       "        \u001b[1m}\u001b[0m,\n",
       "        \u001b[33mvector\u001b[0m=\u001b[3;35mNone\u001b[0m,\n",
       "        \u001b[33mshard_key\u001b[0m=\u001b[3;35mNone\u001b[0m\n",
       "    \u001b[1m)\u001b[0m,\n",
       "    \u001b[1;35mScoredPoint\u001b[0m\u001b[1m(\u001b[0m\n",
       "        \u001b[33mid\u001b[0m=\u001b[32m'434e85d0-a6cc-4355-bc1a-3614f0574aa8'\u001b[0m,\n",
       "        \u001b[33mversion\u001b[0m=\u001b[1;36m863\u001b[0m,\n",
       "        \u001b[33mscore\u001b[0m=\u001b[1;36m0\u001b[0m\u001b[1;36m.7002642\u001b[0m,\n",
       "        \u001b[33mpayload\u001b[0m=\u001b[1m{\u001b[0m\n",
       "            \u001b[32m'author_app_version'\u001b[0m: \u001b[32m'4.13.2 build 14565'\u001b[0m,\n",
       "            \u001b[32m'label'\u001b[0m: \u001b[32m'excellent'\u001b[0m,\n",
       "            \u001b[32m'review_date'\u001b[0m: \u001b[32m'2017-02-27 13:36:14'\u001b[0m,\n",
       "            \u001b[32m'review_id'\u001b[0m: \u001b[32m'434e85d0-a6cc-4355-bc1a-3614f0574aa8'\u001b[0m,\n",
       "            \u001b[32m'review_rating'\u001b[0m: \u001b[1;36m5\u001b[0m,\n",
       "            \u001b[32m'review_text'\u001b[0m: \u001b[32m'Have no complaints about app'\u001b[0m,\n",
       "            \u001b[32m'timestamp'\u001b[0m: \u001b[1;36m1488198974.0\u001b[0m\n",
       "        \u001b[1m}\u001b[0m,\n",
       "        \u001b[33mvector\u001b[0m=\u001b[3;35mNone\u001b[0m,\n",
       "        \u001b[33mshard_key\u001b[0m=\u001b[3;35mNone\u001b[0m\n",
       "    \u001b[1m)\u001b[0m\n",
       "\u001b[1m]\u001b[0m\n"
      ]
     },
     "metadata": {},
     "output_type": "display_data"
    }
   ],
   "source": [
    "N: int = 5_000\n",
    "query: str = \"are the customers satisfied with the app?\"\n",
    "query_vector: list[float] = encoder.encode(query).tolist()\n",
    "\n",
    "\n",
    "hits: list[Any] = client.search(\n",
    "    collection_name=COLLECTION_NAME,\n",
    "    query_vector=query_vector,\n",
    "    query_filter=None,\n",
    "    limit=N,\n",
    ")\n",
    "# for hit in hits:\n",
    "# print(hit.payload, \"score:\", hit.score)\n",
    "\n",
    "print(hits[:5])"
   ]
  },
  {
   "cell_type": "code",
   "execution_count": 25,
   "metadata": {},
   "outputs": [
    {
     "data": {
      "text/plain": [
       "{'very good': 684,\n",
       " 'poor': 92,\n",
       " 'excellent': 3767,\n",
       " 'okay': 225,\n",
       " 'very poor': 231,\n",
       " None: 1}"
      ]
     },
     "execution_count": 25,
     "metadata": {},
     "output_type": "execute_result"
    }
   ],
   "source": [
    "sentiment: dict[str, int] = count_sentiment(hits)\n",
    "sentiment"
   ]
  },
  {
   "cell_type": "code",
   "execution_count": 26,
   "metadata": {},
   "outputs": [],
   "source": [
    "import plotly.express as px\n",
    "\n",
    "\n",
    "def visualize_result(sentiment: dict[str, Any], query: str) -> Any:\n",
    "\n",
    "    vis_data: pd.DataFrame = pd.DataFrame(sentiment, index=[0]).drop(columns=[None]).T\n",
    "    vis_data = vis_data.reset_index(drop=False).rename(\n",
    "        columns={0: \"rating\", \"index\": \"label\"}\n",
    "    )\n",
    "    fig = px.bar(\n",
    "        vis_data,\n",
    "        x=\"label\",\n",
    "        y=\"rating\",\n",
    "        labels=dict(index=\"rating\", rating=\"count\"),\n",
    "        color=\"label\",\n",
    "        text_auto=True,\n",
    "        title=query,\n",
    "    )\n",
    "    return fig.show()"
   ]
  },
  {
   "cell_type": "code",
   "execution_count": 27,
   "metadata": {},
   "outputs": [
    {
     "data": {
      "application/vnd.plotly.v1+json": {
       "config": {
        "plotlyServerURL": "https://plot.ly"
       },
       "data": [
        {
         "alignmentgroup": "True",
         "hovertemplate": "label=%{x}<br>count=%{y}<extra></extra>",
         "legendgroup": "very good",
         "marker": {
          "color": "#636efa",
          "pattern": {
           "shape": ""
          }
         },
         "name": "very good",
         "offsetgroup": "very good",
         "orientation": "v",
         "showlegend": true,
         "textposition": "auto",
         "texttemplate": "%{y}",
         "type": "bar",
         "x": [
          "very good"
         ],
         "xaxis": "x",
         "y": [
          684
         ],
         "yaxis": "y"
        },
        {
         "alignmentgroup": "True",
         "hovertemplate": "label=%{x}<br>count=%{y}<extra></extra>",
         "legendgroup": "poor",
         "marker": {
          "color": "#EF553B",
          "pattern": {
           "shape": ""
          }
         },
         "name": "poor",
         "offsetgroup": "poor",
         "orientation": "v",
         "showlegend": true,
         "textposition": "auto",
         "texttemplate": "%{y}",
         "type": "bar",
         "x": [
          "poor"
         ],
         "xaxis": "x",
         "y": [
          92
         ],
         "yaxis": "y"
        },
        {
         "alignmentgroup": "True",
         "hovertemplate": "label=%{x}<br>count=%{y}<extra></extra>",
         "legendgroup": "excellent",
         "marker": {
          "color": "#00cc96",
          "pattern": {
           "shape": ""
          }
         },
         "name": "excellent",
         "offsetgroup": "excellent",
         "orientation": "v",
         "showlegend": true,
         "textposition": "auto",
         "texttemplate": "%{y}",
         "type": "bar",
         "x": [
          "excellent"
         ],
         "xaxis": "x",
         "y": [
          3767
         ],
         "yaxis": "y"
        },
        {
         "alignmentgroup": "True",
         "hovertemplate": "label=%{x}<br>count=%{y}<extra></extra>",
         "legendgroup": "okay",
         "marker": {
          "color": "#ab63fa",
          "pattern": {
           "shape": ""
          }
         },
         "name": "okay",
         "offsetgroup": "okay",
         "orientation": "v",
         "showlegend": true,
         "textposition": "auto",
         "texttemplate": "%{y}",
         "type": "bar",
         "x": [
          "okay"
         ],
         "xaxis": "x",
         "y": [
          225
         ],
         "yaxis": "y"
        },
        {
         "alignmentgroup": "True",
         "hovertemplate": "label=%{x}<br>count=%{y}<extra></extra>",
         "legendgroup": "very poor",
         "marker": {
          "color": "#FFA15A",
          "pattern": {
           "shape": ""
          }
         },
         "name": "very poor",
         "offsetgroup": "very poor",
         "orientation": "v",
         "showlegend": true,
         "textposition": "auto",
         "texttemplate": "%{y}",
         "type": "bar",
         "x": [
          "very poor"
         ],
         "xaxis": "x",
         "y": [
          231
         ],
         "yaxis": "y"
        }
       ],
       "layout": {
        "barmode": "relative",
        "legend": {
         "title": {
          "text": "label"
         },
         "tracegroupgap": 0
        },
        "template": {
         "data": {
          "bar": [
           {
            "error_x": {
             "color": "#2a3f5f"
            },
            "error_y": {
             "color": "#2a3f5f"
            },
            "marker": {
             "line": {
              "color": "#E5ECF6",
              "width": 0.5
             },
             "pattern": {
              "fillmode": "overlay",
              "size": 10,
              "solidity": 0.2
             }
            },
            "type": "bar"
           }
          ],
          "barpolar": [
           {
            "marker": {
             "line": {
              "color": "#E5ECF6",
              "width": 0.5
             },
             "pattern": {
              "fillmode": "overlay",
              "size": 10,
              "solidity": 0.2
             }
            },
            "type": "barpolar"
           }
          ],
          "carpet": [
           {
            "aaxis": {
             "endlinecolor": "#2a3f5f",
             "gridcolor": "white",
             "linecolor": "white",
             "minorgridcolor": "white",
             "startlinecolor": "#2a3f5f"
            },
            "baxis": {
             "endlinecolor": "#2a3f5f",
             "gridcolor": "white",
             "linecolor": "white",
             "minorgridcolor": "white",
             "startlinecolor": "#2a3f5f"
            },
            "type": "carpet"
           }
          ],
          "choropleth": [
           {
            "colorbar": {
             "outlinewidth": 0,
             "ticks": ""
            },
            "type": "choropleth"
           }
          ],
          "contour": [
           {
            "colorbar": {
             "outlinewidth": 0,
             "ticks": ""
            },
            "colorscale": [
             [
              0,
              "#0d0887"
             ],
             [
              0.1111111111111111,
              "#46039f"
             ],
             [
              0.2222222222222222,
              "#7201a8"
             ],
             [
              0.3333333333333333,
              "#9c179e"
             ],
             [
              0.4444444444444444,
              "#bd3786"
             ],
             [
              0.5555555555555556,
              "#d8576b"
             ],
             [
              0.6666666666666666,
              "#ed7953"
             ],
             [
              0.7777777777777778,
              "#fb9f3a"
             ],
             [
              0.8888888888888888,
              "#fdca26"
             ],
             [
              1,
              "#f0f921"
             ]
            ],
            "type": "contour"
           }
          ],
          "contourcarpet": [
           {
            "colorbar": {
             "outlinewidth": 0,
             "ticks": ""
            },
            "type": "contourcarpet"
           }
          ],
          "heatmap": [
           {
            "colorbar": {
             "outlinewidth": 0,
             "ticks": ""
            },
            "colorscale": [
             [
              0,
              "#0d0887"
             ],
             [
              0.1111111111111111,
              "#46039f"
             ],
             [
              0.2222222222222222,
              "#7201a8"
             ],
             [
              0.3333333333333333,
              "#9c179e"
             ],
             [
              0.4444444444444444,
              "#bd3786"
             ],
             [
              0.5555555555555556,
              "#d8576b"
             ],
             [
              0.6666666666666666,
              "#ed7953"
             ],
             [
              0.7777777777777778,
              "#fb9f3a"
             ],
             [
              0.8888888888888888,
              "#fdca26"
             ],
             [
              1,
              "#f0f921"
             ]
            ],
            "type": "heatmap"
           }
          ],
          "heatmapgl": [
           {
            "colorbar": {
             "outlinewidth": 0,
             "ticks": ""
            },
            "colorscale": [
             [
              0,
              "#0d0887"
             ],
             [
              0.1111111111111111,
              "#46039f"
             ],
             [
              0.2222222222222222,
              "#7201a8"
             ],
             [
              0.3333333333333333,
              "#9c179e"
             ],
             [
              0.4444444444444444,
              "#bd3786"
             ],
             [
              0.5555555555555556,
              "#d8576b"
             ],
             [
              0.6666666666666666,
              "#ed7953"
             ],
             [
              0.7777777777777778,
              "#fb9f3a"
             ],
             [
              0.8888888888888888,
              "#fdca26"
             ],
             [
              1,
              "#f0f921"
             ]
            ],
            "type": "heatmapgl"
           }
          ],
          "histogram": [
           {
            "marker": {
             "pattern": {
              "fillmode": "overlay",
              "size": 10,
              "solidity": 0.2
             }
            },
            "type": "histogram"
           }
          ],
          "histogram2d": [
           {
            "colorbar": {
             "outlinewidth": 0,
             "ticks": ""
            },
            "colorscale": [
             [
              0,
              "#0d0887"
             ],
             [
              0.1111111111111111,
              "#46039f"
             ],
             [
              0.2222222222222222,
              "#7201a8"
             ],
             [
              0.3333333333333333,
              "#9c179e"
             ],
             [
              0.4444444444444444,
              "#bd3786"
             ],
             [
              0.5555555555555556,
              "#d8576b"
             ],
             [
              0.6666666666666666,
              "#ed7953"
             ],
             [
              0.7777777777777778,
              "#fb9f3a"
             ],
             [
              0.8888888888888888,
              "#fdca26"
             ],
             [
              1,
              "#f0f921"
             ]
            ],
            "type": "histogram2d"
           }
          ],
          "histogram2dcontour": [
           {
            "colorbar": {
             "outlinewidth": 0,
             "ticks": ""
            },
            "colorscale": [
             [
              0,
              "#0d0887"
             ],
             [
              0.1111111111111111,
              "#46039f"
             ],
             [
              0.2222222222222222,
              "#7201a8"
             ],
             [
              0.3333333333333333,
              "#9c179e"
             ],
             [
              0.4444444444444444,
              "#bd3786"
             ],
             [
              0.5555555555555556,
              "#d8576b"
             ],
             [
              0.6666666666666666,
              "#ed7953"
             ],
             [
              0.7777777777777778,
              "#fb9f3a"
             ],
             [
              0.8888888888888888,
              "#fdca26"
             ],
             [
              1,
              "#f0f921"
             ]
            ],
            "type": "histogram2dcontour"
           }
          ],
          "mesh3d": [
           {
            "colorbar": {
             "outlinewidth": 0,
             "ticks": ""
            },
            "type": "mesh3d"
           }
          ],
          "parcoords": [
           {
            "line": {
             "colorbar": {
              "outlinewidth": 0,
              "ticks": ""
             }
            },
            "type": "parcoords"
           }
          ],
          "pie": [
           {
            "automargin": true,
            "type": "pie"
           }
          ],
          "scatter": [
           {
            "fillpattern": {
             "fillmode": "overlay",
             "size": 10,
             "solidity": 0.2
            },
            "type": "scatter"
           }
          ],
          "scatter3d": [
           {
            "line": {
             "colorbar": {
              "outlinewidth": 0,
              "ticks": ""
             }
            },
            "marker": {
             "colorbar": {
              "outlinewidth": 0,
              "ticks": ""
             }
            },
            "type": "scatter3d"
           }
          ],
          "scattercarpet": [
           {
            "marker": {
             "colorbar": {
              "outlinewidth": 0,
              "ticks": ""
             }
            },
            "type": "scattercarpet"
           }
          ],
          "scattergeo": [
           {
            "marker": {
             "colorbar": {
              "outlinewidth": 0,
              "ticks": ""
             }
            },
            "type": "scattergeo"
           }
          ],
          "scattergl": [
           {
            "marker": {
             "colorbar": {
              "outlinewidth": 0,
              "ticks": ""
             }
            },
            "type": "scattergl"
           }
          ],
          "scattermapbox": [
           {
            "marker": {
             "colorbar": {
              "outlinewidth": 0,
              "ticks": ""
             }
            },
            "type": "scattermapbox"
           }
          ],
          "scatterpolar": [
           {
            "marker": {
             "colorbar": {
              "outlinewidth": 0,
              "ticks": ""
             }
            },
            "type": "scatterpolar"
           }
          ],
          "scatterpolargl": [
           {
            "marker": {
             "colorbar": {
              "outlinewidth": 0,
              "ticks": ""
             }
            },
            "type": "scatterpolargl"
           }
          ],
          "scatterternary": [
           {
            "marker": {
             "colorbar": {
              "outlinewidth": 0,
              "ticks": ""
             }
            },
            "type": "scatterternary"
           }
          ],
          "surface": [
           {
            "colorbar": {
             "outlinewidth": 0,
             "ticks": ""
            },
            "colorscale": [
             [
              0,
              "#0d0887"
             ],
             [
              0.1111111111111111,
              "#46039f"
             ],
             [
              0.2222222222222222,
              "#7201a8"
             ],
             [
              0.3333333333333333,
              "#9c179e"
             ],
             [
              0.4444444444444444,
              "#bd3786"
             ],
             [
              0.5555555555555556,
              "#d8576b"
             ],
             [
              0.6666666666666666,
              "#ed7953"
             ],
             [
              0.7777777777777778,
              "#fb9f3a"
             ],
             [
              0.8888888888888888,
              "#fdca26"
             ],
             [
              1,
              "#f0f921"
             ]
            ],
            "type": "surface"
           }
          ],
          "table": [
           {
            "cells": {
             "fill": {
              "color": "#EBF0F8"
             },
             "line": {
              "color": "white"
             }
            },
            "header": {
             "fill": {
              "color": "#C8D4E3"
             },
             "line": {
              "color": "white"
             }
            },
            "type": "table"
           }
          ]
         },
         "layout": {
          "annotationdefaults": {
           "arrowcolor": "#2a3f5f",
           "arrowhead": 0,
           "arrowwidth": 1
          },
          "autotypenumbers": "strict",
          "coloraxis": {
           "colorbar": {
            "outlinewidth": 0,
            "ticks": ""
           }
          },
          "colorscale": {
           "diverging": [
            [
             0,
             "#8e0152"
            ],
            [
             0.1,
             "#c51b7d"
            ],
            [
             0.2,
             "#de77ae"
            ],
            [
             0.3,
             "#f1b6da"
            ],
            [
             0.4,
             "#fde0ef"
            ],
            [
             0.5,
             "#f7f7f7"
            ],
            [
             0.6,
             "#e6f5d0"
            ],
            [
             0.7,
             "#b8e186"
            ],
            [
             0.8,
             "#7fbc41"
            ],
            [
             0.9,
             "#4d9221"
            ],
            [
             1,
             "#276419"
            ]
           ],
           "sequential": [
            [
             0,
             "#0d0887"
            ],
            [
             0.1111111111111111,
             "#46039f"
            ],
            [
             0.2222222222222222,
             "#7201a8"
            ],
            [
             0.3333333333333333,
             "#9c179e"
            ],
            [
             0.4444444444444444,
             "#bd3786"
            ],
            [
             0.5555555555555556,
             "#d8576b"
            ],
            [
             0.6666666666666666,
             "#ed7953"
            ],
            [
             0.7777777777777778,
             "#fb9f3a"
            ],
            [
             0.8888888888888888,
             "#fdca26"
            ],
            [
             1,
             "#f0f921"
            ]
           ],
           "sequentialminus": [
            [
             0,
             "#0d0887"
            ],
            [
             0.1111111111111111,
             "#46039f"
            ],
            [
             0.2222222222222222,
             "#7201a8"
            ],
            [
             0.3333333333333333,
             "#9c179e"
            ],
            [
             0.4444444444444444,
             "#bd3786"
            ],
            [
             0.5555555555555556,
             "#d8576b"
            ],
            [
             0.6666666666666666,
             "#ed7953"
            ],
            [
             0.7777777777777778,
             "#fb9f3a"
            ],
            [
             0.8888888888888888,
             "#fdca26"
            ],
            [
             1,
             "#f0f921"
            ]
           ]
          },
          "colorway": [
           "#636efa",
           "#EF553B",
           "#00cc96",
           "#ab63fa",
           "#FFA15A",
           "#19d3f3",
           "#FF6692",
           "#B6E880",
           "#FF97FF",
           "#FECB52"
          ],
          "font": {
           "color": "#2a3f5f"
          },
          "geo": {
           "bgcolor": "white",
           "lakecolor": "white",
           "landcolor": "#E5ECF6",
           "showlakes": true,
           "showland": true,
           "subunitcolor": "white"
          },
          "hoverlabel": {
           "align": "left"
          },
          "hovermode": "closest",
          "mapbox": {
           "style": "light"
          },
          "paper_bgcolor": "white",
          "plot_bgcolor": "#E5ECF6",
          "polar": {
           "angularaxis": {
            "gridcolor": "white",
            "linecolor": "white",
            "ticks": ""
           },
           "bgcolor": "#E5ECF6",
           "radialaxis": {
            "gridcolor": "white",
            "linecolor": "white",
            "ticks": ""
           }
          },
          "scene": {
           "xaxis": {
            "backgroundcolor": "#E5ECF6",
            "gridcolor": "white",
            "gridwidth": 2,
            "linecolor": "white",
            "showbackground": true,
            "ticks": "",
            "zerolinecolor": "white"
           },
           "yaxis": {
            "backgroundcolor": "#E5ECF6",
            "gridcolor": "white",
            "gridwidth": 2,
            "linecolor": "white",
            "showbackground": true,
            "ticks": "",
            "zerolinecolor": "white"
           },
           "zaxis": {
            "backgroundcolor": "#E5ECF6",
            "gridcolor": "white",
            "gridwidth": 2,
            "linecolor": "white",
            "showbackground": true,
            "ticks": "",
            "zerolinecolor": "white"
           }
          },
          "shapedefaults": {
           "line": {
            "color": "#2a3f5f"
           }
          },
          "ternary": {
           "aaxis": {
            "gridcolor": "white",
            "linecolor": "white",
            "ticks": ""
           },
           "baxis": {
            "gridcolor": "white",
            "linecolor": "white",
            "ticks": ""
           },
           "bgcolor": "#E5ECF6",
           "caxis": {
            "gridcolor": "white",
            "linecolor": "white",
            "ticks": ""
           }
          },
          "title": {
           "x": 0.05
          },
          "xaxis": {
           "automargin": true,
           "gridcolor": "white",
           "linecolor": "white",
           "ticks": "",
           "title": {
            "standoff": 15
           },
           "zerolinecolor": "white",
           "zerolinewidth": 2
          },
          "yaxis": {
           "automargin": true,
           "gridcolor": "white",
           "linecolor": "white",
           "ticks": "",
           "title": {
            "standoff": 15
           },
           "zerolinecolor": "white",
           "zerolinewidth": 2
          }
         }
        },
        "title": {
         "text": "are the customers satisfied with the app?"
        },
        "xaxis": {
         "anchor": "y",
         "categoryarray": [
          "very good",
          "poor",
          "excellent",
          "okay",
          "very poor"
         ],
         "categoryorder": "array",
         "domain": [
          0,
          1
         ],
         "title": {
          "text": "label"
         }
        },
        "yaxis": {
         "anchor": "x",
         "domain": [
          0,
          1
         ],
         "title": {
          "text": "count"
         }
        }
       }
      }
     },
     "metadata": {},
     "output_type": "display_data"
    }
   ],
   "source": [
    "visualize_result(sentiment=sentiment, query=query)"
   ]
  },
  {
   "cell_type": "code",
   "execution_count": 28,
   "metadata": {},
   "outputs": [
    {
     "data": {
      "text/html": [
       "<pre style=\"white-space:pre;overflow-x:auto;line-height:normal;font-family:Menlo,'DejaVu Sans Mono',consolas,'Courier New',monospace\"><span style=\"font-weight: bold\">[</span>\n",
       "    <span style=\"color: #800080; text-decoration-color: #800080; font-weight: bold\">ScoredPoint</span><span style=\"font-weight: bold\">(</span>\n",
       "        <span style=\"color: #808000; text-decoration-color: #808000\">id</span>=<span style=\"color: #008000; text-decoration-color: #008000\">'52127cca-0b23-4d8d-91a4-cd1dcab5dae0'</span>,\n",
       "        <span style=\"color: #808000; text-decoration-color: #808000\">version</span>=<span style=\"color: #008080; text-decoration-color: #008080; font-weight: bold\">1341</span>,\n",
       "        <span style=\"color: #808000; text-decoration-color: #808000\">score</span>=<span style=\"color: #008080; text-decoration-color: #008080; font-weight: bold\">0.6361048</span>,\n",
       "        <span style=\"color: #808000; text-decoration-color: #808000\">payload</span>=<span style=\"font-weight: bold\">{</span>\n",
       "            <span style=\"color: #008000; text-decoration-color: #008000\">'author_app_version'</span>: <span style=\"color: #008000; text-decoration-color: #008000\">''</span>,\n",
       "            <span style=\"color: #008000; text-decoration-color: #008000\">'label'</span>: <span style=\"color: #008000; text-decoration-color: #008000\">'excellent'</span>,\n",
       "            <span style=\"color: #008000; text-decoration-color: #008000\">'review_date'</span>: <span style=\"color: #008000; text-decoration-color: #008000\">'2018-12-11 23:27:51'</span>,\n",
       "            <span style=\"color: #008000; text-decoration-color: #008000\">'review_id'</span>: <span style=\"color: #008000; text-decoration-color: #008000\">'52127cca-0b23-4d8d-91a4-cd1dcab5dae0'</span>,\n",
       "            <span style=\"color: #008000; text-decoration-color: #008000\">'review_rating'</span>: <span style=\"color: #008080; text-decoration-color: #008080; font-weight: bold\">5</span>,\n",
       "            <span style=\"color: #008000; text-decoration-color: #008000\">'review_text'</span>: <span style=\"color: #008000; text-decoration-color: #008000\">'More details and features'</span>,\n",
       "            <span style=\"color: #008000; text-decoration-color: #008000\">'timestamp'</span>: <span style=\"color: #008080; text-decoration-color: #008080; font-weight: bold\">1544567271.0</span>\n",
       "        <span style=\"font-weight: bold\">}</span>,\n",
       "        <span style=\"color: #808000; text-decoration-color: #808000\">vector</span>=<span style=\"color: #800080; text-decoration-color: #800080; font-style: italic\">None</span>,\n",
       "        <span style=\"color: #808000; text-decoration-color: #808000\">shard_key</span>=<span style=\"color: #800080; text-decoration-color: #800080; font-style: italic\">None</span>\n",
       "    <span style=\"font-weight: bold\">)</span>,\n",
       "    <span style=\"color: #800080; text-decoration-color: #800080; font-weight: bold\">ScoredPoint</span><span style=\"font-weight: bold\">(</span>\n",
       "        <span style=\"color: #808000; text-decoration-color: #808000\">id</span>=<span style=\"color: #008000; text-decoration-color: #008000\">'506bb405-854f-45f5-870f-0004e6dd6bad'</span>,\n",
       "        <span style=\"color: #808000; text-decoration-color: #808000\">version</span>=<span style=\"color: #008080; text-decoration-color: #008080; font-weight: bold\">542</span>,\n",
       "        <span style=\"color: #808000; text-decoration-color: #808000\">score</span>=<span style=\"color: #008080; text-decoration-color: #008080; font-weight: bold\">0.62138975</span>,\n",
       "        <span style=\"color: #808000; text-decoration-color: #808000\">payload</span>=<span style=\"font-weight: bold\">{</span>\n",
       "            <span style=\"color: #008000; text-decoration-color: #008000\">'author_app_version'</span>: <span style=\"color: #008000; text-decoration-color: #008000\">'3.13.0 build 5107'</span>,\n",
       "            <span style=\"color: #008000; text-decoration-color: #008000\">'label'</span>: <span style=\"color: #008000; text-decoration-color: #008000\">'excellent'</span>,\n",
       "            <span style=\"color: #008000; text-decoration-color: #008000\">'review_date'</span>: <span style=\"color: #008000; text-decoration-color: #008000\">'2015-06-20 16:38:40'</span>,\n",
       "            <span style=\"color: #008000; text-decoration-color: #008000\">'review_id'</span>: <span style=\"color: #008000; text-decoration-color: #008000\">'506bb405-854f-45f5-870f-0004e6dd6bad'</span>,\n",
       "            <span style=\"color: #008000; text-decoration-color: #008000\">'review_rating'</span>: <span style=\"color: #008080; text-decoration-color: #008080; font-weight: bold\">5</span>,\n",
       "            <span style=\"color: #008000; text-decoration-color: #008000\">'review_text'</span>: <span style=\"color: #008000; text-decoration-color: #008000\">'All features'</span>,\n",
       "            <span style=\"color: #008000; text-decoration-color: #008000\">'timestamp'</span>: <span style=\"color: #008080; text-decoration-color: #008080; font-weight: bold\">1434814720.0</span>\n",
       "        <span style=\"font-weight: bold\">}</span>,\n",
       "        <span style=\"color: #808000; text-decoration-color: #808000\">vector</span>=<span style=\"color: #800080; text-decoration-color: #800080; font-style: italic\">None</span>,\n",
       "        <span style=\"color: #808000; text-decoration-color: #808000\">shard_key</span>=<span style=\"color: #800080; text-decoration-color: #800080; font-style: italic\">None</span>\n",
       "    <span style=\"font-weight: bold\">)</span>,\n",
       "    <span style=\"color: #800080; text-decoration-color: #800080; font-weight: bold\">ScoredPoint</span><span style=\"font-weight: bold\">(</span>\n",
       "        <span style=\"color: #808000; text-decoration-color: #808000\">id</span>=<span style=\"color: #008000; text-decoration-color: #008000\">'10c97cfa-5c0e-4cab-8f49-0180af97aa43'</span>,\n",
       "        <span style=\"color: #808000; text-decoration-color: #808000\">version</span>=<span style=\"color: #008080; text-decoration-color: #008080; font-weight: bold\">1017</span>,\n",
       "        <span style=\"color: #808000; text-decoration-color: #808000\">score</span>=<span style=\"color: #008080; text-decoration-color: #008080; font-weight: bold\">0.61171573</span>,\n",
       "        <span style=\"color: #808000; text-decoration-color: #808000\">payload</span>=<span style=\"font-weight: bold\">{</span>\n",
       "            <span style=\"color: #008000; text-decoration-color: #008000\">'author_app_version'</span>: <span style=\"color: #008000; text-decoration-color: #008000\">'4.12.2 build 14444'</span>,\n",
       "            <span style=\"color: #008000; text-decoration-color: #008000\">'label'</span>: <span style=\"color: #008000; text-decoration-color: #008000\">'excellent'</span>,\n",
       "            <span style=\"color: #008000; text-decoration-color: #008000\">'review_date'</span>: <span style=\"color: #008000; text-decoration-color: #008000\">'2017-08-22 20:51:25'</span>,\n",
       "            <span style=\"color: #008000; text-decoration-color: #008000\">'review_id'</span>: <span style=\"color: #008000; text-decoration-color: #008000\">'10c97cfa-5c0e-4cab-8f49-0180af97aa43'</span>,\n",
       "            <span style=\"color: #008000; text-decoration-color: #008000\">'review_rating'</span>: <span style=\"color: #008080; text-decoration-color: #008080; font-weight: bold\">5</span>,\n",
       "            <span style=\"color: #008000; text-decoration-color: #008000\">'review_text'</span>: <span style=\"color: #008000; text-decoration-color: #008000\">'The features are amazing'</span>,\n",
       "            <span style=\"color: #008000; text-decoration-color: #008000\">'timestamp'</span>: <span style=\"color: #008080; text-decoration-color: #008080; font-weight: bold\">1503431485.0</span>\n",
       "        <span style=\"font-weight: bold\">}</span>,\n",
       "        <span style=\"color: #808000; text-decoration-color: #808000\">vector</span>=<span style=\"color: #800080; text-decoration-color: #800080; font-style: italic\">None</span>,\n",
       "        <span style=\"color: #808000; text-decoration-color: #808000\">shard_key</span>=<span style=\"color: #800080; text-decoration-color: #800080; font-style: italic\">None</span>\n",
       "    <span style=\"font-weight: bold\">)</span>,\n",
       "    <span style=\"color: #800080; text-decoration-color: #800080; font-weight: bold\">ScoredPoint</span><span style=\"font-weight: bold\">(</span>\n",
       "        <span style=\"color: #808000; text-decoration-color: #808000\">id</span>=<span style=\"color: #008000; text-decoration-color: #008000\">'ccebc563-1c86-42c9-82b8-352a790c8a28'</span>,\n",
       "        <span style=\"color: #808000; text-decoration-color: #808000\">version</span>=<span style=\"color: #008080; text-decoration-color: #008080; font-weight: bold\">1518</span>,\n",
       "        <span style=\"color: #808000; text-decoration-color: #808000\">score</span>=<span style=\"color: #008080; text-decoration-color: #008080; font-weight: bold\">0.5907492</span>,\n",
       "        <span style=\"color: #808000; text-decoration-color: #808000\">payload</span>=<span style=\"font-weight: bold\">{</span>\n",
       "            <span style=\"color: #008000; text-decoration-color: #008000\">'author_app_version'</span>: <span style=\"color: #008000; text-decoration-color: #008000\">'7.16.1 build 19 34329'</span>,\n",
       "            <span style=\"color: #008000; text-decoration-color: #008000\">'label'</span>: <span style=\"color: #008000; text-decoration-color: #008000\">'excellent'</span>,\n",
       "            <span style=\"color: #008000; text-decoration-color: #008000\">'review_date'</span>: <span style=\"color: #008000; text-decoration-color: #008000\">'2019-07-09 16:32:22'</span>,\n",
       "            <span style=\"color: #008000; text-decoration-color: #008000\">'review_id'</span>: <span style=\"color: #008000; text-decoration-color: #008000\">'ccebc563-1c86-42c9-82b8-352a790c8a28'</span>,\n",
       "            <span style=\"color: #008000; text-decoration-color: #008000\">'review_rating'</span>: <span style=\"color: #008080; text-decoration-color: #008080; font-weight: bold\">5</span>,\n",
       "            <span style=\"color: #008000; text-decoration-color: #008000\">'review_text'</span>: <span style=\"color: #008000; text-decoration-color: #008000\">'so many features!!'</span>,\n",
       "            <span style=\"color: #008000; text-decoration-color: #008000\">'timestamp'</span>: <span style=\"color: #008080; text-decoration-color: #008080; font-weight: bold\">1562686342.0</span>\n",
       "        <span style=\"font-weight: bold\">}</span>,\n",
       "        <span style=\"color: #808000; text-decoration-color: #808000\">vector</span>=<span style=\"color: #800080; text-decoration-color: #800080; font-style: italic\">None</span>,\n",
       "        <span style=\"color: #808000; text-decoration-color: #808000\">shard_key</span>=<span style=\"color: #800080; text-decoration-color: #800080; font-style: italic\">None</span>\n",
       "    <span style=\"font-weight: bold\">)</span>,\n",
       "    <span style=\"color: #800080; text-decoration-color: #800080; font-weight: bold\">ScoredPoint</span><span style=\"font-weight: bold\">(</span>\n",
       "        <span style=\"color: #808000; text-decoration-color: #808000\">id</span>=<span style=\"color: #008000; text-decoration-color: #008000\">'c577ea60-aebe-42cb-8d87-1d57af46baee'</span>,\n",
       "        <span style=\"color: #808000; text-decoration-color: #808000\">version</span>=<span style=\"color: #008080; text-decoration-color: #008080; font-weight: bold\">1078</span>,\n",
       "        <span style=\"color: #808000; text-decoration-color: #808000\">score</span>=<span style=\"color: #008080; text-decoration-color: #008080; font-weight: bold\">0.58485156</span>,\n",
       "        <span style=\"color: #808000; text-decoration-color: #808000\">payload</span>=<span style=\"font-weight: bold\">{</span>\n",
       "            <span style=\"color: #008000; text-decoration-color: #008000\">'author_app_version'</span>: <span style=\"color: #008000; text-decoration-color: #008000\">'5.10.1 build 25262'</span>,\n",
       "            <span style=\"color: #008000; text-decoration-color: #008000\">'label'</span>: <span style=\"color: #008000; text-decoration-color: #008000\">'excellent'</span>,\n",
       "            <span style=\"color: #008000; text-decoration-color: #008000\">'review_date'</span>: <span style=\"color: #008000; text-decoration-color: #008000\">'2017-12-03 08:00:42'</span>,\n",
       "            <span style=\"color: #008000; text-decoration-color: #008000\">'review_id'</span>: <span style=\"color: #008000; text-decoration-color: #008000\">'c577ea60-aebe-42cb-8d87-1d57af46baee'</span>,\n",
       "            <span style=\"color: #008000; text-decoration-color: #008000\">'review_rating'</span>: <span style=\"color: #008080; text-decoration-color: #008080; font-weight: bold\">5</span>,\n",
       "            <span style=\"color: #008000; text-decoration-color: #008000\">'review_text'</span>: <span style=\"color: #008000; text-decoration-color: #008000\">'I like the features'</span>,\n",
       "            <span style=\"color: #008000; text-decoration-color: #008000\">'timestamp'</span>: <span style=\"color: #008080; text-decoration-color: #008080; font-weight: bold\">1512284442.0</span>\n",
       "        <span style=\"font-weight: bold\">}</span>,\n",
       "        <span style=\"color: #808000; text-decoration-color: #808000\">vector</span>=<span style=\"color: #800080; text-decoration-color: #800080; font-style: italic\">None</span>,\n",
       "        <span style=\"color: #808000; text-decoration-color: #808000\">shard_key</span>=<span style=\"color: #800080; text-decoration-color: #800080; font-style: italic\">None</span>\n",
       "    <span style=\"font-weight: bold\">)</span>,\n",
       "    <span style=\"color: #800080; text-decoration-color: #800080; font-weight: bold\">ScoredPoint</span><span style=\"font-weight: bold\">(</span>\n",
       "        <span style=\"color: #808000; text-decoration-color: #808000\">id</span>=<span style=\"color: #008000; text-decoration-color: #008000\">'63737fc2-1b78-49fb-81f4-4d38662d6eb0'</span>,\n",
       "        <span style=\"color: #808000; text-decoration-color: #808000\">version</span>=<span style=\"color: #008080; text-decoration-color: #008080; font-weight: bold\">1196</span>,\n",
       "        <span style=\"color: #808000; text-decoration-color: #808000\">score</span>=<span style=\"color: #008080; text-decoration-color: #008080; font-weight: bold\">0.5743925</span>,\n",
       "        <span style=\"color: #808000; text-decoration-color: #808000\">payload</span>=<span style=\"font-weight: bold\">{</span>\n",
       "            <span style=\"color: #008000; text-decoration-color: #008000\">'author_app_version'</span>: <span style=\"color: #008000; text-decoration-color: #008000\">''</span>,\n",
       "            <span style=\"color: #008000; text-decoration-color: #008000\">'label'</span>: <span style=\"color: #008000; text-decoration-color: #008000\">'excellent'</span>,\n",
       "            <span style=\"color: #008000; text-decoration-color: #008000\">'review_date'</span>: <span style=\"color: #008000; text-decoration-color: #008000\">'2018-06-09 07:31:19'</span>,\n",
       "            <span style=\"color: #008000; text-decoration-color: #008000\">'review_id'</span>: <span style=\"color: #008000; text-decoration-color: #008000\">'63737fc2-1b78-49fb-81f4-4d38662d6eb0'</span>,\n",
       "            <span style=\"color: #008000; text-decoration-color: #008000\">'review_rating'</span>: <span style=\"color: #008080; text-decoration-color: #008080; font-weight: bold\">5</span>,\n",
       "            <span style=\"color: #008000; text-decoration-color: #008000\">'review_text'</span>: <span style=\"color: #008000; text-decoration-color: #008000\">'Cool features'</span>,\n",
       "            <span style=\"color: #008000; text-decoration-color: #008000\">'timestamp'</span>: <span style=\"color: #008080; text-decoration-color: #008080; font-weight: bold\">1528525879.0</span>\n",
       "        <span style=\"font-weight: bold\">}</span>,\n",
       "        <span style=\"color: #808000; text-decoration-color: #808000\">vector</span>=<span style=\"color: #800080; text-decoration-color: #800080; font-style: italic\">None</span>,\n",
       "        <span style=\"color: #808000; text-decoration-color: #808000\">shard_key</span>=<span style=\"color: #800080; text-decoration-color: #800080; font-style: italic\">None</span>\n",
       "    <span style=\"font-weight: bold\">)</span>,\n",
       "    <span style=\"color: #800080; text-decoration-color: #800080; font-weight: bold\">ScoredPoint</span><span style=\"font-weight: bold\">(</span>\n",
       "        <span style=\"color: #808000; text-decoration-color: #808000\">id</span>=<span style=\"color: #008000; text-decoration-color: #008000\">'ef060254-d134-404e-bee8-5ade36cc36f6'</span>,\n",
       "        <span style=\"color: #808000; text-decoration-color: #808000\">version</span>=<span style=\"color: #008080; text-decoration-color: #008080; font-weight: bold\">1284</span>,\n",
       "        <span style=\"color: #808000; text-decoration-color: #808000\">score</span>=<span style=\"color: #008080; text-decoration-color: #008080; font-weight: bold\">0.56196004</span>,\n",
       "        <span style=\"color: #808000; text-decoration-color: #808000\">payload</span>=<span style=\"font-weight: bold\">{</span>\n",
       "            <span style=\"color: #008000; text-decoration-color: #008000\">'author_app_version'</span>: <span style=\"color: #008000; text-decoration-color: #008000\">'6.13.0 build 29940'</span>,\n",
       "            <span style=\"color: #008000; text-decoration-color: #008000\">'label'</span>: <span style=\"color: #008000; text-decoration-color: #008000\">'okay'</span>,\n",
       "            <span style=\"color: #008000; text-decoration-color: #008000\">'review_date'</span>: <span style=\"color: #008000; text-decoration-color: #008000\">'2018-10-18 14:45:57'</span>,\n",
       "            <span style=\"color: #008000; text-decoration-color: #008000\">'review_id'</span>: <span style=\"color: #008000; text-decoration-color: #008000\">'ef060254-d134-404e-bee8-5ade36cc36f6'</span>,\n",
       "            <span style=\"color: #008000; text-decoration-color: #008000\">'review_rating'</span>: <span style=\"color: #008080; text-decoration-color: #008080; font-weight: bold\">3</span>,\n",
       "            <span style=\"color: #008000; text-decoration-color: #008000\">'review_text'</span>: <span style=\"color: #008000; text-decoration-color: #008000\">'A few very obvious feature requirements missing'</span>,\n",
       "            <span style=\"color: #008000; text-decoration-color: #008000\">'timestamp'</span>: <span style=\"color: #008080; text-decoration-color: #008080; font-weight: bold\">1539870357.0</span>\n",
       "        <span style=\"font-weight: bold\">}</span>,\n",
       "        <span style=\"color: #808000; text-decoration-color: #808000\">vector</span>=<span style=\"color: #800080; text-decoration-color: #800080; font-style: italic\">None</span>,\n",
       "        <span style=\"color: #808000; text-decoration-color: #808000\">shard_key</span>=<span style=\"color: #800080; text-decoration-color: #800080; font-style: italic\">None</span>\n",
       "    <span style=\"font-weight: bold\">)</span>,\n",
       "    <span style=\"color: #800080; text-decoration-color: #800080; font-weight: bold\">ScoredPoint</span><span style=\"font-weight: bold\">(</span>\n",
       "        <span style=\"color: #808000; text-decoration-color: #808000\">id</span>=<span style=\"color: #008000; text-decoration-color: #008000\">'f6765295-cc76-4b28-a15d-2d6151a37b89'</span>,\n",
       "        <span style=\"color: #808000; text-decoration-color: #808000\">version</span>=<span style=\"color: #008080; text-decoration-color: #008080; font-weight: bold\">1180</span>,\n",
       "        <span style=\"color: #808000; text-decoration-color: #808000\">score</span>=<span style=\"color: #008080; text-decoration-color: #008080; font-weight: bold\">0.5608344</span>,\n",
       "        <span style=\"color: #808000; text-decoration-color: #808000\">payload</span>=<span style=\"font-weight: bold\">{</span>\n",
       "            <span style=\"color: #008000; text-decoration-color: #008000\">'author_app_version'</span>: <span style=\"color: #008000; text-decoration-color: #008000\">'4.15.1 build 14947'</span>,\n",
       "            <span style=\"color: #008000; text-decoration-color: #008000\">'label'</span>: <span style=\"color: #008000; text-decoration-color: #008000\">'excellent'</span>,\n",
       "            <span style=\"color: #008000; text-decoration-color: #008000\">'review_date'</span>: <span style=\"color: #008000; text-decoration-color: #008000\">'2018-05-16 14:12:46'</span>,\n",
       "            <span style=\"color: #008000; text-decoration-color: #008000\">'review_id'</span>: <span style=\"color: #008000; text-decoration-color: #008000\">'f6765295-cc76-4b28-a15d-2d6151a37b89'</span>,\n",
       "            <span style=\"color: #008000; text-decoration-color: #008000\">'review_rating'</span>: <span style=\"color: #008080; text-decoration-color: #008080; font-weight: bold\">5</span>,\n",
       "            <span style=\"color: #008000; text-decoration-color: #008000\">'review_text'</span>: <span style=\"color: #008000; text-decoration-color: #008000\">'Nice features'</span>,\n",
       "            <span style=\"color: #008000; text-decoration-color: #008000\">'timestamp'</span>: <span style=\"color: #008080; text-decoration-color: #008080; font-weight: bold\">1526476366.0</span>\n",
       "        <span style=\"font-weight: bold\">}</span>,\n",
       "        <span style=\"color: #808000; text-decoration-color: #808000\">vector</span>=<span style=\"color: #800080; text-decoration-color: #800080; font-style: italic\">None</span>,\n",
       "        <span style=\"color: #808000; text-decoration-color: #808000\">shard_key</span>=<span style=\"color: #800080; text-decoration-color: #800080; font-style: italic\">None</span>\n",
       "    <span style=\"font-weight: bold\">)</span>,\n",
       "    <span style=\"color: #800080; text-decoration-color: #800080; font-weight: bold\">ScoredPoint</span><span style=\"font-weight: bold\">(</span>\n",
       "        <span style=\"color: #808000; text-decoration-color: #808000\">id</span>=<span style=\"color: #008000; text-decoration-color: #008000\">'7e673418-8749-4099-aba5-22e7232da79e'</span>,\n",
       "        <span style=\"color: #808000; text-decoration-color: #808000\">version</span>=<span style=\"color: #008080; text-decoration-color: #008080; font-weight: bold\">1176</span>,\n",
       "        <span style=\"color: #808000; text-decoration-color: #808000\">score</span>=<span style=\"color: #008080; text-decoration-color: #008080; font-weight: bold\">0.5533643</span>,\n",
       "        <span style=\"color: #808000; text-decoration-color: #808000\">payload</span>=<span style=\"font-weight: bold\">{</span>\n",
       "            <span style=\"color: #008000; text-decoration-color: #008000\">'author_app_version'</span>: <span style=\"color: #008000; text-decoration-color: #008000\">'6.1.0 build 27357'</span>,\n",
       "            <span style=\"color: #008000; text-decoration-color: #008000\">'label'</span>: <span style=\"color: #008000; text-decoration-color: #008000\">'excellent'</span>,\n",
       "            <span style=\"color: #008000; text-decoration-color: #008000\">'review_date'</span>: <span style=\"color: #008000; text-decoration-color: #008000\">'2018-05-09 13:59:51'</span>,\n",
       "            <span style=\"color: #008000; text-decoration-color: #008000\">'review_id'</span>: <span style=\"color: #008000; text-decoration-color: #008000\">'7e673418-8749-4099-aba5-22e7232da79e'</span>,\n",
       "            <span style=\"color: #008000; text-decoration-color: #008000\">'review_rating'</span>: <span style=\"color: #008080; text-decoration-color: #008080; font-weight: bold\">5</span>,\n",
       "            <span style=\"color: #008000; text-decoration-color: #008000\">'review_text'</span>: <span style=\"color: #008000; text-decoration-color: #008000\">'Great features'</span>,\n",
       "            <span style=\"color: #008000; text-decoration-color: #008000\">'timestamp'</span>: <span style=\"color: #008080; text-decoration-color: #008080; font-weight: bold\">1525870791.0</span>\n",
       "        <span style=\"font-weight: bold\">}</span>,\n",
       "        <span style=\"color: #808000; text-decoration-color: #808000\">vector</span>=<span style=\"color: #800080; text-decoration-color: #800080; font-style: italic\">None</span>,\n",
       "        <span style=\"color: #808000; text-decoration-color: #808000\">shard_key</span>=<span style=\"color: #800080; text-decoration-color: #800080; font-style: italic\">None</span>\n",
       "    <span style=\"font-weight: bold\">)</span>,\n",
       "    <span style=\"color: #800080; text-decoration-color: #800080; font-weight: bold\">ScoredPoint</span><span style=\"font-weight: bold\">(</span>\n",
       "        <span style=\"color: #808000; text-decoration-color: #808000\">id</span>=<span style=\"color: #008000; text-decoration-color: #008000\">'ad3254af-ee18-4f35-97bf-3e90b99dec52'</span>,\n",
       "        <span style=\"color: #808000; text-decoration-color: #808000\">version</span>=<span style=\"color: #008080; text-decoration-color: #008080; font-weight: bold\">989</span>,\n",
       "        <span style=\"color: #808000; text-decoration-color: #808000\">score</span>=<span style=\"color: #008080; text-decoration-color: #008080; font-weight: bold\">0.54566437</span>,\n",
       "        <span style=\"color: #808000; text-decoration-color: #808000\">payload</span>=<span style=\"font-weight: bold\">{</span>\n",
       "            <span style=\"color: #008000; text-decoration-color: #008000\">'author_app_version'</span>: <span style=\"color: #008000; text-decoration-color: #008000\">''</span>,\n",
       "            <span style=\"color: #008000; text-decoration-color: #008000\">'label'</span>: <span style=\"color: #008000; text-decoration-color: #008000\">'excellent'</span>,\n",
       "            <span style=\"color: #008000; text-decoration-color: #008000\">'review_date'</span>: <span style=\"color: #008000; text-decoration-color: #008000\">'2017-07-19 20:26:40'</span>,\n",
       "            <span style=\"color: #008000; text-decoration-color: #008000\">'review_id'</span>: <span style=\"color: #008000; text-decoration-color: #008000\">'ad3254af-ee18-4f35-97bf-3e90b99dec52'</span>,\n",
       "            <span style=\"color: #008000; text-decoration-color: #008000\">'review_rating'</span>: <span style=\"color: #008080; text-decoration-color: #008080; font-weight: bold\">5</span>,\n",
       "            <span style=\"color: #008000; text-decoration-color: #008000\">'review_text'</span>: <span style=\"color: #008000; text-decoration-color: #008000\">'Waiting  to  find  out  what all  features  it holds'</span>,\n",
       "            <span style=\"color: #008000; text-decoration-color: #008000\">'timestamp'</span>: <span style=\"color: #008080; text-decoration-color: #008080; font-weight: bold\">1500492400.0</span>\n",
       "        <span style=\"font-weight: bold\">}</span>,\n",
       "        <span style=\"color: #808000; text-decoration-color: #808000\">vector</span>=<span style=\"color: #800080; text-decoration-color: #800080; font-style: italic\">None</span>,\n",
       "        <span style=\"color: #808000; text-decoration-color: #808000\">shard_key</span>=<span style=\"color: #800080; text-decoration-color: #800080; font-style: italic\">None</span>\n",
       "    <span style=\"font-weight: bold\">)</span>,\n",
       "    <span style=\"color: #800080; text-decoration-color: #800080; font-weight: bold\">ScoredPoint</span><span style=\"font-weight: bold\">(</span>\n",
       "        <span style=\"color: #808000; text-decoration-color: #808000\">id</span>=<span style=\"color: #008000; text-decoration-color: #008000\">'3a00a37c-d220-4838-97be-a2e7a8c3b379'</span>,\n",
       "        <span style=\"color: #808000; text-decoration-color: #808000\">version</span>=<span style=\"color: #008080; text-decoration-color: #008080; font-weight: bold\">403</span>,\n",
       "        <span style=\"color: #808000; text-decoration-color: #808000\">score</span>=<span style=\"color: #008080; text-decoration-color: #008080; font-weight: bold\">0.5400568</span>,\n",
       "        <span style=\"color: #808000; text-decoration-color: #808000\">payload</span>=<span style=\"font-weight: bold\">{</span>\n",
       "            <span style=\"color: #008000; text-decoration-color: #008000\">'author_app_version'</span>: <span style=\"color: #008000; text-decoration-color: #008000\">'3.7.0 build 1672'</span>,\n",
       "            <span style=\"color: #008000; text-decoration-color: #008000\">'label'</span>: <span style=\"color: #008000; text-decoration-color: #008000\">'okay'</span>,\n",
       "            <span style=\"color: #008000; text-decoration-color: #008000\">'review_date'</span>: <span style=\"color: #008000; text-decoration-color: #008000\">'2014-08-07 05:49:16'</span>,\n",
       "            <span style=\"color: #008000; text-decoration-color: #008000\">'review_id'</span>: <span style=\"color: #008000; text-decoration-color: #008000\">'3a00a37c-d220-4838-97be-a2e7a8c3b379'</span>,\n",
       "            <span style=\"color: #008000; text-decoration-color: #008000\">'review_rating'</span>: <span style=\"color: #008080; text-decoration-color: #008080; font-weight: bold\">3</span>,\n",
       "            <span style=\"color: #008000; text-decoration-color: #008000\">'review_text'</span>: <span style=\"color: #008000; text-decoration-color: #008000\">\"Lots of features that I'd expect to be there, just not.\"</span>,\n",
       "            <span style=\"color: #008000; text-decoration-color: #008000\">'timestamp'</span>: <span style=\"color: #008080; text-decoration-color: #008080; font-weight: bold\">1407386956.0</span>\n",
       "        <span style=\"font-weight: bold\">}</span>,\n",
       "        <span style=\"color: #808000; text-decoration-color: #808000\">vector</span>=<span style=\"color: #800080; text-decoration-color: #800080; font-style: italic\">None</span>,\n",
       "        <span style=\"color: #808000; text-decoration-color: #808000\">shard_key</span>=<span style=\"color: #800080; text-decoration-color: #800080; font-style: italic\">None</span>\n",
       "    <span style=\"font-weight: bold\">)</span>,\n",
       "    <span style=\"color: #800080; text-decoration-color: #800080; font-weight: bold\">ScoredPoint</span><span style=\"font-weight: bold\">(</span>\n",
       "        <span style=\"color: #808000; text-decoration-color: #808000\">id</span>=<span style=\"color: #008000; text-decoration-color: #008000\">'31f5bfe1-23ce-408d-a60c-6d5832a9f621'</span>,\n",
       "        <span style=\"color: #808000; text-decoration-color: #808000\">version</span>=<span style=\"color: #008080; text-decoration-color: #008080; font-weight: bold\">447</span>,\n",
       "        <span style=\"color: #808000; text-decoration-color: #808000\">score</span>=<span style=\"color: #008080; text-decoration-color: #008080; font-weight: bold\">0.5375916</span>,\n",
       "        <span style=\"color: #808000; text-decoration-color: #808000\">payload</span>=<span style=\"font-weight: bold\">{</span>\n",
       "            <span style=\"color: #008000; text-decoration-color: #008000\">'author_app_version'</span>: <span style=\"color: #008000; text-decoration-color: #008000\">''</span>,\n",
       "            <span style=\"color: #008000; text-decoration-color: #008000\">'label'</span>: <span style=\"color: #008000; text-decoration-color: #008000\">'excellent'</span>,\n",
       "            <span style=\"color: #008000; text-decoration-color: #008000\">'review_date'</span>: <span style=\"color: #008000; text-decoration-color: #008000\">'2014-11-09 13:27:13'</span>,\n",
       "            <span style=\"color: #008000; text-decoration-color: #008000\">'review_id'</span>: <span style=\"color: #008000; text-decoration-color: #008000\">'31f5bfe1-23ce-408d-a60c-6d5832a9f621'</span>,\n",
       "            <span style=\"color: #008000; text-decoration-color: #008000\">'review_rating'</span>: <span style=\"color: #008080; text-decoration-color: #008080; font-weight: bold\">5</span>,\n",
       "            <span style=\"color: #008000; text-decoration-color: #008000\">'review_text'</span>: <span style=\"color: #008000; text-decoration-color: #008000\">'Features are present, in a logical place, and non obtrusive. Good design.'</span>,\n",
       "            <span style=\"color: #008000; text-decoration-color: #008000\">'timestamp'</span>: <span style=\"color: #008080; text-decoration-color: #008080; font-weight: bold\">1415536033.0</span>\n",
       "        <span style=\"font-weight: bold\">}</span>,\n",
       "        <span style=\"color: #808000; text-decoration-color: #808000\">vector</span>=<span style=\"color: #800080; text-decoration-color: #800080; font-style: italic\">None</span>,\n",
       "        <span style=\"color: #808000; text-decoration-color: #808000\">shard_key</span>=<span style=\"color: #800080; text-decoration-color: #800080; font-style: italic\">None</span>\n",
       "    <span style=\"font-weight: bold\">)</span>,\n",
       "    <span style=\"color: #800080; text-decoration-color: #800080; font-weight: bold\">ScoredPoint</span><span style=\"font-weight: bold\">(</span>\n",
       "        <span style=\"color: #808000; text-decoration-color: #808000\">id</span>=<span style=\"color: #008000; text-decoration-color: #008000\">'8c44c145-34e2-4b0f-a364-21b9533d4f8a'</span>,\n",
       "        <span style=\"color: #808000; text-decoration-color: #808000\">version</span>=<span style=\"color: #008080; text-decoration-color: #008080; font-weight: bold\">798</span>,\n",
       "        <span style=\"color: #808000; text-decoration-color: #808000\">score</span>=<span style=\"color: #008080; text-decoration-color: #008080; font-weight: bold\">0.53663564</span>,\n",
       "        <span style=\"color: #808000; text-decoration-color: #808000\">payload</span>=<span style=\"font-weight: bold\">{</span>\n",
       "            <span style=\"color: #008000; text-decoration-color: #008000\">'author_app_version'</span>: <span style=\"color: #008000; text-decoration-color: #008000\">'4.12.1 build 14299'</span>,\n",
       "            <span style=\"color: #008000; text-decoration-color: #008000\">'label'</span>: <span style=\"color: #008000; text-decoration-color: #008000\">'excellent'</span>,\n",
       "            <span style=\"color: #008000; text-decoration-color: #008000\">'review_date'</span>: <span style=\"color: #008000; text-decoration-color: #008000\">'2016-12-04 18:37:10'</span>,\n",
       "            <span style=\"color: #008000; text-decoration-color: #008000\">'review_id'</span>: <span style=\"color: #008000; text-decoration-color: #008000\">'8c44c145-34e2-4b0f-a364-21b9533d4f8a'</span>,\n",
       "            <span style=\"color: #008000; text-decoration-color: #008000\">'review_rating'</span>: <span style=\"color: #008080; text-decoration-color: #008080; font-weight: bold\">5</span>,\n",
       "            <span style=\"color: #008000; text-decoration-color: #008000\">'review_text'</span>: <span style=\"color: #008000; text-decoration-color: #008000\">'Very good features'</span>,\n",
       "            <span style=\"color: #008000; text-decoration-color: #008000\">'timestamp'</span>: <span style=\"color: #008080; text-decoration-color: #008080; font-weight: bold\">1480873030.0</span>\n",
       "        <span style=\"font-weight: bold\">}</span>,\n",
       "        <span style=\"color: #808000; text-decoration-color: #808000\">vector</span>=<span style=\"color: #800080; text-decoration-color: #800080; font-style: italic\">None</span>,\n",
       "        <span style=\"color: #808000; text-decoration-color: #808000\">shard_key</span>=<span style=\"color: #800080; text-decoration-color: #800080; font-style: italic\">None</span>\n",
       "    <span style=\"font-weight: bold\">)</span>,\n",
       "    <span style=\"color: #800080; text-decoration-color: #800080; font-weight: bold\">ScoredPoint</span><span style=\"font-weight: bold\">(</span>\n",
       "        <span style=\"color: #808000; text-decoration-color: #808000\">id</span>=<span style=\"color: #008000; text-decoration-color: #008000\">'ba6ba3c5-85a3-448a-9a53-20ce9e5b2e66'</span>,\n",
       "        <span style=\"color: #808000; text-decoration-color: #808000\">version</span>=<span style=\"color: #008080; text-decoration-color: #008080; font-weight: bold\">1400</span>,\n",
       "        <span style=\"color: #808000; text-decoration-color: #808000\">score</span>=<span style=\"color: #008080; text-decoration-color: #008080; font-weight: bold\">0.53561664</span>,\n",
       "        <span style=\"color: #808000; text-decoration-color: #808000\">payload</span>=<span style=\"font-weight: bold\">{</span>\n",
       "            <span style=\"color: #008000; text-decoration-color: #008000\">'author_app_version'</span>: <span style=\"color: #008000; text-decoration-color: #008000\">''</span>,\n",
       "            <span style=\"color: #008000; text-decoration-color: #008000\">'label'</span>: <span style=\"color: #008000; text-decoration-color: #008000\">'okay'</span>,\n",
       "            <span style=\"color: #008000; text-decoration-color: #008000\">'review_date'</span>: <span style=\"color: #008000; text-decoration-color: #008000\">'2019-03-04 09:39:20'</span>,\n",
       "            <span style=\"color: #008000; text-decoration-color: #008000\">'review_id'</span>: <span style=\"color: #008000; text-decoration-color: #008000\">'ba6ba3c5-85a3-448a-9a53-20ce9e5b2e66'</span>,\n",
       "            <span style=\"color: #008000; text-decoration-color: #008000\">'review_rating'</span>: <span style=\"color: #008080; text-decoration-color: #008080; font-weight: bold\">3</span>,\n",
       "            <span style=\"color: #008000; text-decoration-color: #008000\">'review_text'</span>: <span style=\"color: #008000; text-decoration-color: #008000\">'Improve more features'</span>,\n",
       "            <span style=\"color: #008000; text-decoration-color: #008000\">'timestamp'</span>: <span style=\"color: #008080; text-decoration-color: #008080; font-weight: bold\">1551688760.0</span>\n",
       "        <span style=\"font-weight: bold\">}</span>,\n",
       "        <span style=\"color: #808000; text-decoration-color: #808000\">vector</span>=<span style=\"color: #800080; text-decoration-color: #800080; font-style: italic\">None</span>,\n",
       "        <span style=\"color: #808000; text-decoration-color: #808000\">shard_key</span>=<span style=\"color: #800080; text-decoration-color: #800080; font-style: italic\">None</span>\n",
       "    <span style=\"font-weight: bold\">)</span>,\n",
       "    <span style=\"color: #800080; text-decoration-color: #800080; font-weight: bold\">ScoredPoint</span><span style=\"font-weight: bold\">(</span>\n",
       "        <span style=\"color: #808000; text-decoration-color: #808000\">id</span>=<span style=\"color: #008000; text-decoration-color: #008000\">'c92b5aa6-9431-4ab9-9e01-e745ed96d2cd'</span>,\n",
       "        <span style=\"color: #808000; text-decoration-color: #808000\">version</span>=<span style=\"color: #008080; text-decoration-color: #008080; font-weight: bold\">1383</span>,\n",
       "        <span style=\"color: #808000; text-decoration-color: #808000\">score</span>=<span style=\"color: #008080; text-decoration-color: #008080; font-weight: bold\">0.534837</span>,\n",
       "        <span style=\"color: #808000; text-decoration-color: #808000\">payload</span>=<span style=\"font-weight: bold\">{</span>\n",
       "            <span style=\"color: #008000; text-decoration-color: #008000\">'author_app_version'</span>: <span style=\"color: #008000; text-decoration-color: #008000\">''</span>,\n",
       "            <span style=\"color: #008000; text-decoration-color: #008000\">'label'</span>: <span style=\"color: #008000; text-decoration-color: #008000\">'excellent'</span>,\n",
       "            <span style=\"color: #008000; text-decoration-color: #008000\">'review_date'</span>: <span style=\"color: #008000; text-decoration-color: #008000\">'2019-02-11 13:54:45'</span>,\n",
       "            <span style=\"color: #008000; text-decoration-color: #008000\">'review_id'</span>: <span style=\"color: #008000; text-decoration-color: #008000\">'c92b5aa6-9431-4ab9-9e01-e745ed96d2cd'</span>,\n",
       "            <span style=\"color: #008000; text-decoration-color: #008000\">'review_rating'</span>: <span style=\"color: #008080; text-decoration-color: #008080; font-weight: bold\">5</span>,\n",
       "            <span style=\"color: #008000; text-decoration-color: #008000\">'review_text'</span>: <span style=\"color: #008000; text-decoration-color: #008000\">'Awesome features'</span>,\n",
       "            <span style=\"color: #008000; text-decoration-color: #008000\">'timestamp'</span>: <span style=\"color: #008080; text-decoration-color: #008080; font-weight: bold\">1549889685.0</span>\n",
       "        <span style=\"font-weight: bold\">}</span>,\n",
       "        <span style=\"color: #808000; text-decoration-color: #808000\">vector</span>=<span style=\"color: #800080; text-decoration-color: #800080; font-style: italic\">None</span>,\n",
       "        <span style=\"color: #808000; text-decoration-color: #808000\">shard_key</span>=<span style=\"color: #800080; text-decoration-color: #800080; font-style: italic\">None</span>\n",
       "    <span style=\"font-weight: bold\">)</span>\n",
       "<span style=\"font-weight: bold\">]</span>\n",
       "</pre>\n"
      ],
      "text/plain": [
       "\u001b[1m[\u001b[0m\n",
       "    \u001b[1;35mScoredPoint\u001b[0m\u001b[1m(\u001b[0m\n",
       "        \u001b[33mid\u001b[0m=\u001b[32m'52127cca-0b23-4d8d-91a4-cd1dcab5dae0'\u001b[0m,\n",
       "        \u001b[33mversion\u001b[0m=\u001b[1;36m1341\u001b[0m,\n",
       "        \u001b[33mscore\u001b[0m=\u001b[1;36m0\u001b[0m\u001b[1;36m.6361048\u001b[0m,\n",
       "        \u001b[33mpayload\u001b[0m=\u001b[1m{\u001b[0m\n",
       "            \u001b[32m'author_app_version'\u001b[0m: \u001b[32m''\u001b[0m,\n",
       "            \u001b[32m'label'\u001b[0m: \u001b[32m'excellent'\u001b[0m,\n",
       "            \u001b[32m'review_date'\u001b[0m: \u001b[32m'2018-12-11 23:27:51'\u001b[0m,\n",
       "            \u001b[32m'review_id'\u001b[0m: \u001b[32m'52127cca-0b23-4d8d-91a4-cd1dcab5dae0'\u001b[0m,\n",
       "            \u001b[32m'review_rating'\u001b[0m: \u001b[1;36m5\u001b[0m,\n",
       "            \u001b[32m'review_text'\u001b[0m: \u001b[32m'More details and features'\u001b[0m,\n",
       "            \u001b[32m'timestamp'\u001b[0m: \u001b[1;36m1544567271.0\u001b[0m\n",
       "        \u001b[1m}\u001b[0m,\n",
       "        \u001b[33mvector\u001b[0m=\u001b[3;35mNone\u001b[0m,\n",
       "        \u001b[33mshard_key\u001b[0m=\u001b[3;35mNone\u001b[0m\n",
       "    \u001b[1m)\u001b[0m,\n",
       "    \u001b[1;35mScoredPoint\u001b[0m\u001b[1m(\u001b[0m\n",
       "        \u001b[33mid\u001b[0m=\u001b[32m'506bb405-854f-45f5-870f-0004e6dd6bad'\u001b[0m,\n",
       "        \u001b[33mversion\u001b[0m=\u001b[1;36m542\u001b[0m,\n",
       "        \u001b[33mscore\u001b[0m=\u001b[1;36m0\u001b[0m\u001b[1;36m.62138975\u001b[0m,\n",
       "        \u001b[33mpayload\u001b[0m=\u001b[1m{\u001b[0m\n",
       "            \u001b[32m'author_app_version'\u001b[0m: \u001b[32m'3.13.0 build 5107'\u001b[0m,\n",
       "            \u001b[32m'label'\u001b[0m: \u001b[32m'excellent'\u001b[0m,\n",
       "            \u001b[32m'review_date'\u001b[0m: \u001b[32m'2015-06-20 16:38:40'\u001b[0m,\n",
       "            \u001b[32m'review_id'\u001b[0m: \u001b[32m'506bb405-854f-45f5-870f-0004e6dd6bad'\u001b[0m,\n",
       "            \u001b[32m'review_rating'\u001b[0m: \u001b[1;36m5\u001b[0m,\n",
       "            \u001b[32m'review_text'\u001b[0m: \u001b[32m'All features'\u001b[0m,\n",
       "            \u001b[32m'timestamp'\u001b[0m: \u001b[1;36m1434814720.0\u001b[0m\n",
       "        \u001b[1m}\u001b[0m,\n",
       "        \u001b[33mvector\u001b[0m=\u001b[3;35mNone\u001b[0m,\n",
       "        \u001b[33mshard_key\u001b[0m=\u001b[3;35mNone\u001b[0m\n",
       "    \u001b[1m)\u001b[0m,\n",
       "    \u001b[1;35mScoredPoint\u001b[0m\u001b[1m(\u001b[0m\n",
       "        \u001b[33mid\u001b[0m=\u001b[32m'10c97cfa-5c0e-4cab-8f49-0180af97aa43'\u001b[0m,\n",
       "        \u001b[33mversion\u001b[0m=\u001b[1;36m1017\u001b[0m,\n",
       "        \u001b[33mscore\u001b[0m=\u001b[1;36m0\u001b[0m\u001b[1;36m.61171573\u001b[0m,\n",
       "        \u001b[33mpayload\u001b[0m=\u001b[1m{\u001b[0m\n",
       "            \u001b[32m'author_app_version'\u001b[0m: \u001b[32m'4.12.2 build 14444'\u001b[0m,\n",
       "            \u001b[32m'label'\u001b[0m: \u001b[32m'excellent'\u001b[0m,\n",
       "            \u001b[32m'review_date'\u001b[0m: \u001b[32m'2017-08-22 20:51:25'\u001b[0m,\n",
       "            \u001b[32m'review_id'\u001b[0m: \u001b[32m'10c97cfa-5c0e-4cab-8f49-0180af97aa43'\u001b[0m,\n",
       "            \u001b[32m'review_rating'\u001b[0m: \u001b[1;36m5\u001b[0m,\n",
       "            \u001b[32m'review_text'\u001b[0m: \u001b[32m'The features are amazing'\u001b[0m,\n",
       "            \u001b[32m'timestamp'\u001b[0m: \u001b[1;36m1503431485.0\u001b[0m\n",
       "        \u001b[1m}\u001b[0m,\n",
       "        \u001b[33mvector\u001b[0m=\u001b[3;35mNone\u001b[0m,\n",
       "        \u001b[33mshard_key\u001b[0m=\u001b[3;35mNone\u001b[0m\n",
       "    \u001b[1m)\u001b[0m,\n",
       "    \u001b[1;35mScoredPoint\u001b[0m\u001b[1m(\u001b[0m\n",
       "        \u001b[33mid\u001b[0m=\u001b[32m'ccebc563-1c86-42c9-82b8-352a790c8a28'\u001b[0m,\n",
       "        \u001b[33mversion\u001b[0m=\u001b[1;36m1518\u001b[0m,\n",
       "        \u001b[33mscore\u001b[0m=\u001b[1;36m0\u001b[0m\u001b[1;36m.5907492\u001b[0m,\n",
       "        \u001b[33mpayload\u001b[0m=\u001b[1m{\u001b[0m\n",
       "            \u001b[32m'author_app_version'\u001b[0m: \u001b[32m'7.16.1 build 19 34329'\u001b[0m,\n",
       "            \u001b[32m'label'\u001b[0m: \u001b[32m'excellent'\u001b[0m,\n",
       "            \u001b[32m'review_date'\u001b[0m: \u001b[32m'2019-07-09 16:32:22'\u001b[0m,\n",
       "            \u001b[32m'review_id'\u001b[0m: \u001b[32m'ccebc563-1c86-42c9-82b8-352a790c8a28'\u001b[0m,\n",
       "            \u001b[32m'review_rating'\u001b[0m: \u001b[1;36m5\u001b[0m,\n",
       "            \u001b[32m'review_text'\u001b[0m: \u001b[32m'so many features!!'\u001b[0m,\n",
       "            \u001b[32m'timestamp'\u001b[0m: \u001b[1;36m1562686342.0\u001b[0m\n",
       "        \u001b[1m}\u001b[0m,\n",
       "        \u001b[33mvector\u001b[0m=\u001b[3;35mNone\u001b[0m,\n",
       "        \u001b[33mshard_key\u001b[0m=\u001b[3;35mNone\u001b[0m\n",
       "    \u001b[1m)\u001b[0m,\n",
       "    \u001b[1;35mScoredPoint\u001b[0m\u001b[1m(\u001b[0m\n",
       "        \u001b[33mid\u001b[0m=\u001b[32m'c577ea60-aebe-42cb-8d87-1d57af46baee'\u001b[0m,\n",
       "        \u001b[33mversion\u001b[0m=\u001b[1;36m1078\u001b[0m,\n",
       "        \u001b[33mscore\u001b[0m=\u001b[1;36m0\u001b[0m\u001b[1;36m.58485156\u001b[0m,\n",
       "        \u001b[33mpayload\u001b[0m=\u001b[1m{\u001b[0m\n",
       "            \u001b[32m'author_app_version'\u001b[0m: \u001b[32m'5.10.1 build 25262'\u001b[0m,\n",
       "            \u001b[32m'label'\u001b[0m: \u001b[32m'excellent'\u001b[0m,\n",
       "            \u001b[32m'review_date'\u001b[0m: \u001b[32m'2017-12-03 08:00:42'\u001b[0m,\n",
       "            \u001b[32m'review_id'\u001b[0m: \u001b[32m'c577ea60-aebe-42cb-8d87-1d57af46baee'\u001b[0m,\n",
       "            \u001b[32m'review_rating'\u001b[0m: \u001b[1;36m5\u001b[0m,\n",
       "            \u001b[32m'review_text'\u001b[0m: \u001b[32m'I like the features'\u001b[0m,\n",
       "            \u001b[32m'timestamp'\u001b[0m: \u001b[1;36m1512284442.0\u001b[0m\n",
       "        \u001b[1m}\u001b[0m,\n",
       "        \u001b[33mvector\u001b[0m=\u001b[3;35mNone\u001b[0m,\n",
       "        \u001b[33mshard_key\u001b[0m=\u001b[3;35mNone\u001b[0m\n",
       "    \u001b[1m)\u001b[0m,\n",
       "    \u001b[1;35mScoredPoint\u001b[0m\u001b[1m(\u001b[0m\n",
       "        \u001b[33mid\u001b[0m=\u001b[32m'63737fc2-1b78-49fb-81f4-4d38662d6eb0'\u001b[0m,\n",
       "        \u001b[33mversion\u001b[0m=\u001b[1;36m1196\u001b[0m,\n",
       "        \u001b[33mscore\u001b[0m=\u001b[1;36m0\u001b[0m\u001b[1;36m.5743925\u001b[0m,\n",
       "        \u001b[33mpayload\u001b[0m=\u001b[1m{\u001b[0m\n",
       "            \u001b[32m'author_app_version'\u001b[0m: \u001b[32m''\u001b[0m,\n",
       "            \u001b[32m'label'\u001b[0m: \u001b[32m'excellent'\u001b[0m,\n",
       "            \u001b[32m'review_date'\u001b[0m: \u001b[32m'2018-06-09 07:31:19'\u001b[0m,\n",
       "            \u001b[32m'review_id'\u001b[0m: \u001b[32m'63737fc2-1b78-49fb-81f4-4d38662d6eb0'\u001b[0m,\n",
       "            \u001b[32m'review_rating'\u001b[0m: \u001b[1;36m5\u001b[0m,\n",
       "            \u001b[32m'review_text'\u001b[0m: \u001b[32m'Cool features'\u001b[0m,\n",
       "            \u001b[32m'timestamp'\u001b[0m: \u001b[1;36m1528525879.0\u001b[0m\n",
       "        \u001b[1m}\u001b[0m,\n",
       "        \u001b[33mvector\u001b[0m=\u001b[3;35mNone\u001b[0m,\n",
       "        \u001b[33mshard_key\u001b[0m=\u001b[3;35mNone\u001b[0m\n",
       "    \u001b[1m)\u001b[0m,\n",
       "    \u001b[1;35mScoredPoint\u001b[0m\u001b[1m(\u001b[0m\n",
       "        \u001b[33mid\u001b[0m=\u001b[32m'ef060254-d134-404e-bee8-5ade36cc36f6'\u001b[0m,\n",
       "        \u001b[33mversion\u001b[0m=\u001b[1;36m1284\u001b[0m,\n",
       "        \u001b[33mscore\u001b[0m=\u001b[1;36m0\u001b[0m\u001b[1;36m.56196004\u001b[0m,\n",
       "        \u001b[33mpayload\u001b[0m=\u001b[1m{\u001b[0m\n",
       "            \u001b[32m'author_app_version'\u001b[0m: \u001b[32m'6.13.0 build 29940'\u001b[0m,\n",
       "            \u001b[32m'label'\u001b[0m: \u001b[32m'okay'\u001b[0m,\n",
       "            \u001b[32m'review_date'\u001b[0m: \u001b[32m'2018-10-18 14:45:57'\u001b[0m,\n",
       "            \u001b[32m'review_id'\u001b[0m: \u001b[32m'ef060254-d134-404e-bee8-5ade36cc36f6'\u001b[0m,\n",
       "            \u001b[32m'review_rating'\u001b[0m: \u001b[1;36m3\u001b[0m,\n",
       "            \u001b[32m'review_text'\u001b[0m: \u001b[32m'A few very obvious feature requirements missing'\u001b[0m,\n",
       "            \u001b[32m'timestamp'\u001b[0m: \u001b[1;36m1539870357.0\u001b[0m\n",
       "        \u001b[1m}\u001b[0m,\n",
       "        \u001b[33mvector\u001b[0m=\u001b[3;35mNone\u001b[0m,\n",
       "        \u001b[33mshard_key\u001b[0m=\u001b[3;35mNone\u001b[0m\n",
       "    \u001b[1m)\u001b[0m,\n",
       "    \u001b[1;35mScoredPoint\u001b[0m\u001b[1m(\u001b[0m\n",
       "        \u001b[33mid\u001b[0m=\u001b[32m'f6765295-cc76-4b28-a15d-2d6151a37b89'\u001b[0m,\n",
       "        \u001b[33mversion\u001b[0m=\u001b[1;36m1180\u001b[0m,\n",
       "        \u001b[33mscore\u001b[0m=\u001b[1;36m0\u001b[0m\u001b[1;36m.5608344\u001b[0m,\n",
       "        \u001b[33mpayload\u001b[0m=\u001b[1m{\u001b[0m\n",
       "            \u001b[32m'author_app_version'\u001b[0m: \u001b[32m'4.15.1 build 14947'\u001b[0m,\n",
       "            \u001b[32m'label'\u001b[0m: \u001b[32m'excellent'\u001b[0m,\n",
       "            \u001b[32m'review_date'\u001b[0m: \u001b[32m'2018-05-16 14:12:46'\u001b[0m,\n",
       "            \u001b[32m'review_id'\u001b[0m: \u001b[32m'f6765295-cc76-4b28-a15d-2d6151a37b89'\u001b[0m,\n",
       "            \u001b[32m'review_rating'\u001b[0m: \u001b[1;36m5\u001b[0m,\n",
       "            \u001b[32m'review_text'\u001b[0m: \u001b[32m'Nice features'\u001b[0m,\n",
       "            \u001b[32m'timestamp'\u001b[0m: \u001b[1;36m1526476366.0\u001b[0m\n",
       "        \u001b[1m}\u001b[0m,\n",
       "        \u001b[33mvector\u001b[0m=\u001b[3;35mNone\u001b[0m,\n",
       "        \u001b[33mshard_key\u001b[0m=\u001b[3;35mNone\u001b[0m\n",
       "    \u001b[1m)\u001b[0m,\n",
       "    \u001b[1;35mScoredPoint\u001b[0m\u001b[1m(\u001b[0m\n",
       "        \u001b[33mid\u001b[0m=\u001b[32m'7e673418-8749-4099-aba5-22e7232da79e'\u001b[0m,\n",
       "        \u001b[33mversion\u001b[0m=\u001b[1;36m1176\u001b[0m,\n",
       "        \u001b[33mscore\u001b[0m=\u001b[1;36m0\u001b[0m\u001b[1;36m.5533643\u001b[0m,\n",
       "        \u001b[33mpayload\u001b[0m=\u001b[1m{\u001b[0m\n",
       "            \u001b[32m'author_app_version'\u001b[0m: \u001b[32m'6.1.0 build 27357'\u001b[0m,\n",
       "            \u001b[32m'label'\u001b[0m: \u001b[32m'excellent'\u001b[0m,\n",
       "            \u001b[32m'review_date'\u001b[0m: \u001b[32m'2018-05-09 13:59:51'\u001b[0m,\n",
       "            \u001b[32m'review_id'\u001b[0m: \u001b[32m'7e673418-8749-4099-aba5-22e7232da79e'\u001b[0m,\n",
       "            \u001b[32m'review_rating'\u001b[0m: \u001b[1;36m5\u001b[0m,\n",
       "            \u001b[32m'review_text'\u001b[0m: \u001b[32m'Great features'\u001b[0m,\n",
       "            \u001b[32m'timestamp'\u001b[0m: \u001b[1;36m1525870791.0\u001b[0m\n",
       "        \u001b[1m}\u001b[0m,\n",
       "        \u001b[33mvector\u001b[0m=\u001b[3;35mNone\u001b[0m,\n",
       "        \u001b[33mshard_key\u001b[0m=\u001b[3;35mNone\u001b[0m\n",
       "    \u001b[1m)\u001b[0m,\n",
       "    \u001b[1;35mScoredPoint\u001b[0m\u001b[1m(\u001b[0m\n",
       "        \u001b[33mid\u001b[0m=\u001b[32m'ad3254af-ee18-4f35-97bf-3e90b99dec52'\u001b[0m,\n",
       "        \u001b[33mversion\u001b[0m=\u001b[1;36m989\u001b[0m,\n",
       "        \u001b[33mscore\u001b[0m=\u001b[1;36m0\u001b[0m\u001b[1;36m.54566437\u001b[0m,\n",
       "        \u001b[33mpayload\u001b[0m=\u001b[1m{\u001b[0m\n",
       "            \u001b[32m'author_app_version'\u001b[0m: \u001b[32m''\u001b[0m,\n",
       "            \u001b[32m'label'\u001b[0m: \u001b[32m'excellent'\u001b[0m,\n",
       "            \u001b[32m'review_date'\u001b[0m: \u001b[32m'2017-07-19 20:26:40'\u001b[0m,\n",
       "            \u001b[32m'review_id'\u001b[0m: \u001b[32m'ad3254af-ee18-4f35-97bf-3e90b99dec52'\u001b[0m,\n",
       "            \u001b[32m'review_rating'\u001b[0m: \u001b[1;36m5\u001b[0m,\n",
       "            \u001b[32m'review_text'\u001b[0m: \u001b[32m'Waiting  to  find  out  what all  features  it holds'\u001b[0m,\n",
       "            \u001b[32m'timestamp'\u001b[0m: \u001b[1;36m1500492400.0\u001b[0m\n",
       "        \u001b[1m}\u001b[0m,\n",
       "        \u001b[33mvector\u001b[0m=\u001b[3;35mNone\u001b[0m,\n",
       "        \u001b[33mshard_key\u001b[0m=\u001b[3;35mNone\u001b[0m\n",
       "    \u001b[1m)\u001b[0m,\n",
       "    \u001b[1;35mScoredPoint\u001b[0m\u001b[1m(\u001b[0m\n",
       "        \u001b[33mid\u001b[0m=\u001b[32m'3a00a37c-d220-4838-97be-a2e7a8c3b379'\u001b[0m,\n",
       "        \u001b[33mversion\u001b[0m=\u001b[1;36m403\u001b[0m,\n",
       "        \u001b[33mscore\u001b[0m=\u001b[1;36m0\u001b[0m\u001b[1;36m.5400568\u001b[0m,\n",
       "        \u001b[33mpayload\u001b[0m=\u001b[1m{\u001b[0m\n",
       "            \u001b[32m'author_app_version'\u001b[0m: \u001b[32m'3.7.0 build 1672'\u001b[0m,\n",
       "            \u001b[32m'label'\u001b[0m: \u001b[32m'okay'\u001b[0m,\n",
       "            \u001b[32m'review_date'\u001b[0m: \u001b[32m'2014-08-07 05:49:16'\u001b[0m,\n",
       "            \u001b[32m'review_id'\u001b[0m: \u001b[32m'3a00a37c-d220-4838-97be-a2e7a8c3b379'\u001b[0m,\n",
       "            \u001b[32m'review_rating'\u001b[0m: \u001b[1;36m3\u001b[0m,\n",
       "            \u001b[32m'review_text'\u001b[0m: \u001b[32m\"Lots of features that I'd expect to be there, just not.\"\u001b[0m,\n",
       "            \u001b[32m'timestamp'\u001b[0m: \u001b[1;36m1407386956.0\u001b[0m\n",
       "        \u001b[1m}\u001b[0m,\n",
       "        \u001b[33mvector\u001b[0m=\u001b[3;35mNone\u001b[0m,\n",
       "        \u001b[33mshard_key\u001b[0m=\u001b[3;35mNone\u001b[0m\n",
       "    \u001b[1m)\u001b[0m,\n",
       "    \u001b[1;35mScoredPoint\u001b[0m\u001b[1m(\u001b[0m\n",
       "        \u001b[33mid\u001b[0m=\u001b[32m'31f5bfe1-23ce-408d-a60c-6d5832a9f621'\u001b[0m,\n",
       "        \u001b[33mversion\u001b[0m=\u001b[1;36m447\u001b[0m,\n",
       "        \u001b[33mscore\u001b[0m=\u001b[1;36m0\u001b[0m\u001b[1;36m.5375916\u001b[0m,\n",
       "        \u001b[33mpayload\u001b[0m=\u001b[1m{\u001b[0m\n",
       "            \u001b[32m'author_app_version'\u001b[0m: \u001b[32m''\u001b[0m,\n",
       "            \u001b[32m'label'\u001b[0m: \u001b[32m'excellent'\u001b[0m,\n",
       "            \u001b[32m'review_date'\u001b[0m: \u001b[32m'2014-11-09 13:27:13'\u001b[0m,\n",
       "            \u001b[32m'review_id'\u001b[0m: \u001b[32m'31f5bfe1-23ce-408d-a60c-6d5832a9f621'\u001b[0m,\n",
       "            \u001b[32m'review_rating'\u001b[0m: \u001b[1;36m5\u001b[0m,\n",
       "            \u001b[32m'review_text'\u001b[0m: \u001b[32m'Features are present, in a logical place, and non obtrusive. Good design.'\u001b[0m,\n",
       "            \u001b[32m'timestamp'\u001b[0m: \u001b[1;36m1415536033.0\u001b[0m\n",
       "        \u001b[1m}\u001b[0m,\n",
       "        \u001b[33mvector\u001b[0m=\u001b[3;35mNone\u001b[0m,\n",
       "        \u001b[33mshard_key\u001b[0m=\u001b[3;35mNone\u001b[0m\n",
       "    \u001b[1m)\u001b[0m,\n",
       "    \u001b[1;35mScoredPoint\u001b[0m\u001b[1m(\u001b[0m\n",
       "        \u001b[33mid\u001b[0m=\u001b[32m'8c44c145-34e2-4b0f-a364-21b9533d4f8a'\u001b[0m,\n",
       "        \u001b[33mversion\u001b[0m=\u001b[1;36m798\u001b[0m,\n",
       "        \u001b[33mscore\u001b[0m=\u001b[1;36m0\u001b[0m\u001b[1;36m.53663564\u001b[0m,\n",
       "        \u001b[33mpayload\u001b[0m=\u001b[1m{\u001b[0m\n",
       "            \u001b[32m'author_app_version'\u001b[0m: \u001b[32m'4.12.1 build 14299'\u001b[0m,\n",
       "            \u001b[32m'label'\u001b[0m: \u001b[32m'excellent'\u001b[0m,\n",
       "            \u001b[32m'review_date'\u001b[0m: \u001b[32m'2016-12-04 18:37:10'\u001b[0m,\n",
       "            \u001b[32m'review_id'\u001b[0m: \u001b[32m'8c44c145-34e2-4b0f-a364-21b9533d4f8a'\u001b[0m,\n",
       "            \u001b[32m'review_rating'\u001b[0m: \u001b[1;36m5\u001b[0m,\n",
       "            \u001b[32m'review_text'\u001b[0m: \u001b[32m'Very good features'\u001b[0m,\n",
       "            \u001b[32m'timestamp'\u001b[0m: \u001b[1;36m1480873030.0\u001b[0m\n",
       "        \u001b[1m}\u001b[0m,\n",
       "        \u001b[33mvector\u001b[0m=\u001b[3;35mNone\u001b[0m,\n",
       "        \u001b[33mshard_key\u001b[0m=\u001b[3;35mNone\u001b[0m\n",
       "    \u001b[1m)\u001b[0m,\n",
       "    \u001b[1;35mScoredPoint\u001b[0m\u001b[1m(\u001b[0m\n",
       "        \u001b[33mid\u001b[0m=\u001b[32m'ba6ba3c5-85a3-448a-9a53-20ce9e5b2e66'\u001b[0m,\n",
       "        \u001b[33mversion\u001b[0m=\u001b[1;36m1400\u001b[0m,\n",
       "        \u001b[33mscore\u001b[0m=\u001b[1;36m0\u001b[0m\u001b[1;36m.53561664\u001b[0m,\n",
       "        \u001b[33mpayload\u001b[0m=\u001b[1m{\u001b[0m\n",
       "            \u001b[32m'author_app_version'\u001b[0m: \u001b[32m''\u001b[0m,\n",
       "            \u001b[32m'label'\u001b[0m: \u001b[32m'okay'\u001b[0m,\n",
       "            \u001b[32m'review_date'\u001b[0m: \u001b[32m'2019-03-04 09:39:20'\u001b[0m,\n",
       "            \u001b[32m'review_id'\u001b[0m: \u001b[32m'ba6ba3c5-85a3-448a-9a53-20ce9e5b2e66'\u001b[0m,\n",
       "            \u001b[32m'review_rating'\u001b[0m: \u001b[1;36m3\u001b[0m,\n",
       "            \u001b[32m'review_text'\u001b[0m: \u001b[32m'Improve more features'\u001b[0m,\n",
       "            \u001b[32m'timestamp'\u001b[0m: \u001b[1;36m1551688760.0\u001b[0m\n",
       "        \u001b[1m}\u001b[0m,\n",
       "        \u001b[33mvector\u001b[0m=\u001b[3;35mNone\u001b[0m,\n",
       "        \u001b[33mshard_key\u001b[0m=\u001b[3;35mNone\u001b[0m\n",
       "    \u001b[1m)\u001b[0m,\n",
       "    \u001b[1;35mScoredPoint\u001b[0m\u001b[1m(\u001b[0m\n",
       "        \u001b[33mid\u001b[0m=\u001b[32m'c92b5aa6-9431-4ab9-9e01-e745ed96d2cd'\u001b[0m,\n",
       "        \u001b[33mversion\u001b[0m=\u001b[1;36m1383\u001b[0m,\n",
       "        \u001b[33mscore\u001b[0m=\u001b[1;36m0\u001b[0m\u001b[1;36m.534837\u001b[0m,\n",
       "        \u001b[33mpayload\u001b[0m=\u001b[1m{\u001b[0m\n",
       "            \u001b[32m'author_app_version'\u001b[0m: \u001b[32m''\u001b[0m,\n",
       "            \u001b[32m'label'\u001b[0m: \u001b[32m'excellent'\u001b[0m,\n",
       "            \u001b[32m'review_date'\u001b[0m: \u001b[32m'2019-02-11 13:54:45'\u001b[0m,\n",
       "            \u001b[32m'review_id'\u001b[0m: \u001b[32m'c92b5aa6-9431-4ab9-9e01-e745ed96d2cd'\u001b[0m,\n",
       "            \u001b[32m'review_rating'\u001b[0m: \u001b[1;36m5\u001b[0m,\n",
       "            \u001b[32m'review_text'\u001b[0m: \u001b[32m'Awesome features'\u001b[0m,\n",
       "            \u001b[32m'timestamp'\u001b[0m: \u001b[1;36m1549889685.0\u001b[0m\n",
       "        \u001b[1m}\u001b[0m,\n",
       "        \u001b[33mvector\u001b[0m=\u001b[3;35mNone\u001b[0m,\n",
       "        \u001b[33mshard_key\u001b[0m=\u001b[3;35mNone\u001b[0m\n",
       "    \u001b[1m)\u001b[0m\n",
       "\u001b[1m]\u001b[0m\n"
      ]
     },
     "metadata": {},
     "output_type": "display_data"
    }
   ],
   "source": [
    "N: int = 5_000\n",
    "query: str = \"what are the important features?\"\n",
    "query_vector: list[float] = encoder.encode(query).tolist()\n",
    "\n",
    "\n",
    "hits: list[Any] = client.search(\n",
    "    collection_name=COLLECTION_NAME,\n",
    "    query_vector=query_vector,\n",
    "    query_filter=None,\n",
    "    limit=N,\n",
    ")\n",
    "\n",
    "print(hits[:15])"
   ]
  },
  {
   "cell_type": "code",
   "execution_count": 29,
   "metadata": {},
   "outputs": [
    {
     "data": {
      "text/html": [
       "<pre style=\"white-space:pre;overflow-x:auto;line-height:normal;font-family:Menlo,'DejaVu Sans Mono',consolas,'Courier New',monospace\"><span style=\"font-weight: bold\">[</span>\n",
       "    <span style=\"color: #800080; text-decoration-color: #800080; font-weight: bold\">ScoredPoint</span><span style=\"font-weight: bold\">(</span>\n",
       "        <span style=\"color: #808000; text-decoration-color: #808000\">id</span>=<span style=\"color: #008000; text-decoration-color: #008000\">'c3cb9b1b-0d69-433f-a94a-1602e77297a2'</span>,\n",
       "        <span style=\"color: #808000; text-decoration-color: #808000\">version</span>=<span style=\"color: #008080; text-decoration-color: #008080; font-weight: bold\">1515</span>,\n",
       "        <span style=\"color: #808000; text-decoration-color: #808000\">score</span>=<span style=\"color: #008080; text-decoration-color: #008080; font-weight: bold\">0.75734</span>,\n",
       "        <span style=\"color: #808000; text-decoration-color: #808000\">payload</span>=<span style=\"font-weight: bold\">{</span>\n",
       "            <span style=\"color: #008000; text-decoration-color: #008000\">'author_app_version'</span>: <span style=\"color: #008000; text-decoration-color: #008000\">'6.15.0 build 31503'</span>,\n",
       "            <span style=\"color: #008000; text-decoration-color: #008000\">'label'</span>: <span style=\"color: #008000; text-decoration-color: #008000\">'excellent'</span>,\n",
       "            <span style=\"color: #008000; text-decoration-color: #008000\">'review_date'</span>: <span style=\"color: #008000; text-decoration-color: #008000\">'2019-07-06 08:16:44'</span>,\n",
       "            <span style=\"color: #008000; text-decoration-color: #008000\">'review_id'</span>: <span style=\"color: #008000; text-decoration-color: #008000\">'c3cb9b1b-0d69-433f-a94a-1602e77297a2'</span>,\n",
       "            <span style=\"color: #008000; text-decoration-color: #008000\">'review_rating'</span>: <span style=\"color: #008080; text-decoration-color: #008080; font-weight: bold\">5</span>,\n",
       "            <span style=\"color: #008000; text-decoration-color: #008000\">'review_text'</span>: <span style=\"color: #008000; text-decoration-color: #008000\">'I like everything about it!'</span>,\n",
       "            <span style=\"color: #008000; text-decoration-color: #008000\">'timestamp'</span>: <span style=\"color: #008080; text-decoration-color: #008080; font-weight: bold\">1562397404.0</span>\n",
       "        <span style=\"font-weight: bold\">}</span>,\n",
       "        <span style=\"color: #808000; text-decoration-color: #808000\">vector</span>=<span style=\"color: #800080; text-decoration-color: #800080; font-style: italic\">None</span>,\n",
       "        <span style=\"color: #808000; text-decoration-color: #808000\">shard_key</span>=<span style=\"color: #800080; text-decoration-color: #800080; font-style: italic\">None</span>\n",
       "    <span style=\"font-weight: bold\">)</span>,\n",
       "    <span style=\"color: #800080; text-decoration-color: #800080; font-weight: bold\">ScoredPoint</span><span style=\"font-weight: bold\">(</span>\n",
       "        <span style=\"color: #808000; text-decoration-color: #808000\">id</span>=<span style=\"color: #008000; text-decoration-color: #008000\">'41387562-b62c-4bda-a898-4726d22d3a73'</span>,\n",
       "        <span style=\"color: #808000; text-decoration-color: #808000\">version</span>=<span style=\"color: #008080; text-decoration-color: #008080; font-weight: bold\">931</span>,\n",
       "        <span style=\"color: #808000; text-decoration-color: #808000\">score</span>=<span style=\"color: #008080; text-decoration-color: #008080; font-weight: bold\">0.7522397</span>,\n",
       "        <span style=\"color: #808000; text-decoration-color: #808000\">payload</span>=<span style=\"font-weight: bold\">{</span>\n",
       "            <span style=\"color: #008000; text-decoration-color: #008000\">'author_app_version'</span>: <span style=\"color: #008000; text-decoration-color: #008000\">''</span>,\n",
       "            <span style=\"color: #008000; text-decoration-color: #008000\">'label'</span>: <span style=\"color: #008000; text-decoration-color: #008000\">'excellent'</span>,\n",
       "            <span style=\"color: #008000; text-decoration-color: #008000\">'review_date'</span>: <span style=\"color: #008000; text-decoration-color: #008000\">'2017-05-12 00:50:17'</span>,\n",
       "            <span style=\"color: #008000; text-decoration-color: #008000\">'review_id'</span>: <span style=\"color: #008000; text-decoration-color: #008000\">'41387562-b62c-4bda-a898-4726d22d3a73'</span>,\n",
       "            <span style=\"color: #008000; text-decoration-color: #008000\">'review_rating'</span>: <span style=\"color: #008080; text-decoration-color: #008080; font-weight: bold\">5</span>,\n",
       "            <span style=\"color: #008000; text-decoration-color: #008000\">'review_text'</span>: <span style=\"color: #008000; text-decoration-color: #008000\">'I like everything about it'</span>,\n",
       "            <span style=\"color: #008000; text-decoration-color: #008000\">'timestamp'</span>: <span style=\"color: #008080; text-decoration-color: #008080; font-weight: bold\">1494546617.0</span>\n",
       "        <span style=\"font-weight: bold\">}</span>,\n",
       "        <span style=\"color: #808000; text-decoration-color: #808000\">vector</span>=<span style=\"color: #800080; text-decoration-color: #800080; font-style: italic\">None</span>,\n",
       "        <span style=\"color: #808000; text-decoration-color: #808000\">shard_key</span>=<span style=\"color: #800080; text-decoration-color: #800080; font-style: italic\">None</span>\n",
       "    <span style=\"font-weight: bold\">)</span>,\n",
       "    <span style=\"color: #800080; text-decoration-color: #800080; font-weight: bold\">ScoredPoint</span><span style=\"font-weight: bold\">(</span>\n",
       "        <span style=\"color: #808000; text-decoration-color: #808000\">id</span>=<span style=\"color: #008000; text-decoration-color: #008000\">'d529c1de-af28-4542-aa0c-dc0589c2ab76'</span>,\n",
       "        <span style=\"color: #808000; text-decoration-color: #808000\">version</span>=<span style=\"color: #008080; text-decoration-color: #008080; font-weight: bold\">1312</span>,\n",
       "        <span style=\"color: #808000; text-decoration-color: #808000\">score</span>=<span style=\"color: #008080; text-decoration-color: #008080; font-weight: bold\">0.7522397</span>,\n",
       "        <span style=\"color: #808000; text-decoration-color: #808000\">payload</span>=<span style=\"font-weight: bold\">{</span>\n",
       "            <span style=\"color: #008000; text-decoration-color: #008000\">'author_app_version'</span>: <span style=\"color: #008000; text-decoration-color: #008000\">'6.11.0 build 29552'</span>,\n",
       "            <span style=\"color: #008000; text-decoration-color: #008000\">'label'</span>: <span style=\"color: #008000; text-decoration-color: #008000\">'excellent'</span>,\n",
       "            <span style=\"color: #008000; text-decoration-color: #008000\">'review_date'</span>: <span style=\"color: #008000; text-decoration-color: #008000\">'2018-11-13 22:12:39'</span>,\n",
       "            <span style=\"color: #008000; text-decoration-color: #008000\">'review_id'</span>: <span style=\"color: #008000; text-decoration-color: #008000\">'d529c1de-af28-4542-aa0c-dc0589c2ab76'</span>,\n",
       "            <span style=\"color: #008000; text-decoration-color: #008000\">'review_rating'</span>: <span style=\"color: #008080; text-decoration-color: #008080; font-weight: bold\">5</span>,\n",
       "            <span style=\"color: #008000; text-decoration-color: #008000\">'review_text'</span>: <span style=\"color: #008000; text-decoration-color: #008000\">'I like everything about it'</span>,\n",
       "            <span style=\"color: #008000; text-decoration-color: #008000\">'timestamp'</span>: <span style=\"color: #008080; text-decoration-color: #008080; font-weight: bold\">1542143559.0</span>\n",
       "        <span style=\"font-weight: bold\">}</span>,\n",
       "        <span style=\"color: #808000; text-decoration-color: #808000\">vector</span>=<span style=\"color: #800080; text-decoration-color: #800080; font-style: italic\">None</span>,\n",
       "        <span style=\"color: #808000; text-decoration-color: #808000\">shard_key</span>=<span style=\"color: #800080; text-decoration-color: #800080; font-style: italic\">None</span>\n",
       "    <span style=\"font-weight: bold\">)</span>,\n",
       "    <span style=\"color: #800080; text-decoration-color: #800080; font-weight: bold\">ScoredPoint</span><span style=\"font-weight: bold\">(</span>\n",
       "        <span style=\"color: #808000; text-decoration-color: #808000\">id</span>=<span style=\"color: #008000; text-decoration-color: #008000\">'79389e5d-150a-4d58-a438-6f08e7c22713'</span>,\n",
       "        <span style=\"color: #808000; text-decoration-color: #808000\">version</span>=<span style=\"color: #008080; text-decoration-color: #008080; font-weight: bold\">911</span>,\n",
       "        <span style=\"color: #808000; text-decoration-color: #808000\">score</span>=<span style=\"color: #008080; text-decoration-color: #008080; font-weight: bold\">0.7522397</span>,\n",
       "        <span style=\"color: #808000; text-decoration-color: #808000\">payload</span>=<span style=\"font-weight: bold\">{</span>\n",
       "            <span style=\"color: #008000; text-decoration-color: #008000\">'author_app_version'</span>: <span style=\"color: #008000; text-decoration-color: #008000\">''</span>,\n",
       "            <span style=\"color: #008000; text-decoration-color: #008000\">'label'</span>: <span style=\"color: #008000; text-decoration-color: #008000\">'excellent'</span>,\n",
       "            <span style=\"color: #008000; text-decoration-color: #008000\">'review_date'</span>: <span style=\"color: #008000; text-decoration-color: #008000\">'2017-04-18 12:23:41'</span>,\n",
       "            <span style=\"color: #008000; text-decoration-color: #008000\">'review_id'</span>: <span style=\"color: #008000; text-decoration-color: #008000\">'79389e5d-150a-4d58-a438-6f08e7c22713'</span>,\n",
       "            <span style=\"color: #008000; text-decoration-color: #008000\">'review_rating'</span>: <span style=\"color: #008080; text-decoration-color: #008080; font-weight: bold\">5</span>,\n",
       "            <span style=\"color: #008000; text-decoration-color: #008000\">'review_text'</span>: <span style=\"color: #008000; text-decoration-color: #008000\">'I like everything about it'</span>,\n",
       "            <span style=\"color: #008000; text-decoration-color: #008000\">'timestamp'</span>: <span style=\"color: #008080; text-decoration-color: #008080; font-weight: bold\">1492514621.0</span>\n",
       "        <span style=\"font-weight: bold\">}</span>,\n",
       "        <span style=\"color: #808000; text-decoration-color: #808000\">vector</span>=<span style=\"color: #800080; text-decoration-color: #800080; font-style: italic\">None</span>,\n",
       "        <span style=\"color: #808000; text-decoration-color: #808000\">shard_key</span>=<span style=\"color: #800080; text-decoration-color: #800080; font-style: italic\">None</span>\n",
       "    <span style=\"font-weight: bold\">)</span>,\n",
       "    <span style=\"color: #800080; text-decoration-color: #800080; font-weight: bold\">ScoredPoint</span><span style=\"font-weight: bold\">(</span>\n",
       "        <span style=\"color: #808000; text-decoration-color: #808000\">id</span>=<span style=\"color: #008000; text-decoration-color: #008000\">'3a7dc4a9-afb0-4ad1-89dd-07c2352140c6'</span>,\n",
       "        <span style=\"color: #808000; text-decoration-color: #808000\">version</span>=<span style=\"color: #008080; text-decoration-color: #008080; font-weight: bold\">672</span>,\n",
       "        <span style=\"color: #808000; text-decoration-color: #808000\">score</span>=<span style=\"color: #008080; text-decoration-color: #008080; font-weight: bold\">0.7522397</span>,\n",
       "        <span style=\"color: #808000; text-decoration-color: #808000\">payload</span>=<span style=\"font-weight: bold\">{</span>\n",
       "            <span style=\"color: #008000; text-decoration-color: #008000\">'author_app_version'</span>: <span style=\"color: #008000; text-decoration-color: #008000\">'4.4.1 build 7647'</span>,\n",
       "            <span style=\"color: #008000; text-decoration-color: #008000\">'label'</span>: <span style=\"color: #008000; text-decoration-color: #008000\">'excellent'</span>,\n",
       "            <span style=\"color: #008000; text-decoration-color: #008000\">'review_date'</span>: <span style=\"color: #008000; text-decoration-color: #008000\">'2016-05-05 11:54:41'</span>,\n",
       "            <span style=\"color: #008000; text-decoration-color: #008000\">'review_id'</span>: <span style=\"color: #008000; text-decoration-color: #008000\">'3a7dc4a9-afb0-4ad1-89dd-07c2352140c6'</span>,\n",
       "            <span style=\"color: #008000; text-decoration-color: #008000\">'review_rating'</span>: <span style=\"color: #008080; text-decoration-color: #008080; font-weight: bold\">5</span>,\n",
       "            <span style=\"color: #008000; text-decoration-color: #008000\">'review_text'</span>: <span style=\"color: #008000; text-decoration-color: #008000\">'I like everything about it'</span>,\n",
       "            <span style=\"color: #008000; text-decoration-color: #008000\">'timestamp'</span>: <span style=\"color: #008080; text-decoration-color: #008080; font-weight: bold\">1462445681.0</span>\n",
       "        <span style=\"font-weight: bold\">}</span>,\n",
       "        <span style=\"color: #808000; text-decoration-color: #808000\">vector</span>=<span style=\"color: #800080; text-decoration-color: #800080; font-style: italic\">None</span>,\n",
       "        <span style=\"color: #808000; text-decoration-color: #808000\">shard_key</span>=<span style=\"color: #800080; text-decoration-color: #800080; font-style: italic\">None</span>\n",
       "    <span style=\"font-weight: bold\">)</span>,\n",
       "    <span style=\"color: #800080; text-decoration-color: #800080; font-weight: bold\">ScoredPoint</span><span style=\"font-weight: bold\">(</span>\n",
       "        <span style=\"color: #808000; text-decoration-color: #808000\">id</span>=<span style=\"color: #008000; text-decoration-color: #008000\">'a373718f-33ca-4d9a-bc08-530c9cb23aae'</span>,\n",
       "        <span style=\"color: #808000; text-decoration-color: #808000\">version</span>=<span style=\"color: #008080; text-decoration-color: #008080; font-weight: bold\">111</span>,\n",
       "        <span style=\"color: #808000; text-decoration-color: #808000\">score</span>=<span style=\"color: #008080; text-decoration-color: #008080; font-weight: bold\">0.7522397</span>,\n",
       "        <span style=\"color: #808000; text-decoration-color: #808000\">payload</span>=<span style=\"font-weight: bold\">{</span>\n",
       "            <span style=\"color: #008000; text-decoration-color: #008000\">'author_app_version'</span>: <span style=\"color: #008000; text-decoration-color: #008000\">'1.8.1 build 573'</span>,\n",
       "            <span style=\"color: #008000; text-decoration-color: #008000\">'label'</span>: <span style=\"color: #008000; text-decoration-color: #008000\">'excellent'</span>,\n",
       "            <span style=\"color: #008000; text-decoration-color: #008000\">'review_date'</span>: <span style=\"color: #008000; text-decoration-color: #008000\">'2012-09-07 21:50:49'</span>,\n",
       "            <span style=\"color: #008000; text-decoration-color: #008000\">'review_id'</span>: <span style=\"color: #008000; text-decoration-color: #008000\">'a373718f-33ca-4d9a-bc08-530c9cb23aae'</span>,\n",
       "            <span style=\"color: #008000; text-decoration-color: #008000\">'review_rating'</span>: <span style=\"color: #008080; text-decoration-color: #008080; font-weight: bold\">5</span>,\n",
       "            <span style=\"color: #008000; text-decoration-color: #008000\">'review_text'</span>: <span style=\"color: #008000; text-decoration-color: #008000\">'I like everything about it'</span>,\n",
       "            <span style=\"color: #008000; text-decoration-color: #008000\">'timestamp'</span>: <span style=\"color: #008080; text-decoration-color: #008080; font-weight: bold\">1347051049.0</span>\n",
       "        <span style=\"font-weight: bold\">}</span>,\n",
       "        <span style=\"color: #808000; text-decoration-color: #808000\">vector</span>=<span style=\"color: #800080; text-decoration-color: #800080; font-style: italic\">None</span>,\n",
       "        <span style=\"color: #808000; text-decoration-color: #808000\">shard_key</span>=<span style=\"color: #800080; text-decoration-color: #800080; font-style: italic\">None</span>\n",
       "    <span style=\"font-weight: bold\">)</span>,\n",
       "    <span style=\"color: #800080; text-decoration-color: #800080; font-weight: bold\">ScoredPoint</span><span style=\"font-weight: bold\">(</span>\n",
       "        <span style=\"color: #808000; text-decoration-color: #808000\">id</span>=<span style=\"color: #008000; text-decoration-color: #008000\">'b167dc0f-1c1b-4a3e-9fae-3f57f34245ad'</span>,\n",
       "        <span style=\"color: #808000; text-decoration-color: #808000\">version</span>=<span style=\"color: #008080; text-decoration-color: #008080; font-weight: bold\">528</span>,\n",
       "        <span style=\"color: #808000; text-decoration-color: #808000\">score</span>=<span style=\"color: #008080; text-decoration-color: #008080; font-weight: bold\">0.7522397</span>,\n",
       "        <span style=\"color: #808000; text-decoration-color: #808000\">payload</span>=<span style=\"font-weight: bold\">{</span>\n",
       "            <span style=\"color: #008000; text-decoration-color: #008000\">'author_app_version'</span>: <span style=\"color: #008000; text-decoration-color: #008000\">''</span>,\n",
       "            <span style=\"color: #008000; text-decoration-color: #008000\">'label'</span>: <span style=\"color: #008000; text-decoration-color: #008000\">'very good'</span>,\n",
       "            <span style=\"color: #008000; text-decoration-color: #008000\">'review_date'</span>: <span style=\"color: #008000; text-decoration-color: #008000\">'2015-05-16 08:56:38'</span>,\n",
       "            <span style=\"color: #008000; text-decoration-color: #008000\">'review_id'</span>: <span style=\"color: #008000; text-decoration-color: #008000\">'b167dc0f-1c1b-4a3e-9fae-3f57f34245ad'</span>,\n",
       "            <span style=\"color: #008000; text-decoration-color: #008000\">'review_rating'</span>: <span style=\"color: #008080; text-decoration-color: #008080; font-weight: bold\">4</span>,\n",
       "            <span style=\"color: #008000; text-decoration-color: #008000\">'review_text'</span>: <span style=\"color: #008000; text-decoration-color: #008000\">'I like everything about it'</span>,\n",
       "            <span style=\"color: #008000; text-decoration-color: #008000\">'timestamp'</span>: <span style=\"color: #008080; text-decoration-color: #008080; font-weight: bold\">1431762998.0</span>\n",
       "        <span style=\"font-weight: bold\">}</span>,\n",
       "        <span style=\"color: #808000; text-decoration-color: #808000\">vector</span>=<span style=\"color: #800080; text-decoration-color: #800080; font-style: italic\">None</span>,\n",
       "        <span style=\"color: #808000; text-decoration-color: #808000\">shard_key</span>=<span style=\"color: #800080; text-decoration-color: #800080; font-style: italic\">None</span>\n",
       "    <span style=\"font-weight: bold\">)</span>,\n",
       "    <span style=\"color: #800080; text-decoration-color: #800080; font-weight: bold\">ScoredPoint</span><span style=\"font-weight: bold\">(</span>\n",
       "        <span style=\"color: #808000; text-decoration-color: #808000\">id</span>=<span style=\"color: #008000; text-decoration-color: #008000\">'2d09b707-9c58-4555-962f-234ab9a2ef9a'</span>,\n",
       "        <span style=\"color: #808000; text-decoration-color: #808000\">version</span>=<span style=\"color: #008080; text-decoration-color: #008080; font-weight: bold\">851</span>,\n",
       "        <span style=\"color: #808000; text-decoration-color: #808000\">score</span>=<span style=\"color: #008080; text-decoration-color: #008080; font-weight: bold\">0.74062943</span>,\n",
       "        <span style=\"color: #808000; text-decoration-color: #808000\">payload</span>=<span style=\"font-weight: bold\">{</span>\n",
       "            <span style=\"color: #008000; text-decoration-color: #008000\">'author_app_version'</span>: <span style=\"color: #008000; text-decoration-color: #008000\">''</span>,\n",
       "            <span style=\"color: #008000; text-decoration-color: #008000\">'label'</span>: <span style=\"color: #008000; text-decoration-color: #008000\">'excellent'</span>,\n",
       "            <span style=\"color: #008000; text-decoration-color: #008000\">'review_date'</span>: <span style=\"color: #008000; text-decoration-color: #008000\">'2017-02-13 01:12:33'</span>,\n",
       "            <span style=\"color: #008000; text-decoration-color: #008000\">'review_id'</span>: <span style=\"color: #008000; text-decoration-color: #008000\">'2d09b707-9c58-4555-962f-234ab9a2ef9a'</span>,\n",
       "            <span style=\"color: #008000; text-decoration-color: #008000\">'review_rating'</span>: <span style=\"color: #008080; text-decoration-color: #008080; font-weight: bold\">5</span>,\n",
       "            <span style=\"color: #008000; text-decoration-color: #008000\">'review_text'</span>: <span style=\"color: #008000; text-decoration-color: #008000\">'I love it it has everything great about it'</span>,\n",
       "            <span style=\"color: #008000; text-decoration-color: #008000\">'timestamp'</span>: <span style=\"color: #008080; text-decoration-color: #008080; font-weight: bold\">1486944753.0</span>\n",
       "        <span style=\"font-weight: bold\">}</span>,\n",
       "        <span style=\"color: #808000; text-decoration-color: #808000\">vector</span>=<span style=\"color: #800080; text-decoration-color: #800080; font-style: italic\">None</span>,\n",
       "        <span style=\"color: #808000; text-decoration-color: #808000\">shard_key</span>=<span style=\"color: #800080; text-decoration-color: #800080; font-style: italic\">None</span>\n",
       "    <span style=\"font-weight: bold\">)</span>,\n",
       "    <span style=\"color: #800080; text-decoration-color: #800080; font-weight: bold\">ScoredPoint</span><span style=\"font-weight: bold\">(</span>\n",
       "        <span style=\"color: #808000; text-decoration-color: #808000\">id</span>=<span style=\"color: #008000; text-decoration-color: #008000\">'a289b8a9-ea30-441a-8eb4-5a287efef2e4'</span>,\n",
       "        <span style=\"color: #808000; text-decoration-color: #808000\">version</span>=<span style=\"color: #008080; text-decoration-color: #008080; font-weight: bold\">829</span>,\n",
       "        <span style=\"color: #808000; text-decoration-color: #808000\">score</span>=<span style=\"color: #008080; text-decoration-color: #008080; font-weight: bold\">0.7286221</span>,\n",
       "        <span style=\"color: #808000; text-decoration-color: #808000\">payload</span>=<span style=\"font-weight: bold\">{</span>\n",
       "            <span style=\"color: #008000; text-decoration-color: #008000\">'author_app_version'</span>: <span style=\"color: #008000; text-decoration-color: #008000\">'4.12.2 build 14444'</span>,\n",
       "            <span style=\"color: #008000; text-decoration-color: #008000\">'label'</span>: <span style=\"color: #008000; text-decoration-color: #008000\">'excellent'</span>,\n",
       "            <span style=\"color: #008000; text-decoration-color: #008000\">'review_date'</span>: <span style=\"color: #008000; text-decoration-color: #008000\">'2017-01-15 01:39:10'</span>,\n",
       "            <span style=\"color: #008000; text-decoration-color: #008000\">'review_id'</span>: <span style=\"color: #008000; text-decoration-color: #008000\">'a289b8a9-ea30-441a-8eb4-5a287efef2e4'</span>,\n",
       "            <span style=\"color: #008000; text-decoration-color: #008000\">'review_rating'</span>: <span style=\"color: #008080; text-decoration-color: #008080; font-weight: bold\">5</span>,\n",
       "            <span style=\"color: #008000; text-decoration-color: #008000\">'review_text'</span>: <span style=\"color: #008000; text-decoration-color: #008000\">'I love it and it is great'</span>,\n",
       "            <span style=\"color: #008000; text-decoration-color: #008000\">'timestamp'</span>: <span style=\"color: #008080; text-decoration-color: #008080; font-weight: bold\">1484440750.0</span>\n",
       "        <span style=\"font-weight: bold\">}</span>,\n",
       "        <span style=\"color: #808000; text-decoration-color: #808000\">vector</span>=<span style=\"color: #800080; text-decoration-color: #800080; font-style: italic\">None</span>,\n",
       "        <span style=\"color: #808000; text-decoration-color: #808000\">shard_key</span>=<span style=\"color: #800080; text-decoration-color: #800080; font-style: italic\">None</span>\n",
       "    <span style=\"font-weight: bold\">)</span>,\n",
       "    <span style=\"color: #800080; text-decoration-color: #800080; font-weight: bold\">ScoredPoint</span><span style=\"font-weight: bold\">(</span>\n",
       "        <span style=\"color: #808000; text-decoration-color: #808000\">id</span>=<span style=\"color: #008000; text-decoration-color: #008000\">'9f00a59a-456b-4fc1-a55d-60fb23edb1b3'</span>,\n",
       "        <span style=\"color: #808000; text-decoration-color: #808000\">version</span>=<span style=\"color: #008080; text-decoration-color: #008080; font-weight: bold\">1178</span>,\n",
       "        <span style=\"color: #808000; text-decoration-color: #808000\">score</span>=<span style=\"color: #008080; text-decoration-color: #008080; font-weight: bold\">0.7276957</span>,\n",
       "        <span style=\"color: #808000; text-decoration-color: #808000\">payload</span>=<span style=\"font-weight: bold\">{</span>\n",
       "            <span style=\"color: #008000; text-decoration-color: #008000\">'author_app_version'</span>: <span style=\"color: #008000; text-decoration-color: #008000\">''</span>,\n",
       "            <span style=\"color: #008000; text-decoration-color: #008000\">'label'</span>: <span style=\"color: #008000; text-decoration-color: #008000\">'excellent'</span>,\n",
       "            <span style=\"color: #008000; text-decoration-color: #008000\">'review_date'</span>: <span style=\"color: #008000; text-decoration-color: #008000\">'2018-05-12 19:34:58'</span>,\n",
       "            <span style=\"color: #008000; text-decoration-color: #008000\">'review_id'</span>: <span style=\"color: #008000; text-decoration-color: #008000\">'9f00a59a-456b-4fc1-a55d-60fb23edb1b3'</span>,\n",
       "            <span style=\"color: #008000; text-decoration-color: #008000\">'review_rating'</span>: <span style=\"color: #008080; text-decoration-color: #008080; font-weight: bold\">5</span>,\n",
       "            <span style=\"color: #008000; text-decoration-color: #008000\">'review_text'</span>: <span style=\"color: #008000; text-decoration-color: #008000\">'I like it I like it. It is very good'</span>,\n",
       "            <span style=\"color: #008000; text-decoration-color: #008000\">'timestamp'</span>: <span style=\"color: #008080; text-decoration-color: #008080; font-weight: bold\">1526150098.0</span>\n",
       "        <span style=\"font-weight: bold\">}</span>,\n",
       "        <span style=\"color: #808000; text-decoration-color: #808000\">vector</span>=<span style=\"color: #800080; text-decoration-color: #800080; font-style: italic\">None</span>,\n",
       "        <span style=\"color: #808000; text-decoration-color: #808000\">shard_key</span>=<span style=\"color: #800080; text-decoration-color: #800080; font-style: italic\">None</span>\n",
       "    <span style=\"font-weight: bold\">)</span>,\n",
       "    <span style=\"color: #800080; text-decoration-color: #800080; font-weight: bold\">ScoredPoint</span><span style=\"font-weight: bold\">(</span>\n",
       "        <span style=\"color: #808000; text-decoration-color: #808000\">id</span>=<span style=\"color: #008000; text-decoration-color: #008000\">'c25ed424-288a-409e-9af1-54b6b99c5250'</span>,\n",
       "        <span style=\"color: #808000; text-decoration-color: #808000\">version</span>=<span style=\"color: #008080; text-decoration-color: #008080; font-weight: bold\">626</span>,\n",
       "        <span style=\"color: #808000; text-decoration-color: #808000\">score</span>=<span style=\"color: #008080; text-decoration-color: #008080; font-weight: bold\">0.7264036</span>,\n",
       "        <span style=\"color: #808000; text-decoration-color: #808000\">payload</span>=<span style=\"font-weight: bold\">{</span>\n",
       "            <span style=\"color: #008000; text-decoration-color: #008000\">'author_app_version'</span>: <span style=\"color: #008000; text-decoration-color: #008000\">'3.16.1 build 5342'</span>,\n",
       "            <span style=\"color: #008000; text-decoration-color: #008000\">'label'</span>: <span style=\"color: #008000; text-decoration-color: #008000\">'excellent'</span>,\n",
       "            <span style=\"color: #008000; text-decoration-color: #008000\">'review_date'</span>: <span style=\"color: #008000; text-decoration-color: #008000\">'2016-01-23 00:55:44'</span>,\n",
       "            <span style=\"color: #008000; text-decoration-color: #008000\">'review_id'</span>: <span style=\"color: #008000; text-decoration-color: #008000\">'c25ed424-288a-409e-9af1-54b6b99c5250'</span>,\n",
       "            <span style=\"color: #008000; text-decoration-color: #008000\">'review_rating'</span>: <span style=\"color: #008080; text-decoration-color: #008080; font-weight: bold\">5</span>,\n",
       "            <span style=\"color: #008000; text-decoration-color: #008000\">'review_text'</span>: <span style=\"color: #008000; text-decoration-color: #008000\">\"Love everything about it. It's great.\"</span>,\n",
       "            <span style=\"color: #008000; text-decoration-color: #008000\">'timestamp'</span>: <span style=\"color: #008080; text-decoration-color: #008080; font-weight: bold\">1453506944.0</span>\n",
       "        <span style=\"font-weight: bold\">}</span>,\n",
       "        <span style=\"color: #808000; text-decoration-color: #808000\">vector</span>=<span style=\"color: #800080; text-decoration-color: #800080; font-style: italic\">None</span>,\n",
       "        <span style=\"color: #808000; text-decoration-color: #808000\">shard_key</span>=<span style=\"color: #800080; text-decoration-color: #800080; font-style: italic\">None</span>\n",
       "    <span style=\"font-weight: bold\">)</span>,\n",
       "    <span style=\"color: #800080; text-decoration-color: #800080; font-weight: bold\">ScoredPoint</span><span style=\"font-weight: bold\">(</span>\n",
       "        <span style=\"color: #808000; text-decoration-color: #808000\">id</span>=<span style=\"color: #008000; text-decoration-color: #008000\">'2ffe3237-b13a-40cf-9e22-7ad0306ff917'</span>,\n",
       "        <span style=\"color: #808000; text-decoration-color: #808000\">version</span>=<span style=\"color: #008080; text-decoration-color: #008080; font-weight: bold\">270</span>,\n",
       "        <span style=\"color: #808000; text-decoration-color: #808000\">score</span>=<span style=\"color: #008080; text-decoration-color: #008080; font-weight: bold\">0.72212446</span>,\n",
       "        <span style=\"color: #808000; text-decoration-color: #808000\">payload</span>=<span style=\"font-weight: bold\">{</span>\n",
       "            <span style=\"color: #008000; text-decoration-color: #008000\">'author_app_version'</span>: <span style=\"color: #008000; text-decoration-color: #008000\">'3.1.1 build 1112'</span>,\n",
       "            <span style=\"color: #008000; text-decoration-color: #008000\">'label'</span>: <span style=\"color: #008000; text-decoration-color: #008000\">'excellent'</span>,\n",
       "            <span style=\"color: #008000; text-decoration-color: #008000\">'review_date'</span>: <span style=\"color: #008000; text-decoration-color: #008000\">'2013-12-27 17:11:49'</span>,\n",
       "            <span style=\"color: #008000; text-decoration-color: #008000\">'review_id'</span>: <span style=\"color: #008000; text-decoration-color: #008000\">'2ffe3237-b13a-40cf-9e22-7ad0306ff917'</span>,\n",
       "            <span style=\"color: #008000; text-decoration-color: #008000\">'review_rating'</span>: <span style=\"color: #008080; text-decoration-color: #008080; font-weight: bold\">5</span>,\n",
       "            <span style=\"color: #008000; text-decoration-color: #008000\">'review_text'</span>: <span style=\"color: #008000; text-decoration-color: #008000\">'I love it! It has everything I like!'</span>,\n",
       "            <span style=\"color: #008000; text-decoration-color: #008000\">'timestamp'</span>: <span style=\"color: #008080; text-decoration-color: #008080; font-weight: bold\">1388160709.0</span>\n",
       "        <span style=\"font-weight: bold\">}</span>,\n",
       "        <span style=\"color: #808000; text-decoration-color: #808000\">vector</span>=<span style=\"color: #800080; text-decoration-color: #800080; font-style: italic\">None</span>,\n",
       "        <span style=\"color: #808000; text-decoration-color: #808000\">shard_key</span>=<span style=\"color: #800080; text-decoration-color: #800080; font-style: italic\">None</span>\n",
       "    <span style=\"font-weight: bold\">)</span>,\n",
       "    <span style=\"color: #800080; text-decoration-color: #800080; font-weight: bold\">ScoredPoint</span><span style=\"font-weight: bold\">(</span>\n",
       "        <span style=\"color: #808000; text-decoration-color: #808000\">id</span>=<span style=\"color: #008000; text-decoration-color: #008000\">'851ed335-e9b4-4137-a1d7-8ab612b751a6'</span>,\n",
       "        <span style=\"color: #808000; text-decoration-color: #808000\">version</span>=<span style=\"color: #008080; text-decoration-color: #008080; font-weight: bold\">817</span>,\n",
       "        <span style=\"color: #808000; text-decoration-color: #808000\">score</span>=<span style=\"color: #008080; text-decoration-color: #008080; font-weight: bold\">0.7215201</span>,\n",
       "        <span style=\"color: #808000; text-decoration-color: #808000\">payload</span>=<span style=\"font-weight: bold\">{</span>\n",
       "            <span style=\"color: #008000; text-decoration-color: #008000\">'author_app_version'</span>: <span style=\"color: #008000; text-decoration-color: #008000\">'4.9.5 build 10060'</span>,\n",
       "            <span style=\"color: #008000; text-decoration-color: #008000\">'label'</span>: <span style=\"color: #008000; text-decoration-color: #008000\">'excellent'</span>,\n",
       "            <span style=\"color: #008000; text-decoration-color: #008000\">'review_date'</span>: <span style=\"color: #008000; text-decoration-color: #008000\">'2016-12-29 19:07:46'</span>,\n",
       "            <span style=\"color: #008000; text-decoration-color: #008000\">'review_id'</span>: <span style=\"color: #008000; text-decoration-color: #008000\">'851ed335-e9b4-4137-a1d7-8ab612b751a6'</span>,\n",
       "            <span style=\"color: #008000; text-decoration-color: #008000\">'review_rating'</span>: <span style=\"color: #008080; text-decoration-color: #008080; font-weight: bold\">5</span>,\n",
       "            <span style=\"color: #008000; text-decoration-color: #008000\">'review_text'</span>: <span style=\"color: #008000; text-decoration-color: #008000\">'I like it is great its just great'</span>,\n",
       "            <span style=\"color: #008000; text-decoration-color: #008000\">'timestamp'</span>: <span style=\"color: #008080; text-decoration-color: #008080; font-weight: bold\">1483034866.0</span>\n",
       "        <span style=\"font-weight: bold\">}</span>,\n",
       "        <span style=\"color: #808000; text-decoration-color: #808000\">vector</span>=<span style=\"color: #800080; text-decoration-color: #800080; font-style: italic\">None</span>,\n",
       "        <span style=\"color: #808000; text-decoration-color: #808000\">shard_key</span>=<span style=\"color: #800080; text-decoration-color: #800080; font-style: italic\">None</span>\n",
       "    <span style=\"font-weight: bold\">)</span>,\n",
       "    <span style=\"color: #800080; text-decoration-color: #800080; font-weight: bold\">ScoredPoint</span><span style=\"font-weight: bold\">(</span>\n",
       "        <span style=\"color: #808000; text-decoration-color: #808000\">id</span>=<span style=\"color: #008000; text-decoration-color: #008000\">'10a16e76-8b00-45e2-a4e0-2158cbf40120'</span>,\n",
       "        <span style=\"color: #808000; text-decoration-color: #808000\">version</span>=<span style=\"color: #008080; text-decoration-color: #008080; font-weight: bold\">179</span>,\n",
       "        <span style=\"color: #808000; text-decoration-color: #808000\">score</span>=<span style=\"color: #008080; text-decoration-color: #008080; font-weight: bold\">0.71951973</span>,\n",
       "        <span style=\"color: #808000; text-decoration-color: #808000\">payload</span>=<span style=\"font-weight: bold\">{</span>\n",
       "            <span style=\"color: #008000; text-decoration-color: #008000\">'author_app_version'</span>: <span style=\"color: #008000; text-decoration-color: #008000\">''</span>,\n",
       "            <span style=\"color: #008000; text-decoration-color: #008000\">'label'</span>: <span style=\"color: #008000; text-decoration-color: #008000\">'excellent'</span>,\n",
       "            <span style=\"color: #008000; text-decoration-color: #008000\">'review_date'</span>: <span style=\"color: #008000; text-decoration-color: #008000\">'2013-02-25 22:31:46'</span>,\n",
       "            <span style=\"color: #008000; text-decoration-color: #008000\">'review_id'</span>: <span style=\"color: #008000; text-decoration-color: #008000\">'10a16e76-8b00-45e2-a4e0-2158cbf40120'</span>,\n",
       "            <span style=\"color: #008000; text-decoration-color: #008000\">'review_rating'</span>: <span style=\"color: #008080; text-decoration-color: #008080; font-weight: bold\">5</span>,\n",
       "            <span style=\"color: #008000; text-decoration-color: #008000\">'review_text'</span>: <span style=\"color: #008000; text-decoration-color: #008000\">'I like it I like it a lot!'</span>,\n",
       "            <span style=\"color: #008000; text-decoration-color: #008000\">'timestamp'</span>: <span style=\"color: #008080; text-decoration-color: #008080; font-weight: bold\">1361827906.0</span>\n",
       "        <span style=\"font-weight: bold\">}</span>,\n",
       "        <span style=\"color: #808000; text-decoration-color: #808000\">vector</span>=<span style=\"color: #800080; text-decoration-color: #800080; font-style: italic\">None</span>,\n",
       "        <span style=\"color: #808000; text-decoration-color: #808000\">shard_key</span>=<span style=\"color: #800080; text-decoration-color: #800080; font-style: italic\">None</span>\n",
       "    <span style=\"font-weight: bold\">)</span>,\n",
       "    <span style=\"color: #800080; text-decoration-color: #800080; font-weight: bold\">ScoredPoint</span><span style=\"font-weight: bold\">(</span>\n",
       "        <span style=\"color: #808000; text-decoration-color: #808000\">id</span>=<span style=\"color: #008000; text-decoration-color: #008000\">'e67ccfe8-dc70-4f51-8bf9-53c1f2dac0d6'</span>,\n",
       "        <span style=\"color: #808000; text-decoration-color: #808000\">version</span>=<span style=\"color: #008080; text-decoration-color: #008080; font-weight: bold\">629</span>,\n",
       "        <span style=\"color: #808000; text-decoration-color: #808000\">score</span>=<span style=\"color: #008080; text-decoration-color: #008080; font-weight: bold\">0.717762</span>,\n",
       "        <span style=\"color: #808000; text-decoration-color: #808000\">payload</span>=<span style=\"font-weight: bold\">{</span>\n",
       "            <span style=\"color: #008000; text-decoration-color: #008000\">'author_app_version'</span>: <span style=\"color: #008000; text-decoration-color: #008000\">''</span>,\n",
       "            <span style=\"color: #008000; text-decoration-color: #008000\">'label'</span>: <span style=\"color: #008000; text-decoration-color: #008000\">'excellent'</span>,\n",
       "            <span style=\"color: #008000; text-decoration-color: #008000\">'review_date'</span>: <span style=\"color: #008000; text-decoration-color: #008000\">'2016-02-01 02:31:22'</span>,\n",
       "            <span style=\"color: #008000; text-decoration-color: #008000\">'review_id'</span>: <span style=\"color: #008000; text-decoration-color: #008000\">'e67ccfe8-dc70-4f51-8bf9-53c1f2dac0d6'</span>,\n",
       "            <span style=\"color: #008000; text-decoration-color: #008000\">'review_rating'</span>: <span style=\"color: #008080; text-decoration-color: #008080; font-weight: bold\">5</span>,\n",
       "            <span style=\"color: #008000; text-decoration-color: #008000\">'review_text'</span>: <span style=\"color: #008000; text-decoration-color: #008000\">'Hands down. I love everything about it.'</span>,\n",
       "            <span style=\"color: #008000; text-decoration-color: #008000\">'timestamp'</span>: <span style=\"color: #008080; text-decoration-color: #008080; font-weight: bold\">1454290282.0</span>\n",
       "        <span style=\"font-weight: bold\">}</span>,\n",
       "        <span style=\"color: #808000; text-decoration-color: #808000\">vector</span>=<span style=\"color: #800080; text-decoration-color: #800080; font-style: italic\">None</span>,\n",
       "        <span style=\"color: #808000; text-decoration-color: #808000\">shard_key</span>=<span style=\"color: #800080; text-decoration-color: #800080; font-style: italic\">None</span>\n",
       "    <span style=\"font-weight: bold\">)</span>\n",
       "<span style=\"font-weight: bold\">]</span>\n",
       "</pre>\n"
      ],
      "text/plain": [
       "\u001b[1m[\u001b[0m\n",
       "    \u001b[1;35mScoredPoint\u001b[0m\u001b[1m(\u001b[0m\n",
       "        \u001b[33mid\u001b[0m=\u001b[32m'c3cb9b1b-0d69-433f-a94a-1602e77297a2'\u001b[0m,\n",
       "        \u001b[33mversion\u001b[0m=\u001b[1;36m1515\u001b[0m,\n",
       "        \u001b[33mscore\u001b[0m=\u001b[1;36m0\u001b[0m\u001b[1;36m.75734\u001b[0m,\n",
       "        \u001b[33mpayload\u001b[0m=\u001b[1m{\u001b[0m\n",
       "            \u001b[32m'author_app_version'\u001b[0m: \u001b[32m'6.15.0 build 31503'\u001b[0m,\n",
       "            \u001b[32m'label'\u001b[0m: \u001b[32m'excellent'\u001b[0m,\n",
       "            \u001b[32m'review_date'\u001b[0m: \u001b[32m'2019-07-06 08:16:44'\u001b[0m,\n",
       "            \u001b[32m'review_id'\u001b[0m: \u001b[32m'c3cb9b1b-0d69-433f-a94a-1602e77297a2'\u001b[0m,\n",
       "            \u001b[32m'review_rating'\u001b[0m: \u001b[1;36m5\u001b[0m,\n",
       "            \u001b[32m'review_text'\u001b[0m: \u001b[32m'I like everything about it!'\u001b[0m,\n",
       "            \u001b[32m'timestamp'\u001b[0m: \u001b[1;36m1562397404.0\u001b[0m\n",
       "        \u001b[1m}\u001b[0m,\n",
       "        \u001b[33mvector\u001b[0m=\u001b[3;35mNone\u001b[0m,\n",
       "        \u001b[33mshard_key\u001b[0m=\u001b[3;35mNone\u001b[0m\n",
       "    \u001b[1m)\u001b[0m,\n",
       "    \u001b[1;35mScoredPoint\u001b[0m\u001b[1m(\u001b[0m\n",
       "        \u001b[33mid\u001b[0m=\u001b[32m'41387562-b62c-4bda-a898-4726d22d3a73'\u001b[0m,\n",
       "        \u001b[33mversion\u001b[0m=\u001b[1;36m931\u001b[0m,\n",
       "        \u001b[33mscore\u001b[0m=\u001b[1;36m0\u001b[0m\u001b[1;36m.7522397\u001b[0m,\n",
       "        \u001b[33mpayload\u001b[0m=\u001b[1m{\u001b[0m\n",
       "            \u001b[32m'author_app_version'\u001b[0m: \u001b[32m''\u001b[0m,\n",
       "            \u001b[32m'label'\u001b[0m: \u001b[32m'excellent'\u001b[0m,\n",
       "            \u001b[32m'review_date'\u001b[0m: \u001b[32m'2017-05-12 00:50:17'\u001b[0m,\n",
       "            \u001b[32m'review_id'\u001b[0m: \u001b[32m'41387562-b62c-4bda-a898-4726d22d3a73'\u001b[0m,\n",
       "            \u001b[32m'review_rating'\u001b[0m: \u001b[1;36m5\u001b[0m,\n",
       "            \u001b[32m'review_text'\u001b[0m: \u001b[32m'I like everything about it'\u001b[0m,\n",
       "            \u001b[32m'timestamp'\u001b[0m: \u001b[1;36m1494546617.0\u001b[0m\n",
       "        \u001b[1m}\u001b[0m,\n",
       "        \u001b[33mvector\u001b[0m=\u001b[3;35mNone\u001b[0m,\n",
       "        \u001b[33mshard_key\u001b[0m=\u001b[3;35mNone\u001b[0m\n",
       "    \u001b[1m)\u001b[0m,\n",
       "    \u001b[1;35mScoredPoint\u001b[0m\u001b[1m(\u001b[0m\n",
       "        \u001b[33mid\u001b[0m=\u001b[32m'd529c1de-af28-4542-aa0c-dc0589c2ab76'\u001b[0m,\n",
       "        \u001b[33mversion\u001b[0m=\u001b[1;36m1312\u001b[0m,\n",
       "        \u001b[33mscore\u001b[0m=\u001b[1;36m0\u001b[0m\u001b[1;36m.7522397\u001b[0m,\n",
       "        \u001b[33mpayload\u001b[0m=\u001b[1m{\u001b[0m\n",
       "            \u001b[32m'author_app_version'\u001b[0m: \u001b[32m'6.11.0 build 29552'\u001b[0m,\n",
       "            \u001b[32m'label'\u001b[0m: \u001b[32m'excellent'\u001b[0m,\n",
       "            \u001b[32m'review_date'\u001b[0m: \u001b[32m'2018-11-13 22:12:39'\u001b[0m,\n",
       "            \u001b[32m'review_id'\u001b[0m: \u001b[32m'd529c1de-af28-4542-aa0c-dc0589c2ab76'\u001b[0m,\n",
       "            \u001b[32m'review_rating'\u001b[0m: \u001b[1;36m5\u001b[0m,\n",
       "            \u001b[32m'review_text'\u001b[0m: \u001b[32m'I like everything about it'\u001b[0m,\n",
       "            \u001b[32m'timestamp'\u001b[0m: \u001b[1;36m1542143559.0\u001b[0m\n",
       "        \u001b[1m}\u001b[0m,\n",
       "        \u001b[33mvector\u001b[0m=\u001b[3;35mNone\u001b[0m,\n",
       "        \u001b[33mshard_key\u001b[0m=\u001b[3;35mNone\u001b[0m\n",
       "    \u001b[1m)\u001b[0m,\n",
       "    \u001b[1;35mScoredPoint\u001b[0m\u001b[1m(\u001b[0m\n",
       "        \u001b[33mid\u001b[0m=\u001b[32m'79389e5d-150a-4d58-a438-6f08e7c22713'\u001b[0m,\n",
       "        \u001b[33mversion\u001b[0m=\u001b[1;36m911\u001b[0m,\n",
       "        \u001b[33mscore\u001b[0m=\u001b[1;36m0\u001b[0m\u001b[1;36m.7522397\u001b[0m,\n",
       "        \u001b[33mpayload\u001b[0m=\u001b[1m{\u001b[0m\n",
       "            \u001b[32m'author_app_version'\u001b[0m: \u001b[32m''\u001b[0m,\n",
       "            \u001b[32m'label'\u001b[0m: \u001b[32m'excellent'\u001b[0m,\n",
       "            \u001b[32m'review_date'\u001b[0m: \u001b[32m'2017-04-18 12:23:41'\u001b[0m,\n",
       "            \u001b[32m'review_id'\u001b[0m: \u001b[32m'79389e5d-150a-4d58-a438-6f08e7c22713'\u001b[0m,\n",
       "            \u001b[32m'review_rating'\u001b[0m: \u001b[1;36m5\u001b[0m,\n",
       "            \u001b[32m'review_text'\u001b[0m: \u001b[32m'I like everything about it'\u001b[0m,\n",
       "            \u001b[32m'timestamp'\u001b[0m: \u001b[1;36m1492514621.0\u001b[0m\n",
       "        \u001b[1m}\u001b[0m,\n",
       "        \u001b[33mvector\u001b[0m=\u001b[3;35mNone\u001b[0m,\n",
       "        \u001b[33mshard_key\u001b[0m=\u001b[3;35mNone\u001b[0m\n",
       "    \u001b[1m)\u001b[0m,\n",
       "    \u001b[1;35mScoredPoint\u001b[0m\u001b[1m(\u001b[0m\n",
       "        \u001b[33mid\u001b[0m=\u001b[32m'3a7dc4a9-afb0-4ad1-89dd-07c2352140c6'\u001b[0m,\n",
       "        \u001b[33mversion\u001b[0m=\u001b[1;36m672\u001b[0m,\n",
       "        \u001b[33mscore\u001b[0m=\u001b[1;36m0\u001b[0m\u001b[1;36m.7522397\u001b[0m,\n",
       "        \u001b[33mpayload\u001b[0m=\u001b[1m{\u001b[0m\n",
       "            \u001b[32m'author_app_version'\u001b[0m: \u001b[32m'4.4.1 build 7647'\u001b[0m,\n",
       "            \u001b[32m'label'\u001b[0m: \u001b[32m'excellent'\u001b[0m,\n",
       "            \u001b[32m'review_date'\u001b[0m: \u001b[32m'2016-05-05 11:54:41'\u001b[0m,\n",
       "            \u001b[32m'review_id'\u001b[0m: \u001b[32m'3a7dc4a9-afb0-4ad1-89dd-07c2352140c6'\u001b[0m,\n",
       "            \u001b[32m'review_rating'\u001b[0m: \u001b[1;36m5\u001b[0m,\n",
       "            \u001b[32m'review_text'\u001b[0m: \u001b[32m'I like everything about it'\u001b[0m,\n",
       "            \u001b[32m'timestamp'\u001b[0m: \u001b[1;36m1462445681.0\u001b[0m\n",
       "        \u001b[1m}\u001b[0m,\n",
       "        \u001b[33mvector\u001b[0m=\u001b[3;35mNone\u001b[0m,\n",
       "        \u001b[33mshard_key\u001b[0m=\u001b[3;35mNone\u001b[0m\n",
       "    \u001b[1m)\u001b[0m,\n",
       "    \u001b[1;35mScoredPoint\u001b[0m\u001b[1m(\u001b[0m\n",
       "        \u001b[33mid\u001b[0m=\u001b[32m'a373718f-33ca-4d9a-bc08-530c9cb23aae'\u001b[0m,\n",
       "        \u001b[33mversion\u001b[0m=\u001b[1;36m111\u001b[0m,\n",
       "        \u001b[33mscore\u001b[0m=\u001b[1;36m0\u001b[0m\u001b[1;36m.7522397\u001b[0m,\n",
       "        \u001b[33mpayload\u001b[0m=\u001b[1m{\u001b[0m\n",
       "            \u001b[32m'author_app_version'\u001b[0m: \u001b[32m'1.8.1 build 573'\u001b[0m,\n",
       "            \u001b[32m'label'\u001b[0m: \u001b[32m'excellent'\u001b[0m,\n",
       "            \u001b[32m'review_date'\u001b[0m: \u001b[32m'2012-09-07 21:50:49'\u001b[0m,\n",
       "            \u001b[32m'review_id'\u001b[0m: \u001b[32m'a373718f-33ca-4d9a-bc08-530c9cb23aae'\u001b[0m,\n",
       "            \u001b[32m'review_rating'\u001b[0m: \u001b[1;36m5\u001b[0m,\n",
       "            \u001b[32m'review_text'\u001b[0m: \u001b[32m'I like everything about it'\u001b[0m,\n",
       "            \u001b[32m'timestamp'\u001b[0m: \u001b[1;36m1347051049.0\u001b[0m\n",
       "        \u001b[1m}\u001b[0m,\n",
       "        \u001b[33mvector\u001b[0m=\u001b[3;35mNone\u001b[0m,\n",
       "        \u001b[33mshard_key\u001b[0m=\u001b[3;35mNone\u001b[0m\n",
       "    \u001b[1m)\u001b[0m,\n",
       "    \u001b[1;35mScoredPoint\u001b[0m\u001b[1m(\u001b[0m\n",
       "        \u001b[33mid\u001b[0m=\u001b[32m'b167dc0f-1c1b-4a3e-9fae-3f57f34245ad'\u001b[0m,\n",
       "        \u001b[33mversion\u001b[0m=\u001b[1;36m528\u001b[0m,\n",
       "        \u001b[33mscore\u001b[0m=\u001b[1;36m0\u001b[0m\u001b[1;36m.7522397\u001b[0m,\n",
       "        \u001b[33mpayload\u001b[0m=\u001b[1m{\u001b[0m\n",
       "            \u001b[32m'author_app_version'\u001b[0m: \u001b[32m''\u001b[0m,\n",
       "            \u001b[32m'label'\u001b[0m: \u001b[32m'very good'\u001b[0m,\n",
       "            \u001b[32m'review_date'\u001b[0m: \u001b[32m'2015-05-16 08:56:38'\u001b[0m,\n",
       "            \u001b[32m'review_id'\u001b[0m: \u001b[32m'b167dc0f-1c1b-4a3e-9fae-3f57f34245ad'\u001b[0m,\n",
       "            \u001b[32m'review_rating'\u001b[0m: \u001b[1;36m4\u001b[0m,\n",
       "            \u001b[32m'review_text'\u001b[0m: \u001b[32m'I like everything about it'\u001b[0m,\n",
       "            \u001b[32m'timestamp'\u001b[0m: \u001b[1;36m1431762998.0\u001b[0m\n",
       "        \u001b[1m}\u001b[0m,\n",
       "        \u001b[33mvector\u001b[0m=\u001b[3;35mNone\u001b[0m,\n",
       "        \u001b[33mshard_key\u001b[0m=\u001b[3;35mNone\u001b[0m\n",
       "    \u001b[1m)\u001b[0m,\n",
       "    \u001b[1;35mScoredPoint\u001b[0m\u001b[1m(\u001b[0m\n",
       "        \u001b[33mid\u001b[0m=\u001b[32m'2d09b707-9c58-4555-962f-234ab9a2ef9a'\u001b[0m,\n",
       "        \u001b[33mversion\u001b[0m=\u001b[1;36m851\u001b[0m,\n",
       "        \u001b[33mscore\u001b[0m=\u001b[1;36m0\u001b[0m\u001b[1;36m.74062943\u001b[0m,\n",
       "        \u001b[33mpayload\u001b[0m=\u001b[1m{\u001b[0m\n",
       "            \u001b[32m'author_app_version'\u001b[0m: \u001b[32m''\u001b[0m,\n",
       "            \u001b[32m'label'\u001b[0m: \u001b[32m'excellent'\u001b[0m,\n",
       "            \u001b[32m'review_date'\u001b[0m: \u001b[32m'2017-02-13 01:12:33'\u001b[0m,\n",
       "            \u001b[32m'review_id'\u001b[0m: \u001b[32m'2d09b707-9c58-4555-962f-234ab9a2ef9a'\u001b[0m,\n",
       "            \u001b[32m'review_rating'\u001b[0m: \u001b[1;36m5\u001b[0m,\n",
       "            \u001b[32m'review_text'\u001b[0m: \u001b[32m'I love it it has everything great about it'\u001b[0m,\n",
       "            \u001b[32m'timestamp'\u001b[0m: \u001b[1;36m1486944753.0\u001b[0m\n",
       "        \u001b[1m}\u001b[0m,\n",
       "        \u001b[33mvector\u001b[0m=\u001b[3;35mNone\u001b[0m,\n",
       "        \u001b[33mshard_key\u001b[0m=\u001b[3;35mNone\u001b[0m\n",
       "    \u001b[1m)\u001b[0m,\n",
       "    \u001b[1;35mScoredPoint\u001b[0m\u001b[1m(\u001b[0m\n",
       "        \u001b[33mid\u001b[0m=\u001b[32m'a289b8a9-ea30-441a-8eb4-5a287efef2e4'\u001b[0m,\n",
       "        \u001b[33mversion\u001b[0m=\u001b[1;36m829\u001b[0m,\n",
       "        \u001b[33mscore\u001b[0m=\u001b[1;36m0\u001b[0m\u001b[1;36m.7286221\u001b[0m,\n",
       "        \u001b[33mpayload\u001b[0m=\u001b[1m{\u001b[0m\n",
       "            \u001b[32m'author_app_version'\u001b[0m: \u001b[32m'4.12.2 build 14444'\u001b[0m,\n",
       "            \u001b[32m'label'\u001b[0m: \u001b[32m'excellent'\u001b[0m,\n",
       "            \u001b[32m'review_date'\u001b[0m: \u001b[32m'2017-01-15 01:39:10'\u001b[0m,\n",
       "            \u001b[32m'review_id'\u001b[0m: \u001b[32m'a289b8a9-ea30-441a-8eb4-5a287efef2e4'\u001b[0m,\n",
       "            \u001b[32m'review_rating'\u001b[0m: \u001b[1;36m5\u001b[0m,\n",
       "            \u001b[32m'review_text'\u001b[0m: \u001b[32m'I love it and it is great'\u001b[0m,\n",
       "            \u001b[32m'timestamp'\u001b[0m: \u001b[1;36m1484440750.0\u001b[0m\n",
       "        \u001b[1m}\u001b[0m,\n",
       "        \u001b[33mvector\u001b[0m=\u001b[3;35mNone\u001b[0m,\n",
       "        \u001b[33mshard_key\u001b[0m=\u001b[3;35mNone\u001b[0m\n",
       "    \u001b[1m)\u001b[0m,\n",
       "    \u001b[1;35mScoredPoint\u001b[0m\u001b[1m(\u001b[0m\n",
       "        \u001b[33mid\u001b[0m=\u001b[32m'9f00a59a-456b-4fc1-a55d-60fb23edb1b3'\u001b[0m,\n",
       "        \u001b[33mversion\u001b[0m=\u001b[1;36m1178\u001b[0m,\n",
       "        \u001b[33mscore\u001b[0m=\u001b[1;36m0\u001b[0m\u001b[1;36m.7276957\u001b[0m,\n",
       "        \u001b[33mpayload\u001b[0m=\u001b[1m{\u001b[0m\n",
       "            \u001b[32m'author_app_version'\u001b[0m: \u001b[32m''\u001b[0m,\n",
       "            \u001b[32m'label'\u001b[0m: \u001b[32m'excellent'\u001b[0m,\n",
       "            \u001b[32m'review_date'\u001b[0m: \u001b[32m'2018-05-12 19:34:58'\u001b[0m,\n",
       "            \u001b[32m'review_id'\u001b[0m: \u001b[32m'9f00a59a-456b-4fc1-a55d-60fb23edb1b3'\u001b[0m,\n",
       "            \u001b[32m'review_rating'\u001b[0m: \u001b[1;36m5\u001b[0m,\n",
       "            \u001b[32m'review_text'\u001b[0m: \u001b[32m'I like it I like it. It is very good'\u001b[0m,\n",
       "            \u001b[32m'timestamp'\u001b[0m: \u001b[1;36m1526150098.0\u001b[0m\n",
       "        \u001b[1m}\u001b[0m,\n",
       "        \u001b[33mvector\u001b[0m=\u001b[3;35mNone\u001b[0m,\n",
       "        \u001b[33mshard_key\u001b[0m=\u001b[3;35mNone\u001b[0m\n",
       "    \u001b[1m)\u001b[0m,\n",
       "    \u001b[1;35mScoredPoint\u001b[0m\u001b[1m(\u001b[0m\n",
       "        \u001b[33mid\u001b[0m=\u001b[32m'c25ed424-288a-409e-9af1-54b6b99c5250'\u001b[0m,\n",
       "        \u001b[33mversion\u001b[0m=\u001b[1;36m626\u001b[0m,\n",
       "        \u001b[33mscore\u001b[0m=\u001b[1;36m0\u001b[0m\u001b[1;36m.7264036\u001b[0m,\n",
       "        \u001b[33mpayload\u001b[0m=\u001b[1m{\u001b[0m\n",
       "            \u001b[32m'author_app_version'\u001b[0m: \u001b[32m'3.16.1 build 5342'\u001b[0m,\n",
       "            \u001b[32m'label'\u001b[0m: \u001b[32m'excellent'\u001b[0m,\n",
       "            \u001b[32m'review_date'\u001b[0m: \u001b[32m'2016-01-23 00:55:44'\u001b[0m,\n",
       "            \u001b[32m'review_id'\u001b[0m: \u001b[32m'c25ed424-288a-409e-9af1-54b6b99c5250'\u001b[0m,\n",
       "            \u001b[32m'review_rating'\u001b[0m: \u001b[1;36m5\u001b[0m,\n",
       "            \u001b[32m'review_text'\u001b[0m: \u001b[32m\"Love everything about it. It's great.\"\u001b[0m,\n",
       "            \u001b[32m'timestamp'\u001b[0m: \u001b[1;36m1453506944.0\u001b[0m\n",
       "        \u001b[1m}\u001b[0m,\n",
       "        \u001b[33mvector\u001b[0m=\u001b[3;35mNone\u001b[0m,\n",
       "        \u001b[33mshard_key\u001b[0m=\u001b[3;35mNone\u001b[0m\n",
       "    \u001b[1m)\u001b[0m,\n",
       "    \u001b[1;35mScoredPoint\u001b[0m\u001b[1m(\u001b[0m\n",
       "        \u001b[33mid\u001b[0m=\u001b[32m'2ffe3237-b13a-40cf-9e22-7ad0306ff917'\u001b[0m,\n",
       "        \u001b[33mversion\u001b[0m=\u001b[1;36m270\u001b[0m,\n",
       "        \u001b[33mscore\u001b[0m=\u001b[1;36m0\u001b[0m\u001b[1;36m.72212446\u001b[0m,\n",
       "        \u001b[33mpayload\u001b[0m=\u001b[1m{\u001b[0m\n",
       "            \u001b[32m'author_app_version'\u001b[0m: \u001b[32m'3.1.1 build 1112'\u001b[0m,\n",
       "            \u001b[32m'label'\u001b[0m: \u001b[32m'excellent'\u001b[0m,\n",
       "            \u001b[32m'review_date'\u001b[0m: \u001b[32m'2013-12-27 17:11:49'\u001b[0m,\n",
       "            \u001b[32m'review_id'\u001b[0m: \u001b[32m'2ffe3237-b13a-40cf-9e22-7ad0306ff917'\u001b[0m,\n",
       "            \u001b[32m'review_rating'\u001b[0m: \u001b[1;36m5\u001b[0m,\n",
       "            \u001b[32m'review_text'\u001b[0m: \u001b[32m'I love it! It has everything I like!'\u001b[0m,\n",
       "            \u001b[32m'timestamp'\u001b[0m: \u001b[1;36m1388160709.0\u001b[0m\n",
       "        \u001b[1m}\u001b[0m,\n",
       "        \u001b[33mvector\u001b[0m=\u001b[3;35mNone\u001b[0m,\n",
       "        \u001b[33mshard_key\u001b[0m=\u001b[3;35mNone\u001b[0m\n",
       "    \u001b[1m)\u001b[0m,\n",
       "    \u001b[1;35mScoredPoint\u001b[0m\u001b[1m(\u001b[0m\n",
       "        \u001b[33mid\u001b[0m=\u001b[32m'851ed335-e9b4-4137-a1d7-8ab612b751a6'\u001b[0m,\n",
       "        \u001b[33mversion\u001b[0m=\u001b[1;36m817\u001b[0m,\n",
       "        \u001b[33mscore\u001b[0m=\u001b[1;36m0\u001b[0m\u001b[1;36m.7215201\u001b[0m,\n",
       "        \u001b[33mpayload\u001b[0m=\u001b[1m{\u001b[0m\n",
       "            \u001b[32m'author_app_version'\u001b[0m: \u001b[32m'4.9.5 build 10060'\u001b[0m,\n",
       "            \u001b[32m'label'\u001b[0m: \u001b[32m'excellent'\u001b[0m,\n",
       "            \u001b[32m'review_date'\u001b[0m: \u001b[32m'2016-12-29 19:07:46'\u001b[0m,\n",
       "            \u001b[32m'review_id'\u001b[0m: \u001b[32m'851ed335-e9b4-4137-a1d7-8ab612b751a6'\u001b[0m,\n",
       "            \u001b[32m'review_rating'\u001b[0m: \u001b[1;36m5\u001b[0m,\n",
       "            \u001b[32m'review_text'\u001b[0m: \u001b[32m'I like it is great its just great'\u001b[0m,\n",
       "            \u001b[32m'timestamp'\u001b[0m: \u001b[1;36m1483034866.0\u001b[0m\n",
       "        \u001b[1m}\u001b[0m,\n",
       "        \u001b[33mvector\u001b[0m=\u001b[3;35mNone\u001b[0m,\n",
       "        \u001b[33mshard_key\u001b[0m=\u001b[3;35mNone\u001b[0m\n",
       "    \u001b[1m)\u001b[0m,\n",
       "    \u001b[1;35mScoredPoint\u001b[0m\u001b[1m(\u001b[0m\n",
       "        \u001b[33mid\u001b[0m=\u001b[32m'10a16e76-8b00-45e2-a4e0-2158cbf40120'\u001b[0m,\n",
       "        \u001b[33mversion\u001b[0m=\u001b[1;36m179\u001b[0m,\n",
       "        \u001b[33mscore\u001b[0m=\u001b[1;36m0\u001b[0m\u001b[1;36m.71951973\u001b[0m,\n",
       "        \u001b[33mpayload\u001b[0m=\u001b[1m{\u001b[0m\n",
       "            \u001b[32m'author_app_version'\u001b[0m: \u001b[32m''\u001b[0m,\n",
       "            \u001b[32m'label'\u001b[0m: \u001b[32m'excellent'\u001b[0m,\n",
       "            \u001b[32m'review_date'\u001b[0m: \u001b[32m'2013-02-25 22:31:46'\u001b[0m,\n",
       "            \u001b[32m'review_id'\u001b[0m: \u001b[32m'10a16e76-8b00-45e2-a4e0-2158cbf40120'\u001b[0m,\n",
       "            \u001b[32m'review_rating'\u001b[0m: \u001b[1;36m5\u001b[0m,\n",
       "            \u001b[32m'review_text'\u001b[0m: \u001b[32m'I like it I like it a lot!'\u001b[0m,\n",
       "            \u001b[32m'timestamp'\u001b[0m: \u001b[1;36m1361827906.0\u001b[0m\n",
       "        \u001b[1m}\u001b[0m,\n",
       "        \u001b[33mvector\u001b[0m=\u001b[3;35mNone\u001b[0m,\n",
       "        \u001b[33mshard_key\u001b[0m=\u001b[3;35mNone\u001b[0m\n",
       "    \u001b[1m)\u001b[0m,\n",
       "    \u001b[1;35mScoredPoint\u001b[0m\u001b[1m(\u001b[0m\n",
       "        \u001b[33mid\u001b[0m=\u001b[32m'e67ccfe8-dc70-4f51-8bf9-53c1f2dac0d6'\u001b[0m,\n",
       "        \u001b[33mversion\u001b[0m=\u001b[1;36m629\u001b[0m,\n",
       "        \u001b[33mscore\u001b[0m=\u001b[1;36m0\u001b[0m\u001b[1;36m.717762\u001b[0m,\n",
       "        \u001b[33mpayload\u001b[0m=\u001b[1m{\u001b[0m\n",
       "            \u001b[32m'author_app_version'\u001b[0m: \u001b[32m''\u001b[0m,\n",
       "            \u001b[32m'label'\u001b[0m: \u001b[32m'excellent'\u001b[0m,\n",
       "            \u001b[32m'review_date'\u001b[0m: \u001b[32m'2016-02-01 02:31:22'\u001b[0m,\n",
       "            \u001b[32m'review_id'\u001b[0m: \u001b[32m'e67ccfe8-dc70-4f51-8bf9-53c1f2dac0d6'\u001b[0m,\n",
       "            \u001b[32m'review_rating'\u001b[0m: \u001b[1;36m5\u001b[0m,\n",
       "            \u001b[32m'review_text'\u001b[0m: \u001b[32m'Hands down. I love everything about it.'\u001b[0m,\n",
       "            \u001b[32m'timestamp'\u001b[0m: \u001b[1;36m1454290282.0\u001b[0m\n",
       "        \u001b[1m}\u001b[0m,\n",
       "        \u001b[33mvector\u001b[0m=\u001b[3;35mNone\u001b[0m,\n",
       "        \u001b[33mshard_key\u001b[0m=\u001b[3;35mNone\u001b[0m\n",
       "    \u001b[1m)\u001b[0m\n",
       "\u001b[1m]\u001b[0m\n"
      ]
     },
     "metadata": {},
     "output_type": "display_data"
    }
   ],
   "source": [
    "N: int = 5_000\n",
    "query: str = \"what do you like about it?\"\n",
    "query_vector: list[float] = encoder.encode(query).tolist()\n",
    "\n",
    "\n",
    "hits: list[Any] = client.search(\n",
    "    collection_name=COLLECTION_NAME,\n",
    "    query_vector=query_vector,\n",
    "    query_filter=None,\n",
    "    limit=N,\n",
    ")\n",
    "\n",
    "print(hits[:15])"
   ]
  },
  {
   "cell_type": "code",
   "execution_count": 30,
   "metadata": {},
   "outputs": [
    {
     "data": {
      "application/vnd.plotly.v1+json": {
       "config": {
        "plotlyServerURL": "https://plot.ly"
       },
       "data": [
        {
         "alignmentgroup": "True",
         "hovertemplate": "label=%{x}<br>count=%{y}<extra></extra>",
         "legendgroup": "very good",
         "marker": {
          "color": "#636efa",
          "pattern": {
           "shape": ""
          }
         },
         "name": "very good",
         "offsetgroup": "very good",
         "orientation": "v",
         "showlegend": true,
         "textposition": "auto",
         "texttemplate": "%{y}",
         "type": "bar",
         "x": [
          "very good"
         ],
         "xaxis": "x",
         "y": [
          684
         ],
         "yaxis": "y"
        },
        {
         "alignmentgroup": "True",
         "hovertemplate": "label=%{x}<br>count=%{y}<extra></extra>",
         "legendgroup": "poor",
         "marker": {
          "color": "#EF553B",
          "pattern": {
           "shape": ""
          }
         },
         "name": "poor",
         "offsetgroup": "poor",
         "orientation": "v",
         "showlegend": true,
         "textposition": "auto",
         "texttemplate": "%{y}",
         "type": "bar",
         "x": [
          "poor"
         ],
         "xaxis": "x",
         "y": [
          92
         ],
         "yaxis": "y"
        },
        {
         "alignmentgroup": "True",
         "hovertemplate": "label=%{x}<br>count=%{y}<extra></extra>",
         "legendgroup": "excellent",
         "marker": {
          "color": "#00cc96",
          "pattern": {
           "shape": ""
          }
         },
         "name": "excellent",
         "offsetgroup": "excellent",
         "orientation": "v",
         "showlegend": true,
         "textposition": "auto",
         "texttemplate": "%{y}",
         "type": "bar",
         "x": [
          "excellent"
         ],
         "xaxis": "x",
         "y": [
          3767
         ],
         "yaxis": "y"
        },
        {
         "alignmentgroup": "True",
         "hovertemplate": "label=%{x}<br>count=%{y}<extra></extra>",
         "legendgroup": "okay",
         "marker": {
          "color": "#ab63fa",
          "pattern": {
           "shape": ""
          }
         },
         "name": "okay",
         "offsetgroup": "okay",
         "orientation": "v",
         "showlegend": true,
         "textposition": "auto",
         "texttemplate": "%{y}",
         "type": "bar",
         "x": [
          "okay"
         ],
         "xaxis": "x",
         "y": [
          225
         ],
         "yaxis": "y"
        },
        {
         "alignmentgroup": "True",
         "hovertemplate": "label=%{x}<br>count=%{y}<extra></extra>",
         "legendgroup": "very poor",
         "marker": {
          "color": "#FFA15A",
          "pattern": {
           "shape": ""
          }
         },
         "name": "very poor",
         "offsetgroup": "very poor",
         "orientation": "v",
         "showlegend": true,
         "textposition": "auto",
         "texttemplate": "%{y}",
         "type": "bar",
         "x": [
          "very poor"
         ],
         "xaxis": "x",
         "y": [
          231
         ],
         "yaxis": "y"
        }
       ],
       "layout": {
        "barmode": "relative",
        "legend": {
         "title": {
          "text": "label"
         },
         "tracegroupgap": 0
        },
        "template": {
         "data": {
          "bar": [
           {
            "error_x": {
             "color": "#2a3f5f"
            },
            "error_y": {
             "color": "#2a3f5f"
            },
            "marker": {
             "line": {
              "color": "#E5ECF6",
              "width": 0.5
             },
             "pattern": {
              "fillmode": "overlay",
              "size": 10,
              "solidity": 0.2
             }
            },
            "type": "bar"
           }
          ],
          "barpolar": [
           {
            "marker": {
             "line": {
              "color": "#E5ECF6",
              "width": 0.5
             },
             "pattern": {
              "fillmode": "overlay",
              "size": 10,
              "solidity": 0.2
             }
            },
            "type": "barpolar"
           }
          ],
          "carpet": [
           {
            "aaxis": {
             "endlinecolor": "#2a3f5f",
             "gridcolor": "white",
             "linecolor": "white",
             "minorgridcolor": "white",
             "startlinecolor": "#2a3f5f"
            },
            "baxis": {
             "endlinecolor": "#2a3f5f",
             "gridcolor": "white",
             "linecolor": "white",
             "minorgridcolor": "white",
             "startlinecolor": "#2a3f5f"
            },
            "type": "carpet"
           }
          ],
          "choropleth": [
           {
            "colorbar": {
             "outlinewidth": 0,
             "ticks": ""
            },
            "type": "choropleth"
           }
          ],
          "contour": [
           {
            "colorbar": {
             "outlinewidth": 0,
             "ticks": ""
            },
            "colorscale": [
             [
              0,
              "#0d0887"
             ],
             [
              0.1111111111111111,
              "#46039f"
             ],
             [
              0.2222222222222222,
              "#7201a8"
             ],
             [
              0.3333333333333333,
              "#9c179e"
             ],
             [
              0.4444444444444444,
              "#bd3786"
             ],
             [
              0.5555555555555556,
              "#d8576b"
             ],
             [
              0.6666666666666666,
              "#ed7953"
             ],
             [
              0.7777777777777778,
              "#fb9f3a"
             ],
             [
              0.8888888888888888,
              "#fdca26"
             ],
             [
              1,
              "#f0f921"
             ]
            ],
            "type": "contour"
           }
          ],
          "contourcarpet": [
           {
            "colorbar": {
             "outlinewidth": 0,
             "ticks": ""
            },
            "type": "contourcarpet"
           }
          ],
          "heatmap": [
           {
            "colorbar": {
             "outlinewidth": 0,
             "ticks": ""
            },
            "colorscale": [
             [
              0,
              "#0d0887"
             ],
             [
              0.1111111111111111,
              "#46039f"
             ],
             [
              0.2222222222222222,
              "#7201a8"
             ],
             [
              0.3333333333333333,
              "#9c179e"
             ],
             [
              0.4444444444444444,
              "#bd3786"
             ],
             [
              0.5555555555555556,
              "#d8576b"
             ],
             [
              0.6666666666666666,
              "#ed7953"
             ],
             [
              0.7777777777777778,
              "#fb9f3a"
             ],
             [
              0.8888888888888888,
              "#fdca26"
             ],
             [
              1,
              "#f0f921"
             ]
            ],
            "type": "heatmap"
           }
          ],
          "heatmapgl": [
           {
            "colorbar": {
             "outlinewidth": 0,
             "ticks": ""
            },
            "colorscale": [
             [
              0,
              "#0d0887"
             ],
             [
              0.1111111111111111,
              "#46039f"
             ],
             [
              0.2222222222222222,
              "#7201a8"
             ],
             [
              0.3333333333333333,
              "#9c179e"
             ],
             [
              0.4444444444444444,
              "#bd3786"
             ],
             [
              0.5555555555555556,
              "#d8576b"
             ],
             [
              0.6666666666666666,
              "#ed7953"
             ],
             [
              0.7777777777777778,
              "#fb9f3a"
             ],
             [
              0.8888888888888888,
              "#fdca26"
             ],
             [
              1,
              "#f0f921"
             ]
            ],
            "type": "heatmapgl"
           }
          ],
          "histogram": [
           {
            "marker": {
             "pattern": {
              "fillmode": "overlay",
              "size": 10,
              "solidity": 0.2
             }
            },
            "type": "histogram"
           }
          ],
          "histogram2d": [
           {
            "colorbar": {
             "outlinewidth": 0,
             "ticks": ""
            },
            "colorscale": [
             [
              0,
              "#0d0887"
             ],
             [
              0.1111111111111111,
              "#46039f"
             ],
             [
              0.2222222222222222,
              "#7201a8"
             ],
             [
              0.3333333333333333,
              "#9c179e"
             ],
             [
              0.4444444444444444,
              "#bd3786"
             ],
             [
              0.5555555555555556,
              "#d8576b"
             ],
             [
              0.6666666666666666,
              "#ed7953"
             ],
             [
              0.7777777777777778,
              "#fb9f3a"
             ],
             [
              0.8888888888888888,
              "#fdca26"
             ],
             [
              1,
              "#f0f921"
             ]
            ],
            "type": "histogram2d"
           }
          ],
          "histogram2dcontour": [
           {
            "colorbar": {
             "outlinewidth": 0,
             "ticks": ""
            },
            "colorscale": [
             [
              0,
              "#0d0887"
             ],
             [
              0.1111111111111111,
              "#46039f"
             ],
             [
              0.2222222222222222,
              "#7201a8"
             ],
             [
              0.3333333333333333,
              "#9c179e"
             ],
             [
              0.4444444444444444,
              "#bd3786"
             ],
             [
              0.5555555555555556,
              "#d8576b"
             ],
             [
              0.6666666666666666,
              "#ed7953"
             ],
             [
              0.7777777777777778,
              "#fb9f3a"
             ],
             [
              0.8888888888888888,
              "#fdca26"
             ],
             [
              1,
              "#f0f921"
             ]
            ],
            "type": "histogram2dcontour"
           }
          ],
          "mesh3d": [
           {
            "colorbar": {
             "outlinewidth": 0,
             "ticks": ""
            },
            "type": "mesh3d"
           }
          ],
          "parcoords": [
           {
            "line": {
             "colorbar": {
              "outlinewidth": 0,
              "ticks": ""
             }
            },
            "type": "parcoords"
           }
          ],
          "pie": [
           {
            "automargin": true,
            "type": "pie"
           }
          ],
          "scatter": [
           {
            "fillpattern": {
             "fillmode": "overlay",
             "size": 10,
             "solidity": 0.2
            },
            "type": "scatter"
           }
          ],
          "scatter3d": [
           {
            "line": {
             "colorbar": {
              "outlinewidth": 0,
              "ticks": ""
             }
            },
            "marker": {
             "colorbar": {
              "outlinewidth": 0,
              "ticks": ""
             }
            },
            "type": "scatter3d"
           }
          ],
          "scattercarpet": [
           {
            "marker": {
             "colorbar": {
              "outlinewidth": 0,
              "ticks": ""
             }
            },
            "type": "scattercarpet"
           }
          ],
          "scattergeo": [
           {
            "marker": {
             "colorbar": {
              "outlinewidth": 0,
              "ticks": ""
             }
            },
            "type": "scattergeo"
           }
          ],
          "scattergl": [
           {
            "marker": {
             "colorbar": {
              "outlinewidth": 0,
              "ticks": ""
             }
            },
            "type": "scattergl"
           }
          ],
          "scattermapbox": [
           {
            "marker": {
             "colorbar": {
              "outlinewidth": 0,
              "ticks": ""
             }
            },
            "type": "scattermapbox"
           }
          ],
          "scatterpolar": [
           {
            "marker": {
             "colorbar": {
              "outlinewidth": 0,
              "ticks": ""
             }
            },
            "type": "scatterpolar"
           }
          ],
          "scatterpolargl": [
           {
            "marker": {
             "colorbar": {
              "outlinewidth": 0,
              "ticks": ""
             }
            },
            "type": "scatterpolargl"
           }
          ],
          "scatterternary": [
           {
            "marker": {
             "colorbar": {
              "outlinewidth": 0,
              "ticks": ""
             }
            },
            "type": "scatterternary"
           }
          ],
          "surface": [
           {
            "colorbar": {
             "outlinewidth": 0,
             "ticks": ""
            },
            "colorscale": [
             [
              0,
              "#0d0887"
             ],
             [
              0.1111111111111111,
              "#46039f"
             ],
             [
              0.2222222222222222,
              "#7201a8"
             ],
             [
              0.3333333333333333,
              "#9c179e"
             ],
             [
              0.4444444444444444,
              "#bd3786"
             ],
             [
              0.5555555555555556,
              "#d8576b"
             ],
             [
              0.6666666666666666,
              "#ed7953"
             ],
             [
              0.7777777777777778,
              "#fb9f3a"
             ],
             [
              0.8888888888888888,
              "#fdca26"
             ],
             [
              1,
              "#f0f921"
             ]
            ],
            "type": "surface"
           }
          ],
          "table": [
           {
            "cells": {
             "fill": {
              "color": "#EBF0F8"
             },
             "line": {
              "color": "white"
             }
            },
            "header": {
             "fill": {
              "color": "#C8D4E3"
             },
             "line": {
              "color": "white"
             }
            },
            "type": "table"
           }
          ]
         },
         "layout": {
          "annotationdefaults": {
           "arrowcolor": "#2a3f5f",
           "arrowhead": 0,
           "arrowwidth": 1
          },
          "autotypenumbers": "strict",
          "coloraxis": {
           "colorbar": {
            "outlinewidth": 0,
            "ticks": ""
           }
          },
          "colorscale": {
           "diverging": [
            [
             0,
             "#8e0152"
            ],
            [
             0.1,
             "#c51b7d"
            ],
            [
             0.2,
             "#de77ae"
            ],
            [
             0.3,
             "#f1b6da"
            ],
            [
             0.4,
             "#fde0ef"
            ],
            [
             0.5,
             "#f7f7f7"
            ],
            [
             0.6,
             "#e6f5d0"
            ],
            [
             0.7,
             "#b8e186"
            ],
            [
             0.8,
             "#7fbc41"
            ],
            [
             0.9,
             "#4d9221"
            ],
            [
             1,
             "#276419"
            ]
           ],
           "sequential": [
            [
             0,
             "#0d0887"
            ],
            [
             0.1111111111111111,
             "#46039f"
            ],
            [
             0.2222222222222222,
             "#7201a8"
            ],
            [
             0.3333333333333333,
             "#9c179e"
            ],
            [
             0.4444444444444444,
             "#bd3786"
            ],
            [
             0.5555555555555556,
             "#d8576b"
            ],
            [
             0.6666666666666666,
             "#ed7953"
            ],
            [
             0.7777777777777778,
             "#fb9f3a"
            ],
            [
             0.8888888888888888,
             "#fdca26"
            ],
            [
             1,
             "#f0f921"
            ]
           ],
           "sequentialminus": [
            [
             0,
             "#0d0887"
            ],
            [
             0.1111111111111111,
             "#46039f"
            ],
            [
             0.2222222222222222,
             "#7201a8"
            ],
            [
             0.3333333333333333,
             "#9c179e"
            ],
            [
             0.4444444444444444,
             "#bd3786"
            ],
            [
             0.5555555555555556,
             "#d8576b"
            ],
            [
             0.6666666666666666,
             "#ed7953"
            ],
            [
             0.7777777777777778,
             "#fb9f3a"
            ],
            [
             0.8888888888888888,
             "#fdca26"
            ],
            [
             1,
             "#f0f921"
            ]
           ]
          },
          "colorway": [
           "#636efa",
           "#EF553B",
           "#00cc96",
           "#ab63fa",
           "#FFA15A",
           "#19d3f3",
           "#FF6692",
           "#B6E880",
           "#FF97FF",
           "#FECB52"
          ],
          "font": {
           "color": "#2a3f5f"
          },
          "geo": {
           "bgcolor": "white",
           "lakecolor": "white",
           "landcolor": "#E5ECF6",
           "showlakes": true,
           "showland": true,
           "subunitcolor": "white"
          },
          "hoverlabel": {
           "align": "left"
          },
          "hovermode": "closest",
          "mapbox": {
           "style": "light"
          },
          "paper_bgcolor": "white",
          "plot_bgcolor": "#E5ECF6",
          "polar": {
           "angularaxis": {
            "gridcolor": "white",
            "linecolor": "white",
            "ticks": ""
           },
           "bgcolor": "#E5ECF6",
           "radialaxis": {
            "gridcolor": "white",
            "linecolor": "white",
            "ticks": ""
           }
          },
          "scene": {
           "xaxis": {
            "backgroundcolor": "#E5ECF6",
            "gridcolor": "white",
            "gridwidth": 2,
            "linecolor": "white",
            "showbackground": true,
            "ticks": "",
            "zerolinecolor": "white"
           },
           "yaxis": {
            "backgroundcolor": "#E5ECF6",
            "gridcolor": "white",
            "gridwidth": 2,
            "linecolor": "white",
            "showbackground": true,
            "ticks": "",
            "zerolinecolor": "white"
           },
           "zaxis": {
            "backgroundcolor": "#E5ECF6",
            "gridcolor": "white",
            "gridwidth": 2,
            "linecolor": "white",
            "showbackground": true,
            "ticks": "",
            "zerolinecolor": "white"
           }
          },
          "shapedefaults": {
           "line": {
            "color": "#2a3f5f"
           }
          },
          "ternary": {
           "aaxis": {
            "gridcolor": "white",
            "linecolor": "white",
            "ticks": ""
           },
           "baxis": {
            "gridcolor": "white",
            "linecolor": "white",
            "ticks": ""
           },
           "bgcolor": "#E5ECF6",
           "caxis": {
            "gridcolor": "white",
            "linecolor": "white",
            "ticks": ""
           }
          },
          "title": {
           "x": 0.05
          },
          "xaxis": {
           "automargin": true,
           "gridcolor": "white",
           "linecolor": "white",
           "ticks": "",
           "title": {
            "standoff": 15
           },
           "zerolinecolor": "white",
           "zerolinewidth": 2
          },
          "yaxis": {
           "automargin": true,
           "gridcolor": "white",
           "linecolor": "white",
           "ticks": "",
           "title": {
            "standoff": 15
           },
           "zerolinecolor": "white",
           "zerolinewidth": 2
          }
         }
        },
        "title": {
         "text": "what do you like about it?"
        },
        "xaxis": {
         "anchor": "y",
         "categoryarray": [
          "very good",
          "poor",
          "excellent",
          "okay",
          "very poor"
         ],
         "categoryorder": "array",
         "domain": [
          0,
          1
         ],
         "title": {
          "text": "label"
         }
        },
        "yaxis": {
         "anchor": "x",
         "domain": [
          0,
          1
         ],
         "title": {
          "text": "count"
         }
        }
       }
      }
     },
     "metadata": {},
     "output_type": "display_data"
    }
   ],
   "source": [
    "visualize_result(sentiment=sentiment, query=query)"
   ]
  },
  {
   "cell_type": "code",
   "execution_count": 31,
   "metadata": {},
   "outputs": [
    {
     "data": {
      "text/html": [
       "<pre style=\"white-space:pre;overflow-x:auto;line-height:normal;font-family:Menlo,'DejaVu Sans Mono',consolas,'Courier New',monospace\"><span style=\"font-weight: bold\">[</span>\n",
       "    <span style=\"color: #800080; text-decoration-color: #800080; font-weight: bold\">ScoredPoint</span><span style=\"font-weight: bold\">(</span>\n",
       "        <span style=\"color: #808000; text-decoration-color: #808000\">id</span>=<span style=\"color: #008000; text-decoration-color: #008000\">'d63eeef6-0830-4404-af3e-36a2fe004f8e'</span>,\n",
       "        <span style=\"color: #808000; text-decoration-color: #808000\">version</span>=<span style=\"color: #008080; text-decoration-color: #008080; font-weight: bold\">695</span>,\n",
       "        <span style=\"color: #808000; text-decoration-color: #808000\">score</span>=<span style=\"color: #008080; text-decoration-color: #008080; font-weight: bold\">0.5598812</span>,\n",
       "        <span style=\"color: #808000; text-decoration-color: #808000\">payload</span>=<span style=\"font-weight: bold\">{</span>\n",
       "            <span style=\"color: #008000; text-decoration-color: #008000\">'author_app_version'</span>: <span style=\"color: #008000; text-decoration-color: #008000\">'4.5.1 build 7734'</span>,\n",
       "            <span style=\"color: #008000; text-decoration-color: #008000\">'label'</span>: <span style=\"color: #008000; text-decoration-color: #008000\">'excellent'</span>,\n",
       "            <span style=\"color: #008000; text-decoration-color: #008000\">'review_date'</span>: <span style=\"color: #008000; text-decoration-color: #008000\">'2016-06-11 15:16:46'</span>,\n",
       "            <span style=\"color: #008000; text-decoration-color: #008000\">'review_id'</span>: <span style=\"color: #008000; text-decoration-color: #008000\">'d63eeef6-0830-4404-af3e-36a2fe004f8e'</span>,\n",
       "            <span style=\"color: #008000; text-decoration-color: #008000\">'review_rating'</span>: <span style=\"color: #008080; text-decoration-color: #008080; font-weight: bold\">5</span>,\n",
       "            <span style=\"color: #008000; text-decoration-color: #008000\">'review_text'</span>: <span style=\"color: #008000; text-decoration-color: #008000\">'It is awesome'</span>,\n",
       "            <span style=\"color: #008000; text-decoration-color: #008000\">'timestamp'</span>: <span style=\"color: #008080; text-decoration-color: #008080; font-weight: bold\">1465654606.0</span>\n",
       "        <span style=\"font-weight: bold\">}</span>,\n",
       "        <span style=\"color: #808000; text-decoration-color: #808000\">vector</span>=<span style=\"color: #800080; text-decoration-color: #800080; font-style: italic\">None</span>,\n",
       "        <span style=\"color: #808000; text-decoration-color: #808000\">shard_key</span>=<span style=\"color: #800080; text-decoration-color: #800080; font-style: italic\">None</span>\n",
       "    <span style=\"font-weight: bold\">)</span>,\n",
       "    <span style=\"color: #800080; text-decoration-color: #800080; font-weight: bold\">ScoredPoint</span><span style=\"font-weight: bold\">(</span>\n",
       "        <span style=\"color: #808000; text-decoration-color: #808000\">id</span>=<span style=\"color: #008000; text-decoration-color: #008000\">'b57ce3d2-b3b7-47cd-a985-5629ff327457'</span>,\n",
       "        <span style=\"color: #808000; text-decoration-color: #808000\">version</span>=<span style=\"color: #008080; text-decoration-color: #008080; font-weight: bold\">872</span>,\n",
       "        <span style=\"color: #808000; text-decoration-color: #808000\">score</span>=<span style=\"color: #008080; text-decoration-color: #008080; font-weight: bold\">0.5598812</span>,\n",
       "        <span style=\"color: #808000; text-decoration-color: #808000\">payload</span>=<span style=\"font-weight: bold\">{</span>\n",
       "            <span style=\"color: #008000; text-decoration-color: #008000\">'author_app_version'</span>: <span style=\"color: #008000; text-decoration-color: #008000\">''</span>,\n",
       "            <span style=\"color: #008000; text-decoration-color: #008000\">'label'</span>: <span style=\"color: #008000; text-decoration-color: #008000\">'excellent'</span>,\n",
       "            <span style=\"color: #008000; text-decoration-color: #008000\">'review_date'</span>: <span style=\"color: #008000; text-decoration-color: #008000\">'2017-03-10 02:09:37'</span>,\n",
       "            <span style=\"color: #008000; text-decoration-color: #008000\">'review_id'</span>: <span style=\"color: #008000; text-decoration-color: #008000\">'b57ce3d2-b3b7-47cd-a985-5629ff327457'</span>,\n",
       "            <span style=\"color: #008000; text-decoration-color: #008000\">'review_rating'</span>: <span style=\"color: #008080; text-decoration-color: #008080; font-weight: bold\">5</span>,\n",
       "            <span style=\"color: #008000; text-decoration-color: #008000\">'review_text'</span>: <span style=\"color: #008000; text-decoration-color: #008000\">'It is awesome'</span>,\n",
       "            <span style=\"color: #008000; text-decoration-color: #008000\">'timestamp'</span>: <span style=\"color: #008080; text-decoration-color: #008080; font-weight: bold\">1489108177.0</span>\n",
       "        <span style=\"font-weight: bold\">}</span>,\n",
       "        <span style=\"color: #808000; text-decoration-color: #808000\">vector</span>=<span style=\"color: #800080; text-decoration-color: #800080; font-style: italic\">None</span>,\n",
       "        <span style=\"color: #808000; text-decoration-color: #808000\">shard_key</span>=<span style=\"color: #800080; text-decoration-color: #800080; font-style: italic\">None</span>\n",
       "    <span style=\"font-weight: bold\">)</span>,\n",
       "    <span style=\"color: #800080; text-decoration-color: #800080; font-weight: bold\">ScoredPoint</span><span style=\"font-weight: bold\">(</span>\n",
       "        <span style=\"color: #808000; text-decoration-color: #808000\">id</span>=<span style=\"color: #008000; text-decoration-color: #008000\">'6e630e51-e4d8-4a1a-a4b1-a3ced0a48091'</span>,\n",
       "        <span style=\"color: #808000; text-decoration-color: #808000\">version</span>=<span style=\"color: #008080; text-decoration-color: #008080; font-weight: bold\">683</span>,\n",
       "        <span style=\"color: #808000; text-decoration-color: #808000\">score</span>=<span style=\"color: #008080; text-decoration-color: #008080; font-weight: bold\">0.5598812</span>,\n",
       "        <span style=\"color: #808000; text-decoration-color: #808000\">payload</span>=<span style=\"font-weight: bold\">{</span>\n",
       "            <span style=\"color: #008000; text-decoration-color: #008000\">'author_app_version'</span>: <span style=\"color: #008000; text-decoration-color: #008000\">'4.4.1 build 7647'</span>,\n",
       "            <span style=\"color: #008000; text-decoration-color: #008000\">'label'</span>: <span style=\"color: #008000; text-decoration-color: #008000\">'excellent'</span>,\n",
       "            <span style=\"color: #008000; text-decoration-color: #008000\">'review_date'</span>: <span style=\"color: #008000; text-decoration-color: #008000\">'2016-05-28 15:17:06'</span>,\n",
       "            <span style=\"color: #008000; text-decoration-color: #008000\">'review_id'</span>: <span style=\"color: #008000; text-decoration-color: #008000\">'6e630e51-e4d8-4a1a-a4b1-a3ced0a48091'</span>,\n",
       "            <span style=\"color: #008000; text-decoration-color: #008000\">'review_rating'</span>: <span style=\"color: #008080; text-decoration-color: #008080; font-weight: bold\">5</span>,\n",
       "            <span style=\"color: #008000; text-decoration-color: #008000\">'review_text'</span>: <span style=\"color: #008000; text-decoration-color: #008000\">'It is awesome'</span>,\n",
       "            <span style=\"color: #008000; text-decoration-color: #008000\">'timestamp'</span>: <span style=\"color: #008080; text-decoration-color: #008080; font-weight: bold\">1464445026.0</span>\n",
       "        <span style=\"font-weight: bold\">}</span>,\n",
       "        <span style=\"color: #808000; text-decoration-color: #808000\">vector</span>=<span style=\"color: #800080; text-decoration-color: #800080; font-style: italic\">None</span>,\n",
       "        <span style=\"color: #808000; text-decoration-color: #808000\">shard_key</span>=<span style=\"color: #800080; text-decoration-color: #800080; font-style: italic\">None</span>\n",
       "    <span style=\"font-weight: bold\">)</span>,\n",
       "    <span style=\"color: #800080; text-decoration-color: #800080; font-weight: bold\">ScoredPoint</span><span style=\"font-weight: bold\">(</span>\n",
       "        <span style=\"color: #808000; text-decoration-color: #808000\">id</span>=<span style=\"color: #008000; text-decoration-color: #008000\">'4d944640-157c-424e-aa06-8d37d9913995'</span>,\n",
       "        <span style=\"color: #808000; text-decoration-color: #808000\">version</span>=<span style=\"color: #008080; text-decoration-color: #008080; font-weight: bold\">1308</span>,\n",
       "        <span style=\"color: #808000; text-decoration-color: #808000\">score</span>=<span style=\"color: #008080; text-decoration-color: #008080; font-weight: bold\">0.5598812</span>,\n",
       "        <span style=\"color: #808000; text-decoration-color: #808000\">payload</span>=<span style=\"font-weight: bold\">{</span>\n",
       "            <span style=\"color: #008000; text-decoration-color: #008000\">'author_app_version'</span>: <span style=\"color: #008000; text-decoration-color: #008000\">''</span>,\n",
       "            <span style=\"color: #008000; text-decoration-color: #008000\">'label'</span>: <span style=\"color: #008000; text-decoration-color: #008000\">'excellent'</span>,\n",
       "            <span style=\"color: #008000; text-decoration-color: #008000\">'review_date'</span>: <span style=\"color: #008000; text-decoration-color: #008000\">'2018-11-10 18:26:42'</span>,\n",
       "            <span style=\"color: #008000; text-decoration-color: #008000\">'review_id'</span>: <span style=\"color: #008000; text-decoration-color: #008000\">'4d944640-157c-424e-aa06-8d37d9913995'</span>,\n",
       "            <span style=\"color: #008000; text-decoration-color: #008000\">'review_rating'</span>: <span style=\"color: #008080; text-decoration-color: #008080; font-weight: bold\">5</span>,\n",
       "            <span style=\"color: #008000; text-decoration-color: #008000\">'review_text'</span>: <span style=\"color: #008000; text-decoration-color: #008000\">'it is awesome'</span>,\n",
       "            <span style=\"color: #008000; text-decoration-color: #008000\">'timestamp'</span>: <span style=\"color: #008080; text-decoration-color: #008080; font-weight: bold\">1541870802.0</span>\n",
       "        <span style=\"font-weight: bold\">}</span>,\n",
       "        <span style=\"color: #808000; text-decoration-color: #808000\">vector</span>=<span style=\"color: #800080; text-decoration-color: #800080; font-style: italic\">None</span>,\n",
       "        <span style=\"color: #808000; text-decoration-color: #808000\">shard_key</span>=<span style=\"color: #800080; text-decoration-color: #800080; font-style: italic\">None</span>\n",
       "    <span style=\"font-weight: bold\">)</span>,\n",
       "    <span style=\"color: #800080; text-decoration-color: #800080; font-weight: bold\">ScoredPoint</span><span style=\"font-weight: bold\">(</span>\n",
       "        <span style=\"color: #808000; text-decoration-color: #808000\">id</span>=<span style=\"color: #008000; text-decoration-color: #008000\">'d6832d29-d51c-43f6-94ab-9d77e94ea30d'</span>,\n",
       "        <span style=\"color: #808000; text-decoration-color: #808000\">version</span>=<span style=\"color: #008080; text-decoration-color: #008080; font-weight: bold\">1029</span>,\n",
       "        <span style=\"color: #808000; text-decoration-color: #808000\">score</span>=<span style=\"color: #008080; text-decoration-color: #008080; font-weight: bold\">0.5598812</span>,\n",
       "        <span style=\"color: #808000; text-decoration-color: #808000\">payload</span>=<span style=\"font-weight: bold\">{</span>\n",
       "            <span style=\"color: #008000; text-decoration-color: #008000\">'author_app_version'</span>: <span style=\"color: #008000; text-decoration-color: #008000\">''</span>,\n",
       "            <span style=\"color: #008000; text-decoration-color: #008000\">'label'</span>: <span style=\"color: #008000; text-decoration-color: #008000\">'excellent'</span>,\n",
       "            <span style=\"color: #008000; text-decoration-color: #008000\">'review_date'</span>: <span style=\"color: #008000; text-decoration-color: #008000\">'2017-09-13 17:06:50'</span>,\n",
       "            <span style=\"color: #008000; text-decoration-color: #008000\">'review_id'</span>: <span style=\"color: #008000; text-decoration-color: #008000\">'d6832d29-d51c-43f6-94ab-9d77e94ea30d'</span>,\n",
       "            <span style=\"color: #008000; text-decoration-color: #008000\">'review_rating'</span>: <span style=\"color: #008080; text-decoration-color: #008080; font-weight: bold\">5</span>,\n",
       "            <span style=\"color: #008000; text-decoration-color: #008000\">'review_text'</span>: <span style=\"color: #008000; text-decoration-color: #008000\">'It is awesome'</span>,\n",
       "            <span style=\"color: #008000; text-decoration-color: #008000\">'timestamp'</span>: <span style=\"color: #008080; text-decoration-color: #008080; font-weight: bold\">1505318810.0</span>\n",
       "        <span style=\"font-weight: bold\">}</span>,\n",
       "        <span style=\"color: #808000; text-decoration-color: #808000\">vector</span>=<span style=\"color: #800080; text-decoration-color: #800080; font-style: italic\">None</span>,\n",
       "        <span style=\"color: #808000; text-decoration-color: #808000\">shard_key</span>=<span style=\"color: #800080; text-decoration-color: #800080; font-style: italic\">None</span>\n",
       "    <span style=\"font-weight: bold\">)</span>,\n",
       "    <span style=\"color: #800080; text-decoration-color: #800080; font-weight: bold\">ScoredPoint</span><span style=\"font-weight: bold\">(</span>\n",
       "        <span style=\"color: #808000; text-decoration-color: #808000\">id</span>=<span style=\"color: #008000; text-decoration-color: #008000\">'0c64ff15-87ba-4a16-8ec7-3f33abad26af'</span>,\n",
       "        <span style=\"color: #808000; text-decoration-color: #808000\">version</span>=<span style=\"color: #008080; text-decoration-color: #008080; font-weight: bold\">759</span>,\n",
       "        <span style=\"color: #808000; text-decoration-color: #808000\">score</span>=<span style=\"color: #008080; text-decoration-color: #008080; font-weight: bold\">0.5598812</span>,\n",
       "        <span style=\"color: #808000; text-decoration-color: #808000\">payload</span>=<span style=\"font-weight: bold\">{</span>\n",
       "            <span style=\"color: #008000; text-decoration-color: #008000\">'author_app_version'</span>: <span style=\"color: #008000; text-decoration-color: #008000\">''</span>,\n",
       "            <span style=\"color: #008000; text-decoration-color: #008000\">'label'</span>: <span style=\"color: #008000; text-decoration-color: #008000\">'excellent'</span>,\n",
       "            <span style=\"color: #008000; text-decoration-color: #008000\">'review_date'</span>: <span style=\"color: #008000; text-decoration-color: #008000\">'2016-10-03 20:39:32'</span>,\n",
       "            <span style=\"color: #008000; text-decoration-color: #008000\">'review_id'</span>: <span style=\"color: #008000; text-decoration-color: #008000\">'0c64ff15-87ba-4a16-8ec7-3f33abad26af'</span>,\n",
       "            <span style=\"color: #008000; text-decoration-color: #008000\">'review_rating'</span>: <span style=\"color: #008080; text-decoration-color: #008080; font-weight: bold\">5</span>,\n",
       "            <span style=\"color: #008000; text-decoration-color: #008000\">'review_text'</span>: <span style=\"color: #008000; text-decoration-color: #008000\">'It is awesome'</span>,\n",
       "            <span style=\"color: #008000; text-decoration-color: #008000\">'timestamp'</span>: <span style=\"color: #008080; text-decoration-color: #008080; font-weight: bold\">1475523572.0</span>\n",
       "        <span style=\"font-weight: bold\">}</span>,\n",
       "        <span style=\"color: #808000; text-decoration-color: #808000\">vector</span>=<span style=\"color: #800080; text-decoration-color: #800080; font-style: italic\">None</span>,\n",
       "        <span style=\"color: #808000; text-decoration-color: #808000\">shard_key</span>=<span style=\"color: #800080; text-decoration-color: #800080; font-style: italic\">None</span>\n",
       "    <span style=\"font-weight: bold\">)</span>,\n",
       "    <span style=\"color: #800080; text-decoration-color: #800080; font-weight: bold\">ScoredPoint</span><span style=\"font-weight: bold\">(</span>\n",
       "        <span style=\"color: #808000; text-decoration-color: #808000\">id</span>=<span style=\"color: #008000; text-decoration-color: #008000\">'7887d089-e0d5-4d84-beb8-13e627b847ef'</span>,\n",
       "        <span style=\"color: #808000; text-decoration-color: #808000\">version</span>=<span style=\"color: #008080; text-decoration-color: #008080; font-weight: bold\">1011</span>,\n",
       "        <span style=\"color: #808000; text-decoration-color: #808000\">score</span>=<span style=\"color: #008080; text-decoration-color: #008080; font-weight: bold\">0.5598812</span>,\n",
       "        <span style=\"color: #808000; text-decoration-color: #808000\">payload</span>=<span style=\"font-weight: bold\">{</span>\n",
       "            <span style=\"color: #008000; text-decoration-color: #008000\">'author_app_version'</span>: <span style=\"color: #008000; text-decoration-color: #008000\">'5.2.0 build 19086'</span>,\n",
       "            <span style=\"color: #008000; text-decoration-color: #008000\">'label'</span>: <span style=\"color: #008000; text-decoration-color: #008000\">'excellent'</span>,\n",
       "            <span style=\"color: #008000; text-decoration-color: #008000\">'review_date'</span>: <span style=\"color: #008000; text-decoration-color: #008000\">'2017-08-13 04:51:06'</span>,\n",
       "            <span style=\"color: #008000; text-decoration-color: #008000\">'review_id'</span>: <span style=\"color: #008000; text-decoration-color: #008000\">'7887d089-e0d5-4d84-beb8-13e627b847ef'</span>,\n",
       "            <span style=\"color: #008000; text-decoration-color: #008000\">'review_rating'</span>: <span style=\"color: #008080; text-decoration-color: #008080; font-weight: bold\">5</span>,\n",
       "            <span style=\"color: #008000; text-decoration-color: #008000\">'review_text'</span>: <span style=\"color: #008000; text-decoration-color: #008000\">'It is awesome'</span>,\n",
       "            <span style=\"color: #008000; text-decoration-color: #008000\">'timestamp'</span>: <span style=\"color: #008080; text-decoration-color: #008080; font-weight: bold\">1502596266.0</span>\n",
       "        <span style=\"font-weight: bold\">}</span>,\n",
       "        <span style=\"color: #808000; text-decoration-color: #808000\">vector</span>=<span style=\"color: #800080; text-decoration-color: #800080; font-style: italic\">None</span>,\n",
       "        <span style=\"color: #808000; text-decoration-color: #808000\">shard_key</span>=<span style=\"color: #800080; text-decoration-color: #800080; font-style: italic\">None</span>\n",
       "    <span style=\"font-weight: bold\">)</span>,\n",
       "    <span style=\"color: #800080; text-decoration-color: #800080; font-weight: bold\">ScoredPoint</span><span style=\"font-weight: bold\">(</span>\n",
       "        <span style=\"color: #808000; text-decoration-color: #808000\">id</span>=<span style=\"color: #008000; text-decoration-color: #008000\">'b70e6ba0-ad89-41be-ad08-6635dd3f9706'</span>,\n",
       "        <span style=\"color: #808000; text-decoration-color: #808000\">version</span>=<span style=\"color: #008080; text-decoration-color: #008080; font-weight: bold\">1189</span>,\n",
       "        <span style=\"color: #808000; text-decoration-color: #808000\">score</span>=<span style=\"color: #008080; text-decoration-color: #008080; font-weight: bold\">0.5598812</span>,\n",
       "        <span style=\"color: #808000; text-decoration-color: #808000\">payload</span>=<span style=\"font-weight: bold\">{</span>\n",
       "            <span style=\"color: #008000; text-decoration-color: #008000\">'author_app_version'</span>: <span style=\"color: #008000; text-decoration-color: #008000\">'6.2.1 build 27557'</span>,\n",
       "            <span style=\"color: #008000; text-decoration-color: #008000\">'label'</span>: <span style=\"color: #008000; text-decoration-color: #008000\">'excellent'</span>,\n",
       "            <span style=\"color: #008000; text-decoration-color: #008000\">'review_date'</span>: <span style=\"color: #008000; text-decoration-color: #008000\">'2018-05-29 19:52:46'</span>,\n",
       "            <span style=\"color: #008000; text-decoration-color: #008000\">'review_id'</span>: <span style=\"color: #008000; text-decoration-color: #008000\">'b70e6ba0-ad89-41be-ad08-6635dd3f9706'</span>,\n",
       "            <span style=\"color: #008000; text-decoration-color: #008000\">'review_rating'</span>: <span style=\"color: #008080; text-decoration-color: #008080; font-weight: bold\">5</span>,\n",
       "            <span style=\"color: #008000; text-decoration-color: #008000\">'review_text'</span>: <span style=\"color: #008000; text-decoration-color: #008000\">'It is awesome'</span>,\n",
       "            <span style=\"color: #008000; text-decoration-color: #008000\">'timestamp'</span>: <span style=\"color: #008080; text-decoration-color: #008080; font-weight: bold\">1527619966.0</span>\n",
       "        <span style=\"font-weight: bold\">}</span>,\n",
       "        <span style=\"color: #808000; text-decoration-color: #808000\">vector</span>=<span style=\"color: #800080; text-decoration-color: #800080; font-style: italic\">None</span>,\n",
       "        <span style=\"color: #808000; text-decoration-color: #808000\">shard_key</span>=<span style=\"color: #800080; text-decoration-color: #800080; font-style: italic\">None</span>\n",
       "    <span style=\"font-weight: bold\">)</span>,\n",
       "    <span style=\"color: #800080; text-decoration-color: #800080; font-weight: bold\">ScoredPoint</span><span style=\"font-weight: bold\">(</span>\n",
       "        <span style=\"color: #808000; text-decoration-color: #808000\">id</span>=<span style=\"color: #008000; text-decoration-color: #008000\">'5c4204b7-0fa1-4702-89d3-adfda22ce62b'</span>,\n",
       "        <span style=\"color: #808000; text-decoration-color: #808000\">version</span>=<span style=\"color: #008080; text-decoration-color: #008080; font-weight: bold\">1139</span>,\n",
       "        <span style=\"color: #808000; text-decoration-color: #808000\">score</span>=<span style=\"color: #008080; text-decoration-color: #008080; font-weight: bold\">0.5598812</span>,\n",
       "        <span style=\"color: #808000; text-decoration-color: #808000\">payload</span>=<span style=\"font-weight: bold\">{</span>\n",
       "            <span style=\"color: #008000; text-decoration-color: #008000\">'author_app_version'</span>: <span style=\"color: #008000; text-decoration-color: #008000\">'5.14.1 build 25955'</span>,\n",
       "            <span style=\"color: #008000; text-decoration-color: #008000\">'label'</span>: <span style=\"color: #008000; text-decoration-color: #008000\">'excellent'</span>,\n",
       "            <span style=\"color: #008000; text-decoration-color: #008000\">'review_date'</span>: <span style=\"color: #008000; text-decoration-color: #008000\">'2018-03-10 15:49:42'</span>,\n",
       "            <span style=\"color: #008000; text-decoration-color: #008000\">'review_id'</span>: <span style=\"color: #008000; text-decoration-color: #008000\">'5c4204b7-0fa1-4702-89d3-adfda22ce62b'</span>,\n",
       "            <span style=\"color: #008000; text-decoration-color: #008000\">'review_rating'</span>: <span style=\"color: #008080; text-decoration-color: #008080; font-weight: bold\">5</span>,\n",
       "            <span style=\"color: #008000; text-decoration-color: #008000\">'review_text'</span>: <span style=\"color: #008000; text-decoration-color: #008000\">'It is awesome'</span>,\n",
       "            <span style=\"color: #008000; text-decoration-color: #008000\">'timestamp'</span>: <span style=\"color: #008080; text-decoration-color: #008080; font-weight: bold\">1520693382.0</span>\n",
       "        <span style=\"font-weight: bold\">}</span>,\n",
       "        <span style=\"color: #808000; text-decoration-color: #808000\">vector</span>=<span style=\"color: #800080; text-decoration-color: #800080; font-style: italic\">None</span>,\n",
       "        <span style=\"color: #808000; text-decoration-color: #808000\">shard_key</span>=<span style=\"color: #800080; text-decoration-color: #800080; font-style: italic\">None</span>\n",
       "    <span style=\"font-weight: bold\">)</span>,\n",
       "    <span style=\"color: #800080; text-decoration-color: #800080; font-weight: bold\">ScoredPoint</span><span style=\"font-weight: bold\">(</span>\n",
       "        <span style=\"color: #808000; text-decoration-color: #808000\">id</span>=<span style=\"color: #008000; text-decoration-color: #008000\">'428e6994-9457-4adf-a086-7528e3ff14c8'</span>,\n",
       "        <span style=\"color: #808000; text-decoration-color: #808000\">version</span>=<span style=\"color: #008080; text-decoration-color: #008080; font-weight: bold\">656</span>,\n",
       "        <span style=\"color: #808000; text-decoration-color: #808000\">score</span>=<span style=\"color: #008080; text-decoration-color: #008080; font-weight: bold\">0.5598812</span>,\n",
       "        <span style=\"color: #808000; text-decoration-color: #808000\">payload</span>=<span style=\"font-weight: bold\">{</span>\n",
       "            <span style=\"color: #008000; text-decoration-color: #008000\">'author_app_version'</span>: <span style=\"color: #008000; text-decoration-color: #008000\">''</span>,\n",
       "            <span style=\"color: #008000; text-decoration-color: #008000\">'label'</span>: <span style=\"color: #008000; text-decoration-color: #008000\">'excellent'</span>,\n",
       "            <span style=\"color: #008000; text-decoration-color: #008000\">'review_date'</span>: <span style=\"color: #008000; text-decoration-color: #008000\">'2016-03-28 19:08:31'</span>,\n",
       "            <span style=\"color: #008000; text-decoration-color: #008000\">'review_id'</span>: <span style=\"color: #008000; text-decoration-color: #008000\">'428e6994-9457-4adf-a086-7528e3ff14c8'</span>,\n",
       "            <span style=\"color: #008000; text-decoration-color: #008000\">'review_rating'</span>: <span style=\"color: #008080; text-decoration-color: #008080; font-weight: bold\">5</span>,\n",
       "            <span style=\"color: #008000; text-decoration-color: #008000\">'review_text'</span>: <span style=\"color: #008000; text-decoration-color: #008000\">'It is awesome'</span>,\n",
       "            <span style=\"color: #008000; text-decoration-color: #008000\">'timestamp'</span>: <span style=\"color: #008080; text-decoration-color: #008080; font-weight: bold\">1459188511.0</span>\n",
       "        <span style=\"font-weight: bold\">}</span>,\n",
       "        <span style=\"color: #808000; text-decoration-color: #808000\">vector</span>=<span style=\"color: #800080; text-decoration-color: #800080; font-style: italic\">None</span>,\n",
       "        <span style=\"color: #808000; text-decoration-color: #808000\">shard_key</span>=<span style=\"color: #800080; text-decoration-color: #800080; font-style: italic\">None</span>\n",
       "    <span style=\"font-weight: bold\">)</span>,\n",
       "    <span style=\"color: #800080; text-decoration-color: #800080; font-weight: bold\">ScoredPoint</span><span style=\"font-weight: bold\">(</span>\n",
       "        <span style=\"color: #808000; text-decoration-color: #808000\">id</span>=<span style=\"color: #008000; text-decoration-color: #008000\">'e1764225-c4b3-4482-b33e-8a024c4b7fc6'</span>,\n",
       "        <span style=\"color: #808000; text-decoration-color: #808000\">version</span>=<span style=\"color: #008080; text-decoration-color: #008080; font-weight: bold\">1099</span>,\n",
       "        <span style=\"color: #808000; text-decoration-color: #808000\">score</span>=<span style=\"color: #008080; text-decoration-color: #008080; font-weight: bold\">0.5598812</span>,\n",
       "        <span style=\"color: #808000; text-decoration-color: #808000\">payload</span>=<span style=\"font-weight: bold\">{</span>\n",
       "            <span style=\"color: #008000; text-decoration-color: #008000\">'author_app_version'</span>: <span style=\"color: #008000; text-decoration-color: #008000\">''</span>,\n",
       "            <span style=\"color: #008000; text-decoration-color: #008000\">'label'</span>: <span style=\"color: #008000; text-decoration-color: #008000\">'excellent'</span>,\n",
       "            <span style=\"color: #008000; text-decoration-color: #008000\">'review_date'</span>: <span style=\"color: #008000; text-decoration-color: #008000\">'2018-01-05 03:35:08'</span>,\n",
       "            <span style=\"color: #008000; text-decoration-color: #008000\">'review_id'</span>: <span style=\"color: #008000; text-decoration-color: #008000\">'e1764225-c4b3-4482-b33e-8a024c4b7fc6'</span>,\n",
       "            <span style=\"color: #008000; text-decoration-color: #008000\">'review_rating'</span>: <span style=\"color: #008080; text-decoration-color: #008080; font-weight: bold\">5</span>,\n",
       "            <span style=\"color: #008000; text-decoration-color: #008000\">'review_text'</span>: <span style=\"color: #008000; text-decoration-color: #008000\">'It is awesome'</span>,\n",
       "            <span style=\"color: #008000; text-decoration-color: #008000\">'timestamp'</span>: <span style=\"color: #008080; text-decoration-color: #008080; font-weight: bold\">1515119708.0</span>\n",
       "        <span style=\"font-weight: bold\">}</span>,\n",
       "        <span style=\"color: #808000; text-decoration-color: #808000\">vector</span>=<span style=\"color: #800080; text-decoration-color: #800080; font-style: italic\">None</span>,\n",
       "        <span style=\"color: #808000; text-decoration-color: #808000\">shard_key</span>=<span style=\"color: #800080; text-decoration-color: #800080; font-style: italic\">None</span>\n",
       "    <span style=\"font-weight: bold\">)</span>,\n",
       "    <span style=\"color: #800080; text-decoration-color: #800080; font-weight: bold\">ScoredPoint</span><span style=\"font-weight: bold\">(</span>\n",
       "        <span style=\"color: #808000; text-decoration-color: #808000\">id</span>=<span style=\"color: #008000; text-decoration-color: #008000\">'03bf0b98-653d-4c37-b54e-f3672c1ab152'</span>,\n",
       "        <span style=\"color: #808000; text-decoration-color: #808000\">version</span>=<span style=\"color: #008080; text-decoration-color: #008080; font-weight: bold\">1139</span>,\n",
       "        <span style=\"color: #808000; text-decoration-color: #808000\">score</span>=<span style=\"color: #008080; text-decoration-color: #008080; font-weight: bold\">0.5598812</span>,\n",
       "        <span style=\"color: #808000; text-decoration-color: #808000\">payload</span>=<span style=\"font-weight: bold\">{</span>\n",
       "            <span style=\"color: #008000; text-decoration-color: #008000\">'author_app_version'</span>: <span style=\"color: #008000; text-decoration-color: #008000\">''</span>,\n",
       "            <span style=\"color: #008000; text-decoration-color: #008000\">'label'</span>: <span style=\"color: #008000; text-decoration-color: #008000\">'excellent'</span>,\n",
       "            <span style=\"color: #008000; text-decoration-color: #008000\">'review_date'</span>: <span style=\"color: #008000; text-decoration-color: #008000\">'2018-03-10 01:15:18'</span>,\n",
       "            <span style=\"color: #008000; text-decoration-color: #008000\">'review_id'</span>: <span style=\"color: #008000; text-decoration-color: #008000\">'03bf0b98-653d-4c37-b54e-f3672c1ab152'</span>,\n",
       "            <span style=\"color: #008000; text-decoration-color: #008000\">'review_rating'</span>: <span style=\"color: #008080; text-decoration-color: #008080; font-weight: bold\">5</span>,\n",
       "            <span style=\"color: #008000; text-decoration-color: #008000\">'review_text'</span>: <span style=\"color: #008000; text-decoration-color: #008000\">'It is awesome'</span>,\n",
       "            <span style=\"color: #008000; text-decoration-color: #008000\">'timestamp'</span>: <span style=\"color: #008080; text-decoration-color: #008080; font-weight: bold\">1520640918.0</span>\n",
       "        <span style=\"font-weight: bold\">}</span>,\n",
       "        <span style=\"color: #808000; text-decoration-color: #808000\">vector</span>=<span style=\"color: #800080; text-decoration-color: #800080; font-style: italic\">None</span>,\n",
       "        <span style=\"color: #808000; text-decoration-color: #808000\">shard_key</span>=<span style=\"color: #800080; text-decoration-color: #800080; font-style: italic\">None</span>\n",
       "    <span style=\"font-weight: bold\">)</span>,\n",
       "    <span style=\"color: #800080; text-decoration-color: #800080; font-weight: bold\">ScoredPoint</span><span style=\"font-weight: bold\">(</span>\n",
       "        <span style=\"color: #808000; text-decoration-color: #808000\">id</span>=<span style=\"color: #008000; text-decoration-color: #008000\">'b23a8278-a595-4936-a7ca-8428ac8c7ca6'</span>,\n",
       "        <span style=\"color: #808000; text-decoration-color: #808000\">version</span>=<span style=\"color: #008080; text-decoration-color: #008080; font-weight: bold\">1121</span>,\n",
       "        <span style=\"color: #808000; text-decoration-color: #808000\">score</span>=<span style=\"color: #008080; text-decoration-color: #008080; font-weight: bold\">0.5598812</span>,\n",
       "        <span style=\"color: #808000; text-decoration-color: #808000\">payload</span>=<span style=\"font-weight: bold\">{</span>\n",
       "            <span style=\"color: #008000; text-decoration-color: #008000\">'author_app_version'</span>: <span style=\"color: #008000; text-decoration-color: #008000\">''</span>,\n",
       "            <span style=\"color: #008000; text-decoration-color: #008000\">'label'</span>: <span style=\"color: #008000; text-decoration-color: #008000\">'excellent'</span>,\n",
       "            <span style=\"color: #008000; text-decoration-color: #008000\">'review_date'</span>: <span style=\"color: #008000; text-decoration-color: #008000\">'2018-02-10 08:25:31'</span>,\n",
       "            <span style=\"color: #008000; text-decoration-color: #008000\">'review_id'</span>: <span style=\"color: #008000; text-decoration-color: #008000\">'b23a8278-a595-4936-a7ca-8428ac8c7ca6'</span>,\n",
       "            <span style=\"color: #008000; text-decoration-color: #008000\">'review_rating'</span>: <span style=\"color: #008080; text-decoration-color: #008080; font-weight: bold\">5</span>,\n",
       "            <span style=\"color: #008000; text-decoration-color: #008000\">'review_text'</span>: <span style=\"color: #008000; text-decoration-color: #008000\">'It is Awesome'</span>,\n",
       "            <span style=\"color: #008000; text-decoration-color: #008000\">'timestamp'</span>: <span style=\"color: #008080; text-decoration-color: #008080; font-weight: bold\">1518247531.0</span>\n",
       "        <span style=\"font-weight: bold\">}</span>,\n",
       "        <span style=\"color: #808000; text-decoration-color: #808000\">vector</span>=<span style=\"color: #800080; text-decoration-color: #800080; font-style: italic\">None</span>,\n",
       "        <span style=\"color: #808000; text-decoration-color: #808000\">shard_key</span>=<span style=\"color: #800080; text-decoration-color: #800080; font-style: italic\">None</span>\n",
       "    <span style=\"font-weight: bold\">)</span>,\n",
       "    <span style=\"color: #800080; text-decoration-color: #800080; font-weight: bold\">ScoredPoint</span><span style=\"font-weight: bold\">(</span>\n",
       "        <span style=\"color: #808000; text-decoration-color: #808000\">id</span>=<span style=\"color: #008000; text-decoration-color: #008000\">'db3e13ce-32b7-446d-b3ba-29b10741f459'</span>,\n",
       "        <span style=\"color: #808000; text-decoration-color: #808000\">version</span>=<span style=\"color: #008080; text-decoration-color: #008080; font-weight: bold\">1135</span>,\n",
       "        <span style=\"color: #808000; text-decoration-color: #808000\">score</span>=<span style=\"color: #008080; text-decoration-color: #008080; font-weight: bold\">0.5598812</span>,\n",
       "        <span style=\"color: #808000; text-decoration-color: #808000\">payload</span>=<span style=\"font-weight: bold\">{</span>\n",
       "            <span style=\"color: #008000; text-decoration-color: #008000\">'author_app_version'</span>: <span style=\"color: #008000; text-decoration-color: #008000\">'5.14.0 build 25948'</span>,\n",
       "            <span style=\"color: #008000; text-decoration-color: #008000\">'label'</span>: <span style=\"color: #008000; text-decoration-color: #008000\">'excellent'</span>,\n",
       "            <span style=\"color: #008000; text-decoration-color: #008000\">'review_date'</span>: <span style=\"color: #008000; text-decoration-color: #008000\">'2018-03-02 17:33:11'</span>,\n",
       "            <span style=\"color: #008000; text-decoration-color: #008000\">'review_id'</span>: <span style=\"color: #008000; text-decoration-color: #008000\">'db3e13ce-32b7-446d-b3ba-29b10741f459'</span>,\n",
       "            <span style=\"color: #008000; text-decoration-color: #008000\">'review_rating'</span>: <span style=\"color: #008080; text-decoration-color: #008080; font-weight: bold\">5</span>,\n",
       "            <span style=\"color: #008000; text-decoration-color: #008000\">'review_text'</span>: <span style=\"color: #008000; text-decoration-color: #008000\">'It is AWESOME'</span>,\n",
       "            <span style=\"color: #008000; text-decoration-color: #008000\">'timestamp'</span>: <span style=\"color: #008080; text-decoration-color: #008080; font-weight: bold\">1520008391.0</span>\n",
       "        <span style=\"font-weight: bold\">}</span>,\n",
       "        <span style=\"color: #808000; text-decoration-color: #808000\">vector</span>=<span style=\"color: #800080; text-decoration-color: #800080; font-style: italic\">None</span>,\n",
       "        <span style=\"color: #808000; text-decoration-color: #808000\">shard_key</span>=<span style=\"color: #800080; text-decoration-color: #800080; font-style: italic\">None</span>\n",
       "    <span style=\"font-weight: bold\">)</span>,\n",
       "    <span style=\"color: #800080; text-decoration-color: #800080; font-weight: bold\">ScoredPoint</span><span style=\"font-weight: bold\">(</span>\n",
       "        <span style=\"color: #808000; text-decoration-color: #808000\">id</span>=<span style=\"color: #008000; text-decoration-color: #008000\">'d06825e1-800d-45ee-96d1-b86b5f0bf94d'</span>,\n",
       "        <span style=\"color: #808000; text-decoration-color: #808000\">version</span>=<span style=\"color: #008080; text-decoration-color: #008080; font-weight: bold\">1224</span>,\n",
       "        <span style=\"color: #808000; text-decoration-color: #808000\">score</span>=<span style=\"color: #008080; text-decoration-color: #008080; font-weight: bold\">0.5598812</span>,\n",
       "        <span style=\"color: #808000; text-decoration-color: #808000\">payload</span>=<span style=\"font-weight: bold\">{</span>\n",
       "            <span style=\"color: #008000; text-decoration-color: #008000\">'author_app_version'</span>: <span style=\"color: #008000; text-decoration-color: #008000\">'6.7.2 build 28755'</span>,\n",
       "            <span style=\"color: #008000; text-decoration-color: #008000\">'label'</span>: <span style=\"color: #008000; text-decoration-color: #008000\">'excellent'</span>,\n",
       "            <span style=\"color: #008000; text-decoration-color: #008000\">'review_date'</span>: <span style=\"color: #008000; text-decoration-color: #008000\">'2018-07-21 16:19:13'</span>,\n",
       "            <span style=\"color: #008000; text-decoration-color: #008000\">'review_id'</span>: <span style=\"color: #008000; text-decoration-color: #008000\">'d06825e1-800d-45ee-96d1-b86b5f0bf94d'</span>,\n",
       "            <span style=\"color: #008000; text-decoration-color: #008000\">'review_rating'</span>: <span style=\"color: #008080; text-decoration-color: #008080; font-weight: bold\">5</span>,\n",
       "            <span style=\"color: #008000; text-decoration-color: #008000\">'review_text'</span>: <span style=\"color: #008000; text-decoration-color: #008000\">'It is awesome'</span>,\n",
       "            <span style=\"color: #008000; text-decoration-color: #008000\">'timestamp'</span>: <span style=\"color: #008080; text-decoration-color: #008080; font-weight: bold\">1532186353.0</span>\n",
       "        <span style=\"font-weight: bold\">}</span>,\n",
       "        <span style=\"color: #808000; text-decoration-color: #808000\">vector</span>=<span style=\"color: #800080; text-decoration-color: #800080; font-style: italic\">None</span>,\n",
       "        <span style=\"color: #808000; text-decoration-color: #808000\">shard_key</span>=<span style=\"color: #800080; text-decoration-color: #800080; font-style: italic\">None</span>\n",
       "    <span style=\"font-weight: bold\">)</span>,\n",
       "    <span style=\"color: #800080; text-decoration-color: #800080; font-weight: bold\">ScoredPoint</span><span style=\"font-weight: bold\">(</span>\n",
       "        <span style=\"color: #808000; text-decoration-color: #808000\">id</span>=<span style=\"color: #008000; text-decoration-color: #008000\">'0b9dd226-6fb2-4499-88ba-3cc778cc6e09'</span>,\n",
       "        <span style=\"color: #808000; text-decoration-color: #808000\">version</span>=<span style=\"color: #008080; text-decoration-color: #008080; font-weight: bold\">1203</span>,\n",
       "        <span style=\"color: #808000; text-decoration-color: #808000\">score</span>=<span style=\"color: #008080; text-decoration-color: #008080; font-weight: bold\">0.5598812</span>,\n",
       "        <span style=\"color: #808000; text-decoration-color: #808000\">payload</span>=<span style=\"font-weight: bold\">{</span>\n",
       "            <span style=\"color: #008000; text-decoration-color: #008000\">'author_app_version'</span>: <span style=\"color: #008000; text-decoration-color: #008000\">''</span>,\n",
       "            <span style=\"color: #008000; text-decoration-color: #008000\">'label'</span>: <span style=\"color: #008000; text-decoration-color: #008000\">'excellent'</span>,\n",
       "            <span style=\"color: #008000; text-decoration-color: #008000\">'review_date'</span>: <span style=\"color: #008000; text-decoration-color: #008000\">'2018-06-20 13:37:35'</span>,\n",
       "            <span style=\"color: #008000; text-decoration-color: #008000\">'review_id'</span>: <span style=\"color: #008000; text-decoration-color: #008000\">'0b9dd226-6fb2-4499-88ba-3cc778cc6e09'</span>,\n",
       "            <span style=\"color: #008000; text-decoration-color: #008000\">'review_rating'</span>: <span style=\"color: #008080; text-decoration-color: #008080; font-weight: bold\">5</span>,\n",
       "            <span style=\"color: #008000; text-decoration-color: #008000\">'review_text'</span>: <span style=\"color: #008000; text-decoration-color: #008000\">'It is awesome'</span>,\n",
       "            <span style=\"color: #008000; text-decoration-color: #008000\">'timestamp'</span>: <span style=\"color: #008080; text-decoration-color: #008080; font-weight: bold\">1529498255.0</span>\n",
       "        <span style=\"font-weight: bold\">}</span>,\n",
       "        <span style=\"color: #808000; text-decoration-color: #808000\">vector</span>=<span style=\"color: #800080; text-decoration-color: #800080; font-style: italic\">None</span>,\n",
       "        <span style=\"color: #808000; text-decoration-color: #808000\">shard_key</span>=<span style=\"color: #800080; text-decoration-color: #800080; font-style: italic\">None</span>\n",
       "    <span style=\"font-weight: bold\">)</span>,\n",
       "    <span style=\"color: #800080; text-decoration-color: #800080; font-weight: bold\">ScoredPoint</span><span style=\"font-weight: bold\">(</span>\n",
       "        <span style=\"color: #808000; text-decoration-color: #808000\">id</span>=<span style=\"color: #008000; text-decoration-color: #008000\">'c1f2e4a9-c935-4543-988f-cc939a52b185'</span>,\n",
       "        <span style=\"color: #808000; text-decoration-color: #808000\">version</span>=<span style=\"color: #008080; text-decoration-color: #008080; font-weight: bold\">1219</span>,\n",
       "        <span style=\"color: #808000; text-decoration-color: #808000\">score</span>=<span style=\"color: #008080; text-decoration-color: #008080; font-weight: bold\">0.5598812</span>,\n",
       "        <span style=\"color: #808000; text-decoration-color: #808000\">payload</span>=<span style=\"font-weight: bold\">{</span>\n",
       "            <span style=\"color: #008000; text-decoration-color: #008000\">'author_app_version'</span>: <span style=\"color: #008000; text-decoration-color: #008000\">'6.6.1 build 28551'</span>,\n",
       "            <span style=\"color: #008000; text-decoration-color: #008000\">'label'</span>: <span style=\"color: #008000; text-decoration-color: #008000\">'excellent'</span>,\n",
       "            <span style=\"color: #008000; text-decoration-color: #008000\">'review_date'</span>: <span style=\"color: #008000; text-decoration-color: #008000\">'2018-07-15 05:08:19'</span>,\n",
       "            <span style=\"color: #008000; text-decoration-color: #008000\">'review_id'</span>: <span style=\"color: #008000; text-decoration-color: #008000\">'c1f2e4a9-c935-4543-988f-cc939a52b185'</span>,\n",
       "            <span style=\"color: #008000; text-decoration-color: #008000\">'review_rating'</span>: <span style=\"color: #008080; text-decoration-color: #008080; font-weight: bold\">5</span>,\n",
       "            <span style=\"color: #008000; text-decoration-color: #008000\">'review_text'</span>: <span style=\"color: #008000; text-decoration-color: #008000\">'It is awesome'</span>,\n",
       "            <span style=\"color: #008000; text-decoration-color: #008000\">'timestamp'</span>: <span style=\"color: #008080; text-decoration-color: #008080; font-weight: bold\">1531627699.0</span>\n",
       "        <span style=\"font-weight: bold\">}</span>,\n",
       "        <span style=\"color: #808000; text-decoration-color: #808000\">vector</span>=<span style=\"color: #800080; text-decoration-color: #800080; font-style: italic\">None</span>,\n",
       "        <span style=\"color: #808000; text-decoration-color: #808000\">shard_key</span>=<span style=\"color: #800080; text-decoration-color: #800080; font-style: italic\">None</span>\n",
       "    <span style=\"font-weight: bold\">)</span>,\n",
       "    <span style=\"color: #800080; text-decoration-color: #800080; font-weight: bold\">ScoredPoint</span><span style=\"font-weight: bold\">(</span>\n",
       "        <span style=\"color: #808000; text-decoration-color: #808000\">id</span>=<span style=\"color: #008000; text-decoration-color: #008000\">'f1c09753-93c4-417d-845c-e5ddfe2c0f41'</span>,\n",
       "        <span style=\"color: #808000; text-decoration-color: #808000\">version</span>=<span style=\"color: #008080; text-decoration-color: #008080; font-weight: bold\">885</span>,\n",
       "        <span style=\"color: #808000; text-decoration-color: #808000\">score</span>=<span style=\"color: #008080; text-decoration-color: #008080; font-weight: bold\">0.5598812</span>,\n",
       "        <span style=\"color: #808000; text-decoration-color: #808000\">payload</span>=<span style=\"font-weight: bold\">{</span>\n",
       "            <span style=\"color: #008000; text-decoration-color: #008000\">'author_app_version'</span>: <span style=\"color: #008000; text-decoration-color: #008000\">'4.13.3 build 14573'</span>,\n",
       "            <span style=\"color: #008000; text-decoration-color: #008000\">'label'</span>: <span style=\"color: #008000; text-decoration-color: #008000\">'excellent'</span>,\n",
       "            <span style=\"color: #008000; text-decoration-color: #008000\">'review_date'</span>: <span style=\"color: #008000; text-decoration-color: #008000\">'2017-03-25 19:43:16'</span>,\n",
       "            <span style=\"color: #008000; text-decoration-color: #008000\">'review_id'</span>: <span style=\"color: #008000; text-decoration-color: #008000\">'f1c09753-93c4-417d-845c-e5ddfe2c0f41'</span>,\n",
       "            <span style=\"color: #008000; text-decoration-color: #008000\">'review_rating'</span>: <span style=\"color: #008080; text-decoration-color: #008080; font-weight: bold\">5</span>,\n",
       "            <span style=\"color: #008000; text-decoration-color: #008000\">'review_text'</span>: <span style=\"color: #008000; text-decoration-color: #008000\">'IT IS AWESOME'</span>,\n",
       "            <span style=\"color: #008000; text-decoration-color: #008000\">'timestamp'</span>: <span style=\"color: #008080; text-decoration-color: #008080; font-weight: bold\">1490467396.0</span>\n",
       "        <span style=\"font-weight: bold\">}</span>,\n",
       "        <span style=\"color: #808000; text-decoration-color: #808000\">vector</span>=<span style=\"color: #800080; text-decoration-color: #800080; font-style: italic\">None</span>,\n",
       "        <span style=\"color: #808000; text-decoration-color: #808000\">shard_key</span>=<span style=\"color: #800080; text-decoration-color: #800080; font-style: italic\">None</span>\n",
       "    <span style=\"font-weight: bold\">)</span>,\n",
       "    <span style=\"color: #800080; text-decoration-color: #800080; font-weight: bold\">ScoredPoint</span><span style=\"font-weight: bold\">(</span>\n",
       "        <span style=\"color: #808000; text-decoration-color: #808000\">id</span>=<span style=\"color: #008000; text-decoration-color: #008000\">'73d0444b-bb31-4784-a1cc-36ad8f184fcc'</span>,\n",
       "        <span style=\"color: #808000; text-decoration-color: #808000\">version</span>=<span style=\"color: #008080; text-decoration-color: #008080; font-weight: bold\">480</span>,\n",
       "        <span style=\"color: #808000; text-decoration-color: #808000\">score</span>=<span style=\"color: #008080; text-decoration-color: #008080; font-weight: bold\">0.5598812</span>,\n",
       "        <span style=\"color: #808000; text-decoration-color: #808000\">payload</span>=<span style=\"font-weight: bold\">{</span>\n",
       "            <span style=\"color: #008000; text-decoration-color: #008000\">'author_app_version'</span>: <span style=\"color: #008000; text-decoration-color: #008000\">''</span>,\n",
       "            <span style=\"color: #008000; text-decoration-color: #008000\">'label'</span>: <span style=\"color: #008000; text-decoration-color: #008000\">'excellent'</span>,\n",
       "            <span style=\"color: #008000; text-decoration-color: #008000\">'review_date'</span>: <span style=\"color: #008000; text-decoration-color: #008000\">'2015-01-21 04:01:20'</span>,\n",
       "            <span style=\"color: #008000; text-decoration-color: #008000\">'review_id'</span>: <span style=\"color: #008000; text-decoration-color: #008000\">'73d0444b-bb31-4784-a1cc-36ad8f184fcc'</span>,\n",
       "            <span style=\"color: #008000; text-decoration-color: #008000\">'review_rating'</span>: <span style=\"color: #008080; text-decoration-color: #008080; font-weight: bold\">5</span>,\n",
       "            <span style=\"color: #008000; text-decoration-color: #008000\">'review_text'</span>: <span style=\"color: #008000; text-decoration-color: #008000\">'It is awesome'</span>,\n",
       "            <span style=\"color: #008000; text-decoration-color: #008000\">'timestamp'</span>: <span style=\"color: #008080; text-decoration-color: #008080; font-weight: bold\">1421809280.0</span>\n",
       "        <span style=\"font-weight: bold\">}</span>,\n",
       "        <span style=\"color: #808000; text-decoration-color: #808000\">vector</span>=<span style=\"color: #800080; text-decoration-color: #800080; font-style: italic\">None</span>,\n",
       "        <span style=\"color: #808000; text-decoration-color: #808000\">shard_key</span>=<span style=\"color: #800080; text-decoration-color: #800080; font-style: italic\">None</span>\n",
       "    <span style=\"font-weight: bold\">)</span>,\n",
       "    <span style=\"color: #800080; text-decoration-color: #800080; font-weight: bold\">ScoredPoint</span><span style=\"font-weight: bold\">(</span>\n",
       "        <span style=\"color: #808000; text-decoration-color: #808000\">id</span>=<span style=\"color: #008000; text-decoration-color: #008000\">'a3001b30-1bbd-42ba-ace9-b4932169418d'</span>,\n",
       "        <span style=\"color: #808000; text-decoration-color: #808000\">version</span>=<span style=\"color: #008080; text-decoration-color: #008080; font-weight: bold\">871</span>,\n",
       "        <span style=\"color: #808000; text-decoration-color: #808000\">score</span>=<span style=\"color: #008080; text-decoration-color: #008080; font-weight: bold\">0.5598812</span>,\n",
       "        <span style=\"color: #808000; text-decoration-color: #808000\">payload</span>=<span style=\"font-weight: bold\">{</span>\n",
       "            <span style=\"color: #008000; text-decoration-color: #008000\">'author_app_version'</span>: <span style=\"color: #008000; text-decoration-color: #008000\">'4.13.2 build 14565'</span>,\n",
       "            <span style=\"color: #008000; text-decoration-color: #008000\">'label'</span>: <span style=\"color: #008000; text-decoration-color: #008000\">'excellent'</span>,\n",
       "            <span style=\"color: #008000; text-decoration-color: #008000\">'review_date'</span>: <span style=\"color: #008000; text-decoration-color: #008000\">'2017-03-09 20:59:42'</span>,\n",
       "            <span style=\"color: #008000; text-decoration-color: #008000\">'review_id'</span>: <span style=\"color: #008000; text-decoration-color: #008000\">'a3001b30-1bbd-42ba-ace9-b4932169418d'</span>,\n",
       "            <span style=\"color: #008000; text-decoration-color: #008000\">'review_rating'</span>: <span style=\"color: #008080; text-decoration-color: #008080; font-weight: bold\">5</span>,\n",
       "            <span style=\"color: #008000; text-decoration-color: #008000\">'review_text'</span>: <span style=\"color: #008000; text-decoration-color: #008000\">'It is awesome'</span>,\n",
       "            <span style=\"color: #008000; text-decoration-color: #008000\">'timestamp'</span>: <span style=\"color: #008080; text-decoration-color: #008080; font-weight: bold\">1489089582.0</span>\n",
       "        <span style=\"font-weight: bold\">}</span>,\n",
       "        <span style=\"color: #808000; text-decoration-color: #808000\">vector</span>=<span style=\"color: #800080; text-decoration-color: #800080; font-style: italic\">None</span>,\n",
       "        <span style=\"color: #808000; text-decoration-color: #808000\">shard_key</span>=<span style=\"color: #800080; text-decoration-color: #800080; font-style: italic\">None</span>\n",
       "    <span style=\"font-weight: bold\">)</span>\n",
       "<span style=\"font-weight: bold\">]</span>\n",
       "</pre>\n"
      ],
      "text/plain": [
       "\u001b[1m[\u001b[0m\n",
       "    \u001b[1;35mScoredPoint\u001b[0m\u001b[1m(\u001b[0m\n",
       "        \u001b[33mid\u001b[0m=\u001b[32m'd63eeef6-0830-4404-af3e-36a2fe004f8e'\u001b[0m,\n",
       "        \u001b[33mversion\u001b[0m=\u001b[1;36m695\u001b[0m,\n",
       "        \u001b[33mscore\u001b[0m=\u001b[1;36m0\u001b[0m\u001b[1;36m.5598812\u001b[0m,\n",
       "        \u001b[33mpayload\u001b[0m=\u001b[1m{\u001b[0m\n",
       "            \u001b[32m'author_app_version'\u001b[0m: \u001b[32m'4.5.1 build 7734'\u001b[0m,\n",
       "            \u001b[32m'label'\u001b[0m: \u001b[32m'excellent'\u001b[0m,\n",
       "            \u001b[32m'review_date'\u001b[0m: \u001b[32m'2016-06-11 15:16:46'\u001b[0m,\n",
       "            \u001b[32m'review_id'\u001b[0m: \u001b[32m'd63eeef6-0830-4404-af3e-36a2fe004f8e'\u001b[0m,\n",
       "            \u001b[32m'review_rating'\u001b[0m: \u001b[1;36m5\u001b[0m,\n",
       "            \u001b[32m'review_text'\u001b[0m: \u001b[32m'It is awesome'\u001b[0m,\n",
       "            \u001b[32m'timestamp'\u001b[0m: \u001b[1;36m1465654606.0\u001b[0m\n",
       "        \u001b[1m}\u001b[0m,\n",
       "        \u001b[33mvector\u001b[0m=\u001b[3;35mNone\u001b[0m,\n",
       "        \u001b[33mshard_key\u001b[0m=\u001b[3;35mNone\u001b[0m\n",
       "    \u001b[1m)\u001b[0m,\n",
       "    \u001b[1;35mScoredPoint\u001b[0m\u001b[1m(\u001b[0m\n",
       "        \u001b[33mid\u001b[0m=\u001b[32m'b57ce3d2-b3b7-47cd-a985-5629ff327457'\u001b[0m,\n",
       "        \u001b[33mversion\u001b[0m=\u001b[1;36m872\u001b[0m,\n",
       "        \u001b[33mscore\u001b[0m=\u001b[1;36m0\u001b[0m\u001b[1;36m.5598812\u001b[0m,\n",
       "        \u001b[33mpayload\u001b[0m=\u001b[1m{\u001b[0m\n",
       "            \u001b[32m'author_app_version'\u001b[0m: \u001b[32m''\u001b[0m,\n",
       "            \u001b[32m'label'\u001b[0m: \u001b[32m'excellent'\u001b[0m,\n",
       "            \u001b[32m'review_date'\u001b[0m: \u001b[32m'2017-03-10 02:09:37'\u001b[0m,\n",
       "            \u001b[32m'review_id'\u001b[0m: \u001b[32m'b57ce3d2-b3b7-47cd-a985-5629ff327457'\u001b[0m,\n",
       "            \u001b[32m'review_rating'\u001b[0m: \u001b[1;36m5\u001b[0m,\n",
       "            \u001b[32m'review_text'\u001b[0m: \u001b[32m'It is awesome'\u001b[0m,\n",
       "            \u001b[32m'timestamp'\u001b[0m: \u001b[1;36m1489108177.0\u001b[0m\n",
       "        \u001b[1m}\u001b[0m,\n",
       "        \u001b[33mvector\u001b[0m=\u001b[3;35mNone\u001b[0m,\n",
       "        \u001b[33mshard_key\u001b[0m=\u001b[3;35mNone\u001b[0m\n",
       "    \u001b[1m)\u001b[0m,\n",
       "    \u001b[1;35mScoredPoint\u001b[0m\u001b[1m(\u001b[0m\n",
       "        \u001b[33mid\u001b[0m=\u001b[32m'6e630e51-e4d8-4a1a-a4b1-a3ced0a48091'\u001b[0m,\n",
       "        \u001b[33mversion\u001b[0m=\u001b[1;36m683\u001b[0m,\n",
       "        \u001b[33mscore\u001b[0m=\u001b[1;36m0\u001b[0m\u001b[1;36m.5598812\u001b[0m,\n",
       "        \u001b[33mpayload\u001b[0m=\u001b[1m{\u001b[0m\n",
       "            \u001b[32m'author_app_version'\u001b[0m: \u001b[32m'4.4.1 build 7647'\u001b[0m,\n",
       "            \u001b[32m'label'\u001b[0m: \u001b[32m'excellent'\u001b[0m,\n",
       "            \u001b[32m'review_date'\u001b[0m: \u001b[32m'2016-05-28 15:17:06'\u001b[0m,\n",
       "            \u001b[32m'review_id'\u001b[0m: \u001b[32m'6e630e51-e4d8-4a1a-a4b1-a3ced0a48091'\u001b[0m,\n",
       "            \u001b[32m'review_rating'\u001b[0m: \u001b[1;36m5\u001b[0m,\n",
       "            \u001b[32m'review_text'\u001b[0m: \u001b[32m'It is awesome'\u001b[0m,\n",
       "            \u001b[32m'timestamp'\u001b[0m: \u001b[1;36m1464445026.0\u001b[0m\n",
       "        \u001b[1m}\u001b[0m,\n",
       "        \u001b[33mvector\u001b[0m=\u001b[3;35mNone\u001b[0m,\n",
       "        \u001b[33mshard_key\u001b[0m=\u001b[3;35mNone\u001b[0m\n",
       "    \u001b[1m)\u001b[0m,\n",
       "    \u001b[1;35mScoredPoint\u001b[0m\u001b[1m(\u001b[0m\n",
       "        \u001b[33mid\u001b[0m=\u001b[32m'4d944640-157c-424e-aa06-8d37d9913995'\u001b[0m,\n",
       "        \u001b[33mversion\u001b[0m=\u001b[1;36m1308\u001b[0m,\n",
       "        \u001b[33mscore\u001b[0m=\u001b[1;36m0\u001b[0m\u001b[1;36m.5598812\u001b[0m,\n",
       "        \u001b[33mpayload\u001b[0m=\u001b[1m{\u001b[0m\n",
       "            \u001b[32m'author_app_version'\u001b[0m: \u001b[32m''\u001b[0m,\n",
       "            \u001b[32m'label'\u001b[0m: \u001b[32m'excellent'\u001b[0m,\n",
       "            \u001b[32m'review_date'\u001b[0m: \u001b[32m'2018-11-10 18:26:42'\u001b[0m,\n",
       "            \u001b[32m'review_id'\u001b[0m: \u001b[32m'4d944640-157c-424e-aa06-8d37d9913995'\u001b[0m,\n",
       "            \u001b[32m'review_rating'\u001b[0m: \u001b[1;36m5\u001b[0m,\n",
       "            \u001b[32m'review_text'\u001b[0m: \u001b[32m'it is awesome'\u001b[0m,\n",
       "            \u001b[32m'timestamp'\u001b[0m: \u001b[1;36m1541870802.0\u001b[0m\n",
       "        \u001b[1m}\u001b[0m,\n",
       "        \u001b[33mvector\u001b[0m=\u001b[3;35mNone\u001b[0m,\n",
       "        \u001b[33mshard_key\u001b[0m=\u001b[3;35mNone\u001b[0m\n",
       "    \u001b[1m)\u001b[0m,\n",
       "    \u001b[1;35mScoredPoint\u001b[0m\u001b[1m(\u001b[0m\n",
       "        \u001b[33mid\u001b[0m=\u001b[32m'd6832d29-d51c-43f6-94ab-9d77e94ea30d'\u001b[0m,\n",
       "        \u001b[33mversion\u001b[0m=\u001b[1;36m1029\u001b[0m,\n",
       "        \u001b[33mscore\u001b[0m=\u001b[1;36m0\u001b[0m\u001b[1;36m.5598812\u001b[0m,\n",
       "        \u001b[33mpayload\u001b[0m=\u001b[1m{\u001b[0m\n",
       "            \u001b[32m'author_app_version'\u001b[0m: \u001b[32m''\u001b[0m,\n",
       "            \u001b[32m'label'\u001b[0m: \u001b[32m'excellent'\u001b[0m,\n",
       "            \u001b[32m'review_date'\u001b[0m: \u001b[32m'2017-09-13 17:06:50'\u001b[0m,\n",
       "            \u001b[32m'review_id'\u001b[0m: \u001b[32m'd6832d29-d51c-43f6-94ab-9d77e94ea30d'\u001b[0m,\n",
       "            \u001b[32m'review_rating'\u001b[0m: \u001b[1;36m5\u001b[0m,\n",
       "            \u001b[32m'review_text'\u001b[0m: \u001b[32m'It is awesome'\u001b[0m,\n",
       "            \u001b[32m'timestamp'\u001b[0m: \u001b[1;36m1505318810.0\u001b[0m\n",
       "        \u001b[1m}\u001b[0m,\n",
       "        \u001b[33mvector\u001b[0m=\u001b[3;35mNone\u001b[0m,\n",
       "        \u001b[33mshard_key\u001b[0m=\u001b[3;35mNone\u001b[0m\n",
       "    \u001b[1m)\u001b[0m,\n",
       "    \u001b[1;35mScoredPoint\u001b[0m\u001b[1m(\u001b[0m\n",
       "        \u001b[33mid\u001b[0m=\u001b[32m'0c64ff15-87ba-4a16-8ec7-3f33abad26af'\u001b[0m,\n",
       "        \u001b[33mversion\u001b[0m=\u001b[1;36m759\u001b[0m,\n",
       "        \u001b[33mscore\u001b[0m=\u001b[1;36m0\u001b[0m\u001b[1;36m.5598812\u001b[0m,\n",
       "        \u001b[33mpayload\u001b[0m=\u001b[1m{\u001b[0m\n",
       "            \u001b[32m'author_app_version'\u001b[0m: \u001b[32m''\u001b[0m,\n",
       "            \u001b[32m'label'\u001b[0m: \u001b[32m'excellent'\u001b[0m,\n",
       "            \u001b[32m'review_date'\u001b[0m: \u001b[32m'2016-10-03 20:39:32'\u001b[0m,\n",
       "            \u001b[32m'review_id'\u001b[0m: \u001b[32m'0c64ff15-87ba-4a16-8ec7-3f33abad26af'\u001b[0m,\n",
       "            \u001b[32m'review_rating'\u001b[0m: \u001b[1;36m5\u001b[0m,\n",
       "            \u001b[32m'review_text'\u001b[0m: \u001b[32m'It is awesome'\u001b[0m,\n",
       "            \u001b[32m'timestamp'\u001b[0m: \u001b[1;36m1475523572.0\u001b[0m\n",
       "        \u001b[1m}\u001b[0m,\n",
       "        \u001b[33mvector\u001b[0m=\u001b[3;35mNone\u001b[0m,\n",
       "        \u001b[33mshard_key\u001b[0m=\u001b[3;35mNone\u001b[0m\n",
       "    \u001b[1m)\u001b[0m,\n",
       "    \u001b[1;35mScoredPoint\u001b[0m\u001b[1m(\u001b[0m\n",
       "        \u001b[33mid\u001b[0m=\u001b[32m'7887d089-e0d5-4d84-beb8-13e627b847ef'\u001b[0m,\n",
       "        \u001b[33mversion\u001b[0m=\u001b[1;36m1011\u001b[0m,\n",
       "        \u001b[33mscore\u001b[0m=\u001b[1;36m0\u001b[0m\u001b[1;36m.5598812\u001b[0m,\n",
       "        \u001b[33mpayload\u001b[0m=\u001b[1m{\u001b[0m\n",
       "            \u001b[32m'author_app_version'\u001b[0m: \u001b[32m'5.2.0 build 19086'\u001b[0m,\n",
       "            \u001b[32m'label'\u001b[0m: \u001b[32m'excellent'\u001b[0m,\n",
       "            \u001b[32m'review_date'\u001b[0m: \u001b[32m'2017-08-13 04:51:06'\u001b[0m,\n",
       "            \u001b[32m'review_id'\u001b[0m: \u001b[32m'7887d089-e0d5-4d84-beb8-13e627b847ef'\u001b[0m,\n",
       "            \u001b[32m'review_rating'\u001b[0m: \u001b[1;36m5\u001b[0m,\n",
       "            \u001b[32m'review_text'\u001b[0m: \u001b[32m'It is awesome'\u001b[0m,\n",
       "            \u001b[32m'timestamp'\u001b[0m: \u001b[1;36m1502596266.0\u001b[0m\n",
       "        \u001b[1m}\u001b[0m,\n",
       "        \u001b[33mvector\u001b[0m=\u001b[3;35mNone\u001b[0m,\n",
       "        \u001b[33mshard_key\u001b[0m=\u001b[3;35mNone\u001b[0m\n",
       "    \u001b[1m)\u001b[0m,\n",
       "    \u001b[1;35mScoredPoint\u001b[0m\u001b[1m(\u001b[0m\n",
       "        \u001b[33mid\u001b[0m=\u001b[32m'b70e6ba0-ad89-41be-ad08-6635dd3f9706'\u001b[0m,\n",
       "        \u001b[33mversion\u001b[0m=\u001b[1;36m1189\u001b[0m,\n",
       "        \u001b[33mscore\u001b[0m=\u001b[1;36m0\u001b[0m\u001b[1;36m.5598812\u001b[0m,\n",
       "        \u001b[33mpayload\u001b[0m=\u001b[1m{\u001b[0m\n",
       "            \u001b[32m'author_app_version'\u001b[0m: \u001b[32m'6.2.1 build 27557'\u001b[0m,\n",
       "            \u001b[32m'label'\u001b[0m: \u001b[32m'excellent'\u001b[0m,\n",
       "            \u001b[32m'review_date'\u001b[0m: \u001b[32m'2018-05-29 19:52:46'\u001b[0m,\n",
       "            \u001b[32m'review_id'\u001b[0m: \u001b[32m'b70e6ba0-ad89-41be-ad08-6635dd3f9706'\u001b[0m,\n",
       "            \u001b[32m'review_rating'\u001b[0m: \u001b[1;36m5\u001b[0m,\n",
       "            \u001b[32m'review_text'\u001b[0m: \u001b[32m'It is awesome'\u001b[0m,\n",
       "            \u001b[32m'timestamp'\u001b[0m: \u001b[1;36m1527619966.0\u001b[0m\n",
       "        \u001b[1m}\u001b[0m,\n",
       "        \u001b[33mvector\u001b[0m=\u001b[3;35mNone\u001b[0m,\n",
       "        \u001b[33mshard_key\u001b[0m=\u001b[3;35mNone\u001b[0m\n",
       "    \u001b[1m)\u001b[0m,\n",
       "    \u001b[1;35mScoredPoint\u001b[0m\u001b[1m(\u001b[0m\n",
       "        \u001b[33mid\u001b[0m=\u001b[32m'5c4204b7-0fa1-4702-89d3-adfda22ce62b'\u001b[0m,\n",
       "        \u001b[33mversion\u001b[0m=\u001b[1;36m1139\u001b[0m,\n",
       "        \u001b[33mscore\u001b[0m=\u001b[1;36m0\u001b[0m\u001b[1;36m.5598812\u001b[0m,\n",
       "        \u001b[33mpayload\u001b[0m=\u001b[1m{\u001b[0m\n",
       "            \u001b[32m'author_app_version'\u001b[0m: \u001b[32m'5.14.1 build 25955'\u001b[0m,\n",
       "            \u001b[32m'label'\u001b[0m: \u001b[32m'excellent'\u001b[0m,\n",
       "            \u001b[32m'review_date'\u001b[0m: \u001b[32m'2018-03-10 15:49:42'\u001b[0m,\n",
       "            \u001b[32m'review_id'\u001b[0m: \u001b[32m'5c4204b7-0fa1-4702-89d3-adfda22ce62b'\u001b[0m,\n",
       "            \u001b[32m'review_rating'\u001b[0m: \u001b[1;36m5\u001b[0m,\n",
       "            \u001b[32m'review_text'\u001b[0m: \u001b[32m'It is awesome'\u001b[0m,\n",
       "            \u001b[32m'timestamp'\u001b[0m: \u001b[1;36m1520693382.0\u001b[0m\n",
       "        \u001b[1m}\u001b[0m,\n",
       "        \u001b[33mvector\u001b[0m=\u001b[3;35mNone\u001b[0m,\n",
       "        \u001b[33mshard_key\u001b[0m=\u001b[3;35mNone\u001b[0m\n",
       "    \u001b[1m)\u001b[0m,\n",
       "    \u001b[1;35mScoredPoint\u001b[0m\u001b[1m(\u001b[0m\n",
       "        \u001b[33mid\u001b[0m=\u001b[32m'428e6994-9457-4adf-a086-7528e3ff14c8'\u001b[0m,\n",
       "        \u001b[33mversion\u001b[0m=\u001b[1;36m656\u001b[0m,\n",
       "        \u001b[33mscore\u001b[0m=\u001b[1;36m0\u001b[0m\u001b[1;36m.5598812\u001b[0m,\n",
       "        \u001b[33mpayload\u001b[0m=\u001b[1m{\u001b[0m\n",
       "            \u001b[32m'author_app_version'\u001b[0m: \u001b[32m''\u001b[0m,\n",
       "            \u001b[32m'label'\u001b[0m: \u001b[32m'excellent'\u001b[0m,\n",
       "            \u001b[32m'review_date'\u001b[0m: \u001b[32m'2016-03-28 19:08:31'\u001b[0m,\n",
       "            \u001b[32m'review_id'\u001b[0m: \u001b[32m'428e6994-9457-4adf-a086-7528e3ff14c8'\u001b[0m,\n",
       "            \u001b[32m'review_rating'\u001b[0m: \u001b[1;36m5\u001b[0m,\n",
       "            \u001b[32m'review_text'\u001b[0m: \u001b[32m'It is awesome'\u001b[0m,\n",
       "            \u001b[32m'timestamp'\u001b[0m: \u001b[1;36m1459188511.0\u001b[0m\n",
       "        \u001b[1m}\u001b[0m,\n",
       "        \u001b[33mvector\u001b[0m=\u001b[3;35mNone\u001b[0m,\n",
       "        \u001b[33mshard_key\u001b[0m=\u001b[3;35mNone\u001b[0m\n",
       "    \u001b[1m)\u001b[0m,\n",
       "    \u001b[1;35mScoredPoint\u001b[0m\u001b[1m(\u001b[0m\n",
       "        \u001b[33mid\u001b[0m=\u001b[32m'e1764225-c4b3-4482-b33e-8a024c4b7fc6'\u001b[0m,\n",
       "        \u001b[33mversion\u001b[0m=\u001b[1;36m1099\u001b[0m,\n",
       "        \u001b[33mscore\u001b[0m=\u001b[1;36m0\u001b[0m\u001b[1;36m.5598812\u001b[0m,\n",
       "        \u001b[33mpayload\u001b[0m=\u001b[1m{\u001b[0m\n",
       "            \u001b[32m'author_app_version'\u001b[0m: \u001b[32m''\u001b[0m,\n",
       "            \u001b[32m'label'\u001b[0m: \u001b[32m'excellent'\u001b[0m,\n",
       "            \u001b[32m'review_date'\u001b[0m: \u001b[32m'2018-01-05 03:35:08'\u001b[0m,\n",
       "            \u001b[32m'review_id'\u001b[0m: \u001b[32m'e1764225-c4b3-4482-b33e-8a024c4b7fc6'\u001b[0m,\n",
       "            \u001b[32m'review_rating'\u001b[0m: \u001b[1;36m5\u001b[0m,\n",
       "            \u001b[32m'review_text'\u001b[0m: \u001b[32m'It is awesome'\u001b[0m,\n",
       "            \u001b[32m'timestamp'\u001b[0m: \u001b[1;36m1515119708.0\u001b[0m\n",
       "        \u001b[1m}\u001b[0m,\n",
       "        \u001b[33mvector\u001b[0m=\u001b[3;35mNone\u001b[0m,\n",
       "        \u001b[33mshard_key\u001b[0m=\u001b[3;35mNone\u001b[0m\n",
       "    \u001b[1m)\u001b[0m,\n",
       "    \u001b[1;35mScoredPoint\u001b[0m\u001b[1m(\u001b[0m\n",
       "        \u001b[33mid\u001b[0m=\u001b[32m'03bf0b98-653d-4c37-b54e-f3672c1ab152'\u001b[0m,\n",
       "        \u001b[33mversion\u001b[0m=\u001b[1;36m1139\u001b[0m,\n",
       "        \u001b[33mscore\u001b[0m=\u001b[1;36m0\u001b[0m\u001b[1;36m.5598812\u001b[0m,\n",
       "        \u001b[33mpayload\u001b[0m=\u001b[1m{\u001b[0m\n",
       "            \u001b[32m'author_app_version'\u001b[0m: \u001b[32m''\u001b[0m,\n",
       "            \u001b[32m'label'\u001b[0m: \u001b[32m'excellent'\u001b[0m,\n",
       "            \u001b[32m'review_date'\u001b[0m: \u001b[32m'2018-03-10 01:15:18'\u001b[0m,\n",
       "            \u001b[32m'review_id'\u001b[0m: \u001b[32m'03bf0b98-653d-4c37-b54e-f3672c1ab152'\u001b[0m,\n",
       "            \u001b[32m'review_rating'\u001b[0m: \u001b[1;36m5\u001b[0m,\n",
       "            \u001b[32m'review_text'\u001b[0m: \u001b[32m'It is awesome'\u001b[0m,\n",
       "            \u001b[32m'timestamp'\u001b[0m: \u001b[1;36m1520640918.0\u001b[0m\n",
       "        \u001b[1m}\u001b[0m,\n",
       "        \u001b[33mvector\u001b[0m=\u001b[3;35mNone\u001b[0m,\n",
       "        \u001b[33mshard_key\u001b[0m=\u001b[3;35mNone\u001b[0m\n",
       "    \u001b[1m)\u001b[0m,\n",
       "    \u001b[1;35mScoredPoint\u001b[0m\u001b[1m(\u001b[0m\n",
       "        \u001b[33mid\u001b[0m=\u001b[32m'b23a8278-a595-4936-a7ca-8428ac8c7ca6'\u001b[0m,\n",
       "        \u001b[33mversion\u001b[0m=\u001b[1;36m1121\u001b[0m,\n",
       "        \u001b[33mscore\u001b[0m=\u001b[1;36m0\u001b[0m\u001b[1;36m.5598812\u001b[0m,\n",
       "        \u001b[33mpayload\u001b[0m=\u001b[1m{\u001b[0m\n",
       "            \u001b[32m'author_app_version'\u001b[0m: \u001b[32m''\u001b[0m,\n",
       "            \u001b[32m'label'\u001b[0m: \u001b[32m'excellent'\u001b[0m,\n",
       "            \u001b[32m'review_date'\u001b[0m: \u001b[32m'2018-02-10 08:25:31'\u001b[0m,\n",
       "            \u001b[32m'review_id'\u001b[0m: \u001b[32m'b23a8278-a595-4936-a7ca-8428ac8c7ca6'\u001b[0m,\n",
       "            \u001b[32m'review_rating'\u001b[0m: \u001b[1;36m5\u001b[0m,\n",
       "            \u001b[32m'review_text'\u001b[0m: \u001b[32m'It is Awesome'\u001b[0m,\n",
       "            \u001b[32m'timestamp'\u001b[0m: \u001b[1;36m1518247531.0\u001b[0m\n",
       "        \u001b[1m}\u001b[0m,\n",
       "        \u001b[33mvector\u001b[0m=\u001b[3;35mNone\u001b[0m,\n",
       "        \u001b[33mshard_key\u001b[0m=\u001b[3;35mNone\u001b[0m\n",
       "    \u001b[1m)\u001b[0m,\n",
       "    \u001b[1;35mScoredPoint\u001b[0m\u001b[1m(\u001b[0m\n",
       "        \u001b[33mid\u001b[0m=\u001b[32m'db3e13ce-32b7-446d-b3ba-29b10741f459'\u001b[0m,\n",
       "        \u001b[33mversion\u001b[0m=\u001b[1;36m1135\u001b[0m,\n",
       "        \u001b[33mscore\u001b[0m=\u001b[1;36m0\u001b[0m\u001b[1;36m.5598812\u001b[0m,\n",
       "        \u001b[33mpayload\u001b[0m=\u001b[1m{\u001b[0m\n",
       "            \u001b[32m'author_app_version'\u001b[0m: \u001b[32m'5.14.0 build 25948'\u001b[0m,\n",
       "            \u001b[32m'label'\u001b[0m: \u001b[32m'excellent'\u001b[0m,\n",
       "            \u001b[32m'review_date'\u001b[0m: \u001b[32m'2018-03-02 17:33:11'\u001b[0m,\n",
       "            \u001b[32m'review_id'\u001b[0m: \u001b[32m'db3e13ce-32b7-446d-b3ba-29b10741f459'\u001b[0m,\n",
       "            \u001b[32m'review_rating'\u001b[0m: \u001b[1;36m5\u001b[0m,\n",
       "            \u001b[32m'review_text'\u001b[0m: \u001b[32m'It is AWESOME'\u001b[0m,\n",
       "            \u001b[32m'timestamp'\u001b[0m: \u001b[1;36m1520008391.0\u001b[0m\n",
       "        \u001b[1m}\u001b[0m,\n",
       "        \u001b[33mvector\u001b[0m=\u001b[3;35mNone\u001b[0m,\n",
       "        \u001b[33mshard_key\u001b[0m=\u001b[3;35mNone\u001b[0m\n",
       "    \u001b[1m)\u001b[0m,\n",
       "    \u001b[1;35mScoredPoint\u001b[0m\u001b[1m(\u001b[0m\n",
       "        \u001b[33mid\u001b[0m=\u001b[32m'd06825e1-800d-45ee-96d1-b86b5f0bf94d'\u001b[0m,\n",
       "        \u001b[33mversion\u001b[0m=\u001b[1;36m1224\u001b[0m,\n",
       "        \u001b[33mscore\u001b[0m=\u001b[1;36m0\u001b[0m\u001b[1;36m.5598812\u001b[0m,\n",
       "        \u001b[33mpayload\u001b[0m=\u001b[1m{\u001b[0m\n",
       "            \u001b[32m'author_app_version'\u001b[0m: \u001b[32m'6.7.2 build 28755'\u001b[0m,\n",
       "            \u001b[32m'label'\u001b[0m: \u001b[32m'excellent'\u001b[0m,\n",
       "            \u001b[32m'review_date'\u001b[0m: \u001b[32m'2018-07-21 16:19:13'\u001b[0m,\n",
       "            \u001b[32m'review_id'\u001b[0m: \u001b[32m'd06825e1-800d-45ee-96d1-b86b5f0bf94d'\u001b[0m,\n",
       "            \u001b[32m'review_rating'\u001b[0m: \u001b[1;36m5\u001b[0m,\n",
       "            \u001b[32m'review_text'\u001b[0m: \u001b[32m'It is awesome'\u001b[0m,\n",
       "            \u001b[32m'timestamp'\u001b[0m: \u001b[1;36m1532186353.0\u001b[0m\n",
       "        \u001b[1m}\u001b[0m,\n",
       "        \u001b[33mvector\u001b[0m=\u001b[3;35mNone\u001b[0m,\n",
       "        \u001b[33mshard_key\u001b[0m=\u001b[3;35mNone\u001b[0m\n",
       "    \u001b[1m)\u001b[0m,\n",
       "    \u001b[1;35mScoredPoint\u001b[0m\u001b[1m(\u001b[0m\n",
       "        \u001b[33mid\u001b[0m=\u001b[32m'0b9dd226-6fb2-4499-88ba-3cc778cc6e09'\u001b[0m,\n",
       "        \u001b[33mversion\u001b[0m=\u001b[1;36m1203\u001b[0m,\n",
       "        \u001b[33mscore\u001b[0m=\u001b[1;36m0\u001b[0m\u001b[1;36m.5598812\u001b[0m,\n",
       "        \u001b[33mpayload\u001b[0m=\u001b[1m{\u001b[0m\n",
       "            \u001b[32m'author_app_version'\u001b[0m: \u001b[32m''\u001b[0m,\n",
       "            \u001b[32m'label'\u001b[0m: \u001b[32m'excellent'\u001b[0m,\n",
       "            \u001b[32m'review_date'\u001b[0m: \u001b[32m'2018-06-20 13:37:35'\u001b[0m,\n",
       "            \u001b[32m'review_id'\u001b[0m: \u001b[32m'0b9dd226-6fb2-4499-88ba-3cc778cc6e09'\u001b[0m,\n",
       "            \u001b[32m'review_rating'\u001b[0m: \u001b[1;36m5\u001b[0m,\n",
       "            \u001b[32m'review_text'\u001b[0m: \u001b[32m'It is awesome'\u001b[0m,\n",
       "            \u001b[32m'timestamp'\u001b[0m: \u001b[1;36m1529498255.0\u001b[0m\n",
       "        \u001b[1m}\u001b[0m,\n",
       "        \u001b[33mvector\u001b[0m=\u001b[3;35mNone\u001b[0m,\n",
       "        \u001b[33mshard_key\u001b[0m=\u001b[3;35mNone\u001b[0m\n",
       "    \u001b[1m)\u001b[0m,\n",
       "    \u001b[1;35mScoredPoint\u001b[0m\u001b[1m(\u001b[0m\n",
       "        \u001b[33mid\u001b[0m=\u001b[32m'c1f2e4a9-c935-4543-988f-cc939a52b185'\u001b[0m,\n",
       "        \u001b[33mversion\u001b[0m=\u001b[1;36m1219\u001b[0m,\n",
       "        \u001b[33mscore\u001b[0m=\u001b[1;36m0\u001b[0m\u001b[1;36m.5598812\u001b[0m,\n",
       "        \u001b[33mpayload\u001b[0m=\u001b[1m{\u001b[0m\n",
       "            \u001b[32m'author_app_version'\u001b[0m: \u001b[32m'6.6.1 build 28551'\u001b[0m,\n",
       "            \u001b[32m'label'\u001b[0m: \u001b[32m'excellent'\u001b[0m,\n",
       "            \u001b[32m'review_date'\u001b[0m: \u001b[32m'2018-07-15 05:08:19'\u001b[0m,\n",
       "            \u001b[32m'review_id'\u001b[0m: \u001b[32m'c1f2e4a9-c935-4543-988f-cc939a52b185'\u001b[0m,\n",
       "            \u001b[32m'review_rating'\u001b[0m: \u001b[1;36m5\u001b[0m,\n",
       "            \u001b[32m'review_text'\u001b[0m: \u001b[32m'It is awesome'\u001b[0m,\n",
       "            \u001b[32m'timestamp'\u001b[0m: \u001b[1;36m1531627699.0\u001b[0m\n",
       "        \u001b[1m}\u001b[0m,\n",
       "        \u001b[33mvector\u001b[0m=\u001b[3;35mNone\u001b[0m,\n",
       "        \u001b[33mshard_key\u001b[0m=\u001b[3;35mNone\u001b[0m\n",
       "    \u001b[1m)\u001b[0m,\n",
       "    \u001b[1;35mScoredPoint\u001b[0m\u001b[1m(\u001b[0m\n",
       "        \u001b[33mid\u001b[0m=\u001b[32m'f1c09753-93c4-417d-845c-e5ddfe2c0f41'\u001b[0m,\n",
       "        \u001b[33mversion\u001b[0m=\u001b[1;36m885\u001b[0m,\n",
       "        \u001b[33mscore\u001b[0m=\u001b[1;36m0\u001b[0m\u001b[1;36m.5598812\u001b[0m,\n",
       "        \u001b[33mpayload\u001b[0m=\u001b[1m{\u001b[0m\n",
       "            \u001b[32m'author_app_version'\u001b[0m: \u001b[32m'4.13.3 build 14573'\u001b[0m,\n",
       "            \u001b[32m'label'\u001b[0m: \u001b[32m'excellent'\u001b[0m,\n",
       "            \u001b[32m'review_date'\u001b[0m: \u001b[32m'2017-03-25 19:43:16'\u001b[0m,\n",
       "            \u001b[32m'review_id'\u001b[0m: \u001b[32m'f1c09753-93c4-417d-845c-e5ddfe2c0f41'\u001b[0m,\n",
       "            \u001b[32m'review_rating'\u001b[0m: \u001b[1;36m5\u001b[0m,\n",
       "            \u001b[32m'review_text'\u001b[0m: \u001b[32m'IT IS AWESOME'\u001b[0m,\n",
       "            \u001b[32m'timestamp'\u001b[0m: \u001b[1;36m1490467396.0\u001b[0m\n",
       "        \u001b[1m}\u001b[0m,\n",
       "        \u001b[33mvector\u001b[0m=\u001b[3;35mNone\u001b[0m,\n",
       "        \u001b[33mshard_key\u001b[0m=\u001b[3;35mNone\u001b[0m\n",
       "    \u001b[1m)\u001b[0m,\n",
       "    \u001b[1;35mScoredPoint\u001b[0m\u001b[1m(\u001b[0m\n",
       "        \u001b[33mid\u001b[0m=\u001b[32m'73d0444b-bb31-4784-a1cc-36ad8f184fcc'\u001b[0m,\n",
       "        \u001b[33mversion\u001b[0m=\u001b[1;36m480\u001b[0m,\n",
       "        \u001b[33mscore\u001b[0m=\u001b[1;36m0\u001b[0m\u001b[1;36m.5598812\u001b[0m,\n",
       "        \u001b[33mpayload\u001b[0m=\u001b[1m{\u001b[0m\n",
       "            \u001b[32m'author_app_version'\u001b[0m: \u001b[32m''\u001b[0m,\n",
       "            \u001b[32m'label'\u001b[0m: \u001b[32m'excellent'\u001b[0m,\n",
       "            \u001b[32m'review_date'\u001b[0m: \u001b[32m'2015-01-21 04:01:20'\u001b[0m,\n",
       "            \u001b[32m'review_id'\u001b[0m: \u001b[32m'73d0444b-bb31-4784-a1cc-36ad8f184fcc'\u001b[0m,\n",
       "            \u001b[32m'review_rating'\u001b[0m: \u001b[1;36m5\u001b[0m,\n",
       "            \u001b[32m'review_text'\u001b[0m: \u001b[32m'It is awesome'\u001b[0m,\n",
       "            \u001b[32m'timestamp'\u001b[0m: \u001b[1;36m1421809280.0\u001b[0m\n",
       "        \u001b[1m}\u001b[0m,\n",
       "        \u001b[33mvector\u001b[0m=\u001b[3;35mNone\u001b[0m,\n",
       "        \u001b[33mshard_key\u001b[0m=\u001b[3;35mNone\u001b[0m\n",
       "    \u001b[1m)\u001b[0m,\n",
       "    \u001b[1;35mScoredPoint\u001b[0m\u001b[1m(\u001b[0m\n",
       "        \u001b[33mid\u001b[0m=\u001b[32m'a3001b30-1bbd-42ba-ace9-b4932169418d'\u001b[0m,\n",
       "        \u001b[33mversion\u001b[0m=\u001b[1;36m871\u001b[0m,\n",
       "        \u001b[33mscore\u001b[0m=\u001b[1;36m0\u001b[0m\u001b[1;36m.5598812\u001b[0m,\n",
       "        \u001b[33mpayload\u001b[0m=\u001b[1m{\u001b[0m\n",
       "            \u001b[32m'author_app_version'\u001b[0m: \u001b[32m'4.13.2 build 14565'\u001b[0m,\n",
       "            \u001b[32m'label'\u001b[0m: \u001b[32m'excellent'\u001b[0m,\n",
       "            \u001b[32m'review_date'\u001b[0m: \u001b[32m'2017-03-09 20:59:42'\u001b[0m,\n",
       "            \u001b[32m'review_id'\u001b[0m: \u001b[32m'a3001b30-1bbd-42ba-ace9-b4932169418d'\u001b[0m,\n",
       "            \u001b[32m'review_rating'\u001b[0m: \u001b[1;36m5\u001b[0m,\n",
       "            \u001b[32m'review_text'\u001b[0m: \u001b[32m'It is awesome'\u001b[0m,\n",
       "            \u001b[32m'timestamp'\u001b[0m: \u001b[1;36m1489089582.0\u001b[0m\n",
       "        \u001b[1m}\u001b[0m,\n",
       "        \u001b[33mvector\u001b[0m=\u001b[3;35mNone\u001b[0m,\n",
       "        \u001b[33mshard_key\u001b[0m=\u001b[3;35mNone\u001b[0m\n",
       "    \u001b[1m)\u001b[0m\n",
       "\u001b[1m]\u001b[0m\n"
      ]
     },
     "metadata": {},
     "output_type": "display_data"
    }
   ],
   "source": [
    "print(hits[-20:])"
   ]
  },
  {
   "cell_type": "code",
   "execution_count": 35,
   "metadata": {},
   "outputs": [
    {
     "ename": "ResponseHandlingException",
     "evalue": "timed out",
     "output_type": "error",
     "traceback": [
      "\u001b[0;31m---------------------------------------------------------------------------\u001b[0m",
      "\u001b[0;31mTimeoutError\u001b[0m                              Traceback (most recent call last)",
      "File \u001b[0;32m~/miniconda3/envs/nlp_p310/lib/python3.10/site-packages/httpcore/_exceptions.py:10\u001b[0m, in \u001b[0;36mmap_exceptions\u001b[0;34m(map)\u001b[0m\n\u001b[1;32m      9\u001b[0m \u001b[38;5;28;01mtry\u001b[39;00m:\n\u001b[0;32m---> 10\u001b[0m     \u001b[38;5;28;01myield\u001b[39;00m\n\u001b[1;32m     11\u001b[0m \u001b[38;5;28;01mexcept\u001b[39;00m \u001b[38;5;167;01mException\u001b[39;00m \u001b[38;5;28;01mas\u001b[39;00m exc:  \u001b[38;5;66;03m# noqa: PIE786\u001b[39;00m\n",
      "File \u001b[0;32m~/miniconda3/envs/nlp_p310/lib/python3.10/site-packages/httpcore/_backends/sync.py:28\u001b[0m, in \u001b[0;36mSyncStream.read\u001b[0;34m(self, max_bytes, timeout)\u001b[0m\n\u001b[1;32m     27\u001b[0m \u001b[38;5;28mself\u001b[39m\u001b[38;5;241m.\u001b[39m_sock\u001b[38;5;241m.\u001b[39msettimeout(timeout)\n\u001b[0;32m---> 28\u001b[0m \u001b[38;5;28;01mreturn\u001b[39;00m \u001b[38;5;28;43mself\u001b[39;49m\u001b[38;5;241;43m.\u001b[39;49m\u001b[43m_sock\u001b[49m\u001b[38;5;241;43m.\u001b[39;49m\u001b[43mrecv\u001b[49m\u001b[43m(\u001b[49m\u001b[43mmax_bytes\u001b[49m\u001b[43m)\u001b[49m\n",
      "\u001b[0;31mTimeoutError\u001b[0m: timed out",
      "\nThe above exception was the direct cause of the following exception:\n",
      "\u001b[0;31mReadTimeout\u001b[0m                               Traceback (most recent call last)",
      "File \u001b[0;32m~/miniconda3/envs/nlp_p310/lib/python3.10/site-packages/httpx/_transports/default.py:60\u001b[0m, in \u001b[0;36mmap_httpcore_exceptions\u001b[0;34m()\u001b[0m\n\u001b[1;32m     59\u001b[0m \u001b[38;5;28;01mtry\u001b[39;00m:\n\u001b[0;32m---> 60\u001b[0m     \u001b[38;5;28;01myield\u001b[39;00m\n\u001b[1;32m     61\u001b[0m \u001b[38;5;28;01mexcept\u001b[39;00m \u001b[38;5;167;01mException\u001b[39;00m \u001b[38;5;28;01mas\u001b[39;00m exc:  \u001b[38;5;66;03m# noqa: PIE-786\u001b[39;00m\n",
      "File \u001b[0;32m~/miniconda3/envs/nlp_p310/lib/python3.10/site-packages/httpx/_transports/default.py:218\u001b[0m, in \u001b[0;36mHTTPTransport.handle_request\u001b[0;34m(self, request)\u001b[0m\n\u001b[1;32m    217\u001b[0m \u001b[38;5;28;01mwith\u001b[39;00m map_httpcore_exceptions():\n\u001b[0;32m--> 218\u001b[0m     resp \u001b[38;5;241m=\u001b[39m \u001b[38;5;28;43mself\u001b[39;49m\u001b[38;5;241;43m.\u001b[39;49m\u001b[43m_pool\u001b[49m\u001b[38;5;241;43m.\u001b[39;49m\u001b[43mhandle_request\u001b[49m\u001b[43m(\u001b[49m\u001b[43mreq\u001b[49m\u001b[43m)\u001b[49m\n\u001b[1;32m    220\u001b[0m \u001b[38;5;28;01massert\u001b[39;00m \u001b[38;5;28misinstance\u001b[39m(resp\u001b[38;5;241m.\u001b[39mstream, typing\u001b[38;5;241m.\u001b[39mIterable)\n",
      "File \u001b[0;32m~/miniconda3/envs/nlp_p310/lib/python3.10/site-packages/httpcore/_sync/connection_pool.py:262\u001b[0m, in \u001b[0;36mConnectionPool.handle_request\u001b[0;34m(self, request)\u001b[0m\n\u001b[1;32m    261\u001b[0m         \u001b[38;5;28mself\u001b[39m\u001b[38;5;241m.\u001b[39mresponse_closed(status)\n\u001b[0;32m--> 262\u001b[0m     \u001b[38;5;28;01mraise\u001b[39;00m exc\n\u001b[1;32m    263\u001b[0m \u001b[38;5;28;01melse\u001b[39;00m:\n",
      "File \u001b[0;32m~/miniconda3/envs/nlp_p310/lib/python3.10/site-packages/httpcore/_sync/connection_pool.py:245\u001b[0m, in \u001b[0;36mConnectionPool.handle_request\u001b[0;34m(self, request)\u001b[0m\n\u001b[1;32m    244\u001b[0m \u001b[38;5;28;01mtry\u001b[39;00m:\n\u001b[0;32m--> 245\u001b[0m     response \u001b[38;5;241m=\u001b[39m \u001b[43mconnection\u001b[49m\u001b[38;5;241;43m.\u001b[39;49m\u001b[43mhandle_request\u001b[49m\u001b[43m(\u001b[49m\u001b[43mrequest\u001b[49m\u001b[43m)\u001b[49m\n\u001b[1;32m    246\u001b[0m \u001b[38;5;28;01mexcept\u001b[39;00m ConnectionNotAvailable:\n\u001b[1;32m    247\u001b[0m     \u001b[38;5;66;03m# The ConnectionNotAvailable exception is a special case, that\u001b[39;00m\n\u001b[1;32m    248\u001b[0m     \u001b[38;5;66;03m# indicates we need to retry the request on a new connection.\u001b[39;00m\n\u001b[0;32m   (...)\u001b[0m\n\u001b[1;32m    252\u001b[0m     \u001b[38;5;66;03m# might end up as an HTTP/2 connection, but which actually ends\u001b[39;00m\n\u001b[1;32m    253\u001b[0m     \u001b[38;5;66;03m# up as HTTP/1.1.\u001b[39;00m\n",
      "File \u001b[0;32m~/miniconda3/envs/nlp_p310/lib/python3.10/site-packages/httpcore/_sync/connection.py:96\u001b[0m, in \u001b[0;36mHTTPConnection.handle_request\u001b[0;34m(self, request)\u001b[0m\n\u001b[1;32m     94\u001b[0m         \u001b[38;5;28;01mraise\u001b[39;00m ConnectionNotAvailable()\n\u001b[0;32m---> 96\u001b[0m \u001b[38;5;28;01mreturn\u001b[39;00m \u001b[38;5;28;43mself\u001b[39;49m\u001b[38;5;241;43m.\u001b[39;49m\u001b[43m_connection\u001b[49m\u001b[38;5;241;43m.\u001b[39;49m\u001b[43mhandle_request\u001b[49m\u001b[43m(\u001b[49m\u001b[43mrequest\u001b[49m\u001b[43m)\u001b[49m\n",
      "File \u001b[0;32m~/miniconda3/envs/nlp_p310/lib/python3.10/site-packages/httpcore/_sync/http11.py:121\u001b[0m, in \u001b[0;36mHTTP11Connection.handle_request\u001b[0;34m(self, request)\u001b[0m\n\u001b[1;32m    120\u001b[0m         \u001b[38;5;28mself\u001b[39m\u001b[38;5;241m.\u001b[39m_response_closed()\n\u001b[0;32m--> 121\u001b[0m \u001b[38;5;28;01mraise\u001b[39;00m exc\n",
      "File \u001b[0;32m~/miniconda3/envs/nlp_p310/lib/python3.10/site-packages/httpcore/_sync/http11.py:99\u001b[0m, in \u001b[0;36mHTTP11Connection.handle_request\u001b[0;34m(self, request)\u001b[0m\n\u001b[1;32m     91\u001b[0m \u001b[38;5;28;01mwith\u001b[39;00m Trace(\n\u001b[1;32m     92\u001b[0m     \u001b[38;5;124m\"\u001b[39m\u001b[38;5;124mreceive_response_headers\u001b[39m\u001b[38;5;124m\"\u001b[39m, logger, request, kwargs\n\u001b[1;32m     93\u001b[0m ) \u001b[38;5;28;01mas\u001b[39;00m trace:\n\u001b[1;32m     94\u001b[0m     (\n\u001b[1;32m     95\u001b[0m         http_version,\n\u001b[1;32m     96\u001b[0m         status,\n\u001b[1;32m     97\u001b[0m         reason_phrase,\n\u001b[1;32m     98\u001b[0m         headers,\n\u001b[0;32m---> 99\u001b[0m     ) \u001b[38;5;241m=\u001b[39m \u001b[38;5;28;43mself\u001b[39;49m\u001b[38;5;241;43m.\u001b[39;49m\u001b[43m_receive_response_headers\u001b[49m\u001b[43m(\u001b[49m\u001b[38;5;241;43m*\u001b[39;49m\u001b[38;5;241;43m*\u001b[39;49m\u001b[43mkwargs\u001b[49m\u001b[43m)\u001b[49m\n\u001b[1;32m    100\u001b[0m     trace\u001b[38;5;241m.\u001b[39mreturn_value \u001b[38;5;241m=\u001b[39m (\n\u001b[1;32m    101\u001b[0m         http_version,\n\u001b[1;32m    102\u001b[0m         status,\n\u001b[1;32m    103\u001b[0m         reason_phrase,\n\u001b[1;32m    104\u001b[0m         headers,\n\u001b[1;32m    105\u001b[0m     )\n",
      "File \u001b[0;32m~/miniconda3/envs/nlp_p310/lib/python3.10/site-packages/httpcore/_sync/http11.py:164\u001b[0m, in \u001b[0;36mHTTP11Connection._receive_response_headers\u001b[0;34m(self, request)\u001b[0m\n\u001b[1;32m    163\u001b[0m \u001b[38;5;28;01mwhile\u001b[39;00m \u001b[38;5;28;01mTrue\u001b[39;00m:\n\u001b[0;32m--> 164\u001b[0m     event \u001b[38;5;241m=\u001b[39m \u001b[38;5;28;43mself\u001b[39;49m\u001b[38;5;241;43m.\u001b[39;49m\u001b[43m_receive_event\u001b[49m\u001b[43m(\u001b[49m\u001b[43mtimeout\u001b[49m\u001b[38;5;241;43m=\u001b[39;49m\u001b[43mtimeout\u001b[49m\u001b[43m)\u001b[49m\n\u001b[1;32m    165\u001b[0m     \u001b[38;5;28;01mif\u001b[39;00m \u001b[38;5;28misinstance\u001b[39m(event, h11\u001b[38;5;241m.\u001b[39mResponse):\n",
      "File \u001b[0;32m~/miniconda3/envs/nlp_p310/lib/python3.10/site-packages/httpcore/_sync/http11.py:200\u001b[0m, in \u001b[0;36mHTTP11Connection._receive_event\u001b[0;34m(self, timeout)\u001b[0m\n\u001b[1;32m    199\u001b[0m \u001b[38;5;28;01mif\u001b[39;00m event \u001b[38;5;129;01mis\u001b[39;00m h11\u001b[38;5;241m.\u001b[39mNEED_DATA:\n\u001b[0;32m--> 200\u001b[0m     data \u001b[38;5;241m=\u001b[39m \u001b[38;5;28;43mself\u001b[39;49m\u001b[38;5;241;43m.\u001b[39;49m\u001b[43m_network_stream\u001b[49m\u001b[38;5;241;43m.\u001b[39;49m\u001b[43mread\u001b[49m\u001b[43m(\u001b[49m\n\u001b[1;32m    201\u001b[0m \u001b[43m        \u001b[49m\u001b[38;5;28;43mself\u001b[39;49m\u001b[38;5;241;43m.\u001b[39;49m\u001b[43mREAD_NUM_BYTES\u001b[49m\u001b[43m,\u001b[49m\u001b[43m \u001b[49m\u001b[43mtimeout\u001b[49m\u001b[38;5;241;43m=\u001b[39;49m\u001b[43mtimeout\u001b[49m\n\u001b[1;32m    202\u001b[0m \u001b[43m    \u001b[49m\u001b[43m)\u001b[49m\n\u001b[1;32m    204\u001b[0m     \u001b[38;5;66;03m# If we feed this case through h11 we'll raise an exception like:\u001b[39;00m\n\u001b[1;32m    205\u001b[0m     \u001b[38;5;66;03m#\u001b[39;00m\n\u001b[1;32m    206\u001b[0m     \u001b[38;5;66;03m#     httpcore.RemoteProtocolError: can't handle event type\u001b[39;00m\n\u001b[0;32m   (...)\u001b[0m\n\u001b[1;32m    210\u001b[0m     \u001b[38;5;66;03m# perspective. Instead we handle this case distinctly and treat\u001b[39;00m\n\u001b[1;32m    211\u001b[0m     \u001b[38;5;66;03m# it as a ConnectError.\u001b[39;00m\n",
      "File \u001b[0;32m~/miniconda3/envs/nlp_p310/lib/python3.10/site-packages/httpcore/_backends/sync.py:26\u001b[0m, in \u001b[0;36mSyncStream.read\u001b[0;34m(self, max_bytes, timeout)\u001b[0m\n\u001b[1;32m     25\u001b[0m exc_map: ExceptionMapping \u001b[38;5;241m=\u001b[39m {socket\u001b[38;5;241m.\u001b[39mtimeout: ReadTimeout, \u001b[38;5;167;01mOSError\u001b[39;00m: ReadError}\n\u001b[0;32m---> 26\u001b[0m \u001b[38;5;28;01mwith\u001b[39;00m map_exceptions(exc_map):\n\u001b[1;32m     27\u001b[0m     \u001b[38;5;28mself\u001b[39m\u001b[38;5;241m.\u001b[39m_sock\u001b[38;5;241m.\u001b[39msettimeout(timeout)\n",
      "File \u001b[0;32m~/miniconda3/envs/nlp_p310/lib/python3.10/contextlib.py:153\u001b[0m, in \u001b[0;36m_GeneratorContextManager.__exit__\u001b[0;34m(self, typ, value, traceback)\u001b[0m\n\u001b[1;32m    152\u001b[0m \u001b[38;5;28;01mtry\u001b[39;00m:\n\u001b[0;32m--> 153\u001b[0m     \u001b[38;5;28;43mself\u001b[39;49m\u001b[38;5;241;43m.\u001b[39;49m\u001b[43mgen\u001b[49m\u001b[38;5;241;43m.\u001b[39;49m\u001b[43mthrow\u001b[49m\u001b[43m(\u001b[49m\u001b[43mtyp\u001b[49m\u001b[43m,\u001b[49m\u001b[43m \u001b[49m\u001b[43mvalue\u001b[49m\u001b[43m,\u001b[49m\u001b[43m \u001b[49m\u001b[43mtraceback\u001b[49m\u001b[43m)\u001b[49m\n\u001b[1;32m    154\u001b[0m \u001b[38;5;28;01mexcept\u001b[39;00m \u001b[38;5;167;01mStopIteration\u001b[39;00m \u001b[38;5;28;01mas\u001b[39;00m exc:\n\u001b[1;32m    155\u001b[0m     \u001b[38;5;66;03m# Suppress StopIteration *unless* it's the same exception that\u001b[39;00m\n\u001b[1;32m    156\u001b[0m     \u001b[38;5;66;03m# was passed to throw().  This prevents a StopIteration\u001b[39;00m\n\u001b[1;32m    157\u001b[0m     \u001b[38;5;66;03m# raised inside the \"with\" statement from being suppressed.\u001b[39;00m\n",
      "File \u001b[0;32m~/miniconda3/envs/nlp_p310/lib/python3.10/site-packages/httpcore/_exceptions.py:14\u001b[0m, in \u001b[0;36mmap_exceptions\u001b[0;34m(map)\u001b[0m\n\u001b[1;32m     13\u001b[0m     \u001b[38;5;28;01mif\u001b[39;00m \u001b[38;5;28misinstance\u001b[39m(exc, from_exc):\n\u001b[0;32m---> 14\u001b[0m         \u001b[38;5;28;01mraise\u001b[39;00m to_exc(exc) \u001b[38;5;28;01mfrom\u001b[39;00m \u001b[38;5;21;01mexc\u001b[39;00m\n\u001b[1;32m     15\u001b[0m \u001b[38;5;28;01mraise\u001b[39;00m\n",
      "\u001b[0;31mReadTimeout\u001b[0m: timed out",
      "\nThe above exception was the direct cause of the following exception:\n",
      "\u001b[0;31mReadTimeout\u001b[0m                               Traceback (most recent call last)",
      "File \u001b[0;32m~/miniconda3/envs/nlp_p310/lib/python3.10/site-packages/qdrant_client/http/api_client.py:101\u001b[0m, in \u001b[0;36mApiClient.send_inner\u001b[0;34m(self, request)\u001b[0m\n\u001b[1;32m    100\u001b[0m \u001b[38;5;28;01mtry\u001b[39;00m:\n\u001b[0;32m--> 101\u001b[0m     response \u001b[38;5;241m=\u001b[39m \u001b[38;5;28;43mself\u001b[39;49m\u001b[38;5;241;43m.\u001b[39;49m\u001b[43m_client\u001b[49m\u001b[38;5;241;43m.\u001b[39;49m\u001b[43msend\u001b[49m\u001b[43m(\u001b[49m\u001b[43mrequest\u001b[49m\u001b[43m)\u001b[49m\n\u001b[1;32m    102\u001b[0m \u001b[38;5;28;01mexcept\u001b[39;00m \u001b[38;5;167;01mException\u001b[39;00m \u001b[38;5;28;01mas\u001b[39;00m e:\n",
      "File \u001b[0;32m~/miniconda3/envs/nlp_p310/lib/python3.10/site-packages/httpx/_client.py:901\u001b[0m, in \u001b[0;36mClient.send\u001b[0;34m(self, request, stream, auth, follow_redirects)\u001b[0m\n\u001b[1;32m    899\u001b[0m auth \u001b[38;5;241m=\u001b[39m \u001b[38;5;28mself\u001b[39m\u001b[38;5;241m.\u001b[39m_build_request_auth(request, auth)\n\u001b[0;32m--> 901\u001b[0m response \u001b[38;5;241m=\u001b[39m \u001b[38;5;28;43mself\u001b[39;49m\u001b[38;5;241;43m.\u001b[39;49m\u001b[43m_send_handling_auth\u001b[49m\u001b[43m(\u001b[49m\n\u001b[1;32m    902\u001b[0m \u001b[43m    \u001b[49m\u001b[43mrequest\u001b[49m\u001b[43m,\u001b[49m\n\u001b[1;32m    903\u001b[0m \u001b[43m    \u001b[49m\u001b[43mauth\u001b[49m\u001b[38;5;241;43m=\u001b[39;49m\u001b[43mauth\u001b[49m\u001b[43m,\u001b[49m\n\u001b[1;32m    904\u001b[0m \u001b[43m    \u001b[49m\u001b[43mfollow_redirects\u001b[49m\u001b[38;5;241;43m=\u001b[39;49m\u001b[43mfollow_redirects\u001b[49m\u001b[43m,\u001b[49m\n\u001b[1;32m    905\u001b[0m \u001b[43m    \u001b[49m\u001b[43mhistory\u001b[49m\u001b[38;5;241;43m=\u001b[39;49m\u001b[43m[\u001b[49m\u001b[43m]\u001b[49m\u001b[43m,\u001b[49m\n\u001b[1;32m    906\u001b[0m \u001b[43m\u001b[49m\u001b[43m)\u001b[49m\n\u001b[1;32m    907\u001b[0m \u001b[38;5;28;01mtry\u001b[39;00m:\n",
      "File \u001b[0;32m~/miniconda3/envs/nlp_p310/lib/python3.10/site-packages/httpx/_client.py:929\u001b[0m, in \u001b[0;36mClient._send_handling_auth\u001b[0;34m(self, request, auth, follow_redirects, history)\u001b[0m\n\u001b[1;32m    928\u001b[0m \u001b[38;5;28;01mwhile\u001b[39;00m \u001b[38;5;28;01mTrue\u001b[39;00m:\n\u001b[0;32m--> 929\u001b[0m     response \u001b[38;5;241m=\u001b[39m \u001b[38;5;28;43mself\u001b[39;49m\u001b[38;5;241;43m.\u001b[39;49m\u001b[43m_send_handling_redirects\u001b[49m\u001b[43m(\u001b[49m\n\u001b[1;32m    930\u001b[0m \u001b[43m        \u001b[49m\u001b[43mrequest\u001b[49m\u001b[43m,\u001b[49m\n\u001b[1;32m    931\u001b[0m \u001b[43m        \u001b[49m\u001b[43mfollow_redirects\u001b[49m\u001b[38;5;241;43m=\u001b[39;49m\u001b[43mfollow_redirects\u001b[49m\u001b[43m,\u001b[49m\n\u001b[1;32m    932\u001b[0m \u001b[43m        \u001b[49m\u001b[43mhistory\u001b[49m\u001b[38;5;241;43m=\u001b[39;49m\u001b[43mhistory\u001b[49m\u001b[43m,\u001b[49m\n\u001b[1;32m    933\u001b[0m \u001b[43m    \u001b[49m\u001b[43m)\u001b[49m\n\u001b[1;32m    934\u001b[0m     \u001b[38;5;28;01mtry\u001b[39;00m:\n",
      "File \u001b[0;32m~/miniconda3/envs/nlp_p310/lib/python3.10/site-packages/httpx/_client.py:966\u001b[0m, in \u001b[0;36mClient._send_handling_redirects\u001b[0;34m(self, request, follow_redirects, history)\u001b[0m\n\u001b[1;32m    964\u001b[0m     hook(request)\n\u001b[0;32m--> 966\u001b[0m response \u001b[38;5;241m=\u001b[39m \u001b[38;5;28;43mself\u001b[39;49m\u001b[38;5;241;43m.\u001b[39;49m\u001b[43m_send_single_request\u001b[49m\u001b[43m(\u001b[49m\u001b[43mrequest\u001b[49m\u001b[43m)\u001b[49m\n\u001b[1;32m    967\u001b[0m \u001b[38;5;28;01mtry\u001b[39;00m:\n",
      "File \u001b[0;32m~/miniconda3/envs/nlp_p310/lib/python3.10/site-packages/httpx/_client.py:1002\u001b[0m, in \u001b[0;36mClient._send_single_request\u001b[0;34m(self, request)\u001b[0m\n\u001b[1;32m   1001\u001b[0m \u001b[38;5;28;01mwith\u001b[39;00m request_context(request\u001b[38;5;241m=\u001b[39mrequest):\n\u001b[0;32m-> 1002\u001b[0m     response \u001b[38;5;241m=\u001b[39m \u001b[43mtransport\u001b[49m\u001b[38;5;241;43m.\u001b[39;49m\u001b[43mhandle_request\u001b[49m\u001b[43m(\u001b[49m\u001b[43mrequest\u001b[49m\u001b[43m)\u001b[49m\n\u001b[1;32m   1004\u001b[0m \u001b[38;5;28;01massert\u001b[39;00m \u001b[38;5;28misinstance\u001b[39m(response\u001b[38;5;241m.\u001b[39mstream, SyncByteStream)\n",
      "File \u001b[0;32m~/miniconda3/envs/nlp_p310/lib/python3.10/site-packages/httpx/_transports/default.py:217\u001b[0m, in \u001b[0;36mHTTPTransport.handle_request\u001b[0;34m(self, request)\u001b[0m\n\u001b[1;32m    205\u001b[0m req \u001b[38;5;241m=\u001b[39m httpcore\u001b[38;5;241m.\u001b[39mRequest(\n\u001b[1;32m    206\u001b[0m     method\u001b[38;5;241m=\u001b[39mrequest\u001b[38;5;241m.\u001b[39mmethod,\n\u001b[1;32m    207\u001b[0m     url\u001b[38;5;241m=\u001b[39mhttpcore\u001b[38;5;241m.\u001b[39mURL(\n\u001b[0;32m   (...)\u001b[0m\n\u001b[1;32m    215\u001b[0m     extensions\u001b[38;5;241m=\u001b[39mrequest\u001b[38;5;241m.\u001b[39mextensions,\n\u001b[1;32m    216\u001b[0m )\n\u001b[0;32m--> 217\u001b[0m \u001b[38;5;28;01mwith\u001b[39;00m map_httpcore_exceptions():\n\u001b[1;32m    218\u001b[0m     resp \u001b[38;5;241m=\u001b[39m \u001b[38;5;28mself\u001b[39m\u001b[38;5;241m.\u001b[39m_pool\u001b[38;5;241m.\u001b[39mhandle_request(req)\n",
      "File \u001b[0;32m~/miniconda3/envs/nlp_p310/lib/python3.10/contextlib.py:153\u001b[0m, in \u001b[0;36m_GeneratorContextManager.__exit__\u001b[0;34m(self, typ, value, traceback)\u001b[0m\n\u001b[1;32m    152\u001b[0m \u001b[38;5;28;01mtry\u001b[39;00m:\n\u001b[0;32m--> 153\u001b[0m     \u001b[38;5;28;43mself\u001b[39;49m\u001b[38;5;241;43m.\u001b[39;49m\u001b[43mgen\u001b[49m\u001b[38;5;241;43m.\u001b[39;49m\u001b[43mthrow\u001b[49m\u001b[43m(\u001b[49m\u001b[43mtyp\u001b[49m\u001b[43m,\u001b[49m\u001b[43m \u001b[49m\u001b[43mvalue\u001b[49m\u001b[43m,\u001b[49m\u001b[43m \u001b[49m\u001b[43mtraceback\u001b[49m\u001b[43m)\u001b[49m\n\u001b[1;32m    154\u001b[0m \u001b[38;5;28;01mexcept\u001b[39;00m \u001b[38;5;167;01mStopIteration\u001b[39;00m \u001b[38;5;28;01mas\u001b[39;00m exc:\n\u001b[1;32m    155\u001b[0m     \u001b[38;5;66;03m# Suppress StopIteration *unless* it's the same exception that\u001b[39;00m\n\u001b[1;32m    156\u001b[0m     \u001b[38;5;66;03m# was passed to throw().  This prevents a StopIteration\u001b[39;00m\n\u001b[1;32m    157\u001b[0m     \u001b[38;5;66;03m# raised inside the \"with\" statement from being suppressed.\u001b[39;00m\n",
      "File \u001b[0;32m~/miniconda3/envs/nlp_p310/lib/python3.10/site-packages/httpx/_transports/default.py:77\u001b[0m, in \u001b[0;36mmap_httpcore_exceptions\u001b[0;34m()\u001b[0m\n\u001b[1;32m     76\u001b[0m message \u001b[38;5;241m=\u001b[39m \u001b[38;5;28mstr\u001b[39m(exc)\n\u001b[0;32m---> 77\u001b[0m \u001b[38;5;28;01mraise\u001b[39;00m mapped_exc(message) \u001b[38;5;28;01mfrom\u001b[39;00m \u001b[38;5;21;01mexc\u001b[39;00m\n",
      "\u001b[0;31mReadTimeout\u001b[0m: timed out",
      "\nDuring handling of the above exception, another exception occurred:\n",
      "\u001b[0;31mResponseHandlingException\u001b[0m                 Traceback (most recent call last)",
      "Cell \u001b[0;32mIn[35], line 18\u001b[0m\n\u001b[1;32m     14\u001b[0m query: \u001b[38;5;28mstr\u001b[39m \u001b[38;5;241m=\u001b[39m \u001b[38;5;124m\"\u001b[39m\u001b[38;5;124mwhich update has the worst performance?\u001b[39m\u001b[38;5;124m\"\u001b[39m\n\u001b[1;32m     15\u001b[0m query_vector: \u001b[38;5;28mlist\u001b[39m[\u001b[38;5;28mfloat\u001b[39m] \u001b[38;5;241m=\u001b[39m encoder\u001b[38;5;241m.\u001b[39mencode(query)\u001b[38;5;241m.\u001b[39mtolist()\n\u001b[0;32m---> 18\u001b[0m hits: \u001b[38;5;28mlist\u001b[39m[Any] \u001b[38;5;241m=\u001b[39m \u001b[43mclient\u001b[49m\u001b[38;5;241;43m.\u001b[39;49m\u001b[43msearch\u001b[49m\u001b[43m(\u001b[49m\n\u001b[1;32m     19\u001b[0m \u001b[43m    \u001b[49m\u001b[43mcollection_name\u001b[49m\u001b[38;5;241;43m=\u001b[39;49m\u001b[43mCOLLECTION_NAME\u001b[49m\u001b[43m,\u001b[49m\n\u001b[1;32m     20\u001b[0m \u001b[43m    \u001b[49m\u001b[43mquery_vector\u001b[49m\u001b[38;5;241;43m=\u001b[39;49m\u001b[43mquery_vector\u001b[49m\u001b[43m,\u001b[49m\n\u001b[1;32m     21\u001b[0m \u001b[43m    \u001b[49m\u001b[43mquery_filter\u001b[49m\u001b[38;5;241;43m=\u001b[39;49m\u001b[43mquery_filter\u001b[49m\u001b[43m,\u001b[49m\n\u001b[1;32m     22\u001b[0m \u001b[43m    \u001b[49m\u001b[43mlimit\u001b[49m\u001b[38;5;241;43m=\u001b[39;49m\u001b[38;5;241;43m20\u001b[39;49m\u001b[43m,\u001b[49m\n\u001b[1;32m     23\u001b[0m \u001b[43m)\u001b[49m\n\u001b[1;32m     24\u001b[0m \u001b[38;5;66;03m# for hit in hits:\u001b[39;00m\n\u001b[1;32m     25\u001b[0m \u001b[38;5;66;03m#     print(hit.payload, \"score:\", hit.score)\u001b[39;00m\n\u001b[1;32m     27\u001b[0m \u001b[38;5;28mprint\u001b[39m(\u001b[38;5;28mlen\u001b[39m(hits))\n",
      "File \u001b[0;32m~/miniconda3/envs/nlp_p310/lib/python3.10/site-packages/qdrant_client/qdrant_client.py:340\u001b[0m, in \u001b[0;36mQdrantClient.search\u001b[0;34m(self, collection_name, query_vector, query_filter, search_params, limit, offset, with_payload, with_vectors, score_threshold, append_payload, consistency, shard_key_selector, timeout, **kwargs)\u001b[0m\n\u001b[1;32m    269\u001b[0m \u001b[38;5;250m\u001b[39m\u001b[38;5;124;03m\"\"\"Search for closest vectors in collection taking into account filtering conditions\u001b[39;00m\n\u001b[1;32m    270\u001b[0m \n\u001b[1;32m    271\u001b[0m \u001b[38;5;124;03mArgs:\u001b[39;00m\n\u001b[0;32m   (...)\u001b[0m\n\u001b[1;32m    336\u001b[0m \u001b[38;5;124;03m    List of found close points with similarity scores.\u001b[39;00m\n\u001b[1;32m    337\u001b[0m \u001b[38;5;124;03m\"\"\"\u001b[39;00m\n\u001b[1;32m    338\u001b[0m \u001b[38;5;28;01massert\u001b[39;00m \u001b[38;5;28mlen\u001b[39m(kwargs) \u001b[38;5;241m==\u001b[39m \u001b[38;5;241m0\u001b[39m, \u001b[38;5;124mf\u001b[39m\u001b[38;5;124m\"\u001b[39m\u001b[38;5;124mUnknown arguments: \u001b[39m\u001b[38;5;132;01m{\u001b[39;00m\u001b[38;5;28mlist\u001b[39m(kwargs\u001b[38;5;241m.\u001b[39mkeys())\u001b[38;5;132;01m}\u001b[39;00m\u001b[38;5;124m\"\u001b[39m\n\u001b[0;32m--> 340\u001b[0m \u001b[38;5;28;01mreturn\u001b[39;00m \u001b[38;5;28;43mself\u001b[39;49m\u001b[38;5;241;43m.\u001b[39;49m\u001b[43m_client\u001b[49m\u001b[38;5;241;43m.\u001b[39;49m\u001b[43msearch\u001b[49m\u001b[43m(\u001b[49m\n\u001b[1;32m    341\u001b[0m \u001b[43m    \u001b[49m\u001b[43mcollection_name\u001b[49m\u001b[38;5;241;43m=\u001b[39;49m\u001b[43mcollection_name\u001b[49m\u001b[43m,\u001b[49m\n\u001b[1;32m    342\u001b[0m \u001b[43m    \u001b[49m\u001b[43mquery_vector\u001b[49m\u001b[38;5;241;43m=\u001b[39;49m\u001b[43mquery_vector\u001b[49m\u001b[43m,\u001b[49m\n\u001b[1;32m    343\u001b[0m \u001b[43m    \u001b[49m\u001b[43mquery_filter\u001b[49m\u001b[38;5;241;43m=\u001b[39;49m\u001b[43mquery_filter\u001b[49m\u001b[43m,\u001b[49m\n\u001b[1;32m    344\u001b[0m \u001b[43m    \u001b[49m\u001b[43msearch_params\u001b[49m\u001b[38;5;241;43m=\u001b[39;49m\u001b[43msearch_params\u001b[49m\u001b[43m,\u001b[49m\n\u001b[1;32m    345\u001b[0m \u001b[43m    \u001b[49m\u001b[43mlimit\u001b[49m\u001b[38;5;241;43m=\u001b[39;49m\u001b[43mlimit\u001b[49m\u001b[43m,\u001b[49m\n\u001b[1;32m    346\u001b[0m \u001b[43m    \u001b[49m\u001b[43moffset\u001b[49m\u001b[38;5;241;43m=\u001b[39;49m\u001b[43moffset\u001b[49m\u001b[43m,\u001b[49m\n\u001b[1;32m    347\u001b[0m \u001b[43m    \u001b[49m\u001b[43mwith_payload\u001b[49m\u001b[38;5;241;43m=\u001b[39;49m\u001b[43mwith_payload\u001b[49m\u001b[43m,\u001b[49m\n\u001b[1;32m    348\u001b[0m \u001b[43m    \u001b[49m\u001b[43mwith_vectors\u001b[49m\u001b[38;5;241;43m=\u001b[39;49m\u001b[43mwith_vectors\u001b[49m\u001b[43m,\u001b[49m\n\u001b[1;32m    349\u001b[0m \u001b[43m    \u001b[49m\u001b[43mscore_threshold\u001b[49m\u001b[38;5;241;43m=\u001b[39;49m\u001b[43mscore_threshold\u001b[49m\u001b[43m,\u001b[49m\n\u001b[1;32m    350\u001b[0m \u001b[43m    \u001b[49m\u001b[43mappend_payload\u001b[49m\u001b[38;5;241;43m=\u001b[39;49m\u001b[43mappend_payload\u001b[49m\u001b[43m,\u001b[49m\n\u001b[1;32m    351\u001b[0m \u001b[43m    \u001b[49m\u001b[43mconsistency\u001b[49m\u001b[38;5;241;43m=\u001b[39;49m\u001b[43mconsistency\u001b[49m\u001b[43m,\u001b[49m\n\u001b[1;32m    352\u001b[0m \u001b[43m    \u001b[49m\u001b[43mshard_key_selector\u001b[49m\u001b[38;5;241;43m=\u001b[39;49m\u001b[43mshard_key_selector\u001b[49m\u001b[43m,\u001b[49m\n\u001b[1;32m    353\u001b[0m \u001b[43m    \u001b[49m\u001b[43mtimeout\u001b[49m\u001b[38;5;241;43m=\u001b[39;49m\u001b[43mtimeout\u001b[49m\u001b[43m,\u001b[49m\n\u001b[1;32m    354\u001b[0m \u001b[43m    \u001b[49m\u001b[38;5;241;43m*\u001b[39;49m\u001b[38;5;241;43m*\u001b[39;49m\u001b[43mkwargs\u001b[49m\u001b[43m,\u001b[49m\n\u001b[1;32m    355\u001b[0m \u001b[43m\u001b[49m\u001b[43m)\u001b[49m\n",
      "File \u001b[0;32m~/miniconda3/envs/nlp_p310/lib/python3.10/site-packages/qdrant_client/qdrant_remote.py:472\u001b[0m, in \u001b[0;36mQdrantRemote.search\u001b[0;34m(self, collection_name, query_vector, query_filter, search_params, limit, offset, with_payload, with_vectors, score_threshold, append_payload, consistency, shard_key_selector, timeout, **kwargs)\u001b[0m\n\u001b[1;32m    469\u001b[0m \u001b[38;5;28;01mif\u001b[39;00m \u001b[38;5;28misinstance\u001b[39m(with_payload, grpc\u001b[38;5;241m.\u001b[39mWithPayloadSelector):\n\u001b[1;32m    470\u001b[0m     with_payload \u001b[38;5;241m=\u001b[39m GrpcToRest\u001b[38;5;241m.\u001b[39mconvert_with_payload_selector(with_payload)\n\u001b[0;32m--> 472\u001b[0m search_result \u001b[38;5;241m=\u001b[39m \u001b[38;5;28;43mself\u001b[39;49m\u001b[38;5;241;43m.\u001b[39;49m\u001b[43mhttp\u001b[49m\u001b[38;5;241;43m.\u001b[39;49m\u001b[43mpoints_api\u001b[49m\u001b[38;5;241;43m.\u001b[39;49m\u001b[43msearch_points\u001b[49m\u001b[43m(\u001b[49m\n\u001b[1;32m    473\u001b[0m \u001b[43m    \u001b[49m\u001b[43mcollection_name\u001b[49m\u001b[38;5;241;43m=\u001b[39;49m\u001b[43mcollection_name\u001b[49m\u001b[43m,\u001b[49m\n\u001b[1;32m    474\u001b[0m \u001b[43m    \u001b[49m\u001b[43mconsistency\u001b[49m\u001b[38;5;241;43m=\u001b[39;49m\u001b[43mconsistency\u001b[49m\u001b[43m,\u001b[49m\n\u001b[1;32m    475\u001b[0m \u001b[43m    \u001b[49m\u001b[43mtimeout\u001b[49m\u001b[38;5;241;43m=\u001b[39;49m\u001b[43mtimeout\u001b[49m\u001b[43m,\u001b[49m\n\u001b[1;32m    476\u001b[0m \u001b[43m    \u001b[49m\u001b[43msearch_request\u001b[49m\u001b[38;5;241;43m=\u001b[39;49m\u001b[43mmodels\u001b[49m\u001b[38;5;241;43m.\u001b[39;49m\u001b[43mSearchRequest\u001b[49m\u001b[43m(\u001b[49m\n\u001b[1;32m    477\u001b[0m \u001b[43m        \u001b[49m\u001b[43mvector\u001b[49m\u001b[38;5;241;43m=\u001b[39;49m\u001b[43mquery_vector\u001b[49m\u001b[43m,\u001b[49m\n\u001b[1;32m    478\u001b[0m \u001b[43m        \u001b[49m\u001b[38;5;28;43mfilter\u001b[39;49m\u001b[38;5;241;43m=\u001b[39;49m\u001b[43mquery_filter\u001b[49m\u001b[43m,\u001b[49m\n\u001b[1;32m    479\u001b[0m \u001b[43m        \u001b[49m\u001b[43mlimit\u001b[49m\u001b[38;5;241;43m=\u001b[39;49m\u001b[43mlimit\u001b[49m\u001b[43m,\u001b[49m\n\u001b[1;32m    480\u001b[0m \u001b[43m        \u001b[49m\u001b[43moffset\u001b[49m\u001b[38;5;241;43m=\u001b[39;49m\u001b[43moffset\u001b[49m\u001b[43m,\u001b[49m\n\u001b[1;32m    481\u001b[0m \u001b[43m        \u001b[49m\u001b[43mparams\u001b[49m\u001b[38;5;241;43m=\u001b[39;49m\u001b[43msearch_params\u001b[49m\u001b[43m,\u001b[49m\n\u001b[1;32m    482\u001b[0m \u001b[43m        \u001b[49m\u001b[43mwith_vector\u001b[49m\u001b[38;5;241;43m=\u001b[39;49m\u001b[43mwith_vectors\u001b[49m\u001b[43m,\u001b[49m\n\u001b[1;32m    483\u001b[0m \u001b[43m        \u001b[49m\u001b[43mwith_payload\u001b[49m\u001b[38;5;241;43m=\u001b[39;49m\u001b[43mwith_payload\u001b[49m\u001b[43m,\u001b[49m\n\u001b[1;32m    484\u001b[0m \u001b[43m        \u001b[49m\u001b[43mscore_threshold\u001b[49m\u001b[38;5;241;43m=\u001b[39;49m\u001b[43mscore_threshold\u001b[49m\u001b[43m,\u001b[49m\n\u001b[1;32m    485\u001b[0m \u001b[43m        \u001b[49m\u001b[43mshard_key\u001b[49m\u001b[38;5;241;43m=\u001b[39;49m\u001b[43mshard_key_selector\u001b[49m\u001b[43m,\u001b[49m\n\u001b[1;32m    486\u001b[0m \u001b[43m    \u001b[49m\u001b[43m)\u001b[49m\u001b[43m,\u001b[49m\n\u001b[1;32m    487\u001b[0m \u001b[43m\u001b[49m\u001b[43m)\u001b[49m\n\u001b[1;32m    488\u001b[0m result: Optional[List[types\u001b[38;5;241m.\u001b[39mScoredPoint]] \u001b[38;5;241m=\u001b[39m search_result\u001b[38;5;241m.\u001b[39mresult\n\u001b[1;32m    489\u001b[0m \u001b[38;5;28;01massert\u001b[39;00m result \u001b[38;5;129;01mis\u001b[39;00m \u001b[38;5;129;01mnot\u001b[39;00m \u001b[38;5;28;01mNone\u001b[39;00m, \u001b[38;5;124m\"\u001b[39m\u001b[38;5;124mSearch returned None\u001b[39m\u001b[38;5;124m\"\u001b[39m\n",
      "File \u001b[0;32m~/miniconda3/envs/nlp_p310/lib/python3.10/site-packages/qdrant_client/http/api/points_api.py:1388\u001b[0m, in \u001b[0;36mSyncPointsApi.search_points\u001b[0;34m(self, collection_name, consistency, timeout, search_request)\u001b[0m\n\u001b[1;32m   1378\u001b[0m \u001b[38;5;28;01mdef\u001b[39;00m \u001b[38;5;21msearch_points\u001b[39m(\n\u001b[1;32m   1379\u001b[0m     \u001b[38;5;28mself\u001b[39m,\n\u001b[1;32m   1380\u001b[0m     collection_name: \u001b[38;5;28mstr\u001b[39m,\n\u001b[0;32m   (...)\u001b[0m\n\u001b[1;32m   1383\u001b[0m     search_request: m\u001b[38;5;241m.\u001b[39mSearchRequest \u001b[38;5;241m=\u001b[39m \u001b[38;5;28;01mNone\u001b[39;00m,\n\u001b[1;32m   1384\u001b[0m ) \u001b[38;5;241m-\u001b[39m\u001b[38;5;241m>\u001b[39m m\u001b[38;5;241m.\u001b[39mInlineResponse20015:\n\u001b[1;32m   1385\u001b[0m \u001b[38;5;250m    \u001b[39m\u001b[38;5;124;03m\"\"\"\u001b[39;00m\n\u001b[1;32m   1386\u001b[0m \u001b[38;5;124;03m    Retrieve closest points based on vector similarity and given filtering conditions\u001b[39;00m\n\u001b[1;32m   1387\u001b[0m \u001b[38;5;124;03m    \"\"\"\u001b[39;00m\n\u001b[0;32m-> 1388\u001b[0m     \u001b[38;5;28;01mreturn\u001b[39;00m \u001b[38;5;28;43mself\u001b[39;49m\u001b[38;5;241;43m.\u001b[39;49m\u001b[43m_build_for_search_points\u001b[49m\u001b[43m(\u001b[49m\n\u001b[1;32m   1389\u001b[0m \u001b[43m        \u001b[49m\u001b[43mcollection_name\u001b[49m\u001b[38;5;241;43m=\u001b[39;49m\u001b[43mcollection_name\u001b[49m\u001b[43m,\u001b[49m\n\u001b[1;32m   1390\u001b[0m \u001b[43m        \u001b[49m\u001b[43mconsistency\u001b[49m\u001b[38;5;241;43m=\u001b[39;49m\u001b[43mconsistency\u001b[49m\u001b[43m,\u001b[49m\n\u001b[1;32m   1391\u001b[0m \u001b[43m        \u001b[49m\u001b[43mtimeout\u001b[49m\u001b[38;5;241;43m=\u001b[39;49m\u001b[43mtimeout\u001b[49m\u001b[43m,\u001b[49m\n\u001b[1;32m   1392\u001b[0m \u001b[43m        \u001b[49m\u001b[43msearch_request\u001b[49m\u001b[38;5;241;43m=\u001b[39;49m\u001b[43msearch_request\u001b[49m\u001b[43m,\u001b[49m\n\u001b[1;32m   1393\u001b[0m \u001b[43m    \u001b[49m\u001b[43m)\u001b[49m\n",
      "File \u001b[0;32m~/miniconda3/envs/nlp_p310/lib/python3.10/site-packages/qdrant_client/http/api/points_api.py:636\u001b[0m, in \u001b[0;36m_PointsApi._build_for_search_points\u001b[0;34m(self, collection_name, consistency, timeout, search_request)\u001b[0m\n\u001b[1;32m    634\u001b[0m \u001b[38;5;28;01mif\u001b[39;00m \u001b[38;5;124m\"\u001b[39m\u001b[38;5;124mContent-Type\u001b[39m\u001b[38;5;124m\"\u001b[39m \u001b[38;5;129;01mnot\u001b[39;00m \u001b[38;5;129;01min\u001b[39;00m headers:\n\u001b[1;32m    635\u001b[0m     headers[\u001b[38;5;124m\"\u001b[39m\u001b[38;5;124mContent-Type\u001b[39m\u001b[38;5;124m\"\u001b[39m] \u001b[38;5;241m=\u001b[39m \u001b[38;5;124m\"\u001b[39m\u001b[38;5;124mapplication/json\u001b[39m\u001b[38;5;124m\"\u001b[39m\n\u001b[0;32m--> 636\u001b[0m \u001b[38;5;28;01mreturn\u001b[39;00m \u001b[38;5;28;43mself\u001b[39;49m\u001b[38;5;241;43m.\u001b[39;49m\u001b[43mapi_client\u001b[49m\u001b[38;5;241;43m.\u001b[39;49m\u001b[43mrequest\u001b[49m\u001b[43m(\u001b[49m\n\u001b[1;32m    637\u001b[0m \u001b[43m    \u001b[49m\u001b[43mtype_\u001b[49m\u001b[38;5;241;43m=\u001b[39;49m\u001b[43mm\u001b[49m\u001b[38;5;241;43m.\u001b[39;49m\u001b[43mInlineResponse20015\u001b[49m\u001b[43m,\u001b[49m\n\u001b[1;32m    638\u001b[0m \u001b[43m    \u001b[49m\u001b[43mmethod\u001b[49m\u001b[38;5;241;43m=\u001b[39;49m\u001b[38;5;124;43m\"\u001b[39;49m\u001b[38;5;124;43mPOST\u001b[39;49m\u001b[38;5;124;43m\"\u001b[39;49m\u001b[43m,\u001b[49m\n\u001b[1;32m    639\u001b[0m \u001b[43m    \u001b[49m\u001b[43murl\u001b[49m\u001b[38;5;241;43m=\u001b[39;49m\u001b[38;5;124;43m\"\u001b[39;49m\u001b[38;5;124;43m/collections/\u001b[39;49m\u001b[38;5;132;43;01m{collection_name}\u001b[39;49;00m\u001b[38;5;124;43m/points/search\u001b[39;49m\u001b[38;5;124;43m\"\u001b[39;49m\u001b[43m,\u001b[49m\n\u001b[1;32m    640\u001b[0m \u001b[43m    \u001b[49m\u001b[43mheaders\u001b[49m\u001b[38;5;241;43m=\u001b[39;49m\u001b[43mheaders\u001b[49m\u001b[43m \u001b[49m\u001b[38;5;28;43;01mif\u001b[39;49;00m\u001b[43m \u001b[49m\u001b[43mheaders\u001b[49m\u001b[43m \u001b[49m\u001b[38;5;28;43;01melse\u001b[39;49;00m\u001b[43m \u001b[49m\u001b[38;5;28;43;01mNone\u001b[39;49;00m\u001b[43m,\u001b[49m\n\u001b[1;32m    641\u001b[0m \u001b[43m    \u001b[49m\u001b[43mpath_params\u001b[49m\u001b[38;5;241;43m=\u001b[39;49m\u001b[43mpath_params\u001b[49m\u001b[43m,\u001b[49m\n\u001b[1;32m    642\u001b[0m \u001b[43m    \u001b[49m\u001b[43mparams\u001b[49m\u001b[38;5;241;43m=\u001b[39;49m\u001b[43mquery_params\u001b[49m\u001b[43m,\u001b[49m\n\u001b[1;32m    643\u001b[0m \u001b[43m    \u001b[49m\u001b[43mdata\u001b[49m\u001b[38;5;241;43m=\u001b[39;49m\u001b[43mbody\u001b[49m\u001b[43m,\u001b[49m\n\u001b[1;32m    644\u001b[0m \u001b[43m\u001b[49m\u001b[43m)\u001b[49m\n",
      "File \u001b[0;32m~/miniconda3/envs/nlp_p310/lib/python3.10/site-packages/qdrant_client/http/api_client.py:74\u001b[0m, in \u001b[0;36mApiClient.request\u001b[0;34m(self, type_, method, url, path_params, **kwargs)\u001b[0m\n\u001b[1;32m     72\u001b[0m url \u001b[38;5;241m=\u001b[39m (\u001b[38;5;28mself\u001b[39m\u001b[38;5;241m.\u001b[39mhost \u001b[38;5;129;01mor\u001b[39;00m \u001b[38;5;124m\"\u001b[39m\u001b[38;5;124m\"\u001b[39m) \u001b[38;5;241m+\u001b[39m url\u001b[38;5;241m.\u001b[39mformat(\u001b[38;5;241m*\u001b[39m\u001b[38;5;241m*\u001b[39mpath_params)\n\u001b[1;32m     73\u001b[0m request \u001b[38;5;241m=\u001b[39m \u001b[38;5;28mself\u001b[39m\u001b[38;5;241m.\u001b[39m_client\u001b[38;5;241m.\u001b[39mbuild_request(method, url, \u001b[38;5;241m*\u001b[39m\u001b[38;5;241m*\u001b[39mkwargs)\n\u001b[0;32m---> 74\u001b[0m \u001b[38;5;28;01mreturn\u001b[39;00m \u001b[38;5;28;43mself\u001b[39;49m\u001b[38;5;241;43m.\u001b[39;49m\u001b[43msend\u001b[49m\u001b[43m(\u001b[49m\u001b[43mrequest\u001b[49m\u001b[43m,\u001b[49m\u001b[43m \u001b[49m\u001b[43mtype_\u001b[49m\u001b[43m)\u001b[49m\n",
      "File \u001b[0;32m~/miniconda3/envs/nlp_p310/lib/python3.10/site-packages/qdrant_client/http/api_client.py:91\u001b[0m, in \u001b[0;36mApiClient.send\u001b[0;34m(self, request, type_)\u001b[0m\n\u001b[1;32m     90\u001b[0m \u001b[38;5;28;01mdef\u001b[39;00m \u001b[38;5;21msend\u001b[39m(\u001b[38;5;28mself\u001b[39m, request: Request, type_: Type[T]) \u001b[38;5;241m-\u001b[39m\u001b[38;5;241m>\u001b[39m T:\n\u001b[0;32m---> 91\u001b[0m     response \u001b[38;5;241m=\u001b[39m \u001b[38;5;28;43mself\u001b[39;49m\u001b[38;5;241;43m.\u001b[39;49m\u001b[43mmiddleware\u001b[49m\u001b[43m(\u001b[49m\u001b[43mrequest\u001b[49m\u001b[43m,\u001b[49m\u001b[43m \u001b[49m\u001b[38;5;28;43mself\u001b[39;49m\u001b[38;5;241;43m.\u001b[39;49m\u001b[43msend_inner\u001b[49m\u001b[43m)\u001b[49m\n\u001b[1;32m     92\u001b[0m     \u001b[38;5;28;01mif\u001b[39;00m response\u001b[38;5;241m.\u001b[39mstatus_code \u001b[38;5;129;01min\u001b[39;00m [\u001b[38;5;241m200\u001b[39m, \u001b[38;5;241m201\u001b[39m, \u001b[38;5;241m202\u001b[39m]:\n\u001b[1;32m     93\u001b[0m         \u001b[38;5;28;01mtry\u001b[39;00m:\n",
      "File \u001b[0;32m~/miniconda3/envs/nlp_p310/lib/python3.10/site-packages/qdrant_client/http/api_client.py:200\u001b[0m, in \u001b[0;36mBaseMiddleware.__call__\u001b[0;34m(self, request, call_next)\u001b[0m\n\u001b[1;32m    199\u001b[0m \u001b[38;5;28;01mdef\u001b[39;00m \u001b[38;5;21m__call__\u001b[39m(\u001b[38;5;28mself\u001b[39m, request: Request, call_next: Send) \u001b[38;5;241m-\u001b[39m\u001b[38;5;241m>\u001b[39m Response:\n\u001b[0;32m--> 200\u001b[0m     \u001b[38;5;28;01mreturn\u001b[39;00m \u001b[43mcall_next\u001b[49m\u001b[43m(\u001b[49m\u001b[43mrequest\u001b[49m\u001b[43m)\u001b[49m\n",
      "File \u001b[0;32m~/miniconda3/envs/nlp_p310/lib/python3.10/site-packages/qdrant_client/http/api_client.py:103\u001b[0m, in \u001b[0;36mApiClient.send_inner\u001b[0;34m(self, request)\u001b[0m\n\u001b[1;32m    101\u001b[0m     response \u001b[38;5;241m=\u001b[39m \u001b[38;5;28mself\u001b[39m\u001b[38;5;241m.\u001b[39m_client\u001b[38;5;241m.\u001b[39msend(request)\n\u001b[1;32m    102\u001b[0m \u001b[38;5;28;01mexcept\u001b[39;00m \u001b[38;5;167;01mException\u001b[39;00m \u001b[38;5;28;01mas\u001b[39;00m e:\n\u001b[0;32m--> 103\u001b[0m     \u001b[38;5;28;01mraise\u001b[39;00m ResponseHandlingException(e)\n\u001b[1;32m    104\u001b[0m \u001b[38;5;28;01mreturn\u001b[39;00m response\n",
      "\u001b[0;31mResponseHandlingException\u001b[0m: timed out"
     ]
    }
   ],
   "source": [
    "# N: int = 3\n",
    "# Generate timestamps for start and end time of the period\n",
    "s_date, e_date = [\"2015-10-16\", \"201-10-01\"]  # yyyy-mm-dd\n",
    "start_time: float = get_timestamp([s_date])[0]\n",
    "end_time: float = get_timestamp([e_date])[0]\n",
    "\n",
    "query_filter: dict[str, Any] = {\n",
    "    \"must\": [\n",
    "        {\"key\": \"timestamp\", \"range\": {\"gte\": start_time, \"lte\": end_time}},\n",
    "    ]\n",
    "}\n",
    "\n",
    "\n",
    "query: str = \"which update has the worst performance?\"\n",
    "query_vector: list[float] = encoder.encode(query).tolist()\n",
    "\n",
    "\n",
    "hits: list[Any] = client.search(\n",
    "    collection_name=COLLECTION_NAME,\n",
    "    query_vector=query_vector,\n",
    "    query_filter=query_filter,\n",
    "    limit=N,\n",
    ")\n",
    "# for hit in hits:\n",
    "#     print(hit.payload, \"score:\", hit.score)\n",
    "\n",
    "print(len(hits))"
   ]
  },
  {
   "cell_type": "code",
   "execution_count": null,
   "metadata": {},
   "outputs": [],
   "source": []
  },
  {
   "cell_type": "code",
   "execution_count": null,
   "metadata": {},
   "outputs": [],
   "source": []
  },
  {
   "cell_type": "code",
   "execution_count": null,
   "metadata": {},
   "outputs": [],
   "source": []
  },
  {
   "cell_type": "code",
   "execution_count": null,
   "metadata": {},
   "outputs": [],
   "source": []
  }
 ],
 "metadata": {
  "kernelspec": {
   "display_name": "nlp_p310",
   "language": "python",
   "name": "python3"
  },
  "language_info": {
   "codemirror_mode": {
    "name": "ipython",
    "version": 3
   },
   "file_extension": ".py",
   "mimetype": "text/x-python",
   "name": "python",
   "nbconvert_exporter": "python",
   "pygments_lexer": "ipython3",
   "version": "3.10.9"
  }
 },
 "nbformat": 4,
 "nbformat_minor": 2
}
