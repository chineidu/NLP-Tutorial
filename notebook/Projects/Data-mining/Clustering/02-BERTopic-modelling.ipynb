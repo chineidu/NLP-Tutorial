{
 "cells": [
  {
   "cell_type": "markdown",
   "metadata": {},
   "source": [
    "# BERTopic Modelling\n",
    "\n",
    "```sh\n",
    "pip install bertopic\n",
    "```"
   ]
  },
  {
   "cell_type": "code",
   "execution_count": 1,
   "metadata": {},
   "outputs": [],
   "source": [
    "# Built-in library\n",
    "import re\n",
    "import json\n",
    "from typing import Any, Optional, TypeAlias, Union\n",
    "import logging\n",
    "import warnings\n",
    "\n",
    "# Standard imports\n",
    "import numpy as np\n",
    "from pprint import pprint\n",
    "import pandas as pd\n",
    "import polars as pl\n",
    "from rich import print\n",
    "import torch\n",
    "\n",
    "# Visualization\n",
    "import matplotlib.pyplot as plt\n",
    "\n",
    "\n",
    "# Pandas settings\n",
    "pd.options.display.max_rows = 1_000\n",
    "pd.options.display.max_columns = 1_000\n",
    "pd.options.display.max_colwidth = 600\n",
    "\n",
    "warnings.filterwarnings(\"ignore\")\n",
    "\n",
    "# Black code formatter (Optional)\n",
    "%load_ext lab_black\n",
    "\n",
    "# auto reload imports\n",
    "%load_ext autoreload\n",
    "%autoreload 2"
   ]
  },
  {
   "cell_type": "markdown",
   "metadata": {},
   "source": [
    "### Load Data"
   ]
  },
  {
   "cell_type": "code",
   "execution_count": 2,
   "metadata": {},
   "outputs": [
    {
     "data": {
      "text/plain": [
       "Dataset({\n",
       "    features: ['sub', 'title', 'selftext', 'upvote_ratio', 'id', 'created_utc'],\n",
       "    num_rows: 3791\n",
       "})"
      ]
     },
     "execution_count": 2,
     "metadata": {},
     "output_type": "execute_result"
    }
   ],
   "source": [
    "from datasets import Dataset, load_dataset\n",
    "\n",
    "path: str = \"jamescalam/reddit-topics\"\n",
    "split: str = \"train\"\n",
    "\n",
    "data: Dataset = load_dataset(path=path, split=split)\n",
    "data"
   ]
  },
  {
   "cell_type": "code",
   "execution_count": 3,
   "metadata": {},
   "outputs": [
    {
     "data": {
      "text/plain": [
       "3118"
      ]
     },
     "execution_count": 3,
     "metadata": {},
     "output_type": "execute_result"
    }
   ],
   "source": [
    "# Remove data points with small text size\n",
    "data = data.filter(lambda x: len(x.get(\"selftext\")) > 30)\n",
    "data.num_rows"
   ]
  },
  {
   "cell_type": "code",
   "execution_count": 4,
   "metadata": {},
   "outputs": [
    {
     "name": "stderr",
     "output_type": "stream",
     "text": [
      "2023-12-07 18:17:34.649643: I tensorflow/core/platform/cpu_feature_guard.cc:182] This TensorFlow binary is optimized to use available CPU instructions in performance-critical operations.\n",
      "To enable the following instructions: AVX2 FMA, in other operations, rebuild TensorFlow with the appropriate compiler flags.\n"
     ]
    }
   ],
   "source": [
    "from bertopic import BERTopic\n",
    "from bertopic.vectorizers import ClassTfidfTransformer\n",
    "from bertopic.representation import KeyBERTInspired\n",
    "from hdbscan import HDBSCAN\n",
    "from sentence_transformers import SentenceTransformer\n",
    "from sklearn.feature_extraction.text import CountVectorizer\n",
    "from spacy.lang.en.stop_words import STOP_WORDS\n",
    "from umap import UMAP\n",
    "\n",
    "\n",
    "encoder_checkpoint: str = \"all-MiniLM-L6-v2\"\n",
    "stopwords: list[str] = list(STOP_WORDS) + [\"http\", \"https\", \"amp\", \"com\"]\n",
    "\n",
    "# Step 1\n",
    "embedding_model: SentenceTransformer = SentenceTransformer(encoder_checkpoint)\n",
    "\n",
    "# Step 2\n",
    "umap_model = UMAP(n_neighbors=3, n_components=3, min_dist=0.05)\n",
    "\n",
    "# Step 3\n",
    "hdbscan_model = HDBSCAN(\n",
    "    max_cluster_size=100,\n",
    "    prediction_data=True,  # Whether to generate extra cached data for predicting labels\n",
    "    gen_min_span_tree=True,  # Whether to generate the min spanning tree with regard to mutual reachability distance for later analysis.\n",
    ")\n",
    "\n",
    "# Step 4\n",
    "# Add this to remove stopwords that can pollute topcs\n",
    "vectorizer_model = CountVectorizer(stop_words=stopwords)\n",
    "\n",
    "# Step 5\n",
    "ctfidf_model = ClassTfidfTransformer()\n",
    "\n",
    "# Step 6 - (Optional) Fine-tune topic representations with\n",
    "# a `bertopic.representation` model\n",
    "representation_model = KeyBERTInspired()"
   ]
  },
  {
   "cell_type": "code",
   "execution_count": 5,
   "metadata": {},
   "outputs": [
    {
     "data": {
      "text/plain": [
       "<bertopic._bertopic.BERTopic at 0x7f9d59dbfee0>"
      ]
     },
     "execution_count": 5,
     "metadata": {},
     "output_type": "execute_result"
    }
   ],
   "source": [
    "model = BERTopic(\n",
    "    embedding_model=embedding_model,  # Step 1 - Extract embeddings\n",
    "    umap_model=umap_model,  # Step 2 - Reduce dimensionality\n",
    "    hdbscan_model=hdbscan_model,  # Step 3 - Cluster reduced embeddings\n",
    "    vectorizer_model=vectorizer_model,  # Step 4 - Tokenize topics\n",
    "    ctfidf_model=ctfidf_model,  # Step 5 - Extract topic words\n",
    "    representation_model=representation_model,  # Step 6 - (Optional) Fine-tune topic represenations\n",
    "    top_n_words=5,\n",
    "    language=\"english\",\n",
    "    calculate_probabilities=True,\n",
    "    verbose=True,\n",
    ")\n",
    "\n",
    "model"
   ]
  },
  {
   "cell_type": "raw",
   "metadata": {},
   "source": [
    "# It takes approx 2m 20s\n",
    "try:\n",
    "    topics, probs = model.fit_transform(data[\"selftext\"])\n",
    "except IndexError as err:\n",
    "    print(err)"
   ]
  },
  {
   "cell_type": "code",
   "execution_count": 6,
   "metadata": {},
   "outputs": [
    {
     "name": "stderr",
     "output_type": "stream",
     "text": [
      "2023-12-07 18:17:43,195 - BERTopic - Embedding - Transforming documents to embeddings.\n"
     ]
    },
    {
     "data": {
      "application/vnd.jupyter.widget-view+json": {
       "model_id": "28a0595c0c25409cb6fe1ce805761abc",
       "version_major": 2,
       "version_minor": 0
      },
      "text/plain": [
       "Batches:   0%|          | 0/98 [00:00<?, ?it/s]"
      ]
     },
     "metadata": {},
     "output_type": "display_data"
    },
    {
     "name": "stderr",
     "output_type": "stream",
     "text": [
      "2023-12-07 18:19:22,289 - BERTopic - Embedding - Completed ✓\n",
      "2023-12-07 18:19:22,290 - BERTopic - Dimensionality - Fitting the dimensionality reduction algorithm\n",
      "2023-12-07 18:19:34,775 - BERTopic - Dimensionality - Completed ✓\n",
      "2023-12-07 18:19:34,776 - BERTopic - Cluster - Start clustering the reduced embeddings\n",
      "2023-12-07 18:19:36,763 - BERTopic - Cluster - Completed ✓\n",
      "2023-12-07 18:19:36,767 - BERTopic - Representation - Extracting topics from clusters using representation models.\n",
      "2023-12-07 18:20:22,826 - BERTopic - Representation - Completed ✓\n"
     ]
    }
   ],
   "source": [
    "# It takes approx 2m 20s\n",
    "topics, probs = model.fit_transform(data[\"selftext\"])"
   ]
  },
  {
   "cell_type": "code",
   "execution_count": 7,
   "metadata": {},
   "outputs": [
    {
     "data": {
      "text/html": [
       "<pre style=\"white-space:pre;overflow-x:auto;line-height:normal;font-family:Menlo,'DejaVu Sans Mono',consolas,'Courier New',monospace\"><span style=\"font-weight: bold\">{</span>\n",
       "    <span style=\"color: #008000; text-decoration-color: #008000\">'calculate_probabilities'</span>: <span style=\"color: #00ff00; text-decoration-color: #00ff00; font-style: italic\">True</span>,\n",
       "    <span style=\"color: #008000; text-decoration-color: #008000\">'ctfidf_model'</span>: <span style=\"color: #800080; text-decoration-color: #800080; font-weight: bold\">ClassTfidfTransformer</span><span style=\"font-weight: bold\">()</span>,\n",
       "    <span style=\"color: #008000; text-decoration-color: #008000\">'embedding_model'</span>: <span style=\"font-weight: bold\">&lt;</span><span style=\"color: #ff00ff; text-decoration-color: #ff00ff; font-weight: bold\">bertopic.backend._sentencetransformers.SentenceTransformerBackend</span><span style=\"color: #000000; text-decoration-color: #000000\"> object at </span>\n",
       "<span style=\"color: #008080; text-decoration-color: #008080; font-weight: bold\">0x7f9d434abbe0</span><span style=\"font-weight: bold\">&gt;</span>,\n",
       "    <span style=\"color: #008000; text-decoration-color: #008000\">'hdbscan_model'</span>: <span style=\"color: #800080; text-decoration-color: #800080; font-weight: bold\">HDBSCAN</span><span style=\"font-weight: bold\">(</span><span style=\"color: #808000; text-decoration-color: #808000\">gen_min_span_tree</span>=<span style=\"color: #00ff00; text-decoration-color: #00ff00; font-style: italic\">True</span>, <span style=\"color: #808000; text-decoration-color: #808000\">max_cluster_size</span>=<span style=\"color: #008080; text-decoration-color: #008080; font-weight: bold\">100</span>, <span style=\"color: #808000; text-decoration-color: #808000\">prediction_data</span>=<span style=\"color: #00ff00; text-decoration-color: #00ff00; font-style: italic\">True</span><span style=\"font-weight: bold\">)</span>,\n",
       "    <span style=\"color: #008000; text-decoration-color: #008000\">'language'</span>: <span style=\"color: #800080; text-decoration-color: #800080; font-style: italic\">None</span>,\n",
       "    <span style=\"color: #008000; text-decoration-color: #008000\">'low_memory'</span>: <span style=\"color: #ff0000; text-decoration-color: #ff0000; font-style: italic\">False</span>,\n",
       "    <span style=\"color: #008000; text-decoration-color: #008000\">'min_topic_size'</span>: <span style=\"color: #008080; text-decoration-color: #008080; font-weight: bold\">10</span>,\n",
       "    <span style=\"color: #008000; text-decoration-color: #008000\">'n_gram_range'</span>: <span style=\"font-weight: bold\">(</span><span style=\"color: #008080; text-decoration-color: #008080; font-weight: bold\">1</span>, <span style=\"color: #008080; text-decoration-color: #008080; font-weight: bold\">1</span><span style=\"font-weight: bold\">)</span>,\n",
       "    <span style=\"color: #008000; text-decoration-color: #008000\">'nr_topics'</span>: <span style=\"color: #800080; text-decoration-color: #800080; font-style: italic\">None</span>,\n",
       "    <span style=\"color: #008000; text-decoration-color: #008000\">'representation_model'</span>: <span style=\"color: #800080; text-decoration-color: #800080; font-weight: bold\">KeyBERTInspired</span><span style=\"font-weight: bold\">()</span>,\n",
       "    <span style=\"color: #008000; text-decoration-color: #008000\">'seed_topic_list'</span>: <span style=\"color: #800080; text-decoration-color: #800080; font-style: italic\">None</span>,\n",
       "    <span style=\"color: #008000; text-decoration-color: #008000\">'top_n_words'</span>: <span style=\"color: #008080; text-decoration-color: #008080; font-weight: bold\">5</span>,\n",
       "    <span style=\"color: #008000; text-decoration-color: #008000\">'umap_model'</span>: <span style=\"color: #800080; text-decoration-color: #800080; font-weight: bold\">UMAP</span><span style=\"font-weight: bold\">(</span><span style=\"color: #808000; text-decoration-color: #808000\">min_dist</span>=<span style=\"color: #008080; text-decoration-color: #008080; font-weight: bold\">0.05</span>, <span style=\"color: #808000; text-decoration-color: #808000\">n_components</span>=<span style=\"color: #008080; text-decoration-color: #008080; font-weight: bold\">3</span>, <span style=\"color: #808000; text-decoration-color: #808000\">n_neighbors</span>=<span style=\"color: #008080; text-decoration-color: #008080; font-weight: bold\">3</span>, <span style=\"color: #808000; text-decoration-color: #808000\">tqdm_kwds</span>=<span style=\"font-weight: bold\">{</span><span style=\"color: #008000; text-decoration-color: #008000\">'bar_format'</span>: <span style=\"color: #008000; text-decoration-color: #008000\">'{desc}: </span>\n",
       "<span style=\"color: #008000; text-decoration-color: #008000\">{percentage:3.0f}%| {bar} {n_fmt}/{total_fmt} [{elapsed}]'</span>, <span style=\"color: #008000; text-decoration-color: #008000\">'desc'</span>: <span style=\"color: #008000; text-decoration-color: #008000\">'Epochs completed'</span>, <span style=\"color: #008000; text-decoration-color: #008000\">'disable'</span>: <span style=\"color: #00ff00; text-decoration-color: #00ff00; font-style: italic\">True</span><span style=\"font-weight: bold\">})</span>,\n",
       "    <span style=\"color: #008000; text-decoration-color: #008000\">'vectorizer_model'</span>: <span style=\"color: #800080; text-decoration-color: #800080; font-weight: bold\">CountVectorizer</span><span style=\"font-weight: bold\">(</span><span style=\"color: #808000; text-decoration-color: #808000\">stop_words</span>=<span style=\"font-weight: bold\">[</span><span style=\"color: #008000; text-decoration-color: #008000\">'it'</span>, <span style=\"color: #008000; text-decoration-color: #008000\">'six'</span>, <span style=\"color: #008000; text-decoration-color: #008000\">'sometime'</span>, <span style=\"color: #008000; text-decoration-color: #008000\">'another'</span>, <span style=\"color: #008000; text-decoration-color: #008000\">'using'</span>,\n",
       "                            <span style=\"color: #008000; text-decoration-color: #008000\">'almost'</span>, <span style=\"color: #008000; text-decoration-color: #008000\">'again'</span>, <span style=\"color: #008000; text-decoration-color: #008000\">'quite'</span>, <span style=\"color: #008000; text-decoration-color: #008000\">'her'</span>, <span style=\"color: #008000; text-decoration-color: #008000\">'will'</span>, <span style=\"color: #008000; text-decoration-color: #008000\">'them'</span>,\n",
       "                            <span style=\"color: #008000; text-decoration-color: #008000\">'thereupon'</span>, <span style=\"color: #008000; text-decoration-color: #008000\">'wherever'</span>, <span style=\"color: #008000; text-decoration-color: #008000\">'had'</span>, <span style=\"color: #008000; text-decoration-color: #008000\">'first'</span>,\n",
       "                            <span style=\"color: #008000; text-decoration-color: #008000\">'everywhere'</span>, <span style=\"color: #008000; text-decoration-color: #008000\">'they'</span>, <span style=\"color: #008000; text-decoration-color: #008000\">'re'</span>, <span style=\"color: #008000; text-decoration-color: #008000\">'nowhere'</span>, <span style=\"color: #008000; text-decoration-color: #008000\">'towards'</span>,\n",
       "                            <span style=\"color: #008000; text-decoration-color: #008000\">'latter'</span>, <span style=\"color: #008000; text-decoration-color: #008000\">'whose'</span>, <span style=\"color: #008000; text-decoration-color: #008000\">'did'</span>, <span style=\"color: #008000; text-decoration-color: #008000\">'without'</span>, <span style=\"color: #008000; text-decoration-color: #008000\">'amongst'</span>,\n",
       "                            <span style=\"color: #008000; text-decoration-color: #008000\">'five'</span>, <span style=\"color: #008000; text-decoration-color: #008000\">'be'</span>, <span style=\"color: #008000; text-decoration-color: #008000\">'just'</span>, <span style=\"color: #008000; text-decoration-color: #008000\">'therein'</span>, <span style=\"color: #008000; text-decoration-color: #008000\">'give'</span>, <span style=\"color: #808000; text-decoration-color: #808000\">...</span><span style=\"font-weight: bold\">])</span>,\n",
       "    <span style=\"color: #008000; text-decoration-color: #008000\">'verbose'</span>: <span style=\"color: #00ff00; text-decoration-color: #00ff00; font-style: italic\">True</span>,\n",
       "    <span style=\"color: #008000; text-decoration-color: #008000\">'zeroshot_min_similarity'</span>: <span style=\"color: #008080; text-decoration-color: #008080; font-weight: bold\">0.7</span>,\n",
       "    <span style=\"color: #008000; text-decoration-color: #008000\">'zeroshot_topic_list'</span>: <span style=\"color: #800080; text-decoration-color: #800080; font-style: italic\">None</span>\n",
       "<span style=\"font-weight: bold\">}</span>\n",
       "</pre>\n"
      ],
      "text/plain": [
       "\u001b[1m{\u001b[0m\n",
       "    \u001b[32m'calculate_probabilities'\u001b[0m: \u001b[3;92mTrue\u001b[0m,\n",
       "    \u001b[32m'ctfidf_model'\u001b[0m: \u001b[1;35mClassTfidfTransformer\u001b[0m\u001b[1m(\u001b[0m\u001b[1m)\u001b[0m,\n",
       "    \u001b[32m'embedding_model'\u001b[0m: \u001b[1m<\u001b[0m\u001b[1;95mbertopic.backend._sentencetransformers.SentenceTransformerBackend\u001b[0m\u001b[39m object at \u001b[0m\n",
       "\u001b[1;36m0x7f9d434abbe0\u001b[0m\u001b[1m>\u001b[0m,\n",
       "    \u001b[32m'hdbscan_model'\u001b[0m: \u001b[1;35mHDBSCAN\u001b[0m\u001b[1m(\u001b[0m\u001b[33mgen_min_span_tree\u001b[0m=\u001b[3;92mTrue\u001b[0m, \u001b[33mmax_cluster_size\u001b[0m=\u001b[1;36m100\u001b[0m, \u001b[33mprediction_data\u001b[0m=\u001b[3;92mTrue\u001b[0m\u001b[1m)\u001b[0m,\n",
       "    \u001b[32m'language'\u001b[0m: \u001b[3;35mNone\u001b[0m,\n",
       "    \u001b[32m'low_memory'\u001b[0m: \u001b[3;91mFalse\u001b[0m,\n",
       "    \u001b[32m'min_topic_size'\u001b[0m: \u001b[1;36m10\u001b[0m,\n",
       "    \u001b[32m'n_gram_range'\u001b[0m: \u001b[1m(\u001b[0m\u001b[1;36m1\u001b[0m, \u001b[1;36m1\u001b[0m\u001b[1m)\u001b[0m,\n",
       "    \u001b[32m'nr_topics'\u001b[0m: \u001b[3;35mNone\u001b[0m,\n",
       "    \u001b[32m'representation_model'\u001b[0m: \u001b[1;35mKeyBERTInspired\u001b[0m\u001b[1m(\u001b[0m\u001b[1m)\u001b[0m,\n",
       "    \u001b[32m'seed_topic_list'\u001b[0m: \u001b[3;35mNone\u001b[0m,\n",
       "    \u001b[32m'top_n_words'\u001b[0m: \u001b[1;36m5\u001b[0m,\n",
       "    \u001b[32m'umap_model'\u001b[0m: \u001b[1;35mUMAP\u001b[0m\u001b[1m(\u001b[0m\u001b[33mmin_dist\u001b[0m=\u001b[1;36m0\u001b[0m\u001b[1;36m.05\u001b[0m, \u001b[33mn_components\u001b[0m=\u001b[1;36m3\u001b[0m, \u001b[33mn_neighbors\u001b[0m=\u001b[1;36m3\u001b[0m, \u001b[33mtqdm_kwds\u001b[0m=\u001b[1m{\u001b[0m\u001b[32m'bar_format'\u001b[0m: \u001b[32m'\u001b[0m\u001b[32m{\u001b[0m\u001b[32mdesc\u001b[0m\u001b[32m}\u001b[0m\u001b[32m: \u001b[0m\n",
       "\u001b[32m{\u001b[0m\u001b[32mpercentage:3.0f\u001b[0m\u001b[32m}\u001b[0m\u001b[32m%| \u001b[0m\u001b[32m{\u001b[0m\u001b[32mbar\u001b[0m\u001b[32m}\u001b[0m\u001b[32m \u001b[0m\u001b[32m{\u001b[0m\u001b[32mn_fmt\u001b[0m\u001b[32m}\u001b[0m\u001b[32m/\u001b[0m\u001b[32m{\u001b[0m\u001b[32mtotal_fmt\u001b[0m\u001b[32m}\u001b[0m\u001b[32m \u001b[0m\u001b[32m[\u001b[0m\u001b[32m{\u001b[0m\u001b[32melapsed\u001b[0m\u001b[32m}\u001b[0m\u001b[32m]\u001b[0m\u001b[32m'\u001b[0m, \u001b[32m'desc'\u001b[0m: \u001b[32m'Epochs completed'\u001b[0m, \u001b[32m'disable'\u001b[0m: \u001b[3;92mTrue\u001b[0m\u001b[1m}\u001b[0m\u001b[1m)\u001b[0m,\n",
       "    \u001b[32m'vectorizer_model'\u001b[0m: \u001b[1;35mCountVectorizer\u001b[0m\u001b[1m(\u001b[0m\u001b[33mstop_words\u001b[0m=\u001b[1m[\u001b[0m\u001b[32m'it'\u001b[0m, \u001b[32m'six'\u001b[0m, \u001b[32m'sometime'\u001b[0m, \u001b[32m'another'\u001b[0m, \u001b[32m'using'\u001b[0m,\n",
       "                            \u001b[32m'almost'\u001b[0m, \u001b[32m'again'\u001b[0m, \u001b[32m'quite'\u001b[0m, \u001b[32m'her'\u001b[0m, \u001b[32m'will'\u001b[0m, \u001b[32m'them'\u001b[0m,\n",
       "                            \u001b[32m'thereupon'\u001b[0m, \u001b[32m'wherever'\u001b[0m, \u001b[32m'had'\u001b[0m, \u001b[32m'first'\u001b[0m,\n",
       "                            \u001b[32m'everywhere'\u001b[0m, \u001b[32m'they'\u001b[0m, \u001b[32m're'\u001b[0m, \u001b[32m'nowhere'\u001b[0m, \u001b[32m'towards'\u001b[0m,\n",
       "                            \u001b[32m'latter'\u001b[0m, \u001b[32m'whose'\u001b[0m, \u001b[32m'did'\u001b[0m, \u001b[32m'without'\u001b[0m, \u001b[32m'amongst'\u001b[0m,\n",
       "                            \u001b[32m'five'\u001b[0m, \u001b[32m'be'\u001b[0m, \u001b[32m'just'\u001b[0m, \u001b[32m'therein'\u001b[0m, \u001b[32m'give'\u001b[0m, \u001b[33m...\u001b[0m\u001b[1m]\u001b[0m\u001b[1m)\u001b[0m,\n",
       "    \u001b[32m'verbose'\u001b[0m: \u001b[3;92mTrue\u001b[0m,\n",
       "    \u001b[32m'zeroshot_min_similarity'\u001b[0m: \u001b[1;36m0.7\u001b[0m,\n",
       "    \u001b[32m'zeroshot_topic_list'\u001b[0m: \u001b[3;35mNone\u001b[0m\n",
       "\u001b[1m}\u001b[0m\n"
      ]
     },
     "metadata": {},
     "output_type": "display_data"
    }
   ],
   "source": [
    "print(model.get_params())  # [\"nr_topics\"]"
   ]
  },
  {
   "cell_type": "code",
   "execution_count": 8,
   "metadata": {},
   "outputs": [
    {
     "data": {
      "text/html": [
       "<pre style=\"white-space:pre;overflow-x:auto;line-height:normal;font-family:Menlo,'DejaVu Sans Mono',consolas,'Courier New',monospace\">Number of topics: <span style=\"color: #800080; text-decoration-color: #800080; font-style: italic\">None</span>\n",
       "</pre>\n"
      ],
      "text/plain": [
       "Number of topics: \u001b[3;35mNone\u001b[0m\n"
      ]
     },
     "metadata": {},
     "output_type": "display_data"
    }
   ],
   "source": [
    "# Check the number of topics\n",
    "num_topics = model.get_params()[\"nr_topics\"]\n",
    "print(f\"Number of topics: {num_topics}\")"
   ]
  },
  {
   "cell_type": "code",
   "execution_count": 9,
   "metadata": {},
   "outputs": [
    {
     "data": {
      "text/html": [
       "<pre style=\"white-space:pre;overflow-x:auto;line-height:normal;font-family:Menlo,'DejaVu Sans Mono',consolas,'Courier New',monospace\"><span style=\"color: #008080; text-decoration-color: #008080; font-weight: bold\">58</span>: Followup- Here are the results so far from my algo's price calculations on the symbols you gave me:\n",
       "</pre>\n"
      ],
      "text/plain": [
       "\u001b[1;36m58\u001b[0m: Followup- Here are the results so far from my algo's price calculations on the symbols you gave me:\n"
      ]
     },
     "metadata": {},
     "output_type": "display_data"
    },
    {
     "data": {
      "text/html": [
       "<pre style=\"white-space:pre;overflow-x:auto;line-height:normal;font-family:Menlo,'DejaVu Sans Mono',consolas,'Courier New',monospace\"><span style=\"color: #008080; text-decoration-color: #008080; font-weight: bold\">58</span>: This <span style=\"color: #008080; text-decoration-color: #008080; font-weight: bold\">2</span> hr Mohnish Pabrai lecture is better than <span style=\"color: #008080; text-decoration-color: #008080; font-weight: bold\">90</span>% of my Ivy League Investing Classes\n",
       "</pre>\n"
      ],
      "text/plain": [
       "\u001b[1;36m58\u001b[0m: This \u001b[1;36m2\u001b[0m hr Mohnish Pabrai lecture is better than \u001b[1;36m90\u001b[0m% of my Ivy League Investing Classes\n"
      ]
     },
     "metadata": {},
     "output_type": "display_data"
    },
    {
     "data": {
      "text/html": [
       "<pre style=\"white-space:pre;overflow-x:auto;line-height:normal;font-family:Menlo,'DejaVu Sans Mono',consolas,'Courier New',monospace\"><span style=\"color: #008080; text-decoration-color: #008080; font-weight: bold\">78</span>: Vital Energy $VUX has “more than doubled production” but the market hasn’t noticed this yet – it was not yet in\n",
       "financials. Easy cashflow, more growth potential and a future stock multibagger using Q4 <span style=\"color: #008080; text-decoration-color: #008080; font-weight: bold\">2021</span> numbers financials \n",
       "and <span style=\"color: #008080; text-decoration-color: #008080; font-weight: bold\">900</span> BOE/D production + higher oil prices of $<span style=\"color: #008080; text-decoration-color: #008080; font-weight: bold\">100</span> WTI today\n",
       "</pre>\n"
      ],
      "text/plain": [
       "\u001b[1;36m78\u001b[0m: Vital Energy $VUX has “more than doubled production” but the market hasn’t noticed this yet – it was not yet in\n",
       "financials. Easy cashflow, more growth potential and a future stock multibagger using Q4 \u001b[1;36m2021\u001b[0m numbers financials \n",
       "and \u001b[1;36m900\u001b[0m BOE/D production + higher oil prices of $\u001b[1;36m100\u001b[0m WTI today\n"
      ]
     },
     "metadata": {},
     "output_type": "display_data"
    },
    {
     "data": {
      "text/html": [
       "<pre style=\"white-space:pre;overflow-x:auto;line-height:normal;font-family:Menlo,'DejaVu Sans Mono',consolas,'Courier New',monospace\"><span style=\"color: #008080; text-decoration-color: #008080; font-weight: bold\">96</span>: Keep averaging down or wait?\n",
       "</pre>\n"
      ],
      "text/plain": [
       "\u001b[1;36m96\u001b[0m: Keep averaging down or wait?\n"
      ]
     },
     "metadata": {},
     "output_type": "display_data"
    },
    {
     "data": {
      "text/html": [
       "<pre style=\"white-space:pre;overflow-x:auto;line-height:normal;font-family:Menlo,'DejaVu Sans Mono',consolas,'Courier New',monospace\"><span style=\"color: #008080; text-decoration-color: #008080; font-weight: bold\">-1</span>: The future of credit card companies vs. ApplePay, Cash App, Venmo, etc.\n",
       "</pre>\n"
      ],
      "text/plain": [
       "\u001b[1;36m-1\u001b[0m: The future of credit card companies vs. ApplePay, Cash App, Venmo, etc.\n"
      ]
     },
     "metadata": {},
     "output_type": "display_data"
    }
   ],
   "source": [
    "for i in range(5):\n",
    "    print(f\"{topics[i]}: {data['title'][i]}\")"
   ]
  },
  {
   "cell_type": "code",
   "execution_count": 10,
   "metadata": {},
   "outputs": [
    {
     "data": {
      "text/html": [
       "<div>\n",
       "<style scoped>\n",
       "    .dataframe tbody tr th:only-of-type {\n",
       "        vertical-align: middle;\n",
       "    }\n",
       "\n",
       "    .dataframe tbody tr th {\n",
       "        vertical-align: top;\n",
       "    }\n",
       "\n",
       "    .dataframe thead th {\n",
       "        text-align: right;\n",
       "    }\n",
       "</style>\n",
       "<table border=\"1\" class=\"dataframe\">\n",
       "  <thead>\n",
       "    <tr style=\"text-align: right;\">\n",
       "      <th></th>\n",
       "      <th>Topic</th>\n",
       "      <th>Count</th>\n",
       "      <th>Name</th>\n",
       "      <th>Representation</th>\n",
       "      <th>Representative_Docs</th>\n",
       "    </tr>\n",
       "  </thead>\n",
       "  <tbody>\n",
       "    <tr>\n",
       "      <th>0</th>\n",
       "      <td>-1</td>\n",
       "      <td>729</td>\n",
       "      <td>-1_gpu_512_market_stock</td>\n",
       "      <td>[gpu, 512, market, stock, inflation]</td>\n",
       "      <td>[*Disclaimer:* huge bricks of text coming up...\\n\\n**Stock Valuation:** \\n\\nEuropean comps 888 Holdings, Entain Plc, and Flutter Entertainment trade at avg. multiples of 17.9x EBITDA and 3.5x sales.  888 Holdings is half the size of Kindred on a revenue basis, and a quarter of the size on an EBITDA basis. Entain is 2.5x larger than Kindred on a revenue basis, but less than 2x its size on an EBITDA basis.  Flutter is 4.5x the size of Kindred on a revenue basis but only 2.5x its size on an EBITDA basis. These comparisons point to the significantly higher profitability of Kindred vis-à-vis it...</td>\n",
       "    </tr>\n",
       "    <tr>\n",
       "      <th>1</th>\n",
       "      <td>0</td>\n",
       "      <td>63</td>\n",
       "      <td>0_investing_financial_savings_funds</td>\n",
       "      <td>[investing, financial, savings, funds, 000]</td>\n",
       "      <td>[Have a general question?  Want to offer some commentary on markets?  Maybe you would just like to throw out a neat fact that doesn't warrant a self post?  Feel free to post here! \\n\\nIf your question is \"I have $10,000, what do I do?\" or other \"advice for my personal situation\" questions, you should include relevant information, such as the following:\\n\\n* How old are you? What country do you live in?  \\n* Are you employed/making income? How much?  \\n* What are your objectives with this money? (Buy a house? Retirement savings?)  \\n* What is your time horizon? Do you need this money next m...</td>\n",
       "    </tr>\n",
       "    <tr>\n",
       "      <th>2</th>\n",
       "      <td>1</td>\n",
       "      <td>35</td>\n",
       "      <td>1_multiprocessing_async_parallelism_parallelise</td>\n",
       "      <td>[multiprocessing, async, parallelism, parallelise, pytorch]</td>\n",
       "      <td>[I want to exploit some parallelism in the custom model I've built and submit asynchronous kernels to CUDA which execute in parallel.\\n\\nSay I have a ModuleList full of operations which are fully independent of each other but which require the same input. The results of those operations are later collated into a single object to be passed on in the forward pass.\\n\\nBelow is a minimally illustrative example of how I *think* streams and events are used.\\n\\n    from torch.cuda import Stream, stream, Event\\n    from torch import empty\\n    def func(x, module_list):\\n        out = empty(len(mod...</td>\n",
       "    </tr>\n",
       "    <tr>\n",
       "      <th>3</th>\n",
       "      <td>2</td>\n",
       "      <td>35</td>\n",
       "      <td>2_pytorch_tensor_torch_training_outputs</td>\n",
       "      <td>[pytorch, tensor, torch, training_outputs, training_inputs]</td>\n",
       "      <td>[Im attempting to make a self driving car in a game right now I have a network taking in 5 inputs from the game and I want 4 binary outputs ex\\[0,1,0,1\\] I've tried a bunch of functions/loss calculations and nothing I can get to work. What i  want on the output is a mutli hot vector. The code I'm using right now is below. Any advice is appreciated.\\n\\n&amp;amp;#x200B;\\n\\n    import torch\\n    import torchvision\\n    from torchvision import transforms,datasets\\n    import numpy as np\\n    import torch.nn as nn\\n    import torch.nn.functional as F\\n    import torch.optim as optim\\n    from torch...</td>\n",
       "    </tr>\n",
       "    <tr>\n",
       "      <th>4</th>\n",
       "      <td>3</td>\n",
       "      <td>35</td>\n",
       "      <td>3_sentimentanalysisapp_sentiment_nlp_nltk</td>\n",
       "      <td>[sentimentanalysisapp, sentiment, nlp, nltk, texts]</td>\n",
       "      <td>[Hi everyone,\\n\\nI am doing an Aspect Based Sentiment Analysis using BERT Model, however, I noticed that the state of art XLNet model over performed the BERT model in most of NLP applications. I couldn't see any implementation for Aspect Based Sentiment Analysis on Internet , so I am curious if it is possible to do it?, I was planning  to perform sentiment analysis for news articles but after reading this post it seem that it will not be easy, I have an assessment and I was asked to perform 2 NLP tasks so I chose sentiment analysis and summarisation \\nNow I'll perform sentiment for article...</td>\n",
       "    </tr>\n",
       "  </tbody>\n",
       "</table>\n",
       "</div>"
      ],
      "text/plain": [
       "   Topic  Count                                             Name  \\\n",
       "0     -1    729                          -1_gpu_512_market_stock   \n",
       "1      0     63              0_investing_financial_savings_funds   \n",
       "2      1     35  1_multiprocessing_async_parallelism_parallelise   \n",
       "3      2     35          2_pytorch_tensor_torch_training_outputs   \n",
       "4      3     35        3_sentimentanalysisapp_sentiment_nlp_nltk   \n",
       "\n",
       "                                                Representation  \\\n",
       "0                         [gpu, 512, market, stock, inflation]   \n",
       "1                  [investing, financial, savings, funds, 000]   \n",
       "2  [multiprocessing, async, parallelism, parallelise, pytorch]   \n",
       "3  [pytorch, tensor, torch, training_outputs, training_inputs]   \n",
       "4          [sentimentanalysisapp, sentiment, nlp, nltk, texts]   \n",
       "\n",
       "                                                                                                                                                                                                                                                                                                                                                                                                                                                                                                                                                                                                       Representative_Docs  \n",
       "0  [*Disclaimer:* huge bricks of text coming up...\\n\\n**Stock Valuation:** \\n\\nEuropean comps 888 Holdings, Entain Plc, and Flutter Entertainment trade at avg. multiples of 17.9x EBITDA and 3.5x sales.  888 Holdings is half the size of Kindred on a revenue basis, and a quarter of the size on an EBITDA basis. Entain is 2.5x larger than Kindred on a revenue basis, but less than 2x its size on an EBITDA basis.  Flutter is 4.5x the size of Kindred on a revenue basis but only 2.5x its size on an EBITDA basis. These comparisons point to the significantly higher profitability of Kindred vis-à-vis it...  \n",
       "1  [Have a general question?  Want to offer some commentary on markets?  Maybe you would just like to throw out a neat fact that doesn't warrant a self post?  Feel free to post here! \\n\\nIf your question is \"I have $10,000, what do I do?\" or other \"advice for my personal situation\" questions, you should include relevant information, such as the following:\\n\\n* How old are you? What country do you live in?  \\n* Are you employed/making income? How much?  \\n* What are your objectives with this money? (Buy a house? Retirement savings?)  \\n* What is your time horizon? Do you need this money next m...  \n",
       "2  [I want to exploit some parallelism in the custom model I've built and submit asynchronous kernels to CUDA which execute in parallel.\\n\\nSay I have a ModuleList full of operations which are fully independent of each other but which require the same input. The results of those operations are later collated into a single object to be passed on in the forward pass.\\n\\nBelow is a minimally illustrative example of how I *think* streams and events are used.\\n\\n    from torch.cuda import Stream, stream, Event\\n    from torch import empty\\n    def func(x, module_list):\\n        out = empty(len(mod...  \n",
       "3  [Im attempting to make a self driving car in a game right now I have a network taking in 5 inputs from the game and I want 4 binary outputs ex\\[0,1,0,1\\] I've tried a bunch of functions/loss calculations and nothing I can get to work. What i  want on the output is a mutli hot vector. The code I'm using right now is below. Any advice is appreciated.\\n\\n&amp;#x200B;\\n\\n    import torch\\n    import torchvision\\n    from torchvision import transforms,datasets\\n    import numpy as np\\n    import torch.nn as nn\\n    import torch.nn.functional as F\\n    import torch.optim as optim\\n    from torch...  \n",
       "4  [Hi everyone,\\n\\nI am doing an Aspect Based Sentiment Analysis using BERT Model, however, I noticed that the state of art XLNet model over performed the BERT model in most of NLP applications. I couldn't see any implementation for Aspect Based Sentiment Analysis on Internet , so I am curious if it is possible to do it?, I was planning  to perform sentiment analysis for news articles but after reading this post it seem that it will not be easy, I have an assessment and I was asked to perform 2 NLP tasks so I chose sentiment analysis and summarisation \\nNow I'll perform sentiment for article...  "
      ]
     },
     "execution_count": 10,
     "metadata": {},
     "output_type": "execute_result"
    }
   ],
   "source": [
    "model.get_topic_info().head()"
   ]
  },
  {
   "cell_type": "code",
   "execution_count": 11,
   "metadata": {},
   "outputs": [
    {
     "data": {
      "text/plain": [
       "['gpu - 512 - market - stock',\n",
       " 'investing - financial - savings - funds',\n",
       " 'multiprocessing - async - parallelism - parallelise',\n",
       " 'pytorch - tensor - torch - training_output',\n",
       " 'sentimentanalys - sentiment - nlp - nltk']"
      ]
     },
     "execution_count": 11,
     "metadata": {},
     "output_type": "execute_result"
    }
   ],
   "source": [
    "# Modify topics\n",
    "topic_labels: list[str] = model.generate_topic_labels(\n",
    "    nr_words=4, topic_prefix=False, word_length=15, separator=\" - \"\n",
    ")\n",
    "topic_labels[:5]"
   ]
  },
  {
   "cell_type": "code",
   "execution_count": 12,
   "metadata": {},
   "outputs": [
    {
     "data": {
      "text/html": [
       "<div>\n",
       "<style scoped>\n",
       "    .dataframe tbody tr th:only-of-type {\n",
       "        vertical-align: middle;\n",
       "    }\n",
       "\n",
       "    .dataframe tbody tr th {\n",
       "        vertical-align: top;\n",
       "    }\n",
       "\n",
       "    .dataframe thead th {\n",
       "        text-align: right;\n",
       "    }\n",
       "</style>\n",
       "<table border=\"1\" class=\"dataframe\">\n",
       "  <thead>\n",
       "    <tr style=\"text-align: right;\">\n",
       "      <th></th>\n",
       "      <th>Topic</th>\n",
       "      <th>Count</th>\n",
       "      <th>Name</th>\n",
       "      <th>CustomName</th>\n",
       "      <th>Representation</th>\n",
       "      <th>Representative_Docs</th>\n",
       "    </tr>\n",
       "  </thead>\n",
       "  <tbody>\n",
       "    <tr>\n",
       "      <th>0</th>\n",
       "      <td>-1</td>\n",
       "      <td>729</td>\n",
       "      <td>-1_gpu_512_market_stock</td>\n",
       "      <td>gpu - 512 - market - stock</td>\n",
       "      <td>[gpu, 512, market, stock, inflation]</td>\n",
       "      <td>[*Disclaimer:* huge bricks of text coming up...\\n\\n**Stock Valuation:** \\n\\nEuropean comps 888 Holdings, Entain Plc, and Flutter Entertainment trade at avg. multiples of 17.9x EBITDA and 3.5x sales.  888 Holdings is half the size of Kindred on a revenue basis, and a quarter of the size on an EBITDA basis. Entain is 2.5x larger than Kindred on a revenue basis, but less than 2x its size on an EBITDA basis.  Flutter is 4.5x the size of Kindred on a revenue basis but only 2.5x its size on an EBITDA basis. These comparisons point to the significantly higher profitability of Kindred vis-à-vis it...</td>\n",
       "    </tr>\n",
       "    <tr>\n",
       "      <th>1</th>\n",
       "      <td>0</td>\n",
       "      <td>63</td>\n",
       "      <td>0_investing_financial_savings_funds</td>\n",
       "      <td>investing - financial - savings - funds</td>\n",
       "      <td>[investing, financial, savings, funds, 000]</td>\n",
       "      <td>[Have a general question?  Want to offer some commentary on markets?  Maybe you would just like to throw out a neat fact that doesn't warrant a self post?  Feel free to post here! \\n\\nIf your question is \"I have $10,000, what do I do?\" or other \"advice for my personal situation\" questions, you should include relevant information, such as the following:\\n\\n* How old are you? What country do you live in?  \\n* Are you employed/making income? How much?  \\n* What are your objectives with this money? (Buy a house? Retirement savings?)  \\n* What is your time horizon? Do you need this money next m...</td>\n",
       "    </tr>\n",
       "    <tr>\n",
       "      <th>2</th>\n",
       "      <td>1</td>\n",
       "      <td>35</td>\n",
       "      <td>1_multiprocessing_async_parallelism_parallelise</td>\n",
       "      <td>multiprocessing - async - parallelism - parallelise</td>\n",
       "      <td>[multiprocessing, async, parallelism, parallelise, pytorch]</td>\n",
       "      <td>[I want to exploit some parallelism in the custom model I've built and submit asynchronous kernels to CUDA which execute in parallel.\\n\\nSay I have a ModuleList full of operations which are fully independent of each other but which require the same input. The results of those operations are later collated into a single object to be passed on in the forward pass.\\n\\nBelow is a minimally illustrative example of how I *think* streams and events are used.\\n\\n    from torch.cuda import Stream, stream, Event\\n    from torch import empty\\n    def func(x, module_list):\\n        out = empty(len(mod...</td>\n",
       "    </tr>\n",
       "    <tr>\n",
       "      <th>3</th>\n",
       "      <td>2</td>\n",
       "      <td>35</td>\n",
       "      <td>2_pytorch_tensor_torch_training_outputs</td>\n",
       "      <td>pytorch - tensor - torch - training_output</td>\n",
       "      <td>[pytorch, tensor, torch, training_outputs, training_inputs]</td>\n",
       "      <td>[Im attempting to make a self driving car in a game right now I have a network taking in 5 inputs from the game and I want 4 binary outputs ex\\[0,1,0,1\\] I've tried a bunch of functions/loss calculations and nothing I can get to work. What i  want on the output is a mutli hot vector. The code I'm using right now is below. Any advice is appreciated.\\n\\n&amp;amp;#x200B;\\n\\n    import torch\\n    import torchvision\\n    from torchvision import transforms,datasets\\n    import numpy as np\\n    import torch.nn as nn\\n    import torch.nn.functional as F\\n    import torch.optim as optim\\n    from torch...</td>\n",
       "    </tr>\n",
       "    <tr>\n",
       "      <th>4</th>\n",
       "      <td>3</td>\n",
       "      <td>35</td>\n",
       "      <td>3_sentimentanalysisapp_sentiment_nlp_nltk</td>\n",
       "      <td>sentimentanalys - sentiment - nlp - nltk</td>\n",
       "      <td>[sentimentanalysisapp, sentiment, nlp, nltk, texts]</td>\n",
       "      <td>[Hi everyone,\\n\\nI am doing an Aspect Based Sentiment Analysis using BERT Model, however, I noticed that the state of art XLNet model over performed the BERT model in most of NLP applications. I couldn't see any implementation for Aspect Based Sentiment Analysis on Internet , so I am curious if it is possible to do it?, I was planning  to perform sentiment analysis for news articles but after reading this post it seem that it will not be easy, I have an assessment and I was asked to perform 2 NLP tasks so I chose sentiment analysis and summarisation \\nNow I'll perform sentiment for article...</td>\n",
       "    </tr>\n",
       "  </tbody>\n",
       "</table>\n",
       "</div>"
      ],
      "text/plain": [
       "   Topic  Count                                             Name  \\\n",
       "0     -1    729                          -1_gpu_512_market_stock   \n",
       "1      0     63              0_investing_financial_savings_funds   \n",
       "2      1     35  1_multiprocessing_async_parallelism_parallelise   \n",
       "3      2     35          2_pytorch_tensor_torch_training_outputs   \n",
       "4      3     35        3_sentimentanalysisapp_sentiment_nlp_nltk   \n",
       "\n",
       "                                            CustomName  \\\n",
       "0                           gpu - 512 - market - stock   \n",
       "1              investing - financial - savings - funds   \n",
       "2  multiprocessing - async - parallelism - parallelise   \n",
       "3           pytorch - tensor - torch - training_output   \n",
       "4             sentimentanalys - sentiment - nlp - nltk   \n",
       "\n",
       "                                                Representation  \\\n",
       "0                         [gpu, 512, market, stock, inflation]   \n",
       "1                  [investing, financial, savings, funds, 000]   \n",
       "2  [multiprocessing, async, parallelism, parallelise, pytorch]   \n",
       "3  [pytorch, tensor, torch, training_outputs, training_inputs]   \n",
       "4          [sentimentanalysisapp, sentiment, nlp, nltk, texts]   \n",
       "\n",
       "                                                                                                                                                                                                                                                                                                                                                                                                                                                                                                                                                                                                       Representative_Docs  \n",
       "0  [*Disclaimer:* huge bricks of text coming up...\\n\\n**Stock Valuation:** \\n\\nEuropean comps 888 Holdings, Entain Plc, and Flutter Entertainment trade at avg. multiples of 17.9x EBITDA and 3.5x sales.  888 Holdings is half the size of Kindred on a revenue basis, and a quarter of the size on an EBITDA basis. Entain is 2.5x larger than Kindred on a revenue basis, but less than 2x its size on an EBITDA basis.  Flutter is 4.5x the size of Kindred on a revenue basis but only 2.5x its size on an EBITDA basis. These comparisons point to the significantly higher profitability of Kindred vis-à-vis it...  \n",
       "1  [Have a general question?  Want to offer some commentary on markets?  Maybe you would just like to throw out a neat fact that doesn't warrant a self post?  Feel free to post here! \\n\\nIf your question is \"I have $10,000, what do I do?\" or other \"advice for my personal situation\" questions, you should include relevant information, such as the following:\\n\\n* How old are you? What country do you live in?  \\n* Are you employed/making income? How much?  \\n* What are your objectives with this money? (Buy a house? Retirement savings?)  \\n* What is your time horizon? Do you need this money next m...  \n",
       "2  [I want to exploit some parallelism in the custom model I've built and submit asynchronous kernels to CUDA which execute in parallel.\\n\\nSay I have a ModuleList full of operations which are fully independent of each other but which require the same input. The results of those operations are later collated into a single object to be passed on in the forward pass.\\n\\nBelow is a minimally illustrative example of how I *think* streams and events are used.\\n\\n    from torch.cuda import Stream, stream, Event\\n    from torch import empty\\n    def func(x, module_list):\\n        out = empty(len(mod...  \n",
       "3  [Im attempting to make a self driving car in a game right now I have a network taking in 5 inputs from the game and I want 4 binary outputs ex\\[0,1,0,1\\] I've tried a bunch of functions/loss calculations and nothing I can get to work. What i  want on the output is a mutli hot vector. The code I'm using right now is below. Any advice is appreciated.\\n\\n&amp;#x200B;\\n\\n    import torch\\n    import torchvision\\n    from torchvision import transforms,datasets\\n    import numpy as np\\n    import torch.nn as nn\\n    import torch.nn.functional as F\\n    import torch.optim as optim\\n    from torch...  \n",
       "4  [Hi everyone,\\n\\nI am doing an Aspect Based Sentiment Analysis using BERT Model, however, I noticed that the state of art XLNet model over performed the BERT model in most of NLP applications. I couldn't see any implementation for Aspect Based Sentiment Analysis on Internet , so I am curious if it is possible to do it?, I was planning  to perform sentiment analysis for news articles but after reading this post it seem that it will not be easy, I have an assessment and I was asked to perform 2 NLP tasks so I chose sentiment analysis and summarisation \\nNow I'll perform sentiment for article...  "
      ]
     },
     "execution_count": 12,
     "metadata": {},
     "output_type": "execute_result"
    }
   ],
   "source": [
    "model.set_topic_labels(topic_labels=topic_labels)\n",
    "\n",
    "model.get_topic_info().head()"
   ]
  },
  {
   "cell_type": "markdown",
   "metadata": {},
   "source": [
    "### Visualizations"
   ]
  },
  {
   "cell_type": "code",
   "execution_count": 13,
   "metadata": {},
   "outputs": [
    {
     "data": {
      "application/vnd.plotly.v1+json": {
       "config": {
        "plotlyServerURL": "https://plot.ly"
       },
       "data": [
        {
         "marker": {
          "color": "#D55E00"
         },
         "orientation": "h",
         "type": "bar",
         "x": [
          0.31163495779037476,
          0.3220873475074768,
          0.33960819244384766,
          0.3838857412338257,
          0.46177858114242554
         ],
         "xaxis": "x",
         "y": [
          "000  ",
          "funds  ",
          "savings  ",
          "financial  ",
          "investing  "
         ],
         "yaxis": "y"
        },
        {
         "marker": {
          "color": "#0072B2"
         },
         "orientation": "h",
         "type": "bar",
         "x": [
          0.35804688930511475,
          0.3606260418891907,
          0.3732493221759796,
          0.3823623061180115,
          0.47587043046951294
         ],
         "xaxis": "x2",
         "y": [
          "pytorch  ",
          "parallelise  ",
          "parallelism  ",
          "async  ",
          "multiprocessing  "
         ],
         "yaxis": "y2"
        },
        {
         "marker": {
          "color": "#CC79A7"
         },
         "orientation": "h",
         "type": "bar",
         "x": [
          0.41309380531311035,
          0.42193377017974854,
          0.4321494996547699,
          0.4654078483581543,
          0.5035301446914673
         ],
         "xaxis": "x3",
         "y": [
          "training_inputs  ",
          "training_outputs  ",
          "torch  ",
          "tensor  ",
          "pytorch  "
         ],
         "yaxis": "y3"
        },
        {
         "marker": {
          "color": "#E69F00"
         },
         "orientation": "h",
         "type": "bar",
         "x": [
          0.30048495531082153,
          0.3150036633014679,
          0.3735533058643341,
          0.5142223834991455,
          0.635606050491333
         ],
         "xaxis": "x4",
         "y": [
          "texts  ",
          "nltk  ",
          "nlp  ",
          "sentiment  ",
          "sentimentanalysisapp  "
         ],
         "yaxis": "y4"
        },
        {
         "marker": {
          "color": "#56B4E9"
         },
         "orientation": "h",
         "type": "bar",
         "x": [
          0.43557965755462646,
          0.4391424059867859,
          0.4573742747306824,
          0.5055184364318848,
          0.5618292093276978
         ],
         "xaxis": "x5",
         "y": [
          "labeling  ",
          "texts  ",
          "classification  ",
          "nlp  ",
          "corpus  "
         ],
         "yaxis": "y5"
        },
        {
         "marker": {
          "color": "#009E73"
         },
         "orientation": "h",
         "type": "bar",
         "x": [
          0.4714363217353821,
          0.4802676737308502,
          0.5168699622154236,
          0.5484354496002197,
          0.5766270160675049
         ],
         "xaxis": "x6",
         "y": [
          "pytorch  ",
          "tutorial  ",
          "beginner_source  ",
          "_tutorial  ",
          "tutorials  "
         ],
         "yaxis": "y6"
        },
        {
         "marker": {
          "color": "#F0E442"
         },
         "orientation": "h",
         "type": "bar",
         "x": [
          0.3549758195877075,
          0.3591443598270416,
          0.47570285201072693,
          0.5694113373756409,
          0.5743197202682495
         ],
         "xaxis": "x7",
         "y": [
          "functions  ",
          "function  ",
          "python  ",
          "lambdas  ",
          "lambda  "
         ],
         "yaxis": "y7"
        },
        {
         "marker": {
          "color": "#D55E00"
         },
         "orientation": "h",
         "type": "bar",
         "x": [
          0.3988771140575409,
          0.45550885796546936,
          0.5456634163856506,
          0.5457645654678345,
          0.5459810495376587
         ],
         "xaxis": "x8",
         "y": [
          "num_epochs  ",
          "accuracy_list_train  ",
          "train_loss  ",
          "pytorch  ",
          "loss_list_train  "
         ],
         "yaxis": "y8"
        },
        {
         "marker": {
          "color": "#0072B2"
         },
         "orientation": "h",
         "type": "bar",
         "x": [
          0.3410171568393707,
          0.3782409429550171,
          0.4120369553565979,
          0.49959874153137207,
          0.5951437950134277
         ],
         "xaxis": "x9",
         "y": [
          "tagging  ",
          "nlpdemystified  ",
          "texts  ",
          "nlg  ",
          "nlp  "
         ],
         "yaxis": "y9"
        },
        {
         "marker": {
          "color": "#CC79A7"
         },
         "orientation": "h",
         "type": "bar",
         "x": [
          0.3360087275505066,
          0.35298967361450195,
          0.35330677032470703,
          0.38023221492767334,
          0.46128979325294495
         ],
         "xaxis": "x10",
         "y": [
          "python3  ",
          "pip  ",
          "cudatoolkit  ",
          "cuda  ",
          "pytorch  "
         ],
         "yaxis": "y10"
        }
       ],
       "layout": {
        "annotations": [
         {
          "font": {
           "size": 16
          },
          "showarrow": false,
          "text": "Topic 0",
          "x": 0.0875,
          "xanchor": "center",
          "xref": "paper",
          "y": 1,
          "yanchor": "bottom",
          "yref": "paper"
         },
         {
          "font": {
           "size": 16
          },
          "showarrow": false,
          "text": "Topic 1",
          "x": 0.36250000000000004,
          "xanchor": "center",
          "xref": "paper",
          "y": 1,
          "yanchor": "bottom",
          "yref": "paper"
         },
         {
          "font": {
           "size": 16
          },
          "showarrow": false,
          "text": "Topic 2",
          "x": 0.6375000000000001,
          "xanchor": "center",
          "xref": "paper",
          "y": 1,
          "yanchor": "bottom",
          "yref": "paper"
         },
         {
          "font": {
           "size": 16
          },
          "showarrow": false,
          "text": "Topic 3",
          "x": 0.9125,
          "xanchor": "center",
          "xref": "paper",
          "y": 1,
          "yanchor": "bottom",
          "yref": "paper"
         },
         {
          "font": {
           "size": 16
          },
          "showarrow": false,
          "text": "Topic 4",
          "x": 0.0875,
          "xanchor": "center",
          "xref": "paper",
          "y": 0.6222222222222222,
          "yanchor": "bottom",
          "yref": "paper"
         },
         {
          "font": {
           "size": 16
          },
          "showarrow": false,
          "text": "Topic 5",
          "x": 0.36250000000000004,
          "xanchor": "center",
          "xref": "paper",
          "y": 0.6222222222222222,
          "yanchor": "bottom",
          "yref": "paper"
         },
         {
          "font": {
           "size": 16
          },
          "showarrow": false,
          "text": "Topic 6",
          "x": 0.6375000000000001,
          "xanchor": "center",
          "xref": "paper",
          "y": 0.6222222222222222,
          "yanchor": "bottom",
          "yref": "paper"
         },
         {
          "font": {
           "size": 16
          },
          "showarrow": false,
          "text": "Topic 7",
          "x": 0.9125,
          "xanchor": "center",
          "xref": "paper",
          "y": 0.6222222222222222,
          "yanchor": "bottom",
          "yref": "paper"
         },
         {
          "font": {
           "size": 16
          },
          "showarrow": false,
          "text": "Topic 8",
          "x": 0.0875,
          "xanchor": "center",
          "xref": "paper",
          "y": 0.24444444444444446,
          "yanchor": "bottom",
          "yref": "paper"
         },
         {
          "font": {
           "size": 16
          },
          "showarrow": false,
          "text": "Topic 9",
          "x": 0.36250000000000004,
          "xanchor": "center",
          "xref": "paper",
          "y": 0.24444444444444446,
          "yanchor": "bottom",
          "yref": "paper"
         }
        ],
        "height": 900,
        "hoverlabel": {
         "bgcolor": "white",
         "font": {
          "family": "Rockwell",
          "size": 16
         }
        },
        "showlegend": false,
        "template": {
         "data": {
          "bar": [
           {
            "error_x": {
             "color": "#2a3f5f"
            },
            "error_y": {
             "color": "#2a3f5f"
            },
            "marker": {
             "line": {
              "color": "white",
              "width": 0.5
             },
             "pattern": {
              "fillmode": "overlay",
              "size": 10,
              "solidity": 0.2
             }
            },
            "type": "bar"
           }
          ],
          "barpolar": [
           {
            "marker": {
             "line": {
              "color": "white",
              "width": 0.5
             },
             "pattern": {
              "fillmode": "overlay",
              "size": 10,
              "solidity": 0.2
             }
            },
            "type": "barpolar"
           }
          ],
          "carpet": [
           {
            "aaxis": {
             "endlinecolor": "#2a3f5f",
             "gridcolor": "#C8D4E3",
             "linecolor": "#C8D4E3",
             "minorgridcolor": "#C8D4E3",
             "startlinecolor": "#2a3f5f"
            },
            "baxis": {
             "endlinecolor": "#2a3f5f",
             "gridcolor": "#C8D4E3",
             "linecolor": "#C8D4E3",
             "minorgridcolor": "#C8D4E3",
             "startlinecolor": "#2a3f5f"
            },
            "type": "carpet"
           }
          ],
          "choropleth": [
           {
            "colorbar": {
             "outlinewidth": 0,
             "ticks": ""
            },
            "type": "choropleth"
           }
          ],
          "contour": [
           {
            "colorbar": {
             "outlinewidth": 0,
             "ticks": ""
            },
            "colorscale": [
             [
              0,
              "#0d0887"
             ],
             [
              0.1111111111111111,
              "#46039f"
             ],
             [
              0.2222222222222222,
              "#7201a8"
             ],
             [
              0.3333333333333333,
              "#9c179e"
             ],
             [
              0.4444444444444444,
              "#bd3786"
             ],
             [
              0.5555555555555556,
              "#d8576b"
             ],
             [
              0.6666666666666666,
              "#ed7953"
             ],
             [
              0.7777777777777778,
              "#fb9f3a"
             ],
             [
              0.8888888888888888,
              "#fdca26"
             ],
             [
              1,
              "#f0f921"
             ]
            ],
            "type": "contour"
           }
          ],
          "contourcarpet": [
           {
            "colorbar": {
             "outlinewidth": 0,
             "ticks": ""
            },
            "type": "contourcarpet"
           }
          ],
          "heatmap": [
           {
            "colorbar": {
             "outlinewidth": 0,
             "ticks": ""
            },
            "colorscale": [
             [
              0,
              "#0d0887"
             ],
             [
              0.1111111111111111,
              "#46039f"
             ],
             [
              0.2222222222222222,
              "#7201a8"
             ],
             [
              0.3333333333333333,
              "#9c179e"
             ],
             [
              0.4444444444444444,
              "#bd3786"
             ],
             [
              0.5555555555555556,
              "#d8576b"
             ],
             [
              0.6666666666666666,
              "#ed7953"
             ],
             [
              0.7777777777777778,
              "#fb9f3a"
             ],
             [
              0.8888888888888888,
              "#fdca26"
             ],
             [
              1,
              "#f0f921"
             ]
            ],
            "type": "heatmap"
           }
          ],
          "heatmapgl": [
           {
            "colorbar": {
             "outlinewidth": 0,
             "ticks": ""
            },
            "colorscale": [
             [
              0,
              "#0d0887"
             ],
             [
              0.1111111111111111,
              "#46039f"
             ],
             [
              0.2222222222222222,
              "#7201a8"
             ],
             [
              0.3333333333333333,
              "#9c179e"
             ],
             [
              0.4444444444444444,
              "#bd3786"
             ],
             [
              0.5555555555555556,
              "#d8576b"
             ],
             [
              0.6666666666666666,
              "#ed7953"
             ],
             [
              0.7777777777777778,
              "#fb9f3a"
             ],
             [
              0.8888888888888888,
              "#fdca26"
             ],
             [
              1,
              "#f0f921"
             ]
            ],
            "type": "heatmapgl"
           }
          ],
          "histogram": [
           {
            "marker": {
             "pattern": {
              "fillmode": "overlay",
              "size": 10,
              "solidity": 0.2
             }
            },
            "type": "histogram"
           }
          ],
          "histogram2d": [
           {
            "colorbar": {
             "outlinewidth": 0,
             "ticks": ""
            },
            "colorscale": [
             [
              0,
              "#0d0887"
             ],
             [
              0.1111111111111111,
              "#46039f"
             ],
             [
              0.2222222222222222,
              "#7201a8"
             ],
             [
              0.3333333333333333,
              "#9c179e"
             ],
             [
              0.4444444444444444,
              "#bd3786"
             ],
             [
              0.5555555555555556,
              "#d8576b"
             ],
             [
              0.6666666666666666,
              "#ed7953"
             ],
             [
              0.7777777777777778,
              "#fb9f3a"
             ],
             [
              0.8888888888888888,
              "#fdca26"
             ],
             [
              1,
              "#f0f921"
             ]
            ],
            "type": "histogram2d"
           }
          ],
          "histogram2dcontour": [
           {
            "colorbar": {
             "outlinewidth": 0,
             "ticks": ""
            },
            "colorscale": [
             [
              0,
              "#0d0887"
             ],
             [
              0.1111111111111111,
              "#46039f"
             ],
             [
              0.2222222222222222,
              "#7201a8"
             ],
             [
              0.3333333333333333,
              "#9c179e"
             ],
             [
              0.4444444444444444,
              "#bd3786"
             ],
             [
              0.5555555555555556,
              "#d8576b"
             ],
             [
              0.6666666666666666,
              "#ed7953"
             ],
             [
              0.7777777777777778,
              "#fb9f3a"
             ],
             [
              0.8888888888888888,
              "#fdca26"
             ],
             [
              1,
              "#f0f921"
             ]
            ],
            "type": "histogram2dcontour"
           }
          ],
          "mesh3d": [
           {
            "colorbar": {
             "outlinewidth": 0,
             "ticks": ""
            },
            "type": "mesh3d"
           }
          ],
          "parcoords": [
           {
            "line": {
             "colorbar": {
              "outlinewidth": 0,
              "ticks": ""
             }
            },
            "type": "parcoords"
           }
          ],
          "pie": [
           {
            "automargin": true,
            "type": "pie"
           }
          ],
          "scatter": [
           {
            "fillpattern": {
             "fillmode": "overlay",
             "size": 10,
             "solidity": 0.2
            },
            "type": "scatter"
           }
          ],
          "scatter3d": [
           {
            "line": {
             "colorbar": {
              "outlinewidth": 0,
              "ticks": ""
             }
            },
            "marker": {
             "colorbar": {
              "outlinewidth": 0,
              "ticks": ""
             }
            },
            "type": "scatter3d"
           }
          ],
          "scattercarpet": [
           {
            "marker": {
             "colorbar": {
              "outlinewidth": 0,
              "ticks": ""
             }
            },
            "type": "scattercarpet"
           }
          ],
          "scattergeo": [
           {
            "marker": {
             "colorbar": {
              "outlinewidth": 0,
              "ticks": ""
             }
            },
            "type": "scattergeo"
           }
          ],
          "scattergl": [
           {
            "marker": {
             "colorbar": {
              "outlinewidth": 0,
              "ticks": ""
             }
            },
            "type": "scattergl"
           }
          ],
          "scattermapbox": [
           {
            "marker": {
             "colorbar": {
              "outlinewidth": 0,
              "ticks": ""
             }
            },
            "type": "scattermapbox"
           }
          ],
          "scatterpolar": [
           {
            "marker": {
             "colorbar": {
              "outlinewidth": 0,
              "ticks": ""
             }
            },
            "type": "scatterpolar"
           }
          ],
          "scatterpolargl": [
           {
            "marker": {
             "colorbar": {
              "outlinewidth": 0,
              "ticks": ""
             }
            },
            "type": "scatterpolargl"
           }
          ],
          "scatterternary": [
           {
            "marker": {
             "colorbar": {
              "outlinewidth": 0,
              "ticks": ""
             }
            },
            "type": "scatterternary"
           }
          ],
          "surface": [
           {
            "colorbar": {
             "outlinewidth": 0,
             "ticks": ""
            },
            "colorscale": [
             [
              0,
              "#0d0887"
             ],
             [
              0.1111111111111111,
              "#46039f"
             ],
             [
              0.2222222222222222,
              "#7201a8"
             ],
             [
              0.3333333333333333,
              "#9c179e"
             ],
             [
              0.4444444444444444,
              "#bd3786"
             ],
             [
              0.5555555555555556,
              "#d8576b"
             ],
             [
              0.6666666666666666,
              "#ed7953"
             ],
             [
              0.7777777777777778,
              "#fb9f3a"
             ],
             [
              0.8888888888888888,
              "#fdca26"
             ],
             [
              1,
              "#f0f921"
             ]
            ],
            "type": "surface"
           }
          ],
          "table": [
           {
            "cells": {
             "fill": {
              "color": "#EBF0F8"
             },
             "line": {
              "color": "white"
             }
            },
            "header": {
             "fill": {
              "color": "#C8D4E3"
             },
             "line": {
              "color": "white"
             }
            },
            "type": "table"
           }
          ]
         },
         "layout": {
          "annotationdefaults": {
           "arrowcolor": "#2a3f5f",
           "arrowhead": 0,
           "arrowwidth": 1
          },
          "autotypenumbers": "strict",
          "coloraxis": {
           "colorbar": {
            "outlinewidth": 0,
            "ticks": ""
           }
          },
          "colorscale": {
           "diverging": [
            [
             0,
             "#8e0152"
            ],
            [
             0.1,
             "#c51b7d"
            ],
            [
             0.2,
             "#de77ae"
            ],
            [
             0.3,
             "#f1b6da"
            ],
            [
             0.4,
             "#fde0ef"
            ],
            [
             0.5,
             "#f7f7f7"
            ],
            [
             0.6,
             "#e6f5d0"
            ],
            [
             0.7,
             "#b8e186"
            ],
            [
             0.8,
             "#7fbc41"
            ],
            [
             0.9,
             "#4d9221"
            ],
            [
             1,
             "#276419"
            ]
           ],
           "sequential": [
            [
             0,
             "#0d0887"
            ],
            [
             0.1111111111111111,
             "#46039f"
            ],
            [
             0.2222222222222222,
             "#7201a8"
            ],
            [
             0.3333333333333333,
             "#9c179e"
            ],
            [
             0.4444444444444444,
             "#bd3786"
            ],
            [
             0.5555555555555556,
             "#d8576b"
            ],
            [
             0.6666666666666666,
             "#ed7953"
            ],
            [
             0.7777777777777778,
             "#fb9f3a"
            ],
            [
             0.8888888888888888,
             "#fdca26"
            ],
            [
             1,
             "#f0f921"
            ]
           ],
           "sequentialminus": [
            [
             0,
             "#0d0887"
            ],
            [
             0.1111111111111111,
             "#46039f"
            ],
            [
             0.2222222222222222,
             "#7201a8"
            ],
            [
             0.3333333333333333,
             "#9c179e"
            ],
            [
             0.4444444444444444,
             "#bd3786"
            ],
            [
             0.5555555555555556,
             "#d8576b"
            ],
            [
             0.6666666666666666,
             "#ed7953"
            ],
            [
             0.7777777777777778,
             "#fb9f3a"
            ],
            [
             0.8888888888888888,
             "#fdca26"
            ],
            [
             1,
             "#f0f921"
            ]
           ]
          },
          "colorway": [
           "#636efa",
           "#EF553B",
           "#00cc96",
           "#ab63fa",
           "#FFA15A",
           "#19d3f3",
           "#FF6692",
           "#B6E880",
           "#FF97FF",
           "#FECB52"
          ],
          "font": {
           "color": "#2a3f5f"
          },
          "geo": {
           "bgcolor": "white",
           "lakecolor": "white",
           "landcolor": "white",
           "showlakes": true,
           "showland": true,
           "subunitcolor": "#C8D4E3"
          },
          "hoverlabel": {
           "align": "left"
          },
          "hovermode": "closest",
          "mapbox": {
           "style": "light"
          },
          "paper_bgcolor": "white",
          "plot_bgcolor": "white",
          "polar": {
           "angularaxis": {
            "gridcolor": "#EBF0F8",
            "linecolor": "#EBF0F8",
            "ticks": ""
           },
           "bgcolor": "white",
           "radialaxis": {
            "gridcolor": "#EBF0F8",
            "linecolor": "#EBF0F8",
            "ticks": ""
           }
          },
          "scene": {
           "xaxis": {
            "backgroundcolor": "white",
            "gridcolor": "#DFE8F3",
            "gridwidth": 2,
            "linecolor": "#EBF0F8",
            "showbackground": true,
            "ticks": "",
            "zerolinecolor": "#EBF0F8"
           },
           "yaxis": {
            "backgroundcolor": "white",
            "gridcolor": "#DFE8F3",
            "gridwidth": 2,
            "linecolor": "#EBF0F8",
            "showbackground": true,
            "ticks": "",
            "zerolinecolor": "#EBF0F8"
           },
           "zaxis": {
            "backgroundcolor": "white",
            "gridcolor": "#DFE8F3",
            "gridwidth": 2,
            "linecolor": "#EBF0F8",
            "showbackground": true,
            "ticks": "",
            "zerolinecolor": "#EBF0F8"
           }
          },
          "shapedefaults": {
           "line": {
            "color": "#2a3f5f"
           }
          },
          "ternary": {
           "aaxis": {
            "gridcolor": "#DFE8F3",
            "linecolor": "#A2B1C6",
            "ticks": ""
           },
           "baxis": {
            "gridcolor": "#DFE8F3",
            "linecolor": "#A2B1C6",
            "ticks": ""
           },
           "bgcolor": "white",
           "caxis": {
            "gridcolor": "#DFE8F3",
            "linecolor": "#A2B1C6",
            "ticks": ""
           }
          },
          "title": {
           "x": 0.05
          },
          "xaxis": {
           "automargin": true,
           "gridcolor": "#EBF0F8",
           "linecolor": "#EBF0F8",
           "ticks": "",
           "title": {
            "standoff": 15
           },
           "zerolinecolor": "#EBF0F8",
           "zerolinewidth": 2
          },
          "yaxis": {
           "automargin": true,
           "gridcolor": "#EBF0F8",
           "linecolor": "#EBF0F8",
           "ticks": "",
           "title": {
            "standoff": 15
           },
           "zerolinecolor": "#EBF0F8",
           "zerolinewidth": 2
          }
         }
        },
        "title": {
         "font": {
          "color": "Black",
          "size": 22
         },
         "text": "Topic Word Scores",
         "x": 0.5,
         "xanchor": "center",
         "yanchor": "top"
        },
        "width": 1200,
        "xaxis": {
         "anchor": "y",
         "domain": [
          0,
          0.175
         ],
         "showgrid": true
        },
        "xaxis10": {
         "anchor": "y10",
         "domain": [
          0.275,
          0.45
         ],
         "showgrid": true
        },
        "xaxis11": {
         "anchor": "y11",
         "domain": [
          0.55,
          0.7250000000000001
         ],
         "showgrid": true
        },
        "xaxis12": {
         "anchor": "y12",
         "domain": [
          0.825,
          1
         ],
         "showgrid": true
        },
        "xaxis2": {
         "anchor": "y2",
         "domain": [
          0.275,
          0.45
         ],
         "showgrid": true
        },
        "xaxis3": {
         "anchor": "y3",
         "domain": [
          0.55,
          0.7250000000000001
         ],
         "showgrid": true
        },
        "xaxis4": {
         "anchor": "y4",
         "domain": [
          0.825,
          1
         ],
         "showgrid": true
        },
        "xaxis5": {
         "anchor": "y5",
         "domain": [
          0,
          0.175
         ],
         "showgrid": true
        },
        "xaxis6": {
         "anchor": "y6",
         "domain": [
          0.275,
          0.45
         ],
         "showgrid": true
        },
        "xaxis7": {
         "anchor": "y7",
         "domain": [
          0.55,
          0.7250000000000001
         ],
         "showgrid": true
        },
        "xaxis8": {
         "anchor": "y8",
         "domain": [
          0.825,
          1
         ],
         "showgrid": true
        },
        "xaxis9": {
         "anchor": "y9",
         "domain": [
          0,
          0.175
         ],
         "showgrid": true
        },
        "yaxis": {
         "anchor": "x",
         "domain": [
          0.7555555555555555,
          1
         ],
         "showgrid": true
        },
        "yaxis10": {
         "anchor": "x10",
         "domain": [
          0,
          0.24444444444444446
         ],
         "showgrid": true
        },
        "yaxis11": {
         "anchor": "x11",
         "domain": [
          0,
          0.24444444444444446
         ],
         "showgrid": true
        },
        "yaxis12": {
         "anchor": "x12",
         "domain": [
          0,
          0.24444444444444446
         ],
         "showgrid": true
        },
        "yaxis2": {
         "anchor": "x2",
         "domain": [
          0.7555555555555555,
          1
         ],
         "showgrid": true
        },
        "yaxis3": {
         "anchor": "x3",
         "domain": [
          0.7555555555555555,
          1
         ],
         "showgrid": true
        },
        "yaxis4": {
         "anchor": "x4",
         "domain": [
          0.7555555555555555,
          1
         ],
         "showgrid": true
        },
        "yaxis5": {
         "anchor": "x5",
         "domain": [
          0.37777777777777777,
          0.6222222222222222
         ],
         "showgrid": true
        },
        "yaxis6": {
         "anchor": "x6",
         "domain": [
          0.37777777777777777,
          0.6222222222222222
         ],
         "showgrid": true
        },
        "yaxis7": {
         "anchor": "x7",
         "domain": [
          0.37777777777777777,
          0.6222222222222222
         ],
         "showgrid": true
        },
        "yaxis8": {
         "anchor": "x8",
         "domain": [
          0.37777777777777777,
          0.6222222222222222
         ],
         "showgrid": true
        },
        "yaxis9": {
         "anchor": "x9",
         "domain": [
          0,
          0.24444444444444446
         ],
         "showgrid": true
        }
       }
      }
     },
     "metadata": {},
     "output_type": "display_data"
    }
   ],
   "source": [
    "model.visualize_barchart(\n",
    "    top_n_topics=10,\n",
    "    width=300,\n",
    "    height=300,\n",
    ")"
   ]
  },
  {
   "cell_type": "code",
   "execution_count": 14,
   "metadata": {},
   "outputs": [
    {
     "data": {
      "application/vnd.plotly.v1+json": {
       "config": {
        "plotlyServerURL": "https://plot.ly"
       },
       "data": [
        {
         "hoverinfo": "text",
         "marker": {
          "color": "rgb(61,153,112)"
         },
         "mode": "lines",
         "type": "scatter",
         "x": [
          0,
          0.6105437245278357,
          0.6105437245278357,
          0
         ],
         "xaxis": "x",
         "y": [
          -15,
          -15,
          -25,
          -25
         ],
         "yaxis": "y"
        },
        {
         "hoverinfo": "text",
         "marker": {
          "color": "rgb(61,153,112)"
         },
         "mode": "lines",
         "type": "scatter",
         "x": [
          0.6105437245278357,
          0.7009949247648801,
          0.7009949247648801,
          0
         ],
         "xaxis": "x",
         "y": [
          -20,
          -20,
          -35,
          -35
         ],
         "yaxis": "y"
        },
        {
         "hoverinfo": "text",
         "marker": {
          "color": "rgb(61,153,112)"
         },
         "mode": "lines",
         "type": "scatter",
         "x": [
          0,
          0.872235584428816,
          0.872235584428816,
          0.7009949247648801
         ],
         "xaxis": "x",
         "y": [
          -5,
          -5,
          -27.5,
          -27.5
         ],
         "yaxis": "y"
        },
        {
         "hoverinfo": "text",
         "marker": {
          "color": "rgb(255,65,54)"
         },
         "mode": "lines",
         "type": "scatter",
         "x": [
          0,
          0.6388606229988212,
          0.6388606229988212,
          0
         ],
         "xaxis": "x",
         "y": [
          -55,
          -55,
          -65,
          -65
         ],
         "yaxis": "y"
        },
        {
         "hoverinfo": "text",
         "marker": {
          "color": "rgb(255,65,54)"
         },
         "mode": "lines",
         "type": "scatter",
         "x": [
          0,
          0.7425523521696922,
          0.7425523521696922,
          0.6388606229988212
         ],
         "xaxis": "x",
         "y": [
          -45,
          -45,
          -60,
          -60
         ],
         "yaxis": "y"
        },
        {
         "hoverinfo": "text",
         "marker": {
          "color": "rgb(0,116,217)"
         },
         "mode": "lines",
         "type": "scatter",
         "x": [
          0.872235584428816,
          1.031085393705908,
          1.031085393705908,
          0.7425523521696922
         ],
         "xaxis": "x",
         "y": [
          -16.25,
          -16.25,
          -52.5,
          -52.5
         ],
         "yaxis": "y"
        },
        {
         "hoverinfo": "text",
         "marker": {
          "color": "rgb(35,205,205)"
         },
         "mode": "lines",
         "type": "scatter",
         "x": [
          0,
          0.8320011571672726,
          0.8320011571672726,
          0
         ],
         "xaxis": "x",
         "y": [
          -85,
          -85,
          -95,
          -95
         ],
         "yaxis": "y"
        },
        {
         "hoverinfo": "text",
         "marker": {
          "color": "rgb(35,205,205)"
         },
         "mode": "lines",
         "type": "scatter",
         "x": [
          0,
          0.8447711279355228,
          0.8447711279355228,
          0
         ],
         "xaxis": "x",
         "y": [
          -105,
          -105,
          -115,
          -115
         ],
         "yaxis": "y"
        },
        {
         "hoverinfo": "text",
         "marker": {
          "color": "rgb(35,205,205)"
         },
         "mode": "lines",
         "type": "scatter",
         "x": [
          0.8447711279355228,
          0.9014251263205666,
          0.9014251263205666,
          0
         ],
         "xaxis": "x",
         "y": [
          -110,
          -110,
          -125,
          -125
         ],
         "yaxis": "y"
        },
        {
         "hoverinfo": "text",
         "marker": {
          "color": "rgb(35,205,205)"
         },
         "mode": "lines",
         "type": "scatter",
         "x": [
          0.8320011571672726,
          0.9161492321031589,
          0.9161492321031589,
          0.9014251263205666
         ],
         "xaxis": "x",
         "y": [
          -90,
          -90,
          -117.5,
          -117.5
         ],
         "yaxis": "y"
        },
        {
         "hoverinfo": "text",
         "marker": {
          "color": "rgb(35,205,205)"
         },
         "mode": "lines",
         "type": "scatter",
         "x": [
          0,
          0.8139569845048199,
          0.8139569845048199,
          0
         ],
         "xaxis": "x",
         "y": [
          -135,
          -135,
          -145,
          -145
         ],
         "yaxis": "y"
        },
        {
         "hoverinfo": "text",
         "marker": {
          "color": "rgb(35,205,205)"
         },
         "mode": "lines",
         "type": "scatter",
         "x": [
          0.9161492321031589,
          0.9766459276991267,
          0.9766459276991267,
          0.8139569845048199
         ],
         "xaxis": "x",
         "y": [
          -103.75,
          -103.75,
          -140,
          -140
         ],
         "yaxis": "y"
        },
        {
         "hoverinfo": "text",
         "marker": {
          "color": "rgb(35,205,205)"
         },
         "mode": "lines",
         "type": "scatter",
         "x": [
          0,
          0.9859689939168239,
          0.9859689939168239,
          0.9766459276991267
         ],
         "xaxis": "x",
         "y": [
          -75,
          -75,
          -121.875,
          -121.875
         ],
         "yaxis": "y"
        },
        {
         "hoverinfo": "text",
         "marker": {
          "color": "rgb(133,20,75)"
         },
         "mode": "lines",
         "type": "scatter",
         "x": [
          0,
          0.8973655411678441,
          0.8973655411678441,
          0
         ],
         "xaxis": "x",
         "y": [
          -155,
          -155,
          -165,
          -165
         ],
         "yaxis": "y"
        },
        {
         "hoverinfo": "text",
         "marker": {
          "color": "rgb(133,20,75)"
         },
         "mode": "lines",
         "type": "scatter",
         "x": [
          0,
          0.798177579407133,
          0.798177579407133,
          0
         ],
         "xaxis": "x",
         "y": [
          -175,
          -175,
          -185,
          -185
         ],
         "yaxis": "y"
        },
        {
         "hoverinfo": "text",
         "marker": {
          "color": "rgb(133,20,75)"
         },
         "mode": "lines",
         "type": "scatter",
         "x": [
          0.8973655411678441,
          0.9535794175894415,
          0.9535794175894415,
          0.798177579407133
         ],
         "xaxis": "x",
         "y": [
          -160,
          -160,
          -180,
          -180
         ],
         "yaxis": "y"
        },
        {
         "hoverinfo": "text",
         "marker": {
          "color": "rgb(0,116,217)"
         },
         "mode": "lines",
         "type": "scatter",
         "x": [
          0.9859689939168239,
          1.0268225261273216,
          1.0268225261273216,
          0.9535794175894415
         ],
         "xaxis": "x",
         "y": [
          -98.4375,
          -98.4375,
          -170,
          -170
         ],
         "yaxis": "y"
        },
        {
         "hoverinfo": "text",
         "marker": {
          "color": "rgb(255,220,0)"
         },
         "mode": "lines",
         "type": "scatter",
         "x": [
          0,
          0.8485746852558813,
          0.8485746852558813,
          0
         ],
         "xaxis": "x",
         "y": [
          -205,
          -205,
          -215,
          -215
         ],
         "yaxis": "y"
        },
        {
         "hoverinfo": "text",
         "marker": {
          "color": "rgb(255,220,0)"
         },
         "mode": "lines",
         "type": "scatter",
         "x": [
          0,
          0.9688766000276926,
          0.9688766000276926,
          0.8485746852558813
         ],
         "xaxis": "x",
         "y": [
          -195,
          -195,
          -210,
          -210
         ],
         "yaxis": "y"
        },
        {
         "hoverinfo": "text",
         "marker": {
          "color": "rgb(255,220,0)"
         },
         "mode": "lines",
         "type": "scatter",
         "x": [
          0,
          0.7637537192432158,
          0.7637537192432158,
          0
         ],
         "xaxis": "x",
         "y": [
          -235,
          -235,
          -245,
          -245
         ],
         "yaxis": "y"
        },
        {
         "hoverinfo": "text",
         "marker": {
          "color": "rgb(255,220,0)"
         },
         "mode": "lines",
         "type": "scatter",
         "x": [
          0,
          0.8273275431185361,
          0.8273275431185361,
          0.7637537192432158
         ],
         "xaxis": "x",
         "y": [
          -225,
          -225,
          -240,
          -240
         ],
         "yaxis": "y"
        },
        {
         "hoverinfo": "text",
         "marker": {
          "color": "rgb(255,220,0)"
         },
         "mode": "lines",
         "type": "scatter",
         "x": [
          0,
          0.8462766079695908,
          0.8462766079695908,
          0
         ],
         "xaxis": "x",
         "y": [
          -255,
          -255,
          -265,
          -265
         ],
         "yaxis": "y"
        },
        {
         "hoverinfo": "text",
         "marker": {
          "color": "rgb(255,220,0)"
         },
         "mode": "lines",
         "type": "scatter",
         "x": [
          0.8273275431185361,
          0.871908368128756,
          0.871908368128756,
          0.8462766079695908
         ],
         "xaxis": "x",
         "y": [
          -232.5,
          -232.5,
          -260,
          -260
         ],
         "yaxis": "y"
        },
        {
         "hoverinfo": "text",
         "marker": {
          "color": "rgb(255,220,0)"
         },
         "mode": "lines",
         "type": "scatter",
         "x": [
          0.9688766000276926,
          0.9854825781236598,
          0.9854825781236598,
          0.871908368128756
         ],
         "xaxis": "x",
         "y": [
          -202.5,
          -202.5,
          -246.25,
          -246.25
         ],
         "yaxis": "y"
        },
        {
         "hoverinfo": "text",
         "marker": {
          "color": "rgb(40,35,35)"
         },
         "mode": "lines",
         "type": "scatter",
         "x": [
          0,
          0.9312844745727548,
          0.9312844745727548,
          0
         ],
         "xaxis": "x",
         "y": [
          -275,
          -275,
          -285,
          -285
         ],
         "yaxis": "y"
        },
        {
         "hoverinfo": "text",
         "marker": {
          "color": "rgb(40,35,35)"
         },
         "mode": "lines",
         "type": "scatter",
         "x": [
          0.9312844745727548,
          0.9525910091022358,
          0.9525910091022358,
          0
         ],
         "xaxis": "x",
         "y": [
          -280,
          -280,
          -295,
          -295
         ],
         "yaxis": "y"
        },
        {
         "hoverinfo": "text",
         "marker": {
          "color": "rgb(40,35,35)"
         },
         "mode": "lines",
         "type": "scatter",
         "x": [
          0,
          0.8805239417940524,
          0.8805239417940524,
          0
         ],
         "xaxis": "x",
         "y": [
          -305,
          -305,
          -315,
          -315
         ],
         "yaxis": "y"
        },
        {
         "hoverinfo": "text",
         "marker": {
          "color": "rgb(40,35,35)"
         },
         "mode": "lines",
         "type": "scatter",
         "x": [
          0.8805239417940524,
          0.9284442342844245,
          0.9284442342844245,
          0
         ],
         "xaxis": "x",
         "y": [
          -310,
          -310,
          -325,
          -325
         ],
         "yaxis": "y"
        },
        {
         "hoverinfo": "text",
         "marker": {
          "color": "rgb(40,35,35)"
         },
         "mode": "lines",
         "type": "scatter",
         "x": [
          0.9525910091022358,
          0.9634845771757963,
          0.9634845771757963,
          0.9284442342844245
         ],
         "xaxis": "x",
         "y": [
          -287.5,
          -287.5,
          -317.5,
          -317.5
         ],
         "yaxis": "y"
        },
        {
         "hoverinfo": "text",
         "marker": {
          "color": "rgb(40,35,35)"
         },
         "mode": "lines",
         "type": "scatter",
         "x": [
          0,
          0.7503565990956034,
          0.7503565990956034,
          0
         ],
         "xaxis": "x",
         "y": [
          -335,
          -335,
          -345,
          -345
         ],
         "yaxis": "y"
        },
        {
         "hoverinfo": "text",
         "marker": {
          "color": "rgb(40,35,35)"
         },
         "mode": "lines",
         "type": "scatter",
         "x": [
          0.7503565990956034,
          0.7982249222958278,
          0.7982249222958278,
          0
         ],
         "xaxis": "x",
         "y": [
          -340,
          -340,
          -355,
          -355
         ],
         "yaxis": "y"
        },
        {
         "hoverinfo": "text",
         "marker": {
          "color": "rgb(40,35,35)"
         },
         "mode": "lines",
         "type": "scatter",
         "x": [
          0.7982249222958278,
          0.8749909795985675,
          0.8749909795985675,
          0
         ],
         "xaxis": "x",
         "y": [
          -347.5,
          -347.5,
          -365,
          -365
         ],
         "yaxis": "y"
        },
        {
         "hoverinfo": "text",
         "marker": {
          "color": "rgb(40,35,35)"
         },
         "mode": "lines",
         "type": "scatter",
         "x": [
          0.9634845771757963,
          0.9990060304396005,
          0.9990060304396005,
          0.8749909795985675
         ],
         "xaxis": "x",
         "y": [
          -302.5,
          -302.5,
          -356.25,
          -356.25
         ],
         "yaxis": "y"
        },
        {
         "hoverinfo": "text",
         "marker": {
          "color": "rgb(61,153,112)"
         },
         "mode": "lines",
         "type": "scatter",
         "x": [
          0,
          0.8634013467603981,
          0.8634013467603981,
          0
         ],
         "xaxis": "x",
         "y": [
          -375,
          -375,
          -385,
          -385
         ],
         "yaxis": "y"
        },
        {
         "hoverinfo": "text",
         "marker": {
          "color": "rgb(0,116,217)"
         },
         "mode": "lines",
         "type": "scatter",
         "x": [
          0.9990060304396005,
          1.059374075456458,
          1.059374075456458,
          0.8634013467603981
         ],
         "xaxis": "x",
         "y": [
          -329.375,
          -329.375,
          -380,
          -380
         ],
         "yaxis": "y"
        },
        {
         "hoverinfo": "text",
         "marker": {
          "color": "rgb(0,116,217)"
         },
         "mode": "lines",
         "type": "scatter",
         "x": [
          0.9854825781236598,
          1.0929817754299773,
          1.0929817754299773,
          1.059374075456458
         ],
         "xaxis": "x",
         "y": [
          -224.375,
          -224.375,
          -354.6875,
          -354.6875
         ],
         "yaxis": "y"
        },
        {
         "hoverinfo": "text",
         "marker": {
          "color": "rgb(0,116,217)"
         },
         "mode": "lines",
         "type": "scatter",
         "x": [
          1.0268225261273216,
          1.2008985787609492,
          1.2008985787609492,
          1.0929817754299773
         ],
         "xaxis": "x",
         "y": [
          -134.21875,
          -134.21875,
          -289.53125,
          -289.53125
         ],
         "yaxis": "y"
        },
        {
         "hoverinfo": "text",
         "marker": {
          "color": "rgb(255,65,54)"
         },
         "mode": "lines",
         "type": "scatter",
         "x": [
          0,
          0.7135491906543286,
          0.7135491906543286,
          0
         ],
         "xaxis": "x",
         "y": [
          -405,
          -405,
          -415,
          -415
         ],
         "yaxis": "y"
        },
        {
         "hoverinfo": "text",
         "marker": {
          "color": "rgb(255,65,54)"
         },
         "mode": "lines",
         "type": "scatter",
         "x": [
          0,
          0.8004417952294801,
          0.8004417952294801,
          0.7135491906543286
         ],
         "xaxis": "x",
         "y": [
          -395,
          -395,
          -410,
          -410
         ],
         "yaxis": "y"
        },
        {
         "hoverinfo": "text",
         "marker": {
          "color": "rgb(35,205,205)"
         },
         "mode": "lines",
         "type": "scatter",
         "x": [
          0,
          0.6855558296019404,
          0.6855558296019404,
          0
         ],
         "xaxis": "x",
         "y": [
          -435,
          -435,
          -445,
          -445
         ],
         "yaxis": "y"
        },
        {
         "hoverinfo": "text",
         "marker": {
          "color": "rgb(35,205,205)"
         },
         "mode": "lines",
         "type": "scatter",
         "x": [
          0,
          0.7898494726849344,
          0.7898494726849344,
          0.6855558296019404
         ],
         "xaxis": "x",
         "y": [
          -425,
          -425,
          -440,
          -440
         ],
         "yaxis": "y"
        },
        {
         "hoverinfo": "text",
         "marker": {
          "color": "rgb(35,205,205)"
         },
         "mode": "lines",
         "type": "scatter",
         "x": [
          0.7898494726849344,
          0.8351151999603684,
          0.8351151999603684,
          0
         ],
         "xaxis": "x",
         "y": [
          -432.5,
          -432.5,
          -455,
          -455
         ],
         "yaxis": "y"
        },
        {
         "hoverinfo": "text",
         "marker": {
          "color": "rgb(61,153,112)"
         },
         "mode": "lines",
         "type": "scatter",
         "x": [
          0,
          0.82287233581768,
          0.82287233581768,
          0
         ],
         "xaxis": "x",
         "y": [
          -465,
          -465,
          -475,
          -475
         ],
         "yaxis": "y"
        },
        {
         "hoverinfo": "text",
         "marker": {
          "color": "rgb(0,116,217)"
         },
         "mode": "lines",
         "type": "scatter",
         "x": [
          0.8351151999603684,
          1.0294039993123236,
          1.0294039993123236,
          0.82287233581768
         ],
         "xaxis": "x",
         "y": [
          -443.75,
          -443.75,
          -470,
          -470
         ],
         "yaxis": "y"
        },
        {
         "hoverinfo": "text",
         "marker": {
          "color": "rgb(0,116,217)"
         },
         "mode": "lines",
         "type": "scatter",
         "x": [
          0.8004417952294801,
          1.0703149920301243,
          1.0703149920301243,
          1.0294039993123236
         ],
         "xaxis": "x",
         "y": [
          -402.5,
          -402.5,
          -456.875,
          -456.875
         ],
         "yaxis": "y"
        },
        {
         "hoverinfo": "text",
         "marker": {
          "color": "rgb(0,116,217)"
         },
         "mode": "lines",
         "type": "scatter",
         "x": [
          1.2008985787609492,
          1.2855820762916357,
          1.2855820762916357,
          1.0703149920301243
         ],
         "xaxis": "x",
         "y": [
          -211.875,
          -211.875,
          -429.6875,
          -429.6875
         ],
         "yaxis": "y"
        },
        {
         "hoverinfo": "text",
         "marker": {
          "color": "rgb(0,116,217)"
         },
         "mode": "lines",
         "type": "scatter",
         "x": [
          1.031085393705908,
          1.391983914103548,
          1.391983914103548,
          1.2855820762916357
         ],
         "xaxis": "x",
         "y": [
          -34.375,
          -34.375,
          -320.78125,
          -320.78125
         ],
         "yaxis": "y"
        },
        {
         "hoverinfo": "text",
         "marker": {
          "color": "rgb(255,65,54)"
         },
         "mode": "lines",
         "type": "scatter",
         "x": [
          0,
          0.8228467082194664,
          0.8228467082194664,
          0
         ],
         "xaxis": "x",
         "y": [
          -485,
          -485,
          -495,
          -495
         ],
         "yaxis": "y"
        },
        {
         "hoverinfo": "text",
         "marker": {
          "color": "rgb(255,65,54)"
         },
         "mode": "lines",
         "type": "scatter",
         "x": [
          0,
          0.6737166759584707,
          0.6737166759584707,
          0
         ],
         "xaxis": "x",
         "y": [
          -505,
          -505,
          -515,
          -515
         ],
         "yaxis": "y"
        },
        {
         "hoverinfo": "text",
         "marker": {
          "color": "rgb(255,65,54)"
         },
         "mode": "lines",
         "type": "scatter",
         "x": [
          0.8228467082194664,
          0.8758954225464904,
          0.8758954225464904,
          0.6737166759584707
         ],
         "xaxis": "x",
         "y": [
          -490,
          -490,
          -510,
          -510
         ],
         "yaxis": "y"
        },
        {
         "hoverinfo": "text",
         "marker": {
          "color": "rgb(35,205,205)"
         },
         "mode": "lines",
         "type": "scatter",
         "x": [
          0,
          0.7052063886789661,
          0.7052063886789661,
          0
         ],
         "xaxis": "x",
         "y": [
          -535,
          -535,
          -545,
          -545
         ],
         "yaxis": "y"
        },
        {
         "hoverinfo": "text",
         "marker": {
          "color": "rgb(35,205,205)"
         },
         "mode": "lines",
         "type": "scatter",
         "x": [
          0.7052063886789661,
          0.7461297148860115,
          0.7461297148860115,
          0
         ],
         "xaxis": "x",
         "y": [
          -540,
          -540,
          -555,
          -555
         ],
         "yaxis": "y"
        },
        {
         "hoverinfo": "text",
         "marker": {
          "color": "rgb(35,205,205)"
         },
         "mode": "lines",
         "type": "scatter",
         "x": [
          0,
          0.7686878090376763,
          0.7686878090376763,
          0.7461297148860115
         ],
         "xaxis": "x",
         "y": [
          -525,
          -525,
          -547.5,
          -547.5
         ],
         "yaxis": "y"
        },
        {
         "hoverinfo": "text",
         "marker": {
          "color": "rgb(35,205,205)"
         },
         "mode": "lines",
         "type": "scatter",
         "x": [
          0.7686878090376763,
          0.7709534712946909,
          0.7709534712946909,
          0
         ],
         "xaxis": "x",
         "y": [
          -536.25,
          -536.25,
          -565,
          -565
         ],
         "yaxis": "y"
        },
        {
         "hoverinfo": "text",
         "marker": {
          "color": "rgb(133,20,75)"
         },
         "mode": "lines",
         "type": "scatter",
         "x": [
          0,
          0.6904050020663725,
          0.6904050020663725,
          0
         ],
         "xaxis": "x",
         "y": [
          -585,
          -585,
          -595,
          -595
         ],
         "yaxis": "y"
        },
        {
         "hoverinfo": "text",
         "marker": {
          "color": "rgb(133,20,75)"
         },
         "mode": "lines",
         "type": "scatter",
         "x": [
          0.6904050020663725,
          0.7646568611979674,
          0.7646568611979674,
          0
         ],
         "xaxis": "x",
         "y": [
          -590,
          -590,
          -605,
          -605
         ],
         "yaxis": "y"
        },
        {
         "hoverinfo": "text",
         "marker": {
          "color": "rgb(133,20,75)"
         },
         "mode": "lines",
         "type": "scatter",
         "x": [
          0,
          0.8671793449930483,
          0.8671793449930483,
          0.7646568611979674
         ],
         "xaxis": "x",
         "y": [
          -575,
          -575,
          -597.5,
          -597.5
         ],
         "yaxis": "y"
        },
        {
         "hoverinfo": "text",
         "marker": {
          "color": "rgb(133,20,75)"
         },
         "mode": "lines",
         "type": "scatter",
         "x": [
          0,
          0.8560028519948384,
          0.8560028519948384,
          0
         ],
         "xaxis": "x",
         "y": [
          -615,
          -615,
          -625,
          -625
         ],
         "yaxis": "y"
        },
        {
         "hoverinfo": "text",
         "marker": {
          "color": "rgb(133,20,75)"
         },
         "mode": "lines",
         "type": "scatter",
         "x": [
          0.8671793449930483,
          0.9304016599083994,
          0.9304016599083994,
          0.8560028519948384
         ],
         "xaxis": "x",
         "y": [
          -586.25,
          -586.25,
          -620,
          -620
         ],
         "yaxis": "y"
        },
        {
         "hoverinfo": "text",
         "marker": {
          "color": "rgb(0,116,217)"
         },
         "mode": "lines",
         "type": "scatter",
         "x": [
          0.7709534712946909,
          1.0148501518719601,
          1.0148501518719601,
          0.9304016599083994
         ],
         "xaxis": "x",
         "y": [
          -550.625,
          -550.625,
          -603.125,
          -603.125
         ],
         "yaxis": "y"
        },
        {
         "hoverinfo": "text",
         "marker": {
          "color": "rgb(0,116,217)"
         },
         "mode": "lines",
         "type": "scatter",
         "x": [
          0.8758954225464904,
          1.1513759507232073,
          1.1513759507232073,
          1.0148501518719601
         ],
         "xaxis": "x",
         "y": [
          -500,
          -500,
          -576.875,
          -576.875
         ],
         "yaxis": "y"
        },
        {
         "hoverinfo": "text",
         "marker": {
          "color": "rgb(0,116,217)"
         },
         "mode": "lines",
         "type": "scatter",
         "x": [
          1.391983914103548,
          1.5225660003264896,
          1.5225660003264896,
          1.1513759507232073
         ],
         "xaxis": "x",
         "y": [
          -177.578125,
          -177.578125,
          -538.4375,
          -538.4375
         ],
         "yaxis": "y"
        },
        {
         "hoverinfo": "text",
         "marker": {
          "color": "rgb(255,220,0)"
         },
         "mode": "lines",
         "type": "scatter",
         "x": [
          0,
          0.4440608993583087,
          0.4440608993583087,
          0
         ],
         "xaxis": "x",
         "y": [
          -635,
          -635,
          -645,
          -645
         ],
         "yaxis": "y"
        },
        {
         "hoverinfo": "text",
         "marker": {
          "color": "rgb(40,35,35)"
         },
         "mode": "lines",
         "type": "scatter",
         "x": [
          0,
          0.8401185241724295,
          0.8401185241724295,
          0
         ],
         "xaxis": "x",
         "y": [
          -675,
          -675,
          -685,
          -685
         ],
         "yaxis": "y"
        },
        {
         "hoverinfo": "text",
         "marker": {
          "color": "rgb(40,35,35)"
         },
         "mode": "lines",
         "type": "scatter",
         "x": [
          0,
          0.8804475754277262,
          0.8804475754277262,
          0.8401185241724295
         ],
         "xaxis": "x",
         "y": [
          -665,
          -665,
          -680,
          -680
         ],
         "yaxis": "y"
        },
        {
         "hoverinfo": "text",
         "marker": {
          "color": "rgb(40,35,35)"
         },
         "mode": "lines",
         "type": "scatter",
         "x": [
          0,
          0.9859011306313837,
          0.9859011306313837,
          0.8804475754277262
         ],
         "xaxis": "x",
         "y": [
          -655,
          -655,
          -672.5,
          -672.5
         ],
         "yaxis": "y"
        },
        {
         "hoverinfo": "text",
         "marker": {
          "color": "rgb(61,153,112)"
         },
         "mode": "lines",
         "type": "scatter",
         "x": [
          0,
          0.8955607634315154,
          0.8955607634315154,
          0
         ],
         "xaxis": "x",
         "y": [
          -705,
          -705,
          -715,
          -715
         ],
         "yaxis": "y"
        },
        {
         "hoverinfo": "text",
         "marker": {
          "color": "rgb(61,153,112)"
         },
         "mode": "lines",
         "type": "scatter",
         "x": [
          0,
          0.9086602832467652,
          0.9086602832467652,
          0.8955607634315154
         ],
         "xaxis": "x",
         "y": [
          -695,
          -695,
          -710,
          -710
         ],
         "yaxis": "y"
        },
        {
         "hoverinfo": "text",
         "marker": {
          "color": "rgb(61,153,112)"
         },
         "mode": "lines",
         "type": "scatter",
         "x": [
          0.9086602832467652,
          0.9480079756658399,
          0.9480079756658399,
          0
         ],
         "xaxis": "x",
         "y": [
          -702.5,
          -702.5,
          -725,
          -725
         ],
         "yaxis": "y"
        },
        {
         "hoverinfo": "text",
         "marker": {
          "color": "rgb(0,116,217)"
         },
         "mode": "lines",
         "type": "scatter",
         "x": [
          0.9859011306313837,
          1.0084940590173437,
          1.0084940590173437,
          0.9480079756658399
         ],
         "xaxis": "x",
         "y": [
          -663.75,
          -663.75,
          -713.75,
          -713.75
         ],
         "yaxis": "y"
        },
        {
         "hoverinfo": "text",
         "marker": {
          "color": "rgb(255,65,54)"
         },
         "mode": "lines",
         "type": "scatter",
         "x": [
          0,
          0.83941914888794,
          0.83941914888794,
          0
         ],
         "xaxis": "x",
         "y": [
          -735,
          -735,
          -745,
          -745
         ],
         "yaxis": "y"
        },
        {
         "hoverinfo": "text",
         "marker": {
          "color": "rgb(35,205,205)"
         },
         "mode": "lines",
         "type": "scatter",
         "x": [
          0,
          0.9478214464668415,
          0.9478214464668415,
          0
         ],
         "xaxis": "x",
         "y": [
          -765,
          -765,
          -775,
          -775
         ],
         "yaxis": "y"
        },
        {
         "hoverinfo": "text",
         "marker": {
          "color": "rgb(35,205,205)"
         },
         "mode": "lines",
         "type": "scatter",
         "x": [
          0,
          0.9824870847173596,
          0.9824870847173596,
          0.9478214464668415
         ],
         "xaxis": "x",
         "y": [
          -755,
          -755,
          -770,
          -770
         ],
         "yaxis": "y"
        },
        {
         "hoverinfo": "text",
         "marker": {
          "color": "rgb(61,153,112)"
         },
         "mode": "lines",
         "type": "scatter",
         "x": [
          0,
          0.933822503452109,
          0.933822503452109,
          0
         ],
         "xaxis": "x",
         "y": [
          -795,
          -795,
          -805,
          -805
         ],
         "yaxis": "y"
        },
        {
         "hoverinfo": "text",
         "marker": {
          "color": "rgb(61,153,112)"
         },
         "mode": "lines",
         "type": "scatter",
         "x": [
          0,
          0.9577096490820401,
          0.9577096490820401,
          0.933822503452109
         ],
         "xaxis": "x",
         "y": [
          -785,
          -785,
          -800,
          -800
         ],
         "yaxis": "y"
        },
        {
         "hoverinfo": "text",
         "marker": {
          "color": "rgb(61,153,112)"
         },
         "mode": "lines",
         "type": "scatter",
         "x": [
          0,
          0.925395094333266,
          0.925395094333266,
          0
         ],
         "xaxis": "x",
         "y": [
          -815,
          -815,
          -825,
          -825
         ],
         "yaxis": "y"
        },
        {
         "hoverinfo": "text",
         "marker": {
          "color": "rgb(61,153,112)"
         },
         "mode": "lines",
         "type": "scatter",
         "x": [
          0.9577096490820401,
          0.9935307506936293,
          0.9935307506936293,
          0.925395094333266
         ],
         "xaxis": "x",
         "y": [
          -792.5,
          -792.5,
          -820,
          -820
         ],
         "yaxis": "y"
        },
        {
         "hoverinfo": "text",
         "marker": {
          "color": "rgb(0,116,217)"
         },
         "mode": "lines",
         "type": "scatter",
         "x": [
          0.9824870847173596,
          1.000561120662524,
          1.000561120662524,
          0.9935307506936293
         ],
         "xaxis": "x",
         "y": [
          -762.5,
          -762.5,
          -806.25,
          -806.25
         ],
         "yaxis": "y"
        },
        {
         "hoverinfo": "text",
         "marker": {
          "color": "rgb(0,116,217)"
         },
         "mode": "lines",
         "type": "scatter",
         "x": [
          0.83941914888794,
          1.0661735148701046,
          1.0661735148701046,
          1.000561120662524
         ],
         "xaxis": "x",
         "y": [
          -740,
          -740,
          -784.375,
          -784.375
         ],
         "yaxis": "y"
        },
        {
         "hoverinfo": "text",
         "marker": {
          "color": "rgb(0,116,217)"
         },
         "mode": "lines",
         "type": "scatter",
         "x": [
          1.0084940590173437,
          1.098748124568053,
          1.098748124568053,
          1.0661735148701046
         ],
         "xaxis": "x",
         "y": [
          -688.75,
          -688.75,
          -762.1875,
          -762.1875
         ],
         "yaxis": "y"
        },
        {
         "hoverinfo": "text",
         "marker": {
          "color": "rgb(255,65,54)"
         },
         "mode": "lines",
         "type": "scatter",
         "x": [
          0,
          0.9092629968971531,
          0.9092629968971531,
          0
         ],
         "xaxis": "x",
         "y": [
          -835,
          -835,
          -845,
          -845
         ],
         "yaxis": "y"
        },
        {
         "hoverinfo": "text",
         "marker": {
          "color": "rgb(255,65,54)"
         },
         "mode": "lines",
         "type": "scatter",
         "x": [
          0,
          0.9198197543724813,
          0.9198197543724813,
          0
         ],
         "xaxis": "x",
         "y": [
          -855,
          -855,
          -865,
          -865
         ],
         "yaxis": "y"
        },
        {
         "hoverinfo": "text",
         "marker": {
          "color": "rgb(255,65,54)"
         },
         "mode": "lines",
         "type": "scatter",
         "x": [
          0.9198197543724813,
          0.9576356848777499,
          0.9576356848777499,
          0
         ],
         "xaxis": "x",
         "y": [
          -860,
          -860,
          -875,
          -875
         ],
         "yaxis": "y"
        },
        {
         "hoverinfo": "text",
         "marker": {
          "color": "rgb(255,65,54)"
         },
         "mode": "lines",
         "type": "scatter",
         "x": [
          0.9092629968971531,
          0.9777134989444987,
          0.9777134989444987,
          0.9576356848777499
         ],
         "xaxis": "x",
         "y": [
          -840,
          -840,
          -867.5,
          -867.5
         ],
         "yaxis": "y"
        },
        {
         "hoverinfo": "text",
         "marker": {
          "color": "rgb(35,205,205)"
         },
         "mode": "lines",
         "type": "scatter",
         "x": [
          0,
          0.861152955117836,
          0.861152955117836,
          0
         ],
         "xaxis": "x",
         "y": [
          -895,
          -895,
          -905,
          -905
         ],
         "yaxis": "y"
        },
        {
         "hoverinfo": "text",
         "marker": {
          "color": "rgb(35,205,205)"
         },
         "mode": "lines",
         "type": "scatter",
         "x": [
          0.861152955117836,
          0.910779598665507,
          0.910779598665507,
          0
         ],
         "xaxis": "x",
         "y": [
          -900,
          -900,
          -915,
          -915
         ],
         "yaxis": "y"
        },
        {
         "hoverinfo": "text",
         "marker": {
          "color": "rgb(35,205,205)"
         },
         "mode": "lines",
         "type": "scatter",
         "x": [
          0,
          0.9357771732748192,
          0.9357771732748192,
          0.910779598665507
         ],
         "xaxis": "x",
         "y": [
          -885,
          -885,
          -907.5,
          -907.5
         ],
         "yaxis": "y"
        },
        {
         "hoverinfo": "text",
         "marker": {
          "color": "rgb(35,205,205)"
         },
         "mode": "lines",
         "type": "scatter",
         "x": [
          0,
          0.8713413464714376,
          0.8713413464714376,
          0
         ],
         "xaxis": "x",
         "y": [
          -935,
          -935,
          -945,
          -945
         ],
         "yaxis": "y"
        },
        {
         "hoverinfo": "text",
         "marker": {
          "color": "rgb(35,205,205)"
         },
         "mode": "lines",
         "type": "scatter",
         "x": [
          0,
          0.8952928522747974,
          0.8952928522747974,
          0.8713413464714376
         ],
         "xaxis": "x",
         "y": [
          -925,
          -925,
          -940,
          -940
         ],
         "yaxis": "y"
        },
        {
         "hoverinfo": "text",
         "marker": {
          "color": "rgb(35,205,205)"
         },
         "mode": "lines",
         "type": "scatter",
         "x": [
          0.8952928522747974,
          0.9150996142172727,
          0.9150996142172727,
          0
         ],
         "xaxis": "x",
         "y": [
          -932.5,
          -932.5,
          -955,
          -955
         ],
         "yaxis": "y"
        },
        {
         "hoverinfo": "text",
         "marker": {
          "color": "rgb(35,205,205)"
         },
         "mode": "lines",
         "type": "scatter",
         "x": [
          0.9357771732748192,
          0.9496466850468585,
          0.9496466850468585,
          0.9150996142172727
         ],
         "xaxis": "x",
         "y": [
          -896.25,
          -896.25,
          -943.75,
          -943.75
         ],
         "yaxis": "y"
        },
        {
         "hoverinfo": "text",
         "marker": {
          "color": "rgb(0,116,217)"
         },
         "mode": "lines",
         "type": "scatter",
         "x": [
          0.9777134989444987,
          1.0363686260581269,
          1.0363686260581269,
          0.9496466850468585
         ],
         "xaxis": "x",
         "y": [
          -853.75,
          -853.75,
          -920,
          -920
         ],
         "yaxis": "y"
        },
        {
         "hoverinfo": "text",
         "marker": {
          "color": "rgb(133,20,75)"
         },
         "mode": "lines",
         "type": "scatter",
         "x": [
          0,
          0.9385170886915004,
          0.9385170886915004,
          0
         ],
         "xaxis": "x",
         "y": [
          -965,
          -965,
          -975,
          -975
         ],
         "yaxis": "y"
        },
        {
         "hoverinfo": "text",
         "marker": {
          "color": "rgb(133,20,75)"
         },
         "mode": "lines",
         "type": "scatter",
         "x": [
          0,
          0.9293318334368613,
          0.9293318334368613,
          0
         ],
         "xaxis": "x",
         "y": [
          -985,
          -985,
          -995,
          -995
         ],
         "yaxis": "y"
        },
        {
         "hoverinfo": "text",
         "marker": {
          "color": "rgb(133,20,75)"
         },
         "mode": "lines",
         "type": "scatter",
         "x": [
          0.9385170886915004,
          0.9772469449514463,
          0.9772469449514463,
          0.9293318334368613
         ],
         "xaxis": "x",
         "y": [
          -970,
          -970,
          -990,
          -990
         ],
         "yaxis": "y"
        },
        {
         "hoverinfo": "text",
         "marker": {
          "color": "rgb(255,220,0)"
         },
         "mode": "lines",
         "type": "scatter",
         "x": [
          0,
          0.777285220663625,
          0.777285220663625,
          0
         ],
         "xaxis": "x",
         "y": [
          -1005,
          -1005,
          -1015,
          -1015
         ],
         "yaxis": "y"
        },
        {
         "hoverinfo": "text",
         "marker": {
          "color": "rgb(0,116,217)"
         },
         "mode": "lines",
         "type": "scatter",
         "x": [
          0.9772469449514463,
          1.0876776227355867,
          1.0876776227355867,
          0.777285220663625
         ],
         "xaxis": "x",
         "y": [
          -980,
          -980,
          -1010,
          -1010
         ],
         "yaxis": "y"
        },
        {
         "hoverinfo": "text",
         "marker": {
          "color": "rgb(0,116,217)"
         },
         "mode": "lines",
         "type": "scatter",
         "x": [
          1.0363686260581269,
          1.1047282675568921,
          1.1047282675568921,
          1.0876776227355867
         ],
         "xaxis": "x",
         "y": [
          -886.875,
          -886.875,
          -995,
          -995
         ],
         "yaxis": "y"
        },
        {
         "hoverinfo": "text",
         "marker": {
          "color": "rgb(0,116,217)"
         },
         "mode": "lines",
         "type": "scatter",
         "x": [
          1.098748124568053,
          1.1534500033321766,
          1.1534500033321766,
          1.1047282675568921
         ],
         "xaxis": "x",
         "y": [
          -725.46875,
          -725.46875,
          -940.9375,
          -940.9375
         ],
         "yaxis": "y"
        },
        {
         "hoverinfo": "text",
         "marker": {
          "color": "rgb(0,116,217)"
         },
         "mode": "lines",
         "type": "scatter",
         "x": [
          0.4440608993583087,
          1.243110824017173,
          1.243110824017173,
          1.1534500033321766
         ],
         "xaxis": "x",
         "y": [
          -640,
          -640,
          -833.203125,
          -833.203125
         ],
         "yaxis": "y"
        },
        {
         "hoverinfo": "text",
         "marker": {
          "color": "rgb(40,35,35)"
         },
         "mode": "lines",
         "type": "scatter",
         "x": [
          0,
          0.8538179528991547,
          0.8538179528991547,
          0
         ],
         "xaxis": "x",
         "y": [
          -1025,
          -1025,
          -1035,
          -1035
         ],
         "yaxis": "y"
        },
        {
         "hoverinfo": "text",
         "marker": {
          "color": "rgb(40,35,35)"
         },
         "mode": "lines",
         "type": "scatter",
         "x": [
          0.8538179528991547,
          0.8698857329883222,
          0.8698857329883222,
          0
         ],
         "xaxis": "x",
         "y": [
          -1030,
          -1030,
          -1045,
          -1045
         ],
         "yaxis": "y"
        },
        {
         "hoverinfo": "text",
         "marker": {
          "color": "rgb(40,35,35)"
         },
         "mode": "lines",
         "type": "scatter",
         "x": [
          0,
          0.759449326682946,
          0.759449326682946,
          0
         ],
         "xaxis": "x",
         "y": [
          -1055,
          -1055,
          -1065,
          -1065
         ],
         "yaxis": "y"
        },
        {
         "hoverinfo": "text",
         "marker": {
          "color": "rgb(40,35,35)"
         },
         "mode": "lines",
         "type": "scatter",
         "x": [
          0.759449326682946,
          0.7787819105410207,
          0.7787819105410207,
          0
         ],
         "xaxis": "x",
         "y": [
          -1060,
          -1060,
          -1075,
          -1075
         ],
         "yaxis": "y"
        },
        {
         "hoverinfo": "text",
         "marker": {
          "color": "rgb(40,35,35)"
         },
         "mode": "lines",
         "type": "scatter",
         "x": [
          0.8698857329883222,
          0.9362349399559887,
          0.9362349399559887,
          0.7787819105410207
         ],
         "xaxis": "x",
         "y": [
          -1037.5,
          -1037.5,
          -1067.5,
          -1067.5
         ],
         "yaxis": "y"
        },
        {
         "hoverinfo": "text",
         "marker": {
          "color": "rgb(61,153,112)"
         },
         "mode": "lines",
         "type": "scatter",
         "x": [
          0,
          0.7881830014868404,
          0.7881830014868404,
          0
         ],
         "xaxis": "x",
         "y": [
          -1085,
          -1085,
          -1095,
          -1095
         ],
         "yaxis": "y"
        },
        {
         "hoverinfo": "text",
         "marker": {
          "color": "rgb(0,116,217)"
         },
         "mode": "lines",
         "type": "scatter",
         "x": [
          0.9362349399559887,
          1.1043013282042466,
          1.1043013282042466,
          0.7881830014868404
         ],
         "xaxis": "x",
         "y": [
          -1052.5,
          -1052.5,
          -1090,
          -1090
         ],
         "yaxis": "y"
        },
        {
         "hoverinfo": "text",
         "marker": {
          "color": "rgb(0,116,217)"
         },
         "mode": "lines",
         "type": "scatter",
         "x": [
          1.243110824017173,
          1.3725898995265362,
          1.3725898995265362,
          1.1043013282042466
         ],
         "xaxis": "x",
         "y": [
          -736.6015625,
          -736.6015625,
          -1071.25,
          -1071.25
         ],
         "yaxis": "y"
        },
        {
         "hoverinfo": "text",
         "marker": {
          "color": "rgb(255,65,54)"
         },
         "mode": "lines",
         "type": "scatter",
         "x": [
          0,
          0.8077146651042172,
          0.8077146651042172,
          0
         ],
         "xaxis": "x",
         "y": [
          -1105,
          -1105,
          -1115,
          -1115
         ],
         "yaxis": "y"
        },
        {
         "hoverinfo": "text",
         "marker": {
          "color": "rgb(255,65,54)"
         },
         "mode": "lines",
         "type": "scatter",
         "x": [
          0.8077146651042172,
          0.8807625696238122,
          0.8807625696238122,
          0
         ],
         "xaxis": "x",
         "y": [
          -1110,
          -1110,
          -1125,
          -1125
         ],
         "yaxis": "y"
        },
        {
         "hoverinfo": "text",
         "marker": {
          "color": "rgb(255,65,54)"
         },
         "mode": "lines",
         "type": "scatter",
         "x": [
          0,
          0.7498404298041261,
          0.7498404298041261,
          0
         ],
         "xaxis": "x",
         "y": [
          -1135,
          -1135,
          -1145,
          -1145
         ],
         "yaxis": "y"
        },
        {
         "hoverinfo": "text",
         "marker": {
          "color": "rgb(255,65,54)"
         },
         "mode": "lines",
         "type": "scatter",
         "x": [
          0.7498404298041261,
          0.7609694006564751,
          0.7609694006564751,
          0
         ],
         "xaxis": "x",
         "y": [
          -1140,
          -1140,
          -1155,
          -1155
         ],
         "yaxis": "y"
        },
        {
         "hoverinfo": "text",
         "marker": {
          "color": "rgb(255,65,54)"
         },
         "mode": "lines",
         "type": "scatter",
         "x": [
          0.8807625696238122,
          0.9701406936570379,
          0.9701406936570379,
          0.7609694006564751
         ],
         "xaxis": "x",
         "y": [
          -1117.5,
          -1117.5,
          -1147.5,
          -1147.5
         ],
         "yaxis": "y"
        },
        {
         "hoverinfo": "text",
         "marker": {
          "color": "rgb(35,205,205)"
         },
         "mode": "lines",
         "type": "scatter",
         "x": [
          0,
          0.8418883778298685,
          0.8418883778298685,
          0
         ],
         "xaxis": "x",
         "y": [
          -1175,
          -1175,
          -1185,
          -1185
         ],
         "yaxis": "y"
        },
        {
         "hoverinfo": "text",
         "marker": {
          "color": "rgb(35,205,205)"
         },
         "mode": "lines",
         "type": "scatter",
         "x": [
          0.8418883778298685,
          0.8772994843415806,
          0.8772994843415806,
          0
         ],
         "xaxis": "x",
         "y": [
          -1180,
          -1180,
          -1195,
          -1195
         ],
         "yaxis": "y"
        },
        {
         "hoverinfo": "text",
         "marker": {
          "color": "rgb(35,205,205)"
         },
         "mode": "lines",
         "type": "scatter",
         "x": [
          0,
          0.9181430644719898,
          0.9181430644719898,
          0.8772994843415806
         ],
         "xaxis": "x",
         "y": [
          -1165,
          -1165,
          -1187.5,
          -1187.5
         ],
         "yaxis": "y"
        },
        {
         "hoverinfo": "text",
         "marker": {
          "color": "rgb(35,205,205)"
         },
         "mode": "lines",
         "type": "scatter",
         "x": [
          0,
          0.7378217094770072,
          0.7378217094770072,
          0
         ],
         "xaxis": "x",
         "y": [
          -1205,
          -1205,
          -1215,
          -1215
         ],
         "yaxis": "y"
        },
        {
         "hoverinfo": "text",
         "marker": {
          "color": "rgb(35,205,205)"
         },
         "mode": "lines",
         "type": "scatter",
         "x": [
          0.7378217094770072,
          0.8293906993730816,
          0.8293906993730816,
          0
         ],
         "xaxis": "x",
         "y": [
          -1210,
          -1210,
          -1225,
          -1225
         ],
         "yaxis": "y"
        },
        {
         "hoverinfo": "text",
         "marker": {
          "color": "rgb(35,205,205)"
         },
         "mode": "lines",
         "type": "scatter",
         "x": [
          0.9181430644719898,
          0.9561428729279546,
          0.9561428729279546,
          0.8293906993730816
         ],
         "xaxis": "x",
         "y": [
          -1176.25,
          -1176.25,
          -1217.5,
          -1217.5
         ],
         "yaxis": "y"
        },
        {
         "hoverinfo": "text",
         "marker": {
          "color": "rgb(35,205,205)"
         },
         "mode": "lines",
         "type": "scatter",
         "x": [
          0,
          0.8981976723972127,
          0.8981976723972127,
          0
         ],
         "xaxis": "x",
         "y": [
          -1235,
          -1235,
          -1245,
          -1245
         ],
         "yaxis": "y"
        },
        {
         "hoverinfo": "text",
         "marker": {
          "color": "rgb(35,205,205)"
         },
         "mode": "lines",
         "type": "scatter",
         "x": [
          0.9561428729279546,
          0.963518130203751,
          0.963518130203751,
          0.8981976723972127
         ],
         "xaxis": "x",
         "y": [
          -1196.875,
          -1196.875,
          -1240,
          -1240
         ],
         "yaxis": "y"
        },
        {
         "hoverinfo": "text",
         "marker": {
          "color": "rgb(0,116,217)"
         },
         "mode": "lines",
         "type": "scatter",
         "x": [
          0.9701406936570379,
          1.2308898836926658,
          1.2308898836926658,
          0.963518130203751
         ],
         "xaxis": "x",
         "y": [
          -1132.5,
          -1132.5,
          -1218.4375,
          -1218.4375
         ],
         "yaxis": "y"
        },
        {
         "hoverinfo": "text",
         "marker": {
          "color": "rgb(0,116,217)"
         },
         "mode": "lines",
         "type": "scatter",
         "x": [
          1.3725898995265362,
          1.442807888120598,
          1.442807888120598,
          1.2308898836926658
         ],
         "xaxis": "x",
         "y": [
          -903.92578125,
          -903.92578125,
          -1175.46875,
          -1175.46875
         ],
         "yaxis": "y"
        },
        {
         "hoverinfo": "text",
         "marker": {
          "color": "rgb(61,153,112)"
         },
         "mode": "lines",
         "type": "scatter",
         "x": [
          0,
          0.7509381004773683,
          0.7509381004773683,
          0
         ],
         "xaxis": "x",
         "y": [
          -1255,
          -1255,
          -1265,
          -1265
         ],
         "yaxis": "y"
        },
        {
         "hoverinfo": "text",
         "marker": {
          "color": "rgb(61,153,112)"
         },
         "mode": "lines",
         "type": "scatter",
         "x": [
          0,
          0.7275248780616606,
          0.7275248780616606,
          0
         ],
         "xaxis": "x",
         "y": [
          -1275,
          -1275,
          -1285,
          -1285
         ],
         "yaxis": "y"
        },
        {
         "hoverinfo": "text",
         "marker": {
          "color": "rgb(61,153,112)"
         },
         "mode": "lines",
         "type": "scatter",
         "x": [
          0.7509381004773683,
          0.8073910167708067,
          0.8073910167708067,
          0.7275248780616606
         ],
         "xaxis": "x",
         "y": [
          -1260,
          -1260,
          -1280,
          -1280
         ],
         "yaxis": "y"
        },
        {
         "hoverinfo": "text",
         "marker": {
          "color": "rgb(61,153,112)"
         },
         "mode": "lines",
         "type": "scatter",
         "x": [
          0,
          0.7716905169017173,
          0.7716905169017173,
          0
         ],
         "xaxis": "x",
         "y": [
          -1295,
          -1295,
          -1305,
          -1305
         ],
         "yaxis": "y"
        },
        {
         "hoverinfo": "text",
         "marker": {
          "color": "rgb(61,153,112)"
         },
         "mode": "lines",
         "type": "scatter",
         "x": [
          0.8073910167708067,
          0.8533699259435593,
          0.8533699259435593,
          0.7716905169017173
         ],
         "xaxis": "x",
         "y": [
          -1270,
          -1270,
          -1300,
          -1300
         ],
         "yaxis": "y"
        },
        {
         "hoverinfo": "text",
         "marker": {
          "color": "rgb(255,65,54)"
         },
         "mode": "lines",
         "type": "scatter",
         "x": [
          0,
          0.6851710703515465,
          0.6851710703515465,
          0
         ],
         "xaxis": "x",
         "y": [
          -1315,
          -1315,
          -1325,
          -1325
         ],
         "yaxis": "y"
        },
        {
         "hoverinfo": "text",
         "marker": {
          "color": "rgb(255,65,54)"
         },
         "mode": "lines",
         "type": "scatter",
         "x": [
          0,
          0.781715750577827,
          0.781715750577827,
          0
         ],
         "xaxis": "x",
         "y": [
          -1335,
          -1335,
          -1345,
          -1345
         ],
         "yaxis": "y"
        },
        {
         "hoverinfo": "text",
         "marker": {
          "color": "rgb(255,65,54)"
         },
         "mode": "lines",
         "type": "scatter",
         "x": [
          0.6851710703515465,
          0.8177315996376556,
          0.8177315996376556,
          0.781715750577827
         ],
         "xaxis": "x",
         "y": [
          -1320,
          -1320,
          -1340,
          -1340
         ],
         "yaxis": "y"
        },
        {
         "hoverinfo": "text",
         "marker": {
          "color": "rgb(0,116,217)"
         },
         "mode": "lines",
         "type": "scatter",
         "x": [
          0.8533699259435593,
          1.258815879924319,
          1.258815879924319,
          0.8177315996376556
         ],
         "xaxis": "x",
         "y": [
          -1285,
          -1285,
          -1330,
          -1330
         ],
         "yaxis": "y"
        },
        {
         "hoverinfo": "text",
         "marker": {
          "color": "rgb(35,205,205)"
         },
         "mode": "lines",
         "type": "scatter",
         "x": [
          0,
          0.9110282510349395,
          0.9110282510349395,
          0
         ],
         "xaxis": "x",
         "y": [
          -1355,
          -1355,
          -1365,
          -1365
         ],
         "yaxis": "y"
        },
        {
         "hoverinfo": "text",
         "marker": {
          "color": "rgb(35,205,205)"
         },
         "mode": "lines",
         "type": "scatter",
         "x": [
          0,
          0.8659604003713379,
          0.8659604003713379,
          0
         ],
         "xaxis": "x",
         "y": [
          -1385,
          -1385,
          -1395,
          -1395
         ],
         "yaxis": "y"
        },
        {
         "hoverinfo": "text",
         "marker": {
          "color": "rgb(35,205,205)"
         },
         "mode": "lines",
         "type": "scatter",
         "x": [
          0,
          0.8815484356170884,
          0.8815484356170884,
          0.8659604003713379
         ],
         "xaxis": "x",
         "y": [
          -1375,
          -1375,
          -1390,
          -1390
         ],
         "yaxis": "y"
        },
        {
         "hoverinfo": "text",
         "marker": {
          "color": "rgb(35,205,205)"
         },
         "mode": "lines",
         "type": "scatter",
         "x": [
          0,
          0.7629956443811149,
          0.7629956443811149,
          0
         ],
         "xaxis": "x",
         "y": [
          -1405,
          -1405,
          -1415,
          -1415
         ],
         "yaxis": "y"
        },
        {
         "hoverinfo": "text",
         "marker": {
          "color": "rgb(35,205,205)"
         },
         "mode": "lines",
         "type": "scatter",
         "x": [
          0.7629956443811149,
          0.8934246581550059,
          0.8934246581550059,
          0
         ],
         "xaxis": "x",
         "y": [
          -1410,
          -1410,
          -1425,
          -1425
         ],
         "yaxis": "y"
        },
        {
         "hoverinfo": "text",
         "marker": {
          "color": "rgb(35,205,205)"
         },
         "mode": "lines",
         "type": "scatter",
         "x": [
          0.8815484356170884,
          0.92168137315802,
          0.92168137315802,
          0.8934246581550059
         ],
         "xaxis": "x",
         "y": [
          -1382.5,
          -1382.5,
          -1417.5,
          -1417.5
         ],
         "yaxis": "y"
        },
        {
         "hoverinfo": "text",
         "marker": {
          "color": "rgb(35,205,205)"
         },
         "mode": "lines",
         "type": "scatter",
         "x": [
          0.9110282510349395,
          0.9753852129183074,
          0.9753852129183074,
          0.92168137315802
         ],
         "xaxis": "x",
         "y": [
          -1360,
          -1360,
          -1400,
          -1400
         ],
         "yaxis": "y"
        },
        {
         "hoverinfo": "text",
         "marker": {
          "color": "rgb(133,20,75)"
         },
         "mode": "lines",
         "type": "scatter",
         "x": [
          0,
          0.8520797396915283,
          0.8520797396915283,
          0
         ],
         "xaxis": "x",
         "y": [
          -1445,
          -1445,
          -1455,
          -1455
         ],
         "yaxis": "y"
        },
        {
         "hoverinfo": "text",
         "marker": {
          "color": "rgb(133,20,75)"
         },
         "mode": "lines",
         "type": "scatter",
         "x": [
          0,
          0.9242200808806612,
          0.9242200808806612,
          0.8520797396915283
         ],
         "xaxis": "x",
         "y": [
          -1435,
          -1435,
          -1450,
          -1450
         ],
         "yaxis": "y"
        },
        {
         "hoverinfo": "text",
         "marker": {
          "color": "rgb(133,20,75)"
         },
         "mode": "lines",
         "type": "scatter",
         "x": [
          0,
          0.7561441243860062,
          0.7561441243860062,
          0
         ],
         "xaxis": "x",
         "y": [
          -1475,
          -1475,
          -1485,
          -1485
         ],
         "yaxis": "y"
        },
        {
         "hoverinfo": "text",
         "marker": {
          "color": "rgb(133,20,75)"
         },
         "mode": "lines",
         "type": "scatter",
         "x": [
          0,
          0.8215518777536999,
          0.8215518777536999,
          0.7561441243860062
         ],
         "xaxis": "x",
         "y": [
          -1465,
          -1465,
          -1480,
          -1480
         ],
         "yaxis": "y"
        },
        {
         "hoverinfo": "text",
         "marker": {
          "color": "rgb(133,20,75)"
         },
         "mode": "lines",
         "type": "scatter",
         "x": [
          0,
          0.8512803102054006,
          0.8512803102054006,
          0
         ],
         "xaxis": "x",
         "y": [
          -1495,
          -1495,
          -1505,
          -1505
         ],
         "yaxis": "y"
        },
        {
         "hoverinfo": "text",
         "marker": {
          "color": "rgb(133,20,75)"
         },
         "mode": "lines",
         "type": "scatter",
         "x": [
          0.8215518777536999,
          0.9125274809633028,
          0.9125274809633028,
          0.8512803102054006
         ],
         "xaxis": "x",
         "y": [
          -1472.5,
          -1472.5,
          -1500,
          -1500
         ],
         "yaxis": "y"
        },
        {
         "hoverinfo": "text",
         "marker": {
          "color": "rgb(133,20,75)"
         },
         "mode": "lines",
         "type": "scatter",
         "x": [
          0.9242200808806612,
          0.9912378186921008,
          0.9912378186921008,
          0.9125274809633028
         ],
         "xaxis": "x",
         "y": [
          -1442.5,
          -1442.5,
          -1486.25,
          -1486.25
         ],
         "yaxis": "y"
        },
        {
         "hoverinfo": "text",
         "marker": {
          "color": "rgb(0,116,217)"
         },
         "mode": "lines",
         "type": "scatter",
         "x": [
          0.9753852129183074,
          1.0232115882771193,
          1.0232115882771193,
          0.9912378186921008
         ],
         "xaxis": "x",
         "y": [
          -1380,
          -1380,
          -1464.375,
          -1464.375
         ],
         "yaxis": "y"
        },
        {
         "hoverinfo": "text",
         "marker": {
          "color": "rgb(255,220,0)"
         },
         "mode": "lines",
         "type": "scatter",
         "x": [
          0,
          0.8091627218562576,
          0.8091627218562576,
          0
         ],
         "xaxis": "x",
         "y": [
          -1515,
          -1515,
          -1525,
          -1525
         ],
         "yaxis": "y"
        },
        {
         "hoverinfo": "text",
         "marker": {
          "color": "rgb(0,116,217)"
         },
         "mode": "lines",
         "type": "scatter",
         "x": [
          1.0232115882771193,
          1.06869389277269,
          1.06869389277269,
          0.8091627218562576
         ],
         "xaxis": "x",
         "y": [
          -1422.1875,
          -1422.1875,
          -1520,
          -1520
         ],
         "yaxis": "y"
        },
        {
         "hoverinfo": "text",
         "marker": {
          "color": "rgb(40,35,35)"
         },
         "mode": "lines",
         "type": "scatter",
         "x": [
          0,
          0.6814839599491425,
          0.6814839599491425,
          0
         ],
         "xaxis": "x",
         "y": [
          -1545,
          -1545,
          -1555,
          -1555
         ],
         "yaxis": "y"
        },
        {
         "hoverinfo": "text",
         "marker": {
          "color": "rgb(40,35,35)"
         },
         "mode": "lines",
         "type": "scatter",
         "x": [
          0.6814839599491425,
          0.8027068974017203,
          0.8027068974017203,
          0
         ],
         "xaxis": "x",
         "y": [
          -1550,
          -1550,
          -1565,
          -1565
         ],
         "yaxis": "y"
        },
        {
         "hoverinfo": "text",
         "marker": {
          "color": "rgb(40,35,35)"
         },
         "mode": "lines",
         "type": "scatter",
         "x": [
          0,
          0.8595460028306903,
          0.8595460028306903,
          0.8027068974017203
         ],
         "xaxis": "x",
         "y": [
          -1535,
          -1535,
          -1557.5,
          -1557.5
         ],
         "yaxis": "y"
        },
        {
         "hoverinfo": "text",
         "marker": {
          "color": "rgb(61,153,112)"
         },
         "mode": "lines",
         "type": "scatter",
         "x": [
          0,
          0.7933476193736364,
          0.7933476193736364,
          0
         ],
         "xaxis": "x",
         "y": [
          -1575,
          -1575,
          -1585,
          -1585
         ],
         "yaxis": "y"
        },
        {
         "hoverinfo": "text",
         "marker": {
          "color": "rgb(61,153,112)"
         },
         "mode": "lines",
         "type": "scatter",
         "x": [
          0.7933476193736364,
          0.9054241330287892,
          0.9054241330287892,
          0
         ],
         "xaxis": "x",
         "y": [
          -1580,
          -1580,
          -1595,
          -1595
         ],
         "yaxis": "y"
        },
        {
         "hoverinfo": "text",
         "marker": {
          "color": "rgb(0,116,217)"
         },
         "mode": "lines",
         "type": "scatter",
         "x": [
          0.8595460028306903,
          1.0118709325641235,
          1.0118709325641235,
          0.9054241330287892
         ],
         "xaxis": "x",
         "y": [
          -1546.25,
          -1546.25,
          -1587.5,
          -1587.5
         ],
         "yaxis": "y"
        },
        {
         "hoverinfo": "text",
         "marker": {
          "color": "rgb(0,116,217)"
         },
         "mode": "lines",
         "type": "scatter",
         "x": [
          1.06869389277269,
          1.1250436047961938,
          1.1250436047961938,
          1.0118709325641235
         ],
         "xaxis": "x",
         "y": [
          -1471.09375,
          -1471.09375,
          -1566.875,
          -1566.875
         ],
         "yaxis": "y"
        },
        {
         "hoverinfo": "text",
         "marker": {
          "color": "rgb(0,116,217)"
         },
         "mode": "lines",
         "type": "scatter",
         "x": [
          1.258815879924319,
          1.3728614916203956,
          1.3728614916203956,
          1.1250436047961938
         ],
         "xaxis": "x",
         "y": [
          -1307.5,
          -1307.5,
          -1518.984375,
          -1518.984375
         ],
         "yaxis": "y"
        },
        {
         "hoverinfo": "text",
         "marker": {
          "color": "rgb(0,116,217)"
         },
         "mode": "lines",
         "type": "scatter",
         "x": [
          1.442807888120598,
          1.7724920285902501,
          1.7724920285902501,
          1.3728614916203956
         ],
         "xaxis": "x",
         "y": [
          -1039.697265625,
          -1039.697265625,
          -1413.2421875,
          -1413.2421875
         ],
         "yaxis": "y"
        },
        {
         "hoverinfo": "text",
         "marker": {
          "color": "rgb(255,65,54)"
         },
         "mode": "lines",
         "type": "scatter",
         "x": [
          0,
          0.7079303770199401,
          0.7079303770199401,
          0
         ],
         "xaxis": "x",
         "y": [
          -1615,
          -1615,
          -1625,
          -1625
         ],
         "yaxis": "y"
        },
        {
         "hoverinfo": "text",
         "marker": {
          "color": "rgb(255,65,54)"
         },
         "mode": "lines",
         "type": "scatter",
         "x": [
          0.7079303770199401,
          0.7678120987421392,
          0.7678120987421392,
          0
         ],
         "xaxis": "x",
         "y": [
          -1620,
          -1620,
          -1635,
          -1635
         ],
         "yaxis": "y"
        },
        {
         "hoverinfo": "text",
         "marker": {
          "color": "rgb(255,65,54)"
         },
         "mode": "lines",
         "type": "scatter",
         "x": [
          0,
          0.8642912950367125,
          0.8642912950367125,
          0.7678120987421392
         ],
         "xaxis": "x",
         "y": [
          -1605,
          -1605,
          -1627.5,
          -1627.5
         ],
         "yaxis": "y"
        },
        {
         "hoverinfo": "text",
         "marker": {
          "color": "rgb(35,205,205)"
         },
         "mode": "lines",
         "type": "scatter",
         "x": [
          0,
          0.5913284682454871,
          0.5913284682454871,
          0
         ],
         "xaxis": "x",
         "y": [
          -1655,
          -1655,
          -1665,
          -1665
         ],
         "yaxis": "y"
        },
        {
         "hoverinfo": "text",
         "marker": {
          "color": "rgb(35,205,205)"
         },
         "mode": "lines",
         "type": "scatter",
         "x": [
          0.5913284682454871,
          0.6379210190759743,
          0.6379210190759743,
          0
         ],
         "xaxis": "x",
         "y": [
          -1660,
          -1660,
          -1675,
          -1675
         ],
         "yaxis": "y"
        },
        {
         "hoverinfo": "text",
         "marker": {
          "color": "rgb(35,205,205)"
         },
         "mode": "lines",
         "type": "scatter",
         "x": [
          0,
          0.7086213216030469,
          0.7086213216030469,
          0.6379210190759743
         ],
         "xaxis": "x",
         "y": [
          -1645,
          -1645,
          -1667.5,
          -1667.5
         ],
         "yaxis": "y"
        },
        {
         "hoverinfo": "text",
         "marker": {
          "color": "rgb(35,205,205)"
         },
         "mode": "lines",
         "type": "scatter",
         "x": [
          0,
          0.8472411067291901,
          0.8472411067291901,
          0
         ],
         "xaxis": "x",
         "y": [
          -1685,
          -1685,
          -1695,
          -1695
         ],
         "yaxis": "y"
        },
        {
         "hoverinfo": "text",
         "marker": {
          "color": "rgb(35,205,205)"
         },
         "mode": "lines",
         "type": "scatter",
         "x": [
          0,
          0.8610256009891287,
          0.8610256009891287,
          0
         ],
         "xaxis": "x",
         "y": [
          -1705,
          -1705,
          -1715,
          -1715
         ],
         "yaxis": "y"
        },
        {
         "hoverinfo": "text",
         "marker": {
          "color": "rgb(35,205,205)"
         },
         "mode": "lines",
         "type": "scatter",
         "x": [
          0.8472411067291901,
          0.8966287568112131,
          0.8966287568112131,
          0.8610256009891287
         ],
         "xaxis": "x",
         "y": [
          -1690,
          -1690,
          -1710,
          -1710
         ],
         "yaxis": "y"
        },
        {
         "hoverinfo": "text",
         "marker": {
          "color": "rgb(35,205,205)"
         },
         "mode": "lines",
         "type": "scatter",
         "x": [
          0.7086213216030469,
          0.9279649788796438,
          0.9279649788796438,
          0.8966287568112131
         ],
         "xaxis": "x",
         "y": [
          -1656.25,
          -1656.25,
          -1700,
          -1700
         ],
         "yaxis": "y"
        },
        {
         "hoverinfo": "text",
         "marker": {
          "color": "rgb(0,116,217)"
         },
         "mode": "lines",
         "type": "scatter",
         "x": [
          0.8642912950367125,
          1.1005060108635243,
          1.1005060108635243,
          0.9279649788796438
         ],
         "xaxis": "x",
         "y": [
          -1616.25,
          -1616.25,
          -1678.125,
          -1678.125
         ],
         "yaxis": "y"
        },
        {
         "hoverinfo": "text",
         "marker": {
          "color": "rgb(61,153,112)"
         },
         "mode": "lines",
         "type": "scatter",
         "x": [
          0,
          0.7477200407395719,
          0.7477200407395719,
          0
         ],
         "xaxis": "x",
         "y": [
          -1725,
          -1725,
          -1735,
          -1735
         ],
         "yaxis": "y"
        },
        {
         "hoverinfo": "text",
         "marker": {
          "color": "rgb(255,65,54)"
         },
         "mode": "lines",
         "type": "scatter",
         "x": [
          0,
          0.8157128252901773,
          0.8157128252901773,
          0
         ],
         "xaxis": "x",
         "y": [
          -1745,
          -1745,
          -1755,
          -1755
         ],
         "yaxis": "y"
        },
        {
         "hoverinfo": "text",
         "marker": {
          "color": "rgb(255,65,54)"
         },
         "mode": "lines",
         "type": "scatter",
         "x": [
          0,
          0.7621198439249036,
          0.7621198439249036,
          0
         ],
         "xaxis": "x",
         "y": [
          -1765,
          -1765,
          -1775,
          -1775
         ],
         "yaxis": "y"
        },
        {
         "hoverinfo": "text",
         "marker": {
          "color": "rgb(255,65,54)"
         },
         "mode": "lines",
         "type": "scatter",
         "x": [
          0.7621198439249036,
          0.9075709381300388,
          0.9075709381300388,
          0
         ],
         "xaxis": "x",
         "y": [
          -1770,
          -1770,
          -1785,
          -1785
         ],
         "yaxis": "y"
        },
        {
         "hoverinfo": "text",
         "marker": {
          "color": "rgb(255,65,54)"
         },
         "mode": "lines",
         "type": "scatter",
         "x": [
          0.8157128252901773,
          0.9221777690927294,
          0.9221777690927294,
          0.9075709381300388
         ],
         "xaxis": "x",
         "y": [
          -1750,
          -1750,
          -1777.5,
          -1777.5
         ],
         "yaxis": "y"
        },
        {
         "hoverinfo": "text",
         "marker": {
          "color": "rgb(35,205,205)"
         },
         "mode": "lines",
         "type": "scatter",
         "x": [
          0,
          0.9019387470548148,
          0.9019387470548148,
          0
         ],
         "xaxis": "x",
         "y": [
          -1795,
          -1795,
          -1805,
          -1805
         ],
         "yaxis": "y"
        },
        {
         "hoverinfo": "text",
         "marker": {
          "color": "rgb(35,205,205)"
         },
         "mode": "lines",
         "type": "scatter",
         "x": [
          0,
          0.89867806501962,
          0.89867806501962,
          0
         ],
         "xaxis": "x",
         "y": [
          -1815,
          -1815,
          -1825,
          -1825
         ],
         "yaxis": "y"
        },
        {
         "hoverinfo": "text",
         "marker": {
          "color": "rgb(35,205,205)"
         },
         "mode": "lines",
         "type": "scatter",
         "x": [
          0.9019387470548148,
          0.9535512763133794,
          0.9535512763133794,
          0.89867806501962
         ],
         "xaxis": "x",
         "y": [
          -1800,
          -1800,
          -1820,
          -1820
         ],
         "yaxis": "y"
        },
        {
         "hoverinfo": "text",
         "marker": {
          "color": "rgb(0,116,217)"
         },
         "mode": "lines",
         "type": "scatter",
         "x": [
          0.9221777690927294,
          1.0275411978796245,
          1.0275411978796245,
          0.9535512763133794
         ],
         "xaxis": "x",
         "y": [
          -1763.75,
          -1763.75,
          -1810,
          -1810
         ],
         "yaxis": "y"
        },
        {
         "hoverinfo": "text",
         "marker": {
          "color": "rgb(0,116,217)"
         },
         "mode": "lines",
         "type": "scatter",
         "x": [
          0.7477200407395719,
          1.0679069687026617,
          1.0679069687026617,
          1.0275411978796245
         ],
         "xaxis": "x",
         "y": [
          -1730,
          -1730,
          -1786.875,
          -1786.875
         ],
         "yaxis": "y"
        },
        {
         "hoverinfo": "text",
         "marker": {
          "color": "rgb(0,116,217)"
         },
         "mode": "lines",
         "type": "scatter",
         "x": [
          1.1005060108635243,
          1.1627154801273056,
          1.1627154801273056,
          1.0679069687026617
         ],
         "xaxis": "x",
         "y": [
          -1647.1875,
          -1647.1875,
          -1758.4375,
          -1758.4375
         ],
         "yaxis": "y"
        },
        {
         "hoverinfo": "text",
         "marker": {
          "color": "rgb(0,116,217)"
         },
         "mode": "lines",
         "type": "scatter",
         "x": [
          1.7724920285902501,
          1.9801053348110957,
          1.9801053348110957,
          1.1627154801273056
         ],
         "xaxis": "x",
         "y": [
          -1226.4697265625,
          -1226.4697265625,
          -1702.8125,
          -1702.8125
         ],
         "yaxis": "y"
        },
        {
         "hoverinfo": "text",
         "marker": {
          "color": "rgb(0,116,217)"
         },
         "mode": "lines",
         "type": "scatter",
         "x": [
          1.5225660003264896,
          2.697741336152442,
          2.697741336152442,
          1.9801053348110957
         ],
         "xaxis": "x",
         "y": [
          -358.0078125,
          -358.0078125,
          -1464.64111328125,
          -1464.64111328125
         ],
         "yaxis": "y"
        }
       ],
       "layout": {
        "autosize": false,
        "height": 2945,
        "hoverlabel": {
         "bgcolor": "white",
         "font": {
          "family": "Rockwell",
          "size": 16
         }
        },
        "hovermode": "closest",
        "plot_bgcolor": "#ECEFF1",
        "showlegend": false,
        "template": {
         "data": {
          "bar": [
           {
            "error_x": {
             "color": "#2a3f5f"
            },
            "error_y": {
             "color": "#2a3f5f"
            },
            "marker": {
             "line": {
              "color": "white",
              "width": 0.5
             },
             "pattern": {
              "fillmode": "overlay",
              "size": 10,
              "solidity": 0.2
             }
            },
            "type": "bar"
           }
          ],
          "barpolar": [
           {
            "marker": {
             "line": {
              "color": "white",
              "width": 0.5
             },
             "pattern": {
              "fillmode": "overlay",
              "size": 10,
              "solidity": 0.2
             }
            },
            "type": "barpolar"
           }
          ],
          "carpet": [
           {
            "aaxis": {
             "endlinecolor": "#2a3f5f",
             "gridcolor": "#C8D4E3",
             "linecolor": "#C8D4E3",
             "minorgridcolor": "#C8D4E3",
             "startlinecolor": "#2a3f5f"
            },
            "baxis": {
             "endlinecolor": "#2a3f5f",
             "gridcolor": "#C8D4E3",
             "linecolor": "#C8D4E3",
             "minorgridcolor": "#C8D4E3",
             "startlinecolor": "#2a3f5f"
            },
            "type": "carpet"
           }
          ],
          "choropleth": [
           {
            "colorbar": {
             "outlinewidth": 0,
             "ticks": ""
            },
            "type": "choropleth"
           }
          ],
          "contour": [
           {
            "colorbar": {
             "outlinewidth": 0,
             "ticks": ""
            },
            "colorscale": [
             [
              0,
              "#0d0887"
             ],
             [
              0.1111111111111111,
              "#46039f"
             ],
             [
              0.2222222222222222,
              "#7201a8"
             ],
             [
              0.3333333333333333,
              "#9c179e"
             ],
             [
              0.4444444444444444,
              "#bd3786"
             ],
             [
              0.5555555555555556,
              "#d8576b"
             ],
             [
              0.6666666666666666,
              "#ed7953"
             ],
             [
              0.7777777777777778,
              "#fb9f3a"
             ],
             [
              0.8888888888888888,
              "#fdca26"
             ],
             [
              1,
              "#f0f921"
             ]
            ],
            "type": "contour"
           }
          ],
          "contourcarpet": [
           {
            "colorbar": {
             "outlinewidth": 0,
             "ticks": ""
            },
            "type": "contourcarpet"
           }
          ],
          "heatmap": [
           {
            "colorbar": {
             "outlinewidth": 0,
             "ticks": ""
            },
            "colorscale": [
             [
              0,
              "#0d0887"
             ],
             [
              0.1111111111111111,
              "#46039f"
             ],
             [
              0.2222222222222222,
              "#7201a8"
             ],
             [
              0.3333333333333333,
              "#9c179e"
             ],
             [
              0.4444444444444444,
              "#bd3786"
             ],
             [
              0.5555555555555556,
              "#d8576b"
             ],
             [
              0.6666666666666666,
              "#ed7953"
             ],
             [
              0.7777777777777778,
              "#fb9f3a"
             ],
             [
              0.8888888888888888,
              "#fdca26"
             ],
             [
              1,
              "#f0f921"
             ]
            ],
            "type": "heatmap"
           }
          ],
          "heatmapgl": [
           {
            "colorbar": {
             "outlinewidth": 0,
             "ticks": ""
            },
            "colorscale": [
             [
              0,
              "#0d0887"
             ],
             [
              0.1111111111111111,
              "#46039f"
             ],
             [
              0.2222222222222222,
              "#7201a8"
             ],
             [
              0.3333333333333333,
              "#9c179e"
             ],
             [
              0.4444444444444444,
              "#bd3786"
             ],
             [
              0.5555555555555556,
              "#d8576b"
             ],
             [
              0.6666666666666666,
              "#ed7953"
             ],
             [
              0.7777777777777778,
              "#fb9f3a"
             ],
             [
              0.8888888888888888,
              "#fdca26"
             ],
             [
              1,
              "#f0f921"
             ]
            ],
            "type": "heatmapgl"
           }
          ],
          "histogram": [
           {
            "marker": {
             "pattern": {
              "fillmode": "overlay",
              "size": 10,
              "solidity": 0.2
             }
            },
            "type": "histogram"
           }
          ],
          "histogram2d": [
           {
            "colorbar": {
             "outlinewidth": 0,
             "ticks": ""
            },
            "colorscale": [
             [
              0,
              "#0d0887"
             ],
             [
              0.1111111111111111,
              "#46039f"
             ],
             [
              0.2222222222222222,
              "#7201a8"
             ],
             [
              0.3333333333333333,
              "#9c179e"
             ],
             [
              0.4444444444444444,
              "#bd3786"
             ],
             [
              0.5555555555555556,
              "#d8576b"
             ],
             [
              0.6666666666666666,
              "#ed7953"
             ],
             [
              0.7777777777777778,
              "#fb9f3a"
             ],
             [
              0.8888888888888888,
              "#fdca26"
             ],
             [
              1,
              "#f0f921"
             ]
            ],
            "type": "histogram2d"
           }
          ],
          "histogram2dcontour": [
           {
            "colorbar": {
             "outlinewidth": 0,
             "ticks": ""
            },
            "colorscale": [
             [
              0,
              "#0d0887"
             ],
             [
              0.1111111111111111,
              "#46039f"
             ],
             [
              0.2222222222222222,
              "#7201a8"
             ],
             [
              0.3333333333333333,
              "#9c179e"
             ],
             [
              0.4444444444444444,
              "#bd3786"
             ],
             [
              0.5555555555555556,
              "#d8576b"
             ],
             [
              0.6666666666666666,
              "#ed7953"
             ],
             [
              0.7777777777777778,
              "#fb9f3a"
             ],
             [
              0.8888888888888888,
              "#fdca26"
             ],
             [
              1,
              "#f0f921"
             ]
            ],
            "type": "histogram2dcontour"
           }
          ],
          "mesh3d": [
           {
            "colorbar": {
             "outlinewidth": 0,
             "ticks": ""
            },
            "type": "mesh3d"
           }
          ],
          "parcoords": [
           {
            "line": {
             "colorbar": {
              "outlinewidth": 0,
              "ticks": ""
             }
            },
            "type": "parcoords"
           }
          ],
          "pie": [
           {
            "automargin": true,
            "type": "pie"
           }
          ],
          "scatter": [
           {
            "fillpattern": {
             "fillmode": "overlay",
             "size": 10,
             "solidity": 0.2
            },
            "type": "scatter"
           }
          ],
          "scatter3d": [
           {
            "line": {
             "colorbar": {
              "outlinewidth": 0,
              "ticks": ""
             }
            },
            "marker": {
             "colorbar": {
              "outlinewidth": 0,
              "ticks": ""
             }
            },
            "type": "scatter3d"
           }
          ],
          "scattercarpet": [
           {
            "marker": {
             "colorbar": {
              "outlinewidth": 0,
              "ticks": ""
             }
            },
            "type": "scattercarpet"
           }
          ],
          "scattergeo": [
           {
            "marker": {
             "colorbar": {
              "outlinewidth": 0,
              "ticks": ""
             }
            },
            "type": "scattergeo"
           }
          ],
          "scattergl": [
           {
            "marker": {
             "colorbar": {
              "outlinewidth": 0,
              "ticks": ""
             }
            },
            "type": "scattergl"
           }
          ],
          "scattermapbox": [
           {
            "marker": {
             "colorbar": {
              "outlinewidth": 0,
              "ticks": ""
             }
            },
            "type": "scattermapbox"
           }
          ],
          "scatterpolar": [
           {
            "marker": {
             "colorbar": {
              "outlinewidth": 0,
              "ticks": ""
             }
            },
            "type": "scatterpolar"
           }
          ],
          "scatterpolargl": [
           {
            "marker": {
             "colorbar": {
              "outlinewidth": 0,
              "ticks": ""
             }
            },
            "type": "scatterpolargl"
           }
          ],
          "scatterternary": [
           {
            "marker": {
             "colorbar": {
              "outlinewidth": 0,
              "ticks": ""
             }
            },
            "type": "scatterternary"
           }
          ],
          "surface": [
           {
            "colorbar": {
             "outlinewidth": 0,
             "ticks": ""
            },
            "colorscale": [
             [
              0,
              "#0d0887"
             ],
             [
              0.1111111111111111,
              "#46039f"
             ],
             [
              0.2222222222222222,
              "#7201a8"
             ],
             [
              0.3333333333333333,
              "#9c179e"
             ],
             [
              0.4444444444444444,
              "#bd3786"
             ],
             [
              0.5555555555555556,
              "#d8576b"
             ],
             [
              0.6666666666666666,
              "#ed7953"
             ],
             [
              0.7777777777777778,
              "#fb9f3a"
             ],
             [
              0.8888888888888888,
              "#fdca26"
             ],
             [
              1,
              "#f0f921"
             ]
            ],
            "type": "surface"
           }
          ],
          "table": [
           {
            "cells": {
             "fill": {
              "color": "#EBF0F8"
             },
             "line": {
              "color": "white"
             }
            },
            "header": {
             "fill": {
              "color": "#C8D4E3"
             },
             "line": {
              "color": "white"
             }
            },
            "type": "table"
           }
          ]
         },
         "layout": {
          "annotationdefaults": {
           "arrowcolor": "#2a3f5f",
           "arrowhead": 0,
           "arrowwidth": 1
          },
          "autotypenumbers": "strict",
          "coloraxis": {
           "colorbar": {
            "outlinewidth": 0,
            "ticks": ""
           }
          },
          "colorscale": {
           "diverging": [
            [
             0,
             "#8e0152"
            ],
            [
             0.1,
             "#c51b7d"
            ],
            [
             0.2,
             "#de77ae"
            ],
            [
             0.3,
             "#f1b6da"
            ],
            [
             0.4,
             "#fde0ef"
            ],
            [
             0.5,
             "#f7f7f7"
            ],
            [
             0.6,
             "#e6f5d0"
            ],
            [
             0.7,
             "#b8e186"
            ],
            [
             0.8,
             "#7fbc41"
            ],
            [
             0.9,
             "#4d9221"
            ],
            [
             1,
             "#276419"
            ]
           ],
           "sequential": [
            [
             0,
             "#0d0887"
            ],
            [
             0.1111111111111111,
             "#46039f"
            ],
            [
             0.2222222222222222,
             "#7201a8"
            ],
            [
             0.3333333333333333,
             "#9c179e"
            ],
            [
             0.4444444444444444,
             "#bd3786"
            ],
            [
             0.5555555555555556,
             "#d8576b"
            ],
            [
             0.6666666666666666,
             "#ed7953"
            ],
            [
             0.7777777777777778,
             "#fb9f3a"
            ],
            [
             0.8888888888888888,
             "#fdca26"
            ],
            [
             1,
             "#f0f921"
            ]
           ],
           "sequentialminus": [
            [
             0,
             "#0d0887"
            ],
            [
             0.1111111111111111,
             "#46039f"
            ],
            [
             0.2222222222222222,
             "#7201a8"
            ],
            [
             0.3333333333333333,
             "#9c179e"
            ],
            [
             0.4444444444444444,
             "#bd3786"
            ],
            [
             0.5555555555555556,
             "#d8576b"
            ],
            [
             0.6666666666666666,
             "#ed7953"
            ],
            [
             0.7777777777777778,
             "#fb9f3a"
            ],
            [
             0.8888888888888888,
             "#fdca26"
            ],
            [
             1,
             "#f0f921"
            ]
           ]
          },
          "colorway": [
           "#636efa",
           "#EF553B",
           "#00cc96",
           "#ab63fa",
           "#FFA15A",
           "#19d3f3",
           "#FF6692",
           "#B6E880",
           "#FF97FF",
           "#FECB52"
          ],
          "font": {
           "color": "#2a3f5f"
          },
          "geo": {
           "bgcolor": "white",
           "lakecolor": "white",
           "landcolor": "white",
           "showlakes": true,
           "showland": true,
           "subunitcolor": "#C8D4E3"
          },
          "hoverlabel": {
           "align": "left"
          },
          "hovermode": "closest",
          "mapbox": {
           "style": "light"
          },
          "paper_bgcolor": "white",
          "plot_bgcolor": "white",
          "polar": {
           "angularaxis": {
            "gridcolor": "#EBF0F8",
            "linecolor": "#EBF0F8",
            "ticks": ""
           },
           "bgcolor": "white",
           "radialaxis": {
            "gridcolor": "#EBF0F8",
            "linecolor": "#EBF0F8",
            "ticks": ""
           }
          },
          "scene": {
           "xaxis": {
            "backgroundcolor": "white",
            "gridcolor": "#DFE8F3",
            "gridwidth": 2,
            "linecolor": "#EBF0F8",
            "showbackground": true,
            "ticks": "",
            "zerolinecolor": "#EBF0F8"
           },
           "yaxis": {
            "backgroundcolor": "white",
            "gridcolor": "#DFE8F3",
            "gridwidth": 2,
            "linecolor": "#EBF0F8",
            "showbackground": true,
            "ticks": "",
            "zerolinecolor": "#EBF0F8"
           },
           "zaxis": {
            "backgroundcolor": "white",
            "gridcolor": "#DFE8F3",
            "gridwidth": 2,
            "linecolor": "#EBF0F8",
            "showbackground": true,
            "ticks": "",
            "zerolinecolor": "#EBF0F8"
           }
          },
          "shapedefaults": {
           "line": {
            "color": "#2a3f5f"
           }
          },
          "ternary": {
           "aaxis": {
            "gridcolor": "#DFE8F3",
            "linecolor": "#A2B1C6",
            "ticks": ""
           },
           "baxis": {
            "gridcolor": "#DFE8F3",
            "linecolor": "#A2B1C6",
            "ticks": ""
           },
           "bgcolor": "white",
           "caxis": {
            "gridcolor": "#DFE8F3",
            "linecolor": "#A2B1C6",
            "ticks": ""
           }
          },
          "title": {
           "x": 0.05
          },
          "xaxis": {
           "automargin": true,
           "gridcolor": "#EBF0F8",
           "linecolor": "#EBF0F8",
           "ticks": "",
           "title": {
            "standoff": 15
           },
           "zerolinecolor": "#EBF0F8",
           "zerolinewidth": 2
          },
          "yaxis": {
           "automargin": true,
           "gridcolor": "#EBF0F8",
           "linecolor": "#EBF0F8",
           "ticks": "",
           "title": {
            "standoff": 15
           },
           "zerolinecolor": "#EBF0F8",
           "zerolinewidth": 2
          }
         }
        },
        "title": {
         "font": {
          "color": "Black",
          "size": 22
         },
         "text": "<b>Hierarchical Clustering</b>",
         "x": 0.5,
         "xanchor": "center",
         "yanchor": "top"
        },
        "width": 1000,
        "xaxis": {
         "mirror": "allticks",
         "rangemode": "tozero",
         "showgrid": false,
         "showline": true,
         "showticklabels": true,
         "ticks": "outside",
         "type": "linear",
         "zeroline": false
        },
        "yaxis": {
         "mirror": "allticks",
         "range": [
          -1830,
          0
         ],
         "rangemode": "tozero",
         "showgrid": false,
         "showline": true,
         "showticklabels": true,
         "tickmode": "array",
         "ticks": "outside",
         "ticktext": [
          "105_silver_invest_currency",
          "67_inflation_recession_cpi",
          "50_inflation_recession_fed",
          "138_inflation_treasury_yields",
          "82_bonds_bond_etfs",
          "168_bonds_bond_invest",
          "114_bonds_bond_treasury",
          "94_financials_finance_subsc...",
          "58_shares_buy_berkshires",
          "83_bonds_invest_stocks",
          "158_split_splitting_splits",
          "118_stock_earnings_underpri...",
          "124_market_dividend_earnings",
          "37_earnings_revenue_profit",
          "122_marketwatch_is_meta_pla...",
          "24_twitter_shareholders_sha...",
          "173_shareholders_shareholde...",
          "55_shares_stock_spinoff",
          "90_dividends_dividend_inves...",
          "169_inflation_markets_outpe...",
          "176_mortgages_housing_realt...",
          "139_reits_reit_etfs",
          "110_stocks_market_nasdaq",
          "91_investing_investors_stocks",
          "57_investing_invest_investm...",
          "125_etfs_invest_investing",
          "28_etfs_etf_investing",
          "73_netflix_streaming_subscr...",
          "92_investing_invest_investor",
          "0_investing_financial_savings",
          "70_datasets_dataset_influxdb",
          "77_investopedia_stocks_inve...",
          "123_trends_stocks_recessions",
          "10_brokerage_broker_robinhood",
          "104_stock_stocks_brokerages",
          "32_cryptocurrency_investing...",
          "85_stocks_markets_investors",
          "177_recession_recessions_in...",
          "178_recessions_recession_yi...",
          "15_stocks_beijing_chinese",
          "131_stocks_stock_moscow",
          "59_russia_russian_sanctions",
          "96_inflation_market_rising",
          "25_oil_petroleum_putin",
          "78_stockanalysis_reserves_m...",
          "52_sustainable_investment_r...",
          "119_tesla_ev_electric",
          "135_companies_industries_br...",
          "95_wash_losses_sale",
          "74_options_puts_option",
          "127_tax_taxation_gains",
          "163_tax_taxes_investing",
          "164_investments_funds_vangu...",
          "116_ira_roth_iras",
          "137_brokerage_brokerages_in...",
          "46_loans_loan_vanguard",
          "79_401k_investment_401",
          "111_investment_invested_por...",
          "48_savings_invest_fund",
          "30_investing_etfs_invest",
          "35_investing_investment_mor...",
          "130_exchange_1031_bought",
          "162_invest_fund_fafsa",
          "71_python_pythonanywhere_le...",
          "65_python_learnpython_pytho...",
          "175_python_pet_working",
          "98_python_micropython_using...",
          "42_pythonjobs_python_progra...",
          "129_python_resource_resources",
          "31_python_oop_metaclass",
          "136_programming_python_basics",
          "140_python_courses_beginners",
          "149_python_automation_enter...",
          "88_opentelemetry_tracing_in...",
          "108_spyql_quartdb_turbodbc",
          "170_ai_deepmind_pytorch",
          "87_acl_acl2022_conference",
          "89_flask_apis_fastapi",
          "165_translator_translated_d...",
          "147_chatbots_chatbot_blende...",
          "179_macbooks_macbook_mac",
          "181_multilingual_corpus_lin...",
          "101_opennmt_tensorflow_tuto...",
          "128_keras_autoencoders_clas...",
          "14_torchaudio_torchstudio_a...",
          "132_charting_matplotlib_plots",
          "156_pythonauts_analytics_ge...",
          "153_fasttreeshap_heapq_tiny...",
          "174_encryption_ocrypt0r_cip...",
          "43_python_programming_tools",
          "21_python_bigbookpython_pyi...",
          "6_lambda_lambdas_python",
          "64_netcat_pyspeed_handler_p...",
          "107_mail_emailapp_emailsender",
          "47_interpreter_sourcepy_pyt...",
          "157_recoverpy_logging_log_e...",
          "152_wordgame_print_maze_wor...",
          "106_dice_list_median_time_d...",
          "141_pygame__loop_print",
          "34_pygame_print_game_python...",
          "11_query_selector_video_res...",
          "151_scrape_google_finance_s...",
          "86_autoencoder_autoencoders...",
          "93_mljakdx_93g_link_mljakdx",
          "112_demo_philipstv_screen",
          "41_qualityscaler_nicescaler...",
          "69_colours_colors_color",
          "51_panda3d_pyverilog_pymtl3",
          "61_gdas_search_model_gdas_g...",
          "161_gdas_new_gdas__pytorch_...",
          "33_is_cuda_cuda_memory",
          "1_multiprocessing_async_par...",
          "166_pytorch_libcudnn_cnn_tr...",
          "76_cuda_pytorch_gpu",
          "9_pytorch_cuda_cudatoolkit",
          "171_pytorch_cuda_binaries",
          "100_forecasting_forecasts_p...",
          "117_pytorch_keras4torch_keras",
          "26_hyperparameters_hyperpar...",
          "45_deeplearning_nlp_models",
          "5_tutorials__tutorial_begin...",
          "18_pytorch_tensorflow_spark...",
          "60_pytorch_torchserve_torch...",
          "134_tensorflow_onnx2torch_d...",
          "172_deploying_models_tensor...",
          "142_models_attention_turing",
          "75_language_deepmind_langua...",
          "109_training_language_model...",
          "40_gpt3_gpt_gpus",
          "53_chatbots_ai_chatbot",
          "68_translator_translators_m...",
          "8_nlp_nlg_texts",
          "16_nlp_linguistics_career",
          "44_linguistics_masters_post...",
          "120_linguistics_nlp_thesis",
          "143_annotations_annotations...",
          "146_dictionaries_corpus_the...",
          "36_treebanks_treebank_parsers",
          "84_dialogues_text_sentences",
          "49_sentences_tokenizer_nltk",
          "23_tagging_annotation_parap...",
          "12_spacy_ner_entities",
          "121_segmenting_segmenter_se...",
          "80_corpus_speeches_articles",
          "39_retrieval_retrievers_qa",
          "62_summarization_summarizer...",
          "19_bert_score_bert_nlp",
          "4_corpus_nlp_classification",
          "3_sentimentanalysisapp_sent...",
          "99_keywords_textrank_wordnet",
          "155_nlp_extractive_extracting",
          "66_total_corpus_topics_lda",
          "126_topics_wordnet_categories",
          "113_retrieval_searches_elas...",
          "97_sentencetransformers_sen...",
          "22_similarity_thesaurus_sem...",
          "160_embeddings_embedding_wo...",
          "72_tokenizing_tokenizer_bert",
          "27_punctuation_en_bert_bert...",
          "180_bert_model_bert_tokens_...",
          "17_gan_gans_dcgan",
          "154_dncnn_block_adaptiveavg...",
          "167_tensor_tensors_kernel_s...",
          "63_images_train_images_clas...",
          "103_model_net_torch_optimiz...",
          "2_pytorch_tensor_torch",
          "7_loss_list_train_pytorch_t...",
          "56_torch_training_data_trai...",
          "81_pytorch_lightning_layer_...",
          "182_encoder_deconvolutional...",
          "144_compute_next_hidden_sta...",
          "13_pytorch_is_ipython_rewar...",
          "159_tensors_tensor_batches",
          "38_tensors_tensor_indices",
          "54_tensor_softmax_tensors",
          "145_train_accuracy_train_lo...",
          "133_trained_training_record...",
          "29_load_model_train_index_t...",
          "148__batch__loader_batch",
          "102_training_data_labels_df...",
          "150_classify_classifier_neu...",
          "20_neural_network_pruning_p...",
          "115_tkinter_flask_tasky"
         ],
         "tickvals": [
          -5,
          -15,
          -25,
          -35,
          -45,
          -55,
          -65,
          -75,
          -85,
          -95,
          -105,
          -115,
          -125,
          -135,
          -145,
          -155,
          -165,
          -175,
          -185,
          -195,
          -205,
          -215,
          -225,
          -235,
          -245,
          -255,
          -265,
          -275,
          -285,
          -295,
          -305,
          -315,
          -325,
          -335,
          -345,
          -355,
          -365,
          -375,
          -385,
          -395,
          -405,
          -415,
          -425,
          -435,
          -445,
          -455,
          -465,
          -475,
          -485,
          -495,
          -505,
          -515,
          -525,
          -535,
          -545,
          -555,
          -565,
          -575,
          -585,
          -595,
          -605,
          -615,
          -625,
          -635,
          -645,
          -655,
          -665,
          -675,
          -685,
          -695,
          -705,
          -715,
          -725,
          -735,
          -745,
          -755,
          -765,
          -775,
          -785,
          -795,
          -805,
          -815,
          -825,
          -835,
          -845,
          -855,
          -865,
          -875,
          -885,
          -895,
          -905,
          -915,
          -925,
          -935,
          -945,
          -955,
          -965,
          -975,
          -985,
          -995,
          -1005,
          -1015,
          -1025,
          -1035,
          -1045,
          -1055,
          -1065,
          -1075,
          -1085,
          -1095,
          -1105,
          -1115,
          -1125,
          -1135,
          -1145,
          -1155,
          -1165,
          -1175,
          -1185,
          -1195,
          -1205,
          -1215,
          -1225,
          -1235,
          -1245,
          -1255,
          -1265,
          -1275,
          -1285,
          -1295,
          -1305,
          -1315,
          -1325,
          -1335,
          -1345,
          -1355,
          -1365,
          -1375,
          -1385,
          -1395,
          -1405,
          -1415,
          -1425,
          -1435,
          -1445,
          -1455,
          -1465,
          -1475,
          -1485,
          -1495,
          -1505,
          -1515,
          -1525,
          -1535,
          -1545,
          -1555,
          -1565,
          -1575,
          -1585,
          -1595,
          -1605,
          -1615,
          -1625,
          -1635,
          -1645,
          -1655,
          -1665,
          -1675,
          -1685,
          -1695,
          -1705,
          -1715,
          -1725,
          -1735,
          -1745,
          -1755,
          -1765,
          -1775,
          -1785,
          -1795,
          -1805,
          -1815,
          -1825
         ],
         "type": "linear",
         "zeroline": false
        }
       }
      }
     },
     "metadata": {},
     "output_type": "display_data"
    }
   ],
   "source": [
    "model.visualize_hierarchy()"
   ]
  },
  {
   "cell_type": "code",
   "execution_count": 15,
   "metadata": {},
   "outputs": [
    {
     "data": {
      "application/vnd.plotly.v1+json": {
       "config": {
        "plotlyServerURL": "https://plot.ly"
       },
       "data": [
        {
         "coloraxis": "coloraxis",
         "hovertemplate": "x: %{x}<br>y: %{y}<br>Similarity Score: %{z}<extra></extra>",
         "name": "0",
         "type": "heatmap",
         "x": [
          "0_investing_financial_savings",
          "1_multiprocessing_async_par...",
          "2_pytorch_tensor_torch",
          "3_sentimentanalysisapp_sent...",
          "4_corpus_nlp_classification",
          "5_tutorials__tutorial_begin...",
          "6_lambda_lambdas_python",
          "7_loss_list_train_pytorch_t...",
          "8_nlp_nlg_texts",
          "9_pytorch_cuda_cudatoolkit"
         ],
         "xaxis": "x",
         "y": [
          "0_investing_financial_savings",
          "1_multiprocessing_async_par...",
          "2_pytorch_tensor_torch",
          "3_sentimentanalysisapp_sent...",
          "4_corpus_nlp_classification",
          "5_tutorials__tutorial_begin...",
          "6_lambda_lambdas_python",
          "7_loss_list_train_pytorch_t...",
          "8_nlp_nlg_texts",
          "9_pytorch_cuda_cudatoolkit"
         ],
         "yaxis": "y",
         "z": [
          [
           0.9999999,
           0.070915885,
           0.038718,
           0.048084382,
           0.09129588,
           0.111226894,
           0.113308445,
           0.05046804,
           0.039801475,
           0.04849295
          ],
          [
           0.070915885,
           0.99999976,
           0.52499884,
           0.14590447,
           0.12874031,
           0.51392144,
           0.30404484,
           0.5663762,
           0.11000414,
           0.4907574
          ],
          [
           0.038718,
           0.52499884,
           1,
           0.16714281,
           0.11372753,
           0.5702236,
           0.22029446,
           0.82741106,
           0.06764087,
           0.45330584
          ],
          [
           0.048084382,
           0.14590447,
           0.16714281,
           1.0000001,
           0.7146151,
           0.28388453,
           0.22608787,
           0.13632488,
           0.6324391,
           0.1367499
          ],
          [
           0.09129588,
           0.12874031,
           0.11372753,
           0.7146151,
           1,
           0.27342734,
           0.16841213,
           0.13769433,
           0.7435302,
           0.05415093
          ],
          [
           0.111226894,
           0.51392144,
           0.5702236,
           0.28388453,
           0.27342734,
           1,
           0.35252726,
           0.60090834,
           0.37262484,
           0.4967445
          ],
          [
           0.113308445,
           0.30404484,
           0.22029446,
           0.22608787,
           0.16841213,
           0.35252726,
           1,
           0.22652969,
           0.18324316,
           0.38912117
          ],
          [
           0.05046804,
           0.5663762,
           0.82741106,
           0.13632488,
           0.13769433,
           0.60090834,
           0.22652969,
           1,
           0.047465093,
           0.5199878
          ],
          [
           0.039801475,
           0.11000414,
           0.06764087,
           0.6324391,
           0.7435302,
           0.37262484,
           0.18324316,
           0.047465093,
           1,
           0.111075535
          ],
          [
           0.04849295,
           0.4907574,
           0.45330584,
           0.1367499,
           0.05415093,
           0.4967445,
           0.38912117,
           0.5199878,
           0.111075535,
           1
          ]
         ]
        }
       ],
       "layout": {
        "coloraxis": {
         "colorbar": {
          "title": {
           "text": "Similarity Score"
          }
         },
         "colorscale": [
          [
           0,
           "rgb(247,252,240)"
          ],
          [
           0.125,
           "rgb(224,243,219)"
          ],
          [
           0.25,
           "rgb(204,235,197)"
          ],
          [
           0.375,
           "rgb(168,221,181)"
          ],
          [
           0.5,
           "rgb(123,204,196)"
          ],
          [
           0.625,
           "rgb(78,179,211)"
          ],
          [
           0.75,
           "rgb(43,140,190)"
          ],
          [
           0.875,
           "rgb(8,104,172)"
          ],
          [
           1,
           "rgb(8,64,129)"
          ]
         ]
        },
        "height": 800,
        "hoverlabel": {
         "bgcolor": "white",
         "font": {
          "family": "Rockwell",
          "size": 16
         }
        },
        "legend": {
         "title": {
          "text": "Trend"
         }
        },
        "margin": {
         "t": 60
        },
        "showlegend": true,
        "template": {
         "data": {
          "bar": [
           {
            "error_x": {
             "color": "#2a3f5f"
            },
            "error_y": {
             "color": "#2a3f5f"
            },
            "marker": {
             "line": {
              "color": "#E5ECF6",
              "width": 0.5
             },
             "pattern": {
              "fillmode": "overlay",
              "size": 10,
              "solidity": 0.2
             }
            },
            "type": "bar"
           }
          ],
          "barpolar": [
           {
            "marker": {
             "line": {
              "color": "#E5ECF6",
              "width": 0.5
             },
             "pattern": {
              "fillmode": "overlay",
              "size": 10,
              "solidity": 0.2
             }
            },
            "type": "barpolar"
           }
          ],
          "carpet": [
           {
            "aaxis": {
             "endlinecolor": "#2a3f5f",
             "gridcolor": "white",
             "linecolor": "white",
             "minorgridcolor": "white",
             "startlinecolor": "#2a3f5f"
            },
            "baxis": {
             "endlinecolor": "#2a3f5f",
             "gridcolor": "white",
             "linecolor": "white",
             "minorgridcolor": "white",
             "startlinecolor": "#2a3f5f"
            },
            "type": "carpet"
           }
          ],
          "choropleth": [
           {
            "colorbar": {
             "outlinewidth": 0,
             "ticks": ""
            },
            "type": "choropleth"
           }
          ],
          "contour": [
           {
            "colorbar": {
             "outlinewidth": 0,
             "ticks": ""
            },
            "colorscale": [
             [
              0,
              "#0d0887"
             ],
             [
              0.1111111111111111,
              "#46039f"
             ],
             [
              0.2222222222222222,
              "#7201a8"
             ],
             [
              0.3333333333333333,
              "#9c179e"
             ],
             [
              0.4444444444444444,
              "#bd3786"
             ],
             [
              0.5555555555555556,
              "#d8576b"
             ],
             [
              0.6666666666666666,
              "#ed7953"
             ],
             [
              0.7777777777777778,
              "#fb9f3a"
             ],
             [
              0.8888888888888888,
              "#fdca26"
             ],
             [
              1,
              "#f0f921"
             ]
            ],
            "type": "contour"
           }
          ],
          "contourcarpet": [
           {
            "colorbar": {
             "outlinewidth": 0,
             "ticks": ""
            },
            "type": "contourcarpet"
           }
          ],
          "heatmap": [
           {
            "colorbar": {
             "outlinewidth": 0,
             "ticks": ""
            },
            "colorscale": [
             [
              0,
              "#0d0887"
             ],
             [
              0.1111111111111111,
              "#46039f"
             ],
             [
              0.2222222222222222,
              "#7201a8"
             ],
             [
              0.3333333333333333,
              "#9c179e"
             ],
             [
              0.4444444444444444,
              "#bd3786"
             ],
             [
              0.5555555555555556,
              "#d8576b"
             ],
             [
              0.6666666666666666,
              "#ed7953"
             ],
             [
              0.7777777777777778,
              "#fb9f3a"
             ],
             [
              0.8888888888888888,
              "#fdca26"
             ],
             [
              1,
              "#f0f921"
             ]
            ],
            "type": "heatmap"
           }
          ],
          "heatmapgl": [
           {
            "colorbar": {
             "outlinewidth": 0,
             "ticks": ""
            },
            "colorscale": [
             [
              0,
              "#0d0887"
             ],
             [
              0.1111111111111111,
              "#46039f"
             ],
             [
              0.2222222222222222,
              "#7201a8"
             ],
             [
              0.3333333333333333,
              "#9c179e"
             ],
             [
              0.4444444444444444,
              "#bd3786"
             ],
             [
              0.5555555555555556,
              "#d8576b"
             ],
             [
              0.6666666666666666,
              "#ed7953"
             ],
             [
              0.7777777777777778,
              "#fb9f3a"
             ],
             [
              0.8888888888888888,
              "#fdca26"
             ],
             [
              1,
              "#f0f921"
             ]
            ],
            "type": "heatmapgl"
           }
          ],
          "histogram": [
           {
            "marker": {
             "pattern": {
              "fillmode": "overlay",
              "size": 10,
              "solidity": 0.2
             }
            },
            "type": "histogram"
           }
          ],
          "histogram2d": [
           {
            "colorbar": {
             "outlinewidth": 0,
             "ticks": ""
            },
            "colorscale": [
             [
              0,
              "#0d0887"
             ],
             [
              0.1111111111111111,
              "#46039f"
             ],
             [
              0.2222222222222222,
              "#7201a8"
             ],
             [
              0.3333333333333333,
              "#9c179e"
             ],
             [
              0.4444444444444444,
              "#bd3786"
             ],
             [
              0.5555555555555556,
              "#d8576b"
             ],
             [
              0.6666666666666666,
              "#ed7953"
             ],
             [
              0.7777777777777778,
              "#fb9f3a"
             ],
             [
              0.8888888888888888,
              "#fdca26"
             ],
             [
              1,
              "#f0f921"
             ]
            ],
            "type": "histogram2d"
           }
          ],
          "histogram2dcontour": [
           {
            "colorbar": {
             "outlinewidth": 0,
             "ticks": ""
            },
            "colorscale": [
             [
              0,
              "#0d0887"
             ],
             [
              0.1111111111111111,
              "#46039f"
             ],
             [
              0.2222222222222222,
              "#7201a8"
             ],
             [
              0.3333333333333333,
              "#9c179e"
             ],
             [
              0.4444444444444444,
              "#bd3786"
             ],
             [
              0.5555555555555556,
              "#d8576b"
             ],
             [
              0.6666666666666666,
              "#ed7953"
             ],
             [
              0.7777777777777778,
              "#fb9f3a"
             ],
             [
              0.8888888888888888,
              "#fdca26"
             ],
             [
              1,
              "#f0f921"
             ]
            ],
            "type": "histogram2dcontour"
           }
          ],
          "mesh3d": [
           {
            "colorbar": {
             "outlinewidth": 0,
             "ticks": ""
            },
            "type": "mesh3d"
           }
          ],
          "parcoords": [
           {
            "line": {
             "colorbar": {
              "outlinewidth": 0,
              "ticks": ""
             }
            },
            "type": "parcoords"
           }
          ],
          "pie": [
           {
            "automargin": true,
            "type": "pie"
           }
          ],
          "scatter": [
           {
            "fillpattern": {
             "fillmode": "overlay",
             "size": 10,
             "solidity": 0.2
            },
            "type": "scatter"
           }
          ],
          "scatter3d": [
           {
            "line": {
             "colorbar": {
              "outlinewidth": 0,
              "ticks": ""
             }
            },
            "marker": {
             "colorbar": {
              "outlinewidth": 0,
              "ticks": ""
             }
            },
            "type": "scatter3d"
           }
          ],
          "scattercarpet": [
           {
            "marker": {
             "colorbar": {
              "outlinewidth": 0,
              "ticks": ""
             }
            },
            "type": "scattercarpet"
           }
          ],
          "scattergeo": [
           {
            "marker": {
             "colorbar": {
              "outlinewidth": 0,
              "ticks": ""
             }
            },
            "type": "scattergeo"
           }
          ],
          "scattergl": [
           {
            "marker": {
             "colorbar": {
              "outlinewidth": 0,
              "ticks": ""
             }
            },
            "type": "scattergl"
           }
          ],
          "scattermapbox": [
           {
            "marker": {
             "colorbar": {
              "outlinewidth": 0,
              "ticks": ""
             }
            },
            "type": "scattermapbox"
           }
          ],
          "scatterpolar": [
           {
            "marker": {
             "colorbar": {
              "outlinewidth": 0,
              "ticks": ""
             }
            },
            "type": "scatterpolar"
           }
          ],
          "scatterpolargl": [
           {
            "marker": {
             "colorbar": {
              "outlinewidth": 0,
              "ticks": ""
             }
            },
            "type": "scatterpolargl"
           }
          ],
          "scatterternary": [
           {
            "marker": {
             "colorbar": {
              "outlinewidth": 0,
              "ticks": ""
             }
            },
            "type": "scatterternary"
           }
          ],
          "surface": [
           {
            "colorbar": {
             "outlinewidth": 0,
             "ticks": ""
            },
            "colorscale": [
             [
              0,
              "#0d0887"
             ],
             [
              0.1111111111111111,
              "#46039f"
             ],
             [
              0.2222222222222222,
              "#7201a8"
             ],
             [
              0.3333333333333333,
              "#9c179e"
             ],
             [
              0.4444444444444444,
              "#bd3786"
             ],
             [
              0.5555555555555556,
              "#d8576b"
             ],
             [
              0.6666666666666666,
              "#ed7953"
             ],
             [
              0.7777777777777778,
              "#fb9f3a"
             ],
             [
              0.8888888888888888,
              "#fdca26"
             ],
             [
              1,
              "#f0f921"
             ]
            ],
            "type": "surface"
           }
          ],
          "table": [
           {
            "cells": {
             "fill": {
              "color": "#EBF0F8"
             },
             "line": {
              "color": "white"
             }
            },
            "header": {
             "fill": {
              "color": "#C8D4E3"
             },
             "line": {
              "color": "white"
             }
            },
            "type": "table"
           }
          ]
         },
         "layout": {
          "annotationdefaults": {
           "arrowcolor": "#2a3f5f",
           "arrowhead": 0,
           "arrowwidth": 1
          },
          "autotypenumbers": "strict",
          "coloraxis": {
           "colorbar": {
            "outlinewidth": 0,
            "ticks": ""
           }
          },
          "colorscale": {
           "diverging": [
            [
             0,
             "#8e0152"
            ],
            [
             0.1,
             "#c51b7d"
            ],
            [
             0.2,
             "#de77ae"
            ],
            [
             0.3,
             "#f1b6da"
            ],
            [
             0.4,
             "#fde0ef"
            ],
            [
             0.5,
             "#f7f7f7"
            ],
            [
             0.6,
             "#e6f5d0"
            ],
            [
             0.7,
             "#b8e186"
            ],
            [
             0.8,
             "#7fbc41"
            ],
            [
             0.9,
             "#4d9221"
            ],
            [
             1,
             "#276419"
            ]
           ],
           "sequential": [
            [
             0,
             "#0d0887"
            ],
            [
             0.1111111111111111,
             "#46039f"
            ],
            [
             0.2222222222222222,
             "#7201a8"
            ],
            [
             0.3333333333333333,
             "#9c179e"
            ],
            [
             0.4444444444444444,
             "#bd3786"
            ],
            [
             0.5555555555555556,
             "#d8576b"
            ],
            [
             0.6666666666666666,
             "#ed7953"
            ],
            [
             0.7777777777777778,
             "#fb9f3a"
            ],
            [
             0.8888888888888888,
             "#fdca26"
            ],
            [
             1,
             "#f0f921"
            ]
           ],
           "sequentialminus": [
            [
             0,
             "#0d0887"
            ],
            [
             0.1111111111111111,
             "#46039f"
            ],
            [
             0.2222222222222222,
             "#7201a8"
            ],
            [
             0.3333333333333333,
             "#9c179e"
            ],
            [
             0.4444444444444444,
             "#bd3786"
            ],
            [
             0.5555555555555556,
             "#d8576b"
            ],
            [
             0.6666666666666666,
             "#ed7953"
            ],
            [
             0.7777777777777778,
             "#fb9f3a"
            ],
            [
             0.8888888888888888,
             "#fdca26"
            ],
            [
             1,
             "#f0f921"
            ]
           ]
          },
          "colorway": [
           "#636efa",
           "#EF553B",
           "#00cc96",
           "#ab63fa",
           "#FFA15A",
           "#19d3f3",
           "#FF6692",
           "#B6E880",
           "#FF97FF",
           "#FECB52"
          ],
          "font": {
           "color": "#2a3f5f"
          },
          "geo": {
           "bgcolor": "white",
           "lakecolor": "white",
           "landcolor": "#E5ECF6",
           "showlakes": true,
           "showland": true,
           "subunitcolor": "white"
          },
          "hoverlabel": {
           "align": "left"
          },
          "hovermode": "closest",
          "mapbox": {
           "style": "light"
          },
          "paper_bgcolor": "white",
          "plot_bgcolor": "#E5ECF6",
          "polar": {
           "angularaxis": {
            "gridcolor": "white",
            "linecolor": "white",
            "ticks": ""
           },
           "bgcolor": "#E5ECF6",
           "radialaxis": {
            "gridcolor": "white",
            "linecolor": "white",
            "ticks": ""
           }
          },
          "scene": {
           "xaxis": {
            "backgroundcolor": "#E5ECF6",
            "gridcolor": "white",
            "gridwidth": 2,
            "linecolor": "white",
            "showbackground": true,
            "ticks": "",
            "zerolinecolor": "white"
           },
           "yaxis": {
            "backgroundcolor": "#E5ECF6",
            "gridcolor": "white",
            "gridwidth": 2,
            "linecolor": "white",
            "showbackground": true,
            "ticks": "",
            "zerolinecolor": "white"
           },
           "zaxis": {
            "backgroundcolor": "#E5ECF6",
            "gridcolor": "white",
            "gridwidth": 2,
            "linecolor": "white",
            "showbackground": true,
            "ticks": "",
            "zerolinecolor": "white"
           }
          },
          "shapedefaults": {
           "line": {
            "color": "#2a3f5f"
           }
          },
          "ternary": {
           "aaxis": {
            "gridcolor": "white",
            "linecolor": "white",
            "ticks": ""
           },
           "baxis": {
            "gridcolor": "white",
            "linecolor": "white",
            "ticks": ""
           },
           "bgcolor": "#E5ECF6",
           "caxis": {
            "gridcolor": "white",
            "linecolor": "white",
            "ticks": ""
           }
          },
          "title": {
           "x": 0.05
          },
          "xaxis": {
           "automargin": true,
           "gridcolor": "white",
           "linecolor": "white",
           "ticks": "",
           "title": {
            "standoff": 15
           },
           "zerolinecolor": "white",
           "zerolinewidth": 2
          },
          "yaxis": {
           "automargin": true,
           "gridcolor": "white",
           "linecolor": "white",
           "ticks": "",
           "title": {
            "standoff": 15
           },
           "zerolinecolor": "white",
           "zerolinewidth": 2
          }
         }
        },
        "title": {
         "font": {
          "color": "Black",
          "size": 22
         },
         "text": "<b>Similarity Matrix</b>",
         "x": 0.55,
         "xanchor": "center",
         "y": 0.95,
         "yanchor": "top"
        },
        "width": 800,
        "xaxis": {
         "anchor": "y",
         "constrain": "domain",
         "domain": [
          0,
          1
         ],
         "scaleanchor": "y"
        },
        "yaxis": {
         "anchor": "x",
         "autorange": "reversed",
         "constrain": "domain",
         "domain": [
          0,
          1
         ]
        }
       }
      }
     },
     "metadata": {},
     "output_type": "display_data"
    }
   ],
   "source": [
    "model.visualize_heatmap(top_n_topics=10)"
   ]
  },
  {
   "cell_type": "code",
   "execution_count": null,
   "metadata": {},
   "outputs": [],
   "source": []
  },
  {
   "cell_type": "code",
   "execution_count": null,
   "metadata": {},
   "outputs": [],
   "source": []
  }
 ],
 "metadata": {
  "kernelspec": {
   "display_name": "nlp_p310",
   "language": "python",
   "name": "python3"
  },
  "language_info": {
   "codemirror_mode": {
    "name": "ipython",
    "version": 3
   },
   "file_extension": ".py",
   "mimetype": "text/x-python",
   "name": "python",
   "nbconvert_exporter": "python",
   "pygments_lexer": "ipython3",
   "version": "3.10.9"
  }
 },
 "nbformat": 4,
 "nbformat_minor": 2
}
