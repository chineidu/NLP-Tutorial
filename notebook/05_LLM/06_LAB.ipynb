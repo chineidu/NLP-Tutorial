{
 "cells": [
  {
   "cell_type": "markdown",
   "metadata": {},
   "source": [
    "# Lab\n",
    "\n",
    "```text\n",
    "- Create a chatbot\n",
    "```"
   ]
  },
  {
   "cell_type": "code",
   "execution_count": 1,
   "metadata": {},
   "outputs": [],
   "source": [
    "# Built-in library\n",
    "import itertools\n",
    "import re\n",
    "import json\n",
    "from typing import Any, Dict, List, Optional, Union\n",
    "import logging\n",
    "import warnings\n",
    "\n",
    "# Standard imports\n",
    "import numpy as np\n",
    "from pprint import pprint\n",
    "import pandas as pd\n",
    "\n",
    "# Visualization\n",
    "import matplotlib.pyplot as plt\n",
    "\n",
    "\n",
    "# pandas settings\n",
    "pd.options.display.max_rows = 1_000\n",
    "pd.options.display.max_columns = 1_000\n",
    "pd.options.display.max_colwidth = 600\n",
    "\n",
    "warnings.filterwarnings(\"ignore\")\n",
    "\n",
    "# Black code formatter (Optional)\n",
    "%load_ext lab_black\n",
    "# auto reload imports\n",
    "%load_ext autoreload\n",
    "%autoreload 2"
   ]
  },
  {
   "cell_type": "raw",
   "metadata": {},
   "source": [
    "import os\n",
    "import openai\n",
    "\n",
    "\n",
    "from dotenv import load_dotenv, find_dotenv\n",
    "\n",
    "_ = load_dotenv(find_dotenv())  # read local .env file"
   ]
  },
  {
   "cell_type": "markdown",
   "metadata": {},
   "source": [
    "### Steps\n",
    "\n",
    "```text\n",
    "- Load data\n",
    "- Split data\n",
    "- Store the data (i.e. embeddings).\n",
    "- Retrieve the data.\n",
    "- Add memory\n",
    "- Engineer prompt template\n",
    "```\n",
    "\n",
    "<br>\n",
    "\n",
    "\n",
    "```sh\n",
    "pip install jq\n",
    "```"
   ]
  },
  {
   "cell_type": "code",
   "execution_count": 3,
   "metadata": {},
   "outputs": [],
   "source": [
    "fp = \"../../data/res.json\"\n",
    "\n",
    "with open(fp, \"r\") as f:\n",
    "    json_data = json.load(f)"
   ]
  },
  {
   "cell_type": "code",
   "execution_count": 4,
   "metadata": {},
   "outputs": [
    {
     "name": "stdout",
     "output_type": "stream",
     "text": [
      "{'data': {'behaviouralAnalysis': {'accountSweep': 'No',\n",
      "                                  'gamblingRate': 0,\n",
      "                                  'inflowOutflowRate': 'Negative Cash Flow',\n",
      "                                  'loanAmount': 74975,\n",
      "                                  'loanInflowRate': 0.29,\n",
      "                                  'loanRepaymentInflowRate': 0.22,\n",
      "                                  'loanRepayments': 58073.03,\n",
      "                                  'topIncomingTransferAccount': '08165850038',\n",
      "                                  'topTransferRecipientAccount': 'Faith '\n",
      "                                                                 'Oluwaseyi'},\n",
      "          'cashFlowAnalysis': {'accountActivity': 0.44,\n",
      "                               'averageBalance': 8954.79,\n",
      "                               'averageCredits': 10469.456400000001,\n",
      "                               'averageDebits': 3224.3595121951216,\n",
      "                               'averageMonthlyCredit': [{'amount': 0.71,\n",
      "                                                         'month': '2022-02'},\n",
      "                                                        {'amount': 10061.11,\n",
      "                                                         'month': '2022-03'},\n",
      "                                                        {'amount': 12947.14,\n",
      "                                                         'month': '2022-04'},\n",
      "                                                        {'amount': 11507.86,\n",
      "                                                         'month': '2022-05'}],\n",
      "                               'averageMonthlyDebit': [{'amount': 5705.34,\n",
      "                                                        'month': '2022-04'},\n",
      "                                                       {'amount': 5401.95,\n",
      "                                                        'month': '2022-05'},\n",
      "                                                       {'amount': 383.19,\n",
      "                                                        'month': '2022-02'},\n",
      "                                                       {'amount': 1599.84,\n",
      "                                                        'month': '2022-03'}],\n",
      "                               'closingBalance': 404.27,\n",
      "                               'emiConfidenceScore': 0.12,\n",
      "                               'firstDay': '2022-02-06',\n",
      "                               'lastDay': '2022-05-06',\n",
      "                               'maxEmiEligibility': 2898,\n",
      "                               'monthPeriod': 'February - May',\n",
      "                               'netAverageMonthlyEarnings': -52266.03999999999,\n",
      "                               'noOfTransactingMonths': 4,\n",
      "                               'totalCreditTurnover': 261736.41,\n",
      "                               'totalDebitTurnover': 264397.48,\n",
      "                               'totalMonthlyCredit': [{'amount': 1.41,\n",
      "                                                       'month': '2022-02'},\n",
      "                                                      {'amount': 90550,\n",
      "                                                       'month': '2022-03'},\n",
      "                                                      {'amount': 90630,\n",
      "                                                       'month': '2022-04'},\n",
      "                                                      {'amount': 80555,\n",
      "                                                       'month': '2022-05'}],\n",
      "                               'totalMonthlyDebit': [{'amount': 114106.87,\n",
      "                                                      'month': '2022-04'},\n",
      "                                                     {'amount': 86431.17,\n",
      "                                                      'month': '2022-05'},\n",
      "                                                     {'amount': 3065.48,\n",
      "                                                      'month': '2022-02'},\n",
      "                                                     {'amount': 60793.96,\n",
      "                                                      'month': '2022-03'}],\n",
      "                               'yearInStatement': '2022'},\n",
      "          'country': 'Nigeria',\n",
      "          'currency': 'NGN',\n",
      "          'incomeAnalysis': {'averageOtherIncome': 0,\n",
      "                             'averageSalary': 13833.33,\n",
      "                             'confidenceIntervalonSalaryDetection': 0.86,\n",
      "                             'expectedSalaryDay': 21,\n",
      "                             'gigWorker': 'No',\n",
      "                             'lastSalaryDate': '2022-05-04',\n",
      "                             'medianIncome': 14000,\n",
      "                             'numberOtherIncomePayments': 0,\n",
      "                             'numberSalaryPayments': 3,\n",
      "                             'salaryEarner': 'Yes',\n",
      "                             'salaryFrequency': '1'},\n",
      "          'spendAnalysis': {'averageMonthlyExpenses': 66099.37,\n",
      "                            'averageRecurringExpense': 30626.92,\n",
      "                            'expenseCategories': [{'key': 'bills', 'value': 0},\n",
      "                                                  {'key': 'entertainment',\n",
      "                                                   'value': 0},\n",
      "                                                  {'key': 'savingsAndInvestments',\n",
      "                                                   'value': 0},\n",
      "                                                  {'key': 'gambling',\n",
      "                                                   'value': 0},\n",
      "                                                  {'key': 'airtime',\n",
      "                                                   'value': 1178.21},\n",
      "                                                  {'key': 'bankCharges',\n",
      "                                                   'value': 2558.33},\n",
      "                                                  {'key': 'chequeWithdrawal',\n",
      "                                                   'value': 0},\n",
      "                                                  {'key': 'cashWithdrawal',\n",
      "                                                   'value': 2100},\n",
      "                                                  {'key': 'shopping',\n",
      "                                                   'value': 0},\n",
      "                                                  {'key': 'eatingOut',\n",
      "                                                   'value': 0}],\n",
      "                            'expenseChannels': [{'key': 'atmSpend',\n",
      "                                                 'value': 1000},\n",
      "                                                {'key': 'webSpend',\n",
      "                                                 'value': 29571.84},\n",
      "                                                {'key': 'posSpend',\n",
      "                                                 'value': 29571.84},\n",
      "                                                {'key': 'ussdTransactions',\n",
      "                                                 'value': 2804.14},\n",
      "                                                {'key': 'mobileSpend',\n",
      "                                                 'value': 0},\n",
      "                                                {'key': 'spendOnTransfers',\n",
      "                                                 'value': 39393.01},\n",
      "                                                {'key': 'internationalTransactionsSpend',\n",
      "                                                 'value': 0}],\n",
      "                            'hasRecurringExpense': 'Yes'},\n",
      "          'transactionPatternAnalysis': {'MAWWZeroBalanceInAccount': {'month': 'February',\n",
      "                                                                      'week_of_month': 8},\n",
      "                                         'NODWBalanceLess': {'amount': 5000,\n",
      "                                                             'count': 24},\n",
      "                                         'NODWBalanceLess5000': 24,\n",
      "                                         'highestMAWOCredit': {'month': 'April',\n",
      "                                                               'week_of_month': 4},\n",
      "                                         'highestMAWODebit': {'month': 'May',\n",
      "                                                              'week_of_month': 2},\n",
      "                                         'lastDateOfCredit': '2022-05-06',\n",
      "                                         'lastDateOfDebit': '2022-05-06',\n",
      "                                         'mostFrequentBalanceRange': '<10000',\n",
      "                                         'mostFrequentTransactionRange': '<10000',\n",
      "                                         'recurringExpense': [{'amount': 10026.88,\n",
      "                                                               'description': 'NEXTGENUSR '\n",
      "                                                                              'TRF/Payment '\n",
      "                                                                              'of '\n",
      "                                                                              'money/FRM '\n",
      "                                                                              'FAITH '\n",
      "                                                                              'OLUWASEYI '\n",
      "                                                                              'OLODU '\n",
      "                                                                              'TO  '\n",
      "                                                                              'AMEENAH '\n",
      "                                                                              'OYINKANSOLA '\n",
      "                                                                              'OYESOJI- '\n",
      "                                                                              '033'},\n",
      "                                                              {'amount': 2010.75,\n",
      "                                                               'description': 'NEXTGENUSR '\n",
      "                                                                              'TRF/From '\n",
      "                                                                              'Benson/FRM '\n",
      "                                                                              'FAITH '\n",
      "                                                                              'OLUWASEYI '\n",
      "                                                                              'OLODU '\n",
      "                                                                              'TO '\n",
      "                                                                              'CHINENYE '\n",
      "                                                                              'JENNIFER '\n",
      "                                                                              'MADU- '\n",
      "                                                                              '057'},\n",
      "                                                              {'amount': 2500,\n",
      "                                                               'description': 'FLEXSWITCH '\n",
      "                                                                              'WT|KENNETH '\n",
      "                                                                              'UGOCHI '\n",
      "                                                                              'UNACHI '\n",
      "                                                                              'ABAKALIKI '\n",
      "                                                                              'NG'}],\n",
      "                                         'transactionRanges': [{'count': 22,\n",
      "                                                                'max': 100000,\n",
      "                                                                'min': 10000},\n",
      "                                                               {'count': 0,\n",
      "                                                                'max': 500000,\n",
      "                                                                'min': 100000},\n",
      "                                                               {'count': 85,\n",
      "                                                                'max': 10000,\n",
      "                                                                'min': None},\n",
      "                                                               {'count': 0,\n",
      "                                                                'max': None,\n",
      "                                                                'min': 500000}],\n",
      "                                         'transactionsBetween100000And500000': 0,\n",
      "                                         'transactionsBetween10000And100000': 22,\n",
      "                                         'transactionsGreater500000': 0,\n",
      "                                         'transactionsLess10000': 85}},\n",
      " 'status': 'success'}\n"
     ]
    }
   ],
   "source": [
    "pprint(json_data)"
   ]
  },
  {
   "cell_type": "code",
   "execution_count": 18,
   "metadata": {},
   "outputs": [
    {
     "data": {
      "text/plain": [
       "2"
      ]
     },
     "execution_count": 18,
     "metadata": {},
     "output_type": "execute_result"
    }
   ],
   "source": [
    "from langchain.document_loaders import JSONLoader\n",
    "from langchain.vectorstores import Chroma\n",
    "from langchain.embeddings.openai import OpenAIEmbeddings\n",
    "from langchain.text_splitter import (\n",
    "    CharacterTextSplitter,\n",
    "    RecursiveCharacterTextSplitter,\n",
    ")\n",
    "\n",
    "CHUNK_SIZE = 2_000\n",
    "CHUNK_OVERLAP = 50\n",
    "\n",
    "# Load JSON data\n",
    "loader = JSONLoader(\n",
    "    file_path=fp,\n",
    "    jq_schema=\".data\",\n",
    "    text_content=False,\n",
    ")\n",
    "\n",
    "data = loader.load()\n",
    "\n",
    "# Embedding model\n",
    "embedding = OpenAIEmbeddings()\n",
    "persist_directory = \"../../data/doc_db/\"\n",
    "\n",
    "# Split the doc(s)\n",
    "text_splitter = RecursiveCharacterTextSplitter(\n",
    "    chunk_size=CHUNK_SIZE,\n",
    "    chunk_overlap=CHUNK_OVERLAP,\n",
    "    separators=[\"\\n\\n\", \"\\n\", r\"\\{\\}\", \"\"],\n",
    ")\n",
    "splits = text_splitter.split_documents(documents=data)\n",
    "len(splits)"
   ]
  },
  {
   "cell_type": "code",
   "execution_count": 19,
   "metadata": {},
   "outputs": [
    {
     "name": "stdout",
     "output_type": "stream",
     "text": [
      "2\n"
     ]
    }
   ],
   "source": [
    "# Create vectorized db\n",
    "vectordb = Chroma.from_documents(\n",
    "    documents=splits,\n",
    "    embedding=embedding,\n",
    "    persist_directory=persist_directory,\n",
    ")\n",
    "\n",
    "# Remove previously stored data\n",
    "!rm -rf ../../data/doc_db/\n",
    "\n",
    "# Save data\n",
    "vectordb.persist()\n",
    "\n",
    "# Number of docs\n",
    "print(vectordb._collection.count())"
   ]
  },
  {
   "cell_type": "code",
   "execution_count": 20,
   "metadata": {},
   "outputs": [],
   "source": [
    "from langchain.callbacks import get_openai_callback\n",
    "\n",
    "\n",
    "def count_tokens(chain: Any, query:str) -> Any:\n",
    "    \"\"\"This is used to count the number of tokens sent to the LLM.\"\"\"\n",
    "    with get_openai_callback() as cb:\n",
    "        result = chain.run(query)\n",
    "        print(f\"Spent a total of {cb.total_tokens!r} tokens\")\n",
    "\n",
    "    return result"
   ]
  },
  {
   "cell_type": "code",
   "execution_count": 21,
   "metadata": {},
   "outputs": [],
   "source": [
    "from langchain.memory import (\n",
    "    ConversationBufferWindowMemory,\n",
    "    ConversationTokenBufferMemory,\n",
    ")\n",
    "from langchain.chains import RetrievalQA\n",
    "from langchain.chat_models import ChatOpenAI\n",
    "\n",
    "\n",
    "llm = ChatOpenAI(temperature=0)\n",
    "\n",
    "# Create memory\n",
    "memory = ConversationBufferWindowMemory(\n",
    "    k=5,  # window size\n",
    "    input_key=\"question\",\n",
    "    memory_key=\"chat_history\",\n",
    ")\n",
    "\n",
    "retriever = vectordb.as_retriever()"
   ]
  },
  {
   "cell_type": "code",
   "execution_count": 22,
   "metadata": {},
   "outputs": [
    {
     "name": "stderr",
     "output_type": "stream",
     "text": [
      "Number of requested results 4 is greater than number of elements in index 2, updating n_results = 2\n"
     ]
    },
    {
     "data": {
      "text/plain": [
       "{'query': 'What is the maxEMIEligibility of the customer?',\n",
       " 'result': 'The maximum EMI eligibility of the customer is 2898.'}"
      ]
     },
     "execution_count": 22,
     "metadata": {},
     "output_type": "execute_result"
    }
   ],
   "source": [
    "# Init Chatbot\n",
    "decide_bot = RetrievalQA.from_chain_type(\n",
    "    llm=llm,\n",
    "    chain_type=\"stuff\",\n",
    "    retriever=retriever,  # retrieve data from data source\n",
    "    verbose=False,\n",
    "    chain_type_kwargs={\n",
    "        \"document_separator\": \"<<<<>>>>>\",\n",
    "        \"memory\": memory,\n",
    "    },\n",
    ")\n",
    "\n",
    "\n",
    "question = \"What is the maxEMIEligibility of the customer?\"\n",
    "# result = count_tokens(qa_bot, {\"query\": question})\n",
    "result = decide_bot({\"query\": question})\n",
    "\n",
    "result"
   ]
  },
  {
   "cell_type": "code",
   "execution_count": 25,
   "metadata": {},
   "outputs": [
    {
     "name": "stderr",
     "output_type": "stream",
     "text": [
      "Number of requested results 4 is greater than number of elements in index 2, updating n_results = 2\n"
     ]
    },
    {
     "data": {
      "text/plain": [
       "{'query': 'What is the average monthly debit?',\n",
       " 'result': 'The average monthly debit is as follows:\\n\\n- February: ₦3,065.48\\n- March: ₦1,599.84\\n- April: ₦5,705.34\\n- May: ₦5,401.95\\n\\nPlease note that these values are in Nigerian Naira (NGN).'}"
      ]
     },
     "execution_count": 25,
     "metadata": {},
     "output_type": "execute_result"
    }
   ],
   "source": [
    "question = \"What is the average monthly debit?\"\n",
    "result = decide_bot({\"query\": question})\n",
    "\n",
    "result"
   ]
  },
  {
   "cell_type": "code",
   "execution_count": 26,
   "metadata": {},
   "outputs": [
    {
     "name": "stderr",
     "output_type": "stream",
     "text": [
      "Number of requested results 4 is greater than number of elements in index 2, updating n_results = 2\n"
     ]
    },
    {
     "data": {
      "text/plain": [
       "{'query': 'What is the averageMonthlyDebit?',\n",
       " 'result': 'The averageMonthlyDebit is [{\"month\": \"2022-04\", \"amount\": 5705.34}, {\"month\": \"2022-05\", \"amount\": 5401.95}, {\"month\": \"2022-02\", \"amount\": 383.19}, {\"month\": \"2022-03\", \"amount\": 1599.84}].'}"
      ]
     },
     "execution_count": 26,
     "metadata": {},
     "output_type": "execute_result"
    }
   ],
   "source": [
    "question = \"What is the averageMonthlyDebit?\"  # It's better to use the exact variable names\n",
    "result = decide_bot({\"query\": question})\n",
    "\n",
    "result\n"
   ]
  },
  {
   "cell_type": "code",
   "execution_count": 27,
   "metadata": {},
   "outputs": [
    {
     "name": "stderr",
     "output_type": "stream",
     "text": [
      "Number of requested results 4 is greater than number of elements in index 2, updating n_results = 2\n"
     ]
    },
    {
     "data": {
      "text/plain": [
       "{'query': 'What is the customer ID and is the customer a salary earner?',\n",
       " 'result': 'The customer ID is not provided in the given context. However, based on the information provided, the customer is a salary earner.'}"
      ]
     },
     "execution_count": 27,
     "metadata": {},
     "output_type": "execute_result"
    }
   ],
   "source": [
    "question = \"What is the customer ID and is the customer a salary earner?\"\n",
    "result = decide_bot({\"query\": question})\n",
    "\n",
    "result"
   ]
  },
  {
   "cell_type": "code",
   "execution_count": 28,
   "metadata": {},
   "outputs": [
    {
     "name": "stderr",
     "output_type": "stream",
     "text": [
      "Number of requested results 4 is greater than number of elements in index 2, updating n_results = 2\n"
     ]
    },
    {
     "data": {
      "text/plain": [
       "{'query': 'Are there any recurringExpenses in the transaction data? If yes, list them',\n",
       " 'result': 'Yes, there are recurring expenses in the transaction data. The recurring expenses are as follows:\\n\\n1. Amount: 10026.88, Description: NEXTGENUSR TRF/Payment of money/FRM FAITH OLUWASEYI OLODU TO AMEENAH OYINKANSOLA OYESOJI- 033\\n2. Amount: 2010.75, Description: NEXTGENUSR TRF/From Benson/FRM FAITH OLUWASEYI OLODU TO CHINENYE JENNIFER MADU- 057\\n3. Amount: 2500, Description: FLEXSWITCH WT|KENNETH UGOCHI UNACHI ABAKALIKI NG'}"
      ]
     },
     "execution_count": 28,
     "metadata": {},
     "output_type": "execute_result"
    }
   ],
   "source": [
    "question = \"Are there any recurringExpenses in the transaction data? If yes, list them\"\n",
    "result = decide_bot({\"query\": question})\n",
    "\n",
    "result"
   ]
  },
  {
   "cell_type": "code",
   "execution_count": 29,
   "metadata": {},
   "outputs": [
    {
     "name": "stderr",
     "output_type": "stream",
     "text": [
      "Number of requested results 4 is greater than number of elements in index 2, updating n_results = 2\n"
     ]
    },
    {
     "data": {
      "text/plain": [
       "{'query': 'Which month had the highest totalMonthlyDebit and what was the amount?',\n",
       " 'result': 'The month with the highest totalMonthlyDebit was April, and the amount was 114106.87 NGN.'}"
      ]
     },
     "execution_count": 29,
     "metadata": {},
     "output_type": "execute_result"
    }
   ],
   "source": [
    "question = \"Which month had the highest totalMonthlyDebit and what was the amount?\"\n",
    "result = decide_bot({\"query\": question})\n",
    "\n",
    "result"
   ]
  },
  {
   "cell_type": "code",
   "execution_count": 30,
   "metadata": {},
   "outputs": [
    {
     "name": "stdout",
     "output_type": "stream",
     "text": [
      "{'chat_history': 'Human: What is the average monthly debit?\\n'\n",
      "                 'AI: The average monthly debit is as follows:\\n'\n",
      "                 '\\n'\n",
      "                 '- February: ₦3,065.48\\n'\n",
      "                 '- March: ₦1,599.84\\n'\n",
      "                 '- April: ₦5,705.34\\n'\n",
      "                 '- May: ₦5,401.95\\n'\n",
      "                 '\\n'\n",
      "                 'Please note that these values are in Nigerian Naira (NGN).\\n'\n",
      "                 'Human: What is the averageMonthlyDebit?\\n'\n",
      "                 'AI: The averageMonthlyDebit is [{\"month\": \"2022-04\", '\n",
      "                 '\"amount\": 5705.34}, {\"month\": \"2022-05\", \"amount\": 5401.95}, '\n",
      "                 '{\"month\": \"2022-02\", \"amount\": 383.19}, {\"month\": \"2022-03\", '\n",
      "                 '\"amount\": 1599.84}].\\n'\n",
      "                 'Human: What is the customer ID and is the customer a salary '\n",
      "                 'earner?\\n'\n",
      "                 'AI: The customer ID is not provided in the given context. '\n",
      "                 'However, based on the information provided, the customer is '\n",
      "                 'a salary earner.\\n'\n",
      "                 'Human: Are there any recurringExpenses in the transaction '\n",
      "                 'data? If yes, list them\\n'\n",
      "                 'AI: Yes, there are recurring expenses in the transaction '\n",
      "                 'data. The recurring expenses are as follows:\\n'\n",
      "                 '\\n'\n",
      "                 '1. Amount: 10026.88, Description: NEXTGENUSR TRF/Payment of '\n",
      "                 'money/FRM FAITH OLUWASEYI OLODU TO AMEENAH OYINKANSOLA '\n",
      "                 'OYESOJI- 033\\n'\n",
      "                 '2. Amount: 2010.75, Description: NEXTGENUSR TRF/From '\n",
      "                 'Benson/FRM FAITH OLUWASEYI OLODU TO CHINENYE JENNIFER MADU- '\n",
      "                 '057\\n'\n",
      "                 '3. Amount: 2500, Description: FLEXSWITCH WT|KENNETH UGOCHI '\n",
      "                 'UNACHI ABAKALIKI NG\\n'\n",
      "                 'Human: Which month had the highest totalMonthlyDebit and '\n",
      "                 'what was the amount?\\n'\n",
      "                 'AI: The month with the highest totalMonthlyDebit was April, '\n",
      "                 'and the amount was 114106.87 NGN.'}\n"
     ]
    }
   ],
   "source": [
    "# Most recent chat history.\n",
    "pprint(memory.load_memory_variables({}))"
   ]
  },
  {
   "cell_type": "code",
   "execution_count": null,
   "metadata": {},
   "outputs": [],
   "source": []
  },
  {
   "cell_type": "code",
   "execution_count": null,
   "metadata": {},
   "outputs": [],
   "source": []
  }
 ],
 "metadata": {
  "kernelspec": {
   "display_name": "nlp_p310",
   "language": "python",
   "name": "python3"
  },
  "language_info": {
   "codemirror_mode": {
    "name": "ipython",
    "version": 3
   },
   "file_extension": ".py",
   "mimetype": "text/x-python",
   "name": "python",
   "nbconvert_exporter": "python",
   "pygments_lexer": "ipython3",
   "version": "3.10.9"
  },
  "orig_nbformat": 4
 },
 "nbformat": 4,
 "nbformat_minor": 2
}
